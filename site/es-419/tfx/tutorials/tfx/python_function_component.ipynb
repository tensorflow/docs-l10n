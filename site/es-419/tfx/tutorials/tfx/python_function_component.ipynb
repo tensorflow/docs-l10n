{
  "cells": [
    {
      "cell_type": "markdown",
      "metadata": {
        "id": "wdeKOEkv1Fe8"
      },
      "source": [
        "##### Copyright 2021 The TensorFlow Authors."
      ]
    },
    {
      "cell_type": "code",
      "execution_count": null,
      "metadata": {
        "cellView": "form",
        "id": "SpNWyqewk8fE"
      },
      "outputs": [],
      "source": [
        "#@title Licensed under the Apache License, Version 2.0 (the \"License\");\n",
        "# you may not use this file except in compliance with the License.\n",
        "# You may obtain a copy of the License at\n",
        "#\n",
        "# https://www.apache.org/licenses/LICENSE-2.0\n",
        "#\n",
        "# Unless required by applicable law or agreed to in writing, software\n",
        "# distributed under the License is distributed on an \"AS IS\" BASIS,\n",
        "# WITHOUT WARRANTIES OR CONDITIONS OF ANY KIND, either express or implied.\n",
        "# See the License for the specific language governing permissions and\n",
        "# limitations under the License."
      ]
    },
    {
      "cell_type": "markdown",
      "metadata": {
        "id": "hPxSVqcvqPHO"
      },
      "source": [
        "# Tutorial de componentes de funciones de Python para TFX\n"
      ]
    },
    {
      "cell_type": "markdown",
      "metadata": {
        "id": "WdRDkO2wQHUw"
      },
      "source": [
        "Nota: Recomendamos ejecutar este tutorial en un bloc de notas de Colab, ¡no es necesario configurarlo! Simplemente haga clic en \"Ejecutar en Google Colab\".\n",
        "\n",
        "<div class=\"devsite-table-wrapper\"><table class=\"tfo-notebook-buttons\" align=\"left\">\n",
        "<td><a target=\"_blank\" href=\"https://www.tensorflow.org/tfx/tutorials/tfx/python_function_component\"><img src=\"https://www.tensorflow.org/images/tf_logo_32px.png\">Ver en TensorFlow.org</a></td>\n",
        "<td><a target=\"_blank\" href=\"https://colab.research.google.com/github/tensorflow/docs-l10n/blob/master/site/es-419/tfx/tutorials/tfx/python_function_component.ipynb\"><img src=\"https://www.tensorflow.org/images/colab_logo_32px.png\">Ejecutar en Google Colab</a></td>\n",
        "<td>     <a target=\"_blank\" href=\"https://github.com/tensorflow/docs-l10n/blob/master/site/es-419/tfx/tutorials/tfx/python_function_component.ipynb\"><img width=\"32px\" src=\"https://www.tensorflow.org/images/GitHub-Mark-32px.png\">Ver fuente en GitHub</a>\n",
        "</td>\n",
        "<td><a target=\"_blank\" href=\"https://storage.googleapis.com/tensorflow_docs/docs-l10n/site/es-419/tfx/tutorials/tfx/python_function_component.ipynb\"><img width=\"32px\" src=\"https://www.tensorflow.org/images/download_logo_32px.png\">Descargar el bloc de notas</a></td>\n",
        "</table></div>"
      ]
    },
    {
      "cell_type": "markdown",
      "metadata": {
        "id": "GkwEwr0FQKJW"
      },
      "source": [
        "Este bloc de notas contiene ejemplos sobre cómo crear y ejecutar componentes de funciones de Python dentro del InteractiveContext de TFX y en una canalización de TFX orquestada localmente.\n",
        "\n",
        "Para obtener más contexto e información, consulte la página de [componentes de funciones personalizadas de Python](https://www.tensorflow.org/tfx/guide/custom_function_component) en el sitio de documentación de TFX."
      ]
    },
    {
      "cell_type": "markdown",
      "metadata": {
        "id": "d-Av6cm0oBFV"
      },
      "source": [
        "## Preparación\n",
        "\n",
        "Primero instalaremos TFX e importaremos los módulos necesarios. TFX requiere Python 3."
      ]
    },
    {
      "cell_type": "markdown",
      "metadata": {
        "id": "fwZ0aXisoBFW"
      },
      "source": [
        "### Comprobación de la versión de Python del sistema\n"
      ]
    },
    {
      "cell_type": "code",
      "execution_count": null,
      "metadata": {
        "id": "PQ-QwavmqPHP"
      },
      "outputs": [],
      "source": [
        "import sys\n",
        "sys.version"
      ]
    },
    {
      "cell_type": "markdown",
      "metadata": {
        "id": "88XXV3_DQ_Nx"
      },
      "source": [
        "### Actualización de pip\n",
        "\n",
        "Para evitar actualizar Pip en un sistema cuando se ejecuta localmente, verifique que se esté ejecutando en Colab. Por supuesto, los sistemas locales se pueden actualizar por separado."
      ]
    },
    {
      "cell_type": "code",
      "execution_count": null,
      "metadata": {
        "id": "UHvIH-wORCuV"
      },
      "outputs": [],
      "source": [
        "try:\n",
        "  import colab\n",
        "  !pip install --upgrade pip\n",
        "except:\n",
        "  pass"
      ]
    },
    {
      "cell_type": "markdown",
      "metadata": {
        "id": "FDFSXMLLRGJC"
      },
      "source": [
        "### Instalación de TFX\n",
        "\n",
        "**Nota: En Google Colab, debido a las actualizaciones de paquetes, la primera vez que ejecuta esta celda debe reiniciar el tiempo de ejecución (Tiempo de ejecución &gt; Reiniciar tiempo de ejecución...).**"
      ]
    },
    {
      "cell_type": "code",
      "execution_count": null,
      "metadata": {
        "id": "wGpQOmYIVlSV"
      },
      "outputs": [],
      "source": [
        "!pip install tfx"
      ]
    },
    {
      "cell_type": "markdown",
      "metadata": {
        "id": "RxQ89gnRijuc"
      },
      "source": [
        "### Desinstalación de shapely\n",
        "\n",
        "TODO(b/263441833) Esta es una solución temporal para evitar un ImportError. En última instancia, debería solucionarse admitiendo una versión reciente de Bigquery, en lugar de desinstalar otras dependencias adicionales."
      ]
    },
    {
      "cell_type": "code",
      "execution_count": null,
      "metadata": {
        "id": "akSWlt-Bij9w"
      },
      "outputs": [],
      "source": [
        "!pip uninstall shapely -y"
      ]
    },
    {
      "cell_type": "markdown",
      "metadata": {
        "id": "hvXNj9a4VlSV"
      },
      "source": [
        "## ¿Reinició el tiempo de ejecución?\n",
        "\n",
        "Si está usando Google Colab, la primera vez que ejecute la celda anterior, debe reiniciar el tiempo de ejecución (Tiempo de ejecución &gt; Reiniciar tiempo de ejecución...). Esto se debe a la forma en que Colab carga los paquetes."
      ]
    },
    {
      "cell_type": "markdown",
      "metadata": {
        "id": "0v45llP5ReKx"
      },
      "source": [
        "### Importación de paquetes\n",
        "\n",
        "Importamos TFX y comprobamos su versión."
      ]
    },
    {
      "cell_type": "code",
      "execution_count": null,
      "metadata": {
        "id": "bRY0RFJ0VlSV"
      },
      "outputs": [],
      "source": [
        "# Check version\n",
        "from tfx import v1 as tfx\n",
        "tfx.__version__"
      ]
    },
    {
      "cell_type": "markdown",
      "metadata": {
        "id": "hvb0SspyqPH4"
      },
      "source": [
        "## Componentes personalizados de funciones de Python\n",
        "\n",
        "En esta sección, crearemos componentes a partir de funciones de Python. No trabajaremos con ningún problema real de aprendizaje automático: estas funciones simples solo se usan para ilustrar el proceso de desarrollo de componentes de funciones de Python.\n",
        "\n",
        "Consulte la [guía de componentes basados en funciones de Python](https://www.tensorflow.org/tfx/guide/custom_function_component) para acceder a más documentación al respecto."
      ]
    },
    {
      "cell_type": "markdown",
      "metadata": {
        "id": "mhYjn9Fj6mdo"
      },
      "source": [
        "### Cómo crear componentes personalizados de Python\n",
        "\n",
        "Para empezar, se escribe una función que genera algunos datos ficticios. Esto se escribe en su propio archivo de módulo de Python."
      ]
    },
    {
      "cell_type": "code",
      "execution_count": null,
      "metadata": {
        "id": "cHNtKTuiqPH4"
      },
      "outputs": [],
      "source": [
        "%%writefile my_generator.py\n",
        "\n",
        "import os\n",
        "import tensorflow as tf  # Used for writing files.\n",
        "\n",
        "from tfx import v1 as tfx\n",
        "\n",
        "# Non-public APIs, just for showcase.\n",
        "from tfx.types.experimental.simple_artifacts import Dataset\n",
        "\n",
        "@tfx.dsl.components.component\n",
        "def MyGenerator(data: tfx.dsl.components.OutputArtifact[Dataset]):\n",
        "  \"\"\"Create a file with dummy data in the output artifact.\"\"\"\n",
        "  with tf.io.gfile.GFile(os.path.join(data.uri, 'data_file.txt'), 'w') as f:\n",
        "    f.write('Dummy data')\n",
        "\n",
        "  # Set metadata and ensure that it gets passed to downstream components.\n",
        "  data.set_string_custom_property('my_custom_field', 'my_custom_value')"
      ]
    },
    {
      "cell_type": "markdown",
      "metadata": {
        "id": "MtapXcbSqPH6"
      },
      "source": [
        "A continuación, se escribe un segundo componente que usa los datos ficticios producidos. Simplemente calcularemos el hash de los datos y los devolveremos."
      ]
    },
    {
      "cell_type": "code",
      "execution_count": null,
      "metadata": {
        "id": "27ZEf2xQqPH7"
      },
      "outputs": [],
      "source": [
        "%%writefile my_consumer.py\n",
        "\n",
        "import hashlib\n",
        "import os\n",
        "import tensorflow as tf\n",
        "\n",
        "from tfx import v1 as tfx\n",
        "\n",
        "# Non-public APIs, just for showcase.\n",
        "from tfx.types.experimental.simple_artifacts import Dataset\n",
        "from tfx.types.standard_artifacts import String\n",
        "\n",
        "@tfx.dsl.components.component\n",
        "def MyConsumer(data: tfx.dsl.components.InputArtifact[Dataset],\n",
        "               hash: tfx.dsl.components.OutputArtifact[String],\n",
        "               algorithm: tfx.dsl.components.Parameter[str] = 'sha256'):\n",
        "  \"\"\"Reads the contents of data and calculate.\"\"\"\n",
        "  with tf.io.gfile.GFile(\n",
        "      os.path.join(data.uri, 'data_file.txt'), 'r') as f:\n",
        "    contents = f.read()\n",
        "  h = hashlib.new(algorithm)\n",
        "  h.update(tf.compat.as_bytes(contents))\n",
        "  hash.value = h.hexdigest()\n",
        "\n",
        "  # Read a custom property from the input artifact and set to the output.\n",
        "  custom_value = data.get_string_custom_property('my_custom_field')\n",
        "  hash.set_string_custom_property('input_custom_field', custom_value)"
      ]
    },
    {
      "cell_type": "markdown",
      "metadata": {
        "id": "lIrGHQzFqPII"
      },
      "source": [
        "### Cómo ejecutar en el bloc de notas con InteractiveContext\n",
        "\n",
        "Ahora, demostraremos el uso de nuestros nuevos componentes en TFX InteractiveContext.\n",
        "\n",
        "Para obtener más información sobre lo que puede hacer con el componente InteractiveContext del bloc de notas TFX, consulte el [Tutorial del componente TFX Keras](https://www.tensorflow.org/tfx/tutorials/tfx/components_keras) del bloc de notas."
      ]
    },
    {
      "cell_type": "code",
      "execution_count": null,
      "metadata": {
        "id": "j43snQpRqPII"
      },
      "outputs": [],
      "source": [
        "from my_generator import MyGenerator\n",
        "from my_consumer import MyConsumer"
      ]
    },
    {
      "cell_type": "markdown",
      "metadata": {
        "id": "_1Rf6FCMSnbM"
      },
      "source": [
        "#### Cómo construir InteractiveContext"
      ]
    },
    {
      "cell_type": "code",
      "execution_count": null,
      "metadata": {
        "id": "dEXGvLLmKviI"
      },
      "outputs": [],
      "source": [
        "# Here, we create an InteractiveContext using default parameters. This will\n",
        "# use a temporary directory with an ephemeral ML Metadata database instance.\n",
        "# To use your own pipeline root or database, the optional properties\n",
        "# `pipeline_root` and `metadata_connection_config` may be passed to\n",
        "# InteractiveContext. Calls to InteractiveContext are no-ops outside of the\n",
        "# notebook.\n",
        "from tfx.orchestration.experimental.interactive.interactive_context import InteractiveContext\n",
        "context = InteractiveContext()"
      ]
    },
    {
      "cell_type": "markdown",
      "metadata": {
        "id": "XxXVtZzdTWg_"
      },
      "source": [
        "#### Cómo ejecutar el componente de forma interactiva con `context.run()`\n",
        "\n",
        "A continuación, ejecutamos nuestros componentes de forma interactiva dentro del bloc de notas con ayuda de `context.run()`. Nuestro componente de consumo usa las salidas del componente generador."
      ]
    },
    {
      "cell_type": "code",
      "execution_count": null,
      "metadata": {
        "id": "kfNmI5qULlSA"
      },
      "outputs": [],
      "source": [
        "generator = MyGenerator()\n",
        "context.run(generator)"
      ]
    },
    {
      "cell_type": "code",
      "execution_count": null,
      "metadata": {
        "id": "cRxVZIfFLsL4"
      },
      "outputs": [],
      "source": [
        "consumer = MyConsumer(\n",
        "    data=generator.outputs['data'],\n",
        "    algorithm='md5')\n",
        "context.run(consumer)"
      ]
    },
    {
      "cell_type": "markdown",
      "metadata": {
        "id": "pO_Ggc4QTo0B"
      },
      "source": [
        "Tras la ejecución, podemos inspeccionar el contenido del artefacto de salida \"hash\" del componente consumidor en el disco."
      ]
    },
    {
      "cell_type": "code",
      "execution_count": null,
      "metadata": {
        "id": "h4P3Mx_CT0mP"
      },
      "outputs": [],
      "source": [
        "!tail -v {consumer.outputs['hash'].get()[0].uri}"
      ]
    },
    {
      "cell_type": "markdown",
      "metadata": {
        "id": "RRosvALKSWe0"
      },
      "source": [
        "¡Eso es todo! ¡Ya escribió y ejecutó sus propios componentes personalizados!"
      ]
    },
    {
      "cell_type": "markdown",
      "metadata": {
        "id": "uvXKtg17O6mF"
      },
      "source": [
        "### Cómo escribir una definición de canalización\n",
        "\n",
        "A continuación, crearemos una canalización con estos mismos componentes. Si bien el uso de `InteractiveContext` dentro de un bloc de notas funciona bien durante la experimentación, definir una canalización le permite implementar su canalización en ejecutores locales o remotos para usar en producción.\n",
        "\n",
        "Aquí, demostraremos el uso del LocalDagRunner cuando se ejecuta localmente en la máquina. Para la ejecución de producción, los ejecutores Airflow o Kubeflow podrían ser más adecuados."
      ]
    },
    {
      "cell_type": "markdown",
      "metadata": {
        "id": "ft9fbSpnU7C6"
      },
      "source": [
        "#### Cómo construir una canalización"
      ]
    },
    {
      "cell_type": "code",
      "execution_count": null,
      "metadata": {
        "id": "NpkQ805-LyJu"
      },
      "outputs": [],
      "source": [
        "import os\n",
        "import tempfile\n",
        "from tfx import v1 as tfx\n",
        "\n",
        "# Select a persistent TFX root directory to store your output artifacts.\n",
        "# For demonstration purposes only, we use a temporary directory.\n",
        "PIPELINE_ROOT = tempfile.mkdtemp()\n",
        "# Select a pipeline name so that multiple runs of the same logical pipeline\n",
        "# can be grouped.\n",
        "PIPELINE_NAME = \"function-based-pipeline\"\n",
        "# We use a ML Metadata configuration that uses a local SQLite database in\n",
        "# the pipeline root directory. Other backends for ML Metadata are available\n",
        "# for production usage.\n",
        "METADATA_CONNECTION_CONFIG = tfx.orchestration.metadata.sqlite_metadata_connection_config(\n",
        "    os.path.join(PIPELINE_ROOT, 'metadata.sqlite'))\n",
        "\n",
        "def function_based_pipeline():\n",
        "  # Here, we construct our generator and consumer components in the same way.\n",
        "  generator = MyGenerator()\n",
        "  consumer = MyConsumer(\n",
        "      data=generator.outputs['data'],\n",
        "      algorithm='md5')\n",
        "\n",
        "  return tfx.dsl.Pipeline(\n",
        "      pipeline_name=PIPELINE_NAME,\n",
        "      pipeline_root=PIPELINE_ROOT,\n",
        "      components=[generator, consumer],\n",
        "      metadata_connection_config=METADATA_CONNECTION_CONFIG)\n",
        "\n",
        "my_pipeline = function_based_pipeline()"
      ]
    },
    {
      "cell_type": "markdown",
      "metadata": {
        "id": "Mj-Z3cbFWPbK"
      },
      "source": [
        "#### Cómo ejecutar la canalización con `LocalDagRunner`"
      ]
    },
    {
      "cell_type": "code",
      "execution_count": null,
      "metadata": {
        "id": "PLtGO2PkMQbO"
      },
      "outputs": [],
      "source": [
        "tfx.orchestration.LocalDagRunner().run(my_pipeline)"
      ]
    },
    {
      "cell_type": "markdown",
      "metadata": {
        "id": "Ry4vU3mOWeN1"
      },
      "source": [
        "Podemos inspeccionar los artefactos de salida generados por la ejecución de esta canalización."
      ]
    },
    {
      "cell_type": "code",
      "execution_count": null,
      "metadata": {
        "id": "fyvYTsx8Mp1N"
      },
      "outputs": [],
      "source": [
        "!find {PIPELINE_ROOT}"
      ]
    },
    {
      "cell_type": "markdown",
      "metadata": {
        "id": "M4CsceadWqHp"
      },
      "source": [
        "¡Ahora ha escrito sus propios componentes personalizados y ha orquestado su ejecución en LocalDagRunner! Para conocer los próximos pasos a seguir, consulte tutoriales y guías adicionales en el [sitio web de TFX](https://www.tensorflow.org/tfx)."
      ]
    }
  ],
  "metadata": {
    "colab": {
      "collapsed_sections": [
        "wdeKOEkv1Fe8"
      ],
      "name": "python_function_component.ipynb",
      "toc_visible": true
    },
    "kernelspec": {
      "display_name": "Python 3",
      "name": "python3"
    }
  },
  "nbformat": 4,
  "nbformat_minor": 0
}
