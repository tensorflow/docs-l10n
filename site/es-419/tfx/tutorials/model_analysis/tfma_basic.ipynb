{
  "cells": [
    {
      "cell_type": "markdown",
      "metadata": {
        "id": "wdeKOEkv1Fe8"
      },
      "source": [
        "##### Copyright 2021 The TensorFlow Authors."
      ]
    },
    {
      "cell_type": "code",
      "execution_count": null,
      "metadata": {
        "cellView": "form",
        "id": "c2jyGuiG1gHr"
      },
      "outputs": [],
      "source": [
        "#@title Licensed under the Apache License, Version 2.0 (the \"License\");\n",
        "# you may not use this file except in compliance with the License.\n",
        "# You may obtain a copy of the License at\n",
        "#\n",
        "# https://www.apache.org/licenses/LICENSE-2.0\n",
        "#\n",
        "# Unless required by applicable law or agreed to in writing, software\n",
        "# distributed under the License is distributed on an \"AS IS\" BASIS,\n",
        "# WITHOUT WARRANTIES OR CONDITIONS OF ANY KIND, either express or implied.\n",
        "# See the License for the specific language governing permissions and\n",
        "# limitations under the License."
      ]
    },
    {
      "cell_type": "markdown",
      "metadata": {
        "id": "rLsMb4vqY244"
      },
      "source": [
        "Nota: Puede ejecutar este ejemplo ahora mismo en un bloc de notas estilo Jupyter, ¡no es necesario configurarlo! Simplemente haga clic en \"Ejecutar en Google Colab\"\n",
        "\n",
        "<div class=\"devsite-table-wrapper\"><table class=\"tfo-notebook-buttons\" align=\"left\">\n",
        "<td><a target=\"_blank\" href=\"https://www.tensorflow.org/tfx/tutorials/model_analysis/tfma_basic\"><img src=\"https://www.tensorflow.org/images/tf_logo_32px.png\">Ver en TensorFlow.org</a></td>\n",
        "<td><a target=\"_blank\" href=\"https://colab.research.google.com/github/tensorflow/docs-l10n/blob/master/site/es-419/tfx/tutorials/model_analysis/tfma_basic.ipynb\"><img src=\"https://www.tensorflow.org/images/colab_logo_32px.png\">Ejecutar en Google Colab</a></td>\n",
        "<td><a target=\"_blank\" href=\"https://github.com/tensorflow/docs-l10n/blob/master/site/es-419/tfx/tutorials/model_analysis/tfma_basic.ipynb\"><img width=\"32px\" src=\"https://www.tensorflow.org/images/GitHub-Mark-32px.png\">Ver fuente en GitHub</a></td>\n",
        "<td><a target=\"_blank\" href=\"https://storage.googleapis.com/tensorflow_docs/docs-l10n/site/es-419/tfx/tutorials/model_analysis/tfma_basic.ipynb\"><img width=\"32px\" src=\"https://www.tensorflow.org/images/download_logo_32px.png\">Descargar el bloc de notas</a></td>\n",
        "</table></div>"
      ]
    },
    {
      "cell_type": "markdown",
      "metadata": {
        "id": "YuSYVbwEYNHw"
      },
      "source": [
        "# TensorFlow Model Analysis\n",
        "\n",
        "***Un ejemplo de un componente clave de TensorFlow Extended (TFX)***"
      ]
    },
    {
      "cell_type": "markdown",
      "metadata": {
        "id": "mPt5BHTwy_0F"
      },
      "source": [
        "[TensorFlow Model Analysis (TFMA)](https://www.tensorflow.org/tfx/guide/tfma) es una biblioteca para evaluar modelos en diferentes segmentos de datos. TFMA ejecuta los cálculos de forma distribuida sobre grandes cantidades de datos con ayuda de [Apache Beam](https://beam.apache.org/documentation/programming-guide/).\n",
        "\n",
        "Este bloc de notas de Colab de ejemplo ilustra cómo se puede usar TFMA para investigar y visualizar el rendimiento de un modelo con respecto a las características del conjunto de datos. Usaremos un modelo que entrenamos anteriormente y ahora podrá manipular los resultados. El modelo que entrenamos fue para el [ejemplo de taxi de Chicago](https://github.com/tensorflow/tfx/tree/master/tfx/examples/chicago_taxi_pipeline), que emplea el [conjunto de datos de Taxi Trips](https://data.cityofchicago.org/Transportation/Taxi-Trips/wrvz-psew) publicado por la ciudad de Chicago. Explore el conjunto de datos completo en la [interfaz de usuario de BigQuery](https://bigquery.cloud.google.com/dataset/bigquery-public-data:chicago_taxi_trips).\n",
        "\n",
        "Como modelador y desarrollador, piense en cómo se usan estos datos y los posibles beneficios y daños que pueden causar las predicciones de un modelo. Un modelo como este podría reforzar los prejuicios y las disparidades sociales. ¿Es una característica relevante para el problema que desea resolver o introducirá un sesgo? Para obtener más información, lea sobre <a target=\"_blank\" href=\"https://developers.google.com/machine-learning/fairness-overview/\">la equidad del aprendizaje automático</a>.\n",
        "\n",
        "Nota: Para entender TFMA y cómo funciona con Apache Beam, tendrá que saber un poco sobre Apache Beam. La <a target=\"_blank\" href=\"https://beam.apache.org/documentation/programming-guide/\">Guía de programación de Beam</a> es un excelente punto de partida."
      ]
    },
    {
      "cell_type": "markdown",
      "metadata": {
        "id": "Fnm6Mj3vTGLm"
      },
      "source": [
        "Las columnas del conjunto de datos son las siguientes:\n",
        "\n",
        "<table>\n",
        "<tr>\n",
        "<td>pickup_community_area</td>\n",
        "<td>fare</td>\n",
        "<td>trip_start_month</td>\n",
        "</tr>\n",
        "<tr>\n",
        "<td>trip_start_hour</td>\n",
        "<td>trip_start_day</td>\n",
        "<td>trip_start_timestamp</td>\n",
        "</tr>\n",
        "<tr>\n",
        "<td>pickup_latitude</td>\n",
        "<td>pickup_longitude</td>\n",
        "<td>dropoff_latitude</td>\n",
        "</tr>\n",
        "<tr>\n",
        "<td>dropoff_longitude</td>\n",
        "<td>trip_miles</td>\n",
        "<td>pickup_census_tract</td>\n",
        "</tr>\n",
        "<tr>\n",
        "<td>dropoff_census_tract</td>\n",
        "<td>payment_type</td>\n",
        "<td>company</td>\n",
        "</tr>\n",
        "<tr>\n",
        "<td>trip_seconds</td>\n",
        "<td>dropoff_community_area</td>\n",
        "<td>tips</td>\n",
        "</tr>\n",
        "</table>"
      ]
    },
    {
      "cell_type": "markdown",
      "metadata": {
        "id": "q7-ouHFnWAsu"
      },
      "source": [
        "## Cómo instalar extensiones de Jupyter\n",
        "\n",
        "Nota: Si se ejecutan en un bloc de notas Jupyter local, estas extensiones de Jupyter se deben instalar en el entorno antes de ejecutar Jupyter.\n",
        "\n",
        "```bash\n",
        "jupyter nbextension enable --py widgetsnbextension --sys-prefix\n",
        "jupyter nbextension install --py --symlink tensorflow_model_analysis --sys-prefix\n",
        "jupyter nbextension enable --py tensorflow_model_analysis --sys-prefix\n",
        "```"
      ]
    },
    {
      "cell_type": "markdown",
      "metadata": {
        "id": "LZj-impiAD_l"
      },
      "source": [
        "## Cómo instalar TensorFlow Model Analysis (TFMA)\n",
        "\n",
        "Esto incorporará todas las dependencias y solo demora un minuto.\n"
      ]
    },
    {
      "cell_type": "code",
      "execution_count": null,
      "metadata": {
        "id": "8X32Q_lIKYxH"
      },
      "outputs": [],
      "source": [
        "# Upgrade pip to the latest, and install TFMA.\n",
        "!pip install -U pip\n",
        "!pip install tensorflow-model-analysis"
      ]
    },
    {
      "cell_type": "markdown",
      "metadata": {
        "id": "k7121_u1LO5W"
      },
      "source": [
        "**Ahora debe reiniciar el tiempo de ejecución antes de ejecutar las celdas que se muestran a continuación.**"
      ]
    },
    {
      "cell_type": "code",
      "execution_count": null,
      "metadata": {
        "id": "SA2E343NAMRF"
      },
      "outputs": [],
      "source": [
        "# This setup was tested with TF 2.10 and TFMA 0.41 (using colab), but it should\n",
        "# also work with the latest release.\n",
        "import sys\n",
        "\n",
        "# Confirm that we're using Python 3\n",
        "assert sys.version_info.major==3, 'This notebook must be run using Python 3.'\n",
        "\n",
        "import tensorflow as tf\n",
        "print('TF version: {}'.format(tf.__version__))\n",
        "import apache_beam as beam\n",
        "print('Beam version: {}'.format(beam.__version__))\n",
        "import tensorflow_model_analysis as tfma\n",
        "print('TFMA version: {}'.format(tfma.__version__))"
      ]
    },
    {
      "cell_type": "markdown",
      "metadata": {
        "id": "_aD7n5eECydb"
      },
      "source": [
        "**NOTA: Para continuar, el resultado anterior no puede contener errores. Vuelva a ejecutar la instalación si aún ve errores. Además, asegúrese de reiniciar el tiempo de ejecución/kernel antes de pasar al siguiente paso.**"
      ]
    },
    {
      "cell_type": "markdown",
      "metadata": {
        "id": "RptgLn2RYuK3"
      },
      "source": [
        "## Cómo cargar los archivos\n",
        "\n",
        "Descargaremos un archivo tar que contiene todo lo que necesitamos. Eso incluye lo siguiente:\n",
        "\n",
        "- Conjuntos de datos de entrenamiento y evaluación.\n",
        "- Esquema de datos\n",
        "- Entrenamiento y servicio de modelos guardados (keras y estimator) y modelos guardados de evaluación (estimator)."
      ]
    },
    {
      "cell_type": "code",
      "execution_count": null,
      "metadata": {
        "id": "K4QXVIM7iglN"
      },
      "outputs": [],
      "source": [
        "# Download the tar file from GCP and extract it\n",
        "import io, os, tempfile\n",
        "TAR_NAME = 'saved_models-2.2'\n",
        "BASE_DIR = tempfile.mkdtemp()\n",
        "DATA_DIR = os.path.join(BASE_DIR, TAR_NAME, 'data')\n",
        "MODELS_DIR = os.path.join(BASE_DIR, TAR_NAME, 'models')\n",
        "SCHEMA = os.path.join(BASE_DIR, TAR_NAME, 'schema.pbtxt')\n",
        "OUTPUT_DIR = os.path.join(BASE_DIR, 'output')\n",
        "\n",
        "!curl -O https://storage.googleapis.com/artifacts.tfx-oss-public.appspot.com/datasets/{TAR_NAME}.tar\n",
        "!tar xf {TAR_NAME}.tar\n",
        "!mv {TAR_NAME} {BASE_DIR}\n",
        "!rm {TAR_NAME}.tar\n",
        "\n",
        "print(\"Here's what we downloaded:\")\n",
        "!ls -R {BASE_DIR}"
      ]
    },
    {
      "cell_type": "markdown",
      "metadata": {
        "id": "_xa7ZDV1MycO"
      },
      "source": [
        "## Cómo parsear el esquema\n",
        "\n",
        "Entre las cosas que descargamos, había un esquema para nuestros datos creado por [TensorFlow Data Validation](https://www.tensorflow.org/tfx/data_validation/get_started/). Analicémoslo ahora para poder usarlo con TFMA."
      ]
    },
    {
      "cell_type": "code",
      "execution_count": null,
      "metadata": {
        "id": "uW5eB4TPcwFw"
      },
      "outputs": [],
      "source": [
        "import tensorflow as tf\n",
        "from google.protobuf import text_format\n",
        "from tensorflow.python.lib.io import file_io\n",
        "from tensorflow_metadata.proto.v0 import schema_pb2\n",
        "from tensorflow.core.example import example_pb2\n",
        "\n",
        "schema = schema_pb2.Schema()\n",
        "contents = file_io.read_file_to_string(SCHEMA)\n",
        "schema = text_format.Parse(contents, schema)"
      ]
    },
    {
      "cell_type": "markdown",
      "metadata": {
        "id": "UP3yuJxfNXRL"
      },
      "source": [
        "## Cómo usar el esquema para crear TFRecords\n",
        "\n",
        "Necesitamos darle acceso a TFMA a nuestro conjunto de datos, para eso, tenemos que crear un archivo TFRecords. Podemos usar nuestro esquema para crearlo, ya que nos aporta el tipo correcto para cada característica."
      ]
    },
    {
      "cell_type": "code",
      "execution_count": null,
      "metadata": {
        "id": "8-wud3fPczl6"
      },
      "outputs": [],
      "source": [
        "import csv\n",
        "\n",
        "datafile = os.path.join(DATA_DIR, 'eval', 'data.csv')\n",
        "reader = csv.DictReader(open(datafile, 'r'))\n",
        "examples = []\n",
        "for line in reader:\n",
        "  example = example_pb2.Example()\n",
        "  for feature in schema.feature:\n",
        "    key = feature.name\n",
        "    if feature.type == schema_pb2.FLOAT:\n",
        "      example.features.feature[key].float_list.value[:] = (\n",
        "          [float(line[key])] if len(line[key]) > 0 else [])\n",
        "    elif feature.type == schema_pb2.INT:\n",
        "      example.features.feature[key].int64_list.value[:] = (\n",
        "          [int(line[key])] if len(line[key]) > 0 else [])\n",
        "    elif feature.type == schema_pb2.BYTES:\n",
        "      example.features.feature[key].bytes_list.value[:] = (\n",
        "          [line[key].encode('utf8')] if len(line[key]) > 0 else [])\n",
        "  # Add a new column 'big_tipper' that indicates if tips was > 20% of the fare. \n",
        "  # TODO(b/157064428): Remove after label transformation is supported for Keras.\n",
        "  big_tipper = float(line['tips']) > float(line['fare']) * 0.2\n",
        "  example.features.feature['big_tipper'].float_list.value[:] = [big_tipper]\n",
        "  examples.append(example)\n",
        "\n",
        "tfrecord_file = os.path.join(BASE_DIR, 'train_data.rio')\n",
        "with tf.io.TFRecordWriter(tfrecord_file) as writer:\n",
        "  for example in examples:\n",
        "    writer.write(example.SerializeToString())\n",
        "\n",
        "!ls {tfrecord_file}"
      ]
    },
    {
      "cell_type": "markdown",
      "metadata": {
        "id": "fp8Ub7GTXH3j"
      },
      "source": [
        "## Cómo configurar y ejecutar TFMA\n",
        "\n",
        "TFMA es compatible con distintos tipos de modelos, incluidos modelos de TF keras, modelos basados ​​en API de firma TF2 genéricas y modelos basados ​​en TF estimator. La guía [get_started](https://www.tensorflow.org/tfx/model_analysis/get_started) tiene la lista completa de los tipos de modelos admitidos y sus restricciones. Para este ejemplo, mostraremos cómo configurar un modelo basado en keras, así como un modelo basado en un estimador que se guardó como [`EvalSavedModel`](https://www.tensorflow.org/tfx/model_analysis/eval_saved_model). Consulte las [preguntas frecuentes](https://www.tensorflow.org/tfx/model_analysis/faq) para ver ejemplos de otras configuraciones.\n",
        "\n",
        "TFMA ofrece compatibilidad para calcular las métricas que se usaron en el momento del entrenamiento (es decir, las métricas integradas), así como las métricas definidas después de guardar el modelo como parte de los ajustes de configuración de TFMA. Para nuestra [configuración](https://www.tensorflow.org/tfx/model_analysis/setup) de keras, demostraremos cómo agregar nuestras métricas y gráficos manualmente como parte de nuestra configuración (consulte la guía de [métricas](https://www.tensorflow.org/tfx/model_analysis/metrics) para obtener información sobre las métricas y gráficos compatibles). Para la configuración del estimador usaremos las métricas integradas que se guardaron con el modelo. Nuestras configuraciones también incluyen una serie de especificaciones de segmentación que se analizan con más detalle en las siguientes secciones.\n",
        "\n",
        "Después de crear [`tfma.EvalConfig`](https://www.tensorflow.org/tfx/model_analysis/api_docs/python/tfma/EvalConfig) y [`tfma.EvalSharedModel`](https://www.tensorflow.org/tfx/model_analysis/api_docs/python/tfma/EvalSharedModel) podemos ejecutar TFMA con ayuda de [`tfma.run_model_analysis`](https://www.tensorflow.org/tfx/model_analysis/api_docs/python/tfma/run_model_analysis). Esto creará un [`tfma.EvalResult`](https://www.tensorflow.org/tfx/model_analysis/api_docs/python/tfma/EvalResult) que podremos usar más adelante para representar nuestras métricas y gráficos."
      ]
    },
    {
      "cell_type": "markdown",
      "metadata": {
        "id": "qgC7NdCatT8y"
      },
      "source": [
        "### Keras"
      ]
    },
    {
      "cell_type": "code",
      "execution_count": null,
      "metadata": {
        "id": "PLJxcjpjfwkx"
      },
      "outputs": [],
      "source": [
        "import tensorflow_model_analysis as tfma\n",
        "\n",
        "# Setup tfma.EvalConfig settings\n",
        "keras_eval_config = text_format.Parse(\"\"\"\n",
        "  ## Model information\n",
        "  model_specs {\n",
        "    # For keras (and serving models) we need to add a `label_key`.\n",
        "    label_key: \"big_tipper\"\n",
        "  }\n",
        "\n",
        "  ## Post training metric information. These will be merged with any built-in\n",
        "  ## metrics from training.\n",
        "  metrics_specs {\n",
        "    metrics { class_name: \"ExampleCount\" }\n",
        "    metrics { class_name: \"AUC\" }\n",
        "    metrics { class_name: \"Precision\" }\n",
        "    metrics { class_name: \"Recall\" }\n",
        "    metrics { class_name: \"MeanPrediction\" }\n",
        "    metrics { class_name: \"Calibration\" }\n",
        "    metrics { class_name: \"CalibrationPlot\" }\n",
        "    metrics { class_name: \"ConfusionMatrixPlot\" }\n",
        "    # ... add additional metrics and plots ...\n",
        "  }\n",
        "\n",
        "  ## Slicing information\n",
        "  slicing_specs {}  # overall slice\n",
        "  slicing_specs {\n",
        "    feature_keys: [\"trip_start_hour\"]\n",
        "  }\n",
        "  slicing_specs {\n",
        "    feature_keys: [\"trip_start_day\"]\n",
        "  }\n",
        "  slicing_specs {\n",
        "    feature_values: {\n",
        "      key: \"trip_start_month\"\n",
        "      value: \"1\"\n",
        "    }\n",
        "  }\n",
        "\"\"\", tfma.EvalConfig())\n",
        "\n",
        "# Create a tfma.EvalSharedModel that points at our keras model.\n",
        "keras_model_path = os.path.join(MODELS_DIR, 'keras', '2')\n",
        "keras_eval_shared_model = tfma.default_eval_shared_model(\n",
        "    eval_saved_model_path=keras_model_path,\n",
        "    eval_config=keras_eval_config)\n",
        "\n",
        "keras_output_path = os.path.join(OUTPUT_DIR, 'keras')\n",
        "\n",
        "# Run TFMA\n",
        "keras_eval_result = tfma.run_model_analysis(\n",
        "    eval_shared_model=keras_eval_shared_model,\n",
        "    eval_config=keras_eval_config,\n",
        "    data_location=tfrecord_file,\n",
        "    output_path=keras_output_path)"
      ]
    },
    {
      "cell_type": "markdown",
      "metadata": {
        "id": "hMtoi_FpthQL"
      },
      "source": [
        "### Estimator"
      ]
    },
    {
      "cell_type": "code",
      "execution_count": null,
      "metadata": {
        "id": "6MJg42JVtjjj"
      },
      "outputs": [],
      "source": [
        "import tensorflow_model_analysis as tfma\n",
        "\n",
        "# Setup tfma.EvalConfig settings\n",
        "estimator_eval_config = text_format.Parse(\"\"\"\n",
        "  ## Model information\n",
        "  model_specs {\n",
        "    # To use EvalSavedModel set `signature_name` to \"eval\".\n",
        "    signature_name: \"eval\"\n",
        "  }\n",
        "\n",
        "  ## Post training metric information. These will be merged with any built-in\n",
        "  ## metrics from training.\n",
        "  metrics_specs {\n",
        "    metrics { class_name: \"ConfusionMatrixPlot\" }\n",
        "    # ... add additional metrics and plots ...\n",
        "  }\n",
        "\n",
        "  ## Slicing information\n",
        "  slicing_specs {}  # overall slice\n",
        "  slicing_specs {\n",
        "    feature_keys: [\"trip_start_hour\"]\n",
        "  }\n",
        "  slicing_specs {\n",
        "    feature_keys: [\"trip_start_day\"]\n",
        "  }\n",
        "  slicing_specs {\n",
        "    feature_values: {\n",
        "      key: \"trip_start_month\"\n",
        "      value: \"1\"\n",
        "    }\n",
        "  }\n",
        "\"\"\", tfma.EvalConfig())\n",
        "\n",
        "# Create a tfma.EvalSharedModel that points at our eval saved model.\n",
        "estimator_base_model_path = os.path.join(\n",
        "    MODELS_DIR, 'estimator', 'eval_model_dir')\n",
        "estimator_model_path = os.path.join(\n",
        "    estimator_base_model_path, os.listdir(estimator_base_model_path)[0])\n",
        "estimator_eval_shared_model = tfma.default_eval_shared_model(\n",
        "    eval_saved_model_path=estimator_model_path,\n",
        "    eval_config=estimator_eval_config)\n",
        "\n",
        "estimator_output_path = os.path.join(OUTPUT_DIR, 'estimator')\n",
        "\n",
        "# Run TFMA\n",
        "estimator_eval_result = tfma.run_model_analysis(\n",
        "    eval_shared_model=estimator_eval_shared_model,\n",
        "    eval_config=estimator_eval_config,\n",
        "    data_location=tfrecord_file,\n",
        "    output_path=estimator_output_path)"
      ]
    },
    {
      "cell_type": "markdown",
      "metadata": {
        "id": "A0khNBC9FlEO"
      },
      "source": [
        "## Cómo visualizar métricas y gráficos\n",
        "\n",
        "Ahora que ya ejecutamos la evaluación, usemos TFMA para analizar nuestras visualizaciones. Para los siguientes ejemplos, visualizaremos los resultados de la ejecución de la evaluación en el modelo keras. Si desea ver el modelo basado en el estimador, actualice `eval_result_path` para que apunte a nuestra variable `estimator_output_path`."
      ]
    },
    {
      "cell_type": "code",
      "execution_count": null,
      "metadata": {
        "id": "XFY0BqGtGkJ0"
      },
      "outputs": [],
      "source": [
        "eval_result_path = keras_output_path\n",
        "# eval_result_path = estimator_output_path\n",
        "\n",
        "eval_result = keras_eval_result\n",
        "# eval_result = estimator_eval_result"
      ]
    },
    {
      "cell_type": "markdown",
      "metadata": {
        "id": "cSl9qyTCbBKR"
      },
      "source": [
        "### Cómo representar métricas\n",
        "\n",
        "TFMA proporciona API de marco de datos en [`tfma.experimental.dataframe`](https://www.tensorflow.org/tfx/model_analysis/api_docs/python/tfma/experimental) para cargar la salida materializada como [`Pandas DataFrames`](https://pandas.pydata.org/docs/reference/api/pandas.DataFrame.html). Para ver métricas, puede usar `metrics_as_dataframes(tfma.load_metrics(eval_path))`, que devuelve un objeto que potencialmente contiene varios DataFrames, uno para cada tipo de valor de métrica (`double_value`, `confusion_matrix_at_thresholds`, `bytes_value` y `array_value`). Los DataFrames específicos que se completan dependen del resultado de la evaluación. Aquí, mostramos el DataFrame `double_value` a modo de ejemplo."
      ]
    },
    {
      "cell_type": "code",
      "execution_count": null,
      "metadata": {
        "id": "hJ5_UMnWYmaE"
      },
      "outputs": [],
      "source": [
        "import tensorflow_model_analysis.experimental.dataframe as tfma_dataframe\n",
        "dfs = tfma_dataframe.metrics_as_dataframes(\n",
        "  tfma.load_metrics(eval_result_path))\n",
        "\n",
        "display(dfs.double_value.head())"
      ]
    },
    {
      "cell_type": "markdown",
      "metadata": {
        "id": "QohnC7RAMu7F"
      },
      "source": [
        "Cada uno de los DataFrames tiene un índice múltiple de columnas con las columnas de nivel superior: `slices` , `metric_keys` y `metric_values` . Las columnas exactas de cada grupo pueden cambiar en función de la carga útil. Podemos usar la API `DataFrame.columns` para inspeccionar todas las columnas de índices múltiples. Por ejemplo, las columnas de segmentos son 'Overall', 'trip_start_day', 'trip_start_hour' y 'trip_start_month', que se configuran mediante `slicing_specs` en `eval_config`."
      ]
    },
    {
      "cell_type": "code",
      "execution_count": null,
      "metadata": {
        "id": "CGscUL2KMyWn"
      },
      "outputs": [],
      "source": [
        "print(dfs.double_value.columns)"
      ]
    },
    {
      "cell_type": "markdown",
      "metadata": {
        "id": "LJuxvGCpn4yF"
      },
      "source": [
        "### Pivote automático\n",
        "\n",
        "El DataFrame tiene un diseño detallado para que no se pierda información de la carga útil. Sin embargo, a veces, para el consumo directo, es posible que deseemos organizar la información de una forma más concisa, pero con pérdidas: segmentos como filas y métricas como columnas. TFMA ofrece la API `auto_pivot` con esta finalidad. La utilidad pivota sobre todas las columnas no únicas dentro de `metric_keys` y condensa todos los segmentos en una columna `stringified_slices` de forma predeterminada."
      ]
    },
    {
      "cell_type": "code",
      "execution_count": null,
      "metadata": {
        "id": "NWDGhnEoK1HM"
      },
      "outputs": [],
      "source": [
        "tfma_dataframe.auto_pivot(dfs.double_value).head()"
      ]
    },
    {
      "cell_type": "markdown",
      "metadata": {
        "id": "cQT-1Ckcnd_7"
      },
      "source": [
        "### Cómo filtrar segmentos\n",
        "\n",
        "Dado que las salidas son DataFrames, se puede usar cualquier API nativa de DataFrame para segmentar y fragmentar el DataFrame. Por ejemplo, si solo estamos interesados ​​en `trip_start_hour` de 1, 3, 5, 7 y no en `trip_start_day`, podemos usar la lógica de filtrado `.loc` de DataFrame. Nuevamente, usamos la función `auto_pivot` para reorganizar el DataFrame en la vista comparativa entre segmentos y métricas después de ejecutar el filtrado."
      ]
    },
    {
      "cell_type": "code",
      "execution_count": null,
      "metadata": {
        "id": "UOfquHOHK_uE"
      },
      "outputs": [],
      "source": [
        "df_double = dfs.double_value\n",
        "df_filtered = (df_double\n",
        "  .loc[df_double.slices.trip_start_hour.isin([1,3,5,7])]\n",
        ")\n",
        "display(tfma_dataframe.auto_pivot(df_filtered))"
      ]
    },
    {
      "cell_type": "markdown",
      "metadata": {
        "id": "hSnqI6Esb1XM"
      },
      "source": [
        "### Cómo ordenar por valores de métricas\n",
        "\n",
        "También podemos ordenar los segmentos por valor de métricas. Como ejemplo, mostramos cómo ordenar segmentos en el DataFrame anterior mediante AUC ascendente, para que podamos encontrar segmentos con bajo rendimiento. Esto implica dos pasos: pivotar automáticamente para que los segmentos se representen como filas y las columnas como métricas, y luego ordenar el DataFrame dinamizado por la columna AUC."
      ]
    },
    {
      "cell_type": "code",
      "execution_count": null,
      "metadata": {
        "id": "fVeZ9saBR8gX"
      },
      "outputs": [],
      "source": [
        "# Pivoted table sorted by AUC in ascending order.\n",
        "df_sorted = (\n",
        "    tfma_dataframe.auto_pivot(df_double)\n",
        "    .sort_values(by='auc', ascending=True)\n",
        "    )\n",
        "display(df_sorted.head())"
      ]
    },
    {
      "cell_type": "markdown",
      "metadata": {
        "id": "f8acksU33KMm"
      },
      "source": [
        "### Cómo representar gráficos\n",
        "\n",
        "Cualquier gráfico que se haya agregado a `tfma.EvalConfig` como `metric_specs` después al entrenamiento se puede mostrar con [`tfma.view.render_plot`](https://www.tensorflow.org/tfx/model_analysis/api_docs/python/tfma/view/render_plot).\n",
        "\n",
        "Al igual que con las métricas, los gráficos se pueden ver por segmento. A diferencia de las métricas, solo se pueden mostrar gráficos para un valor de segmento específico, por lo que se debe usar `tfma.SlicingSpec` y se debe especificar tanto el nombre como el valor de la característica de segmento. Si no se especifica ningún segmento, se utilizan los gráficos del segmento `Overall`.\n",
        "\n",
        "En el siguiente ejemplo, mostramos los gráficos `CalibrationPlot` y `ConfusionMatrixPlot` que se calcularon para el segmento `trip_start_hour:1`."
      ]
    },
    {
      "cell_type": "code",
      "execution_count": null,
      "metadata": {
        "id": "X4TCKjGw3S-a"
      },
      "outputs": [],
      "source": [
        "tfma.view.render_plot(\n",
        "    eval_result,\n",
        "    tfma.SlicingSpec(feature_values={'trip_start_hour': '1'}))"
      ]
    },
    {
      "cell_type": "markdown",
      "metadata": {
        "id": "meRvFkKcPbux"
      },
      "source": [
        "## Cómo hacer un seguimiento del rendimiento del modelo a lo largo del tiempo\n",
        "\n",
        "Usaremos su conjunto de entrenamiento para entrenar su modelo y, con suerte, será representativo de su conjunto de datos de prueba y de los datos que se enviarán a su modelo en producción. Sin embargo, si bien los datos de las solicitudes de inferencia pueden seguir siendo los mismos que los datos de entrenamiento, en muchos casos comenzarán a cambiar lo suficiente como para que cambie el rendimiento de su modelo.\n",
        "\n",
        "Eso significa que debe monitorear y medir el desempeño de su modelo de manera continua, para poder estar al tanto de los cambios y reaccionar ante ellos. Veamos cómo puede ayudarnos TFMA.\n",
        "\n",
        "Carguemos 3 ejecuciones de modelos diferentes y usemos TFMA para ver cómo se comparan usando [`render_time_series`](https://www.tensorflow.org/tfx/model_analysis/api_docs/python/tfma/view/render_time_series)."
      ]
    },
    {
      "cell_type": "code",
      "execution_count": null,
      "metadata": {
        "id": "zJYUOjmFfuPy"
      },
      "outputs": [],
      "source": [
        "# Note this re-uses the EvalConfig from the keras setup.\n",
        "\n",
        "# Run eval on each saved model\n",
        "output_paths = []\n",
        "for i in range(3):\n",
        "  # Create a tfma.EvalSharedModel that points at our saved model.\n",
        "  eval_shared_model = tfma.default_eval_shared_model(\n",
        "      eval_saved_model_path=os.path.join(MODELS_DIR, 'keras', str(i)),\n",
        "      eval_config=keras_eval_config)\n",
        "\n",
        "  output_path = os.path.join(OUTPUT_DIR, 'time_series', str(i))\n",
        "  output_paths.append(output_path)\n",
        "\n",
        "  # Run TFMA\n",
        "  tfma.run_model_analysis(eval_shared_model=eval_shared_model,\n",
        "                          eval_config=keras_eval_config,\n",
        "                          data_location=tfrecord_file,\n",
        "                          output_path=output_path)"
      ]
    },
    {
      "cell_type": "markdown",
      "metadata": {
        "id": "RsO-gqCRK0ar"
      },
      "source": [
        "En primer lugar, imaginaremos que entrenamos e implementamos nuestro modelo ayer y ahora queremos ver cómo funciona con los nuevos datos que llegan hoy. La visualización comenzará mostrando el AUC. Desde la interfaz de usuario puede ejecutar las siguientes acciones:\n",
        "\n",
        "- Agregar otras métricas con el menú \"Agregar serie de métricas\"\n",
        "- Cerrar los grafos no deseados haciendo clic en x\n",
        "- Pasar el cursor sobre los puntos de datos (los extremos de los segmentos de línea en el grafo) para obtener más detalles\n",
        "\n",
        "Nota: En los gráficos de series de métricas, el eje X es el nombre del directorio del modelo de ejecución del modelo que está examinando. Estos nombres en sí mismos no tienen significado."
      ]
    },
    {
      "cell_type": "code",
      "execution_count": null,
      "metadata": {
        "id": "KjEws8T0cDm9"
      },
      "outputs": [],
      "source": [
        "eval_results_from_disk = tfma.load_eval_results(output_paths[:2])\n",
        "\n",
        "tfma.view.render_time_series(eval_results_from_disk)"
      ]
    },
    {
      "cell_type": "markdown",
      "metadata": {
        "id": "EQ7kZxESN9Bx"
      },
      "source": [
        "Ahora imaginaremos que ha pasado otro día y queremos ver cómo les va con los nuevos datos que llegan hoy, en contraste con los dos días anteriores:"
      ]
    },
    {
      "cell_type": "code",
      "execution_count": null,
      "metadata": {
        "id": "VjQmlXMmLwHf"
      },
      "outputs": [],
      "source": [
        "eval_results_from_disk = tfma.load_eval_results(output_paths)\n",
        "\n",
        "tfma.view.render_time_series(eval_results_from_disk)"
      ]
    },
    {
      "cell_type": "markdown",
      "metadata": {
        "id": "N1jpShgQxlVL"
      },
      "source": [
        "## Validación de modelos\n",
        "\n",
        "TFMA se puede configurar para evaluar varios modelos al mismo tiempo. Normalmente, esto se hace para comparar un nuevo modelo con una línea base (como el modelo actualmente en servicio) para determinar cuáles son las diferencias de rendimiento en las métricas (por ejemplo, AUC, etc.) en relación con la línea base. Cuando se configuran [los umbrales](https://www.tensorflow.org/tfx/model_analysis/api_docs/python/tfma/MetricThreshold), TFMA genera un registro [`tfma.ValidationResult`](https://www.tensorflow.org/tfx/model_analysis/api_docs/python/tfma/ValidationResult) que indica si el rendimiento coincide con las expectativas.\n",
        "\n",
        "Reconfiguremos nuestra evaluación de keras para comparar dos modelos: un candidato y una línea base. También validaremos el desempeño del candidato con respecto a la línea base estableciendo un [`tmfa.MetricThreshold`](https://www.tensorflow.org/tfx/model_analysis/api_docs/python/tfma/MetricThreshold) en la métrica AUC."
      ]
    },
    {
      "cell_type": "code",
      "execution_count": null,
      "metadata": {
        "id": "kkatdR6Y1-4G"
      },
      "outputs": [],
      "source": [
        "# Setup tfma.EvalConfig setting\n",
        "eval_config_with_thresholds = text_format.Parse(\"\"\"\n",
        "  ## Model information\n",
        "  model_specs {\n",
        "    name: \"candidate\"\n",
        "    # For keras we need to add a `label_key`.\n",
        "    label_key: \"big_tipper\"\n",
        "  }\n",
        "  model_specs {\n",
        "    name: \"baseline\"\n",
        "    # For keras we need to add a `label_key`.\n",
        "    label_key: \"big_tipper\"\n",
        "    is_baseline: true\n",
        "  }\n",
        "\n",
        "  ## Post training metric information\n",
        "  metrics_specs {\n",
        "    metrics { class_name: \"ExampleCount\" }\n",
        "    metrics { class_name: \"BinaryAccuracy\" }\n",
        "    metrics { class_name: \"BinaryCrossentropy\" }\n",
        "    metrics {\n",
        "      class_name: \"AUC\"\n",
        "      threshold {\n",
        "        # Ensure that AUC is always > 0.9\n",
        "        value_threshold {\n",
        "          lower_bound { value: 0.9 }\n",
        "        }\n",
        "        # Ensure that AUC does not drop by more than a small epsilon\n",
        "        # e.g. (candidate - baseline) > -1e-10 or candidate > baseline - 1e-10\n",
        "        change_threshold {\n",
        "          direction: HIGHER_IS_BETTER\n",
        "          absolute { value: -1e-10 }\n",
        "        }\n",
        "      }\n",
        "    }\n",
        "    metrics { class_name: \"AUCPrecisionRecall\" }\n",
        "    metrics { class_name: \"Precision\" }\n",
        "    metrics { class_name: \"Recall\" }\n",
        "    metrics { class_name: \"MeanLabel\" }\n",
        "    metrics { class_name: \"MeanPrediction\" }\n",
        "    metrics { class_name: \"Calibration\" }\n",
        "    metrics { class_name: \"CalibrationPlot\" }\n",
        "    metrics { class_name: \"ConfusionMatrixPlot\" }\n",
        "    # ... add additional metrics and plots ...\n",
        "  }\n",
        "\n",
        "  ## Slicing information\n",
        "  slicing_specs {}  # overall slice\n",
        "  slicing_specs {\n",
        "    feature_keys: [\"trip_start_hour\"]\n",
        "  }\n",
        "  slicing_specs {\n",
        "    feature_keys: [\"trip_start_day\"]\n",
        "  }\n",
        "  slicing_specs {\n",
        "    feature_keys: [\"trip_start_month\"]\n",
        "  }\n",
        "  slicing_specs {\n",
        "    feature_keys: [\"trip_start_hour\", \"trip_start_day\"]\n",
        "  }\n",
        "\"\"\", tfma.EvalConfig())\n",
        "\n",
        "# Create tfma.EvalSharedModels that point at our keras models.\n",
        "candidate_model_path = os.path.join(MODELS_DIR, 'keras', '2')\n",
        "baseline_model_path = os.path.join(MODELS_DIR, 'keras', '1')\n",
        "eval_shared_models = [\n",
        "  tfma.default_eval_shared_model(\n",
        "      model_name=tfma.CANDIDATE_KEY,\n",
        "      eval_saved_model_path=candidate_model_path,\n",
        "      eval_config=eval_config_with_thresholds),\n",
        "  tfma.default_eval_shared_model(\n",
        "      model_name=tfma.BASELINE_KEY,\n",
        "      eval_saved_model_path=baseline_model_path,\n",
        "      eval_config=eval_config_with_thresholds),\n",
        "]\n",
        "\n",
        "validation_output_path = os.path.join(OUTPUT_DIR, 'validation')\n",
        "\n",
        "# Run TFMA\n",
        "eval_result_with_validation = tfma.run_model_analysis(\n",
        "    eval_shared_models,\n",
        "    eval_config=eval_config_with_thresholds,\n",
        "    data_location=tfrecord_file,\n",
        "    output_path=validation_output_path)"
      ]
    },
    {
      "cell_type": "markdown",
      "metadata": {
        "id": "siF6npd3IfJq"
      },
      "source": [
        "Al ejecutar evaluaciones con uno o más modelos con respecto a una línea base, TFMA agrega automáticamente métricas diferenciales para todas las métricas calculadas durante la evaluación. Estas métricas reciben el nombre de la métrica correspondiente, pero con `_diff` añadido al nombre de la métrica.\n",
        "\n",
        "Echemos un vistazo a las métricas producidas por nuestra ejecución:"
      ]
    },
    {
      "cell_type": "code",
      "execution_count": null,
      "metadata": {
        "id": "yGIw9TDuJ7wn"
      },
      "outputs": [],
      "source": [
        "tfma.view.render_time_series(eval_result_with_validation)"
      ]
    },
    {
      "cell_type": "markdown",
      "metadata": {
        "id": "JIsehm_V4oKU"
      },
      "source": [
        "Ahora veamos el resultado de nuestras comprobaciones de validación. Para ver los resultados de la validación usamos [`tfma.load_validator_result`](https://www.tensorflow.org/tfx/model_analysis/api_docs/python/tfma/load_validation_result). Para nuestro ejemplo, la validación falla porque el AUC está por debajo del umbral."
      ]
    },
    {
      "cell_type": "code",
      "execution_count": null,
      "metadata": {
        "id": "48EdSTUW5eE1"
      },
      "outputs": [],
      "source": [
        "validation_result = tfma.load_validation_result(validation_output_path)\n",
        "print(validation_result.validation_ok)"
      ]
    },
    {
      "cell_type": "markdown",
      "metadata": {
        "id": "tghWegsjhpkt"
      },
      "source": [
        "# Copyright © 2020 Los autores de TensorFlow."
      ]
    },
    {
      "cell_type": "code",
      "execution_count": null,
      "metadata": {
        "cellView": "form",
        "id": "rSGJWC5biBiG"
      },
      "outputs": [],
      "source": [
        "#@title Licensed under the Apache License, Version 2.0 (the \"License\");\n",
        "# you may not use this file except in compliance with the License.\n",
        "# You may obtain a copy of the License at\n",
        "#\n",
        "# https://www.apache.org/licenses/LICENSE-2.0\n",
        "#\n",
        "# Unless required by applicable law or agreed to in writing, software\n",
        "# distributed under the License is distributed on an \"AS IS\" BASIS,\n",
        "# WITHOUT WARRANTIES OR CONDITIONS OF ANY KIND, either express or implied.\n",
        "# See the License for the specific language governing permissions and\n",
        "# limitations under the License."
      ]
    },
    {
      "cell_type": "markdown",
      "metadata": {
        "id": "tvsmelXGasty"
      },
      "source": [
        "Nota: Este sitio ofrece aplicaciones que usan datos que fueron modificados para su uso desde su fuente original, www.cityofchicago.org, el sitio web oficial de la ciudad de Chicago. La ciudad de Chicago no garantiza el contenido, la exactitud, la puntualidad o la integridad de ninguno de los datos que se proporcionan en este sitio. Los datos proporcionados en este sitio están sujetos a cambios en cualquier momento. Se entiende que los datos proporcionados en este sitio se usan bajo su propia responsabilidad."
      ]
    }
  ],
  "metadata": {
    "accelerator": "GPU",
    "colab": {
      "name": "tfma_basic.ipynb",
      "toc_visible": true
    },
    "kernelspec": {
      "display_name": "Python 3",
      "name": "python3"
    }
  },
  "nbformat": 4,
  "nbformat_minor": 0
}
