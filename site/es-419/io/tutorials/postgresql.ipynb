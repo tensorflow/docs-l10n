{
  "cells": [
    {
      "cell_type": "markdown",
      "metadata": {
        "id": "Tce3stUlHN0L"
      },
      "source": [
        "##### Copyright 2020 The TensorFlow IO Authors."
      ]
    },
    {
      "cell_type": "code",
      "execution_count": null,
      "metadata": {
        "cellView": "form",
        "id": "tuOe1ymfHZPu"
      },
      "outputs": [],
      "source": [
        "#@title Licensed under the Apache License, Version 2.0 (the \"License\");\n",
        "# you may not use this file except in compliance with the License.\n",
        "# You may obtain a copy of the License at\n",
        "#\n",
        "# https://www.apache.org/licenses/LICENSE-2.0\n",
        "#\n",
        "# Unless required by applicable law or agreed to in writing, software\n",
        "# distributed under the License is distributed on an \"AS IS\" BASIS,\n",
        "# WITHOUT WARRANTIES OR CONDITIONS OF ANY KIND, either express or implied.\n",
        "# See the License for the specific language governing permissions and\n",
        "# limitations under the License."
      ]
    },
    {
      "cell_type": "markdown",
      "metadata": {
        "id": "qFdPvlXBOdUN"
      },
      "source": [
        "# Lectura de la base de datos PostgreSQL desde TensorFlow IO"
      ]
    },
    {
      "cell_type": "markdown",
      "metadata": {
        "id": "MfBg1C5NB3X0"
      },
      "source": [
        "<table class=\"tfo-notebook-buttons\" align=\"left\">\n",
        "  <td>     <a target=\"_blank\" href=\"https://www.tensorflow.org/io/tutorials/postgresql\"><img src=\"https://www.tensorflow.org/images/tf_logo_32px.png\">Ver en TensorFlow.org</a>\n",
        "</td>\n",
        "  <td>     <a target=\"_blank\" href=\"https://colab.research.google.com/github/tensorflow/docs-l10n/blob/master/site/es-419/io/tutorials/postgresql.ipynb\"><img src=\"https://www.tensorflow.org/images/colab_logo_32px.png\">Ejecutar en Google Colab</a>\n",
        "</td>\n",
        "  <td>     <a target=\"_blank\" href=\"https://github.com/tensorflow/docs-l10n/blob/master/site/es-419/io/tutorials/postgresql.ipynb\"><img src=\"https://www.tensorflow.org/images/GitHub-Mark-32px.png\">Ver código fuente en GitHub</a>\n",
        "</td>\n",
        "      <td>     <a href=\"https://storage.googleapis.com/tensorflow_docs/docs-l10n/site/es-419/io/tutorials/postgresql.ipynb\"><img src=\"https://www.tensorflow.org/images/download_logo_32px.png\">Descargar el bloc de notas</a>\n",
        "</td>\n",
        "</table>"
      ]
    },
    {
      "cell_type": "markdown",
      "metadata": {
        "id": "xHxb-dlhMIzW"
      },
      "source": [
        "## Descripción general\n",
        "\n",
        "En este tutorial se muestra cómo crear `tf.data.Dataset` desde un servidor de base de datos PostgreSQL, de modo que el `Dataset` creado pueda pasarse a `tf.keras` con fines de entrenamiento o inferencia.\n",
        "\n",
        "Una base de datos SQL es una fuente importante de datos para los científicos de datos. Como una de las bases de datos SQL de código abierto más populares, [PostgreSQL](https://www.postgresql.org) se usa bastante en las empresas para almacenar datos críticos y transaccionales en todos los ámbitos. Crear `Dataset` directamente desde un servidor de base de datos PostgreSQL y pasar el `Dataset` a `tf.keras` para entrenamiento o inferencia podría simplificar enormemente la canalización de datos y ayudar a los científicos de datos a centrarse en la creación de modelos de aprendizaje automático."
      ]
    },
    {
      "cell_type": "markdown",
      "metadata": {
        "id": "MUXex9ctTuDB"
      },
      "source": [
        "## Configuración y uso"
      ]
    },
    {
      "cell_type": "markdown",
      "metadata": {
        "id": "upgCc3gXybsA"
      },
      "source": [
        "### Instale los paquetes tensorflow-io necesarios y reinicie el tiempo de ejecución"
      ]
    },
    {
      "cell_type": "code",
      "execution_count": null,
      "metadata": {
        "id": "uUDYyMZRfkX4"
      },
      "outputs": [],
      "source": [
        "try:\n",
        "  %tensorflow_version 2.x\n",
        "except Exception:\n",
        "  pass\n",
        "\n",
        "!pip install tensorflow-io"
      ]
    },
    {
      "cell_type": "markdown",
      "metadata": {
        "id": "yZmI7l_GykcW"
      },
      "source": [
        "### Instalar y configurar PostgreSQL (opcional)\n",
        "\n",
        "**Advertencia: Este bloc de notas fue diseñado para ejecutarse únicamente en Google Colab**. *Instala paquetes en el sistema y requiere acceso de a sudo. Si desea ejecutarlo en un bloc de notas de Jupyter local, hágalo con cuidado.*\n",
        "\n",
        "Para demostrar el uso en Google Colab, deberá instalar el servidor PostgreSQL. También se necesita la contraseña y una base de datos vacía.\n",
        "\n",
        "Si no está ejecutando este bloc de notas en Google Colab o prefiere usar una base de datos existente, omita esta configuración y continúe con la siguiente sección."
      ]
    },
    {
      "cell_type": "code",
      "execution_count": null,
      "metadata": {
        "id": "YUj0878jPyz7"
      },
      "outputs": [],
      "source": [
        "# Install postgresql server\n",
        "!sudo apt-get -y -qq update\n",
        "!sudo apt-get -y -qq install postgresql\n",
        "!sudo service postgresql start\n",
        "\n",
        "# Setup a password `postgres` for username `postgres`\n",
        "!sudo -u postgres psql -U postgres -c \"ALTER USER postgres PASSWORD 'postgres';\"\n",
        "\n",
        "# Setup a database with name `tfio_demo` to be used\n",
        "!sudo -u postgres psql -U postgres -c 'DROP DATABASE IF EXISTS tfio_demo;'\n",
        "!sudo -u postgres psql -U postgres -c 'CREATE DATABASE tfio_demo;'"
      ]
    },
    {
      "cell_type": "markdown",
      "metadata": {
        "id": "e4_59-RLMRgT"
      },
      "source": [
        "### Configurar las variables del entorno necesarias\n",
        "\n",
        "Las siguientes variables del entorno se basan en la configuración de PostgreSQL en la última sección. Si tiene una configuración diferente o está usando una base de datos existente, debe cambiarla como corresponde:\n"
      ]
    },
    {
      "cell_type": "code",
      "execution_count": null,
      "metadata": {
        "id": "0dRotqDMswcK"
      },
      "outputs": [],
      "source": [
        "%env TFIO_DEMO_DATABASE_NAME=tfio_demo\n",
        "%env TFIO_DEMO_DATABASE_HOST=localhost\n",
        "%env TFIO_DEMO_DATABASE_PORT=5432\n",
        "%env TFIO_DEMO_DATABASE_USER=postgres\n",
        "%env TFIO_DEMO_DATABASE_PASS=postgres"
      ]
    },
    {
      "cell_type": "markdown",
      "metadata": {
        "id": "9reCVv0mE_9O"
      },
      "source": [
        "### Preparar datos en el servidor PostgreSQL\n",
        "\n",
        "Para fines de demostración, este tutorial creará una base de datos y la completará con algunos datos. Los datos que se usan en este tutorial provienen del [conjunto de datos de calidad del aire](https://archive.ics.uci.edu/ml/datasets/Air+Quality), disponible en [el repositorio de aprendizaje automático de UCI](http://archive.ics.uci.edu/ml).\n",
        "\n",
        "A continuación se muestra un adelanto de un subconjunto del conjunto de datos sobre la calidad del aire:\n",
        "\n",
        "Fecha | Hora | CO(GT) | PT08.S1(CO) | NMHC(GT) | C6H6(GT) | PT08.S2(NMHC) | NOx(GT) | PT08.S3(NOx) | NO2(GT) | PT08.S4(NO2) | PT08.S5(O3) | T | RH | AH\n",
        "--- | --- | --- | --- | --- | --- | --- | --- | --- | --- | --- | --- | --- | --- | ---\n",
        "10/03/2004 | 18.00.00 | 2,6 | 1360 | 150 | 11,9 | 1046 | 166 | 1056 | 113 | 1692 | 1268 | 13,6 | 48,9 | 0,7578\n",
        "10/03/2004 | 19.00.00 | 2 | 1292 | 112 | 9,4 | 955 | 103 | 1174 | 92 | 1559 | 972 | 13,3 | 47,7 | 0,7255\n",
        "10/03/2004 | 20.00.00 | 2,2 | 1402 | 88 | 9,0 | 939 | 131 | 1140 | 114 | 1555 | 1074 | 11,9 | 54,0 | 0,7502\n",
        "10/03/2004 | 21.00.00 | 2,2 | 1376 | 80 | 9,2 | 948 | 172 | 1092 | 122 | 1584 | 1203 | 11,0 | 60,0 | 0,7867\n",
        "10/03/2004 | 22.00.00 | 1,6 | 1272 | 51 | 6,5 | 836 | 131 | 1205 | 116 | 1490 | 1110 | 11,2 | 59,6 | 0,7888\n",
        "\n",
        "Puede obtener más información sobre el conjunto de datos de calidad del aire y el repositorio de aprendizaje automático de UCI en la sección de [Referencias](#references).\n",
        "\n",
        "Para ayudar a simplificar la preparación de datos, se ha preparado una versión SQL del conjunto de datos de calidad del aire y la puede encontrar como [AirQualityUCI.sql](https://github.com/tensorflow/io/blob/master/docs/tutorials/postgresql/AirQualityUCI.sql).\n",
        "\n",
        "La declaración para crear la tabla es:\n",
        "\n",
        "```\n",
        "CREATE TABLE AirQualityUCI (\n",
        "  Date DATE,\n",
        "  Time TIME,\n",
        "  CO REAL,\n",
        "  PT08S1 INT,\n",
        "  NMHC REAL,\n",
        "  C6H6 REAL,\n",
        "  PT08S2 INT,\n",
        "  NOx REAL,\n",
        "  PT08S3 INT,\n",
        "  NO2 REAL,\n",
        "  PT08S4 INT,\n",
        "  PT08S5 INT,\n",
        "  T REAL,\n",
        "  RH REAL,\n",
        "  AH REAL\n",
        ");\n",
        "```\n",
        "\n",
        "Los comandos completos para crear la tabla en la base de datos y completar los datos son:"
      ]
    },
    {
      "cell_type": "code",
      "execution_count": null,
      "metadata": {
        "id": "W1eVidg3JrPV"
      },
      "outputs": [],
      "source": [
        "!curl -s -OL https://github.com/tensorflow/io/raw/master/docs/tutorials/postgresql/AirQualityUCI.sql\n",
        "\n",
        "!PGPASSWORD=$TFIO_DEMO_DATABASE_PASS psql -q -h $TFIO_DEMO_DATABASE_HOST -p $TFIO_DEMO_DATABASE_PORT -U $TFIO_DEMO_DATABASE_USER -d $TFIO_DEMO_DATABASE_NAME -f AirQualityUCI.sql"
      ]
    },
    {
      "cell_type": "markdown",
      "metadata": {
        "id": "acEST3amdyDI"
      },
      "source": [
        "### Crear un conjunto de datos desde el servidor PostgreSQL y usarlo en TensorFlow\n",
        "\n",
        "Crear un conjunto de datos desde el servidor PostgreSQL es tan fácil como llamar `tfio.experimental.IODataset.from_sql` con argumentos `query` y `endpoint`. La `query` es la consulta SQL para columnas seleccionadas en tablas y el argumento `endpoint` es la dirección y el nombre de la base de datos:"
      ]
    },
    {
      "cell_type": "code",
      "execution_count": null,
      "metadata": {
        "id": "h21RdP7meGzP"
      },
      "outputs": [],
      "source": [
        "import os\n",
        "import tensorflow_io as tfio\n",
        "\n",
        "endpoint=\"postgresql://{}:{}@{}?port={}&dbname={}\".format(\n",
        "    os.environ['TFIO_DEMO_DATABASE_USER'],\n",
        "    os.environ['TFIO_DEMO_DATABASE_PASS'],\n",
        "    os.environ['TFIO_DEMO_DATABASE_HOST'],\n",
        "    os.environ['TFIO_DEMO_DATABASE_PORT'],\n",
        "    os.environ['TFIO_DEMO_DATABASE_NAME'],\n",
        ")\n",
        "\n",
        "dataset = tfio.experimental.IODataset.from_sql(\n",
        "    query=\"SELECT co, pt08s1 FROM AirQualityUCI;\",\n",
        "    endpoint=endpoint)\n",
        "\n",
        "print(dataset.element_spec)"
      ]
    },
    {
      "cell_type": "markdown",
      "metadata": {
        "id": "8y-VpwcWNYTF"
      },
      "source": [
        "Como puede ver en el resultado de `dataset.element_spec` anterior, el elemento del `Dataset` que se crea es un objeto dict de Python con nombres de columnas de la tabla de la base de datos como claves. Es muy conveniente aplicar más operaciones. Por ejemplo, puede seleccionar los campos `nox` y `no2` del `Dataset` y calcular la diferencia:"
      ]
    },
    {
      "cell_type": "code",
      "execution_count": null,
      "metadata": {
        "id": "qCoueXYZOvqZ"
      },
      "outputs": [],
      "source": [
        "dataset = tfio.experimental.IODataset.from_sql(\n",
        "    query=\"SELECT nox, no2 FROM AirQualityUCI;\",\n",
        "    endpoint=endpoint)\n",
        "\n",
        "dataset = dataset.map(lambda e: (e['nox'] - e['no2']))\n",
        "\n",
        "# check only the first 20 record\n",
        "dataset = dataset.take(20)\n",
        "\n",
        "print(\"NOx - NO2:\")\n",
        "for difference in dataset:\n",
        "  print(difference.numpy())"
      ]
    },
    {
      "cell_type": "markdown",
      "metadata": {
        "id": "xO2pheWEPQSU"
      },
      "source": [
        "El `Dataset` creado ya está listo para pasarse a `tf.keras` directamente para entrenamiento o inferencia."
      ]
    },
    {
      "cell_type": "markdown",
      "metadata": {
        "id": "AzQoxSlHVv1k"
      },
      "source": [
        "## Referencias\n",
        "\n",
        "- Dua, D. and Graff, C. (2019). UCI Machine Learning Repository [http://archive.ics.uci.edu/ml]. Irvine, CA: University of California, School of Information and Computer Science.\n",
        "- S. De Vito, E. Massera, M. Piga, L. Martinotto, G. Di Francia, On field calibration of an electronic nose for benzene estimation in an urban pollution monitoring scenario, Sensors and Actuators B: Chemical, Volume 129, Issue 2, 22 February 2008, Pages 750-757, ISSN 0925-4005"
      ]
    }
  ],
  "metadata": {
    "colab": {
      "collapsed_sections": [
        "Tce3stUlHN0L"
      ],
      "name": "postgresql.ipynb",
      "toc_visible": true
    },
    "kernelspec": {
      "display_name": "Python 3",
      "name": "python3"
    }
  },
  "nbformat": 4,
  "nbformat_minor": 0
}
