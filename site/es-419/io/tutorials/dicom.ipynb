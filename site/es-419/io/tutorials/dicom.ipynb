{
  "cells": [
    {
      "cell_type": "markdown",
      "metadata": {
        "id": "Tce3stUlHN0L"
      },
      "source": [
        "##### Copyright 2019 The TensorFlow IO Authors."
      ]
    },
    {
      "cell_type": "code",
      "execution_count": null,
      "metadata": {
        "cellView": "form",
        "id": "tuOe1ymfHZPu"
      },
      "outputs": [],
      "source": [
        "#@title Licensed under the Apache License, Version 2.0 (the \"License\");\n",
        "# you may not use this file except in compliance with the License.\n",
        "# You may obtain a copy of the License at\n",
        "#\n",
        "# https://www.apache.org/licenses/LICENSE-2.0\n",
        "#\n",
        "# Unless required by applicable law or agreed to in writing, software\n",
        "# distributed under the License is distributed on an \"AS IS\" BASIS,\n",
        "# WITHOUT WARRANTIES OR CONDITIONS OF ANY KIND, either express or implied.\n",
        "# See the License for the specific language governing permissions and\n",
        "# limitations under the License."
      ]
    },
    {
      "cell_type": "markdown",
      "metadata": {
        "id": "qFdPvlXBOdUN"
      },
      "source": [
        "# Decodificar archivos DICOM para imágenes médicas"
      ]
    },
    {
      "cell_type": "markdown",
      "metadata": {
        "id": "MfBg1C5NB3X0"
      },
      "source": [
        "<table class=\"tfo-notebook-buttons\" align=\"left\">\n",
        "  <td>     <a target=\"_blank\" href=\"https://www.tensorflow.org/io/tutorials/dicom\"><img src=\"https://www.tensorflow.org/images/tf_logo_32px.png\">Ver en TensorFlow.org</a>\n",
        "</td>\n",
        "  <td>     <a target=\"_blank\" href=\"https://colab.research.google.com/github/tensorflow/io/blob/master/docs/tutorials/dicom.ipynb\"><img src=\"https://www.tensorflow.org/images/colab_logo_32px.png\">Ejecutar en Google Colab</a>\n",
        "</td>\n",
        "  <td>     <a target=\"_blank\" href=\"https://github.com/tensorflow/io/blob/master/docs/tutorials/dicom.ipynb\"><img src=\"https://www.tensorflow.org/images/GitHub-Mark-32px.png\">Ver código fuente en GitHub</a>\n",
        "</td>\n",
        "      <td>     <a href=\"https://storage.googleapis.com/tensorflow_docs/io/docs/tutorials/dicom.ipynb\"><img src=\"https://www.tensorflow.org/images/download_logo_32px.png\">Descargar el bloc de notas</a>\n",
        "</td>\n",
        "</table>"
      ]
    },
    {
      "cell_type": "markdown",
      "metadata": {
        "id": "xHxb-dlhMIzW"
      },
      "source": [
        "## Descripción general\n",
        "\n",
        "En este tutorial se muestra cómo usar `tfio.image.decode_dicom_image` en TensorFlow IO para decodificar archivos DICOM con TensorFlow."
      ]
    },
    {
      "cell_type": "markdown",
      "metadata": {
        "id": "MUXex9ctTuDB"
      },
      "source": [
        "## Configuración y uso"
      ]
    },
    {
      "cell_type": "markdown",
      "metadata": {
        "id": "4YsfgDMZW5g6"
      },
      "source": [
        "#### Descargar la imagen DICOM\n",
        "\n",
        "La imagen DICOM que se usa en este tutorial proviene del [conjunto de datos de radiografías de tórax de los Institutos Nacionales de Salud](https://cloud.google.com/healthcare/docs/resources/public-datasets/nih-chest).\n",
        "\n",
        "El conjunto de datos de radiografías de tórax de los Institutos Nacionales de Salud (NIH, por sus siglas en inglés) consta de 100.000 imágenes no identificadas de radiografías de tórax en formato PNG, proporcionadas por el Centro Clínico de los NIH y que se pueden descargar a través de [este enlace](https://nihcc.app.box.com/v/ChestXray-NIHCC).\n",
        "\n",
        "Google Cloud también proporciona una versión DICOM de las imágenes, disponible en [Cloud Storage](https://cloud.google.com/healthcare/docs/resources/public-datasets/nih-chest).\n",
        "\n",
        "En este tutorial, descargará un archivo de muestra del conjunto de datos del [repositorio de GitHub.](https://github.com/tensorflow/io/raw/master/docs/tutorials/dicom/dicom_00000001_000.dcm)\n",
        "\n",
        "Nota: Para obtener más información sobre el conjunto de datos, consulte la siguiente referencia:\n",
        "\n",
        "- Xiaosong Wang, Yifan Peng, Le Lu, Zhiyong Lu, Mohammadhadi Bagheri, Ronald Summers, ChestX-ray8: Hospital-scale Chest X-ray Database and Benchmarks on Weakly-Supervised Classification and Localization of Common Thorax Diseases, IEEE CVPR, pp. 3462-3471, 2017\n"
      ]
    },
    {
      "cell_type": "code",
      "execution_count": null,
      "metadata": {
        "id": "Tu01THzWcE-J"
      },
      "outputs": [],
      "source": [
        "!curl -OL https://github.com/tensorflow/io/raw/master/docs/tutorials/dicom/dicom_00000001_000.dcm\n",
        "!ls -l dicom_00000001_000.dcm"
      ]
    },
    {
      "cell_type": "markdown",
      "metadata": {
        "id": "upgCc3gXybsA"
      },
      "source": [
        "### Instale los paquetes necesarios y reinicie el tiempo de ejecución"
      ]
    },
    {
      "cell_type": "code",
      "execution_count": null,
      "metadata": {
        "id": "NwL3fEMQuZrk"
      },
      "outputs": [],
      "source": [
        "try:\n",
        "  # Use the Colab's preinstalled TensorFlow 2.x\n",
        "  %tensorflow_version 2.x \n",
        "except:\n",
        "  pass"
      ]
    },
    {
      "cell_type": "code",
      "execution_count": null,
      "metadata": {
        "id": "uUDYyMZRfkX4"
      },
      "outputs": [],
      "source": [
        "!pip install tensorflow-io"
      ]
    },
    {
      "cell_type": "markdown",
      "metadata": {
        "id": "yZmI7l_GykcW"
      },
      "source": [
        "### Decodifique la imagen DICOM"
      ]
    },
    {
      "cell_type": "code",
      "execution_count": null,
      "metadata": {
        "id": "YUj0878jPyz7"
      },
      "outputs": [],
      "source": [
        "import matplotlib.pyplot as plt\n",
        "import numpy as np\n",
        "\n",
        "import tensorflow as tf"
      ]
    },
    {
      "cell_type": "code",
      "execution_count": null,
      "metadata": {
        "id": "zK7IEukfuUuF"
      },
      "outputs": [],
      "source": [
        "import tensorflow_io as tfio\n",
        "\n",
        "image_bytes = tf.io.read_file('dicom_00000001_000.dcm')\n",
        "\n",
        "image = tfio.image.decode_dicom_image(image_bytes, dtype=tf.uint16)\n",
        "\n",
        "skipped = tfio.image.decode_dicom_image(image_bytes, on_error='skip', dtype=tf.uint8)\n",
        "\n",
        "lossy_image = tfio.image.decode_dicom_image(image_bytes, scale='auto', on_error='lossy', dtype=tf.uint8)\n",
        "\n",
        "\n",
        "fig, axes = plt.subplots(1,2, figsize=(10,10))\n",
        "axes[0].imshow(np.squeeze(image.numpy()), cmap='gray')\n",
        "axes[0].set_title('image')\n",
        "axes[1].imshow(np.squeeze(lossy_image.numpy()), cmap='gray')\n",
        "axes[1].set_title('lossy image');"
      ]
    },
    {
      "cell_type": "markdown",
      "metadata": {
        "id": "VbkKcNZunw3N"
      },
      "source": [
        "### Decodifique los metadatos DICOM y trabaje con etiquetas"
      ]
    },
    {
      "cell_type": "markdown",
      "metadata": {
        "id": "D7tuwYksn8e7"
      },
      "source": [
        "`decode_dicom_data` decodifica la información de la etiqueta. `dicom_tags` contiene información útil como la edad y el sexo del paciente, por lo que puede usar etiquetas DICOM como `dicom_tags.PatientsAge` y `dicom_tags.PatientsSex`. tensorflow_io toma prestada la misma notación de etiquetas del paquete pydicom dicom."
      ]
    },
    {
      "cell_type": "code",
      "execution_count": null,
      "metadata": {
        "id": "OqHkXwF0oI3L"
      },
      "outputs": [],
      "source": [
        "tag_id = tfio.image.dicom_tags.PatientsAge\n",
        "tag_value = tfio.image.decode_dicom_data(image_bytes,tag_id)\n",
        "print(tag_value)"
      ]
    },
    {
      "cell_type": "code",
      "execution_count": null,
      "metadata": {
        "id": "J2wZ-7OcoPPs"
      },
      "outputs": [],
      "source": [
        "print(f\"PatientsAge : {tag_value.numpy().decode('UTF-8')}\")"
      ]
    },
    {
      "cell_type": "code",
      "execution_count": null,
      "metadata": {
        "id": "Ce6ymbskoTOe"
      },
      "outputs": [],
      "source": [
        "tag_id = tfio.image.dicom_tags.PatientsSex\n",
        "tag_value = tfio.image.decode_dicom_data(image_bytes,tag_id)\n",
        "print(f\"PatientsSex : {tag_value.numpy().decode('UTF-8')}\")"
      ]
    },
    {
      "cell_type": "markdown",
      "metadata": {
        "id": "WodUv8O1VKmr"
      },
      "source": [
        "## Documentación\n",
        "\n",
        "Este paquete tiene dos operaciones que envuelven funciones `DCMTK`. `decode_dicom_image` decodifica los datos de píxeles de los archivos DICOM y `decode_dicom_data` decodifica la información de las etiquetas. `tags` contiene etiquetas DICOM útiles como `tags.PatientsName`. La notación de etiquetas se toma prestada del paquete [`pydicom`](https://pydicom.github.io/) dicom.\n",
        "\n",
        "### Obtener datos de imagen DICOM\n",
        "\n",
        "```python\n",
        "io.dicom.decode_dicom_image(\n",
        "    contents,\n",
        "    color_dim=False,\n",
        "    on_error='skip',\n",
        "    scale='preserve',\n",
        "    dtype=tf.uint16,\n",
        "    name=None\n",
        ")\n",
        "```\n",
        "\n",
        "- **`contents`**: un tensor de tipo cadena de texto. De dimensión 0. El archivo DICOM codificado con cadena de bytes\n",
        "- **`color_dim`**: un `bool` opcional. El valor predeterminado es `False`. Si es `True`, se agregará un tercer canal a todas las imágenes lo que formará un tensor tridimensional. Una imagen en escala de grises de 1024 x 1024 será 1024 x 1024 x 1\n",
        "- **`on_error`**: El valor predeterminado es `skip`. Este atributo establece el comportamiento en caso de que ocurra un error al abrir la imagen o si el tipo de salida no puede acomodar todos los valores de entrada posibles. Por ejemplo, si el usuario establece el tipo de salida en `tf.uint8`, pero una imagen dicom almacena un tipo `tf.uint16`. `strict` arroja un error. `skip` devuelve un tensor vacío unidimensional. `lossy` continúa con la operación escalando el valor a través del atributo `scale`.\n",
        "- **`scale`**: Valores predeterminados para `preserve`. Este atributo establece qué hacer con la escala de los valores de entrada. `auto` escalará automáticamente los valores de entrada, si el tipo de salida es entero, `auto` usará la escala de salida máxima, por ejemplo, un `uint8` que almacena valores de [0, 255] se puede estirar linealmente para llenar un `uint16` que es [0,65535]. Si la salida es flotante, `auto` escalará a [0,1]. `preserve` mantiene los valores como están, un valor de entrada mayor que la salida máxima posible se recortará.\n",
        "- **`dtype`**: un `tf.DType` opcional de: `tf.uint8, tf.uint16, tf.uint32, tf.uint64, tf.float16, tf.float32, tf.float64`. El valor predeterminado es `tf.uint16`.\n",
        "- **`name`**: un nombre para la operación (opcional).\n",
        "\n",
        "**Devuelve** un `Tensor` de tipo `dtype` y la forma está determinada por el archivo DICOM.\n",
        "\n",
        "### Obtener datos de etiquetas DICOM\n",
        "\n",
        "```python\n",
        "io.dicom.decode_dicom_data(\n",
        "    contents,\n",
        "    tags=None,\n",
        "    name=None\n",
        ")\n",
        "```\n",
        "\n",
        "- **`contents`**: un tensor de tipo cadena de texto. De dimensión 0. El archivo DICOM codificado con cadena de bytes\n",
        "- **`tags`**: un tensor de tipo `tf.uint32` de cualquier dimensión. Estos números `uint32` se asignan directamente a etiquetas DICOM\n",
        "- **`name`**: un nombre para la operación (opcional).\n",
        "\n",
        "**Devuelve** un `Tensor` de tipo `tf.string` y la misma forma que `tags`. Si una etiqueta dicom es una lista de cadenas, se combinan en una sola cadena y se separan por una doble barra invertida `\\`. Hay un error en [DCMTK](https://support.dcmtk.org/docs/) si la etiqueta es una lista de números, solo el elemento cero se devolverá como una cadena.\n",
        "\n",
        "### Bibtex\n",
        "\n",
        "Si este paquete le sirvió, use lo siguiente para citarlo:\n",
        "\n",
        "```\n",
        "@misc{marcelo_lerendegui_2019_3337331,\n",
        "  author       = {Marcelo Lerendegui and\n",
        "                  Ouwen Huang},\n",
        "  title        = {Tensorflow Dicom Decoder},\n",
        "  month        = jul,\n",
        "  year         = 2019,\n",
        "  doi          = {10.5281/zenodo.3337331},\n",
        "  url          = {https://doi.org/10.5281/zenodo.3337331}\n",
        "}\n",
        "```\n",
        "\n",
        "### Licencia\n",
        "\n",
        "Copyright 2019 Marcelo Lerendegui, Ouwen Huang, Gradient Health Inc.\n",
        "\n",
        "Bajo licencia de Apache, Versión 2.0 (la \"Licencia\"); no puede usar este archivo excepto de conformidad con la Licencia. Puede obtener una copia de la Licencia en\n",
        "\n",
        "http://www.apache.org/licenses/LICENSE-2.0\n",
        "\n",
        "A menos que lo exija la ley aplicable o se acuerde por escrito, el software distribuido bajo la Licencia se distribuye \"TAL CUAL\", SIN GARANTÍAS NI CONDICIONES DE NINGÚN TIPO, ya sean expresas o implícitas. Consulte la Licencia para conocer el idioma específico que rige los permisos y limitaciones de la Licencia."
      ]
    }
  ],
  "metadata": {
    "colab": {
      "collapsed_sections": [
        "Tce3stUlHN0L"
      ],
      "name": "dicom.ipynb",
      "toc_visible": true
    },
    "kernelspec": {
      "display_name": "Python 3",
      "name": "python3"
    }
  },
  "nbformat": 4,
  "nbformat_minor": 0
}
