{
  "cells": [
    {
      "cell_type": "markdown",
      "metadata": {
        "id": "Tce3stUlHN0L"
      },
      "source": [
        "##### Copyright 2020 The TensorFlow IO Authors."
      ]
    },
    {
      "cell_type": "code",
      "execution_count": null,
      "metadata": {
        "cellView": "form",
        "id": "tuOe1ymfHZPu"
      },
      "outputs": [],
      "source": [
        "#@title Licensed under the Apache License, Version 2.0 (the \"License\");\n",
        "# you may not use this file except in compliance with the License.\n",
        "# You may obtain a copy of the License at\n",
        "#\n",
        "# https://www.apache.org/licenses/LICENSE-2.0\n",
        "#\n",
        "# Unless required by applicable law or agreed to in writing, software\n",
        "# distributed under the License is distributed on an \"AS IS\" BASIS,\n",
        "# WITHOUT WARRANTIES OR CONDITIONS OF ANY KIND, either express or implied.\n",
        "# See the License for the specific language governing permissions and\n",
        "# limitations under the License."
      ]
    },
    {
      "cell_type": "markdown",
      "metadata": {
        "id": "qFdPvlXBOdUN"
      },
      "source": [
        "# Conversiones de espacio de colores"
      ]
    },
    {
      "cell_type": "markdown",
      "metadata": {
        "id": "MfBg1C5NB3X0"
      },
      "source": [
        "<table class=\"tfo-notebook-buttons\" align=\"left\">\n",
        "  <td>     <a target=\"_blank\" href=\"https://www.tensorflow.org/io/tutorials/colorspace\"><img src=\"https://www.tensorflow.org/images/tf_logo_32px.png\">Ver en TensorFlow.org</a>\n",
        "</td>\n",
        "  <td>     <a target=\"_blank\" href=\"https://colab.research.google.com/github/tensorflow/docs-l10n/blob/master/site/es-419/io/tutorials/colorspace.ipynb\"><img src=\"https://www.tensorflow.org/images/colab_logo_32px.png\">Ejecutar en Google Colab</a>\n",
        "</td>\n",
        "  <td>     <a target=\"_blank\" href=\"https://github.com/tensorflow/docs-l10n/blob/master/site/es-419/io/tutorials/colorspace.ipynb\"><img src=\"https://www.tensorflow.org/images/GitHub-Mark-32px.png\">Ver código fuente en GitHub</a>\n",
        "</td>\n",
        "      <td>     <a href=\"https://storage.googleapis.com/tensorflow_docs/docs-l10n/site/es-419/io/tutorials/colorspace.ipynb\"><img src=\"https://www.tensorflow.org/images/download_logo_32px.png\">Descargar el bloc de notas</a>\n",
        "</td>\n",
        "</table>"
      ]
    },
    {
      "cell_type": "markdown",
      "metadata": {
        "id": "xHxb-dlhMIzW"
      },
      "source": [
        "## Descripción general\n",
        "\n",
        "En visión por computadora, el espacio de colores seleccionado podría tener un impacto significativo en el rendimiento del modelo. Si bien `RGB` es el espacio de colores más común, en muchas situaciones el modelo funciona mejor cuando se cambia a espacios de colores alternativos como `YUV`, `YCbCr`, `XYZ (CIE)`, etc.\n",
        "\n",
        "El paquete `tensorflow-io` proporciona una lista de API de conversión de espacios de colores que se pueden usar para preparar y aumentar los datos de la imagen."
      ]
    },
    {
      "cell_type": "markdown",
      "metadata": {
        "id": "MUXex9ctTuDB"
      },
      "source": [
        "## Preparación"
      ]
    },
    {
      "cell_type": "markdown",
      "metadata": {
        "id": "upgCc3gXybsA"
      },
      "source": [
        "### Instale los paquetes necesarios y reinicie el tiempo de ejecución"
      ]
    },
    {
      "cell_type": "code",
      "execution_count": null,
      "metadata": {
        "id": "uUDYyMZRfkX4"
      },
      "outputs": [],
      "source": [
        "!pip install tensorflow-io"
      ]
    },
    {
      "cell_type": "markdown",
      "metadata": {
        "id": "VSkY6UAxODOq"
      },
      "source": [
        "### Descargue la imagen de muestra\n",
        "\n",
        "El ejemplo de imagen que se usa en este tutorial es un [gato en la nieve](https://commons.wikimedia.org/wiki/File:Felis_catus-cat_on_snow.jpg), aunque podría reemplazarse por cualquier imagen JPEG.\n",
        "\n",
        "Lo siguiente descargará la imagen y la guardará en el disco local como `sample.jpg`:"
      ]
    },
    {
      "cell_type": "code",
      "execution_count": null,
      "metadata": {
        "id": "baeqVsglPQUI"
      },
      "outputs": [],
      "source": [
        "!curl -o sample.jpg -L https://storage.googleapis.com/download.tensorflow.org/example_images/320px-Felis_catus-cat_on_snow.jpg\n",
        "\n",
        "!ls -ls sample.jpg"
      ]
    },
    {
      "cell_type": "markdown",
      "metadata": {
        "id": "J0ZKhA6s0Pjp"
      },
      "source": [
        "## Uso"
      ]
    },
    {
      "cell_type": "markdown",
      "metadata": {
        "id": "yZmI7l_GykcW"
      },
      "source": [
        "### Leer archivo de imagen\n",
        "\n",
        "Lea y decodifique la imagen en un tensor `uint8` de forma `(213, 320, 3)`"
      ]
    },
    {
      "cell_type": "code",
      "execution_count": null,
      "metadata": {
        "id": "nS3eTBvjt-O5"
      },
      "outputs": [],
      "source": [
        "import tensorflow as tf\n",
        "import tensorflow_io as tfio\n",
        "\n",
        "image = tf.image.decode_jpeg(tf.io.read_file('sample.jpg'))\n",
        "\n",
        "print(image.shape, image.dtype)"
      ]
    },
    {
      "cell_type": "markdown",
      "metadata": {
        "id": "IGnbXuVnSo8T"
      },
      "source": [
        "La imagen se puede mostrar con:"
      ]
    },
    {
      "cell_type": "code",
      "execution_count": null,
      "metadata": {
        "id": "0rLbVxuFSvVO"
      },
      "outputs": [],
      "source": [
        "import matplotlib.pyplot as plt\n",
        "\n",
        "plt.figure()\n",
        "plt.imshow(image)\n",
        "plt.axis('off')\n",
        "plt.show()"
      ]
    },
    {
      "cell_type": "markdown",
      "metadata": {
        "id": "86qE8BPl5rcA"
      },
      "source": [
        "### Convertir RGB a escala de grises\n",
        "\n",
        "Una imagen `RGB` se puede convertir a `Grayscale` para reducir el canal de 3 a 1 con `tfio.experimental.color.rgb_to_grayscale`:"
      ]
    },
    {
      "cell_type": "code",
      "execution_count": null,
      "metadata": {
        "id": "eEa0Z5U26Ep3"
      },
      "outputs": [],
      "source": [
        "grayscale = tfio.experimental.color.rgb_to_grayscale(image)\n",
        "\n",
        "print(grayscale.shape, grayscale.dtype)\n",
        "\n",
        "# use tf.squeeze to remove last channel for plt.imshow to display:\n",
        "plt.figure()\n",
        "plt.imshow(tf.squeeze(grayscale, axis=-1), cmap='gray')\n",
        "plt.axis('off')\n",
        "plt.show()"
      ]
    },
    {
      "cell_type": "markdown",
      "metadata": {
        "id": "ineBzDeu-lTh"
      },
      "source": [
        "### Convertir RGB a BGR\n",
        "\n",
        "Algunos fabricantes de software de imágenes y cámaras pueden preferir `BGR`, que se puede obtener a través de `tfio.experimental.color.rgb_to_bgr`:"
      ]
    },
    {
      "cell_type": "code",
      "execution_count": null,
      "metadata": {
        "id": "LfZo0XaaAaeM"
      },
      "outputs": [],
      "source": [
        "bgr = tfio.experimental.color.rgb_to_bgr(image)\n",
        "\n",
        "print(bgr.shape, bgr.dtype)\n",
        "\n",
        "plt.figure()\n",
        "plt.imshow(bgr)\n",
        "plt.axis('off')\n",
        "plt.show()"
      ]
    },
    {
      "cell_type": "markdown",
      "metadata": {
        "id": "nXd776xNIr_I"
      },
      "source": [
        "### Convertir RGB a CIE XYZ\n",
        "\n",
        "`CIE XYZ` (o `CIE 1931 XYZ` es un espacio de colores común que se usa en muchos programas de procesamiento de imágenes. La siguiente es la conversión de RGB a `CIE XYZ` a través de `tfio.experimental.color.rgb_to_xyz`. Nota: `tfio.experimental.color.rgb_to_xyz` asume una entrada de punto flotante en el rango de `[0, 1]`, por lo que se necesita un preprocesamiento adicional:"
      ]
    },
    {
      "cell_type": "code",
      "execution_count": null,
      "metadata": {
        "id": "kLEdfkkoK27A"
      },
      "outputs": [],
      "source": [
        "# convert to float32\n",
        "image_float32 = tf.cast(image, tf.float32) / 255.0\n",
        "\n",
        "xyz_float32 = tfio.experimental.color.rgb_to_xyz(image_float32)\n",
        "\n",
        "# convert back uint8\n",
        "xyz = tf.cast(xyz_float32 * 255.0, tf.uint8)\n",
        "\n",
        "print(xyz.shape, xyz.dtype)\n",
        "\n",
        "plt.figure()\n",
        "plt.imshow(xyz)\n",
        "plt.axis('off')\n",
        "plt.show()"
      ]
    },
    {
      "cell_type": "markdown",
      "metadata": {
        "id": "7rhLvOSZB0k0"
      },
      "source": [
        "### Convertir RGB a YCbCr\n",
        "\n",
        "Finalmente, `YCbCr` es el espacio de colores predeterminado en muchos sistemas de vídeo. La conversión a `YCbCr` se puede realizar a través de `tfio.experimental.color.rgb_to_ycbcr`:"
      ]
    },
    {
      "cell_type": "code",
      "execution_count": null,
      "metadata": {
        "id": "UyFMBK-LDDnN"
      },
      "outputs": [],
      "source": [
        "ycbcr = tfio.experimental.color.rgb_to_ycbcr(image)\n",
        "\n",
        "print(ycbcr.shape, ycbcr.dtype)\n",
        "\n",
        "plt.figure()\n",
        "plt.imshow(ycbcr, cmap='gray')\n",
        "plt.axis('off')\n",
        "plt.show()"
      ]
    },
    {
      "cell_type": "markdown",
      "metadata": {
        "id": "VuL8rrnhwab4"
      },
      "source": [
        "Sin embargo, lo más interesante es que `YCbCr` podría descomponerse en componentes `Y'` (luma), `Cb` (croma de diferencia de azul) y `Cr` (croma de diferencia de rojo), y cada componente contiene información perceptualmente significativa:"
      ]
    },
    {
      "cell_type": "code",
      "execution_count": null,
      "metadata": {
        "id": "wvur-gtyxjwG"
      },
      "outputs": [],
      "source": [
        "y, cb, cr = ycbcr[:,:,0], ycbcr[:,:,1], ycbcr[:,:,2]\n",
        "\n",
        "# Y' component\n",
        "plt.figure()\n",
        "plt.imshow(y, cmap='gray')\n",
        "plt.axis('off')\n",
        "plt.show()\n",
        "\n",
        "# Cb component\n",
        "plt.figure()\n",
        "plt.imshow(cb, cmap='gray')\n",
        "plt.axis('off')\n",
        "plt.show()\n",
        "\n",
        "# Cr component\n",
        "plt.figure()\n",
        "plt.imshow(cr, cmap='gray')\n",
        "plt.axis('off')\n",
        "plt.show()"
      ]
    }
  ],
  "metadata": {
    "colab": {
      "collapsed_sections": [
        "Tce3stUlHN0L"
      ],
      "name": "colorspace.ipynb",
      "toc_visible": true
    },
    "kernelspec": {
      "display_name": "Python 3",
      "name": "python3"
    }
  },
  "nbformat": 4,
  "nbformat_minor": 0
}
