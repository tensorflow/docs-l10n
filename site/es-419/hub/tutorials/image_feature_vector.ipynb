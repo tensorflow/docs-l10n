{
  "cells": [
    {
      "cell_type": "markdown",
      "metadata": {
        "id": "ScitaPqhKtuW"
      },
      "source": [
        "##### Copyright 2018 The TensorFlow Hub Authors.\n",
        "\n",
        "Licensed under the Apache License, Version 2.0 (the \"License\");"
      ]
    },
    {
      "cell_type": "code",
      "execution_count": null,
      "metadata": {
        "id": "bNnChGfZK2_w"
      },
      "outputs": [],
      "source": [
        "# Copyright 2018 The TensorFlow Hub Authors. All Rights Reserved.\n",
        "#\n",
        "# Licensed under the Apache License, Version 2.0 (the \"License\");\n",
        "# you may not use this file except in compliance with the License.\n",
        "# You may obtain a copy of the License at\n",
        "#\n",
        "#     http://www.apache.org/licenses/LICENSE-2.0\n",
        "#\n",
        "# Unless required by applicable law or agreed to in writing, software\n",
        "# distributed under the License is distributed on an \"AS IS\" BASIS,\n",
        "# WITHOUT WARRANTIES OR CONDITIONS OF ANY KIND, either express or implied.\n",
        "# See the License for the specific language governing permissions and\n",
        "# limitations under the License.\n",
        "# =============================================================================="
      ]
    },
    {
      "cell_type": "markdown",
      "metadata": {
        "id": "9Z_ZvMk5JPFV"
      },
      "source": [
        "# Clasificación de flores con aprendizaje por transferencia\n"
      ]
    },
    {
      "cell_type": "markdown",
      "metadata": {
        "id": "MfBg1C5NB3X0"
      },
      "source": [
        "<table class=\"tfo-notebook-buttons\" align=\"left\">\n",
        "  <td><a target=\"_blank\" href=\"https://www.tensorflow.org/hub/tutorials/image_feature_vector\"><img src=\"https://www.tensorflow.org/images/tf_logo_32px.png\">Ver en TensorFlow.org</a></td>\n",
        "  <td><a target=\"_blank\" href=\"https://colab.research.google.com/github/tensorflow/docs-l10n/blob/master/site/es-419/hub/tutorials/image_feature_vector.ipynb\"><img src=\"https://www.tensorflow.org/images/colab_logo_32px.png\">Ejecutar en Google Colab</a></td>\n",
        "  <td>     <a target=\"_blank\" href=\"https://github.com/tensorflow/docs-l10n/blob/master/site/es-419/hub/tutorials/image_feature_vector.ipynb\"><img src=\"https://www.tensorflow.org/images/GitHub-Mark-32px.png\">Ver en GitHub</a>\n",
        "</td>\n",
        "  <td>     <a href=\"https://storage.googleapis.com/tensorflow_docs/docs-l10n/site/es-419/hub/tutorials/image_feature_vector.ipynb\"><img src=\"https://www.tensorflow.org/images/download_logo_32px.png\">Descargar el bloc de notas</a>\n",
        "</td>\n",
        "  <td>     <a href=\"https://tfhub.dev/google/imagenet/mobilenet_v2_035_128/feature_vector/2\"><img src=\"https://www.tensorflow.org/images/hub_logo_32px.png\">Ver modelo en TF Hub</a>\n",
        "</td>\n",
        "</table>"
      ]
    },
    {
      "cell_type": "markdown",
      "metadata": {
        "id": "gh-LWtlqLtgH"
      },
      "source": [
        "¿Alguna vez ha visto una flor hermosa y se ha preguntado qué flor es? Bueno, no es la primera persona a quien le sucede esto. Entonces, ¡creemos una forma de identificar el tipo de flor a partir de una foto!\n",
        "\n",
        "Para clasificar imágenes, se ha demostrado que hay un tipo particular de *red neuronal profunda*, llamada *red neuronal convolucional* que resulta particularmente potente para este caso. Sin embargo, las redes neuronales convolucionales modernas tienen millones de parámetros. Para entrenarlas desde cero hace falta contar con muchos datos de entrenamiento etiquetados y una gran potencia de cálculo (cientos de horas de GPU o más). Solamente tenemos tres mil fotos etiquetadas y queremos dedicarles mucho menos tiempo, por lo tanto, deberemos ser más inteligentes.\n",
        "\n",
        "Usaremos una técnica llamada *aprendizaje por transferencia* en la que se toma una red previamente entrenada (entrenada con alrededor de un millón de imágenes), la usamos para extraer las funciones y entrenamos la capa nueva encima de nuestra propia tarea de clasificación de imágenes de flores.\n"
      ]
    },
    {
      "cell_type": "markdown",
      "metadata": {
        "id": "ORy-KvWXGXBo"
      },
      "source": [
        "## Preparación\n"
      ]
    },
    {
      "cell_type": "code",
      "execution_count": null,
      "metadata": {
        "id": "NTrs9zBKJK1c"
      },
      "outputs": [],
      "source": [
        "import collections\n",
        "import io\n",
        "import math\n",
        "import os\n",
        "import random\n",
        "from six.moves import urllib\n",
        "\n",
        "from IPython.display import clear_output, Image, display, HTML\n",
        "\n",
        "import tensorflow.compat.v1 as tf\n",
        "tf.disable_v2_behavior()\n",
        "\n",
        "import tensorflow_hub as hub\n",
        "\n",
        "import numpy as np\n",
        "import matplotlib.pyplot as plt\n",
        "import seaborn as sns\n",
        "import sklearn.metrics as sk_metrics\n",
        "import time"
      ]
    },
    {
      "cell_type": "markdown",
      "metadata": {
        "id": "Do-T63G7NCSB"
      },
      "source": [
        "## Conjunto de datos de flores\n",
        "\n",
        "El conjunto de datos de flores está compuesto por imágenes de flores con 5 clases de etiquetas posibles.\n",
        "\n",
        "Cuando entrenamos un modelo de aprendizaje automático, separamos los datos en conjuntos de datos de entrenamiento y prueba. Entrenaremos el modelo con nuestros datos de entrenamiento y luego evaluaremos en qué medida el modelo se desempeña correctamente con respecto a datos que no ha visto nunca (el conjunto de prueba).\n",
        "\n",
        "Descarguemos los ejemplos de entrenamiento y prueba (puede demorar un poco) y separémoslos en conjuntos de prueba y entrenamiento.\n",
        "\n",
        "Ejecutemos las siguientes dos celdas:"
      ]
    },
    {
      "cell_type": "code",
      "execution_count": null,
      "metadata": {
        "cellView": "both",
        "id": "HYQr1SILIxSK"
      },
      "outputs": [],
      "source": [
        "FLOWERS_DIR = './flower_photos'\n",
        "TRAIN_FRACTION = 0.8\n",
        "RANDOM_SEED = 2018\n",
        "\n",
        "\n",
        "def download_images():\n",
        "  \"\"\"If the images aren't already downloaded, save them to FLOWERS_DIR.\"\"\"\n",
        "  if not os.path.exists(FLOWERS_DIR):\n",
        "    DOWNLOAD_URL = 'http://download.tensorflow.org/example_images/flower_photos.tgz'\n",
        "    print('Downloading flower images from %s...' % DOWNLOAD_URL)\n",
        "    urllib.request.urlretrieve(DOWNLOAD_URL, 'flower_photos.tgz')\n",
        "    !tar xfz flower_photos.tgz\n",
        "  print('Flower photos are located in %s' % FLOWERS_DIR)\n",
        "\n",
        "\n",
        "def make_train_and_test_sets():\n",
        "  \"\"\"Split the data into train and test sets and get the label classes.\"\"\"\n",
        "  train_examples, test_examples = [], []\n",
        "  shuffler = random.Random(RANDOM_SEED)\n",
        "  is_root = True\n",
        "  for (dirname, subdirs, filenames) in tf.gfile.Walk(FLOWERS_DIR):\n",
        "    # The root directory gives us the classes\n",
        "    if is_root:\n",
        "      subdirs = sorted(subdirs)\n",
        "      classes = collections.OrderedDict(enumerate(subdirs))\n",
        "      label_to_class = dict([(x, i) for i, x in enumerate(subdirs)])\n",
        "      is_root = False\n",
        "    # The sub directories give us the image files for training.\n",
        "    else:\n",
        "      filenames.sort()\n",
        "      shuffler.shuffle(filenames)\n",
        "      full_filenames = [os.path.join(dirname, f) for f in filenames]\n",
        "      label = dirname.split('/')[-1]\n",
        "      label_class = label_to_class[label]\n",
        "      # An example is the image file and it's label class.\n",
        "      examples = list(zip(full_filenames, [label_class] * len(filenames)))\n",
        "      num_train = int(len(filenames) * TRAIN_FRACTION)\n",
        "      train_examples.extend(examples[:num_train])\n",
        "      test_examples.extend(examples[num_train:])\n",
        "\n",
        "  shuffler.shuffle(train_examples)\n",
        "  shuffler.shuffle(test_examples)\n",
        "  return train_examples, test_examples, classes\n"
      ]
    },
    {
      "cell_type": "code",
      "execution_count": null,
      "metadata": {
        "id": "_9NklpcANhtB"
      },
      "outputs": [],
      "source": [
        "# Download the images and split the images into train and test sets.\n",
        "download_images()\n",
        "TRAIN_EXAMPLES, TEST_EXAMPLES, CLASSES = make_train_and_test_sets()\n",
        "NUM_CLASSES = len(CLASSES)\n",
        "\n",
        "print('\\nThe dataset has %d label classes: %s' % (NUM_CLASSES, CLASSES.values()))\n",
        "print('There are %d training images' % len(TRAIN_EXAMPLES))\n",
        "print('there are %d test images' % len(TEST_EXAMPLES))"
      ]
    },
    {
      "cell_type": "markdown",
      "metadata": {
        "id": "tHF7bHTfnD6S"
      },
      "source": [
        "## Exploración de los datos\n",
        "\n",
        "El conjunto de datos de flores está compuesto por ejemplos que son imágenes etiquetadas de flores. Cada ejemplo contiene una imagen de una flor en JPEG con su etiqueta de clasificación: qué tipo de flor es. Veamos algunas imágenes junto con sus etiquetas."
      ]
    },
    {
      "cell_type": "code",
      "execution_count": null,
      "metadata": {
        "cellView": "both",
        "id": "1friUvN6kPYM"
      },
      "outputs": [],
      "source": [
        "#@title Show some labeled images\n",
        "def get_label(example):\n",
        "  \"\"\"Get the label (number) for given example.\"\"\"\n",
        "  return example[1]\n",
        "\n",
        "def get_class(example):\n",
        "  \"\"\"Get the class (string) of given example.\"\"\"\n",
        "  return CLASSES[get_label(example)]\n",
        "\n",
        "def get_encoded_image(example):\n",
        "  \"\"\"Get the image data (encoded jpg) of given example.\"\"\"\n",
        "  image_path = example[0]\n",
        "  return tf.gfile.GFile(image_path, 'rb').read()\n",
        "\n",
        "def get_image(example):\n",
        "  \"\"\"Get image as np.array of pixels for given example.\"\"\"\n",
        "  return plt.imread(io.BytesIO(get_encoded_image(example)), format='jpg')\n",
        "\n",
        "def display_images(images_and_classes, cols=5):\n",
        "  \"\"\"Display given images and their labels in a grid.\"\"\"\n",
        "  rows = int(math.ceil(len(images_and_classes) / cols))\n",
        "  fig = plt.figure()\n",
        "  fig.set_size_inches(cols * 3, rows * 3)\n",
        "  for i, (image, flower_class) in enumerate(images_and_classes):\n",
        "    plt.subplot(rows, cols, i + 1)\n",
        "    plt.axis('off')\n",
        "    plt.imshow(image)\n",
        "    plt.title(flower_class)\n",
        "\n",
        "NUM_IMAGES = 15 #@param {type: 'integer'}\n",
        "display_images([(get_image(example), get_class(example))\n",
        "               for example in TRAIN_EXAMPLES[:NUM_IMAGES]])"
      ]
    },
    {
      "cell_type": "markdown",
      "metadata": {
        "id": "Hyjr6PuboTAg"
      },
      "source": [
        "## Construcción del modelo\n",
        "\n",
        "Cargaremos un módulo de vectores de funciones de imágenes de [TF-Hub](https://tensorflow.org/hub), apilaremos un clasificador lineal arriba y agregaremos operaciones de entrenamiento y evaluación. En la siguiente celda se construye un grafo de TF que describe el modelo y su entrenamiento, pero no se ejecuta el entrenamiento (se hará en el paso siguiente)."
      ]
    },
    {
      "cell_type": "code",
      "execution_count": null,
      "metadata": {
        "id": "LbkSRaK_oW5Y"
      },
      "outputs": [],
      "source": [
        "LEARNING_RATE = 0.01\n",
        "\n",
        "tf.reset_default_graph()\n",
        "\n",
        "# Load a pre-trained TF-Hub module for extracting features from images. We've\n",
        "# chosen this particular module for speed, but many other choices are available.\n",
        "image_module = hub.Module('https://tfhub.dev/google/imagenet/mobilenet_v2_035_128/feature_vector/2')\n",
        "\n",
        "# Preprocessing images into tensors with size expected by the image module.\n",
        "encoded_images = tf.placeholder(tf.string, shape=[None])\n",
        "image_size = hub.get_expected_image_size(image_module)\n",
        "\n",
        "\n",
        "def decode_and_resize_image(encoded):\n",
        "  decoded = tf.image.decode_jpeg(encoded, channels=3)\n",
        "  decoded = tf.image.convert_image_dtype(decoded, tf.float32)\n",
        "  return tf.image.resize_images(decoded, image_size)\n",
        "\n",
        "\n",
        "batch_images = tf.map_fn(decode_and_resize_image, encoded_images, dtype=tf.float32)\n",
        "\n",
        "# The image module can be applied as a function to extract feature vectors for a\n",
        "# batch of images.\n",
        "features = image_module(batch_images)\n",
        "\n",
        "\n",
        "def create_model(features):\n",
        "  \"\"\"Build a model for classification from extracted features.\"\"\"\n",
        "  # Currently, the model is just a single linear layer. You can try to add\n",
        "  # another layer, but be careful... two linear layers (when activation=None)\n",
        "  # are equivalent to a single linear layer. You can create a nonlinear layer\n",
        "  # like this:\n",
        "  # layer = tf.layers.dense(inputs=..., units=..., activation=tf.nn.relu)\n",
        "  layer = tf.layers.dense(inputs=features, units=NUM_CLASSES, activation=None)\n",
        "  return layer\n",
        "\n",
        "\n",
        "# For each class (kind of flower), the model outputs some real number as a score\n",
        "# how much the input resembles this class. This vector of numbers is often\n",
        "# called the \"logits\".\n",
        "logits = create_model(features)\n",
        "labels = tf.placeholder(tf.float32, [None, NUM_CLASSES])\n",
        "\n",
        "# Mathematically, a good way to measure how much the predicted probabilities\n",
        "# diverge from the truth is the \"cross-entropy\" between the two probability\n",
        "# distributions. For numerical stability, this is best done directly from the\n",
        "# logits, not the probabilities extracted from them.\n",
        "cross_entropy = tf.nn.softmax_cross_entropy_with_logits_v2(logits=logits, labels=labels)\n",
        "cross_entropy_mean = tf.reduce_mean(cross_entropy)\n",
        "\n",
        "# Let's add an optimizer so we can train the network.\n",
        "optimizer = tf.train.GradientDescentOptimizer(learning_rate=LEARNING_RATE)\n",
        "train_op = optimizer.minimize(loss=cross_entropy_mean)\n",
        "\n",
        "# The \"softmax\" function transforms the logits vector into a vector of\n",
        "# probabilities: non-negative numbers that sum up to one, and the i-th number\n",
        "# says how likely the input comes from class i.\n",
        "probabilities = tf.nn.softmax(logits)\n",
        "\n",
        "# We choose the highest one as the predicted class.\n",
        "prediction = tf.argmax(probabilities, 1)\n",
        "correct_prediction = tf.equal(prediction, tf.argmax(labels, 1))\n",
        "\n",
        "# The accuracy will allow us to eval on our test set. \n",
        "accuracy = tf.reduce_mean(tf.cast(correct_prediction, tf.float32))"
      ]
    },
    {
      "cell_type": "markdown",
      "metadata": {
        "id": "0vvhYQ7-3AG_"
      },
      "source": [
        "## Entrenamiento de la red\n",
        "\n",
        "Ahora que el modelo está creado, entrenémoslo y veamos cómo se desempeña con nuestro conjunto de prueba."
      ]
    },
    {
      "cell_type": "code",
      "execution_count": null,
      "metadata": {
        "id": "1YnBg7-OS3Dz"
      },
      "outputs": [],
      "source": [
        "# How long will we train the network (number of batches).\n",
        "NUM_TRAIN_STEPS = 100 #@param {type: 'integer'}\n",
        "# How many training examples we use in each step.\n",
        "TRAIN_BATCH_SIZE = 10 #@param {type: 'integer'}\n",
        "# How often to evaluate the model performance.\n",
        "EVAL_EVERY = 10 #@param {type: 'integer'}\n",
        "\n",
        "def get_batch(batch_size=None, test=False):\n",
        "  \"\"\"Get a random batch of examples.\"\"\"\n",
        "  examples = TEST_EXAMPLES if test else TRAIN_EXAMPLES\n",
        "  batch_examples = random.sample(examples, batch_size) if batch_size else examples\n",
        "  return batch_examples\n",
        "\n",
        "def get_images_and_labels(batch_examples):\n",
        "  images = [get_encoded_image(e) for e in batch_examples]\n",
        "  one_hot_labels = [get_label_one_hot(e) for e in batch_examples]\n",
        "  return images, one_hot_labels\n",
        "\n",
        "def get_label_one_hot(example):\n",
        "  \"\"\"Get the one hot encoding vector for the example.\"\"\"\n",
        "  one_hot_vector = np.zeros(NUM_CLASSES)\n",
        "  np.put(one_hot_vector, get_label(example), 1)\n",
        "  return one_hot_vector\n",
        "\n",
        "with tf.Session() as sess:\n",
        "  sess.run(tf.global_variables_initializer())\n",
        "  for i in range(NUM_TRAIN_STEPS):\n",
        "    # Get a random batch of training examples.\n",
        "    train_batch = get_batch(batch_size=TRAIN_BATCH_SIZE)\n",
        "    batch_images, batch_labels = get_images_and_labels(train_batch)\n",
        "    # Run the train_op to train the model.\n",
        "    train_loss, _, train_accuracy = sess.run(\n",
        "        [cross_entropy_mean, train_op, accuracy],\n",
        "        feed_dict={encoded_images: batch_images, labels: batch_labels})\n",
        "    is_final_step = (i == (NUM_TRAIN_STEPS - 1))\n",
        "    if i % EVAL_EVERY == 0 or is_final_step:\n",
        "      # Get a batch of test examples.\n",
        "      test_batch = get_batch(batch_size=None, test=True)\n",
        "      batch_images, batch_labels = get_images_and_labels(test_batch)\n",
        "      # Evaluate how well our model performs on the test set.\n",
        "      test_loss, test_accuracy, test_prediction, correct_predicate = sess.run(\n",
        "        [cross_entropy_mean, accuracy, prediction, correct_prediction],\n",
        "        feed_dict={encoded_images: batch_images, labels: batch_labels})\n",
        "      print('Test accuracy at step %s: %.2f%%' % (i, (test_accuracy * 100)))"
      ]
    },
    {
      "cell_type": "code",
      "execution_count": null,
      "metadata": {
        "id": "ZFUNJxuH2t0V"
      },
      "outputs": [],
      "source": [
        "def show_confusion_matrix(test_labels, predictions):\n",
        "  \"\"\"Compute confusion matrix and normalize.\"\"\"\n",
        "  confusion = sk_metrics.confusion_matrix(\n",
        "    np.argmax(test_labels, axis=1), predictions)\n",
        "  confusion_normalized = confusion.astype(\"float\") / confusion.sum(axis=1)\n",
        "  axis_labels = list(CLASSES.values())\n",
        "  ax = sns.heatmap(\n",
        "      confusion_normalized, xticklabels=axis_labels, yticklabels=axis_labels,\n",
        "      cmap='Blues', annot=True, fmt='.2f', square=True)\n",
        "  plt.title(\"Confusion matrix\")\n",
        "  plt.ylabel(\"True label\")\n",
        "  plt.xlabel(\"Predicted label\")\n",
        "\n",
        "show_confusion_matrix(batch_labels, test_prediction)"
      ]
    },
    {
      "cell_type": "markdown",
      "metadata": {
        "id": "Uu3vo8DK8BdL"
      },
      "source": [
        "## Predicciones incorrectas\n",
        "\n",
        "Observemos un poco más de cerca los ejemplos de prueba en los que nuestro modelo se equivocó.\n",
        "\n",
        "- ¿Hay algún ejemplo que tenga mal la etiqueta en nuestro conjunto de prueba?\n",
        "- ¿Hay algún dato erróneo en el conjunto de prueba? ¿Imágenes que en realidad no son fotos de flores?\n",
        "- ¿Hay imágenes que ayuden a entender por qué el modelo cometió el error?"
      ]
    },
    {
      "cell_type": "code",
      "execution_count": null,
      "metadata": {
        "id": "hqa0V3WN8C9M"
      },
      "outputs": [],
      "source": [
        "incorrect = [\n",
        "    (example, CLASSES[prediction])\n",
        "    for example, prediction, is_correct in zip(test_batch, test_prediction, correct_predicate)\n",
        "    if not is_correct\n",
        "]\n",
        "display_images(\n",
        "  [(get_image(example), \"prediction: {0}\\nlabel:{1}\".format(incorrect_prediction, get_class(example)))\n",
        "   for (example, incorrect_prediction) in incorrect[:20]])"
      ]
    },
    {
      "cell_type": "markdown",
      "metadata": {
        "id": "YN_s04Il8TvK"
      },
      "source": [
        "## Ejercicios: Mejora del modelo\n",
        "\n",
        "Hemos entrenado un modelo de base, ahora mejorémoslo para lograr una mayor exactitud. (Recuerde que cuando haga el cambio, deberá volver a ejecutar las celdas).\n",
        "\n",
        "### Ejercicio 1:  Prueba con un modelo de imágenes diferentes.\n",
        "\n",
        "Es muy fácil probar otros modelos de imágenes diferentes con TF-Hub. Simplemente, reemplace el `\"https://tfhub.dev/google/imagenet/mobilenet_v2_050_128/feature_vector/2\"` agregue la llamada a `hub.Module()` con un <em>handle</em> de un módulo diferente y vuelva a ejecutar todo el código. Puede ver todos los módulos de imágenes disponibles en [tfhub.dev](https://tfhub.dev/s?module-type=image-feature-vector).\n",
        "\n",
        "Uno de los [módulos MobileNet V2](https://tfhub.dev/s?module-type=image-feature-vector&network-architecture=mobilenet-v2) sería una buena opción. Muchos módulos, incluidos los MobileNet, fueron entrenados con el [conjunto de datos ImageNet](https://www.tensorflow.org/datasets/catalog/imagenet2012) que tiene más de 1 millón de imágenes y 1000 clases. Al elegir una arquitectura de red se efectúa una compensación (<em>tradeoff</em>) entre la velocidad y la exactitud de la clasificación: los modelos como MobileNet o NASNet Mobile son arquitecturas tradicionales más rápidas y pequeñas, del mismo modo que Inception y ResNet fueron diseñados para la exactitud.\n",
        "\n",
        "Para la arquitectura más amplia de Inception V3, también se pueden analizar los beneficios del entrenamiento previo en un dominio más cercano a su tarea: también se encuentra disponible como un [módulo entrenado con el conjunto de datos iNaturalist](https://tfhub.dev/google/inaturalist/inception_v3/feature_vector/1) sobre plantas y animales.\n",
        "\n",
        "### Ejercicio 2: Agregado de una capa oculta.\n",
        "\n",
        "Apile una capa oculta entre las características de imágenes extraídas y el clasificador lineal (de la función `create_model()` que figura arriba). Para crear una capa oculta no lineal con p. ej., 100 nodos, use [tf.layers.dense](https://www.tensorflow.org/api_docs/python/tf/compat/v1/layers/dense) con unidades en 100 y activación con `tf.nn.relu`. ¿El cambio de la capa oculta afecta a la precisión de la prueba? ¿Agregar una segunda capa oculta mejora la exactitud?\n",
        "\n",
        "### Ejercicio 3: Cambio de los hiperparámetros.\n",
        "\n",
        "¿El aumento de la *cantidad de pasos de entrenamiento* mejora la exactitud final? ¿Se puede *cambiar la tasa de aprendizaje* para que el modelo converja más rápido? ¿El *tamaño del lote* de entrenamiento afecta el desempeño del modelo?\n",
        "\n",
        "### Ejercicio 4: Prueba con un optimizador diferente.\n",
        "\n",
        "Reemplace el GradientDescentOptimizer básico por un optimizador más sofisticado; p. ej., con el [AdagradOptimizer](https://www.tensorflow.org/api_docs/python/tf/compat/v1/train/AdagradOptimizer). ¿Se nota alguna diferencia en el entrenamiento del modelo? Para más información acerca de los beneficios de los algoritmos de optimización, consulte [este artículo](http://ruder.io/optimizing-gradient-descent/)."
      ]
    },
    {
      "cell_type": "markdown",
      "metadata": {
        "id": "kdwVXO1eJS5-"
      },
      "source": [
        "## ¿Desea conocer más al respecto?\n",
        "\n",
        "Si le interesa acceder a una versión más avanzada de este tutorial, consulte el [tutorial sobre reentrenamiento de imágenes con TensorFlow](https://www.tensorflow.org/hub/tutorials/image_retraining) en el que se muestra paso a paso como visualizar el entrenamiento con TensorBoard, además de compartir técnicas avanzadas como el aumento de conjuntos de datos mediante la distorsión de imágenes y el reemplazo de conjuntos de datos de flores para aprender un clasificador de imágenes en un conjunto de datos propio.\n",
        "\n",
        "Puede obtener más información sobre TensorFlow en [tensorflow.org](http://tensorflow.org) y consultar la documentación de la API de TF-Hub, disponible en [tensorflow.org/hub](https://www.tensorflow.org/hub/). Hay módulos de TensorFlow disponibles en [tfhub.dev](http://tfhub.dev) que incluyen más módulos de vectores de características de imágenes y módulos de incorporación de textos.\n",
        "\n",
        "Finalmente, consulte el [curso intensivo de aprendizaje automático](https://developers.google.com/machine-learning/crash-course/), un curso acelerado de Google que ofrece una introducción práctica al aprendizaje automático."
      ]
    }
  ],
  "metadata": {
    "colab": {
      "collapsed_sections": [
        "ScitaPqhKtuW"
      ],
      "name": "image_feature_vector.ipynb",
      "toc_visible": true
    },
    "kernelspec": {
      "display_name": "Python 3",
      "name": "python3"
    }
  },
  "nbformat": 4,
  "nbformat_minor": 0
}
