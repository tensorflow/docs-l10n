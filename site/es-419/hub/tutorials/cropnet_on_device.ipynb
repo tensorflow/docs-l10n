{
  "cells": [
    {
      "cell_type": "markdown",
      "metadata": {
        "id": "3XX46cTrh6iD"
      },
      "source": [
        "##### Copyright 2021 The TensorFlow Hub Authors. \n",
        "Licensed under the Apache License, Version 2.0 (the \"License\");"
      ]
    },
    {
      "cell_type": "code",
      "execution_count": null,
      "metadata": {
        "id": "sKrlWr6Kh-mF"
      },
      "outputs": [],
      "source": [
        "#@title Copyright 2021 The TensorFlow Hub Authors. All Rights Reserved.\n",
        "#\n",
        "# Licensed under the Apache License, Version 2.0 (the \"License\");\n",
        "# you may not use this file except in compliance with the License.\n",
        "# You may obtain a copy of the License at\n",
        "#\n",
        "#     http://www.apache.org/licenses/LICENSE-2.0\n",
        "#\n",
        "# Unless required by applicable law or agreed to in writing, software\n",
        "# distributed under the License is distributed on an \"AS IS\" BASIS,\n",
        "# WITHOUT WARRANTIES OR CONDITIONS OF ANY KIND, either express or implied.\n",
        "# See the License for the specific language governing permissions and\n",
        "# limitations under the License.\n",
        "# =============================================================================="
      ]
    },
    {
      "cell_type": "markdown",
      "metadata": {
        "id": "DMVmlJ0fAMkH"
      },
      "source": [
        "# Ajuste fino de modelos para detección de enfermedades en plantas\n"
      ]
    },
    {
      "cell_type": "markdown",
      "metadata": {
        "id": "hk5u_9KN1m-t"
      },
      "source": [
        "<table class=\"tfo-notebook-buttons\" align=\"left\">\n",
        "  <td><a target=\"_blank\" href=\"https://www.tensorflow.org/hub/tutorials/cropnet_on_device\"><img src=\"https://www.tensorflow.org/images/tf_logo_32px.png\">Ver en TensorFlow.org</a></td>\n",
        "  <td><a target=\"_blank\" href=\"https://colab.research.google.com/github/tensorflow/docs-l10n/blob/master/site/es-419/hub/tutorials/cropnet_on_device.ipynb\"><img src=\"https://www.tensorflow.org/images/colab_logo_32px.png\">Ejecutar en Google Colab</a></td>\n",
        "  <td>     <a target=\"_blank\" href=\"https://github.com/tensorflow/docs-l10n/blob/master/site/es-419/hub/tutorials/cropnet_on_device.ipynb\"><img src=\"https://www.tensorflow.org/images/GitHub-Mark-32px.png\">Ver en GitHub</a>\n",
        "</td>\n",
        "  <td>     <a href=\"https://storage.googleapis.com/tensorflow_docs/docs-l10n/site/es-419/hub/tutorials/cropnet_on_device.ipynb\"><img src=\"https://www.tensorflow.org/images/download_logo_32px.png\">Descargar el bloc de notas</a>\n",
        "</td>\n",
        "  <td>     <a href=\"https://tfhub.dev/s?module-type=image-feature-vector&amp;q=cropnet\"><img src=\"https://www.tensorflow.org/images/hub_logo_32px.png\">Ver modelos de TF Hub</a>\n",
        "</td>\n",
        "</table>"
      ]
    },
    {
      "cell_type": "markdown",
      "metadata": {
        "id": "OEHq-hV5sWYO"
      },
      "source": [
        "En estas anotaciones se muestra cómo **realizar el ajuste fino de modelos CropNet de TensorFlow Hub** en un conjunto de datos de TFDS o en el propio conjunto de datos de detección de enfermedades agrícolas.\n",
        "\n",
        "Haremos lo siguiente:\n",
        "\n",
        "- Cargar el conjunto de datos de mandioca de TFDS o un conjunto de datos propio.\n",
        "- Enriquecer los datos con ejemplos desconocidos (negativos) para obtener un modelo más sólido.\n",
        "- Aplicar los aumentos de imágenes a los datos.\n",
        "- Cargar y realizarle el ajuste fino al [modelo CropNet](https://tfhub.dev/s?module-type=image-feature-vector&q=cropnet) de TF Hub.\n",
        "- Exportar un modelo TFLite, listo para ser implementado directamente en la aplicación con la [biblioteca de tareas](https://www.tensorflow.org/lite/inference_with_metadata/task_library/image_classifier), [MLKit](https://developers.google.com/ml-kit/vision/image-labeling/custom-models/android) o [TFLite](https://www.tensorflow.org/lite/guide/inference)."
      ]
    },
    {
      "cell_type": "markdown",
      "metadata": {
        "id": "dQvS4p807mZf"
      },
      "source": [
        "## Importaciones y dependencias\n",
        "\n",
        "Antes de empezar, deberemos instalar algunas de las dependencias que necesitaremos, como un [Model Maker](https://www.tensorflow.org/lite/guide/model_maker#installation) y la última versión del conjunto de datos de TensorFlow."
      ]
    },
    {
      "cell_type": "code",
      "execution_count": null,
      "metadata": {
        "id": "5BDTEMtexXE3"
      },
      "outputs": [],
      "source": [
        "!sudo apt install -q libportaudio2\n",
        "## image_classifier library requires numpy <= 1.23.5\n",
        "!pip install \"numpy<=1.23.5\"\n",
        "!pip install --use-deprecated=legacy-resolver tflite-model-maker-nightly\n",
        "!pip install -U tensorflow-datasets\n",
        "## scann library requires tensorflow < 2.9.0\n",
        "!pip install \"tensorflow<2.9.0\"\n",
        "!pip install \"tensorflow-datasets~=4.8.0\"  # protobuf>=3.12.2\n",
        "!pip install tensorflow-metadata~=1.10.0  # protobuf>=3.13\n",
        "## tensorflowjs requires packaging < 20.10\n",
        "!pip install \"packaging<20.10\""
      ]
    },
    {
      "cell_type": "code",
      "execution_count": null,
      "metadata": {
        "id": "nekG9Iwgxbx0"
      },
      "outputs": [],
      "source": [
        "import matplotlib.pyplot as plt\n",
        "import os\n",
        "import seaborn as sns\n",
        "\n",
        "import tensorflow as tf\n",
        "import tensorflow_datasets as tfds\n",
        "\n",
        "from tensorflow_examples.lite.model_maker.core.export_format import ExportFormat\n",
        "from tensorflow_examples.lite.model_maker.core.task import image_preprocessing\n",
        "\n",
        "from tflite_model_maker import image_classifier\n",
        "from tflite_model_maker import ImageClassifierDataLoader\n",
        "from tflite_model_maker.image_classifier import ModelSpec"
      ]
    },
    {
      "cell_type": "markdown",
      "metadata": {
        "id": "fV0k2Q4x4N_4"
      },
      "source": [
        "## Carga de un conjunto de datos de TFDS para realizarle el ajuste fino\n",
        "\n",
        "Utilicemos el [conjunto de datos de enfermedades de hoja de la mandioca](https://www.tensorflow.org/datasets/catalog/cassava) que está disponible en TFDS."
      ]
    },
    {
      "cell_type": "code",
      "execution_count": null,
      "metadata": {
        "id": "TTaD5W_1xjUz"
      },
      "outputs": [],
      "source": [
        "tfds_name = 'cassava'\n",
        "(ds_train, ds_validation, ds_test), ds_info = tfds.load(\n",
        "    name=tfds_name,\n",
        "    split=['train', 'validation', 'test'],\n",
        "    with_info=True,\n",
        "    as_supervised=True)\n",
        "TFLITE_NAME_PREFIX = tfds_name"
      ]
    },
    {
      "cell_type": "markdown",
      "metadata": {
        "id": "xDuDGUAxyHtA"
      },
      "source": [
        "## Como alternativa, la carga de los datos propios para el ajuste fino\n",
        "\n",
        "En vez de usar un conjunto de datos de TFDS, puede entrenar su propio conjunto de datos. En este fragmento de código mostramos cómo cargar el propio conjunto de datos personalizado. Para saber más acerca de las estructuras de datos posibles, consulte [este](https://www.tensorflow.org/datasets/api_docs/python/tfds/folder_dataset/ImageFolder) enlace. A continuación, usamos el ejemplo del [conjunto de datos sobre enfermedades de hoja de la mandioca](https://www.tensorflow.org/datasets/catalog/cassava), que es de acceso público."
      ]
    },
    {
      "cell_type": "code",
      "execution_count": null,
      "metadata": {
        "id": "k003tLvflHpC"
      },
      "outputs": [],
      "source": [
        "# data_root_dir = tf.keras.utils.get_file(\n",
        "#     'cassavaleafdata.zip',\n",
        "#     'https://storage.googleapis.com/emcassavadata/cassavaleafdata.zip',\n",
        "#     extract=True)\n",
        "# data_root_dir = os.path.splitext(data_root_dir)[0]  # Remove the .zip extension\n",
        "\n",
        "# builder = tfds.ImageFolder(data_root_dir)\n",
        "\n",
        "# ds_info = builder.info\n",
        "# ds_train = builder.as_dataset(split='train', as_supervised=True)\n",
        "# ds_validation = builder.as_dataset(split='validation', as_supervised=True)\n",
        "# ds_test = builder.as_dataset(split='test', as_supervised=True)"
      ]
    },
    {
      "cell_type": "markdown",
      "metadata": {
        "id": "hs3XCVLo4Fa1"
      },
      "source": [
        "## Visualización de muestras de una división de entrenamiento\n",
        "\n",
        "Echemos un vistazo a algunos ejemplos del conjunto de datos que incluyen el ID y el nombre de la clase para las muestras de imágenes y sus etiquetas."
      ]
    },
    {
      "cell_type": "code",
      "execution_count": null,
      "metadata": {
        "id": "89GkD60Eyfe0"
      },
      "outputs": [],
      "source": [
        "_ = tfds.show_examples(ds_train, ds_info)"
      ]
    },
    {
      "cell_type": "markdown",
      "metadata": {
        "id": "-KW-n0lV4AZ-"
      },
      "source": [
        "## Imágenes agregadas para ser usadas como ejemplos desconocidos de conjuntos de datos de TFDS\n",
        "\n",
        "Agreguemos más ejemplos desconocidos (negativos) al conjunto de datos de entrenamiento y asignémosle un nuevo número de etiqueta de clase desconocida. El objetivo es tener un modelo que, puesto en práctica, tenga la opción de predecir lo \"desconocido\" cuando nota algo inesperado.\n",
        "\n",
        "A continuación, podremos ver una lista de conjuntos de datos que se usará como muestra para el resto de las imágenes desconocidas. Incluye 3 conjuntos diferentes de datos para aumentar la diversidad. Uno de ellos es un conjunto de datos de enfermedades de hoja en frijoles, para que el modelo esté expuesto a otras plantas con enfermedades que no sean la mandioca.\n"
      ]
    },
    {
      "cell_type": "code",
      "execution_count": null,
      "metadata": {
        "id": "SYDMjRhDkDnd"
      },
      "outputs": [],
      "source": [
        "UNKNOWN_TFDS_DATASETS = [{\n",
        "    'tfds_name': 'imagenet_v2/matched-frequency',\n",
        "    'train_split': 'test[:80%]',\n",
        "    'test_split': 'test[80%:]',\n",
        "    'num_examples_ratio_to_normal': 1.0,\n",
        "}, {\n",
        "    'tfds_name': 'oxford_flowers102',\n",
        "    'train_split': 'train',\n",
        "    'test_split': 'test',\n",
        "    'num_examples_ratio_to_normal': 1.0,\n",
        "}, {\n",
        "    'tfds_name': 'beans',\n",
        "    'train_split': 'train',\n",
        "    'test_split': 'test',\n",
        "    'num_examples_ratio_to_normal': 1.0,\n",
        "}]"
      ]
    },
    {
      "cell_type": "markdown",
      "metadata": {
        "id": "XUM_d0evktGi"
      },
      "source": [
        "Los conjuntos de datos DESCONOCIDOS (UNKNOWN) también se cargan desde TFDS."
      ]
    },
    {
      "cell_type": "code",
      "execution_count": null,
      "metadata": {
        "id": "5DdWgBTe8uKR"
      },
      "outputs": [],
      "source": [
        "# Load unknown datasets.\n",
        "weights = [\n",
        "    spec['num_examples_ratio_to_normal'] for spec in UNKNOWN_TFDS_DATASETS\n",
        "]\n",
        "num_unknown_train_examples = sum(\n",
        "    int(w * ds_train.cardinality().numpy()) for w in weights)\n",
        "ds_unknown_train = tf.data.Dataset.sample_from_datasets([\n",
        "    tfds.load(\n",
        "        name=spec['tfds_name'], split=spec['train_split'],\n",
        "        as_supervised=True).repeat(-1) for spec in UNKNOWN_TFDS_DATASETS\n",
        "], weights).take(num_unknown_train_examples)\n",
        "ds_unknown_train = ds_unknown_train.apply(\n",
        "    tf.data.experimental.assert_cardinality(num_unknown_train_examples))\n",
        "ds_unknown_tests = [\n",
        "    tfds.load(\n",
        "        name=spec['tfds_name'], split=spec['test_split'], as_supervised=True)\n",
        "    for spec in UNKNOWN_TFDS_DATASETS\n",
        "]\n",
        "ds_unknown_test = ds_unknown_tests[0]\n",
        "for ds in ds_unknown_tests[1:]:\n",
        "  ds_unknown_test = ds_unknown_test.concatenate(ds)\n",
        "\n",
        "# All examples from the unknown datasets will get a new class label number.\n",
        "num_normal_classes = len(ds_info.features['label'].names)\n",
        "unknown_label_value = tf.convert_to_tensor(num_normal_classes, tf.int64)\n",
        "ds_unknown_train = ds_unknown_train.map(lambda image, _:\n",
        "                                        (image, unknown_label_value))\n",
        "ds_unknown_test = ds_unknown_test.map(lambda image, _:\n",
        "                                      (image, unknown_label_value))\n",
        "\n",
        "# Merge the normal train dataset with the unknown train dataset.\n",
        "weights = [\n",
        "    ds_train.cardinality().numpy(),\n",
        "    ds_unknown_train.cardinality().numpy()\n",
        "]\n",
        "ds_train_with_unknown = tf.data.Dataset.sample_from_datasets(\n",
        "    [ds_train, ds_unknown_train], [float(w) for w in weights])\n",
        "ds_train_with_unknown = ds_train_with_unknown.apply(\n",
        "    tf.data.experimental.assert_cardinality(sum(weights)))\n",
        "\n",
        "print((f\"Added {ds_unknown_train.cardinality().numpy()} negative examples.\"\n",
        "       f\"Training dataset has now {ds_train_with_unknown.cardinality().numpy()}\"\n",
        "       ' examples in total.'))"
      ]
    },
    {
      "cell_type": "markdown",
      "metadata": {
        "id": "am6eKbzt7raH"
      },
      "source": [
        "## Aplicación de aumentos"
      ]
    },
    {
      "cell_type": "markdown",
      "metadata": {
        "id": "sxIUP0Flk35V"
      },
      "source": [
        "En todas las imágenes, para hacerlas más diversas, aplicaremos algo de aumento. Como cambios en lo siguiente:\n",
        "\n",
        "- Brillo\n",
        "- Contraste\n",
        "- Saturación\n",
        "- Tonalidad\n",
        "- Recorte\n",
        "\n",
        "Estos tipos de \"aumentos\" ayudan a hacer al modelo más sólido para las variaciones en entradas de imágenes.\n"
      ]
    },
    {
      "cell_type": "code",
      "execution_count": null,
      "metadata": {
        "id": "q_BiOkXjqRju"
      },
      "outputs": [],
      "source": [
        "def random_crop_and_random_augmentations_fn(image):\n",
        "  # preprocess_for_train does random crop and resize internally.\n",
        "  image = image_preprocessing.preprocess_for_train(image)\n",
        "  image = tf.image.random_brightness(image, 0.2)\n",
        "  image = tf.image.random_contrast(image, 0.5, 2.0)\n",
        "  image = tf.image.random_saturation(image, 0.75, 1.25)\n",
        "  image = tf.image.random_hue(image, 0.1)\n",
        "  return image\n",
        "\n",
        "\n",
        "def random_crop_fn(image):\n",
        "  # preprocess_for_train does random crop and resize internally.\n",
        "  image = image_preprocessing.preprocess_for_train(image)\n",
        "  return image\n",
        "\n",
        "\n",
        "def resize_and_center_crop_fn(image):\n",
        "  image = tf.image.resize(image, (256, 256))\n",
        "  image = image[16:240, 16:240]\n",
        "  return image\n",
        "\n",
        "\n",
        "no_augment_fn = lambda image: image\n",
        "\n",
        "train_augment_fn = lambda image, label: (\n",
        "    random_crop_and_random_augmentations_fn(image), label)\n",
        "eval_augment_fn = lambda image, label: (resize_and_center_crop_fn(image), label)"
      ]
    },
    {
      "cell_type": "markdown",
      "metadata": {
        "id": "RUfqE1c3l6my"
      },
      "source": [
        "Para aplicar el aumento, se usa el método `map` de la clase del conjunto de datos."
      ]
    },
    {
      "cell_type": "code",
      "execution_count": null,
      "metadata": {
        "id": "Uq-NCtaH_h8j"
      },
      "outputs": [],
      "source": [
        "ds_train_with_unknown = ds_train_with_unknown.map(train_augment_fn)\n",
        "ds_validation = ds_validation.map(eval_augment_fn)\n",
        "ds_test = ds_test.map(eval_augment_fn)\n",
        "ds_unknown_test = ds_unknown_test.map(eval_augment_fn)"
      ]
    },
    {
      "cell_type": "markdown",
      "metadata": {
        "id": "DvnwolLiCqYX"
      },
      "source": [
        "## Encapsulamiento de los datos en un formato adecuado para Model Maker\n",
        "\n",
        "Para usar estos conjuntos de datos con Model Maker, deben estar en una clase ImageClassifierDataLoader."
      ]
    },
    {
      "cell_type": "code",
      "execution_count": null,
      "metadata": {
        "id": "OXPWEDFDRlVu"
      },
      "outputs": [],
      "source": [
        "label_names = ds_info.features['label'].names + ['UNKNOWN']\n",
        "\n",
        "train_data = ImageClassifierDataLoader(ds_train_with_unknown,\n",
        "                                       ds_train_with_unknown.cardinality(),\n",
        "                                       label_names)\n",
        "validation_data = ImageClassifierDataLoader(ds_validation,\n",
        "                                            ds_validation.cardinality(),\n",
        "                                            label_names)\n",
        "test_data = ImageClassifierDataLoader(ds_test, ds_test.cardinality(),\n",
        "                                      label_names)\n",
        "unknown_test_data = ImageClassifierDataLoader(ds_unknown_test,\n",
        "                                              ds_unknown_test.cardinality(),\n",
        "                                              label_names)"
      ]
    },
    {
      "cell_type": "markdown",
      "metadata": {
        "id": "j2iDwq2Njpb_"
      },
      "source": [
        "## Ejecución del entrenamiento\n",
        "\n",
        "[TensorFlow Hub](https://tfhub.dev) tiene varios modelos disponibles para aprendizaje por transferencia.\n",
        "\n",
        "Puede elegir uno solo o varios para experimentar con otros e intentar obtener mejores resultados.\n",
        "\n",
        "Si quiere incluso más modelos para probar, puede agregarlos desde esta [colección](https://tfhub.dev/google/collections/image/1).\n"
      ]
    },
    {
      "cell_type": "code",
      "execution_count": null,
      "metadata": {
        "cellView": "form",
        "id": "5UhNpR0Ex_5-"
      },
      "outputs": [],
      "source": [
        "#@title Choose a base model\n",
        "\n",
        "model_name = 'mobilenet_v3_large_100_224'  #@param ['cropnet_cassava', 'cropnet_concat', 'cropnet_imagenet', 'mobilenet_v3_large_100_224']\n",
        "\n",
        "map_model_name = {\n",
        "    'cropnet_cassava':\n",
        "        'https://tfhub.dev/google/cropnet/feature_vector/cassava_disease_V1/1',\n",
        "    'cropnet_concat':\n",
        "        'https://tfhub.dev/google/cropnet/feature_vector/concat/1',\n",
        "    'cropnet_imagenet':\n",
        "        'https://tfhub.dev/google/cropnet/feature_vector/imagenet/1',\n",
        "    'mobilenet_v3_large_100_224':\n",
        "        'https://tfhub.dev/google/imagenet/mobilenet_v3_large_100_224/feature_vector/5',\n",
        "}\n",
        "\n",
        "model_handle = map_model_name[model_name]"
      ]
    },
    {
      "cell_type": "markdown",
      "metadata": {
        "id": "Y1ecXlQgR5Uk"
      },
      "source": [
        "Para efectuar el ajuste fino del modelo, usaremos Model Maker. La solución general resulta más fácil porque después de entrenar el modelo, lo convierte para TFLite.\n",
        "\n",
        "Model Maker hace que esta conversión sea la mejor posible y que tenga además toda la información necesaria para implementar sin problemas el modelo en dispositivos, más adelante.\n",
        "\n",
        "Las especificaciones del modelo indican cómo decirle a Model Maker qué modelo base le gustaría usar."
      ]
    },
    {
      "cell_type": "code",
      "execution_count": null,
      "metadata": {
        "id": "L8P-VTqJ8GaF"
      },
      "outputs": [],
      "source": [
        "image_model_spec = ModelSpec(uri=model_handle)"
      ]
    },
    {
      "cell_type": "markdown",
      "metadata": {
        "id": "AnWN3kk6jCHf"
      },
      "source": [
        "Un detalle importante reside en la configuración del `train_whole_model` que realizará el ajuste fino del modelo base durante el entrenamiento. De este modo, el proceso se vuelve más lento, pero el modelo final tiene mayor exactitud. Con la definición de `shuffle` se garantizará que el modelo verá los datos en orden aleatorio, una buena práctica para el aprendizaje con modelos."
      ]
    },
    {
      "cell_type": "code",
      "execution_count": null,
      "metadata": {
        "id": "KRbSDbnA6Xap"
      },
      "outputs": [],
      "source": [
        "model = image_classifier.create(\n",
        "    train_data,\n",
        "    model_spec=image_model_spec,\n",
        "    batch_size=128,\n",
        "    learning_rate=0.03,\n",
        "    epochs=5,\n",
        "    shuffle=True,\n",
        "    train_whole_model=True,\n",
        "    validation_data=validation_data)"
      ]
    },
    {
      "cell_type": "markdown",
      "metadata": {
        "id": "buFDW0izBqIQ"
      },
      "source": [
        "## Evaluación del modelo en una división de prueba"
      ]
    },
    {
      "cell_type": "code",
      "execution_count": null,
      "metadata": {
        "id": "OYIZ1rlV7lxm"
      },
      "outputs": [],
      "source": [
        "model.evaluate(test_data)"
      ]
    },
    {
      "cell_type": "markdown",
      "metadata": {
        "id": "YJaReZ_OVU71"
      },
      "source": [
        "Para entender mejor un modelo al que se le ha realizado el ajuste fino, nos convendrá analizar la matriz de confusión. Esto nos permitirá ver con qué frecuencia se puede predecir una clase con otra."
      ]
    },
    {
      "cell_type": "code",
      "execution_count": null,
      "metadata": {
        "id": "o9_vs1nNKOLF"
      },
      "outputs": [],
      "source": [
        "def predict_class_label_number(dataset):\n",
        "  \"\"\"Runs inference and returns predictions as class label numbers.\"\"\"\n",
        "  rev_label_names = {l: i for i, l in enumerate(label_names)}\n",
        "  return [\n",
        "      rev_label_names[o[0][0]]\n",
        "      for o in model.predict_top_k(dataset, batch_size=128)\n",
        "  ]\n",
        "\n",
        "def show_confusion_matrix(cm, labels):\n",
        "  plt.figure(figsize=(10, 8))\n",
        "  sns.heatmap(cm, xticklabels=labels, yticklabels=labels, \n",
        "              annot=True, fmt='g')\n",
        "  plt.xlabel('Prediction')\n",
        "  plt.ylabel('Label')\n",
        "  plt.show()"
      ]
    },
    {
      "cell_type": "code",
      "execution_count": null,
      "metadata": {
        "id": "7BWZCKerCNF_"
      },
      "outputs": [],
      "source": [
        "confusion_mtx = tf.math.confusion_matrix(\n",
        "    list(ds_test.map(lambda x, y: y)),\n",
        "    predict_class_label_number(test_data),\n",
        "    num_classes=len(label_names))\n",
        "\n",
        "show_confusion_matrix(confusion_mtx, label_names)"
      ]
    },
    {
      "cell_type": "markdown",
      "metadata": {
        "id": "ksu9BFULBvmj"
      },
      "source": [
        "## Evaluación del modelo con datos de prueba desconocidos\n",
        "\n",
        "En esta evaluación esperamos que el modelo tenga una precisión de al menos 1. Ninguna de las imágenes con las que se prueba el modelo está relacionada con el conjunto de datos normal y, por lo tanto, esperamos que el modelo prediga una etiqueta de clase \"desconocida\"."
      ]
    },
    {
      "cell_type": "code",
      "execution_count": null,
      "metadata": {
        "id": "f5wvZwliZcJP"
      },
      "outputs": [],
      "source": [
        "model.evaluate(unknown_test_data)"
      ]
    },
    {
      "cell_type": "markdown",
      "metadata": {
        "id": "jm47Odo5Vaiq"
      },
      "source": [
        "Imprimimos la matriz de confusión."
      ]
    },
    {
      "cell_type": "code",
      "execution_count": null,
      "metadata": {
        "id": "E_gEX3oWH1YT"
      },
      "outputs": [],
      "source": [
        "unknown_confusion_mtx = tf.math.confusion_matrix(\n",
        "    list(ds_unknown_test.map(lambda x, y: y)),\n",
        "    predict_class_label_number(unknown_test_data),\n",
        "    num_classes=len(label_names))\n",
        "\n",
        "show_confusion_matrix(unknown_confusion_mtx, label_names)"
      ]
    },
    {
      "cell_type": "markdown",
      "metadata": {
        "id": "o2agDx2fCHyd"
      },
      "source": [
        "## Exportación del modelo como TFLite y SavedModel\n",
        "\n",
        "Ahora podemos exportar los modelos entrenados en formatos TFLite y SavedModel para su implementación en dispositivos y, además, podemos usarlos para inferencias en TensorFlow."
      ]
    },
    {
      "cell_type": "code",
      "execution_count": null,
      "metadata": {
        "id": "bAFvBmMr7owW"
      },
      "outputs": [],
      "source": [
        "tflite_filename = f'{TFLITE_NAME_PREFIX}_model_{model_name}.tflite'\n",
        "model.export(export_dir='.', tflite_filename=tflite_filename)"
      ]
    },
    {
      "cell_type": "code",
      "execution_count": null,
      "metadata": {
        "id": "Pz0-6To2C4yM"
      },
      "outputs": [],
      "source": [
        "# Export saved model version.\n",
        "model.export(export_dir='.', export_format=ExportFormat.SAVED_MODEL)"
      ]
    },
    {
      "cell_type": "markdown",
      "metadata": {
        "id": "4V4GdQqxjEU7"
      },
      "source": [
        "## Próximos pasos\n",
        "\n",
        "El modelo que acabamos de entrenar se puede usar en dispositivos móviles (¡incluso en el campo mismo!).\n",
        "\n",
        "**Descargue el modelo, haga clic en el ícono de la carpeta del menú de archivos (Files) a la izquierda en Colab y elija la opción a descargar.**\n",
        "\n",
        "La misma técnica que aquí usamos se podría aplicar a otras tareas de enfermedades de plantas que podrían ser más adecuadas para sus casos de uso o para cualquier otro tipo de tarea de clasificación de imágenes. Si desea continuar con lo que hicimos y realizar una implementación con una aplicación Android, puede seguir leyendo la  [guía de inicio rápido para Android](https://www.tensorflow.org/lite/android/quickstart)."
      ]
    }
  ],
  "metadata": {
    "accelerator": "GPU",
    "colab": {
      "collapsed_sections": [
        "3XX46cTrh6iD",
        "xDuDGUAxyHtA"
      ],
      "name": "cropnet_on_device.ipynb",
      "toc_visible": true
    },
    "kernelspec": {
      "display_name": "Python 3",
      "name": "python3"
    }
  },
  "nbformat": 4,
  "nbformat_minor": 0
}
