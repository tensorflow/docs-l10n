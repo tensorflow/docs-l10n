{
  "cells": [
    {
      "cell_type": "markdown",
      "metadata": {
        "id": "USSV_OlCFKOD"
      },
      "source": [
        "# Entrenamiento de una red neuronal en MNIST con Keras\n",
        "\n",
        "Este sencillo ejemplo demuestra cómo conectar TensorFlow Datasets (TFDS) a un modelo Keras.\n"
      ]
    },
    {
      "cell_type": "markdown",
      "metadata": {
        "id": "J8y9ZkLXmAZc"
      },
      "source": [
        "Copyright 2020 The TensorFlow Datasets Authors, Licencia bajo la Licencia Apache, Versión 2.0"
      ]
    },
    {
      "cell_type": "markdown",
      "metadata": {
        "id": "OGw9EgE0tC0C"
      },
      "source": [
        "<table class=\"tfo-notebook-buttons\" align=\"left\">\n",
        "  <td>     <a target=\"_blank\" href=\"https://www.tensorflow.org/datasets/keras_example\"><img src=\"https://www.tensorflow.org/images/tf_logo_32px.png\">Ver en TensorFlow.org</a>\n",
        "</td>\n",
        "  <td>     <a target=\"_blank\" href=\"https://colab.research.google.com/github/tensorflow/docs-l10n/blob/master/site/es-419/datasets/keras_example.ipynb\"><img src=\"https://www.tensorflow.org/images/colab_logo_32px.png\">Ejecutar en Google Colab</a>\n",
        "</td>\n",
        "  <td>     <a target=\"_blank\" href=\"https://github.com/tensorflow/docs-l10n/blob/master/site/es-419/datasets/keras_example.ipynb\"><img src=\"https://www.tensorflow.org/images/GitHub-Mark-32px.png\">Ver fuente en GitHub</a>\n",
        "</td>\n",
        "  <td>     <a href=\"https://storage.googleapis.com/tensorflow_docs/docs-l10n/site/es-419/datasets/keras_example.ipynb\"><img src=\"https://www.tensorflow.org/images/download_logo_32px.png\">Download notebook</a>\n",
        "</td>\n",
        "</table>"
      ]
    },
    {
      "cell_type": "code",
      "execution_count": null,
      "metadata": {
        "id": "TTBSvHcSLBzc"
      },
      "outputs": [],
      "source": [
        "import tensorflow as tf\n",
        "import tensorflow_datasets as tfds"
      ]
    },
    {
      "cell_type": "markdown",
      "metadata": {
        "id": "VjI6VgOBf0v0"
      },
      "source": [
        "## Paso 1: Cree su tubería de entrada\n",
        "\n",
        "Empieza por crear una tubería de entrada eficiente siguiendo los consejos de:\n",
        "\n",
        "- La guía de [Consejos de rendimiento](https://www.tensorflow.org/datasets/performances)\n",
        "- El [Mejor rendimiento con la `tf.data` API](https://www.tensorflow.org/guide/data_performance#optimize_performance)\n"
      ]
    },
    {
      "cell_type": "markdown",
      "metadata": {
        "id": "c3aH3vP_XLI8"
      },
      "source": [
        "### Carga un dataset\n",
        "\n",
        "Cargue el dataset MNIST con los siguientes argumentos:\n",
        "\n",
        "- `shuffle_files=True`: Los datos MNIST sólo se almacenan en un único archivo, pero para datasets más grandes con varios archivos en el disco, es una buena práctica barajarlos cuando se entrena.\n",
        "- `as_supervised=True`: Devuelve una tupla `(img, label)` en lugar de un diccionario `{'image': img, 'label': label}`."
      ]
    },
    {
      "cell_type": "code",
      "execution_count": null,
      "metadata": {
        "id": "ZUMhCXhFXdHQ"
      },
      "outputs": [],
      "source": [
        "(ds_train, ds_test), ds_info = tfds.load(\n",
        "    'mnist',\n",
        "    split=['train', 'test'],\n",
        "    shuffle_files=True,\n",
        "    as_supervised=True,\n",
        "    with_info=True,\n",
        ")"
      ]
    },
    {
      "cell_type": "markdown",
      "metadata": {
        "id": "rgwCFAcWXQTx"
      },
      "source": [
        "### Construir una tubería de entrenamiento\n",
        "\n",
        "Aplica las siguientes transformaciones:\n",
        "\n",
        "- `tf.data.Dataset.map`: TFDS proporciona imágenes de tipo `tf.uint8`, mientras que el modelo espera `tf.float32`. Por lo tanto, es necesario normalizar las imágenes.\n",
        "- `tf.data.Dataset.cache` A medida que se ajusta el dataset en la memoria, almacenalo en caché antes de barajar para un mejor rendimiento.<br> **Nota:** Las transformaciones aleatorias deben aplicarse después del almacenamiento en caché.\n",
        "- `tf.data.Dataset.shuffle`: Para una verdadera aleatoriedad, ajuste el búfer de barajado al tamaño completo del dataset. {Nota: Para datasets grandes, que no caben en la memoria, utilice `buffer_size=1000` si su sistema lo permite.\n",
        "- `tf.data.Dataset.batch`: Agrupa elementos del dataset después de barajar para obtener lotes únicos en cada momento.\n",
        "- `tf.data.Dataset.prefetch`: Es una buena práctica terminar la tubería precargando [por rendimiento](https://www.tensorflow.org/guide/data_performance#prefetching)."
      ]
    },
    {
      "cell_type": "code",
      "execution_count": null,
      "metadata": {
        "id": "haykx2K9XgiI"
      },
      "outputs": [],
      "source": [
        "def normalize_img(image, label):\n",
        "  \"\"\"Normalizes images: `uint8` -> `float32`.\"\"\"\n",
        "  return tf.cast(image, tf.float32) / 255., label\n",
        "\n",
        "ds_train = ds_train.map(\n",
        "    normalize_img, num_parallel_calls=tf.data.AUTOTUNE)\n",
        "ds_train = ds_train.cache()\n",
        "ds_train = ds_train.shuffle(ds_info.splits['train'].num_examples)\n",
        "ds_train = ds_train.batch(128)\n",
        "ds_train = ds_train.prefetch(tf.data.AUTOTUNE)"
      ]
    },
    {
      "cell_type": "markdown",
      "metadata": {
        "id": "RbsMy4X1XVFv"
      },
      "source": [
        "### Construir una tubería de evaluación\n",
        "\n",
        "Su tubería de pruebas es similar a la de entrenamiento, con pequeñas diferencias:\n",
        "\n",
        "- No es necesario llamar a `tf.data.Dataset.shuffle`.\n",
        "- El almacenamiento en caché se realiza después de la agrupación porque los grupos pueden ser los mismos entre los tiempos."
      ]
    },
    {
      "cell_type": "code",
      "execution_count": null,
      "metadata": {
        "id": "A0KjuDf7XiqY"
      },
      "outputs": [],
      "source": [
        "ds_test = ds_test.map(\n",
        "    normalize_img, num_parallel_calls=tf.data.AUTOTUNE)\n",
        "ds_test = ds_test.batch(128)\n",
        "ds_test = ds_test.cache()\n",
        "ds_test = ds_test.prefetch(tf.data.AUTOTUNE)"
      ]
    },
    {
      "cell_type": "markdown",
      "metadata": {
        "id": "nTFoji3INMEM"
      },
      "source": [
        "## Paso 2: Crear y entrenar el modelo\n",
        "\n",
        "Conecte la tubería de entrada TFDS a un modelo Keras simple, compile el modelo y entrénelo."
      ]
    },
    {
      "cell_type": "code",
      "execution_count": null,
      "metadata": {
        "id": "XWqxdmS1NLKA"
      },
      "outputs": [],
      "source": [
        "model = tf.keras.models.Sequential([\n",
        "  tf.keras.layers.Flatten(input_shape=(28, 28)),\n",
        "  tf.keras.layers.Dense(128, activation='relu'),\n",
        "  tf.keras.layers.Dense(10)\n",
        "])\n",
        "model.compile(\n",
        "    optimizer=tf.keras.optimizers.Adam(0.001),\n",
        "    loss=tf.keras.losses.SparseCategoricalCrossentropy(from_logits=True),\n",
        "    metrics=[tf.keras.metrics.SparseCategoricalAccuracy()],\n",
        ")\n",
        "\n",
        "model.fit(\n",
        "    ds_train,\n",
        "    epochs=6,\n",
        "    validation_data=ds_test,\n",
        ")"
      ]
    }
  ],
  "metadata": {
    "colab": {
      "collapsed_sections": [],
      "name": "keras_example.ipynb",
      "toc_visible": true
    },
    "kernelspec": {
      "display_name": "Python 3",
      "name": "python3"
    }
  },
  "nbformat": 4,
  "nbformat_minor": 0
}
