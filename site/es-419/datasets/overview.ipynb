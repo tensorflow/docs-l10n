{
  "cells": [
    {
      "cell_type": "markdown",
      "metadata": {
        "id": "6XvCUmCEd4Dm"
      },
      "source": [
        "# TensorFlow Datasets\n",
        "\n",
        "TFDS provides a collection of ready-to-use datasets for use with TensorFlow, Jax, and other Machine Learning frameworks.\n",
        "\n",
        "It handles downloading and preparing the data deterministically and constructing a `tf.data.Dataset` (or `np.array`).\n",
        "\n",
        "Note: Do not confuse [TFDS](https://www.tensorflow.org/datasets) (this library) with `tf.data` (TensorFlow API to build efficient data pipelines). TFDS is a high level wrapper around `tf.data`. If you're not familiar with this API, we encourage you to read [the official tf.data guide](https://www.tensorflow.org/guide/data) first.\n"
      ]
    },
    {
      "cell_type": "markdown",
      "metadata": {
        "id": "J8y9ZkLXmAZc"
      },
      "source": [
        "Copyright 2018 The TensorFlow Datasets Authors, Licensed under the Apache License, Version 2.0"
      ]
    },
    {
      "cell_type": "markdown",
      "metadata": {
        "id": "OGw9EgE0tC0C"
      },
      "source": [
        "<table class=\"tfo-notebook-buttons\" align=\"left\">\n",
        "  <td><a target=\"_blank\" href=\"https://www.tensorflow.org/datasets/overview\"><img src=\"https://www.tensorflow.org/images/tf_logo_32px.png\">Ver en TensorFlow.org</a></td>\n",
        "  <td><a target=\"_blank\" href=\"https://colab.research.google.com/github/tensorflow/docs-l10n/blob/master/site/es-419/datasets/overview.ipynb\"><img src=\"https://www.tensorflow.org/images/colab_logo_32px.png\">Ejecutar en Google Colab</a></td>\n",
        "  <td>     <a target=\"_blank\" href=\"https://github.com/tensorflow/docs-l10n/blob/master/site/es-419/datasets/overview.ipynb\"><img src=\"https://www.tensorflow.org/images/GitHub-Mark-32px.png\">Ver código fuente en GitHub</a>\n",
        "</td>\n",
        "  <td>     <a href=\"https://storage.googleapis.com/tensorflow_docs/docs-l10n/site/es-419/datasets/overview.ipynb\"><img src=\"https://www.tensorflow.org/images/download_logo_32px.png\">Descargar el bloc de notas</a>\n",
        "</td>\n",
        "</table>"
      ]
    },
    {
      "cell_type": "markdown",
      "metadata": {
        "id": "_7hshda5eaGL"
      },
      "source": [
        "## Instalación\n",
        "\n",
        "TFDS existe en dos paquetes:\n",
        "\n",
        "- `pip install tensorflow-datasets`: la versión estable, que se publica cada unos meses.\n",
        "- `pip install tfds-nightly`: se publica todos los días y contiene las últimas versiones de los conjuntos de datos.\n",
        "\n",
        "Este colab usa `tfds-nightly`:\n"
      ]
    },
    {
      "cell_type": "code",
      "execution_count": null,
      "metadata": {
        "cellView": "both",
        "id": "boeZp0sYbO41"
      },
      "outputs": [],
      "source": [
        "!pip install -q tfds-nightly tensorflow matplotlib"
      ]
    },
    {
      "cell_type": "code",
      "execution_count": null,
      "metadata": {
        "id": "TTBSvHcSLBzc"
      },
      "outputs": [],
      "source": [
        "import matplotlib.pyplot as plt\n",
        "import numpy as np\n",
        "import tensorflow as tf\n",
        "\n",
        "import tensorflow_datasets as tfds"
      ]
    },
    {
      "cell_type": "markdown",
      "metadata": {
        "id": "VZZyuO13fPvk"
      },
      "source": [
        "## Buscar conjuntos de datos disponibles\n",
        "\n",
        "Todos los generadores de conjuntos de datos son subclases de `tfds.core.DatasetBuilder`. Para obtener la lista de los generadores disponibles, use `tfds.list_builders()` o consulte nuestro [catálogo](https://www.tensorflow.org/datasets/catalog/overview)."
      ]
    },
    {
      "cell_type": "code",
      "execution_count": null,
      "metadata": {
        "id": "FAvbSVzjLCIb"
      },
      "outputs": [],
      "source": [
        "tfds.list_builders()"
      ]
    },
    {
      "cell_type": "markdown",
      "metadata": {
        "id": "VjI6VgOBf0v0"
      },
      "source": [
        "## Cargar un conjunto de datos\n",
        "\n",
        "### tfds.load\n",
        "\n",
        "La forma más fácil de cargar un conjunto de datos es `tfds.load` que hará lo siguiente:\n",
        "\n",
        "1. Descarga los datos y los guarda como archivos [`tfrecord`](https://www.tensorflow.org/tutorials/load_data/tfrecord).\n",
        "2. Carga el archivo `tfrecord` y crea el `tf.data.Dataset`.\n"
      ]
    },
    {
      "cell_type": "code",
      "execution_count": null,
      "metadata": {
        "id": "dCou80mnLLPV"
      },
      "outputs": [],
      "source": [
        "ds = tfds.load('mnist', split='train', shuffle_files=True)\n",
        "assert isinstance(ds, tf.data.Dataset)\n",
        "print(ds)"
      ]
    },
    {
      "cell_type": "markdown",
      "metadata": {
        "id": "byOXYCEJS7S6"
      },
      "source": [
        "Algunos argumentos comunes:\n",
        "\n",
        "- `split=`: que divide para leer (por ejemplo `'train'`, `['train', 'test']`, `'train[80%:]'`,...). Consulte nuestra [guía de API de división](https://www.tensorflow.org/datasets/splits).\n",
        "- `shuffle_files=`: controla si se aleatorizan los archivos entre cada época (TFDS almacena conjuntos de datos grandes en varios archivos más pequeños).\n",
        "- `data_dir=`: ubicación donde se guarda el conjunto de datos (el valor predeterminado es `~/tensorflow_datasets/`)\n",
        "- `with_info=True`: devuelve `tfds.core.DatasetInfo` que contiene los metadatos del conjunto de datos\n",
        "- `download=False`: deshabilita la descarga\n"
      ]
    },
    {
      "cell_type": "markdown",
      "metadata": {
        "id": "qeNmFx_1RXCb"
      },
      "source": [
        "### tfds.builder\n",
        "\n",
        "`tfds.load` es un contenedor fino alrededor de `tfds.core.DatasetBuilder`. Se puede obtener el mismo resultado con la API `tfds.core.DatasetBuilder`:"
      ]
    },
    {
      "cell_type": "code",
      "execution_count": null,
      "metadata": {
        "id": "2zN_jQ2ER40W"
      },
      "outputs": [],
      "source": [
        "builder = tfds.builder('mnist')\n",
        "# 1. Create the tfrecord files (no-op if already exists)\n",
        "builder.download_and_prepare()\n",
        "# 2. Load the `tf.data.Dataset`\n",
        "ds = builder.as_dataset(split='train', shuffle_files=True)\n",
        "print(ds)"
      ]
    },
    {
      "cell_type": "markdown",
      "metadata": {
        "id": "IwrjccfjoQCD"
      },
      "source": [
        "### CLI `tfds build`\n",
        "\n",
        "Si quiere generar un conjunto de datos específico, puede usar la [línea de comando `tfds`](https://www.tensorflow.org/datasets/cli). Por ejemplo:\n",
        "\n",
        "```sh\n",
        "tfds build mnist\n",
        "```\n",
        "\n",
        "Consulte [el documento](https://www.tensorflow.org/datasets/cli) para conocer los indicadores disponibles."
      ]
    },
    {
      "cell_type": "markdown",
      "metadata": {
        "id": "aW132I-rbJXE"
      },
      "source": [
        "## Iterar sobre un conjunto de datos\n",
        "\n",
        "### Como dict\n",
        "\n",
        "De forma predeterminada, el objeto `tf.data.Dataset` contiene un `dict` de varios `tf.Tensor`:"
      ]
    },
    {
      "cell_type": "code",
      "execution_count": null,
      "metadata": {
        "id": "JAGjXdk_bIYQ"
      },
      "outputs": [],
      "source": [
        "ds = tfds.load('mnist', split='train')\n",
        "ds = ds.take(1)  # Only take a single example\n",
        "\n",
        "for example in ds:  # example is `{'image': tf.Tensor, 'label': tf.Tensor}`\n",
        "  print(list(example.keys()))\n",
        "  image = example[\"image\"]\n",
        "  label = example[\"label\"]\n",
        "  print(image.shape, label)"
      ]
    },
    {
      "cell_type": "markdown",
      "metadata": {
        "id": "sIqX2bmhu-8d"
      },
      "source": [
        "Para conocer la estructura y los nombres de las claves del `dict`, consulte la documentación del conjunto de datos en [nuestro catálogo](https://www.tensorflow.org/datasets/catalog/overview#all_datasets). Por ejemplo: [documentación de mnist](https://www.tensorflow.org/datasets/catalog/mnist)."
      ]
    },
    {
      "cell_type": "markdown",
      "metadata": {
        "id": "umAtqBBqdkDG"
      },
      "source": [
        "### Como tupla (`as_supervised=True`)\n",
        "\n",
        "Al usar `as_supervised=True`, puede obtener una tupla `(features, label)` en lugar de conjuntos de datos supervisados."
      ]
    },
    {
      "cell_type": "code",
      "execution_count": null,
      "metadata": {
        "id": "nJ4O0xy3djfV"
      },
      "outputs": [],
      "source": [
        "ds = tfds.load('mnist', split='train', as_supervised=True)\n",
        "ds = ds.take(1)\n",
        "\n",
        "for image, label in ds:  # example is (image, label)\n",
        "  print(image.shape, label)"
      ]
    },
    {
      "cell_type": "markdown",
      "metadata": {
        "id": "u9palgyHfEwQ"
      },
      "source": [
        "### Como numpy (`tfds.as_numpy`)\n",
        "\n",
        "Usa `tfds.as_numpy` para convertir:\n",
        "\n",
        "- `tf.Tensor` -&gt; `np.array`\n",
        "- `tf.data.Dataset` -&gt; `Iterator[Tree[np.array]]` (`Tree` puede ser `Dict`, `Tuple` de anidado arbitrario)\n"
      ]
    },
    {
      "cell_type": "code",
      "execution_count": null,
      "metadata": {
        "id": "tzQTCUkAfe9R"
      },
      "outputs": [],
      "source": [
        "ds = tfds.load('mnist', split='train', as_supervised=True)\n",
        "ds = ds.take(1)\n",
        "\n",
        "for image, label in tfds.as_numpy(ds):\n",
        "  print(type(image), type(label), label)"
      ]
    },
    {
      "cell_type": "markdown",
      "metadata": {
        "id": "XaRN-LdXUkl_"
      },
      "source": [
        "### Como tf.Tensor por lotes (`batch_size=-1`)\n",
        "\n",
        "Al usar `batch_size=-1`, puede cargar el conjunto de datos completo en un solo lote.\n",
        "\n",
        "Esto se puede combinar con `as_supervised=True` y `tfds.as_numpy` para obtener los datos como `(np.array, np.array)`:\n"
      ]
    },
    {
      "cell_type": "code",
      "execution_count": null,
      "metadata": {
        "id": "Gg8BNsv-UzFl"
      },
      "outputs": [],
      "source": [
        "image, label = tfds.as_numpy(tfds.load(\n",
        "    'mnist',\n",
        "    split='test',\n",
        "    batch_size=-1,\n",
        "    as_supervised=True,\n",
        "))\n",
        "\n",
        "print(type(image), image.shape)"
      ]
    },
    {
      "cell_type": "markdown",
      "metadata": {
        "id": "kRJrB3L6wgKI"
      },
      "source": [
        "Tenga cuidado de que su conjunto de datos entre en la memoria y que todos los ejemplos tengan la misma forma."
      ]
    },
    {
      "cell_type": "markdown",
      "metadata": {
        "id": "heaKNg7-X4jN"
      },
      "source": [
        "## Realizar la prueba comparativa de sus conjuntos de datos\n",
        "\n",
        "Realizar la prueba comparativa de un conjunto de datos es una simple llamada a `tfds.benchmark` en cualquier iterable (por ejemplo, `tf.data.Dataset`, `tfds.as_numpy`,...).\n"
      ]
    },
    {
      "cell_type": "code",
      "execution_count": null,
      "metadata": {
        "id": "ZyQzZ98bX3dM"
      },
      "outputs": [],
      "source": [
        "ds = tfds.load('mnist', split='train')\n",
        "ds = ds.batch(32).prefetch(1)\n",
        "\n",
        "tfds.benchmark(ds, batch_size=32)\n",
        "tfds.benchmark(ds, batch_size=32)  # Second epoch much faster due to auto-caching"
      ]
    },
    {
      "cell_type": "markdown",
      "metadata": {
        "id": "MT0yEX_4kYnV"
      },
      "source": [
        "- No olvide normalizar los resultados por tamaño de lote con el kwarg `batch_size=`.\n",
        "- En el resumen, se separa el primer lote de calentamiento para capturar el tiempo de configuración adicional de `tf.data.Dataset` (por ejemplo, inicialización de búferes,...).\n",
        "- Observe cómo la segunda iteración es mucho más rápida debido al [almacenamiento en caché automático de TFDS](https://www.tensorflow.org/datasets/performances#auto-caching).\n",
        "- `tfds.benchmark` devuelve un `tfds.core.BenchmarkResult` que se puede inspeccionar para realizar un análisis más profundo."
      ]
    },
    {
      "cell_type": "markdown",
      "metadata": {
        "id": "o-cuwvVbeb43"
      },
      "source": [
        "### Construya una canalización de principio a fin\n",
        "\n",
        "Para profundizar más, puede consultar:\n",
        "\n",
        "- Nuestro [ejemplo de Keras de principio a fin](https://www.tensorflow.org/datasets/keras_example) para ver un proceso de entrenamiento completo (con procesamiento por lotes, aleatorización,...).\n",
        "- Nuestra [guía de rendimiento](https://www.tensorflow.org/datasets/performances) para mejorar la velocidad de sus canalizaciones (consejo: use `tfds.benchmark(ds)` para realizar pruebas comparativas de sus conjuntos de datos).\n"
      ]
    },
    {
      "cell_type": "markdown",
      "metadata": {
        "id": "gTRTEQqscxAE"
      },
      "source": [
        "## Visualización\n",
        "\n",
        "### tfds.as_dataframe\n",
        "\n",
        "Se pueden convertir los objetos `tf.data.Dataset` en [`pandas.DataFrame`](https://pandas.pydata.org/pandas-docs/stable/reference/api/pandas.DataFrame.html) con `tfds.as_dataframe` para poder visualizarlos en [Colab](https://colab.research.google.com).\n",
        "\n",
        "- Agregue `tfds.core.DatasetInfo` como segundo argumento de `tfds.as_dataframe` para visualizar imágenes, audio, textos, videos,...\n",
        "- Use `ds.take(x)` para mostrar solo los primeros ejemplos `x`. `pandas.DataFrame` cargará el conjunto de datos completo en la memoria y puede tardar mucho mostrarlo."
      ]
    },
    {
      "cell_type": "code",
      "execution_count": null,
      "metadata": {
        "id": "FKouwN_yVSGQ"
      },
      "outputs": [],
      "source": [
        "ds, info = tfds.load('mnist', split='train', with_info=True)\n",
        "\n",
        "tfds.as_dataframe(ds.take(4), info)"
      ]
    },
    {
      "cell_type": "markdown",
      "metadata": {
        "id": "b-eDO_EXVGWC"
      },
      "source": [
        "### tfds.show_examples\n",
        "\n",
        "`tfds.show_examples` devuelve `matplotlib.figure.Figure` (ahora solo se admiten conjuntos de datos de imágenes):"
      ]
    },
    {
      "cell_type": "code",
      "execution_count": null,
      "metadata": {
        "id": "DpE2FD56cSQR"
      },
      "outputs": [],
      "source": [
        "ds, info = tfds.load('mnist', split='train', with_info=True)\n",
        "\n",
        "fig = tfds.show_examples(ds, info)"
      ]
    },
    {
      "cell_type": "markdown",
      "metadata": {
        "id": "Y0iVVStvk0oI"
      },
      "source": [
        "## Acceder a los metadatos del conjunto de datos\n",
        "\n",
        "Todos los generadores incluyen un objeto `tfds.core.DatasetInfo` que contiene los metadatos del conjunto de datos.\n",
        "\n",
        "Se puede acceder a través de:\n",
        "\n",
        "- La API `tfds.load`:\n"
      ]
    },
    {
      "cell_type": "code",
      "execution_count": null,
      "metadata": {
        "id": "UgLgtcd1ljzt"
      },
      "outputs": [],
      "source": [
        "ds, info = tfds.load('mnist', with_info=True)"
      ]
    },
    {
      "cell_type": "markdown",
      "metadata": {
        "id": "XodyqNXrlxTM"
      },
      "source": [
        "- La API `tfds.core.DatasetBuilder`:"
      ]
    },
    {
      "cell_type": "code",
      "execution_count": null,
      "metadata": {
        "id": "nmq97QkilxeL"
      },
      "outputs": [],
      "source": [
        "builder = tfds.builder('mnist')\n",
        "info = builder.info"
      ]
    },
    {
      "cell_type": "markdown",
      "metadata": {
        "id": "zMGOk_ZsmPeu"
      },
      "source": [
        "La información del conjunto de datos contiene información adicional sobre el conjunto de datos (versión, cita, página de inicio, descripción,...)."
      ]
    },
    {
      "cell_type": "code",
      "execution_count": null,
      "metadata": {
        "id": "O-wLIKD-mZQT"
      },
      "outputs": [],
      "source": [
        "print(info)"
      ]
    },
    {
      "cell_type": "markdown",
      "metadata": {
        "id": "1zvAfRtwnAFk"
      },
      "source": [
        "### Metadatos de las características (nombres de etiquetas, forma de la imagen,...)\n",
        "\n",
        "Acceda al `tfds.features.FeatureDict`:"
      ]
    },
    {
      "cell_type": "code",
      "execution_count": null,
      "metadata": {
        "id": "RcyZXncqoFab"
      },
      "outputs": [],
      "source": [
        "info.features"
      ]
    },
    {
      "cell_type": "markdown",
      "metadata": {
        "id": "KAm9AV7loyw5"
      },
      "source": [
        "Cantidad de las clases, nombres de las etiquetas:"
      ]
    },
    {
      "cell_type": "code",
      "execution_count": null,
      "metadata": {
        "id": "HhfzBH6qowpz"
      },
      "outputs": [],
      "source": [
        "print(info.features[\"label\"].num_classes)\n",
        "print(info.features[\"label\"].names)\n",
        "print(info.features[\"label\"].int2str(7))  # Human readable version (8 -> 'cat')\n",
        "print(info.features[\"label\"].str2int('7'))"
      ]
    },
    {
      "cell_type": "markdown",
      "metadata": {
        "id": "g5eWtk9ro_AK"
      },
      "source": [
        "Formas, dtypes:"
      ]
    },
    {
      "cell_type": "code",
      "execution_count": null,
      "metadata": {
        "id": "SergV_wQowLY"
      },
      "outputs": [],
      "source": [
        "print(info.features.shape)\n",
        "print(info.features.dtype)\n",
        "print(info.features['image'].shape)\n",
        "print(info.features['image'].dtype)"
      ]
    },
    {
      "cell_type": "markdown",
      "metadata": {
        "id": "thMOZ4IKm55N"
      },
      "source": [
        "### Dividir los metadatos (por ejemplo, dividir los nombres, número de ejemplos,...)\n",
        "\n",
        "Acceda al `tfds.core.SplitDict`:"
      ]
    },
    {
      "cell_type": "code",
      "execution_count": null,
      "metadata": {
        "id": "FBbfwA8Sp4ax"
      },
      "outputs": [],
      "source": [
        "print(info.splits)"
      ]
    },
    {
      "cell_type": "markdown",
      "metadata": {
        "id": "EVw1UVYa2HgN"
      },
      "source": [
        "Divisiones disponibles:"
      ]
    },
    {
      "cell_type": "code",
      "execution_count": null,
      "metadata": {
        "id": "fRBieOOquDzX"
      },
      "outputs": [],
      "source": [
        "print(list(info.splits.keys()))"
      ]
    },
    {
      "cell_type": "markdown",
      "metadata": {
        "id": "iHW0VfA0t3dO"
      },
      "source": [
        "Obtenga información sobre una división:"
      ]
    },
    {
      "cell_type": "code",
      "execution_count": null,
      "metadata": {
        "id": "-h_OSpRsqKpP"
      },
      "outputs": [],
      "source": [
        "print(info.splits['train'].num_examples)\n",
        "print(info.splits['train'].filenames)\n",
        "print(info.splits['train'].num_shards)"
      ]
    },
    {
      "cell_type": "markdown",
      "metadata": {
        "id": "fWhSkHFNuLwW"
      },
      "source": [
        "También funciona con la API subsplit:"
      ]
    },
    {
      "cell_type": "code",
      "execution_count": null,
      "metadata": {
        "id": "HO5irBZ3uIzQ"
      },
      "outputs": [],
      "source": [
        "print(info.splits['train[15%:75%]'].num_examples)\n",
        "print(info.splits['train[15%:75%]'].file_instructions)"
      ]
    },
    {
      "cell_type": "markdown",
      "metadata": {
        "id": "YZp2XJwQQrI0"
      },
      "source": [
        "## Solución de problemas\n",
        "\n",
        "### Descarga manual (si no se puede descargar)\n",
        "\n",
        "Si no se descarga por algún motivo (por ejemplo, sin conexión,...). Siempre puede descargar los datos de forma manual por su cuenta y colocarlos en `manual_dir` (el valor predeterminado es `~/tensorflow_datasets/downloads/manual/`.\n",
        "\n",
        "Para saber qué URL descargar, consulte:\n",
        "\n",
        "- Para conjuntos de datos nuevos (implementados como carpeta): [`tensorflow_datasets/`](https://github.com/tensorflow/datasets/tree/master/tensorflow_datasets/) `<type>/<dataset_name>/checksums.tsv`. Por ejemplo: [`tensorflow_datasets/datasets/bool_q/checksums.tsv`](https://github.com/tensorflow/datasets/blob/master/tensorflow_datasets/datasets/bool_q/checksums.tsv).\n",
        "\n",
        "    Puede encontrar la ubicación de origen del conjunto de datos en [nuestro catálogo](https://www.tensorflow.org/datasets/catalog/overview).\n",
        "\n",
        "- Para conjuntos de datos antiguos: [`tensorflow_datasets/url_checksums/<dataset_name>.txt`](https://github.com/tensorflow/datasets/tree/master/tensorflow_datasets/url_checksums)\n",
        "\n",
        "### Arreglar `NonMatchingChecksumError`\n",
        "\n",
        "TFDS garantiza el determinismo al validar las sumas de verificación de las URL descargadas. Si ocurre un error `NonMatchingChecksumError`, puede indicar lo siguiente:\n",
        "\n",
        "- Es posible que el sitio web esté inactivo (por ejemplo, `503 status code`). Revise la URL.\n",
        "- Para las URL de Google Drive, inténtelo de nuevo más tarde, ya que, a veces, Drive rechaza las descargas cuando demasiadas personas acceden a la misma URL. Ver [error](https://github.com/tensorflow/datasets/issues/1482)\n",
        "- Es posible que se hayan actualizado los archivos originales del conjuntos de datos. En este caso, se debe actualizar el generador de conjuntos de datos TFDS. Abra una nueva edición de Github o solicitud de cambios (PR):\n",
        "    - Registre las nuevas sumas de comprobación con `tfds build --register_checksums`\n",
        "    - Finalmente actualice el código de generación del conjunto de datos.\n",
        "    - Actualize la `VERSION` del conjunto de datos\n",
        "    - Actualize el conjunto de datos `RELEASE_NOTES`: ¿Qué provocó que cambiaran las sumas de comprobación? ¿Cambiaron algunos ejemplos?\n",
        "    - Asegúrese de que el conjunto de datos aún se pueda construir.\n",
        "    - Envíenos una solicitud de cambios (PR)\n",
        "\n",
        "Nota: También puede inspeccionar el archivo descargado en `~/tensorflow_datasets/download/`.\n"
      ]
    },
    {
      "cell_type": "markdown",
      "metadata": {
        "id": "GmeeOokMODg2"
      },
      "source": [
        "## Cita\n",
        "\n",
        "Si está usando `tensorflow-datasets` para un artículo, incluya la siguiente cita, además de las citas específicas de los conjuntos de datos que usó (puede encontrarlas en el [catálogo de conjuntos de datos](https://www.tensorflow.org/datasets/catalog/overview)).\n",
        "\n",
        "```\n",
        "@misc{TFDS,\n",
        "  title = { {TensorFlow Datasets}, A collection of ready-to-use datasets},\n",
        "  howpublished = {\\url{https://www.tensorflow.org/datasets}},\n",
        "}\n",
        "```"
      ]
    }
  ],
  "metadata": {
    "colab": {
      "collapsed_sections": [],
      "name": "overview.ipynb",
      "toc_visible": true
    },
    "kernelspec": {
      "display_name": "Python 3",
      "name": "python3"
    }
  },
  "nbformat": 4,
  "nbformat_minor": 0
}
