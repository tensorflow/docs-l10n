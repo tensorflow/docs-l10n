{
  "cells": [
    {
      "cell_type": "markdown",
      "metadata": {
        "id": "Tce3stUlHN0L"
      },
      "source": [
        "##### Copyright 2022 The TensorFlow Compression Authors."
      ]
    },
    {
      "cell_type": "code",
      "execution_count": null,
      "metadata": {
        "cellView": "form",
        "id": "tuOe1ymfHZPu"
      },
      "outputs": [],
      "source": [
        "#@title Licensed under the Apache License, Version 2.0 (the \"License\");\n",
        "# you may not use this file except in compliance with the License.\n",
        "# You may obtain a copy of the License at\n",
        "#\n",
        "# https://www.apache.org/licenses/LICENSE-2.0\n",
        "#\n",
        "# Unless required by applicable law or agreed to in writing, software\n",
        "# distributed under the License is distributed on an \"AS IS\" BASIS,\n",
        "# WITHOUT WARRANTIES OR CONDITIONS OF ANY KIND, either express or implied.\n",
        "# See the License for the specific language governing permissions and\n",
        "# limitations under the License."
      ]
    },
    {
      "cell_type": "markdown",
      "metadata": {
        "id": "qFdPvlXBOdUN"
      },
      "source": [
        "# Compresión de modelo escalable"
      ]
    },
    {
      "cell_type": "markdown",
      "metadata": {
        "id": "MfBg1C5NB3X0"
      },
      "source": [
        "<table class=\"tfo-notebook-buttons\" align=\"left\">\n",
        "  <td>     <a target=\"_blank\" href=\"https://www.tensorflow.org/tutorials/optimization/compression\">     <img src=\"https://www.tensorflow.org/images/tf_logo_32px.png\">     Ver en TensorFlow.org</a> </td>\n",
        "  <td>     <a target=\"_blank\" href=\"https://colab.research.google.com/github/tensorflow/docs-l10n/blob/master/site/es-419/tutorials/optimization/compression.ipynb\">     <img src=\"https://www.tensorflow.org/images/colab_logo_32px.png\">     Ejecutar en Google Colab</a> </td>\n",
        "  <td>     <a target=\"_blank\" href=\"https://github.com/tensorflow/docs-l10n/blob/master/site/es-419/tutorials/optimization/compression.ipynb\"><img src=\"https://www.tensorflow.org/images/GitHub-Mark-32px.png\">Ver fuente en GitHub</a> </td>\n",
        "  <td>     <a href=\"https://storage.googleapis.com/tensorflow_docs/docs-l10n/site/es-419/tutorials/optimization/compression.ipynb\"><img src=\"https://www.tensorflow.org/images/download_logo_32px.png\">Descargar notebook</a> </td>\n",
        "</table>"
      ]
    },
    {
      "cell_type": "markdown",
      "metadata": {
        "id": "xHxb-dlhMIzW"
      },
      "source": [
        "## Descripción general\n",
        "\n",
        "En estas anotaciones se muestra cómo comprimir un modelo con [TensorFlow Compression](https://github.com/tensorflow/compression).\n",
        "\n",
        "En el ejemplo que se encuentra abajo, comprimimos los pesos de un clasificador MNIST a un tamaño mucho más pequeño que el de la representación de su punto flotante, a la vez, manteniendo la exactitud en la clasificación. Se hace con un proceso de dos pasos basado en la publicación [Scalable Model Compression by Entropy Penalized Reparameterization](https://arxiv.org/abs/1906.06624) (Compresión de modelo escalable por reparametrización con sanción por entropía):\n",
        "\n",
        "- Entrenamiento de un modelo \"comprimible\" con una **sanción por entropía** explícita durante el entrenamiento, que favorece la capacidad de compresión de los parámetros del modelo. El peso de la sanción $\\lambda$ habilita el control continuo de las compensaciones entre el tamaño del modelo comprimido y su exactitud.\n",
        "\n",
        "- Codificación del modelo comprimible en un modelo comprimido con un esquema de código que coincide con la sanción, es decir, que la sanción predice bien el tamaño del modelo. De este modo, se garantiza que el método no requiera de varias iteraciones de entrenamiento, compresión ni reentrenamiento del modelo para ajustarlo.\n",
        "\n",
        "Este método está estrictamente centrado en el tamaño del modelo comprimido, no en la complejidad computacional. Se puede combinar con una técnica como la poda de modelos para reducir el tamaño y la complejidad.\n",
        "\n",
        "Ejemplo de resultados de compresión en varios modelos:\n",
        "\n",
        "Modelo (conjunto de datos) | Tamaño del modelo | Relación de comp. | Error de comp. principal (descomp.)\n",
        "--- | --- | --- | ---\n",
        "LeNet300-100 (MNIST) | 8.56 KB | 124x | 1.9%  (1.6%)\n",
        "LeNet5-Caffe (MNIST) | 2.84 KB | 606x | 1.0%  (0.7%)\n",
        "VGG-16 (CIFAR-10) | 101 KB | 590x | 10.0%  (6.6%)\n",
        "ResNet-20-4 (CIFAR-10) | 128 KB | 134x | 8.8%  (5.0%)\n",
        "ResNet-18 (ImageNet) | 1.97 MB | 24x | 30.0% (30.0%)\n",
        "ResNet-50 (ImageNet) | 5.49 MB | 19x | 26.0% (25.0%)\n",
        "\n",
        "Entre las aplicaciones se incluye:\n",
        "\n",
        "- Retransmisión/implementación de modelos para dispositivos con tecnología edge a gran escala, con ahorro de ancho de banda en tránsito.\n",
        "- Comunicación del estado del modelo global a los clientes en aprendizaje federado. La arquitectura del modelo (la cantidad de unidades ocultas, etc.) no cambia en cuanto al modelo inicial, y los clientes pueden seguir aprendiendo con el modelo comprimido.\n",
        "- Inferir sobre clientes con memoria extremadamente limitada. Durante la inferencia, los pesos de cada capa se pueden descomprimir secuencialmente y descartar inmediatamente después de que se calculan las activaciones."
      ]
    },
    {
      "cell_type": "markdown",
      "metadata": {
        "id": "MUXex9ctTuDB"
      },
      "source": [
        "## Preparar\n",
        "\n",
        "Instalar Tensorflow Compression con `pip`."
      ]
    },
    {
      "cell_type": "code",
      "execution_count": null,
      "metadata": {
        "id": "K489KsEgxuLI"
      },
      "outputs": [],
      "source": [
        "%%bash\n",
        "# Installs the latest version of TFC compatible with the installed TF version.\n",
        "\n",
        "read MAJOR MINOR <<< \"$(pip show tensorflow | perl -p -0777 -e 's/.*Version: (\\d+)\\.(\\d+).*/\\1 \\2/sg')\"\n",
        "pip install \"tensorflow-compression<$MAJOR.$(($MINOR+1))\"\n"
      ]
    },
    {
      "cell_type": "markdown",
      "metadata": {
        "id": "WfVAmHCVxpTS"
      },
      "source": [
        "Importar las dependencias de la librería."
      ]
    },
    {
      "cell_type": "code",
      "execution_count": null,
      "metadata": {
        "id": "IqR2PQG4ZaZ0"
      },
      "outputs": [],
      "source": [
        "import matplotlib.pyplot as plt\n",
        "import tensorflow as tf\n",
        "import tensorflow_compression as tfc\n",
        "import tensorflow_datasets as tfds\n"
      ]
    },
    {
      "cell_type": "markdown",
      "metadata": {
        "id": "wsncKT2iymgQ"
      },
      "source": [
        "## Definición y entrenamiento de un clasificador MNIST básico\n",
        "\n",
        "A fin de comprimir con efectividad las capas densas y convolucionales necesitamos definir las clases de capas personalizadas. Son análogas a las capas bajo `tf.keras.layers`, pero las subclasificaremos más adelante para implementar efectivamente la reparametrización con sanción por entropía (EPR). Para este mismo objetivo, también agregamos un constructor de copia.\n",
        "\n",
        "Primero, definimos una capa densa estándar:"
      ]
    },
    {
      "cell_type": "code",
      "execution_count": null,
      "metadata": {
        "id": "n_7ZRqiaO1WQ"
      },
      "outputs": [],
      "source": [
        "class CustomDense(tf.keras.layers.Layer):\n",
        "\n",
        "  def __init__(self, filters, name=\"dense\"):\n",
        "    super().__init__(name=name)\n",
        "    self.filters = filters\n",
        "\n",
        "  @classmethod\n",
        "  def copy(cls, other, **kwargs):\n",
        "    \"\"\"Returns an instantiated and built layer, initialized from `other`.\"\"\"\n",
        "    self = cls(filters=other.filters, name=other.name, **kwargs)\n",
        "    self.build(None, other=other)\n",
        "    return self\n",
        "\n",
        "  def build(self, input_shape, other=None):\n",
        "    \"\"\"Instantiates weights, optionally initializing them from `other`.\"\"\"\n",
        "    if other is None:\n",
        "      kernel_shape = (input_shape[-1], self.filters)\n",
        "      kernel = tf.keras.initializers.GlorotUniform()(shape=kernel_shape)\n",
        "      bias = tf.keras.initializers.Zeros()(shape=(self.filters,))\n",
        "    else:\n",
        "      kernel, bias = other.kernel, other.bias\n",
        "    self.kernel = tf.Variable(\n",
        "        tf.cast(kernel, self.variable_dtype), name=\"kernel\")\n",
        "    self.bias = tf.Variable(\n",
        "        tf.cast(bias, self.variable_dtype), name=\"bias\")\n",
        "    self.built = True\n",
        "\n",
        "  def call(self, inputs):\n",
        "    outputs = tf.linalg.matvec(self.kernel, inputs, transpose_a=True)\n",
        "    outputs = tf.nn.bias_add(outputs, self.bias)\n",
        "    return tf.nn.leaky_relu(outputs)\n"
      ]
    },
    {
      "cell_type": "markdown",
      "metadata": {
        "id": "RUZkcXegc0yR"
      },
      "source": [
        "De un modo similar, una capa convolucional 2D:"
      ]
    },
    {
      "cell_type": "code",
      "execution_count": null,
      "metadata": {
        "id": "RDibtb8EWCSj"
      },
      "outputs": [],
      "source": [
        "class CustomConv2D(tf.keras.layers.Layer):\n",
        "\n",
        "  def __init__(self, filters, kernel_size,\n",
        "               strides=1, padding=\"SAME\", name=\"conv2d\"):\n",
        "    super().__init__(name=name)\n",
        "    self.filters = filters\n",
        "    self.kernel_size = kernel_size\n",
        "    self.strides = strides\n",
        "    self.padding = padding\n",
        "\n",
        "  @classmethod\n",
        "  def copy(cls, other, **kwargs):\n",
        "    \"\"\"Returns an instantiated and built layer, initialized from `other`.\"\"\"\n",
        "    self = cls(filters=other.filters, kernel_size=other.kernel_size,\n",
        "               strides=other.strides, padding=other.padding, name=other.name,\n",
        "               **kwargs)\n",
        "    self.build(None, other=other)\n",
        "    return self\n",
        "\n",
        "  def build(self, input_shape, other=None):\n",
        "    \"\"\"Instantiates weights, optionally initializing them from `other`.\"\"\"\n",
        "    if other is None:\n",
        "      kernel_shape = 2 * (self.kernel_size,) + (input_shape[-1], self.filters)\n",
        "      kernel = tf.keras.initializers.GlorotUniform()(shape=kernel_shape)\n",
        "      bias = tf.keras.initializers.Zeros()(shape=(self.filters,))\n",
        "    else:\n",
        "      kernel, bias = other.kernel, other.bias\n",
        "    self.kernel = tf.Variable(\n",
        "        tf.cast(kernel, self.variable_dtype), name=\"kernel\")\n",
        "    self.bias = tf.Variable(\n",
        "        tf.cast(bias, self.variable_dtype), name=\"bias\")\n",
        "    self.built = True\n",
        "\n",
        "  def call(self, inputs):\n",
        "    outputs = tf.nn.convolution(\n",
        "        inputs, self.kernel, strides=self.strides, padding=self.padding)\n",
        "    outputs = tf.nn.bias_add(outputs, self.bias)\n",
        "    return tf.nn.leaky_relu(outputs)\n"
      ]
    },
    {
      "cell_type": "markdown",
      "metadata": {
        "id": "6xWa1hHMdCpG"
      },
      "source": [
        "Antes de continuar con la compresión del modelo, verifiquemos que podamos entrenar bien a un clasificador regular.\n",
        "\n",
        "Defina la arquitectura del modelo:"
      ]
    },
    {
      "cell_type": "code",
      "execution_count": null,
      "metadata": {
        "id": "8yZESLgW-vp1"
      },
      "outputs": [],
      "source": [
        "classifier = tf.keras.Sequential([\n",
        "    CustomConv2D(20, 5, strides=2, name=\"conv_1\"),\n",
        "    CustomConv2D(50, 5, strides=2, name=\"conv_2\"),\n",
        "    tf.keras.layers.Flatten(),\n",
        "    CustomDense(500, name=\"fc_1\"),\n",
        "    CustomDense(10, name=\"fc_2\"),\n",
        "], name=\"classifier\")\n"
      ]
    },
    {
      "cell_type": "markdown",
      "metadata": {
        "id": "9iRSvt_CdUuY"
      },
      "source": [
        "Cargue los datos de entrenamiento:"
      ]
    },
    {
      "cell_type": "code",
      "execution_count": null,
      "metadata": {
        "id": "L4bsA3HFF2k0"
      },
      "outputs": [],
      "source": [
        "def normalize_img(image, label):\n",
        "  \"\"\"Normalizes images: `uint8` -> `float32`.\"\"\"\n",
        "  return tf.cast(image, tf.float32) / 255., label\n",
        "\n",
        "training_dataset, validation_dataset = tfds.load(\n",
        "    \"mnist\",\n",
        "    split=[\"train\", \"test\"],\n",
        "    shuffle_files=True,\n",
        "    as_supervised=True,\n",
        "    with_info=False,\n",
        ")\n",
        "training_dataset = training_dataset.map(normalize_img)\n",
        "validation_dataset = validation_dataset.map(normalize_img)\n"
      ]
    },
    {
      "cell_type": "markdown",
      "metadata": {
        "id": "rR9WYjt_daRG"
      },
      "source": [
        "Finalmente, entrene el modelo:"
      ]
    },
    {
      "cell_type": "code",
      "execution_count": null,
      "metadata": {
        "id": "ROn2DbzsBirI"
      },
      "outputs": [],
      "source": [
        "def train_model(model, training_data, validation_data, **kwargs):\n",
        "  model.compile(\n",
        "      optimizer=tf.keras.optimizers.Adam(learning_rate=1e-3),\n",
        "      loss=tf.keras.losses.SparseCategoricalCrossentropy(from_logits=True),\n",
        "      metrics=[tf.keras.metrics.SparseCategoricalAccuracy()],\n",
        "      # Uncomment this to ease debugging:\n",
        "      # run_eagerly=True,\n",
        "  )\n",
        "  kwargs.setdefault(\"epochs\", 5)\n",
        "  kwargs.setdefault(\"verbose\", 1)\n",
        "  log = model.fit(\n",
        "      training_data.batch(128).prefetch(8),\n",
        "      validation_data=validation_data.batch(128).cache(),\n",
        "      validation_freq=1,\n",
        "      **kwargs,\n",
        "  )\n",
        "  return log.history[\"val_sparse_categorical_accuracy\"][-1]\n",
        "\n",
        "classifier_accuracy = train_model(\n",
        "    classifier, training_dataset, validation_dataset)\n",
        "\n",
        "print(f\"Accuracy: {classifier_accuracy:0.4f}\")\n"
      ]
    },
    {
      "cell_type": "markdown",
      "metadata": {
        "id": "QupWKZ91di-y"
      },
      "source": [
        "¡Excelente! El modelo se entrenó bien y alcanzó una exactitud de más del 98 % en el conjunto de validación en 5 épocas."
      ]
    },
    {
      "cell_type": "markdown",
      "metadata": {
        "id": "yRqZFwb5dqQm"
      },
      "source": [
        "## Entrenamiento de un clasificador comprimible\n",
        "\n",
        "La reparametrización con sanción por entropía (EPR) tiene dos ingredientes principales:\n",
        "\n",
        "- La aplicación de una **sanción** a los pesos del modelo durante el entrenamiento que corresponde a su entropía en un modelo probabilístico, que coincide con el esquema de codificación de pesos. A continuación, definimos un `Regularizer` Keras que implementa esta sanción.\n",
        "\n",
        "- La **reparametrización** de pesos; es decir, llevarlos a la representación latente que es más fácil de comprimir (produce una mejor compensación entre la capacidad de compresión y el desempeño del modelo). Para núcleos convolucionales, [se ha demostrado](https://arxiv.org/abs/1906.06624) que el dominio de Fourier los representa bien. Para otros parámetros, en el siguiente ejemplo simplemente se usa la cuantificación escalar (redondeo) con un tamaño de paso de cuantificación variable."
      ]
    },
    {
      "cell_type": "markdown",
      "metadata": {
        "id": "e4jmnqEmO6eB"
      },
      "source": [
        "Primero, defina la sanción.\n",
        "\n",
        "En el ejemplo siguiente se usa un modelo de código/probabilístico implementado en la clase `tfc.PowerLawEntropyModel` inspirado por la publicación [Optimizing the Communication-Accuracy Trade-off in Federated Learning with Rate-Distortion Theory](https://arxiv.org/abs/2201.02664) (Optimización de la compensación de exactitud-comunicación en aprendizaje federal con la teoría de tasa-distorsión). La sanción se define como: $$ \\log \\Bigl(\\frac {|x| + \\alpha} \\alpha\\Bigr), $$ donde $x$ es un parámetro del modelo o es la representación latente y $\\alpha$ es una pequeña constante para la estabilidad numérica con valores cercanos a 0."
      ]
    },
    {
      "cell_type": "code",
      "execution_count": null,
      "metadata": {
        "id": "hh57nxjuwocc"
      },
      "outputs": [],
      "source": [
        "_ = tf.linspace(-5., 5., 501)\n",
        "plt.plot(_, tfc.PowerLawEntropyModel(0).penalty(_));\n"
      ]
    },
    {
      "cell_type": "markdown",
      "metadata": {
        "id": "Gr3-6vLrwo-H"
      },
      "source": [
        "La sanción es, efectivamente, una pérdida de regularización (a veces, denominada \"pérdida de peso\"). El hecho de que sea cóncava con una cúspide en cero favorece la dispersión del peso. El esquema de código aplicado para comprimir los pesos, un [código gamma de Elias](https://en.wikipedia.org/wiki/Elias_gamma_coding), produce códigos de longitud de $ 1 + \\lfloor \\log_2 |x| \\rfloor $ bits para la magnitud del elemento. Es decir, al coincidir con la sanción y al aplicar esta última se minimiza la longitud de código esperada."
      ]
    },
    {
      "cell_type": "code",
      "execution_count": null,
      "metadata": {
        "id": "H1Yt6e1ub6pU"
      },
      "outputs": [],
      "source": [
        "class PowerLawRegularizer(tf.keras.regularizers.Regularizer):\n",
        "\n",
        "  def __init__(self, lmbda):\n",
        "    super().__init__()\n",
        "    self.lmbda = lmbda\n",
        "\n",
        "  def __call__(self, variable):\n",
        "    em = tfc.PowerLawEntropyModel(coding_rank=variable.shape.rank)\n",
        "    return self.lmbda * em.penalty(variable)\n",
        "\n",
        "# Normalizing the weight of the penalty by the number of model parameters is a\n",
        "# good rule of thumb to produce comparable results across models.\n",
        "regularizer = PowerLawRegularizer(lmbda=2./classifier.count_params())\n"
      ]
    },
    {
      "cell_type": "markdown",
      "metadata": {
        "id": "kyQc35QTf8Aq"
      },
      "source": [
        "En segundo lugar, defina las subclases de `CustomDense` y `CustomConv2D` que tienen la siguiente funcionalidad adicional:\n",
        "\n",
        "- Toman una instancia del regulador que figura arriba y la aplican a los núcleos y sesgos durante el entrenamiento.\n",
        "- Definen el núcleo y el sesgo como una `@property` que realiza la cuantificación con gradientes directos cuando se accede a las variables. Esta exactitud refleja el cálculo que se lleva a cabo más adelante en el modelo comprimido.\n",
        "- Definen las variables `log_step` adicionales, que representan el logaritmo del tamaño del paso de cuantificación. Mientras más aproximada sea la cuantificación, menor será el tamaño del modelo, pero también será menor la exactitud. Los tamaños de los pasos de cuantificación se pueden entrenar para cada parámetro del modelo, de modo que al realizar la optimización de la función de pérdida con sanción se determinará cuál es el mejor tamaño para el paso de cuantificación.\n",
        "\n",
        "El paso de cuantificación se define de la siguiente manera:"
      ]
    },
    {
      "cell_type": "code",
      "execution_count": null,
      "metadata": {
        "id": "60fMt3avgSFw"
      },
      "outputs": [],
      "source": [
        "def quantize(latent, log_step):\n",
        "  step = tf.exp(log_step)\n",
        "  return tfc.round_st(latent / step) * step\n"
      ]
    },
    {
      "cell_type": "markdown",
      "metadata": {
        "id": "stKrchp7mB0b"
      },
      "source": [
        "Con esto, podemos definir la capa densa:"
      ]
    },
    {
      "cell_type": "code",
      "execution_count": null,
      "metadata": {
        "id": "Ciz1F1WsXre_"
      },
      "outputs": [],
      "source": [
        "class CompressibleDense(CustomDense):\n",
        "\n",
        "  def __init__(self, regularizer, *args, **kwargs):\n",
        "    super().__init__(*args, **kwargs)\n",
        "    self.regularizer = regularizer\n",
        "\n",
        "  def build(self, input_shape, other=None):\n",
        "    \"\"\"Instantiates weights, optionally initializing them from `other`.\"\"\"\n",
        "    super().build(input_shape, other=other)\n",
        "    if other is not None and hasattr(other, \"kernel_log_step\"):\n",
        "      kernel_log_step = other.kernel_log_step\n",
        "      bias_log_step = other.bias_log_step\n",
        "    else:\n",
        "      kernel_log_step = bias_log_step = -4.\n",
        "    self.kernel_log_step = tf.Variable(\n",
        "        tf.cast(kernel_log_step, self.variable_dtype), name=\"kernel_log_step\")\n",
        "    self.bias_log_step = tf.Variable(\n",
        "        tf.cast(bias_log_step, self.variable_dtype), name=\"bias_log_step\")\n",
        "    self.add_loss(lambda: self.regularizer(\n",
        "        self.kernel_latent / tf.exp(self.kernel_log_step)))\n",
        "    self.add_loss(lambda: self.regularizer(\n",
        "        self.bias_latent / tf.exp(self.bias_log_step)))\n",
        "\n",
        "  @property\n",
        "  def kernel(self):\n",
        "    return quantize(self.kernel_latent, self.kernel_log_step)\n",
        "\n",
        "  @kernel.setter\n",
        "  def kernel(self, kernel):\n",
        "    self.kernel_latent = tf.Variable(kernel, name=\"kernel_latent\")\n",
        "\n",
        "  @property\n",
        "  def bias(self):\n",
        "    return quantize(self.bias_latent, self.bias_log_step)\n",
        "\n",
        "  @bias.setter\n",
        "  def bias(self, bias):\n",
        "    self.bias_latent = tf.Variable(bias, name=\"bias_latent\")\n"
      ]
    },
    {
      "cell_type": "markdown",
      "metadata": {
        "id": "CsykbQO0hxzW"
      },
      "source": [
        "La capa convolucional es análoga. Además, el núcleo de convolución se almacena como su transformada discreta de Fourier real (RDFT) siempre que el núcleo esté configurado y la transformada esté invertida cada vez que este se use. Debido a que los diferentes componentes de frecuencia del núcleo tienden a ser más o menos comprimibles, cada uno de ellos tiene su propio tamaño de paso de cuantificación asignado.\n",
        "\n",
        "Defina la transformada de Fourier y su inversa de la siguiente manera:"
      ]
    },
    {
      "cell_type": "code",
      "execution_count": null,
      "metadata": {
        "id": "rUFMKGHDguJS"
      },
      "outputs": [],
      "source": [
        "def to_rdft(kernel, kernel_size):\n",
        "  # The kernel has shape (H, W, I, O) -> transpose to take DFT over last two\n",
        "  # dimensions.\n",
        "  kernel = tf.transpose(kernel, (2, 3, 0, 1))\n",
        "  # The RDFT has type complex64 and shape (I, O, FH, FW).\n",
        "  kernel_rdft = tf.signal.rfft2d(kernel)\n",
        "  # Map real and imaginary parts into regular floats. The result is float32\n",
        "  # and has shape (I, O, FH, FW, 2).\n",
        "  kernel_rdft = tf.stack(\n",
        "      [tf.math.real(kernel_rdft), tf.math.imag(kernel_rdft)], axis=-1)\n",
        "  # Divide by kernel size to make the DFT orthonormal (length-preserving).\n",
        "  return kernel_rdft / kernel_size\n",
        "\n",
        "def from_rdft(kernel_rdft, kernel_size):\n",
        "  # Undoes the transformations in to_rdft.\n",
        "  kernel_rdft *= kernel_size\n",
        "  kernel_rdft = tf.dtypes.complex(*tf.unstack(kernel_rdft, axis=-1))\n",
        "  kernel = tf.signal.irfft2d(kernel_rdft, fft_length=2 * (kernel_size,))\n",
        "  return tf.transpose(kernel, (2, 3, 0, 1))\n"
      ]
    },
    {
      "cell_type": "markdown",
      "metadata": {
        "id": "esZZrJ5ImVDY"
      },
      "source": [
        "Con esto, defina la capa convolucional como:"
      ]
    },
    {
      "cell_type": "code",
      "execution_count": null,
      "metadata": {
        "id": "YKzXBNCO7bjB"
      },
      "outputs": [],
      "source": [
        "class CompressibleConv2D(CustomConv2D):\n",
        "\n",
        "  def __init__(self, regularizer, *args, **kwargs):\n",
        "    super().__init__(*args, **kwargs)\n",
        "    self.regularizer = regularizer\n",
        "\n",
        "  def build(self, input_shape, other=None):\n",
        "    \"\"\"Instantiates weights, optionally initializing them from `other`.\"\"\"\n",
        "    super().build(input_shape, other=other)\n",
        "    if other is not None and hasattr(other, \"kernel_log_step\"):\n",
        "      kernel_log_step = other.kernel_log_step\n",
        "      bias_log_step = other.bias_log_step\n",
        "    else:\n",
        "      kernel_log_step = tf.fill(self.kernel_latent.shape[2:], -4.)\n",
        "      bias_log_step = -4.\n",
        "    self.kernel_log_step = tf.Variable(\n",
        "        tf.cast(kernel_log_step, self.variable_dtype), name=\"kernel_log_step\")\n",
        "    self.bias_log_step = tf.Variable(\n",
        "        tf.cast(bias_log_step, self.variable_dtype), name=\"bias_log_step\")\n",
        "    self.add_loss(lambda: self.regularizer(\n",
        "        self.kernel_latent / tf.exp(self.kernel_log_step)))\n",
        "    self.add_loss(lambda: self.regularizer(\n",
        "        self.bias_latent / tf.exp(self.bias_log_step)))\n",
        "\n",
        "  @property\n",
        "  def kernel(self):\n",
        "    kernel_rdft = quantize(self.kernel_latent, self.kernel_log_step)\n",
        "    return from_rdft(kernel_rdft, self.kernel_size)\n",
        "\n",
        "  @kernel.setter\n",
        "  def kernel(self, kernel):\n",
        "    kernel_rdft = to_rdft(kernel, self.kernel_size)\n",
        "    self.kernel_latent = tf.Variable(kernel_rdft, name=\"kernel_latent\")\n",
        "\n",
        "  @property\n",
        "  def bias(self):\n",
        "    return quantize(self.bias_latent, self.bias_log_step)\n",
        "\n",
        "  @bias.setter\n",
        "  def bias(self, bias):\n",
        "    self.bias_latent = tf.Variable(bias, name=\"bias_latent\")\n"
      ]
    },
    {
      "cell_type": "markdown",
      "metadata": {
        "id": "1-ekDDQ9jidI"
      },
      "source": [
        "Defina un modelo clasificador con la misma arquitectura que ve arriba, pero use estas capas modificadas:"
      ]
    },
    {
      "cell_type": "code",
      "execution_count": null,
      "metadata": {
        "id": "TQgp84L7qalw"
      },
      "outputs": [],
      "source": [
        "def make_mnist_classifier(regularizer):\n",
        "  return tf.keras.Sequential([\n",
        "      CompressibleConv2D(regularizer, 20, 5, strides=2, name=\"conv_1\"),\n",
        "      CompressibleConv2D(regularizer, 50, 5, strides=2, name=\"conv_2\"),\n",
        "      tf.keras.layers.Flatten(),\n",
        "      CompressibleDense(regularizer, 500, name=\"fc_1\"),\n",
        "      CompressibleDense(regularizer, 10, name=\"fc_2\"),\n",
        "  ], name=\"classifier\")\n",
        "\n",
        "compressible_classifier = make_mnist_classifier(regularizer)\n"
      ]
    },
    {
      "cell_type": "markdown",
      "metadata": {
        "id": "hJ-TMHE1kNFc"
      },
      "source": [
        "Y entrene el modelo:"
      ]
    },
    {
      "cell_type": "code",
      "execution_count": null,
      "metadata": {
        "id": "6L5ZJAX4EiXW"
      },
      "outputs": [],
      "source": [
        "penalized_accuracy = train_model(\n",
        "    compressible_classifier, training_dataset, validation_dataset)\n",
        "\n",
        "print(f\"Accuracy: {penalized_accuracy:0.4f}\")\n"
      ]
    },
    {
      "cell_type": "markdown",
      "metadata": {
        "id": "ZuE4NeY_kTDz"
      },
      "source": [
        "El modelo comprimible ha alcanzado una exactitud similar a la del clasificador simple.\n",
        "\n",
        "Sin embargo, el modelo todavía no está realmente comprimido. Para lograrlo, definimos otro conjunto de subclases que almacena los núcleos y los sesgos en forma comprimida, como una secuencia de bits."
      ]
    },
    {
      "cell_type": "markdown",
      "metadata": {
        "id": "AZhj8A2gnBkD"
      },
      "source": [
        "## Compresión del clasificador\n",
        "\n",
        "Las subclases de `CustomDense` y `CustomConv2D` definidas a continuación convierten los pesos de una capa densa comprimible en cadenas binarias. Además, almacenan el logaritmo del tamaño del paso de la cuantificación a la mitad de la precisión, para ahorrar espacio. Siempre que se accede al núcleo o sesgo mediante `@property`, se descomprimen a partir de su representación de cadena y se descuantifican.\n",
        "\n",
        "Primero, defina las funciones para comprimir y descomprimir un parámetro del modelo:"
      ]
    },
    {
      "cell_type": "code",
      "execution_count": null,
      "metadata": {
        "id": "xS19FhDajeto"
      },
      "outputs": [],
      "source": [
        "def compress_latent(latent, log_step, name):\n",
        "  em = tfc.PowerLawEntropyModel(latent.shape.rank)\n",
        "  compressed = em.compress(latent / tf.exp(log_step))\n",
        "  compressed = tf.Variable(compressed, name=f\"{name}_compressed\")\n",
        "  log_step = tf.cast(log_step, tf.float16)\n",
        "  log_step = tf.Variable(log_step, name=f\"{name}_log_step\")\n",
        "  return compressed, log_step\n",
        "\n",
        "def decompress_latent(compressed, shape, log_step):\n",
        "  latent = tfc.PowerLawEntropyModel(len(shape)).decompress(compressed, shape)\n",
        "  step = tf.exp(tf.cast(log_step, latent.dtype))\n",
        "  return latent * step\n"
      ]
    },
    {
      "cell_type": "markdown",
      "metadata": {
        "id": "bPPABE9fjqHJ"
      },
      "source": [
        "Con esto podemos definir `CompressedDense`:"
      ]
    },
    {
      "cell_type": "code",
      "execution_count": null,
      "metadata": {
        "id": "CnaiNzhgaZ7s"
      },
      "outputs": [],
      "source": [
        "class CompressedDense(CustomDense):\n",
        "\n",
        "  def build(self, input_shape, other=None):\n",
        "    assert isinstance(other, CompressibleDense)\n",
        "    self.input_channels = other.kernel.shape[0]\n",
        "    self.kernel_compressed, self.kernel_log_step = compress_latent(\n",
        "        other.kernel_latent, other.kernel_log_step, \"kernel\")\n",
        "    self.bias_compressed, self.bias_log_step = compress_latent(\n",
        "        other.bias_latent, other.bias_log_step, \"bias\")\n",
        "    self.built = True\n",
        "\n",
        "  @property\n",
        "  def kernel(self):\n",
        "    kernel_shape = (self.input_channels, self.filters)\n",
        "    return decompress_latent(\n",
        "        self.kernel_compressed, kernel_shape, self.kernel_log_step)\n",
        "\n",
        "  @property\n",
        "  def bias(self):\n",
        "    bias_shape = (self.filters,)\n",
        "    return decompress_latent(\n",
        "        self.bias_compressed, bias_shape, self.bias_log_step)\n"
      ]
    },
    {
      "cell_type": "markdown",
      "metadata": {
        "id": "tzvMCM0El2iW"
      },
      "source": [
        "La clase de capa convolucional es análoga a la anterior."
      ]
    },
    {
      "cell_type": "code",
      "execution_count": null,
      "metadata": {
        "id": "hS-2ADA6iWeQ"
      },
      "outputs": [],
      "source": [
        "class CompressedConv2D(CustomConv2D):\n",
        "\n",
        "  def build(self, input_shape, other=None):\n",
        "    assert isinstance(other, CompressibleConv2D)\n",
        "    self.input_channels = other.kernel.shape[2]\n",
        "    self.kernel_compressed, self.kernel_log_step = compress_latent(\n",
        "        other.kernel_latent, other.kernel_log_step, \"kernel\")\n",
        "    self.bias_compressed, self.bias_log_step = compress_latent(\n",
        "        other.bias_latent, other.bias_log_step, \"bias\")\n",
        "    self.built = True\n",
        "\n",
        "  @property\n",
        "  def kernel(self):\n",
        "    rdft_shape = (self.input_channels, self.filters,\n",
        "                  self.kernel_size, self.kernel_size // 2 + 1, 2)\n",
        "    kernel_rdft = decompress_latent(\n",
        "        self.kernel_compressed, rdft_shape, self.kernel_log_step)\n",
        "    return from_rdft(kernel_rdft, self.kernel_size)\n",
        "\n",
        "  @property\n",
        "  def bias(self):\n",
        "    bias_shape = (self.filters,)\n",
        "    return decompress_latent(\n",
        "        self.bias_compressed, bias_shape, self.bias_log_step)\n"
      ]
    },
    {
      "cell_type": "markdown",
      "metadata": {
        "id": "cJLCPoe3l8jG"
      },
      "source": [
        "Para transformar el modelo comprimible en uno comprimido podemos aprovechar y usar la función `clone_model`. `compress_layer` convierte cualquier capa comprimible en comprimida y, simplemente, pasa a través de cualquier otro tipo de capa (como `Flatten`, etc.).\n"
      ]
    },
    {
      "cell_type": "code",
      "execution_count": null,
      "metadata": {
        "id": "WEHroUyhG56m"
      },
      "outputs": [],
      "source": [
        "def compress_layer(layer):\n",
        "  if isinstance(layer, CompressibleDense):\n",
        "    return CompressedDense.copy(layer)\n",
        "  if isinstance(layer, CompressibleConv2D):\n",
        "    return CompressedConv2D.copy(layer)\n",
        "  return type(layer).from_config(layer.get_config())\n",
        "\n",
        "compressed_classifier = tf.keras.models.clone_model(\n",
        "    compressible_classifier, clone_function=compress_layer)\n"
      ]
    },
    {
      "cell_type": "markdown",
      "metadata": {
        "id": "b3wbN1XQmkDg"
      },
      "source": [
        "Ahora, validemos que el modelo comprimido aún se comporta como se espera:"
      ]
    },
    {
      "cell_type": "code",
      "execution_count": null,
      "metadata": {
        "id": "R95kuURITpa9"
      },
      "outputs": [],
      "source": [
        "compressed_classifier.compile(metrics=[tf.keras.metrics.SparseCategoricalAccuracy()])\n",
        "_, compressed_accuracy = compressed_classifier.evaluate(validation_dataset.batch(128))\n",
        "\n",
        "print(f\"Accuracy of the compressible classifier: {penalized_accuracy:0.4f}\")\n",
        "print(f\"Accuracy of the compressed classifier: {compressed_accuracy:0.4f}\")\n"
      ]
    },
    {
      "cell_type": "markdown",
      "metadata": {
        "id": "KtFhpXh6uaIY"
      },
      "source": [
        "¡La exactitud de clasificación del modelo comprimido es idéntica a la lograda durante el entrenamiento!\n",
        "\n",
        "Además, el tamaño del modelo comprimido pesa mucho menos que el del tamaño del modelo original:"
      ]
    },
    {
      "cell_type": "code",
      "execution_count": null,
      "metadata": {
        "id": "Qp-ecfuYufbs"
      },
      "outputs": [],
      "source": [
        "def get_weight_size_in_bytes(weight):\n",
        "  if weight.dtype == tf.string:\n",
        "    return tf.reduce_sum(tf.strings.length(weight, unit=\"BYTE\"))\n",
        "  else:\n",
        "    return tf.size(weight) * weight.dtype.size\n",
        "\n",
        "original_size = sum(map(get_weight_size_in_bytes, classifier.weights))\n",
        "compressed_size = sum(map(get_weight_size_in_bytes, compressed_classifier.weights))\n",
        "\n",
        "print(f\"Size of original model weights: {original_size} bytes\")\n",
        "print(f\"Size of compressed model weights: {compressed_size} bytes\")\n",
        "print(f\"Compression ratio: {(original_size/compressed_size):0.0f}x\")\n"
      ]
    },
    {
      "cell_type": "markdown",
      "metadata": {
        "id": "K8A8v0df6TR2"
      },
      "source": [
        "Para almacenar los modelos en el disco se requiere de sobrecosto para almacenar la arquitectura del modelo, los gráficos de función del modelo, etc.\n",
        "\n",
        "Los métodos de compresión sin pérdida como ZIP son buenos para comprimir este tipo de datos, pero no los pesos en sí mismos. Es el motivo por el que sigue siendo beneficioso usar EPR para contar el tamaño del modelo incluido en ese sobrecosto, después de aplicar también la compresión ZIP:"
      ]
    },
    {
      "cell_type": "code",
      "execution_count": null,
      "metadata": {
        "id": "4hunDYxH1zqb"
      },
      "outputs": [],
      "source": [
        "import os\n",
        "import shutil\n",
        "\n",
        "def get_disk_size(model, path):\n",
        "  model.save(path)\n",
        "  zip_path = shutil.make_archive(path, \"zip\", path)\n",
        "  return os.path.getsize(zip_path)\n",
        "\n",
        "original_zip_size = get_disk_size(classifier, \"/tmp/classifier\")\n",
        "compressed_zip_size = get_disk_size(\n",
        "    compressed_classifier, \"/tmp/compressed_classifier\")\n",
        "\n",
        "print(f\"Original on-disk size (ZIP compressed): {original_zip_size} bytes\")\n",
        "print(f\"Compressed on-disk size (ZIP compressed): {compressed_zip_size} bytes\")\n",
        "print(f\"Compression ratio: {(original_zip_size/compressed_zip_size):0.0f}x\")\n"
      ]
    },
    {
      "cell_type": "markdown",
      "metadata": {
        "id": "FSITvJrlAhZs"
      },
      "source": [
        "## Efecto de la regularización y compensación de tamaño-exactitud\n",
        "\n",
        "Arriba, el hiperparámetro $\\lambda$ se estableció en 2 (normalizado por la cantidad de parámetros del modelo). A medida que aumentamos $\\lambda$, los pesos del modelo reciben cada vez más sanciones por la comprimibilidad.\n",
        "\n",
        "Para valores bajos, la sanción puede funcionar como un regularizador de peso. De hecho, tiene un efecto favorable en el desempeño de la generalización del clasificador y puede contribuir a una exactitud levemente mayor en el conjunto de datos de validación:\n"
      ]
    },
    {
      "cell_type": "code",
      "execution_count": null,
      "metadata": {
        "cellView": "form",
        "id": "4rhmKu98FdPJ"
      },
      "outputs": [],
      "source": [
        "#@title\n",
        "\n",
        "print(f\"Accuracy of the vanilla classifier: {classifier_accuracy:0.4f}\")\n",
        "print(f\"Accuracy of the penalized classifier: {penalized_accuracy:0.4f}\")\n"
      ]
    },
    {
      "cell_type": "markdown",
      "metadata": {
        "id": "9UCfC4LQFdjL"
      },
      "source": [
        "Para valores más altos, vemos un tamaño de modelo cada vez más pequeño, pero también la exactitud disminuye gradualmente. Para verlo, entrene algunos modelos y grafique su tamaño con respecto a la exactitud:\n"
      ]
    },
    {
      "cell_type": "code",
      "execution_count": null,
      "metadata": {
        "id": "diApPKHbAIqa"
      },
      "outputs": [],
      "source": [
        "def compress_and_evaluate_model(lmbda):\n",
        "  print(f\"lambda={lmbda:0.0f}: training...\", flush=True)\n",
        "  regularizer = PowerLawRegularizer(lmbda=lmbda/classifier.count_params())\n",
        "  compressible_classifier = make_mnist_classifier(regularizer)\n",
        "  train_model(\n",
        "      compressible_classifier, training_dataset, validation_dataset, verbose=0)\n",
        "  print(\"compressing...\", flush=True)\n",
        "  compressed_classifier = tf.keras.models.clone_model(\n",
        "      compressible_classifier, clone_function=compress_layer)\n",
        "  compressed_size = sum(map(\n",
        "      get_weight_size_in_bytes, compressed_classifier.weights))\n",
        "  compressed_zip_size = float(get_disk_size(\n",
        "      compressed_classifier, \"/tmp/compressed_classifier\"))\n",
        "  print(\"evaluating...\", flush=True)\n",
        "  compressed_classifier = tf.keras.models.load_model(\n",
        "      \"/tmp/compressed_classifier\")\n",
        "  compressed_classifier.compile(\n",
        "      metrics=[tf.keras.metrics.SparseCategoricalAccuracy()])\n",
        "  _, compressed_accuracy = compressed_classifier.evaluate(\n",
        "      validation_dataset.batch(128), verbose=0)\n",
        "  print()\n",
        "  return compressed_size, compressed_zip_size, compressed_accuracy\n",
        "\n",
        "lambdas = (2., 5., 10., 20., 50.)\n",
        "metrics = [compress_and_evaluate_model(l) for l in lambdas]\n",
        "metrics = tf.convert_to_tensor(metrics, tf.float32)\n"
      ]
    },
    {
      "cell_type": "code",
      "execution_count": null,
      "metadata": {
        "cellView": "form",
        "id": "bhAi85KzGqTz"
      },
      "outputs": [],
      "source": [
        "#@title\n",
        "\n",
        "def plot_broken_xaxis(ax, compressed_sizes, original_size, original_accuracy):\n",
        "  xticks = list(range(\n",
        "      int(tf.math.floor(min(compressed_sizes) / 5) * 5),\n",
        "      int(tf.math.ceil(max(compressed_sizes) / 5) * 5) + 1,\n",
        "      5))\n",
        "  xticks.append(xticks[-1] + 10)\n",
        "  ax.set_xlim(xticks[0], xticks[-1] + 2)\n",
        "  ax.set_xticks(xticks[1:])\n",
        "  ax.set_xticklabels(xticks[1:-1] + [f\"{original_size:0.2f}\"])\n",
        "  ax.plot(xticks[-1], original_accuracy, \"o\", label=\"float32\")\n",
        "\n",
        "sizes, zip_sizes, accuracies = tf.transpose(metrics)\n",
        "sizes /= 1024\n",
        "zip_sizes /= 1024\n",
        "\n",
        "fig, (axl, axr) = plt.subplots(1, 2, sharey=True, figsize=(10, 4))\n",
        "axl.plot(sizes, accuracies, \"o-\", label=\"EPR compressed\")\n",
        "axr.plot(zip_sizes, accuracies, \"o-\", label=\"EPR compressed\")\n",
        "plot_broken_xaxis(axl, sizes, original_size/1024, classifier_accuracy)\n",
        "plot_broken_xaxis(axr, zip_sizes, original_zip_size/1024, classifier_accuracy)\n",
        "\n",
        "axl.set_xlabel(\"size of model weights [kbytes]\")\n",
        "axr.set_xlabel(\"ZIP compressed on-disk model size [kbytes]\")\n",
        "axl.set_ylabel(\"accuracy\")\n",
        "axl.legend(loc=\"lower right\")\n",
        "axr.legend(loc=\"lower right\")\n",
        "axl.grid()\n",
        "axr.grid()\n",
        "for i in range(len(lambdas)):\n",
        "  axl.annotate(f\"$\\lambda = {lambdas[i]:0.0f}$\", (sizes[i], accuracies[i]),\n",
        "               xytext=(10, -5), xycoords=\"data\", textcoords=\"offset points\")\n",
        "  axr.annotate(f\"$\\lambda = {lambdas[i]:0.0f}$\", (zip_sizes[i], accuracies[i]),\n",
        "               xytext=(10, -5), xycoords=\"data\", textcoords=\"offset points\")\n",
        "plt.tight_layout()\n"
      ]
    },
    {
      "cell_type": "markdown",
      "metadata": {
        "id": "ajrHaFTAaLd2"
      },
      "source": [
        "Lo ideal sería que en el gráfico se mostrara una compensación entre tamaño y exactitud con forma de codo, pero lo normal es que las métricas de exactitud, en cierto modo, tengan ruido. Dependiendo de la inicialización, la curva puede exhibir algunos pliegues.\n",
        "\n",
        "Debido al efecto de regularización, el modelo EPR comprimido es más exacto en el conjunto de prueba que en el modelo original para valores pequeños de $\\lambda$. El modelo EPR comprimido también es mucho más chico en comparación con los tamaños posteriores a la compresión ZIP adicional."
      ]
    },
    {
      "cell_type": "markdown",
      "metadata": {
        "id": "-RBhdXZTzoWw"
      },
      "source": [
        "## Descompresión del clasificador\n",
        "\n",
        "`CompressedDense` y `CompressedConv2D` descomprimen los pesos de cada pase hacia adelante. De este modo, se vuelven ideales para dispositivos de memoria limitada, pero la descompresión puede ser costosa desde el punto de vista del cálculo, en particular en tamaños de lotes pequeños.\n",
        "\n",
        "Para descomprimir el modelo una vez y usarlo para más entrenamientos o inferencias, podemos volver a convertirlo en modelo con capas regulares o comprimibles. Puede resultar útil para la implementación de modelos o en escenarios de entrenamiento federado.\n",
        "\n",
        "Primero, lo volvemos a convertir en modelo simple, podemos hacer inferencias o continuar el entrenamiento regular sin una sanción por compresión:"
      ]
    },
    {
      "cell_type": "code",
      "execution_count": null,
      "metadata": {
        "id": "QBB2-X5XzvwB"
      },
      "outputs": [],
      "source": [
        "def decompress_layer(layer):\n",
        "  if isinstance(layer, CompressedDense):\n",
        "    return CustomDense.copy(layer)\n",
        "  if isinstance(layer, CompressedConv2D):\n",
        "    return CustomConv2D.copy(layer)\n",
        "  return type(layer).from_config(layer.get_config())\n",
        "\n",
        "decompressed_classifier = tf.keras.models.clone_model(\n",
        "    compressed_classifier, clone_function=decompress_layer)\n"
      ]
    },
    {
      "cell_type": "code",
      "execution_count": null,
      "metadata": {
        "id": "ehE2ov8U0p0G"
      },
      "outputs": [],
      "source": [
        "decompressed_accuracy = train_model(\n",
        "    decompressed_classifier, training_dataset, validation_dataset, epochs=1)\n",
        "\n",
        "print(f\"Accuracy of the compressed classifier: {compressed_accuracy:0.4f}\")\n",
        "print(f\"Accuracy of the decompressed classifier after one more epoch of training: {decompressed_accuracy:0.4f}\")\n"
      ]
    },
    {
      "cell_type": "markdown",
      "metadata": {
        "id": "jiSCvemQ04o8"
      },
      "source": [
        "Tenga en cuenta que la exactitud en la validación cae después de entrenar durante una época adicional, ya que el entrenamiento se hace sin regularización.\n",
        "\n",
        "Como alternativa, podemos volver a convertir el modelo en uno \"comprimible\", para inferencias o más entrenamiento con una sanción por compresión:"
      ]
    },
    {
      "cell_type": "code",
      "execution_count": null,
      "metadata": {
        "id": "JDppVUdx1BvY"
      },
      "outputs": [],
      "source": [
        "def decompress_layer_with_penalty(layer):\n",
        "  if isinstance(layer, CompressedDense):\n",
        "    return CompressibleDense.copy(layer, regularizer=regularizer)\n",
        "  if isinstance(layer, CompressedConv2D):\n",
        "    return CompressibleConv2D.copy(layer, regularizer=regularizer)\n",
        "  return type(layer).from_config(layer.get_config())\n",
        "\n",
        "decompressed_classifier = tf.keras.models.clone_model(\n",
        "    compressed_classifier, clone_function=decompress_layer_with_penalty)\n"
      ]
    },
    {
      "cell_type": "code",
      "execution_count": null,
      "metadata": {
        "id": "AJcnyOFW2IcK"
      },
      "outputs": [],
      "source": [
        "decompressed_accuracy = train_model(\n",
        "    decompressed_classifier, training_dataset, validation_dataset, epochs=1)\n",
        "\n",
        "print(f\"Accuracy of the compressed classifier: {compressed_accuracy:0.4f}\")\n",
        "print(f\"Accuracy of the decompressed classifier after one more epoch of training: {decompressed_accuracy:0.4f}\")\n"
      ]
    },
    {
      "cell_type": "markdown",
      "metadata": {
        "id": "Ciol315T_TwQ"
      },
      "source": [
        "Aquí, la exactitud mejora después de entrenar durante una época adicional."
      ]
    }
  ],
  "metadata": {
    "colab": {
      "collapsed_sections": [
        "Tce3stUlHN0L",
        "xHxb-dlhMIzW"
      ],
      "name": "compression.ipynb",
      "toc_visible": true
    },
    "kernelspec": {
      "display_name": "Python 3",
      "name": "python3"
    }
  },
  "nbformat": 4,
  "nbformat_minor": 0
}
