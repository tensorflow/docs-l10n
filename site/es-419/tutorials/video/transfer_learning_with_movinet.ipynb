{
  "cells": [
    {
      "cell_type": "markdown",
      "metadata": {
        "id": "EOgDUDMAG6mn"
      },
      "source": [
        "##### Copyright 2022 The TensorFlow Authors."
      ]
    },
    {
      "cell_type": "code",
      "execution_count": null,
      "metadata": {
        "cellView": "form",
        "id": "B3PsBDmGG_W8"
      },
      "outputs": [],
      "source": [
        "#@title Licensed under the Apache License, Version 2.0 (the \"License\");\n",
        "# you may not use this file except in compliance with the License.\n",
        "# You may obtain a copy of the License at\n",
        "#\n",
        "# https://www.apache.org/licenses/LICENSE-2.0\n",
        "#\n",
        "# Unless required by applicable law or agreed to in writing, software\n",
        "# distributed under the License is distributed on an \"AS IS\" BASIS,\n",
        "# WITHOUT WARRANTIES OR CONDITIONS OF ANY KIND, either express or implied.\n",
        "# See the License for the specific language governing permissions and\n",
        "# limitations under the License."
      ]
    },
    {
      "cell_type": "markdown",
      "metadata": {
        "id": "ifkGYxdCHIof"
      },
      "source": [
        "<table class=\"tfo-notebook-buttons\" align=\"left\">\n",
        "  <td>     <a target=\"_blank\" href=\"https://www.tensorflow.org/tutorials/video/transfer_learning_with_movinet\">     <img src=\"https://www.tensorflow.org/images/tf_logo_32px.png\">     Ver en TensorFlow.org</a> </td>\n",
        "  <td>     <a target=\"_blank\" href=\"https://colab.research.google.com/github/tensorflow/docs-l10n/blob/master/site/es-419/tutorials/video/transfer_learning_with_movinet.ipynb\"><img src=\"https://www.tensorflow.org/images/colab_logo_32px.png\">Ejecutar en Google Colab</a> </td>\n",
        "  <td>     <a target=\"_blank\" href=\"https://github.com/tensorflow/docs-l10n/blob/master/site/es-419/tutorials/video/transfer_learning_with_movinet.ipynb\"><img src=\"https://www.tensorflow.org/images/GitHub-Mark-32px.png\">Ver fuente en GitHub</a> </td>\n",
        "  <td>     <a href=\"https://storage.googleapis.com/tensorflow_docs/docs-l10n/site/es-419/tutorials/video/transfer_learning_with_movinet.ipynb\"><img src=\"https://www.tensorflow.org/images/download_logo_32px.png\">Descargar notebook</a> </td>\n",
        "</table>"
      ]
    },
    {
      "cell_type": "markdown",
      "metadata": {
        "id": "sWxDDkRwLVMC"
      },
      "source": [
        "# Aprendizaje por transferencia para clasificación de video con MoViNet\n",
        "\n",
        "MoViNets (Mobile Video Networks) ofrece una familia de modelos de clasificación de video eficientes, compatibles con la inferencia en la transmisión de video. En este tutorial, se usará un modelo previamente entrenado de MoViNet para clasificar videos, específicamente para una tarea de reconocimiento de acciones, del [conjunto de datos UCF101](https://www.crcv.ucf.edu/data/UCF101.php). Un modelo previamente entrenado es una red guardada que fue entrenada antes en un conjunto de datos más grande. Para más detalles sobre MoViNets, puede consultar la publicación [MoViNets: Mobile Video Networks for Efficient Video Recognition](https://arxiv.org/abs/2103.11511) (MoViNets: redes de video móvil para reconocimiento de video eficiente) de Kondratyuk, D. et al. (2021). Con este tutorial logrará lo siguiente:\n",
        "\n",
        "- Aprender a descargar un modelo MoViNet previamente entrenado.\n",
        "- Crear un modelo nuevo usando uno previamente entrenado con un clasificador nuevo, mediante el congelamiento de la base convolucional del modelo MoViNet.\n",
        "- Reemplazar la cabeza o del clasificador por el número de etiquetas de un nuevo conjunto de datos.\n",
        "- Realizar el aprendizaje por transferencia en el [conjunto de datos UCF101](https://www.crcv.ucf.edu/data/UCF101.php)\n",
        "\n",
        "El modelo descargado en este tutorial proviene de [official/projects/movinet](https://github.com/tensorflow/models/tree/master/official/projects/movinet). Este repositorio contiene una recopilación de modelos MoViNet que usa TF Hub en el formato SavedModel de TensorFlow 2.\n",
        "\n",
        "Este tutorial de aprendizaje por transferencia es la tercera parte de una serie de tutoriales en video de TensorFlow. A continuación, compartimos otros tres tutoriales:\n",
        "\n",
        "- [Cómo cargar datos de video](https://www.tensorflow.org/tutorials/load_data/video): en este tutorial se explica gran parte del código usado en este documento. En particular, se explica más en detalle cómo procesar y cargar los datos mediante la clase `FrameGenerator`.\n",
        "- [Cómo crear un modelo 3D CNN para la clasificación de video](https://www.tensorflow.org/tutorials/video/video_classification). Tenga en cuenta que en este tutorial se usa (2+1)D CNN que descompone los aspectos espaciales y temporales de los datos en 3D. Si usa datos volumétricos como un escaneo MRI, considere utilizar un 3D CNN en vez de un (2+1)D CNN.\n",
        "- [MoViNet para reconocimiento de acciones de transmisión](https://www.tensorflow.org/hub/tutorials/movinet): familiarícese con los modelos MoViNet que se encuentran disponibles en TF Hub."
      ]
    },
    {
      "cell_type": "markdown",
      "metadata": {
        "id": "GidiisyXwK--"
      },
      "source": [
        "## Preparar\n",
        "\n",
        "Para descargar el modelo MoViNet previamente entrenado, empiece por instalar e importar algunas bibliotecas necesarias, incluidas: [remotezip](https://github.com/gtsystem/python-remotezip) para inspeccionar el contenido de un archivo ZIP, [tqdm](https://github.com/tqdm/tqdm) para usar la barra de progreso, [OpenCV](https://opencv.org/) para procesar archivos de video (verifique que `opencv-python` y `opencv-python-headless` sean de la misma versión) y los modelos TensorFlow ([`tf-models-official`](https://github.com/tensorflow/models/tree/master/official)). El paquete de modelos TensorFlow contiene una recopilación de modelos que se usan con las API de alto nivel de TensorFlow."
      ]
    },
    {
      "cell_type": "code",
      "execution_count": null,
      "metadata": {
        "id": "nubWhqYdwEXD"
      },
      "outputs": [],
      "source": [
        "!pip install remotezip tqdm opencv-python==4.5.2.52 opencv-python-headless==4.5.2.52 tf-models-official"
      ]
    },
    {
      "cell_type": "code",
      "execution_count": null,
      "metadata": {
        "id": "QImPsudoK9JI"
      },
      "outputs": [],
      "source": [
        "import tqdm\n",
        "import random\n",
        "import pathlib\n",
        "import itertools\n",
        "import collections\n",
        "\n",
        "import cv2\n",
        "import numpy as np\n",
        "import remotezip as rz\n",
        "import seaborn as sns\n",
        "import matplotlib.pyplot as plt\n",
        "\n",
        "import keras\n",
        "import tensorflow as tf\n",
        "import tensorflow_hub as hub\n",
        "from tensorflow.keras import layers\n",
        "from tensorflow.keras.optimizers import Adam\n",
        "from tensorflow.keras.losses import SparseCategoricalCrossentropy\n",
        "\n",
        "# Import the MoViNet model from TensorFlow Models (tf-models-official) for the MoViNet model\n",
        "from official.projects.movinet.modeling import movinet\n",
        "from official.projects.movinet.modeling import movinet_model"
      ]
    },
    {
      "cell_type": "markdown",
      "metadata": {
        "id": "2w3H4dfOPfnm"
      },
      "source": [
        "## Carga de datos\n",
        "\n",
        "La celda oculta que se encuentra debajo define las funciones de ayudante para descargar un slice de datos del conjunto de datos UCF-101 dataset, and load it into a `tf.data.Dataset`. En el [tutorial para carga de datos de video](https://www.tensorflow.org/tutorials/load_data/video) se brinda información detallada sobre este código.\n",
        "\n",
        "La clase `FrameGenerator` al final del bloque oculto es la utilidad más importante en este caso. Crea un objeto iterable que puede alimentar los datos en la canalización de datos de TensorFlow. Específicamente, esta clase contiene un generador Python que carga los cuadros de video junto con su etiqueta codificada. La función del generador (`__call__`) produce el arreglo del marco emitido por `frames_from_video_file` y un vector codificado en un solo paso (one-hot) de la etiqueta asociada con el conjunto de cuadros.\n"
      ]
    },
    {
      "cell_type": "code",
      "execution_count": null,
      "metadata": {
        "cellView": "form",
        "id": "fwEhJ13_PSy6"
      },
      "outputs": [],
      "source": [
        "#@title \n",
        "\n",
        "def list_files_per_class(zip_url):\n",
        "  \"\"\"\n",
        "    List the files in each class of the dataset given the zip URL.\n",
        "\n",
        "    Args:\n",
        "      zip_url: URL from which the files can be unzipped. \n",
        "\n",
        "    Return:\n",
        "      files: List of files in each of the classes.\n",
        "  \"\"\"\n",
        "  files = []\n",
        "  with rz.RemoteZip(URL) as zip:\n",
        "    for zip_info in zip.infolist():\n",
        "      files.append(zip_info.filename)\n",
        "  return files\n",
        "\n",
        "def get_class(fname):\n",
        "  \"\"\"\n",
        "    Retrieve the name of the class given a filename.\n",
        "\n",
        "    Args:\n",
        "      fname: Name of the file in the UCF101 dataset.\n",
        "\n",
        "    Return:\n",
        "      Class that the file belongs to.\n",
        "  \"\"\"\n",
        "  return fname.split('_')[-3]\n",
        "\n",
        "def get_files_per_class(files):\n",
        "  \"\"\"\n",
        "    Retrieve the files that belong to each class. \n",
        "\n",
        "    Args:\n",
        "      files: List of files in the dataset.\n",
        "\n",
        "    Return:\n",
        "      Dictionary of class names (key) and files (values).\n",
        "  \"\"\"\n",
        "  files_for_class = collections.defaultdict(list)\n",
        "  for fname in files:\n",
        "    class_name = get_class(fname)\n",
        "    files_for_class[class_name].append(fname)\n",
        "  return files_for_class\n",
        "\n",
        "def download_from_zip(zip_url, to_dir, file_names):\n",
        "  \"\"\"\n",
        "    Download the contents of the zip file from the zip URL.\n",
        "\n",
        "    Args:\n",
        "      zip_url: Zip URL containing data.\n",
        "      to_dir: Directory to download data to.\n",
        "      file_names: Names of files to download.\n",
        "  \"\"\"\n",
        "  with rz.RemoteZip(zip_url) as zip:\n",
        "    for fn in tqdm.tqdm(file_names):\n",
        "      class_name = get_class(fn)\n",
        "      zip.extract(fn, str(to_dir / class_name))\n",
        "      unzipped_file = to_dir / class_name / fn\n",
        "\n",
        "      fn = pathlib.Path(fn).parts[-1]\n",
        "      output_file = to_dir / class_name / fn\n",
        "      unzipped_file.rename(output_file,)\n",
        "\n",
        "def split_class_lists(files_for_class, count):\n",
        "  \"\"\"\n",
        "    Returns the list of files belonging to a subset of data as well as the remainder of\n",
        "    files that need to be downloaded.\n",
        "\n",
        "    Args:\n",
        "      files_for_class: Files belonging to a particular class of data.\n",
        "      count: Number of files to download.\n",
        "\n",
        "    Return:\n",
        "      split_files: Files belonging to the subset of data.\n",
        "      remainder: Dictionary of the remainder of files that need to be downloaded.\n",
        "  \"\"\"\n",
        "  split_files = []\n",
        "  remainder = {}\n",
        "  for cls in files_for_class:\n",
        "    split_files.extend(files_for_class[cls][:count])\n",
        "    remainder[cls] = files_for_class[cls][count:]\n",
        "  return split_files, remainder\n",
        "\n",
        "def download_ufc_101_subset(zip_url, num_classes, splits, download_dir):\n",
        "  \"\"\"\n",
        "    Download a subset of the UFC101 dataset and split them into various parts, such as\n",
        "    training, validation, and test. \n",
        "\n",
        "    Args:\n",
        "      zip_url: Zip URL containing data.\n",
        "      num_classes: Number of labels.\n",
        "      splits: Dictionary specifying the training, validation, test, etc. (key) division of data \n",
        "              (value is number of files per split).\n",
        "      download_dir: Directory to download data to.\n",
        "\n",
        "    Return:\n",
        "      dir: Posix path of the resulting directories containing the splits of data.\n",
        "  \"\"\"\n",
        "  files = list_files_per_class(zip_url)\n",
        "  for f in files:\n",
        "    tokens = f.split('/')\n",
        "    if len(tokens) <= 2:\n",
        "      files.remove(f) # Remove that item from the list if it does not have a filename\n",
        "\n",
        "  files_for_class = get_files_per_class(files)\n",
        "\n",
        "  classes = list(files_for_class.keys())[:num_classes]\n",
        "\n",
        "  for cls in classes:\n",
        "    new_files_for_class = files_for_class[cls]\n",
        "    random.shuffle(new_files_for_class)\n",
        "    files_for_class[cls] = new_files_for_class\n",
        "\n",
        "  # Only use the number of classes you want in the dictionary\n",
        "  files_for_class = {x: files_for_class[x] for x in list(files_for_class)[:num_classes]}\n",
        "\n",
        "  dirs = {}\n",
        "  for split_name, split_count in splits.items():\n",
        "    print(split_name, \":\")\n",
        "    split_dir = download_dir / split_name\n",
        "    split_files, files_for_class = split_class_lists(files_for_class, split_count)\n",
        "    download_from_zip(zip_url, split_dir, split_files)\n",
        "    dirs[split_name] = split_dir\n",
        "\n",
        "  return dirs\n",
        "\n",
        "def format_frames(frame, output_size):\n",
        "  \"\"\"\n",
        "    Pad and resize an image from a video.\n",
        "\n",
        "    Args:\n",
        "      frame: Image that needs to resized and padded. \n",
        "      output_size: Pixel size of the output frame image.\n",
        "\n",
        "    Return:\n",
        "      Formatted frame with padding of specified output size.\n",
        "  \"\"\"\n",
        "  frame = tf.image.convert_image_dtype(frame, tf.float32)\n",
        "  frame = tf.image.resize_with_pad(frame, *output_size)\n",
        "  return frame\n",
        "\n",
        "def frames_from_video_file(video_path, n_frames, output_size = (224,224), frame_step = 15):\n",
        "  \"\"\"\n",
        "    Creates frames from each video file present for each category.\n",
        "\n",
        "    Args:\n",
        "      video_path: File path to the video.\n",
        "      n_frames: Number of frames to be created per video file.\n",
        "      output_size: Pixel size of the output frame image.\n",
        "\n",
        "    Return:\n",
        "      An NumPy array of frames in the shape of (n_frames, height, width, channels).\n",
        "  \"\"\"\n",
        "  # Read each video frame by frame\n",
        "  result = []\n",
        "  src = cv2.VideoCapture(str(video_path))  \n",
        "\n",
        "  video_length = src.get(cv2.CAP_PROP_FRAME_COUNT)\n",
        "\n",
        "  need_length = 1 + (n_frames - 1) * frame_step\n",
        "\n",
        "  if need_length > video_length:\n",
        "    start = 0\n",
        "  else:\n",
        "    max_start = video_length - need_length\n",
        "    start = random.randint(0, max_start + 1)\n",
        "\n",
        "  src.set(cv2.CAP_PROP_POS_FRAMES, start)\n",
        "  # ret is a boolean indicating whether read was successful, frame is the image itself\n",
        "  ret, frame = src.read()\n",
        "  result.append(format_frames(frame, output_size))\n",
        "\n",
        "  for _ in range(n_frames - 1):\n",
        "    for _ in range(frame_step):\n",
        "      ret, frame = src.read()\n",
        "    if ret:\n",
        "      frame = format_frames(frame, output_size)\n",
        "      result.append(frame)\n",
        "    else:\n",
        "      result.append(np.zeros_like(result[0]))\n",
        "  src.release()\n",
        "  result = np.array(result)[..., [2, 1, 0]]\n",
        "\n",
        "  return result\n",
        "\n",
        "class FrameGenerator:\n",
        "  def __init__(self, path, n_frames, training = False):\n",
        "    \"\"\" Returns a set of frames with their associated label. \n",
        "\n",
        "      Args:\n",
        "        path: Video file paths.\n",
        "        n_frames: Number of frames. \n",
        "        training: Boolean to determine if training dataset is being created.\n",
        "    \"\"\"\n",
        "    self.path = path\n",
        "    self.n_frames = n_frames\n",
        "    self.training = training\n",
        "    self.class_names = sorted(set(p.name for p in self.path.iterdir() if p.is_dir()))\n",
        "    self.class_ids_for_name = dict((name, idx) for idx, name in enumerate(self.class_names))\n",
        "\n",
        "  def get_files_and_class_names(self):\n",
        "    video_paths = list(self.path.glob('*/*.avi'))\n",
        "    classes = [p.parent.name for p in video_paths] \n",
        "    return video_paths, classes\n",
        "\n",
        "  def __call__(self):\n",
        "    video_paths, classes = self.get_files_and_class_names()\n",
        "\n",
        "    pairs = list(zip(video_paths, classes))\n",
        "\n",
        "    if self.training:\n",
        "      random.shuffle(pairs)\n",
        "\n",
        "    for path, name in pairs:\n",
        "      video_frames = frames_from_video_file(path, self.n_frames) \n",
        "      label = self.class_ids_for_name[name] # Encode labels\n",
        "      yield video_frames, label"
      ]
    },
    {
      "cell_type": "code",
      "execution_count": null,
      "metadata": {
        "id": "vDHrNLZkPSR9"
      },
      "outputs": [],
      "source": [
        "URL = 'https://storage.googleapis.com/thumos14_files/UCF101_videos.zip'\n",
        "download_dir = pathlib.Path('./UCF101_subset/')\n",
        "subset_paths = download_ufc_101_subset(URL, \n",
        "                        num_classes = 10, \n",
        "                        splits = {\"train\": 30, \"test\": 20}, \n",
        "                        download_dir = download_dir)"
      ]
    },
    {
      "cell_type": "markdown",
      "metadata": {
        "id": "aYYShfhMx9DW"
      },
      "source": [
        "Cree el entrenamiento y los conjuntos de datos de prueba:"
      ]
    },
    {
      "cell_type": "code",
      "execution_count": null,
      "metadata": {
        "id": "-twTu3_Bx-iJ"
      },
      "outputs": [],
      "source": [
        "batch_size = 8\n",
        "num_frames = 8\n",
        "\n",
        "output_signature = (tf.TensorSpec(shape = (None, None, None, 3), dtype = tf.float32),\n",
        "                    tf.TensorSpec(shape = (), dtype = tf.int16))\n",
        "\n",
        "train_ds = tf.data.Dataset.from_generator(FrameGenerator(subset_paths['train'], num_frames, training = True),\n",
        "                                          output_signature = output_signature)\n",
        "train_ds = train_ds.batch(batch_size)\n",
        "\n",
        "test_ds = tf.data.Dataset.from_generator(FrameGenerator(subset_paths['test'], num_frames),\n",
        "                                         output_signature = output_signature)\n",
        "test_ds = test_ds.batch(batch_size)"
      ]
    },
    {
      "cell_type": "markdown",
      "metadata": {
        "id": "d7stgmuBCGQT"
      },
      "source": [
        "Las etiquetas generadas aquí representan la codificación de clases. Por ejemplo, 'ApplyEyeMakeup' está mapeada con el entero. Échele un vistazo a las etiquetas para confirmar que el conjunto de datos haya sido suficientemente aleatorizado. "
      ]
    },
    {
      "cell_type": "code",
      "execution_count": null,
      "metadata": {
        "id": "k9L2-toXCOQq"
      },
      "outputs": [],
      "source": [
        "for frames, labels in train_ds.take(10):\n",
        "  print(labels)"
      ]
    },
    {
      "cell_type": "markdown",
      "metadata": {
        "id": "YZ3qwZnpfy9c"
      },
      "source": [
        "Observe la forma de los datos."
      ]
    },
    {
      "cell_type": "code",
      "execution_count": null,
      "metadata": {
        "id": "b6MqP4m2fyQT"
      },
      "outputs": [],
      "source": [
        "print(f\"Shape: {frames.shape}\")\n",
        "print(f\"Label: {labels.shape}\")"
      ]
    },
    {
      "cell_type": "markdown",
      "metadata": {
        "id": "lxbhPqXGvc_F"
      },
      "source": [
        "## ¿Qué son los MoViNets?\n",
        "\n",
        "Tal como lo mencionamos antes, los [MoViNets](https://arxiv.org/abs/2103.11511) son modelos de clasificación de video que se usan para transmitir videos o para inferencias en línea en tareas como la del reconocimiento de acciones. Analice la posibilidad de usar MoViNets para clasificar los datos de video para reconocimiento de acciones.\n",
        "\n",
        "Un clasificador basado en un cuadro en 2D es eficiente y fácil de ejecutar en videos completos o para transmitir de a un cuadro por vez. Dado que no pueden tener el contexto temporal en cuenta, su exactitud es limitada y puede producir salidas inconsistentes entre un cuadro y otro.\n",
        "\n",
        "Uno 3D CNN simple usa contexto temporal bidireccional, que puede aumentar la exactitud y la consistencia temporal. Estas redes pueden requerir de más recursos y como miran al futuro no se pueden usar para transmitir datos.\n",
        "\n",
        "![Convolución estándar](https://www.tensorflow.org/images/tutorials/video/standard_convolution.png)\n",
        "\n",
        "La arquitectura de MoViNet usa convoluciones en 3D que sean \"causales\" a lo largo del eje de tiempo (como `layers.Conv1D` con `padding=\"causal\"`). Esta alternativa ofrece algunas de las ventajas de ambas opciones, principalmente, permite una transmisión eficiente.\n",
        "\n",
        "![Convolución causal](https://www.tensorflow.org/images/tutorials/video/causal_convolution.png)\n",
        "\n",
        "La convolución causal garantiza que la salida a un tiempo *t* se calcule usando solamente entradas a tiempo *t*. Para demostrar de qué manera esto puede hacer que la transmisión sea más eficiente, comience con un ejemplo más simple, con el que sienta familiaridad: una red neuronal recurrente (RNN). La RNN pasa el estado hacia adelante a través del tiempo:\n",
        "\n",
        "![Modelo de RNN](https://www.tensorflow.org/images/tutorials/video/rnn_comparison.png)"
      ]
    },
    {
      "cell_type": "code",
      "execution_count": null,
      "metadata": {
        "id": "dMvDkgfFZC6a"
      },
      "outputs": [],
      "source": [
        "gru = layers.GRU(units=4, return_sequences=True, return_state=True)\n",
        "\n",
        "inputs = tf.random.normal(shape=[1, 10, 8]) # (batch, sequence, channels)\n",
        "\n",
        "result, state = gru(inputs) # Run it all at once"
      ]
    },
    {
      "cell_type": "markdown",
      "metadata": {
        "id": "T7xyb5C4bTs7"
      },
      "source": [
        "Al configurar el argumento `return_sequences=True` de RNN<br> se le pide que devuelva un estado al final del cálculo. Esto le permitirá pausar y después continuar donde dejó, para obtener exactamente el mismo resultado:\n",
        "\n",
        "![Pase de estado en RNN](https://www.tensorflow.org/images/tutorials/video/rnn_state_passing.png)"
      ]
    },
    {
      "cell_type": "code",
      "execution_count": null,
      "metadata": {
        "id": "bI8FOPRRXXPa"
      },
      "outputs": [],
      "source": [
        "first_half, state = gru(inputs[:, :5, :])   # run the first half, and capture the state\n",
        "second_half, _ = gru(inputs[:,5:, :], initial_state=state)  # Use the state to continue where you left off.\n",
        "\n",
        "print(np.allclose(result[:, :5,:], first_half))\n",
        "print(np.allclose(result[:, 5:,:], second_half))"
      ]
    },
    {
      "cell_type": "markdown",
      "metadata": {
        "id": "KM3MArumY_Qk"
      },
      "source": [
        "Las convoluciones causales se pueden usar del mismo modo, si se tratan con cuidado y atención. Esta misma técnica se usó en [Fast Wavenet Generation Algorithm](https://arxiv.org/abs/1611.09482) (algoritmo de generación de wavenet rápido) de Le Paine et al. En la [publicación sobre MoVinet](https://arxiv.org/abs/2103.11511), el `state` se denomina \"Stream Buffer\" (búfer de transmisión).\n",
        "\n",
        "![Estados pasados en una convolución causal](https://www.tensorflow.org/images/tutorials/video/causal_conv_states.png)\n",
        "\n",
        "Al pasar esta pequeña porción del estado hacia adelante, evita recalcular el campo receptivo completo que se muestra arriba. "
      ]
    },
    {
      "cell_type": "markdown",
      "metadata": {
        "id": "1UsxiPs8yA2e"
      },
      "source": [
        "## Descarga de un modelo MoViNet previamente entrenado\n",
        "\n",
        "En esta sección, logrará lo siguiente:\n",
        "\n",
        "1. Podrá crear un modelo MoViNet con código abierto proporcionado en [`official/projects/movinet`](https://github.com/tensorflow/models/tree/master/official/projects/movinet) de modelos TensorFlow.\n",
        "2. Cargar los pesos previamente entrenados.\n",
        "3. Congelar la base convolucional u otras capas excepto la cabeza del clasificador final para acelerar el ajuste fino.\n",
        "\n",
        "Para crear el modelo, puede empezar con la configuración `a0` porque es la más rápida de entrenar en comparación con otros modelos. Consulte los [modelos MoViNet disponibles en TensorFlow Model Garden](https://github.com/tensorflow/models/blob/master/official/projects/movinet/configs/movinet.py) (el jardín modelo de TensorFlow) para hallar  algo que sea útil para su caso de uso."
      ]
    },
    {
      "cell_type": "code",
      "execution_count": null,
      "metadata": {
        "id": "rhSCM6cee05F"
      },
      "outputs": [],
      "source": [
        "model_id = 'a0'\n",
        "resolution = 224\n",
        "\n",
        "tf.keras.backend.clear_session()\n",
        "\n",
        "backbone = movinet.Movinet(model_id=model_id)\n",
        "backbone.trainable = False\n",
        "\n",
        "# Set num_classes=600 to load the pre-trained weights from the original model\n",
        "model = movinet_model.MovinetClassifier(backbone=backbone, num_classes=600)\n",
        "model.build([None, None, None, None, 3])\n",
        "\n",
        "# Load pre-trained weights\n",
        "!wget https://storage.googleapis.com/tf_model_garden/vision/movinet/movinet_a0_base.tar.gz -O movinet_a0_base.tar.gz -q\n",
        "!tar -xvf movinet_a0_base.tar.gz\n",
        "\n",
        "checkpoint_dir = f'movinet_{model_id}_base'\n",
        "checkpoint_path = tf.train.latest_checkpoint(checkpoint_dir)\n",
        "checkpoint = tf.train.Checkpoint(model=model)\n",
        "status = checkpoint.restore(checkpoint_path)\n",
        "status.assert_existing_objects_matched()"
      ]
    },
    {
      "cell_type": "markdown",
      "metadata": {
        "id": "BW23HVNtCXff"
      },
      "source": [
        "Para crear un clasificador, cree primero una función que contenga la columna vertebral (también conocida como extractor de atributos o backbone) y la cantidad de clases en un conjunto de datos. La función `build_classifier` tomará la columna vertebral y la cantidad de clases de un conjunto de datos para elaborar el clasificador. En este caso, el nuevo clasificador tomará salidas `num_classes` (10 clases para este subconjunto de UCF101)."
      ]
    },
    {
      "cell_type": "code",
      "execution_count": null,
      "metadata": {
        "id": "6cfAelbU5Gi3"
      },
      "outputs": [],
      "source": [
        "def build_classifier(batch_size, num_frames, resolution, backbone, num_classes):\n",
        "  \"\"\"Builds a classifier on top of a backbone model.\"\"\"\n",
        "  model = movinet_model.MovinetClassifier(\n",
        "      backbone=backbone,\n",
        "      num_classes=num_classes)\n",
        "  model.build([batch_size, num_frames, resolution, resolution, 3])\n",
        "\n",
        "  return model"
      ]
    },
    {
      "cell_type": "code",
      "execution_count": null,
      "metadata": {
        "id": "9HWSk-u7oPUZ"
      },
      "outputs": [],
      "source": [
        "model = build_classifier(batch_size, num_frames, resolution, backbone, 10)"
      ]
    },
    {
      "cell_type": "markdown",
      "metadata": {
        "id": "JhbX7qdTN8lc"
      },
      "source": [
        "Para este tutorial, elija el optimizador `tf.keras.optimizers.Adam` y la función de pérdida `tf.keras.losses.SparseCategoricalCrossentropy`. Use el argumento de métricas para ver la exactitud del desempeño del modelo en cada paso."
      ]
    },
    {
      "cell_type": "code",
      "execution_count": null,
      "metadata": {
        "id": "dVqBLrn1tBsd"
      },
      "outputs": [],
      "source": [
        "num_epochs = 2\n",
        "\n",
        "loss_obj = tf.keras.losses.SparseCategoricalCrossentropy(from_logits=True)\n",
        "\n",
        "optimizer = tf.keras.optimizers.Adam(learning_rate = 0.001)\n",
        "\n",
        "model.compile(loss=loss_obj, optimizer=optimizer, metrics=['accuracy'])"
      ]
    },
    {
      "cell_type": "markdown",
      "metadata": {
        "id": "VflEr_t6CuQu"
      },
      "source": [
        "Entrene el modelo. Después de dos épocas, observe una pérdida baja y exactitud alta tanto para los conjuntos de entrenamiento como para los de prueba. "
      ]
    },
    {
      "cell_type": "code",
      "execution_count": null,
      "metadata": {
        "id": "9ZeiYzI0tqQG"
      },
      "outputs": [],
      "source": [
        "results = model.fit(train_ds,\n",
        "                    validation_data=test_ds,\n",
        "                    epochs=num_epochs,\n",
        "                    validation_freq=1,\n",
        "                    verbose=1)"
      ]
    },
    {
      "cell_type": "markdown",
      "metadata": {
        "id": "KkLl2zF8G9W0"
      },
      "source": [
        "## Evaluación del modelo\n",
        "\n",
        "El modelo alcanzó gran exactitud en el entrenamiento del conjunto de datos. Ahora, use `Model.evaluate` de Keras para evaluarlo con el conjunto de prueba."
      ]
    },
    {
      "cell_type": "code",
      "execution_count": null,
      "metadata": {
        "id": "NqgbzOiKuxxT"
      },
      "outputs": [],
      "source": [
        "model.evaluate(test_ds, return_dict=True)"
      ]
    },
    {
      "cell_type": "markdown",
      "metadata": {
        "id": "OkFst2gsHBwD"
      },
      "source": [
        "Para visualizar mejor el desempeño del modelo, use una [matriz de confusión](https://www.tensorflow.org/api_docs/python/tf/math/confusion_matrix). La matriz de confusión le permitirá evaluar el desempeño del modelo de clasificación más allá de su exactitud. Para elaborar la matriz de confusión para este problema de clasificación multiclase, obtenga los valores reales del conjunto de prueba y los valores predichos."
      ]
    },
    {
      "cell_type": "code",
      "execution_count": null,
      "metadata": {
        "id": "hssSdW9XHF_j"
      },
      "outputs": [],
      "source": [
        "def get_actual_predicted_labels(dataset):\n",
        "  \"\"\"\n",
        "    Create a list of actual ground truth values and the predictions from the model.\n",
        "\n",
        "    Args:\n",
        "      dataset: An iterable data structure, such as a TensorFlow Dataset, with features and labels.\n",
        "\n",
        "    Return:\n",
        "      Ground truth and predicted values for a particular dataset.\n",
        "  \"\"\"\n",
        "  actual = [labels for _, labels in dataset.unbatch()]\n",
        "  predicted = model.predict(dataset)\n",
        "\n",
        "  actual = tf.stack(actual, axis=0)\n",
        "  predicted = tf.concat(predicted, axis=0)\n",
        "  predicted = tf.argmax(predicted, axis=1)\n",
        "\n",
        "  return actual, predicted"
      ]
    },
    {
      "cell_type": "code",
      "execution_count": null,
      "metadata": {
        "id": "2TmTue6THGWO"
      },
      "outputs": [],
      "source": [
        "def plot_confusion_matrix(actual, predicted, labels, ds_type):\n",
        "  cm = tf.math.confusion_matrix(actual, predicted)\n",
        "  ax = sns.heatmap(cm, annot=True, fmt='g')\n",
        "  sns.set(rc={'figure.figsize':(12, 12)})\n",
        "  sns.set(font_scale=1.4)\n",
        "  ax.set_title('Confusion matrix of action recognition for ' + ds_type)\n",
        "  ax.set_xlabel('Predicted Action')\n",
        "  ax.set_ylabel('Actual Action')\n",
        "  plt.xticks(rotation=90)\n",
        "  plt.yticks(rotation=0)\n",
        "  ax.xaxis.set_ticklabels(labels)\n",
        "  ax.yaxis.set_ticklabels(labels)"
      ]
    },
    {
      "cell_type": "code",
      "execution_count": null,
      "metadata": {
        "id": "4RK1A1C1HH6V"
      },
      "outputs": [],
      "source": [
        "fg = FrameGenerator(subset_paths['train'], num_frames, training = True)\n",
        "label_names = list(fg.class_ids_for_name.keys())"
      ]
    },
    {
      "cell_type": "code",
      "execution_count": null,
      "metadata": {
        "id": "r4AFi2e5HKEO"
      },
      "outputs": [],
      "source": [
        "actual, predicted = get_actual_predicted_labels(test_ds)\n",
        "plot_confusion_matrix(actual, predicted, label_names, 'test')"
      ]
    },
    {
      "cell_type": "markdown",
      "metadata": {
        "id": "ddQG9sYxa1Ib"
      },
      "source": [
        "## Próximos pasos\n",
        "\n",
        "Ahora que se ha familiarizado con el modelo MoViNet y con cómo aprovechar las distintas API de TensorFlow APIs (por ejemplo, para el aprendizaje por transferencia) intente usar el código que se muestra en este tutorial con su propio conjunto de datos. Los datos no tienen que limitarse a datos de video. Los datos volumétricos como los escaneos por MRI, también se pueden usar con las CNN 3D. Los conjuntos de datos NUSDAT y IMH mencionados en [Brain MRI-based 3D Convolutional Neural Networks for Classification of Schizophrenia and Controls](https://arxiv.org/pdf/2003.08818.pdf) (Redes neuronales convolucionales 3D basadas en MRI cerebrales para clasificación de esquizofrenia y controles) podrían ser dos fuentes de este tipo para datos de MRI.\n",
        "\n",
        "En particular, al usar la clase `FrameGenerator` que se usó en este tutorial y los otros tutoriales sobre clasificación y datos de video le servirá de ayuda para cargar datos en sus propios modelos.\n",
        "\n",
        "Para más información sobre cómo trabajar con datos de video en TensorFlow, consulte los siguientes tutoriales:\n",
        "\n",
        "- [Carga de datos de video](https://www.tensorflow.org/tutorials/load_data/video)\n",
        "- [Creación de un modelo de CNN 3D para clasificación de video](https://www.tensorflow.org/tutorials/video/video_classification)\n",
        "- [MoViNet para reconocimiento de acciones de transmisión](https://www.tensorflow.org/hub/tutorials/movinet)"
      ]
    }
  ],
  "metadata": {
    "accelerator": "GPU",
    "colab": {
      "name": "transfer_learning_with_movinet.ipynb",
      "toc_visible": true
    },
    "kernelspec": {
      "display_name": "Python 3",
      "name": "python3"
    }
  },
  "nbformat": 4,
  "nbformat_minor": 0
}
