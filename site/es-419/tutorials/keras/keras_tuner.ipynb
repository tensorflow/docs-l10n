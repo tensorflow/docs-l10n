{
  "cells": [
    {
      "cell_type": "markdown",
      "metadata": {
        "id": "Tce3stUlHN0L"
      },
      "source": [
        "##### Copyright 2020 The TensorFlow Authors."
      ]
    },
    {
      "cell_type": "code",
      "execution_count": null,
      "metadata": {
        "cellView": "form",
        "id": "tuOe1ymfHZPu"
      },
      "outputs": [],
      "source": [
        "#@title Licensed under the Apache License, Version 2.0 (the \"License\");\n",
        "# you may not use this file except in compliance with the License.\n",
        "# You may obtain a copy of the License at\n",
        "#\n",
        "# https://www.apache.org/licenses/LICENSE-2.0\n",
        "#\n",
        "# Unless required by applicable law or agreed to in writing, software\n",
        "# distributed under the License is distributed on an \"AS IS\" BASIS,\n",
        "# WITHOUT WARRANTIES OR CONDITIONS OF ANY KIND, either express or implied.\n",
        "# See the License for the specific language governing permissions and\n",
        "# limitations under the License."
      ]
    },
    {
      "cell_type": "markdown",
      "metadata": {
        "id": "qFdPvlXBOdUN"
      },
      "source": [
        "# Introducción a Keras Tuner"
      ]
    },
    {
      "cell_type": "markdown",
      "metadata": {
        "id": "MfBg1C5NB3X0"
      },
      "source": [
        "<table class=\"tfo-notebook-buttons\" align=\"left\">\n",
        "  <td>     <a target=\"_blank\" href=\"https://www.tensorflow.org/tutorials/keras/keras_tuner\"><img src=\"https://www.tensorflow.org/images/tf_logo_32px.png\">Ver en TensorFlow.org</a> </td>\n",
        "  <td>     <a target=\"_blank\" href=\"https://colab.research.google.com/github/tensorflow/docs-l10n/blob/master/site/es-419/tutorials/keras/keras_tuner.ipynb\"><img src=\"https://www.tensorflow.org/images/colab_logo_32px.png\">Ejecutar en Google Colab</a> </td>\n",
        "  <td>     <a target=\"_blank\" href=\"https://github.com/tensorflow/docs-l10n/blob/master/site/es-419/tutorials/keras/keras_tuner.ipynb\"><img src=\"https://www.tensorflow.org/images/GitHub-Mark-32px.png\">Ver fuente en GitHub</a> </td>\n",
        "  <td>     <a href=\"https://storage.googleapis.com/tensorflow_docs/docs-l10n/site/es-419/tutorials/keras/keras_tuner.ipynb\"><img src=\"https://www.tensorflow.org/images/download_logo_32px.png\">Descargar notebook</a> </td>\n",
        "</table>"
      ]
    },
    {
      "cell_type": "markdown",
      "metadata": {
        "id": "xHxb-dlhMIzW"
      },
      "source": [
        "## Descripción general\n",
        "\n",
        "Keras Tuner es una biblioteca que le ayuda a seleccionar el mejor conjunto de hiperparámetros para su programa de TensorFlow. El proceso de selección del conjunto adecuado de hiperparámetros para su aplicación de aprendizaje automático (ML, por sus siglas en inglés) se denomina *ajuste de hiperparámetros* o *hiperajuste*.\n",
        "\n",
        "Los hiperparámetros son las variables que controlan el proceso de entrenamiento y la topología del modelo de aprendizaje automático. Dichas variables se mantienen constantes a lo largo del proceso de entrenamiento y afectan directamente el rendimiento del programa de aprendizaje automático. Existen dos tipos de hiperparámetros:\n",
        "\n",
        "1. **Hiperparámetros de modelo** que influyen en la selección del modelo, como la cantidad y el ancho de las capas ocultas.\n",
        "2. **Hiperparámetros de algoritmo** que influyen en la velocidad y la calidad del algoritmo de aprendizaje, como la tasa de aprendizaje del Descenso del Gradiente Estocástico (SGD, Stochastic Gradient Descent) y el número de vecinos más cercanos de un clasificador k vecinos más cercanos (KNN, K Nearest Neighbors)\n",
        "\n",
        "En este tutorial, usará Keras Tuner para ejecutar el ajuste de hiperaparámetros en una aplicación de clasificación de imágenes."
      ]
    },
    {
      "cell_type": "markdown",
      "metadata": {
        "id": "MUXex9ctTuDB"
      },
      "source": [
        "## Preparar"
      ]
    },
    {
      "cell_type": "code",
      "execution_count": null,
      "metadata": {
        "id": "IqR2PQG4ZaZ0"
      },
      "outputs": [],
      "source": [
        "import tensorflow as tf\n",
        "from tensorflow import keras"
      ]
    },
    {
      "cell_type": "markdown",
      "metadata": {
        "id": "g83Lwsy-Aq2_"
      },
      "source": [
        "Instalar e importar Keras Tuner."
      ]
    },
    {
      "cell_type": "code",
      "execution_count": null,
      "metadata": {
        "id": "hpMLpbt9jcO6"
      },
      "outputs": [],
      "source": [
        "!pip install -q -U keras-tuner"
      ]
    },
    {
      "cell_type": "code",
      "execution_count": null,
      "metadata": {
        "id": "_leAIdFKAxAD"
      },
      "outputs": [],
      "source": [
        "import keras_tuner as kt"
      ]
    },
    {
      "cell_type": "markdown",
      "metadata": {
        "id": "ReV_UXOgCZvx"
      },
      "source": [
        "## Cómo descargar y preparar el conjunto de datos\n",
        "\n",
        "En este tutorial, usará Keras Tuner para encontrar los mejores hiperparámetros para un modelo de aprendizaje automático que clasifica imágenes de prendas de vestir del conjunto de datos [Fashion MNIST](https://github.com/zalandoresearch/fashion-mnist)."
      ]
    },
    {
      "cell_type": "markdown",
      "metadata": {
        "id": "HljH_ENLEdHa"
      },
      "source": [
        "Cargue los datos."
      ]
    },
    {
      "cell_type": "code",
      "execution_count": null,
      "metadata": {
        "id": "OHlHs9Wj_PUM"
      },
      "outputs": [],
      "source": [
        "(img_train, label_train), (img_test, label_test) = keras.datasets.fashion_mnist.load_data()"
      ]
    },
    {
      "cell_type": "code",
      "execution_count": null,
      "metadata": {
        "id": "bLVhXs3xrUD0"
      },
      "outputs": [],
      "source": [
        "# Normalize pixel values between 0 and 1\n",
        "img_train = img_train.astype('float32') / 255.0\n",
        "img_test = img_test.astype('float32') / 255.0"
      ]
    },
    {
      "cell_type": "markdown",
      "metadata": {
        "id": "K5YEL2H2Ax3e"
      },
      "source": [
        "## Definir el modelo\n",
        "\n",
        "Cuando se desarrolla un modelo de hiperajuste, además de la arquitectura del modelo, es necesario definir el espacio de búsqueda del hiperparámetro. El modelo que se configura para el hiperajuste se denomina *hipermodelo*.\n",
        "\n",
        "Hay dos formas de definir un hipermodelo:\n",
        "\n",
        "- Usando una función de generador de modelos\n",
        "- Subclasificando la clase `HyperModel` de la API de Keras Tuner\n",
        "\n",
        "También se pueden usar dos clases predefinidas de [HyperModel](https://keras.io/api/keras_tuner/hypermodels/); [HyperXception](https://keras.io/api/keras_tuner/hypermodels/hyper_xception/) y [HyperResNet](https://keras.io/api/keras_tuner/hypermodels/hyper_resnet/) para aplicaciones de visión artificial.\n",
        "\n",
        "En este tutorial, usaremos una función de generador de modelos para definir el modelo de clasificación de imágenes. La función de generador de modelos devuelve un modelo compilado y usa los hiperparámetros que usted define en línea para ejecutar el hiperajuste del modelo."
      ]
    },
    {
      "cell_type": "code",
      "execution_count": null,
      "metadata": {
        "id": "ZQKodC-jtsva"
      },
      "outputs": [],
      "source": [
        "def model_builder(hp):\n",
        "  model = keras.Sequential()\n",
        "  model.add(keras.layers.Flatten(input_shape=(28, 28)))\n",
        "\n",
        "  # Tune the number of units in the first Dense layer\n",
        "  # Choose an optimal value between 32-512\n",
        "  hp_units = hp.Int('units', min_value=32, max_value=512, step=32)\n",
        "  model.add(keras.layers.Dense(units=hp_units, activation='relu'))\n",
        "  model.add(keras.layers.Dense(10))\n",
        "\n",
        "  # Tune the learning rate for the optimizer\n",
        "  # Choose an optimal value from 0.01, 0.001, or 0.0001\n",
        "  hp_learning_rate = hp.Choice('learning_rate', values=[1e-2, 1e-3, 1e-4])\n",
        "\n",
        "  model.compile(optimizer=keras.optimizers.Adam(learning_rate=hp_learning_rate),\n",
        "                loss=keras.losses.SparseCategoricalCrossentropy(from_logits=True),\n",
        "                metrics=['accuracy'])\n",
        "\n",
        "  return model"
      ]
    },
    {
      "cell_type": "markdown",
      "metadata": {
        "id": "0J1VYw4q3x0b"
      },
      "source": [
        "## Crear una instancia del optimizador y ejecutar hiperajuste\n",
        "\n",
        "Cree una instancia del optimizador para ejecutar el hiperajuste. Keras Tuner tiene cuatro optimizadores disponibles: `RandomSearch`, `Hyperband`, `BayesianOptimization`, y `Sklearn`. En este tutorial, usaremos el optimizador [Hyperband](https://arxiv.org/pdf/1603.06560.pdf).\n",
        "\n",
        "Para crear la instancia del optimizador Hyperband, debe especificar el hipermodelo, el `objective` que desea <br>optimizar y la cantidad máxima de épocas que desea entrenar (`max_epochs`)."
      ]
    },
    {
      "cell_type": "code",
      "execution_count": null,
      "metadata": {
        "id": "oichQFly6Y46"
      },
      "outputs": [],
      "source": [
        "tuner = kt.Hyperband(model_builder,\n",
        "                     objective='val_accuracy',\n",
        "                     max_epochs=10,\n",
        "                     factor=3,\n",
        "                     directory='my_dir',\n",
        "                     project_name='intro_to_kt')"
      ]
    },
    {
      "cell_type": "markdown",
      "metadata": {
        "id": "VaIhhdKf9VtI"
      },
      "source": [
        "El algoritmo de ajuste Hyperband usa asignación adaptativa de recursos y detención temprana para converger rápidamente en un modelo de alto rendimiento. Esto se logra mediante la implementación de una llave del estilo de las competencias deportivas. El algoritmo entrena un gran número de modelos durante algunas épocas y solo avanza a la siguiente ronda con la mitad de los modelos que muestran un mejor rendimiento. Hyperband determina la cantidad de modelos que se entrenarán en una llave calculando 1 + log<sub><code>factor</code></sub>(`max_epochs`) y redondeándolo al entero más cercano."
      ]
    },
    {
      "cell_type": "markdown",
      "metadata": {
        "id": "cwhBdXx0Ekj8"
      },
      "source": [
        "Cree una retrollamada para detener el entrenamiento de forma temprana una vez que se haya alcanzado un valor específico en la pérdida de validación."
      ]
    },
    {
      "cell_type": "code",
      "execution_count": null,
      "metadata": {
        "id": "WT9IkS9NEjLc"
      },
      "outputs": [],
      "source": [
        "stop_early = tf.keras.callbacks.EarlyStopping(monitor='val_loss', patience=5)"
      ]
    },
    {
      "cell_type": "markdown",
      "metadata": {
        "id": "UKghEo15Tduy"
      },
      "source": [
        "Ejecute la búsqueda de hiperparámetros. Los argumentos del método de búsqueda son los mismos que se usan para `tf.keras.model.fit` además de la retrollamada mencionada anteriormente."
      ]
    },
    {
      "cell_type": "code",
      "execution_count": null,
      "metadata": {
        "id": "dSBQcTHF9cKt"
      },
      "outputs": [],
      "source": [
        "tuner.search(img_train, label_train, epochs=50, validation_split=0.2, callbacks=[stop_early])\n",
        "\n",
        "# Get the optimal hyperparameters\n",
        "best_hps=tuner.get_best_hyperparameters(num_trials=1)[0]\n",
        "\n",
        "print(f\"\"\"\n",
        "The hyperparameter search is complete. The optimal number of units in the first densely-connected\n",
        "layer is {best_hps.get('units')} and the optimal learning rate for the optimizer\n",
        "is {best_hps.get('learning_rate')}.\n",
        "\"\"\")"
      ]
    },
    {
      "cell_type": "markdown",
      "metadata": {
        "id": "Lak_ylf88xBv"
      },
      "source": [
        "## Entrenar el modelo\n",
        "\n",
        "Use los hiperparámetros obtenidos en la búsqueda para encontrar la cantidad óptima de épocas para entrenar el modelo."
      ]
    },
    {
      "cell_type": "code",
      "execution_count": null,
      "metadata": {
        "id": "McO82AXOuxXh"
      },
      "outputs": [],
      "source": [
        "# Build the model with the optimal hyperparameters and train it on the data for 50 epochs\n",
        "model = tuner.hypermodel.build(best_hps)\n",
        "history = model.fit(img_train, label_train, epochs=50, validation_split=0.2)\n",
        "\n",
        "val_acc_per_epoch = history.history['val_accuracy']\n",
        "best_epoch = val_acc_per_epoch.index(max(val_acc_per_epoch)) + 1\n",
        "print('Best epoch: %d' % (best_epoch,))"
      ]
    },
    {
      "cell_type": "markdown",
      "metadata": {
        "id": "uOTSirSTI3Gp"
      },
      "source": [
        "Vuelva a crear instancias del hipermodelo y entrénelo con la cantidad óptima de épocas obtenidas en el paso anterior."
      ]
    },
    {
      "cell_type": "code",
      "execution_count": null,
      "metadata": {
        "id": "NoiPUEHmMhCe"
      },
      "outputs": [],
      "source": [
        "hypermodel = tuner.hypermodel.build(best_hps)\n",
        "\n",
        "# Retrain the model\n",
        "hypermodel.fit(img_train, label_train, epochs=best_epoch, validation_split=0.2)"
      ]
    },
    {
      "cell_type": "markdown",
      "metadata": {
        "id": "MqU5ZVAaag2v"
      },
      "source": [
        "Para completar este tutorial, evalúe el hipermodelo en los datos de prueba."
      ]
    },
    {
      "cell_type": "code",
      "execution_count": null,
      "metadata": {
        "id": "9E0BTp9Ealjb"
      },
      "outputs": [],
      "source": [
        "eval_result = hypermodel.evaluate(img_test, label_test)\n",
        "print(\"[test loss, test accuracy]:\", eval_result)"
      ]
    },
    {
      "cell_type": "markdown",
      "metadata": {
        "id": "EQRpPHZsz-eC"
      },
      "source": [
        "El directorio `my_dir/intro_to_kt` contiene registros detallados y puntos de verificación para cada prueba (configuración de modelo) que se ejecuta durante la búsqueda de hiperparámetros. Si vuelve a ejecutar la búsqueda de hiperparámetros, Keras Tuner usa el estado existente de esos registros para reanudar la búsqueda. Para inhabilitar este comportamiento, debe ingresar un argumento `overwrite=True` adicional durante la creación de la instancia del optimizador."
      ]
    },
    {
      "cell_type": "markdown",
      "metadata": {
        "id": "sKwLOzKpFGAj"
      },
      "source": [
        "## Resumen\n",
        "\n",
        "En este tutorial, aprendimos cómo usar Keras Tuner para ajustar los hiperparámetros de un modelo. Para obtener más información sobre cómo usar Keras Tuner, consulte los siguientes recursos adicionales:\n",
        "\n",
        "- [Keras Tuner en el blog de TensorFlow](https://blog.tensorflow.org/2020/01/hyperparameter-tuning-with-keras-tuner.html)\n",
        "- [Sitio web de Keras Tuner](https://keras-team.github.io/keras-tuner/)\n",
        "\n",
        "También le recomendamos que consulte el [panel de control de HParams](https://www.tensorflow.org/tensorboard/hyperparameter_tuning_with_hparams) en TensorBoard para ajustar los hiperparámetros de su modelo de forma interactiva."
      ]
    }
  ],
  "metadata": {
    "accelerator": "GPU",
    "colab": {
      "collapsed_sections": [
        "Tce3stUlHN0L"
      ],
      "name": "keras_tuner.ipynb",
      "toc_visible": true
    },
    "kernelspec": {
      "display_name": "Python 3",
      "name": "python3"
    }
  },
  "nbformat": 4,
  "nbformat_minor": 0
}
