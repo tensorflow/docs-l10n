{
  "cells": [
    {
      "cell_type": "markdown",
      "metadata": {
        "id": "fTFj8ft5dlbS"
      },
      "source": [
        "##### Copyright 2018 The TensorFlow Authors."
      ]
    },
    {
      "cell_type": "code",
      "execution_count": null,
      "metadata": {
        "cellView": "form",
        "id": "lzyBOpYMdp3F"
      },
      "outputs": [],
      "source": [
        "#@title Licensed under the Apache License, Version 2.0 (the \"License\");\n",
        "# you may not use this file except in compliance with the License.\n",
        "# You may obtain a copy of the License at\n",
        "#\n",
        "# https://www.apache.org/licenses/LICENSE-2.0\n",
        "#\n",
        "# Unless required by applicable law or agreed to in writing, software\n",
        "# distributed under the License is distributed on an \"AS IS\" BASIS,\n",
        "# WITHOUT WARRANTIES OR CONDITIONS OF ANY KIND, either express or implied.\n",
        "# See the License for the specific language governing permissions and\n",
        "# limitations under the License."
      ]
    },
    {
      "cell_type": "code",
      "execution_count": null,
      "metadata": {
        "cellView": "form",
        "id": "m_x4KfSJ7Vt7"
      },
      "outputs": [],
      "source": [
        "#@title MIT License\n",
        "#\n",
        "# Copyright (c) 2017 François Chollet\n",
        "#\n",
        "# Permission is hereby granted, free of charge, to any person obtaining a\n",
        "# copy of this software and associated documentation files (the \"Software\"),\n",
        "# to deal in the Software without restriction, including without limitation\n",
        "# the rights to use, copy, modify, merge, publish, distribute, sublicense,\n",
        "# and/or sell copies of the Software, and to permit persons to whom the\n",
        "# Software is furnished to do so, subject to the following conditions:\n",
        "#\n",
        "# The above copyright notice and this permission notice shall be included in\n",
        "# all copies or substantial portions of the Software.\n",
        "#\n",
        "# THE SOFTWARE IS PROVIDED \"AS IS\", WITHOUT WARRANTY OF ANY KIND, EXPRESS OR\n",
        "# IMPLIED, INCLUDING BUT NOT LIMITED TO THE WARRANTIES OF MERCHANTABILITY,\n",
        "# FITNESS FOR A PARTICULAR PURPOSE AND NONINFRINGEMENT. IN NO EVENT SHALL\n",
        "# THE AUTHORS OR COPYRIGHT HOLDERS BE LIABLE FOR ANY CLAIM, DAMAGES OR OTHER\n",
        "# LIABILITY, WHETHER IN AN ACTION OF CONTRACT, TORT OR OTHERWISE, ARISING\n",
        "# FROM, OUT OF OR IN CONNECTION WITH THE SOFTWARE OR THE USE OR OTHER\n",
        "# DEALINGS IN THE SOFTWARE."
      ]
    },
    {
      "cell_type": "markdown",
      "metadata": {
        "id": "C9HmC2T4ld5B"
      },
      "source": [
        "# Sobreajuste y subajuste"
      ]
    },
    {
      "cell_type": "markdown",
      "metadata": {
        "id": "kRTxFhXAlnl1"
      },
      "source": [
        "<table class=\"tfo-notebook-buttons\" align=\"left\">\n",
        "  <td><a target=\"_blank\" href=\"https://www.tensorflow.org/tutorials/keras/overfit_and_underfit\"><img src=\"https://www.tensorflow.org/images/tf_logo_32px.png\">Ver en TensorFlow.org</a></td>\n",
        "  <td><a target=\"_blank\" href=\"https://colab.research.google.com/github/tensorflow/docs-l10n/blob/master/site/es-419/tutorials/keras/overfit_and_underfit.ipynb\"><img src=\"https://www.tensorflow.org/images/colab_logo_32px.png\">Ejecutar en Google Colab</a></td>\n",
        "  <td>     <a target=\"_blank\" href=\"https://github.com/tensorflow/docs-l10n/blob/master/site/es-419/tutorials/keras/overfit_and_underfit.ipynb\"><img src=\"https://www.tensorflow.org/images/GitHub-Mark-32px.png\">Ver fuente en GitHub</a> </td>\n",
        "  <td>     <a href=\"https://storage.googleapis.com/tensorflow_docs/docs-l10n/site/es-419/tutorials/keras/overfit_and_underfit.ipynb\"><img src=\"https://www.tensorflow.org/images/download_logo_32px.png\">Descargar notebook</a> </td>\n",
        "</table>"
      ]
    },
    {
      "cell_type": "markdown",
      "metadata": {
        "id": "19rPukKZsPG6"
      },
      "source": [
        "Como de costumbre, el código de este ejemplo usará la API `tf.keras`, de la que puede obtener más información en la [guía Keras](https://www.tensorflow.org/guide/keras) de TensorFlow.\n",
        "\n",
        "En ambos ejemplos anteriores, [clasificación de texto](text_classification_with_hub.ipynb) y [predicción de la eficiencia del combustible](regression.ipynb), la precisión de los modelos en los datos de validación alcanzaba su pico tras entrenar durante un determinado número de épocas y luego <br> se estancaba o comenzaba a disminuir.\n",
        "\n",
        "En otras palabras, el modelo tendía a *sobreajustarse* a los datos de entrenamiento. Es importante aprender a lidiar con el sobreajuste. Si bien a menudo es posible alcanzar altos niveles de precisión en el *conjunto de entrenamiento*, lo que realmente querrá es desarrollar modelos que generalicen bien en un *conjunto de prueba* (o datos que no hayan visto previamente).\n",
        "\n",
        "Lo contrario al sobreajuste es el *subajuste*. El subajuste se presenta cuando todavía se puede mejorar el rendimiento de los datos de entrenamiento. Son varios los motivos por los que puede suceder esto: si el modelo no es lo suficientemente potente, si está excesivamente regularizado o si sencillamente no se ha entrenado lo suficiente. Esto significa que la red no ha aprendido los patrones relevantes de los datos de entrenamiento.\n",
        "\n",
        "No obstante, si entrena durante demasiado tiempo, el modelo comenzará a sobreajustarse y aprenderá patrones de los datos de entrenamiento que no podrán generalizarse a los datos de prueba. Es necesario encontrar el equilibrio. Comprender cómo entrenar durante un número adecuado de épocas, como veremos a continuación, es una habilidad muy útil.\n",
        "\n",
        "Para evitar el sobreajuste, la mejor solución es usar datos de entrenamiento más completos. Los conjuntos de datos deberían abarcar el rango completo de entradas que se espera que maneje el modelo. Los datos adicionales solo serán útiles si cubren casos nuevos o interesantes.\n",
        "\n",
        "Un modelo entrenado con datos más completos naturalmente generalizará mejor. Cuando esto ya no sea posible, la siguiente mejor solución será utilizar técnicas como la regularización. Estas técnicas limitan la cantidad y el tipo de información que el modelo puede almacenar.  Si una red puede memorizar solo un pequeño número de patrones, el proceso de optimización la obligará a centrarse en los patrones más destacados, que tienen más posibilidades de generalizar bien.\n",
        "\n",
        "En este documento, exploraremos varias técnicas comunes de regularización y las utilizaremos para mejorar un modelo de clasificación."
      ]
    },
    {
      "cell_type": "markdown",
      "metadata": {
        "id": "WL8UoOTmGGsL"
      },
      "source": [
        "## Preparar"
      ]
    },
    {
      "cell_type": "markdown",
      "metadata": {
        "id": "9FklhSI0Gg9R"
      },
      "source": [
        "Antes de comenzar, importe los paquetes necesarios:"
      ]
    },
    {
      "cell_type": "code",
      "execution_count": null,
      "metadata": {
        "id": "5pZ8A2liqvgk"
      },
      "outputs": [],
      "source": [
        "import tensorflow as tf\n",
        "\n",
        "from tensorflow.keras import layers\n",
        "from tensorflow.keras import regularizers\n",
        "\n",
        "print(tf.__version__)"
      ]
    },
    {
      "cell_type": "code",
      "execution_count": null,
      "metadata": {
        "id": "QnAtAjqRYVXe"
      },
      "outputs": [],
      "source": [
        "!pip install git+https://github.com/tensorflow/docs\n",
        "\n",
        "import tensorflow_docs as tfdocs\n",
        "import tensorflow_docs.modeling\n",
        "import tensorflow_docs.plots"
      ]
    },
    {
      "cell_type": "code",
      "execution_count": null,
      "metadata": {
        "id": "-pnOU-ctX27Q"
      },
      "outputs": [],
      "source": [
        "from  IPython import display\n",
        "from matplotlib import pyplot as plt\n",
        "\n",
        "import numpy as np\n",
        "\n",
        "import pathlib\n",
        "import shutil\n",
        "import tempfile\n"
      ]
    },
    {
      "cell_type": "code",
      "execution_count": null,
      "metadata": {
        "id": "jj6I4dvTtbUe"
      },
      "outputs": [],
      "source": [
        "logdir = pathlib.Path(tempfile.mkdtemp())/\"tensorboard_logs\"\n",
        "shutil.rmtree(logdir, ignore_errors=True)"
      ]
    },
    {
      "cell_type": "markdown",
      "metadata": {
        "id": "1cweoTiruj8O"
      },
      "source": [
        "## El conjunto de datos Higgs\n",
        "\n",
        "El objetivo de este tutorial no es el de hacer física de partículas, así que no se detenga en los detalles del conjunto de datos. Contiene 11 000 000 ejemplos, cada uno con 28 características y una etiqueta de clase binaria."
      ]
    },
    {
      "cell_type": "code",
      "execution_count": null,
      "metadata": {
        "id": "YPjAvwb-6dFd"
      },
      "outputs": [],
      "source": [
        "gz = tf.keras.utils.get_file('HIGGS.csv.gz', 'http://mlphysics.ics.uci.edu/data/higgs/HIGGS.csv.gz')"
      ]
    },
    {
      "cell_type": "code",
      "execution_count": null,
      "metadata": {
        "id": "AkiyUdaWIrww"
      },
      "outputs": [],
      "source": [
        "FEATURES = 28"
      ]
    },
    {
      "cell_type": "markdown",
      "metadata": {
        "id": "SFggl9gYKKRJ"
      },
      "source": [
        "La clase `tf.data.experimental.CsvDataset` se puede usar para leer registros csv directamente desde un archivo gzip sin necesidad de implementar el paso intermedio de descompresión."
      ]
    },
    {
      "cell_type": "code",
      "execution_count": null,
      "metadata": {
        "id": "QHz4sLVQEVIU"
      },
      "outputs": [],
      "source": [
        "ds = tf.data.experimental.CsvDataset(gz,[float(),]*(FEATURES+1), compression_type=\"GZIP\")"
      ]
    },
    {
      "cell_type": "markdown",
      "metadata": {
        "id": "HzahEELTKlSV"
      },
      "source": [
        "Esa clase de lector de csv devuelve una lista de escalares para cada registro. La siguiente función vuelve a empaquetar esa lista de escalares en un par (feature_vector, label)."
      ]
    },
    {
      "cell_type": "code",
      "execution_count": null,
      "metadata": {
        "id": "zPD6ICDlF6Wf"
      },
      "outputs": [],
      "source": [
        "def pack_row(*row):\n",
        "  label = row[0]\n",
        "  features = tf.stack(row[1:],1)\n",
        "  return features, label"
      ]
    },
    {
      "cell_type": "markdown",
      "metadata": {
        "id": "4oa8tLuwLsbO"
      },
      "source": [
        "TensorFlow es más eficiente cuando opera con grandes lotes de datos.\n",
        "\n",
        "Entonces, en vez de volver a empaquetar individualmente cada fila, cree un nuevo `tf.data.Dataset` que tome lotes de 10 000 ejemplos, aplique la función `pack_row` a cada lote y luego divida la copia de seguridad de los lotes en registros individuales:"
      ]
    },
    {
      "cell_type": "code",
      "execution_count": null,
      "metadata": {
        "id": "-w-VHTwwGVoZ"
      },
      "outputs": [],
      "source": [
        "packed_ds = ds.batch(10000).map(pack_row).unbatch()"
      ]
    },
    {
      "cell_type": "markdown",
      "metadata": {
        "id": "lUbxc5bxNSXV"
      },
      "source": [
        "Inspeccione algunos de los archivos de este nuevo `packed_ds`.\n",
        "\n",
        "Las características no están perfectamente normalizadas, pero es suficiente para este tutorial."
      ]
    },
    {
      "cell_type": "code",
      "execution_count": null,
      "metadata": {
        "id": "TfcXuv33Fvka"
      },
      "outputs": [],
      "source": [
        "for features,label in packed_ds.batch(1000).take(1):\n",
        "  print(features[0])\n",
        "  plt.hist(features.numpy().flatten(), bins = 101)"
      ]
    },
    {
      "cell_type": "markdown",
      "metadata": {
        "id": "ICKZRY7gN-QM"
      },
      "source": [
        "Para que este tutorial sea relativamente breve, use solo las primeras 1000 muestras para validación y las siguientes 10 000 para entrenamiento:"
      ]
    },
    {
      "cell_type": "code",
      "execution_count": null,
      "metadata": {
        "id": "hmk49OqZIFZP"
      },
      "outputs": [],
      "source": [
        "N_VALIDATION = int(1e3)\n",
        "N_TRAIN = int(1e4)\n",
        "BUFFER_SIZE = int(1e4)\n",
        "BATCH_SIZE = 500\n",
        "STEPS_PER_EPOCH = N_TRAIN//BATCH_SIZE"
      ]
    },
    {
      "cell_type": "markdown",
      "metadata": {
        "id": "FP3M9DmvON32"
      },
      "source": [
        "Los métodos `Dataset.skip` y `Dataset.take` facilitan esta tarea.\n",
        "\n",
        "Al mismo tiempo, use el método `Dataset.cache` para asegurarse de que el cargador no necesite volver a leer los datos del archivo en cada época:"
      ]
    },
    {
      "cell_type": "code",
      "execution_count": null,
      "metadata": {
        "id": "H8H_ZzpBOOk-"
      },
      "outputs": [],
      "source": [
        "validate_ds = packed_ds.take(N_VALIDATION).cache()\n",
        "train_ds = packed_ds.skip(N_VALIDATION).take(N_TRAIN).cache()"
      ]
    },
    {
      "cell_type": "code",
      "execution_count": null,
      "metadata": {
        "id": "9zAOqk2_Px7K"
      },
      "outputs": [],
      "source": [
        "train_ds"
      ]
    },
    {
      "cell_type": "markdown",
      "metadata": {
        "id": "6PMliHoVO3OL"
      },
      "source": [
        "Estos conjuntos de datos devuelven ejemplos individuales. Use el método `Dataset.batch` para crear lotes del tamaño adecuado para entrenamiento. Antes de separar en lotes, recuerde también usar `Dataset.shuffle` y `Dataset.repeat` en el conjunto de entrenamiento."
      ]
    },
    {
      "cell_type": "code",
      "execution_count": null,
      "metadata": {
        "id": "Y7I4J355O223"
      },
      "outputs": [],
      "source": [
        "validate_ds = validate_ds.batch(BATCH_SIZE)\n",
        "train_ds = train_ds.shuffle(BUFFER_SIZE).repeat().batch(BATCH_SIZE)"
      ]
    },
    {
      "cell_type": "markdown",
      "metadata": {
        "id": "lglk41MwvU5o"
      },
      "source": [
        "## <a>Demostrar sobreajuste</a>\n",
        "\n",
        "La forma más sencilla de evitar el sobreajuste es comenzar con un modelo pequeño: un modelo con un pequeño número de parámetros que se pueden aprender (que está determinado por la cantidad de capas y la cantidad de unidades por capa). En el aprendizaje profundo, el número de parámetros que se pueden aprender en un modelo suele denominarse \"capacidad\" del modelo.\n",
        "\n",
        "Se puede deducir que un modelo con más parámetros tendrá más \"capacidad de memorización\" y, por lo tanto, será capaz de aprender fácilmente una asignación perfecta similar a un diccionario entre las muestras de entrenamiento y sus objetivos, una asignación sin ningún poder de generalización, pero esto sería inútil a la hora de hacer predicciones sobre datos que no se hayan visto previamente.\n",
        "\n",
        "No olvide esto: los modelos de aprendizaje profundo tienden a ajustarse bien a los datos de entrenamiento, pero el verdadero reto no consiste en realizar el ajuste, sino en lograr la generalización.\n",
        "\n",
        "Por otro lado, si la red tiene recursos de memorización limitados, no será capaz de aprender la asignación tan fácilmente. Para minimizar su pérdida, deberá aprender representaciones comprimidas que tengan mayor poder predictivo. Al mismo tiempo, si crea un modelo demasiado pequeño, tendrá dificultad para ajustarse a los datos de entrenamiento. Existe un equilibrio entre \"demasiada capacidad\" y \"sin suficiente capacidad\".\n",
        "\n",
        "Desafortunadamente, no existe una fórmula mágica para determinar el tamaño o la arquitectura adecuados para un modelo (en lo que respecta al número de capas o al tamaño adecuado de cada capa). Deberá experimentar con una serie de arquitecturas diferentes.\n",
        "\n",
        "Para encontrar un tamaño de modelo adecuado, lo mejor es empezar con una cantidad relativamente pequeña de capas y parámetros, y luego ir aumentando el tamaño de las capas o añadiendo nuevas capas hasta que vea que disminuye la pérdida de validación.\n",
        "\n",
        "Comience con un modelo simple que use solo capas densamente conectadas (`tf.keras.layers.Dense`) como línea de base, luego, cree modelos más grandes y compárelos."
      ]
    },
    {
      "cell_type": "markdown",
      "metadata": {
        "id": "_ReKHdC2EgVu"
      },
      "source": [
        "### Procedimiento de entrenamiento"
      ]
    },
    {
      "cell_type": "markdown",
      "metadata": {
        "id": "pNzkSkkXSP5l"
      },
      "source": [
        "Muchos modelos se entrenan mejor si reduce gradualmente la tasa de aprendizaje durante el entrenamiento. Use `tf.keras.optimizers.schedules` para reducir la tasa de aprendizaje a lo largo del tiempo:"
      ]
    },
    {
      "cell_type": "code",
      "execution_count": null,
      "metadata": {
        "id": "LwQp-ERhAD6F"
      },
      "outputs": [],
      "source": [
        "lr_schedule = tf.keras.optimizers.schedules.InverseTimeDecay(\n",
        "  0.001,\n",
        "  decay_steps=STEPS_PER_EPOCH*1000,\n",
        "  decay_rate=1,\n",
        "  staircase=False)\n",
        "\n",
        "def get_optimizer():\n",
        "  return tf.keras.optimizers.Adam(lr_schedule)"
      ]
    },
    {
      "cell_type": "markdown",
      "metadata": {
        "id": "kANLx6OYTQ8B"
      },
      "source": [
        "El código anterior configura `tf.keras.optimizers.schedules.InverseTimeDecay` para que disminuya hiperbólicamente la tasa de aprendizaje a la mitad de la tasa inicial en 1000 épocas, a 1/3 en 2000 épocas, y así sucesivamente."
      ]
    },
    {
      "cell_type": "code",
      "execution_count": null,
      "metadata": {
        "id": "HIo_yPjEAFgn"
      },
      "outputs": [],
      "source": [
        "step = np.linspace(0,100000)\n",
        "lr = lr_schedule(step)\n",
        "plt.figure(figsize = (8,6))\n",
        "plt.plot(step/STEPS_PER_EPOCH, lr)\n",
        "plt.ylim([0,max(plt.ylim())])\n",
        "plt.xlabel('Epoch')\n",
        "_ = plt.ylabel('Learning Rate')\n"
      ]
    },
    {
      "cell_type": "markdown",
      "metadata": {
        "id": "ya7x7gr9UjU0"
      },
      "source": [
        "Cada modelo de este tutorial usará la misma configuración de entrenamiento. Por lo que es recomendable que se configuren de forma reutilizable, empezando por la lista de retrollamadas.\n",
        "\n",
        "El entrenamiento para este tutorial se ejecuta durante varias épocas cortas. Para reducir el ruido de registro, use `tfdocs.EpochDots` que simplemente imprime un `.` para cada época, y un conjunto completo de métricas cada 100 épocas.\n",
        "\n",
        "Luego, incluya `tf.keras.callbacks.EarlyStopping` para evitar tiempos de entrenamiento largos e innecesarios. Tenga en cuenta que esta retrollamada se configura para monitorear `val_binary_crossentropy`, no `val_loss`. Esta diferencia resultará importante más adelante.\n",
        "\n",
        "Use `callbacks.TensorBoard` para generar registros de TensorBoard para el entrenamiento.\n"
      ]
    },
    {
      "cell_type": "code",
      "execution_count": null,
      "metadata": {
        "id": "vSv8rfw_T85n"
      },
      "outputs": [],
      "source": [
        "def get_callbacks(name):\n",
        "  return [\n",
        "    tfdocs.modeling.EpochDots(),\n",
        "    tf.keras.callbacks.EarlyStopping(monitor='val_binary_crossentropy', patience=200),\n",
        "    tf.keras.callbacks.TensorBoard(logdir/name),\n",
        "  ]"
      ]
    },
    {
      "cell_type": "markdown",
      "metadata": {
        "id": "VhctzKhBWVDD"
      },
      "source": [
        "De forma similar, cada modelo usará las mismas configuraciones `Model.compile` y `Model.fit`:"
      ]
    },
    {
      "cell_type": "code",
      "execution_count": null,
      "metadata": {
        "id": "xRCGwU3YH5sT"
      },
      "outputs": [],
      "source": [
        "def compile_and_fit(model, name, optimizer=None, max_epochs=10000):\n",
        "  if optimizer is None:\n",
        "    optimizer = get_optimizer()\n",
        "  model.compile(optimizer=optimizer,\n",
        "                loss=tf.keras.losses.BinaryCrossentropy(from_logits=True),\n",
        "                metrics=[\n",
        "                  tf.keras.metrics.BinaryCrossentropy(\n",
        "                      from_logits=True, name='binary_crossentropy'),\n",
        "                  'accuracy'])\n",
        "\n",
        "  model.summary()\n",
        "\n",
        "  history = model.fit(\n",
        "    train_ds,\n",
        "    steps_per_epoch = STEPS_PER_EPOCH,\n",
        "    epochs=max_epochs,\n",
        "    validation_data=validate_ds,\n",
        "    callbacks=get_callbacks(name),\n",
        "    verbose=0)\n",
        "  return history"
      ]
    },
    {
      "cell_type": "markdown",
      "metadata": {
        "id": "mxBeiLUiWHJV"
      },
      "source": [
        "### Modelo Tiny"
      ]
    },
    {
      "cell_type": "markdown",
      "metadata": {
        "id": "a6JDv12scLTI"
      },
      "source": [
        "Comience por entrenar un modelo:"
      ]
    },
    {
      "cell_type": "code",
      "execution_count": null,
      "metadata": {
        "id": "EZh-QFjKHb70"
      },
      "outputs": [],
      "source": [
        "tiny_model = tf.keras.Sequential([\n",
        "    layers.Dense(16, activation='elu', input_shape=(FEATURES,)),\n",
        "    layers.Dense(1)\n",
        "])"
      ]
    },
    {
      "cell_type": "code",
      "execution_count": null,
      "metadata": {
        "id": "X72IUdWYipIS"
      },
      "outputs": [],
      "source": [
        "size_histories = {}"
      ]
    },
    {
      "cell_type": "code",
      "execution_count": null,
      "metadata": {
        "id": "bdOcJtPGHhJ5"
      },
      "outputs": [],
      "source": [
        "size_histories['Tiny'] = compile_and_fit(tiny_model, 'sizes/Tiny')"
      ]
    },
    {
      "cell_type": "markdown",
      "metadata": {
        "id": "rS_QGT6icwdI"
      },
      "source": [
        "Ahora, compruebe el desempeño del modelo:"
      ]
    },
    {
      "cell_type": "code",
      "execution_count": null,
      "metadata": {
        "id": "dkEvb2x5XsjE"
      },
      "outputs": [],
      "source": [
        "plotter = tfdocs.plots.HistoryPlotter(metric = 'binary_crossentropy', smoothing_std=10)\n",
        "plotter.plot(size_histories)\n",
        "plt.ylim([0.5, 0.7])"
      ]
    },
    {
      "cell_type": "markdown",
      "metadata": {
        "id": "LGxGzh_FWOJ8"
      },
      "source": [
        "### Modelo Small"
      ]
    },
    {
      "cell_type": "markdown",
      "metadata": {
        "id": "YjMb6E72f2pN"
      },
      "source": [
        "Para comprobar si puede superar el rendimiento del modelo pequeño, entrene modelos más grandes de forma progresiva.\n",
        "\n",
        "Pruebe dos capas ocultas con 16 unidades cada una:"
      ]
    },
    {
      "cell_type": "code",
      "execution_count": null,
      "metadata": {
        "id": "QKgdXPx9usBa"
      },
      "outputs": [],
      "source": [
        "small_model = tf.keras.Sequential([\n",
        "    # `input_shape` is only required here so that `.summary` works.\n",
        "    layers.Dense(16, activation='elu', input_shape=(FEATURES,)),\n",
        "    layers.Dense(16, activation='elu'),\n",
        "    layers.Dense(1)\n",
        "])"
      ]
    },
    {
      "cell_type": "code",
      "execution_count": null,
      "metadata": {
        "id": "LqG3MXF5xSjR"
      },
      "outputs": [],
      "source": [
        "size_histories['Small'] = compile_and_fit(small_model, 'sizes/Small')"
      ]
    },
    {
      "cell_type": "markdown",
      "metadata": {
        "id": "L-DGRBbGxI6G"
      },
      "source": [
        "### Modelo Medium"
      ]
    },
    {
      "cell_type": "markdown",
      "metadata": {
        "id": "SrfoVQheYSO5"
      },
      "source": [
        "Ahora, pruebe tres capas ocultas con 64 unidades cada una:"
      ]
    },
    {
      "cell_type": "code",
      "execution_count": null,
      "metadata": {
        "id": "jksi-XtaxDAh"
      },
      "outputs": [],
      "source": [
        "medium_model = tf.keras.Sequential([\n",
        "    layers.Dense(64, activation='elu', input_shape=(FEATURES,)),\n",
        "    layers.Dense(64, activation='elu'),\n",
        "    layers.Dense(64, activation='elu'),\n",
        "    layers.Dense(1)\n",
        "])"
      ]
    },
    {
      "cell_type": "markdown",
      "metadata": {
        "id": "jbngCZliYdma"
      },
      "source": [
        "Y entrene el modelo con los mismos datos:"
      ]
    },
    {
      "cell_type": "code",
      "execution_count": null,
      "metadata": {
        "id": "Ofn1AwDhx-Fe"
      },
      "outputs": [],
      "source": [
        "size_histories['Medium']  = compile_and_fit(medium_model, \"sizes/Medium\")"
      ]
    },
    {
      "cell_type": "markdown",
      "metadata": {
        "id": "vIPuf23FFaVn"
      },
      "source": [
        "### Modelo Large\n",
        "\n",
        "A modo de ejercicio práctico, puede crear un modelo aún más grande y comprobar con qué rapidez empieza a sobreajustarse. A continuación, añada a este modelo de referencia una red que tenga mucha más capacidad, mucho más de la que el problema justificaría:"
      ]
    },
    {
      "cell_type": "code",
      "execution_count": null,
      "metadata": {
        "id": "ghQwwqwqvQM9"
      },
      "outputs": [],
      "source": [
        "large_model = tf.keras.Sequential([\n",
        "    layers.Dense(512, activation='elu', input_shape=(FEATURES,)),\n",
        "    layers.Dense(512, activation='elu'),\n",
        "    layers.Dense(512, activation='elu'),\n",
        "    layers.Dense(512, activation='elu'),\n",
        "    layers.Dense(1)\n",
        "])"
      ]
    },
    {
      "cell_type": "markdown",
      "metadata": {
        "id": "D-d-i5DaYmr7"
      },
      "source": [
        "Y, nuevamente, entrene el modelo con los mismos datos:"
      ]
    },
    {
      "cell_type": "code",
      "execution_count": null,
      "metadata": {
        "id": "U1A99dhqvepf"
      },
      "outputs": [],
      "source": [
        "size_histories['large'] = compile_and_fit(large_model, \"sizes/large\")"
      ]
    },
    {
      "cell_type": "markdown",
      "metadata": {
        "id": "Fy3CMUZpzH3d"
      },
      "source": [
        "### Trazar las pérdidas de entrenamiento y de validación"
      ]
    },
    {
      "cell_type": "markdown",
      "metadata": {
        "id": "HSlo1F4xHuuM"
      },
      "source": [
        "Las líneas continuas muestran la pérdida de entrenamiento y las líneas discontinuas muestran la pérdida de validación (recuerde que una pérdida de validación menor corresponde a un mejor modelo)."
      ]
    },
    {
      "cell_type": "markdown",
      "metadata": {
        "id": "OLhL1AszdLfM"
      },
      "source": [
        "Si bien generar un modelo más grande le da más potencia, si no se limita de algún modo esta potencia, puede sobreajustarse fácilmente al conjunto de entrenamiento.\n",
        "\n",
        "En este ejemplo, generalmente, solo el modelo `\"Tiny\"` logra evitar por completo el sobreajuste, y cada uno de los modelos más grandes se sobreajusta a los datos con mayor rapidez. Esto afecta tanto al modelo `\"large\"` que, para saber realmente qué está sucediendo, deberá cambiar el trazado a una escala logarítmica.\n",
        "\n",
        "Esto resulta evidente si traza y compara las métricas de validación con las métricas de entrenamiento.\n",
        "\n",
        "- Es normal que haya una pequeña diferencia.\n",
        "- Si ambas métricas se mueven en la misma dirección, todo está bien.\n",
        "- Si la métrica de validación comienza a estancarse mientras que la métrica de entrenamiento continúa mejorando, probablemente esté a punto de sobreajustarse.\n",
        "- Si la métrica de validación se mueve en la dirección equivocada, es claro que el modelo se está sobreajustando."
      ]
    },
    {
      "cell_type": "code",
      "execution_count": null,
      "metadata": {
        "id": "0XmKDtOWzOpk"
      },
      "outputs": [],
      "source": [
        "plotter.plot(size_histories)\n",
        "a = plt.xscale('log')\n",
        "plt.xlim([5, max(plt.xlim())])\n",
        "plt.ylim([0.5, 0.7])\n",
        "plt.xlabel(\"Epochs [Log Scale]\")"
      ]
    },
    {
      "cell_type": "markdown",
      "metadata": {
        "id": "UekcaQdmZxnW"
      },
      "source": [
        "Nota: En todas las ejecuciones de entrenamiento anteriores se usó `callbacks.EarlyStopping` para finalizar el entrenamiento una vez que sea claro que el modelo ya no está haciendo avances."
      ]
    },
    {
      "cell_type": "markdown",
      "metadata": {
        "id": "DEQNKadHA0M3"
      },
      "source": [
        "### Ver en TensorBoard\n",
        "\n",
        "Todos estos modelos escribieron registros de TensorBoard durante el entrenamiento.\n",
        "\n",
        "Abra un visor de TensorBoard incorporado dentro de un bloc de notas (Lo sentimos, esto no se puede ver en tensorflow.org):"
      ]
    },
    {
      "cell_type": "code",
      "execution_count": null,
      "metadata": {
        "id": "6oa1lkJddZ-m"
      },
      "outputs": [],
      "source": [
        "# Load the TensorBoard notebook extension\n",
        "%load_ext tensorboard\n",
        "\n",
        "# Open an embedded TensorBoard viewer\n",
        "%tensorboard --logdir {logdir}/sizes"
      ]
    },
    {
      "cell_type": "markdown",
      "metadata": {
        "id": "HkIIzE5rBBY_"
      },
      "source": [
        "Puede ver los [resultados de una ejecución previa](https://tensorboard.dev/experiment/vW7jmmF9TmKmy3rbheMQpw/#scalars&_smoothingWeight=0.97) de este bloc de notas en [TensorBoard.dev](https://tensorboard.dev/)."
      ]
    },
    {
      "cell_type": "markdown",
      "metadata": {
        "id": "ASdv7nsgEFhx"
      },
      "source": [
        "## Estrategias para evitar el sobreajuste"
      ]
    },
    {
      "cell_type": "markdown",
      "metadata": {
        "id": "YN512ksslaxJ"
      },
      "source": [
        "Antes de comenzar a ver el contenido de esta sección, copie los registros de entrenamiento del modelo `\"Tiny\"` que vimos más arriba para que los pueda usar como línea de base para una comparación."
      ]
    },
    {
      "cell_type": "code",
      "execution_count": null,
      "metadata": {
        "id": "40k1eBtnQzNo"
      },
      "outputs": [],
      "source": [
        "shutil.rmtree(logdir/'regularizers/Tiny', ignore_errors=True)\n",
        "shutil.copytree(logdir/'sizes/Tiny', logdir/'regularizers/Tiny')"
      ]
    },
    {
      "cell_type": "code",
      "execution_count": null,
      "metadata": {
        "id": "vFWMeFo7jLpN"
      },
      "outputs": [],
      "source": [
        "regularizer_histories = {}\n",
        "regularizer_histories['Tiny'] = size_histories['Tiny']"
      ]
    },
    {
      "cell_type": "markdown",
      "metadata": {
        "id": "4rHoVWcswFLa"
      },
      "source": [
        "### Añadir regularización de pesos\n"
      ]
    },
    {
      "cell_type": "markdown",
      "metadata": {
        "id": "kRxWepNawbBK"
      },
      "source": [
        "Probablemente conozca el principio de la navaja de Ockham: frente a dos explicaciones de algo, lo más probable es que la explicación correcta sea la \"más simple\", la que genera menor cantidad de hipótesis. Esto también se puede aplicar a los modelos que aprenden las redes neuronales: ante una serie de datos de entrenamiento y una arquitectura de red, existen múltiples conjuntos de valores de pesos (múltiples modelos) que podrían explicar los datos, y lo más probable es que los modelos más complejos tengan mayor tendencia a sobreajustarse que los modelos más simples.\n",
        "\n",
        "En este contexto, un \"modelo simple\" es un modelo donde la distribución de valores de parámetros tenga menor entropía (o un modelo con menor cantidad de parámetros en total, como se demostró anteriormente). Por lo tanto, una forma común de reducir el sobreajuste es establecer límites a la complejidad de una red al forzar sus pesos para que solo tengan en cuenta los valores más bajos, lo que a su vez hace que la distribución de los valores de pesos sea más \"regular\". A este proceso se lo denomina \"regularización de pesos\", y se lleva a cabo mediante la incorporación de un costo asociado con mayores pesos a la función de pérdida de la red. Existen dos tipos de costos:\n",
        "\n",
        "- [Regularización L1](https://developers.google.com/machine-learning/glossary/#L1_regularization), donde el costo añadido es proporcional al valor absoluto de los coeficientes de los pesos (es decir, lo que se conoce como \"Norma L1\" de los pesos).\n",
        "\n",
        "- [Regularización L2](https://developers.google.com/machine-learning/glossary/#L2_regularization), donde el costo añadido es proporcional al cuadrado del valor de los coeficientes de los pesos (es decir, lo que se conoce como la \"Norma L2\" al cuadrado de los pesos). La regularización L2 también se conoce como caída del peso en el contexto de las redes neuronales. No deje que los nombres lo confundan: en términos matemáticos, la caída del peso es exactamente lo mismo que la regularización L2.\n",
        "\n",
        "La regularización L1 lleva los pesos a exactamente cero, lo que fomenta un modelo disperso. La regularización L2 penalizará los parámetros de pesos sin volverlos dispersos, ya que la penalización va a cero para los pesos más bajos; este es uno de los motivos por los que L2 es más común.\n",
        "\n",
        "En `tf.keras`, la regularización de pesos se agrega pasando instancias regularizadoras de pesos en las capas a modo de argumentos de palabra clave. Agregue regularización de pesos L2:"
      ]
    },
    {
      "cell_type": "code",
      "execution_count": null,
      "metadata": {
        "id": "HFGmcwduwVyQ"
      },
      "outputs": [],
      "source": [
        "l2_model = tf.keras.Sequential([\n",
        "    layers.Dense(512, activation='elu',\n",
        "                 kernel_regularizer=regularizers.l2(0.001),\n",
        "                 input_shape=(FEATURES,)),\n",
        "    layers.Dense(512, activation='elu',\n",
        "                 kernel_regularizer=regularizers.l2(0.001)),\n",
        "    layers.Dense(512, activation='elu',\n",
        "                 kernel_regularizer=regularizers.l2(0.001)),\n",
        "    layers.Dense(512, activation='elu',\n",
        "                 kernel_regularizer=regularizers.l2(0.001)),\n",
        "    layers.Dense(1)\n",
        "])\n",
        "\n",
        "regularizer_histories['l2'] = compile_and_fit(l2_model, \"regularizers/l2\")"
      ]
    },
    {
      "cell_type": "markdown",
      "metadata": {
        "id": "bUUHoXb7w-_C"
      },
      "source": [
        "`l2(0.001)` significa que cada coeficiente de matriz de pesos de la capa agregará `0.001 * weight_coefficient_value**2` a la **pérdida**  total de la red.\n",
        "\n",
        "Es por eso que monitoreamos `binary_crossentropy` de forma directa. Porque no incluye ese componente de regularización.\n",
        "\n",
        "Entonces, ese mismo modelo `\"Large\"` con una penalización de regularización `L2` tiene un mejor rendimiento:\n"
      ]
    },
    {
      "cell_type": "code",
      "execution_count": null,
      "metadata": {
        "id": "7wkfLyxBZdh_"
      },
      "outputs": [],
      "source": [
        "plotter.plot(regularizer_histories)\n",
        "plt.ylim([0.5, 0.7])"
      ]
    },
    {
      "cell_type": "markdown",
      "metadata": {
        "id": "Kx1YHMsVxWjP"
      },
      "source": [
        "Como se demuestra en el diagrama de arriba, el modelo de regularización `\"L2\"` ahora es mucho más competitivo con el modelo `\"Tiny\"`. Este modelo `\"L2\"` también es mucho más resistente al sobreajuste que el modelo `\"Large\"` en el que se basó, a pesar de tener la misma cantidad de parámetros."
      ]
    },
    {
      "cell_type": "markdown",
      "metadata": {
        "id": "JheBk6f8jMQ7"
      },
      "source": [
        "#### Más información\n",
        "\n",
        "Hay dos cosas importantes que se deben tener en cuenta sobre este tipo de regularización:\n",
        "\n",
        "1. Si está escribiendo su propio bucle de entrenamiento, debe asegurarse de pedirle al modelo que indique sus pérdidas de regularización."
      ]
    },
    {
      "cell_type": "code",
      "execution_count": null,
      "metadata": {
        "id": "apDHQNybjaML"
      },
      "outputs": [],
      "source": [
        "result = l2_model(features)\n",
        "regularization_loss=tf.add_n(l2_model.losses)"
      ]
    },
    {
      "cell_type": "markdown",
      "metadata": {
        "id": "MLhG6fMSjE-J"
      },
      "source": [
        "1. Esta implementación funciona mediante la incorporación de penalizaciones de peso a la pérdida del modelo, para luego aplicar un procedimiento de optimización estándar.\n",
        "\n",
        "Hay un segundo enfoque que directamente ejecuta el optimizador sobre la perdida bruta y, luego, mientras aplica el paso calculado, el optimizador también aplica cierto grado de caída de pesos. Esta \"caída de pesos desacoplada\" se usa en optimizadores como `tf.keras.optimizers.Ftrl` y `tfa.optimizers.AdamW`."
      ]
    },
    {
      "cell_type": "markdown",
      "metadata": {
        "id": "HmnBNOOVxiG8"
      },
      "source": [
        "### Añadir abandono\n",
        "\n",
        "El abandono es una de las técnicas de regularización más efectivas y más comunes para las redes neuronales, desarrollada por Hinton y sus estudiantes en la Universidad de Toronto.\n",
        "\n",
        "La explicación intuitiva del abandono es que, dado que los nodos individuales en la red no pueden depender de los resultados de los demás, cada nodo debe producir características útiles por sí mismo.\n",
        "\n",
        "El abandono, aplicado a una capa, consiste en \"descartar\" aleatoriamente (es decir, establecer en cero) una cantidad determinada de características de la capa durante el entrenamiento. Por ejemplo, una capa dada normalmente tendría como resultado un vector `[0.2, 0.5, 1.3, 0.8, 1.1]` para una muestra de entrada dada durante el entrenamiento; luego de aplicar el abandono, este vector tendrá algunas entradas cero distribuidas aleatoriamente, por ejemplo, `[0, 0.5, 1.3, 0, 1.1]`.\n",
        "\n",
        "La \"tasa de abandono\" es la fracción de las características que se llevan a cero; generalmente se establece entre 0.2 y 0.5. Al momento de la prueba, no se descarta ninguna unidad, sino que los valores de salida de la capa se reducen por un factor equivalente a la tasa de abandono, para compensar el hecho de que durante el entrenamiento hay más unidades activas.\n",
        "\n",
        "En Keras, puede introducir abandono en una red a través de la capa `tf.keras.layers.Dropout`, que se aplica a la salida de la capa anterior.\n",
        "\n",
        "Agregue dos capas de abandono a su red para comprobar qué tan eficientes son a la hora de reducir el sobreajuste:"
      ]
    },
    {
      "cell_type": "code",
      "execution_count": null,
      "metadata": {
        "id": "OFEYvtrHxSWS"
      },
      "outputs": [],
      "source": [
        "dropout_model = tf.keras.Sequential([\n",
        "    layers.Dense(512, activation='elu', input_shape=(FEATURES,)),\n",
        "    layers.Dropout(0.5),\n",
        "    layers.Dense(512, activation='elu'),\n",
        "    layers.Dropout(0.5),\n",
        "    layers.Dense(512, activation='elu'),\n",
        "    layers.Dropout(0.5),\n",
        "    layers.Dense(512, activation='elu'),\n",
        "    layers.Dropout(0.5),\n",
        "    layers.Dense(1)\n",
        "])\n",
        "\n",
        "regularizer_histories['dropout'] = compile_and_fit(dropout_model, \"regularizers/dropout\")"
      ]
    },
    {
      "cell_type": "code",
      "execution_count": null,
      "metadata": {
        "id": "SPZqwVchx5xp"
      },
      "outputs": [],
      "source": [
        "plotter.plot(regularizer_histories)\n",
        "plt.ylim([0.5, 0.7])"
      ]
    },
    {
      "cell_type": "markdown",
      "metadata": {
        "id": "4zlHr4iaI1U6"
      },
      "source": [
        "En este trazado podemos ver que ambos enfoques de regularización mejoran el comportamiento del modelo `\"Large\"`. Pero, aun así, no supera la línea de base del modelo `\"Tiny\"`.\n",
        "\n",
        "A continuación, pruébelos juntos para ver si eso mejora los resultados."
      ]
    },
    {
      "cell_type": "markdown",
      "metadata": {
        "id": "u7qMg_7Nwy5t"
      },
      "source": [
        "### Combinación de L2 y abandono"
      ]
    },
    {
      "cell_type": "code",
      "execution_count": null,
      "metadata": {
        "id": "7zfs_qQIw1cz"
      },
      "outputs": [],
      "source": [
        "combined_model = tf.keras.Sequential([\n",
        "    layers.Dense(512, kernel_regularizer=regularizers.l2(0.0001),\n",
        "                 activation='elu', input_shape=(FEATURES,)),\n",
        "    layers.Dropout(0.5),\n",
        "    layers.Dense(512, kernel_regularizer=regularizers.l2(0.0001),\n",
        "                 activation='elu'),\n",
        "    layers.Dropout(0.5),\n",
        "    layers.Dense(512, kernel_regularizer=regularizers.l2(0.0001),\n",
        "                 activation='elu'),\n",
        "    layers.Dropout(0.5),\n",
        "    layers.Dense(512, kernel_regularizer=regularizers.l2(0.0001),\n",
        "                 activation='elu'),\n",
        "    layers.Dropout(0.5),\n",
        "    layers.Dense(1)\n",
        "])\n",
        "\n",
        "regularizer_histories['combined'] = compile_and_fit(combined_model, \"regularizers/combined\")"
      ]
    },
    {
      "cell_type": "code",
      "execution_count": null,
      "metadata": {
        "id": "qDqBBxfI0Yd8"
      },
      "outputs": [],
      "source": [
        "plotter.plot(regularizer_histories)\n",
        "plt.ylim([0.5, 0.7])"
      ]
    },
    {
      "cell_type": "markdown",
      "metadata": {
        "id": "tE0OoNCQNTJv"
      },
      "source": [
        "Resulta evidente que este modelo con regularización `\"Combined\"` es el mejor hasta el momento."
      ]
    },
    {
      "cell_type": "markdown",
      "metadata": {
        "id": "-dw23T03FEO1"
      },
      "source": [
        "### Ver en TensorBoard\n",
        "\n",
        "Estos modelos también se registran en registros de TensorBoard.\n",
        "\n",
        "Para abrir un visor incorporado, ejecute lo siguiente dentro de una celda de código (Lo sentimos, esto no se puede ver en tensorflow.org):"
      ]
    },
    {
      "cell_type": "code",
      "execution_count": null,
      "metadata": {
        "id": "Op4vLqVWBK_y"
      },
      "outputs": [],
      "source": [
        "%tensorboard --logdir {logdir}/regularizers"
      ]
    },
    {
      "cell_type": "markdown",
      "metadata": {
        "id": "_rx5b294BXBd"
      },
      "source": [
        "Puede ver los [resultados de una ejecución previa](https://tensorboard.dev/experiment/vW7jmmF9TmKmy3rbheMQpw/#scalars&_smoothingWeight=0.97) de este bloc de notas en [TensorBoard.dev](https://tensorboard.dev/)."
      ]
    },
    {
      "cell_type": "markdown",
      "metadata": {
        "id": "uXJxtwBWIhjG"
      },
      "source": [
        "## Conclusiones"
      ]
    },
    {
      "cell_type": "markdown",
      "metadata": {
        "id": "gjfnkEeQyAFG"
      },
      "source": [
        "En resumen, estas son las formas más comunes de evitar el sobreajuste en redes neuronales:\n",
        "\n",
        "- Conseguir más datos de entrenamiento\n",
        "- Reducir la capacidad de la red\n",
        "- Añadir regularización de pesos\n",
        "- Añadir abandono\n",
        "\n",
        "Hay dos enfoques importantes que no se incluyen en esta guía:\n",
        "\n",
        "- [Aumento de datos](../images/data_augmentation.ipynb)\n",
        "- Normalización de lotes (`tf.keras.layers.BatchNormalization`)\n",
        "\n",
        "Recuerde que cada método puede ser útil por sí solo, pero a menudo combinarlos resulta aún más eficaz."
      ]
    }
  ],
  "metadata": {
    "accelerator": "GPU",
    "colab": {
      "name": "overfit_and_underfit.ipynb",
      "toc_visible": true
    },
    "kernelspec": {
      "display_name": "Python 3",
      "name": "python3"
    }
  },
  "nbformat": 4,
  "nbformat_minor": 0
}
