{
  "cells": [
    {
      "cell_type": "markdown",
      "metadata": {
        "id": "Ic4_occAAiAT"
      },
      "source": [
        "##### Copyright 2019 The TensorFlow Authors."
      ]
    },
    {
      "cell_type": "code",
      "execution_count": null,
      "metadata": {
        "cellView": "form",
        "id": "ioaprt5q5US7"
      },
      "outputs": [],
      "source": [
        "#@title Licensed under the Apache License, Version 2.0 (the \"License\");\n",
        "# you may not use this file except in compliance with the License.\n",
        "# You may obtain a copy of the License at\n",
        "#\n",
        "# https://www.apache.org/licenses/LICENSE-2.0\n",
        "#\n",
        "# Unless required by applicable law or agreed to in writing, software\n",
        "# distributed under the License is distributed on an \"AS IS\" BASIS,\n",
        "# WITHOUT WARRANTIES OR CONDITIONS OF ANY KIND, either express or implied.\n",
        "# See the License for the specific language governing permissions and\n",
        "# limitations under the License."
      ]
    },
    {
      "cell_type": "code",
      "execution_count": null,
      "metadata": {
        "cellView": "form",
        "id": "yCl0eTNH5RS3"
      },
      "outputs": [],
      "source": [
        "#@title MIT License\n",
        "#\n",
        "# Copyright (c) 2017 François Chollet\n",
        "#\n",
        "# Permission is hereby granted, free of charge, to any person obtaining a\n",
        "# copy of this software and associated documentation files (the \"Software\"),\n",
        "# to deal in the Software without restriction, including without limitation\n",
        "# the rights to use, copy, modify, merge, publish, distribute, sublicense,\n",
        "# and/or sell copies of the Software, and to permit persons to whom the\n",
        "# Software is furnished to do so, subject to the following conditions:\n",
        "#\n",
        "# The above copyright notice and this permission notice shall be included in\n",
        "# all copies or substantial portions of the Software.\n",
        "#\n",
        "# THE SOFTWARE IS PROVIDED \"AS IS\", WITHOUT WARRANTY OF ANY KIND, EXPRESS OR\n",
        "# IMPLIED, INCLUDING BUT NOT LIMITED TO THE WARRANTIES OF MERCHANTABILITY,\n",
        "# FITNESS FOR A PARTICULAR PURPOSE AND NONINFRINGEMENT. IN NO EVENT SHALL\n",
        "# THE AUTHORS OR COPYRIGHT HOLDERS BE LIABLE FOR ANY CLAIM, DAMAGES OR OTHER\n",
        "# LIABILITY, WHETHER IN AN ACTION OF CONTRACT, TORT OR OTHERWISE, ARISING\n",
        "# FROM, OUT OF OR IN CONNECTION WITH THE SOFTWARE OR THE USE OR OTHER\n",
        "# DEALINGS IN THE SOFTWARE."
      ]
    },
    {
      "cell_type": "markdown",
      "metadata": {
        "id": "ItXfxkxvosLH"
      },
      "source": [
        "# Clasificación básica de textos"
      ]
    },
    {
      "cell_type": "markdown",
      "metadata": {
        "id": "hKY4XMc9o8iB"
      },
      "source": [
        "<table class=\"tfo-notebook-buttons\" align=\"left\">\n",
        "  <td><a target=\"_blank\" href=\"https://www.tensorflow.org/tutorials/keras/text_classification\"><img src=\"https://www.tensorflow.org/images/tf_logo_32px.png\">Ver en TensorFlow.org</a></td>\n",
        "  <td><a target=\"_blank\" href=\"https://colab.research.google.com/github/tensorflow/docs-l10n/blob/master/site/es-419/tutorials/keras/text_classification.ipynb\"><img src=\"https://www.tensorflow.org/images/colab_logo_32px.png\">Ejecutar en Google Colab</a></td>\n",
        "  <td>     <a target=\"_blank\" href=\"https://github.com/tensorflow/docs-l10n/blob/master/site/es-419/tutorials/keras/text_classification.ipynb\"><img src=\"https://www.tensorflow.org/images/GitHub-Mark-32px.png\">Ver fuente en GitHub</a> </td>\n",
        "  <td>     <a href=\"https://storage.googleapis.com/tensorflow_docs/docs-l10n/site/es-419/tutorials/keras/text_classification.ipynb\"><img src=\"https://www.tensorflow.org/images/download_logo_32px.png\">Descargar notebook</a> </td>\n",
        "</table>"
      ]
    },
    {
      "cell_type": "markdown",
      "metadata": {
        "id": "Eg62Pmz3o83v"
      },
      "source": [
        "En este tutorial se muestra la clasificación de textos a partir de archivos de texto plano almacenados en un disco. Entrenará un clasificador binario para que analice los sentimientos de un conjunto de datos de IMDB. Al final del bloc de notas, hay un ejercicio para que lo ponga a prueba, en el que entrenará un clasificador multiclase para predecir la etiqueta de una pregunta de programación de Stack Overflow.\n"
      ]
    },
    {
      "cell_type": "code",
      "execution_count": null,
      "metadata": {
        "id": "8RZOuS9LWQvv"
      },
      "outputs": [],
      "source": [
        "import matplotlib.pyplot as plt\n",
        "import os\n",
        "import re\n",
        "import shutil\n",
        "import string\n",
        "import tensorflow as tf\n",
        "\n",
        "from tensorflow.keras import layers\n",
        "from tensorflow.keras import losses\n"
      ]
    },
    {
      "cell_type": "code",
      "execution_count": null,
      "metadata": {
        "id": "6-tTFS04dChr"
      },
      "outputs": [],
      "source": [
        "print(tf.__version__)"
      ]
    },
    {
      "cell_type": "markdown",
      "metadata": {
        "id": "NBTI1bi8qdFV"
      },
      "source": [
        "## Análisis de sentimientos\n",
        "\n",
        "En este bloc de notas se entrena un modelo de análisis de sentimiento para clasificar reseñas de películas como *positivas* o *negativas* a partir del texto de la reseña. Este es un ejemplo de clasificación *binaria* (o de dos clases), un tipo de problema de aprendizaje automático importante y ampliamente aplicable.\n",
        "\n",
        "Usará los [enormes conjuntos de datos de reseñas de películas](https://ai.stanford.edu/~amaas/data/sentiment/) que contienen el texto de 50 000 reseñas de películas de [Internet Movie Database](https://www.imdb.com/). Se divide en 25 000 reseñas para entrenamiento y 25 000 reseñas para prueba. Los conjuntos de entrenamiento y prueba están *equilibrados*, lo que significa que contienen la misma cantidad de reseñas positivas y negativas.\n"
      ]
    },
    {
      "cell_type": "markdown",
      "metadata": {
        "id": "iAsKG535pHep"
      },
      "source": [
        "### Descargar y explorar el conjunto de datos de IMDB\n",
        "\n",
        "Descarguemos y extraigamos los conjuntos de datos, luego, exploremos la estructura del directorio."
      ]
    },
    {
      "cell_type": "code",
      "execution_count": null,
      "metadata": {
        "id": "k7ZYnuajVlFN"
      },
      "outputs": [],
      "source": [
        "url = \"https://ai.stanford.edu/~amaas/data/sentiment/aclImdb_v1.tar.gz\"\n",
        "\n",
        "dataset = tf.keras.utils.get_file(\"aclImdb_v1\", url,\n",
        "                                    untar=True, cache_dir='.',\n",
        "                                    cache_subdir='')\n",
        "\n",
        "dataset_dir = os.path.join(os.path.dirname(dataset), 'aclImdb')"
      ]
    },
    {
      "cell_type": "code",
      "execution_count": null,
      "metadata": {
        "id": "355CfOvsV1pl"
      },
      "outputs": [],
      "source": [
        "os.listdir(dataset_dir)"
      ]
    },
    {
      "cell_type": "code",
      "execution_count": null,
      "metadata": {
        "id": "7ASND15oXpF1"
      },
      "outputs": [],
      "source": [
        "train_dir = os.path.join(dataset_dir, 'train')\n",
        "os.listdir(train_dir)"
      ]
    },
    {
      "cell_type": "markdown",
      "metadata": {
        "id": "ysMNMI1CWDFD"
      },
      "source": [
        "Los directorios `aclImdb/train/pos` y `aclImdb/train/neg` contienen muchos archivos de texto, donde cada uno corresponde a una reseña de película. Echemos un vistazo a uno de ellos."
      ]
    },
    {
      "cell_type": "code",
      "execution_count": null,
      "metadata": {
        "id": "R7g8hFvzWLIZ"
      },
      "outputs": [],
      "source": [
        "sample_file = os.path.join(train_dir, 'pos/1181_9.txt')\n",
        "with open(sample_file) as f:\n",
        "  print(f.read())"
      ]
    },
    {
      "cell_type": "markdown",
      "metadata": {
        "id": "Mk20TEm6ZRFP"
      },
      "source": [
        "### Cargar el conjunto de datos\n",
        "\n",
        "A continuación, cargará los datos del disco y los preparará en un formato adecuado para el entrenamiento. Para esto, usará la práctica utilidad [text_dataset_from_directory](https://www.tensorflow.org/api_docs/python/tf/keras/preprocessing/text_dataset_from_directory), que espera una estructura de directorios como la que se muestra a continuación.\n",
        "\n",
        "```\n",
        "main_directory/\n",
        "...class_a/\n",
        "......a_text_1.txt\n",
        "......a_text_2.txt\n",
        "...class_b/\n",
        "......b_text_1.txt\n",
        "......b_text_2.txt\n",
        "```"
      ]
    },
    {
      "cell_type": "markdown",
      "metadata": {
        "id": "nQauv38Lnok3"
      },
      "source": [
        "Para preparar el conjunto de datos para clasificación binaria, necesita dos carpetas en el disco, que correspondan con `class_a` y `class_b`. Estas serán las reseñas positivas y negativas de las películas, que se pueden encontrar en `aclImdb/train/pos` y `aclImdb/train/neg`. Dado que el conjunto de datos de IMDB contiene carpetas adicionales, deberá eliminarlas antes de usar esta utilidad."
      ]
    },
    {
      "cell_type": "code",
      "execution_count": null,
      "metadata": {
        "id": "VhejsClzaWfl"
      },
      "outputs": [],
      "source": [
        "remove_dir = os.path.join(train_dir, 'unsup')\n",
        "shutil.rmtree(remove_dir)"
      ]
    },
    {
      "cell_type": "markdown",
      "metadata": {
        "id": "95kkUdRoaeMw"
      },
      "source": [
        "Luego, usará la utilidad `text_dataset_from_directory` para crear un `tf.data.Dataset` etiquetado. [tf.data](https://www.tensorflow.org/guide/data) es una potente colección de herramientas para trabajar con datos.\n",
        "\n",
        "A la hora de hacer un experimento de aprendizaje automático, lo mejor es dividir el conjunto de datos en tres partes: [entrenamiento](https://developers.google.com/machine-learning/glossary#training_set), [validación](https://developers.google.com/machine-learning/glossary#validation_set) y [prueba](https://developers.google.com/machine-learning/glossary#test-set).\n",
        "\n",
        "El conjunto de datos de IMDB ya está dividido en entrenamiento y prueba, pero no cuenta con un conjunto de validación. Creemos un conjunto de validación mediante una división 80:20 de los datos de entrenamiento con ayuda del argumento `validation_split` que se muestra a continuación."
      ]
    },
    {
      "cell_type": "code",
      "execution_count": null,
      "metadata": {
        "id": "nOrK-MTYaw3C"
      },
      "outputs": [],
      "source": [
        "batch_size = 32\n",
        "seed = 42\n",
        "\n",
        "raw_train_ds = tf.keras.utils.text_dataset_from_directory(\n",
        "    'aclImdb/train', \n",
        "    batch_size=batch_size, \n",
        "    validation_split=0.2, \n",
        "    subset='training', \n",
        "    seed=seed)"
      ]
    },
    {
      "cell_type": "markdown",
      "metadata": {
        "id": "5Y33oxOUpYkh"
      },
      "source": [
        "Como puede ver en el bloque de arriba, hay 25 000 ejemplos en la carpeta de entrenamiento, de lo que usará el 80 % (o 20 000) para entrenamiento. Como verá en un momento, puede entrenar un modelo pasando un conjunto de datos directamente a `model.fit`. Si es la primera vez que usa `tf.data`, también puede iterar el conjunto de datos e imprimir algunos ejemplos como se muestra a continuación."
      ]
    },
    {
      "cell_type": "code",
      "execution_count": null,
      "metadata": {
        "id": "51wNaPPApk1K"
      },
      "outputs": [],
      "source": [
        "for text_batch, label_batch in raw_train_ds.take(1):\n",
        "  for i in range(3):\n",
        "    print(\"Review\", text_batch.numpy()[i])\n",
        "    print(\"Label\", label_batch.numpy()[i])"
      ]
    },
    {
      "cell_type": "markdown",
      "metadata": {
        "id": "JWq1SUIrp1a-"
      },
      "source": [
        "Tenga en cuenta que las reseñas contienen texto bruto (con puntuación y algunas etiquetas HTML como `<br/>`). En la siguiente sección le mostraremos cómo debe manejar esto.\n",
        "\n",
        "Las etiquetas son 0 o 1. Para ver cuál corresponde a las reseñas positivas y negativas de las películas, puede consultar la propiedad `class_names` en el conjunto de datos.\n"
      ]
    },
    {
      "cell_type": "code",
      "execution_count": null,
      "metadata": {
        "id": "MlICTG8spyO2"
      },
      "outputs": [],
      "source": [
        "print(\"Label 0 corresponds to\", raw_train_ds.class_names[0])\n",
        "print(\"Label 1 corresponds to\", raw_train_ds.class_names[1])"
      ]
    },
    {
      "cell_type": "markdown",
      "metadata": {
        "id": "pbdO39vYqdJr"
      },
      "source": [
        "A continuación, creará un conjunto de datos de validación y prueba. Usará las 5000 reseñas restantes del conjunto de entrenamiento para ejecutar la validación."
      ]
    },
    {
      "cell_type": "markdown",
      "metadata": {
        "id": "SzxazN8Hq1pF"
      },
      "source": [
        "Nota: Cuando use los argumentos `validation_split` y `subset`, asegúrese de especificar una semilla o de pasar `shuffle=False`, para que las fracciones de validación y entrenamiento no se superpongan."
      ]
    },
    {
      "cell_type": "code",
      "execution_count": null,
      "metadata": {
        "id": "JsMwwhOoqjKF"
      },
      "outputs": [],
      "source": [
        "raw_val_ds = tf.keras.utils.text_dataset_from_directory(\n",
        "    'aclImdb/train', \n",
        "    batch_size=batch_size, \n",
        "    validation_split=0.2, \n",
        "    subset='validation', \n",
        "    seed=seed)"
      ]
    },
    {
      "cell_type": "code",
      "execution_count": null,
      "metadata": {
        "id": "rdSr0Nt3q_ns"
      },
      "outputs": [],
      "source": [
        "raw_test_ds = tf.keras.utils.text_dataset_from_directory(\n",
        "    'aclImdb/test', \n",
        "    batch_size=batch_size)"
      ]
    },
    {
      "cell_type": "markdown",
      "metadata": {
        "id": "qJmTiO0IYAjm"
      },
      "source": [
        "### Preparar el conjunto de datos para entrenamiento\n",
        "\n",
        "A continuación, usará la útil capa `tf.keras.layers.TextVectorization` para estndarizar, tokenizar y vectorizar los datos.\n",
        "\n",
        "El término estandarización se refiere al preprocesamiento del texto que generalmente se utiliza para eliminar la puntuación o los elementos de HTML con el objetivo de simplificar el conjunto de datos. Tokenizar en este contexto es dividir las cadenas en tokens (por ejemplo, separar una frase en palabras individuales, usando los espacios en blanco para separar). La vetorización se refiere al proceso mediante el cual los tokens se convierten en números que se pueden cargar a la red neuronal. Todas estas tareas se pueden completar con esta capa.\n",
        "\n",
        "Como pudo ver anteriormente, las reseñas contienen varias etiquetas HTML como `<br />`. El estandarizador predeterminado de la capa `TextVectorization` (que convierte texto a minúsculas y elimina la puntuación de forma predeterminada, pero no elimina los elementos de HTML) no eliminará estas etiquetas. Deberá escribir una función de estandarización personalizada para eliminar el HTML."
      ]
    },
    {
      "cell_type": "markdown",
      "metadata": {
        "id": "ZVcHl-SLrH-u"
      },
      "source": [
        "Nota: Para evitar el [sesgo entrenamiento-prueba](https://developers.google.com/machine-learning/guides/rules-of-ml#training-serving_skew) (también conocido como sesgo entrenamiento-servicio), es importante preprocesar los datos de forma idéntica tanto durante el entrenamiento como en la etapa de prueba. Para simplificar esto, la capa `TextVectorization` se puede incluir directamente dentro del modelo, como se muestra más adelante en este tutorial."
      ]
    },
    {
      "cell_type": "code",
      "execution_count": null,
      "metadata": {
        "id": "SDRI_s_tX1Hk"
      },
      "outputs": [],
      "source": [
        "def custom_standardization(input_data):\n",
        "  lowercase = tf.strings.lower(input_data)\n",
        "  stripped_html = tf.strings.regex_replace(lowercase, '<br />', ' ')\n",
        "  return tf.strings.regex_replace(stripped_html,\n",
        "                                  '[%s]' % re.escape(string.punctuation),\n",
        "                                  '')"
      ]
    },
    {
      "cell_type": "markdown",
      "metadata": {
        "id": "d2d3Aw8dsUux"
      },
      "source": [
        "Luego, creará una capa `TextVectorization`. Usará esta capa para estandarizar, tokenizar y vectorizar nuestros datos. Configurará `output_mode` en `int` para crear índices enteros únicos para cada token.\n",
        "\n",
        "Tenga en cuenta que está usando la función de separación predeterminada y la función de estandarización personalizada que definió anteriormente. También deberá definir algunas constantes para el modelo, como un valor máximo explícito de `sequence_length`, que hará que cada capa amortigüe o trunque las secuencias exactamente a los valores `sequence_length`."
      ]
    },
    {
      "cell_type": "code",
      "execution_count": null,
      "metadata": {
        "id": "-c76RvSzsMnX"
      },
      "outputs": [],
      "source": [
        "max_features = 10000\n",
        "sequence_length = 250\n",
        "\n",
        "vectorize_layer = layers.TextVectorization(\n",
        "    standardize=custom_standardization,\n",
        "    max_tokens=max_features,\n",
        "    output_mode='int',\n",
        "    output_sequence_length=sequence_length)"
      ]
    },
    {
      "cell_type": "markdown",
      "metadata": {
        "id": "vlFOpfF6scT6"
      },
      "source": [
        "A continuación, llamará `adapt` para que ajuste el estado de la capa de preprocesamiento al conjunto de datos. Esto hará que el modelo convierta un índice de cadenas a enteros."
      ]
    },
    {
      "cell_type": "markdown",
      "metadata": {
        "id": "lAhdjK7AtroA"
      },
      "source": [
        "Nota: Es importante que solo use sus datos de entrenamiento para al llamar adapt (si usa el conjunto de prueba, se podría filtrar información)."
      ]
    },
    {
      "cell_type": "code",
      "execution_count": null,
      "metadata": {
        "id": "GH4_2ZGJsa_X"
      },
      "outputs": [],
      "source": [
        "# Make a text-only dataset (without labels), then call adapt\n",
        "train_text = raw_train_ds.map(lambda x, y: x)\n",
        "vectorize_layer.adapt(train_text)"
      ]
    },
    {
      "cell_type": "markdown",
      "metadata": {
        "id": "SHQVEFzNt-K_"
      },
      "source": [
        "Creemos una función para ver los resultados del uso de esta capa para preprocesar algunos datos."
      ]
    },
    {
      "cell_type": "code",
      "execution_count": null,
      "metadata": {
        "id": "SCIg_T50wOCU"
      },
      "outputs": [],
      "source": [
        "def vectorize_text(text, label):\n",
        "  text = tf.expand_dims(text, -1)\n",
        "  return vectorize_layer(text), label"
      ]
    },
    {
      "cell_type": "code",
      "execution_count": null,
      "metadata": {
        "id": "XULcm6B3xQIO"
      },
      "outputs": [],
      "source": [
        "# retrieve a batch (of 32 reviews and labels) from the dataset\n",
        "text_batch, label_batch = next(iter(raw_train_ds))\n",
        "first_review, first_label = text_batch[0], label_batch[0]\n",
        "print(\"Review\", first_review)\n",
        "print(\"Label\", raw_train_ds.class_names[first_label])\n",
        "print(\"Vectorized review\", vectorize_text(first_review, first_label))"
      ]
    },
    {
      "cell_type": "markdown",
      "metadata": {
        "id": "6u5EX0hxyNZT"
      },
      "source": [
        "Como pudo ver anteriormente, cada token ha sido reemplazo por un entero. Puede buscar el token (cadena) al que corresponde cada entero llamando `.get_vocabulary()` en la capa."
      ]
    },
    {
      "cell_type": "code",
      "execution_count": null,
      "metadata": {
        "id": "kRq9hTQzhVhW"
      },
      "outputs": [],
      "source": [
        "print(\"1287 ---> \",vectorize_layer.get_vocabulary()[1287])\n",
        "print(\" 313 ---> \",vectorize_layer.get_vocabulary()[313])\n",
        "print('Vocabulary size: {}'.format(len(vectorize_layer.get_vocabulary())))"
      ]
    },
    {
      "cell_type": "markdown",
      "metadata": {
        "id": "XD2H6utRydGv"
      },
      "source": [
        "Ya está casi listo para entrenar su modelo. Como último paso de preprocesamiento, debe aplicar la capa TextVectorization que creó anteriormente a los conjuntos de datos de entrenamiento, validación y prueba."
      ]
    },
    {
      "cell_type": "code",
      "execution_count": null,
      "metadata": {
        "id": "2zhmpeViI1iG"
      },
      "outputs": [],
      "source": [
        "train_ds = raw_train_ds.map(vectorize_text)\n",
        "val_ds = raw_val_ds.map(vectorize_text)\n",
        "test_ds = raw_test_ds.map(vectorize_text)"
      ]
    },
    {
      "cell_type": "markdown",
      "metadata": {
        "id": "YsVQyPMizjuO"
      },
      "source": [
        "### Configurar el conjunto de datos para mejorar el rendimiento\n",
        "\n",
        "Hay dos métodos importantes que debería usar al cargar los datos para asegurarse de que la E/S no se bloquee.\n",
        "\n",
        "`.cache()` conserva los datos en la memoria después de que descarga del disco. Esto evitará que el conjunto de datos se transforme en un cuello de botella mientras entrena su modelo. Si su conjunto de datos es demasiado grande para caber en la memoria, también puede usar este método para crear un potente caché en disco, que se lee de forma más eficiente que muchos archivos pequeños.\n",
        "\n",
        "`.prefetch()` superpone el preprocesamiento de los datos y la ejecución del modelo durante el entrenamiento.\n",
        "\n",
        "Puede obtener más información sobre ambos métodos y sobre cómo almacenar datos en caché en disco en la [guía de rendimiento de datos](https://www.tensorflow.org/guide/data_performance)."
      ]
    },
    {
      "cell_type": "code",
      "execution_count": null,
      "metadata": {
        "id": "wMcs_H7izm5m"
      },
      "outputs": [],
      "source": [
        "AUTOTUNE = tf.data.AUTOTUNE\n",
        "\n",
        "train_ds = train_ds.cache().prefetch(buffer_size=AUTOTUNE)\n",
        "val_ds = val_ds.cache().prefetch(buffer_size=AUTOTUNE)\n",
        "test_ds = test_ds.cache().prefetch(buffer_size=AUTOTUNE)"
      ]
    },
    {
      "cell_type": "markdown",
      "metadata": {
        "id": "LLC02j2g-llC"
      },
      "source": [
        "### Crear el modelo\n",
        "\n",
        "Llegó la hora de que cree su red neuronal:"
      ]
    },
    {
      "cell_type": "code",
      "execution_count": null,
      "metadata": {
        "id": "dkQP6in8yUBR"
      },
      "outputs": [],
      "source": [
        "embedding_dim = 16"
      ]
    },
    {
      "cell_type": "code",
      "execution_count": null,
      "metadata": {
        "id": "xpKOoWgu-llD"
      },
      "outputs": [],
      "source": [
        "model = tf.keras.Sequential([\n",
        "  layers.Embedding(max_features + 1, embedding_dim),\n",
        "  layers.Dropout(0.2),\n",
        "  layers.GlobalAveragePooling1D(),\n",
        "  layers.Dropout(0.2),\n",
        "  layers.Dense(1)])\n",
        "\n",
        "model.summary()"
      ]
    },
    {
      "cell_type": "markdown",
      "metadata": {
        "id": "6PbKQ6mucuKL"
      },
      "source": [
        "Las capas se apilan secuencialmente para generar el clasificador:\n",
        "\n",
        "1. La primera capa es una capa `Embedding`. Esta capa toma las reseñas cifradas con números enteros y busca un vector de incorporación para cada índice de palabra. Estos vectores se aprenden a medida que se entrena el modelo. Los vectores agregan una dimensión al arreglo de salida. Las dimensiones resultantes son las siguientes: `(batch, sequence, embedding)`. Para obtener más información sobre las incorporaciones, consulte el tutorial [Incorporaciones de palabras](https://www.tensorflow.org/text/guide/word_embeddings).\n",
        "2. A continuación, una capa `GlobalAveragePooling1D` devuelve un vector de salida de longitud fija para cada ejemplo calculando el promedio sobre la dimensión de la secuencia. Esto le permite a modelo manejar entradas de longitud variable, de la forma más sencilla posible.\n",
        "3. La última capa está densamente conectada con un único nodo de salida."
      ]
    },
    {
      "cell_type": "markdown",
      "metadata": {
        "id": "L4EqVWg4-llM"
      },
      "source": [
        "### Función de pérdida y optimizador\n",
        "\n",
        "Un modelo necesita una función de pérdida y un optimizador para el entrenamiento. Dado que este es un problema de clasificación binaria y el modelo genera una probabilidad (una capa de una sola unidad con una activación sigmoide), usaremos la función de pérdida `losses.BinaryCrossentropy`.\n",
        "\n",
        "Ahora, configure el modelo para usar un optimizador y una función de pérdida:"
      ]
    },
    {
      "cell_type": "code",
      "execution_count": null,
      "metadata": {
        "id": "Mr0GP-cQ-llN"
      },
      "outputs": [],
      "source": [
        "model.compile(loss=losses.BinaryCrossentropy(from_logits=True),\n",
        "              optimizer='adam',\n",
        "              metrics=tf.metrics.BinaryAccuracy(threshold=0.0))"
      ]
    },
    {
      "cell_type": "markdown",
      "metadata": {
        "id": "35jv_fzP-llU"
      },
      "source": [
        "### Entrenar el modelo\n",
        "\n",
        "Entrenará el modelo pasando el objeto `dataset` al método fit."
      ]
    },
    {
      "cell_type": "code",
      "execution_count": null,
      "metadata": {
        "id": "tXSGrjWZ-llW"
      },
      "outputs": [],
      "source": [
        "epochs = 10\n",
        "history = model.fit(\n",
        "    train_ds,\n",
        "    validation_data=val_ds,\n",
        "    epochs=epochs)"
      ]
    },
    {
      "cell_type": "markdown",
      "metadata": {
        "id": "9EEGuDVuzb5r"
      },
      "source": [
        "### Evaluar el modelo\n",
        "\n",
        "Veamos el rendimiento del modelo. Nos devolverá dos valores; la pérdida (un número que representa nuestro error, los valores bajos son mejores) y la precisión."
      ]
    },
    {
      "cell_type": "code",
      "execution_count": null,
      "metadata": {
        "id": "zOMKywn4zReN"
      },
      "outputs": [],
      "source": [
        "loss, accuracy = model.evaluate(test_ds)\n",
        "\n",
        "print(\"Loss: \", loss)\n",
        "print(\"Accuracy: \", accuracy)"
      ]
    },
    {
      "cell_type": "markdown",
      "metadata": {
        "id": "z1iEXVTR0Z2t"
      },
      "source": [
        "Este enfoque bastante sencillo alcanza una precisión del 86 %."
      ]
    },
    {
      "cell_type": "markdown",
      "metadata": {
        "id": "ldbQqCw2Xc1W"
      },
      "source": [
        "### Cree un gráfico de precisión y pérdida a lo largo del tiempo\n",
        "\n",
        "`model.fit()` devuelve un objeto `History` que contiene un diccionario con todo lo que pasó durante el entrenamiento:"
      ]
    },
    {
      "cell_type": "code",
      "execution_count": null,
      "metadata": {
        "id": "-YcvZsdvWfDf"
      },
      "outputs": [],
      "source": [
        "history_dict = history.history\n",
        "history_dict.keys()"
      ]
    },
    {
      "cell_type": "markdown",
      "metadata": {
        "id": "1_CH32qJXruI"
      },
      "source": [
        "Hay cuatro entradas: una por cada métrica que se monitoreó durante el entrenamiento y la validación. Puede usarlas para trazar la pérdida de entrenamiento y validación para compararlas, puede hacer lo mismo con la precisión:"
      ]
    },
    {
      "cell_type": "code",
      "execution_count": null,
      "metadata": {
        "id": "2SEMeQ5YXs8z"
      },
      "outputs": [],
      "source": [
        "acc = history_dict['binary_accuracy']\n",
        "val_acc = history_dict['val_binary_accuracy']\n",
        "loss = history_dict['loss']\n",
        "val_loss = history_dict['val_loss']\n",
        "\n",
        "epochs = range(1, len(acc) + 1)\n",
        "\n",
        "# \"bo\" is for \"blue dot\"\n",
        "plt.plot(epochs, loss, 'bo', label='Training loss')\n",
        "# b is for \"solid blue line\"\n",
        "plt.plot(epochs, val_loss, 'b', label='Validation loss')\n",
        "plt.title('Training and validation loss')\n",
        "plt.xlabel('Epochs')\n",
        "plt.ylabel('Loss')\n",
        "plt.legend()\n",
        "\n",
        "plt.show()"
      ]
    },
    {
      "cell_type": "code",
      "execution_count": null,
      "metadata": {
        "id": "Z3PJemLPXwz_"
      },
      "outputs": [],
      "source": [
        "plt.plot(epochs, acc, 'bo', label='Training acc')\n",
        "plt.plot(epochs, val_acc, 'b', label='Validation acc')\n",
        "plt.title('Training and validation accuracy')\n",
        "plt.xlabel('Epochs')\n",
        "plt.ylabel('Accuracy')\n",
        "plt.legend(loc='lower right')\n",
        "\n",
        "plt.show()"
      ]
    },
    {
      "cell_type": "markdown",
      "metadata": {
        "id": "hFFyCuJoXy7r"
      },
      "source": [
        "En este gráfico, los puntos representan la pérdida y la precisión del entrenamiento y las líneas continuas reflejan la pérdida y la precisión de la validación.\n",
        "\n",
        "Como puede ver, la pérdida del entrenamiento *se reduce* época tras época y la precisión del entrenamiento *aumenta* a medida que pasan las épocas. Esto es lo que suele pasar cuando se usa una optimización con descenso de gradiente, debe reducir al mínimo la cantidad deseada en cada iteración.\n",
        "\n",
        "Esto no es lo que sucede en el caso de la pérdida y la precisión de la validación, al parecer llegan a su punto máximo antes que la precisión del entrenamiento. Este es un ejemplo de sobreajuste: el modelo funciona mejor con los datos de entrenamiento que con los datos que no ha visto anteriormente. Pasado este punto, el modelo se sobreoptimiza y aprende representaciones *específicas* de los datos de entrenamiento que no se *generalizan* a los datos de prueba.\n",
        "\n",
        "En este caso particular, podría evitar el sobreajuste con tan solo detener el entrenamiento cuando la precisión de validación deje de aumentar. Una forma de hacerlo es con la retrollamada `tf.keras.callbacks.EarlyStopping`."
      ]
    },
    {
      "cell_type": "markdown",
      "metadata": {
        "id": "-to23J3Vy5d3"
      },
      "source": [
        "## Exportar el modelo\n",
        "\n",
        "En el código que vimos arriba, se aplicó la capa `TextVectorization` al conjunto de datos antes de cargar texto al modelo. Si desea que su modelo sea capaz de procesar cadenas sin procesar (por ejemplo, para simplificar la implementación), puede incluir la capa `TextVectorization` en su modelo. Para ello, puede crear un nuevo modelo a partir de los pesos que acaba de entrenar."
      ]
    },
    {
      "cell_type": "code",
      "execution_count": null,
      "metadata": {
        "id": "FWXsMvryuZuq"
      },
      "outputs": [],
      "source": [
        "export_model = tf.keras.Sequential([\n",
        "  vectorize_layer,\n",
        "  model,\n",
        "  layers.Activation('sigmoid')\n",
        "])\n",
        "\n",
        "export_model.compile(\n",
        "    loss=losses.BinaryCrossentropy(from_logits=False), optimizer=\"adam\", metrics=['accuracy']\n",
        ")\n",
        "\n",
        "# Test it with `raw_test_ds`, which yields raw strings\n",
        "loss, accuracy = export_model.evaluate(raw_test_ds)\n",
        "print(accuracy)"
      ]
    },
    {
      "cell_type": "markdown",
      "metadata": {
        "id": "TwQgoN88LoEF"
      },
      "source": [
        "### Inferencia en los nuevos datos\n",
        "\n",
        "Para obtener predicciones para ejemplos nuevos, puede sencillamente llamar `model.predict()`."
      ]
    },
    {
      "cell_type": "code",
      "execution_count": null,
      "metadata": {
        "id": "QW355HH5L49K"
      },
      "outputs": [],
      "source": [
        "examples = [\n",
        "  \"The movie was great!\",\n",
        "  \"The movie was okay.\",\n",
        "  \"The movie was terrible...\"\n",
        "]\n",
        "\n",
        "export_model.predict(examples)"
      ]
    },
    {
      "cell_type": "markdown",
      "metadata": {
        "id": "MaxlpFWpzR6c"
      },
      "source": [
        "Incluir la lógica de preprocesamiento de textos en su modelo le permitirá exportar un modelo para producción que simplifique la implementación y reduzca la probabilidad de que se produzca un [sesgo entre entrenamiento y prueba](https://developers.google.com/machine-learning/guides/rules-of-ml#training-serving_skew).\n",
        "\n",
        "Hay una diferencia de rendimiento que tenemos que tener en cuenta a la hora de elegir dónde aplicar la capa TextVectorization. Usarla fuera de su modelo le permite hacer un procesamiento asíncrono en CPU y almacenar en búfer los datos cuando se entrena en GPU. Por lo tanto, si está entrenando su modelo en GPU, probablemente debería elegir esta opción para obtener el mejor rendimiento mientras desarrolla su modelo, y luego cambiar para incluir la capa TextVectorization dentro de su modelo cuando esté listo para prepararse para la implementación.\n",
        "\n",
        "Visite este [tutorial](https://www.tensorflow.org/tutorials/keras/save_and_load) para obtener más información sobre cómo guardar modelos."
      ]
    },
    {
      "cell_type": "markdown",
      "metadata": {
        "id": "eSSuci_6nCEG"
      },
      "source": [
        "## Ejercicio: clasificación multiclase en preguntas de Stack Overflow\n",
        "\n",
        "En este tutorial, le mostramos cómo entrenar un clasificador binario desde cero con los conjuntos de datos de IMDB. A modo de ejercicio práctico, puede modificar este bloc de notas para entrenar un clasificador multiclase para predecir la etiqueta de una pregunta de programación en [Stack Overflow](http://stackoverflow.com/).\n",
        "\n",
        "Le preparamos un [conjunto de datos](https://storage.googleapis.com/download.tensorflow.org/data/stack_overflow_16k.tar.gz) que contiene el cuerpo de varios miles de preguntas de programación, (por ejemplo, \"¿Como puedo ordenar un diccionario por valor en Python?\") que se publicaron en Stack Overflow. Cada una de ellas se etiquetó con una sola etiqueta (que puede ser Python, CSharp, JavaScript o Java). Su tarea consiste en tomar una pregunta como entrada y predecir la etiqueta correspondiente, en este caso, Python.\n",
        "\n",
        "El conjunto de datos con el que trabajará contiene miles de preguntas que fueron extraídas del conjunto de datos público de Stack Overflow en [BigQuery](https://console.cloud.google.com/marketplace/details/stack-exchange/stack-overflow), que es mucho más grande y contiene más de 17 millones de publicaciones.\n",
        "\n",
        "Tras descargar el conjunto de datos, verá que tiene una estructura de directorio similar al conjunto de datos de IMDB con el que trabajó anteriormente:\n",
        "\n",
        "```\n",
        "train/\n",
        "...python/\n",
        "......0.txt\n",
        "......1.txt\n",
        "...javascript/\n",
        "......0.txt\n",
        "......1.txt\n",
        "...csharp/\n",
        "......0.txt\n",
        "......1.txt\n",
        "...java/\n",
        "......0.txt\n",
        "......1.txt\n",
        "```\n",
        "\n",
        "Nota: Para elevar el nivel de dificultad del problema de clasificación, las apariciones de las palabras Python, CSharp, JavaScript o Java en las preguntas de programación han sido reemplazadas por las palabras *en blanco* (ya que muchas preguntas mencionan el lenguaje al que se refieren).\n",
        "\n",
        "Para completar este ejercicio, debería modificar este bloc de notas para trabajar con el conjunto de datos de Stack Overflow aplicando los siguientes cambios:\n",
        "\n",
        "1. En la parte superior del bloc de notas, actualice el código que descarga el conjunto de datos de IMDB con el código para descargar el [conjunto de datos de Stack Overflow](https://storage.googleapis.com/download.tensorflow.org/data/stack_overflow_16k.tar.gz) que ya ha sido preparado. Como el conjunto de datos de Stack Overflow tiene una estructura de directorio similar, no será necesario que realice muchas modificaciones.\n",
        "\n",
        "2. Modifique la última capa de su modelo para que sea `Dense(4)`, ya que ahora son cuatro las clases de salida.\n",
        "\n",
        "3. Cuando compile el modelo, cambie la pérdida a `tf.keras.losses.SparseCategoricalCrossentropy(from_logits=True)`. Esta es la función de pérdida adecuada para usar con un problema de clasificación multiclase, cuando las etiquetas de cada clase son números enteros (en este caso, pueden ser 0, *1*, *2* o *3*). Además, cambie las métricas a `metrics=['accuracy']`, ya que este es un problema de clasificación multiclase (`tf.metrics.BinaryAccuracy` se usa solamente para clasificadores binarios).\n",
        "\n",
        "4. A la hora de trazar la precisión a lo largo del tiempo, cambie `binary_accuracy` y `val_binary_accuracy` por `accuracy` y `val_accuracy`, respectivamente.\n",
        "\n",
        "5. Una vez que haya hecho todos estos cambios, estará listo para entrenar un clasificador multiclase. "
      ]
    },
    {
      "cell_type": "markdown",
      "metadata": {
        "id": "F0T5SIwSm7uc"
      },
      "source": [
        "## Más información\n",
        "\n",
        "En este tutorial, le presentamos la clasificación de textos desde cero. Para obtener más información sobre el flujo de trabajo de la clasificación de textos en términos generales, consulte la [guía Clasificación de textos](https://developers.google.com/machine-learning/guides/text-classification/) de Google Developers.\n"
      ]
    }
  ],
  "metadata": {
    "accelerator": "GPU",
    "colab": {
      "collapsed_sections": [],
      "name": "text_classification.ipynb",
      "toc_visible": true
    },
    "kernelspec": {
      "display_name": "Python 3",
      "name": "python3"
    }
  },
  "nbformat": 4,
  "nbformat_minor": 0
}
