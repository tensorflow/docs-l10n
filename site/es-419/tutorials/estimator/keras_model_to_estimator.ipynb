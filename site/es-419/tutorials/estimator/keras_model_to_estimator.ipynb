{
  "cells": [
    {
      "cell_type": "markdown",
      "metadata": {
        "id": "d6p8EySq1zXZ"
      },
      "source": [
        "##### Copyright 2019 The TensorFlow Authors."
      ]
    },
    {
      "cell_type": "code",
      "execution_count": null,
      "metadata": {
        "cellView": "form",
        "id": "KsOkK8O69PyT"
      },
      "outputs": [],
      "source": [
        "#@title Licensed under the Apache License, Version 2.0 (the \"License\");\n",
        "# you may not use this file except in compliance with the License.\n",
        "# You may obtain a copy of the License at\n",
        "#\n",
        "# https://www.apache.org/licenses/LICENSE-2.0\n",
        "#\n",
        "# Unless required by applicable law or agreed to in writing, software\n",
        "# distributed under the License is distributed on an \"AS IS\" BASIS,\n",
        "# WITHOUT WARRANTIES OR CONDITIONS OF ANY KIND, either express or implied.\n",
        "# See the License for the specific language governing permissions and\n",
        "# limitations under the License."
      ]
    },
    {
      "cell_type": "markdown",
      "metadata": {
        "id": "F1xIRPtY0E1w"
      },
      "source": [
        "# Creación de un estimador a partir de un modelo Keras"
      ]
    },
    {
      "cell_type": "markdown",
      "metadata": {
        "id": "r61fkA2i9Y3_"
      },
      "source": [
        "<table class=\"tfo-notebook-buttons\" align=\"left\">\n",
        "  <td>     <a target=\"_blank\" href=\"https://www.tensorflow.org/tutorials/estimator/keras_model_to_estimator\"><img src=\"https://www.tensorflow.org/images/tf_logo_32px.png\">Ver en TensorFlow.org</a> </td>\n",
        "  <td>     <a target=\"_blank\" href=\"https://colab.research.google.com/github/tensorflow/docs-l10n/blob/master/site/es-419/tutorials/estimator/keras_model_to_estimator.ipynb\"><img src=\"https://www.tensorflow.org/images/colab_logo_32px.png\">Ejecutar en Google Colab</a> </td>\n",
        "  <td>     <a target=\"_blank\" href=\"https://github.com/tensorflow/docs-l10n/blob/master/site/es-419/tutorials/estimator/keras_model_to_estimator.ipynb\"><img src=\"https://www.tensorflow.org/images/GitHub-Mark-32px.png\">Ver fuente en GitHub</a> </td>\n",
        "  <td>     <a href=\"https://storage.googleapis.com/tensorflow_docs/docs-l10n/site/es-419/tutorials/estimator/keras_model_to_estimator.ipynb\"><img src=\"https://www.tensorflow.org/images/download_logo_32px.png\">Descargar notebook</a> </td>\n",
        "</table>"
      ]
    },
    {
      "cell_type": "markdown",
      "metadata": {
        "id": "Dhcq8Ds4mCtm"
      },
      "source": [
        "> Advertencia: Los estimadores no se recomiendan para código nuevo. Los estimadores ejecutan el código de estilo `v1.Session` que es más difícil de escribir correctamente y que puede tener un comportamiento inesperado; particularmente, cuando se combina con código TF 2. Los estimadores están incluidos dentro de nuestras [garantías de compatibilidad](https://tensorflow.org/guide/versions), pero no se les harán correcciones a menos que se trate de vulneraciones a la seguridad. Para más detalles, consulte la [Guía de migración](https://tensorflow.org/guide/migrate)."
      ]
    },
    {
      "cell_type": "markdown",
      "metadata": {
        "id": "ZaGcclVLwqDS"
      },
      "source": [
        "## Descripción general\n",
        "\n",
        "Los estimadores de TensorFlow se pueden aplicar en TensorFlow y se pueden crear a partir de modelos de código `tf.keras` nuevos o existentes. Este tutorial contiene un ejemplo mínimo, completo de ese proceso.\n",
        "\n",
        "Nota: si tiene un modelo Keras, puede usarlo directamente con [estrategias `tf.distribute`](https://tensorflow.org/guide/migrate/guide/distributed_training) sin convertir a un estimador. En tal caso, ya no se recomienda `model_to_estimator`."
      ]
    },
    {
      "cell_type": "markdown",
      "metadata": {
        "id": "epgfaZmO2vF0"
      },
      "source": [
        "## Preparar"
      ]
    },
    {
      "cell_type": "code",
      "execution_count": null,
      "metadata": {
        "id": "Qmq4FzaztASN"
      },
      "outputs": [],
      "source": [
        "import tensorflow as tf\n",
        "\n",
        "import numpy as np\n",
        "import tensorflow_datasets as tfds"
      ]
    },
    {
      "cell_type": "markdown",
      "metadata": {
        "id": "9ZUATGJGtQIU"
      },
      "source": [
        "### Creación de un modelo Keras simple."
      ]
    },
    {
      "cell_type": "markdown",
      "metadata": {
        "id": "rR-zPidHyzcb"
      },
      "source": [
        "En Keras, se ensamblan *capas* para construir *modelos*. Un modelo es, por lo general, un gráfico de capas. El tipo más común de modelo es el de capas apiladas: el modelo `tf.keras.Sequential`.\n",
        "\n",
        "Para crear una red simple y completamente conectada (es decir, un perceptrón multicapa):"
      ]
    },
    {
      "cell_type": "code",
      "execution_count": null,
      "metadata": {
        "id": "p5NSx38itD1a"
      },
      "outputs": [],
      "source": [
        "model = tf.keras.models.Sequential([\n",
        "    tf.keras.layers.Dense(16, activation='relu', input_shape=(4,)),\n",
        "    tf.keras.layers.Dropout(0.2),\n",
        "    tf.keras.layers.Dense(3)\n",
        "])"
      ]
    },
    {
      "cell_type": "markdown",
      "metadata": {
        "id": "ABgo9-8BtYNs"
      },
      "source": [
        "Compile el modelo y obtenga una versión resumida."
      ]
    },
    {
      "cell_type": "code",
      "execution_count": null,
      "metadata": {
        "id": "nViACuBDtVEC"
      },
      "outputs": [],
      "source": [
        "model.compile(loss=tf.keras.losses.SparseCategoricalCrossentropy(from_logits=True),\n",
        "              optimizer='adam')\n",
        "model.summary()"
      ]
    },
    {
      "cell_type": "markdown",
      "metadata": {
        "id": "pM3Cx5Fm_sHI"
      },
      "source": [
        "### Creación de una función de entrada\n",
        "\n",
        "Use la [API de datasets](../../guide/data.md) para escalar a conjuntos de datos más grandes o a entrenamiento con múltiples dispositivos.\n",
        "\n",
        "Los estimadores deben controlar cuándo y cómo se crea la canalización de entrada. Para que esto sea posible, requieren de una \"función de entrada\" o `input_fn`. El `Estimator` llamará a esta función sin argumentos. El `input_fn` debe devolver un `tf.data.Dataset`."
      ]
    },
    {
      "cell_type": "code",
      "execution_count": null,
      "metadata": {
        "id": "H0DpLEop_x0o"
      },
      "outputs": [],
      "source": [
        "def input_fn():\n",
        "  split = tfds.Split.TRAIN\n",
        "  dataset = tfds.load('iris', split=split, as_supervised=True)\n",
        "  dataset = dataset.map(lambda features, labels: ({'dense_input':features}, labels))\n",
        "  dataset = dataset.batch(32).repeat()\n",
        "  return dataset"
      ]
    },
    {
      "cell_type": "markdown",
      "metadata": {
        "id": "UR1vRw1bBFjo"
      },
      "source": [
        "Pruebe su `input_fn`"
      ]
    },
    {
      "cell_type": "code",
      "execution_count": null,
      "metadata": {
        "id": "WO94bGYKBKRv"
      },
      "outputs": [],
      "source": [
        "for features_batch, labels_batch in input_fn().take(1):\n",
        "  print(features_batch)\n",
        "  print(labels_batch)"
      ]
    },
    {
      "cell_type": "markdown",
      "metadata": {
        "id": "svdhkQ4Otcv0"
      },
      "source": [
        "### Creación de un estimador a partir del modelo tf.keras.\n",
        "\n",
        "Un `tf.keras.Model` se puede entrenar con la API de `tf.estimator` al convertir el modelo en un objeto `tf.estimator.Estimator` con `tf.keras.estimator.model_to_estimator`."
      ]
    },
    {
      "cell_type": "code",
      "execution_count": null,
      "metadata": {
        "id": "roChngg8t7il"
      },
      "outputs": [],
      "source": [
        "import tempfile\n",
        "model_dir = tempfile.mkdtemp()\n",
        "keras_estimator = tf.keras.estimator.model_to_estimator(\n",
        "    keras_model=model, model_dir=model_dir)"
      ]
    },
    {
      "cell_type": "markdown",
      "metadata": {
        "id": "U-8ekW5It_2w"
      },
      "source": [
        "Entrene y evalúe el estimador."
      ]
    },
    {
      "cell_type": "code",
      "execution_count": null,
      "metadata": {
        "id": "ouIkVtp9uAg5"
      },
      "outputs": [],
      "source": [
        "keras_estimator.train(input_fn=input_fn, steps=500)\n",
        "eval_result = keras_estimator.evaluate(input_fn=input_fn, steps=10)\n",
        "print('Eval result: {}'.format(eval_result))"
      ]
    }
  ],
  "metadata": {
    "colab": {
      "collapsed_sections": [],
      "name": "keras_model_to_estimator.ipynb",
      "toc_visible": true
    },
    "kernelspec": {
      "display_name": "Python 3",
      "name": "python3"
    }
  },
  "nbformat": 4,
  "nbformat_minor": 0
}
