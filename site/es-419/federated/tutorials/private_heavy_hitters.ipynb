{
  "cells": [
    {
      "cell_type": "markdown",
      "metadata": {
        "id": "OQxl99l0bZac"
      },
      "source": [
        "##### Copyright 2022 The TensorFlow Authors."
      ]
    },
    {
      "cell_type": "code",
      "execution_count": null,
      "metadata": {
        "cellView": "form",
        "id": "YHz2D-oIqBWa"
      },
      "outputs": [],
      "source": [
        "#@title Licensed under the Apache License, Version 2.0 (the \"License\");\n",
        "# you may not use this file except in compliance with the License.\n",
        "# You may obtain a copy of the License at\n",
        "#\n",
        "# https://www.apache.org/licenses/LICENSE-2.0\n",
        "#\n",
        "# Unless required by applicable law or agreed to in writing, software\n",
        "# distributed under the License is distributed on an \"AS IS\" BASIS,\n",
        "# WITHOUT WARRANTIES OR CONDITIONS OF ANY KIND, either express or implied.\n",
        "# See the License for the specific language governing permissions and\n",
        "# limitations under the License."
      ]
    },
    {
      "cell_type": "markdown",
      "metadata": {
        "id": "jXslvcRocA-0"
      },
      "source": [
        "# Heavy Hitters privados"
      ]
    },
    {
      "cell_type": "markdown",
      "metadata": {
        "id": "0XBJJIqwcXKd"
      },
      "source": [
        "<table class=\"tfo-notebook-buttons\" align=\"left\">\n",
        "  <td><a target=\"_blank\" href=\"https://www.tensorflow.org/federated/tutorials/private_heavy_hitters\"><img src=\"https://www.tensorflow.org/images/tf_logo_32px.png\">Ver en TensorFlow.org</a></td>\n",
        "  <td><a target=\"_blank\" href=\"https://colab.research.google.com/github/tensorflow/docs-l10n/blob/master/site/es-419/federated/tutorials/private_heavy_hitters.ipynb\"><img src=\"https://www.tensorflow.org/images/colab_logo_32px.png\">Ejecutar en Google Colab</a></td>\n",
        "  <td>     <a target=\"_blank\" href=\"https://github.com/tensorflow/docs-l10n/blob/master/site/es-419/federated/tutorials/private_heavy_hitters.ipynb\"><img src=\"https://www.tensorflow.org/images/GitHub-Mark-32px.png\">Ver fuente en GitHub</a>\n",
        "</td>\n",
        "  <td><a href=\"https://storage.googleapis.com/tensorflow_docs/docs-l10n/site/es-419/federated/tutorials/private_heavy_hitters.ipynb\"><img src=\"https://www.tensorflow.org/images/download_logo_32px.png\">Descargar el bloc de notas</a></td>\n",
        "</table>"
      ]
    },
    {
      "cell_type": "markdown",
      "metadata": {
        "id": "JJqFp24bb2JN"
      },
      "source": [
        "**NOTA**: Se ha verificado que esta colaboración funciona con la [última versión publicada](https://github.com/tensorflow/federated#compatibility) del paquete pip `tensorflow_federated`. Es posible que esta colaboración no se actualice para funcionar con `main`.\n",
        "\n",
        "Este tutorial muestra cómo usar la API `tff.analytics.heavy_hitters.iblt.build_iblt_computation` para crear un cálculo analítico federado para descubrir las cadenas más frecuentes (heavy hitters privados) en la población."
      ]
    },
    {
      "cell_type": "markdown",
      "metadata": {
        "id": "MnUwFbCAKB2r"
      },
      "source": [
        "## Configuración del entorno\n",
        "\n",
        "Ejecute lo que se encuentra a continuación, para asegurarse de que el entorno esté preparado correctamente. Si no ve un mensaje de inicio, consulte la guía de [instalación](../install.md) para acceder a las instrucciones. "
      ]
    },
    {
      "cell_type": "code",
      "execution_count": null,
      "metadata": {
        "id": "ZrGitA_KnRO0"
      },
      "outputs": [],
      "source": [
        "#@test {\"skip\": true}\n",
        "\n",
        "# tensorflow_federated_nightly also bring in tf_nightly, which\n",
        "# can causes a duplicate tensorboard install, leading to errors.\n",
        "!pip install --quiet tensorflow-text-nightly\n",
        "!pip install --quiet --upgrade tensorflow-federated"
      ]
    },
    {
      "cell_type": "code",
      "execution_count": null,
      "metadata": {
        "id": "8BKyHkMxKHfV"
      },
      "outputs": [
        {
          "data": {
            "text/plain": [
              "b'Hello, World!'"
            ]
          },
          "execution_count": 1,
          "metadata": {},
          "output_type": "execute_result"
        }
      ],
      "source": [
        "import collections\n",
        "\n",
        "import numpy as np\n",
        "import tensorflow as tf\n",
        "import tensorflow_federated as tff\n",
        "import tensorflow_text as tf_text\n",
        "\n",
        "np.random.seed(0)\n",
        "tff.backends.test.set_sync_test_cpp_execution_context()\n",
        "\n",
        "tff.federated_computation(lambda: 'Hello, World!')()"
      ]
    },
    {
      "cell_type": "markdown",
      "metadata": {
        "id": "BhLs5GNQ-wWu"
      },
      "source": [
        "## Antecedentes: Heavy Hitters ​​privados en el análisis federado"
      ]
    },
    {
      "cell_type": "markdown",
      "metadata": {
        "id": "XgGacXm1mVE3"
      },
      "source": [
        "Considere la siguiente configuración: cada cliente tiene una lista de cadenas y cada cadena pertenece a un conjunto abierto, lo que significa que podría ser arbitraria. El objetivo es descubrir las cadenas más populares (**Heavy Hitters**) y sus recuentos de forma privada en un entorno federado. Esta colaboración demuestra una solución a este problema con las siguientes propiedades de privacidad:\n",
        "\n",
        "- Agregación segura: calcula los recuentos de las cadenas agregadas de modo que el servidor no pueda conocer el valor individual de ningún cliente. Consulte `tff.federated_secure_sum` para obtener más información.\n",
        "- Privacidad diferencial (DP): método ampliamente utilizado para delimitar y cuantificar la fuga de privacidad de datos confidenciales que se produce durante el análisis. Puede aplicar DP central a nivel de usuario a los resultados de Heavy Hitters.\n",
        "\n",
        "La API de agregación segura `tff.federated_secure_sum` admite sumas lineales de vectores enteros. Si las cadenas son de un conjunto cerrado de tamaño `n`, entonces es fácil codificar las cadenas de cada cliente en un vector de tamaño `n`: sea el valor en el índice `i` del vector el recuento de la `i` <sup>-ésima</sup> cadena en el conjunto cerrado. Luego puede sumar de forma segura los vectores de todos los clientes para obtener el recuento de cadenas en toda la población. Sin embargo, si las cadenas pertenecen a un conjunto abierto, no resulta obvio cómo codificarlas correctamente para obtener una suma segura. En este trabajo, puede codificar las cadenas en [tablas de búsqueda invertibles de Bloom (IBLT)](https://arxiv.org/abs/1101.2245), que es una estructura de datos probabilística que tiene la capacidad de codificar elementos en un dominio grande (o abierto) de una manera eficiente. Los esquemas de IBLT se pueden sumar linealmente, por lo que son compatibles con la suma segura.\n",
        "\n",
        "Puede usar `tff.analytics.heavy_hitters.iblt.build_iblt_computation` para crear un cálculo de TFF que codifique las cadenas locales de cada cliente en una estructura de IBLT. Estas estructuras se suman de forma segura a través de un protocolo criptográfico seguro de cálculo multipartito en una estructura de IBLT agregada que el servidor puede decodificar. Luego de esto, el servidor puede devolver a los Heavy Hitters. Las siguientes secciones muestran cómo se usa esta API para crear un cálculo de TFF y ejecutar simulaciones con el conjunto de datos de Shakespeare. "
      ]
    },
    {
      "cell_type": "markdown",
      "metadata": {
        "id": "CFY_3z-x-3r6"
      },
      "source": [
        "## Carga y procesamiento previo de los datos federados de Shakespeare"
      ]
    },
    {
      "cell_type": "markdown",
      "metadata": {
        "id": "0O1CHhdDJcij"
      },
      "source": [
        "El conjunto de datos de Shakespeare contiene líneas de personajes de obras de Shakespeare. En este ejemplo, se selecciona un subconjunto de caracteres (es decir, clientes). Un preprocesador convierte las líneas de cada personaje en una lista de cadenas y se eliminan todas las cadenas que solo contengan puntuación o símbolos."
      ]
    },
    {
      "cell_type": "code",
      "execution_count": null,
      "metadata": {
        "id": "b65q5mp4r1n7"
      },
      "outputs": [],
      "source": [
        "# Load the simulation data.\n",
        "source, _ = tff.simulation.datasets.shakespeare.load_data()"
      ]
    },
    {
      "cell_type": "code",
      "execution_count": null,
      "metadata": {
        "id": "ReoTRs8ntJw7"
      },
      "outputs": [],
      "source": [
        "# Preprocessing function to tokenize a line into words.\n",
        "def tokenize(ds):\n",
        "  \"\"\"Tokenizes a line into words with alphanum characters.\"\"\"\n",
        "  def extract_strings(example):\n",
        "    return tf.expand_dims(example['snippets'], 0)\n",
        "\n",
        "  def tokenize_line(line):\n",
        "    return tf.data.Dataset.from_tensor_slices(tokenizer.tokenize(line)[0])\n",
        "\n",
        "  def mask_all_symbolic_words(word):\n",
        "    return tf.math.logical_not(\n",
        "        tf_text.wordshape(word, tf_text.WordShape.IS_PUNCT_OR_SYMBOL))\n",
        "\n",
        "  tokenizer = tf_text.WhitespaceTokenizer()\n",
        "  ds = ds.map(extract_strings)\n",
        "  ds = ds.flat_map(tokenize_line)\n",
        "  ds = ds.map(tf_text.case_fold_utf8)\n",
        "  ds = ds.filter(mask_all_symbolic_words)\n",
        "  return ds\n",
        "\n",
        "batch_size = 5\n",
        "\n",
        "def client_data(n: int) -> tf.data.Dataset:\n",
        "  return tokenize(source.create_tf_dataset_for_client(\n",
        "      source.client_ids[n])).batch(batch_size)\n",
        "\n",
        "# Pick a subset of client devices to participate in the computation.\n",
        "dataset = [client_data(n) for n in range(10)]"
      ]
    },
    {
      "cell_type": "markdown",
      "metadata": {
        "id": "iDGwJsssK9_e"
      },
      "source": [
        "## Simulaciones"
      ]
    },
    {
      "cell_type": "markdown",
      "metadata": {
        "id": "ZtCRYhI0nKcm"
      },
      "source": [
        "Para ejecutar simulaciones con el fin de descubrir las palabras más populares (heavy hitters) en el conjunto de datos de Shakespeare, primero debemos crear un cálculo de TFF a partir de la API `tff.analytics.heavy_hitters.iblt.build_iblt_computation` con los siguientes parámetros:\n",
        "\n",
        "- `capacity`: la capacidad del esquema de IBLT. Este número debería ser aproximadamente el número total de cadenas únicas que podrían aparecer en una ronda de cálculo. El valor predeterminado es `1000`. Si este número es demasiado pequeño, la decodificación podría fallar a causa de una colisión de valores hash. Si este número fuera demasiado grande, consumiría más memoria de la necesaria.\n",
        "- `string_max_bytes`: la longitud máxima de una cadena en la IBLT. El valor predeterminado es `10`. Debe ser positivo. Las cadenas más largas que `string_max_bytes` se truncarán.\n",
        "- `max_words_per_user`: el número máximo de cadenas que cada cliente puede contribuir. Si no es `None`, debe ser un número entero positivo. El valor predeterminado es `None`, lo que significa que todos los clientes contribuyen con todas sus cadenas.\n",
        "- `max_heavy_hitters`: el número máximo de elementos que se devolverán. Si los elementos decodificados superan este número, se ordenarán de forma decreciente según los recuentos estimados y se devolverán los elementos max_heavy_hitters principales. El valor predeterminado es `None`, lo que significa devolver todos los heavy hitters ​​del resultado.\n",
        "- `secure_sum_bitwidth`: el ancho de bits que se usa para obtener una suma segura. El valor predeterminado es `None`, que deshabilita la suma segura. Si no es `None`, debe estar en el rango `[1,62]`. Consulte `tff.federated_secure_sum`.\n",
        "- `multi_contribution`: si a cada cliente se le permita contribuir con múltiples recuentos o solo con uno para cada palabra única. El valor predeterminado es `True`. Este argumento podría mejorar la utilidad cuando se requiere privacidad diferencial.\n",
        "- `batch_size`: el número de elementos en cada lote del conjunto de datos. El valor predeterminado es `1`, lo que significa que el conjunto de datos de entrada es procesado por `tf.data.Dataset.batch(1)`. Debe ser un número entero positivo.\n"
      ]
    },
    {
      "cell_type": "code",
      "execution_count": null,
      "metadata": {
        "id": "9iyRWmV529qY"
      },
      "outputs": [],
      "source": [
        "max_words_per_user = 8\n",
        "iblt_computation = tff.analytics.heavy_hitters.iblt.build_iblt_computation(\n",
        "    capacity=100,\n",
        "    string_max_bytes=20,\n",
        "    max_words_per_user=max_words_per_user,\n",
        "    max_heavy_hitters=10,\n",
        "    secure_sum_bitwidth=32,\n",
        "    multi_contribution=False,\n",
        "    batch_size=batch_size)"
      ]
    },
    {
      "cell_type": "markdown",
      "metadata": {
        "id": "Qe8ZUIwH4C1y"
      },
      "source": [
        "Ahora tiene todo listo para ejecutar simulaciones con el cálculo de TFF `iblt_computation` y el conjunto de datos de entrada de preprocesamiento. La salida de `iblt_computation` tiene cuatro atributos:\n",
        "\n",
        "- clients: un número escalar de clientes que participaron en el cálculo.\n",
        "- heavy_hitters: una lista de heavy hitters ​​agregados.\n",
        "- heavy_hitters_counts: una lista de los recuentos de heavy hitters agregados.\n",
        "- num_not_decoded: un número escalar de cadenas que no se decodifican correctamente.\n"
      ]
    },
    {
      "cell_type": "code",
      "execution_count": null,
      "metadata": {
        "id": "5r8Y6GL-zhPv"
      },
      "outputs": [],
      "source": [
        "def run_simulation(one_round_computation: tff.Computation, dataset):\n",
        "  output = one_round_computation(dataset)\n",
        "  heavy_hitters = output.heavy_hitters\n",
        "  heavy_hitters_counts = output.heavy_hitters_counts\n",
        "  heavy_hitters = [word.decode('utf-8', 'ignore') for word in heavy_hitters]\n",
        "\n",
        "  results = {}\n",
        "  for index in range(len(heavy_hitters)):\n",
        "    results[heavy_hitters[index]] = heavy_hitters_counts[index]\n",
        "  return output.clients, dict(results)"
      ]
    },
    {
      "cell_type": "code",
      "execution_count": null,
      "metadata": {
        "id": "w99wVdhW0OIR"
      },
      "outputs": [
        {
          "name": "stdout",
          "output_type": "stream",
          "text": [
            "Number of clients participated: 10\n",
            "Discovered heavy hitters and counts:\n",
            "{'to': 8, 'the': 8, 'and': 7, 'you': 4, 'i': 4, 'a': 3, 'he': 3, 'your': 3, 'is': 3, 'of': 2}\n"
          ]
        }
      ],
      "source": [
        "clients, result = run_simulation(iblt_computation, dataset)\n",
        "print(f'Number of clients participated: {clients}')\n",
        "print('Discovered heavy hitters and counts:')\n",
        "print(result)"
      ]
    },
    {
      "cell_type": "markdown",
      "metadata": {
        "id": "u4SdslRULCox"
      },
      "source": [
        "## Heavy Hitters privados con privacidad diferencial"
      ]
    },
    {
      "cell_type": "markdown",
      "metadata": {
        "id": "0F4O2U7nGL1A"
      },
      "source": [
        "Para obtener Heavy Hitters ​​privados con DP central, se aplica un mecanismo de DP para histogramas de conjunto abierto. La idea es agregar ruido a los recuentos de cadenas en el histograma agregado y luego conservar solo las cadenas con recuentos que se sitúen por encima de un umbral específico. El ruido y el umbral dependen del presupuesto (épsilon, delta)-DP; consulte [este documento](https://github.com/google/differential-privacy/blob/main/common_docs/Delta_For_Thresholding.pdf) para obtener pruebas y algoritmos detallados. Los recuentos ruidosos se redondean a números enteros como paso de posprocesamiento, lo que no debilita la garantía de DP. Tenga en cuenta que descubrirá heavy hitters menos importantes ​​cuando la DP sea un requisito. Esto se debe a que el paso de umbral filtra las cadenas con recuentos bajos."
      ]
    },
    {
      "cell_type": "code",
      "execution_count": null,
      "metadata": {
        "id": "ryZZgH8nJi9v"
      },
      "outputs": [],
      "source": [
        "iblt_computation = tff.analytics.heavy_hitters.iblt.build_iblt_computation(\n",
        "    capacity=100,\n",
        "    string_max_bytes=20,\n",
        "    max_words_per_user=max_words_per_user,\n",
        "    secure_sum_bitwidth=32,\n",
        "    multi_contribution=False,\n",
        "    batch_size=batch_size)\n",
        "\n",
        "clients, result = run_simulation(iblt_computation, dataset)"
      ]
    },
    {
      "cell_type": "code",
      "execution_count": null,
      "metadata": {
        "id": "LxhBSUFs3Ku6"
      },
      "outputs": [
        {
          "name": "stdout",
          "output_type": "stream",
          "text": [
            "Discovered heavy hitters and counts with central DP:\n",
            "{'the': 8, 'you': 4, 'to': 7, 'tear': 3, 'and': 7, 'i': 3}\n"
          ]
        }
      ],
      "source": [
        "# DP parameters\n",
        "eps = 20\n",
        "delta = 0.01\n",
        "\n",
        "# Calculating scale for Laplace noise\n",
        "scale = max_words_per_user / eps\n",
        "\n",
        "# Calculating the threshold\n",
        "tau = 1 + (max_words_per_user / eps) * np.log(max_words_per_user / (2 * delta))\n",
        "\n",
        "result_with_dp = {}\n",
        "for word in result:\n",
        "  noised_count = result[word] + np.random.laplace(scale=scale)\n",
        "  if noised_count >= tau:\n",
        "    result_with_dp[word] = int(noised_count)\n",
        "print(f'Discovered heavy hitters and counts with central DP:')\n",
        "print(result_with_dp)"
      ]
    }
  ],
  "metadata": {
    "colab": {
      "collapsed_sections": [],
      "name": "private_heavy_hitters.ipynb",
      "toc_visible": true
    },
    "kernelspec": {
      "display_name": "Python 3",
      "name": "python3"
    }
  },
  "nbformat": 4,
  "nbformat_minor": 0
}
