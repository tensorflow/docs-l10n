{
  "cells": [
    {
      "cell_type": "markdown",
      "metadata": {
        "id": "1YRGLD1pOOrJ"
      },
      "source": [
        "##### Copyright 2021 The TensorFlow Federated Authors."
      ]
    },
    {
      "cell_type": "code",
      "execution_count": null,
      "metadata": {
        "cellView": "form",
        "id": "koW3R4ntOgLS"
      },
      "outputs": [],
      "source": [
        "#@title Licensed under the Apache License, Version 2.0 (the \"License\");\n",
        "# you may not use this file except in compliance with the License.\n",
        "# You may obtain a copy of the License at\n",
        "#\n",
        "# https://www.apache.org/licenses/LICENSE-2.0\n",
        "#\n",
        "# Unless required by applicable law or agreed to in writing, software\n",
        "# distributed under the License is distributed on an \"AS IS\" BASIS,\n",
        "# WITHOUT WARRANTIES OR CONDITIONS OF ANY KIND, either express or implied.\n",
        "# See the License for the specific language governing permissions and\n",
        "# limitations under the License."
      ]
    },
    {
      "cell_type": "markdown",
      "metadata": {
        "id": "grBmytrShbUE"
      },
      "source": [
        "# Generación de ruido aleatorio en TFF\n",
        "\n",
        "En este tutorial se analizan las prácticas recomendadas para la generación de ruido aleatorio en TFF. La generación de ruido aleatorio es un componente importante de muchas técnicas de protección de la privacidad en algoritmos de aprendizaje federados, por ejemplo, privacidad diferencial."
      ]
    },
    {
      "cell_type": "markdown",
      "metadata": {
        "id": "coAumH42q9nz"
      },
      "source": [
        "<table class=\"tfo-notebook-buttons\" align=\"left\">\n",
        "  <td><a target=\"_blank\" href=\"https://www.tensorflow.org/federated/tutorials/random_noise_generation\"><img src=\"https://www.tensorflow.org/images/tf_logo_32px.png\">Ver en TensorFlow.org</a></td>\n",
        "  <td><a target=\"_blank\" href=\"https://colab.research.google.com/github/tensorflow/docs-l10n/blob/master/site/es-419/federated/tutorials/random_noise_generation.ipynb\"><img src=\"https://www.tensorflow.org/images/colab_logo_32px.png\">Ejecutar en Google Colab</a></td>\n",
        "  <td>     <a target=\"_blank\" href=\"https://github.com/tensorflow/docs-l10n/blob/master/site/es-419/federated/tutorials/random_noise_generation.ipynb\"><img src=\"https://www.tensorflow.org/images/GitHub-Mark-32px.png\">Ver fuente en GitHub</a>\n",
        "</td>\n",
        "  <td><a href=\"https://storage.googleapis.com/tensorflow_docs/docs-l10n/site/es-419/federated/tutorials/random_noise_generation.ipynb\"><img src=\"https://www.tensorflow.org/images/download_logo_32px.png\">Descargar el bloc de notas</a></td>\n",
        "</table>"
      ]
    },
    {
      "cell_type": "markdown",
      "metadata": {
        "id": "yiq_MY4LopET"
      },
      "source": [
        "## Antes de empezar\n",
        "\n",
        "Primero, asegurémonos de que este notebook esté conectado a un servidor que tenga los componentes relevantes compilados. "
      ]
    },
    {
      "cell_type": "code",
      "execution_count": null,
      "metadata": {
        "id": "ke7EyuvG0Zyn"
      },
      "outputs": [],
      "source": [
        "#@test {\"skip\": true}\n",
        "!pip install --quiet --upgrade tensorflow-federated"
      ]
    },
    {
      "cell_type": "code",
      "execution_count": 1,
      "metadata": {
        "id": "rtgStTrNIId-"
      },
      "outputs": [],
      "source": [
        "import numpy as np\n",
        "import tensorflow as tf\n",
        "import tensorflow_federated as tff"
      ]
    },
    {
      "cell_type": "markdown",
      "metadata": {
        "id": "X6eWsahmQpmi"
      },
      "source": [
        "Intente ejecutar el siguiente ejemplo de \"Hola mundo\" para asegurarse de que su entorno esté configurado correctamente. Si no funciona, consulte la guía [Instalación](../install.md) para acceder a las instrucciones."
      ]
    },
    {
      "cell_type": "code",
      "execution_count": 43,
      "metadata": {
        "id": "wjX3wmC-P1aE"
      },
      "outputs": [
        {
          "data": {
            "text/plain": [
              "b'Hello, World!'"
            ]
          },
          "execution_count": 43,
          "metadata": {},
          "output_type": "execute_result"
        }
      ],
      "source": [
        "@tff.federated_computation\n",
        "def hello_world():\n",
        "  return 'Hello, World!'\n",
        "\n",
        "hello_world()"
      ]
    },
    {
      "cell_type": "markdown",
      "metadata": {
        "id": "A8xl6I2X9ObS"
      },
      "source": [
        "## Ruido aleatorio en los clientes\n",
        "\n",
        "La necesidad de ruido en los clientes generalmente se divide en dos casos: ruido idéntico y ruido i.i.d.\n",
        "\n",
        "- Para ruido idéntico, el patrón recomendado es mantener una semilla en el servidor, difundirla a los clientes y usar las funciones `tf.random.stateless` para generar ruido.\n",
        "- Para ruido i.i.d., use un tf.random.Generator inicializado en el cliente con from_non_deterministic_state, de acuerdo con la recomendación de TF de evitar las funciones tf.random.&lt;distribution&gt;.\n",
        "\n",
        "El cliente se comporta de forma diferente al servidor (no sufre los inconvenientes que se analizan más adelante) porque cada cliente creará su propio gráfico de cálculo e inicializará su propia semilla predeterminada."
      ]
    },
    {
      "cell_type": "markdown",
      "metadata": {
        "id": "ykw-7vrN_WC8"
      },
      "source": [
        "### Ruido idéntico en los clientes"
      ]
    },
    {
      "cell_type": "code",
      "execution_count": 5,
      "metadata": {
        "id": "aZk9h1nb9nLN"
      },
      "outputs": [
        {
          "name": "stdout",
          "output_type": "stream",
          "text": [
            "Seed: [1 1]. All clients sampled value    1.665.\n",
            "Seed: [2 2]. All clients sampled value   -0.219.\n"
          ]
        }
      ],
      "source": [
        "# Set to use 10 clients.\n",
        "tff.backends.native.set_sync_local_cpp_execution_context(default_num_clients=10)\n",
        "\n",
        "@tff.tf_computation\n",
        "def noise_from_seed(seed):\n",
        "  return tf.random.stateless_normal((), seed=seed)\n",
        "\n",
        "seed_type_at_server = tff.type_at_server(tff.to_type((tf.int64, [2])))\n",
        "\n",
        "@tff.federated_computation(seed_type_at_server)\n",
        "def get_random_min_and_max_deterministic(seed):\n",
        "  # Broadcast seed to all clients.\n",
        "  seed_on_clients = tff.federated_broadcast(seed)\n",
        "\n",
        "  # Clients generate noise from seed deterministicly.\n",
        "  noise_on_clients = tff.federated_map(noise_from_seed, seed_on_clients)\n",
        "\n",
        "  # Aggregate and return the min and max of the values generated on clients.\n",
        "  min = tff.aggregators.federated_min(noise_on_clients)\n",
        "  max = tff.aggregators.federated_max(noise_on_clients)\n",
        "  return min, max\n",
        "\n",
        "seed = tf.constant([1, 1], dtype=tf.int64)\n",
        "min, max = get_random_min_and_max_deterministic(seed)\n",
        "assert min == max\n",
        "print(f'Seed: {seed.numpy()}. All clients sampled value {min:8.3f}.')\n",
        "\n",
        "seed += 1\n",
        "min, max = get_random_min_and_max_deterministic(seed)\n",
        "assert min == max\n",
        "print(f'Seed: {seed.numpy()}. All clients sampled value {min:8.3f}.')"
      ]
    },
    {
      "cell_type": "markdown",
      "metadata": {
        "id": "P_FqzcAGAHq_"
      },
      "source": [
        "### Ruido independiente en los clientes"
      ]
    },
    {
      "cell_type": "code",
      "execution_count": null,
      "metadata": {
        "id": "SNU-ZECrAMiI"
      },
      "outputs": [
        {
          "name": "stdout",
          "output_type": "stream",
          "text": [
            "Values differ across clients.   -1.490,   1.172.\n",
            "Values differ across rounds.    -1.358,   1.208.\n"
          ]
        }
      ],
      "source": [
        "@tff.tf_computation\n",
        "def nondeterministic_noise():\n",
        "  gen = tf.random.Generator.from_non_deterministic_state()\n",
        "  return gen.normal(())\n",
        "\n",
        "@tff.federated_computation\n",
        "def get_random_min_and_max_nondeterministic():\n",
        "  noise_on_clients = tff.federated_eval(nondeterministic_noise, tff.CLIENTS)\n",
        "  min = tff.aggregators.federated_min(noise_on_clients)\n",
        "  max = tff.aggregators.federated_max(noise_on_clients)\n",
        "  return min, max\n",
        "\n",
        "min, max = get_random_min_and_max_nondeterministic()\n",
        "assert min != max\n",
        "print(f'Values differ across clients. {min:8.3f},{max:8.3f}.')\n",
        "\n",
        "new_min, new_max = get_random_min_and_max_nondeterministic()\n",
        "assert new_min != new_max\n",
        "assert new_min != min and new_max != max\n",
        "print(f'Values differ across rounds.  {new_min:8.3f},{new_max:8.3f}.')"
      ]
    },
    {
      "cell_type": "markdown",
      "metadata": {
        "id": "mO03fIygDb-D"
      },
      "source": [
        "### Inicializador del modelo en los clientes"
      ]
    },
    {
      "cell_type": "code",
      "execution_count": null,
      "metadata": {
        "id": "3WXzahFFGYUl"
      },
      "outputs": [
        {
          "name": "stdout",
          "output_type": "stream",
          "text": [
            "Values differ across clients.   -1.022,   1.567.\n",
            "Values differ across rounds.    -1.675,   1.550.\n"
          ]
        }
      ],
      "source": [
        "def _keras_model():\n",
        "  inputs = tf.keras.Input(shape=(1,))\n",
        "  outputs = tf.keras.layers.Dense(1)(inputs)\n",
        "  return tf.keras.Model(inputs=inputs, outputs=outputs)\n",
        "\n",
        "@tff.tf_computation\n",
        "def tff_return_model_init():\n",
        "  model = _keras_model()\n",
        "  # return the initialized single weight value of the dense layer\n",
        "  return tf.reshape(\n",
        "      tff.learning.models.ModelWeights.from_model(model).trainable[0], [-1])[0]\n",
        "\n",
        "@tff.federated_computation\n",
        "def get_random_min_and_max_nondeterministic():\n",
        "  noise_on_clients = tff.federated_eval(tff_return_model_init, tff.CLIENTS)\n",
        "  min = tff.aggregators.federated_min(noise_on_clients)\n",
        "  max = tff.aggregators.federated_max(noise_on_clients)\n",
        "  return min, max\n",
        "\n",
        "min, max = get_random_min_and_max_nondeterministic()\n",
        "assert min != max\n",
        "print(f'Values differ across clients. {min:8.3f},{max:8.3f}.')\n",
        "\n",
        "new_min, new_max = get_random_min_and_max_nondeterministic()\n",
        "assert new_min != new_max\n",
        "assert new_min != min and new_max != max\n",
        "print(f'Values differ across rounds.  {new_min:8.3f},{new_max:8.3f}.')"
      ]
    },
    {
      "cell_type": "markdown",
      "metadata": {
        "id": "mL7ZiI6A_GyX"
      },
      "source": [
        "## Ruido aleatorio en el servidor"
      ]
    },
    {
      "cell_type": "markdown",
      "metadata": {
        "id": "C2-BdlyAId1_"
      },
      "source": [
        "### Uso desaconsejado: uso directo de `tf.random.normal`\n",
        "\n",
        "TF1.x como las API `tf.random.normal` para la generación de ruido aleatorio se desaconsejan en TF2 de acuerdo con el [tutorial de generación de ruido aleatorio en TF](https://www.tensorflow.org/guide/random_numbers). Cuando estas API se usan junto con `tf.function` y `tf.random.set_seed` se puede generar un comportamiento sorprendente. Por ejemplo, el siguiente código generará el mismo valor con cada llamada. Este comportamiento sorprendente es esperado en TF y la explicación se puede encontrar en la <a href=\"https://www.tensorflow.org/api_docs/python/tf/random/set_seed\" data-md-type=\"link\">documentación de `tf.random.set_seed`</a>. "
      ]
    },
    {
      "cell_type": "code",
      "execution_count": null,
      "metadata": {
        "id": "0S7t0-3hHCWc"
      },
      "outputs": [
        {
          "name": "stdout",
          "output_type": "stream",
          "text": [
            "0.3052047 0.3052047\n"
          ]
        }
      ],
      "source": [
        "tf.random.set_seed(1)\n",
        " \n",
        "@tf.function\n",
        "def return_one_noise(_):\n",
        "  return tf.random.normal([])\n",
        "\n",
        "n1=return_one_noise(1)\n",
        "n2=return_one_noise(2) \n",
        "assert n1 == n2\n",
        "print(n1.numpy(), n2.numpy())"
      ]
    },
    {
      "cell_type": "markdown",
      "metadata": {
        "id": "6vmWv0ALKvqh"
      },
      "source": [
        "En TFF, las cosas son ligeramente diferentes. Si ajustamos la generación de ruido como `tff.tf_computation` en lugar de como `tf.function`, se generará ruido aleatorio no determinista. Sin embargo, si ejecutamos este fragmento de código varias veces, cada vez se generará un conjunto diferente de `(n1, n2)`. No existe una manera fácil de establecer una semilla aleatoria global para TFF."
      ]
    },
    {
      "cell_type": "code",
      "execution_count": null,
      "metadata": {
        "id": "D_5T0UzHKtde"
      },
      "outputs": [
        {
          "name": "stdout",
          "output_type": "stream",
          "text": [
            "0.11990704 1.9185987\n"
          ]
        }
      ],
      "source": [
        "tf.random.set_seed(1)\n",
        " \n",
        "@tff.tf_computation\n",
        "def return_one_noise(_):\n",
        "  return tf.random.normal([])\n",
        "\n",
        "n1=return_one_noise(1)\n",
        "n2=return_one_noise(2) \n",
        "assert n1 != n2\n",
        "print(n1, n2)"
      ]
    },
    {
      "cell_type": "markdown",
      "metadata": {
        "id": "GJMdUjhxWPcR"
      },
      "source": [
        "Además, se puede generar ruido determinista en TFF sin que se establezca explícitamente una semilla. La función `return_two_noise` en el siguiente fragmento de código devuelve dos valores de ruido idénticos. Este es el comportamiento esperado porque TFF creará un gráfico de cálculo antes de la ejecución. Sin embargo, esto sugiere que los usuarios deben prestar atención al uso de `tf.random.normal` en TFF."
      ]
    },
    {
      "cell_type": "markdown",
      "metadata": {
        "id": "Wk0UhmhuYtr8"
      },
      "source": [
        "### Uso prudente: `tf.random.Generator`\n",
        "\n",
        "Podemos usar `tf.random.Generator` como se sugiere en el [tutorial de TF](https://www.tensorflow.org/guide/random_numbers). "
      ]
    },
    {
      "cell_type": "code",
      "execution_count": null,
      "metadata": {
        "id": "SuYiH7n5ZTej"
      },
      "outputs": [
        {
          "name": "stdout",
          "output_type": "stream",
          "text": [
            "0.3052047 -0.38260335\n"
          ]
        }
      ],
      "source": [
        "@tff.tf_computation\n",
        "def tff_return_one_noise(i):\n",
        "  g=tf.random.Generator.from_seed(i)\n",
        "  @tf.function\n",
        "  def tf_return_one_noise():\n",
        "    return g.normal([])\n",
        "  return tf_return_one_noise()\n",
        "\n",
        "@tff.federated_computation\n",
        "def return_two_noise():\n",
        "  return (tff_return_one_noise(1), tff_return_one_noise(2))\n",
        "\n",
        "n1, n2 = return_two_noise() \n",
        "assert n1 != n2\n",
        "print(n1, n2)"
      ]
    },
    {
      "cell_type": "markdown",
      "metadata": {
        "id": "HU8tKbmvqN_w"
      },
      "source": [
        "Sin embargo, es posible que los usuarios deban tener cuidado con su uso.\n",
        "\n",
        "- `tf.random.Generator` usa `tf.Variable` para mantener los estados de los algoritmos RNG. En TFF, se recomienda construir el generador dentro de `tff.tf_computation`; y es difícil pasar el generador y su estado entre funciones `tff.tf_computation`.\n",
        "- El fragmento de código anterior también se basa en la cuidadosa colocación de semillas en los generadores. Es posible que obtengamos resultados esperados pero sorprendentes (`n1==n2` deterministas) si en su lugar usamos `tf.random.Generator.from_non_deterministic_state()`.\n",
        "\n",
        "En general, TFF prefiere las operaciones funcionales y mostraremos el uso de las funciones `tf.random.stateless_*` en las siguientes secciones."
      ]
    },
    {
      "cell_type": "markdown",
      "metadata": {
        "id": "pImReFSuIaCq"
      },
      "source": [
        "En TFF para el aprendizaje federado, a menudo trabajamos con estructuras anidadas en lugar de escalares y el fragmento de código anterior se puede extender sin problemas a estructuras anidadas."
      ]
    },
    {
      "cell_type": "code",
      "execution_count": null,
      "metadata": {
        "id": "B45urU98Fb8U"
      },
      "outputs": [
        {
          "name": "stdout",
          "output_type": "stream",
          "text": [
            "n1 [array([[0.3052047 , 0.5671378 ],\n",
            "       [0.41852272, 0.2326421 ]], dtype=float32), array([1.1675092], dtype=float32)]\n",
            "n2 [array([[-0.38260335, -0.4780486 ],\n",
            "       [-0.5187485 , -1.8471988 ]], dtype=float32), array([-0.77835274], dtype=float32)]\n"
          ]
        }
      ],
      "source": [
        "@tff.tf_computation\n",
        "def tff_return_one_noise(i):\n",
        "  g=tf.random.Generator.from_seed(i)\n",
        "  weights = [\n",
        "         tf.ones([2, 2], dtype=tf.float32),\n",
        "         tf.constant([2], dtype=tf.float32)\n",
        "     ]\n",
        "  @tf.function\n",
        "  def tf_return_one_noise():\n",
        "    return tf.nest.map_structure(lambda x: g.normal(tf.shape(x)), weights)\n",
        "  return tf_return_one_noise()\n",
        "\n",
        "@tff.federated_computation\n",
        "def return_two_noise():\n",
        "  return (tff_return_one_noise(1), tff_return_one_noise(2))\n",
        "\n",
        "n1, n2 = return_two_noise() \n",
        "assert n1[1] != n2[1]\n",
        "print('n1', n1)\n",
        "print('n2', n2)"
      ]
    },
    {
      "cell_type": "markdown",
      "metadata": {
        "id": "aMLslYfa76cm"
      },
      "source": [
        "### Uso recomendado: `tf.random.stateless_*` con un ayudante\n"
      ]
    },
    {
      "cell_type": "markdown",
      "metadata": {
        "id": "TnyhlV0fIxYR"
      },
      "source": [
        "En TFF se suele recomendar el uso de las funciones funcionales `tf.random.stateless_*` para la generación de ruido aleatorio. Estas funciones toman `seed` (un tensor con forma `[2]` o una `tuple` de dos tensores escalares) como argumento de entrada explícito para generar ruido aleatorio. Primero definimos una clase ayudante para mantener la semilla como pseudoestado. El ayudante `RandomSeedGenerator` tiene operadores funcionales en estado dentro y fuera. Es razonable utilizar un contador como pseudoestado para `tf.random.stateless_*` ya que estas funciones [codifican](https://github.com/tensorflow/tensorflow/blob/919f693420e35d00c8d0a42100837ae3718f7927/tensorflow/core/kernels/stateless_random_ops.cc#L50-L64) la semilla antes de usarla para hacer que los ruidos generados por semillas correlacionadas no estén estadísticamente correlacionados."
      ]
    },
    {
      "cell_type": "code",
      "execution_count": null,
      "metadata": {
        "id": "NF1gaMgrKdwU"
      },
      "outputs": [],
      "source": [
        "def timestamp_seed():\n",
        "  # tf.timestamp returns microseconds as decimal places, thus scaling by 1e6.\n",
        "  return tf.cast(tf.timestamp() * 1e6, tf.int64)\n",
        "\n",
        "class RandomSeedGenerator():\n",
        "\n",
        "  def initialize(self, seed=None):\n",
        "    if seed is None:\n",
        "      return tf.stack([timestamp_seed(), 0])\n",
        "    else:\n",
        "      return tf.constant(self.seed, dtype=tf.int64, shape=(2,))\n",
        "\n",
        "  def next(self, state):\n",
        "    return state + tf.constant([0, 1], tf.int64)\n",
        "\n",
        "  def structure_next(self, state, nest_structure):\n",
        "    \"Returns seed in nested structure and the next state seed.\"\n",
        "    flat_structure = tf.nest.flatten(nest_structure)\n",
        "    flat_seeds = [state + tf.constant([0, i], tf.int64) for\n",
        "                  i in range(len(flat_structure))]\n",
        "    nest_seeds = tf.nest.pack_sequence_as(nest_structure, flat_seeds)\n",
        "    return nest_seeds, flat_seeds[-1] + tf.constant([0, 1], tf.int64)"
      ]
    },
    {
      "cell_type": "markdown",
      "metadata": {
        "id": "x9kc6G0RIATV"
      },
      "source": [
        "Ahora usemos la clase ayudante y `tf.random.stateless_normal` para generar (estructura anidada de) ruido aleatorio en TFF. El siguiente fragmento de código se parece mucho a un proceso iterativo de TFF; consulte [simple_fedavg](https://github.com/tensorflow/federated/blob/main/tensorflow_federated/examples/simple_fedavg/simple_fedavg_tff.py) como ejemplo de expresión del algoritmo de aprendizaje federado como un proceso iterativo de TFF. Aquí, el pseudoestado semilla para la generación de ruido aleatorio es `tf.Tensor` que se puede transportar fácilmente en funciones de TFF y de TF."
      ]
    },
    {
      "cell_type": "code",
      "execution_count": null,
      "metadata": {
        "id": "2dZn7LtjL_hk"
      },
      "outputs": [
        {
          "name": "stdout",
          "output_type": "stream",
          "text": [
            "n1 [array([[ 0.86828816,  0.8535084 ],\n",
            "       [ 1.0053564 , -0.42096713]], dtype=float32), array([0.18048067], dtype=float32)]\n",
            "n2 [array([[-1.1973879 , -0.2974589 ],\n",
            "       [ 1.8309833 ,  0.17024393]], dtype=float32), array([0.68991095], dtype=float32)]\n"
          ]
        }
      ],
      "source": [
        "@tff.tf_computation\n",
        "def tff_return_one_noise(seed_state):\n",
        "  g=RandomSeedGenerator()\n",
        "  weights = [\n",
        "         tf.ones([2, 2], dtype=tf.float32),\n",
        "         tf.constant([2], dtype=tf.float32)\n",
        "     ]\n",
        "  @tf.function\n",
        "  def tf_return_one_noise():\n",
        "    nest_seeds, updated_state = g.structure_next(seed_state, weights)\n",
        "    nest_noise = tf.nest.map_structure(lambda x,s: tf.random.stateless_normal(\n",
        "        shape=tf.shape(x), seed=s), weights, nest_seeds)\n",
        "    return nest_noise, updated_state\n",
        "  return tf_return_one_noise()\n",
        "\n",
        "@tff.tf_computation\n",
        "def tff_init_state():\n",
        "  g=RandomSeedGenerator()\n",
        "  return g.initialize()\n",
        "\n",
        "@tff.federated_computation\n",
        "def return_two_noise():\n",
        "  seed_state = tff_init_state()\n",
        "  n1, seed_state = tff_return_one_noise(seed_state)\n",
        "  n2, seed_state = tff_return_one_noise(seed_state)\n",
        "  return (n1, n2)\n",
        "\n",
        "n1, n2 = return_two_noise() \n",
        "assert n1[1] != n2[1]\n",
        "print('n1', n1)\n",
        "print('n2', n2)"
      ]
    }
  ],
  "metadata": {
    "colab": {
      "collapsed_sections": [],
      "name": "random_noise_generation.ipynb",
      "toc_visible": true
    },
    "kernelspec": {
      "display_name": "Python 3",
      "name": "python3"
    }
  },
  "nbformat": 4,
  "nbformat_minor": 0
}
