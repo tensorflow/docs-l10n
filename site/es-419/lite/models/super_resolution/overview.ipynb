{
  "cells": [
    {
      "cell_type": "markdown",
      "metadata": {
        "id": "JfOIB1KdkbYW"
      },
      "source": [
        "##### Copyright 2020 The TensorFlow Authors."
      ]
    },
    {
      "cell_type": "code",
      "execution_count": null,
      "metadata": {
        "cellView": "form",
        "id": "Ojb0aXCmBgo7"
      },
      "outputs": [],
      "source": [
        "#@title Licensed under the Apache License, Version 2.0 (the \"License\");\n",
        "# you may not use this file except in compliance with the License.\n",
        "# You may obtain a copy of the License at\n",
        "#\n",
        "# https://www.apache.org/licenses/LICENSE-2.0\n",
        "#\n",
        "# Unless required by applicable law or agreed to in writing, software\n",
        "# distributed under the License is distributed on an \"AS IS\" BASIS,\n",
        "# WITHOUT WARRANTIES OR CONDITIONS OF ANY KIND, either express or implied.\n",
        "# See the License for the specific language governing permissions and\n",
        "# limitations under the License."
      ]
    },
    {
      "cell_type": "markdown",
      "metadata": {
        "id": "M9Y4JZ0ZGoE4"
      },
      "source": [
        "# Superresolución con TensorFlow Lite"
      ]
    },
    {
      "cell_type": "markdown",
      "metadata": {
        "id": "q3FoFSLBjIYK"
      },
      "source": [
        "<table class=\"tfo-notebook-buttons\" align=\"left\">\n",
        "  <td><a target=\"_blank\" href=\"https://www.tensorflow.org/lite/examples/super_resolution/overview\"><img src=\"https://www.tensorflow.org/images/tf_logo_32px.png\">Ver en TensorFlow.org</a></td>\n",
        "  <td><a target=\"_blank\" href=\"https://colab.research.google.com/github/tensorflow/docs-l10n/blob/master/site/es-419/lite/models/super_resolution/overview.ipynb\"><img src=\"https://www.tensorflow.org/images/colab_logo_32px.png\">Ejecutar en Google Colab</a></td>\n",
        "  <td>     <a target=\"_blank\" href=\"https://github.com/tensorflow/docs-l10n/blob/master/site/es-419/lite/models/super_resolution/overview.ipynb\"><img src=\"https://www.tensorflow.org/images/GitHub-Mark-32px.png\">Ver fuente en GitHub</a>\n",
        "</td>\n",
        "  <td><a href=\"https://storage.googleapis.com/tensorflow_docs/docs-l10n/site/es-419/lite/models/super_resolution/overview.ipynb\"><img src=\"https://www.tensorflow.org/images/download_logo_32px.png\">Descargar bloc de notas</a></td>\n",
        "  <td>     <a href=\"https://tfhub.dev/captain-pool/esrgan-tf2/1\"><img src=\"https://www.tensorflow.org/images/hub_logo_32px.png\">Ver modelo de TF Hub</a>\n",
        "</td>\n",
        "</table>"
      ]
    },
    {
      "cell_type": "markdown",
      "metadata": {
        "id": "-uF3N4BbaMvA"
      },
      "source": [
        "## Visión general"
      ]
    },
    {
      "cell_type": "markdown",
      "metadata": {
        "id": "isbXET4vVHfu"
      },
      "source": [
        "La tarea de recuperar una imagen de alta resolución (HR) a partir de su homóloga de baja resolución suele referirse a la superresolución de imagen independiente (SISR).\n",
        "\n",
        "El modelo usado aquí es ESRGAN ([ESRGAN: Redes adversariales generativas de superresolución mejoradas](https://arxiv.org/abs/1809.00219)). Y vamos a usar TensorFlow Lite para ejecutar la inferencia sobre el modelo preentrenado.\n",
        "\n",
        "El modelo TFLite se convierte a partir de esta [implementación](https://tfhub.dev/captain-pool/esrgan-tf2/1) alojada en TF Hub. Tenga en cuenta que el modelo que convertimos sobremuestrea una imagen de baja resolución de 50 x 50 a una imagen de alta resolución de 200 x 200 (factor de escala=4). Si desea un tamaño de entrada o un factor de escala diferentes, deberá reconvertir o volver a entrenar el modelo original."
      ]
    },
    {
      "cell_type": "markdown",
      "metadata": {
        "id": "2dQlTqiffuoU"
      },
      "source": [
        "## Configuración"
      ]
    },
    {
      "cell_type": "markdown",
      "metadata": {
        "id": "qKyMtsGqu3zH"
      },
      "source": [
        "Instalemos primero las librerías necesarias."
      ]
    },
    {
      "cell_type": "code",
      "execution_count": null,
      "metadata": {
        "id": "7YTT1Rxsw3A9"
      },
      "outputs": [],
      "source": [
        "!pip install matplotlib tensorflow tensorflow-hub"
      ]
    },
    {
      "cell_type": "markdown",
      "metadata": {
        "id": "Clz5Kl97FswD"
      },
      "source": [
        "Importe las dependencias."
      ]
    },
    {
      "cell_type": "code",
      "execution_count": null,
      "metadata": {
        "id": "2xh1kvGEBjuP"
      },
      "outputs": [],
      "source": [
        "import tensorflow as tf\n",
        "import tensorflow_hub as hub\n",
        "import matplotlib.pyplot as plt\n",
        "print(tf.__version__)"
      ]
    },
    {
      "cell_type": "markdown",
      "metadata": {
        "id": "i5miVfL4kxTA"
      },
      "source": [
        "Descargue y convierta el modelo ESRGAN"
      ]
    },
    {
      "cell_type": "code",
      "execution_count": null,
      "metadata": {
        "id": "X5PvXIXRwvHj"
      },
      "outputs": [],
      "source": [
        "model = hub.load(\"https://tfhub.dev/captain-pool/esrgan-tf2/1\")\n",
        "concrete_func = model.signatures[tf.saved_model.DEFAULT_SERVING_SIGNATURE_DEF_KEY]\n",
        "\n",
        "@tf.function(input_signature=[tf.TensorSpec(shape=[1, 50, 50, 3], dtype=tf.float32)])\n",
        "def f(input):\n",
        "  return concrete_func(input);\n",
        "\n",
        "converter = tf.lite.TFLiteConverter.from_concrete_functions([f.get_concrete_function()], model)\n",
        "converter.optimizations = [tf.lite.Optimize.DEFAULT]\n",
        "tflite_model = converter.convert()\n",
        "\n",
        "# Save the TF Lite model.\n",
        "with tf.io.gfile.GFile('ESRGAN.tflite', 'wb') as f:\n",
        "  f.write(tflite_model)\n",
        "\n",
        "esrgan_model_path = './ESRGAN.tflite'"
      ]
    },
    {
      "cell_type": "markdown",
      "metadata": {
        "id": "jH5-xPkyUEqt"
      },
      "source": [
        "Descargue una imagen de prueba (cabeza de insecto)."
      ]
    },
    {
      "cell_type": "code",
      "execution_count": null,
      "metadata": {
        "id": "suWiStTWgK6e"
      },
      "outputs": [],
      "source": [
        "test_img_path = tf.keras.utils.get_file('lr.jpg', 'https://raw.githubusercontent.com/tensorflow/examples/master/lite/examples/super_resolution/android/app/src/main/assets/lr-1.jpg')"
      ]
    },
    {
      "cell_type": "markdown",
      "metadata": {
        "id": "rgQ4qRuFNpyW"
      },
      "source": [
        "## Genere una imagen de súper resolución usando TensorFlow Lite"
      ]
    },
    {
      "cell_type": "code",
      "execution_count": null,
      "metadata": {
        "id": "J9FV4btf02-2"
      },
      "outputs": [],
      "source": [
        "lr = tf.io.read_file(test_img_path)\n",
        "lr = tf.image.decode_jpeg(lr)\n",
        "lr = tf.expand_dims(lr, axis=0)\n",
        "lr = tf.cast(lr, tf.float32)\n",
        "\n",
        "# Load TFLite model and allocate tensors.\n",
        "interpreter = tf.lite.Interpreter(model_path=esrgan_model_path)\n",
        "interpreter.allocate_tensors()\n",
        "\n",
        "# Get input and output tensors.\n",
        "input_details = interpreter.get_input_details()\n",
        "output_details = interpreter.get_output_details()\n",
        "\n",
        "# Run the model\n",
        "interpreter.set_tensor(input_details[0]['index'], lr)\n",
        "interpreter.invoke()\n",
        "\n",
        "# Extract the output and postprocess it\n",
        "output_data = interpreter.get_tensor(output_details[0]['index'])\n",
        "sr = tf.squeeze(output_data, axis=0)\n",
        "sr = tf.clip_by_value(sr, 0, 255)\n",
        "sr = tf.round(sr)\n",
        "sr = tf.cast(sr, tf.uint8)"
      ]
    },
    {
      "cell_type": "markdown",
      "metadata": {
        "id": "EwddQrDUNQGO"
      },
      "source": [
        "## Visualice el resultado"
      ]
    },
    {
      "cell_type": "code",
      "execution_count": null,
      "metadata": {
        "id": "aasKuozt1gNd"
      },
      "outputs": [],
      "source": [
        "lr = tf.cast(tf.squeeze(lr, axis=0), tf.uint8)\n",
        "plt.figure(figsize = (1, 1))\n",
        "plt.title('LR')\n",
        "plt.imshow(lr.numpy());\n",
        "\n",
        "plt.figure(figsize=(10, 4))\n",
        "plt.subplot(1, 2, 1)        \n",
        "plt.title(f'ESRGAN (x4)')\n",
        "plt.imshow(sr.numpy());\n",
        "\n",
        "bicubic = tf.image.resize(lr, [200, 200], tf.image.ResizeMethod.BICUBIC)\n",
        "bicubic = tf.cast(bicubic, tf.uint8)\n",
        "plt.subplot(1, 2, 2)   \n",
        "plt.title('Bicubic')\n",
        "plt.imshow(bicubic.numpy());"
      ]
    },
    {
      "cell_type": "markdown",
      "metadata": {
        "id": "0kb-fkogObjq"
      },
      "source": [
        "## Puntos de referencia del rendimiento"
      ]
    },
    {
      "cell_type": "markdown",
      "metadata": {
        "id": "tNzdgpqTy5P3"
      },
      "source": [
        "Los números de referencia del rendimiento se generan con la herramienta [descrita aquí](https://www.tensorflow.org/lite/performance/benchmarks).\n",
        "\n",
        "<table>\n",
        "  <thead>\n",
        "    <tr>\n",
        "      <th>Nombre del modelo</th>\n",
        "      <th>Tamaño del modelo</th>\n",
        "      <th>Dispositivo</th>\n",
        "      <th>CPU</th>\n",
        "      <th>GPU</th>\n",
        "    </tr>\n",
        "  </thead>\n",
        "  <tr>\n",
        "    <td rowspan=\"3\">superresolución (ESRGAN)</td>\n",
        "    <td rowspan=\"3\">       4.8 Mb</td>\n",
        "    <td>Pixel 3</td>\n",
        "    <td>586.8 ms*</td>\n",
        "      <td>128.6 ms</td>\n",
        "  </tr>\n",
        "  <tr>\n",
        "     <td>Pixel 4</td>\n",
        "    <td>385.1 ms*</td>\n",
        "      <td>130.3 ms</td>\n",
        "  </tr>\n",
        "</table>\n",
        "\n",
        "**4 hilos usados*"
      ]
    }
  ],
  "metadata": {
    "colab": {
      "collapsed_sections": [],
      "name": "overview.ipynb",
      "toc_visible": true
    },
    "kernelspec": {
      "display_name": "Python 3",
      "name": "python3"
    }
  },
  "nbformat": 4,
  "nbformat_minor": 0
}
