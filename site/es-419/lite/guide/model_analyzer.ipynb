{
  "cells": [
    {
      "cell_type": "markdown",
      "metadata": {
        "id": "g_nWetWWd_ns"
      },
      "source": [
        "##### Copyright 2021 The TensorFlow Authors."
      ]
    },
    {
      "cell_type": "code",
      "execution_count": null,
      "metadata": {
        "cellView": "form",
        "id": "2pHVBk_seED1"
      },
      "outputs": [],
      "source": [
        "#@title Licensed under the Apache License, Version 2.0 (the \"License\");\n",
        "# you may not use this file except in compliance with the License.\n",
        "# You may obtain a copy of the License at\n",
        "#\n",
        "# https://www.apache.org/licenses/LICENSE-2.0\n",
        "#\n",
        "# Unless required by applicable law or agreed to in writing, software\n",
        "# distributed under the License is distributed on an \"AS IS\" BASIS,\n",
        "# WITHOUT WARRANTIES OR CONDITIONS OF ANY KIND, either express or implied.\n",
        "# See the License for the specific language governing permissions and\n",
        "# limitations under the License."
      ]
    },
    {
      "cell_type": "markdown",
      "metadata": {
        "id": "M7vSdG6sAIQn"
      },
      "source": [
        "# Analizador del modelo de TensorFlow"
      ]
    },
    {
      "cell_type": "markdown",
      "metadata": {
        "id": "fwc5GKHBASdc"
      },
      "source": [
        "<table class=\"tfo-notebook-buttons\" align=\"left\">\n",
        "  <td><a target=\"_blank\" href=\"https://www.tensorflow.org/lite/guide/model_analyzer\"><img src=\"https://www.tensorflow.org/images/tf_logo_32px.png\">Ver en TensorFlow.org</a></td>\n",
        "  <td><a target=\"_blank\" href=\"https://colab.research.google.com/github/tensorflow/docs-l10n/blob/master/site/es-419/lite/guide/model_analyzer.ipynb\"><img src=\"https://www.tensorflow.org/images/colab_logo_32px.png\">Ejecutar en Google Colab</a></td>\n",
        "  <td>     <a target=\"_blank\" href=\"https://github.com/tensorflow/docs-l10n/blob/master/site/es-419/lite/guide/model_analyzer.ipynb\"><img src=\"https://www.tensorflow.org/images/GitHub-Mark-32px.png\">Ver fuente en GitHub</a>\n",
        "</td>\n",
        "  <td><a href=\"https://storage.googleapis.com/tensorflow_docs/docs-l10n/site/es-419/lite/guide/model_analyzer.ipynb\"><img src=\"https://www.tensorflow.org/images/download_logo_32px.png\">Descargar el bloc de notas</a></td>\n",
        "</table>"
      ]
    },
    {
      "cell_type": "markdown",
      "metadata": {
        "id": "9ee074e4"
      },
      "source": [
        "La API del analizador de modelos TensorFlow Lite le ayuda a analizar modelos en formato TensorFlow Lite listando la estructura de un modelo.\n"
      ]
    },
    {
      "cell_type": "markdown",
      "metadata": {
        "id": "JKwW0VfDKMWS"
      },
      "source": [
        "## API del Analyzer del modelo\n",
        "\n",
        "La siguiente API está disponible para el Analyzer del modelo de TensorFlow Lite.\n",
        "\n",
        "```\n",
        "tf.lite.experimental.Analyzer.analyze(model_path=None,\n",
        "                                      model_content=None,\n",
        "                                      gpu_compatibility=False)\n",
        "```\n",
        "\n",
        "Puede encontrar los detalles de la API en https://www.tensorflow.org/api_docs/python/tf/lite/experimental/Analyzer o ejecutar `help(tf.lite.experimental.Analyzer.analyze)` desde una terminal Python.\n"
      ]
    },
    {
      "cell_type": "markdown",
      "metadata": {
        "id": "qi8Vk4_065jN"
      },
      "source": [
        "## Uso básico con un modelo Keras sencillo\n",
        "\n",
        "El siguiente código muestra el uso básico del Analyzer del Modelo. Muestra el contenido del modelo Keras convertido en contenido de modelo TFLite, formateado como un objeto flatbuffer."
      ]
    },
    {
      "cell_type": "code",
      "execution_count": null,
      "metadata": {
        "id": "_jkg6UNtdz8c"
      },
      "outputs": [],
      "source": [
        "import tensorflow as tf\n",
        "\n",
        "model = tf.keras.models.Sequential([\n",
        "  tf.keras.layers.Flatten(input_shape=(128, 128)),\n",
        "  tf.keras.layers.Dense(256, activation='relu'),\n",
        "  tf.keras.layers.Dropout(0.2),\n",
        "  tf.keras.layers.Dense(10)\n",
        "])\n",
        "\n",
        "fb_model = tf.lite.TFLiteConverter.from_keras_model(model).convert()\n",
        "\n",
        "tf.lite.experimental.Analyzer.analyze(model_content=fb_model)\n"
      ]
    },
    {
      "cell_type": "markdown",
      "metadata": {
        "id": "pe_ZU5Zy7PeH"
      },
      "source": [
        "## Uso básico con el modelo Keras MobileNetV3Large\n",
        "\n",
        "Esta API funciona con modelos de gran tamaño como MobileNetV3Large. Dado que la salida es grande, es posible que desee examinarla con su editor de texto favorito."
      ]
    },
    {
      "cell_type": "code",
      "execution_count": null,
      "metadata": {
        "id": "QFywJ_g56VW5"
      },
      "outputs": [],
      "source": [
        "model = tf.keras.applications.MobileNetV3Large()\n",
        "fb_model = tf.lite.TFLiteConverter.from_keras_model(model).convert()\n",
        "\n",
        "tf.lite.experimental.Analyzer.analyze(model_content=fb_model)"
      ]
    },
    {
      "cell_type": "markdown",
      "metadata": {
        "id": "4BGqG2j9yqRf"
      },
      "source": [
        "## Comprobar la compatibilidad de la GPU\n",
        "\n",
        "La API de ModelAnalyzer brinda una forma de comprobar la compatibilidad [del delegado de GPU](https://www.tensorflow.org/lite/performance/gpu) del modelo dado mediante la opción `gpu_compatibility=True`.\n"
      ]
    },
    {
      "cell_type": "markdown",
      "metadata": {
        "id": "sVGC1oX33RkV"
      },
      "source": [
        "### Caso 1: Cuando el modelo es incompatible\n",
        "\n",
        "El siguiente código muestra una forma de usar la opción `gpu_compatibility=True` para una simple función tf.function que usa `tf.slice` con un tensor 2D y `tf.cosh` que no son compatibles con el delegado de GPU.\n",
        "\n",
        "Verá una `GPU COMPATIBILITY WARNING` por cada nodo que tenga problemas de compatibilidad."
      ]
    },
    {
      "cell_type": "code",
      "execution_count": null,
      "metadata": {
        "id": "9GEg5plIzD-3"
      },
      "outputs": [],
      "source": [
        "import tensorflow as tf\n",
        "\n",
        "@tf.function(input_signature=[\n",
        "    tf.TensorSpec(shape=[4, 4], dtype=tf.float32)\n",
        "])\n",
        "def func(x):\n",
        "  return tf.cosh(x) + tf.slice(x, [1, 1], [1, 1])\n",
        "\n",
        "converter = tf.lite.TFLiteConverter.from_concrete_functions(\n",
        "    [func.get_concrete_function()], func)\n",
        "converter.target_spec.supported_ops = [\n",
        "    tf.lite.OpsSet.TFLITE_BUILTINS,\n",
        "    tf.lite.OpsSet.SELECT_TF_OPS,\n",
        "]\n",
        "fb_model = converter.convert()\n",
        "\n",
        "tf.lite.experimental.Analyzer.analyze(model_content=fb_model, gpu_compatibility=True)"
      ]
    },
    {
      "cell_type": "markdown",
      "metadata": {
        "id": "BFU7HYb_2a8M"
      },
      "source": [
        "### Caso 1: Cuando el modelo es compatible\n",
        "\n",
        "En este ejemplo, el modelo dado es compatible con el delegado de GPU.\n",
        "\n",
        "**Nota:** Aunque la herramienta no encuentra ningún problema de compatibilidad, no garantiza que su modelo funcione bien con el delegado de GPU en todos los dispositivos. Podría producirse alguna incompatibilidad en runtime, como la falta de la función `CL_DEVICE_IMAGE_SUPPORT` por parte del backend OpenGL objetivo.\n"
      ]
    },
    {
      "cell_type": "code",
      "execution_count": null,
      "metadata": {
        "id": "85RgG6tQ3ABT"
      },
      "outputs": [],
      "source": [
        "model = tf.keras.models.Sequential([\n",
        "  tf.keras.layers.Flatten(input_shape=(128, 128)),\n",
        "  tf.keras.layers.Dense(256, activation='relu'),\n",
        "  tf.keras.layers.Dropout(0.2),\n",
        "  tf.keras.layers.Dense(10)\n",
        "])\n",
        "\n",
        "fb_model = tf.lite.TFLiteConverter.from_keras_model(model).convert()\n",
        "\n",
        "tf.lite.experimental.Analyzer.analyze(model_content=fb_model, gpu_compatibility=True)"
      ]
    }
  ],
  "metadata": {
    "colab": {
      "collapsed_sections": [],
      "name": "model_analyzer.ipynb",
      "toc_visible": true
    },
    "kernelspec": {
      "display_name": "Python 3",
      "name": "python3"
    }
  },
  "nbformat": 4,
  "nbformat_minor": 0
}
