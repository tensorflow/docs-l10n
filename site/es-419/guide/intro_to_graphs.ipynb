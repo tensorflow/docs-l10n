{
  "cells": [
    {
      "cell_type": "markdown",
      "metadata": {
        "id": "N7ITxKLUkX0v"
      },
      "source": [
        "##### Copyright 2020 The TensorFlow Authors."
      ]
    },
    {
      "cell_type": "code",
      "execution_count": null,
      "metadata": {
        "cellView": "form",
        "id": "yOYx6tzSnWQ3"
      },
      "outputs": [],
      "source": [
        "#@title Licensed under the Apache License, Version 2.0 (the \"License\");\n",
        "# you may not use this file except in compliance with the License.\n",
        "# You may obtain a copy of the License at\n",
        "#\n",
        "# https://www.apache.org/licenses/LICENSE-2.0\n",
        "#\n",
        "# Unless required by applicable law or agreed to in writing, software\n",
        "# distributed under the License is distributed on an \"AS IS\" BASIS,\n",
        "# WITHOUT WARRANTIES OR CONDITIONS OF ANY KIND, either express or implied.\n",
        "# See the License for the specific language governing permissions and\n",
        "# limitations under the License."
      ]
    },
    {
      "cell_type": "markdown",
      "metadata": {
        "id": "6xgB0Oz5eGSQ"
      },
      "source": [
        "# Introduccion a los gráficos y la tf.function"
      ]
    },
    {
      "cell_type": "markdown",
      "metadata": {
        "id": "w4zzZVZtQb1w"
      },
      "source": [
        "<table class=\"tfo-notebook-buttons\" align=\"left\">\n",
        "  <td><a target=\"_blank\" href=\"https://www.tensorflow.org/guide/intro_to_graphs\"><img src=\"https://www.tensorflow.org/images/tf_logo_32px.png\">Ver en TensorFlow.org</a></td>\n",
        "  <td><a target=\"_blank\" href=\"https://colab.research.google.com/github/tensorflow/docs-l10n/blob/master/site/es-419/guide/intro_to_graphs.ipynb\"><img src=\"https://www.tensorflow.org/images/colab_logo_32px.png\">Ejecutar en Google Colab</a></td>\n",
        "  <td>     <a target=\"_blank\" href=\"https://github.com/tensorflow/docs-l10n/blob/master/site/es-419/guide/intro_to_graphs.ipynb\"><img src=\"https://www.tensorflow.org/images/GitHub-Mark-32px.png\">Ver código fuente en GitHub</a>\n",
        "</td>\n",
        "  <td>     <a href=\"https://storage.googleapis.com/tensorflow_docs/docs-l10n/site/es-419/guide/intro_to_graphs.ipynb\"><img src=\"https://www.tensorflow.org/images/download_logo_32px.png\">Descargar el bloc de notas</a>\n",
        "</td>\n",
        "</table>"
      ]
    },
    {
      "cell_type": "markdown",
      "metadata": {
        "id": "RBKqnXI9GOax"
      },
      "source": [
        "## Descripción general\n",
        "\n",
        "En está guía se explica TensorFlow y Keras en profundidad para demostrar cómo funciona TensorFlow. Si quiere empezar con Keras inmediatamente, vea la [colección de las guías de Keras](https://www.tensorflow.org/guide/keras/).\n",
        "\n",
        "En esta guía, aprenderá cómo TensorFlow permite hacer cambios simples en el código para obtener gráficos, cómo se almacenan y representan los gráficos y cómo puede usarlos para acelerar sus modelos.\n",
        "\n",
        "Nota: Para los que tengan conocimientos solo de TensorFlow 1.x, en esta guía se muestra una perspectiva muy diferente de los gráficos.\n",
        "\n",
        "**Esto es un panorama general que cubre cómo `tf.function` permite cambiar de una ejecución eager a una ejecución de gráfico.** Para ver todas las especificaciones de `tf.function`, vea la <a href=\"./function.ipynb\" data-md-type=\"link\">Guía para mejorar el rendimiento con `tf.function`</a>.\n"
      ]
    },
    {
      "cell_type": "markdown",
      "metadata": {
        "id": "v0DdlfacAdTZ"
      },
      "source": [
        "### ¿Qué son los gráficos?\n",
        "\n",
        "En las tres guías previas, puede ejecutar TensorFlow de forma **eager**. Esto quiere decir que las operaciones de TensorFlow se ejecutan con Python, operación por operación, y se devuelven los resultados en Python.\n",
        "\n",
        "Si bien la ejecución eager tiene muchas ventajas únicas, la ejecución con gráficos permite portabilidad fuera de Python y suele ofrecer un mejor rendimiento. **La ejecución de gráfico** significa que los cálculos del tensor se ejecutan como *gráfico de TensorFlow*, a veces denominado `tf.Graph` o simplemente \"gráfico.\"\n",
        "\n",
        "**Los gráficos son estructuras de datos que contienen un conjunto de objetos `tf.Operation` que representan unidades de cálculos; y objetos `tf.Tensor` que representan las unidades de datos que fluyen entre las operaciones.** Se definen en un contexto de `tf.Graph`. Ya que estos gráficos son estructuras de datos, pueden guardarse, ejecutarse y realmacenarse sin el código original de Python.\n",
        "\n",
        "Así se ve un gráfico de TensorFlow que representa una red neuronal de dos capas al visualizarse en TensorBoard:"
      ]
    },
    {
      "cell_type": "markdown",
      "metadata": {
        "id": "FvQ5aBuRGT1o"
      },
      "source": [
        "<img src=\"https://github.com/tensorflow/docs/blob/master/site/en/guide/images/intro_to_graphs/two-layer-network.png?raw=1\" alt=\"Un gráfico simple de TensorFlow\">"
      ]
    },
    {
      "cell_type": "markdown",
      "metadata": {
        "id": "DHpY3avXGITP"
      },
      "source": [
        "### Los beneficios de los gráficos\n",
        "\n",
        "Con un gráfico, se tiene mucha flexibilidad. Puede usar su gráfico de TensorFlow en entornos que no tengan intérprete de Python, como en aplicaciones móviles, dispositivos incrustados y servidores backend. TensorFlow usa los gráficos como el formato de los [modelos guardados](./saved_model.ipynb) cuando se exportan de Python.\n",
        "\n",
        "Los gráficos también pueden optimizarse fácilmente, lo que permite hacer transformaciones como las siguientes:\n",
        "\n",
        "- Inferir estadísticamente el valor de los tensores al plegar los nodos de constantes en el cálculo *(\"plegado de constantes\")*.\n",
        "- Separar subpartes de un cálculo que son independientes y dividirlas en subprocesos o dispositivos.\n",
        "- Simplificar las operaciones aritméticas mediante la eliminación de subexpresiones comunes.\n"
      ]
    },
    {
      "cell_type": "markdown",
      "metadata": {
        "id": "o1x1EOD9GjnB"
      },
      "source": [
        "Existe un sistema completo de optimización, [Grappler](./graph_optimization.ipynb), para hacer todo esto y otras aceleraciones.\n",
        "\n",
        "En resumen, los gráficos son muy útiles y permiten que TensorFlow se ejecute **rápido**, se ejecute **en paralelo** y de forma eficiente **en diferentes dispositivos**.\n",
        "\n",
        "Sin embargo, todavía es más convenienite definir los modelos de aprendizaje automátivo (o otros cálculos) en Python y después construir los gráficos automáticamente cuando los necesite."
      ]
    },
    {
      "cell_type": "markdown",
      "metadata": {
        "id": "k-6Qi0thw2i9"
      },
      "source": [
        "## Preparación"
      ]
    },
    {
      "cell_type": "markdown",
      "metadata": {
        "id": "0d1689fa928f"
      },
      "source": [
        "Importe algunas de las bibliotecas necesarias:"
      ]
    },
    {
      "cell_type": "code",
      "execution_count": null,
      "metadata": {
        "id": "goZwOXp_xyQj"
      },
      "outputs": [],
      "source": [
        "import tensorflow as tf\n",
        "import timeit\n",
        "from datetime import datetime"
      ]
    },
    {
      "cell_type": "markdown",
      "metadata": {
        "id": "pSZebVuWxDXu"
      },
      "source": [
        "## Aprovechar los gráficos\n",
        "\n",
        "Creará y ejecutará un gráfico en TensorFlow con `tf.function`, ya sea como una llamada directa o como un decorador. `tf.function` toma una función regular como entrada y devuelve una `Function`. <strong data-md-type=\"double_emphasis\">Una `Function` es un invocable de Python que construye gráficos de TensorFlow desde la función de Python. La `Function` se usa de la misma manera que se usa su equivalente de Python.</strong>\n"
      ]
    },
    {
      "cell_type": "code",
      "execution_count": null,
      "metadata": {
        "id": "HKbLeJ1y0Umi"
      },
      "outputs": [],
      "source": [
        "# Define a Python function.\n",
        "def a_regular_function(x, y, b):\n",
        "  x = tf.matmul(x, y)\n",
        "  x = x + b\n",
        "  return x\n",
        "\n",
        "# `a_function_that_uses_a_graph` is a TensorFlow `Function`.\n",
        "a_function_that_uses_a_graph = tf.function(a_regular_function)\n",
        "\n",
        "# Make some tensors.\n",
        "x1 = tf.constant([[1.0, 2.0]])\n",
        "y1 = tf.constant([[2.0], [3.0]])\n",
        "b1 = tf.constant(4.0)\n",
        "\n",
        "orig_value = a_regular_function(x1, y1, b1).numpy()\n",
        "# Call a `Function` like a Python function.\n",
        "tf_function_value = a_function_that_uses_a_graph(x1, y1, b1).numpy()\n",
        "assert(orig_value == tf_function_value)"
      ]
    },
    {
      "cell_type": "markdown",
      "metadata": {
        "id": "PNvuAYpdrTOf"
      },
      "source": [
        "Desde afuera, una `Function` se parece a una función normal que se escribe con las operaciones de TensorFlow. [Internamente](https://github.com/tensorflow/tensorflow/blob/master/tensorflow/python/eager/def_function.py), sin embargo, es *muy diferente*. Una `Function` **encapsula varios `tf.Graph` detrás de una API** (vea la sección de *Polimorfismo* para obtener más información). Es por eso que una `Function` le permite disfrutar de los beneficios de la ejecución de gráficos, como la velocidad e implementabilidad (consulte *Los beneficios de los gráficos* arriba)."
      ]
    },
    {
      "cell_type": "markdown",
      "metadata": {
        "id": "MT7U8ozok0gV"
      },
      "source": [
        "`tf.function` se aplica a una función *y a todas las otras funciones que llama*:"
      ]
    },
    {
      "cell_type": "code",
      "execution_count": null,
      "metadata": {
        "id": "rpz08iLplm9F"
      },
      "outputs": [],
      "source": [
        "def inner_function(x, y, b):\n",
        "  x = tf.matmul(x, y)\n",
        "  x = x + b\n",
        "  return x\n",
        "\n",
        "# Use the decorator to make `outer_function` a `Function`.\n",
        "@tf.function\n",
        "def outer_function(x):\n",
        "  y = tf.constant([[2.0], [3.0]])\n",
        "  b = tf.constant(4.0)\n",
        "\n",
        "  return inner_function(x, y, b)\n",
        "\n",
        "# Note that the callable will create a graph that\n",
        "# includes `inner_function` as well as `outer_function`.\n",
        "outer_function(tf.constant([[1.0, 2.0]])).numpy()"
      ]
    },
    {
      "cell_type": "markdown",
      "metadata": {
        "id": "P88fOr88qgCj"
      },
      "source": [
        "Si ya uso TensorFlow 1.x, habrá notado que no hace falta definir un `Placeholder` o un `tf.Session`."
      ]
    },
    {
      "cell_type": "markdown",
      "metadata": {
        "id": "wfeKf0Nr1OEK"
      },
      "source": [
        "### Convertir las funciones de Python en gráficos\n",
        "\n",
        "Cualquier función que escriba con TensorFlow tendrá una mezcla de operaciones TF y lógicas de Python integradas, tales como cláusulas `if-then`, bucles, `break`, `return`, `continue` y más. Mientras las operaciones de TensorFlow son capturadas fácilmente con `tf.Graph`, las lógicas específicas de Python necesitan un paso adicional para ser parte del gráfico. La `tf.function` usa una biblioteca llamada AutoGraph (`tf.autograph`) para convertir el código de Python en código generador de gráficos.\n"
      ]
    },
    {
      "cell_type": "code",
      "execution_count": null,
      "metadata": {
        "id": "PFObpff1BMEb"
      },
      "outputs": [],
      "source": [
        "def simple_relu(x):\n",
        "  if tf.greater(x, 0):\n",
        "    return x\n",
        "  else:\n",
        "    return 0\n",
        "\n",
        "# `tf_simple_relu` is a TensorFlow `Function` that wraps `simple_relu`.\n",
        "tf_simple_relu = tf.function(simple_relu)\n",
        "\n",
        "print(\"First branch, with graph:\", tf_simple_relu(tf.constant(1)).numpy())\n",
        "print(\"Second branch, with graph:\", tf_simple_relu(tf.constant(-1)).numpy())"
      ]
    },
    {
      "cell_type": "markdown",
      "metadata": {
        "id": "hO4DBUNZBMwQ"
      },
      "source": [
        "Si bien es poco probable que necesite ver los gráficos de forma directa, puede inspeccionar las salidas para verificar los resultados exactos. No son fáciles de leer, así que no es necesario mirar con tanta atención."
      ]
    },
    {
      "cell_type": "code",
      "execution_count": null,
      "metadata": {
        "id": "lAKaat3w0gnn"
      },
      "outputs": [],
      "source": [
        "# This is the graph-generating output of AutoGraph.\n",
        "print(tf.autograph.to_code(simple_relu))"
      ]
    },
    {
      "cell_type": "code",
      "execution_count": null,
      "metadata": {
        "id": "8x6RAqza1UWf"
      },
      "outputs": [],
      "source": [
        "# This is the graph itself.\n",
        "print(tf_simple_relu.get_concrete_function(tf.constant(1)).graph.as_graph_def())"
      ]
    },
    {
      "cell_type": "markdown",
      "metadata": {
        "id": "GZ4Ieg6tBE6l"
      },
      "source": [
        "La mayoría de las veces, la `tf.function` funciona sin consideraciones especiales. Sin embargo, hay que tener algunas precauciones y la <a href=\"./function.ipynb\" data-md-type=\"link\">guía de `tf.function`</a> puede ser útil, así como también la [referencia completa de AutoGraph](https://github.com/tensorflow/tensorflow/blob/master/tensorflow/python/autograph/g3doc/reference/index.md)."
      ]
    },
    {
      "cell_type": "markdown",
      "metadata": {
        "id": "sIpc_jfjEZEg"
      },
      "source": [
        "### Polimorfismo: una `Function`, muchos gráficos\n",
        "\n",
        "Un `tf.Graph` se especializa en un tipo específico de entradas (por ejemplo, tensores con un [`dtype`](https://www.tensorflow.org/api_docs/python/tf/dtypes/DType) específico u objetos con el mismo [`id()`](https://docs.python.org/3/library/functions.html#id%5D)).\n",
        "\n",
        "Cada vez que se invoca una `Function` con un conjunto de argumentos que pueden manipularse con cualquiera de sus gráficos existentes (como argumentos con un `dtypes` nuevo o formas incompatibles), la  `Function` crea un nuevo `tf.Graph` especializado en los nuevos argumentos. La especificación del tipo de las entradas de un `tf.Graph` se conoce como su **signatura de entrada** o solo **signatura**. Para obtener más información sobre cuando se genera un `tf.Graph` nuevo como controlarlo, vea la sección *Reglas de trazado* de la guía [Mejor rendimiento con `tf.function`](./function.ipynb).\n",
        "\n",
        "La `Function` almacena el `tf.Graph` que corresponde a esa signatura en un `ConcreteFunction`. <strong data-md-type=\"double_emphasis\">Un `ConcreteFunction` es un encapsulador del `tf.Graph`.</strong>\n"
      ]
    },
    {
      "cell_type": "code",
      "execution_count": null,
      "metadata": {
        "id": "LOASwhbvIv_T"
      },
      "outputs": [],
      "source": [
        "@tf.function\n",
        "def my_relu(x):\n",
        "  return tf.maximum(0., x)\n",
        "\n",
        "# `my_relu` creates new graphs as it observes more signatures.\n",
        "print(my_relu(tf.constant(5.5)))\n",
        "print(my_relu([1, -1]))\n",
        "print(my_relu(tf.constant([3., -3.])))"
      ]
    },
    {
      "cell_type": "markdown",
      "metadata": {
        "id": "1qRtw7R4KL9X"
      },
      "source": [
        "Si la `Function` ya fue llamada con esa signatura, la `Function` no crea un `tf.Graph` nuevo."
      ]
    },
    {
      "cell_type": "code",
      "execution_count": null,
      "metadata": {
        "id": "TjjbnL5OKNDP"
      },
      "outputs": [],
      "source": [
        "# These two calls do *not* create new graphs.\n",
        "print(my_relu(tf.constant(-2.5))) # Signature matches `tf.constant(5.5)`.\n",
        "print(my_relu(tf.constant([-1., 1.]))) # Signature matches `tf.constant([3., -3.])`."
      ]
    },
    {
      "cell_type": "markdown",
      "metadata": {
        "id": "UohRmexhIpvQ"
      },
      "source": [
        "Debido a que tiene varios gráficos de respaldo, una `Function` es **polimórfica**. Esto permite que se admitan más tipos de entrada que las que un simple `tf.Graph` puede representar y que se optimice cada `tf.Graph` para un mejor rendimiento."
      ]
    },
    {
      "cell_type": "code",
      "execution_count": null,
      "metadata": {
        "id": "dxzqebDYFmLy"
      },
      "outputs": [],
      "source": [
        "# There are three `ConcreteFunction`s (one for each graph) in `my_relu`.\n",
        "# The `ConcreteFunction` also knows the return type and shape!\n",
        "print(my_relu.pretty_printed_concrete_signatures())"
      ]
    },
    {
      "cell_type": "markdown",
      "metadata": {
        "id": "V11zkxU22XeD"
      },
      "source": [
        "## Usar `tf.function`\n",
        "\n",
        "Hasta este punto ha aprendido a convertir la función de Python en un gráfico de forma simple usando `tf.function` como un decorador o encapsulador. Pero en la práctica, hacer que `tf.function` funcione de forma correcta puede ser complicado. En la siguiente sección, aprenderá cómo hacer que su código funcione con `tf.function` como debe ser."
      ]
    },
    {
      "cell_type": "markdown",
      "metadata": {
        "id": "yp_n0B5-P0RU"
      },
      "source": [
        "### Ejecución de gráfico versus ejecución eager\n",
        "\n",
        "Se puede ejecutar el código en una `Function` de forma eager y como un gráfico. De forma predeterminada, la `Function` ejecuta su código como un gráfico:\n"
      ]
    },
    {
      "cell_type": "code",
      "execution_count": null,
      "metadata": {
        "id": "_R0BOvBFxqVZ"
      },
      "outputs": [],
      "source": [
        "@tf.function\n",
        "def get_MSE(y_true, y_pred):\n",
        "  sq_diff = tf.pow(y_true - y_pred, 2)\n",
        "  return tf.reduce_mean(sq_diff)"
      ]
    },
    {
      "cell_type": "code",
      "execution_count": null,
      "metadata": {
        "id": "zikMVPGhmDET"
      },
      "outputs": [],
      "source": [
        "y_true = tf.random.uniform([5], maxval=10, dtype=tf.int32)\n",
        "y_pred = tf.random.uniform([5], maxval=10, dtype=tf.int32)\n",
        "print(y_true)\n",
        "print(y_pred)"
      ]
    },
    {
      "cell_type": "code",
      "execution_count": null,
      "metadata": {
        "id": "07r08Dh158ft"
      },
      "outputs": [],
      "source": [
        "get_MSE(y_true, y_pred)"
      ]
    },
    {
      "cell_type": "markdown",
      "metadata": {
        "id": "cyZNCRcQorGO"
      },
      "source": [
        "Para verificar que el gráfico de `Function` realice el mismo cálculo que su función equivalente de Python, puede ejecutarlo en eager con `tf.config.run_functions_eagerly(True)`. Este es un cambio que <strong data-md-type=\"double_emphasis\">desactiva la capacidad de `Function` para crear y ejecutar gráficos</strong>, en vez de ejecutar el código normalmente."
      ]
    },
    {
      "cell_type": "code",
      "execution_count": null,
      "metadata": {
        "id": "lKoF6NjPoI8w"
      },
      "outputs": [],
      "source": [
        "tf.config.run_functions_eagerly(True)"
      ]
    },
    {
      "cell_type": "code",
      "execution_count": null,
      "metadata": {
        "id": "9ZLqTyn0oKeM"
      },
      "outputs": [],
      "source": [
        "get_MSE(y_true, y_pred)"
      ]
    },
    {
      "cell_type": "code",
      "execution_count": null,
      "metadata": {
        "id": "cV7daQW9odn-"
      },
      "outputs": [],
      "source": [
        "# Don't forget to set it back when you are done.\n",
        "tf.config.run_functions_eagerly(False)"
      ]
    },
    {
      "cell_type": "markdown",
      "metadata": {
        "id": "DKT3YBsqy0x4"
      },
      "source": [
        "Por el contrario, `Function` puede comportarse diferente en una ejecución de gráfico o eager. La función [`print`](https://docs.python.org/3/library/functions.html#print) de Python es un ejemplo de cómo difieren los dos modos. Veamos qué pasa cuando se inserta la declaración `print` en su función y la llamamos repetidamente."
      ]
    },
    {
      "cell_type": "code",
      "execution_count": null,
      "metadata": {
        "id": "BEJeVeBEoGjV"
      },
      "outputs": [],
      "source": [
        "@tf.function\n",
        "def get_MSE(y_true, y_pred):\n",
        "  print(\"Calculating MSE!\")\n",
        "  sq_diff = tf.pow(y_true - y_pred, 2)\n",
        "  return tf.reduce_mean(sq_diff)"
      ]
    },
    {
      "cell_type": "markdown",
      "metadata": {
        "id": "3sWTGwX3BzP1"
      },
      "source": [
        "Observe lo que se imprime:"
      ]
    },
    {
      "cell_type": "code",
      "execution_count": null,
      "metadata": {
        "id": "3rJIeBg72T9n"
      },
      "outputs": [],
      "source": [
        "error = get_MSE(y_true, y_pred)\n",
        "error = get_MSE(y_true, y_pred)\n",
        "error = get_MSE(y_true, y_pred)"
      ]
    },
    {
      "cell_type": "markdown",
      "metadata": {
        "id": "WLMXk1uxKQ44"
      },
      "source": [
        "¿Le sorprende la salida? **`get_MSE` solo se imprimió una vez a pesar de haberlo llamado *tres* veces.**\n",
        "\n",
        "Esto es así, la declaración `print` se ejecuta cuando `Function` ejecuta el código original para crear un gráfico en un proceso conocido como \"trazado\" (consulte la sección de *Trazado* de la guía de [`tf.function`](./function.ipynb). <strong data-md-type=\"double_emphasis\">El trazado captura las operaciones de TensorFlow en un gráfico y `print` no se incluye en el gráfico.</strong> Este gráfico luego se ejecuta para las tres llamadas **sin tener que ejecutar el código de Python de nuevo**.\n",
        "\n",
        "Para comprobarlo, desactivaremos la ejecución de gráfico para comparar:"
      ]
    },
    {
      "cell_type": "code",
      "execution_count": null,
      "metadata": {
        "id": "oFSxRtcptYpe"
      },
      "outputs": [],
      "source": [
        "# Now, globally set everything to run eagerly to force eager execution.\n",
        "tf.config.run_functions_eagerly(True)"
      ]
    },
    {
      "cell_type": "code",
      "execution_count": null,
      "metadata": {
        "id": "qYxrAtvzNgHR"
      },
      "outputs": [],
      "source": [
        "# Observe what is printed below.\n",
        "error = get_MSE(y_true, y_pred)\n",
        "error = get_MSE(y_true, y_pred)\n",
        "error = get_MSE(y_true, y_pred)"
      ]
    },
    {
      "cell_type": "code",
      "execution_count": null,
      "metadata": {
        "id": "_Df6ynXcAaup"
      },
      "outputs": [],
      "source": [
        "tf.config.run_functions_eagerly(False)"
      ]
    },
    {
      "cell_type": "markdown",
      "metadata": {
        "id": "PUR7qC_bquCn"
      },
      "source": [
        "`print` es un *efecto secundario de Python*, y hay otras diferencias que debería tener en cuenta al convertir una función en `Function`. Puede obtener más información en la sección de *Limitaciones* de la guía [Mejor rendimiento con `tf.function`](./function.ipynb)."
      ]
    },
    {
      "cell_type": "markdown",
      "metadata": {
        "id": "oTZJfV_tccVp"
      },
      "source": [
        "Nota: si quiere imprimir valores en ambas ejecuciones, eager y de gráfico, mejor use `tf.print`."
      ]
    },
    {
      "cell_type": "markdown",
      "metadata": {
        "id": "rMT_Xf5yKn9o"
      },
      "source": [
        "### Ejecución no estricta\n",
        "\n",
        "<a id=\"non-strict\"></a>\n",
        "\n",
        "La ejecución de gráfico solo ejecuta las operaciones necesarias para producir los efectos observables, entre ellas se encuentra:\n",
        "\n",
        "- El valor de retorno de la función\n",
        "- Los efectos secundarios más conocidos documentados como:\n",
        "    - Las operaciones de entrada o de salida, como `tf.print`\n",
        "    - Operaciones de depuración, como las funciones de aserción en `tf.debugging`\n",
        "    - Mutaciones de `tf.Variable`\n",
        "\n",
        "Este comportamiento se conoce normalemente como \"ejecución no estricta\" y es diferente a la ejecución eager, que recorre paso a paso todas las operaciones del programa, sean necesarias o no.\n",
        "\n",
        "Particularmente, la verificación del error de tiempo de ejecución no cuenta como efecto obervable. Si se omite una operación porque no es necesaria, no se provoca ningún error en el tiempo de ejecución.\n",
        "\n",
        "En el siguiente ejemplo, se omite la operación \"innecesaria\"`tf.gather` durante la ejecución de gráfico, por eso no se provoca un error de ejecución `InvalidArgumentError` ya que sería en una ejecución eager. No espere que ocurra un error al ejecutar un gráfico."
      ]
    },
    {
      "cell_type": "code",
      "execution_count": null,
      "metadata": {
        "id": "OdN0nKlUwj7M"
      },
      "outputs": [],
      "source": [
        "def unused_return_eager(x):\n",
        "  # Get index 1 will fail when `len(x) == 1`\n",
        "  tf.gather(x, [1]) # unused \n",
        "  return x\n",
        "\n",
        "try:\n",
        "  print(unused_return_eager(tf.constant([0.0])))\n",
        "except tf.errors.InvalidArgumentError as e:\n",
        "  # All operations are run during eager execution so an error is raised.\n",
        "  print(f'{type(e).__name__}: {e}')"
      ]
    },
    {
      "cell_type": "code",
      "execution_count": null,
      "metadata": {
        "id": "d80Fob4MwhTs"
      },
      "outputs": [],
      "source": [
        "@tf.function\n",
        "def unused_return_graph(x):\n",
        "  tf.gather(x, [1]) # unused\n",
        "  return x\n",
        "\n",
        "# Only needed operations are run during graph execution. The error is not raised.\n",
        "print(unused_return_graph(tf.constant([0.0])))"
      ]
    },
    {
      "cell_type": "markdown",
      "metadata": {
        "id": "def6MupG9R0O"
      },
      "source": [
        "### Mejores prácticas de `tf.function`\n",
        "\n",
        "Es posible que lleve un tiempo acostumbrarse al comportamiento de `Function`.  Para empezar rápidamente, los usuarios que lo usan por primera vez, deberían probar decorando funciones de juguete con `@tf.function` para obtener experiencia al cambiar de la ejecución eager a la de gráfico.\n",
        "\n",
        "*Diseñar para `tf.function`* puede ser lo mejor para escribir programas de TensorFlow que sean compatibles con gráficos. Estas son algunas recomendaciones:\n",
        "\n",
        "- Alterne entre la ejecución eager y de gráfico pronto y con frecuencia con `tf.config.run_functions_eagerly` para identificar cuando difieren, si difieren, los dos modos.\n",
        "- Cree unas `tf.Variable` fuera de la función de Python y modifíquelas internamente. Haga lo mismo con los objetos que usan `tf.Variable`, como los `tf.keras.layers`, `tf.keras.Model` y `tf.keras.optimizers`.\n",
        "- Evite escribir funciones que dependan de las variables de Python, excluya la `tf.Variable` y los objetos de Keras. Obtenga más información en la sección *Depender de las variables globales y gratis de Python * de la [guía de `tf.function`](./function.ipynb).\n",
        "- Opte por escribir funciones que tomen tensores y otros tipos de TensorFlow como entrada. También puede pasar otros tipos de objetos pero tenga cuidado. Para obtener más información, vea *Depender de objetos de Python* de la [guía de `tf.function`](./function.ipynb).\n",
        "- Incluya todos los cálculos que pueda en `tf.function` para maximizar la ganancia de rendimiento. Por ejemplo, decore un paso de entrenamiento completo o todo un bucle de entrenamiento.\n"
      ]
    },
    {
      "cell_type": "markdown",
      "metadata": {
        "id": "ViM3oBJVJrDx"
      },
      "source": [
        "## Observar la aceleración"
      ]
    },
    {
      "cell_type": "markdown",
      "metadata": {
        "id": "A6NHDp7vAKcJ"
      },
      "source": [
        "`tf.function` suele mejorar el rendimiento del código, pero la cantidad de aceleración depende del tipo de cálculo que se ejecute. Los calculos pequeños pueden se dominados por la sobrecarga de llamar un gráfico. Puede medir la diferencia en el rendimiento de la siguiente manera:"
      ]
    },
    {
      "cell_type": "code",
      "execution_count": null,
      "metadata": {
        "id": "jr7p1BBjauPK"
      },
      "outputs": [],
      "source": [
        "x = tf.random.uniform(shape=[10, 10], minval=-1, maxval=2, dtype=tf.dtypes.int32)\n",
        "\n",
        "def power(x, y):\n",
        "  result = tf.eye(10, dtype=tf.dtypes.int32)\n",
        "  for _ in range(y):\n",
        "    result = tf.matmul(x, result)\n",
        "  return result"
      ]
    },
    {
      "cell_type": "code",
      "execution_count": null,
      "metadata": {
        "id": "ms2yJyAnUYxK"
      },
      "outputs": [],
      "source": [
        "print(\"Eager execution:\", timeit.timeit(lambda: power(x, 100), number=1000), \"seconds\")"
      ]
    },
    {
      "cell_type": "code",
      "execution_count": null,
      "metadata": {
        "id": "gUB2mTyRYRAe"
      },
      "outputs": [],
      "source": [
        "power_as_graph = tf.function(power)\n",
        "print(\"Graph execution:\", timeit.timeit(lambda: power_as_graph(x, 100), number=1000), \"seconds\")"
      ]
    },
    {
      "cell_type": "markdown",
      "metadata": {
        "id": "Q1Pfo5YwwILi"
      },
      "source": [
        "Generalmente, `tf.function` se usa para acelerar los bucles de entrenamiento, y puede obtener más información sobre esto en la sección <em data-md-type=\"emphasis\">Acelerar el entrenamiento con `tf.function`</em> de la guía [Escribir un bucle de entrenamiento desde cero](https://www.tensorflow.org/guide/keras/writing_a_training_loop_from_scratch) con Keras.\n",
        "\n",
        "Nota: También puede probar `tf.function(jit_compile=True)` para potenciar el rendimiento significativamente, especialmente si su código es pesado en el flujo de control de TensorFlow y usa muchos tensores pequeños. Obtenga más información en la sección <em data-md-type=\"emphasis\">Compilación explicita con `tf.function(jit_compile=True)`</em> del [Resumen de XLA](https://www.tensorflow.org/xla)."
      ]
    },
    {
      "cell_type": "markdown",
      "metadata": {
        "id": "sm0bNFp8PX53"
      },
      "source": [
        "### Rendimiento y compensaciones\n",
        "\n",
        "Los gráficos pueden acelerar su código, pero el proceso de creación puede tener algo de sobrecarga. Para algunas funciones, la creación de gráficos lleva más tiempo que la ejecución. **Esta inversión suele recuperarse con el potenciador de rendimiento de las ejecuciones posteriores, pero es importante saber que los primeros pasos de cualquier entrenamiento de modelo grande puede ser lento debido al trazado.**\n",
        "\n",
        "No importa el tamaño del modelo, es mejor evitar el trazado frecuente. En la guía de [`tf.function` ](./function.ipynb) se explica cómo establecer especificaciones de entrada y cómo usar argumentos de tensor para evitar el retrazado en la sección *Controlar el retrazado*. Si nota que los rendimientos son extrañamente malos, sería bueno verificar que no esté retrazando por accidente."
      ]
    },
    {
      "cell_type": "markdown",
      "metadata": {
        "id": "F4InDaTjwmBA"
      },
      "source": [
        "## ¿Cuándo traza `Function`?\n",
        "\n",
        "Para averiguar si `Function` está trazando, agregue una declaración `print` en su código. Como regla de oro, `Function` ejecutará la declaración `print` cada vez que realice un trazado."
      ]
    },
    {
      "cell_type": "code",
      "execution_count": null,
      "metadata": {
        "id": "hXtwlbpofLgW"
      },
      "outputs": [],
      "source": [
        "@tf.function\n",
        "def a_function_with_python_side_effect(x):\n",
        "  print(\"Tracing!\") # An eager-only side effect.\n",
        "  return x * x + tf.constant(2)\n",
        "\n",
        "# This is traced the first time.\n",
        "print(a_function_with_python_side_effect(tf.constant(2)))\n",
        "# The second time through, you won't see the side effect.\n",
        "print(a_function_with_python_side_effect(tf.constant(3)))"
      ]
    },
    {
      "cell_type": "code",
      "execution_count": null,
      "metadata": {
        "id": "inzSg8yzfNjl"
      },
      "outputs": [],
      "source": [
        "# This retraces each time the Python argument changes,\n",
        "# as a Python argument could be an epoch count or other\n",
        "# hyperparameter.\n",
        "print(a_function_with_python_side_effect(2))\n",
        "print(a_function_with_python_side_effect(3))"
      ]
    },
    {
      "cell_type": "markdown",
      "metadata": {
        "id": "rtN8NW6AfKye"
      },
      "source": [
        "Los argumentos nuevos de Python siempre provocan la creación de un gráfico nuevo, y por eso el trazado adicional.\n"
      ]
    },
    {
      "cell_type": "markdown",
      "metadata": {
        "id": "D1kbr5ocpS6R"
      },
      "source": [
        "## Siguientes pasos\n",
        "\n",
        "Puede obtener más información sobre `tf.function` en la página de referencia de la API si visita la guía de <a href=\"./function.ipynb\" data-md-type=\"link\">Mejor rendimiento con `tf.function`</a>."
      ]
    }
  ],
  "metadata": {
    "colab": {
      "name": "intro_to_graphs.ipynb",
      "toc_visible": true
    },
    "kernelspec": {
      "display_name": "Python 3",
      "name": "python3"
    }
  },
  "nbformat": 4,
  "nbformat_minor": 0
}
