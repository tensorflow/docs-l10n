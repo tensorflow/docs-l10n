{
  "cells": [
    {
      "cell_type": "markdown",
      "metadata": {
        "id": "Tce3stUlHN0L"
      },
      "source": [
        "##### Copyright 2020 The TensorFlow Authors."
      ]
    },
    {
      "cell_type": "code",
      "execution_count": null,
      "metadata": {
        "cellView": "form",
        "id": "tuOe1ymfHZPu"
      },
      "outputs": [

      ],
      "source": [
        "#@title Licensed under the Apache License, Version 2.0 (the \"License\");\n",
        "# you may not use this file except in compliance with the License.\n",
        "# You may obtain a copy of the License at\n",
        "#\n",
        "# https://www.apache.org/licenses/LICENSE-2.0\n",
        "#\n",
        "# Unless required by applicable law or agreed to in writing, software\n",
        "# distributed under the License is distributed on an \"AS IS\" BASIS,\n",
        "# WITHOUT WARRANTIES OR CONDITIONS OF ANY KIND, either express or implied.\n",
        "# See the License for the specific language governing permissions and\n",
        "# limitations under the License."
      ]
    },
    {
      "cell_type": "markdown",
      "metadata": {
        "id": "drGgRRpWf2Qm"
      },
      "source": [
        "# Trabajo con tensores dispersos"
      ]
    },
    {
      "cell_type": "markdown",
      "metadata": {
        "id": "MfBg1C5NB3X0"
      },
      "source": [
        "<table class=\"tfo-notebook-buttons\" align=\"left\">\n",
        "  <td><a target=\"_blank\" href=\"https://www.tensorflow.org/guide/sparse_tensor\"><img src=\"https://www.tensorflow.org/images/tf_logo_32px.png\">Ver en TensorFlow.org</a></td>\n",
        "  <td><a target=\"_blank\" href=\"https://colab.research.google.com/github/tensorflow/docs/blob/master/site/en/guide/sparse_tensor.ipynb\"><img src=\"https://www.tensorflow.org/images/colab_logo_32px.png\">Ejecutar en Google Colab</a></td>\n",
        "  <td>     <a target=\"_blank\" href=\"https://github.com/tensorflow/docs/blob/master/site/en/guide/sparse_tensor.ipynb\"><img src=\"https://www.tensorflow.org/images/GitHub-Mark-32px.png\">Ver en GitHub</a>\n",
        "</td>\n",
        "  <td>     <a href=\"https://storage.googleapis.com/tensorflow_docs/docs/site/en/guide/sparse_tensor.ipynb\"><img src=\"https://www.tensorflow.org/images/download_logo_32px.png\">Descargar bloc de notas</a>\n",
        "</td>\n",
        "</table>"
      ]
    },
    {
      "cell_type": "markdown",
      "metadata": {
        "id": "UIiXFIS4fj1m"
      },
      "source": [
        "Cuando se trabaja con tensores que contienen muchos valores cero, es importante almacenarlos de una forma eficiente en cuanto a tiempo y espacio. Los tensores dispersos permiten el almacenamiento y el procesamiento eficiente de tensores que contienen muchos valores cero. Los tensores dispersos se usan ampliamente en esquemas de codificación como [TF-IDF](https://en.wikipedia.org/wiki/Tf%E2%80%93idf), como parte del preprocesamiento de datos en aplicaciones de procesamiento de lenguaje natural (NLP) y para el procesamiento previo de imágenes con muchos pixeles oscuros en aplicaciones de visión para computadoras."
      ]
    },
    {
      "cell_type": "markdown",
      "metadata": {
        "id": "A8XXQW3ENU5m"
      },
      "source": [
        "## Tensores dispersos en TensorFlow\n",
        "\n",
        "TensorFlow representa a los tensores dispersos mediante el objeto `tf.sparse.SparseTensor`. Actualmente, los tensores dispersos que se encuentran en TensorFlow están codificados con el formato de lista de coordenadas (COO). Este formato de codificación se optimiza para matrices hiperdispersas como incrustaciones.\n",
        "\n",
        "La codificación COO para tensores dispersos está compuesta por lo siguiente:\n",
        "\n",
        "- `values`: un tensor D 1 con forma `[N]` que contiene todos los valores distintos de cero.\n",
        "- `indices`: un tensor D 2 con forma `[N, rank]` que contiene los índices de los valores distintos de cero.\n",
        "- `dense_shape`: un tensor D 1 con forma `[rank]`, con el que se especifica la forma del tensor.\n",
        "\n",
        "Un valor ***nonzero*** (distinto de cero) en el contexto de un `tf.sparse.SparseTensor` es un valor que no está codificado explícitamente. Es posible incluir valores cero explícitamente en los `values` de una matriz dispersa COO, pero estos \"ceros explícitos\", por lo general, no se incluyen cuando se refieren a valores distintos de cero en un tensor disperso.\n",
        "\n",
        "Nota: `tf.sparse.SparseTensor` no requiere que los índices o valores se encuentren en un orden en particular, pero para varias operaciones se asume que están en un orden de filas (<em>row-major</em>). Use `tf.sparse.reorder` para crear una copia del tensor disperso que se ordene en el orden canónico de filas. "
      ]
    },
    {
      "cell_type": "markdown",
      "metadata": {
        "id": "6Aq7ruwlyz79"
      },
      "source": [
        "## Creación de un `tf.sparse.SparseTensor`\n",
        "\n",
        "Para construir tensores dispersos, especifique directamente sus `values`, `indices` y `dense_shape`."
      ]
    },
    {
      "cell_type": "code",
      "execution_count": null,
      "metadata": {
        "id": "SI2Mv3tihcmY"
      },
      "outputs": [

      ],
      "source": [
        "import tensorflow as tf"
      ]
    },
    {
      "cell_type": "code",
      "execution_count": null,
      "metadata": {
        "id": "vqQKGva4zSCs"
      },
      "outputs": [

      ],
      "source": [
        "st1 = tf.sparse.SparseTensor(indices=[[0, 3], [2, 4]],\n",
        "                      values=[10, 20],\n",
        "                      dense_shape=[3, 10])"
      ]
    },
    {
      "cell_type": "markdown",
      "metadata": {
        "id": "l9eJeh31fWyr"
      },
      "source": [
        "<img src=\"images/sparse_tensor.png\">"
      ]
    },
    {
      "cell_type": "markdown",
      "metadata": {
        "id": "-M3fMTFL0hXa"
      },
      "source": [
        "Cuando use la función `print()` para imprimir un tensor disperso, mostrará el contenido de los tres tensores componentes:"
      ]
    },
    {
      "cell_type": "code",
      "execution_count": null,
      "metadata": {
        "id": "3oHWtmsBMLAI"
      },
      "outputs": [

      ],
      "source": [
        "print(st1)"
      ]
    },
    {
      "cell_type": "markdown",
      "metadata": {
        "id": "qqePKJG6MNWk"
      },
      "source": [
        "Es más fácil entender el contenido de un tensor disperso si los `values` distintos de cero están alineados con sus correspondientes `indices`. Defina una función ayudante para formatear tensores dispersos con un formato legible, de modo que cada valor distinto de cero se muestre en su propia línea."
      ]
    },
    {
      "cell_type": "code",
      "execution_count": null,
      "metadata": {
        "id": "R_xFYuOo1ZE_"
      },
      "outputs": [

      ],
      "source": [
        "def pprint_sparse_tensor(st):\n",
        "  s = \"<SparseTensor shape=%s \\n values={\" % (st.dense_shape.numpy().tolist(),)\n",
        "  for (index, value) in zip(st.indices, st.values):\n",
        "    s += f\"\\n  %s: %s\" % (index.numpy().tolist(), value.numpy().tolist())\n",
        "  return s + \"}>\""
      ]
    },
    {
      "cell_type": "code",
      "execution_count": null,
      "metadata": {
        "id": "be4Dyiqt0fEH"
      },
      "outputs": [

      ],
      "source": [
        "print(pprint_sparse_tensor(st1))"
      ]
    },
    {
      "cell_type": "markdown",
      "metadata": {
        "id": "3FBt8qk_zmz5"
      },
      "source": [
        "También se pueden construir tensores dispersos a partir de tensores densos con `tf.sparse.from_dense` y convertirlos usando `tf.sparse.to_dense`."
      ]
    },
    {
      "cell_type": "code",
      "execution_count": null,
      "metadata": {
        "id": "cYwuCuNMf0Fu"
      },
      "outputs": [

      ],
      "source": [
        "st2 = tf.sparse.from_dense([[1, 0, 0, 8], [0, 0, 0, 0], [0, 0, 3, 0]])\n",
        "print(pprint_sparse_tensor(st2))"
      ]
    },
    {
      "cell_type": "code",
      "execution_count": null,
      "metadata": {
        "id": "eFVPrwNPzyZw"
      },
      "outputs": [

      ],
      "source": [
        "st3 = tf.sparse.to_dense(st2)\n",
        "print(st3)"
      ]
    },
    {
      "cell_type": "markdown",
      "metadata": {
        "id": "GeuvyL_Z0Mwh"
      },
      "source": [
        "## Manipulación de tensores dispersos\n",
        "\n",
        "Use las utilidades del paquete `tf.sparse` para manipular los tensores dispersos. Las operaciones como `tf.math.add` que se pueden usar para manipulación aritmética de tensores densos no funcionan con tensores dispersos."
      ]
    },
    {
      "cell_type": "markdown",
      "metadata": {
        "id": "LMYW4U4Qavvd"
      },
      "source": [
        "Agregue tensores dispersos de la misma forma mediante `tf.sparse.add`. "
      ]
    },
    {
      "cell_type": "code",
      "execution_count": null,
      "metadata": {
        "id": "vJwuSQIjayiN"
      },
      "outputs": [

      ],
      "source": [
        "st_a = tf.sparse.SparseTensor(indices=[[0, 2], [3, 4]],\n",
        "                       values=[31, 2], \n",
        "                       dense_shape=[4, 10])\n",
        "\n",
        "st_b = tf.sparse.SparseTensor(indices=[[0, 2], [7, 0]],\n",
        "                       values=[56, 38],\n",
        "                       dense_shape=[4, 10])\n",
        "\n",
        "st_sum = tf.sparse.add(st_a, st_b)\n",
        "\n",
        "print(pprint_sparse_tensor(st_sum))"
      ]
    },
    {
      "cell_type": "markdown",
      "metadata": {
        "id": "ls8_aQvnqZMj"
      },
      "source": [
        "Use `tf.sparse.sparse_dense_matmul` para multiplicar tensores dispersos con matrices densas."
      ]
    },
    {
      "cell_type": "code",
      "execution_count": null,
      "metadata": {
        "id": "S0tWRLiE04uL"
      },
      "outputs": [

      ],
      "source": [
        "st_c = tf.sparse.SparseTensor(indices=([0, 1], [1, 0], [1, 1]),\n",
        "                       values=[13, 15, 17],\n",
        "                       dense_shape=(2,2))\n",
        "\n",
        "mb = tf.constant([[4], [6]])\n",
        "product = tf.sparse.sparse_dense_matmul(st_c, mb)\n",
        "\n",
        "print(product)"
      ]
    },
    {
      "cell_type": "markdown",
      "metadata": {
        "id": "9hxClYvfceZA"
      },
      "source": [
        "Ponga junto los tensores dispersos con `tf.sparse.concat` y sepárelos con `tf.sparse.slice`.\n"
      ]
    },
    {
      "cell_type": "code",
      "execution_count": null,
      "metadata": {
        "id": "cp4NEW_5yLEY"
      },
      "outputs": [

      ],
      "source": [
        "sparse_pattern_A = tf.sparse.SparseTensor(indices = [[2,4], [3,3], [3,4], [4,3], [4,4], [5,4]],\n",
        "                         values = [1,1,1,1,1,1],\n",
        "                         dense_shape = [8,5])\n",
        "sparse_pattern_B = tf.sparse.SparseTensor(indices = [[0,2], [1,1], [1,3], [2,0], [2,4], [2,5], [3,5], \n",
        "                                              [4,5], [5,0], [5,4], [5,5], [6,1], [6,3], [7,2]],\n",
        "                         values = [1,1,1,1,1,1,1,1,1,1,1,1,1,1],\n",
        "                         dense_shape = [8,6])\n",
        "sparse_pattern_C = tf.sparse.SparseTensor(indices = [[3,0], [4,0]],\n",
        "                         values = [1,1],\n",
        "                         dense_shape = [8,6])\n",
        "\n",
        "sparse_patterns_list = [sparse_pattern_A, sparse_pattern_B, sparse_pattern_C]\n",
        "sparse_pattern = tf.sparse.concat(axis=1, sp_inputs=sparse_patterns_list)\n",
        "print(tf.sparse.to_dense(sparse_pattern))"
      ]
    },
    {
      "cell_type": "code",
      "execution_count": null,
      "metadata": {
        "id": "XmE87XVPWPmc"
      },
      "outputs": [

      ],
      "source": [
        "sparse_slice_A = tf.sparse.slice(sparse_pattern_A, start = [0,0], size = [8,5])\n",
        "sparse_slice_B = tf.sparse.slice(sparse_pattern_B, start = [0,5], size = [8,6])\n",
        "sparse_slice_C = tf.sparse.slice(sparse_pattern_C, start = [0,10], size = [8,6])\n",
        "print(tf.sparse.to_dense(sparse_slice_A))\n",
        "print(tf.sparse.to_dense(sparse_slice_B))\n",
        "print(tf.sparse.to_dense(sparse_slice_C))"
      ]
    },
    {
      "cell_type": "markdown",
      "metadata": {
        "id": "37SOx7wB1eSX"
      },
      "source": [
        "Si está usando una versión de TensorFlow 2.4 o posterior, use `tf.sparse.map_values` para operaciones de elemento por elemento para valores distintos de cero en tensores dispersos."
      ]
    },
    {
      "cell_type": "code",
      "execution_count": null,
      "metadata": {
        "id": "daZaPkkA1d09"
      },
      "outputs": [

      ],
      "source": [
        "st2_plus_5 = tf.sparse.map_values(tf.add, st2, 5)\n",
        "print(tf.sparse.to_dense(st2_plus_5))"
      ]
    },
    {
      "cell_type": "markdown",
      "metadata": {
        "id": "3zkRcxeo2Elw"
      },
      "source": [
        "Tenga en cuenta que solamente los valores distintos de cero se modificaron, los valores cero permanecen en cero.\n",
        "\n",
        "De un modo equivalente, para versiones anteriores de TensorFlow, se puede seguir el patrón de diseño que se encuentra a continuación."
      ]
    },
    {
      "cell_type": "code",
      "execution_count": null,
      "metadata": {
        "id": "bFSNOOqC0ySb"
      },
      "outputs": [

      ],
      "source": [
        "st2_plus_5 = tf.sparse.SparseTensor(\n",
        "    st2.indices,\n",
        "    st2.values + 5,\n",
        "    st2.dense_shape)\n",
        "print(tf.sparse.to_dense(st2_plus_5))"
      ]
    },
    {
      "cell_type": "markdown",
      "metadata": {
        "id": "GFhO2ZZ53ga1"
      },
      "source": [
        "## `tf.sparse.SparseTensor` con otras API de TensorFlow\n",
        "\n",
        "Los tensores dispersos funcionan con transparencia con estas API de TensorFlow:\n",
        "\n",
        "- `tf.keras`\n",
        "- `tf.data`\n",
        "- `tf.Train.Example` (<em>protobuf</em>)\n",
        "- `tf.function`\n",
        "- `tf.while_loop`\n",
        "- `tf.cond`\n",
        "- `tf.identity`\n",
        "- `tf.cast`\n",
        "- `tf.print`\n",
        "- `tf.saved_model`\n",
        "- `tf.io.serialize_sparse`\n",
        "- `tf.io.serialize_many_sparse`\n",
        "- `tf.io.deserialize_many_sparse`\n",
        "- `tf.math.abs`\n",
        "- `tf.math.negative`\n",
        "- `tf.math.sign`\n",
        "- `tf.math.square`\n",
        "- `tf.math.sqrt`\n",
        "- `tf.math.erf`\n",
        "- `tf.math.tanh`\n",
        "- `tf.math.bessel_i0e`\n",
        "- `tf.math.bessel_i1e`\n",
        "\n",
        "A continuación, se muestran ejemplos de algunas de las API mencionadas arriba."
      ]
    },
    {
      "cell_type": "markdown",
      "metadata": {
        "id": "6uNUl7EgSYGC"
      },
      "source": [
        "### `tf.keras`\n",
        "\n",
        "Un subconjunto de las API `tf.keras` admite tensores dispersos sin <em>castings</em> ni conversiones costosas de operaciones. La API Keras permite pasar tensores dispersos como entradas a un modelo Keras. Establezca `sparse=True` cuando llame a `tf.keras.Input` o `tf.keras.layers.InputLayer`. Puede pasar tensores dispersos entre capas de Keras y también hacer que los modelos de Keras los devuelvan como resultado. Si usa tensores dispersos en las capas `tf.keras.layers.Dense` de su modelo, como resultado obtendrá tensores densos.\n",
        "\n",
        "En el ejemplo a continuación se muestra cómo pasar un tensor disperso como entrada para un modelo Keras si solamente se usan capas que admiten entradas dispersas."
      ]
    },
    {
      "cell_type": "code",
      "execution_count": null,
      "metadata": {
        "id": "E8za5DK8vfo7"
      },
      "outputs": [

      ],
      "source": [
        "x = tf.keras.Input(shape=(4,), sparse=True)\n",
        "y = tf.keras.layers.Dense(4)(x)\n",
        "model = tf.keras.Model(x, y)\n",
        "\n",
        "sparse_data = tf.sparse.SparseTensor(\n",
        "    indices = [(0,0),(0,1),(0,2),\n",
        "               (4,3),(5,0),(5,1)],\n",
        "    values = [1,1,1,1,1,1],\n",
        "    dense_shape = (6,4)\n",
        ")\n",
        "\n",
        "model(sparse_data)\n",
        "\n",
        "model.predict(sparse_data)"
      ]
    },
    {
      "cell_type": "markdown",
      "metadata": {
        "id": "ZtVYmr7dt0-x"
      },
      "source": [
        "### `tf.data`\n",
        "\n",
        "La API `tf.data` le permite desarrollar canalizaciones de entradas complejas a partir de piezas reutilizables simples. Su estructura de datos principales es `tf.data.Dataset`, que representa una secuencia de elementos en la que cada elemento está compuesto por uno o más componentes.\n",
        "\n",
        "#### Cómo construir conjuntos de datos con tensores dispersos\n",
        "\n",
        "Es posible construir conjuntos de datos a partir de tensores dispersos con los mismos métodos que se usan para construirlos a partir de arreglos `tf.Tensor` o NumPy, tales como `tf.data.Dataset.from_tensor_slices`. Esta operación preserva la dispersión (o la naturaleza dispersa) de los datos."
      ]
    },
    {
      "cell_type": "code",
      "execution_count": null,
      "metadata": {
        "id": "3y9tiwuZ5oTD"
      },
      "outputs": [

      ],
      "source": [
        "dataset = tf.data.Dataset.from_tensor_slices(sparse_data)\n",
        "for element in dataset: \n",
        "  print(pprint_sparse_tensor(element))"
      ]
    },
    {
      "cell_type": "markdown",
      "metadata": {
        "id": "hFaY5Org59qk"
      },
      "source": [
        "#### Cómo agrupar o desagrupar conjuntos de datos con tensores dispersos\n",
        "\n",
        "Es posible agrupar en lotes (combinar elementos consecutivos para formar un solo elemento) y desagrupar conjuntos de datos con tensores dispersos mediante los métodos `Dataset.batch` y `Dataset.unbatch` respectivamente."
      ]
    },
    {
      "cell_type": "code",
      "execution_count": null,
      "metadata": {
        "id": "WkKE0VY66Ii2"
      },
      "outputs": [

      ],
      "source": [
        "batched_dataset = dataset.batch(2)\n",
        "for element in batched_dataset:\n",
        "  print (pprint_sparse_tensor(element))"
      ]
    },
    {
      "cell_type": "code",
      "execution_count": null,
      "metadata": {
        "id": "ikZzPxl56bx1"
      },
      "outputs": [

      ],
      "source": [
        "unbatched_dataset = batched_dataset.unbatch()\n",
        "for element in unbatched_dataset:\n",
        "  print (pprint_sparse_tensor(element))"
      ]
    },
    {
      "cell_type": "markdown",
      "metadata": {
        "id": "6ywfpD_EIMd3"
      },
      "source": [
        "También se puede usar `tf.data.experimental.dense_to_sparse_batch` para agrupar en tensores dispersos aquellos elementos de un conjunto de datos que tengan formas diversas. "
      ]
    },
    {
      "cell_type": "markdown",
      "metadata": {
        "id": "oB8QKh7p6ltl"
      },
      "source": [
        "#### Cómo transformar conjuntos de datos con tensores dispersos\n",
        "\n",
        "Transforma y crea tensores dispersos en conjuntos de datos con `Dataset.map`."
      ]
    },
    {
      "cell_type": "code",
      "execution_count": null,
      "metadata": {
        "id": "E5lhicwef7Ah"
      },
      "outputs": [

      ],
      "source": [
        "transform_dataset = dataset.map(lambda x: x*2)\n",
        "for i in transform_dataset:\n",
        "  print(pprint_sparse_tensor(i))"
      ]
    },
    {
      "cell_type": "markdown",
      "metadata": {
        "id": "DBfQvIVutp65"
      },
      "source": [
        "### tf.train.Example\n",
        "\n",
        "`tf.train.Example` <br>es una codificación de búfer de protocolo (<em>protobuf</em>) estándar para datos de TensorFlow. Cuando use tensores dispersos con `tf.train.Example`, puede hacer lo siguiente:\n",
        "\n",
        "- Leer datos de longitudes variables en un `tf.sparse.SparseTensor` con `tf.io.VarLenFeature`. Sin embargo, deberá considerar usar `tf.io.RaggedFeature` en su lugar.\n",
        "\n",
        "- Leer datos dispersos arbitrarios en un `tf.sparse.SparseTensor` con `tf.io.SparseFeature`, que usa tres claves de funciones separadas para almacenar `indices`, `values` y `dense_shape`."
      ]
    },
    {
      "cell_type": "markdown",
      "metadata": {
        "id": "Pir2Xt3nSe-4"
      },
      "source": [
        "### `tf.function`\n",
        "\n",
        "La `tf.function` decoradora calcula previamente los grafos de TensorFlow para funciones de Python, lo que puede mejorar considerablemente el rendimiento de su código de TensorFlow. Los tensores dispersos funcionan de forma transparente tanto con `tf.function` como con [funciones concretas](https://www.tensorflow.org/guide/function#obtaining_concrete_functions)."
      ]
    },
    {
      "cell_type": "code",
      "execution_count": null,
      "metadata": {
        "id": "6jXDueTOSeYO"
      },
      "outputs": [

      ],
      "source": [
        "@tf.function\n",
        "def f(x,y):\n",
        "  return tf.sparse.sparse_dense_matmul(x,y)\n",
        "\n",
        "a = tf.sparse.SparseTensor(indices=[[0, 3], [2, 4]],\n",
        "                    values=[15, 25],\n",
        "                    dense_shape=[3, 10])\n",
        "\n",
        "b = tf.sparse.to_dense(tf.sparse.transpose(a))\n",
        "\n",
        "c = f(a,b)\n",
        "\n",
        "print(c)"
      ]
    },
    {
      "cell_type": "markdown",
      "metadata": {
        "id": "YPe5uC_X7XjZ"
      },
      "source": [
        "## Cómo distinguir valores faltantes de valores cero\n",
        "\n",
        "La mayoría de la operaciones `tf.sparse.SparseTensor` tratan exactamente del mismo modo a los valores faltantes y a los valores cero explícitos. Nos referimos al diseño, se supone que un `tf.sparse.SparseTensor` se comporte del mismo modo que un tensor denso.\n",
        "\n",
        "Sin embargo, hay algunos casos en los que puede ser útil distinguir valores cero de valores faltantes. En particular, esta posibilidad permite contar con una manera de codificar datos faltantes/desconocidos en los datos de entrenamiento. Por ejemplo, consideremos un caso de uso en el que hay un tensor de puntaje (que puede tener cualquier valor de punto flotante entre -Inf y +Inf), con algunos puntajes faltantes. En este caso, es posible codificar este tensor con un tensor disperso en el que los ceros explícitos sean puntajes cero conocidos, pero que los valores cero implícitos, en realidad, representen los datos faltantes y no cero.\n",
        "\n",
        "Nota: Por lo general, este no es el uso previsto para los `tf.sparse.SparseTensor`. Probablemente, le convenga considerar otras técnicas para codificar, tales como por ejemplo, usar un tensor de máscara separado con el que se identifiquen las ubicaciones de valores conocidos o desconocidos. Sin embargo, tenga cuidado al usar esta opción, ya que la mayoría de las operaciones con tensores dispersos tratarán a los valores cero explícitos e implícitos de un modo idéntico."
      ]
    },
    {
      "cell_type": "markdown",
      "metadata": {
        "id": "tZ17F9e3ZJDS"
      },
      "source": [
        "Tenga en cuenta que algunas operaciones como `tf.sparse.reduce_max` no tratan a los valores faltantes como si fueran cero. Por ejemplo, cuando se ejecuta el bloque de código que se encuentra a continuación, el resultado esperado es `0`. Sin embargo, debido a esta excepción, la salida es `-3`."
      ]
    },
    {
      "cell_type": "code",
      "execution_count": null,
      "metadata": {
        "id": "kcNBVVtBZav_"
      },
      "outputs": [

      ],
      "source": [
        "print(tf.sparse.reduce_max(tf.sparse.from_dense([-5, 0, -3])))"
      ]
    },
    {
      "cell_type": "markdown",
      "metadata": {
        "id": "zhzWLW-bMfI5"
      },
      "source": [
        "Por el contrario, cuando se aplica `tf.math.reduce_max` a un tensor denso, el resultado es 0, tal como se espera."
      ]
    },
    {
      "cell_type": "code",
      "execution_count": null,
      "metadata": {
        "id": "7Xy-g3VDNK9d"
      },
      "outputs": [

      ],
      "source": [
        "print(tf.math.reduce_max([-5, 0, -3]))"
      ]
    },
    {
      "cell_type": "markdown",
      "metadata": {
        "id": "uK3U8l0kNL37"
      },
      "source": [
        "## Lecturas y recursos complementarios\n",
        "\n",
        "- Para conocer más acerca de los tensores consulte la [guía sobre tensores](https://www.tensorflow.org/guide/tensor).\n",
        "- Lea la [guía sobre tensores irregulares](https://www.tensorflow.org/guide/ragged_tensor) para entender cómo trabajar con tensores irregulares, un tipo de tensor que permite trabajar con datos no uniformes.\n",
        "- Consulte este modelo de detección de objetos en el [TensorFlow Model Garden](https://github.com/tensorflow/models) que usa tensores disperos en un [decodificador de datos `tf.Example` ](https://github.com/tensorflow/models/blob/9139a7b90112562aec1d7e328593681bd410e1e7/research/object_detection/data_decoders/tf_example_decoder.py).\n"
      ]
    }
  ],
  "metadata": {
    "colab": {
      "collapsed_sections": [

      ],
      "name": "sparse_tensor.ipynb",
      "toc_visible": true
    },
    "kernelspec": {
      "display_name": "Python 3",
      "name": "python3"
    }
  },
  "nbformat": 4,
  "nbformat_minor": 0
}
