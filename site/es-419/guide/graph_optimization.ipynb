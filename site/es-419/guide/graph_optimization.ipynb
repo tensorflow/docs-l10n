{
  "cells": [
    {
      "cell_type": "markdown",
      "metadata": {
        "id": "FYLyuStTYesc"
      },
      "source": [
        "##### Copyright 2020 The TensorFlow Authors."
      ]
    },
    {
      "cell_type": "code",
      "execution_count": null,
      "metadata": {
        "cellView": "form",
        "id": "PVm-iEoxYesf"
      },
      "outputs": [],
      "source": [
        "#@title Licensed under the Apache License, Version 2.0 (the \"License\");\n",
        "# you may not use this file except in compliance with the License.\n",
        "# You may obtain a copy of the License at\n",
        "#\n",
        "# https://www.apache.org/licenses/LICENSE-2.0\n",
        "#\n",
        "# Unless required by applicable law or agreed to in writing, software\n",
        "# distributed under the License is distributed on an \"AS IS\" BASIS,\n",
        "# WITHOUT WARRANTIES OR CONDITIONS OF ANY KIND, either express or implied.\n",
        "# See the License for the specific language governing permissions and\n",
        "# limitations under the License."
      ]
    },
    {
      "cell_type": "markdown",
      "metadata": {
        "id": "3MPf91rVYesq"
      },
      "source": [
        "# Optimización del gráfico de TensorFlow con Grappler"
      ]
    },
    {
      "cell_type": "markdown",
      "metadata": {
        "id": "zmNCsZlgYesr"
      },
      "source": [
        "<table class=\"tfo-notebook-buttons\" align=\"left\">\n",
        "  <td><a target=\"_blank\" href=\"https://www.tensorflow.org/guide/graph_optimization\"><img src=\"https://www.tensorflow.org/images/tf_logo_32px.png\">Ver en TensorFlow.org</a></td>\n",
        "  <td><a target=\"_blank\" href=\"https://colab.research.google.com/github/tensorflow/docs-l10n/blob/master/site/es-419/guide/graph_optimization.ipynb\"><img src=\"https://www.tensorflow.org/images/colab_logo_32px.png\">Ejecutar en Google Colab</a></td>\n",
        "  <td>     <a target=\"_blank\" href=\"https://github.com/tensorflow/docs-l10n/blob/master/site/es-419/guide/graph_optimization.ipynb\"><img src=\"https://www.tensorflow.org/images/GitHub-Mark-32px.png\">Ver código fuente en GitHub</a>\n",
        "</td>\n",
        "  <td>     <a href=\"https://storage.googleapis.com/tensorflow_docs/docs-l10n/site/es-419/guide/graph_optimization.ipynb\"><img src=\"https://www.tensorflow.org/images/download_logo_32px.png\">Descargar el bloc de notas</a>\n",
        "</td>\n",
        "</table>"
      ]
    },
    {
      "cell_type": "markdown",
      "metadata": {
        "id": "l0qacLgyYess"
      },
      "source": [
        "## Descripción general\n",
        "\n",
        "TensorFlow usa gráficos y ejecuciones de forma \"eager\" para ejecutar cálculos. Un `tf.Graph` contiene un conjunto de objetos `tf.Operation` (operaciones) que representan unidades de cálculo y objetos  `tf.Tensor` que representan las unidades de datos que fluyen entre las operaciones.\n",
        "\n",
        "Grappler es el sistema de optimización de gráficos predeterminado en el tiempo de ejecución de TensorFlow. Grappler aplica las optimizaciones en el modo de gráfico (dentro de `tf.function`) para mejorar el rendimiento de sus cálculos de TensorFlow mediante la simplificación de gráficos y otras optimizaciones de alto nivel como la incrustación de cuerpos de función para habilitar las optimizaciones en el procedimiento. Al optimizar el `tf.Graph` también se reduce el uso máximo de la memoria y mejora el uso de hardware al optimizar el mapeo de los nodos de los gráficos para calcular los recursos.\n",
        "\n",
        "Use `tf.config.optimizer.set_experimental_options()` para tener un control más específico de sus optimizaciones de  `tf.Graph`.\n"
      ]
    },
    {
      "cell_type": "markdown",
      "metadata": {
        "id": "A-zkJgR5Yesw"
      },
      "source": [
        "## Optimizadores de gráficos disponibles\n",
        "\n",
        "Grappler realiza las optimizaciones de gráfico mediante un controlador de nivel superior llamado `MetaOptimizer`. Los siguientes optimizadores de gráficos están disponibles con TensorFlow:\n",
        "\n",
        "- *Optimizador de plegado continuo*: Infiere estadísticamente el valor de los tensores, siempre que sea posible, al plegar de forma continua los nodos en el gráfico y materializa el resultado con constantes.\n",
        "- *Optimizador aritmético*: Simplifica las operaciones aritméticas mediante la eliminación de subexpresiones y la simplificación de las declaraciones aritméticas.\n",
        "- *Optimizador de diseño*: Optimiza el diseño del tensor para ejecutar operaciones que dependen del formato de los datos de forma más eficiente, como las convoluciones.\n",
        "- *Optimizador de reasignación*: Reasigna subgráficos en implementaciones más eficientes al reemplazar los subgráficos que ocurren comúnmente con kernels monolíticos fusionados y optimizados.\n",
        "- *Optimizador de memoria*: Analiza el gráfico para inspeccionar el uso máximo de la memoria para cada operación e inserta las operaciones de copia de la memoria CPU-GPU para intercambiar la memoria GPU por la CPU para reducir el uso máximo de memoria.\n",
        "- *Optimizador de dependencias*: Elimina o reorganiza las dependencias de control para acortar la ruta de acceso crítica para un paso del modelo o habilita otras optimizaciones. También elimina los nodos que nos son efectivamente operaciones, como Identidad.\n",
        "- *Optimizador de eliminación de entradas*: Elimina los nodos que no afectan a la salida de los gráficos. Suele ejecutarse primero para reducir el tamaño del gráfico y acelerar el proceso en otras pasadas de Grappler.\n",
        "- *Optimizador de función*: Optimiza la biblioteca de funciones de un programa de TensorFlow e inserta los cuerpos de función para habilitar otras optimizaciones en el procedimiento.\n",
        "- *Optimizador de forma*: Optimiza los subgráficos que funcionan en la forma y en la información relacionada con la forma.\n",
        "- *Optimizador de paralelismo automático*: Arregla los gráficos en paralelo al dividirlos por toda la dimensión del lote. Este optimizador está DESACTIVADO de forma predeterminada.\n",
        "- *Optimizador de bucles*: Optimiza el flujo de control del gráfico al elevar los subgráficos de bucle invariable desde bucles y al remover las operaciones apiladas redundantes en los bucles. También optimiza los bucles con conteos de puntos de intervalos conocidos y elimina las ramas muertas conocidas estadísticamente en condicionales.\n",
        "- *Optimizador de asignador de ámbito*: Agrega asignadores de ámbito para reducir el movimiento de datos y para consolidar algunas operaciones.\n",
        "- *Marcador para alojar en optimizador/em0}: Intercambia pequeñas operaciones en el CPU. Este optimizador está  DESACTIVADO de forma predeterminada.*\n",
        "- *Optimizador de precisión mixta automática* Convierte los tipos de datos en float16 según corresponda para mejorar el rendimiento. Actualmente, solo aplica para las memorias GPU.\n",
        "- *Depurador*: Saca los nodos relacionados con las operaciones de depuración como `tf.debugging.check_numerics` y `tf.print` del gráfico. Este optimizador está DESACTIVADO de forma predeterminada."
      ]
    },
    {
      "cell_type": "markdown",
      "metadata": {
        "id": "WZAUsxyWYess"
      },
      "source": [
        "## Preparación\n"
      ]
    },
    {
      "cell_type": "code",
      "execution_count": null,
      "metadata": {
        "id": "6BRIDzO6ypoY"
      },
      "outputs": [],
      "source": [
        "import numpy as np\n",
        "import timeit\n",
        "import traceback\n",
        "import contextlib\n",
        "\n",
        "\n",
        "import tensorflow as tf"
      ]
    },
    {
      "cell_type": "markdown",
      "metadata": {
        "id": "1O-XL1nxJX0X"
      },
      "source": [
        "Cree un administrador de contexto para alternar entre los estados del optimizador."
      ]
    },
    {
      "cell_type": "code",
      "execution_count": null,
      "metadata": {
        "id": "uRuhVoAlYesz"
      },
      "outputs": [],
      "source": [
        "@contextlib.contextmanager\n",
        "def options(options):\n",
        "  old_opts = tf.config.optimizer.get_experimental_options()\n",
        "  tf.config.optimizer.set_experimental_options(options)\n",
        "  try:\n",
        "    yield\n",
        "  finally:\n",
        "    tf.config.optimizer.set_experimental_options(old_opts)"
      ]
    },
    {
      "cell_type": "markdown",
      "metadata": {
        "id": "E2o4kZtK0DoA"
      },
      "source": [
        "## Comparar el rendimiento de ejecución con o sin Grappler\n",
        "\n",
        "TensorFlow 2 y posteriores ejecutan de forma eager de forma predeterminada. Use `tf.function` para cambiar la ejecución predeterminada al modo de gráfico. Grappler se ejecuta automáticamente en segundo plano para aplicar las optimizaciones de gráfico mencionadas anteriormente y mejorar el rendimiento de la ejecución.\n"
      ]
    },
    {
      "cell_type": "markdown",
      "metadata": {
        "id": "3sh8RoLJ96IT"
      },
      "source": [
        "### Optimizador de pliegue continuo\n",
        "\n",
        "Como un ejemplo preliminar, considere una función que realiza operaciones en constantes y devuelve una salida."
      ]
    },
    {
      "cell_type": "code",
      "execution_count": null,
      "metadata": {
        "id": "jOW_OSzMJEvN"
      },
      "outputs": [],
      "source": [
        "def test_function_1():\n",
        "  @tf.function\n",
        "  def simple_function(input_arg):\n",
        "    print('Tracing!')\n",
        "    a = tf.constant(np.random.randn(2000,2000), dtype = tf.float32)\n",
        "    c = a\n",
        "    for n in range(50):\n",
        "      c = c@a\n",
        "    return tf.reduce_mean(c+input_arg)\n",
        "\n",
        "  return simple_function"
      ]
    },
    {
      "cell_type": "markdown",
      "metadata": {
        "id": "tFVgUhhzLKIo"
      },
      "source": [
        "Desactive el optimizador de pliegue de constante y ejecute la función:"
      ]
    },
    {
      "cell_type": "code",
      "execution_count": null,
      "metadata": {
        "id": "KDMGsOHrJqKD"
      },
      "outputs": [],
      "source": [
        "with options({'constant_folding': False}):\n",
        "  print(tf.config.optimizer.get_experimental_options())\n",
        "  simple_function = test_function_1()\n",
        "  # Trace once\n",
        "  x = tf.constant(2.2)\n",
        "  simple_function(x)\n",
        "  print(\"Vanilla execution:\", timeit.timeit(lambda: simple_function(x), number = 1), \"s\")"
      ]
    },
    {
      "cell_type": "markdown",
      "metadata": {
        "id": "ykMXfo8qO41z"
      },
      "source": [
        "Active el optimizador de pliegue de constante y vuelva a ejecutar la función para observar como acelera la ejecución de la función."
      ]
    },
    {
      "cell_type": "code",
      "execution_count": null,
      "metadata": {
        "id": "73pc0gfFKY8l"
      },
      "outputs": [],
      "source": [
        "with options({'constant_folding': True}):\n",
        "  print(tf.config.optimizer.get_experimental_options())\n",
        "  simple_function = test_function_1()\n",
        "  # Trace once\n",
        "  x = tf.constant(2.2)\n",
        "  simple_function(x)\n",
        "  print(\"Constant folded execution:\", timeit.timeit(lambda: simple_function(x), number = 1), \"s\")"
      ]
    },
    {
      "cell_type": "markdown",
      "metadata": {
        "id": "83w8rfcRVhWb"
      },
      "source": [
        "### Optimizador de depuración\n",
        "\n",
        "Considere una función simple que verifique el valor numérico de su argumento de entrada y que lo devuelva. "
      ]
    },
    {
      "cell_type": "code",
      "execution_count": null,
      "metadata": {
        "id": "j2DvqEr8haut"
      },
      "outputs": [],
      "source": [
        "def test_function_2():\n",
        "  @tf.function\n",
        "  def simple_func(input_arg):\n",
        "    output = input_arg\n",
        "    tf.debugging.check_numerics(output, \"Bad!\")\n",
        "    return output\n",
        "  return simple_func"
      ]
    },
    {
      "cell_type": "markdown",
      "metadata": {
        "id": "ywKG3WRbpYB8"
      },
      "source": [
        "Primero, ejecute la función con el optimizador de depuración desactivado. "
      ]
    },
    {
      "cell_type": "code",
      "execution_count": null,
      "metadata": {
        "id": "LsE-y6iQWSwH"
      },
      "outputs": [],
      "source": [
        "test_func = test_function_2()\n",
        "p1 = tf.constant(float('inf'))\n",
        "try:\n",
        "  test_func(p1)\n",
        "except tf.errors.InvalidArgumentError as e:\n",
        "  traceback.print_exc(limit=2)"
      ]
    },
    {
      "cell_type": "markdown",
      "metadata": {
        "id": "URHpboM8xLN6"
      },
      "source": [
        "`tf.debugging.check_numerics` provoca un error de argumento debido al argumento `Inf` en el `test_func`."
      ]
    },
    {
      "cell_type": "markdown",
      "metadata": {
        "id": "CuPSha9YmJRo"
      },
      "source": [
        "Habilite el optimizador de depuración y vuelva a ejecutar la función. "
      ]
    },
    {
      "cell_type": "code",
      "execution_count": null,
      "metadata": {
        "id": "UPJ7ygHnWP6B"
      },
      "outputs": [],
      "source": [
        "with options({'debug_stripper': True}):\n",
        "  test_func2 = test_function_2()\n",
        "  p1 = tf.constant(float('inf'))\n",
        "  try:\n",
        "    test_func2(p1)\n",
        "  except tf.errors.InvalidArgumentError as e:\n",
        "    traceback.print_exc(limit=2)"
      ]
    },
    {
      "cell_type": "markdown",
      "metadata": {
        "id": "nAsESNUB1QpI"
      },
      "source": [
        "El optimizador de depuración saca el nodo `tf.debug.check_numerics` del gráfico y ejecuta la función sin provocar errores. "
      ]
    },
    {
      "cell_type": "markdown",
      "metadata": {
        "id": "wHC6tR9GvFgW"
      },
      "source": [
        "## Resumen\n",
        "\n",
        "El tiempo de ejecución de TensorFlow usa Grappler para optimizar los gráficos automáticamente antes de la ejecución. Use `tf.config.optimizer.set_experimental_options` para habilitar o deshabilitar los distintos optimizadores de gráficos.\n",
        "\n",
        "Para obtener más información sobre Grappler, consulte <a href=\"http://web.stanford.edu/class/cs245/slides/TFGraphOptimizationsStanford.pdf\" class=\"external\">Optimizaciones de gráfico de TensorFlow</a>."
      ]
    }
  ],
  "metadata": {
    "colab": {
      "collapsed_sections": [],
      "name": "graph_optimization.ipynb",
      "toc_visible": true
    },
    "kernelspec": {
      "display_name": "Python 3",
      "name": "python3"
    }
  },
  "nbformat": 4,
  "nbformat_minor": 0
}
