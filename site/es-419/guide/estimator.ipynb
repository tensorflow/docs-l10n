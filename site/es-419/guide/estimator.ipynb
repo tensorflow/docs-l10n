{
  "cells": [
    {
      "cell_type": "markdown",
      "metadata": {
        "id": "Tce3stUlHN0L"
      },
      "source": [
        "##### Copyright 2019 The TensorFlow Authors."
      ]
    },
    {
      "cell_type": "code",
      "execution_count": null,
      "metadata": {
        "cellView": "form",
        "id": "tuOe1ymfHZPu"
      },
      "outputs": [],
      "source": [
        "#@title Licensed under the Apache License, Version 2.0 (the \"License\");\n",
        "# you may not use this file except in compliance with the License.\n",
        "# You may obtain a copy of the License at\n",
        "#\n",
        "# https://www.apache.org/licenses/LICENSE-2.0\n",
        "#\n",
        "# Unless required by applicable law or agreed to in writing, software\n",
        "# distributed under the License is distributed on an \"AS IS\" BASIS,\n",
        "# WITHOUT WARRANTIES OR CONDITIONS OF ANY KIND, either express or implied.\n",
        "# See the License for the specific language governing permissions and\n",
        "# limitations under the License."
      ]
    },
    {
      "cell_type": "markdown",
      "metadata": {
        "id": "qFdPvlXBOdUN"
      },
      "source": [
        "# Estimadores"
      ]
    },
    {
      "cell_type": "markdown",
      "metadata": {
        "id": "MfBg1C5NB3X0"
      },
      "source": [
        "<table class=\"tfo-notebook-buttons\" align=\"left\">\n",
        "  <td><a target=\"_blank\" href=\"https://www.tensorflow.org/guide/estimator\"><img src=\"https://www.tensorflow.org/images/tf_logo_32px.png\">Ver en TensorFlow.org</a></td>\n",
        "  <td><a target=\"_blank\" href=\"https://colab.research.google.com/github/tensorflow/docs-l10n/blob/master/site/es-419/guide/estimator.ipynb\"><img src=\"https://www.tensorflow.org/images/colab_logo_32px.png\">Ejecutar en Google Colab</a></td>\n",
        "  <td>     <a target=\"_blank\" href=\"https://github.com/tensorflow/docs-l10n/blob/master/site/es-419/guide/estimator.ipynb\"><img src=\"https://www.tensorflow.org/images/GitHub-Mark-32px.png\">Ver fuente en GitHub</a>\n",
        "</td>\n",
        "  <td>     <a href=\"https://storage.googleapis.com/tensorflow_docs/docs-l10n/site/es-419/guide/estimator.ipynb\"><img src=\"https://www.tensorflow.org/images/download_logo_32px.png\">Descargar bloc de notas</a>\n",
        "</td>\n",
        "</table>"
      ]
    },
    {
      "cell_type": "markdown",
      "metadata": {
        "id": "rILQuAiiRlI7"
      },
      "source": [
        "> Advertencia: Los estimadores no se recomiendan para código nuevo. Los estimadores ejecutan el código de estilo `v1.Session` que es más difícil de escribir correctamente y puede tener un comportamiento inesperado; particularmente, cuando se combina con código TF 2. Los estimadores están incluidos dentro de nuestras [garantías de compatibilidad](https://tensorflow.org/guide/versions), pero no se les harán correcciones a menos que se trate de vulnerabilidades de seguridad. Para más detalles, consulte la [Guía de migración](https://tensorflow.org/guide/migrate)."
      ]
    },
    {
      "cell_type": "markdown",
      "metadata": {
        "id": "oEinLJt2Uowq"
      },
      "source": [
        "En este documento se presenta al `tf.estimator`, una API de TensorFlow de alto nivel. Los estimadores encapsulan las siguientes acciones:\n",
        "\n",
        "- Entrenamiento\n",
        "- Evaluación\n",
        "- Predicción\n",
        "- Exportaciones para servicios\n",
        "\n",
        "TensorFlow implementa muchos estimadores preconfigurados. Todavía se admiten los estimadores personalizados, pero principalmente como una medida de compatibilidad retrospectiva. Los **estimadores no se deberían usar para código nuevo**. Las clases de todos los estimadores, los preconfigurados y los personalizados, están basadas en la clase `tf.estimator.Estimator`.\n",
        "\n",
        "Para acceder a un ejemplo rápido, consulte los [tutoriales sobre estimadores](../tutorials/estimator/linear.ipynb). Para tener una idea general del diseño de la API, consulte la [documentación técnica](https://arxiv.org/abs/1708.02637)."
      ]
    },
    {
      "cell_type": "markdown",
      "metadata": {
        "id": "KLdnqg4G2bmz"
      },
      "source": [
        "## Preparación"
      ]
    },
    {
      "cell_type": "code",
      "execution_count": null,
      "metadata": {
        "id": "cXRQ6mRM5gk0"
      },
      "outputs": [],
      "source": [
        "!pip install -U tensorflow_datasets"
      ]
    },
    {
      "cell_type": "code",
      "execution_count": null,
      "metadata": {
        "id": "J_-C9ty22dkD"
      },
      "outputs": [],
      "source": [
        "import tempfile\n",
        "import os\n",
        "\n",
        "import tensorflow as tf\n",
        "import tensorflow_datasets as tfds"
      ]
    },
    {
      "cell_type": "markdown",
      "metadata": {
        "id": "Wg5zbBliQvNL"
      },
      "source": [
        "## Ventajas\n",
        "\n",
        "De un modo similar a lo que sucede con `tf.keras.Model`, un `estimator` es una abstracción a nivel del modelo. El `tf.estimator` proporciona algunas capacidades que actualmente aún se encuentran en desarrollo para `tf.keras`. Estas son:\n",
        "\n",
        "- Entrenamiento basado en servidores de parámetros\n",
        "- Integración [TFX](http://tensorflow.org/tfx) completa"
      ]
    },
    {
      "cell_type": "markdown",
      "metadata": {
        "id": "yQ8fQYt_VD5E"
      },
      "source": [
        "## Capacidades de estimadores\n",
        "\n",
        "Los estimadores aportan los siguientes beneficios:\n",
        "\n",
        "- Se pueden ejecutar modelos basados en estimadores en un huésped local o en un entorno de múltiples servidores distribuidos sin cambiar el modelo. Además, los modelos basados en estimadores se pueden ejecutar en más de una CPU, GPU o TPU sin recodificar un modelo.\n",
        "- Los estimadores ofrecen un bucle de entrenamiento distribuido seguro que controla cómo y cuándo se hace lo siguiente:\n",
        "    - Cargar los datos\n",
        "    - Manejar las excepciones\n",
        "    - Crear archivos de puntos de verificación y recuperar si se producen fallas\n",
        "    - Guardar resúmenes para TensorBoard\n",
        "\n",
        "Al escribir una aplicación con estimadores, hay que hacer una separación entre la canalización de entrada de datos y el modelo. Con esta separación se simplifican los experimentos con distintas bases de datos."
      ]
    },
    {
      "cell_type": "markdown",
      "metadata": {
        "id": "jQ2PsufpgIpM"
      },
      "source": [
        "## Uso de estimadores preconfigurados\n",
        "\n",
        "Los estimadores preconfigurados permiten trabajar a un nivel conceptual mucho más alto que las API TensorFlow de base. Ya no hace falta preocuparse por crear el grafo computacional ni las sesiones, ya que los estimadores son los que se ocupan de hacer el \"trabajo pesado\". Además, los estimadores preconfigurados permiten experimentar con diferentes arquitecturas de modelos con solo hacer unos cambios mínimos en el código. `tf.estimator.DNNClassifier`, por ejemplo, es una clase de estimador preconfigurado que entrena a los modelos de clasificación basándose en redes neuronales prealimentadas densas.\n",
        "\n",
        "Un programa TensorFlow que depende de un estimador preconfigurado, normalmente, está compuesto por los siguientes cuatro pasos:"
      ]
    },
    {
      "cell_type": "markdown",
      "metadata": {
        "id": "mIJPPe26gQpF"
      },
      "source": [
        "### 1. Escritura de funciones de entrada\n",
        "\n",
        "Por ejemplo, se puede crear una función para importar el conjunto de entrenamiento y otra para importar el conjunto de prueba. Los estimadores esperan que sus entradas estén formateadas como pares de objetos:\n",
        "\n",
        "- Un diccionario en el que las claves son nombres de características y los valores son Tensores (o SparseTensors) que contienen los datos de características correspondientes.\n",
        "- Un Tensor que contiene una o más etiquetas\n",
        "\n",
        "El `input_fn` debe devolver una `tf.data.Dataset` que produzca pares en ese formato.\n",
        "\n",
        "Por ejemplo, el siguiente código construye una `tf.data.Dataset` del archivo `train.csv` del conjunto de datos del Titanic:"
      ]
    },
    {
      "cell_type": "code",
      "execution_count": null,
      "metadata": {
        "id": "7fl_C5d6hEl3"
      },
      "outputs": [],
      "source": [
        "def train_input_fn():\n",
        "  titanic_file = tf.keras.utils.get_file(\"train.csv\", \"https://storage.googleapis.com/tf-datasets/titanic/train.csv\")\n",
        "  titanic = tf.data.experimental.make_csv_dataset(\n",
        "      titanic_file, batch_size=32,\n",
        "      label_name=\"survived\")\n",
        "  titanic_batches = (\n",
        "      titanic.cache().repeat().shuffle(500)\n",
        "      .prefetch(tf.data.AUTOTUNE))\n",
        "  return titanic_batches"
      ]
    },
    {
      "cell_type": "markdown",
      "metadata": {
        "id": "CjyrQGb3mCcp"
      },
      "source": [
        "El `input_fn` se ejecuta en un `tf.Graph` y también puede devolver directamente un par `(features_dics, labels)` que contenga tensores de grafos, pero es propenso a errores excepto en casos simples como los de la devolución de constantes."
      ]
    },
    {
      "cell_type": "markdown",
      "metadata": {
        "id": "yJYjWUMxgTnq"
      },
      "source": [
        "### 2. Definición de las columnas de características\n",
        "\n",
        "Cada `tf.feature_column` identifica el nombre de una columna, su tipo y cualquier entrada en procesamiento previo.\n",
        "\n",
        "Por ejemplo, el siguiente fragmento crea tres columnas de características.\n",
        "\n",
        "- En la primera se usa la característica `age` directamente como una entrada de punto flotante.\n",
        "- En la segunda se usa la característica `class` como entrada categórica.\n",
        "- En la tercera se usa el `embark_town` como entrada categórica, pero también se usa `hashing trick` para evitar tener que enumerar las opciones y para establecer la cantidad de opciones.\n",
        "\n",
        "Para más información, consulte el [tutorial sobre columnas de características](https://www.tensorflow.org/tutorials/keras/feature_columns)."
      ]
    },
    {
      "cell_type": "code",
      "execution_count": null,
      "metadata": {
        "id": "lFd8Dnrmhjhr"
      },
      "outputs": [],
      "source": [
        "age = tf.feature_column.numeric_column('age')\n",
        "cls = tf.feature_column.categorical_column_with_vocabulary_list('class', ['First', 'Second', 'Third']) \n",
        "embark = tf.feature_column.categorical_column_with_hash_bucket('embark_town', 32)"
      ]
    },
    {
      "cell_type": "markdown",
      "metadata": {
        "id": "UIjqAozjgXdr"
      },
      "source": [
        "### 3. Instanciación del estimador preconfigurado relevante.\n",
        "\n",
        "Por ejemplo, la siguiente es una muestra de instanciación de un estimador preconfigurado denominado `LinearClassifier`:"
      ]
    },
    {
      "cell_type": "code",
      "execution_count": null,
      "metadata": {
        "id": "CDOx6lZVoVB8"
      },
      "outputs": [],
      "source": [
        "model_dir = tempfile.mkdtemp()\n",
        "model = tf.estimator.LinearClassifier(\n",
        "    model_dir=model_dir,\n",
        "    feature_columns=[embark, cls, age],\n",
        "    n_classes=2\n",
        ")"
      ]
    },
    {
      "cell_type": "markdown",
      "metadata": {
        "id": "QGl9oYuFoYj6"
      },
      "source": [
        "Para más información, consulte el [tutorial sobre clasificadores lineales](https://www.tensorflow.org/tutorials/estimator/linear)."
      ]
    },
    {
      "cell_type": "markdown",
      "metadata": {
        "id": "sXNBeY-oVxGQ"
      },
      "source": [
        "### 4. Llamado al entrenamiento, la evaluación o el método de inferencia.\n",
        "\n",
        "Todos los estimadores ofrecen métodos `train`, `evaluate` y `predict`.\n"
      ]
    },
    {
      "cell_type": "code",
      "execution_count": null,
      "metadata": {
        "id": "iGaJKkmVBgo2"
      },
      "outputs": [],
      "source": [
        "model = model.train(input_fn=train_input_fn, steps=100)"
      ]
    },
    {
      "cell_type": "code",
      "execution_count": null,
      "metadata": {
        "id": "CXkivCNq0vfH"
      },
      "outputs": [],
      "source": [
        "result = model.evaluate(train_input_fn, steps=10)\n",
        "\n",
        "for key, value in result.items():\n",
        "  print(key, \":\", value)"
      ]
    },
    {
      "cell_type": "code",
      "execution_count": null,
      "metadata": {
        "id": "CPLD8n4CLVi_"
      },
      "outputs": [],
      "source": [
        "for pred in model.predict(train_input_fn):\n",
        "  for key, value in pred.items():\n",
        "    print(key, \":\", value)\n",
        "  break"
      ]
    },
    {
      "cell_type": "markdown",
      "metadata": {
        "id": "cbmrm9pFg5vo"
      },
      "source": [
        "### Beneficios de los estimadores perconfigurados\n",
        "\n",
        "Los estimadores preconfigurados codifican mejores prácticas, brindando los siguientes beneficios:\n",
        "\n",
        "- Mejores prácticas para determinar dónde deberían funcionar las diferentes partes del grafo computacional, mediante la implementación de estrategias en una sola máquina o en un grupo de máquinas (cluster).\n",
        "- Mejores prácticas para la escritura de eventos (resumen) y resúmenes universalmente útiles.\n",
        "\n",
        "Si no usa estimadores preconfigurados, deberá implementar las características anteriores usted mismo."
      ]
    },
    {
      "cell_type": "markdown",
      "metadata": {
        "id": "oIaPjYgnZdn6"
      },
      "source": [
        "## Estimadores personalizados\n",
        "\n",
        "El corazón de cada estimador, ya sea preconfigurado o personalizado, es su *función modelo*, `model_fn`, que es el método que construye los gráficos para entrenamiento, evaluación y predicción. Cuando se usan estimadores preconfigurados, alguien más ya ha implementado la función modelo. Cuando se depende de un estimador personalizado, a la función modelo debe escribirla usted mismo.\n",
        "\n",
        "> Nota: Una `model_fn` aún funcionará en el modo de grafo estilo 1.x. Significa que no hay ejecución <em>eager</em> ni dependencias de control automático. Debería planificar entonces la migración fuera del `tf.estimator` con la `model_fn` personalizada. Las API alternativas son `tf.keras` y `tf.distribute`. Si todavía hace falta un `Estimator` para alguna parte de su entrenamiento, puede usar el conversor `tf.keras.estimator.model_to_estimator` para crear un `Estimator` a partir de un `keras.Model`."
      ]
    },
    {
      "cell_type": "markdown",
      "metadata": {
        "id": "P7aPNnXUbN4j"
      },
      "source": [
        "## Creación de un estimador a partir de un modelo Keras\n",
        "\n",
        "Se pueden convertir modelos Keras existentes en estimadores con `tf.keras.estimator.model_to_estimator`. Esto resulta útil cuando desea modernizar el código del modelo, pero la canalización de entrenamiento aún requiere estimadores.\n",
        "\n",
        "Instancie un modelo Keras MobileNet V2 y compile el modelo con el optimizador, la pérdida y las métricas para entrenar con lo siguiente:"
      ]
    },
    {
      "cell_type": "code",
      "execution_count": null,
      "metadata": {
        "id": "XE6NMcuGeDOP"
      },
      "outputs": [],
      "source": [
        "keras_mobilenet_v2 = tf.keras.applications.MobileNetV2(\n",
        "    input_shape=(160, 160, 3), include_top=False)\n",
        "keras_mobilenet_v2.trainable = False\n",
        "\n",
        "estimator_model = tf.keras.Sequential([\n",
        "    keras_mobilenet_v2,\n",
        "    tf.keras.layers.GlobalAveragePooling2D(),\n",
        "    tf.keras.layers.Dense(1)\n",
        "])\n",
        "\n",
        "# Compile the model\n",
        "estimator_model.compile(\n",
        "    optimizer='adam',\n",
        "    loss=tf.keras.losses.BinaryCrossentropy(from_logits=True),\n",
        "    metrics=['accuracy'])"
      ]
    },
    {
      "cell_type": "markdown",
      "metadata": {
        "id": "A3hcxzcEfYfX"
      },
      "source": [
        "Cree un `Estimator` a partir de un modelo Keras compilado. El estado inicial del modelo Keras se preserva en el `Estimator` creado:"
      ]
    },
    {
      "cell_type": "code",
      "execution_count": null,
      "metadata": {
        "id": "UCSSifirfyHk"
      },
      "outputs": [],
      "source": [
        "est_mobilenet_v2 = tf.keras.estimator.model_to_estimator(keras_model=estimator_model)"
      ]
    },
    {
      "cell_type": "markdown",
      "metadata": {
        "id": "8jRNRVb_fzGT"
      },
      "source": [
        "Trate al `Estimator` derivado del mismo modo que a cualquier otro `Estimator`."
      ]
    },
    {
      "cell_type": "code",
      "execution_count": null,
      "metadata": {
        "id": "Rv9xJk51e1fB"
      },
      "outputs": [],
      "source": [
        "IMG_SIZE = 160  # All images will be resized to 160x160\n",
        "\n",
        "def preprocess(image, label):\n",
        "  image = tf.cast(image, tf.float32)\n",
        "  image = (image/127.5) - 1\n",
        "  image = tf.image.resize(image, (IMG_SIZE, IMG_SIZE))\n",
        "  return image, label"
      ]
    },
    {
      "cell_type": "code",
      "execution_count": null,
      "metadata": {
        "id": "Fw8OjwujVBkc"
      },
      "outputs": [],
      "source": [
        "def train_input_fn(batch_size):\n",
        "  data = tfds.load('cats_vs_dogs', as_supervised=True)\n",
        "  train_data = data['train']\n",
        "  train_data = train_data.map(preprocess).shuffle(500).batch(batch_size)\n",
        "  return train_data"
      ]
    },
    {
      "cell_type": "markdown",
      "metadata": {
        "id": "JMb0cuy0gbTi"
      },
      "source": [
        "Para entrenar, llame a la función entrenamiento del estimador:"
      ]
    },
    {
      "cell_type": "code",
      "execution_count": null,
      "metadata": {
        "id": "4JsvMp8Jge80"
      },
      "outputs": [],
      "source": [
        "est_mobilenet_v2.train(input_fn=lambda: train_input_fn(32), steps=50)"
      ]
    },
    {
      "cell_type": "markdown",
      "metadata": {
        "id": "jvr_rAzngY9v"
      },
      "source": [
        "Del mismo modo, para evaluar, llame a la función evaluar del estimador:"
      ]
    },
    {
      "cell_type": "code",
      "execution_count": null,
      "metadata": {
        "id": "kVNPqysQgYR2"
      },
      "outputs": [],
      "source": [
        "est_mobilenet_v2.evaluate(input_fn=lambda: train_input_fn(32), steps=10)"
      ]
    },
    {
      "cell_type": "markdown",
      "metadata": {
        "id": "5HeTOvCYbjZb"
      },
      "source": [
        "Para más detalles, consulte la documentación sobre `tf.keras.estimator.model_to_estimator`."
      ]
    },
    {
      "cell_type": "markdown",
      "metadata": {
        "id": "zGG1tOM0L6iM"
      },
      "source": [
        "## Estimadores para guardar puntos de verificación (checkpoints) basados en objetos\n",
        "\n",
        "Por defecto, los estimadores guardan puntos de verificación con nombres variables más que con el grafo de objetos descripto en la [Guía de puntos de verificación](checkpoint.ipynb). `tf.train.Checkpoint` leerá puntos de verificación basados en nombres, pero los nombres variables pueden cambiar cuando se muevan partes de un modelo fuera del `model_fn` del estimador. Para guardar <em>compatibilidad hacia adelante</em>, los puntos de verificación basados en objetos facilitan el entrenamiento de un modelo dentro de un estimador y después lo usan fuera."
      ]
    },
    {
      "cell_type": "code",
      "execution_count": null,
      "metadata": {
        "id": "-8AMJeueNyoM"
      },
      "outputs": [],
      "source": [
        "import tensorflow.compat.v1 as tf_compat"
      ]
    },
    {
      "cell_type": "code",
      "execution_count": null,
      "metadata": {
        "id": "W5JbCEUGY-Xo"
      },
      "outputs": [],
      "source": [
        "def toy_dataset():\n",
        "  inputs = tf.range(10.)[:, None]\n",
        "  labels = inputs * 5. + tf.range(5.)[None, :]\n",
        "  return tf.data.Dataset.from_tensor_slices(\n",
        "    dict(x=inputs, y=labels)).repeat().batch(2)"
      ]
    },
    {
      "cell_type": "code",
      "execution_count": null,
      "metadata": {
        "id": "gTZbsIRCZnCU"
      },
      "outputs": [],
      "source": [
        "class Net(tf.keras.Model):\n",
        "  \"\"\"A simple linear model.\"\"\"\n",
        "\n",
        "  def __init__(self):\n",
        "    super(Net, self).__init__()\n",
        "    self.l1 = tf.keras.layers.Dense(5)\n",
        "\n",
        "  def call(self, x):\n",
        "    return self.l1(x)"
      ]
    },
    {
      "cell_type": "code",
      "execution_count": null,
      "metadata": {
        "id": "T6fQsBzJQN2y"
      },
      "outputs": [],
      "source": [
        "def model_fn(features, labels, mode):\n",
        "  net = Net()\n",
        "  opt = tf.keras.optimizers.Adam(0.1)\n",
        "  ckpt = tf.train.Checkpoint(step=tf_compat.train.get_global_step(),\n",
        "                             optimizer=opt, net=net)\n",
        "  with tf.GradientTape() as tape:\n",
        "    output = net(features['x'])\n",
        "    loss = tf.reduce_mean(tf.abs(output - features['y']))\n",
        "  variables = net.trainable_variables\n",
        "  gradients = tape.gradient(loss, variables)\n",
        "  return tf.estimator.EstimatorSpec(\n",
        "    mode,\n",
        "    loss=loss,\n",
        "    train_op=tf.group(opt.apply_gradients(zip(gradients, variables)),\n",
        "                      ckpt.step.assign_add(1)),\n",
        "    # Tell the Estimator to save \"ckpt\" in an object-based format.\n",
        "    scaffold=tf_compat.train.Scaffold(saver=ckpt))\n",
        "\n",
        "tf.keras.backend.clear_session()\n",
        "est = tf.estimator.Estimator(model_fn, './tf_estimator_example/')\n",
        "est.train(toy_dataset, steps=10)"
      ]
    },
    {
      "cell_type": "markdown",
      "metadata": {
        "id": "tObYHnrrb_mL"
      },
      "source": [
        "`tf.train.Checkpoint`, entonces, puede cargar los puntos de verificación del estimador desde su `model_dir`."
      ]
    },
    {
      "cell_type": "code",
      "execution_count": null,
      "metadata": {
        "id": "Q6IP3Y_wb-fs"
      },
      "outputs": [],
      "source": [
        "opt = tf.keras.optimizers.Adam(0.1)\n",
        "net = Net()\n",
        "ckpt = tf.train.Checkpoint(\n",
        "  step=tf.Variable(1, dtype=tf.int64), optimizer=opt, net=net)\n",
        "ckpt.restore(tf.train.latest_checkpoint('./tf_estimator_example/'))\n",
        "ckpt.step.numpy()  # From est.train(..., steps=10)"
      ]
    },
    {
      "cell_type": "markdown",
      "metadata": {
        "id": "Dk5wWyuMpuHx"
      },
      "source": [
        "## SavedModels de estimadores\n",
        "\n",
        "Los estimadores exportan SavedModels con `tf.Estimator.export_saved_model`."
      ]
    },
    {
      "cell_type": "code",
      "execution_count": null,
      "metadata": {
        "id": "B9KQq5qzpzbK"
      },
      "outputs": [],
      "source": [
        "input_column = tf.feature_column.numeric_column(\"x\")\n",
        "\n",
        "estimator = tf.estimator.LinearClassifier(feature_columns=[input_column])\n",
        "\n",
        "def input_fn():\n",
        "  return tf.data.Dataset.from_tensor_slices(\n",
        "    ({\"x\": [1., 2., 3., 4.]}, [1, 1, 0, 0])).repeat(200).shuffle(64).batch(16)\n",
        "estimator.train(input_fn)"
      ]
    },
    {
      "cell_type": "markdown",
      "metadata": {
        "id": "y9qCa6J6FVS5"
      },
      "source": [
        "Para guardar un `Estimator` debe crear un `serving_input_receiver`. Esta función construye una parte de un `tf.Graph` que analiza los datos crudos recibidos por el SavedModel.\n",
        "\n",
        "El módulo `tf.estimator.export` contiene funciones para ayudar a construir estos `receivers`.\n"
      ]
    },
    {
      "cell_type": "markdown",
      "metadata": {
        "id": "XJ4PJ-Cl4060"
      },
      "source": [
        "El siguiente código construye un receptor, basado en las `feature_columns`, que acepta búferes de protocolo `tf.Example` serializados, y que, por lo general, se usan con [tf-serving](https://tensorflow.org/serving)."
      ]
    },
    {
      "cell_type": "code",
      "execution_count": null,
      "metadata": {
        "id": "lnmsmGOQFPED"
      },
      "outputs": [],
      "source": [
        "tmpdir = tempfile.mkdtemp()\n",
        "\n",
        "serving_input_fn = tf.estimator.export.build_parsing_serving_input_receiver_fn(\n",
        "  tf.feature_column.make_parse_example_spec([input_column]))\n",
        "\n",
        "estimator_base_path = os.path.join(tmpdir, 'from_estimator')\n",
        "estimator_path = estimator.export_saved_model(estimator_base_path, serving_input_fn)"
      ]
    },
    {
      "cell_type": "markdown",
      "metadata": {
        "id": "Q7XtbLMDaie2"
      },
      "source": [
        "También puede cargar y ejecutar ese modelo desde Python:"
      ]
    },
    {
      "cell_type": "code",
      "execution_count": null,
      "metadata": {
        "id": "c_BUBBNB1UH9"
      },
      "outputs": [],
      "source": [
        "imported = tf.saved_model.load(estimator_path)\n",
        "\n",
        "def predict(x):\n",
        "  example = tf.train.Example()\n",
        "  example.features.feature[\"x\"].float_list.value.extend([x])\n",
        "  return imported.signatures[\"predict\"](\n",
        "    examples=tf.constant([example.SerializeToString()]))"
      ]
    },
    {
      "cell_type": "code",
      "execution_count": null,
      "metadata": {
        "id": "C1ylWZCQ1ahG"
      },
      "outputs": [],
      "source": [
        "print(predict(1.5))\n",
        "print(predict(3.5))"
      ]
    },
    {
      "cell_type": "markdown",
      "metadata": {
        "id": "_IrCCm0-isqA"
      },
      "source": [
        "`tf.estimator.export.build_raw_serving_input_receiver_fn` le permite crear funciones de entrada que toman tensores en bruto más que `tf.train.Example`."
      ]
    },
    {
      "cell_type": "markdown",
      "metadata": {
        "id": "nO0hmFCRoIll"
      },
      "source": [
        "## Uso de `tf.distribute.Strategy` con estimador (compatibilidad limitada)\n",
        "\n",
        "`tf.estimator` es una API de TensorFlow de entrenamiento distribuido que originalmente era compatible con el método de servidores con parámetros asincrónicos. Ahora, `tf.estimator` admite `tf.distribute.Strategy`. Si usted usa `tf.estimator`, puede cambiar a entrenamiento distribuido haciendo unas pocas modificaciones en el código. De este modo, los usuarios de estimadores, ahora pueden hacer entrenamientos distribuidos sincrónicos en múltiples GPU con múltiples nodos trabajador, así como también, pueden usar TPU. No obstante, esta compatibilidad en estimadores es limitada. Para más detalles, consulte la sección [Qué es compatible ahora](#estimator_support) que se encuentra más adelante.\n",
        "\n",
        "Si usa `tf.distribute.Strategy` con estimador, será levemente diferente al caso de Keras. En vez de usar `strategy.scope`, ahora pase el objeto estrategia al `RunConfig` para el estimador.\n",
        "\n",
        "Para más información, puede consultar la [guía sobre entrenamiento distribuido](distributed_training.ipynb).\n",
        "\n",
        "A continuación, un fragmento de código en el que se muestra esto con un estimador preconfigurado, `LinearRegressor` y `MirroredStrategy`:\n"
      ]
    },
    {
      "cell_type": "code",
      "execution_count": null,
      "metadata": {
        "id": "oGFY5nW_B3YU"
      },
      "outputs": [],
      "source": [
        "mirrored_strategy = tf.distribute.MirroredStrategy()\n",
        "config = tf.estimator.RunConfig(\n",
        "    train_distribute=mirrored_strategy, eval_distribute=mirrored_strategy)\n",
        "regressor = tf.estimator.LinearRegressor(\n",
        "    feature_columns=[tf.feature_column.numeric_column('feats')],\n",
        "    optimizer='SGD',\n",
        "    config=config)"
      ]
    },
    {
      "cell_type": "markdown",
      "metadata": {
        "id": "n6eSfLN5RGY8"
      },
      "source": [
        "En este caso se usa un estimador preconfigurado, pero el mismo código también funciona con un estimador personalizado.`train_distribute` determina cómo se distribuirá el entrenamiento y `eval_distribute` determina cómo se distribuirá la evaluación. Esta es otra diferencia de Keras, donde se usa la misma estrategia tanto para el entrenamiento como para la evaluación.\n",
        "\n",
        "Ahora puede entrenar y evaluar este estimador con una función de entrada:\n"
      ]
    },
    {
      "cell_type": "code",
      "execution_count": null,
      "metadata": {
        "id": "2ky2ve2PB3YP"
      },
      "outputs": [],
      "source": [
        "def input_fn():\n",
        "  dataset = tf.data.Dataset.from_tensors(({\"feats\":[1.]}, [1.]))\n",
        "  return dataset.repeat(1000).batch(10)\n",
        "regressor.train(input_fn=input_fn, steps=10)\n",
        "regressor.evaluate(input_fn=input_fn, steps=10)"
      ]
    },
    {
      "cell_type": "markdown",
      "metadata": {
        "id": "hgaU9xQSSk2x"
      },
      "source": [
        "Otra diferencia para destacar en este caso entre el modelo estimador y Keras es el manejo de la entrada. En Keras, cada lote de conjunto de datos se divide automáticamente en múltiples réplicas. En Estimator, sin embargo, no se realiza una división automática de lotes, ni un particionamiento horizontal automático de los datos a través de diferentes nodos trabajador (workers). Usted tiene el control total de cómo desea que los datos se distribuyan entre los nodos trabajador y dispositivos, debe proporcionar una `input_fn` para especificar cómo se distribuirán sus datos.\n",
        "\n",
        "A su `input_fn` se la llama una vez por cada nodo trabajador, dando, por tanto, un conjunto de datos por nodo. Entonces, con un lote de ese conjunto de datos se alimenta a una réplica en ese nodo trabajador, de modo tal que se consumen N lotes para N réplicas en 1 nodo. En otras palabras, el conjunto de datos devuelto por la `input_fn` deberá proporcionar lotes de tamaño `PER_REPLICA_BATCH_SIZE`. Y el tamaño del lote global para un paso se puede obtener como `PER_REPLICA_BATCH_SIZE * strategy.num_replicas_in_sync`.\n",
        "\n",
        "Cuando realice un entrenamiento con múltiples nodos trabajador, deberá o bien separar los datos en los nodos trabajador o aleatorizar con semilla aleatoria en cada uno. Puede consultar un ejemplo de cómo hacerlo en el tutorial [Entrenamiento multitrabajador con estimador](../tutorials/distribute/multi_worker_with_estimator.ipynb)."
      ]
    },
    {
      "cell_type": "markdown",
      "metadata": {
        "id": "G3ieQKfWZhhL"
      },
      "source": [
        "De un modo similar, también se pueden usar las estrategias multitrabajador y servidor parámetro. El código se mantiene igual, pero hay que usar `tf.estimator.train_and_evaluate` y establecer variables de entorno `TF_CONFIG` para cada binario que se esté ejecutando en su grupo (cluster)."
      ]
    },
    {
      "cell_type": "markdown",
      "metadata": {
        "id": "A_lvUsSLZzVg"
      },
      "source": [
        "<a name=\"estimator_support\"></a>\n",
        "\n",
        "### Qué es compatible ahora\n",
        "\n",
        "Hay una compatibilidad limitada para el entrenamiento con Estimador usando todas las estrategias excepto `TPUStrategy`. El entrenamiento y la evaluación básicos deberían funcionar, pero hay unas cuantas características avanzadas como `v1.train.Scaffold` que no funcionan. También puede haber errores (bugs) en esta integración y no hay planes para mejorar activamente esta compatibilidad (el foco está puesto en la compatibilidad con el ciclo de entrenamiento personalizado y con Keras). En caso de ser posible, sin embargo, sería preferible usar `tf.distribute` con esas API.\n",
        "\n",
        "API de entrenamiento | MirroredStrategy | TPUStrategy | MultiWorkerMirroredStrategy | CentralStorageStrategy | ParameterServerStrategy\n",
        ":-- | :-- | :-- | :-- | :-- | :--\n",
        "API de estimador | Compatibilidad limitada | No compatible | Compatibilidad limitada | Compatibilidad limitada | Compatibilidad limitada\n",
        "\n",
        "### Ejemplos y tutoriales\n",
        "\n",
        "A continuación, compartimos algunos ejemplos completos en los que se muestra cómo usar las diferentes estrategias con estimadores:\n",
        "\n",
        "1. En el tutorial [Entrenamiento multitrabajador con estimador](../tutorials/distribute/multi_worker_with_estimator.ipynb) se muestra cómo se puede realizar el entrenamiento con múltiples nodos trabajador usando `MultiWorkerMirroredStrategy` en el conjunto de datos MNIST.\n",
        "2. Un ejemplo, de principio a fin, del [funcionamiento de entrenamiento multitrabajador con estrategias de distribuición](https://github.com/tensorflow/ecosystem/tree/master/distribution_strategy) en `tensorflow/ecosystem` con plantillas Kubernetes. Este ejemplo comienza con un modelo Keras y lo convierte en un estimador con la API `tf.keras.estimator.model_to_estimator`.\n",
        "3. El modelo [ResNet50](https://github.com/tensorflow/models/blob/master/official/vision/image_classification/resnet_imagenet_main.py) oficial, que se puede entrenar ya sea con `MirroredStrategy` o con `MultiWorkerMirroredStrategy`."
      ]
    }
  ],
  "metadata": {
    "accelerator": "GPU",
    "colab": {
      "collapsed_sections": [
        "Tce3stUlHN0L",
        "KLdnqg4G2bmz",
        "Wg5zbBliQvNL",
        "yQ8fQYt_VD5E",
        "jQ2PsufpgIpM",
        "mIJPPe26gQpF",
        "yJYjWUMxgTnq",
        "UIjqAozjgXdr",
        "sXNBeY-oVxGQ",
        "cbmrm9pFg5vo",
        "oIaPjYgnZdn6",
        "P7aPNnXUbN4j",
        "zGG1tOM0L6iM",
        "Dk5wWyuMpuHx",
        "nO0hmFCRoIll",
        "A_lvUsSLZzVg"
      ],
      "name": "estimator.ipynb",
      "toc_visible": true
    },
    "kernelspec": {
      "display_name": "Python 3",
      "name": "python3"
    }
  },
  "nbformat": 4,
  "nbformat_minor": 0
}
