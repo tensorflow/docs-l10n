{
  "cells": [
    {
      "cell_type": "markdown",
      "metadata": {
        "id": "b518b04cbfe0"
      },
      "source": [
        "##### Copyright 2020 The TensorFlow Authors."
      ]
    },
    {
      "cell_type": "code",
      "execution_count": null,
      "metadata": {
        "cellView": "form",
        "id": "906e07f6e562"
      },
      "outputs": [],
      "source": [
        "#@title Licensed under the Apache License, Version 2.0 (the \"License\");\n",
        "# you may not use this file except in compliance with the License.\n",
        "# You may obtain a copy of the License at\n",
        "#\n",
        "# https://www.apache.org/licenses/LICENSE-2.0\n",
        "#\n",
        "# Unless required by applicable law or agreed to in writing, software\n",
        "# distributed under the License is distributed on an \"AS IS\" BASIS,\n",
        "# WITHOUT WARRANTIES OR CONDITIONS OF ANY KIND, either express or implied.\n",
        "# See the License for the specific language governing permissions and\n",
        "# limitations under the License."
      ]
    },
    {
      "cell_type": "markdown",
      "metadata": {
        "id": "394e705afdd5"
      },
      "source": [
        "# Guardar y cargar modelos de Keras"
      ]
    },
    {
      "cell_type": "markdown",
      "metadata": {
        "id": "60de82f6bcea"
      },
      "source": [
        "<table class=\"tfo-notebook-buttons\" align=\"left\">\n",
        "  <td>     <a target=\"_blank\" href=\"https://www.tensorflow.org/guide/keras/save_and_serialize\">     <img src=\"https://www.tensorflow.org/images/tf_logo_32px.png\">     Ver en TensorFlow.org</a>\n",
        "</td>\n",
        "  <td><a target=\"_blank\" href=\"https://colab.research.google.com/github/tensorflow/docs-l10n/blob/master/site/es-419/guide/keras/save_and_serialize.ipynb\"><img src=\"https://www.tensorflow.org/images/colab_logo_32px.png\">Ejecutar en Google Colab</a></td>\n",
        "  <td>     <a target=\"_blank\" href=\"https://github.com/tensorflow/docs-l10n/blob/master/site/es-419/guide/keras/save_and_serialize.ipynb\"><img src=\"https://www.tensorflow.org/images/GitHub-Mark-32px.png\">Ver el código fuente en GitHub</a>\n",
        "</td>\n",
        "  <td>     <a href=\"https://storage.googleapis.com/tensorflow_docs/docs-l10n/site/es-419/guide/keras/save_and_serialize.ipynb\"><img src=\"https://www.tensorflow.org/images/download_logo_32px.png\">Descargar el bloc de notas</a>\n",
        "</td>\n",
        "</table>"
      ]
    },
    {
      "cell_type": "markdown",
      "metadata": {
        "id": "a6e70d8d6fa8"
      },
      "source": [
        "## Introducción\n",
        "\n",
        "Un modelo de Keras consiste en múltiples componentes:\n",
        "\n",
        "- La arquitectura, o configuración, que especifica qué capas contiene el modelo y cómo están conectadas.\n",
        "- Un conjunto de valores de ponderaciones (el \"estado del modelo\").\n",
        "- Un optimizador (definido al compilar el modelo).\n",
        "- Un conjunto de pérdidas y métricas (definidas al compilar el modelo o llamar a `add_loss()` o `add_metric()`).\n",
        "\n",
        "La API de Keras permite guardar todas estas piezas en el disco a la vez, o guardar solo algunas de ellas de forma selectiva:\n",
        "\n",
        "- Guardar todo en un único archivo en el formato TensorFlow SavedModel (o en el antiguo formato Keras H5). Esta es la práctica estándar.\n",
        "- Guardar solo la arquitectura / configuración, normalmente como un archivo JSON.\n",
        "- Guardar solo los valores de las ponderaciones. Esto se utiliza generalmente cuando se entrena el modelo.\n",
        "\n",
        "Veamos cada una de estas opciones. ¿Cuándo utilizarías una u otra y cómo funcionan?"
      ]
    },
    {
      "cell_type": "markdown",
      "metadata": {
        "id": "ff15300e41fe"
      },
      "source": [
        "## Cómo guardar y cargar un modelo\n",
        "\n",
        "Si solo dispone de 10 segundos para leer esta guía, esto es lo que necesita saber.\n",
        "\n",
        "**Guardar un modelo de Keras:**\n",
        "\n",
        "```python\n",
        "model = ...  # Get model (Sequential, Functional Model, or Model subclass)\n",
        "model.save('path/to/location')\n",
        "```\n",
        "\n",
        "**Cargando el modelo de nuevo:**\n",
        "\n",
        "```python\n",
        "from tensorflow import keras\n",
        "model = keras.models.load_model('path/to/location')\n",
        "```\n",
        "\n",
        "Ahora, veamos los detalles."
      ]
    },
    {
      "cell_type": "markdown",
      "metadata": {
        "id": "41fbd6a3290a"
      },
      "source": [
        "## Preparación"
      ]
    },
    {
      "cell_type": "code",
      "execution_count": null,
      "metadata": {
        "id": "abff67cc7505"
      },
      "outputs": [],
      "source": [
        "import numpy as np\n",
        "import tensorflow as tf\n",
        "from tensorflow import keras"
      ]
    },
    {
      "cell_type": "markdown",
      "metadata": {
        "id": "438511b14a90"
      },
      "source": [
        "## Guardar y cargar modelos completos\n",
        "\n",
        "Puede guardar un modelo completo en un solo artefacto. Esto incluirá:\n",
        "\n",
        "- La arquitectura/configuración del modelo\n",
        "- Los valores de ponderación del modelo (aprendidos durante el entrenamiento)\n",
        "- La información de compilación del modelo (si se llamó a `compile()`).\n",
        "- El optimizador y su estado, según corresponda (esto le permite reiniciar el entrenamiento donde lo dejó)\n",
        "\n",
        "#### APIs\n",
        "\n",
        "- `model.save()` o `tf.keras.models.save_model()`\n",
        "- `tf.keras.models.load_model()`\n",
        "\n",
        "Hay dos formatos que puede utilizar para guardar un modelo completo en el disco: **el formato SavedModel de TensorFlow**, y el formato más antiguo de Keras **H5**. El formato recomendado es SavedModel. Es el predeterminado cuando se utiliza `model.save()`.\n",
        "\n",
        "Puede cambiar al formato H5:\n",
        "\n",
        "- Pasar `save_format='h5'` a `save()`.\n",
        "- Pasar un nombre de archivo que termine en `.h5` o `.keras` a `save()`."
      ]
    },
    {
      "cell_type": "markdown",
      "metadata": {
        "id": "812f19d9dc7c"
      },
      "source": [
        "### Formato SavedModel\n",
        "\n",
        "SavedModel es el formato de almacenamiento más completo que guarda la arquitectura del modelo, las ponderaciones y los subgrafos de Tensorflow rastreadas de las funciones de llamada. Esto permite que Keras restaure tanto las capas incorporadas como los objetos personalizados.\n",
        "\n",
        "**Ejemplo:**"
      ]
    },
    {
      "cell_type": "code",
      "execution_count": null,
      "metadata": {
        "id": "4d910eb33378"
      },
      "outputs": [],
      "source": [
        "def get_model():\n",
        "    # Create a simple model.\n",
        "    inputs = keras.Input(shape=(32,))\n",
        "    outputs = keras.layers.Dense(1)(inputs)\n",
        "    model = keras.Model(inputs, outputs)\n",
        "    model.compile(optimizer=\"adam\", loss=\"mean_squared_error\")\n",
        "    return model\n",
        "\n",
        "\n",
        "model = get_model()\n",
        "\n",
        "# Train the model.\n",
        "test_input = np.random.random((128, 32))\n",
        "test_target = np.random.random((128, 1))\n",
        "model.fit(test_input, test_target)\n",
        "\n",
        "# Calling `save('my_model')` creates a SavedModel folder `my_model`.\n",
        "model.save(\"my_model\")\n",
        "\n",
        "# It can be used to reconstruct the model identically.\n",
        "reconstructed_model = keras.models.load_model(\"my_model\")\n",
        "\n",
        "# Let's check:\n",
        "np.testing.assert_allclose(\n",
        "    model.predict(test_input), reconstructed_model.predict(test_input)\n",
        ")\n",
        "\n",
        "# The reconstructed model is already compiled and has retained the optimizer\n",
        "# state, so training can resume:\n",
        "reconstructed_model.fit(test_input, test_target)"
      ]
    },
    {
      "cell_type": "markdown",
      "metadata": {
        "id": "3f8e96c8a949"
      },
      "source": [
        "#### ¿Qué contiene el SavedModel?\n",
        "\n",
        "Al llamar a `model.save('my_model')` se crea una carpeta llamada `my_model`, que contiene lo siguiente:"
      ]
    },
    {
      "cell_type": "code",
      "execution_count": null,
      "metadata": {
        "id": "47be41998ac5"
      },
      "outputs": [],
      "source": [
        "!ls my_model"
      ]
    },
    {
      "cell_type": "markdown",
      "metadata": {
        "id": "ead32a4345d1"
      },
      "source": [
        "La arquitectura del modelo y la configuración de entrenamiento (incluyendo el optimizador, las pérdidas y las métricas) se guardan en `saved_model.pb`. Las ponderaciones se guardan en el directorio `variables/`.\n",
        "\n",
        "Para obtener información detallada sobre el formato SavedModel, consulte la guía [SavedModel (*El formato SavedModel en el disco*)](https://www.tensorflow.org/guide/saved_model#the_savedmodel_format_on_disk).\n",
        "\n",
        "#### Cómo administra SavedModel los objetos personalizados\n",
        "\n",
        "Al guardar el modelo y sus capas, el formato SavedModel almacena el nombre de la clase, la **función de llamada**, las pérdidas y las ponderaciones (y la configuración, si está implementada). La función de llamada define el grafo de cálculo del modelo/ la capa.\n",
        "\n",
        "En ausencia de la configuración del modelo/capa, la función de llamada se utiliza para crear un modelo que existe como el modelo original que puede ser entrenado, evaluado y utilizado para hacer inferencias.\n",
        "\n",
        "No obstante, siempre es una práctica recomendable definir los métodos `get_config` y `from_config` al escribir un modelo personalizado o una clase de capa. Esto le permite actualizar fácilmente el cálculo más tarde si es necesario. Consulte la sección sobre [Objetos personalizados](#custom-objects) para obtener más información.\n",
        "\n",
        "Ejemplo:"
      ]
    },
    {
      "cell_type": "code",
      "execution_count": null,
      "metadata": {
        "id": "28bbf9f611d6"
      },
      "outputs": [],
      "source": [
        "class CustomModel(keras.Model):\n",
        "    def __init__(self, hidden_units):\n",
        "        super(CustomModel, self).__init__()\n",
        "        self.hidden_units = hidden_units\n",
        "        self.dense_layers = [keras.layers.Dense(u) for u in hidden_units]\n",
        "\n",
        "    def call(self, inputs):\n",
        "        x = inputs\n",
        "        for layer in self.dense_layers:\n",
        "            x = layer(x)\n",
        "        return x\n",
        "\n",
        "    def get_config(self):\n",
        "        return {\"hidden_units\": self.hidden_units}\n",
        "\n",
        "    @classmethod\n",
        "    def from_config(cls, config):\n",
        "        return cls(**config)\n",
        "\n",
        "\n",
        "model = CustomModel([16, 16, 10])\n",
        "# Build the model by calling it\n",
        "input_arr = tf.random.uniform((1, 5))\n",
        "outputs = model(input_arr)\n",
        "model.save(\"my_model\")\n",
        "\n",
        "# Option 1: Load with the custom_object argument.\n",
        "loaded_1 = keras.models.load_model(\n",
        "    \"my_model\", custom_objects={\"CustomModel\": CustomModel}\n",
        ")\n",
        "\n",
        "# Option 2: Load without the CustomModel class.\n",
        "\n",
        "# Delete the custom-defined model class to ensure that the loader does not have\n",
        "# access to it.\n",
        "del CustomModel\n",
        "\n",
        "loaded_2 = keras.models.load_model(\"my_model\")\n",
        "np.testing.assert_allclose(loaded_1(input_arr), outputs)\n",
        "np.testing.assert_allclose(loaded_2(input_arr), outputs)\n",
        "\n",
        "print(\"Original model:\", model)\n",
        "print(\"Model Loaded with custom objects:\", loaded_1)\n",
        "print(\"Model loaded without the custom object class:\", loaded_2)\n"
      ]
    },
    {
      "cell_type": "markdown",
      "metadata": {
        "id": "ba7b964eb364"
      },
      "source": [
        "El primer modelo cargado se hace mediante la clase config y `CustomModel`. El segundo modelo se carga creando de forma dinámica la clase model que actúa como el modelo original."
      ]
    },
    {
      "cell_type": "markdown",
      "metadata": {
        "id": "516e30bfbe10"
      },
      "source": [
        "#### Cómo configurar el SavedModel\n",
        "\n",
        "*Nuevo en TensoFlow 2.4* Se agregó el argumento `save_traces` a `model.save`, el cual permite activar el rastreo de funciones de SavedModel. Las funciones se guardan para permitir a Keras volver a cargar objetos personalizados sin las definiciones de clase originales, por lo que cuando `save_traces=False`, todos los objetos personalizados deben tener métodos `get_config`/`from_config` definidos. Al cargar, los objetos personalizados deben pasarse al argumento `custom_objects`. `save_traces=False` reduce el espacio en disco utilizado por el SavedModel y el tiempo de ahorro."
      ]
    },
    {
      "cell_type": "markdown",
      "metadata": {
        "id": "71d9e6b3d6af"
      },
      "source": [
        "### Formato Keras H5\n",
        "\n",
        "Keras también permite guardar un solo archivo HDF5 que contiene la arquitectura del modelo, los valores de las ponderaciones y la información `compile()`. Es una alternativa ligera a SavedModel.\n",
        "\n",
        "**Ejemplo:**"
      ]
    },
    {
      "cell_type": "code",
      "execution_count": null,
      "metadata": {
        "id": "1ae0912f6f9b"
      },
      "outputs": [],
      "source": [
        "model = get_model()\n",
        "\n",
        "# Train the model.\n",
        "test_input = np.random.random((128, 32))\n",
        "test_target = np.random.random((128, 1))\n",
        "model.fit(test_input, test_target)\n",
        "\n",
        "# Calling `save('my_model.h5')` creates a h5 file `my_model.h5`.\n",
        "model.save(\"my_h5_model.h5\")\n",
        "\n",
        "# It can be used to reconstruct the model identically.\n",
        "reconstructed_model = keras.models.load_model(\"my_h5_model.h5\")\n",
        "\n",
        "# Let's check:\n",
        "np.testing.assert_allclose(\n",
        "    model.predict(test_input), reconstructed_model.predict(test_input)\n",
        ")\n",
        "\n",
        "# The reconstructed model is already compiled and has retained the optimizer\n",
        "# state, so training can resume:\n",
        "reconstructed_model.fit(test_input, test_target)"
      ]
    },
    {
      "cell_type": "markdown",
      "metadata": {
        "id": "116bd1b1b215"
      },
      "source": [
        "#### Limitaciones\n",
        "\n",
        "En comparación con el formato SavedModel, hay dos cosas que no se incluyen en el archivo H5:\n",
        "\n",
        "- **Las pérdidas y métricas externas** agregadas mediante `model.add_loss()` &amp; `model.add_metric()` no se guardan (a diferencia de SavedModel). Si tiene dichas pérdidas y métricas en su modelo y desea reanudar el entrenamiento, deberá volver a agregarlas usted mismo después de cargar el modelo. Tenga en cuenta que esto no se aplica a las pérdidas/métricas creadas *dentro* de las capas mediante `self.add_loss()` &amp; `self.add_metric()`. Mientras la capa esté cargada, estas pérdidas y métricas se mantienen, ya que forman parte del método `call` de la capa.\n",
        "- El **grafo del cálculo de los objetos personalizados**, como las capas personalizadas, no se incluye en el archivo guardado. En el momento de la carga, Keras necesitará acceder a las clases/funciones de Python de estos objetos para reconstruir el modelo. Ver [Objetos personalizados](#custom-objects).\n"
      ]
    },
    {
      "cell_type": "markdown",
      "metadata": {
        "id": "bf78706009bf"
      },
      "source": [
        "## Guardar la arquitectura\n",
        "\n",
        "La configuración (o arquitectura) del modelo especifica qué capas contiene el modelo y cómo están conectadas estas capas*. Si tiene la configuración de un modelo, entonces el modelo se puede crear con un estado recién inicializado para las ponderaciones y sin información de compilación.\n",
        "\n",
        "*Note que esto solo se aplica a modelos definidos usando las Apis functional o Sequential y no a modelos subclasificados."
      ]
    },
    {
      "cell_type": "markdown",
      "metadata": {
        "id": "58a708dbb5da"
      },
      "source": [
        "### Configuración de un modelo de la API Sequential o Functional\n",
        "\n",
        "Este tipo de modelos son grafos explícitos de capas: su configuración siempre está disponible de forma estructurada.\n",
        "\n",
        "#### APIs\n",
        "\n",
        "- `get_config()` y `from_config()`\n",
        "- `tf.keras.models.model_to_json()` y `tf.keras.models.model_from_json()`"
      ]
    },
    {
      "cell_type": "markdown",
      "metadata": {
        "id": "3d8b20812b50"
      },
      "source": [
        "#### `get_config()` y `from_config()`\n",
        "\n",
        "Llamar `config = model.get_config()` devolverá un dict Python que contiene la configuración del modelo. El mismo modelo puede reconstruirse mediante `Sequential.from_config(config)` (para un modelo `Sequential`) o `Model.from_config(config)` (para un modelo Functional de API).\n",
        "\n",
        "El mismo flujo de trabajo también funciona para cualquier capa serializable.\n",
        "\n",
        "**Ejemplo de capa:**"
      ]
    },
    {
      "cell_type": "code",
      "execution_count": null,
      "metadata": {
        "id": "4f26b94e879a"
      },
      "outputs": [],
      "source": [
        "layer = keras.layers.Dense(3, activation=\"relu\")\n",
        "layer_config = layer.get_config()\n",
        "new_layer = keras.layers.Dense.from_config(layer_config)"
      ]
    },
    {
      "cell_type": "markdown",
      "metadata": {
        "id": "a7e5dd2a439c"
      },
      "source": [
        "**Ejemplo de modelo Sequential:**"
      ]
    },
    {
      "cell_type": "code",
      "execution_count": null,
      "metadata": {
        "id": "ae0842be8a2a"
      },
      "outputs": [],
      "source": [
        "model = keras.Sequential([keras.Input((32,)), keras.layers.Dense(1)])\n",
        "config = model.get_config()\n",
        "new_model = keras.Sequential.from_config(config)"
      ]
    },
    {
      "cell_type": "markdown",
      "metadata": {
        "id": "1e97ca5f73d7"
      },
      "source": [
        "**Ejemplo de modelo Functional:**"
      ]
    },
    {
      "cell_type": "code",
      "execution_count": null,
      "metadata": {
        "id": "da001f34e412"
      },
      "outputs": [],
      "source": [
        "inputs = keras.Input((32,))\n",
        "outputs = keras.layers.Dense(1)(inputs)\n",
        "model = keras.Model(inputs, outputs)\n",
        "config = model.get_config()\n",
        "new_model = keras.Model.from_config(config)"
      ]
    },
    {
      "cell_type": "markdown",
      "metadata": {
        "id": "d7c08fae3eef"
      },
      "source": [
        "#### `to_json()` y `tf.keras.models.model_from_json()`\n",
        "\n",
        "Esto es similar a `get_config` / `from_config`, excepto que convierte el modelo en una cadena JSON, que luego se puede cargar sin la clase del modelo original. También es específico para los modelos, que no está hecho para las capas.\n",
        "\n",
        "**Ejemplo:**"
      ]
    },
    {
      "cell_type": "code",
      "execution_count": null,
      "metadata": {
        "id": "12885447bd35"
      },
      "outputs": [],
      "source": [
        "model = keras.Sequential([keras.Input((32,)), keras.layers.Dense(1)])\n",
        "json_config = model.to_json()\n",
        "new_model = keras.models.model_from_json(json_config)"
      ]
    },
    {
      "cell_type": "markdown",
      "metadata": {
        "id": "edcae4bf461c"
      },
      "source": [
        "### Objetos personalizados\n",
        "\n",
        "**Modelos y capas**\n",
        "\n",
        "La arquitectura de los modelos y capas subclase se definen en los métodos `__init__` y `call`. Se consideran bytecode de Python, que no se pueden serializar en una configuración compatible con JSON -- podría intentar serializar el bytecode (por ejemplo, mediante `pickle`), pero es completamente inseguro y esto significaría que su modelo no se podría cargar en un sistema diferente.\n",
        "\n",
        "Para guardar/cargar un modelo con capas definidas por el usuario, o un modelo de subclase, debe sobrescribir los métodos `get_config` y de forma opcional `from_config`. Además, debe registrar el objeto personalizado para que Keras sea consciente de ello.\n",
        "\n",
        "**Funciones personalizadas**\n",
        "\n",
        "Las funciones definidas por el usuario (por ejemplo, pérdida de activación o inicialización) no necesitan un método `get_config`. El nombre de la función es suficiente para cargarla siempre que esté registrada como objeto personalizado.\n",
        "\n",
        "**Cargar solo el grafo de TensorFlow**\n",
        "\n",
        "Es posible cargar la gráfica de TensorFlow generada por Keras. Si lo hace, no necesitará proporcionar ningún `custom_objects`. Puede hacerlo de la siguiente manera:"
      ]
    },
    {
      "cell_type": "code",
      "execution_count": null,
      "metadata": {
        "id": "1651c6825106"
      },
      "outputs": [],
      "source": [
        "model.save(\"my_model\")\n",
        "tensorflow_graph = tf.saved_model.load(\"my_model\")\n",
        "x = np.random.uniform(size=(4, 32)).astype(np.float32)\n",
        "predicted = tensorflow_graph(x).numpy()"
      ]
    },
    {
      "cell_type": "markdown",
      "metadata": {
        "id": "b15faa16734b"
      },
      "source": [
        "Tenga en cuenta que este método tiene varios inconvenientes:\n",
        "\n",
        "- Por razones de rastreabilidad, siempre debe tener acceso a los objetos personalizados que se utilizaron. No querrá poner en producción un modelo que no podrá volver a crear.\n",
        "- El objeto que devuelve `tf.saved_model.load` no es un modelo de Keras. Así que no es tan fácil de usar. Por ejemplo, no tendrá acceso a `.predict()` o `.fit()`.\n",
        "\n",
        "Aunque se desaconseja su uso, puede ser útil si se encuentra en un aprieto, por ejemplo, si perdió el código de sus objetos personalizados o tiene problemas para cargar el modelo con `tf.keras.models.load_model()`.\n",
        "\n",
        "Puede encontrar más información en la [página sobre `tf.saved_model.load`](https://www.tensorflow.org/api_docs/python/tf/saved_model/load)"
      ]
    },
    {
      "cell_type": "markdown",
      "metadata": {
        "id": "d308bc27a04d"
      },
      "source": [
        "#### Cómo definir los métodos de configuración\n",
        "\n",
        "Especificaciones:\n",
        "\n",
        "- `get_config` debería devolver un diccionario serializable en JSON para ser compatible con las APIs de ahorro de arquitectura y modelos de Keras.\n",
        "- `from_config(config)` (`classmethod`) debe devolver una nueva capa u objeto del modelo que se crea a partir de la configuración. La implementación predeterminada devuelve `cls(**config)`.\n",
        "\n",
        "**Ejemplo:**"
      ]
    },
    {
      "cell_type": "code",
      "execution_count": null,
      "metadata": {
        "id": "e18c4668dadc"
      },
      "outputs": [],
      "source": [
        "class CustomLayer(keras.layers.Layer):\n",
        "    def __init__(self, a):\n",
        "        self.var = tf.Variable(a, name=\"var_a\")\n",
        "\n",
        "    def call(self, inputs, training=False):\n",
        "        if training:\n",
        "            return inputs * self.var\n",
        "        else:\n",
        "            return inputs\n",
        "\n",
        "    def get_config(self):\n",
        "        return {\"a\": self.var.numpy()}\n",
        "\n",
        "    # There's actually no need to define `from_config` here, since returning\n",
        "    # `cls(**config)` is the default behavior.\n",
        "    @classmethod\n",
        "    def from_config(cls, config):\n",
        "        return cls(**config)\n",
        "\n",
        "\n",
        "layer = CustomLayer(5)\n",
        "layer.var.assign(2)\n",
        "\n",
        "serialized_layer = keras.layers.serialize(layer)\n",
        "new_layer = keras.layers.deserialize(\n",
        "    serialized_layer, custom_objects={\"CustomLayer\": CustomLayer}\n",
        ")"
      ]
    },
    {
      "cell_type": "markdown",
      "metadata": {
        "id": "425a9baa574e"
      },
      "source": [
        "#### Registro del objeto personalizado\n",
        "\n",
        "Keras mantiene una nota de qué clase generó la configuración. En el ejemplo anterior, `tf.keras.layers.serialize` genera una forma serializada de la capa personalizada:\n",
        "\n",
        "```\n",
        "{'class_name': 'CustomLayer', 'config': {'a': 2}}\n",
        "```\n",
        "\n",
        "Keras mantiene una lista maestra de todas las clases incorporadas de capas, modelos, optimizadores y métricas, que se utiliza para encontrar la clase correcta para llamar a `from_config`. Si no se puede encontrar la clase, se producirá un error (`Value Error: Unknown layer`). Hay varias formas de registrar clases personalizadas en esta lista:\n",
        "\n",
        "1. Establecer el argumento `custom_objects` en la función de carga. (consulte el ejemplo en la sección anterior \"Definición de los métodos de configuración\")\n",
        "2. `tf.keras.utils.custom_object_scope` o `tf.keras.utils.CustomObjectScope`\n",
        "3. `tf.keras.utils.register_keras_serializable`"
      ]
    },
    {
      "cell_type": "markdown",
      "metadata": {
        "id": "a047be0ba572"
      },
      "source": [
        "#### Ejemplo de función y capa personalizada"
      ]
    },
    {
      "cell_type": "code",
      "execution_count": null,
      "metadata": {
        "id": "04a82ec30b5c"
      },
      "outputs": [],
      "source": [
        "class CustomLayer(keras.layers.Layer):\n",
        "    def __init__(self, units=32, **kwargs):\n",
        "        super(CustomLayer, self).__init__(**kwargs)\n",
        "        self.units = units\n",
        "\n",
        "    def build(self, input_shape):\n",
        "        self.w = self.add_weight(\n",
        "            shape=(input_shape[-1], self.units),\n",
        "            initializer=\"random_normal\",\n",
        "            trainable=True,\n",
        "        )\n",
        "        self.b = self.add_weight(\n",
        "            shape=(self.units,), initializer=\"random_normal\", trainable=True\n",
        "        )\n",
        "\n",
        "    def call(self, inputs):\n",
        "        return tf.matmul(inputs, self.w) + self.b\n",
        "\n",
        "    def get_config(self):\n",
        "        config = super(CustomLayer, self).get_config()\n",
        "        config.update({\"units\": self.units})\n",
        "        return config\n",
        "\n",
        "\n",
        "def custom_activation(x):\n",
        "    return tf.nn.tanh(x) ** 2\n",
        "\n",
        "\n",
        "# Make a model with the CustomLayer and custom_activation\n",
        "inputs = keras.Input((32,))\n",
        "x = CustomLayer(32)(inputs)\n",
        "outputs = keras.layers.Activation(custom_activation)(x)\n",
        "model = keras.Model(inputs, outputs)\n",
        "\n",
        "# Retrieve the config\n",
        "config = model.get_config()\n",
        "\n",
        "# At loading time, register the custom objects with a `custom_object_scope`:\n",
        "custom_objects = {\"CustomLayer\": CustomLayer, \"custom_activation\": custom_activation}\n",
        "with keras.utils.custom_object_scope(custom_objects):\n",
        "    new_model = keras.Model.from_config(config)"
      ]
    },
    {
      "cell_type": "markdown",
      "metadata": {
        "id": "13c7f2a1be03"
      },
      "source": [
        "### Clonación de modelos en la memoria\n",
        "\n",
        "También se puede clonar un modelo en memoria mediante `tf.keras.models.clone_model()`. Esto es equivalente a obtener la configuración y después recrear el modelo a partir de su configuración (por lo que no conserva la información de compilación ni los valores de las ponderaciones de las capas).\n",
        "\n",
        "**Ejemplo:**"
      ]
    },
    {
      "cell_type": "code",
      "execution_count": null,
      "metadata": {
        "id": "93056ffe6eb4"
      },
      "outputs": [],
      "source": [
        "with keras.utils.custom_object_scope(custom_objects):\n",
        "    new_model = keras.models.clone_model(model)"
      ]
    },
    {
      "cell_type": "markdown",
      "metadata": {
        "id": "05c91a5a23e3"
      },
      "source": [
        "## Cómo guardar y cargar solo los valores de las ponderaciones del modelo\n",
        "\n",
        "Puede elegir guardar y cargar solo las ponderaciones de un modelo. Esto puede ser útil si:\n",
        "\n",
        "- Solo necesita el modelo para la inferencia: en este caso no necesitará reiniciar el entrenamiento, por lo que no necesita la información de compilación ni el estado del optimizador.\n",
        "- Está realizando aprendizaje por transferencia: en este caso estará entrenando un nuevo modelo reutilizando el estado de un modelo anterior, por lo que no necesita la información de compilación del modelo anterior."
      ]
    },
    {
      "cell_type": "markdown",
      "metadata": {
        "id": "c5229f4014f2"
      },
      "source": [
        "### API para transferencia de ponderación en la memoria\n",
        "\n",
        "Las ponderaciones pueden copiarse entre diferentes objetos utilizando `get_weights` y `set_weights`:\n",
        "\n",
        "- `tf.keras.layers.Layer.get_weights()`: Devuelve una lista de matrices numpy.\n",
        "- `tf.keras.layers.Layer.set_weights()`: Establece las ponderaciones del modelo con los valores del argumento `weights`.\n",
        "\n",
        "A continuación, algunos ejemplos.\n",
        "\n",
        "***Transferencia de ponderaciones de una capa a otra, en la memoria***"
      ]
    },
    {
      "cell_type": "code",
      "execution_count": null,
      "metadata": {
        "id": "c9124df19cb2"
      },
      "outputs": [],
      "source": [
        "def create_layer():\n",
        "    layer = keras.layers.Dense(64, activation=\"relu\", name=\"dense_2\")\n",
        "    layer.build((None, 784))\n",
        "    return layer\n",
        "\n",
        "\n",
        "layer_1 = create_layer()\n",
        "layer_2 = create_layer()\n",
        "\n",
        "# Copy weights from layer 1 to layer 2\n",
        "layer_2.set_weights(layer_1.get_weights())"
      ]
    },
    {
      "cell_type": "markdown",
      "metadata": {
        "id": "ff7945516c7d"
      },
      "source": [
        "***Transferencia de ponderaciones de un modelo a otro de arquitectura compatible, en la memoria***"
      ]
    },
    {
      "cell_type": "code",
      "execution_count": null,
      "metadata": {
        "id": "11005d4023d4"
      },
      "outputs": [],
      "source": [
        "# Create a simple functional model\n",
        "inputs = keras.Input(shape=(784,), name=\"digits\")\n",
        "x = keras.layers.Dense(64, activation=\"relu\", name=\"dense_1\")(inputs)\n",
        "x = keras.layers.Dense(64, activation=\"relu\", name=\"dense_2\")(x)\n",
        "outputs = keras.layers.Dense(10, name=\"predictions\")(x)\n",
        "functional_model = keras.Model(inputs=inputs, outputs=outputs, name=\"3_layer_mlp\")\n",
        "\n",
        "# Define a subclassed model with the same architecture\n",
        "class SubclassedModel(keras.Model):\n",
        "    def __init__(self, output_dim, name=None):\n",
        "        super(SubclassedModel, self).__init__(name=name)\n",
        "        self.output_dim = output_dim\n",
        "        self.dense_1 = keras.layers.Dense(64, activation=\"relu\", name=\"dense_1\")\n",
        "        self.dense_2 = keras.layers.Dense(64, activation=\"relu\", name=\"dense_2\")\n",
        "        self.dense_3 = keras.layers.Dense(output_dim, name=\"predictions\")\n",
        "\n",
        "    def call(self, inputs):\n",
        "        x = self.dense_1(inputs)\n",
        "        x = self.dense_2(x)\n",
        "        x = self.dense_3(x)\n",
        "        return x\n",
        "\n",
        "    def get_config(self):\n",
        "        return {\"output_dim\": self.output_dim, \"name\": self.name}\n",
        "\n",
        "\n",
        "subclassed_model = SubclassedModel(10)\n",
        "# Call the subclassed model once to create the weights.\n",
        "subclassed_model(tf.ones((1, 784)))\n",
        "\n",
        "# Copy weights from functional_model to subclassed_model.\n",
        "subclassed_model.set_weights(functional_model.get_weights())\n",
        "\n",
        "assert len(functional_model.weights) == len(subclassed_model.weights)\n",
        "for a, b in zip(functional_model.weights, subclassed_model.weights):\n",
        "    np.testing.assert_allclose(a.numpy(), b.numpy())"
      ]
    },
    {
      "cell_type": "markdown",
      "metadata": {
        "id": "bd4d08bff725"
      },
      "source": [
        "***El caso de las capas sin estado***\n",
        "\n",
        "Como las capas sin estado no cambian el orden ni el número de ponderaciones, los modelos pueden tener arquitecturas compatibles aunque haya capas sin estado adicionales/faltantes."
      ]
    },
    {
      "cell_type": "code",
      "execution_count": null,
      "metadata": {
        "id": "927dc7934d44"
      },
      "outputs": [],
      "source": [
        "inputs = keras.Input(shape=(784,), name=\"digits\")\n",
        "x = keras.layers.Dense(64, activation=\"relu\", name=\"dense_1\")(inputs)\n",
        "x = keras.layers.Dense(64, activation=\"relu\", name=\"dense_2\")(x)\n",
        "outputs = keras.layers.Dense(10, name=\"predictions\")(x)\n",
        "functional_model = keras.Model(inputs=inputs, outputs=outputs, name=\"3_layer_mlp\")\n",
        "\n",
        "inputs = keras.Input(shape=(784,), name=\"digits\")\n",
        "x = keras.layers.Dense(64, activation=\"relu\", name=\"dense_1\")(inputs)\n",
        "x = keras.layers.Dense(64, activation=\"relu\", name=\"dense_2\")(x)\n",
        "\n",
        "# Add a dropout layer, which does not contain any weights.\n",
        "x = keras.layers.Dropout(0.5)(x)\n",
        "outputs = keras.layers.Dense(10, name=\"predictions\")(x)\n",
        "functional_model_with_dropout = keras.Model(\n",
        "    inputs=inputs, outputs=outputs, name=\"3_layer_mlp\"\n",
        ")\n",
        "\n",
        "functional_model_with_dropout.set_weights(functional_model.get_weights())"
      ]
    },
    {
      "cell_type": "markdown",
      "metadata": {
        "id": "199e984872d3"
      },
      "source": [
        "### API para guardar ponderaciones en el disco y volver a cargarlas\n",
        "\n",
        "Las ponderaciones pueden guardarse en el disco llamando a `model.save_weights` en los siguientes formatos:\n",
        "\n",
        "- Punto de verificación de TensorFlow\n",
        "- HDF5\n",
        "\n",
        "El formato predeterminado para `model.save_weights` es el punto de verificación de TensorFlow. Hay dos formas de especificar el formato de guardado:\n",
        "\n",
        "1. `save_format` argumento: Establezca el valor en `save_format=\"tf\"` o `save_format=\"h5\"`.\n",
        "2. argumento `path`: Si la ruta termina con `.h5` o `.hdf5`, entonces se utiliza el formato HDF5. Otros sufijos resultarán en un punto de verificación de TensorFlow a menos que `save_format` esté configurado.\n",
        "\n",
        "También está la opción de recuperar ponderaciones como matrices numpy en la memoria. Cada API tiene sus pros y sus contras que se detallan a continuación."
      ]
    },
    {
      "cell_type": "markdown",
      "metadata": {
        "id": "3505dc65d6c1"
      },
      "source": [
        "### Formato de los puntos de verificación de TF\n",
        "\n",
        "**Ejemplo:**"
      ]
    },
    {
      "cell_type": "code",
      "execution_count": null,
      "metadata": {
        "id": "f92053377391"
      },
      "outputs": [],
      "source": [
        "# Runnable example\n",
        "sequential_model = keras.Sequential(\n",
        "    [\n",
        "        keras.Input(shape=(784,), name=\"digits\"),\n",
        "        keras.layers.Dense(64, activation=\"relu\", name=\"dense_1\"),\n",
        "        keras.layers.Dense(64, activation=\"relu\", name=\"dense_2\"),\n",
        "        keras.layers.Dense(10, name=\"predictions\"),\n",
        "    ]\n",
        ")\n",
        "sequential_model.save_weights(\"ckpt\")\n",
        "load_status = sequential_model.load_weights(\"ckpt\")\n",
        "\n",
        "# `assert_consumed` can be used as validation that all variable values have been\n",
        "# restored from the checkpoint. See `tf.train.Checkpoint.restore` for other\n",
        "# methods in the Status object.\n",
        "load_status.assert_consumed()"
      ]
    },
    {
      "cell_type": "markdown",
      "metadata": {
        "id": "87f1145ac846"
      },
      "source": [
        "#### Detalles del formato\n",
        "\n",
        "El formato del punto de verificación de TensorFlow guarda y restaura las ponderaciones usando nombres de atributos de objetos. Por ejemplo, considere la capa `tf.keras.layers.Dense`. La capa contiene dos ponderaciones: `dense.kernel` y `dense.bias`. Cuando la capa se guarda en el formato `tf`, el punto de control resultante contiene las claves `\"kernel\"` y `\"bias\"` y sus correspondientes valores de ponderaciones. Para obtener más información, consulte [\"Mecánica de carga\" en la guía del punto de verificación de TF](https://www.tensorflow.org/guide/checkpoint#loading_mechanics).\n",
        "\n",
        "Tenga en cuenta que el atributo/borde del grafo se nombra **con el nombre utilizado en el objeto padre, no con el nombre de la variable**. Considere `CustomLayer` en el siguiente ejemplo. La variable `CustomLayer.var` se guarda con `\"var\"` como parte de la clave, no con `\"var_a\"`."
      ]
    },
    {
      "cell_type": "code",
      "execution_count": null,
      "metadata": {
        "id": "c919189b3697"
      },
      "outputs": [],
      "source": [
        "class CustomLayer(keras.layers.Layer):\n",
        "    def __init__(self, a):\n",
        "        self.var = tf.Variable(a, name=\"var_a\")\n",
        "\n",
        "\n",
        "layer = CustomLayer(5)\n",
        "layer_ckpt = tf.train.Checkpoint(layer=layer).save(\"custom_layer\")\n",
        "\n",
        "ckpt_reader = tf.train.load_checkpoint(layer_ckpt)\n",
        "\n",
        "ckpt_reader.get_variable_to_dtype_map()"
      ]
    },
    {
      "cell_type": "markdown",
      "metadata": {
        "id": "c4e5a7162b13"
      },
      "source": [
        "#### Ejemplo de transferencia de aprendizaje\n",
        "\n",
        "Básicamente, mientras dos modelos tengan la misma arquitectura, podrán compartir el mismo punto de control.\n",
        "\n",
        "**Ejemplo:**"
      ]
    },
    {
      "cell_type": "code",
      "execution_count": null,
      "metadata": {
        "id": "78d08199d27f"
      },
      "outputs": [],
      "source": [
        "inputs = keras.Input(shape=(784,), name=\"digits\")\n",
        "x = keras.layers.Dense(64, activation=\"relu\", name=\"dense_1\")(inputs)\n",
        "x = keras.layers.Dense(64, activation=\"relu\", name=\"dense_2\")(x)\n",
        "outputs = keras.layers.Dense(10, name=\"predictions\")(x)\n",
        "functional_model = keras.Model(inputs=inputs, outputs=outputs, name=\"3_layer_mlp\")\n",
        "\n",
        "# Extract a portion of the functional model defined in the Setup section.\n",
        "# The following lines produce a new model that excludes the final output\n",
        "# layer of the functional model.\n",
        "pretrained = keras.Model(\n",
        "    functional_model.inputs, functional_model.layers[-1].input, name=\"pretrained_model\"\n",
        ")\n",
        "# Randomly assign \"trained\" weights.\n",
        "for w in pretrained.weights:\n",
        "    w.assign(tf.random.normal(w.shape))\n",
        "pretrained.save_weights(\"pretrained_ckpt\")\n",
        "pretrained.summary()\n",
        "\n",
        "# Assume this is a separate program where only 'pretrained_ckpt' exists.\n",
        "# Create a new functional model with a different output dimension.\n",
        "inputs = keras.Input(shape=(784,), name=\"digits\")\n",
        "x = keras.layers.Dense(64, activation=\"relu\", name=\"dense_1\")(inputs)\n",
        "x = keras.layers.Dense(64, activation=\"relu\", name=\"dense_2\")(x)\n",
        "outputs = keras.layers.Dense(5, name=\"predictions\")(x)\n",
        "model = keras.Model(inputs=inputs, outputs=outputs, name=\"new_model\")\n",
        "\n",
        "# Load the weights from pretrained_ckpt into model.\n",
        "model.load_weights(\"pretrained_ckpt\")\n",
        "\n",
        "# Check that all of the pretrained weights have been loaded.\n",
        "for a, b in zip(pretrained.weights, model.weights):\n",
        "    np.testing.assert_allclose(a.numpy(), b.numpy())\n",
        "\n",
        "print(\"\\n\", \"-\" * 50)\n",
        "model.summary()\n",
        "\n",
        "# Example 2: Sequential model\n",
        "# Recreate the pretrained model, and load the saved weights.\n",
        "inputs = keras.Input(shape=(784,), name=\"digits\")\n",
        "x = keras.layers.Dense(64, activation=\"relu\", name=\"dense_1\")(inputs)\n",
        "x = keras.layers.Dense(64, activation=\"relu\", name=\"dense_2\")(x)\n",
        "pretrained_model = keras.Model(inputs=inputs, outputs=x, name=\"pretrained\")\n",
        "\n",
        "# Sequential example:\n",
        "model = keras.Sequential([pretrained_model, keras.layers.Dense(5, name=\"predictions\")])\n",
        "model.summary()\n",
        "\n",
        "pretrained_model.load_weights(\"pretrained_ckpt\")\n",
        "\n",
        "# Warning! Calling `model.load_weights('pretrained_ckpt')` won't throw an error,\n",
        "# but will *not* work as expected. If you inspect the weights, you'll see that\n",
        "# none of the weights will have loaded. `pretrained_model.load_weights()` is the\n",
        "# correct method to call."
      ]
    },
    {
      "cell_type": "markdown",
      "metadata": {
        "id": "7b07ad5fe5b0"
      },
      "source": [
        "Generalmente se recomienda utilizar la misma API para construir modelos. Si cambia entre Sequential y Functional, o Functional y subclassed, etc., reconstruya siempre el modelo entrenado previamente y cargue las ponderaciones entrenadas previamente en ese modelo."
      ]
    },
    {
      "cell_type": "markdown",
      "metadata": {
        "id": "2ab83c542e2d"
      },
      "source": [
        "La siguiente pregunta es, ¿cómo se pueden guardar y cargar las ponderaciones en diferentes modelos si las arquitecturas de los modelos son bastante diferentes? La solución es utilizar `tf.train.Checkpoint` para guardar y restaurar las capas/variables exactas.\n",
        "\n",
        "**Ejemplo:**"
      ]
    },
    {
      "cell_type": "code",
      "execution_count": null,
      "metadata": {
        "id": "97037b9ea265"
      },
      "outputs": [],
      "source": [
        "# Create a subclassed model that essentially uses functional_model's first\n",
        "# and last layers.\n",
        "# First, save the weights of functional_model's first and last dense layers.\n",
        "first_dense = functional_model.layers[1]\n",
        "last_dense = functional_model.layers[-1]\n",
        "ckpt_path = tf.train.Checkpoint(\n",
        "    dense=first_dense, kernel=last_dense.kernel, bias=last_dense.bias\n",
        ").save(\"ckpt\")\n",
        "\n",
        "# Define the subclassed model.\n",
        "class ContrivedModel(keras.Model):\n",
        "    def __init__(self):\n",
        "        super(ContrivedModel, self).__init__()\n",
        "        self.first_dense = keras.layers.Dense(64)\n",
        "        self.kernel = self.add_variable(\"kernel\", shape=(64, 10))\n",
        "        self.bias = self.add_variable(\"bias\", shape=(10,))\n",
        "\n",
        "    def call(self, inputs):\n",
        "        x = self.first_dense(inputs)\n",
        "        return tf.matmul(x, self.kernel) + self.bias\n",
        "\n",
        "\n",
        "model = ContrivedModel()\n",
        "# Call model on inputs to create the variables of the dense layer.\n",
        "_ = model(tf.ones((1, 784)))\n",
        "\n",
        "# Create a Checkpoint with the same structure as before, and load the weights.\n",
        "tf.train.Checkpoint(\n",
        "    dense=model.first_dense, kernel=model.kernel, bias=model.bias\n",
        ").restore(ckpt_path).assert_consumed()"
      ]
    },
    {
      "cell_type": "markdown",
      "metadata": {
        "id": "18356461e7dd"
      },
      "source": [
        "### Formato HDF5\n",
        "\n",
        "El formato HDF5 contiene ponderaciones agrupadas por nombres de capa. Las ponderaciones son listas ordenadas por la concatenación de la lista de ponderaciones entrenables con la lista de ponderaciones no entrenables (igual que `layer.weights`). Por lo tanto, un modelo puede utilizar un punto de control hdf5 si tiene las mismas capas y estados entrenables que se guardaron en el punto de control.\n",
        "\n",
        "**Ejemplo:**"
      ]
    },
    {
      "cell_type": "code",
      "execution_count": null,
      "metadata": {
        "id": "43aec1e07913"
      },
      "outputs": [],
      "source": [
        "# Runnable example\n",
        "sequential_model = keras.Sequential(\n",
        "    [\n",
        "        keras.Input(shape=(784,), name=\"digits\"),\n",
        "        keras.layers.Dense(64, activation=\"relu\", name=\"dense_1\"),\n",
        "        keras.layers.Dense(64, activation=\"relu\", name=\"dense_2\"),\n",
        "        keras.layers.Dense(10, name=\"predictions\"),\n",
        "    ]\n",
        ")\n",
        "sequential_model.save_weights(\"weights.h5\")\n",
        "sequential_model.load_weights(\"weights.h5\")"
      ]
    },
    {
      "cell_type": "markdown",
      "metadata": {
        "id": "dc63aef6e0d3"
      },
      "source": [
        "Tenga en cuenta que cambiar `layer.trainable` puede dar como resultado una ordenación diferente de `layer.weights` cuando el modelo contiene capas anidadas."
      ]
    },
    {
      "cell_type": "code",
      "execution_count": null,
      "metadata": {
        "id": "83b70826944a"
      },
      "outputs": [],
      "source": [
        "class NestedDenseLayer(keras.layers.Layer):\n",
        "    def __init__(self, units, name=None):\n",
        "        super(NestedDenseLayer, self).__init__(name=name)\n",
        "        self.dense_1 = keras.layers.Dense(units, name=\"dense_1\")\n",
        "        self.dense_2 = keras.layers.Dense(units, name=\"dense_2\")\n",
        "\n",
        "    def call(self, inputs):\n",
        "        return self.dense_2(self.dense_1(inputs))\n",
        "\n",
        "\n",
        "nested_model = keras.Sequential([keras.Input((784,)), NestedDenseLayer(10, \"nested\")])\n",
        "variable_names = [v.name for v in nested_model.weights]\n",
        "print(\"variables: {}\".format(variable_names))\n",
        "\n",
        "print(\"\\nChanging trainable status of one of the nested layers...\")\n",
        "nested_model.get_layer(\"nested\").dense_1.trainable = False\n",
        "\n",
        "variable_names_2 = [v.name for v in nested_model.weights]\n",
        "print(\"\\nvariables: {}\".format(variable_names_2))\n",
        "print(\"variable ordering changed:\", variable_names != variable_names_2)"
      ]
    },
    {
      "cell_type": "markdown",
      "metadata": {
        "id": "cc261c1a31ee"
      },
      "source": [
        "#### Ejemplo de transferencia de aprendizaje\n",
        "\n",
        "Cuando se cargan las ponderaciones entrenadas previamente desde HDF5, se recomienda cargar las ponderaciones en el modelo de verificación original y, a continuación, extraer las ponderaciones/capas deseadas en un nuevo modelo.\n",
        "\n",
        "**Ejemplo:**"
      ]
    },
    {
      "cell_type": "code",
      "execution_count": null,
      "metadata": {
        "id": "06cabc31494a"
      },
      "outputs": [],
      "source": [
        "def create_functional_model():\n",
        "    inputs = keras.Input(shape=(784,), name=\"digits\")\n",
        "    x = keras.layers.Dense(64, activation=\"relu\", name=\"dense_1\")(inputs)\n",
        "    x = keras.layers.Dense(64, activation=\"relu\", name=\"dense_2\")(x)\n",
        "    outputs = keras.layers.Dense(10, name=\"predictions\")(x)\n",
        "    return keras.Model(inputs=inputs, outputs=outputs, name=\"3_layer_mlp\")\n",
        "\n",
        "\n",
        "functional_model = create_functional_model()\n",
        "functional_model.save_weights(\"pretrained_weights.h5\")\n",
        "\n",
        "# In a separate program:\n",
        "pretrained_model = create_functional_model()\n",
        "pretrained_model.load_weights(\"pretrained_weights.h5\")\n",
        "\n",
        "# Create a new model by extracting layers from the original model:\n",
        "extracted_layers = pretrained_model.layers[:-1]\n",
        "extracted_layers.append(keras.layers.Dense(5, name=\"dense_3\"))\n",
        "model = keras.Sequential(extracted_layers)\n",
        "model.summary()"
      ]
    }
  ],
  "metadata": {
    "colab": {
      "collapsed_sections": [],
      "name": "save_and_serialize.ipynb",
      "toc_visible": true
    },
    "kernelspec": {
      "display_name": "Python 3",
      "name": "python3"
    }
  },
  "nbformat": 4,
  "nbformat_minor": 0
}
