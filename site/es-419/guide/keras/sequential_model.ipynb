{
  "cells": [
    {
      "cell_type": "markdown",
      "metadata": {
        "id": "b518b04cbfe0"
      },
      "source": [
        "##### Copyright 2020 The TensorFlow Authors."
      ]
    },
    {
      "cell_type": "code",
      "execution_count": null,
      "metadata": {
        "cellView": "form",
        "id": "906e07f6e562"
      },
      "outputs": [],
      "source": [
        "#@title Licensed under the Apache License, Version 2.0 (the \"License\");\n",
        "# you may not use this file except in compliance with the License.\n",
        "# You may obtain a copy of the License at\n",
        "#\n",
        "# https://www.apache.org/licenses/LICENSE-2.0\n",
        "#\n",
        "# Unless required by applicable law or agreed to in writing, software\n",
        "# distributed under the License is distributed on an \"AS IS\" BASIS,\n",
        "# WITHOUT WARRANTIES OR CONDITIONS OF ANY KIND, either express or implied.\n",
        "# See the License for the specific language governing permissions and\n",
        "# limitations under the License."
      ]
    },
    {
      "cell_type": "markdown",
      "metadata": {
        "id": "3e19705694d6"
      },
      "source": [
        "# El modelo Secuencial"
      ]
    },
    {
      "cell_type": "markdown",
      "metadata": {
        "id": "defbb10e8ae3"
      },
      "source": [
        "<table class=\"tfo-notebook-buttons\" align=\"left\">\n",
        "  <td>     <a target=\"_blank\" href=\"https://www.tensorflow.org/guide/keras/sequential_model\">     <img src=\"https://www.tensorflow.org/images/tf_logo_32px.png\">     Ver en TensorFlow.org</a>\n",
        "</td>\n",
        "  <td>     <a target=\"_blank\" href=\"https://colab.research.google.com/github/tensorflow/docs-l10n/blob/master/site/es-419/guide/keras/sequential_model.ipynb\">     <img src=\"https://www.tensorflow.org/images/colab_logo_32px.png\">     Ejecutar en Google Colab</a>\n",
        "</td>\n",
        "  <td>     <a target=\"_blank\" href=\"https://github.com/tensorflow/docs-l10n/blob/master/site/es-419/guide/keras/sequential_model.ipynb\"><img src=\"https://www.tensorflow.org/images/GitHub-Mark-32px.png\">Ver código fuente en GitHub</a>\n",
        "</td>\n",
        "  <td><a href=\"https://storage.googleapis.com/tensorflow_docs/docs-l10n/site/es-419/guide/keras/sequential_model.ipynb\"><img src=\"https://www.tensorflow.org/images/download_logo_32px.png\">Descargar bloc de notas</a></td>\n",
        "</table>"
      ]
    },
    {
      "cell_type": "markdown",
      "metadata": {
        "id": "8d4ac441b1fc"
      },
      "source": [
        "## Preparación"
      ]
    },
    {
      "cell_type": "code",
      "execution_count": null,
      "metadata": {
        "id": "0472bf67b2bf"
      },
      "outputs": [],
      "source": [
        "import tensorflow as tf\n",
        "from tensorflow import keras\n",
        "from tensorflow.keras import layers"
      ]
    },
    {
      "cell_type": "markdown",
      "metadata": {
        "id": "80f7713c6b92"
      },
      "source": [
        "## Cuándo utilizar un modelo Secuencial\n",
        "\n",
        "Un modelo `Sequential` es apropiado para realizar **una simple pila de capas** donde cada capa tiene **exactamente un tensor de entrada y un tensor de salida**.\n",
        "\n",
        "Esquemáticamente, el siguiente modelo `Sequential`:"
      ]
    },
    {
      "cell_type": "code",
      "execution_count": null,
      "metadata": {
        "id": "f536515be229"
      },
      "outputs": [],
      "source": [
        "# Define Sequential model with 3 layers\n",
        "model = keras.Sequential(\n",
        "    [\n",
        "        layers.Dense(2, activation=\"relu\", name=\"layer1\"),\n",
        "        layers.Dense(3, activation=\"relu\", name=\"layer2\"),\n",
        "        layers.Dense(4, name=\"layer3\"),\n",
        "    ]\n",
        ")\n",
        "# Call model on a test input\n",
        "x = tf.ones((3, 3))\n",
        "y = model(x)"
      ]
    },
    {
      "cell_type": "markdown",
      "metadata": {
        "id": "7d81502d9753"
      },
      "source": [
        "es equivalente a esta función:"
      ]
    },
    {
      "cell_type": "code",
      "execution_count": null,
      "metadata": {
        "id": "7059a8890f72"
      },
      "outputs": [],
      "source": [
        "# Create 3 layers\n",
        "layer1 = layers.Dense(2, activation=\"relu\", name=\"layer1\")\n",
        "layer2 = layers.Dense(3, activation=\"relu\", name=\"layer2\")\n",
        "layer3 = layers.Dense(4, name=\"layer3\")\n",
        "\n",
        "# Call layers on a test input\n",
        "x = tf.ones((3, 3))\n",
        "y = layer3(layer2(layer1(x)))"
      ]
    },
    {
      "cell_type": "markdown",
      "metadata": {
        "id": "cdf6d2932c31"
      },
      "source": [
        "Un modelo Secuencial es **no apropiado** cuando:\n",
        "\n",
        "- Su modelo tiene múltiples entradas o múltiples salidas\n",
        "- Cualquiera de sus capas tiene múltiples entradas o múltiples salidas\n",
        "- Es necesario compartir capas\n",
        "- Desea una topología no lineal (por ejemplo, una conexión residual, un modelo multirramal)"
      ]
    },
    {
      "cell_type": "markdown",
      "metadata": {
        "id": "c5706d9f8eb8"
      },
      "source": [
        "## Crear un modelo Secuencial\n",
        "\n",
        "Puede crear un modelo Secuencial pasando una lista de capas al constructor Secuencial:"
      ]
    },
    {
      "cell_type": "code",
      "execution_count": null,
      "metadata": {
        "id": "8b3eee00f80d"
      },
      "outputs": [],
      "source": [
        "model = keras.Sequential(\n",
        "    [\n",
        "        layers.Dense(2, activation=\"relu\"),\n",
        "        layers.Dense(3, activation=\"relu\"),\n",
        "        layers.Dense(4),\n",
        "    ]\n",
        ")"
      ]
    },
    {
      "cell_type": "markdown",
      "metadata": {
        "id": "1939a7a4a66c"
      },
      "source": [
        "Se puede acceder a sus capas mediante el atributo `layers`:"
      ]
    },
    {
      "cell_type": "code",
      "execution_count": null,
      "metadata": {
        "id": "49c0448b6da2"
      },
      "outputs": [],
      "source": [
        "model.layers"
      ]
    },
    {
      "cell_type": "markdown",
      "metadata": {
        "id": "b4c7957e9913"
      },
      "source": [
        "También puede crear un modelo Secuencial de forma incremental mediante el método `add()`:"
      ]
    },
    {
      "cell_type": "code",
      "execution_count": null,
      "metadata": {
        "id": "d54fde401054"
      },
      "outputs": [],
      "source": [
        "model = keras.Sequential()\n",
        "model.add(layers.Dense(2, activation=\"relu\"))\n",
        "model.add(layers.Dense(3, activation=\"relu\"))\n",
        "model.add(layers.Dense(4))"
      ]
    },
    {
      "cell_type": "markdown",
      "metadata": {
        "id": "d16278f5a1dc"
      },
      "source": [
        "Tenga en cuenta que también hay un método `pop()` para eliminar capas: un modelo Secuencial se comporta como una lista de capas."
      ]
    },
    {
      "cell_type": "code",
      "execution_count": null,
      "metadata": {
        "id": "e89f35b73979"
      },
      "outputs": [],
      "source": [
        "model.pop()\n",
        "print(len(model.layers))  # 2"
      ]
    },
    {
      "cell_type": "markdown",
      "metadata": {
        "id": "99cb1c9a7c7a"
      },
      "source": [
        "Tenga en cuenta también que el constructor Secuencial acepta un argumento `name`, al igual que cualquier capa o modelo en Keras. Esto es útil para anotar gráficos TensorBoard con nombres semánticamente significativos."
      ]
    },
    {
      "cell_type": "code",
      "execution_count": null,
      "metadata": {
        "id": "068c2f82e7cb"
      },
      "outputs": [],
      "source": [
        "model = keras.Sequential(name=\"my_sequential\")\n",
        "model.add(layers.Dense(2, activation=\"relu\", name=\"layer1\"))\n",
        "model.add(layers.Dense(3, activation=\"relu\", name=\"layer2\"))\n",
        "model.add(layers.Dense(4, name=\"layer3\"))"
      ]
    },
    {
      "cell_type": "markdown",
      "metadata": {
        "id": "a6247ff17d3a"
      },
      "source": [
        "## Especificación previa de la forma de entrada\n",
        "\n",
        "Generalmente, todas las capas en Keras necesitan conocer la forma de sus entradas para poder crear sus pesos. Así que cuando cree una capa como esta, inicialmente, no tiene pesos:"
      ]
    },
    {
      "cell_type": "code",
      "execution_count": null,
      "metadata": {
        "id": "373ecbb5c6bd"
      },
      "outputs": [],
      "source": [
        "layer = layers.Dense(3)\n",
        "layer.weights  # Empty"
      ]
    },
    {
      "cell_type": "markdown",
      "metadata": {
        "id": "da150335961e"
      },
      "source": [
        "Para ello, creará sus ponderaciones la primera vez que se le llame con una entrada, ya que la forma de las ponderaciones depende de la forma de las entradas:"
      ]
    },
    {
      "cell_type": "code",
      "execution_count": null,
      "metadata": {
        "id": "bf28829ce193"
      },
      "outputs": [],
      "source": [
        "# Call layer on a test input\n",
        "x = tf.ones((1, 4))\n",
        "y = layer(x)\n",
        "layer.weights  # Now it has weights, of shape (4, 3) and (3,)"
      ]
    },
    {
      "cell_type": "markdown",
      "metadata": {
        "id": "e50f21c5f247"
      },
      "source": [
        "Naturalmente, esto también se aplica a los modelos secuenciales. Al crear una instancia de un modelo secuencial sin una forma de entrada, no se \"construye\": no tiene pesos (y al llamar a `model.weights` se produce un error que indica precisamente esto). Los pesos se crean cuando el modelo ve por primera vez algunos datos de entrada:"
      ]
    },
    {
      "cell_type": "code",
      "execution_count": null,
      "metadata": {
        "id": "04479960526c"
      },
      "outputs": [],
      "source": [
        "model = keras.Sequential(\n",
        "    [\n",
        "        layers.Dense(2, activation=\"relu\"),\n",
        "        layers.Dense(3, activation=\"relu\"),\n",
        "        layers.Dense(4),\n",
        "    ]\n",
        ")  # No weights at this stage!\n",
        "\n",
        "# At this point, you can't do this:\n",
        "# model.weights\n",
        "\n",
        "# You also can't do this:\n",
        "# model.summary()\n",
        "\n",
        "# Call the model on a test input\n",
        "x = tf.ones((1, 4))\n",
        "y = model(x)\n",
        "print(\"Number of weights after calling the model:\", len(model.weights))  # 6"
      ]
    },
    {
      "cell_type": "markdown",
      "metadata": {
        "id": "2837e3d2c798"
      },
      "source": [
        "Una vez \"construido\" un modelo, puede llamar a su método `summary()` para mostrar su contenido:"
      ]
    },
    {
      "cell_type": "code",
      "execution_count": null,
      "metadata": {
        "id": "1368bd27f679"
      },
      "outputs": [],
      "source": [
        "model.summary()"
      ]
    },
    {
      "cell_type": "markdown",
      "metadata": {
        "id": "08cf1da27edb"
      },
      "source": [
        "Sin embargo, puede ser muy útil cuando se construye un modelo secuencial de forma incremental para poder mostrar el resumen del modelo hasta el momento, incluyendo la forma de salida actual. En este caso, debe iniciar su modelo pasando un objeto `Input` a su modelo, para que conozca su forma de entrada desde el principio:"
      ]
    },
    {
      "cell_type": "code",
      "execution_count": null,
      "metadata": {
        "id": "e3d2024cfeeb"
      },
      "outputs": [],
      "source": [
        "model = keras.Sequential()\n",
        "model.add(keras.Input(shape=(4,)))\n",
        "model.add(layers.Dense(2, activation=\"relu\"))\n",
        "\n",
        "model.summary()"
      ]
    },
    {
      "cell_type": "markdown",
      "metadata": {
        "id": "3d965e3761a8"
      },
      "source": [
        "Tenga en cuenta que el objeto `Input` no se muestra como parte de `model.layers`, ya que no es una capa:"
      ]
    },
    {
      "cell_type": "code",
      "execution_count": null,
      "metadata": {
        "id": "8e3b0d58e7ed"
      },
      "outputs": [],
      "source": [
        "model.layers"
      ]
    },
    {
      "cell_type": "markdown",
      "metadata": {
        "id": "8a057b1baf72"
      },
      "source": [
        "Una alternativa sencilla es pasar un argumento `input_shape` a la primera capa:"
      ]
    },
    {
      "cell_type": "code",
      "execution_count": null,
      "metadata": {
        "id": "1c6ab83d68ea"
      },
      "outputs": [],
      "source": [
        "model = keras.Sequential()\n",
        "model.add(layers.Dense(2, activation=\"relu\", input_shape=(4,)))\n",
        "\n",
        "model.summary()"
      ]
    },
    {
      "cell_type": "markdown",
      "metadata": {
        "id": "40c14619d283"
      },
      "source": [
        "Los modelos construidos con una forma de entrada predefinida como esta siempre tienen pesos (incluso antes de ver cualquier dato) y siempre tienen una forma de salida definida.\n",
        "\n",
        "En general, se recomienda especificar siempre por adelantado la forma de entrada de un modelo secuencial si se sabe cuál es."
      ]
    },
    {
      "cell_type": "markdown",
      "metadata": {
        "id": "843f6b6505b3"
      },
      "source": [
        "## Un flujo de trabajo de depuración común: `add()` + `summary()`\n",
        "\n",
        "Cuando se construye una nueva arquitectura secuencial, es útil apilar capas incrementalmente con `add()` e imprimir frecuentemente resúmenes del modelo. Por ejemplo, esto le permite controlar cómo una pila de capas `Conv2D` y `MaxPooling2D` está reduciendo el muestreo de los mapas de características de la imagen:"
      ]
    },
    {
      "cell_type": "code",
      "execution_count": null,
      "metadata": {
        "id": "46bfb8f7dc6e"
      },
      "outputs": [],
      "source": [
        "model = keras.Sequential()\n",
        "model.add(keras.Input(shape=(250, 250, 3)))  # 250x250 RGB images\n",
        "model.add(layers.Conv2D(32, 5, strides=2, activation=\"relu\"))\n",
        "model.add(layers.Conv2D(32, 3, activation=\"relu\"))\n",
        "model.add(layers.MaxPooling2D(3))\n",
        "\n",
        "# Can you guess what the current output shape is at this point? Probably not.\n",
        "# Let's just print it:\n",
        "model.summary()\n",
        "\n",
        "# The answer was: (40, 40, 32), so we can keep downsampling...\n",
        "\n",
        "model.add(layers.Conv2D(32, 3, activation=\"relu\"))\n",
        "model.add(layers.Conv2D(32, 3, activation=\"relu\"))\n",
        "model.add(layers.MaxPooling2D(3))\n",
        "model.add(layers.Conv2D(32, 3, activation=\"relu\"))\n",
        "model.add(layers.Conv2D(32, 3, activation=\"relu\"))\n",
        "model.add(layers.MaxPooling2D(2))\n",
        "\n",
        "# And now?\n",
        "model.summary()\n",
        "\n",
        "# Now that we have 4x4 feature maps, time to apply global max pooling.\n",
        "model.add(layers.GlobalMaxPooling2D())\n",
        "\n",
        "# Finally, we add a classification layer.\n",
        "model.add(layers.Dense(10))"
      ]
    },
    {
      "cell_type": "markdown",
      "metadata": {
        "id": "a2d3335a90fa"
      },
      "source": [
        "Es muy práctico, ¿verdad?\n"
      ]
    },
    {
      "cell_type": "markdown",
      "metadata": {
        "id": "46addede37f3"
      },
      "source": [
        "## Qué hacer una vez que se tiene un modelo\n",
        "\n",
        "Una vez que su arquitectura modelo esté lista, querrá:\n",
        "\n",
        "- Entrenar su modelo, evaluarlo y ejecutar la inferencia. Consulte nuestra [guía de entrenamiento y evaluación con los bucles incorporados](https://www.tensorflow.org/guide/keras/train_and_evaluate/)\n",
        "- Guarde su modelo en disco y restáurelo. Consulte nuestra [guía de serialización y guardado](https://www.tensorflow.org/guide/keras/save_and_serialize/).\n",
        "- Acelerar el entrenamiento de modelos aprovechando múltiples GPUs. Consulte nuestra [guía sobre multi-GPU y entrenamiento distribuido](https://keras.io/guides/distributed_training/)."
      ]
    },
    {
      "cell_type": "markdown",
      "metadata": {
        "id": "608f3b03669c"
      },
      "source": [
        "## Extracción de características con un modelo secuencial\n",
        "\n",
        "Una vez se ha construido un modelo Secuencial, se comporta como un [modelo API Funcional](https://www.tensorflow.org/guide/keras/functional/). Esto significa que cada capa tiene un atributo `input` y `output`. Estos atributos se pueden utilizar para hacer cosas interesantes, como crear rápidamente un modelo que extraiga las salidas de todas las capas intermedias en un modelo secuencial:"
      ]
    },
    {
      "cell_type": "code",
      "execution_count": null,
      "metadata": {
        "id": "a5888d753301"
      },
      "outputs": [],
      "source": [
        "initial_model = keras.Sequential(\n",
        "    [\n",
        "        keras.Input(shape=(250, 250, 3)),\n",
        "        layers.Conv2D(32, 5, strides=2, activation=\"relu\"),\n",
        "        layers.Conv2D(32, 3, activation=\"relu\"),\n",
        "        layers.Conv2D(32, 3, activation=\"relu\"),\n",
        "    ]\n",
        ")\n",
        "feature_extractor = keras.Model(\n",
        "    inputs=initial_model.inputs,\n",
        "    outputs=[layer.output for layer in initial_model.layers],\n",
        ")\n",
        "\n",
        "# Call feature extractor on test input.\n",
        "x = tf.ones((1, 250, 250, 3))\n",
        "features = feature_extractor(x)"
      ]
    },
    {
      "cell_type": "markdown",
      "metadata": {
        "id": "4abef35355d3"
      },
      "source": [
        "Este es un ejemplo similar que solo extrae características de una capa:"
      ]
    },
    {
      "cell_type": "code",
      "execution_count": null,
      "metadata": {
        "id": "fc404c7ac90e"
      },
      "outputs": [],
      "source": [
        "initial_model = keras.Sequential(\n",
        "    [\n",
        "        keras.Input(shape=(250, 250, 3)),\n",
        "        layers.Conv2D(32, 5, strides=2, activation=\"relu\"),\n",
        "        layers.Conv2D(32, 3, activation=\"relu\", name=\"my_intermediate_layer\"),\n",
        "        layers.Conv2D(32, 3, activation=\"relu\"),\n",
        "    ]\n",
        ")\n",
        "feature_extractor = keras.Model(\n",
        "    inputs=initial_model.inputs,\n",
        "    outputs=initial_model.get_layer(name=\"my_intermediate_layer\").output,\n",
        ")\n",
        "# Call feature extractor on test input.\n",
        "x = tf.ones((1, 250, 250, 3))\n",
        "features = feature_extractor(x)"
      ]
    },
    {
      "cell_type": "markdown",
      "metadata": {
        "id": "4e2fb64f0676"
      },
      "source": [
        "## Aprendizaje por transferencia con un modelo secuencial\n",
        "\n",
        "El aprendizaje por transferencia consiste en congelar las capas inferiores de un modelo y entrenar únicamente las capas superiores. Si no está familiarizado con él, asegúrese de leer nuestra [guía del aprendizaje por transferencia](https://www.tensorflow.org/guide/keras/transfer_learning/).\n",
        "\n",
        "A continuación se presentan dos modelos comunes de aprendizaje por transferencia que implican modelos secuenciales.\n",
        "\n",
        "Primero, digamos que tiene un modelo Secuencial, y quiere congelar todas las capas excepto la última. En este caso, simplemente iteraría sobre `model.layers` y establecería `layer.trainable = False` en cada capa, excepto en la última. Así:\n",
        "\n",
        "```python\n",
        "model = keras.Sequential([\n",
        "    keras.Input(shape=(784)),\n",
        "    layers.Dense(32, activation='relu'),\n",
        "    layers.Dense(32, activation='relu'),\n",
        "    layers.Dense(32, activation='relu'),\n",
        "    layers.Dense(10),\n",
        "])\n",
        "\n",
        "# Presumably you would want to first load pre-trained weights.\n",
        "model.load_weights(...)\n",
        "\n",
        "# Freeze all layers except the last one.\n",
        "for layer in model.layers[:-1]:\n",
        "  layer.trainable = False\n",
        "\n",
        "# Recompile and train (this will only update the weights of the last layer).\n",
        "model.compile(...)\n",
        "model.fit(...)\n",
        "```\n",
        "\n",
        "Otro modelo común es utilizar un modelo secuencial para apilar un modelo pre-entrenado y algunas capas de clasificación recién inicializadas. De esta manera:\n",
        "\n",
        "```python\n",
        "# Load a convolutional base with pre-trained weights\n",
        "base_model = keras.applications.Xception(\n",
        "    weights='imagenet',\n",
        "    include_top=False,\n",
        "    pooling='avg')\n",
        "\n",
        "# Freeze the base model\n",
        "base_model.trainable = False\n",
        "\n",
        "# Use a Sequential model to add a trainable classifier on top\n",
        "model = keras.Sequential([\n",
        "    base_model,\n",
        "    layers.Dense(1000),\n",
        "])\n",
        "\n",
        "# Compile & train\n",
        "model.compile(...)\n",
        "model.fit(...)\n",
        "```\n",
        "\n",
        "Si se dedica al aprendizaje por transferencia, es probable que utilice con frecuencia estos dos patrones."
      ]
    },
    {
      "cell_type": "markdown",
      "metadata": {
        "id": "fcffc33b61e5"
      },
      "source": [
        "Esto es todo lo que necesita saber sobre los modelos secuenciales.\n",
        "\n",
        "Para obtener más información sobre la creación de modelos en Keras, consulte:\n",
        "\n",
        "- [Guía de la API Funcional](https://www.tensorflow.org/guide/keras/functional/)\n",
        "- [Guía para crear nuevas capas y modelos mediante subclases](https://www.tensorflow.org/guide/keras/custom_layers_and_models/)"
      ]
    }
  ],
  "metadata": {
    "colab": {
      "collapsed_sections": [],
      "name": "sequential_model.ipynb",
      "toc_visible": true
    },
    "kernelspec": {
      "display_name": "Python 3",
      "name": "python3"
    }
  },
  "nbformat": 4,
  "nbformat_minor": 0
}
