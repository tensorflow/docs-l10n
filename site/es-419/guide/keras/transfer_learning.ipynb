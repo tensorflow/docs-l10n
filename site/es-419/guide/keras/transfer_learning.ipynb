{
  "cells": [
    {
      "cell_type": "markdown",
      "metadata": {
        "id": "b518b04cbfe0"
      },
      "source": [
        "##### Copyright 2020 The TensorFlow Authors."
      ]
    },
    {
      "cell_type": "code",
      "execution_count": null,
      "metadata": {
        "cellView": "form",
        "id": "906e07f6e562"
      },
      "outputs": [],
      "source": [
        "#@title Licensed under the Apache License, Version 2.0 (the \"License\");\n",
        "# you may not use this file except in compliance with the License.\n",
        "# You may obtain a copy of the License at\n",
        "#\n",
        "# https://www.apache.org/licenses/LICENSE-2.0\n",
        "#\n",
        "# Unless required by applicable law or agreed to in writing, software\n",
        "# distributed under the License is distributed on an \"AS IS\" BASIS,\n",
        "# WITHOUT WARRANTIES OR CONDITIONS OF ANY KIND, either express or implied.\n",
        "# See the License for the specific language governing permissions and\n",
        "# limitations under the License."
      ]
    },
    {
      "cell_type": "markdown",
      "metadata": {
        "id": "a81c428fc2d3"
      },
      "source": [
        "# Aprendizaje por transferencia y ajuste"
      ]
    },
    {
      "cell_type": "markdown",
      "metadata": {
        "id": "3e5a59f0aefd"
      },
      "source": [
        "<table class=\"tfo-notebook-buttons\" align=\"left\">\n",
        "  <td>     <a target=\"_blank\" href=\"https://www.tensorflow.org/guide/keras/transfer_learning\">     <img src=\"https://www.tensorflow.org/images/tf_logo_32px.png\">     Ver en TensorFlow.org</a>\n",
        "</td>\n",
        "  <td>     <a target=\"_blank\" href=\"https://colab.research.google.com/github/tensorflow/docs-l10n/blob/master/site/es-419/guide/keras/transfer_learning.ipynb\">     <img src=\"https://www.tensorflow.org/images/colab_logo_32px.png\">     Ejecutar en Google Colab</a>\n",
        "</td>\n",
        "  <td>     <a target=\"_blank\" href=\"https://github.com/tensorflow/docs-l10n/blob/master/site/es-419/guide/keras/transfer_learning.ipynb\"><img src=\"https://www.tensorflow.org/images/GitHub-Mark-32px.png\">Ver código fuente en GitHub</a>\n",
        "</td>\n",
        "  <td><a href=\"https://storage.googleapis.com/tensorflow_docs/docs-l10n/site/es-419/guide/keras/transfer_learning.ipynb\"><img src=\"https://www.tensorflow.org/images/download_logo_32px.png\">Descargar bloc de notas</a></td>\n",
        "</table>"
      ]
    },
    {
      "cell_type": "markdown",
      "metadata": {
        "id": "8d4ac441b1fc"
      },
      "source": [
        "## Preparación"
      ]
    },
    {
      "cell_type": "code",
      "execution_count": null,
      "metadata": {
        "id": "9a7e9b92f963"
      },
      "outputs": [],
      "source": [
        "import numpy as np\n",
        "import tensorflow as tf\n",
        "from tensorflow import keras"
      ]
    },
    {
      "cell_type": "markdown",
      "metadata": {
        "id": "00d4c41cfe2f"
      },
      "source": [
        "## Introducción\n",
        "\n",
        "**El aprendizaje por transferencia** consiste en tomar características aprendidas en un problema y aprovecharlas en un nuevo problema similar. Por ejemplo, las características de un modelo que aprendió a identificar mapaches pueden ser útiles para poner en marcha un modelo destinado a identificar tanukis.\n",
        "\n",
        "El aprendizaje por transferencia suele realizarse para tareas en las que el conjunto de datos es demasiado escaso para entrenar un modelo completo desde cero.\n",
        "\n",
        "La forma más común de aplicar el aprendizaje por transferencia en el contexto del deep learning es el siguiente flujo de trabajo:\n",
        "\n",
        "1. Tomar capas de un modelo previamente entrenado.\n",
        "2. Congélelas para no destruir la información que contienen en futuras rondas de entrenamiento.\n",
        "3. Agregue algunas capas nuevas, entrenables, sobre las capas congeladas. Aprenderán a convertir las características antiguas en predicciones sobre un nuevo conjunto de datos.\n",
        "4. Entrene las nuevas capas en su conjunto de datos.\n",
        "\n",
        "Un último paso opcional es el **ajuste fino**, que consiste en descongelar todo el modelo obtenido anteriormente (o parte de él) y volver a entrenarlo con los nuevos datos a un ritmo de aprendizaje muy bajo. De este modo se pueden conseguir mejoras significativas, adaptando de forma gradual las características preentrenadas a los nuevos datos.\n",
        "\n",
        "En primer lugar, repasaremos en detalle la API `trainable` de Keras, que subyace en la mayoría de los flujos de trabajo de aprendizaje por transferencia y ajuste fino.\n",
        "\n",
        "A continuación, demostraremos el flujo de trabajo típico tomando un modelo preentrenado en el conjunto de datos ImageNet y reentrenándolo en el conjunto de datos de clasificación \"gatos contra perros\" de Kaggle.\n",
        "\n",
        "Esto es una adaptación de [Deep Learning con Python](https://www.manning.com/books/deep-learning-with-python) y la entrada de blog del 2016 [\"building powerful image classification models using very little data\"](https://blog.keras.io/building-powerful-image-classification-models-using-very-little-data.html)."
      ]
    },
    {
      "cell_type": "markdown",
      "metadata": {
        "id": "fbf8630c325b"
      },
      "source": [
        "## Congelar capas: cómo entender el atributo `trainable`\n",
        "\n",
        "Las capas y los modelos tienen tres atributos de peso:\n",
        "\n",
        "- `weights` es la lista de todas las variables de pesos de la capa.\n",
        "- `trainable_weights` es la lista de los que están destinados a ser actualizados (mediante descenso del gradiente) para minimizar la pérdida durante el entrenamiento.\n",
        "- `non_trainable_weights` es la lista de los que no están destinados a ser entrenados. Normalmente son actualizados por el modelo durante el siguiente paso.\n",
        "\n",
        "**Ejemplo: la capa `Dense` tiene 2 pesos entrenables (kernel &amp; bias)**"
      ]
    },
    {
      "cell_type": "code",
      "execution_count": null,
      "metadata": {
        "id": "407deab1855e"
      },
      "outputs": [],
      "source": [
        "layer = keras.layers.Dense(3)\n",
        "layer.build((None, 4))  # Create the weights\n",
        "\n",
        "print(\"weights:\", len(layer.weights))\n",
        "print(\"trainable_weights:\", len(layer.trainable_weights))\n",
        "print(\"non_trainable_weights:\", len(layer.non_trainable_weights))"
      ]
    },
    {
      "cell_type": "markdown",
      "metadata": {
        "id": "79fcb9cc960d"
      },
      "source": [
        "En general, todos los pesos son entrenables. La única capa incorporada que tiene pesos no entrenables es la capa `BatchNormalization`. Utiliza pesos no entrenables para realizar un seguimiento de la media y la varianza de sus entradas durante el entrenamiento. Para aprender a utilizar pesos no entrenables en sus propias capas personalizadas, consulte la [guía para escribir nuevas capas desde cero](https://keras.io/guides/making_new_layers_and_models_via_subclassing/).\n",
        "\n",
        "**Ejemplo: la capa `BatchNormalization` tiene 2 pesos entrenables y 2 pesos no entrenables.**"
      ]
    },
    {
      "cell_type": "code",
      "execution_count": null,
      "metadata": {
        "id": "fbc87a09bc3c"
      },
      "outputs": [],
      "source": [
        "layer = keras.layers.BatchNormalization()\n",
        "layer.build((None, 4))  # Create the weights\n",
        "\n",
        "print(\"weights:\", len(layer.weights))\n",
        "print(\"trainable_weights:\", len(layer.trainable_weights))\n",
        "print(\"non_trainable_weights:\", len(layer.non_trainable_weights))"
      ]
    },
    {
      "cell_type": "markdown",
      "metadata": {
        "id": "cddcdbf2bd5b"
      },
      "source": [
        "Las capas y modelos también cuentan con un atributo booleano `trainable`. Su valor puede cambiarse. Establecer `layer.trainable` a `False` mueve todos los pesos de la capa de entrenable a no entrenable.  Esto se denomina \"congelar\" la capa: el estado de una capa congelada no se actualizará durante el entrenamiento (ya sea cuando se entrene con `fit()` o cuando se entrene con cualquier bucle personalizado que dependa de `trainable_weights` para aplicar actualizaciones del gradiente).\n",
        "\n",
        "**Ejemplo: establecer `trainable` en `False`**"
      ]
    },
    {
      "cell_type": "code",
      "execution_count": null,
      "metadata": {
        "id": "51bbc5d12742"
      },
      "outputs": [],
      "source": [
        "layer = keras.layers.Dense(3)\n",
        "layer.build((None, 4))  # Create the weights\n",
        "layer.trainable = False  # Freeze the layer\n",
        "\n",
        "print(\"weights:\", len(layer.weights))\n",
        "print(\"trainable_weights:\", len(layer.trainable_weights))\n",
        "print(\"non_trainable_weights:\", len(layer.non_trainable_weights))"
      ]
    },
    {
      "cell_type": "markdown",
      "metadata": {
        "id": "32904f9a58db"
      },
      "source": [
        "Cuando un peso entrenable se convierte en uno no entrenable, su valor deja de actualizarse durante el entrenamiento."
      ]
    },
    {
      "cell_type": "code",
      "execution_count": null,
      "metadata": {
        "id": "3c26c27a8291"
      },
      "outputs": [],
      "source": [
        "# Make a model with 2 layers\n",
        "layer1 = keras.layers.Dense(3, activation=\"relu\")\n",
        "layer2 = keras.layers.Dense(3, activation=\"sigmoid\")\n",
        "model = keras.Sequential([keras.Input(shape=(3,)), layer1, layer2])\n",
        "\n",
        "# Freeze the first layer\n",
        "layer1.trainable = False\n",
        "\n",
        "# Keep a copy of the weights of layer1 for later reference\n",
        "initial_layer1_weights_values = layer1.get_weights()\n",
        "\n",
        "# Train the model\n",
        "model.compile(optimizer=\"adam\", loss=\"mse\")\n",
        "model.fit(np.random.random((2, 3)), np.random.random((2, 3)))\n",
        "\n",
        "# Check that the weights of layer1 have not changed during training\n",
        "final_layer1_weights_values = layer1.get_weights()\n",
        "np.testing.assert_allclose(\n",
        "    initial_layer1_weights_values[0], final_layer1_weights_values[0]\n",
        ")\n",
        "np.testing.assert_allclose(\n",
        "    initial_layer1_weights_values[1], final_layer1_weights_values[1]\n",
        ")"
      ]
    },
    {
      "cell_type": "markdown",
      "metadata": {
        "id": "412d7d659aa1"
      },
      "source": [
        "No confunda el atributo `layer.trainable` con el argumento `training` en `layer.__call__()` (que controla si la capa debe ejecutar su siguiente paso en modo de inferencia o en modo de entrenamiento). Para obtener más información, consulte [Keras FAQ](https://keras.io/getting_started/faq/#whats-the-difference-between-the-training-argument-in-call-and-the-trainable-attribute)."
      ]
    },
    {
      "cell_type": "markdown",
      "metadata": {
        "id": "e6ccd3c7ab1a"
      },
      "source": [
        "## Establecer de forma recursiva el atributo `trainable`\n",
        "\n",
        "Si establece `trainable = False` en un modelo o en cualquier capa que tenga subcapas, todas las capas hijas se convertirán también en no entrenables.\n",
        "\n",
        "**Ejemplo:**"
      ]
    },
    {
      "cell_type": "code",
      "execution_count": null,
      "metadata": {
        "id": "4235d0c69821"
      },
      "outputs": [],
      "source": [
        "inner_model = keras.Sequential(\n",
        "    [\n",
        "        keras.Input(shape=(3,)),\n",
        "        keras.layers.Dense(3, activation=\"relu\"),\n",
        "        keras.layers.Dense(3, activation=\"relu\"),\n",
        "    ]\n",
        ")\n",
        "\n",
        "model = keras.Sequential(\n",
        "    [keras.Input(shape=(3,)), inner_model, keras.layers.Dense(3, activation=\"sigmoid\"),]\n",
        ")\n",
        "\n",
        "model.trainable = False  # Freeze the outer model\n",
        "\n",
        "assert inner_model.trainable == False  # All layers in `model` are now frozen\n",
        "assert inner_model.layers[0].trainable == False  # `trainable` is propagated recursively"
      ]
    },
    {
      "cell_type": "markdown",
      "metadata": {
        "id": "61535ba76727"
      },
      "source": [
        "## El flujo de trabajo típico del aprendizaje por transferencia\n",
        "\n",
        "Esto nos lleva a cómo se puede implementar un flujo de trabajo típico de aprendizaje por transferencia en Keras:\n",
        "\n",
        "1. Crear instancias de un modelo base y cargar en él los pesos preentrenados.\n",
        "2. Congele todas las capas del modelo base estableciendo `trainable = False`.\n",
        "3. Cree un nuevo modelo sobre la salida de una (o varias) capas del modelo base.\n",
        "4. Entrene su nuevo modelo en su nuevo conjunto de datos.\n",
        "\n",
        "Tenga en cuenta que un flujo de trabajo alternativo, más ligero, también podría ser:\n",
        "\n",
        "1. Crear instancias de un modelo base y cargar en él los pesos preentrenados.\n",
        "2. Ejecute su nuevo conjunto de datos mediante él y registre la salida de una (o varias) capas del modelo base. Esto se denomina **extracción de características**.\n",
        "3. Utilice ese resultado como datos de entrada para un nuevo modelo más pequeño.\n",
        "\n",
        "Una ventaja clave de este segundo flujo de trabajo es que solo se ejecuta el modelo base una vez en los datos, en vez de una vez por cada época de entrenamiento. Así que es mucho más rápido y barato.\n",
        "\n",
        "Sin embargo, el problema de este segundo flujo de trabajo es que no permite modificar dinámicamente los datos de entrada del nuevo modelo durante el entrenamiento, lo que es necesario, por ejemplo, al aumentar los datos. El aprendizaje por transferencia se utiliza normalmente para realizar tareas en las que el nuevo conjunto de datos tiene muy pocos datos para entrenar un modelo completo desde cero, y en estos casos el aumento de datos es muy importante. Por lo tanto, a continuación nos centraremos en el primer flujo de trabajo.\n",
        "\n",
        "Este es el aspecto del primer flujo de trabajo en Keras:\n",
        "\n",
        "En primer lugar, cree instancias de un modelo base con pesos preentrenados.\n",
        "\n",
        "```python\n",
        "base_model = keras.applications.Xception(\n",
        "    weights='imagenet',  # Load weights pre-trained on ImageNet.\n",
        "    input_shape=(150, 150, 3),\n",
        "    include_top=False)  # Do not include the ImageNet classifier at the top.\n",
        "```\n",
        "\n",
        "Después, congele el modelo base.\n",
        "\n",
        "```python\n",
        "base_model.trainable = False\n",
        "```\n",
        "\n",
        "Cree un nuevo modelo encima.\n",
        "\n",
        "```python\n",
        "inputs = keras.Input(shape=(150, 150, 3))\n",
        "# We make sure that the base_model is running in inference mode here,\n",
        "# by passing `training=False`. This is important for fine-tuning, as you will\n",
        "# learn in a few paragraphs.\n",
        "x = base_model(inputs, training=False)\n",
        "# Convert features of shape `base_model.output_shape[1:]` to vectors\n",
        "x = keras.layers.GlobalAveragePooling2D()(x)\n",
        "# A Dense classifier with a single unit (binary classification)\n",
        "outputs = keras.layers.Dense(1)(x)\n",
        "model = keras.Model(inputs, outputs)\n",
        "```\n",
        "\n",
        "Entrene el modelo con nuevos datos.\n",
        "\n",
        "```python\n",
        "model.compile(optimizer=keras.optimizers.Adam(),\n",
        "              loss=keras.losses.BinaryCrossentropy(from_logits=True),\n",
        "              metrics=[keras.metrics.BinaryAccuracy()])\n",
        "model.fit(new_dataset, epochs=20, callbacks=..., validation_data=...)\n",
        "```"
      ]
    },
    {
      "cell_type": "markdown",
      "metadata": {
        "id": "736c99aea690"
      },
      "source": [
        "## Ajuste fino\n",
        "\n",
        "Una vez que su modelo haya convergido con los nuevos datos, puede intentar descongelar todo o parte del modelo base y volver a entrenar todo el modelo de principio a fin con una tasa de aprendizaje muy baja.\n",
        "\n",
        "Se trata de un último paso opcional que puede proporcionarle posibles mejoras incrementales. También puede dar lugar a un sobreajuste rápido, así que téngalo en cuenta.\n",
        "\n",
        "Es fundamental realizar este paso *después* de que el modelo con capas congeladas haya sido entrenado hasta la convergencia. Si mezcla capas entrenables inicializadas aleatoriamente con capas entrenables que contienen características pre-entrenadas, las capas inicializadas aleatoriamente causarán actualizaciones de gradiente muy grandes durante el entrenamiento, lo que destruirá sus características pre-entrenadas.\n",
        "\n",
        "También es fundamental utilizar una tasa de aprendizaje muy baja en esta fase, porque se está entrenando un modelo mucho mayor que en la primera ronda de entrenamiento, en un conjunto de datos que suele ser muy pequeño. Como resultado, corre el riesgo de sobreajustarse muy rápidamente si aplica grandes actualizaciones de pesos. En este caso, lo único que se desea es readaptar los pesos preentrenados de forma gradual.\n",
        "\n",
        "Así se aplica el ajuste fino de todo el modelo base:\n",
        "\n",
        "```python\n",
        "# Unfreeze the base model\n",
        "base_model.trainable = True\n",
        "\n",
        "# It's important to recompile your model after you make any changes\n",
        "# to the `trainable` attribute of any inner layer, so that your changes\n",
        "# are take into account\n",
        "model.compile(optimizer=keras.optimizers.Adam(1e-5),  # Very low learning rate\n",
        "              loss=keras.losses.BinaryCrossentropy(from_logits=True),\n",
        "              metrics=[keras.metrics.BinaryAccuracy()])\n",
        "\n",
        "# Train end-to-end. Be careful to stop before you overfit!\n",
        "model.fit(new_dataset, epochs=10, callbacks=..., validation_data=...)\n",
        "```\n",
        "\n",
        "**Nota importante sobre `compile()` y `trainable`**\n",
        "\n",
        "Llamar a `compile()` en un modelo es \"congelar\" el comportamiento de ese modelo. Esto implica que los valores de los atributos `trainable` en el momento en que se compila el modelo deben conservarse durante toda la vida del modelo, hasta que se vuelva a llamar a `compile`. Por lo tanto, si cambia algún valor de `trainable`, asegúrese de volver a llamar a `compile()` en el modelo para que se tengan en cuenta los cambios.\n",
        "\n",
        "**Notas importantes sobre la capa `BatchNormalization`**\n",
        "\n",
        "Muchos modelos de imágenes contienen capas `BatchNormalization`. Esa capa es un caso especial en todos los aspectos imaginables. Aquí hay algunas cosas que debe tener en cuenta.\n",
        "\n",
        "- `BatchNormalization` contiene 2 pesos no entrenables que se actualizan durante el entrenamiento. Estas son las variables de seguimiento de la media y la varianza de las entradas.\n",
        "- Cuando se establece `bn_layer.trainable = False`, la capa `BatchNormalization` se ejecutará en modo de inferencia, y no se actualizarán sus estadísticas de media y varianza. Este no es el caso de otras capas en general, ya que [la entrenabilidad del peso y los modos de inferencia/entrenamiento son dos conceptos ortogonales](https://keras.io/getting_started/faq/#whats-the-difference-between-the-training-argument-in-call-and-the-trainable-attribute). Pero ambos están relacionados en el caso de la capa `BatchNormalization`.\n",
        "- Cuando se descongela un modelo que contiene capas `BatchNormalization` para realizar un ajuste fino, se deben mantener las capas `BatchNormalization` en el modo de inferencia pasando `training=False` al llamar al modelo base. De lo contrario, las actualizaciones aplicadas a los pesos no entrenables destruirán repentinamente lo que el modelo ha aprendido.\n",
        "\n",
        "Verá este patrón en acción en el ejemplo de extremo a extremo al final de esta guía.\n"
      ]
    },
    {
      "cell_type": "markdown",
      "metadata": {
        "id": "bce9ffc4e290"
      },
      "source": [
        "## Aprendizaje por transferencia y ajuste con un bucle de entrenamiento personalizado\n",
        "\n",
        "Si en lugar de `fit()`, utiliza su propio bucle de entrenamiento de bajo nivel, el flujo de trabajo seguirá siendo esencialmente el mismo. Debe tener cuidado de sólo tener en cuenta la lista `model.trainable_weights` al aplicar actualizaciones del gradiente:\n",
        "\n",
        "```python\n",
        "# Create base model\n",
        "base_model = keras.applications.Xception(\n",
        "    weights='imagenet',\n",
        "    input_shape=(150, 150, 3),\n",
        "    include_top=False)\n",
        "# Freeze base model\n",
        "base_model.trainable = False\n",
        "\n",
        "# Create new model on top.\n",
        "inputs = keras.Input(shape=(150, 150, 3))\n",
        "x = base_model(inputs, training=False)\n",
        "x = keras.layers.GlobalAveragePooling2D()(x)\n",
        "outputs = keras.layers.Dense(1)(x)\n",
        "model = keras.Model(inputs, outputs)\n",
        "\n",
        "loss_fn = keras.losses.BinaryCrossentropy(from_logits=True)\n",
        "optimizer = keras.optimizers.Adam()\n",
        "\n",
        "# Iterate over the batches of a dataset.\n",
        "for inputs, targets in new_dataset:\n",
        "    # Open a GradientTape.\n",
        "    with tf.GradientTape() as tape:\n",
        "        # Forward pass.\n",
        "        predictions = model(inputs)\n",
        "        # Compute the loss value for this batch.\n",
        "        loss_value = loss_fn(targets, predictions)\n",
        "\n",
        "    # Get gradients of loss wrt the *trainable* weights.\n",
        "    gradients = tape.gradient(loss_value, model.trainable_weights)\n",
        "    # Update the weights of the model.\n",
        "    optimizer.apply_gradients(zip(gradients, model.trainable_weights))\n",
        "```"
      ]
    },
    {
      "cell_type": "markdown",
      "metadata": {
        "id": "4e63ba34ce1c"
      },
      "source": [
        "Lo mismo ocurre con el ajuste fino."
      ]
    },
    {
      "cell_type": "markdown",
      "metadata": {
        "id": "852447087ba9"
      },
      "source": [
        "## Un ejemplo de extremo a extremo: puesta a punto de un modelo de clasificación de imágenes en un conjunto de datos de gatos frente a perros\n",
        "\n",
        "Para consolidar estos conceptos, veamos un ejemplo concreto de aprendizaje por transferencia y ajuste de extremo a extremo. Cargaremos el modelo Xception, preentrenado en ImageNet, y lo utilizaremos en el conjunto de datos de clasificación \"gatos frente a perros\" de Kaggle."
      ]
    },
    {
      "cell_type": "markdown",
      "metadata": {
        "id": "ba75835e0de6"
      },
      "source": [
        "### Obtener los datos\n",
        "\n",
        "En primer lugar, vamos a obtener el conjunto de datos de gatos frente a perros utilizando TFDS. Si tiene su propio conjunto de datos, probablemente querrá utilizar la utilidad `tf.keras.preprocessing.image_dataset_from_directory` para generar objetos a partir de un conjunto de imágenes archivadas en carpetas específicas para las clases.\n",
        "\n",
        "El aprendizaje por transferencia es más útil cuando se trabaja con conjuntos de datos muy pequeños. Para que nuestro conjunto de datos sea pequeño, utilizaremos el 40% de los datos de entrenamiento originales (25,000 imágenes) para el entrenamiento, el 10% para la validación y el 10% para las pruebas."
      ]
    },
    {
      "cell_type": "code",
      "execution_count": null,
      "metadata": {
        "id": "1a99f56934f7"
      },
      "outputs": [],
      "source": [
        "import tensorflow_datasets as tfds\n",
        "\n",
        "tfds.disable_progress_bar()\n",
        "\n",
        "train_ds, validation_ds, test_ds = tfds.load(\n",
        "    \"cats_vs_dogs\",\n",
        "    # Reserve 10% for validation and 10% for test\n",
        "    split=[\"train[:40%]\", \"train[40%:50%]\", \"train[50%:60%]\"],\n",
        "    as_supervised=True,  # Include labels\n",
        ")\n",
        "\n",
        "print(\"Number of training samples: %d\" % tf.data.experimental.cardinality(train_ds))\n",
        "print(\n",
        "    \"Number of validation samples: %d\" % tf.data.experimental.cardinality(validation_ds)\n",
        ")\n",
        "print(\"Number of test samples: %d\" % tf.data.experimental.cardinality(test_ds))"
      ]
    },
    {
      "cell_type": "markdown",
      "metadata": {
        "id": "9db548603642"
      },
      "source": [
        "Estas son las 9 primeras imágenes del conjunto de datos de entrenamiento: como puede ver, todas tienen tamaños diferentes."
      ]
    },
    {
      "cell_type": "code",
      "execution_count": null,
      "metadata": {
        "id": "00c8cbd1de88"
      },
      "outputs": [],
      "source": [
        "import matplotlib.pyplot as plt\n",
        "\n",
        "plt.figure(figsize=(10, 10))\n",
        "for i, (image, label) in enumerate(train_ds.take(9)):\n",
        "    ax = plt.subplot(3, 3, i + 1)\n",
        "    plt.imshow(image)\n",
        "    plt.title(int(label))\n",
        "    plt.axis(\"off\")"
      ]
    },
    {
      "cell_type": "markdown",
      "metadata": {
        "id": "168c4a10c072"
      },
      "source": [
        "También podemos ver que la etiqueta 1 es \"perro\" y la etiqueta 0 es \"gato\"."
      ]
    },
    {
      "cell_type": "markdown",
      "metadata": {
        "id": "f749203cd740"
      },
      "source": [
        "### Normalización de los datos\n",
        "\n",
        "Nuestras imágenes sin procesar tienen diversos tamaños. Además, cada pixel consiste en 3 valores enteros entre 0 y 255 (valores de nivel RGB). Esto no es muy adecuado para alimentar una red neuronal. Tenemos que hacer 2 cosas:\n",
        "\n",
        "- Estandarizar a un tamaño de imagen fijo. Elegimos 150x150.\n",
        "- Normalizar los valores de los pixeles entre -1 y 1. Haremos esto usando una capa `Normalization` como parte del propio modelo.\n",
        "\n",
        "En general, es una práctica recomendada desarrollar modelos que tomen datos sin procesar como entrada, en vez de modelos que tomen datos ya preprocesados. La razón es que, si su modelo espera datos preprocesados, cada vez que exporte su modelo para utilizarlo en otro lugar (en un navegador web, en una aplicación móvil), tendrá que volver a implementar exactamente el mismo proceso de preprocesamiento. Esto se complica rápidamente. Así que debemos hacer la menor cantidad posible de preprocesamiento antes de golpear el modelo.\n",
        "\n",
        "En este caso, cambiaremos el tamaño de la imagen en la canalización de datos (porque una red neuronal profunda solo puede procesar lotes contiguos de datos), y haremos el escalado del valor de entrada como parte del modelo, cuando lo creemos.\n",
        "\n",
        "Redimensionemos las imágenes a 150x150:"
      ]
    },
    {
      "cell_type": "code",
      "execution_count": null,
      "metadata": {
        "id": "b3678f38e087"
      },
      "outputs": [],
      "source": [
        "size = (150, 150)\n",
        "\n",
        "train_ds = train_ds.map(lambda x, y: (tf.image.resize(x, size), y))\n",
        "validation_ds = validation_ds.map(lambda x, y: (tf.image.resize(x, size), y))\n",
        "test_ds = test_ds.map(lambda x, y: (tf.image.resize(x, size), y))"
      ]
    },
    {
      "cell_type": "markdown",
      "metadata": {
        "id": "708bf9792a35"
      },
      "source": [
        "Además, procesemos los datos por lotes y utilicemos el almacenamiento en caché y la preextracción para optimizar la velocidad de carga."
      ]
    },
    {
      "cell_type": "code",
      "execution_count": null,
      "metadata": {
        "id": "53ef9e6092e3"
      },
      "outputs": [],
      "source": [
        "batch_size = 32\n",
        "\n",
        "train_ds = train_ds.cache().batch(batch_size).prefetch(buffer_size=10)\n",
        "validation_ds = validation_ds.cache().batch(batch_size).prefetch(buffer_size=10)\n",
        "test_ds = test_ds.cache().batch(batch_size).prefetch(buffer_size=10)"
      ]
    },
    {
      "cell_type": "markdown",
      "metadata": {
        "id": "b60f852c462f"
      },
      "source": [
        "### Utilizar el aumento aleatorio de datos\n",
        "\n",
        "Cuando no se dispone de un gran conjunto de datos de imágenes, es una práctica recomendada introducir artificialmente una diversidad de muestras aplicando transformaciones aleatorias pero realistas a las imágenes de entrenamiento, como volteos horizontales aleatorios o pequeñas rotaciones aleatorias. Esto ayuda a exponer el modelo a diferentes aspectos de los datos de entrenamiento y ralentiza el sobreajuste."
      ]
    },
    {
      "cell_type": "code",
      "execution_count": null,
      "metadata": {
        "id": "d6a5f072ae3b"
      },
      "outputs": [],
      "source": [
        "from tensorflow import keras\n",
        "from tensorflow.keras import layers\n",
        "\n",
        "data_augmentation = keras.Sequential(\n",
        "    [layers.RandomFlip(\"horizontal\"), layers.RandomRotation(0.1),]\n",
        ")"
      ]
    },
    {
      "cell_type": "markdown",
      "metadata": {
        "id": "6fa8ddeda36e"
      },
      "source": [
        "Visualicemos el aspecto de la primera imagen del primer lote después de varias transformaciones aleatorias:"
      ]
    },
    {
      "cell_type": "code",
      "execution_count": null,
      "metadata": {
        "id": "9077f9fd022e"
      },
      "outputs": [],
      "source": [
        "import numpy as np\n",
        "\n",
        "for images, labels in train_ds.take(1):\n",
        "    plt.figure(figsize=(10, 10))\n",
        "    first_image = images[0]\n",
        "    for i in range(9):\n",
        "        ax = plt.subplot(3, 3, i + 1)\n",
        "        augmented_image = data_augmentation(\n",
        "            tf.expand_dims(first_image, 0), training=True\n",
        "        )\n",
        "        plt.imshow(augmented_image[0].numpy().astype(\"int32\"))\n",
        "        plt.title(int(labels[0]))\n",
        "        plt.axis(\"off\")"
      ]
    },
    {
      "cell_type": "markdown",
      "metadata": {
        "id": "6743c69b0952"
      },
      "source": [
        "## Cómo construir un modelo\n",
        "\n",
        "Ahora vamos a construir un modelo que siga el esquema que hemos explicado anteriormente.\n",
        "\n",
        "Tenga en cuenta que:\n",
        "\n",
        "- Agregamos una capa `Rescaling` para escalar los valores de entrada (inicialmente en el rango `[0, 255]`) al rango `[-1, 1]`.\n",
        "- Agregamos una capa `Dropout` antes de la capa de clasificación, para realizar la regularización.\n",
        "- Nos aseguramos de pasar `training=False` al llamar al modelo base, para que se ejecute en modo de inferencia, de modo que las estadísticas batchnorm no se actualicen incluso después de descongelar el modelo base para el ajuste fino."
      ]
    },
    {
      "cell_type": "code",
      "execution_count": null,
      "metadata": {
        "id": "35d00d5e5722"
      },
      "outputs": [],
      "source": [
        "base_model = keras.applications.Xception(\n",
        "    weights=\"imagenet\",  # Load weights pre-trained on ImageNet.\n",
        "    input_shape=(150, 150, 3),\n",
        "    include_top=False,\n",
        ")  # Do not include the ImageNet classifier at the top.\n",
        "\n",
        "# Freeze the base_model\n",
        "base_model.trainable = False\n",
        "\n",
        "# Create new model on top\n",
        "inputs = keras.Input(shape=(150, 150, 3))\n",
        "x = data_augmentation(inputs)  # Apply random data augmentation\n",
        "\n",
        "# Pre-trained Xception weights requires that input be scaled\n",
        "# from (0, 255) to a range of (-1., +1.), the rescaling layer\n",
        "# outputs: `(inputs * scale) + offset`\n",
        "scale_layer = keras.layers.Rescaling(scale=1 / 127.5, offset=-1)\n",
        "x = scale_layer(x)\n",
        "\n",
        "# The base model contains batchnorm layers. We want to keep them in inference mode\n",
        "# when we unfreeze the base model for fine-tuning, so we make sure that the\n",
        "# base_model is running in inference mode here.\n",
        "x = base_model(x, training=False)\n",
        "x = keras.layers.GlobalAveragePooling2D()(x)\n",
        "x = keras.layers.Dropout(0.2)(x)  # Regularize with dropout\n",
        "outputs = keras.layers.Dense(1)(x)\n",
        "model = keras.Model(inputs, outputs)\n",
        "\n",
        "model.summary()"
      ]
    },
    {
      "cell_type": "markdown",
      "metadata": {
        "id": "2e8237de81e8"
      },
      "source": [
        "## Entrene la capa superior"
      ]
    },
    {
      "cell_type": "code",
      "execution_count": null,
      "metadata": {
        "id": "9137b8daedad"
      },
      "outputs": [],
      "source": [
        "model.compile(\n",
        "    optimizer=keras.optimizers.Adam(),\n",
        "    loss=keras.losses.BinaryCrossentropy(from_logits=True),\n",
        "    metrics=[keras.metrics.BinaryAccuracy()],\n",
        ")\n",
        "\n",
        "epochs = 20\n",
        "model.fit(train_ds, epochs=epochs, validation_data=validation_ds)"
      ]
    },
    {
      "cell_type": "markdown",
      "metadata": {
        "id": "aa51d4562fa7"
      },
      "source": [
        "## Realice una ronda de ajuste de todo el modelo\n",
        "\n",
        "Por último, descongelemos el modelo base y entrenemos todo el modelo de principio a fin con una tasa de aprendizaje baja.\n",
        "\n",
        "Es importante destacar que, aunque el modelo base se convierte en entrenable, todavía se está ejecutando en modo de inferencia ya que pasamos `training=False` al llamarlo cuando construimos el modelo. Esto significa que las capas de normalización de lotes no actualizarán sus estadísticas de lotes. Si lo hicieran, causarían estragos en las representaciones aprendidas por el modelo como hasta ahora."
      ]
    },
    {
      "cell_type": "code",
      "execution_count": null,
      "metadata": {
        "id": "3cc299505b72"
      },
      "outputs": [],
      "source": [
        "# Unfreeze the base_model. Note that it keeps running in inference mode\n",
        "# since we passed `training=False` when calling it. This means that\n",
        "# the batchnorm layers will not update their batch statistics.\n",
        "# This prevents the batchnorm layers from undoing all the training\n",
        "# we've done so far.\n",
        "base_model.trainable = True\n",
        "model.summary()\n",
        "\n",
        "model.compile(\n",
        "    optimizer=keras.optimizers.Adam(1e-5),  # Low learning rate\n",
        "    loss=keras.losses.BinaryCrossentropy(from_logits=True),\n",
        "    metrics=[keras.metrics.BinaryAccuracy()],\n",
        ")\n",
        "\n",
        "epochs = 10\n",
        "model.fit(train_ds, epochs=epochs, validation_data=validation_ds)"
      ]
    },
    {
      "cell_type": "markdown",
      "metadata": {
        "id": "afa73d989302"
      },
      "source": [
        "Después de 10 épocas, el ajuste fino nos proporcionará una buena mejora."
      ]
    }
  ],
  "metadata": {
    "colab": {
      "collapsed_sections": [],
      "name": "transfer_learning.ipynb",
      "toc_visible": true
    },
    "kernelspec": {
      "display_name": "Python 3",
      "name": "python3"
    }
  },
  "nbformat": 4,
  "nbformat_minor": 0
}
