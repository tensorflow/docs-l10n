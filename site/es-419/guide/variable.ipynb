{
  "cells": [
    {
      "cell_type": "markdown",
      "metadata": {
        "id": "Tce3stUlHN0L"
      },
      "source": [
        "##### Copyright 2020 The TensorFlow Authors."
      ]
    },
    {
      "cell_type": "code",
      "execution_count": null,
      "metadata": {
        "cellView": "form",
        "id": "tuOe1ymfHZPu"
      },
      "outputs": [],
      "source": [
        "#@title Licensed under the Apache License, Version 2.0 (the \"License\");\n",
        "# you may not use this file except in compliance with the License.\n",
        "# You may obtain a copy of the License at\n",
        "#\n",
        "# https://www.apache.org/licenses/LICENSE-2.0\n",
        "#\n",
        "# Unless required by applicable law or agreed to in writing, software\n",
        "# distributed under the License is distributed on an \"AS IS\" BASIS,\n",
        "# WITHOUT WARRANTIES OR CONDITIONS OF ANY KIND, either express or implied.\n",
        "# See the License for the specific language governing permissions and\n",
        "# limitations under the License."
      ]
    },
    {
      "cell_type": "markdown",
      "metadata": {
        "id": "qFdPvlXBOdUN"
      },
      "source": [
        "# Introducción a las variables"
      ]
    },
    {
      "cell_type": "markdown",
      "metadata": {
        "id": "MfBg1C5NB3X0"
      },
      "source": [
        "<table class=\"tfo-notebook-buttons\" align=\"left\">\n",
        "  <td><a target=\"_blank\" href=\"https://www.tensorflow.org/guide/variable\"><img src=\"https://www.tensorflow.org/images/tf_logo_32px.png\">Ver en TensorFlow.org</a></td>\n",
        "  <td><a target=\"_blank\" href=\"https://colab.research.google.com/github/tensorflow/docs-l10n/blob/master/site/es-419/guide/variable.ipynb\"><img src=\"https://www.tensorflow.org/images/colab_logo_32px.png\">Ejecutar en Google Colab</a></td>\n",
        "  <td>     <a target=\"_blank\" href=\"https://github.com/tensorflow/docs-l10n/blob/master/site/es-419/guide/variable.ipynb\"><img src=\"https://www.tensorflow.org/images/GitHub-Mark-32px.png\">Ver fuente en GitHub</a>\n",
        "</td>\n",
        "  <td>     <a href=\"https://storage.googleapis.com/tensorflow_docs/docs-l10n/site/es-419/guide/variable.ipynb\"><img src=\"https://www.tensorflow.org/images/download_logo_32px.png\">Descargar bloc de notas</a>\n",
        "</td>\n",
        "</table>"
      ]
    },
    {
      "cell_type": "markdown",
      "metadata": {
        "id": "AKhB9CMxndDs"
      },
      "source": [
        "Se recomienda usar una **variable** de TensorFlow para representar el estado compartido y persistente que su programa manipula. En esta guía se describe cómo crear, actualizar y gestionar instancias de `tf.Variable` en TensorFlow.\n",
        "\n",
        "Las variables se crean a través de la clase `tf.Variable` y también se les da seguimiento mediante esta misma clase. Una `tf.Variable` representa a un tensor cuyo valor se puede cambiar si se le ejecutan operaciones. Las operaciones (ops) específicas permiten leer y modificar los valores del tensor. Las bibliotecas de alto nivel como `tf.keras` usan `tf.Variable` para almacenar los parámetros del modelo. "
      ]
    },
    {
      "cell_type": "markdown",
      "metadata": {
        "id": "xZoJJ4vdvTrD"
      },
      "source": [
        "## Preparación\n",
        "\n",
        "En este artículo se habla sobre la ubicación de las variables. Si desea ver en qué dispositivos están ubicadas sus variables, elimine los comentarios de la línea."
      ]
    },
    {
      "cell_type": "code",
      "execution_count": null,
      "metadata": {
        "id": "7tUZJk7lDiGo"
      },
      "outputs": [],
      "source": [
        "import tensorflow as tf\n",
        "\n",
        "# Uncomment to see where your variables get placed (see below)\n",
        "# tf.debugging.set_log_device_placement(True)"
      ]
    },
    {
      "cell_type": "markdown",
      "metadata": {
        "id": "vORGXDarogWm"
      },
      "source": [
        "## Creación de una variable\n",
        "\n",
        "Para crear una variable, proporcione el valor inicial.  La `tf.Variable` tendrá el mismo `dtype` del valor de la inicialización."
      ]
    },
    {
      "cell_type": "code",
      "execution_count": null,
      "metadata": {
        "id": "dsYXSqleojj7"
      },
      "outputs": [],
      "source": [
        "my_tensor = tf.constant([[1.0, 2.0], [3.0, 4.0]])\n",
        "my_variable = tf.Variable(my_tensor)\n",
        "\n",
        "# Variables can be all kinds of types, just like tensors\n",
        "bool_variable = tf.Variable([False, False, False, True])\n",
        "complex_variable = tf.Variable([5 + 4j, 6 + 1j])"
      ]
    },
    {
      "cell_type": "markdown",
      "metadata": {
        "id": "VQHwJ_Itoujf"
      },
      "source": [
        "Una variable tiene el mismo aspecto que un tensor y se comporta como tal, además; de hecho, es una estructura de datos respaldada por un `tf.Tensor`. Al igual que con los tensores, tienen un `dtype` y una forma; y pueden exportarse a NumPy."
      ]
    },
    {
      "cell_type": "code",
      "execution_count": null,
      "metadata": {
        "id": "GhNfPwCYpvlq"
      },
      "outputs": [],
      "source": [
        "print(\"Shape: \", my_variable.shape)\n",
        "print(\"DType: \", my_variable.dtype)\n",
        "print(\"As NumPy: \", my_variable.numpy())"
      ]
    },
    {
      "cell_type": "markdown",
      "metadata": {
        "id": "eZmSBYViqDoU"
      },
      "source": [
        "La mayoría de las operaciones con tensores funcionan con variables tal como se espera, a pesar de que las variables no se pueden reformar."
      ]
    },
    {
      "cell_type": "code",
      "execution_count": null,
      "metadata": {
        "id": "TrIaExVNp_LK"
      },
      "outputs": [],
      "source": [
        "print(\"A variable:\", my_variable)\n",
        "print(\"\\nViewed as a tensor:\", tf.convert_to_tensor(my_variable))\n",
        "print(\"\\nIndex of highest value:\", tf.math.argmax(my_variable))\n",
        "\n",
        "# This creates a new tensor; it does not reshape the variable.\n",
        "print(\"\\nCopying and reshaping: \", tf.reshape(my_variable, [1,4]))"
      ]
    },
    {
      "cell_type": "markdown",
      "metadata": {
        "id": "qbLCcG6Pc29Y"
      },
      "source": [
        "Tal como se describe arriba, las variables están respaldadas por tensores. El tensor se puede reasignar con `tf.Variable.assign`.  Si se invoca `assign`, por lo común, no se asigna un tensor nuevo; en cambio, se reutiliza la memoria del tensor existente."
      ]
    },
    {
      "cell_type": "code",
      "execution_count": null,
      "metadata": {
        "id": "yeEpO309QbB2"
      },
      "outputs": [],
      "source": [
        "a = tf.Variable([2.0, 3.0])\n",
        "# This will keep the same dtype, float32\n",
        "a.assign([1, 2]) \n",
        "# Not allowed as it resizes the variable: \n",
        "try:\n",
        "  a.assign([1.0, 2.0, 3.0])\n",
        "except Exception as e:\n",
        "  print(f\"{type(e).__name__}: {e}\")"
      ]
    },
    {
      "cell_type": "markdown",
      "metadata": {
        "id": "okeywjLdQ1tY"
      },
      "source": [
        "Si se usa una variable como un tensor en operaciones, por lo general, se operará en el tensor de respaldo.\n",
        "\n",
        "Al crear variables nuevas a partir de variables existentes se duplican los tensores de respaldo. Dos variables no compartirán la misma memoria."
      ]
    },
    {
      "cell_type": "code",
      "execution_count": null,
      "metadata": {
        "id": "2CnfGc6ucbXc"
      },
      "outputs": [],
      "source": [
        "a = tf.Variable([2.0, 3.0])\n",
        "# Create b based on the value of a\n",
        "b = tf.Variable(a)\n",
        "a.assign([5, 6])\n",
        "\n",
        "# a and b are different\n",
        "print(a.numpy())\n",
        "print(b.numpy())\n",
        "\n",
        "# There are other versions of assign\n",
        "print(a.assign_add([2,3]).numpy())  # [7. 9.]\n",
        "print(a.assign_sub([7,9]).numpy())  # [0. 0.]"
      ]
    },
    {
      "cell_type": "markdown",
      "metadata": {
        "id": "ZtzepotYUe7B"
      },
      "source": [
        "## Ciclos de vida, asignación de nombres y observación\n",
        "\n",
        "En TensorFlow basado en Python, la instancia `tf.Variable` tiene el mismo ciclo de vida que otros objetos de Python. Cuando no hay referencias a una variable, se le quita la asignación automáticamente.\n",
        "\n",
        "A las variables también se les puede asignar un nombre que puede ser útil para darles seguimiento y depurarlas. Se les puede dar el mismo nombre a dos variables diferentes."
      ]
    },
    {
      "cell_type": "code",
      "execution_count": null,
      "metadata": {
        "id": "VBFbzKj8RaPf"
      },
      "outputs": [],
      "source": [
        "# Create a and b; they will have the same name but will be backed by\n",
        "# different tensors.\n",
        "a = tf.Variable(my_tensor, name=\"Mark\")\n",
        "# A new variable with the same name, but different value\n",
        "# Note that the scalar add is broadcast\n",
        "b = tf.Variable(my_tensor + 1, name=\"Mark\")\n",
        "\n",
        "# These are elementwise-unequal, despite having the same name\n",
        "print(a == b)"
      ]
    },
    {
      "cell_type": "markdown",
      "metadata": {
        "id": "789QikItVA_E"
      },
      "source": [
        "Los nombres de las variables se conservan al guardar y cargar los modelos. Por defecto, las variables de los modelos adquirirán automáticamente nombres únicos de variables, por lo que no será necesario asignárselos uno mismo, a menos que en realidad quiera hacerlo.\n",
        "\n",
        "A pesar de que las variables son importantes para la diferenciación, algunas no necesitarán ser diferenciadas. Se pueden desactivar los gradientes para una variable, hay que definir `trainable` como falso en el momento de la creación. Un ejemplo de una variable que no necesitará gradientes es un contador de pasos de entrenamiento."
      ]
    },
    {
      "cell_type": "code",
      "execution_count": null,
      "metadata": {
        "id": "B5Sj1DqhbZvx"
      },
      "outputs": [],
      "source": [
        "step_counter = tf.Variable(1, trainable=False)"
      ]
    },
    {
      "cell_type": "markdown",
      "metadata": {
        "id": "DD_xfDLDTDNU"
      },
      "source": [
        "## Ubicación de variables y tensores\n",
        "\n",
        "Para un mejor desempeño, TensorFlow intentará ubicar los tensores y las variables en el dispositivo compatible más rápido, y lo hará con su `dtype`. Significa que la mayoría se las variables de ubican en una GPU, en caso de que haya una disponible.\n",
        "\n",
        "Sin embargo, se puede sobrescribir (<em>override</em>). En este fragmento,  ubique un tensor flotante y una variable en la CPU, incluso aunque haya una GPU disponible. Al activar el registro de la ubicación del dispositivo (consulte la sección [Preparación](#scrollTo=xZoJJ4vdvTrD)), verá dónde se ubica la variable.\n",
        "\n",
        "Nota: A pesar de que la ubicación manual funciona, las [estrategias de distribución](distributed_training.ipynb) pueden ser las opciones más convenientes y escalables para la optimización del cálculo.\n",
        "\n",
        "Si este *notebook* se ejecuta en backends diferentes con o sin una GPU, verá un registro (*logging*) diferente. *Tenga en cuenta que la ubicación del dispositivo de registro se debe activar al inicio de la sesión.*"
      ]
    },
    {
      "cell_type": "code",
      "execution_count": null,
      "metadata": {
        "id": "2SjpD7wVUSBJ"
      },
      "outputs": [],
      "source": [
        "with tf.device('CPU:0'):\n",
        "\n",
        "  # Create some tensors\n",
        "  a = tf.Variable([[1.0, 2.0, 3.0], [4.0, 5.0, 6.0]])\n",
        "  b = tf.constant([[1.0, 2.0], [3.0, 4.0], [5.0, 6.0]])\n",
        "  c = tf.matmul(a, b)\n",
        "\n",
        "print(c)"
      ]
    },
    {
      "cell_type": "markdown",
      "metadata": {
        "id": "PXbh-p2BXKcr"
      },
      "source": [
        "Se puede establecer la ubicación de una variable o tensor en un dispositivo y hacer el cálculo en otro. Esto agregará una demora, ya que los datos deberán copiarse entre dispositivos.\n",
        "\n",
        "Sin embargo, probablemente quiera hacerlo de todos modos si tiene varios nodos trabajadores GPU pero solamente quiere una sola copia de las variables."
      ]
    },
    {
      "cell_type": "code",
      "execution_count": null,
      "metadata": {
        "id": "dgWHN3QSfNiQ"
      },
      "outputs": [],
      "source": [
        "with tf.device('CPU:0'):\n",
        "  a = tf.Variable([[1.0, 2.0, 3.0], [4.0, 5.0, 6.0]])\n",
        "  b = tf.Variable([[1.0, 2.0, 3.0]])\n",
        "\n",
        "with tf.device('GPU:0'):\n",
        "  # Element-wise multiply\n",
        "  k = a * b\n",
        "\n",
        "print(k)"
      ]
    },
    {
      "cell_type": "markdown",
      "metadata": {
        "id": "fksvRaqoYfay"
      },
      "source": [
        "Nota: Dado que `tf.config.set_soft_device_placement` se activa por defecto,  aún se ejecutará, incluso aunque ejecute este código en un dispositivo sin GPU.  El paso de multiplicación se producirá en la CPU.\n",
        "\n",
        "Para más información sobre entrenamiento distribuido, consulte la [guía](distributed_training.ipynb)."
      ]
    },
    {
      "cell_type": "markdown",
      "metadata": {
        "id": "SzCkWlF2S4yo"
      },
      "source": [
        "## Próximos pasos\n",
        "\n",
        "Para entender cómo se usan normalmente las variables, consulte nuestra guía sobre [diferenciación automática](autodiff.ipynb)."
      ]
    }
  ],
  "metadata": {
    "colab": {
      "collapsed_sections": [],
      "name": "variable.ipynb",
      "toc_visible": true
    },
    "kernelspec": {
      "display_name": "Python 3",
      "name": "python3"
    }
  },
  "nbformat": 4,
  "nbformat_minor": 0
}
