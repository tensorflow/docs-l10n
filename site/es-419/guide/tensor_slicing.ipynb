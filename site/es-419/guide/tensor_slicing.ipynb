{
  "cells": [
    {
      "cell_type": "markdown",
      "metadata": {
        "id": "Tce3stUlHN0L"
      },
      "source": [
        "##### Copyright 2020 The TensorFlow Authors."
      ]
    },
    {
      "cell_type": "code",
      "execution_count": null,
      "metadata": {
        "cellView": "form",
        "id": "tuOe1ymfHZPu"
      },
      "outputs": [],
      "source": [
        "#@title Licensed under the Apache License, Version 2.0 (the \"License\");\n",
        "# you may not use this file except in compliance with the License.\n",
        "# You may obtain a copy of the License at\n",
        "#\n",
        "# https://www.apache.org/licenses/LICENSE-2.0\n",
        "#\n",
        "# Unless required by applicable law or agreed to in writing, software\n",
        "# distributed under the License is distributed on an \"AS IS\" BASIS,\n",
        "# WITHOUT WARRANTIES OR CONDITIONS OF ANY KIND, either express or implied.\n",
        "# See the License for the specific language governing permissions and\n",
        "# limitations under the License."
      ]
    },
    {
      "cell_type": "markdown",
      "metadata": {
        "id": "VZ-KA8k5kybx"
      },
      "source": [
        "# Introducción al seccionamiento de tensores"
      ]
    },
    {
      "cell_type": "markdown",
      "metadata": {
        "id": "MfBg1C5NB3X0"
      },
      "source": [
        "<table class=\"tfo-notebook-buttons\" align=\"left\">\n",
        "  <td><a target=\"_blank\" href=\"https://www.tensorflow.org/guide/tensor_slicing\"><img src=\"https://www.tensorflow.org/images/tf_logo_32px.png\">Ver en TensorFlow.org</a></td>\n",
        "  <td><a target=\"_blank\" href=\"https://colab.research.google.com/github/tensorflow/docs-l10n/blob/master/site/es-419/guide/tensor_slicing.ipynb\"><img src=\"https://www.tensorflow.org/images/colab_logo_32px.png\">Ejecutar en Google Colab</a></td>\n",
        "  <td>     <a target=\"_blank\" href=\"https://github.com/tensorflow/docs-l10n/blob/master/site/es-419/guide/tensor_slicing.ipynb\"><img src=\"https://www.tensorflow.org/images/GitHub-Mark-32px.png\">Ver fuente en GitHub</a>\n",
        "</td>\n",
        "  <td>     <a href=\"https://storage.googleapis.com/tensorflow_docs/docs-l10n/site/es-419/guide/tensor_slicing.ipynb\"><img src=\"https://www.tensorflow.org/images/download_logo_32px.png\">Descargar bloc de notas</a>\n",
        "</td>\n",
        "</table>"
      ]
    },
    {
      "cell_type": "markdown",
      "metadata": {
        "id": "AixIdVeRk3CO"
      },
      "source": [
        "Cuando trabajamos en aplicaciones de aprendizaje automático como la detección de objetos y el NPL (procesamiento de lenguaje natural), a veces, es necesario trabajar con subsecciones (<em>slices</em>) de tensores. Por ejemplo, si la arquitectura de su modelo incluye el enrutamiento, en que una capa podría controlar qué ejemplo de entrenamiento se enruta a la siguiente capa. En tal caso, podría usar las <em>ops</em> (operaciones) de seccionamiento de tensores para dividir los tensores y volver a reunirlos en el orden correcto.\n",
        "\n",
        "En aplicaciones de procesamiento de lenguaje natural, se puede usar el seccionamiento de tensores para el enmascaramiento de palabras durante el entrenamiento. Por ejemplo, es posible generar datos de entrenamiento a partir de una lista de sentencias mediante la selección de un índice de palabras para enmascarar en cada sentencia, tomando la palabra como etiqueta y, después, reemplazando la palabra elegida por un token de máscara.\n",
        "\n",
        "En esta guía, aprenderá a usar las API de TensorFlow para lo siguiente:\n",
        "\n",
        "- Extraer secciones (<em>slices</em>) de un tensor\n",
        "- Insertar datos a índices específicos en un tensor\n",
        "\n",
        "En esta guía se sobreentiende que el lector está familiarizado con la indexación de tensores. Antes de empezar a leer esta guía, consulte las secciones sobre indexación de las guías sobre [Tensores](https://www.tensorflow.org/guide/tensor#indexing) y [TensorFlow NumPy](https://www.tensorflow.org/guide/tf_numpy#indexing)."
      ]
    },
    {
      "cell_type": "markdown",
      "metadata": {
        "id": "FcWhWYn7eXkF"
      },
      "source": [
        "## Preparación\n"
      ]
    },
    {
      "cell_type": "code",
      "execution_count": null,
      "metadata": {
        "id": "m6uvewqi0jso"
      },
      "outputs": [],
      "source": [
        "import tensorflow as tf\n",
        "import numpy as np"
      ]
    },
    {
      "cell_type": "markdown",
      "metadata": {
        "id": "K-muS4ej5zoN"
      },
      "source": [
        "## Extracción de secciones de tensores\n",
        "\n",
        "Realice un seccionamiento de los tensores tipo NumPy con `tf.slice`.\n"
      ]
    },
    {
      "cell_type": "code",
      "execution_count": null,
      "metadata": {
        "id": "wZep0cjs0Oai"
      },
      "outputs": [],
      "source": [
        "t1 = tf.constant([0, 1, 2, 3, 4, 5, 6, 7])\n",
        "\n",
        "print(tf.slice(t1,\n",
        "               begin=[1],\n",
        "               size=[3]))"
      ]
    },
    {
      "cell_type": "markdown",
      "metadata": {
        "id": "Vh3xI3j0DRJ2"
      },
      "source": [
        "Como alternativa, se puede usar más sintaxis Pythonic. Tenga en cuenta que los espacios de separación de las secciones del tensor son los mismos a lo largo de un rango desde el inicio hasta que se detiene."
      ]
    },
    {
      "cell_type": "code",
      "execution_count": null,
      "metadata": {
        "id": "P1MtEyKuWuDD"
      },
      "outputs": [],
      "source": [
        "print(t1[1:4])"
      ]
    },
    {
      "cell_type": "markdown",
      "metadata": {
        "id": "cjq1o8D2wKKs"
      },
      "source": [
        "<img src=\"images/tf_slicing/slice_1d_1.png\">"
      ]
    },
    {
      "cell_type": "code",
      "execution_count": null,
      "metadata": {
        "id": "UunuLTIuwDA-"
      },
      "outputs": [],
      "source": [
        "print(t1[-3:])"
      ]
    },
    {
      "cell_type": "markdown",
      "metadata": {
        "id": "EHvRB-XTwRTd"
      },
      "source": [
        "<img src=\"images/tf_slicing/slice_1d_2.png\">"
      ]
    },
    {
      "cell_type": "markdown",
      "metadata": {
        "id": "SW1zFFTnUpCQ"
      },
      "source": [
        "Con los tensores bidimensionales, se puede usar algo como lo siguiente:"
      ]
    },
    {
      "cell_type": "code",
      "execution_count": null,
      "metadata": {
        "id": "kThZhmpAVAQw"
      },
      "outputs": [],
      "source": [
        "t2 = tf.constant([[0, 1, 2, 3, 4],\n",
        "                  [5, 6, 7, 8, 9],\n",
        "                  [10, 11, 12, 13, 14],\n",
        "                  [15, 16, 17, 18, 19]])\n",
        "\n",
        "print(t2[:-1, 1:3])"
      ]
    },
    {
      "cell_type": "markdown",
      "metadata": {
        "id": "xA5Xt4OdVUui"
      },
      "source": [
        "<img src=\"images/tf_slicing/slice_2d_1.png\">"
      ]
    },
    {
      "cell_type": "markdown",
      "metadata": {
        "id": "iJPggqsH15fI"
      },
      "source": [
        "Con tensores dimensionales más altos se puede usar `tf.slice`."
      ]
    },
    {
      "cell_type": "code",
      "execution_count": null,
      "metadata": {
        "id": "Re5eX1OXnKOZ"
      },
      "outputs": [],
      "source": [
        "t3 = tf.constant([[[1, 3, 5, 7],\n",
        "                   [9, 11, 13, 15]],\n",
        "                  [[17, 19, 21, 23],\n",
        "                   [25, 27, 29, 31]]\n",
        "                  ])\n",
        "\n",
        "print(tf.slice(t3,\n",
        "               begin=[1, 1, 0],\n",
        "               size=[1, 1, 2]))"
      ]
    },
    {
      "cell_type": "markdown",
      "metadata": {
        "id": "x-O5FNV9qOJK"
      },
      "source": [
        "También es posible usar `tf.strided_slice` para extraer secciones de tensores mediante el \"<em>striding</em>\" (desplazamiento) sobre las dimensiones del tensor."
      ]
    },
    {
      "cell_type": "markdown",
      "metadata": {
        "id": "b9FhvrOnJsJb"
      },
      "source": [
        "Use `tf.gather` para extraer índices específicos a partir de un solo eje de un tensor."
      ]
    },
    {
      "cell_type": "code",
      "execution_count": null,
      "metadata": {
        "id": "TwviZrrIj2h7"
      },
      "outputs": [],
      "source": [
        "print(tf.gather(t1,\n",
        "                indices=[0, 3, 6]))\n",
        "\n",
        "# This is similar to doing\n",
        "\n",
        "t1[::3]"
      ]
    },
    {
      "cell_type": "markdown",
      "metadata": {
        "id": "oKyjGi2zyzEC"
      },
      "source": [
        "<img src=\"images/tf_slicing/slice_1d_3.png\">"
      ]
    },
    {
      "cell_type": "markdown",
      "metadata": {
        "id": "obrjeKy1WfTN"
      },
      "source": [
        "No se requieren índices para lograr el espaciamiento parejo de `tf.gather`."
      ]
    },
    {
      "cell_type": "code",
      "execution_count": null,
      "metadata": {
        "id": "LjJcwcZ0druw"
      },
      "outputs": [],
      "source": [
        "alphabet = tf.constant(list('abcdefghijklmnopqrstuvwxyz'))\n",
        "\n",
        "print(tf.gather(alphabet,\n",
        "                indices=[2, 0, 19, 18]))"
      ]
    },
    {
      "cell_type": "markdown",
      "metadata": {
        "id": "mSHmUXIyeaJG"
      },
      "source": [
        "<img src=\"images/tf_slicing/gather_1.png\">"
      ]
    },
    {
      "cell_type": "markdown",
      "metadata": {
        "id": "XsxMx49SOaVu"
      },
      "source": [
        "Para extraer secciones de múltiples ejes de un tensor, use `tf.gather_nd`. Esto resulta útil cuando lo que desea es reunir los elementos de una matriz en oposición a sus filas o columnas."
      ]
    },
    {
      "cell_type": "code",
      "execution_count": null,
      "metadata": {
        "id": "mT52NFWVdiTe"
      },
      "outputs": [],
      "source": [
        "t4 = tf.constant([[0, 5],\n",
        "                  [1, 6],\n",
        "                  [2, 7],\n",
        "                  [3, 8],\n",
        "                  [4, 9]])\n",
        "\n",
        "print(tf.gather_nd(t4,\n",
        "                   indices=[[2], [3], [0]]))"
      ]
    },
    {
      "cell_type": "markdown",
      "metadata": {
        "id": "87NN7YQhh2-a"
      },
      "source": [
        "<img src=\"images/tf_slicing/gather_2.png\">"
      ]
    },
    {
      "cell_type": "code",
      "execution_count": null,
      "metadata": {
        "id": "_z6F2WcPJ9Rh"
      },
      "outputs": [],
      "source": [
        "t5 = np.reshape(np.arange(18), [2, 3, 3])\n",
        "\n",
        "print(tf.gather_nd(t5,\n",
        "                   indices=[[0, 0, 0], [1, 2, 1]]))"
      ]
    },
    {
      "cell_type": "code",
      "execution_count": null,
      "metadata": {
        "id": "gyIjhm7cV2N0"
      },
      "outputs": [],
      "source": [
        "# Return a list of two matrices\n",
        "\n",
        "print(tf.gather_nd(t5,\n",
        "                   indices=[[[0, 0], [0, 2]], [[1, 0], [1, 2]]]))"
      ]
    },
    {
      "cell_type": "code",
      "execution_count": null,
      "metadata": {
        "id": "368D4ciDWB3r"
      },
      "outputs": [],
      "source": [
        "# Return one matrix\n",
        "\n",
        "print(tf.gather_nd(t5,\n",
        "                   indices=[[0, 0], [0, 2], [1, 0], [1, 2]]))"
      ]
    },
    {
      "cell_type": "markdown",
      "metadata": {
        "id": "od51VzS2SSPS"
      },
      "source": [
        "## Inserción de datos en tensores\n",
        "\n",
        "Use `tf.scatter_nd` para insertar datos en secciones o índices específicos de un tensor. Tenga en cuenta que el tensor en el que inserte valores se inicializará a cero."
      ]
    },
    {
      "cell_type": "code",
      "execution_count": null,
      "metadata": {
        "id": "jlALYLWm1KhN"
      },
      "outputs": [],
      "source": [
        "t6 = tf.constant([10])\n",
        "indices = tf.constant([[1], [3], [5], [7], [9]])\n",
        "data = tf.constant([2, 4, 6, 8, 10])\n",
        "\n",
        "print(tf.scatter_nd(indices=indices,\n",
        "                    updates=data,\n",
        "                    shape=t6))"
      ]
    },
    {
      "cell_type": "markdown",
      "metadata": {
        "id": "CD5vd-kxksW7"
      },
      "source": [
        "Los métodos como `tf.scatter_nd` para los que se requieren tensores inicializados en cero son similares a los de los inicializadores de tensores dispersos. Se pueden usar `tf.gather_nd` y `tf.scatter_nd` para imitar el comportamiento de las operaciones de tensores dispersos.\n",
        "\n",
        "Considere un ejemplo de construcción de un tensor disperso con estos dos métodos juntos."
      ]
    },
    {
      "cell_type": "code",
      "execution_count": null,
      "metadata": {
        "id": "xyK69QgRmrlW"
      },
      "outputs": [],
      "source": [
        "# Gather values from one tensor by specifying indices\n",
        "\n",
        "new_indices = tf.constant([[0, 2], [2, 1], [3, 3]])\n",
        "t7 = tf.gather_nd(t2, indices=new_indices)"
      ]
    },
    {
      "cell_type": "markdown",
      "metadata": {
        "id": "_7V_Qfa4qkdn"
      },
      "source": [
        "<img src=\"images/tf_slicing/gather_nd_sparse.png\">"
      ]
    },
    {
      "cell_type": "code",
      "execution_count": null,
      "metadata": {
        "id": "QWT1E1Weqjx2"
      },
      "outputs": [],
      "source": [
        "# Add these values into a new tensor\n",
        "\n",
        "t8 = tf.scatter_nd(indices=new_indices, updates=t7, shape=tf.constant([4, 5]))\n",
        "\n",
        "print(t8)"
      ]
    },
    {
      "cell_type": "markdown",
      "metadata": {
        "id": "NUyYjnvCn_vu"
      },
      "source": [
        "Es similar a:"
      ]
    },
    {
      "cell_type": "code",
      "execution_count": null,
      "metadata": {
        "id": "LeqFwUgroE4j"
      },
      "outputs": [],
      "source": [
        "t9 = tf.SparseTensor(indices=[[0, 2], [2, 1], [3, 3]],\n",
        "                     values=[2, 11, 18],\n",
        "                     dense_shape=[4, 5])\n",
        "\n",
        "print(t9)"
      ]
    },
    {
      "cell_type": "code",
      "execution_count": null,
      "metadata": {
        "id": "5MaF6RlJot33"
      },
      "outputs": [],
      "source": [
        "# Convert the sparse tensor into a dense tensor\n",
        "\n",
        "t10 = tf.sparse.to_dense(t9)\n",
        "\n",
        "print(t10)"
      ]
    },
    {
      "cell_type": "markdown",
      "metadata": {
        "id": "4sf3F3Xk56Bt"
      },
      "source": [
        "Para insertar datos en un tensor con valores preexistentes, use `tf.tensor_scatter_nd_add`."
      ]
    },
    {
      "cell_type": "code",
      "execution_count": null,
      "metadata": {
        "id": "mte2ifOb6sQO"
      },
      "outputs": [],
      "source": [
        "t11 = tf.constant([[2, 7, 0],\n",
        "                   [9, 0, 1],\n",
        "                   [0, 3, 8]])\n",
        "\n",
        "# Convert the tensor into a magic square by inserting numbers at appropriate indices\n",
        "\n",
        "t12 = tf.tensor_scatter_nd_add(t11,\n",
        "                               indices=[[0, 2], [1, 1], [2, 0]],\n",
        "                               updates=[6, 5, 4])\n",
        "\n",
        "print(t12)"
      ]
    },
    {
      "cell_type": "markdown",
      "metadata": {
        "id": "2dQYyROU09G6"
      },
      "source": [
        "De un modo similar, use `tf.tensor_scatter_nd_sub` para restar valores de un tensor con valores preexistentes."
      ]
    },
    {
      "cell_type": "code",
      "execution_count": null,
      "metadata": {
        "id": "ac6_i6uK1EI6"
      },
      "outputs": [],
      "source": [
        "# Convert the tensor into an identity matrix\n",
        "\n",
        "t13 = tf.tensor_scatter_nd_sub(t11,\n",
        "                               indices=[[0, 0], [0, 1], [1, 0], [1, 1], [1, 2], [2, 1], [2, 2]],\n",
        "                               updates=[1, 7, 9, -1, 1, 3, 7])\n",
        "\n",
        "print(t13)"
      ]
    },
    {
      "cell_type": "markdown",
      "metadata": {
        "id": "B_2DuzRRwVc8"
      },
      "source": [
        "Use `tf.tensor_scatter_nd_min` para copiar de un tensor a otro valores mínimos entre elementos correspondientes (<em>element-wise</em>)."
      ]
    },
    {
      "cell_type": "code",
      "execution_count": null,
      "metadata": {
        "id": "T_4FrHrHlkHK"
      },
      "outputs": [],
      "source": [
        "t14 = tf.constant([[-2, -7, 0],\n",
        "                   [-9, 0, 1],\n",
        "                   [0, -3, -8]])\n",
        "\n",
        "t15 = tf.tensor_scatter_nd_min(t14,\n",
        "                               indices=[[0, 2], [1, 1], [2, 0]],\n",
        "                               updates=[-6, -5, -4])\n",
        "\n",
        "print(t15)"
      ]
    },
    {
      "cell_type": "markdown",
      "metadata": {
        "id": "PkaiKyrF0WtX"
      },
      "source": [
        "Asimismo, use `tf.tensor_scatter_nd_max` para copiar de un tensor a otro valores máximos entre elementos correspondientes (<em>element-wise</em>)."
      ]
    },
    {
      "cell_type": "code",
      "execution_count": null,
      "metadata": {
        "id": "izJu0nXi0GDq"
      },
      "outputs": [],
      "source": [
        "t16 = tf.tensor_scatter_nd_max(t14,\n",
        "                               indices=[[0, 2], [1, 1], [2, 0]],\n",
        "                               updates=[6, 5, 4])\n",
        "\n",
        "print(t16)"
      ]
    },
    {
      "cell_type": "markdown",
      "metadata": {
        "id": "QAffUOa-85lF"
      },
      "source": [
        "## Lecturas y recursos complementarios\n",
        "\n",
        "Con esta guía, ha aprendido a usar las operaciones de seccionamiento de tensores disponibles en TensorFlow para ejercer un control más detallado de los elementos de los tensores.\n",
        "\n",
        "- Revise las operaciones de seccionamiento disponibles con TensorFlow NumPy tales como `tf.experimental.numpy.take_along_axis` y `tf.experimental.numpy.take`.\n",
        "\n",
        "- También consulte la [guía sobre tensores](https://www.tensorflow.org/guide/tensor) y la [guía sobre variables](https://www.tensorflow.org/guide/variable)."
      ]
    }
  ],
  "metadata": {
    "colab": {
      "collapsed_sections": [],
      "name": "tensor_slicing.ipynb",
      "toc_visible": true
    },
    "kernelspec": {
      "display_name": "Python 3",
      "name": "python3"
    }
  },
  "nbformat": 4,
  "nbformat_minor": 0
}
