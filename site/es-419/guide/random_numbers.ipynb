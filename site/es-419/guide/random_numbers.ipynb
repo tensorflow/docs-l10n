{
  "cells": [
    {
      "cell_type": "markdown",
      "metadata": {
        "id": "Tce3stUlHN0L"
      },
      "source": [
        "##### Copyright 2019 The TensorFlow Authors."
      ]
    },
    {
      "cell_type": "code",
      "execution_count": null,
      "metadata": {
        "cellView": "form",
        "id": "tuOe1ymfHZPu"
      },
      "outputs": [],
      "source": [
        "#@title Licensed under the Apache License, Version 2.0 (the \"License\");\n",
        "# you may not use this file except in compliance with the License.\n",
        "# You may obtain a copy of the License at\n",
        "#\n",
        "# https://www.apache.org/licenses/LICENSE-2.0\n",
        "#\n",
        "# Unless required by applicable law or agreed to in writing, software\n",
        "# distributed under the License is distributed on an \"AS IS\" BASIS,\n",
        "# WITHOUT WARRANTIES OR CONDITIONS OF ANY KIND, either express or implied.\n",
        "# See the License for the specific language governing permissions and\n",
        "# limitations under the License."
      ]
    },
    {
      "cell_type": "markdown",
      "metadata": {
        "id": "qFdPvlXBOdUN"
      },
      "source": [
        "# Generación de números aleatorios"
      ]
    },
    {
      "cell_type": "markdown",
      "metadata": {
        "id": "MfBg1C5NB3X0"
      },
      "source": [
        "<table class=\"tfo-notebook-buttons\" align=\"left\">\n",
        "  <td><a target=\"_blank\" href=\"https://www.tensorflow.org/guide/random_numbers\"><img src=\"https://www.tensorflow.org/images/tf_logo_32px.png\">Ver en TensorFlow.org</a></td>\n",
        "  <td><a target=\"_blank\" href=\"https://colab.research.google.com/github/tensorflow/docs-l10n/blob/master/site/es-419/guide/random_numbers.ipynb\"><img src=\"https://www.tensorflow.org/images/colab_logo_32px.png\">Ejecutar en Google Colab</a></td>\n",
        "  <td>     <a target=\"_blank\" href=\"https://github.com/tensorflow/docs-l10n/blob/master/site/es-419/guide/random_numbers.ipynb\"><img src=\"https://www.tensorflow.org/images/GitHub-Mark-32px.png\">Ver fuente en GitHub</a>\n",
        "</td>\n",
        "  <td>     <a href=\"https://storage.googleapis.com/tensorflow_docs/docs-l10n/site/es-419/guide/random_numbers.ipynb\"><img src=\"https://www.tensorflow.org/images/download_logo_32px.png\">Descargar bloc de notas</a>\n",
        "</td>\n",
        "</table>"
      ]
    },
    {
      "cell_type": "markdown",
      "metadata": {
        "id": "BlGY1iiph_C2"
      },
      "source": [
        "TensorFlow proporciona un conjunto de seudogeneradores de números aleatorios (RNG), en el módulo `tf.random`. En este documento se describe cómo es posible controlar los generadores de números aleatorios y cómo esos generadores interactúan con otros subsistemas de TensorFlow.\n",
        "\n",
        "Nota: No es posible garantizar que los números aleatorios serán consistentes entre todas las versiones de TensorFlow. Vea: [Compatibilidad de las versiones](https://www.tensorflow.org/guide/versions#what_is_not_covered)\n",
        "\n",
        "TensorFlow brinda dos opciones para controlar el proceso de generación de números aleatorios:\n",
        "\n",
        "1. Mediante el uso explícito de objetos `tf.random.Generator`. Cada uno de tales objetos mantiene un estado (en `tf.Variable`) que se cambiará después de cada generación de número.\n",
        "\n",
        "2. A través de funciones aleatorias fuera de su estado puramente funcional, como `tf.random.stateless_uniform`. Si se llama a estas funciones con los mismos argumentos (que incluyen la semilla) y en el mismo dispositivo, siempre producirán los mismos resultados.\n",
        "\n",
        "Advertencia: Los RNG anteriores de TF 1.x como `tf.random.uniform` y `tf.random.normal` todavía no quedaron obsoletos, pero sí se desalienta enfáticamente su uso."
      ]
    },
    {
      "cell_type": "markdown",
      "metadata": {
        "id": "zIGh9faCOp6x"
      },
      "source": [
        "## Preparación"
      ]
    },
    {
      "cell_type": "code",
      "execution_count": null,
      "metadata": {
        "id": "ECDrttf0s8Nu"
      },
      "outputs": [],
      "source": [
        "import tensorflow as tf\n",
        "\n",
        "# Creates some virtual devices (cpu:0, cpu:1, etc.) for using distribution strategy\n",
        "physical_devices = tf.config.list_physical_devices(\"CPU\")\n",
        "tf.config.experimental.set_virtual_device_configuration(\n",
        "    physical_devices[0], [\n",
        "        tf.config.experimental.VirtualDeviceConfiguration(),\n",
        "        tf.config.experimental.VirtualDeviceConfiguration(),\n",
        "        tf.config.experimental.VirtualDeviceConfiguration()\n",
        "    ])"
      ]
    },
    {
      "cell_type": "markdown",
      "metadata": {
        "id": "eqMlrUsVu2Ai"
      },
      "source": [
        "## La clase `tf.random.Generator`\n",
        "\n",
        "La clase `tf.random.Generator` se usa en aquellos casos en los que se quiere que cada llamada de RNG produzca resultados diferentes. Mantiene un estado interno (gestionado por un objeto `tf.Variable`) que se actualizará cada vez que se generen los números aleatorios. Como el estado está gestionado por `tf.Variable`, goza de todas las facilidades provistas por `tf.Variable`, como la determinación sencilla de puntos de verificación y la seguridad.\n",
        "\n",
        "Es posible obtener un `tf.random.Generator` si crea manualmente un objeto de clase o una llamada `tf.random.get_global_generator()` para obtener el generador global predeterminado:"
      ]
    },
    {
      "cell_type": "code",
      "execution_count": null,
      "metadata": {
        "id": "7yU1E3JvxOQD"
      },
      "outputs": [],
      "source": [
        "g1 = tf.random.Generator.from_seed(1)\n",
        "print(g1.normal(shape=[2, 3]))\n",
        "g2 = tf.random.get_global_generator()\n",
        "print(g2.normal(shape=[2, 3]))"
      ]
    },
    {
      "cell_type": "markdown",
      "metadata": {
        "id": "QmRCeAvTxulW"
      },
      "source": [
        "Hay muchas maneras de crear un objeto generador. La más sencilla es con `Generator.from_seed`, tal como se muestra arriba, que crea un generador a partir de una semilla. Una semilla es un integrador no generativo. `from_seed` también toma un argumento opcional `alg` que es el algoritmo de RNG que usará este generador:"
      ]
    },
    {
      "cell_type": "code",
      "execution_count": null,
      "metadata": {
        "id": "kISbOE4Xfjhv"
      },
      "outputs": [],
      "source": [
        "g1 = tf.random.Generator.from_seed(1, alg='philox')\n",
        "print(g1.normal(shape=[2, 3]))"
      ]
    },
    {
      "cell_type": "markdown",
      "metadata": {
        "id": "_mCRaN7dfd8j"
      },
      "source": [
        "Para más información al respecto, vea la sección sobre *algoritmos* que se encuentra más adelante.\n",
        "\n",
        "Otra forma de crear un generador es con `Generator.from_non_deterministic_state`. Un generador que se cree de este modo partirá de un estado no determinista, dependiendo de, p.ej., el momento y el sistema operativo."
      ]
    },
    {
      "cell_type": "code",
      "execution_count": null,
      "metadata": {
        "id": "gxPLCLsz00qY"
      },
      "outputs": [],
      "source": [
        "g = tf.random.Generator.from_non_deterministic_state()\n",
        "print(g.normal(shape=[2, 3]))"
      ]
    },
    {
      "cell_type": "markdown",
      "metadata": {
        "id": "zSAp2BMj1JZ6"
      },
      "source": [
        "Aún hay otras formas de crear generadores, como por ejemplo, a partir de estados explícitos, pero no se incluyen en esta guía.\n",
        "\n",
        "Cuando use `tf.random.get_global_generator` para obtener el generador global, deberá prestar atención a la ubicación del dispositivo. El generador global se crea (a partir de un estado no determinista) la primera vez que se llama a `tf.random.get_global_generator` y se coloca en el dispositivo predeterminado de esa llamada. Entonces, por ejemplo, si el primer sitio que se llama con `tf.random.get_global_generator` se encuentra dentro del alcance de `tf.device(\"gpu\")`, el generador global se colocará en la GPU, y al usar dicho generador, más adelante desde la CPU, se producirá una copia de GPU a CPU.\n",
        "\n",
        "También hay una función `tf.random.set_global_generator` para reemplazar el generador global por otro objeto generador. Sin embargo, esta función debería usarse con cautela, ya que el generador global anterior puede haber sido capturado por una `tf.function` (como una referencia débil) y reemplazarlo haría que fuera recolectado como basura, lo que rompería la `tf.function`. Hay una mejor manera de restablecer el generador global y es mediante una de las funciones de \"reset\" (restablecer) como `Generator.reset_from_seed`, que no creará objetos generadores nuevos."
      ]
    },
    {
      "cell_type": "code",
      "execution_count": null,
      "metadata": {
        "id": "324S5bpd9HRg"
      },
      "outputs": [],
      "source": [
        "g = tf.random.Generator.from_seed(1)\n",
        "print(g.normal([]))\n",
        "print(g.normal([]))\n",
        "g.reset_from_seed(1)\n",
        "print(g.normal([]))"
      ]
    },
    {
      "cell_type": "markdown",
      "metadata": {
        "id": "z9H0wuvp9VwH"
      },
      "source": [
        "### Creación de secuencias (<em>streams</em>) de números aleatorios independientes\n",
        "\n",
        "Para muchas aplicaciones, uno necesita múltiples <em>streams</em> de números aleatorios independientes. Independientes en el sentido de que no se superpondrán y de que no tendrán ninguna correlación detectable estadísticamente. Todo esto se logra con `Generator.split` para crear múltiples generadores que sean, con seguridad, independientes entre sí (es decir, que generen <em>streams</em> independientes)."
      ]
    },
    {
      "cell_type": "code",
      "execution_count": null,
      "metadata": {
        "id": "Vg5_KN18OZjo"
      },
      "outputs": [],
      "source": [
        "g = tf.random.Generator.from_seed(1)\n",
        "print(g.normal([]))\n",
        "new_gs = g.split(3)\n",
        "for new_g in new_gs:\n",
        "  print(new_g.normal([]))\n",
        "print(g.normal([]))"
      ]
    },
    {
      "cell_type": "markdown",
      "metadata": {
        "id": "dqOaGVzKOsRJ"
      },
      "source": [
        "`split` cambiará el estado del generador en el que se lo llame (`g`, en el ejemplo anterior). De un modo similar a lo que sucede con un método de RNG como `normal`. Además de ser independiente entre sí, los generadores nuevos (`new_gs`) también tienen la garantía de ser independientes del anterior (`g`).\n",
        "\n",
        "La generación (<em>spawning</em>) de generadores nuevos también es útil para cuando desee asegurarse de que el generador que utiliza se encuentra en el mismo dispositivo que otros cálculos, con el objetivo de evitar el sobrecoste de copias en dispositivos cruzados. Por ejemplo: "
      ]
    },
    {
      "cell_type": "code",
      "execution_count": null,
      "metadata": {
        "id": "5jSnJBlUQzF3"
      },
      "outputs": [],
      "source": [
        "with tf.device(\"cpu\"):  # change \"cpu\" to the device you want\n",
        "  g = tf.random.get_global_generator().split(1)[0]  \n",
        "  print(g.normal([]))  # use of g won't cause cross-device copy, unlike the global generator"
      ]
    },
    {
      "cell_type": "markdown",
      "metadata": {
        "id": "sCxbccYMRdd4"
      },
      "source": [
        "Nota: En teoría, en este caso, se pueden usar constructores como, por ejemplo, `from_seed` en vez de `split` para obtener un generador nuevo, pero al hacerlo se pierde la seguridad de que el generador nuevo será independiente del generador global. También se corre el riesgo de crear accidentalmente dos generadores con la misma semilla o con semillas que conduzcan a la superposición de <em>streams</em> de números aleatorios.\n",
        "\n",
        "La división se puede hacer recursivamente, invocando `split` en los generadores de división. No hay límites (excepto por el sobreflujo de enteros) para la profundidad de las recursiones."
      ]
    },
    {
      "cell_type": "markdown",
      "metadata": {
        "id": "8JUgnQM_O0lg"
      },
      "source": [
        "### Interacción con `tf.function`\n",
        "\n",
        "`tf.random.Generator` obedece a las mismas reglas que `tf.Variable` cuando se usa con `tf.function`. Esto incluye tres aspectos."
      ]
    },
    {
      "cell_type": "markdown",
      "metadata": {
        "id": "jnSjhY6WM-J8"
      },
      "source": [
        "#### La creación de generadores fuera de `tf.function`\n",
        "\n",
        "`tf.function` puede usar un generador creado fuera de ella."
      ]
    },
    {
      "cell_type": "code",
      "execution_count": null,
      "metadata": {
        "id": "a5EEy0E2UHMw"
      },
      "outputs": [],
      "source": [
        "g = tf.random.Generator.from_seed(1)\n",
        "@tf.function\n",
        "def foo():\n",
        "  return g.normal([])\n",
        "print(foo())"
      ]
    },
    {
      "cell_type": "markdown",
      "metadata": {
        "id": "L_8kC7kbO5uu"
      },
      "source": [
        "El usuario debe asegurarse de que el objeto generador aún esté vivo (no recolectado como basura) cuando se llame a la función."
      ]
    },
    {
      "cell_type": "markdown",
      "metadata": {
        "id": "PwIrBv_zUYwI"
      },
      "source": [
        "#### La creación de generadores dentro de `tf.function`\n",
        "\n",
        "La creación de generadores dentro de una `tf.function` solamente puede producirse durante la primera ejecución de la función. "
      ]
    },
    {
      "cell_type": "code",
      "execution_count": null,
      "metadata": {
        "id": "3JzpUvqJU4MW"
      },
      "outputs": [],
      "source": [
        "g = None\n",
        "@tf.function\n",
        "def foo():\n",
        "  global g\n",
        "  if g is None:\n",
        "    g = tf.random.Generator.from_seed(1)\n",
        "  return g.normal([])\n",
        "print(foo())\n",
        "print(foo())"
      ]
    },
    {
      "cell_type": "markdown",
      "metadata": {
        "id": "UaTVnOhHVM9a"
      },
      "source": [
        "#### Los generadores de pase como argumentos a `tf.function`\n",
        "\n",
        "Cuando se usan como un argumento para una `tf.function`, los diferentes objetos generadores provocan un nuevo rastreo (<em>retracing</em>) de la `tf.function`."
      ]
    },
    {
      "cell_type": "code",
      "execution_count": null,
      "metadata": {
        "id": "DeR9kvt0V-ad"
      },
      "outputs": [],
      "source": [
        "num_traces = 0\n",
        "@tf.function\n",
        "def foo(g):\n",
        "  global num_traces\n",
        "  num_traces += 1\n",
        "  return g.normal([])\n",
        "foo(tf.random.Generator.from_seed(1))\n",
        "foo(tf.random.Generator.from_seed(2))\n",
        "print(num_traces)"
      ]
    },
    {
      "cell_type": "markdown",
      "metadata": {
        "id": "E0RxllJzkGfo"
      },
      "source": [
        "Tenga en cuenta que este comportamiento es consistente con `tf.Variable`:"
      ]
    },
    {
      "cell_type": "code",
      "execution_count": null,
      "metadata": {
        "id": "oWD2f_qxkSe7"
      },
      "outputs": [],
      "source": [
        "num_traces = 0\n",
        "@tf.function\n",
        "def foo(v):\n",
        "  global num_traces\n",
        "  num_traces += 1\n",
        "  return v.read_value()\n",
        "foo(tf.Variable(1))\n",
        "foo(tf.Variable(2))\n",
        "print(num_traces)"
      ]
    },
    {
      "cell_type": "markdown",
      "metadata": {
        "id": "fxcS6IY8WZuh"
      },
      "source": [
        "### Interacción con estrategias de distribución\n",
        "\n",
        "Hay dos maneras en las que interacciona `Generator` con las estrategias de distribución."
      ]
    },
    {
      "cell_type": "markdown",
      "metadata": {
        "id": "GyZv9QJkZfkQ"
      },
      "source": [
        "#### La creación de generadores fuera de las estrategias de distribución\n",
        "\n",
        "Si un generador se crea fuera de los alcances estratégicos, todos los accesos de las réplicas al generador se serializarán y, entonces, las réplicas obtendrán diferentes números aleatorios."
      ]
    },
    {
      "cell_type": "code",
      "execution_count": null,
      "metadata": {
        "id": "HX_beT9SZWMp"
      },
      "outputs": [],
      "source": [
        "g = tf.random.Generator.from_seed(1)\n",
        "strat = tf.distribute.MirroredStrategy(devices=[\"cpu:0\", \"cpu:1\"])\n",
        "with strat.scope():\n",
        "  def f():\n",
        "    print(g.normal([]))\n",
        "  results = strat.run(f)"
      ]
    },
    {
      "cell_type": "markdown",
      "metadata": {
        "id": "ydYQbUqLPAgH"
      },
      "source": [
        "Tenga en cuenta que pueden haber surgido problemas de desempeño con este uso, ya que el dispositivo del generador es diferente al de las réplicas."
      ]
    },
    {
      "cell_type": "markdown",
      "metadata": {
        "id": "Yal4LbBKbAeN"
      },
      "source": [
        "#### La creación de generadores dentro de las estrategias de distribución\n",
        "\n",
        "Si un generador se crea dentro del alcance de una estrategia, cada réplica obtendrá una <em>stream</em> de números aleatorios independiente y diferente."
      ]
    },
    {
      "cell_type": "code",
      "execution_count": null,
      "metadata": {
        "id": "5SeUu7IFmTyQ"
      },
      "outputs": [],
      "source": [
        "strat = tf.distribute.MirroredStrategy(devices=[\"cpu:0\", \"cpu:1\"])\n",
        "with strat.scope():\n",
        "  g = tf.random.Generator.from_seed(1)\n",
        "  print(strat.run(lambda: g.normal([])))\n",
        "  print(strat.run(lambda: g.normal([])))"
      ]
    },
    {
      "cell_type": "markdown",
      "metadata": {
        "id": "PFBlrOudfu9u"
      },
      "source": [
        "Nota: Actualmente, `tf.random.Generator` no ofrece una opción para permitir que diferentes réplicas obtengan <em>streams</em> idénticas (en vez de diferentes); lo cual resulta, técnicamente, no tan complicado. Si tiene un caso de uso para esta función, por favor, hágaselo saber a los desarrolladores de TensorFlow.\n",
        "\n",
        "Si el generador tiene semilla (p. ej., creado por `Generator.from_seed`), los números aleatorios estarán determinados por la semilla, a pesar de que con réplicas diferentes se obtienen distintos números no correlacionados. Uno podría pensar en un número aleatorio generado de una réplica como una función <em>hash</em> del ID de la réplica y un número aleatorio \"primario\" que es común a todas las réplicas. Por lo tanto, el sistema completo sigue siendo determinista.\n",
        "\n",
        "`tf.random.Generator` también se pueden crear dentro de `Strategy.run`:"
      ]
    },
    {
      "cell_type": "code",
      "execution_count": null,
      "metadata": {
        "id": "nlQXi5Msb1Wu"
      },
      "outputs": [],
      "source": [
        "strat = tf.distribute.MirroredStrategy(devices=[\"cpu:0\", \"cpu:1\"])\n",
        "with strat.scope():\n",
        "  def f():\n",
        "    g = tf.random.Generator.from_seed(1)\n",
        "    a = g.normal([])\n",
        "    b = g.normal([])\n",
        "    return tf.stack([a, b])\n",
        "  print(strat.run(f))\n",
        "  print(strat.run(f))"
      ]
    },
    {
      "cell_type": "markdown",
      "metadata": {
        "id": "4Sv-aiaOmrOr"
      },
      "source": [
        "Ya no recomendamos pasar `tf.random.Generator` como argumentos a `Strategy.run`, porque, por lo general, `Strategy.run` espera que los argumentos sean tensores, no generadores."
      ]
    },
    {
      "cell_type": "markdown",
      "metadata": {
        "id": "8RbM4vabtiWM"
      },
      "source": [
        "### Guardado de generadores\n",
        "\n",
        "Por lo general, para guardar o serializar, un `tf.random.Generator` se puede manejar del mismo modo que una `tf.Variable` o un `tf.Module` (o sus subclases). En TF hay dos mecanismos para la serialización: mediante [Puntos de verificación](https://www.tensorflow.org/guide/checkpoint) (<em>checkpoint</em>) o con [SavedModel](https://www.tensorflow.org/guide/saved_model)."
      ]
    },
    {
      "cell_type": "markdown",
      "metadata": {
        "id": "PDtySQDotWQc"
      },
      "source": [
        "#### Punto de verificación (<em>checkpoint</em>)\n",
        "\n",
        "Los generadores se pueden guardar y restaurar sin problemas con `tf.train.Checkpoint`. La <em>stream</em> de números aleatorios a partir del número restaurado será igual al del punto de guardado. "
      ]
    },
    {
      "cell_type": "code",
      "execution_count": null,
      "metadata": {
        "id": "uB_bDSbzpbne"
      },
      "outputs": [],
      "source": [
        "filename = \"./checkpoint\"\n",
        "g = tf.random.Generator.from_seed(1)\n",
        "cp = tf.train.Checkpoint(generator=g)\n",
        "print(g.normal([]))"
      ]
    },
    {
      "cell_type": "code",
      "execution_count": null,
      "metadata": {
        "id": "bKKtRWeIkIjX"
      },
      "outputs": [],
      "source": [
        "cp.write(filename)\n",
        "print(\"RNG stream from saving point:\")\n",
        "print(g.normal([]))\n",
        "print(g.normal([]))"
      ]
    },
    {
      "cell_type": "code",
      "execution_count": null,
      "metadata": {
        "id": "-cIHcHwRkQp3"
      },
      "outputs": [],
      "source": [
        "cp.restore(filename)\n",
        "print(\"RNG stream from restoring point:\")\n",
        "print(g.normal([]))\n",
        "print(g.normal([]))"
      ]
    },
    {
      "cell_type": "markdown",
      "metadata": {
        "id": "A-OeUUQEJ37X"
      },
      "source": [
        "También es posible guardar y restaurar dentro de una estrategia de distribución:"
      ]
    },
    {
      "cell_type": "code",
      "execution_count": null,
      "metadata": {
        "id": "3aI6TQ2lq28w"
      },
      "outputs": [],
      "source": [
        "filename = \"./checkpoint\"\n",
        "strat = tf.distribute.MirroredStrategy(devices=[\"cpu:0\", \"cpu:1\"])\n",
        "with strat.scope():\n",
        "  g = tf.random.Generator.from_seed(1)\n",
        "  cp = tf.train.Checkpoint(my_generator=g)\n",
        "  print(strat.run(lambda: g.normal([])))"
      ]
    },
    {
      "cell_type": "code",
      "execution_count": null,
      "metadata": {
        "id": "kTZcdaMwkvJI"
      },
      "outputs": [],
      "source": [
        "with strat.scope():\n",
        "  cp.write(filename)\n",
        "  print(\"RNG stream from saving point:\")\n",
        "  print(strat.run(lambda: g.normal([])))\n",
        "  print(strat.run(lambda: g.normal([])))"
      ]
    },
    {
      "cell_type": "code",
      "execution_count": null,
      "metadata": {
        "id": "nizFA5IrkzN1"
      },
      "outputs": [],
      "source": [
        "with strat.scope():\n",
        "  cp.restore(filename)\n",
        "  print(\"RNG stream from restoring point:\")\n",
        "  print(strat.run(lambda: g.normal([])))\n",
        "  print(strat.run(lambda: g.normal([])))"
      ]
    },
    {
      "cell_type": "markdown",
      "metadata": {
        "id": "Z2rsPfp9J6JA"
      },
      "source": [
        "Deberá controlar que las réplicas no se aparten en sus historias de llamadas de RNG (p. ej., una réplica hace una llamada de RNG mientras otra hace dos) antes de guardar. De lo contrario, sus estados RNG internos divergirán y `tf.train.Checkpoint` (que solamente guarda el primer estado de réplica) no restaurará las réplicas como corresponde.\n",
        "\n",
        "También se puede restaurar un punto de verificación (<em>checkpoint</em>) guardado en una estrategia de distribución diferente con un número de réplicas distinto. Dado que un objeto `tf.random.Generator` creado en una estrategia solamente se puede usar en la misma estrategia, para restaurarlo en una estrategia diferente, deberá crear un `tf.random.Generator` en la estrategia de destino y un `tf.train.Checkpoint` nuevo, tal como se muestra en el ejemplo:"
      ]
    },
    {
      "cell_type": "code",
      "execution_count": null,
      "metadata": {
        "id": "zgoFRf59-IvW"
      },
      "outputs": [],
      "source": [
        "filename = \"./checkpoint\"\n",
        "strat1 = tf.distribute.MirroredStrategy(devices=[\"cpu:0\", \"cpu:1\"])\n",
        "with strat1.scope():\n",
        "  g1 = tf.random.Generator.from_seed(1)\n",
        "  cp1 = tf.train.Checkpoint(my_generator=g1)\n",
        "  print(strat1.run(lambda: g1.normal([])))"
      ]
    },
    {
      "cell_type": "code",
      "execution_count": null,
      "metadata": {
        "id": "Lu79ETxMlDpO"
      },
      "outputs": [],
      "source": [
        "with strat1.scope():\n",
        "  cp1.write(filename)\n",
        "  print(\"RNG stream from saving point:\")\n",
        "  print(strat1.run(lambda: g1.normal([])))\n",
        "  print(strat1.run(lambda: g1.normal([])))"
      ]
    },
    {
      "cell_type": "code",
      "execution_count": null,
      "metadata": {
        "id": "VYoRFUjklKOk"
      },
      "outputs": [],
      "source": [
        "strat2 = tf.distribute.MirroredStrategy(devices=[\"cpu:0\", \"cpu:1\", \"cpu:2\"])\n",
        "with strat2.scope():\n",
        "  g2 = tf.random.Generator.from_seed(1)\n",
        "  cp2 = tf.train.Checkpoint(my_generator=g2)\n",
        "  cp2.restore(filename)\n",
        "  print(\"RNG stream from restoring point:\")\n",
        "  print(strat2.run(lambda: g2.normal([])))\n",
        "  print(strat2.run(lambda: g2.normal([])))"
      ]
    },
    {
      "cell_type": "markdown",
      "metadata": {
        "id": "kMltUKbANqgl"
      },
      "source": [
        "A pesar de que `g1` y `cp1` son objetos diferentes de `g2` y `cp2`, están vinculados a través de un archivo de punto de verificación `filename` y un nombre de objeto `my_generator` en común. La superposición de las réplicas entre estrategias (p. ej., las `cpu:0` y `cpu:1` anteriores) tendrán sus streams de generación de números aleatorios debidamente restaurados, tal como en los ejemplos anteriores. Esta garantía no cubre el caso en que un generador se guarda en un alcance de estrategia y se restablece por fuera del alcance de estrategia o viceversa; debido a que un dispositivo fuera de estrategias se trata de manera diferente al de cualquier réplica dentro de una estrategia."
      ]
    },
    {
      "cell_type": "markdown",
      "metadata": {
        "id": "w9dqrp1LnTaJ"
      },
      "source": [
        "#### SavedModel\n",
        "\n",
        "`tf.random.Generator` se puede guardar en un SavedModel. El generador se puede crear dentro del ámbito de una estrategia. El guardado también se puede producir dentro del ámbito de una estrategia. "
      ]
    },
    {
      "cell_type": "code",
      "execution_count": null,
      "metadata": {
        "id": "0AKO5SnUtyqx"
      },
      "outputs": [],
      "source": [
        "filename = \"./saved_model\"\n",
        "\n",
        "class MyModule(tf.Module):\n",
        "\n",
        "  def __init__(self):\n",
        "    super(MyModule, self).__init__()\n",
        "    self.g = tf.random.Generator.from_seed(0)\n",
        "\n",
        "  @tf.function\n",
        "  def __call__(self):\n",
        "    return self.g.normal([])\n",
        "\n",
        "  @tf.function\n",
        "  def state(self):\n",
        "    return self.g.state\n",
        "\n",
        "strat = tf.distribute.MirroredStrategy(devices=[\"cpu:0\", \"cpu:1\"])\n",
        "with strat.scope():\n",
        "  m = MyModule()\n",
        "  print(strat.run(m))\n",
        "  print(\"state:\", m.state())"
      ]
    },
    {
      "cell_type": "code",
      "execution_count": null,
      "metadata": {
        "id": "jg2148hulfLB"
      },
      "outputs": [],
      "source": [
        "with strat.scope():\n",
        "  tf.saved_model.save(m, filename)\n",
        "  print(\"RNG stream from saving point:\")\n",
        "  print(strat.run(m))\n",
        "  print(\"state:\", m.state())\n",
        "  print(strat.run(m))\n",
        "  print(\"state:\", m.state())"
      ]
    },
    {
      "cell_type": "code",
      "execution_count": null,
      "metadata": {
        "id": "93AgVyzOllG7"
      },
      "outputs": [],
      "source": [
        "imported = tf.saved_model.load(filename)\n",
        "print(\"RNG stream from loading point:\")\n",
        "print(\"state:\", imported.state())\n",
        "print(imported())\n",
        "print(\"state:\", imported.state())\n",
        "print(imported())\n",
        "print(\"state:\", imported.state())"
      ]
    },
    {
      "cell_type": "markdown",
      "metadata": {
        "id": "sbb23j3pZNNq"
      },
      "source": [
        "No se recomienda cargar un SavedModel que contenga `tf.random.Generator` dentro de una estrategia de distribución, porque todas las réplicas generarán la misma <em>stream</em> de números aleatorios (esto sucede porque el ID de réplica se congela en el grafo del SavedModel).\n",
        "\n",
        "También hay una salvedad, la carga de un `tf.random.Generator` distribuido (un generador creado dentro de una estrategia de distribución) dentro de un entorno sin estrategias, tal como el del ejemplo anterior. El estado RNG deberá ser apropiadamente restablecido, pero los números aleatorios generados serán distintos del generador original en su propia estrategia (nuevamente, porque un dispositivo fuera de estrategias se trata diferente de cualquier réplica dentro de una estrategia)."
      ]
    },
    {
      "cell_type": "markdown",
      "metadata": {
        "id": "73an1POpsi6V"
      },
      "source": [
        "## RNG sin estado\n",
        "\n",
        "El uso de los RNG sin estado es simple. Como son solo funciones simples, no hay estado ni efecto colateral involucrado."
      ]
    },
    {
      "cell_type": "code",
      "execution_count": null,
      "metadata": {
        "id": "0-aOOA3gasn_"
      },
      "outputs": [],
      "source": [
        "print(tf.random.stateless_normal(shape=[2, 3], seed=[1, 2]))\n",
        "print(tf.random.stateless_normal(shape=[2, 3], seed=[1, 2]))"
      ]
    },
    {
      "cell_type": "markdown",
      "metadata": {
        "id": "2O_D-RAFNH2Q"
      },
      "source": [
        "Cada RNG sin estado requiere de un argumento `seed`, que necesita ser run Tensor entero de forma `[2]`. Los resultados de la operación están totalmente determinados por esta semilla.\n",
        "\n",
        "El algoritmo de RNG usado por las RNG sin estado es dependiente del dispositivo; es decir, la misma operación ejecutada en un dispositivo diferente puede producir distintos resultados."
      ]
    },
    {
      "cell_type": "markdown",
      "metadata": {
        "id": "4BvGkPnaOUPF"
      },
      "source": [
        "## Algoritmos"
      ]
    },
    {
      "cell_type": "markdown",
      "metadata": {
        "id": "58-8kvR4pRwO"
      },
      "source": [
        "### General\n",
        "\n",
        "Tanto la función de clase `tf.random.Generator` como `stateless` son compatibles con el algoritmos Philox (escrito como `\"philox\"` o `tf.random.Algorithm.PHILOX`) en todos los dispositivos.\n",
        "\n",
        "Los distintos dispositivos generarán los mismos números enteros si se usa el mismo algoritmo y se empieza a partir del mismo estado. También generarán \"casi los mismos\" números de puntos flotantes, a pesar de que puede haber algunas discrepancias numéricas menores causadas por las diferentes maneras en que los dispositivos llevan a cabo el cálculo de punto flotante (p. ej., el orden de reducción)."
      ]
    },
    {
      "cell_type": "markdown",
      "metadata": {
        "id": "WETA04F1OYPL"
      },
      "source": [
        "### Dispositivos con XLA\n",
        "\n",
        "En los dispositivos con XLA (como las TPU y también las CPU o GPU cuando XLA está activado) el algoritmo ThreeFry (escrito como `\"threefry\"` o como `tf.random.Algorithm.THREEFRY`) también se admite. Este algoritmo es rápido en TPU pero lento en CPU o GPU si se lo compara con Philox. "
      ]
    },
    {
      "cell_type": "markdown",
      "metadata": {
        "id": "c04JkebCPTPu"
      },
      "source": [
        "Para más detalles sobre estos algoritmos, consulte la publicación ['Parallel Random Numbers: As Easy as 1, 2, 3'](https://www.thesalmons.org/john/random123/papers/random123sc11.pdf) (Números aleatorios paralelos: tan sencillo como contar hasta 3)."
      ]
    }
  ],
  "metadata": {
    "colab": {
      "collapsed_sections": [],
      "name": "random_numbers.ipynb",
      "toc_visible": true
    },
    "kernelspec": {
      "display_name": "Python 3",
      "name": "python3"
    }
  },
  "nbformat": 4,
  "nbformat_minor": 0
}
