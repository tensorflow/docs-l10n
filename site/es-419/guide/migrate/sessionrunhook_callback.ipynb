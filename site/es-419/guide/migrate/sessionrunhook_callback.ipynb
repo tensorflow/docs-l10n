{
  "cells": [
    {
      "cell_type": "markdown",
      "metadata": {
        "id": "wJcYs_ERTnnI"
      },
      "source": [
        "##### Copyright 2021 The TensorFlow Authors."
      ]
    },
    {
      "cell_type": "code",
      "execution_count": null,
      "metadata": {
        "cellView": "form",
        "id": "HMUDt0CiUJk9"
      },
      "outputs": [],
      "source": [
        "#@title Licensed under the Apache License, Version 2.0 (the \"License\");\n",
        "# you may not use this file except in compliance with the License.\n",
        "# You may obtain a copy of the License at\n",
        "#\n",
        "# https://www.apache.org/licenses/LICENSE-2.0\n",
        "#\n",
        "# Unless required by applicable law or agreed to in writing, software\n",
        "# distributed under the License is distributed on an \"AS IS\" BASIS,\n",
        "# WITHOUT WARRANTIES OR CONDITIONS OF ANY KIND, either express or implied.\n",
        "# See the License for the specific language governing permissions and\n",
        "# limitations under the License."
      ]
    },
    {
      "cell_type": "markdown",
      "metadata": {
        "id": "77z2OchJTk0l"
      },
      "source": [
        "# Migrar SessionRunHook a retrollamadas Keras\n",
        "\n",
        "<table class=\"tfo-notebook-buttons\" align=\"left\">\n",
        "  <td><a target=\"_blank\" href=\"https://www.tensorflow.org/guide/migrate/sessionrunhook_callback\"><img src=\"https://www.tensorflow.org/images/tf_logo_32px.png\">Ver en TensorFlow.org</a></td>\n",
        "  <td><a target=\"_blank\" href=\"https://colab.research.google.com/github/tensorflow/docs-l10n/blob/master/site/es-419/guide/migrate/sessionrunhook_callback.ipynb\"><img src=\"https://www.tensorflow.org/images/colab_logo_32px.png\">Ejecutar en Google Colab</a></td>\n",
        "  <td>     <a target=\"_blank\" href=\"https://github.com/tensorflow/docs-l10n/blob/master/site/es-419/guide/migrate/sessionrunhook_callback.ipynb\"><img src=\"https://www.tensorflow.org/images/GitHub-Mark-32px.png\">Ver código fuente en GitHub</a>\n",
        "</td>\n",
        "  <td>     <a href=\"https://storage.googleapis.com/tensorflow_docs/docs-l10n/site/es-419/guide/migrate/sessionrunhook_callback.ipynb\"><img src=\"https://www.tensorflow.org/images/download_logo_32px.png\">Descargar bloc de notas</a>\n",
        "</td>\n",
        "</table>\n"
      ]
    },
    {
      "cell_type": "markdown",
      "metadata": {
        "id": "KZHPY55aFyXT"
      },
      "source": [
        "En TensorFlow 1, para personalizar el comportamiento del entrenamiento, usas `tf.estimator.SessionRunHook` con `tf.estimator.Estimator`. Esta guía muestra cómo migrar de `SessionRunHook` a las retrollamadas personalizadas de TensorFlow 2 con la API `tf.keras.callbacks.Callback`, que funciona con `Model.fit` de Keras para el entrenamiento (así como `Model.evaluate` y `Model.predict`). Aprenderás a hacerlo implementando un `SessionRunHook` y una tarea `Callback` que mida los ejemplos por segundo durante el entrenamiento.\n",
        "\n",
        "Ejemplos de retrollamadas son el guardado de puntos de verificación (`tf.keras.callbacks.ModelCheckpoint`) y la escritura de sumarios [TensorBoard](%60tf.keras.callbacks.TensorBoard%60). Las [retrollamadas](https://www.tensorflow.org/guide/keras/custom_callback) de Keras son objetos a los que se llama en distintos momentos del entrenamiento/evaluación/predicción en las APIs `Model.fit`/`Model.evaluate`/`Model.predict` incorporadas de Keras. Puedes obtener más información sobre las retrollamadas en la documentación de la API `tf.keras.callbacks.Callback` así como en las guías [Cómo escribir tus propias retrollamadas](https://www.tensorflow.org/guide/keras/custom_callback.ipynb/) y [Entrenamiento y evaluación con los métodos incorporados](https://www.tensorflow.org/guide/keras/train_and_evaluate) (sección *Usar retrollamadas*)."
      ]
    },
    {
      "cell_type": "markdown",
      "metadata": {
        "id": "29da56bf859d"
      },
      "source": [
        "## Preparación\n",
        "\n",
        "Empieza con imports y un conjunto de datos sencillo a modo de demostración:"
      ]
    },
    {
      "cell_type": "code",
      "execution_count": null,
      "metadata": {
        "id": "296d8b0DoKpV"
      },
      "outputs": [],
      "source": [
        "import tensorflow as tf\n",
        "import tensorflow.compat.v1 as tf1\n",
        "\n",
        "import time\n",
        "from datetime import datetime\n",
        "from absl import flags"
      ]
    },
    {
      "cell_type": "code",
      "execution_count": null,
      "metadata": {
        "id": "xVGYtUXyXNuE"
      },
      "outputs": [],
      "source": [
        "features = [[1., 1.5], [2., 2.5], [3., 3.5]]\n",
        "labels = [[0.3], [0.5], [0.7]]\n",
        "eval_features = [[4., 4.5], [5., 5.5], [6., 6.5]]\n",
        "eval_labels = [[0.8], [0.9], [1.]]"
      ]
    },
    {
      "cell_type": "markdown",
      "metadata": {
        "id": "ON4zQifT0Vec"
      },
      "source": [
        "## TensorFlow 1: Crear un SessionRunHook personalizado con las API tf.estimator\n",
        "\n",
        "Los siguientes ejemplos de TensorFlow 1 muestran cómo configurar un `SessionRunHook` personalizado que mida los ejemplos por segundo durante el entrenamiento. Tras crear el hook (`LoggerHook`), pásalo al parámetro `hooks` de `tf.estimator.Estimator.train`."
      ]
    },
    {
      "cell_type": "code",
      "execution_count": null,
      "metadata": {
        "id": "S-myEclbXUL7"
      },
      "outputs": [],
      "source": [
        "def _input_fn():\n",
        "  return tf1.data.Dataset.from_tensor_slices(\n",
        "      (features, labels)).batch(1).repeat(100)\n",
        "\n",
        "def _model_fn(features, labels, mode):\n",
        "  logits = tf1.layers.Dense(1)(features)\n",
        "  loss = tf1.losses.mean_squared_error(labels=labels, predictions=logits)\n",
        "  optimizer = tf1.train.AdagradOptimizer(0.05)\n",
        "  train_op = optimizer.minimize(loss, global_step=tf1.train.get_global_step())\n",
        "  return tf1.estimator.EstimatorSpec(mode, loss=loss, train_op=train_op)"
      ]
    },
    {
      "cell_type": "code",
      "execution_count": null,
      "metadata": {
        "id": "Xd9sPTkO0ZTD"
      },
      "outputs": [],
      "source": [
        "class LoggerHook(tf1.train.SessionRunHook):\n",
        "  \"\"\"Logs loss and runtime.\"\"\"\n",
        "\n",
        "  def begin(self):\n",
        "    self._step = -1\n",
        "    self._start_time = time.time()\n",
        "    self.log_frequency = 10\n",
        "\n",
        "  def before_run(self, run_context):\n",
        "    self._step += 1\n",
        "\n",
        "  def after_run(self, run_context, run_values):\n",
        "    if self._step % self.log_frequency == 0:\n",
        "      current_time = time.time()\n",
        "      duration = current_time - self._start_time\n",
        "      self._start_time = current_time\n",
        "      examples_per_sec = self.log_frequency / duration\n",
        "      print('Time:', datetime.now(), ', Step #:', self._step,\n",
        "            ', Examples per second:', examples_per_sec)\n",
        "\n",
        "estimator = tf1.estimator.Estimator(model_fn=_model_fn)\n",
        "\n",
        "# Begin training.\n",
        "estimator.train(_input_fn, hooks=[LoggerHook()])"
      ]
    },
    {
      "cell_type": "markdown",
      "metadata": {
        "id": "3uZCDMrM2CEg"
      },
      "source": [
        "## TensorFlow 2: Crear una retrollamada Keras personalizada para Model.fit\n",
        "\n",
        "En TensorFlow 2, cuando usas el Keras incorporado `Model.fit` (o `Model.evaluate`) para entrenamiento/evaluación, puedes configurar una `tf.keras.callbacks.Callback` personalizada, que luego pasas al parámetro `callbacks` de `Model.fit` (o `Model.evaluate`). (Obtén más información en la guía [Cómo escribir tus propias retrollamadas](../..guide/keras/custom_callback.ipynb)).\n",
        "\n",
        "En el ejemplo siguiente, escribirás una `tf.keras.callbacks.Callback` personalizada que registre varias métricas: medirá los ejemplos por segundo, que deberían ser comparables a las métricas del ejemplo anterior `SessionRunHook`."
      ]
    },
    {
      "cell_type": "code",
      "execution_count": null,
      "metadata": {
        "id": "UbMPoiB92KRG"
      },
      "outputs": [],
      "source": [
        "class CustomCallback(tf.keras.callbacks.Callback):\n",
        "\n",
        "    def on_train_begin(self, logs = None):\n",
        "      self._step = -1\n",
        "      self._start_time = time.time()\n",
        "      self.log_frequency = 10\n",
        "\n",
        "    def on_train_batch_begin(self, batch, logs = None):\n",
        "      self._step += 1\n",
        "\n",
        "    def on_train_batch_end(self, batch, logs = None):\n",
        "      if self._step % self.log_frequency == 0:\n",
        "        current_time = time.time()\n",
        "        duration = current_time - self._start_time\n",
        "        self._start_time = current_time\n",
        "        examples_per_sec = self.log_frequency / duration\n",
        "        print('Time:', datetime.now(), ', Step #:', self._step,\n",
        "              ', Examples per second:', examples_per_sec)\n",
        "\n",
        "callback = CustomCallback()\n",
        "\n",
        "dataset = tf.data.Dataset.from_tensor_slices(\n",
        "    (features, labels)).batch(1).repeat(100)\n",
        "\n",
        "model = tf.keras.models.Sequential([tf.keras.layers.Dense(1)])\n",
        "optimizer = tf.keras.optimizers.Adagrad(learning_rate=0.05)\n",
        "\n",
        "model.compile(optimizer, \"mse\")\n",
        "\n",
        "# Begin training.\n",
        "result = model.fit(dataset, callbacks=[callback], verbose = 0)\n",
        "# Provide the results of training metrics.\n",
        "result.history"
      ]
    },
    {
      "cell_type": "markdown",
      "metadata": {
        "id": "EFqFi21Ftskq"
      },
      "source": [
        "## Siguientes pasos\n",
        "\n",
        "Aprende más sobre las retrollamadas en:\n",
        "\n",
        "- Documentación de la API: `tf.keras.callbacks.Callback`\n",
        "- Guía: [Cómo escribir tus propias retrollamadas](../..guide/keras/custom_callback.ipynb/)\n",
        "- Guía: [Entrenamiento y evaluación con los métodos incorporados](https://www.tensorflow.org/guide/keras/train_and_evaluate) (la sección *Usar retrollamadas*)\n",
        "\n",
        "También te pueden resultar útiles los siguientes recursos relacionados con la migración:\n",
        "\n",
        "- La [Guía de migración de la parada temprana](early_stopping.ipynb): `tf.keras.callbacks.EarlyStopping` es una retrollamada de parada temprana incorporada\n",
        "- La [Guía de migración a TensorBoard](tensorboard.ipynb): TensorBoard permite el seguimiento y la visualización de métricas\n",
        "- La [guía de migración de LoggingTensorHook y StopAtStepHook a las retrollamadas de Keras](logging_stop_hook.ipynb)"
      ]
    }
  ],
  "metadata": {
    "colab": {
      "collapsed_sections": [],
      "name": "sessionrunhook_callback.ipynb",
      "toc_visible": true
    },
    "kernelspec": {
      "display_name": "Python 3",
      "name": "python3"
    }
  },
  "nbformat": 4,
  "nbformat_minor": 0
}
