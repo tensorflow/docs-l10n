{
  "cells": [
    {
      "cell_type": "markdown",
      "metadata": {
        "id": "wJcYs_ERTnnI"
      },
      "source": [
        "##### Copyright 2021 The TensorFlow Authors."
      ]
    },
    {
      "cell_type": "code",
      "execution_count": null,
      "metadata": {
        "cellView": "form",
        "id": "HMUDt0CiUJk9"
      },
      "outputs": [],
      "source": [
        "#@title Licensed under the Apache License, Version 2.0 (the \"License\");\n",
        "# you may not use this file except in compliance with the License.\n",
        "# You may obtain a copy of the License at\n",
        "#\n",
        "# https://www.apache.org/licenses/LICENSE-2.0\n",
        "#\n",
        "# Unless required by applicable law or agreed to in writing, software\n",
        "# distributed under the License is distributed on an \"AS IS\" BASIS,\n",
        "# WITHOUT WARRANTIES OR CONDITIONS OF ANY KIND, either express or implied.\n",
        "# See the License for the specific language governing permissions and\n",
        "# limitations under the License."
      ]
    },
    {
      "cell_type": "markdown",
      "metadata": {
        "id": "77z2OchJTk0l"
      },
      "source": [
        "# Migrar métricas y optimizadores\n",
        "\n",
        "<table class=\"tfo-notebook-buttons\" align=\"left\">\n",
        "  <td><a target=\"_blank\" href=\"https://www.tensorflow.org/guide/migrate/metrics_optimizers\"><img src=\"https://www.tensorflow.org/images/tf_logo_32px.png\">Ver en TensorFlow.org</a></td>\n",
        "  <td><a target=\"_blank\" href=\"https://colab.research.google.com/github/tensorflow/docs-l10n/blob/master/site/es-419/guide/migrate/metrics_optimizers.ipynb\"><img src=\"https://www.tensorflow.org/images/colab_logo_32px.png\">Ejecutar en Google Colab</a></td>\n",
        "  <td>     <a target=\"_blank\" href=\"https://github.com/tensorflow/docs-l10n/blob/master/site/es-419/guide/migrate/metrics_optimizers.ipynb\"><img src=\"https://www.tensorflow.org/images/GitHub-Mark-32px.png\">Ver código fuente en GitHub</a>\n",
        "</td>\n",
        "  <td><a href=\"https://storage.googleapis.com/tensorflow_docs/docs-l10n/site/es-419/guide/migrate/metrics_optimizers.ipynb\"><img src=\"https://www.tensorflow.org/images/download_logo_32px.png\">Descargar bloc de notas</a></td>\n",
        "</table>"
      ]
    },
    {
      "cell_type": "markdown",
      "metadata": {
        "id": "meUTrR4I6m1C"
      },
      "source": [
        "En TF1, `tf.metrics` es el namespace de la API para todas las funciones de métricas. Cada una de las métricas es una función que toma `label` y `prediction` como parámetros de entrada y devuelve como resultado el tensor de métricas correspondiente. En TF2, `tf.keras.metrics` contiene todas las funciones y objetos de métricas. El objeto `Metric` puede usarse con `tf.keras.Model` y `tf.keras.layers.layer` para calcular valores de métricas."
      ]
    },
    {
      "cell_type": "markdown",
      "metadata": {
        "id": "YdZSoIXEbhg-"
      },
      "source": [
        "## Preparación\n",
        "\n",
        "Empecemos con un par de imports TensorFlow necesarios,"
      ]
    },
    {
      "cell_type": "code",
      "execution_count": null,
      "metadata": {
        "id": "iE0vSfMXumKI"
      },
      "outputs": [],
      "source": [
        "import tensorflow as tf\n",
        "import tensorflow.compat.v1 as tf1"
      ]
    },
    {
      "cell_type": "markdown",
      "metadata": {
        "id": "Jsm9Rxx7s1OZ"
      },
      "source": [
        "y prepara algunos datos sencillos para la demostración:"
      ]
    },
    {
      "cell_type": "code",
      "execution_count": null,
      "metadata": {
        "id": "m7rnGxsXtDkV"
      },
      "outputs": [],
      "source": [
        "features = [[1., 1.5], [2., 2.5], [3., 3.5]]\n",
        "labels = [0, 0, 1]\n",
        "eval_features = [[4., 4.5], [5., 5.5], [6., 6.5]]\n",
        "eval_labels = [0, 1, 1]"
      ]
    },
    {
      "cell_type": "markdown",
      "metadata": {
        "id": "xswk0d4xrFaQ"
      },
      "source": [
        "## TF1: tf.compat.v1.metrics con Estimator\n",
        "\n",
        "En TF1, las métricas pueden añadirse a `EstimatorSpec` como `eval_metric_ops`, y la operación se genera mediante todas las funciones de métricas definidas en `tf.metrics`. Puedes seguir el ejemplo para ver cómo usar `tf.metrics.accuracy`."
      ]
    },
    {
      "cell_type": "code",
      "execution_count": null,
      "metadata": {
        "id": "lqe9obf7suIj"
      },
      "outputs": [],
      "source": [
        "def _input_fn():\n",
        "  return tf1.data.Dataset.from_tensor_slices((features, labels)).batch(1)\n",
        "\n",
        "def _eval_input_fn():\n",
        "  return tf1.data.Dataset.from_tensor_slices(\n",
        "      (eval_features, eval_labels)).batch(1)\n",
        "\n",
        "def _model_fn(features, labels, mode):\n",
        "  logits = tf1.layers.Dense(2)(features)\n",
        "  predictions = tf.math.argmax(input=logits, axis=1)\n",
        "  loss = tf1.nn.sparse_softmax_cross_entropy_with_logits(labels=labels, logits=logits)\n",
        "  optimizer = tf1.train.AdagradOptimizer(0.05)\n",
        "  train_op = optimizer.minimize(loss, global_step=tf1.train.get_global_step())\n",
        "  accuracy = tf1.metrics.accuracy(labels=labels, predictions=predictions)\n",
        "  return tf1.estimator.EstimatorSpec(mode, \n",
        "                                     predictions=predictions,\n",
        "                                     loss=loss, \n",
        "                                     train_op=train_op,\n",
        "                                     eval_metric_ops={'accuracy': accuracy})\n",
        "\n",
        "estimator = tf1.estimator.Estimator(model_fn=_model_fn)\n",
        "estimator.train(_input_fn)"
      ]
    },
    {
      "cell_type": "code",
      "execution_count": null,
      "metadata": {
        "id": "HsOpjW5plH9Q"
      },
      "outputs": [],
      "source": [
        "estimator.evaluate(_eval_input_fn)"
      ]
    },
    {
      "cell_type": "markdown",
      "metadata": {
        "id": "Wk4C6qA_OaQx"
      },
      "source": [
        "También se pueden añadir métricas al estimador directamente mediante `tf.estimator.add_metrics()`."
      ]
    },
    {
      "cell_type": "code",
      "execution_count": null,
      "metadata": {
        "id": "B2lpLOh9Owma"
      },
      "outputs": [],
      "source": [
        "def mean_squared_error(labels, predictions):\n",
        "  labels = tf.cast(labels, predictions.dtype)\n",
        "  return {\"mean_squared_error\": \n",
        "          tf1.metrics.mean_squared_error(labels=labels, predictions=predictions)}\n",
        "\n",
        "estimator = tf1.estimator.add_metrics(estimator, mean_squared_error)\n",
        "estimator.evaluate(_eval_input_fn)"
      ]
    },
    {
      "cell_type": "markdown",
      "metadata": {
        "id": "KEmzBjfnsxwT"
      },
      "source": [
        "## TF2: API de métricas Keras con tf.keras.Model\n",
        "\n",
        "En TF2, `tf.keras.metrics` contiene todas las clases y funciones de métricas. Están diseñadas con un estilo OOP y se integran estrechamente con otras APIs `tf.keras`. Todas las métricas se pueden encontrar en el namespace `tf.keras.metrics`, y suele haber un mapeo directo entre `tf.compat.v1.metrics` con `tf.keras.metrics`.\n",
        "\n",
        "En el siguiente ejemplo, las métricas se añaden en el método `model.compile()`. Los usuarios sólo tienen que crear la instancia de métricas, sin especificar la etiqueta ni el tensor de predicción. El modelo Keras dirigirá la salida del modelo y la etiqueta al objeto métrica."
      ]
    },
    {
      "cell_type": "code",
      "execution_count": null,
      "metadata": {
        "id": "atVciNgPs0fw"
      },
      "outputs": [],
      "source": [
        "dataset = tf.data.Dataset.from_tensor_slices((features, labels)).batch(1)\n",
        "eval_dataset = tf.data.Dataset.from_tensor_slices(\n",
        "      (eval_features, eval_labels)).batch(1)\n",
        "\n",
        "inputs = tf.keras.Input((2,))\n",
        "logits = tf.keras.layers.Dense(2)(inputs)\n",
        "predictions = tf.math.argmax(input=logits, axis=1)\n",
        "model = tf.keras.models.Model(inputs, predictions)\n",
        "optimizer = tf.keras.optimizers.Adagrad(learning_rate=0.05)\n",
        "\n",
        "model.compile(optimizer, loss='mse', metrics=[tf.keras.metrics.Accuracy()])"
      ]
    },
    {
      "cell_type": "code",
      "execution_count": null,
      "metadata": {
        "id": "Kip65sYBlKiu"
      },
      "outputs": [],
      "source": [
        "model.evaluate(eval_dataset, return_dict=True)"
      ]
    },
    {
      "cell_type": "markdown",
      "metadata": {
        "id": "_mcGoCm_X1V0"
      },
      "source": [
        "Con la ejecución eager activada, las instancias `tf.keras.metrics.Metric` pueden usarse directamente para evaluar datos numpy o tensores eager. Los objetos `tf.keras.metrics.Metric` son contenedores con estado. El valor de la métrica puede actualizarse mediante `metric.update_state(y_true, y_pred)`, y el resultado puede recuperarse mediante `metrics.result()`.\n"
      ]
    },
    {
      "cell_type": "code",
      "execution_count": null,
      "metadata": {
        "id": "TVGn5_IhYhtG"
      },
      "outputs": [],
      "source": [
        "accuracy = tf.keras.metrics.Accuracy()\n",
        "\n",
        "accuracy.update_state(y_true=[0, 0, 1, 1], y_pred=[0, 0, 0, 1])\n",
        "accuracy.result().numpy()\n"
      ]
    },
    {
      "cell_type": "code",
      "execution_count": null,
      "metadata": {
        "id": "wQEV2hHtY_su"
      },
      "outputs": [],
      "source": [
        "accuracy.update_state(y_true=[0, 0, 1, 1], y_pred=[0, 0, 0, 0])\n",
        "accuracy.update_state(y_true=[0, 0, 1, 1], y_pred=[1, 1, 0, 0])\n",
        "accuracy.result().numpy()"
      ]
    },
    {
      "cell_type": "markdown",
      "metadata": {
        "id": "E3F3ElcyadW-"
      },
      "source": [
        "Para obtener más información sobre `tf.keras.metrics.Metric`, consulta la documentación de la API en `tf.keras.metrics.Metric`, así como la [guía de migración](https://www.tensorflow.org/guide/effective_tf2#new-style_metrics_and_losses)."
      ]
    },
    {
      "cell_type": "markdown",
      "metadata": {
        "id": "eXKY9HEulxQC"
      },
      "source": [
        "## Migrar optimizadores TF1.x a optimizadores Keras\n",
        "\n",
        "Los optimizadores de `tf.compat.v1.train`, como el optimizador [Adam](https://www.tensorflow.org/api_docs/python/tf/compat/v1/train/AdamOptimizer) y el [optimizador de descenso gradiente](https://www.tensorflow.org/api_docs/python/tf/compat/v1/train/GradientDescentOptimizer), tienen equivalentes en `tf.keras.optimizers`.\n",
        "\n",
        "La tabla siguiente resume cómo puedes convertir estos optimizadores heredados en sus equivalentes de Keras. Puedes reemplazar directamente la versión TF1.x por la versión TF2, a menos que se requieran pasos adicionales (como [actualizar la tasa de aprendizaje predeterminada](../../guide/effective_tf2.ipynb#optimizer_defaults)).\n",
        "\n",
        "Ten en cuenta que convertir tus optimizadores [puede hacer incompatibles los puntos de verificación previos](./migrating_checkpoints.ipynb).\n",
        "\n",
        "<table>\n",
        "  <tr>\n",
        "    <th>TF1.x</th>\n",
        "    <th>TF2</th>\n",
        "    <th>Pasos adicionales</th>\n",
        "  </tr>\n",
        "  <tr>\n",
        "    <td>`tf.v1.train.GradientDescentOptimizer`</td>\n",
        "    <td>`tf.keras.optimizers.SGD`</td>\n",
        "    <td>Ninguno</td>\n",
        "  </tr>\n",
        "  <tr>\n",
        "    <td>`tf.v1.train.MomentumOptimizer`</td>\n",
        "    <td>`tf.keras.optimizers.SGD`</td>\n",
        "    <td>Incluye el argumento \"momentum\"</td>\n",
        "  </tr>\n",
        "  <tr>\n",
        "    <td>`tf.v1.train.AdamOptimizer`</td>\n",
        "    <td>`tf.keras.optimizers.Adam`</td>\n",
        "    <td>Cambia el nombre de los argumentos \"beta1\" y \"beta2\" a \"beta_1\" y \"beta_2\".</td>\n",
        "  </tr>\n",
        "  <tr>\n",
        "    <td>`tf.v1.train.RMSPropOptimizer`</td>\n",
        "    <td>`tf.keras.optimizers.RMSprop`</td>\n",
        "    <td>Cambia el nombre del argumento \"decay\" por \"rho\".</td>\n",
        "  </tr>\n",
        "  <tr>\n",
        "    <td>`tf.v1.train.AdadeltaOptimizer`</td>\n",
        "    <td>`tf.keras.optimizers.Adadelta`</td>\n",
        "    <td>Ninguno</td>\n",
        "  </tr>\n",
        "  <tr>\n",
        "    <td>`tf.v1.train.AdagradOptimizer`</td>\n",
        "    <td>`tf.keras.optimizers.Adagrad`</td>\n",
        "    <td>Ninguno</td>\n",
        "  </tr>\n",
        "  <tr>\n",
        "    <td>`tf.v1.train.FtrlOptimizer`</td>\n",
        "    <td>`tf.keras.optimizers.Ftrl`</td>\n",
        "    <td>Elimina los argumentos \"accum_name\" y \"linear_name\"</td>\n",
        "  </tr>\n",
        "  <tr>\n",
        "    <td>`tf.contrib.AdamaxOptimizer`</td>\n",
        "    <td>`tf.keras.optimizers.Adamax`</td>\n",
        "    <td>Cambia el nombre de los argumentos \"beta1\" y \"beta2\" a \"beta_1\" y \"beta_2\".</td>\n",
        "  </tr>\n",
        "  <tr>\n",
        "    <td>`tf.contrib.Nadam`</td>\n",
        "    <td>`tf.keras.optimizers.Nadam`</td>\n",
        "    <td>Cambia el nombre de los argumentos \"beta1\" y \"beta2\" a \"beta_1\" y \"beta_2\".</td>\n",
        "  </tr>\n",
        "</table>\n",
        "\n",
        "Nota: En TF2, todos los épsilones (constantes numéricas de estabilidad) ahora están predeterminados a `1e-7` en lugar de `1e-8`. Esta diferencia es insignificante en la mayoría de los casos que se usan."
      ]
    }
  ],
  "metadata": {
    "colab": {
      "collapsed_sections": [],
      "name": "metrics_optimizers.ipynb",
      "toc_visible": true
    },
    "kernelspec": {
      "display_name": "Python 3",
      "name": "python3"
    }
  },
  "nbformat": 4,
  "nbformat_minor": 0
}
