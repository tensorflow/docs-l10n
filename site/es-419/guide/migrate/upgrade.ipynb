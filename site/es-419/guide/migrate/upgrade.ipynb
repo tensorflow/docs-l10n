{
  "cells": [
    {
      "cell_type": "markdown",
      "metadata": {
        "id": "6bYaCABobL5q"
      },
      "source": [
        "##### Copyright 2018 The TensorFlow Authors."
      ]
    },
    {
      "cell_type": "code",
      "execution_count": null,
      "metadata": {
        "cellView": "form",
        "id": "FlUw7tSKbtg4"
      },
      "outputs": [],
      "source": [
        "#@title Licensed under the Apache License, Version 2.0 (the \"License\");\n",
        "# you may not use this file except in compliance with the License.\n",
        "# You may obtain a copy of the License at\n",
        "#\n",
        "# https://www.apache.org/licenses/LICENSE-2.0\n",
        "#\n",
        "# Unless required by applicable law or agreed to in writing, software\n",
        "# distributed under the License is distributed on an \"AS IS\" BASIS,\n",
        "# WITHOUT WARRANTIES OR CONDITIONS OF ANY KIND, either express or implied.\n",
        "# See the License for the specific language governing permissions and\n",
        "# limitations under the License."
      ]
    },
    {
      "cell_type": "markdown",
      "metadata": {
        "id": "08OTcmxgqkc2"
      },
      "source": [
        "# Reescribir automáticamente los símbolos de TF 1.x y API compat.v1\n",
        "\n",
        "<table class=\"tfo-notebook-buttons\" align=\"left\">\n",
        "  <td><a target=\"_blank\" href=\"https://www.tensorflow.org/guide/migrate/upgrade\"><img src=\"https://www.tensorflow.org/images/tf_logo_32px.png\">Ver en TensorFlow.org</a></td>\n",
        "  <td><a target=\"_blank\" href=\"https://colab.research.google.com/github/tensorflow/docs-l10n/blob/master/site/es-419/guide/migrate/upgrade.ipynb\"><img src=\"https://www.tensorflow.org/images/colab_logo_32px.png\">Ejecutar en Google Colab</a></td>\n",
        "  <td>     <a target=\"_blank\" href=\"https://github.com/tensorflow/docs-l10n/blob/master/site/es-419/guide/migrate/upgrade.ipynb\"><img src=\"https://www.tensorflow.org/images/GitHub-Mark-32px.png\">Ver código fuente en GitHub</a>\n",
        "</td>\n",
        "  <td>     <a target=\"_blank\" href=\"https://storage.googleapis.com/tensorflow_docs/docs-l10n/site/es-419/guide/migrate/upgrade.ipynb\">     <img src=\"https://www.tensorflow.org/images/download_logo_32px.png\">     Descargar bloc de notas</a>\n",
        "</td>\n",
        "</table>\n"
      ]
    },
    {
      "cell_type": "markdown",
      "metadata": {
        "id": "hZSaRPoybOp5"
      },
      "source": [
        "TensorFlow 2.x incluye muchos cambios en la API con respecto a TF 1.x y la API `tf.compat.v1`, como la reordenación de argumentos, el cambio de nombre de los símbolos y la modificación de los valores predeterminados de los parámetros. Realizar manualmente todas estas modificaciones sería tedioso y propenso a errores. Para agilizar los cambios, y para que su transición a TF 2.x sea lo más fluida posible, el equipo de TensorFlow ha creado la utilidad `tf_upgrade_v2` para ayudar a la transición del código heredado a la nueva API.\n",
        "\n",
        "Nota: `tf_upgrade_v2` se instala automáticamente para TensorFlow 1.13 y posteriores (incluidas todas las compilaciones de TF 2.x).\n",
        "\n",
        "El uso típico es el siguiente:\n",
        "\n",
        "<pre class=\"devsite-terminal devsite-click-to-copy prettyprint lang-bsh\">tf_upgrade_v2 \\\n",
        "  --intree my_project/ \\\n",
        "  --outtree my_project_v2/ \\\n",
        "  --reportfile report.txt\n",
        "</pre>\n",
        "\n",
        "Acelerará su proceso de actualización convirtiendo los scripts Python existentes de TensorFlow 1.x a TensorFlow 2.x.\n",
        "\n",
        "El script de conversión automatiza muchas transformaciones mecánicas de las API, aunque muchas API no pueden migrarse de este modo automáticamente. Tampoco es capaz de hacer que su código sea totalmente compatible con los comportamientos y las API de TF2. Por lo tanto, es sólo una parte de su proceso de migración."
      ]
    },
    {
      "cell_type": "markdown",
      "metadata": {
        "id": "gP9v2vgptdfi"
      },
      "source": [
        "## Módulos de compatibilidad\n",
        "\n",
        "Algunos símbolos de la API no pueden actualizarse simplemente reemplazando la cadena de caracteres. Los que no puedan actualizarse automáticamente se mapearán en sus ubicaciones en el módulo `compat.v1`. Este módulo reemplaza símbolos TF 1.x como `tf.foo` por la referencia equivalente `tf.compat.v1.foo`. Si ya está usando las APIs `compat.v1` mediante la importación de TF a través de `import tensorflow.compat.v1 as tf`, el script `tf_upgrade_v2` intentará convertir estos usos a las APIs que no son compat siempre que sea posible. Tenga en cuenta que aunque algunas APIs `compat.v1` son compatibles con los comportamientos de TF2.x, muchas no lo son. Por lo tanto, se recomienda revisar manualmente los reemplazos y migrarlos a las nuevas APIs en el namespace `tf.*` en lugar de `tf.compat.v1` lo antes posible.\n",
        "\n",
        "Debido a los módulos obsoletos de TensorFlow 2.x (por ejemplo, `tf.flags` y `tf.contrib`), algunos cambios no se pueden solucionar cambiando a `compat.v1`. La actualización de este código puede requerir usar una librería adicional (por ejemplo, [`absl.flags`](https://github.com/abseil/abseil-py)) o cambiar a un paquete en [tensorflow/addons](http://www.github.com/tensorflow/addons).\n"
      ]
    },
    {
      "cell_type": "markdown",
      "metadata": {
        "id": "s78bbfjkXYb7"
      },
      "source": [
        "## Proceso de actualización recomendado\n",
        "\n",
        "El resto de esta guía muestra cómo usar el script de reescritura de símbolos. Aunque el script es fácil de usar, se recomienda encarecidamente que lo use como parte del siguiente proceso:\n",
        "\n",
        "1. **Pruebas de unidad**: Asegúrese de que el código que está actualizando tiene un conjunto de pruebas de unidad con una cobertura razonable. Se trata de código Python, por lo que el lenguaje no le protegerá de muchas clases de errores. Asegúrese también de que cualquier dependencia que tenga ya ha sido actualizada para ser compatible con TensorFlow 2.x.\n",
        "\n",
        "2. **Instale TensorFlow 1.15**: Actualice su TensorFlow a la última versión de TensorFlow 1.x, como mínimo a la 1.15. Ésta incluye la API final de TensorFlow 2.0 en `tf.compat.v2`.\n",
        "\n",
        "3. **Pruebe con 1.15**: Asegúrese de que sus pruebas de unidad superan este punto. Las ejecutará repetidamente mientras actualiza, por lo que empezar bien es importante.\n",
        "\n",
        "4. **Ejecute el script de actualización**: Ejecute `tf_upgrade_v2` en todo su árbol de código fuente, incluidas las pruebas. Esto actualizará su código a un formato en el que sólo use símbolos disponibles en TensorFlow 2.0. Se accederá a los símbolos obsoletos con `tf.compat.v1`. Estos eventualmente requerirán atención manual, pero no inmediatamente.\n",
        "\n",
        "5. **Ejecute las pruebas convertidas con TensorFlow 1.15**: Su código debería seguir funcionando correctamente en TensorFlow 1.15. Vuelva a ejecutar sus pruebas de unidad. Cualquier error en sus pruebas aquí significa que hay un error en el script de actualización. [Por favor, háganoslo saber](https://github.com/tensorflow/tensorflow/issues).\n",
        "\n",
        "6. **Revise el informe de actualización en busca de advertencias y errores**: El script escribe un archivo de informe que explica cualquier conversión que deba volver a verificar, o cualquier acción manual que deba realizar. Por ejemplo: Cualquier instancia restante de contrib requerirá ser eliminada manualmente. Consulte [el RFC para conocer más detalles](https://github.com/tensorflow/community/blob/master/rfcs/20180907-contrib-sunset.md).\n",
        "\n",
        "7. **Instale TensorFlow 2.x**: En este punto debería ser seguro cambiar a los binarios de TensorFlow 2.x, incluso si se está ejecutando con comportamientos heredados\n",
        "\n",
        "8. **Haga pruebas con `v1.disable_v2_behavior`**: Si vuelve a ejecutar sus pruebas con un `v1.disable_v2_behavior()` en la función principal de las pruebas, debería obtener los mismos resultados que si las ejecutara con la versión 1.15.\n",
        "\n",
        "9. **Habilitar comportamiento V2**: Ahora que sus pruebas funcionan usando los binarios TF2, ya puede empezar a migrar su código para evitar `tf.estimator`s y usar sólo los comportamientos TF2 soportados (sin desactivar el comportamiento TF2). Consulte las [Guías de migración](https://tensorflow.org/guide/migrate) para más detalles."
      ]
    },
    {
      "cell_type": "markdown",
      "metadata": {
        "id": "6pwSAQEwvscP"
      },
      "source": [
        "## Usar el script de reescritura de símbolos `tf_upgrade_v2`\n"
      ]
    },
    {
      "cell_type": "markdown",
      "metadata": {
        "id": "I9NCvDt5GwX4"
      },
      "source": [
        "### Preparación\n",
        "\n",
        "Antes de empezar, asegúrese de que TensorFlow 2.x está instalado."
      ]
    },
    {
      "cell_type": "code",
      "execution_count": null,
      "metadata": {
        "id": "DWVYbvi1WCeY"
      },
      "outputs": [],
      "source": [
        "import tensorflow as tf\n",
        "\n",
        "print(tf.__version__)"
      ]
    },
    {
      "cell_type": "markdown",
      "metadata": {
        "id": "Ycy3B5PNGutU"
      },
      "source": [
        "Clone el repositorio git [tensorflow/models](https://github.com/tensorflow/models) para tener algo de código con el que hacer pruebas:"
      ]
    },
    {
      "cell_type": "code",
      "execution_count": null,
      "metadata": {
        "id": "jyckoWyAZEhZ"
      },
      "outputs": [],
      "source": [
        "!git clone --branch r1.13.0 --depth 1 https://github.com/tensorflow/models"
      ]
    },
    {
      "cell_type": "markdown",
      "metadata": {
        "id": "wfHOhbkgvrKr"
      },
      "source": [
        "### Lea la ayuda\n",
        "\n",
        "El script debe instalarse con TensorFlow. Aquí está la ayuda incorporada:"
      ]
    },
    {
      "cell_type": "code",
      "execution_count": null,
      "metadata": {
        "id": "m2GF-tlntqTQ"
      },
      "outputs": [],
      "source": [
        "!tf_upgrade_v2 -h"
      ]
    },
    {
      "cell_type": "markdown",
      "metadata": {
        "id": "se9Leqjm1CZR"
      },
      "source": [
        "### Ejemplo de código TF1"
      ]
    },
    {
      "cell_type": "markdown",
      "metadata": {
        "id": "whD5i36s1SuM"
      },
      "source": [
        "Aquí tiene un sencillo script TensorFlow 1.0:"
      ]
    },
    {
      "cell_type": "code",
      "execution_count": null,
      "metadata": {
        "id": "mhGbYQ9HwbeU"
      },
      "outputs": [],
      "source": [
        "!head -n 65 models/samples/cookbook/regression/custom_regression.py | tail -n 10"
      ]
    },
    {
      "cell_type": "markdown",
      "metadata": {
        "id": "UGO7xSyL89wX"
      },
      "source": [
        "Con TensorFlow 2.x instalado no se ejecuta:"
      ]
    },
    {
      "cell_type": "code",
      "execution_count": null,
      "metadata": {
        "id": "TD7fFphX8_qE"
      },
      "outputs": [],
      "source": [
        "!(cd models/samples/cookbook/regression && python custom_regression.py)"
      ]
    },
    {
      "cell_type": "markdown",
      "metadata": {
        "id": "iZZHu0H0wLRJ"
      },
      "source": [
        "### Archivo individual\n",
        "\n",
        "El script puede ejecutarse en un único archivo Python:"
      ]
    },
    {
      "cell_type": "code",
      "execution_count": null,
      "metadata": {
        "id": "xIBZVEjkqkc5"
      },
      "outputs": [],
      "source": [
        "!tf_upgrade_v2 \\\n",
        "  --infile models/samples/cookbook/regression/custom_regression.py \\\n",
        "  --outfile /tmp/custom_regression_v2.py"
      ]
    },
    {
      "cell_type": "markdown",
      "metadata": {
        "id": "L9X2lxzqqkc9"
      },
      "source": [
        "El script mostrará errores si no puede encontrar una solución para el código. "
      ]
    },
    {
      "cell_type": "markdown",
      "metadata": {
        "id": "r7zpuE1vWSlL"
      },
      "source": [
        "### Árbol de directorios"
      ]
    },
    {
      "cell_type": "markdown",
      "metadata": {
        "id": "2q7Gtuu8SdIC"
      },
      "source": [
        "Los proyectos habituales, incluido este sencillo ejemplo, usarán mucho más que un archivo. Normalmente se desea actualizar un paquete entero, por lo que el script también puede ejecutarse en un árbol de directorios:"
      ]
    },
    {
      "cell_type": "code",
      "execution_count": null,
      "metadata": {
        "id": "XGqcdkAPqkc-"
      },
      "outputs": [],
      "source": [
        "# update the .py files and copy all the other files to the outtree\n",
        "!tf_upgrade_v2 \\\n",
        "    --intree models/samples/cookbook/regression/ \\\n",
        "    --outtree regression_v2/ \\\n",
        "    --reportfile tree_report.txt"
      ]
    },
    {
      "cell_type": "markdown",
      "metadata": {
        "id": "2S4j7sqbSowC"
      },
      "source": [
        "Tenga en cuenta la única advertencia sobre la función `dataset.make_one_shot_iterator`.\n",
        "\n",
        "Ahora el script funciona con TensorFlow 2.x:\n",
        "\n",
        "Tenga en cuenta que, dado que el módulo `tf.compat.v1` está incluido en TF 1.15, el script convertido también se ejecutará en TensorFlow 1.15."
      ]
    },
    {
      "cell_type": "code",
      "execution_count": null,
      "metadata": {
        "id": "vh0cmW3y1tX9"
      },
      "outputs": [],
      "source": [
        "!(cd regression_v2 && python custom_regression.py 2>&1) | tail"
      ]
    },
    {
      "cell_type": "markdown",
      "metadata": {
        "id": "4EgZGGkdqkdC"
      },
      "source": [
        "## Informe detallado\n",
        "\n",
        "El script también informa de una lista de cambios detallados. En este ejemplo encontró una transformación posiblemente insegura e incluyó una advertencia en la parte superior del archivo: "
      ]
    },
    {
      "cell_type": "code",
      "execution_count": null,
      "metadata": {
        "id": "CtHaZbVaNMGV"
      },
      "outputs": [],
      "source": [
        "!head -n 20 tree_report.txt"
      ]
    },
    {
      "cell_type": "markdown",
      "metadata": {
        "id": "1-UIFXP3cFSa"
      },
      "source": [
        "Observe de nuevo la única advertencia sobre la función `Dataset.make_one_shot_iterator`."
      ]
    },
    {
      "cell_type": "markdown",
      "metadata": {
        "id": "oxQeYS1TN-jv"
      },
      "source": [
        "En otros casos, la salida explicará el razonamiento de los cambios no triviales:"
      ]
    },
    {
      "cell_type": "code",
      "execution_count": null,
      "metadata": {
        "id": "WQs9kEvVN9th"
      },
      "outputs": [],
      "source": [
        "%%writefile dropout.py\n",
        "import tensorflow as tf\n",
        "\n",
        "d = tf.nn.dropout(tf.range(10), 0.2)\n",
        "z = tf.zeros_like(d, optimize=False)"
      ]
    },
    {
      "cell_type": "code",
      "execution_count": null,
      "metadata": {
        "id": "7uOkacZsO3XX"
      },
      "outputs": [],
      "source": [
        "!tf_upgrade_v2 \\\n",
        "  --infile dropout.py \\\n",
        "  --outfile dropout_v2.py \\\n",
        "  --reportfile dropout_report.txt > /dev/null"
      ]
    },
    {
      "cell_type": "code",
      "execution_count": null,
      "metadata": {
        "id": "m-J82-scPMGl"
      },
      "outputs": [],
      "source": [
        "!cat dropout_report.txt"
      ]
    },
    {
      "cell_type": "markdown",
      "metadata": {
        "id": "DOOLN21nTGSS"
      },
      "source": [
        "Aquí está el contenido del archivo modificado, observe cómo el script añade nombres de argumentos para lidiar con los argumentos movidos y renombrados:"
      ]
    },
    {
      "cell_type": "code",
      "execution_count": null,
      "metadata": {
        "id": "SrYcJk9-TFlU"
      },
      "outputs": [],
      "source": [
        "!cat dropout_v2.py"
      ]
    },
    {
      "cell_type": "markdown",
      "metadata": {
        "id": "wI_sVNp_b4C4"
      },
      "source": [
        "Un proyecto más grande puede contener algunos errores. Por ejemplo, convertir el modelo deeplab:"
      ]
    },
    {
      "cell_type": "code",
      "execution_count": null,
      "metadata": {
        "id": "uzuY-bOvYBS7"
      },
      "outputs": [],
      "source": [
        "!tf_upgrade_v2 \\\n",
        "    --intree models/research/deeplab \\\n",
        "    --outtree deeplab_v2 \\\n",
        "    --reportfile deeplab_report.txt > /dev/null"
      ]
    },
    {
      "cell_type": "markdown",
      "metadata": {
        "id": "FLhw3fm8drae"
      },
      "source": [
        "Produjo los archivos de salida:"
      ]
    },
    {
      "cell_type": "code",
      "execution_count": null,
      "metadata": {
        "id": "4YYLRxWJdSvQ"
      },
      "outputs": [],
      "source": [
        "!ls deeplab_v2"
      ]
    },
    {
      "cell_type": "markdown",
      "metadata": {
        "id": "qtTC-cAZdEBy"
      },
      "source": [
        "Pero hubo errores. El informe le ayudará a determinar lo que debe corregir antes de que se ejecute. Aquí están los tres primeros errores:"
      ]
    },
    {
      "cell_type": "code",
      "execution_count": null,
      "metadata": {
        "id": "UVTNOohlcyVZ"
      },
      "outputs": [],
      "source": [
        "!cat deeplab_report.txt | grep -i models/research/deeplab | grep -i error | head -n 3"
      ]
    },
    {
      "cell_type": "markdown",
      "metadata": {
        "id": "gGBeDaFVRJ5l"
      },
      "source": [
        "## Modo de \"seguridad\""
      ]
    },
    {
      "cell_type": "markdown",
      "metadata": {
        "id": "BnfCxB7SVtTO"
      },
      "source": [
        "El script de conversión también tiene un modo menos invasivo `SAFETY` que simplemente cambia las importaciones para usar el módulo `tensorflow.compat.v1`:"
      ]
    },
    {
      "cell_type": "code",
      "execution_count": null,
      "metadata": {
        "id": "XdaVXCPWQCC5"
      },
      "outputs": [],
      "source": [
        "!cat dropout.py"
      ]
    },
    {
      "cell_type": "code",
      "execution_count": null,
      "metadata": {
        "id": "c0tvRJLGRYEb"
      },
      "outputs": [],
      "source": [
        "!tf_upgrade_v2 --mode SAFETY --infile dropout.py --outfile dropout_v2_safe.py > /dev/null"
      ]
    },
    {
      "cell_type": "code",
      "execution_count": null,
      "metadata": {
        "id": "91suN2RaRfIV"
      },
      "outputs": [],
      "source": [
        "!cat dropout_v2_safe.py"
      ]
    },
    {
      "cell_type": "markdown",
      "metadata": {
        "id": "EOzTF7xbZqqW"
      },
      "source": [
        "Como puede ver, esto no actualiza su código, pero permite que el código TensorFlow 1 se ejecute contra binarios TensorFlow 2. ¡Tenga en cuenta que esto no significa que su código esté ejecutando comportamientos TF 2.x soportados!"
      ]
    },
    {
      "cell_type": "markdown",
      "metadata": {
        "id": "jGfXVApkqkdG"
      },
      "source": [
        "## Precauciones\n",
        "\n",
        "- No actualice partes de su código manualmente antes de ejecutar este script. En particular, las funciones que han sufrido una reordenación de argumentos como `tf.math.argmax` o `tf.batch_to_space` hacen que el script añada incorrectamente argumentos de palabras clave que desajustan su código existente.\n",
        "\n",
        "- El script asume que `tensorflow` se importa usando `import tensorflow as tf`, o `import tensorflow.compat.v1 as tf`.\n",
        "\n",
        "- Este script no reordena los argumentos. En su lugar, el script añade argumentos de palabra clave a las funciones que tienen sus argumentos reordenados.\n",
        "\n",
        "- Consulte [tf2up.ml](https://github.com/lc0/tf2up) para encontrar una herramienta práctica para actualizar blocs de notas Jupyter y archivos Python en un repositorio GitHub.\n",
        "\n",
        "Para informar de errores en el script de actualización o para solicitar funciones, presente un incidente en [GitHub](https://github.com/tensorflow/tensorflow/issues)."
      ]
    }
  ],
  "metadata": {
    "colab": {
      "collapsed_sections": [],
      "name": "upgrade.ipynb",
      "toc_visible": true
    },
    "kernelspec": {
      "display_name": "Python 3",
      "name": "python3"
    }
  },
  "nbformat": 4,
  "nbformat_minor": 0
}
