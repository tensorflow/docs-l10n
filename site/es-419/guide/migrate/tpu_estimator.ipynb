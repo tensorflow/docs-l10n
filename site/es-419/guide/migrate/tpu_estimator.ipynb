{
  "cells": [
    {
      "cell_type": "markdown",
      "metadata": {
        "id": "wJcYs_ERTnnI"
      },
      "source": [
        "##### Copyright 2021 The TensorFlow Authors."
      ]
    },
    {
      "cell_type": "code",
      "execution_count": null,
      "metadata": {
        "cellView": "form",
        "id": "HMUDt0CiUJk9"
      },
      "outputs": [],
      "source": [
        "#@title Licensed under the Apache License, Version 2.0 (the \"License\");\n",
        "# you may not use this file except in compliance with the License.\n",
        "# You may obtain a copy of the License at\n",
        "#\n",
        "# https://www.apache.org/licenses/LICENSE-2.0\n",
        "#\n",
        "# Unless required by applicable law or agreed to in writing, software\n",
        "# distributed under the License is distributed on an \"AS IS\" BASIS,\n",
        "# WITHOUT WARRANTIES OR CONDITIONS OF ANY KIND, either express or implied.\n",
        "# See the License for the specific language governing permissions and\n",
        "# limitations under the License."
      ]
    },
    {
      "cell_type": "markdown",
      "metadata": {
        "id": "77z2OchJTk0l"
      },
      "source": [
        "# Migrar de TPUEstimator a TPUStrategy\n",
        "\n",
        "<table class=\"tfo-notebook-buttons\" align=\"left\">\n",
        "  <td><a target=\"_blank\" href=\"https://www.tensorflow.org/guide/migrate/tpu_estimator\"><img src=\"https://www.tensorflow.org/images/tf_logo_32px.png\">Ver en TensorFlow.org</a></td>\n",
        "  <td><a target=\"_blank\" href=\"https://colab.research.google.com/github/tensorflow/docs-l10n/blob/master/site/es-419/guide/migrate/tpu_estimator.ipynb\"><img src=\"https://www.tensorflow.org/images/colab_logo_32px.png\">Ejecutar en Google Colab</a></td>\n",
        "  <td>     <a target=\"_blank\" href=\"https://github.com/tensorflow/docs-l10n/blob/master/site/es-419/guide/migrate/tpu_estimator.ipynb\"><img src=\"https://www.tensorflow.org/images/GitHub-Mark-32px.png\">Ver código fuente en GitHub</a>\n",
        "</td>\n",
        "  <td><a href=\"https://storage.googleapis.com/tensorflow_docs/docs-l10n/site/es-419/guide/migrate/tpu_estimator.ipynb\"><img src=\"https://www.tensorflow.org/images/download_logo_32px.png\">Descargar bloc de notas</a></td>\n",
        "</table>"
      ]
    },
    {
      "cell_type": "markdown",
      "metadata": {
        "id": "meUTrR4I6m1C"
      },
      "source": [
        "Esta guía demuestra cómo migrar sus flujos de trabajo que se ejecutan en [TPUs](../../guide/tpu.ipynb) desde la API `TPUEstimator` de TensorFlow 1 a la API `TPUStrategy` de TensorFlow 2.\n",
        "\n",
        "- En TensorFlow 1, la API `tf.compat.v1.estimator.tpu.TPUEstimator` le permite entrenar y evaluar un modelo, así como realizar inferencias y guardar su modelo (para ser distribuido) en TPUs (en la nube).\n",
        "- En TensorFlow 2, para realizar un entrenamiento síncrono en TPUs y TPU Pods (una recolección de dispositivos TPU conectados por interfaces de red dedicadas de alta velocidad), es necesario usar una estrategia de distribución de TPUs: `tf.distribute.TPUStrategy`. La estrategia puede funcionar con las API de Keras [incluyendo para la construcción de modelos (`tf.keras.Model`), optimizadores (`tf.keras.optimizers.Optimizer`) y entrenamiento (`Model.fit`)] así como con un bucle de entrenamiento personalizado (con `tf.function` y `tf.GradientTape`).\n",
        "\n",
        "Para ver ejemplos de TensorFlow 2 de principio a fin, consulte la guía [Utilizar TPUs](../../guide/tpu.ipynb) (concretamente, la sección *Clasificación en TPUs*) y el tutorial [Cómo resolver tareas GLUE utilizando BERT en TPU](https://www.tensorflow.org/text/tutorials/bert_glue). También le puede resultar útil la guía [Entrenamiento distribuido](../../guide/distributed_training.ipynb), que cubre todas las estrategias de distribución de TensorFlow, incluyendo `TPUStrategy`."
      ]
    },
    {
      "cell_type": "markdown",
      "metadata": {
        "id": "YdZSoIXEbhg-"
      },
      "source": [
        "## Preparación\n",
        "\n",
        "Empieza con imports y un conjunto de datos sencillo a modo de demostración:"
      ]
    },
    {
      "cell_type": "code",
      "execution_count": null,
      "metadata": {
        "id": "iE0vSfMXumKI"
      },
      "outputs": [],
      "source": [
        "import tensorflow as tf\n",
        "import tensorflow.compat.v1 as tf1"
      ]
    },
    {
      "cell_type": "code",
      "execution_count": null,
      "metadata": {
        "id": "m7rnGxsXtDkV"
      },
      "outputs": [],
      "source": [
        "features = [[1., 1.5]]\n",
        "labels = [[0.3]]\n",
        "eval_features = [[4., 4.5]]\n",
        "eval_labels = [[0.8]]"
      ]
    },
    {
      "cell_type": "markdown",
      "metadata": {
        "id": "4uXff1BEssdE"
      },
      "source": [
        "## TensorFlow 1: Impulsar un modelo en TPUs con TPUEstimator"
      ]
    },
    {
      "cell_type": "markdown",
      "metadata": {
        "id": "BVWHEQj5a7rN"
      },
      "source": [
        "Esta sección de la guía muestra cómo realizar el entrenamiento y la evaluación con `tf.compat.v1.estimator.tpu.TPUEstimator` en TensorFlow 1.\n",
        "\n",
        "Para usar un `TPUEstimator`, defina primero algunas funciones: una función de entrada para los datos de entrenamiento, una función de entrada de evaluación para los datos de evaluación y una función de modelo que indique al `TPUEstimator` cómo se define la op de entrenamiento con las características y las etiquetas:"
      ]
    },
    {
      "cell_type": "code",
      "execution_count": null,
      "metadata": {
        "id": "lqe9obf7suIj"
      },
      "outputs": [],
      "source": [
        "def _input_fn(params):\n",
        "  dataset = tf1.data.Dataset.from_tensor_slices((features, labels))\n",
        "  dataset = dataset.repeat()\n",
        "  return dataset.batch(params['batch_size'], drop_remainder=True)\n",
        "\n",
        "def _eval_input_fn(params):\n",
        "  dataset = tf1.data.Dataset.from_tensor_slices((eval_features, eval_labels))\n",
        "  dataset = dataset.repeat()\n",
        "  return dataset.batch(params['batch_size'], drop_remainder=True)\n",
        "\n",
        "def _model_fn(features, labels, mode, params):\n",
        "  logits = tf1.layers.Dense(1)(features)\n",
        "  loss = tf1.losses.mean_squared_error(labels=labels, predictions=logits)\n",
        "  optimizer = tf1.train.AdagradOptimizer(0.05)\n",
        "  train_op = optimizer.minimize(loss, global_step=tf1.train.get_global_step())\n",
        "  return tf1.estimator.tpu.TPUEstimatorSpec(mode, loss=loss, train_op=train_op)"
      ]
    },
    {
      "cell_type": "markdown",
      "metadata": {
        "id": "QYnP3Dszc-2R"
      },
      "source": [
        "Con esas funciones definidas, cree un objeto `tf.distribute.cluster_resolver.TPUClusterResolver` que facilite la información del cluster, y un objeto `tf.compat.v1.estimator.tpu.RunConfig`. Junto con la función modelo que ha definido, ahora puede crear un `TPUEstimator`. Aquí, simplificará el flujo omitiendo el guardado de puntos de verificación. Después, especificará el tamaño del lote tanto para el entrenamiento como para la evaluación para el `TPUEstimator`."
      ]
    },
    {
      "cell_type": "code",
      "execution_count": null,
      "metadata": {
        "id": "WAqyqawemlcl"
      },
      "outputs": [],
      "source": [
        "cluster_resolver = tf1.distribute.cluster_resolver.TPUClusterResolver(tpu='')\n",
        "print(\"All devices: \", tf1.config.list_logical_devices('TPU'))"
      ]
    },
    {
      "cell_type": "code",
      "execution_count": null,
      "metadata": {
        "id": "HsOpjW5plH9Q"
      },
      "outputs": [],
      "source": [
        "tpu_config = tf1.estimator.tpu.TPUConfig(iterations_per_loop=10)\n",
        "config = tf1.estimator.tpu.RunConfig(\n",
        "    cluster=cluster_resolver,\n",
        "    save_checkpoints_steps=None,\n",
        "    tpu_config=tpu_config)\n",
        "estimator = tf1.estimator.tpu.TPUEstimator(\n",
        "    model_fn=_model_fn,\n",
        "    config=config,\n",
        "    train_batch_size=8,\n",
        "    eval_batch_size=8)"
      ]
    },
    {
      "cell_type": "markdown",
      "metadata": {
        "id": "Uxw7tWrcepaZ"
      },
      "source": [
        "Llame a `TPUEstimator.train` para comenzar el entrenamiento del modelo:"
      ]
    },
    {
      "cell_type": "code",
      "execution_count": null,
      "metadata": {
        "id": "WZPKFOMAcyrP"
      },
      "outputs": [],
      "source": [
        "estimator.train(_input_fn, steps=1)"
      ]
    },
    {
      "cell_type": "markdown",
      "metadata": {
        "id": "ev1vjIz9euIw"
      },
      "source": [
        "Luego, llame a `TPUEstimator.evaluate` para evaluar el modelo usando los datos de la evaluación:"
      ]
    },
    {
      "cell_type": "code",
      "execution_count": null,
      "metadata": {
        "id": "bqiKRiwWc0cz"
      },
      "outputs": [],
      "source": [
        "estimator.evaluate(_eval_input_fn, steps=1)"
      ]
    },
    {
      "cell_type": "markdown",
      "metadata": {
        "id": "KEmzBjfnsxwT"
      },
      "source": [
        "## TensorFlow 2: Impulsar un modelo sobre TPUs con Keras Model.fit y TPUStrategy"
      ]
    },
    {
      "cell_type": "markdown",
      "metadata": {
        "id": "UesuXNbShrbi"
      },
      "source": [
        "En TensorFlow 2, para entrenar sobre los trabajadores TPU, use `tf.distribute.TPUStrategy` junto con las APIs de Keras para la definición y entrenamiento / evaluación del modelo (consulte la guía [Utilizar TPU](../../guide/tpu.ipynb) para ver más ejemplos de entrenamiento con `Model.fit` de Keras y un bucle de entrenamiento personalizado (con `tf.function` y `tf.GradientTape`)).\n",
        "\n",
        "Dado que necesita realizar algún trabajo de inicialización para conectarse al cluster remoto e inicializar los trabajadores de la TPU, comience creando un `TPUClusterResolver` para proveer la información del cluster y conectarse al mismo. Puede aprender más en la sección *Inicialización de TPU* de la guía [Utilizar TPUs](../../guide/tpu.ipynb)."
      ]
    },
    {
      "cell_type": "code",
      "execution_count": null,
      "metadata": {
        "id": "_TgdPNgXoS63"
      },
      "outputs": [],
      "source": [
        "cluster_resolver = tf.distribute.cluster_resolver.TPUClusterResolver(tpu='')\n",
        "tf.config.experimental_connect_to_cluster(cluster_resolver)\n",
        "tf.tpu.experimental.initialize_tpu_system(cluster_resolver)\n",
        "print(\"All devices: \", tf.config.list_logical_devices('TPU'))"
      ]
    },
    {
      "cell_type": "markdown",
      "metadata": {
        "id": "R4EHXhN3CVmo"
      },
      "source": [
        "A continuación, una vez preparados sus datos, creará una `TPUStrategy`, definirá un modelo, métricas y un optimizador en el ámbito de esta estrategia.\n",
        "\n",
        "Para lograr una velocidad de entrenamiento comparable con `TPUStrategy`, procure elegir un número para `steps_per_execution` en `Model.compile` porque éste especifica el número de lotes a ejecutar durante cada llamada a `tf.function`, y es crítico para el rendimiento. Este argumento es similar a `iterations_per_loop` usado en un `TPUEstimator`. Si utiliza bucles de entrenamiento personalizados, debe asegurarse de que se ejecutan varios pasos dentro de la función de entrenamiento que usa `tf.function`. Vaya a la sección *Mejorar el rendimiento con múltiples pasos dentro de tf.function* de la guía [Utilizar TPUs](../../guide/tpu.ipynb) para obtener más información.\n",
        "\n",
        "`tf.distribute.TPUStrategy` puede admitir formas dinámicas acotadas, en cuyo caso puede inferirse el límite superior del cálculo de la forma dinámica. Pero las formas dinámicas pueden suponer cierta sobrecarga de rendimiento en comparación con las formas estáticas. Así que, en general, se recomienda que las formas de entrada sean estáticas si es posible, especialmente en el entrenamiento. Una op común que devuelve una forma dinámica es `tf.data.Dataset.batch(batch_size)`, ya que el número de muestras que quedan en un flujo puede ser inferior al tamaño del lote. Por lo tanto, al entrenar sobre la TPU, debería usar `tf.data.Dataset.batch(..., drop_remainder=True)` para obtener el mejor rendimiento en el entrenamiento."
      ]
    },
    {
      "cell_type": "code",
      "execution_count": null,
      "metadata": {
        "id": "atVciNgPs0fw"
      },
      "outputs": [],
      "source": [
        "dataset = tf.data.Dataset.from_tensor_slices(\n",
        "    (features, labels)).shuffle(10).repeat().batch(\n",
        "        8, drop_remainder=True).prefetch(2)\n",
        "eval_dataset = tf.data.Dataset.from_tensor_slices(\n",
        "    (eval_features, eval_labels)).batch(1, drop_remainder=True)\n",
        "\n",
        "strategy = tf.distribute.TPUStrategy(cluster_resolver)\n",
        "with strategy.scope():\n",
        "  model = tf.keras.models.Sequential([tf.keras.layers.Dense(1)])\n",
        "  optimizer = tf.keras.optimizers.Adagrad(learning_rate=0.05)\n",
        "  model.compile(optimizer, \"mse\", steps_per_execution=10)"
      ]
    },
    {
      "cell_type": "markdown",
      "metadata": {
        "id": "FkM2VZyni98F"
      },
      "source": [
        "Una vez hecho esto, ya está listo para entrenar el modelo con el conjunto de datos de entrenamiento:"
      ]
    },
    {
      "cell_type": "code",
      "execution_count": null,
      "metadata": {
        "id": "Kip65sYBlKiu"
      },
      "outputs": [],
      "source": [
        "model.fit(dataset, epochs=5, steps_per_epoch=10)"
      ]
    },
    {
      "cell_type": "markdown",
      "metadata": {
        "id": "r0AEK8sNjLOj"
      },
      "source": [
        "Por último, evalúe el modelo usando el conjunto de datos de evaluación:"
      ]
    },
    {
      "cell_type": "code",
      "execution_count": null,
      "metadata": {
        "id": "6tMRkyfKhqSL"
      },
      "outputs": [],
      "source": [
        "model.evaluate(eval_dataset, return_dict=True)"
      ]
    },
    {
      "cell_type": "markdown",
      "metadata": {
        "id": "67ec4d3f35d6"
      },
      "source": [
        "## Siguientes pasos"
      ]
    },
    {
      "cell_type": "markdown",
      "metadata": {
        "id": "gHx_RUL8xcJ3"
      },
      "source": [
        "Para obtener más información sobre `TPUStrategy` en TensorFlow 2, tenga en cuenta los siguientes recursos:\n",
        "\n",
        "- Guía: [Utilizar TPUs](../../guide/tpu.ipynb) (que cubre el entrenamiento con Keras `Model.fit`/un bucle de entrenamiento personalizado con `tf.distribute.TPUStrategy`, así como consejos para mejorar el rendimiento con `tf.function`)\n",
        "- Guía: [Entrenamiento distribuido con TensorFlow](../../guide/distributed_training.ipynb)\n",
        "\n",
        "Para saber más sobre cómo personalizar su entrenamiento, consulte:\n",
        "\n",
        "- Guía: [Personalice lo que ocurre en Model.fit](../..guide/keras/customizing_what_happens_in_fit.ipynb)\n",
        "- Guía: [Escribir un bucle de entrenamiento desde cero](https://www.tensorflow.org/guide/keras/writing_a_training_loop_from_scratch)\n",
        "\n",
        "Las TPU (ASIC especializadas de Google para el aprendizaje automático) están disponibles a través de [Google Colab](https://colab.research.google.com/), la [Cloud TPU Research Cloud](https://sites.research.google/trc/) y [Cloud TPU](https://cloud.google.com/tpu)."
      ]
    }
  ],
  "metadata": {
    "accelerator": "TPU",
    "colab": {
      "collapsed_sections": [],
      "name": "tpu_estimator.ipynb",
      "toc_visible": true
    },
    "kernelspec": {
      "display_name": "Python 3",
      "name": "python3"
    }
  },
  "nbformat": 4,
  "nbformat_minor": 0
}
