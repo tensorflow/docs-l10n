{
  "cells": [
    {
      "cell_type": "markdown",
      "metadata": {
        "id": "q9KfUf1BI6Kl"
      },
      "source": [
        "##### Copyright 2021 The TensorFlow Authors."
      ]
    },
    {
      "cell_type": "code",
      "execution_count": null,
      "metadata": {
        "cellView": "form",
        "id": "WvqLCVQ6I58i"
      },
      "outputs": [],
      "source": [
        "#@title Licensed under the Apache License, Version 2.0 (the \"License\");\n",
        "# you may not use this file except in compliance with the License.\n",
        "# You may obtain a copy of the License at\n",
        "#\n",
        "# https://www.apache.org/licenses/LICENSE-2.0\n",
        "#\n",
        "# Unless required by applicable law or agreed to in writing, software\n",
        "# distributed under the License is distributed on an \"AS IS\" BASIS,\n",
        "# WITHOUT WARRANTIES OR CONDITIONS OF ANY KIND, either express or implied.\n",
        "# See the License for the specific language governing permissions and\n",
        "# limitations under the License."
      ]
    },
    {
      "cell_type": "markdown",
      "metadata": {
        "id": "ZoFRICPTNUca"
      },
      "source": [
        "# Migrar el flujo de trabajo SavedModel\n",
        "\n",
        "<table class=\"tfo-notebook-buttons\" align=\"left\">\n",
        "  <td><a target=\"_blank\" href=\"https://www.tensorflow.org/guide/migrate/saved_model\"><img src=\"https://www.tensorflow.org/images/tf_logo_32px.png\">Ver en TensorFlow.org</a></td>\n",
        "  <td><a target=\"_blank\" href=\"https://colab.research.google.com/github/tensorflow/docs-l10n/blob/master/site/es-419/guide/migrate/saved_model.ipynb\"><img src=\"https://www.tensorflow.org/images/colab_logo_32px.png\">Ejecutar en Google Colab</a></td>\n",
        "  <td>     <a target=\"_blank\" href=\"https://github.com/tensorflow/docs-l10n/blob/master/site/es-419/guide/migrate/saved_model.ipynb\"><img src=\"https://www.tensorflow.org/images/GitHub-Mark-32px.png\">Ver código fuente en GitHub</a>\n",
        "</td>\n",
        "  <td><a href=\"https://storage.googleapis.com/tensorflow_docs/docs-l10n/site/es-419/guide/migrate/saved_model.ipynb\"><img src=\"https://www.tensorflow.org/images/download_logo_32px.png\">Descargar bloc de notas</a></td>\n",
        "</table>"
      ]
    },
    {
      "cell_type": "markdown",
      "metadata": {
        "id": "nGyIb7MYJfaM"
      },
      "source": [
        "Una vez que haya migrado su modelo desde los grafos y sesiones de TensorFlow 1 a las APIs de TensorFlow 2, como `tf.function`, `tf.Module`, y `tf.keras.Model`, puede migrar el código de guardado y carga del modelo. Este bloc de notas proporciona ejemplos de cómo se puede guardar y cargar en el formato SavedModel en TensorFlow 1 y TensorFlow 2. Este es un resumen rápido de los cambios relacionados con la API para la migración de TensorFlow 1 a TensorFlow 2:\n",
        "\n",
        " | TensorFlow 1 | Migración a TensorFlow 2\n",
        "--- | --- | ---\n",
        "**Guardado** | `tf.compat.v1.saved_model.Builder`<br>`tf.compat.v1.saved_model.simple_save` | `tf.saved_model.save`<br>Keras: `tf.keras.models.save_model`\n",
        "**Carga** | `tf.compat.v1.saved_model.load` | `tf.saved_model.load`<br>Keras: `tf.keras.models.load_model`\n",
        "**Firmas**: un conjunto de tensores de entrada<br>y salida que<br>pueden usarse para ejecutar el<br> | Generado usando la `*.signature_def` utils<br>(p. ej. `tf.compat.v1.saved_model.predict_signature_def`) | Escriba una `tf.function` y expórtela usando el argumento  `signatures` <br>en `tf.saved_model.save`.\n",
        "**Clasificación<br>y regresión**:<br>tipos especiales de firma | Generado con<br>`tf.compat.v1.saved_model.classification_signature_def`,<br>`tf.compat.v1.saved_model.regression_signature_def`,<br>y ciertas exportaciones del Estimator. | Estos dos tipos de firma han sido eliminados de TensorFlow 2.<br>Si la librería que sirve requiere estos nombres de método,<br>`tf.compat.v1.saved_model.signature_def_utils.MethodNameUpdater`.\n",
        "\n",
        "Para una explicación más detallada del mapeado, consulte la sección [Cambios de TensorFlow 1 a TensorFlow 2](#changes_from_tf1_to_tf2) que aparece a continuación."
      ]
    },
    {
      "cell_type": "markdown",
      "metadata": {
        "id": "r5mR2xsNAGsB"
      },
      "source": [
        "## Preparación\n",
        "\n",
        "Los ejemplos siguientes muestran cómo exportar y cargar el mismo modelo TensorFlow ficticio (definido como `add_two` a continuación) a un formato SavedModel usando las APIs TensorFlow 1 y TensorFlow 2. Comience por establecer las importaciones y las funciones de utilidad:"
      ]
    },
    {
      "cell_type": "code",
      "execution_count": null,
      "metadata": {
        "id": "B94QZyy-kOGQ"
      },
      "outputs": [],
      "source": [
        "import tensorflow as tf\n",
        "import tensorflow.compat.v1 as tf1\n",
        "import shutil\n",
        "\n",
        "def remove_dir(path):\n",
        "  try:\n",
        "    shutil.rmtree(path)\n",
        "  except:\n",
        "    pass\n",
        "\n",
        "def add_two(input):\n",
        "  return input + 2"
      ]
    },
    {
      "cell_type": "markdown",
      "metadata": {
        "id": "ZNVpH5tOCgd9"
      },
      "source": [
        "## TensorFlow 1: Guardar y exportar un SavedModel\n",
        "\n",
        "En TensorFlow 1, usted usa las APIs `tf.compat.v1.saved_model.Builder`, `tf.compat.v1.saved_model.simple_save`, y `tf.estimator.Estimator.export_saved_model` para construir, guardar y exportar el grafo y la sesión de TensorFlow:"
      ]
    },
    {
      "cell_type": "markdown",
      "metadata": {
        "id": "THRLul5ijmTE"
      },
      "source": [
        "### 1. Guarde el grafo como SavedModel con SavedModelBuilder"
      ]
    },
    {
      "cell_type": "code",
      "execution_count": null,
      "metadata": {
        "id": "dcZDQaI8jl3h"
      },
      "outputs": [],
      "source": [
        "remove_dir(\"saved-model-builder\")\n",
        "\n",
        "with tf.Graph().as_default() as g:\n",
        "  with tf1.Session() as sess:\n",
        "    input = tf1.placeholder(tf.float32, shape=[])\n",
        "    output = add_two(input)\n",
        "    print(\"add two output: \", sess.run(output, {input: 3.}))\n",
        "\n",
        "    # Save with SavedModelBuilder\n",
        "    builder = tf1.saved_model.Builder('saved-model-builder')\n",
        "    sig_def = tf1.saved_model.predict_signature_def(\n",
        "        inputs={'input': input},\n",
        "        outputs={'output': output})\n",
        "    builder.add_meta_graph_and_variables(\n",
        "        sess, tags=[\"serve\"], signature_def_map={\n",
        "            tf.saved_model.DEFAULT_SERVING_SIGNATURE_DEF_KEY: sig_def\n",
        "    })\n",
        "    builder.save()"
      ]
    },
    {
      "cell_type": "code",
      "execution_count": null,
      "metadata": {
        "id": "PwtC27VFlwCa"
      },
      "outputs": [],
      "source": [
        "!saved_model_cli run --dir saved-model-builder --tag_set serve \\\n",
        " --signature_def serving_default --input_exprs input=10"
      ]
    },
    {
      "cell_type": "markdown",
      "metadata": {
        "id": "gnBDNTxKG_vR"
      },
      "source": [
        "### 2. Construya un SavedModel para servir"
      ]
    },
    {
      "cell_type": "code",
      "execution_count": null,
      "metadata": {
        "id": "jtMxe2rjHSq9"
      },
      "outputs": [],
      "source": [
        "remove_dir(\"simple-save\")\n",
        "\n",
        "with tf.Graph().as_default() as g:\n",
        "  with tf1.Session() as sess:\n",
        "    input = tf1.placeholder(tf.float32, shape=[])\n",
        "    output = add_two(input)\n",
        "    print(\"add_two output: \", sess.run(output, {input: 3.}))\n",
        "\n",
        "    tf1.saved_model.simple_save(\n",
        "        sess, 'simple-save',\n",
        "        inputs={'input': input},\n",
        "        outputs={'output': output})"
      ]
    },
    {
      "cell_type": "code",
      "execution_count": null,
      "metadata": {
        "id": "AdnqemvIHb2P"
      },
      "outputs": [],
      "source": [
        "!saved_model_cli run --dir simple-save --tag_set serve \\\n",
        " --signature_def serving_default --input_exprs input=10"
      ]
    },
    {
      "cell_type": "markdown",
      "metadata": {
        "id": "r0BNzzAHjnkp"
      },
      "source": [
        "### 3. Exporte el grafo de inferencia del estimador como SavedModel\n",
        "\n",
        "En la definición del `model_fn` Estimator (definido a continuación), puede definir firmas en su modelo devolviendo `export_outputs` en el `tf.estimator.EstimatorSpec`. Existen diferentes tipos de salidas:\n",
        "\n",
        "- `tf.estimator.export.ClassificationOutput`\n",
        "- `tf.estimator.export.RegressionOutput`\n",
        "- `tf.estimator.export.PredictOutput`\n",
        "\n",
        "Éstas producirán tipos de firmas de clasificación, regresión y predicción, respectivamente.\n",
        "\n",
        "Cuando se exporta el estimador con `tf.estimator.Estimator.export_saved_model`, estas firmas se guardarán con el modelo."
      ]
    },
    {
      "cell_type": "code",
      "execution_count": null,
      "metadata": {
        "id": "3nQ5Stnxjhfs"
      },
      "outputs": [],
      "source": [
        "def model_fn(features, labels, mode):\n",
        "  output = add_two(features['input'])\n",
        "  step = tf1.train.get_global_step()\n",
        "  return tf.estimator.EstimatorSpec(\n",
        "      mode,\n",
        "      predictions=output,\n",
        "      train_op=step.assign_add(1),\n",
        "      loss=tf.constant(0.),\n",
        "      export_outputs={\n",
        "          tf.saved_model.DEFAULT_SERVING_SIGNATURE_DEF_KEY: \\\n",
        "          tf.estimator.export.PredictOutput({'output': output})})\n",
        "est = tf.estimator.Estimator(model_fn, 'estimator-checkpoints')\n",
        "\n",
        "# Train for one step to create a checkpoint.\n",
        "def train_fn():\n",
        "  return tf.data.Dataset.from_tensors({'input': 3.})\n",
        "est.train(train_fn, steps=1)\n",
        "\n",
        "# This utility function `build_raw_serving_input_receiver_fn` takes in raw\n",
        "# tensor features and builds an \"input serving receiver function\", which\n",
        "# creates placeholder inputs to the model.\n",
        "serving_input_fn = tf.estimator.export.build_raw_serving_input_receiver_fn(\n",
        "    {'input': tf.constant(3.)})  # Pass in a dummy input batch.\n",
        "estimator_path = est.export_saved_model('exported-estimator', serving_input_fn)\n",
        "\n",
        "# Estimator's export_saved_model creates a time stamped directory. Move this\n",
        "# to a set path so it can be inspected with `saved_model_cli` in the cell below.\n",
        "!rm -rf estimator-model\n",
        "import shutil\n",
        "shutil.move(estimator_path, 'estimator-model')"
      ]
    },
    {
      "cell_type": "code",
      "execution_count": null,
      "metadata": {
        "id": "8_gD2gkE7CMu"
      },
      "outputs": [],
      "source": [
        "!saved_model_cli run --dir estimator-model --tag_set serve \\\n",
        " --signature_def serving_default --input_exprs input=[10]"
      ]
    },
    {
      "cell_type": "markdown",
      "metadata": {
        "id": "DyBvrNQgIhIo"
      },
      "source": [
        "## TensorFlow 2: Guardar y exportar un SavedModel"
      ]
    },
    {
      "cell_type": "markdown",
      "metadata": {
        "id": "BZmFH-eIjqjB"
      },
      "source": [
        "### Guardar y exportar un SavedModel definido con tf.Module\n",
        "\n",
        "Para exportar su modelo en TensorFlow 2, debe definir un `tf.Module` o un `tf.keras.Model` que contenga todas las variables y funciones de su modelo. Luego, puede llamar a `tf.saved_model.save` para crear un SavedModel. Consulte la sección *Guardar un modelo personalizado* de la guía [Utilizar el formato SavedModel](../saved_model.ipynb) para obtener más información."
      ]
    },
    {
      "cell_type": "code",
      "execution_count": null,
      "metadata": {
        "id": "_j-PwgP_jrgw"
      },
      "outputs": [],
      "source": [
        "class MyModel(tf.Module):\n",
        "  @tf.function\n",
        "  def __call__(self, input):\n",
        "    return add_two(input)\n",
        "\n",
        "model = MyModel()\n",
        "\n",
        "@tf.function\n",
        "def serving_default(input):\n",
        "  return {'output': model(input)}\n",
        "\n",
        "signature_function = serving_default.get_concrete_function(\n",
        "    tf.TensorSpec(shape=[], dtype=tf.float32))\n",
        "tf.saved_model.save(\n",
        "    model, 'tf2-save', signatures={\n",
        "        tf.saved_model.DEFAULT_SERVING_SIGNATURE_DEF_KEY: signature_function})"
      ]
    },
    {
      "cell_type": "code",
      "execution_count": null,
      "metadata": {
        "id": "slvU4vZN756F"
      },
      "outputs": [],
      "source": [
        "!saved_model_cli run --dir tf2-save --tag_set serve \\\n",
        " --signature_def serving_default --input_exprs input=10"
      ]
    },
    {
      "cell_type": "markdown",
      "metadata": {
        "id": "UYpSfbBJjr33"
      },
      "source": [
        "### Guardar y exportar un SavedModel definido con Keras\n",
        "\n",
        "Obsoleto: Para los objetos Keras, se recomienda usar el nuevo formato de alto nivel `.keras` y `tf.keras.Model.export`, como se demuestra en la guía [aquí](https://www.tensorflow.org/guide/keras/save_and_serialize). El formato SavedModel de bajo nivel sigue siendo compatible con el código existente.\n",
        "\n",
        "Las APIs de Keras para guardar y exportar (`Model.save` o `tf.keras.models.save_model`) pueden exportar un SavedModel desde un `tf.keras.Model`. Consulte [Guardar y cargar modelos Keras](../..guide/keras/save_and_serialize) para más detalles."
      ]
    },
    {
      "cell_type": "code",
      "execution_count": null,
      "metadata": {
        "id": "mMcjhzyRjvp6"
      },
      "outputs": [],
      "source": [
        "inp = tf.keras.Input(3)\n",
        "out = add_two(inp)\n",
        "model = tf.keras.Model(inputs=inp, outputs=out)\n",
        "\n",
        "@tf.function(input_signature=[tf.TensorSpec(shape=[], dtype=tf.float32)])\n",
        "def serving_default(input):\n",
        "  return {'output': model(input)}\n",
        "\n",
        "model.save('keras-model', save_format='tf', signatures={\n",
        "        tf.saved_model.DEFAULT_SERVING_SIGNATURE_DEF_KEY: serving_default})"
      ]
    },
    {
      "cell_type": "code",
      "execution_count": null,
      "metadata": {
        "id": "4P93WP5R7-VT"
      },
      "outputs": [],
      "source": [
        "!saved_model_cli run --dir keras-model --tag_set serve \\\n",
        " --signature_def serving_default --input_exprs input=10"
      ]
    },
    {
      "cell_type": "markdown",
      "metadata": {
        "id": "SEKe9rGgoGCw"
      },
      "source": [
        "## Cargar un SavedModel\n",
        "\n",
        "Un SavedModel guardado con cualquiera de las APIs anteriores puede ser cargado usando las APIs de TensorFlow 1 o TensorFlow 2.\n",
        "\n",
        "Un SavedModel de TensorFlow 1 puede usarse generalmente para la inferencia cuando se carga en TensorFlow 2, pero el entrenamiento (generación de gradientes) sólo es posible si el SavedModel contiene *variables de referencia*. Puede verificar el dtype de las variables: si el dtype de la variable contiene \"_ref\", entonces es una variable de referencia.\n",
        "\n",
        "Un SavedModel de TensorFlow 2 puede cargarse y ejecutarse desde TensorFlow 1 siempre que el SavedModel se guarde con firmas.\n",
        "\n",
        "Las secciones siguientes contienen ejemplos de código que muestran cómo cargar los SavedModels guardados en las secciones anteriores y llamar a la firma exportada."
      ]
    },
    {
      "cell_type": "markdown",
      "metadata": {
        "id": "hLztK_0YoTEP"
      },
      "source": [
        "### TensorFlow 1: Cargar un SavedModel con tf.saved_model.load\n",
        "\n",
        "En TensorFlow 1, puede importar un SavedModel directamente en el grafo y la sesión actuales usando `tf.saved_model.load`. Puede llamar a `Session.run` en los nombres de entrada y salida del tensor:"
      ]
    },
    {
      "cell_type": "code",
      "execution_count": null,
      "metadata": {
        "id": "IMO0laj-m0p9"
      },
      "outputs": [],
      "source": [
        "def load_tf1(path, input):\n",
        "  print('Loading from', path)\n",
        "  with tf.Graph().as_default() as g:\n",
        "    with tf1.Session() as sess:\n",
        "      meta_graph = tf1.saved_model.load(sess, [\"serve\"], path)\n",
        "      sig_def = meta_graph.signature_def[tf.saved_model.DEFAULT_SERVING_SIGNATURE_DEF_KEY]\n",
        "      input_name = sig_def.inputs['input'].name\n",
        "      output_name = sig_def.outputs['output'].name\n",
        "      print('  Output with input', input, ': ', \n",
        "            sess.run(output_name, feed_dict={input_name: input}))\n",
        "\n",
        "load_tf1('saved-model-builder', 5.)\n",
        "load_tf1('simple-save', 5.)\n",
        "load_tf1('estimator-model', [5.])  # Estimator's input must be batched.\n",
        "load_tf1('tf2-save', 5.)\n",
        "load_tf1('keras-model', 5.)"
      ]
    },
    {
      "cell_type": "markdown",
      "metadata": {
        "id": "FbR3sfvooVBN"
      },
      "source": [
        "### TensorFlow 2: Cargar un modelo guardado con tf.saved_model\n",
        "\n",
        "En TensorFlow 2, los objetos se cargan en un objeto Python que almacena las variables y funciones. Esto es compatible con los modelos guardados de TensorFlow 1.\n",
        "\n",
        "Consulte los documentos de la API `tf.saved_model.load` y [Cargar y usar un modelo personalizado](../../guide/saved_model#loading_and_using_a_custom_model) de la guía [Usar el formato SavedModel](../..guide/saved_model) para más detalles."
      ]
    },
    {
      "cell_type": "code",
      "execution_count": null,
      "metadata": {
        "id": "OA52ezWV_KgL"
      },
      "outputs": [],
      "source": [
        "def load_tf2(path, input):\n",
        "  print('Loading from', path)\n",
        "  loaded = tf.saved_model.load(path)\n",
        "  out = loaded.signatures[tf.saved_model.DEFAULT_SERVING_SIGNATURE_DEF_KEY](\n",
        "      tf.constant(input))['output']\n",
        "  print('  Output with input', input, ': ', out)\n",
        "\n",
        "load_tf2('saved-model-builder', 5.)\n",
        "load_tf2('simple-save', 5.)\n",
        "load_tf2('estimator-model', [5.])  # Estimator's input must be batched.\n",
        "load_tf2('tf2-save', 5.)\n",
        "load_tf2('keras-model', 5.)"
      ]
    },
    {
      "cell_type": "markdown",
      "metadata": {
        "id": "Gz3VFn5aAfmK"
      },
      "source": [
        "Los modelos guardados con la API TensorFlow 2 también pueden acceder a funciones `tf.function` y variables que se adjuntan al modelo (en lugar de las exportadas como firmas). Por ejemplo:"
      ]
    },
    {
      "cell_type": "code",
      "execution_count": null,
      "metadata": {
        "id": "IfMTp-TGAfOs"
      },
      "outputs": [],
      "source": [
        "loaded = tf.saved_model.load('tf2-save')\n",
        "print('restored __call__:', loaded.__call__)\n",
        "print('output with input 5.', loaded(5))"
      ]
    },
    {
      "cell_type": "markdown",
      "metadata": {
        "id": "VMoErNKHoXEg"
      },
      "source": [
        "### TensorFlow 2: Cargar un modelo guardado con Keras\n",
        "\n",
        "Obsoleto: Para los objetos Keras, se recomienda usar el nuevo formato de alto nivel `.keras` y `tf.keras.Model.export`, como se demuestra en la guía [aquí](https://www.tensorflow.org/guide/keras/save_and_serialize). El formato SavedModel de bajo nivel sigue siendo compatible con el código existente.\n",
        "\n",
        "La API de carga de Keras (`tf.keras.models.load_model`) le permite volver a cargar un modelo guardado en un objeto Modelo de Keras. Tenga en cuenta que esto sólo le permite cargar SavedModels guardados con Keras (`Model.save` o `tf.keras.models.save_model`).\n",
        "\n",
        "Los modelos guardados con `tf.saved_model.save` deben cargarse con `tf.saved_model.load`. Puede cargar un modelo Keras guardado con `Model.save` usando `tf.saved_model.load` pero sólo obtendrá el grafo de TensorFlow. Consulte la documentación de la API `tf.keras.models.load_model` y [Guardar y cargar modelos Keras](https://www.tensorflow.org/guide/keras/save_and_serialize#savedmodel_format) para más detalles."
      ]
    },
    {
      "cell_type": "code",
      "execution_count": null,
      "metadata": {
        "id": "ZFUAxK0YeIAe"
      },
      "outputs": [],
      "source": [
        "loaded_model = tf.keras.models.load_model('keras-model')\n",
        "loaded_model.predict_on_batch(tf.constant([1, 3, 4]))"
      ]
    },
    {
      "cell_type": "markdown",
      "metadata": {
        "id": "Tz4eAAGY19MM"
      },
      "source": [
        "## GraphDef y MetaGraphDef\n",
        "\n",
        "&lt;a name=\"graphdef_and_metagraphdef\"&gt;\n",
        "\n",
        "No existe una forma directa de cargar un `GraphDef` o `MetaGraphDef` sin procesar en TF2. Sin embargo, puede convertir el código TF1 que importa el grafo en una [`concrete_function`](https://tensorflow.org/guide/concrete_function) TF2 usando [`v1.wrap_function`](https://www.tensorflow.org/api_docs/python/tf/compat/v1/wrap_function).\n",
        "\n",
        "Primero, guarde un MetaGraphDef:"
      ]
    },
    {
      "cell_type": "code",
      "execution_count": null,
      "metadata": {
        "id": "grKam9zGnNRZ"
      },
      "outputs": [],
      "source": [
        "# Save a simple multiplication computation:\n",
        "with tf.Graph().as_default() as g:\n",
        "  x = tf1.placeholder(tf.float32, shape=[], name='x')\n",
        "  v = tf.Variable(3.0, name='v')\n",
        "  y = tf.multiply(x, v, name='y')\n",
        "  with tf1.Session() as sess:\n",
        "    sess.run(v.initializer)\n",
        "    print(sess.run(y, feed_dict={x: 5}))\n",
        "    s = tf1.train.Saver()\n",
        "    s.export_meta_graph('multiply.pb', as_text=True)\n",
        "    s.save(sess, 'multiply_values.ckpt')"
      ]
    },
    {
      "cell_type": "markdown",
      "metadata": {
        "id": "bJnCe7eYrXev"
      },
      "source": [
        "Usando las API del TF1, puede usar `tf1.train.import_meta_graph` para importar el grafo y restaurar los valores:"
      ]
    },
    {
      "cell_type": "code",
      "execution_count": null,
      "metadata": {
        "id": "3bbcGZ4CoVDL"
      },
      "outputs": [],
      "source": [
        "with tf.Graph().as_default() as g:\n",
        "  meta = tf1.train.import_meta_graph('multiply.pb')\n",
        "  x = g.get_tensor_by_name('x:0')\n",
        "  y = g.get_tensor_by_name('y:0')\n",
        "  with tf1.Session() as sess:\n",
        "    meta.restore(sess, 'multiply_values.ckpt')\n",
        "    print(sess.run(y, feed_dict={x: 5}))"
      ]
    },
    {
      "cell_type": "markdown",
      "metadata": {
        "id": "s9OnHOLDrnco"
      },
      "source": [
        "No existen APIs de TF2 para cargar el grafo, pero puede importarlo en una función concreta que pueda ejecutarse en modo eager:"
      ]
    },
    {
      "cell_type": "code",
      "execution_count": null,
      "metadata": {
        "id": "yAyGmDLlpVBX"
      },
      "outputs": [],
      "source": [
        "def import_multiply():\n",
        "  # Any graph-building code is allowed here.\n",
        "  tf1.train.import_meta_graph('multiply.pb')\n",
        "\n",
        "# Creates a tf.function with all the imported elements in the function graph.\n",
        "wrapped_import = tf1.wrap_function(import_multiply, [])\n",
        "import_graph = wrapped_import.graph\n",
        "x = import_graph.get_tensor_by_name('x:0')\n",
        "y = import_graph.get_tensor_by_name('y:0')\n",
        "\n",
        "# Restore the variable values.\n",
        "tf1.train.Saver(wrapped_import.variables).restore(\n",
        "    sess=None, save_path='multiply_values.ckpt')\n",
        "\n",
        "# Create a concrete function by pruning the wrap_function (similar to sess.run).\n",
        "multiply_fn = wrapped_import.prune(feeds=x, fetches=y)\n",
        "\n",
        "# Run this function\n",
        "multiply_fn(tf.constant(5.))  # inputs to concrete functions must be Tensors."
      ]
    },
    {
      "cell_type": "markdown",
      "metadata": {
        "id": "GZ5vGJ0IDorc"
      },
      "source": [
        "## Cambios de TensorFlow 1 a TensorFlow 2\n",
        "\n",
        "&lt;a id=\"changes_from_tf1_to_tf2\"&gt;\n",
        "\n",
        "Esta sección enumera los términos clave de guardado y carga de TensorFlow 1, sus equivalentes en TensorFlow 2 y lo que ha cambiado.\n",
        "\n",
        "### SavedModel\n",
        "\n",
        "[SavedModel](../../guide/saved_model.ipynb) es un formato que almacena un programa TensorFlow completo con parámetros y computación. Contiene firmas usadas por plataformas servidoras para ejecutar el modelo.\n",
        "\n",
        "El formato del archivo en sí no ha cambiado significativamente, por lo que los SavedModels pueden ser cargados y servidos usando tanto la API de TensorFlow 1 como la de TensorFlow 2.\n",
        "\n",
        "**Diferencias entre TensorFlow 1 y TensorFlow 2**\n",
        "\n",
        "Los casos de uso de *servir* e *inferencia* no se han actualizado en TensorFlow 2, aparte de los cambios en la API: se ha introducido una mejora en su capacidad para *reutilizar* y *erscribir modelos* cargados desde SavedModel.\n",
        "\n",
        "En TensorFlow 2, el programa está representado por objetos como `tf.Variable`, `tf.Module`, o modelos Keras de nivel superior (`tf.keras.Model`) y capas (`tf.keras.layers`). Ya no hay variables globales que tengan valores almacenados en una sesión, y el grafo existe ahora en diferentes `tf.function`s. En consecuencia, durante la exportación de un modelo, SavedModel guarda los grafos de cada componente y función por separado.\n",
        "\n",
        "Cuando usted escribe un programa TensorFlow con las APIs Python de TensorFlow, debe construir un objeto para administrar las variables, funciones y otros recursos. Generalmente, esto se consigue usando las APIs de Keras, pero también puede construir el objeto creando o subclasificando `tf.Module`.\n",
        "\n",
        "Los modelos Keras (`tf.keras.Model`) y `tf.Module` realizan un seguimiento automático de las variables y funciones vinculadas a ellos. SavedModel guarda estas conexiones entre módulos, variables y funciones, para que puedan ser restauradas al cargar.\n",
        "\n",
        "### Firmas\n",
        "\n",
        "Las firmas son los puntos finales de un SavedModel: indican al usuario cómo ejecutar el modelo y qué entradas necesita.\n",
        "\n",
        "En TensorFlow 1, las firmas se crean enumerando los tensores de entrada y salida. En TensorFlow 2, las firmas se generan pasando *funciones concretas* (lea más sobre las funciones TensorFlow en la guía [Introducción a los grafos y tf.function](../intro_to_graphs.ipynb), en particular en la sección *Polimorfismo: una Función, muchos grafos*). En resumen, se genera una función concreta a partir de una `tf.function`:\n",
        "\n",
        "```python\n",
        "# Option 1: Specify an input signature.\n",
        "@tf.function(input_signature=[...])\n",
        "def fn(...):\n",
        "  ...\n",
        "  return outputs\n",
        "\n",
        "tf.saved_model.save(model, path, signatures={\n",
        "    'name': fn\n",
        "})\n",
        "```\n",
        "\n",
        "```python\n",
        "# Option 2: Call `get_concrete_function`\n",
        "@tf.function\n",
        "def fn(...):\n",
        "  ...\n",
        "  return outputs\n",
        "\n",
        "tf.saved_model.save(model, path, signatures={\n",
        "    'name': fn.get_concrete_function(...)\n",
        "})\n",
        "```\n",
        "\n",
        "### `Session.run`\n",
        "\n",
        "En TensorFlow 1, se podía llamar a `Session.run` con el grafo importado siempre que se conocieran los nombres de los tensores. Esto le permite recuperar los valores de las variables restauradas, o ejecutar partes del modelo que no se exportaron en las firmas.\n",
        "\n",
        "En TensorFlow 2, puede acceder directamente a una variable, como una matriz de ponderaciones (`kernel`):\n",
        "\n",
        "```python\n",
        "model = tf.Module()\n",
        "model.dense_layer = tf.keras.layers.Dense(...)\n",
        "tf.saved_model.save('my_saved_model')\n",
        "loaded = tf.saved_model.load('my_saved_model')\n",
        "loaded.dense_layer.kernel\n",
        "```\n",
        "\n",
        "o llamar a `tf.function`s adjuntas al objeto modelo: por ejemplo, `loaded.__call__`.\n",
        "\n",
        "A diferencia del TF1, no hay forma de extraer partes de una función y acceder a valores intermedios. Usted *debe* exportar toda la funcionalidad necesaria en el objeto guardado.\n"
      ]
    },
    {
      "cell_type": "markdown",
      "metadata": {
        "id": "b6NG9JvUwJxn"
      },
      "source": [
        "## Notas sobre la migración a TensorFlow Serving\n",
        "\n",
        "SavedModel fue creado originalmente para trabajar con [TensorFlow Serving](https://www.tensorflow.org/tfx/guide/serving). Esta plataforma ofrece diferentes tipos de solicitudes de predicción: clasificar, hacer regresión y predecir.\n",
        "\n",
        "La API **TensorFlow 1** le permite crear este tipo de firmas con las utilerías:\n",
        "\n",
        "- `tf.compat.v1.saved_model.classification_signature_def`\n",
        "- `tf.compat.v1.saved_model.regression_signature_def`\n",
        "- `tf.compat.v1.saved_model.predict_signature_def`\n",
        "\n",
        "La [clasificación](https://www.tensorflow.org/tfx/serving/signature_defs#classification_signaturedef) (`classification_signature_def`) y la [regresión](https://www.tensorflow.org/tfx/serving/signature_defs#regression_signaturedef) (`regression_signature_def`) restringen las entradas y salidas, de modo que las entradas deben ser un `tf.Example`, y las salidas deben ser `classes`, `scores` o `prediction`. Por su parte, [la firma de predicción](https://www.tensorflow.org/tfx/serving/signature_defs#predict_signaturedef) (`predict_signature_def`) no tiene restricciones.\n",
        "\n",
        "Los SavedModels exportados con la API **TensorFlow 2** son compatibles con TensorFlow Serving, pero sólo contendrán firmas de predicción. Se han eliminado las firmas de clasificación y regresión.\n",
        "\n",
        "Si necesita usar las firmas de clasificación y regresión, puede modificar el SavedModel exportado utilizando `tf.compat.v1.saved_model.signature_def_utils.MethodNameUpdater`."
      ]
    },
    {
      "cell_type": "markdown",
      "metadata": {
        "id": "a3acd3b86215"
      },
      "source": [
        "## Siguientes pasos\n",
        "\n",
        "Para saber más sobre SavedModels en TensorFlow 2, consulte las siguientes guías:\n",
        "\n",
        "- [Uso del formato SavedModel](https://www.tensorflow.org/guide/saved_model)\n",
        "- [Guardar y cargar modelos de Keras](https://www.tensorflow.org/guide/keras/save_and_serialize)\n",
        "\n",
        "Si está usando TensorFlow Hub, estas guías pueden resultarle útiles:\n",
        "\n",
        "- [TensorFlow Hub: Compatibilidad de modelos para TensorFlow 1/TensorFlow 2](https://www.tensorflow.org/hub/model_compatibility)\n",
        "- [Migrar de TensorFlow 1 a TensorFlow 2 con TensorFlow Hub](https://www.tensorflow.org/hub/migration_tf2)"
      ]
    }
  ],
  "metadata": {
    "colab": {
      "collapsed_sections": [],
      "name": "saved_model.ipynb",
      "toc_visible": true
    },
    "kernelspec": {
      "display_name": "Python 3",
      "name": "python3"
    }
  },
  "nbformat": 4,
  "nbformat_minor": 0
}
