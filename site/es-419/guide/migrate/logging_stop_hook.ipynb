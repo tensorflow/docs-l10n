{
  "cells": [
    {
      "cell_type": "markdown",
      "metadata": {
        "id": "wJcYs_ERTnnI"
      },
      "source": [
        "##### Copyright 2021 The TensorFlow Authors."
      ]
    },
    {
      "cell_type": "code",
      "execution_count": null,
      "metadata": {
        "cellView": "form",
        "id": "HMUDt0CiUJk9"
      },
      "outputs": [],
      "source": [
        "#@title Licensed under the Apache License, Version 2.0 (the \"License\");\n",
        "# you may not use this file except in compliance with the License.\n",
        "# You may obtain a copy of the License at\n",
        "#\n",
        "# https://www.apache.org/licenses/LICENSE-2.0\n",
        "#\n",
        "# Unless required by applicable law or agreed to in writing, software\n",
        "# distributed under the License is distributed on an \"AS IS\" BASIS,\n",
        "# WITHOUT WARRANTIES OR CONDITIONS OF ANY KIND, either express or implied.\n",
        "# See the License for the specific language governing permissions and\n",
        "# limitations under the License."
      ]
    },
    {
      "cell_type": "markdown",
      "metadata": {
        "id": "77z2OchJTk0l"
      },
      "source": [
        "# Cómo migrar LoggingTensorHook y StopAtStepHook a las retrollamadas de Keras\n",
        "\n",
        "<table class=\"tfo-notebook-buttons\" align=\"left\">\n",
        "  <td>     <a target=\"_blank\" href=\"https://www.tensorflow.org/guide/migrate/logging_stop_hook\">     <img src=\"https://www.tensorflow.org/images/tf_logo_32px.png\">     Ver en TensorFlow.org</a>\n",
        "</td>\n",
        "  <td>     <a target=\"_blank\" href=\"https://colab.research.google.com/github/tensorflow/docs-l10n/blob/master/site/es-419/guide/migrate/logging_stop_hook.ipynb\">     <img src=\"https://www.tensorflow.org/images/colab_logo_32px.png\">     Ejecutar en Google Colab</a>\n",
        "</td>\n",
        "  <td>     <a target=\"_blank\" href=\"https://github.com/tensorflow/docs-l10n/blob/master/site/es-419/guide/migrate/logging_stop_hook.ipynb\"><img src=\"https://www.tensorflow.org/images/GitHub-Mark-32px.png\">Ver código fuente en GitHub</a>\n",
        "</td>\n",
        "  <td><a href=\"https://storage.googleapis.com/tensorflow_docs/docs-l10n/site/es-419/guide/migrate/logging_stop_hook.ipynb\"><img src=\"https://www.tensorflow.org/images/download_logo_32px.png\">Descargar  bloc de notas</a></td>\n",
        "</table>"
      ]
    },
    {
      "cell_type": "markdown",
      "metadata": {
        "id": "meUTrR4I6m1C"
      },
      "source": [
        "En TensorFlow 1, se utiliza `tf.estimator.LoggingTensorHook` para monitorizar y registrar tensores, mientras que `tf.estimator.StopAtStepHook` ayuda a detener el entrenamiento en un paso específico cuando se entrena con `tf.estimator.Estimator`. Este bloc de notas muestra cómo migrar de estas API a sus equivalentes en TensorFlow 2 mediante retrollamadas personalizadas de Keras (`tf.keras.callbacks.Callback`) con `Model.fit`.\n",
        "\n",
        "Las [retrollamadas](https://www.tensorflow.org/guide/keras/custom_callback) de Keras son objetos que se llaman en diferentes puntos durante el entrenamiento/evaluación/predicción en las API incorporadas de Keras `Model.fit`/`Model.evaluate`/`Model.predict`. Puede obtener más información sobre las retrollamadas en la documentación de la API `tf.keras.callbacks.Callback`, así como en las guías [Escribiendo sus propias retrollamadas](../..guide/keras/custom_callback.ipynb/) y [Entrenamiento y evaluación con los métodos incorporados](https://www.tensorflow.org/guide/keras/train_and_evaluate) (la sección *Usando retrollamadas*). Para migrar de `SessionRunHook` a TensorFlow 1 mediante las retrollamadas de Keras en TensorFlow 2, consulte la guía [del entrenamiento para migrar con lógica asistida](sessionrunhook_callback.ipynb)."
      ]
    },
    {
      "cell_type": "markdown",
      "metadata": {
        "id": "YdZSoIXEbhg-"
      },
      "source": [
        "## Preparación\n",
        "\n",
        "Empiece con imports y un conjunto de datos sencillo a modo de demostración:"
      ]
    },
    {
      "cell_type": "code",
      "execution_count": null,
      "metadata": {
        "id": "iE0vSfMXumKI"
      },
      "outputs": [],
      "source": [
        "import tensorflow as tf\n",
        "import tensorflow.compat.v1 as tf1"
      ]
    },
    {
      "cell_type": "code",
      "execution_count": null,
      "metadata": {
        "id": "m7rnGxsXtDkV"
      },
      "outputs": [],
      "source": [
        "features = [[1., 1.5], [2., 2.5], [3., 3.5]]\n",
        "labels = [[0.3], [0.5], [0.7]]\n",
        "\n",
        "# Define an input function.\n",
        "def _input_fn():\n",
        "  return tf1.data.Dataset.from_tensor_slices((features, labels)).batch(1)"
      ]
    },
    {
      "cell_type": "markdown",
      "metadata": {
        "id": "4uXff1BEssdE"
      },
      "source": [
        "## TensorFlow 1: Registro de tensores y parada del entrenamiento con las API de tf.estimator"
      ]
    },
    {
      "cell_type": "markdown",
      "metadata": {
        "id": "zW-X5cmzmkuw"
      },
      "source": [
        "En TensorFlow 1, se definen varios hooks para controlar el comportamiento del entrenamiento. Posteriormente, se pasan estos hooks a `tf.estimator.EstimatorSpec`.\n",
        "\n",
        "En el siguiente ejemplo:\n",
        "\n",
        "- Para monitorear o registrar tensores, por ejemplo, pesos o pérdidas del modelo, se utiliza `tf.estimator.LoggingTensorHook` (`tf.train.LoggingTensorHook` es su alias).\n",
        "- Para detener el entrenamiento en un paso específico, se utiliza `tf.estimator.StopAtStepHook` (`tf.train.StopAtStepHook` es su alias)."
      ]
    },
    {
      "cell_type": "code",
      "execution_count": null,
      "metadata": {
        "id": "lqe9obf7suIj"
      },
      "outputs": [],
      "source": [
        "def _model_fn(features, labels, mode):\n",
        "  dense = tf1.layers.Dense(1)\n",
        "  logits = dense(features)\n",
        "  loss = tf1.losses.mean_squared_error(labels=labels, predictions=logits)\n",
        "  optimizer = tf1.train.AdagradOptimizer(0.05)\n",
        "  train_op = optimizer.minimize(loss, global_step=tf1.train.get_global_step())\n",
        "\n",
        "  # Define the stop hook.\n",
        "  stop_hook = tf1.train.StopAtStepHook(num_steps=2)\n",
        "\n",
        "  # Access tensors to be logged by names.\n",
        "  kernel_name = tf.identity(dense.weights[0])\n",
        "  bias_name = tf.identity(dense.weights[1])\n",
        "  logging_weight_hook = tf1.train.LoggingTensorHook(\n",
        "      tensors=[kernel_name, bias_name],\n",
        "      every_n_iter=1)\n",
        "  # Log the training loss by the tensor object.\n",
        "  logging_loss_hook = tf1.train.LoggingTensorHook(\n",
        "      {'loss from LoggingTensorHook': loss},\n",
        "      every_n_secs=3)\n",
        "\n",
        "  # Pass all hooks to `EstimatorSpec`.\n",
        "  return tf1.estimator.EstimatorSpec(mode,\n",
        "                                     loss=loss,\n",
        "                                     train_op=train_op,\n",
        "                                     training_hooks=[stop_hook,\n",
        "                                                     logging_weight_hook,\n",
        "                                                     logging_loss_hook])\n",
        "\n",
        "estimator = tf1.estimator.Estimator(model_fn=_model_fn)\n",
        "\n",
        "# Begin training.\n",
        "# The training will stop after 2 steps, and the weights/loss will also be logged.\n",
        "estimator.train(_input_fn)"
      ]
    },
    {
      "cell_type": "markdown",
      "metadata": {
        "id": "KEmzBjfnsxwT"
      },
      "source": [
        "## TensorFlow 2: Registrar tensores y detener el entrenamiento con retrollamadas personalizadas y Model.fit"
      ]
    },
    {
      "cell_type": "markdown",
      "metadata": {
        "id": "839R9i4xheI5"
      },
      "source": [
        "En TensorFlow 2, cuando se utiliza Keras `Model.fit` (o `Model.evaluate`) para el entrenamiento/evaluación, se puede configurar la monitorización del tensor y la parada del entrenamiento definiendo Keras `tf.keras.callbacks.Callback`s personalizado. Luego, los puede transferir al parámetro `callbacks` de `Model.fit` (o `Model.evaluate`). (Obtenga más información en la guía [Escribiendo sus propias retrollamadas](../..guide/keras/custom_callback.ipynb)).\n",
        "\n",
        "En el siguiente ejemplo:\n",
        "\n",
        "- Para recrear las funcionalidades de `StopAtStepHook`, defina una retrollamada personalizada (denominada `StopAtStepCallback`) en la que anule el método `on_batch_end` para parar el entrenamiento después de un determinado número de pasos.\n",
        "- Para recrear el comportamiento de `LoggingTensorHook`, defina una retrollamada personalizada (`LoggingTensorCallback`) en la que registre y extraiga manualmente los tensores registrados, ya que no es posible acceder a los tensores por su nombre. También puede implementar la frecuencia de registro dentro de la retrollamada personalizada. En el siguiente ejemplo se imprimirán los pesos cada dos pasos. También son posibles otras estrategias como el registro cada N segundos."
      ]
    },
    {
      "cell_type": "code",
      "execution_count": null,
      "metadata": {
        "id": "atVciNgPs0fw"
      },
      "outputs": [],
      "source": [
        "class StopAtStepCallback(tf.keras.callbacks.Callback):\n",
        "  def __init__(self, stop_step=None):\n",
        "    super().__init__()\n",
        "    self._stop_step = stop_step\n",
        "\n",
        "  def on_batch_end(self, batch, logs=None):\n",
        "    if self.model.optimizer.iterations >= self._stop_step:\n",
        "      self.model.stop_training = True\n",
        "      print('\\nstop training now')\n",
        "\n",
        "class LoggingTensorCallback(tf.keras.callbacks.Callback):\n",
        "  def __init__(self, every_n_iter):\n",
        "      super().__init__()\n",
        "      self._every_n_iter = every_n_iter\n",
        "      self._log_count = every_n_iter\n",
        "\n",
        "  def on_batch_end(self, batch, logs=None):\n",
        "    if self._log_count > 0:\n",
        "      self._log_count -= 1\n",
        "      print(\"Logging Tensor Callback: dense/kernel:\",\n",
        "            model.layers[0].weights[0])\n",
        "      print(\"Logging Tensor Callback: dense/bias:\",\n",
        "            model.layers[0].weights[1])\n",
        "      print(\"Logging Tensor Callback loss:\", logs[\"loss\"])\n",
        "    else:\n",
        "      self._log_count -= self._every_n_iter"
      ]
    },
    {
      "cell_type": "markdown",
      "metadata": {
        "id": "30a8b71263e0"
      },
      "source": [
        "Cuando termine, transfiera las nuevas retrollamadas -`StopAtStepCallback` y `LoggingTensorCallback` al parámetro `callbacks` de `Model.fit`:"
      ]
    },
    {
      "cell_type": "code",
      "execution_count": null,
      "metadata": {
        "id": "Kip65sYBlKiu"
      },
      "outputs": [],
      "source": [
        "dataset = tf.data.Dataset.from_tensor_slices((features, labels)).batch(1)\n",
        "model = tf.keras.models.Sequential([tf.keras.layers.Dense(1)])\n",
        "optimizer = tf.keras.optimizers.Adagrad(learning_rate=0.05)\n",
        "model.compile(optimizer, \"mse\")\n",
        "\n",
        "# Begin training.\n",
        "# The training will stop after 2 steps, and the weights/loss will also be logged.\n",
        "model.fit(dataset, callbacks=[StopAtStepCallback(stop_step=2),\n",
        "                              LoggingTensorCallback(every_n_iter=2)])"
      ]
    },
    {
      "cell_type": "markdown",
      "metadata": {
        "id": "19508f4720f5"
      },
      "source": [
        "## Siguientes pasos\n",
        "\n",
        "Obtenga más información sobre las retrollamadas en:\n",
        "\n",
        "- Documentos de la API: `tf.keras.callbacks.Callback`\n",
        "- Guía: [Escribiendo sus propias retrollamadas](../..guide/keras/custom_callback.ipynb/)\n",
        "- Guía: [Entrenamiento y evaluación con los métodos incorporados](https://www.tensorflow.org/guide/keras/train_and_evaluate) (la sección *Usar retrollamadas*)\n",
        "\n",
        "También le pueden resultar útiles los siguientes recursos relacionados con la migración:\n",
        "\n",
        "- La [Guía de migración de parada anticipada](early_stopping.ipynb): `tf.keras.callbacks.EarlyStopping` es una retrollamada de parada anticipada incorporada.\n",
        "- La [Guía de migración de TensorBoard](tensorboard.ipynb): TensorBoard permite el seguimiento y la visualización de métricas\n",
        "- La [guía del entrenamiento para migrar a la lógica asistida](sessionrunhook_callback.ipynb): De `SessionRunHook` en TensorFlow 1 a las retrollamadas de Keras en TensorFlow 2"
      ]
    }
  ],
  "metadata": {
    "colab": {
      "collapsed_sections": [],
      "name": "logging_stop_hook.ipynb",
      "toc_visible": true
    },
    "kernelspec": {
      "display_name": "Python 3",
      "name": "python3"
    }
  },
  "nbformat": 4,
  "nbformat_minor": 0
}
