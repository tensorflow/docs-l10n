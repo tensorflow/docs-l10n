{
  "cells": [
    {
      "cell_type": "markdown",
      "metadata": {
        "id": "wJcYs_ERTnnI"
      },
      "source": [
        "##### Copyright 2021 The TensorFlow Authors."
      ]
    },
    {
      "cell_type": "code",
      "execution_count": null,
      "metadata": {
        "cellView": "form",
        "id": "HMUDt0CiUJk9"
      },
      "outputs": [],
      "source": [
        "#@title Licensed under the Apache License, Version 2.0 (the \"License\");\n",
        "# you may not use this file except in compliance with the License.\n",
        "# You may obtain a copy of the License at\n",
        "#\n",
        "# https://www.apache.org/licenses/LICENSE-2.0\n",
        "#\n",
        "# Unless required by applicable law or agreed to in writing, software\n",
        "# distributed under the License is distributed on an \"AS IS\" BASIS,\n",
        "# WITHOUT WARRANTIES OR CONDITIONS OF ANY KIND, either express or implied.\n",
        "# See the License for the specific language governing permissions and\n",
        "# limitations under the License."
      ]
    },
    {
      "cell_type": "markdown",
      "metadata": {
        "id": "77z2OchJTk0l"
      },
      "source": [
        "# Ejemplos de migración: Estimadores enlatados\n",
        "\n",
        "<table class=\"tfo-notebook-buttons\" align=\"left\">\n",
        "  <td>     <a target=\"_blank\" href=\"https://www.tensorflow.org/guide/migrate/canned_estimators\">     <img src=\"https://www.tensorflow.org/images/tf_logo_32px.png\">     Ver en TensorFlow.org</a>\n",
        "</td>\n",
        "<td>     <a target=\"_blank\" href=\"https://colab.research.google.com/github/tensorflow/docs-l10n/blob/master/site/es-419/guide/migrate/canned_estimators.ipynb\">     <img src=\"https://www.tensorflow.org/images/colab_logo_32px.png\">     Ejecutar en Google Colab</a>\n",
        "</td>\n",
        "  <td>     <a target=\"_blank\" href=\"https://github.com/tensorflow/docs-l10n/blob/master/site/es-419/guide/migrate/canned_estimators.ipynb\"><img src=\"https://www.tensorflow.org/images/GitHub-Mark-32px.png\">Ver código fuente en GitHub</a>\n",
        "</td>\n",
        "  <td><a href=\"https://storage.googleapis.com/tensorflow_docs/docs-l10n/site/es-419/guide/migrate/canned_estimators.ipynb\"><img src=\"https://www.tensorflow.org/images/download_logo_32px.png\">Descargar bloc de notas</a></td>\n",
        "</table>"
      ]
    },
    {
      "cell_type": "markdown",
      "metadata": {
        "id": "meUTrR4I6m1C"
      },
      "source": [
        "Los estimadores enlatados (o prefabricados) se han usado tradicionalmente en TensorFlow 1 como formas rápidas y sencillas de entrenar modelos para una variedad de casos de uso típicos. TensorFlow 2 proporciona sustitutos aproximados directos para un número de ellos por medio de modelos Keras. Para aquellos estimadores enlatados que no tienen sustitutos incorporados en TensorFlow 2, puede construir su propio reemplazo con bastante facilidad.\n",
        "\n",
        "Esta guía le mostrará algunos ejemplos de equivalencias directas y sustituciones personalizadas para demostrar cómo los modelos derivados de `tf.estimator` de TensorFlow 1 se pueden migrar a TensorFlow 2 con Keras.\n",
        "\n",
        "En concreto, esta guía incluye ejemplos de migración:\n",
        "\n",
        "- De `tf.estimator`'s `LinearEstimator`, `Classifier` o `Regressor` en TensorFlow 1 a Keras `tf.compat.v1.keras.models.LinearModel` en TensorFlow 2\n",
        "- De `tf.estimator`'s `DNNEstimator`, `Classifier` o `Regressor` en TensorFlow 1 a una DNN personalizada de Keras ModelKeras en TensorFlow 2\n",
        "- De `tf.estimator`'s `DNNLinearCombinedEstimator`, `Classifier` o `Regressor` en TensorFlow 1 a `tf.compat.v1.keras.models.WideDeepModel` en TensorFlow 2\n",
        "- De `tf.estimator`'s `BoostedTreesEstimator`, `Classifier` o `Regressor` en TensorFlow 1 a `tfdf.keras.GradientBoostedTreesModel` en TensorFlow 2\n",
        "\n",
        "Un precursor común para el entrenamiento de un modelo es el preprocesamiento de características, que se realiza para los modelos de Estimador de TensorFlow 1 con `tf.feature_column`. Para obtener más información sobre el preprocesamiento de características en TensorFlow 2, consulte [esta guía sobre la migración de columnas de características a la API de capas de preprocesamiento de Keras](migrating_feature_columns.ipynb)."
      ]
    },
    {
      "cell_type": "markdown",
      "metadata": {
        "id": "YdZSoIXEbhg-"
      },
      "source": [
        "## Preparación\n",
        "\n",
        "Comience con un par de importaciones necesarias de TensorFlow,"
      ]
    },
    {
      "cell_type": "code",
      "execution_count": null,
      "metadata": {
        "id": "qsgZp0f-nu9s"
      },
      "outputs": [],
      "source": [
        "!pip install tensorflow_decision_forests"
      ]
    },
    {
      "cell_type": "code",
      "execution_count": null,
      "metadata": {
        "id": "iE0vSfMXumKI"
      },
      "outputs": [],
      "source": [
        "import keras\n",
        "import pandas as pd\n",
        "import tensorflow as tf\n",
        "import tensorflow.compat.v1 as tf1\n",
        "import tensorflow_decision_forests as tfdf\n"
      ]
    },
    {
      "cell_type": "markdown",
      "metadata": {
        "id": "Jsm9Rxx7s1OZ"
      },
      "source": [
        "prepare algunos datos sencillos para demostrar a partir del conjunto de datos estándar Titanic,"
      ]
    },
    {
      "cell_type": "code",
      "execution_count": null,
      "metadata": {
        "id": "wC6i_bEZPrPY"
      },
      "outputs": [],
      "source": [
        "x_train = pd.read_csv('https://storage.googleapis.com/tf-datasets/titanic/train.csv')\n",
        "x_eval = pd.read_csv('https://storage.googleapis.com/tf-datasets/titanic/eval.csv')\n",
        "x_train['sex'].replace(('male', 'female'), (0, 1), inplace=True)\n",
        "x_eval['sex'].replace(('male', 'female'), (0, 1), inplace=True)\n",
        "\n",
        "x_train['alone'].replace(('n', 'y'), (0, 1), inplace=True)\n",
        "x_eval['alone'].replace(('n', 'y'), (0, 1), inplace=True)\n",
        "\n",
        "x_train['class'].replace(('First', 'Second', 'Third'), (1, 2, 3), inplace=True)\n",
        "x_eval['class'].replace(('First', 'Second', 'Third'), (1, 2, 3), inplace=True)\n",
        "\n",
        "x_train.drop(['embark_town', 'deck'], axis=1, inplace=True)\n",
        "x_eval.drop(['embark_town', 'deck'], axis=1, inplace=True)\n",
        "\n",
        "y_train = x_train.pop('survived')\n",
        "y_eval = x_eval.pop('survived')"
      ]
    },
    {
      "cell_type": "code",
      "execution_count": null,
      "metadata": {
        "id": "lqe9obf7suIj"
      },
      "outputs": [],
      "source": [
        "# Data setup for TensorFlow 1 with `tf.estimator`\n",
        "def _input_fn():\n",
        "  return tf1.data.Dataset.from_tensor_slices((dict(x_train), y_train)).batch(32)\n",
        "\n",
        "\n",
        "def _eval_input_fn():\n",
        "  return tf1.data.Dataset.from_tensor_slices((dict(x_eval), y_eval)).batch(32)\n",
        "\n",
        "\n",
        "FEATURE_NAMES = [\n",
        "    'age', 'fare', 'sex', 'n_siblings_spouses', 'parch', 'class', 'alone'\n",
        "]\n",
        "\n",
        "feature_columns = []\n",
        "for fn in FEATURE_NAMES:\n",
        "  feat_col = tf1.feature_column.numeric_column(fn, dtype=tf.float32)\n",
        "  feature_columns.append(feat_col)"
      ]
    },
    {
      "cell_type": "markdown",
      "metadata": {
        "id": "bYSgoezeMrpI"
      },
      "source": [
        "y cree un método para crear instancias de un optimizador de muestra simplista para utilizar con varios modelos del Estimador TensorFlow 1 y Keras de TensorFlow 2."
      ]
    },
    {
      "cell_type": "code",
      "execution_count": null,
      "metadata": {
        "id": "YHB_nuzVLVLe"
      },
      "outputs": [],
      "source": [
        "def create_sample_optimizer(tf_version):\n",
        "  if tf_version == 'tf1':\n",
        "    optimizer = lambda: tf.keras.optimizers.legacy.Ftrl(\n",
        "        l1_regularization_strength=0.001,\n",
        "        learning_rate=tf1.train.exponential_decay(\n",
        "            learning_rate=0.1,\n",
        "            global_step=tf1.train.get_global_step(),\n",
        "            decay_steps=10000,\n",
        "            decay_rate=0.9))\n",
        "  elif tf_version == 'tf2':\n",
        "    optimizer = tf.keras.optimizers.legacy.Ftrl(\n",
        "        l1_regularization_strength=0.001,\n",
        "        learning_rate=tf.keras.optimizers.schedules.ExponentialDecay(\n",
        "            initial_learning_rate=0.1, decay_steps=10000, decay_rate=0.9))\n",
        "  return optimizer"
      ]
    },
    {
      "cell_type": "markdown",
      "metadata": {
        "id": "4uXff1BEssdE"
      },
      "source": [
        "## Ejemplo 1: Migración desde LinearEstimator"
      ]
    },
    {
      "cell_type": "markdown",
      "metadata": {
        "id": "_O7fyhCnpvED"
      },
      "source": [
        "### TensorFlow 1: Uso del LinearEstimator"
      ]
    },
    {
      "cell_type": "markdown",
      "metadata": {
        "id": "A9560BqEOTpb"
      },
      "source": [
        "En TensorFlow 1, puede utilizar `tf.estimator.LinearEstimator` para crear un modelo lineal de referencia para problemas de regresión y clasificación."
      ]
    },
    {
      "cell_type": "code",
      "execution_count": null,
      "metadata": {
        "id": "oWfh0QW4IXTn"
      },
      "outputs": [],
      "source": [
        "linear_estimator = tf.estimator.LinearEstimator(\n",
        "    head=tf.estimator.BinaryClassHead(),\n",
        "    feature_columns=feature_columns,\n",
        "    optimizer=create_sample_optimizer('tf1'))"
      ]
    },
    {
      "cell_type": "code",
      "execution_count": null,
      "metadata": {
        "id": "hi77Sg4k-0TR"
      },
      "outputs": [],
      "source": [
        "linear_estimator.train(input_fn=_input_fn, steps=100)\n",
        "linear_estimator.evaluate(input_fn=_eval_input_fn, steps=10)"
      ]
    },
    {
      "cell_type": "markdown",
      "metadata": {
        "id": "KEmzBjfnsxwT"
      },
      "source": [
        "### TensorFlow 2: Uso de Keras LinearModel"
      ]
    },
    {
      "cell_type": "markdown",
      "metadata": {
        "id": "fkgkGf_AOaRR"
      },
      "source": [
        "En TensorFlow 2, puede crear una instancia de Keras `tf.compat.v1.keras.models.LinearModel` que es el sustituto de `tf.estimator.LinearEstimator`. La ruta `tf.compat.v1.keras` se utiliza para indicar que el modelo prefabricado existe por motivos de compatibilidad."
      ]
    },
    {
      "cell_type": "code",
      "execution_count": null,
      "metadata": {
        "id": "Kip65sYBlKiu"
      },
      "outputs": [],
      "source": [
        "linear_model = tf.compat.v1.keras.experimental.LinearModel()\n",
        "linear_model.compile(loss='mse', optimizer=create_sample_optimizer('tf2'), metrics=['accuracy'])\n",
        "linear_model.fit(x_train, y_train, epochs=10)\n",
        "linear_model.evaluate(x_eval, y_eval, return_dict=True)"
      ]
    },
    {
      "cell_type": "markdown",
      "metadata": {
        "id": "RRrj78Lqplni"
      },
      "source": [
        "## Ejemplo 2: Migración desde DNNEstimator"
      ]
    },
    {
      "cell_type": "markdown",
      "metadata": {
        "id": "YKl6XZ7Bp1t5"
      },
      "source": [
        "### TensorFlow 1: Uso de DNNEstimator"
      ]
    },
    {
      "cell_type": "markdown",
      "metadata": {
        "id": "J7wJUmgypln8"
      },
      "source": [
        "En TensorFlow 1, puede utilizar `tf.estimator.DNNEstimator` para crear un modelo básico de red neuronal profunda (DNN) para problemas de regresión y clasificación."
      ]
    },
    {
      "cell_type": "code",
      "execution_count": null,
      "metadata": {
        "id": "qHbgXCzfpln9"
      },
      "outputs": [],
      "source": [
        "dnn_estimator = tf.estimator.DNNEstimator(\n",
        "    head=tf.estimator.BinaryClassHead(),\n",
        "    feature_columns=feature_columns,\n",
        "    hidden_units=[128],\n",
        "    activation_fn=tf.nn.relu,\n",
        "    optimizer=create_sample_optimizer('tf1'))"
      ]
    },
    {
      "cell_type": "code",
      "execution_count": null,
      "metadata": {
        "id": "6DTnXxU2pln-"
      },
      "outputs": [],
      "source": [
        "dnn_estimator.train(input_fn=_input_fn, steps=100)\n",
        "dnn_estimator.evaluate(input_fn=_eval_input_fn, steps=10)"
      ]
    },
    {
      "cell_type": "markdown",
      "metadata": {
        "id": "6xJz6px6pln-"
      },
      "source": [
        "### TensorFlow 2: Uso de Keras para crear un modelo DNN personalizado"
      ]
    },
    {
      "cell_type": "markdown",
      "metadata": {
        "id": "7cgc72rzpln-"
      },
      "source": [
        "En TensorFlow 2, puede crear un modelo DNN personalizado para sustituir a uno generado por `tf.estimator.DNNEstimator`, con niveles similares de personalización especificados por el usuario (por ejemplo, como en el ejemplo anterior, la capacidad de personalizar un optimizador de modelo elegido).\n",
        "\n",
        "Se puede utilizar un flujo de trabajo similar para sustituir `tf.estimator.experimental.RNNEstimator` por un modelo de red neuronal recurrente (RNN) de Keras. Keras proporciona una serie de opciones incorporadas y personalizables mediante `tf.keras.layers.RNN`, `tf.keras.layers.LSTM`, y `tf.keras.layers.GRU`. Para obtener más información, consulte la sección *Capas RNN incorporadas: un ejemplo sencillo* de la guía [RNN con Keras](https://www.tensorflow.org/guide/keras/rnn)."
      ]
    },
    {
      "cell_type": "code",
      "execution_count": null,
      "metadata": {
        "id": "B5SdsjlL49RG"
      },
      "outputs": [],
      "source": [
        "dnn_model = tf.keras.models.Sequential(\n",
        "    [tf.keras.layers.Dense(128, activation='relu'),\n",
        "     tf.keras.layers.Dense(1)])\n",
        "\n",
        "dnn_model.compile(loss='mse', optimizer=create_sample_optimizer('tf2'), metrics=['accuracy'])"
      ]
    },
    {
      "cell_type": "code",
      "execution_count": null,
      "metadata": {
        "id": "JQmRw9_Upln_"
      },
      "outputs": [],
      "source": [
        "dnn_model.fit(x_train, y_train, epochs=10)\n",
        "dnn_model.evaluate(x_eval, y_eval, return_dict=True)"
      ]
    },
    {
      "cell_type": "markdown",
      "metadata": {
        "id": "UeBHZ0cd1Pl2"
      },
      "source": [
        "## Ejemplo 3: Migración desde DNNLinearCombinedEstimator"
      ]
    },
    {
      "cell_type": "markdown",
      "metadata": {
        "id": "GfRaObf5g4TU"
      },
      "source": [
        "### TensorFlow 1: Uso de DNNLinearCombinedEstimator"
      ]
    },
    {
      "cell_type": "markdown",
      "metadata": {
        "id": "2r13RMX-g4TV"
      },
      "source": [
        "En TensorFlow 1, puede utilizar `tf.estimator.DNNLinearCombinedEstimator` para crear un modelo básico combinado para resolver problemas de regresión y clasificación con capacidad de personalización tanto para sus componentes lineales como DNN."
      ]
    },
    {
      "cell_type": "code",
      "execution_count": null,
      "metadata": {
        "id": "OyyDCqc5j7rf"
      },
      "outputs": [],
      "source": [
        "optimizer = create_sample_optimizer('tf1')\n",
        "\n",
        "combined_estimator = tf.estimator.DNNLinearCombinedEstimator(\n",
        "    head=tf.estimator.BinaryClassHead(),\n",
        "    # Wide settings\n",
        "    linear_feature_columns=feature_columns,\n",
        "    linear_optimizer=optimizer,\n",
        "    # Deep settings\n",
        "    dnn_feature_columns=feature_columns,\n",
        "    dnn_hidden_units=[128],\n",
        "    dnn_optimizer=optimizer)"
      ]
    },
    {
      "cell_type": "code",
      "execution_count": null,
      "metadata": {
        "id": "aXN-BxwzmRaf"
      },
      "outputs": [],
      "source": [
        "combined_estimator.train(input_fn=_input_fn, steps=100)\n",
        "combined_estimator.evaluate(input_fn=_eval_input_fn, steps=10)"
      ]
    },
    {
      "cell_type": "markdown",
      "metadata": {
        "id": "BeMikL5ug4TX"
      },
      "source": [
        "### TensorFlow 2: Uso de Keras WideDeepModel"
      ]
    },
    {
      "cell_type": "markdown",
      "metadata": {
        "id": "CYByxxBhg4TX"
      },
      "source": [
        "En TensorFlow 2, puede crear una instancia de Keras `tf.compat.v1.keras.models.WideDeepModel` para sustituir a una generada por `tf.estimator.DNNLinearCombinedEstimator`, con niveles similares de personalización especificados por el usuario (por ejemplo, como en el ejemplo anterior, la capacidad de personalizar un optimizador del modelo elegido).\n",
        "\n",
        "Este `WideDeepModel` se construye sobre la base de un `LinearModel` constituyente y un Modelo DNN personalizado, ambos discutidos en los dos ejemplos anteriores. Si lo desea, también puede utilizar un modelo lineal personalizado en vez del modelo `LinearModel` incorporado en Keras.\n",
        "\n",
        "Si desea construir su propio modelo en vez de utilizar un estimador enlatado, consulte la guía [Modelo secuencial de Keras](https://www.tensorflow.org/guide/keras/sequential_model). Para obtener más información sobre el entrenamiento personalizado y los optimizadores, consulte la guía [Entrenamiento personalizado: recorrido](https://www.tensorflow.org/tutorials/customization/custom_training_walkthrough)."
      ]
    },
    {
      "cell_type": "code",
      "execution_count": null,
      "metadata": {
        "id": "mIFM3e-_RLSX"
      },
      "outputs": [],
      "source": [
        "# Create LinearModel and DNN Model as in Examples 1 and 2\n",
        "optimizer = create_sample_optimizer('tf2')\n",
        "\n",
        "linear_model = tf.compat.v1.keras.experimental.LinearModel()\n",
        "linear_model.compile(loss='mse', optimizer=optimizer, metrics=['accuracy'])\n",
        "linear_model.fit(x_train, y_train, epochs=10, verbose=0)\n",
        "\n",
        "dnn_model = tf.keras.models.Sequential(\n",
        "    [tf.keras.layers.Dense(128, activation='relu'),\n",
        "     tf.keras.layers.Dense(1)])\n",
        "dnn_model.compile(loss='mse', optimizer=optimizer, metrics=['accuracy'])"
      ]
    },
    {
      "cell_type": "code",
      "execution_count": null,
      "metadata": {
        "id": "mFmQz9kjmMSx"
      },
      "outputs": [],
      "source": [
        "combined_model = tf.compat.v1.keras.experimental.WideDeepModel(linear_model,\n",
        "                                                               dnn_model)\n",
        "combined_model.compile(\n",
        "    optimizer=[optimizer, optimizer], loss='mse', metrics=['accuracy'])\n",
        "combined_model.fit([x_train, x_train], y_train, epochs=10)\n",
        "combined_model.evaluate(x_eval, y_eval, return_dict=True)"
      ]
    },
    {
      "cell_type": "markdown",
      "metadata": {
        "id": "wP1DBRhpeOJn"
      },
      "source": [
        "## Ejemplo 4: Migración desde BoostedTreesEstimator"
      ]
    },
    {
      "cell_type": "markdown",
      "metadata": {
        "id": "_3mCQVDSeOKD"
      },
      "source": [
        "### TensorFlow 1: Uso de BoostedTreesEstimator"
      ]
    },
    {
      "cell_type": "markdown",
      "metadata": {
        "id": "oEWYHNt4eOKD"
      },
      "source": [
        "En TensorFlow 1, podría utilizar `tf.estimator.BoostedTreesEstimator` para crear una línea de base para crear una línea de base del modelo Gradient Boosting utilizando un conjunto de árboles de decisión para resolver problemas de regresión y clasificación. Esta funcionalidad ya no está incluida en TensorFlow 2."
      ]
    },
    {
      "cell_type": "markdown",
      "metadata": {
        "id": "wliVIER1jLnA"
      },
      "source": [
        "```\n",
        "bt_estimator = tf1.estimator.BoostedTreesEstimator(\n",
        "    head=tf.estimator.BinaryClassHead(),\n",
        "    n_batches_per_layer=1,\n",
        "    max_depth=10,\n",
        "    n_trees=1000,\n",
        "    feature_columns=feature_columns)\n",
        "```"
      ]
    },
    {
      "cell_type": "markdown",
      "metadata": {
        "id": "-K87uBrZjR0u"
      },
      "source": [
        "```\n",
        "bt_estimator.train(input_fn=_input_fn, steps=1000)\n",
        "bt_estimator.evaluate(input_fn=_eval_input_fn, steps=100)\n",
        "```"
      ]
    },
    {
      "cell_type": "markdown",
      "metadata": {
        "id": "eNuLP6BeeOKF"
      },
      "source": [
        "### TensorFlow 2: Uso de los Bosques de decisiones de TensorFlow"
      ]
    },
    {
      "cell_type": "markdown",
      "metadata": {
        "id": "m3EVq388eOKF"
      },
      "source": [
        "En TensorFlow 2, `tf.estimator.BoostedTreesEstimator` se sustituye por [tfdf.keras.GradientBoostedTreesModel](https://www.tensorflow.org/decision_forests/api_docs/python/tfdf/keras/GradientBoostedTreesModel#attributes) del paquete [Bosques de decisiones de TensorFlow](https://www.tensorflow.org/decision_forests).\n",
        "\n",
        "Los Bosques de decisiones de TensorFlow proporcionan varias ventajas sobre el `tf.estimator.BoostedTreesEstimator`, especialmente en cuanto a calidad, velocidad, facilidad de uso y flexibilidad. Para aprender sobre los Bosques de decisiones de TensorFlow, comience con el [colab para principiantes](https://www.tensorflow.org/decision_forests/tutorials/beginner_colab).\n",
        "\n",
        "El siguiente ejemplo muestra cómo entrenar un modelo de Gradient Boosted Trees usando TensorFlow 2:"
      ]
    },
    {
      "cell_type": "markdown",
      "metadata": {
        "id": "UB90fXJdVWC5"
      },
      "source": [
        "Instale los Bosques de decisiones de TensorFlow."
      ]
    },
    {
      "cell_type": "code",
      "execution_count": null,
      "metadata": {
        "id": "9097mTCIVVE9"
      },
      "outputs": [],
      "source": [
        "!pip install tensorflow_decision_forests"
      ]
    },
    {
      "cell_type": "markdown",
      "metadata": {
        "id": "B1qTdAS-VpXk"
      },
      "source": [
        "Cree un conjunto de datos en TensorFlow. Tenga en cuenta que los bosques de decisiones admiten de forma nativa muchos tipos de características y no necesitan preprocesamiento."
      ]
    },
    {
      "cell_type": "code",
      "execution_count": null,
      "metadata": {
        "id": "jkjFHmDTVswY"
      },
      "outputs": [],
      "source": [
        "train_dataframe = pd.read_csv('https://storage.googleapis.com/tf-datasets/titanic/train.csv')\n",
        "eval_dataframe = pd.read_csv('https://storage.googleapis.com/tf-datasets/titanic/eval.csv')\n",
        "\n",
        "# Convert the Pandas Dataframes into TensorFlow datasets.\n",
        "train_dataset = tfdf.keras.pd_dataframe_to_tf_dataset(train_dataframe, label=\"survived\")\n",
        "eval_dataset = tfdf.keras.pd_dataframe_to_tf_dataset(eval_dataframe, label=\"survived\")"
      ]
    },
    {
      "cell_type": "markdown",
      "metadata": {
        "id": "7fPa-LfDWDzB"
      },
      "source": [
        "Entrene el modelo en el conjunto de datos `train_dataset`."
      ]
    },
    {
      "cell_type": "code",
      "execution_count": null,
      "metadata": {
        "id": "JO0yCH9hWPvJ"
      },
      "outputs": [],
      "source": [
        "# Use the default hyper-parameters of the model.\n",
        "gbt_model = tfdf.keras.GradientBoostedTreesModel()\n",
        "gbt_model.fit(train_dataset)"
      ]
    },
    {
      "cell_type": "markdown",
      "metadata": {
        "id": "2Y5xm29AWGxt"
      },
      "source": [
        "Evalúe la calidad del modelo en el conjunto de datos `eval_dataset`."
      ]
    },
    {
      "cell_type": "code",
      "execution_count": null,
      "metadata": {
        "id": "JLS_2vKKeOKF"
      },
      "outputs": [],
      "source": [
        "gbt_model.compile(metrics=['accuracy'])\n",
        "gbt_evaluation = gbt_model.evaluate(eval_dataset, return_dict=True)\n",
        "print(gbt_evaluation)"
      ]
    },
    {
      "cell_type": "markdown",
      "metadata": {
        "id": "Z22UJ5SUqToQ"
      },
      "source": [
        "Gradient Boosted Trees es solo uno de los muchos algoritmos de bosques de decisiones disponibles en los Bosques de decisiones de TensorFlow. Por ejemplo, Random Forests (disponible como [tfdf.keras.GradientBoostedTreesModel](https://www.tensorflow.org/decision_forests/api_docs/python/tfdf/keras/RandomForestModel) es muy resistente al sobreajuste) mientras que CART (disponible como [tfdf.keras.CartModel](https://www.tensorflow.org/decision_forests/api_docs/python/tfdf/keras/CartModel)) es genial para la interpretación de modelos.\n",
        "\n",
        "En el siguiente ejemplo, entrene y represente gráficamente un modelo de Random Forest."
      ]
    },
    {
      "cell_type": "code",
      "execution_count": null,
      "metadata": {
        "id": "W3slOhn4Zi9X"
      },
      "outputs": [],
      "source": [
        "# Train a Random Forest model\n",
        "rf_model = tfdf.keras.RandomForestModel()\n",
        "rf_model.fit(train_dataset)\n",
        "\n",
        "# Evaluate the Random Forest model\n",
        "rf_model.compile(metrics=['accuracy'])\n",
        "rf_evaluation = rf_model.evaluate(eval_dataset, return_dict=True)\n",
        "print(rf_evaluation)"
      ]
    },
    {
      "cell_type": "markdown",
      "metadata": {
        "id": "Z0QYolhoZb_k"
      },
      "source": [
        "En el ejemplo final, entrene y evalúe un modelo CART."
      ]
    },
    {
      "cell_type": "code",
      "execution_count": null,
      "metadata": {
        "id": "027bGnCork_W"
      },
      "outputs": [],
      "source": [
        "# Train a CART model\n",
        "cart_model = tfdf.keras.CartModel()\n",
        "cart_model.fit(train_dataset)\n",
        "\n",
        "# Plot the CART model\n",
        "tfdf.model_plotter.plot_model_in_colab(cart_model, max_depth=2)"
      ]
    }
  ],
  "metadata": {
    "colab": {
      "collapsed_sections": [],
      "name": "canned_estimators.ipynb",
      "toc_visible": true
    },
    "kernelspec": {
      "display_name": "Python 3",
      "name": "python3"
    }
  },
  "nbformat": 4,
  "nbformat_minor": 0
}
