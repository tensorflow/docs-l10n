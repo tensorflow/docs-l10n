{
  "cells": [
    {
      "cell_type": "markdown",
      "metadata": {
        "id": "wJcYs_ERTnnI"
      },
      "source": [
        "##### Copyright 2021 The TensorFlow Authors."
      ]
    },
    {
      "cell_type": "code",
      "execution_count": null,
      "metadata": {
        "cellView": "form",
        "id": "HMUDt0CiUJk9"
      },
      "outputs": [],
      "source": [
        "#@title Licensed under the Apache License, Version 2.0 (the \"License\");\n",
        "# you may not use this file except in compliance with the License.\n",
        "# You may obtain a copy of the License at\n",
        "#\n",
        "# https://www.apache.org/licenses/LICENSE-2.0\n",
        "#\n",
        "# Unless required by applicable law or agreed to in writing, software\n",
        "# distributed under the License is distributed on an \"AS IS\" BASIS,\n",
        "# WITHOUT WARRANTIES OR CONDITIONS OF ANY KIND, either express or implied.\n",
        "# See the License for the specific language governing permissions and\n",
        "# limitations under the License."
      ]
    },
    {
      "cell_type": "markdown",
      "metadata": {
        "id": "77z2OchJTk0l"
      },
      "source": [
        "# Migrar el almacenamiento del punto de verificación\n",
        "\n",
        "<table class=\"tfo-notebook-buttons\" align=\"left\">\n",
        "  <td>     <a target=\"_blank\" href=\"https://www.tensorflow.org/guide/migrate/checkpoint_saver\">     <img src=\"https://www.tensorflow.org/images/tf_logo_32px.png\">     Ver en TensorFlow.org</a>\n",
        "</td>\n",
        "  <td>     <a target=\"_blank\" href=\"https://colab.research.google.com/github/tensorflow/docs-l10n/blob/master/site/es-419/guide/migrate/checkpoint_saver.ipynb\">     <img src=\"https://www.tensorflow.org/images/colab_logo_32px.png\">     Ejecutar en Google Colab</a>\n",
        "</td>\n",
        "  <td>     <a target=\"_blank\" href=\"https://github.com/tensorflow/docs-l10n/blob/master/site/es-419/guide/migrate/checkpoint_saver.ipynb\"><img src=\"https://www.tensorflow.org/images/GitHub-Mark-32px.png\">Ver código fuente en GitHub</a>\n",
        "</td>\n",
        "  <td><a href=\"https://storage.googleapis.com/tensorflow_docs/docs-l10n/site/es-419/guide/migrate/checkpoint_saver.ipynb\"><img src=\"https://www.tensorflow.org/images/download_logo_32px.png\">Descargar bloc de notas</a></td>\n",
        "</table>\n"
      ]
    },
    {
      "cell_type": "markdown",
      "metadata": {
        "id": "hIo_p2FWFIRx"
      },
      "source": [
        "Guardar continuamente el \"mejor\" modelo o los pesos/parámetros del modelo tiene muchas ventajas. Por ejemplo, permite realizar un seguimiento del progreso del entrenamiento y cargar modelos guardados a partir de diferentes estados guardados.\n",
        "\n",
        "En TensorFlow 1, para configurar guardar puntos de verificación durante el entrenamiento/validación con las APIs `tf.estimator.Estimator` se especifica una programación en `tf.estimator.RunConfig` o se utiliza `tf.estimator.CheckpointSaverHook`. Esta guía muestra cómo migrar de este flujo de trabajo a las APIs de Keras de TensorFlow 2.\n",
        "\n",
        "En TensorFlow 2, puede configurar `tf.keras.callbacks.ModelCheckpoint` de varias maneras:\n",
        "\n",
        "- Guarda la \"mejor\" versión según una métrica monitorizada mediante el parámetro `save_best_only=True`, donde `monitor` puede ser, por ejemplo, `'loss'`, `'val_loss'`, `'accuracy', or `'val_accuracy'`.\n",
        "- Guardar continuamente a una frecuencia determinada (utilizando el argumento `save_freq`).\n",
        "- Guarde solo los pesos/parámetros en vez de todo el modelo definiendo `save_weights_only` como `True`.\n",
        "\n",
        "Para obtener más información, consulte los documentos de la API `tf.keras.callbacks.ModelCheckpoint` y la sección *Guardar puntos de verificación durante el entrenamiento* del tutorial [Guardar y cargar modelos](../../tutorials/keras/save_and_load.ipynb). Aprenda más sobre el formato de puntos de verificación en la sección *Formato de puntos de verificación* de la guía [Guardar y cargar modelos de Keras](https://www.tensorflow.org/guide/keras/save_and_serialize). Además, para agregar tolerancia ante errores, puede utilizar `tf.keras.callbacks.BackupAndRestore` o `tf.train.Checkpoint` para el punto de verificación manual. Obtenga más información en la [Guía de migración de tolerancia ante errores](fault_tolerance.ipynb).\n",
        "\n",
        "Las [retrollamadas](https://www.tensorflow.org/guide/keras/custom_callback) de Keras son objetos que se llaman en diferentes puntos durante el entrenamiento/evaluación/predicción en las APIs incorporadas de Keras `Model.fit`/`Model.evaluate`/`Model.predict` de las API. Obtenga más información en la sección *Siguientes pasos* al final de la guía."
      ]
    },
    {
      "cell_type": "markdown",
      "metadata": {
        "id": "f55c103999de"
      },
      "source": [
        "## Preparación\n",
        "\n",
        "Empiece con imports y un conjunto de datos sencillo a modo de demostración:"
      ]
    },
    {
      "cell_type": "code",
      "execution_count": null,
      "metadata": {
        "id": "X74yjOb-e18w"
      },
      "outputs": [],
      "source": [
        "import tensorflow.compat.v1 as tf1\n",
        "import tensorflow as tf\n",
        "import numpy as np\n",
        "import tempfile"
      ]
    },
    {
      "cell_type": "code",
      "execution_count": null,
      "metadata": {
        "id": "2r8r4d8FfMny"
      },
      "outputs": [],
      "source": [
        "mnist = tf.keras.datasets.mnist\n",
        "\n",
        "(x_train, y_train),(x_test, y_test) = mnist.load_data()\n",
        "x_train, x_test = x_train / 255.0, x_test / 255.0"
      ]
    },
    {
      "cell_type": "markdown",
      "metadata": {
        "id": "wrqBkG4RFLP_"
      },
      "source": [
        "## TensorFlow 1: Guardar puntos de verificación con el tf.estimator de las API\n",
        "\n",
        "Este ejemplo de TensorFlow 1 muestra cómo configurar `tf.estimator.RunConfig` para guardar puntos de verificación en cada paso durante el entrenamiento/evaluación con las `tf.estimator.Estimator` de las API:"
      ]
    },
    {
      "cell_type": "code",
      "execution_count": null,
      "metadata": {
        "id": "upA8nuf3FEq5"
      },
      "outputs": [],
      "source": [
        "feature_columns = [tf1.feature_column.numeric_column(\"x\", shape=[28, 28])]\n",
        "\n",
        "config = tf1.estimator.RunConfig(save_summary_steps=1,\n",
        "                                 save_checkpoints_steps=1)\n",
        "\n",
        "path = tempfile.mkdtemp()\n",
        "\n",
        "classifier = tf1.estimator.DNNClassifier(\n",
        "    feature_columns=feature_columns,\n",
        "    hidden_units=[256, 32],\n",
        "    optimizer=tf1.train.AdamOptimizer(0.001),\n",
        "    n_classes=10,\n",
        "    dropout=0.2,\n",
        "    model_dir=path,\n",
        "    config = config\n",
        ")\n",
        "\n",
        "train_input_fn = tf1.estimator.inputs.numpy_input_fn(\n",
        "    x={\"x\": x_train},\n",
        "    y=y_train.astype(np.int32),\n",
        "    num_epochs=10,\n",
        "    batch_size=50,\n",
        "    shuffle=True,\n",
        ")\n",
        "\n",
        "test_input_fn = tf1.estimator.inputs.numpy_input_fn(\n",
        "    x={\"x\": x_test},\n",
        "    y=y_test.astype(np.int32),\n",
        "    num_epochs=10,\n",
        "    shuffle=False\n",
        ")\n",
        "\n",
        "train_spec = tf1.estimator.TrainSpec(input_fn=train_input_fn, max_steps=10)\n",
        "eval_spec = tf1.estimator.EvalSpec(input_fn=test_input_fn,\n",
        "                                   steps=10,\n",
        "                                   throttle_secs=0)\n",
        "\n",
        "tf1.estimator.train_and_evaluate(estimator=classifier,\n",
        "                                train_spec=train_spec,\n",
        "                                eval_spec=eval_spec)"
      ]
    },
    {
      "cell_type": "code",
      "execution_count": null,
      "metadata": {
        "id": "3u96G4MtRVqU"
      },
      "outputs": [],
      "source": [
        "%ls {classifier.model_dir}"
      ]
    },
    {
      "cell_type": "markdown",
      "metadata": {
        "id": "QvE_uxDJFUX-"
      },
      "source": [
        "## TensorFlow 2: Guardar puntos de verificación con una retrollamada de Keras para Model.fit\n",
        "\n",
        "En TensorFlow 2, cuando utilice el método incorporado de Keras `Model.fit` (o `Model.evaluate`) para entrenamiento/evaluación, puede configurar `tf.keras.callbacks.ModelCheckpoint` y luego pasarlo al parámetro `callbacks` de `Model.fit` (o `Model.evaluate`). (Obtenga más información en los documentos de la API y en la sección *Uso de retrollamadas* de la guía [Entrenamiento y evaluación con los métodos incorporados](https://www.tensorflow.org/guide/keras/train_and_evaluate)).\n",
        "\n",
        "En el siguiente ejemplo, se utilizará una retrollamada `tf.keras.callbacks.ModelCheckpoint` para almacenar los puntos de verificación en un directorio temporal:"
      ]
    },
    {
      "cell_type": "code",
      "execution_count": null,
      "metadata": {
        "id": "9FLBhT2BFX2H"
      },
      "outputs": [],
      "source": [
        "def create_model():\n",
        "  return tf.keras.models.Sequential([\n",
        "    tf.keras.layers.Flatten(input_shape=(28, 28)),\n",
        "    tf.keras.layers.Dense(512, activation='relu'),\n",
        "    tf.keras.layers.Dropout(0.2),\n",
        "    tf.keras.layers.Dense(10, activation='softmax')\n",
        "  ])\n",
        "\n",
        "model = create_model()\n",
        "model.compile(optimizer='adam',\n",
        "              loss='sparse_categorical_crossentropy',\n",
        "              metrics=['accuracy'],\n",
        "              steps_per_execution=10)\n",
        "\n",
        "log_dir = tempfile.mkdtemp()\n",
        "\n",
        "model_checkpoint_callback = tf.keras.callbacks.ModelCheckpoint(\n",
        "    filepath=log_dir)\n",
        "\n",
        "model.fit(x=x_train,\n",
        "          y=y_train,\n",
        "          epochs=10,\n",
        "          validation_data=(x_test, y_test),\n",
        "          callbacks=[model_checkpoint_callback])"
      ]
    },
    {
      "cell_type": "code",
      "execution_count": null,
      "metadata": {
        "id": "SROSmhyyLBA-"
      },
      "outputs": [],
      "source": [
        "%ls {model_checkpoint_callback.filepath}"
      ]
    },
    {
      "cell_type": "markdown",
      "metadata": {
        "id": "rQUS8nO9FZlH"
      },
      "source": [
        "## Siguientes pasos\n",
        "\n",
        "Obtenga más información sobre los puntos de verificación en:\n",
        "\n",
        "- Documentos de la API: `tf.keras.callbacks.ModelCheckpoint`\n",
        "- Tutorial: [Guardar y cargar modelos](../../tutorials/keras/save_and_load.ipynb) (la sección *Guardar puntos de verificación durante el entrenamiento*)\n",
        "- Guía: [Guardar y cargar modelos de Keras](https://www.tensorflow.org/guide/keras/save_and_serialize) (la sección *Formato de punto de verificación TF*)\n",
        "\n",
        "Obtenga más información sobre las retrollamadas en:\n",
        "\n",
        "- Documentos de la API: `tf.keras.callbacks.Callback`\n",
        "- Guía: [Escribiendo sus propias retrollamadas](https://www.tensorflow.org/guide/keras/guide/keras/custom_callback)\n",
        "- Guía: [Entrenamiento y evaluación con los métodos incorporados](https://www.tensorflow.org/guide/keras/train_and_evaluate) (la sección *Usar retrollamadas*)\n",
        "\n",
        "También le pueden resultar útiles los siguientes recursos relacionados con la migración:\n",
        "\n",
        "- La [Guía de migración de tolerancia ante errores](fault_tolerance.ipynb): `tf.keras.callbacks.BackupAndRestore` para `Model.fit`, o `tf.train.Checkpoint` y `tf.train.CheckpointManager` de las API para un bucle de entrenamiento personalizado\n",
        "- La [Guía de migración de parada anticipada](early_stopping.ipynb): `tf.keras.callbacks.EarlyStopping` es una retrollamada de parada anticipada incorporada.\n",
        "- La [Guía de migración de TensorBoard](tensorboard.ipynb): TensorBoard permite el seguimiento y la visualización de métricas\n",
        "- La [Guía de migración de retrollamadas LoggingTensorHook y StopAtStepHook a Keras](logging_stop_hook.ipynb)\n",
        "- La [Guía de retrollamadas de SessionRunHook a Keras](sessionrunhook_callback.ipynb)"
      ]
    }
  ],
  "metadata": {
    "colab": {
      "collapsed_sections": [],
      "name": "checkpoint_saver.ipynb",
      "toc_visible": true
    },
    "kernelspec": {
      "display_name": "Python 3",
      "name": "python3"
    }
  },
  "nbformat": 4,
  "nbformat_minor": 0
}
