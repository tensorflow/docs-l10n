{
  "cells": [
    {
      "cell_type": "markdown",
      "metadata": {
        "id": "MyujzrAv2Vpk"
      },
      "source": [
        "##### Copyright 2020 Los Autores de TensorFlow."
      ]
    },
    {
      "cell_type": "code",
      "execution_count": null,
      "metadata": {
        "cellView": "form",
        "id": "rTUqXTqa2Vpm"
      },
      "outputs": [],
      "source": [
        "#@title Con licencia de Licencia de Apache, versión 2.0 (la \n",
        "\"Licencia\");\n",
        "# no puede usar este archivo excepto en conformidad con la \n",
        "# Licencia.\n",
        "# Puede obtener una copia de la Licencia en \n",
        "#\n",
        "# http://www.apache.org/licenses/LICENSE-2.0\n",
        "#\n",
        "# A menos que lo exija la ley aplicable o acuerde por escrito, el software\n",
        "#  distribuido bajo la licencia se distribuye \"TAL CUAL\",\n",
        "# SIN GARANTÍAS NI CONDICIONES DE NINGÚN TIPO, ya sea expresa o implícita.\n",
        "# Consulte la Licencia para conocer el lenguaje específico que rige los permisos y \n",
        "# limitaciones bajo la Licencia."
      ]
    },
    {
      "cell_type": "markdown",
      "metadata": {
        "id": "rNnfCHh82Vpq"
      },
      "source": [
        "# Complementos TensorFlow  Callbacks: Barra de progreso TQDM"
      ]
    },
    {
      "cell_type": "markdown",
      "metadata": {
        "id": "4qrDJoTw2Vps"
      },
      "source": [
        "<table class=\"tfo-notebook-buttons\" align=\"left\">\n",
        "  <td>     <a target=\"_blank\" href=\"https://www.tensorflow.org/addons/tutorials/tqdm_progress_bar\"><img src=\"https://www.tensorflow.org/images/tf_logo_32px.png\">Ver en TensorFlow.org</a>\n",
        "</td>\n",
        "  <td>     <a target=\"_blank\" href=\"https://colab.research.google.com/github/tensorflow/docs-l10n/blob/master/site/es-419/addons/tutorials/tqdm_progress_bar.ipynb\"><img src=\"https://www.tensorflow.org/images/colab_logo_32px.png\">Ejecutar en Google Colab</a>\n",
        "</td>\n",
        "  <td>     <a target=\"_blank\" href=\"https://github.com/tensorflow/docs-l10n/blob/master/site/es-419/addons/tutorials/tqdm_progress_bar.ipynb\"><img src=\"https://www.tensorflow.org/images/GitHub-Mark-32px.png\">Ver código en GitHub</a>\n",
        "</td>\n",
        "      <td>     <a href=\"https://storage.googleapis.com/tensorflow_docs/docs-l10n/site/es-419/addons/tutorials/tqdm_progress_bar.ipynb\"><img src=\"https://www.tensorflow.org/images/download_logo_32px.png\">Descargar manual</a>\n",
        "</td>\n",
        "</table>"
      ]
    },
    {
      "cell_type": "markdown",
      "metadata": {
        "id": "bVS_PkvX2Vpt"
      },
      "source": [
        "## Descripción general\n",
        "\n",
        "En este manual se demuestra como usar TQDMCallback con Complementos TensorFlow"
      ]
    },
    {
      "cell_type": "markdown",
      "metadata": {
        "id": "sRldODz32Vpu"
      },
      "source": [
        "## Instalación"
      ]
    },
    {
      "cell_type": "code",
      "execution_count": null,
      "metadata": {
        "id": "H0yZwcvcR4Gc"
      },
      "outputs": [],
      "source": [
        "!pip install -U tensorflow-addons"
      ]
    },
    {
      "cell_type": "code",
      "execution_count": null,
      "metadata": {
        "id": "etYr-Suo4KYj"
      },
      "outputs": [],
      "source": [
        "!pip install -q \"tqdm>=4.36.1\"\n",
        "\n",
        "import tensorflow as tf\n",
        "import tensorflow_addons as tfa\n",
        "\n",
        "from tensorflow.keras.datasets import mnist\n",
        "from tensorflow.keras.models import Sequential\n",
        "from tensorflow.keras.layers import Dense, Dropout, Flatten"
      ]
    },
    {
      "cell_type": "code",
      "execution_count": null,
      "metadata": {
        "id": "SfXA0mI13pSE"
      },
      "outputs": [],
      "source": [
        "import tqdm\n",
        "\n",
        "# quietly deep-reload tqdm\n",
        "import sys\n",
        "from IPython.lib import deepreload \n",
        "\n",
        "stdout = sys.stdout\n",
        "sys.stdout = open('junk','w')\n",
        "deepreload.reload(tqdm)\n",
        "sys.stdout = stdout\n",
        "\n",
        "tqdm.__version__"
      ]
    },
    {
      "cell_type": "markdown",
      "metadata": {
        "id": "2RGuwIwe2Vp7"
      },
      "source": [
        "## Importación y Normalización de datos"
      ]
    },
    {
      "cell_type": "code",
      "execution_count": null,
      "metadata": {
        "id": "qKfrsOSP2Vp8"
      },
      "outputs": [],
      "source": [
        "# los datos, entre los conjuntos de entrenamiento y prueba\n",
        "(x_train, y_train), (x_test, y_test) = mnist.load_data()\n",
        "# normalización de datos\n",
        "x_train, x_test = x_train / 255.0, x_test / 255.0"
      ]
    },
    {
      "cell_type": "markdown",
      "metadata": {
        "id": "ORtL0s4X2VqB"
      },
      "source": [
        "## Generar un modelo MNIST CNN simple"
      ]
    },
    {
      "cell_type": "code",
      "execution_count": null,
      "metadata": {
        "id": "z8uAGGV32VqC"
      },
      "outputs": [],
      "source": [
        "# construir modelo usando la API Secuencial\n",
        "model = Sequential()\n",
        "model.add(Flatten(input_shape=(28, 28)))\n",
        "model.add(Dense(128, activation='relu'))\n",
        "model.add(Dropout(0.2))\n",
        "model.add(Dense(10, activation='softmax'))\n",
        "\n",
        "model.compile(optimizer='adam',\n",
        "              loss = 'sparse_categorical_crossentropy',\n",
        "              metrics=['accuracy'])"
      ]
    },
    {
      "cell_type": "markdown",
      "metadata": {
        "id": "YWOnH1ga2VqF"
      },
      "source": [
        "## Configuración por defecto de TQDMCallback"
      ]
    },
    {
      "cell_type": "code",
      "execution_count": null,
      "metadata": {
        "id": "Vl_oj_OW2VqG"
      },
      "outputs": [],
      "source": [
        "# inicialización con parametros por defecto de tqdm_callback\n",
        "tqdm_callback = tfa.callbacks.TQDMProgressBar()\n",
        "\n",
        "# para entrenar el modelo con tqdm_callback\n",
        "# asegúrese de ajustar verbose = 0 para desactivar\n",
        "# la barra de progreso por defecto.\n",
        "model.fit(x_train, y_train,\n",
        "          batch_size=64,\n",
        "          epochs=10,\n",
        "          verbose=0,\n",
        "          callbacks=[tqdm_callback],\n",
        "          validation_data=(x_test, y_test))"
      ]
    },
    {
      "cell_type": "markdown",
      "metadata": {
        "id": "uFvBfwJN2VqK"
      },
      "source": [
        "**Abajo se muestra el resultado previsto cuando ejecuta la celda de arriba** ![TQDM Progress Bar Figure](https://raw.githubusercontent.com/tensorflow/addons/59961669a0e21eb4c045d4ad38d008a529d566c2/docs/tutorials/assets/tqdm_progress_bar_demo.png)"
      ]
    },
    {
      "cell_type": "code",
      "execution_count": null,
      "metadata": {
        "id": "Np3dD8bhe10E"
      },
      "outputs": [],
      "source": [
        "# TQDMProgressBar() también funciona con evaluate()\n",
        "model.evaluate(x_test, y_test, batch_size=64, callbacks=[tqdm_callback], verbose=0)"
      ]
    },
    {
      "cell_type": "markdown",
      "metadata": {
        "id": "36WRBMo7e10I"
      },
      "source": [
        "**Abajo se muestra el resultado previsto cuando ejecuta la celda de arriba** ![TQDM Progress Bar Figure](https://user-images.githubusercontent.com/20843596/79412655-a57cef00-7fc3-11ea-9bea-ade8ee8dad58.PNG)"
      ]
    }
  ],
  "metadata": {
    "colab": {
      "name": "tqdm_progress_bar.ipynb",
      "toc_visible": true
    },
    "kernelspec": {
      "display_name": "Python 3",
      "name": "python3"
    }
  },
  "nbformat": 4,
  "nbformat_minor": 0
}
