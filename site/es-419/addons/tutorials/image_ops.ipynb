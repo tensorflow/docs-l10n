{
  "cells": [
    {
      "cell_type": "markdown",
      "metadata": {
        "id": "GWEKvPCCxJke"
      },
      "source": [
        "##### Copyright 2020 The TensorFlow Authors."
      ]
    },
    {
      "cell_type": "code",
      "execution_count": null,
      "metadata": {
        "cellView": "form",
        "id": "l-m8KQ-nxK5l"
      },
      "outputs": [],
      "source": [
        "#@title Licensed under the Apache License, Version 2.0 (the \"License\");\n",
        "# you may not use this file except in compliance with the License.\n",
        "# You may obtain a copy of the License at\n",
        "#\n",
        "# https://www.apache.org/licenses/LICENSE-2.0\n",
        "#\n",
        "# Unless required by applicable law or agreed to in writing, software\n",
        "# distributed under the License is distributed on an \"AS IS\" BASIS,\n",
        "# WITHOUT WARRANTIES OR CONDITIONS OF ANY KIND, either express or implied.\n",
        "# See the License for the specific language governing permissions and\n",
        "# limitations under the License."
      ]
    },
    {
      "cell_type": "markdown",
      "metadata": {
        "id": "O8FuVCLYxi_l"
      },
      "source": [
        "# Imágenes en complementos de TensorFlow: operaciones\n",
        "\n",
        "<table class=\"tfo-notebook-buttons\" align=\"left\">\n",
        "  <td><a target=\"_blank\" href=\"https://www.tensorflow.org/addons/tutorials/image_ops\"><img src=\"https://www.tensorflow.org/images/tf_logo_32px.png\">Ver en TensorFlow.org</a></td>\n",
        "  <td><a target=\"_blank\" href=\"https://colab.research.google.com/github/tensorflow/docs-l10n/blob/master/site/es-419/addons/tutorials/image_ops.ipynb\"><img src=\"https://www.tensorflow.org/images/colab_logo_32px.png\">Ejecutar en Google Colab</a></td>\n",
        "  <td>     <a target=\"_blank\" href=\"https://github.com/tensorflow/docs-l10n/blob/master/site/es-419/addons/tutorials/image_ops.ipynb\"><img src=\"https://www.tensorflow.org/images/GitHub-Mark-32px.png\">Ver fuente en GitHub</a>\n",
        "</td>\n",
        "      <td>     <a href=\"https://storage.googleapis.com/tensorflow_docs/docs-l10n/site/es-419/addons/tutorials/image_ops.ipynb\"><img src=\"https://www.tensorflow.org/images/download_logo_32px.png\">Descargar bloc de notas</a>\n",
        "</td>\n",
        "</table>"
      ]
    },
    {
      "cell_type": "markdown",
      "metadata": {
        "id": "2a5ksOt-xsOl"
      },
      "source": [
        "## Descripción general\n",
        "\n",
        "En estas notas se demuestra cómo usar algunas operaciones de imágenes con complementos de TensorFlow.\n",
        "\n",
        "A continuación, se comparte una lista de las operaciones para imágenes que incluiremos en este ejemplo:\n",
        "\n",
        "- `tfa.image.mean_filter2d`\n",
        "\n",
        "- `tfa.image.rotate`\n",
        "\n",
        "- `tfa.image.transform`\n",
        "\n",
        "- `tfa.image.random_hsv_in_yiq`\n",
        "\n",
        "- `tfa.image.adjust_hsv_in_yiq`\n",
        "\n",
        "- `tfa.image.dense_image_warp`\n",
        "\n",
        "- `tfa.image.euclidean_dist_transform`"
      ]
    },
    {
      "cell_type": "markdown",
      "metadata": {
        "id": "DMbjxr4PyMPF"
      },
      "source": [
        "# Preparación"
      ]
    },
    {
      "cell_type": "code",
      "execution_count": null,
      "metadata": {
        "id": "o_QTX_vHGbj7"
      },
      "outputs": [],
      "source": [
        "!pip install -U tensorflow-addons"
      ]
    },
    {
      "cell_type": "code",
      "execution_count": null,
      "metadata": {
        "id": "5hVIKCrhWh4a"
      },
      "outputs": [],
      "source": [
        "import tensorflow as tf\n",
        "import numpy as np\n",
        "import tensorflow_addons as tfa\n",
        "import matplotlib.pyplot as plt"
      ]
    },
    {
      "cell_type": "markdown",
      "metadata": {
        "id": "Q6Z2rsP8yp2v"
      },
      "source": [
        "# Preparación e inspección de las imágenes"
      ]
    },
    {
      "cell_type": "markdown",
      "metadata": {
        "id": "9gbgJP10z9WO"
      },
      "source": [
        "## Descargue las imágenes"
      ]
    },
    {
      "cell_type": "code",
      "execution_count": null,
      "metadata": {
        "id": "IgUsVhBQ6dSg"
      },
      "outputs": [],
      "source": [
        "img_path = tf.keras.utils.get_file('tensorflow.png','https://tensorflow.org/images/tf_logo.png')"
      ]
    },
    {
      "cell_type": "markdown",
      "metadata": {
        "id": "uheQOL-y0Fj3"
      },
      "source": [
        "## Inspeccione las imágenes"
      ]
    },
    {
      "cell_type": "markdown",
      "metadata": {
        "id": "MFGirRRZ0Y9k"
      },
      "source": [
        "### Ícono de TensorFlow"
      ]
    },
    {
      "cell_type": "code",
      "execution_count": null,
      "metadata": {
        "id": "NRlvNQdm1YI8"
      },
      "outputs": [],
      "source": [
        "img_raw = tf.io.read_file(img_path)\n",
        "img = tf.io.decode_image(img_raw)\n",
        "img = tf.image.convert_image_dtype(img, tf.float32)\n",
        "img = tf.image.resize(img, [500,500])\n",
        "\n",
        "plt.title(\"TensorFlow Logo with shape {}\".format(img.shape))\n",
        "_ = plt.imshow(img)"
      ]
    },
    {
      "cell_type": "markdown",
      "metadata": {
        "id": "clXQrFVa2nN7"
      },
      "source": [
        "### Haga una versión en blanco y negro"
      ]
    },
    {
      "cell_type": "code",
      "execution_count": null,
      "metadata": {
        "id": "tbaIkUCS2eNv"
      },
      "outputs": [],
      "source": [
        "bw_img = 1.0 - tf.image.rgb_to_grayscale(img)\n",
        "\n",
        "plt.title(\"Mask image with shape {}\".format(bw_img.shape))\n",
        "_ = plt.imshow(bw_img[...,0], cmap='gray')"
      ]
    },
    {
      "cell_type": "markdown",
      "metadata": {
        "id": "UwqfpOm--vV2"
      },
      "source": [
        "# Juguemos con tfa.image"
      ]
    },
    {
      "cell_type": "markdown",
      "metadata": {
        "id": "jIa5HnomPds3"
      },
      "source": [
        "## Filtrado medio\n",
        "\n",
        "El filtrado medio es una técnica de filtrado que, con frecuencia, se usa para despejar el ruido de una imagen o señal. La idea es ir por la imagen, pixel por pixel, y reemplazarlos por los valores promedio de los pixeles que los rodean."
      ]
    },
    {
      "cell_type": "code",
      "execution_count": null,
      "metadata": {
        "id": "SutWnbRoHl6i"
      },
      "outputs": [],
      "source": [
        "mean = tfa.image.mean_filter2d(img, filter_shape=11)\n",
        "_ = plt.imshow(mean)"
      ]
    },
    {
      "cell_type": "markdown",
      "metadata": {
        "id": "Mp6cU7I0-r2h"
      },
      "source": [
        "## Rotación\n",
        "\n",
        "Con esta operación se rota la imagen dada según el ángulo (en radianes) ingresado por el usuario. "
      ]
    },
    {
      "cell_type": "code",
      "execution_count": null,
      "metadata": {
        "id": "9kxUES9sM8Jl"
      },
      "outputs": [],
      "source": [
        "rotate = tfa.image.rotate(img, tf.constant(np.pi/8))\n",
        "_ = plt.imshow(rotate)"
      ]
    },
    {
      "cell_type": "markdown",
      "metadata": {
        "id": "WjMdSDKlBcPh"
      },
      "source": [
        "## Transformación\n",
        "\n",
        "Esta operación transforma la imagen dada en base al vector de transformación provisto por el usuario. "
      ]
    },
    {
      "cell_type": "code",
      "execution_count": null,
      "metadata": {
        "id": "HTh1Qpps8Rg5"
      },
      "outputs": [],
      "source": [
        "transform = tfa.image.transform(img, [1.0, 1.0, -250, 0.0, 1.0, 0.0, 0.0, 0.0])\n",
        "_ = plt.imshow(transform)"
      ]
    },
    {
      "cell_type": "markdown",
      "metadata": {
        "id": "O79BrK-bC8oh"
      },
      "source": [
        "## HSV aleatorio en YIQ\n",
        "\n",
        "Con esta operación se cambia la escala de colores de una imagen RGB dada a YIQ, donde los valores del delta de saturación y matiz se obtienen de forma aleatoria a partir de un rango dado."
      ]
    },
    {
      "cell_type": "code",
      "execution_count": null,
      "metadata": {
        "id": "zZBI-9XvBSuh"
      },
      "outputs": [],
      "source": [
        "delta = 0.5\n",
        "lower_saturation = 0.1\n",
        "upper_saturation = 0.9\n",
        "lower_value = 0.2\n",
        "upper_value = 0.8\n",
        "rand_hsvinyiq = tfa.image.random_hsv_in_yiq(img, delta, lower_saturation, upper_saturation, lower_value, upper_value)\n",
        "_ = plt.imshow(rand_hsvinyiq)"
      ]
    },
    {
      "cell_type": "markdown",
      "metadata": {
        "id": "ruyvVnmCDBgj"
      },
      "source": [
        "## Ajuste de HSV en YIQ\n",
        "\n",
        "Con esta operación se cambia la escala de colores de una imagen RGB dada a YIQ; pero en vez de hacerlo de forma aleatoria, los valores del delta de saturación y matiz son ingresados por el usuario."
      ]
    },
    {
      "cell_type": "code",
      "execution_count": null,
      "metadata": {
        "id": "vbCdwGtYChnQ"
      },
      "outputs": [],
      "source": [
        "delta = 0.5\n",
        "saturation = 0.3\n",
        "value = 0.6\n",
        "adj_hsvinyiq = tfa.image.adjust_hsv_in_yiq(img, delta, saturation, value)\n",
        "_ = plt.imshow(adj_hsvinyiq)"
      ]
    },
    {
      "cell_type": "markdown",
      "metadata": {
        "id": "fdbCDYJkG8Gv"
      },
      "source": [
        "## Encapsulamiento de imágenes densas\n",
        "\n",
        "Esta operación se usa para encapsulamientos (<em>wrap</em>) no lineales de cualquier imagen especificada por el campo de flujo de un vector de compensación (<em>offset</em>) (usado, en este caso, como valores aleatorios). "
      ]
    },
    {
      "cell_type": "code",
      "execution_count": null,
      "metadata": {
        "id": "dG557eQDDtSK"
      },
      "outputs": [],
      "source": [
        "input_img = tf.image.convert_image_dtype(tf.expand_dims(img, 0), tf.dtypes.float32)\n",
        "\n",
        "flow_shape = [1, input_img.shape[1], input_img.shape[2], 2]\n",
        "init_flows = np.float32(np.random.normal(size=flow_shape) * 2.0)\n",
        "dense_img_warp = tfa.image.dense_image_warp(input_img, init_flows)\n",
        "dense_img_warp = tf.squeeze(dense_img_warp, 0)\n",
        "_ = plt.imshow(dense_img_warp)"
      ]
    },
    {
      "cell_type": "markdown",
      "metadata": {
        "id": "FcLMnSKYPcjA"
      },
      "source": [
        "## Transformación de la distancia euclidiana\n",
        "\n",
        "Con esta operación se actualiza el valor de los pixeles según la distancia euclidiana que hay desde los pixeles en primer plano hasta los del fondo.\n",
        "\n",
        "- Nota: Para la imagen transformada se toman solamente imágenes y resultados binarios. Si la imagen aportada es diferente, dará como resultado una imagen con un solo valor."
      ]
    },
    {
      "cell_type": "code",
      "execution_count": null,
      "metadata": {
        "id": "-OMh6oeRQaYQ"
      },
      "outputs": [],
      "source": [
        "gray = tf.image.convert_image_dtype(bw_img,tf.uint8)\n",
        "# The op expects a batch of images, so add a batch dimension\n",
        "gray = tf.expand_dims(gray, 0)\n",
        "eucid = tfa.image.euclidean_dist_transform(gray)\n",
        "eucid = tf.squeeze(eucid, (0, -1))\n",
        "_ = plt.imshow(eucid, cmap='gray')"
      ]
    }
  ],
  "metadata": {
    "accelerator": "GPU",
    "colab": {
      "collapsed_sections": [],
      "name": "image_ops.ipynb",
      "toc_visible": true
    },
    "kernelspec": {
      "display_name": "Python 3",
      "name": "python3"
    }
  },
  "nbformat": 4,
  "nbformat_minor": 0
}
