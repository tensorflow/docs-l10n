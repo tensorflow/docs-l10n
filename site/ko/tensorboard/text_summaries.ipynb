{
  "cells": [
    {
      "cell_type": "markdown",
      "metadata": {
        "id": "djUvWu41mtXa"
      },
      "source": [
        "##### Copyright 2021 The TensorFlow Authors."
      ]
    },
    {
      "cell_type": "code",
      "execution_count": 1,
      "metadata": {
        "cellView": "form",
        "id": "su2RaORHpReL"
      },
      "outputs": [],
      "source": [
        "#@title Licensed under the Apache License, Version 2.0 (the \"License\");\n",
        "# you may not use this file except in compliance with the License.\n",
        "# You may obtain a copy of the License at\n",
        "#\n",
        "# https://www.apache.org/licenses/LICENSE-2.0\n",
        "#\n",
        "# Unless required by applicable law or agreed to in writing, software\n",
        "# distributed under the License is distributed on an \"AS IS\" BASIS,\n",
        "# WITHOUT WARRANTIES OR CONDITIONS OF ANY KIND, either express or implied.\n",
        "# See the License for the specific language governing permissions and\n",
        "# limitations under the License."
      ]
    },
    {
      "cell_type": "markdown",
      "metadata": {
        "id": "NztQK2uFpXT-"
      },
      "source": [
        "# TensorBoard에 텍스트 데이터 표시하기\n",
        "\n",
        "<table class=\"tfo-notebook-buttons\" align=\"left\">\n",
        "  <td>     <a target=\"_blank\" href=\"https://www.tensorflow.org/tensorboard/text_summaries\"><img src=\"https://www.tensorflow.org/images/tf_logo_32px.png\">TensorFlow.org에서 보기</a>\n",
        "</td>\n",
        "  <td>     <a target=\"_blank\" href=\"https://colab.research.google.com/github/tensorflow/docs-l10n/blob/master/site/ko/tensorboard/text_summaries.ipynb\"><img src=\"https://www.tensorflow.org/images/colab_logo_32px.png\">Google Colab에서 실행하기</a>\n",
        "</td>\n",
        "  <td><a target=\"_blank\" href=\"https://github.com/tensorflow/docs-l10n/blob/master/site/ko/tensorboard/text_summaries.ipynb\"><img src=\"https://www.tensorflow.org/images/GitHub-Mark-32px.png\">GitHub에서 소스 보기</a></td>\n",
        "  <td><a href=\"https://storage.googleapis.com/tensorflow_docs/docs-l10n/site/ko/tensorboard/text_summaries.ipynb\"><img src=\"https://www.tensorflow.org/images/download_logo_32px.png\">노트북 다운로드</a></td>\n",
        "</table>"
      ]
    },
    {
      "cell_type": "markdown",
      "metadata": {
        "id": "eDXRFe_qp5C3"
      },
      "source": [
        "## 개요\n",
        "\n",
        "**TensorFlow Text Summary API**를 사용하면 임의의 텍스트를 쉽게 로깅하고 TensorBoard에서 볼 수 있습니다. 이는 입력 데이터를 샘플링 및 검사하거나 <a>실행 메타데이터</a> 또는 <a>생성된 텍스트를 기록</a>하는 데 대단히 유용할 수 있습니다. 또한, 진단 데이터를 텍스트로 로깅하여 모델 개발 과정에서 도움을 받을 수 있습니다.\n",
        "\n",
        "이 자습서에서는 Text Summary API의 몇 가지의 간단한 사용 사례를 시도합니다."
      ]
    },
    {
      "cell_type": "markdown",
      "metadata": {
        "id": "dG-nnZK9qW9z"
      },
      "source": [
        "## 설정"
      ]
    },
    {
      "cell_type": "code",
      "execution_count": 2,
      "metadata": {
        "id": "3U5gdCw_nSG3"
      },
      "outputs": [],
      "source": [
        "try:\n",
        "  # %tensorflow_version only exists in Colab.\n",
        "  %tensorflow_version 2.x\n",
        "except Exception:\n",
        "  pass\n",
        "\n",
        "# Load the TensorBoard notebook extension.\n",
        "%load_ext tensorboard"
      ]
    },
    {
      "cell_type": "code",
      "execution_count": 3,
      "metadata": {
        "id": "1qIKtOBrqc9Y"
      },
      "outputs": [
        {
          "name": "stdout",
          "output_type": "stream",
          "text": [
            "TensorFlow version:  2.5.0-dev20210219\n"
          ]
        }
      ],
      "source": [
        "import tensorflow as tf\n",
        "\n",
        "from datetime import datetime\n",
        "import json\n",
        "from packaging import version\n",
        "import tempfile\n",
        "\n",
        "print(\"TensorFlow version: \", tf.__version__)\n",
        "assert version.parse(tf.__version__).release[0] >= 2, \\\n",
        "    \"This notebook requires TensorFlow 2.0 or above.\""
      ]
    },
    {
      "cell_type": "markdown",
      "metadata": {
        "id": "qNsjMY0364j4"
      },
      "source": [
        "## 짧은 텍스트 로깅하기\n",
        "\n",
        "Text Summary API의 작동 방식을 이해하기 위해, 약간의 텍스트를 로깅하고 TensorBoard에 어떻게 표시되는지 확인하겠습니다.\n"
      ]
    },
    {
      "cell_type": "code",
      "execution_count": 4,
      "metadata": {
        "id": "FxMPcdmvBn9t"
      },
      "outputs": [],
      "source": [
        "my_text = \"Hello world! 😃\""
      ]
    },
    {
      "cell_type": "code",
      "execution_count": 5,
      "metadata": {
        "id": "IJNpyVyxbVtT"
      },
      "outputs": [],
      "source": [
        "# Clear out any prior log data.\n",
        "!rm -rf logs\n",
        "\n",
        "# Sets up a timestamped log directory.\n",
        "logdir = \"logs/text_basics/\" + datetime.now().strftime(\"%Y%m%d-%H%M%S\")\n",
        "# Creates a file writer for the log directory.\n",
        "file_writer = tf.summary.create_file_writer(logdir)\n",
        "\n",
        "# Using the file writer, log the text.\n",
        "with file_writer.as_default():\n",
        "  tf.summary.text(\"first_text\", my_text, step=0)"
      ]
    },
    {
      "cell_type": "markdown",
      "metadata": {
        "id": "rngALbRogXe6"
      },
      "source": [
        "이제 TensorBoard를 사용하여 텍스트를 검사합니다. UI가 모두 표시될 때까지 몇 초 정도 기다리세요."
      ]
    },
    {
      "cell_type": "code",
      "execution_count": 6,
      "metadata": {
        "id": "T_X-wIy-lD9f"
      },
      "outputs": [],
      "source": [
        "%tensorboard --logdir logs"
      ]
    },
    {
      "cell_type": "markdown",
      "metadata": {
        "id": "c8n8YqGlT3-c"
      },
      "source": [
        "<!-- <img class=\"tfo-display-only-on-site\" src=\"https://github.com/tensorflow/tensorboard/blob/master/docs/images/text_simple.png?raw=1\"/> -->"
      ]
    },
    {
      "cell_type": "markdown",
      "metadata": {
        "id": "34enxJjjgWi7"
      },
      "source": [
        "## 복수의 테스트 스트림 구성하기\n",
        "\n",
        "복수의 테스트 스트림이 있는 경우 스칼라 혹은 기타 데이터와 같이 구성하는 데 도움이 되도록 별도의 네임스페이스에 보관할 수 있습니다.\n",
        "\n",
        "다수의 단계로 로그 텍스트를 기록할 경우 TensorBoard는 프레젠테이션을 관리할 수 있도록 표시할 단계를 서브샘플링합니다. `--samples_per_plugin` 플래그를 사용하여 샘플링 속도를 제어할 수 있습니다."
      ]
    },
    {
      "cell_type": "code",
      "execution_count": 7,
      "metadata": {
        "id": "dda6960f0119"
      },
      "outputs": [],
      "source": [
        "# Sets up a second directory to not overwrite the first one.\n",
        "logdir = \"logs/multiple_texts/\" + datetime.now().strftime(\"%Y%m%d-%H%M%S\")\n",
        "# Creates a file writer for the log directory.\n",
        "file_writer = tf.summary.create_file_writer(logdir)\n",
        "\n",
        "# Using the file writer, log the text.\n",
        "with file_writer.as_default():\n",
        "  with tf.name_scope(\"name_scope_1\"):\n",
        "    for step in range(20):\n",
        "      tf.summary.text(\"a_stream_of_text\", f\"Hello from step {step}\", step=step)\n",
        "      tf.summary.text(\"another_stream_of_text\", f\"This can be kept separate {step}\", step=step)\n",
        "  with tf.name_scope(\"name_scope_2\"):\n",
        "    tf.summary.text(\"just_from_step_0\", \"This is an important announcement from step 0\", step=0)\n",
        "    "
      ]
    },
    {
      "cell_type": "code",
      "execution_count": 14,
      "metadata": {
        "id": "515199f4b547"
      },
      "outputs": [],
      "source": [
        "%tensorboard --logdir logs/multiple_texts --samples_per_plugin 'text=5'"
      ]
    },
    {
      "cell_type": "markdown",
      "metadata": {
        "id": "bjACE1lAsqUd"
      },
      "source": [
        "## 마크다운 해석하기\n",
        "\n",
        "TensorBoard는 텍스트 요약을 Markdown으로 번역합니다. 아래에 표시된 것처럼 풍부한 포맷을 사용하면 기록하는 데이터를 더 쉽게 읽고 이해할 수 있기 때문입니다. (마크다운 해석을 원하지 않는 경우 [이 이슈](https://github.com/tensorflow/tensorboard/issues/830) 에서 번역을 억제하는 방법을 참고하세요.)"
      ]
    },
    {
      "cell_type": "code",
      "execution_count": 9,
      "metadata": {
        "id": "iHUjCXbetIpb"
      },
      "outputs": [],
      "source": [
        "# Sets up a third timestamped log directory under \"logs\"\n",
        "logdir = \"logs/markdown/\" + datetime.now().strftime(\"%Y%m%d-%H%M%S\")\n",
        "# Creates a file writer for the log directory.\n",
        "file_writer = tf.summary.create_file_writer(logdir)\n",
        "\n",
        "some_obj_worth_noting = {\n",
        "  \"tfds_training_data\": {\n",
        "      \"name\": \"mnist\",\n",
        "      \"split\": \"train\",\n",
        "      \"shuffle_files\": \"True\",\n",
        "  },\n",
        "  \"keras_optimizer\": {\n",
        "      \"name\": \"Adagrad\",\n",
        "      \"learning_rate\": \"0.001\",\n",
        "      \"epsilon\": 1e-07,\n",
        "  },\n",
        "  \"hardware\": \"Cloud TPU\",\n",
        "}\n",
        "\n",
        "\n",
        "# TODO: Update this example when TensorBoard is released with\n",
        "# https://github.com/tensorflow/tensorboard/pull/4585\n",
        "# which supports fenced codeblocks in Markdown.\n",
        "def pretty_json(hp):\n",
        "  json_hp = json.dumps(hp, indent=2)\n",
        "  return \"\".join(\"\\t\" + line for line in json_hp.splitlines(True))\n",
        "\n",
        "markdown_text = \"\"\"\n",
        "### Markdown Text\n",
        "\n",
        "TensorBoard supports basic markdown syntax, including:\n",
        "\n",
        "    preformatted code\n",
        "\n",
        "**bold text**\n",
        "\n",
        "| and | tables |\n",
        "| ---- | ---------- |\n",
        "| among | others |\n",
        "\"\"\"\n",
        "\n",
        "with file_writer.as_default():\n",
        "  tf.summary.text(\"run_params\", pretty_json(some_obj_worth_noting), step=0)\n",
        "  tf.summary.text(\"markdown_jubiliee\", markdown_text, step=0)\n",
        "    "
      ]
    },
    {
      "cell_type": "code",
      "execution_count": 10,
      "metadata": {
        "id": "57082d8d6839"
      },
      "outputs": [],
      "source": [
        "%tensorboard --logdir logs/markdown"
      ]
    }
  ],
  "metadata": {
    "colab": {
      "collapsed_sections": [],
      "name": "text_summaries.ipynb",
      "toc_visible": true
    },
    "kernelspec": {
      "display_name": "Python 3",
      "name": "python3"
    }
  },
  "nbformat": 4,
  "nbformat_minor": 0
}
