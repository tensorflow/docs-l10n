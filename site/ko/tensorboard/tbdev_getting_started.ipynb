{
  "cells": [
    {
      "cell_type": "markdown",
      "metadata": {
        "id": "h3Nuf-G4xJ0u"
      },
      "source": [
        "##### Copyright 2020 The TensorFlow Authors."
      ]
    },
    {
      "cell_type": "code",
      "execution_count": null,
      "metadata": {
        "cellView": "form",
        "id": "zZ81_4tLxSvd"
      },
      "outputs": [],
      "source": [
        "#@title Licensed under the Apache License, Version 2.0 (the \"License\");\n",
        "# you may not use this file except in compliance with the License.\n",
        "# You may obtain a copy of the License at\n",
        "#\n",
        "# https://www.apache.org/licenses/LICENSE-2.0\n",
        "#\n",
        "# Unless required by applicable law or agreed to in writing, software\n",
        "# distributed under the License is distributed on an \"AS IS\" BASIS,\n",
        "# WITHOUT WARRANTIES OR CONDITIONS OF ANY KIND, either express or implied.\n",
        "# See the License for the specific language governing permissions and\n",
        "# limitations under the License."
      ]
    },
    {
      "cell_type": "markdown",
      "metadata": {
        "id": "wNBP_f0QUTfO"
      },
      "source": [
        "# [TensorBoard.dev](https://tensorboard.dev) 시작하기"
      ]
    },
    {
      "cell_type": "markdown",
      "metadata": {
        "id": "DLXZ3t1PWdOp"
      },
      "source": [
        "[TensorBoard.dev](https://tensorboard.dev)는 자신의 ML 실험을 업로드하고 모든 사람과 공유할 수 있는 무료 공개 [TensorBoard](https://tensorflow.org/tensorboard) 서비스입니다.\n",
        "\n",
        "이 노트북에서는 간단한 모델을 훈련하고 TensorBoard.dev에 로그를 업로드하는 방법을 안내합니다. [미리보기](https://tensorboard.dev/experiment/rldGbR8rRHeCEbkK61SWTQ)"
      ]
    },
    {
      "cell_type": "markdown",
      "metadata": {
        "id": "yjBn-ptXTppA"
      },
      "source": [
        "### 설정 및 가져오기\n",
        "\n",
        "이 노트북은 `2.3.0` 이상의 버전에서만 사용할 수 있는 TensorBoard 기능을 사용합니다."
      ]
    },
    {
      "cell_type": "code",
      "execution_count": null,
      "metadata": {
        "id": "L3ns52Luracm"
      },
      "outputs": [],
      "source": [
        "import tensorflow as tf\n",
        "import datetime\n",
        "from tensorboard.plugins.hparams import api as hp"
      ]
    },
    {
      "cell_type": "markdown",
      "metadata": {
        "id": "GqUABmUTT1Cl"
      },
      "source": [
        "### 간단한 모델 훈련 및 TensorBoard 로그 생성하기"
      ]
    },
    {
      "cell_type": "code",
      "execution_count": null,
      "metadata": {
        "id": "LZExSr2Qrc5S"
      },
      "outputs": [],
      "source": [
        "mnist = tf.keras.datasets.mnist\n",
        "\n",
        "(x_train, y_train),(x_test, y_test) = mnist.load_data()\n",
        "x_train, x_test = x_train / 255.0, x_test / 255.0\n",
        "\n",
        "def create_model():\n",
        "  return tf.keras.models.Sequential([\n",
        "    tf.keras.layers.Flatten(input_shape=(28, 28)),\n",
        "    tf.keras.layers.Dense(512, activation='relu'),\n",
        "    tf.keras.layers.Dropout(0.2),\n",
        "    tf.keras.layers.Dense(10, activation='softmax')\n",
        "  ])"
      ]
    },
    {
      "cell_type": "markdown",
      "metadata": {
        "id": "FSv4C0dBrmAx"
      },
      "source": [
        "TensorBoard 로그는 [TensorBoard](https://www.tensorflow.org/tensorboard/get_started) 및 [하이퍼 매개변수 콜백](https://www.tensorflow.org/tensorboard/hyperparameter_tuning_with_hparams)을 Keras의 Model.fit()에 전달하여 훈련 중에 생성됩니다. 그러면 이러한 로그를 TensorBoard.dev에 업로드할 수 있습니다.\n"
      ]
    },
    {
      "cell_type": "code",
      "execution_count": null,
      "metadata": {
        "id": "dsVjm5CrUtXm"
      },
      "outputs": [],
      "source": [
        "model = create_model()\n",
        "model.compile(\n",
        "    optimizer='adam',\n",
        "    loss='sparse_categorical_crossentropy',\n",
        "    metrics=['accuracy'])\n",
        "\n",
        "log_dir=\"logs/fit/\" + datetime.datetime.now().strftime(\"%Y%m%d-%H%M%S\")\n",
        "tensorboard_callback = tf.keras.callbacks.TensorBoard(\n",
        "    log_dir=log_dir, histogram_freq=1)\n",
        "hparams_callback = hp.KerasCallback(log_dir, {\n",
        "    'num_relu_units': 512,\n",
        "    'dropout': 0.2\n",
        "})\n",
        "\n",
        "model.fit(\n",
        "    x=x_train, \n",
        "    y=y_train, \n",
        "    epochs=5, \n",
        "    validation_data=(x_test, y_test), \n",
        "    callbacks=[tensorboard_callback, hparams_callback])"
      ]
    },
    {
      "cell_type": "markdown",
      "metadata": {
        "id": "TgF35qdzIC3T"
      },
      "source": [
        "### (Jupyter만 해당) TensorBoard.dev 인증하기\n",
        "\n",
        "**Colab에서는 이 단계가 필요하지 않습니다.**\n",
        "\n",
        "이 단계에서는 Jupyter 외부의 셸 콘솔에서 인증을 받아야 합니다. 콘솔에서 다음 명령을 실행합니다.\n",
        "\n",
        "`tensorboard dev list`\n",
        "\n",
        "이 흐름의 일부로 인증 코드가 제공됩니다. 이 코드는 서비스 약관에 동의하는 데 필요합니다."
      ]
    },
    {
      "cell_type": "markdown",
      "metadata": {
        "id": "oKW8V5chyx6e"
      },
      "source": [
        "### TensorBoard.dev에 업로드하기\n",
        "\n",
        "TensorBoard 로그를 업로드하면 모든 사람과 공유할 수 있는 URL이 제공됩니다.\n",
        "\n",
        "업로드된 TensorBoard는 공개되므로 민감한 데이터를 업로드하지 마세요.\n",
        "\n",
        "전체 logdir이 업로드되면 업로더가 종료됩니다. 이것은 `--one_shot` 플래그에 의해 지정된 동작입니다."
      ]
    },
    {
      "cell_type": "code",
      "execution_count": null,
      "metadata": {
        "id": "n2PvxhOkW7vn"
      },
      "outputs": [],
      "source": [
        "!tensorboard dev upload --logdir ./logs \\\n",
        "  --name \"Simple experiment with MNIST\" \\\n",
        "  --description \"Training results from https://colab.sandbox.google.com/github/tensorflow/tensorboard/blob/master/docs/tbdev_getting_started.ipynb\" \\\n",
        "  --one_shot"
      ]
    },
    {
      "cell_type": "markdown",
      "metadata": {
        "id": "5QH5k4AUNE27"
      },
      "source": [
        "각 개별 업로드에는 고유한 실험 ID가 있습니다. 즉, 동일한 디렉터리로 새 업로드를 시작하면 새 실험 ID를 얻게 됩니다. 업로드한 모든 실험은 https://tensorboard.dev/experiments/에서 볼 수 있습니다. 또는 다음 명령을 사용하여 터미널에서 실험을 나열할 수 있습니다.\n",
        "\n",
        "```\n",
        "tensorboard dev list\n",
        "```"
      ]
    },
    {
      "cell_type": "code",
      "execution_count": null,
      "metadata": {
        "id": "C2Pj3RQCNQvP"
      },
      "outputs": [],
      "source": [
        "!tensorboard dev list"
      ]
    },
    {
      "cell_type": "markdown",
      "metadata": {
        "id": "NyJsD3Ypyx6m"
      },
      "source": [
        "### TensorBoard.dev의 스크린샷\n",
        "\n",
        "https://tensorboard.dev/experiments/로 이동하면 다음과 같이 표시됩니다.\n",
        "\n",
        "![screenshot of TensorBoard.dev](images/tbdev_getting_started.png \"TensorBoard.dev 스크린 샷\")\n",
        "\n",
        "TensorBoard.dev에서 새로운 실험으로 이동할 때의 모습입니다.\n",
        "\n",
        "![screenshot of TensorBoard.dev experiment dashboard](https://github.com/tensorflow/docs-l10n/blob/master/site/ko/tensorboard/images/tbdev_getting_started.png?raw=true)"
      ]
    },
    {
      "cell_type": "markdown",
      "metadata": {
        "id": "JcZOGmjQNWk_"
      },
      "source": [
        "### TensorBoard.dev 실험 삭제하기\n",
        "\n",
        "업로드한 실험을 제거하려면 `delete` 명령을 사용하고 해당 `experiment_id`를 지정합니다. 위 스크린샷에서 experiment_id는 왼쪽 하단 코너에 나열되어 있습니다(`w1lkBAOrR4eH35Y7Lg1DQQ`)."
      ]
    },
    {
      "cell_type": "code",
      "execution_count": null,
      "metadata": {
        "id": "VSkJTT9rNWJq"
      },
      "outputs": [],
      "source": [
        "# You must replace YOUR_EXPERIMENT_ID with the value output from the previous\n",
        "# tensorboard `list` command or `upload` command.  For example\n",
        "# `tensorboard dev delete --experiment_id pQpJNh00RG2Lf1zOe9BrQA`\n",
        "\n",
        "## !tensorboard dev delete --experiment_id YOUR_EXPERIMENT_ID_HERE"
      ]
    }
  ],
  "metadata": {
    "colab": {
      "collapsed_sections": [],
      "name": "tbdev_getting_started.ipynb",
      "toc_visible": true
    },
    "kernelspec": {
      "display_name": "Python 3",
      "name": "python3"
    }
  },
  "nbformat": 4,
  "nbformat_minor": 0
}
