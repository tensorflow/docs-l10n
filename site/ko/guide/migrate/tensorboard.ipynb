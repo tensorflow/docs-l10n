{
  "cells": [
    {
      "cell_type": "markdown",
      "metadata": {
        "id": "wJcYs_ERTnnI"
      },
      "source": [
        "##### Copyright 2021 The TensorFlow Authors."
      ]
    },
    {
      "cell_type": "code",
      "execution_count": null,
      "metadata": {
        "cellView": "form",
        "id": "HMUDt0CiUJk9"
      },
      "outputs": [],
      "source": [
        "#@title Licensed under the Apache License, Version 2.0 (the \"License\");\n",
        "# you may not use this file except in compliance with the License.\n",
        "# You may obtain a copy of the License at\n",
        "#\n",
        "# https://www.apache.org/licenses/LICENSE-2.0\n",
        "#\n",
        "# Unless required by applicable law or agreed to in writing, software\n",
        "# distributed under the License is distributed on an \"AS IS\" BASIS,\n",
        "# WITHOUT WARRANTIES OR CONDITIONS OF ANY KIND, either express or implied.\n",
        "# See the License for the specific language governing permissions and\n",
        "# limitations under the License."
      ]
    },
    {
      "cell_type": "markdown",
      "metadata": {
        "id": "77z2OchJTk0l"
      },
      "source": [
        "# TensorBoard 이동: TensorFlow의 시각화 도구모음\n",
        "\n",
        "<table class=\"tfo-notebook-buttons\" align=\"left\">\n",
        "  <td>     <a target=\"_blank\" href=\"https://www.tensorflow.org/guide/migrate/tensorboard\">     <img src=\"https://www.tensorflow.org/images/tf_logo_32px.png\">     TensorFlow.org에서 보기</a>\n",
        "</td>\n",
        "  <td>     <a target=\"_blank\" href=\"https://colab.research.google.com/github/tensorflow/docs-l10n/blob/master/site/ko/guide/migrate/tensorboard.ipynb\">     <img src=\"https://www.tensorflow.org/images/colab_logo_32px.png\">     <br>Google Colab에서 실행</a>\n",
        "</td>\n",
        "  <td>     <a target=\"_blank\" href=\"https://github.com/tensorflow/docs-l10n/blob/master/site/ko/guide/migrate/tensorboard.ipynb\">     <img src=\"https://www.tensorflow.org/images/GitHub-Mark-32px.png\">     <br>GitHub에서 소스 보기</a>\n",
        "</td>\n",
        "  <td>     <a href=\"https://storage.googleapis.com/tensorflow_docs/docs-l10n/site/ko/guide/migrate/tensorboard.ipynb\"><img src=\"https://www.tensorflow.org/images/download_logo_32px.png\"><br>노트북 다운로드</a>\n",
        "</td>\n",
        "</table>\n"
      ]
    },
    {
      "cell_type": "markdown",
      "metadata": {
        "id": "hIo_p2FWFIRx"
      },
      "source": [
        "[TensorBoard](https://www.tensorflow.org/tensorboard) 는 TensorFlow에서 측정과 시각화를 제공하는 내장 도구이다. 정확도와 손실 같은, 머신러닝 실험의 공통의 기준들은 TensorBoard가 추적하고 보여줄 수 있다. TensorBoard 는 TensorFlow 1과 2의 코드와 호환된다.\n",
        "\n",
        "TensorFlow 1에서는, `tf.estimator.Estimator` 기본적으로 TensorBoard에 대한 개요를 저장한다. 그에 비해, TensorFlow 2에서는 , 개요는 `tf.keras.callbacks.TensorBoard` <a href=\"https://keras.io/api/callbacks/\" class=\"external\">callback</a> 을 사용해서 저장한다.\n",
        "\n",
        "이 가이드는 첫째로 TensorFlow 1에서 평가기준을 가지고 어떻게 TensorBoard를 이용하는지와 TensorFlow 2에서 어떻게 동등한 프로세스를 수행할 수 있는지에 대해서 보여준다."
      ]
    },
    {
      "cell_type": "markdown",
      "metadata": {
        "id": "f55c103999de"
      },
      "source": [
        "### 설정"
      ]
    },
    {
      "cell_type": "code",
      "execution_count": null,
      "metadata": {
        "id": "X74yjOb-e18w"
      },
      "outputs": [],
      "source": [
        "import tensorflow.compat.v1 as tf1\n",
        "import tensorflow as tf\n",
        "import tempfile\n",
        "import numpy as np\n",
        "import datetime\n",
        "%load_ext tensorboard"
      ]
    },
    {
      "cell_type": "code",
      "execution_count": null,
      "metadata": {
        "id": "2r8r4d8FfMny"
      },
      "outputs": [],
      "source": [
        "mnist = tf.keras.datasets.mnist # The MNIST dataset.\n",
        "\n",
        "(x_train, y_train),(x_test, y_test) = mnist.load_data()\n",
        "x_train, x_test = x_train / 255.0, x_test / 255.0"
      ]
    },
    {
      "cell_type": "markdown",
      "metadata": {
        "id": "wrqBkG4RFLP_"
      },
      "source": [
        "### TensorFlow 1: tf.estimator와 TensorBoard\n",
        "\n",
        "이 TensorFlow 1 예시에서, `tf.estimator.DNNClassifier`을 예시로 들어 설명하는데, MNIST dataset에서 훈련하고 평가하며, 기준들을 보여주기 위해서 TensorBoard를 이용한다:"
      ]
    },
    {
      "cell_type": "code",
      "execution_count": null,
      "metadata": {
        "id": "upA8nuf3FEq5"
      },
      "outputs": [],
      "source": [
        "%reload_ext tensorboard\n",
        "\n",
        "feature_columns = [tf1.feature_column.numeric_column(\"x\", shape=[28, 28])]\n",
        "\n",
        "config = tf1.estimator.RunConfig(save_summary_steps=1,\n",
        "                                 save_checkpoints_steps=1)\n",
        "\n",
        "path = tempfile.mkdtemp()\n",
        "\n",
        "classifier = tf1.estimator.DNNClassifier(\n",
        "    feature_columns=feature_columns,\n",
        "    hidden_units=[256, 32],\n",
        "    optimizer=tf1.train.AdamOptimizer(0.001),\n",
        "    n_classes=10,\n",
        "    dropout=0.1,\n",
        "    model_dir=path,\n",
        "    config = config\n",
        ")\n",
        "\n",
        "train_input_fn = tf1.estimator.inputs.numpy_input_fn(\n",
        "    x={\"x\": x_train},\n",
        "    y=y_train.astype(np.int32),\n",
        "    num_epochs=10,\n",
        "    batch_size=50,\n",
        "    shuffle=True,\n",
        ")\n",
        "\n",
        "test_input_fn = tf1.estimator.inputs.numpy_input_fn(\n",
        "    x={\"x\": x_test},\n",
        "    y=y_test.astype(np.int32),\n",
        "    num_epochs=10,\n",
        "    shuffle=False\n",
        ")\n",
        "\n",
        "train_spec = tf1.estimator.TrainSpec(input_fn=train_input_fn, max_steps=10)\n",
        "eval_spec = tf1.estimator.EvalSpec(input_fn=test_input_fn,\n",
        "                                   steps=10,\n",
        "                                   throttle_secs=0)\n",
        "\n",
        "tf1.estimator.train_and_evaluate(estimator=classifier,\n",
        "                                train_spec=train_spec,\n",
        "                                eval_spec=eval_spec)"
      ]
    },
    {
      "cell_type": "code",
      "execution_count": null,
      "metadata": {
        "id": "EBqO7JbR8bh2"
      },
      "outputs": [],
      "source": [
        "%tensorboard --logdir {classifier.model_dir}"
      ]
    },
    {
      "cell_type": "markdown",
      "metadata": {
        "id": "GK8TK1CU88ns"
      },
      "source": [
        "<!-- <img class=\"tfo-display-only-on-site\" src=\"images/tensorboard_TF1.png\"/> -->"
      ]
    },
    {
      "cell_type": "markdown",
      "metadata": {
        "id": "QvE_uxDJFUX-"
      },
      "source": [
        "### TensorFlow 2: Keras callback and Model.fit 과 TensorBoard\n",
        "\n",
        "이 TensorFlow 2 예시에서,`tf.keras.callbacks.TensorBoard` callback와 함께 로그를 생성하고 저장하고, 모델을 훈련시킨다. callback 정확도와 loss per epoch를 추적한다. 그리고  in the `callbacks` 리스트 안에 있는 `Model.fit 에 전달된다.`"
      ]
    },
    {
      "cell_type": "code",
      "execution_count": null,
      "metadata": {
        "id": "9FLBhT2BFX2H"
      },
      "outputs": [],
      "source": [
        "%reload_ext tensorboard\n",
        "\n",
        "def create_model():\n",
        "  return tf.keras.models.Sequential([\n",
        "    tf.keras.layers.Flatten(input_shape=(28, 28)),\n",
        "    tf.keras.layers.Dense(512, activation='relu'),\n",
        "    tf.keras.layers.Dropout(0.2),\n",
        "    tf.keras.layers.Dense(10, activation='softmax')\n",
        "  ])\n",
        "\n",
        "model = create_model()\n",
        "model.compile(optimizer='adam',\n",
        "              loss='sparse_categorical_crossentropy',\n",
        "              metrics=['accuracy'],\n",
        "              steps_per_execution=10)\n",
        "\n",
        "log_dir = tempfile.mkdtemp()\n",
        "tensorboard_callback = tf.keras.callbacks.TensorBoard(\n",
        "  log_dir=log_dir,\n",
        "  histogram_freq=1) # Enable histogram computation with each epoch.\n",
        "\n",
        "model.fit(x=x_train,\n",
        "          y=y_train,\n",
        "          epochs=10,\n",
        "          validation_data=(x_test, y_test),\n",
        "          callbacks=[tensorboard_callback])"
      ]
    },
    {
      "cell_type": "code",
      "execution_count": null,
      "metadata": {
        "id": "ovPoLrCJ8t-R"
      },
      "outputs": [],
      "source": [
        "%tensorboard --logdir {tensorboard_callback.log_dir}"
      ]
    },
    {
      "cell_type": "markdown",
      "metadata": {
        "id": "Ip-IMGt_8xx9"
      },
      "source": [
        "<!-- <img class=\"tfo-display-only-on-site\" src=\"images/tensorboard_TF2.png\"/> -->\n"
      ]
    },
    {
      "cell_type": "markdown",
      "metadata": {
        "id": "rQUS8nO9FZlH"
      },
      "source": [
        "# 다음 단계\n",
        "\n",
        "- [Get started](https://www.tensorflow.org/tensorboard/get_started) 가이드에서 TensorBoard에 대한 더 많은 것을 알아보기.\n",
        "- lower level APIs에 대해서는, [tf.summary migration to TensorFlow 2](https://www.tensorflow.org/tensorboard/migrate) 가이드를 참조."
      ]
    }
  ],
  "metadata": {
    "colab": {
      "collapsed_sections": [],
      "name": "tensorboard.ipynb",
      "toc_visible": true
    },
    "kernelspec": {
      "display_name": "Python 3",
      "name": "python3"
    }
  },
  "nbformat": 4,
  "nbformat_minor": 0
}
