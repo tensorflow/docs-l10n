{
  "cells": [
    {
      "cell_type": "markdown",
      "metadata": {
        "id": "wJcYs_ERTnnI"
      },
      "source": [
        "##### Copyright 2021 The TensorFlow Authors."
      ]
    },
    {
      "cell_type": "code",
      "execution_count": null,
      "metadata": {
        "cellView": "form",
        "id": "HMUDt0CiUJk9"
      },
      "outputs": [],
      "source": [
        "#@title Licensed under the Apache License, Version 2.0 (the \"License\");\n",
        "# you may not use this file except in compliance with the License.\n",
        "# You may obtain a copy of the License at\n",
        "#\n",
        "# https://www.apache.org/licenses/LICENSE-2.0\n",
        "#\n",
        "# Unless required by applicable law or agreed to in writing, software\n",
        "# distributed under the License is distributed on an \"AS IS\" BASIS,\n",
        "# WITHOUT WARRANTIES OR CONDITIONS OF ANY KIND, either express or implied.\n",
        "# See the License for the specific language governing permissions and\n",
        "# limitations under the License."
      ]
    },
    {
      "cell_type": "markdown",
      "metadata": {
        "id": "77z2OchJTk0l"
      },
      "source": [
        "# 체크포인트 저장 항목 마이그레이션하기\n",
        "\n",
        "<table class=\"tfo-notebook-buttons\" align=\"left\">\n",
        "  <td><a target=\"_blank\" href=\"https://www.tensorflow.org/guide/migrate/checkpoint_saver\"><img src=\"https://www.tensorflow.org/images/tf_logo_32px.png\"> TensorFlow.org에서 보기</a></td>\n",
        "  <td>     <a target=\"_blank\" href=\"https://colab.research.google.com/github/tensorflow/docs-l10n/blob/master/site/ko/guide/migrate/checkpoint_saver.ipynb\"><img src=\"https://www.tensorflow.org/images/colab_logo_32px.png\">Google Colab에서 실행하기</a>\n",
        "</td>\n",
        "  <td><a target=\"_blank\" href=\"https://github.com/tensorflow/docs-l10n/blob/master/site/ko/guide/migrate/checkpoint_saver.ipynb\"><img src=\"https://www.tensorflow.org/images/GitHub-Mark-32px.png\">GitHub에서 소스 보기</a></td>\n",
        "  <td>     <a href=\"https://storage.googleapis.com/tensorflow_docs/docs-l10n/site/ko/guide/migrate/checkpoint_saver.ipynb\"><img src=\"https://www.tensorflow.org/images/download_logo_32px.png\">노트북 다운로드하기</a>\n",
        "</td>\n",
        "</table>\n"
      ]
    },
    {
      "cell_type": "markdown",
      "metadata": {
        "id": "hIo_p2FWFIRx"
      },
      "source": [
        "\"최고\" 모델 또는 모델 가중치/매개변수를 지속적으로 저장하면 많은 이점이 있습니다. 이러한 이점에는 교육 진행 상황을 추적하고 다른 저장된 상태에서 저장된 모델을 로드하기 등이 있습니다.\n",
        "\n",
        "TensorFlow 1에서 `tf.estimator.Estimator` API로 훈련/검증을 진행하는 동안에 체크포인트 저장을 구성하려면 `tf.estimator.RunConfig`에서 일정을 지정하거나 `tf.estimator.CheckpointSaverHook`를 사용합니다. 이 가이드는 이 워크플로에서 TensorFlow 2 Keras API로 마이그레이션하는 방법을 보여줍니다.\n",
        "\n",
        "TensorFlow 2에서는 다음과 같은 다양한 방법으로 `tf.keras.callbacks.ModelCheckpoint`를 구성할 수 있습니다.\n",
        "\n",
        "- `save_best_only=True` 매개변수를 사용하여 모니터링되는 메트릭에 따라 '최고' 버전을 저장합니다. 예를 들어 여기서 `monitor`는 `'loss'`, `'val_loss'`, `'accuracy', or `'val_accuracy'`일 수 있습니다.\n",
        "- 정 빈도로 계속 저장합니다(`save_freq` 인수 사용).\n",
        "- `save_weights_only`를 `True`로 설정하여 전체 모델 대신 가중치/매개변수만 저장합니다.\n",
        "\n",
        "자세한 내용은 `tf.keras.callbacks.ModelCheckpoint` API 문서 및 [모델 저장 및 로드하기](../../tutorials/keras/save_and_load.ipynb) 튜토리얼의 *훈련하는 동안 체크포인트 저장하기* 섹션을 참고합니다. [Keras 모델 저장 및 로드하기](https://www.tensorflow.org/guide/keras/save_and_serialize) 가이드의 *TF 체크포인트 형식* 섹션에서 체크포인트 형식에 대한 자세한 내용을 확인할 수 있습니다. 또한 내결함성을 추가하기 위해 수동 체크포인트에 `tf.keras.callbacks.BackupAndRestore` 또는 `tf.train.Checkpoint`를 사용할 수 있습니다. [내결함성 마이그레이션 가이드](fault_tolerance.ipynb)에서 자세히 알아보세요.\n",
        "\n",
        "Keras [콜백](https://www.tensorflow.org/guide/keras/custom_callback)은 내장 Keras `Model.fit`/`Model.evaluate`/`Model.predict` API에서 훈련/평가/예측을 진행하는 동안 서로 다른 포인트에서 호출되는 객체입니다. 가이드 끝에 있는 *다음 단계* 섹션에서 자세히 알아보세요."
      ]
    },
    {
      "cell_type": "markdown",
      "metadata": {
        "id": "f55c103999de"
      },
      "source": [
        "## 설치하기\n",
        "\n",
        "데모를 위해 가져오기 및 간단한 데이터세트로 시작해 보겠습니다."
      ]
    },
    {
      "cell_type": "code",
      "execution_count": null,
      "metadata": {
        "id": "X74yjOb-e18w"
      },
      "outputs": [],
      "source": [
        "import tensorflow.compat.v1 as tf1\n",
        "import tensorflow as tf\n",
        "import numpy as np\n",
        "import tempfile"
      ]
    },
    {
      "cell_type": "code",
      "execution_count": null,
      "metadata": {
        "id": "2r8r4d8FfMny"
      },
      "outputs": [],
      "source": [
        "mnist = tf.keras.datasets.mnist\n",
        "\n",
        "(x_train, y_train),(x_test, y_test) = mnist.load_data()\n",
        "x_train, x_test = x_train / 255.0, x_test / 255.0"
      ]
    },
    {
      "cell_type": "markdown",
      "metadata": {
        "id": "wrqBkG4RFLP_"
      },
      "source": [
        "## TensorFlow 1: tf.estimator API를 사용하여 체크포인트 저장하기\n",
        "\n",
        "이 TensorFlow 1 예제는 `tf.estimator.Estimator` API를 사용하여 훈련/평가를 진행하는 동안 모든 단계에서 체크포인트를 저장하도록 `tf.estimator.RunConfig`를 구성하는 방법을 보여줍니다."
      ]
    },
    {
      "cell_type": "code",
      "execution_count": null,
      "metadata": {
        "id": "upA8nuf3FEq5"
      },
      "outputs": [],
      "source": [
        "feature_columns = [tf1.feature_column.numeric_column(\"x\", shape=[28, 28])]\n",
        "\n",
        "config = tf1.estimator.RunConfig(save_summary_steps=1,\n",
        "                                 save_checkpoints_steps=1)\n",
        "\n",
        "path = tempfile.mkdtemp()\n",
        "\n",
        "classifier = tf1.estimator.DNNClassifier(\n",
        "    feature_columns=feature_columns,\n",
        "    hidden_units=[256, 32],\n",
        "    optimizer=tf1.train.AdamOptimizer(0.001),\n",
        "    n_classes=10,\n",
        "    dropout=0.2,\n",
        "    model_dir=path,\n",
        "    config = config\n",
        ")\n",
        "\n",
        "train_input_fn = tf1.estimator.inputs.numpy_input_fn(\n",
        "    x={\"x\": x_train},\n",
        "    y=y_train.astype(np.int32),\n",
        "    num_epochs=10,\n",
        "    batch_size=50,\n",
        "    shuffle=True,\n",
        ")\n",
        "\n",
        "test_input_fn = tf1.estimator.inputs.numpy_input_fn(\n",
        "    x={\"x\": x_test},\n",
        "    y=y_test.astype(np.int32),\n",
        "    num_epochs=10,\n",
        "    shuffle=False\n",
        ")\n",
        "\n",
        "train_spec = tf1.estimator.TrainSpec(input_fn=train_input_fn, max_steps=10)\n",
        "eval_spec = tf1.estimator.EvalSpec(input_fn=test_input_fn,\n",
        "                                   steps=10,\n",
        "                                   throttle_secs=0)\n",
        "\n",
        "tf1.estimator.train_and_evaluate(estimator=classifier,\n",
        "                                train_spec=train_spec,\n",
        "                                eval_spec=eval_spec)"
      ]
    },
    {
      "cell_type": "code",
      "execution_count": null,
      "metadata": {
        "id": "3u96G4MtRVqU"
      },
      "outputs": [],
      "source": [
        "%ls {classifier.model_dir}"
      ]
    },
    {
      "cell_type": "markdown",
      "metadata": {
        "id": "QvE_uxDJFUX-"
      },
      "source": [
        "## TensorFlow 2: Model.fit을 위해 Keras 콜백을 사용하여 체크포인트 저장하기\n",
        "\n",
        "TensorFlow 2에서 훈련/평가에 대해 내장 Keras `Model.fit`(또는 `Model.evaluate`)을 사용하는 경우 `tf.keras.callbacks.ModelCheckpoint`를 구성하고 `Model.fit`(또는 `Model.evaluate`)의 `callbacks` 매개변수로 전달할 수 있습니다(API 문서 및 [내장 메서드를 사용하여 훈련 및 평가하기](https://www.tensorflow.org/guide/keras/train_and_evaluate) 가이드의 *콜백 사용하기* 섹션에서 자세한 내용 확인).\n",
        "\n",
        "아래 예제에서는 `tf.keras.callbacks.ModelCheckpoint` 콜백을 사용하여 임시 디렉터리에 체크포인트를 저장합니다."
      ]
    },
    {
      "cell_type": "code",
      "execution_count": null,
      "metadata": {
        "id": "9FLBhT2BFX2H"
      },
      "outputs": [],
      "source": [
        "def create_model():\n",
        "  return tf.keras.models.Sequential([\n",
        "    tf.keras.layers.Flatten(input_shape=(28, 28)),\n",
        "    tf.keras.layers.Dense(512, activation='relu'),\n",
        "    tf.keras.layers.Dropout(0.2),\n",
        "    tf.keras.layers.Dense(10, activation='softmax')\n",
        "  ])\n",
        "\n",
        "model = create_model()\n",
        "model.compile(optimizer='adam',\n",
        "              loss='sparse_categorical_crossentropy',\n",
        "              metrics=['accuracy'],\n",
        "              steps_per_execution=10)\n",
        "\n",
        "log_dir = tempfile.mkdtemp()\n",
        "\n",
        "model_checkpoint_callback = tf.keras.callbacks.ModelCheckpoint(\n",
        "    filepath=log_dir)\n",
        "\n",
        "model.fit(x=x_train,\n",
        "          y=y_train,\n",
        "          epochs=10,\n",
        "          validation_data=(x_test, y_test),\n",
        "          callbacks=[model_checkpoint_callback])"
      ]
    },
    {
      "cell_type": "code",
      "execution_count": null,
      "metadata": {
        "id": "SROSmhyyLBA-"
      },
      "outputs": [],
      "source": [
        "%ls {model_checkpoint_callback.filepath}"
      ]
    },
    {
      "cell_type": "markdown",
      "metadata": {
        "id": "rQUS8nO9FZlH"
      },
      "source": [
        "## 다음 단계\n",
        "\n",
        "체크포인트에 대한 자세한 내용:\n",
        "\n",
        "- API 문서: `tf.keras.callbacks.ModelCheckpoint`\n",
        "- 튜토리얼: [모델 저장 및 로드하기](../../tutorials/keras/save_and_load.ipynb)(*훈련하는 동안 체크포인트 저장하기* 섹션)\n",
        "- 가이드: [Keras 모델 저장 및 로드하기](https://www.tensorflow.org/guide/keras/save_and_serialize)(*TF 체크포인트 형식* 섹션)\n",
        "\n",
        "콜백에 대한 자세한 내용:\n",
        "\n",
        "- API 문서: `tf.keras.callbacks.Callback`\n",
        "- 가이드: [자신만의 콜백 작성하기](https://www.tensorflow.org/guide/keras/guide/keras/custom_callback)\n",
        "- 가이드: [내장 메서드를 사용하여 훈련 및 평가하기](https://www.tensorflow.org/guide/keras/train_and_evaluate)(*콜백 사용하기* 섹션)\n",
        "\n",
        "다음과 같은 마이그레이션 관련 리소스도 유용할 수 있습니다.\n",
        "\n",
        "- [내결함성 마이그레이션 가이드](fault_tolerance.ipynb): `Model.fit`의 경우 `tf.keras.callbacks.BackupAndRestore`, 사용자 정의 훈련 루프의 경우 `tf.train.Checkpoint`와 `tf.train.CheckpointManager` API\n",
        "- [조기 중단 마이그레이션 가이드](early_stopping.ipynb): 내장 조기 중단 콜백인 `tf.keras.callbacks.EarlyStopping`\n",
        "- [TensorBoard 마이그레이션 가이드](tensorboard.ipynb): TensorBoard를 사용하여 메트릭 추적 및 표시하기\n",
        "- [LoggingTensorHook 및 StopAtStepHook에서 Keras 콜백으로의 마이그레이션 가이드](logging_stop_hook.ipynb)\n",
        "- [SessionRunHook에서 Keras 콜백을 수행하기 위한 가이드](sessionrunhook_callback.ipynb)"
      ]
    }
  ],
  "metadata": {
    "colab": {
      "collapsed_sections": [],
      "name": "checkpoint_saver.ipynb",
      "toc_visible": true
    },
    "kernelspec": {
      "display_name": "Python 3",
      "name": "python3"
    }
  },
  "nbformat": 4,
  "nbformat_minor": 0
}
