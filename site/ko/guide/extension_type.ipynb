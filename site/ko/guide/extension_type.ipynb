{
  "cells": [
    {
      "cell_type": "markdown",
      "metadata": {
        "id": "WrcIOXsUQh8U"
      },
      "source": [
        "##### Copyright 2021 The TensorFlow Authors."
      ]
    },
    {
      "cell_type": "code",
      "execution_count": null,
      "metadata": {
        "cellView": "form",
        "id": "tXAbWHtqs1Y2"
      },
      "outputs": [],
      "source": [
        "#@title Licensed under the Apache License, Version 2.0 (the \"License\");\n",
        "# you may not use this file except in compliance with the License.\n",
        "# You may obtain a copy of the License at\n",
        "#\n",
        "# https://www.apache.org/licenses/LICENSE-2.0\n",
        "#\n",
        "# Unless required by applicable law or agreed to in writing, software\n",
        "# distributed under the License is distributed on an \"AS IS\" BASIS,\n",
        "# WITHOUT WARRANTIES OR CONDITIONS OF ANY KIND, either express or implied.\n",
        "# See the License for the specific language governing permissions and\n",
        "# limitations under the License."
      ]
    },
    {
      "cell_type": "markdown",
      "metadata": {
        "id": "HTgMAvQq-PU_"
      },
      "source": [
        "# 확장 유형\n",
        "\n",
        "<table class=\"tfo-notebook-buttons\" align=\"left\">\n",
        "  <td><a target=\"_blank\" href=\"https://www.tensorflow.org/guide/extension_type\"><img src=\"https://www.tensorflow.org/images/tf_logo_32px.png\">TensorFlow.org에서 보기</a></td>\n",
        "  <td><a target=\"_blank\" href=\"https://colab.research.google.com/github/tensorflow/docs-l10n/blob/master/site/ko/guide/extension_type.ipynb\"><img src=\"https://www.tensorflow.org/images/colab_logo_32px.png\">Google Colab에서 실행</a></td>\n",
        "  <td><a target=\"_blank\" href=\"https://github.com/tensorflow/docs-l10n/blob/master/site/ko/guide/extension_type.ipynb\"><img src=\"https://www.tensorflow.org/images/GitHub-Mark-32px.png\">GitHub에서 소스 보기</a></td>\n",
        "  <td><a href=\"https://storage.googleapis.com/tensorflow_docs/docs-l10n/site/ko/guide/extension_type.ipynb\"><img src=\"https://www.tensorflow.org/images/download_logo_32px.png\">노트북 다운로드</a></td>\n",
        "</table>"
      ]
    },
    {
      "cell_type": "markdown",
      "metadata": {
        "id": "jHcw9MtgBo7e"
      },
      "source": [
        "## 설정"
      ]
    },
    {
      "cell_type": "code",
      "execution_count": null,
      "metadata": {
        "id": "0MsE_F0WBpmc"
      },
      "outputs": [],
      "source": [
        "!pip install -q tf_nightly\n",
        "import tensorflow as tf\n",
        "import numpy as np\n",
        "from typing import Tuple, List, Mapping, Union, Optional\n",
        "import tempfile"
      ]
    },
    {
      "cell_type": "markdown",
      "metadata": {
        "id": "1BAk3bji_0wl"
      },
      "source": [
        "## 확장 유형\n",
        "\n",
        "사용자 정의 유형을 사용하면 프로젝트를 더 읽기 쉽고 모듈식으로 유지 관리할 수 있습니다. 그러나 대부분의 TensorFlow API는 사용자 정의 Python 유형에 대한 지원이 매우 제한적입니다. 이것은 (예 모두 높은 수준의 API를 포함 [Keras](https://www.tensorflow.org/guide/keras/overview) , [tf.function](https://www.tensorflow.org/guide/function) , [tf.SavedModel](https://www.tensorflow.org/guide/saved_model) (예로서 하위 레벨의 API) `tf.while_loop` 및 `tf.concat` ). TensorFlow **확장 유형** 을 사용하여 TensorFlow의 API와 원활하게 작동하는 사용자 정의 객체 지향 유형을 생성할 수 있습니다. `tf.experimental.ExtensionType` 을 기본으로 하는 Python 클래스를 정의하고 [유형 주석](https://www.python.org/dev/peps/pep-0484/) 을 사용하여 각 필드의 유형을 지정하면 됩니다."
      ]
    },
    {
      "cell_type": "code",
      "execution_count": null,
      "metadata": {
        "id": "7o5KY7L5_nxy"
      },
      "outputs": [],
      "source": [
        "class TensorGraph(tf.experimental.ExtensionType):\n",
        "  \"\"\"A collection of labeled nodes connected by weighted edges.\"\"\"\n",
        "  edge_weights: tf.Tensor               # shape=[num_nodes, num_nodes]\n",
        "  node_labels: Mapping[str, tf.Tensor]  # shape=[num_nodes]; dtype=any\n",
        "\n",
        "class MaskedTensor(tf.experimental.ExtensionType):\n",
        "  \"\"\"A tensor paired with a boolean mask, indicating which values are valid.\"\"\"\n",
        "  values: tf.Tensor\n",
        "  mask: tf.Tensor       # shape=values.shape; false for missing/invalid values.\n",
        "\n",
        "class CSRSparseMatrix(tf.experimental.ExtensionType):\n",
        "  \"\"\"Compressed sparse row matrix (https://en.wikipedia.org/wiki/Sparse_matrix).\"\"\"\n",
        "  values: tf.Tensor     # shape=[num_nonzero]; dtype=any\n",
        "  col_index: tf.Tensor  # shape=[num_nonzero]; dtype=int64\n",
        "  row_index: tf.Tensor  # shape=[num_rows+1]; dtype=int64"
      ]
    },
    {
      "cell_type": "markdown",
      "metadata": {
        "id": "FiaNXPa7pNK-"
      },
      "source": [
        "`tf.experimental.ExtensionType` 기본 클래스는 표준 Python 라이브러리의 [`typing.NamedTuple`](https://docs.python.org/3/library/typing.html#typing.NamedTuple) 및 [`@dataclasses.dataclass`](https://docs.python.org/3/library/dataclasses.html#dataclasses.dataclass) 와 유사하게 작동합니다. 특히 필드 유형 주석을 기반으로 생성자와 특수 메서드(예: `__repr__` 및 `__eq__`"
      ]
    },
    {
      "cell_type": "markdown",
      "metadata": {
        "id": "JsE7X6_uMyLo"
      },
      "source": [
        "일반적으로 확장 유형은 다음 두 가지 범주 중 하나로 분류되는 경향이 있습니다.\n",
        "\n",
        "- 관련 값의 컬렉션을 그룹화하고 해당 값을 기반으로 유용한 작업을 제공할 수 있는 ***데이터 구조.*** 데이터 구조는 상당히 일반적일 수 있습니다(예 `TensorGraph` 예). 또는 특정 모델에 고도로 맞춤화될 수 있습니다.\n",
        "\n",
        "- \"Tensor\"의 개념을 전문화하거나 확장하는 ***Tensor와 유사한 유형입니다.*** 이 범주의 유형에는 `rank` , `shape` 및 일반적으로 `dtype` . `tf.stack` , `tf.add` 또는 `tf.matmul` )과 함께 사용하는 것이 좋습니다. `MaskedTensor` 및 `CSRSparseMatrix` 는 텐서 유사 유형의 예입니다."
      ]
    },
    {
      "cell_type": "markdown",
      "metadata": {
        "id": "uxngcajlMqIY"
      },
      "source": [
        "## 지원되는 API\n",
        "\n",
        "확장 유형은 다음 TensorFlow API에서 지원됩니다.\n",
        "\n",
        "- **Keras** `Models` 및 `Layers` 대한 입력 및 출력으로 사용할 수 있습니다.\n",
        "- **tf.data.Dataset** : 확장 유형은 `Datasets` `Iterators` 의해 반환됩니다.\n",
        "- **Tensorflow 허브** `tf.hub` 모듈의 입력 및 출력으로 사용할 수 있습니다.\n",
        "- **SavedModel** `SavedModel` 함수에 대한 입력 및 출력으로 사용할 수 있습니다.\n",
        "- **tf.function** `@tf.function` 데코레이터로 래핑된 함수의 인수 및 반환 값으로 사용할 수 있습니다.\n",
        "- **while 루프** : 확장 유형은 `tf.while_loop` 에서 루프 변수로 사용할 수 있으며 while 루프 본문에 대한 인수 및 반환 값으로 사용할 수 있습니다.\n",
        "- **conditionals** `tf.cond` 및 `tf.case` 사용하여 조건부로 선택할 수 있습니다.\n",
        "- **py_function** : 확장 유형을 인수로 사용할 수 있고 `func` 인수에 `tf.py_function` 반환할 수 있습니다.\n",
        "- **Tensor ops** `tf.matmul` , `tf.gather` 및 `tf.reduce_sum` )을 허용하는 대부분의 TensorFlow 작업을 지원하도록 확장될 수 있습니다. 자세한 내용은 *아래의 \" 디스패치* \" 섹션을 참조하십시오.\n",
        "- **배포 전략** : 확장 유형을 복제본당 값으로 사용할 수 있습니다.\n",
        "\n",
        "자세한 내용은 아래 \"ExtensionTypes를 지원하는 TensorFlow API\" 섹션을 참조하세요.\n"
      ]
    },
    {
      "cell_type": "markdown",
      "metadata": {
        "id": "VIpZwuPVpwOX"
      },
      "source": [
        "## 요구 사항\n"
      ]
    },
    {
      "cell_type": "markdown",
      "metadata": {
        "id": "nNk_TQeJGVwV"
      },
      "source": [
        "### 필드 유형\n",
        "\n",
        "모든 필드(일명 인스턴스 변수)를 선언해야 하며 각 필드에 유형 주석을 제공해야 합니다. 다음 유형 주석이 지원됩니다.\n",
        "\n",
        "유형 | 예시\n",
        "--- | ---\n",
        "파이썬 정수 | `i: int`\n",
        "파이썬 수레 | `f: float`\n",
        "파이썬 문자열 | `s: str`\n",
        "파이썬 부울 | `b: bool`\n",
        "파이썬 없음 | `n: None`\n",
        "[텐서 모양](https://www.tensorflow.org/api_docs/python/tf/TensorShape) | `shape: tf.TensorShape`\n",
        "[텐서 dtypes](https://www.tensorflow.org/api_docs/python/tf/dtypes/DType) | `dtype: tf.DType`\n",
        "[텐서](https://www.tensorflow.org/api_docs/python/tf/Tensor) | `t: tf.Tensor`\n",
        "[확장 유형](https://www.tensorflow.org/api_docs/python/tf/experimental/ExtensionType) | `mt: MyMaskedTensor`\n",
        "[비정형 텐서](https://www.tensorflow.org/api_docs/python/tf/RaggedTensor) | `rt: tf.RaggedTensor`\n",
        "[희소 텐서](https://www.tensorflow.org/api_docs/python/tf/sparse/SparseTensor) | `st: tf.SparseTensor`\n",
        "[인덱싱된 슬라이스](https://www.tensorflow.org/api_docs/python/tf/IndexedSlices) | `s: tf.IndexedSlices`\n",
        "[선택적 텐서](https://www.tensorflow.org/api_docs/python/tf/experimental/Optional) | `o: tf.experimental.Optional`\n",
        "[유형 조합](https://docs.python.org/3/library/typing.html#typing.Union) | `int_or_float: typing.Union[int, float]`\n",
        "[튜플](https://docs.python.org/3/library/typing.html#typing.Tuple) | `params: typing.Tuple[int, float, tf.Tensor, int]`\n",
        "[가변 길이 튜플](https://docs.python.org/3/library/typing.html#typing.Tuple) | `lengths: typing.Tuple[int, ...]`\n",
        "[매핑](https://docs.python.org/3/library/typing.html#typing.Mapping) | `tags: typing.Mapping[str, tf.Tensor]`\n",
        "[선택적 값](https://docs.python.org/3/library/typing.html#typing.Optional) | `weight: typing.Optional[tf.Tensor]`"
      ]
    },
    {
      "cell_type": "markdown",
      "metadata": {
        "id": "iFetYyZsIvf6"
      },
      "source": [
        "### 가변성\n",
        "\n",
        "확장 유형은 변경 불가능해야 합니다. 이렇게 하면 TensorFlow의 그래프 추적 메커니즘으로 적절하게 추적할 수 있습니다. 확장 유형 값을 변경하려는 경우 값을 변환하는 메서드를 대신 정의하는 것이 좋습니다. 예를 들어 `MaskedTensor` 를 변경하기 위해 `set_mask` `MaskedTensor` 를 반환하는 `replace_mask` 메서드를 정의할 수 있습니다."
      ]
    },
    {
      "cell_type": "code",
      "execution_count": null,
      "metadata": {
        "id": "DThZLYH2IwFh"
      },
      "outputs": [],
      "source": [
        "class MaskedTensor(tf.experimental.ExtensionType):\n",
        "  values: tf.Tensor\n",
        "  mask: tf.Tensor\n",
        "\n",
        "  def replace_mask(self, new_mask):\n",
        "      self.values.shape.assert_is_compatible_with(new_mask.shape)\n",
        "      return MaskedTensor(self.values, new_mask)"
      ]
    },
    {
      "cell_type": "markdown",
      "metadata": {
        "id": "x3JyivI_qAtt"
      },
      "source": [
        "## `ExtensionType` 추가한 기능\n",
        "\n",
        "`ExtensionType` 기본 클래스는 다음 기능을 제공합니다.\n",
        "\n",
        "- 생성자( `__init__` ).\n",
        "- 인쇄 가능한 표현 방법( `__repr__` ).\n",
        "- 등식 및 부등식 연산자( `__eq__` ).\n",
        "- 유효성 검사 방법( `__validate__` ).\n",
        "- 강제 불변성.\n",
        "- 중첩된 `TypeSpec` .\n",
        "- 텐서 API 디스패치 지원.\n",
        "\n",
        "이 기능을 사용자 정의하는 방법에 대한 자세한 내용은 아래의 \"ExtensionType 사용자 정의\" 섹션을 참조하십시오."
      ]
    },
    {
      "cell_type": "markdown",
      "metadata": {
        "id": "pfSYs6P26gKq"
      },
      "source": [
        "### 건설자\n",
        "\n",
        "`ExtensionType` 에 의해 추가된 생성자는 각 필드를 명명된 인수로 사용합니다(클래스 정의에 나열된 순서대로). 이 생성자는 각 매개변수를 유형 검사하고 필요한 경우 변환합니다. 특히, `Tensor` `tf.convert_to_tensor` 사용하여 변환됩니다. `Tuple` 필드로 변환됩니다 `tuple` 의; `Mapping` 필드는 변경할 수 없는 사전으로 변환됩니다."
      ]
    },
    {
      "cell_type": "code",
      "execution_count": null,
      "metadata": {
        "id": "DiXwyZ5M5KFW"
      },
      "outputs": [],
      "source": [
        "class MaskedTensor(tf.experimental.ExtensionType):\n",
        "  values: tf.Tensor\n",
        "  mask: tf.Tensor\n",
        "\n",
        "# Constructor takes one parameter for each field.\n",
        "mt = MaskedTensor(values=[[1, 2, 3], [4, 5, 6]],\n",
        "                  mask=[[True, True, False], [True, False, True]])\n",
        "\n",
        "# Fields are type-checked and converted to the declared types.\n",
        "# E.g., mt.values is converted to a Tensor.\n",
        "print(mt.values)"
      ]
    },
    {
      "cell_type": "markdown",
      "metadata": {
        "id": "ezNDe1cYF0Qb"
      },
      "source": [
        "필드 값을 선언된 유형으로 변환할 수 없는 경우 생성자는 `TypeError`"
      ]
    },
    {
      "cell_type": "code",
      "execution_count": null,
      "metadata": {
        "id": "6HnrMaabF5VS"
      },
      "outputs": [],
      "source": [
        "try:\n",
        "  MaskedTensor([1, 2, 3], None)\n",
        "except TypeError as e:\n",
        "  print(f\"Got expected TypeError: {e}\")"
      ]
    },
    {
      "cell_type": "markdown",
      "metadata": {
        "id": "FwQUI3X02s20"
      },
      "source": [
        "필드의 기본값은 클래스 수준에서 값을 설정하여 지정할 수 있습니다."
      ]
    },
    {
      "cell_type": "code",
      "execution_count": null,
      "metadata": {
        "id": "GbzDT9fz20JA"
      },
      "outputs": [],
      "source": [
        "class Pencil(tf.experimental.ExtensionType):\n",
        "  color: str = \"black\"\n",
        "  has_erasor: bool = True\n",
        "  length: tf.Tensor = 1.0\n",
        "\n",
        "Pencil()"
      ]
    },
    {
      "cell_type": "code",
      "execution_count": null,
      "metadata": {
        "id": "nOW7lS9P4Foc"
      },
      "outputs": [],
      "source": [
        "Pencil(length=0.5, color=\"blue\")"
      ]
    },
    {
      "cell_type": "markdown",
      "metadata": {
        "id": "S5Eivtg07Aau"
      },
      "source": [
        "### 인쇄 가능한 표현\n",
        "\n",
        "`ExtensionType` 은 클래스 이름과 각 필드의 값을 포함하는 기본 인쇄 가능한 표현 방법( `__repr__`\n"
      ]
    },
    {
      "cell_type": "code",
      "execution_count": null,
      "metadata": {
        "id": "5SyiKTe55krG"
      },
      "outputs": [],
      "source": [
        "print(MaskedTensor(values=[1, 2, 3], mask=[True, True, False]))"
      ]
    },
    {
      "cell_type": "markdown",
      "metadata": {
        "id": "q4l_gnQh6nXR"
      },
      "source": [
        "### 등호 연산자\n",
        "\n",
        "`ExtensionType` 은 유형이 동일하고 모든 필드가 동일한 경우 두 값을 동일하게 간주하는 기본 동등 연산자( `__eq__` 및 `__ne__` 텐서 필드는 모양이 동일하고 모든 요소에 대해 요소별로 동일한 경우 동일한 것으로 간주됩니다."
      ]
    },
    {
      "cell_type": "code",
      "execution_count": null,
      "metadata": {
        "id": "bHdLg13V52Xm"
      },
      "outputs": [],
      "source": [
        "a = MaskedTensor([1, 2], [True, False])\n",
        "b = MaskedTensor([[3, 4], [5, 6]], [[False, True], [True, True]])\n",
        "print(f\"a == a: {a==a}\")\n",
        "print(f\"a == b: {a==b}\")\n",
        "print(f\"a == a.values: {a==a.values}\")"
      ]
    },
    {
      "cell_type": "markdown",
      "metadata": {
        "id": "O3HqsO3jZlQq"
      },
      "source": [
        "**참고:** `Tensor` 가 포함된 경우 `__eq__` 는 (Python 부울 값 대신) `Tensor` 반환할 수 있습니다."
      ]
    },
    {
      "cell_type": "markdown",
      "metadata": {
        "id": "hCpBfkKqCuip"
      },
      "source": [
        "### 검증 방법\n",
        "\n",
        "`ExtensionType` 은 필드에 대한 유효성 검사를 수행하기 위해 재정의할 수 있는 `__validate__` 생성자가 호출되고 필드가 유형 검사되고 선언된 유형으로 변환된 후에 실행되므로 모든 필드에 선언된 유형이 있다고 가정할 수 있습니다.\n",
        "\n",
        "다음 예제는 `MaskedTensor` 를 업데이트하여 해당 필드의 `shape` s 및 `dtype` 을 확인합니다."
      ]
    },
    {
      "cell_type": "code",
      "execution_count": null,
      "metadata": {
        "id": "dgZOJRINDn00"
      },
      "outputs": [],
      "source": [
        "class MaskedTensor(tf.experimental.ExtensionType):\n",
        "  \"\"\"A tensor paired with a boolean mask, indicating which values are valid.\"\"\"\n",
        "  values: tf.Tensor\n",
        "  mask: tf.Tensor\n",
        "  def __validate__(self):\n",
        "    self.values.shape.assert_is_compatible_with(self.mask.shape)\n",
        "    assert self.mask.dtype.is_bool, 'mask.dtype must be bool'"
      ]
    },
    {
      "cell_type": "code",
      "execution_count": null,
      "metadata": {
        "id": "ajSgkGUUn9WL"
      },
      "outputs": [],
      "source": [
        "try:\n",
        "  MaskedTensor([1, 2, 3], [0, 1, 0])  # wrong dtype for mask.\n",
        "except AssertionError as e:\n",
        "  print(f\"Got expected AssertionError: {e}\")"
      ]
    },
    {
      "cell_type": "code",
      "execution_count": null,
      "metadata": {
        "id": "Fhb96luJn9K7"
      },
      "outputs": [],
      "source": [
        "try:\n",
        "  MaskedTensor([1, 2, 3], [True, False])  # shapes don't match.\n",
        "except ValueError as e:\n",
        "  print(f\"Got expected ValueError: {e}\")"
      ]
    },
    {
      "cell_type": "markdown",
      "metadata": {
        "id": "pjIPAF1OCAdO"
      },
      "source": [
        "### 강제 불변성\n",
        "\n",
        "`ExtensionType` `__setattr__` 및 `__delattr__` 메서드를 재정의하여 변형을 방지하여 확장 유형 값을 변경할 수 없도록 합니다."
      ]
    },
    {
      "cell_type": "code",
      "execution_count": null,
      "metadata": {
        "id": "NgmJ1C7ilN5C"
      },
      "outputs": [],
      "source": [
        "mt = MaskedTensor([1, 2, 3], [True, False, True])"
      ]
    },
    {
      "cell_type": "code",
      "execution_count": null,
      "metadata": {
        "id": "cMYmJr3RoFKp"
      },
      "outputs": [],
      "source": [
        "try:\n",
        "  mt.mask = [True, True, True]\n",
        "except AttributeError as e:\n",
        "  print(f\"Got expected AttributeError: {e}\")"
      ]
    },
    {
      "cell_type": "code",
      "execution_count": null,
      "metadata": {
        "id": "ZWwA-zWdzqlU"
      },
      "outputs": [],
      "source": [
        "try:\n",
        "  mt.mask[0] = False\n",
        "except TypeError as e:\n",
        "  print(f\"Got expected TypeError: {e}\")"
      ]
    },
    {
      "cell_type": "code",
      "execution_count": null,
      "metadata": {
        "id": "PN_txJVKoFoF"
      },
      "outputs": [],
      "source": [
        "try:\n",
        "  del mt.mask\n",
        "except AttributeError as e:\n",
        "  print(f\"Got expected AttributeError: {e}\")"
      ]
    },
    {
      "cell_type": "markdown",
      "metadata": {
        "id": "FBVFtCYn69Ou"
      },
      "source": [
        "### 중첩된 유형 사양\n",
        "\n",
        "각 `ExtensionType` 클래스에는 자동으로 생성되고 `<extension_type_name>.Spec` `TypeSpec` 클래스가 있습니다.\n",
        "\n",
        "이 클래스는 중첩된 텐서의 값을 *제외한* 값에서 모든 정보를 캡처합니다. 특히 `TypeSpec` 은 중첩된 Tensor, ExtensionType 또는 CompositeTensor를 `TypeSpec` 으로 대체하여 생성됩니다.\n"
      ]
    },
    {
      "cell_type": "code",
      "execution_count": null,
      "metadata": {
        "id": "GRjANkGYKGnV"
      },
      "outputs": [],
      "source": [
        "class Player(tf.experimental.ExtensionType):\n",
        "  name: tf.Tensor\n",
        "  attributes: Mapping[str, tf.Tensor]\n",
        "\n",
        "anne = Player(\"Anne\", {\"height\": 8.3, \"speed\": 28.1})\n",
        "anne_spec = tf.type_spec_from_value(anne)\n",
        "print(anne_spec.name)  # Records dtype and shape, but not the string value.\n",
        "print(anne_spec.attributes)  # Records keys and TensorSpecs for values."
      ]
    },
    {
      "cell_type": "markdown",
      "metadata": {
        "id": "I2fkgckxO564"
      },
      "source": [
        "`TypeSpec` 값은 명시적으로 구성하거나 `tf.type_spec_from_value` 사용하여 `ExtensionType` 값에서 빌드할 수 있습니다."
      ]
    },
    {
      "cell_type": "code",
      "execution_count": null,
      "metadata": {
        "id": "1ehAa7d9OGai"
      },
      "outputs": [],
      "source": [
        "spec1 = Player.Spec(name=tf.TensorSpec([], tf.float32), attributes={})\n",
        "spec2 = tf.type_spec_from_value(anne)"
      ]
    },
    {
      "cell_type": "markdown",
      "metadata": {
        "id": "owcFG3cAMCwA"
      },
      "source": [
        "`TypeSpec` 은 TensorFlow에서 값을 **정적 구성 요소** 와 **동적 구성** 요소로 나누는 데 사용됩니다.\n",
        "\n",
        "- 그래프 생성 시 고정되는 **정적 구성 요소** `tf.TypeSpec` 인코딩됩니다.\n",
        "- 그래프가 실행될 때마다 다를 수 있는 **동적 구성 요소** `tf.Tensor` 목록으로 인코딩됩니다.\n",
        "\n",
        "예를 들어, tf.function은 인수에 이전에 볼 수 없는 `TypeSpec` `tf.function` ."
      ]
    },
    {
      "cell_type": "code",
      "execution_count": null,
      "metadata": {
        "id": "pg-m5YLRM1Nd"
      },
      "outputs": [],
      "source": [
        "@tf.function\n",
        "def anonymize_player(player):\n",
        "  print(\"<<TRACING>>\")\n",
        "  return Player(\"<anonymous>\", player.attributes)"
      ]
    },
    {
      "cell_type": "code",
      "execution_count": null,
      "metadata": {
        "id": "0CCGm7cpeIq-"
      },
      "outputs": [],
      "source": [
        "# Function gets traced (first time the function has been called):\n",
        "anonymize_player(Player(\"Anne\", {\"height\": 8.3, \"speed\": 28.1}))"
      ]
    },
    {
      "cell_type": "code",
      "execution_count": null,
      "metadata": {
        "id": "WB7bt7s83mFE"
      },
      "outputs": [],
      "source": [
        "# Function does NOT get traced (same TypeSpec: just tensor values changed)\n",
        "anonymize_player(Player(\"Bart\", {\"height\": 8.1, \"speed\": 25.3}))"
      ]
    },
    {
      "cell_type": "code",
      "execution_count": null,
      "metadata": {
        "id": "dNm7vLpR3nMH"
      },
      "outputs": [],
      "source": [
        "# Function gets traced (new TypeSpec: keys for attributes changed):\n",
        "anonymize_player(Player(\"Chuck\", {\"height\": 11.0, \"jump\": 5.3}))"
      ]
    },
    {
      "cell_type": "markdown",
      "metadata": {
        "id": "U5rN1HPq25xC"
      },
      "source": [
        "자세한 내용은 [tf.function 가이드를](https://www.tensorflow.org/guide/function#rules_of_tracing) 참조하십시오."
      ]
    },
    {
      "cell_type": "markdown",
      "metadata": {
        "id": "gX613uRk0qLz"
      },
      "source": [
        "## ExtensionType 사용자 정의\n",
        "\n",
        "단순히 필드와 해당 유형을 선언하는 것 외에도 확장 유형은 다음을 수행할 수 있습니다.\n",
        "\n",
        "- 기본 인쇄 가능한 표현( `__repr__` )을 재정의합니다.\n",
        "- 방법을 정의합니다.\n",
        "- 클래스 메서드와 정적 메서드를 정의합니다.\n",
        "- 속성을 정의합니다.\n",
        "- 기본 생성자( `__init__` )를 재정의합니다.\n",
        "- 기본 항등 연산자( `__eq__` )를 재정의합니다.\n",
        "- 연산자를 정의합니다(예: `__add__` 및 `__lt__` ).\n",
        "- 필드의 기본값을 선언합니다.\n",
        "- 하위 클래스를 정의합니다.\n"
      ]
    },
    {
      "cell_type": "markdown",
      "metadata": {
        "id": "MK-ePVDj-ROE"
      },
      "source": [
        "### 기본 인쇄 가능한 표현 재정의\n",
        "\n",
        "확장 유형에 대해 이 기본 문자열 변환 연산자를 재정의할 수 있습니다. 다음 예제에서는 값이 Eager 모드에서 인쇄될 때 더 읽기 쉬운 문자열 표현을 생성 `MaskedTensor`"
      ]
    },
    {
      "cell_type": "code",
      "execution_count": null,
      "metadata": {
        "id": "gdPhjYEr8IGO"
      },
      "outputs": [],
      "source": [
        "class MaskedTensor(tf.experimental.ExtensionType):\n",
        "  \"\"\"A tensor paired with a boolean mask, indicating which values are valid.\"\"\"\n",
        "  values: tf.Tensor\n",
        "  mask: tf.Tensor       # shape=values.shape; false for invalid values.\n",
        "\n",
        "  def __repr__(self):\n",
        "    return masked_tensor_str(self.values, self.mask)\n",
        "\n",
        "def masked_tensor_str(values, mask):\n",
        "  if isinstance(values, tf.Tensor):\n",
        "    if hasattr(values, 'numpy') and hasattr(mask, 'numpy'):\n",
        "      return f'<MaskedTensor {masked_tensor_str(values.numpy(), mask.numpy())}>'\n",
        "    else:\n",
        "      return f'MaskedTensor(values={values}, mask={mask})'\n",
        "  if len(values.shape) == 1:\n",
        "    items = [repr(v) if m else '_' for (v, m) in zip(values, mask)]\n",
        "  else:\n",
        "    items = [masked_tensor_str(v, m) for (v, m) in zip(values, mask)]\n",
        "  return '[%s]' % ', '.join(items)\n",
        "\n",
        "mt = MaskedTensor(values=[[1, 2, 3], [4, 5, 6]],\n",
        "                  mask=[[True, True, False], [True, False, True]])\n",
        "print(mt)"
      ]
    },
    {
      "cell_type": "markdown",
      "metadata": {
        "id": "_MLQU2_v8VjG"
      },
      "source": [
        "### 메소드 정의\n",
        "\n",
        "확장 유형은 일반 Python 클래스와 마찬가지로 메서드를 정의할 수 있습니다. 예를 들어 `MaskedTensor` `default` 대체된 마스킹된 값 `self` 의 복사본을 반환하는 `with_default` 메서드를 정의할 수 있습니다. `@tf.function` 데코레이터로 주석을 달 수 있습니다."
      ]
    },
    {
      "cell_type": "code",
      "execution_count": null,
      "metadata": {
        "id": "7RR-tqee8ZdP"
      },
      "outputs": [],
      "source": [
        "class MaskedTensor(tf.experimental.ExtensionType):\n",
        "  values: tf.Tensor\n",
        "  mask: tf.Tensor\n",
        "\n",
        "  def with_default(self, default):\n",
        "    return tf.where(self.mask, self.values, default)\n",
        "\n",
        "MaskedTensor([1, 2, 3], [True, False, True]).with_default(0)"
      ]
    },
    {
      "cell_type": "markdown",
      "metadata": {
        "id": "Qwd_gGKp9RP0"
      },
      "source": [
        "### 클래스 메서드 및 정적 메서드 정의\n",
        "\n",
        "`@classmethod` 및 `@staticmethod` 데코레이터를 사용하여 메소드를 정의할 수 있습니다. 예를 들어 `MaskedTensor` 유형은 주어진 값으로 모든 요소를 마스킹하는 팩토리 메소드를 정의할 수 있습니다."
      ]
    },
    {
      "cell_type": "code",
      "execution_count": null,
      "metadata": {
        "id": "BacCEJYU9sBR"
      },
      "outputs": [],
      "source": [
        "class MaskedTensor(tf.experimental.ExtensionType):\n",
        "  values: tf.Tensor\n",
        "  mask: tf.Tensor\n",
        "\n",
        "  def __repr__(self):\n",
        "    return masked_tensor_str(self.values, self.mask)\n",
        "\n",
        "  @staticmethod\n",
        "  def from_tensor_and_value_to_mask(values, value_to_mask):\n",
        "    return MaskedTensor(values, values == value_to_mask)\n",
        "\n",
        "x = tf.constant([[1, 0, 2], [3, 0, 0]])\n",
        "MaskedTensor.from_tensor_and_value_to_mask(x, 0)"
      ]
    },
    {
      "cell_type": "markdown",
      "metadata": {
        "id": "xIPf9PZX9AwL"
      },
      "source": [
        "### 속성 정의\n",
        "\n",
        "확장 유형은 일반 Python 클래스와 마찬가지로 `@property` 데코레이터를 사용하여 속성을 정의할 수 있습니다. 예를 들어 `MaskedTensor` 유형은 값의 dtype에 대한 약칭인 `dtype` 속성을 정의할 수 있습니다."
      ]
    },
    {
      "cell_type": "code",
      "execution_count": null,
      "metadata": {
        "id": "16E68wZ-9KXp"
      },
      "outputs": [],
      "source": [
        "class MaskedTensor(tf.experimental.ExtensionType):\n",
        "  values: tf.Tensor\n",
        "  mask: tf.Tensor\n",
        "\n",
        "  @property\n",
        "  def dtype(self):\n",
        "    return self.values.dtype\n",
        "\n",
        "MaskedTensor([1, 2, 3], [True, False, True]).dtype"
      ]
    },
    {
      "cell_type": "markdown",
      "metadata": {
        "id": "Mm5gxoG57nf3"
      },
      "source": [
        "### 기본 생성자 재정의\n",
        "\n",
        "확장 유형에 대한 기본 생성자를 재정의할 수 있습니다. 사용자 정의 생성자는 선언된 모든 필드에 대해 값을 설정해야 합니다. 사용자 정의 생성자가 반환된 후 모든 필드가 유형 검사되고 위에서 설명한 대로 값이 변환됩니다."
      ]
    },
    {
      "cell_type": "code",
      "execution_count": null,
      "metadata": {
        "id": "-8K3KeB08G1S"
      },
      "outputs": [],
      "source": [
        "class Toy(tf.experimental.ExtensionType):\n",
        "  name: str\n",
        "  price: tf.Tensor\n",
        "  def __init__(self, name, price, discount=0):\n",
        "    self.name = name\n",
        "    self.price = price * (1 - discount)\n",
        "\n",
        "print(Toy(\"ball\", 5.0, discount=0.2))  # On sale -- 20% off!"
      ]
    },
    {
      "cell_type": "markdown",
      "metadata": {
        "id": "qyQxMlwLFQt7"
      },
      "source": [
        "또는 기본 생성자를 그대로 두고 하나 이상의 팩토리 메소드를 추가하는 것을 고려할 수 있습니다. 예:"
      ]
    },
    {
      "cell_type": "code",
      "execution_count": null,
      "metadata": {
        "id": "jiApK4hzFY89"
      },
      "outputs": [],
      "source": [
        "class Toy(tf.experimental.ExtensionType):\n",
        "  name: str\n",
        "  price: tf.Tensor\n",
        "\n",
        "  @staticmethod\n",
        "  def new_toy_with_discount(name, price, discount):\n",
        "    return Toy(name, price * (1 - discount))\n",
        "\n",
        "print(Toy.new_toy_with_discount(\"ball\", 5.0, discount=0.2))"
      ]
    },
    {
      "cell_type": "markdown",
      "metadata": {
        "id": "pdVcRBhG-Uee"
      },
      "source": [
        "### 기본 항등 연산자 재정의( `__eq__` )\n",
        "\n",
        "확장 유형에 대한 `__eq__` 연산자를 재정의할 수 있습니다. 다음 예제에서는 `MaskedTensor` 비교할 때 마스크된 요소를 무시하도록 MaskedTensor를 업데이트합니다."
      ]
    },
    {
      "cell_type": "code",
      "execution_count": null,
      "metadata": {
        "id": "dA7DyjfB-Yz0"
      },
      "outputs": [],
      "source": [
        "class MaskedTensor(tf.experimental.ExtensionType):\n",
        "  values: tf.Tensor\n",
        "  mask: tf.Tensor\n",
        "\n",
        "  def __repr__(self):\n",
        "    return masked_tensor_str(self.values, self.mask)\n",
        "\n",
        "  def __eq__(self, other):\n",
        "    result = tf.math.equal(self.values, other.values)\n",
        "    result = result | ~(self.mask & other.mask)\n",
        "    return tf.reduce_all(result)\n",
        "\n",
        "x = MaskedTensor([1, 2, 3, 4], [True, True, False, True])\n",
        "y = MaskedTensor([5, 2, 0, 4], [False, True, False, True])\n",
        "print(x == y)"
      ]
    },
    {
      "cell_type": "markdown",
      "metadata": {
        "id": "n1mZ1Lkyi14B"
      },
      "source": [
        "**참고:** 기본 구현은 단순히 `__eq__` 를 호출하고 결과를 무효화하기 `__ne__` 를 재정의할 필요가 없습니다."
      ]
    },
    {
      "cell_type": "markdown",
      "metadata": {
        "id": "A_Jib1SQD1-z"
      },
      "source": [
        "### 정방향 참조 사용\n",
        "\n",
        "필드 유형이 아직 정의되지 않은 경우 유형 이름이 포함된 문자열을 대신 사용할 수 있습니다. 다음 예제에서는 `Node` 유형이 아직 (완전히) 정의되지 않았기 때문에 `\"Node\"` `children` 필드에 주석을 다는 데 사용됩니다.\n"
      ]
    },
    {
      "cell_type": "code",
      "execution_count": null,
      "metadata": {
        "id": "_Z029QKED0Ao"
      },
      "outputs": [],
      "source": [
        "class Node(tf.experimental.ExtensionType):\n",
        "  value: tf.Tensor\n",
        "  children: Tuple[\"Node\", ...] = ()\n",
        "\n",
        "Node(3, [Node(5), Node(2)])"
      ]
    },
    {
      "cell_type": "markdown",
      "metadata": {
        "id": "boaNg1zHgoVn"
      },
      "source": [
        "### 서브클래스 정의\n",
        "\n",
        "확장 유형은 표준 Python 구문을 사용하여 하위 분류될 수 있습니다. 확장 유형 하위 클래스는 새 필드, 메서드 및 속성을 추가할 수 있습니다. 생성자, 인쇄 가능한 표현 및 등호 연산자를 재정의할 수 있습니다. 다음 예제는 세 개의 `Tensor` 필드를 사용하여 노드 사이의 가장자리 집합을 인코딩하는 `TensorGraph` 그런 다음 각 노드에 대한 \"기능 값\"을 기록하기 위해 `Tensor` 필드를 추가하는 하위 클래스를 정의합니다. 또한 하위 클래스는 가장자리를 따라 특성 값을 전파하는 방법을 정의합니다."
      ]
    },
    {
      "cell_type": "code",
      "execution_count": null,
      "metadata": {
        "id": "58r6qRiK-uZh"
      },
      "outputs": [],
      "source": [
        "class TensorGraph(tf.experimental.ExtensionType):\n",
        "  num_nodes: tf.Tensor\n",
        "  edge_src: tf.Tensor   # edge_src[e] = index of src node for edge e.\n",
        "  edge_dst: tf.Tensor   # edge_dst[e] = index of dst node for edge e.\n",
        "\n",
        "class TensorGraphWithNodeFeature(TensorGraph):\n",
        "  node_features: tf.Tensor  # node_features[n] = feature value for node n.\n",
        "\n",
        "  def propagate_features(self, weight=1.0) -> 'TensorGraphWithNodeFeature':\n",
        "    updates = tf.gather(self.node_features, self.edge_src) * weight\n",
        "    new_node_features = tf.tensor_scatter_nd_add(\n",
        "        self.node_features, tf.expand_dims(self.edge_dst, 1), updates)\n",
        "    return TensorGraphWithNodeFeature(\n",
        "        self.num_nodes, self.edge_src, self.edge_dst, new_node_features)\n",
        "\n",
        "g = TensorGraphWithNodeFeature(  # Edges: 0->1, 4->3, 2->2, 2->1\n",
        "    num_nodes=5, edge_src=[0, 4, 2, 2], edge_dst=[1, 3, 2, 1],\n",
        "    node_features=[10.0, 0.0, 2.0, 5.0, -1.0, 0.0])\n",
        "\n",
        "print(\"Original features:\", g.node_features)\n",
        "print(\"After propagating:\", g.propagate_features().node_features)"
      ]
    },
    {
      "cell_type": "markdown",
      "metadata": {
        "id": "U_oElT5HzqSG"
      },
      "source": [
        "### 개인 필드 정의\n",
        "\n",
        "확장 유형의 필드는 접두사에 밑줄을 붙여 비공개로 표시할 수 있습니다(표준 Python 규칙에 따라). 이것은 TensorFlow가 어떤 식으로든 필드를 처리하는 방식에 영향을 미치지 않습니다. 그러나 단순히 확장 유형의 모든 사용자에게 해당 필드가 비공개라는 신호 역할을 합니다.\n"
      ]
    },
    {
      "cell_type": "markdown",
      "metadata": {
        "id": "oMdH7ORqh8Pl"
      },
      "source": [
        "### ExtensionType의 `TypeSpec`\n",
        "\n",
        "각 `ExtensionType` 클래스에는 자동으로 생성되고 `<extension_type_name>.Spec` `TypeSpec` 클래스가 있습니다. 자세한 내용은 위의 \"중첩된 TypeSpec\" 섹션을 참조하세요.\n",
        "\n",
        "`TypeSpec` 을 사용자 정의하려면 `Spec` 이라는 자체 중첩 클래스를 정의하기만 하면 `ExtensionType` 이 이를 자동으로 생성된 `TypeSpec` 의 기초로 사용합니다. `Spec` 클래스를 사용자 정의할 수 있습니다.\n",
        "\n",
        "- 기본 인쇄 가능한 표현을 재정의합니다.\n",
        "- 기본 생성자를 재정의합니다.\n",
        "- 메서드, 클래스 메서드, 정적 메서드 및 속성을 정의합니다.\n",
        "\n",
        "다음 예제에서는 사용하기 쉽도록 `MaskedTensor.Spec` 클래스를 사용자 지정합니다."
      ]
    },
    {
      "cell_type": "code",
      "execution_count": null,
      "metadata": {
        "id": "Gm4RaqbkLlNG"
      },
      "outputs": [],
      "source": [
        "class MaskedTensor(tf.experimental.ExtensionType):\n",
        "  values: tf.Tensor\n",
        "  mask: tf.Tensor\n",
        "\n",
        "  shape = property(lambda self: self.values.shape)\n",
        "  dtype = property(lambda self: self.values.dtype)\n",
        "\n",
        "  def __repr__(self):\n",
        "    return masked_tensor_str(self.values, self.mask)\n",
        "\n",
        "  def with_values(self, new_values):\n",
        "    return MaskedTensor(new_values, self.mask)\n",
        "\n",
        "  class Spec:\n",
        "    def __init__(self, shape, dtype=tf.float32):\n",
        "      self.values = tf.TensorSpec(shape, dtype)\n",
        "      self.mask = tf.TensorSpec(shape, tf.bool)\n",
        "\n",
        "    def __repr__(self):\n",
        "      return f\"MaskedTensor.Spec(shape={self.shape}, dtype={self.dtype})\"\n",
        "\n",
        "    shape = property(lambda self: self.values.shape)\n",
        "    dtype = property(lambda self: self.values.dtype)"
      ]
    },
    {
      "cell_type": "markdown",
      "metadata": {
        "id": "s3zzUXPSNF72"
      },
      "source": [
        "**참고** : 사용자 정의 `Spec` `ExtensionType` 선언되지 않은 인스턴스 변수를 사용할 수 없습니다."
      ]
    },
    {
      "cell_type": "markdown",
      "metadata": {
        "id": "rip4GCuYPL7o"
      },
      "source": [
        "## 텐서 API 디스패치\n",
        "\n",
        "`tf.Tensor` 유형에 의해 정의된 인터페이스를 전문화하거나 확장한다는 점에서 \"텐서와 유사\"할 수 있습니다. 텐서와 유사한 확장 유형의 예로는 `RaggedTensor` , `SparseTensor` 및 `MaskedTensor` 있습니다. ***디스패치 데코레이터*** 는 텐서와 유사한 확장 유형에 적용될 때 TensorFlow 작업의 기본 동작을 재정의하는 데 사용할 수 있습니다. TensorFlow는 현재 세 가지 디스패치 데코레이터를 정의합니다.\n",
        "\n",
        "- `@tf.experimental.dispatch_for_api(tf_api)`\n",
        "- `@tf.experimental.dispatch_for_unary_elementwise_api(x_type)`\n",
        "- `@tf.experimental.dispatch_for_binary_elementwise_apis(x_type, y_type)`"
      ]
    },
    {
      "cell_type": "markdown",
      "metadata": {
        "id": "5BTQHcY4gHwZ"
      },
      "source": [
        "### 단일 API에 대한 디스패치\n",
        "\n",
        "`tf.experimental.dispatch_for_api` 데코레이터는 지정된 서명으로 호출될 때 지정된 TensorFlow 작업의 기본 동작을 재정의합니다. 예를 들어 이 데코레이터를 사용하여 `tf.stack` 이 `MaskedTensor` 값을 처리하는 방법을 지정할 수 있습니다."
      ]
    },
    {
      "cell_type": "code",
      "execution_count": null,
      "metadata": {
        "id": "B4QgO_fUW2o2"
      },
      "outputs": [],
      "source": [
        "@tf.experimental.dispatch_for_api(tf.stack)\n",
        "def masked_stack(values: List[MaskedTensor], axis = 0):\n",
        "  return MaskedTensor(tf.stack([v.values for v in values], axis),\n",
        "                      tf.stack([v.mask for v in values], axis))"
      ]
    },
    {
      "cell_type": "markdown",
      "metadata": {
        "id": "FxKcKWNUaLvm"
      },
      "source": [
        "`MaskedTensor` 값 목록과 함께 호출될 때마다 `tf.stack` 대한 기본 구현을 재정의 `values` `typing.List[MaskedTensor]` 주석으로 지정되어 있기 때문입니다):"
      ]
    },
    {
      "cell_type": "code",
      "execution_count": null,
      "metadata": {
        "id": "RqpFjaAvaA19"
      },
      "outputs": [],
      "source": [
        "x = MaskedTensor([1, 2, 3], [True, True, False])\n",
        "y = MaskedTensor([4, 5, 6], [False, True, True])\n",
        "tf.stack([x, y])"
      ]
    },
    {
      "cell_type": "markdown",
      "metadata": {
        "id": "loGi8taCa265"
      },
      "source": [
        "`tf.stack` 이 혼합된 `MaskedTensor` 및 `Tensor` 값 목록을 처리할 수 있도록 하려면 `values` 매개변수에 대한 유형 주석을 구체화하고 함수 본문을 적절하게 업데이트할 수 있습니다."
      ]
    },
    {
      "cell_type": "code",
      "execution_count": null,
      "metadata": {
        "id": "_xySkm0ganAI"
      },
      "outputs": [],
      "source": [
        "tf.experimental.unregister_dispatch_for(masked_stack)\n",
        "\n",
        "def convert_to_masked_tensor(x):\n",
        "  if isinstance(x, MaskedTensor):\n",
        "    return x\n",
        "  else:\n",
        "    return MaskedTensor(x, tf.ones_like(x, tf.bool))\n",
        "\n",
        "@tf.experimental.dispatch_for_api(tf.stack)\n",
        "def masked_stack_v2(values: List[Union[MaskedTensor, tf.Tensor]], axis = 0):\n",
        "  values = [convert_to_masked_tensor(v) for v in values]\n",
        "  return MaskedTensor(tf.stack([v.values for v in values], axis),\n",
        "                      tf.stack([v.mask for v in values], axis))\n",
        "x = MaskedTensor([1, 2, 3], [True, True, False])\n",
        "y = tf.constant([4, 5, 6])\n",
        "tf.stack([x, y, x])"
      ]
    },
    {
      "cell_type": "markdown",
      "metadata": {
        "id": "ITioFCyjQm8V"
      },
      "source": [
        "재정의할 수 있는 API 목록은 `tf.experimental.dispatch_for_api` 대한 API 설명서를 참조하세요."
      ]
    },
    {
      "cell_type": "markdown",
      "metadata": {
        "id": "f91SaHSqc-jO"
      },
      "source": [
        "### 모든 단항 요소별 API에 대한 디스패치\n",
        "\n",
        "`tf.experimental.dispatch_for_unary_elementwise_apis` 데코레이터는 첫 번째 인수(일반적으로 이름이 `x` )에 대한 값이 유형 주석 `x_type` ***과 일치할 때마다 모든*** 단항 요소별 연산(예: `tf.math.cos` )의 기본 동작을 재정의합니다. 데코레이팅된 함수는 두 개의 인수를 취해야 합니다.\n",
        "\n",
        "- `api_func` : 단일 매개변수를 취하고 요소별 연산을 수행하는 함수(예: `tf.abs` ).\n",
        "- `x` : 요소별 연산의 첫 번째 인수입니다.\n",
        "\n",
        "`MaskedTensor` 유형을 처리하기 위해 모든 단항 요소별 연산을 업데이트합니다."
      ]
    },
    {
      "cell_type": "code",
      "execution_count": null,
      "metadata": {
        "id": "cv5fV4xxZI9q"
      },
      "outputs": [],
      "source": [
        " @tf.experimental.dispatch_for_unary_elementwise_apis(MaskedTensor)\n",
        " def masked_tensor_unary_elementwise_api_handler(api_func, x):\n",
        "   return MaskedTensor(api_func(x.values), x.mask)"
      ]
    },
    {
      "cell_type": "markdown",
      "metadata": {
        "id": "qiK4n6vaeFwo"
      },
      "source": [
        "`MaskedTensor` 에서 단항 요소별 연산이 호출될 때마다 사용됩니다."
      ]
    },
    {
      "cell_type": "code",
      "execution_count": null,
      "metadata": {
        "id": "SkH0xi5gd_41"
      },
      "outputs": [],
      "source": [
        " x = MaskedTensor([1, -2, -3], [True, False, True])\n",
        " print(tf.abs(x))"
      ]
    },
    {
      "cell_type": "code",
      "execution_count": null,
      "metadata": {
        "id": "2Ej5fxLBfaXW"
      },
      "outputs": [],
      "source": [
        "print(tf.ones_like(x, dtype=tf.float32))"
      ]
    },
    {
      "cell_type": "markdown",
      "metadata": {
        "id": "Z9OgLyfEejqc"
      },
      "source": [
        "### 바이너리 모든 요소별 API에 대한 디스패치\n",
        "\n",
        "마찬가지로 `tf.experimental.dispatch_for_binary_elementwise_apis` `MaskedTensor` 유형을 처리하기 위해 모든 바이너리 요소별 연산을 업데이트하는 데 사용할 수 있습니다.\n"
      ]
    },
    {
      "cell_type": "code",
      "execution_count": null,
      "metadata": {
        "id": "Z8Du-GPofpCW"
      },
      "outputs": [],
      "source": [
        "@tf.experimental.dispatch_for_binary_elementwise_apis(MaskedTensor, MaskedTensor)\n",
        "def masked_tensor_binary_elementwise_api_handler(api_func, x, y):\n",
        "  return MaskedTensor(api_func(x.values, y.values), x.mask & y.mask)"
      ]
    },
    {
      "cell_type": "code",
      "execution_count": null,
      "metadata": {
        "id": "gghVHDfSfyi2"
      },
      "outputs": [],
      "source": [
        "x = MaskedTensor([1, -2, -3], [True, False, True])\n",
        "y = MaskedTensor([[4], [5]], [[True], [False]])\n",
        "tf.math.add(x, y)"
      ]
    },
    {
      "cell_type": "markdown",
      "metadata": {
        "id": "txTGg9pzG0Ux"
      },
      "source": [
        "재정의되는 요소별 API 목록은 `tf.experimental.dispatch_for_unary_elementwise_apis` 및 `tf.experimental.dispatch_for_binary_elementwise_apis` 대한 API 문서를 참조하세요."
      ]
    },
    {
      "cell_type": "markdown",
      "metadata": {
        "id": "UseRtohYKiE5"
      },
      "source": [
        "## 일괄 처리 가능한 확장 유형\n",
        "\n",
        "`ExtensionType` 단일 인스턴스 값의 배치를 나타내는 데 사용할 수있는 경우 *batchable이다.* `Tensor` 배치 차원을 추가하여 수행됩니다. 다음 TensorFlow API를 사용하려면 모든 확장 유형 입력이 일괄 처리 가능해야 합니다.\n",
        "\n",
        "- `tf.data.Dataset` ( `batch` , `unbatch` , `from_tensor_slices` )\n",
        "- `tf.Keras` ( `fit` , `evaluate` , `predict` )\n",
        "- `tf.map_fn`"
      ]
    },
    {
      "cell_type": "markdown",
      "metadata": {
        "id": "hWPauKGj_yRz"
      },
      "source": [
        "기본적으로 `BatchableExtensionType` `Tensor` , `CompositeTensor` 및 `ExtensionType` 일괄 처리하여 일괄 처리된 값을 생성합니다. 이것이 클래스에 적합하지 않은 경우 `tf.experimental.ExtensionTypeBatchEncoder` 를 사용하여 이 기본 동작을 재정의해야 합니다. 예를 들어, 개별 희소 텐서의 `values` , `indices` 및 `dense_shape` `tf.SparseTensor` 값의 배치를 만드는 것은 적절하지 않습니다. 대부분의 경우 이러한 텐서는 호환되지 않는 모양을 가지고 있기 때문에 스택할 수 없습니다. ; 가능하더라도 결과는 유효한 `SparseTensor` .\n",
        "\n",
        "**참고** : `BatchableExtensionType` `tf.stack` , `tf.concat` , `tf.slice` 등에 대한 디스패처를 자동으로 정의하지 *않습니다* . 이러한 API에서 클래스를 지원해야 하는 경우 위에서 설명한 디스패치 데코레이터를 사용하세요."
      ]
    },
    {
      "cell_type": "markdown",
      "metadata": {
        "id": "xkOJ8ke8GH7s"
      },
      "source": [
        "### BatchableExtensionType 예: 네트워크\n",
        "\n",
        "`Network` 클래스를 생각해 보십시오. 이 클래스는 각 노드에서 수행해야 할 작업의 양과 노드 간에 작업을 이동하는 데 사용할 수 있는 대역폭을 추적합니다."
      ]
    },
    {
      "cell_type": "code",
      "execution_count": null,
      "metadata": {
        "id": "tOeEXwCcfrPd"
      },
      "outputs": [],
      "source": [
        "class Network(tf.experimental.ExtensionType):  # This version is not batchable.\n",
        "  work: tf.Tensor       # work[n] = work left to do at node n\n",
        "  bandwidth: tf.Tensor  # bandwidth[n1, n2] = bandwidth from n1->n2\n",
        "\n",
        "net1 = Network([5., 3, 8], [[0., 2, 0], [2, 0, 3], [0, 3, 0]])\n",
        "net2 = Network([3., 4, 2], [[0., 2, 2], [2, 0, 2], [2, 2, 0]])"
      ]
    },
    {
      "cell_type": "markdown",
      "metadata": {
        "id": "PaOzUev6g3wT"
      },
      "source": [
        "이 유형을 일괄 처리 가능하게 만들려면 기본 유형을 `BatchableExtensionType` 변경하고 선택적 일괄 처리 차원을 포함하도록 각 필드의 모양을 조정합니다. 다음 예제에서는 배치 모양을 추적하기 `shape` 필드도 추가합니다. 이 `shape` 필드는 필요로하지 않는 `tf.data.Dataset` 또는 `tf.map_fn` 있지만 *요구하는* `tf.Keras` ."
      ]
    },
    {
      "cell_type": "code",
      "execution_count": null,
      "metadata": {
        "id": "T03WWBSMg2XC"
      },
      "outputs": [],
      "source": [
        "class Network(tf.experimental.BatchableExtensionType):\n",
        "  shape: tf.TensorShape  # batch shape.  A single network has shape=[].\n",
        "  work: tf.Tensor        # work[*shape, n] = work left to do at node n\n",
        "  bandwidth: tf.Tensor   # bandwidth[*shape, n1, n2] = bandwidth from n1->n2\n",
        "\n",
        "  def __init__(self, work, bandwidth):\n",
        "    self.work = tf.convert_to_tensor(work)\n",
        "    self.bandwidth = tf.convert_to_tensor(bandwidth)\n",
        "    work_batch_shape = self.work.shape[:-1]\n",
        "    bandwidth_batch_shape = self.bandwidth.shape[:-2]\n",
        "    self.shape = work_batch_shape.merge_with(bandwidth_batch_shape)\n",
        "\n",
        "  def __repr__(self):\n",
        "    return network_repr(self)\n",
        "\n",
        "def network_repr(network):\n",
        "  work = network.work\n",
        "  bandwidth = network.bandwidth\n",
        "  if hasattr(work, 'numpy'):\n",
        "    work = ' '.join(str(work.numpy()).split())\n",
        "  if hasattr(bandwidth, 'numpy'):\n",
        "    bandwidth = ' '.join(str(bandwidth.numpy()).split())\n",
        "  return (f\"<Network shape={network.shape} work={work} bandwidth={bandwidth}>\")"
      ]
    },
    {
      "cell_type": "code",
      "execution_count": null,
      "metadata": {
        "id": "NUUJe9HuIPel"
      },
      "outputs": [],
      "source": [
        "net1 = Network([5., 3, 8], [[0., 2, 0], [2, 0, 3], [0, 3, 0]])\n",
        "net2 = Network([3., 4, 2], [[0., 2, 2], [2, 0, 2], [2, 2, 0]])\n",
        "batch_of_networks = Network(\n",
        "    work=tf.stack([net1.work, net2.work]),\n",
        "    bandwidth=tf.stack([net1.bandwidth, net2.bandwidth]))\n",
        "print(f\"net1={net1}\")\n",
        "print(f\"net2={net2}\")\n",
        "print(f\"batch={batch_of_networks}\")"
      ]
    },
    {
      "cell_type": "markdown",
      "metadata": {
        "id": "r0qWur5JGc3d"
      },
      "source": [
        "`tf.data.Dataset` 을 사용하여 네트워크 배치를 반복할 수 있습니다."
      ]
    },
    {
      "cell_type": "code",
      "execution_count": null,
      "metadata": {
        "id": "BN_kixAUFZtv"
      },
      "outputs": [],
      "source": [
        "dataset = tf.data.Dataset.from_tensor_slices(batch_of_networks)\n",
        "for i, network in enumerate(dataset):\n",
        "  print(f\"Batch element {i}: {network}\")"
      ]
    },
    {
      "cell_type": "markdown",
      "metadata": {
        "id": "aXENhTzIIjbM"
      },
      "source": [
        "`map_fn` 을 사용하여 각 배치 요소에 함수를 적용할 수도 있습니다."
      ]
    },
    {
      "cell_type": "code",
      "execution_count": null,
      "metadata": {
        "id": "j1XEsSWj9a3D"
      },
      "outputs": [],
      "source": [
        "def balance_work_greedy(network):\n",
        "  delta = (tf.expand_dims(network.work, -1) - tf.expand_dims(network.work, -2))\n",
        "  delta /= 4\n",
        "  delta = tf.maximum(tf.minimum(delta, network.bandwidth), -network.bandwidth)\n",
        "  new_work = network.work + tf.reduce_sum(delta, -1)\n",
        "  return Network(new_work, network.bandwidth)\n",
        "\n",
        "tf.map_fn(balance_work_greedy, batch_of_networks)"
      ]
    },
    {
      "cell_type": "markdown",
      "metadata": {
        "id": "f_HLsTT02Xul"
      },
      "source": [
        "## ExtensionTypes를 지원하는 TensorFlow API"
      ]
    },
    {
      "cell_type": "markdown",
      "metadata": {
        "id": "NNiQad2U2alT"
      },
      "source": [
        "### @tf.function\n",
        "\n",
        "[tf.function](https://www.tensorflow.org/guide/function) 은 TensorFlow 코드의 성능을 크게 향상시킬 수 있는 Python 함수용 TensorFlow 그래프를 미리 계산하는 데코레이터입니다. `@tf.function` 함수와 함께 투명하게 사용할 수 있습니다."
      ]
    },
    {
      "cell_type": "code",
      "execution_count": null,
      "metadata": {
        "id": "jQ_rAvrA6qEb"
      },
      "outputs": [],
      "source": [
        "class Pastry(tf.experimental.ExtensionType):\n",
        "  sweetness: tf.Tensor  # 2d embedding that encodes sweetness\n",
        "  chewiness: tf.Tensor  # 2d embedding that encodes chewiness\n",
        "\n",
        "@tf.function\n",
        "def combine_pastry_features(x: Pastry):\n",
        "  return (x.sweetness + x.chewiness) / 2\n",
        "\n",
        "cookie = Pastry(sweetness=[1.2, 0.4], chewiness=[0.8, 0.2])\n",
        "combine_pastry_features(cookie)"
      ]
    },
    {
      "cell_type": "markdown",
      "metadata": {
        "id": "u1P-0Udg71Vx"
      },
      "source": [
        "`input_signature` 대해 `tf.function` 를 명시적으로 지정 `TypeSpec` 사용하여 지정할 수 있습니다."
      ]
    },
    {
      "cell_type": "code",
      "execution_count": null,
      "metadata": {
        "id": "0df90E4x78d7"
      },
      "outputs": [],
      "source": [
        "pastry_spec = Pastry.Spec(tf.TensorSpec([2]), tf.TensorSpec(2))\n",
        "\n",
        "@tf.function(input_signature=[pastry_spec])\n",
        "def increase_sweetness(x: Pastry, delta=1.0):\n",
        "  return Pastry(x.sweetness + delta, x.chewiness)\n",
        "\n",
        "increase_sweetness(cookie)"
      ]
    },
    {
      "cell_type": "markdown",
      "metadata": {
        "id": "CdTfc5nD9JpD"
      },
      "source": [
        "#### 구체적인 기능\n",
        "\n",
        "`tf.function` 의해 구축된 개별 추적 그래프를 캡슐화합니다. 확장 유형은 구체적인 기능과 함께 투명하게 사용할 수 있습니다.\n"
      ]
    },
    {
      "cell_type": "code",
      "execution_count": null,
      "metadata": {
        "id": "FyHBBQWk9xz2"
      },
      "outputs": [],
      "source": [
        "cf = combine_pastry_features.get_concrete_function(pastry_spec)\n",
        "cf(cookie)"
      ]
    },
    {
      "cell_type": "markdown",
      "metadata": {
        "id": "LYas8gtG5IMA"
      },
      "source": [
        "### 제어 흐름 작업\n",
        "\n",
        "확장 유형은 TensorFlow의 제어 흐름 작업에서 지원됩니다.\n",
        "\n",
        "- `tf.cond`\n",
        "- `tf.case`\n",
        "- `tf.while_loop`\n",
        "- `tf.identity`\n"
      ]
    },
    {
      "cell_type": "code",
      "execution_count": null,
      "metadata": {
        "id": "6G2XE9ZtJu8z"
      },
      "outputs": [],
      "source": [
        "# Example: using tf.cond to select between two MaskedTensors.  Note that the\n",
        "# two MaskedTensors don't need to have the same shape.\n",
        "a = MaskedTensor([1., 2, 3], [True, False, True])\n",
        "b = MaskedTensor([22., 33, 108, 55], [True, True, True, False])\n",
        "condition = tf.constant(True)\n",
        "print(tf.cond(condition, lambda: a, lambda: b))"
      ]
    },
    {
      "cell_type": "code",
      "execution_count": null,
      "metadata": {
        "id": "2NwLOw1kKSek"
      },
      "outputs": [],
      "source": [
        "# Example: using tf.while_loop with MaskedTensor.\n",
        "cond = lambda i, _: i < 10\n",
        "def body(i, mt):\n",
        "  return i + 1, mt.with_values(mt.values + 3 / 7)\n",
        "print(tf.while_loop(cond, body, [0, b])[1])"
      ]
    },
    {
      "cell_type": "markdown",
      "metadata": {
        "id": "zkN7IuWVMRzn"
      },
      "source": [
        "### 사인 제어 흐름\n",
        "\n",
        "확장 유형은 tf.function의 제어 흐름 문에서도 지원됩니다(autograph 사용). 다음 예에서 `if` 문과 `for` 문은 확장 유형을 지원 `tf.cond` 및 `tf.while_loop` 작업으로 자동 변환됩니다."
      ]
    },
    {
      "cell_type": "code",
      "execution_count": null,
      "metadata": {
        "id": "4RFySEl8gZ8w"
      },
      "outputs": [],
      "source": [
        "@tf.function\n",
        "def fn(x, b):\n",
        "  if b:\n",
        "    x = MaskedTensor(x, tf.less(x, 0))\n",
        "  else:\n",
        "    x = MaskedTensor(x, tf.greater(x, 0))\n",
        "  for i in tf.range(5 if b else 7):\n",
        "    x = x.with_values(x.values + 1 / 2)\n",
        "  return x\n",
        "\n",
        "print(fn(tf.constant([1., -2, 3]), tf.constant(True)))\n",
        "print(fn(tf.constant([1., -2, 3]), tf.constant(False)))"
      ]
    },
    {
      "cell_type": "markdown",
      "metadata": {
        "id": "-FjZt2ohfja4"
      },
      "source": [
        "### 케라스\n",
        "\n",
        "[tf.keras](https://www.tensorflow.org/guide/keras) 는 딥 러닝 모델을 구축하고 훈련하기 위한 TensorFlow의 고급 API입니다. 확장 유형은 Keras 모델에 대한 입력으로 전달되고, Keras 계층 간에 전달되고, Keras 모델에서 반환될 수 있습니다. Keras는 현재 확장 유형에 두 가지 요구 사항을 적용합니다.\n",
        "\n",
        "- 배치 가능해야 합니다(위의 \"배치 가능한 ExtensionType\" 참조).\n",
        "- `shape` 이라는 필드 또는 속성이 있어야 합니다. `shape[0]` 은 배치 차원으로 간주됩니다.\n",
        "\n",
        "다음 두 하위 섹션에서는 확장 유형을 Keras와 함께 사용하는 방법을 보여주는 예를 제공합니다.\n"
      ]
    },
    {
      "cell_type": "markdown",
      "metadata": {
        "id": "QH1TXQYiGv8u"
      },
      "source": [
        "#### Keras 예: `Network`\n",
        "\n",
        "첫 번째 예에서는 노드 간의 부하 분산 작업에 사용할 수 있는 위의 \"Batchable ExtensionTypes\" 섹션에 정의된 `Network` 그 정의는 여기에서 반복됩니다."
      ]
    },
    {
      "cell_type": "code",
      "execution_count": null,
      "metadata": {
        "id": "zHj1RIS2PK50"
      },
      "outputs": [],
      "source": [
        "class Network(tf.experimental.BatchableExtensionType):\n",
        "  shape: tf.TensorShape  # batch shape.  A single network has shape=[].\n",
        "  work: tf.Tensor        # work[*shape, n] = work left to do at node n\n",
        "  bandwidth: tf.Tensor   # bandwidth[*shape, n1, n2] = bandwidth from n1->n2\n",
        "\n",
        "  def __init__(self, work, bandwidth):\n",
        "    self.work = tf.convert_to_tensor(work)\n",
        "    self.bandwidth = tf.convert_to_tensor(bandwidth)\n",
        "    work_batch_shape = self.work.shape[:-1]\n",
        "    bandwidth_batch_shape = self.bandwidth.shape[:-2]\n",
        "    self.shape = work_batch_shape.merge_with(bandwidth_batch_shape)\n",
        "\n",
        "  def __repr__(self):\n",
        "    return network_repr(self)"
      ]
    },
    {
      "cell_type": "code",
      "execution_count": null,
      "metadata": {
        "id": "w9LPTEVJD0FD"
      },
      "outputs": [],
      "source": [
        "single_network = Network(  # A single network w/ 4 nodes.\n",
        "    work=[8.0, 5, 12, 2],\n",
        "    bandwidth=[[0.0, 1, 2, 2], [1, 0, 0, 2], [2, 0, 0, 1], [2, 2, 1, 0]])\n",
        "\n",
        "batch_of_networks = Network(  # Batch of 2 networks, each w/ 2 nodes.\n",
        "    work=[[8.0, 5], [3, 2]],\n",
        "    bandwidth=[[[0.0, 1], [1, 0]], [[0, 2], [2, 0]]])"
      ]
    },
    {
      "cell_type": "markdown",
      "metadata": {
        "id": "IUfWi3SDD0dj"
      },
      "source": [
        "`Network` 를 처리하는 새로운 Keras 계층을 정의할 수 있습니다."
      ]
    },
    {
      "cell_type": "code",
      "execution_count": null,
      "metadata": {
        "id": "2WSYt58r4SF1"
      },
      "outputs": [],
      "source": [
        "class BalanceNetworkLayer(tf.keras.layers.Layer):\n",
        "  \"\"\"Layer that balances work between nodes in a network.\n",
        "\n",
        "  Shifts work from more busy nodes to less busy nodes, constrained by bandwidth.\n",
        "  \"\"\"\n",
        "  def call(self, inputs):\n",
        "    # This function is defined above, in \"Batchable ExtensionTypes\" section.\n",
        "    return balance_work_greedy(inputs)"
      ]
    },
    {
      "cell_type": "markdown",
      "metadata": {
        "id": "VWwFJNb1E03q"
      },
      "source": [
        "그런 다음 이 레이어를 사용하여 간단한 모델을 만들 수 있습니다. `ExtensionType` 을 모델에 제공하려면 `type_spec` 이 확장 유형의 `TypeSpec` `tf.keras.layer.Input` 레이어를 사용할 수 있습니다. Keras 모델을 사용하여 배치를 처리하는 경우 `type_spec` 에 배치 차원이 포함되어야 합니다."
      ]
    },
    {
      "cell_type": "code",
      "execution_count": null,
      "metadata": {
        "id": "plTyqISRExA4"
      },
      "outputs": [],
      "source": [
        "input_spec = Network.Spec(shape=None,\n",
        "                          work=tf.TensorSpec(None, tf.float32),\n",
        "                          bandwidth=tf.TensorSpec(None, tf.float32))\n",
        "model = tf.keras.Sequential([\n",
        "    tf.keras.layers.Input(type_spec=input_spec),\n",
        "    BalanceNetworkLayer(),\n",
        "    ])"
      ]
    },
    {
      "cell_type": "markdown",
      "metadata": {
        "id": "hyeAbt1WFIiO"
      },
      "source": [
        "마지막으로 단일 네트워크와 네트워크 배치에 모델을 적용할 수 있습니다."
      ]
    },
    {
      "cell_type": "code",
      "execution_count": null,
      "metadata": {
        "id": "hH1EtA5lFHdN"
      },
      "outputs": [],
      "source": [
        "model(single_network)"
      ]
    },
    {
      "cell_type": "code",
      "execution_count": null,
      "metadata": {
        "id": "V7eM67M7FYYM"
      },
      "outputs": [],
      "source": [
        "model(batch_of_networks)"
      ]
    },
    {
      "cell_type": "markdown",
      "metadata": {
        "id": "tOxtt9Z1HDCv"
      },
      "source": [
        "#### 케라스 예시: MaskedTensor\n",
        "\n",
        "이 예에서 `MaskedTensor` `Keras` 를 지원하도록 확장되었습니다. `shape` `values` 필드에서 계산되는 속성으로 정의됩니다. `TypeSpec` 모두에 이 속성을 추가해야 합니다. `MaskedTensor` `SavedModel` 직렬화에 필요한 `__name__` 변수도 정의합니다(아래 참조)."
      ]
    },
    {
      "cell_type": "code",
      "execution_count": null,
      "metadata": {
        "id": "1JBZ_t48Ht7e"
      },
      "outputs": [],
      "source": [
        "class MaskedTensor(tf.experimental.BatchableExtensionType):\n",
        "  # __name__ is required for serialization in SavedModel; see below for details.\n",
        "  __name__ = 'extension_type_colab.MaskedTensor'\n",
        "\n",
        "  values: tf.Tensor\n",
        "  mask: tf.Tensor\n",
        "\n",
        "  shape = property(lambda self: self.values.shape)\n",
        "  dtype = property(lambda self: self.values.dtype)\n",
        "\n",
        "  def with_default(self, default):\n",
        "    return tf.where(self.mask, self.values, default)\n",
        "\n",
        "  def __repr__(self):\n",
        "    return masked_tensor_str(self.values, self.mask)\n",
        "\n",
        "  class Spec:\n",
        "    def __init__(self, shape, dtype=tf.float32):\n",
        "      self.values = tf.TensorSpec(shape, dtype)\n",
        "      self.mask = tf.TensorSpec(shape, tf.bool)\n",
        "\n",
        "    shape = property(lambda self: self.values.shape)\n",
        "    dtype = property(lambda self: self.values.dtype)\n",
        "\n",
        "    def with_shape(self):\n",
        "      return MaskedTensor.Spec(tf.TensorSpec(shape, self.values.dtype),\n",
        "                               tf.TensorSpec(shape, self.mask.dtype))"
      ]
    },
    {
      "cell_type": "markdown",
      "metadata": {
        "id": "oer8BVc8H7_V"
      },
      "source": [
        "다음으로 디스패치 데코레이터는 여러 TensorFlow API의 기본 동작을 재정의하는 데 사용됩니다. 이러한 API는 표준 Keras 레이어(예: `Dense` `MaskedTensor` 와 함께 해당 레이어를 사용할 수 있습니다. 이 예의 목적을 `matmul` 은 마스킹된 값을 0으로 처리하도록 정의됩니다(즉, 제품에 포함하지 않기 위해)."
      ]
    },
    {
      "cell_type": "code",
      "execution_count": null,
      "metadata": {
        "id": "xy0dhQ_b-ca_"
      },
      "outputs": [],
      "source": [
        "@tf.experimental.dispatch_for_unary_elementwise_apis(MaskedTensor)\n",
        "def unary_elementwise_op_handler(op, x):\n",
        " return MaskedTensor(op(x.values), x.mask)\n",
        "\n",
        "@tf.experimental.dispatch_for_binary_elementwise_apis(\n",
        "    Union[MaskedTensor, tf.Tensor],\n",
        "    Union[MaskedTensor, tf.Tensor])\n",
        "def binary_elementwise_op_handler(op, x, y):\n",
        "  x = convert_to_masked_tensor(x)\n",
        "  y = convert_to_masked_tensor(y)\n",
        "  return MaskedTensor(op(x.values, y.values), x.mask & y.mask)\n",
        "\n",
        "@tf.experimental.dispatch_for_api(tf.matmul)\n",
        "def masked_matmul(a: MaskedTensor, b,\n",
        "                  transpose_a=False, transpose_b=False,\n",
        "                  adjoint_a=False, adjoint_b=False,\n",
        "                  a_is_sparse=False, b_is_sparse=False,\n",
        "                  output_type=None):\n",
        "  if isinstance(a, MaskedTensor):\n",
        "    a = a.with_default(0)\n",
        "  if isinstance(b, MaskedTensor):\n",
        "    b = b.with_default(0)\n",
        "  return tf.matmul(a, b, transpose_a, transpose_b, adjoint_a,\n",
        "                   adjoint_b, a_is_sparse, b_is_sparse, output_type)"
      ]
    },
    {
      "cell_type": "markdown",
      "metadata": {
        "id": "osJ_L-fKJusI"
      },
      "source": [
        "그런 다음 표준 Keras 레이어를 사용하여 `MaskedTensor` 입력을 허용하는 Keras 모델을 구성할 수 있습니다."
      ]
    },
    {
      "cell_type": "code",
      "execution_count": null,
      "metadata": {
        "id": "IS6JCVbk1rd0"
      },
      "outputs": [],
      "source": [
        "input_spec = MaskedTensor.Spec([None, 2], tf.float32)\n",
        "\n",
        "masked_tensor_model = tf.keras.Sequential([\n",
        "    tf.keras.layers.Input(type_spec=input_spec),\n",
        "    tf.keras.layers.Dense(16, activation=\"relu\"),\n",
        "    tf.keras.layers.Dense(1)])\n",
        "masked_tensor_model.compile(loss='binary_crossentropy', optimizer='rmsprop')"
      ]
    },
    {
      "cell_type": "code",
      "execution_count": null,
      "metadata": {
        "id": "SB1WUSzn1RPj"
      },
      "outputs": [],
      "source": [
        "a = MaskedTensor([[1., 2], [3, 4], [5, 6]],\n",
        "                  [[True, False], [False, True], [True, True]])\n",
        "masked_tensor_model.fit(a, tf.constant([[1], [0], [1]]), epochs=3)\n",
        "print(masked_tensor_model(a))"
      ]
    },
    {
      "cell_type": "markdown",
      "metadata": {
        "id": "msmd9XcL2bqb"
      },
      "source": [
        "### 저장된 모델\n",
        "\n",
        "[SavedModel](https://www.tensorflow.org/guide/saved_model) 은 가중치와 계산을 모두 포함하는 직렬화된 TensorFlow 프로그램입니다. Keras 모델 또는 사용자 지정 모델에서 구축할 수 있습니다. 두 경우 모두 확장 유형은 SavedModel에 의해 정의된 함수 및 메소드와 함께 투명하게 사용될 수 있습니다.\n",
        "\n",
        "`__name__` 필드가 있는 한 확장 유형을 처리하는 모델, 계층 및 함수를 저장할 수 있습니다. 이 이름은 확장 유형을 등록하는 데 사용되므로 모델을 로드할 때 찾을 수 있습니다."
      ]
    },
    {
      "cell_type": "markdown",
      "metadata": {
        "id": "PEtbFrz6-Vku"
      },
      "source": [
        "#### 예: Keras 모델 저장\n",
        "\n",
        "확장 유형을 사용하는 `SavedModel` 사용하여 저장할 수 있습니다."
      ]
    },
    {
      "cell_type": "code",
      "execution_count": null,
      "metadata": {
        "id": "ecxQMnybSzV6"
      },
      "outputs": [],
      "source": [
        "masked_tensor_model_path = tempfile.mkdtemp()\n",
        "tf.saved_model.save(masked_tensor_model, masked_tensor_model_path)\n",
        "imported_model = tf.saved_model.load(masked_tensor_model_path)\n",
        "imported_model(a)"
      ]
    },
    {
      "cell_type": "markdown",
      "metadata": {
        "id": "Ne2nu3r6-XMr"
      },
      "source": [
        "#### 예: 사용자 정의 모델 저장\n",
        "\n",
        "SavedModel은 확장 유형을 처리하는 함수로 `tf.Module` 하위 클래스를 저장하는 데 사용할 수도 있습니다."
      ]
    },
    {
      "cell_type": "code",
      "execution_count": null,
      "metadata": {
        "id": "2V6hV3yOT2vz"
      },
      "outputs": [],
      "source": [
        "class CustomModule(tf.Module):\n",
        "  def __init__(self, variable_value):\n",
        "    super().__init__()\n",
        "    self.v = tf.Variable(variable_value)\n",
        "\n",
        "  @tf.function\n",
        "  def grow(self, x: MaskedTensor):\n",
        "    \"\"\"Increase values in `x` by multiplying them by `self.v`.\"\"\"\n",
        "    return MaskedTensor(x.values * self.v, x.mask)\n",
        "\n",
        "module = CustomModule(100.0)\n",
        "\n",
        "module.grow.get_concrete_function(MaskedTensor.Spec(shape=None,\n",
        "                                                    dtype=tf.float32))\n",
        "custom_module_path = tempfile.mkdtemp()\n",
        "tf.saved_model.save(module, custom_module_path)\n",
        "imported_model = tf.saved_model.load(custom_module_path)\n",
        "imported_model.grow(MaskedTensor([1., 2, 3], [False, True, False]))"
      ]
    },
    {
      "cell_type": "markdown",
      "metadata": {
        "id": "o6beljh576ee"
      },
      "source": [
        "#### ExtensionType을 사용할 수 없을 때 저장된 모델 로드\n",
        "\n",
        "`ExtensionType` 을 사용하는 `SavedModel` 을 로드하지만 해당 `ExtensionType` 사용할 수 없는 경우(즉, 가져오지 않은 경우) 경고가 표시되고 TensorFlow는 \"익명 확장 유형\" 개체를 사용하도록 대체합니다. 이 개체는 원래 유형과 동일한 필드를 갖지만 사용자 정의 메소드 또는 속성과 같이 유형에 추가한 추가 사용자 정의가 부족합니다."
      ]
    },
    {
      "cell_type": "markdown",
      "metadata": {
        "id": "ec9PcUkJ9bFK"
      },
      "source": [
        "#### TensorFlow 제공과 함께 ExtensionType 사용\n",
        "\n",
        "현재 [TensorFlow 서비스](https://www.tensorflow.org/tfx/guide/serving) (및 SavedModel \"서명\" 사전의 다른 소비자)는 모든 입력 및 출력이 원시 텐서가 되어야 합니다. 확장 유형을 사용하는 모델과 함께 TensorFlow 서비스를 사용하려는 경우 텐서에서 확장 유형 값을 구성하거나 분해하는 래퍼 메서드를 추가할 수 있습니다. 예:"
      ]
    },
    {
      "cell_type": "code",
      "execution_count": null,
      "metadata": {
        "id": "4VnzAwVo9tTc"
      },
      "outputs": [],
      "source": [
        "class CustomModuleWrapper(tf.Module):\n",
        "  def __init__(self, variable_value):\n",
        "    super().__init__()\n",
        "    self.v = tf.Variable(variable_value)\n",
        "\n",
        "  @tf.function\n",
        "  def var_weighted_mean(self, x: MaskedTensor):\n",
        "    \"\"\"Mean value of unmasked values in x, weighted by self.v.\"\"\"\n",
        "    x = MaskedTensor(x.values * self.v, x.mask)\n",
        "    return (tf.reduce_sum(x.with_default(0)) /\n",
        "            tf.reduce_sum(tf.cast(x.mask, x.dtype)))\n",
        "\n",
        "  @tf.function()\n",
        "  def var_weighted_mean_wrapper(self, x_values, x_mask):\n",
        "    \"\"\"Raw tensor wrapper for var_weighted_mean.\"\"\"\n",
        "    return self.var_weighted_mean(MaskedTensor(x_values, x_mask))\n",
        "\n",
        "module = CustomModuleWrapper([3., 2., 8., 5.])\n",
        "\n",
        "module.var_weighted_mean_wrapper.get_concrete_function(\n",
        "    tf.TensorSpec(None, tf.float32), tf.TensorSpec(None, tf.bool))\n",
        "custom_module_path = tempfile.mkdtemp()\n",
        "tf.saved_model.save(module, custom_module_path)\n",
        "imported_model = tf.saved_model.load(custom_module_path)\n",
        "x = MaskedTensor([1., 2., 3., 4.], [False, True, False, True])\n",
        "imported_model.var_weighted_mean_wrapper(x.values, x.mask)"
      ]
    },
    {
      "cell_type": "markdown",
      "metadata": {
        "id": "4dwBadWQ5G9_"
      },
      "source": [
        "### 데이터세트\n",
        "\n",
        "[tf.data](https://www.tensorflow.org/guide/data) 는 간단하고 재사용 가능한 부분으로 복잡한 입력 파이프라인을 구축할 수 있는 API입니다. 핵심 데이터 구조는 `tf.data.Dataset` 이며, 이는 각 요소가 하나 이상의 구성 요소로 구성된 일련의 요소를 나타냅니다."
      ]
    },
    {
      "cell_type": "markdown",
      "metadata": {
        "id": "GcIR19FuwRJV"
      },
      "source": [
        "#### 확장 유형으로 데이터세트 빌드\n",
        "\n",
        "`Dataset.from_tensors` , `Dataset.from_tensor_slices` 또는 `Dataset.from_generator` 사용하여 확장 유형 값에서 데이터 세트를 빌드할 수 있습니다."
      ]
    },
    {
      "cell_type": "code",
      "execution_count": null,
      "metadata": {
        "id": "Oe7fRCkzwdub"
      },
      "outputs": [],
      "source": [
        "ds = tf.data.Dataset.from_tensors(Pastry(5, 5))\n",
        "iter(ds).next()"
      ]
    },
    {
      "cell_type": "code",
      "execution_count": null,
      "metadata": {
        "id": "fk9CD2fZx6yT"
      },
      "outputs": [],
      "source": [
        "mt = MaskedTensor(tf.reshape(range(20), [5, 4]), tf.ones([5, 4]))\n",
        "ds = tf.data.Dataset.from_tensor_slices(mt)\n",
        "for value in ds:\n",
        "  print(value)"
      ]
    },
    {
      "cell_type": "code",
      "execution_count": null,
      "metadata": {
        "id": "DGw8y87awsOJ"
      },
      "outputs": [],
      "source": [
        "def value_gen():\n",
        "  for i in range(2, 7):\n",
        "    yield MaskedTensor(range(10), [j%i != 0 for j in range(10)])\n",
        "\n",
        "ds = tf.data.Dataset.from_generator(\n",
        "    value_gen, output_signature=MaskedTensor.Spec(shape=[10], dtype=tf.int32))\n",
        "for value in ds:\n",
        "  print(value)"
      ]
    },
    {
      "cell_type": "markdown",
      "metadata": {
        "id": "wfEm4NInyqtj"
      },
      "source": [
        "#### 확장 유형이 있는 데이터 세트 일괄 처리 및 일괄 해제\n",
        "\n",
        "확장 유형의 데이터 세트를 사용하여 batchand 및 unbatched 수 있습니다 `Dataset.batch` ADN `Dataset.unbatch` ."
      ]
    },
    {
      "cell_type": "code",
      "execution_count": null,
      "metadata": {
        "id": "snoOUE1ay1rO"
      },
      "outputs": [],
      "source": [
        "batched_ds = ds.batch(2)\n",
        "for value in batched_ds:\n",
        "  print(value)"
      ]
    },
    {
      "cell_type": "code",
      "execution_count": null,
      "metadata": {
        "id": "f8PTky6EzBVY"
      },
      "outputs": [],
      "source": [
        "unbatched_ds = batched_ds.unbatch()\n",
        "for value in unbatched_ds:\n",
        "  print(value)"
      ]
    }
  ],
  "metadata": {
    "colab": {
      "collapsed_sections": [],
      "name": "extension_type.ipynb",
      "toc_visible": true
    },
    "kernelspec": {
      "display_name": "Python 3",
      "name": "python3"
    }
  },
  "nbformat": 4,
  "nbformat_minor": 0
}
