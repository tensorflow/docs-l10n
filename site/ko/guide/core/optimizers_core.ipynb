{
  "cells": [
    {
      "cell_type": "markdown",
      "metadata": {
        "id": "FhGuhbZ6M5tl"
      },
      "source": [
        "##### Copyright 2022 The TensorFlow Authors."
      ]
    },
    {
      "cell_type": "code",
      "execution_count": null,
      "metadata": {
        "cellView": "form",
        "id": "AwOEIRJC6Une"
      },
      "outputs": [],
      "source": [
        "#@title Licensed under the Apache License, Version 2.0 (the \"License\");\n",
        "# you may not use this file except in compliance with the License.\n",
        "# You may obtain a copy of the License at\n",
        "#\n",
        "# https://www.apache.org/licenses/LICENSE-2.0\n",
        "#\n",
        "# Unless required by applicable law or agreed to in writing, software\n",
        "# distributed under the License is distributed on an \"AS IS\" BASIS,\n",
        "# WITHOUT WARRANTIES OR CONDITIONS OF ANY KIND, either express or implied.\n",
        "# See the License for the specific language governing permissions and\n",
        "# limitations under the License."
      ]
    },
    {
      "cell_type": "markdown",
      "metadata": {
        "id": "EIdT9iu_Z4Rb"
      },
      "source": [
        "# Core API를 사용하는 옵티마이저"
      ]
    },
    {
      "cell_type": "markdown",
      "metadata": {
        "id": "bBIlTPscrIT9"
      },
      "source": [
        "<table class=\"tfo-notebook-buttons\" align=\"left\">\n",
        "  <td>     <a target=\"_blank\" href=\"https://www.tensorflow.org/guide/core/optimizers_core\"><img src=\"https://www.tensorflow.org/images/tf_logo_32px.png\"> TensorFlow.org에서 보기</a>\n",
        "</td>\n",
        "  <td>     <a target=\"_blank\" href=\"https://colab.research.google.com/github/tensorflow/docs-l10n/blob/master/site/ko/guide/core/optimizers_core.ipynb\"><img src=\"https://www.tensorflow.org/images/colab_logo_32px.png\">Google Colab에서 실행하기</a>\n",
        "</td>\n",
        "  <td><a target=\"_blank\" href=\"https://github.com/tensorflow/docs-l10n/blob/master/site/ko/guide/core/optimizers_core.ipynb\"><img src=\"https://www.tensorflow.org/images/GitHub-Mark-32px.png\">GitHub에서 소스 보기</a></td>\n",
        "  <td><a href=\"https://storage.googleapis.com/tensorflow_docs/docs-l10n/site/ko/guide/core/optimizers_core.ipynb\"><img src=\"https://www.tensorflow.org/images/download_logo_32px.png\">노트북 다운로드하기</a></td>\n",
        "</table>"
      ]
    },
    {
      "cell_type": "markdown",
      "metadata": {
        "id": "SjAxxRpBzVYg"
      },
      "source": [
        "## 소개\n",
        "\n",
        "이 노트북은 [TensorFlow Core 하위 수준 API](https://www.tensorflow.org/guide/core)를 사용하여 사용자 정의 옵티마이저 프로그램을 만드는 프로세스를 소개합니다. TensorFlow Core 및 기본 사용 사례에 대해 자세히 알아보려면 [Core API 개요](https://www.tensorflow.org/guide/core)를 방문하세요.\n",
        "\n",
        "[Keras 옵티마이저](https://www.tensorflow.org/api_docs/python/tf/keras/optimizers) 모듈은 다양한 일반 훈련 목적에 사용할 것이 권장되는 최적화 도구입니다. 여기에는 미리 빌드한 다양한 옵티마이저 도구와 사용자 정의 설정에 사용하는 하위 클래스 기능이 포함됩니다. Keras 옵티마이저는 Core API로 빌드한 사용자 정의 레이어, 모델 및 훈련 루프와도 호환됩니다. 이러한 사전 구축 및 사용자 정의 가능한 옵티마이저 프로그램은 대부분의 경우에 적합하지만 Core API를 사용하면 최적화 프로세스를 완벽하게 제어할 수 있습니다. 예를 들어, SAM(선명도 인식 최소화)과 같은 기술을 사용하려면 모델과 옵티마이저를 결합해야 하는데, 이는 ML 옵티마이저의 기존 정의에 맞지 않습니다. 이 가이드는 Core API를 사용하여 처음부터 사용자 정의 옵티마이저를 구축하는 프로세스를 안내하고 옵티마이저의 구조, 구현 및 동작을 완전히 제어할 수 있는 권한을 제공합니다."
      ]
    },
    {
      "cell_type": "markdown",
      "metadata": {
        "id": "nBmqYyodNRd_"
      },
      "source": [
        "## 옵티마이저 개요\n",
        "\n",
        "옵티마이저는 모델의 훈련 가능한 매개변수와 관련된 손실 함수를 최소화하는 데 사용하는 알고리즘입니다. 가장 간단한 최적화 기술은 손실 함수의 가장 가파른 하강 방향으로 단계를 진행하며 모델의 매개변수를 반복적으로 업데이트하는 경사 하강입니다. 단계 크기는 그래디언트 크기에 정비례하며, 그래디언트가 너무 크거나 작으면 문제가 될 수 있습니다. Adam, Adagrad 및 RMSprop과 같은 다른 많은 그래디언트 기반 옵티마이저는 메모리 효율성과 빠른 수렴을 위해 그래디언트의 다양한 수학적 속성을 활용합니다."
      ]
    },
    {
      "cell_type": "markdown",
      "metadata": {
        "id": "nchsZfwEVtVs"
      },
      "source": [
        "## 설치하기"
      ]
    },
    {
      "cell_type": "code",
      "execution_count": null,
      "metadata": {
        "id": "d9idwpXCltUl"
      },
      "outputs": [],
      "source": [
        "import matplotlib\n",
        "from matplotlib import pyplot as plt\n",
        "# Preset Matplotlib figure sizes.\n",
        "matplotlib.rcParams['figure.figsize'] = [9, 6]"
      ]
    },
    {
      "cell_type": "code",
      "execution_count": null,
      "metadata": {
        "id": "9xQKvCJ85kCQ"
      },
      "outputs": [],
      "source": [
        "import tensorflow as tf\n",
        "print(tf.__version__)\n",
        "# set random seed for reproducible results \n",
        "tf.random.set_seed(22)"
      ]
    },
    {
      "cell_type": "markdown",
      "metadata": {
        "id": "0UmF5aU3MnwX"
      },
      "source": [
        "## 경사 하강\n",
        "\n",
        "기본 옵티마이저 클래스에는 그래디언트 목록을 제공한 변수 목록을 업데이트하는 초기화 메서드와 함수가 있어야 합니다. 학습율에 따라 조정된 그래디언트를 빼서 각 변수를 업데이트하는 기본 경사 하강 옵티마이저를 구현하는 것으로 시작합니다."
      ]
    },
    {
      "cell_type": "code",
      "execution_count": null,
      "metadata": {
        "id": "MWjmUmeOQFFN"
      },
      "outputs": [],
      "source": [
        "class GradientDescent(tf.Module):\n",
        "\n",
        "  def __init__(self, learning_rate=1e-3):\n",
        "    # Initialize parameters\n",
        "    self.learning_rate = learning_rate\n",
        "    self.title = f\"Gradient descent optimizer: learning rate={self.learning_rate}\"\n",
        "\n",
        "  def apply_gradients(self, grads, vars):\n",
        "    # Update variables\n",
        "    for grad, var in zip(grads, vars):\n",
        "      var.assign_sub(self.learning_rate*grad)"
      ]
    },
    {
      "cell_type": "markdown",
      "metadata": {
        "id": "ZSekgBHDRzmp"
      },
      "source": [
        "이 옵티마이저를 테스트하려면 단일 변수 $x$를 최소화하는 샘플 손실 함수를 생성해야 합니다. 매개변수 값을 최소화하기 위해 다음과 같이 그래디언트 함수를 계산하고 풀이합니다.\n",
        "\n",
        "$$L = 2x^4 + 3x^3 + 2$$\n",
        "\n",
        "$$\\frac{dL}{dx} = 8x^3 + 9x^2$$\n",
        "\n",
        "$\\frac{dL}{dx}$는 안장점이 $x = 0$이고 전역 최솟값이 $x = - \\frac{9}{8}$일 때 0 입니다. 따라서 손실 함수는 $x^\\star = - \\frac{9}{8}$일 때 최적화됩니다."
      ]
    },
    {
      "cell_type": "code",
      "execution_count": null,
      "metadata": {
        "id": "VCtJaUo6Ry8V"
      },
      "outputs": [],
      "source": [
        "x_vals = tf.linspace(-2, 2, 201)\n",
        "x_vals = tf.cast(x_vals, tf.float32)\n",
        "\n",
        "def loss(x):\n",
        "  return 2*(x**4) + 3*(x**3) + 2\n",
        "\n",
        "def grad(f, x):\n",
        "  with tf.GradientTape() as tape:\n",
        "    tape.watch(x)\n",
        "    result = f(x)\n",
        "  return tape.gradient(result, x)\n",
        "\n",
        "plt.plot(x_vals, loss(x_vals), c='k', label = \"Loss function\")\n",
        "plt.plot(x_vals, grad(loss, x_vals), c='tab:blue', label = \"Gradient function\")\n",
        "plt.plot(0, loss(0),  marker=\"o\", c='g', label = \"Inflection point\")\n",
        "plt.plot(-9/8, loss(-9/8),  marker=\"o\", c='r', label = \"Global minimum\")\n",
        "plt.legend()\n",
        "plt.ylim(0,5)\n",
        "plt.xlabel(\"x\")\n",
        "plt.ylabel(\"loss\")\n",
        "plt.title(\"Sample loss function and gradient\");"
      ]
    },
    {
      "cell_type": "markdown",
      "metadata": {
        "id": "fLlIBJ9yuwhE"
      },
      "source": [
        "단일 변수 손실 함수를 사용하여 옵티마이저의 수렴을 테스트하는 함수를 작성합니다. 타임스텝 $t$에서 업데이트된 매개변수의 값이 타임스텝 $t-1$에서 유지된 값과 같으면 수렴을 달성했다고 가정합니다. 설정한 반복 횟수를 완료하면 테스트를 종료하고 프로세스 중에 폭주하는 그래디언트를 추적합니다. 최적화 알고리즘을 제대로 활용하려면 매개변수를 나쁘게 초기화해야 합니다. 위의 예제에서 $x = 2$는 가파른 그래디언트를 포함하고 있고 변곡점으로 이어지기 때문에 좋은 선택입니다."
      ]
    },
    {
      "cell_type": "code",
      "execution_count": null,
      "metadata": {
        "id": "SLQTc41ouv0F"
      },
      "outputs": [],
      "source": [
        "def convergence_test(optimizer, loss_fn, grad_fn=grad, init_val=2., max_iters=2000):\n",
        "  # Function for optimizer convergence test\n",
        "  print(optimizer.title)\n",
        "  print(\"-------------------------------\")\n",
        "  # Initializing variables and structures\n",
        "  x_star = tf.Variable(init_val)\n",
        "  param_path = []\n",
        "  converged = False\n",
        "\n",
        "  for iter in range(1, max_iters + 1):\n",
        "    x_grad = grad_fn(loss_fn, x_star)\n",
        "\n",
        "    # Case for exploding gradient\n",
        "    if tf.math.is_nan(x_grad):\n",
        "      print(f\"Gradient exploded at iteration {iter}\\n\")\n",
        "      return []\n",
        "\n",
        "    # Updating the variable and storing its old-version\n",
        "    x_old = x_star.numpy()\n",
        "    optimizer.apply_gradients([x_grad], [x_star])\n",
        "    param_path.append(x_star.numpy())\n",
        "\n",
        "    # Checking for convergence\n",
        "    if x_star == x_old:\n",
        "      print(f\"Converged in {iter} iterations\\n\")\n",
        "      converged = True\n",
        "      break\n",
        "      \n",
        "  # Print early termination message\n",
        "  if not converged:\n",
        "    print(f\"Exceeded maximum of {max_iters} iterations. Test terminated.\\n\")\n",
        "  return param_path"
      ]
    },
    {
      "cell_type": "markdown",
      "metadata": {
        "id": "vK-7_TsmyAgI"
      },
      "source": [
        "1e-3, 1e-2, 1e-1 학습률에 대한 경사 하강 옵티마이저의 수렴을 테스트합니다."
      ]
    },
    {
      "cell_type": "code",
      "execution_count": null,
      "metadata": {
        "id": "lWRn8c91mqB0"
      },
      "outputs": [],
      "source": [
        "param_map_gd = {}\n",
        "learning_rates = [1e-3, 1e-2, 1e-1]\n",
        "for learning_rate in learning_rates:\n",
        "  param_map_gd[learning_rate] = (convergence_test(\n",
        "      GradientDescent(learning_rate=learning_rate), loss_fn=loss))"
      ]
    },
    {
      "cell_type": "markdown",
      "metadata": {
        "id": "TydrGHF5y6iI"
      },
      "source": [
        "손실 함수의 등고선도에서 매개변수의 경로를 시각화합니다."
      ]
    },
    {
      "cell_type": "code",
      "execution_count": null,
      "metadata": {
        "id": "piffzGHI_u5G"
      },
      "outputs": [],
      "source": [
        "def viz_paths(param_map, x_vals, loss_fn, title, max_iters=2000):\n",
        "  # Creating a controur plot of the loss function\n",
        "  t_vals = tf.range(1., max_iters + 100.)\n",
        "  t_grid, x_grid = tf.meshgrid(t_vals, x_vals)\n",
        "  loss_grid = tf.math.log(loss_fn(x_grid))\n",
        "  plt.pcolormesh(t_vals, x_vals, loss_grid, vmin=0, shading='nearest')\n",
        "  colors = ['r', 'w', 'c']\n",
        "  # Plotting the parameter paths over the contour plot\n",
        "  for i, learning_rate in enumerate(param_map):\n",
        "    param_path = param_map[learning_rate]\n",
        "    if len(param_path) > 0:\n",
        "      x_star = param_path[-1]\n",
        "      plt.plot(t_vals[:len(param_path)], param_path, c=colors[i])\n",
        "      plt.plot(len(param_path), x_star, marker='o', c=colors[i], \n",
        "              label = f\"x*: learning rate={learning_rate}\")\n",
        "  plt.xlabel(\"Iterations\")\n",
        "  plt.ylabel(\"Parameter value\")\n",
        "  plt.legend()\n",
        "  plt.title(f\"{title} parameter paths\")"
      ]
    },
    {
      "cell_type": "code",
      "execution_count": null,
      "metadata": {
        "id": "Ssyj2sO4BcNY"
      },
      "outputs": [],
      "source": [
        "viz_paths(param_map_gd, x_vals, loss, \"Gradient descent\")"
      ]
    },
    {
      "cell_type": "markdown",
      "metadata": {
        "id": "MmM-5eDLFnmC"
      },
      "source": [
        "더 작은 학습률을 사용하면 경사 하강이 변곡점에서 멈춘 것처럼 보입니다. 훈련 속도를 높이면 더 큰 단계 크기로 인해 고원 영역 주변에서 더 빠르게 이동할 수도 있습니다. 다만 손실 함수가 극도로 가파른 경우 초기 반복에서 그래디언트가 폭주할 위험이 있습니다."
      ]
    },
    {
      "cell_type": "markdown",
      "metadata": {
        "id": "m5CDeXN8S1SF"
      },
      "source": [
        "## 모멘텀이 있는 경사 하강\n",
        "\n",
        "모멘텀이 있는 경사 하강은 그래디언트를 사용하여 변수를 업데이트할 뿐만 아니라 이전 업데이트를 기반으로 하는 변수 위치 변경도 포함합니다. 모멘텀 매개변수는 타임스텝 $t-1$의 업데이트가 타임스텝 $t$의 업데이트에 미치는 영향 수준을 결정합니다. 모멘텀을 누적하면 기본 경사 하강보다 빠르게 고원 영역을 지나도록 변수를 이동할 수 있습니다. 모멘텀 업데이트 규칙은 다음과 같습니다.\n",
        "\n",
        "$$\\Delta_x^{[t]} = lr \\cdot L^\\prime(x^{[t]}) + p \\cdot \\Delta_x^{[t-1]}$$\n",
        "\n",
        "$$x^{[t]} = x^{[t-1]} - \\Delta_x^{[t]}$$\n",
        "\n",
        "여기서,\n",
        "\n",
        "- $x$: 최적화하는 변수\n",
        "- $\\Delta_x$: $x$에서 변경\n",
        "- $lr$: 학습률\n",
        "- $L^\\prime(x)$: x에 대한 손실 함수의 그래디언트\n",
        "- $p$: 모멘텀 매개변수"
      ]
    },
    {
      "cell_type": "code",
      "execution_count": null,
      "metadata": {
        "id": "rOBY8Tz4S0dX"
      },
      "outputs": [],
      "source": [
        "class Momentum(tf.Module):\n",
        "\n",
        "  def __init__(self, learning_rate=1e-3, momentum=0.7):\n",
        "    # Initialize parameters\n",
        "    self.learning_rate = learning_rate\n",
        "    self.momentum = momentum\n",
        "    self.change = 0.\n",
        "    self.title = f\"Gradient descent optimizer: learning rate={self.learning_rate}\"\n",
        "\n",
        "  def apply_gradients(self, grads, vars):\n",
        "    # Update variables \n",
        "    for grad, var in zip(grads, vars):\n",
        "      curr_change = self.learning_rate*grad + self.momentum*self.change\n",
        "      var.assign_sub(curr_change)\n",
        "      self.change = curr_change"
      ]
    },
    {
      "cell_type": "markdown",
      "metadata": {
        "id": "t_nDu38gW6Fu"
      },
      "source": [
        "1e-3, 1e-2, 1e-1 학습률에 대한 모멘텀 옵티마이저의 수렴을 테스트합니다."
      ]
    },
    {
      "cell_type": "code",
      "execution_count": null,
      "metadata": {
        "id": "tA6oQL-sW2xg"
      },
      "outputs": [],
      "source": [
        "param_map_mtm = {}\n",
        "learning_rates = [1e-3, 1e-2, 1e-1]\n",
        "for learning_rate in learning_rates:\n",
        "  param_map_mtm[learning_rate] = (convergence_test(\n",
        "      Momentum(learning_rate=learning_rate),\n",
        "      loss_fn=loss, grad_fn=grad))"
      ]
    },
    {
      "cell_type": "markdown",
      "metadata": {
        "id": "wz_LV0EPYE6k"
      },
      "source": [
        "손실 함수의 등고선도에서 매개변수의 경로를 시각화합니다."
      ]
    },
    {
      "cell_type": "code",
      "execution_count": null,
      "metadata": {
        "id": "qbW1eEKaX3T9"
      },
      "outputs": [],
      "source": [
        "viz_paths(param_map_mtm, x_vals, loss, \"Momentum\")"
      ]
    },
    {
      "cell_type": "markdown",
      "metadata": {
        "id": "4bEFnhPRTBXh"
      },
      "source": [
        "## Adam(적응적 모멘트 추정)\n",
        "\n",
        "Adam(적응적 모멘트 추정) 알고리즘은 모멘텀과 RMSprop(제곱평균제곱근 전파)의 두 가지 주요 경사 하강을 활용하는 효율적이고 고도로 일반화할 수 있는 최적화 기술입니다. 모멘텀은 감소 매개변수와 함께 첫 번째 모멘트(그래디언트의 합계)를 사용하여 경사 하강을 가속화하는 데 도움이 됩니다. RMSprop도 비슷하지만 RMSprop은 두 번째 모멘트(그래디언트 제곱의 합)를 활용합니다.\n",
        "\n",
        "Adam 알고리즘은 첫 번째 모멘트와 두 번째 모멘트를 모두 결합하여 보다 일반화할 수 있는 업데이트 규칙을 제공합니다. 변수 $x$의 부호는 $\\frac{x}{\\sqrt{x^2}}$를 계산하여 결정할 수 있습니다. Adam 옵티마이저는 이러한 사실을 사용하여 효과적으로 평활화한 부호인 업데이트 단계를 계산합니다. 옵티마이저는 $\\frac{x}{\\sqrt{x^2}}$를 계산하는 대신 각 변수 업데이트에 대해 $x$(첫 번째 모멘트) 및 $x^2$(두 번째 모멘트)의 평활화 버전을 계산합니다.\n"
      ]
    },
    {
      "cell_type": "markdown",
      "metadata": {
        "id": "WjgyqRiZ7XhA"
      },
      "source": [
        "**Adam 알고리즘**\n",
        "\n",
        "$\\beta_1 \\gets 0.9 ; \\triangleright \\text{literature value}$\n",
        "\n",
        "$\\beta_2 \\gets 0.999 ; \\triangleright \\text{literature value}$\n",
        "\n",
        "$lr \\gets \\text{1e-3} ; \\triangleright \\text{configurable learning rate}$\n",
        "\n",
        "$\\epsilon \\gets \\text{1e-7} ; \\triangleright \\text{prevents divide by 0 error}$\n",
        "\n",
        "$V_{dv} \\gets \\vec {\\underset{n\\times1}{0}} ;\\triangleright \\text{stores momentum updates for each variable}$\n",
        "\n",
        "$S_{dv} \\gets \\vec {\\underset{n\\times1}{0}} ; \\triangleright \\text{stores RMSP updates for each variable}$\n",
        "\n",
        "$t \\gets 1$\n",
        "\n",
        "$\\text{On iteration } t:$\n",
        "\n",
        "$;;;; \\text{For} (\\frac{dL}{dv}, v) \\text{ in gradient variable pairs}:$\n",
        "\n",
        "$;;;;;;;; V_{dv_i} = \\beta_1V_{dv_i} + (1 - \\beta_1)\\frac{dL}{dv} ; \\triangleright \\text{momentum update}$\n",
        "\n",
        "$;;;;;;;; S_{dv_i} = \\beta_2V_{dv_i} + (1 - \\beta_2)(\\frac{dL}{dv})^2 ; \\triangleright \\text{RMSP update}$\n",
        "\n",
        "$;;;;;;;; v_{dv}^{bc} = \\frac{V_{dv_i}}{(1-\\beta_1)^t} ; \\triangleright \\text{momentum bias correction}$\n",
        "\n",
        "$;;;;;;;; s_{dv}^{bc} = \\frac{S_{dv_i}}{(1-\\beta_2)^t} ; \\triangleright \\text{RMSP bias correction}$\n",
        "\n",
        "$;;;;;;;; v = v - lr\\frac{v_{dv}^{bc}}{\\sqrt{s_{dv}^{bc}} + \\epsilon} ; \\triangleright \\text{parameter update}$\n",
        "\n",
        "$;;;;;;;; t = t + 1$\n",
        "\n",
        "**알고리즘의 끝**\n",
        "\n",
        "$V_{dv}$와 $S_{dv}$가 0으로 초기화되고 $\\beta_1$ 및 $\\beta_2$가 1에 가까운 경우 모멘텀과 RMSprop 업데이트는 자연스럽게 0으로 바이어스됩니다. 따라서 변수는 바이어스 수정으로 혜택을 받을 수 있습니다. 또한 바이어스 보정은 가중치가 전역 최솟값에 접근할 때 가중치의 진동을 제어하는 데 도움이 됩니다."
      ]
    },
    {
      "cell_type": "code",
      "execution_count": null,
      "metadata": {
        "id": "hm5vffRJRsEc"
      },
      "outputs": [],
      "source": [
        "class Adam(tf.Module):\n",
        "  \n",
        "    def __init__(self, learning_rate=1e-3, beta_1=0.9, beta_2=0.999, ep=1e-7):\n",
        "      # Initialize the Adam parameters\n",
        "      self.beta_1 = beta_1\n",
        "      self.beta_2 = beta_2\n",
        "      self.learning_rate = learning_rate\n",
        "      self.ep = ep\n",
        "      self.t = 1.\n",
        "      self.v_dvar, self.s_dvar = [], []\n",
        "      self.title = f\"Adam: learning rate={self.learning_rate}\"\n",
        "      self.built = False\n",
        "\n",
        "    def apply_gradients(self, grads, vars):\n",
        "      # Set up moment and RMSprop slots for each variable on the first call\n",
        "      if not self.built:\n",
        "        for var in vars:\n",
        "          v = tf.Variable(tf.zeros(shape=var.shape))\n",
        "          s = tf.Variable(tf.zeros(shape=var.shape))\n",
        "          self.v_dvar.append(v)\n",
        "          self.s_dvar.append(s)\n",
        "        self.built = True\n",
        "      # Perform Adam updates\n",
        "      for i, (d_var, var) in enumerate(zip(grads, vars)):\n",
        "        # Moment calculation\n",
        "        self.v_dvar[i] = self.beta_1*self.v_dvar[i] + (1-self.beta_1)*d_var\n",
        "        # RMSprop calculation\n",
        "        self.s_dvar[i] = self.beta_2*self.s_dvar[i] + (1-self.beta_2)*tf.square(d_var)\n",
        "        # Bias correction\n",
        "        v_dvar_bc = self.v_dvar[i]/(1-(self.beta_1**self.t))\n",
        "        s_dvar_bc = self.s_dvar[i]/(1-(self.beta_2**self.t))\n",
        "        # Update model variables\n",
        "        var.assign_sub(self.learning_rate*(v_dvar_bc/(tf.sqrt(s_dvar_bc) + self.ep)))\n",
        "      # Increment the iteration counter\n",
        "      self.t += 1."
      ]
    },
    {
      "cell_type": "markdown",
      "metadata": {
        "id": "UWN4Qus7flUO"
      },
      "source": [
        "경사 하강 예제에 사용한 것과 동일한 학습률로 Adam 옵티마이저의 성능을 테스트합니다. "
      ]
    },
    {
      "cell_type": "code",
      "execution_count": null,
      "metadata": {
        "id": "GXHCxtemFBpR"
      },
      "outputs": [],
      "source": [
        "param_map_adam = {}\n",
        "learning_rates = [1e-3, 1e-2, 1e-1]\n",
        "for learning_rate in learning_rates:\n",
        "  param_map_adam[learning_rate] = (convergence_test(\n",
        "      Adam(learning_rate=learning_rate), loss_fn=loss))"
      ]
    },
    {
      "cell_type": "markdown",
      "metadata": {
        "id": "jgpUcs_xXEjX"
      },
      "source": [
        "손실 함수의 등고선도에서 매개변수의 경로를 시각화합니다."
      ]
    },
    {
      "cell_type": "code",
      "execution_count": null,
      "metadata": {
        "id": "ctvOUmlzFK8s"
      },
      "outputs": [],
      "source": [
        "viz_paths(param_map_adam, x_vals, loss, \"Adam\")"
      ]
    },
    {
      "cell_type": "markdown",
      "metadata": {
        "id": "_oGScF8zJcY4"
      },
      "source": [
        "이 특별한 예제에서 Adam 옵티마이저는 작은 학습률을 사용할 때 기존의 경사 하강에 비해 수렴 속도가 느립니다. 그러나 알고리즘은 성공적으로 고원 영역을 지나며 학습률이 높을 때 전역 최솟값으로 수렴합니다. 대형 그래디언트가 발생해도 Adam 학습률의 동적 스케일링으로 인해 그래디언트 폭주가 더 이상 문제가 되지 않습니다."
      ]
    },
    {
      "cell_type": "markdown",
      "metadata": {
        "id": "VFLfEH4ManbW"
      },
      "source": [
        "## 결론\n",
        "\n",
        "이 노트북에서는 [TensorFlow Core API](https://www.tensorflow.org/guide/core)를 사용하여 옵티마이저를 작성하고 비교하는 기본 내용을 소개했습니다. Adam과 같은 미리 빌드된 옵티마이저는 일반화할 수 있지만 경우에 따라 일부 모델 또는 데이터세트에서는 최선의 선택이 아닐 수도 있습니다. 최적화 프로세스를 세밀하게 제어하면 ML 훈련 워크플로를 간소화하고 전반적인 성능을 개선할 수도 있습니다. 사용자 정의 옵티마이저의 더 많은 예제는 다음 문서를 참조하세요.\n",
        "\n",
        "- 이 Adam 옵티마이저는 [멀티레이어 퍼셉트론](https://www.tensorflow.org/guide/core/mlp_core) 가이드 및 [분산 훈련]()에서 사용됩니다.\n",
        "- [Model Garden](https://blog.tensorflow.org/2020/03/introducing-model-garden-for-tensorflow-2.html)에는 Core API로 작성된 다양한 [사용자 정의 옵티마이저](https://github.com/tensorflow/models/tree/master/official/modeling/optimization)가 있습니다.\n"
      ]
    }
  ],
  "metadata": {
    "colab": {
      "collapsed_sections": [],
      "name": "optimizers_core.ipynb",
      "toc_visible": true
    },
    "kernelspec": {
      "display_name": "Python 3",
      "name": "python3"
    }
  },
  "nbformat": 4,
  "nbformat_minor": 0
}
