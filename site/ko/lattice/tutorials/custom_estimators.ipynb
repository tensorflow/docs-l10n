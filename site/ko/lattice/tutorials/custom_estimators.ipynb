{
  "cells": [
    {
      "cell_type": "markdown",
      "metadata": {
        "id": "7765UFHoyGx6"
      },
      "source": [
        "##### Copyright 2020 The TensorFlow Authors."
      ]
    },
    {
      "cell_type": "code",
      "execution_count": null,
      "metadata": {
        "cellView": "form",
        "id": "KsOkK8O69PyT"
      },
      "outputs": [],
      "source": [
        "#@title Licensed under the Apache License, Version 2.0 (the \"License\");\n",
        "# you may not use this file except in compliance with the License.\n",
        "# You may obtain a copy of the License at\n",
        "#\n",
        "# https://www.apache.org/licenses/LICENSE-2.0\n",
        "#\n",
        "# Unless required by applicable law or agreed to in writing, software\n",
        "# distributed under the License is distributed on an \"AS IS\" BASIS,\n",
        "# WITHOUT WARRANTIES OR CONDITIONS OF ANY KIND, either express or implied.\n",
        "# See the License for the specific language governing permissions and\n",
        "# limitations under the License."
      ]
    },
    {
      "cell_type": "markdown",
      "metadata": {
        "id": "ZS8z-_KeywY9"
      },
      "source": [
        "# TF Lattice 사용자 정의 Estimator"
      ]
    },
    {
      "cell_type": "markdown",
      "metadata": {
        "id": "r61fkA2i9Y3_"
      },
      "source": [
        "<table class=\"tfo-notebook-buttons\" align=\"left\">\n",
        "  <td><a target=\"_blank\" href=\"https://www.tensorflow.org/lattice/tutorials/custom_estimators\"><img src=\"https://www.tensorflow.org/images/tf_logo_32px.png\">TensorFlow.org에서 보기</a></td>\n",
        "  <td><a target=\"_blank\" href=\"https://colab.research.google.com/github/tensorflow/docs-l10n/blob/master/site/ko/lattice/tutorials/custom_estimators.ipynb\"><img src=\"https://www.tensorflow.org/images/colab_logo_32px.png\">Google Colab에서 실행하기</a></td>\n",
        "  <td><a target=\"_blank\" href=\"https://github.com/tensorflow/docs-l10n/blob/master/site/ko/lattice/tutorials/custom_estimators.ipynb\"><img src=\"https://www.tensorflow.org/images/GitHub-Mark-32px.png\">GitHub에서소스 보기</a></td>\n",
        "  <td><a href=\"https://storage.googleapis.com/tensorflow_docs/docs-l10n/site/ko/lattice/tutorials/custom_estimators.ipynb\"><img src=\"https://www.tensorflow.org/images/download_logo_32px.png\">노트북 다운로드하기</a></td>\n",
        "</table>"
      ]
    },
    {
      "cell_type": "markdown",
      "metadata": {
        "id": "rVdTRCQiSGAb"
      },
      "source": [
        "> 경고: Estimator는 새 코드에 권장되지 않습니다. Estimator는 `v1. Session` 스타일 코드를 실행하며, 이 코드는 올바르게 작성하기가 좀 더 어렵고 특히 TF 2 코드와 결합할 경우 예기치 않게 작동할 수 있습니다. Estimator는 [호환성 보장](https://tensorflow.org/guide/versions)이 적용되지만 추가 기능을 받지 않으며 보안 취약점 외에는 수정 사항이 제공되지 않습니다. 자세한 내용은 [마이그레이션 가이드](https://tensorflow.org/guide/migrate)를 참조하세요."
      ]
    },
    {
      "cell_type": "markdown",
      "metadata": {
        "id": "Ur6yCw7YVvr8"
      },
      "source": [
        "## 개요\n",
        "\n",
        "TFL 레이어로 사용자 정의 estimator를 사용하여 임의로 단조로운 모델을 만들 수 있습니다. 이 가이드에서는 사용자 정의 estimator를 만드는 데 필요한 단계를 설명합니다."
      ]
    },
    {
      "cell_type": "markdown",
      "metadata": {
        "id": "x769lI12IZXB"
      },
      "source": [
        "## 설정"
      ]
    },
    {
      "cell_type": "markdown",
      "metadata": {
        "id": "fbBVAR6UeRN5"
      },
      "source": [
        "TF Lattice 패키지 설치하기"
      ]
    },
    {
      "cell_type": "code",
      "execution_count": null,
      "metadata": {
        "id": "bpXjJKpSd3j4"
      },
      "outputs": [],
      "source": [
        "#@test {\"skip\": true}\n",
        "!pip install tensorflow-lattice"
      ]
    },
    {
      "cell_type": "markdown",
      "metadata": {
        "id": "jSVl9SHTeSGX"
      },
      "source": [
        "필수 패키지 가져오기"
      ]
    },
    {
      "cell_type": "code",
      "execution_count": null,
      "metadata": {
        "cellView": "both",
        "id": "P9rMpg1-ASY3"
      },
      "outputs": [],
      "source": [
        "import tensorflow as tf\n",
        "\n",
        "import logging\n",
        "import numpy as np\n",
        "import pandas as pd\n",
        "import sys\n",
        "import tensorflow_lattice as tfl\n",
        "from tensorflow import feature_column as fc\n",
        "\n",
        "from tensorflow_estimator.python.estimator.canned import optimizers\n",
        "from tensorflow_estimator.python.estimator.head import binary_class_head\n",
        "logging.disable(sys.maxsize)"
      ]
    },
    {
      "cell_type": "markdown",
      "metadata": {
        "id": "svPuM6QNxlrH"
      },
      "source": [
        "UCI Statlog(Heart) 데이터세트 다운로드하기"
      ]
    },
    {
      "cell_type": "code",
      "execution_count": null,
      "metadata": {
        "cellView": "both",
        "id": "M0CmH1gPASZF"
      },
      "outputs": [],
      "source": [
        "csv_file = tf.keras.utils.get_file(\n",
        "    'heart.csv', 'http://storage.googleapis.com/download.tensorflow.org/data/heart.csv')\n",
        "df = pd.read_csv(csv_file)\n",
        "target = df.pop('target')\n",
        "train_size = int(len(df) * 0.8)\n",
        "train_x = df[:train_size]\n",
        "train_y = target[:train_size]\n",
        "test_x = df[train_size:]\n",
        "test_y = target[train_size:]\n",
        "df.head()"
      ]
    },
    {
      "cell_type": "markdown",
      "metadata": {
        "id": "nKkAw12SxvGG"
      },
      "source": [
        "이 가이드에서 훈련에 사용되는 기본값 설정하기"
      ]
    },
    {
      "cell_type": "code",
      "execution_count": null,
      "metadata": {
        "cellView": "both",
        "id": "1T6GFI9F6mcG"
      },
      "outputs": [],
      "source": [
        "LEARNING_RATE = 0.1\n",
        "BATCH_SIZE = 128\n",
        "NUM_EPOCHS = 1000"
      ]
    },
    {
      "cell_type": "markdown",
      "metadata": {
        "id": "0TGfzhPHzpix"
      },
      "source": [
        "## 특성 열\n",
        "\n",
        "다른 TF estimator와 마찬가지로 데이터는 일반적으로 input_fn을 통해 estimator로 전달되어야 하며 [FeatureColumns](https://www.tensorflow.org/guide/feature_columns)를 사용하여 구문 분석됩니다."
      ]
    },
    {
      "cell_type": "code",
      "execution_count": null,
      "metadata": {
        "id": "DCIUz8apzs0l"
      },
      "outputs": [],
      "source": [
        "# Feature columns.\n",
        "# - age\n",
        "# - sex\n",
        "# - ca        number of major vessels (0-3) colored by flourosopy\n",
        "# - thal      3 = normal; 6 = fixed defect; 7 = reversable defect\n",
        "feature_columns = [\n",
        "    fc.numeric_column('age', default_value=-1),\n",
        "    fc.categorical_column_with_vocabulary_list('sex', [0, 1]),\n",
        "    fc.numeric_column('ca'),\n",
        "    fc.categorical_column_with_vocabulary_list(\n",
        "        'thal', ['normal', 'fixed', 'reversible']),\n",
        "]"
      ]
    },
    {
      "cell_type": "markdown",
      "metadata": {
        "id": "hEZstmtT2CA3"
      },
      "source": [
        "`tfl.laysers.CategoricalCalibration` 레이어는 범주 인덱스를 직접 소비할 수 있으므로 범주형 특성은 조밀한 특성 열로 래핑될 필요가 없습니다."
      ]
    },
    {
      "cell_type": "markdown",
      "metadata": {
        "id": "H_LoW_9m5OFL"
      },
      "source": [
        "## input_fn 만들기\n",
        "\n",
        "다른 estimator의 경우 input_fn을 사용하여 훈련 및 평가를 위해 모델에 데이터를 공급할 수 있습니다."
      ]
    },
    {
      "cell_type": "code",
      "execution_count": null,
      "metadata": {
        "id": "lFVy1Efy5NKD"
      },
      "outputs": [],
      "source": [
        "train_input_fn = tf.compat.v1.estimator.inputs.pandas_input_fn(\n",
        "    x=train_x,\n",
        "    y=train_y,\n",
        "    shuffle=True,\n",
        "    batch_size=BATCH_SIZE,\n",
        "    num_epochs=NUM_EPOCHS,\n",
        "    num_threads=1)\n",
        "\n",
        "test_input_fn = tf.compat.v1.estimator.inputs.pandas_input_fn(\n",
        "    x=test_x,\n",
        "    y=test_y,\n",
        "    shuffle=False,\n",
        "    batch_size=BATCH_SIZE,\n",
        "    num_epochs=1,\n",
        "    num_threads=1)"
      ]
    },
    {
      "cell_type": "markdown",
      "metadata": {
        "id": "kbrgSr9KaRg0"
      },
      "source": [
        "## model_fn 생성하기\n",
        "\n",
        "사용자 정의 estimator를 만드는 방법에는 여러 가지가 있습니다. 여기에서는 구문 분석된 입력 텐서에서 Keras 모델을 호출하는 `model_fn`을 생성합니다. 입력 특성을 구문 분석하려면 `tf.feature_column.input_layer`, `tf.keras.layers.DenseFeatures` 또는 `tfl.estimators.transform_features`를 사용할 수 있습니다. 후자를 사용하는 경우 조밀한 특성 열로 범주형 특성을 래핑할 필요가 없으며 결과 텐서가 연결되지 않으므로 보정 레이어에서 특성을 더 쉽게 사용할 수 있습니다.\n",
        "\n",
        "모델을 구성하기 위해 TFL 레이어 또는 다른 Keras 레이어를 혼합하고 일치시킬 수 있습니다. 여기에서 TFL 레이어에서 보정된 격자 Keras 모델을 만들고 몇 가지 단조 제약 조건을 적용합니다. 그런 다음 Keras 모델을 사용하여 사용자 정의 estimator를 만듭니다.\n"
      ]
    },
    {
      "cell_type": "code",
      "execution_count": null,
      "metadata": {
        "id": "n2Zrv6OPaQO2"
      },
      "outputs": [],
      "source": [
        "def model_fn(features, labels, mode, config):\n",
        "  \"\"\"model_fn for the custom estimator.\"\"\"\n",
        "  del config\n",
        "  input_tensors = tfl.estimators.transform_features(features, feature_columns)\n",
        "  inputs = {\n",
        "      key: tf.keras.layers.Input(shape=(1,), name=key) for key in input_tensors\n",
        "  }\n",
        "\n",
        "  lattice_sizes = [3, 2, 2, 2]\n",
        "  lattice_monotonicities = ['increasing', 'none', 'increasing', 'increasing']\n",
        "  lattice_input = tf.keras.layers.Concatenate(axis=1)([\n",
        "      tfl.layers.PWLCalibration(\n",
        "          input_keypoints=np.linspace(10, 100, num=8, dtype=np.float32),\n",
        "          # The output range of the calibrator should be the input range of\n",
        "          # the following lattice dimension.\n",
        "          output_min=0.0,\n",
        "          output_max=lattice_sizes[0] - 1.0,\n",
        "          monotonicity='increasing',\n",
        "      )(inputs['age']),\n",
        "      tfl.layers.CategoricalCalibration(\n",
        "          # Number of categories including any missing/default category.\n",
        "          num_buckets=2,\n",
        "          output_min=0.0,\n",
        "          output_max=lattice_sizes[1] - 1.0,\n",
        "      )(inputs['sex']),\n",
        "      tfl.layers.PWLCalibration(\n",
        "          input_keypoints=[0.0, 1.0, 2.0, 3.0],\n",
        "          output_min=0.0,\n",
        "          output_max=lattice_sizes[0] - 1.0,\n",
        "          # You can specify TFL regularizers as tuple\n",
        "          # ('regularizer name', l1, l2).\n",
        "          kernel_regularizer=('hessian', 0.0, 1e-4),\n",
        "          monotonicity='increasing',\n",
        "      )(inputs['ca']),\n",
        "      tfl.layers.CategoricalCalibration(\n",
        "          num_buckets=3,\n",
        "          output_min=0.0,\n",
        "          output_max=lattice_sizes[1] - 1.0,\n",
        "          # Categorical monotonicity can be partial order.\n",
        "          # (i, j) indicates that we must have output(i) <= output(j).\n",
        "          # Make sure to set the lattice monotonicity to 'increasing' for this\n",
        "          # dimension.\n",
        "          monotonicities=[(0, 1), (0, 2)],\n",
        "      )(inputs['thal']),\n",
        "  ])\n",
        "  output = tfl.layers.Lattice(\n",
        "      lattice_sizes=lattice_sizes, monotonicities=lattice_monotonicities)(\n",
        "          lattice_input)\n",
        "\n",
        "  training = (mode == tf.estimator.ModeKeys.TRAIN)\n",
        "  model = tf.keras.Model(inputs=inputs, outputs=output)\n",
        "  logits = model(input_tensors, training=training)\n",
        "\n",
        "  if training:\n",
        "    optimizer = optimizers.get_optimizer_instance_v2('Adagrad', LEARNING_RATE)\n",
        "  else:\n",
        "    optimizer = None\n",
        "\n",
        "  head = binary_class_head.BinaryClassHead()\n",
        "  return head.create_estimator_spec(\n",
        "      features=features,\n",
        "      mode=mode,\n",
        "      labels=labels,\n",
        "      optimizer=optimizer,\n",
        "      logits=logits,\n",
        "      trainable_variables=model.trainable_variables,\n",
        "      update_ops=model.updates)"
      ]
    },
    {
      "cell_type": "markdown",
      "metadata": {
        "id": "mng-VtsSbVtQ"
      },
      "source": [
        "## 훈련 및 Estimator\n",
        "\n",
        "`model_fn`을 사용하여 estimator를 만들고 훈련할 수 있습니다."
      ]
    },
    {
      "cell_type": "code",
      "execution_count": null,
      "metadata": {
        "id": "j38GaEbKbZju"
      },
      "outputs": [],
      "source": [
        "estimator = tf.estimator.Estimator(model_fn=model_fn)\n",
        "estimator.train(input_fn=train_input_fn)\n",
        "results = estimator.evaluate(input_fn=test_input_fn)\n",
        "print('AUC: {}'.format(results['auc']))"
      ]
    }
  ],
  "metadata": {
    "colab": {
      "collapsed_sections": [],
      "name": "custom_estimators.ipynb",
      "toc_visible": true
    },
    "kernelspec": {
      "display_name": "Python 3",
      "name": "python3"
    }
  },
  "nbformat": 4,
  "nbformat_minor": 0
}
