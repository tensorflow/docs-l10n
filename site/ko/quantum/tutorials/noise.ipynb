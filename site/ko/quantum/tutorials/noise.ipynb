{
  "cells": [
    {
      "cell_type": "markdown",
      "metadata": {
        "id": "xLOXFOT5Q40E"
      },
      "source": [
        "##### Copyright 2020 The TensorFlow Authors."
      ]
    },
    {
      "cell_type": "code",
      "execution_count": null,
      "metadata": {
        "cellView": "form",
        "id": "iiQkM5ZgQ8r2"
      },
      "outputs": [],
      "source": [
        "#@title Licensed under the Apache License, Version 2.0 (the \"License\");\n",
        "# you may not use this file except in compliance with the License.\n",
        "# You may obtain a copy of the License at\n",
        "#\n",
        "# https://www.apache.org/licenses/LICENSE-2.0\n",
        "#\n",
        "# Unless required by applicable law or agreed to in writing, software\n",
        "# distributed under the License is distributed on an \"AS IS\" BASIS,\n",
        "# WITHOUT WARRANTIES OR CONDITIONS OF ANY KIND, either express or implied.\n",
        "# See the License for the specific language governing permissions and\n",
        "# limitations under the License."
      ]
    },
    {
      "cell_type": "markdown",
      "metadata": {
        "id": "UndbWF_UpN-X"
      },
      "source": [
        "# 노이즈"
      ]
    },
    {
      "cell_type": "markdown",
      "metadata": {
        "id": "i9Jcnb8bQQyd"
      },
      "source": [
        "<table class=\"tfo-notebook-buttons\" align=\"left\">\n",
        "  <td><a target=\"_blank\" href=\"https://www.tensorflow.org/quantum/tutorials/noise\"><img src=\"https://www.tensorflow.org/images/tf_logo_32px.png\">TensorFlow.org에서 보기</a></td>\n",
        "  <td>     <a target=\"_blank\" href=\"https://colab.research.google.com/github/tensorflow/docs-l10n/blob/master/site/ko/quantum/tutorials/noise.ipynb\"><img src=\"https://www.tensorflow.org/images/colab_logo_32px.png\">Google Colab에서 실행하기</a>\n",
        "</td>\n",
        "  <td><a target=\"_blank\" href=\"https://github.com/tensorflow/docs-l10n/blob/master/site/ko/quantum/tutorials/noise.ipynb\"><img src=\"https://www.tensorflow.org/images/GitHub-Mark-32px.png\">GitHub에서 소스 보기</a></td>\n",
        "  <td>     <a href=\"https://storage.googleapis.com/tensorflow_docs/docs-l10n/site/ko/quantum/tutorials/noise.ipynb\"><img src=\"https://www.tensorflow.org/images/download_logo_32px.png\">노트북 다운로드하기</a>\n",
        "</td>\n",
        "</table>"
      ]
    },
    {
      "cell_type": "markdown",
      "metadata": {
        "id": "fHHaKIG06Iv_"
      },
      "source": [
        "현대의 양자 컴퓨터에는 노이즈가 존재합니다. 큐비트는 주변 환경의 간섭, 불완전한 제작, TLS뿐만 아니라 심지어 [감마선](https://arxiv.org/abs/2104.05219)에도 취약합니다. 오늘날의 알고리즘은 대규모 오류 수정을 진행하기 전까지 노이즈가 있는 상태에서도 기능을 유지할 수 있어야 합니다. 이러한 점은 노이즈가 있는 환경에서 현대의 양자 컴퓨터를 대상으로 양자 알고리즘/모델 검증하기 위한 알고리즘을 테스트하는 작업을 중요하게 만듭니다.\n",
        "\n",
        "이 튜토리얼에서는 고수준의 `tfq.layers` API를 통해 TFQ에서 노이즈가 있는 회로 시뮬레이션의 기본 사항을 살펴봅니다.\n",
        "\n",
        "## 설치하기"
      ]
    },
    {
      "cell_type": "code",
      "execution_count": null,
      "metadata": {
        "id": "J2CRbYRqrLdt"
      },
      "outputs": [],
      "source": [
        "!pip install tensorflow==2.7.0 tensorflow-quantum==0.7.2"
      ]
    },
    {
      "cell_type": "code",
      "execution_count": null,
      "metadata": {
        "id": "QStNslxBwgte"
      },
      "outputs": [],
      "source": [
        "!pip install -q git+https://github.com/tensorflow/docs"
      ]
    },
    {
      "cell_type": "code",
      "execution_count": null,
      "metadata": {
        "id": "4Ql5PW-ACO0J"
      },
      "outputs": [],
      "source": [
        "# Update package resources to account for version changes.\n",
        "import importlib, pkg_resources\n",
        "importlib.reload(pkg_resources)"
      ]
    },
    {
      "cell_type": "code",
      "execution_count": null,
      "metadata": {
        "id": "iRU07S4o8B52"
      },
      "outputs": [],
      "source": [
        "import random\n",
        "import cirq\n",
        "import sympy\n",
        "import tensorflow_quantum as tfq\n",
        "import tensorflow as tf\n",
        "import numpy as np\n",
        "# Plotting\n",
        "import matplotlib.pyplot as plt\n",
        "import tensorflow_docs as tfdocs\n",
        "import tensorflow_docs.plots"
      ]
    },
    {
      "cell_type": "markdown",
      "metadata": {
        "id": "CVnAGxZyruv8"
      },
      "source": [
        "## 1. 양자 노이즈의 이해\n",
        "\n",
        "### 1.1 기본 회로 노이즈\n",
        "\n",
        "양자 컴퓨터의 노이즈는 측정할 수 있는 비트열 샘플에 영향을 줍니다. 이에 대해 생각할 수 있는 직관적인 방법 중 하나는 노이즈가 있는 양자 컴퓨터가 아래의 다이어그램과 같이 임의의 위치에서 게이트를 \"삽입\", \"삭제\" 또는 \"교체\"하는 것입니다.\n",
        "\n",
        "<img src=\"./images/noise_1.png\" width=\"700\">\n",
        "\n",
        "이러한 직관을 바탕으로 노이즈를 처리할 때 더 이상 단일 순수 상태의 $|\\psi \\rangle$를 사용하지 않고 대신 원하는 회로인 $\\rho = \\sum_j p_j |\\psi_j \\rangle \\langle \\psi_j |$에서 가능한 모든 노이즈를 실현한 *앙상블*을 처리합니다.  여기서 $p_j$는 시스템이 $|\\psi_j \\rangle$  있을 확률을 제공합니다.\n",
        "\n",
        "시스템이 완벽하게 실행되는 시간의 90% 혹은 이 한 가지 모드의 실패로 오류가 발생한 시간의 10%를 사전에 알게 될 경우의 앙상블은 다음과 같을 수 있습니다.\n",
        "\n",
        "$\\rho = 0.9 |\\psi_\\text{desired} \\rangle \\langle \\psi_\\text{desired}| + 0.1 |\\psi_\\text{noisy} \\rangle \\langle \\psi_\\text{noisy}| $\n",
        "\n",
        "우리의 회로가 오류를 일으킬 수 있는 방법이 한 가지 이상이었다면 앙상블 $\\rho$는 두 개 이상의 항을 포함할 것입니다(발생할 수 있는 노이즈가 있는 각 새로운 실현마다 하나씩). $\\rho$는 노이즈가 있는 시스템을 설명하는 [밀도 행렬](https://en.wikipedia.org/wiki/Density_matrix)이라고 합니다.\n",
        "\n",
        "### 1.2 채널을 사용한 회로 노이즈 모델링\n",
        "\n",
        "안타깝게도 실제로 회로에서 오류가 발생할 수 있는 모든 방법과 정확한 확률을 아는 것은 거의 불가능합니다. 간단히 할 수 있는 가정은 회로에서 각 작업을 수행한 후에 해당 작업으로 발생할 수 있는 오류의 방식을 대략적으로 캡처하는 일종의 [채널](https://quantumai.google/cirq/noise)이 있다는 것입니다. 다음과 같이 약간의 노이즈가 있는 회로를 빠르게 생성할 수 있습니다."
      ]
    },
    {
      "cell_type": "code",
      "execution_count": null,
      "metadata": {
        "id": "Eu_vpHbfrQKQ"
      },
      "outputs": [],
      "source": [
        "def x_circuit(qubits):\n",
        "  \"\"\"Produces an X wall circuit on `qubits`.\"\"\"\n",
        "  return cirq.Circuit(cirq.X.on_each(*qubits))\n",
        "\n",
        "def make_noisy(circuit, p):\n",
        "  \"\"\"Add a depolarization channel to all qubits in `circuit` before measurement.\"\"\"\n",
        "  return circuit + cirq.Circuit(cirq.depolarize(p).on_each(*circuit.all_qubits()))\n",
        "\n",
        "my_qubits = cirq.GridQubit.rect(1, 2)\n",
        "my_circuit = x_circuit(my_qubits)\n",
        "my_noisy_circuit = make_noisy(my_circuit, 0.5)\n",
        "my_circuit"
      ]
    },
    {
      "cell_type": "code",
      "execution_count": null,
      "metadata": {
        "id": "1B7vmyPm_TQ7"
      },
      "outputs": [],
      "source": [
        "my_noisy_circuit"
      ]
    },
    {
      "cell_type": "markdown",
      "metadata": {
        "id": "EejhXc2e9Cl8"
      },
      "source": [
        "다음을 사용하여 노이즈가 없는 밀도 행렬 $\\rho$를 검사할 수 있습니다."
      ]
    },
    {
      "cell_type": "code",
      "execution_count": null,
      "metadata": {
        "id": "0QN9W69U8v_V"
      },
      "outputs": [],
      "source": [
        "rho = cirq.final_density_matrix(my_circuit)\n",
        "np.round(rho, 3)"
      ]
    },
    {
      "cell_type": "markdown",
      "metadata": {
        "id": "RHHBeizr-DEo"
      },
      "source": [
        "그리고 노이즈가 있는 밀도 행렬 matrix $\\rho$에는 다음을 사용합니다.\n"
      ]
    },
    {
      "cell_type": "code",
      "execution_count": null,
      "metadata": {
        "id": "zSD9H8SC9IJ1"
      },
      "outputs": [],
      "source": [
        "rho = cirq.final_density_matrix(my_noisy_circuit)\n",
        "np.round(rho, 3)"
      ]
    },
    {
      "cell_type": "markdown",
      "metadata": {
        "id": "2YWiejLl-a0Z"
      },
      "source": [
        "두 개의 서로 다른 $ \\rho $를 비교하면 노이즈가 상태의 진폭에 영향을 미쳤음을 알 수 있습니다(결과적으로 샘플링 확률). 노이즈가 없는 경우 항상 $ |11\\rangle $ 상태를 샘플링할 것으로 예상됩니다. 그러나 노이즈가 있는 상태에서는 $ |00\\rangle $ 또는 $ |01\\rangle $ 또는 $ |10\\rangle $도 샘플링할 확률이 0이 아닙니다."
      ]
    },
    {
      "cell_type": "code",
      "execution_count": null,
      "metadata": {
        "id": "Z4uj-Zs0AE3n"
      },
      "outputs": [],
      "source": [
        "\"\"\"Sample from my_noisy_circuit.\"\"\"\n",
        "def plot_samples(circuit):\n",
        "  samples = cirq.sample(circuit + cirq.measure(*circuit.all_qubits(), key='bits'), repetitions=1000)\n",
        "  freqs, _ = np.histogram(samples.data['bits'], bins=[i+0.01 for i in range(-1,2** len(my_qubits))])\n",
        "  plt.figure(figsize=(10,5))\n",
        "  plt.title('Noisy Circuit Sampling')\n",
        "  plt.xlabel('Bitstring')\n",
        "  plt.ylabel('Frequency')\n",
        "  plt.bar([i for i in range(2** len(my_qubits))], freqs, tick_label=['00','01','10','11'])\n",
        "\n",
        "plot_samples(my_noisy_circuit)"
      ]
    },
    {
      "cell_type": "markdown",
      "metadata": {
        "id": "IpPh1Y0HEOWs"
      },
      "source": [
        "소음이 없는 경우에는 다음과 같이 항상 $|11\\rangle$을 얻을 수 있습니다."
      ]
    },
    {
      "cell_type": "code",
      "execution_count": null,
      "metadata": {
        "id": "NRCOhTVpEJzz"
      },
      "outputs": [],
      "source": [
        "\"\"\"Sample from my_circuit.\"\"\"\n",
        "plot_samples(my_circuit)"
      ]
    },
    {
      "cell_type": "markdown",
      "metadata": {
        "id": "EMbJBXAiT9GH"
      },
      "source": [
        "노이즈를 조금 더 높이면 노이즈와 원하는 동작(샘플링 $|11\\rangle$)을 구분하기가 점점 더 어려워집니다."
      ]
    },
    {
      "cell_type": "code",
      "execution_count": null,
      "metadata": {
        "id": "D2Fg-FUdUJQx"
      },
      "outputs": [],
      "source": [
        "my_really_noisy_circuit = make_noisy(my_circuit, 0.75)\n",
        "plot_samples(my_really_noisy_circuit)"
      ]
    },
    {
      "cell_type": "markdown",
      "metadata": {
        "id": "oV-0WV5Z7FQ8"
      },
      "source": [
        "참고: 회로에서 여러 채널을 실험하여 노이즈를 생성해 보세요. Cirq와 TFQ에서 지원되는 공용 채널은 [여기](https://github.com/quantumlib/Cirq/blob/master/cirq-core/cirq/ops/common_channels.py)에서 확인할 수 있습니다."
      ]
    },
    {
      "cell_type": "markdown",
      "metadata": {
        "id": "atzsYj5qScn0"
      },
      "source": [
        "## 2. TFQ의 기본 노이즈\n",
        "\n",
        "노이즈가 회로 실행에 영향을 미치는 방식에 대한 이해를 통해 TFQ에서 노이즈가 작동하는 방식을 탐색할 수 있습니다. TensorFlow Quantum은 밀도 행렬 시뮬레이션에 대한 대안으로 몬테카를로/궤적 기반 시뮬레이션을 사용합니다. 이는 밀도 행렬 시뮬레이션의 메모리 복잡성으로 인해 기존의 전체 밀도 행렬 시뮬레이션 방법이 대규모 시뮬레이션을 &lt;= 20 큐비트로 제한하기 때문입니다. 몬테카를로/궤적 시뮬레이션은 이 비용을 시간에 따른 추가 비용과 교환합니다. `backend='noisy'` 옵션은 모든 `tfq.layers.Sample`, `tfq.layers.SampledExpectation` 및 `tfq.layers.Expectation`에 사용할 수 있습니다(`Expectation`의 경우 필수 `repetitions` 매개변수를 추가함).\n",
        "\n",
        "### 2.1 TFQ의 노이즈가 있는 샘플링\n",
        "\n",
        "TFQ 및 궤적 시뮬레이션을 사용하여 위의 플롯을 다시 생성하기 위해 `tfq.layers.Sample`을 사용할 수 있습니다."
      ]
    },
    {
      "cell_type": "code",
      "execution_count": null,
      "metadata": {
        "id": "byVI5nbNQ4_b"
      },
      "outputs": [],
      "source": [
        "\"\"\"Draw bitstring samples from `my_noisy_circuit`\"\"\"\n",
        "bitstrings = tfq.layers.Sample(backend='noisy')(my_noisy_circuit, repetitions=1000)"
      ]
    },
    {
      "cell_type": "code",
      "execution_count": null,
      "metadata": {
        "id": "ncl0ruCZrd2s"
      },
      "outputs": [],
      "source": [
        "numeric_values = np.einsum('ijk,k->ij', bitstrings.to_tensor().numpy(), [1, 2])[0]\n",
        "freqs, _ = np.histogram(numeric_values, bins=[i+0.01 for i in range(-1,2** len(my_qubits))])\n",
        "plt.figure(figsize=(10,5))\n",
        "plt.title('Noisy Circuit Sampling')\n",
        "plt.xlabel('Bitstring')\n",
        "plt.ylabel('Frequency')\n",
        "plt.bar([i for i in range(2** len(my_qubits))], freqs, tick_label=['00','01','10','11'])"
      ]
    },
    {
      "cell_type": "markdown",
      "metadata": {
        "id": "QfHq13RwuLlF"
      },
      "source": [
        "### 2.2 노이즈가 있는 샘플 기반 예상\n",
        "\n",
        "노이즈가 있는 샘플을 기반으로 예상 계산을 수행하기 위해 `tfq.layers.SampleExpectation`을 사용할 수 있습니다.\n"
      ]
    },
    {
      "cell_type": "code",
      "execution_count": null,
      "metadata": {
        "id": "ep45G-09rfrA"
      },
      "outputs": [],
      "source": [
        "some_observables = [cirq.X(my_qubits[0]), cirq.Z(my_qubits[0]), 3.0 * cirq.Y(my_qubits[1]) + 1]\n",
        "some_observables"
      ]
    },
    {
      "cell_type": "markdown",
      "metadata": {
        "id": "ur4iF_PGv0Xf"
      },
      "source": [
        "샘플링을 통해 회로로부터 노이즈가 없는 예상 추정값을 계산합니다."
      ]
    },
    {
      "cell_type": "code",
      "execution_count": null,
      "metadata": {
        "id": "jL6wJ3LCvNcn"
      },
      "outputs": [],
      "source": [
        "noiseless_sampled_expectation = tfq.layers.SampledExpectation(backend='noiseless')(\n",
        "    my_circuit, operators=some_observables, repetitions=10000\n",
        ")\n",
        "noiseless_sampled_expectation.numpy()"
      ]
    },
    {
      "cell_type": "markdown",
      "metadata": {
        "id": "c6hHgNtEv40i"
      },
      "source": [
        "이러한 값들을 다음과 같이 노이즈가 있는 버전과 비교합니다."
      ]
    },
    {
      "cell_type": "code",
      "execution_count": null,
      "metadata": {
        "id": "8U4Gm-LGvYqa"
      },
      "outputs": [],
      "source": [
        "noisy_sampled_expectation = tfq.layers.SampledExpectation(backend='noisy')(\n",
        "    [my_noisy_circuit, my_really_noisy_circuit], operators=some_observables, repetitions=10000\n",
        ")\n",
        "noisy_sampled_expectation.numpy()"
      ]
    },
    {
      "cell_type": "markdown",
      "metadata": {
        "id": "CqQ_2c7XwMku"
      },
      "source": [
        "노이즈가 있는 버전이 특히 $\\langle \\psi | Z | \\psi \\rangle$의 정확도에 영향을 미쳤음을 확인할 수 있으며 이때 `my_really_noisy_circuit`은 0에 매우 빠르게 집중합니다.\n",
        "\n",
        "### 2.3 노이즈 분석 예상 계산\n",
        "\n",
        "노이즈가 있는 예상 계산을 수행하는 방법은 위의 설명과 거의 동일합니다.\n"
      ]
    },
    {
      "cell_type": "code",
      "execution_count": null,
      "metadata": {
        "id": "pGXKlyCywAfj"
      },
      "outputs": [],
      "source": [
        "noiseless_analytic_expectation = tfq.layers.Expectation(backend='noiseless')(\n",
        "    my_circuit, operators=some_observables\n",
        ")\n",
        "noiseless_analytic_expectation.numpy()"
      ]
    },
    {
      "cell_type": "code",
      "execution_count": null,
      "metadata": {
        "id": "6FUkJ7aOyTlI"
      },
      "outputs": [],
      "source": [
        "noisy_analytic_expectation = tfq.layers.Expectation(backend='noisy')(\n",
        "    [my_noisy_circuit, my_really_noisy_circuit], operators=some_observables, repetitions=10000\n",
        ")\n",
        "noisy_analytic_expectation.numpy()"
      ]
    },
    {
      "cell_type": "markdown",
      "metadata": {
        "id": "5KHvORT42XFV"
      },
      "source": [
        "## 3. 하이브리드 모델과 양자 데이터 노이즈\n",
        "\n",
        "이제 TFQ에서 노이즈가 있는 회로 시뮬레이션을 구현했으므로 노이즈가 있는 성능과 노이즈가 없는 성능을 비교하고 대조하여 노이즈가 양자 및 하이브리드 양자 클래식 모델에 미치는 영향을 실험할 수 있습니다. 모델이나 알고리즘이 노이즈에 강한지 확인하는 데 좋은 첫 번째 방법은 다음과 같은 회로 전체에 걸쳐 감극 모델에서 테스트하는 것입니다.\n",
        "\n",
        "<img src=\"./images/noise_2.png\" width=\"500\">\n",
        "\n",
        "회로의 각 타임 슬라이스(모멘트라고도 함)에는 해당 타임 슬라이스에서 각 게이트 작업 후에 추가된 감극 채널이 있습니다. 감극 채널은 ${X, Y, Z }$ 중 하나를 확률 $p$로 적용하거나 $1-p$ 확률로 아무 것도 적용하지 않는(원래 작업 유지) 채널입니다.\n",
        "\n",
        "### 3.1 데이터\n",
        "\n",
        "이 예시에서는 `tfq.datasets` 모듈로 준비한 일부 회로를 학습 데이터로 사용할 수 있습니다."
      ]
    },
    {
      "cell_type": "code",
      "execution_count": null,
      "metadata": {
        "id": "_ZqVLEji2WUx"
      },
      "outputs": [],
      "source": [
        "qubits = cirq.GridQubit.rect(1, 8)\n",
        "circuits, labels, pauli_sums, _ = tfq.datasets.xxz_chain(qubits, 'closed')\n",
        "circuits[0]"
      ]
    },
    {
      "cell_type": "markdown",
      "metadata": {
        "id": "MFgNU_nBGeTm"
      },
      "source": [
        "약간의 도우미 함수를 작성하면 다음과 같이 노이즈가 있는 사례 대 노이즈가 없는 사례에 대한 데이터를 생성하는 데 도움이 됩니다."
      ]
    },
    {
      "cell_type": "code",
      "execution_count": null,
      "metadata": {
        "id": "zkQofAqqGibQ"
      },
      "outputs": [],
      "source": [
        "def get_data(qubits, depolarize_p=0.):\n",
        "  \"\"\"Return quantum data circuits and labels in `tf.Tensor` form.\"\"\"\n",
        "  circuits, labels, pauli_sums, _ = tfq.datasets.xxz_chain(qubits, 'closed')\n",
        "  if depolarize_p >= 1e-5:\n",
        "    circuits = [circuit.with_noise(cirq.depolarize(depolarize_p)) for circuit in circuits]\n",
        "  tmp = list(zip(circuits, labels))\n",
        "  random.shuffle(tmp)\n",
        "  circuits_tensor = tfq.convert_to_tensor([x[0] for x in tmp])\n",
        "  labels_tensor = tf.convert_to_tensor([x[1] for x in tmp])\n",
        "\n",
        "  return circuits_tensor, labels_tensor"
      ]
    },
    {
      "cell_type": "markdown",
      "metadata": {
        "id": "FtJrfsLCF9Z3"
      },
      "source": [
        "### 3.2 모델 회로 정의하기\n",
        "\n",
        "이제 회로 형태의 양자 데이터가 있으므로 이 데이터를 모델링하는 회로가 필요합니다. 데이터와 마찬가지로 선택적으로 노이즈를 포함하는 이 회로를 생성하는 도우미 함수를 작성할 수 있습니다."
      ]
    },
    {
      "cell_type": "code",
      "execution_count": null,
      "metadata": {
        "id": "TwryFaFIG2Ya"
      },
      "outputs": [],
      "source": [
        "def modelling_circuit(qubits, depth, depolarize_p=0.):\n",
        "  \"\"\"A simple classifier circuit.\"\"\"\n",
        "  dim = len(qubits)\n",
        "  ret = cirq.Circuit(cirq.H.on_each(*qubits))\n",
        "\n",
        "  for i in range(depth):\n",
        "    # Entangle layer.\n",
        "    ret += cirq.Circuit(cirq.CX(q1, q2) for (q1, q2) in zip(qubits[::2], qubits[1::2]))\n",
        "    ret += cirq.Circuit(cirq.CX(q1, q2) for (q1, q2) in zip(qubits[1::2], qubits[2::2]))\n",
        "    # Learnable rotation layer.\n",
        "    # i_params = sympy.symbols(f'layer-{i}-0:{dim}')\n",
        "    param = sympy.Symbol(f'layer-{i}')\n",
        "    single_qb = cirq.X\n",
        "    if i % 2 == 1:\n",
        "      single_qb = cirq.Y\n",
        "    ret += cirq.Circuit(single_qb(q) ** param for q in qubits)\n",
        "  \n",
        "  if depolarize_p >= 1e-5:\n",
        "    ret = ret.with_noise(cirq.depolarize(depolarize_p))\n",
        "\n",
        "  return ret, [op(q) for q in qubits for op in [cirq.X, cirq.Y, cirq.Z]]\n",
        "\n",
        "modelling_circuit(qubits, 3)[0]"
      ]
    },
    {
      "cell_type": "markdown",
      "metadata": {
        "id": "U-ZMaCpJI9TH"
      },
      "source": [
        "### 3.3 모델 구축 및 훈련\n",
        "\n",
        "데이터 및 모델 회로가 구축되면 다음과 같이 노이즈가 있거나 노이즈가 없는 하이브리드 양자 `tf.keras.Model`을 모두 조합할 수 있는 최종 도우미 함수가 필요합니다."
      ]
    },
    {
      "cell_type": "code",
      "execution_count": null,
      "metadata": {
        "id": "r09CT5N9DWa_"
      },
      "outputs": [],
      "source": [
        "def build_keras_model(qubits, depolarize_p=0.):\n",
        "  \"\"\"Prepare a noisy hybrid quantum classical Keras model.\"\"\"\n",
        "  spin_input = tf.keras.Input(shape=(), dtype=tf.dtypes.string)\n",
        "\n",
        "  circuit_and_readout = modelling_circuit(qubits, 4, depolarize_p)\n",
        "  if depolarize_p >= 1e-5:\n",
        "    quantum_model = tfq.layers.NoisyPQC(*circuit_and_readout, sample_based=False, repetitions=10)(spin_input)\n",
        "  else:\n",
        "    quantum_model = tfq.layers.PQC(*circuit_and_readout)(spin_input)\n",
        "\n",
        "  intermediate = tf.keras.layers.Dense(4, activation='sigmoid')(quantum_model)\n",
        "  post_process = tf.keras.layers.Dense(1)(intermediate)\n",
        "\n",
        "  return tf.keras.Model(inputs=[spin_input], outputs=[post_process])"
      ]
    },
    {
      "cell_type": "markdown",
      "metadata": {
        "id": "QbMtT7BZmhfm"
      },
      "source": [
        "## 4. 성능 비교하기\n",
        "\n",
        "### 4.1 노이즈가 없는 기준선\n",
        "\n",
        "이제 데이터 생성 및 모델 구축 코드를 사용하여 노이즈가 없는 설정과 노이즈가 있는 설정으로 모델 성능을 비교하고 대조할 수 있습니다. 먼저 다음과 같이 노이즈가 없는 훈련을 참조로 실행할 수 있습니다."
      ]
    },
    {
      "cell_type": "code",
      "execution_count": null,
      "metadata": {
        "id": "QAgpq9c-EakW"
      },
      "outputs": [],
      "source": [
        "training_histories = dict()\n",
        "depolarize_p = 0.\n",
        "n_epochs = 50\n",
        "phase_classifier = build_keras_model(qubits, depolarize_p)\n",
        "\n",
        "phase_classifier.compile(optimizer=tf.keras.optimizers.Adam(learning_rate=0.02),\n",
        "                   loss=tf.keras.losses.BinaryCrossentropy(from_logits=True),\n",
        "                   metrics=['accuracy'])\n",
        "\n",
        "\n",
        "# Show the keras plot of the model\n",
        "tf.keras.utils.plot_model(phase_classifier, show_shapes=True, dpi=70)"
      ]
    },
    {
      "cell_type": "code",
      "execution_count": null,
      "metadata": {
        "id": "9tKimWRMlVfL"
      },
      "outputs": [],
      "source": [
        "noiseless_data, noiseless_labels = get_data(qubits, depolarize_p)\n",
        "training_histories['noiseless'] = phase_classifier.fit(x=noiseless_data,\n",
        "                         y=noiseless_labels,\n",
        "                         batch_size=16,\n",
        "                         epochs=n_epochs,\n",
        "                         validation_split=0.15,\n",
        "                         verbose=1)"
      ]
    },
    {
      "cell_type": "markdown",
      "metadata": {
        "id": "A9oql6Synv3f"
      },
      "source": [
        "그리고 다음과 같이 결과와 정확성을 살펴 봅니다."
      ]
    },
    {
      "cell_type": "code",
      "execution_count": null,
      "metadata": {
        "id": "TG87YNUWKKLY"
      },
      "outputs": [],
      "source": [
        "loss_plotter = tfdocs.plots.HistoryPlotter(metric = 'loss', smoothing_std=10)\n",
        "loss_plotter.plot(training_histories)"
      ]
    },
    {
      "cell_type": "code",
      "execution_count": null,
      "metadata": {
        "id": "O2ZwM18YUxxm"
      },
      "outputs": [],
      "source": [
        "acc_plotter = tfdocs.plots.HistoryPlotter(metric = 'accuracy', smoothing_std=10)\n",
        "acc_plotter.plot(training_histories)"
      ]
    },
    {
      "cell_type": "markdown",
      "metadata": {
        "id": "JlOwBxvSnzid"
      },
      "source": [
        "### 4.2 노이즈가 있는 설정 비교\n",
        "\n",
        "노이즈가 있는 구조로 새 모델을 빌드하고 위의 내용과 비교하면 코드가 거의 동일한 것을 확인할 수 있습니다."
      ]
    },
    {
      "cell_type": "code",
      "execution_count": null,
      "metadata": {
        "id": "0jy54uWpgwhi"
      },
      "outputs": [],
      "source": [
        "depolarize_p = 0.001\n",
        "n_epochs = 50\n",
        "noisy_phase_classifier = build_keras_model(qubits, depolarize_p)\n",
        "\n",
        "noisy_phase_classifier.compile(optimizer=tf.keras.optimizers.Adam(learning_rate=0.02),\n",
        "                   loss=tf.keras.losses.BinaryCrossentropy(from_logits=True),\n",
        "                   metrics=['accuracy'])\n",
        "\n",
        "\n",
        "# Show the keras plot of the model\n",
        "tf.keras.utils.plot_model(noisy_phase_classifier, show_shapes=True, dpi=70)"
      ]
    },
    {
      "cell_type": "markdown",
      "metadata": {
        "id": "r-vYU6S3oN-J"
      },
      "source": [
        "참고: 모델 다이어그램에는 이제 `tfq.layers.PQC` 대신 `tfq.layers.NoisyPQC`가 있습니다. 이는 감극 확률이 더 이상 0이 아니기 때문입니다. 노이즈가 있는 시뮬레이션은 노이즈가 없는 시뮬레이션보다 훨씬 더 비싸기 때문에 훈련 시간이 훨씬 더 오래 걸립니다."
      ]
    },
    {
      "cell_type": "code",
      "execution_count": null,
      "metadata": {
        "id": "210cLP5AoClJ"
      },
      "outputs": [],
      "source": [
        "noisy_data, noisy_labels = get_data(qubits, depolarize_p)\n",
        "training_histories['noisy'] = noisy_phase_classifier.fit(x=noisy_data,\n",
        "                         y=noisy_labels,\n",
        "                         batch_size=16,\n",
        "                         epochs=n_epochs,\n",
        "                         validation_split=0.15,\n",
        "                         verbose=1)"
      ]
    },
    {
      "cell_type": "code",
      "execution_count": null,
      "metadata": {
        "id": "eQ8pknNdohzy"
      },
      "outputs": [],
      "source": [
        "loss_plotter.plot(training_histories)"
      ]
    },
    {
      "cell_type": "code",
      "execution_count": null,
      "metadata": {
        "id": "nBtgnKWtuWRR"
      },
      "outputs": [],
      "source": [
        "acc_plotter.plot(training_histories)"
      ]
    },
    {
      "cell_type": "markdown",
      "metadata": {
        "id": "r86TeFxlubls"
      },
      "source": [
        "성공: 노이즈가 있는 모델은 약간의 감극 노이즈가 있는 환경에서 여전히 훈련할 수 있었습니다. 훈련이 실패할 수 있는 방법과 시기를 확인하려면 다양한 노이즈 모델을 실험해야 합니다. 또한 `tfq.layers` 및 `tfq.noise`의 경우에는 노이즈 있는 기능을 조심해야 합니다."
      ]
    }
  ],
  "metadata": {
    "colab": {
      "name": "noise.ipynb",
      "toc_visible": true
    },
    "kernelspec": {
      "display_name": "Python 3",
      "name": "python3"
    }
  },
  "nbformat": 4,
  "nbformat_minor": 0
}
