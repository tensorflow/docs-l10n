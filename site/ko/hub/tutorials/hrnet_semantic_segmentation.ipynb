{
  "cells": [
    {
      "cell_type": "markdown",
      "metadata": {
        "id": "58MWWgq75lMh"
      },
      "source": [
        "##### Copyright 2022 The TensorFlow Hub Authors.\n",
        "\n",
        "Licensed under the Apache License, Version 2.0 (the \"License\");"
      ]
    },
    {
      "cell_type": "code",
      "execution_count": null,
      "metadata": {
        "cellView": "form",
        "id": "jM3hCI1UUzar"
      },
      "outputs": [],
      "source": [
        "#@title Copyright 2022 The TensorFlow Hub Authors. All Rights Reserved.\n",
        "#\n",
        "# Licensed under the Apache License, Version 2.0 (the \"License\");\n",
        "# you may not use this file except in compliance with the License.\n",
        "# You may obtain a copy of the License at\n",
        "#\n",
        "#     http://www.apache.org/licenses/LICENSE-2.0\n",
        "#\n",
        "# Unless required by applicable law or agreed to in writing, software\n",
        "# distributed under the License is distributed on an \"AS IS\" BASIS,\n",
        "# WITHOUT WARRANTIES OR CONDITIONS OF ANY KIND, either express or implied.\n",
        "# See the License for the specific language governing permissions and\n",
        "# limitations under the License.\n",
        "# =============================================================================="
      ]
    },
    {
      "cell_type": "markdown",
      "metadata": {
        "id": "4_NEJlxKKjyI"
      },
      "source": [
        "<table class=\"tfo-notebook-buttons\" align=\"left\">\n",
        "  <td><a target=\"_blank\" href=\"https://www.tensorflow.org/hub/tutorials/hrnet_semantic_segmentation\"><img src=\"https://www.tensorflow.org/images/tf_logo_32px.png\">TensorFlow.org에서 보기</a></td>\n",
        "  <td><a target=\"_blank\" href=\"https://colab.research.google.com/github/tensorflow/docs-l10n/blob/master/site/ko/hub/tutorials/hrnet_semantic_segmentation.ipynb\"><img src=\"https://www.tensorflow.org/images/colab_logo_32px.png\">Google Colab에서 실행</a></td>\n",
        "  <td><a target=\"_blank\" href=\"https://github.com/tensorflow/docs-l10n/blob/master/site/ko/hub/tutorials/hrnet_semantic_segmentation.ipynb\"><img src=\"https://www.tensorflow.org/images/GitHub-Mark-32px.png\">GitHub에서 보기</a></td>\n",
        "  <td><a href=\"https://storage.googleapis.com/tensorflow_docs/docs-l10n/site/ko/hub/tutorials/hrnet_semantic_segmentation.ipynb\"><img src=\"https://www.tensorflow.org/images/download_logo_32px.png\">노트북 다운로드</a></td>\n",
        "  <td><a href=\"https://tfhub.dev/google/HRNet/\"><img src=\"https://www.tensorflow.org/images/hub_logo_32px.png\">TF Hub 모델 보기</a></td>\n",
        "</table>"
      ]
    },
    {
      "cell_type": "markdown",
      "metadata": {
        "id": "U5POcTVNB_dv"
      },
      "source": [
        "# 의미론적 세분화를 위한 HRNet 기반 모델\n",
        "\n",
        "이 노트북에서 수행할 작업은 다음과 같습니다.\n",
        "\n",
        "- 서로 다른 의미론적 세분화 데이터세트에서 17개의 사전 훈련된 HRNet 모델 중 하나를 선택하고 로드합니다.\n",
        "- 추론을 실행하여 모델 백본에서 특성을 추출하고 모델 헤드에서 예측을 추출합니다."
      ]
    },
    {
      "cell_type": "code",
      "execution_count": null,
      "metadata": {
        "id": "_XgTpm9ZxoN9"
      },
      "outputs": [],
      "source": [
        "import tensorflow as tf\n",
        "import tensorflow_hub as hub\n",
        "import matplotlib.pyplot as plt\n",
        "from PIL import Image\n",
        "import numpy as np"
      ]
    },
    {
      "cell_type": "markdown",
      "metadata": {
        "id": "UVtEyxDFpKE1"
      },
      "source": [
        "## TensorFlow Hub에서 모델 로드하기\n",
        "\n",
        "여기에서 로드할 사전 훈련된 HRNet 모델을 선택할 수 있습니다. 모델이 다르면 다른 훈련 데이터세트가 사용됨을 의미합니다. 훈련 데이터세트(dataset_output_classes)에 포함된 클래스 수에 따라 차원이 다른 모델 헤드를 제외하고 모든 모델은 동일한 아키텍처를 갖습니다. 다양한 데이터세트에 대한 자세한 내용은 위의 링크와 [데이터세트 수집에 영향을 미치는 요인](https://github.com/google-research/google-research/tree/master/factors_of_influence)을 참조하세요."
      ]
    },
    {
      "cell_type": "code",
      "execution_count": null,
      "metadata": {
        "id": "y8_ctG55-uTX"
      },
      "outputs": [],
      "source": [
        "#@title Choose a pre-trained HRNet model to load.\n",
        "\n",
        "hrnet_model_name = 'ade20k-hrnetv2-w48/1'  #@param [\"ade20k-hrnetv2-w48/1\", \"isprs-hrnetv2-w48/1\", \"vkitti2-hrnetv2-w48/1\", \"vgallery-hrnetv2-w48/1\", \"sunrgbd-hrnetv2-w48/1\", \"suim-hrnetv2-w48/1\", \"scannet-hrnetv2-w48/1\", \"pvoc-hrnetv2-w48/1\", \"msegpcontext-hrnetv2-w48/1\", \"mapillary-hrnetv2-w48/1\", \"kitti-hrnetv2-w48/1\", \"isaid-hrnetv2-w48/1\", \"idd-hrnetv2-w48/1\", \"coco-hrnetv2-w48/1\", \"city-hrnetv2-w48/1\", \"camvid-hrnetv2-w48/1\", \"bdd-hrnetv2-w48/1\"]\n",
        "\n",
        "tfhub_model_name = 'https://tfhub.dev/google/HRNet/' + hrnet_model_name\n",
        "\n",
        "print('HRNet model selected           :', tfhub_model_name)"
      ]
    },
    {
      "cell_type": "code",
      "execution_count": null,
      "metadata": {
        "id": "T-yHJ5X55kWN"
      },
      "outputs": [],
      "source": [
        "hrnet_model = hub.load(tfhub_model_name)\n",
        "\n",
        "print('HRNet model loaded           :', tfhub_model_name)"
      ]
    },
    {
      "cell_type": "markdown",
      "metadata": {
        "id": "pMP_7v9x6kol"
      },
      "source": [
        "## 이미지를 로드하고 및 추론 실행하기\n",
        "\n",
        "이미지에서 특성과 예측을 추출하기 위한 추론을 실행하는 방법에 대한 데모입니다. 이미지는 scene150 데이터세트에서 가져왔습니다.\n",
        "\n",
        "훈련 중에 사용된 데이터세트에 대한 추론을 수행하려면 [데이터세트 수집에 영향을 미치는 요인](https://github.com/google-research/google-research/tree/master/factors_of_influence)을 참조하세요."
      ]
    },
    {
      "cell_type": "code",
      "execution_count": null,
      "metadata": {
        "id": "GNzjieS66td_"
      },
      "outputs": [],
      "source": [
        "img_file = tf.keras.utils.get_file(origin=\"https://tensorflow.org/images/bedroom_hrnet_tutorial.jpg\")\n",
        "img = np.array(Image.open(img_file))/255.0"
      ]
    },
    {
      "cell_type": "code",
      "execution_count": null,
      "metadata": {
        "id": "Lp54vD_FZuHw"
      },
      "outputs": [],
      "source": [
        "plt.imshow(img)\n",
        "plt.show()\n",
        "\n",
        "# Predictions will have shape (batch_size, h, w, dataset_output_classes)\n",
        "predictions = hrnet_model.predict([img])\n",
        "plt.imshow(predictions[0,:,:,1])\n",
        "plt.title('Predictions for class #1')\n",
        "plt.show() \n",
        "# Features will have shape (batch_size, h/4, w/4, 720)\n",
        "features = hrnet_model.get_features([img])\n",
        "plt.imshow(features[0,:,:,1])\n",
        "plt.title('Feature #1 out of 720')\n",
        "plt.show()"
      ]
    }
  ],
  "metadata": {
    "colab": {
      "collapsed_sections": [],
      "name": "hrnet_semantic_segmentation.ipynb",
      "toc_visible": true
    },
    "kernelspec": {
      "display_name": "Python 3",
      "name": "python3"
    }
  },
  "nbformat": 4,
  "nbformat_minor": 0
}
