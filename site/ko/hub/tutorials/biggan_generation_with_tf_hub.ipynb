{
  "cells": [
    {
      "cell_type": "markdown",
      "metadata": {
        "id": "pLOYL1PJAAtK"
      },
      "source": [
        "##### Copyright 2018 The TensorFlow Hub Authors.\n",
        "\n",
        "Licensed under the Apache License, Version 2.0 (the \"License\");"
      ]
    },
    {
      "cell_type": "code",
      "execution_count": null,
      "metadata": {
        "id": "3fJWQ8WSAFhh"
      },
      "outputs": [],
      "source": [
        "# Copyright 2018 The TensorFlow Hub Authors. All Rights Reserved.\n",
        "#\n",
        "# Licensed under the Apache License, Version 2.0 (the \"License\");\n",
        "# you may not use this file except in compliance with the License.\n",
        "# You may obtain a copy of the License at\n",
        "#\n",
        "#     http://www.apache.org/licenses/LICENSE-2.0\n",
        "#\n",
        "# Unless required by applicable law or agreed to in writing, software\n",
        "# distributed under the License is distributed on an \"AS IS\" BASIS,\n",
        "# WITHOUT WARRANTIES OR CONDITIONS OF ANY KIND, either express or implied.\n",
        "# See the License for the specific language governing permissions and\n",
        "# limitations under the License.\n",
        "# =============================================================================="
      ]
    },
    {
      "cell_type": "markdown",
      "metadata": {
        "id": "Cd1dhL4Ykbm7"
      },
      "source": [
        "# BigGAN으로 이미지 생성하기\n"
      ]
    },
    {
      "cell_type": "markdown",
      "metadata": {
        "id": "MfBg1C5NB3X0"
      },
      "source": [
        "<table class=\"tfo-notebook-buttons\" align=\"left\">\n",
        "  <td>     <a target=\"_blank\" href=\"https://www.tensorflow.org/hub/tutorials/biggan_generation_with_tf_hub\"><img src=\"https://www.tensorflow.org/images/tf_logo_32px.png\">TensorFlow.org에서 보기</a>\n",
        "</td>\n",
        "  <td>     <a target=\"_blank\" href=\"https://colab.research.google.com/github/tensorflow/docs-l10n/blob/master/site/ko/hub/tutorials/biggan_generation_with_tf_hub.ipynb\"><img src=\"https://www.tensorflow.org/images/colab_logo_32px.png\">Google Colab에서 실행하기</a>\n",
        "</td>\n",
        "  <td>     <a target=\"_blank\" href=\"https://github.com/tensorflow/docs-l10n/blob/master/site/ko/hub/tutorials/biggan_generation_with_tf_hub.ipynb\"><img src=\"https://www.tensorflow.org/images/GitHub-Mark-32px.png\">GitHub에서 보기</a>\n",
        "</td>\n",
        "  <td><a href=\"https://storage.googleapis.com/tensorflow_docs/docs-l10n/site/ko/hub/tutorials/biggan_generation_with_tf_hub.ipynb\"><img src=\"https://www.tensorflow.org/images/download_logo_32px.png\">노트북 다운론드하기</a></td>\n",
        "  <td><a href=\"https://tfhub.dev/s?q=deepmind%2Fbiggan\"><img src=\"https://www.tensorflow.org/images/hub_logo_32px.png\">TF Hub 모델보기</a></td>\n",
        "</table>"
      ]
    },
    {
      "cell_type": "markdown",
      "metadata": {
        "id": "-1NTVIH6ABK-"
      },
      "source": [
        "이 노트북은 <a>TF Hub</a>에서 사용할 수 있는 <em>BigGAN</em> 이미지 생성기의 데모입니다.\n",
        "\n",
        "이러한 모델에 대한 자세한 내용은 [arXiv에 관한 BigGAN 논문](https://arxiv.org/abs/1809.11096) [1]을 참조하세요.\n",
        "\n",
        "런타임에 연결한 후 다음 지침에 따라 시작합니다.\n",
        "\n",
        "1. (선택 사항) 다른 이미지 해상도에 대한 BigGAN 생성기를 로드하려면 아래 첫 번째 코드 셀에서 선택한 **`module_path`** 를 업데이트합니다.\n",
        "2. **Runtime &gt; Run all**을 클릭하여 각 셀을 순서대로 실행합니다.\n",
        "    - 나중에 슬라이더와 드롭다운 메뉴를 사용하여 설정을 수정하면 대화형 시각화가 자동으로 업데이트됩니다.\n",
        "    - 그렇지 않으면 셀 옆의 **Play** 버튼을 눌러 출력을 수동으로 다시 렌더링합니다.\n",
        "\n",
        "참고: 문제가 발생하는 경우, **Runtime &gt; Restart and run all...**을 클릭하여 런타임을 다시 시작하고 모든 셀을 처음부터 다시 실행하면 도움이 될 수 있습니다.\n",
        "\n",
        "[1] Andrew Brock, Jeff Donahue, and Karen Simonyan. [Large Scale GAN Training for High Fidelity Natural Image Synthesis](https://arxiv.org/abs/1809.11096)."
      ]
    },
    {
      "cell_type": "markdown",
      "metadata": {
        "id": "XS1_N6hKj8cz"
      },
      "source": [
        "먼저 모듈 경로를 설정합니다. 기본적으로 **`https://tfhub.dev/deepmind/biggan-deep-256/1`**에서 256x256 이미지의 BigGAN-deep 생성기를 로드합니다. 128x128 또는 512x512 이미지를 생성하거나 원래 BigGAN 생성기를 사용하려면 활성 **`module_path`** 설정을 주석 처리하고 다른 설정에 대한 주석 처리를 제거합니다."
      ]
    },
    {
      "cell_type": "code",
      "execution_count": null,
      "metadata": {
        "id": "OJCIhQPClKJ1"
      },
      "outputs": [],
      "source": [
        "# BigGAN-deep models\n",
        "# module_path = 'https://tfhub.dev/deepmind/biggan-deep-128/1'  # 128x128 BigGAN-deep\n",
        "module_path = 'https://tfhub.dev/deepmind/biggan-deep-256/1'  # 256x256 BigGAN-deep\n",
        "# module_path = 'https://tfhub.dev/deepmind/biggan-deep-512/1'  # 512x512 BigGAN-deep\n",
        "\n",
        "# BigGAN (original) models\n",
        "# module_path = 'https://tfhub.dev/deepmind/biggan-128/2'  # 128x128 BigGAN\n",
        "# module_path = 'https://tfhub.dev/deepmind/biggan-256/2'  # 256x256 BigGAN\n",
        "# module_path = 'https://tfhub.dev/deepmind/biggan-512/2'  # 512x512 BigGAN"
      ]
    },
    {
      "cell_type": "markdown",
      "metadata": {
        "id": "JJrTM6hAi0CJ"
      },
      "source": [
        "## 설정"
      ]
    },
    {
      "cell_type": "code",
      "execution_count": null,
      "metadata": {
        "id": "lOZnst2jeWDL"
      },
      "outputs": [],
      "source": [
        "import tensorflow.compat.v1 as tf\n",
        "tf.disable_v2_behavior()\n",
        "\n",
        "import os\n",
        "import io\n",
        "import IPython.display\n",
        "import numpy as np\n",
        "import PIL.Image\n",
        "from scipy.stats import truncnorm\n",
        "import tensorflow_hub as hub\n"
      ]
    },
    {
      "cell_type": "markdown",
      "metadata": {
        "id": "stWb21nlcyCm"
      },
      "source": [
        "## TF Hub에서 BigGAN 생성기 모듈 로드하기"
      ]
    },
    {
      "cell_type": "code",
      "execution_count": null,
      "metadata": {
        "id": "tVgwgJiCH3PV"
      },
      "outputs": [],
      "source": [
        "tf.reset_default_graph()\n",
        "print('Loading BigGAN module from:', module_path)\n",
        "module = hub.Module(module_path)\n",
        "inputs = {k: tf.placeholder(v.dtype, v.get_shape().as_list(), k)\n",
        "          for k, v in module.get_input_info_dict().items()}\n",
        "output = module(inputs)\n",
        "\n",
        "print()\n",
        "print('Inputs:\\n', '\\n'.join(\n",
        "    '  {}: {}'.format(*kv) for kv in inputs.items()))\n",
        "print()\n",
        "print('Output:', output)"
      ]
    },
    {
      "cell_type": "markdown",
      "metadata": {
        "id": "ry62-8SWfuds"
      },
      "source": [
        "## BigGAN 이미지 샘플링 및 표시를 위한 몇 가지 함수 정의하기"
      ]
    },
    {
      "cell_type": "code",
      "execution_count": null,
      "metadata": {
        "id": "46M8prJPDEsV"
      },
      "outputs": [],
      "source": [
        "input_z = inputs['z']\n",
        "input_y = inputs['y']\n",
        "input_trunc = inputs['truncation']\n",
        "\n",
        "dim_z = input_z.shape.as_list()[1]\n",
        "vocab_size = input_y.shape.as_list()[1]\n",
        "\n",
        "def truncated_z_sample(batch_size, truncation=1., seed=None):\n",
        "  state = None if seed is None else np.random.RandomState(seed)\n",
        "  values = truncnorm.rvs(-2, 2, size=(batch_size, dim_z), random_state=state)\n",
        "  return truncation * values\n",
        "\n",
        "def one_hot(index, vocab_size=vocab_size):\n",
        "  index = np.asarray(index)\n",
        "  if len(index.shape) == 0:\n",
        "    index = np.asarray([index])\n",
        "  assert len(index.shape) == 1\n",
        "  num = index.shape[0]\n",
        "  output = np.zeros((num, vocab_size), dtype=np.float32)\n",
        "  output[np.arange(num), index] = 1\n",
        "  return output\n",
        "\n",
        "def one_hot_if_needed(label, vocab_size=vocab_size):\n",
        "  label = np.asarray(label)\n",
        "  if len(label.shape) <= 1:\n",
        "    label = one_hot(label, vocab_size)\n",
        "  assert len(label.shape) == 2\n",
        "  return label\n",
        "\n",
        "def sample(sess, noise, label, truncation=1., batch_size=8,\n",
        "           vocab_size=vocab_size):\n",
        "  noise = np.asarray(noise)\n",
        "  label = np.asarray(label)\n",
        "  num = noise.shape[0]\n",
        "  if len(label.shape) == 0:\n",
        "    label = np.asarray([label] * num)\n",
        "  if label.shape[0] != num:\n",
        "    raise ValueError('Got # noise samples ({}) != # label samples ({})'\n",
        "                     .format(noise.shape[0], label.shape[0]))\n",
        "  label = one_hot_if_needed(label, vocab_size)\n",
        "  ims = []\n",
        "  for batch_start in range(0, num, batch_size):\n",
        "    s = slice(batch_start, min(num, batch_start + batch_size))\n",
        "    feed_dict = {input_z: noise[s], input_y: label[s], input_trunc: truncation}\n",
        "    ims.append(sess.run(output, feed_dict=feed_dict))\n",
        "  ims = np.concatenate(ims, axis=0)\n",
        "  assert ims.shape[0] == num\n",
        "  ims = np.clip(((ims + 1) / 2.0) * 256, 0, 255)\n",
        "  ims = np.uint8(ims)\n",
        "  return ims\n",
        "\n",
        "def interpolate(A, B, num_interps):\n",
        "  if A.shape != B.shape:\n",
        "    raise ValueError('A and B must have the same shape to interpolate.')\n",
        "  alphas = np.linspace(0, 1, num_interps)\n",
        "  return np.array([(1-a)*A + a*B for a in alphas])\n",
        "\n",
        "def imgrid(imarray, cols=5, pad=1):\n",
        "  if imarray.dtype != np.uint8:\n",
        "    raise ValueError('imgrid input imarray must be uint8')\n",
        "  pad = int(pad)\n",
        "  assert pad >= 0\n",
        "  cols = int(cols)\n",
        "  assert cols >= 1\n",
        "  N, H, W, C = imarray.shape\n",
        "  rows = N // cols + int(N % cols != 0)\n",
        "  batch_pad = rows * cols - N\n",
        "  assert batch_pad >= 0\n",
        "  post_pad = [batch_pad, pad, pad, 0]\n",
        "  pad_arg = [[0, p] for p in post_pad]\n",
        "  imarray = np.pad(imarray, pad_arg, 'constant', constant_values=255)\n",
        "  H += pad\n",
        "  W += pad\n",
        "  grid = (imarray\n",
        "          .reshape(rows, cols, H, W, C)\n",
        "          .transpose(0, 2, 1, 3, 4)\n",
        "          .reshape(rows*H, cols*W, C))\n",
        "  if pad:\n",
        "    grid = grid[:-pad, :-pad]\n",
        "  return grid\n",
        "\n",
        "def imshow(a, format='png', jpeg_fallback=True):\n",
        "  a = np.asarray(a, dtype=np.uint8)\n",
        "  data = io.BytesIO()\n",
        "  PIL.Image.fromarray(a).save(data, format)\n",
        "  im_data = data.getvalue()\n",
        "  try:\n",
        "    disp = IPython.display.display(IPython.display.Image(im_data))\n",
        "  except IOError:\n",
        "    if jpeg_fallback and format != 'jpeg':\n",
        "      print(('Warning: image was too large to display in format \"{}\"; '\n",
        "             'trying jpeg instead.').format(format))\n",
        "      return imshow(a, format='jpeg')\n",
        "    else:\n",
        "      raise\n",
        "  return disp"
      ]
    },
    {
      "cell_type": "markdown",
      "metadata": {
        "id": "uCeCg3Sdf8Nv"
      },
      "source": [
        "## TensorFlow 세션 생성 및 변수 초기화하기"
      ]
    },
    {
      "cell_type": "code",
      "execution_count": null,
      "metadata": {
        "id": "rYJor5bOaVn1"
      },
      "outputs": [],
      "source": [
        "initializer = tf.global_variables_initializer()\n",
        "sess = tf.Session()\n",
        "sess.run(initializer)"
      ]
    },
    {
      "cell_type": "markdown",
      "metadata": {
        "id": "SeZ7u3rWd9jz"
      },
      "source": [
        "# 특정 범주의 BigGAN 샘플 탐색하기\n",
        "\n",
        "**`truncation`** 값을 변경해 봅니다.\n",
        "\n",
        "(코드를 보려면 셀을 두 번 클릭합니다.)"
      ]
    },
    {
      "cell_type": "code",
      "execution_count": null,
      "metadata": {
        "id": "HuCO9tv3IKT2"
      },
      "outputs": [],
      "source": [
        "#@title Category-conditional sampling { display-mode: \"form\", run: \"auto\" }\n",
        "\n",
        "num_samples = 10 #@param {type:\"slider\", min:1, max:20, step:1}\n",
        "truncation = 0.4 #@param {type:\"slider\", min:0.02, max:1, step:0.02}\n",
        "noise_seed = 0 #@param {type:\"slider\", min:0, max:100, step:1}\n",
        "category = \"933) cheeseburger\"\n",
        "\n",
        "z = truncated_z_sample(num_samples, truncation, noise_seed)\n",
        "y = int(category.split(')')[0])\n",
        "\n",
        "ims = sample(sess, z, y, truncation=truncation)\n",
        "imshow(imgrid(ims, cols=min(num_samples, 5)))"
      ]
    },
    {
      "cell_type": "markdown",
      "metadata": {
        "id": "hHNXtvuQgKwa"
      },
      "source": [
        "# BigGAN 샘플 간에 보간하기\n",
        "\n",
        "같은 **`noise_seed`**로 다른 **`category`**를 설정하거나 다른 **`noise_seed`**로 같은 **`category`**를 설정해 봅니다. 또는 더 과감하게 둘 모두 원하는 대로 설정해 보세요!\n",
        "\n",
        "(Double-click on the cell to view code.)"
      ]
    },
    {
      "cell_type": "code",
      "execution_count": null,
      "metadata": {
        "id": "dSAyfDfnVugs"
      },
      "outputs": [],
      "source": [
        "#@title Interpolation { display-mode: \"form\", run: \"auto\" }\n",
        "\n",
        "num_samples = 2 #@param {type:\"slider\", min:1, max:5, step:1}\n",
        "num_interps = 5 #@param {type:\"slider\", min:2, max:10, step:1}\n",
        "truncation = 0.2 #@param {type:\"slider\", min:0.02, max:1, step:0.02}\n",
        "noise_seed_A = 0 #@param {type:\"slider\", min:0, max:100, step:1}\n",
        "category_A = \"207) golden retriever\"\n",
        "noise_seed_B = 0 #@param {type:\"slider\", min:0, max:100, step:1}\n",
        "category_B = \"8) hen\"\n",
        "\n",
        "def interpolate_and_shape(A, B, num_interps):\n",
        "  interps = interpolate(A, B, num_interps)\n",
        "  return (interps.transpose(1, 0, *range(2, len(interps.shape)))\n",
        "                 .reshape(num_samples * num_interps, *interps.shape[2:]))\n",
        "\n",
        "z_A, z_B = [truncated_z_sample(num_samples, truncation, noise_seed)\n",
        "            for noise_seed in [noise_seed_A, noise_seed_B]]\n",
        "y_A, y_B = [one_hot([int(category.split(')')[0])] * num_samples)\n",
        "            for category in [category_A, category_B]]\n",
        "\n",
        "z_interp = interpolate_and_shape(z_A, z_B, num_interps)\n",
        "y_interp = interpolate_and_shape(y_A, y_B, num_interps)\n",
        "\n",
        "ims = sample(sess, z_interp, y_interp, truncation=truncation)\n",
        "imshow(imgrid(ims, cols=num_interps))"
      ]
    }
  ],
  "metadata": {
    "accelerator": "GPU",
    "colab": {
      "collapsed_sections": [
        "pLOYL1PJAAtK"
      ],
      "name": "biggan_generation_with_tf_hub.ipynb",
      "toc_visible": true
    },
    "kernelspec": {
      "display_name": "Python 3",
      "name": "python3"
    }
  },
  "nbformat": 4,
  "nbformat_minor": 0
}
