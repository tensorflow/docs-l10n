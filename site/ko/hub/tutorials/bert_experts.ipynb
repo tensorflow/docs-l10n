{
  "cells": [
    {
      "cell_type": "markdown",
      "metadata": {
        "id": "-1vOMEXIhMQt"
      },
      "source": [
        "##### Copyright 2020 The TensorFlow Hub Authors.\n",
        "\n",
        "Licensed under the Apache License, Version 2.0 (the \"License\");"
      ]
    },
    {
      "cell_type": "code",
      "execution_count": null,
      "metadata": {
        "cellView": "form",
        "id": "pRfq9ZU5hQhg"
      },
      "outputs": [],
      "source": [
        "#@title Copyright 2020 The TensorFlow Hub Authors. All Rights Reserved.\n",
        "#\n",
        "# Licensed under the Apache License, Version 2.0 (the \"License\");\n",
        "# you may not use this file except in compliance with the License.\n",
        "# You may obtain a copy of the License at\n",
        "#\n",
        "#     http://www.apache.org/licenses/LICENSE-2.0\n",
        "#\n",
        "# Unless required by applicable law or agreed to in writing, software\n",
        "# distributed under the License is distributed on an \"AS IS\" BASIS,\n",
        "# WITHOUT WARRANTIES OR CONDITIONS OF ANY KIND, either express or implied.\n",
        "# See the License for the specific language governing permissions and\n",
        "# limitations under the License.\n",
        "# =============================================================================="
      ]
    },
    {
      "cell_type": "markdown",
      "metadata": {
        "id": "mTL0TERThT6z"
      },
      "source": [
        "<table class=\"tfo-notebook-buttons\" align=\"left\">\n",
        "  <td><a target=\"_blank\" href=\"https://www.tensorflow.org/hub/tutorials/bert_experts\"><img src=\"https://www.tensorflow.org/images/tf_logo_32px.png\">TensorFlow.org에서 보기</a></td>\n",
        "  <td><a target=\"_blank\" href=\"https://colab.research.google.com/github/tensorflow/docs-l10n/blob/master/site/ko/hub/tutorials/bert_experts.ipynb\"><img src=\"https://www.tensorflow.org/images/colab_logo_32px.png\">Google Colab에서 실행</a></td>\n",
        "  <td><a target=\"_blank\" href=\"https://github.com/tensorflow/docs-l10n/blob/master/site/ko/hub/tutorials/bert_experts.ipynb\"><img src=\"https://www.tensorflow.org/images/GitHub-Mark-32px.png\">GitHub에서 보기</a></td>\n",
        "  <td><a href=\"https://storage.googleapis.com/tensorflow_docs/docs-l10n/site/ko/hub/tutorials/bert_experts.ipynb\"><img src=\"https://www.tensorflow.org/images/download_logo_32px.png\">노트북 다운로드</a></td>\n",
        "  <td><a href=\"https://tfhub.dev/s?q=experts%2Fbert\"><img src=\"https://www.tensorflow.org/images/hub_logo_32px.png\">TF Hub 모델보기</a></td>\n",
        "</table>"
      ]
    },
    {
      "cell_type": "markdown",
      "metadata": {
        "id": "FkthMlVk8bHp"
      },
      "source": [
        "# TF-Hub의 BERT 전문가\n",
        "\n",
        "이 Colab에서는 다음 방법을 보여줍니다.\n",
        "\n",
        "- MNLI, SQuAD 및 PubMed를 포함한 다양한 작업에 대해 학습된 [TensorFlow Hub](https://tfhub.dev)에서 BERT 모델 로드\n",
        "- 일치하는 전처리 모델을 사용하여 원시 텍스트를 토큰화하고 이를 ID로 변환\n",
        "- 로드된 모델을 사용하여 토큰 입력 ID에서 풀링 및 시퀀스 출력 생성\n",
        "- 서로 다른 문장의 풀링된 출력에서 의미론적 유사성 고찰\n",
        "\n",
        "#### 참고: 이 colab은 GPU 런타임으로 실행해야 합니다."
      ]
    },
    {
      "cell_type": "markdown",
      "metadata": {
        "id": "jspO02jDPfPG"
      },
      "source": [
        "## 설정 및 가져오기"
      ]
    },
    {
      "cell_type": "code",
      "execution_count": null,
      "metadata": {
        "id": "r-ed8zj-dbwm"
      },
      "outputs": [],
      "source": [
        "!pip install --quiet \"tensorflow-text==2.8.*\""
      ]
    },
    {
      "cell_type": "code",
      "execution_count": null,
      "metadata": {
        "id": "czDmtrGKYw_5"
      },
      "outputs": [],
      "source": [
        "import seaborn as sns\n",
        "from sklearn.metrics import pairwise\n",
        "\n",
        "import tensorflow as tf\n",
        "import tensorflow_hub as hub\n",
        "import tensorflow_text as text  # Imports TF ops for preprocessing."
      ]
    },
    {
      "cell_type": "code",
      "execution_count": null,
      "metadata": {
        "cellView": "form",
        "id": "GSuDcPSaY5aB"
      },
      "outputs": [],
      "source": [
        "#@title Configure the model { run: \"auto\" }\n",
        "BERT_MODEL = \"https://tfhub.dev/google/experts/bert/wiki_books/2\" # @param {type: \"string\"} [\"https://tfhub.dev/google/experts/bert/wiki_books/2\", \"https://tfhub.dev/google/experts/bert/wiki_books/mnli/2\", \"https://tfhub.dev/google/experts/bert/wiki_books/qnli/2\", \"https://tfhub.dev/google/experts/bert/wiki_books/qqp/2\", \"https://tfhub.dev/google/experts/bert/wiki_books/squad2/2\", \"https://tfhub.dev/google/experts/bert/wiki_books/sst2/2\",  \"https://tfhub.dev/google/experts/bert/pubmed/2\", \"https://tfhub.dev/google/experts/bert/pubmed/squad2/2\"]\n",
        "# Preprocessing must match the model, but all the above use the same.\n",
        "PREPROCESS_MODEL = \"https://tfhub.dev/tensorflow/bert_en_uncased_preprocess/3\""
      ]
    },
    {
      "cell_type": "markdown",
      "metadata": {
        "id": "pvaZiGVgwtqw"
      },
      "source": [
        "## 문장\n",
        "\n",
        "모델을 살펴보기 위해 Wikipedia에서 몇 가지 문장을 가져와 보겠습니다."
      ]
    },
    {
      "cell_type": "code",
      "execution_count": null,
      "metadata": {
        "id": "tytu-rSpeDNG"
      },
      "outputs": [],
      "source": [
        "sentences = [\n",
        "  \"Here We Go Then, You And I is a 1999 album by Norwegian pop artist Morten Abel. It was Abel's second CD as a solo artist.\",\n",
        "  \"The album went straight to number one on the Norwegian album chart, and sold to double platinum.\",\n",
        "  \"Among the singles released from the album were the songs \\\"Be My Lover\\\" and \\\"Hard To Stay Awake\\\".\",\n",
        "  \"Riccardo Zegna is an Italian jazz musician.\",\n",
        "  \"Rajko Maksimović is a composer, writer, and music pedagogue.\",\n",
        "  \"One of the most significant Serbian composers of our time, Maksimović has been and remains active in creating works for different ensembles.\",\n",
        "  \"Ceylon spinach is a common name for several plants and may refer to: Basella alba Talinum fruticosum\",\n",
        "  \"A solar eclipse occurs when the Moon passes between Earth and the Sun, thereby totally or partly obscuring the image of the Sun for a viewer on Earth.\",\n",
        "  \"A partial solar eclipse occurs in the polar regions of the Earth when the center of the Moon's shadow misses the Earth.\",\n",
        "]"
      ]
    },
    {
      "cell_type": "markdown",
      "metadata": {
        "id": "zI39475kxCKh"
      },
      "source": [
        "## 모델 실행하기\n",
        "\n",
        "TF-Hub에서 BERT 모델을 로드하고 TF-Hub에서 일치하는 전처리 모델을 사용하여 문장을 토큰화한 다음 토큰화된 문장을 모델에 입력시킵니다. 이 colab을 빠르고 간단하게 유지하려면 GPU에서 실행하는 것이 좋습니다.\n",
        "\n",
        "**런타임** → **런타임 유형 변경**으로 이동하여 **GPU**가 선택되었는지 확인합니다."
      ]
    },
    {
      "cell_type": "code",
      "execution_count": null,
      "metadata": {
        "id": "x4t6r22ErQg0"
      },
      "outputs": [],
      "source": [
        "preprocess = hub.load(PREPROCESS_MODEL)\n",
        "bert = hub.load(BERT_MODEL)\n",
        "inputs = preprocess(sentences)\n",
        "outputs = bert(inputs)"
      ]
    },
    {
      "cell_type": "code",
      "execution_count": null,
      "metadata": {
        "id": "gItjCg4315Cv"
      },
      "outputs": [],
      "source": [
        "print(\"Sentences:\")\n",
        "print(sentences)\n",
        "\n",
        "print(\"\\nBERT inputs:\")\n",
        "print(inputs)\n",
        "\n",
        "print(\"\\nPooled embeddings:\")\n",
        "print(outputs[\"pooled_output\"])\n",
        "\n",
        "print(\"\\nPer token embeddings:\")\n",
        "print(outputs[\"sequence_output\"])"
      ]
    },
    {
      "cell_type": "markdown",
      "metadata": {
        "id": "ptiW2mgw6x-l"
      },
      "source": [
        "## 의미론적 유사성\n",
        "\n",
        "이제 문장의 `pooled_output` 임베딩을 살펴보고 문장 전체적으로 얼마나 유사한지 비교해 보겠습니다."
      ]
    },
    {
      "cell_type": "code",
      "execution_count": null,
      "metadata": {
        "cellView": "form",
        "id": "GXrSO2Vc1Qtr"
      },
      "outputs": [],
      "source": [
        "#@title Helper functions\n",
        "\n",
        "def plot_similarity(features, labels):\n",
        "  \"\"\"Plot a similarity matrix of the embeddings.\"\"\"\n",
        "  cos_sim = pairwise.cosine_similarity(features)\n",
        "  sns.set(font_scale=1.2)\n",
        "  cbar_kws=dict(use_gridspec=False, location=\"left\")\n",
        "  g = sns.heatmap(\n",
        "      cos_sim, xticklabels=labels, yticklabels=labels,\n",
        "      vmin=0, vmax=1, cmap=\"Blues\", cbar_kws=cbar_kws)\n",
        "  g.tick_params(labelright=True, labelleft=False)\n",
        "  g.set_yticklabels(labels, rotation=0)\n",
        "  g.set_title(\"Semantic Textual Similarity\")"
      ]
    },
    {
      "cell_type": "code",
      "execution_count": null,
      "metadata": {
        "id": "td6jcT0pJMZ5"
      },
      "outputs": [],
      "source": [
        "plot_similarity(outputs[\"pooled_output\"], sentences)"
      ]
    },
    {
      "cell_type": "markdown",
      "metadata": {
        "id": "tJ4QCyzhSL7B"
      },
      "source": [
        "## 자세히 알아보기\n",
        "\n",
        "- [TensorFlow 허브](https://tfhub.dev)에서 더 많은 BERT 모델 찾기\n",
        "- 이 노트북에서는 BERT를 사용한 간단한 추론을 보여줍니다. [tensorflow.org/official_models/fine_tuning_bert](https://www.tensorflow.org/official_models/fine_tuning_bert)에서 BERT 미세 조정에 관한 보다 수준 높은 튜토리얼을 찾을 수 있습니다.\n",
        "- 모델을 실행하는 데 GPU 칩 하나만 사용했습니다. [tensorflow.org/tutorials/distribute/save_and_load](https://www.tensorflow.org/tutorials/distribute/save_and_load)에서 tf.distribute를 사용하여 모델을 로드하는 방법에 대해 자세히 알아볼 수 있습니다."
      ]
    }
  ],
  "metadata": {
    "accelerator": "GPU",
    "colab": {
      "collapsed_sections": [],
      "name": "bert_experts.ipynb",
      "toc_visible": true
    },
    "kernelspec": {
      "display_name": "Python 3",
      "name": "python3"
    }
  },
  "nbformat": 4,
  "nbformat_minor": 0
}
