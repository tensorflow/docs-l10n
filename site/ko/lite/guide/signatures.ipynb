{
  "cells": [
    {
      "cell_type": "markdown",
      "id": "g_nWetWWd_ns",
      "metadata": {
        "id": "g_nWetWWd_ns"
      },
      "source": [
        "##### Copyright 2021 The TensorFlow Authors."
      ]
    },
    {
      "cell_type": "code",
      "execution_count": null,
      "id": "2pHVBk_seED1",
      "metadata": {
        "cellView": "form",
        "id": "2pHVBk_seED1"
      },
      "outputs": [],
      "source": [
        "#@title Licensed under the Apache License, Version 2.0 (the \"License\");\n",
        "# you may not use this file except in compliance with the License.\n",
        "# You may obtain a copy of the License at\n",
        "#\n",
        "# https://www.apache.org/licenses/LICENSE-2.0\n",
        "#\n",
        "# Unless required by applicable law or agreed to in writing, software\n",
        "# distributed under the License is distributed on an \"AS IS\" BASIS,\n",
        "# WITHOUT WARRANTIES OR CONDITIONS OF ANY KIND, either express or implied.\n",
        "# See the License for the specific language governing permissions and\n",
        "# limitations under the License."
      ]
    },
    {
      "cell_type": "markdown",
      "id": "M7vSdG6sAIQn",
      "metadata": {
        "id": "M7vSdG6sAIQn"
      },
      "source": [
        "# TensorFlow Lite의 서명"
      ]
    },
    {
      "cell_type": "markdown",
      "id": "fwc5GKHBASdc",
      "metadata": {
        "id": "fwc5GKHBASdc"
      },
      "source": [
        "<table class=\"tfo-notebook-buttons\" align=\"left\">\n",
        "  <td><a target=\"_blank\" href=\"https://www.tensorflow.org/lite/guide/signatures\"><img src=\"https://www.tensorflow.org/images/tf_logo_32px.png\">TensorFlow.org에서 보기</a></td>\n",
        "  <td><a target=\"_blank\" href=\"https://colab.research.google.com/github/tensorflow/docs-l10n/blob/master/site/ko/lite/guide/signatures.ipynb\"><img src=\"https://www.tensorflow.org/images/colab_logo_32px.png\">Google Colab에서 실행</a></td>\n",
        "  <td><a target=\"_blank\" href=\"https://github.com/tensorflow/docs-l10n/blob/master/site/ko/lite/guide/signatures.ipynb\"><img src=\"https://www.tensorflow.org/images/GitHub-Mark-32px.png\">GitHub에서 소스 보기</a></td>\n",
        "  <td><a href=\"https://storage.googleapis.com/tensorflow_docs/docs-l10n/site/ko/lite/guide/signatures.ipynb\"><img src=\"https://www.tensorflow.org/images/download_logo_32px.png\">노트북 다운로드</a></td>\n",
        "</table>"
      ]
    },
    {
      "cell_type": "markdown",
      "id": "9ee074e4",
      "metadata": {
        "id": "9ee074e4"
      },
      "source": [
        "TensorFlow Lite는 TensorFlow 모델의 입력/출력 사양을 TensorFlow Lite 모델로 변환하는 것을 지원합니다. 입/출력 사양을 \"서명\"이라고 합니다. SavedModel을 구축하거나 구체적인 기능을 생성할 때 서명을 지정할 수 있습니다.\n",
        "\n",
        "TensorFlow Lite의 서명은 다음 기능을 제공합니다.\n",
        "\n",
        "- TensorFlow 모델의 서명을 적용하여 변환된 TensorFlow Lite 모델의 입력 및 출력을 지정합니다.\n",
        "- 단일 TensorFlow Lite 모델이 여러 진입점을 지원할 수 있습니다.\n",
        "\n",
        "서명은 세 부분으로 구성됩니다.\n",
        "\n",
        "- 입력: 서명의 입력 이름에서 입력 텐서로의 입력에 대한 매핑입니다.\n",
        "- 출력: 서명의 출력 이름에서 출력 텐서로의 출력 매핑을 위한 맵입니다.\n",
        "- 서명 키: 그래프의 진입점을 식별하는 이름입니다.\n"
      ]
    },
    {
      "cell_type": "markdown",
      "id": "UaWdLA3fQDK2",
      "metadata": {
        "id": "UaWdLA3fQDK2"
      },
      "source": [
        "## 설정"
      ]
    },
    {
      "cell_type": "code",
      "execution_count": null,
      "id": "9j4MGqyKQEo4",
      "metadata": {
        "id": "9j4MGqyKQEo4"
      },
      "outputs": [],
      "source": [
        "import tensorflow as tf"
      ]
    },
    {
      "cell_type": "markdown",
      "id": "FN2N6hPEP-Ay",
      "metadata": {
        "id": "FN2N6hPEP-Ay"
      },
      "source": [
        "## 예제 모델\n",
        "\n",
        "TensorFlow 모델로 인코딩 및 디코딩과 같은 두 가지 작업이 있다고 가정해 보겠습니다."
      ]
    },
    {
      "cell_type": "code",
      "execution_count": null,
      "id": "d8577c80",
      "metadata": {
        "id": "d8577c80"
      },
      "outputs": [],
      "source": [
        "class Model(tf.Module):\n",
        "\n",
        "  @tf.function(input_signature=[tf.TensorSpec(shape=[None], dtype=tf.float32)])\n",
        "  def encode(self, x):\n",
        "    result = tf.strings.as_string(x)\n",
        "    return {\n",
        "         \"encoded_result\": result\n",
        "    }\n",
        "\n",
        "  @tf.function(input_signature=[tf.TensorSpec(shape=[None], dtype=tf.string)])\n",
        "  def decode(self, x):\n",
        "    result = tf.strings.to_number(x)\n",
        "    return {\n",
        "         \"decoded_result\": result\n",
        "    }"
      ]
    },
    {
      "cell_type": "markdown",
      "id": "9c814c6e",
      "metadata": {
        "id": "9c814c6e"
      },
      "source": [
        "서명 측면에서 위의 TensorFlow 모델은 다음과 같이 요약될 수 있습니다.\n",
        "\n",
        "- 서명\n",
        "\n",
        "    - 키: 인코딩\n",
        "    - 입력: {\"x\"}\n",
        "    - 출력: {\"encoded_result\"}\n",
        "\n",
        "- 서명\n",
        "\n",
        "    - 키: 디코딩\n",
        "    - 입력: {\"x\"}\n",
        "    - 출력: {\"decoded_result\"}"
      ]
    },
    {
      "cell_type": "markdown",
      "id": "c4099f20",
      "metadata": {
        "id": "c4099f20"
      },
      "source": [
        "## 서명이 있는 모델 변환\n",
        "\n",
        "TensorFlow Lite 변환기 API는 위의 서명 정보를 변환된 TensorFlow Lite 모델로 가져옵니다.\n",
        "\n",
        "이 변환 기능은 TensorFlow 버전 2.7.0부터 모든 변환기 API에서 사용할 수 있습니다. 사용 예를 참조하세요.\n"
      ]
    },
    {
      "cell_type": "markdown",
      "id": "Qv0WwFQkQgnO",
      "metadata": {
        "id": "Qv0WwFQkQgnO"
      },
      "source": [
        "### SavedModel에서"
      ]
    },
    {
      "cell_type": "code",
      "execution_count": null,
      "id": "96c8fc79",
      "metadata": {
        "id": "96c8fc79"
      },
      "outputs": [],
      "source": [
        "model = Model()\n",
        "\n",
        "# Save the model\n",
        "SAVED_MODEL_PATH = 'content/saved_models/coding'\n",
        "\n",
        "tf.saved_model.save(\n",
        "    model, SAVED_MODEL_PATH,\n",
        "    signatures={\n",
        "      'encode': model.encode.get_concrete_function(),\n",
        "      'decode': model.decode.get_concrete_function()\n",
        "    })\n",
        "\n",
        "# Convert the saved model using TFLiteConverter\n",
        "converter = tf.lite.TFLiteConverter.from_saved_model(SAVED_MODEL_PATH)\n",
        "converter.target_spec.supported_ops = [\n",
        "    tf.lite.OpsSet.TFLITE_BUILTINS,  # enable TensorFlow Lite ops.\n",
        "    tf.lite.OpsSet.SELECT_TF_OPS  # enable TensorFlow ops.\n",
        "]\n",
        "tflite_model = converter.convert()\n",
        "\n",
        "# Print the signatures from the converted model\n",
        "interpreter = tf.lite.Interpreter(model_content=tflite_model)\n",
        "signatures = interpreter.get_signature_list()\n",
        "print(signatures)"
      ]
    },
    {
      "cell_type": "markdown",
      "id": "5baa9f17",
      "metadata": {
        "id": "5baa9f17"
      },
      "source": [
        "### Keras 모델에서"
      ]
    },
    {
      "cell_type": "code",
      "execution_count": null,
      "id": "71f29229",
      "metadata": {
        "id": "71f29229"
      },
      "outputs": [],
      "source": [
        "# Generate a Keras model.\n",
        "keras_model = tf.keras.Sequential(\n",
        "    [\n",
        "        tf.keras.layers.Dense(2, input_dim=4, activation='relu', name='x'),\n",
        "        tf.keras.layers.Dense(1, activation='relu', name='output'),\n",
        "    ]\n",
        ")\n",
        "\n",
        "# Convert the keras model using TFLiteConverter.\n",
        "# Keras model converter API uses the default signature automatically.\n",
        "converter = tf.lite.TFLiteConverter.from_keras_model(keras_model)\n",
        "tflite_model = converter.convert()\n",
        "\n",
        "# Print the signatures from the converted model\n",
        "interpreter = tf.lite.Interpreter(model_content=tflite_model)\n",
        "\n",
        "signatures = interpreter.get_signature_list()\n",
        "print(signatures)"
      ]
    },
    {
      "cell_type": "markdown",
      "id": "e4d30f85",
      "metadata": {
        "id": "e4d30f85"
      },
      "source": [
        "### 구체적인 기능에서"
      ]
    },
    {
      "cell_type": "code",
      "execution_count": null,
      "id": "c9e8a742",
      "metadata": {
        "id": "c9e8a742"
      },
      "outputs": [],
      "source": [
        "model = Model()\n",
        "\n",
        "# Convert the concrete functions using TFLiteConverter\n",
        "converter = tf.lite.TFLiteConverter.from_concrete_functions(\n",
        "    [model.encode.get_concrete_function(),\n",
        "     model.decode.get_concrete_function()], model)\n",
        "converter.target_spec.supported_ops = [\n",
        "    tf.lite.OpsSet.TFLITE_BUILTINS,  # enable TensorFlow Lite ops.\n",
        "    tf.lite.OpsSet.SELECT_TF_OPS  # enable TensorFlow ops.\n",
        "]\n",
        "tflite_model = converter.convert()\n",
        "\n",
        "# Print the signatures from the converted model\n",
        "interpreter = tf.lite.Interpreter(model_content=tflite_model)\n",
        "signatures = interpreter.get_signature_list()\n",
        "print(signatures)"
      ]
    },
    {
      "cell_type": "markdown",
      "id": "b5e85934",
      "metadata": {
        "id": "b5e85934"
      },
      "source": [
        "## 서명 실행\n",
        "\n",
        "TensorFlow 추론 API는 서명 기반 실행을 지원합니다.\n",
        "\n",
        "- 서명으로 지정된 입력 및 출력 이름을 통해 입력/출력 텐서에 액세스합니다.\n",
        "- 서명 키로 식별되는 그래프의 각 진입점을 별도로 실행합니다.\n",
        "- SavedModel의 초기화 절차를 지원합니다.\n",
        "\n",
        "Java, C++ 및 Python 언어 바인딩을 현재 사용할 수 있습니다. 아래 섹션의 예를 참조하세요.\n"
      ]
    },
    {
      "cell_type": "markdown",
      "id": "ZRBMFciMQmiB",
      "metadata": {
        "id": "ZRBMFciMQmiB"
      },
      "source": [
        "### Java"
      ]
    },
    {
      "cell_type": "markdown",
      "id": "04c5a4fc",
      "metadata": {
        "id": "04c5a4fc"
      },
      "source": [
        "```\n",
        "try (Interpreter interpreter = new Interpreter(file_of_tensorflowlite_model)) {\n",
        "  // Run encoding signature.\n",
        "  Map&lt;String, Object&gt; inputs = new HashMap&lt;&gt;();\n",
        "  inputs.put(\"x\", input);\n",
        "  Map&lt;String, Object&gt; outputs = new HashMap&lt;&gt;();\n",
        "  outputs.put(\"encoded_result\", encoded_result);\n",
        "  interpreter.runSignature(inputs, outputs, \"encode\");\n",
        "\n",
        "  // Run decoding signature.\n",
        "  Map&lt;String, Object&gt; inputs = new HashMap&lt;&gt;();\n",
        "  inputs.put(\"x\", encoded_result);\n",
        "  Map&lt;String, Object&gt; outputs = new HashMap&lt;&gt;();\n",
        "  outputs.put(\"decoded_result\", decoded_result);\n",
        "  interpreter.runSignature(inputs, outputs, \"decode\");\n",
        "}\n",
        "```"
      ]
    },
    {
      "cell_type": "markdown",
      "id": "5ba86c64",
      "metadata": {
        "id": "5ba86c64"
      },
      "source": [
        "### C++"
      ]
    },
    {
      "cell_type": "markdown",
      "id": "397ad6fd",
      "metadata": {
        "id": "397ad6fd"
      },
      "source": [
        "```\n",
        "SignatureRunner* encode_runner =\n",
        "    interpreter-&gt;GetSignatureRunner(\"encode\");\n",
        "encode_runner-&gt;ResizeInputTensor(\"x\", {100});\n",
        "encode_runner-&gt;AllocateTensors();\n",
        "\n",
        "TfLiteTensor* input_tensor = encode_runner-&gt;input_tensor(\"x\");\n",
        "float* input = input_tensor-&gt;data.f;\n",
        "// Fill `input`.\n",
        "\n",
        "encode_runner-&gt;Invoke();\n",
        "\n",
        "const TfLiteTensor* output_tensor = encode_runner-&gt;output_tensor(\n",
        "    \"encoded_result\");\n",
        "float* output = output_tensor-&gt;data.f;\n",
        "// Access `output`.\n",
        "```"
      ]
    },
    {
      "cell_type": "markdown",
      "id": "0f4c6ad4",
      "metadata": {
        "id": "0f4c6ad4"
      },
      "source": [
        "### Python"
      ]
    },
    {
      "cell_type": "code",
      "execution_count": null,
      "id": "ab7b1963",
      "metadata": {
        "id": "ab7b1963"
      },
      "outputs": [],
      "source": [
        "# Load the TFLite model in TFLite Interpreter\n",
        "interpreter = tf.lite.Interpreter(model_content=tflite_model)\n",
        "\n",
        "# Print the signatures from the converted model\n",
        "signatures = interpreter.get_signature_list()\n",
        "print('Signature:', signatures)\n",
        "\n",
        "# encode and decode are callable with input as arguments.\n",
        "encode = interpreter.get_signature_runner('encode')\n",
        "decode = interpreter.get_signature_runner('decode')\n",
        "\n",
        "# 'encoded' and 'decoded' are dictionaries with all outputs from the inference.\n",
        "input = tf.constant([1, 2, 3], dtype=tf.float32)\n",
        "print('Input:', input)\n",
        "encoded = encode(x=input)\n",
        "print('Encoded result:', encoded)\n",
        "decoded = decode(x=encoded['encoded_result'])\n",
        "print('Decoded result:', decoded)"
      ]
    },
    {
      "cell_type": "markdown",
      "id": "81b42e5b",
      "metadata": {
        "id": "81b42e5b"
      },
      "source": [
        "## 알려진 제한 사항\n",
        "\n",
        "- TFLite 인터프리터는 스레드 안전을 보장하지 않으므로 동일한 인터프리터의 서명 실행자는 동시에 실행되지 않습니다.\n",
        "- C/iOS/Swift에 대한 지원은 아직 제공되지 않습니다.\n"
      ]
    },
    {
      "cell_type": "markdown",
      "id": "3032Iof6QqmJ",
      "metadata": {
        "id": "3032Iof6QqmJ"
      },
      "source": [
        "## 업데이트\n",
        "\n",
        "- 버전 2.7\n",
        "    - 다중 서명 기능이 구현됩니다.\n",
        "    - 버전 2의 모든 변환기 API는 서명이 지원되는 TensorFlow Lite 모델을 생성합니다.\n",
        "- 버전 2.5\n",
        "    - 서명 기능은 `from_saved_model` 변환기 API를 통해 사용할 수 있습니다."
      ]
    }
  ],
  "metadata": {
    "colab": {
      "collapsed_sections": [],
      "name": "signatures.ipynb",
      "toc_visible": true
    },
    "kernelspec": {
      "display_name": "Python 3",
      "name": "python3"
    }
  },
  "nbformat": 4,
  "nbformat_minor": 0
}
