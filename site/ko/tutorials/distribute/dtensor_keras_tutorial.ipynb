{
  "cells": [
    {
      "cell_type": "markdown",
      "metadata": {
        "id": "Tce3stUlHN0L"
      },
      "source": [
        "##### Copyright 2019 The TensorFlow Authors.\n"
      ]
    },
    {
      "cell_type": "code",
      "execution_count": null,
      "metadata": {
        "cellView": "form",
        "id": "tuOe1ymfHZPu"
      },
      "outputs": [],
      "source": [
        "#@title Licensed under the Apache License, Version 2.0 (the \"License\");\n",
        "# you may not use this file except in compliance with the License.\n",
        "# You may obtain a copy of the License at\n",
        "#\n",
        "# https://www.apache.org/licenses/LICENSE-2.0\n",
        "#\n",
        "# Unless required by applicable law or agreed to in writing, software\n",
        "# distributed under the License is distributed on an \"AS IS\" BASIS,\n",
        "# WITHOUT WARRANTIES OR CONDITIONS OF ANY KIND, either express or implied.\n",
        "# See the License for the specific language governing permissions and\n",
        "# limitations under the License."
      ]
    },
    {
      "cell_type": "markdown",
      "metadata": {
        "id": "MT-LkFOl2axM"
      },
      "source": [
        "# Keras와 함께 DTensor 사용"
      ]
    },
    {
      "cell_type": "markdown",
      "metadata": {
        "id": "r6P32iYYV27b"
      },
      "source": [
        "<table class=\"tfo-notebook-buttons\" align=\"left\">\n",
        "  <td><a target=\"_blank\" href=\"https://www.tensorflow.org/tutorials/distribute/dtensor_keras_tutorial\"><img src=\"https://www.tensorflow.org/images/tf_logo_32px.png\">TensorFlow.org에서 보기</a></td>\n",
        "  <td><a target=\"_blank\" href=\"https://colab.research.google.com/github/tensorflow/docs-l10n/blob/master/site/ko/tutorials/distribute/dtensor_keras_tutorial.ipynb\"><img src=\"https://www.tensorflow.org/images/colab_logo_32px.png\">Google Colab에서 실행하기</a></td>\n",
        "  <td><a target=\"_blank\" href=\"https://github.com/tensorflow/docs-l10n/blob/master/site/ko/tutorials/distribute/dtensor_keras_tutorial.ipynb\"><img src=\"https://www.tensorflow.org/images/GitHub-Mark-32px.png\">GitHub에서 소스 보기</a></td>\n",
        "  <td><a href=\"https://storage.googleapis.com/tensorflow_docs/docs-l10n/site/ko/tutorials/distribute/dtensor_keras_tutorial.ipynb\"><img src=\"https://www.tensorflow.org/images/download_logo_32px.png\">노트북 다운로드하기</a></td>\n",
        "</table>"
      ]
    },
    {
      "cell_type": "markdown",
      "metadata": {
        "id": "vTe9dcbUAwqx"
      },
      "source": [
        "## 개요\n",
        "\n",
        "이 튜토리얼에서는 Keras와 함께 DTensor를 사용하는 방법을 배웁니다.\n",
        "\n",
        "Keras와 DTensor의 통합을 통해 기존 Keras 레이어와 모델을 재사용하여 분산 머신 러닝 모델을 구축하고 훈련할 수 있습니다.\n",
        "\n",
        "MNIST 데이터로 다중 레이어 분류 모델을 훈련합니다. 하위 클래스화 모델, 순차형 모델, 함수형 모델에 대한 레이아웃 설정에 대해 설명합니다.\n",
        "\n",
        "이 튜토리얼은 여러분이 이미 [DTensor 프로그래밍 가이드](/guide/dtensor_overview)를 읽었고 `Mesh` 및 `Layout`과 같은 기본 DTensor 개념에 익숙하다고 가정합니다.\n",
        "\n",
        "이 튜토리얼은 https://www.tensorflow.org/datasets/keras_example을 기반으로 합니다."
      ]
    },
    {
      "cell_type": "markdown",
      "metadata": {
        "id": "keIyP3IoA1o4"
      },
      "source": [
        "## 설정\n",
        "\n",
        "DTensor는 TensorFlow 2.9.0 릴리스의 일부입니다."
      ]
    },
    {
      "cell_type": "code",
      "execution_count": null,
      "metadata": {
        "id": "4dHik7NYA5vm"
      },
      "outputs": [],
      "source": [
        "!pip install --quiet --upgrade --pre tensorflow tensorflow-datasets"
      ]
    },
    {
      "cell_type": "markdown",
      "metadata": {
        "id": "VttBMZngDx8x"
      },
      "source": [
        "다음으로 `tensorflow` 및 `tensorflow.experimental.dtensor`를 가져오고 8개의 가상 CPU를 사용하도록 TensorFlow를 구성합니다.\n",
        "\n",
        "이 예제에서는 CPU를 사용하지만 DTensor는 CPU, GPU 또는 TPU 장치에서 동일한 방식으로 작동합니다."
      ]
    },
    {
      "cell_type": "code",
      "execution_count": null,
      "metadata": {
        "id": "CodX6idGBGSm"
      },
      "outputs": [],
      "source": [
        "import tensorflow as tf\n",
        "import tensorflow_datasets as tfds\n",
        "from tensorflow.experimental import dtensor"
      ]
    },
    {
      "cell_type": "code",
      "execution_count": null,
      "metadata": {
        "id": "aAtvrpasDpDD"
      },
      "outputs": [],
      "source": [
        "def configure_virtual_cpus(ncpu):\n",
        "  phy_devices = tf.config.list_physical_devices('CPU')\n",
        "  tf.config.set_logical_device_configuration(\n",
        "        phy_devices[0], \n",
        "        [tf.config.LogicalDeviceConfiguration()] * ncpu)\n",
        "  \n",
        "configure_virtual_cpus(8)\n",
        "tf.config.list_logical_devices('CPU')\n",
        "\n",
        "devices = [f'CPU:{i}' for i in range(8)]"
      ]
    },
    {
      "cell_type": "markdown",
      "metadata": {
        "id": "ogULE1OHtyd9"
      },
      "source": [
        "## 결정성 있는 의사 난수 생성기\n",
        "\n",
        "한 가지 주의해야 할 점은 DTensor API에서 실행 중인 각 클라이언트가 동일한 임의의 시드를 갖도록 요구하므로 가중치 초기화에 대한 동작이 결정성 있게 작동할 수 있다는 것입니다. 이를 위해 `tf.keras.utils.set_random_seed()`를 통해 keras에 전역 시드를 설정할 수 있습니다."
      ]
    },
    {
      "cell_type": "code",
      "execution_count": null,
      "metadata": {
        "id": "9u85YypguL8N"
      },
      "outputs": [],
      "source": [
        "tf.keras.backend.experimental.enable_tf_random_generator()\n",
        "tf.keras.utils.set_random_seed(1337)"
      ]
    },
    {
      "cell_type": "markdown",
      "metadata": {
        "id": "tO11XvPDAu3_"
      },
      "source": [
        "## 데이터 병렬 메쉬 생성하기\n",
        "\n",
        "이 튜토리얼은 데이터 병렬 훈련을 보여줍니다. 모델 병렬 훈련 및 공간 병렬 훈련에 맞게 조정하려면 다른 `Layout` 객체 집합으로 전환하기만 하면 됩니다. 데이터 병렬 이외의 분산 훈련에 대한 자세한 내용은 [DTensor 심층 ML 튜토리얼](https://www.tensorflow.org/tutorials/distribute/dtensor_ml_tutorial)을 참조하세요.\n",
        "\n",
        "데이터 병렬 훈련은 일반적으로 사용되는 병렬 훈련 방식이며 예를 들어 `tf.distribute.MirroredStrategy`에서도 사용됩니다.\n",
        "\n",
        "DTensor를 사용하면 데이터 병렬 훈련 루프가 단일 '배치' 차원으로 구성된 `Mesh`를 사용합니다. 여기서 각 장치는 전역 배치에서 샤드를 수신하는 모델의 복제본을 실행합니다.\n"
      ]
    },
    {
      "cell_type": "code",
      "execution_count": null,
      "metadata": {
        "id": "6sT6s6z4j9H-"
      },
      "outputs": [],
      "source": [
        "mesh = dtensor.create_mesh([(\"batch\", 8)], devices=devices)"
      ]
    },
    {
      "cell_type": "markdown",
      "metadata": {
        "id": "rouFcF6FE0aF"
      },
      "source": [
        "각 장치가 모델의 전체 복제본을 실행할 때 모델 변수는 메쉬 전체에 완전히 복제되어야 합니다(샤딩되지 않음). 예를 들어 이 `Mesh`의 랭크 2 가중치에 대해 완전히 복제된 레이아웃은 다음과 같습니다."
      ]
    },
    {
      "cell_type": "code",
      "execution_count": null,
      "metadata": {
        "id": "U8OxvkDKE1Nu"
      },
      "outputs": [],
      "source": [
        "example_weight_layout = dtensor.Layout([dtensor.UNSHARDED, dtensor.UNSHARDED], mesh)  # or\n",
        "example_weight_layout = dtensor.Layout.replicated(mesh, rank=2)"
      ]
    },
    {
      "cell_type": "markdown",
      "metadata": {
        "id": "6Bnic98RE0xi"
      },
      "source": [
        "이 `Mesh`의 랭크 2 데이터 텐서에 대한 레이아웃은 첫 번째 차원을 따라 샤딩됩니다(때로 `batch_sharded`라고도 함)."
      ]
    },
    {
      "cell_type": "code",
      "execution_count": null,
      "metadata": {
        "id": "PhYp0EKBFfxt"
      },
      "outputs": [],
      "source": [
        "example_data_layout = dtensor.Layout(['batch', dtensor.UNSHARDED], mesh)  # or\n",
        "example_data_layout = dtensor.Layout.batch_sharded(mesh, 'batch', rank=2)"
      ]
    },
    {
      "cell_type": "markdown",
      "metadata": {
        "id": "4U-6n0DericV"
      },
      "source": [
        "## 레이아웃으로 Keras 레이어 생성하기\n",
        "\n",
        "데이터 병렬 방식에서는 일반적으로 모델의 각 복제본이 샤딩된 입력 데이터로 계산을 수행할 수 있도록 완전히 복제된 레이아웃으로 모델 가중치를 생성합니다.\n",
        "\n",
        "레이어 가중치에 대한 레이아웃 정보를 구성하기 위해 Keras는 대부분의 내장 레이어에 대해 레이어 생성자에 추가 매개변수를 노출했습니다.\n",
        "\n",
        "다음 예제는 완전히 복제된 가중치 레이아웃으로 작은 이미지 분류 모델을 빌드합니다. `kernel_layout` 및 `bias_layout` 인수를 통해 `tf.keras.layers.Dense`에서 `kernel` 및 `bias`의 레이아웃 정보를 지정할 수 있습니다. 대부분의 내장 Keras 레이어는 레이어 가중치에 대한 `Layout`을 명시적으로 지정할 준비가 되어 있습니다."
      ]
    },
    {
      "cell_type": "code",
      "execution_count": null,
      "metadata": {
        "id": "Koc5GlA1tFXY"
      },
      "outputs": [],
      "source": [
        "unsharded_layout_2d = dtensor.Layout.replicated(mesh, 2)\n",
        "unsharded_layout_1d = dtensor.Layout.replicated(mesh, 1)"
      ]
    },
    {
      "cell_type": "code",
      "execution_count": null,
      "metadata": {
        "id": "GfOGTIxGs5Ql"
      },
      "outputs": [],
      "source": [
        "model = tf.keras.models.Sequential([\n",
        "  tf.keras.layers.Flatten(input_shape=(28, 28)),\n",
        "  tf.keras.layers.Dense(128, \n",
        "                        activation='relu',\n",
        "                        name='d1',\n",
        "                        kernel_layout=unsharded_layout_2d, \n",
        "                        bias_layout=unsharded_layout_1d),\n",
        "  tf.keras.layers.Dense(10,\n",
        "                        name='d2',\n",
        "                        kernel_layout=unsharded_layout_2d, \n",
        "                        bias_layout=unsharded_layout_1d)\n",
        "])"
      ]
    },
    {
      "cell_type": "markdown",
      "metadata": {
        "id": "0frf3jsVtx_n"
      },
      "source": [
        "가중치의 `layout` 속성을 확인하여 레이아웃 정보를 확인할 수 있습니다."
      ]
    },
    {
      "cell_type": "code",
      "execution_count": null,
      "metadata": {
        "id": "Z_nqv_VdwcXo"
      },
      "outputs": [],
      "source": [
        "for weight in model.weights:\n",
        "  print(f'Weight name: {weight.name} with layout: {weight.layout}')\n",
        "  break"
      ]
    },
    {
      "cell_type": "markdown",
      "metadata": {
        "id": "6FMGB-QsxPtU"
      },
      "source": [
        "## 데이터세트 로드 및 입력 파이프라인 구축하기\n",
        "\n",
        "MNIST 데이터세트를 로드하고 이에 대한 일부 전처리 입력 파이프라인을 구성합니다. 데이터세트 자체는 DTensor 레이아웃 정보와 연결되어 있지 않습니다. 향후 TensorFlow 릴리스에서 `tf.data`와 DTensor Keras의 통합을 개선할 계획이 있습니다.\n"
      ]
    },
    {
      "cell_type": "code",
      "execution_count": null,
      "metadata": {
        "id": "zGt4kwltxOt4"
      },
      "outputs": [],
      "source": [
        "(ds_train, ds_test), ds_info = tfds.load(\n",
        "    'mnist',\n",
        "    split=['train', 'test'],\n",
        "    shuffle_files=True,\n",
        "    as_supervised=True,\n",
        "    with_info=True,\n",
        ")"
      ]
    },
    {
      "cell_type": "code",
      "execution_count": null,
      "metadata": {
        "id": "HkUaOB_ryaLH"
      },
      "outputs": [],
      "source": [
        "def normalize_img(image, label):\n",
        "  \"\"\"Normalizes images: `uint8` -> `float32`.\"\"\"\n",
        "  return tf.cast(image, tf.float32) / 255., label"
      ]
    },
    {
      "cell_type": "code",
      "execution_count": null,
      "metadata": {
        "id": "Efm2H1iqydan"
      },
      "outputs": [],
      "source": [
        "batch_size = 128\n",
        "\n",
        "ds_train = ds_train.map(\n",
        "    normalize_img, num_parallel_calls=tf.data.AUTOTUNE)\n",
        "ds_train = ds_train.cache()\n",
        "ds_train = ds_train.shuffle(ds_info.splits['train'].num_examples)\n",
        "ds_train = ds_train.batch(batch_size)\n",
        "ds_train = ds_train.prefetch(tf.data.AUTOTUNE)"
      ]
    },
    {
      "cell_type": "code",
      "execution_count": null,
      "metadata": {
        "id": "Lcrg6QAtyis4"
      },
      "outputs": [],
      "source": [
        "ds_test = ds_test.map(\n",
        "    normalize_img, num_parallel_calls=tf.data.AUTOTUNE)\n",
        "ds_test = ds_test.batch(batch_size)\n",
        "ds_test = ds_test.cache()\n",
        "ds_test = ds_test.prefetch(tf.data.AUTOTUNE)"
      ]
    },
    {
      "cell_type": "markdown",
      "metadata": {
        "id": "fHEZwib7lhqn"
      },
      "source": [
        "## 모델에 대한 훈련 로직 정의하기\n",
        "\n",
        "다음으로 모델에 대한 훈련 및 평가 로직을 정의합니다.\n",
        "\n",
        "TensorFlow 2.9부터 DTensor 지원 Keras 모델에 대한 사용자 정의 훈련 루프를 작성해야 합니다. 이것은 Keras의 표준 `tf.keras.Model.fit()` 또는 `tf.keras.Model.eval()` 함수와 통합되지 않은 적절한 레이아웃 정보로 입력 데이터를 패킹하기 위한 것입니다. 향후 릴리스에서는 더 많은 `tf.data` 지원이 제공될 예정입니다. "
      ]
    },
    {
      "cell_type": "code",
      "execution_count": null,
      "metadata": {
        "id": "CAx11gMjzzjs"
      },
      "outputs": [],
      "source": [
        "@tf.function\n",
        "def train_step(model, x, y, optimizer, metrics):\n",
        "  with tf.GradientTape() as tape:\n",
        "    logits = model(x, training=True)\n",
        "    # tf.reduce_sum sums the batch sharded per-example loss to a replicated\n",
        "    # global loss (scalar).\n",
        "    loss = tf.reduce_sum(tf.keras.losses.sparse_categorical_crossentropy(\n",
        "        y, logits, from_logits=True))\n",
        "    \n",
        "  gradients = tape.gradient(loss, model.trainable_variables)\n",
        "  optimizer.apply_gradients(zip(gradients, model.trainable_variables))\n",
        "\n",
        "  for metric in metrics.values():\n",
        "    metric.update_state(y_true=y, y_pred=logits)\n",
        "\n",
        "  loss_per_sample = loss / len(x)\n",
        "  results = {'loss': loss_per_sample}\n",
        "  return results"
      ]
    },
    {
      "cell_type": "code",
      "execution_count": null,
      "metadata": {
        "id": "maSTWeRemO0P"
      },
      "outputs": [],
      "source": [
        "@tf.function\n",
        "def eval_step(model, x, y, metrics):\n",
        "  logits = model(x, training=False)\n",
        "  loss = tf.reduce_sum(tf.keras.losses.sparse_categorical_crossentropy(\n",
        "        y, logits, from_logits=True))\n",
        "\n",
        "  for metric in metrics.values():\n",
        "    metric.update_state(y_true=y, y_pred=logits)\n",
        "\n",
        "  loss_per_sample = loss / len(x)\n",
        "  results = {'eval_loss': loss_per_sample}\n",
        "  return results"
      ]
    },
    {
      "cell_type": "code",
      "execution_count": null,
      "metadata": {
        "id": "dt00axcLmvLr"
      },
      "outputs": [],
      "source": [
        "def pack_dtensor_inputs(images, labels, image_layout, label_layout):\n",
        "  num_local_devices = image_layout.mesh.num_local_devices()\n",
        "  images = tf.split(images, num_local_devices)\n",
        "  labels = tf.split(labels, num_local_devices)\n",
        "  images = dtensor.pack(images, image_layout)\n",
        "  labels = dtensor.pack(labels, label_layout)\n",
        "  return  images, labels"
      ]
    },
    {
      "cell_type": "markdown",
      "metadata": {
        "id": "9Eb-qIJGrxB9"
      },
      "source": [
        "## 메트릭 및 옵티마이저\n",
        "\n",
        "Keras `Metric` 및 `Optimizer`와 함께 DTensor API를 사용할 때 내부 상태 변수와 텐서가 모델의 변수와 함께 작동할 수 있도록 추가 메쉬 정보를 제공해야 합니다.\n",
        "\n",
        "- 옵티마이저를 위해 DTensor는 새로운 실험적 네임스페이스인 `keras.dtensor.experimental.optimizers`를 도입했습니다. 여기서 기존의 많은 Keras 옵티마이저가 추가 `mesh` 인수를 받도록 확장됩니다. 향후 릴리스에서는 Keras 코어 옵티마이저와 병합될 수 있습니다.\n",
        "\n",
        "- 메트릭의 경우 생성자에 대한 `mesh`를 인수로 직접 지정하여 DTensor 호환 `Metric`으로 만들 수 있습니다."
      ]
    },
    {
      "cell_type": "code",
      "execution_count": null,
      "metadata": {
        "id": "1lu_0mz1sxrl"
      },
      "outputs": [],
      "source": [
        "optimizer = tf.keras.dtensor.experimental.optimizers.Adam(0.01, mesh=mesh)\n",
        "metrics = {'accuracy': tf.keras.metrics.SparseCategoricalAccuracy(mesh=mesh)}\n",
        "eval_metrics = {'eval_accuracy': tf.keras.metrics.SparseCategoricalAccuracy(mesh=mesh)}"
      ]
    },
    {
      "cell_type": "markdown",
      "metadata": {
        "id": "QzufrkistELx"
      },
      "source": [
        "## 모델 훈련하기\n",
        "\n",
        "다음 예제는 배치 차원에서 입력 파이프라인의 데이터를 샤딩하고 완전히 복제된 가중치가 있는 모델로 훈련합니다.\n",
        "\n",
        "3개의 epoch에서 모델은 약 97%의 정확도를 달성해야 합니다."
      ]
    },
    {
      "cell_type": "code",
      "execution_count": null,
      "metadata": {
        "id": "kZW568Dk0vvL"
      },
      "outputs": [],
      "source": [
        "num_epochs = 3\n",
        "\n",
        "image_layout = dtensor.Layout.batch_sharded(mesh, 'batch', rank=4)\n",
        "label_layout = dtensor.Layout.batch_sharded(mesh, 'batch', rank=1)\n",
        "\n",
        "for epoch in range(num_epochs):\n",
        "  print(\"============================\") \n",
        "  print(\"Epoch: \", epoch)\n",
        "  for metric in metrics.values():\n",
        "    metric.reset_state()\n",
        "  step = 0\n",
        "  results = {}\n",
        "  pbar = tf.keras.utils.Progbar(target=None, stateful_metrics=[])\n",
        "  for input in ds_train:\n",
        "    images, labels = input[0], input[1]\n",
        "    images, labels = pack_dtensor_inputs(\n",
        "        images, labels, image_layout, label_layout)\n",
        "\n",
        "    results.update(train_step(model, images, labels, optimizer, metrics))\n",
        "    for metric_name, metric in metrics.items():\n",
        "      results[metric_name] = metric.result()\n",
        "\n",
        "    pbar.update(step, values=results.items(), finalize=False)\n",
        "    step += 1\n",
        "  pbar.update(step, values=results.items(), finalize=True)\n",
        "\n",
        "  for metric in eval_metrics.values():\n",
        "    metric.reset_state()\n",
        "  for input in ds_test:\n",
        "    images, labels = input[0], input[1]\n",
        "    images, labels = pack_dtensor_inputs(\n",
        "        images, labels, image_layout, label_layout)\n",
        "    results.update(eval_step(model, images, labels, eval_metrics))\n",
        "\n",
        "  for metric_name, metric in eval_metrics.items():\n",
        "    results[metric_name] = metric.result()\n",
        "  \n",
        "  for metric_name, metric in results.items():\n",
        "    print(f\"{metric_name}: {metric.numpy()}\")\n"
      ]
    },
    {
      "cell_type": "markdown",
      "metadata": {
        "id": "HYEXF6qCuoSr"
      },
      "source": [
        "## 기존 모델 코드에 대한 레이아웃 지정하기\n",
        "\n",
        "사용 사례에 잘 맞는 모델이 있는 경우가 많습니다. 모델 내의 각 개별 레이어에 `Layout` 정보를 지정하려면 많은 편집이 요구되므로 과중한 작업이 될 것입니다.\n",
        "\n",
        "기존 Keras 모델을 DTensor API와 작동하도록 쉽게 변환할 수 있도록 새로운 `dtensor.LayoutMap` API를 사용하여 전역 관점에서 `Layout`을 지정할 수 있습니다.\n",
        "\n",
        "먼저, 모델 가중치에 대해 지정하려는 모든 `Layout`을 포함하는 사전과 같은 객체인 `LayoutMap` 인스턴스를 만들어야 합니다.\n",
        "\n",
        "`LayoutMap`은 초기화 시 `Mesh` 인스턴스가 필요하며, 이는 레이아웃이 구성되지 않은 모든 가중치에 대해 기본 복제 `Layout`을 제공하는 데 사용할 수 있습니다. 모든 모델 가중치를 완전히 복제하려는 경우 빈 `LayoutMap`을 제공하면 됩니다. 그러면 기본 메쉬가 복제된 `Layout`을 생성하는 데 사용됩니다.\n",
        "\n",
        "`LayoutMap`은 문자열을 키로 사용하고 `Layout`을 값으로 사용합니다. 일반 Python dict와 이 클래스 사이에는 동작의 차이가 있습니다. 문자열 키는 값을 검색할 때 정규식으로 처리됩니다."
      ]
    },
    {
      "cell_type": "markdown",
      "metadata": {
        "id": "SCq5Nl-UP_dS"
      },
      "source": [
        "### 하위 클래스화된 모델\n",
        "\n",
        "Keras 하위 클래스화 모델 구문을 사용하여 정의된 다음 모델을 생각해 보세요."
      ]
    },
    {
      "cell_type": "code",
      "execution_count": null,
      "metadata": {
        "id": "LZ0hRFs8unu0"
      },
      "outputs": [],
      "source": [
        "class SubclassedModel(tf.keras.Model):\n",
        "\n",
        "  def __init__(self, name=None):\n",
        "    super().__init__(name=name)\n",
        "    self.feature = tf.keras.layers.Dense(16)\n",
        "    self.feature_2 = tf.keras.layers.Dense(24)\n",
        "    self.dropout = tf.keras.layers.Dropout(0.1)\n",
        "\n",
        "  def call(self, inputs, training=None):\n",
        "    x = self.feature(inputs)\n",
        "    x = self.dropout(x, training=training)\n",
        "    return self.feature_2(x)"
      ]
    },
    {
      "cell_type": "markdown",
      "metadata": {
        "id": "1njxqPB-yS97"
      },
      "source": [
        "이 모델에는 두 개의 `Dense` 레이어에 대한 `kernel` 및 `bias`인 4개의 가중치가 있습니다. 각각은 객체 경로를 기반으로 매핑됩니다.\n",
        "\n",
        "- `model.feature.kernel`\n",
        "- `model.feature.bias`\n",
        "- `model.feature_2.kernel`\n",
        "- `model.feature_2.bias`\n",
        "\n",
        "참고: 하위 클래스화된 모델의 경우 레이어의 `.name` 속성이 아닌 속성 이름이 매핑에서 레이아웃을 검색하는 키로 사용됩니다. 이것은 `tf.Module` 체크포인트가 따르는 규칙과 일치합니다. 여러 레이어가 있는 복잡한 모델의 경우 [체크포인트를 수동으로 검사](https://www.tensorflow.org/guide/checkpoint#manually_inspecting_checkpoints)하여 속성 매핑을 볼 수 있습니다.\n",
        "\n",
        "이제 다음 `LayoutMap`을 정의하고 모델에 적용합니다."
      ]
    },
    {
      "cell_type": "code",
      "execution_count": null,
      "metadata": {
        "id": "goVX6iIZw468"
      },
      "outputs": [],
      "source": [
        "layout_map = tf.keras.dtensor.experimental.LayoutMap(mesh=mesh)\n",
        "\n",
        "layout_map['feature.*kernel'] = dtensor.Layout.batch_sharded(mesh, 'batch', rank=2)\n",
        "layout_map['feature.*bias'] = dtensor.Layout.batch_sharded(mesh, 'batch', rank=1)\n",
        "\n",
        "with tf.keras.dtensor.experimental.layout_map_scope(layout_map):\n",
        "  subclassed_model = SubclassedModel()"
      ]
    },
    {
      "cell_type": "markdown",
      "metadata": {
        "id": "M32HcSp_PyWs"
      },
      "source": [
        "모델 가중치는 첫 번째 호출에서 생성되므로 DTensor 입력으로 모델을 호출하고 가중치에 예상 레이아웃이 있는지 확인합니다."
      ]
    },
    {
      "cell_type": "code",
      "execution_count": null,
      "metadata": {
        "id": "c3CbD9l7qUNq"
      },
      "outputs": [],
      "source": [
        "dtensor_input = dtensor.copy_to_mesh(tf.zeros((16, 16)), layout=unsharded_layout_2d)\n",
        "# Trigger the weights creation for subclass model\n",
        "subclassed_model(dtensor_input)\n",
        "\n",
        "print(subclassed_model.feature.kernel.layout)"
      ]
    },
    {
      "cell_type": "markdown",
      "metadata": {
        "id": "ZyCnfd-4Q2jk"
      },
      "source": [
        "이를 통해 기존 코드를 업데이트하지 않고도 `Layout`을 모델에 빠르게 매핑할 수 있습니다. "
      ]
    },
    {
      "cell_type": "markdown",
      "metadata": {
        "id": "6GliUdWTQnKC"
      },
      "source": [
        "### 순차 및 기능 모델"
      ]
    },
    {
      "cell_type": "markdown",
      "metadata": {
        "id": "6zzvTqAR2Teu"
      },
      "source": [
        "Keras 기능 및 순차 모델의 경우 `LayoutMap`도 사용할 수 있습니다.\n",
        "\n",
        "참고: 기능 및 순차 모델의 경우 매핑이 약간 다릅니다. 모델의 레이어에는 모델에 연결된 공용 속성이 없습니다(`model.layers`를 통해 목록으로 액세스할 수는 있음). 이 경우 문자열 이름을 키로 사용합니다. 문자열 이름은 모델 내에서 고유하도록 보장됩니다."
      ]
    },
    {
      "cell_type": "code",
      "execution_count": null,
      "metadata": {
        "id": "gXK2EquIRJCC"
      },
      "outputs": [],
      "source": [
        "layout_map = tf.keras.dtensor.experimental.LayoutMap(mesh=mesh)\n",
        "\n",
        "layout_map['feature.*kernel'] = dtensor.Layout.batch_sharded(mesh, 'batch', rank=2)\n",
        "layout_map['feature.*bias'] = dtensor.Layout.batch_sharded(mesh, 'batch', rank=1)"
      ]
    },
    {
      "cell_type": "code",
      "execution_count": null,
      "metadata": {
        "id": "cBzwJqrg2TH3"
      },
      "outputs": [],
      "source": [
        "with tf.keras.dtensor.experimental.layout_map_scope(layout_map):\n",
        "  inputs = tf.keras.Input((16,), batch_size=16)\n",
        "  x = tf.keras.layers.Dense(16, name='feature')(inputs)\n",
        "  x = tf.keras.layers.Dropout(0.1)(x)\n",
        "  output = tf.keras.layers.Dense(32, name='feature_2')(x)\n",
        "  model = tf.keras.Model(inputs, output)\n",
        "\n",
        "print(model.layers[1].kernel.layout)"
      ]
    },
    {
      "cell_type": "code",
      "execution_count": null,
      "metadata": {
        "id": "pPuh1NlE3-wO"
      },
      "outputs": [],
      "source": [
        "with tf.keras.dtensor.experimental.layout_map_scope(layout_map):\n",
        "  model = tf.keras.Sequential([\n",
        "      tf.keras.layers.Dense(16, name='feature', input_shape=(16,)),\n",
        "      tf.keras.layers.Dropout(0.1),\n",
        "      tf.keras.layers.Dense(32, name='feature_2')\n",
        "  ])\n",
        "\n",
        "print(model.layers[2].kernel.layout)"
      ]
    }
  ],
  "metadata": {
    "colab": {
      "collapsed_sections": [],
      "name": "dtensor_keras_tutorial.ipynb",
      "toc_visible": true
    },
    "kernelspec": {
      "display_name": "Python 3",
      "name": "python3"
    }
  },
  "nbformat": 4,
  "nbformat_minor": 0
}
