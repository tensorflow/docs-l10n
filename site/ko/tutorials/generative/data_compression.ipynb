{
  "cells": [
    {
      "cell_type": "markdown",
      "metadata": {
        "id": "Tce3stUlHN0L"
      },
      "source": [
        "##### Copyright 2022 The TensorFlow Compression Authors."
      ]
    },
    {
      "cell_type": "code",
      "execution_count": null,
      "metadata": {
        "cellView": "form",
        "id": "tuOe1ymfHZPu"
      },
      "outputs": [],
      "source": [
        "#@title Licensed under the Apache License, Version 2.0 (the \"License\");\n",
        "# you may not use this file except in compliance with the License.\n",
        "# You may obtain a copy of the License at\n",
        "#\n",
        "# https://www.apache.org/licenses/LICENSE-2.0\n",
        "#\n",
        "# Unless required by applicable law or agreed to in writing, software\n",
        "# distributed under the License is distributed on an \"AS IS\" BASIS,\n",
        "# WITHOUT WARRANTIES OR CONDITIONS OF ANY KIND, either express or implied.\n",
        "# See the License for the specific language governing permissions and\n",
        "# limitations under the License."
      ]
    },
    {
      "cell_type": "markdown",
      "metadata": {
        "id": "qFdPvlXBOdUN"
      },
      "source": [
        "# Learned data compression"
      ]
    },
    {
      "cell_type": "markdown",
      "metadata": {
        "id": "MfBg1C5NB3X0"
      },
      "source": [
        "<table class=\"tfo-notebook-buttons\" align=\"left\">\n",
        "  <td>\n",
        "    <a target=\"_blank\" href=\"https://www.tensorflow.org/tutorials/generative/data_compression\">\n",
        "    <img src=\"https://www.tensorflow.org/images/tf_logo_32px.png\" />\n",
        "    View on TensorFlow.org</a>\n",
        "  </td>\n",
        "  <td>\n",
        "    <a target=\"_blank\" href=\"https://colab.research.google.com/github/tensorflow/docs/blob/master/site/en/tutorials/generative/data_compression.ipynb\">\n",
        "    <img src=\"https://www.tensorflow.org/images/colab_logo_32px.png\" />\n",
        "    Run in Google Colab</a>\n",
        "  </td>\n",
        "  <td>\n",
        "    <a target=\"_blank\" href=\"https://github.com/tensorflow/docs/blob/master/site/en/tutorials/generative/data_compression.ipynb\">\n",
        "    <img src=\"https://www.tensorflow.org/images/GitHub-Mark-32px.png\" />\n",
        "    View source on GitHub</a>\n",
        "  </td>\n",
        "  <td>\n",
        "    <a href=\"https://storage.googleapis.com/tensorflow_docs/docs/site/en/tutorials/generative/data_compression.ipynb\"><img src=\"https://www.tensorflow.org/images/download_logo_32px.png\" />Download notebook</a>\n",
        "  </td>\n",
        "</table>"
      ]
    },
    {
      "cell_type": "markdown",
      "metadata": {
        "id": "xHxb-dlhMIzW"
      },
      "source": [
        "## Overview\n",
        "\n",
        "This notebook shows how to do lossy data compression using neural networks and [TensorFlow Compression](https://github.com/tensorflow/compression).\n",
        "\n",
        "Lossy compression involves making a trade-off between **rate**, the expected number of bits needed to encode a sample, and **distortion**, the expected error in the reconstruction of the sample.\n",
        "\n",
        "The examples below use an autoencoder-like model to compress images from the MNIST dataset. The method is based on the paper [End-to-end Optimized Image Compression](https://arxiv.org/abs/1611.01704).\n",
        "\n",
        "More background on learned data compression can be found in [this paper](https://arxiv.org/abs/2007.03034) targeted at people familiar with classical data compression, or [this survey](https://arxiv.org/abs/2202.06533) targeted at a machine learning audience.\n"
      ]
    },
    {
      "cell_type": "markdown",
      "metadata": {
        "id": "MUXex9ctTuDB"
      },
      "source": [
        "## Setup\n",
        "\n",
        "Install Tensorflow Compression via `pip`."
      ]
    },
    {
      "cell_type": "code",
      "execution_count": null,
      "metadata": {
        "id": "K489KsEgxuLI"
      },
      "outputs": [],
      "source": [
        "%%bash\n",
        "# Installs the latest version of TFC compatible with the installed TF version.\n",
        "\n",
        "read MAJOR MINOR <<< \"$(pip show tensorflow | perl -p -0777 -e 's/.*Version: (\\d+)\\.(\\d+).*/\\1 \\2/sg')\"\n",
        "pip install \"tensorflow-compression<$MAJOR.$(($MINOR+1))\"\n"
      ]
    },
    {
      "cell_type": "markdown",
      "metadata": {
        "id": "WfVAmHCVxpTS"
      },
      "source": [
        "Import library dependencies."
      ]
    },
    {
      "cell_type": "code",
      "execution_count": null,
      "metadata": {
        "id": "IqR2PQG4ZaZ0"
      },
      "outputs": [],
      "source": [
        "import matplotlib.pyplot as plt\n",
        "import tensorflow as tf\n",
        "import tensorflow_compression as tfc\n",
        "import tensorflow_datasets as tfds\n"
      ]
    },
    {
      "cell_type": "markdown",
      "metadata": {
        "id": "wsncKT2iymgQ"
      },
      "source": [
        "## Define the trainer model.\n",
        "\n",
        "Because the model resembles an autoencoder, and we need to perform a different set of functions during training and inference, the setup is a little different from, say, a classifier.\n",
        "\n",
        "The training model consists of three parts:\n",
        "- the **analysis** (or encoder) transform, converting from the image into a latent space,\n",
        "- the **synthesis** (or decoder) transform, converting from the latent space back into image space, and\n",
        "- a **prior** and entropy model, modeling the marginal probabilities of the latents.\n",
        "\n",
        "First, define the transforms:"
      ]
    },
    {
      "cell_type": "code",
      "execution_count": null,
      "metadata": {
        "id": "8yZESLgW-vp1"
      },
      "outputs": [],
      "source": [
        "def make_analysis_transform(latent_dims):\n",
        "  \"\"\"Creates the analysis (encoder) transform.\"\"\"\n",
        "  return tf.keras.Sequential([\n",
        "      tf.keras.layers.Conv2D(\n",
        "          20, 5, use_bias=True, strides=2, padding=\"same\",\n",
        "          activation=\"leaky_relu\", name=\"conv_1\"),\n",
        "      tf.keras.layers.Conv2D(\n",
        "          50, 5, use_bias=True, strides=2, padding=\"same\",\n",
        "          activation=\"leaky_relu\", name=\"conv_2\"),\n",
        "      tf.keras.layers.Flatten(),\n",
        "      tf.keras.layers.Dense(\n",
        "          500, use_bias=True, activation=\"leaky_relu\", name=\"fc_1\"),\n",
        "      tf.keras.layers.Dense(\n",
        "          latent_dims, use_bias=True, activation=None, name=\"fc_2\"),\n",
        "  ], name=\"analysis_transform\")\n"
      ]
    },
    {
      "cell_type": "code",
      "execution_count": null,
      "metadata": {
        "id": "2sHdYBzF2xcu"
      },
      "outputs": [],
      "source": [
        "def make_synthesis_transform():\n",
        "  \"\"\"Creates the synthesis (decoder) transform.\"\"\"\n",
        "  return tf.keras.Sequential([\n",
        "      tf.keras.layers.Dense(\n",
        "          500, use_bias=True, activation=\"leaky_relu\", name=\"fc_1\"),\n",
        "      tf.keras.layers.Dense(\n",
        "          2450, use_bias=True, activation=\"leaky_relu\", name=\"fc_2\"),\n",
        "      tf.keras.layers.Reshape((7, 7, 50)),\n",
        "      tf.keras.layers.Conv2DTranspose(\n",
        "          20, 5, use_bias=True, strides=2, padding=\"same\",\n",
        "          activation=\"leaky_relu\", name=\"conv_1\"),\n",
        "      tf.keras.layers.Conv2DTranspose(\n",
        "          1, 5, use_bias=True, strides=2, padding=\"same\",\n",
        "          activation=\"leaky_relu\", name=\"conv_2\"),\n",
        "  ], name=\"synthesis_transform\")\n"
      ]
    },
    {
      "cell_type": "markdown",
      "metadata": {
        "id": "lYC8tHhkxTlK"
      },
      "source": [
        "The trainer holds an instance of both transforms, as well as the parameters of the prior.\n",
        "\n",
        "Its `call` method is set up to compute:\n",
        "- **rate**, an estimate of the number of bits needed to represent the batch of digits, and\n",
        "- **distortion**, the mean absolute difference between the pixels of the original digits and their reconstructions.\n"
      ]
    },
    {
      "cell_type": "code",
      "execution_count": null,
      "metadata": {
        "id": "ROn2DbzsBirI"
      },
      "outputs": [],
      "source": [
        "class MNISTCompressionTrainer(tf.keras.Model):\n",
        "  \"\"\"Model that trains a compressor/decompressor for MNIST.\"\"\"\n",
        "\n",
        "  def __init__(self, latent_dims):\n",
        "    super().__init__()\n",
        "    self.analysis_transform = make_analysis_transform(latent_dims)\n",
        "    self.synthesis_transform = make_synthesis_transform()\n",
        "    self.prior_log_scales = tf.Variable(tf.zeros((latent_dims,)))\n",
        "\n",
        "  @property\n",
        "  def prior(self):\n",
        "    return tfc.NoisyLogistic(loc=0., scale=tf.exp(self.prior_log_scales))\n",
        "\n",
        "  def call(self, x, training):\n",
        "    \"\"\"Computes rate and distortion losses.\"\"\"\n",
        "    # Ensure inputs are floats in the range (0, 1).\n",
        "    x = tf.cast(x, self.compute_dtype) / 255.\n",
        "    x = tf.reshape(x, (-1, 28, 28, 1))\n",
        "\n",
        "    # Compute latent space representation y, perturb it and model its entropy,\n",
        "    # then compute the reconstructed pixel-level representation x_hat.\n",
        "    y = self.analysis_transform(x)\n",
        "    entropy_model = tfc.ContinuousBatchedEntropyModel(\n",
        "        self.prior, coding_rank=1, compression=False)\n",
        "    y_tilde, rate = entropy_model(y, training=training)\n",
        "    x_tilde = self.synthesis_transform(y_tilde)\n",
        "\n",
        "    # Average number of bits per MNIST digit.\n",
        "    rate = tf.reduce_mean(rate)\n",
        "\n",
        "    # Mean absolute difference across pixels.\n",
        "    distortion = tf.reduce_mean(abs(x - x_tilde))\n",
        "\n",
        "    return dict(rate=rate, distortion=distortion)\n"
      ]
    },
    {
      "cell_type": "markdown",
      "metadata": {
        "id": "vEXbp9RV3kRX"
      },
      "source": [
        "### Compute rate and distortion.\n",
        "\n",
        "Let's walk through this step by step, using one image from the training set. Load the MNIST dataset for training and validation:"
      ]
    },
    {
      "cell_type": "code",
      "execution_count": null,
      "metadata": {
        "id": "7FV99WTrIBen"
      },
      "outputs": [],
      "source": [
        "training_dataset, validation_dataset = tfds.load(\n",
        "    \"mnist\",\n",
        "    split=[\"train\", \"test\"],\n",
        "    shuffle_files=True,\n",
        "    as_supervised=True,\n",
        "    with_info=False,\n",
        ")\n"
      ]
    },
    {
      "cell_type": "markdown",
      "metadata": {
        "id": "SwKgNTg_QfjH"
      },
      "source": [
        "And extract one image $x$:"
      ]
    },
    {
      "cell_type": "code",
      "execution_count": null,
      "metadata": {
        "id": "O-BSdeHcPBBf"
      },
      "outputs": [],
      "source": [
        "(x, _), = validation_dataset.take(1)\n",
        "\n",
        "plt.imshow(tf.squeeze(x))\n",
        "print(f\"Data type: {x.dtype}\")\n",
        "print(f\"Shape: {x.shape}\")\n"
      ]
    },
    {
      "cell_type": "markdown",
      "metadata": {
        "id": "V8IvuFkrRJIa"
      },
      "source": [
        "To get the latent representation $y$, we need to cast it to `float32`, add a batch dimension, and pass it through the analysis transform."
      ]
    },
    {
      "cell_type": "code",
      "execution_count": null,
      "metadata": {
        "id": "jA0DOWq23lEq"
      },
      "outputs": [],
      "source": [
        "x = tf.cast(x, tf.float32) / 255.\n",
        "x = tf.reshape(x, (-1, 28, 28, 1))\n",
        "y = make_analysis_transform(10)(x)\n",
        "\n",
        "print(\"y:\", y)\n"
      ]
    },
    {
      "cell_type": "markdown",
      "metadata": {
        "id": "rTojJQvZT8SX"
      },
      "source": [
        "The latents will be quantized at test time. To model this in a differentiable way during training, we add uniform noise in the interval $(-.5, .5)$ and call the result $\\tilde y$. This is the same terminology as used in the paper [End-to-end Optimized Image Compression](https://arxiv.org/abs/1611.01704)."
      ]
    },
    {
      "cell_type": "code",
      "execution_count": null,
      "metadata": {
        "id": "Spr3503OUOFQ"
      },
      "outputs": [],
      "source": [
        "y_tilde = y + tf.random.uniform(y.shape, -.5, .5)\n",
        "\n",
        "print(\"y_tilde:\", y_tilde)\n"
      ]
    },
    {
      "cell_type": "markdown",
      "metadata": {
        "id": "7hRN89R7SA3U"
      },
      "source": [
        "The \"prior\" is a probability density that we train to model the marginal distribution of the noisy latents. For example, it could be a set of independent [logistic distributions](https://en.wikipedia.org/wiki/Logistic_distribution) with different scales for each latent dimension. `tfc.NoisyLogistic` accounts for the fact that the latents have additive noise. As the scale approaches zero, a logistic distribution approaches a dirac delta (spike), but the added noise causes the \"noisy\" distribution to approach the uniform distribution instead."
      ]
    },
    {
      "cell_type": "code",
      "execution_count": null,
      "metadata": {
        "id": "2tmA1Bw7ReMY"
      },
      "outputs": [],
      "source": [
        "prior = tfc.NoisyLogistic(loc=0., scale=tf.linspace(.01, 2., 10))\n",
        "\n",
        "_ = tf.linspace(-6., 6., 501)[:, None]\n",
        "plt.plot(_, prior.prob(_));\n"
      ]
    },
    {
      "cell_type": "markdown",
      "metadata": {
        "id": "2NSWtBZmUvVY"
      },
      "source": [
        "During training, `tfc.ContinuousBatchedEntropyModel` adds uniform noise, and uses the noise and the prior to compute a (differentiable) upper bound on the rate (the average number of bits necessary to encode the latent representation). That bound can be minimized as a loss."
      ]
    },
    {
      "cell_type": "code",
      "execution_count": null,
      "metadata": {
        "id": "hFuGlyJuThBC"
      },
      "outputs": [],
      "source": [
        "entropy_model = tfc.ContinuousBatchedEntropyModel(\n",
        "    prior, coding_rank=1, compression=False)\n",
        "y_tilde, rate = entropy_model(y, training=True)\n",
        "\n",
        "print(\"rate:\", rate)\n",
        "print(\"y_tilde:\", y_tilde)\n"
      ]
    },
    {
      "cell_type": "markdown",
      "metadata": {
        "id": "Cyr8DGgmWd32"
      },
      "source": [
        "Lastly, the noisy latents are passed back through the synthesis transform to produce an image reconstruction $\\tilde x$. Distortion is the error between original image and reconstruction. Obviously, with the transforms untrained, the reconstruction is not very useful."
      ]
    },
    {
      "cell_type": "code",
      "execution_count": null,
      "metadata": {
        "id": "gtmI0xGEVym0"
      },
      "outputs": [],
      "source": [
        "x_tilde = make_synthesis_transform()(y_tilde)\n",
        "\n",
        "# Mean absolute difference across pixels.\n",
        "distortion = tf.reduce_mean(abs(x - x_tilde))\n",
        "print(\"distortion:\", distortion)\n",
        "\n",
        "x_tilde = tf.saturate_cast(x_tilde[0] * 255, tf.uint8)\n",
        "plt.imshow(tf.squeeze(x_tilde))\n",
        "print(f\"Data type: {x_tilde.dtype}\")\n",
        "print(f\"Shape: {x_tilde.shape}\")\n"
      ]
    },
    {
      "cell_type": "markdown",
      "metadata": {
        "id": "UVz3I7E8ecij"
      },
      "source": [
        "For every batch of digits, calling the `MNISTCompressionTrainer` produces the rate and distortion as an average over that batch:\n"
      ]
    },
    {
      "cell_type": "code",
      "execution_count": null,
      "metadata": {
        "id": "ICJnjj1LeB8L"
      },
      "outputs": [],
      "source": [
        "(example_batch, _), = validation_dataset.batch(32).take(1)\n",
        "trainer = MNISTCompressionTrainer(10)\n",
        "example_output = trainer(example_batch)\n",
        "\n",
        "print(\"rate: \", example_output[\"rate\"])\n",
        "print(\"distortion: \", example_output[\"distortion\"])\n"
      ]
    },
    {
      "cell_type": "markdown",
      "metadata": {
        "id": "lgdfRtmee5Mn"
      },
      "source": [
        "In the next section, we set up the model to do gradient descent on these two losses."
      ]
    },
    {
      "cell_type": "markdown",
      "metadata": {
        "id": "fKGVwv5MAq6w"
      },
      "source": [
        "## Train the model.\n",
        "\n",
        "We compile the trainer in a way that it optimizes the rate–distortion Lagrangian, that is, a sum of rate and distortion, where one of the terms is weighted by Lagrange parameter $\\lambda$.\n",
        "\n",
        "This loss function affects the different parts of the model differently:\n",
        "- The analysis transform is trained to produce a latent representation that achieves the desired trade-off between rate and distortion.\n",
        "- The synthesis transform is trained to minimize distortion, given the latent representation.\n",
        "- The parameters of the prior are trained to minimize the rate given the latent representation. This is identical to fitting the prior to the marginal distribution of latents in a maximum likelihood sense."
      ]
    },
    {
      "cell_type": "code",
      "execution_count": null,
      "metadata": {
        "id": "k5mm1aDkcgAf"
      },
      "outputs": [],
      "source": [
        "def pass_through_loss(_, x):\n",
        "  # Since rate and distortion are unsupervised, the loss doesn't need a target.\n",
        "  return x\n",
        "\n",
        "def make_mnist_compression_trainer(lmbda, latent_dims=50):\n",
        "  trainer = MNISTCompressionTrainer(latent_dims)\n",
        "  trainer.compile(\n",
        "    optimizer=tf.keras.optimizers.Adam(learning_rate=1e-3),\n",
        "    # Just pass through rate and distortion as losses/metrics.\n",
        "    loss=dict(rate=pass_through_loss, distortion=pass_through_loss),\n",
        "    metrics=dict(rate=pass_through_loss, distortion=pass_through_loss),\n",
        "    loss_weights=dict(rate=1., distortion=lmbda),\n",
        "  )\n",
        "  return trainer\n"
      ]
    },
    {
      "cell_type": "markdown",
      "metadata": {
        "id": "DPwd4DTs3Mfr"
      },
      "source": [
        "Next, train the model. The human annotations are not necessary here, since we just want to compress the images, so we drop them using a `map` and instead add \"dummy\" targets for rate and distortion."
      ]
    },
    {
      "cell_type": "code",
      "execution_count": null,
      "metadata": {
        "id": "QNBpCTgzAV7M"
      },
      "outputs": [],
      "source": [
        "def add_rd_targets(image, label):\n",
        "  # Training is unsupervised, so labels aren't necessary here. However, we\n",
        "  # need to add \"dummy\" targets for rate and distortion.\n",
        "  return image, dict(rate=0., distortion=0.)\n",
        "\n",
        "def train_mnist_model(lmbda):\n",
        "  trainer = make_mnist_compression_trainer(lmbda)\n",
        "  trainer.fit(\n",
        "      training_dataset.map(add_rd_targets).batch(128).prefetch(8),\n",
        "      epochs=15,\n",
        "      validation_data=validation_dataset.map(add_rd_targets).batch(128).cache(),\n",
        "      validation_freq=1,\n",
        "      verbose=1,\n",
        "  )\n",
        "  return trainer\n",
        "\n",
        "trainer = train_mnist_model(lmbda=2000)\n"
      ]
    },
    {
      "cell_type": "markdown",
      "metadata": {
        "id": "Td4xuttmCd7T"
      },
      "source": [
        "## Compress some MNIST images.\n",
        "\n",
        "For compression and decompression at test time, we split the trained model in two parts:\n",
        "\n",
        "- The encoder side consists of the analysis transform and the entropy model.\n",
        "- The decoder side consists of the synthesis transform and the same entropy model.\n",
        "\n",
        "At test time, the latents will not have additive noise, but they will be quantized and then losslessly compressed, so we give them new names. We call them and the image reconstruction $\\hat x$ and $\\hat y$, respectively (following [End-to-end Optimized Image Compression](https://arxiv.org/abs/1611.01704))."
      ]
    },
    {
      "cell_type": "code",
      "execution_count": null,
      "metadata": {
        "id": "sBRAPa5jksss"
      },
      "outputs": [],
      "source": [
        "class MNISTCompressor(tf.keras.Model):\n",
        "  \"\"\"Compresses MNIST images to strings.\"\"\"\n",
        "\n",
        "  def __init__(self, analysis_transform, entropy_model):\n",
        "    super().__init__()\n",
        "    self.analysis_transform = analysis_transform\n",
        "    self.entropy_model = entropy_model\n",
        "\n",
        "  def call(self, x):\n",
        "    # Ensure inputs are floats in the range (0, 1).\n",
        "    x = tf.cast(x, self.compute_dtype) / 255.\n",
        "    y = self.analysis_transform(x)\n",
        "    # Also return the exact information content of each digit.\n",
        "    _, bits = self.entropy_model(y, training=False)\n",
        "    return self.entropy_model.compress(y), bits\n"
      ]
    },
    {
      "cell_type": "code",
      "execution_count": null,
      "metadata": {
        "id": "sSZ0X2xPnkN-"
      },
      "outputs": [],
      "source": [
        "class MNISTDecompressor(tf.keras.Model):\n",
        "  \"\"\"Decompresses MNIST images from strings.\"\"\"\n",
        "\n",
        "  def __init__(self, entropy_model, synthesis_transform):\n",
        "    super().__init__()\n",
        "    self.entropy_model = entropy_model\n",
        "    self.synthesis_transform = synthesis_transform\n",
        "\n",
        "  def call(self, string):\n",
        "    y_hat = self.entropy_model.decompress(string, ())\n",
        "    x_hat = self.synthesis_transform(y_hat)\n",
        "    # Scale and cast back to 8-bit integer.\n",
        "    return tf.saturate_cast(tf.round(x_hat * 255.), tf.uint8)\n"
      ]
    },
    {
      "cell_type": "markdown",
      "metadata": {
        "id": "GI7rxeOUDnaC"
      },
      "source": [
        "When instantiated with `compression=True`, the entropy model converts the learned prior into tables for a range coding algorithm. When calling `compress()`, this algorithm is invoked to convert the latent space vector into bit sequences. The length of each binary string approximates the information content of the latent (the negative log likelihood of the latent under the prior).\n",
        "\n",
        "The entropy model for compression and decompression must be the same instance, because the range coding tables need to be exactly identical on both sides. Otherwise, decoding errors can occur."
      ]
    },
    {
      "cell_type": "code",
      "execution_count": null,
      "metadata": {
        "id": "Dnm_p7mbnigo"
      },
      "outputs": [],
      "source": [
        "def make_mnist_codec(trainer, **kwargs):\n",
        "  # The entropy model must be created with `compression=True` and the same\n",
        "  # instance must be shared between compressor and decompressor.\n",
        "  entropy_model = tfc.ContinuousBatchedEntropyModel(\n",
        "      trainer.prior, coding_rank=1, compression=True, **kwargs)\n",
        "  compressor = MNISTCompressor(trainer.analysis_transform, entropy_model)\n",
        "  decompressor = MNISTDecompressor(entropy_model, trainer.synthesis_transform)\n",
        "  return compressor, decompressor\n",
        "\n",
        "compressor, decompressor = make_mnist_codec(trainer)\n"
      ]
    },
    {
      "cell_type": "markdown",
      "metadata": {
        "id": "SYu5sVVH3YMv"
      },
      "source": [
        "Grab 16 images from the validation dataset. You can select a different subset by changing the argument to `skip`."
      ]
    },
    {
      "cell_type": "code",
      "execution_count": null,
      "metadata": {
        "id": "qAxArlU728K5"
      },
      "outputs": [],
      "source": [
        "(originals, _), = validation_dataset.batch(16).skip(3).take(1)\n"
      ]
    },
    {
      "cell_type": "markdown",
      "metadata": {
        "id": "CHeN_ny929YS"
      },
      "source": [
        "Compress them to strings, and keep track of each of their information content in bits."
      ]
    },
    {
      "cell_type": "code",
      "execution_count": null,
      "metadata": {
        "id": "smOk42gQ3IXv"
      },
      "outputs": [],
      "source": [
        "strings, entropies = compressor(originals)\n",
        "\n",
        "print(f\"String representation of first digit in hexadecimal: 0x{strings[0].numpy().hex()}\")\n",
        "print(f\"Number of bits actually needed to represent it: {entropies[0]:0.2f}\")\n"
      ]
    },
    {
      "cell_type": "markdown",
      "metadata": {
        "id": "5j9R4bTT3Qhl"
      },
      "source": [
        "Decompress the images back from the strings."
      ]
    },
    {
      "cell_type": "code",
      "execution_count": null,
      "metadata": {
        "id": "yOP6pEqU3P0w"
      },
      "outputs": [],
      "source": [
        "reconstructions = decompressor(strings)\n"
      ]
    },
    {
      "cell_type": "markdown",
      "metadata": {
        "id": "JWo0Q-vy23tt"
      },
      "source": [
        "Display each of the 16 original digits together with its compressed binary representation, and the reconstructed digit."
      ]
    },
    {
      "cell_type": "code",
      "execution_count": null,
      "metadata": {
        "cellView": "form",
        "id": "jU5IqzZzeEpf"
      },
      "outputs": [],
      "source": [
        "#@title\n",
        "\n",
        "def display_digits(originals, strings, entropies, reconstructions):\n",
        "  \"\"\"Visualizes 16 digits together with their reconstructions.\"\"\"\n",
        "  fig, axes = plt.subplots(4, 4, sharex=True, sharey=True, figsize=(12.5, 5))\n",
        "  axes = axes.ravel()\n",
        "  for i in range(len(axes)):\n",
        "    image = tf.concat([\n",
        "        tf.squeeze(originals[i]),\n",
        "        tf.zeros((28, 14), tf.uint8),\n",
        "        tf.squeeze(reconstructions[i]),\n",
        "    ], 1)\n",
        "    axes[i].imshow(image)\n",
        "    axes[i].text(\n",
        "        .5, .5, f\"→ 0x{strings[i].numpy().hex()} →\\n{entropies[i]:0.2f} bits\",\n",
        "        ha=\"center\", va=\"top\", color=\"white\", fontsize=\"small\",\n",
        "        transform=axes[i].transAxes)\n",
        "    axes[i].axis(\"off\")\n",
        "  plt.subplots_adjust(wspace=0, hspace=0, left=0, right=1, bottom=0, top=1)\n"
      ]
    },
    {
      "cell_type": "code",
      "execution_count": null,
      "metadata": {
        "id": "km9PqVEtPJPc"
      },
      "outputs": [],
      "source": [
        "display_digits(originals, strings, entropies, reconstructions)\n"
      ]
    },
    {
      "cell_type": "markdown",
      "metadata": {
        "id": "EzlrIOiYOzJc"
      },
      "source": [
        "Note that the length of the encoded string differs from the information content of each digit.\n",
        "\n",
        "This is because the range coding process works with discrete probabilities, and has a small amount of overhead. So, especially for short strings, the correspondence is only approximate. However, range coding is **asymptotically optimal**: in the limit, the expected bit count will approach the cross entropy (the expected information content), for which the rate term in the training model is an upper bound."
      ]
    },
    {
      "cell_type": "markdown",
      "metadata": {
        "id": "78qIG8t8FvJW"
      },
      "source": [
        "## The rate–distortion trade-off\n",
        "\n",
        "Above, the model was trained for a specific trade-off (given by `lmbda=2000`) between the average number of bits used to represent each digit and the incurred error in the reconstruction.\n",
        "\n",
        "What happens when we repeat the experiment with different values?\n",
        "\n",
        "Let's start by reducing $\\lambda$ to 500."
      ]
    },
    {
      "cell_type": "code",
      "execution_count": null,
      "metadata": {
        "id": "1iFcAD0WF78p"
      },
      "outputs": [],
      "source": [
        "def train_and_visualize_model(lmbda):\n",
        "  trainer = train_mnist_model(lmbda=lmbda)\n",
        "  compressor, decompressor = make_mnist_codec(trainer)\n",
        "  strings, entropies = compressor(originals)\n",
        "  reconstructions = decompressor(strings)\n",
        "  display_digits(originals, strings, entropies, reconstructions)\n",
        "\n",
        "train_and_visualize_model(lmbda=500)\n"
      ]
    },
    {
      "cell_type": "markdown",
      "metadata": {
        "id": "Uy5OkgJMObMc"
      },
      "source": [
        "The bit rate of our code goes down, as does the fidelity of the digits. However, most of the digits remain recognizable.\n",
        "\n",
        "Let's reduce $\\lambda$ further."
      ]
    },
    {
      "cell_type": "code",
      "execution_count": null,
      "metadata": {
        "id": "NQp9_9_5GcxH"
      },
      "outputs": [],
      "source": [
        "train_and_visualize_model(lmbda=300)\n"
      ]
    },
    {
      "cell_type": "markdown",
      "metadata": {
        "id": "3ELLMAN1OwMQ"
      },
      "source": [
        "The strings begin to get much shorter now, on the order of one byte per digit. However, this comes at a cost. More digits are becoming unrecognizable.\n",
        "\n",
        "This demonstrates that this model is agnostic to human perceptions of error, it just measures the absolute deviation in terms of pixel values. To achieve a better perceived image quality, we would need to replace the pixel loss with a perceptual loss."
      ]
    },
    {
      "cell_type": "markdown",
      "metadata": {
        "id": "v9cWHtH0LP_r"
      },
      "source": [
        "## Use the decoder as a generative model.\n",
        "\n",
        "If we feed the decoder random bits, this will effectively sample from the distribution that the model learned to represent digits.\n",
        "\n",
        "First, re-instantiate the compressor/decompressor without a sanity check that would detect if the input string isn't completely decoded."
      ]
    },
    {
      "cell_type": "code",
      "execution_count": null,
      "metadata": {
        "id": "qnic8YsM0_ke"
      },
      "outputs": [],
      "source": [
        "compressor, decompressor = make_mnist_codec(trainer, decode_sanity_check=False)\n"
      ]
    },
    {
      "cell_type": "markdown",
      "metadata": {
        "id": "86uc9_Is1eeo"
      },
      "source": [
        "Now, feed long enough random strings into the decompressor so that it can decode/sample digits from them."
      ]
    },
    {
      "cell_type": "code",
      "execution_count": null,
      "metadata": {
        "id": "o4fP7BkqKCHY"
      },
      "outputs": [],
      "source": [
        "import os\n",
        "\n",
        "strings = tf.constant([os.urandom(8) for _ in range(16)])\n",
        "samples = decompressor(strings)\n",
        "\n",
        "fig, axes = plt.subplots(4, 4, sharex=True, sharey=True, figsize=(5, 5))\n",
        "axes = axes.ravel()\n",
        "for i in range(len(axes)):\n",
        "  axes[i].imshow(tf.squeeze(samples[i]))\n",
        "  axes[i].axis(\"off\")\n",
        "plt.subplots_adjust(wspace=0, hspace=0, left=0, right=1, bottom=0, top=1)\n"
      ]
    }
  ],
  "metadata": {
    "accelerator": "GPU",
    "colab": {
      "collapsed_sections": [],
      "name": "data_compression.ipynb",
      "toc_visible": true
    },
    "kernelspec": {
      "display_name": "Python 3",
      "name": "python3"
    }
  },
  "nbformat": 4,
  "nbformat_minor": 0
}
