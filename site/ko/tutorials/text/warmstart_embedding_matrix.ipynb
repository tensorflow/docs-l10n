{
  "cells": [
    {
      "cell_type": "code",
      "execution_count": null,
      "metadata": {
        "id": "YS3NA-i6nAFC"
      },
      "outputs": [],
      "source": [
        "##### Copyright 2022 The TensorFlow Authors.\n",
        "\n",
        "\n",
        "# @title Licensed under the Apache License, Version 2.0 (the \"License\");\n",
        "# you may not use this file except in compliance with the License.\n",
        "# You may obtain a copy of the License at\n",
        "#\n",
        "# https://www.apache.org/licenses/LICENSE-2.0\n",
        "#\n",
        "# Unless required by applicable law or agreed to in writing, software\n",
        "# distributed under the License is distributed on an \"AS IS\" BASIS,\n",
        "# WITHOUT WARRANTIES OR CONDITIONS OF ANY KIND, either express or implied.\n",
        "# See the License for the specific language governing permissions and\n",
        "# limitations under the License."
      ]
    },
    {
      "cell_type": "markdown",
      "metadata": {
        "id": "7SN5USFEIIK3"
      },
      "source": [
        "# Warm-start embedding layer matrix"
      ]
    },
    {
      "cell_type": "markdown",
      "metadata": {
        "id": "Aojnnc7sXrab"
      },
      "source": [
        "<table class=\"tfo-notebook-buttons\" align=\"left\">\n",
        "  <td><a target=\"_blank\" href=\"https://www.tensorflow.org/tutorials/text/warmstart_embedding_matrix\"><img src=\"https://www.tensorflow.org/images/tf_logo_32px.png\">TensorFlow.org에서 보기</a></td>\n",
        "  <td><a target=\"_blank\" href=\"https://colab.research.google.com/github/tensorflow/docs-l10n/blob/master/site/ko/tutorials/text/warmstart_embedding_matrix.ipynb\"><img src=\"https://www.tensorflow.org/images/colab_logo_32px.png\">Google Colab에서 실행하기</a></td>\n",
        "  <td><a target=\"_blank\" href=\"https://github.com/tensorflow/docs-l10n/blob/master/site/ko/tutorials/text/warmstart_embedding_matrix.ipynb\"><img src=\"https://www.tensorflow.org/images/GitHub-Mark-32px.png\">GitHub에서 소스 보기</a></td>\n",
        "  <td><a href=\"https://storage.googleapis.com/tensorflow_docs/docs-l10n/site/ko/tutorials/text/warmstart_embedding_matrix.ipynb\"><img src=\"https://www.tensorflow.org/images/download_logo_32px.png\">노트북 다운로드하기</a></td>\n",
        "</table>"
      ]
    },
    {
      "cell_type": "markdown",
      "metadata": {
        "id": "Q6mJg1g3apaz"
      },
      "source": [
        "이 튜토리얼에서는 어휘를 변경할 때 텍스트 감정 분류를 위해 [`tf.keras.utils.warmstart_embedding_matrix`](https://www.tensorflow.org/api_docs/python/tf/keras/utils/warmstart_embedding_matrix) API를 사용하여 학습을 \"웜 스타트\"하는 방법을 보여줍니다.\n",
        "\n",
        "기본 어휘를 사용하여 간단한 Keras 모델을 학습한 다음 어휘를 업데이트한 후 모델 학습을 계속합니다. 이를 \"웜 스타트(warm-start)\" 학습이라고 하며, 이를 위해 새 어휘에 대한 텍스트 임베딩 매트릭스를 다시 매핑해야 합니다."
      ]
    },
    {
      "cell_type": "markdown",
      "metadata": {
        "id": "TZhifmcDwJTf"
      },
      "source": [
        "## 임베딩 매트릭스\n",
        "\n",
        "임베딩을 통해 유사한 어휘 토큰이 유사한 인코딩을 갖는 효율적이고 밀집된 표현을 사용할 수 있습니다. 이는 학습 가능한 매개변수(모델이 밀집 레이어에 대한 가중치를 학습하는 것과 같은 방식으로 학습 중에 모델이 학습한 가중치)입니다. 작은 데이터세트의 경우 8차원, 큰 데이터세트로 작업할 때는 최대 1024차원의 임베딩이 일반적입니다. 더 높은 차원의 임베딩은 단어 간의 세분화된 관계를 포착할 수 있지만 더 많은 학습 데이터가 필요할 수 있습니다."
      ]
    },
    {
      "cell_type": "markdown",
      "metadata": {
        "id": "2voNac7BwJ-g"
      },
      "source": [
        "### 어휘\n",
        "\n",
        "고유한 단어의 집합을 어휘라고 합니다. 텍스트 모델을 구축하려면 고정된 어휘를 선택해야 합니다. 일반적으로 데이터세트에서 가장 일반적인 단어로 어휘를 만듭니다. 어휘를 사용하면 임베딩 매트릭스에서 조회할 수 있는 일련의 ID로 각 텍스트 조각을 나타낼 수 있습니다. 어휘를 사용하면 텍스트에 나타나는 특정 단어로 각 텍스트를 나타낼 수 있습니다."
      ]
    },
    {
      "cell_type": "markdown",
      "metadata": {
        "id": "JuBkjGwtwKiv"
      },
      "source": [
        "### 임베딩 매트릭스를 웜 스타트하는 이유\n",
        "\n",
        "모델은 주어진 어휘를 나타내는 일련의 임베딩으로 학습됩니다. 모델을 업데이트하거나 개선해야 하는 경우 이전 실행의 가중치를 재사용하여 훨씬 빠르게 수렴하도록 훈련시킬 수 있습니다. 이전 실행의 임베딩 매트릭스를 사용하는 것이 더 어렵습니다. 문제는 어휘를 변경하면 단어와 id 매핑이 무효화된다는 것입니다.\n",
        "\n",
        "`tf.keras.utils.warmstart_embedding_matrix`는 기본 어휘의 임베딩 매트릭스에서 새 어휘에 대한 임베딩 매트릭스를 생성하여 이 문제를 해결합니다. 단어가 두 어휘 모두에 존재하는 경우 기본 임베딩 벡터가 새 임베딩 매트릭스의 올바른 위치에 복사됩니다. 그러면 어휘의 크기나 순서가 변경된 후 학습을 웜 스타트할 수 있습니다."
      ]
    },
    {
      "cell_type": "markdown",
      "metadata": {
        "id": "SZUQErGewZxE"
      },
      "source": [
        "## 설정"
      ]
    },
    {
      "cell_type": "code",
      "execution_count": null,
      "metadata": {
        "id": "BfPukisbG_Yu"
      },
      "outputs": [],
      "source": [
        "!pip install --pre -U \"tensorflow>2.10\"  # Requires 2.11"
      ]
    },
    {
      "cell_type": "code",
      "execution_count": null,
      "metadata": {
        "id": "RutaI-Tpev3T"
      },
      "outputs": [],
      "source": [
        "import io\n",
        "import numpy as np\n",
        "import os\n",
        "import re\n",
        "import shutil\n",
        "import string\n",
        "import tensorflow as tf\n",
        "\n",
        "from tensorflow.keras import Model\n",
        "from tensorflow.keras.layers import Dense, Embedding, GlobalAveragePooling1D\n",
        "from tensorflow.keras.layers import TextVectorization"
      ]
    },
    {
      "cell_type": "markdown",
      "metadata": {
        "id": "SBFctV8-JZOc"
      },
      "source": [
        "### 데이터세트 로드하기\n",
        "\n",
        "이 튜토리얼에서는 [대규모 영화 리뷰 데이터세트](http://ai.stanford.edu/~amaas/data/sentiment/)를 사용합니다. 이 데이터세트에서 감정 분류 모델을 훈련하고 그 과정에서 임베딩을 처음부터 학습하게 됩니다. 자세한 내용은 [텍스트 로드 튜토리얼](https://www.tensorflow.org/tutorials/load_data/text)을 참조하세요.\n",
        "\n",
        "Keras 파일 유틸리티를 사용하여 데이터세트를 다운로드하고 디렉터리를 검토합니다."
      ]
    },
    {
      "cell_type": "code",
      "execution_count": null,
      "metadata": {
        "id": "aPO4_UmfF0KH"
      },
      "outputs": [],
      "source": [
        "url = \"https://ai.stanford.edu/~amaas/data/sentiment/aclImdb_v1.tar.gz\"\n",
        "\n",
        "dataset = tf.keras.utils.get_file(\n",
        "    \"aclImdb_v1.tar.gz\", url, untar=True, cache_dir=\".\", cache_subdir=\"\"\n",
        ")\n",
        "\n",
        "dataset_dir = os.path.join(os.path.dirname(dataset), \"aclImdb\")\n",
        "os.listdir(dataset_dir)"
      ]
    },
    {
      "cell_type": "markdown",
      "metadata": {
        "id": "eY6yROZNKvbd"
      },
      "source": [
        "`train/` 디렉터리에는 영화 리뷰에 각각 긍정적 및 부정적 레이블이 지정된 `pos` 및 `neg` 폴더가 있습니다. `pos` 및 `neg` 폴더의 리뷰를 사용하여 바이너리 분류 모델을 학습시킵니다."
      ]
    },
    {
      "cell_type": "code",
      "execution_count": null,
      "metadata": {
        "id": "9-iOHJGN6SDu"
      },
      "outputs": [],
      "source": [
        "train_dir = os.path.join(dataset_dir, \"train\")\n",
        "os.listdir(train_dir)"
      ]
    },
    {
      "cell_type": "markdown",
      "metadata": {
        "id": "9O59BdioK8jY"
      },
      "source": [
        "`train` 디렉터리에는 학습 세트를 만들기 전에 제거해야 하는 추가 폴더도 포함되어 있습니다."
      ]
    },
    {
      "cell_type": "code",
      "execution_count": null,
      "metadata": {
        "id": "1_Vfi9oWMSh-"
      },
      "outputs": [],
      "source": [
        "remove_dir = os.path.join(train_dir, \"unsup\")\n",
        "shutil.rmtree(remove_dir)"
      ]
    },
    {
      "cell_type": "markdown",
      "metadata": {
        "id": "oFoJjiEyJz9u"
      },
      "source": [
        "다음으로 `tf.keras.utils.text_dataset_from_directory`를 사용하여 `tf.data.Dataset`를 생성합니다. 이 [텍스트 분류 튜토리얼](https://www.tensorflow.org/tutorials/keras/text_classification)에서 이 유틸리티 사용에 대해 자세히 알아볼 수 있습니다.\n",
        "\n",
        "`train` 디렉터리를 사용하여 유효성 검사를 위해 20% 분할로 학습 및 유효성 검사 세트를 만듭니다."
      ]
    },
    {
      "cell_type": "code",
      "execution_count": null,
      "metadata": {
        "id": "ItYD3TLkCOP1"
      },
      "outputs": [],
      "source": [
        "batch_size = 1024\n",
        "seed = 123\n",
        "train_ds = tf.keras.utils.text_dataset_from_directory(\n",
        "    \"aclImdb/train\",\n",
        "    batch_size=batch_size,\n",
        "    validation_split=0.2,\n",
        "    subset=\"training\",\n",
        "    seed=seed,\n",
        ")\n",
        "val_ds = tf.keras.utils.text_dataset_from_directory(\n",
        "    \"aclImdb/train\",\n",
        "    batch_size=batch_size,\n",
        "    validation_split=0.2,\n",
        "    subset=\"validation\",\n",
        "    seed=seed,\n",
        ")"
      ]
    },
    {
      "cell_type": "markdown",
      "metadata": {
        "id": "FHV2pchDhzDn"
      },
      "source": [
        "### 성능을 높이도록 데이터세트 구성하기\n",
        "\n",
        "[데이터 성능 가이드](https://www.tensorflow.org/guide/data_performance)에서 `Dataset.cache` 및 `Dataset.prefetch`에 대한 자세한 내용과 데이터를 디스크에 캐시하는 방법을 알아볼 수 있습니다."
      ]
    },
    {
      "cell_type": "code",
      "execution_count": null,
      "metadata": {
        "id": "Oz6k1IW7h1TO"
      },
      "outputs": [],
      "source": [
        "AUTOTUNE = tf.data.AUTOTUNE\n",
        "\n",
        "train_ds = train_ds.cache().prefetch(buffer_size=AUTOTUNE)\n",
        "val_ds = val_ds.cache().prefetch(buffer_size=AUTOTUNE)"
      ]
    },
    {
      "cell_type": "markdown",
      "metadata": {
        "id": "aGicgV5qT0wh"
      },
      "source": [
        "## 텍스트 전처리"
      ]
    },
    {
      "cell_type": "markdown",
      "metadata": {
        "id": "N6NZSqIIoU0Y"
      },
      "source": [
        "다음으로, 감정 분류 모델에 필요한 데이터세트 전처리 단계를 정의합니다. 영화 리뷰를 벡터화하기 위해 원하는 매개변수로 `layers.TextVectorization` 레이어를 초기화합니다. [텍스트 분류](https://www.tensorflow.org/tutorials/keras/text_classification) 튜토리얼에서 이 레이어 사용에 대해 자세히 알아볼 수 있습니다."
      ]
    },
    {
      "cell_type": "code",
      "execution_count": null,
      "metadata": {
        "id": "2MlsXzo-ZlfK"
      },
      "outputs": [],
      "source": [
        "# Create a custom standardization function to strip HTML break tags '<br />'.\n",
        "def custom_standardization(input_data):\n",
        "    lowercase = tf.strings.lower(input_data)\n",
        "    stripped_html = tf.strings.regex_replace(lowercase, \"<br />\", \" \")\n",
        "    return tf.strings.regex_replace(\n",
        "        stripped_html, \"[%s]\" % re.escape(string.punctuation), \"\"\n",
        "    )\n",
        "\n",
        "\n",
        "# Vocabulary size and number of words in a sequence.\n",
        "vocab_size = 10000\n",
        "sequence_length = 100\n",
        "\n",
        "# Use the text vectorization layer to normalize, split, and map strings to\n",
        "# integers. Note that the layer uses the custom standardization defined above.\n",
        "# Set maximum_sequence length as all samples are not of the same length.\n",
        "vectorize_layer = TextVectorization(\n",
        "    standardize=custom_standardization,\n",
        "    max_tokens=vocab_size,\n",
        "    output_mode=\"int\",\n",
        "    output_sequence_length=sequence_length,\n",
        ")\n",
        "\n",
        "# Make a text-only dataset (no labels) and call `Dataset.adapt` to build the\n",
        "# vocabulary.\n",
        "text_ds = train_ds.map(lambda x, y: x)\n",
        "vectorize_layer.adapt(text_ds)"
      ]
    },
    {
      "cell_type": "markdown",
      "metadata": {
        "id": "zI9_wLIiWO8Z"
      },
      "source": [
        "## 분류 모델 생성하기\n",
        "\n",
        "[Keras 순차형 API](https://www.tensorflow.org/guide/keras/sequential_model)를 사용하여 감정 분류 모델을 정의합니다. "
      ]
    },
    {
      "cell_type": "code",
      "execution_count": null,
      "metadata": {
        "id": "pHLcFtn5Wsqj"
      },
      "outputs": [],
      "source": [
        "embedding_dim = 16\n",
        "text_embedding = Embedding(vocab_size, embedding_dim, name=\"embedding\")"
      ]
    },
    {
      "cell_type": "code",
      "execution_count": null,
      "metadata": {
        "id": "iXAfZyEIRVY5"
      },
      "outputs": [],
      "source": [
        "text_input = tf.keras.Sequential(\n",
        "    [vectorize_layer, text_embedding], name=\"text_input\"\n",
        ")\n",
        "classifier_head = tf.keras.Sequential(\n",
        "    [GlobalAveragePooling1D(), Dense(16, activation=\"relu\"), Dense(1)],\n",
        "    name=\"classifier_head\",\n",
        ")\n",
        "\n",
        "model = tf.keras.Sequential([text_input, classifier_head])"
      ]
    },
    {
      "cell_type": "markdown",
      "metadata": {
        "id": "JjLNgKO7W2fe"
      },
      "source": [
        "## 모델 컴파일 및 학습하기"
      ]
    },
    {
      "cell_type": "markdown",
      "metadata": {
        "id": "jpX9etB6IOQd"
      },
      "source": [
        "[TensorBoard](https://www.tensorflow.org/tensorboard)를 사용하여 손실 및 정확도를 포함한 메트릭을 시각화합니다. `tf.keras.callbacks.TensorBoard`를 생성합니다."
      ]
    },
    {
      "cell_type": "code",
      "execution_count": null,
      "metadata": {
        "id": "W4Hg3IHFt4Px"
      },
      "outputs": [],
      "source": [
        "tensorboard_callback = tf.keras.callbacks.TensorBoard(log_dir=\"logs\")"
      ]
    },
    {
      "cell_type": "markdown",
      "metadata": {
        "id": "7OrKAKAKIbuH"
      },
      "source": [
        "`Adam` 옵티마이저와 `BinaryCrossentropy` 손실을 사용하여 모델을 컴파일하고 학습시킵니다. "
      ]
    },
    {
      "cell_type": "code",
      "execution_count": null,
      "metadata": {
        "id": "lCUgdP69Wzix"
      },
      "outputs": [],
      "source": [
        "model.compile(\n",
        "    optimizer=\"adam\",\n",
        "    loss=tf.keras.losses.BinaryCrossentropy(from_logits=True),\n",
        "    metrics=[\"accuracy\"],\n",
        ")"
      ]
    },
    {
      "cell_type": "code",
      "execution_count": null,
      "metadata": {
        "id": "5mQehiQyv8rP"
      },
      "outputs": [],
      "source": [
        "model.fit(\n",
        "    train_ds,\n",
        "    validation_data=val_ds,\n",
        "    epochs=15,\n",
        "    callbacks=[tensorboard_callback],\n",
        ")"
      ]
    },
    {
      "cell_type": "markdown",
      "metadata": {
        "id": "1wYnVedSPfmX"
      },
      "source": [
        "이 접근 방식을 통해 모델은 약 85%의 검증 정확도에 도달합니다.\n",
        "\n",
        "참고: 임베딩 레이어를 학습하기 전에 가중치가 무작위로 초기화된 방식에 따라 결과가 약간 다를 수 있습니다.\n",
        "\n",
        "모델 요약을 살펴보고 모델의 각 레이어에 대해 자세히 알아볼 수 있습니다."
      ]
    },
    {
      "cell_type": "code",
      "execution_count": null,
      "metadata": {
        "id": "mDCgjWyq_0dc"
      },
      "outputs": [],
      "source": [
        "model.summary()"
      ]
    },
    {
      "cell_type": "markdown",
      "metadata": {
        "id": "hiQbOJZ2WBFY"
      },
      "source": [
        "TensorBoard에서 모델 메트릭을 시각화합니다."
      ]
    },
    {
      "cell_type": "code",
      "execution_count": null,
      "metadata": {
        "id": "_Uanp2YH8RzU"
      },
      "outputs": [],
      "source": [
        "# docs_infra: no_execute\n",
        "%load_ext tensorboard\n",
        "%tensorboard --logdir logs"
      ]
    },
    {
      "cell_type": "markdown",
      "metadata": {
        "id": "NMtMv8yPEf5e"
      },
      "source": [
        "<!-- <img class=\"tfo-display-only-on-site\" src=\"https://tensorflow.org/tutorials/text/images/tensorboard-1.png\"/> -->"
      ]
    },
    {
      "cell_type": "markdown",
      "metadata": {
        "id": "IKp2PvLYI-r2"
      },
      "source": [
        "## 어휘 재매핑\n",
        "\n",
        "이제 어휘를 업데이트하고 웜 스타트 학습을 계속 진행할 것입니다.\n",
        "\n",
        "먼저 기본 어휘와 임베딩 매트릭스를 가져옵니다."
      ]
    },
    {
      "cell_type": "code",
      "execution_count": null,
      "metadata": {
        "id": "HFgt2n6HJDAw"
      },
      "outputs": [],
      "source": [
        "embedding_weights_base = (\n",
        "    model.get_layer(\"text_input\").get_layer(\"embedding\").get_weights()[0]\n",
        ")\n",
        "vocab_base = vectorize_layer.get_vocabulary()"
      ]
    },
    {
      "cell_type": "markdown",
      "metadata": {
        "id": "A8wuaIVkJaNw"
      },
      "source": [
        "더 큰 새 어휘를 생성하기 위해 새 벡터화 레이어를 정의합니다."
      ]
    },
    {
      "cell_type": "code",
      "execution_count": null,
      "metadata": {
        "id": "_-YcdW4XJlcX"
      },
      "outputs": [],
      "source": [
        "# Vocabulary size and number of words in a sequence.\n",
        "vocab_size_new = 10200\n",
        "sequence_length = 100\n",
        "\n",
        "vectorize_layer_new = TextVectorization(\n",
        "    standardize=custom_standardization,\n",
        "    max_tokens=vocab_size_new,\n",
        "    output_mode=\"int\",\n",
        "    output_sequence_length=sequence_length,\n",
        ")\n",
        "\n",
        "# Make a text-only dataset (no labels) and call adapt to build the vocabulary.\n",
        "text_ds = train_ds.map(lambda x, y: x)\n",
        "vectorize_layer_new.adapt(text_ds)\n",
        "\n",
        "# Get the new vocabulary\n",
        "vocab_new = vectorize_layer_new.get_vocabulary()"
      ]
    },
    {
      "cell_type": "code",
      "execution_count": null,
      "metadata": {
        "id": "lny782PFNF3j"
      },
      "outputs": [],
      "source": [
        "# View the new vocabulary tokens that weren't in `vocab_base`\n",
        "set(vocab_base) ^ set(vocab_new)"
      ]
    },
    {
      "cell_type": "markdown",
      "metadata": {
        "id": "nHsDOlAnJrFH"
      },
      "source": [
        "`keras.utils.warmstart_embedding_matrix` 유틸리티를 사용하여 업데이트된 임베딩을 생성합니다."
      ]
    },
    {
      "cell_type": "code",
      "execution_count": null,
      "metadata": {
        "id": "MgBlw3VnKrBL"
      },
      "outputs": [],
      "source": [
        "# Generate the updated embedding matrix\n",
        "updated_embedding = tf.keras.utils.warmstart_embedding_matrix(\n",
        "    base_vocabulary=vocab_base,\n",
        "    new_vocabulary=vocab_new,\n",
        "    base_embeddings=embedding_weights_base,\n",
        "    new_embeddings_initializer=\"uniform\",\n",
        ")\n",
        "# Update the model variable\n",
        "updated_embedding_variable = tf.Variable(updated_embedding)"
      ]
    },
    {
      "cell_type": "markdown",
      "metadata": {
        "id": "KEhm8fldKyR_"
      },
      "source": [
        "**또는**\n",
        "\n",
        "새 임베딩 매트릭스를 초기화하는 데 사용하려는 임베딩 매트릭스가 있는 경우 `keras.initializers.Constant`를 new_embeddings 이니셜라이저로 사용합니다. 시도하려면 다음 블록을 코드 셀에 복사하세요. 이는 vocab의 새 단어에 대해 더 나은 임베딩 매트릭스 초기화가 있는 경우에 유용합니다.\n",
        "\n",
        "```\n",
        "# generate updated embedding matrix\n",
        "new_embedding = np.random.rand(len(vocab_new), 16)\n",
        "updated_embedding = tf.keras.utils.warmstart_embedding_matrix(\n",
        "            base_vocabulary=vocab_base,\n",
        "            new_vocabulary=vocab_new,\n",
        "            base_embeddings=embedding_weights_base,\n",
        "            new_embeddings_initializer=tf.keras.initializers.Constant(\n",
        "                new_embedding\n",
        "            )\n",
        "        )\n",
        "# update model variable\n",
        "updated_embedding_variable = tf.Variable(updated_embedding)\n",
        "```"
      ]
    },
    {
      "cell_type": "markdown",
      "metadata": {
        "id": "DbKLjXfhLUVa"
      },
      "source": [
        "임베딩 매트릭스의 모양이 새 어휘를 반영하도록 변경되었는지 확인합니다."
      ]
    },
    {
      "cell_type": "code",
      "execution_count": null,
      "metadata": {
        "id": "tYDrBBEtLWZQ"
      },
      "outputs": [],
      "source": [
        "updated_embedding_variable.shape"
      ]
    },
    {
      "cell_type": "markdown",
      "metadata": {
        "id": "iCd8LnSILZqk"
      },
      "source": [
        "임베딩 매트릭스가 업데이트되었으므로 다음 단계는 레이어 가중치를 업데이트하는 것입니다."
      ]
    },
    {
      "cell_type": "code",
      "execution_count": null,
      "metadata": {
        "id": "i-PdukkBLlx1"
      },
      "outputs": [],
      "source": [
        "text_embedding_layer_new = Embedding(\n",
        "    vectorize_layer_new.vocabulary_size(), embedding_dim, name=\"embedding\"\n",
        ")\n",
        "text_embedding_layer_new.build(input_shape=[None])\n",
        "text_embedding_layer_new.embeddings.assign(updated_embedding)\n",
        "text_input_new = tf.keras.Sequential(\n",
        "    [vectorize_layer_new, text_embedding_layer_new], name=\"text_input_new\"\n",
        ")\n",
        "text_input_new.summary()\n",
        "\n",
        "# Verify the shape of updated weights\n",
        "# The new weights shape should reflect the new vocabulary size\n",
        "text_input_new.get_layer(\"embedding\").get_weights()[0].shape"
      ]
    },
    {
      "cell_type": "markdown",
      "metadata": {
        "id": "juAdUZkVMpEj"
      },
      "source": [
        "새로운 텍스트 벡터화 레이어를 사용하도록 모델 아키텍처를 수정합니다.\n",
        "\n",
        "아래와 같이 체크포인트에서 모델을 로드하고 모델 아키텍처를 업데이트할 수도 있습니다."
      ]
    },
    {
      "cell_type": "code",
      "execution_count": null,
      "metadata": {
        "id": "etCo20sPNn2C"
      },
      "outputs": [],
      "source": [
        "warm_started_model = tf.keras.Sequential([text_input_new, classifier_head])\n",
        "warm_started_model.summary()"
      ]
    },
    {
      "cell_type": "markdown",
      "metadata": {
        "id": "Hi4r5FubN202"
      },
      "source": [
        "새 어휘를 수락하도록 모델을 성공적으로 업데이트했습니다. 임베딩 레이어가 업데이트되어 이전 어휘 단어를 이전 임베딩에 매핑하고 학습할 새 어휘에 대한 임베딩을 초기화합니다. 나머지 모델의 학습된 가중치는 동일하게 유지됩니다. 모델은 이전에 중단된 위치에서 계속 학습하기 위해 웜 스타트됩니다.\n",
        "\n",
        "이제 다시 매핑이 작동했는지 확인할 수 있습니다. 기본 어휘와 새 어휘 모두에 존재하는 어휘 \"the\"의 인덱스를 가져오고 임베딩 값을 비교합니다. 이 둘은 동등해야 합니다."
      ]
    },
    {
      "cell_type": "code",
      "execution_count": null,
      "metadata": {
        "id": "vCdlWvpPPEow"
      },
      "outputs": [],
      "source": [
        "# New vocab words\n",
        "base_vocab_index = vectorize_layer(\"the\")[0]\n",
        "new_vocab_index = vectorize_layer_new(\"the\")[0]\n",
        "print(\n",
        "    warm_started_model.get_layer(\"text_input_new\").get_layer(\"embedding\")(\n",
        "        new_vocab_index\n",
        "    )\n",
        "    == embedding_weights_base[base_vocab_index]\n",
        ")"
      ]
    },
    {
      "cell_type": "markdown",
      "metadata": {
        "id": "g1xX0XCEReRC"
      },
      "source": [
        "## 웜 스타트 학습 계속하기\n",
        "\n",
        "학습이 웜 스타트되는 방식에 주목하세요. 첫 번째 에포크의 정확도는 약 85%입니다. 이전 학습이 종료된 지점의 정확도에 가깝습니다."
      ]
    },
    {
      "cell_type": "code",
      "execution_count": null,
      "metadata": {
        "id": "OtbXMQsTRdvq"
      },
      "outputs": [],
      "source": [
        "model.compile(\n",
        "    optimizer=\"adam\",\n",
        "    loss=tf.keras.losses.BinaryCrossentropy(from_logits=True),\n",
        "    metrics=[\"accuracy\"],\n",
        ")\n",
        "model.fit(\n",
        "    train_ds,\n",
        "    validation_data=val_ds,\n",
        "    epochs=15,\n",
        "    callbacks=[tensorboard_callback],\n",
        ")"
      ]
    },
    {
      "cell_type": "markdown",
      "metadata": {
        "id": "5z67BhOZR6do"
      },
      "source": [
        "## 웜 스타트 학습 시각화"
      ]
    },
    {
      "cell_type": "code",
      "execution_count": null,
      "metadata": {
        "id": "eXPXUfw3QTY-"
      },
      "outputs": [],
      "source": [
        "# docs_infra: no_execute\n",
        "%reload_ext tensorboard\n",
        "%tensorboard --logdir logs"
      ]
    },
    {
      "cell_type": "markdown",
      "metadata": {
        "id": "a-9MOqehCQa8"
      },
      "source": [
        "<!-- <img class=\"tfo-display-only-on-site\" src=\"https://tensorflow.org/tutorials/text/images/tensorboard-2.png\"/> -->"
      ]
    },
    {
      "cell_type": "markdown",
      "metadata": {
        "id": "-SrmuEgJQIIP"
      },
      "source": [
        "## 다음 단계\n",
        "\n",
        "이 튜토리얼에서는 다음을 수행하는 방법을 배웠습니다.\n",
        "\n",
        "- 작은 어휘 데이터세트에서 감정 분류 모델을 처음부터 학습합니다.\n",
        "- 어휘 크기가 변경되면 모델 아키텍처를 업데이트하고 임베딩 매트릭스를 웜 스타트합니다.\n",
        "- 데이터세트 확장으로 모델 정확도를 지속적으로 개선합니다.\n",
        "\n",
        "임베딩에 대해 자세히 알아보려면 [Word2Vec](https://www.tensorflow.org/tutorials/text/word2vec) 및 [언어 이해를 위한 트랜스포머 모델](https://www.tensorflow.org/text/tutorials/transformer) 튜토리얼을 확인하세요."
      ]
    }
  ],
  "metadata": {
    "accelerator": "GPU",
    "colab": {
      "collapsed_sections": [],
      "name": "warmstart_embedding_matrix.ipynb",
      "toc_visible": true
    },
    "kernelspec": {
      "display_name": "Python 3",
      "name": "python3"
    }
  },
  "nbformat": 4,
  "nbformat_minor": 0
}
