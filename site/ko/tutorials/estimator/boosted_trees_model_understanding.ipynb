{
  "cells": [
    {
      "cell_type": "markdown",
      "metadata": {
        "id": "7765UFHoyGx6"
      },
      "source": [
        "##### Copyright 2019 The TensorFlow Authors."
      ]
    },
    {
      "cell_type": "code",
      "execution_count": null,
      "metadata": {
        "cellView": "form",
        "id": "KVtTDrUNyL7x"
      },
      "outputs": [],
      "source": [
        "#@title Licensed under the Apache License, Version 2.0 (the \"License\");\n",
        "# you may not use this file except in compliance with the License.\n",
        "# You may obtain a copy of the License at\n",
        "#\n",
        "# https://www.apache.org/licenses/LICENSE-2.0\n",
        "#\n",
        "# Unless required by applicable law or agreed to in writing, software\n",
        "# distributed under the License is distributed on an \"AS IS\" BASIS,\n",
        "# WITHOUT WARRANTIES OR CONDITIONS OF ANY KIND, either express or implied.\n",
        "# See the License for the specific language governing permissions and\n",
        "# limitations under the License."
      ]
    },
    {
      "cell_type": "markdown",
      "metadata": {
        "id": "r0_fqL3ayLHX"
      },
      "source": [
        "# Gradient Boosted Trees: Model understanding"
      ]
    },
    {
      "cell_type": "markdown",
      "metadata": {
        "id": "PS6_yKSoyLAl"
      },
      "source": [
        "<table class=\"tfo-notebook-buttons\" align=\"left\">\n",
        "  <td>\n",
        "    <a target=\"_blank\" href=\"https://www.tensorflow.org/tutorials/estimator/boosted_trees_model_understanding\"><img src=\"https://www.tensorflow.org/images/tf_logo_32px.png\" />View on TensorFlow.org</a>\n",
        "  </td>\n",
        "  <td>\n",
        "    <a target=\"_blank\" href=\"https://colab.research.google.com/github/tensorflow/docs/blob/master/site/en/tutorials/estimator/boosted_trees_model_understanding.ipynb\"><img src=\"https://www.tensorflow.org/images/colab_logo_32px.png\" />Run in Google Colab</a>\n",
        "  </td>\n",
        "  <td>\n",
        "    <a target=\"_blank\" href=\"https://github.com/tensorflow/docs/blob/master/site/en/tutorials/estimator/boosted_trees_model_understanding.ipynb\"><img src=\"https://www.tensorflow.org/images/GitHub-Mark-32px.png\" />View source on GitHub</a>\n",
        "  </td>\n",
        "  <td>\n",
        "    <a href=\"https://storage.googleapis.com/tensorflow_docs/docs/site/en/tutorials/estimator/boosted_trees_model_understanding.ipynb\"><img src=\"https://www.tensorflow.org/images/download_logo_32px.png\" />Download notebook</a>\n",
        "  </td>\n",
        "</table>"
      ]
    },
    {
      "cell_type": "markdown",
      "metadata": {
        "id": "dW3r7qVxzqN5"
      },
      "source": [
        "For an end-to-end walkthrough of training a Gradient Boosting model check out the [boosted trees tutorial](./boosted_trees). In this tutorial you will:\n",
        "\n",
        "* Learn how to interpret a Boosted Trees model both *locally* and *globally*\n",
        "* Gain intution for how a Boosted Trees model fits a dataset\n",
        "\n",
        "## How to interpret Boosted Trees models both locally and globally\n",
        "\n",
        "Local interpretability refers to an understanding of a model’s predictions at the individual example level, while global interpretability refers to an understanding of the model as a whole. Such techniques can help machine learning (ML) practitioners detect bias and bugs during the model development stage.\n",
        "\n",
        "For local interpretability, you will learn how to create and visualize per-instance contributions. To distinguish this from feature importances, we refer to these values as directional feature contributions (DFCs).\n",
        "\n",
        "For global interpretability you will retrieve and visualize gain-based feature importances, [permutation feature importances](https://www.stat.berkeley.edu/~breiman/randomforest2001.pdf) and also show aggregated DFCs."
      ]
    },
    {
      "cell_type": "markdown",
      "metadata": {
        "id": "eylrTPAN3rJV"
      },
      "source": [
        "## Load the titanic dataset\n",
        "You will be using the titanic dataset, where the (rather morbid) goal is to predict passenger survival, given characteristics such as gender, age, class, etc."
      ]
    },
    {
      "cell_type": "code",
      "execution_count": null,
      "metadata": {
        "id": "132V3PZ8V8VA"
      },
      "outputs": [],
      "source": [
        "!pip install statsmodels"
      ]
    },
    {
      "cell_type": "code",
      "execution_count": null,
      "metadata": {
        "id": "KuhAiPfZ3rJW"
      },
      "outputs": [],
      "source": [
        "import numpy as np\n",
        "import pandas as pd\n",
        "from IPython.display import clear_output\n",
        "\n",
        "# Load dataset.\n",
        "dftrain = pd.read_csv('https://storage.googleapis.com/tf-datasets/titanic/train.csv')\n",
        "dfeval = pd.read_csv('https://storage.googleapis.com/tf-datasets/titanic/eval.csv')\n",
        "y_train = dftrain.pop('survived')\n",
        "y_eval = dfeval.pop('survived')"
      ]
    },
    {
      "cell_type": "code",
      "execution_count": null,
      "metadata": {
        "id": "sp1ShjJJeyH3"
      },
      "outputs": [],
      "source": [
        "import tensorflow as tf\n",
        "tf.random.set_seed(123)"
      ]
    },
    {
      "cell_type": "markdown",
      "metadata": {
        "id": "3ioodHdVJVdA"
      },
      "source": [
        "For a description of the features, please review the prior tutorial."
      ]
    },
    {
      "cell_type": "markdown",
      "metadata": {
        "id": "krkRHuMp3rJn"
      },
      "source": [
        "## Create feature columns, input_fn, and the train the estimator"
      ]
    },
    {
      "cell_type": "markdown",
      "metadata": {
        "id": "JiJ6K3hr1lXW"
      },
      "source": [
        "### Preprocess the data"
      ]
    },
    {
      "cell_type": "markdown",
      "metadata": {
        "id": "udMytRJC05oW"
      },
      "source": [
        "Create the feature columns, using the original numeric columns as is and one-hot-encoding categorical variables."
      ]
    },
    {
      "cell_type": "code",
      "execution_count": null,
      "metadata": {
        "id": "upaNWxcF3rJn"
      },
      "outputs": [],
      "source": [
        "fc = tf.feature_column\n",
        "CATEGORICAL_COLUMNS = ['sex', 'n_siblings_spouses', 'parch', 'class', 'deck',\n",
        "                       'embark_town', 'alone']\n",
        "NUMERIC_COLUMNS = ['age', 'fare']\n",
        "\n",
        "def one_hot_cat_column(feature_name, vocab):\n",
        "  return fc.indicator_column(\n",
        "      fc.categorical_column_with_vocabulary_list(feature_name,\n",
        "                                                 vocab))\n",
        "feature_columns = []\n",
        "for feature_name in CATEGORICAL_COLUMNS:\n",
        "  # Need to one-hot encode categorical features.\n",
        "  vocabulary = dftrain[feature_name].unique()\n",
        "  feature_columns.append(one_hot_cat_column(feature_name, vocabulary))\n",
        "\n",
        "for feature_name in NUMERIC_COLUMNS:\n",
        "  feature_columns.append(fc.numeric_column(feature_name,\n",
        "                                           dtype=tf.float32))"
      ]
    },
    {
      "cell_type": "markdown",
      "metadata": {
        "id": "9rTefnXe1n0v"
      },
      "source": [
        "### Build the input pipeline"
      ]
    },
    {
      "cell_type": "markdown",
      "metadata": {
        "id": "-UOlROp33rJo"
      },
      "source": [
        "Create the input functions using the `from_tensor_slices` method in the [`tf.data`](https://www.tensorflow.org/api_docs/python/tf/data) API to read in data directly from Pandas."
      ]
    },
    {
      "cell_type": "code",
      "execution_count": null,
      "metadata": {
        "id": "9dquwCQB3rJp"
      },
      "outputs": [],
      "source": [
        "# Use entire batch since this is such a small dataset.\n",
        "NUM_EXAMPLES = len(y_train)\n",
        "\n",
        "def make_input_fn(X, y, n_epochs=None, shuffle=True):\n",
        "  def input_fn():\n",
        "    dataset = tf.data.Dataset.from_tensor_slices((X.to_dict(orient='list'), y))\n",
        "    if shuffle:\n",
        "      dataset = dataset.shuffle(NUM_EXAMPLES)\n",
        "    # For training, cycle thru dataset as many times as need (n_epochs=None).\n",
        "    dataset = (dataset\n",
        "      .repeat(n_epochs)\n",
        "      .batch(NUM_EXAMPLES))\n",
        "    return dataset\n",
        "  return input_fn\n",
        "\n",
        "# Training and evaluation input functions.\n",
        "train_input_fn = make_input_fn(dftrain, y_train)\n",
        "eval_input_fn = make_input_fn(dfeval, y_eval, shuffle=False, n_epochs=1)"
      ]
    },
    {
      "cell_type": "markdown",
      "metadata": {
        "id": "HttfNNlN3rJr"
      },
      "source": [
        "### Train the model"
      ]
    },
    {
      "cell_type": "code",
      "execution_count": null,
      "metadata": {
        "id": "tgEzMtlw3rJu"
      },
      "outputs": [],
      "source": [
        "params = {\n",
        "  'n_trees': 50,\n",
        "  'max_depth': 3,\n",
        "  'n_batches_per_layer': 1,\n",
        "  # You must enable center_bias = True to get DFCs. This will force the model to\n",
        "  # make an initial prediction before using any features (e.g. use the mean of\n",
        "  # the training labels for regression or log odds for classification when\n",
        "  # using cross entropy loss).\n",
        "  'center_bias': True\n",
        "}\n",
        "\n",
        "est = tf.estimator.BoostedTreesClassifier(feature_columns, **params)\n",
        "# Train model.\n",
        "est.train(train_input_fn, max_steps=100)\n",
        "\n",
        "# Evaluation.\n",
        "results = est.evaluate(eval_input_fn)\n",
        "clear_output()\n",
        "pd.Series(results).to_frame()"
      ]
    },
    {
      "cell_type": "markdown",
      "metadata": {
        "id": "JgAz3jDa_tRA"
      },
      "source": [
        "For performance reasons, when your data fits in memory, we recommend use the `boosted_trees_classifier_train_in_memory` function. However if training time is not of a concern or if you have a very large dataset and want to do distributed training, use the `tf.estimator.BoostedTrees` API shown above.\n",
        "\n",
        "\n",
        "When using this method, you should not batch your input data, as the method operates on the entire dataset.\n"
      ]
    },
    {
      "cell_type": "code",
      "execution_count": null,
      "metadata": {
        "id": "y7ztzoSk_vjY"
      },
      "outputs": [],
      "source": [
        "in_memory_params = dict(params)\n",
        "in_memory_params['n_batches_per_layer'] = 1\n",
        "# In-memory input_fn does not use batching.\n",
        "def make_inmemory_train_input_fn(X, y):\n",
        "  y = np.expand_dims(y, axis=1)\n",
        "  def input_fn():\n",
        "    return dict(X), y\n",
        "  return input_fn\n",
        "train_input_fn = make_inmemory_train_input_fn(dftrain, y_train)\n",
        "\n",
        "# Train the model.\n",
        "est = tf.estimator.BoostedTreesClassifier(\n",
        "    feature_columns, \n",
        "    train_in_memory=True, \n",
        "    **in_memory_params)\n",
        "\n",
        "est.train(train_input_fn)\n",
        "print(est.evaluate(eval_input_fn))"
      ]
    },
    {
      "cell_type": "markdown",
      "metadata": {
        "id": "TSZYqNcRuczV"
      },
      "source": [
        "## Model interpretation and plotting"
      ]
    },
    {
      "cell_type": "code",
      "execution_count": null,
      "metadata": {
        "id": "BjcfLiI3uczW"
      },
      "outputs": [],
      "source": [
        "import matplotlib.pyplot as plt\n",
        "import seaborn as sns\n",
        "sns_colors = sns.color_palette('colorblind')"
      ]
    },
    {
      "cell_type": "markdown",
      "metadata": {
        "id": "ywTtbBvBuczY"
      },
      "source": [
        "## Local interpretability\n",
        "Next you will output the directional feature contributions (DFCs) to explain individual predictions using the approach outlined in [Palczewska et al](https://arxiv.org/pdf/1312.1121.pdf) and by Saabas in [Interpreting Random Forests](http://blog.datadive.net/interpreting-random-forests/) (this method is also available in scikit-learn for Random Forests in the [`treeinterpreter`](https://github.com/andosa/treeinterpreter) package). The DFCs are generated with:\n",
        "\n",
        "`pred_dicts = list(est.experimental_predict_with_explanations(pred_input_fn))`\n",
        "\n",
        "(Note: The method is named experimental as we may modify the API before dropping the experimental prefix.)"
      ]
    },
    {
      "cell_type": "code",
      "execution_count": null,
      "metadata": {
        "id": "TIL93B4sDRqE"
      },
      "outputs": [],
      "source": [
        "pred_dicts = list(est.experimental_predict_with_explanations(eval_input_fn))"
      ]
    },
    {
      "cell_type": "code",
      "execution_count": null,
      "metadata": {
        "id": "tDPoRx_ZaY1E"
      },
      "outputs": [],
      "source": [
        "# Create DFC Pandas dataframe.\n",
        "labels = y_eval.values\n",
        "probs = pd.Series([pred['probabilities'][1] for pred in pred_dicts])\n",
        "df_dfc = pd.DataFrame([pred['dfc'] for pred in pred_dicts])\n",
        "df_dfc.describe().T"
      ]
    },
    {
      "cell_type": "markdown",
      "metadata": {
        "id": "EUKSaVoraY1C"
      },
      "source": [
        "A nice property of DFCs is that the sum of the contributions + the bias is equal to the prediction for a given example."
      ]
    },
    {
      "cell_type": "code",
      "execution_count": null,
      "metadata": {
        "id": "Hd9VuizRaY1H"
      },
      "outputs": [],
      "source": [
        "# Sum of DFCs + bias == probabality.\n",
        "bias = pred_dicts[0]['bias']\n",
        "dfc_prob = df_dfc.sum(axis=1) + bias\n",
        "np.testing.assert_almost_equal(dfc_prob.values,\n",
        "                               probs.values)"
      ]
    },
    {
      "cell_type": "markdown",
      "metadata": {
        "id": "tx5p4vEhuczg"
      },
      "source": [
        "Plot DFCs for an individual passenger. Let's make the plot nice by color coding based on the contributions' directionality and add the feature values on figure."
      ]
    },
    {
      "cell_type": "code",
      "execution_count": null,
      "metadata": {
        "id": "6z_Tq1Pquczj"
      },
      "outputs": [],
      "source": [
        "# Boilerplate code for plotting :)\n",
        "def _get_color(value):\n",
        "    \"\"\"To make positive DFCs plot green, negative DFCs plot red.\"\"\"\n",
        "    green, red = sns.color_palette()[2:4]\n",
        "    if value >= 0: return green\n",
        "    return red\n",
        "\n",
        "def _add_feature_values(feature_values, ax):\n",
        "    \"\"\"Display feature's values on left of plot.\"\"\"\n",
        "    x_coord = ax.get_xlim()[0]\n",
        "    OFFSET = 0.15\n",
        "    for y_coord, (feat_name, feat_val) in enumerate(feature_values.items()):\n",
        "        t = plt.text(x_coord, y_coord - OFFSET, '{}'.format(feat_val), size=12)\n",
        "        t.set_bbox(dict(facecolor='white', alpha=0.5))\n",
        "    from matplotlib.font_manager import FontProperties\n",
        "    font = FontProperties()\n",
        "    font.set_weight('bold')\n",
        "    t = plt.text(x_coord, y_coord + 1 - OFFSET, 'feature\\nvalue',\n",
        "    fontproperties=font, size=12)\n",
        "\n",
        "def plot_example(example):\n",
        "  TOP_N = 8 # View top 8 features.\n",
        "  sorted_ix = example.abs().sort_values()[-TOP_N:].index  # Sort by magnitude.\n",
        "  example = example[sorted_ix]\n",
        "  colors = example.map(_get_color).tolist()\n",
        "  ax = example.to_frame().plot(kind='barh',\n",
        "                          color=[colors],\n",
        "                          legend=None,\n",
        "                          alpha=0.75,\n",
        "                          figsize=(10,6))\n",
        "  ax.grid(False, axis='y')\n",
        "  ax.set_yticklabels(ax.get_yticklabels(), size=14)\n",
        "\n",
        "  # Add feature values.\n",
        "  _add_feature_values(dfeval.iloc[ID][sorted_ix], ax)\n",
        "  return ax"
      ]
    },
    {
      "cell_type": "code",
      "execution_count": null,
      "metadata": {
        "id": "Ht1P2-1euczk"
      },
      "outputs": [],
      "source": [
        "# Plot results.\n",
        "ID = 182\n",
        "example = df_dfc.iloc[ID]  # Choose ith example from evaluation set.\n",
        "TOP_N = 8  # View top 8 features.\n",
        "sorted_ix = example.abs().sort_values()[-TOP_N:].index\n",
        "ax = plot_example(example)\n",
        "ax.set_title('Feature contributions for example {}\\n pred: {:1.2f}; label: {}'.format(ID, probs[ID], labels[ID]))\n",
        "ax.set_xlabel('Contribution to predicted probability', size=14)\n",
        "plt.show()"
      ]
    },
    {
      "cell_type": "markdown",
      "metadata": {
        "id": "aPXgWyFcfzAc"
      },
      "source": [
        "The larger magnitude contributions have a larger impact on the model's prediction. Negative contributions indicate the feature value for this given example reduced the model's prediction, while positive values contribute an increase in the prediction."
      ]
    },
    {
      "cell_type": "markdown",
      "metadata": {
        "id": "0swvlkZFaY1Z"
      },
      "source": [
        "You can also plot the example's DFCs compare with the entire distribution using a voilin plot."
      ]
    },
    {
      "cell_type": "code",
      "execution_count": null,
      "metadata": {
        "id": "zo7rNd1v_5e2"
      },
      "outputs": [],
      "source": [
        "# Boilerplate plotting code.\n",
        "def dist_violin_plot(df_dfc, ID):\n",
        "  # Initialize plot.\n",
        "  fig, ax = plt.subplots(1, 1, figsize=(10, 6))\n",
        "\n",
        "  # Create example dataframe.\n",
        "  TOP_N = 8  # View top 8 features.\n",
        "  example = df_dfc.iloc[ID]\n",
        "  ix = example.abs().sort_values()[-TOP_N:].index\n",
        "  example = example[ix]\n",
        "  example_df = example.to_frame(name='dfc')\n",
        "\n",
        "  # Add contributions of entire distribution.\n",
        "  parts=ax.violinplot([df_dfc[w] for w in ix],\n",
        "                 vert=False,\n",
        "                 showextrema=False,\n",
        "                 widths=0.7,\n",
        "                 positions=np.arange(len(ix)))\n",
        "  face_color = sns_colors[0]\n",
        "  alpha = 0.15\n",
        "  for pc in parts['bodies']:\n",
        "      pc.set_facecolor(face_color)\n",
        "      pc.set_alpha(alpha)\n",
        "\n",
        "  # Add feature values.\n",
        "  _add_feature_values(dfeval.iloc[ID][sorted_ix], ax)\n",
        "\n",
        "  # Add local contributions.\n",
        "  ax.scatter(example,\n",
        "              np.arange(example.shape[0]),\n",
        "              color=sns.color_palette()[2],\n",
        "              s=100,\n",
        "              marker=\"s\",\n",
        "              label='contributions for example')\n",
        "\n",
        "  # Legend\n",
        "  # Proxy plot, to show violinplot dist on legend.\n",
        "  ax.plot([0,0], [1,1], label='eval set contributions\\ndistributions',\n",
        "          color=face_color, alpha=alpha, linewidth=10)\n",
        "  legend = ax.legend(loc='lower right', shadow=True, fontsize='x-large',\n",
        "                     frameon=True)\n",
        "  legend.get_frame().set_facecolor('white')\n",
        "\n",
        "  # Format plot.\n",
        "  ax.set_yticks(np.arange(example.shape[0]))\n",
        "  ax.set_yticklabels(example.index)\n",
        "  ax.grid(False, axis='y')\n",
        "  ax.set_xlabel('Contribution to predicted probability', size=14)"
      ]
    },
    {
      "cell_type": "markdown",
      "metadata": {
        "id": "PiLw2tlm_9aK"
      },
      "source": [
        "Plot this example."
      ]
    },
    {
      "cell_type": "code",
      "execution_count": null,
      "metadata": {
        "id": "VkCqraA2uczm"
      },
      "outputs": [],
      "source": [
        "dist_violin_plot(df_dfc, ID)\n",
        "plt.title('Feature contributions for example {}\\n pred: {:1.2f}; label: {}'.format(ID, probs[ID], labels[ID]))\n",
        "plt.show()"
      ]
    },
    {
      "cell_type": "markdown",
      "metadata": {
        "id": "TVJFM85SAWVq"
      },
      "source": [
        "Finally, third-party tools, such as [LIME](https://github.com/marcotcr/lime) and [shap](https://github.com/slundberg/shap), can also help understand individual predictions for a model."
      ]
    },
    {
      "cell_type": "markdown",
      "metadata": {
        "id": "PnNXH6mZuczr"
      },
      "source": [
        "## Global feature importances\n",
        "\n",
        "Additionally, you might want to understand the model as a whole, rather than studying individual predictions. Below, you will compute and use:\n",
        "\n",
        "* Gain-based feature importances using `est.experimental_feature_importances`\n",
        "* Permutation importances\n",
        "* Aggregate DFCs using `est.experimental_predict_with_explanations`\n",
        "\n",
        "Gain-based feature importances measure the loss change when splitting on a particular feature, while permutation feature importances are computed by evaluating model performance on the evaluation set by shuffling each feature one-by-one and attributing the change in model performance to the shuffled feature.\n",
        "\n",
        "In general, permutation feature importance are preferred to gain-based feature importance, though both methods can be unreliable in situations where potential predictor variables vary in their scale of measurement or their number of categories and when features are correlated ([source](https://bmcbioinformatics.biomedcentral.com/articles/10.1186/1471-2105-9-307)). Check out [this article](http://explained.ai/rf-importance/index.html) for an in-depth overview and great discussion on different feature importance types."
      ]
    },
    {
      "cell_type": "markdown",
      "metadata": {
        "id": "3ocBcMatuczs"
      },
      "source": [
        "### Gain-based feature importances"
      ]
    },
    {
      "cell_type": "markdown",
      "metadata": {
        "id": "gMaxCgPbBJ-j"
      },
      "source": [
        "Gain-based feature importances are built into the TensorFlow Boosted Trees estimators using `est.experimental_feature_importances`."
      ]
    },
    {
      "cell_type": "code",
      "execution_count": null,
      "metadata": {
        "id": "pPTxbAaeuczt"
      },
      "outputs": [],
      "source": [
        "importances = est.experimental_feature_importances(normalize=True)\n",
        "df_imp = pd.Series(importances)\n",
        "\n",
        "# Visualize importances.\n",
        "N = 8\n",
        "ax = (df_imp.iloc[0:N][::-1]\n",
        "    .plot(kind='barh',\n",
        "          color=sns_colors[0],\n",
        "          title='Gain feature importances',\n",
        "          figsize=(10, 6)))\n",
        "ax.grid(False, axis='y')"
      ]
    },
    {
      "cell_type": "markdown",
      "metadata": {
        "id": "GvfAcBeGuczw"
      },
      "source": [
        "### Average absolute DFCs\n",
        "You can also average the absolute values of DFCs to understand impact at a global level."
      ]
    },
    {
      "cell_type": "code",
      "execution_count": null,
      "metadata": {
        "id": "JkvAWLWLuczx"
      },
      "outputs": [],
      "source": [
        "# Plot.\n",
        "dfc_mean = df_dfc.abs().mean()\n",
        "N = 8\n",
        "sorted_ix = dfc_mean.abs().sort_values()[-N:].index  # Average and sort by absolute.\n",
        "ax = dfc_mean[sorted_ix].plot(kind='barh',\n",
        "                       color=sns_colors[1],\n",
        "                       title='Mean |directional feature contributions|',\n",
        "                       figsize=(10, 6))\n",
        "ax.grid(False, axis='y')"
      ]
    },
    {
      "cell_type": "markdown",
      "metadata": {
        "id": "Z0k_DvPLaY1o"
      },
      "source": [
        "You can also see how DFCs vary as a feature value varies."
      ]
    },
    {
      "cell_type": "code",
      "execution_count": null,
      "metadata": {
        "id": "ZcIfN1IpaY1o"
      },
      "outputs": [],
      "source": [
        "FEATURE = 'fare'\n",
        "feature = pd.Series(df_dfc[FEATURE].values, index=dfeval[FEATURE].values).sort_index()\n",
        "ax = sns.regplot(feature.index.values, feature.values, lowess=True)\n",
        "ax.set_ylabel('contribution')\n",
        "ax.set_xlabel(FEATURE)\n",
        "ax.set_xlim(0, 100)\n",
        "plt.show()"
      ]
    },
    {
      "cell_type": "markdown",
      "metadata": {
        "id": "lbpG72ULucz0"
      },
      "source": [
        "### Permutation feature importance"
      ]
    },
    {
      "cell_type": "code",
      "execution_count": null,
      "metadata": {
        "id": "6esOw1VOucz0"
      },
      "outputs": [],
      "source": [
        "def permutation_importances(est, X_eval, y_eval, metric, features):\n",
        "    \"\"\"Column by column, shuffle values and observe effect on eval set.\n",
        "\n",
        "    source: http://explained.ai/rf-importance/index.html\n",
        "    A similar approach can be done during training. See \"Drop-column importance\"\n",
        "    in the above article.\"\"\"\n",
        "    baseline = metric(est, X_eval, y_eval)\n",
        "    imp = []\n",
        "    for col in features:\n",
        "        save = X_eval[col].copy()\n",
        "        X_eval[col] = np.random.permutation(X_eval[col])\n",
        "        m = metric(est, X_eval, y_eval)\n",
        "        X_eval[col] = save\n",
        "        imp.append(baseline - m)\n",
        "    return np.array(imp)\n",
        "\n",
        "def accuracy_metric(est, X, y):\n",
        "    \"\"\"TensorFlow estimator accuracy.\"\"\"\n",
        "    eval_input_fn = make_input_fn(X,\n",
        "                                  y=y,\n",
        "                                  shuffle=False,\n",
        "                                  n_epochs=1)\n",
        "    return est.evaluate(input_fn=eval_input_fn)['accuracy']\n",
        "features = CATEGORICAL_COLUMNS + NUMERIC_COLUMNS\n",
        "importances = permutation_importances(est, dfeval, y_eval, accuracy_metric,\n",
        "                                      features)\n",
        "df_imp = pd.Series(importances, index=features)\n",
        "\n",
        "sorted_ix = df_imp.abs().sort_values().index\n",
        "ax = df_imp[sorted_ix][-5:].plot(kind='barh', color=sns_colors[2], figsize=(10, 6))\n",
        "ax.grid(False, axis='y')\n",
        "ax.set_title('Permutation feature importance')\n",
        "plt.show()"
      ]
    },
    {
      "cell_type": "markdown",
      "metadata": {
        "id": "E236y3pVEzHg"
      },
      "source": [
        "## Visualizing model fitting"
      ]
    },
    {
      "cell_type": "markdown",
      "metadata": {
        "id": "TrcQ-839EzZ6"
      },
      "source": [
        "Lets first simulate/create training data using the following formula:\n",
        "\n",
        "\n",
        "$$z=x* e^{-x^2 - y^2}$$\n",
        "\n",
        "\n",
        "Where \\(z\\) is the dependent variable you are trying to predict and \\(x\\) and \\(y\\) are the features."
      ]
    },
    {
      "cell_type": "code",
      "execution_count": null,
      "metadata": {
        "id": "e8woaj81GGE9"
      },
      "outputs": [],
      "source": [
        "from numpy.random import uniform, seed\n",
        "from scipy.interpolate import griddata\n",
        "\n",
        "# Create fake data\n",
        "seed(0)\n",
        "npts = 5000\n",
        "x = uniform(-2, 2, npts)\n",
        "y = uniform(-2, 2, npts)\n",
        "z = x*np.exp(-x**2 - y**2)\n",
        "xy = np.zeros((2,np.size(x)))\n",
        "xy[0] = x\n",
        "xy[1] = y\n",
        "xy = xy.T"
      ]
    },
    {
      "cell_type": "code",
      "execution_count": null,
      "metadata": {
        "id": "GRI3KHfLZsGP"
      },
      "outputs": [],
      "source": [
        "# Prep data for training.\n",
        "df = pd.DataFrame({'x': x, 'y': y, 'z': z})\n",
        "\n",
        "xi = np.linspace(-2.0, 2.0, 200),\n",
        "yi = np.linspace(-2.1, 2.1, 210),\n",
        "xi,yi = np.meshgrid(xi, yi)\n",
        "\n",
        "df_predict = pd.DataFrame({\n",
        "    'x' : xi.flatten(),\n",
        "    'y' : yi.flatten(),\n",
        "})\n",
        "predict_shape = xi.shape"
      ]
    },
    {
      "cell_type": "code",
      "execution_count": null,
      "metadata": {
        "id": "w0JnH4IhZuAb"
      },
      "outputs": [],
      "source": [
        "def plot_contour(x, y, z, **kwargs):\n",
        "  # Grid the data.\n",
        "  plt.figure(figsize=(10, 8))\n",
        "  # Contour the gridded data, plotting dots at the nonuniform data points.\n",
        "  CS = plt.contour(x, y, z, 15, linewidths=0.5, colors='k')\n",
        "  CS = plt.contourf(x, y, z, 15,\n",
        "                    vmax=abs(zi).max(), vmin=-abs(zi).max(), cmap='RdBu_r')\n",
        "  plt.colorbar()  # Draw colorbar.\n",
        "  # Plot data points.\n",
        "  plt.xlim(-2, 2)\n",
        "  plt.ylim(-2, 2)"
      ]
    },
    {
      "cell_type": "markdown",
      "metadata": {
        "id": "KF7WsIcYGF_E"
      },
      "source": [
        "You can visualize the function. Redder colors correspond to larger function values."
      ]
    },
    {
      "cell_type": "code",
      "execution_count": null,
      "metadata": {
        "id": "WrxuqaaXGFOK"
      },
      "outputs": [],
      "source": [
        "zi = griddata(xy, z, (xi, yi), method='linear', fill_value='0')\n",
        "plot_contour(xi, yi, zi)\n",
        "plt.scatter(df.x, df.y, marker='.')\n",
        "plt.title('Contour on training data')\n",
        "plt.show()"
      ]
    },
    {
      "cell_type": "code",
      "execution_count": null,
      "metadata": {
        "id": "hoANr0f2GFrM"
      },
      "outputs": [],
      "source": [
        "fc = [tf.feature_column.numeric_column('x'),\n",
        "      tf.feature_column.numeric_column('y')]"
      ]
    },
    {
      "cell_type": "code",
      "execution_count": null,
      "metadata": {
        "id": "xVRWyoY3ayTK"
      },
      "outputs": [],
      "source": [
        "def predict(est):\n",
        "  \"\"\"Predictions from a given estimator.\"\"\"\n",
        "  predict_input_fn = lambda: tf.data.Dataset.from_tensors(dict(df_predict))\n",
        "  preds = np.array([p['predictions'][0] for p in est.predict(predict_input_fn)])\n",
        "  return preds.reshape(predict_shape)"
      ]
    },
    {
      "cell_type": "markdown",
      "metadata": {
        "id": "uyPu5618GU7K"
      },
      "source": [
        "First let's try to fit a linear model to the data."
      ]
    },
    {
      "cell_type": "code",
      "execution_count": null,
      "metadata": {
        "id": "zUIV2IVgGVSk"
      },
      "outputs": [],
      "source": [
        "train_input_fn = make_input_fn(df, df.z)\n",
        "est = tf.estimator.LinearRegressor(fc)\n",
        "est.train(train_input_fn, max_steps=500);"
      ]
    },
    {
      "cell_type": "code",
      "execution_count": null,
      "metadata": {
        "id": "_u4WAcCqfbco"
      },
      "outputs": [],
      "source": [
        "plot_contour(xi, yi, predict(est))"
      ]
    },
    {
      "cell_type": "markdown",
      "metadata": {
        "id": "XD_fMAUtSCSa"
      },
      "source": [
        "It's not a very good fit. Next let's try to fit a GBDT model to it and try to understand how the model fits the function."
      ]
    },
    {
      "cell_type": "code",
      "execution_count": null,
      "metadata": {
        "id": "-dHlKFlFgHDQ"
      },
      "outputs": [],
      "source": [
        "n_trees = 37 #@param {type: \"slider\", min: 1, max: 80, step: 1}\n",
        "\n",
        "est = tf.estimator.BoostedTreesRegressor(fc, n_batches_per_layer=1, n_trees=n_trees)\n",
        "est.train(train_input_fn, max_steps=500)\n",
        "clear_output()\n",
        "plot_contour(xi, yi, predict(est))\n",
        "plt.text(-1.8, 2.1, '# trees: {}'.format(n_trees), color='w', backgroundcolor='black', size=20)\n",
        "plt.show()"
      ]
    },
    {
      "cell_type": "markdown",
      "metadata": {
        "id": "5WcZ9fubh1wT"
      },
      "source": [
        "As you increase the number of trees, the model's predictions better approximates the underlying function."
      ]
    },
    {
      "cell_type": "markdown",
      "metadata": {
        "id": "cj8u3NCG-IKX"
      },
      "source": [
        "![](https://www.tensorflow.org/images/boosted_trees/boosted_trees_ntrees.gif)"
      ]
    },
    {
      "cell_type": "markdown",
      "metadata": {
        "id": "SMKoEZnCdrsp"
      },
      "source": [
        "## Conclusion"
      ]
    },
    {
      "cell_type": "markdown",
      "metadata": {
        "id": "ZSZUSrjXdw9g"
      },
      "source": [
        "In this tutorial you learned how to interpret Boosted Trees models using directional feature contributions and feature importance techniques. These techniques provide insight into how the features impact a model's predictions. Finally, you also gained intution for how a Boosted Tree model fits a complex function by viewing the decision surface for several models."
      ]
    }
  ],
  "metadata": {
    "accelerator": "GPU",
    "colab": {
      "collapsed_sections": [],
      "name": "boosted_trees_model_understanding.ipynb",
      "toc_visible": true
    },
    "kernelspec": {
      "display_name": "Python 3",
      "name": "python3"
    }
  },
  "nbformat": 4,
  "nbformat_minor": 0
}
