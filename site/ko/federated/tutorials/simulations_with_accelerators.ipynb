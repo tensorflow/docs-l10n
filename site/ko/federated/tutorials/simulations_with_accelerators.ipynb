{
  "cells": [
    {
      "cell_type": "markdown",
      "metadata": {
        "id": "1YRGLD1pOOrJ"
      },
      "source": [
        "##### Copyright 2021 The TensorFlow Federated Authors."
      ]
    },
    {
      "cell_type": "code",
      "execution_count": null,
      "metadata": {
        "cellView": "form",
        "id": "koW3R4ntOgLS"
      },
      "outputs": [],
      "source": [
        "#@title Licensed under the Apache License, Version 2.0 (the \"License\");\n",
        "# you may not use this file except in compliance with the License.\n",
        "# You may obtain a copy of the License at\n",
        "#\n",
        "# https://www.apache.org/licenses/LICENSE-2.0\n",
        "#\n",
        "# Unless required by applicable law or agreed to in writing, software\n",
        "# distributed under the License is distributed on an \"AS IS\" BASIS,\n",
        "# WITHOUT WARRANTIES OR CONDITIONS OF ANY KIND, either express or implied.\n",
        "# See the License for the specific language governing permissions and\n",
        "# limitations under the License."
      ]
    },
    {
      "cell_type": "markdown",
      "metadata": {
        "id": "grBmytrShbUE"
      },
      "source": [
        "# 가속기를 사용한 TFF 시뮬레이션\n",
        "\n",
        "이 튜토리얼에서는 가속기로 TFF 시뮬레이션을 설정하는 방법을 설명합니다. 여기서는 단일 시스템 (다중)GPU에 중점을 두며 다중 시스템 및 TPU 설정으로 이 튜토리얼을 업데이트할 예정입니다."
      ]
    },
    {
      "cell_type": "markdown",
      "metadata": {
        "id": "coAumH42q9nz"
      },
      "source": [
        "<table class=\"tfo-notebook-buttons\" align=\"left\">\n",
        "  <td><a target=\"_blank\" href=\"https://www.tensorflow.org/federated/tutorials/simulations_with_accelerators\"><img src=\"https://www.tensorflow.org/images/tf_logo_32px.png\">TensorFlow.org에서 보기</a></td>\n",
        "  <td>     <a target=\"_blank\" href=\"https://colab.research.google.com/github/tensorflow/docs-l10n/blob/master/site/ko/federated/tutorials/simulations_with_accelerators.ipynb\"><img src=\"https://www.tensorflow.org/images/colab_logo_32px.png\">Google Colab에서 실행하기</a>\n",
        "</td>\n",
        "  <td><a target=\"_blank\" href=\"https://github.com/tensorflow/docs-l10n/blob/master/site/ko/federated/tutorials/simulations_with_accelerators.ipynb\"><img src=\"https://www.tensorflow.org/images/GitHub-Mark-32px.png\">GitHub에서 소그 보기</a></td>\n",
        "  <td><a href=\"https://storage.googleapis.com/tensorflow_docs/docs-l10n/site/ko/federated/tutorials/simulations_with_accelerators.ipynb\"><img src=\"https://www.tensorflow.org/images/download_logo_32px.png\">노트북 다운로드</a></td>\n",
        "</table>"
      ]
    },
    {
      "cell_type": "markdown",
      "metadata": {
        "id": "yiq_MY4LopET"
      },
      "source": [
        "## 시작하기 전에\n",
        "\n",
        "먼저, 노트북이 관련 구성 요소가 컴파일된 백엔드에 연결되어 있는지 확인합니다. "
      ]
    },
    {
      "cell_type": "code",
      "execution_count": null,
      "metadata": {
        "id": "ke7EyuvG0Zyn"
      },
      "outputs": [],
      "source": [
        "#@test {\"skip\": true}\n",
        "!pip install --quiet --upgrade tensorflow-federated\n",
        "!pip install -U tensorboard_plugin_profile"
      ]
    },
    {
      "cell_type": "code",
      "execution_count": null,
      "metadata": {
        "id": "CLMBbjjGdG3W"
      },
      "outputs": [],
      "source": [
        "%load_ext tensorboard"
      ]
    },
    {
      "cell_type": "code",
      "execution_count": null,
      "metadata": {
        "id": "rtgStTrNIId-"
      },
      "outputs": [],
      "source": [
        "import collections\n",
        "import time\n",
        "\n",
        "import numpy as np\n",
        "import tensorflow as tf\n",
        "import tensorflow_federated as tff"
      ]
    },
    {
      "cell_type": "markdown",
      "metadata": {
        "id": "0FZdImo7QfkT"
      },
      "source": [
        "TF가 물리적 GPU를 감지하고 TFF GPU 시뮬레이션을 위한 가상 다중 GPU 환경을 생성할 수 있는지 확인합니다. 두 개의 가상 GPU는 TFF 런타임을 구성하는 방법을 보여주기 위해 제한된 메모리를 갖습니다. "
      ]
    },
    {
      "cell_type": "code",
      "execution_count": null,
      "metadata": {
        "id": "UpuzBJmQIw-J"
      },
      "outputs": [
        {
          "data": {
            "text/plain": [
              "[LogicalDevice(name='/device:CPU:0', device_type='CPU'),\n",
              " LogicalDevice(name='/device:GPU:0', device_type='GPU'),\n",
              " LogicalDevice(name='/device:GPU:1', device_type='GPU')]"
            ]
          },
          "execution_count": 2,
          "metadata": {
            "tags": []
          },
          "output_type": "execute_result"
        }
      ],
      "source": [
        "gpu_devices = tf.config.list_physical_devices('GPU')\n",
        "if not gpu_devices:\n",
        "  raise ValueError('Cannot detect physical GPU device in TF')\n",
        "# TODO: b/277213652 - Remove this call, as it doesn't work with C++ executor\n",
        "tf.config.set_logical_device_configuration(\n",
        "    gpu_devices[0], \n",
        "    [tf.config.LogicalDeviceConfiguration(memory_limit=1024),\n",
        "     tf.config.LogicalDeviceConfiguration(memory_limit=1024)])\n",
        "tf.config.list_logical_devices()"
      ]
    },
    {
      "cell_type": "markdown",
      "metadata": {
        "id": "X6eWsahmQpmi"
      },
      "source": [
        "다음 \"Hello World\" 예제를 실행하여 TFF 환경이 올바르게 설정되었는지 확인합니다. 작동하지 않으면 [설치](../install.md) 가이드에서 지침을 참조하세요."
      ]
    },
    {
      "cell_type": "code",
      "execution_count": null,
      "metadata": {
        "id": "wjX3wmC-P1aE"
      },
      "outputs": [
        {
          "data": {
            "text/plain": [
              "b'Hello, World!'"
            ]
          },
          "execution_count": 3,
          "metadata": {
            "tags": []
          },
          "output_type": "execute_result"
        }
      ],
      "source": [
        "@tff.federated_computation\n",
        "def hello_world():\n",
        "  return 'Hello, World!'\n",
        "\n",
        "hello_world()"
      ]
    },
    {
      "cell_type": "markdown",
      "metadata": {
        "id": "C2-BdlyAId1_"
      },
      "source": [
        "## EMNIST 실험 설정\n",
        "\n",
        "이 튜토리얼에서는 페더레이션 평균화 알고리즘을 사용하여 EMNIST 이미지 분류기를 훈련합니다. TFF 웹사이트에서 MNIST 예제를 로드하여 시작하겠습니다."
      ]
    },
    {
      "cell_type": "code",
      "execution_count": null,
      "metadata": {
        "id": "2dVPgxN0MdG2"
      },
      "outputs": [],
      "source": [
        "emnist_train, emnist_test = tff.simulation.datasets.emnist.load_data(only_digits=True)"
      ]
    },
    {
      "cell_type": "markdown",
      "metadata": {
        "id": "QJZh5NoiG-hR"
      },
      "source": [
        "[simple_fedavg](https://github.com/tensorflow/federated/tree/main/tensorflow_federated/examples/simple_fedavg) 예제에 따라 EMNIST 예제를 전처리하는 함수를 정의합니다. `client_epochs_per_round` 인수는 페더레이션 학습에서 클라이언트의 로컬 epoch 수를 제어합니다. "
      ]
    },
    {
      "cell_type": "code",
      "execution_count": null,
      "metadata": {
        "id": "0S7t0-3hHCWc"
      },
      "outputs": [],
      "source": [
        "def preprocess_emnist_dataset(client_epochs_per_round, batch_size, test_batch_size):\n",
        "\n",
        "  def element_fn(element):\n",
        "    return collections.OrderedDict(\n",
        "        x=tf.expand_dims(element['pixels'], -1), y=element['label'])\n",
        "\n",
        "  def preprocess_train_dataset(dataset):\n",
        "    # Use buffer_size same as the maximum client dataset size,\n",
        "    # 418 for Federated EMNIST\n",
        "    return dataset.map(element_fn).shuffle(buffer_size=418).repeat(\n",
        "        count=client_epochs_per_round).batch(batch_size, drop_remainder=False)\n",
        "\n",
        "  def preprocess_test_dataset(dataset):\n",
        "    return dataset.map(element_fn).batch(test_batch_size, drop_remainder=False)\n",
        "\n",
        "  train_set = emnist_train.preprocess(preprocess_train_dataset)\n",
        "  test_set = preprocess_test_dataset(\n",
        "      emnist_test.create_tf_dataset_from_all_clients())\n",
        "  return train_set, test_set"
      ]
    },
    {
      "cell_type": "markdown",
      "metadata": {
        "id": "6vmWv0ALKvqh"
      },
      "source": [
        "우리는 VGG와 같은 모델을 사용합니다. 즉, 각 블록에는 두 개의 3x3 컨볼루션이 있고 기능 맵이 서브샘플링될 때 필터 수가 두 배로 늘어납니다. "
      ]
    },
    {
      "cell_type": "code",
      "execution_count": null,
      "metadata": {
        "id": "D_5T0UzHKtde"
      },
      "outputs": [],
      "source": [
        "def _conv_3x3(input_tensor, filters, strides):\n",
        "  \"\"\"2D Convolutional layer with kernel size 3x3.\"\"\"\n",
        "\n",
        "  x = tf.keras.layers.Conv2D(\n",
        "      filters=filters,\n",
        "      strides=strides,\n",
        "      kernel_size=3,\n",
        "      padding='same',\n",
        "      kernel_initializer='he_normal',\n",
        "      use_bias=False,\n",
        "  )(input_tensor)\n",
        "  return x\n",
        "\n",
        "\n",
        "def _basic_block(input_tensor, filters, strides):\n",
        "  \"\"\"A block of two 3x3 conv layers.\"\"\"\n",
        "\n",
        "  x = input_tensor\n",
        "  x = _conv_3x3(x, filters, strides)\n",
        "  x = tf.keras.layers.Activation('relu')(x)\n",
        "\n",
        "  x = _conv_3x3(x, filters, 1)\n",
        "  x = tf.keras.layers.Activation('relu')(x)\n",
        "  return x\n",
        "\n",
        "\n",
        "def _vgg_block(input_tensor, size, filters, strides):\n",
        "  \"\"\"A stack of basic blocks.\"\"\"\n",
        "  x = _basic_block(input_tensor, filters, strides=strides)\n",
        "  for _ in range(size - 1):\n",
        "      x = _basic_block(x, filters, strides=1)\n",
        "  return x\n",
        "\n",
        "\n",
        "def create_cnn(num_blocks, conv_width_multiplier=1, num_classes=10):\n",
        "  \"\"\"Create a VGG-like CNN model. \n",
        "  \n",
        "  The CNN has (6*num_blocks + 2) layers.\n",
        "  \"\"\"\n",
        "  input_shape = (28, 28, 1)  # channels_last\n",
        "  img_input = tf.keras.layers.Input(shape=input_shape)\n",
        "  x = img_input\n",
        "  x = tf.image.per_image_standardization(x)\n",
        "\n",
        "  x = _conv_3x3(x, 16 * conv_width_multiplier, 1)\n",
        "  x = _vgg_block(x, size=num_blocks, filters=16 * conv_width_multiplier, strides=1)\n",
        "  x = _vgg_block(x, size=num_blocks, filters=32 * conv_width_multiplier, strides=2)\n",
        "  x = _vgg_block(x, size=num_blocks, filters=64 * conv_width_multiplier, strides=2)\n",
        "\n",
        "  x = tf.keras.layers.GlobalAveragePooling2D()(x)\n",
        "  x = tf.keras.layers.Dense(num_classes)(x)\n",
        "\n",
        "  model = tf.keras.models.Model(\n",
        "      img_input,\n",
        "      x,\n",
        "      name='cnn-{}-{}'.format(6 * num_blocks + 2, conv_width_multiplier))\n",
        "  return model\n",
        "  "
      ]
    },
    {
      "cell_type": "markdown",
      "metadata": {
        "id": "8OGBU1SLpyiR"
      },
      "source": [
        "이제 EMNIST에 대한 훈련 루프를 정의하겠습니다. `tff.learning.algorithms.build_weighted_fed_avg`에서 `use_experimental_simulation_loop=True`는 성능이 뛰어난 TFF 시뮬레이션을 위해 제안되며 단일 시스템에서 다중 GPU를 활용하는 데 필요합니다. GPU에서 고성능을 제공하는 맞춤형 페더레이션 학습 알고리즘을 정의하는 방법은 [simple_fedavg](https://github.com/tensorflow/federated/tree/main/tensorflow_federated/examples/simple_fedavg) 예제를 참조하세요. 핵심 기능 중 하나는 훈련 루프에 대해 명시적으로 `for ... iter(dataset)`를 사용하는 것입니다. "
      ]
    },
    {
      "cell_type": "code",
      "execution_count": null,
      "metadata": {
        "id": "Dh_rQ6qQEXNn"
      },
      "outputs": [],
      "source": [
        "def keras_evaluate(model, test_data, metric):\n",
        "  metric.reset_states()\n",
        "  for batch in test_data:\n",
        "    preds = model(batch['x'], training=False)\n",
        "    metric.update_state(y_true=batch['y'], y_pred=preds)\n",
        "  return metric.result()\n",
        "\n",
        "\n",
        "def run_federated_training(client_epochs_per_round, \n",
        "                           train_batch_size, \n",
        "                           test_batch_size, \n",
        "                           cnn_num_blocks, \n",
        "                           conv_width_multiplier,\n",
        "                           server_learning_rate, \n",
        "                           client_learning_rate, \n",
        "                           total_rounds, \n",
        "                           clients_per_round, \n",
        "                           rounds_per_eval,\n",
        "                           logdir='logdir'):\n",
        "\n",
        "  train_data, test_data = preprocess_emnist_dataset(\n",
        "      client_epochs_per_round, train_batch_size, test_batch_size)\n",
        "  data_spec = test_data.element_spec\n",
        "\n",
        "  def _model_fn():\n",
        "    keras_model = create_cnn(cnn_num_blocks, conv_width_multiplier)\n",
        "    loss = tf.keras.losses.SparseCategoricalCrossentropy(from_logits=True)\n",
        "    return tff.learning.models.from_keras_model(\n",
        "        keras_model, input_spec=data_spec, loss=loss)\n",
        "  \n",
        "  def _server_optimizer_fn():\n",
        "    return tf.keras.optimizers.SGD(learning_rate=server_learning_rate)\n",
        "\n",
        "  def _client_optimizer_fn():\n",
        "    return tf.keras.optimizers.SGD(learning_rate=client_learning_rate)\n",
        "    \n",
        "  learning_process = tff.learning.algorithms.build_weighted_fed_avg(\n",
        "      model_fn=_model_fn, \n",
        "      server_optimizer_fn=_server_optimizer_fn, \n",
        "      client_optimizer_fn=_client_optimizer_fn, \n",
        "      use_experimental_simulation_loop=True)\n",
        "  \n",
        "  metric = tf.keras.metrics.SparseCategoricalAccuracy(name='test_accuracy')\n",
        "  eval_model = create_cnn(cnn_num_blocks, conv_width_multiplier)\n",
        "  logging.info(eval_model.summary())\n",
        "\n",
        "  server_state = learning_process.initialize()\n",
        "  start_time = time.time()\n",
        "  for round_num in range(total_rounds):\n",
        "    sampled_clients = np.random.choice(\n",
        "        train_data.client_ids,\n",
        "        size=clients_per_round,\n",
        "        replace=False)\n",
        "    sampled_train_data = [\n",
        "        train_data.create_tf_dataset_for_client(client)\n",
        "        for client in sampled_clients\n",
        "    ]\n",
        "    if round_num == total_rounds-1:\n",
        "      with tf.profiler.experimental.Profile(logdir):\n",
        "        result = learning_process.next(\n",
        "            server_state, sampled_train_data)\n",
        "    else:\n",
        "      result = learning_process.next(\n",
        "            server_state, sampled_train_data)\n",
        "    server_state = result.state\n",
        "    train_metrics = result.metrics['client_work']['train']\n",
        "    print(f'Round {round_num} training loss: {train_metrics[\"loss\"]}, '\n",
        "     f'time: {(time.time()-start_time)/(round_num+1.)} secs')\n",
        "    if round_num % rounds_per_eval == 0 or round_num == total_rounds-1:\n",
        "      model_weights = learning_process.get_model_weights(server_state)\n",
        "      model_weights.assign_weights_to(eval_model)\n",
        "      accuracy = keras_evaluate(eval_model, test_data, metric)\n",
        "      print(f'Round {round_num} validation accuracy: {accuracy * 100.0}')\n"
      ]
    },
    {
      "cell_type": "markdown",
      "metadata": {
        "id": "r_IqGFKbro1v"
      },
      "source": [
        "## 단일 GPU 실행\n",
        "\n",
        "TFF의 기본 런타임은 TF와 동일합니다: GPU가 제공되면 첫 번째 GPU가 실행을 위해 선택됩니다. 우리는 비교적 작은 모델로 여러 라운드에 대해 이전에 정의된 페더레이션 훈련을 실행합니다. 마지막 실행 라운드는 `tensorboard`로 프로파일링되고 `tf.profiler`로 시각화됩니다. 프로파일링은 첫 번째 GPU가 사용되었음을 확인했습니다.\n"
      ]
    },
    {
      "cell_type": "code",
      "execution_count": null,
      "metadata": {
        "id": "dyDMZpaUInOH"
      },
      "outputs": [
        {
          "name": "stdout",
          "output_type": "stream",
          "text": [
            "Model: \"cnn-14-4\"\n",
            "_________________________________________________________________\n",
            "Layer (type)                 Output Shape              Param #   \n",
            "=================================================================\n",
            "input_1 (InputLayer)         [(None, 28, 28, 1)]       0         \n",
            "_________________________________________________________________\n",
            "tf.image.per_image_standardi (None, 28, 28, 1)         0         \n",
            "_________________________________________________________________\n",
            "conv2d (Conv2D)              (None, 28, 28, 64)        576       \n",
            "_________________________________________________________________\n",
            "conv2d_1 (Conv2D)            (None, 28, 28, 64)        36864     \n",
            "_________________________________________________________________\n",
            "activation (Activation)      (None, 28, 28, 64)        0         \n",
            "_________________________________________________________________\n",
            "conv2d_2 (Conv2D)            (None, 28, 28, 64)        36864     \n",
            "_________________________________________________________________\n",
            "activation_1 (Activation)    (None, 28, 28, 64)        0         \n",
            "_________________________________________________________________\n",
            "conv2d_3 (Conv2D)            (None, 28, 28, 64)        36864     \n",
            "_________________________________________________________________\n",
            "activation_2 (Activation)    (None, 28, 28, 64)        0         \n",
            "_________________________________________________________________\n",
            "conv2d_4 (Conv2D)            (None, 28, 28, 64)        36864     \n",
            "_________________________________________________________________\n",
            "activation_3 (Activation)    (None, 28, 28, 64)        0         \n",
            "_________________________________________________________________\n",
            "conv2d_5 (Conv2D)            (None, 14, 14, 128)       73728     \n",
            "_________________________________________________________________\n",
            "activation_4 (Activation)    (None, 14, 14, 128)       0         \n",
            "_________________________________________________________________\n",
            "conv2d_6 (Conv2D)            (None, 14, 14, 128)       147456    \n",
            "_________________________________________________________________\n",
            "activation_5 (Activation)    (None, 14, 14, 128)       0         \n",
            "_________________________________________________________________\n",
            "conv2d_7 (Conv2D)            (None, 14, 14, 128)       147456    \n",
            "_________________________________________________________________\n",
            "activation_6 (Activation)    (None, 14, 14, 128)       0         \n",
            "_________________________________________________________________\n",
            "conv2d_8 (Conv2D)            (None, 14, 14, 128)       147456    \n",
            "_________________________________________________________________\n",
            "activation_7 (Activation)    (None, 14, 14, 128)       0         \n",
            "_________________________________________________________________\n",
            "conv2d_9 (Conv2D)            (None, 7, 7, 256)         294912    \n",
            "_________________________________________________________________\n",
            "activation_8 (Activation)    (None, 7, 7, 256)         0         \n",
            "_________________________________________________________________\n",
            "conv2d_10 (Conv2D)           (None, 7, 7, 256)         589824    \n",
            "_________________________________________________________________\n",
            "activation_9 (Activation)    (None, 7, 7, 256)         0         \n",
            "_________________________________________________________________\n",
            "conv2d_11 (Conv2D)           (None, 7, 7, 256)         589824    \n",
            "_________________________________________________________________\n",
            "activation_10 (Activation)   (None, 7, 7, 256)         0         \n",
            "_________________________________________________________________\n",
            "conv2d_12 (Conv2D)           (None, 7, 7, 256)         589824    \n",
            "_________________________________________________________________\n",
            "activation_11 (Activation)   (None, 7, 7, 256)         0         \n",
            "_________________________________________________________________\n",
            "global_average_pooling2d (Gl (None, 256)               0         \n",
            "_________________________________________________________________\n",
            "dense (Dense)                (None, 10)                2570      \n",
            "=================================================================\n",
            "Total params: 2,731,082\n",
            "Trainable params: 2,731,082\n",
            "Non-trainable params: 0\n",
            "_________________________________________________________________\n",
            "Round 0 training loss: 2.4688243865966797, time: 13.382015466690063 secs\n",
            "Round 0 validation accuracy: 15.240497589111328\n",
            "Round 1 training loss: 2.3217368125915527, time: 9.311999917030334 secs\n",
            "Round 2 training loss: 2.3100595474243164, time: 6.972411632537842 secs\n",
            "Round 2 validation accuracy: 11.226489067077637\n",
            "Round 3 training loss: 2.303222417831421, time: 6.467299699783325 secs\n",
            "Round 4 training loss: 2.2976326942443848, time: 5.526083135604859 secs\n",
            "Round 4 validation accuracy: 11.224040031433105\n",
            "Round 5 training loss: 2.2919719219207764, time: 5.468692660331726 secs\n",
            "Round 6 training loss: 2.2911534309387207, time: 4.935825347900391 secs\n",
            "Round 6 validation accuracy: 11.833855628967285\n",
            "Round 7 training loss: 2.2871201038360596, time: 4.918408691883087 secs\n",
            "Round 8 training loss: 2.2818832397460938, time: 4.602836343977186 secs\n",
            "Round 8 validation accuracy: 11.385677337646484\n",
            "Round 9 training loss: 2.2790346145629883, time: 4.99558527469635 secs\n",
            "Round 9 validation accuracy: 11.226489067077637\n"
          ]
        }
      ],
      "source": [
        "run_federated_training(\n",
        "    client_epochs_per_round=1, \n",
        "    train_batch_size=16, \n",
        "    test_batch_size=128, \n",
        "    cnn_num_blocks=2, \n",
        "    conv_width_multiplier=4,\n",
        "    server_learning_rate=1.0, \n",
        "    client_learning_rate=0.01,\n",
        "    total_rounds=10,\n",
        "    clients_per_round=16, \n",
        "    rounds_per_eval=2,\n",
        "    )\n"
      ]
    },
    {
      "cell_type": "code",
      "execution_count": null,
      "metadata": {
        "id": "oQby1JNRfnby"
      },
      "outputs": [],
      "source": [
        "#@test {\"skip\": true}\n",
        "%tensorboard --logdir=logdir --port=0"
      ]
    },
    {
      "cell_type": "markdown",
      "metadata": {
        "id": "mZsODPDX1lEv"
      },
      "source": [
        "## 더 큰 모델 및 OOM\n",
        "\n",
        "더 적은 페더레이션 라운드로 CPU에서 더 큰 모델을 실행해 보겠습니다. "
      ]
    },
    {
      "cell_type": "code",
      "execution_count": null,
      "metadata": {
        "id": "muYz4b0-1usE"
      },
      "outputs": [
        {
          "name": "stdout",
          "output_type": "stream",
          "text": [
            "Model: \"cnn-26-4\"\n",
            "_________________________________________________________________\n",
            "Layer (type)                 Output Shape              Param #   \n",
            "=================================================================\n",
            "input_4 (InputLayer)         [(None, 28, 28, 1)]       0         \n",
            "_________________________________________________________________\n",
            "tf.image.per_image_standardi (None, 28, 28, 1)         0         \n",
            "_________________________________________________________________\n",
            "conv2d_39 (Conv2D)           (None, 28, 28, 64)        576       \n",
            "_________________________________________________________________\n",
            "conv2d_40 (Conv2D)           (None, 28, 28, 64)        36864     \n",
            "_________________________________________________________________\n",
            "activation_36 (Activation)   (None, 28, 28, 64)        0         \n",
            "_________________________________________________________________\n",
            "conv2d_41 (Conv2D)           (None, 28, 28, 64)        36864     \n",
            "_________________________________________________________________\n",
            "activation_37 (Activation)   (None, 28, 28, 64)        0         \n",
            "_________________________________________________________________\n",
            "conv2d_42 (Conv2D)           (None, 28, 28, 64)        36864     \n",
            "_________________________________________________________________\n",
            "activation_38 (Activation)   (None, 28, 28, 64)        0         \n",
            "_________________________________________________________________\n",
            "conv2d_43 (Conv2D)           (None, 28, 28, 64)        36864     \n",
            "_________________________________________________________________\n",
            "activation_39 (Activation)   (None, 28, 28, 64)        0         \n",
            "_________________________________________________________________\n",
            "conv2d_44 (Conv2D)           (None, 28, 28, 64)        36864     \n",
            "_________________________________________________________________\n",
            "activation_40 (Activation)   (None, 28, 28, 64)        0         \n",
            "_________________________________________________________________\n",
            "conv2d_45 (Conv2D)           (None, 28, 28, 64)        36864     \n",
            "_________________________________________________________________\n",
            "activation_41 (Activation)   (None, 28, 28, 64)        0         \n",
            "_________________________________________________________________\n",
            "conv2d_46 (Conv2D)           (None, 28, 28, 64)        36864     \n",
            "_________________________________________________________________\n",
            "activation_42 (Activation)   (None, 28, 28, 64)        0         \n",
            "_________________________________________________________________\n",
            "conv2d_47 (Conv2D)           (None, 28, 28, 64)        36864     \n",
            "_________________________________________________________________\n",
            "activation_43 (Activation)   (None, 28, 28, 64)        0         \n",
            "_________________________________________________________________\n",
            "conv2d_48 (Conv2D)           (None, 14, 14, 128)       73728     \n",
            "_________________________________________________________________\n",
            "activation_44 (Activation)   (None, 14, 14, 128)       0         \n",
            "_________________________________________________________________\n",
            "conv2d_49 (Conv2D)           (None, 14, 14, 128)       147456    \n",
            "_________________________________________________________________\n",
            "activation_45 (Activation)   (None, 14, 14, 128)       0         \n",
            "_________________________________________________________________\n",
            "conv2d_50 (Conv2D)           (None, 14, 14, 128)       147456    \n",
            "_________________________________________________________________\n",
            "activation_46 (Activation)   (None, 14, 14, 128)       0         \n",
            "_________________________________________________________________\n",
            "conv2d_51 (Conv2D)           (None, 14, 14, 128)       147456    \n",
            "_________________________________________________________________\n",
            "activation_47 (Activation)   (None, 14, 14, 128)       0         \n",
            "_________________________________________________________________\n",
            "conv2d_52 (Conv2D)           (None, 14, 14, 128)       147456    \n",
            "_________________________________________________________________\n",
            "activation_48 (Activation)   (None, 14, 14, 128)       0         \n",
            "_________________________________________________________________\n",
            "conv2d_53 (Conv2D)           (None, 14, 14, 128)       147456    \n",
            "_________________________________________________________________\n",
            "activation_49 (Activation)   (None, 14, 14, 128)       0         \n",
            "_________________________________________________________________\n",
            "conv2d_54 (Conv2D)           (None, 14, 14, 128)       147456    \n",
            "_________________________________________________________________\n",
            "activation_50 (Activation)   (None, 14, 14, 128)       0         \n",
            "_________________________________________________________________\n",
            "conv2d_55 (Conv2D)           (None, 14, 14, 128)       147456    \n",
            "_________________________________________________________________\n",
            "activation_51 (Activation)   (None, 14, 14, 128)       0         \n",
            "_________________________________________________________________\n",
            "conv2d_56 (Conv2D)           (None, 7, 7, 256)         294912    \n",
            "_________________________________________________________________\n",
            "activation_52 (Activation)   (None, 7, 7, 256)         0         \n",
            "_________________________________________________________________\n",
            "conv2d_57 (Conv2D)           (None, 7, 7, 256)         589824    \n",
            "_________________________________________________________________\n",
            "activation_53 (Activation)   (None, 7, 7, 256)         0         \n",
            "_________________________________________________________________\n",
            "conv2d_58 (Conv2D)           (None, 7, 7, 256)         589824    \n",
            "_________________________________________________________________\n",
            "activation_54 (Activation)   (None, 7, 7, 256)         0         \n",
            "_________________________________________________________________\n",
            "conv2d_59 (Conv2D)           (None, 7, 7, 256)         589824    \n",
            "_________________________________________________________________\n",
            "activation_55 (Activation)   (None, 7, 7, 256)         0         \n",
            "_________________________________________________________________\n",
            "conv2d_60 (Conv2D)           (None, 7, 7, 256)         589824    \n",
            "_________________________________________________________________\n",
            "activation_56 (Activation)   (None, 7, 7, 256)         0         \n",
            "_________________________________________________________________\n",
            "conv2d_61 (Conv2D)           (None, 7, 7, 256)         589824    \n",
            "_________________________________________________________________\n",
            "activation_57 (Activation)   (None, 7, 7, 256)         0         \n",
            "_________________________________________________________________\n",
            "conv2d_62 (Conv2D)           (None, 7, 7, 256)         589824    \n",
            "_________________________________________________________________\n",
            "activation_58 (Activation)   (None, 7, 7, 256)         0         \n",
            "_________________________________________________________________\n",
            "conv2d_63 (Conv2D)           (None, 7, 7, 256)         589824    \n",
            "_________________________________________________________________\n",
            "activation_59 (Activation)   (None, 7, 7, 256)         0         \n",
            "_________________________________________________________________\n",
            "global_average_pooling2d_3 ( (None, 256)               0         \n",
            "_________________________________________________________________\n",
            "dense_3 (Dense)              (None, 10)                2570      \n",
            "=================================================================\n",
            "Total params: 5,827,658\n",
            "Trainable params: 5,827,658\n",
            "Non-trainable params: 0\n",
            "_________________________________________________________________\n",
            "Round 0 training loss: 2.437223434448242, time: 24.121686458587646 secs\n",
            "Round 0 validation accuracy: 9.024785041809082\n",
            "Round 1 training loss: 2.3081459999084473, time: 19.48685622215271 secs\n",
            "Round 2 training loss: 2.305305242538452, time: 15.73950457572937 secs\n",
            "Round 2 validation accuracy: 9.791339874267578\n",
            "Round 3 training loss: 2.303149700164795, time: 15.194068729877472 secs\n",
            "Round 4 training loss: 2.3026506900787354, time: 14.036769819259643 secs\n",
            "Round 4 validation accuracy: 12.193867683410645\n"
          ]
        }
      ],
      "source": [
        "run_federated_training(\n",
        "    client_epochs_per_round=1, \n",
        "    train_batch_size=16, \n",
        "    test_batch_size=128, \n",
        "    cnn_num_blocks=4, \n",
        "    conv_width_multiplier=4,\n",
        "    server_learning_rate=1.0, \n",
        "    client_learning_rate=0.01,\n",
        "    total_rounds=5,\n",
        "    clients_per_round=16, \n",
        "    rounds_per_eval=2,\n",
        "    )"
      ]
    },
    {
      "cell_type": "markdown",
      "metadata": {
        "id": "FVPGSnSaBt8V"
      },
      "source": [
        "이 모델은 단일 GPU에서 메모리 부족 문제를 일으킬 수 있습니다. GPU의 메모리가 제한된 경우가 많기 때문에 대규모 CPU 실험에서 GPU 시뮬레이션으로의 마이그레이션은 메모리 사용량에 제한이 따를 수 있습니다. OOM 문제를 완화하기 위해 TFF 런타임에서 여러 매개변수를 조정할 수 있습니다.\n",
        "\n",
        "- Adjust `max_concurrent_computation_calls` in `tff.backends.native.set_sync_local_cpp_execution_context` to control the concurrency of client traininng.\n"
      ]
    },
    {
      "cell_type": "code",
      "execution_count": null,
      "metadata": {
        "id": "QhdtvKO8Dy5j"
      },
      "outputs": [
        {
          "name": "stdout",
          "output_type": "stream",
          "text": [
            "Model: \"cnn-26-4\"\n",
            "_________________________________________________________________\n",
            "Layer (type)                 Output Shape              Param #   \n",
            "=================================================================\n",
            "input_1 (InputLayer)         [(None, 28, 28, 1)]       0         \n",
            "_________________________________________________________________\n",
            "tf.image.per_image_standardi (None, 28, 28, 1)         0         \n",
            "_________________________________________________________________\n",
            "conv2d (Conv2D)              (None, 28, 28, 64)        576       \n",
            "_________________________________________________________________\n",
            "conv2d_1 (Conv2D)            (None, 28, 28, 64)        36864     \n",
            "_________________________________________________________________\n",
            "activation (Activation)      (None, 28, 28, 64)        0         \n",
            "_________________________________________________________________\n",
            "conv2d_2 (Conv2D)            (None, 28, 28, 64)        36864     \n",
            "_________________________________________________________________\n",
            "activation_1 (Activation)    (None, 28, 28, 64)        0         \n",
            "_________________________________________________________________\n",
            "conv2d_3 (Conv2D)            (None, 28, 28, 64)        36864     \n",
            "_________________________________________________________________\n",
            "activation_2 (Activation)    (None, 28, 28, 64)        0         \n",
            "_________________________________________________________________\n",
            "conv2d_4 (Conv2D)            (None, 28, 28, 64)        36864     \n",
            "_________________________________________________________________\n",
            "activation_3 (Activation)    (None, 28, 28, 64)        0         \n",
            "_________________________________________________________________\n",
            "conv2d_5 (Conv2D)            (None, 28, 28, 64)        36864     \n",
            "_________________________________________________________________\n",
            "activation_4 (Activation)    (None, 28, 28, 64)        0         \n",
            "_________________________________________________________________\n",
            "conv2d_6 (Conv2D)            (None, 28, 28, 64)        36864     \n",
            "_________________________________________________________________\n",
            "activation_5 (Activation)    (None, 28, 28, 64)        0         \n",
            "_________________________________________________________________\n",
            "conv2d_7 (Conv2D)            (None, 28, 28, 64)        36864     \n",
            "_________________________________________________________________\n",
            "activation_6 (Activation)    (None, 28, 28, 64)        0         \n",
            "_________________________________________________________________\n",
            "conv2d_8 (Conv2D)            (None, 28, 28, 64)        36864     \n",
            "_________________________________________________________________\n",
            "activation_7 (Activation)    (None, 28, 28, 64)        0         \n",
            "_________________________________________________________________\n",
            "conv2d_9 (Conv2D)            (None, 14, 14, 128)       73728     \n",
            "_________________________________________________________________\n",
            "activation_8 (Activation)    (None, 14, 14, 128)       0         \n",
            "_________________________________________________________________\n",
            "conv2d_10 (Conv2D)           (None, 14, 14, 128)       147456    \n",
            "_________________________________________________________________\n",
            "activation_9 (Activation)    (None, 14, 14, 128)       0         \n",
            "_________________________________________________________________\n",
            "conv2d_11 (Conv2D)           (None, 14, 14, 128)       147456    \n",
            "_________________________________________________________________\n",
            "activation_10 (Activation)   (None, 14, 14, 128)       0         \n",
            "_________________________________________________________________\n",
            "conv2d_12 (Conv2D)           (None, 14, 14, 128)       147456    \n",
            "_________________________________________________________________\n",
            "activation_11 (Activation)   (None, 14, 14, 128)       0         \n",
            "_________________________________________________________________\n",
            "conv2d_13 (Conv2D)           (None, 14, 14, 128)       147456    \n",
            "_________________________________________________________________\n",
            "activation_12 (Activation)   (None, 14, 14, 128)       0         \n",
            "_________________________________________________________________\n",
            "conv2d_14 (Conv2D)           (None, 14, 14, 128)       147456    \n",
            "_________________________________________________________________\n",
            "activation_13 (Activation)   (None, 14, 14, 128)       0         \n",
            "_________________________________________________________________\n",
            "conv2d_15 (Conv2D)           (None, 14, 14, 128)       147456    \n",
            "_________________________________________________________________\n",
            "activation_14 (Activation)   (None, 14, 14, 128)       0         \n",
            "_________________________________________________________________\n",
            "conv2d_16 (Conv2D)           (None, 14, 14, 128)       147456    \n",
            "_________________________________________________________________\n",
            "activation_15 (Activation)   (None, 14, 14, 128)       0         \n",
            "_________________________________________________________________\n",
            "conv2d_17 (Conv2D)           (None, 7, 7, 256)         294912    \n",
            "_________________________________________________________________\n",
            "activation_16 (Activation)   (None, 7, 7, 256)         0         \n",
            "_________________________________________________________________\n",
            "conv2d_18 (Conv2D)           (None, 7, 7, 256)         589824    \n",
            "_________________________________________________________________\n",
            "activation_17 (Activation)   (None, 7, 7, 256)         0         \n",
            "_________________________________________________________________\n",
            "conv2d_19 (Conv2D)           (None, 7, 7, 256)         589824    \n",
            "_________________________________________________________________\n",
            "activation_18 (Activation)   (None, 7, 7, 256)         0         \n",
            "_________________________________________________________________\n",
            "conv2d_20 (Conv2D)           (None, 7, 7, 256)         589824    \n",
            "_________________________________________________________________\n",
            "activation_19 (Activation)   (None, 7, 7, 256)         0         \n",
            "_________________________________________________________________\n",
            "conv2d_21 (Conv2D)           (None, 7, 7, 256)         589824    \n",
            "_________________________________________________________________\n",
            "activation_20 (Activation)   (None, 7, 7, 256)         0         \n",
            "_________________________________________________________________\n",
            "conv2d_22 (Conv2D)           (None, 7, 7, 256)         589824    \n",
            "_________________________________________________________________\n",
            "activation_21 (Activation)   (None, 7, 7, 256)         0         \n",
            "_________________________________________________________________\n",
            "conv2d_23 (Conv2D)           (None, 7, 7, 256)         589824    \n",
            "_________________________________________________________________\n",
            "activation_22 (Activation)   (None, 7, 7, 256)         0         \n",
            "_________________________________________________________________\n",
            "conv2d_24 (Conv2D)           (None, 7, 7, 256)         589824    \n",
            "_________________________________________________________________\n",
            "activation_23 (Activation)   (None, 7, 7, 256)         0         \n",
            "_________________________________________________________________\n",
            "global_average_pooling2d (Gl (None, 256)               0         \n",
            "_________________________________________________________________\n",
            "dense (Dense)                (None, 10)                2570      \n",
            "=================================================================\n",
            "Total params: 5,827,658\n",
            "Trainable params: 5,827,658\n",
            "Non-trainable params: 0\n",
            "_________________________________________________________________\n",
            "Round 0 training loss: 2.4990053176879883, time: 11.922378778457642 secs\n",
            "Round 0 validation accuracy: 11.224040031433105\n",
            "Round 1 training loss: 2.307560920715332, time: 9.916815996170044 secs\n",
            "Round 2 training loss: 2.3032877445220947, time: 7.68927804629008 secs\n",
            "Round 2 validation accuracy: 11.224040031433105\n",
            "Round 3 training loss: 2.302366256713867, time: 7.681552231311798 secs\n",
            "Round 4 training loss: 2.301671028137207, time: 7.613566827774048 secs\n",
            "Round 4 validation accuracy: 11.224040031433105\n"
          ]
        }
      ],
      "source": [
        "# Control concurrency by `max_concurrent_computation_calls`.\n",
        "tff.backends.native.set_sync_local_cpp_execution_context(\n",
        "    max_concurrent_computation_calls=16/2)\n",
        "\n",
        "run_federated_training(\n",
        "    client_epochs_per_round=1, \n",
        "    train_batch_size=16, \n",
        "    test_batch_size=128, \n",
        "    cnn_num_blocks=4, \n",
        "    conv_width_multiplier=4,\n",
        "    server_learning_rate=1.0, \n",
        "    client_learning_rate=0.01,\n",
        "    total_rounds=5,\n",
        "    clients_per_round=16, \n",
        "    rounds_per_eval=2,\n",
        "    )"
      ]
    },
    {
      "cell_type": "markdown",
      "metadata": {
        "id": "bStWWyEEHHEm"
      },
      "source": [
        "## 성능 최적화\n",
        "\n",
        "더 나은 성능을 달성할 수 있는 TF의 기술은 일반적으로 [혼합 정밀도 훈련](https://www.tensorflow.org/guide/mixed_precision) 및 [XLA](https://www.tensorflow.org/xla)와 같이 TFF에서 사용할 수 있습니다. 상당히 큰 속도 향상(V100과 같은 GPU에서) 및 혼합 정밀도의 메모리 절약을 달성할 수 있는 경우가 종종 있으며, 이는 `tf.profiler`로 검사할 수 있습니다. "
      ]
    },
    {
      "cell_type": "code",
      "execution_count": null,
      "metadata": {
        "id": "5p6p7hu-IEpd"
      },
      "outputs": [
        {
          "name": "stdout",
          "output_type": "stream",
          "text": [
            "Model: \"cnn-26-4\"\n",
            "_________________________________________________________________\n",
            "Layer (type)                 Output Shape              Param #   \n",
            "=================================================================\n",
            "input_1 (InputLayer)         [(None, 28, 28, 1)]       0         \n",
            "_________________________________________________________________\n",
            "tf.image.per_image_standardi (None, 28, 28, 1)         0         \n",
            "_________________________________________________________________\n",
            "conv2d (Conv2D)              (None, 28, 28, 64)        576       \n",
            "_________________________________________________________________\n",
            "conv2d_1 (Conv2D)            (None, 28, 28, 64)        36864     \n",
            "_________________________________________________________________\n",
            "activation (Activation)      (None, 28, 28, 64)        0         \n",
            "_________________________________________________________________\n",
            "conv2d_2 (Conv2D)            (None, 28, 28, 64)        36864     \n",
            "_________________________________________________________________\n",
            "activation_1 (Activation)    (None, 28, 28, 64)        0         \n",
            "_________________________________________________________________\n",
            "conv2d_3 (Conv2D)            (None, 28, 28, 64)        36864     \n",
            "_________________________________________________________________\n",
            "activation_2 (Activation)    (None, 28, 28, 64)        0         \n",
            "_________________________________________________________________\n",
            "conv2d_4 (Conv2D)            (None, 28, 28, 64)        36864     \n",
            "_________________________________________________________________\n",
            "activation_3 (Activation)    (None, 28, 28, 64)        0         \n",
            "_________________________________________________________________\n",
            "conv2d_5 (Conv2D)            (None, 28, 28, 64)        36864     \n",
            "_________________________________________________________________\n",
            "activation_4 (Activation)    (None, 28, 28, 64)        0         \n",
            "_________________________________________________________________\n",
            "conv2d_6 (Conv2D)            (None, 28, 28, 64)        36864     \n",
            "_________________________________________________________________\n",
            "activation_5 (Activation)    (None, 28, 28, 64)        0         \n",
            "_________________________________________________________________\n",
            "conv2d_7 (Conv2D)            (None, 28, 28, 64)        36864     \n",
            "_________________________________________________________________\n",
            "activation_6 (Activation)    (None, 28, 28, 64)        0         \n",
            "_________________________________________________________________\n",
            "conv2d_8 (Conv2D)            (None, 28, 28, 64)        36864     \n",
            "_________________________________________________________________\n",
            "activation_7 (Activation)    (None, 28, 28, 64)        0         \n",
            "_________________________________________________________________\n",
            "conv2d_9 (Conv2D)            (None, 14, 14, 128)       73728     \n",
            "_________________________________________________________________\n",
            "activation_8 (Activation)    (None, 14, 14, 128)       0         \n",
            "_________________________________________________________________\n",
            "conv2d_10 (Conv2D)           (None, 14, 14, 128)       147456    \n",
            "_________________________________________________________________\n",
            "activation_9 (Activation)    (None, 14, 14, 128)       0         \n",
            "_________________________________________________________________\n",
            "conv2d_11 (Conv2D)           (None, 14, 14, 128)       147456    \n",
            "_________________________________________________________________\n",
            "activation_10 (Activation)   (None, 14, 14, 128)       0         \n",
            "_________________________________________________________________\n",
            "conv2d_12 (Conv2D)           (None, 14, 14, 128)       147456    \n",
            "_________________________________________________________________\n",
            "activation_11 (Activation)   (None, 14, 14, 128)       0         \n",
            "_________________________________________________________________\n",
            "conv2d_13 (Conv2D)           (None, 14, 14, 128)       147456    \n",
            "_________________________________________________________________\n",
            "activation_12 (Activation)   (None, 14, 14, 128)       0         \n",
            "_________________________________________________________________\n",
            "conv2d_14 (Conv2D)           (None, 14, 14, 128)       147456    \n",
            "_________________________________________________________________\n",
            "activation_13 (Activation)   (None, 14, 14, 128)       0         \n",
            "_________________________________________________________________\n",
            "conv2d_15 (Conv2D)           (None, 14, 14, 128)       147456    \n",
            "_________________________________________________________________\n",
            "activation_14 (Activation)   (None, 14, 14, 128)       0         \n",
            "_________________________________________________________________\n",
            "conv2d_16 (Conv2D)           (None, 14, 14, 128)       147456    \n",
            "_________________________________________________________________\n",
            "activation_15 (Activation)   (None, 14, 14, 128)       0         \n",
            "_________________________________________________________________\n",
            "conv2d_17 (Conv2D)           (None, 7, 7, 256)         294912    \n",
            "_________________________________________________________________\n",
            "activation_16 (Activation)   (None, 7, 7, 256)         0         \n",
            "_________________________________________________________________\n",
            "conv2d_18 (Conv2D)           (None, 7, 7, 256)         589824    \n",
            "_________________________________________________________________\n",
            "activation_17 (Activation)   (None, 7, 7, 256)         0         \n",
            "_________________________________________________________________\n",
            "conv2d_19 (Conv2D)           (None, 7, 7, 256)         589824    \n",
            "_________________________________________________________________\n",
            "activation_18 (Activation)   (None, 7, 7, 256)         0         \n",
            "_________________________________________________________________\n",
            "conv2d_20 (Conv2D)           (None, 7, 7, 256)         589824    \n",
            "_________________________________________________________________\n",
            "activation_19 (Activation)   (None, 7, 7, 256)         0         \n",
            "_________________________________________________________________\n",
            "conv2d_21 (Conv2D)           (None, 7, 7, 256)         589824    \n",
            "_________________________________________________________________\n",
            "activation_20 (Activation)   (None, 7, 7, 256)         0         \n",
            "_________________________________________________________________\n",
            "conv2d_22 (Conv2D)           (None, 7, 7, 256)         589824    \n",
            "_________________________________________________________________\n",
            "activation_21 (Activation)   (None, 7, 7, 256)         0         \n",
            "_________________________________________________________________\n",
            "conv2d_23 (Conv2D)           (None, 7, 7, 256)         589824    \n",
            "_________________________________________________________________\n",
            "activation_22 (Activation)   (None, 7, 7, 256)         0         \n",
            "_________________________________________________________________\n",
            "conv2d_24 (Conv2D)           (None, 7, 7, 256)         589824    \n",
            "_________________________________________________________________\n",
            "activation_23 (Activation)   (None, 7, 7, 256)         0         \n",
            "_________________________________________________________________\n",
            "global_average_pooling2d (Gl (None, 256)               0         \n",
            "_________________________________________________________________\n",
            "dense (Dense)                (None, 10)                2570      \n",
            "=================================================================\n",
            "Total params: 5,827,658\n",
            "Trainable params: 5,827,658\n",
            "Non-trainable params: 0\n",
            "_________________________________________________________________\n",
            "Round 0 training loss: 2.4187185764312744, time: 18.763780117034912 secs\n",
            "Round 0 validation accuracy: 9.977468490600586\n",
            "Round 1 training loss: 2.305102825164795, time: 13.712820529937744 secs\n",
            "Round 2 training loss: 2.304737091064453, time: 9.993690172831217 secs\n",
            "Round 2 validation accuracy: 11.779976844787598\n",
            "Round 3 training loss: 2.2996833324432373, time: 9.29404467344284 secs\n",
            "Round 4 training loss: 2.299349308013916, time: 9.195427560806275 secs\n",
            "Round 4 validation accuracy: 11.224040031433105\n"
          ]
        }
      ],
      "source": [
        "# Mixed precision training. \n",
        "tff.backends.native.set_sync_local_cpp_execution_context()\n",
        "policy = tf.keras.mixed_precision.experimental.Policy('mixed_float16')\n",
        "tf.keras.mixed_precision.experimental.set_policy(policy)\n",
        "\n",
        "run_federated_training(\n",
        "    client_epochs_per_round=1, \n",
        "    train_batch_size=16, \n",
        "    test_batch_size=128, \n",
        "    cnn_num_blocks=4, \n",
        "    conv_width_multiplier=4,\n",
        "    server_learning_rate=1.0, \n",
        "    client_learning_rate=0.01,\n",
        "    total_rounds=5,\n",
        "    clients_per_round=16, \n",
        "    rounds_per_eval=2,\n",
        "    logdir='mixed'\n",
        "    )"
      ]
    },
    {
      "cell_type": "code",
      "execution_count": null,
      "metadata": {
        "id": "eiPxHOxVJAW-"
      },
      "outputs": [],
      "source": [
        "#@test {\"skip\": true}\n",
        "%tensorboard --logdir=mixed --port=0"
      ]
    }
  ],
  "metadata": {
    "colab": {
      "name": "simulations_with_accelerators.ipynb",
      "toc_visible": true
    },
    "kernelspec": {
      "display_name": "Python 3",
      "name": "python3"
    }
  },
  "nbformat": 4,
  "nbformat_minor": 0
}
