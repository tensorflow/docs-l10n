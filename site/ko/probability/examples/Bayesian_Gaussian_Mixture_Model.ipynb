{
  "cells": [
    {
      "cell_type": "markdown",
      "metadata": {
        "id": "htW5SiGzeXYm"
      },
      "source": [
        "##### Copyright 2018 The TensorFlow Probability Authors.\n",
        "\n",
        "Licensed under the Apache License, Version 2.0 (the \"License\");"
      ]
    },
    {
      "cell_type": "code",
      "execution_count": null,
      "metadata": {
        "cellView": "form",
        "id": "9HGeUNoteaSm"
      },
      "outputs": [],
      "source": [
        "#@title Licensed under the Apache License, Version 2.0 (the \"License\"); { display-mode: \"form\" }\n",
        "# you may not use this file except in compliance with the License.\n",
        "# You may obtain a copy of the License at\n",
        "#\n",
        "# https://www.apache.org/licenses/LICENSE-2.0\n",
        "#\n",
        "# Unless required by applicable law or agreed to in writing, software\n",
        "# distributed under the License is distributed on an \"AS IS\" BASIS,\n",
        "# WITHOUT WARRANTIES OR CONDITIONS OF ANY KIND, either express or implied.\n",
        "# See the License for the specific language governing permissions and\n",
        "# limitations under the License."
      ]
    },
    {
      "cell_type": "markdown",
      "metadata": {
        "id": "JJ3UDciDVcB5"
      },
      "source": [
        "# 베이지안 가우시안 혼합 모델 및 해밀턴 MCMC\n",
        "\n",
        "<table class=\"tfo-notebook-buttons\" align=\"left\">\n",
        "  <td><a target=\"_blank\" href=\"https://www.tensorflow.org/probability/examples/Bayesian_Gaussian_Mixture_Model\"><img src=\"https://www.tensorflow.org/images/tf_logo_32px.png\">TensorFlow.org에서 보기</a></td>\n",
        "  <td><a target=\"_blank\" href=\"https://colab.research.google.com/github/tensorflow/docs-l10n/blob/master/site/ko/probability/examples/Bayesian_Gaussian_Mixture_Model.ipynb\"><img src=\"https://www.tensorflow.org/images/colab_logo_32px.png\">Google Colab에서 실행</a></td>\n",
        "  <td><a target=\"_blank\" href=\"https://github.com/tensorflow/docs-l10n/blob/master/site/ko/probability/examples/Bayesian_Gaussian_Mixture_Model.ipynb\"><img src=\"https://www.tensorflow.org/images/GitHub-Mark-32px.png\">GitHub에서 소그 보기</a></td>\n",
        "  <td><a href=\"https://storage.googleapis.com/tensorflow_docs/docs-l10n/site/ko/probability/examples/Bayesian_Gaussian_Mixture_Model.ipynb\"><img src=\"https://www.tensorflow.org/images/download_logo_32px.png\">노트북 다운로드하기</a></td>\n",
        "</table>"
      ]
    },
    {
      "cell_type": "markdown",
      "metadata": {
        "id": "lin40yCC6eBo"
      },
      "source": [
        "이 colab에서는 TensorFlow Probability 기본 형식만 사용하여 베이지안 가우시안 혼합 모델(BGMM)의 사후 확률에서 샘플링을 탐색합니다."
      ]
    },
    {
      "cell_type": "markdown",
      "metadata": {
        "id": "eZs1ShikNBK2"
      },
      "source": [
        "## 모델"
      ]
    },
    {
      "cell_type": "markdown",
      "metadata": {
        "id": "7JjokKMbk2hJ"
      },
      "source": [
        "각 차원 $D$의 $k\\in{1,\\ldots,K}$ 혼합 구성 요소에 대해 다음의 베이지안 가우시안 혼합 모델로 $i\\in{1,\\ldots,N}$ iid 샘플을 모델링하려고 합니다.\n",
        "\n",
        "$$\\begin{align*}\n",
        "\\theta &amp;\\sim \\text{Dirichlet}(\\text{concentration}=\\alpha_0)\\\\\n",
        "\\mu_k &amp;\\sim \\text{Normal}(\\text{loc}=\\mu_{0k}, \\text{scale}=I_D)\\\\\n",
        "T_k &amp;\\sim \\text{Wishart}(\\text{df}=5, \\text{scale}=I_D)\\\\\n",
        "Z_i &amp;\\sim \\text{Categorical}(\\text{probs}=\\theta)\\\\\n",
        "Y_i &amp;\\sim \\text{Normal}(\\text{loc}=\\mu_{z_i}, \\text{scale}=T_{z_i}^{-1/2})\\\\\n",
        "\\end{align*}$$"
      ]
    },
    {
      "cell_type": "markdown",
      "metadata": {
        "id": "iySRABi0qZnQ"
      },
      "source": [
        "`scale` 인수는 모두 `cholesky` 의미 체계를 가지고 있습니다. 이 규칙은 TF 분포의 규칙이기 때문에 사용됩니다(계산적으로 유리하므로 TF 분포에서 부분적으로 이 규칙을 사용합니다)."
      ]
    },
    {
      "cell_type": "markdown",
      "metadata": {
        "id": "Y6X_Beihwzyi"
      },
      "source": [
        "목표는 다음의 사후 확률에서 샘플을 생성하는 것입니다.\n",
        "\n",
        "$$p\\left(\\theta, \\{\\mu_k, T_k\\}_{k=1}^K \\Big| \\{y_i\\}_{i=1}^N, \\alpha_0, \\{\\mu_{ok}\\}_{k=1}^K\\right)$$\n",
        "\n",
        "${Z_i}_{i=1}^N$는 존재하지 않는다는 점에 유의하세요. $N$로 조정되지 않는 확률 변수에만 관심을 둡니다(또한, 운 좋게도 $Z_i$를 무시하는 TF 분포가 있습니다).\n",
        "\n",
        "It is not possible to directly sample from this distribution owing to a computationally intractable normalization term.\n",
        "\n",
        "[메트로폴리스-헤이스팅스 알고리즘](https://en.wikipedia.org/wiki/Metropolis%E2%80%93Hastings_algorithm)은 다루기 힘든 정규화된 분포에서 샘플링하는 기술입니다.\n",
        "\n",
        "TensorFlow Probability는 메트로폴리스-헤이스팅스 기반의 여러 옵션을 포함하여 많은 MCMC 옵션을 제공합니다. 이 노트북에서는 [해밀턴 몬테카를로](https://en.wikipedia.org/wiki/Hamiltonian_Monte_Carlo)(`tfp.mcmc.HamiltonianMonteCarlo`)를 사용합니다. 해밀턴 몬테카를로(HMC)는 신속하게 수렴하고 (좌표 방식이 아닌) 상태 공간을 공동으로 샘플링하며, TF의 장점 중 하나인 자동 미분을 활용하므로 종종 좋은 선택입니다. 즉, BGMM 사후 확률에서의 샘플링은 실제로 [Gibb의 샘플링](https://en.wikipedia.org/wiki/Gibbs_sampling)과 같은 다른 접근 방식을 사용하면 더 잘 수행될 수 있습니다."
      ]
    },
    {
      "cell_type": "code",
      "execution_count": null,
      "metadata": {
        "id": "uswTWdgNu46j"
      },
      "outputs": [],
      "source": [
        "%matplotlib inline\n",
        "\n",
        "\n",
        "import functools\n",
        "\n",
        "import matplotlib.pyplot as plt; plt.style.use('ggplot')\n",
        "import numpy as np\n",
        "import seaborn as sns; sns.set_context('notebook')\n",
        "\n",
        "import tensorflow.compat.v2 as tf\n",
        "tf.enable_v2_behavior()\n",
        "import tensorflow_probability as tfp\n",
        "\n",
        "tfd = tfp.distributions\n",
        "tfb = tfp.bijectors\n",
        "\n",
        "physical_devices = tf.config.experimental.list_physical_devices('GPU')\n",
        "if len(physical_devices) > 0:\n",
        "  tf.config.experimental.set_memory_growth(physical_devices[0], True)"
      ]
    },
    {
      "cell_type": "markdown",
      "metadata": {
        "id": "Uj9uHZN2yUqz"
      },
      "source": [
        "실제로 모델을 빌드하기 전에 새로운 유형의 분포를 정의해야 합니다. 위의 모델 사양에서 역공분산 행렬, 즉 [정밀 행렬](https://en.wikipedia.org/wiki/Precision_(statistics%29)로 MVN을 매개변수화하고 있음이 분명합니다. 이를 TF에서 달성하려면, `Bijector`를 롤 아웃해야 합니다. 이 `Bijector`는 순방향 변환을 사용합니다.\n",
        "\n",
        "- `Y =  tf.linalg.triangular_solve((tf.linalg.matrix_transpose(chol_precision_tril), X, adjoint=True) + loc`.\n",
        "\n",
        "그리고 `log_prob` 계산은 그 반대입니다. 즉, 이 계산은 다음과 같습니다.\n",
        "\n",
        "- `X = tf.linalg.matmul(chol_precision_tril, X - loc, adjoint_a=True)`.\n",
        "\n",
        "HMC에 필요한 것은 `log_prob` 뿐이므로, (`tfd.MultivariateNormalTriL`의 경우처럼) `tf.linalg.triangular_solve`를 호출하지 않습니다. 이는 `tf.linalg.matmul`이 일반적으로 더 나은 캐시 위치로 인해 더 빠르기 때문에 유리합니다.\n"
      ]
    },
    {
      "cell_type": "code",
      "execution_count": null,
      "metadata": {
        "id": "nc4yy6vW-lC_"
      },
      "outputs": [],
      "source": [
        "class MVNCholPrecisionTriL(tfd.TransformedDistribution):\n",
        "  \"\"\"MVN from loc and (Cholesky) precision matrix.\"\"\"\n",
        "\n",
        "  def __init__(self, loc, chol_precision_tril, name=None):\n",
        "    super(MVNCholPrecisionTriL, self).__init__(\n",
        "        distribution=tfd.Independent(tfd.Normal(tf.zeros_like(loc),\n",
        "                                                scale=tf.ones_like(loc)),\n",
        "                                     reinterpreted_batch_ndims=1),\n",
        "        bijector=tfb.Chain([\n",
        "            tfb.Shift(shift=loc),\n",
        "            tfb.Invert(tfb.ScaleMatvecTriL(scale_tril=chol_precision_tril,\n",
        "                                           adjoint=True)),\n",
        "        ]),\n",
        "        name=name)"
      ]
    },
    {
      "cell_type": "markdown",
      "metadata": {
        "id": "JDOkWhDQg4ZG"
      },
      "source": [
        "`tfd.Independent` 분포는 한 분포의 독립적인 그리기를 통계적으로 독립된 좌표가 있는 다변량 분포로 바꿉니다. `log_prob` 계산 측면에서, 이 '메타 분포'는 이벤트 차원에 대한 단순 합계로 나타납니다.\n",
        "\n",
        "또한 scale 행렬의 `adjoint` ('transpose')를 사용했습니다. 그 이유는 정밀도가 역공분산이면, 즉 $P=C^{-1}$이고 $C=AA^\\top$이면, $P=BB^{\\top}$이고 여기서 $B=A^{-\\top}$입니다."
      ]
    },
    {
      "cell_type": "markdown",
      "metadata": {
        "id": "Pfkc8cmhh2Qz"
      },
      "source": [
        "이 분포는 다소 까다로우므로 `MVNCholPrecisionTriL`이 예상되는 대로 동작하는지 빠르게 확인하겠습니다."
      ]
    },
    {
      "cell_type": "code",
      "execution_count": null,
      "metadata": {
        "id": "GhqbjwlIh1Vn"
      },
      "outputs": [
        {
          "name": "stdout",
          "output_type": "stream",
          "text": [
            "true mean: [ 1. -1.]\n",
            "sample mean: [ 1.0002806 -1.000105 ]\n",
            "true cov:\n",
            " [[ 1.0625   -0.03125 ]\n",
            " [-0.03125   0.015625]]\n",
            "sample cov:\n",
            " [[ 1.0641273  -0.03126175]\n",
            " [-0.03126175  0.01559312]]\n"
          ]
        }
      ],
      "source": [
        "def compute_sample_stats(d, seed=42, n=int(1e6)):\n",
        "  x = d.sample(n, seed=seed)\n",
        "  sample_mean = tf.reduce_mean(x, axis=0, keepdims=True)\n",
        "  s = x - sample_mean\n",
        "  sample_cov = tf.linalg.matmul(s, s, adjoint_a=True) / tf.cast(n, s.dtype)\n",
        "  sample_scale = tf.linalg.cholesky(sample_cov)\n",
        "  sample_mean = sample_mean[0]\n",
        "  return [\n",
        "      sample_mean,\n",
        "      sample_cov,\n",
        "      sample_scale,\n",
        "  ]\n",
        "\n",
        "dtype = np.float32\n",
        "true_loc = np.array([1., -1.], dtype=dtype)\n",
        "true_chol_precision = np.array([[1., 0.],\n",
        "                                [2., 8.]],\n",
        "                               dtype=dtype)\n",
        "true_precision = np.matmul(true_chol_precision, true_chol_precision.T)\n",
        "true_cov = np.linalg.inv(true_precision)\n",
        "\n",
        "d = MVNCholPrecisionTriL(\n",
        "    loc=true_loc,\n",
        "    chol_precision_tril=true_chol_precision)\n",
        "\n",
        "[sample_mean, sample_cov, sample_scale] = [\n",
        "    t.numpy() for t in compute_sample_stats(d)]\n",
        "\n",
        "print('true mean:', true_loc)\n",
        "print('sample mean:', sample_mean)\n",
        "print('true cov:\\n', true_cov)\n",
        "print('sample cov:\\n', sample_cov)"
      ]
    },
    {
      "cell_type": "markdown",
      "metadata": {
        "id": "N60z8scN1v6E"
      },
      "source": [
        "샘플 평균과 공분산이 실제 평균과 공분산에 가까우므로 분포가 올바르게 구현된 것처럼 보입니다. 이제 `MVNCholPrecisionTriL` `tfp.distributions.JointDistributionNamed`로 BGMM 모델을 지정합니다. 관찰 모델의 경우, `tfd.MixtureSameFamily`를 사용하여 ${Z_i}_{i=1}^N$ 그리기를 자동으로 통합합니다."
      ]
    },
    {
      "cell_type": "code",
      "execution_count": null,
      "metadata": {
        "id": "xhzxySDjL2-S"
      },
      "outputs": [],
      "source": [
        "dtype = np.float64\n",
        "dims = 2\n",
        "components = 3\n",
        "num_samples = 1000"
      ]
    },
    {
      "cell_type": "code",
      "execution_count": null,
      "metadata": {
        "id": "xAOmHhZ7LzDQ"
      },
      "outputs": [],
      "source": [
        "bgmm = tfd.JointDistributionNamed(dict(\n",
        "  mix_probs=tfd.Dirichlet(\n",
        "    concentration=np.ones(components, dtype) / 10.),\n",
        "  loc=tfd.Independent(\n",
        "    tfd.Normal(\n",
        "        loc=np.stack([\n",
        "            -np.ones(dims, dtype),\n",
        "            np.zeros(dims, dtype),\n",
        "            np.ones(dims, dtype),\n",
        "        ]),\n",
        "        scale=tf.ones([components, dims], dtype)),\n",
        "    reinterpreted_batch_ndims=2),\n",
        "  precision=tfd.Independent(\n",
        "    tfd.WishartTriL(\n",
        "        df=5,\n",
        "        scale_tril=np.stack([np.eye(dims, dtype=dtype)]*components),\n",
        "        input_output_cholesky=True),\n",
        "    reinterpreted_batch_ndims=1),\n",
        "  s=lambda mix_probs, loc, precision: tfd.Sample(tfd.MixtureSameFamily(\n",
        "      mixture_distribution=tfd.Categorical(probs=mix_probs),\n",
        "      components_distribution=MVNCholPrecisionTriL(\n",
        "          loc=loc,\n",
        "          chol_precision_tril=precision)),\n",
        "      sample_shape=num_samples)\n",
        "))"
      ]
    },
    {
      "cell_type": "code",
      "execution_count": null,
      "metadata": {
        "id": "CpLnRJr2TXYD"
      },
      "outputs": [],
      "source": [
        "def joint_log_prob(observations, mix_probs, loc, chol_precision):\n",
        "  \"\"\"BGMM with priors: loc=Normal, precision=Inverse-Wishart, mix=Dirichlet.\n",
        "\n",
        "  Args:\n",
        "    observations: `[n, d]`-shaped `Tensor` representing Bayesian Gaussian\n",
        "      Mixture model draws. Each sample is a length-`d` vector.\n",
        "    mix_probs: `[K]`-shaped `Tensor` representing random draw from\n",
        "      `Dirichlet` prior.\n",
        "    loc: `[K, d]`-shaped `Tensor` representing the location parameter of the\n",
        "      `K` components.\n",
        "    chol_precision: `[K, d, d]`-shaped `Tensor` representing `K` lower\n",
        "      triangular `cholesky(Precision)` matrices, each being sampled from\n",
        "      a Wishart distribution.\n",
        "\n",
        "  Returns:\n",
        "    log_prob: `Tensor` representing joint log-density over all inputs.\n",
        "  \"\"\"\n",
        "  return bgmm.log_prob(\n",
        "      mix_probs=mix_probs, loc=loc, precision=chol_precision, s=observations)"
      ]
    },
    {
      "cell_type": "markdown",
      "metadata": {
        "id": "7jTMXdymV1QJ"
      },
      "source": [
        "## '훈련' 데이터를 생성합니다."
      ]
    },
    {
      "cell_type": "markdown",
      "metadata": {
        "id": "rl4brz3G3pS7"
      },
      "source": [
        "다음 데모에서는 무작위의 데이터를 샘플링합니다."
      ]
    },
    {
      "cell_type": "code",
      "execution_count": null,
      "metadata": {
        "id": "1AJZAtwXV8RQ"
      },
      "outputs": [],
      "source": [
        "true_loc = np.array([[-2., -2],\n",
        "                     [0, 0],\n",
        "                     [2, 2]], dtype)\n",
        "random = np.random.RandomState(seed=43)\n",
        "\n",
        "true_hidden_component = random.randint(0, components, num_samples)\n",
        "observations = (true_loc[true_hidden_component] +\n",
        "                random.randn(num_samples, dims).astype(dtype))"
      ]
    },
    {
      "cell_type": "markdown",
      "metadata": {
        "id": "zVOvMh7MV37A"
      },
      "source": [
        "## HMC를 사용한 베이지안 추론"
      ]
    },
    {
      "cell_type": "markdown",
      "metadata": {
        "id": "cdN3iKFT32Jp"
      },
      "source": [
        "이제 TFD를 사용하여 모델을 지정하고 일부 관찰 데이터를 얻었으므로 HMC를 실행하는 데 필요한 모든 부분을 확보했습니다.\n",
        "\n",
        "HMC를 실행하려면 [부분 적용](https://en.wikipedia.org/wiki/Partial_application)을 사용하여 샘플링하고 싶지 않은 항목을 '고정'합니다. 이 경우에는 `observations`만 고정하면 됩니다(하이퍼 매개변수는 이미 사전 확률 분포에 적용되었으며 `joint_log_prob` 함수 서명의 일부가 아닙니다)."
      ]
    },
    {
      "cell_type": "code",
      "execution_count": null,
      "metadata": {
        "id": "tVoaDFSf7L_j"
      },
      "outputs": [],
      "source": [
        "unnormalized_posterior_log_prob = functools.partial(joint_log_prob, observations)"
      ]
    },
    {
      "cell_type": "code",
      "execution_count": null,
      "metadata": {
        "id": "a0OMIWIYeMmQ"
      },
      "outputs": [],
      "source": [
        "initial_state = [\n",
        "    tf.fill([components],\n",
        "            value=np.array(1. / components, dtype),\n",
        "            name='mix_probs'),\n",
        "    tf.constant(np.array([[-2., -2],\n",
        "                          [0, 0],\n",
        "                          [2, 2]], dtype),\n",
        "                name='loc'),\n",
        "    tf.linalg.eye(dims, batch_shape=[components], dtype=dtype, name='chol_precision'),\n",
        "]"
      ]
    },
    {
      "cell_type": "markdown",
      "metadata": {
        "id": "TVpiT3LLyfcO"
      },
      "source": [
        "### 제약 조건이 없는 표현"
      ]
    },
    {
      "cell_type": "markdown",
      "metadata": {
        "id": "JS8XOsxiyiBV"
      },
      "source": [
        "해밀턴 몬테카를로(HMC)는 인수와 관련하여 대상 로그 확률 함수를 미분할 수 있어야 합니다. 또한 HMC는 상태 공간에 제약 조건이 없는 경우 훨씬 더 높은 통계 효율성을 나타낼 수 있습니다.\n",
        "\n",
        "즉, BGMM 사후 확률에서 샘플링할 때 두 가지 주요 문제를 해결해야 합니다.\n",
        "\n",
        "1. $\\theta$는 이산 확률 벡터를 나타냅니다. 즉, $\\sum_{k=1}^K \\theta_k = 1$ 및 $\\theta_k&gt;0$와 같아야 합니다.\n",
        "2. $T_k$는 역공분산 행렬을 나타냅니다. 즉, $T_k \\succ 0$가 되어야 합니다. 이는 [양정치](https://en.wikipedia.org/wiki/Positive-definite_matrix)가 됩니다.\n"
      ]
    },
    {
      "cell_type": "markdown",
      "metadata": {
        "id": "Vt9SXJzO0Cks"
      },
      "source": [
        "위의 요구 사항을 해결하려면 다음을 수행해야 합니다.\n",
        "\n",
        "1. 제약 조건이 있는 변수를 제약 조건이 없는 공간으로 변환합니다.\n",
        "2. 제약 조건이 없는 공간에서 MCMC를 실행합니다.\n",
        "3. 제약 조건이 없는 변수를 제약 조건이 있는 공간으로 다시 변환합니다.\n",
        "\n",
        "`MVNCholPrecisionTriL`과 마찬가지로, 제약 조건이 없는 공간으로 확률 변수를 변환하기 위해 [`Bijector`](https://www.tensorflow.org/probability/api_docs/python/tfp/bijectors/Bijector)를 사용합니다.\n",
        "\n",
        "- [`Dirichlet`](https://en.wikipedia.org/wiki/Dirichlet_distribution)은 [softmax 함수](https://en.wikipedia.org/wiki/Softmax_function)를 통해 제약 조건이 없는 공간으로 변환됩니다.\n",
        "\n",
        "- 정밀도 확률 변수는 준 양정치 행렬에 대한 분포입니다. 이들에 대한 제약 조건을 없애기 위해 `FillTriangular`와 `TransformDiagonal` bijector를 사용합니다. 이러한 bijector는 벡터를 하부 삼각 행렬로 변환하고 대각선이 양수인지 확인합니다. 전자는 $d^2$ 대신 $d(d+1)/2$ float만 샘플링할 수 있으므로 유용합니다."
      ]
    },
    {
      "cell_type": "code",
      "execution_count": null,
      "metadata": {
        "id": "_atEQrDR7JvG"
      },
      "outputs": [],
      "source": [
        "unconstraining_bijectors = [\n",
        "    tfb.SoftmaxCentered(),\n",
        "    tfb.Identity(),\n",
        "    tfb.Chain([\n",
        "        tfb.TransformDiagonal(tfb.Softplus()),\n",
        "        tfb.FillTriangular(),\n",
        "    ])]"
      ]
    },
    {
      "cell_type": "code",
      "execution_count": null,
      "metadata": {
        "id": "0zq6QJJ-NSPJ"
      },
      "outputs": [],
      "source": [
        "@tf.function(autograph=False)\n",
        "def sample():\n",
        "  return tfp.mcmc.sample_chain(\n",
        "    num_results=2000,\n",
        "    num_burnin_steps=500,\n",
        "    current_state=initial_state,\n",
        "    kernel=tfp.mcmc.SimpleStepSizeAdaptation(\n",
        "        tfp.mcmc.TransformedTransitionKernel(\n",
        "            inner_kernel=tfp.mcmc.HamiltonianMonteCarlo(\n",
        "                target_log_prob_fn=unnormalized_posterior_log_prob,\n",
        "                 step_size=0.065,\n",
        "                 num_leapfrog_steps=5),\n",
        "            bijector=unconstraining_bijectors),\n",
        "         num_adaptation_steps=400),\n",
        "    trace_fn=lambda _, pkr: pkr.inner_results.inner_results.is_accepted)\n",
        "\n",
        "[mix_probs, loc, chol_precision], is_accepted = sample()"
      ]
    },
    {
      "cell_type": "markdown",
      "metadata": {
        "id": "QLEz96mg6fpZ"
      },
      "source": [
        "이제 chain을 실행하고 사후 확률 분포의 평균을 출력합니다."
      ]
    },
    {
      "cell_type": "code",
      "execution_count": null,
      "metadata": {
        "id": "_ceX1A3-ZFiN"
      },
      "outputs": [],
      "source": [
        "acceptance_rate = tf.reduce_mean(tf.cast(is_accepted, dtype=tf.float32)).numpy()\n",
        "mean_mix_probs = tf.reduce_mean(mix_probs, axis=0).numpy()\n",
        "mean_loc = tf.reduce_mean(loc, axis=0).numpy()\n",
        "mean_chol_precision = tf.reduce_mean(chol_precision, axis=0).numpy()\n",
        "precision = tf.linalg.matmul(chol_precision, chol_precision, transpose_b=True)\n"
      ]
    },
    {
      "cell_type": "code",
      "execution_count": null,
      "metadata": {
        "id": "bqJ6RSJxegC6"
      },
      "outputs": [
        {
          "name": "stdout",
          "output_type": "stream",
          "text": [
            "acceptance_rate: 0.5305\n",
            "avg mix probs: [0.25248723 0.60729516 0.1402176 ]\n",
            "avg loc:\n",
            " [[-1.96466753 -2.12047249]\n",
            " [ 0.27628865  0.22944732]\n",
            " [ 2.06461244  2.54216122]]\n",
            "avg chol(precision):\n",
            " [[[ 1.05105032  0.        ]\n",
            "  [ 0.12699955  1.06553113]]\n",
            "\n",
            " [[ 0.76058015  0.        ]\n",
            "  [-0.50332767  0.77947431]]\n",
            "\n",
            " [[ 1.22770457  0.        ]\n",
            "  [ 0.70670027  1.50914164]]]\n"
          ]
        }
      ],
      "source": [
        "print('acceptance_rate:', acceptance_rate)\n",
        "print('avg mix probs:', mean_mix_probs)\n",
        "print('avg loc:\\n', mean_loc)\n",
        "print('avg chol(precision):\\n', mean_chol_precision)"
      ]
    },
    {
      "cell_type": "code",
      "execution_count": null,
      "metadata": {
        "id": "zFOU0j9kPdUy"
      },
      "outputs": [
        {
          "data": {
            "image/png": "[encoded data removed]",
            "text/plain": [
              "<matplotlib.figure.Figure at 0xc7fad79c0d0>"
            ]
          },
          "metadata": {
            "tags": []
          },
          "output_type": "display_data"
        }
      ],
      "source": [
        "loc_ = loc.numpy()\n",
        "ax = sns.kdeplot(loc_[:,0,0], loc_[:,0,1], shade=True, shade_lowest=False)\n",
        "ax = sns.kdeplot(loc_[:,1,0], loc_[:,1,1], shade=True, shade_lowest=False)\n",
        "ax = sns.kdeplot(loc_[:,2,0], loc_[:,2,1], shade=True, shade_lowest=False)\n",
        "plt.title('KDE of loc draws');"
      ]
    },
    {
      "cell_type": "markdown",
      "metadata": {
        "id": "NmfNIM1c6mwc"
      },
      "source": [
        "## 결론"
      ]
    },
    {
      "cell_type": "markdown",
      "metadata": {
        "id": "t8LeIeMn6ot4"
      },
      "source": [
        "이 간단한 colab에서는 TensorFlow Probability 기본 형식을 사용하여 계층적 베이지안 혼합 모델을 빌드하는 방법을 보았습니다."
      ]
    }
  ],
  "metadata": {
    "colab": {
      "collapsed_sections": [],
      "name": "Bayesian_Gaussian_Mixture_Model.ipynb",
      "toc_visible": true
    },
    "kernelspec": {
      "display_name": "Python 3",
      "name": "python3"
    }
  },
  "nbformat": 4,
  "nbformat_minor": 0
}
