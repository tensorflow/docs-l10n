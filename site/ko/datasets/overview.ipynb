{
  "cells": [
    {
      "cell_type": "markdown",
      "metadata": {
        "id": "6XvCUmCEd4Dm"
      },
      "source": [
        "# TensorFlow Datasets\n",
        "\n",
        "TFDS provides a collection of ready-to-use datasets for use with TensorFlow, Jax, and other Machine Learning frameworks.\n",
        "\n",
        "It handles downloading and preparing the data deterministically and constructing a `tf.data.Dataset` (or `np.array`).\n",
        "\n",
        "Note: Do not confuse [TFDS](https://www.tensorflow.org/datasets) (this library) with `tf.data` (TensorFlow API to build efficient data pipelines). TFDS is a high level wrapper around `tf.data`. If you're not familiar with this API, we encourage you to read [the official tf.data guide](https://www.tensorflow.org/guide/data) first.\n"
      ]
    },
    {
      "cell_type": "markdown",
      "metadata": {
        "id": "J8y9ZkLXmAZc"
      },
      "source": [
        "Copyright 2018 The TensorFlow Datasets Authors, Licensed under the Apache License, Version 2.0"
      ]
    },
    {
      "cell_type": "markdown",
      "metadata": {
        "id": "OGw9EgE0tC0C"
      },
      "source": [
        "<table class=\"tfo-notebook-buttons\" align=\"left\">\n",
        "  <td>     <a target=\"_blank\" href=\"https://www.tensorflow.org/datasets/overview\"><img src=\"https://www.tensorflow.org/images/tf_logo_32px.png\">TensorFlow.org에서 보기</a>   </td>\n",
        "  <td><a target=\"_blank\" href=\"https://colab.research.google.com/github/tensorflow/docs-l10n/blob/master/site/ko/datasets/overview.ipynb\"><img src=\"https://www.tensorflow.org/images/colab_logo_32px.png\">Google Colab에서 실행</a></td>\n",
        "  <td><a target=\"_blank\" href=\"https://github.com/tensorflow/docs-l10n/blob/master/site/ko/datasets/overview.ipynb\"><img src=\"https://www.tensorflow.org/images/GitHub-Mark-32px.png\">GitHub에서 소스 보기</a></td>\n",
        "  <td><a href=\"https://storage.googleapis.com/tensorflow_docs/docs-l10n/site/ko/datasets/overview.ipynb\"><img src=\"https://www.tensorflow.org/images/download_logo_32px.png\">노트북 다운로드</a></td>\n",
        "</table>"
      ]
    },
    {
      "cell_type": "markdown",
      "metadata": {
        "id": "_7hshda5eaGL"
      },
      "source": [
        "## 설치\n",
        "\n",
        "TFDS는 두 가지 패키지로 존재합니다.\n",
        "\n",
        "- `pip install tensorflow-datasets`: 안정적인 버전으로, 몇 개월마다 릴리스됩니다.\n",
        "- `pip install tfds-nightly`: 매일 릴리스되며, 데이터세트의 마지막 버전이 포함됩니다.\n",
        "\n",
        "이 colab은 `tfds-nightly`를 사용합니다.\n"
      ]
    },
    {
      "cell_type": "code",
      "execution_count": null,
      "metadata": {
        "cellView": "both",
        "id": "boeZp0sYbO41"
      },
      "outputs": [],
      "source": [
        "!pip install -q tfds-nightly tensorflow matplotlib"
      ]
    },
    {
      "cell_type": "code",
      "execution_count": null,
      "metadata": {
        "id": "TTBSvHcSLBzc"
      },
      "outputs": [],
      "source": [
        "import matplotlib.pyplot as plt\n",
        "import numpy as np\n",
        "import tensorflow as tf\n",
        "\n",
        "import tensorflow_datasets as tfds"
      ]
    },
    {
      "cell_type": "markdown",
      "metadata": {
        "id": "VZZyuO13fPvk"
      },
      "source": [
        "## 사용 가능한 데이터세트 찾기\n",
        "\n",
        "모든 데이터세트 빌더는 `tfds.core.DatasetBuilder`의 서브 클래스입니다. 사용 가능한 빌더의 목록을 얻으려면, `tfds.list_builders()`를 사용하거나 [카탈로그](https://www.tensorflow.org/datasets/catalog/overview)를 살펴보세요."
      ]
    },
    {
      "cell_type": "code",
      "execution_count": null,
      "metadata": {
        "id": "FAvbSVzjLCIb"
      },
      "outputs": [],
      "source": [
        "tfds.list_builders()"
      ]
    },
    {
      "cell_type": "markdown",
      "metadata": {
        "id": "VjI6VgOBf0v0"
      },
      "source": [
        "## 데이터세트 로드하기\n",
        "\n",
        "### tfds.load\n",
        "\n",
        "데이터세트를 로드하는 가장 쉬운 방법은 `tfds.load`입니다.\n",
        "\n",
        "1. 데이터를 다운로드하여 [`tfrecord`](https://www.tensorflow.org/tutorials/load_data/tfrecord) 파일로 저장합니다.\n",
        "2. `tfrecord`를 로드하고 `tf.data.Dataset`를 생성합니다.\n"
      ]
    },
    {
      "cell_type": "code",
      "execution_count": null,
      "metadata": {
        "id": "dCou80mnLLPV"
      },
      "outputs": [],
      "source": [
        "ds = tfds.load('mnist', split='train', shuffle_files=True)\n",
        "assert isinstance(ds, tf.data.Dataset)\n",
        "print(ds)"
      ]
    },
    {
      "cell_type": "markdown",
      "metadata": {
        "id": "byOXYCEJS7S6"
      },
      "source": [
        "몇 가지 일반적인 인수:\n",
        "\n",
        "- `split=`: 읽을 분할(예: `'train'`, `['train', 'test']`, `'train[80%:]'`,...). [분할 API 가이드](https://www.tensorflow.org/datasets/splits)를 참조하세요.\n",
        "- `shuffle_files=`: 각 epoch 간에 파일을 셔플할지 여부를 제어합니다(TFDS는 큰 데이터세트를 여러 개의 작은 파일에 저장합니다).\n",
        "- `data_dir=`: 데이터세트가 저장된 위치(기본값은 `~/tensorflow_datasets/`)\n",
        "- `with_info=True`: 데이터세트 메타 데이터를 포함하는 `tfds.core.DatasetInfo`를 반환합니다.\n",
        "- `download=False`: 다운로드를 비활성화합니다.\n"
      ]
    },
    {
      "cell_type": "markdown",
      "metadata": {
        "id": "qeNmFx_1RXCb"
      },
      "source": [
        "### tfds.builder\n",
        "\n",
        "`tfds.load`는 `tfds.core.DatasetBuilder`를 둘러싼 얇은 래퍼입니다. `tfds.core.DatasetBuilder` API를 사용하여 같은 출력을 얻을 수 있습니다."
      ]
    },
    {
      "cell_type": "code",
      "execution_count": null,
      "metadata": {
        "id": "2zN_jQ2ER40W"
      },
      "outputs": [],
      "source": [
        "builder = tfds.builder('mnist')\n",
        "# 1. Create the tfrecord files (no-op if already exists)\n",
        "builder.download_and_prepare()\n",
        "# 2. Load the `tf.data.Dataset`\n",
        "ds = builder.as_dataset(split='train', shuffle_files=True)\n",
        "print(ds)"
      ]
    },
    {
      "cell_type": "markdown",
      "metadata": {
        "id": "IwrjccfjoQCD"
      },
      "source": [
        "### `tfds build` CLI\n",
        "\n",
        "특정 데이터 세트를 생성하려는 경우[`tfds` 명령 줄을](https://www.tensorflow.org/datasets/cli) 사용할 수 있습니다. 예시:\n",
        "\n",
        "```sh\n",
        "tfds build mnist\n",
        "```\n",
        "\n",
        "사용 가능한 플래그 [는 문서](https://www.tensorflow.org/datasets/cli) 를 참조하십시오."
      ]
    },
    {
      "cell_type": "markdown",
      "metadata": {
        "id": "aW132I-rbJXE"
      },
      "source": [
        "## 데이터세트 반복하기\n",
        "\n",
        "### dict\n",
        "\n",
        "기본적으로 `tf.data.Dataset` 객체에는 `tf.Tensor`의 `dict`가 포함됩니다."
      ]
    },
    {
      "cell_type": "code",
      "execution_count": null,
      "metadata": {
        "id": "JAGjXdk_bIYQ"
      },
      "outputs": [],
      "source": [
        "ds = tfds.load('mnist', split='train')\n",
        "ds = ds.take(1)  # Only take a single example\n",
        "\n",
        "for example in ds:  # example is `{'image': tf.Tensor, 'label': tf.Tensor}`\n",
        "  print(list(example.keys()))\n",
        "  image = example[\"image\"]\n",
        "  label = example[\"label\"]\n",
        "  print(image.shape, label)"
      ]
    },
    {
      "cell_type": "markdown",
      "metadata": {
        "id": "sIqX2bmhu-8d"
      },
      "source": [
        "`dict` 키 이름과 구조를 찾으려면 [카탈로그](https://www.tensorflow.org/datasets/catalog/overview#all_datasets) 의 데이터세트 설명서를 참조하세요(예: [mnist 문서](https://www.tensorflow.org/datasets/catalog/mnist))."
      ]
    },
    {
      "cell_type": "markdown",
      "metadata": {
        "id": "umAtqBBqdkDG"
      },
      "source": [
        "### 튜플로(`as_supervised=True`)\n",
        "\n",
        "`as_supervised=True`를 사용하면 감독된 데이터세트 대신 튜플 `(features, label)`을 얻을 수 있습니다."
      ]
    },
    {
      "cell_type": "code",
      "execution_count": null,
      "metadata": {
        "id": "nJ4O0xy3djfV"
      },
      "outputs": [],
      "source": [
        "ds = tfds.load('mnist', split='train', as_supervised=True)\n",
        "ds = ds.take(1)\n",
        "\n",
        "for image, label in ds:  # example is (image, label)\n",
        "  print(image.shape, label)"
      ]
    },
    {
      "cell_type": "markdown",
      "metadata": {
        "id": "u9palgyHfEwQ"
      },
      "source": [
        "### numpy로(`tfds.as_numpy`)\n",
        "\n",
        "`tfds.as_numpy`를 사용하여 변환합니다.\n",
        "\n",
        "- `tf.Tensor` &gt; `np.array`\n",
        "- `tf.data.Dataset` -&gt; `Iterator[Tree[np.array]]`(`Tree`는 임의의 중첩된 `Dict`, `Tuple`일 수 있음)\n"
      ]
    },
    {
      "cell_type": "code",
      "execution_count": null,
      "metadata": {
        "id": "tzQTCUkAfe9R"
      },
      "outputs": [],
      "source": [
        "ds = tfds.load('mnist', split='train', as_supervised=True)\n",
        "ds = ds.take(1)\n",
        "\n",
        "for image, label in tfds.as_numpy(ds):\n",
        "  print(type(image), type(label), label)"
      ]
    },
    {
      "cell_type": "markdown",
      "metadata": {
        "id": "XaRN-LdXUkl_"
      },
      "source": [
        "### 일괄 처리된 tf.Tensor로(`batch_size=-1`)\n",
        "\n",
        "`batch_size=-1`을 사용하여 전체 데이터세트를 단일 배치로 로드할 수 있습니다.\n",
        "\n",
        "`as_supervised=True` 및 `tfds.as_numpy`와 결합하여 데이터를 `(np.array, np.array)`로 가져올 수 있습니다.\n"
      ]
    },
    {
      "cell_type": "code",
      "execution_count": null,
      "metadata": {
        "id": "Gg8BNsv-UzFl"
      },
      "outputs": [],
      "source": [
        "image, label = tfds.as_numpy(tfds.load(\n",
        "    'mnist',\n",
        "    split='test',\n",
        "    batch_size=-1,\n",
        "    as_supervised=True,\n",
        "))\n",
        "\n",
        "print(type(image), image.shape)"
      ]
    },
    {
      "cell_type": "markdown",
      "metadata": {
        "id": "kRJrB3L6wgKI"
      },
      "source": [
        "데이터세트가 메모리에 저장하기 적합하고, 모든 예제의 형상이 같습니다."
      ]
    },
    {
      "cell_type": "markdown",
      "metadata": {
        "id": "heaKNg7-X4jN"
      },
      "source": [
        "## 데이터세트 벤치마킹\n",
        "\n",
        "데이터세트를 벤치마킹하려면 모든 iterable(예: `tf.data.Dataset`, `tfds.as_numpy`,...}에서 간단히 `tfds.benchmark`를 호출하면 됩니다.\n"
      ]
    },
    {
      "cell_type": "code",
      "execution_count": null,
      "metadata": {
        "id": "ZyQzZ98bX3dM"
      },
      "outputs": [],
      "source": [
        "ds = tfds.load('mnist', split='train')\n",
        "ds = ds.batch(32).prefetch(1)\n",
        "\n",
        "tfds.benchmark(ds, batch_size=32)\n",
        "tfds.benchmark(ds, batch_size=32)  # Second epoch much faster due to auto-caching"
      ]
    },
    {
      "cell_type": "markdown",
      "metadata": {
        "id": "MT0yEX_4kYnV"
      },
      "source": [
        "- `batch_size=` kwarg를 사용하여 배치 크기별로 결과를 정규화하는 것을 잊지 마세요.\n",
        "- 요약하면, `tf.data.Dataset` 추가 설정 시간(예: 버퍼 초기화 등)을 캡처하기 위해 첫 번째 웜업 배치가 다른 배치와 분리됩니다.\n",
        "- [TFDS 자동 캐싱](https://www.tensorflow.org/datasets/performances#auto-caching)으로 인해 두 번째 반복이 훨씬 더 빨라진 것을 확인하세요.\n",
        "- `tfds.benchmark`는 추가 분석을 위해 검사할 수 있는 `tfds.core.BenchmarkResult`를 반환합니다."
      ]
    },
    {
      "cell_type": "markdown",
      "metadata": {
        "id": "o-cuwvVbeb43"
      },
      "source": [
        "### 엔드 투 엔드 파이프라인 빌드하기\n",
        "\n",
        "더 진행하려면, 다음을 살펴볼 수 있습니다.\n",
        "\n",
        "- 전체 훈련 파이프라인(배치 처리, 셔플링 등)을 확인하는 [엔드 투 엔드 Keras 예제](https://www.tensorflow.org/datasets/keras_example)\n",
        "- 파이프라인 속도 향상을 위한 [성능 가이드](https://www.tensorflow.org/datasets/performances)(팁: `tfds.benchmark(ds)`를 사용하여 데이터세트 벤치마킹).\n"
      ]
    },
    {
      "cell_type": "markdown",
      "metadata": {
        "id": "gTRTEQqscxAE"
      },
      "source": [
        "## 시각화\n",
        "\n",
        "### tfds.as_dataframe\n",
        "\n",
        "`tf.data.Dataset` 객체는 [Colab](https://colab.research.google.com)에서 시각화할 `tfds.as_dataframe`과 함께 [`pandas.DataFrame`](https://pandas.pydata.org/pandas-docs/stable/reference/api/pandas.DataFrame.html)으로 변환할 수 있습니다.\n",
        "\n",
        "- 이미지, 오디오, 텍스트, 동영상을 시각화하기 위해 `tfds.core.DatasetInfo`을 `tfds.as_dataframe`의 두 번째 인수로 추가합니다.\n",
        "- `ds.take(x)` 를 사용하여 처음 `x` 예제 만 표시합니다. `pandas.DataFrame` 은 메모리 내 전체 데이터세트를 로드하며 표시하는 데 비용이 많이들 수 있습니다."
      ]
    },
    {
      "cell_type": "code",
      "execution_count": null,
      "metadata": {
        "id": "FKouwN_yVSGQ"
      },
      "outputs": [],
      "source": [
        "ds, info = tfds.load('mnist', split='train', with_info=True)\n",
        "\n",
        "tfds.as_dataframe(ds.take(4), info)"
      ]
    },
    {
      "cell_type": "markdown",
      "metadata": {
        "id": "b-eDO_EXVGWC"
      },
      "source": [
        "### tfds.show_examples\n",
        "\n",
        "`tfds.show_examples`는 `matplotlib.figure.Figure`를 반환합니다(현재 지원되는 이미지 데이터세트만)."
      ]
    },
    {
      "cell_type": "code",
      "execution_count": null,
      "metadata": {
        "id": "DpE2FD56cSQR"
      },
      "outputs": [],
      "source": [
        "ds, info = tfds.load('mnist', split='train', with_info=True)\n",
        "\n",
        "fig = tfds.show_examples(ds, info)"
      ]
    },
    {
      "cell_type": "markdown",
      "metadata": {
        "id": "Y0iVVStvk0oI"
      },
      "source": [
        "## 데이터세트 메타 데이터에 액세스하기\n",
        "\n",
        "모든 빌더에는 데이터세트 메타 데이터를 포함하는 `tfds.core.DatasetInfo` 객체가 포함됩니다.\n",
        "\n",
        "다음을 통해 액세스할 수 있습니다.\n",
        "\n",
        "- `tfds.load` API:\n"
      ]
    },
    {
      "cell_type": "code",
      "execution_count": null,
      "metadata": {
        "id": "UgLgtcd1ljzt"
      },
      "outputs": [],
      "source": [
        "ds, info = tfds.load('mnist', with_info=True)"
      ]
    },
    {
      "cell_type": "markdown",
      "metadata": {
        "id": "XodyqNXrlxTM"
      },
      "source": [
        "- `tfds.core.DatasetBuilder` API:"
      ]
    },
    {
      "cell_type": "code",
      "execution_count": null,
      "metadata": {
        "id": "nmq97QkilxeL"
      },
      "outputs": [],
      "source": [
        "builder = tfds.builder('mnist')\n",
        "info = builder.info"
      ]
    },
    {
      "cell_type": "markdown",
      "metadata": {
        "id": "zMGOk_ZsmPeu"
      },
      "source": [
        "데이터세트 정보에는 데이터세트에 대한 추가 정보(버전, 인용, 홈페이지, 설명 등)가 포함됩니다."
      ]
    },
    {
      "cell_type": "code",
      "execution_count": null,
      "metadata": {
        "id": "O-wLIKD-mZQT"
      },
      "outputs": [],
      "source": [
        "print(info)"
      ]
    },
    {
      "cell_type": "markdown",
      "metadata": {
        "id": "1zvAfRtwnAFk"
      },
      "source": [
        "### 특성 메타 데이터(레이블 이름, 이미지 형상 등)\n",
        "\n",
        "`tfds.features.FeatureDict`에 액세스합니다."
      ]
    },
    {
      "cell_type": "code",
      "execution_count": null,
      "metadata": {
        "id": "RcyZXncqoFab"
      },
      "outputs": [],
      "source": [
        "info.features"
      ]
    },
    {
      "cell_type": "markdown",
      "metadata": {
        "id": "KAm9AV7loyw5"
      },
      "source": [
        "클래스 수, 레이블 이름:"
      ]
    },
    {
      "cell_type": "code",
      "execution_count": null,
      "metadata": {
        "id": "HhfzBH6qowpz"
      },
      "outputs": [],
      "source": [
        "print(info.features[\"label\"].num_classes)\n",
        "print(info.features[\"label\"].names)\n",
        "print(info.features[\"label\"].int2str(7))  # Human readable version (8 -> 'cat')\n",
        "print(info.features[\"label\"].str2int('7'))"
      ]
    },
    {
      "cell_type": "markdown",
      "metadata": {
        "id": "g5eWtk9ro_AK"
      },
      "source": [
        "형상, dtype:"
      ]
    },
    {
      "cell_type": "code",
      "execution_count": null,
      "metadata": {
        "id": "SergV_wQowLY"
      },
      "outputs": [],
      "source": [
        "print(info.features.shape)\n",
        "print(info.features.dtype)\n",
        "print(info.features['image'].shape)\n",
        "print(info.features['image'].dtype)"
      ]
    },
    {
      "cell_type": "markdown",
      "metadata": {
        "id": "thMOZ4IKm55N"
      },
      "source": [
        "### 분할 메타 데이터(예: 분할 이름, 예제 수 등)\n",
        "\n",
        "`tfds.core.SplitDict`에 액세스합니다."
      ]
    },
    {
      "cell_type": "code",
      "execution_count": null,
      "metadata": {
        "id": "FBbfwA8Sp4ax"
      },
      "outputs": [],
      "source": [
        "print(info.splits)"
      ]
    },
    {
      "cell_type": "markdown",
      "metadata": {
        "id": "EVw1UVYa2HgN"
      },
      "source": [
        "사용 가능한 분할:"
      ]
    },
    {
      "cell_type": "code",
      "execution_count": null,
      "metadata": {
        "id": "fRBieOOquDzX"
      },
      "outputs": [],
      "source": [
        "print(list(info.splits.keys()))"
      ]
    },
    {
      "cell_type": "markdown",
      "metadata": {
        "id": "iHW0VfA0t3dO"
      },
      "source": [
        "개별 분할에 대한 정보를 얻습니다."
      ]
    },
    {
      "cell_type": "code",
      "execution_count": null,
      "metadata": {
        "id": "-h_OSpRsqKpP"
      },
      "outputs": [],
      "source": [
        "print(info.splits['train'].num_examples)\n",
        "print(info.splits['train'].filenames)\n",
        "print(info.splits['train'].num_shards)"
      ]
    },
    {
      "cell_type": "markdown",
      "metadata": {
        "id": "fWhSkHFNuLwW"
      },
      "source": [
        "하위 분할 API와도 동작합니다."
      ]
    },
    {
      "cell_type": "code",
      "execution_count": null,
      "metadata": {
        "id": "HO5irBZ3uIzQ"
      },
      "outputs": [],
      "source": [
        "print(info.splits['train[15%:75%]'].num_examples)\n",
        "print(info.splits['train[15%:75%]'].file_instructions)"
      ]
    },
    {
      "cell_type": "markdown",
      "metadata": {
        "id": "YZp2XJwQQrI0"
      },
      "source": [
        "## 문제 해결\n",
        "\n",
        "### 수동 다운로드 (다운로드 실패시)\n",
        "\n",
        "어떤 이유로 다운로드가 실패한 경우 (예 : 오프라인 등). 언제든지 수동으로 데이터를 직접 다운로드하여 `manual_dir` 배치 할 수 있습니다 (기본값 : `~/tensorflow_datasets/download/manual/` .\n",
        "\n",
        "다운로드 할 URL을 찾으려면 다음을 살펴보십시오.\n",
        "\n",
        "- 새 데이터 세트 (폴더로 구현 됨) : [`tensorflow_datasets/`](https://github.com/tensorflow/datasets/tree/master/tensorflow_datasets/) `<type>/<dataset_name>/checksums.tsv` . 예 : [`tensorflow_datasets/text/bool_q/checksums.tsv`](https://github.com/tensorflow/datasets/blob/master/tensorflow_datasets/text/bool_q/checksums.tsv)\n",
        "\n",
        "    [카탈로그](https://www.tensorflow.org/datasets/catalog/overview)에서 데이터세트 소스 위치를 찾을 수 있습니다.\n",
        "\n",
        "- 이전 데이터 세트 : [`tensorflow_datasets/url_checksums/<dataset_name>.txt`](https://github.com/tensorflow/datasets/tree/master/tensorflow_datasets/url_checksums)\n",
        "\n",
        "### `NonMatchingChecksumError` 수정\n",
        "\n",
        "TFDS는 다운로드 된 URL의 체크섬을 확인하여 결정 성을 보장합니다. `NonMatchingChecksumError` 가 발생하면 다음을 나타낼 수 있습니다.\n",
        "\n",
        "- 웹 사이트가 다운되었을 수 있습니다 (예 : `503 status code` ). URL을 확인하세요.\n",
        "- Google 드라이브 URL의 경우 너무 많은 사용자가 동일한 URL에 액세스하면 드라이브가 다운로드를 거부하는 경우가 있으므로 나중에 다시 시도하세요. [버그](https://github.com/tensorflow/datasets/issues/1482) 보기\n",
        "- 원래 데이터 세트 파일이 업데이트되었을 수 있습니다. 이 경우 TFDS 데이터 세트 빌더를 업데이트해야합니다. 새로운 Github 문제 또는 PR을여십시오.\n",
        "    - `tfds build --register_checksums` 새 체크섬 등록\n",
        "    - 결국 데이터 세트 생성 코드를 업데이트합니다.\n",
        "    - 데이터 세트 `VERSION` 업데이트\n",
        "    - 데이터 셋 업데이트 `RELEASE_NOTES` : 체크섬이 변경된 원인은 무엇입니까? 몇 가지 예가 변경 되었습니까?\n",
        "    - 데이터 세트를 계속 빌드 할 수 있는지 확인합니다.\n",
        "    - PR 보내기\n",
        "\n",
        "참고 : `~/tensorflow_datasets/download/` 에서 다운로드 한 파일을 검사 할 수도 있습니다.\n"
      ]
    },
    {
      "cell_type": "markdown",
      "metadata": {
        "id": "GmeeOokMODg2"
      },
      "source": [
        "## 인용\n",
        "\n",
        "논문에 `tensorflow-datasets` 사용하는 경우, 사용 된 데이터 세트에 특정한 인용 ( [데이터 세트 카탈로그](https://www.tensorflow.org/datasets/catalog/overview) 에서 찾을 수 있음)과 함께 다음 인용을 포함하십시오.\n",
        "\n",
        "```\n",
        "@misc{TFDS,\n",
        "  title = { {TensorFlow Datasets}, A collection of ready-to-use datasets},\n",
        "  howpublished = {\\url{https://www.tensorflow.org/datasets}},\n",
        "}\n",
        "```"
      ]
    }
  ],
  "metadata": {
    "colab": {
      "collapsed_sections": [],
      "name": "overview.ipynb",
      "toc_visible": true
    },
    "kernelspec": {
      "display_name": "Python 3",
      "name": "python3"
    }
  },
  "nbformat": 4,
  "nbformat_minor": 0
}
