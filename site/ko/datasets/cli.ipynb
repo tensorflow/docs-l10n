{
  "cells": [
    {
      "cell_type": "markdown",
      "metadata": {
        "id": "2WGeukhYh9fd"
      },
      "source": [
        "# TFDS CLI\n",
        "\n",
        "TFDS CLI is a command-line tool that provides various commands to easily work with TensorFlow Datasets."
      ]
    },
    {
      "cell_type": "markdown",
      "metadata": {
        "id": "r-42ZFIIrgbF"
      },
      "source": [
        "Copyright 2020 The TensorFlow Datasets Authors, Licensed under the Apache License, Version 2.0"
      ]
    },
    {
      "cell_type": "markdown",
      "metadata": {
        "id": "grQeV-PZroqn"
      },
      "source": [
        "<table class=\"tfo-notebook-buttons\" align=\"left\">\n",
        "  <td><a target=\"_blank\" href=\"https://www.tensorflow.org/datasets/cli\"><img src=\"https://www.tensorflow.org/images/tf_logo_32px.png\">TensorFlow.org에서보기</a></td>\n",
        "  <td><a target=\"_blank\" href=\"https://colab.research.google.com/github/tensorflow/docs-l10n/blob/master/site/ko/datasets/cli.ipynb\"><img src=\"https://www.tensorflow.org/images/colab_logo_32px.png\">Google Colab에서 실행</a></td>\n",
        "  <td><a target=\"_blank\" href=\"https://github.com/tensorflow/docs-l10n/blob/master/site/ko/datasets/cli.ipynb\"><img src=\"https://www.tensorflow.org/images/GitHub-Mark-32px.png\">GitHub에서 소스보기</a></td>\n",
        "  <td>     <a href=\"https://storage.googleapis.com/tensorflow_docs/docs-l10n/site/ko/datasets/cli.ipynb\"><img src=\"https://www.tensorflow.org/images/download_logo_32px.png\">노트북 다운로드하기</a>   </td>\n",
        "</table>"
      ]
    },
    {
      "cell_type": "markdown",
      "metadata": {
        "id": "kGrmMPUhXfUs"
      },
      "source": [
        "##### 가져오기 수행 시 TF 로그 비활성화하기\n"
      ]
    },
    {
      "cell_type": "code",
      "execution_count": null,
      "metadata": {
        "id": "vJLAsn1c0Hxu"
      },
      "outputs": [],
      "source": [
        "%%capture\n",
        "%env TF_CPP_MIN_LOG_LEVEL=1  # Disable logs on TF import"
      ]
    },
    {
      "cell_type": "markdown",
      "metadata": {
        "id": "uo-yMd3Zrm_K"
      },
      "source": [
        "## 설치\n",
        "\n",
        "CLI 도구는 `tensorflow-datasets` (또는 `tfds-nightly` )와 함께 설치됩니다."
      ]
    },
    {
      "cell_type": "code",
      "execution_count": null,
      "metadata": {
        "id": "jeV8_FpsiDwH"
      },
      "outputs": [],
      "source": [
        "!pip install -q tfds-nightly\n",
        "!tfds --version"
      ]
    },
    {
      "cell_type": "markdown",
      "metadata": {
        "id": "hdZiDNR1ijRH"
      },
      "source": [
        "모든 CLI 명령 목록 :"
      ]
    },
    {
      "cell_type": "code",
      "execution_count": null,
      "metadata": {
        "id": "CCJPO_Akij0U"
      },
      "outputs": [],
      "source": [
        "!tfds --help"
      ]
    },
    {
      "cell_type": "markdown",
      "metadata": {
        "id": "fJrFRBDKj0sO"
      },
      "source": [
        "## `tfds new`: 새 데이터세트 구현하기\n",
        "\n",
        "이 명령은 기본 구현 파일이 포함 된 `<dataset_name>/` 디렉터리를 생성하여 새 Python 데이터세트 작성을 시작하는 데 도움이됩니다.\n",
        "\n",
        "용법:"
      ]
    },
    {
      "cell_type": "code",
      "execution_count": null,
      "metadata": {
        "id": "c0Bm7yFCk91Q"
      },
      "outputs": [],
      "source": [
        "!tfds new my_dataset"
      ]
    },
    {
      "cell_type": "markdown",
      "metadata": {
        "id": "OZaDtK0elimF"
      },
      "source": [
        "`tfds new my_dataset`는 다음을 생성합니다."
      ]
    },
    {
      "cell_type": "code",
      "execution_count": null,
      "metadata": {
        "id": "CwSPLFRfli8I"
      },
      "outputs": [],
      "source": [
        "ls -1 my_dataset/"
      ]
    },
    {
      "cell_type": "markdown",
      "metadata": {
        "id": "rUsoDbi0moyK"
      },
      "source": [
        "옵션 플래그 `--data_format`은 형식별 데이터세트 빌더(예: `conll`)를 생성하기 위해 사용될 수 있습니다. 데이터 형식이 지정지지 않은 경우, 표준 `tfds.core.GeneratorBasedBuilder`에 대한 템플릿을 생성합니다. 사용 가능한 형식별 데이터세트에 대한 자세한 내용은 [문서](https://www.tensorflow.org/datasets/format_specific_dataset_builders)를 확인하세요.\n",
        "\n",
        "자세한 내용은 [데이터세트 작성 가이드](https://www.tensorflow.org/datasets/add_dataset)를 참조하세요.\n",
        "\n",
        "사용 가능한 옵션 :"
      ]
    },
    {
      "cell_type": "code",
      "execution_count": null,
      "metadata": {
        "id": "pAWCw-fDkwky"
      },
      "outputs": [],
      "source": [
        "!tfds new --help"
      ]
    },
    {
      "cell_type": "markdown",
      "metadata": {
        "id": "x7996uhD1-GP"
      },
      "source": [
        "## `tfds build`: 데이터세트 다운로드 및 준비하기\n",
        "\n",
        "`tfds build <my_dataset>`를 사용하여 새 데이터세트를 생성합니다. `<my_dataset>`는 다음과 같을 수 있습니다.\n",
        "\n",
        "- `dataset/` 폴더 혹은 `dataset.py` 파일의 경로(현재 디렉터리는 비어 있음):\n",
        "\n",
        "    - `tfds build datasets/my_dataset/`\n",
        "    - `cd datasets/my_dataset/ &amp;&amp; tfds build`\n",
        "    - `cd datasets/my_dataset/ &amp;&amp; tfds build my_dataset`\n",
        "    - `cd datasets/my_dataset/ &amp;&amp; tfds build my_dataset.py`\n",
        "\n",
        "- 등록된 데이터세트:\n",
        "\n",
        "    - `tfds build mnist`\n",
        "    - `tfds build my_dataset --imports my_project.datasets`\n",
        "\n",
        "참고: `tfds build`에는 프로토타입 생성과 디버깅에 도움이 되는 유용한 플래그가 있습니다. 아래의 `Debug & tests:` 섹션을 참조하세요.\n",
        "\n",
        "사용 가능한 옵션 :"
      ]
    },
    {
      "cell_type": "code",
      "execution_count": null,
      "metadata": {
        "id": "IGAl6dw62KNO"
      },
      "outputs": [],
      "source": [
        "!tfds build --help"
      ]
    }
  ],
  "metadata": {
    "colab": {
      "collapsed_sections": [
        "kGrmMPUhXfUs"
      ],
      "name": "cli.ipynb",
      "toc_visible": true
    },
    "kernelspec": {
      "display_name": "Python 3",
      "name": "python3"
    }
  },
  "nbformat": 4,
  "nbformat_minor": 0
}
