{
  "cells": [
    {
      "cell_type": "markdown",
      "metadata": {
        "id": "oIMvgrGMe7ZF"
      },
      "source": [
        "##### Copyright 2022 The TensorFlow Authors."
      ]
    },
    {
      "cell_type": "code",
      "execution_count": null,
      "metadata": {
        "cellView": "form",
        "id": "n25wrPRbfCGc"
      },
      "outputs": [],
      "source": [
        "#@title Licensed under the Apache License, Version 2.0 (the \"License\");\n",
        "# you may not use this file except in compliance with the License.\n",
        "# You may obtain a copy of the License at\n",
        "#\n",
        "# https://www.apache.org/licenses/LICENSE-2.0\n",
        "#\n",
        "# Unless required by applicable law or agreed to in writing, software\n",
        "# distributed under the License is distributed on an \"AS IS\" BASIS,\n",
        "# WITHOUT WARRANTIES OR CONDITIONS OF ANY KIND, either express or implied.\n",
        "# See the License for the specific language governing permissions and\n",
        "# limitations under the License."
      ]
    },
    {
      "cell_type": "markdown",
      "metadata": {
        "id": "ZyGUj_q7IdfQ"
      },
      "source": [
        "# 데이터세트 컬렉션"
      ]
    },
    {
      "cell_type": "markdown",
      "metadata": {
        "id": "LpO0um1nez_q"
      },
      "source": [
        "<table class=\"tfo-notebook-buttons\" align=\"left\">\n",
        "  <td>     <a target=\"_blank\" href=\"https://www.tensorflow.org/datasets/dataset_collections\"><img src=\"https://www.tensorflow.org/images/tf_logo_32px.png\"> TensorFlow.org에서 보기</a>\n",
        "</td>\n",
        "  <td>     <a target=\"_blank\" href=\"https://colab.research.google.com/github/tensorflow/docs-l10n/blob/master/site/ko/datasets/dataset_collections.ipynb\"><img src=\"https://www.tensorflow.org/images/colab_logo_32px.png\">Google Colab에서 실행하기</a>\n",
        "</td>\n",
        "  <td>     <a target=\"_blank\" href=\"https://github.com/tensorflow/docs-l10n/blob/master/site/ko/datasets/dataset_collections.ipynb\"><img src=\"https://www.tensorflow.org/images/GitHub-Mark-32px.png\">GitHub에서 보기</a>\n",
        "</td>\n",
        "  <td>     <a href=\"https://storage.googleapis.com/tensorflow_docs/docs-l10n/site/ko/datasets/dataset_collections.ipynb\"><img src=\"https://www.tensorflow.org/images/download_logo_32px.png\">노트북 다운로드</a>\n",
        "</td>\n",
        "</table>"
      ]
    },
    {
      "cell_type": "markdown",
      "metadata": {
        "id": "p8AFT7CpSzBG"
      },
      "source": [
        "## 개요\n",
        "\n",
        "데이터세트 컬렉션은 기존 TFDS 데이터세트에 대한 임의의 수를 함께 그룹화하고 이에 대해 간단한 연산을 수행할 수 있는 간단한 방법을 제공합니다.\n",
        "\n",
        "이는 예를 들어 동일한 작업과 관련된 여러 데이터세트를 함께 그룹화하거나 여러 작업의 고정된 수에 대한 모델을 쉽게 [벤치마킹](https://ruder.io/nlp-benchmarking/)하는 데 유용할 수 있습니다."
      ]
    },
    {
      "cell_type": "markdown",
      "metadata": {
        "id": "WZjxBV9E79Fl"
      },
      "source": [
        "## 설치\n",
        "\n",
        "시작하려면 몇 가지 패키지를 설치합니다."
      ]
    },
    {
      "cell_type": "code",
      "execution_count": null,
      "metadata": {
        "id": "1AnxnW65I_FC"
      },
      "outputs": [],
      "source": [
        "# Use tfds-nightly to ensure access to the latest features.\n",
        "!pip install -q tfds-nightly tensorflow\n",
        "!pip install -U conllu"
      ]
    },
    {
      "cell_type": "markdown",
      "metadata": {
        "id": "81CCGS5R8GeV"
      },
      "source": [
        "TensorFlow 및 Tensorflow Datasets 패키지를 개발 환경에 가져옵니다."
      ]
    },
    {
      "cell_type": "code",
      "execution_count": null,
      "metadata": {
        "id": "-hxMPT0wIu3f"
      },
      "outputs": [],
      "source": [
        "import pprint\n",
        "\n",
        "import tensorflow as tf\n",
        "import tensorflow_datasets as tfds"
      ]
    },
    {
      "cell_type": "markdown",
      "metadata": {
        "id": "at0bMS_jIdjt"
      },
      "source": [
        "데이터세트 컬렉션은 Tensorflow Datasets(TFDS)의 기존 데이터세트에 대한 임의의 수를 함께 그룹화하고 이에 대해 간단한 연산을 수행할 수 있는 간단한 방법을 제공합니다.\n",
        "\n",
        "이는 예를 들어 동일한 작업과 관련된 여러 데이터세트를 함께 그룹화하거나 여러 작업의 고정된 수에 대한 모델을 쉽게 [벤치마킹](https://ruder.io/nlp-benchmarking/)하는 데 유용할 수 있습니다."
      ]
    },
    {
      "cell_type": "markdown",
      "metadata": {
        "id": "aLvkZBKwIdmL"
      },
      "source": [
        "## 사용 가능한 데이터세트 컬렉션 찾기\n",
        "\n",
        "모든 데이터세트 컬렉션 빌더는 `tfds.core.dataset_collection_builder.DatasetCollection`의 하위 클래스입니다.\n",
        "\n",
        "사용 가능한 빌더 목록을 얻으려면, `tfds.list_dataset_collections()`를 사용합니다.\n"
      ]
    },
    {
      "cell_type": "code",
      "execution_count": null,
      "metadata": {
        "id": "R14uGGzKItDz"
      },
      "outputs": [],
      "source": [
        "tfds.list_dataset_collections()"
      ]
    },
    {
      "cell_type": "markdown",
      "metadata": {
        "id": "Jpcq2AMvI5K1"
      },
      "source": [
        "## 데이터세트 컬렉션 로드 및 검사\n",
        "\n",
        "데이터세트 컬렉션을 로드하는 가장 쉬운 방법은 [`tfds.dataset_collection`](https://www.tensorflow.org/datasets/api_docs/python/tfds/dataset_collection) 명령을 사용하여 `DatasetCollectionLoader` 객체를 인스턴스화하는 것입니다.\n"
      ]
    },
    {
      "cell_type": "code",
      "execution_count": null,
      "metadata": {
        "id": "leIwyl9aI3WA"
      },
      "outputs": [],
      "source": [
        "collection_loader = tfds.dataset_collection('xtreme')"
      ]
    },
    {
      "cell_type": "markdown",
      "metadata": {
        "id": "KgjomybjY7qI"
      },
      "source": [
        "특정 데이터세트 컬렉션 버전은 TFDS 데이터세트과 동일한 구문에 따라 로드할 수 있습니다."
      ]
    },
    {
      "cell_type": "code",
      "execution_count": null,
      "metadata": {
        "id": "pyILkuYJY6ts"
      },
      "outputs": [],
      "source": [
        "collection_loader = tfds.dataset_collection('xtreme:1.0.0')"
      ]
    },
    {
      "cell_type": "markdown",
      "metadata": {
        "id": "uKOJ6CNQKG9S"
      },
      "source": [
        "데이터세트 컬렉션 로더는 컬렉션에 대한 정보를 표시할 수 있습니다."
      ]
    },
    {
      "cell_type": "code",
      "execution_count": null,
      "metadata": {
        "id": "kwk4PVDoKEAC"
      },
      "outputs": [],
      "source": [
        "collection_loader.print_info()"
      ]
    },
    {
      "cell_type": "markdown",
      "metadata": {
        "id": "2FlLLbwuLLTu"
      },
      "source": [
        "데이터세트 로더는 또한 컬렉션에 포함된 데이터세트에 대한 정보도 표시할 수 있습니다."
      ]
    },
    {
      "cell_type": "code",
      "execution_count": null,
      "metadata": {
        "id": "IxNJEie6K55T"
      },
      "outputs": [],
      "source": [
        "collection_loader.print_datasets()"
      ]
    },
    {
      "cell_type": "markdown",
      "metadata": {
        "id": "oGxorc3kLwRj"
      },
      "source": [
        "### 데이터세트 컬렉션에서 하나의 데이터세트 로딩\n",
        "\n",
        "컬렉션에서 하나의 데이터세트를 로드하는 가장 쉬운 방법은 `DatasetCollectionLoader` 객체의 `load_dataset` 메서드를 사용하는 것이며, 이는 [`tfds.load`](https://www.tensorflow.org/datasets/api_docs/python/tfds/load)를 호출하여 필요한 데이터세트를 호출합니다.\n",
        "\n",
        "이 호출은 분할 이름 사전과 해당 `tf.data.Dataset`를 반환합니다."
      ]
    },
    {
      "cell_type": "code",
      "execution_count": null,
      "metadata": {
        "id": "UP1nRj4ILwb6"
      },
      "outputs": [],
      "source": [
        "splits = collection_loader.load_dataset(\"ner\")\n",
        "\n",
        "pprint.pprint(splits)"
      ]
    },
    {
      "cell_type": "markdown",
      "metadata": {
        "id": "2spLEgN1Lwmm"
      },
      "source": [
        "`load_dataset`는 다음 선택적 매개변수를 받아들입니다.\n",
        "\n",
        "- `split`: 로드할 분할입니다. 이는 단일 분할(`split=\"test\"`) 또는 분할 목록 (`split=[\"train\", \"test\"]`)을 받아들입니다. 지정되지 않은 경우, 주어진 데이터세트에 대한 모든 분할을 로드합니다.\n",
        "- `loader_kwargs`: `tfds.load` 함수로 전달될 키워드 인수입니다. 여러 로딩 옵션에 대한 종합적인 개요에 관한 [`tfds.load`](https://www.tensorflow.org/datasets/api_docs/python/tfds/load) 문서를 참조하세요."
      ]
    },
    {
      "cell_type": "markdown",
      "metadata": {
        "id": "aClLU4eAh2oC"
      },
      "source": [
        "### 데이터세트 컬렉션에서 여러 데이터세트 로딩\n",
        "\n",
        "컬렉션에서 여러 데이터세트를 로드하는 가장 쉬운 방법은 `DatasetCollectionLoader` 객체의 `load_datasets` 메서드를 사용하는 것이며, 이는 [`tfds.load`](https://www.tensorflow.org/datasets/api_docs/python/tfds/load)를 호출하여 필요한 데이터세트를 호출합니다.\n",
        "\n",
        "이는 다음 예시와 같이 각각이 분할 이름의 사전 및 해당 `tf.data.Dataset`와 관련된 데이터세트 이름의 사전을 반환합니다."
      ]
    },
    {
      "cell_type": "code",
      "execution_count": null,
      "metadata": {
        "id": "sEG5744Oh2vQ"
      },
      "outputs": [],
      "source": [
        "datasets = collection_loader.load_datasets(['xnli', 'bucc'])\n",
        "\n",
        "pprint.pprint(datasets)"
      ]
    },
    {
      "cell_type": "markdown",
      "metadata": {
        "id": "WF0kNqwsiN1Y"
      },
      "source": [
        "`load_all_datasets` 메서드는 주어진 컬렉션을 위해 *모든* 사용 가능한 데이터세트를 로드합니다."
      ]
    },
    {
      "cell_type": "code",
      "execution_count": null,
      "metadata": {
        "id": "QX-M3xcjiM35"
      },
      "outputs": [],
      "source": [
        "all_datasets = collection_loader.load_all_datasets()\n",
        "\n",
        "pprint.pprint(all_datasets)"
      ]
    },
    {
      "cell_type": "markdown",
      "metadata": {
        "id": "GXxVztK5kAHh"
      },
      "source": [
        "`load_datasets` 메서드는 다음 선택적 매개변수를 받아들입니다.\n",
        "\n",
        "- `split`: 로드할 분할입니다. 이는 단일 분할(`split=\"test\"`) 또는 분할 목록 (`split=[\"train\", \"test\"]`)을 받아들입니다. 지정되지 않은 경우, 주어진 데이터세트에 대한 모든 분할을 로드합니다.\n",
        "- `loader_kwargs`: `tfds.load` 함수로 전달될 키워드 인수입니다. 여러 로딩 옵션에 대한 종합적인 개요에 관한 [`tfds.load`](https://www.tensorflow.org/datasets/api_docs/python/tfds/load) 문서를 참조하세요."
      ]
    },
    {
      "cell_type": "markdown",
      "metadata": {
        "id": "d4JoreSHfcKZ"
      },
      "source": [
        "### `loader_kwargs` 지정하기\n",
        "\n",
        "`loader_kwargs`는 [`tfds.load`](https://www.tensorflow.org/datasets/api_docs/python/tfds/load) 함수로 전달될 선택적인 키워드 인수입니다. 다음 세 가지 방법으로 지정될 수 있습니다.\n",
        "\n",
        "1. `DatasetCollectionLoader` 클래스를 초기화하는 경우:"
      ]
    },
    {
      "cell_type": "code",
      "execution_count": null,
      "metadata": {
        "id": "TjgZSIlvfcSP"
      },
      "outputs": [],
      "source": [
        "collection_loader = tfds.dataset_collection('xtreme', loader_kwargs=dict(split='train', batch_size=10, try_gcs=False))"
      ]
    },
    {
      "cell_type": "markdown",
      "metadata": {
        "id": "uJcEZl97Xj6Y"
      },
      "source": [
        "1. `DatasetCollectioLoader`의 `set_loader_kwargs` 메서드 사용:"
      ]
    },
    {
      "cell_type": "code",
      "execution_count": null,
      "metadata": {
        "id": "zrysflp-k1d3"
      },
      "outputs": [],
      "source": [
        "collection_loader.set_loader_kwargs(dict(split='train', batch_size=10, try_gcs=False))"
      ]
    },
    {
      "cell_type": "markdown",
      "metadata": {
        "id": "Ra-ZonhfXkLD"
      },
      "source": [
        "1. `load_dataset`에 대한 선택적 매개변수로서,  `load_datasets` 및 `load_all_datasets` 메서드."
      ]
    },
    {
      "cell_type": "code",
      "execution_count": null,
      "metadata": {
        "id": "rHSu-8GnlGTk"
      },
      "outputs": [],
      "source": [
        "dataset = collection_loader.load_dataset('ner', loader_kwargs=dict(split='train', batch_size=10, try_gcs=False))"
      ]
    },
    {
      "cell_type": "markdown",
      "metadata": {
        "id": "BJDGoeAqmJAQ"
      },
      "source": [
        "### 피드백\n",
        "\n",
        "데이터세트 생성 워크플로를 개선하기 위해 지속적으로 노력하고 있지만 문제에 대해 알고 있는 경우에만 그렇게 할 수 있습니다. 데이터세트를 생성하는 동안 어떤 문제, 오류를 경험하셨나요? 헷갈리거나 상용구이거나 아예 작동하지 않는 부분이 있었나요? [GitHub](https://github.com/tensorflow/datasets/issues)에서 피드백을 공유해 주세요."
      ]
    }
  ],
  "metadata": {
    "colab": {
      "collapsed_sections": [],
      "name": "dataset_collections.ipynb",
      "toc_visible": true
    },
    "kernelspec": {
      "display_name": "Python 3",
      "name": "python3"
    }
  },
  "nbformat": 4,
  "nbformat_minor": 0
}
