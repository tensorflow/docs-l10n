{
  "cells": [
    {
      "cell_type": "markdown",
      "metadata": {
        "id": "g_nWetWWd_ns"
      },
      "source": [
        "##### Copyright 2021 The TensorFlow Authors."
      ]
    },
    {
      "cell_type": "code",
      "execution_count": null,
      "metadata": {
        "cellView": "form",
        "id": "2pHVBk_seED1"
      },
      "outputs": [],
      "source": [
        "#@title Licensed under the Apache License, Version 2.0 (the \"License\");\n",
        "# you may not use this file except in compliance with the License.\n",
        "# You may obtain a copy of the License at\n",
        "#\n",
        "# https://www.apache.org/licenses/LICENSE-2.0\n",
        "#\n",
        "# Unless required by applicable law or agreed to in writing, software\n",
        "# distributed under the License is distributed on an \"AS IS\" BASIS,\n",
        "# WITHOUT WARRANTIES OR CONDITIONS OF ANY KIND, either express or implied.\n",
        "# See the License for the specific language governing permissions and\n",
        "# limitations under the License."
      ]
    },
    {
      "cell_type": "markdown",
      "metadata": {
        "id": "M7vSdG6sAIQn"
      },
      "source": [
        "# On-Device Training in TensorFlow Lite"
      ]
    },
    {
      "cell_type": "markdown",
      "metadata": {
        "id": "fwc5GKHBASdc"
      },
      "source": [
        "<table class=\"tfo-notebook-buttons\" align=\"left\">\n",
        "  <td>\n",
        "    <a target=\"_blank\" href=\"https://www.tensorflow.org/lite/examples/on_device_training/overview\"><img src=\"https://www.tensorflow.org/images/tf_logo_32px.png\" />View on TensorFlow.org</a>\n",
        "  </td>\n",
        "  <td>\n",
        "    <a target=\"_blank\" href=\"https://colab.research.google.com/github/tensorflow/tensorflow/blob/master/tensorflow/lite/g3doc/examples/on_device_training/overview.ipynb\"><img src=\"https://www.tensorflow.org/images/colab_logo_32px.png\" />Run in Google Colab</a>\n",
        "  </td>\n",
        "  <td>\n",
        "    <a target=\"_blank\" href=\"https://github.com/tensorflow/tensorflow/blob/master/tensorflow/lite/g3doc/examples/on_device_training/overview.ipynb\"><img src=\"https://www.tensorflow.org/images/GitHub-Mark-32px.png\" />View source on GitHub</a>\n",
        "  </td>\n",
        "  <td>\n",
        "    <a href=\"https://storage.googleapis.com/tensorflow_docs/tensorflow/tensorflow/lite/g3doc/examples/on_device_training/overview.ipynb\"><img src=\"https://www.tensorflow.org/images/download_logo_32px.png\" />Download notebook</a>\n",
        "  </td>\n",
        "</table>"
      ]
    },
    {
      "cell_type": "markdown",
      "metadata": {
        "id": "9ee074e4"
      },
      "source": [
        "**Note:** This API is new and only available via `pip install tf-nightly`. It will be available in TensorFlow version 2.7.\n",
        "\n",
        "To use TensorFlow Lite, a developer needs to prepare a TensorFlow model, use the converter to convert it to TensorFlow Lite model format, and run the model using TensorFlow Lite on device. This is true for inference use cases, and a similar flow can be applied to training too.\n",
        "\n",
        "The following code illustrates the high-level flow of preparing a TensorFlow training model, converting it to TensorFlow Lite model and running in TensorFlow Lite for a training use case.\n",
        "\n",
        "The implementation is based on the [Keras classification example](https://www.tensorflow.org/tutorials/keras/classification) in the TensorFlow official guide page."
      ]
    },
    {
      "cell_type": "markdown",
      "metadata": {
        "id": "UaWdLA3fQDK2"
      },
      "source": [
        "## Setup"
      ]
    },
    {
      "cell_type": "code",
      "execution_count": null,
      "metadata": {
        "id": "uZJ35RWsQHG2"
      },
      "outputs": [
        {
          "name": "stdout",
          "output_type": "stream",
          "text": [
            "Found existing installation: tensorflow 2.6.0\n",
            "Uninstalling tensorflow-2.6.0:\n",
            "  Successfully uninstalled tensorflow-2.6.0\n",
            "Found existing installation: keras 2.6.0\n",
            "Uninstalling keras-2.6.0:\n",
            "  Successfully uninstalled keras-2.6.0\n",
            "Collecting tf-nightly\n",
            "  Downloading tf_nightly-2.7.0.dev20210818-cp37-cp37m-manylinux2010_x86_64.whl (468.5 MB)\n",
            "\u001b[K     |████████████████████████████████| 468.5 MB 199 bytes/s \n",
            "\u001b[?25hRequirement already satisfied: typing-extensions~=3.7.4 in /usr/local/lib/python3.7/dist-packages (from tf-nightly) (3.7.4.3)\n",
            "Collecting keras-nightly~=2.7.0.dev\n",
            "  Downloading keras_nightly-2.7.0.dev2021081807-py2.py3-none-any.whl (1.3 MB)\n",
            "\u001b[K     |████████████████████████████████| 1.3 MB 31.2 MB/s \n",
            "\u001b[?25hRequirement already satisfied: astunparse~=1.6.3 in /usr/local/lib/python3.7/dist-packages (from tf-nightly) (1.6.3)\n",
            "Collecting libclang~=11.1.0\n",
            "  Downloading libclang-11.1.0-py2.py3-none-manylinux1_x86_64.whl (12.8 MB)\n",
            "\u001b[K     |████████████████████████████████| 12.8 MB 140 kB/s \n",
            "\u001b[?25hRequirement already satisfied: absl-py~=0.10 in /usr/local/lib/python3.7/dist-packages (from tf-nightly) (0.12.0)\n",
            "Requirement already satisfied: wrapt~=1.12.1 in /usr/local/lib/python3.7/dist-packages (from tf-nightly) (1.12.1)\n",
            "Requirement already satisfied: six~=1.15.0 in /usr/local/lib/python3.7/dist-packages (from tf-nightly) (1.15.0)\n",
            "Requirement already satisfied: protobuf>=3.9.2 in /usr/local/lib/python3.7/dist-packages (from tf-nightly) (3.17.3)\n",
            "Requirement already satisfied: termcolor~=1.1.0 in /usr/local/lib/python3.7/dist-packages (from tf-nightly) (1.1.0)\n",
            "Requirement already satisfied: flatbuffers~=1.12.0 in /usr/local/lib/python3.7/dist-packages (from tf-nightly) (1.12)\n",
            "Requirement already satisfied: gast==0.4.0 in /usr/local/lib/python3.7/dist-packages (from tf-nightly) (0.4.0)\n",
            "Requirement already satisfied: google-pasta~=0.2 in /usr/local/lib/python3.7/dist-packages (from tf-nightly) (0.2.0)\n",
            "Requirement already satisfied: opt-einsum~=3.3.0 in /usr/local/lib/python3.7/dist-packages (from tf-nightly) (3.3.0)\n",
            "Collecting tf-estimator-nightly~=2.7.0.dev\n",
            "  Downloading tf_estimator_nightly-2.7.0.dev2021081808-py2.py3-none-any.whl (463 kB)\n",
            "\u001b[K     |████████████████████████████████| 463 kB 66.9 MB/s \n",
            "\u001b[?25hRequirement already satisfied: grpcio<2.0,>=1.37.0 in /usr/local/lib/python3.7/dist-packages (from tf-nightly) (1.39.0)\n",
            "Collecting tensorflow-io-gcs-filesystem>=0.20.0\n",
            "  Downloading tensorflow_io_gcs_filesystem-0.20.0-cp37-cp37m-manylinux_2_12_x86_64.manylinux2010_x86_64.whl (2.3 MB)\n",
            "\u001b[K     |████████████████████████████████| 2.3 MB 20.3 MB/s \n",
            "\u001b[?25hCollecting tb-nightly~=2.7.0.a\n",
            "  Downloading tb_nightly-2.7.0a20210818-py3-none-any.whl (5.7 MB)\n",
            "\u001b[K     |████████████████████████████████| 5.7 MB 18.7 MB/s \n",
            "\u001b[?25hRequirement already satisfied: h5py~=3.1.0 in /usr/local/lib/python3.7/dist-packages (from tf-nightly) (3.1.0)\n",
            "Requirement already satisfied: numpy~=1.19.2 in /usr/local/lib/python3.7/dist-packages (from tf-nightly) (1.19.5)\n",
            "Requirement already satisfied: keras-preprocessing~=1.1.2 in /usr/local/lib/python3.7/dist-packages (from tf-nightly) (1.1.2)\n",
            "Requirement already satisfied: wheel~=0.35 in /usr/local/lib/python3.7/dist-packages (from tf-nightly) (0.37.0)\n",
            "Requirement already satisfied: cached-property in /usr/local/lib/python3.7/dist-packages (from h5py~=3.1.0->tf-nightly) (1.5.2)\n",
            "Requirement already satisfied: setuptools>=41.0.0 in /usr/local/lib/python3.7/dist-packages (from tb-nightly~=2.7.0.a->tf-nightly) (57.4.0)\n",
            "Requirement already satisfied: markdown>=2.6.8 in /usr/local/lib/python3.7/dist-packages (from tb-nightly~=2.7.0.a->tf-nightly) (3.3.4)\n",
            "Requirement already satisfied: requests<3,>=2.21.0 in /usr/local/lib/python3.7/dist-packages (from tb-nightly~=2.7.0.a->tf-nightly) (2.23.0)\n",
            "Requirement already satisfied: tensorboard-plugin-wit>=1.6.0 in /usr/local/lib/python3.7/dist-packages (from tb-nightly~=2.7.0.a->tf-nightly) (1.8.0)\n",
            "Requirement already satisfied: google-auth<2,>=1.6.3 in /usr/local/lib/python3.7/dist-packages (from tb-nightly~=2.7.0.a->tf-nightly) (1.34.0)\n",
            "Requirement already satisfied: werkzeug>=0.11.15 in /usr/local/lib/python3.7/dist-packages (from tb-nightly~=2.7.0.a->tf-nightly) (1.0.1)\n",
            "Requirement already satisfied: google-auth-oauthlib<0.5,>=0.4.1 in /usr/local/lib/python3.7/dist-packages (from tb-nightly~=2.7.0.a->tf-nightly) (0.4.5)\n",
            "Requirement already satisfied: tensorboard-data-server<0.7.0,>=0.6.0 in /usr/local/lib/python3.7/dist-packages (from tb-nightly~=2.7.0.a->tf-nightly) (0.6.1)\n",
            "Requirement already satisfied: pyasn1-modules>=0.2.1 in /usr/local/lib/python3.7/dist-packages (from google-auth<2,>=1.6.3->tb-nightly~=2.7.0.a->tf-nightly) (0.2.8)\n",
            "Requirement already satisfied: rsa<5,>=3.1.4 in /usr/local/lib/python3.7/dist-packages (from google-auth<2,>=1.6.3->tb-nightly~=2.7.0.a->tf-nightly) (4.7.2)\n",
            "Requirement already satisfied: cachetools<5.0,>=2.0.0 in /usr/local/lib/python3.7/dist-packages (from google-auth<2,>=1.6.3->tb-nightly~=2.7.0.a->tf-nightly) (4.2.2)\n",
            "Requirement already satisfied: requests-oauthlib>=0.7.0 in /usr/local/lib/python3.7/dist-packages (from google-auth-oauthlib<0.5,>=0.4.1->tb-nightly~=2.7.0.a->tf-nightly) (1.3.0)\n",
            "Requirement already satisfied: importlib-metadata in /usr/local/lib/python3.7/dist-packages (from markdown>=2.6.8->tb-nightly~=2.7.0.a->tf-nightly) (4.6.4)\n",
            "Requirement already satisfied: pyasn1<0.5.0,>=0.4.6 in /usr/local/lib/python3.7/dist-packages (from pyasn1-modules>=0.2.1->google-auth<2,>=1.6.3->tb-nightly~=2.7.0.a->tf-nightly) (0.4.8)\n",
            "Requirement already satisfied: idna<3,>=2.5 in /usr/local/lib/python3.7/dist-packages (from requests<3,>=2.21.0->tb-nightly~=2.7.0.a->tf-nightly) (2.10)\n",
            "Requirement already satisfied: certifi>=2017.4.17 in /usr/local/lib/python3.7/dist-packages (from requests<3,>=2.21.0->tb-nightly~=2.7.0.a->tf-nightly) (2021.5.30)\n",
            "Requirement already satisfied: urllib3!=1.25.0,!=1.25.1,<1.26,>=1.21.1 in /usr/local/lib/python3.7/dist-packages (from requests<3,>=2.21.0->tb-nightly~=2.7.0.a->tf-nightly) (1.24.3)\n",
            "Requirement already satisfied: chardet<4,>=3.0.2 in /usr/local/lib/python3.7/dist-packages (from requests<3,>=2.21.0->tb-nightly~=2.7.0.a->tf-nightly) (3.0.4)\n",
            "Requirement already satisfied: oauthlib>=3.0.0 in /usr/local/lib/python3.7/dist-packages (from requests-oauthlib>=0.7.0->google-auth-oauthlib<0.5,>=0.4.1->tb-nightly~=2.7.0.a->tf-nightly) (3.1.1)\n",
            "Requirement already satisfied: zipp>=0.5 in /usr/local/lib/python3.7/dist-packages (from importlib-metadata->markdown>=2.6.8->tb-nightly~=2.7.0.a->tf-nightly) (3.5.0)\n",
            "Installing collected packages: tf-estimator-nightly, tensorflow-io-gcs-filesystem, tb-nightly, libclang, keras-nightly, tf-nightly\n",
            "Successfully installed keras-nightly-2.7.0.dev2021081807 libclang-11.1.0 tb-nightly-2.7.0a20210818 tensorflow-io-gcs-filesystem-0.20.0 tf-estimator-nightly-2.7.0.dev2021081808 tf-nightly-2.7.0.dev20210818\n"
          ]
        }
      ],
      "source": [
        "!pip uninstall -y tensorflow keras\n",
        "!pip install tf-nightly"
      ]
    },
    {
      "cell_type": "code",
      "execution_count": null,
      "metadata": {
        "id": "9j4MGqyKQEo4"
      },
      "outputs": [],
      "source": [
        "import matplotlib.pyplot as plt\n",
        "import numpy as np\n",
        "import tensorflow as tf"
      ]
    },
    {
      "cell_type": "markdown",
      "metadata": {
        "id": "_omifE5JKpt4"
      },
      "source": [
        "## Classify images of clothing\n",
        "\n",
        "This CoLab trains a neural network model to classify images of clothing, like sneakers and shirts.\n",
        "\n",
        "Here, 60,000 images are used to train the network and 10,000 images to evaluate how accurately the network learned to classify images. You can access the Fashion MNIST directly from TensorFlow. Import and load the [Fashion MNIST data](https://keras.io/api/datasets/fashion_mnist/) directly from TensorFlow:\n",
        "\n",
        "Loading the dataset returns four NumPy arrays:\n",
        "\n",
        "* The `train_images` and `train_labels` arrays are the *training set*—the data the model uses to learn.\n",
        "* The model is tested against the *test set*, the `test_images`, and `test_labels` arrays."
      ]
    },
    {
      "cell_type": "code",
      "execution_count": null,
      "metadata": {
        "id": "NDo-K3Mq63iK"
      },
      "outputs": [],
      "source": [
        "fashion_mnist = tf.keras.datasets.fashion_mnist\n",
        "\n",
        "(train_images, train_labels), (test_images, test_labels) = fashion_mnist.load_data()"
      ]
    },
    {
      "cell_type": "markdown",
      "metadata": {
        "id": "jN1O10csLcVs"
      },
      "source": [
        "The images are 28x28 NumPy arrays, with pixel values ranging from 0 to 255. The *labels* are an array of integers, ranging from 0 to 9. These correspond to the *class* of clothing the image represents:"
      ]
    },
    {
      "cell_type": "code",
      "execution_count": null,
      "metadata": {
        "id": "CnwN4QoB7BN7"
      },
      "outputs": [
        {
          "data": {
            "text/plain": [
              "(60000, 28, 28)"
            ]
          },
          "execution_count": 19,
          "metadata": {},
          "output_type": "execute_result"
        }
      ],
      "source": [
        "train_images.shape"
      ]
    },
    {
      "cell_type": "markdown",
      "metadata": {
        "id": "p0yf3e-zLdUW"
      },
      "source": [
        "<table>\n",
        "  <tr>\n",
        "    <th>Label</th>\n",
        "    <th>Class</th>\n",
        "  </tr>\n",
        "  <tr>\n",
        "    <td>0</td>\n",
        "    <td>T-shirt/top</td>\n",
        "  </tr>\n",
        "  <tr>\n",
        "    <td>1</td>\n",
        "    <td>Trouser</td>\n",
        "  </tr>\n",
        "    <tr>\n",
        "    <td>2</td>\n",
        "    <td>Pullover</td>\n",
        "  </tr>\n",
        "    <tr>\n",
        "    <td>3</td>\n",
        "    <td>Dress</td>\n",
        "  </tr>\n",
        "    <tr>\n",
        "    <td>4</td>\n",
        "    <td>Coat</td>\n",
        "  </tr>\n",
        "    <tr>\n",
        "    <td>5</td>\n",
        "    <td>Sandal</td>\n",
        "  </tr>\n",
        "    <tr>\n",
        "    <td>6</td>\n",
        "    <td>Shirt</td>\n",
        "  </tr>\n",
        "    <tr>\n",
        "    <td>7</td>\n",
        "    <td>Sneaker</td>\n",
        "  </tr>\n",
        "    <tr>\n",
        "    <td>8</td>\n",
        "    <td>Bag</td>\n",
        "  </tr>\n",
        "    <tr>\n",
        "    <td>9</td>\n",
        "    <td>Ankle boot</td>\n",
        "  </tr>\n",
        "</table>\n",
        "\n",
        "Each image is mapped to a single label. Since the *class names* are not included with the dataset, store them here to use later when plotting the images:"
      ]
    },
    {
      "cell_type": "code",
      "execution_count": null,
      "metadata": {
        "id": "l610mvhA695s"
      },
      "outputs": [],
      "source": [
        "class_names = ['T-shirt/top', 'Trouser', 'Pullover', 'Dress', 'Coat',\n",
        "               'Sandal', 'Shirt', 'Sneaker', 'Bag', 'Ankle boot']"
      ]
    },
    {
      "cell_type": "markdown",
      "metadata": {
        "id": "Wz7l27Lz9S1P"
      },
      "source": [
        "Define a function `plot()` to print 25 images and their labels."
      ]
    },
    {
      "cell_type": "code",
      "execution_count": null,
      "metadata": {
        "id": "w3OkzF7O7Hr8"
      },
      "outputs": [],
      "source": [
        "def plot(images, labels):\n",
        "  plt.figure(figsize=(10,10))\n",
        "  for i in range(25):\n",
        "      plt.subplot(5,5,i+1)\n",
        "      plt.xticks([])\n",
        "      plt.yticks([])\n",
        "      plt.grid(False)\n",
        "      plt.imshow(images[i], cmap=plt.cm.binary)\n",
        "      plt.xlabel(class_names[labels[i]])\n",
        "  plt.show()"
      ]
    },
    {
      "cell_type": "markdown",
      "metadata": {
        "id": "07pRpl-qJCk9"
      },
      "source": [
        "Plot training images"
      ]
    },
    {
      "cell_type": "code",
      "execution_count": null,
      "metadata": {
        "id": "NgqvO8Eh7NFx"
      },
      "outputs": [
        {
          "data": {
            "image/png": "[encoded data removed]",
            "text/plain": [
              "<Figure size 1000x1000 with 25 Axes>"
            ]
          },
          "metadata": {},
          "output_type": "display_data"
        }
      ],
      "source": [
        "plot(train_images, train_labels)"
      ]
    },
    {
      "cell_type": "markdown",
      "metadata": {
        "id": "FN2N6hPEP-Ay"
      },
      "source": [
        "### TensorFlow Model for Training\n",
        "\n",
        "Instead of converting a single TensorFlow model or tf.function to a TensorFlow Lite model with a single entry point, we can convert multiple tf.function(s) into a TensorFlow Lite model. To be able to do that, we're extending the TensorFlow Lite's converter & runtime to handle multiple signatures.\n",
        "\n",
        "Preparing a TensorFlow Model. The code constructs a tf.module with 4 tf.functions:\n",
        "*   train function trains the model with training data.\n",
        "*   infer function invokes the inference.\n",
        "*   save function saves the trainable weights into the file system.\n",
        "*   restore function loads the trainable weights from the file system.\n",
        "\n",
        "The weights will be serialized as a TensorFlow version one checkpoint file format."
      ]
    },
    {
      "cell_type": "code",
      "execution_count": null,
      "metadata": {
        "id": "d8577c80"
      },
      "outputs": [],
      "source": [
        "IMG_SIZE = 28\n",
        "\n",
        "\n",
        "class Model(tf.Module):\n",
        "\n",
        "  def __init__(self):\n",
        "    self.model = tf.keras.Sequential([\n",
        "        tf.keras.layers.Flatten(input_shape=(IMG_SIZE, IMG_SIZE)),\n",
        "        tf.keras.layers.Dense(128, activation='relu'),\n",
        "        tf.keras.layers.Dense(10, activation='softmax')\n",
        "    ])\n",
        "\n",
        "    self.model.compile(\n",
        "        optimizer='sgd',\n",
        "        loss=tf.keras.losses.CategoricalCrossentropy(from_logits=True),\n",
        "        metrics=['accuracy'])\n",
        "    self._LOSS_FN = tf.keras.losses.CategoricalCrossentropy()\n",
        "    self._OPTIM = tf.optimizers.SGD()\n",
        "\n",
        "  @tf.function(input_signature=[\n",
        "      tf.TensorSpec([None, IMG_SIZE, IMG_SIZE], tf.float32),\n",
        "      tf.TensorSpec([None, 10], tf.float32),\n",
        "  ])\n",
        "  def train(self, x, y):\n",
        "    # Gradient tape is used for recording operations for automatic\n",
        "    # differentiation. You can refer to\n",
        "    # https://www.tensorflow.org/api_docs/python/tf/GradientTape for more\n",
        "    # details on how to use it.\n",
        "    with tf.GradientTape() as tape:\n",
        "      prediction = self.model(x)\n",
        "      loss = self._LOSS_FN(prediction, y)\n",
        "    gradients = tape.gradient(loss, self.model.trainable_variables)\n",
        "    self._OPTIM.apply_gradients(\n",
        "        zip(gradients, self.model.trainable_variables))\n",
        "    result = {\"loss\": loss}\n",
        "    for grad in gradients:\n",
        "      result[grad.name] = grad\n",
        "    return result\n",
        "\n",
        "  @tf.function(input_signature=[tf.TensorSpec([None, IMG_SIZE, IMG_SIZE], tf.float32)])\n",
        "  def predict(self, x):\n",
        "    return {\n",
        "        \"output\": self.model(x)\n",
        "    }\n",
        "\n",
        "  @tf.function(input_signature=[tf.TensorSpec(shape=[], dtype=tf.string)])\n",
        "  def save(self, checkpoint_path):\n",
        "    tensor_names = [weight.name for weight in self.model.weights]\n",
        "    tensors_to_save = [weight.read_value() for weight in self.model.weights]\n",
        "    tf.raw_ops.Save(\n",
        "        filename=checkpoint_path, tensor_names=tensor_names,\n",
        "        data=tensors_to_save, name='save')\n",
        "    return {\n",
        "        \"checkpoint_path\": checkpoint_path\n",
        "    }\n",
        "\n",
        "  @tf.function(input_signature=[tf.TensorSpec(shape=[], dtype=tf.string)])\n",
        "  def restore(self, checkpoint_path):\n",
        "    restored_tensors = {}\n",
        "    for var in self.model.weights:\n",
        "      restored = tf.raw_ops.Restore(\n",
        "          file_pattern=checkpoint_path, tensor_name=var.name, dt=var.dtype,\n",
        "          name='restore')\n",
        "      var.assign(restored)\n",
        "      restored_tensors[var.name] = restored\n",
        "    return restored_tensors"
      ]
    },
    {
      "cell_type": "markdown",
      "metadata": {
        "id": "A8YUTIvzMVw5"
      },
      "source": [
        "### Convert to TensorFlow Lite model"
      ]
    },
    {
      "cell_type": "code",
      "execution_count": null,
      "metadata": {
        "id": "WwsDUEKFMYtq"
      },
      "outputs": [],
      "source": [
        "# Export the TensorFlow model to the saved model\n",
        "SAVED_MODEL_DIR = \"saved_model\"\n",
        "m= Model()\n",
        "tf.saved_model.save(\n",
        "    m,\n",
        "    SAVED_MODEL_DIR,\n",
        "    signatures={\n",
        "        'train':\n",
        "            m.train.get_concrete_function(),\n",
        "        'infer':\n",
        "            m.predict.get_concrete_function(),\n",
        "        'save':\n",
        "            m.save.get_concrete_function(),\n",
        "        'restore':\n",
        "            m.restore.get_concrete_function(),\n",
        "    })\n",
        "\n",
        "# Convert the model\n",
        "converter = tf.lite.TFLiteConverter.from_saved_model(SAVED_MODEL_DIR)\n",
        "converter.target_spec.supported_ops = [\n",
        "    tf.lite.OpsSet.TFLITE_BUILTINS,  # enable TensorFlow Lite ops.\n",
        "    tf.lite.OpsSet.SELECT_TF_OPS  # enable TensorFlow ops.\n",
        "]\n",
        "converter.experimental_enable_resource_variables = True\n",
        "tflite_model = converter.convert()"
      ]
    },
    {
      "cell_type": "markdown",
      "metadata": {
        "id": "B-mXb38wM6Nf"
      },
      "source": [
        "### Train the TensorFlow Lite model\n"
      ]
    },
    {
      "cell_type": "markdown",
      "metadata": {
        "id": "2eDn-bRD30sw"
      },
      "source": [
        "#### Preprocess the dataset\n",
        "\n",
        "* Scale images from 0-255 to a range of 0 to 1 before feeding them to the neural network model. To do so, divide the values by 255.\n",
        "* Convert labels to categorical values, i.e, perform one-hot encoding.\n",
        "\n",
        "It's important that the *training set* and the *testing set* be preprocessed in the same way."
      ]
    },
    {
      "cell_type": "code",
      "execution_count": null,
      "metadata": {
        "id": "Fmc7EgYO30sw"
      },
      "outputs": [],
      "source": [
        "train_images = train_images / 255.0\n",
        "test_images = test_images / 255.0\n",
        "\n",
        "train_labels = tf.keras.utils.to_categorical(train_labels)\n",
        "test_labels = tf.keras.utils.to_categorical(test_labels)"
      ]
    },
    {
      "cell_type": "markdown",
      "metadata": {
        "id": "GJSOtPISKSn2"
      },
      "source": [
        "#### Setup the TensorFlow Lite\n",
        "\n",
        "TensorFlow Lite's converter and interpreter support multi-signature. Developers can choose to invoke restoring, training, saving and inferring signatures separately."
      ]
    },
    {
      "cell_type": "code",
      "execution_count": null,
      "metadata": {
        "id": "qNX2vqXd2-HM"
      },
      "outputs": [],
      "source": [
        "interpreter = tf.lite.Interpreter(model_content=tflite_model)\n",
        "\n",
        "train = interpreter.get_signature_runner(\"train\")\n",
        "infer = interpreter.get_signature_runner(\"infer\")\n",
        "save = interpreter.get_signature_runner(\"save\")\n",
        "restore = interpreter.get_signature_runner(\"restore\")"
      ]
    },
    {
      "cell_type": "markdown",
      "metadata": {
        "id": "fauhoadfg842"
      },
      "source": [
        "On Android, TensorFlow Lite on-device training can be performed using either Java or C++ APIs. In this document, we describe how the above TensorFlow Lite model will work with Java API."
      ]
    },
    {
      "cell_type": "markdown",
      "metadata": {
        "id": "5jhWXwVCO09F"
      },
      "source": [
        "#### Train the model\n",
        "\n",
        "Using the preprocessed dataset and the `train` signature method."
      ]
    },
    {
      "cell_type": "code",
      "execution_count": null,
      "metadata": {
        "id": "Diwn1MmkNVeX"
      },
      "outputs": [
        {
          "name": "stdout",
          "output_type": "stream",
          "text": [
            "Current loss: 14.396263\n",
            "Current loss: 14.303606\n",
            "Current loss: 14.217689\n",
            "Current loss: 14.136439\n",
            "Current loss: 14.057844\n",
            "Current loss: 13.979243\n",
            "Current loss: 13.897442\n",
            "Current loss: 13.80926\n",
            "Current loss: 13.711432\n",
            "Current loss: 13.601482\n",
            "Current loss: 13.477388\n",
            "Current loss: 13.33926\n",
            "Current loss: 13.188297\n",
            "Current loss: 13.028339\n",
            "Current loss: 12.86321\n",
            "Current loss: 12.696561\n",
            "Current loss: 12.532116\n",
            "Current loss: 12.372246\n",
            "Current loss: 12.218907\n",
            "Current loss: 12.0738\n",
            "Current loss: 11.936985\n",
            "Current loss: 11.809245\n",
            "Current loss: 11.690561\n",
            "Current loss: 11.580731\n",
            "Current loss: 11.479323\n",
            "Current loss: 11.38568\n",
            "Current loss: 11.299316\n",
            "Current loss: 11.219543\n",
            "Current loss: 11.145597\n",
            "Current loss: 11.076766\n",
            "Current loss: 11.012304\n",
            "Current loss: 10.95145\n",
            "Current loss: 10.893523\n",
            "Current loss: 10.837595\n",
            "Current loss: 10.782755\n",
            "Current loss: 10.727857\n",
            "Current loss: 10.671567\n",
            "Current loss: 10.612212\n",
            "Current loss: 10.547741\n",
            "Current loss: 10.476793\n",
            "Current loss: 10.399756\n",
            "Current loss: 10.320941\n",
            "Current loss: 10.246746\n",
            "Current loss: 10.1808815\n",
            "Current loss: 10.122174\n",
            "Current loss: 10.0683365\n",
            "Current loss: 10.01795\n",
            "Current loss: 9.970425\n",
            "Current loss: 9.925422\n",
            "Current loss: 9.882821\n",
            "Current loss: 9.842349\n",
            "Current loss: 9.803933\n",
            "Current loss: 9.767409\n",
            "Current loss: 9.732697\n",
            "Current loss: 9.6996975\n",
            "Current loss: 9.66818\n",
            "Current loss: 9.638099\n",
            "Current loss: 9.609366\n",
            "Current loss: 9.58198\n",
            "Current loss: 9.555719\n",
            "Current loss: 9.530494\n",
            "Current loss: 9.506348\n",
            "Current loss: 9.4832115\n",
            "Current loss: 9.461029\n",
            "Current loss: 9.4395685\n",
            "Current loss: 9.419008\n",
            "Current loss: 9.399196\n",
            "Current loss: 9.380062\n",
            "Current loss: 9.361678\n",
            "Current loss: 9.343888\n",
            "Current loss: 9.326725\n",
            "Current loss: 9.310148\n",
            "Current loss: 9.293956\n",
            "Current loss: 9.278403\n",
            "Current loss: 9.263322\n",
            "Current loss: 9.248656\n",
            "Current loss: 9.234494\n",
            "Current loss: 9.220719\n",
            "Current loss: 9.207276\n",
            "Current loss: 9.194283\n",
            "Current loss: 9.181615\n",
            "Current loss: 9.169266\n",
            "Current loss: 9.15727\n",
            "Current loss: 9.145533\n",
            "Current loss: 9.134073\n",
            "Current loss: 9.122858\n",
            "Current loss: 9.111999\n",
            "Current loss: 9.101208\n",
            "Current loss: 9.09076\n",
            "Current loss: 9.080481\n",
            "Current loss: 9.070346\n",
            "Current loss: 9.06051\n",
            "Current loss: 9.050687\n",
            "Current loss: 9.041164\n",
            "Current loss: 9.031782\n",
            "Current loss: 9.022458\n",
            "Current loss: 9.013314\n",
            "Current loss: 9.004282\n",
            "Current loss: 8.99529\n",
            "Current loss: 8.986399\n"
          ]
        }
      ],
      "source": [
        "# Run training for a few steps\n",
        "NUM_EPOCHS = 100\n",
        "for i in range(NUM_EPOCHS):\n",
        "  result = train(\n",
        "      x=tf.constant(train_images, shape=(len(train_images), IMG_SIZE, IMG_SIZE), dtype=tf.float32),\n",
        "      y=tf.constant(train_labels, shape=(len(train_images), 10), dtype=tf.float32))\n",
        "  if NUM_EPOCHS % 10 == 0:\n",
        "    print(\"Current loss:\", result['loss'])"
      ]
    },
    {
      "cell_type": "markdown",
      "metadata": {
        "id": "jBYb5JEnPeOR"
      },
      "source": [
        "In Java, you'll use the `Interpreter` class to load a model and drive model training tasks.\n",
        "The following example shows how to run the training procedure by using the `runSignature` method:\n",
        "\n",
        "```\n",
        "try (Interpreter interpreter = new Interpreter(modelBuffer)) {\n",
        "    int NUM_EPOCHS = 100;\n",
        "    int NUM_TRAININGS = 60000;\n",
        "    float[][][] trainImages = new float[NUM_TRAININGS][28][28];\n",
        "    float[][] trainLabels = new float[NUM_TRAININGS][10];\n",
        "\n",
        "    // Fill the data values.\n",
        "\n",
        "    // Run training for a few steps.\n",
        "    for (int i = 0; i < NUM_EPOCHS; ++i) {\n",
        "        Map<String, Object> inputs = new HashMap<>();\n",
        "        inputs.put(\"x\", trainImages);\n",
        "        inputs.put(\"y\", trainLabels);\n",
        "        Map<String, Object> outputs = new HashMap<>();\n",
        "        FloatBuffer loss = FloatBuffer.allocate(1);\n",
        "        outputs.put(\"loss\", loss);\n",
        "        interpreter.runSignature(inputs, outputs, \"train\");\n",
        "    }\n",
        "\n",
        "    // Do the other stuffs..\n",
        "}\n",
        "```"
      ]
    },
    {
      "cell_type": "markdown",
      "metadata": {
        "id": "pkDkZK5vz5RW"
      },
      "source": [
        "### Run inference on the trained TensorFlow Lite model\n",
        "Now we have a trained TensorFlow Lite model, we can run inference on the test images using the signature runner API:"
      ]
    },
    {
      "cell_type": "code",
      "execution_count": null,
      "metadata": {
        "id": "XUCkDAov0Er4"
      },
      "outputs": [
        {
          "data": {
            "image/png": "[encoded data removed]",
            "text/plain": [
              "<Figure size 1000x1000 with 25 Axes>"
            ]
          },
          "metadata": {},
          "output_type": "display_data"
        }
      ],
      "source": [
        "infer = interpreter.get_signature_runner(\"infer\")\n",
        "result = infer(\n",
        "    x=tf.constant(test_images, shape=(len(test_images), IMG_SIZE, IMG_SIZE), dtype=tf.float32))\n",
        "result_labels = np.argmax(result[\"output\"], axis=1)\n",
        "plot(test_images, result_labels)"
      ]
    },
    {
      "cell_type": "markdown",
      "metadata": {
        "id": "UDIi0_RlPb2n"
      },
      "source": [
        "### Export the trained weights to the checkpoint file\n",
        "\n",
        "The checkpoint file can be generated through the `save` signature method."
      ]
    },
    {
      "cell_type": "code",
      "execution_count": null,
      "metadata": {
        "id": "sgeX9XiXOyex"
      },
      "outputs": [
        {
          "data": {
            "text/plain": [
              "{'checkpoint_path': array(b'/tmp/model.ckpt', dtype=object)}"
            ]
          },
          "execution_count": 29,
          "metadata": {},
          "output_type": "execute_result"
        }
      ],
      "source": [
        "save(checkpoint_path=np.array(\"/tmp/model.ckpt\", dtype=np.string_))"
      ]
    },
    {
      "cell_type": "markdown",
      "metadata": {
        "id": "vvlZN-rhR_Ag"
      },
      "source": [
        "In Java, you can store the trained weight as a checkpoint format into the internal storage of the application. Training tasks usually perform at the idle time (e.g., at night time) in the background process occasionally.\n",
        "\n",
        "```\n",
        "try (Interpreter interpreter = new Interpreter(modelBuffer)) {\n",
        "    // Conduct the training jobs.\n",
        "\n",
        "    // Export the trained weights as a checkpoint file.\n",
        "    File outputFile = new File(getFilesDir(), \"checkpoint.ckpt\");\n",
        "    Map<String, Object> inputs = new HashMap<>();\n",
        "    inputs.put(\"checkpoint_path\", outputFile.getAbsolutePath());\n",
        "    Map<String, Object> outputs = new HashMap<>();\n",
        "    interpreter.runSignature(inputs, outputs, \"save\");\n",
        "}\n",
        "```"
      ]
    },
    {
      "cell_type": "markdown",
      "metadata": {
        "id": "SSDydMyOQfL5"
      },
      "source": [
        "### Restore the trained weights from the checkpoint file\n",
        "\n",
        "The exported checkpoint file can be restored through the `restore` signature method."
      ]
    },
    {
      "cell_type": "code",
      "execution_count": null,
      "metadata": {
        "id": "5yIZoLveRZgp"
      },
      "outputs": [
        {
          "data": {
            "text/plain": [
              "{'dense_2/bias:0': array([ 5.50814066e-03,  1.63249875e-04, -2.55855732e-03,  8.71338043e-03,\n",
              "         2.66851392e-03, -3.30125843e-03, -4.12533386e-03, -1.44013751e-03,\n",
              "         2.71035433e-02,  6.02910109e-03,  1.14851762e-02,  1.27093988e-02,\n",
              "        -5.43930288e-03,  4.78171138e-03,  2.36648461e-03,  4.66894358e-03,\n",
              "        -2.91200704e-03,  9.43728723e-03,  1.14521412e-02,  3.59242922e-03,\n",
              "         3.82418570e-04,  8.97759292e-03, -4.25201748e-03, -6.41951663e-03,\n",
              "         1.63362026e-02, -3.51130799e-03, -1.25751842e-03,  3.87191284e-03,\n",
              "         5.15990192e-04,  5.73161431e-03,  9.90258064e-04,  1.48530537e-02,\n",
              "        -5.18084643e-03,  1.23257069e-02,  3.77742108e-03,  2.69266893e-03,\n",
              "        -1.81903306e-03,  5.38993347e-03,  1.79503821e-02,  8.09132867e-03,\n",
              "         4.27707145e-03, -6.18034974e-04,  6.64335536e-03,  2.47712247e-03,\n",
              "         6.56080898e-03, -2.00155634e-03,  9.76888649e-03, -7.13824120e-04,\n",
              "         2.58168159e-03, -1.01994065e-05, -7.36352522e-04,  4.00819443e-03,\n",
              "         7.38000404e-03,  9.95695218e-03,  7.68519612e-03,  8.50061607e-03,\n",
              "         1.65498927e-02,  7.97602255e-03,  1.16602089e-02, -4.53241682e-03,\n",
              "        -5.84556116e-03, -3.54849687e-03, -6.15572045e-03,  1.94152771e-03,\n",
              "         4.51884838e-03,  1.71726327e-02, -6.86683832e-03,  1.07057141e-02,\n",
              "         4.40637209e-03,  8.89541861e-03,  5.25616633e-04, -2.54953722e-03,\n",
              "        -3.45151685e-03, -2.93776207e-03, -6.45935349e-03,  1.53738195e-02,\n",
              "         5.58248066e-05, -3.49528599e-03, -4.22478595e-04,  4.49783262e-03,\n",
              "         3.06853955e-03,  8.59345868e-03,  2.35754787e-03, -5.61342516e-04,\n",
              "         7.56575214e-03,  9.65782441e-03,  4.88376850e-03, -4.00975288e-04,\n",
              "         1.55815547e-02,  3.08428146e-03, -8.09348188e-03,  2.20312290e-02,\n",
              "         6.47169258e-03,  2.59403093e-03, -3.80435539e-03,  2.01703720e-02,\n",
              "        -1.87874975e-04, -2.00505718e-03,  9.52937081e-03,  1.13569694e-02,\n",
              "         2.15012375e-02,  3.37977149e-03,  1.37995724e-02,  6.03135629e-03,\n",
              "        -2.43986910e-03, -9.21350531e-03,  4.15009446e-03, -9.93384863e-04,\n",
              "         2.65381509e-03,  2.68627796e-03,  1.41273402e-02, -1.80276157e-03,\n",
              "         1.03797391e-02,  2.14785282e-02,  1.27217555e-02, -8.90066847e-03,\n",
              "         7.67226098e-04, -1.02135865e-02,  5.48390159e-03, -3.43670719e-04,\n",
              "         9.90849081e-03, -5.65989933e-04, -2.27765282e-04, -1.08213723e-02,\n",
              "         6.92073349e-03,  2.70061214e-02,  1.07793836e-02,  1.05377659e-02],\n",
              "       dtype=float32),\n",
              " 'dense_2/kernel:0': array([[ 0.05291435, -0.04575542, -0.00323334, ..., -0.06363534,\n",
              "          0.01334686,  0.0061052 ],\n",
              "        [ 0.0545844 , -0.0349381 ,  0.00865103, ...,  0.06386125,\n",
              "          0.04483363, -0.03374327],\n",
              "        [ 0.02856035, -0.04571474, -0.06628583, ...,  0.044783  ,\n",
              "          0.04580336, -0.00547091],\n",
              "        ...,\n",
              "        [-0.05086771,  0.04094117,  0.05317554, ..., -0.00669737,\n",
              "         -0.00372126,  0.05686042],\n",
              "        [-0.07358035, -0.07904236, -0.0622641 , ..., -0.01386026,\n",
              "          0.04062129,  0.06109906],\n",
              "        [ 0.03951504, -0.06246072,  0.01369533, ...,  0.01092384,\n",
              "         -0.0077237 ,  0.06911606]], dtype=float32),\n",
              " 'dense_3/bias:0': array([-0.02198488,  0.02706152, -0.02886103,  0.00445961, -0.01713441,\n",
              "         0.03320304, -0.0081346 ,  0.05830066, -0.03198646, -0.0149209 ],\n",
              "       dtype=float32),\n",
              " 'dense_3/kernel:0': array([[-0.21426308, -0.08967552,  0.10263082, ...,  0.20164317,\n",
              "          0.14706993, -0.18444657],\n",
              "        [ 0.01578817, -0.20522201,  0.04466279, ...,  0.11091155,\n",
              "          0.10585076, -0.20593551],\n",
              "        [ 0.08222405,  0.20533872, -0.0445279 , ..., -0.1380151 ,\n",
              "          0.06037113, -0.07987803],\n",
              "        ...,\n",
              "        [ 0.05945491, -0.18445425,  0.03812465, ...,  0.25167215,\n",
              "         -0.15950607, -0.18778776],\n",
              "        [-0.19339935,  0.03394257,  0.03840902, ...,  0.19101042,\n",
              "          0.09314803,  0.16348805],\n",
              "        [ 0.08151069, -0.24999335, -0.0843276 , ...,  0.13724336,\n",
              "          0.23454058, -0.0579201 ]], dtype=float32)}"
            ]
          },
          "execution_count": 30,
          "metadata": {},
          "output_type": "execute_result"
        }
      ],
      "source": [
        "another_interpreter = tf.lite.Interpreter(model_content=tflite_model)\n",
        "\n",
        "train = another_interpreter.get_signature_runner(\"train\")\n",
        "infer = another_interpreter.get_signature_runner(\"infer\")\n",
        "save = another_interpreter.get_signature_runner(\"save\")\n",
        "restore = another_interpreter.get_signature_runner(\"restore\")\n",
        "\n",
        "# Restore the trained weights from /tmp/model.ckpt\n",
        "# The time spent in weight restoration is proportionate to the checkpoint size\n",
        "# and the number of variables in the model.\n",
        "restore(checkpoint_path=np.array(\"/tmp/model.ckpt\", dtype=np.string_))"
      ]
    },
    {
      "cell_type": "markdown",
      "metadata": {
        "id": "v9I_-gjdSnGn"
      },
      "source": [
        "In Java, you can restore the serialized trained weights from the file, stored at the internal storage. When the application restarts, the trained weights\n",
        "usually need to be restored prior to the inferences.\n",
        "\n",
        "```\n",
        "try (Interpreter another_interpreter = new Interpreter(modelBuffer)) {\n",
        "    // Load the trained weights from the checkpoint file.\n",
        "    File outputFile = new File(getFilesDir(), \"checkpoint.ckpt\");\n",
        "    Map<String, Object> inputs = new HashMap<>();\n",
        "    inputs.put(\"checkpoint_path\", outputFile.getAbsolutePath());\n",
        "    Map<String, Object> outputs = new HashMap<>();\n",
        "    another_interpreter.runSignature(inputs, outputs, \"restore\");\n",
        "}\n",
        "```"
      ]
    },
    {
      "cell_type": "markdown",
      "metadata": {
        "id": "zjcrv57DSkz2"
      },
      "source": [
        "### Run Inference using the trained weights\n",
        "\n",
        "Developers can use the trained model to run inference through the `infer` signature method."
      ]
    },
    {
      "cell_type": "code",
      "execution_count": null,
      "metadata": {
        "id": "_ROmlpHWS0nX"
      },
      "outputs": [],
      "source": [
        "result = infer(\n",
        "    x=tf.constant(test_images, shape=(len(test_images), IMG_SIZE, IMG_SIZE), dtype=tf.float32))\n",
        "result_labels = np.argmax(result[\"output\"], axis=1)"
      ]
    },
    {
      "cell_type": "markdown",
      "metadata": {
        "id": "fGPtqeVULZui"
      },
      "source": [
        "Plot the predicted labels"
      ]
    },
    {
      "cell_type": "code",
      "execution_count": null,
      "metadata": {
        "id": "GHbRasdfasd4"
      },
      "outputs": [
        {
          "data": {
            "image/png": "[encoded data removed]",
            "text/plain": [
              "<Figure size 1000x1000 with 25 Axes>"
            ]
          },
          "metadata": {},
          "output_type": "display_data"
        }
      ],
      "source": [
        "plot(test_images, result_labels)"
      ]
    },
    {
      "cell_type": "markdown",
      "metadata": {
        "id": "eijDL3jNS6WI"
      },
      "source": [
        "In Java, after restoring the trained weights, developers can run the inferences based on the loaded data.\n",
        "\n",
        "```\n",
        "try (Interpreter another_interpreter = new Interpreter(modelBuffer)) {\n",
        "    // Restore the weights from the checkpoint file.\n",
        "\n",
        "    int NUM_TESTS = 10;\n",
        "    float[][][] testImages = new float[NUM_TESTS][28][28];\n",
        "    float[][] output = new float[NUM_TESTS][10];\n",
        "\n",
        "    // Fill the test data.\n",
        "\n",
        "    // Run the inference.\n",
        "    inputs = new HashMap<>();\n",
        "    inputs.put(\"x\", testImages);\n",
        "    outputs = new HashMap<>();\n",
        "    outputs.put(\"output\", output);\n",
        "    another_interpreter.runSignature(inputs, outputs, \"infer\");\n",
        "\n",
        "    // Process the result to get the final category values.\n",
        "    int[] testLabels = new int[NUM_TESTS];\n",
        "    for (int i = 0; i < NUM_TESTS; ++i) {\n",
        "        int index = 0;\n",
        "        for (int j = 1; j < 10; ++j) {\n",
        "            if (output[i][index] < output[i][j]) index = testLabels[j];\n",
        "        }\n",
        "        testLabels[i] = index;\n",
        "    }\n",
        "}\n",
        "```"
      ]
    }
  ],
  "metadata": {
    "colab": {
      "collapsed_sections": [],
      "name": "overview.ipynb",
      "toc_visible": true
    },
    "kernelspec": {
      "display_name": "Python 3",
      "name": "python3"
    }
  },
  "nbformat": 4,
  "nbformat_minor": 0
}
