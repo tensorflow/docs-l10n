{
  "cells": [
    {
      "cell_type": "markdown",
      "metadata": {
        "id": "Tce3stUlHN0L"
      },
      "source": [
        "##### Copyright 2020 The TensorFlow IO Authors."
      ]
    },
    {
      "cell_type": "code",
      "execution_count": null,
      "metadata": {
        "cellView": "form",
        "id": "tuOe1ymfHZPu"
      },
      "outputs": [],
      "source": [
        "#@title Licensed under the Apache License, Version 2.0 (the \"License\");\n",
        "# you may not use this file except in compliance with the License.\n",
        "# You may obtain a copy of the License at\n",
        "#\n",
        "# https://www.apache.org/licenses/LICENSE-2.0\n",
        "#\n",
        "# Unless required by applicable law or agreed to in writing, software\n",
        "# distributed under the License is distributed on an \"AS IS\" BASIS,\n",
        "# WITHOUT WARRANTIES OR CONDITIONS OF ANY KIND, either express or implied.\n",
        "# See the License for the specific language governing permissions and\n",
        "# limitations under the License."
      ]
    },
    {
      "cell_type": "markdown",
      "metadata": {
        "id": "qFdPvlXBOdUN"
      },
      "source": [
        "# 颜色空间转换"
      ]
    },
    {
      "cell_type": "markdown",
      "metadata": {
        "id": "MfBg1C5NB3X0"
      },
      "source": [
        "<table class=\"tfo-notebook-buttons\" align=\"left\">\n",
        "  <td>     <a target=\"_blank\" href=\"https://tensorflow.google.cn/io/tutorials/colorspace\"><img src=\"https://tensorflow.google.cn/images/tf_logo_32px.png\">在 TensorFlow.org 上查看</a>   </td>\n",
        "  <td>     <a target=\"_blank\" href=\"https://colab.research.google.com/github/tensorflow/docs-l10n/blob/master/site/zh-cn/io/tutorials/colorspace.ipynb\"><img src=\"https://tensorflow.google.cn/images/colab_logo_32px.png\">在 Google Colab 中运行</a>\n",
        "</td>\n",
        "  <td>     <a target=\"_blank\" href=\"https://github.com/tensorflow/docs-l10n/blob/master/site/zh-cn/io/tutorials/colorspace.ipynb\"><img src=\"https://tensorflow.google.cn/images/GitHub-Mark-32px.png\">在 Github 上查看源代码</a>   </td>\n",
        "      <td>     <a href=\"https://storage.googleapis.com/tensorflow_docs/docs-l10n/site/zh-cn/io/tutorials/colorspace.ipynb\"><img src=\"https://tensorflow.google.cn/images/download_logo_32px.png\">下载笔记本</a>   </td>\n",
        "</table>"
      ]
    },
    {
      "cell_type": "markdown",
      "metadata": {
        "id": "xHxb-dlhMIzW"
      },
      "source": [
        "## 概述\n",
        "\n",
        "在计算机视觉中，所选颜色空间可能对模型的性能产生重大影响。虽然 `RGB` 是最常用的颜色空间，但是在许多情况下，切换至其他颜色空间（例如 `YUV`、`YCbCr`、`XYZ (CIE)` 等）时，模型的性能可能更出色。\n",
        "\n",
        "`tensorflow-io` 软件包提供了一系列可用于准备和增强图像数据的颜色空间转换 API。"
      ]
    },
    {
      "cell_type": "markdown",
      "metadata": {
        "id": "MUXex9ctTuDB"
      },
      "source": [
        "## 设置"
      ]
    },
    {
      "cell_type": "markdown",
      "metadata": {
        "id": "upgCc3gXybsA"
      },
      "source": [
        "### 安装要求的软件包，然后重新启动运行时"
      ]
    },
    {
      "cell_type": "code",
      "execution_count": null,
      "metadata": {
        "id": "uUDYyMZRfkX4"
      },
      "outputs": [],
      "source": [
        "!pip install tensorflow-io"
      ]
    },
    {
      "cell_type": "markdown",
      "metadata": {
        "id": "VSkY6UAxODOq"
      },
      "source": [
        "### 下载示例图像\n",
        "\n",
        "本教程中使用的示例图像是一张[站在雪地中的猫](https://commons.wikimedia.org/wiki/File:Felis_catus-cat_on_snow.jpg)的照片，不过，您可以将其替换为任何 JPEG 图像。\n",
        "\n",
        "下面的代码会下载这个图像，并将其以 `sample.jpg` 形式保存到本地磁盘上："
      ]
    },
    {
      "cell_type": "code",
      "execution_count": null,
      "metadata": {
        "id": "baeqVsglPQUI"
      },
      "outputs": [],
      "source": [
        "!curl -o sample.jpg -L https://storage.googleapis.com/download.tensorflow.org/example_images/320px-Felis_catus-cat_on_snow.jpg\n",
        "\n",
        "!ls -ls sample.jpg"
      ]
    },
    {
      "cell_type": "markdown",
      "metadata": {
        "id": "J0ZKhA6s0Pjp"
      },
      "source": [
        "## 用法"
      ]
    },
    {
      "cell_type": "markdown",
      "metadata": {
        "id": "yZmI7l_GykcW"
      },
      "source": [
        "### 读取图像文件\n",
        "\n",
        "读取示例图像并将其解码成形状为 `(213, 320, 3)` 的 `uint8` 张量"
      ]
    },
    {
      "cell_type": "code",
      "execution_count": null,
      "metadata": {
        "id": "nS3eTBvjt-O5"
      },
      "outputs": [],
      "source": [
        "import tensorflow as tf\n",
        "import tensorflow_io as tfio\n",
        "\n",
        "image = tf.image.decode_jpeg(tf.io.read_file('sample.jpg'))\n",
        "\n",
        "print(image.shape, image.dtype)"
      ]
    },
    {
      "cell_type": "markdown",
      "metadata": {
        "id": "IGnbXuVnSo8T"
      },
      "source": [
        "通过以下代码可以显示该图像："
      ]
    },
    {
      "cell_type": "code",
      "execution_count": null,
      "metadata": {
        "id": "0rLbVxuFSvVO"
      },
      "outputs": [],
      "source": [
        "import matplotlib.pyplot as plt\n",
        "\n",
        "plt.figure()\n",
        "plt.imshow(image)\n",
        "plt.axis('off')\n",
        "plt.show()"
      ]
    },
    {
      "cell_type": "markdown",
      "metadata": {
        "id": "86qE8BPl5rcA"
      },
      "source": [
        "### 将 RGB 转换为灰度图像\n",
        "\n",
        "您可以利用 `tfio.experimental.color.rgb_to_grayscale` 将 `RGB` 图像转换为 `Grayscale` 图像，以将颜色通道从 3 个减少为 1 个："
      ]
    },
    {
      "cell_type": "code",
      "execution_count": null,
      "metadata": {
        "id": "eEa0Z5U26Ep3"
      },
      "outputs": [],
      "source": [
        "grayscale = tfio.experimental.color.rgb_to_grayscale(image)\n",
        "\n",
        "print(grayscale.shape, grayscale.dtype)\n",
        "\n",
        "# use tf.squeeze to remove last channel for plt.imshow to display:\n",
        "plt.figure()\n",
        "plt.imshow(tf.squeeze(grayscale, axis=-1), cmap='gray')\n",
        "plt.axis('off')\n",
        "plt.show()"
      ]
    },
    {
      "cell_type": "markdown",
      "metadata": {
        "id": "ineBzDeu-lTh"
      },
      "source": [
        "### 将 RGB 转换为 BGR\n",
        "\n",
        "某些图像软件和相机制造商可能更喜欢使用 `BGR`，通过 `tfio.experimental.color.rgb_to_bgr` 即可获取这种格式："
      ]
    },
    {
      "cell_type": "code",
      "execution_count": null,
      "metadata": {
        "id": "LfZo0XaaAaeM"
      },
      "outputs": [],
      "source": [
        "bgr = tfio.experimental.color.rgb_to_bgr(image)\n",
        "\n",
        "print(bgr.shape, bgr.dtype)\n",
        "\n",
        "plt.figure()\n",
        "plt.imshow(bgr)\n",
        "plt.axis('off')\n",
        "plt.show()"
      ]
    },
    {
      "cell_type": "markdown",
      "metadata": {
        "id": "nXd776xNIr_I"
      },
      "source": [
        "### 将 RGB 转换为 CIE XYZ\n",
        "\n",
        "`CIE XYZ`（或称 `CIE 1931 XYZ`）是在很多图像处理程序中常用的一种颜色空间。下面是通过 `tfio.experimental.color.rgb_to_xyz` 从 RGB 转换为 `CIE XYZ` 的代码。请注意，`tfio.experimental.color.rgb_to_xyz` 假设输入为 `[0, 1]` 范围内的浮点输入，因此，您需要额外执行预处理。"
      ]
    },
    {
      "cell_type": "code",
      "execution_count": null,
      "metadata": {
        "id": "kLEdfkkoK27A"
      },
      "outputs": [],
      "source": [
        "# convert to float32\n",
        "image_float32 = tf.cast(image, tf.float32) / 255.0\n",
        "\n",
        "xyz_float32 = tfio.experimental.color.rgb_to_xyz(image_float32)\n",
        "\n",
        "# convert back uint8\n",
        "xyz = tf.cast(xyz_float32 * 255.0, tf.uint8)\n",
        "\n",
        "print(xyz.shape, xyz.dtype)\n",
        "\n",
        "plt.figure()\n",
        "plt.imshow(xyz)\n",
        "plt.axis('off')\n",
        "plt.show()"
      ]
    },
    {
      "cell_type": "markdown",
      "metadata": {
        "id": "7rhLvOSZB0k0"
      },
      "source": [
        "### 将 RGB 转换为 YCbCr\n",
        "\n",
        "最后，`YCbCr` 是在很多视频系统中使用的默认颜色空间。通过 `tfio.experimental.color.rgb_to_ycbcr` 即可转换为 `YCbCr`："
      ]
    },
    {
      "cell_type": "code",
      "execution_count": null,
      "metadata": {
        "id": "UyFMBK-LDDnN"
      },
      "outputs": [],
      "source": [
        "ycbcr = tfio.experimental.color.rgb_to_ycbcr(image)\n",
        "\n",
        "print(ycbcr.shape, ycbcr.dtype)\n",
        "\n",
        "plt.figure()\n",
        "plt.imshow(ycbcr, cmap='gray')\n",
        "plt.axis('off')\n",
        "plt.show()"
      ]
    },
    {
      "cell_type": "markdown",
      "metadata": {
        "id": "VuL8rrnhwab4"
      },
      "source": [
        "不过，更有趣的一点是可以将 `YCbCr` 分解为 `Y'`（亮度）、`Cb`（蓝色差分色度）和 `Cr`（红色差分色度）组件，其中每个组件都携带有视觉意义的信息："
      ]
    },
    {
      "cell_type": "code",
      "execution_count": null,
      "metadata": {
        "id": "wvur-gtyxjwG"
      },
      "outputs": [],
      "source": [
        "y, cb, cr = ycbcr[:,:,0], ycbcr[:,:,1], ycbcr[:,:,2]\n",
        "\n",
        "# Y' component\n",
        "plt.figure()\n",
        "plt.imshow(y, cmap='gray')\n",
        "plt.axis('off')\n",
        "plt.show()\n",
        "\n",
        "# Cb component\n",
        "plt.figure()\n",
        "plt.imshow(cb, cmap='gray')\n",
        "plt.axis('off')\n",
        "plt.show()\n",
        "\n",
        "# Cr component\n",
        "plt.figure()\n",
        "plt.imshow(cr, cmap='gray')\n",
        "plt.axis('off')\n",
        "plt.show()"
      ]
    }
  ],
  "metadata": {
    "colab": {
      "collapsed_sections": [
        "Tce3stUlHN0L"
      ],
      "name": "colorspace.ipynb",
      "toc_visible": true
    },
    "kernelspec": {
      "display_name": "Python 3",
      "name": "python3"
    }
  },
  "nbformat": 4,
  "nbformat_minor": 0
}
