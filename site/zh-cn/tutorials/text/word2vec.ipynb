{
  "cells": [
    {
      "cell_type": "markdown",
      "metadata": {
        "id": "hX4n9TsbGw-f"
      },
      "source": [
        "##### Copyright 2020 The TensorFlow Authors."
      ]
    },
    {
      "cell_type": "code",
      "execution_count": null,
      "metadata": {
        "cellView": "form",
        "id": "0nbI5DtDGw-i"
      },
      "outputs": [],
      "source": [
        "#@title Licensed under the Apache License, Version 2.0 (the \"License\");\n",
        "# you may not use this file except in compliance with the License.\n",
        "# You may obtain a copy of the License at\n",
        "#\n",
        "# https://www.apache.org/licenses/LICENSE-2.0\n",
        "#\n",
        "# Unless required by applicable law or agreed to in writing, software\n",
        "# distributed under the License is distributed on an \"AS IS\" BASIS,\n",
        "# WITHOUT WARRANTIES OR CONDITIONS OF ANY KIND, either express or implied.\n",
        "# See the License for the specific language governing permissions and\n",
        "# limitations under the License."
      ]
    },
    {
      "cell_type": "markdown",
      "metadata": {
        "id": "AOpGoE2T-YXS"
      },
      "source": [
        "<table class=\"tfo-notebook-buttons\" align=\"left\">\n",
        "  <td>     <a target=\"_blank\" href=\"https://tensorflow.google.cn/tutorials/text/word2vec\"><img src=\"https://tensorflow.google.cn/images/tf_logo_32px.png\">在 TensorFlow.org 上查看</a> </td>\n",
        "  <td>     <a target=\"_blank\" href=\"https://colab.research.google.com/github/tensorflow/docs-l10n/blob/master/site/zh-cn/tutorials/text/word2vec.ipynb\">     <img src=\"https://tensorflow.google.cn/images/colab_logo_32px.png\">     在 Google Colab 中运行</a> </td>\n",
        "  <td>     <a target=\"_blank\" href=\"https://github.com/tensorflow/docs-l10n/blob/master/site/zh-cn/tutorials/text/word2vec.ipynb\"><img src=\"https://tensorflow.google.cn/images/GitHub-Mark-32px.png\">在 Github 上查看源代码</a> </td>\n",
        "  <td><a href=\"https://storage.googleapis.com/tensorflow_docs/docs/site/en/tutorials/text/word2vec.ipynb\">{img1下载笔记本</a></td>\n",
        "</table>"
      ]
    },
    {
      "cell_type": "markdown",
      "metadata": {
        "id": "haJUNjSB60Kh"
      },
      "source": [
        "# word2vec"
      ]
    },
    {
      "cell_type": "markdown",
      "metadata": {
        "id": "99d4ky2lWFvn"
      },
      "source": [
        "word2vec 不是单一算法，而是一系列模型架构和优化，可用于从大型数据集中学习单词嵌入向量。通过 word2vec 学习到的嵌入向量已被证明在各种下游自然语言处理任务上取得了成功。\n",
        "\n",
        "注：本教程基于 [Efficient estimation of word representations in vector space](https://arxiv.org/pdf/1301.3781.pdf) 和 [Distributed representations of words and phrases and their compositionality](https://papers.nips.cc/paper/5021-distributed-representations-of-words-and-phrases-and-their-compositionality.pdf)。本教程不是上述论文的精确实现，而旨在阐明关键思想。\n",
        "\n",
        "上述论文提出了两种学习单词表示的方法：\n",
        "\n",
        "- **连续词袋模型**：根据周围的上下文单词预测中间单词。上下文由当前（中间）单词前后的几个单词组成。这种架构被称为词袋模型，因为上下文中的单词顺序并不重要。\n",
        "- **连续跳字模型**：预测同一句子中当前单词前后一定范围内的单词。下面给出了一个工作示例。\n",
        "\n",
        "您将在本教程中使用跳字方式。首先，您将使用一个句子来探索跳字和其他概念。接下来，您将在一个小型数据集上训练自己的 word2vec 模型。本教程还包含用于导出经过训练的嵌入向量并在 [TensorFlow Embedding Projector](http://projector.tensorflow.org/) 中可视化它们的代码。\n"
      ]
    },
    {
      "cell_type": "markdown",
      "metadata": {
        "id": "xP00WlaMWBZC"
      },
      "source": [
        "## 跳字和负采样 "
      ]
    },
    {
      "cell_type": "markdown",
      "metadata": {
        "id": "Zr2wjv0bW236"
      },
      "source": [
        "词袋模型能够在给定相邻上下文的情况下预测单词，而跳字模型能够在给定单词本身的情况下预测单词的上下文（或邻居）。该模型在跳字上训练，它是允许跳过词例的 n 元语法（请参阅下图的示例）。一个单词的上下文可以通过一组 `(target_word, context_word)` 的跳字对来表示，其中 `context_word` 出现在 `target_word` 的相邻上下文中。 "
      ]
    },
    {
      "cell_type": "markdown",
      "metadata": {
        "id": "ICjc-McbaVTd"
      },
      "source": [
        "考虑以下由八个单词组成的句子：\n",
        "\n",
        "> The wide road shimmered in the hot sun.\n",
        "\n",
        "这句话的 8 个单词中，每一个单词的上下文单词由一个窗口大小定义。窗口大小决定了 `target_word` 可以被视为 `context word` 的单词跨度。下面是基于不同窗口大小的目标词的跳字表。"
      ]
    },
    {
      "cell_type": "markdown",
      "metadata": {
        "id": "YKE87IKT_YT8"
      },
      "source": [
        "注：对于本教程，`n` 的窗口大小表示每边有 n 个单词，每个单词的总窗口跨度为 2*n+1 个单词。"
      ]
    },
    {
      "cell_type": "markdown",
      "metadata": {
        "id": "RsCwQ07E8mqU"
      },
      "source": [
        "![word2vec_skipgrams](https://tensorflow.org/tutorials/text/images/word2vec_skipgram.png)"
      ]
    },
    {
      "cell_type": "markdown",
      "metadata": {
        "id": "gK1gN1jwkMpU"
      },
      "source": [
        "跳字模型的训练目标是在给定目标词的情况下最大化预测上下文词的概率。对于单词序列 *w<sub>1</sub>，w<sub>2</sub>，... w<sub>T</sub>*，目标可写为平均对数概率"
      ]
    },
    {
      "cell_type": "markdown",
      "metadata": {
        "id": "pILO_iAc84e-"
      },
      "source": [
        "![word2vec_skipgram_objective](https://tensorflow.org/tutorials/text/images/word2vec_skipgram_objective.png)"
      ]
    },
    {
      "cell_type": "markdown",
      "metadata": {
        "id": "Gsy6TUbtnz_K"
      },
      "source": [
        "其中，`c` 是训练上下文的大小。基本的跳字公式使用 Softmax 函数定义该概率。"
      ]
    },
    {
      "cell_type": "markdown",
      "metadata": {
        "id": "P81Qavbb9APd"
      },
      "source": [
        "![word2vec_full_softmax](https://tensorflow.org/tutorials/text/images/word2vec_full_softmax.png)"
      ]
    },
    {
      "cell_type": "markdown",
      "metadata": {
        "id": "axZvd-hhotVB"
      },
      "source": [
        "其中，*v* 和 *v<sup>'</sup>*<sup></sup> 是单词的目标和上下文向量表示，*W* 是词汇量。 "
      ]
    },
    {
      "cell_type": "markdown",
      "metadata": {
        "id": "SoLzxbqSpT6_"
      },
      "source": [
        "计算这个公式的分母涉及对整个词汇表执行完整的 Softmax，其通常是很大的 (10<sup>5</sup>-10<sup>7</sup>) 项。"
      ]
    },
    {
      "cell_type": "markdown",
      "metadata": {
        "id": "Y5VWYtmFzHkU"
      },
      "source": [
        "[噪声对比估计](https://tensorflow.google.cn/api_docs/python/tf/nn/nce_loss) (NCE) 损失函数是完整 Softmax 的有效近似。为了学习单词嵌入向量而不是对单词分布进行建模，NCE 损失可以[简化](https://papers.nips.cc/paper/5021-distributed-representations-of-words-and-phrases-and-their-compositionality.pdf)为使用负采样。 "
      ]
    },
    {
      "cell_type": "markdown",
      "metadata": {
        "id": "WTZBPf1RsOsg"
      },
      "source": [
        "目标单词的简化负采样目标是将上下文单词与从单词的噪声分布 *P<sub>n</sub>(w)* 中抽取的 <code>num_ns</code> 负样本区分开来。更准确地说，对于一个跳字对，词汇表上的完整 Softmax 的有效近似是将目标单词的损失作为上下文单词和 `num_ns` 负样本之间的分类问题。 "
      ]
    },
    {
      "cell_type": "markdown",
      "metadata": {
        "id": "Cl0rSfHjt6Mf"
      },
      "source": [
        "负样本定义为 `(target_word, context_word)` 对，这样 `context_word` 就不会出现在 `target_word` 的 `window_size` 邻域中。对于例句，这些是一些潜在的负样本（当 `window_size` 为 `2` 时）。\n",
        "\n",
        "```\n",
        "(hot, shimmered)\n",
        "(wide, hot)\n",
        "(wide, sun)\n",
        "```"
      ]
    },
    {
      "cell_type": "markdown",
      "metadata": {
        "id": "kq0q2uqbucFg"
      },
      "source": [
        "在下一部分中，您将为单个句子生成跳字和负样本。您还将在本教程后面学习二次采样技术并为正负训练样本训练分类模型。"
      ]
    },
    {
      "cell_type": "markdown",
      "metadata": {
        "id": "mk4-Hpe1CH16"
      },
      "source": [
        "## 设置"
      ]
    },
    {
      "cell_type": "code",
      "execution_count": null,
      "metadata": {
        "id": "RutaI-Tpev3T"
      },
      "outputs": [],
      "source": [
        "import io\n",
        "import re\n",
        "import string\n",
        "import tqdm\n",
        "\n",
        "import numpy as np\n",
        "\n",
        "import tensorflow as tf\n",
        "from tensorflow.keras import layers"
      ]
    },
    {
      "cell_type": "code",
      "execution_count": null,
      "metadata": {
        "id": "10pyUMFkGKVQ"
      },
      "outputs": [],
      "source": [
        "# Load the TensorBoard notebook extension\n",
        "%load_ext tensorboard"
      ]
    },
    {
      "cell_type": "code",
      "execution_count": null,
      "metadata": {
        "id": "XkJ5299Tek6B"
      },
      "outputs": [],
      "source": [
        "SEED = 42\n",
        "AUTOTUNE = tf.data.AUTOTUNE"
      ]
    },
    {
      "cell_type": "markdown",
      "metadata": {
        "id": "RW-g5buCHwh3"
      },
      "source": [
        "### 向量化一个例句"
      ]
    },
    {
      "cell_type": "markdown",
      "metadata": {
        "id": "y8TfZIgoQrcP"
      },
      "source": [
        "请考虑以下句子：\n",
        "\n",
        "> The wide road shimmered in the hot sun.\n",
        "\n",
        "对句子进行分词："
      ]
    },
    {
      "cell_type": "code",
      "execution_count": null,
      "metadata": {
        "id": "bsl7jBzV6_KK"
      },
      "outputs": [],
      "source": [
        "sentence = \"The wide road shimmered in the hot sun\"\n",
        "tokens = list(sentence.lower().split())\n",
        "print(len(tokens))"
      ]
    },
    {
      "cell_type": "markdown",
      "metadata": {
        "id": "PU-bs1XtThEw"
      },
      "source": [
        "创建一个词汇表来保存从词例到整数索引的映射："
      ]
    },
    {
      "cell_type": "code",
      "execution_count": null,
      "metadata": {
        "id": "UdYv1HJUQ8XA"
      },
      "outputs": [],
      "source": [
        "vocab, index = {}, 1  # start indexing from 1\n",
        "vocab['<pad>'] = 0  # add a padding token\n",
        "for token in tokens:\n",
        "  if token not in vocab:\n",
        "    vocab[token] = index\n",
        "    index += 1\n",
        "vocab_size = len(vocab)\n",
        "print(vocab)"
      ]
    },
    {
      "cell_type": "markdown",
      "metadata": {
        "id": "ZpuP43Dddasr"
      },
      "source": [
        "创建一个反向词汇表来保存从整数索引到词例的映射："
      ]
    },
    {
      "cell_type": "code",
      "execution_count": null,
      "metadata": {
        "id": "o9ULAJYtEvKl"
      },
      "outputs": [],
      "source": [
        "inverse_vocab = {index: token for token, index in vocab.items()}\n",
        "print(inverse_vocab)"
      ]
    },
    {
      "cell_type": "markdown",
      "metadata": {
        "id": "n3qtuyxIRyii"
      },
      "source": [
        "向量化您的句子："
      ]
    },
    {
      "cell_type": "code",
      "execution_count": null,
      "metadata": {
        "id": "CsB3-9uQQYyl"
      },
      "outputs": [],
      "source": [
        "example_sequence = [vocab[word] for word in tokens]\n",
        "print(example_sequence)"
      ]
    },
    {
      "cell_type": "markdown",
      "metadata": {
        "id": "ox1I28JRIOdM"
      },
      "source": [
        "### 从一个句子生成跳字"
      ]
    },
    {
      "cell_type": "markdown",
      "metadata": {
        "id": "t7NNKAmSiHvy"
      },
      "source": [
        "`tf.keras.preprocessing.sequence` 模块提供了有用的函数来简化 word2vec 的数据准备。您可以使用 `tf.keras.preprocessing.sequence.skipgrams` 从 `[0, vocab_size)` 范围内的词例中使用给定的 `window_size` 从 `example_sequence` 生成跳字对。\n",
        "\n",
        "注：`negative_samples` 在这里设置为 `0`，因为批处理此函数生成的负样本需要一些代码。在下一部分中，您将使用另一个函数来执行负采样。"
      ]
    },
    {
      "cell_type": "code",
      "execution_count": null,
      "metadata": {
        "id": "USAJxW4RD7pn"
      },
      "outputs": [],
      "source": [
        "window_size = 2\n",
        "positive_skip_grams, _ = tf.keras.preprocessing.sequence.skipgrams(\n",
        "      example_sequence,\n",
        "      vocabulary_size=vocab_size,\n",
        "      window_size=window_size,\n",
        "      negative_samples=0)\n",
        "print(len(positive_skip_grams))"
      ]
    },
    {
      "cell_type": "markdown",
      "metadata": {
        "id": "uc9uhiMwY-AQ"
      },
      "source": [
        "打印几个正跳字："
      ]
    },
    {
      "cell_type": "code",
      "execution_count": null,
      "metadata": {
        "id": "SCnqEukIE9pt"
      },
      "outputs": [],
      "source": [
        "for target, context in positive_skip_grams[:5]:\n",
        "  print(f\"({target}, {context}): ({inverse_vocab[target]}, {inverse_vocab[context]})\")"
      ]
    },
    {
      "cell_type": "markdown",
      "metadata": {
        "id": "_ua9PkMTISF0"
      },
      "source": [
        "### 对某个跳字进行负采样 "
      ]
    },
    {
      "cell_type": "markdown",
      "metadata": {
        "id": "Esqn8WBfZnEK"
      },
      "source": [
        "`skipgrams` 函数通过在给定的窗口跨度上滑动来返回所有正的跳字对。要生成额外的跳字对作为训练的负样本，您需要从词汇表中随机抽取单词。使用 `tf.random.log_uniform_candidate_sampler` 函数在窗口中对给定目标单词采样 `num_ns` 个负样本。您可以在一个跳字的目标单词上调用该函数，并将上下文单词作为 true 类传递，以将其排除在采样之外。\n"
      ]
    },
    {
      "cell_type": "markdown",
      "metadata": {
        "id": "AgH3aSvw3xTD"
      },
      "source": [
        "要点：`[5, 20]` 范围内的 `num_ns`（每个正上下文单词的负样本数）被[证明](https://papers.nips.cc/paper/5021-distributed-representations-of-words-and-phrases-and-their-compositionality.pdf)最适合较小的数据集，而 `[2, 5]` 范围内的 `num_ns` 足以满足较大的数据集。"
      ]
    },
    {
      "cell_type": "code",
      "execution_count": null,
      "metadata": {
        "id": "m_LmdzqIGr5L"
      },
      "outputs": [],
      "source": [
        "# Get target and context words for one positive skip-gram.\n",
        "target_word, context_word = positive_skip_grams[0]\n",
        "\n",
        "# Set the number of negative samples per positive context.\n",
        "num_ns = 4\n",
        "\n",
        "context_class = tf.reshape(tf.constant(context_word, dtype=\"int64\"), (1, 1))\n",
        "negative_sampling_candidates, _, _ = tf.random.log_uniform_candidate_sampler(\n",
        "    true_classes=context_class,  # class that should be sampled as 'positive'\n",
        "    num_true=1,  # each positive skip-gram has 1 positive context class\n",
        "    num_sampled=num_ns,  # number of negative context words to sample\n",
        "    unique=True,  # all the negative samples should be unique\n",
        "    range_max=vocab_size,  # pick index of the samples from [0, vocab_size]\n",
        "    seed=SEED,  # seed for reproducibility\n",
        "    name=\"negative_sampling\"  # name of this operation\n",
        ")\n",
        "print(negative_sampling_candidates)\n",
        "print([inverse_vocab[index.numpy()] for index in negative_sampling_candidates])"
      ]
    },
    {
      "cell_type": "markdown",
      "metadata": {
        "id": "8MSxWCrLIalp"
      },
      "source": [
        "### 构造一个训练样本"
      ]
    },
    {
      "cell_type": "markdown",
      "metadata": {
        "id": "Q6uEWdj8vKKv"
      },
      "source": [
        "对于给定的正 `(target_word, context_word)` 跳字，您现在还有 `num_ns` 个未出现在 `target_word` 的窗口大小邻域中的负采样上下文单词。将 `1` 个正 `context_word` 和 `num_ns` 个负上下文单词批处理到一个张量中。这会为每个目标单词生成一组正跳字（标记为 `1`）和负样本（标记为`0`）。"
      ]
    },
    {
      "cell_type": "code",
      "execution_count": null,
      "metadata": {
        "id": "zSiZwifuLvHf"
      },
      "outputs": [],
      "source": [
        "# Add a dimension so you can use concatenation (in the next step).\n",
        "negative_sampling_candidates = tf.expand_dims(negative_sampling_candidates, 1)\n",
        "\n",
        "# Concatenate a positive context word with negative sampled words.\n",
        "context = tf.concat([context_class, negative_sampling_candidates], 0)\n",
        "\n",
        "# Label the first context word as `1` (positive) followed by `num_ns` `0`s (negative).\n",
        "label = tf.constant([1] + [0]*num_ns, dtype=\"int64\")\n",
        "\n",
        "# Reshape the target to shape `(1,)` and context and label to `(num_ns+1,)`.\n",
        "target = tf.squeeze(target_word)\n",
        "context = tf.squeeze(context)\n",
        "label = tf.squeeze(label)"
      ]
    },
    {
      "cell_type": "markdown",
      "metadata": {
        "id": "OIJeoFCAwtXJ"
      },
      "source": [
        "从上面的跳字样本中查看目标单词的上下文和相应的标签："
      ]
    },
    {
      "cell_type": "code",
      "execution_count": null,
      "metadata": {
        "id": "tzyCPCuZwmdL"
      },
      "outputs": [],
      "source": [
        "print(f\"target_index    : {target}\")\n",
        "print(f\"target_word     : {inverse_vocab[target_word]}\")\n",
        "print(f\"context_indices : {context}\")\n",
        "print(f\"context_words   : {[inverse_vocab[c.numpy()] for c in context]}\")\n",
        "print(f\"label           : {label}\")"
      ]
    },
    {
      "cell_type": "markdown",
      "metadata": {
        "id": "gBtTcUVQr8EO"
      },
      "source": [
        "`(target, context, label)` 张量的元组构成了一个训练样本，用于训练您的跳字负采样 word2vec 模型。请注意，目标的形状为 `(1,)`，而上下文和标签的形状为 `(1+num_ns,)`"
      ]
    },
    {
      "cell_type": "code",
      "execution_count": null,
      "metadata": {
        "id": "x-FwkR8jx9-Z"
      },
      "outputs": [],
      "source": [
        "print(\"target  :\", target)\n",
        "print(\"context :\", context)\n",
        "print(\"label   :\", label)"
      ]
    },
    {
      "cell_type": "markdown",
      "metadata": {
        "id": "4bRJIlow4Dlv"
      },
      "source": [
        "### 总结"
      ]
    },
    {
      "cell_type": "markdown",
      "metadata": {
        "id": "pWkuha0oykG5"
      },
      "source": [
        "此图总结了从句子生成训练样本的过程：\n"
      ]
    },
    {
      "cell_type": "markdown",
      "metadata": {
        "id": "_KlwdiAa9crJ"
      },
      "source": [
        "![word2vec_negative_sampling](https://tensorflow.org/tutorials/text/images/word2vec_negative_sampling.png)"
      ]
    },
    {
      "cell_type": "markdown",
      "metadata": {
        "id": "37e53f07f67c"
      },
      "source": [
        "请注意，`temperature` 和 `code` 这两个单词不是输入句子的一部分。它们与上图中使用的某些其他索引一样属于词汇表。"
      ]
    },
    {
      "cell_type": "markdown",
      "metadata": {
        "id": "9wmdO_MEIpaM"
      },
      "source": [
        "## 将所有步骤编译为一个函数\n"
      ]
    },
    {
      "cell_type": "markdown",
      "metadata": {
        "id": "iLKwNAczHsKg"
      },
      "source": [
        "### 跳字采样表 "
      ]
    },
    {
      "cell_type": "markdown",
      "metadata": {
        "id": "TUUK3uDtFNFE"
      },
      "source": [
        "大的数据集意味着更大的词汇表，其中包含更多更频繁出现的单词，例如停用词。从经常出现的单词（例如 `the`、`is`、`on`）中采样获得的训练样本不会为模型添加太多可供学习的有用信息。 [Mikolov 等人](https://papers.nips.cc/paper/5021-distributed-representations-of-words-and-phrases-and-their-compositionality.pdf)建议对常用词进行二次采样，以此作为提高嵌入向量质量的有用做法。 "
      ]
    },
    {
      "cell_type": "markdown",
      "metadata": {
        "id": "bPtbv7zNP7Dx"
      },
      "source": [
        "`tf.keras.preprocessing.sequence.skipgrams` 函数接受一个采样表参数来编码对任何词例进行采样的概率。您可以使用 `tf.keras.preprocessing.sequence.make_sampling_table` 生成基于词频等级的概率采样表并将其传递给 `skipgrams` 函数。检查 `vocab_size` 为 10 的采样概率。"
      ]
    },
    {
      "cell_type": "code",
      "execution_count": null,
      "metadata": {
        "id": "Rn9zAnDccyRg"
      },
      "outputs": [],
      "source": [
        "sampling_table = tf.keras.preprocessing.sequence.make_sampling_table(size=10)\n",
        "print(sampling_table)"
      ]
    },
    {
      "cell_type": "markdown",
      "metadata": {
        "id": "EHvSptcPk5fp"
      },
      "source": [
        "`sampling_table[i]` 表示对数据集中第  i  个最常见单词进行采样的概率。该函数假设采样的单词频率符合 [Zipf 分布](https://en.wikipedia.org/wiki/Zipf%27s_law)。"
      ]
    },
    {
      "cell_type": "markdown",
      "metadata": {
        "id": "mRHMssMmHgH-"
      },
      "source": [
        "要点：`tf.random.log_uniform_candidate_sampler` 已经假设词汇频率遵循对数均匀 (Zipf) 分布。使用这些分布加权采样还有助于使用更简单的损失函数来近似噪声对比估计 (NCE) 损失，以训练负采样目标。"
      ]
    },
    {
      "cell_type": "markdown",
      "metadata": {
        "id": "aj--8RFK6fgW"
      },
      "source": [
        "### 生成训练数据"
      ]
    },
    {
      "cell_type": "markdown",
      "metadata": {
        "id": "dy5hl4lQ0B2M"
      },
      "source": [
        "将上述所有步骤编译成一个函数，该函数可以在从任何文本数据集获得的向量化句子列表上调用。请注意，采样表在对跳字单词对进行采样之前构建。您将在后续部分中使用此函数。"
      ]
    },
    {
      "cell_type": "code",
      "execution_count": null,
      "metadata": {
        "id": "63INISDEX1Hu"
      },
      "outputs": [],
      "source": [
        "# Generates skip-gram pairs with negative sampling for a list of sequences\n",
        "# (int-encoded sentences) based on window size, number of negative samples\n",
        "# and vocabulary size.\n",
        "def generate_training_data(sequences, window_size, num_ns, vocab_size, seed):\n",
        "  # Elements of each training example are appended to these lists.\n",
        "  targets, contexts, labels = [], [], []\n",
        "\n",
        "  # Build the sampling table for `vocab_size` tokens.\n",
        "  sampling_table = tf.keras.preprocessing.sequence.make_sampling_table(vocab_size)\n",
        "\n",
        "  # Iterate over all sequences (sentences) in the dataset.\n",
        "  for sequence in tqdm.tqdm(sequences):\n",
        "\n",
        "    # Generate positive skip-gram pairs for a sequence (sentence).\n",
        "    positive_skip_grams, _ = tf.keras.preprocessing.sequence.skipgrams(\n",
        "          sequence,\n",
        "          vocabulary_size=vocab_size,\n",
        "          sampling_table=sampling_table,\n",
        "          window_size=window_size,\n",
        "          negative_samples=0)\n",
        "\n",
        "    # Iterate over each positive skip-gram pair to produce training examples\n",
        "    # with a positive context word and negative samples.\n",
        "    for target_word, context_word in positive_skip_grams:\n",
        "      context_class = tf.expand_dims(\n",
        "          tf.constant([context_word], dtype=\"int64\"), 1)\n",
        "      negative_sampling_candidates, _, _ = tf.random.log_uniform_candidate_sampler(\n",
        "          true_classes=context_class,\n",
        "          num_true=1,\n",
        "          num_sampled=num_ns,\n",
        "          unique=True,\n",
        "          range_max=vocab_size,\n",
        "          seed=seed,\n",
        "          name=\"negative_sampling\")\n",
        "\n",
        "      # Build context and label vectors (for one target word)\n",
        "      negative_sampling_candidates = tf.expand_dims(\n",
        "          negative_sampling_candidates, 1)\n",
        "\n",
        "      context = tf.concat([context_class, negative_sampling_candidates], 0)\n",
        "      label = tf.constant([1] + [0]*num_ns, dtype=\"int64\")\n",
        "\n",
        "      # Append each element from the training example to global lists.\n",
        "      targets.append(target_word)\n",
        "      contexts.append(context)\n",
        "      labels.append(label)\n",
        "\n",
        "  return targets, contexts, labels"
      ]
    },
    {
      "cell_type": "markdown",
      "metadata": {
        "id": "shvPC8Ji2cMK"
      },
      "source": [
        "## 为 word2vec 准备训练数据"
      ]
    },
    {
      "cell_type": "markdown",
      "metadata": {
        "id": "j5mbZsZu6uKg"
      },
      "source": [
        "了解如何使用一个基于跳字负采样的 word2vec 模型的句子后，您可以继续从更大的句子列表中生成训练样本！"
      ]
    },
    {
      "cell_type": "markdown",
      "metadata": {
        "id": "OFlikI6L26nh"
      },
      "source": [
        "### 下载文本语料库\n"
      ]
    },
    {
      "cell_type": "markdown",
      "metadata": {
        "id": "rEFavOgN98al"
      },
      "source": [
        "您将在本教程中使用莎士比亚作品的文本文件。要在您自己的数据上运行此代码，请更改以下行。"
      ]
    },
    {
      "cell_type": "code",
      "execution_count": null,
      "metadata": {
        "id": "QFkitxzVVaAi"
      },
      "outputs": [],
      "source": [
        "path_to_file = tf.keras.utils.get_file('shakespeare.txt', 'https://storage.googleapis.com/download.tensorflow.org/data/shakespeare.txt')"
      ]
    },
    {
      "cell_type": "markdown",
      "metadata": {
        "id": "sOsbLq8a37dr"
      },
      "source": [
        "从文件中读取文本并打印前几行： "
      ]
    },
    {
      "cell_type": "code",
      "execution_count": null,
      "metadata": {
        "id": "lfgnsUw3ofMD"
      },
      "outputs": [],
      "source": [
        "with open(path_to_file) as f:\n",
        "  lines = f.read().splitlines()\n",
        "for line in lines[:20]:\n",
        "  print(line)"
      ]
    },
    {
      "cell_type": "markdown",
      "metadata": {
        "id": "gTNZYqUs5C2V"
      },
      "source": [
        "使用非空行构造一个 `tf.data.TextLineDataset` 对象以进行后续步骤："
      ]
    },
    {
      "cell_type": "code",
      "execution_count": null,
      "metadata": {
        "id": "ViDrwy-HjAs9"
      },
      "outputs": [],
      "source": [
        "text_ds = tf.data.TextLineDataset(path_to_file).filter(lambda x: tf.cast(tf.strings.length(x), bool))"
      ]
    },
    {
      "cell_type": "markdown",
      "metadata": {
        "id": "vfsc88zE9upk"
      },
      "source": [
        "### 向量化语料库中的句子"
      ]
    },
    {
      "cell_type": "markdown",
      "metadata": {
        "id": "XfgZo8zR94KK"
      },
      "source": [
        "您可以使用 `TextVectorization` 层对语料库中的句子进行向量化。在此[文本分类](https://tensorflow.google.cn/tutorials/keras/text_classification)教程中了解有关使用该层的更多信息。请注意，从上面的前几个句子可以看出，文本需要大小写一致，并且需要去除标点符号。为此，请定义一个可在 TextVectorization 层中使用的 `custom_standardization` 函数。"
      ]
    },
    {
      "cell_type": "code",
      "execution_count": null,
      "metadata": {
        "id": "2MlsXzo-ZlfK"
      },
      "outputs": [],
      "source": [
        "# Now, create a custom standardization function to lowercase the text and\n",
        "# remove punctuation.\n",
        "def custom_standardization(input_data):\n",
        "  lowercase = tf.strings.lower(input_data)\n",
        "  return tf.strings.regex_replace(lowercase,\n",
        "                                  '[%s]' % re.escape(string.punctuation), '')\n",
        "\n",
        "\n",
        "# Define the vocabulary size and the number of words in a sequence.\n",
        "vocab_size = 4096\n",
        "sequence_length = 10\n",
        "\n",
        "# Use the `TextVectorization` layer to normalize, split, and map strings to\n",
        "# integers. Set the `output_sequence_length` length to pad all samples to the\n",
        "# same length.\n",
        "vectorize_layer = layers.TextVectorization(\n",
        "    standardize=custom_standardization,\n",
        "    max_tokens=vocab_size,\n",
        "    output_mode='int',\n",
        "    output_sequence_length=sequence_length)"
      ]
    },
    {
      "cell_type": "markdown",
      "metadata": {
        "id": "g92LuvnyBmz1"
      },
      "source": [
        "在文本数据集上调用 `TextVectorization.adapt` 以创建词汇表。\n"
      ]
    },
    {
      "cell_type": "code",
      "execution_count": null,
      "metadata": {
        "id": "seZau_iYMPFT"
      },
      "outputs": [],
      "source": [
        "vectorize_layer.adapt(text_ds.batch(1024))"
      ]
    },
    {
      "cell_type": "markdown",
      "metadata": {
        "id": "jg2z7eeHMnH-"
      },
      "source": [
        "当层的状态适合表示文本语料库后，就可以使用 `TextVectorization.get_vocabulary` 访问词汇表。此函数返回按频率排序（降序）的所有词汇词例的列表。"
      ]
    },
    {
      "cell_type": "code",
      "execution_count": null,
      "metadata": {
        "id": "jgw9pTA7MRaU"
      },
      "outputs": [],
      "source": [
        "# Save the created vocabulary for reference.\n",
        "inverse_vocab = vectorize_layer.get_vocabulary()\n",
        "print(inverse_vocab[:20])"
      ]
    },
    {
      "cell_type": "markdown",
      "metadata": {
        "id": "DOQ30Tx6KA2G"
      },
      "source": [
        "现在可以使用 `vectorize_layer` 为 `text_ds` (`tf.data.Dataset`) 中的每个元素生成向量。应用 `Dataset.batch`、`Dataset.prefetch`、`Dataset.map` 和 `Dataset.unbatch`。"
      ]
    },
    {
      "cell_type": "code",
      "execution_count": null,
      "metadata": {
        "id": "yUVYrDp0araQ"
      },
      "outputs": [],
      "source": [
        "# Vectorize the data in text_ds.\n",
        "text_vector_ds = text_ds.batch(1024).prefetch(AUTOTUNE).map(vectorize_layer).unbatch()"
      ]
    },
    {
      "cell_type": "markdown",
      "metadata": {
        "id": "7YyH_SYzB72p"
      },
      "source": [
        "### 从数据集中获取序列"
      ]
    },
    {
      "cell_type": "markdown",
      "metadata": {
        "id": "NFUQLX0_KaRC"
      },
      "source": [
        "现在，您拥有了一个包含整数编码句子的 `tf.data.Dataset`。要准备用于训练 word2vec 模型的数据集，请将数据集展平为句子向量序列列表。此步骤是必需的，因为您将遍历数据集中的每个句子以生成正负样本。\n",
        "\n",
        "注：由于之前定义的 `generate_training_data()` 使用非 TensorFlow Python/NumPy 函数，因此您也可以使用带有 `tf.data.Dataset.map` 的 `tf.py_function` 或 `tf.numpy_function`。"
      ]
    },
    {
      "cell_type": "code",
      "execution_count": null,
      "metadata": {
        "id": "sGXoOh9y11pM"
      },
      "outputs": [],
      "source": [
        "sequences = list(text_vector_ds.as_numpy_iterator())\n",
        "print(len(sequences))"
      ]
    },
    {
      "cell_type": "markdown",
      "metadata": {
        "id": "tDc4riukLTqg"
      },
      "source": [
        "检查来自 `sequences` 的一些样本："
      ]
    },
    {
      "cell_type": "code",
      "execution_count": null,
      "metadata": {
        "id": "WZf1RIbB2Dfb"
      },
      "outputs": [],
      "source": [
        "for seq in sequences[:5]:\n",
        "  print(f\"{seq} => {[inverse_vocab[i] for i in seq]}\")"
      ]
    },
    {
      "cell_type": "markdown",
      "metadata": {
        "id": "yDzSOjNwCWNh"
      },
      "source": [
        "### 从序列生成训练样本"
      ]
    },
    {
      "cell_type": "markdown",
      "metadata": {
        "id": "BehvYr-nEKyY"
      },
      "source": [
        "`sequences` 现在是整型编码句子的列表。只需调用前面定义的 `generate_training_data` 函数即可为 word2vec 模型生成训练样本。总结一下，该函数会迭代每个序列中的每个单词以收集正负上下文单词。目标、上下文和标签的长度应该相同，代表训练样本的总数。"
      ]
    },
    {
      "cell_type": "code",
      "execution_count": null,
      "metadata": {
        "id": "44DJ22M6nX5o"
      },
      "outputs": [],
      "source": [
        "targets, contexts, labels = generate_training_data(\n",
        "    sequences=sequences,\n",
        "    window_size=2,\n",
        "    num_ns=4,\n",
        "    vocab_size=vocab_size,\n",
        "    seed=SEED)\n",
        "\n",
        "targets = np.array(targets)\n",
        "contexts = np.array(contexts)[:,:,0]\n",
        "labels = np.array(labels)\n",
        "\n",
        "print('\\n')\n",
        "print(f\"targets.shape: {targets.shape}\")\n",
        "print(f\"contexts.shape: {contexts.shape}\")\n",
        "print(f\"labels.shape: {labels.shape}\")\n"
      ]
    },
    {
      "cell_type": "markdown",
      "metadata": {
        "id": "97PqsusOFEpc"
      },
      "source": [
        "### 配置数据集以提高性能"
      ]
    },
    {
      "cell_type": "markdown",
      "metadata": {
        "id": "7jnFVySViQTj"
      },
      "source": [
        "要对可能大量的训练样本执行有效的批处理，请使用 `tf.data.Dataset` API。在这一步之后，您将拥有一个 `(target_word, context_word), (label)` 元素的 `tf.data.Dataset` 对象来训练您的 word2vec 模型！"
      ]
    },
    {
      "cell_type": "code",
      "execution_count": null,
      "metadata": {
        "id": "nbu8PxPSnVY2"
      },
      "outputs": [],
      "source": [
        "BATCH_SIZE = 1024\n",
        "BUFFER_SIZE = 10000\n",
        "dataset = tf.data.Dataset.from_tensor_slices(((targets, contexts), labels))\n",
        "dataset = dataset.shuffle(BUFFER_SIZE).batch(BATCH_SIZE, drop_remainder=True)\n",
        "print(dataset)"
      ]
    },
    {
      "cell_type": "markdown",
      "metadata": {
        "id": "tyrNX6Fs6K3F"
      },
      "source": [
        "应用 `Dataset.cache` 和 `Dataset.prefetch` 来提高性能："
      ]
    },
    {
      "cell_type": "code",
      "execution_count": null,
      "metadata": {
        "id": "Y5Ueg6bcFPVL"
      },
      "outputs": [],
      "source": [
        "dataset = dataset.cache().prefetch(buffer_size=AUTOTUNE)\n",
        "print(dataset)"
      ]
    },
    {
      "cell_type": "markdown",
      "metadata": {
        "id": "1S-CmUMszyEf"
      },
      "source": [
        "## 模型和训练"
      ]
    },
    {
      "cell_type": "markdown",
      "metadata": {
        "id": "sQFqaBMPwBqC"
      },
      "source": [
        "word2vec 模型可以实现为分类器，以区分来自跳字的 true 上下文单词和通过负采样获得的 false 上下文词。您可以在目标单词和上下文单词的嵌入向量之间执行点积乘法，以获得标签的预测，并根据数据集中的 true 标签计算损失函数。"
      ]
    },
    {
      "cell_type": "markdown",
      "metadata": {
        "id": "oc7kTbiwD9sy"
      },
      "source": [
        "### 子类化的 word2vec 模型"
      ]
    },
    {
      "cell_type": "markdown",
      "metadata": {
        "id": "Jvr9pM1G1sQN"
      },
      "source": [
        "使用 [Keras Subclassing API](https://tensorflow.google.cn/guide/keras/custom_layers_and_models) 定义具有以下层的 word2vec 模型：\n",
        "\n",
        "- `target_embedding`：`tf.keras.layers.Embedding` 层，当单词作为目标单词出现时，它会查找单词的嵌入向量。该层的参数数量为 `(vocab_size * embedding_dim)`。\n",
        "- `context_embedding`：另一个`tf.keras.layers.Embedding`层，当单词作为上下文单词出现时，它会查找单词的嵌入向量。该层的参数数量与 `target_embedding` 相同，即 `(vocab_size * embedding_dim)`。\n",
        "- `dots`：`tf.keras.layers.Dot` 层，用于计算训练对中目标和上下文嵌入向量的点积。\n",
        "- `flatten`：`tf.keras.layers.Flatten` 层，用于将 `dots` 层的结果展平为 logits。\n",
        "\n",
        "使用子类化模型，您可以定义接受  `(target, context)` 对的 `call()` 函数，然后可以将其传递到相应的嵌入向量层。改造 `context_embedding` 以执行与 `target_embedding` 的点积并返回展平结果。"
      ]
    },
    {
      "cell_type": "markdown",
      "metadata": {
        "id": "KiAwuIqqw7-7"
      },
      "source": [
        "要点：`target_embedding` 和 `context_embedding` 层也可以共享。您还可以使用两个嵌入向量的串联作为最终的 word2vec 嵌入向量。"
      ]
    },
    {
      "cell_type": "code",
      "execution_count": null,
      "metadata": {
        "id": "i9ec-sS6xd8Z"
      },
      "outputs": [],
      "source": [
        "class Word2Vec(tf.keras.Model):\n",
        "  def __init__(self, vocab_size, embedding_dim):\n",
        "    super(Word2Vec, self).__init__()\n",
        "    self.target_embedding = layers.Embedding(vocab_size,\n",
        "                                      embedding_dim,\n",
        "                                      input_length=1,\n",
        "                                      name=\"w2v_embedding\")\n",
        "    self.context_embedding = layers.Embedding(vocab_size,\n",
        "                                       embedding_dim,\n",
        "                                       input_length=num_ns+1)\n",
        "\n",
        "  def call(self, pair):\n",
        "    target, context = pair\n",
        "    # target: (batch, dummy?)  # The dummy axis doesn't exist in TF2.7+\n",
        "    # context: (batch, context)\n",
        "    if len(target.shape) == 2:\n",
        "      target = tf.squeeze(target, axis=1)\n",
        "    # target: (batch,)\n",
        "    word_emb = self.target_embedding(target)\n",
        "    # word_emb: (batch, embed)\n",
        "    context_emb = self.context_embedding(context)\n",
        "    # context_emb: (batch, context, embed)\n",
        "    dots = tf.einsum('be,bce->bc', word_emb, context_emb)\n",
        "    # dots: (batch, context)\n",
        "    return dots"
      ]
    },
    {
      "cell_type": "markdown",
      "metadata": {
        "id": "-RLKz9LFECXu"
      },
      "source": [
        "### 定义损失函数并编译模型\n"
      ]
    },
    {
      "cell_type": "markdown",
      "metadata": {
        "id": "I3Md-9QanqBM"
      },
      "source": [
        "为简单起见，您可以使用 `tf.keras.losses.CategoricalCrossEntropy` 作为负采样损失的替代方案。如果您想编写自己的自定义损失函数，也可以这样做：\n",
        "\n",
        "```python\n",
        "def custom_loss(x_logit, y_true):\n",
        "      return tf.nn.sigmoid_cross_entropy_with_logits(logits=x_logit, labels=y_true)\n",
        "```\n",
        "\n",
        "是时候构建您的模型了！使用嵌入向量维度 128（您可以尝试不同的值）实例化您的 word2vec 类。使用 `tf.keras.optimizers.Adam` 优化器编译模型。 "
      ]
    },
    {
      "cell_type": "code",
      "execution_count": null,
      "metadata": {
        "id": "ekQg_KbWnnmQ"
      },
      "outputs": [],
      "source": [
        "embedding_dim = 128\n",
        "word2vec = Word2Vec(vocab_size, embedding_dim)\n",
        "word2vec.compile(optimizer='adam',\n",
        "                 loss=tf.keras.losses.CategoricalCrossentropy(from_logits=True),\n",
        "                 metrics=['accuracy'])"
      ]
    },
    {
      "cell_type": "markdown",
      "metadata": {
        "id": "P3MUMrluqNX2"
      },
      "source": [
        "另外，定义一个回调来记录 TensorBoard 的训练统计信息："
      ]
    },
    {
      "cell_type": "code",
      "execution_count": null,
      "metadata": {
        "id": "9d-ftBCeEZIR"
      },
      "outputs": [],
      "source": [
        "tensorboard_callback = tf.keras.callbacks.TensorBoard(log_dir=\"logs\")"
      ]
    },
    {
      "cell_type": "markdown",
      "metadata": {
        "id": "h5wEBotlGZ7B"
      },
      "source": [
        "在 `dataset` 上对模型进行几个周期的训练："
      ]
    },
    {
      "cell_type": "code",
      "execution_count": null,
      "metadata": {
        "id": "gmC1BJalEZIY"
      },
      "outputs": [],
      "source": [
        "word2vec.fit(dataset, epochs=20, callbacks=[tensorboard_callback])"
      ]
    },
    {
      "cell_type": "markdown",
      "metadata": {
        "id": "wze38jG57XvZ"
      },
      "source": [
        "TensorBoard 现在会显示 word2vec 模型的准确率和损失："
      ]
    },
    {
      "cell_type": "code",
      "execution_count": null,
      "metadata": {
        "id": "22E9eqS55rgz"
      },
      "outputs": [],
      "source": [
        "#docs_infra: no_execute\n",
        "%tensorboard --logdir logs"
      ]
    },
    {
      "cell_type": "markdown",
      "metadata": {
        "id": "awF3iRQCZOLj"
      },
      "source": [
        "<!-- <img class=\"tfo-display-only-on-site\" src=\"images/word2vec_tensorboard.png\"/> -->"
      ]
    },
    {
      "cell_type": "markdown",
      "metadata": {
        "id": "TaDW2tIIz8fL"
      },
      "source": [
        "## 嵌入向量查找和分析"
      ]
    },
    {
      "cell_type": "markdown",
      "metadata": {
        "id": "Zp5rv01WG2YA"
      },
      "source": [
        "使用 `Model.get_layer` 和 `Layer.get_weights` 从模型中获取权重。`TextVectorization.get_vocabulary` 函数提供词汇来构建元数据文件，每行一个词例。"
      ]
    },
    {
      "cell_type": "code",
      "execution_count": null,
      "metadata": {
        "id": "_Uamp1YH8RzU"
      },
      "outputs": [],
      "source": [
        "weights = word2vec.get_layer('w2v_embedding').get_weights()[0]\n",
        "vocab = vectorize_layer.get_vocabulary()"
      ]
    },
    {
      "cell_type": "markdown",
      "metadata": {
        "id": "gWzdmUzS8Sl4"
      },
      "source": [
        "创建并保存向量和元数据文件："
      ]
    },
    {
      "cell_type": "code",
      "execution_count": null,
      "metadata": {
        "id": "VLIahl9s53XT"
      },
      "outputs": [],
      "source": [
        "out_v = io.open('vectors.tsv', 'w', encoding='utf-8')\n",
        "out_m = io.open('metadata.tsv', 'w', encoding='utf-8')\n",
        "\n",
        "for index, word in enumerate(vocab):\n",
        "  if index == 0:\n",
        "    continue  # skip 0, it's padding.\n",
        "  vec = weights[index]\n",
        "  out_v.write('\\t'.join([str(x) for x in vec]) + \"\\n\")\n",
        "  out_m.write(word + \"\\n\")\n",
        "out_v.close()\n",
        "out_m.close()"
      ]
    },
    {
      "cell_type": "markdown",
      "metadata": {
        "id": "1T8KcThhIU8-"
      },
      "source": [
        "下载 `vectors.tsv` 和 `metadata.tsv`，在 [Embedding Projector](https://projector.tensorflow.org/) 中分析得到的嵌入向量："
      ]
    },
    {
      "cell_type": "code",
      "execution_count": null,
      "metadata": {
        "id": "lUsjQOKMIV2z"
      },
      "outputs": [],
      "source": [
        "try:\n",
        "  from google.colab import files\n",
        "  files.download('vectors.tsv')\n",
        "  files.download('metadata.tsv')\n",
        "except Exception:\n",
        "  pass"
      ]
    },
    {
      "cell_type": "markdown",
      "metadata": {
        "id": "iS_uMeMw3Xpj"
      },
      "source": [
        "## 后续步骤\n"
      ]
    },
    {
      "cell_type": "markdown",
      "metadata": {
        "id": "BSgAZpwF5xF_"
      },
      "source": [
        "本教程向您展示了如何从头开始实现带有负采样的跳字 word2vec 模型并可视化获得的单词嵌入向量。\n",
        "\n",
        "- 要了解有关单词向量及其数学表示的更多信息，请参阅这些[注释](https://web.stanford.edu/class/cs224n/readings/cs224n-2019-notes01-wordvecs1.pdf)。\n",
        "\n",
        "- 要了解有关高级文本处理的更多信息，请阅读[理解语言的 Transformer 模型](https://tensorflow.google.cn/tutorials/text/transformer)教程。\n",
        "\n",
        "- 如果您对预训练的嵌入向量模型感兴趣，您可能还会对[探索 TF-Hub CORD-19 Swivel 嵌入向量](https://tensorflow.google.cn/hub/tutorials/cord_19_embeddings_keras)或[多语言通用句子编码器](https://tensorflow.google.cn/hub/tutorials/cross_lingual_similarity_with_tf_hub_multilingual_universal_encoder)感兴趣。\n",
        "\n",
        "- 您可能还想在新数据集上训练模型（[TensorFlow Datasets](https://tensorflow.google.cn/datasets) 中有很多可用的数据集）。\n"
      ]
    }
  ],
  "metadata": {
    "colab": {
      "collapsed_sections": [],
      "name": "word2vec.ipynb",
      "toc_visible": true
    },
    "kernelspec": {
      "display_name": "Python 3",
      "name": "python3"
    }
  },
  "nbformat": 4,
  "nbformat_minor": 0
}
