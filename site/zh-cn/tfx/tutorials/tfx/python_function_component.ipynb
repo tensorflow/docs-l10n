{
  "cells": [
    {
      "cell_type": "markdown",
      "metadata": {
        "id": "wdeKOEkv1Fe8"
      },
      "source": [
        "##### Copyright 2021 The TensorFlow Authors."
      ]
    },
    {
      "cell_type": "code",
      "execution_count": null,
      "metadata": {
        "cellView": "form",
        "id": "SpNWyqewk8fE"
      },
      "outputs": [],
      "source": [
        "#@title Licensed under the Apache License, Version 2.0 (the \"License\");\n",
        "# you may not use this file except in compliance with the License.\n",
        "# You may obtain a copy of the License at\n",
        "#\n",
        "# https://www.apache.org/licenses/LICENSE-2.0\n",
        "#\n",
        "# Unless required by applicable law or agreed to in writing, software\n",
        "# distributed under the License is distributed on an \"AS IS\" BASIS,\n",
        "# WITHOUT WARRANTIES OR CONDITIONS OF ANY KIND, either express or implied.\n",
        "# See the License for the specific language governing permissions and\n",
        "# limitations under the License."
      ]
    },
    {
      "cell_type": "markdown",
      "metadata": {
        "id": "hPxSVqcvqPHO"
      },
      "source": [
        "# TFX Python 函数组件教程\n"
      ]
    },
    {
      "cell_type": "markdown",
      "metadata": {
        "id": "WdRDkO2wQHUw"
      },
      "source": [
        "注：我们建议在 Colab 笔记本中运行本教程，无需进行设置！只需点击“在 Google Colab 中运行”\n",
        "\n",
        "<div class=\"devsite-table-wrapper\"><table class=\"tfo-notebook-buttons\" align=\"left\">\n",
        "<td><a target=\"_blank\" href=\"https://tensorflow.google.cn/tfx/tutorials/tfx/python_function_component\"><img src=\"https://tensorflow.google.cn/images/tf_logo_32px.png\">在 TensorFlow.org上查看</a></td>\n",
        "<td><a target=\"_blank\" href=\"https://colab.research.google.com/github/tensorflow/docs-l10n/blob/master/site/zh-cn/tfx/tutorials/tfx/python_function_component.ipynb\"><img src=\"https://tensorflow.google.cn/images/colab_logo_32px.png\">在 Google Colab 中运行</a></td>\n",
        "<td><a target=\"_blank\" href=\"https://github.com/tensorflow/docs-l10n/blob/master/site/zh-cn/tfx/tutorials/tfx/python_function_component.ipynb\"><img width=\"32px\" src=\"https://tensorflow.google.cn/images/GitHub-Mark-32px.png\">在 Github 上查看源代码</a></td>\n",
        "<td><a target=\"_blank\" href=\"https://storage.googleapis.com/tensorflow_docs/docs-l10n/site/zh-cn/tfx/tutorials/tfx/python_function_component.ipynb\"><img width=\"32px\" src=\"https://tensorflow.google.cn/images/download_logo_32px.png\"> 下载笔记本</a></td>\n",
        "</table></div>"
      ]
    },
    {
      "cell_type": "markdown",
      "metadata": {
        "id": "GkwEwr0FQKJW"
      },
      "source": [
        "此笔记本包含有关如何在 TFX InteractiveContext 和本地编排的 TFX 流水线中创建和运行 Python 函数组件的示例。\n",
        "\n",
        "有关更多上下文和信息，请参阅 TFX 文档站点上的[自定义 Python 函数组件](https://tensorflow.google.cn/tfx/guide/custom_function_component)页面。"
      ]
    },
    {
      "cell_type": "markdown",
      "metadata": {
        "id": "d-Av6cm0oBFV"
      },
      "source": [
        "## 设置\n",
        "\n",
        "我们将首先安装 TFX 并导入必要的模块。TFX 需要 Python 3。"
      ]
    },
    {
      "cell_type": "markdown",
      "metadata": {
        "id": "fwZ0aXisoBFW"
      },
      "source": [
        "### 检查系统 Python 版本\n"
      ]
    },
    {
      "cell_type": "code",
      "execution_count": null,
      "metadata": {
        "id": "PQ-QwavmqPHP"
      },
      "outputs": [],
      "source": [
        "import sys\n",
        "sys.version"
      ]
    },
    {
      "cell_type": "markdown",
      "metadata": {
        "id": "88XXV3_DQ_Nx"
      },
      "source": [
        "### 升级 Pip\n",
        "\n",
        "为了避免在本地运行时升级系统中的 Pip，请检查以确保在 Colab 中运行。当然，可以对本地系统单独升级。"
      ]
    },
    {
      "cell_type": "code",
      "execution_count": null,
      "metadata": {
        "id": "UHvIH-wORCuV"
      },
      "outputs": [],
      "source": [
        "try:\n",
        "  import colab\n",
        "  !pip install --upgrade pip\n",
        "except:\n",
        "  pass"
      ]
    },
    {
      "cell_type": "markdown",
      "metadata": {
        "id": "FDFSXMLLRGJC"
      },
      "source": [
        "### 安装 TFX\n",
        "\n",
        "**注：在 Google Colab 中，由于软件包更新，第一次运行此代码单元时必须重新启动运行时 (Runtime &gt; Restart runtime ...)。**"
      ]
    },
    {
      "cell_type": "code",
      "execution_count": null,
      "metadata": {
        "id": "wGpQOmYIVlSV"
      },
      "outputs": [],
      "source": [
        "!pip install tfx"
      ]
    },
    {
      "cell_type": "markdown",
      "metadata": {
        "id": "RxQ89gnRijuc"
      },
      "source": [
        "### 卸载 Shapely\n",
        "\n",
        "TODO(b/263441833) 这是避免 ImportError 的临时解决方案。最终，应该通过支持最新版本的 Bigquery 来处理，而不是卸载其他额外的依赖项。"
      ]
    },
    {
      "cell_type": "code",
      "execution_count": null,
      "metadata": {
        "id": "akSWlt-Bij9w"
      },
      "outputs": [],
      "source": [
        "!pip uninstall shapely -y"
      ]
    },
    {
      "cell_type": "markdown",
      "metadata": {
        "id": "hvXNj9a4VlSV"
      },
      "source": [
        "## 是否已重新启动运行时？\n",
        "\n",
        "如果您使用的是 Google Colab，首次运行上面的代码单元时，必须重新启动运行时 (Runtime &gt; Restart runtime ...)。这样做的原因是 Colab 加载软件包的方式。"
      ]
    },
    {
      "cell_type": "markdown",
      "metadata": {
        "id": "0v45llP5ReKx"
      },
      "source": [
        "### 导入软件包\n",
        "\n",
        "我们导入 TFX 并检查其版本。"
      ]
    },
    {
      "cell_type": "code",
      "execution_count": null,
      "metadata": {
        "id": "bRY0RFJ0VlSV"
      },
      "outputs": [],
      "source": [
        "# Check version\n",
        "from tfx import v1 as tfx\n",
        "tfx.__version__"
      ]
    },
    {
      "cell_type": "markdown",
      "metadata": {
        "id": "hvb0SspyqPH4"
      },
      "source": [
        "## 自定义 Python 函数组件\n",
        "\n",
        "在本部分中，我们将从 Python 函数创建组件。我们不会处理任何真正的 ML 问题 - 这些简单的函数只是用来说明 Python 函数组件的开发过程。\n",
        "\n",
        "有关更多文档，请参阅[基于 Python 函数的组件指南](https://tensorflow.google.cn/tfx/guide/custom_function_component)。"
      ]
    },
    {
      "cell_type": "markdown",
      "metadata": {
        "id": "mhYjn9Fj6mdo"
      },
      "source": [
        "### 创建 Python 自定义组件\n",
        "\n",
        "我们首先编写一个生成一些虚拟数据的函数。这将写入其自己的 Python 模块文件。"
      ]
    },
    {
      "cell_type": "code",
      "execution_count": null,
      "metadata": {
        "id": "cHNtKTuiqPH4"
      },
      "outputs": [],
      "source": [
        "%%writefile my_generator.py\n",
        "\n",
        "import os\n",
        "import tensorflow as tf  # Used for writing files.\n",
        "\n",
        "from tfx import v1 as tfx\n",
        "\n",
        "# Non-public APIs, just for showcase.\n",
        "from tfx.types.experimental.simple_artifacts import Dataset\n",
        "\n",
        "@tfx.dsl.components.component\n",
        "def MyGenerator(data: tfx.dsl.components.OutputArtifact[Dataset]):\n",
        "  \"\"\"Create a file with dummy data in the output artifact.\"\"\"\n",
        "  with tf.io.gfile.GFile(os.path.join(data.uri, 'data_file.txt'), 'w') as f:\n",
        "    f.write('Dummy data')\n",
        "\n",
        "  # Set metadata and ensure that it gets passed to downstream components.\n",
        "  data.set_string_custom_property('my_custom_field', 'my_custom_value')"
      ]
    },
    {
      "cell_type": "markdown",
      "metadata": {
        "id": "MtapXcbSqPH6"
      },
      "source": [
        "接下来，我们编写第二个组件，该组件使用生成的虚拟数据。我们将只计算数据的哈希值并将其返回。"
      ]
    },
    {
      "cell_type": "code",
      "execution_count": null,
      "metadata": {
        "id": "27ZEf2xQqPH7"
      },
      "outputs": [],
      "source": [
        "%%writefile my_consumer.py\n",
        "\n",
        "import hashlib\n",
        "import os\n",
        "import tensorflow as tf\n",
        "\n",
        "from tfx import v1 as tfx\n",
        "\n",
        "# Non-public APIs, just for showcase.\n",
        "from tfx.types.experimental.simple_artifacts import Dataset\n",
        "from tfx.types.standard_artifacts import String\n",
        "\n",
        "@tfx.dsl.components.component\n",
        "def MyConsumer(data: tfx.dsl.components.InputArtifact[Dataset],\n",
        "               hash: tfx.dsl.components.OutputArtifact[String],\n",
        "               algorithm: tfx.dsl.components.Parameter[str] = 'sha256'):\n",
        "  \"\"\"Reads the contents of data and calculate.\"\"\"\n",
        "  with tf.io.gfile.GFile(\n",
        "      os.path.join(data.uri, 'data_file.txt'), 'r') as f:\n",
        "    contents = f.read()\n",
        "  h = hashlib.new(algorithm)\n",
        "  h.update(tf.compat.as_bytes(contents))\n",
        "  hash.value = h.hexdigest()\n",
        "\n",
        "  # Read a custom property from the input artifact and set to the output.\n",
        "  custom_value = data.get_string_custom_property('my_custom_field')\n",
        "  hash.set_string_custom_property('input_custom_field', custom_value)"
      ]
    },
    {
      "cell_type": "markdown",
      "metadata": {
        "id": "lIrGHQzFqPII"
      },
      "source": [
        "### 使用 InteractiveContext 在笔记本中运行\n",
        "\n",
        "现在，我们将演示如何在 TFX InteractiveContext 中使用我们的新组件。\n",
        "\n",
        "有关使用 TFX 笔记本 InteractiveContext 能够做什么的更多信息，请参阅笔记本内的 [TFX Keras 组件教程](https://tensorflow.google.cn/tfx/tutorials/tfx/components_keras)。"
      ]
    },
    {
      "cell_type": "code",
      "execution_count": null,
      "metadata": {
        "id": "j43snQpRqPII"
      },
      "outputs": [],
      "source": [
        "from my_generator import MyGenerator\n",
        "from my_consumer import MyConsumer"
      ]
    },
    {
      "cell_type": "markdown",
      "metadata": {
        "id": "_1Rf6FCMSnbM"
      },
      "source": [
        "#### 构造 InteractiveContext"
      ]
    },
    {
      "cell_type": "code",
      "execution_count": null,
      "metadata": {
        "id": "dEXGvLLmKviI"
      },
      "outputs": [],
      "source": [
        "# Here, we create an InteractiveContext using default parameters. This will\n",
        "# use a temporary directory with an ephemeral ML Metadata database instance.\n",
        "# To use your own pipeline root or database, the optional properties\n",
        "# `pipeline_root` and `metadata_connection_config` may be passed to\n",
        "# InteractiveContext. Calls to InteractiveContext are no-ops outside of the\n",
        "# notebook.\n",
        "from tfx.orchestration.experimental.interactive.interactive_context import InteractiveContext\n",
        "context = InteractiveContext()"
      ]
    },
    {
      "cell_type": "markdown",
      "metadata": {
        "id": "XxXVtZzdTWg_"
      },
      "source": [
        "#### 使用 `context.run()` 以交互方式运行组件\n",
        "\n",
        "接下来，我们使用 `context.run()` 在笔记本内以交互方式运行我们的组件。我们的 consumer 组件使用 generator 组件的输出。"
      ]
    },
    {
      "cell_type": "code",
      "execution_count": null,
      "metadata": {
        "id": "kfNmI5qULlSA"
      },
      "outputs": [],
      "source": [
        "generator = MyGenerator()\n",
        "context.run(generator)"
      ]
    },
    {
      "cell_type": "code",
      "execution_count": null,
      "metadata": {
        "id": "cRxVZIfFLsL4"
      },
      "outputs": [],
      "source": [
        "consumer = MyConsumer(\n",
        "    data=generator.outputs['data'],\n",
        "    algorithm='md5')\n",
        "context.run(consumer)"
      ]
    },
    {
      "cell_type": "markdown",
      "metadata": {
        "id": "pO_Ggc4QTo0B"
      },
      "source": [
        "执行后，我们可以检查磁盘上 consumer 组件的“hash”输出工件的内容。"
      ]
    },
    {
      "cell_type": "code",
      "execution_count": null,
      "metadata": {
        "id": "h4P3Mx_CT0mP"
      },
      "outputs": [],
      "source": [
        "!tail -v {consumer.outputs['hash'].get()[0].uri}"
      ]
    },
    {
      "cell_type": "markdown",
      "metadata": {
        "id": "RRosvALKSWe0"
      },
      "source": [
        "就是这样，您现在已经编写并执行了自己的自定义组件！"
      ]
    },
    {
      "cell_type": "markdown",
      "metadata": {
        "id": "uvXKtg17O6mF"
      },
      "source": [
        "### 编写流水线定义\n",
        "\n",
        "接下来，我们将使用这些相同的组件创建一个流水线。虽然在笔记本内使用 `InteractiveContext` 可以很好地进行实验，但定义流水线可以让您将流水线部署在本地或远程运行程序上，以供生产使用。\n",
        "\n",
        "在此处，我们将演示您的机器上本地运行的 LocalDagRunner 的用法。对于生产执行，Airflow 或 Kubeflow 运行程序可能更合适。"
      ]
    },
    {
      "cell_type": "markdown",
      "metadata": {
        "id": "ft9fbSpnU7C6"
      },
      "source": [
        "#### 构造流水线"
      ]
    },
    {
      "cell_type": "code",
      "execution_count": null,
      "metadata": {
        "id": "NpkQ805-LyJu"
      },
      "outputs": [],
      "source": [
        "import os\n",
        "import tempfile\n",
        "from tfx import v1 as tfx\n",
        "\n",
        "# Select a persistent TFX root directory to store your output artifacts.\n",
        "# For demonstration purposes only, we use a temporary directory.\n",
        "PIPELINE_ROOT = tempfile.mkdtemp()\n",
        "# Select a pipeline name so that multiple runs of the same logical pipeline\n",
        "# can be grouped.\n",
        "PIPELINE_NAME = \"function-based-pipeline\"\n",
        "# We use a ML Metadata configuration that uses a local SQLite database in\n",
        "# the pipeline root directory. Other backends for ML Metadata are available\n",
        "# for production usage.\n",
        "METADATA_CONNECTION_CONFIG = tfx.orchestration.metadata.sqlite_metadata_connection_config(\n",
        "    os.path.join(PIPELINE_ROOT, 'metadata.sqlite'))\n",
        "\n",
        "def function_based_pipeline():\n",
        "  # Here, we construct our generator and consumer components in the same way.\n",
        "  generator = MyGenerator()\n",
        "  consumer = MyConsumer(\n",
        "      data=generator.outputs['data'],\n",
        "      algorithm='md5')\n",
        "\n",
        "  return tfx.dsl.Pipeline(\n",
        "      pipeline_name=PIPELINE_NAME,\n",
        "      pipeline_root=PIPELINE_ROOT,\n",
        "      components=[generator, consumer],\n",
        "      metadata_connection_config=METADATA_CONNECTION_CONFIG)\n",
        "\n",
        "my_pipeline = function_based_pipeline()"
      ]
    },
    {
      "cell_type": "markdown",
      "metadata": {
        "id": "Mj-Z3cbFWPbK"
      },
      "source": [
        "#### 使用 `LocalDagRunner` 运行流水线"
      ]
    },
    {
      "cell_type": "code",
      "execution_count": null,
      "metadata": {
        "id": "PLtGO2PkMQbO"
      },
      "outputs": [],
      "source": [
        "tfx.orchestration.LocalDagRunner().run(my_pipeline)"
      ]
    },
    {
      "cell_type": "markdown",
      "metadata": {
        "id": "Ry4vU3mOWeN1"
      },
      "source": [
        "我们可以检查执行此流水线所生成的输出工件。"
      ]
    },
    {
      "cell_type": "code",
      "execution_count": null,
      "metadata": {
        "id": "fyvYTsx8Mp1N"
      },
      "outputs": [],
      "source": [
        "!find {PIPELINE_ROOT}"
      ]
    },
    {
      "cell_type": "markdown",
      "metadata": {
        "id": "M4CsceadWqHp"
      },
      "source": [
        "您现在已经编写了自己的自定义组件并在 LocalDagRunner 上编排了它们的执行！有关后续步骤，请查看 [TFX 网站](https://tensorflow.google.cn/tfx)上的其他教程和指南。"
      ]
    }
  ],
  "metadata": {
    "colab": {
      "collapsed_sections": [
        "wdeKOEkv1Fe8"
      ],
      "name": "python_function_component.ipynb",
      "toc_visible": true
    },
    "kernelspec": {
      "display_name": "Python 3",
      "name": "python3"
    }
  },
  "nbformat": 4,
  "nbformat_minor": 0
}
