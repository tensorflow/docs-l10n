{
  "cells": [
    {
      "cell_type": "markdown",
      "metadata": {
        "id": "tghWegsjhpkt"
      },
      "source": [
        "##### Copyright 2020 The TensorFlow Authors."
      ]
    },
    {
      "cell_type": "code",
      "execution_count": null,
      "metadata": {
        "cellView": "form",
        "id": "rSGJWC5biBiG"
      },
      "outputs": [],
      "source": [
        "#@title Licensed under the Apache License, Version 2.0 (the \"License\");\n",
        "# you may not use this file except in compliance with the License.\n",
        "# You may obtain a copy of the License at\n",
        "#\n",
        "# https://www.apache.org/licenses/LICENSE-2.0\n",
        "#\n",
        "# Unless required by applicable law or agreed to in writing, software\n",
        "# distributed under the License is distributed on an \"AS IS\" BASIS,\n",
        "# WITHOUT WARRANTIES OR CONDITIONS OF ANY KIND, either express or implied.\n",
        "# See the License for the specific language governing permissions and\n",
        "# limitations under the License."
      ]
    },
    {
      "cell_type": "markdown",
      "metadata": {
        "id": "YuSYVbwEYNHw"
      },
      "source": [
        "# TensorFlow Data Validation\n",
        "\n",
        "***TensorFlow Extended 关键组件示例***"
      ]
    },
    {
      "cell_type": "markdown",
      "metadata": {
        "id": "rLsMb4vqY244"
      },
      "source": [
        "注：您现在可以在 Jupyter 风格的笔记本中运行此示例而无需进行设置！只需点击“在 Google Colab 中运行”\n",
        "\n",
        "<div class=\"devsite-table-wrapper\"><table class=\"tfo-notebook-buttons\" align=\"left\">\n",
        "<td><a target=\"_blank\" href=\"https://tensorflow.google.cn/tfx/tutorials/data_validation/tfdv_basic\"> <img src=\"https://tensorflow.google.cn/images/tf_logo_32px.png\">在 TensorFlow.org 上查看</a></td>\n",
        "<td><a target=\"_blank\" href=\"https://colab.research.google.com/github/tensorflow/docs-l10n/blob/master/site/zh-cn/tfx/tutorials/data_validation/tfdv_basic.ipynb\"> <img src=\"https://tensorflow.google.cn/images/colab_logo_32px.png\">在 Google Colab 中运行</a></td>\n",
        "<td><a target=\"_blank\" href=\"https://github.com/tensorflow/docs-l10n/blob/master/site/zh-cn/tfx/tutorials/data_validation/tfdv_basic.ipynb\"> <img width=\"32px\" src=\"https://tensorflow.google.cn/images/GitHub-Mark-32px.png\">在 GitHub 上查看源代码</a></td>\n",
        "<td><a href=\"https://storage.googleapis.com/tensorflow_docs/docs-l10n/site/zh-cn/tfx/tutorials/data_validation/tfdv_basic.ipynb\"><img src=\"https://tensorflow.google.cn/images/download_logo_32px.png\">下载笔记本</a></td>\n",
        "</table></div>"
      ]
    },
    {
      "cell_type": "markdown",
      "metadata": {
        "id": "mPt5BHTwy_0F"
      },
      "source": [
        "此示例 Colab 笔记本将演示如何使用 TensorFlow Data Validation (TFDV) 调查和呈现数据集。包括查看描述性统计信息、推断架构、检查和修复异常，以及检查数据集中的漂移和偏差。了解数据集的特点非常重要，包括它在生产流水线中随时间变化的方式。查找数据中的异常，并比较训练、评估和应用数据集以确保它们保持一致也很重要。\n",
        "\n",
        "我们将使用的数据来自芝加哥市发布的 [Taxi Trips 数据集](https://data.cityofchicago.org/Transportation/Taxi-Trips/wrvz-psew)。\n",
        "\n",
        "注：本网站提供的应用所使用的数据来自原始源（www.cityofchicago.org，芝加哥市官方网站），但在使用时进行了修改。芝加哥市不对本网站提供的任何数据的内容、准确性、时效性或完整性承担任何责任。本网站提供的数据可能会随时更改。您了解并同意，使用本网站提供的数据须自担风险。\n",
        "\n",
        "您可以在 [Google BigQuery](https://cloud.google.com/bigquery/) 中[详细了解](https://cloud.google.com/bigquery/public-data/chicago-taxi)此数据集，并在 [BigQuery 界面](https://bigquery.cloud.google.com/dataset/bigquery-public-data:chicago_taxi_trips)中探索完整的数据集。\n",
        "\n",
        "要点：作为建模者和开发者，请思考如何使用这些数据以及模型预测的潜在好处和危害。此类模型可能会加剧社会偏见和差距。某个特征是与您要解决的问题相关，还是会引入偏见？有关更多信息，请阅读 [ML 公平性](https://developers.google.com/machine-learning/fairness-overview/)。"
      ]
    },
    {
      "cell_type": "markdown",
      "metadata": {
        "id": "Fnm6Mj3vTGLm"
      },
      "source": [
        "数据集中的各列为：\n",
        "\n",
        "<table>\n",
        "<tr>\n",
        "<td>pickup_community_area</td>\n",
        "<td>fare</td>\n",
        "<td>trip_start_month</td>\n",
        "</tr>\n",
        "<tr>\n",
        "<td>trip_start_hour</td>\n",
        "<td>trip_start_day</td>\n",
        "<td>trip_start_timestamp</td>\n",
        "</tr>\n",
        "<tr>\n",
        "<td>pickup_latitude</td>\n",
        "<td>pickup_longitude</td>\n",
        "<td>dropoff_latitude</td>\n",
        "</tr>\n",
        "<tr>\n",
        "<td>dropoff_longitude</td>\n",
        "<td>trip_miles</td>\n",
        "<td>pickup_census_tract</td>\n",
        "</tr>\n",
        "<tr>\n",
        "<td>dropoff_census_tract</td>\n",
        "<td>payment_type</td>\n",
        "<td>company</td>\n",
        "</tr>\n",
        "<tr>\n",
        "<td>trip_seconds</td>\n",
        "<td>dropoff_community_area</td>\n",
        "<td>tips</td>\n",
        "</tr>\n",
        "</table>"
      ]
    },
    {
      "cell_type": "markdown",
      "metadata": {
        "id": "nsYC3O-DnYro"
      },
      "source": [
        "## 安装并导入软件包\n",
        "\n",
        "安装 TensorFlow Data Validation 的软件包。"
      ]
    },
    {
      "cell_type": "markdown",
      "metadata": {
        "id": "ATF_g5c2g2Ha"
      },
      "source": [
        "### 升级 Pip\n",
        "\n",
        "为了避免在本地运行时升级系统中的 Pip，请检查以确保我们在 Colab 中运行。当然，可以单独升级本地系统。"
      ]
    },
    {
      "cell_type": "code",
      "execution_count": null,
      "metadata": {
        "id": "b0ISmRq3nY3-"
      },
      "outputs": [],
      "source": [
        "try:\n",
        "  import colab\n",
        "  !pip install --upgrade pip\n",
        "except:\n",
        "  pass"
      ]
    },
    {
      "cell_type": "markdown",
      "metadata": {
        "id": "4qBFH1ARcSNk"
      },
      "source": [
        "### 安装 Data Validation 软件包\n",
        "\n",
        "安装 TensorFlow Data Validation 软件包和依赖项，这需要几分钟时间。您可能会看到有关不兼容依赖项版本的警告和错误，您将在下一部分中解决这些问题。"
      ]
    },
    {
      "cell_type": "code",
      "execution_count": null,
      "metadata": {
        "id": "hPJsE5Gkdp8m"
      },
      "outputs": [],
      "source": [
        "print('Installing TensorFlow Data Validation')\n",
        "!pip install --upgrade 'tensorflow_data_validation[visualization]<2'"
      ]
    },
    {
      "cell_type": "markdown",
      "metadata": {
        "id": "s_NXX5GaSiZx"
      },
      "source": [
        "### 导入 TensorFlow 并重新加载更新的软件包\n",
        "\n",
        "上一步更新了 Google Colab 环境中的默认软件包，因此您必须重新加载软件包资源以解决新的依赖项。\n",
        "\n",
        "注：此步骤解决了安装中的依赖项错误。如果您在运行此代码后仍然遇到代码执行问题，请重新启动运行时 (Runtime &gt; Restart runtime ...)。"
      ]
    },
    {
      "cell_type": "code",
      "execution_count": null,
      "metadata": {
        "id": "E2j9VD9HbGWw"
      },
      "outputs": [],
      "source": [
        "import pkg_resources\n",
        "import importlib\n",
        "importlib.reload(pkg_resources)"
      ]
    },
    {
      "cell_type": "markdown",
      "metadata": {
        "id": "IFXK2AdpSpv0"
      },
      "source": [
        "首先检查 TensorFlow 和 Data Validation 的版本，然后再继续。 "
      ]
    },
    {
      "cell_type": "code",
      "execution_count": null,
      "metadata": {
        "id": "F5rPatTDSCHB"
      },
      "outputs": [],
      "source": [
        "import tensorflow as tf\n",
        "import tensorflow_data_validation as tfdv\n",
        "print('TF version:', tf.__version__)\n",
        "print('TFDV version:', tfdv.version.__version__)"
      ]
    },
    {
      "cell_type": "markdown",
      "metadata": {
        "id": "5MizoHg1DRlK"
      },
      "source": [
        "## 加载数据集\n",
        "\n",
        "我们将从 Google Cloud Storage 下载数据集。"
      ]
    },
    {
      "cell_type": "code",
      "execution_count": null,
      "metadata": {
        "id": "x5gfFiTeDa6Y"
      },
      "outputs": [],
      "source": [
        "import os\n",
        "import tempfile, urllib, zipfile\n",
        "\n",
        "# Set up some globals for our file paths\n",
        "BASE_DIR = tempfile.mkdtemp()\n",
        "DATA_DIR = os.path.join(BASE_DIR, 'data')\n",
        "OUTPUT_DIR = os.path.join(BASE_DIR, 'chicago_taxi_output')\n",
        "TRAIN_DATA = os.path.join(DATA_DIR, 'train', 'data.csv')\n",
        "EVAL_DATA = os.path.join(DATA_DIR, 'eval', 'data.csv')\n",
        "SERVING_DATA = os.path.join(DATA_DIR, 'serving', 'data.csv')\n",
        "\n",
        "# Download the zip file from GCP and unzip it\n",
        "zip, headers = urllib.request.urlretrieve('https://storage.googleapis.com/artifacts.tfx-oss-public.appspot.com/datasets/chicago_data.zip')\n",
        "zipfile.ZipFile(zip).extractall(BASE_DIR)\n",
        "zipfile.ZipFile(zip).close()\n",
        "\n",
        "print(\"Here's what we downloaded:\")\n",
        "!ls -R {os.path.join(BASE_DIR, 'data')}"
      ]
    },
    {
      "cell_type": "markdown",
      "metadata": {
        "id": "H0sFmiTbT8-x"
      },
      "source": [
        "## 计算并可视化统计信息\n",
        "\n",
        "首先，我们将使用 [`tfdv.generate_statistics_from_csv`](https://tensorflow.google.cn/tfx/data_validation/api_docs/python/tfdv/generate_statistics_from_csv) 计算训练数据的统计信息。（请忽略简短警告）\n",
        "\n",
        "TFDV 可以计算描述性[统计信息](https://github.com/tensorflow/metadata/blob/v0.6.0/tensorflow_metadata/proto/v0/statistics.proto)，有助于快速了解数据中存在的特征及其值分布的形状。\n",
        "\n",
        "在内部，TFDV 使用 [Apache Beam](https://beam.apache.org/) 的数据并行处理框架来扩展对大型数据集的统计信息计算。对于希望与 TFDV 进行更深入集成的应用（例如，在数据生成流水线的末端附加统计信息生成），该 API 还公开了 Beam PTransform 用于统计信息生成。"
      ]
    },
    {
      "cell_type": "code",
      "execution_count": null,
      "metadata": {
        "id": "EE481oMbT-H0"
      },
      "outputs": [],
      "source": [
        "train_stats = tfdv.generate_statistics_from_csv(data_location=TRAIN_DATA)"
      ]
    },
    {
      "cell_type": "markdown",
      "metadata": {
        "id": "JhXQSxJ2dB_6"
      },
      "source": [
        "现在，我们来使用 [`tfdv.visualize_statistics`](https://tensorflow.google.cn/tfx/data_validation/api_docs/python/tfdv/visualize_statistics)，它使用 [Facets](https://pair-code.github.io/facets/) 为我们的训练数据创建简洁的可视化效果：\n",
        "\n",
        "- 请注意，数字特征和分类特征会分别可视化，并且显示的图表会展示每个特征的分布。\n",
        "- 请注意，缺少值或值为零的特征的百分比将显示为红色（作为视觉指示，表明这些特征中的样本可能存在问题）。百分比是该特征缺少值或值为零的样本的百分比。\n",
        "- 请注意，没有具有 `pickup_census_tract` 值的样本。这是一个降维的机会！\n",
        "- 尝试点击图表上方的“expand”以更改显示\n",
        "- 尝试将鼠标悬停在图表中的条形图上以显示桶范围和计数\n",
        "- 尝试在对数尺度和线性尺度之间切换，并注意对数尺度如何显示有关 `payment_type` 分类特征的更多详细信息\n",
        "- 尝试从“Chart to show”菜单中选择“quantiles”，然后将鼠标悬停在标记上以显示分位数百分比"
      ]
    },
    {
      "cell_type": "code",
      "execution_count": null,
      "metadata": {
        "id": "U3tUKgh7Up3x"
      },
      "outputs": [],
      "source": [
        "# docs-infra: no-execute\n",
        "tfdv.visualize_statistics(train_stats)"
      ]
    },
    {
      "cell_type": "markdown",
      "metadata": {
        "id": "Xoc0ijE5LYeQ"
      },
      "source": [
        "<!-- <img class=\"tfo-display-only-on-site\" src=\"images/statistics.png\"/> -->"
      ]
    },
    {
      "cell_type": "markdown",
      "metadata": {
        "id": "KVR02-y4V0uM"
      },
      "source": [
        "## 推断架构\n",
        "\n",
        "现在，我们使用 [`tfdv.infer_schema`](https://tensorflow.google.cn/tfx/data_validation/api_docs/python/tfdv/infer_schema) 为我们的数据创建架构。架构定义了与 ML 相关的数据约束。示例约束包括每个特征的数据类型（是数字特征还是分类特征），或其在数据中的出现频率。对于分类特征，架构还定义了域（可接受值的列表）。由于编写架构可能是一项繁琐的任务，特别是对于具有许多特征的数据集，TFDV 提供了一种根据描述性统计信息生成架构初始版本的方式。\n",
        "\n",
        "获得正确的架构非常重要，因为我们的其他生产流水线将依赖于 TFDV 生成架构的正确性。架构还提供数据的文档，这在不同开发者处理同一数据时非常有用。我们使用 [`tfdv.display_schema`](https://tensorflow.google.cn/tfx/data_validation/api_docs/python/tfdv/display_schema) 来显示推断的架构，以便对其进行检查。"
      ]
    },
    {
      "cell_type": "code",
      "execution_count": null,
      "metadata": {
        "id": "6LLkRJThVr9m"
      },
      "outputs": [],
      "source": [
        "schema = tfdv.infer_schema(statistics=train_stats)\n",
        "tfdv.display_schema(schema=schema)"
      ]
    },
    {
      "cell_type": "markdown",
      "metadata": {
        "id": "ZVa3EXE8WEDE"
      },
      "source": [
        "## 检查评估数据有无错误\n",
        "\n",
        "到目前为止，我们只查看了训练数据。评估数据与训练数据保持一致非常重要，包括使用相同的架构。同样重要的是，评估数据应包含与训练数据的数值特征值范围大致相同的样本，从而使评估期间我们对损失表面的覆盖范围与训练期间大致相同。对于分类特征也是如此。否则，我们可能会因为没有评估部分损失表面，而在评估期间遇到未发现的训练问题。\n",
        "\n",
        "- 请注意，现在每个特征都包括训练数据集和评估数据集的统计信息。\n",
        "- 请注意，图表现在同时叠加了训练数据集和评估数据集，便于进行比较。\n",
        "- 请注意，现在图表包括一个百分比视图，可以将其与对数尺度或默认的线性尺度结合使用。\n",
        "- 请注意，训练数据集和评估数据集的 `trip_miles` 平均值和中位数不同。这会引起问题吗？\n",
        "- 哇哦，训练数据集和评估数据集的 `tips` 也迥然不同。这会引起问题吗？\n",
        "- 点击“Numeric Features”图表上的“expand”，选择对数尺度。查看 `trip_seconds` 特征，并注意最大值之间的差异。评估会漏掉部分损失表面吗？"
      ]
    },
    {
      "cell_type": "code",
      "execution_count": null,
      "metadata": {
        "id": "j_P0RLYlV6XG"
      },
      "outputs": [],
      "source": [
        "# Compute stats for evaluation data\n",
        "eval_stats = tfdv.generate_statistics_from_csv(data_location=EVAL_DATA)"
      ]
    },
    {
      "cell_type": "code",
      "execution_count": null,
      "metadata": {
        "id": "Qn-3fQWJLimn"
      },
      "outputs": [],
      "source": [
        "# docs-infra: no-execute\n",
        "# Compare evaluation data with training data\n",
        "tfdv.visualize_statistics(lhs_statistics=eval_stats, rhs_statistics=train_stats,\n",
        "                          lhs_name='EVAL_DATASET', rhs_name='TRAIN_DATASET')"
      ]
    },
    {
      "cell_type": "markdown",
      "metadata": {
        "id": "MS4u82lzLeRh"
      },
      "source": [
        "<!-- <img class=\"tfo-display-only-on-site\" src=\"images/statistics_eval.png\"/> -->"
      ]
    },
    {
      "cell_type": "markdown",
      "metadata": {
        "id": "ycRRa4leHp84"
      },
      "source": [
        "## 检查评估异常\n",
        "\n",
        "我们的评估数据集是否与训练数据集中的架构匹配？这对于分类特征尤其重要，因为我们要确定可接受值的范围。\n",
        "\n",
        "要点：如果我们尝试使用不在训练数据集中的具有分类特征值的数据进行评估，会发生什么呢？如果使用超出训练数据集范围的数字特征又会如何？"
      ]
    },
    {
      "cell_type": "code",
      "execution_count": null,
      "metadata": {
        "id": "T7uGVeL2WOam"
      },
      "outputs": [],
      "source": [
        "# Check eval data for errors by validating the eval data stats using the previously inferred schema.\n",
        "anomalies = tfdv.validate_statistics(statistics=eval_stats, schema=schema)\n",
        "tfdv.display_anomalies(anomalies)"
      ]
    },
    {
      "cell_type": "markdown",
      "metadata": {
        "id": "dzxx1gBpJIBa"
      },
      "source": [
        "## 修复架构中的评估异常\n",
        "\n",
        "糟糕！看起来我们的评估数据中有一些 `company` 的新值，而训练数据中却没有。`payment_type` 也有一个新值。这些应被视为异常，但是决定如何处理它们取决于我们对数据的领域知识。如果异常确实表示数据错误，则应修复基础数据。否则，我们只需更新架构以在评估数据集中包含这些值。\n",
        "\n",
        "要点：如果不修复这些问题，我们的评估结果会受到怎样的影响？\n",
        "\n",
        "除非更改评估数据集，否则我们无法修复所有问题，但可以修复架构中我们愿意接受的问题。这包括放宽我们对特定特征异常的判断标准，以及更新我们的架构以包括分类特征的缺失值。TFDV 使我们能够发现需要修复的内容。\n",
        "\n",
        "现在我们来进行修复，然后再检查一次。"
      ]
    },
    {
      "cell_type": "code",
      "execution_count": null,
      "metadata": {
        "id": "legN2nXLWZAc"
      },
      "outputs": [],
      "source": [
        "# Relax the minimum fraction of values that must come from the domain for feature company.\n",
        "company = tfdv.get_feature(schema, 'company')\n",
        "company.distribution_constraints.min_domain_mass = 0.9\n",
        "\n",
        "# Add new value to the domain of feature payment_type.\n",
        "payment_type_domain = tfdv.get_domain(schema, 'payment_type')\n",
        "payment_type_domain.value.append('Prcard')\n",
        "\n",
        "# Validate eval stats after updating the schema \n",
        "updated_anomalies = tfdv.validate_statistics(eval_stats, schema)\n",
        "tfdv.display_anomalies(updated_anomalies)"
      ]
    },
    {
      "cell_type": "markdown",
      "metadata": {
        "id": "xNo72YP9LN98"
      },
      "source": [
        "看！经过验证，训练数据和评估数据现在是一致的！感谢 TFDV ;)"
      ]
    },
    {
      "cell_type": "markdown",
      "metadata": {
        "id": "KZ1P4ucHJj5o"
      },
      "source": [
        "## 架构环境"
      ]
    },
    {
      "cell_type": "markdown",
      "metadata": {
        "id": "qb179jczJppA"
      },
      "source": [
        "在此示例中，我们还拆分出了一个“应用”数据集，因此我们也应该对它进行检查。默认情况下，流水线中的所有数据集都应使用相同的架构，但通常会有例外。例如，在监督学习中，我们需要在数据集中包括标签，但当我们应用模型进行推断时，则不包括标签。在某些情况下，有必要引入轻微的架构变化。\n",
        "\n",
        "可以使用**环境**来表示此类需求。特别是，可以使用 `default_environment`、`in_environment` 和 `not_in_environment` 将架构中的特征与一组环境相关联。\n",
        "\n",
        "例如，`tips` 特征被作为训练标签包含在此数据集中，但却没有包含在应用数据中。如果未指定环境，它将显示为异常。"
      ]
    },
    {
      "cell_type": "code",
      "execution_count": null,
      "metadata": {
        "id": "wSZfbnifJuTA"
      },
      "outputs": [],
      "source": [
        "serving_stats = tfdv.generate_statistics_from_csv(SERVING_DATA)\n",
        "serving_anomalies = tfdv.validate_statistics(serving_stats, schema)\n",
        "\n",
        "tfdv.display_anomalies(serving_anomalies)"
      ]
    },
    {
      "cell_type": "markdown",
      "metadata": {
        "id": "FDYHvZ09LfkT"
      },
      "source": [
        "我们将在下文处理 `tips` 特征。在 trip_seconds 中还有一个 INT 值，架构在此处需要一个 FLOAT。通过让我们意识到这种差异，TFDV 有助于发现用于训练和应用的数据生成方式的不一致。在模型性能受到影响（有时是灾难性的）之前，很容易忽视此类问题。问题可能重要也可能不重要，但无论如何都应做进一步调查。\n",
        "\n",
        "在本例中，我们可以安全地将 INT 值转换为 FLOAT，以便让 TFDV 使用我们的架构来推断类型。现在开始吧。"
      ]
    },
    {
      "cell_type": "code",
      "execution_count": null,
      "metadata": {
        "id": "OhtYF8aAczpd"
      },
      "outputs": [],
      "source": [
        "options = tfdv.StatsOptions(schema=schema, infer_type_from_schema=True)\n",
        "serving_stats = tfdv.generate_statistics_from_csv(SERVING_DATA, stats_options=options)\n",
        "serving_anomalies = tfdv.validate_statistics(serving_stats, schema)\n",
        "\n",
        "tfdv.display_anomalies(serving_anomalies)"
      ]
    },
    {
      "cell_type": "markdown",
      "metadata": {
        "id": "bJjh5rigc5xy"
      },
      "source": [
        "现在，只有 `tips` 特征（这是标签）显示为异常（“Column dropped”）。当然，我们不希望在应用数据中包含标签，因此我们告诉 TFDV 忽略标签。"
      ]
    },
    {
      "cell_type": "code",
      "execution_count": null,
      "metadata": {
        "id": "bnbnw8H6Lp2M"
      },
      "outputs": [],
      "source": [
        "# All features are by default in both TRAINING and SERVING environments.\n",
        "schema.default_environment.append('TRAINING')\n",
        "schema.default_environment.append('SERVING')\n",
        "\n",
        "# Specify that 'tips' feature is not in SERVING environment.\n",
        "tfdv.get_feature(schema, 'tips').not_in_environment.append('SERVING')\n",
        "\n",
        "serving_anomalies_with_env = tfdv.validate_statistics(\n",
        "    serving_stats, schema, environment='SERVING')\n",
        "\n",
        "tfdv.display_anomalies(serving_anomalies_with_env)"
      ]
    },
    {
      "cell_type": "markdown",
      "metadata": {
        "id": "yteMr3AGMYEp"
      },
      "source": [
        "## 检查漂移和偏差"
      ]
    },
    {
      "cell_type": "markdown",
      "metadata": {
        "id": "8Ftd5k6AMkPV"
      },
      "source": [
        "除了检查数据集是否符合在架构中设置的期望之外，TFDV 还提供了检测漂移和偏差的功能。TFDV 执行此检查的方式为：根据架构中指定的漂移/偏差比较器来比较不同数据集的统计信息。\n",
        "\n",
        "### 漂移\n",
        "\n",
        "支持对分类特征以及在数据的连续跨度之间（即跨度 N 和跨度 N+1 之间）进行漂移检测（例如训练数据的不同天数之间）。我们用[切比雪夫距离](https://en.wikipedia.org/wiki/Chebyshev_distance)来表示漂移，您可以设置阈值距离，以便在漂移高于可接受范围时收到警告。设置正确的距离通常是一个迭代过程，需要领域知识和实验。"
      ]
    },
    {
      "cell_type": "markdown",
      "metadata": {
        "id": "eBFuLpXb6qSp"
      },
      "source": [
        "### 偏差\n",
        "\n",
        "TFDV 可以检测数据中三种不同类型的偏差：架构偏差、特征偏差和分布偏差。\n",
        "\n",
        "#### 架构偏差\n",
        "\n",
        "当训练数据和应用数据不符合同一个架构时，会发生架构偏差。训练数据和应用数据都应遵循同一个架构。两者之间的任何预期偏差（例如，仅训练数据中存在但应用数据中不存在的标签特征）都应通过架构中的环境字段指定。\n",
        "\n",
        "#### 特征偏差\n",
        "\n",
        "当模型训练所采用的特征值与它在应用时看到的特征值不同时，会发生特征偏差。例如，这可能在以下情况下发生：\n",
        "\n",
        "- 提供某些特征值的数据源在训练时和应用时之间被修改。\n",
        "- 用于在训练和应用之间生成特征的逻辑不同。例如，如果仅在两个代码路径之一中应用某些转换。\n",
        "\n",
        "#### 分布偏差\n",
        "\n",
        "当训练数据集的分布与应用数据集的分布明显不同时，会发生分布偏差。分布偏差的主要原因之一是使用不同的代码或不同的数据源来生成训练数据集。另一个原因是错误的采样机制选择了应用数据中无代表性的子样本来进行训练。"
      ]
    },
    {
      "cell_type": "code",
      "execution_count": null,
      "metadata": {
        "id": "wEUsZm_rOd1Q"
      },
      "outputs": [],
      "source": [
        "# Add skew comparator for 'payment_type' feature.\n",
        "payment_type = tfdv.get_feature(schema, 'payment_type')\n",
        "payment_type.skew_comparator.infinity_norm.threshold = 0.01\n",
        "\n",
        "# Add drift comparator for 'company' feature.\n",
        "company=tfdv.get_feature(schema, 'company')\n",
        "company.drift_comparator.infinity_norm.threshold = 0.001\n",
        "\n",
        "skew_anomalies = tfdv.validate_statistics(train_stats, schema,\n",
        "                                          previous_statistics=eval_stats,\n",
        "                                          serving_statistics=serving_stats)\n",
        "\n",
        "tfdv.display_anomalies(skew_anomalies)"
      ]
    },
    {
      "cell_type": "markdown",
      "metadata": {
        "id": "1GzbbsPgf0Bg"
      },
      "source": [
        "在此示例中，我们确实看到了一些漂移，但它远低于我们设置的阈值。"
      ]
    },
    {
      "cell_type": "markdown",
      "metadata": {
        "id": "wJ5saC9eWvHx"
      },
      "source": [
        "## 冻结架构\n",
        "\n",
        "现在，已经对架构进行了检查和整理，我们将其存储在文件中以反映其“冻结”状态。"
      ]
    },
    {
      "cell_type": "code",
      "execution_count": null,
      "metadata": {
        "id": "ydkL4DkIWn18"
      },
      "outputs": [],
      "source": [
        "from tensorflow.python.lib.io import file_io\n",
        "from google.protobuf import text_format\n",
        "\n",
        "file_io.recursive_create_dir(OUTPUT_DIR)\n",
        "schema_file = os.path.join(OUTPUT_DIR, 'schema.pbtxt')\n",
        "tfdv.write_schema_text(schema, schema_file)\n",
        "\n",
        "!cat {schema_file}"
      ]
    },
    {
      "cell_type": "markdown",
      "metadata": {
        "id": "b8eC59yISdGB"
      },
      "source": [
        "## 何时使用 TFDV\n",
        "\n",
        "很容易认为 TFDV 只适用于训练流水线的开始（如我们此处所做），但实际上它有很多用途。下面是一些其他用途：\n",
        "\n",
        "- 验证用于推断的新数据，以确保不会突然开始接收不良特征\n",
        "- 验证用于推断的新数据，以确保我们的模型已在决策表面的该部分进行了训练\n",
        "- 在转换数据并完成特征工程（很可能使用 [TensorFlow Transform](https://tensorflow.google.cn/tfx/transform/get_started)）后验证数据，以确保我们没有做错什么"
      ]
    }
  ],
  "metadata": {
    "colab": {
      "collapsed_sections": [
        "tghWegsjhpkt"
      ],
      "name": "tfdv_basic.ipynb",
      "toc_visible": true
    },
    "kernelspec": {
      "display_name": "Python 3",
      "name": "python3"
    }
  },
  "nbformat": 4,
  "nbformat_minor": 0
}
