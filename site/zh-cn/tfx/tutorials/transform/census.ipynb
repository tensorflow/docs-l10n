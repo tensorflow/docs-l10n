{
  "cells": [
    {
      "cell_type": "markdown",
      "metadata": {
        "id": "uAttKaKmT435"
      },
      "source": [
        "<div class=\"devsite-table-wrapper\"><table class=\"tfo-notebook-buttons\" align=\"left\">\n",
        "<td><a target=\"_blank\" href=\"https://tensorflow.google.cn/tfx/tutorials/transform/census\">\n",
        "<img src=\"https://tensorflow.google.cn/images/tf_logo_32px.png\" />View on TensorFlow.org</a></td>\n",
        "<td><a target=\"_blank\" href=\"https://colab.research.google.com/github/tensorflow/docs-l10n/blob/master/site/zh-cn/tfx/tutorials/transform/census.ipynb\">\n",
        "<img src=\"https://tensorflow.google.cn/images/colab_logo_32px.png\">Run in Google Colab</a></td>\n",
        "<td><a target=\"_blank\" href=\"https://github.com/tensorflow/docs-l10n/blob/master/site/zh-cn/tfx/tutorials/transform/census.ipynb\">\n",
        "<img width=32px src=\"https://tensorflow.google.cn/images/GitHub-Mark-32px.png\">View source on GitHub</a></td>\n",
        "<td><a target=\"_blank\" href=\"https://storage.googleapis.com/tensorflow_docs/docs-l10n/site/zh-cn/tfx/tutorials/transform/census.ipynb\">\n",
        "<img width=32px src=\"https://tensorflow.google.cn/images/download_logo_32px.png\">Download notebook</a></td>\n",
        "</table></div>"
      ]
    },
    {
      "cell_type": "markdown",
      "metadata": {
        "id": "tghWegsjhpkt"
      },
      "source": [
        "##### Copyright 2020 The TensorFlow Authors."
      ]
    },
    {
      "cell_type": "code",
      "execution_count": null,
      "metadata": {
        "cellView": "form",
        "id": "rSGJWC5biBiG"
      },
      "outputs": [],
      "source": [
        "#@title Licensed under the Apache License, Version 2.0 (the \"License\");\n",
        "# you may not use this file except in compliance with the License.\n",
        "# You may obtain a copy of the License at\n",
        "#\n",
        "# https://www.apache.org/licenses/LICENSE-2.0\n",
        "#\n",
        "# Unless required by applicable law or agreed to in writing, software\n",
        "# distributed under the License is distributed on an \"AS IS\" BASIS,\n",
        "# WITHOUT WARRANTIES OR CONDITIONS OF ANY KIND, either express or implied.\n",
        "# See the License for the specific language governing permissions and\n",
        "# limitations under the License."
      ]
    },
    {
      "cell_type": "markdown",
      "metadata": {
        "id": "mPt5BHTwy_0F"
      },
      "source": [
        "# 使用 TensorFlow Transform 预处理数据\n",
        "\n",
        "***TensorFlow Extended (TFX) 的特征工程组件***\n",
        "\n",
        "此示例 Colab 笔记本提供了一个更高级的示例，说明了如何使用 <a target=\"_blank\" href=\"https://tensorflow.google.cn/tfx/transform/get_started\">TensorFlow Transform</a> (`tf.Transform`) 预处理数据，此示例使用完全相同的代码训练模型和在生产环境中应用推断。\n",
        "\n",
        "TensorFlow Transform 是一个用于预处理 TensorFlow 输入数据的库，包括创建需要在训练数据集上进行完整传递的特征。利用 TensorFlow Transform，您可以：\n",
        "\n",
        "- 使用平均值和标准差归一化输入值\n",
        "- 通过在所有输入值上生成词汇将字符串转换为整数\n",
        "- 根据观测到的数据分布，通过分配给桶将浮点数转换为整数\n",
        "\n",
        "TensorFlow 内置了对在单个样本或一批样本上进行操作的支持。`tf.Transform` 扩展了这些功能，支持在整个训练数据集上进行完整传递。\n",
        "\n",
        "`tf.Transform` 的输出将导出为可用于训练和应用的 TensorFlow 计算图。将同一个计算图用于训练和应用可以避免偏差，因为会在两个阶段应用相同的转换。\n",
        "\n",
        "要点：要了解 `tf.Transform` 以及它如何与 Apache Beam 配合使用，您需要对 Apache Beam 有所了解。最好是从<a target=\"_blank\" href=\"https://beam.apache.org/documentation/programming-guide/\">Beam 编程指南</a>开始着手。"
      ]
    },
    {
      "cell_type": "markdown",
      "metadata": {
        "id": "_tQUubddMvnP"
      },
      "source": [
        "##我们在此示例中执行的操作\n",
        "\n",
        "在此示例中，我们将处理<a target=\"_blank\" href=\"https://archive.ics.uci.edu/ml/machine-learning-databases/adult\">包含人口普查数据的广泛使用的数据集</a>，并训练模型进行分类。在这个过程中，我们将使用 `tf.Transform` 转换数据。\n",
        "\n",
        "要点：作为模型创建者和开发者，思考如何使用这些数据以及模型预测的潜在好处和危害。此类模型可能会加剧社会偏见和差距。某个特征与您要解决的问题相关，还是会引入偏差？有关更多信息，请阅读 <a target=\"_blank\" href=\"https://developers.google.com/machine-learning/fairness-overview/\">ML 公平性</a>。\n",
        "\n",
        "注：<a target=\"_blank\" href=\"https://tensorflow.google.cn/tfx/model_analysis\">TensorFlow Model Analysis</a> 是了解模型对数据各个部分的预测能力的强大工具，包括了解模型如何加剧社会偏见和差距。"
      ]
    },
    {
      "cell_type": "markdown",
      "metadata": {
        "id": "OeonII4omTr1"
      },
      "source": [
        "### 安装 TensorFlow Transform\n"
      ]
    },
    {
      "cell_type": "code",
      "execution_count": null,
      "metadata": {
        "id": "9Ak6XDO5mT3m"
      },
      "outputs": [],
      "source": [
        "!pip install tensorflow-transform"
      ]
    },
    {
      "cell_type": "code",
      "execution_count": null,
      "metadata": {
        "id": "R0mXLOJR_-dv"
      },
      "outputs": [],
      "source": [
        "# This cell is only necessary because packages were installed while python was\n",
        "# running. It avoids the need to restart the runtime when running in Colab.\n",
        "import pkg_resources\n",
        "import importlib\n",
        "\n",
        "importlib.reload(pkg_resources)"
      ]
    },
    {
      "cell_type": "markdown",
      "metadata": {
        "id": "RptgLn2RYuK3"
      },
      "source": [
        "## 导入和全局\n",
        "\n",
        "首先导入我们需要的东西。"
      ]
    },
    {
      "cell_type": "code",
      "execution_count": null,
      "metadata": {
        "id": "K4QXVIM7iglN"
      },
      "outputs": [],
      "source": [
        "import math\n",
        "import os\n",
        "import pprint\n",
        "\n",
        "import pandas as pd\n",
        "import matplotlib.pyplot as plt\n",
        "\n",
        "import tensorflow as tf\n",
        "print('TF: {}'.format(tf.__version__))\n",
        "\n",
        "import apache_beam as beam\n",
        "print('Beam: {}'.format(beam.__version__))\n",
        "\n",
        "import tensorflow_transform as tft\n",
        "import tensorflow_transform.beam as tft_beam\n",
        "print('Transform: {}'.format(tft.__version__))\n",
        "\n",
        "from tfx_bsl.public import tfxio\n",
        "from tfx_bsl.coders.example_coder import RecordBatchToExamples"
      ]
    },
    {
      "cell_type": "markdown",
      "metadata": {
        "id": "sutRmRNSGT5p"
      },
      "source": [
        "接下来下载数据文件："
      ]
    },
    {
      "cell_type": "code",
      "execution_count": null,
      "metadata": {
        "id": "mKEYRl2g_vzl"
      },
      "outputs": [],
      "source": [
        "!wget https://storage.googleapis.com/artifacts.tfx-oss-public.appspot.com/datasets/census/adult.data\n",
        "!wget https://storage.googleapis.com/artifacts.tfx-oss-public.appspot.com/datasets/census/adult.test\n",
        "\n",
        "train_path = './adult.data'\n",
        "test_path = './adult.test'"
      ]
    },
    {
      "cell_type": "markdown",
      "metadata": {
        "id": "CxOxaaOYRfl7"
      },
      "source": [
        "### 为列命名\n",
        "\n",
        "我们将创建一些方便的列表来引用数据集中的列。"
      ]
    },
    {
      "cell_type": "code",
      "execution_count": null,
      "metadata": {
        "id": "-bsr1nLHqyg_"
      },
      "outputs": [],
      "source": [
        "CATEGORICAL_FEATURE_KEYS = [\n",
        "    'workclass',\n",
        "    'education',\n",
        "    'marital-status',\n",
        "    'occupation',\n",
        "    'relationship',\n",
        "    'race',\n",
        "    'sex',\n",
        "    'native-country',\n",
        "]\n",
        "\n",
        "NUMERIC_FEATURE_KEYS = [\n",
        "    'age',\n",
        "    'capital-gain',\n",
        "    'capital-loss',\n",
        "    'hours-per-week',\n",
        "    'education-num'\n",
        "]\n",
        "\n",
        "ORDERED_CSV_COLUMNS = [\n",
        "    'age', 'workclass', 'fnlwgt', 'education', 'education-num',\n",
        "    'marital-status', 'occupation', 'relationship', 'race', 'sex',\n",
        "    'capital-gain', 'capital-loss', 'hours-per-week', 'native-country', 'label'\n",
        "]\n",
        "\n",
        "LABEL_KEY = 'label'"
      ]
    },
    {
      "cell_type": "markdown",
      "metadata": {
        "id": "R52dXlw0G0CN"
      },
      "source": [
        "以下是数据的快速预览："
      ]
    },
    {
      "cell_type": "code",
      "execution_count": null,
      "metadata": {
        "id": "312cQ5vwGjOu"
      },
      "outputs": [],
      "source": [
        "pandas_train = pd.read_csv(train_path, header=None, names=ORDERED_CSV_COLUMNS)\n",
        "\n",
        "pandas_train.head(5)"
      ]
    },
    {
      "cell_type": "code",
      "execution_count": null,
      "metadata": {
        "id": "zzjzjR3351j0"
      },
      "outputs": [],
      "source": [
        "one_row = dict(pandas_train.loc[0])"
      ]
    },
    {
      "cell_type": "code",
      "execution_count": null,
      "metadata": {
        "id": "zk2b8IPd4uPr"
      },
      "outputs": [],
      "source": [
        "COLUMN_DEFAULTS = [\n",
        "  '' if isinstance(v, str) else 0.0\n",
        "  for v in  dict(pandas_train.loc[1]).values()]"
      ]
    },
    {
      "cell_type": "markdown",
      "metadata": {
        "id": "LefAguV5ICMc"
      },
      "source": [
        "测试数据有 1 个需要跳过的标题行，在每一行的结尾还有一个尾随“.”。"
      ]
    },
    {
      "cell_type": "code",
      "execution_count": null,
      "metadata": {
        "id": "RasgDIUKHCpV"
      },
      "outputs": [],
      "source": [
        "pandas_test = pd.read_csv(test_path, header=1, names=ORDERED_CSV_COLUMNS)\n",
        "\n",
        "pandas_test.head(5)"
      ]
    },
    {
      "cell_type": "code",
      "execution_count": null,
      "metadata": {
        "id": "s9aH5ZnDdD_z"
      },
      "outputs": [],
      "source": [
        "testing = os.getenv(\"WEB_TEST_BROWSER\", False)\n",
        "if testing:\n",
        "  pandas_train = pandas_train.loc[:1]\n",
        "  pandas_test = pandas_test.loc[:1]"
      ]
    },
    {
      "cell_type": "markdown",
      "metadata": {
        "id": "qtTn4at8rurk"
      },
      "source": [
        "###定义特征和架构<br>我们根据输入中列的类型来定义一个架构。这将有助于正确导入它们，也将惠及其他操作。"
      ]
    },
    {
      "cell_type": "code",
      "execution_count": null,
      "metadata": {
        "id": "5oS2RfyCrzMr"
      },
      "outputs": [],
      "source": [
        "RAW_DATA_FEATURE_SPEC = dict(\n",
        "    [(name, tf.io.FixedLenFeature([], tf.string))\n",
        "     for name in CATEGORICAL_FEATURE_KEYS] +\n",
        "    [(name, tf.io.FixedLenFeature([], tf.float32))\n",
        "     for name in NUMERIC_FEATURE_KEYS] + \n",
        "    [(LABEL_KEY, tf.io.FixedLenFeature([], tf.string))]\n",
        ")\n",
        "\n",
        "SCHEMA = tft.DatasetMetadata.from_feature_spec(RAW_DATA_FEATURE_SPEC).schema"
      ]
    },
    {
      "cell_type": "markdown",
      "metadata": {
        "id": "_j6M7ObpaLHi"
      },
      "source": [
        "### [可选] 编码和解码 tf.train.Example 原型"
      ]
    },
    {
      "cell_type": "markdown",
      "metadata": {
        "id": "rgGO9-GkZ5Kv"
      },
      "source": [
        "本教程需要在几个地方将数据集中的示例与 `tf.train.Example` 原型相互转换。\n",
        "\n",
        "下面隐藏的 `encode_example` 函数将数据集中的特征字典转换为 `tf.train.Example`。"
      ]
    },
    {
      "cell_type": "code",
      "execution_count": null,
      "metadata": {
        "id": "Wbhndy7uWqYp"
      },
      "outputs": [],
      "source": [
        "#@title\n",
        "def encode_example(input_features):\n",
        "  input_features = dict(input_features)\n",
        "  output_features = {}\n",
        "  \n",
        "  for key in CATEGORICAL_FEATURE_KEYS:\n",
        "    value = input_features[key]\n",
        "    feature = tf.train.Feature(\n",
        "        bytes_list=tf.train.BytesList(value=[value.strip().encode()]))\n",
        "    output_features[key] = feature \n",
        "\n",
        "  for key in NUMERIC_FEATURE_KEYS:\n",
        "    value = input_features[key]\n",
        "    feature = tf.train.Feature(\n",
        "        float_list=tf.train.FloatList(value=[value]))\n",
        "    output_features[key] = feature \n",
        "\n",
        "  label_value = input_features.get(LABEL_KEY, None)\n",
        "  if label_value is not None:\n",
        "    output_features[LABEL_KEY]  = tf.train.Feature(\n",
        "        bytes_list = tf.train.BytesList(value=[label_value.strip().encode()]))\n",
        "\n",
        "  example = tf.train.Example(\n",
        "      features = tf.train.Features(feature=output_features)\n",
        "  )\n",
        "  return example"
      ]
    },
    {
      "cell_type": "markdown",
      "metadata": {
        "id": "4qx7fSVmmwIQ"
      },
      "source": [
        "现在，您可以将数据集示例转换为 `Example` 原型："
      ]
    },
    {
      "cell_type": "code",
      "execution_count": null,
      "metadata": {
        "id": "sWd95yxJceXy"
      },
      "outputs": [],
      "source": [
        "tf_example = encode_example(pandas_train.loc[0])\n",
        "tf_example.features.feature['age']"
      ]
    },
    {
      "cell_type": "code",
      "execution_count": null,
      "metadata": {
        "id": "EutF2aPXbAUd"
      },
      "outputs": [],
      "source": [
        "serialized_example_batch = tf.constant([\n",
        "  encode_example(pandas_train.loc[i]).SerializeToString()\n",
        "  for i in range(3)\n",
        "])\n",
        "\n",
        "serialized_example_batch"
      ]
    },
    {
      "cell_type": "markdown",
      "metadata": {
        "id": "DTqlJcI_m6az"
      },
      "source": [
        "您还可以将成批的序列化 Example 原型转换回张量字典："
      ]
    },
    {
      "cell_type": "code",
      "execution_count": null,
      "metadata": {
        "id": "jXlrur1vc4n_"
      },
      "outputs": [],
      "source": [
        "decoded_tensors = tf.io.parse_example(\n",
        "    serialized_example_batch,\n",
        "    features=RAW_DATA_FEATURE_SPEC\n",
        ")"
      ]
    },
    {
      "cell_type": "markdown",
      "metadata": {
        "id": "eUAcdCrEdDe3"
      },
      "source": [
        "在某些情况下不会传入标签，所以我们编写了 encode 函数，以便标签可选："
      ]
    },
    {
      "cell_type": "code",
      "execution_count": null,
      "metadata": {
        "id": "EEt3nPr_o59f"
      },
      "outputs": [],
      "source": [
        "features_dict = dict(pandas_train.loc[0])\n",
        "features_dict.pop(LABEL_KEY)\n",
        "\n",
        "LABEL_KEY in features_dict"
      ]
    },
    {
      "cell_type": "markdown",
      "metadata": {
        "id": "O0yqvsHtpDdX"
      },
      "source": [
        "创建 `Example` 原型时，它根本不包含标签键。 "
      ]
    },
    {
      "cell_type": "code",
      "execution_count": null,
      "metadata": {
        "id": "7N5FMXO7dRzM"
      },
      "outputs": [],
      "source": [
        "no_label_example = encode_example(features_dict)\n",
        "\n",
        "LABEL_KEY in no_label_example.features.feature.keys()"
      ]
    },
    {
      "cell_type": "markdown",
      "metadata": {
        "id": "zdXy9lo4t45d"
      },
      "source": [
        "###设置超参数和基本内务管理\n",
        "\n",
        "用于训练的常量和超参数。"
      ]
    },
    {
      "cell_type": "code",
      "execution_count": null,
      "metadata": {
        "id": "8WHyOkC9uL71"
      },
      "outputs": [],
      "source": [
        "NUM_OOV_BUCKETS = 1\n",
        "\n",
        "EPOCH_SPLITS = 10\n",
        "TRAIN_NUM_EPOCHS = 2*EPOCH_SPLITS\n",
        "NUM_TRAIN_INSTANCES = len(pandas_train)\n",
        "NUM_TEST_INSTANCES = len(pandas_test)\n",
        "\n",
        "BATCH_SIZE = 128\n",
        "\n",
        "STEPS_PER_TRAIN_EPOCH = tf.math.ceil(NUM_TRAIN_INSTANCES/BATCH_SIZE/EPOCH_SPLITS)\n",
        "EVALUATION_STEPS = tf.math.ceil(NUM_TEST_INSTANCES/BATCH_SIZE)\n",
        "\n",
        "# Names of temp files\n",
        "TRANSFORMED_TRAIN_DATA_FILEBASE = 'train_transformed'\n",
        "TRANSFORMED_TEST_DATA_FILEBASE = 'test_transformed'\n",
        "EXPORTED_MODEL_DIR = 'exported_model_dir'"
      ]
    },
    {
      "cell_type": "code",
      "execution_count": null,
      "metadata": {
        "id": "lG2uO-88c6R9"
      },
      "outputs": [],
      "source": [
        "if testing:\n",
        "  TRAIN_NUM_EPOCHS = 1"
      ]
    },
    {
      "cell_type": "markdown",
      "metadata": {
        "id": "0a1ns5KswDb2"
      },
      "source": [
        "##使用 `tf.Transform` 进行预处理"
      ]
    },
    {
      "cell_type": "markdown",
      "metadata": {
        "id": "KKd3mCLNVYmg"
      },
      "source": [
        "###创建一个 `tf.Transform` preprocessing_fn<br>*预处理函数*是 tf.Transform 最重要的概念。预处理函数是真正发生数据集转换的地方。它接受并返回一个张量字典，其中张量是指 [`Tensor`](https://tensorflow.google.cn/versions/r1.15/api_docs/python/tf/Tensor) 或 [`SparseTensor`](https://tensorflow.google.cn/versions/r1.15/api_docs/python/tf/SparseTensor)。有两组主要的 API 调用，它们通常构成预处理函数的核心：\n",
        "\n",
        "1. **TensorFlow 运算**：接受并返回张量的任何函数，通常是指 TensorFlow 运算。这些函数会将 TensorFlow 运算添加到计算图中，计算图能够以每次一个特征向量的方式转换原始数据。在训练和应用期间，将为每个样本运行这种转换。\n",
        "2. **TensorFlow Transform 分析器/映射器**：tf.Transform 提供的任何分析器/映射器。它们也接受并返回张量，并且通常包含 TensorFlow 运算和 Beam 计算的组合，但与 TensorFlow 运算不同的是，它们仅在需要对整个训练数据集进行完整传递的分析期间在 Beam 流水线中运行。Beam 计算只运行一次（在训练之前，分析期间运行），且通常会对整个训练数据集进行一次完整传递。它们会创建 `tf.constant` 张量，并将其添加到您的计算图中。例如，`tft.min` 计算训练数据集上张量的最小值。\n",
        "\n",
        "警告：将预处理函数用于应用推断时，分析器在训练过程中创建的常量不会更改。如果您的数据包含趋势或季节性分量，请相应地制定计划。\n"
      ]
    },
    {
      "cell_type": "markdown",
      "metadata": {
        "id": "DZopPfpaH4sB"
      },
      "source": [
        "这是此数据集的 `preprocessing_fn`。其用于执行几项操作：\n",
        "\n",
        "1. 使用 `tft.scale_to_0_1` 将数字特征缩放到 `[0,1]` 范围。\n",
        "2. 使用 `tft.compute_and_apply_vocabulary` 计算每个分类特征的词汇表，并将每个输入的整数 ID 作为 `tf.int64` 返回。这适用于字符串和整数分类输入。\n",
        "3. 使用标准 TensorFlow 运算对数据进行一些手动转换。在此处，这些运算应用于标签，但也可以转换特征。TensorFlow 运算实现几个目标：\n",
        "    - 为标签构建查找表（`tf.init_scope` 确保仅在第一次调用函数时创建该表）。\n",
        "    - 规范化标签的文本。\n",
        "    - 将标签转换为 one-hot。\n"
      ]
    },
    {
      "cell_type": "code",
      "execution_count": null,
      "metadata": {
        "id": "LDrzuYH0WFc2"
      },
      "outputs": [],
      "source": [
        "def preprocessing_fn(inputs):\n",
        "  \"\"\"Preprocess input columns into transformed columns.\"\"\"\n",
        "  # Since we are modifying some features and leaving others unchanged, we\n",
        "  # start by setting `outputs` to a copy of `inputs.\n",
        "  outputs = inputs.copy()\n",
        "\n",
        "  # Scale numeric columns to have range [0, 1].\n",
        "  for key in NUMERIC_FEATURE_KEYS:\n",
        "    outputs[key] = tft.scale_to_0_1(inputs[key])\n",
        "\n",
        "  # For all categorical columns except the label column, we generate a\n",
        "  # vocabulary but do not modify the feature.  This vocabulary is instead\n",
        "  # used in the trainer, by means of a feature column, to convert the feature\n",
        "  # from a string to an integer id.\n",
        "  for key in CATEGORICAL_FEATURE_KEYS:\n",
        "    outputs[key] = tft.compute_and_apply_vocabulary(\n",
        "        tf.strings.strip(inputs[key]),\n",
        "        num_oov_buckets=NUM_OOV_BUCKETS,\n",
        "        vocab_filename=key)\n",
        "\n",
        "  # For the label column we provide the mapping from string to index.\n",
        "  table_keys = ['>50K', '<=50K']\n",
        "  with tf.init_scope():\n",
        "    initializer = tf.lookup.KeyValueTensorInitializer(\n",
        "        keys=table_keys,\n",
        "        values=tf.cast(tf.range(len(table_keys)), tf.int64),\n",
        "        key_dtype=tf.string,\n",
        "        value_dtype=tf.int64)\n",
        "    table = tf.lookup.StaticHashTable(initializer, default_value=-1)\n",
        "\n",
        "  # Remove trailing periods for test data when the data is read with tf.data.\n",
        "  # label_str  = tf.sparse.to_dense(inputs[LABEL_KEY])\n",
        "  label_str = inputs[LABEL_KEY]\n",
        "  label_str = tf.strings.regex_replace(label_str, r'\\.$', '')\n",
        "  label_str = tf.strings.strip(label_str)\n",
        "  data_labels = table.lookup(label_str)\n",
        "  transformed_label = tf.one_hot(\n",
        "      indices=data_labels, depth=len(table_keys), on_value=1.0, off_value=0.0)\n",
        "  outputs[LABEL_KEY] = tf.reshape(transformed_label, [-1, len(table_keys)])\n",
        "\n",
        "  return outputs"
      ]
    },
    {
      "cell_type": "markdown",
      "metadata": {
        "id": "sA1Eg2JXFzzZ"
      },
      "source": [
        "## 语法\n",
        "\n",
        "您几乎已准备好将所有内容放在一起并使用 <a target=\"_blank\" href=\"https://beam.apache.org/\">Apache Beam</a> 运行它。\n",
        "\n",
        "Apache Beam 使用<a target=\"_blank\" href=\"https://beam.apache.org/documentation/programming-guide/#applying-transforms\">特殊的语法定义和调用转换</a>。例如，在这一行中：\n",
        "\n",
        "```\n",
        "result = pass_this | 'name this step' >> to_this_call\n",
        "```\n",
        "\n",
        "方法 <code>to_this_call</code> 正在被调用并传递给名为 <code>pass_this</code> 的对象，<a target=\"_blank\" href=\"https://stackoverflow.com/questions/50519662/what-does-the-redirection-mean-in-apache-beam-python\">在堆栈跟踪中，此运算被称为 <code>name this step</code></a>。调用 <code>to_this_call</code> 的结果将在 <code>result</code> 中返回。您经常会看到流水线的各个阶段像这样链接在一起：\n",
        "\n",
        "```\n",
        "result = apache_beam.Pipeline() | 'first step' >> do_this_first() | 'second step' >> do_this_last()\n",
        "```\n",
        "\n",
        "由于这是从一个新的流水线开始的，因此您可以按以下方式继续：\n",
        "\n",
        "```\n",
        "next_result = result | 'doing more stuff' >> another_function()\n",
        "```"
      ]
    },
    {
      "cell_type": "markdown",
      "metadata": {
        "id": "rgAGOAdFWRn2"
      },
      "source": [
        "### 转换数据\n",
        "\n",
        "现在，我们准备开始在 Apache Beam 流水线中转换数据。\n",
        "\n",
        "1. 使用 `tfxio.CsvTFXIO` CSV 读取器读入数据（要处理流水线中的文本行，请改用 `tfxio.BeamRecordCsvTFXIO`）。\n",
        "2. 使用上面定义的 `preprocessing_fn` 分析和转换数据。\n",
        "3. 将结果作为 `Example` proto 的 `TFRecord` 写出来，我们稍后会使用它来训练模型\n"
      ]
    },
    {
      "cell_type": "code",
      "execution_count": null,
      "metadata": {
        "id": "PCeYucVoRRfo"
      },
      "outputs": [],
      "source": [
        "def transform_data(train_data_file, test_data_file, working_dir):\n",
        "  \"\"\"Transform the data and write out as a TFRecord of Example protos.\n",
        "\n",
        "  Read in the data using the CSV reader, and transform it using a\n",
        "  preprocessing pipeline that scales numeric data and converts categorical data\n",
        "  from strings to int64 values indices, by creating a vocabulary for each\n",
        "  category.\n",
        "\n",
        "  Args:\n",
        "    train_data_file: File containing training data\n",
        "    test_data_file: File containing test data\n",
        "    working_dir: Directory to write transformed data and metadata to\n",
        "  \"\"\"\n",
        "\n",
        "  # The \"with\" block will create a pipeline, and run that pipeline at the exit\n",
        "  # of the block.\n",
        "  with beam.Pipeline() as pipeline:\n",
        "    with tft_beam.Context(temp_dir=tempfile.mkdtemp()):\n",
        "      # Create a TFXIO to read the census data with the schema. To do this we\n",
        "      # need to list all columns in order since the schema doesn't specify the\n",
        "      # order of columns in the csv.\n",
        "      # We first read CSV files and use BeamRecordCsvTFXIO whose .BeamSource()\n",
        "      # accepts a PCollection[bytes] because we need to patch the records first\n",
        "      # (see \"FixCommasTrainData\" below). Otherwise, tfxio.CsvTFXIO can be used\n",
        "      # to both read the CSV files and parse them to TFT inputs:\n",
        "      # csv_tfxio = tfxio.CsvTFXIO(...)\n",
        "      # raw_data = (pipeline | 'ToRecordBatches' >> csv_tfxio.BeamSource())\n",
        "      train_csv_tfxio = tfxio.CsvTFXIO(\n",
        "          file_pattern=train_data_file,\n",
        "          telemetry_descriptors=[],\n",
        "          column_names=ORDERED_CSV_COLUMNS,\n",
        "          schema=SCHEMA)\n",
        "\n",
        "      # Read in raw data and convert using CSV TFXIO.\n",
        "      raw_data = (\n",
        "          pipeline |\n",
        "          'ReadTrainCsv' >> train_csv_tfxio.BeamSource())\n",
        "\n",
        "      # Combine data and schema into a dataset tuple.  Note that we already used\n",
        "      # the schema to read the CSV data, but we also need it to interpret\n",
        "      # raw_data.\n",
        "      cfg = train_csv_tfxio.TensorAdapterConfig()\n",
        "      raw_dataset = (raw_data, cfg)\n",
        "\n",
        "      # The TFXIO output format is chosen for improved performance.\n",
        "      transformed_dataset, transform_fn = (\n",
        "          raw_dataset | tft_beam.AnalyzeAndTransformDataset(\n",
        "              preprocessing_fn, output_record_batches=True))\n",
        "\n",
        "      # Transformed metadata is not necessary for encoding.\n",
        "      transformed_data, _ = transformed_dataset\n",
        "\n",
        "      # Extract transformed RecordBatches, encode and write them to the given\n",
        "      # directory.\n",
        "      # TODO(b/223384488): Switch to `RecordBatchToExamplesEncoder`.\n",
        "      _ = (\n",
        "          transformed_data\n",
        "          | 'EncodeTrainData' >>\n",
        "          beam.FlatMapTuple(lambda batch, _: RecordBatchToExamples(batch))\n",
        "          | 'WriteTrainData' >> beam.io.WriteToTFRecord(\n",
        "              os.path.join(working_dir, TRANSFORMED_TRAIN_DATA_FILEBASE)))\n",
        "\n",
        "      # Now apply transform function to test data.  In this case we remove the\n",
        "      # trailing period at the end of each line, and also ignore the header line\n",
        "      # that is present in the test data file.\n",
        "      test_csv_tfxio = tfxio.CsvTFXIO(\n",
        "          file_pattern=test_data_file,\n",
        "          skip_header_lines=1,\n",
        "          telemetry_descriptors=[],\n",
        "          column_names=ORDERED_CSV_COLUMNS,\n",
        "          schema=SCHEMA)\n",
        "      raw_test_data = (\n",
        "          pipeline\n",
        "          | 'ReadTestCsv' >> test_csv_tfxio.BeamSource())\n",
        "\n",
        "      raw_test_dataset = (raw_test_data, test_csv_tfxio.TensorAdapterConfig())\n",
        "\n",
        "      # The TFXIO output format is chosen for improved performance.\n",
        "      transformed_test_dataset = (\n",
        "          (raw_test_dataset, transform_fn)\n",
        "          | tft_beam.TransformDataset(output_record_batches=True))\n",
        "\n",
        "      # Transformed metadata is not necessary for encoding.\n",
        "      transformed_test_data, _ = transformed_test_dataset\n",
        "\n",
        "      # Extract transformed RecordBatches, encode and write them to the given\n",
        "      # directory.\n",
        "      _ = (\n",
        "          transformed_test_data\n",
        "          | 'EncodeTestData' >>\n",
        "          beam.FlatMapTuple(lambda batch, _: RecordBatchToExamples(batch))\n",
        "          | 'WriteTestData' >> beam.io.WriteToTFRecord(\n",
        "              os.path.join(working_dir, TRANSFORMED_TEST_DATA_FILEBASE)))\n",
        "\n",
        "      # Will write a SavedModel and metadata to working_dir, which can then\n",
        "      # be read by the tft.TFTransformOutput class.\n",
        "      _ = (\n",
        "          transform_fn\n",
        "          | 'WriteTransformFn' >> tft_beam.WriteTransformFn(working_dir))"
      ]
    },
    {
      "cell_type": "markdown",
      "metadata": {
        "id": "huaj5EgCVRD9"
      },
      "source": [
        "运行流水线："
      ]
    },
    {
      "cell_type": "code",
      "execution_count": null,
      "metadata": {
        "id": "pjC7eDWFyA8K"
      },
      "outputs": [],
      "source": [
        "import tempfile\n",
        "import pathlib\n",
        "\n",
        "output_dir = os.path.join(tempfile.mkdtemp(), 'keras')\n",
        "\n",
        "\n",
        "transform_data(train_path, test_path, output_dir)"
      ]
    },
    {
      "cell_type": "markdown",
      "metadata": {
        "id": "iqln2AClsA0z"
      },
      "source": [
        "将输出目录封装为 `tft.TFTransformOutput`："
      ]
    },
    {
      "cell_type": "code",
      "execution_count": null,
      "metadata": {
        "id": "FXd4Mgj6sAGB"
      },
      "outputs": [],
      "source": [
        "tf_transform_output = tft.TFTransformOutput(output_dir)"
      ]
    },
    {
      "cell_type": "code",
      "execution_count": null,
      "metadata": {
        "id": "59hNe7oY9vqG"
      },
      "outputs": [],
      "source": [
        "tf_transform_output.transformed_feature_spec()"
      ]
    },
    {
      "cell_type": "markdown",
      "metadata": {
        "id": "oBBlL2EIVVF8"
      },
      "source": [
        "如果您查看该目录，则会看到它包含三个内容：\n",
        "\n",
        "1. `train_transformed` 和 `test_transformed` 数据文件\n",
        "2. `transform_fn` 目录 (`tf.saved_model`)\n",
        "3. transformed_metadata\n",
        "\n",
        "以下部分显示如何使用这些工件来训练模型。"
      ]
    },
    {
      "cell_type": "code",
      "execution_count": null,
      "metadata": {
        "id": "NG6nrHEP2L65"
      },
      "outputs": [],
      "source": [
        "!ls -l {output_dir}"
      ]
    },
    {
      "cell_type": "markdown",
      "metadata": {
        "id": "TnaMyRMJ03bR"
      },
      "source": [
        "##使用预处理数据通过 tf.keras 训练模型\n",
        "\n",
        "为了展示 `tf.Transform` 如何使我们能够将相同的代码用于训练和应用，进而避免偏差，我们将训练一个模型。要训​​练模型并为生产环境准备经过训练的模型，我们需要创建输入函数。训练输入函数与应用输入函数之间的主要区别在于，训练数据包含标签，而生产数据则不包含标签。两者的参数和返回值也有所不同。"
      ]
    },
    {
      "cell_type": "markdown",
      "metadata": {
        "id": "M8xCZKNc2wAS"
      },
      "source": [
        "###创建训练输入函数"
      ]
    },
    {
      "cell_type": "markdown",
      "metadata": {
        "id": "StezlX-Uv0ae"
      },
      "source": [
        "运行上一部分中的流水线会创建 `TFRecord` 文件，其中包含转换后的数据。\n",
        "\n",
        "以下代码使用 `tf.data.experimental.make_batched_features_dataset` 和 `tft.TFTransformOutput.transformed_feature_spec` 将这些数据文件读取为 `tf.data.Dataset`："
      ]
    },
    {
      "cell_type": "code",
      "execution_count": null,
      "metadata": {
        "id": "775Y7BTpHBmb"
      },
      "outputs": [],
      "source": [
        "def _make_training_input_fn(tf_transform_output, train_file_pattern,\n",
        "                            batch_size):\n",
        "  \"\"\"An input function reading from transformed data, converting to model input.\n",
        "\n",
        "  Args:\n",
        "    tf_transform_output: Wrapper around output of tf.Transform.\n",
        "    transformed_examples: Base filename of examples.\n",
        "    batch_size: Batch size.\n",
        "\n",
        "  Returns:\n",
        "    The input data for training or eval, in the form of k.\n",
        "  \"\"\"\n",
        "  def input_fn():\n",
        "    return tf.data.experimental.make_batched_features_dataset(\n",
        "        file_pattern=train_file_pattern,\n",
        "        batch_size=batch_size,\n",
        "        features=tf_transform_output.transformed_feature_spec(),\n",
        "        reader=tf.data.TFRecordDataset,\n",
        "        label_key=LABEL_KEY,\n",
        "        shuffle=True)\n",
        "\n",
        "  return input_fn"
      ]
    },
    {
      "cell_type": "code",
      "execution_count": null,
      "metadata": {
        "id": "-b8BgvBvkCnX"
      },
      "outputs": [],
      "source": [
        "train_file_pattern = pathlib.Path(output_dir)/f'{TRANSFORMED_TRAIN_DATA_FILEBASE}*'\n",
        "\n",
        "input_fn = _make_training_input_fn(\n",
        "    tf_transform_output=tf_transform_output,\n",
        "    train_file_pattern = str(train_file_pattern),\n",
        "    batch_size = 10\n",
        ")"
      ]
    },
    {
      "cell_type": "markdown",
      "metadata": {
        "id": "Q0PwPLBqxsg2"
      },
      "source": [
        "您可以在下面看到转换后的数据示例。请注意，`education-num` 和 `hourd-per-week` 这样的数字列已转换为范围为 [0,1] 的浮点数，而字符串列已转换为 ID："
      ]
    },
    {
      "cell_type": "code",
      "execution_count": null,
      "metadata": {
        "id": "SpiS26IWlD-1"
      },
      "outputs": [],
      "source": [
        "for example, label in input_fn().take(1):\n",
        "  break\n",
        "\n",
        "pd.DataFrame(example)"
      ]
    },
    {
      "cell_type": "code",
      "execution_count": null,
      "metadata": {
        "id": "yaMzMnij88_v"
      },
      "outputs": [],
      "source": [
        "label"
      ]
    },
    {
      "cell_type": "markdown",
      "metadata": {
        "id": "LyNTX7CO8AAz"
      },
      "source": [
        "### 训练、评估模型"
      ]
    },
    {
      "cell_type": "markdown",
      "metadata": {
        "id": "hdg9jXuLWuyK"
      },
      "source": [
        "构建模型"
      ]
    },
    {
      "cell_type": "code",
      "execution_count": null,
      "metadata": {
        "id": "uK4brUuDTAJ4"
      },
      "outputs": [],
      "source": [
        "def build_keras_model(working_dir):\n",
        "  inputs = build_keras_inputs(working_dir)\n",
        "\n",
        "  encoded_inputs = encode_inputs(inputs)\n",
        "\n",
        "  stacked_inputs = tf.concat(tf.nest.flatten(encoded_inputs), axis=1)\n",
        "  output = tf.keras.layers.Dense(100, activation='relu')(stacked_inputs)\n",
        "  output = tf.keras.layers.Dense(50, activation='relu')(output)\n",
        "  output = tf.keras.layers.Dense(2)(output)\n",
        "  model = tf.keras.Model(inputs=inputs, outputs=output)\n",
        "\n",
        "  return model"
      ]
    },
    {
      "cell_type": "code",
      "execution_count": null,
      "metadata": {
        "id": "6fJwIbdCRFER"
      },
      "outputs": [],
      "source": [
        "def build_keras_inputs(working_dir):\n",
        "  tf_transform_output = tft.TFTransformOutput(working_dir)\n",
        "\n",
        "  feature_spec = tf_transform_output.transformed_feature_spec().copy()\n",
        "  feature_spec.pop(LABEL_KEY)\n",
        "\n",
        "  # Build the `keras.Input` objects.\n",
        "  inputs = {}\n",
        "  for key, spec in feature_spec.items():\n",
        "    if isinstance(spec, tf.io.VarLenFeature):\n",
        "      inputs[key] = tf.keras.layers.Input(\n",
        "          shape=[None], name=key, dtype=spec.dtype, sparse=True)\n",
        "    elif isinstance(spec, tf.io.FixedLenFeature):\n",
        "      inputs[key] = tf.keras.layers.Input(\n",
        "          shape=spec.shape, name=key, dtype=spec.dtype)\n",
        "    else:\n",
        "      raise ValueError('Spec type is not supported: ', key, spec)\n",
        "\n",
        "  return inputs"
      ]
    },
    {
      "cell_type": "code",
      "execution_count": null,
      "metadata": {
        "id": "9dHD5SoqRqOh"
      },
      "outputs": [],
      "source": [
        "def encode_inputs(inputs):\n",
        "  encoded_inputs = {}\n",
        "  for key in inputs:\n",
        "    feature = tf.expand_dims(inputs[key], -1)\n",
        "    if key in CATEGORICAL_FEATURE_KEYS:\n",
        "      num_buckets = tf_transform_output.num_buckets_for_transformed_feature(key)\n",
        "      encoding_layer = (\n",
        "          tf.keras.layers.CategoryEncoding(\n",
        "              num_tokens=num_buckets, output_mode='binary', sparse=False))\n",
        "      encoded_inputs[key] = encoding_layer(feature)\n",
        "    else:\n",
        "      encoded_inputs[key] = feature\n",
        "  \n",
        "  return encoded_inputs"
      ]
    },
    {
      "cell_type": "code",
      "execution_count": null,
      "metadata": {
        "id": "5xNhSq8lTTx3"
      },
      "outputs": [],
      "source": [
        "model = build_keras_model(output_dir)\n",
        "\n",
        "tf.keras.utils.plot_model(model,rankdir='LR', show_shapes=True)"
      ]
    },
    {
      "cell_type": "markdown",
      "metadata": {
        "id": "kQSpw_XzXVn1"
      },
      "source": [
        "构建数据集"
      ]
    },
    {
      "cell_type": "code",
      "execution_count": null,
      "metadata": {
        "id": "afi3NOC0OMUa"
      },
      "outputs": [],
      "source": [
        "def get_dataset(working_dir, filebase):\n",
        "  tf_transform_output = tft.TFTransformOutput(working_dir)\n",
        "\n",
        "  data_path_pattern = os.path.join(\n",
        "      working_dir,\n",
        "      filebase + '*')\n",
        "  \n",
        "  input_fn = _make_training_input_fn(\n",
        "      tf_transform_output,\n",
        "      data_path_pattern,\n",
        "      batch_size=BATCH_SIZE)\n",
        "  \n",
        "  dataset = input_fn()\n",
        "\n",
        "  return dataset"
      ]
    },
    {
      "cell_type": "markdown",
      "metadata": {
        "id": "-fE_3jyzX_h2"
      },
      "source": [
        "训练并评估模型："
      ]
    },
    {
      "cell_type": "code",
      "execution_count": null,
      "metadata": {
        "id": "6i_lhWH8IZrk"
      },
      "outputs": [],
      "source": [
        "def train_and_evaluate(\n",
        "    model,\n",
        "    working_dir):\n",
        "  \"\"\"Train the model on training data and evaluate on test data.\n",
        "\n",
        "  Args:\n",
        "    working_dir: The location of the Transform output.\n",
        "    num_train_instances: Number of instances in train set\n",
        "    num_test_instances: Number of instances in test set\n",
        "\n",
        "  Returns:\n",
        "    The results from the estimator's 'evaluate' method\n",
        "  \"\"\"\n",
        "  train_dataset = get_dataset(working_dir, TRANSFORMED_TRAIN_DATA_FILEBASE)\n",
        "  validation_dataset = get_dataset(working_dir, TRANSFORMED_TEST_DATA_FILEBASE)\n",
        "\n",
        "  model = build_keras_model(working_dir)\n",
        "\n",
        "  history = train_model(model, train_dataset, validation_dataset)\n",
        "\n",
        "  metric_values = model.evaluate(validation_dataset,\n",
        "                                 steps=EVALUATION_STEPS,\n",
        "                                 return_dict=True)\n",
        "  return model, history, metric_values"
      ]
    },
    {
      "cell_type": "code",
      "execution_count": null,
      "metadata": {
        "id": "rcVsByIsViRy"
      },
      "outputs": [],
      "source": [
        "def train_model(model, train_dataset, validation_dataset):\n",
        "  model.compile(optimizer='adam',\n",
        "                loss=tf.losses.CategoricalCrossentropy(from_logits=True),\n",
        "                metrics=['accuracy'])\n",
        "\n",
        "  history = model.fit(train_dataset, validation_data=validation_dataset,\n",
        "      epochs=TRAIN_NUM_EPOCHS,\n",
        "      steps_per_epoch=STEPS_PER_TRAIN_EPOCH,\n",
        "      validation_steps=EVALUATION_STEPS)\n",
        "  return history"
      ]
    },
    {
      "cell_type": "code",
      "execution_count": null,
      "metadata": {
        "id": "f5xoioogYTle"
      },
      "outputs": [],
      "source": [
        "model, history, metric_values = train_and_evaluate(model, output_dir)"
      ]
    },
    {
      "cell_type": "code",
      "execution_count": null,
      "metadata": {
        "id": "gQCbdPIQeXeZ"
      },
      "outputs": [],
      "source": [
        "plt.plot(history.history['loss'], label='Train')\n",
        "plt.plot(history.history['val_loss'], label='Eval')\n",
        "plt.ylim(0,max(plt.ylim()))\n",
        "plt.legend()\n",
        "plt.title('Loss');"
      ]
    },
    {
      "cell_type": "markdown",
      "metadata": {
        "id": "nYeuthrs27vl"
      },
      "source": [
        "### 转换新数据\n",
        "\n",
        "在上一部分中，训练过程使用了由 `transform_dataset` 函数中的 `tft_beam.AnalyzeAndTransformDataset` 生成的转换数据的硬拷贝。\n",
        "\n",
        "要对新数据执行运算，您需要加载 `tft_beam.WriteTransformFn` 所保存的 `preprocessing_fn` 的最终版本。\n",
        "\n",
        "`TFTransformOutput.transform_features_layer` 方法从输出目录加载 `preprocessing_fn` SavedModel。"
      ]
    },
    {
      "cell_type": "markdown",
      "metadata": {
        "id": "zxi9aS106CLd"
      },
      "source": [
        "下面是从源文件加载未处理的新批次的函数："
      ]
    },
    {
      "cell_type": "code",
      "execution_count": null,
      "metadata": {
        "id": "tMHDZhp82ZjM"
      },
      "outputs": [],
      "source": [
        "def read_csv(file_name, batch_size):\n",
        "  return tf.data.experimental.make_csv_dataset(\n",
        "        file_pattern=file_name,\n",
        "        batch_size=batch_size,\n",
        "        column_names=ORDERED_CSV_COLUMNS,\n",
        "        column_defaults=COLUMN_DEFAULTS,\n",
        "        prefetch_buffer_size=0,\n",
        "        ignore_errors=True)"
      ]
    },
    {
      "cell_type": "code",
      "execution_count": null,
      "metadata": {
        "id": "AradAjmW2vyd"
      },
      "outputs": [],
      "source": [
        "for ex in read_csv(test_path, batch_size=5):\n",
        "  break\n",
        "\n",
        "pd.DataFrame(ex)"
      ]
    },
    {
      "cell_type": "markdown",
      "metadata": {
        "id": "OX1f6SgM6LZc"
      },
      "source": [
        "加载 `tft.TransformFeaturesLayer` 以使用 `preprocessing_fn` 转换此数据："
      ]
    },
    {
      "cell_type": "code",
      "execution_count": null,
      "metadata": {
        "id": "nma2Bzi--11x"
      },
      "outputs": [],
      "source": [
        "ex2 = ex.copy()\n",
        "ex2.pop('fnlwgt')\n",
        "\n",
        "tft_layer = tf_transform_output.transform_features_layer()\n",
        "t_ex = tft_layer(ex2)\n",
        "\n",
        "label = t_ex.pop(LABEL_KEY)\n",
        "pd.DataFrame(t_ex)"
      ]
    },
    {
      "cell_type": "markdown",
      "metadata": {
        "id": "P43ixyQNz1zq"
      },
      "source": [
        "`tft_layer` 足够聪明，如果只传入某些特征，它仍可以执行转换。例如，如果您仅传入两个特征，则只会得到这些特征的转换后版本： "
      ]
    },
    {
      "cell_type": "code",
      "execution_count": null,
      "metadata": {
        "id": "swEPuZsR0Y5S"
      },
      "outputs": [],
      "source": [
        "ex2 = pd.DataFrame(ex)[['education', 'hours-per-week']]\n",
        "ex2"
      ]
    },
    {
      "cell_type": "code",
      "execution_count": null,
      "metadata": {
        "id": "_s4SxutV1DTI"
      },
      "outputs": [],
      "source": [
        "pd.DataFrame(tft_layer(dict(ex2)))"
      ]
    },
    {
      "cell_type": "markdown",
      "metadata": {
        "id": "x5wo3dN-vhFL"
      },
      "source": [
        "下面的版本更加强大，它会删除不在特征规范中的特征，如果标签在提供的特征中，则返回 `(features, label)` 对："
      ]
    },
    {
      "cell_type": "code",
      "execution_count": null,
      "metadata": {
        "id": "hdMKDnafJh64"
      },
      "outputs": [],
      "source": [
        "class Transform(tf.Module):\n",
        "  def __init__(self, working_dir):\n",
        "    self.working_dir = working_dir\n",
        "    self.tf_transform_output = tft.TFTransformOutput(working_dir)\n",
        "    self.tft_layer = tf_transform_output.transform_features_layer()\n",
        "  \n",
        "  @tf.function\n",
        "  def __call__(self, features):\n",
        "    raw_features = {}\n",
        "\n",
        "    for key, val in features.items():\n",
        "      # Skip unused keys\n",
        "      if key not in RAW_DATA_FEATURE_SPEC:\n",
        "        continue\n",
        "\n",
        "      raw_features[key] = val\n",
        "\n",
        "    # Apply the `preprocessing_fn`.\n",
        "    transformed_features = tft_layer(raw_features)\n",
        "    \n",
        "    if LABEL_KEY in transformed_features:\n",
        "      # Pop the label and return a (features, labels) pair.\n",
        "      data_labels = transformed_features.pop(LABEL_KEY)\n",
        "      return (transformed_features, data_labels)\n",
        "    else:\n",
        "      return transformed_features\n"
      ]
    },
    {
      "cell_type": "code",
      "execution_count": null,
      "metadata": {
        "id": "mm5HI578Ku1B"
      },
      "outputs": [],
      "source": [
        "transform = Transform(output_dir)"
      ]
    },
    {
      "cell_type": "code",
      "execution_count": null,
      "metadata": {
        "id": "4jeenwN_3ZRj"
      },
      "outputs": [],
      "source": [
        "t_ex, t_label = transform(ex)"
      ]
    },
    {
      "cell_type": "code",
      "execution_count": null,
      "metadata": {
        "id": "yIavZAqALO8H"
      },
      "outputs": [],
      "source": [
        "pd.DataFrame(t_ex)"
      ]
    },
    {
      "cell_type": "markdown",
      "metadata": {
        "id": "LVQead0fwVuy"
      },
      "source": [
        "现在，您可以使用 `Dataset.map` 将该转换即时应用于新数据："
      ]
    },
    {
      "cell_type": "code",
      "execution_count": null,
      "metadata": {
        "id": "VN3IO6u1Mk83"
      },
      "outputs": [],
      "source": [
        "model.evaluate(\n",
        "    read_csv(test_path, batch_size=5).map(transform),\n",
        "    steps=EVALUATION_STEPS,\n",
        "    return_dict=True\n",
        ")"
      ]
    },
    {
      "cell_type": "markdown",
      "metadata": {
        "id": "Ymlco3hfU_-E"
      },
      "source": [
        "### 导出模型\n",
        "\n",
        "您目前拥有经过训练的模型，以及将 `preprocessing_fn` 应用于新数据的方法。将它们组装成一个新模型，该模型接受序列化的 `tf.train.Example` proto 作为输入。"
      ]
    },
    {
      "cell_type": "code",
      "execution_count": null,
      "metadata": {
        "id": "AZ2WICuwEwqC"
      },
      "outputs": [],
      "source": [
        "class ServingModel(tf.Module):\n",
        "  def __init__(self, model, working_dir):\n",
        "    self.model = model\n",
        "    self.working_dir = working_dir\n",
        "    self.transform = Transform(working_dir)\n",
        "\n",
        "  @tf.function(input_signature=[tf.TensorSpec(shape=[None], dtype=tf.string)])\n",
        "  def __call__(self, serialized_tf_examples):\n",
        "    # parse the tf.train.Example\n",
        "    feature_spec = RAW_DATA_FEATURE_SPEC.copy()\n",
        "    feature_spec.pop(LABEL_KEY)\n",
        "    parsed_features = tf.io.parse_example(serialized_tf_examples, feature_spec)\n",
        "    # Apply the `preprocessing_fn`\n",
        "    transformed_features = self.transform(parsed_features)\n",
        "    # Run the model\n",
        "    outputs = self.model(transformed_features)\n",
        "    # Format the output\n",
        "    classes_names = tf.constant([['0', '1']])\n",
        "    classes = tf.tile(classes_names, [tf.shape(outputs)[0], 1])\n",
        "    return {'classes': classes, 'scores': outputs}\n",
        "\n",
        "  def export(self, output_dir):\n",
        "    # Increment the directory number. This is required in order to make this\n",
        "    # model servable with model_server.\n",
        "    save_model_dir = pathlib.Path(output_dir)/'model'\n",
        "    number_dirs = [int(p.name) for p in save_model_dir.glob('*')\n",
        "                  if p.name.isdigit()]\n",
        "    id = max([0] + number_dirs)+1\n",
        "    save_model_dir = save_model_dir/str(id)\n",
        "\n",
        "    # Set the signature to make it visible for serving.\n",
        "    concrete_serving_fn = self.__call__.get_concrete_function()\n",
        "    signatures = {'serving_default': concrete_serving_fn}\n",
        "\n",
        "    # Export the model.\n",
        "    tf.saved_model.save(\n",
        "        self,\n",
        "        str(save_model_dir),\n",
        "        signatures=signatures)\n",
        "    \n",
        "    return save_model_dir"
      ]
    },
    {
      "cell_type": "markdown",
      "metadata": {
        "id": "M8TZf2di24L2"
      },
      "source": [
        "构建模型并在一批序列化示例上测试运行它："
      ]
    },
    {
      "cell_type": "code",
      "execution_count": null,
      "metadata": {
        "id": "u2mSC1UMGAwJ"
      },
      "outputs": [],
      "source": [
        "serving_model = ServingModel(model, output_dir)\n",
        "\n",
        "serving_model(serialized_example_batch)"
      ]
    },
    {
      "cell_type": "markdown",
      "metadata": {
        "id": "BWhighof3AK8"
      },
      "source": [
        "将模型导出为 SavedModel："
      ]
    },
    {
      "cell_type": "code",
      "execution_count": null,
      "metadata": {
        "id": "kodDWTJIEr77"
      },
      "outputs": [],
      "source": [
        "saved_model_dir = serving_model.export(output_dir)\n",
        "saved_model_dir"
      ]
    },
    {
      "cell_type": "markdown",
      "metadata": {
        "id": "ohbWxp3-3aQu"
      },
      "source": [
        "重新加载模型，并在同一批示例上对其进行测试："
      ]
    },
    {
      "cell_type": "code",
      "execution_count": null,
      "metadata": {
        "id": "nShh6GqcEr78"
      },
      "outputs": [],
      "source": [
        "reloaded = tf.saved_model.load(str(saved_model_dir))\n",
        "run_model = reloaded.signatures['serving_default']"
      ]
    },
    {
      "cell_type": "code",
      "execution_count": null,
      "metadata": {
        "id": "UiYJhQySEr78"
      },
      "outputs": [],
      "source": [
        "run_model(serialized_example_batch)"
      ]
    },
    {
      "cell_type": "markdown",
      "metadata": {
        "id": "ICqetCnSjwp1"
      },
      "source": [
        "##我们所执行的操作。在本例中，我们使用 `tf.Transform` 预处理人口普查数据集，并使用经过清理和转换的数据来训练模型。我们还创建一个输入函数，当我们在生产环境中部署经过训练的模型以执行推断时可以使用该函数。通过对训练和推断使用相同的代码，我们避免了数据偏差的任何问题。在此过程中，我们了解了如何创建 Apache Beam 转换来执行清理数据所需的转换。我们还看到了如何使用这些转换后的数据通过 `tf.keras` 来训练模型。这只是 TensorFlow Transform 可以实现的一小部分！我们鼓励您深入研究 `tf.Transform` 并发现它可以为您做些什么。"
      ]
    },
    {
      "cell_type": "markdown",
      "metadata": {
        "id": "APEUSA9boKgT"
      },
      "source": [
        "## [可选] 使用预处理数据通过 tf.estimator 来训练模型\n",
        "\n",
        "> 警告：不建议将 Estimator 用于新代码。Estimator 运行 v1.Session 风格的代码，此类代码更加难以正确编写，并且可能会出现意外行为，尤其是与 TF 2 代码结合使用时。Estimator 确实在我们的兼容性保证范围内，但除了安全漏洞之外不会得到任何修复。请参阅迁移指南以了解详情。\n",
        "\n",
        " <!-- <div class=\"tfo-display-only-on-site\"><devsite-expandable>\n",
        "  <button type=\"button\" class=\"button-red button expand-control\">Show Section</button> -->\n"
      ]
    },
    {
      "cell_type": "markdown",
      "metadata": {
        "id": "QcBWjr3ioZbl"
      },
      "source": [
        "###创建训练输入函数"
      ]
    },
    {
      "cell_type": "code",
      "execution_count": null,
      "metadata": {
        "id": "kFO0MeWQ228a"
      },
      "outputs": [],
      "source": [
        "def _make_training_input_fn(tf_transform_output, transformed_examples,\n",
        "                            batch_size):\n",
        "  \"\"\"Creates an input function reading from transformed data.\n",
        "\n",
        "  Args:\n",
        "    tf_transform_output: Wrapper around output of tf.Transform.\n",
        "    transformed_examples: Base filename of examples.\n",
        "    batch_size: Batch size.\n",
        "\n",
        "  Returns:\n",
        "    The input function for training or eval.\n",
        "  \"\"\"\n",
        "  def input_fn():\n",
        "    \"\"\"Input function for training and eval.\"\"\"\n",
        "    dataset = tf.data.experimental.make_batched_features_dataset(\n",
        "        file_pattern=transformed_examples,\n",
        "        batch_size=batch_size,\n",
        "        features=tf_transform_output.transformed_feature_spec(),\n",
        "        reader=tf.data.TFRecordDataset,\n",
        "        shuffle=True)\n",
        "\n",
        "    transformed_features = tf.compat.v1.data.make_one_shot_iterator(\n",
        "        dataset).get_next()\n",
        "\n",
        "    # Extract features and label from the transformed tensors.\n",
        "    transformed_labels = tf.where(\n",
        "        tf.equal(transformed_features.pop(LABEL_KEY), 1))\n",
        "\n",
        "    return transformed_features, transformed_labels[:,1]\n",
        "\n",
        "  return input_fn"
      ]
    },
    {
      "cell_type": "markdown",
      "metadata": {
        "id": "22XOsZ-noez-"
      },
      "source": [
        "###创建应用输入函数\n",
        "\n",
        "我们创建一个可以在生产环境中使用的输入函数，并针对应用准备经过训练的模型。"
      ]
    },
    {
      "cell_type": "code",
      "execution_count": null,
      "metadata": {
        "cellView": "code",
        "id": "NN5FVg343Jea"
      },
      "outputs": [],
      "source": [
        "def _make_serving_input_fn(tf_transform_output):\n",
        "  \"\"\"Creates an input function reading from raw data.\n",
        "\n",
        "  Args:\n",
        "    tf_transform_output: Wrapper around output of tf.Transform.\n",
        "\n",
        "  Returns:\n",
        "    The serving input function.\n",
        "  \"\"\"\n",
        "  raw_feature_spec = RAW_DATA_FEATURE_SPEC.copy()\n",
        "  # Remove label since it is not available during serving.\n",
        "  raw_feature_spec.pop(LABEL_KEY)\n",
        "\n",
        "  def serving_input_fn():\n",
        "    \"\"\"Input function for serving.\"\"\"\n",
        "    # Get raw features by generating the basic serving input_fn and calling it.\n",
        "    # Here we generate an input_fn that expects a parsed Example proto to be fed\n",
        "    # to the model at serving time.  See also\n",
        "    # tf.estimator.export.build_raw_serving_input_receiver_fn.\n",
        "    raw_input_fn = tf.estimator.export.build_parsing_serving_input_receiver_fn(\n",
        "        raw_feature_spec, default_batch_size=None)\n",
        "    serving_input_receiver = raw_input_fn()\n",
        "\n",
        "    # Apply the transform function that was used to generate the materialized\n",
        "    # data.\n",
        "    raw_features = serving_input_receiver.features\n",
        "    transformed_features = tf_transform_output.transform_raw_features(\n",
        "        raw_features)\n",
        "\n",
        "    return tf.estimator.export.ServingInputReceiver(\n",
        "        transformed_features, serving_input_receiver.receiver_tensors)\n",
        "\n",
        "  return serving_input_fn"
      ]
    },
    {
      "cell_type": "markdown",
      "metadata": {
        "id": "Vc9Edp8A7dsI"
      },
      "source": [
        "###将输入数据封装到 FeatureColumns 中<br>模型希望我们的数据处于 TensorFlow FeatureColumns 中。"
      ]
    },
    {
      "cell_type": "code",
      "execution_count": null,
      "metadata": {
        "id": "6qOFOvBk7oJX"
      },
      "outputs": [],
      "source": [
        "def get_feature_columns(tf_transform_output):\n",
        "  \"\"\"Returns the FeatureColumns for the model.\n",
        "\n",
        "  Args:\n",
        "    tf_transform_output: A `TFTransformOutput` object.\n",
        "\n",
        "  Returns:\n",
        "    A list of FeatureColumns.\n",
        "  \"\"\"\n",
        "  # Wrap scalars as real valued columns.\n",
        "  real_valued_columns = [tf.feature_column.numeric_column(key, shape=())\n",
        "                         for key in NUMERIC_FEATURE_KEYS]\n",
        "\n",
        "  # Wrap categorical columns.\n",
        "  one_hot_columns = [\n",
        "      tf.feature_column.indicator_column(\n",
        "          tf.feature_column.categorical_column_with_identity(\n",
        "              key=key,\n",
        "              num_buckets=(NUM_OOV_BUCKETS +\n",
        "                  tf_transform_output.vocabulary_size_by_name(\n",
        "                      vocab_filename=key))))\n",
        "      for key in CATEGORICAL_FEATURE_KEYS]\n",
        "\n",
        "  return real_valued_columns + one_hot_columns"
      ]
    },
    {
      "cell_type": "markdown",
      "metadata": {
        "id": "f6FyMzMcpOgT"
      },
      "source": [
        "##训练、评估并导出模型"
      ]
    },
    {
      "cell_type": "code",
      "execution_count": null,
      "metadata": {
        "id": "8iGQ0jeq8IWr"
      },
      "outputs": [],
      "source": [
        "def train_and_evaluate(working_dir, num_train_instances=NUM_TRAIN_INSTANCES,\n",
        "                       num_test_instances=NUM_TEST_INSTANCES):\n",
        "  \"\"\"Train the model on training data and evaluate on test data.\n",
        "\n",
        "  Args:\n",
        "    working_dir: Directory to read transformed data and metadata from and to\n",
        "        write exported model to.\n",
        "    num_train_instances: Number of instances in train set\n",
        "    num_test_instances: Number of instances in test set\n",
        "\n",
        "  Returns:\n",
        "    The results from the estimator's 'evaluate' method\n",
        "  \"\"\"\n",
        "  tf_transform_output = tft.TFTransformOutput(working_dir)\n",
        "\n",
        "  run_config = tf.estimator.RunConfig()\n",
        "\n",
        "  estimator = tf.estimator.LinearClassifier(\n",
        "      feature_columns=get_feature_columns(tf_transform_output),\n",
        "      config=run_config,\n",
        "      loss_reduction=tf.losses.Reduction.SUM)\n",
        "\n",
        "  # Fit the model using the default optimizer.\n",
        "  train_input_fn = _make_training_input_fn(\n",
        "      tf_transform_output,\n",
        "      os.path.join(working_dir, TRANSFORMED_TRAIN_DATA_FILEBASE + '*'),\n",
        "      batch_size=BATCH_SIZE)\n",
        "  estimator.train(\n",
        "      input_fn=train_input_fn,\n",
        "      max_steps=TRAIN_NUM_EPOCHS * num_train_instances / BATCH_SIZE)\n",
        "\n",
        "  # Evaluate model on test dataset.\n",
        "  eval_input_fn = _make_training_input_fn(\n",
        "      tf_transform_output,\n",
        "      os.path.join(working_dir, TRANSFORMED_TEST_DATA_FILEBASE + '*'),\n",
        "      batch_size=1)\n",
        "\n",
        "  # Export the model.\n",
        "  serving_input_fn = _make_serving_input_fn(tf_transform_output)\n",
        "  exported_model_dir = os.path.join(working_dir, EXPORTED_MODEL_DIR)\n",
        "  estimator.export_saved_model(exported_model_dir, serving_input_fn)\n",
        "\n",
        "  return estimator.evaluate(input_fn=eval_input_fn, steps=num_test_instances)"
      ]
    },
    {
      "cell_type": "markdown",
      "metadata": {
        "id": "5k8LrDPZpZsK"
      },
      "source": [
        "##总结<br>我们已经创建了所需的一切来预处理人口普查数据、训练模型并针对应用准备模型。到目前为止，我们已经做好了一切准备。是时候开始运行了！\n",
        "\n",
        "注：滚动此单元的输出可查看整个流程。结果位于底部。"
      ]
    },
    {
      "cell_type": "code",
      "execution_count": null,
      "metadata": {
        "id": "P_1_2dB6pdc2"
      },
      "outputs": [],
      "source": [
        "import tempfile\n",
        "temp = temp = os.path.join(tempfile.mkdtemp(),'estimator')\n",
        "\n",
        "transform_data(train_path, test_path, temp)\n",
        "results = train_and_evaluate(temp)"
      ]
    },
    {
      "cell_type": "code",
      "execution_count": null,
      "metadata": {
        "id": "O_IqGL90GCIq"
      },
      "outputs": [],
      "source": [
        "pprint.pprint(results)"
      ]
    },
    {
      "cell_type": "markdown",
      "metadata": {
        "id": "Z6T3aHoRsjgR"
      },
      "source": [
        " </devsite-expandable></div>\n"
      ]
    }
  ],
  "metadata": {
    "colab": {
      "collapsed_sections": [
        "APEUSA9boKgT"
      ],
      "name": "census.ipynb",
      "toc_visible": true
    },
    "kernelspec": {
      "display_name": "Python 3",
      "name": "python3"
    }
  },
  "nbformat": 4,
  "nbformat_minor": 0
}
