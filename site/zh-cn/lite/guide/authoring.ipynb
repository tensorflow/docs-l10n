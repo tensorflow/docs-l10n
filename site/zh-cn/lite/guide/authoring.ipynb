{
  "cells": [
    {
      "cell_type": "markdown",
      "metadata": {
        "id": "g_nWetWWd_ns"
      },
      "source": [
        "##### Copyright 2021 The TensorFlow Authors."
      ]
    },
    {
      "cell_type": "code",
      "execution_count": null,
      "metadata": {
        "cellView": "form",
        "id": "2pHVBk_seED1"
      },
      "outputs": [],
      "source": [
        "#@title Licensed under the Apache License, Version 2.0 (the \"License\");\n",
        "# you may not use this file except in compliance with the License.\n",
        "# You may obtain a copy of the License at\n",
        "#\n",
        "# https://www.apache.org/licenses/LICENSE-2.0\n",
        "#\n",
        "# Unless required by applicable law or agreed to in writing, software\n",
        "# distributed under the License is distributed on an \"AS IS\" BASIS,\n",
        "# WITHOUT WARRANTIES OR CONDITIONS OF ANY KIND, either express or implied.\n",
        "# See the License for the specific language governing permissions and\n",
        "# limitations under the License."
      ]
    },
    {
      "cell_type": "markdown",
      "metadata": {
        "id": "M7vSdG6sAIQn"
      },
      "source": [
        "# TFLite 创作工具"
      ]
    },
    {
      "cell_type": "markdown",
      "metadata": {
        "id": "fwc5GKHBASdc"
      },
      "source": [
        "<table class=\"tfo-notebook-buttons\" align=\"left\">\n",
        "  <td>     <a target=\"_blank\" href=\"https://tensorflow.google.cn/lite/guide/authoring\"><img src=\"https://tensorflow.google.cn/images/tf_logo_32px.png\">在 TensorFlow.org 上查看</a>\n",
        "</td>\n",
        "  <td><a target=\"_blank\" href=\"https://colab.research.google.com/github/tensorflow/docs-l10n/blob/master/site/zh-cn/lite/guide/authoring.ipynb\"><img src=\"https://tensorflow.google.cn/images/colab_logo_32px.png\">在 Google Colab 中运行</a></td>\n",
        "  <td>     <a target=\"_blank\" href=\"https://github.com/tensorflow/docs-l10n/blob/master/site/zh-cn/lite/guide/authoring.ipynb\"><img src=\"https://tensorflow.google.cn/images/GitHub-Mark-32px.png\">在 GitHub 上查看源代码</a>\n",
        "</td>\n",
        "  <td>     <a href=\"https://storage.googleapis.com/tensorflow_docs/docs-l10n/site/zh-cn/lite/guide/authoring.ipynb\"><img src=\"https://tensorflow.google.cn/images/download_logo_32px.png\">下载笔记本</a>   </td>\n",
        "</table>"
      ]
    },
    {
      "cell_type": "markdown",
      "metadata": {
        "id": "9ee074e4"
      },
      "source": [
        "TensorFlow Lite Authoring API 提供了一种方式来维护与 TensorFlow Lite 兼容的 `tf.function` 模型。\n"
      ]
    },
    {
      "cell_type": "markdown",
      "metadata": {
        "id": "UaWdLA3fQDK2"
      },
      "source": [
        "## 安装"
      ]
    },
    {
      "cell_type": "code",
      "execution_count": null,
      "metadata": {
        "id": "DWjLcy2CvgxH"
      },
      "outputs": [],
      "source": [
        "import tensorflow as tf"
      ]
    },
    {
      "cell_type": "markdown",
      "metadata": {
        "id": "CmkXJRDj5hTi"
      },
      "source": [
        "## TensorFlow 到 TensorFlow Lite 的兼容性问题\n",
        "\n",
        "如果您想在设备端使用您的 TF 模型，您需要将其转换为 TFLite 模型，以便从 TFLite 解释器使用它。在转换过程中，您可能会遇到兼容性错误，因为 TFLite 内置运算集不支持 TensorFlow 运算。\n",
        "\n",
        "这是一个令人讨厌的问题。如何能够更早地检测到该问题呢，比如在模型创作时间？\n",
        "\n",
        "请注意，以下代码将在调用 `converter.convert()` 时失败。\n"
      ]
    },
    {
      "cell_type": "code",
      "execution_count": null,
      "metadata": {
        "id": "LHKqKFm5OvyQ"
      },
      "outputs": [],
      "source": [
        "@tf.function(input_signature=[\n",
        "    tf.TensorSpec(shape=[None], dtype=tf.float32)\n",
        "])\n",
        "def f(x):\n",
        "  return tf.cosh(x)\n",
        "\n",
        "# Evaluate the tf.function\n",
        "result = f(tf.constant([0.0]))\n",
        "print (f\"result = {result}\")"
      ]
    },
    {
      "cell_type": "code",
      "execution_count": null,
      "metadata": {
        "id": "BS5bOoD50zaU"
      },
      "outputs": [],
      "source": [
        "# Convert the tf.function\n",
        "converter = tf.lite.TFLiteConverter.from_concrete_functions(\n",
        "    [f.get_concrete_function()], f)\n",
        "try:\n",
        "  fb_model = converter.convert()\n",
        "except Exception as e:\n",
        "  print(f\"Got an exception: {e}\")"
      ]
    },
    {
      "cell_type": "markdown",
      "metadata": {
        "id": "eLU0Y9V8g_Wk"
      },
      "source": [
        "## 简单的目标感知创作用法\n",
        "\n",
        "我们引入了 Authoring API 来检测模型创作期间的 TensorFlow Lite 兼容性问题。\n",
        "\n",
        "您只需添加 `@tf.lite.experimental.authoring.compatible` 修饰器来封装您的 `tf.function` 模型，以检查 TFLite 兼容性。\n",
        "\n",
        "之后，当您评估模型时，将自动检查兼容性。"
      ]
    },
    {
      "cell_type": "code",
      "execution_count": null,
      "metadata": {
        "id": "zVSh6VCDhbPz"
      },
      "outputs": [],
      "source": [
        "@tf.lite.experimental.authoring.compatible\n",
        "@tf.function(input_signature=[\n",
        "    tf.TensorSpec(shape=[None], dtype=tf.float32)\n",
        "])\n",
        "def f(x):\n",
        "  return tf.cosh(x)\n",
        "\n",
        "# Evaluate the tf.function\n",
        "result = f(tf.constant([0.0]))\n",
        "print (f\"result = {result}\")\n"
      ]
    },
    {
      "cell_type": "markdown",
      "metadata": {
        "id": "ZWkBEqv-eUwV"
      },
      "source": [
        "如果发现任何 TensorFlow Lite 兼容性问题，它将显示 `COMPATIBILITY WARNING` 或 `COMPATIBILITY ERROR` 以及有问题的运算的确切位置。在本例中，它显示了 tf.unction 模型中 `tf.Cosh` 运算的位置。\n",
        "\n",
        "您还可以使用 `<function_name>.get_compatibility_log()` 方法检查兼容性日志。"
      ]
    },
    {
      "cell_type": "code",
      "execution_count": null,
      "metadata": {
        "id": "irwO2qdv2RPA"
      },
      "outputs": [],
      "source": [
        "compatibility_log = '\\n'.join(f.get_compatibility_log())\n",
        "print (f\"compatibility_log = {compatibility_log}\")"
      ]
    },
    {
      "cell_type": "markdown",
      "metadata": {
        "id": "-LTVE00CiqpS"
      },
      "source": [
        "## 引发不兼容性异常\n",
        "\n",
        "您可以为 `@tf.lite.experimental.authoring.compatible` 修饰器提供一个选项。当您尝试评估经过修饰的模型时，`raise_exception` 选项会引发异常。"
      ]
    },
    {
      "cell_type": "code",
      "execution_count": null,
      "metadata": {
        "id": "YfPfOJm5jST4"
      },
      "outputs": [],
      "source": [
        "@tf.lite.experimental.authoring.compatible(raise_exception=True)\n",
        "@tf.function(input_signature=[\n",
        "    tf.TensorSpec(shape=[None], dtype=tf.float32)\n",
        "])\n",
        "def f(x):\n",
        "  return tf.cosh(x)\n",
        "\n",
        "# Evaluate the tf.function\n",
        "try:\n",
        "  result = f(tf.constant([0.0]))\n",
        "  print (f\"result = {result}\")\n",
        "except Exception as e:\n",
        "  print(f\"Got an exception: {e}\")"
      ]
    },
    {
      "cell_type": "markdown",
      "metadata": {
        "id": "WXywHrR0Xjop"
      },
      "source": [
        "## 指定 \"Select TF ops\" 用法\n",
        "\n",
        "如果您已了解 [Select Tf op](https://tensorflow.google.cn/lite/guide/ops_select) 用法，可以通过设置 `converter_target_spec` 将其用于 Authoring API。它与您将在 [tf.lite.TFLiteConverter](https://tensorflow.google.cn/api_docs/python/tf/lite/TFLiteConverter) API 中使用的对象相同。\n"
      ]
    },
    {
      "cell_type": "code",
      "execution_count": null,
      "metadata": {
        "id": "B483OwYQYG8A"
      },
      "outputs": [],
      "source": [
        "target_spec = tf.lite.TargetSpec()\n",
        "target_spec.supported_ops = [\n",
        "    tf.lite.OpsSet.TFLITE_BUILTINS,\n",
        "    tf.lite.OpsSet.SELECT_TF_OPS,\n",
        "]\n",
        "@tf.lite.experimental.authoring.compatible(converter_target_spec=target_spec, raise_exception=True)\n",
        "@tf.function(input_signature=[\n",
        "    tf.TensorSpec(shape=[None], dtype=tf.float32)\n",
        "])\n",
        "def f(x):\n",
        "  return tf.cosh(x)\n",
        "\n",
        "# Evaluate the tf.function\n",
        "result = f(tf.constant([0.0]))\n",
        "print (f\"result = {result}\")\n"
      ]
    },
    {
      "cell_type": "markdown",
      "metadata": {
        "id": "mtept13-C6uD"
      },
      "source": [
        "## 检查 GPU 兼容性\n",
        "\n",
        "如果您希望确保您的模型与 TensorFlow Lite 的 [GPU 委托](https://tensorflow.google.cn/lite/performance/gpu)兼容，您可以设置 [tf.lite.TargetSpec](https://tensorflow.google.cn/api_docs/python/tf/lite/TargetSpec) 的 `experimental_supported_backends`。\n",
        "\n",
        "以下示例展示如何确保您的模型的 GPU 委托兼容性。请注意，此模型存在兼容性问题，因为它使用带有 tf.slice 算子和不受支持的 tf.cosh 算子的二维张量。您将看到两个带有位置信息的 `COMPATIBILITY WARNING`。"
      ]
    },
    {
      "cell_type": "code",
      "execution_count": null,
      "metadata": {
        "id": "_DzHV3KVC0T0"
      },
      "outputs": [],
      "source": [
        "target_spec = tf.lite.TargetSpec()\n",
        "target_spec.supported_ops = [\n",
        "    tf.lite.OpsSet.TFLITE_BUILTINS,\n",
        "    tf.lite.OpsSet.SELECT_TF_OPS,\n",
        "]\n",
        "target_spec.experimental_supported_backends = [\"GPU\"]\n",
        "@tf.lite.experimental.authoring.compatible(converter_target_spec=target_spec)\n",
        "@tf.function(input_signature=[\n",
        "    tf.TensorSpec(shape=[4, 4], dtype=tf.float32)\n",
        "])\n",
        "def func(x):\n",
        "  y = tf.cosh(x)\n",
        "  return y + tf.slice(x, [1, 1], [1, 1])\n",
        "\n",
        "result = func(tf.ones(shape=(4,4), dtype=tf.float32))"
      ]
    },
    {
      "cell_type": "markdown",
      "metadata": {
        "id": "JvLEtCWRvvy8"
      },
      "source": [
        "## 阅读更多\n",
        "\n",
        "有关更多信息，请参阅：\n",
        "\n",
        "- [tf.function](https://tensorflow.google.cn/api_docs/python/tf/function) API 文档\n",
        "- [使用 tf.function 提升性能](https://tensorflow.google.cn/guide/function)\n",
        "- [TensorFlow Lite Converter](https://tensorflow.google.cn/lite/models/convert)\n",
        "- [TensorFlow Lite Model Analyzer](https://tensorflow.google.cn/lite/guide/model_analyzer)\n",
        "- [TensorFlow Lite GPU 委托](https://tensorflow.google.cn/lite/performance/gpu)"
      ]
    }
  ],
  "metadata": {
    "colab": {
      "collapsed_sections": [],
      "name": "authoring.ipynb",
      "toc_visible": true
    },
    "kernelspec": {
      "display_name": "Python 3",
      "name": "python3"
    }
  },
  "nbformat": 4,
  "nbformat_minor": 0
}
