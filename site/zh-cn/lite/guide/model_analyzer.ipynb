{
  "cells": [
    {
      "cell_type": "markdown",
      "metadata": {
        "id": "g_nWetWWd_ns"
      },
      "source": [
        "##### Copyright 2021 The TensorFlow Authors."
      ]
    },
    {
      "cell_type": "code",
      "execution_count": null,
      "metadata": {
        "cellView": "form",
        "id": "2pHVBk_seED1"
      },
      "outputs": [],
      "source": [
        "#@title Licensed under the Apache License, Version 2.0 (the \"License\");\n",
        "# you may not use this file except in compliance with the License.\n",
        "# You may obtain a copy of the License at\n",
        "#\n",
        "# https://www.apache.org/licenses/LICENSE-2.0\n",
        "#\n",
        "# Unless required by applicable law or agreed to in writing, software\n",
        "# distributed under the License is distributed on an \"AS IS\" BASIS,\n",
        "# WITHOUT WARRANTIES OR CONDITIONS OF ANY KIND, either express or implied.\n",
        "# See the License for the specific language governing permissions and\n",
        "# limitations under the License."
      ]
    },
    {
      "cell_type": "markdown",
      "metadata": {
        "id": "M7vSdG6sAIQn"
      },
      "source": [
        "# TensorFlow Lite Model Analyzer"
      ]
    },
    {
      "cell_type": "markdown",
      "metadata": {
        "id": "fwc5GKHBASdc"
      },
      "source": [
        "<table class=\"tfo-notebook-buttons\" align=\"left\">\n",
        "  <td>     <a target=\"_blank\" href=\"https://tensorflow.google.cn/lite/guide/model_analyzer\"><img src=\"https://tensorflow.google.cn/images/tf_logo_32px.png\">在 TensorFlow.org 上查看</a> </td>\n",
        "  <td>     <a target=\"_blank\" href=\"https://colab.research.google.com/github/tensorflow/docs-l10n/blob/master/site/zh-cn/lite/guide/model_analyzer.ipynb\"><img src=\"https://tensorflow.google.cn/images/colab_logo_32px.png\">在 Google Colab 运行</a> </td>\n",
        "  <td>     <a target=\"_blank\" href=\"https://github.com/tensorflow/docs-l10n/blob/master/site/zh-cn/lite/guide/model_analyzer.ipynb\"><img src=\"https://tensorflow.google.cn/images/GitHub-Mark-32px.png\">在 Github 上查看源代码</a> </td>\n",
        "  <td>     <a href=\"https://storage.googleapis.com/tensorflow_docs/docs-l10n/site/zh-cn/lite/guide/model_analyzer.ipynb\"><img src=\"https://tensorflow.google.cn/images/download_logo_32px.png\">下载笔记本</a>   </td>\n",
        "</table>"
      ]
    },
    {
      "cell_type": "markdown",
      "metadata": {
        "id": "9ee074e4"
      },
      "source": [
        "TensorFlow Lite Model Analyzer API 能够通过列出模型的结构，帮助您分析 TensorFlow Lite 格式的模型。\n"
      ]
    },
    {
      "cell_type": "markdown",
      "metadata": {
        "id": "JKwW0VfDKMWS"
      },
      "source": [
        "## Model Analyzer API\n",
        "\n",
        "以下 API 可用于 TensorFlow Lite Model Analyzer。\n",
        "\n",
        "```\n",
        "tf.lite.experimental.Analyzer.analyze(model_path=None,\n",
        "                                      model_content=None,\n",
        "                                      gpu_compatibility=False)\n",
        "```\n",
        "\n",
        "您可以在 https://tensorflow.google.cn/api_docs/python/tf/lite/experimental/Analyzer 查看 API 详细信息，也可以在 Python 终端运行 `help(tf.lite.experimental.Analyzer.analyze)`。\n"
      ]
    },
    {
      "cell_type": "markdown",
      "metadata": {
        "id": "qi8Vk4_065jN"
      },
      "source": [
        "## 简单 Keras 模型的基本用法\n",
        "\n",
        "以下代码显示了 Model Analyzer 的基本用法。它在 TFLite 模型内容中显示转换后的 Keras 模型的内容，格式化为平面缓冲区对象。"
      ]
    },
    {
      "cell_type": "code",
      "execution_count": null,
      "metadata": {
        "id": "_jkg6UNtdz8c"
      },
      "outputs": [],
      "source": [
        "import tensorflow as tf\n",
        "\n",
        "model = tf.keras.models.Sequential([\n",
        "  tf.keras.layers.Flatten(input_shape=(128, 128)),\n",
        "  tf.keras.layers.Dense(256, activation='relu'),\n",
        "  tf.keras.layers.Dropout(0.2),\n",
        "  tf.keras.layers.Dense(10)\n",
        "])\n",
        "\n",
        "fb_model = tf.lite.TFLiteConverter.from_keras_model(model).convert()\n",
        "\n",
        "tf.lite.experimental.Analyzer.analyze(model_content=fb_model)\n"
      ]
    },
    {
      "cell_type": "markdown",
      "metadata": {
        "id": "pe_ZU5Zy7PeH"
      },
      "source": [
        "## MobileNetV3Large Keras 模型的基本用法\n",
        "\n",
        "此 API 适用于 MobileNetV3Large 等大型模型。由于输出很大，您可能希望使用您最喜欢的文本编辑器来浏览它。"
      ]
    },
    {
      "cell_type": "code",
      "execution_count": null,
      "metadata": {
        "id": "QFywJ_g56VW5"
      },
      "outputs": [],
      "source": [
        "model = tf.keras.applications.MobileNetV3Large()\n",
        "fb_model = tf.lite.TFLiteConverter.from_keras_model(model).convert()\n",
        "\n",
        "tf.lite.experimental.Analyzer.analyze(model_content=fb_model)"
      ]
    },
    {
      "cell_type": "markdown",
      "metadata": {
        "id": "4BGqG2j9yqRf"
      },
      "source": [
        "## 检查 GPU 委托兼容性\n",
        "\n",
        "Model Analyzer API 通过提供  `gpu_compatibility=True` 选项，提供了一种检查给定模型的 [GPU 委托](https://tensorflow.google.cn/lite/performance/gpu)兼容性的方法。\n"
      ]
    },
    {
      "cell_type": "markdown",
      "metadata": {
        "id": "sVGC1oX33RkV"
      },
      "source": [
        "### 第 1 种情况：当模型不兼容时\n",
        "\n",
        "以下代码展示了将 `gpu_compatibility=True` 选项用于简单 tf.function 的方式，该函数使用与 GPU 委托不兼容的带有二维张量的 `tf.slice` 和 `tf.cosh`。\n",
        "\n",
        "对于每个存在兼容性问题的节点，您将看到 `GPU COMPATIBILITY WARNING`。"
      ]
    },
    {
      "cell_type": "code",
      "execution_count": null,
      "metadata": {
        "id": "9GEg5plIzD-3"
      },
      "outputs": [],
      "source": [
        "import tensorflow as tf\n",
        "\n",
        "@tf.function(input_signature=[\n",
        "    tf.TensorSpec(shape=[4, 4], dtype=tf.float32)\n",
        "])\n",
        "def func(x):\n",
        "  return tf.cosh(x) + tf.slice(x, [1, 1], [1, 1])\n",
        "\n",
        "converter = tf.lite.TFLiteConverter.from_concrete_functions(\n",
        "    [func.get_concrete_function()], func)\n",
        "converter.target_spec.supported_ops = [\n",
        "    tf.lite.OpsSet.TFLITE_BUILTINS,\n",
        "    tf.lite.OpsSet.SELECT_TF_OPS,\n",
        "]\n",
        "fb_model = converter.convert()\n",
        "\n",
        "tf.lite.experimental.Analyzer.analyze(model_content=fb_model, gpu_compatibility=True)"
      ]
    },
    {
      "cell_type": "markdown",
      "metadata": {
        "id": "BFU7HYb_2a8M"
      },
      "source": [
        "### 第 2 种情况：当模型兼容时\n",
        "\n",
        "在本示例中，给定的模型与 GPU 委托兼容。\n",
        "\n",
        "**注**：即使该工具没有发现任何兼容性问题，它也不能保证您的模型在每台设备上都能很好地使用 GPU 委托。可能会发生一些运行时不兼容的情况，例如目标 OpenGL 后端缺少 `CL_DEVICE_IMAGE_SUPPORT` 功能。\n"
      ]
    },
    {
      "cell_type": "code",
      "execution_count": null,
      "metadata": {
        "id": "85RgG6tQ3ABT"
      },
      "outputs": [],
      "source": [
        "model = tf.keras.models.Sequential([\n",
        "  tf.keras.layers.Flatten(input_shape=(128, 128)),\n",
        "  tf.keras.layers.Dense(256, activation='relu'),\n",
        "  tf.keras.layers.Dropout(0.2),\n",
        "  tf.keras.layers.Dense(10)\n",
        "])\n",
        "\n",
        "fb_model = tf.lite.TFLiteConverter.from_keras_model(model).convert()\n",
        "\n",
        "tf.lite.experimental.Analyzer.analyze(model_content=fb_model, gpu_compatibility=True)"
      ]
    }
  ],
  "metadata": {
    "colab": {
      "collapsed_sections": [],
      "name": "model_analyzer.ipynb",
      "toc_visible": true
    },
    "kernelspec": {
      "display_name": "Python 3",
      "name": "python3"
    }
  },
  "nbformat": 4,
  "nbformat_minor": 0
}
