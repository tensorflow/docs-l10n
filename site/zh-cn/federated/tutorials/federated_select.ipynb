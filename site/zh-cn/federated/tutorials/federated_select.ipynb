{
  "cells": [
    {
      "cell_type": "markdown",
      "metadata": {
        "id": "vkdnLiKk71g-"
      },
      "source": [
        "##### Copyright 2021 The TensorFlow Authors."
      ]
    },
    {
      "cell_type": "code",
      "execution_count": null,
      "metadata": {
        "cellView": "form",
        "id": "0asMuNro71hA"
      },
      "outputs": [],
      "source": [
        "#@title Licensed under the Apache License, Version 2.0 (the \"License\");\n",
        "# you may not use this file except in compliance with the License.\n",
        "# You may obtain a copy of the License at\n",
        "#\n",
        "# https://www.apache.org/licenses/LICENSE-2.0\n",
        "#\n",
        "# Unless required by applicable law or agreed to in writing, software\n",
        "# distributed under the License is distributed on an \"AS IS\" BASIS,\n",
        "# WITHOUT WARRANTIES OR CONDITIONS OF ANY KIND, either express or implied.\n",
        "# See the License for the specific language governing permissions and\n",
        "# limitations under the License."
      ]
    },
    {
      "cell_type": "markdown",
      "metadata": {
        "id": "iPFgLeZIsZ3Q"
      },
      "source": [
        "<table class=\"tfo-notebook-buttons\" align=\"left\">\n",
        "  <td>     <a target=\"_blank\" href=\"https://tensorflow.google.cn/federated/tutorials/federated_select\"><img src=\"https://tensorflow.google.cn/images/tf_logo_32px.png\">View on TensorFlow.org</a> </td>\n",
        "  <td>     <a target=\"_blank\" href=\"https://colab.research.google.com/github/tensorflow/docs-l10n/blob/master/site/zh-cn/federated/tutorials/federated_select.ipynb\"><img src=\"https://tensorflow.google.cn/images/colab_logo_32px.png\">在 Google Colab 中运行</a>\n",
        "</td>\n",
        "  <td>     <a target=\"_blank\" href=\"https://github.com/tensorflow/docs-l10n/blob/master/site/zh-cn/federated/tutorials/federated_select.ipynb\"><img src=\"https://tensorflow.google.cn/images/GitHub-Mark-32px.png\">在 GitHub 上查看源代码</a>\n",
        "</td>\n",
        "  <td>     <a href=\"https://storage.googleapis.com/tensorflow_docs/docs-l10n/site/zh-cn/federated/tutorials/federated_select.ipynb\"><img src=\"https://tensorflow.google.cn/images/download_logo_32px.png\">下载笔记本</a>   </td>\n",
        "</table>"
      ]
    },
    {
      "cell_type": "markdown",
      "metadata": {
        "id": "T94owwmP-41H"
      },
      "source": [
        "# 使用 tff.federated_select 向特定客户端发送不同的数据"
      ]
    },
    {
      "cell_type": "markdown",
      "metadata": {
        "id": "2K2GBCD2G6P8"
      },
      "source": [
        "本教程演示了如何在 TFF 中实现需要向不同客户端发送不同数据的自定义联合算法。您可能已经熟悉 `tff.federated_broadcast`，它用于向所有客户端发送单个服务器布局的值。本教程侧重于将基于服务器的值的不同部分发送到不同客户端的情况。这对于在不同客户端之间分配模型的各个部分以避免将整个模型发送到任何单个客户端可能十分有用。\n",
        "\n",
        "首先，导入 `tensorflow` 和 `tensorflow_federated`。"
      ]
    },
    {
      "cell_type": "code",
      "execution_count": null,
      "metadata": {
        "id": "9LcC1AwjoqfR"
      },
      "outputs": [],
      "source": [
        "#@test {\"skip\": true}\n",
        "!pip install --quiet --upgrade tensorflow-federated\n",
        "!pip install --quiet --upgrade nest-asyncio\n",
        "\n",
        "import nest_asyncio\n",
        "nest_asyncio.apply()"
      ]
    },
    {
      "cell_type": "code",
      "execution_count": null,
      "metadata": {
        "id": "YVyimqc7qHCn"
      },
      "outputs": [],
      "source": [
        "import tensorflow as tf\n",
        "import tensorflow_federated as tff\n",
        "tff.backends.native.set_local_python_execution_context()"
      ]
    },
    {
      "cell_type": "markdown",
      "metadata": {
        "id": "v35NnHqL_Zci"
      },
      "source": [
        "## 根据客户数据发送不同的值"
      ]
    },
    {
      "cell_type": "markdown",
      "metadata": {
        "id": "S169M4-qH9Y9"
      },
      "source": [
        "考虑这样一种情况，我们有一些服务器布局的列表，我们希望根据一些客户端布局的数据从该列表向每个客户端发送一些元素。例如，服务器上的字符串列表，以及客户端上要下载的以逗号分隔的索引列表。我们可以通过以下代码实现："
      ]
    },
    {
      "cell_type": "code",
      "execution_count": null,
      "metadata": {
        "id": "Rc_XhL7h_vQC"
      },
      "outputs": [],
      "source": [
        "list_of_strings_type = tff.TensorType(tf.string, [None])\n",
        "# We only ever send exactly two values to each client. The number of keys per\n",
        "# client must be a fixed number across all clients.\n",
        "number_of_keys_per_client = 2\n",
        "keys_type = tff.TensorType(tf.int32, [number_of_keys_per_client])\n",
        "get_size = tff.tf_computation(lambda x: tf.size(x))\n",
        "select_fn = tff.tf_computation(lambda val, index: tf.gather(val, index))\n",
        "client_data_type = tf.string\n",
        "\n",
        "# A function from our client data to the indices of the values we'd like to\n",
        "# select from the server.\n",
        "@tff.tf_computation(client_data_type)\n",
        "@tff.check_returns_type(keys_type)\n",
        "def keys_for_client(client_string):\n",
        "  # We assume our client data is a single string consisting of exactly three\n",
        "  # comma-separated integers indicating which values to grab from the server.\n",
        "  split = tf.strings.split([client_string], sep=',')[0]\n",
        "  return tf.strings.to_number([split[0], split[1]], tf.int32)\n",
        "\n",
        "@tff.tf_computation(tff.SequenceType(tf.string))\n",
        "@tff.check_returns_type(tf.string)\n",
        "def concatenate(values):\n",
        "  def reduce_fn(acc, item):\n",
        "    return tf.cond(tf.math.equal(acc, ''),\n",
        "                   lambda: item,\n",
        "                   lambda: tf.strings.join([acc, item], ','))\n",
        "  return values.reduce('', reduce_fn)\n",
        "\n",
        "@tff.federated_computation(tff.type_at_server(list_of_strings_type), tff.type_at_clients(client_data_type))\n",
        "def broadcast_based_on_client_data(list_of_strings_at_server, client_data):\n",
        "  keys_at_clients = tff.federated_map(keys_for_client, client_data)\n",
        "  max_key = tff.federated_map(get_size, list_of_strings_at_server)\n",
        "  values_at_clients = tff.federated_select(keys_at_clients, max_key, list_of_strings_at_server, select_fn)\n",
        "  value_at_clients = tff.federated_map(concatenate, values_at_clients)\n",
        "  return value_at_clients"
      ]
    },
    {
      "cell_type": "markdown",
      "metadata": {
        "id": "QpdKyL77JKea"
      },
      "source": [
        "随后，我们可以通过为每个客户端提供服务器布局的字符串列表以及字符串数据来模拟我们的计算："
      ]
    },
    {
      "cell_type": "code",
      "execution_count": null,
      "metadata": {
        "id": "aneU54u0F6al"
      },
      "outputs": [
        {
          "data": {
            "text/plain": [
              "[<tf.Tensor: shape=(), dtype=string, numpy=b'a,b'>,\n",
              " <tf.Tensor: shape=(), dtype=string, numpy=b'b,c'>,\n",
              " <tf.Tensor: shape=(), dtype=string, numpy=b'c,a'>]"
            ]
          },
          "execution_count": 49,
          "metadata": {
            "tags": []
          },
          "output_type": "execute_result"
        }
      ],
      "source": [
        "client_data = ['0,1', '1,2', '2,0']\n",
        "broadcast_based_on_client_data(['a', 'b', 'c'], client_data)"
      ]
    },
    {
      "cell_type": "markdown",
      "metadata": {
        "id": "TeLPCh8z_BJJ"
      },
      "source": [
        "## 向每个客户端发送随机化元素"
      ]
    },
    {
      "cell_type": "markdown",
      "metadata": {
        "id": "ADjD0poWJkIj"
      },
      "source": [
        "另外，将服务器数据的随机部分发送到每个客户端可能很有用。我们可以通过先在每个客户端上生成一个随机密钥，然后按照与上面使用的类似的选择过程来实现此目的："
      ]
    },
    {
      "cell_type": "code",
      "execution_count": null,
      "metadata": {
        "id": "texCnO6Erds4"
      },
      "outputs": [],
      "source": [
        "@tff.tf_computation(tf.int32)\n",
        "@tff.check_returns_type(tff.TensorType(tf.int32, [1]))\n",
        "def get_random_key(max_key):\n",
        "  return tf.random.uniform(shape=[1], minval=0, maxval=max_key, dtype=tf.int32)\n",
        "\n",
        "list_of_strings_type = tff.TensorType(tf.string, [None])\n",
        "get_size = tff.tf_computation(lambda x: tf.size(x))\n",
        "select_fn = tff.tf_computation(lambda val, index: tf.gather(val, index))\n",
        "\n",
        "@tff.tf_computation(tff.SequenceType(tf.string))\n",
        "@tff.check_returns_type(tf.string)\n",
        "def get_last_element(sequence):\n",
        "  return sequence.reduce('', lambda _initial_state, val: val)\n",
        "\n",
        "@tff.federated_computation(tff.type_at_server(list_of_strings_type))\n",
        "def broadcast_random_element(list_of_strings_at_server):\n",
        "  max_key_at_server = tff.federated_map(get_size, list_of_strings_at_server)\n",
        "  max_key_at_clients = tff.federated_broadcast(max_key_at_server)\n",
        "  key_at_clients = tff.federated_map(get_random_key, max_key_at_clients)\n",
        "  random_string_sequence_at_clients = tff.federated_select(\n",
        "      key_at_clients, max_key_at_server, list_of_strings_at_server, select_fn)\n",
        "  # Even though we only passed in a single key, `federated_select` returns a\n",
        "  # sequence for each client. We only care about the last (and only) element.\n",
        "  random_string_at_clients = tff.federated_map(get_last_element, random_string_sequence_at_clients)\n",
        "  return random_string_at_clients"
      ]
    },
    {
      "cell_type": "markdown",
      "metadata": {
        "id": "eCgbnWznJxVq"
      },
      "source": [
        "我们的 `broadcast_random_element` 函数不接受任何客户端布局的数据，因此，我们必须为 TFF 模拟运行时配置要使用的默认客户端数量："
      ]
    },
    {
      "cell_type": "code",
      "execution_count": null,
      "metadata": {
        "id": "N70yh3i6vYoy"
      },
      "outputs": [],
      "source": [
        "tff.backends.native.set_local_python_execution_context(default_num_clients=3)"
      ]
    },
    {
      "cell_type": "markdown",
      "metadata": {
        "id": "TF1OttS2J9b4"
      },
      "source": [
        "随后，我们可以模拟选择。我们可以更改上面的 `default_num_clients` 和下面的字符串列表以生成不同的结果，或者简单地重新运行计算以生成不同的随机输出。"
      ]
    },
    {
      "cell_type": "code",
      "execution_count": null,
      "metadata": {
        "id": "lowrkwE09mIe"
      },
      "outputs": [],
      "source": [
        "broadcast_random_element(tf.convert_to_tensor(['foo', 'bar', 'baz']))"
      ]
    }
  ],
  "metadata": {
    "colab": {
      "collapsed_sections": [],
      "name": "federated_select.ipynb",
      "toc_visible": true
    },
    "kernelspec": {
      "display_name": "Python 3",
      "name": "python3"
    }
  },
  "nbformat": 4,
  "nbformat_minor": 0
}
