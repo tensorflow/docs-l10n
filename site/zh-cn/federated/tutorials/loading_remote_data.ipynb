{
  "cells": [
    {
      "cell_type": "markdown",
      "metadata": {
        "id": "JqjnBbmi8BPM"
      },
      "source": [
        "##### Copyright 2022 The TensorFlow Authors."
      ]
    },
    {
      "cell_type": "code",
      "execution_count": null,
      "metadata": {
        "cellView": "form",
        "id": "PTdfUcwp8Eru"
      },
      "outputs": [],
      "source": [
        "#@title Licensed under the Apache License, Version 2.0 (the \"License\");\n",
        "# you may not use this file except in compliance with the License.\n",
        "# You may obtain a copy of the License at\n",
        "#\n",
        "# https://www.apache.org/licenses/LICENSE-2.0\n",
        "#\n",
        "# Unless required by applicable law or agreed to in writing, software\n",
        "# distributed under the License is distributed on an \"AS IS\" BASIS,\n",
        "# WITHOUT WARRANTIES OR CONDITIONS OF ANY KIND, either express or implied.\n",
        "# See the License for the specific language governing permissions and\n",
        "# limitations under the License."
      ]
    },
    {
      "cell_type": "markdown",
      "metadata": {
        "id": "G_JWOQsjxDDo"
      },
      "source": [
        "# 在 TFF 中加载远程数据\n",
        "\n",
        "---\n",
        "\n",
        "**注**：本 Colab 已通过验证，可与[最新发布版本](https://github.com/tensorflow/federated#compatibility)的 `tensorflow_federated` pip 软件包一起使用，但 Tensorflow Federated 项目仍处于预发布开发阶段，可能无法在 `main` 上运行。\n",
        "\n",
        "在联合学习的实际应用中，原始训练数据通常分布在许多设备或数据孤岛中 – 需要特殊的预处理和加载才能使用。\n",
        "\n",
        "本教程介绍了如何使用 TFF 的 `DataBackend` 和 `DataExecutor` 接口加载存储在这些远程位置的样本，并借助它们来使用联合学习训练模型。我们将通过使用存储在本地的训练数据集来演示数据加载 API 的用法，并模拟样本的采样，就好像数据集在不同的远程客户端上进行了分区一样。当您根据您的用例调整本教程时，您只需将该数据集与您自己的分布式数据交换即可。\n",
        "\n",
        "如果您不熟悉联合学习或 TFF，请考虑阅读[图像分类的联合学习](https://tensorflow.google.cn/federated/tutorials/federated_learning_for_image_classification)作为入门读物。"
      ]
    },
    {
      "cell_type": "markdown",
      "metadata": {
        "id": "nNJf48UE8V-f"
      },
      "source": [
        "<table class=\"tfo-notebook-buttons\" align=\"left\">\n",
        "  <td>     <a target=\"_blank\" href=\"https://tensorflow.google.cn/federated/tutorials/loading_remote_data\"><img src=\"https://tensorflow.google.cn/images/tf_logo_32px.png\">在 TensorFlow.org 上查看</a>\n",
        "</td>\n",
        "  <td>     <a target=\"_blank\" href=\"https://colab.research.google.com/github/tensorflow/docs-l10n/blob/master/site/zh-cn/federated/tutorials/loading_remote_data.ipynb\"><img src=\"https://tensorflow.google.cn/images/colab_logo_32px.png\">在 Google Colab 中运行</a>\n",
        "</td>\n",
        "  <td>     <a target=\"_blank\" href=\"https://github.com/tensorflow/docs-l10n/blob/master/site/zh-cn/federated/tutorials/loading_remote_data.ipynb\"><img src=\"https://tensorflow.google.cn/images/GitHub-Mark-32px.png\">在 GitHub 上查看源代码</a>\n",
        "</td>\n",
        "  <td>     <a href=\"https://storage.googleapis.com/tensorflow_docs/docs-l10n/site/zh-cn/federated/tutorials/loading_remote_data.ipynb\"><img src=\"https://tensorflow.google.cn/images/download_logo_32px.png\">下载笔记本</a>\n",
        "</td>\n",
        "</table>"
      ]
    },
    {
      "cell_type": "markdown",
      "metadata": {
        "id": "5sxoeaXPC8LF"
      },
      "source": [
        "## 准备工作\n",
        "\n",
        "在开始之前，请运行以下命令来确保您的环境已正确设置。有关详情，请参阅[安装](../install.md)指南。 "
      ]
    },
    {
      "cell_type": "code",
      "execution_count": null,
      "metadata": {
        "id": "ZrGitA_KnRO0"
      },
      "outputs": [],
      "source": [
        "#@title Set up open-source environment\n",
        "#@test {\"skip\": true}\n",
        "\n",
        "!pip install --quiet --upgrade tensorflow-federated\n",
        "!pip install --quiet --upgrade nest-asyncio\n",
        "\n",
        "import nest_asyncio\n",
        "nest_asyncio.apply()"
      ]
    },
    {
      "cell_type": "code",
      "execution_count": 21,
      "metadata": {
        "id": "8BKyHkMxKHfV"
      },
      "outputs": [],
      "source": [
        "#@title Import packages\n",
        "import collections\n",
        "import random\n",
        "from typing import Any, List, Optional, Sequence\n",
        "\n",
        "import numpy as np\n",
        "import tensorflow as tf\n",
        "import tensorflow_federated as tff\n",
        "\n",
        "np.random.seed(0)"
      ]
    },
    {
      "cell_type": "markdown",
      "metadata": {
        "id": "PIFgAEZID7_X"
      },
      "source": [
        "## 准备输入数据\n",
        "\n",
        "让我们首先从内置仓库中加载 TFF 的 [EMNIST 数据集](https://tensorflow.google.cn/federated/tutorials/federated_learning_for_image_classification#preparing_the_input_data)的联合版本："
      ]
    },
    {
      "cell_type": "code",
      "execution_count": 4,
      "metadata": {
        "id": "och-dTLZoPHI"
      },
      "outputs": [],
      "source": [
        "emnist_train, emnist_test = tff.simulation.datasets.emnist.load_data()"
      ]
    },
    {
      "cell_type": "markdown",
      "metadata": {
        "id": "9xkyMrciFYJc"
      },
      "source": [
        "构造一个预处理函数来转换 EMNIST 数据集中的原始样本。"
      ]
    },
    {
      "cell_type": "code",
      "execution_count": 5,
      "metadata": {
        "id": "kyiOMDO2GXKU"
      },
      "outputs": [],
      "source": [
        "NUM_EPOCHS = 5\n",
        "SHUFFLE_BUFFER = 100\n",
        "\n",
        "\n",
        "def preprocess(dataset):\n",
        "\n",
        "  def map_fn(element):\n",
        "    # Rename the features from `pixels` and `label`, to `x` and `y` for use with\n",
        "    # Keras.\n",
        "    return collections.OrderedDict(\n",
        "        # Transform each `28x28` image into a `784`-element array.\n",
        "        x=tf.reshape(element['pixels'], [-1, 784]),\n",
        "        y=tf.reshape(element['label'], [-1, 1]))\n",
        "\n",
        "  # Shuffle the individual examples and `repeat` over several epochs.\n",
        "  return dataset.repeat(NUM_EPOCHS).shuffle(SHUFFLE_BUFFER, seed=1).map(map_fn)"
      ]
    },
    {
      "cell_type": "markdown",
      "metadata": {
        "id": "V0prl3BhGWHm"
      },
      "source": [
        "我们来验证一下这是否有效："
      ]
    },
    {
      "cell_type": "code",
      "execution_count": 11,
      "metadata": {
        "id": "LTV06PafG0zV"
      },
      "outputs": [
        {
          "name": "stdout",
          "output_type": "stream",
          "text": [
            "<MapDataset element_spec=OrderedDict([('x', TensorSpec(shape=(1, 784), dtype=tf.float32, name=None)), ('y', TensorSpec(shape=(1, 1), dtype=tf.int32, name=None))])>\n"
          ]
        }
      ],
      "source": [
        "# The local dataset corresponding to a single client as tf.data.Dataset.\n",
        "example_dataset = emnist_train.create_tf_dataset_for_client(\n",
        "    emnist_train.client_ids[0])\n",
        "\n",
        "preprocessed_example_dataset = preprocess(example_dataset)\n",
        "print(preprocessed_example_dataset)"
      ]
    },
    {
      "cell_type": "markdown",
      "metadata": {
        "id": "OtnMawhie2Nh"
      },
      "source": [
        "接下来，我们将构造一个 `DataBackend` 的实现，它将加载和预处理来自 EMNIST 数据集中客户端的本地样本，这对于在联合学习期间获取可训练样本至关重要。"
      ]
    },
    {
      "cell_type": "markdown",
      "metadata": {
        "id": "8n-grt-mHIYG"
      },
      "source": [
        "## 定义如何获取客户端数据\n",
        "\n",
        "我们需要一个 `DataBackend` 的实例来指示 TFF 工作进程如何加载和转换本地数据。\n",
        "\n",
        "TFF 工作进程是在边缘机器上运行并为单个或多个逻辑客户端执行工作的进程。在此示例中，我们将用于训练的 EMNIST 数据集已经被逻辑客户端分区，并且所有工作进程都将在同一个本地环境中运行。因此，我们的 `DataBackend` 可以引用任何客户端对应的数据。但在非实验性设置中，TFF 工作进程将分布在各个远程计算机上，每台计算机都映射到一组不同的客户端，您需要确保 `DataBackend` 可以根据其本地上下文正确解析数据引用。"
      ]
    },
    {
      "cell_type": "code",
      "execution_count": 12,
      "metadata": {
        "id": "uNFPMzCxl-4A"
      },
      "outputs": [],
      "source": [
        "# A `DataBackend` is a programmatic construct that resolves symbolic references,\n",
        "# represented as application-specific URIs, to materialized examples that\n",
        "# TFF operations can process.\n",
        "class MyDataBackend(tff.framework.DataBackend):\n",
        "\n",
        "  async def materialize(self, data, type_spec):\n",
        "    # In this example, the URI contains the Id of a client.\n",
        "    client_id = int(data.uri[-1])\n",
        "    # The client Id is used to retrieve the corresponding local data.\n",
        "    client_dataset = emnist_train.create_tf_dataset_for_client(\n",
        "        emnist_train.client_ids[client_id])\n",
        "    # We process the client dataset before returning so its compatible with our\n",
        "    # model definitions.\n",
        "    return preprocess(client_dataset)"
      ]
    },
    {
      "cell_type": "markdown",
      "metadata": {
        "id": "10G3IcFLl9QC"
      },
      "source": [
        "## 设置运行时环境\n",
        "\n",
        "TFF 计算由 `ExecutionContext` 调用，为了在运行时理解 TFF 计算中定义的数据 URI，必须为 TFF 工作进程定义一个自定义上下文，其中包含指向我们刚刚创建的 `DataBackend` 的指针，以便可以正确解析 URI。\n"
      ]
    },
    {
      "cell_type": "code",
      "execution_count": 13,
      "metadata": {
        "id": "OAKm2SxHnIA6"
      },
      "outputs": [],
      "source": [
        "def ex_fn(device: tf.config.LogicalDevice) -> tff.framework.DataExecutor:\n",
        "  # A `DataBackend` object is wrapped by a `DataExecutor`, which queries the\n",
        "  # backend when a TFF worker encounters an operation requires fetching local\n",
        "  # data.\n",
        "  return tff.framework.DataExecutor(\n",
        "      tff.framework.EagerTFExecutor(device), data_backend=MyDataBackend())\n",
        "\n",
        "\n",
        "# In a distributed setting, this needs to run in the TFF worker as a service\n",
        "# connecting to some port. The top-level controller feeding TFF computations\n",
        "# would then connect to this port.\n",
        "factory = tff.framework.local_executor_factory(leaf_executor_fn=ex_fn)\n",
        "ctx = tff.framework.ExecutionContext(executor_fn=factory)\n",
        "tff.framework.set_default_context(ctx)"
      ]
    },
    {
      "cell_type": "markdown",
      "metadata": {
        "id": "8PDPVBPsnKcg"
      },
      "source": [
        "## 训练模型\n",
        "\n",
        "现在，我们已经准备好使用联合学习来训练模型。我们来定义一个 Keras 模型："
      ]
    },
    {
      "cell_type": "code",
      "execution_count": 14,
      "metadata": {
        "id": "X_iXlL6corkR"
      },
      "outputs": [],
      "source": [
        "def create_keras_model():\n",
        "  return tf.keras.models.Sequential([\n",
        "      tf.keras.layers.InputLayer(input_shape=(784,)),\n",
        "      tf.keras.layers.Dense(10, kernel_initializer='zeros'),\n",
        "      tf.keras.layers.Softmax(),\n",
        "  ])\n",
        "\n",
        "\n",
        "def model_fn():\n",
        "  keras_model = create_keras_model()\n",
        "  return tff.learning.from_keras_model(\n",
        "      keras_model,\n",
        "      input_spec=preprocessed_example_dataset.element_spec,\n",
        "      loss=tf.keras.losses.SparseCategoricalCrossentropy(),\n",
        "      metrics=[tf.keras.metrics.SparseCategoricalAccuracy()])"
      ]
    },
    {
      "cell_type": "markdown",
      "metadata": {
        "id": "wBfrmkq_pDd0"
      },
      "source": [
        "我们可以通过调用辅助函数 <code>tff.learning.algorithms.build_weighted_fed_avg</code> 将模型的这个 TFF 包装的定义传递给<a>联合平均</a>算法，如下所示："
      ]
    },
    {
      "cell_type": "code",
      "execution_count": 15,
      "metadata": {
        "id": "SGORt8ImmcLH"
      },
      "outputs": [],
      "source": [
        "iterative_process = tff.learning.algorithms.build_weighted_fed_avg(\n",
        "    model_fn,\n",
        "    client_optimizer_fn=lambda: tf.keras.optimizers.SGD(learning_rate=0.02),\n",
        "    server_optimizer_fn=lambda: tf.keras.optimizers.SGD(learning_rate=1.0))\n",
        "\n",
        "state = iterative_process.initialize()"
      ]
    },
    {
      "cell_type": "markdown",
      "metadata": {
        "id": "tT2r5Ayhpoaa"
      },
      "source": [
        "`initialize` 计算会返回联合平均过程的初始状态。\n",
        "\n",
        "为了运行一轮训练，我们需要通过收集 URI 引用样本来构造数据样本，如下所示："
      ]
    },
    {
      "cell_type": "code",
      "execution_count": 16,
      "metadata": {
        "id": "f2igGrhfpmqY"
      },
      "outputs": [],
      "source": [
        "NUM_CLIENTS = 10\n",
        "\n",
        "element_type = tff.types.StructWithPythonType(\n",
        "    preprocessed_example_dataset.element_spec,\n",
        "    container_type=collections.OrderedDict)\n",
        "dataset_type = tff.types.SequenceType(element_type)\n",
        "\n",
        "round_data_uris = [f'uri://{i}' for i in range(NUM_CLIENTS)]\n",
        "round_train_data = tff.framework.CreateDataDescriptor(\n",
        "    arg_uris=round_data_uris, arg_type=dataset_type)"
      ]
    },
    {
      "cell_type": "markdown",
      "metadata": {
        "id": "86Pd90E206FT"
      },
      "source": [
        "现在，我们可以进行一轮训练："
      ]
    },
    {
      "cell_type": "code",
      "execution_count": 17,
      "metadata": {
        "id": "2nOmtKF7p4Vo"
      },
      "outputs": [
        {
          "name": "stdout",
          "output_type": "stream",
          "text": [
            "round 1, metrics=OrderedDict([('distributor', ()), ('client_work', OrderedDict([('train', OrderedDict([('sparse_categorical_accuracy', 0.11234568), ('loss', 11.965633), ('num_examples', 4860), ('num_batches', 4860)]))])), ('aggregator', OrderedDict([('mean_value', ()), ('mean_weight', ())])), ('finalizer', ())])\n"
          ]
        }
      ],
      "source": [
        "result = iterative_process.next(state, round_train_data)\n",
        "state = result.state\n",
        "metrics = result.metrics\n",
        "print('round 1, metrics={}'.format(metrics))"
      ]
    },
    {
      "cell_type": "markdown",
      "metadata": {
        "id": "zIrJ4a5aqD6D"
      },
      "source": [
        "### 多轮训练\n",
        "\n",
        "我们可以定义一个 `FederatedDataSource` 容器来选择客户端并组装输入以检索本地数据。这样一来，循环多轮训练变得十分方便，并且可以在多个训练作业中重复使用。"
      ]
    },
    {
      "cell_type": "code",
      "execution_count": 25,
      "metadata": {
        "id": "S8ZNcpnZN0IA"
      },
      "outputs": [],
      "source": [
        "class MyFederatedDataSourceIterator(tff.program.FederatedDataSourceIterator):\n",
        "\n",
        "  def __init__(self, client_ids: Sequence[str],\n",
        "               federated_type: tff.FederatedType):\n",
        "    self._client_ids = client_ids\n",
        "    self._federated_type = federated_type\n",
        "\n",
        "  @property\n",
        "  def federated_type(self) -> tff.FederatedType:\n",
        "    return self._federated_type\n",
        "\n",
        "  def select(self, number_of_clients: Optional[int] = None) -> Any:\n",
        "    client_ids_sample = random.sample(self._client_ids, number_of_clients)\n",
        "    data_uris = [f'uri://{i}' for i in client_ids_sample]\n",
        "    return tff.framework.CreateDataDescriptor(\n",
        "        arg_uris=data_uris, arg_type=self._federated_type)\n",
        "\n",
        "\n",
        "class MyFederatedDataSource(tff.program.FederatedDataSource):\n",
        "\n",
        "  def __init__(self, client_ids: Sequence[str],\n",
        "               federated_type: tff.FederatedType):\n",
        "    self._client_ids = client_ids\n",
        "    self._federated_type = federated_type\n",
        "    self._capabilities = [tff.program.Capability.RANDOM_UNIFORM]\n",
        "\n",
        "  @property\n",
        "  def federated_type(self) -> tff.FederatedType:\n",
        "    return self._federated_type\n",
        "\n",
        "  @property\n",
        "  def capabilities(self) -> List[tff.program.Capability]:\n",
        "    return self._capabilities\n",
        "\n",
        "  def iterator(self) -> tff.program.FederatedDataSourceIterator:\n",
        "    return MyFederatedDataSourceIterator(self._client_ids, self._federated_type)\n",
        "\n",
        "\n",
        "train_data_source = MyFederatedDataSource(\n",
        "    client_ids=emnist_train.client_ids, federated_type=dataset_type)\n",
        "train_data_iterator = train_data_source.iterator()"
      ]
    },
    {
      "cell_type": "markdown",
      "metadata": {
        "id": "nxRz3rNwPHCV"
      },
      "source": [
        "现在，我们可以按如下方式运行联合学习训练循环："
      ]
    },
    {
      "cell_type": "code",
      "execution_count": 26,
      "metadata": {
        "id": "Zik5RUTWYQBD"
      },
      "outputs": [
        {
          "name": "stdout",
          "output_type": "stream",
          "text": [
            "round  2, metrics=OrderedDict([('distributor', ()), ('client_work', OrderedDict([('train', OrderedDict([('sparse_categorical_accuracy', 0.12357217), ('loss', 9.161968), ('num_examples', 4815), ('num_batches', 4815)]))])), ('aggregator', OrderedDict([('mean_value', ()), ('mean_weight', ())])), ('finalizer', ())])\n",
            "round  3, metrics=OrderedDict([('distributor', ()), ('client_work', OrderedDict([('train', OrderedDict([('sparse_categorical_accuracy', 0.20563674), ('loss', 7.0862083), ('num_examples', 4790), ('num_batches', 4790)]))])), ('aggregator', OrderedDict([('mean_value', ()), ('mean_weight', ())])), ('finalizer', ())])\n",
            "round  4, metrics=OrderedDict([('distributor', ()), ('client_work', OrderedDict([('train', OrderedDict([('sparse_categorical_accuracy', 0.30241227), ('loss', 5.6945825), ('num_examples', 4560), ('num_batches', 4560)]))])), ('aggregator', OrderedDict([('mean_value', ()), ('mean_weight', ())])), ('finalizer', ())])\n",
            "round  5, metrics=OrderedDict([('distributor', ()), ('client_work', OrderedDict([('train', OrderedDict([('sparse_categorical_accuracy', 0.3867347), ('loss', 4.7210026), ('num_examples', 4900), ('num_batches', 4900)]))])), ('aggregator', OrderedDict([('mean_value', ()), ('mean_weight', ())])), ('finalizer', ())])\n",
            "round  6, metrics=OrderedDict([('distributor', ()), ('client_work', OrderedDict([('train', OrderedDict([('sparse_categorical_accuracy', 0.42311886), ('loss', 4.205554), ('num_examples', 4585), ('num_batches', 4585)]))])), ('aggregator', OrderedDict([('mean_value', ()), ('mean_weight', ())])), ('finalizer', ())])\n",
            "round  7, metrics=OrderedDict([('distributor', ()), ('client_work', OrderedDict([('train', OrderedDict([('sparse_categorical_accuracy', 0.4501548), ('loss', 4.1297464), ('num_examples', 4845), ('num_batches', 4845)]))])), ('aggregator', OrderedDict([('mean_value', ()), ('mean_weight', ())])), ('finalizer', ())])\n",
            "round  8, metrics=OrderedDict([('distributor', ()), ('client_work', OrderedDict([('train', OrderedDict([('sparse_categorical_accuracy', 0.56590474), ('loss', 2.8927681), ('num_examples', 5250), ('num_batches', 5250)]))])), ('aggregator', OrderedDict([('mean_value', ()), ('mean_weight', ())])), ('finalizer', ())])\n",
            "round  9, metrics=OrderedDict([('distributor', ()), ('client_work', OrderedDict([('train', OrderedDict([('sparse_categorical_accuracy', 0.59917355), ('loss', 2.7431731), ('num_examples', 4840), ('num_batches', 4840)]))])), ('aggregator', OrderedDict([('mean_value', ()), ('mean_weight', ())])), ('finalizer', ())])\n",
            "round 10, metrics=OrderedDict([('distributor', ()), ('client_work', OrderedDict([('train', OrderedDict([('sparse_categorical_accuracy', 0.5717234), ('loss', 2.9738288), ('num_examples', 4845), ('num_batches', 4845)]))])), ('aggregator', OrderedDict([('mean_value', ()), ('mean_weight', ())])), ('finalizer', ())])\n"
          ]
        }
      ],
      "source": [
        "NUM_ROUNDS = 10\n",
        "\n",
        "for round_num in range(2, NUM_ROUNDS + 1):\n",
        "  round_train_data = train_data_iterator.select(NUM_CLIENTS)\n",
        "  result = iterative_process.next(state, round_train_data)\n",
        "  state = result.state\n",
        "  metrics = result.metrics\n",
        "  print('round {:2d}, metrics={}'.format(round_num, metrics))"
      ]
    },
    {
      "cell_type": "markdown",
      "metadata": {
        "id": "itjHBjJ6qOoS"
      },
      "source": [
        "## 结论\n",
        "\n",
        "本教程到此结束。我们鼓励您探索我们开发的其他教程，以了解 TFF 框架的许多其他功能。"
      ]
    }
  ],
  "metadata": {
    "colab": {
      "collapsed_sections": [],
      "name": "loading_remote_data.ipynb",
      "toc_visible": true
    },
    "kernelspec": {
      "display_name": "Python 3",
      "name": "python3"
    }
  },
  "nbformat": 4,
  "nbformat_minor": 0
}
