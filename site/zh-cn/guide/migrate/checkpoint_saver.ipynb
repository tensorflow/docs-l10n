{
  "cells": [
    {
      "cell_type": "markdown",
      "metadata": {
        "id": "wJcYs_ERTnnI"
      },
      "source": [
        "##### Copyright 2021 The TensorFlow Authors."
      ]
    },
    {
      "cell_type": "code",
      "execution_count": null,
      "metadata": {
        "cellView": "form",
        "id": "HMUDt0CiUJk9"
      },
      "outputs": [],
      "source": [
        "#@title Licensed under the Apache License, Version 2.0 (the \"License\");\n",
        "# you may not use this file except in compliance with the License.\n",
        "# You may obtain a copy of the License at\n",
        "#\n",
        "# https://www.apache.org/licenses/LICENSE-2.0\n",
        "#\n",
        "# Unless required by applicable law or agreed to in writing, software\n",
        "# distributed under the License is distributed on an \"AS IS\" BASIS,\n",
        "# WITHOUT WARRANTIES OR CONDITIONS OF ANY KIND, either express or implied.\n",
        "# See the License for the specific language governing permissions and\n",
        "# limitations under the License."
      ]
    },
    {
      "cell_type": "markdown",
      "metadata": {
        "id": "77z2OchJTk0l"
      },
      "source": [
        "# 迁移检查点保存\n",
        "\n",
        "<table class=\"tfo-notebook-buttons\" align=\"left\">\n",
        "  <td>     <a target=\"_blank\" href=\"https://tensorflow.google.cn/guide/migrate/checkpoint_saver\"><img src=\"https://tensorflow.google.cn/images/tf_logo_32px.png\">在 TensorFlow.org 上查看</a>   </td>\n",
        "  <td>     <a target=\"_blank\" href=\"https://colab.research.google.com/github/tensorflow/docs-l10n/blob/master/site/zh-cn/guide/migrate/checkpoint_saver.ipynb\"><img src=\"https://tensorflow.google.cn/images/colab_logo_32px.png\">在 Google Colab 运行</a>\n",
        "</td>\n",
        "  <td>     <a target=\"_blank\" href=\"https://github.com/tensorflow/docs-l10n/blob/master/site/zh-cn/guide/migrate/checkpoint_saver.ipynb\"><img src=\"https://tensorflow.google.cn/images/GitHub-Mark-32px.png\">在 Github 上查看源代码</a>\n",
        "</td>\n",
        "  <td>     <a href=\"https://storage.googleapis.com/tensorflow_docs/docs-l10n/site/zh-cn/guide/migrate/checkpoint_saver.ipynb\"><img src=\"https://tensorflow.google.cn/images/download_logo_32px.png\">下载笔记本</a>   </td>\n",
        "</table>\n"
      ]
    },
    {
      "cell_type": "markdown",
      "metadata": {
        "id": "hIo_p2FWFIRx"
      },
      "source": [
        "持续保存“最佳”模型或模型权重/参数有许多好处，包括能够跟踪训练进度并从不同的保存状态加载保存的模型。\n",
        "\n",
        "在 TensorFlow 1 中，要使用 `tf.estimator.Estimator` API 在训练/验证期间配置检查点保存，可以在 `tf.estimator.RunConfig` 中指定计划或使用 `tf.estimator.CheckpointSaverHook`。本指南演示了如何从该工作流迁移到 TensorFlow 2 Keras API。\n",
        "\n",
        "在 TensorFlow 2 中，可以通过多种方式配置 `tf.keras.callbacks.ModelCheckpoint`：\n",
        "\n",
        "- 根据使用 `save_best_only=True` 参数监视的指标保存“最佳”版本，其中 `monitor` 可以是 `'loss'`、`'val_loss'`、`'accuracy'` 或 'val_accuracy'`。\n",
        "- 以特定频率持续保存（使用 `save_freq` 参数）。\n",
        "- 通过将 `save_weights_only` 设置为 `True`，仅保存权重/参数而不是整个模型。\n",
        "\n",
        "有关详情，请参阅 `tf.keras.callbacks.ModelCheckpoint` API 文档和[保存和加载模型](../../tutorials/keras/save_and_load.ipynb)教程中的*训练期间保存检查点*部分。在[保存和加载 Keras 模型](https://tensorflow.google.cn/guide/keras/save_and_serialize)指南中的 *TF 检查点格式*部分中详细了解检查点格式。另外，要添加容错，可以使用 `tf.keras.callbacks.BackupAndRestore` 或 `tf.train.Checkpoint` 手动设置检查点。在[容错迁移指南](fault_tolerance.ipynb)中了解详情。\n",
        "\n",
        "Keras [回调](https://tensorflow.google.cn/guide/keras/custom_callback)是在内置 Keras `Model.fit`/`Model.evaluate`/`Model.predict` API 中的训练/评估/预测期间的不同点调用的对象。请在指南末尾的*后续步骤*部分中了解详情。"
      ]
    },
    {
      "cell_type": "markdown",
      "metadata": {
        "id": "f55c103999de"
      },
      "source": [
        "## 安装\n",
        "\n",
        "从导入和用于演示目的的简单数据集开始："
      ]
    },
    {
      "cell_type": "code",
      "execution_count": null,
      "metadata": {
        "id": "X74yjOb-e18w"
      },
      "outputs": [],
      "source": [
        "import tensorflow.compat.v1 as tf1\n",
        "import tensorflow as tf\n",
        "import numpy as np\n",
        "import tempfile"
      ]
    },
    {
      "cell_type": "code",
      "execution_count": null,
      "metadata": {
        "id": "2r8r4d8FfMny"
      },
      "outputs": [],
      "source": [
        "mnist = tf.keras.datasets.mnist\n",
        "\n",
        "(x_train, y_train),(x_test, y_test) = mnist.load_data()\n",
        "x_train, x_test = x_train / 255.0, x_test / 255.0"
      ]
    },
    {
      "cell_type": "markdown",
      "metadata": {
        "id": "wrqBkG4RFLP_"
      },
      "source": [
        "## TensorFlow 1：使用 tf.estimator API 保存检查点\n",
        "\n",
        "此 TensorFlow 1 示例展示了如何配置 `tf.estimator.RunConfig` 以在使用 `tf.estimator.Estimator` API 进行训练/评估期间的每一步保存检查点："
      ]
    },
    {
      "cell_type": "code",
      "execution_count": null,
      "metadata": {
        "id": "upA8nuf3FEq5"
      },
      "outputs": [],
      "source": [
        "feature_columns = [tf1.feature_column.numeric_column(\"x\", shape=[28, 28])]\n",
        "\n",
        "config = tf1.estimator.RunConfig(save_summary_steps=1,\n",
        "                                 save_checkpoints_steps=1)\n",
        "\n",
        "path = tempfile.mkdtemp()\n",
        "\n",
        "classifier = tf1.estimator.DNNClassifier(\n",
        "    feature_columns=feature_columns,\n",
        "    hidden_units=[256, 32],\n",
        "    optimizer=tf1.train.AdamOptimizer(0.001),\n",
        "    n_classes=10,\n",
        "    dropout=0.2,\n",
        "    model_dir=path,\n",
        "    config = config\n",
        ")\n",
        "\n",
        "train_input_fn = tf1.estimator.inputs.numpy_input_fn(\n",
        "    x={\"x\": x_train},\n",
        "    y=y_train.astype(np.int32),\n",
        "    num_epochs=10,\n",
        "    batch_size=50,\n",
        "    shuffle=True,\n",
        ")\n",
        "\n",
        "test_input_fn = tf1.estimator.inputs.numpy_input_fn(\n",
        "    x={\"x\": x_test},\n",
        "    y=y_test.astype(np.int32),\n",
        "    num_epochs=10,\n",
        "    shuffle=False\n",
        ")\n",
        "\n",
        "train_spec = tf1.estimator.TrainSpec(input_fn=train_input_fn, max_steps=10)\n",
        "eval_spec = tf1.estimator.EvalSpec(input_fn=test_input_fn,\n",
        "                                   steps=10,\n",
        "                                   throttle_secs=0)\n",
        "\n",
        "tf1.estimator.train_and_evaluate(estimator=classifier,\n",
        "                                train_spec=train_spec,\n",
        "                                eval_spec=eval_spec)"
      ]
    },
    {
      "cell_type": "code",
      "execution_count": null,
      "metadata": {
        "id": "3u96G4MtRVqU"
      },
      "outputs": [],
      "source": [
        "%ls {classifier.model_dir}"
      ]
    },
    {
      "cell_type": "markdown",
      "metadata": {
        "id": "QvE_uxDJFUX-"
      },
      "source": [
        "## TensorFlow 2：使用 Model.fit 的 Keras 回调保存检查点\n",
        "\n",
        "在 TensorFlow 2 中，使用内置 Keras `Model.fit`（或 `Model.evaluate`）进行训练/评估时，可以配置 `tf.keras.callbacks.ModelCheckpoint`，然后将其传递给 `Model.fit`（或 `Model.evaluate`）的 `callbacks` 参数。（请在 API 文档和[使用内置方法进行训练和评估](https://tensorflow.google.cn/guide/keras/train_and_evaluate)指南中的*使用回调*部分中了解详情。）\n",
        "\n",
        "在下面的示例中，您将使用 `tf.keras.callbacks.ModelCheckpoint` 回调将检查点存储在临时目录中："
      ]
    },
    {
      "cell_type": "code",
      "execution_count": null,
      "metadata": {
        "id": "9FLBhT2BFX2H"
      },
      "outputs": [],
      "source": [
        "def create_model():\n",
        "  return tf.keras.models.Sequential([\n",
        "    tf.keras.layers.Flatten(input_shape=(28, 28)),\n",
        "    tf.keras.layers.Dense(512, activation='relu'),\n",
        "    tf.keras.layers.Dropout(0.2),\n",
        "    tf.keras.layers.Dense(10, activation='softmax')\n",
        "  ])\n",
        "\n",
        "model = create_model()\n",
        "model.compile(optimizer='adam',\n",
        "              loss='sparse_categorical_crossentropy',\n",
        "              metrics=['accuracy'],\n",
        "              steps_per_execution=10)\n",
        "\n",
        "log_dir = tempfile.mkdtemp()\n",
        "\n",
        "model_checkpoint_callback = tf.keras.callbacks.ModelCheckpoint(\n",
        "    filepath=log_dir)\n",
        "\n",
        "model.fit(x=x_train,\n",
        "          y=y_train,\n",
        "          epochs=10,\n",
        "          validation_data=(x_test, y_test),\n",
        "          callbacks=[model_checkpoint_callback])"
      ]
    },
    {
      "cell_type": "code",
      "execution_count": null,
      "metadata": {
        "id": "SROSmhyyLBA-"
      },
      "outputs": [],
      "source": [
        "%ls {model_checkpoint_callback.filepath}"
      ]
    },
    {
      "cell_type": "markdown",
      "metadata": {
        "id": "rQUS8nO9FZlH"
      },
      "source": [
        "## 后续步骤\n",
        "\n",
        "在以下资源中详细了解检查点：\n",
        "\n",
        "- API 文档：`tf.keras.callbacks.ModelCheckpoint`\n",
        "- 教程：[保存和加载模型](../../tutorials/keras/save_and_load.ipynb)（*训练期间保存检查点*部分）\n",
        "- 指南：[保存和加载 Keras 模型](https://tensorflow.google.cn/guide/keras/save_and_serialize)（*TF 检查点格式*部分）\n",
        "\n",
        "以下资源中详细了解回调：\n",
        "\n",
        "- API 文档：`tf.keras.callbacks.Callback`\n",
        "- 指南：[编写自己的回调](https://tensorflow.google.cn/guide/keras/guide/keras/custom_callback)\n",
        "- 指南：[使用内置方法进行训练和评估](https://tensorflow.google.cn/guide/keras/train_and_evaluate)（*使用回调*部分）\n",
        "\n",
        "此外，您可能还会发现下列与迁移相关的资源十分有用：\n",
        "\n",
        "- [容错迁移指南](fault_tolerance.ipynb)：用于 `Model.fit` 的 `tf.keras.callbacks.BackupAndRestore`，或用于自定义训练循环的 `tf.train.Checkpoint` 和 `tf.train.CheckpointManager` API\n",
        "- [提前停止迁移指南](early_stopping.ipynb)：`tf.keras.callbacks.EarlyStopping` 是一个内置的提前停止回调\n",
        "- [TensorBoard 迁移指南](tensorboard.ipynb)：TensorBoard 支持跟踪和显示指标\n",
        "- [LoggingTensorHook 和 StopAtStepHook 到 Keras 回调迁移指南](logging_stop_hook.ipynb)\n",
        "- [Keras 回调的 SessionRunHook 指南](sessionrunhook_callback.ipynb)"
      ]
    }
  ],
  "metadata": {
    "colab": {
      "collapsed_sections": [],
      "name": "checkpoint_saver.ipynb",
      "toc_visible": true
    },
    "kernelspec": {
      "display_name": "Python 3",
      "name": "python3"
    }
  },
  "nbformat": 4,
  "nbformat_minor": 0
}
