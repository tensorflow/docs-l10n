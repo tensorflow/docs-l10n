{
  "cells": [
    {
      "cell_type": "markdown",
      "metadata": {
        "id": "58MWWgq75lMh"
      },
      "source": [
        "##### Copyright 2022 The TensorFlow Hub Authors.\n",
        "\n",
        "Licensed under the Apache License, Version 2.0 (the \"License\");"
      ]
    },
    {
      "cell_type": "code",
      "execution_count": null,
      "metadata": {
        "cellView": "form",
        "id": "jM3hCI1UUzar"
      },
      "outputs": [],
      "source": [
        "#@title Copyright 2022 The TensorFlow Hub Authors. All Rights Reserved.\n",
        "#\n",
        "# Licensed under the Apache License, Version 2.0 (the \"License\");\n",
        "# you may not use this file except in compliance with the License.\n",
        "# You may obtain a copy of the License at\n",
        "#\n",
        "#     http://www.apache.org/licenses/LICENSE-2.0\n",
        "#\n",
        "# Unless required by applicable law or agreed to in writing, software\n",
        "# distributed under the License is distributed on an \"AS IS\" BASIS,\n",
        "# WITHOUT WARRANTIES OR CONDITIONS OF ANY KIND, either express or implied.\n",
        "# See the License for the specific language governing permissions and\n",
        "# limitations under the License.\n",
        "# =============================================================================="
      ]
    },
    {
      "cell_type": "markdown",
      "metadata": {
        "id": "4_NEJlxKKjyI"
      },
      "source": [
        "<table class=\"tfo-notebook-buttons\" align=\"left\">\n",
        "  <td>     <a target=\"_blank\" href=\"https://tensorflow.google.cn/hub/tutorials/hrnet_semantic_segmentation\"><img src=\"https://tensorflow.google.cn/images/tf_logo_32px.png\">在 TensorFlow.org 上查看</a>\n",
        "</td>\n",
        "  <td>     <a target=\"_blank\" href=\"https://colab.research.google.com/github/tensorflow/docs-l10n/blob/master/site/zh-cn/hub/tutorials/hrnet_semantic_segmentation.ipynb\"><img src=\"https://tensorflow.google.cn/images/colab_logo_32px.png\">在 Google Colab 中运行</a>\n",
        "</td>\n",
        "  <td>     <a target=\"_blank\" href=\"https://github.com/tensorflow/docs-l10n/blob/master/site/zh-cn/hub/tutorials/hrnet_semantic_segmentation.ipynb\"><img src=\"https://tensorflow.google.cn/images/GitHub-Mark-32px.png\">在 GitHub 上查看源代码</a>\n",
        "</td>\n",
        "  <td>     <a href=\"https://storage.googleapis.com/tensorflow_docs/docs-l10n/site/zh-cn/hub/tutorials/hrnet_semantic_segmentation.ipynb\"><img src=\"https://tensorflow.google.cn/images/download_logo_32px.png\">下载笔记本</a>\n",
        "</td>\n",
        "  <td>     <a href=\"https://tfhub.dev/google/HRNet/\"><img src=\"https://tensorflow.google.cn/images/hub_logo_32px.png\">查看 TF Hub 模型</a>\n",
        "</td>\n",
        "</table>"
      ]
    },
    {
      "cell_type": "markdown",
      "metadata": {
        "id": "U5POcTVNB_dv"
      },
      "source": [
        "# 使用基于 HRNet 的模型进行语义分割\n",
        "\n",
        "在此笔记本中，您将：\n",
        "\n",
        "- 在不同的语义分割数据集上选择并加载 17 个预训练的 HRNet 模型之一\n",
        "- 运行推断以从模型主干中提取特征并从模型头中提取预测"
      ]
    },
    {
      "cell_type": "code",
      "execution_count": null,
      "metadata": {
        "id": "_XgTpm9ZxoN9"
      },
      "outputs": [],
      "source": [
        "import tensorflow as tf\n",
        "import tensorflow_hub as hub\n",
        "import matplotlib.pyplot as plt\n",
        "from PIL import Image\n",
        "import numpy as np"
      ]
    },
    {
      "cell_type": "markdown",
      "metadata": {
        "id": "UVtEyxDFpKE1"
      },
      "source": [
        "## 从 TensorFlow Hub 加载模型\n",
        "\n",
        "在这里，您可以选择要加载的预训练 HRNet 模型，不同的模型意味着使用不同的训练数据集。所有模型都具有相同的架构，除了模型头，它根据训练数据集中包含的类数 (dataset_output_classes) 具有不同的维度。有关不同数据集的更多信息，请参阅上面的链接和[影响数据集集合的因素](https://github.com/google-research/google-research/tree/master/factors_of_influence)。"
      ]
    },
    {
      "cell_type": "code",
      "execution_count": null,
      "metadata": {
        "id": "y8_ctG55-uTX"
      },
      "outputs": [],
      "source": [
        "#@title Choose a pre-trained HRNet model to load.\n",
        "\n",
        "hrnet_model_name = 'ade20k-hrnetv2-w48/1'  #@param [\"ade20k-hrnetv2-w48/1\", \"isprs-hrnetv2-w48/1\", \"vkitti2-hrnetv2-w48/1\", \"vgallery-hrnetv2-w48/1\", \"sunrgbd-hrnetv2-w48/1\", \"suim-hrnetv2-w48/1\", \"scannet-hrnetv2-w48/1\", \"pvoc-hrnetv2-w48/1\", \"msegpcontext-hrnetv2-w48/1\", \"mapillary-hrnetv2-w48/1\", \"kitti-hrnetv2-w48/1\", \"isaid-hrnetv2-w48/1\", \"idd-hrnetv2-w48/1\", \"coco-hrnetv2-w48/1\", \"city-hrnetv2-w48/1\", \"camvid-hrnetv2-w48/1\", \"bdd-hrnetv2-w48/1\"]\n",
        "\n",
        "tfhub_model_name = 'https://tfhub.dev/google/HRNet/' + hrnet_model_name\n",
        "\n",
        "print('HRNet model selected           :', tfhub_model_name)"
      ]
    },
    {
      "cell_type": "code",
      "execution_count": null,
      "metadata": {
        "id": "T-yHJ5X55kWN"
      },
      "outputs": [],
      "source": [
        "hrnet_model = hub.load(tfhub_model_name)\n",
        "\n",
        "print('HRNet model loaded           :', tfhub_model_name)"
      ]
    },
    {
      "cell_type": "markdown",
      "metadata": {
        "id": "pMP_7v9x6kol"
      },
      "source": [
        "## 加载图像并运行推断\n",
        "\n",
        "这是一个关于如何运行推断以从图像中提取特征和预测的演示。该图像取自 scene150 数据集。\n",
        "\n",
        "要对训练期间使用的数据集执行推断，请参阅[影响数据集集合的因素](https://github.com/google-research/google-research/tree/master/factors_of_influence)。"
      ]
    },
    {
      "cell_type": "code",
      "execution_count": null,
      "metadata": {
        "id": "GNzjieS66td_"
      },
      "outputs": [],
      "source": [
        "img_file = tf.keras.utils.get_file(origin=\"https://tensorflow.org/images/bedroom_hrnet_tutorial.jpg\")\n",
        "img = np.array(Image.open(img_file))/255.0"
      ]
    },
    {
      "cell_type": "code",
      "execution_count": null,
      "metadata": {
        "id": "Lp54vD_FZuHw"
      },
      "outputs": [],
      "source": [
        "plt.imshow(img)\n",
        "plt.show()\n",
        "\n",
        "# Predictions will have shape (batch_size, h, w, dataset_output_classes)\n",
        "predictions = hrnet_model.predict([img])\n",
        "plt.imshow(predictions[0,:,:,1])\n",
        "plt.title('Predictions for class #1')\n",
        "plt.show() \n",
        "# Features will have shape (batch_size, h/4, w/4, 720)\n",
        "features = hrnet_model.get_features([img])\n",
        "plt.imshow(features[0,:,:,1])\n",
        "plt.title('Feature #1 out of 720')\n",
        "plt.show()"
      ]
    }
  ],
  "metadata": {
    "colab": {
      "collapsed_sections": [],
      "name": "hrnet_semantic_segmentation.ipynb",
      "toc_visible": true
    },
    "kernelspec": {
      "display_name": "Python 3",
      "name": "python3"
    }
  },
  "nbformat": 4,
  "nbformat_minor": 0
}
