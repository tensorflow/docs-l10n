{
  "cells": [
    {
      "cell_type": "markdown",
      "metadata": {
        "id": "3XX46cTrh6iD"
      },
      "source": [
        "##### Copyright 2021 The TensorFlow Hub Authors. \n",
        "Licensed under the Apache License, Version 2.0 (the \"License\");"
      ]
    },
    {
      "cell_type": "code",
      "execution_count": null,
      "metadata": {
        "id": "sKrlWr6Kh-mF"
      },
      "outputs": [],
      "source": [
        "#@title Copyright 2021 The TensorFlow Hub Authors. All Rights Reserved.\n",
        "#\n",
        "# Licensed under the Apache License, Version 2.0 (the \"License\");\n",
        "# you may not use this file except in compliance with the License.\n",
        "# You may obtain a copy of the License at\n",
        "#\n",
        "#     http://www.apache.org/licenses/LICENSE-2.0\n",
        "#\n",
        "# Unless required by applicable law or agreed to in writing, software\n",
        "# distributed under the License is distributed on an \"AS IS\" BASIS,\n",
        "# WITHOUT WARRANTIES OR CONDITIONS OF ANY KIND, either express or implied.\n",
        "# See the License for the specific language governing permissions and\n",
        "# limitations under the License.\n",
        "# =============================================================================="
      ]
    },
    {
      "cell_type": "markdown",
      "metadata": {
        "id": "DMVmlJ0fAMkH"
      },
      "source": [
        "# 微调用于植物病害检测的模型\n"
      ]
    },
    {
      "cell_type": "markdown",
      "metadata": {
        "id": "hk5u_9KN1m-t"
      },
      "source": [
        "<table class=\"tfo-notebook-buttons\" align=\"left\">\n",
        "  <td>     <a target=\"_blank\" href=\"https://tensorflow.google.cn/hub/tutorials/cropnet_on_device\"><img src=\"https://tensorflow.google.cn/images/tf_logo_32px.png\">在 TensorFlow.org 上查看</a>\n",
        "</td>\n",
        "  <td><a target=\"_blank\" href=\"https://colab.research.google.com/github/tensorflow/docs-l10n/blob/master/site/zh-cn/hub/tutorials/cropnet_on_device.ipynb\"><img src=\"https://tensorflow.google.cn/images/colab_logo_32px.png\">在 Google Colab 中运行</a></td>\n",
        "  <td><a target=\"_blank\" href=\"https://github.com/tensorflow/docs-l10n/blob/master/site/zh-cn/hub/tutorials/cropnet_on_device.ipynb\">     <img src=\"https://tensorflow.google.cn/images/GitHub-Mark-32px.png\">     在 GitHub 上查看源代码</a></td>\n",
        "  <td>     <a href=\"https://storage.googleapis.com/tensorflow_docs/docs-l10n/site/zh-cn/hub/tutorials/cropnet_on_device.ipynb\"><img src=\"https://tensorflow.google.cn/images/download_logo_32px.png\">下载笔记本</a>   </td>\n",
        "  <td><a href=\"https://tfhub.dev/s?module-type=image-feature-vector&amp;q=cropnet\"><img src=\"https://tensorflow.google.cn/images/hub_logo_32px.png\">查看 TF Hub 模型</a></td>\n",
        "</table>"
      ]
    },
    {
      "cell_type": "markdown",
      "metadata": {
        "id": "OEHq-hV5sWYO"
      },
      "source": [
        "本笔记本展示如何使用 TFDS 的数据集或您自己的农作物病害检测数据集**微调 TensorFlow Hub 中的 CropNet 模型**。\n",
        "\n",
        "您将：\n",
        "\n",
        "- 加载 TFDS 木薯数据集或您自己的数据\n",
        "- 使用未知（负）示例丰富数据，以获得更稳健的模型\n",
        "- 对数据应用图像增强\n",
        "- 加载并微调 TF Hub 中的 [CropNet 模型](https://tfhub.dev/s?module-type=image-feature-vector&q=cropnet)\n",
        "- 导出一个 TFLite 模型，可以直接使用 [Task Library](https://tensorflow.google.cn/lite/inference_with_metadata/task_library/image_classifier)、[MLKit](https://developers.google.com/ml-kit/vision/image-labeling/custom-models/android) 或 [TFLite](https://tensorflow.google.cn/lite/guide/inference) 将其部署在您的应用上。"
      ]
    },
    {
      "cell_type": "markdown",
      "metadata": {
        "id": "dQvS4p807mZf"
      },
      "source": [
        "## 导入和依赖项\n",
        "\n",
        "在开始之前，您需要安装一些必需的依赖项（如 [Model Maker](https://tensorflow.google.cn/lite/guide/model_maker#installation)）和最新版本的 TensorFlow 数据集。"
      ]
    },
    {
      "cell_type": "code",
      "execution_count": null,
      "metadata": {
        "id": "5BDTEMtexXE3"
      },
      "outputs": [],
      "source": [
        "!sudo apt install -q libportaudio2\n",
        "!pip install --use-deprecated=legacy-resolver tflite-model-maker-nightly\n",
        "!pip install -U tensorflow-datasets\n",
        "## scann library requires tensorflow < 2.9.0\n",
        "!pip install \"tensorflow<2.9.0\""
      ]
    },
    {
      "cell_type": "code",
      "execution_count": null,
      "metadata": {
        "id": "nekG9Iwgxbx0"
      },
      "outputs": [],
      "source": [
        "import matplotlib.pyplot as plt\n",
        "import os\n",
        "import seaborn as sns\n",
        "\n",
        "import tensorflow as tf\n",
        "import tensorflow_datasets as tfds\n",
        "\n",
        "from tensorflow_examples.lite.model_maker.core.export_format import ExportFormat\n",
        "from tensorflow_examples.lite.model_maker.core.task import image_preprocessing\n",
        "\n",
        "from tflite_model_maker import image_classifier\n",
        "from tflite_model_maker import ImageClassifierDataLoader\n",
        "from tflite_model_maker.image_classifier import ModelSpec"
      ]
    },
    {
      "cell_type": "markdown",
      "metadata": {
        "id": "fV0k2Q4x4N_4"
      },
      "source": [
        "## 加载用于微调的 TFDS 数据集\n",
        "\n",
        "我们使用 TFDS 公开可用的[木薯叶病害数据集](https://tensorflow.google.cn/datasets/catalog/cassava)。"
      ]
    },
    {
      "cell_type": "code",
      "execution_count": null,
      "metadata": {
        "id": "TTaD5W_1xjUz"
      },
      "outputs": [],
      "source": [
        "tfds_name = 'cassava'\n",
        "(ds_train, ds_validation, ds_test), ds_info = tfds.load(\n",
        "    name=tfds_name,\n",
        "    split=['train', 'validation', 'test'],\n",
        "    with_info=True,\n",
        "    as_supervised=True)\n",
        "TFLITE_NAME_PREFIX = tfds_name"
      ]
    },
    {
      "cell_type": "markdown",
      "metadata": {
        "id": "xDuDGUAxyHtA"
      },
      "source": [
        "## 或者加载用于微调的您自己的数据\n",
        "\n",
        "除了使用 TFDS 数据集，您还可以使用自己的数据进行训练。以下代码片段显示了如何加载您自己的自定义数据集。有关支持的数据结构，请参阅[此](https://tensorflow.google.cn/datasets/api_docs/python/tfds/folder_dataset/ImageFolder)链接。这里提供了一个使用公开可用的[木薯叶病害数据集](https://tensorflow.google.cn/datasets/catalog/cassava)的示例。"
      ]
    },
    {
      "cell_type": "code",
      "execution_count": null,
      "metadata": {
        "id": "k003tLvflHpC"
      },
      "outputs": [],
      "source": [
        "# data_root_dir = tf.keras.utils.get_file(\n",
        "#     'cassavaleafdata.zip',\n",
        "#     'https://storage.googleapis.com/emcassavadata/cassavaleafdata.zip',\n",
        "#     extract=True)\n",
        "# data_root_dir = os.path.splitext(data_root_dir)[0]  # Remove the .zip extension\n",
        "\n",
        "# builder = tfds.ImageFolder(data_root_dir)\n",
        "\n",
        "# ds_info = builder.info\n",
        "# ds_train = builder.as_dataset(split='train', as_supervised=True)\n",
        "# ds_validation = builder.as_dataset(split='validation', as_supervised=True)\n",
        "# ds_test = builder.as_dataset(split='test', as_supervised=True)"
      ]
    },
    {
      "cell_type": "markdown",
      "metadata": {
        "id": "hs3XCVLo4Fa1"
      },
      "source": [
        "## 可视化训练分割的样本\n",
        "\n",
        "让我们看几个来自数据集的示例，其中包括图像样本的类别 id 和类别名称以及它们的标签。"
      ]
    },
    {
      "cell_type": "code",
      "execution_count": null,
      "metadata": {
        "id": "89GkD60Eyfe0"
      },
      "outputs": [],
      "source": [
        "_ = tfds.show_examples(ds_train, ds_info)"
      ]
    },
    {
      "cell_type": "markdown",
      "metadata": {
        "id": "-KW-n0lV4AZ-"
      },
      "source": [
        "## 从 TFDS 数据集添加图像以用作未知示例\n",
        "\n",
        "向训练数据集添加额外的未知（负）示例，并为它们分配一个新的未知类别标签号。目标是建立一个模型，当在实践中使用（例如在现场）时，如果看到意外情况，它可以选择预测“未知”。\n",
        "\n",
        "下面是一个将用于对其他未知图像进行采样的数据集列表。它包括 3 个完全不同的数据集以增加多样性。其中之一是豆叶病害数据集，因此该模型可接触到除木薯以外的病害植物。\n"
      ]
    },
    {
      "cell_type": "code",
      "execution_count": null,
      "metadata": {
        "id": "SYDMjRhDkDnd"
      },
      "outputs": [],
      "source": [
        "UNKNOWN_TFDS_DATASETS = [{\n",
        "    'tfds_name': 'imagenet_v2/matched-frequency',\n",
        "    'train_split': 'test[:80%]',\n",
        "    'test_split': 'test[80%:]',\n",
        "    'num_examples_ratio_to_normal': 1.0,\n",
        "}, {\n",
        "    'tfds_name': 'oxford_flowers102',\n",
        "    'train_split': 'train',\n",
        "    'test_split': 'test',\n",
        "    'num_examples_ratio_to_normal': 1.0,\n",
        "}, {\n",
        "    'tfds_name': 'beans',\n",
        "    'train_split': 'train',\n",
        "    'test_split': 'test',\n",
        "    'num_examples_ratio_to_normal': 1.0,\n",
        "}]"
      ]
    },
    {
      "cell_type": "markdown",
      "metadata": {
        "id": "XUM_d0evktGi"
      },
      "source": [
        "UNKNOWN 数据集也加载自 TFDS。"
      ]
    },
    {
      "cell_type": "code",
      "execution_count": null,
      "metadata": {
        "id": "5DdWgBTe8uKR"
      },
      "outputs": [],
      "source": [
        "# Load unknown datasets.\n",
        "weights = [\n",
        "    spec['num_examples_ratio_to_normal'] for spec in UNKNOWN_TFDS_DATASETS\n",
        "]\n",
        "num_unknown_train_examples = sum(\n",
        "    int(w * ds_train.cardinality().numpy()) for w in weights)\n",
        "ds_unknown_train = tf.data.Dataset.sample_from_datasets([\n",
        "    tfds.load(\n",
        "        name=spec['tfds_name'], split=spec['train_split'],\n",
        "        as_supervised=True).repeat(-1) for spec in UNKNOWN_TFDS_DATASETS\n",
        "], weights).take(num_unknown_train_examples)\n",
        "ds_unknown_train = ds_unknown_train.apply(\n",
        "    tf.data.experimental.assert_cardinality(num_unknown_train_examples))\n",
        "ds_unknown_tests = [\n",
        "    tfds.load(\n",
        "        name=spec['tfds_name'], split=spec['test_split'], as_supervised=True)\n",
        "    for spec in UNKNOWN_TFDS_DATASETS\n",
        "]\n",
        "ds_unknown_test = ds_unknown_tests[0]\n",
        "for ds in ds_unknown_tests[1:]:\n",
        "  ds_unknown_test = ds_unknown_test.concatenate(ds)\n",
        "\n",
        "# All examples from the unknown datasets will get a new class label number.\n",
        "num_normal_classes = len(ds_info.features['label'].names)\n",
        "unknown_label_value = tf.convert_to_tensor(num_normal_classes, tf.int64)\n",
        "ds_unknown_train = ds_unknown_train.map(lambda image, _:\n",
        "                                        (image, unknown_label_value))\n",
        "ds_unknown_test = ds_unknown_test.map(lambda image, _:\n",
        "                                      (image, unknown_label_value))\n",
        "\n",
        "# Merge the normal train dataset with the unknown train dataset.\n",
        "weights = [\n",
        "    ds_train.cardinality().numpy(),\n",
        "    ds_unknown_train.cardinality().numpy()\n",
        "]\n",
        "ds_train_with_unknown = tf.data.Dataset.sample_from_datasets(\n",
        "    [ds_train, ds_unknown_train], [float(w) for w in weights])\n",
        "ds_train_with_unknown = ds_train_with_unknown.apply(\n",
        "    tf.data.experimental.assert_cardinality(sum(weights)))\n",
        "\n",
        "print((f\"Added {ds_unknown_train.cardinality().numpy()} negative examples.\"\n",
        "       f\"Training dataset has now {ds_train_with_unknown.cardinality().numpy()}\"\n",
        "       ' examples in total.'))"
      ]
    },
    {
      "cell_type": "markdown",
      "metadata": {
        "id": "am6eKbzt7raH"
      },
      "source": [
        "## 应用增强"
      ]
    },
    {
      "cell_type": "markdown",
      "metadata": {
        "id": "sxIUP0Flk35V"
      },
      "source": [
        "为了使所有图像更具多样性，您将应用一些增强，如以下方面的更改：\n",
        "\n",
        "- 亮度\n",
        "- 对比度\n",
        "- 饱和度\n",
        "- 色相\n",
        "- 剪裁\n",
        "\n",
        "这些类型的增强有助于使模型更加稳健，以适应图像输入的变化。\n"
      ]
    },
    {
      "cell_type": "code",
      "execution_count": null,
      "metadata": {
        "id": "q_BiOkXjqRju"
      },
      "outputs": [],
      "source": [
        "def random_crop_and_random_augmentations_fn(image):\n",
        "  # preprocess_for_train does random crop and resize internally.\n",
        "  image = image_preprocessing.preprocess_for_train(image)\n",
        "  image = tf.image.random_brightness(image, 0.2)\n",
        "  image = tf.image.random_contrast(image, 0.5, 2.0)\n",
        "  image = tf.image.random_saturation(image, 0.75, 1.25)\n",
        "  image = tf.image.random_hue(image, 0.1)\n",
        "  return image\n",
        "\n",
        "\n",
        "def random_crop_fn(image):\n",
        "  # preprocess_for_train does random crop and resize internally.\n",
        "  image = image_preprocessing.preprocess_for_train(image)\n",
        "  return image\n",
        "\n",
        "\n",
        "def resize_and_center_crop_fn(image):\n",
        "  image = tf.image.resize(image, (256, 256))\n",
        "  image = image[16:240, 16:240]\n",
        "  return image\n",
        "\n",
        "\n",
        "no_augment_fn = lambda image: image\n",
        "\n",
        "train_augment_fn = lambda image, label: (\n",
        "    random_crop_and_random_augmentations_fn(image), label)\n",
        "eval_augment_fn = lambda image, label: (resize_and_center_crop_fn(image), label)"
      ]
    },
    {
      "cell_type": "markdown",
      "metadata": {
        "id": "RUfqE1c3l6my"
      },
      "source": [
        "为了应用增强，它使用 Dataset 类中的 `map` 方法。"
      ]
    },
    {
      "cell_type": "code",
      "execution_count": null,
      "metadata": {
        "id": "Uq-NCtaH_h8j"
      },
      "outputs": [],
      "source": [
        "ds_train_with_unknown = ds_train_with_unknown.map(train_augment_fn)\n",
        "ds_validation = ds_validation.map(eval_augment_fn)\n",
        "ds_test = ds_test.map(eval_augment_fn)\n",
        "ds_unknown_test = ds_unknown_test.map(eval_augment_fn)"
      ]
    },
    {
      "cell_type": "markdown",
      "metadata": {
        "id": "DvnwolLiCqYX"
      },
      "source": [
        "## 将数据包装成 Model Maker 友好的格式\n",
        "\n",
        "要将这些数据集与 Model Maker 一起使用，它们需要处于 ImageClassifierDataLoader 类中。"
      ]
    },
    {
      "cell_type": "code",
      "execution_count": null,
      "metadata": {
        "id": "OXPWEDFDRlVu"
      },
      "outputs": [],
      "source": [
        "label_names = ds_info.features['label'].names + ['UNKNOWN']\n",
        "\n",
        "train_data = ImageClassifierDataLoader(ds_train_with_unknown,\n",
        "                                       ds_train_with_unknown.cardinality(),\n",
        "                                       label_names)\n",
        "validation_data = ImageClassifierDataLoader(ds_validation,\n",
        "                                            ds_validation.cardinality(),\n",
        "                                            label_names)\n",
        "test_data = ImageClassifierDataLoader(ds_test, ds_test.cardinality(),\n",
        "                                      label_names)\n",
        "unknown_test_data = ImageClassifierDataLoader(ds_unknown_test,\n",
        "                                              ds_unknown_test.cardinality(),\n",
        "                                              label_names)"
      ]
    },
    {
      "cell_type": "markdown",
      "metadata": {
        "id": "j2iDwq2Njpb_"
      },
      "source": [
        "## 运行训练\n",
        "\n",
        "[TensorFlow Hub](https://tfhub.dev) 有多个可用于迁移学习的模型。\n",
        "\n",
        "这里您可以选择一个，也可以继续试验其他模型以获得更好的结果。\n",
        "\n",
        "如果您想尝试更多模型，可以从此[集合](https://tfhub.dev/google/collections/image/1)添加。\n"
      ]
    },
    {
      "cell_type": "code",
      "execution_count": null,
      "metadata": {
        "cellView": "form",
        "id": "5UhNpR0Ex_5-"
      },
      "outputs": [],
      "source": [
        "#@title Choose a base model\n",
        "\n",
        "model_name = 'mobilenet_v3_large_100_224'  #@param ['cropnet_cassava', 'cropnet_concat', 'cropnet_imagenet', 'mobilenet_v3_large_100_224']\n",
        "\n",
        "map_model_name = {\n",
        "    'cropnet_cassava':\n",
        "        'https://tfhub.dev/google/cropnet/feature_vector/cassava_disease_V1/1',\n",
        "    'cropnet_concat':\n",
        "        'https://tfhub.dev/google/cropnet/feature_vector/concat/1',\n",
        "    'cropnet_imagenet':\n",
        "        'https://tfhub.dev/google/cropnet/feature_vector/imagenet/1',\n",
        "    'mobilenet_v3_large_100_224':\n",
        "        'https://tfhub.dev/google/imagenet/mobilenet_v3_large_100_224/feature_vector/5',\n",
        "}\n",
        "\n",
        "model_handle = map_model_name[model_name]"
      ]
    },
    {
      "cell_type": "markdown",
      "metadata": {
        "id": "Y1ecXlQgR5Uk"
      },
      "source": [
        "要微调模型，您将使用 Model Maker。这使得整体解决方案更容易，因为在训练模型之后，它也会将其转换为 TFLite。\n",
        "\n",
        "Model Maker 将进行最佳的转换，并提供所有必要的信息，以便以后在设备上轻松部署模型。\n",
        "\n",
        "模型规范是您告诉 Model Maker 您想使用哪个基础模型的方式。"
      ]
    },
    {
      "cell_type": "code",
      "execution_count": null,
      "metadata": {
        "id": "L8P-VTqJ8GaF"
      },
      "outputs": [],
      "source": [
        "image_model_spec = ModelSpec(uri=model_handle)"
      ]
    },
    {
      "cell_type": "markdown",
      "metadata": {
        "id": "AnWN3kk6jCHf"
      },
      "source": [
        "此处一个重要细节是设置 `train_whole_model`，它将使基础模型在训练期间得到微调。这会使过程变慢，但最终模型具有更高的准确性。设置 `shuffle` 将确保模型以随机的 shuffle 顺序看到数据，这是模型学习的最佳实践。"
      ]
    },
    {
      "cell_type": "code",
      "execution_count": null,
      "metadata": {
        "id": "KRbSDbnA6Xap"
      },
      "outputs": [],
      "source": [
        "model = image_classifier.create(\n",
        "    train_data,\n",
        "    model_spec=image_model_spec,\n",
        "    batch_size=128,\n",
        "    learning_rate=0.03,\n",
        "    epochs=5,\n",
        "    shuffle=True,\n",
        "    train_whole_model=True,\n",
        "    validation_data=validation_data)"
      ]
    },
    {
      "cell_type": "markdown",
      "metadata": {
        "id": "buFDW0izBqIQ"
      },
      "source": [
        "## 使用测试分割评估模型"
      ]
    },
    {
      "cell_type": "code",
      "execution_count": null,
      "metadata": {
        "id": "OYIZ1rlV7lxm"
      },
      "outputs": [],
      "source": [
        "model.evaluate(test_data)"
      ]
    },
    {
      "cell_type": "markdown",
      "metadata": {
        "id": "YJaReZ_OVU71"
      },
      "source": [
        "要更好地理解微调模型，最好分析混淆矩阵。这将显示一个类别被预测为另一个类别的频率。"
      ]
    },
    {
      "cell_type": "code",
      "execution_count": null,
      "metadata": {
        "id": "o9_vs1nNKOLF"
      },
      "outputs": [],
      "source": [
        "def predict_class_label_number(dataset):\n",
        "  \"\"\"Runs inference and returns predictions as class label numbers.\"\"\"\n",
        "  rev_label_names = {l: i for i, l in enumerate(label_names)}\n",
        "  return [\n",
        "      rev_label_names[o[0][0]]\n",
        "      for o in model.predict_top_k(dataset, batch_size=128)\n",
        "  ]\n",
        "\n",
        "def show_confusion_matrix(cm, labels):\n",
        "  plt.figure(figsize=(10, 8))\n",
        "  sns.heatmap(cm, xticklabels=labels, yticklabels=labels, \n",
        "              annot=True, fmt='g')\n",
        "  plt.xlabel('Prediction')\n",
        "  plt.ylabel('Label')\n",
        "  plt.show()"
      ]
    },
    {
      "cell_type": "code",
      "execution_count": null,
      "metadata": {
        "id": "7BWZCKerCNF_"
      },
      "outputs": [],
      "source": [
        "confusion_mtx = tf.math.confusion_matrix(\n",
        "    list(ds_test.map(lambda x, y: y)),\n",
        "    predict_class_label_number(test_data),\n",
        "    num_classes=len(label_names))\n",
        "\n",
        "show_confusion_matrix(confusion_mtx, label_names)"
      ]
    },
    {
      "cell_type": "markdown",
      "metadata": {
        "id": "ksu9BFULBvmj"
      },
      "source": [
        "## 使用未知测试数据评估模型\n",
        "\n",
        "在此评估中，我们希望模型的准确度近乎为 1。用于测试模型的所有图像都与常规数据集无关，因此我们希望模型能够预测“未知”类别标签。"
      ]
    },
    {
      "cell_type": "code",
      "execution_count": null,
      "metadata": {
        "id": "f5wvZwliZcJP"
      },
      "outputs": [],
      "source": [
        "model.evaluate(unknown_test_data)"
      ]
    },
    {
      "cell_type": "markdown",
      "metadata": {
        "id": "jm47Odo5Vaiq"
      },
      "source": [
        "打印混淆矩阵。"
      ]
    },
    {
      "cell_type": "code",
      "execution_count": null,
      "metadata": {
        "id": "E_gEX3oWH1YT"
      },
      "outputs": [],
      "source": [
        "unknown_confusion_mtx = tf.math.confusion_matrix(\n",
        "    list(ds_unknown_test.map(lambda x, y: y)),\n",
        "    predict_class_label_number(unknown_test_data),\n",
        "    num_classes=len(label_names))\n",
        "\n",
        "show_confusion_matrix(unknown_confusion_mtx, label_names)"
      ]
    },
    {
      "cell_type": "markdown",
      "metadata": {
        "id": "o2agDx2fCHyd"
      },
      "source": [
        "## 将模型导出为 TFLite 和 SavedModel\n",
        "\n",
        "现在我们可以导出 TFLite 和 SavedModel 格式的训练后模型，以在设备上部署并用于 TensorFlow 中的推理。"
      ]
    },
    {
      "cell_type": "code",
      "execution_count": null,
      "metadata": {
        "id": "bAFvBmMr7owW"
      },
      "outputs": [],
      "source": [
        "tflite_filename = f'{TFLITE_NAME_PREFIX}_model_{model_name}.tflite'\n",
        "model.export(export_dir='.', tflite_filename=tflite_filename)"
      ]
    },
    {
      "cell_type": "code",
      "execution_count": null,
      "metadata": {
        "id": "Pz0-6To2C4yM"
      },
      "outputs": [],
      "source": [
        "# Export saved model version.\n",
        "model.export(export_dir='.', export_format=ExportFormat.SAVED_MODEL)"
      ]
    },
    {
      "cell_type": "markdown",
      "metadata": {
        "id": "4V4GdQqxjEU7"
      },
      "source": [
        "## 后续步骤\n",
        "\n",
        "您刚刚训练的模型可以在移动设备上使用，甚至可以在现场部署！\n",
        "\n",
        "**要下载模型，请点击 colab 左侧“文件”菜单的文件夹图标，然后选择下载选项。**\n",
        "\n",
        "这里使用的相同技术可应用于其他植物病害任务，这些任务可能更适合您的用例或任何其他类型的图像分类任务。如果您想要跟进并在 Android 应用上进行部署，您可以继续阅读此 [Android 快速入门指南](https://tensorflow.google.cn/lite/android/quickstart)。"
      ]
    }
  ],
  "metadata": {
    "accelerator": "GPU",
    "colab": {
      "collapsed_sections": [
        "3XX46cTrh6iD",
        "xDuDGUAxyHtA"
      ],
      "name": "cropnet_on_device.ipynb",
      "toc_visible": true
    },
    "kernelspec": {
      "display_name": "Python 3",
      "name": "python3"
    }
  },
  "nbformat": 4,
  "nbformat_minor": 0
}
