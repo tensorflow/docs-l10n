{
  "cells": [
    {
      "cell_type": "markdown",
      "metadata": {
        "id": "xLOXFOT5Q40E"
      },
      "source": [
        "##### Copyright 2020 The TensorFlow Authors."
      ]
    },
    {
      "cell_type": "code",
      "execution_count": null,
      "metadata": {
        "cellView": "form",
        "id": "iiQkM5ZgQ8r2"
      },
      "outputs": [],
      "source": [
        "#@title Licensed under the Apache License, Version 2.0 (the \"License\");\n",
        "# you may not use this file except in compliance with the License.\n",
        "# You may obtain a copy of the License at\n",
        "#\n",
        "# https://www.apache.org/licenses/LICENSE-2.0\n",
        "#\n",
        "# Unless required by applicable law or agreed to in writing, software\n",
        "# distributed under the License is distributed on an \"AS IS\" BASIS,\n",
        "# WITHOUT WARRANTIES OR CONDITIONS OF ANY KIND, either express or implied.\n",
        "# See the License for the specific language governing permissions and\n",
        "# limitations under the License."
      ]
    },
    {
      "cell_type": "markdown",
      "metadata": {
        "id": "uLeF5Nmdef0V"
      },
      "source": [
        "# 量子卷积神经网络"
      ]
    },
    {
      "cell_type": "markdown",
      "metadata": {
        "id": "i9Jcnb8bQQyd"
      },
      "source": [
        "<table class=\"tfo-notebook-buttons\" align=\"left\">\n",
        "  <td><a target=\"_blank\" href=\"https://tensorflow.google.cn/quantum/tutorials/qcnn\"><img src=\"https://tensorflow.google.cn/images/tf_logo_32px.png\">在 TensorFlow.org 上查看</a></td>\n",
        "  <td><a target=\"_blank\" href=\"https://colab.research.google.com/github/tensorflow/docs-l10n/blob/master/site/zh-cn/quantum/tutorials/qcnn.ipynb\"><img src=\"https://tensorflow.google.cn/images/colab_logo_32px.png\">在 Google Colab 中运行</a></td>\n",
        "  <td><a target=\"_blank\" href=\"https://github.com/tensorflow/docs-l10n/blob/master/site/zh-cn/quantum/tutorials/qcnn.ipynb\"><img src=\"https://tensorflow.google.cn/images/GitHub-Mark-32px.png\">在 GitHub 上查看源代码</a></td>\n",
        "  <td><a href=\"https://storage.googleapis.com/tensorflow_docs/docs-l10n/site/zh-cn/quantum/tutorials/qcnn.ipynb\"><img src=\"https://tensorflow.google.cn/images/download_logo_32px.png\">下载笔记本</a></td>\n",
        "</table>"
      ]
    },
    {
      "cell_type": "markdown",
      "metadata": {
        "id": "4D3xaWBHOIVg"
      },
      "source": [
        "本教程介绍如何实现一个简化的<a href=\"https://www.nature.com/articles/s41567-019-0648-8\" class=\"external\">量子卷积神经网络</a> (QCNN)，即对同样具有*平移不变性*的经典卷积神经网络的提议量子模拟。\n",
        "\n",
        "本示例演示如何检测量子数据源的某些属性，例如设备的量子传感器或复杂模拟。量子数据源是可能有或可能没有激发的<a href=\"https://arxiv.org/pdf/quant-ph/0504097.pdf\" class=\"external\">簇态</a>，后者是 QCNN 将学习检测的对象（论文中使用的数据集是 SPT 阶段分类）。"
      ]
    },
    {
      "cell_type": "markdown",
      "metadata": {
        "id": "FnjolLuz8o5C"
      },
      "source": [
        "## 设置"
      ]
    },
    {
      "cell_type": "code",
      "execution_count": null,
      "metadata": {
        "id": "Aquwcz-0aHqz"
      },
      "outputs": [],
      "source": [
        "!pip install tensorflow==2.7.0"
      ]
    },
    {
      "cell_type": "markdown",
      "metadata": {
        "id": "e_ZuLN_N8yhT"
      },
      "source": [
        "安装 TensorFlow Quantum："
      ]
    },
    {
      "cell_type": "code",
      "execution_count": null,
      "metadata": {
        "id": "3Pl5PW-ACO9J"
      },
      "outputs": [],
      "source": [
        "!pip install tensorflow-quantum==0.7.2"
      ]
    },
    {
      "cell_type": "code",
      "execution_count": null,
      "metadata": {
        "id": "4Ql5PW-ACO0J"
      },
      "outputs": [],
      "source": [
        "# Update package resources to account for version changes.\n",
        "import importlib, pkg_resources\n",
        "importlib.reload(pkg_resources)"
      ]
    },
    {
      "cell_type": "markdown",
      "metadata": {
        "id": "TL_LvHXzPNjW"
      },
      "source": [
        "现在，导入 TensorFlow 和模块依赖项："
      ]
    },
    {
      "cell_type": "code",
      "execution_count": null,
      "metadata": {
        "id": "QytLEAtoejW5"
      },
      "outputs": [],
      "source": [
        "import tensorflow as tf\n",
        "import tensorflow_quantum as tfq\n",
        "\n",
        "import cirq\n",
        "import sympy\n",
        "import numpy as np\n",
        "\n",
        "# visualization tools\n",
        "%matplotlib inline\n",
        "import matplotlib.pyplot as plt\n",
        "from cirq.contrib.svg import SVGCircuit"
      ]
    },
    {
      "cell_type": "markdown",
      "metadata": {
        "id": "j6331ZSsQGY3"
      },
      "source": [
        "## 1. 构建 QCNN"
      ]
    },
    {
      "cell_type": "markdown",
      "metadata": {
        "id": "Qg85u3G--CGq"
      },
      "source": [
        "### 1.1 在 TensorFlow 计算图中组装电路\n",
        "\n",
        "TensorFlow Quantum (TFQ) 提供了专为计算图中的电路构造而设计的层类。一个示例是从 `tf.keras.Layer` 继承的 `tfq.layers.AddCircuit` 层。此层可以追加或附加到电路的输入批次，如下图所示。\n",
        "\n",
        "\n",
        "<img src=\"./images/qcnn_1.png\" width=\"700\">\n",
        "\n",
        "下面的代码段使用了此层："
      ]
    },
    {
      "cell_type": "code",
      "execution_count": null,
      "metadata": {
        "id": "FhNf0G_OPLqZ"
      },
      "outputs": [],
      "source": [
        "qubit = cirq.GridQubit(0, 0)\n",
        "\n",
        "# Define some circuits.\n",
        "circuit1 = cirq.Circuit(cirq.X(qubit))\n",
        "circuit2 = cirq.Circuit(cirq.H(qubit))\n",
        "\n",
        "# Convert to a tensor.\n",
        "input_circuit_tensor = tfq.convert_to_tensor([circuit1, circuit2])\n",
        "\n",
        "# Define a circuit that we want to append\n",
        "y_circuit = cirq.Circuit(cirq.Y(qubit))\n",
        "\n",
        "# Instantiate our layer\n",
        "y_appender = tfq.layers.AddCircuit()\n",
        "\n",
        "# Run our circuit tensor through the layer and save the output.\n",
        "output_circuit_tensor = y_appender(input_circuit_tensor, append=y_circuit)"
      ]
    },
    {
      "cell_type": "markdown",
      "metadata": {
        "id": "ShZbRZCXkvk5"
      },
      "source": [
        "检查输入张量："
      ]
    },
    {
      "cell_type": "code",
      "execution_count": null,
      "metadata": {
        "id": "ImRynsUN4BSG"
      },
      "outputs": [],
      "source": [
        "print(tfq.from_tensor(input_circuit_tensor))"
      ]
    },
    {
      "cell_type": "markdown",
      "metadata": {
        "id": "xkGU4ZTUk4gf"
      },
      "source": [
        "检查输出张量："
      ]
    },
    {
      "cell_type": "code",
      "execution_count": null,
      "metadata": {
        "id": "tfff6dJp39Fg"
      },
      "outputs": [],
      "source": [
        "print(tfq.from_tensor(output_circuit_tensor))"
      ]
    },
    {
      "cell_type": "markdown",
      "metadata": {
        "id": "23JeZ7Ns5qy5"
      },
      "source": [
        "虽然不使用 `tfq.layers.AddCircuit` 也可以运行下面的示例，但这是一个理解如何将复杂的功能嵌入 TensorFlow 计算图的好机会。"
      ]
    },
    {
      "cell_type": "markdown",
      "metadata": {
        "id": "GcVplt9455Hi"
      },
      "source": [
        "### 1.2 问题概述\n",
        "\n",
        "您将准备*簇态*，并训练一个量子分类器来检测它是否处于“激发”状态。簇态是高度纠缠的，不过，这对经典计算机而言并非难以解决的问题。为了让您更清楚地理解，我们使用的这一数据集比论文中使用的更简单。\n",
        "\n",
        "对于此分类任务，您将实现一个类似深度 <a href=\"https://arxiv.org/pdf/quant-ph/0610099.pdf\" class=\"external\">MERA</a> 的 QCNN 架构，因为：\n",
        "\n",
        "1. 就像 QCNN 一样，环上的簇态具有平移不变性。\n",
        "2. 簇态是高度纠缠的。\n",
        "\n",
        "这种架构在减少纠缠方面应该会很有效，通过读出一个量子位来获得分类。\n",
        "\n",
        "\n",
        "<img src=\"./images/qcnn_2.png\" width=\"1000\">\n",
        "\n",
        "根据定义，“激发”簇态是指将 `cirq.rx` 门应用到其任何量子位的簇态。Qconv 和 QPool 在本教程的后续部分讨论。"
      ]
    },
    {
      "cell_type": "markdown",
      "metadata": {
        "id": "jpqtsGJH_I1d"
      },
      "source": [
        "### 1.3 为 TensorFlow 构建块\n",
        "\n",
        "\n",
        "<img src=\"./images/qcnn_3.png\" width=\"1000\">\n",
        "\n",
        "使用 TensorFlow Quantum 解决此问题的一种方式是实现以下几点：\n",
        "\n",
        "1. 模型的输入是一个电路张量，空电路或表明激发的特定量子位上的 X 门。\n",
        "2. 使用 `tfq.layers.AddCircuit` 层构造模型的其他量子组件。\n",
        "3. 使用 `tfq.layers.PQC` 层进行推断。它会读取 $\\langle \\hat{Z} \\rangle$，并将其与激发态的标签 1 或非激发态的标签 -1 进行比较。"
      ]
    },
    {
      "cell_type": "markdown",
      "metadata": {
        "id": "oa7Q3m_ThDgO"
      },
      "source": [
        "### 1.4 数据\n",
        "\n",
        "在构建模型之前，您可以生成数据。在本例中，它将是簇态的激发（原论文使用的是一个更复杂的数据集）。激发通过 `cirq.rx` 门表示。我们将足够大的旋转视为激发，并使用 `1` 进行标记，不够大的旋转则使用 `-1` 标记，我们将其视为未激发。"
      ]
    },
    {
      "cell_type": "code",
      "execution_count": null,
      "metadata": {
        "id": "iUrvTCU1hDgP"
      },
      "outputs": [],
      "source": [
        "def generate_data(qubits):\n",
        "    \"\"\"Generate training and testing data.\"\"\"\n",
        "    n_rounds = 20  # Produces n_rounds * n_qubits datapoints.\n",
        "    excitations = []\n",
        "    labels = []\n",
        "    for n in range(n_rounds):\n",
        "        for bit in qubits:\n",
        "            rng = np.random.uniform(-np.pi, np.pi)\n",
        "            excitations.append(cirq.Circuit(cirq.rx(rng)(bit)))\n",
        "            labels.append(1 if (-np.pi / 2) <= rng <= (np.pi / 2) else -1)\n",
        "\n",
        "    split_ind = int(len(excitations) * 0.7)\n",
        "    train_excitations = excitations[:split_ind]\n",
        "    test_excitations = excitations[split_ind:]\n",
        "\n",
        "    train_labels = labels[:split_ind]\n",
        "    test_labels = labels[split_ind:]\n",
        "\n",
        "    return tfq.convert_to_tensor(train_excitations), np.array(train_labels), \\\n",
        "        tfq.convert_to_tensor(test_excitations), np.array(test_labels)"
      ]
    },
    {
      "cell_type": "markdown",
      "metadata": {
        "id": "wGsDkZnrhDgS"
      },
      "source": [
        "您可以看到，就像使用常规的机器学习一样，您创建了一个用于对模型进行基准测试的训练和测试集。利用以下代码段，您可以快速查看某些数据点："
      ]
    },
    {
      "cell_type": "code",
      "execution_count": null,
      "metadata": {
        "id": "eLJ-JHOihDgT"
      },
      "outputs": [],
      "source": [
        "sample_points, sample_labels, _, __ = generate_data(cirq.GridQubit.rect(1, 4))\n",
        "print('Input:', tfq.from_tensor(sample_points)[0], 'Output:', sample_labels[0])\n",
        "print('Input:', tfq.from_tensor(sample_points)[1], 'Output:', sample_labels[1])"
      ]
    },
    {
      "cell_type": "markdown",
      "metadata": {
        "id": "sFiRlDt_0-DL"
      },
      "source": [
        "### 1.5 定义层\n",
        "\n",
        "现在，我们在 TensorFlow 中定义上图中显示的层。"
      ]
    },
    {
      "cell_type": "markdown",
      "metadata": {
        "id": "s2B9geIqLWHK"
      },
      "source": [
        "#### 1.5.1 簇态\n",
        "\n",
        "第一步是使用 <a href=\"https://github.com/quantumlib/Cirq\" class=\"external\">Cirq</a>（Google 为量子电路编程提供的框架）定义<a href=\"https://arxiv.org/pdf/quant-ph/0504097.pdf\" class=\"external\">簇态</a>。由于这是模型的一个静态部分，因此使用 `tfq.layers.AddCircuit` 功能将其嵌入。"
      ]
    },
    {
      "cell_type": "code",
      "execution_count": null,
      "metadata": {
        "id": "qpQwVWKazU8g"
      },
      "outputs": [],
      "source": [
        "def cluster_state_circuit(bits):\n",
        "    \"\"\"Return a cluster state on the qubits in `bits`.\"\"\"\n",
        "    circuit = cirq.Circuit()\n",
        "    circuit.append(cirq.H.on_each(bits))\n",
        "    for this_bit, next_bit in zip(bits, bits[1:] + [bits[0]]):\n",
        "        circuit.append(cirq.CZ(this_bit, next_bit))\n",
        "    return circuit"
      ]
    },
    {
      "cell_type": "markdown",
      "metadata": {
        "id": "e9qX1uN740vJ"
      },
      "source": [
        "显示 <a href=\"https://cirq.readthedocs.io/en/stable/generated/cirq.GridQubit.html\" class=\"external\"><code>cirq.GridQubit</code></a> 的矩形的一个簇态电路："
      ]
    },
    {
      "cell_type": "code",
      "execution_count": null,
      "metadata": {
        "id": "9tZt0aAO4r4F"
      },
      "outputs": [],
      "source": [
        "SVGCircuit(cluster_state_circuit(cirq.GridQubit.rect(1, 4)))"
      ]
    },
    {
      "cell_type": "markdown",
      "metadata": {
        "id": "4xElWnRf1ZC7"
      },
      "source": [
        "#### 1.5.2 QCNN 层\n",
        "\n",
        "按照 <a href=\"https://arxiv.org/abs/1810.03787\" class=\"external\">Cong 和 Lukin QCNN 论文</a>定义组成模型的层。这需要具备几个前提条件：\n",
        "\n",
        "- <a href=\"https://arxiv.org/abs/quant-ph/0507171\" class=\"external\">Tucci 论文</a>中提出的单或双量子位参数化酉矩阵。\n",
        "- 一个通用的参数化双量子位池化运算。"
      ]
    },
    {
      "cell_type": "code",
      "execution_count": null,
      "metadata": {
        "id": "oNRGOqky2exY"
      },
      "outputs": [],
      "source": [
        "def one_qubit_unitary(bit, symbols):\n",
        "    \"\"\"Make a Cirq circuit enacting a rotation of the bloch sphere about the X,\n",
        "    Y and Z axis, that depends on the values in `symbols`.\n",
        "    \"\"\"\n",
        "    return cirq.Circuit(\n",
        "        cirq.X(bit)**symbols[0],\n",
        "        cirq.Y(bit)**symbols[1],\n",
        "        cirq.Z(bit)**symbols[2])\n",
        "\n",
        "\n",
        "def two_qubit_unitary(bits, symbols):\n",
        "    \"\"\"Make a Cirq circuit that creates an arbitrary two qubit unitary.\"\"\"\n",
        "    circuit = cirq.Circuit()\n",
        "    circuit += one_qubit_unitary(bits[0], symbols[0:3])\n",
        "    circuit += one_qubit_unitary(bits[1], symbols[3:6])\n",
        "    circuit += [cirq.ZZ(*bits)**symbols[6]]\n",
        "    circuit += [cirq.YY(*bits)**symbols[7]]\n",
        "    circuit += [cirq.XX(*bits)**symbols[8]]\n",
        "    circuit += one_qubit_unitary(bits[0], symbols[9:12])\n",
        "    circuit += one_qubit_unitary(bits[1], symbols[12:])\n",
        "    return circuit\n",
        "\n",
        "\n",
        "def two_qubit_pool(source_qubit, sink_qubit, symbols):\n",
        "    \"\"\"Make a Cirq circuit to do a parameterized 'pooling' operation, which\n",
        "    attempts to reduce entanglement down from two qubits to just one.\"\"\"\n",
        "    pool_circuit = cirq.Circuit()\n",
        "    sink_basis_selector = one_qubit_unitary(sink_qubit, symbols[0:3])\n",
        "    source_basis_selector = one_qubit_unitary(source_qubit, symbols[3:6])\n",
        "    pool_circuit.append(sink_basis_selector)\n",
        "    pool_circuit.append(source_basis_selector)\n",
        "    pool_circuit.append(cirq.CNOT(control=source_qubit, target=sink_qubit))\n",
        "    pool_circuit.append(sink_basis_selector**-1)\n",
        "    return pool_circuit"
      ]
    },
    {
      "cell_type": "markdown",
      "metadata": {
        "id": "LoG0a3U_2qGA"
      },
      "source": [
        "要查看您创建的对象，请打印出单量子位酉电路："
      ]
    },
    {
      "cell_type": "code",
      "execution_count": null,
      "metadata": {
        "id": "T5uhvF-g2rpZ"
      },
      "outputs": [],
      "source": [
        "SVGCircuit(one_qubit_unitary(cirq.GridQubit(0, 0), sympy.symbols('x0:3')))"
      ]
    },
    {
      "cell_type": "markdown",
      "metadata": {
        "id": "NWuMb_Us8ar2"
      },
      "source": [
        "以及双量子位酉电路："
      ]
    },
    {
      "cell_type": "code",
      "execution_count": null,
      "metadata": {
        "id": "aJTdRrfS2uIo"
      },
      "outputs": [],
      "source": [
        "SVGCircuit(two_qubit_unitary(cirq.GridQubit.rect(1, 2), sympy.symbols('x0:15')))"
      ]
    },
    {
      "cell_type": "markdown",
      "metadata": {
        "id": "EXQD1R_V8jyk"
      },
      "source": [
        "以及双量子位池化电路："
      ]
    },
    {
      "cell_type": "code",
      "execution_count": null,
      "metadata": {
        "id": "DOHRbkvH2xGK"
      },
      "outputs": [],
      "source": [
        "SVGCircuit(two_qubit_pool(*cirq.GridQubit.rect(1, 2), sympy.symbols('x0:6')))"
      ]
    },
    {
      "cell_type": "markdown",
      "metadata": {
        "id": "AzVauXWD3v8C"
      },
      "source": [
        "##### 1.5.2.1 量子卷积\n",
        "\n",
        "按照 <a href=\"https://arxiv.org/abs/1810.03787\" class=\"external\">Cong 和 Lukin</a> 的论文所述，将一维量子卷积定义为对每对步长为 1 的相邻量子位的双量子位参数化酉的应用。"
      ]
    },
    {
      "cell_type": "code",
      "execution_count": null,
      "metadata": {
        "id": "1Fa19Lzb3wnR"
      },
      "outputs": [],
      "source": [
        "def quantum_conv_circuit(bits, symbols):\n",
        "    \"\"\"Quantum Convolution Layer following the above diagram.\n",
        "    Return a Cirq circuit with the cascade of `two_qubit_unitary` applied\n",
        "    to all pairs of qubits in `bits` as in the diagram above.\n",
        "    \"\"\"\n",
        "    circuit = cirq.Circuit()\n",
        "    for first, second in zip(bits[0::2], bits[1::2]):\n",
        "        circuit += two_qubit_unitary([first, second], symbols)\n",
        "    for first, second in zip(bits[1::2], bits[2::2] + [bits[0]]):\n",
        "        circuit += two_qubit_unitary([first, second], symbols)\n",
        "    return circuit"
      ]
    },
    {
      "cell_type": "markdown",
      "metadata": {
        "id": "fTzOm_t394Gj"
      },
      "source": [
        "显示（高度水平的）电路："
      ]
    },
    {
      "cell_type": "code",
      "execution_count": null,
      "metadata": {
        "id": "Bi6q2nmY3z_U"
      },
      "outputs": [],
      "source": [
        "SVGCircuit(\n",
        "    quantum_conv_circuit(cirq.GridQubit.rect(1, 8), sympy.symbols('x0:15')))"
      ]
    },
    {
      "cell_type": "markdown",
      "metadata": {
        "id": "3svBAfap4xhP"
      },
      "source": [
        "##### 1.5.2.2 量子池化\n",
        "\n",
        "量子池化层使用上面定义的双量子位池从 $N$ 个量子位池化为 $\\frac{N}{2}$ 个量子位。"
      ]
    },
    {
      "cell_type": "code",
      "execution_count": null,
      "metadata": {
        "id": "jD3fgcWO4yEU"
      },
      "outputs": [],
      "source": [
        "def quantum_pool_circuit(source_bits, sink_bits, symbols):\n",
        "    \"\"\"A layer that specifies a quantum pooling operation.\n",
        "    A Quantum pool tries to learn to pool the relevant information from two\n",
        "    qubits onto 1.\n",
        "    \"\"\"\n",
        "    circuit = cirq.Circuit()\n",
        "    for source, sink in zip(source_bits, sink_bits):\n",
        "        circuit += two_qubit_pool(source, sink, symbols)\n",
        "    return circuit"
      ]
    },
    {
      "cell_type": "markdown",
      "metadata": {
        "id": "NX83NHDP_Q_Z"
      },
      "source": [
        "检查池化组件电路："
      ]
    },
    {
      "cell_type": "code",
      "execution_count": null,
      "metadata": {
        "id": "pFXow2OX47O5"
      },
      "outputs": [],
      "source": [
        "test_bits = cirq.GridQubit.rect(1, 8)\n",
        "\n",
        "SVGCircuit(\n",
        "    quantum_pool_circuit(test_bits[:4], test_bits[4:], sympy.symbols('x0:6')))"
      ]
    },
    {
      "cell_type": "markdown",
      "metadata": {
        "id": "23VcPLT45Lg7"
      },
      "source": [
        "### 1.6 模型定义\n",
        "\n",
        "现在，使用定义的层构造纯量子 CNN。首先创建八个量子位，再将其池化为一个量子位，然后测量 $\\langle \\hat{Z} \\rangle$。"
      ]
    },
    {
      "cell_type": "code",
      "execution_count": null,
      "metadata": {
        "id": "vzEsY6-n5NR0"
      },
      "outputs": [],
      "source": [
        "def create_model_circuit(qubits):\n",
        "    \"\"\"Create sequence of alternating convolution and pooling operators \n",
        "    which gradually shrink over time.\"\"\"\n",
        "    model_circuit = cirq.Circuit()\n",
        "    symbols = sympy.symbols('qconv0:63')\n",
        "    # Cirq uses sympy.Symbols to map learnable variables. TensorFlow Quantum\n",
        "    # scans incoming circuits and replaces these with TensorFlow variables.\n",
        "    model_circuit += quantum_conv_circuit(qubits, symbols[0:15])\n",
        "    model_circuit += quantum_pool_circuit(qubits[:4], qubits[4:],\n",
        "                                          symbols[15:21])\n",
        "    model_circuit += quantum_conv_circuit(qubits[4:], symbols[21:36])\n",
        "    model_circuit += quantum_pool_circuit(qubits[4:6], qubits[6:],\n",
        "                                          symbols[36:42])\n",
        "    model_circuit += quantum_conv_circuit(qubits[6:], symbols[42:57])\n",
        "    model_circuit += quantum_pool_circuit([qubits[6]], [qubits[7]],\n",
        "                                          symbols[57:63])\n",
        "    return model_circuit\n",
        "\n",
        "\n",
        "# Create our qubits and readout operators in Cirq.\n",
        "cluster_state_bits = cirq.GridQubit.rect(1, 8)\n",
        "readout_operators = cirq.Z(cluster_state_bits[-1])\n",
        "\n",
        "# Build a sequential model enacting the logic in 1.3 of this notebook.\n",
        "# Here you are making the static cluster state prep as a part of the AddCircuit and the\n",
        "# \"quantum datapoints\" are coming in the form of excitation\n",
        "excitation_input = tf.keras.Input(shape=(), dtype=tf.dtypes.string)\n",
        "cluster_state = tfq.layers.AddCircuit()(\n",
        "    excitation_input, prepend=cluster_state_circuit(cluster_state_bits))\n",
        "\n",
        "quantum_model = tfq.layers.PQC(create_model_circuit(cluster_state_bits),\n",
        "                               readout_operators)(cluster_state)\n",
        "\n",
        "qcnn_model = tf.keras.Model(inputs=[excitation_input], outputs=[quantum_model])\n",
        "\n",
        "# Show the keras plot of the model\n",
        "tf.keras.utils.plot_model(qcnn_model,\n",
        "                          show_shapes=True,\n",
        "                          show_layer_names=False,\n",
        "                          dpi=70)"
      ]
    },
    {
      "cell_type": "markdown",
      "metadata": {
        "id": "9jqTEe5VSbug"
      },
      "source": [
        "### 1.7 训练模型\n",
        "\n",
        "在整个批次上训练模型以简化此示例。"
      ]
    },
    {
      "cell_type": "code",
      "execution_count": null,
      "metadata": {
        "id": "_TFkAm1sQZEN"
      },
      "outputs": [],
      "source": [
        "# Generate some training data.\n",
        "train_excitations, train_labels, test_excitations, test_labels = generate_data(\n",
        "    cluster_state_bits)\n",
        "\n",
        "\n",
        "# Custom accuracy metric.\n",
        "@tf.function\n",
        "def custom_accuracy(y_true, y_pred):\n",
        "    y_true = tf.squeeze(y_true)\n",
        "    y_pred = tf.map_fn(lambda x: 1.0 if x >= 0 else -1.0, y_pred)\n",
        "    return tf.keras.backend.mean(tf.keras.backend.equal(y_true, y_pred))\n",
        "\n",
        "\n",
        "qcnn_model.compile(optimizer=tf.keras.optimizers.Adam(learning_rate=0.02),\n",
        "                   loss=tf.losses.mse,\n",
        "                   metrics=[custom_accuracy])\n",
        "\n",
        "history = qcnn_model.fit(x=train_excitations,\n",
        "                         y=train_labels,\n",
        "                         batch_size=16,\n",
        "                         epochs=25,\n",
        "                         verbose=1,\n",
        "                         validation_data=(test_excitations, test_labels))"
      ]
    },
    {
      "cell_type": "code",
      "execution_count": null,
      "metadata": {
        "id": "2tiCJOb5Qzcr"
      },
      "outputs": [],
      "source": [
        "plt.plot(history.history['loss'][1:], label='Training')\n",
        "plt.plot(history.history['val_loss'][1:], label='Validation')\n",
        "plt.title('Training a Quantum CNN to Detect Excited Cluster States')\n",
        "plt.xlabel('Epochs')\n",
        "plt.ylabel('Loss')\n",
        "plt.legend()\n",
        "plt.show()"
      ]
    },
    {
      "cell_type": "markdown",
      "metadata": {
        "id": "GyrkcEReQ5Bc"
      },
      "source": [
        "## 2. 混合模型\n",
        "\n",
        "您不必使用量子卷积将八个量子位池化为一个量子位，您可以执行一到两轮的量子卷积，然后将结果馈送到经典神经网络中。本部分探讨量子-经典混合模型。"
      ]
    },
    {
      "cell_type": "markdown",
      "metadata": {
        "id": "A2tOK22t7Kjm"
      },
      "source": [
        "### 2.1 使用单个量子滤波器的混合模型\n",
        "\n",
        "应用一层量子卷积，在后跟密集连接的神经网络的所有位上读出 $\\langle \\hat{Z}_n \\rangle$。\n",
        "\n",
        "\n",
        "<img src=\"./images/qcnn_5.png\" width=\"1000\"> "
      ]
    },
    {
      "cell_type": "markdown",
      "metadata": {
        "id": "lKXuOApgWYFa"
      },
      "source": [
        "#### 2.1.1 模型定义"
      ]
    },
    {
      "cell_type": "code",
      "execution_count": null,
      "metadata": {
        "id": "Ut-U1hBkQ8Fs"
      },
      "outputs": [],
      "source": [
        "# 1-local operators to read out\n",
        "readouts = [cirq.Z(bit) for bit in cluster_state_bits[4:]]\n",
        "\n",
        "\n",
        "def multi_readout_model_circuit(qubits):\n",
        "    \"\"\"Make a model circuit with less quantum pool and conv operations.\"\"\"\n",
        "    model_circuit = cirq.Circuit()\n",
        "    symbols = sympy.symbols('qconv0:21')\n",
        "    model_circuit += quantum_conv_circuit(qubits, symbols[0:15])\n",
        "    model_circuit += quantum_pool_circuit(qubits[:4], qubits[4:],\n",
        "                                          symbols[15:21])\n",
        "    return model_circuit\n",
        "\n",
        "\n",
        "# Build a model enacting the logic in 2.1 of this notebook.\n",
        "excitation_input_dual = tf.keras.Input(shape=(), dtype=tf.dtypes.string)\n",
        "\n",
        "cluster_state_dual = tfq.layers.AddCircuit()(\n",
        "    excitation_input_dual, prepend=cluster_state_circuit(cluster_state_bits))\n",
        "\n",
        "quantum_model_dual = tfq.layers.PQC(\n",
        "    multi_readout_model_circuit(cluster_state_bits),\n",
        "    readouts)(cluster_state_dual)\n",
        "\n",
        "d1_dual = tf.keras.layers.Dense(8)(quantum_model_dual)\n",
        "\n",
        "d2_dual = tf.keras.layers.Dense(1)(d1_dual)\n",
        "\n",
        "hybrid_model = tf.keras.Model(inputs=[excitation_input_dual], outputs=[d2_dual])\n",
        "\n",
        "# Display the model architecture\n",
        "tf.keras.utils.plot_model(hybrid_model,\n",
        "                          show_shapes=True,\n",
        "                          show_layer_names=False,\n",
        "                          dpi=70)"
      ]
    },
    {
      "cell_type": "markdown",
      "metadata": {
        "id": "qDqoLZJuWcgH"
      },
      "source": [
        "#### 2.1.2 训练模型"
      ]
    },
    {
      "cell_type": "code",
      "execution_count": null,
      "metadata": {
        "id": "EyYw9kYIRCE7"
      },
      "outputs": [],
      "source": [
        "hybrid_model.compile(optimizer=tf.keras.optimizers.Adam(learning_rate=0.02),\n",
        "                     loss=tf.losses.mse,\n",
        "                     metrics=[custom_accuracy])\n",
        "\n",
        "hybrid_history = hybrid_model.fit(x=train_excitations,\n",
        "                                  y=train_labels,\n",
        "                                  batch_size=16,\n",
        "                                  epochs=25,\n",
        "                                  verbose=1,\n",
        "                                  validation_data=(test_excitations,\n",
        "                                                   test_labels))"
      ]
    },
    {
      "cell_type": "code",
      "execution_count": null,
      "metadata": {
        "id": "yL3jhGiBRJHt"
      },
      "outputs": [],
      "source": [
        "plt.plot(history.history['val_custom_accuracy'], label='QCNN')\n",
        "plt.plot(hybrid_history.history['val_custom_accuracy'], label='Hybrid CNN')\n",
        "plt.title('Quantum vs Hybrid CNN performance')\n",
        "plt.xlabel('Epochs')\n",
        "plt.legend()\n",
        "plt.ylabel('Validation Accuracy')\n",
        "plt.show()"
      ]
    },
    {
      "cell_type": "markdown",
      "metadata": {
        "id": "NCNiNvheRNzq"
      },
      "source": [
        "如您所见，在适当的经典模型的帮助下，混合模型通常比纯量子版本收敛得更快。"
      ]
    },
    {
      "cell_type": "markdown",
      "metadata": {
        "id": "nVUtWLZnRRDE"
      },
      "source": [
        "### 2.2 使用多个量子滤波器的混合卷积\n",
        "\n",
        "现在，我们来试试使用多个量子卷积和一个经典神经网络的架构，将其组合在一起。\n",
        "\n",
        "\n",
        "<img src=\"./images/qcnn_6.png\" width=\"1000\"> "
      ]
    },
    {
      "cell_type": "markdown",
      "metadata": {
        "id": "Ldo_m5P3YBV7"
      },
      "source": [
        "#### 2.2.1 模型定义"
      ]
    },
    {
      "cell_type": "code",
      "execution_count": null,
      "metadata": {
        "id": "W3TkNVm9RTBj"
      },
      "outputs": [],
      "source": [
        "excitation_input_multi = tf.keras.Input(shape=(), dtype=tf.dtypes.string)\n",
        "\n",
        "cluster_state_multi = tfq.layers.AddCircuit()(\n",
        "    excitation_input_multi, prepend=cluster_state_circuit(cluster_state_bits))\n",
        "\n",
        "# apply 3 different filters and measure expectation values\n",
        "\n",
        "quantum_model_multi1 = tfq.layers.PQC(\n",
        "    multi_readout_model_circuit(cluster_state_bits),\n",
        "    readouts)(cluster_state_multi)\n",
        "\n",
        "quantum_model_multi2 = tfq.layers.PQC(\n",
        "    multi_readout_model_circuit(cluster_state_bits),\n",
        "    readouts)(cluster_state_multi)\n",
        "\n",
        "quantum_model_multi3 = tfq.layers.PQC(\n",
        "    multi_readout_model_circuit(cluster_state_bits),\n",
        "    readouts)(cluster_state_multi)\n",
        "\n",
        "# concatenate outputs and feed into a small classical NN\n",
        "concat_out = tf.keras.layers.concatenate(\n",
        "    [quantum_model_multi1, quantum_model_multi2, quantum_model_multi3])\n",
        "\n",
        "dense_1 = tf.keras.layers.Dense(8)(concat_out)\n",
        "\n",
        "dense_2 = tf.keras.layers.Dense(1)(dense_1)\n",
        "\n",
        "multi_qconv_model = tf.keras.Model(inputs=[excitation_input_multi],\n",
        "                                   outputs=[dense_2])\n",
        "\n",
        "# Display the model architecture\n",
        "tf.keras.utils.plot_model(multi_qconv_model,\n",
        "                          show_shapes=True,\n",
        "                          show_layer_names=True,\n",
        "                          dpi=70)"
      ]
    },
    {
      "cell_type": "markdown",
      "metadata": {
        "id": "2eNhDWwKY9N4"
      },
      "source": [
        "#### 2.2.2 训练模型"
      ]
    },
    {
      "cell_type": "code",
      "execution_count": null,
      "metadata": {
        "id": "suRvxcAKRZK6"
      },
      "outputs": [],
      "source": [
        "multi_qconv_model.compile(\n",
        "    optimizer=tf.keras.optimizers.Adam(learning_rate=0.02),\n",
        "    loss=tf.losses.mse,\n",
        "    metrics=[custom_accuracy])\n",
        "\n",
        "multi_qconv_history = multi_qconv_model.fit(x=train_excitations,\n",
        "                                            y=train_labels,\n",
        "                                            batch_size=16,\n",
        "                                            epochs=25,\n",
        "                                            verbose=1,\n",
        "                                            validation_data=(test_excitations,\n",
        "                                                             test_labels))"
      ]
    },
    {
      "cell_type": "code",
      "execution_count": null,
      "metadata": {
        "id": "-6NR7yAQRmOU"
      },
      "outputs": [],
      "source": [
        "plt.plot(history.history['val_custom_accuracy'][:25], label='QCNN')\n",
        "plt.plot(hybrid_history.history['val_custom_accuracy'][:25], label='Hybrid CNN')\n",
        "plt.plot(multi_qconv_history.history['val_custom_accuracy'][:25],\n",
        "         label='Hybrid CNN \\n Multiple Quantum Filters')\n",
        "plt.title('Quantum vs Hybrid CNN performance')\n",
        "plt.xlabel('Epochs')\n",
        "plt.legend()\n",
        "plt.ylabel('Validation Accuracy')\n",
        "plt.show()"
      ]
    }
  ],
  "metadata": {
    "colab": {
      "collapsed_sections": [],
      "name": "qcnn.ipynb",
      "toc_visible": true
    },
    "kernelspec": {
      "display_name": "Python 3",
      "name": "python3"
    }
  },
  "nbformat": 4,
  "nbformat_minor": 0
}
