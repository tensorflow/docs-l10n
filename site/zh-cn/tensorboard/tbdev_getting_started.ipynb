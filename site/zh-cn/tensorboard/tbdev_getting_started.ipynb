{
  "cells": [
    {
      "cell_type": "markdown",
      "metadata": {
        "id": "h3Nuf-G4xJ0u"
      },
      "source": [
        "##### Copyright 2020 The TensorFlow Authors."
      ]
    },
    {
      "cell_type": "code",
      "execution_count": null,
      "metadata": {
        "cellView": "form",
        "id": "zZ81_4tLxSvd"
      },
      "outputs": [],
      "source": [
        "#@title Licensed under the Apache License, Version 2.0 (the \"License\");\n",
        "# you may not use this file except in compliance with the License.\n",
        "# You may obtain a copy of the License at\n",
        "#\n",
        "# https://www.apache.org/licenses/LICENSE-2.0\n",
        "#\n",
        "# Unless required by applicable law or agreed to in writing, software\n",
        "# distributed under the License is distributed on an \"AS IS\" BASIS,\n",
        "# WITHOUT WARRANTIES OR CONDITIONS OF ANY KIND, either express or implied.\n",
        "# See the License for the specific language governing permissions and\n",
        "# limitations under the License."
      ]
    },
    {
      "cell_type": "markdown",
      "metadata": {
        "id": "wNBP_f0QUTfO"
      },
      "source": [
        "# 开始使用 [TensorBoard.dev](https://tensorboard.dev)"
      ]
    },
    {
      "cell_type": "markdown",
      "metadata": {
        "id": "DLXZ3t1PWdOp"
      },
      "source": [
        "[TensorBoard.dev](https://tensorboard.dev) 是一项免费的公共 [TensorBoard](https://tensorflow.org/tensorboard) 服务，可让您上传并与所有人共享您的 ML 实验。\n",
        "\n",
        "此笔记本训练了一个简单模型，并展示了如何将日志上传到 TensorBoard.dev。[预览](https://tensorboard.dev/experiment/rldGbR8rRHeCEbkK61SWTQ)。"
      ]
    },
    {
      "cell_type": "markdown",
      "metadata": {
        "id": "yjBn-ptXTppA"
      },
      "source": [
        "### 配置并导入\n",
        "\n",
        "此笔记本使用仅适用于 &gt;= `2.3.0` 版本的 TensorBoard 功能。"
      ]
    },
    {
      "cell_type": "code",
      "execution_count": null,
      "metadata": {
        "id": "L3ns52Luracm"
      },
      "outputs": [],
      "source": [
        "import tensorflow as tf\n",
        "import datetime\n",
        "from tensorboard.plugins.hparams import api as hp"
      ]
    },
    {
      "cell_type": "markdown",
      "metadata": {
        "id": "GqUABmUTT1Cl"
      },
      "source": [
        "### 训练一个简单的模型并创建 TensorBoard 日志"
      ]
    },
    {
      "cell_type": "code",
      "execution_count": null,
      "metadata": {
        "id": "LZExSr2Qrc5S"
      },
      "outputs": [],
      "source": [
        "mnist = tf.keras.datasets.mnist\n",
        "\n",
        "(x_train, y_train),(x_test, y_test) = mnist.load_data()\n",
        "x_train, x_test = x_train / 255.0, x_test / 255.0\n",
        "\n",
        "def create_model():\n",
        "  return tf.keras.models.Sequential([\n",
        "    tf.keras.layers.Flatten(input_shape=(28, 28)),\n",
        "    tf.keras.layers.Dense(512, activation='relu'),\n",
        "    tf.keras.layers.Dropout(0.2),\n",
        "    tf.keras.layers.Dense(10, activation='softmax')\n",
        "  ])"
      ]
    },
    {
      "cell_type": "markdown",
      "metadata": {
        "id": "FSv4C0dBrmAx"
      },
      "source": [
        "TensorBoard 日志是在训练期间通过将 [TensorBoard](https://tensorflow.google.cn/tensorboard/get_started) 和[超参数回调](https://tensorflow.google.cn/tensorboard/hyperparameter_tuning_with_hparams)传递给 Keras 的 Model.fit() 来创建的。之后可以将这些日志上传到 TensorBoard.dev。\n"
      ]
    },
    {
      "cell_type": "code",
      "execution_count": null,
      "metadata": {
        "id": "dsVjm5CrUtXm"
      },
      "outputs": [],
      "source": [
        "model = create_model()\n",
        "model.compile(\n",
        "    optimizer='adam',\n",
        "    loss='sparse_categorical_crossentropy',\n",
        "    metrics=['accuracy'])\n",
        "\n",
        "log_dir=\"logs/fit/\" + datetime.datetime.now().strftime(\"%Y%m%d-%H%M%S\")\n",
        "tensorboard_callback = tf.keras.callbacks.TensorBoard(\n",
        "    log_dir=log_dir, histogram_freq=1)\n",
        "hparams_callback = hp.KerasCallback(log_dir, {\n",
        "    'num_relu_units': 512,\n",
        "    'dropout': 0.2\n",
        "})\n",
        "\n",
        "model.fit(\n",
        "    x=x_train, \n",
        "    y=y_train, \n",
        "    epochs=5, \n",
        "    validation_data=(x_test, y_test), \n",
        "    callbacks=[tensorboard_callback, hparams_callback])"
      ]
    },
    {
      "cell_type": "markdown",
      "metadata": {
        "id": "TgF35qdzIC3T"
      },
      "source": [
        "### （仅限 Jupyter）授权 TensorBoard.dev\n",
        "\n",
        "**Colab 中不需要此步骤**\n",
        "\n",
        "此步骤要求您在 Jupyter 之外的 shell 控制台中进行身份验证。请在您的控制台中执行以下命令。\n",
        "\n",
        "`tensorboard dev list`\n",
        "\n",
        "作为此流程的一部分，您将获得一个授权代码。此代码是同意服务条款所必需的。"
      ]
    },
    {
      "cell_type": "markdown",
      "metadata": {
        "id": "oKW8V5chyx6e"
      },
      "source": [
        "### 上传到 TensorBoard.dev\n",
        "\n",
        "上传 TensorBoard 日志将为您提供一个可以与任何人共享的 URL。\n",
        "\n",
        "上传的 TensorBoard 是公开的，所以请勿上传敏感数据。\n",
        "\n",
        "当整个 logdir 上传完毕后，上传程序将退出。（这是 `--one_shot` 标志指定的内容。）"
      ]
    },
    {
      "cell_type": "code",
      "execution_count": null,
      "metadata": {
        "id": "n2PvxhOkW7vn"
      },
      "outputs": [],
      "source": [
        "!tensorboard dev upload --logdir ./logs \\\n",
        "  --name \"Simple experiment with MNIST\" \\\n",
        "  --description \"Training results from https://colab.sandbox.google.com/github/tensorflow/tensorboard/blob/master/docs/tbdev_getting_started.ipynb\" \\\n",
        "  --one_shot"
      ]
    },
    {
      "cell_type": "markdown",
      "metadata": {
        "id": "5QH5k4AUNE27"
      },
      "source": [
        "每个单独的上传都有一个唯一的实验 ID。这意味着如果您使用同一目录开始新的上传，您将获得一个新的实验 ID。您可以在 https://tensorboard.dev/experiments/ 查看所有上传的实验。或者，您可以使用以下命令在终端中列出您的实验：\n",
        "\n",
        "```\n",
        "tensorboard dev list\n",
        "```"
      ]
    },
    {
      "cell_type": "code",
      "execution_count": null,
      "metadata": {
        "id": "C2Pj3RQCNQvP"
      },
      "outputs": [],
      "source": [
        "!tensorboard dev list"
      ]
    },
    {
      "cell_type": "markdown",
      "metadata": {
        "id": "NyJsD3Ypyx6m"
      },
      "source": [
        "### TensorBoard.dev 屏幕截图\n",
        "\n",
        "这是导航到 https://tensorboard.dev/experiments/ 时的样子：\n",
        "\n",
        "![TensorBoard.dev实验列表屏幕截图](images/tbdev_experiment_list.png \"TensorBoard.dev 实验列表截图\")\n",
        "\n",
        "这是导航到 TensorBoard.dev 上的新实验时的样子：\n",
        "\n",
        "![TensorBoard.dev实验信息中心的屏幕截图](images/tbdev_getting_started.png \"TensorBoard.dev experiment dashboard screenshot\")"
      ]
    },
    {
      "cell_type": "markdown",
      "metadata": {
        "id": "JcZOGmjQNWk_"
      },
      "source": [
        "### 删除 TensorBoard.dev 实验\n",
        "\n",
        "要移除您上传的实验，请使用 `delete` 命令并指定所需的 `experiment_id`。在上面的截图中，experiment_id 位于左下角：`w1lkBAOrR4eH35Y7Lg1DQQ`。"
      ]
    },
    {
      "cell_type": "code",
      "execution_count": null,
      "metadata": {
        "id": "VSkJTT9rNWJq"
      },
      "outputs": [],
      "source": [
        "# You must replace YOUR_EXPERIMENT_ID with the value output from the previous\n",
        "# tensorboard `list` command or `upload` command.  For example\n",
        "# `tensorboard dev delete --experiment_id pQpJNh00RG2Lf1zOe9BrQA`\n",
        "\n",
        "## !tensorboard dev delete --experiment_id YOUR_EXPERIMENT_ID_HERE"
      ]
    }
  ],
  "metadata": {
    "colab": {
      "collapsed_sections": [],
      "name": "tbdev_getting_started.ipynb",
      "toc_visible": true
    },
    "kernelspec": {
      "display_name": "Python 3",
      "name": "python3"
    }
  },
  "nbformat": 4,
  "nbformat_minor": 0
}
