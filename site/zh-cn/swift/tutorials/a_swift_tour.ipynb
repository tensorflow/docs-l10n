{
  "cells": [
    {
      "cell_type": "markdown",
      "metadata": {
        "id": "QdsgF9Mxj0gr"
      },
      "source": [
        "##### Adapted from the original [*A Swift Tour*](https://docs.swift.org/swift-book/GuidedTour/GuidedTour.html) on [Swift.org](https://swift.org) with modifications. The original content was authored by Apple Inc. Licensed under the [Creative Commons Attribution 4.0 International (CC BY 4.0) License](https://creativecommons.org/licenses/by/4.0/)."
      ]
    },
    {
      "cell_type": "markdown",
      "metadata": {
        "id": "pJNp_GAv9LAh"
      },
      "source": [
        "<table class=\"tfo-notebook-buttons\" align=\"left\">\n",
        "  <td>\n",
        "    <a target=\"_blank\" href=\"https://www.tensorflow.org/swift/tutorials/a_swift_tour\"><img src=\"https://www.tensorflow.org/images/tf_logo_32px.png\" />View on TensorFlow.org</a>\n",
        "  </td>\n",
        "  <td>\n",
        "    <a target=\"_blank\" href=\"https://colab.research.google.com/github/tensorflow/swift/blob/master/docs/site/tutorials/a_swift_tour.ipynb\"><img src=\"https://www.tensorflow.org/images/colab_logo_32px.png\" />Run in Google Colab</a>\n",
        "  </td>\n",
        "  <td>\n",
        "    <a target=\"_blank\" href=\"https://github.com/tensorflow/swift/blob/master/docs/site/tutorials/a_swift_tour.ipynb\"><img src=\"https://www.tensorflow.org/images/GitHub-Mark-32px.png\" />View source on GitHub</a>\n",
        "  </td>\n",
        "</table>"
      ]
    },
    {
      "cell_type": "markdown",
      "metadata": {
        "id": "673eaebJdE12"
      },
      "source": [
        "# Swift 导览\n",
        "\n",
        "传统上，我们认为一门新的编程语言的第一个程序应该在屏幕上打印出“Hello, world!”。在 Swift 中，这只需一行代码即可实现："
      ]
    },
    {
      "cell_type": "code",
      "execution_count": null,
      "metadata": {
        "id": "iNHY9-pzdE13"
      },
      "outputs": [],
      "source": [
        "print(\"Hello, world!\")"
      ]
    },
    {
      "cell_type": "markdown",
      "metadata": {
        "id": "jdHsgXTYdE17"
      },
      "source": [
        "如果您使用 C 或 Objective-C 编写过代码，就会觉得这种语法似曾相识：在 Swift 中，这一行代码就是一个完整的程序。您不需要为输入/输出或字符串处理等功能导入单独的库。在全局作用域编写的代码即用作该程序的入口点，因此您不需要 `main()` 函数。您也不需要在每一条语句的末尾加上分号。\n",
        "\n",
        "本导览会介绍如何完成各种编程任务，为您开始在 Swift 中编写代码提供足够的信息。如果您有不理解的地方，请不要担心，本导览中介绍的所有内容都会在本书的其他章节进行详细解释。"
      ]
    },
    {
      "cell_type": "markdown",
      "metadata": {
        "id": "OihtZA6QhEZS"
      },
      "source": [
        "## 简单值\n",
        "\n",
        "使用 `let` 声明常量，使用 `var` 声明变量。在编译时不需要知道常量的值，但是您必须为其分配一个具体的值。也就是说，您可以将一个值命名为常量，这样，您只需要定义一次，就可以在很多位置使用该值。"
      ]
    },
    {
      "cell_type": "code",
      "execution_count": null,
      "metadata": {
        "id": "p_pjyevTdE18"
      },
      "outputs": [],
      "source": [
        "var myVariable = 42\n",
        "myVariable = 50\n",
        "let myConstant = 42"
      ]
    },
    {
      "cell_type": "markdown",
      "metadata": {
        "id": "A7S47TpWdE1-"
      },
      "source": [
        "常量或变量的类型必须与要分配的值相同。不过，您不必每次都显式声明类型。在创建常量或变量时提供一个值，这样就可以让编译器推断出它的类型。在上面的示例中，编译器推断出 `myVariable` 是一个整数，因为该变量的初始值是整数。\n",
        "\n",
        "如果初始值没有提供足够的信息（或者如果没有初始值），则在变量后编写类型声明代码（用冒号分隔），指定类型。注：使用 `Double`（而不是 `Float`）声明浮点数可以获得更高的精度。在 Swift 中，这是默认浮点类型。"
      ]
    },
    {
      "cell_type": "code",
      "execution_count": null,
      "metadata": {
        "id": "RDo7IwtmdE1_"
      },
      "outputs": [],
      "source": [
        "let implicitInteger = 70\n",
        "let implicitDouble = 70.0\n",
        "let explicitDouble: Double = 70"
      ]
    },
    {
      "cell_type": "code",
      "execution_count": null,
      "metadata": {
        "id": "9jZ0Hccqhlil"
      },
      "outputs": [],
      "source": [
        "// Experiment:\n",
        "// Create a constant with an explicit type of `Float` and a value of 4."
      ]
    },
    {
      "cell_type": "markdown",
      "metadata": {
        "id": "N1PqnuLFXR4L"
      },
      "source": [
        "值永远不会隐式转换为另一种类型。如果您需要将值转换为另一种类型，请显式创建所需类型的实例。"
      ]
    },
    {
      "cell_type": "code",
      "execution_count": null,
      "metadata": {
        "id": "rPuJLYsHdE2C"
      },
      "outputs": [],
      "source": [
        "let label = \"The width is \"\n",
        "let width = 94\n",
        "label + String(width)"
      ]
    },
    {
      "cell_type": "code",
      "execution_count": null,
      "metadata": {
        "id": "QuQ7-JoOhNY9"
      },
      "outputs": [],
      "source": [
        "// Experiment:\n",
        "// Try removing the conversion to `String` from the last line. What error do you get?"
      ]
    },
    {
      "cell_type": "markdown",
      "metadata": {
        "id": "7cwpu6_3YYKX"
      },
      "source": [
        "在字符串中包含值还有一种更简单的方式：将值写在圆括号中，并在括号前加一个反斜杠 (`在字符串中包含值还有一种更简单的方式：将值写在圆括号中，并在括号前加一个反斜杠 ()。"
      ]
    },
    {
      "cell_type": "code",
      "execution_count": null,
      "metadata": {
        "id": "j-W3HyT9ZBOF"
      },
      "outputs": [],
      "source": [
        "let apples = 3\n",
        "\"I have \\(apples) apples.\""
      ]
    },
    {
      "cell_type": "code",
      "execution_count": null,
      "metadata": {
        "id": "kd1WEYjwZCXx"
      },
      "outputs": [],
      "source": [
        "let oranges = 5\n",
        "\"I have \\(apples + oranges) pieces of fruit.\""
      ]
    },
    {
      "cell_type": "code",
      "execution_count": null,
      "metadata": {
        "id": "3avZRAzlguOQ"
      },
      "outputs": [],
      "source": [
        "// Experiment:\n",
        "// Use `\\()` to include a floating-point calculation in a string and to include someone's name in a\n",
        "// greeting."
      ]
    },
    {
      "cell_type": "markdown",
      "metadata": {
        "id": "4T6rPJ6tWaKu"
      },
      "source": [
        "对于占用多行的字符串，请使用三个双引号 (`\"\"\"`)。只要与右引号的缩进对齐，您就可以移除每个带引号的行开头的缩进。例如："
      ]
    },
    {
      "cell_type": "code",
      "execution_count": null,
      "metadata": {
        "id": "_5RJZBV1Webt"
      },
      "outputs": [],
      "source": [
        "let quotation = \"\"\"\n",
        "    Even though there's whitespace to the left,\n",
        "    the actual lines aren't indented.\n",
        "        Except for this line.\n",
        "    Double quotes (\") can appear without being escaped.\n",
        "\n",
        "    I still have \\(apples + oranges) pieces of fruit.\n",
        "    \"\"\"\n",
        "print(quotation)"
      ]
    },
    {
      "cell_type": "markdown",
      "metadata": {
        "id": "AuhL5LMzVr-T"
      },
      "source": [
        "使用方括号 (`[]`) 创建数组和字典，将其元素的索引或键写在括号中即可访问具体的元素。最后一个元素后可以添加一个逗号。"
      ]
    },
    {
      "cell_type": "code",
      "execution_count": null,
      "metadata": {
        "id": "BI46PGfQdE2I"
      },
      "outputs": [],
      "source": [
        "var shoppingList = [\"catfish\", \"water\", \"tulips\", \"blue paint\"]\n",
        "shoppingList[1] = \"bottle of water\"\n",
        " \n",
        "var occupations = [\n",
        "    \"Malcolm\": \"Captain\",\n",
        "    \"Kaylee\": \"Mechanic\",\n",
        "]\n",
        "occupations[\"Jayne\"] = \"Public Relations\"\n",
        "occupations"
      ]
    },
    {
      "cell_type": "markdown",
      "metadata": {
        "id": "HpaZFmGhYmW-"
      },
      "source": [
        "添加元素时，数组会自动扩大。"
      ]
    },
    {
      "cell_type": "code",
      "execution_count": null,
      "metadata": {
        "id": "vVgbHKpaYpPX"
      },
      "outputs": [],
      "source": [
        "shoppingList.append(\"blue paint\")\n",
        "shoppingList"
      ]
    },
    {
      "cell_type": "markdown",
      "metadata": {
        "id": "P_F6ODC6dE2L"
      },
      "source": [
        "要创建空数组或字典，请使用构造器语法。"
      ]
    },
    {
      "cell_type": "code",
      "execution_count": null,
      "metadata": {
        "id": "pZ0hFNzXdE2M"
      },
      "outputs": [],
      "source": [
        "let emptyArray = [String]()\n",
        "let emptyDictionary = [String: Float]()"
      ]
    },
    {
      "cell_type": "markdown",
      "metadata": {
        "id": "r88SNR3mdE2Q"
      },
      "source": [
        "如果可以推断出类型信息，您可以编写空数组 `[]` 和空字典 `[:]`，例如，当您为变量设置新值时，或者将参数传递给函数时。"
      ]
    },
    {
      "cell_type": "code",
      "execution_count": null,
      "metadata": {
        "id": "LrmOoh8HdE2R"
      },
      "outputs": [],
      "source": [
        "shoppingList = []\n",
        "occupations = [:]"
      ]
    },
    {
      "cell_type": "markdown",
      "metadata": {
        "id": "IcyJIWOqdE2T"
      },
      "source": [
        "## 控制流\n",
        "\n",
        "使用 `if` 和 `switch` 编写条件语句，使用 `for`-`in`、`for`、`while` 和 `repeat`-`while` 编写循环语句。条件或循环变量的圆括号可以省略。代码段的大括号不可省略。"
      ]
    },
    {
      "cell_type": "code",
      "execution_count": null,
      "metadata": {
        "id": "QhcmCbQydE2U"
      },
      "outputs": [],
      "source": [
        "let individualScores = [75, 43, 103, 87, 12]\n",
        "var teamScore = 0\n",
        "for score in individualScores {\n",
        "    if score > 50 {\n",
        "        teamScore += 3\n",
        "    } else {\n",
        "        teamScore += 1\n",
        "    }\n",
        "}\n",
        "teamScore"
      ]
    },
    {
      "cell_type": "markdown",
      "metadata": {
        "id": "VfEX-a-JdE2W"
      },
      "source": [
        "在 `if` 语句中，条件必须是布尔表达式。也就是说 `if score { ... }` 这样的代码有错误，并不会与零进行隐式比较。\n",
        "\n",
        "您可以组合使用 `if` 和 `let` 来处理可能缺少的值。这些值表示为可选值。所谓可选值，就是要么包含一个值，要么包含 `nil`（表示缺少值）。在值的类型后添加一个问号 (`?`) 即可将值标记为可选值。"
      ]
    },
    {
      "cell_type": "code",
      "execution_count": null,
      "metadata": {
        "id": "fCqYihmIdE2X"
      },
      "outputs": [],
      "source": [
        "var optionalString: String? = \"Hello\"\n",
        "optionalString == nil"
      ]
    },
    {
      "cell_type": "code",
      "execution_count": null,
      "metadata": {
        "id": "3GcY1w13hv82"
      },
      "outputs": [],
      "source": [
        "var optionalName: String? = \"John Appleseed\"\n",
        "var greeting = \"Hello!\"\n",
        "if let name = optionalName {\n",
        "    greeting = \"Hello, \\(name)\"\n",
        "}\n",
        "greeting"
      ]
    },
    {
      "cell_type": "code",
      "execution_count": null,
      "metadata": {
        "id": "0dJr-IC8giJL"
      },
      "outputs": [],
      "source": [
        "// Experiment:\n",
        "// Change `optionalName` to `nil`. What greeting do you get?\n",
        "// Add an `else` clause that sets a different greeting if `optionalName` is `nil`."
      ]
    },
    {
      "cell_type": "markdown",
      "metadata": {
        "id": "ZZWOeB3ve-jm"
      },
      "source": [
        "如果可选值是 `nil`，则条件语句的条件为 `false`，并且会跳过大括号中的代码。否则会解包可选值，并将其分配给 `let` 后的常量，这样可以让未封装的值在代码块中可用。\n",
        "\n",
        "处理可选值的另一种方法是使用 `??` 运算符提供一个默认值。这样，如果缺少可选值，将改用默认值。"
      ]
    },
    {
      "cell_type": "code",
      "execution_count": null,
      "metadata": {
        "id": "UqstABf4dE2b"
      },
      "outputs": [],
      "source": [
        "let nickName: String? = nil\n",
        "let fullName: String = \"John Appleseed\"\n",
        "\"Hi \\(nickName ?? fullName)\""
      ]
    },
    {
      "cell_type": "markdown",
      "metadata": {
        "id": "l_3enGZldE2d"
      },
      "source": [
        "Switch 支持任何类型的数据和广泛的比较运算，不会局限于整数和等式检验。"
      ]
    },
    {
      "cell_type": "code",
      "execution_count": null,
      "metadata": {
        "id": "AXTHsCcedE2e"
      },
      "outputs": [],
      "source": [
        "let vegetable = \"red pepper\"\n",
        "switch vegetable {\n",
        "case \"celery\":\n",
        "    print(\"Add some raisins and make ants on a log.\")\n",
        "case \"cucumber\", \"watercress\":\n",
        "    print(\"That would make a good tea sandwich.\")\n",
        "case let x where x.hasSuffix(\"pepper\"):\n",
        "    print(\"Is it a spicy \\(x)?\")\n",
        "default:\n",
        "    print(\"Everything tastes good in soup.\")\n",
        "}"
      ]
    },
    {
      "cell_type": "code",
      "execution_count": null,
      "metadata": {
        "id": "e-FK9XcGga0O"
      },
      "outputs": [],
      "source": [
        "// Experiment:\n",
        "// Try removing the default case. What error do you get?"
      ]
    },
    {
      "cell_type": "markdown",
      "metadata": {
        "id": "AXaHBPiidE2g"
      },
      "source": [
        "请注意在模式中如何使用 `let` 将与模式的一部分匹配的值分配给常量。\n",
        "\n",
        "在执行匹配的 switch case 中的代码后，程序会从该 switch 语句跳出，而不会继续执行下一个 case，因此，不需要在每个 case 的代码末尾显式中断 switch 语句。\n",
        "\n",
        "通过提供一对名称来供每个键值对使用，您可以使用 `for`-`in` 迭代字典项。字典是无序集合，因此，字典的键和值以任意顺序进行迭代。"
      ]
    },
    {
      "cell_type": "code",
      "execution_count": null,
      "metadata": {
        "id": "nJHpFEDPdE2h"
      },
      "outputs": [],
      "source": [
        "let interestingNumbers = [\n",
        "    \"Prime\": [2, 3, 5, 7, 11, 13],\n",
        "    \"Fibonacci\": [1, 1, 2, 3, 5, 8],\n",
        "    \"Square\": [1, 4, 9, 16, 25],\n",
        "]\n",
        "var largest = 0\n",
        "for (kind, numbers) in interestingNumbers {\n",
        "    for number in numbers {\n",
        "        if number > largest {\n",
        "            largest = number\n",
        "        }\n",
        "    }\n",
        "}\n",
        "largest"
      ]
    },
    {
      "cell_type": "code",
      "execution_count": null,
      "metadata": {
        "id": "UKKf8zkRgWUq"
      },
      "outputs": [],
      "source": [
        "// Experiment:\n",
        "// Add another variable to keep track of which kind of number was the largest, as well as what that\n",
        "// largest number was."
      ]
    },
    {
      "cell_type": "markdown",
      "metadata": {
        "id": "or2W6kbyfuXu"
      },
      "source": [
        "使用 `while` 可以重复执行一个代码块，直到条件发生改变。您也可以将循环的条件放在末尾，从而保证循环至少可以运行一次。"
      ]
    },
    {
      "cell_type": "code",
      "execution_count": null,
      "metadata": {
        "id": "tt54-NuJdE2m"
      },
      "outputs": [],
      "source": [
        "var n = 2\n",
        "while n < 100 {\n",
        "    n = n * 2\n",
        "}\n",
        "\n",
        "n"
      ]
    },
    {
      "cell_type": "code",
      "execution_count": null,
      "metadata": {
        "id": "adAijrWkiAGF"
      },
      "outputs": [],
      "source": [
        "var m = 2\n",
        "repeat {\n",
        "    m = m * 2\n",
        "} while m < 100\n",
        "\n",
        "m"
      ]
    },
    {
      "cell_type": "markdown",
      "metadata": {
        "id": "DqEff6OfdE2q"
      },
      "source": [
        "通过使用 `..<` 建立索引范围，或者编写显式初始化、条件和增量，您可以在循环中保留索引。上面两个循环的效果相同："
      ]
    },
    {
      "cell_type": "code",
      "execution_count": null,
      "metadata": {
        "id": "LKkJ4co_dE2r"
      },
      "outputs": [],
      "source": [
        "var total = 0\n",
        "for i in 0..<4 {\n",
        "    total += i\n",
        "}\n",
        "\n",
        "total"
      ]
    },
    {
      "cell_type": "markdown",
      "metadata": {
        "id": "HKgeaTprdE2t"
      },
      "source": [
        "使用 `..<` 可以建立不包含上限值的范围，使用 `...` 可以建立包含上下限制两个值的范围。"
      ]
    },
    {
      "cell_type": "markdown",
      "metadata": {
        "id": "W7H3ptGaiEcB"
      },
      "source": [
        "## 函数和闭包\n",
        "\n",
        "使用 `func` 可以声明函数。提供函数名称并在函数名称后加上用圆括号括起的参数列表即可调用函数。使用 `->` 可以将参数名称和类型与函数的返回类型分隔开。"
      ]
    },
    {
      "cell_type": "code",
      "execution_count": null,
      "metadata": {
        "id": "6u_fX5SwdE2t"
      },
      "outputs": [],
      "source": [
        "func greet(name: String, day: String) -> String {\n",
        "    return \"Hello \\(name), today is \\(day).\"\n",
        "}\n",
        "greet(name: \"Bob\", day: \"Tuesday\")"
      ]
    },
    {
      "cell_type": "code",
      "execution_count": null,
      "metadata": {
        "id": "sgYex6gigH87"
      },
      "outputs": [],
      "source": [
        "// Experiment:\n",
        "// Remove the `day` parameter. Add a parameter to include today’s lunch special in the greeting."
      ]
    },
    {
      "cell_type": "markdown",
      "metadata": {
        "id": "Mo9D_hc0jfkF"
      },
      "source": [
        "默认情况下，函数使用其形参名称作为其实参的标签。在形参名称前加上自定义实参标签或加上 `_` 即可使用无实参标签。"
      ]
    },
    {
      "cell_type": "code",
      "execution_count": null,
      "metadata": {
        "id": "8Dkx71QUjisV"
      },
      "outputs": [],
      "source": [
        "func greet(_ person: String, on day: String) -> String {\n",
        "    return \"Hello \\(person), today is \\(day).\"\n",
        "}\n",
        "greet(\"John\", on: \"Wednesday\")"
      ]
    },
    {
      "cell_type": "markdown",
      "metadata": {
        "id": "71qFe0AWjd9F"
      },
      "source": [
        "使用元组可以构建复合值，例如从函数返回多个值。通过元素名称或编号可以引用元组的元素。"
      ]
    },
    {
      "cell_type": "code",
      "execution_count": null,
      "metadata": {
        "id": "5cDR7-TydE2w"
      },
      "outputs": [],
      "source": [
        "func calculateStatistics(scores: [Int]) -> (min: Int, max: Int, sum: Int) {\n",
        "    var min = scores[0]\n",
        "    var max = scores[0]\n",
        "    var sum = 0\n",
        "    \n",
        "    for score in scores {\n",
        "        if score > max {\n",
        "            max = score\n",
        "        } else if score < min {\n",
        "            min = score\n",
        "        }\n",
        "        sum += score\n",
        "    }\n",
        "    \n",
        "    return (min, max, sum)\n",
        "}\n",
        "let statistics = calculateStatistics(scores: [5, 3, 100, 3, 9])\n",
        "print(statistics.sum)\n",
        "print(statistics.2)"
      ]
    },
    {
      "cell_type": "markdown",
      "metadata": {
        "id": "hHUWHaH-jwmx"
      },
      "source": [
        "函数可以嵌套。嵌套函数可以访问外部函数中声明的变量。在一个很长或复杂的函数中，您可以使用嵌套函数来组织代码。"
      ]
    },
    {
      "cell_type": "code",
      "execution_count": null,
      "metadata": {
        "id": "K094099VdE21"
      },
      "outputs": [],
      "source": [
        "func returnFifteen() -> Int {\n",
        "    var y = 10\n",
        "    func add() {\n",
        "        y += 5\n",
        "    }\n",
        "    add()\n",
        "    return y\n",
        "}\n",
        "returnFifteen()"
      ]
    },
    {
      "cell_type": "markdown",
      "metadata": {
        "id": "s8hfkf4HdE24"
      },
      "source": [
        "函数属于一级类型。也就是说，函数的返回值可以是另一个函数。"
      ]
    },
    {
      "cell_type": "code",
      "execution_count": null,
      "metadata": {
        "id": "sV33PIdsdE26"
      },
      "outputs": [],
      "source": [
        "func makeIncrementer() -> ((Int) -> Int) {\n",
        "    func addOne(number: Int) -> Int {\n",
        "        return 1 + number\n",
        "    }\n",
        "    return addOne\n",
        "}\n",
        "var increment = makeIncrementer()\n",
        "increment(7)"
      ]
    },
    {
      "cell_type": "markdown",
      "metadata": {
        "id": "J6-9e3godE29"
      },
      "source": [
        "一个函数可以将另一个函数作为其参数之一。"
      ]
    },
    {
      "cell_type": "code",
      "execution_count": null,
      "metadata": {
        "id": "nOwBtGWLdE2-"
      },
      "outputs": [],
      "source": [
        "func hasAnyMatches(list: [Int], condition: (Int) -> Bool) -> Bool {\n",
        "    for item in list {\n",
        "        if condition(item) {\n",
        "            return true\n",
        "        }\n",
        "    }\n",
        "    return false\n",
        "}\n",
        "func lessThanTen(number: Int) -> Bool {\n",
        "    return number < 10\n",
        "}\n",
        "var numbers = [20, 19, 7, 12]\n",
        "hasAnyMatches(list: numbers, condition: lessThanTen)"
      ]
    },
    {
      "cell_type": "markdown",
      "metadata": {
        "id": "u9uVmoK6dE3B"
      },
      "source": [
        "闭包中的代码可以访问创建闭包的作用域中可用的变量和函数等对象，即使闭包在执行时处于不同的作用域中也可以访问。上面已经提供了一个具有嵌套函数的示例。将代码包含在大括号 (`{}`) 中即可编写无名称的闭包。在函数体中，使用 `in` 可以将参数和返回类型分隔开。"
      ]
    },
    {
      "cell_type": "code",
      "execution_count": null,
      "metadata": {
        "id": "qWTL5QMKdE3C"
      },
      "outputs": [],
      "source": [
        "numbers.map({ (number: Int) -> Int in\n",
        "    let result = 3 * number\n",
        "    return result\n",
        "})"
      ]
    },
    {
      "cell_type": "code",
      "execution_count": null,
      "metadata": {
        "id": "aTZoZCybf2uG"
      },
      "outputs": [],
      "source": [
        "// Experiment:\n",
        "// Rewrite the closure to return zero for all odd numbers."
      ]
    },
    {
      "cell_type": "markdown",
      "metadata": {
        "id": "NapuA70Qj8QF"
      },
      "source": [
        "为了让编写的闭包更简洁，您可以使用多个选项。如果已知闭包的类型，如委托回调，您可以省略其参数类型和/或返回类型。单语句闭包会隐式返回其唯一语句的值。"
      ]
    },
    {
      "cell_type": "code",
      "execution_count": null,
      "metadata": {
        "id": "wNcmSyFodE3F"
      },
      "outputs": [],
      "source": [
        "let mappedNumbers = numbers.map({ number in 3 * number })\n",
        "print(mappedNumbers)"
      ]
    },
    {
      "cell_type": "markdown",
      "metadata": {
        "id": "6MxBFQjRdE3I"
      },
      "source": [
        "您可以通过编号（而不是名称）引用参数，这种方式在极短的闭包中非常有用。作为函数的最后一个参数传递的闭包可以直接写在圆括号后。如果闭包是函数的唯一参数，您可以直接忽略圆括号。"
      ]
    },
    {
      "cell_type": "code",
      "execution_count": null,
      "metadata": {
        "id": "6Ecv1ethdE3I"
      },
      "outputs": [],
      "source": [
        "let sortedNumbers = numbers.sorted { $0 > $1 }\n",
        "print(sortedNumbers)"
      ]
    },
    {
      "cell_type": "markdown",
      "metadata": {
        "id": "BfV1d5HpdE3K"
      },
      "source": [
        "## 对象和类\n",
        "\n",
        "在 `class` 后加上类名称可以创建类。声明类的属性的代码与声明常量或变量的代码基本相同，只不过它是在类的环境中声明。同样，方法和函数的声明代码也大同小异。"
      ]
    },
    {
      "cell_type": "code",
      "execution_count": null,
      "metadata": {
        "id": "SycTCbxadE3L"
      },
      "outputs": [],
      "source": [
        "class Shape {\n",
        "    var numberOfSides = 0\n",
        "    func simpleDescription() -> String {\n",
        "        return \"A shape with \\(numberOfSides) sides.\"\n",
        "    }\n",
        "}"
      ]
    },
    {
      "cell_type": "code",
      "execution_count": null,
      "metadata": {
        "id": "i-oNcgg4h-wm"
      },
      "outputs": [],
      "source": [
        "// Experiment:\n",
        "// Add a constant property with `let`, and add another method that takes an argument."
      ]
    },
    {
      "cell_type": "markdown",
      "metadata": {
        "id": "NDuIuzgUkAEY"
      },
      "source": [
        "在类名称后加上圆括号即可创建类的实例。使用点语法可以访问实例的属性和方法。"
      ]
    },
    {
      "cell_type": "code",
      "execution_count": null,
      "metadata": {
        "id": "y1_AYUbidE3O"
      },
      "outputs": [],
      "source": [
        "var shape = Shape()\n",
        "shape.numberOfSides = 7\n",
        "var shapeDescription = shape.simpleDescription()"
      ]
    },
    {
      "cell_type": "markdown",
      "metadata": {
        "id": "id0q1vIfdE3Q"
      },
      "source": [
        "此版本的 `Shape` 类缺少一个重要元素：创建实例时用于设置类的构造器。使用 `init` 即可创建一个构造器。"
      ]
    },
    {
      "cell_type": "code",
      "execution_count": null,
      "metadata": {
        "id": "lboFcMVtdE3Q"
      },
      "outputs": [],
      "source": [
        "class NamedShape {\n",
        "    var numberOfSides: Int = 0\n",
        "    var name: String\n",
        "    \n",
        "    init(name: String) {\n",
        "        self.name = name\n",
        "    }\n",
        "    \n",
        "    func simpleDescription() -> String {\n",
        "        return \"A shape with \\(numberOfSides) sides.\"\n",
        "    }\n",
        "}"
      ]
    },
    {
      "cell_type": "markdown",
      "metadata": {
        "id": "h06b-4fKdE3S"
      },
      "source": [
        "请注意如何使用 `self` 来区别构造器中  `name` 参数的 `name` 属性。创建类的实例时，构造器的参数可以像函数调用一样传递。您需要为每个属性分配一个值：要么在声明中分配（例如使用 `numberOfSides`），要么在构造器中分配（例如使用 `name`）。\n",
        "\n",
        "如果您需要在释放对象之前执行一些清理工作，使用 `deinit` 可以创建析构器。\n",
        "\n",
        "子类的类名称后包含其超类名称（使用冒号分隔）。类不需要子类化任何标准根类，因此，您可以根据需要包含或省略超类。\n",
        "\n",
        "使用 `override` 标记重写超类实现的子类的方法，如果意外重写方法（不使用 `override`），则编译器会检测到错误。编译器还会检测使用 `override`，但实际上不会重写超类中的任何方法的方法。"
      ]
    },
    {
      "cell_type": "code",
      "execution_count": null,
      "metadata": {
        "id": "VHT1Lpz8dE3S"
      },
      "outputs": [],
      "source": [
        "class Square: NamedShape {\n",
        "    var sideLength: Double\n",
        "    \n",
        "    init(sideLength: Double, name: String) {\n",
        "        self.sideLength = sideLength\n",
        "        super.init(name: name)\n",
        "        numberOfSides = 4\n",
        "    }\n",
        "    \n",
        "    func area() -> Double {\n",
        "        return sideLength * sideLength\n",
        "    }\n",
        "    \n",
        "    override func simpleDescription() -> String {\n",
        "        return \"A square with sides of length \\(sideLength).\"\n",
        "    }\n",
        "}\n",
        "let test = Square(sideLength: 5.2, name: \"my test square\")\n",
        "test.area()\n",
        "test.simpleDescription()"
      ]
    },
    {
      "cell_type": "code",
      "execution_count": null,
      "metadata": {
        "id": "SIoEXii5iDA3"
      },
      "outputs": [],
      "source": [
        "// Experiment:\n",
        "// - Make another subclass of `NamedShape` called `Circle` that takes a radius and a name as\n",
        "//   arguments to its initializer.\n",
        "// - Implement an `area()` and a `simpleDescription()` method on the `Circle` class."
      ]
    },
    {
      "cell_type": "markdown",
      "metadata": {
        "id": "-jWyfN7KkDqR"
      },
      "source": [
        "除了存储的简单属性外，其他属性都可以包含一个 getter 和 setter。"
      ]
    },
    {
      "cell_type": "code",
      "execution_count": null,
      "metadata": {
        "id": "QaqZC56MdE3V"
      },
      "outputs": [],
      "source": [
        "class EquilateralTriangle: NamedShape {\n",
        "    var sideLength: Double = 0.0\n",
        "    \n",
        "    init(sideLength: Double, name: String) {\n",
        "        self.sideLength = sideLength\n",
        "        super.init(name: name)\n",
        "        numberOfSides = 3\n",
        "    }\n",
        "    \n",
        "    var perimeter: Double {\n",
        "        get {\n",
        "            return 3.0 * sideLength\n",
        "        }\n",
        "        set {\n",
        "            sideLength = newValue / 3.0\n",
        "        }\n",
        "    }\n",
        "    \n",
        "    override func simpleDescription() -> String {\n",
        "        return \"An equilateral triangle with sides of length \\(sideLength).\"\n",
        "    }\n",
        "}\n",
        "var triangle = EquilateralTriangle(sideLength: 3.1, name: \"a triangle\")\n",
        "print(triangle.perimeter)\n",
        "triangle.perimeter = 9.9\n",
        "print(triangle.sideLength)"
      ]
    },
    {
      "cell_type": "markdown",
      "metadata": {
        "id": "CK3s64WhdE3W"
      },
      "source": [
        "在 `perimeter` 的 setter 中，新值具有隐式名称 `newValue`。您可以在 `set` 后的圆括号中提供隐式名称。\n",
        "\n",
        "请注意，`EquilateralTriangle` 类的构造器有三个不同步骤：\n",
        "\n",
        "1. 设置子类声明的属性的值。\n",
        "\n",
        "2. 调用超类的构造器。\n",
        "\n",
        "3. 更改超类定义的属性的值。此时还可以完成任何使用方法、getter 或 setter 的其他设置工作。\n",
        "\n",
        "即使您不需要计算属性，也仍需要分别使用 `willSet` 和 `didSet` 提供在设置新值前后运行的代码。只要该值在构造器外部发生更改，您提供的代码就会运行。例如，下面的类可确保其三角形的边长始终与其正方形的边长相等。"
      ]
    },
    {
      "cell_type": "code",
      "execution_count": null,
      "metadata": {
        "id": "VSPCTz5mdE3a"
      },
      "outputs": [],
      "source": [
        "class TriangleAndSquare {\n",
        "    var triangle: EquilateralTriangle {\n",
        "        willSet {\n",
        "            square.sideLength = newValue.sideLength\n",
        "        }\n",
        "    }\n",
        "    var square: Square {\n",
        "        willSet {\n",
        "            triangle.sideLength = newValue.sideLength\n",
        "        }\n",
        "    }\n",
        "    init(size: Double, name: String) {\n",
        "        square = Square(sideLength: size, name: name)\n",
        "        triangle = EquilateralTriangle(sideLength: size, name: name)\n",
        "    }\n",
        "}\n",
        "var triangleAndSquare = TriangleAndSquare(size: 10, name: \"another test shape\")\n",
        "print(triangleAndSquare.square.sideLength)\n",
        "print(triangleAndSquare.triangle.sideLength)\n",
        "triangleAndSquare.square = Square(sideLength: 50, name: \"larger square\")\n",
        "print(triangleAndSquare.triangle.sideLength)"
      ]
    },
    {
      "cell_type": "markdown",
      "metadata": {
        "id": "ygWAN55xdE3b"
      },
      "source": [
        "使用可选值时，您可以在方法、属性和下标等操作前加上 `?`。如果 `?` 前的值是 `nil`，则会忽略 `?` 后的所有代码，并且整个表达式的值为 `nil`。否则会解包可选值，并且 `?` 后的所有代码作用于解包的值。在这两种情况下，整个表达式的值为可选值。"
      ]
    },
    {
      "cell_type": "code",
      "execution_count": null,
      "metadata": {
        "id": "pmXsLt_gdE3c"
      },
      "outputs": [],
      "source": [
        "let optionalSquare: Square? = Square(sideLength: 2.5, name: \"optional square\")\n",
        "optionalSquare?.sideLength"
      ]
    },
    {
      "cell_type": "markdown",
      "metadata": {
        "id": "0yaZFHMRdE3d"
      },
      "source": [
        "## 枚举和结构体\n",
        "\n",
        "使用 `enum` 可以创建枚举。就像类和所有其他命名类型一样，枚举可以包含与其相关联的方法。"
      ]
    },
    {
      "cell_type": "code",
      "execution_count": null,
      "metadata": {
        "id": "Btg1_6rXdE3e"
      },
      "outputs": [],
      "source": [
        "enum Rank: Int {\n",
        "    case ace = 1\n",
        "    case two, three, four, five, six, seven, eight, nine, ten\n",
        "    case jack, queen, king\n",
        "\n",
        "    func simpleDescription() -> String {\n",
        "        switch self {\n",
        "        case .ace:\n",
        "            return \"ace\"\n",
        "        case .jack:\n",
        "            return \"jack\"\n",
        "        case .queen:\n",
        "            return \"queen\"\n",
        "        case .king:\n",
        "            return \"king\"\n",
        "        default:\n",
        "            return String(self.rawValue)\n",
        "        }\n",
        "    }\n",
        "}\n",
        "let ace = Rank.ace\n",
        "print(ace)\n",
        "let aceRawValue = ace.rawValue\n",
        "print(aceRawValue)"
      ]
    },
    {
      "cell_type": "code",
      "execution_count": null,
      "metadata": {
        "id": "34Ba8HGwin9n"
      },
      "outputs": [],
      "source": [
        "// Experiment:\n",
        "// Write a function that compares two `Rank` values by comparing their raw values."
      ]
    },
    {
      "cell_type": "markdown",
      "metadata": {
        "id": "0R1w6q3KkIH1"
      },
      "source": [
        "默认情况下，Swift 从零开始分配原始值，并且每次加 1，但是通过显式指定增量值，您可以更改这种行为。在上述示例中，我们显式地为 Ace 分配了原始值 `1`，剩余的原始值将按顺序进行分配。您还可以使用字符串或浮点数值作为枚举的原始类型。请使用 `rawValue` 属性访问枚举中 case 的原始值。"
      ]
    },
    {
      "cell_type": "markdown",
      "metadata": {
        "id": "zgtd86KUp5qa"
      },
      "source": [
        "使用 `init?(rawValue:)` 构造器可以从原始值构建枚举的实例。它会返回与原始值匹配的枚举 case，如果没有匹配的 `Rank`，则返回 `nil`。"
      ]
    },
    {
      "cell_type": "code",
      "execution_count": null,
      "metadata": {
        "id": "BjzxKC67dE3h"
      },
      "outputs": [],
      "source": [
        "if let convertedRank = Rank(rawValue: 3) {\n",
        "    let threeDescription = convertedRank.simpleDescription()\n",
        "}"
      ]
    },
    {
      "cell_type": "markdown",
      "metadata": {
        "id": "aViNXJOWdE3k"
      },
      "source": [
        "枚举的 case 值是实际值，而不是另一种写入其原始值的方式。实际上，在没有有意义的原始值的情况下，您不必提供该值。"
      ]
    },
    {
      "cell_type": "code",
      "execution_count": null,
      "metadata": {
        "id": "i9fKzaQzdE3k"
      },
      "outputs": [],
      "source": [
        "enum Suit {\n",
        "    case spades, hearts, diamonds, clubs\n",
        "\n",
        "    func simpleDescription() -> String {\n",
        "        switch self {\n",
        "        case .spades:\n",
        "            return \"spades\"\n",
        "        case .hearts:\n",
        "            return \"hearts\"\n",
        "        case .diamonds:\n",
        "            return \"diamonds\"\n",
        "        case .clubs:\n",
        "            return \"clubs\"\n",
        "        }\n",
        "    }\n",
        "}\n",
        "let hearts = Suit.hearts\n",
        "let heartsDescription = hearts.simpleDescription()"
      ]
    },
    {
      "cell_type": "code",
      "execution_count": null,
      "metadata": {
        "id": "H-38gQ27isHk"
      },
      "outputs": [],
      "source": [
        "// Experiment:\n",
        "// Add a `color()` method to `Suit` that returns \"black\" for spades and clubs, and returns \"red\" for\n",
        "// hearts and diamonds."
      ]
    },
    {
      "cell_type": "markdown",
      "metadata": {
        "id": "H1B0m_prdE3m"
      },
      "source": [
        "请注意上面引用枚举的 `Hearts` case 的两种方式：将值分配给 `hearts` 常量时，需要通过全名引用枚举 case `Suit.Hearts`，这是因为常量没有指定的显式类型。在 switch 中，通过简写形式的 `.Hearts` 引用枚举 case，这是因为已经知道 `self` 的值是 suit。如果值的类型已知，则可以随时使用简写形式。"
      ]
    },
    {
      "cell_type": "markdown",
      "metadata": {
        "id": "fCDHUHBHdE3o"
      },
      "source": [
        "如果枚举有原始值，则会在声明中确定这些值，这意味着特定枚举 case 的每一个实例都始终具有相同的原始值。枚举 case 的另一个选择是将值与 case 相关联，这些值在构建实例时确定，并且一个枚举 case 的每个实例的这些值可以互不相同。您可以将关联值看作类似于枚举 case 实例的存储属性。\n",
        "\n",
        "例如，您可以想一想从服务器请求日出和日落时间的情况。服务器要么以请求的信息进行响应，要么会提供所发生错误的描述。"
      ]
    },
    {
      "cell_type": "code",
      "execution_count": null,
      "metadata": {
        "id": "v7CDdsdydE3o"
      },
      "outputs": [],
      "source": [
        "enum ServerResponse {\n",
        "    case result(String, String)\n",
        "    case failure(String)\n",
        "}\n",
        "\n",
        "let success = ServerResponse.result(\"6:00 am\", \"8:09 pm\")\n",
        "let failure = ServerResponse.failure(\"Out of cheese.\")\n",
        "\n",
        "switch success {\n",
        "case let .result(sunrise, sunset):\n",
        "    print(\"Sunrise is at \\(sunrise) and sunset is at \\(sunset).\")\n",
        "case let .failure(message):\n",
        "    print(\"Failure...  \\(message)\")\n",
        "}"
      ]
    },
    {
      "cell_type": "code",
      "execution_count": null,
      "metadata": {
        "id": "6KxPZi0ii4Jj"
      },
      "outputs": [],
      "source": [
        "// Experiment:\n",
        "// Add a third case to `ServerResponse` and to the switch."
      ]
    },
    {
      "cell_type": "markdown",
      "metadata": {
        "id": "BCjUxgx0iKDh"
      },
      "source": [
        "请注意如何作为与 switch case 的值匹配的一部分从 `ServerResponse` 值提取日出和日落时间。"
      ]
    },
    {
      "cell_type": "markdown",
      "metadata": {
        "id": "FonxodFmpPXv"
      },
      "source": [
        "使用 `struct` 可以创建结构体。结构体支持与类相同的许多行为，包括方法和构造器。结构体与类最大的不同点之一是，在代码中传递结构体时总是采用复制方式，而类则通过引用进行传递。"
      ]
    },
    {
      "cell_type": "code",
      "execution_count": null,
      "metadata": {
        "id": "tsTnhpukpTF1"
      },
      "outputs": [],
      "source": [
        "struct Card {\n",
        "    var rank: Rank\n",
        "    var suit: Suit\n",
        "    func simpleDescription() -> String {\n",
        "        return \"The \\(rank.simpleDescription()) of \\(suit.simpleDescription())\"\n",
        "    }\n",
        "}\n",
        "let threeOfSpades = Card(rank: .three, suit: .spades)\n",
        "let threeOfSpadesDescription = threeOfSpades.simpleDescription()"
      ]
    },
    {
      "cell_type": "code",
      "execution_count": null,
      "metadata": {
        "id": "FM1U4SqwpUp6"
      },
      "outputs": [],
      "source": [
        "// Experiment:\n",
        "// Write a function that returns an array containing a full deck of cards, with one card of each\n",
        "// combination of rank and suit."
      ]
    },
    {
      "cell_type": "markdown",
      "metadata": {
        "id": "jUBjQqUhdE3p"
      },
      "source": [
        "## 协议和扩展\n",
        "\n",
        "使用 `protocol` 可以声明协议。"
      ]
    },
    {
      "cell_type": "code",
      "execution_count": null,
      "metadata": {
        "id": "vVEIH7WhdE3q"
      },
      "outputs": [],
      "source": [
        "protocol ExampleProtocol {\n",
        "    var simpleDescription: String { get }\n",
        "    mutating func adjust()\n",
        "}"
      ]
    },
    {
      "cell_type": "markdown",
      "metadata": {
        "id": "GSV2yv6SdE3r"
      },
      "source": [
        "类、枚举和结构体都可以采用协议。"
      ]
    },
    {
      "cell_type": "code",
      "execution_count": null,
      "metadata": {
        "id": "Lgf8If-0dE3r"
      },
      "outputs": [],
      "source": [
        "class SimpleClass: ExampleProtocol {\n",
        "    var simpleDescription: String = \"A very simple class.\"\n",
        "    var anotherProperty: Int = 69105\n",
        "    func adjust() {\n",
        "        simpleDescription += \"  Now 100% adjusted.\"\n",
        "    }\n",
        "}\n",
        "var a = SimpleClass()\n",
        "a.adjust()\n",
        "let aDescription = a.simpleDescription\n",
        " \n",
        "struct SimpleStructure: ExampleProtocol {\n",
        "    var simpleDescription: String = \"A simple structure\"\n",
        "    mutating func adjust() {\n",
        "        simpleDescription += \" (adjusted)\"\n",
        "    }\n",
        "}\n",
        "var b = SimpleStructure()\n",
        "b.adjust()\n",
        "b.simpleDescription"
      ]
    },
    {
      "cell_type": "code",
      "execution_count": null,
      "metadata": {
        "id": "OvDuEwsYi-ZN"
      },
      "outputs": [],
      "source": [
        "// Experiment:\n",
        "// Add another requirement to `ExampleProtocol`.\n",
        "// What changes do you need to make to `SimpleClass` and `SimpleStructure` so that they still\n",
        "// conform to the protocol?"
      ]
    },
    {
      "cell_type": "markdown",
      "metadata": {
        "id": "Is_xfbNXdE3t"
      },
      "source": [
        "请注意，在 `SimpleStructure` 的声明中使用 `mutating` 关键字来标记修改结构体的方法。`SimpleClass` 的声明不需要将其任何方法标记为变异，因为类的方法随时可以修改类。\n",
        "\n",
        "使用 `extension` 可以向现有类型添加新功能，例如新方法和计算型属性。您可以使用扩展将协议一致性添加到在其他位置声明的类型，甚至还可以添加到从库或框架导入的类型。"
      ]
    },
    {
      "cell_type": "code",
      "execution_count": null,
      "metadata": {
        "id": "w5Hde1HwdE3u"
      },
      "outputs": [],
      "source": [
        "extension Int: ExampleProtocol {\n",
        "    public var simpleDescription: String {\n",
        "        return \"The number \\(self)\"\n",
        "    }\n",
        "    public mutating func adjust() {\n",
        "        self += 42\n",
        "    }\n",
        "}\n",
        "7.simpleDescription"
      ]
    },
    {
      "cell_type": "code",
      "execution_count": null,
      "metadata": {
        "id": "fdY5CdWjjCRI"
      },
      "outputs": [],
      "source": [
        "// Experiment:\n",
        "// Write an extension for the `Double` type that adds an `absoluteValue` property."
      ]
    },
    {
      "cell_type": "markdown",
      "metadata": {
        "id": "EoOPuRjZntCx"
      },
      "source": [
        "您可以像使用任何其他命名类型一样使用协议名称，例如，创建具有不同类型但全部符合单一协议的对象集合。使用类型属于协议类型的的值时，协议定义之外的方法不可用。"
      ]
    },
    {
      "cell_type": "code",
      "execution_count": null,
      "metadata": {
        "id": "OghTVgiRnvgA"
      },
      "outputs": [],
      "source": [
        "let protocolValue: ExampleProtocol = a\n",
        "protocolValue.simpleDescription"
      ]
    },
    {
      "cell_type": "code",
      "execution_count": null,
      "metadata": {
        "id": "Xad6Z5Nrn34O"
      },
      "outputs": [],
      "source": [
        "// Uncomment to see the error.\n",
        "// protocolValue.anotherProperty"
      ]
    },
    {
      "cell_type": "markdown",
      "metadata": {
        "id": "92wBiymPn3HE"
      },
      "source": [
        "虽然变量 `protocolValue` 的运行时类型为 `SimpleClass`，但编译器会将其当做给定类型 `ExampleProtocol`。这意味着您不能意外访问类在协议一致性之外实现的方法或属性。"
      ]
    },
    {
      "cell_type": "markdown",
      "metadata": {
        "id": "6Z9Y-fWGjxsn"
      },
      "source": [
        "## 错误处理\n",
        "\n",
        "您可以使用采用 `Error` 协议的任何类型表示错误。"
      ]
    },
    {
      "cell_type": "code",
      "execution_count": null,
      "metadata": {
        "id": "PiENY4W2kA2t"
      },
      "outputs": [],
      "source": [
        "enum PrinterError: Error {\n",
        "    case outOfPaper\n",
        "    case noToner\n",
        "    case onFire\n",
        "}"
      ]
    },
    {
      "cell_type": "markdown",
      "metadata": {
        "id": "Tu7q13kSkCad"
      },
      "source": [
        "使用 `throw` 可以引发错误，使用 `throws` 可以标记引发错误的函数。如果在函数中引发错误，该函数会立即返回，而调用该函数的代码会处理错误。"
      ]
    },
    {
      "cell_type": "code",
      "execution_count": null,
      "metadata": {
        "id": "rY7yWs_nkFbM"
      },
      "outputs": [],
      "source": [
        "func send(job: Int, toPrinter printerName: String) throws -> String {\n",
        "    if printerName == \"Never Has Toner\" {\n",
        "        throw PrinterError.noToner\n",
        "    }\n",
        "    return \"Job sent\"\n",
        "}"
      ]
    },
    {
      "cell_type": "markdown",
      "metadata": {
        "id": "uVh7tkr-kPKV"
      },
      "source": [
        "您可以通过多种方式处理错误。其中一种是使用 `do-catch`。在 `do` 块中，您可以在引发错误的代码前加上 try，从而标记引发错误的代码。在 `catch` 块中，除非您为错误指定不同的名称，否则，调试器会自动为其指定名称 `error`。"
      ]
    },
    {
      "cell_type": "code",
      "execution_count": null,
      "metadata": {
        "id": "YejV2PLLkIPA"
      },
      "outputs": [],
      "source": [
        "do {\n",
        "    let printerResponse = try send(job: 1040, toPrinter: \"Bi Sheng\")\n",
        "    print(printerResponse)\n",
        "} catch {\n",
        "    print(error)\n",
        "}"
      ]
    },
    {
      "cell_type": "code",
      "execution_count": null,
      "metadata": {
        "id": "UJBF1XzdkWjL"
      },
      "outputs": [],
      "source": [
        "// Experiment:\n",
        "// Change the printer name to `\"Never Has Toner\"`, so that the `send(job:toPrinter:)` function\n",
        "// throws an error."
      ]
    },
    {
      "cell_type": "markdown",
      "metadata": {
        "id": "occBM2Cekddc"
      },
      "source": [
        "对于具体错误的处理，您可以提供多个 `catch` 块。您可以在 `catch` 后添加模式，就像在 switch 中的 `case` 后添加模式一样。"
      ]
    },
    {
      "cell_type": "code",
      "execution_count": null,
      "metadata": {
        "id": "eUhzxcUEkjV-"
      },
      "outputs": [],
      "source": [
        "do {\n",
        "    let printerResponse = try send(job: 1440, toPrinter: \"Gutenberg\")\n",
        "    print(printerResponse)\n",
        "} catch PrinterError.onFire {\n",
        "    print(\"I'll just put this over here, with the rest of the fire.\")\n",
        "} catch let printerError as PrinterError {\n",
        "    print(\"Printer error: \\(printerError).\")\n",
        "} catch {\n",
        "    print(error)\n",
        "}"
      ]
    },
    {
      "cell_type": "code",
      "execution_count": null,
      "metadata": {
        "id": "-qpkCM8NnXie"
      },
      "outputs": [],
      "source": [
        "// Experiment:\n",
        "// Add code to throw an error inside the `do` block.\n",
        "// What kind of error do you need to throw so that the error is handled by the first `catch` block?\n",
        "// What about the second and third blocks?"
      ]
    },
    {
      "cell_type": "markdown",
      "metadata": {
        "id": "JOwTXVWbnAup"
      },
      "source": [
        "另一种处理错误的方式是使用 `try?` 将结果转换为可选值。如果函数引发错误，则会忽略具体的错误，而结果则为 `nil`。否则，结果是包含函数返回的值的可选值。"
      ]
    },
    {
      "cell_type": "code",
      "execution_count": null,
      "metadata": {
        "id": "2ifK6Lyom-9Q"
      },
      "outputs": [],
      "source": [
        "let printerSuccess = try? send(job: 1884, toPrinter: \"Mergenthaler\")\n",
        "let printerFailure = try? send(job: 1885, toPrinter: \"Never Has Toner\")"
      ]
    },
    {
      "cell_type": "markdown",
      "metadata": {
        "id": "SmSiz49knFZY"
      },
      "source": [
        "使用 `defer` 可以编写在函数中的所有其他代码之后执行的代码块（正好在函数返回之前执行）。不管函数是否引发错误，此代码都会执行。您可以使用 `defer` 相继编写设置和清理代码，即使这两段代码需要在不同的时间执行。"
      ]
    },
    {
      "cell_type": "code",
      "execution_count": null,
      "metadata": {
        "id": "tMdhw71anJbP"
      },
      "outputs": [],
      "source": [
        "var fridgeIsOpen = false\n",
        "let fridgeContent = [\"milk\", \"eggs\", \"leftovers\"]\n",
        "\n",
        "func fridgeContains(_ food: String) -> Bool {\n",
        "    fridgeIsOpen = true\n",
        "    defer {\n",
        "        fridgeIsOpen = false\n",
        "    }\n",
        "\n",
        "    let result = fridgeContent.contains(food)\n",
        "    return result\n",
        "}\n",
        "fridgeContains(\"banana\")\n",
        "fridgeIsOpen"
      ]
    },
    {
      "cell_type": "markdown",
      "metadata": {
        "id": "g0wCWqNMiOv-"
      },
      "source": [
        "## 泛型\n",
        "\n",
        "在尖括号内编写名称可以使其成为泛型函数或类型。"
      ]
    },
    {
      "cell_type": "code",
      "execution_count": null,
      "metadata": {
        "id": "sMyq1uQsdE3y"
      },
      "outputs": [],
      "source": [
        "func makeArray<Item>(repeating item: Item, numberOfTimes: Int) -> [Item] {\n",
        "    var result = [Item]()\n",
        "    for _ in 0..<numberOfTimes {\n",
        "        result.append(item)\n",
        "    }\n",
        "    return result\n",
        "}\n",
        "makeArray(repeating: \"knock\", numberOfTimes: 4)"
      ]
    },
    {
      "cell_type": "markdown",
      "metadata": {
        "id": "If8pw1_7dE3z"
      },
      "source": [
        "您可以创建泛型形式的函数和方法，以及类、枚举和结构体。"
      ]
    },
    {
      "cell_type": "code",
      "execution_count": null,
      "metadata": {
        "id": "PrhmI6iNdE30"
      },
      "outputs": [],
      "source": [
        "// Reimplement the Swift standard library's optional type\n",
        "enum OptionalValue<Wrapped> {\n",
        "    case none\n",
        "    case some(Wrapped)\n",
        "}\n",
        "var possibleInteger: OptionalValue<Int> = .none\n",
        "possibleInteger = .some(100)\n",
        "print(possibleInteger)"
      ]
    },
    {
      "cell_type": "markdown",
      "metadata": {
        "id": "NXhFj_GCdE31"
      },
      "source": [
        "在类型名称后使用 `where` 可以指定一系列要求，例如，要求类型实现协议，要求两个类型相同，或者要求某个类具有特定超类。"
      ]
    },
    {
      "cell_type": "code",
      "execution_count": null,
      "metadata": {
        "id": "EkXn4tmhdE32"
      },
      "outputs": [],
      "source": [
        "func anyCommonElements<T: Sequence, U: Sequence>(_ lhs: T, _ rhs: U) -> Bool\n",
        "    where T.Element: Equatable, T.Element == U.Element\n",
        "{\n",
        "    for lhsItem in lhs {\n",
        "        for rhsItem in rhs {\n",
        "            if lhsItem == rhsItem {\n",
        "                return true\n",
        "            }\n",
        "        }\n",
        "    }\n",
        "    return false\n",
        "}\n",
        "anyCommonElements([1, 2, 3], [3])"
      ]
    },
    {
      "cell_type": "markdown",
      "metadata": {
        "id": "6cZJ4EiYq33D"
      },
      "source": [
        "编写 `<T: Equatable>` 与编写 `<T> ... where T: Equatable` 的方式相同。"
      ]
    }
  ],
  "metadata": {
    "colab": {
      "collapsed_sections": [],
      "name": "a_swift_tour.ipynb",
      "toc_visible": true
    },
    "kernelspec": {
      "display_name": "Swift",
      "name": "swift"
    }
  },
  "nbformat": 4,
  "nbformat_minor": 0
}
