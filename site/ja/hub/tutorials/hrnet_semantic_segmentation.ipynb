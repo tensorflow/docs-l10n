{
  "cells": [
    {
      "cell_type": "markdown",
      "metadata": {
        "id": "58MWWgq75lMh"
      },
      "source": [
        "##### Copyright 2022 The TensorFlow Hub Authors.\n",
        "\n",
        "Licensed under the Apache License, Version 2.0 (the \"License\");"
      ]
    },
    {
      "cell_type": "code",
      "execution_count": null,
      "metadata": {
        "cellView": "form",
        "id": "jM3hCI1UUzar"
      },
      "outputs": [],
      "source": [
        "#@title Copyright 2022 The TensorFlow Hub Authors. All Rights Reserved.\n",
        "#\n",
        "# Licensed under the Apache License, Version 2.0 (the \"License\");\n",
        "# you may not use this file except in compliance with the License.\n",
        "# You may obtain a copy of the License at\n",
        "#\n",
        "#     http://www.apache.org/licenses/LICENSE-2.0\n",
        "#\n",
        "# Unless required by applicable law or agreed to in writing, software\n",
        "# distributed under the License is distributed on an \"AS IS\" BASIS,\n",
        "# WITHOUT WARRANTIES OR CONDITIONS OF ANY KIND, either express or implied.\n",
        "# See the License for the specific language governing permissions and\n",
        "# limitations under the License.\n",
        "# =============================================================================="
      ]
    },
    {
      "cell_type": "markdown",
      "metadata": {
        "id": "4_NEJlxKKjyI"
      },
      "source": [
        "<table class=\"tfo-notebook-buttons\" align=\"left\">\n",
        "  <td><a target=\"_blank\" href=\"https://www.tensorflow.org/hub/tutorials/hrnet_semantic_segmentation\"><img src=\"https://www.tensorflow.org/images/tf_logo_32px.png\">TensorFlow.org で表示</a></td>\n",
        "  <td><a target=\"_blank\" href=\"https://colab.research.google.com/github/tensorflow/docs-l10n/blob/master/site/ja/hub/tutorials/hrnet_semantic_segmentation.ipynb\"><img src=\"https://www.tensorflow.org/images/colab_logo_32px.png\">Google Colab で実行</a></td>\n",
        "  <td><a target=\"_blank\" href=\"https://github.com/tensorflow/docs-l10n/blob/master/site/ja/hub/tutorials/hrnet_semantic_segmentation.ipynb\"><img src=\"https://www.tensorflow.org/images/GitHub-Mark-32px.png\">GitHub で表示</a></td>\n",
        "  <td><a href=\"https://storage.googleapis.com/tensorflow_docs/docs-l10n/site/ja/hub/tutorials/hrnet_semantic_segmentation.ipynb\"><img src=\"https://www.tensorflow.org/images/download_logo_32px.png\">ノートブックをダウンロード</a></td>\n",
        "  <td><a href=\"https://tfhub.dev/google/HRNet/\"><img src=\"https://www.tensorflow.org/images/hub_logo_32px.png\">TF Hub モデル</a></td>\n",
        "</table>"
      ]
    },
    {
      "cell_type": "markdown",
      "metadata": {
        "id": "U5POcTVNB_dv"
      },
      "source": [
        "# セマンティックセグメンテーションの HRNet ベースモデル\n",
        "\n",
        "このノートブックでは、以下について説明します。\n",
        "\n",
        "- 異なるセマンティックセグメンテーション データセットで事前にトレーニングした 17 個の HTNet モデルから 1 つを選択して読み込む\n",
        "- 推論を実行して、モデルヘッドのモデルバックボーンと予測から特徴量を抽出する"
      ]
    },
    {
      "cell_type": "code",
      "execution_count": null,
      "metadata": {
        "id": "_XgTpm9ZxoN9"
      },
      "outputs": [],
      "source": [
        "import tensorflow as tf\n",
        "import tensorflow_hub as hub\n",
        "import matplotlib.pyplot as plt\n",
        "from PIL import Image\n",
        "import numpy as np"
      ]
    },
    {
      "cell_type": "markdown",
      "metadata": {
        "id": "UVtEyxDFpKE1"
      },
      "source": [
        "## TensorFlow Hub からモデルを読み込む\n",
        "\n",
        "ここでは、事前トレーニング済みの読み込み用の HRNet モデルを選択できます。モデルの違いは使用されたトレーニングデータセットの違いです。トレーニングデータセット（dataset_output_classes）に含まれるクラスの数に応じて異なる次元を持つモデルヘッドを除き、すべてのモデルに同じアーキテクチャが使用されています。データセットの多様性についての詳細は、上記のリンクと[影響要因データセットコレクション](https://github.com/google-research/google-research/tree/master/factors_of_influence)をご覧ください。"
      ]
    },
    {
      "cell_type": "code",
      "execution_count": null,
      "metadata": {
        "id": "y8_ctG55-uTX"
      },
      "outputs": [],
      "source": [
        "#@title Choose a pre-trained HRNet model to load.\n",
        "\n",
        "hrnet_model_name = 'ade20k-hrnetv2-w48/1'  #@param [\"ade20k-hrnetv2-w48/1\", \"isprs-hrnetv2-w48/1\", \"vkitti2-hrnetv2-w48/1\", \"vgallery-hrnetv2-w48/1\", \"sunrgbd-hrnetv2-w48/1\", \"suim-hrnetv2-w48/1\", \"scannet-hrnetv2-w48/1\", \"pvoc-hrnetv2-w48/1\", \"msegpcontext-hrnetv2-w48/1\", \"mapillary-hrnetv2-w48/1\", \"kitti-hrnetv2-w48/1\", \"isaid-hrnetv2-w48/1\", \"idd-hrnetv2-w48/1\", \"coco-hrnetv2-w48/1\", \"city-hrnetv2-w48/1\", \"camvid-hrnetv2-w48/1\", \"bdd-hrnetv2-w48/1\"]\n",
        "\n",
        "tfhub_model_name = 'https://tfhub.dev/google/HRNet/' + hrnet_model_name\n",
        "\n",
        "print('HRNet model selected           :', tfhub_model_name)"
      ]
    },
    {
      "cell_type": "code",
      "execution_count": null,
      "metadata": {
        "id": "T-yHJ5X55kWN"
      },
      "outputs": [],
      "source": [
        "hrnet_model = hub.load(tfhub_model_name)\n",
        "\n",
        "print('HRNet model loaded           :', tfhub_model_name)"
      ]
    },
    {
      "cell_type": "markdown",
      "metadata": {
        "id": "pMP_7v9x6kol"
      },
      "source": [
        "## 画像を読み込んで推論を実行する\n",
        "\n",
        "ここでは、画像から特徴量と予測を抽出する推論の実行方法を紹介します。画像は、scene150 データセットから取得されたものです。\n",
        "\n",
        "トレーニング中に使用されたデータセットで推論を実行するには、[影響要因データセットコレクション](https://github.com/google-research/google-research/tree/master/factors_of_influence)を参照してください。"
      ]
    },
    {
      "cell_type": "code",
      "execution_count": null,
      "metadata": {
        "id": "GNzjieS66td_"
      },
      "outputs": [],
      "source": [
        "img_file = tf.keras.utils.get_file(origin=\"https://tensorflow.org/images/bedroom_hrnet_tutorial.jpg\")\n",
        "img = np.array(Image.open(img_file))/255.0"
      ]
    },
    {
      "cell_type": "code",
      "execution_count": null,
      "metadata": {
        "id": "Lp54vD_FZuHw"
      },
      "outputs": [],
      "source": [
        "plt.imshow(img)\n",
        "plt.show()\n",
        "\n",
        "# Predictions will have shape (batch_size, h, w, dataset_output_classes)\n",
        "predictions = hrnet_model.predict([img])\n",
        "plt.imshow(predictions[0,:,:,1])\n",
        "plt.title('Predictions for class #1')\n",
        "plt.show() \n",
        "# Features will have shape (batch_size, h/4, w/4, 720)\n",
        "features = hrnet_model.get_features([img])\n",
        "plt.imshow(features[0,:,:,1])\n",
        "plt.title('Feature #1 out of 720')\n",
        "plt.show()"
      ]
    }
  ],
  "metadata": {
    "colab": {
      "collapsed_sections": [],
      "name": "hrnet_semantic_segmentation.ipynb",
      "toc_visible": true
    },
    "kernelspec": {
      "display_name": "Python 3",
      "name": "python3"
    }
  },
  "nbformat": 4,
  "nbformat_minor": 0
}
