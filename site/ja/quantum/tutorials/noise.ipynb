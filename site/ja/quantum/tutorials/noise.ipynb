{
  "cells": [
    {
      "cell_type": "markdown",
      "metadata": {
        "id": "xLOXFOT5Q40E"
      },
      "source": [
        "##### Copyright 2020 The TensorFlow Authors."
      ]
    },
    {
      "cell_type": "code",
      "execution_count": null,
      "metadata": {
        "cellView": "form",
        "id": "iiQkM5ZgQ8r2"
      },
      "outputs": [],
      "source": [
        "#@title Licensed under the Apache License, Version 2.0 (the \"License\");\n",
        "# you may not use this file except in compliance with the License.\n",
        "# You may obtain a copy of the License at\n",
        "#\n",
        "# https://www.apache.org/licenses/LICENSE-2.0\n",
        "#\n",
        "# Unless required by applicable law or agreed to in writing, software\n",
        "# distributed under the License is distributed on an \"AS IS\" BASIS,\n",
        "# WITHOUT WARRANTIES OR CONDITIONS OF ANY KIND, either express or implied.\n",
        "# See the License for the specific language governing permissions and\n",
        "# limitations under the License."
      ]
    },
    {
      "cell_type": "markdown",
      "metadata": {
        "id": "UndbWF_UpN-X"
      },
      "source": [
        "# ノイズ"
      ]
    },
    {
      "cell_type": "markdown",
      "metadata": {
        "id": "i9Jcnb8bQQyd"
      },
      "source": [
        "<table class=\"tfo-notebook-buttons\" align=\"left\">\n",
        "  <td>     <a target=\"_blank\" href=\"https://www.tensorflow.org/quantum/tutorials/noise\">     <img src=\"https://www.tensorflow.org/images/tf_logo_32px.png\">     TensorFlow.org で表示</a>\n",
        "</td>\n",
        "  <td>     <a target=\"_blank\" href=\"https://colab.research.google.com/github/tensorflow/docs-l10n/blob/master/site/ja/quantum/tutorials/noise.ipynb\">     <img src=\"https://www.tensorflow.org/images/colab_logo_32px.png\">     Google Colab で実行</a>\n",
        "</td>\n",
        "  <td><a target=\"_blank\" href=\"https://github.com/tensorflow/docs-l10n/blob/master/site/ja/quantum/tutorials/noise.ipynb\">     <img src=\"https://www.tensorflow.org/images/GitHub-Mark-32px.png\">     GitHubでソースを表示</a></td>\n",
        "  <td><a href=\"https://storage.googleapis.com/tensorflow_docs/docs-l10n/site/ja/quantum/tutorials/noise.ipynb\"><img src=\"https://www.tensorflow.org/images/download_logo_32px.png\">ノートブックをダウンロード</a></td>\n",
        "</table>"
      ]
    },
    {
      "cell_type": "markdown",
      "metadata": {
        "id": "fHHaKIG06Iv_"
      },
      "source": [
        "現代の量子コンピュータにはノイズが存在します。量子ビットは、周囲の環境からの干渉、不完全な製造、TLS、場合によっては[ガンマ線](https://arxiv.org/abs/2104.05219)による影響を受けやすくなっています。大規模にエラー訂正が行われるまで、現在のアルゴリズムはノイズが存在する場合でも機能する必要があります。そのため、現在のノイズがある量子コンピュータでの量子アルゴリズムとモデルの機能の検証は、重要なステップです。\n",
        "\n",
        "このチュートリアルでは、高レベルの `tfq.layers` API を介して、TFQ でのノイズの多い回路のシミュレーションの基本を見ていきます。\n",
        "\n",
        "## セットアップ"
      ]
    },
    {
      "cell_type": "code",
      "execution_count": null,
      "metadata": {
        "id": "J2CRbYRqrLdt"
      },
      "outputs": [],
      "source": [
        "!pip install tensorflow==2.7.0 tensorflow-quantum==0.7.2"
      ]
    },
    {
      "cell_type": "code",
      "execution_count": null,
      "metadata": {
        "id": "QStNslxBwgte"
      },
      "outputs": [],
      "source": [
        "!pip install -q git+https://github.com/tensorflow/docs"
      ]
    },
    {
      "cell_type": "code",
      "execution_count": null,
      "metadata": {
        "id": "4Ql5PW-ACO0J"
      },
      "outputs": [],
      "source": [
        "# Update package resources to account for version changes.\n",
        "import importlib, pkg_resources\n",
        "importlib.reload(pkg_resources)"
      ]
    },
    {
      "cell_type": "code",
      "execution_count": null,
      "metadata": {
        "id": "iRU07S4o8B52"
      },
      "outputs": [],
      "source": [
        "import random\n",
        "import cirq\n",
        "import sympy\n",
        "import tensorflow_quantum as tfq\n",
        "import tensorflow as tf\n",
        "import numpy as np\n",
        "# Plotting\n",
        "import matplotlib.pyplot as plt\n",
        "import tensorflow_docs as tfdocs\n",
        "import tensorflow_docs.plots"
      ]
    },
    {
      "cell_type": "markdown",
      "metadata": {
        "id": "CVnAGxZyruv8"
      },
      "source": [
        "## 1. 量子ノイズを理解する\n",
        "\n",
        "### 1.1 基本的な回路ノイズ\n",
        "\n",
        "量子コンピュータのノイズは、そこから測定されるビット文字列サンプルに影響を与えます。直感的には、ノイズの多い量子コンピュータは、下の図のようにランダムな場所でゲートを「挿入」、「削除」、または「置換」すると考えてみてください。\n",
        "\n",
        "<img src=\"./images/noise_1.png\" width=\"700\">\n",
        "\n",
        "ノイズに対処するには、単一の純粋な状態 $|\\psi \\rangle$ を使用せず、使用する回路で発生する可能性のあるすべてのノイズの*アンサンブル*、$\\rho = \\sum_j p_j |\\psi_j \\rangle \\langle \\psi_j |$ を処理すると考えます。ここで、$p_j$ は、システムが $|\\psi_j \\rangle$ にある確率を示します。\n",
        "\n",
        "上の図を再度検討してみましょう。90％ の場合にシステムが完全に実行され、つまり、10％ の場合にこの 1 つの障害モードだけでエラーが発生したことが事前にわかっていた場合、アンサンブルは次のようになります。\n",
        "\n",
        "$\\rho = 0.9 |\\psi_\\text{desired} \\rangle \\langle \\psi_\\text{desired}| + 0.1 |\\psi_\\text{noisy} \\rangle \\langle \\psi_\\text{noisy}| $\n",
        "\n",
        "回路でエラーが発生する可能性のある場合が 1 つ以上ある場合、アンサンブル $\\rho$ には 2 つ以上の項が含まれます（発生する可能性のあるノイズごとに 1 つ）。$\\rho$ は、ノイズの多いシステムを表す[密度行列](https://en.wikipedia.org/wiki/Density_matrix)と呼ばれます。\n",
        "\n",
        "### 1.2 チャネルを使用して回路ノイズをモデル化する\n",
        "\n",
        "残念ながら、実際には、回路でエラーが発生する可能性のあるすべての場合とその正確な確率を知ることはほぼ不可能です。単純には、回路の各演算後に、その演算がどのようなエラーを発生するかをを大まかに捕らえる[チャンネル](https://quantumai.google/cirq/noise)があると考えることができます。簡単なノイズのある回路を作成します。"
      ]
    },
    {
      "cell_type": "code",
      "execution_count": null,
      "metadata": {
        "id": "Eu_vpHbfrQKQ"
      },
      "outputs": [],
      "source": [
        "def x_circuit(qubits):\n",
        "  \"\"\"Produces an X wall circuit on `qubits`.\"\"\"\n",
        "  return cirq.Circuit(cirq.X.on_each(*qubits))\n",
        "\n",
        "def make_noisy(circuit, p):\n",
        "  \"\"\"Add a depolarization channel to all qubits in `circuit` before measurement.\"\"\"\n",
        "  return circuit + cirq.Circuit(cirq.depolarize(p).on_each(*circuit.all_qubits()))\n",
        "\n",
        "my_qubits = cirq.GridQubit.rect(1, 2)\n",
        "my_circuit = x_circuit(my_qubits)\n",
        "my_noisy_circuit = make_noisy(my_circuit, 0.5)\n",
        "my_circuit"
      ]
    },
    {
      "cell_type": "code",
      "execution_count": null,
      "metadata": {
        "id": "1B7vmyPm_TQ7"
      },
      "outputs": [],
      "source": [
        "my_noisy_circuit"
      ]
    },
    {
      "cell_type": "markdown",
      "metadata": {
        "id": "EejhXc2e9Cl8"
      },
      "source": [
        "以下のようにノイズのない密度行列 $\\rho$ を調べます。"
      ]
    },
    {
      "cell_type": "code",
      "execution_count": null,
      "metadata": {
        "id": "0QN9W69U8v_V"
      },
      "outputs": [],
      "source": [
        "rho = cirq.final_density_matrix(my_circuit)\n",
        "np.round(rho, 3)"
      ]
    },
    {
      "cell_type": "markdown",
      "metadata": {
        "id": "RHHBeizr-DEo"
      },
      "source": [
        "以下のようにノイズのある密度行列 $\\rho$ を調べます。\n"
      ]
    },
    {
      "cell_type": "code",
      "execution_count": null,
      "metadata": {
        "id": "zSD9H8SC9IJ1"
      },
      "outputs": [],
      "source": [
        "rho = cirq.final_density_matrix(my_noisy_circuit)\n",
        "np.round(rho, 3)"
      ]
    },
    {
      "cell_type": "markdown",
      "metadata": {
        "id": "2YWiejLl-a0Z"
      },
      "source": [
        "2 つの異なる $ \\rho $  を比較すると、ノイズが状態の振幅（結果としてサンプリング確率）に影響を与えていることがわかります。ノイズのない場合は、常に $ |11\\rangle $ 状態をサンプリングすることを期待します。しかし、ノイズの多い状態では、$ |00\\rangle $ または $ |01\\rangle $ または $ |10\\rangle $ もサンプリングする確率がゼロ以外になります。"
      ]
    },
    {
      "cell_type": "code",
      "execution_count": null,
      "metadata": {
        "id": "Z4uj-Zs0AE3n"
      },
      "outputs": [],
      "source": [
        "\"\"\"Sample from my_noisy_circuit.\"\"\"\n",
        "def plot_samples(circuit):\n",
        "  samples = cirq.sample(circuit + cirq.measure(*circuit.all_qubits(), key='bits'), repetitions=1000)\n",
        "  freqs, _ = np.histogram(samples.data['bits'], bins=[i+0.01 for i in range(-1,2** len(my_qubits))])\n",
        "  plt.figure(figsize=(10,5))\n",
        "  plt.title('Noisy Circuit Sampling')\n",
        "  plt.xlabel('Bitstring')\n",
        "  plt.ylabel('Frequency')\n",
        "  plt.bar([i for i in range(2** len(my_qubits))], freqs, tick_label=['00','01','10','11'])\n",
        "\n",
        "plot_samples(my_noisy_circuit)"
      ]
    },
    {
      "cell_type": "markdown",
      "metadata": {
        "id": "IpPh1Y0HEOWs"
      },
      "source": [
        "ノイズのない場合は常に $|11\\rangle$ になります。"
      ]
    },
    {
      "cell_type": "code",
      "execution_count": null,
      "metadata": {
        "id": "NRCOhTVpEJzz"
      },
      "outputs": [],
      "source": [
        "\"\"\"Sample from my_circuit.\"\"\"\n",
        "plot_samples(my_circuit)"
      ]
    },
    {
      "cell_type": "markdown",
      "metadata": {
        "id": "EMbJBXAiT9GH"
      },
      "source": [
        "ノイズをもう少し増やすと、希望する動作（$|11\\rangle$ のサンプリング）とノイズを区別するのがますます難しくなります。"
      ]
    },
    {
      "cell_type": "code",
      "execution_count": null,
      "metadata": {
        "id": "D2Fg-FUdUJQx"
      },
      "outputs": [],
      "source": [
        "my_really_noisy_circuit = make_noisy(my_circuit, 0.75)\n",
        "plot_samples(my_really_noisy_circuit)"
      ]
    },
    {
      "cell_type": "markdown",
      "metadata": {
        "id": "oV-0WV5Z7FQ8"
      },
      "source": [
        "注意: 回路内のさまざまなチャネルを試して、ノイズを生成してみてください。Cirq と TFQ の両方でサポートされている共通チャネルは[こちら](https://github.com/quantumlib/Cirq/blob/master/cirq-core/cirq/ops/common_channels.py)をご覧ください。"
      ]
    },
    {
      "cell_type": "markdown",
      "metadata": {
        "id": "atzsYj5qScn0"
      },
      "source": [
        "## 2. TFQ の基本ノイズ\n",
        "\n",
        "ノイズが回路の実行にどのように影響するかを理解することで、TFQ でノイズがどのように機能するかを調べることができます。TensorFlow Quantum は、密度行列シミュレーションの代わりに、モンテカルロ/軌道ベースのシミュレーションを使用します。これは、密度行列シミュレーションのメモリの複雑さにより、従来の完全密度行列シミュレーション方法では、大規模なシミュレーションが 20 キュービット未満に制限されるためです。モンテカルロ/軌道では、メモリコストを増やす代わりに時間コストを低減します。`backend='noisy'` オプションは、すべての `tfq.layers.Sample`、`tfq.layers.SampledExpectation`、および `tfq.layers.Expectation` で使用できます。（`Expectation` の場合、これは必要な `repetitions` パラメータを追加します）。\n",
        "\n",
        "### 2.1 TFQ でのノイズの多いサンプリング\n",
        "\n",
        "TFQ と軌道シミュレーションを使用して上記のプロットを再作成するには、`tfq.layers.Sample` を使用します。"
      ]
    },
    {
      "cell_type": "code",
      "execution_count": null,
      "metadata": {
        "id": "byVI5nbNQ4_b"
      },
      "outputs": [],
      "source": [
        "\"\"\"Draw bitstring samples from `my_noisy_circuit`\"\"\"\n",
        "bitstrings = tfq.layers.Sample(backend='noisy')(my_noisy_circuit, repetitions=1000)"
      ]
    },
    {
      "cell_type": "code",
      "execution_count": null,
      "metadata": {
        "id": "ncl0ruCZrd2s"
      },
      "outputs": [],
      "source": [
        "numeric_values = np.einsum('ijk,k->ij', bitstrings.to_tensor().numpy(), [1, 2])[0]\n",
        "freqs, _ = np.histogram(numeric_values, bins=[i+0.01 for i in range(-1,2** len(my_qubits))])\n",
        "plt.figure(figsize=(10,5))\n",
        "plt.title('Noisy Circuit Sampling')\n",
        "plt.xlabel('Bitstring')\n",
        "plt.ylabel('Frequency')\n",
        "plt.bar([i for i in range(2** len(my_qubits))], freqs, tick_label=['00','01','10','11'])"
      ]
    },
    {
      "cell_type": "markdown",
      "metadata": {
        "id": "QfHq13RwuLlF"
      },
      "source": [
        "### 2.2 ノイズの多いサンプルベースの期待値\n",
        "\n",
        "ノイズの多いサンプルベースの期待値計算を行うには、`tfq.layers.SampleExpectation` を使用します。\n"
      ]
    },
    {
      "cell_type": "code",
      "execution_count": null,
      "metadata": {
        "id": "ep45G-09rfrA"
      },
      "outputs": [],
      "source": [
        "some_observables = [cirq.X(my_qubits[0]), cirq.Z(my_qubits[0]), 3.0 * cirq.Y(my_qubits[1]) + 1]\n",
        "some_observables"
      ]
    },
    {
      "cell_type": "markdown",
      "metadata": {
        "id": "ur4iF_PGv0Xf"
      },
      "source": [
        "回路からのサンプリングを介して、ノイズのない期待値の推定値を計算します。"
      ]
    },
    {
      "cell_type": "code",
      "execution_count": null,
      "metadata": {
        "id": "jL6wJ3LCvNcn"
      },
      "outputs": [],
      "source": [
        "noiseless_sampled_expectation = tfq.layers.SampledExpectation(backend='noiseless')(\n",
        "    my_circuit, operators=some_observables, repetitions=10000\n",
        ")\n",
        "noiseless_sampled_expectation.numpy()"
      ]
    },
    {
      "cell_type": "markdown",
      "metadata": {
        "id": "c6hHgNtEv40i"
      },
      "source": [
        "ノイズの多いバージョンと比較します。"
      ]
    },
    {
      "cell_type": "code",
      "execution_count": null,
      "metadata": {
        "id": "8U4Gm-LGvYqa"
      },
      "outputs": [],
      "source": [
        "noisy_sampled_expectation = tfq.layers.SampledExpectation(backend='noisy')(\n",
        "    [my_noisy_circuit, my_really_noisy_circuit], operators=some_observables, repetitions=10000\n",
        ")\n",
        "noisy_sampled_expectation.numpy()"
      ]
    },
    {
      "cell_type": "markdown",
      "metadata": {
        "id": "CqQ_2c7XwMku"
      },
      "source": [
        "ノイズが特に $\\langle \\psi | Z | \\psi \\rangle$ に影響を与えていることがわかります。`my_really_noisy_circuit` は 0 に向かって非常に速く集中します。\n",
        "\n",
        "### 2.3 ノイズの多い分析的期待値の計算\n",
        "\n",
        "ノイズの多い分析的期待値の計算は、上記とほぼ同じです。\n"
      ]
    },
    {
      "cell_type": "code",
      "execution_count": null,
      "metadata": {
        "id": "pGXKlyCywAfj"
      },
      "outputs": [],
      "source": [
        "noiseless_analytic_expectation = tfq.layers.Expectation(backend='noiseless')(\n",
        "    my_circuit, operators=some_observables\n",
        ")\n",
        "noiseless_analytic_expectation.numpy()"
      ]
    },
    {
      "cell_type": "code",
      "execution_count": null,
      "metadata": {
        "id": "6FUkJ7aOyTlI"
      },
      "outputs": [],
      "source": [
        "noisy_analytic_expectation = tfq.layers.Expectation(backend='noisy')(\n",
        "    [my_noisy_circuit, my_really_noisy_circuit], operators=some_observables, repetitions=10000\n",
        ")\n",
        "noisy_analytic_expectation.numpy()"
      ]
    },
    {
      "cell_type": "markdown",
      "metadata": {
        "id": "5KHvORT42XFV"
      },
      "source": [
        "## 3. ハイブリッドモデルと量子データノイズ\n",
        "\n",
        "TFQ でいくつかのノイズの多い回路シミュレーションを実装したので、ノイズのあるパフォーマンスとノイズのないパフォーマンスを比較対照し、ノイズが量子およびハイブリッド量子の古典的モデルにどのように影響するかを実験できます。モデルまたはアルゴリズムがノイズに対してロバストであるかどうかを確認するためには、まず、次のような回路全体の脱分極モデルでテストしてみます。\n",
        "\n",
        "<img src=\"./images/noise_2.png\" width=\"500\">\n",
        "\n",
        "回路の各タイムスライス（モーメントと呼ばれることもあります）には、そのタイムスライスの各ゲート演算の後に脱分極チャネルが追加されています。脱分極チャネルは、確率 $p$ で ${X, Y, Z }$ のいずれかを適用するか、確率 $1-p$ で何も適用しません（元の演算を維持する）。\n",
        "\n",
        "### 3.1 データ\n",
        "\n",
        "この例では、`tfq.datasets` モジュールで準備された回路をトレーニングデータとして使用できます。"
      ]
    },
    {
      "cell_type": "code",
      "execution_count": null,
      "metadata": {
        "id": "_ZqVLEji2WUx"
      },
      "outputs": [],
      "source": [
        "qubits = cirq.GridQubit.rect(1, 8)\n",
        "circuits, labels, pauli_sums, _ = tfq.datasets.xxz_chain(qubits, 'closed')\n",
        "circuits[0]"
      ]
    },
    {
      "cell_type": "markdown",
      "metadata": {
        "id": "MFgNU_nBGeTm"
      },
      "source": [
        "小さなヘルパー関数を作成すると、ノイズの多い場合とノイズのない場合のデータを生成するのに役立ちます。"
      ]
    },
    {
      "cell_type": "code",
      "execution_count": null,
      "metadata": {
        "id": "zkQofAqqGibQ"
      },
      "outputs": [],
      "source": [
        "def get_data(qubits, depolarize_p=0.):\n",
        "  \"\"\"Return quantum data circuits and labels in `tf.Tensor` form.\"\"\"\n",
        "  circuits, labels, pauli_sums, _ = tfq.datasets.xxz_chain(qubits, 'closed')\n",
        "  if depolarize_p >= 1e-5:\n",
        "    circuits = [circuit.with_noise(cirq.depolarize(depolarize_p)) for circuit in circuits]\n",
        "  tmp = list(zip(circuits, labels))\n",
        "  random.shuffle(tmp)\n",
        "  circuits_tensor = tfq.convert_to_tensor([x[0] for x in tmp])\n",
        "  labels_tensor = tf.convert_to_tensor([x[1] for x in tmp])\n",
        "\n",
        "  return circuits_tensor, labels_tensor"
      ]
    },
    {
      "cell_type": "markdown",
      "metadata": {
        "id": "FtJrfsLCF9Z3"
      },
      "source": [
        "### 3.2 モデル回路を定義する\n",
        "\n",
        "回路の形状で量子データができたので、このデータをモデル化するための回路が必要になります。データと同様に、オプションでノイズを含むこの回路を生成するヘルパー関数を記述します。"
      ]
    },
    {
      "cell_type": "code",
      "execution_count": null,
      "metadata": {
        "id": "TwryFaFIG2Ya"
      },
      "outputs": [],
      "source": [
        "def modelling_circuit(qubits, depth, depolarize_p=0.):\n",
        "  \"\"\"A simple classifier circuit.\"\"\"\n",
        "  dim = len(qubits)\n",
        "  ret = cirq.Circuit(cirq.H.on_each(*qubits))\n",
        "\n",
        "  for i in range(depth):\n",
        "    # Entangle layer.\n",
        "    ret += cirq.Circuit(cirq.CX(q1, q2) for (q1, q2) in zip(qubits[::2], qubits[1::2]))\n",
        "    ret += cirq.Circuit(cirq.CX(q1, q2) for (q1, q2) in zip(qubits[1::2], qubits[2::2]))\n",
        "    # Learnable rotation layer.\n",
        "    # i_params = sympy.symbols(f'layer-{i}-0:{dim}')\n",
        "    param = sympy.Symbol(f'layer-{i}')\n",
        "    single_qb = cirq.X\n",
        "    if i % 2 == 1:\n",
        "      single_qb = cirq.Y\n",
        "    ret += cirq.Circuit(single_qb(q) ** param for q in qubits)\n",
        "  \n",
        "  if depolarize_p >= 1e-5:\n",
        "    ret = ret.with_noise(cirq.depolarize(depolarize_p))\n",
        "\n",
        "  return ret, [op(q) for q in qubits for op in [cirq.X, cirq.Y, cirq.Z]]\n",
        "\n",
        "modelling_circuit(qubits, 3)[0]"
      ]
    },
    {
      "cell_type": "markdown",
      "metadata": {
        "id": "U-ZMaCpJI9TH"
      },
      "source": [
        "### 3.3 モデルの構築とトレーニング\n",
        "\n",
        "データとモデル回路を構築しました。必要な最後のヘルパー関数は、ノイズの多いまたはノイズのないハイブリッド量子 `tf.keras.Model` の両方をアセンブルできる関数です。"
      ]
    },
    {
      "cell_type": "code",
      "execution_count": null,
      "metadata": {
        "id": "r09CT5N9DWa_"
      },
      "outputs": [],
      "source": [
        "def build_keras_model(qubits, depolarize_p=0.):\n",
        "  \"\"\"Prepare a noisy hybrid quantum classical Keras model.\"\"\"\n",
        "  spin_input = tf.keras.Input(shape=(), dtype=tf.dtypes.string)\n",
        "\n",
        "  circuit_and_readout = modelling_circuit(qubits, 4, depolarize_p)\n",
        "  if depolarize_p >= 1e-5:\n",
        "    quantum_model = tfq.layers.NoisyPQC(*circuit_and_readout, sample_based=False, repetitions=10)(spin_input)\n",
        "  else:\n",
        "    quantum_model = tfq.layers.PQC(*circuit_and_readout)(spin_input)\n",
        "\n",
        "  intermediate = tf.keras.layers.Dense(4, activation='sigmoid')(quantum_model)\n",
        "  post_process = tf.keras.layers.Dense(1)(intermediate)\n",
        "\n",
        "  return tf.keras.Model(inputs=[spin_input], outputs=[post_process])"
      ]
    },
    {
      "cell_type": "markdown",
      "metadata": {
        "id": "QbMtT7BZmhfm"
      },
      "source": [
        "## 4. パフォーマンスを比較する\n",
        "\n",
        "### 4.1 ノイズのないベースライン\n",
        "\n",
        "データ生成とモデル構築コードを使用して、ノイズのない設定とノイズの多い設定でモデルのパフォーマンスを比較対照できるようになりました。最初に、ベースラインとなるノイズのないトレーニングを実行します。"
      ]
    },
    {
      "cell_type": "code",
      "execution_count": null,
      "metadata": {
        "id": "QAgpq9c-EakW"
      },
      "outputs": [],
      "source": [
        "training_histories = dict()\n",
        "depolarize_p = 0.\n",
        "n_epochs = 50\n",
        "phase_classifier = build_keras_model(qubits, depolarize_p)\n",
        "\n",
        "phase_classifier.compile(optimizer=tf.keras.optimizers.Adam(learning_rate=0.02),\n",
        "                   loss=tf.keras.losses.BinaryCrossentropy(from_logits=True),\n",
        "                   metrics=['accuracy'])\n",
        "\n",
        "\n",
        "# Show the keras plot of the model\n",
        "tf.keras.utils.plot_model(phase_classifier, show_shapes=True, dpi=70)"
      ]
    },
    {
      "cell_type": "code",
      "execution_count": null,
      "metadata": {
        "id": "9tKimWRMlVfL"
      },
      "outputs": [],
      "source": [
        "noiseless_data, noiseless_labels = get_data(qubits, depolarize_p)\n",
        "training_histories['noiseless'] = phase_classifier.fit(x=noiseless_data,\n",
        "                         y=noiseless_labels,\n",
        "                         batch_size=16,\n",
        "                         epochs=n_epochs,\n",
        "                         validation_split=0.15,\n",
        "                         verbose=1)"
      ]
    },
    {
      "cell_type": "markdown",
      "metadata": {
        "id": "A9oql6Synv3f"
      },
      "source": [
        "結果と精度を調べます。"
      ]
    },
    {
      "cell_type": "code",
      "execution_count": null,
      "metadata": {
        "id": "TG87YNUWKKLY"
      },
      "outputs": [],
      "source": [
        "loss_plotter = tfdocs.plots.HistoryPlotter(metric = 'loss', smoothing_std=10)\n",
        "loss_plotter.plot(training_histories)"
      ]
    },
    {
      "cell_type": "code",
      "execution_count": null,
      "metadata": {
        "id": "O2ZwM18YUxxm"
      },
      "outputs": [],
      "source": [
        "acc_plotter = tfdocs.plots.HistoryPlotter(metric = 'accuracy', smoothing_std=10)\n",
        "acc_plotter.plot(training_histories)"
      ]
    },
    {
      "cell_type": "markdown",
      "metadata": {
        "id": "JlOwBxvSnzid"
      },
      "source": [
        "### 4.2 ノイズの多いモデルを比較する\n",
        "\n",
        "ノイズの多い構造を持つ新しいモデルを作成し、上記と比較します。コードはほぼ同じです。"
      ]
    },
    {
      "cell_type": "code",
      "execution_count": null,
      "metadata": {
        "id": "0jy54uWpgwhi"
      },
      "outputs": [],
      "source": [
        "depolarize_p = 0.001\n",
        "n_epochs = 50\n",
        "noisy_phase_classifier = build_keras_model(qubits, depolarize_p)\n",
        "\n",
        "noisy_phase_classifier.compile(optimizer=tf.keras.optimizers.Adam(learning_rate=0.02),\n",
        "                   loss=tf.keras.losses.BinaryCrossentropy(from_logits=True),\n",
        "                   metrics=['accuracy'])\n",
        "\n",
        "\n",
        "# Show the keras plot of the model\n",
        "tf.keras.utils.plot_model(noisy_phase_classifier, show_shapes=True, dpi=70)"
      ]
    },
    {
      "cell_type": "markdown",
      "metadata": {
        "id": "r-vYU6S3oN-J"
      },
      "source": [
        "注意: モデル図では、脱分極確率がゼロではなくなったため、`tfq.layers.PQC` の代わりに `tfq.layers.NoisyPQC` が表示されます。 ノイズの多いシミュレーションはノイズのないシミュレーションよりもはるかにコストがかかるため、トレーニングにはかなり長い時間がかかります。"
      ]
    },
    {
      "cell_type": "code",
      "execution_count": null,
      "metadata": {
        "id": "210cLP5AoClJ"
      },
      "outputs": [],
      "source": [
        "noisy_data, noisy_labels = get_data(qubits, depolarize_p)\n",
        "training_histories['noisy'] = noisy_phase_classifier.fit(x=noisy_data,\n",
        "                         y=noisy_labels,\n",
        "                         batch_size=16,\n",
        "                         epochs=n_epochs,\n",
        "                         validation_split=0.15,\n",
        "                         verbose=1)"
      ]
    },
    {
      "cell_type": "code",
      "execution_count": null,
      "metadata": {
        "id": "eQ8pknNdohzy"
      },
      "outputs": [],
      "source": [
        "loss_plotter.plot(training_histories)"
      ]
    },
    {
      "cell_type": "code",
      "execution_count": null,
      "metadata": {
        "id": "nBtgnKWtuWRR"
      },
      "outputs": [],
      "source": [
        "acc_plotter.plot(training_histories)"
      ]
    },
    {
      "cell_type": "markdown",
      "metadata": {
        "id": "r86TeFxlubls"
      },
      "source": [
        "成功: ノイズの多いモデルは、軽度の脱分極ノイズの下でトレーニングを行うことができました。さまざまなノイズモデルを試して、トレーニングがいつどのように失敗するかを確認してください。また、`tfq.layers` と `tfq.noise` の下のノイズの多い機能にも注意してください。"
      ]
    }
  ],
  "metadata": {
    "colab": {
      "name": "noise.ipynb",
      "toc_visible": true
    },
    "kernelspec": {
      "display_name": "Python 3",
      "name": "python3"
    }
  },
  "nbformat": 4,
  "nbformat_minor": 0
}
