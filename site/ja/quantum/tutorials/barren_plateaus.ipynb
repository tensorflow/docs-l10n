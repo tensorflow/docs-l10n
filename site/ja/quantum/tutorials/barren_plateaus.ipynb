{
  "cells": [
    {
      "cell_type": "markdown",
      "metadata": {
        "id": "xLOXFOT5Q40E"
      },
      "source": [
        "##### Copyright 2020 The TensorFlow Authors."
      ]
    },
    {
      "cell_type": "code",
      "execution_count": null,
      "metadata": {
        "cellView": "form",
        "id": "iiQkM5ZgQ8r2"
      },
      "outputs": [],
      "source": [
        "#@title Licensed under the Apache License, Version 2.0 (the \"License\");\n",
        "# you may not use this file except in compliance with the License.\n",
        "# You may obtain a copy of the License at\n",
        "#\n",
        "# https://www.apache.org/licenses/LICENSE-2.0\n",
        "#\n",
        "# Unless required by applicable law or agreed to in writing, software\n",
        "# distributed under the License is distributed on an \"AS IS\" BASIS,\n",
        "# WITHOUT WARRANTIES OR CONDITIONS OF ANY KIND, either express or implied.\n",
        "# See the License for the specific language governing permissions and\n",
        "# limitations under the License."
      ]
    },
    {
      "cell_type": "markdown",
      "metadata": {
        "id": "j6331ZSsQGY3"
      },
      "source": [
        "# 不毛の高原"
      ]
    },
    {
      "cell_type": "markdown",
      "metadata": {
        "id": "i9Jcnb8bQQyd"
      },
      "source": [
        "<table class=\"tfo-notebook-buttons\" align=\"left\">\n",
        "  <td>     <a target=\"_blank\" href=\"https://www.tensorflow.org/quantum/tutorials/barren_plateaus\">     <img src=\"https://www.tensorflow.org/images/tf_logo_32px.png\">     TensorFlow.org で表示</a>\n",
        "</td>\n",
        "  <td>     <a target=\"_blank\" href=\"https://colab.research.google.com/github/tensorflow/docs-l10n/blob/master/site/ja/quantum/tutorials/barren_plateaus.ipynb\"><img src=\"https://www.tensorflow.org/images/colab_logo_32px.png\">Google Colab で実行</a>\n",
        "</td>\n",
        "  <td><a target=\"_blank\" href=\"https://github.com/tensorflow/docs-l10n/blob/master/site/ja/quantum/tutorials/barren_plateaus.ipynb\">     <img src=\"https://www.tensorflow.org/images/GitHub-Mark-32px.png\">     GitHubでソースを表示</a></td>\n",
        "  <td><a href=\"https://storage.googleapis.com/tensorflow_docs/docs-l10n/site/ja/quantum/tutorials/barren_plateaus.ipynb\"><img src=\"https://www.tensorflow.org/images/download_logo_32px.png\">ノートブックをダウンロード</a></td>\n",
        "</table>"
      ]
    },
    {
      "cell_type": "markdown",
      "metadata": {
        "id": "DyEcfFapraq6"
      },
      "source": [
        "この例では、量子ニューラルネットワーク構造だけでは学習に不十分だという <a href=\"https://www.nature.com/articles/s41467-018-07090-4\" class=\"external\">McClean、2019</a> の研究結果について見ていきます。特に、特定の大規模なランダム量子回路のファミリでは勾配が消えてしまうため量子ニューラルネットワークが優れた機能を発揮しないことがわかります。この例では、特定の学習問題のモデルをトレーニングするのではなく、勾配の動作を理解することに焦点を当てます。"
      ]
    },
    {
      "cell_type": "markdown",
      "metadata": {
        "id": "zB_Xw0Y9rVNi"
      },
      "source": [
        "## セットアップ"
      ]
    },
    {
      "cell_type": "code",
      "execution_count": null,
      "metadata": {
        "id": "TorxE5tnkvb2"
      },
      "outputs": [],
      "source": [
        "!pip install tensorflow==2.7.0"
      ]
    },
    {
      "cell_type": "markdown",
      "metadata": {
        "id": "FxkQA6oblNqI"
      },
      "source": [
        "TensorFlow Quantum をインストールします。"
      ]
    },
    {
      "cell_type": "code",
      "execution_count": null,
      "metadata": {
        "id": "saFHsRDpkvkH"
      },
      "outputs": [],
      "source": [
        "!pip install tensorflow-quantum"
      ]
    },
    {
      "cell_type": "code",
      "execution_count": null,
      "metadata": {
        "id": "4Ql5PW-ACO0J"
      },
      "outputs": [],
      "source": [
        "# Update package resources to account for version changes.\n",
        "import importlib, pkg_resources\n",
        "importlib.reload(pkg_resources)"
      ]
    },
    {
      "cell_type": "markdown",
      "metadata": {
        "id": "1PaclXeSrrMW"
      },
      "source": [
        "次に、TensorFlow とモジュールの依存関係をインポートします。"
      ]
    },
    {
      "cell_type": "code",
      "execution_count": null,
      "metadata": {
        "id": "enZ300Bflq80"
      },
      "outputs": [],
      "source": [
        "import tensorflow as tf\n",
        "import tensorflow_quantum as tfq\n",
        "\n",
        "import cirq\n",
        "import sympy\n",
        "import numpy as np\n",
        "\n",
        "# visualization tools\n",
        "%matplotlib inline\n",
        "import matplotlib.pyplot as plt\n",
        "from cirq.contrib.svg import SVGCircuit\n",
        "\n",
        "np.random.seed(1234)"
      ]
    },
    {
      "cell_type": "markdown",
      "metadata": {
        "id": "b08Mmbs8lr81"
      },
      "source": [
        "## 1. 概要\n",
        "\n",
        "以下は多くのブロックを持つランダム量子回路です ($R_{P}(\\theta)$ はランダムなパウリ回転です):<br> <img src=\"./images/barren_2.png\" width=\"700\">\n",
        "\n",
        "$f(x)$ が任意の量子ビット $a$ と $b$ の期待値 w.r.t$Z_{a}Z_{b}$ として定義されている場合、$f'(x)$ の平均が 0 に非常に近くなり、あまり変化しないという問題があります。 以下に示すとおりです。"
      ]
    },
    {
      "cell_type": "markdown",
      "metadata": {
        "id": "y31qSRCczI-L"
      },
      "source": [
        "## 2. ランダム回路の生成\n",
        "\n",
        "論文からの構成は簡単に生成できです。以下は、ランダムな量子回路を生成する簡単な関数を実装します。これは*量子ニューラルネットワーク*（QNN）と呼ばれ、量子ビットのセットの深さを指定します。"
      ]
    },
    {
      "cell_type": "code",
      "execution_count": null,
      "metadata": {
        "id": "Nh9vrgPBks7O"
      },
      "outputs": [],
      "source": [
        "def generate_random_qnn(qubits, symbol, depth):\n",
        "    \"\"\"Generate random QNN's with the same structure from McClean et al.\"\"\"\n",
        "    circuit = cirq.Circuit()\n",
        "    for qubit in qubits:\n",
        "        circuit += cirq.ry(np.pi / 4.0)(qubit)\n",
        "\n",
        "    for d in range(depth):\n",
        "        # Add a series of single qubit rotations.\n",
        "        for i, qubit in enumerate(qubits):\n",
        "            random_n = np.random.uniform()\n",
        "            random_rot = np.random.uniform(\n",
        "            ) * 2.0 * np.pi if i != 0 or d != 0 else symbol\n",
        "            if random_n > 2. / 3.:\n",
        "                # Add a Z.\n",
        "                circuit += cirq.rz(random_rot)(qubit)\n",
        "            elif random_n > 1. / 3.:\n",
        "                # Add a Y.\n",
        "                circuit += cirq.ry(random_rot)(qubit)\n",
        "            else:\n",
        "                # Add a X.\n",
        "                circuit += cirq.rx(random_rot)(qubit)\n",
        "\n",
        "        # Add CZ ladder.\n",
        "        for src, dest in zip(qubits, qubits[1:]):\n",
        "            circuit += cirq.CZ(src, dest)\n",
        "\n",
        "    return circuit\n",
        "\n",
        "\n",
        "generate_random_qnn(cirq.GridQubit.rect(1, 3), sympy.Symbol('theta'), 2)"
      ]
    },
    {
      "cell_type": "markdown",
      "metadata": {
        "id": "gUuQfOyrj_Hu"
      },
      "source": [
        "ここでは、1 つのパラメータ $\\theta_{1,1}$ の勾配を調査します。$\\theta_{1,1}$ が存在する回路に`sympy.Symbol`を配置します。回路内の他のシンボルの統計は分析しないので、ここでランダムな値に置き換えます。"
      ]
    },
    {
      "cell_type": "markdown",
      "metadata": {
        "id": "lAVDRQ87k3md"
      },
      "source": [
        "## 3. 回路の実行\n",
        "\n",
        "勾配の変化が少ないという主張を調査するために、オブザーバブル、および、いくつかの回路を生成します。まず、ランダム回路のバッチを生成します。ランダムな *ZZ* オブザーバブルを選択し、TensorFlowQuantum を使用して勾配と分散をバッチ計算します。"
      ]
    },
    {
      "cell_type": "markdown",
      "metadata": {
        "id": "qoDDaHgwj_Hz"
      },
      "source": [
        "### 3.1 バッチ分散計算\n",
        "\n",
        "回路のバッチ全体で特定のオブザーバブルの勾配の分散を計算するヘルパー関数を作成します。"
      ]
    },
    {
      "cell_type": "code",
      "execution_count": null,
      "metadata": {
        "id": "OkdndnBKk8B8"
      },
      "outputs": [],
      "source": [
        "def process_batch(circuits, symbol, op):\n",
        "    \"\"\"Compute the variance of a batch of expectations w.r.t. op on each circuit that \n",
        "    contains `symbol`. Note that this method sets up a new compute graph every time it is\n",
        "    called so it isn't as performant as possible.\"\"\"\n",
        "\n",
        "    # Setup a simple layer to batch compute the expectation gradients.\n",
        "    expectation = tfq.layers.Expectation()\n",
        "\n",
        "    # Prep the inputs as tensors\n",
        "    circuit_tensor = tfq.convert_to_tensor(circuits)\n",
        "    values_tensor = tf.convert_to_tensor(\n",
        "        np.random.uniform(0, 2 * np.pi, (n_circuits, 1)).astype(np.float32))\n",
        "\n",
        "    # Use TensorFlow GradientTape to track gradients.\n",
        "    with tf.GradientTape() as g:\n",
        "        g.watch(values_tensor)\n",
        "        forward = expectation(circuit_tensor,\n",
        "                              operators=op,\n",
        "                              symbol_names=[symbol],\n",
        "                              symbol_values=values_tensor)\n",
        "\n",
        "    # Return variance of gradients across all circuits.\n",
        "    grads = g.gradient(forward, values_tensor)\n",
        "    grad_var = tf.math.reduce_std(grads, axis=0)\n",
        "    return grad_var.numpy()[0]"
      ]
    },
    {
      "cell_type": "markdown",
      "metadata": {
        "id": "JINYTIjDj_H1"
      },
      "source": [
        "### 3.1 セットアップして実行する\n",
        "\n",
        "生成するランダム回路の数、および、それらに対する量子ビットの深さおよび量を選択します。次に、結果をプロットします。"
      ]
    },
    {
      "cell_type": "code",
      "execution_count": null,
      "metadata": {
        "id": "xAGBcq9Bj_H3"
      },
      "outputs": [],
      "source": [
        "n_qubits = [2 * i for i in range(2, 7)\n",
        "           ]  # Ranges studied in paper are between 2 and 24.\n",
        "depth = 50  # Ranges studied in paper are between 50 and 500.\n",
        "n_circuits = 200\n",
        "theta_var = []\n",
        "\n",
        "for n in n_qubits:\n",
        "    # Generate the random circuits and observable for the given n.\n",
        "    qubits = cirq.GridQubit.rect(1, n)\n",
        "    symbol = sympy.Symbol('theta')\n",
        "    circuits = [\n",
        "        generate_random_qnn(qubits, symbol, depth) for _ in range(n_circuits)\n",
        "    ]\n",
        "    op = cirq.Z(qubits[0]) * cirq.Z(qubits[1])\n",
        "    theta_var.append(process_batch(circuits, symbol, op))\n",
        "\n",
        "plt.semilogy(n_qubits, theta_var)\n",
        "plt.title('Gradient Variance in QNNs')\n",
        "plt.xlabel('n_qubits')\n",
        "plt.xticks(n_qubits)\n",
        "plt.ylabel('$\\\\partial \\\\theta$ variance')\n",
        "plt.show()"
      ]
    },
    {
      "cell_type": "markdown",
      "metadata": {
        "id": "qY2E0CFjxRE9"
      },
      "source": [
        "このプロットは、量子機械学習の問題では、ランダムな QNN 仮説を単純に推測しても、最良の結果を期待することはできないことを示しています。学習が発生する可能性のある点まで勾配を変化させるには、モデル回路に何らかの構造が存在する必要があります。"
      ]
    },
    {
      "cell_type": "markdown",
      "metadata": {
        "id": "4RE_idhmj_H6"
      },
      "source": [
        "## 4. ヒューリスティック\n",
        "\n",
        "<a href=\"https://arxiv.org/pdf/1903.05076.pdf\" class=\"external\">Grant、2019</a> による興味深いヒューリスティックによると、ランダムに非常に近い状態（完全にランダムではない）で開始できます。McClean et al. と同じ回路を使用して、著者は、「不毛のプラトー」を回避するために、古典的な制御パラメータに対して異なる初期化手法を提案します。初期化手法は、完全にランダムな制御パラメータで一部のレイヤーを開始しますが、その直後のレイヤーでは、最初のいくつかのレイヤーによって行われた最初の変換が取り消されるようにパラメータを選択します。著者はこれを*アイデンティティブロック*と呼んでいます。\n",
        "\n",
        "このヒューリスティックの利点は、1 つのパラメータを変更するだけで、その時点のブロック以外の他のすべてのブロックがそのままになり、勾配信号は以前よりはるかに強くなります。これにより、ユーザーは、強い勾配信号を取得するために変更する変数とブロックを選択できます。このヒューリスティックは、トレーニングフェーズ中にユーザーが「不毛の高原」に陥るのを防ぐことはできません（完全な同時更新を制限します）。「高原」の外から開始できることを保証するだけです。"
      ]
    },
    {
      "cell_type": "markdown",
      "metadata": {
        "id": "Fofv9hgyj_IB"
      },
      "source": [
        "### 4.1 新しい QNN の構築\n",
        "\n",
        "次に、アイデンティティブロック QNN を生成する関数を作成します。この実装は、論文の実装とは少し異なります。ここでは、1 つのパラメータの勾配の振る舞いを見て、McClean et al と一致するようにして、いくつかの簡略化を行います。\n",
        "\n",
        "アイデンティティブロックを生成してモデルをトレーニングするには、通常、$U1(\\theta_1) U1(\\theta_1)^{\\dagger}$ ではなく$U1(\\theta_{1a}) U1(\\theta_{1b})^{\\dagger}$ が必要です。そうしないと、トレーニング後も常にアイデンティティを取得します。アイデンティティブロックの数の選択は経験に基づいています。ブロックが深いほど、ブロックの中央の分散は小さくなります。ただし、ブロックの開始時と終了時では、パラメータ勾配の分散が大きい必要があります。 "
      ]
    },
    {
      "cell_type": "code",
      "execution_count": null,
      "metadata": {
        "id": "PL7mTHEVj_IC"
      },
      "outputs": [],
      "source": [
        "def generate_identity_qnn(qubits, symbol, block_depth, total_depth):\n",
        "    \"\"\"Generate random QNN's with the same structure from Grant et al.\"\"\"\n",
        "    circuit = cirq.Circuit()\n",
        "\n",
        "    # Generate initial block with symbol.\n",
        "    prep_and_U = generate_random_qnn(qubits, symbol, block_depth)\n",
        "    circuit += prep_and_U\n",
        "\n",
        "    # Generate dagger of initial block without symbol.\n",
        "    U_dagger = (prep_and_U[1:])**-1\n",
        "    circuit += cirq.resolve_parameters(\n",
        "        U_dagger, param_resolver={symbol: np.random.uniform() * 2 * np.pi})\n",
        "\n",
        "    for d in range(total_depth - 1):\n",
        "        # Get a random QNN.\n",
        "        prep_and_U_circuit = generate_random_qnn(\n",
        "            qubits,\n",
        "            np.random.uniform() * 2 * np.pi, block_depth)\n",
        "\n",
        "        # Remove the state-prep component\n",
        "        U_circuit = prep_and_U_circuit[1:]\n",
        "\n",
        "        # Add U\n",
        "        circuit += U_circuit\n",
        "\n",
        "        # Add U^dagger\n",
        "        circuit += U_circuit**-1\n",
        "\n",
        "    return circuit\n",
        "\n",
        "\n",
        "generate_identity_qnn(cirq.GridQubit.rect(1, 3), sympy.Symbol('theta'), 2, 2)"
      ]
    },
    {
      "cell_type": "markdown",
      "metadata": {
        "id": "ifWrl19kj_IG"
      },
      "source": [
        "### 4.2 比較\n",
        "\n",
        "ここでは、ヒューリスティックが勾配の分散がすぐに消えないようにするのに役立つことがわかります。"
      ]
    },
    {
      "cell_type": "code",
      "execution_count": null,
      "metadata": {
        "id": "62kmsVAXj_IH"
      },
      "outputs": [],
      "source": [
        "block_depth = 10\n",
        "total_depth = 5\n",
        "\n",
        "heuristic_theta_var = []\n",
        "\n",
        "for n in n_qubits:\n",
        "    # Generate the identity block circuits and observable for the given n.\n",
        "    qubits = cirq.GridQubit.rect(1, n)\n",
        "    symbol = sympy.Symbol('theta')\n",
        "    circuits = [\n",
        "        generate_identity_qnn(qubits, symbol, block_depth, total_depth)\n",
        "        for _ in range(n_circuits)\n",
        "    ]\n",
        "    op = cirq.Z(qubits[0]) * cirq.Z(qubits[1])\n",
        "    heuristic_theta_var.append(process_batch(circuits, symbol, op))\n",
        "\n",
        "plt.semilogy(n_qubits, theta_var)\n",
        "plt.semilogy(n_qubits, heuristic_theta_var)\n",
        "plt.title('Heuristic vs. Random')\n",
        "plt.xlabel('n_qubits')\n",
        "plt.xticks(n_qubits)\n",
        "plt.ylabel('$\\\\partial \\\\theta$ variance')\n",
        "plt.show()"
      ]
    },
    {
      "cell_type": "markdown",
      "metadata": {
        "id": "E0XNSoblj_IK"
      },
      "source": [
        "これは、（ほぼ）ランダムな QNN からより強い勾配信号を取得する上での大きな改善です。"
      ]
    }
  ],
  "metadata": {
    "colab": {
      "collapsed_sections": [],
      "name": "barren_plateaus.ipynb",
      "toc_visible": true
    },
    "kernelspec": {
      "display_name": "Python 3",
      "name": "python3"
    }
  },
  "nbformat": 4,
  "nbformat_minor": 0
}
