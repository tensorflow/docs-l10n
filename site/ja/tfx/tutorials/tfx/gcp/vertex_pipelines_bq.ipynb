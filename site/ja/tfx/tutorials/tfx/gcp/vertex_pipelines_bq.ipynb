{
  "cells": [
    {
      "cell_type": "markdown",
      "metadata": {
        "id": "pknVo1kM2wI2"
      },
      "source": [
        "##### Copyright 2021 The TensorFlow Authors."
      ]
    },
    {
      "cell_type": "code",
      "execution_count": null,
      "metadata": {
        "cellView": "form",
        "id": "SoFqANDE222Y"
      },
      "outputs": [],
      "source": [
        "#@title Licensed under the Apache License, Version 2.0 (the \"License\");\n",
        "# you may not use this file except in compliance with the License.\n",
        "# You may obtain a copy of the License at\n",
        "#\n",
        "# https://www.apache.org/licenses/LICENSE-2.0\n",
        "#\n",
        "# Unless required by applicable law or agreed to in writing, software\n",
        "# distributed under the License is distributed on an \"AS IS\" BASIS,\n",
        "# WITHOUT WARRANTIES OR CONDITIONS OF ANY KIND, either express or implied.\n",
        "# See the License for the specific language governing permissions and\n",
        "# limitations under the License."
      ]
    },
    {
      "cell_type": "markdown",
      "metadata": {
        "id": "6x1ypzczQCwy"
      },
      "source": [
        "# TFX と Vertex Pipelines で BigQuery からデータを読み取る\n"
      ]
    },
    {
      "cell_type": "markdown",
      "metadata": {
        "id": "_445qeKq8e3-"
      },
      "source": [
        "<div class=\"devsite-table-wrapper\"><table class=\"tfo-notebook-buttons\" align=\"left\">\n",
        "<td><a target=\"_blank\" href=\"https://www.tensorflow.org/tfx/tutorials/tfx/gcp/vertex_pipelines_bq\"><img src=\"https://www.tensorflow.org/images/tf_logo_32px.png\">TensorFlow.org で表示</a></td>\n",
        "<td>     <a target=\"_blank\" href=\"https://colab.research.google.com/github/tensorflow/docs-l10n/blob/master/site/ja/tfx/tutorials/tfx/gcp/vertex_pipelines_bq.ipynb\"><img src=\"https://www.tensorflow.org/images/colab_logo_32px.png\">Google Colab で実行</a> </td>\n",
        "<td><a target=\"_blank\" href=\"https://github.com/tensorflow/docs-l10n/blob/master/site/ja/tfx/tutorials/tfx/gcp/vertex_pipelines_bq.ipynb\"> <img width=\"32px\" src=\"https://www.tensorflow.org/images/GitHub-Mark-32px.png\">GitHubでソースを表示</a></td>\n",
        "<td><a href=\"https://storage.googleapis.com/tensorflow_docs/tfx/docs/tutorials/tfx/gcp/vertex_pipelines_bq.ipynb\"><img src=\"https://www.tensorflow.org/images/download_logo_32px.png\">ノートブックをダウンロード</a></td>\n",
        "<td><a href=\"https://console.cloud.google.com/vertex-ai/workbench/deploy-notebook?q=download_url%3Dhttps://storage.googleapis.com/tensorflow_docs/docs-l10n/site/ja/tfx/tutorials/tfx/gcp/vertex_pipelines_bq.ipynb\"><img src=\"https://www.tensorflow.org/images/download_logo_32px.png\">Google Cloud Vertex AI Workbench で実行</a></td>\n",
        "</table></div>\n"
      ]
    },
    {
      "cell_type": "markdown",
      "metadata": {
        "id": "_VuwrlnvQJ5k"
      },
      "source": [
        "ノートブックを使ったこのチュートリアルでは、ML モデルのトレーニングに [Google Cloud BigQuery](https://cloud.google.com/bigquery) をデータソースとして使用します。ML パイプラインは、TFX を使って構築し、Google Cloud Vertex Pipelines で実行します。\n",
        "\n",
        "このノートブックは、[Vertex Pipelines 用の単純な TFX パイプラインのチュートリアル](https://www.tensorflow.org/tfx/tutorials/tfx/gcp/vertex_pipelines_simple)を基礎としています。そのチュートリアルをまだお読みでない場合は、このノートブックを進める前に目を通しておくことをお勧めします。\n",
        "\n",
        "[BigQuery](https://cloud.google.com/bigquery) は、スケーラビリティに優れ、コスト効率の良い、サーバーレスのマルチクラウドデータウェアハウスで、ビジネスアジリティを念頭に設計されています。TFX は、BigQuery からトレーニングデータを読み取って、BigQuery に[トレーニングしたモデルを公開](https://www.tensorflow.org/tfx/api_docs/python/tfx/v1/extensions/google_cloud_big_query/Pusher)するために使用できます。\n",
        "\n",
        "このチュートリアルでは、BigQuery から TFX パイプラインにデータを読み取る `BigQueryExampleGen` コンポーネントを使用します。\n"
      ]
    },
    {
      "cell_type": "markdown",
      "metadata": {
        "id": "cNA00n3irPgE"
      },
      "source": [
        "このノートブックは、[Google Colab](https://colab.research.google.com/notebooks/intro.ipynb) または [AI Platform Notebooks](https://cloud.google.com/ai-platform-notebooks) で実行することを意図しています。いずれも使用していない場合は、上記の「Google Colab で実行」をクリックしてください。\n",
        "\n",
        "## セットアップ\n",
        "\n",
        "[Vertex Pipelines 用の単純な TFX パイプラインのチュートリアル](https://www.tensorflow.org/tfx/tutorials/tfx/gcp/vertex_pipelines_simple)を完了した場合は、作業用の GCP プロジェクトと GCS バケットがすでに存在します。このチュートリアルで必要なのはこれだけです。そのチュートリアルを実行していない場合は、前準備のチュートリアルをお読みください。"
      ]
    },
    {
      "cell_type": "markdown",
      "metadata": {
        "id": "WJbPaFzKrPgN"
      },
      "source": [
        "### Python パッケージをインストールする"
      ]
    },
    {
      "cell_type": "markdown",
      "metadata": {
        "id": "QVWOEGgMrPgO"
      },
      "source": [
        "TFX や KFP など、ML パイプラインのオーサリングと Vertex Pipelines へのジョブの送信に必要な Python パッケージをインストールします。"
      ]
    },
    {
      "cell_type": "code",
      "execution_count": null,
      "metadata": {
        "id": "osJJdvmIrPgP"
      },
      "outputs": [],
      "source": [
        "# Use the latest version of pip.\n",
        "!pip install --upgrade pip\n",
        "!pip install --upgrade \"tfx[kfp]<2\""
      ]
    },
    {
      "cell_type": "markdown",
      "metadata": {
        "id": "X5GiQFjprPgP"
      },
      "source": [
        "#### ランタイムを再起動しましたか？\n",
        "\n",
        "Google Colab を使用している場合は、上記のセルを初めて実行した後に、「ランタイムを再起動」ボタンをクリックするか、「ランタイム」&gt;「ランタイムの再起動...」メニューを使って、ランタイムを再起動する必要があります。これは、Colab がパッケージを読み込むために必要な作業です。"
      ]
    },
    {
      "cell_type": "markdown",
      "metadata": {
        "id": "y3TRhlDvrPgQ"
      },
      "source": [
        "Colab を使用していない場合は、以下のセルを使ってランタイムを再起動できます。"
      ]
    },
    {
      "cell_type": "code",
      "execution_count": null,
      "metadata": {
        "id": "JYKpuhamrPgQ"
      },
      "outputs": [],
      "source": [
        "# docs_infra: no_execute\n",
        "import sys\n",
        "if not 'google.colab' in sys.modules:\n",
        "  # Automatically restart kernel after installs\n",
        "  import IPython\n",
        "  app = IPython.Application.instance()\n",
        "  app.kernel.do_shutdown(True)"
      ]
    },
    {
      "cell_type": "markdown",
      "metadata": {
        "id": "NjGI8rzFrPgQ"
      },
      "source": [
        "### このノートブックについて Google にログインする\n",
        "\n",
        "このノートブックを Colab で実行している場合は、お使いのユーザーアカウントで認証を行います。"
      ]
    },
    {
      "cell_type": "code",
      "execution_count": null,
      "metadata": {
        "id": "FY8IqqnmrPgQ"
      },
      "outputs": [],
      "source": [
        "import sys\n",
        "if 'google.colab' in sys.modules:\n",
        "  from google.colab import auth\n",
        "  auth.authenticate_user()"
      ]
    },
    {
      "cell_type": "markdown",
      "metadata": {
        "id": "KI3AVxMPrPgQ"
      },
      "source": [
        "**AI Platform Notebooks を使用している場合**は、次のセクションを実行する前に、以下を実行して Google Cloud で認証を行います。\n",
        "\n",
        "```sh\n",
        "gcloud auth login\n",
        "```\n",
        "\n",
        "この認証は、**ターミナルウィンドウ**（**ファイル** &gt; **新規**）で行います。この作業は、ノートブックインスタンスごとに 1 回だけ必要です。"
      ]
    },
    {
      "cell_type": "markdown",
      "metadata": {
        "id": "g3pkMt6zrPgQ"
      },
      "source": [
        "パッケージのバージョンを確認します。"
      ]
    },
    {
      "cell_type": "code",
      "execution_count": null,
      "metadata": {
        "id": "mvZS3XW2rPgR"
      },
      "outputs": [],
      "source": [
        "import tensorflow as tf\n",
        "print('TensorFlow version: {}'.format(tf.__version__))\n",
        "from tfx import v1 as tfx\n",
        "print('TFX version: {}'.format(tfx.__version__))\n",
        "import kfp\n",
        "print('KFP version: {}'.format(kfp.__version__))"
      ]
    },
    {
      "cell_type": "markdown",
      "metadata": {
        "id": "aDtLdSkvqPHe"
      },
      "source": [
        "### 変数をセットアップする\n",
        "\n",
        "以下のパイプラインをカスタマイズするために使用する変数をいくつかセットアップします。以下の情報が必要です。\n",
        "\n",
        "- GCP プロジェクト ID と番号。[プロジェクト ID と番号を特定する](https://cloud.google.com/resource-manager/docs/creating-managing-projects#identifying_projects)をご覧ください。\n",
        "- パイプラインを実行する GCP リージョン。Vertex Pipelines を利用できるリージョンについての詳細は、[Vertex AI のロケーションガイド](https://cloud.google.com/vertex-ai/docs/general/locations#feature-availability)をご覧ください。\n",
        "- パイプライン出力を保存する Google Cloud Storage バケット。\n",
        "\n",
        "**以下のセルに必要な値を入力してから実行します**。\n"
      ]
    },
    {
      "cell_type": "code",
      "execution_count": null,
      "metadata": {
        "id": "EcUseqJaE2XN"
      },
      "outputs": [],
      "source": [
        "GOOGLE_CLOUD_PROJECT = ''         # <--- ENTER THIS\n",
        "GOOGLE_CLOUD_PROJECT_NUMBER = ''  # <--- ENTER THIS\n",
        "GOOGLE_CLOUD_REGION = ''          # <--- ENTER THIS\n",
        "GCS_BUCKET_NAME = ''              # <--- ENTER THIS\n",
        "\n",
        "if not (GOOGLE_CLOUD_PROJECT and  GOOGLE_CLOUD_PROJECT_NUMBER and GOOGLE_CLOUD_REGION and GCS_BUCKET_NAME):\n",
        "    from absl import logging\n",
        "    logging.error('Please set all required parameters.')"
      ]
    },
    {
      "cell_type": "markdown",
      "metadata": {
        "id": "GAaCPLjgiJrO"
      },
      "source": [
        "`gcloud` を使用するプロジェクトに設定します。"
      ]
    },
    {
      "cell_type": "code",
      "execution_count": null,
      "metadata": {
        "id": "VkWdxe4TXRHk"
      },
      "outputs": [],
      "source": [
        "!gcloud config set project {GOOGLE_CLOUD_PROJECT}"
      ]
    },
    {
      "cell_type": "code",
      "execution_count": null,
      "metadata": {
        "id": "CPN6UL5CazNy"
      },
      "outputs": [],
      "source": [
        "PIPELINE_NAME = 'penguin-bigquery'\n",
        "\n",
        "# Path to various pipeline artifact.\n",
        "PIPELINE_ROOT = 'gs://{}/pipeline_root/{}'.format(\n",
        "    GCS_BUCKET_NAME, PIPELINE_NAME)\n",
        "\n",
        "# Paths for users' Python module.\n",
        "MODULE_ROOT = 'gs://{}/pipeline_module/{}'.format(\n",
        "    GCS_BUCKET_NAME, PIPELINE_NAME)\n",
        "\n",
        "# Paths for users' data.\n",
        "DATA_ROOT = 'gs://{}/data/{}'.format(GCS_BUCKET_NAME, PIPELINE_NAME)\n",
        "\n",
        "# This is the path where your model will be pushed for serving.\n",
        "SERVING_MODEL_DIR = 'gs://{}/serving_model/{}'.format(\n",
        "    GCS_BUCKET_NAME, PIPELINE_NAME)\n",
        "\n",
        "print('PIPELINE_ROOT: {}'.format(PIPELINE_ROOT))"
      ]
    },
    {
      "cell_type": "markdown",
      "metadata": {
        "id": "szKDDoD_KipW"
      },
      "source": [
        "Vertex Pipelines はデフォルトで、`[project-number]-compute@developer.gserviceaccount.com` というフォーマットのデフォルトの GCE VM サービスアカウントを使用します。パイプラインで BigQuery にアクセスするには、このアカウントに BigQuery の使用権限を付与する必要があります。このアカウントに、「BigQuery User」ロールを追加します。"
      ]
    },
    {
      "cell_type": "code",
      "execution_count": null,
      "metadata": {
        "id": "4aii8K3dJEyj"
      },
      "outputs": [],
      "source": [
        "!gcloud projects add-iam-policy-binding {GOOGLE_CLOUD_PROJECT} \\\n",
        "  --member=serviceAccount:{GOOGLE_CLOUD_PROJECT_NUMBER}-compute@developer.gserviceaccount.com \\\n",
        "  --role=roles/bigquery.user"
      ]
    },
    {
      "cell_type": "markdown",
      "metadata": {
        "id": "v3ktk1j9s1PP"
      },
      "source": [
        "サービスアカウントと IAM 構成についての詳細は、[Vertex ドキュメント](https://cloud.google.com/vertex-ai/docs/pipelines/configure-project)をご覧ください。"
      ]
    },
    {
      "cell_type": "markdown",
      "metadata": {
        "id": "nH6gizcpSwWV"
      },
      "source": [
        "## パイプラインを作成する\n",
        "\n",
        "TFX パイプラインは、[Vertex Pipelines 用の単純な TFX パイプラインのチュートリアル](https://www.tensorflow.org/tfx/tutorials/tfx/gcp/vertex_pipelines_simple)と同様に、Python を使って定義されています。前回は、CSV ファイルからデータを読み取る `CsvExampleGen` を使用しましたが、このチュートリアルでは、BigQuery からデータを読み取る [`BigQueryExampleGen`](https://www.tensorflow.org/tfx/api_docs/python/tfx/extensions/google_cloud_big_query/example_gen/component/BigQueryExampleGen) コンポーネントを使用します。\n"
      ]
    },
    {
      "cell_type": "markdown",
      "metadata": {
        "id": "hNg73Slwn8nq"
      },
      "source": [
        "### BigQuery クエリを準備する\n",
        "\n",
        "前回と同じ [Palmer Penguins データセット](https://allisonhorst.github.io/palmerpenguins/articles/intro.html)を使用しますが、同じ CSV ファイルを使って入力した `tfx-oss-public.palmer_penguins.palmer_penguins` という BigQuery テーブルからデータセットを読み取ります。\n",
        "\n",
        "Google Colab を使用している場合は、直接 BigQuery テーブルの中身を調べることができます。"
      ]
    },
    {
      "cell_type": "code",
      "execution_count": null,
      "metadata": {
        "id": "Mb_Kj1U8pBhZ"
      },
      "outputs": [],
      "source": [
        "# docs_infra: no_execute\n",
        "%%bigquery --project {GOOGLE_CLOUD_PROJECT}\n",
        "SELECT *\n",
        "FROM `tfx-oss-public.palmer_penguins.palmer_penguins`\n",
        "LIMIT 5"
      ]
    },
    {
      "cell_type": "markdown",
      "metadata": {
        "id": "arvdbM5jpjNm"
      },
      "source": [
        "ラベルである `species` を除くすべての特徴量は、すでに 0～1 に正規化されています。ペンギンの `species`（種）を予測する分類モデルを構築します。\n",
        "\n",
        "`BigQueryExampleGen` には、どのデータをフェッチするのかを指定するクエリが必要です。テーブル内のすべての行のすべてのフィールドを使用するため、このクエリは非常に単純です。必要であれば、[BigQuery 標準 SQL 構文](https://cloud.google.com/bigquery/docs/reference/standard-sql/query-syntax)に従って、フィールド名を指定し、`WHERE` 条件を追加することもできます。"
      ]
    },
    {
      "cell_type": "code",
      "execution_count": null,
      "metadata": {
        "id": "7AwysGAVnfJA"
      },
      "outputs": [],
      "source": [
        "QUERY = \"SELECT * FROM `tfx-oss-public.palmer_penguins.palmer_penguins`\""
      ]
    },
    {
      "cell_type": "markdown",
      "metadata": {
        "id": "lOjDv93eS5xV"
      },
      "source": [
        "### モデルコードを記述する\n",
        "\n",
        "[単純な TFX パイプラインのチュートリアル](https://www.tensorflow.org/tfx/tutorials/tfx/penguin_simple)と同じモデルコードを使用します。"
      ]
    },
    {
      "cell_type": "code",
      "execution_count": null,
      "metadata": {
        "id": "aES7Hv5QTDK3"
      },
      "outputs": [],
      "source": [
        "_trainer_module_file = 'penguin_trainer.py'"
      ]
    },
    {
      "cell_type": "code",
      "execution_count": null,
      "metadata": {
        "id": "Gnc67uQNTDfW"
      },
      "outputs": [],
      "source": [
        "%%writefile {_trainer_module_file}\n",
        "\n",
        "# Copied from https://www.tensorflow.org/tfx/tutorials/tfx/penguin_simple\n",
        "\n",
        "from typing import List\n",
        "from absl import logging\n",
        "import tensorflow as tf\n",
        "from tensorflow import keras\n",
        "from tensorflow_transform.tf_metadata import schema_utils\n",
        "\n",
        "from tfx import v1 as tfx\n",
        "from tfx_bsl.public import tfxio\n",
        "\n",
        "from tensorflow_metadata.proto.v0 import schema_pb2\n",
        "\n",
        "_FEATURE_KEYS = [\n",
        "    'culmen_length_mm', 'culmen_depth_mm', 'flipper_length_mm', 'body_mass_g'\n",
        "]\n",
        "_LABEL_KEY = 'species'\n",
        "\n",
        "_TRAIN_BATCH_SIZE = 20\n",
        "_EVAL_BATCH_SIZE = 10\n",
        "\n",
        "# Since we're not generating or creating a schema, we will instead create\n",
        "# a feature spec.  Since there are a fairly small number of features this is\n",
        "# manageable for this dataset.\n",
        "_FEATURE_SPEC = {\n",
        "    **{\n",
        "        feature: tf.io.FixedLenFeature(shape=[1], dtype=tf.float32)\n",
        "           for feature in _FEATURE_KEYS\n",
        "       },\n",
        "    _LABEL_KEY: tf.io.FixedLenFeature(shape=[1], dtype=tf.int64)\n",
        "}\n",
        "\n",
        "\n",
        "def _input_fn(file_pattern: List[str],\n",
        "              data_accessor: tfx.components.DataAccessor,\n",
        "              schema: schema_pb2.Schema,\n",
        "              batch_size: int) -> tf.data.Dataset:\n",
        "  \"\"\"Generates features and label for training.\n",
        "\n",
        "  Args:\n",
        "    file_pattern: List of paths or patterns of input tfrecord files.\n",
        "    data_accessor: DataAccessor for converting input to RecordBatch.\n",
        "    schema: schema of the input data.\n",
        "    batch_size: representing the number of consecutive elements of returned\n",
        "      dataset to combine in a single batch\n",
        "\n",
        "  Returns:\n",
        "    A dataset that contains (features, indices) tuple where features is a\n",
        "      dictionary of Tensors, and indices is a single Tensor of label indices.\n",
        "  \"\"\"\n",
        "  return data_accessor.tf_dataset_factory(\n",
        "      file_pattern,\n",
        "      tfxio.TensorFlowDatasetOptions(\n",
        "          batch_size=batch_size, label_key=_LABEL_KEY),\n",
        "      schema=schema).repeat()\n",
        "\n",
        "\n",
        "def _make_keras_model() -> tf.keras.Model:\n",
        "  \"\"\"Creates a DNN Keras model for classifying penguin data.\n",
        "\n",
        "  Returns:\n",
        "    A Keras Model.\n",
        "  \"\"\"\n",
        "  # The model below is built with Functional API, please refer to\n",
        "  # https://www.tensorflow.org/guide/keras/overview for all API options.\n",
        "  inputs = [keras.layers.Input(shape=(1,), name=f) for f in _FEATURE_KEYS]\n",
        "  d = keras.layers.concatenate(inputs)\n",
        "  for _ in range(2):\n",
        "    d = keras.layers.Dense(8, activation='relu')(d)\n",
        "  outputs = keras.layers.Dense(3)(d)\n",
        "\n",
        "  model = keras.Model(inputs=inputs, outputs=outputs)\n",
        "  model.compile(\n",
        "      optimizer=keras.optimizers.Adam(1e-2),\n",
        "      loss=tf.keras.losses.SparseCategoricalCrossentropy(from_logits=True),\n",
        "      metrics=[keras.metrics.SparseCategoricalAccuracy()])\n",
        "\n",
        "  model.summary(print_fn=logging.info)\n",
        "  return model\n",
        "\n",
        "\n",
        "# TFX Trainer will call this function.\n",
        "def run_fn(fn_args: tfx.components.FnArgs):\n",
        "  \"\"\"Train the model based on given args.\n",
        "\n",
        "  Args:\n",
        "    fn_args: Holds args used to train the model as name/value pairs.\n",
        "  \"\"\"\n",
        "\n",
        "  # This schema is usually either an output of SchemaGen or a manually-curated\n",
        "  # version provided by pipeline author. A schema can also derived from TFT\n",
        "  # graph if a Transform component is used. In the case when either is missing,\n",
        "  # `schema_from_feature_spec` could be used to generate schema from very simple\n",
        "  # feature_spec, but the schema returned would be very primitive.\n",
        "  schema = schema_utils.schema_from_feature_spec(_FEATURE_SPEC)\n",
        "\n",
        "  train_dataset = _input_fn(\n",
        "      fn_args.train_files,\n",
        "      fn_args.data_accessor,\n",
        "      schema,\n",
        "      batch_size=_TRAIN_BATCH_SIZE)\n",
        "  eval_dataset = _input_fn(\n",
        "      fn_args.eval_files,\n",
        "      fn_args.data_accessor,\n",
        "      schema,\n",
        "      batch_size=_EVAL_BATCH_SIZE)\n",
        "\n",
        "  model = _make_keras_model()\n",
        "  model.fit(\n",
        "      train_dataset,\n",
        "      steps_per_epoch=fn_args.train_steps,\n",
        "      validation_data=eval_dataset,\n",
        "      validation_steps=fn_args.eval_steps)\n",
        "\n",
        "  # The result of the training should be saved in `fn_args.serving_model_dir`\n",
        "  # directory.\n",
        "  model.save(fn_args.serving_model_dir, save_format='tf')"
      ]
    },
    {
      "cell_type": "markdown",
      "metadata": {
        "id": "-LsYx8MpYvPv"
      },
      "source": [
        "このモジュールファイルを、パイプラインコンポーネントからアクセスできる GCS にコピーします。モデルのトレーニングは GCP で行われるため、このモデル定義をアップロードする必要があります。\n",
        "\n",
        "そうしない場合は、モジュールファイルを含むコンテナイメージをビルドし、そのイメージをパイプラインで実行することが可能です。"
      ]
    },
    {
      "cell_type": "code",
      "execution_count": null,
      "metadata": {
        "id": "rMMs5wuNYAbc"
      },
      "outputs": [],
      "source": [
        "!gsutil cp {_trainer_module_file} {MODULE_ROOT}/"
      ]
    },
    {
      "cell_type": "markdown",
      "metadata": {
        "id": "w3OkNz3gTLwM"
      },
      "source": [
        "### パイプライン定義を記述する\n",
        "\n",
        "TFX パイプラインを作成する関数を定義します。`query` を引数として取る `BigQueryExampleGen` を使用する必要があります。前回のチュートリアルからのもう 1 つの変更点は、コンポーネントが実行されるときにコンポーネントに渡される `beam_pipeline_args` を渡す必要があることです。BigQuery に追加パラメータを渡すために、`beam_pipeline_args` を使用します。\n"
      ]
    },
    {
      "cell_type": "code",
      "execution_count": null,
      "metadata": {
        "id": "M49yYVNBTPd4"
      },
      "outputs": [],
      "source": [
        "from typing import List, Optional\n",
        "\n",
        "def _create_pipeline(pipeline_name: str, pipeline_root: str, query: str,\n",
        "                     module_file: str, serving_model_dir: str,\n",
        "                     beam_pipeline_args: Optional[List[str]],\n",
        "                     ) -> tfx.dsl.Pipeline:\n",
        "  \"\"\"Creates a TFX pipeline using BigQuery.\"\"\"\n",
        "\n",
        "  # NEW: Query data in BigQuery as a data source.\n",
        "  example_gen = tfx.extensions.google_cloud_big_query.BigQueryExampleGen(\n",
        "      query=query)\n",
        "\n",
        "  # Uses user-provided Python function that trains a model.\n",
        "  trainer = tfx.components.Trainer(\n",
        "      module_file=module_file,\n",
        "      examples=example_gen.outputs['examples'],\n",
        "      train_args=tfx.proto.TrainArgs(num_steps=100),\n",
        "      eval_args=tfx.proto.EvalArgs(num_steps=5))\n",
        "\n",
        "  # Pushes the model to a file destination.\n",
        "  pusher = tfx.components.Pusher(\n",
        "      model=trainer.outputs['model'],\n",
        "      push_destination=tfx.proto.PushDestination(\n",
        "          filesystem=tfx.proto.PushDestination.Filesystem(\n",
        "              base_directory=serving_model_dir)))\n",
        "\n",
        "  components = [\n",
        "      example_gen,\n",
        "      trainer,\n",
        "      pusher,\n",
        "  ]\n",
        "\n",
        "  return tfx.dsl.Pipeline(\n",
        "      pipeline_name=pipeline_name,\n",
        "      pipeline_root=pipeline_root,\n",
        "      components=components,\n",
        "      # NEW: `beam_pipeline_args` is required to use BigQueryExampleGen.\n",
        "      beam_pipeline_args=beam_pipeline_args)"
      ]
    },
    {
      "cell_type": "markdown",
      "metadata": {
        "id": "mJbq07THU2GV"
      },
      "source": [
        "## Vertex Pipelines でパイプラインを実行する\n",
        "\n",
        "[Vertex Pipelines 用の単純な TFX パイプラインのチュートリアル](https://www.tensorflow.org/tfx/tutorials/tfx/gcp/vertex_pipelines_simple)と同様に、Vertex Pipelines を使ってパイプラインを実行します。\n"
      ]
    },
    {
      "cell_type": "markdown",
      "metadata": {
        "id": "7mp0AkmrPdUb"
      },
      "source": [
        "また、BigQueryExampleGen の `beam_pipeline_args` を渡す必要もあります。これには、GCP プロジェクトの名前や BigQuery 実行用の一時ストレージといった構成が含まれます。"
      ]
    },
    {
      "cell_type": "code",
      "execution_count": null,
      "metadata": {
        "id": "fAtfOZTYWJu-"
      },
      "outputs": [],
      "source": [
        "# docs_infra: no_execute\n",
        "import os\n",
        "\n",
        "# We need to pass some GCP related configs to BigQuery. This is currently done\n",
        "# using `beam_pipeline_args` parameter.\n",
        "BIG_QUERY_WITH_DIRECT_RUNNER_BEAM_PIPELINE_ARGS = [\n",
        "   '--project=' + GOOGLE_CLOUD_PROJECT,\n",
        "   '--temp_location=' + os.path.join('gs://', GCS_BUCKET_NAME, 'tmp'),\n",
        "   ]\n",
        "\n",
        "PIPELINE_DEFINITION_FILE = PIPELINE_NAME + '_pipeline.json'\n",
        "\n",
        "runner = tfx.orchestration.experimental.KubeflowV2DagRunner(\n",
        "    config=tfx.orchestration.experimental.KubeflowV2DagRunnerConfig(),\n",
        "    output_filename=PIPELINE_DEFINITION_FILE)\n",
        "_ = runner.run(\n",
        "    _create_pipeline(\n",
        "        pipeline_name=PIPELINE_NAME,\n",
        "        pipeline_root=PIPELINE_ROOT,\n",
        "        query=QUERY,\n",
        "        module_file=os.path.join(MODULE_ROOT, _trainer_module_file),\n",
        "        serving_model_dir=SERVING_MODEL_DIR,\n",
        "        beam_pipeline_args=BIG_QUERY_WITH_DIRECT_RUNNER_BEAM_PIPELINE_ARGS))"
      ]
    },
    {
      "cell_type": "markdown",
      "metadata": {
        "id": "fWyITYSDd8w4"
      },
      "source": [
        "生成された定義ファイルは、kfp クライアントを使用して送信することができます。"
      ]
    },
    {
      "cell_type": "code",
      "execution_count": null,
      "metadata": {
        "id": "tI71jlEvWMV7"
      },
      "outputs": [],
      "source": [
        "# docs_infra: no_execute\n",
        "from google.cloud import aiplatform\n",
        "from google.cloud.aiplatform import pipeline_jobs\n",
        "import logging\n",
        "logging.getLogger().setLevel(logging.INFO)\n",
        "\n",
        "aiplatform.init(project=GOOGLE_CLOUD_PROJECT, location=GOOGLE_CLOUD_REGION)\n",
        "\n",
        "job = pipeline_jobs.PipelineJob(template_path=PIPELINE_DEFINITION_FILE,\n",
        "                                display_name=PIPELINE_NAME)\n",
        "job.submit()"
      ]
    },
    {
      "cell_type": "markdown",
      "metadata": {
        "id": "L3k9f5IVQXcQ"
      },
      "source": [
        "上記の出力に含まれるリンクにアクセスするか、[Google Cloud Console](https://console.cloud.google.com/) で［Vertex AI］&gt;［パイプライン］にアクセスすると、進捗状況を確認できます。"
      ]
    }
  ],
  "metadata": {
    "colab": {
      "collapsed_sections": [
        "pknVo1kM2wI2"
      ],
      "name": "vertex_pipelines_bq.ipynb",
      "toc_visible": true
    },
    "kernelspec": {
      "display_name": "Python 3",
      "name": "python3"
    }
  },
  "nbformat": 4,
  "nbformat_minor": 0
}
