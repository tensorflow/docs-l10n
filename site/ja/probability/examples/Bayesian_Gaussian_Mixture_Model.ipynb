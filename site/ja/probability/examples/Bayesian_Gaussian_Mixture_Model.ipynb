{
  "cells": [
    {
      "cell_type": "markdown",
      "metadata": {
        "id": "htW5SiGzeXYm"
      },
      "source": [
        "##### Copyright 2018 The TensorFlow Probability Authors.\n",
        "\n",
        "Licensed under the Apache License, Version 2.0 (the \"License\");"
      ]
    },
    {
      "cell_type": "code",
      "execution_count": null,
      "metadata": {
        "cellView": "form",
        "id": "9HGeUNoteaSm"
      },
      "outputs": [],
      "source": [
        "#@title Licensed under the Apache License, Version 2.0 (the \"License\"); { display-mode: \"form\" }\n",
        "# you may not use this file except in compliance with the License.\n",
        "# You may obtain a copy of the License at\n",
        "#\n",
        "# https://www.apache.org/licenses/LICENSE-2.0\n",
        "#\n",
        "# Unless required by applicable law or agreed to in writing, software\n",
        "# distributed under the License is distributed on an \"AS IS\" BASIS,\n",
        "# WITHOUT WARRANTIES OR CONDITIONS OF ANY KIND, either express or implied.\n",
        "# See the License for the specific language governing permissions and\n",
        "# limitations under the License."
      ]
    },
    {
      "cell_type": "markdown",
      "metadata": {
        "id": "JJ3UDciDVcB5"
      },
      "source": [
        "# ベイジアンガウス混合モデルとハミルトニアン MCMC\n",
        "\n",
        "<table class=\"tfo-notebook-buttons\" align=\"left\">\n",
        "  <td><a target=\"_blank\" href=\"https://www.tensorflow.org/probability/examples/Bayesian_Gaussian_Mixture_Model\"><img src=\"https://www.tensorflow.org/images/tf_logo_32px.png\">TensorFlow.org で表示</a></td>\n",
        "  <td><a target=\"_blank\" href=\"https://colab.research.google.com/github/tensorflow/docs-l10n/blob/master/site/ja/probability/examples/Bayesian_Gaussian_Mixture_Model.ipynb\"><img src=\"https://www.tensorflow.org/images/colab_logo_32px.png\">Google Colab で実行</a></td>\n",
        "  <td><a target=\"_blank\" href=\"https://github.com/tensorflow/docs-l10n/blob/master/site/ja/probability/examples/Bayesian_Gaussian_Mixture_Model.ipynb\"><img src=\"https://www.tensorflow.org/images/GitHub-Mark-32px.png\"> GitHub でソースを表示</a></td>\n",
        "  <td><a href=\"https://storage.googleapis.com/tensorflow_docs/docs-l10n/site/ja/probability/examples/Bayesian_Gaussian_Mixture_Model.ipynb\"><img src=\"https://www.tensorflow.org/images/download_logo_32px.png\">ノートブックをダウンロード</a></td>\n",
        "</table>"
      ]
    },
    {
      "cell_type": "markdown",
      "metadata": {
        "id": "lin40yCC6eBo"
      },
      "source": [
        "この Colab では、TensorFlow Prabability のプリミティブのみを使用してベイジアンガウス混合モデル（BGMM）の事後確率からサンプルを取得する方法を説明します。"
      ]
    },
    {
      "cell_type": "markdown",
      "metadata": {
        "id": "eZs1ShikNBK2"
      },
      "source": [
        "## モデル"
      ]
    },
    {
      "cell_type": "markdown",
      "metadata": {
        "id": "7JjokKMbk2hJ"
      },
      "source": [
        "次元 $D$ ごとの $k\\in{1,\\ldots, K}$ 混合コンポーネントでは、次のベイジアンガウス混合モデルを使用して $i\\in{1,\\ldots,N}$ iid サンプルをモデリングします。\n",
        "\n",
        "$$\\begin{align*} \\theta &amp;\\sim \\text{Dirichlet}(\\text{concentration}=\\alpha_0)\\ \\mu_k &amp;\\sim \\text{Normal}(\\text{loc}=\\mu_{0k}, \\text{scale}=I_D)\\ T_k &amp;\\sim \\text{Wishart}(\\text{df}=5, \\text{scale}=I_D)\\ Z_i &amp;\\sim \\text{Categorical}(\\text{probs}=\\theta)\\ Y_i &amp;\\sim \\text{Normal}(\\text{loc}=\\mu_{z_i}, \\text{scale}=T_{z_i}^{-1/2})\\ \\end{align*}$$"
      ]
    },
    {
      "cell_type": "markdown",
      "metadata": {
        "id": "iySRABi0qZnQ"
      },
      "source": [
        "`scale` 引数にはすべて、`cholesky` セマンティクスがあります。これは TF Distributions の方法であるため、それを使用します（計算上のメリットにより、一部にこの方法が使用されています）。"
      ]
    },
    {
      "cell_type": "markdown",
      "metadata": {
        "id": "Y6X_Beihwzyi"
      },
      "source": [
        "ここでも目標は、事後確率からサンプルを生成することです。\n",
        "\n",
        "$$p\\left(\\theta, {\\mu_k, T_k}*{k=1}^K \\Big| {y_i}*{i=1}^N, \\alpha_0, {\\mu_{ok}}_{k=1}^K\\right)$$\n",
        "\n",
        "${Z_i}_{i=1}^N$ が存在しないところに注目してください。関心があるのは、$N$ でスケーリングしない確率変数のみです。（幸いにも、$Z_i$ の除外を処理する TF 分布があります。）\n",
        "\n",
        "計算が困難な正規化項のため、この分布から直接サンプリングすることはできません。\n",
        "\n",
        "正規化が困難な分布からサンプリングするには、[メトロポリスヘイスティングスアルゴリズム](https://en.wikipedia.org/wiki/Metropolis%E2%80%93Hastings_algorithm)を使用することができます。\n",
        "\n",
        "TensorFlow Probability では、メトロポリスヘイスティングス法に基づくいくつかの手法を含む多数の MCMC オプションが用意されています。このノートブックでは、[ハミルトニアンモンテカルロ法](https://en.wikipedia.org/wiki/Hamiltonian_Monte_Carlo)（`tfp.mcmc.HamiltonianMonteCarlo`）を使用します。HMC は急速に収束することが可能で、（座標的であるのに対し）同時に状態空間をサンプリングし、TF の美徳の 1 つである自動微分を利用するため、ほとんどにおいて適切なオプションです。それを踏まえると、BGMM 事後確率からのサンプリングは実際、[ギブスサンプリング](https://en.wikipedia.org/wiki/Gibbs_sampling)などの他のアプローチよりも優れている場合があります。"
      ]
    },
    {
      "cell_type": "code",
      "execution_count": null,
      "metadata": {
        "id": "uswTWdgNu46j"
      },
      "outputs": [],
      "source": [
        "%matplotlib inline\n",
        "\n",
        "\n",
        "import functools\n",
        "\n",
        "import matplotlib.pyplot as plt; plt.style.use('ggplot')\n",
        "import numpy as np\n",
        "import seaborn as sns; sns.set_context('notebook')\n",
        "\n",
        "import tensorflow.compat.v2 as tf\n",
        "tf.enable_v2_behavior()\n",
        "import tensorflow_probability as tfp\n",
        "\n",
        "tfd = tfp.distributions\n",
        "tfb = tfp.bijectors\n",
        "\n",
        "physical_devices = tf.config.experimental.list_physical_devices('GPU')\n",
        "if len(physical_devices) > 0:\n",
        "  tf.config.experimental.set_memory_growth(physical_devices[0], True)"
      ]
    },
    {
      "cell_type": "markdown",
      "metadata": {
        "id": "Uj9uHZN2yUqz"
      },
      "source": [
        "実際にモデルを構築する前に、新しいタイプの分布を定義する必要があります。上記のモデルの仕様から、逆共分散行列、つまり「精度行列」(https://en.wikipedia.org/wiki/Precision_(statistics%29) を使って MVN をパラメータ化することは明らかです。これを TF で行うには、`Bijector` を使用する必要があります。この `Bijector` は前方変換を使用します。\n",
        "\n",
        "- `Y =  tf.linalg.triangular_solve((tf.linalg.matrix_transpose(chol_precision_tril), X, adjoint=True) + loc`\n",
        "\n",
        "また、`log_prob` 計算は、次のように単に逆になります。\n",
        "\n",
        "- `X = tf.linalg.matmul(chol_precision_tril, X - loc, adjoint_a=True)`\n",
        "\n",
        "HMC に必要なのは `log_prob` だけであるため、つまり、`tf.linalg.triangular_solve` を絶対に呼び出さないようにします（`tfd.MultivariateNormalTriL` の場合と同じように）。`tf.linalg.matmul` はキャッシュロイヤリティに優れていることから、通常は高速で行われるため、これは有利です。\n"
      ]
    },
    {
      "cell_type": "code",
      "execution_count": null,
      "metadata": {
        "id": "nc4yy6vW-lC_"
      },
      "outputs": [],
      "source": [
        "class MVNCholPrecisionTriL(tfd.TransformedDistribution):\n",
        "  \"\"\"MVN from loc and (Cholesky) precision matrix.\"\"\"\n",
        "\n",
        "  def __init__(self, loc, chol_precision_tril, name=None):\n",
        "    super(MVNCholPrecisionTriL, self).__init__(\n",
        "        distribution=tfd.Independent(tfd.Normal(tf.zeros_like(loc),\n",
        "                                                scale=tf.ones_like(loc)),\n",
        "                                     reinterpreted_batch_ndims=1),\n",
        "        bijector=tfb.Chain([\n",
        "            tfb.Shift(shift=loc),\n",
        "            tfb.Invert(tfb.ScaleMatvecTriL(scale_tril=chol_precision_tril,\n",
        "                                           adjoint=True)),\n",
        "        ]),\n",
        "        name=name)"
      ]
    },
    {
      "cell_type": "markdown",
      "metadata": {
        "id": "JDOkWhDQg4ZG"
      },
      "source": [
        "`tfd.Independent` 分布はある分布の独立したドローを統計的に独立した座標を使った多変量分布に変換します。`log_prob` の計算の観点では、この「メタ分布」はイベント次元の単純な和として表されます。\n",
        "\n",
        "また、スケール行列の `adjoint`（「転置」）を取っていることにも注目してください。これは、精度が共分散である場合、すなわち $P=C^{-1}$ であり、$C=AA^\\top$ である場合に $P=BB^{\\top}$ where $B=A^{-\\top}$ となるためです。"
      ]
    },
    {
      "cell_type": "markdown",
      "metadata": {
        "id": "Pfkc8cmhh2Qz"
      },
      "source": [
        "この分布にはそれとなくコツがいるため、思った通りに `MVNCholPrecisionTriL` が動作することをさっと検証しましょう。"
      ]
    },
    {
      "cell_type": "code",
      "execution_count": null,
      "metadata": {
        "id": "GhqbjwlIh1Vn"
      },
      "outputs": [
        {
          "name": "stdout",
          "output_type": "stream",
          "text": [
            "true mean: [ 1. -1.]\n",
            "sample mean: [ 1.0002806 -1.000105 ]\n",
            "true cov:\n",
            " [[ 1.0625   -0.03125 ]\n",
            " [-0.03125   0.015625]]\n",
            "sample cov:\n",
            " [[ 1.0641273  -0.03126175]\n",
            " [-0.03126175  0.01559312]]\n"
          ]
        }
      ],
      "source": [
        "def compute_sample_stats(d, seed=42, n=int(1e6)):\n",
        "  x = d.sample(n, seed=seed)\n",
        "  sample_mean = tf.reduce_mean(x, axis=0, keepdims=True)\n",
        "  s = x - sample_mean\n",
        "  sample_cov = tf.linalg.matmul(s, s, adjoint_a=True) / tf.cast(n, s.dtype)\n",
        "  sample_scale = tf.linalg.cholesky(sample_cov)\n",
        "  sample_mean = sample_mean[0]\n",
        "  return [\n",
        "      sample_mean,\n",
        "      sample_cov,\n",
        "      sample_scale,\n",
        "  ]\n",
        "\n",
        "dtype = np.float32\n",
        "true_loc = np.array([1., -1.], dtype=dtype)\n",
        "true_chol_precision = np.array([[1., 0.],\n",
        "                                [2., 8.]],\n",
        "                               dtype=dtype)\n",
        "true_precision = np.matmul(true_chol_precision, true_chol_precision.T)\n",
        "true_cov = np.linalg.inv(true_precision)\n",
        "\n",
        "d = MVNCholPrecisionTriL(\n",
        "    loc=true_loc,\n",
        "    chol_precision_tril=true_chol_precision)\n",
        "\n",
        "[sample_mean, sample_cov, sample_scale] = [\n",
        "    t.numpy() for t in compute_sample_stats(d)]\n",
        "\n",
        "print('true mean:', true_loc)\n",
        "print('sample mean:', sample_mean)\n",
        "print('true cov:\\n', true_cov)\n",
        "print('sample cov:\\n', sample_cov)"
      ]
    },
    {
      "cell_type": "markdown",
      "metadata": {
        "id": "N60z8scN1v6E"
      },
      "source": [
        "サンプルの平均と共分散が真の平均と共分散に近いため、分布は適切に実装されているようです。次に、`MVNCholPrecisionTriL` `tfp.distributions.JointDistributionNamed` を使用して、BGMM モデルを指定します。観測モデルでは、`tfd.MixtureSameFamily` を使用して、自動的に ${Z_i}_{i=1}^N$ ドローを統合します。"
      ]
    },
    {
      "cell_type": "code",
      "execution_count": null,
      "metadata": {
        "id": "xhzxySDjL2-S"
      },
      "outputs": [],
      "source": [
        "dtype = np.float64\n",
        "dims = 2\n",
        "components = 3\n",
        "num_samples = 1000"
      ]
    },
    {
      "cell_type": "code",
      "execution_count": null,
      "metadata": {
        "id": "xAOmHhZ7LzDQ"
      },
      "outputs": [],
      "source": [
        "bgmm = tfd.JointDistributionNamed(dict(\n",
        "  mix_probs=tfd.Dirichlet(\n",
        "    concentration=np.ones(components, dtype) / 10.),\n",
        "  loc=tfd.Independent(\n",
        "    tfd.Normal(\n",
        "        loc=np.stack([\n",
        "            -np.ones(dims, dtype),\n",
        "            np.zeros(dims, dtype),\n",
        "            np.ones(dims, dtype),\n",
        "        ]),\n",
        "        scale=tf.ones([components, dims], dtype)),\n",
        "    reinterpreted_batch_ndims=2),\n",
        "  precision=tfd.Independent(\n",
        "    tfd.WishartTriL(\n",
        "        df=5,\n",
        "        scale_tril=np.stack([np.eye(dims, dtype=dtype)]*components),\n",
        "        input_output_cholesky=True),\n",
        "    reinterpreted_batch_ndims=1),\n",
        "  s=lambda mix_probs, loc, precision: tfd.Sample(tfd.MixtureSameFamily(\n",
        "      mixture_distribution=tfd.Categorical(probs=mix_probs),\n",
        "      components_distribution=MVNCholPrecisionTriL(\n",
        "          loc=loc,\n",
        "          chol_precision_tril=precision)),\n",
        "      sample_shape=num_samples)\n",
        "))"
      ]
    },
    {
      "cell_type": "code",
      "execution_count": null,
      "metadata": {
        "id": "CpLnRJr2TXYD"
      },
      "outputs": [],
      "source": [
        "def joint_log_prob(observations, mix_probs, loc, chol_precision):\n",
        "  \"\"\"BGMM with priors: loc=Normal, precision=Inverse-Wishart, mix=Dirichlet.\n",
        "\n",
        "  Args:\n",
        "    observations: `[n, d]`-shaped `Tensor` representing Bayesian Gaussian\n",
        "      Mixture model draws. Each sample is a length-`d` vector.\n",
        "    mix_probs: `[K]`-shaped `Tensor` representing random draw from\n",
        "      `Dirichlet` prior.\n",
        "    loc: `[K, d]`-shaped `Tensor` representing the location parameter of the\n",
        "      `K` components.\n",
        "    chol_precision: `[K, d, d]`-shaped `Tensor` representing `K` lower\n",
        "      triangular `cholesky(Precision)` matrices, each being sampled from\n",
        "      a Wishart distribution.\n",
        "\n",
        "  Returns:\n",
        "    log_prob: `Tensor` representing joint log-density over all inputs.\n",
        "  \"\"\"\n",
        "  return bgmm.log_prob(\n",
        "      mix_probs=mix_probs, loc=loc, precision=chol_precision, s=observations)"
      ]
    },
    {
      "cell_type": "markdown",
      "metadata": {
        "id": "7jTMXdymV1QJ"
      },
      "source": [
        "## 「トレーニング」データを生成する"
      ]
    },
    {
      "cell_type": "markdown",
      "metadata": {
        "id": "rl4brz3G3pS7"
      },
      "source": [
        "このデモでは、いくつかのランダムデータをサンプリングします。"
      ]
    },
    {
      "cell_type": "code",
      "execution_count": null,
      "metadata": {
        "id": "1AJZAtwXV8RQ"
      },
      "outputs": [],
      "source": [
        "true_loc = np.array([[-2., -2],\n",
        "                     [0, 0],\n",
        "                     [2, 2]], dtype)\n",
        "random = np.random.RandomState(seed=43)\n",
        "\n",
        "true_hidden_component = random.randint(0, components, num_samples)\n",
        "observations = (true_loc[true_hidden_component] +\n",
        "                random.randn(num_samples, dims).astype(dtype))"
      ]
    },
    {
      "cell_type": "markdown",
      "metadata": {
        "id": "zVOvMh7MV37A"
      },
      "source": [
        "## HMC を使用したベイジアン推論"
      ]
    },
    {
      "cell_type": "markdown",
      "metadata": {
        "id": "cdN3iKFT32Jp"
      },
      "source": [
        "TFD を使用してモデルを指定し、観測データを取得したので、HMC を実行するために必要な材料がすべて揃いました。\n",
        "\n",
        "これを行うには、サンプリングしないものを「突き止める」ために[部分適用](https://en.wikipedia.org/wiki/Partial_application)を使用します。この場合は、`observations` のみを突き止める必要があります。（ハイパーパラメータは `joint_log_prob` 関数シグネチャの一部ではなく、前の分布にすでにベイクされています。）"
      ]
    },
    {
      "cell_type": "code",
      "execution_count": null,
      "metadata": {
        "id": "tVoaDFSf7L_j"
      },
      "outputs": [],
      "source": [
        "unnormalized_posterior_log_prob = functools.partial(joint_log_prob, observations)"
      ]
    },
    {
      "cell_type": "code",
      "execution_count": null,
      "metadata": {
        "id": "a0OMIWIYeMmQ"
      },
      "outputs": [],
      "source": [
        "initial_state = [\n",
        "    tf.fill([components],\n",
        "            value=np.array(1. / components, dtype),\n",
        "            name='mix_probs'),\n",
        "    tf.constant(np.array([[-2., -2],\n",
        "                          [0, 0],\n",
        "                          [2, 2]], dtype),\n",
        "                name='loc'),\n",
        "    tf.linalg.eye(dims, batch_shape=[components], dtype=dtype, name='chol_precision'),\n",
        "]"
      ]
    },
    {
      "cell_type": "markdown",
      "metadata": {
        "id": "TVpiT3LLyfcO"
      },
      "source": [
        "### 制約のない表現"
      ]
    },
    {
      "cell_type": "markdown",
      "metadata": {
        "id": "JS8XOsxiyiBV"
      },
      "source": [
        "ハミルトニアンモンテカルロ法（HMC）では、ターゲットの対数確率関数がその引数に関して微分可能である必要があります。さらに、HMC は、状態空間が制約されていない場合に、はるかに高い有効性を見せることがあります。\n",
        "\n",
        "つまり、BGMM 事後確率からサンプリングする場合には、大きく 2 つの問題を対処する必要があるということになります。\n",
        "\n",
        "1. $\\theta$ は離散確率ベクトルを表すため、$\\sum_{k=1}^K \\theta_k = 1$ と $\\theta_k&gt;0$ である必要があります。\n",
        "2. $T_k$ は可逆共分散行列を表すため、$T_k \\succ 0$、すなわち[正定値](https://en.wikipedia.org/wiki/Positive-definite_matrix)である必要があります。\n"
      ]
    },
    {
      "cell_type": "markdown",
      "metadata": {
        "id": "Vt9SXJzO0Cks"
      },
      "source": [
        "この要件を解決するには、次のことを行う必要があります。\n",
        "\n",
        "1. 制約された変数を制約のない空間に変換する\n",
        "2. 制約のない空間で MCMC を実行する\n",
        "3. 制約のない変数を制約された空間に変換する\n",
        "\n",
        "`MVNCholPrecisionTriL` と同様に、確率変数を制約のない空間に変換するには、[`Bijector`](https://www.tensorflow.org/api_docs/python/tf/distributions/bijectors/Bijector) を使用します。\n",
        "\n",
        "- [`Dirichlet`](https://en.wikipedia.org/wiki/Dirichlet_distribution) は [ソフトマックス関数](https://en.wikipedia.org/wiki/Softmax_function)を通じて制約のない空間に変換されます。\n",
        "\n",
        "- 精度確率変数は、半正定値行列の分布です。これらの制約を解くには、`FillTriangular` と `TransformDiagonal` bijector を使用します。これらはベクトルを下三角行列に変換し、対角線が正であるようにします。前者は、$d^2$ ではなく、$d(d+1)/2$ 浮動小数のみのサンプリングを可能にするため、有用です。"
      ]
    },
    {
      "cell_type": "code",
      "execution_count": null,
      "metadata": {
        "id": "_atEQrDR7JvG"
      },
      "outputs": [],
      "source": [
        "unconstraining_bijectors = [\n",
        "    tfb.SoftmaxCentered(),\n",
        "    tfb.Identity(),\n",
        "    tfb.Chain([\n",
        "        tfb.TransformDiagonal(tfb.Softplus()),\n",
        "        tfb.FillTriangular(),\n",
        "    ])]"
      ]
    },
    {
      "cell_type": "code",
      "execution_count": null,
      "metadata": {
        "id": "0zq6QJJ-NSPJ"
      },
      "outputs": [],
      "source": [
        "@tf.function(autograph=False)\n",
        "def sample():\n",
        "  return tfp.mcmc.sample_chain(\n",
        "    num_results=2000,\n",
        "    num_burnin_steps=500,\n",
        "    current_state=initial_state,\n",
        "    kernel=tfp.mcmc.SimpleStepSizeAdaptation(\n",
        "        tfp.mcmc.TransformedTransitionKernel(\n",
        "            inner_kernel=tfp.mcmc.HamiltonianMonteCarlo(\n",
        "                target_log_prob_fn=unnormalized_posterior_log_prob,\n",
        "                 step_size=0.065,\n",
        "                 num_leapfrog_steps=5),\n",
        "            bijector=unconstraining_bijectors),\n",
        "         num_adaptation_steps=400),\n",
        "    trace_fn=lambda _, pkr: pkr.inner_results.inner_results.is_accepted)\n",
        "\n",
        "[mix_probs, loc, chol_precision], is_accepted = sample()"
      ]
    },
    {
      "cell_type": "markdown",
      "metadata": {
        "id": "QLEz96mg6fpZ"
      },
      "source": [
        "ここで、チェーンを実行し、事後の平均を出力します。"
      ]
    },
    {
      "cell_type": "code",
      "execution_count": null,
      "metadata": {
        "id": "_ceX1A3-ZFiN"
      },
      "outputs": [],
      "source": [
        "acceptance_rate = tf.reduce_mean(tf.cast(is_accepted, dtype=tf.float32)).numpy()\n",
        "mean_mix_probs = tf.reduce_mean(mix_probs, axis=0).numpy()\n",
        "mean_loc = tf.reduce_mean(loc, axis=0).numpy()\n",
        "mean_chol_precision = tf.reduce_mean(chol_precision, axis=0).numpy()\n",
        "precision = tf.linalg.matmul(chol_precision, chol_precision, transpose_b=True)\n"
      ]
    },
    {
      "cell_type": "code",
      "execution_count": null,
      "metadata": {
        "id": "bqJ6RSJxegC6"
      },
      "outputs": [
        {
          "name": "stdout",
          "output_type": "stream",
          "text": [
            "acceptance_rate: 0.5305\n",
            "avg mix probs: [0.25248723 0.60729516 0.1402176 ]\n",
            "avg loc:\n",
            " [[-1.96466753 -2.12047249]\n",
            " [ 0.27628865  0.22944732]\n",
            " [ 2.06461244  2.54216122]]\n",
            "avg chol(precision):\n",
            " [[[ 1.05105032  0.        ]\n",
            "  [ 0.12699955  1.06553113]]\n",
            "\n",
            " [[ 0.76058015  0.        ]\n",
            "  [-0.50332767  0.77947431]]\n",
            "\n",
            " [[ 1.22770457  0.        ]\n",
            "  [ 0.70670027  1.50914164]]]\n"
          ]
        }
      ],
      "source": [
        "print('acceptance_rate:', acceptance_rate)\n",
        "print('avg mix probs:', mean_mix_probs)\n",
        "print('avg loc:\\n', mean_loc)\n",
        "print('avg chol(precision):\\n', mean_chol_precision)"
      ]
    },
    {
      "cell_type": "code",
      "execution_count": null,
      "metadata": {
        "id": "zFOU0j9kPdUy"
      },
      "outputs": [
        {
          "data": {
            "image/png": "[encoded data removed]",
            "text/plain": [
              "<matplotlib.figure.Figure at 0xc7fad79c0d0>"
            ]
          },
          "metadata": {
            "tags": []
          },
          "output_type": "display_data"
        }
      ],
      "source": [
        "loc_ = loc.numpy()\n",
        "ax = sns.kdeplot(loc_[:,0,0], loc_[:,0,1], shade=True, shade_lowest=False)\n",
        "ax = sns.kdeplot(loc_[:,1,0], loc_[:,1,1], shade=True, shade_lowest=False)\n",
        "ax = sns.kdeplot(loc_[:,2,0], loc_[:,2,1], shade=True, shade_lowest=False)\n",
        "plt.title('KDE of loc draws');"
      ]
    },
    {
      "cell_type": "markdown",
      "metadata": {
        "id": "NmfNIM1c6mwc"
      },
      "source": [
        "## 結論"
      ]
    },
    {
      "cell_type": "markdown",
      "metadata": {
        "id": "t8LeIeMn6ot4"
      },
      "source": [
        "この単純な Colab では、TensorFlow Probability のプリミティブを使用して階層的ベイジアン混合モデルを構築する方法を説明しました。"
      ]
    }
  ],
  "metadata": {
    "colab": {
      "collapsed_sections": [],
      "name": "Bayesian_Gaussian_Mixture_Model.ipynb",
      "toc_visible": true
    },
    "kernelspec": {
      "display_name": "Python 3",
      "name": "python3"
    }
  },
  "nbformat": 4,
  "nbformat_minor": 0
}
