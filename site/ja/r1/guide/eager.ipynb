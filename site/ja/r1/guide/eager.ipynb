{
  "cells": [
    {
      "cell_type": "markdown",
      "metadata": {
        "colab_type": "text",
        "id": "CCQY7jpBfMur"
      },
      "source": [
        "##### Copyright 2018 The TensorFlow Authors."
      ]
    },
    {
      "cell_type": "code",
      "execution_count": 0,
      "metadata": {
        "cellView": "form",
        "colab": {},
        "colab_type": "code",
        "id": "z6X9omPnfO_h"
      },
      "outputs": [],
      "source": [
        "#@title Licensed under the Apache License, Version 2.0 (the \"License\");\n",
        "# you may not use this file except in compliance with the License.\n",
        "# You may obtain a copy of the License at\n",
        "#\n",
        "# https://www.apache.org/licenses/LICENSE-2.0\n",
        "#\n",
        "# Unless required by applicable law or agreed to in writing, software\n",
        "# distributed under the License is distributed on an \"AS IS\" BASIS,\n",
        "# WITHOUT WARRANTIES OR CONDITIONS OF ANY KIND, either express or implied.\n",
        "# See the License for the specific language governing permissions and\n",
        "# limitations under the License."
      ]
    },
    {
      "cell_type": "markdown",
      "metadata": {
        "colab_type": "text",
        "id": "2QQJJyDzqGRb"
      },
      "source": [
        "# Eager Execution\n"
      ]
    },
    {
      "cell_type": "markdown",
      "metadata": {
        "colab_type": "text",
        "id": "B1xdylywqUSX"
      },
      "source": [
        "<table class=\"tfo-notebook-buttons\" align=\"left\">\n",
        "  <td>\n",
        "    <a target=\"_blank\" href=\"https://colab.research.google.com/github/tensorflow/docs-l10n/blob/master/site/ja/r1/guide/eager.ipynb\"><img src=\"https://www.tensorflow.org/images/colab_logo_32px.png\" />Run in Google Colab</a>\n",
        "  </td>\n",
        "  <td>\n",
        "    <a target=\"_blank\" href=\"https://github.com/tensorflow/docs-l10n/blob/master/site/ja/r1/guide/eager.ipynb\"><img src=\"https://www.tensorflow.org/images/GitHub-Mark-32px.png\" />View source on GitHub</a>\n",
        "  </td>\n",
        "</table>"
      ]
    },
    {
      "cell_type": "markdown",
      "metadata": {
        "colab_type": "text",
        "id": "dfJ5KndxaefN"
      },
      "source": [
        "Note: これらのドキュメントは私たちTensorFlowコミュニティが翻訳したものです。コミュニティによる 翻訳は**ベストエフォート**であるため、この翻訳が正確であることや[英語の公式ドキュメント](https://www.tensorflow.org/?hl=en)の 最新の状態を反映したものであることを保証することはできません。 この翻訳の品質を向上させるためのご意見をお持ちの方は、GitHubリポジトリ[tensorflow/docs](https://github.com/tensorflow/docs)にプルリクエストをお送りください。 コミュニティによる翻訳やレビューに参加していただける方は、 [docs-ja@tensorflow.org メーリングリスト](https://groups.google.com/a/tensorflow.org/forum/#!forum/docs-ja)にご連絡ください。"
      ]
    },
    {
      "cell_type": "markdown",
      "metadata": {
        "colab_type": "text",
        "id": "EGjDcGxIqEfX"
      },
      "source": [
        "TensorflowのEager Executionは、計算グラフの作成と評価を同時におこなう命令的なプログラミングを行うための環境です：\n",
        "オペレーションはあとで実行するための計算グラフでなく、具体的な計算結果の値を返します。\n",
        "この方法を用いることにより、初心者にとってTensorFlowを始めやすくなり、またモデルのデバッグも行いやすくなります。\n",
        "さらにコードの記述量も削減されます。\n",
        "このガイドの内容を実行するためには、対話的インタープリタ`python`を起動し、以下のコードサンプルを実行してください。\n",
        "\n",
        "Eager Executionは研究や実験のための柔軟な機械学習環境として、以下を提供します。\n",
        "\n",
        "* *直感的なインタフェース*—Pythonのデータ構造を使用して、コードをナチュラルに記述することができます。スモールなモデルとデータに対してすばやく実験を繰り返すことができます。\n",
        "* *より簡単なデバッグ*—opsを直接呼び出すことで、実行中のモデルを調査したり、変更をテストすることができます。Python標準のデバッグツールを用いて即座にエラーのレポーティングができます。\n",
        "* *自然な制御フロー*—TensorFlowのグラフ制御フローの代わりにPythonの制御フローを利用するため、動的なモデルのパラメータ変更をシンプルに行うことができます。\n",
        "  \n",
        "Eager ExecutionはTensorflowのほとんどのオペレーションとGPUアクセラレーションをサポートします。\n",
        "Eager Executionの実行例については、以下を参照してください。\n",
        "[tensorflow/contrib/eager/python/examples](https://github.com/tensorflow/tensorflow/tree/master/tensorflow/contrib/eager/python/examples).\n",
        "\n",
        "Note: いくつかのモデルはEager Executionを有効化することでオーバヘッドが増える可能性があります。\n",
        "パフォーマンス改善を行っていますが、もしも問題を発見したら、バグ報告してベンチマークを共有してください。"
      ]
    },
    {
      "cell_type": "markdown",
      "metadata": {
        "colab_type": "text",
        "id": "RBAeIwOMrYk8"
      },
      "source": [
        "## セットアップと基本的な使い方"
      ]
    },
    {
      "cell_type": "markdown",
      "metadata": {
        "colab_type": "text",
        "id": "48P3-8q4qEfe"
      },
      "source": [
        "Eager Executionをはじめるためには、プログラムやコンソールセッションの最初に、`tf.enable_eager_execution()`を追加してください。\n",
        "プログラムが呼び出すほかのモジュールにこのオペレーションを追加しないでください。"
      ]
    },
    {
      "cell_type": "code",
      "execution_count": 0,
      "metadata": {
        "attributes": {
          "classes": [
            "py"
          ],
          "id": ""
        },
        "colab": {},
        "colab_type": "code",
        "id": "7aFsD8csqEff"
      },
      "outputs": [],
      "source": [
        "import tensorflow.compat.v1 as tf\n"
      ]
    },
    {
      "cell_type": "markdown",
      "metadata": {
        "colab_type": "text",
        "id": "x_G1zZT5qEfh"
      },
      "source": [
        "これでTensorFlowのオペレーションを実行してみましょう。結果はすぐに返されます。"
      ]
    },
    {
      "cell_type": "code",
      "execution_count": 0,
      "metadata": {
        "colab": {},
        "colab_type": "code",
        "id": "5hien2IEqwLQ"
      },
      "outputs": [],
      "source": [
        "tf.executing_eagerly()"
      ]
    },
    {
      "cell_type": "code",
      "execution_count": 0,
      "metadata": {
        "attributes": {
          "classes": [
            "py"
          ],
          "id": ""
        },
        "colab": {},
        "colab_type": "code",
        "id": "9gsI54pbqEfj"
      },
      "outputs": [],
      "source": [
        "x = [[2.]]\n",
        "m = tf.matmul(x, x)\n",
        "print(\"hello, {}\".format(m))"
      ]
    },
    {
      "cell_type": "markdown",
      "metadata": {
        "colab_type": "text",
        "id": "ajFn6qsdqEfl"
      },
      "source": [
        "Eager Executionを有効化することで、TensorFlowの挙動は変わります—TensorFlowは即座に式を評価して結果をPythonに返すようになります。\n",
        "`tf.Tensor` オブジェクトは計算グラフのノードへのシンボリックハンドルの代わりに具体的な値を参照します。\n",
        "セッションの中で構築して実行する計算グラフが存在しないため、`print（）`やデバッガを使って容易に結果を調べることができます。\n",
        "勾配計算を終了することなくテンソル値を評価、出力、およびチェックすることができます。\n",
        "\n",
        "Eager Executionは、[NumPy](http://www.numpy.org/)と一緒に使うことができます。\n",
        "NumPyのオペレーションは、`tf.Tensor`を引数として受け取ることができます。\n",
        "TensorFlow [math operations](https://www.tensorflow.org/api_guides/python/math_ops) はPythonオブジェクトとNumpy arrayを`tf.Tensor`にコンバートします。\n",
        "`tf.Tensor.numpy`メソッドはオブジェクトの値をNumPyの`ndarray`形式で返します。"
      ]
    },
    {
      "cell_type": "code",
      "execution_count": 0,
      "metadata": {
        "colab": {},
        "colab_type": "code",
        "id": "sTO0_5TYqz1n"
      },
      "outputs": [],
      "source": [
        "a = tf.constant([[1, 2],\n",
        "                 [3, 4]])\n",
        "print(a)"
      ]
    },
    {
      "cell_type": "code",
      "execution_count": 0,
      "metadata": {
        "colab": {},
        "colab_type": "code",
        "id": "Dp14YT8Gq4r1"
      },
      "outputs": [],
      "source": [
        "# ブロードキャストのサポート\n",
        "b = tf.add(a, 1)\n",
        "print(b)"
      ]
    },
    {
      "cell_type": "code",
      "execution_count": 0,
      "metadata": {
        "colab": {},
        "colab_type": "code",
        "id": "69p3waMfq8cQ"
      },
      "outputs": [],
      "source": [
        "# オペレータのオーバーロードがサポートされている\n",
        "print(a * b)"
      ]
    },
    {
      "cell_type": "code",
      "execution_count": 0,
      "metadata": {
        "attributes": {
          "classes": [
            "py"
          ],
          "id": ""
        },
        "colab": {},
        "colab_type": "code",
        "id": "Ui025t1qqEfm"
      },
      "outputs": [],
      "source": [
        "# NumPy valueの使用\n",
        "import numpy as np\n",
        "\n",
        "c = np.multiply(a, b)\n",
        "print(c)"
      ]
    },
    {
      "cell_type": "code",
      "execution_count": 0,
      "metadata": {
        "colab": {},
        "colab_type": "code",
        "id": "Tq_aFRzWrCua"
      },
      "outputs": [],
      "source": [
        "# Tensorからnumpyの値を得る\n",
        "print(a.numpy())\n",
        "# => [[1 2]\n",
        "#     [3 4]]"
      ]
    },
    {
      "cell_type": "markdown",
      "metadata": {
        "colab_type": "text",
        "id": "Jdg3nZFwqEfp"
      },
      "source": [
        "`tf.contrib.eager` モジュールは、Eager ExecutionとGraph Executionの両方の環境で利用可能なシンボルが含まれており、[Graph Execution](#work_with_graphs)方式での記述に便利です:"
      ]
    },
    {
      "cell_type": "code",
      "execution_count": 0,
      "metadata": {
        "attributes": {
          "classes": [
            "py"
          ],
          "id": ""
        },
        "colab": {},
        "colab_type": "code",
        "id": "N-2lSGiHqEfq"
      },
      "outputs": [],
      "source": [
        "tfe = tf.contrib.eager"
      ]
    },
    {
      "cell_type": "markdown",
      "metadata": {
        "colab_type": "text",
        "id": "H08f9ss9qEft"
      },
      "source": [
        "## 動的な制御フロー\n",
        "\n",
        "Eager Executionの主要なメリットは、モデルを実行する際にホスト言語のすべての機能性が利用できることです。\n",
        "たとえば、[fizzbuzz](https://en.wikipedia.org/wiki/Fizz_buzz)が簡単に書けます："
      ]
    },
    {
      "cell_type": "code",
      "execution_count": 0,
      "metadata": {
        "attributes": {
          "classes": [
            "py"
          ],
          "id": ""
        },
        "colab": {},
        "colab_type": "code",
        "id": "0fudRMeUqEfu"
      },
      "outputs": [],
      "source": [
        "def fizzbuzz(max_num):\n",
        "  counter = tf.constant(0)\n",
        "  max_num = tf.convert_to_tensor(max_num)\n",
        "  for num in range(1, max_num.numpy()+1):\n",
        "    num = tf.constant(num)\n",
        "    if int(num % 3) == 0 and int(num % 5) == 0:\n",
        "      print('FizzBuzz')\n",
        "    elif int(num % 3) == 0:\n",
        "      print('Fizz')\n",
        "    elif int(num % 5) == 0:\n",
        "      print('Buzz')\n",
        "    else:\n",
        "      print(num.numpy())\n",
        "    counter += 1"
      ]
    },
    {
      "cell_type": "code",
      "execution_count": 0,
      "metadata": {
        "colab": {},
        "colab_type": "code",
        "id": "P2cKknQWrJLB"
      },
      "outputs": [],
      "source": [
        "fizzbuzz(15)"
      ]
    },
    {
      "cell_type": "markdown",
      "metadata": {
        "colab_type": "text",
        "id": "7kA-aC3BqEfy"
      },
      "source": [
        "この関数はテンソル値に依存する条件式を持ち、実行時にこれらの値を表示します。"
      ]
    },
    {
      "cell_type": "markdown",
      "metadata": {
        "colab_type": "text",
        "id": "zn3mp-j6rjnk"
      },
      "source": [
        "## モデルの構築\n",
        "\n",
        "多くの機械学習モデルはレイヤーを積み重ねによって成り立っています。Eager ExecutionでTensorFlowを使うときは、自分でレイヤーの内容を記述してもいいし、もしくは `tf.keras.layers`パッケージで提供されるレイヤーを使うこともできます。\n",
        "\n",
        "レイヤーを表現するためには任意のPythonオブジェクトを使用できますが、\n",
        "TensorFlowには便利な基本クラスとして `tf.keras.layers.Layer`があります。\n",
        "このクラスを継承した独自のレイヤーを実装してみます："
      ]
    },
    {
      "cell_type": "code",
      "execution_count": 0,
      "metadata": {
        "attributes": {
          "classes": [
            "py"
          ],
          "id": ""
        },
        "colab": {},
        "colab_type": "code",
        "id": "kvXiJsmyqEfz"
      },
      "outputs": [],
      "source": [
        "class MySimpleLayer(tf.keras.layers.Layer):\n",
        "  def __init__(self, output_units):\n",
        "    super(MySimpleLayer, self).__init__()\n",
        "    self.output_units = output_units\n",
        "\n",
        "  def build(self, input_shape):\n",
        "    # buildメソッドは、レイヤーが初めて使われたときに呼ばれます\n",
        "    # build（）で変数を作成すると、それらのshapeを入力のshapeに依存させることができ、\n",
        "    # ユーザがshapeを完全に指定する必要はありません。\n",
        "    # 既に完全なshapeが決まっている場合は、__init__()の中で変数を作成することもできます。\n",
        "    self.kernel = self.add_variable(\n",
        "      \"kernel\", [input_shape[-1], self.output_units])\n",
        "\n",
        "  def call(self, input):\n",
        "    # __call__の代わりにcall()を上書きします。\n",
        "    return tf.matmul(input, self.kernel)"
      ]
    },
    {
      "cell_type": "markdown",
      "metadata": {
        "colab_type": "text",
        "id": "eo3qgrVCqEf2"
      },
      "source": [
        " `MySimpleLayer`の代わりに、その機能のスーパーセットを持っている`tf.keras.layers.Dense`レイヤーを使用してください\n",
        " （このレイヤーはバイアスを加えることもできるもできます）。\n",
        "\n",
        "レイヤーをモデルに組み立てるとき、レイヤーの線形スタックである\n",
        "モデルを表すために `tf.keras.Sequential`を使うことができます。この書き方は基本的なモデルを扱いやすいです。"
      ]
    },
    {
      "cell_type": "code",
      "execution_count": 0,
      "metadata": {
        "attributes": {
          "classes": [
            "py"
          ],
          "id": ""
        },
        "colab": {},
        "colab_type": "code",
        "id": "VrfLnhNPqEf3"
      },
      "outputs": [],
      "source": [
        "model = tf.keras.Sequential([\n",
        "  tf.keras.layers.Dense(10, input_shape=(784,)),  # 入力のshapeを指定する必要がある\n",
        "  tf.keras.layers.Dense(10)\n",
        "])"
      ]
    },
    {
      "cell_type": "markdown",
      "metadata": {
        "colab_type": "text",
        "id": "Dms3mduTqEf6"
      },
      "source": [
        "もしくは、 `tf.keras.Model`を継承してモデルをクラスにまとめます。 \n",
        "これはレイヤー自身であるレイヤーのコンテナで、 `tf.keras.Model`オブジェクトが他の` tf.keras.Model`オブジェクトを含むことを可能にします。\n",
        "\n",
        "Alternatively, organize models in classes by inheriting from `tf.keras.Model`.\n",
        "This is a container for layers that is a layer itself, allowing `tf.keras.Model`\n",
        "objects to contain other `tf.keras.Model` objects."
      ]
    },
    {
      "cell_type": "code",
      "execution_count": 0,
      "metadata": {
        "attributes": {
          "classes": [
            "py"
          ],
          "id": ""
        },
        "colab": {},
        "colab_type": "code",
        "id": "MwWxQmNOqEf7"
      },
      "outputs": [],
      "source": [
        "class MNISTModel(tf.keras.Model):\n",
        "  def __init__(self):\n",
        "    super(MNISTModel, self).__init__()\n",
        "    self.dense1 = tf.keras.layers.Dense(units=10)\n",
        "    self.dense2 = tf.keras.layers.Dense(units=10)\n",
        "\n",
        "  def call(self, input):\n",
        "    \"\"\"Run the model.\"\"\"\n",
        "    result = self.dense1(input)\n",
        "    result = self.dense2(result)\n",
        "    result = self.dense2(result)  # dense2レイヤーを再利用します reuse variables from dense2 layer\n",
        "    return result\n",
        "\n",
        "model = MNISTModel()"
      ]
    },
    {
      "cell_type": "markdown",
      "metadata": {
        "colab_type": "text",
        "id": "a639YaF4qEf-"
      },
      "source": [
        "入力のshapeは最初のレイヤーに初めて入力データを渡すときにセットされるため、\n",
        "モデル構築時に`tf.keras.Model`クラスに設定する必要はありません。\n",
        "\n",
        "`tf.keras.layers`クラスは独自のモデル変数を作成し、包含します。このモデル変数は、それを含むレイヤーオブジェクトのライフタイムにひもづきます。レイヤー変数を共有するには、それらのオブジェクトを共有します。"
      ]
    },
    {
      "cell_type": "markdown",
      "metadata": {
        "colab_type": "text",
        "id": "8huKpuuAwICq"
      },
      "source": [
        "## Eager Executionにおける学習"
      ]
    },
    {
      "cell_type": "markdown",
      "metadata": {
        "colab_type": "text",
        "id": "mp2lCCZYrxHd"
      },
      "source": [
        "### 勾配の計算\n",
        "\n",
        "[自動微分](https://en.wikipedia.org/wiki/Automatic_differentiation)はニューラルネットワークの学習で利用される[バックプロパゲーション](https://en.wikipedia.org/wiki/Backpropagation)などの機械学習アルゴリズムの実装を行う上で便利です。\n",
        "Eager Executionでは、勾配計算をあとで行うためのオペレーションをトレースするために`tf.GradientTape` を利用します。\n",
        "\n",
        "`tf.GradientTape` はトレースしない場合に最大のパフォーマンスを提供するオプトイン機能です。各呼び出し中に異なるオペレーションが発生する可能性があるため、すべてのforward-passオペレーションは一つの「テープ」に記録されます。勾配を計算するには、テープを逆方向に再生してから破棄します。特定の `tf.GradientTape`は一つのグラデーションしか計算できません。後続の呼び出しは実行時エラーをスローします。"
      ]
    },
    {
      "cell_type": "code",
      "execution_count": 0,
      "metadata": {
        "attributes": {
          "classes": [
            "py"
          ],
          "id": ""
        },
        "colab": {},
        "colab_type": "code",
        "id": "7g1yWiSXqEf-"
      },
      "outputs": [],
      "source": [
        "w = tf.Variable([[1.0]])\n",
        "with tf.GradientTape() as tape:\n",
        "  loss = w * w\n",
        "\n",
        "grad = tape.gradient(loss, w)\n",
        "print(grad)  # => tf.Tensor([[ 2.]], shape=(1, 1), dtype=float32)"
      ]
    },
    {
      "cell_type": "markdown",
      "metadata": {
        "colab_type": "text",
        "id": "vkHs32GqweYS"
      },
      "source": [
        "### モデル学習\n",
        "\n",
        "以下のexampleはMNISTという手書き数字分類を行うマルチレイヤーモデルを作成します。\n",
        "Eager Execution環境における学習可能なグラフを構築するためのオプティマイザーとレイヤーAPIを提示します。"
      ]
    },
    {
      "cell_type": "code",
      "execution_count": 0,
      "metadata": {
        "colab": {},
        "colab_type": "code",
        "id": "38kymXZowhhz"
      },
      "outputs": [],
      "source": [
        "# mnistデータのを取得し、フォーマットする\n",
        "(mnist_images, mnist_labels), _ = tf.keras.datasets.mnist.load_data()\n",
        "\n",
        "dataset = tf.data.Dataset.from_tensor_slices(\n",
        "  (tf.cast(mnist_images[...,tf.newaxis]/255, tf.float32),\n",
        "   tf.cast(mnist_labels,tf.int64)))\n",
        "dataset = dataset.shuffle(1000).batch(32)"
      ]
    },
    {
      "cell_type": "code",
      "execution_count": 0,
      "metadata": {
        "colab": {},
        "colab_type": "code",
        "id": "rl1K8rOowmwT"
      },
      "outputs": [],
      "source": [
        "# モデルを構築する\n",
        "mnist_model = tf.keras.Sequential([\n",
        "  tf.keras.layers.Conv2D(16,[3,3], activation='relu'),\n",
        "  tf.keras.layers.Conv2D(16,[3,3], activation='relu'),\n",
        "  tf.keras.layers.GlobalAveragePooling2D(),\n",
        "  tf.keras.layers.Dense(10)\n",
        "])"
      ]
    },
    {
      "cell_type": "markdown",
      "metadata": {
        "colab_type": "text",
        "id": "fvyk-HgGwxwl"
      },
      "source": [
        "学習を行わずとも、モデルを呼び出して、Eager Executionにより、出力を検査することができます："
      ]
    },
    {
      "cell_type": "code",
      "execution_count": 0,
      "metadata": {
        "colab": {},
        "colab_type": "code",
        "id": "BsxystjBwxLS"
      },
      "outputs": [],
      "source": [
        "for images,labels in dataset.take(1):\n",
        "  print(\"Logits: \", mnist_model(images[0:1]).numpy())"
      ]
    },
    {
      "cell_type": "markdown",
      "metadata": {
        "colab_type": "text",
        "id": "Y3PGa8G7qEgB"
      },
      "source": [
        "kerasモデルは組み込みで学習のループを回すメソッド`fit`がありますが、よりカスタマイズが必要な場合もあるでしょう。 Eager Executionを用いて実装された学習ループのサンプルを以下に示します："
      ]
    },
    {
      "cell_type": "code",
      "execution_count": 0,
      "metadata": {
        "colab": {},
        "colab_type": "code",
        "id": "bzRhM7JDnaEG"
      },
      "outputs": [],
      "source": [
        "optimizer = tf.train.AdamOptimizer()\n",
        "\n",
        "loss_history = []"
      ]
    },
    {
      "cell_type": "code",
      "execution_count": 0,
      "metadata": {
        "attributes": {
          "classes": [
            "py"
          ],
          "id": ""
        },
        "colab": {},
        "colab_type": "code",
        "id": "0m1xAXrmqEgJ"
      },
      "outputs": [],
      "source": [
        "for (batch, (images, labels)) in enumerate(dataset.take(400)):\n",
        "  if batch % 10 == 0:\n",
        "    print('.', end='')\n",
        "  with tf.GradientTape() as tape:\n",
        "    logits = mnist_model(images, training=True)\n",
        "    loss_value = tf.losses.sparse_softmax_cross_entropy(labels, logits)\n",
        "\n",
        "  loss_history.append(loss_value.numpy())\n",
        "  grads = tape.gradient(loss_value, mnist_model.trainable_variables)\n",
        "  optimizer.apply_gradients(zip(grads, mnist_model.trainable_variables),\n",
        "                            global_step=tf.train.get_or_create_global_step())"
      ]
    },
    {
      "cell_type": "code",
      "execution_count": 0,
      "metadata": {
        "colab": {},
        "colab_type": "code",
        "id": "5vG5ql_2vYB5"
      },
      "outputs": [],
      "source": [
        "import matplotlib.pyplot as plt\n",
        "\n",
        "plt.plot(loss_history)\n",
        "plt.xlabel('Batch #')\n",
        "plt.ylabel('Loss [entropy]')"
      ]
    },
    {
      "cell_type": "markdown",
      "metadata": {
        "colab_type": "text",
        "id": "kKpOlHPLqEgl"
      },
      "source": [
        "### 値とオプティマイザ\n",
        "\n",
        "`tf.Variable` オブジェクトは、学習中にアクセスされるミュータブルな`tf.Tensor`値を格納し、自動微分を容易にします。\n",
        "モデルのパラメータは、変数としてクラスにカプセル化できます。\n",
        "\n",
        "`tf.GradientTape`と共に` tf.Variable`を使うことでモデルパラメータはよりカプセル化されます。たとえば、上の\n",
        "の自動微分の例は以下のように書き換えることができます："
      ]
    },
    {
      "cell_type": "code",
      "execution_count": 0,
      "metadata": {
        "attributes": {
          "classes": [
            "py"
          ],
          "id": ""
        },
        "colab": {},
        "colab_type": "code",
        "id": "nnQLBYmEqEgm"
      },
      "outputs": [],
      "source": [
        "class Model(tf.keras.Model):\n",
        "  def __init__(self):\n",
        "    super(Model, self).__init__()\n",
        "    self.W = tf.Variable(5., name='weight')\n",
        "    self.B = tf.Variable(10., name='bias')\n",
        "  def call(self, inputs):\n",
        "    return inputs * self.W + self.B\n",
        "\n",
        "# 3 ＊ ２ + 2を近似するトイデータセット\n",
        "NUM_EXAMPLES = 2000\n",
        "training_inputs = tf.random_normal([NUM_EXAMPLES])\n",
        "noise = tf.random_normal([NUM_EXAMPLES])\n",
        "training_outputs = training_inputs * 3 + 2 + noise\n",
        "\n",
        "# オプティマイズ対象のloss関数\n",
        "def loss(model, inputs, targets):\n",
        "  error = model(inputs) - targets\n",
        "  return tf.reduce_mean(tf.square(error))\n",
        "\n",
        "def grad(model, inputs, targets):\n",
        "  with tf.GradientTape() as tape:\n",
        "    loss_value = loss(model, inputs, targets)\n",
        "  return tape.gradient(loss_value, [model.W, model.B])\n",
        "\n",
        "# 定義：\n",
        "# 1. モデル\n",
        "# 2. モデルパラメータに関する損失関数の導関数\n",
        "# 3. 導関数に基づいて変数を更新するストラテジ。\n",
        "model = Model()\n",
        "optimizer = tf.train.GradientDescentOptimizer(learning_rate=0.01)\n",
        "\n",
        "print(\"Initial loss: {:.3f}\".format(loss(model, training_inputs, training_outputs)))\n",
        "\n",
        "# 学習ループ\n",
        "for i in range(300):\n",
        "  grads = grad(model, training_inputs, training_outputs)\n",
        "  optimizer.apply_gradients(zip(grads, [model.W, model.B]),\n",
        "                            global_step=tf.train.get_or_create_global_step())\n",
        "  if i % 20 == 0:\n",
        "    print(\"Loss at step {:03d}: {:.3f}\".format(i, loss(model, training_inputs, training_outputs)))\n",
        "\n",
        "print(\"Final loss: {:.3f}\".format(loss(model, training_inputs, training_outputs)))\n",
        "print(\"W = {}, B = {}\".format(model.W.numpy(), model.B.numpy()))"
      ]
    },
    {
      "cell_type": "markdown",
      "metadata": {
        "colab_type": "text",
        "id": "rPjb8nRWqEgr"
      },
      "source": [
        "## Eager Executionの途中でオブジェクトのステータスを使用する\n",
        "\n",
        "Graph Executionでは、プログラムの状態（変数など）はglobal collectionに格納され、それらの存続期間は `tf.Session`オブジェクトによって管理されます。\n",
        "対照的に、Eager Executionの間、状態オブジェクトの存続期間は、対応するPythonオブジェクトの存続期間によって決定されます。\n",
        "\n",
        "### 変数とオブジェクト\n",
        "\n",
        "Eager Executionの間、変数はオブジェクトへの最後の参照が削除され、その後削除されるまで存続します。"
      ]
    },
    {
      "cell_type": "code",
      "execution_count": 0,
      "metadata": {
        "attributes": {
          "classes": [
            "py"
          ],
          "id": ""
        },
        "colab": {},
        "colab_type": "code",
        "id": "A2boS674qEgs"
      },
      "outputs": [],
      "source": [
        "if tf.test.is_gpu_available():\n",
        "  with tf.device(\"gpu:0\"):\n",
        "    v = tf.Variable(tf.random_normal([1000, 1000]))\n",
        "    v = None  # vは既にGPUメモリ上を使用しないようにする"
      ]
    },
    {
      "cell_type": "markdown",
      "metadata": {
        "colab_type": "text",
        "id": "scMjg6L6qEgv"
      },
      "source": [
        "### オブジェクトベースの保存\n",
        "\n",
        "`tf.train.Checkpoint`はチェックポイントを用いて`tf.Variable`を保存および復元することができます："
      ]
    },
    {
      "cell_type": "code",
      "execution_count": 0,
      "metadata": {
        "colab": {},
        "colab_type": "code",
        "id": "7z5xRfdHzZOQ"
      },
      "outputs": [],
      "source": [
        "x = tf.Variable(10.)\n",
        "checkpoint = tf.train.Checkpoint(x=x)"
      ]
    },
    {
      "cell_type": "code",
      "execution_count": 0,
      "metadata": {
        "colab": {},
        "colab_type": "code",
        "id": "IffrUVG7zyVb"
      },
      "outputs": [],
      "source": [
        "x.assign(2.)   # 変数に新しい値を割り当てて保存する\n",
        "checkpoint_path = './ckpt/'\n",
        "checkpoint.save('./ckpt/')"
      ]
    },
    {
      "cell_type": "code",
      "execution_count": 0,
      "metadata": {
        "attributes": {
          "classes": [
            "py"
          ],
          "id": ""
        },
        "colab": {},
        "colab_type": "code",
        "id": "eMT9koCoqEgw"
      },
      "outputs": [],
      "source": [
        "x.assign(11.)  # 保存後に変数の値を変更する\n",
        "\n",
        "# チェックポイントから値を復元する\n",
        "checkpoint.restore(tf.train.latest_checkpoint(checkpoint_path))\n",
        "\n",
        "print(x)  # => 2.0"
      ]
    },
    {
      "cell_type": "markdown",
      "metadata": {
        "colab_type": "text",
        "id": "vbFnP-yLqEgx"
      },
      "source": [
        "モデルを保存して読み込むために、 `tf.train.Checkpoint`は隠れ変数なしにオブジェクトの内部状態を保存します。 `モデル`、 `オプティマイザ`、そしてグローバルステップの状態を記録するには、それらを `tf.train.Checkpoint`に渡します。"
      ]
    },
    {
      "cell_type": "code",
      "execution_count": 0,
      "metadata": {
        "attributes": {
          "classes": [
            "py"
          ],
          "id": ""
        },
        "colab": {},
        "colab_type": "code",
        "id": "hWZHyAXMqEg0"
      },
      "outputs": [],
      "source": [
        "import os\n",
        "import tempfile\n",
        "\n",
        "model = tf.keras.Sequential([\n",
        "  tf.keras.layers.Conv2D(16,[3,3], activation='relu'),\n",
        "  tf.keras.layers.GlobalAveragePooling2D(),\n",
        "  tf.keras.layers.Dense(10)\n",
        "])\n",
        "optimizer = tf.train.AdamOptimizer(learning_rate=0.001)\n",
        "checkpoint_dir = tempfile.mkdtemp()\n",
        "checkpoint_prefix = os.path.join(checkpoint_dir, \"ckpt\")\n",
        "root = tf.train.Checkpoint(optimizer=optimizer,\n",
        "                           model=model,\n",
        "                           optimizer_step=tf.train.get_or_create_global_step())\n",
        "\n",
        "root.save(checkpoint_prefix)\n",
        "root.restore(tf.train.latest_checkpoint(checkpoint_dir))"
      ]
    },
    {
      "cell_type": "markdown",
      "metadata": {
        "colab_type": "text",
        "id": "3yoD0VJ7qEg3"
      },
      "source": [
        "### オブジェクト指向メトリクス\n",
        "\n",
        "`tfe.metrics`はオブジェクトとして保存されます。新しいデータを呼び出し可能オブジェクトに渡してメトリクスを更新し、 `tfe.metrics.result`メソッドを使って結果を取得します。次に例を示します:"
      ]
    },
    {
      "cell_type": "code",
      "execution_count": 0,
      "metadata": {
        "attributes": {
          "classes": [
            "py"
          ],
          "id": ""
        },
        "colab": {},
        "colab_type": "code",
        "id": "9ccu0iAaqEg5"
      },
      "outputs": [],
      "source": [
        "m = tfe.metrics.Mean(\"loss\")\n",
        "m(0)\n",
        "m(5)\n",
        "m.result()  # => 2.5\n",
        "m([8, 9])\n",
        "m.result()  # => 5.5"
      ]
    },
    {
      "cell_type": "markdown",
      "metadata": {
        "colab_type": "text",
        "id": "BE8cXErYqEg8"
      },
      "source": [
        "#### サマリとTensorBoard\n",
        "\n",
        "[TensorBoard](../guide/summaries_and_tensorboard.md) はモデルの学習プロセスを理解、デバッグ、最適化するための可視化ツールです。プログラムの実行中に書き込まれるサマリイベントを使用します。\n",
        "\n",
        "`tf.contrib.summary`はEager ExecutionとGraph Executionの両方の環境と互換性があります。 \n",
        "`tf.contrib.summary.scalar`のようなサマリオペレーションはモデル構築の間に挿入されます。\n",
        "たとえば、100のグローバルステップごとにサマリを記録するには、次のようにします。"
      ]
    },
    {
      "cell_type": "code",
      "execution_count": 0,
      "metadata": {
        "attributes": {
          "classes": [
            "py"
          ],
          "id": ""
        },
        "colab": {},
        "colab_type": "code",
        "id": "3PXAJB1GqEg9"
      },
      "outputs": [],
      "source": [
        "global_step = tf.train.get_or_create_global_step()\n",
        "\n",
        "logdir = \"./tb/\"\n",
        "writer = tf.contrib.summary.create_file_writer(logdir)\n",
        "writer.set_as_default()\n",
        "\n",
        "for _ in range(10):\n",
        "  global_step.assign_add(1)\n",
        "  # record_summariesメソッドをincludeする必要がある\n",
        "  with tf.contrib.summary.record_summaries_every_n_global_steps(100):\n",
        "    # ここにモデルのコードを記述する\n",
        "    tf.contrib.summary.scalar('global_step', global_step)"
      ]
    },
    {
      "cell_type": "code",
      "execution_count": 0,
      "metadata": {
        "colab": {},
        "colab_type": "code",
        "id": "6TJSs_wG8Spg"
      },
      "outputs": [],
      "source": [
        "!ls tb/"
      ]
    },
    {
      "cell_type": "markdown",
      "metadata": {
        "colab_type": "text",
        "id": "xEL4yJe5qEhD"
      },
      "source": [
        "## 高度な自動分類トピック\n",
        "\n",
        "### 動的なモデル\n",
        "\n",
        "`tf.GradientTape`は動的モデルでも使うことができます。 \n",
        "以下の[バックトラックライン検索](https://wikipedia.org/wiki/Backtracking_line_search)\n",
        "アルゴリズムの例は、複雑な制御フローにも関わらず\n",
        "勾配があり、微分可能であることを除いて、通常のNumPyコードのように見えます："
      ]
    },
    {
      "cell_type": "code",
      "execution_count": 0,
      "metadata": {
        "attributes": {
          "classes": [
            "py"
          ],
          "id": ""
        },
        "colab": {},
        "colab_type": "code",
        "id": "L518n5dkqEhE"
      },
      "outputs": [],
      "source": [
        "def line_search_step(fn, init_x, rate=1.0):\n",
        "  with tf.GradientTape() as tape:\n",
        "    # 変数は自動的に記録されるが、手動でTensorを監視する\n",
        "    tape.watch(init_x)\n",
        "    value = fn(init_x)\n",
        "  grad = tape.gradient(value, init_x)\n",
        "  grad_norm = tf.reduce_sum(grad * grad)\n",
        "  init_value = value\n",
        "  while value > init_value - rate * grad_norm:\n",
        "    x = init_x - rate * grad\n",
        "    value = fn(x)\n",
        "    rate /= 2.0\n",
        "  return x, value"
      ]
    },
    {
      "cell_type": "markdown",
      "metadata": {
        "colab_type": "text",
        "id": "03owpCFrqEhH"
      },
      "source": [
        "### 勾配計算のための追加機能\n",
        "\n",
        "`tf.GradientTape`は強力な勾配計算インタフェースですが、\n",
        "自動微分に利用できる別の[Autograd](https://github.com/HIPS/autograd)スタイルのAPIもあります。\n",
        "これらの関数はテンソルと勾配関数のみを使って、`tf.variables`を使わずに数式コードを書く場合に便利です：\n",
        "\n",
        "* `tfe.gradients_function`—引数をとり、入力関数パラメータの導関数を計算する関数を返します。 \n",
        "   入力パラメータはスカラ値を返さなければなりません。返された関数が\n",
        "   されると、 `tf.Tensor`オブジェクトのリストを返します：入力関数のそれぞれの\n",
        "   引数に対して一つの要素。重要なものすべてを関数パラメータとして渡さなければならないので、\n",
        "   多くのtrainableパラメータに依存している場合、これは扱いにくくなります。\n",
        "* `tfe.value_and_gradients_function`—` tfe.gradients_function`に似ていますが、\n",
        "   返された関数が呼び出されると、その引数に関する入力関数の導関数のリストに加えて、入力関数からの値を返します。\n",
        "\n",
        "次の例では、 `tfe.gradients_function`は引数として` square` 関数を取り、その入力に関して `square`の偏微分\n",
        "導関数を計算する関数を返します。 `3`における` square`の微分を計算するために、 `grad（3.0）`は `6`を返します。"
      ]
    },
    {
      "cell_type": "code",
      "execution_count": 0,
      "metadata": {
        "colab": {},
        "colab_type": "code",
        "id": "QDPFUG-68i-B"
      },
      "outputs": [],
      "source": [
        "def square(x):\n",
        "  return tf.multiply(x, x)\n",
        "\n",
        "grad = tfe.gradients_function(square)"
      ]
    },
    {
      "cell_type": "code",
      "execution_count": 0,
      "metadata": {
        "colab": {},
        "colab_type": "code",
        "id": "_Ow9LHre8k_3"
      },
      "outputs": [],
      "source": [
        "square(3.).numpy()"
      ]
    },
    {
      "cell_type": "code",
      "execution_count": 0,
      "metadata": {
        "colab": {},
        "colab_type": "code",
        "id": "Rg5ea0kC8nEQ"
      },
      "outputs": [],
      "source": [
        "grad(3.)[0].numpy()"
      ]
    },
    {
      "cell_type": "code",
      "execution_count": 0,
      "metadata": {
        "colab": {},
        "colab_type": "code",
        "id": "41D1LzcG87p8"
      },
      "outputs": [],
      "source": [
        "# 平方の二次導関数：\n",
        "gradgrad = tfe.gradients_function(lambda x: grad(x)[0])\n",
        "gradgrad(3.)[0].numpy()"
      ]
    },
    {
      "cell_type": "code",
      "execution_count": 0,
      "metadata": {
        "attributes": {
          "classes": [
            "py"
          ],
          "id": ""
        },
        "colab": {},
        "colab_type": "code",
        "id": "DotEGcx5qEhH"
      },
      "outputs": [],
      "source": [
        "# 3次導関数はNoneになる：\n",
        "gradgradgrad = tfe.gradients_function(lambda x: gradgrad(x)[0])\n",
        "gradgradgrad(3.)"
      ]
    },
    {
      "cell_type": "code",
      "execution_count": 0,
      "metadata": {
        "colab": {},
        "colab_type": "code",
        "id": "9DRAews99F4-"
      },
      "outputs": [],
      "source": [
        "# フロー制御：\n",
        "def abs(x):\n",
        "  return x if x > 0. else -x\n",
        "\n",
        "grad = tfe.gradients_function(abs)"
      ]
    },
    {
      "cell_type": "code",
      "execution_count": 0,
      "metadata": {
        "colab": {},
        "colab_type": "code",
        "id": "hTA1jmu_9gyB"
      },
      "outputs": [],
      "source": [
        "grad(3.)[0].numpy()"
      ]
    },
    {
      "cell_type": "code",
      "execution_count": 0,
      "metadata": {
        "colab": {},
        "colab_type": "code",
        "id": "7zs8JpKw9kir"
      },
      "outputs": [],
      "source": [
        "grad(-3.)[0].numpy()"
      ]
    },
    {
      "cell_type": "markdown",
      "metadata": {
        "colab_type": "text",
        "id": "gieGOf_DqEhK"
      },
      "source": [
        "### カスタム勾配\n",
        "\n",
        "カスタム勾配は、Eager ExecutionとGraph Executionの両方の環境で、勾配を上書きする簡単な方法です。 フォワード関数では、\n",
        "入力、出力、または中間結果に関する勾配を定義します。たとえば、逆方向パスにおいて勾配のノルムを切り取る簡単な方法は次のとおりです："
      ]
    },
    {
      "cell_type": "code",
      "execution_count": 0,
      "metadata": {
        "attributes": {
          "classes": [
            "py"
          ],
          "id": ""
        },
        "colab": {},
        "colab_type": "code",
        "id": "-OwwsWUAqEhK"
      },
      "outputs": [],
      "source": [
        "@tf.custom_gradient\n",
        "def clip_gradient_by_norm(x, norm):\n",
        "  y = tf.identity(x)\n",
        "  def grad_fn(dresult):\n",
        "    return [tf.clip_by_norm(dresult, norm), None]\n",
        "  return y, grad_fn"
      ]
    },
    {
      "cell_type": "markdown",
      "metadata": {
        "colab_type": "text",
        "id": "JPLDHkF_qEhN"
      },
      "source": [
        "カスタム勾配は、一連の演算に対して数値的に安定した勾配を提供するために共通的に使用されます。"
      ]
    },
    {
      "cell_type": "code",
      "execution_count": 0,
      "metadata": {
        "attributes": {
          "classes": [
            "py"
          ],
          "id": ""
        },
        "colab": {},
        "colab_type": "code",
        "id": "24WiLROnqEhO"
      },
      "outputs": [],
      "source": [
        "def log1pexp(x):\n",
        "  return tf.log(1 + tf.exp(x))\n",
        "grad_log1pexp = tfe.gradients_function(log1pexp)"
      ]
    },
    {
      "cell_type": "code",
      "execution_count": 0,
      "metadata": {
        "colab": {},
        "colab_type": "code",
        "id": "n8fq69r9-B-c"
      },
      "outputs": [],
      "source": [
        "# 勾配計算はx = 0のときにはうまくいきます。\n",
        "grad_log1pexp(0.)[0].numpy()"
      ]
    },
    {
      "cell_type": "code",
      "execution_count": 0,
      "metadata": {
        "colab": {},
        "colab_type": "code",
        "id": "_VFSU0mG-FSp"
      },
      "outputs": [],
      "source": [
        "# しかし、x = 100のときは数値的不安定により失敗します。\n",
        "grad_log1pexp(100.)[0].numpy()"
      ]
    },
    {
      "cell_type": "markdown",
      "metadata": {
        "colab_type": "text",
        "id": "-VcTR34rqEhQ"
      },
      "source": [
        "ここで、 `log1pexp`関数はカスタム勾配を用いて解析的に単純化することができます。\n",
        "以下の実装は、フォワードパスの間に計算された `tf.exp（x）`の値を\n",
        "再利用します—冗長な計算を排除することでより効率的になります："
      ]
    },
    {
      "cell_type": "code",
      "execution_count": 0,
      "metadata": {
        "attributes": {
          "classes": [
            "py"
          ],
          "id": ""
        },
        "colab": {},
        "colab_type": "code",
        "id": "Q7nvfx_-qEhS"
      },
      "outputs": [],
      "source": [
        "@tf.custom_gradient\n",
        "def log1pexp(x):\n",
        "  e = tf.exp(x)\n",
        "  def grad(dy):\n",
        "    return dy * (1 - 1 / (1 + e))\n",
        "  return tf.log(1 + e), grad\n",
        "\n",
        "grad_log1pexp = tfe.gradients_function(log1pexp)"
      ]
    },
    {
      "cell_type": "code",
      "execution_count": 0,
      "metadata": {
        "colab": {},
        "colab_type": "code",
        "id": "5gHPKMfl-Kge"
      },
      "outputs": [],
      "source": [
        "# 上と同様に、勾配計算はx = 0のときにはうまくいきます。\n",
        "grad_log1pexp(0.)[0].numpy()"
      ]
    },
    {
      "cell_type": "code",
      "execution_count": 0,
      "metadata": {
        "colab": {},
        "colab_type": "code",
        "id": "u38MOfz3-MDE"
      },
      "outputs": [],
      "source": [
        "# また、勾配計算はx = 100でも機能します。\n",
        "grad_log1pexp(100.)[0].numpy()"
      ]
    },
    {
      "cell_type": "markdown",
      "metadata": {
        "colab_type": "text",
        "id": "rnZXjfQzqEhV"
      },
      "source": [
        "## パフォーマンス\n",
        "\n",
        "Eager Executionの間、計算は自動的にGPUにオフロードされます。計算を実行するデバイスを指定したい場合は、\n",
        "`tf.device（ '/ gpu：0'）`ブロック（もしくはCPUを指定するブロック）で囲むことで指定できます："
      ]
    },
    {
      "cell_type": "code",
      "execution_count": 0,
      "metadata": {
        "attributes": {
          "classes": [
            "py"
          ],
          "id": ""
        },
        "colab": {},
        "colab_type": "code",
        "id": "Ac9Y64H-qEhX"
      },
      "outputs": [],
      "source": [
        "import time\n",
        "\n",
        "def measure(x, steps):\n",
        "    \n",
        "  # TensorFlowはGPUを初めて使用するときに初期化するため、時間計測対象からは除外する。\n",
        "  tf.matmul(x, x)\n",
        "  start = time.time()\n",
        "  for i in range(steps):\n",
        "    x = tf.matmul(x, x)\n",
        "    \n",
        "  # ｔｆ．ｍａｔｍｕｌは、行列乗算が完了する前に戻ることができます。\n",
        "  # （たとえば、ＣＵＤＡストリームにオペレーションをエンキューした後に戻すことができます）。\n",
        "  # 以下のx.numpy（）呼び出しは、すべてのキューに入れられたオペレーションが完了したことを確認します。\n",
        "  # （そして結果をホストメモリにコピーするため、計算時間は単純なmatmulオペレーションよりも多くのことを含む時間になります。）\n",
        "  _ = x.numpy()\n",
        "  end = time.time()\n",
        "  return end - start\n",
        "\n",
        "shape = (1000, 1000)\n",
        "steps = 200\n",
        "print(\"Time to multiply a {} matrix by itself {} times:\".format(shape, steps))\n",
        "\n",
        "# CPU上で実行するとき：\n",
        "with tf.device(\"/cpu:0\"):\n",
        "  print(\"CPU: {} secs\".format(measure(tf.random_normal(shape), steps)))\n",
        "\n",
        "# GPU上で実行するとき（GPUが利用できれば）：\n",
        "if tfe.num_gpus() > 0:\n",
        "  with tf.device(\"/gpu:0\"):\n",
        "    print(\"GPU: {} secs\".format(measure(tf.random_normal(shape), steps)))\n",
        "else:\n",
        "  print(\"GPU: not found\")"
      ]
    },
    {
      "cell_type": "markdown",
      "metadata": {
        "colab_type": "text",
        "id": "RLw3IS7UqEhe"
      },
      "source": [
        "`tf.Tensor`オブジェクトはそのオブジェクトに対するオペレーションを実行するために別のデバイスにコピーすることができます："
      ]
    },
    {
      "cell_type": "code",
      "execution_count": 0,
      "metadata": {
        "attributes": {
          "classes": [
            "py"
          ],
          "id": ""
        },
        "colab": {},
        "colab_type": "code",
        "id": "ny6LX2BVqEhf"
      },
      "outputs": [],
      "source": [
        "if tf.test.is_gpu_available():\n",
        "  x = tf.random_normal([10, 10])\n",
        "\n",
        "  x_gpu0 = x.gpu()\n",
        "  x_cpu = x.cpu()\n",
        "\n",
        "  _ = tf.matmul(x_cpu, x_cpu)    # CPU上で実行するとき\n",
        "  _ = tf.matmul(x_gpu0, x_gpu0)  # GPU:0上で実行するとき\n",
        "\n",
        "  if tfe.num_gpus() > 1:\n",
        "    x_gpu1 = x.gpu(1)\n",
        "    _ = tf.matmul(x_gpu1, x_gpu1)  # GPU:1で実行するとき"
      ]
    },
    {
      "cell_type": "markdown",
      "metadata": {
        "colab_type": "text",
        "id": "oA_qaII3-p6c"
      },
      "source": [
        "### ベンチマーク\n",
        "\n",
        "GPUでの\n",
        "[ResNet50](https://github.com/tensorflow/tensorflow/tree/master/tensorflow/contrib/eager/python/examples/resnet50)\n",
        "の学習のような、計算量の多いモデルの場合は、Eager ExecutionのパフォーマンスはGraph Executionのパフォーマンスに匹敵します。\n",
        "しかし、この2つの環境下のパフォーマンスの違いは計算量の少ないモデルではより大きくなり、小さなたくさんのオペレーションからなるモデルでホットコードパスを最適化するためにやるべきことがあります。"
      ]
    },
    {
      "cell_type": "markdown",
      "metadata": {
        "colab_type": "text",
        "id": "TjMTyFIp-sSE"
      },
      "source": [
        "## Graph Executionの実行\n",
        "\n",
        "Eager Executionは開発とデバッグをより対話的にしますが、\n",
        "TensorFlowのGraph Executionは分散学習、パフォーマンスの最適化、そしてプロダクション環境へのデプロイの観点で利点があります。\n",
        "しかし、Graph Executionのコードの記述方法、標準的なのPythonコードの書き方と異なり、デバッグがより難しく感じるかもしれません。\n",
        "\n",
        "Graph Execution形式のモデルの構築と学習のために、Pythonプログラムは最初に計算グラフを構築し、\n",
        "それからC++ベースのランタイムで実行するために`Session.run`を呼び出し、グラフを渡します。この機能の特徴は以下のとおりです：\n",
        "\n",
        "* 静的なautodiffによる自動微分\n",
        "* プラットフォームに依存しないサーバーへの簡単なデプロイ\n",
        "* グラフベースの最適化（共通的な部分式の削除、定数の畳み込みなど）\n",
        "* コンパイルとカーネルフュージョン\n",
        "* 自動分散とレプリケーション（分散システムへのノード配置）\n",
        "\n",
        "Eager Executionのコードは、Graph Executionのコードよりもデプロイが難しいです：モデルから\n",
        "計算グラフを生成するか、またはサーバ上で直接Pythonランタイムからコードを実行する必要があります。"
      ]
    },
    {
      "cell_type": "markdown",
      "metadata": {
        "colab_type": "text",
        "id": "hll3ZbE5qEhh"
      },
      "source": [
        "### 互換性のあるコードの記述\n",
        "\n",
        "Eager Execution環境で記述されたコードは、Eager Executionが有効になっていない新しいPythonセッションでおなじコードを実行するだけで\n",
        "おなじコードのままGraph Executionで実行することができます。\n",
        "\n",
        "ほとんどのTensorFlowオペレーションはEager Executionで動作しますが、注意すべき点がいくつかあります：\n",
        "\n",
        "* 入力処理にはキューの代わりに `tf.data`を使います。この方法はより高速で簡単です。\n",
        "* `tf.keras.layers`や`tf.keras.Model`のような、オブジェクト指向のレイヤーAPIを使用します—これらのAPIは変数のための明示的なストレージを持っているためです。\n",
        "* ほとんどのモデルコードは、Eager ExecutionとGraph Executionにおなじように機能しますが、例外があります。\n",
        "  （たとえば、Pythonによる制御フローで入力に基づいて演算を変更する動的モデルなど）\n",
        "* 一度`tf.enable_eager_execution`によってEager Executionが有効化されると、それを無効化することはできません。\n",
        "  Graph Executionに戻すには、新しいPythonセッションを開始する必要があります。\n",
        "\n",
        "以上が、Eager Execution *と* Graph Executionの両方のためのコードを書くためのベストプラクティスです。これによって、\n",
        "Eager Executionによる対話的な実験とデバッガビリティを享受することができ、かつGraph Executionによる分散パフォーマンスの恩恵を受けることができます。\n",
        "\n",
        "Eager Executionを用いてコードを記述、デバッグ、実験を繰り返したのちにプロダクションへのデプロイのためにモデルパスをimportします。\n",
        "モデル変数を保存および復元するには `tf.train.Checkpoint`を使います。これはEager ExecutionとGraph Executionの両環境の互換性を担保します。\n",
        "以下にEager Executionのサンプル集があります：  \n",
        "[tensorflow/contrib/eager/python/examples](https://github.com/tensorflow/tensorflow/tree/master/tensorflow/contrib/eager/python/examples)"
      ]
    },
    {
      "cell_type": "markdown",
      "metadata": {
        "colab_type": "text",
        "id": "sPoSUqmL-ts5"
      },
      "source": [
        "### Graph Execution環境でEager Executionを使う\n",
        "\n",
        "`tfe.py_func`を使ってTensorFlowGraph Execution環境でEager Executionを選択的に可能にすることができます。\n",
        "この機能は、 `tf.enable_eager_execution（）`が呼ばれていないときに使うことができます。"
      ]
    },
    {
      "cell_type": "code",
      "execution_count": 0,
      "metadata": {
        "attributes": {
          "classes": [
            "py"
          ],
          "id": ""
        },
        "colab": {},
        "colab_type": "code",
        "id": "Lks-3LB0qEhi"
      },
      "outputs": [],
      "source": [
        "def my_py_func(x):\n",
        "  x = tf.matmul(x, x)  # tfオペレーションを使用することができる\n",
        "  print(x)  # しかしEager Executionで実行される！\n",
        "  return x\n",
        "\n",
        "with tf.Session() as sess:\n",
        "  x = tf.placeholder(dtype=tf.float32)\n",
        "  # Graph Execution環境でEager Executionを呼び出す\n",
        "  pf = tfe.py_func(my_py_func, [x], tf.float32)\n",
        "\n",
        "  sess.run(pf, feed_dict={x: [[2.0]]})  # [[4.0]]"
      ]
    }
  ],
  "metadata": {
    "colab": {
      "collapsed_sections": [
        "CCQY7jpBfMur"
      ],
      "name": "eager.ipynb",
      "private_outputs": true,
      "provenance": [],
      "toc_visible": true,
      "version": "0.3.2"
    },
    "kernelspec": {
      "display_name": "Python 3",
      "language": "python",
      "name": "python3"
    }
  },
  "nbformat": 4,
  "nbformat_minor": 0
}
