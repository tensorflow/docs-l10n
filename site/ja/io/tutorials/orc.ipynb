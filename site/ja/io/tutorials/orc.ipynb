{
  "cells": [
    {
      "cell_type": "markdown",
      "metadata": {
        "id": "Tce3stUlHN0L"
      },
      "source": [
        "##### Copyright 2021 The TensorFlow Authors."
      ]
    },
    {
      "cell_type": "code",
      "execution_count": 1,
      "metadata": {
        "cellView": "form",
        "id": "tuOe1ymfHZPu"
      },
      "outputs": [],
      "source": [
        "#@title Licensed under the Apache License, Version 2.0 (the \"License\");\n",
        "# you may not use this file except in compliance with the License.\n",
        "# You may obtain a copy of the License at\n",
        "#\n",
        "# https://www.apache.org/licenses/LICENSE-2.0\n",
        "#\n",
        "# Unless required by applicable law or agreed to in writing, software\n",
        "# distributed under the License is distributed on an \"AS IS\" BASIS,\n",
        "# WITHOUT WARRANTIES OR CONDITIONS OF ANY KIND, either express or implied.\n",
        "# See the License for the specific language governing permissions and\n",
        "# limitations under the License."
      ]
    },
    {
      "cell_type": "markdown",
      "metadata": {
        "id": "qFdPvlXBOdUN"
      },
      "source": [
        "# Apache ORC リーダー"
      ]
    },
    {
      "cell_type": "markdown",
      "metadata": {
        "id": "MfBg1C5NB3X0"
      },
      "source": [
        "<table class=\"tfo-notebook-buttons\" align=\"left\">\n",
        "  <td><a target=\"_blank\" href=\"https://www.tensorflow.org/io/tutorials/orc\"><img src=\"https://www.tensorflow.org/images/tf_logo_32px.png\">TensorFlow.org で表示</a></td>\n",
        "  <td>     <a target=\"_blank\" href=\"https://colab.research.google.com/github/tensorflow/docs-l10n/blob/master/site/ja/io/tutorials/orc.ipynb\"><img src=\"https://www.tensorflow.org/images/colab_logo_32px.png\">Google Colab で実行</a>   </td>\n",
        "  <td><a target=\"_blank\" href=\"https://github.com/tensorflow/docs-l10n/blob/master/site/ja/io/tutorials/orc.ipynb\"><img src=\"https://www.tensorflow.org/images/GitHub-Mark-32px.png\">GitHub でソースを表示</a></td>\n",
        "  <td>     <a href=\"https://storage.googleapis.com/tensorflow_docs/docs-l10n/site/ja/io/tutorials/orc.ipynb\"><img src=\"https://www.tensorflow.org/images/download_logo_32px.png\">ノートブックをダウンロード</a>   </td>\n",
        "</table>"
      ]
    },
    {
      "cell_type": "markdown",
      "metadata": {
        "id": "xHxb-dlhMIzW"
      },
      "source": [
        "## 概要\n",
        "\n",
        "Apache ORC は、一般的な列型ストレージ形式です。tensorflow-io パッケージは、[Apache ORC](https://orc.apache.org/) ファイルを読み取るデフォルトの実装を提供します。"
      ]
    },
    {
      "cell_type": "markdown",
      "metadata": {
        "id": "MUXex9ctTuDB"
      },
      "source": [
        "## MNIST モデルをビルドする"
      ]
    },
    {
      "cell_type": "markdown",
      "metadata": {
        "id": "1Eh-iCRVBm0p"
      },
      "source": [
        "必要なパッケージをインストールし、ランタイムを再起動する\n"
      ]
    },
    {
      "cell_type": "code",
      "execution_count": 2,
      "metadata": {
        "id": "g7cxbf1-skn6"
      },
      "outputs": [],
      "source": [
        "!pip install tensorflow-io"
      ]
    },
    {
      "cell_type": "code",
      "execution_count": 3,
      "metadata": {
        "id": "IqR2PQG4ZaZ0"
      },
      "outputs": [],
      "source": [
        "import tensorflow as tf\n",
        "import tensorflow_io as tfio"
      ]
    },
    {
      "cell_type": "markdown",
      "metadata": {
        "id": "EyHfC3nEzseN"
      },
      "source": [
        "### ORC でサンプルデータセットファイルをダウンロードする"
      ]
    },
    {
      "cell_type": "markdown",
      "metadata": {
        "id": "ZjEeF6Fva8UO"
      },
      "source": [
        "ここで使用するデータセットは、UCI の [Iris データセット](https://archive.ics.uci.edu/ml/datasets/iris)です。データセットには、それぞれ 50 インスタンスの 3 つのクラスが含まれ、各クラスはアヤメの植物のタイプを参照します。これには、（1）がく片の長さ、（2）がく片の幅、（3）花びらの長さ、（4）花びらの幅の、4つの属性があり、最後の列にはクラスラベルが含まれています。"
      ]
    },
    {
      "cell_type": "code",
      "execution_count": 4,
      "metadata": {
        "id": "zaiXjZiXzrHs"
      },
      "outputs": [],
      "source": [
        "!curl -OL https://github.com/tensorflow/io/raw/master/tests/test_orc/iris.orc\n",
        "!ls -l iris.orc"
      ]
    },
    {
      "cell_type": "markdown",
      "metadata": {
        "id": "7DG9JTJ0-bzg"
      },
      "source": [
        "## ファイルからデータセットを作成する"
      ]
    },
    {
      "cell_type": "code",
      "execution_count": 35,
      "metadata": {
        "id": "ppFAjXAYsj-z"
      },
      "outputs": [],
      "source": [
        "dataset = tfio.IODataset.from_orc(\"iris.orc\", capacity=15).batch(1)"
      ]
    },
    {
      "cell_type": "markdown",
      "metadata": {
        "id": "4xPr3f4LVdeN"
      },
      "source": [
        "データセットを調べます。"
      ]
    },
    {
      "cell_type": "code",
      "execution_count": 42,
      "metadata": {
        "id": "9B1QUKG70Lzs"
      },
      "outputs": [],
      "source": [
        "for item in dataset.take(1):\n",
        "    print(item)\n"
      ]
    },
    {
      "cell_type": "markdown",
      "metadata": {
        "id": "03qncHJPVNK3"
      },
      "source": [
        "Iris データセットに基づく ORC データセットを使用した tf.keras モデルトレーニングのエンドツーエンドの例を見ていきましょう。"
      ]
    },
    {
      "cell_type": "markdown",
      "metadata": {
        "id": "tDkpKRMVcPfb"
      },
      "source": [
        "### データの前処理をする"
      ]
    },
    {
      "cell_type": "markdown",
      "metadata": {
        "id": "nDgkfWFRVjKz"
      },
      "source": [
        "どの列が特徴で、どの列がラベルであるかを構成します。"
      ]
    },
    {
      "cell_type": "code",
      "execution_count": 47,
      "metadata": {
        "id": "R1OYAybz07dr"
      },
      "outputs": [],
      "source": [
        "feature_cols = [\"sepal_length\", \"sepal_width\", \"petal_length\", \"petal_width\"]\n",
        "label_cols = [\"species\"]\n",
        "\n",
        "# select feature columns\n",
        "feature_dataset = tfio.IODataset.from_orc(\"iris.orc\", columns=feature_cols)\n",
        "# select label columns\n",
        "label_dataset = tfio.IODataset.from_orc(\"iris.orc\", columns=label_cols)"
      ]
    },
    {
      "cell_type": "markdown",
      "metadata": {
        "id": "GSYMP48vVvV0"
      },
      "source": [
        "モデルトレーニングのために種を浮動小数点数にマッピングする util 関数:"
      ]
    },
    {
      "cell_type": "code",
      "execution_count": 48,
      "metadata": {
        "id": "TQvuE7OgVs1q"
      },
      "outputs": [],
      "source": [
        "vocab_init = tf.lookup.KeyValueTensorInitializer(\n",
        "    keys=tf.constant([\"virginica\", \"versicolor\", \"setosa\"]),\n",
        "    values=tf.constant([0, 1, 2], dtype=tf.int64))\n",
        "vocab_table = tf.lookup.StaticVocabularyTable(\n",
        "    vocab_init,\n",
        "    num_oov_buckets=4)"
      ]
    },
    {
      "cell_type": "code",
      "execution_count": 49,
      "metadata": {
        "id": "lpf0w41iWAZ4"
      },
      "outputs": [],
      "source": [
        "label_dataset = label_dataset.map(vocab_table.lookup)\n",
        "dataset = tf.data.Dataset.zip((feature_dataset, label_dataset))\n",
        "dataset = dataset.batch(1)\n",
        "\n",
        "def pack_features_vector(features, labels):\n",
        "    \"\"\"Pack the features into a single array.\"\"\"\n",
        "    features = tf.stack(list(features), axis=1)\n",
        "    return features, labels\n",
        "\n",
        "dataset = dataset.map(pack_features_vector)"
      ]
    },
    {
      "cell_type": "markdown",
      "metadata": {
        "id": "R1Tyf3AodC2Y"
      },
      "source": [
        "## モデルをビルド、コンパイル、およびトレーニングする"
      ]
    },
    {
      "cell_type": "markdown",
      "metadata": {
        "id": "oVB9Q0B-WDn4"
      },
      "source": [
        "これで、モデルを作成してトレーニングする準備が整いました。処理したデータセットからアヤメ植物のクラスを予測するために、3 つのレイヤーの keras モデルを構築します。"
      ]
    },
    {
      "cell_type": "code",
      "execution_count": 50,
      "metadata": {
        "id": "tToy0FoOWG-9"
      },
      "outputs": [],
      "source": [
        "model = tf.keras.Sequential(\n",
        "    [\n",
        "        tf.keras.layers.Dense(\n",
        "            10, activation=tf.nn.relu, input_shape=(4,)\n",
        "        ),\n",
        "        tf.keras.layers.Dense(10, activation=tf.nn.relu),\n",
        "        tf.keras.layers.Dense(3),\n",
        "    ]\n",
        ")\n",
        "\n",
        "model.compile(optimizer=\"adam\", loss=tf.keras.losses.SparseCategoricalCrossentropy(from_logits=True), metrics=[\"accuracy\"])\n",
        "model.fit(dataset, epochs=5)"
      ]
    }
  ],
  "metadata": {
    "colab": {
      "collapsed_sections": [
        "Tce3stUlHN0L"
      ],
      "name": "orc.ipynb",
      "toc_visible": true
    },
    "kernelspec": {
      "display_name": "Python 3",
      "name": "python3"
    }
  },
  "nbformat": 4,
  "nbformat_minor": 0
}
