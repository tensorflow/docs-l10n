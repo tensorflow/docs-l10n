{
  "cells": [
    {
      "cell_type": "markdown",
      "metadata": {
        "id": "Tce3stUlHN0L"
      },
      "source": [
        "##### Copyright 2020 The TensorFlow Authors."
      ]
    },
    {
      "cell_type": "code",
      "execution_count": null,
      "metadata": {
        "cellView": "form",
        "id": "tuOe1ymfHZPu"
      },
      "outputs": [],
      "source": [
        "#@title Licensed under the Apache License, Version 2.0 (the \"License\");\n",
        "# you may not use this file except in compliance with the License.\n",
        "# You may obtain a copy of the License at\n",
        "#\n",
        "# https://www.apache.org/licenses/LICENSE-2.0\n",
        "#\n",
        "# Unless required by applicable law or agreed to in writing, software\n",
        "# distributed under the License is distributed on an \"AS IS\" BASIS,\n",
        "# WITHOUT WARRANTIES OR CONDITIONS OF ANY KIND, either express or implied.\n",
        "# See the License for the specific language governing permissions and\n",
        "# limitations under the License."
      ]
    },
    {
      "cell_type": "markdown",
      "metadata": {
        "id": "qFdPvlXBOdUN"
      },
      "source": [
        "# タイトル"
      ]
    },
    {
      "cell_type": "markdown",
      "metadata": {
        "id": "MfBg1C5NB3X0"
      },
      "source": [
        "<table class=\"tfo-notebook-buttons\" align=\"left\">\n",
        "  <td>     <a target=\"_blank\" href=\"https://www.tensorflow.org/io/tutorials/bigtable\">     <img src=\"https://www.tensorflow.org/images/tf_logo_32px.png\">     TensorFlow.org で表示</a>\n",
        "</td>\n",
        "  <td>     <a target=\"_blank\" href=\"https://colab.research.google.com/github/tensorflow/docs-l10n/blob/master/site/ja/io/tutorials/bigtable.ipynb\">     <img src=\"https://www.tensorflow.org/images/colab_logo_32px.png\">     Google Colab で実行</a>\n",
        "</td>\n",
        "  <td><a target=\"_blank\" href=\"https://github.com/tensorflow/docs-l10n/blob/master/site/ja/io/tutorials/bigtable.ipynb\"><img src=\"https://www.tensorflow.org/images/GitHub-Mark-32px.png\">GitHub でソースを表示</a></td>\n",
        "  <td><a href=\"https://storage.googleapis.com/tensorflow_docs/docs-l10n/site/ja/io/tutorials/bigtable.ipynb\"><img src=\"https://www.tensorflow.org/images/download_logo_32px.png\">ノートブックをダウンロード</a></td>\n",
        "</table>"
      ]
    },
    {
      "cell_type": "markdown",
      "metadata": {
        "id": "xHxb-dlhMIzW"
      },
      "source": [
        "## 概要\n",
        "\n",
        "このノートブックは、 `tensorflow_io.bigtable` モジュールの基本的な使用法と機能を表しています。続行する前に、これらのトピックに精通していることを確認してください。\n",
        "\n",
        "1. [GCP プロジェクトの作成](https://console.cloud.google.com/cloud-resource-manager)\n",
        "2. [Bigtable 用 Cloud SDK のインストール](https://cloud.google.com/bigtable/docs/installing-cloud-sdk)\n",
        "3. [cbt ツールの概要](https://cloud.google.com/bigtable/docs/cbt-overview)\n",
        "4. [エミュレーターの使用](https://cloud.google.com/bigtable/docs/emulator)\n",
        "\n",
        "注意: Jupyter は、シェルコマンドとして接頭辞 <code>!</code> のある行を実行し、接頭辞 `$` のある Python 変数をこれらのコマンドに補間します。"
      ]
    },
    {
      "cell_type": "markdown",
      "metadata": {
        "id": "MUXex9ctTuDB"
      },
      "source": [
        "## MNIST モデルをビルドする"
      ]
    },
    {
      "cell_type": "code",
      "execution_count": null,
      "metadata": {
        "id": "eOkl2R_V3wPW"
      },
      "outputs": [],
      "source": [
        "!pip install tensorflow-io"
      ]
    },
    {
      "cell_type": "markdown",
      "metadata": {
        "id": "Eh9oG2-2bwMn"
      },
      "source": [
        "**注**：以下のセルを実行すると、Google Cloud にログインするように求められます。"
      ]
    },
    {
      "cell_type": "code",
      "execution_count": null,
      "metadata": {
        "id": "-ZPPv_W9diZH"
      },
      "outputs": [],
      "source": [
        "!mkdir /tools/google-cloud-sdk/.install\n",
        "!gcloud --quiet components install beta cbt bigtable\n",
        "!gcloud init"
      ]
    },
    {
      "cell_type": "markdown",
      "metadata": {
        "id": "ACA47DqRcgt6"
      },
      "source": [
        "この例では、bigtable エミュレーターを使用しています。 bigtable インスタンスを設定して値を入力している場合は、これらの手順をスキップして、[クイックスタート] セクションに直接進んでください。"
      ]
    },
    {
      "cell_type": "markdown",
      "metadata": {
        "id": "gMaPTsDzc5am"
      },
      "source": [
        "バックグラウンドでエミュレーターを起動します。"
      ]
    },
    {
      "cell_type": "code",
      "execution_count": null,
      "metadata": {
        "id": "6-tVA2lDg_H_"
      },
      "outputs": [],
      "source": [
        "import os\n",
        "import subprocess\n",
        "_emulator = subprocess.Popen(['/tools/google-cloud-sdk/bin/gcloud', 'beta', 'emulators', 'bigtable', 'start', '--host-port=127.0.0.1:8086'],\n",
        "                                      stdout=subprocess.DEVNULL,\n",
        "                                      stderr=subprocess.DEVNULL, bufsize=0)"
      ]
    },
    {
      "cell_type": "markdown",
      "metadata": {
        "id": "zec076IBc9Qi"
      },
      "source": [
        "テーブルを作成します"
      ]
    },
    {
      "cell_type": "code",
      "execution_count": null,
      "metadata": {
        "id": "B005n7wogepa"
      },
      "outputs": [],
      "source": [
        "%env BIGTABLE_EMULATOR_HOST=127.0.0.1:8086\n",
        "!cbt -project \"test-project\" -instance \"test-instance\" createtable t1 families=cf1 splits=row-a,row-h,row-p,row-z\n",
        "!cbt -project \"test-project\" -instance \"test-instance\" ls\n"
      ]
    },
    {
      "cell_type": "markdown",
      "metadata": {
        "id": "rfHIXohSdEuk"
      },
      "source": [
        "テーブルに値を入力します"
      ]
    },
    {
      "cell_type": "code",
      "execution_count": null,
      "metadata": {
        "id": "84jqZk8JmZ9w"
      },
      "outputs": [],
      "source": [
        "!cbt -project \"test-project\" -instance \"test-instance\" set t1 row-a cf1:c1=A\n",
        "!cbt -project \"test-project\" -instance \"test-instance\" set t1 row-b cf1:c1=B\n",
        "!cbt -project \"test-project\" -instance \"test-instance\" set t1 row-c cf1:c1=C\n",
        "!cbt -project \"test-project\" -instance \"test-instance\" set t1 row-d cf1:c1=D\n",
        "!cbt -project \"test-project\" -instance \"test-instance\" set t1 row-e cf1:c1=E\n",
        "!cbt -project \"test-project\" -instance \"test-instance\" set t1 row-f cf1:c1=F\n",
        "!cbt -project \"test-project\" -instance \"test-instance\" set t1 row-g cf1:c1=G\n",
        "!cbt -project \"test-project\" -instance \"test-instance\" set t1 row-h cf1:c1=H\n",
        "!cbt -project \"test-project\" -instance \"test-instance\" set t1 row-i cf1:c1=I\n",
        "!cbt -project \"test-project\" -instance \"test-instance\" set t1 row-j cf1:c1=J\n",
        "!cbt -project \"test-project\" -instance \"test-instance\" set t1 row-k cf1:c1=K\n",
        "!cbt -project \"test-project\" -instance \"test-instance\" set t1 row-l cf1:c1=L\n",
        "!cbt -project \"test-project\" -instance \"test-instance\" set t1 row-m cf1:c1=M\n",
        "!cbt -project \"test-project\" -instance \"test-instance\" set t1 row-n cf1:c1=N\n",
        "!cbt -project \"test-project\" -instance \"test-instance\" set t1 row-o cf1:c1=O\n",
        "!cbt -project \"test-project\" -instance \"test-instance\" set t1 row-p cf1:c1=P\n",
        "!cbt -project \"test-project\" -instance \"test-instance\" set t1 row-q cf1:c1=Q\n",
        "!cbt -project \"test-project\" -instance \"test-instance\" set t1 row-r cf1:c1=R\n",
        "!cbt -project \"test-project\" -instance \"test-instance\" set t1 row-s cf1:c1=S\n",
        "!cbt -project \"test-project\" -instance \"test-instance\" set t1 row-t cf1:c1=T\n",
        "!cbt -project \"test-project\" -instance \"test-instance\" set t1 row-u cf1:c1=U\n",
        "!cbt -project \"test-project\" -instance \"test-instance\" set t1 row-v cf1:c1=V\n",
        "!cbt -project \"test-project\" -instance \"test-instance\" set t1 row-w cf1:c1=W\n",
        "!cbt -project \"test-project\" -instance \"test-instance\" set t1 row-x cf1:c1=X\n",
        "!cbt -project \"test-project\" -instance \"test-instance\" set t1 row-y cf1:c1=Y\n",
        "!cbt -project \"test-project\" -instance \"test-instance\" set t1 row-z cf1:c1=Z"
      ]
    },
    {
      "cell_type": "code",
      "execution_count": null,
      "metadata": {
        "id": "IqR2PQG4ZaZ0"
      },
      "outputs": [],
      "source": [
        "import tensorflow as tf\n",
        "import numpy as np\n",
        "import tensorflow_io as tfio\n",
        "import random\n",
        "\n",
        "random.seed(10)"
      ]
    },
    {
      "cell_type": "markdown",
      "metadata": {
        "id": "K1u49nEJYXwD"
      },
      "source": [
        "## クイックスタート"
      ]
    },
    {
      "cell_type": "markdown",
      "metadata": {
        "id": "JzikHwm3jEns"
      },
      "source": [
        "まず、読み取りたいクライアントとテーブルを作成する必要があります。"
      ]
    },
    {
      "cell_type": "code",
      "execution_count": null,
      "metadata": {
        "id": "iKaxP3ZGTDOd"
      },
      "outputs": [],
      "source": [
        "# If using your bigtable instance replace the project_id, instance_id \n",
        "# and the name of the table with suitable values.\n",
        "\n",
        "client = tfio.bigtable.BigtableClient(project_id=\"test-project\", instance_id=\"test-instance\")\n",
        "train_table = client.get_table(\"t1\")"
      ]
    },
    {
      "cell_type": "markdown",
      "metadata": {
        "id": "o2O_TOoSjvFi"
      },
      "source": [
        "素晴らしい！これで、テーブルからデータを読み取る Tensorflow データセットを作成できます。\n",
        "\n",
        "これを行うには、読み取りたいデータのタイプ、 `column_family:column_name` の形式の列名のリスト、および読み取りたい row_set を指定する必要があります。\n",
        "\n",
        "row_set を作成するには、 `tensorflow.bigtable.row_set` と　`tensorflow.bigtable.row_range` モジュールで提供されているユーティリティメソッドを使用します。ここで、すべての行を含む row_set が作成されます。\n",
        "\n",
        "その bigtable は、値が配置された順序ではなく、字句順で値を読み取ることに注意してください。行にはランダムな行キーが与えられているため、シャッフルされます。"
      ]
    },
    {
      "cell_type": "code",
      "execution_count": null,
      "metadata": {
        "id": "KlEnassJjivK"
      },
      "outputs": [],
      "source": [
        "row_set = tfio.bigtable.row_set.from_rows_or_ranges(tfio.bigtable.row_range.infinite())\n",
        "\n",
        "train_dataset = train_table.read_rows([\"cf1:c1\"],row_set, output_type=tf.string)\n",
        "\n",
        "for tensor in train_dataset:\n",
        "  print(tensor)"
      ]
    },
    {
      "cell_type": "markdown",
      "metadata": {
        "id": "TacgaIGAkDNQ"
      },
      "source": [
        "これだけです！おめでとうございます！"
      ]
    },
    {
      "cell_type": "markdown",
      "metadata": {
        "id": "yBUdy_20lA69"
      },
      "source": [
        "## 並列読み取り\n",
        "\n",
        "データセットは、Bigtable からの並列読み取りをサポートしています。これを行うには、 `parallel_read_rows` メソッドを使用し、引数として `num_parallel_calls` を指定します。このメソッドが呼び出されると、作業は最初に SampleRowKeys に基づいてワーカー間で分割されます。\n",
        "\n",
        "**注**: 並行して読み取る場合、行は特定の順序で読み取られないことに注意してください。"
      ]
    },
    {
      "cell_type": "code",
      "execution_count": null,
      "metadata": {
        "id": "7I4qWtE_lCZq"
      },
      "outputs": [],
      "source": [
        "for tensor in train_table.parallel_read_rows([\"cf1:c1\"],row_set=row_set, num_parallel_calls=2):\n",
        "  print(tensor)"
      ]
    },
    {
      "cell_type": "markdown",
      "metadata": {
        "id": "SVvpg_wbnhX3"
      },
      "source": [
        "## 特定の row_keys を読み取る\n",
        "\n",
        "Bigtable からデータを読み取るには、行のセット、範囲、またはそれらの組み合わせを指定できます。\n",
        "\n",
        "`read_rows` メソッドは、RowSet を提供することを想定しています。次のように、特定の行キーまたは RowRanges から RowSet を作成できます。"
      ]
    },
    {
      "cell_type": "code",
      "execution_count": null,
      "metadata": {
        "id": "Xu7L_YxClxFt"
      },
      "outputs": [],
      "source": [
        "row_range_below_300 = tfio.bigtable.row_range.right_open(\"row000\", \"row300\")\n",
        "\n",
        "my_row_set = tfio.bigtable.row_set.from_rows_or_ranges(row_range_below_300, \"row585\", \"row832\")\n",
        "print(my_row_set)"
      ]
    },
    {
      "cell_type": "markdown",
      "metadata": {
        "id": "IfuTAF9Woxog"
      },
      "source": [
        "このような row_set には、一連の行 `[row000, row300)` と行 row585 および row832 が含まれます。\n",
        "\n",
        "無限の範囲、空の範囲、またはプレフィックスから row_set を作成することもできます。 row_range と交差させることもできます。"
      ]
    },
    {
      "cell_type": "code",
      "execution_count": null,
      "metadata": {
        "id": "IiAHxmmOow6R"
      },
      "outputs": [],
      "source": [
        "my_truncated_row_set = tfio.bigtable.row_set.intersect(my_row_set,\n",
        "                                         tfio.bigtable.row_range.right_open(\"row200\", \"row700\"))\n",
        "print(my_truncated_row_set)"
      ]
    },
    {
      "cell_type": "markdown",
      "metadata": {
        "id": "Z_t6FlohrkYk"
      },
      "source": [
        "## 値のバージョンを指定する\n",
        "\n",
        "Bigtable を使用すると、タイムスタンプが異なる 1 つのセルに多くの値を保持できます。バージョンフィルターを使用して、選択するバージョンを指定できます。ただし、tensorflow.bigtable コネクタを使用して取得できるのは 2 次元ベクトルのみであるため、 `latest` フィルターは常にユーザー指定のバージョンフィルターに追加されます。つまり、1 つのセルに複数の値が提供されたフィルターを通過する場合は、新しい方の値が使用されます。\n",
        "\n",
        "最新の値を渡す `latest` フィルターを使用するか、時間範囲を指定することができます。時間範囲は、Python の日時オブジェクトとして、またはエポックからの秒またはマイクロ秒を表す数値として指定できます。"
      ]
    },
    {
      "cell_type": "code",
      "execution_count": null,
      "metadata": {
        "id": "w21daM9IrIHa"
      },
      "outputs": [],
      "source": [
        "from datetime import datetime\n",
        "\n",
        "start = datetime(2020, 10, 10, 12, 0, 0)\n",
        "end = datetime(2100, 10, 10, 13, 0, 0)\n",
        "from_datetime = tfio.bigtable.filters.timestamp_range(start, end)\n",
        "from_posix_timestamp = tfio.bigtable.filters.timestamp_range(int(start.timestamp()), int(end.timestamp()))\n",
        "print(\"from_datetime:\", from_datetime)\n",
        "\n",
        "print(\"from_posix_timestamp:\", from_posix_timestamp)"
      ]
    }
  ],
  "metadata": {
    "colab": {
      "collapsed_sections": [
        "Tce3stUlHN0L"
      ],
      "name": "bigtable.ipynb",
      "toc_visible": true
    },
    "kernelspec": {
      "display_name": "Python 3",
      "name": "python3"
    }
  },
  "nbformat": 4,
  "nbformat_minor": 0
}
