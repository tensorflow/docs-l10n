{
  "cells": [
    {
      "cell_type": "markdown",
      "metadata": {
        "id": "JfOIB1KdkbYW"
      },
      "source": [
        "##### Copyright 2020 The TensorFlow Authors."
      ]
    },
    {
      "cell_type": "code",
      "execution_count": null,
      "metadata": {
        "cellView": "form",
        "id": "Ojb0aXCmBgo7"
      },
      "outputs": [],
      "source": [
        "#@title Licensed under the Apache License, Version 2.0 (the \"License\");\n",
        "# you may not use this file except in compliance with the License.\n",
        "# You may obtain a copy of the License at\n",
        "#\n",
        "# https://www.apache.org/licenses/LICENSE-2.0\n",
        "#\n",
        "# Unless required by applicable law or agreed to in writing, software\n",
        "# distributed under the License is distributed on an \"AS IS\" BASIS,\n",
        "# WITHOUT WARRANTIES OR CONDITIONS OF ANY KIND, either express or implied.\n",
        "# See the License for the specific language governing permissions and\n",
        "# limitations under the License."
      ]
    },
    {
      "cell_type": "markdown",
      "metadata": {
        "id": "M9Y4JZ0ZGoE4"
      },
      "source": [
        "# TensorFlow Lite の超解像技術"
      ]
    },
    {
      "cell_type": "markdown",
      "metadata": {
        "id": "q3FoFSLBjIYK"
      },
      "source": [
        "<table class=\"tfo-notebook-buttons\" align=\"left\">\n",
        "  <td>     <a target=\"_blank\" href=\"https://www.tensorflow.org/lite/examples/super_resolution/overview\">     <img src=\"https://www.tensorflow.org/images/tf_logo_32px.png\">     TensorFlow.org で表示</a>\n",
        "</td>\n",
        "  <td>     <a target=\"_blank\" href=\"https://colab.research.google.com/github/tensorflow/docs-l10n/blob/master/site/ja/lite/models/super_resolution/overview.ipynb\">     <img src=\"https://www.tensorflow.org/images/colab_logo_32px.png\">     Google Colab で実行</a>\n",
        "</td>\n",
        "  <td><a target=\"_blank\" href=\"https://github.com/tensorflow/docs-l10n/blob/master/site/ja/lite/models/super_resolution/overview.ipynb\">     <img src=\"https://www.tensorflow.org/images/GitHub-Mark-32px.png\">     GitHubでソースを表示</a></td>\n",
        "  <td><a href=\"https://storage.googleapis.com/tensorflow_docs/docs-l10n/site/ja/lite/models/super_resolution/overview.ipynb\"><img src=\"https://www.tensorflow.org/images/download_logo_32px.png\">ノートブックをダウンロード</a></td>\n",
        "  <td>     <a href=\"https://tfhub.dev/captain-pool/esrgan-tf2/1\"><img src=\"https://www.tensorflow.org/images/hub_logo_32px.png\">TF Hub モデルを参照</a>\n",
        "</td>\n",
        "</table>"
      ]
    },
    {
      "cell_type": "markdown",
      "metadata": {
        "id": "-uF3N4BbaMvA"
      },
      "source": [
        "## 概要"
      ]
    },
    {
      "cell_type": "markdown",
      "metadata": {
        "id": "isbXET4vVHfu"
      },
      "source": [
        "一般的に、低解像度の画像から高解像度 (HR) の画像を回復する作業は、Single Image Super Resolution (SISR) と呼ばれます。\n",
        "\n",
        "ここで使用されるモデルは ESRGAN ([ESRGAN: Enhanced Super-Resolution Generative Adversarial Networks](https://arxiv.org/abs/1809.00219)) です。TensorFlow Lite を使用して、あらかじめトレーニングされたモデルで推論を実行します。\n",
        "\n",
        "TFLite モデルは、TF ハブでホスティングされているこの[実装](https://tfhub.dev/captain-pool/esrgan-tf2/1)から変換されます。変換されたモデルは、50 x 50 の低解像度画像を 200 x 200 (倍率 4 倍) の高解像度画像にアップサンプリングします。別の入力サイズまたは倍率を使用する場合は、元のモデルを再変換するか、再トレーニングする必要があります。"
      ]
    },
    {
      "cell_type": "markdown",
      "metadata": {
        "id": "2dQlTqiffuoU"
      },
      "source": [
        "## MNIST モデルをビルドする"
      ]
    },
    {
      "cell_type": "markdown",
      "metadata": {
        "id": "qKyMtsGqu3zH"
      },
      "source": [
        "まず、必要なライブラリをインストールします。"
      ]
    },
    {
      "cell_type": "code",
      "execution_count": null,
      "metadata": {
        "id": "7YTT1Rxsw3A9"
      },
      "outputs": [],
      "source": [
        "!pip install matplotlib tensorflow tensorflow-hub"
      ]
    },
    {
      "cell_type": "markdown",
      "metadata": {
        "id": "Clz5Kl97FswD"
      },
      "source": [
        "依存関係をインポートします。"
      ]
    },
    {
      "cell_type": "code",
      "execution_count": null,
      "metadata": {
        "id": "2xh1kvGEBjuP"
      },
      "outputs": [],
      "source": [
        "import tensorflow as tf\n",
        "import tensorflow_hub as hub\n",
        "import matplotlib.pyplot as plt\n",
        "print(tf.__version__)"
      ]
    },
    {
      "cell_type": "markdown",
      "metadata": {
        "id": "i5miVfL4kxTA"
      },
      "source": [
        "ESRGAN モデルをダウンロードして変換します。"
      ]
    },
    {
      "cell_type": "code",
      "execution_count": null,
      "metadata": {
        "id": "X5PvXIXRwvHj"
      },
      "outputs": [],
      "source": [
        "model = hub.load(\"https://tfhub.dev/captain-pool/esrgan-tf2/1\")\n",
        "concrete_func = model.signatures[tf.saved_model.DEFAULT_SERVING_SIGNATURE_DEF_KEY]\n",
        "\n",
        "@tf.function(input_signature=[tf.TensorSpec(shape=[1, 50, 50, 3], dtype=tf.float32)])\n",
        "def f(input):\n",
        "  return concrete_func(input);\n",
        "\n",
        "converter = tf.lite.TFLiteConverter.from_concrete_functions([f.get_concrete_function()], model)\n",
        "converter.optimizations = [tf.lite.Optimize.DEFAULT]\n",
        "tflite_model = converter.convert()\n",
        "\n",
        "# Save the TF Lite model.\n",
        "with tf.io.gfile.GFile('ESRGAN.tflite', 'wb') as f:\n",
        "  f.write(tflite_model)\n",
        "\n",
        "esrgan_model_path = './ESRGAN.tflite'"
      ]
    },
    {
      "cell_type": "markdown",
      "metadata": {
        "id": "jH5-xPkyUEqt"
      },
      "source": [
        "テスト画像 (昆虫の頭) をダウンロードします。"
      ]
    },
    {
      "cell_type": "code",
      "execution_count": null,
      "metadata": {
        "id": "suWiStTWgK6e"
      },
      "outputs": [],
      "source": [
        "test_img_path = tf.keras.utils.get_file('lr.jpg', 'https://raw.githubusercontent.com/tensorflow/examples/master/lite/examples/super_resolution/android/app/src/main/assets/lr-1.jpg')"
      ]
    },
    {
      "cell_type": "markdown",
      "metadata": {
        "id": "rgQ4qRuFNpyW"
      },
      "source": [
        "## TensorFlow Lite で超解像度画像を生成する"
      ]
    },
    {
      "cell_type": "code",
      "execution_count": null,
      "metadata": {
        "id": "J9FV4btf02-2"
      },
      "outputs": [],
      "source": [
        "lr = tf.io.read_file(test_img_path)\n",
        "lr = tf.image.decode_jpeg(lr)\n",
        "lr = tf.expand_dims(lr, axis=0)\n",
        "lr = tf.cast(lr, tf.float32)\n",
        "\n",
        "# Load TFLite model and allocate tensors.\n",
        "interpreter = tf.lite.Interpreter(model_path=esrgan_model_path)\n",
        "interpreter.allocate_tensors()\n",
        "\n",
        "# Get input and output tensors.\n",
        "input_details = interpreter.get_input_details()\n",
        "output_details = interpreter.get_output_details()\n",
        "\n",
        "# Run the model\n",
        "interpreter.set_tensor(input_details[0]['index'], lr)\n",
        "interpreter.invoke()\n",
        "\n",
        "# Extract the output and postprocess it\n",
        "output_data = interpreter.get_tensor(output_details[0]['index'])\n",
        "sr = tf.squeeze(output_data, axis=0)\n",
        "sr = tf.clip_by_value(sr, 0, 255)\n",
        "sr = tf.round(sr)\n",
        "sr = tf.cast(sr, tf.uint8)"
      ]
    },
    {
      "cell_type": "markdown",
      "metadata": {
        "id": "EwddQrDUNQGO"
      },
      "source": [
        "## 結果を視覚化する"
      ]
    },
    {
      "cell_type": "code",
      "execution_count": null,
      "metadata": {
        "id": "aasKuozt1gNd"
      },
      "outputs": [],
      "source": [
        "lr = tf.cast(tf.squeeze(lr, axis=0), tf.uint8)\n",
        "plt.figure(figsize = (1, 1))\n",
        "plt.title('LR')\n",
        "plt.imshow(lr.numpy());\n",
        "\n",
        "plt.figure(figsize=(10, 4))\n",
        "plt.subplot(1, 2, 1)        \n",
        "plt.title(f'ESRGAN (x4)')\n",
        "plt.imshow(sr.numpy());\n",
        "\n",
        "bicubic = tf.image.resize(lr, [200, 200], tf.image.ResizeMethod.BICUBIC)\n",
        "bicubic = tf.cast(bicubic, tf.uint8)\n",
        "plt.subplot(1, 2, 2)   \n",
        "plt.title('Bicubic')\n",
        "plt.imshow(bicubic.numpy());"
      ]
    },
    {
      "cell_type": "markdown",
      "metadata": {
        "id": "0kb-fkogObjq"
      },
      "source": [
        "## パフォーマンスベンチマーク"
      ]
    },
    {
      "cell_type": "markdown",
      "metadata": {
        "id": "tNzdgpqTy5P3"
      },
      "source": [
        "パフォーマンスベンチマークの数値は、[ここで説明する](https://www.tensorflow.org/lite/performance/benchmarks)ツールで生成されます。\n",
        "\n",
        "<table>\n",
        "  <thead>\n",
        "    <tr>\n",
        "      <th>モデル名</th>\n",
        "      <th>モデルサイズ</th>\n",
        "      <th>デバイス</th>\n",
        "      <th>CPU</th>\n",
        "      <th>GPU</th>\n",
        "    </tr>\n",
        "  </thead>\n",
        "  <tr>\n",
        "    <td rowspan=\"3\">       super resolution (ESRGAN)</td>\n",
        "    <td rowspan=\"3\">       4.8 Mb</td>\n",
        "    <td>Pixel 3</td>\n",
        "    <td>586.8ms*</td>\n",
        "      <td>128.6ms</td>\n",
        "  </tr>\n",
        "  <tr>\n",
        "     <td>Pixel 4</td>\n",
        "    <td>385.1ms*</td>\n",
        "      <td>130.3ms</td>\n",
        "  </tr>\n",
        "</table>\n",
        "\n",
        "**{nbsp}4 スレッド使用*"
      ]
    }
  ],
  "metadata": {
    "colab": {
      "collapsed_sections": [],
      "name": "overview.ipynb",
      "toc_visible": true
    },
    "kernelspec": {
      "display_name": "Python 3",
      "name": "python3"
    }
  },
  "nbformat": 4,
  "nbformat_minor": 0
}
