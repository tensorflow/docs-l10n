{
  "cells": [
    {
      "cell_type": "markdown",
      "metadata": {
        "id": "g_nWetWWd_ns"
      },
      "source": [
        "##### Copyright 2021 The TensorFlow Authors."
      ]
    },
    {
      "cell_type": "code",
      "execution_count": null,
      "metadata": {
        "cellView": "form",
        "id": "2pHVBk_seED1"
      },
      "outputs": [],
      "source": [
        "#@title Licensed under the Apache License, Version 2.0 (the \"License\");\n",
        "# you may not use this file except in compliance with the License.\n",
        "# You may obtain a copy of the License at\n",
        "#\n",
        "# https://www.apache.org/licenses/LICENSE-2.0\n",
        "#\n",
        "# Unless required by applicable law or agreed to in writing, software\n",
        "# distributed under the License is distributed on an \"AS IS\" BASIS,\n",
        "# WITHOUT WARRANTIES OR CONDITIONS OF ANY KIND, either express or implied.\n",
        "# See the License for the specific language governing permissions and\n",
        "# limitations under the License."
      ]
    },
    {
      "cell_type": "markdown",
      "metadata": {
        "id": "M7vSdG6sAIQn"
      },
      "source": [
        "# TFLite オーサリングツール"
      ]
    },
    {
      "cell_type": "markdown",
      "metadata": {
        "id": "fwc5GKHBASdc"
      },
      "source": [
        "<table class=\"tfo-notebook-buttons\" align=\"left\">\n",
        "  <td>     <a target=\"_blank\" href=\"https://www.tensorflow.org/lite/guide/authoring\">     <img src=\"https://www.tensorflow.org/images/tf_logo_32px.png\">     TensorFlow.org で表示</a>\n",
        "</td>\n",
        "  <td>     <a target=\"_blank\" href=\"https://colab.research.google.com/github/tensorflow/docs-l10n/blob/master/site/ja/lite/guide/authoring.ipynb\"><img src=\"https://www.tensorflow.org/images/colab_logo_32px.png\">Google Colab で実行</a>\n",
        "</td>\n",
        "  <td><a target=\"_blank\" href=\"https://github.com/tensorflow/docs-l10n/blob/master/site/ja/lite/guide/authoring.ipynb\">     <img src=\"https://www.tensorflow.org/images/GitHub-Mark-32px.png\">     GitHubでソースを表示</a></td>\n",
        "  <td><a href=\"https://storage.googleapis.com/tensorflow_docs/docs-l10n/site/ja/lite/guide/authoring.ipynb\"><img src=\"https://www.tensorflow.org/images/download_logo_32px.png\">ノートブックをダウンロード</a></td>\n",
        "</table>"
      ]
    },
    {
      "cell_type": "markdown",
      "metadata": {
        "id": "9ee074e4"
      },
      "source": [
        "TensorFlow Lite Authoring API を使用すると、TensorFlow Lite と互換性がある `tf.function` モデルを管理できます。\n"
      ]
    },
    {
      "cell_type": "markdown",
      "metadata": {
        "id": "UaWdLA3fQDK2"
      },
      "source": [
        "## 設定"
      ]
    },
    {
      "cell_type": "code",
      "execution_count": null,
      "metadata": {
        "id": "DWjLcy2CvgxH"
      },
      "outputs": [],
      "source": [
        "import tensorflow as tf"
      ]
    },
    {
      "cell_type": "markdown",
      "metadata": {
        "id": "CmkXJRDj5hTi"
      },
      "source": [
        "## TensorFlow と TensorFlow Lite との互換性の問題\n",
        "\n",
        "デバイスで TF モデルを使用する場合は、そのモデルを TFLite モデルに変換し、TFLite インタープリタから TFLite モデルを使用する必要があります。TFLite ビルトイン op セットによって TensorFlow op がサポートされていないと、変換中に互換性エラーが発生する可能性があります。\n",
        "\n",
        "このような問題は厄介です。モデルのオーサリング時のように早い段階で検出するには、どうすれば良いでしょうか。\n",
        "\n",
        "次のコードは、`converter.convert()` 呼び出し時に失敗します。\n"
      ]
    },
    {
      "cell_type": "code",
      "execution_count": null,
      "metadata": {
        "id": "LHKqKFm5OvyQ"
      },
      "outputs": [],
      "source": [
        "@tf.function(input_signature=[\n",
        "    tf.TensorSpec(shape=[None], dtype=tf.float32)\n",
        "])\n",
        "def f(x):\n",
        "  return tf.cosh(x)\n",
        "\n",
        "# Evaluate the tf.function\n",
        "result = f(tf.constant([0.0]))\n",
        "print (f\"result = {result}\")"
      ]
    },
    {
      "cell_type": "code",
      "execution_count": null,
      "metadata": {
        "id": "BS5bOoD50zaU"
      },
      "outputs": [],
      "source": [
        "# Convert the tf.function\n",
        "converter = tf.lite.TFLiteConverter.from_concrete_functions(\n",
        "    [f.get_concrete_function()], f)\n",
        "try:\n",
        "  fb_model = converter.convert()\n",
        "except Exception as e:\n",
        "  print(f\"Got an exception: {e}\")"
      ]
    },
    {
      "cell_type": "markdown",
      "metadata": {
        "id": "eLU0Y9V8g_Wk"
      },
      "source": [
        "## シンプルなターゲット認識オーサリングの使用方法\n",
        "\n",
        "モデルオーサリング時の TensorFlow Lite の互換性の問題を検出するために、Authoring API が導入されました。\n",
        "\n",
        "必要な手順は、`@tf.lite.experimental.authoring.compatible` デコレータを追加し、`tf.function` モデルをラップして、TFLite の互換性を確認することだけです。\n",
        "\n",
        "この後、モデルを評価するときに、互換性が自動的にチェックされます。"
      ]
    },
    {
      "cell_type": "code",
      "execution_count": null,
      "metadata": {
        "id": "zVSh6VCDhbPz"
      },
      "outputs": [],
      "source": [
        "@tf.lite.experimental.authoring.compatible\n",
        "@tf.function(input_signature=[\n",
        "    tf.TensorSpec(shape=[None], dtype=tf.float32)\n",
        "])\n",
        "def f(x):\n",
        "  return tf.cosh(x)\n",
        "\n",
        "# Evaluate the tf.function\n",
        "result = f(tf.constant([0.0]))\n",
        "print (f\"result = {result}\")\n"
      ]
    },
    {
      "cell_type": "markdown",
      "metadata": {
        "id": "ZWkBEqv-eUwV"
      },
      "source": [
        "TensorFlow Lite の互換性の問題が検出された場合、`COMPATIBILITY WARNING` または `COMPATIBILITY ERROR` と、問題がある処理の正確な場所が表示されます。この例では、tf.function モデルの `tf.Cosh` 処理の場所が表示されています。\n",
        "\n",
        "`<function_name>.get_compatibility_log()` メソッドを使用して、互換性ログを確認することもできます。"
      ]
    },
    {
      "cell_type": "code",
      "execution_count": null,
      "metadata": {
        "id": "irwO2qdv2RPA"
      },
      "outputs": [],
      "source": [
        "compatibility_log = '\\n'.join(f.get_compatibility_log())\n",
        "print (f\"compatibility_log = {compatibility_log}\")"
      ]
    },
    {
      "cell_type": "markdown",
      "metadata": {
        "id": "-LTVE00CiqpS"
      },
      "source": [
        "## 非互換性の場合に例外を発生させる\n",
        "\n",
        "`@tf.lite.experimental.authoring.compatible` デコレータのオプションを指定できます。`raise_exception` オプションを使用すると、デコレートされたモデルを評価するときに、例外が発生します。"
      ]
    },
    {
      "cell_type": "code",
      "execution_count": null,
      "metadata": {
        "id": "YfPfOJm5jST4"
      },
      "outputs": [],
      "source": [
        "@tf.lite.experimental.authoring.compatible(raise_exception=True)\n",
        "@tf.function(input_signature=[\n",
        "    tf.TensorSpec(shape=[None], dtype=tf.float32)\n",
        "])\n",
        "def f(x):\n",
        "  return tf.cosh(x)\n",
        "\n",
        "# Evaluate the tf.function\n",
        "try:\n",
        "  result = f(tf.constant([0.0]))\n",
        "  print (f\"result = {result}\")\n",
        "except Exception as e:\n",
        "  print(f\"Got an exception: {e}\")"
      ]
    },
    {
      "cell_type": "markdown",
      "metadata": {
        "id": "WXywHrR0Xjop"
      },
      "source": [
        "## \"Select TF ops\" の使用を指定する\n",
        "\n",
        "[Select TF ops](https://www.tensorflow.org/lite/guide/ops_select) の使用をすでに認識している場合は、`converter_target_spec` を設定して、これを Authoring API に命令できます。これは、[tf.lite.TFLiteConverter](https://www.tensorflow.org/api_docs/python/tf/lite/TFLiteConverter) API で使用する [tf.lite.TargetSpec](https://www.tensorflow.org/api_docs/python/tf/lite/TargetSpec) オブジェクトと同じです。\n"
      ]
    },
    {
      "cell_type": "code",
      "execution_count": null,
      "metadata": {
        "id": "B483OwYQYG8A"
      },
      "outputs": [],
      "source": [
        "target_spec = tf.lite.TargetSpec()\n",
        "target_spec.supported_ops = [\n",
        "    tf.lite.OpsSet.TFLITE_BUILTINS,\n",
        "    tf.lite.OpsSet.SELECT_TF_OPS,\n",
        "]\n",
        "@tf.lite.experimental.authoring.compatible(converter_target_spec=target_spec, raise_exception=True)\n",
        "@tf.function(input_signature=[\n",
        "    tf.TensorSpec(shape=[None], dtype=tf.float32)\n",
        "])\n",
        "def f(x):\n",
        "  return tf.cosh(x)\n",
        "\n",
        "# Evaluate the tf.function\n",
        "result = f(tf.constant([0.0]))\n",
        "print (f\"result = {result}\")\n"
      ]
    },
    {
      "cell_type": "markdown",
      "metadata": {
        "id": "mtept13-C6uD"
      },
      "source": [
        "## GPU 互換性の確認\n",
        "\n",
        "モデルが TensorFlow Lite の [GPU デリゲート](https://www.tensorflow.org/lite/performance/gpu)と互換性があることを保証するには、[tf.lite.TargetSpec](https://www.tensorflow.org/api_docs/python/tf/lite/TargetSpec) の `experimental_supported_backends` を設定します。\n",
        "\n",
        "次の例は、モデルの GPU デリゲートの互換性を保証する方法を示します。このモデルでは、tf.slice オペレータとサポートされていない tf.cosh オペレータが使用されているため、互換性の問題があります。2 件の`互換性の警告`とその場所に関する情報が表示されます。"
      ]
    },
    {
      "cell_type": "code",
      "execution_count": null,
      "metadata": {
        "id": "_DzHV3KVC0T0"
      },
      "outputs": [],
      "source": [
        "target_spec = tf.lite.TargetSpec()\n",
        "target_spec.supported_ops = [\n",
        "    tf.lite.OpsSet.TFLITE_BUILTINS,\n",
        "    tf.lite.OpsSet.SELECT_TF_OPS,\n",
        "]\n",
        "target_spec.experimental_supported_backends = [\"GPU\"]\n",
        "@tf.lite.experimental.authoring.compatible(converter_target_spec=target_spec)\n",
        "@tf.function(input_signature=[\n",
        "    tf.TensorSpec(shape=[4, 4], dtype=tf.float32)\n",
        "])\n",
        "def func(x):\n",
        "  y = tf.cosh(x)\n",
        "  return y + tf.slice(x, [1, 1], [1, 1])\n",
        "\n",
        "result = func(tf.ones(shape=(4,4), dtype=tf.float32))"
      ]
    },
    {
      "cell_type": "markdown",
      "metadata": {
        "id": "JvLEtCWRvvy8"
      },
      "source": [
        "## その他の資料\n",
        "\n",
        "詳細については、次のドキュメントを参照してください。\n",
        "\n",
        "- [tf.function](https://www.tensorflow.org/api_docs/python/tf/function) API ドキュメント\n",
        "- [tf.function によるパフォーマンスの改善](https://www.tensorflow.org/guide/function)\n",
        "- [TensorFlow Lite コンバータ](https://www.tensorflow.org/lite/models/convert)\n",
        "- [TensorFlow Lite Model Analyzer](https://www.tensorflow.org/lite/guide/model_analyzer)\n",
        "- [TensorFlow Lite GPU デリゲート](https://www.tensorflow.org/lite/performance/gpu)"
      ]
    }
  ],
  "metadata": {
    "colab": {
      "collapsed_sections": [],
      "name": "authoring.ipynb",
      "toc_visible": true
    },
    "kernelspec": {
      "display_name": "Python 3",
      "name": "python3"
    }
  },
  "nbformat": 4,
  "nbformat_minor": 0
}
