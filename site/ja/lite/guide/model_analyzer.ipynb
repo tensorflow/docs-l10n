{
  "cells": [
    {
      "cell_type": "markdown",
      "metadata": {
        "id": "g_nWetWWd_ns"
      },
      "source": [
        "##### Copyright 2021 The TensorFlow Authors."
      ]
    },
    {
      "cell_type": "code",
      "execution_count": null,
      "metadata": {
        "cellView": "form",
        "id": "2pHVBk_seED1"
      },
      "outputs": [],
      "source": [
        "#@title Licensed under the Apache License, Version 2.0 (the \"License\");\n",
        "# you may not use this file except in compliance with the License.\n",
        "# You may obtain a copy of the License at\n",
        "#\n",
        "# https://www.apache.org/licenses/LICENSE-2.0\n",
        "#\n",
        "# Unless required by applicable law or agreed to in writing, software\n",
        "# distributed under the License is distributed on an \"AS IS\" BASIS,\n",
        "# WITHOUT WARRANTIES OR CONDITIONS OF ANY KIND, either express or implied.\n",
        "# See the License for the specific language governing permissions and\n",
        "# limitations under the License."
      ]
    },
    {
      "cell_type": "markdown",
      "metadata": {
        "id": "M7vSdG6sAIQn"
      },
      "source": [
        "# TensorFlow Lite Model Analyzer"
      ]
    },
    {
      "cell_type": "markdown",
      "metadata": {
        "id": "fwc5GKHBASdc"
      },
      "source": [
        "<table class=\"tfo-notebook-buttons\" align=\"left\">\n",
        "  <td>     <a target=\"_blank\" href=\"https://www.tensorflow.org/lite/guide/model_analyzer\">     <img src=\"https://www.tensorflow.org/images/tf_logo_32px.png\">     TensorFlow.org で表示</a> </td>\n",
        "  <td>     <a target=\"_blank\" href=\"https://colab.research.google.com/github/tensorflow/docs-l10n/blob/master/site/ja/lite/guide/model_analyzer.ipynb\">     <img src=\"https://www.tensorflow.org/images/colab_logo_32px.png\">     Google Colab で実行</a> </td>\n",
        "  <td><a target=\"_blank\" href=\"https://github.com/tensorflow/docs-l10n/blob/master/site/ja/lite/guide/model_analyzer.ipynb\">     <img src=\"https://www.tensorflow.org/images/GitHub-Mark-32px.png\">     GitHubでソースを表示</a></td>\n",
        "  <td><a href=\"https://storage.googleapis.com/tensorflow_docs/docs-l10n/site/ja/lite/guide/model_analyzer.ipynb\"><img src=\"https://www.tensorflow.org/images/download_logo_32px.png\">ノートブックをダウンロード</a></td>\n",
        "</table>"
      ]
    },
    {
      "cell_type": "markdown",
      "metadata": {
        "id": "9ee074e4"
      },
      "source": [
        "TensorFlow Lite Model Analyzer API を使用すると、モデルの構造をリスト出力することで、TensorFlow Lite 形式でモデルを分析できます。\n"
      ]
    },
    {
      "cell_type": "markdown",
      "metadata": {
        "id": "JKwW0VfDKMWS"
      },
      "source": [
        "## Model Analyzer API\n",
        "\n",
        "次の API は TensorFlow Lite Model Analyzer で使用できます。\n",
        "\n",
        "```\n",
        "tf.lite.experimental.Analyzer.analyze(model_path=None,\n",
        "                                      model_content=None,\n",
        "                                      gpu_compatibility=False)\n",
        "```\n",
        "\n",
        "API の詳細については、https://www.tensorflow.org/api_docs/python/tf/lite/experimental/Analyzer をご覧ください。Python ターミナルから `help(tf.lite.experimental.Analyzer.analyze)` を実行することもできます。\n"
      ]
    },
    {
      "cell_type": "markdown",
      "metadata": {
        "id": "qi8Vk4_065jN"
      },
      "source": [
        "## シンプルな Keras モデルを利用した基本的な使用方法\n",
        "\n",
        "次のコードでは Model Analyzer の基本的な使用方法を示します。TFLite モデルコンテンツの変換された Keras モデルのコンテンツです。flatbuffer オブジェクトの形式です。"
      ]
    },
    {
      "cell_type": "code",
      "execution_count": null,
      "metadata": {
        "id": "_jkg6UNtdz8c"
      },
      "outputs": [],
      "source": [
        "import tensorflow as tf\n",
        "\n",
        "model = tf.keras.models.Sequential([\n",
        "  tf.keras.layers.Flatten(input_shape=(128, 128)),\n",
        "  tf.keras.layers.Dense(256, activation='relu'),\n",
        "  tf.keras.layers.Dropout(0.2),\n",
        "  tf.keras.layers.Dense(10)\n",
        "])\n",
        "\n",
        "fb_model = tf.lite.TFLiteConverter.from_keras_model(model).convert()\n",
        "\n",
        "tf.lite.experimental.Analyzer.analyze(model_content=fb_model)\n"
      ]
    },
    {
      "cell_type": "markdown",
      "metadata": {
        "id": "pe_ZU5Zy7PeH"
      },
      "source": [
        "## MobileNetV3Large Keras モデルを利用した基本的な使用方法\n",
        "\n",
        "この API は MobileNetV3Large などの大型のモデルでも動作します。出力が大きくなるため、任意のテキストエディタで表示した方がよい場合があります。"
      ]
    },
    {
      "cell_type": "code",
      "execution_count": null,
      "metadata": {
        "id": "QFywJ_g56VW5"
      },
      "outputs": [],
      "source": [
        "model = tf.keras.applications.MobileNetV3Large()\n",
        "fb_model = tf.lite.TFLiteConverter.from_keras_model(model).convert()\n",
        "\n",
        "tf.lite.experimental.Analyzer.analyze(model_content=fb_model)"
      ]
    },
    {
      "cell_type": "markdown",
      "metadata": {
        "id": "4BGqG2j9yqRf"
      },
      "source": [
        "## GPU デリゲート互換性の確認\n",
        "\n",
        "ModelAnalyzer API には `gpu_compatibility=True` オプションがあり、特定のモデルの [GPU デリゲート](https://www.tensorflow.org/lite/performance/gpu)互換性を確認することができます。\n"
      ]
    },
    {
      "cell_type": "markdown",
      "metadata": {
        "id": "sVGC1oX33RkV"
      },
      "source": [
        "### 事例 1: モデルの互換性がないとき\n",
        "\n",
        "次のコードでは、シンプルな tf.function で `gpu_compatibility=True` オプションを使用する方法を示します。ここでは、2D テンソルの `tf.slice` と、GPU デリゲートに対応していない `tf.cosh` が使用されています。\n",
        "\n",
        "互換性の問題が生じているすべてのノードで `GPU COMPATIBILITY WARNING` が表示されます。"
      ]
    },
    {
      "cell_type": "code",
      "execution_count": null,
      "metadata": {
        "id": "9GEg5plIzD-3"
      },
      "outputs": [],
      "source": [
        "import tensorflow as tf\n",
        "\n",
        "@tf.function(input_signature=[\n",
        "    tf.TensorSpec(shape=[4, 4], dtype=tf.float32)\n",
        "])\n",
        "def func(x):\n",
        "  return tf.cosh(x) + tf.slice(x, [1, 1], [1, 1])\n",
        "\n",
        "converter = tf.lite.TFLiteConverter.from_concrete_functions(\n",
        "    [func.get_concrete_function()], func)\n",
        "converter.target_spec.supported_ops = [\n",
        "    tf.lite.OpsSet.TFLITE_BUILTINS,\n",
        "    tf.lite.OpsSet.SELECT_TF_OPS,\n",
        "]\n",
        "fb_model = converter.convert()\n",
        "\n",
        "tf.lite.experimental.Analyzer.analyze(model_content=fb_model, gpu_compatibility=True)"
      ]
    },
    {
      "cell_type": "markdown",
      "metadata": {
        "id": "BFU7HYb_2a8M"
      },
      "source": [
        "### 事例 1: モデルの互換性があるとき\n",
        "\n",
        "この例では、特定のモデルが GPU デリゲートに対応しています。\n",
        "\n",
        "**注意:** ツールでは互換性の問題が検出されませんが、モデルがすべてのデバイスで GPU デリゲートに対応することは保証されません。このため、ターゲット OpenGL バックエンドで `CL_DEVICE_IMAGE_SUPPORT` 機能が見つからないといった、何らかのランタイム非互換性の問題が発生する可能性があります。\n"
      ]
    },
    {
      "cell_type": "code",
      "execution_count": null,
      "metadata": {
        "id": "85RgG6tQ3ABT"
      },
      "outputs": [],
      "source": [
        "model = tf.keras.models.Sequential([\n",
        "  tf.keras.layers.Flatten(input_shape=(128, 128)),\n",
        "  tf.keras.layers.Dense(256, activation='relu'),\n",
        "  tf.keras.layers.Dropout(0.2),\n",
        "  tf.keras.layers.Dense(10)\n",
        "])\n",
        "\n",
        "fb_model = tf.lite.TFLiteConverter.from_keras_model(model).convert()\n",
        "\n",
        "tf.lite.experimental.Analyzer.analyze(model_content=fb_model, gpu_compatibility=True)"
      ]
    }
  ],
  "metadata": {
    "colab": {
      "collapsed_sections": [],
      "name": "model_analyzer.ipynb",
      "toc_visible": true
    },
    "kernelspec": {
      "display_name": "Python 3",
      "name": "python3"
    }
  },
  "nbformat": 4,
  "nbformat_minor": 0
}
