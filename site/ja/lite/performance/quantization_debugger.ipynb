{
  "cells": [
    {
      "cell_type": "markdown",
      "metadata": {
        "id": "KimMZUVqcJ8_"
      },
      "source": [
        "##### Copyright 2021 The TensorFlow Authors."
      ]
    },
    {
      "cell_type": "code",
      "execution_count": null,
      "metadata": {
        "cellView": "form",
        "id": "BRQ6HQ8zcV5v"
      },
      "outputs": [],
      "source": [
        "#@title Licensed under the Apache License, Version 2.0 (the \"License\");\n",
        "# you may not use this file except in compliance with the License.\n",
        "# You may obtain a copy of the License at\n",
        "#\n",
        "# https://www.apache.org/licenses/LICENSE-2.0\n",
        "#\n",
        "# Unless required by applicable law or agreed to in writing, software\n",
        "# distributed under the License is distributed on an \"AS IS\" BASIS,\n",
        "# WITHOUT WARRANTIES OR CONDITIONS OF ANY KIND, either express or implied.\n",
        "# See the License for the specific language governing permissions and\n",
        "# limitations under the License."
      ]
    },
    {
      "cell_type": "markdown",
      "metadata": {
        "id": "BlWzg1D9_EhW"
      },
      "source": [
        "# 量子化デバッガでの量子化誤差の調査"
      ]
    },
    {
      "cell_type": "markdown",
      "metadata": {
        "id": "XLoHL19yb-a0"
      },
      "source": [
        "<table class=\"tfo-notebook-buttons\" align=\"left\">\n",
        "  <td>     <a target=\"_blank\" href=\"https://www.tensorflow.org/lite/performance/quantization_debugger\"><img src=\"https://www.tensorflow.org/images/tf_logo_32px.png\">TensorFlow.org で表示</a> </td>\n",
        "  <td>     <a target=\"_blank\" href=\"https://colab.research.google.com/github/tensorflow/docs-l10n/blob/master/site/ja/lite/performance/quantization_debugger.ipynb\"><img src=\"https://www.tensorflow.org/images/colab_logo_32px.png\">Google Colab で実行</a> </td>\n",
        "  <td>     <a target=\"_blank\" href=\"https://github.com/tensorflow/docs-l10n/blob/master/site/ja/lite/performance/quantization_debugger.ipynb\"><img src=\"https://www.tensorflow.org/images/GitHub-Mark-32px.png\">GitHub でソースを表示</a> </td>\n",
        "  <td> ノートブックをダウンロード</td>\n",
        "  <td>     <a href=\"https://tfhub.dev/google/imagenet/mobilenet_v3_small_100_224/classification/5\"><img src=\"https://www.tensorflow.org/images/hub_logo_32px.png\">TF Hub モデルを参照</a> </td>\n",
        "</table>"
      ]
    },
    {
      "cell_type": "markdown",
      "metadata": {
        "id": "MWO_yYDGcGWY"
      },
      "source": [
        "完全な整数量子化では、モデルサイトとレイテンシが改善されますが、量子化されたモデルが必ずしも想定どおりに動作するとはかぎりません。通常、想定されるモデルの質 (例: 精度、mAP、WER) は、元の浮動小数点数モデルよりも少し低い程度です。ただし、モデルの質が想定を下回ったり、完全に誤った結果が生成される場合もあります。\n",
        "\n",
        "この問題が発生すると、量子化量子化誤差の根本原因を特定するのが難しく、手間がかかります。そのうえ、量子化量子化誤差の修正はさらに困難です。このモデル調査プロセスを支援するために、**量子化デバッガ**を使用すると、問題のあるレイヤーを特定できます。また、**選択的量子化**では、これらの問題のあるレイヤーを浮動小数点数にし、量子化の利点を抑えることで、モデルの精度を回復することができます。\n",
        "\n",
        "注意: この API は実験段階であり、改良の過程で API が大きく変更される可能性があります。"
      ]
    },
    {
      "cell_type": "markdown",
      "metadata": {
        "id": "9kD29R1I_Mn6"
      },
      "source": [
        "## 量子化デバッガ\n",
        "\n",
        "量子化デバッガでは、既存のモデルの量子化品質メトリック分析を実行できます。量子化デバッガは、デバッグデータセットを使用して、実行中のモデルのプロセスを自動化し、各テンソルの量子化品質メトリックを収集できます。\n",
        "\n",
        "注意: 現在、量子化デバッガと選択的量子化は、int8 アクティベーションの完全な整数量子化でのみ動作します。"
      ]
    },
    {
      "cell_type": "markdown",
      "metadata": {
        "id": "221Qon7G_PmZ"
      },
      "source": [
        "### 前提条件\n",
        "\n",
        "モデルを量子化するパイプラインがすでにある場合は、量子化デバッガを実行する前提条件がすべて整っています。\n",
        "\n",
        "- 量子化するモデル\n",
        "- 代表データセット\n",
        "\n",
        "モデルとデータのほかに、データ処理フレームワーク (例: pandas、Google Sheets) を使用して、エクスポートされた結果を分析する必要があります。"
      ]
    },
    {
      "cell_type": "markdown",
      "metadata": {
        "id": "qTEEzJWo_iZ_"
      },
      "source": [
        "### 設定\n",
        "\n",
        "このセクションでは、ライブラリ、MobileNet v3 モデルを準備し、100 画像のデータセットをテストします。"
      ]
    },
    {
      "cell_type": "code",
      "execution_count": null,
      "metadata": {
        "id": "l7epUDUP_6qo"
      },
      "outputs": [],
      "source": [
        "# Quantization debugger is available from TensorFlow 2.7.0\n",
        "!pip uninstall -y tensorflow\n",
        "!pip install tf-nightly\n",
        "!pip install tensorflow_datasets --upgrade  # imagenet_v2 needs latest checksum"
      ]
    },
    {
      "cell_type": "code",
      "execution_count": null,
      "metadata": {
        "id": "LLsgiUZe_hIa"
      },
      "outputs": [],
      "source": [
        "import matplotlib.pyplot as plt\n",
        "import numpy as np\n",
        "import pandas as pd\n",
        "import tensorflow as tf\n",
        "import tensorflow_datasets as tfds\n",
        "import tensorflow_hub as hub"
      ]
    },
    {
      "cell_type": "code",
      "execution_count": null,
      "metadata": {
        "cellView": "form",
        "id": "veWjO3u32vzz"
      },
      "outputs": [],
      "source": [
        "#@title Boilerplates and helpers\n",
        "MODEL_URI = 'https://tfhub.dev/google/imagenet/mobilenet_v3_small_100_224/classification/5'\n",
        "\n",
        "\n",
        "def process_image(data):\n",
        "  data['image'] = tf.image.resize(data['image'], (224, 224)) / 255.0\n",
        "  return data\n",
        "\n",
        "\n",
        "# Representative dataset\n",
        "def representative_dataset(dataset):\n",
        "\n",
        "  def _data_gen():\n",
        "    for data in dataset.batch(1):\n",
        "      yield [data['image']]\n",
        "\n",
        "  return _data_gen\n",
        "\n",
        "\n",
        "def eval_tflite(tflite_model, dataset):\n",
        "  \"\"\"Evaluates tensorflow lite classification model with the given dataset.\"\"\"\n",
        "  interpreter = tf.lite.Interpreter(model_content=tflite_model)\n",
        "  interpreter.allocate_tensors()\n",
        "\n",
        "  input_idx = interpreter.get_input_details()[0]['index']\n",
        "  output_idx = interpreter.get_output_details()[0]['index']\n",
        "\n",
        "  results = []\n",
        "\n",
        "  for data in representative_dataset(dataset)():\n",
        "    interpreter.set_tensor(input_idx, data[0])\n",
        "    interpreter.invoke()\n",
        "    results.append(interpreter.get_tensor(output_idx).flatten())\n",
        "\n",
        "  results = np.array(results)\n",
        "  gt_labels = np.array(list(dataset.map(lambda data: data['label'] + 1)))\n",
        "  accuracy = (\n",
        "      np.sum(np.argsort(results, axis=1)[:, -5:] == gt_labels.reshape(-1, 1)) /\n",
        "      gt_labels.size)\n",
        "  print(f'Top-5 accuracy (quantized): {accuracy * 100:.2f}%')\n",
        "\n",
        "\n",
        "model = tf.keras.Sequential([\n",
        "  tf.keras.layers.Input(shape=(224, 224, 3), batch_size=1),\n",
        "  hub.KerasLayer(MODEL_URI)\n",
        "])\n",
        "model.compile(\n",
        "    loss='sparse_categorical_crossentropy',\n",
        "    metrics='sparse_top_k_categorical_accuracy')\n",
        "model.build([1, 224, 224, 3])\n",
        "\n",
        "# Prepare dataset with 100 examples\n",
        "ds = tfds.load('imagenet_v2', split='test[:1%]')\n",
        "ds = ds.map(process_image)\n",
        "\n",
        "converter = tf.lite.TFLiteConverter.from_keras_model(model)\n",
        "converter.representative_dataset = representative_dataset(ds)\n",
        "converter.optimizations = [tf.lite.Optimize.DEFAULT]\n",
        "quantized_model = converter.convert()"
      ]
    },
    {
      "cell_type": "code",
      "execution_count": null,
      "metadata": {
        "id": "7mX-R-xK4ADB"
      },
      "outputs": [],
      "source": [
        "test_ds = ds.map(lambda data: (data['image'], data['label'] + 1)).batch(16)\n",
        "loss, acc = model.evaluate(test_ds)\n",
        "print(f'Top-5 accuracy (float): {acc * 100:.2f}%')"
      ]
    },
    {
      "cell_type": "code",
      "execution_count": null,
      "metadata": {
        "id": "Mnp6yBnJSCoh"
      },
      "outputs": [],
      "source": [
        "eval_tflite(quantized_model, ds)"
      ]
    },
    {
      "cell_type": "markdown",
      "metadata": {
        "id": "Tblkk3cxxpuw"
      },
      "source": [
        "最小データセットでは、元のモデルの精度は圧倒的に高い上位 5 であることがわかりますが、量子化されたモデルでは大幅な精度損失が見られます。"
      ]
    },
    {
      "cell_type": "markdown",
      "metadata": {
        "id": "dBBcfCQw_Wqd"
      },
      "source": [
        "### ステップ 1. デバッガの準備\n",
        "\n",
        "量子化デバッガを使用する最も簡単な方法は、モデルを量子化するために使用している `tf.lite.TFLiteConverter` を提供することです。"
      ]
    },
    {
      "cell_type": "code",
      "execution_count": null,
      "metadata": {
        "id": "NOByihbD_NZZ"
      },
      "outputs": [],
      "source": [
        "converter = tf.lite.TFLiteConverter.from_keras_model(model)\n",
        "converter.optimizations = [tf.lite.Optimize.DEFAULT]\n",
        "converter.representative_dataset = representative_dataset(ds)\n",
        "\n",
        "# my_debug_dataset should have the same format as my_representative_dataset\n",
        "debugger = tf.lite.experimental.QuantizationDebugger(\n",
        "    converter=converter, debug_dataset=representative_dataset(ds))"
      ]
    },
    {
      "cell_type": "markdown",
      "metadata": {
        "id": "9vR1IIrmQS9W"
      },
      "source": [
        "### ステップ 2. デバッガの実行と結果の取得\n",
        "\n",
        "`QuantizationDebugger.run()` を呼び出すと、デバッガは、同じ演算位置の浮動小数点数テンソルと量子化されたテンソルの差異を記録し、特定のメトリックを使用して差異を処理します。"
      ]
    },
    {
      "cell_type": "code",
      "execution_count": null,
      "metadata": {
        "id": "HsUM54g-_E52"
      },
      "outputs": [],
      "source": [
        "debugger.run()"
      ]
    },
    {
      "cell_type": "markdown",
      "metadata": {
        "id": "yQpX_SBUQXvr"
      },
      "source": [
        "処理されたメトリックにアクセスするには、`QuantizationDebugger.layer_statistics` を使用します。また、`QuantizationDebugger.layer_statistics_dump()` を使用して、CSV 形式でテキストファイルに落とすこともできます。"
      ]
    },
    {
      "cell_type": "code",
      "execution_count": null,
      "metadata": {
        "id": "U-AGYUAbQUmx"
      },
      "outputs": [],
      "source": [
        "RESULTS_FILE = '/tmp/debugger_results.csv'\n",
        "with open(RESULTS_FILE, 'w') as f:\n",
        "  debugger.layer_statistics_dump(f)"
      ]
    },
    {
      "cell_type": "code",
      "execution_count": null,
      "metadata": {
        "id": "LQzEi6VnQaen"
      },
      "outputs": [],
      "source": [
        "!head /tmp/debugger_results.csv"
      ]
    },
    {
      "cell_type": "markdown",
      "metadata": {
        "id": "4np7VqU-Qfke"
      },
      "source": [
        "CSV ファイルの各行では、演算名とインデックスが先頭に入力され、その後に量子化パラメータと量子化誤差メトリック ([ユーザー定義量子化誤差メトリック](#custom-metrics)を含む) が入力されます。結果の CSV を使用すると、大規模な量子化量子化誤差メトリックによって、問題のあるレイヤーを特定できます。\n",
        "\n",
        "pandas または他のデータ処理ライブラリを使用すると、詳細なレイヤー単位の量子化誤差メトリックを調査できます。"
      ]
    },
    {
      "cell_type": "code",
      "execution_count": null,
      "metadata": {
        "id": "XUcSqYFGQb-f"
      },
      "outputs": [],
      "source": [
        "layer_stats = pd.read_csv(RESULTS_FILE)\n",
        "layer_stats.head()"
      ]
    },
    {
      "cell_type": "markdown",
      "metadata": {
        "id": "7C_oHxWFOV6M"
      },
      "source": [
        "### ステップ 3. データ分析\n",
        "\n",
        "結果を分析するには、さまざまな方法を使用できます。まず、デバッガの出力から得られる有益なメトリックをいくつか追加します。(`scale` は各テンソルの量子化倍率を指します。)\n",
        "\n",
        "- Range (`256 / scale`)\n",
        "- RMSE / scale (`sqrt(mean_squared_error) / scale`)\n",
        "\n",
        "量子化された分布が元の浮動小数点数分布と類似している場合、`RMSE / scale` は `1 / sqrt(12)` (~ 0.289) に近くなります。この値が大きいほど、レイヤーが効果的に量子化されない確率が高くなります。"
      ]
    },
    {
      "cell_type": "code",
      "execution_count": null,
      "metadata": {
        "id": "mwviORyJN6e5"
      },
      "outputs": [],
      "source": [
        "layer_stats['range'] = 255.0 * layer_stats['scale']\n",
        "layer_stats['rmse/scale'] = layer_stats.apply(\n",
        "    lambda row: np.sqrt(row['mean_squared_error']) / row['scale'], axis=1)\n",
        "layer_stats[['op_name', 'range', 'rmse/scale']].head()"
      ]
    },
    {
      "cell_type": "code",
      "execution_count": null,
      "metadata": {
        "id": "oAAv35CdPvc4"
      },
      "outputs": [],
      "source": [
        "plt.figure(figsize=(15, 5))\n",
        "ax1 = plt.subplot(121)\n",
        "ax1.bar(np.arange(len(layer_stats)), layer_stats['range'])\n",
        "ax1.set_ylabel('range')\n",
        "ax2 = plt.subplot(122)\n",
        "ax2.bar(np.arange(len(layer_stats)), layer_stats['rmse/scale'])\n",
        "ax2.set_ylabel('rmse/scale')\n",
        "plt.show()"
      ]
    },
    {
      "cell_type": "markdown",
      "metadata": {
        "id": "8pqUQvRUWB3Q"
      },
      "source": [
        "範囲が広いレイヤーが多数存在し、一部のレイヤーは高い `RMSE/scale` 値を示しています。量子化誤差メトリックが高い値のレイヤーを取得します。"
      ]
    },
    {
      "cell_type": "code",
      "execution_count": null,
      "metadata": {
        "id": "UqFsUX4_Q-cE"
      },
      "outputs": [],
      "source": [
        "layer_stats[layer_stats['rmse/scale'] > 0.7][[\n",
        "    'op_name', 'range', 'rmse/scale', 'tensor_name'\n",
        "]]"
      ]
    },
    {
      "cell_type": "markdown",
      "metadata": {
        "id": "DHeALFTGWl_e"
      },
      "source": [
        "これらのレイヤーでは、選択的量子化を試し、レイヤーを量子化しないことでモデルの質が改善されるかどうかを確認することができます。"
      ]
    },
    {
      "cell_type": "code",
      "execution_count": null,
      "metadata": {
        "id": "cvdkjsbwYC6e"
      },
      "outputs": [],
      "source": [
        "suspected_layers = list(\n",
        "    layer_stats[layer_stats['rmse/scale'] > 0.7]['tensor_name'])"
      ]
    },
    {
      "cell_type": "markdown",
      "metadata": {
        "id": "W6RQw9JobOTR"
      },
      "source": [
        "さらに、最初の数レイヤーで量子化をスキップすると、量子化されたモデルの質を改善できます。"
      ]
    },
    {
      "cell_type": "code",
      "execution_count": null,
      "metadata": {
        "id": "ikF2bp6NZcXN"
      },
      "outputs": [],
      "source": [
        "suspected_layers.extend(list(layer_stats[:5]['tensor_name']))"
      ]
    },
    {
      "cell_type": "markdown",
      "metadata": {
        "id": "1DfT78w6W6Li"
      },
      "source": [
        "## 選択的量子化"
      ]
    },
    {
      "cell_type": "markdown",
      "metadata": {
        "id": "-pubC-01cGEH"
      },
      "source": [
        "選択的量子化は、一部のノードで量子化をスキップするため、元の浮動小数点数ドメインで計算が実行されることがあります。正しいレイヤーがスキップされると、レイテンシが長くなり、モデルサイズが大きくなりますが、モデルの質がある程度回復されることを期待できます。\n",
        "\n",
        "ただし、整数のみのアクセラレータ (例: Hexagon DSP、EdgeTPU) で量子化されたモデルを実行する計画の場合は、選択的量子化によって、モデルの断片化が発生し、CPU とアクセラレータ間のデータ転送コストが主な原因で、推論レイテンシが低下します。これを防止するには、[量子化認識トレーニング](https://www.tensorflow.org/model_optimization/guide/quantization/training)を実行して、モデル精度を維持しながら、整数ですべてのレイヤーを保持することを検討できます。"
      ]
    },
    {
      "cell_type": "markdown",
      "metadata": {
        "id": "EQFBfR7YW-oh"
      },
      "source": [
        "量子化デバッガでは、特定のレイヤー、または特定の演算のすべてのインスタンスで量子化をスキップするためのオプションとして、`denylisted_nodes` および `denylisted_ops` オプションを使用できます。前のステップで準備した `suspected_layers` を使用して、量子化デバッガを使用し、選択的に量子化されたモデルを取得できます。"
      ]
    },
    {
      "cell_type": "code",
      "execution_count": null,
      "metadata": {
        "id": "K5KD0JAEbpsv"
      },
      "outputs": [],
      "source": [
        "debug_options = tf.lite.experimental.QuantizationDebugOptions(\n",
        "    denylisted_nodes=suspected_layers)\n",
        "debugger = tf.lite.experimental.QuantizationDebugger(\n",
        "    converter=converter,\n",
        "    debug_dataset=representative_dataset(ds),\n",
        "    debug_options=debug_options)"
      ]
    },
    {
      "cell_type": "code",
      "execution_count": null,
      "metadata": {
        "id": "pfj9gzv4b7h4"
      },
      "outputs": [],
      "source": [
        "selective_quantized_model = debugger.get_nondebug_quantized_model()\n",
        "eval_tflite(selective_quantized_model, ds)"
      ]
    },
    {
      "cell_type": "markdown",
      "metadata": {
        "id": "1RkfMYSHdtZy"
      },
      "source": [
        "元の浮動小数点数モデルと比較すると、精度はまだ低めですが、111 レイヤー中の ~10 レイヤーで量子化をスキップするため、完全に量子化されたモデルから大幅に改善されています。\n",
        "\n",
        "同じクラスのすべての演算を量子化しないこともできます。たとえば、すべての mean 演算で量子化をスキップするには、`MEAN` を `denylisted_ops` に渡します。"
      ]
    },
    {
      "cell_type": "code",
      "execution_count": null,
      "metadata": {
        "id": "ruUoP7SgcLpO"
      },
      "outputs": [],
      "source": [
        "debug_options = tf.lite.experimental.QuantizationDebugOptions(\n",
        "    denylisted_ops=['MEAN'])\n",
        "debugger = tf.lite.experimental.QuantizationDebugger(\n",
        "    converter=converter,\n",
        "    debug_dataset=representative_dataset(ds),\n",
        "    debug_options=debug_options)"
      ]
    },
    {
      "cell_type": "code",
      "execution_count": null,
      "metadata": {
        "id": "oY6kb5g_cO4H"
      },
      "outputs": [],
      "source": [
        "selective_quantized_model = debugger.get_nondebug_quantized_model()\n",
        "eval_tflite(selective_quantized_model, ds)"
      ]
    },
    {
      "cell_type": "markdown",
      "metadata": {
        "id": "xa8488TeAyx-"
      },
      "source": [
        "このような手法では、量子化された MobileNet V3 モデル精度を改善できます。次に、モデルの精度をさらに改善するための高度な手法について説明します。"
      ]
    },
    {
      "cell_type": "markdown",
      "metadata": {
        "id": "ZD75cY9PUb2u"
      },
      "source": [
        "## 高度な使用\n",
        "\n",
        "次の機能を使用すると、デバッグパイプラインをさらにカスタマイズできます。"
      ]
    },
    {
      "cell_type": "markdown",
      "metadata": {
        "id": "aVj9yrQoUfGo"
      },
      "source": [
        "### カスタムメトリック\n",
        "\n",
        "既定では、量子化デバッガは、float-quant 差異ごとに、5 つのメトリック (テンソルサイズ、標準偏差、平均誤差、最大絶対誤差、平均二乗誤差) を発行します。その他のカスタムメトリクスを追加するには、それらをオプションに渡します。各メトリックにおいて、結果は単一の浮動小数点数値です。結果のメトリックは、すべての例のメトリックの平均です。\n",
        "\n",
        "- `layer_debug_metrics`: 浮動小数点数からの演算出力と量子化された演算出力ごとの差異に基づいて、メトリックを計算します。\n",
        "- `layer_direct_compare_metrics`: 差異のみを取得するのではなく、未加工の浮動小数点数テンソルと量子化されたテンソル、および量子化パラメータ (scale、zero point) に基づいて、メトリックを計算します。\n",
        "- `model_debug_metrics`: **`float_model_(path|content)` がデバッガに渡されるときにのみ使用されます**。演算レベルのメトリックのほかに、最終レイヤー出力が元の浮動小数点モデルの参照出力と比較されます。"
      ]
    },
    {
      "cell_type": "code",
      "execution_count": null,
      "metadata": {
        "id": "WqmRQSxoVVwu"
      },
      "outputs": [],
      "source": [
        "debug_options = tf.lite.experimental.QuantizationDebugOptions(\n",
        "    layer_debug_metrics={\n",
        "        'mean_abs_error': (lambda diff: np.mean(np.abs(diff)))\n",
        "    },\n",
        "    layer_direct_compare_metrics={\n",
        "        'correlation':\n",
        "            lambda f, q, s, zp: (np.corrcoef(f.flatten(),\n",
        "                                             (q.flatten() - zp) / s)[0, 1])\n",
        "    },\n",
        "    model_debug_metrics={\n",
        "        'argmax_accuracy': (lambda f, q: np.mean(np.argmax(f) == np.argmax(q)))\n",
        "    })\n",
        "\n",
        "debugger = tf.lite.experimental.QuantizationDebugger(\n",
        "    converter=converter,\n",
        "    debug_dataset=representative_dataset(ds),\n",
        "    debug_options=debug_options)"
      ]
    },
    {
      "cell_type": "code",
      "execution_count": null,
      "metadata": {
        "id": "PVQ4nEicXz2l"
      },
      "outputs": [],
      "source": [
        "debugger.run()"
      ]
    },
    {
      "cell_type": "code",
      "execution_count": null,
      "metadata": {
        "id": "dfKA90csX9UL"
      },
      "outputs": [],
      "source": [
        "CUSTOM_RESULTS_FILE = '/tmp/debugger_results.csv'\n",
        "with open(CUSTOM_RESULTS_FILE, 'w') as f:\n",
        "  debugger.layer_statistics_dump(f)\n",
        "\n",
        "custom_layer_stats = pd.read_csv(CUSTOM_RESULTS_FILE)\n",
        "custom_layer_stats[['op_name', 'mean_abs_error', 'correlation']].tail()"
      ]
    },
    {
      "cell_type": "markdown",
      "metadata": {
        "id": "Qqq30oWsZF5b"
      },
      "source": [
        "`model_debug_metrics` の結果は、`debugger.model_statistics` とは別に確認できます。"
      ]
    },
    {
      "cell_type": "code",
      "execution_count": null,
      "metadata": {
        "id": "wrXlmzEHYhQ5"
      },
      "outputs": [],
      "source": [
        "debugger.model_statistics"
      ]
    },
    {
      "cell_type": "markdown",
      "metadata": {
        "id": "DqJBLIsoUyIg"
      },
      "source": [
        "### (内部) mlir_quantize API を使用して詳細な機能にアクセスする\n",
        "\n",
        "注意: 次のセクションの一部の機能である `TFLiteConverter._experimental_calibrate_only` と `converter.mlir_quantize`は、実験段階の内部 API であり、後方互換性が保証されない方法で変更される場合があります。"
      ]
    },
    {
      "cell_type": "code",
      "execution_count": null,
      "metadata": {
        "id": "VJm66Cz-XpeF"
      },
      "outputs": [],
      "source": [
        "from tensorflow.lite.python import convert"
      ]
    },
    {
      "cell_type": "markdown",
      "metadata": {
        "id": "2krUVzpiUp3u"
      },
      "source": [
        "#### モデル全体の検証モード\n",
        "\n",
        "デバッグモデル生成の既定の動作は、レイヤー単位の検証です。このモードでは、浮動小数点数演算と量子化演算のペアに対する入力元は、同じソース (前の量子化された演算) です。もう一つのモデルは、モデル全体の検証で、浮動小数点数モデルと量子化が分離されます。このモードは、誤差がどのようにモデルに反映されるのかを観察するときに、役立ちます。有効にするには、デバッグモードを手動で生成しながら、`enable_whole_model_verify=True` を `convert.mlir_quantize` に設定します。"
      ]
    },
    {
      "cell_type": "code",
      "execution_count": null,
      "metadata": {
        "id": "5zykINDlVLSg"
      },
      "outputs": [],
      "source": [
        "converter = tf.lite.TFLiteConverter.from_keras_model(model)\n",
        "converter.representative_dataset = representative_dataset(ds)\n",
        "converter.optimizations = [tf.lite.Optimize.DEFAULT]\n",
        "converter._experimental_calibrate_only = True\n",
        "calibrated_model = converter.convert()"
      ]
    },
    {
      "cell_type": "code",
      "execution_count": null,
      "metadata": {
        "id": "eqvXlEiFXfSu"
      },
      "outputs": [],
      "source": [
        "# Note that enable_numeric_verify and enable_whole_model_verify are set.\n",
        "quantized_model = convert.mlir_quantize(\n",
        "    calibrated_model,\n",
        "    enable_numeric_verify=True,\n",
        "    enable_whole_model_verify=True)\n",
        "debugger = tf.lite.experimental.QuantizationDebugger(\n",
        "    quant_debug_model_content=quantized_model,\n",
        "    debug_dataset=representative_dataset(ds))"
      ]
    },
    {
      "cell_type": "markdown",
      "metadata": {
        "id": "xQ6TFsXQVHMe"
      },
      "source": [
        "#### すでにキャリブレーションされたモデルからの選択的量子化\n",
        "\n",
        "直接 `convert.mlir_quantize` を呼び出して、すでにキャリブレーションされたモデルから選択的量子化モデルを取得できます。これは、モデルを 1 回キャリブレーションし、さまざまな denylist を組み合わせて実験したいときに、特に役立ちます。"
      ]
    },
    {
      "cell_type": "code",
      "execution_count": null,
      "metadata": {
        "id": "ZCS-Fa9lbdc0"
      },
      "outputs": [],
      "source": [
        "selective_quantized_model = convert.mlir_quantize(\n",
        "    calibrated_model, denylisted_nodes=suspected_layers)\n",
        "eval_tflite(selective_quantized_model, ds)"
      ]
    }
  ],
  "metadata": {
    "colab": {
      "collapsed_sections": [
        "Eq_8T2oauIED"
      ],
      "name": "quantization_debugger.ipynb",
      "toc_visible": true
    },
    "kernelspec": {
      "display_name": "Python 3",
      "name": "python3"
    }
  },
  "nbformat": 4,
  "nbformat_minor": 0
}
