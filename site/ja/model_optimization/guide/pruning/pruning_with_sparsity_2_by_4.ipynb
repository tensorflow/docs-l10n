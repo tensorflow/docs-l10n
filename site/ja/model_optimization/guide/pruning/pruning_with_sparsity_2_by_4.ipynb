{
  "cells": [
    {
      "cell_type": "markdown",
      "metadata": {
        "id": "Tce3stUlHN0L"
      },
      "source": [
        "##### Copyright 2021 The TensorFlow Authors."
      ]
    },
    {
      "cell_type": "code",
      "execution_count": null,
      "metadata": {
        "cellView": "form",
        "id": "IcfrhafzkZbH"
      },
      "outputs": [],
      "source": [
        "#@title Licensed under the Apache License, Version 2.0 (the \"License\");\n",
        "# you may not use this file except in compliance with the License.\n",
        "# You may obtain a copy of the License at\n",
        "#\n",
        "# https://www.apache.org/licenses/LICENSE-2.0\n",
        "#\n",
        "# Unless required by applicable law or agreed to in writing, software\n",
        "# distributed under the License is distributed on an \"AS IS\" BASIS,\n",
        "# WITHOUT WARRANTIES OR CONDITIONS OF ANY KIND, either express or implied.\n",
        "# See the License for the specific language governing permissions and\n",
        "# limitations under the License."
      ]
    },
    {
      "cell_type": "markdown",
      "metadata": {
        "id": "qFdPvlXBOdUN"
      },
      "source": [
        "# 構造的なプルーニングを使用したスパースな重み"
      ]
    },
    {
      "cell_type": "markdown",
      "metadata": {
        "id": "MfBg1C5NB3X0"
      },
      "source": [
        "<table class=\"tfo-notebook-buttons\" align=\"left\">\n",
        "  <td>     <a target=\"_blank\" href=\"https://www.tensorflow.org/model_optimization/guide/pruning/pruning_with_sparsity_2_by_4\">     <img src=\"https://www.tensorflow.org/images/tf_logo_32px.png\">     TensorFlow.org で表示</a>\n",
        "</td>\n",
        "  <td>     <a target=\"_blank\" href=\"https://colab.research.google.com/github/tensorflow/docs-l10n/blob/master/site/ja/model_optimization/guide/pruning/pruning_with_sparsity_2_by_4.ipynb\">     <img src=\"https://www.tensorflow.org/images/colab_logo_32px.png\">     Google Colab で実行</a>\n",
        "</td>\n",
        "  <td><a target=\"_blank\" href=\"https://github.com/tensorflow/docs-l10n/blob/master/site/ja/model_optimization/guide/pruning/pruning_with_sparsity_2_by_4.ipynb\">     <img src=\"https://www.tensorflow.org/images/GitHub-Mark-32px.png\">     GitHubでソースを表示</a></td>\n",
        "  <td><a href=\"https://storage.googleapis.com/tensorflow_docs/docs-l10n/site/ja/model_optimization/guide/pruning/pruning_with_sparsity_2_by_4.ipynb\"><img src=\"https://www.tensorflow.org/images/download_logo_32px.png\">ノートブックをダウンロード</a></td>\n",
        "</table>"
      ]
    },
    {
      "cell_type": "markdown",
      "metadata": {
        "id": "FbORZA_bQx1G"
      },
      "source": [
        "構造的なプルーニングでモデルの重みを特定のパターンでスパースにすると、適切なハードウェアのサポートを使用してモデルの推論時間を短縮できます。\n",
        "\n",
        "このチュートリアルでは、次の方法を説明します。\n",
        "\n",
        "- 特定の構造的なスパース性を備えた mnist データセットでモデルを定義およびトレーニングする\n",
        "- プルーニングされたモデルを tflite 形式に変換する\n",
        "- プルーニングされた重みの構造を視覚化する\n",
        "\n",
        "モデルを最適化するためのプルーニング手法の一般的な概要については、[プルーニングの概要](https://www.tensorflow.org/model_optimization/guide/pruning)を参照してください。一般的な重みのプルーニングに関するチュートリアルについては、[Keras でのプルーニング](https://www.tensorflow.org/model_optimization/guide/pruning/pruning_with_keras)を参照してください。"
      ]
    },
    {
      "cell_type": "markdown",
      "metadata": {
        "id": "0f4SoBcoXNcb"
      },
      "source": [
        "## 重みの構造的なプルーニング"
      ]
    },
    {
      "cell_type": "markdown",
      "metadata": {
        "id": "rn_a9362Wr_B"
      },
      "source": [
        "構造的なプルーニングは、トレーニングプロセスの開始時にモデルの重みを体系的にゼロにします。このプルーニング手法を重みの通常のブロックに適用して、ハードウェアによりサポートされる推論を高速化します。たとえば、モデル内の重みを 4 つのブロックでグループ化し、各ブロックでそれらの重みのうち 2 つをゼロにします（*{nbsp}2 x 4* のプルーニング）。この手法は、TensorFlowLite により変換されるモデルの重みテンソルの最後の次元にのみ適用されます。たとえば、TensorFlowLite の `Conv2D` レイヤーの重みの構造は `[channel_out, height, width, channel_in]` で `Dense` レイヤーの重みの構造は `[channel_out, channel_in]` です。スパースパターンは、最後の次元の重み `channel_in` に適用されます。\n",
        "\n",
        "ランダムなスパース性と比較すると、構造的なスパース性は構造が制限されているため、一般に精度が低くなりますが、サポートされているハードウェアでの推論時間を大幅に短縮できます。\n",
        "\n",
        "プルーニングは、他のモデル圧縮手法と共にモデルに適用して、圧縮率を向上させることができます。詳細については、[協調的最適化手法](https://blog.tensorflow.org/2021/10/Collaborative-Optimizations.html)の量子化とクラスタリングの例を参照してください。"
      ]
    },
    {
      "cell_type": "markdown",
      "metadata": {
        "id": "nuABqZnXVDvO"
      },
      "source": [
        "## セットアップ"
      ]
    },
    {
      "cell_type": "markdown",
      "metadata": {
        "id": "u9mRDekZEfnR"
      },
      "source": [
        "開発環境とデータを準備します。"
      ]
    },
    {
      "cell_type": "code",
      "execution_count": null,
      "metadata": {
        "cellView": "both",
        "id": "lvpH1Hg7ULFz"
      },
      "outputs": [],
      "source": [
        "! pip install -q tensorflow\n",
        "! pip install -q tensorflow-model-optimization\n",
        "! pip install -q matplotlib"
      ]
    },
    {
      "cell_type": "code",
      "execution_count": null,
      "metadata": {
        "id": "_hn5e5_gWr_E"
      },
      "outputs": [],
      "source": [
        "import tensorflow as tf\n",
        "from tensorflow import keras\n",
        "\n",
        "import tensorflow_model_optimization as tfmot\n",
        "prune_low_magnitude = tfmot.sparsity.keras.prune_low_magnitude"
      ]
    },
    {
      "cell_type": "markdown",
      "metadata": {
        "id": "TZyLYFTER4aP"
      },
      "source": [
        "## [MNIST](https://www.tensorflow.org/datasets/catalog/mnist) データセットから画像データをダウンロードして正規化する"
      ]
    },
    {
      "cell_type": "code",
      "execution_count": null,
      "metadata": {
        "id": "hSf4jYKGWr_E"
      },
      "outputs": [],
      "source": [
        "# Load MNIST dataset.\n",
        "mnist = keras.datasets.mnist\n",
        "(train_images, train_labels), (test_images, test_labels) = mnist.load_data()\n",
        "\n",
        "# Normalize the input image so that each pixel value is between 0 and 1.\n",
        "train_images = train_images / 255.0\n",
        "test_images = test_images / 255.0"
      ]
    },
    {
      "cell_type": "markdown",
      "metadata": {
        "id": "LKaL3XH1XO0Q"
      },
      "source": [
        "## 構造プルーニングのパラメータを定義する"
      ]
    },
    {
      "cell_type": "markdown",
      "metadata": {
        "id": "s9_33ta-Wr_E"
      },
      "source": [
        "プルーニングのパラメータを定義し、構造プルーニングの型を指定します。プルーニングのパラメータを `(2, 4)` に設定します。これらの設定は、4 要素のブロックで、少なくとも値が最も小さい 2  要素がゼロ値化されることを意味します。\n",
        "\n",
        "`pruning_schedule` パラメータは設定する必要はありません。デフォルトでは、プルーニングマスクは最初のステップで定義され、トレーニング中に更新されません。"
      ]
    },
    {
      "cell_type": "code",
      "execution_count": null,
      "metadata": {
        "id": "1EXNYAPJWr_F"
      },
      "outputs": [],
      "source": [
        "pruning_params_2_by_4 = {\n",
        "    'sparsity_m_by_n': (2, 4),\n",
        "}"
      ]
    },
    {
      "cell_type": "markdown",
      "metadata": {
        "id": "mMKdsdAUWr_F"
      },
      "source": [
        "50％ のターゲットスパース性でランダムプルーニングのパラメータを定義します。"
      ]
    },
    {
      "cell_type": "code",
      "execution_count": null,
      "metadata": {
        "id": "un24AZUOWr_F"
      },
      "outputs": [],
      "source": [
        "pruning_params_sparsity_0_5 = {\n",
        "    'pruning_schedule': tfmot.sparsity.keras.ConstantSparsity(target_sparsity=0.5,\n",
        "                                                              begin_step=0,\n",
        "                                                              frequency=100)\n",
        "}"
      ]
    },
    {
      "cell_type": "markdown",
      "metadata": {
        "id": "jV4Yt0v5Wr_G"
      },
      "source": [
        "モデルアーキテクチャを定義し、プルーニングするレイヤーを指定します。構造的プルーニングは、選択したモデルのレイヤーに基づいて適用されます。\n",
        "\n",
        "以下の例では、一部のレイヤーのみをプルーニングします。2 番目の `Conv2D` レイヤーと最初の `Dense` レイヤーをプルーニングします。\n",
        "\n",
        "最初の `Conv2D` レイヤーは構造的にプルーニングできないことに注意してください。構造的にプルーニングするには、複数の入力チャンネルが必要です。代わりに、最初の `Conv2D` レイヤーをランダムなプルーニングでプルーニングします。"
      ]
    },
    {
      "cell_type": "code",
      "execution_count": null,
      "metadata": {
        "id": "BDGzC6YlWr_G"
      },
      "outputs": [],
      "source": [
        "model = keras.Sequential([\n",
        "    prune_low_magnitude(\n",
        "        keras.layers.Conv2D(\n",
        "            32, 5, padding='same', activation='relu',\n",
        "            input_shape=(28, 28, 1),\n",
        "            name=\"pruning_sparsity_0_5\"),\n",
        "        **pruning_params_sparsity_0_5),\n",
        "    keras.layers.MaxPooling2D((2, 2), (2, 2), padding='same'),\n",
        "    prune_low_magnitude(\n",
        "        keras.layers.Conv2D(\n",
        "            64, 5, padding='same',\n",
        "            name=\"structural_pruning\"),\n",
        "        **pruning_params_2_by_4),\n",
        "    keras.layers.BatchNormalization(),\n",
        "    keras.layers.ReLU(),\n",
        "    keras.layers.MaxPooling2D((2, 2), (2, 2), padding='same'),\n",
        "    keras.layers.Flatten(),\n",
        "    prune_low_magnitude(\n",
        "        keras.layers.Dense(\n",
        "            1024, activation='relu',\n",
        "            name=\"structural_pruning_dense\"),\n",
        "        **pruning_params_2_by_4),\n",
        "    keras.layers.Dropout(0.4),\n",
        "    keras.layers.Dense(10)\n",
        "])\n",
        "\n",
        "model.compile(optimizer='adam',\n",
        "              loss=keras.losses.SparseCategoricalCrossentropy(from_logits=True),\n",
        "              metrics=['accuracy'])\n",
        "\n",
        "model.summary()"
      ]
    },
    {
      "cell_type": "markdown",
      "metadata": {
        "id": "U_ddzMppWr_G"
      },
      "source": [
        "モデルをトレーニングして評価します。"
      ]
    },
    {
      "cell_type": "code",
      "execution_count": null,
      "metadata": {
        "id": "F4CnppA1Wr_H"
      },
      "outputs": [],
      "source": [
        "batch_size = 128\n",
        "epochs = 2\n",
        "\n",
        "model.fit(\n",
        "    train_images,\n",
        "    train_labels,\n",
        "    batch_size=batch_size,\n",
        "    epochs=epochs,\n",
        "    verbose=0,\n",
        "    callbacks=tfmot.sparsity.keras.UpdatePruningStep(),\n",
        "    validation_split=0.1)\n",
        "\n",
        "_, pruned_model_accuracy = model.evaluate(test_images, test_labels, verbose=0)\n",
        "print('Pruned test accuracy:', pruned_model_accuracy)"
      ]
    },
    {
      "cell_type": "markdown",
      "metadata": {
        "id": "bA8EDPHMWr_H"
      },
      "source": [
        "プルーニングラッパーを削除し TensorFlow Lite 形式に変換するときにモデルに含まれないようにします。"
      ]
    },
    {
      "cell_type": "code",
      "execution_count": null,
      "metadata": {
        "id": "3wn-OQ_gWr_H"
      },
      "outputs": [],
      "source": [
        "model = tfmot.sparsity.keras.strip_pruning(model)"
      ]
    },
    {
      "cell_type": "markdown",
      "metadata": {
        "id": "eM28m66YWr_H"
      },
      "source": [
        "## モデルを tflite 形式に変換する"
      ]
    },
    {
      "cell_type": "code",
      "execution_count": null,
      "metadata": {
        "id": "EJ7DsA6-Wr_I"
      },
      "outputs": [],
      "source": [
        "import tempfile\n",
        "\n",
        "converter = tf.lite.TFLiteConverter.from_keras_model(model)\n",
        "tflite_model = converter.convert()\n",
        "\n",
        "_, tflite_file = tempfile.mkstemp('.tflite')\n",
        "print('Saved converted pruned model to:', tflite_file)\n",
        "with open(tflite_file, 'wb') as f:\n",
        "  f.write(tflite_model)"
      ]
    },
    {
      "cell_type": "markdown",
      "metadata": {
        "id": "S44x9Rz3Wr_I"
      },
      "source": [
        "## 重みを視覚化して確認する"
      ]
    },
    {
      "cell_type": "markdown",
      "metadata": {
        "id": "_CTu0wxFWr_J"
      },
      "source": [
        "次に、2x4 のスパース性でプルーニングされた `Dense` レイヤーの重みの構造を視覚化します。tflite ファイルから重みを抽出します。"
      ]
    },
    {
      "cell_type": "code",
      "execution_count": null,
      "metadata": {
        "id": "fOIp6QB5Wr_J"
      },
      "outputs": [],
      "source": [
        "# Load tflite file with the created pruned model\n",
        "interpreter = tf.lite.Interpreter(model_path=tflite_file)\n",
        "interpreter.allocate_tensors()\n",
        "\n",
        "details = interpreter.get_tensor_details()\n",
        "\n",
        "# Weights of the dense layer that has been pruned.\n",
        "tensor_name = 'structural_pruning_dense/MatMul'\n",
        "detail = [x for x in details if tensor_name in x[\"name\"]]\n",
        "\n",
        "# We need the first layer.\n",
        "tensor_data = interpreter.tensor(detail[0][\"index\"])()"
      ]
    },
    {
      "cell_type": "markdown",
      "metadata": {
        "id": "yy0jTs_QWr_K"
      },
      "source": [
        "プルーニングされた正しいレイヤーを選択したことを確認するには、重みテンソルの形状を出力します。"
      ]
    },
    {
      "cell_type": "code",
      "execution_count": null,
      "metadata": {
        "id": "mCDkwMUPWr_K"
      },
      "outputs": [],
      "source": [
        "print(f\"Shape of Dense layer is {tensor_data.shape}\")"
      ]
    },
    {
      "cell_type": "markdown",
      "metadata": {
        "id": "mvYTILeUWr_K"
      },
      "source": [
        "重みテンソルの小さなサブセットの構造を視覚化します。重みテンソルの構造は、`(2,4)` パターンを使用して、最後の次元でスパースです。4 要素のうち 2 要素はゼロです。視覚化をより明確にするために、ゼロ以外のすべての値を 1 に置き換えます。"
      ]
    },
    {
      "cell_type": "code",
      "execution_count": null,
      "metadata": {
        "id": "WZfn34bRWr_K"
      },
      "outputs": [],
      "source": [
        "import matplotlib.pyplot as plt\n",
        "import numpy as np\n",
        "\n",
        "# The value 24 is chosen for convenience.\n",
        "width = height = 24\n",
        "\n",
        "subset_values_to_display = tensor_data[0:height, 0:width]\n",
        "\n",
        "val_ones = np.ones([height, width])\n",
        "val_zeros = np.zeros([height, width])\n",
        "subset_values_to_display = np.where(abs(subset_values_to_display) > 0, val_ones, val_zeros)"
      ]
    },
    {
      "cell_type": "markdown",
      "metadata": {
        "id": "fOfWvKwKWr_L"
      },
      "source": [
        "構造を明確に確認するために分離線を描画する補助関数を定義します。"
      ]
    },
    {
      "cell_type": "code",
      "execution_count": null,
      "metadata": {
        "id": "LUplruw9Wr_L"
      },
      "outputs": [],
      "source": [
        "def plot_separation_lines(height, width):\n",
        "\n",
        "    block_size = [1, 4]\n",
        "\n",
        "    # Add separation lines to the figure.\n",
        "    num_hlines = int((height - 1) / block_size[0])\n",
        "    num_vlines = int((width - 1) / block_size[1])\n",
        "    line_y_pos = [y * block_size[0] for y in range(1, num_hlines + 1)]\n",
        "    line_x_pos = [x * block_size[1] for x in range(1, num_vlines + 1)]\n",
        "\n",
        "    for y_pos in line_y_pos:\n",
        "        plt.plot([-0.5, width], [y_pos - 0.5 , y_pos - 0.5], color='w')\n",
        "\n",
        "    for x_pos in line_x_pos:\n",
        "        plt.plot([x_pos - 0.5, x_pos - 0.5], [-0.5, height], color='w')"
      ]
    },
    {
      "cell_type": "markdown",
      "metadata": {
        "id": "sbyjrRgLWr_L"
      },
      "source": [
        "次に、重みテンソルのサブセットを視覚化します。"
      ]
    },
    {
      "cell_type": "code",
      "execution_count": null,
      "metadata": {
        "id": "ATeyf5vCWr_L"
      },
      "outputs": [],
      "source": [
        "plot_separation_lines(height, width)\n",
        "\n",
        "plt.axis('off')\n",
        "plt.imshow(subset_values_to_display)\n",
        "plt.colorbar()\n",
        "plt.title(\"Structural pruning for Dense layer\")\n",
        "plt.show()"
      ]
    },
    {
      "cell_type": "markdown",
      "metadata": {
        "id": "72f7VlOLWr_M"
      },
      "source": [
        "`Conv2D` レイヤーの重みを視覚化します。構造的スパース性は、`Dense` レイヤーと同様に、最後のチャネルに適用されます。前述のように、2 番目の `Conv2D` レイヤーのみが構造的にプルーニングされます。"
      ]
    },
    {
      "cell_type": "code",
      "execution_count": null,
      "metadata": {
        "id": "_Dkbt7eRWr_M"
      },
      "outputs": [],
      "source": [
        "# Get weights of the convolutional layer that has been pruned with 2 by 4 sparsity.\n",
        "tensor_name = 'structural_pruning/Conv2D'\n",
        "detail = [x for x in details if tensor_name in x[\"name\"]]\n",
        "tensor_data = interpreter.tensor(detail[1][\"index\"])()\n",
        "print(f\"Shape of the weight tensor is {tensor_data.shape}\")"
      ]
    },
    {
      "cell_type": "markdown",
      "metadata": {
        "id": "m7a6uTdLWr_M"
      },
      "source": [
        "`Dense` レイヤーの重みと同様に、カーネルの最後の次元は (2, 4) 構造を持っています。"
      ]
    },
    {
      "cell_type": "code",
      "execution_count": null,
      "metadata": {
        "id": "wyvLpfa6Wr_M"
      },
      "outputs": [],
      "source": [
        "weights_to_display = tf.reshape(tensor_data, [tf.reduce_prod(tensor_data.shape[:-1]), -1])\n",
        "weights_to_display = weights_to_display[0:width, 0:height]\n",
        "\n",
        "val_ones = np.ones([height, width])\n",
        "val_zeros = np.zeros([height, width])\n",
        "subset_values_to_display = np.where(abs(weights_to_display) > 1e-9, val_ones, val_zeros)\n",
        "\n",
        "plot_separation_lines(height, width)\n",
        "\n",
        "plt.axis('off')\n",
        "plt.imshow(subset_values_to_display)\n",
        "plt.colorbar()\n",
        "plt.title(\"Structurally pruned weights for Conv2D layer\")\n",
        "plt.show()"
      ]
    },
    {
      "cell_type": "markdown",
      "metadata": {
        "id": "1aX2O8w0Wr_M"
      },
      "source": [
        "ランダムにプルーニングされた重みがどのようになるかを見てみましょう。それらを抽出し、重みテンソルのサブセットを表示します。"
      ]
    },
    {
      "cell_type": "code",
      "execution_count": null,
      "metadata": {
        "id": "eEHu5nizWr_M"
      },
      "outputs": [],
      "source": [
        "# Get weights of the convolutional layer that has been pruned with random pruning.\n",
        "tensor_name = 'pruning_sparsity_0_5/Conv2D'\n",
        "detail = [x for x in details if tensor_name in x[\"name\"]]\n",
        "tensor_data = interpreter.tensor(detail[0][\"index\"])()\n",
        "print(f\"Shape of the weight tensor is {tensor_data.shape}\")"
      ]
    },
    {
      "cell_type": "code",
      "execution_count": null,
      "metadata": {
        "id": "Cimzp3kVWr_M"
      },
      "outputs": [],
      "source": [
        "weights_to_display = tf.reshape(tensor_data, [tensor_data.shape[0],tf.reduce_prod(tensor_data.shape[1:])])\n",
        "weights_to_display = weights_to_display[0:width, 0:height]\n",
        "\n",
        "val_ones = np.ones([height, width])\n",
        "val_zeros = np.zeros([height, width])\n",
        "subset_values_to_display = np.where(abs(weights_to_display) > 0, val_ones, val_zeros)\n",
        "\n",
        "plot_separation_lines(height, width)\n",
        "\n",
        "plt.axis('off')\n",
        "plt.imshow(subset_values_to_display)\n",
        "plt.colorbar()\n",
        "plt.title(\"Unstructed pruned weights for Conv2D layer\")\n",
        "plt.show()"
      ]
    },
    {
      "cell_type": "markdown",
      "metadata": {
        "id": "vqsfZdMpWr_N"
      },
      "source": [
        "TensorFlow モデル最適化ツールキットには、指定された tflite ファイルのモデル内のどのレイヤーが構造的にプルーニングされた重みを持っているかを確認するために使用できる Python スクリプト [ `check_sparsity_m_by_n.py`](https://github.com/tensorflow/model-optimization/blob/master/tensorflow_model_optimization/python/core/sparsity/keras/tools/check_sparsity_m_by_n.py) が含まれています。次のコマンドは、このツールを使用して、特定のモデルで 2x4 のスパース性をチェックする方法を示しています。"
      ]
    },
    {
      "cell_type": "code",
      "execution_count": null,
      "metadata": {
        "id": "7HDYffebWr_N"
      },
      "outputs": [],
      "source": [
        "! python3 ./tensorflow_model_optimization/python/core/sparsity/keras/tools/check_sparsity_m_by_n.py --model_tflite=pruned_model.tflite --m_by_n=2,4\n"
      ]
    }
  ],
  "metadata": {
    "colab": {
      "collapsed_sections": [
        "Tce3stUlHN0L"
      ],
      "name": "pruning_with_sparsity_2_by_4.ipynb",
      "toc_visible": true
    },
    "kernelspec": {
      "display_name": "Python 3",
      "name": "python3"
    }
  },
  "nbformat": 4,
  "nbformat_minor": 0
}
