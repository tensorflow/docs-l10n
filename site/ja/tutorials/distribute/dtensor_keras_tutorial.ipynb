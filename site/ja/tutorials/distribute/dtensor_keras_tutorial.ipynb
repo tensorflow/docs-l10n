{
  "cells": [
    {
      "cell_type": "markdown",
      "metadata": {
        "id": "Tce3stUlHN0L"
      },
      "source": [
        "##### Copyright 2019 The TensorFlow Authors.\n"
      ]
    },
    {
      "cell_type": "code",
      "execution_count": null,
      "metadata": {
        "cellView": "form",
        "id": "tuOe1ymfHZPu"
      },
      "outputs": [],
      "source": [
        "#@title Licensed under the Apache License, Version 2.0 (the \"License\");\n",
        "# you may not use this file except in compliance with the License.\n",
        "# You may obtain a copy of the License at\n",
        "#\n",
        "# https://www.apache.org/licenses/LICENSE-2.0\n",
        "#\n",
        "# Unless required by applicable law or agreed to in writing, software\n",
        "# distributed under the License is distributed on an \"AS IS\" BASIS,\n",
        "# WITHOUT WARRANTIES OR CONDITIONS OF ANY KIND, either express or implied.\n",
        "# See the License for the specific language governing permissions and\n",
        "# limitations under the License."
      ]
    },
    {
      "cell_type": "markdown",
      "metadata": {
        "id": "MT-LkFOl2axM"
      },
      "source": [
        "# Keras で DTensors を使用する"
      ]
    },
    {
      "cell_type": "markdown",
      "metadata": {
        "id": "r6P32iYYV27b"
      },
      "source": [
        "<table class=\"tfo-notebook-buttons\" align=\"left\">\n",
        "  <td>     <a target=\"_blank\" href=\"https://www.tensorflow.org/tutorials/distribute/dtensor_keras_tutorial\">     <img src=\"https://www.tensorflow.org/images/tf_logo_32px.png\">     TensorFlow.org で表示</a> </td>\n",
        "  <td>     <a target=\"_blank\" href=\"https://colab.research.google.com/github/tensorflow/docs-l10n/blob/master/site/ja/tutorials/distribute/dtensor_keras_tutorial.ipynb\">     <img src=\"https://www.tensorflow.org/images/colab_logo_32px.png\">     Google Colab で実行</a> </td>\n",
        "  <td><a target=\"_blank\" href=\"https://github.com/tensorflow/docs-l10n/blob/master/site/ja/tutorials/distribute/dtensor_keras_tutorial.ipynb\">     <img src=\"https://www.tensorflow.org/images/GitHub-Mark-32px.png\">     GitHubでソースを表示</a></td>\n",
        "  <td><a href=\"https://storage.googleapis.com/tensorflow_docs/docs-l10n/site/ja/tutorials/distribute/dtensor_keras_tutorial.ipynb\"><img src=\"https://www.tensorflow.org/images/download_logo_32px.png\">ノートブックをダウンロード</a></td>\n",
        "</table>"
      ]
    },
    {
      "cell_type": "markdown",
      "metadata": {
        "id": "vTe9dcbUAwqx"
      },
      "source": [
        "## 概要\n",
        "\n",
        "このチュートリアルでは、Keras で DTensor を使用する方法について学習します。\n",
        "\n",
        "DTensor を Keras と組み合わせることで、分散型機械学習モデルの構築とトレーニングに既存の Keras レイヤーとモデルを再利用することができます。\n",
        "\n",
        "MNIST データを使用してマルチレイヤーの分類モデルをトレーニングします。サブクラス化モデル、Sequential モデル、Functional モデルのレイアウトの設定について説明します。\n",
        "\n",
        "このチュートリアルでは、すでに「[DTensor プログラミングガイド](/guide/dtensor_overview)」を読んでいること、`Mesh` や `Layout` などの基本的な DTensor の概念に精通していることを前提としています。\n",
        "\n",
        "このチュートリアルでは、https://www.tensorflow.org/datasets/keras_example を基盤に使用しています。"
      ]
    },
    {
      "cell_type": "markdown",
      "metadata": {
        "id": "keIyP3IoA1o4"
      },
      "source": [
        "## MNIST モデルをビルドする\n",
        "\n",
        "DTensor は、TensorFlow 2.9.0 リリースに含まれています。"
      ]
    },
    {
      "cell_type": "code",
      "execution_count": null,
      "metadata": {
        "id": "4dHik7NYA5vm"
      },
      "outputs": [],
      "source": [
        "!pip install --quiet --upgrade --pre tensorflow tensorflow-datasets"
      ]
    },
    {
      "cell_type": "markdown",
      "metadata": {
        "id": "VttBMZngDx8x"
      },
      "source": [
        "次に、`tensorflow` と `tensorflow.experimental.dtensor` をインポートし、8 個の仮想 CPU を使用するように TensorFlow を構成します。\n",
        "\n",
        "この例では CPU を使用しますが、DTensor は CPU、GPU、または TPU デバイスで同じように動作します。"
      ]
    },
    {
      "cell_type": "code",
      "execution_count": null,
      "metadata": {
        "id": "CodX6idGBGSm"
      },
      "outputs": [],
      "source": [
        "import tensorflow as tf\n",
        "import tensorflow_datasets as tfds\n",
        "from tensorflow.experimental import dtensor"
      ]
    },
    {
      "cell_type": "code",
      "execution_count": null,
      "metadata": {
        "id": "aAtvrpasDpDD"
      },
      "outputs": [],
      "source": [
        "def configure_virtual_cpus(ncpu):\n",
        "  phy_devices = tf.config.list_physical_devices('CPU')\n",
        "  tf.config.set_logical_device_configuration(\n",
        "        phy_devices[0], \n",
        "        [tf.config.LogicalDeviceConfiguration()] * ncpu)\n",
        "  \n",
        "configure_virtual_cpus(8)\n",
        "tf.config.list_logical_devices('CPU')\n",
        "\n",
        "devices = [f'CPU:{i}' for i in range(8)]"
      ]
    },
    {
      "cell_type": "markdown",
      "metadata": {
        "id": "ogULE1OHtyd9"
      },
      "source": [
        "## 決定論的疑似乱数ジェネレータ\n",
        "\n",
        "1 つ注意しておかなければならないのは、DTensor API では、実行中の各クライアントに同じランダムシードがある必要があることです。そうすることで、重みの初期化で決定論的動作が得られます。これは、Keras で `tf.keras.utils.set_random_seed()` を使ってグローバルシードを設定することで行えます。"
      ]
    },
    {
      "cell_type": "code",
      "execution_count": null,
      "metadata": {
        "id": "9u85YypguL8N"
      },
      "outputs": [],
      "source": [
        "tf.keras.backend.experimental.enable_tf_random_generator()\n",
        "tf.keras.utils.set_random_seed(1337)"
      ]
    },
    {
      "cell_type": "markdown",
      "metadata": {
        "id": "tO11XvPDAu3_"
      },
      "source": [
        "## データ並列メッシュを作成する\n",
        "\n",
        "このチュートリアルでは、データ並列トレーニングを実演します。モデルの並列トレーニングと空間の並列トレーニングへの適応は、別のセットの `Layout` オブジェクトに切り替えるのと同じくらい単純です。データ並列を超える分散トレーニングについての詳細は、[DTensor の詳細な ML チュートリアル](https://www.tensorflow.org/tutorials/distribute/dtensor_ml_tutorial)をご覧ください。\n",
        "\n",
        "データ並列トレーニングは、一般的に使用される並列トレーニングですが、`tf.distribute.MirroredStrategy` などによっても使用されます。\n",
        "\n",
        "DTensor を使うと、データ並列トレーニングループは、単一の 'batch' 次元で構成される `Mesh` を使用します。各デバイスは、グローバルの batch からシャードを受け取るモデルのレプリカを実行します。\n"
      ]
    },
    {
      "cell_type": "code",
      "execution_count": null,
      "metadata": {
        "id": "6sT6s6z4j9H-"
      },
      "outputs": [],
      "source": [
        "mesh = dtensor.create_mesh([(\"batch\", 8)], devices=devices)"
      ]
    },
    {
      "cell_type": "markdown",
      "metadata": {
        "id": "rouFcF6FE0aF"
      },
      "source": [
        "各デバイスがモデルの完全なレプリカを実行する過程で、モデルの変数がメッシュ（シャーディングなし）間で完全に複製されます。例として、この `Mesh` の階数 2 の重みに対して完全に複製されるレイアウトは、以下のようになります。"
      ]
    },
    {
      "cell_type": "code",
      "execution_count": null,
      "metadata": {
        "id": "U8OxvkDKE1Nu"
      },
      "outputs": [],
      "source": [
        "example_weight_layout = dtensor.Layout([dtensor.UNSHARDED, dtensor.UNSHARDED], mesh)  # or\n",
        "example_weight_layout = dtensor.Layout.replicated(mesh, rank=2)"
      ]
    },
    {
      "cell_type": "markdown",
      "metadata": {
        "id": "6Bnic98RE0xi"
      },
      "source": [
        "階数 2 のデータテンソルのレイアウトは、最初の次元（`batch_sharded` としても知られます）に沿ってシャーディングされます。"
      ]
    },
    {
      "cell_type": "code",
      "execution_count": null,
      "metadata": {
        "id": "PhYp0EKBFfxt"
      },
      "outputs": [],
      "source": [
        "example_data_layout = dtensor.Layout(['batch', dtensor.UNSHARDED], mesh)  # or\n",
        "example_data_layout = dtensor.Layout.batch_sharded(mesh, 'batch', rank=2)"
      ]
    },
    {
      "cell_type": "markdown",
      "metadata": {
        "id": "4U-6n0DericV"
      },
      "source": [
        "## レイアウトで Keras レイヤーを作成する\n",
        "\n",
        "データ並列スキームでは通常、モデルの各レプリカがシャーディングされた入力データを使って計算を行えるように、完全に複製されたレイアウトを使ってモデルの重みを作成します。\n",
        "\n",
        "レイヤーの重みのレイアウト情報を構成するために、Keras では、ほとんどの組み込みレイヤーで使用できる追加のパラメータをレイヤーコンストラクタに公開しています。\n",
        "\n",
        "以下は、完全に複製された重みレイアウトを使用する小さな画像分類モデルを構築する例です。レイアウト情報の `kernel` と `bias` は、`kernel_layout` と `bias_layout` の引数を介して `tf.keras.layers.Dense` に指定できます。組み込み Keras レイヤーのほとんどは、レイアウトの重みの `Layout` を明示的に指定できるようになっています。"
      ]
    },
    {
      "cell_type": "code",
      "execution_count": null,
      "metadata": {
        "id": "Koc5GlA1tFXY"
      },
      "outputs": [],
      "source": [
        "unsharded_layout_2d = dtensor.Layout.replicated(mesh, 2)\n",
        "unsharded_layout_1d = dtensor.Layout.replicated(mesh, 1)"
      ]
    },
    {
      "cell_type": "code",
      "execution_count": null,
      "metadata": {
        "id": "GfOGTIxGs5Ql"
      },
      "outputs": [],
      "source": [
        "model = tf.keras.models.Sequential([\n",
        "  tf.keras.layers.Flatten(input_shape=(28, 28)),\n",
        "  tf.keras.layers.Dense(128, \n",
        "                        activation='relu',\n",
        "                        name='d1',\n",
        "                        kernel_layout=unsharded_layout_2d, \n",
        "                        bias_layout=unsharded_layout_1d),\n",
        "  tf.keras.layers.Dense(10,\n",
        "                        name='d2',\n",
        "                        kernel_layout=unsharded_layout_2d, \n",
        "                        bias_layout=unsharded_layout_1d)\n",
        "])"
      ]
    },
    {
      "cell_type": "markdown",
      "metadata": {
        "id": "0frf3jsVtx_n"
      },
      "source": [
        "レイアウト情報は、重みの `layout` プロパティを調べることで確認できます。"
      ]
    },
    {
      "cell_type": "code",
      "execution_count": null,
      "metadata": {
        "id": "Z_nqv_VdwcXo"
      },
      "outputs": [],
      "source": [
        "for weight in model.weights:\n",
        "  print(f'Weight name: {weight.name} with layout: {weight.layout}')\n",
        "  break"
      ]
    },
    {
      "cell_type": "markdown",
      "metadata": {
        "id": "6FMGB-QsxPtU"
      },
      "source": [
        "## データセットを読み込んで入力パイプラインを構築する\n",
        "\n",
        "MNIST データセットを読み込んで、それに使用する事前処理用の入力パイプラインを構成します。データセット自体は DTensor レイアウト情報に関連付けられていません。今後の TensorFlow リリースにおいて、`tf.data` との DTensor Keras 統合が改善される予定です。\n"
      ]
    },
    {
      "cell_type": "code",
      "execution_count": null,
      "metadata": {
        "id": "zGt4kwltxOt4"
      },
      "outputs": [],
      "source": [
        "(ds_train, ds_test), ds_info = tfds.load(\n",
        "    'mnist',\n",
        "    split=['train', 'test'],\n",
        "    shuffle_files=True,\n",
        "    as_supervised=True,\n",
        "    with_info=True,\n",
        ")"
      ]
    },
    {
      "cell_type": "code",
      "execution_count": null,
      "metadata": {
        "id": "HkUaOB_ryaLH"
      },
      "outputs": [],
      "source": [
        "def normalize_img(image, label):\n",
        "  \"\"\"Normalizes images: `uint8` -> `float32`.\"\"\"\n",
        "  return tf.cast(image, tf.float32) / 255., label"
      ]
    },
    {
      "cell_type": "code",
      "execution_count": null,
      "metadata": {
        "id": "Efm2H1iqydan"
      },
      "outputs": [],
      "source": [
        "batch_size = 128\n",
        "\n",
        "ds_train = ds_train.map(\n",
        "    normalize_img, num_parallel_calls=tf.data.AUTOTUNE)\n",
        "ds_train = ds_train.cache()\n",
        "ds_train = ds_train.shuffle(ds_info.splits['train'].num_examples)\n",
        "ds_train = ds_train.batch(batch_size)\n",
        "ds_train = ds_train.prefetch(tf.data.AUTOTUNE)"
      ]
    },
    {
      "cell_type": "code",
      "execution_count": null,
      "metadata": {
        "id": "Lcrg6QAtyis4"
      },
      "outputs": [],
      "source": [
        "ds_test = ds_test.map(\n",
        "    normalize_img, num_parallel_calls=tf.data.AUTOTUNE)\n",
        "ds_test = ds_test.batch(batch_size)\n",
        "ds_test = ds_test.cache()\n",
        "ds_test = ds_test.prefetch(tf.data.AUTOTUNE)"
      ]
    },
    {
      "cell_type": "markdown",
      "metadata": {
        "id": "fHEZwib7lhqn"
      },
      "source": [
        "## モデルのトレーニングロジックを定義する\n",
        "\n",
        "次に、モデルのトレーニングロジックと評価ロジックを定義します。\n",
        "\n",
        "TensorFlow 2.9 の時点では、DTensor が有効化された Keras モデルにカスタムトレーニングループを書き込む必要があります。これは、入力データに、Keras の標準の `tf.keras.Model.fit()` または `tf.keras.Model.eval()` 関数には組み込まれていない適切なレイアウト情報を詰め込むために行います。さらに多くの `tf.data` サポートが、今後のリリースで追加される予定です。 "
      ]
    },
    {
      "cell_type": "code",
      "execution_count": null,
      "metadata": {
        "id": "CAx11gMjzzjs"
      },
      "outputs": [],
      "source": [
        "@tf.function\n",
        "def train_step(model, x, y, optimizer, metrics):\n",
        "  with tf.GradientTape() as tape:\n",
        "    logits = model(x, training=True)\n",
        "    # tf.reduce_sum sums the batch sharded per-example loss to a replicated\n",
        "    # global loss (scalar).\n",
        "    loss = tf.reduce_sum(tf.keras.losses.sparse_categorical_crossentropy(\n",
        "        y, logits, from_logits=True))\n",
        "    \n",
        "  gradients = tape.gradient(loss, model.trainable_variables)\n",
        "  optimizer.apply_gradients(zip(gradients, model.trainable_variables))\n",
        "\n",
        "  for metric in metrics.values():\n",
        "    metric.update_state(y_true=y, y_pred=logits)\n",
        "\n",
        "  loss_per_sample = loss / len(x)\n",
        "  results = {'loss': loss_per_sample}\n",
        "  return results"
      ]
    },
    {
      "cell_type": "code",
      "execution_count": null,
      "metadata": {
        "id": "maSTWeRemO0P"
      },
      "outputs": [],
      "source": [
        "@tf.function\n",
        "def eval_step(model, x, y, metrics):\n",
        "  logits = model(x, training=False)\n",
        "  loss = tf.reduce_sum(tf.keras.losses.sparse_categorical_crossentropy(\n",
        "        y, logits, from_logits=True))\n",
        "\n",
        "  for metric in metrics.values():\n",
        "    metric.update_state(y_true=y, y_pred=logits)\n",
        "\n",
        "  loss_per_sample = loss / len(x)\n",
        "  results = {'eval_loss': loss_per_sample}\n",
        "  return results"
      ]
    },
    {
      "cell_type": "code",
      "execution_count": null,
      "metadata": {
        "id": "dt00axcLmvLr"
      },
      "outputs": [],
      "source": [
        "def pack_dtensor_inputs(images, labels, image_layout, label_layout):\n",
        "  num_local_devices = image_layout.mesh.num_local_devices()\n",
        "  images = tf.split(images, num_local_devices)\n",
        "  labels = tf.split(labels, num_local_devices)\n",
        "  images = dtensor.pack(images, image_layout)\n",
        "  labels = dtensor.pack(labels, label_layout)\n",
        "  return  images, labels"
      ]
    },
    {
      "cell_type": "markdown",
      "metadata": {
        "id": "9Eb-qIJGrxB9"
      },
      "source": [
        "## Metric と Optimizer\n",
        "\n",
        "Keras `Metric` と `Optimizer` を使って DTensor API を使用する場合、追加のメッシュ情報を指定して、内部状態変数とテンソルがモデルの変数と連携できるようにする必要があります。\n",
        "\n",
        "- オプティマイザの場合、DTensor は `keras.dtensor.experimental.optimizers` という新しい実験的な名前空間を使用します。多くの既存の Keras Optimizer は、追加の `mesh` 引数を受け取るように拡張されます。今後のリリースでは、Keras のコアオプティマイザにマージされる可能性があります。\n",
        "\n",
        "- 指標の場合、DTensor 対応の `Metric` になるように、コンストラクタに直接引数として `mesh` を指定できます。"
      ]
    },
    {
      "cell_type": "code",
      "execution_count": null,
      "metadata": {
        "id": "1lu_0mz1sxrl"
      },
      "outputs": [],
      "source": [
        "optimizer = tf.keras.dtensor.experimental.optimizers.Adam(0.01, mesh=mesh)\n",
        "metrics = {'accuracy': tf.keras.metrics.SparseCategoricalAccuracy(mesh=mesh)}\n",
        "eval_metrics = {'eval_accuracy': tf.keras.metrics.SparseCategoricalAccuracy(mesh=mesh)}"
      ]
    },
    {
      "cell_type": "markdown",
      "metadata": {
        "id": "QzufrkistELx"
      },
      "source": [
        "## モデルのトレーニング\n",
        "\n",
        "以下の例では、batch 次元で入力パイプラインのデータをシャード化し、完全に複製された重みをもつモデルを使ってトレーニングします。\n",
        "\n",
        "モデルは 3 つのエポックで、約 97% の精度を達成します。"
      ]
    },
    {
      "cell_type": "code",
      "execution_count": null,
      "metadata": {
        "id": "kZW568Dk0vvL"
      },
      "outputs": [],
      "source": [
        "num_epochs = 3\n",
        "\n",
        "image_layout = dtensor.Layout.batch_sharded(mesh, 'batch', rank=4)\n",
        "label_layout = dtensor.Layout.batch_sharded(mesh, 'batch', rank=1)\n",
        "\n",
        "for epoch in range(num_epochs):\n",
        "  print(\"============================\") \n",
        "  print(\"Epoch: \", epoch)\n",
        "  for metric in metrics.values():\n",
        "    metric.reset_state()\n",
        "  step = 0\n",
        "  results = {}\n",
        "  pbar = tf.keras.utils.Progbar(target=None, stateful_metrics=[])\n",
        "  for input in ds_train:\n",
        "    images, labels = input[0], input[1]\n",
        "    images, labels = pack_dtensor_inputs(\n",
        "        images, labels, image_layout, label_layout)\n",
        "\n",
        "    results.update(train_step(model, images, labels, optimizer, metrics))\n",
        "    for metric_name, metric in metrics.items():\n",
        "      results[metric_name] = metric.result()\n",
        "\n",
        "    pbar.update(step, values=results.items(), finalize=False)\n",
        "    step += 1\n",
        "  pbar.update(step, values=results.items(), finalize=True)\n",
        "\n",
        "  for metric in eval_metrics.values():\n",
        "    metric.reset_state()\n",
        "  for input in ds_test:\n",
        "    images, labels = input[0], input[1]\n",
        "    images, labels = pack_dtensor_inputs(\n",
        "        images, labels, image_layout, label_layout)\n",
        "    results.update(eval_step(model, images, labels, eval_metrics))\n",
        "\n",
        "  for metric_name, metric in eval_metrics.items():\n",
        "    results[metric_name] = metric.result()\n",
        "  \n",
        "  for metric_name, metric in results.items():\n",
        "    print(f\"{metric_name}: {metric.numpy()}\")\n"
      ]
    },
    {
      "cell_type": "markdown",
      "metadata": {
        "id": "HYEXF6qCuoSr"
      },
      "source": [
        "## 既存のモデルコードのレイアウトを指定する\n",
        "\n",
        "ほとんどの場合、モデルは特定のユースケースでうまく動作するようになっているため、モデル内の個別のレイヤーに `Layout` 情報を指定する作業は膨大であり、多数の編集作業が必要となります。\n",
        "\n",
        "既存の Keras モデルを DTensor API で動作できるようにするための変換作業を行いやすくするために、グローバルな観点で `Layout` を指定できる新しい `dtensor.LayoutMap` API を使用できます。\n",
        "\n",
        "まず、`LayoutMap` インスタンスを作成する必要があります。これは、モデルの重みに指定するすべての `Layout` を構成するディクショナリのようなオブジェクトです。\n",
        "\n",
        "`LayoutMap` には、init 時に `Mesh` インスタンスが必要です。これは、Layout が構成されていない、任意の重みに対するデフォルトの複製済み `Layout` を指定するために使用できます。すべてのモデルの重みを完全に複製するだけの場合は、空の `LayoutMap` を指定すると、デフォルトのメッシュを使って複製された `Layout` が作成されます。\n",
        "\n",
        "`LayoutMap` は、文字列をキーとして、`Layout` を値として使用します。通常の Python dict とこのクラスでは、動作が異なります。文字列キーは、値を取得する際の正規表現として処理されます。"
      ]
    },
    {
      "cell_type": "markdown",
      "metadata": {
        "id": "SCq5Nl-UP_dS"
      },
      "source": [
        "### Subclassed モデル\n",
        "\n",
        "Keras のサブクラス化モデル構文を使って定義された以下のモデルについて考察してみましょう。"
      ]
    },
    {
      "cell_type": "code",
      "execution_count": null,
      "metadata": {
        "id": "LZ0hRFs8unu0"
      },
      "outputs": [],
      "source": [
        "class SubclassedModel(tf.keras.Model):\n",
        "\n",
        "  def __init__(self, name=None):\n",
        "    super().__init__(name=name)\n",
        "    self.feature = tf.keras.layers.Dense(16)\n",
        "    self.feature_2 = tf.keras.layers.Dense(24)\n",
        "    self.dropout = tf.keras.layers.Dropout(0.1)\n",
        "\n",
        "  def call(self, inputs, training=None):\n",
        "    x = self.feature(inputs)\n",
        "    x = self.dropout(x, training=training)\n",
        "    return self.feature_2(x)"
      ]
    },
    {
      "cell_type": "markdown",
      "metadata": {
        "id": "1njxqPB-yS97"
      },
      "source": [
        "このモデルには、2 つの `Dense` レイヤーに対し `kernel` と `bias` レイヤーという 4 つの重みがあります。それぞれは、オブジェクトパスに基づいてマッピングされています。\n",
        "\n",
        "- `model.feature.kernel`\n",
        "- `model.feature.bias`\n",
        "- `model.feature_2.kernel`\n",
        "- `model.feature_2.bias`\n",
        "\n",
        "注意: Subclassed モデルでは、マッピングから Layout を取得する際に、レイヤーの `.name` 属性ではなく、属性名がキーとして使用されます。これは、`tf.Module` のチェックポイント設定が使う規則と同じです。多数のレイヤーを持つ複雑なモデルでは、[チェックポイントを手動で検査する](https://www.tensorflow.org/guide/checkpoint#manually_inspecting_checkpoints)ことで、属性のマッピングを確認できます。\n",
        "\n",
        "では、以下の `LayoutMap` を定義して、モデルを適用しましょう。"
      ]
    },
    {
      "cell_type": "code",
      "execution_count": null,
      "metadata": {
        "id": "goVX6iIZw468"
      },
      "outputs": [],
      "source": [
        "layout_map = tf.keras.dtensor.experimental.LayoutMap(mesh=mesh)\n",
        "\n",
        "layout_map['feature.*kernel'] = dtensor.Layout.batch_sharded(mesh, 'batch', rank=2)\n",
        "layout_map['feature.*bias'] = dtensor.Layout.batch_sharded(mesh, 'batch', rank=1)\n",
        "\n",
        "with tf.keras.dtensor.experimental.layout_map_scope(layout_map):\n",
        "  subclassed_model = SubclassedModel()"
      ]
    },
    {
      "cell_type": "markdown",
      "metadata": {
        "id": "M32HcSp_PyWs"
      },
      "source": [
        "モデルの重みは最初のセルに作成されているため、DTensor 入力でモデルを呼び出し、重みに期待されるレイアウトがあることを確認します。"
      ]
    },
    {
      "cell_type": "code",
      "execution_count": null,
      "metadata": {
        "id": "c3CbD9l7qUNq"
      },
      "outputs": [],
      "source": [
        "dtensor_input = dtensor.copy_to_mesh(tf.zeros((16, 16)), layout=unsharded_layout_2d)\n",
        "# Trigger the weights creation for subclass model\n",
        "subclassed_model(dtensor_input)\n",
        "\n",
        "print(subclassed_model.feature.kernel.layout)"
      ]
    },
    {
      "cell_type": "markdown",
      "metadata": {
        "id": "ZyCnfd-4Q2jk"
      },
      "source": [
        "これにより、既存のコードを更新することなく、`Layout` をすばやくモデルにマッピングすることができます。 "
      ]
    },
    {
      "cell_type": "markdown",
      "metadata": {
        "id": "6GliUdWTQnKC"
      },
      "source": [
        "### Sequential モデルと Functional モデル"
      ]
    },
    {
      "cell_type": "markdown",
      "metadata": {
        "id": "6zzvTqAR2Teu"
      },
      "source": [
        "Keras Functional モデルと Sequential モデルの場合も、`LayoutMap` を使用できます。\n",
        "\n",
        "注意: Functional モデルと Sequential モデルでは、マッピングにわずかな違いがあります。モデルのレイヤーには、モデルに接続された公開属性がありません（ただし、`model.layers` を介してリストとしてアクセス可能です）。この場合、文字列名をキーとして使用します。文字列名は、モデル内で必ず一意の値です。"
      ]
    },
    {
      "cell_type": "code",
      "execution_count": null,
      "metadata": {
        "id": "gXK2EquIRJCC"
      },
      "outputs": [],
      "source": [
        "layout_map = tf.keras.dtensor.experimental.LayoutMap(mesh=mesh)\n",
        "\n",
        "layout_map['feature.*kernel'] = dtensor.Layout.batch_sharded(mesh, 'batch', rank=2)\n",
        "layout_map['feature.*bias'] = dtensor.Layout.batch_sharded(mesh, 'batch', rank=1)"
      ]
    },
    {
      "cell_type": "code",
      "execution_count": null,
      "metadata": {
        "id": "cBzwJqrg2TH3"
      },
      "outputs": [],
      "source": [
        "with tf.keras.dtensor.experimental.layout_map_scope(layout_map):\n",
        "  inputs = tf.keras.Input((16,), batch_size=16)\n",
        "  x = tf.keras.layers.Dense(16, name='feature')(inputs)\n",
        "  x = tf.keras.layers.Dropout(0.1)(x)\n",
        "  output = tf.keras.layers.Dense(32, name='feature_2')(x)\n",
        "  model = tf.keras.Model(inputs, output)\n",
        "\n",
        "print(model.layers[1].kernel.layout)"
      ]
    },
    {
      "cell_type": "code",
      "execution_count": null,
      "metadata": {
        "id": "pPuh1NlE3-wO"
      },
      "outputs": [],
      "source": [
        "with tf.keras.dtensor.experimental.layout_map_scope(layout_map):\n",
        "  model = tf.keras.Sequential([\n",
        "      tf.keras.layers.Dense(16, name='feature', input_shape=(16,)),\n",
        "      tf.keras.layers.Dropout(0.1),\n",
        "      tf.keras.layers.Dense(32, name='feature_2')\n",
        "  ])\n",
        "\n",
        "print(model.layers[2].kernel.layout)"
      ]
    }
  ],
  "metadata": {
    "colab": {
      "collapsed_sections": [],
      "name": "dtensor_keras_tutorial.ipynb",
      "toc_visible": true
    },
    "kernelspec": {
      "display_name": "Python 3",
      "name": "python3"
    }
  },
  "nbformat": 4,
  "nbformat_minor": 0
}
