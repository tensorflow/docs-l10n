{
  "cells": [
    {
      "cell_type": "markdown",
      "metadata": {
        "id": "g_nWetWWd_ns"
      },
      "source": [
        "##### Copyright 2019 The TensorFlow Authors."
      ]
    },
    {
      "cell_type": "code",
      "execution_count": null,
      "metadata": {
        "cellView": "form",
        "id": "2pHVBk_seED1"
      },
      "outputs": [],
      "source": [
        "#@title Licensed under the Apache License, Version 2.0 (the \"License\");\n",
        "# you may not use this file except in compliance with the License.\n",
        "# You may obtain a copy of the License at\n",
        "#\n",
        "# https://www.apache.org/licenses/LICENSE-2.0\n",
        "#\n",
        "# Unless required by applicable law or agreed to in writing, software\n",
        "# distributed under the License is distributed on an \"AS IS\" BASIS,\n",
        "# WITHOUT WARRANTIES OR CONDITIONS OF ANY KIND, either express or implied.\n",
        "# See the License for the specific language governing permissions and\n",
        "# limitations under the License."
      ]
    },
    {
      "cell_type": "code",
      "execution_count": null,
      "metadata": {
        "cellView": "form",
        "id": "N_fMsQ-N8I7j"
      },
      "outputs": [],
      "source": [
        "#@title MIT License\n",
        "#\n",
        "# Copyright (c) 2017 François Chollet\n",
        "#\n",
        "# Permission is hereby granted, free of charge, to any person obtaining a\n",
        "# copy of this software and associated documentation files (the \"Software\"),\n",
        "# to deal in the Software without restriction, including without limitation\n",
        "# the rights to use, copy, modify, merge, publish, distribute, sublicense,\n",
        "# and/or sell copies of the Software, and to permit persons to whom the\n",
        "# Software is furnished to do so, subject to the following conditions:\n",
        "#\n",
        "# The above copyright notice and this permission notice shall be included in\n",
        "# all copies or substantial portions of the Software.\n",
        "#\n",
        "# THE SOFTWARE IS PROVIDED \"AS IS\", WITHOUT WARRANTY OF ANY KIND, EXPRESS OR\n",
        "# IMPLIED, INCLUDING BUT NOT LIMITED TO THE WARRANTIES OF MERCHANTABILITY,\n",
        "# FITNESS FOR A PARTICULAR PURPOSE AND NONINFRINGEMENT. IN NO EVENT SHALL\n",
        "# THE AUTHORS OR COPYRIGHT HOLDERS BE LIABLE FOR ANY CLAIM, DAMAGES OR OTHER\n",
        "# LIABILITY, WHETHER IN AN ACTION OF CONTRACT, TORT OR OTHERWISE, ARISING\n",
        "# FROM, OUT OF OR IN CONNECTION WITH THE SOFTWARE OR THE USE OR OTHER\n",
        "# DEALINGS IN THE SOFTWARE."
      ]
    },
    {
      "cell_type": "markdown",
      "metadata": {
        "id": "pZJ3uY9O17VN"
      },
      "source": [
        "# モデルの保存と復元"
      ]
    },
    {
      "cell_type": "markdown",
      "metadata": {
        "id": "M4Ata7_wMul1"
      },
      "source": [
        "<table class=\"tfo-notebook-buttons\" align=\"left\">\n",
        "  <td>     <a target=\"_blank\" href=\"https://www.tensorflow.org/tutorials/keras/save_and_load\"><img src=\"https://www.tensorflow.org/images/tf_logo_32px.png\">TensorFlow.org で表示</a> </td>\n",
        "  <td>     <a target=\"_blank\" href=\"https://colab.research.google.com/github/tensorflow/docs-l10n/blob/master/site/ja/tutorials/keras/save_and_load.ipynb\"><img src=\"https://www.tensorflow.org/images/colab_logo_32px.png\">Google Colab で実行</a> </td>\n",
        "  <td>     <a target=\"_blank\" href=\"https://github.com/tensorflow/docs-l10n/blob/master/site/ja/tutorials/keras/save_and_load.ipynb\"><img src=\"https://www.tensorflow.org/images/GitHub-Mark-32px.png\">GitHub でソースを表示</a> </td>\n",
        "  <td>     <a href=\"https://storage.googleapis.com/tensorflow_docs/docs-l10n/site/ja/tutorials/keras/save_and_load.ipynb\"><img src=\"https://www.tensorflow.org/images/download_logo_32px.png\">ノートブックをダウンロード</a> </td>\n",
        "</table>"
      ]
    },
    {
      "cell_type": "markdown",
      "metadata": {
        "id": "mBdde4YJeJKF"
      },
      "source": [
        "モデルの進行状況は、トレーニング中およびトレーニング後に保存できます。モデルが中断したところから再開できるので、長いトレーニング時間を回避できます。また、保存することによりモデルを共有したり、他の人による作業の再現が可能になります。研究モデルや手法を公開する場合、ほとんどの機械学習の実践者は次を共有します。\n",
        "\n",
        "- モデルを構築するプログラム\n",
        "- モデルのトレーニング済みモデルの重みやパラメータ\n",
        "\n",
        "このデータを共有することで、他の人がモデルがどの様に動作するかを理解したり、新しいデータに試してみたりすることが容易になります。\n",
        "\n",
        "注意: TensorFlow モデルはコードであり、信頼できないコードに注意する必要があります。詳細については、[TensorFlow を安全に使用する](https://github.com/tensorflow/tensorflow/blob/master/SECURITY.md)をご覧ください。\n",
        "\n",
        "### オプション\n",
        "\n",
        "使用している API に応じて、さまざまな方法で TensorFlow モデルを保存できます。このガイドでは、高レベル API である[ tf.keras ](https://www.tensorflow.org/guide/keras)を使用して、TensorFlow でモデルを構築およびトレーニングします。他のアプローチについては、TensorFlow [保存と復元](https://www.tensorflow.org/guide/saved_model)ガイドまたは [Eager で保存する](https://www.tensorflow.org/guide/eager#object-based_saving)を参照してください。"
      ]
    },
    {
      "cell_type": "markdown",
      "metadata": {
        "id": "xCUREq7WXgvg"
      },
      "source": [
        "## 設定\n",
        "\n",
        "### インストールとインポート"
      ]
    },
    {
      "cell_type": "markdown",
      "metadata": {
        "id": "7l0MiTOrXtNv"
      },
      "source": [
        "TensorFlow をインストールし、依存関係インポートします。"
      ]
    },
    {
      "cell_type": "code",
      "execution_count": null,
      "metadata": {
        "id": "RzIOVSdnMYyO"
      },
      "outputs": [],
      "source": [
        "!pip install pyyaml h5py  # Required to save models in HDF5 format"
      ]
    },
    {
      "cell_type": "code",
      "execution_count": null,
      "metadata": {
        "id": "7Nm7Tyb-gRt-"
      },
      "outputs": [],
      "source": [
        "import os\n",
        "\n",
        "import tensorflow as tf\n",
        "from tensorflow import keras\n",
        "\n",
        "print(tf.version.VERSION)"
      ]
    },
    {
      "cell_type": "markdown",
      "metadata": {
        "id": "SbGsznErXWt6"
      },
      "source": [
        "### サンプルデータセットの取得\n",
        "\n",
        "ここでは、重みの保存と読み込みをデモするために、[MNIST データセット](http://yann.lecun.com/exdb/mnist/)を使います。デモの実行を速くするため、最初の 1,000 件のサンプルだけを使います。"
      ]
    },
    {
      "cell_type": "code",
      "execution_count": null,
      "metadata": {
        "id": "9rGfFwE9XVwz"
      },
      "outputs": [],
      "source": [
        "(train_images, train_labels), (test_images, test_labels) = tf.keras.datasets.mnist.load_data()\n",
        "\n",
        "train_labels = train_labels[:1000]\n",
        "test_labels = test_labels[:1000]\n",
        "\n",
        "train_images = train_images[:1000].reshape(-1, 28 * 28) / 255.0\n",
        "test_images = test_images[:1000].reshape(-1, 28 * 28) / 255.0"
      ]
    },
    {
      "cell_type": "markdown",
      "metadata": {
        "id": "anG3iVoXyZGI"
      },
      "source": [
        "### モデルの定義"
      ]
    },
    {
      "cell_type": "markdown",
      "metadata": {
        "id": "wynsOBfby0Pa"
      },
      "source": [
        "簡単なシーケンシャルモデルを構築することから始めます。"
      ]
    },
    {
      "cell_type": "code",
      "execution_count": null,
      "metadata": {
        "id": "0HZbJIjxyX1S"
      },
      "outputs": [],
      "source": [
        "# Define a simple sequential model\n",
        "def create_model():\n",
        "  model = tf.keras.models.Sequential([\n",
        "    keras.layers.Dense(512, activation='relu', input_shape=(784,)),\n",
        "    keras.layers.Dropout(0.2),\n",
        "    keras.layers.Dense(10)\n",
        "  ])\n",
        "\n",
        "  model.compile(optimizer='adam',\n",
        "                loss=tf.losses.SparseCategoricalCrossentropy(from_logits=True),\n",
        "                metrics=[tf.metrics.SparseCategoricalAccuracy()])\n",
        "\n",
        "  return model\n",
        "\n",
        "# Create a basic model instance\n",
        "model = create_model()\n",
        "\n",
        "# Display the model's architecture\n",
        "model.summary()"
      ]
    },
    {
      "cell_type": "markdown",
      "metadata": {
        "id": "soDE0W_KH8rG"
      },
      "source": [
        "## トレーニング中にチェックポイントを保存する"
      ]
    },
    {
      "cell_type": "markdown",
      "metadata": {
        "id": "mRyd5qQQIXZm"
      },
      "source": [
        "再トレーニングせずにトレーニング済みモデルを使用したり、トレーニングプロセスを中断したところから再開することもできます。`tf.keras.callbacks.ModelCheckpoint` コールバックを使用すると、*トレーニング中*でも*トレーニングの終了時*でもモデルを継続的に保存できます。\n",
        "\n",
        "### チェックポイントコールバックの使い方\n",
        "\n",
        "トレーニング中にのみ重みを保存する `tf.keras.callbacks.ModelCheckpoint` コールバックを作成します。"
      ]
    },
    {
      "cell_type": "code",
      "execution_count": null,
      "metadata": {
        "id": "IFPuhwntH8VH"
      },
      "outputs": [],
      "source": [
        "checkpoint_path = \"training_1/cp.ckpt\"\n",
        "checkpoint_dir = os.path.dirname(checkpoint_path)\n",
        "\n",
        "# Create a callback that saves the model's weights\n",
        "cp_callback = tf.keras.callbacks.ModelCheckpoint(filepath=checkpoint_path,\n",
        "                                                 save_weights_only=True,\n",
        "                                                 verbose=1)\n",
        "\n",
        "# Train the model with the new callback\n",
        "model.fit(train_images, \n",
        "          train_labels,  \n",
        "          epochs=10,\n",
        "          validation_data=(test_images, test_labels),\n",
        "          callbacks=[cp_callback])  # Pass callback to training\n",
        "\n",
        "# This may generate warnings related to saving the state of the optimizer.\n",
        "# These warnings (and similar warnings throughout this notebook)\n",
        "# are in place to discourage outdated usage, and can be ignored."
      ]
    },
    {
      "cell_type": "markdown",
      "metadata": {
        "id": "rlM-sgyJO084"
      },
      "source": [
        "この結果、エポックごとに更新される一連のTensorFlowチェックポイントファイルが作成されます。"
      ]
    },
    {
      "cell_type": "code",
      "execution_count": null,
      "metadata": {
        "id": "gXG5FVKFOVQ3"
      },
      "outputs": [],
      "source": [
        "os.listdir(checkpoint_dir)"
      ]
    },
    {
      "cell_type": "markdown",
      "metadata": {
        "id": "wlRN_f56Pqa9"
      },
      "source": [
        "2 つのモデルが同じアーキテクチャを共有している限り、それらの間で重みを共有できます。したがって、重みのみからモデルを復元する場合は、元のモデルと同じアーキテクチャでモデルを作成してから、その重みを設定します。\n",
        "\n",
        "次に、トレーニングされていない新しいモデルを再構築し、テストセットで評価します。トレーニングされていないモデルは、偶然誤差（10％ 以下の正解率）で実行されます。"
      ]
    },
    {
      "cell_type": "code",
      "execution_count": null,
      "metadata": {
        "id": "Fp5gbuiaPqCT"
      },
      "outputs": [],
      "source": [
        "# Create a basic model instance\n",
        "model = create_model()\n",
        "\n",
        "# Evaluate the model\n",
        "loss, acc = model.evaluate(test_images, test_labels, verbose=2)\n",
        "print(\"Untrained model, accuracy: {:5.2f}%\".format(100 * acc))"
      ]
    },
    {
      "cell_type": "markdown",
      "metadata": {
        "id": "1DTKpZssRSo3"
      },
      "source": [
        "次に、チェックポイントから重みをロードし、再び評価します。"
      ]
    },
    {
      "cell_type": "code",
      "execution_count": null,
      "metadata": {
        "id": "2IZxbwiRRSD2"
      },
      "outputs": [],
      "source": [
        "# Loads the weights\n",
        "model.load_weights(checkpoint_path)\n",
        "\n",
        "# Re-evaluate the model\n",
        "loss, acc = model.evaluate(test_images, test_labels, verbose=2)\n",
        "print(\"Restored model, accuracy: {:5.2f}%\".format(100 * acc))"
      ]
    },
    {
      "cell_type": "markdown",
      "metadata": {
        "id": "bpAbKkAyVPV8"
      },
      "source": [
        "### チェックポイントコールバックのオプション\n",
        "\n",
        "このコールバックには、チェックポイントに一意な名前をつけたり、チェックポイントの頻度を調整するためのオプションがあります。\n",
        "\n",
        "新しいモデルをトレーニングし、5 エポックごとに一意な名前のチェックポイントを保存します。"
      ]
    },
    {
      "cell_type": "code",
      "execution_count": null,
      "metadata": {
        "id": "mQF_dlgIVOvq"
      },
      "outputs": [],
      "source": [
        "# Include the epoch in the file name (uses `str.format`)\n",
        "checkpoint_path = \"training_2/cp-{epoch:04d}.ckpt\"\n",
        "checkpoint_dir = os.path.dirname(checkpoint_path)\n",
        "\n",
        "batch_size = 32\n",
        "\n",
        "# Create a callback that saves the model's weights every 5 epochs\n",
        "cp_callback = tf.keras.callbacks.ModelCheckpoint(\n",
        "    filepath=checkpoint_path, \n",
        "    verbose=1, \n",
        "    save_weights_only=True,\n",
        "    save_freq=5*batch_size)\n",
        "\n",
        "# Create a new model instance\n",
        "model = create_model()\n",
        "\n",
        "# Save the weights using the `checkpoint_path` format\n",
        "model.save_weights(checkpoint_path.format(epoch=0))\n",
        "\n",
        "# Train the model with the new callback\n",
        "model.fit(train_images, \n",
        "          train_labels,\n",
        "          epochs=50, \n",
        "          batch_size=batch_size, \n",
        "          callbacks=[cp_callback],\n",
        "          validation_data=(test_images, test_labels),\n",
        "          verbose=0)"
      ]
    },
    {
      "cell_type": "markdown",
      "metadata": {
        "id": "1zFrKTjjavWI"
      },
      "source": [
        "次に、できあがったチェックポイントを確認し、最後のものを選択します。"
      ]
    },
    {
      "cell_type": "code",
      "execution_count": null,
      "metadata": {
        "id": "p64q3-V4sXt0"
      },
      "outputs": [],
      "source": [
        "os.listdir(checkpoint_dir)"
      ]
    },
    {
      "cell_type": "code",
      "execution_count": null,
      "metadata": {
        "id": "1AN_fnuyR41H"
      },
      "outputs": [],
      "source": [
        "latest = tf.train.latest_checkpoint(checkpoint_dir)\n",
        "latest"
      ]
    },
    {
      "cell_type": "markdown",
      "metadata": {
        "id": "Zk2ciGbKg561"
      },
      "source": [
        "注意: デフォルトの TensorFlow 形式では、最新の 5 つのチェックポイントのみが保存されます。\n",
        "\n",
        "テストのため、モデルをリセットし最後のチェックポイントを読み込みます。"
      ]
    },
    {
      "cell_type": "code",
      "execution_count": null,
      "metadata": {
        "id": "3M04jyK-H3QK"
      },
      "outputs": [],
      "source": [
        "# Create a new model instance\n",
        "model = create_model()\n",
        "\n",
        "# Load the previously saved weights\n",
        "model.load_weights(latest)\n",
        "\n",
        "# Re-evaluate the model\n",
        "loss, acc = model.evaluate(test_images, test_labels, verbose=2)\n",
        "print(\"Restored model, accuracy: {:5.2f}%\".format(100 * acc))"
      ]
    },
    {
      "cell_type": "markdown",
      "metadata": {
        "id": "c2OxsJOTHxia"
      },
      "source": [
        "## これらのファイルは何？"
      ]
    },
    {
      "cell_type": "markdown",
      "metadata": {
        "id": "JtdYhvWnH2ib"
      },
      "source": [
        "上記のコードは、バイナリ形式でトレーニングされた重みのみを含む[ checkpoint ](https://www.tensorflow.org/guide/saved_model#save_and_restore_variables)形式のファイルのコレクションに重みを格納します。チェックポイントには、次のものが含まれます。\n",
        "\n",
        "- 1 つ以上のモデルの重みのシャード。\n",
        "- どの重みがどのシャードに格納されているかを示すインデックスファイル。\n",
        "\n",
        "一台のマシンでモデルをトレーニングしている場合は、接尾辞が `.data-00000-of-00001` のシャードが 1 つあります。"
      ]
    },
    {
      "cell_type": "markdown",
      "metadata": {
        "id": "S_FA-ZvxuXQV"
      },
      "source": [
        "## 手動で重みを保存する\n",
        "\n",
        "`Model.save_weights` メソッドを使用して手動で重みを保存します。デフォルトでは、`tf.keras`、特に `save_weights` は、<code>.ckpt</code> 拡張子を持つ TensorFlow の<a>チェックポイント</a>形式を使用します ([HDF5](https://js.tensorflow.org/tutorials/import-keras.html) に `.h5` 拡張子を付けて保存する方法については、[モデルの保存とシリアル化](https://www.tensorflow.org/guide/keras/save_and_serialize#weights-only_saving_in_savedmodel_format)ガイドを参照してください)。"
      ]
    },
    {
      "cell_type": "code",
      "execution_count": null,
      "metadata": {
        "id": "R7W5plyZ-u9X"
      },
      "outputs": [],
      "source": [
        "# Save the weights\n",
        "model.save_weights('./checkpoints/my_checkpoint')\n",
        "\n",
        "# Create a new model instance\n",
        "model = create_model()\n",
        "\n",
        "# Restore the weights\n",
        "model.load_weights('./checkpoints/my_checkpoint')\n",
        "\n",
        "# Evaluate the model\n",
        "loss, acc = model.evaluate(test_images, test_labels, verbose=2)\n",
        "print(\"Restored model, accuracy: {:5.2f}%\".format(100 * acc))"
      ]
    },
    {
      "cell_type": "markdown",
      "metadata": {
        "id": "kOGlxPRBEvV1"
      },
      "source": [
        "## モデル全体の保存\n",
        "\n",
        "[`model.save`](https://www.tensorflow.org/api_docs/python/tf/keras/Model#save) を呼ぶことで、モデルのアーキテクチャや重み、トレーニングの設定を単一のファイル/フォルダに保存できます。これにより、オリジナルの Python コード (*) にアクセスせずにモデルを使えるように、モデルをエクスポートできます。オプティマイザの状態も復旧されるため、中断したところからトレーニングを再開できます。\n",
        "\n",
        "モデル全体を 2 つの異なるファイル形式 (`SavedModel`と`HDF5`) で保存できます。TensorFlow `SavedModel` 形式は、TF2.x のデフォルトのファイル形式ですが、モデルは `HDF5` 形式で保存できます。モデル全体を 2 つのファイル形式で保存する方法の詳細については、以下の説明をご覧ください。\n",
        "\n",
        "完全に動作するモデルを保存すると TensorFlow.js ([Saved Model](https://www.tensorflow.org/js/tutorials/conversion/import_saved_model)、[HDF5](https://www.tensorflow.org/js/tutorials/conversion/import_keras)) で読み込んで、ブラウザ上でトレーニングや実行したり、TensorFlow Lite ([Saved Model](https://www.tensorflow.org/lite/convert/python_api#converting_a_savedmodel_)、[HDF5](https://www.tensorflow.org/lite/convert/python_api#converting_a_keras_model_)) を用いてモバイルデバイス上で実行できるよう変換することもできるので非常に便利です。\n",
        "\n",
        "*カスタムのオブジェクト (クラスを継承したモデルやレイヤー) は保存や読み込みを行うとき、特別な注意を必要とします。以下の**カスタムオブジェクトの保存**を参照してください。 "
      ]
    },
    {
      "cell_type": "markdown",
      "metadata": {
        "id": "kPyhgcoVzqUB"
      },
      "source": [
        "### SavedModel フォーマットとして"
      ]
    },
    {
      "cell_type": "markdown",
      "metadata": {
        "id": "LtcN4VIb7JkK"
      },
      "source": [
        "SavedModel 形式は、モデルをシリアル化するもう 1 つの方法です。この形式で保存されたモデルは、`tf.keras.models.load_model` を使用して復元でき、TensorFlow Serving と互換性があります。SavedModel をサービングおよび検査する方法についての詳細は、[SavedModel ガイド](https://www.tensorflow.org/guide/saved_model)を参照してください。以下のセクションでは、モデルを保存および復元する手順を示します。"
      ]
    },
    {
      "cell_type": "code",
      "execution_count": null,
      "metadata": {
        "id": "sI1YvCDFzpl3"
      },
      "outputs": [],
      "source": [
        "# Create and train a new model instance.\n",
        "model = create_model()\n",
        "model.fit(train_images, train_labels, epochs=5)\n",
        "\n",
        "# Save the entire model as a SavedModel.\n",
        "!mkdir -p saved_model\n",
        "model.save('saved_model/my_model') "
      ]
    },
    {
      "cell_type": "markdown",
      "metadata": {
        "id": "iUvT_3qE8hV5"
      },
      "source": [
        "SavedModel 形式は、protobuf バイナリと TensorFlow チェックポイントを含むディレクトリです。保存されたモデルディレクトリを調べます。"
      ]
    },
    {
      "cell_type": "code",
      "execution_count": null,
      "metadata": {
        "id": "sq8fPglI1RWA"
      },
      "outputs": [],
      "source": [
        "# my_model directory\n",
        "!ls saved_model\n",
        "\n",
        "# Contains an assets folder, saved_model.pb, and variables folder.\n",
        "!ls saved_model/my_model"
      ]
    },
    {
      "cell_type": "markdown",
      "metadata": {
        "id": "B7qfpvpY9HCe"
      },
      "source": [
        "保存したモデルから新しい Keras モデルを再度読み込みます。"
      ]
    },
    {
      "cell_type": "code",
      "execution_count": null,
      "metadata": {
        "id": "0YofwHdN0pxa"
      },
      "outputs": [],
      "source": [
        "new_model = tf.keras.models.load_model('saved_model/my_model')\n",
        "\n",
        "# Check its architecture\n",
        "new_model.summary()"
      ]
    },
    {
      "cell_type": "markdown",
      "metadata": {
        "id": "uWwgNaz19TH2"
      },
      "source": [
        "復元されたモデルは、元のモデルと同じ引数でコンパイルされます。読み込まれたモデルで評価と予測を実行してみてください。"
      ]
    },
    {
      "cell_type": "code",
      "execution_count": null,
      "metadata": {
        "id": "Yh5Mu0yOgE5J"
      },
      "outputs": [],
      "source": [
        "# Evaluate the restored model\n",
        "loss, acc = new_model.evaluate(test_images, test_labels, verbose=2)\n",
        "print('Restored model, accuracy: {:5.2f}%'.format(100 * acc))\n",
        "\n",
        "print(new_model.predict(test_images).shape)"
      ]
    },
    {
      "cell_type": "markdown",
      "metadata": {
        "id": "SkGwf-50zLNn"
      },
      "source": [
        "### HDF5ファイルとして\n",
        "\n",
        "Keras は [HDF5](https://en.wikipedia.org/wiki/Hierarchical_Data_Format) の標準に従ったベーシックな保存形式も提供します。 "
      ]
    },
    {
      "cell_type": "code",
      "execution_count": null,
      "metadata": {
        "id": "m2dkmJVCGUia"
      },
      "outputs": [],
      "source": [
        "# Create and train a new model instance.\n",
        "model = create_model()\n",
        "model.fit(train_images, train_labels, epochs=5)\n",
        "\n",
        "# Save the entire model to a HDF5 file.\n",
        "# The '.h5' extension indicates that the model should be saved to HDF5.\n",
        "model.save('my_model.h5') "
      ]
    },
    {
      "cell_type": "markdown",
      "metadata": {
        "id": "GWmttMOqS68S"
      },
      "source": [
        "保存したファイルを使ってモデルを再作成します。"
      ]
    },
    {
      "cell_type": "code",
      "execution_count": null,
      "metadata": {
        "id": "5NDMO_7kS6Do"
      },
      "outputs": [],
      "source": [
        "# Recreate the exact same model, including its weights and the optimizer\n",
        "new_model = tf.keras.models.load_model('my_model.h5')\n",
        "\n",
        "# Show the model architecture\n",
        "new_model.summary()"
      ]
    },
    {
      "cell_type": "markdown",
      "metadata": {
        "id": "JXQpbTicTBwt"
      },
      "source": [
        "正解率を検査します。"
      ]
    },
    {
      "cell_type": "code",
      "execution_count": null,
      "metadata": {
        "id": "jwEaj9DnTCVA"
      },
      "outputs": [],
      "source": [
        "loss, acc = new_model.evaluate(test_images, test_labels, verbose=2)\n",
        "print('Restored model, accuracy: {:5.2f}%'.format(100 * acc))"
      ]
    },
    {
      "cell_type": "markdown",
      "metadata": {
        "id": "dGXqd4wWJl8O"
      },
      "source": [
        "Keras は、アーキテクチャを検査することでモデルを保存します。この手法ではすべてが保存されます。\n",
        "\n",
        "- 重みの値\n",
        "- モデルのアーキテクチャ\n",
        "- モデルのトレーニング構成（`.compile()` メソッドに渡すもの）\n",
        "- あれば、オプティマイザとその状態（中断した所からトレーニングを再開するため）\n",
        "\n",
        "Keras は `v1.x` (`tf.compat.v1.train` にあります) のオプティマイザを保存できません。これらはチェックポイントと互換性がないためです。v1.x のオプティマイザでは、オプティマイザの状態を読み込ませてモデルを再度コンパイルする必要があります。\n"
      ]
    },
    {
      "cell_type": "markdown",
      "metadata": {
        "id": "kAUKJQyGqTNH"
      },
      "source": [
        "### カスタムオブジェクトの保存\n",
        "\n",
        "SavedModel 形式を使用している場合は、このセクションをスキップできます。HDF5 と SavedModel の主な違いは、HDF5 はオブジェクト構成を使用してモデルアーキテクチャを保存するのに対し、SavedModel は実行グラフを保存することです。したがって、SavedModels は、元のコードを必要とせずに、サブクラス化されたモデルやカスタムレイヤーなどのカスタムオブジェクトを保存できます。\n",
        "\n",
        "カスタムオブジェクトを HDF5 に保存するには、次の手順を実行します。\n",
        "\n",
        "1. オブジェクトで `get_config` メソッドを定義し、オプションで `from_config` クラスメソッドを定義します。\n",
        "    - `get_config(self)` は、オブジェクトの再作成に必要なパラメータの JSON シリアル化可能なディクショナリを返します。\n",
        "    - `from_config(cls, config){/code0 }は、<code data-md-type=\"codespan\">get_config` から返された構成を使用して新しいオブジェクトを作成します。デフォルトでは、この関数は構成を初期化 kwargs (`return cls(**config)`) として使用します。\n",
        "2. モデルを読み込むときに、オブジェクトを `custom_objects` 引数に渡します。引数は、文字列クラス名を Python クラスにマッピングするディクショナリである必要があります。(例: `tf.keras.models.load_model(path, custom_objects={'CustomLayer': CustomLayer})`）\n",
        "\n",
        "カスタムオブジェクトと `get_config` の例については、[レイヤーとモデルを最初から作成する](https://www.tensorflow.org/guide/keras/custom_layers_and_models)チュートリアルを参照してください。\n"
      ]
    }
  ],
  "metadata": {
    "accelerator": "GPU",
    "colab": {
      "collapsed_sections": [],
      "name": "save_and_load.ipynb",
      "toc_visible": true
    },
    "kernelspec": {
      "display_name": "Python 3",
      "name": "python3"
    }
  },
  "nbformat": 4,
  "nbformat_minor": 0
}
