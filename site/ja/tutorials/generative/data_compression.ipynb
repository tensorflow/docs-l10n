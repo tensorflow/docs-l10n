{
  "cells": [
    {
      "cell_type": "markdown",
      "metadata": {
        "id": "Tce3stUlHN0L"
      },
      "source": [
        "##### Copyright 2022 The TensorFlow Compression Authors."
      ]
    },
    {
      "cell_type": "code",
      "execution_count": null,
      "metadata": {
        "cellView": "form",
        "id": "tuOe1ymfHZPu"
      },
      "outputs": [],
      "source": [
        "#@title Licensed under the Apache License, Version 2.0 (the \"License\");\n",
        "# you may not use this file except in compliance with the License.\n",
        "# You may obtain a copy of the License at\n",
        "#\n",
        "# https://www.apache.org/licenses/LICENSE-2.0\n",
        "#\n",
        "# Unless required by applicable law or agreed to in writing, software\n",
        "# distributed under the License is distributed on an \"AS IS\" BASIS,\n",
        "# WITHOUT WARRANTIES OR CONDITIONS OF ANY KIND, either express or implied.\n",
        "# See the License for the specific language governing permissions and\n",
        "# limitations under the License."
      ]
    },
    {
      "cell_type": "markdown",
      "metadata": {
        "id": "qFdPvlXBOdUN"
      },
      "source": [
        "# 学習データの圧縮"
      ]
    },
    {
      "cell_type": "markdown",
      "metadata": {
        "id": "MfBg1C5NB3X0"
      },
      "source": [
        "<table class=\"tfo-notebook-buttons\" align=\"left\">\n",
        "  <td>     <a target=\"_blank\" href=\"https://www.tensorflow.org/tutorials/generative/data_compression\">     <img src=\"https://www.tensorflow.org/images/tf_logo_32px.png\">     TensorFlow.org で表示</a>\n",
        "</td>\n",
        "  <td>     <a target=\"_blank\" href=\"https://colab.research.google.com/github/tensorflow/docs-l10n/blob/master/site/ja/tutorials/generative/data_compression.ipynb\">     <img src=\"https://www.tensorflow.org/images/colab_logo_32px.png\">     Google Colab で実行</a>\n",
        "</td>\n",
        "  <td>     <a target=\"_blank\" href=\"https://github.com/tensorflow/docs-l10n/blob/master/site/ja/tutorials/generative/data_compression.ipynb\">     <img src=\"https://www.tensorflow.org/images/GitHub-Mark-32px.png\">     GitHub でソースを表示</a>\n",
        "</td>\n",
        "  <td>     <a href=\"https://storage.googleapis.com/tensorflow_docs/docs-l10n/site/ja/tutorials/generative/data_compression.ipynb\"><img src=\"https://www.tensorflow.org/images/download_logo_32px.png\">ノートブックをダウンロード</a>\n",
        "</td>\n",
        "</table>"
      ]
    },
    {
      "cell_type": "markdown",
      "metadata": {
        "id": "xHxb-dlhMIzW"
      },
      "source": [
        "## 概要\n",
        "\n",
        "このノートブックでは、ニューラルネットワークと [TensorFlow Compression](https://github.com/tensorflow/compression) を使って非可逆データ圧縮を行う方法を説明します。\n",
        "\n",
        "非可逆圧縮には、**レート**、サンプルの安藤かに必要な期待されるビット数、およびサンプルの再構築における期待誤差を示す**ひずみ**間のトレードオフが伴います。\n",
        "\n",
        "以下の例では、オートエンコーダのようなモデルを使用して、MNIST データセットの画像を圧縮します。この手法は、『[End-to-end Optimized Image Compression](https://arxiv.org/abs/1611.01704)』という論文を基としています。\n",
        "\n",
        "学習データの圧縮に関する背景情報については、古典的なデータ圧縮に精通した人を対象とした[こちらの論文](https://arxiv.org/abs/2007.03034)か、機械学習分野のユーザーを対象とした[こちらの調査](https://arxiv.org/abs/2202.06533)をご覧ください。\n"
      ]
    },
    {
      "cell_type": "markdown",
      "metadata": {
        "id": "MUXex9ctTuDB"
      },
      "source": [
        "## セットアップ\n",
        "\n",
        "`pip` で Tensorflow Compression をインストールします。"
      ]
    },
    {
      "cell_type": "code",
      "execution_count": null,
      "metadata": {
        "id": "K489KsEgxuLI"
      },
      "outputs": [],
      "source": [
        "%%bash\n",
        "# Installs the latest version of TFC compatible with the installed TF version.\n",
        "\n",
        "read MAJOR MINOR <<< \"$(pip show tensorflow | perl -p -0777 -e 's/.*Version: (\\d+)\\.(\\d+).*/\\1 \\2/sg')\"\n",
        "pip install \"tensorflow-compression<$MAJOR.$(($MINOR+1))\"\n"
      ]
    },
    {
      "cell_type": "markdown",
      "metadata": {
        "id": "WfVAmHCVxpTS"
      },
      "source": [
        "ライブラリ依存関係をインポートします。"
      ]
    },
    {
      "cell_type": "code",
      "execution_count": null,
      "metadata": {
        "id": "IqR2PQG4ZaZ0"
      },
      "outputs": [],
      "source": [
        "import matplotlib.pyplot as plt\n",
        "import tensorflow as tf\n",
        "import tensorflow_compression as tfc\n",
        "import tensorflow_datasets as tfds\n"
      ]
    },
    {
      "cell_type": "markdown",
      "metadata": {
        "id": "wsncKT2iymgQ"
      },
      "source": [
        "## トレーナーモデルを定義する\n",
        "\n",
        "このモデルはオートエンコーダに似ているため、またトレーニングと推論中に異なる機能を実行する必要があるため、このセットアップは、たとえば分類器などとは少し異なります。\n",
        "\n",
        "トレーニングモデルは、以下の 3 つで構成されています。\n",
        "\n",
        "- **分析**（またはエンコーダ）変換: 画像を潜在空間に変換します。\n",
        "- **合成**（またはデコーダ）変換: 潜在空間から画像空間に変換します。\n",
        "- **事前確率**とエントロピーモデル: 潜在空間の周辺分布をモデル化します。\n",
        "\n",
        "まず、変換を定義します。"
      ]
    },
    {
      "cell_type": "code",
      "execution_count": null,
      "metadata": {
        "id": "8yZESLgW-vp1"
      },
      "outputs": [],
      "source": [
        "def make_analysis_transform(latent_dims):\n",
        "  \"\"\"Creates the analysis (encoder) transform.\"\"\"\n",
        "  return tf.keras.Sequential([\n",
        "      tf.keras.layers.Conv2D(\n",
        "          20, 5, use_bias=True, strides=2, padding=\"same\",\n",
        "          activation=\"leaky_relu\", name=\"conv_1\"),\n",
        "      tf.keras.layers.Conv2D(\n",
        "          50, 5, use_bias=True, strides=2, padding=\"same\",\n",
        "          activation=\"leaky_relu\", name=\"conv_2\"),\n",
        "      tf.keras.layers.Flatten(),\n",
        "      tf.keras.layers.Dense(\n",
        "          500, use_bias=True, activation=\"leaky_relu\", name=\"fc_1\"),\n",
        "      tf.keras.layers.Dense(\n",
        "          latent_dims, use_bias=True, activation=None, name=\"fc_2\"),\n",
        "  ], name=\"analysis_transform\")\n"
      ]
    },
    {
      "cell_type": "code",
      "execution_count": null,
      "metadata": {
        "id": "2sHdYBzF2xcu"
      },
      "outputs": [],
      "source": [
        "def make_synthesis_transform():\n",
        "  \"\"\"Creates the synthesis (decoder) transform.\"\"\"\n",
        "  return tf.keras.Sequential([\n",
        "      tf.keras.layers.Dense(\n",
        "          500, use_bias=True, activation=\"leaky_relu\", name=\"fc_1\"),\n",
        "      tf.keras.layers.Dense(\n",
        "          2450, use_bias=True, activation=\"leaky_relu\", name=\"fc_2\"),\n",
        "      tf.keras.layers.Reshape((7, 7, 50)),\n",
        "      tf.keras.layers.Conv2DTranspose(\n",
        "          20, 5, use_bias=True, strides=2, padding=\"same\",\n",
        "          activation=\"leaky_relu\", name=\"conv_1\"),\n",
        "      tf.keras.layers.Conv2DTranspose(\n",
        "          1, 5, use_bias=True, strides=2, padding=\"same\",\n",
        "          activation=\"leaky_relu\", name=\"conv_2\"),\n",
        "  ], name=\"synthesis_transform\")\n"
      ]
    },
    {
      "cell_type": "markdown",
      "metadata": {
        "id": "lYC8tHhkxTlK"
      },
      "source": [
        "トレーナーは、両方の変換のインスタンスと事前確率のパラメータを保有します。\n",
        "\n",
        "その `call` メソッドは、以下を計算するようにセットアップされます。\n",
        "\n",
        "- **レート**: 数字のバッチを表現するために必要なビット数の推定\n",
        "- **ひずみ**: 元の数字と再構築された数字のピクセルの平均絶対差\n"
      ]
    },
    {
      "cell_type": "code",
      "execution_count": null,
      "metadata": {
        "id": "ROn2DbzsBirI"
      },
      "outputs": [],
      "source": [
        "class MNISTCompressionTrainer(tf.keras.Model):\n",
        "  \"\"\"Model that trains a compressor/decompressor for MNIST.\"\"\"\n",
        "\n",
        "  def __init__(self, latent_dims):\n",
        "    super().__init__()\n",
        "    self.analysis_transform = make_analysis_transform(latent_dims)\n",
        "    self.synthesis_transform = make_synthesis_transform()\n",
        "    self.prior_log_scales = tf.Variable(tf.zeros((latent_dims,)))\n",
        "\n",
        "  @property\n",
        "  def prior(self):\n",
        "    return tfc.NoisyLogistic(loc=0., scale=tf.exp(self.prior_log_scales))\n",
        "\n",
        "  def call(self, x, training):\n",
        "    \"\"\"Computes rate and distortion losses.\"\"\"\n",
        "    # Ensure inputs are floats in the range (0, 1).\n",
        "    x = tf.cast(x, self.compute_dtype) / 255.\n",
        "    x = tf.reshape(x, (-1, 28, 28, 1))\n",
        "\n",
        "    # Compute latent space representation y, perturb it and model its entropy,\n",
        "    # then compute the reconstructed pixel-level representation x_hat.\n",
        "    y = self.analysis_transform(x)\n",
        "    entropy_model = tfc.ContinuousBatchedEntropyModel(\n",
        "        self.prior, coding_rank=1, compression=False)\n",
        "    y_tilde, rate = entropy_model(y, training=training)\n",
        "    x_tilde = self.synthesis_transform(y_tilde)\n",
        "\n",
        "    # Average number of bits per MNIST digit.\n",
        "    rate = tf.reduce_mean(rate)\n",
        "\n",
        "    # Mean absolute difference across pixels.\n",
        "    distortion = tf.reduce_mean(abs(x - x_tilde))\n",
        "\n",
        "    return dict(rate=rate, distortion=distortion)\n"
      ]
    },
    {
      "cell_type": "markdown",
      "metadata": {
        "id": "vEXbp9RV3kRX"
      },
      "source": [
        "### レートとひずみを計算する\n",
        "\n",
        "では、トレーニングセットの画像を 1 つ使用して、順を追って説明します。トレーニングと検証用の MNIST データセットを読み込みます。"
      ]
    },
    {
      "cell_type": "code",
      "execution_count": null,
      "metadata": {
        "id": "7FV99WTrIBen"
      },
      "outputs": [],
      "source": [
        "training_dataset, validation_dataset = tfds.load(\n",
        "    \"mnist\",\n",
        "    split=[\"train\", \"test\"],\n",
        "    shuffle_files=True,\n",
        "    as_supervised=True,\n",
        "    with_info=False,\n",
        ")\n"
      ]
    },
    {
      "cell_type": "markdown",
      "metadata": {
        "id": "SwKgNTg_QfjH"
      },
      "source": [
        "1 つの画像 $x$ を抽出します。"
      ]
    },
    {
      "cell_type": "code",
      "execution_count": null,
      "metadata": {
        "id": "O-BSdeHcPBBf"
      },
      "outputs": [],
      "source": [
        "(x, _), = validation_dataset.take(1)\n",
        "\n",
        "plt.imshow(tf.squeeze(x))\n",
        "print(f\"Data type: {x.dtype}\")\n",
        "print(f\"Shape: {x.shape}\")\n"
      ]
    },
    {
      "cell_type": "markdown",
      "metadata": {
        "id": "V8IvuFkrRJIa"
      },
      "source": [
        "潜在の表現 $y$ を取得するには、`float32` にキャストして batch 次元を追加し、それを分析変換に通す必要があります。"
      ]
    },
    {
      "cell_type": "code",
      "execution_count": null,
      "metadata": {
        "id": "jA0DOWq23lEq"
      },
      "outputs": [],
      "source": [
        "x = tf.cast(x, tf.float32) / 255.\n",
        "x = tf.reshape(x, (-1, 28, 28, 1))\n",
        "y = make_analysis_transform(10)(x)\n",
        "\n",
        "print(\"y:\", y)\n"
      ]
    },
    {
      "cell_type": "markdown",
      "metadata": {
        "id": "rTojJQvZT8SX"
      },
      "source": [
        "潜在は、テスト時に量子化されます。これをトレーニング中に区別可能な方法でモデル化するために、$(-.5, .5)$ の間隔で一様ノイズを追加し、その結果を $\\tilde y$ をとします。これは、『[End-to-end Optimized Image Compression](https://arxiv.org/abs/1611.01704)』論文で使用されているのと同じです。"
      ]
    },
    {
      "cell_type": "code",
      "execution_count": null,
      "metadata": {
        "id": "Spr3503OUOFQ"
      },
      "outputs": [],
      "source": [
        "y_tilde = y + tf.random.uniform(y.shape, -.5, .5)\n",
        "\n",
        "print(\"y_tilde:\", y_tilde)\n"
      ]
    },
    {
      "cell_type": "markdown",
      "metadata": {
        "id": "7hRN89R7SA3U"
      },
      "source": [
        "「事前確率」は、ノイズを含む潜在の周辺分布をモデル化するためにトレーニングする分布の密度です。たとえば、潜在次元ごとに異なるスケールを持つ独立した一連の[ロジスティック分布](https://en.wikipedia.org/wiki/Logistic_distribution)であることがあります。`tfc.NoisyLogistic` は、潜在には追加ノイズがあるという事実を考慮します。スケールがゼロに近づくにつれ、ロジスティック分布はディラックのデルタ（スパイク）に近づくものですが、追加ノイズにより、「ノイズの多い」分布は一様分布に近づきます。"
      ]
    },
    {
      "cell_type": "code",
      "execution_count": null,
      "metadata": {
        "id": "2tmA1Bw7ReMY"
      },
      "outputs": [],
      "source": [
        "prior = tfc.NoisyLogistic(loc=0., scale=tf.linspace(.01, 2., 10))\n",
        "\n",
        "_ = tf.linspace(-6., 6., 501)[:, None]\n",
        "plt.plot(_, prior.prob(_));\n"
      ]
    },
    {
      "cell_type": "markdown",
      "metadata": {
        "id": "2NSWtBZmUvVY"
      },
      "source": [
        "トレーニング中、`tfc.ContinuousBatchedEntropyModel` は一様ノイズを追加し、そのノイズと事前確率を使用して（区別可能な）レート（潜在表現をエンコードするために必要な平均ビット数）の上限を計算します。この上限は、損失として最小化できます。"
      ]
    },
    {
      "cell_type": "code",
      "execution_count": null,
      "metadata": {
        "id": "hFuGlyJuThBC"
      },
      "outputs": [],
      "source": [
        "entropy_model = tfc.ContinuousBatchedEntropyModel(\n",
        "    prior, coding_rank=1, compression=False)\n",
        "y_tilde, rate = entropy_model(y, training=True)\n",
        "\n",
        "print(\"rate:\", rate)\n",
        "print(\"y_tilde:\", y_tilde)\n"
      ]
    },
    {
      "cell_type": "markdown",
      "metadata": {
        "id": "Cyr8DGgmWd32"
      },
      "source": [
        "最後に、ノイズのある潜在が合成変換を通過し、画像の再構築 $\\tilde x$ が生成されます。明らかに、変換はトレーニングされていないため、この再構築にはあまり利用価値がありません。"
      ]
    },
    {
      "cell_type": "code",
      "execution_count": null,
      "metadata": {
        "id": "gtmI0xGEVym0"
      },
      "outputs": [],
      "source": [
        "x_tilde = make_synthesis_transform()(y_tilde)\n",
        "\n",
        "# Mean absolute difference across pixels.\n",
        "distortion = tf.reduce_mean(abs(x - x_tilde))\n",
        "print(\"distortion:\", distortion)\n",
        "\n",
        "x_tilde = tf.saturate_cast(x_tilde[0] * 255, tf.uint8)\n",
        "plt.imshow(tf.squeeze(x_tilde))\n",
        "print(f\"Data type: {x_tilde.dtype}\")\n",
        "print(f\"Shape: {x_tilde.shape}\")\n"
      ]
    },
    {
      "cell_type": "markdown",
      "metadata": {
        "id": "UVz3I7E8ecij"
      },
      "source": [
        "数字のバッチごとに `MNISTCompressionTrainer` を呼び出すと、レートとそのバッチの平均としてのひずみが生成されます。\n"
      ]
    },
    {
      "cell_type": "code",
      "execution_count": null,
      "metadata": {
        "id": "ICJnjj1LeB8L"
      },
      "outputs": [],
      "source": [
        "(example_batch, _), = validation_dataset.batch(32).take(1)\n",
        "trainer = MNISTCompressionTrainer(10)\n",
        "example_output = trainer(example_batch)\n",
        "\n",
        "print(\"rate: \", example_output[\"rate\"])\n",
        "print(\"distortion: \", example_output[\"distortion\"])\n"
      ]
    },
    {
      "cell_type": "markdown",
      "metadata": {
        "id": "lgdfRtmee5Mn"
      },
      "source": [
        "次のセクションでは、これらの 2 つの損失で勾配降下を行うようにモデルをセットアップします。"
      ]
    },
    {
      "cell_type": "markdown",
      "metadata": {
        "id": "fKGVwv5MAq6w"
      },
      "source": [
        "## モデルをトレーニングする\n",
        "\n",
        "レートとひずみのラグアンジアン、つまりレートとひずみの和を最適化するようにトレーナーをコンパイルします。ここで、いずれかの項はラグランジュ関数パラメータ $\\lambda$ で重み付けされます。\n",
        "\n",
        "この損失関数は、モデルのさまざまな箇所に異なる影響を与えます。\n",
        "\n",
        "- 分析変換は、レートとひずみの目的のトレードオフを達成する潜在表現を生成するようにトレーニングされます。\n",
        "- 合成変換は、特定の潜在表現でひずみを最小化するようにトレーニングされます。\n",
        "- 事前確率のパラメータは、特定の潜在表現でレートを最小化するようにトレーニングされます。これは、事前確率を最大尤度において潜在の周辺分布に適合するのと同じです。"
      ]
    },
    {
      "cell_type": "code",
      "execution_count": null,
      "metadata": {
        "id": "k5mm1aDkcgAf"
      },
      "outputs": [],
      "source": [
        "def pass_through_loss(_, x):\n",
        "  # Since rate and distortion are unsupervised, the loss doesn't need a target.\n",
        "  return x\n",
        "\n",
        "def make_mnist_compression_trainer(lmbda, latent_dims=50):\n",
        "  trainer = MNISTCompressionTrainer(latent_dims)\n",
        "  trainer.compile(\n",
        "    optimizer=tf.keras.optimizers.Adam(learning_rate=1e-3),\n",
        "    # Just pass through rate and distortion as losses/metrics.\n",
        "    loss=dict(rate=pass_through_loss, distortion=pass_through_loss),\n",
        "    metrics=dict(rate=pass_through_loss, distortion=pass_through_loss),\n",
        "    loss_weights=dict(rate=1., distortion=lmbda),\n",
        "  )\n",
        "  return trainer\n"
      ]
    },
    {
      "cell_type": "markdown",
      "metadata": {
        "id": "DPwd4DTs3Mfr"
      },
      "source": [
        "次に、モデルをトレーニングします。ここでは、画像を圧縮するだけであるため、人間による注釈付けは必要ありません。そのため、`map` を使って注釈を削除し、レートとひずみの「ダミー」ターゲットを追加します。"
      ]
    },
    {
      "cell_type": "code",
      "execution_count": null,
      "metadata": {
        "id": "QNBpCTgzAV7M"
      },
      "outputs": [],
      "source": [
        "def add_rd_targets(image, label):\n",
        "  # Training is unsupervised, so labels aren't necessary here. However, we\n",
        "  # need to add \"dummy\" targets for rate and distortion.\n",
        "  return image, dict(rate=0., distortion=0.)\n",
        "\n",
        "def train_mnist_model(lmbda):\n",
        "  trainer = make_mnist_compression_trainer(lmbda)\n",
        "  trainer.fit(\n",
        "      training_dataset.map(add_rd_targets).batch(128).prefetch(8),\n",
        "      epochs=15,\n",
        "      validation_data=validation_dataset.map(add_rd_targets).batch(128).cache(),\n",
        "      validation_freq=1,\n",
        "      verbose=1,\n",
        "  )\n",
        "  return trainer\n",
        "\n",
        "trainer = train_mnist_model(lmbda=2000)\n"
      ]
    },
    {
      "cell_type": "markdown",
      "metadata": {
        "id": "Td4xuttmCd7T"
      },
      "source": [
        "## MNIST 画像を圧縮する\n",
        "\n",
        "テスト時の圧縮と解凍用に、トレーニング済みのモデルを以下の 2 つに分割します。\n",
        "\n",
        "- エンコーダ側には、分析変換とエントロピーモデルが含まれます。\n",
        "- デコーダ側には、合成変換と同じエントロピーモデルが含まれます。\n",
        "\n",
        "テスト時には、潜在に追加ノイズが含まれませんが、量子化されてから非可逆的に圧縮されるため、それらに新しい名前を指定します。それらと再構築の $\\hat x$ と $\\hat y$ をそれぞれに呼び出します（『[End-to-end Optimized Image Compression](https://arxiv.org/abs/1611.01704)』に従います）。"
      ]
    },
    {
      "cell_type": "code",
      "execution_count": null,
      "metadata": {
        "id": "sBRAPa5jksss"
      },
      "outputs": [],
      "source": [
        "class MNISTCompressor(tf.keras.Model):\n",
        "  \"\"\"Compresses MNIST images to strings.\"\"\"\n",
        "\n",
        "  def __init__(self, analysis_transform, entropy_model):\n",
        "    super().__init__()\n",
        "    self.analysis_transform = analysis_transform\n",
        "    self.entropy_model = entropy_model\n",
        "\n",
        "  def call(self, x):\n",
        "    # Ensure inputs are floats in the range (0, 1).\n",
        "    x = tf.cast(x, self.compute_dtype) / 255.\n",
        "    y = self.analysis_transform(x)\n",
        "    # Also return the exact information content of each digit.\n",
        "    _, bits = self.entropy_model(y, training=False)\n",
        "    return self.entropy_model.compress(y), bits\n"
      ]
    },
    {
      "cell_type": "code",
      "execution_count": null,
      "metadata": {
        "id": "sSZ0X2xPnkN-"
      },
      "outputs": [],
      "source": [
        "class MNISTDecompressor(tf.keras.Model):\n",
        "  \"\"\"Decompresses MNIST images from strings.\"\"\"\n",
        "\n",
        "  def __init__(self, entropy_model, synthesis_transform):\n",
        "    super().__init__()\n",
        "    self.entropy_model = entropy_model\n",
        "    self.synthesis_transform = synthesis_transform\n",
        "\n",
        "  def call(self, string):\n",
        "    y_hat = self.entropy_model.decompress(string, ())\n",
        "    x_hat = self.synthesis_transform(y_hat)\n",
        "    # Scale and cast back to 8-bit integer.\n",
        "    return tf.saturate_cast(tf.round(x_hat * 255.), tf.uint8)\n"
      ]
    },
    {
      "cell_type": "markdown",
      "metadata": {
        "id": "GI7rxeOUDnaC"
      },
      "source": [
        "`compression=True` でインスタンス化すると、エントロピーモデルは、学習した事前確率をレンジコーディングアルゴリズムのテーブルに変換します。`compress()` を呼び出すと、このアルゴリズムが呼び出され、潜在空間ベクトルをビットシーケンスに変換します。各バイナリ文字列の長さは、潜在の情報コンテンツに近似します（事前確率の下の潜在の負の対数尤度）。\n",
        "\n",
        "圧縮と解凍のエントロピーモデルは、同じインスタンスである必要があります。これは、レンジコーディングテーブルが両側でまったく同じである必要があるためです。そうでない場合、解凍エラーが発生します。"
      ]
    },
    {
      "cell_type": "code",
      "execution_count": null,
      "metadata": {
        "id": "Dnm_p7mbnigo"
      },
      "outputs": [],
      "source": [
        "def make_mnist_codec(trainer, **kwargs):\n",
        "  # The entropy model must be created with `compression=True` and the same\n",
        "  # instance must be shared between compressor and decompressor.\n",
        "  entropy_model = tfc.ContinuousBatchedEntropyModel(\n",
        "      trainer.prior, coding_rank=1, compression=True, **kwargs)\n",
        "  compressor = MNISTCompressor(trainer.analysis_transform, entropy_model)\n",
        "  decompressor = MNISTDecompressor(entropy_model, trainer.synthesis_transform)\n",
        "  return compressor, decompressor\n",
        "\n",
        "compressor, decompressor = make_mnist_codec(trainer)\n"
      ]
    },
    {
      "cell_type": "markdown",
      "metadata": {
        "id": "SYu5sVVH3YMv"
      },
      "source": [
        "検証データセットから 16 個の画像を取得します。`skip` の引数を変えることで、さまざまなサブセットを選択できます。"
      ]
    },
    {
      "cell_type": "code",
      "execution_count": null,
      "metadata": {
        "id": "qAxArlU728K5"
      },
      "outputs": [],
      "source": [
        "(originals, _), = validation_dataset.batch(16).skip(3).take(1)\n"
      ]
    },
    {
      "cell_type": "markdown",
      "metadata": {
        "id": "CHeN_ny929YS"
      },
      "source": [
        "これらを文字列に圧縮し、それぞれの情報コンテンツをビットで追跡します。"
      ]
    },
    {
      "cell_type": "code",
      "execution_count": null,
      "metadata": {
        "id": "smOk42gQ3IXv"
      },
      "outputs": [],
      "source": [
        "strings, entropies = compressor(originals)\n",
        "\n",
        "print(f\"String representation of first digit in hexadecimal: 0x{strings[0].numpy().hex()}\")\n",
        "print(f\"Number of bits actually needed to represent it: {entropies[0]:0.2f}\")\n"
      ]
    },
    {
      "cell_type": "markdown",
      "metadata": {
        "id": "5j9R4bTT3Qhl"
      },
      "source": [
        "画像を文字列から解凍します。"
      ]
    },
    {
      "cell_type": "code",
      "execution_count": null,
      "metadata": {
        "id": "yOP6pEqU3P0w"
      },
      "outputs": [],
      "source": [
        "reconstructions = decompressor(strings)\n"
      ]
    },
    {
      "cell_type": "markdown",
      "metadata": {
        "id": "JWo0Q-vy23tt"
      },
      "source": [
        "各 16 個の元の数字を圧縮されたバイナリ表現と再構築された数字と共に表示します。"
      ]
    },
    {
      "cell_type": "code",
      "execution_count": null,
      "metadata": {
        "cellView": "form",
        "id": "jU5IqzZzeEpf"
      },
      "outputs": [],
      "source": [
        "#@title\n",
        "\n",
        "def display_digits(originals, strings, entropies, reconstructions):\n",
        "  \"\"\"Visualizes 16 digits together with their reconstructions.\"\"\"\n",
        "  fig, axes = plt.subplots(4, 4, sharex=True, sharey=True, figsize=(12.5, 5))\n",
        "  axes = axes.ravel()\n",
        "  for i in range(len(axes)):\n",
        "    image = tf.concat([\n",
        "        tf.squeeze(originals[i]),\n",
        "        tf.zeros((28, 14), tf.uint8),\n",
        "        tf.squeeze(reconstructions[i]),\n",
        "    ], 1)\n",
        "    axes[i].imshow(image)\n",
        "    axes[i].text(\n",
        "        .5, .5, f\"→ 0x{strings[i].numpy().hex()} →\\n{entropies[i]:0.2f} bits\",\n",
        "        ha=\"center\", va=\"top\", color=\"white\", fontsize=\"small\",\n",
        "        transform=axes[i].transAxes)\n",
        "    axes[i].axis(\"off\")\n",
        "  plt.subplots_adjust(wspace=0, hspace=0, left=0, right=1, bottom=0, top=1)\n"
      ]
    },
    {
      "cell_type": "code",
      "execution_count": null,
      "metadata": {
        "id": "km9PqVEtPJPc"
      },
      "outputs": [],
      "source": [
        "display_digits(originals, strings, entropies, reconstructions)\n"
      ]
    },
    {
      "cell_type": "markdown",
      "metadata": {
        "id": "EzlrIOiYOzJc"
      },
      "source": [
        "エンコードされた文字列の長さが各数字の情報コンテンツと異なることに注目してください。\n",
        "\n",
        "これは、レンジコーディングプロセスが離散確率を使用し、少量のオーバーヘッドがあるためです。そのため、特に短い文字列の場合、対応するものは近似でしかありません。ただし、レンジコーディングは**漸近的に最適**です。限界では、予想されるビット数は、トレーニングモデルのレート項が上限であるクロスエントロピー（予想される情報コンテンツ）に近づきます。"
      ]
    },
    {
      "cell_type": "markdown",
      "metadata": {
        "id": "78qIG8t8FvJW"
      },
      "source": [
        "## レートとひずみのトレードオフ\n",
        "\n",
        "上記では、モデルは、各数字を表現するために使用されるビットの平均数と再構築で発生した誤差の間の特定のトレードオフのためにトレーニングされました（`lmbda=2000` で指定）。\n",
        "\n",
        "異なる値でこの実験を繰り返した場合はどうなるでしょうか？\n",
        "\n",
        "まずは、$\\lambda$ を 500 に減らしてみましょう。"
      ]
    },
    {
      "cell_type": "code",
      "execution_count": null,
      "metadata": {
        "id": "1iFcAD0WF78p"
      },
      "outputs": [],
      "source": [
        "def train_and_visualize_model(lmbda):\n",
        "  trainer = train_mnist_model(lmbda=lmbda)\n",
        "  compressor, decompressor = make_mnist_codec(trainer)\n",
        "  strings, entropies = compressor(originals)\n",
        "  reconstructions = decompressor(strings)\n",
        "  display_digits(originals, strings, entropies, reconstructions)\n",
        "\n",
        "train_and_visualize_model(lmbda=500)\n"
      ]
    },
    {
      "cell_type": "markdown",
      "metadata": {
        "id": "Uy5OkgJMObMc"
      },
      "source": [
        "コードのビットレートが下がり、数字の信頼性も下がります。ただし、ほとんどの数字は認識可能のままです。\n",
        "\n",
        "さらに $\\lambda$ を減らしてみましょう。"
      ]
    },
    {
      "cell_type": "code",
      "execution_count": null,
      "metadata": {
        "id": "NQp9_9_5GcxH"
      },
      "outputs": [],
      "source": [
        "train_and_visualize_model(lmbda=300)\n"
      ]
    },
    {
      "cell_type": "markdown",
      "metadata": {
        "id": "3ELLMAN1OwMQ"
      },
      "source": [
        "数字当たり 1 バイトの順に、文字列がさらに短くなり始めました。ただし、これにはコストが伴い、さらに多くの数字が認識できなくなってしまいました。\n",
        "\n",
        "これは、このモデルが人間による誤差の認識に左右されず、ピクセル値の観点で絶対偏差を測定していることを示します。画像の品質をさらに高めるには、ピクセル損失を知覚損失に置き換える必要があります。"
      ]
    },
    {
      "cell_type": "markdown",
      "metadata": {
        "id": "v9cWHtH0LP_r"
      },
      "source": [
        "## デコーダーを生成モデルとして使用する\n",
        "\n",
        "デコーダーにランダムなビットを供給すると、これは、モデルが数字を表すことを学習した分布から効果的にサンプリングされます。\n",
        "\n",
        "まず、入力文字列が完全にデコードされていないかどうかを検出するサニティチェックを行わずに、コンプレッサー/デコンプレッサーを再インスタンス化します。"
      ]
    },
    {
      "cell_type": "code",
      "execution_count": null,
      "metadata": {
        "id": "qnic8YsM0_ke"
      },
      "outputs": [],
      "source": [
        "compressor, decompressor = make_mnist_codec(trainer, decode_sanity_check=False)\n"
      ]
    },
    {
      "cell_type": "markdown",
      "metadata": {
        "id": "86uc9_Is1eeo"
      },
      "source": [
        "次に、十分な長さのランダムな文字列をデコンプレッサに入力して、それらから数字をデコード/サンプリングできるようにします。"
      ]
    },
    {
      "cell_type": "code",
      "execution_count": null,
      "metadata": {
        "id": "o4fP7BkqKCHY"
      },
      "outputs": [],
      "source": [
        "import os\n",
        "\n",
        "strings = tf.constant([os.urandom(8) for _ in range(16)])\n",
        "samples = decompressor(strings)\n",
        "\n",
        "fig, axes = plt.subplots(4, 4, sharex=True, sharey=True, figsize=(5, 5))\n",
        "axes = axes.ravel()\n",
        "for i in range(len(axes)):\n",
        "  axes[i].imshow(tf.squeeze(samples[i]))\n",
        "  axes[i].axis(\"off\")\n",
        "plt.subplots_adjust(wspace=0, hspace=0, left=0, right=1, bottom=0, top=1)\n"
      ]
    }
  ],
  "metadata": {
    "accelerator": "GPU",
    "colab": {
      "collapsed_sections": [],
      "name": "data_compression.ipynb",
      "toc_visible": true
    },
    "kernelspec": {
      "display_name": "Python 3",
      "name": "python3"
    }
  },
  "nbformat": 4,
  "nbformat_minor": 0
}
