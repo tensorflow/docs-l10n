{
  "cells": [
    {
      "cell_type": "markdown",
      "metadata": {
        "id": "7765UFHoyGx6"
      },
      "source": [
        "##### Copyright 2019 The TensorFlow Authors."
      ]
    },
    {
      "cell_type": "code",
      "execution_count": null,
      "metadata": {
        "cellView": "form",
        "id": "KVtTDrUNyL7x"
      },
      "outputs": [],
      "source": [
        "#@title Licensed under the Apache License, Version 2.0 (the \"License\");\n",
        "# you may not use this file except in compliance with the License.\n",
        "# You may obtain a copy of the License at\n",
        "#\n",
        "# https://www.apache.org/licenses/LICENSE-2.0\n",
        "#\n",
        "# Unless required by applicable law or agreed to in writing, software\n",
        "# distributed under the License is distributed on an \"AS IS\" BASIS,\n",
        "# WITHOUT WARRANTIES OR CONDITIONS OF ANY KIND, either express or implied.\n",
        "# See the License for the specific language governing permissions and\n",
        "# limitations under the License."
      ]
    },
    {
      "cell_type": "markdown",
      "metadata": {
        "id": "r0_fqL3ayLHX"
      },
      "source": [
        "# 勾配ブースティング木: モデルの理解"
      ]
    },
    {
      "cell_type": "markdown",
      "metadata": {
        "id": "PS6_yKSoyLAl"
      },
      "source": [
        "<table class=\"tfo-notebook-buttons\" align=\"left\">\n",
        "  <td><a target=\"_blank\" href=\"https://www.tensorflow.org/tutorials/estimator/boosted_trees_model_understanding\"><img src=\"https://colab.research.google.com/github/tensorflow/docs-l10n/blob/master/site/ja/tutorials/estimator/boosted_trees_model_understanding.ipynb\">TensorFlow.org で表示</a></td>\n",
        "  <td> <img src=\"https://www.tensorflow.org/images/colab_logo_32px.png\"><a target=\"_blank\" href=\"https://github.com/tensorflow/docs-l10n/blob/master/site/ja/tutorials/estimator/boosted_trees_model_understanding.ipynb\">Google Colab で実行</a> </td>\n",
        "  <td> <img src=\"https://www.tensorflow.org/images/GitHub-Mark-32px.png\"><a target=\"_blank\" href=\"https://storage.googleapis.com/tensorflow_docs/docs-l10n/site/ja/tutorials/estimator/boosted_trees_model_understanding.ipynb\">GitHub でソースを表示</a> </td>\n",
        "  <td> <img src=\"https://www.tensorflow.org/images/download_logo_32px.png\"><a href=\"https://storage.googleapis.com/tensorflow_docs/docs/site/en/tutorials/estimator/boosted_trees_model_understanding.ipynb\">ノートブックをダウンロード</a> </td>\n",
        "</table>"
      ]
    },
    {
      "cell_type": "markdown",
      "metadata": {
        "id": "pV4mnvs7l40o"
      },
      "source": [
        "> 警告: 新しいコードには Estimators は推奨されません。Estimators は `v1.Session` スタイルのコードを実行しますが、これは正しく記述するのはより難しく、特に TF 2 コードと組み合わせると予期しない動作をする可能性があります。Estimators は、[互換性保証](https://tensorflow.org/guide/versions)の対象となりますが、セキュリティの脆弱性以外の修正は行われません。詳細については、[移行ガイド](https://tensorflow.org/guide/versions)を参照してください。"
      ]
    },
    {
      "cell_type": "markdown",
      "metadata": {
        "id": "f4L1ffaFp2gT"
      },
      "source": [
        "**注意**: 多くの最先端の決定フォレストアルゴリズムの最新の Keras ベースの実装は、[TensorFlow 決定フォレスト](https://tensorflow.org/decision_forests)から利用できます。"
      ]
    },
    {
      "cell_type": "markdown",
      "metadata": {
        "id": "dW3r7qVxzqN5"
      },
      "source": [
        "勾配ブースティングモデルのトレーニング関するエンドツーエンドのウォークスルーについては、[ブースティング決定木のチュートリアル](./boosted_trees)をご覧ください。このチュートリアルでは、次のことを目的としています。\n",
        "\n",
        "- ブースティング木モデルを*ローカル*と*グローバル*のレベルで解釈する方法を学習します。\n",
        "- ブースティング木モデルがデータセットにどのように適合するかの洞察を得ます。\n",
        "\n",
        "## ブースティング木モデルをローカルとグローバルでどのように解釈するのか\n",
        "\n",
        "ローカル解釈可能性とは、個別の例レベルにおけるモデルの予測の理解を指し、グローバル解釈可能性とは、モデル全体の理解を指します。このようなテクニックによって、機械学習（ML）実践者がモデルの開発段階でバイアスとバグを検出することができます。\n",
        "\n",
        "ローカル解釈可能性については、インスタンスごとに貢献度を作成して視覚化する方法を学習します。これを特徴量の重要度と区別するために、これらの値 DFC（指向特徴量貢献度）と呼びます。\n",
        "\n",
        "グローバル解釈可能性については、獲得ベースの特徴量重要度（[パーミュテーション特徴量重要度](https://www.stat.berkeley.edu/~breiman/randomforest2001.pdf)）を取得して視覚化し、集計された DFC も示します。"
      ]
    },
    {
      "cell_type": "markdown",
      "metadata": {
        "id": "eylrTPAN3rJV"
      },
      "source": [
        "## Titanic データセットを読み込む\n",
        "\n",
        "Titanic データセットを使用します。ここでの目標は、性別、年齢、クラスなど与えられた特徴から（やや悪趣味ではありますが）乗船者の生存を予測することです。"
      ]
    },
    {
      "cell_type": "code",
      "execution_count": null,
      "metadata": {
        "id": "132V3PZ8V8VA"
      },
      "outputs": [],
      "source": [
        "!pip install statsmodels"
      ]
    },
    {
      "cell_type": "code",
      "execution_count": null,
      "metadata": {
        "id": "KuhAiPfZ3rJW"
      },
      "outputs": [],
      "source": [
        "import numpy as np\n",
        "import pandas as pd\n",
        "from IPython.display import clear_output\n",
        "\n",
        "# Load dataset.\n",
        "dftrain = pd.read_csv('https://storage.googleapis.com/tf-datasets/titanic/train.csv')\n",
        "dfeval = pd.read_csv('https://storage.googleapis.com/tf-datasets/titanic/eval.csv')\n",
        "y_train = dftrain.pop('survived')\n",
        "y_eval = dfeval.pop('survived')"
      ]
    },
    {
      "cell_type": "code",
      "execution_count": null,
      "metadata": {
        "id": "sp1ShjJJeyH3"
      },
      "outputs": [],
      "source": [
        "import tensorflow as tf\n",
        "tf.random.set_seed(123)"
      ]
    },
    {
      "cell_type": "markdown",
      "metadata": {
        "id": "3ioodHdVJVdA"
      },
      "source": [
        "特徴量の説明については、前のチュートリアルをご覧ください。"
      ]
    },
    {
      "cell_type": "markdown",
      "metadata": {
        "id": "krkRHuMp3rJn"
      },
      "source": [
        "## 特徴量カラム、input_fn、を作成して Estimator をトレーニングする"
      ]
    },
    {
      "cell_type": "markdown",
      "metadata": {
        "id": "JiJ6K3hr1lXW"
      },
      "source": [
        "### データを処理する"
      ]
    },
    {
      "cell_type": "markdown",
      "metadata": {
        "id": "udMytRJC05oW"
      },
      "source": [
        "元の数値カラムをそのまま、そして One-Hot エンコーディングカテゴリ変数を使用して、特徴量カラムを作成します。"
      ]
    },
    {
      "cell_type": "code",
      "execution_count": null,
      "metadata": {
        "id": "upaNWxcF3rJn"
      },
      "outputs": [],
      "source": [
        "fc = tf.feature_column\n",
        "CATEGORICAL_COLUMNS = ['sex', 'n_siblings_spouses', 'parch', 'class', 'deck',\n",
        "                       'embark_town', 'alone']\n",
        "NUMERIC_COLUMNS = ['age', 'fare']\n",
        "\n",
        "def one_hot_cat_column(feature_name, vocab):\n",
        "  return fc.indicator_column(\n",
        "      fc.categorical_column_with_vocabulary_list(feature_name,\n",
        "                                                 vocab))\n",
        "feature_columns = []\n",
        "for feature_name in CATEGORICAL_COLUMNS:\n",
        "  # Need to one-hot encode categorical features.\n",
        "  vocabulary = dftrain[feature_name].unique()\n",
        "  feature_columns.append(one_hot_cat_column(feature_name, vocabulary))\n",
        "\n",
        "for feature_name in NUMERIC_COLUMNS:\n",
        "  feature_columns.append(fc.numeric_column(feature_name,\n",
        "                                           dtype=tf.float32))"
      ]
    },
    {
      "cell_type": "markdown",
      "metadata": {
        "id": "9rTefnXe1n0v"
      },
      "source": [
        "### 入力パイプラインを構築する"
      ]
    },
    {
      "cell_type": "markdown",
      "metadata": {
        "id": "-UOlROp33rJo"
      },
      "source": [
        "Pandas から直接データを読み取るために、[`tf.data`](https://www.tensorflow.org/api_docs/python/tf/data) API の `from_tensor_slices` メソッドを使用して入力関数を作成します。"
      ]
    },
    {
      "cell_type": "code",
      "execution_count": null,
      "metadata": {
        "id": "9dquwCQB3rJp"
      },
      "outputs": [],
      "source": [
        "# Use entire batch since this is such a small dataset.\n",
        "NUM_EXAMPLES = len(y_train)\n",
        "\n",
        "def make_input_fn(X, y, n_epochs=None, shuffle=True):\n",
        "  def input_fn():\n",
        "    dataset = tf.data.Dataset.from_tensor_slices((X.to_dict(orient='list'), y))\n",
        "    if shuffle:\n",
        "      dataset = dataset.shuffle(NUM_EXAMPLES)\n",
        "    # For training, cycle thru dataset as many times as need (n_epochs=None).\n",
        "    dataset = (dataset\n",
        "      .repeat(n_epochs)\n",
        "      .batch(NUM_EXAMPLES))\n",
        "    return dataset\n",
        "  return input_fn\n",
        "\n",
        "# Training and evaluation input functions.\n",
        "train_input_fn = make_input_fn(dftrain, y_train)\n",
        "eval_input_fn = make_input_fn(dfeval, y_eval, shuffle=False, n_epochs=1)"
      ]
    },
    {
      "cell_type": "markdown",
      "metadata": {
        "id": "HttfNNlN3rJr"
      },
      "source": [
        "### モデルをトレーニングする"
      ]
    },
    {
      "cell_type": "code",
      "execution_count": null,
      "metadata": {
        "id": "tgEzMtlw3rJu"
      },
      "outputs": [],
      "source": [
        "params = {\n",
        "  'n_trees': 50,\n",
        "  'max_depth': 3,\n",
        "  'n_batches_per_layer': 1,\n",
        "  # You must enable center_bias = True to get DFCs. This will force the model to\n",
        "  # make an initial prediction before using any features (e.g. use the mean of\n",
        "  # the training labels for regression or log odds for classification when\n",
        "  # using cross entropy loss).\n",
        "  'center_bias': True\n",
        "}\n",
        "\n",
        "est = tf.estimator.BoostedTreesClassifier(feature_columns, **params)\n",
        "# Train model.\n",
        "est.train(train_input_fn, max_steps=100)\n",
        "\n",
        "# Evaluation.\n",
        "results = est.evaluate(eval_input_fn)\n",
        "clear_output()\n",
        "pd.Series(results).to_frame()"
      ]
    },
    {
      "cell_type": "markdown",
      "metadata": {
        "id": "JgAz3jDa_tRA"
      },
      "source": [
        "パフォーマンスの理由により、データがメモリに収まる場合は、`tf.estimator.BoostedTreesClassifier` 関数の `train_in_memory=True` 引数を使用することをお勧めします。ただし、トレーニング時間が問題ではない場合、または非常に大規模なデータセットを使用しており、分散型トレーニングを実施する場合は、上記に示される `tf.estimator.BoostedTrees` API を使用してください。\n",
        "\n",
        "このメソッドを使用する際は、メソッドはデータセット全体に対して処理を行うため、入力データをバッチ処理することはできません。\n"
      ]
    },
    {
      "cell_type": "code",
      "execution_count": null,
      "metadata": {
        "id": "y7ztzoSk_vjY"
      },
      "outputs": [],
      "source": [
        "in_memory_params = dict(params)\n",
        "in_memory_params['n_batches_per_layer'] = 1\n",
        "# In-memory input_fn does not use batching.\n",
        "def make_inmemory_train_input_fn(X, y):\n",
        "  y = np.expand_dims(y, axis=1)\n",
        "  def input_fn():\n",
        "    return dict(X), y\n",
        "  return input_fn\n",
        "train_input_fn = make_inmemory_train_input_fn(dftrain, y_train)\n",
        "\n",
        "# Train the model.\n",
        "est = tf.estimator.BoostedTreesClassifier(\n",
        "    feature_columns, \n",
        "    train_in_memory=True, \n",
        "    **in_memory_params)\n",
        "\n",
        "est.train(train_input_fn)\n",
        "print(est.evaluate(eval_input_fn))"
      ]
    },
    {
      "cell_type": "markdown",
      "metadata": {
        "id": "TSZYqNcRuczV"
      },
      "source": [
        "## モデルの解釈とプロットの作成"
      ]
    },
    {
      "cell_type": "code",
      "execution_count": null,
      "metadata": {
        "id": "BjcfLiI3uczW"
      },
      "outputs": [],
      "source": [
        "import matplotlib.pyplot as plt\n",
        "import seaborn as sns\n",
        "sns_colors = sns.color_palette('colorblind')"
      ]
    },
    {
      "cell_type": "markdown",
      "metadata": {
        "id": "ywTtbBvBuczY"
      },
      "source": [
        "## ローカル解釈可能性\n",
        "\n",
        "次に、[Interpreting Random Forests](http://blog.datadive.net/interpreting-random-forests/)（[Palczewska et al](https://arxiv.org/pdf/1312.1121.pdf) および Saabas）に概説されたアプローチを使用して（このメソッドは、[`treeinterpreter`](https://github.com/andosa/treeinterpreter) パッケージの Random Forests の scikit-learn にもあります）、DFC（指向特徴量貢献度）を出力します。DCS は次のようにして生成します。\n",
        "\n",
        "`pred_dicts = list(est.experimental_predict_with_explanations(pred_input_fn))`\n",
        "\n",
        "（注意: メソッドは「実験的」に指定されています。そのため、experimental のプレフィクスを削除する前に、この API が変更される可能性があります。）"
      ]
    },
    {
      "cell_type": "code",
      "execution_count": null,
      "metadata": {
        "id": "TIL93B4sDRqE"
      },
      "outputs": [],
      "source": [
        "pred_dicts = list(est.experimental_predict_with_explanations(eval_input_fn))"
      ]
    },
    {
      "cell_type": "code",
      "execution_count": null,
      "metadata": {
        "id": "tDPoRx_ZaY1E"
      },
      "outputs": [],
      "source": [
        "# Create DFC Pandas dataframe.\n",
        "labels = y_eval.values\n",
        "probs = pd.Series([pred['probabilities'][1] for pred in pred_dicts])\n",
        "df_dfc = pd.DataFrame([pred['dfc'] for pred in pred_dicts])\n",
        "df_dfc.describe().T"
      ]
    },
    {
      "cell_type": "markdown",
      "metadata": {
        "id": "EUKSaVoraY1C"
      },
      "source": [
        "DFC の便利な特性は、貢献度とバイアスの和が特定の例の予測と同等であるということです。"
      ]
    },
    {
      "cell_type": "code",
      "execution_count": null,
      "metadata": {
        "id": "Hd9VuizRaY1H"
      },
      "outputs": [],
      "source": [
        "# Sum of DFCs + bias == probabality.\n",
        "bias = pred_dicts[0]['bias']\n",
        "dfc_prob = df_dfc.sum(axis=1) + bias\n",
        "np.testing.assert_almost_equal(dfc_prob.values,\n",
        "                               probs.values)"
      ]
    },
    {
      "cell_type": "markdown",
      "metadata": {
        "id": "tx5p4vEhuczg"
      },
      "source": [
        "個別の乗船者に対し、DFC を描画します。貢献度の指向性に基づいてプロットに色を付け、図に特徴量値を追加しましょう。"
      ]
    },
    {
      "cell_type": "code",
      "execution_count": null,
      "metadata": {
        "id": "6z_Tq1Pquczj"
      },
      "outputs": [],
      "source": [
        "# Boilerplate code for plotting :)\n",
        "def _get_color(value):\n",
        "    \"\"\"To make positive DFCs plot green, negative DFCs plot red.\"\"\"\n",
        "    green, red = sns.color_palette()[2:4]\n",
        "    if value >= 0: return green\n",
        "    return red\n",
        "\n",
        "def _add_feature_values(feature_values, ax):\n",
        "    \"\"\"Display feature's values on left of plot.\"\"\"\n",
        "    x_coord = ax.get_xlim()[0]\n",
        "    OFFSET = 0.15\n",
        "    for y_coord, (feat_name, feat_val) in enumerate(feature_values.items()):\n",
        "        t = plt.text(x_coord, y_coord - OFFSET, '{}'.format(feat_val), size=12)\n",
        "        t.set_bbox(dict(facecolor='white', alpha=0.5))\n",
        "    from matplotlib.font_manager import FontProperties\n",
        "    font = FontProperties()\n",
        "    font.set_weight('bold')\n",
        "    t = plt.text(x_coord, y_coord + 1 - OFFSET, 'feature\\nvalue',\n",
        "    fontproperties=font, size=12)\n",
        "\n",
        "def plot_example(example):\n",
        "  TOP_N = 8 # View top 8 features.\n",
        "  sorted_ix = example.abs().sort_values()[-TOP_N:].index  # Sort by magnitude.\n",
        "  example = example[sorted_ix]\n",
        "  colors = example.map(_get_color).tolist()\n",
        "  ax = example.to_frame().plot(kind='barh',\n",
        "                          color=colors,\n",
        "                          legend=None,\n",
        "                          alpha=0.75,\n",
        "                          figsize=(10,6))\n",
        "  ax.grid(False, axis='y')\n",
        "  ax.set_yticklabels(ax.get_yticklabels(), size=14)\n",
        "\n",
        "  # Add feature values.\n",
        "  _add_feature_values(dfeval.iloc[ID][sorted_ix], ax)\n",
        "  return ax"
      ]
    },
    {
      "cell_type": "code",
      "execution_count": null,
      "metadata": {
        "id": "Ht1P2-1euczk"
      },
      "outputs": [],
      "source": [
        "# Plot results.\n",
        "ID = 182\n",
        "example = df_dfc.iloc[ID]  # Choose ith example from evaluation set.\n",
        "TOP_N = 8  # View top 8 features.\n",
        "sorted_ix = example.abs().sort_values()[-TOP_N:].index\n",
        "ax = plot_example(example)\n",
        "ax.set_title('Feature contributions for example {}\\n pred: {:1.2f}; label: {}'.format(ID, probs[ID], labels[ID]))\n",
        "ax.set_xlabel('Contribution to predicted probability', size=14)\n",
        "plt.show()"
      ]
    },
    {
      "cell_type": "markdown",
      "metadata": {
        "id": "aPXgWyFcfzAc"
      },
      "source": [
        "貢献度が大きくなると、モデルの予測に対する影響度も増します。負の貢献度は、この例の特徴量値によってモデルの予測が減少したことを示し、正の値は予測が増加したことを示します。"
      ]
    },
    {
      "cell_type": "markdown",
      "metadata": {
        "id": "0swvlkZFaY1Z"
      },
      "source": [
        "また、例の DFC を分散全体に比較したバイオリンプロットも作成できます。"
      ]
    },
    {
      "cell_type": "code",
      "execution_count": null,
      "metadata": {
        "id": "zo7rNd1v_5e2"
      },
      "outputs": [],
      "source": [
        "# Boilerplate plotting code.\n",
        "def dist_violin_plot(df_dfc, ID):\n",
        "  # Initialize plot.\n",
        "  fig, ax = plt.subplots(1, 1, figsize=(10, 6))\n",
        "\n",
        "  # Create example dataframe.\n",
        "  TOP_N = 8  # View top 8 features.\n",
        "  example = df_dfc.iloc[ID]\n",
        "  ix = example.abs().sort_values()[-TOP_N:].index\n",
        "  example = example[ix]\n",
        "  example_df = example.to_frame(name='dfc')\n",
        "\n",
        "  # Add contributions of entire distribution.\n",
        "  parts=ax.violinplot([df_dfc[w] for w in ix],\n",
        "                 vert=False,\n",
        "                 showextrema=False,\n",
        "                 widths=0.7,\n",
        "                 positions=np.arange(len(ix)))\n",
        "  face_color = sns_colors[0]\n",
        "  alpha = 0.15\n",
        "  for pc in parts['bodies']:\n",
        "      pc.set_facecolor(face_color)\n",
        "      pc.set_alpha(alpha)\n",
        "\n",
        "  # Add feature values.\n",
        "  _add_feature_values(dfeval.iloc[ID][sorted_ix], ax)\n",
        "\n",
        "  # Add local contributions.\n",
        "  ax.scatter(example,\n",
        "              np.arange(example.shape[0]),\n",
        "              color=sns.color_palette()[2],\n",
        "              s=100,\n",
        "              marker=\"s\",\n",
        "              label='contributions for example')\n",
        "\n",
        "  # Legend\n",
        "  # Proxy plot, to show violinplot dist on legend.\n",
        "  ax.plot([0,0], [1,1], label='eval set contributions\\ndistributions',\n",
        "          color=face_color, alpha=alpha, linewidth=10)\n",
        "  legend = ax.legend(loc='lower right', shadow=True, fontsize='x-large',\n",
        "                     frameon=True)\n",
        "  legend.get_frame().set_facecolor('white')\n",
        "\n",
        "  # Format plot.\n",
        "  ax.set_yticks(np.arange(example.shape[0]))\n",
        "  ax.set_yticklabels(example.index)\n",
        "  ax.grid(False, axis='y')\n",
        "  ax.set_xlabel('Contribution to predicted probability', size=14)"
      ]
    },
    {
      "cell_type": "markdown",
      "metadata": {
        "id": "PiLw2tlm_9aK"
      },
      "source": [
        "この例をプロットに描画します。"
      ]
    },
    {
      "cell_type": "code",
      "execution_count": null,
      "metadata": {
        "id": "VkCqraA2uczm"
      },
      "outputs": [],
      "source": [
        "dist_violin_plot(df_dfc, ID)\n",
        "plt.title('Feature contributions for example {}\\n pred: {:1.2f}; label: {}'.format(ID, probs[ID], labels[ID]))\n",
        "plt.show()"
      ]
    },
    {
      "cell_type": "markdown",
      "metadata": {
        "id": "TVJFM85SAWVq"
      },
      "source": [
        "最後に、[LIME](https://github.com/marcotcr/lime) や [shap](https://github.com/slundberg/shap) といったサードパーティ製ツールを使用すると、モデルの個別の予測を理解しやすくなります。"
      ]
    },
    {
      "cell_type": "markdown",
      "metadata": {
        "id": "PnNXH6mZuczr"
      },
      "source": [
        "## グローバル特徴量重要度\n",
        "\n",
        "さらに、個別の予測を調べる代わりに、モデル全体を理解することができます。以下に、計算してし使用する内容を示します。\n",
        "\n",
        "- `est.experimental_feature_importances` を使用したゲインベースの特徴量重要度\n",
        "- パーミュテーション重要度\n",
        "- `est.experimental_predict_with_explanations` による DFC の総計\n",
        "\n",
        "ゲインベースの特徴量重要度は、特定の特徴量を分割したときの損失の変化を測定し、パーミュテーション特徴量重要度は、各特徴量を 1 つずつシャッフルして評価セットのモデルパフォーマンスを評価し、モデルパフォーマンスの変化をシャッフルされた特徴量によるものとすることで、計算されます。\n",
        "\n",
        "一般的に、ゲインベースの特徴量重要度よりパーミュテーション特徴量重要度の方が優先されますが、両方の手法は、潜在的な予測変数が測定のスケーリングまたはカテゴリ数が異なり、特徴量が相関する際に、信頼性がなくなることがあります（[出典](https://bmcbioinformatics.biomedcentral.com/articles/10.1186/1471-2105-9-307)）。特徴量重要度の種類に関するより詳細な概要と素晴らしい議論については、[こちらの記事](http://explained.ai/rf-importance/index.html)をご覧ください。"
      ]
    },
    {
      "cell_type": "markdown",
      "metadata": {
        "id": "3ocBcMatuczs"
      },
      "source": [
        "### ゲインベースの特徴量重要度"
      ]
    },
    {
      "cell_type": "markdown",
      "metadata": {
        "id": "gMaxCgPbBJ-j"
      },
      "source": [
        "ゲインベースの特徴量重要度は、`est.experimental_feature_importances` を使用して TensorFlow ブースティング木 Estimator に組み込まれています。"
      ]
    },
    {
      "cell_type": "code",
      "execution_count": null,
      "metadata": {
        "id": "pPTxbAaeuczt"
      },
      "outputs": [],
      "source": [
        "importances = est.experimental_feature_importances(normalize=True)\n",
        "df_imp = pd.Series(importances)\n",
        "\n",
        "# Visualize importances.\n",
        "N = 8\n",
        "ax = (df_imp.iloc[0:N][::-1]\n",
        "    .plot(kind='barh',\n",
        "          color=sns_colors[0],\n",
        "          title='Gain feature importances',\n",
        "          figsize=(10, 6)))\n",
        "ax.grid(False, axis='y')"
      ]
    },
    {
      "cell_type": "markdown",
      "metadata": {
        "id": "GvfAcBeGuczw"
      },
      "source": [
        "### 平均絶対 DFC\n",
        "\n",
        "グローバルレベルでの影響を理解するために、DFC の絶対値の平均を割り出すこともできます。"
      ]
    },
    {
      "cell_type": "code",
      "execution_count": null,
      "metadata": {
        "id": "JkvAWLWLuczx"
      },
      "outputs": [],
      "source": [
        "# Plot.\n",
        "dfc_mean = df_dfc.abs().mean()\n",
        "N = 8\n",
        "sorted_ix = dfc_mean.abs().sort_values()[-N:].index  # Average and sort by absolute.\n",
        "ax = dfc_mean[sorted_ix].plot(kind='barh',\n",
        "                       color=sns_colors[1],\n",
        "                       title='Mean |directional feature contributions|',\n",
        "                       figsize=(10, 6))\n",
        "ax.grid(False, axis='y')"
      ]
    },
    {
      "cell_type": "markdown",
      "metadata": {
        "id": "Z0k_DvPLaY1o"
      },
      "source": [
        "また、特徴量値が変化するにつれ、DFC がどのように変化するのかも確認できます。"
      ]
    },
    {
      "cell_type": "code",
      "execution_count": null,
      "metadata": {
        "id": "ZcIfN1IpaY1o"
      },
      "outputs": [],
      "source": [
        "FEATURE = 'fare'\n",
        "feature = pd.Series(df_dfc[FEATURE].values, index=dfeval[FEATURE].values).sort_index()\n",
        "ax = sns.regplot(feature.index.values, feature.values, lowess=True)\n",
        "ax.set_ylabel('contribution')\n",
        "ax.set_xlabel(FEATURE)\n",
        "ax.set_xlim(0, 100)\n",
        "plt.show()"
      ]
    },
    {
      "cell_type": "markdown",
      "metadata": {
        "id": "lbpG72ULucz0"
      },
      "source": [
        "### パーミュテーション特徴量重要度"
      ]
    },
    {
      "cell_type": "code",
      "execution_count": null,
      "metadata": {
        "id": "6esOw1VOucz0"
      },
      "outputs": [],
      "source": [
        "def permutation_importances(est, X_eval, y_eval, metric, features):\n",
        "    \"\"\"Column by column, shuffle values and observe effect on eval set.\n",
        "\n",
        "    source: http://explained.ai/rf-importance/index.html\n",
        "    A similar approach can be done during training. See \"Drop-column importance\"\n",
        "    in the above article.\"\"\"\n",
        "    baseline = metric(est, X_eval, y_eval)\n",
        "    imp = []\n",
        "    for col in features:\n",
        "        save = X_eval[col].copy()\n",
        "        X_eval[col] = np.random.permutation(X_eval[col])\n",
        "        m = metric(est, X_eval, y_eval)\n",
        "        X_eval[col] = save\n",
        "        imp.append(baseline - m)\n",
        "    return np.array(imp)\n",
        "\n",
        "def accuracy_metric(est, X, y):\n",
        "    \"\"\"TensorFlow estimator accuracy.\"\"\"\n",
        "    eval_input_fn = make_input_fn(X,\n",
        "                                  y=y,\n",
        "                                  shuffle=False,\n",
        "                                  n_epochs=1)\n",
        "    return est.evaluate(input_fn=eval_input_fn)['accuracy']\n",
        "features = CATEGORICAL_COLUMNS + NUMERIC_COLUMNS\n",
        "importances = permutation_importances(est, dfeval, y_eval, accuracy_metric,\n",
        "                                      features)\n",
        "df_imp = pd.Series(importances, index=features)\n",
        "\n",
        "sorted_ix = df_imp.abs().sort_values().index\n",
        "ax = df_imp[sorted_ix][-5:].plot(kind='barh', color=sns_colors[2], figsize=(10, 6))\n",
        "ax.grid(False, axis='y')\n",
        "ax.set_title('Permutation feature importance')\n",
        "plt.show()"
      ]
    },
    {
      "cell_type": "markdown",
      "metadata": {
        "id": "E236y3pVEzHg"
      },
      "source": [
        "## モデルの適合性を視覚化する"
      ]
    },
    {
      "cell_type": "markdown",
      "metadata": {
        "id": "TrcQ-839EzZ6"
      },
      "source": [
        "まず、次の式に従って、トレーニングデータをシミュレーション/作成しましょう。\n",
        "\n",
        "$$z=x* e^{-x^2 - y^2}$$\n",
        "\n",
        "上記の z は予測しようとしている従属変数で、x と y は特徴量です。"
      ]
    },
    {
      "cell_type": "code",
      "execution_count": null,
      "metadata": {
        "id": "e8woaj81GGE9"
      },
      "outputs": [],
      "source": [
        "from numpy.random import uniform, seed\n",
        "from scipy.interpolate import griddata\n",
        "\n",
        "# Create fake data\n",
        "seed(0)\n",
        "npts = 5000\n",
        "x = uniform(-2, 2, npts)\n",
        "y = uniform(-2, 2, npts)\n",
        "z = x*np.exp(-x**2 - y**2)\n",
        "xy = np.zeros((2,np.size(x)))\n",
        "xy[0] = x\n",
        "xy[1] = y\n",
        "xy = xy.T"
      ]
    },
    {
      "cell_type": "code",
      "execution_count": null,
      "metadata": {
        "id": "GRI3KHfLZsGP"
      },
      "outputs": [],
      "source": [
        "# Prep data for training.\n",
        "df = pd.DataFrame({'x': x, 'y': y, 'z': z})\n",
        "\n",
        "xi = np.linspace(-2.0, 2.0, 200),\n",
        "yi = np.linspace(-2.1, 2.1, 210),\n",
        "xi,yi = np.meshgrid(xi, yi)\n",
        "\n",
        "df_predict = pd.DataFrame({\n",
        "    'x' : xi.flatten(),\n",
        "    'y' : yi.flatten(),\n",
        "})\n",
        "predict_shape = xi.shape"
      ]
    },
    {
      "cell_type": "code",
      "execution_count": null,
      "metadata": {
        "id": "w0JnH4IhZuAb"
      },
      "outputs": [],
      "source": [
        "def plot_contour(x, y, z, **kwargs):\n",
        "  # Grid the data.\n",
        "  plt.figure(figsize=(10, 8))\n",
        "  # Contour the gridded data, plotting dots at the nonuniform data points.\n",
        "  CS = plt.contour(x, y, z, 15, linewidths=0.5, colors='k')\n",
        "  CS = plt.contourf(x, y, z, 15,\n",
        "                    vmax=abs(zi).max(), vmin=-abs(zi).max(), cmap='RdBu_r')\n",
        "  plt.colorbar()  # Draw colorbar.\n",
        "  # Plot data points.\n",
        "  plt.xlim(-2, 2)\n",
        "  plt.ylim(-2, 2)"
      ]
    },
    {
      "cell_type": "markdown",
      "metadata": {
        "id": "KF7WsIcYGF_E"
      },
      "source": [
        "関数を視覚化できます。赤味が強くなるほど、より大きな関数値に対応します。"
      ]
    },
    {
      "cell_type": "code",
      "execution_count": null,
      "metadata": {
        "id": "WrxuqaaXGFOK"
      },
      "outputs": [],
      "source": [
        "zi = griddata(xy, z, (xi, yi), method='linear', fill_value='0')\n",
        "plot_contour(xi, yi, zi)\n",
        "plt.scatter(df.x, df.y, marker='.')\n",
        "plt.title('Contour on training data')\n",
        "plt.show()"
      ]
    },
    {
      "cell_type": "code",
      "execution_count": null,
      "metadata": {
        "id": "hoANr0f2GFrM"
      },
      "outputs": [],
      "source": [
        "fc = [tf.feature_column.numeric_column('x'),\n",
        "      tf.feature_column.numeric_column('y')]"
      ]
    },
    {
      "cell_type": "code",
      "execution_count": null,
      "metadata": {
        "id": "xVRWyoY3ayTK"
      },
      "outputs": [],
      "source": [
        "def predict(est):\n",
        "  \"\"\"Predictions from a given estimator.\"\"\"\n",
        "  predict_input_fn = lambda: tf.data.Dataset.from_tensors(dict(df_predict))\n",
        "  preds = np.array([p['predictions'][0] for p in est.predict(predict_input_fn)])\n",
        "  return preds.reshape(predict_shape)"
      ]
    },
    {
      "cell_type": "markdown",
      "metadata": {
        "id": "uyPu5618GU7K"
      },
      "source": [
        "まず、線形モデルをデータにフィットしてみましょう。"
      ]
    },
    {
      "cell_type": "code",
      "execution_count": null,
      "metadata": {
        "id": "zUIV2IVgGVSk"
      },
      "outputs": [],
      "source": [
        "train_input_fn = make_input_fn(df, df.z)\n",
        "est = tf.estimator.LinearRegressor(fc)\n",
        "est.train(train_input_fn, max_steps=500);"
      ]
    },
    {
      "cell_type": "code",
      "execution_count": null,
      "metadata": {
        "id": "_u4WAcCqfbco"
      },
      "outputs": [],
      "source": [
        "plot_contour(xi, yi, predict(est))"
      ]
    },
    {
      "cell_type": "markdown",
      "metadata": {
        "id": "XD_fMAUtSCSa"
      },
      "source": [
        "あまり良いフィットではありません。次に、モデルが関数にどのようにフィットするかを理解するために、GBDT モデルをフィットしてみましょう。"
      ]
    },
    {
      "cell_type": "code",
      "execution_count": null,
      "metadata": {
        "id": "-dHlKFlFgHDQ"
      },
      "outputs": [],
      "source": [
        "n_trees = 37 #@param {type: \"slider\", min: 1, max: 80, step: 1}\n",
        "\n",
        "est = tf.estimator.BoostedTreesRegressor(fc, n_batches_per_layer=1, n_trees=n_trees)\n",
        "est.train(train_input_fn, max_steps=500)\n",
        "clear_output()\n",
        "plot_contour(xi, yi, predict(est))\n",
        "plt.text(-1.8, 2.1, '# trees: {}'.format(n_trees), color='w', backgroundcolor='black', size=20)\n",
        "plt.show()"
      ]
    },
    {
      "cell_type": "markdown",
      "metadata": {
        "id": "5WcZ9fubh1wT"
      },
      "source": [
        "木の数を増やすと、モデルの予測は基盤の関数により近づきます。"
      ]
    },
    {
      "cell_type": "markdown",
      "metadata": {
        "id": "cj8u3NCG-IKX"
      },
      "source": [
        "![](https://www.tensorflow.org/images/boosted_trees/boosted_trees_ntrees.gif)"
      ]
    },
    {
      "cell_type": "markdown",
      "metadata": {
        "id": "SMKoEZnCdrsp"
      },
      "source": [
        "## まとめ"
      ]
    },
    {
      "cell_type": "markdown",
      "metadata": {
        "id": "ZSZUSrjXdw9g"
      },
      "source": [
        "このチュートリアルでは、方向特徴量貢献度と特徴量重要度テクニックを使用して、ブースティング木モデルの解釈方法を学習しました。これらのテクニックから、特徴がモデルの予測にどのように影響するかに対する洞察を得られます。最後に、いくつかのモデルの決定面を見ることによって、ブースティング木モデルが複雑な関数にどのようにフィットするかということに関する洞察を得ました。"
      ]
    }
  ],
  "metadata": {
    "accelerator": "GPU",
    "colab": {
      "collapsed_sections": [],
      "name": "boosted_trees_model_understanding.ipynb",
      "toc_visible": true
    },
    "kernelspec": {
      "display_name": "Python 3",
      "name": "python3"
    }
  },
  "nbformat": 4,
  "nbformat_minor": 0
}
