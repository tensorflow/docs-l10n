{
  "cells": [
    {
      "cell_type": "markdown",
      "metadata": {
        "id": "wJcYs_ERTnnI"
      },
      "source": [
        "##### Copyright 2021 The TensorFlow Authors."
      ]
    },
    {
      "cell_type": "code",
      "execution_count": null,
      "metadata": {
        "cellView": "form",
        "id": "HMUDt0CiUJk9"
      },
      "outputs": [],
      "source": [
        "#@title Licensed under the Apache License, Version 2.0 (the \"License\");\n",
        "# you may not use this file except in compliance with the License.\n",
        "# You may obtain a copy of the License at\n",
        "#\n",
        "# https://www.apache.org/licenses/LICENSE-2.0\n",
        "#\n",
        "# Unless required by applicable law or agreed to in writing, software\n",
        "# distributed under the License is distributed on an \"AS IS\" BASIS,\n",
        "# WITHOUT WARRANTIES OR CONDITIONS OF ANY KIND, either express or implied.\n",
        "# See the License for the specific language governing permissions and\n",
        "# limitations under the License."
      ]
    },
    {
      "cell_type": "markdown",
      "metadata": {
        "id": "77z2OchJTk0l"
      },
      "source": [
        "# 指標とオプティマイザを移行する\n",
        "\n",
        "<table class=\"tfo-notebook-buttons\" align=\"left\">\n",
        "  <td><a target=\"_blank\" href=\"https://www.tensorflow.org/guide/migrate/metrics_optimizers\"> <img src=\"https://www.tensorflow.org/images/tf_logo_32px.png\"> TensorFlow.org で表示</a></td>\n",
        "  <td><a target=\"_blank\" href=\"https://colab.research.google.com/github/tensorflow/docs-l10n/blob/master/site/ja/guide/migrate/metrics_optimizers.ipynb\"> <img src=\"https://www.tensorflow.org/images/colab_logo_32px.png\"> Google Colab で実行</a></td>\n",
        "  <td><a target=\"_blank\" href=\"https://github.com/tensorflow/docs-l10n/blob/master/site/ja/guide/migrate/metrics_optimizers.ipynb\"> <img src=\"https://www.tensorflow.org/images/GitHub-Mark-32px.png\"> GitHub でソースを表示</a></td>\n",
        "  <td><a href=\"https://storage.googleapis.com/tensorflow_docs/docs-l10n/site/ja/guide/migrate/metrics_optimizers.ipynb\"><img src=\"https://www.tensorflow.org/images/download_logo_32px.png\">ノートブックをダウンロード</a></td>\n",
        "</table>"
      ]
    },
    {
      "cell_type": "markdown",
      "metadata": {
        "id": "meUTrR4I6m1C"
      },
      "source": [
        "TF1 では、`tf.metrics` はすべての指標関数の API 名前空間です。各指標は、`label` と `prediction` を入力パラメータとして取り、対応する指標テンソルを結果として返す関数です。TF2 では、`tf.keras.metrics` にすべての指標関数とオブジェクトが含まれています。`Metric` オブジェクトを `tf.keras.Model` および `tf.keras.layers.layer` で使用して、指標値を計算できます。"
      ]
    },
    {
      "cell_type": "markdown",
      "metadata": {
        "id": "YdZSoIXEbhg-"
      },
      "source": [
        "## セットアップ\n",
        "\n",
        "いくつかの必要な TensorFlow インポートから始めましょう。"
      ]
    },
    {
      "cell_type": "code",
      "execution_count": null,
      "metadata": {
        "id": "iE0vSfMXumKI"
      },
      "outputs": [],
      "source": [
        "import tensorflow as tf\n",
        "import tensorflow.compat.v1 as tf1"
      ]
    },
    {
      "cell_type": "markdown",
      "metadata": {
        "id": "Jsm9Rxx7s1OZ"
      },
      "source": [
        "デモ用にいくつかの簡単なデータを準備します。"
      ]
    },
    {
      "cell_type": "code",
      "execution_count": null,
      "metadata": {
        "id": "m7rnGxsXtDkV"
      },
      "outputs": [],
      "source": [
        "features = [[1., 1.5], [2., 2.5], [3., 3.5]]\n",
        "labels = [0, 0, 1]\n",
        "eval_features = [[4., 4.5], [5., 5.5], [6., 6.5]]\n",
        "eval_labels = [0, 1, 1]"
      ]
    },
    {
      "cell_type": "markdown",
      "metadata": {
        "id": "xswk0d4xrFaQ"
      },
      "source": [
        "## TF1: Estimator を使用した tf.compat.v1.metrics\n",
        "\n",
        "TF1 では、指標は `eval_metric_ops` として `EstimatorSpec` に追加でき、演算は　`tf.metrics`　で定義されたすべての指標関数を介して生成されます。例に従って、`tf.metrics.accuracy` の使用方法を確認できます。"
      ]
    },
    {
      "cell_type": "code",
      "execution_count": null,
      "metadata": {
        "id": "lqe9obf7suIj"
      },
      "outputs": [],
      "source": [
        "def _input_fn():\n",
        "  return tf1.data.Dataset.from_tensor_slices((features, labels)).batch(1)\n",
        "\n",
        "def _eval_input_fn():\n",
        "  return tf1.data.Dataset.from_tensor_slices(\n",
        "      (eval_features, eval_labels)).batch(1)\n",
        "\n",
        "def _model_fn(features, labels, mode):\n",
        "  logits = tf1.layers.Dense(2)(features)\n",
        "  predictions = tf.math.argmax(input=logits, axis=1)\n",
        "  loss = tf1.nn.sparse_softmax_cross_entropy_with_logits(labels=labels, logits=logits)\n",
        "  optimizer = tf1.train.AdagradOptimizer(0.05)\n",
        "  train_op = optimizer.minimize(loss, global_step=tf1.train.get_global_step())\n",
        "  accuracy = tf1.metrics.accuracy(labels=labels, predictions=predictions)\n",
        "  return tf1.estimator.EstimatorSpec(mode, \n",
        "                                     predictions=predictions,\n",
        "                                     loss=loss, \n",
        "                                     train_op=train_op,\n",
        "                                     eval_metric_ops={'accuracy': accuracy})\n",
        "\n",
        "estimator = tf1.estimator.Estimator(model_fn=_model_fn)\n",
        "estimator.train(_input_fn)"
      ]
    },
    {
      "cell_type": "code",
      "execution_count": null,
      "metadata": {
        "id": "HsOpjW5plH9Q"
      },
      "outputs": [],
      "source": [
        "estimator.evaluate(_eval_input_fn)"
      ]
    },
    {
      "cell_type": "markdown",
      "metadata": {
        "id": "Wk4C6qA_OaQx"
      },
      "source": [
        "また、指標は `tf.estimator.add_metrics()` を介してエスティメータに直接追加できます。"
      ]
    },
    {
      "cell_type": "code",
      "execution_count": null,
      "metadata": {
        "id": "B2lpLOh9Owma"
      },
      "outputs": [],
      "source": [
        "def mean_squared_error(labels, predictions):\n",
        "  labels = tf.cast(labels, predictions.dtype)\n",
        "  return {\"mean_squared_error\": \n",
        "          tf1.metrics.mean_squared_error(labels=labels, predictions=predictions)}\n",
        "\n",
        "estimator = tf1.estimator.add_metrics(estimator, mean_squared_error)\n",
        "estimator.evaluate(_eval_input_fn)"
      ]
    },
    {
      "cell_type": "markdown",
      "metadata": {
        "id": "KEmzBjfnsxwT"
      },
      "source": [
        "## TF2: tf.keras.Model を使用した Keras メトリクス API\n",
        "\n",
        "TF2 では、`tf.keras.metrics` にすべての指標クラスと関数が含まれています。これらは OOP スタイルで設計されており、他の `tf.keras` API と密接に統合されています。すべての指標は `tf.keras.metrics` 名前空間で見つけることができ、通常は `tf.compat.v1.metrics` と `tf.keras.metrics` の間に直接マッピングがあります。\n",
        "\n",
        "次の例では、指標が `model.compile()` メソッドに追加されています。ユーザーは、ラベルと予測テンソルを指定せずに、指標インスタンスを作成するだけで済みます。Keras モデルは、モデルの出力とラベルを指標オブジェクトにルーティングします。"
      ]
    },
    {
      "cell_type": "code",
      "execution_count": null,
      "metadata": {
        "id": "atVciNgPs0fw"
      },
      "outputs": [],
      "source": [
        "dataset = tf.data.Dataset.from_tensor_slices((features, labels)).batch(1)\n",
        "eval_dataset = tf.data.Dataset.from_tensor_slices(\n",
        "      (eval_features, eval_labels)).batch(1)\n",
        "\n",
        "inputs = tf.keras.Input((2,))\n",
        "logits = tf.keras.layers.Dense(2)(inputs)\n",
        "predictions = tf.math.argmax(input=logits, axis=1)\n",
        "model = tf.keras.models.Model(inputs, predictions)\n",
        "optimizer = tf.keras.optimizers.Adagrad(learning_rate=0.05)\n",
        "\n",
        "model.compile(optimizer, loss='mse', metrics=[tf.keras.metrics.Accuracy()])"
      ]
    },
    {
      "cell_type": "code",
      "execution_count": null,
      "metadata": {
        "id": "Kip65sYBlKiu"
      },
      "outputs": [],
      "source": [
        "model.evaluate(eval_dataset, return_dict=True)"
      ]
    },
    {
      "cell_type": "markdown",
      "metadata": {
        "id": "_mcGoCm_X1V0"
      },
      "source": [
        "Eager execution を有効にすると、`tf.keras.metrics.Metric` インスタンスを直接使用して、numpy データまたは Eager テンソルを評価できます。`tf.keras.metrics.Metric` オブジェクトはステートフルコンテナーです。指標値は `metric.update_state(y_true, y_pred)` で更新でき、結果は `metrics.result() `で取得できます。\n"
      ]
    },
    {
      "cell_type": "code",
      "execution_count": null,
      "metadata": {
        "id": "TVGn5_IhYhtG"
      },
      "outputs": [],
      "source": [
        "accuracy = tf.keras.metrics.Accuracy()\n",
        "\n",
        "accuracy.update_state(y_true=[0, 0, 1, 1], y_pred=[0, 0, 0, 1])\n",
        "accuracy.result().numpy()\n"
      ]
    },
    {
      "cell_type": "code",
      "execution_count": null,
      "metadata": {
        "id": "wQEV2hHtY_su"
      },
      "outputs": [],
      "source": [
        "accuracy.update_state(y_true=[0, 0, 1, 1], y_pred=[0, 0, 0, 0])\n",
        "accuracy.update_state(y_true=[0, 0, 1, 1], y_pred=[1, 1, 0, 0])\n",
        "accuracy.result().numpy()"
      ]
    },
    {
      "cell_type": "markdown",
      "metadata": {
        "id": "E3F3ElcyadW-"
      },
      "source": [
        "`tf.keras.metrics.Metric` の詳細については、`tf.keras.metrics.Metric` の API ドキュメントと[移行ガイド](https://www.tensorflow.org/guide/effective_tf2#new-style_metrics_and_losses)を参照してください。"
      ]
    },
    {
      "cell_type": "markdown",
      "metadata": {
        "id": "eXKY9HEulxQC"
      },
      "source": [
        "## TF1.x オプティマイザの Keras オプティマイザへの移行\n",
        "\n",
        "<a>Adam オプティマイザ</a>や[勾配降下オプティマイザ](https://www.tensorflow.org/api_docs/python/tf/compat/v1/train/AdamOptimizer)などの <code>tf.compat.v1.train</code> 内のオプティマイザは、`tf.keras.optimizers` 内に同等のものをもちます。\n",
        "\n",
        "以下の表は、これらのレガシーオプティマイザを Keras の同等のものに変換する方法をまとめたものです。追加の手順（[デフォルトの学習率の更新](../../guide/effective_tf2.ipynb#optimizer_defaults)など）が必要でない限り、TF1.x バージョンを TF2 バージョンに直接置き換えることができます。\n",
        "\n",
        "オプティマイザを変換すると、[古いチェックポイントの互換性が失われる可能性があること](./migrating_checkpoints.ipynb)に注意してください。\n",
        "\n",
        "<table>\n",
        "  <tr>\n",
        "    <th>TF1.x</th>\n",
        "    <th>TF2</th>\n",
        "    <th>追加の手順</th>\n",
        "  </tr>\n",
        "  <tr>\n",
        "    <td>`tf.v1.train.GradientDescentOptimizer`</td>\n",
        "    <td>`tf.keras.optimizers.SGD`</td>\n",
        "    <td>なし</td>\n",
        "  </tr>\n",
        "  <tr>\n",
        "    <td>`tf.v1.train.MomentumOptimizer`</td>\n",
        "    <td>`tf.keras.optimizers.SGD`</td>\n",
        "    <td>`momentum` 引数を含む</td>\n",
        "  </tr>\n",
        "  <tr>\n",
        "    <td>`tf.v1.train.AdamOptimizer`</td>\n",
        "    <td>`tf.keras.optimizers.Adam`</td>\n",
        "    <td>`beta1` および `beta2` 引数の名前を `beta_1` および `beta_2` に変更する</td>\n",
        "  </tr>\n",
        "  <tr>\n",
        "    <td>`tf.v1.train.RMSPropOptimizer`</td>\n",
        "    <td>`tf.keras.optimizers.RMSprop`</td>\n",
        "    <td>`decay` 引数の名前を `rho` に変更する</td>\n",
        "  </tr>\n",
        "  <tr>\n",
        "    <td>`tf.v1.train.AdadeltaOptimizer`</td>\n",
        "    <td>`tf.keras.optimizers.Adadelta`</td>\n",
        "    <td>なし</td>\n",
        "  </tr>\n",
        "  <tr>\n",
        "    <td>`tf.v1.train.AdagradOptimizer`</td>\n",
        "    <td>`tf.keras.optimizers.Adagrad`</td>\n",
        "    <td>なし</td>\n",
        "  </tr>\n",
        "  <tr>\n",
        "    <td>`tf.v1.train.FtrlOptimizer`</td>\n",
        "    <td>`tf.keras.optimizers.Ftrl`</td>\n",
        "    <td>`accum_name` および `linear_name` 引数を削除する</td>\n",
        "  </tr>\n",
        "  <tr>\n",
        "    <td>`tf.contrib.AdamaxOptimizer`</td>\n",
        "    <td>`tf.keras.optimizers.Adamax`</td>\n",
        "    <td>`beta1` および `beta2` 引数の名前を `beta_1` および `beta_2` に変更する</td>\n",
        "  </tr>\n",
        "  <tr>\n",
        "    <td>`tf.contrib.Nadam`</td>\n",
        "    <td>`tf.keras.optimizers.Nadam`</td>\n",
        "    <td>`beta1` および `beta2` 引数の名前を `beta_1` および `beta_2` に変更する</td>\n",
        "  </tr>\n",
        "</table>\n",
        "\n",
        "注意: TF2 では、すべてのイプシロン（数値安定定数）のデフォルトが `1e-8` ではなく `1e-7` になりました。ほとんどの場合、この違いは無視できます。"
      ]
    }
  ],
  "metadata": {
    "colab": {
      "collapsed_sections": [],
      "name": "metrics_optimizers.ipynb",
      "toc_visible": true
    },
    "kernelspec": {
      "display_name": "Python 3",
      "name": "python3"
    }
  },
  "nbformat": 4,
  "nbformat_minor": 0
}
