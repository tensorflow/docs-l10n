{
  "cells": [
    {
      "cell_type": "markdown",
      "metadata": {
        "id": "wJcYs_ERTnnI"
      },
      "source": [
        "##### Copyright 2021 The TensorFlow Authors."
      ]
    },
    {
      "cell_type": "code",
      "execution_count": null,
      "metadata": {
        "cellView": "form",
        "id": "HMUDt0CiUJk9"
      },
      "outputs": [],
      "source": [
        "#@title Licensed under the Apache License, Version 2.0 (the \"License\");\n",
        "# you may not use this file except in compliance with the License.\n",
        "# You may obtain a copy of the License at\n",
        "#\n",
        "# https://www.apache.org/licenses/LICENSE-2.0\n",
        "#\n",
        "# Unless required by applicable law or agreed to in writing, software\n",
        "# distributed under the License is distributed on an \"AS IS\" BASIS,\n",
        "# WITHOUT WARRANTIES OR CONDITIONS OF ANY KIND, either express or implied.\n",
        "# See the License for the specific language governing permissions and\n",
        "# limitations under the License."
      ]
    },
    {
      "cell_type": "markdown",
      "metadata": {
        "id": "77z2OchJTk0l"
      },
      "source": [
        "# SessionRunHook を Keras コールバックに移行する\n",
        "\n",
        "<table class=\"tfo-notebook-buttons\" align=\"left\">\n",
        "  <td>     <a target=\"_blank\" href=\"https://www.tensorflow.org/guide/migrate/sessionrunhook_callback\"><img src=\"https://www.tensorflow.org/images/tf_logo_32px.png\">TensorFlow.org で表示</a>\n",
        "</td>\n",
        "  <td>     <a target=\"_blank\" href=\"https://colab.research.google.com/github/tensorflow/docs-l10n/blob/master/site/ja/guide/migrate/sessionrunhook_callback.ipynb\"><img src=\"https://www.tensorflow.org/images/colab_logo_32px.png\">Google Colab で実行</a>\n",
        "</td>\n",
        "  <td><a target=\"_blank\" href=\"https://github.com/tensorflow/docs-l10n/blob/master/site/ja/guide/migrate/sessionrunhook_callback.ipynb\"><img src=\"https://www.tensorflow.org/images/GitHub-Mark-32px.png\">GitHub でソースを表示</a></td>\n",
        "  <td>     <a href=\"https://storage.googleapis.com/tensorflow_docs/docs-l10n/site/ja/guide/migrate/sessionrunhook_callback.ipynb\"><img src=\"https://www.tensorflow.org/images/download_logo_32px.png\">ノートブックをダウンロード</a>   </td>\n",
        "</table>\n"
      ]
    },
    {
      "cell_type": "markdown",
      "metadata": {
        "id": "KZHPY55aFyXT"
      },
      "source": [
        "TensorFlow 1 でトレーニングの動作をカスタマイズするには、`tf.estimator.Estimator` で `tf.estimator.SessionRunHook` を使用します。このガイドでは、`SessionRunHook` から `tf.keras.callbacks.Callback` API を使用して TensorFlow 2 のカスタムコールバックに移行する方法を示します。これは、トレーニングのために Keras `Model.fit`（`Model.evaluate` および `Model.predict` も）と使用できます。この方法を学習するために、トレーニング時に 1 秒あたりのサンプルを測定する `SessionRunHook` と `Callback` タスクを実装します。\n",
        "\n",
        "コールバックの例は、チェックポイントの保存 （`tf.keras.callbacks.ModelCheckpoint`）と [TensorBoard](%60tf.keras.callbacks.TensorBoard%60) の要約の書き込みです。Keras [コールバック](https://www.tensorflow.org/guide/keras/custom_callback)は、組み込みの Keras `Model.fit`/`Model.evaluate`/`Model.predict` API のトレーニング/評価/予測時にさまざまな時点で呼び出されるオブジェクトです。コールバックの詳細については、`tf.keras.callbacks.Callback` API ドキュメント、および[独自のコールバックの作成](https://www.tensorflow.org/guide/keras/custom_callback.ipynb/)と[組み込みメソッドを使用したトレーニングと評価](https://www.tensorflow.org/guide/keras/train_and_evaluate)（*コールバックの使用*セクション）ガイドを参照してください。"
      ]
    },
    {
      "cell_type": "markdown",
      "metadata": {
        "id": "29da56bf859d"
      },
      "source": [
        "## セットアップ\n",
        "\n",
        "まず、インポートとデモ用の単純なデータセットから始めます。"
      ]
    },
    {
      "cell_type": "code",
      "execution_count": null,
      "metadata": {
        "id": "296d8b0DoKpV"
      },
      "outputs": [],
      "source": [
        "import tensorflow as tf\n",
        "import tensorflow.compat.v1 as tf1\n",
        "\n",
        "import time\n",
        "from datetime import datetime\n",
        "from absl import flags"
      ]
    },
    {
      "cell_type": "code",
      "execution_count": null,
      "metadata": {
        "id": "xVGYtUXyXNuE"
      },
      "outputs": [],
      "source": [
        "features = [[1., 1.5], [2., 2.5], [3., 3.5]]\n",
        "labels = [[0.3], [0.5], [0.7]]\n",
        "eval_features = [[4., 4.5], [5., 5.5], [6., 6.5]]\n",
        "eval_labels = [[0.8], [0.9], [1.]]"
      ]
    },
    {
      "cell_type": "markdown",
      "metadata": {
        "id": "ON4zQifT0Vec"
      },
      "source": [
        "## TensorFlow 1: tf.estimator API を使用してカスタム SessionRunHook を作成する\n",
        "\n",
        "次の TensorFlow 1 の例は、トレーニング時に 1 秒あたりのサンプルを測定するカスタム `SessionRunHook` を設定する方法を示しています。フック (`LoggerHook`) を作成し、`tf.estimator.Estimator.train` の `hooks` パラメータに渡します。"
      ]
    },
    {
      "cell_type": "code",
      "execution_count": null,
      "metadata": {
        "id": "S-myEclbXUL7"
      },
      "outputs": [],
      "source": [
        "def _input_fn():\n",
        "  return tf1.data.Dataset.from_tensor_slices(\n",
        "      (features, labels)).batch(1).repeat(100)\n",
        "\n",
        "def _model_fn(features, labels, mode):\n",
        "  logits = tf1.layers.Dense(1)(features)\n",
        "  loss = tf1.losses.mean_squared_error(labels=labels, predictions=logits)\n",
        "  optimizer = tf1.train.AdagradOptimizer(0.05)\n",
        "  train_op = optimizer.minimize(loss, global_step=tf1.train.get_global_step())\n",
        "  return tf1.estimator.EstimatorSpec(mode, loss=loss, train_op=train_op)"
      ]
    },
    {
      "cell_type": "code",
      "execution_count": null,
      "metadata": {
        "id": "Xd9sPTkO0ZTD"
      },
      "outputs": [],
      "source": [
        "class LoggerHook(tf1.train.SessionRunHook):\n",
        "  \"\"\"Logs loss and runtime.\"\"\"\n",
        "\n",
        "  def begin(self):\n",
        "    self._step = -1\n",
        "    self._start_time = time.time()\n",
        "    self.log_frequency = 10\n",
        "\n",
        "  def before_run(self, run_context):\n",
        "    self._step += 1\n",
        "\n",
        "  def after_run(self, run_context, run_values):\n",
        "    if self._step % self.log_frequency == 0:\n",
        "      current_time = time.time()\n",
        "      duration = current_time - self._start_time\n",
        "      self._start_time = current_time\n",
        "      examples_per_sec = self.log_frequency / duration\n",
        "      print('Time:', datetime.now(), ', Step #:', self._step,\n",
        "            ', Examples per second:', examples_per_sec)\n",
        "\n",
        "estimator = tf1.estimator.Estimator(model_fn=_model_fn)\n",
        "\n",
        "# Begin training.\n",
        "estimator.train(_input_fn, hooks=[LoggerHook()])"
      ]
    },
    {
      "cell_type": "markdown",
      "metadata": {
        "id": "3uZCDMrM2CEg"
      },
      "source": [
        "## TensorFlow 2: Model.fit のカスタム Keras コールバックを作成する\n",
        "\n",
        "TensorFlow 2 では、組み込みの Keras `Model.fit`（または `Model.evaluate`）をトレーニング/評価に使用する場合、カスタム `tf.keras.callbacks.Callback` を構成し、`Model.fit`（または `Model.evaluate`）の `callbacks` パラメータに渡します。（詳細については、[独自のコールバックの作成](../..guide/keras/custom_callback.ipynb)ガイドを参照してください）。\n",
        "\n",
        "以下の例では、さまざまな指標をログに記録するカスタム `tf.keras.callbacks.Callback` を記述します。これは 1 秒あたりのサンプルを測定します。これは、前の `SessionRunHook` のサンプルの指標と同様になるはずです。"
      ]
    },
    {
      "cell_type": "code",
      "execution_count": null,
      "metadata": {
        "id": "UbMPoiB92KRG"
      },
      "outputs": [],
      "source": [
        "class CustomCallback(tf.keras.callbacks.Callback):\n",
        "\n",
        "    def on_train_begin(self, logs = None):\n",
        "      self._step = -1\n",
        "      self._start_time = time.time()\n",
        "      self.log_frequency = 10\n",
        "\n",
        "    def on_train_batch_begin(self, batch, logs = None):\n",
        "      self._step += 1\n",
        "\n",
        "    def on_train_batch_end(self, batch, logs = None):\n",
        "      if self._step % self.log_frequency == 0:\n",
        "        current_time = time.time()\n",
        "        duration = current_time - self._start_time\n",
        "        self._start_time = current_time\n",
        "        examples_per_sec = self.log_frequency / duration\n",
        "        print('Time:', datetime.now(), ', Step #:', self._step,\n",
        "              ', Examples per second:', examples_per_sec)\n",
        "\n",
        "callback = CustomCallback()\n",
        "\n",
        "dataset = tf.data.Dataset.from_tensor_slices(\n",
        "    (features, labels)).batch(1).repeat(100)\n",
        "\n",
        "model = tf.keras.models.Sequential([tf.keras.layers.Dense(1)])\n",
        "optimizer = tf.keras.optimizers.Adagrad(learning_rate=0.05)\n",
        "\n",
        "model.compile(optimizer, \"mse\")\n",
        "\n",
        "# Begin training.\n",
        "result = model.fit(dataset, callbacks=[callback], verbose = 0)\n",
        "# Provide the results of training metrics.\n",
        "result.history"
      ]
    },
    {
      "cell_type": "markdown",
      "metadata": {
        "id": "EFqFi21Ftskq"
      },
      "source": [
        "## 次のステップ\n",
        "\n",
        "コールバックの詳細については、次を参照してください。\n",
        "\n",
        "- API ドキュメント: `tf.keras.callbacks.Callback`\n",
        "- ガイド: [コールバックを記述する](../..guide/keras/custom_callback.ipynb/)\n",
        "- ガイド: [組み込みメソッドを使用したトレーニングと評価](https://www.tensorflow.org/guide/keras/train_and_evaluate)（*コールバックの使用*セクション）\n",
        "\n",
        "次の移行関連のリソースも参照してください。\n",
        "\n",
        "- [早期停止移行ガイド](early_stopping.ipynb): `tf.keras.callbacks.EarlyStopping` は組み込みの早期停止コールバックです\n",
        "- [TensorBoard 移行ガイド](tensorboard.ipynb): TensorBoard により、指標の追跡と表示が可能になります\n",
        "- [LoggingTensorHook と StopAtStepHook から Keras コールバックへの移行ガイド](logging_stop_hook.ipynb)"
      ]
    }
  ],
  "metadata": {
    "colab": {
      "collapsed_sections": [],
      "name": "sessionrunhook_callback.ipynb",
      "toc_visible": true
    },
    "kernelspec": {
      "display_name": "Python 3",
      "name": "python3"
    }
  },
  "nbformat": 4,
  "nbformat_minor": 0
}
