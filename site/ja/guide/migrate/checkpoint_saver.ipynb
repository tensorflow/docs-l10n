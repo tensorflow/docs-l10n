{
  "cells": [
    {
      "cell_type": "markdown",
      "metadata": {
        "id": "wJcYs_ERTnnI"
      },
      "source": [
        "##### Copyright 2021 The TensorFlow Authors."
      ]
    },
    {
      "cell_type": "code",
      "execution_count": null,
      "metadata": {
        "cellView": "form",
        "id": "HMUDt0CiUJk9"
      },
      "outputs": [],
      "source": [
        "#@title Licensed under the Apache License, Version 2.0 (the \"License\");\n",
        "# you may not use this file except in compliance with the License.\n",
        "# You may obtain a copy of the License at\n",
        "#\n",
        "# https://www.apache.org/licenses/LICENSE-2.0\n",
        "#\n",
        "# Unless required by applicable law or agreed to in writing, software\n",
        "# distributed under the License is distributed on an \"AS IS\" BASIS,\n",
        "# WITHOUT WARRANTIES OR CONDITIONS OF ANY KIND, either express or implied.\n",
        "# See the License for the specific language governing permissions and\n",
        "# limitations under the License."
      ]
    },
    {
      "cell_type": "markdown",
      "metadata": {
        "id": "77z2OchJTk0l"
      },
      "source": [
        "# チェックポイント保存の移行\n",
        "\n",
        "<table class=\"tfo-notebook-buttons\" align=\"left\">\n",
        "  <td>     <a target=\"_blank\" href=\"https://www.tensorflow.org/guide/migrate/checkpoint_saver\">     <img src=\"https://www.tensorflow.org/images/tf_logo_32px.png\">     TensorFlow.org で表示</a>\n",
        "</td>\n",
        "  <td>     <a target=\"_blank\" href=\"https://colab.research.google.com/github/tensorflow/docs-l10n/blob/master/site/ja/guide/migrate/checkpoint_saver.ipynb\">     <img src=\"https://www.tensorflow.org/images/colab_logo_32px.png\">     Google Colab で実行</a>\n",
        "</td>\n",
        "  <td><a target=\"_blank\" href=\"https://github.com/tensorflow/docs-l10n/blob/master/site/ja/guide/migrate/checkpoint_saver.ipynb\"><img src=\"https://www.tensorflow.org/images/GitHub-Mark-32px.png\"> GitHub でソースを表示</a></td>\n",
        "  <td><a href=\"https://storage.googleapis.com/tensorflow_docs/docs-l10n/site/ja/guide/migrate/checkpoint_saver.ipynb\"><img src=\"https://www.tensorflow.org/images/download_logo_32px.png\">ノートブックをダウンロード</a></td>\n",
        "</table>\n"
      ]
    },
    {
      "cell_type": "markdown",
      "metadata": {
        "id": "hIo_p2FWFIRx"
      },
      "source": [
        "継続的に「最適な」モデルまたはモデルの重み/パラメータを保存することにより、トレーニングの進行状況を追跡したり、保存されたさまざまな状態から保存されたモデルを読み込んだりできます。\n",
        "\n",
        "TensorFlow 1 で `tf.estimator.Estimator` API を使用してトレーニング/検証中にチェックポイントの保存を構成するには、`tf.estimator.RunConfig` でスケジュールを指定するか、`tf.estimator.CheckpointSaverHook` を使用します。このガイドでは、このワークフローから TensorFlow 2 Keras API に移行する方法を実演します。\n",
        "\n",
        "TensorFlow 2 では、さまざまな方法で `tf.keras.callbacks.ModelCheckpoint` を構成できます。\n",
        "\n",
        "- `save_best_only=True` パラメータを使用して監視された指標に従って、「最適な」バージョンを保存します。ここで、`monitor` は、たとえば `'loss'` 、`'val_loss'`、`'accuracy'`、または 'val_accuracy'` などになります。\n",
        "- `save_freq` 引数を使用して特定の頻度で継続的に保存します。\n",
        "- `save_weights_only` を `True` に設定して、モデル全体ではなく重み/パラメータのみを保存します。\n",
        "\n",
        "詳細については、`tf.keras.callbacks.ModelCheckpoint` API ドキュメントと、[モデルの保存と読み込み](../../tutorials/keras/save_and_load.ipynb)チュートリアルの*トレーニング中にチェックポイントを保存する*セクションを参照してください。チェックポイント形式の詳細については、[Keras モデルの保存と読み込み](https://www.tensorflow.org/guide/keras/save_and_serialize)ガイドの *TF チェックポイント形式*セクションを参照してください。さらに、フォールトトレランスを追加するには、`tf.keras.callbacks.BackupAndRestore` または `tf.train.Checkpoint` を手動チェックポイントに使用できます。詳細は、[フォールトトレランス移行ガイド](fault_tolerance.ipynb)を参照してください。\n",
        "\n",
        "Keras [コールバック](https://www.tensorflow.org/guide/keras/custom_callback)は、組み込みの Keras `Model.fit`/`Model.evaluate`/`Model.predict` API のトレーニング/評価/予測時のさまざまな時点で呼び出されるオブジェクトです。詳細は、ガイドの最後の *次のステップ*セクションを参照してください。"
      ]
    },
    {
      "cell_type": "markdown",
      "metadata": {
        "id": "f55c103999de"
      },
      "source": [
        "## セットアップ\n",
        "\n",
        "まず、インポートし、デモ用の単純なデータセットから始めます。"
      ]
    },
    {
      "cell_type": "code",
      "execution_count": null,
      "metadata": {
        "id": "X74yjOb-e18w"
      },
      "outputs": [],
      "source": [
        "import tensorflow.compat.v1 as tf1\n",
        "import tensorflow as tf\n",
        "import numpy as np\n",
        "import tempfile"
      ]
    },
    {
      "cell_type": "code",
      "execution_count": null,
      "metadata": {
        "id": "2r8r4d8FfMny"
      },
      "outputs": [],
      "source": [
        "mnist = tf.keras.datasets.mnist\n",
        "\n",
        "(x_train, y_train),(x_test, y_test) = mnist.load_data()\n",
        "x_train, x_test = x_train / 255.0, x_test / 255.0"
      ]
    },
    {
      "cell_type": "markdown",
      "metadata": {
        "id": "wrqBkG4RFLP_"
      },
      "source": [
        "## TensorFlow 1: tf.estimator API でチェックポイントを保存する\n",
        "\n",
        "次の TensorFlow 1 の例は、`tf.estimator.RunConfig` を構成し、`tf.estimator.Estimator` API を使用してトレーニング/評価中にすべてのステップでチェックポイントを保存する方法を示しています。"
      ]
    },
    {
      "cell_type": "code",
      "execution_count": null,
      "metadata": {
        "id": "upA8nuf3FEq5"
      },
      "outputs": [],
      "source": [
        "feature_columns = [tf1.feature_column.numeric_column(\"x\", shape=[28, 28])]\n",
        "\n",
        "config = tf1.estimator.RunConfig(save_summary_steps=1,\n",
        "                                 save_checkpoints_steps=1)\n",
        "\n",
        "path = tempfile.mkdtemp()\n",
        "\n",
        "classifier = tf1.estimator.DNNClassifier(\n",
        "    feature_columns=feature_columns,\n",
        "    hidden_units=[256, 32],\n",
        "    optimizer=tf1.train.AdamOptimizer(0.001),\n",
        "    n_classes=10,\n",
        "    dropout=0.2,\n",
        "    model_dir=path,\n",
        "    config = config\n",
        ")\n",
        "\n",
        "train_input_fn = tf1.estimator.inputs.numpy_input_fn(\n",
        "    x={\"x\": x_train},\n",
        "    y=y_train.astype(np.int32),\n",
        "    num_epochs=10,\n",
        "    batch_size=50,\n",
        "    shuffle=True,\n",
        ")\n",
        "\n",
        "test_input_fn = tf1.estimator.inputs.numpy_input_fn(\n",
        "    x={\"x\": x_test},\n",
        "    y=y_test.astype(np.int32),\n",
        "    num_epochs=10,\n",
        "    shuffle=False\n",
        ")\n",
        "\n",
        "train_spec = tf1.estimator.TrainSpec(input_fn=train_input_fn, max_steps=10)\n",
        "eval_spec = tf1.estimator.EvalSpec(input_fn=test_input_fn,\n",
        "                                   steps=10,\n",
        "                                   throttle_secs=0)\n",
        "\n",
        "tf1.estimator.train_and_evaluate(estimator=classifier,\n",
        "                                train_spec=train_spec,\n",
        "                                eval_spec=eval_spec)"
      ]
    },
    {
      "cell_type": "code",
      "execution_count": null,
      "metadata": {
        "id": "3u96G4MtRVqU"
      },
      "outputs": [],
      "source": [
        "%ls {classifier.model_dir}"
      ]
    },
    {
      "cell_type": "markdown",
      "metadata": {
        "id": "QvE_uxDJFUX-"
      },
      "source": [
        "## TensorFlow 2: Model.fit の Keras コールバックでチェックポイントを保存する\n",
        "\n",
        "TensorFlow 2 では、組み込みの Keras `Model.fit`（または `Model.evaluate`）をトレーニング/評価に使用する場合、`tf.keras. callbacks.ModelCheckpoint` を作成し、それを `Model.fit`（または `Model.evaluate`）の `callbacks` パラメータに渡します。（詳細については、API ドキュメントと、[組み込みメソッドを使用したトレーニングと評価](https://www.tensorflow.org/guide/keras/train_and_evaluate)ガイドの*コールバックの使用*セクションを参照してください。）\n",
        "\n",
        "以下の例では、`tf.keras.callbacks.ModelCheckpoint` コールバックを使用して、チェックポイントを一時ディレクトリに保存します。"
      ]
    },
    {
      "cell_type": "code",
      "execution_count": null,
      "metadata": {
        "id": "9FLBhT2BFX2H"
      },
      "outputs": [],
      "source": [
        "def create_model():\n",
        "  return tf.keras.models.Sequential([\n",
        "    tf.keras.layers.Flatten(input_shape=(28, 28)),\n",
        "    tf.keras.layers.Dense(512, activation='relu'),\n",
        "    tf.keras.layers.Dropout(0.2),\n",
        "    tf.keras.layers.Dense(10, activation='softmax')\n",
        "  ])\n",
        "\n",
        "model = create_model()\n",
        "model.compile(optimizer='adam',\n",
        "              loss='sparse_categorical_crossentropy',\n",
        "              metrics=['accuracy'],\n",
        "              steps_per_execution=10)\n",
        "\n",
        "log_dir = tempfile.mkdtemp()\n",
        "\n",
        "model_checkpoint_callback = tf.keras.callbacks.ModelCheckpoint(\n",
        "    filepath=log_dir)\n",
        "\n",
        "model.fit(x=x_train,\n",
        "          y=y_train,\n",
        "          epochs=10,\n",
        "          validation_data=(x_test, y_test),\n",
        "          callbacks=[model_checkpoint_callback])"
      ]
    },
    {
      "cell_type": "code",
      "execution_count": null,
      "metadata": {
        "id": "SROSmhyyLBA-"
      },
      "outputs": [],
      "source": [
        "%ls {model_checkpoint_callback.filepath}"
      ]
    },
    {
      "cell_type": "markdown",
      "metadata": {
        "id": "rQUS8nO9FZlH"
      },
      "source": [
        "## 次のステップ\n",
        "\n",
        "チェックポイントの詳細については、次を参照してください。\n",
        "\n",
        "- API ドキュメント: `tf.keras.callbacks.ModelCheckpoint`\n",
        "- チュートリアル: [モデルの保存と読み込み](../../tutorials/keras/save_and_load.ipynb)（*トレーニング中にチェックポイントを保存する*セクション）\n",
        "- ガイド: [Keras モデルの保存と読み込み](https://www.tensorflow.org/guide/keras/save_and_serialize)（*TF チェックポイント形式* セクション）\n",
        "\n",
        "コールバックの詳細については、次を参照してください。\n",
        "\n",
        "- API ドキュメント: `tf.keras.callbacks.Callback`\n",
        "- ガイド: [コールバックを記述する](https://www.tensorflow.org/guide/keras/guide/keras/custom_callback)\n",
        "- ガイド: [組み込みメソッドを使用したトレーニングと評価](https://www.tensorflow.org/guide/keras/train_and_evaluate)（*コールバックの使用*セクション）\n",
        "\n",
        "次の移行関連のリソースも参照してください。\n",
        "\n",
        "- [フォールトトレランス移行ガイド](fault_tolerance.ipynb): `Model.fit` 用の `tf.keras.callbacks.BackupAndRestore`、または、カスタムトレーニングループ用の `tf.train.Checkpoint` および `tf.train.CheckpointManager` API\n",
        "- [早期停止移行ガイド](early_stopping.ipynb): `tf.keras.callbacks.EarlyStopping` は組み込みの早期停止コールバックです\n",
        "- [TensorBoard 移行ガイド](tensorboard.ipynb): TensorBoard により、指標の追跡と表示が可能になります\n",
        "- [LoggingTensorHook と StopAtStepHook から Keras コールバックへの移行ガイド](logging_stop_hook.ipynb)\n",
        "- [SessionRunHook から Keras コールバックへのガイド](sessionrunhook_callback.ipynb)"
      ]
    }
  ],
  "metadata": {
    "colab": {
      "collapsed_sections": [],
      "name": "checkpoint_saver.ipynb",
      "toc_visible": true
    },
    "kernelspec": {
      "display_name": "Python 3",
      "name": "python3"
    }
  },
  "nbformat": 4,
  "nbformat_minor": 0
}
