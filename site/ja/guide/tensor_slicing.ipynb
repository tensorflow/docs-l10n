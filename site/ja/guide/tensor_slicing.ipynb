{
  "cells": [
    {
      "cell_type": "markdown",
      "metadata": {
        "id": "Tce3stUlHN0L"
      },
      "source": [
        "##### Copyright 2020 The TensorFlow Authors."
      ]
    },
    {
      "cell_type": "code",
      "execution_count": null,
      "metadata": {
        "cellView": "form",
        "id": "tuOe1ymfHZPu"
      },
      "outputs": [],
      "source": [
        "#@title Licensed under the Apache License, Version 2.0 (the \"License\");\n",
        "# you may not use this file except in compliance with the License.\n",
        "# You may obtain a copy of the License at\n",
        "#\n",
        "# https://www.apache.org/licenses/LICENSE-2.0\n",
        "#\n",
        "# Unless required by applicable law or agreed to in writing, software\n",
        "# distributed under the License is distributed on an \"AS IS\" BASIS,\n",
        "# WITHOUT WARRANTIES OR CONDITIONS OF ANY KIND, either express or implied.\n",
        "# See the License for the specific language governing permissions and\n",
        "# limitations under the License."
      ]
    },
    {
      "cell_type": "markdown",
      "metadata": {
        "id": "VZ-KA8k5kybx"
      },
      "source": [
        "# テンソルスライスの基礎"
      ]
    },
    {
      "cell_type": "markdown",
      "metadata": {
        "id": "MfBg1C5NB3X0"
      },
      "source": [
        "<table class=\"tfo-notebook-buttons\" align=\"left\">\n",
        "  <td><a target=\"_blank\" href=\"https://www.tensorflow.org/guide/tensor_slicing\"><img src=\"https://www.tensorflow.org/images/tf_logo_32px.png\">TensorFlow.org で表示</a></td>\n",
        "  <td>     <a target=\"_blank\" href=\"https://colab.research.google.com/github/tensorflow/docs-l10n/blob/master/site/ja/guide/tensor_slicing.ipynb\"><img src=\"https://www.tensorflow.org/images/colab_logo_32px.png\">Google Colab で実行</a>   </td>\n",
        "  <td>     <a target=\"_blank\" href=\"https://github.com/tensorflow/docs-l10n/blob/master/site/ja/guide/tensor_slicing.ipynb\"><img src=\"https://www.tensorflow.org/images/GitHub-Mark-32px.png\">GitHub でソースを表示</a>   </td>\n",
        "  <td>     <a href=\"https://storage.googleapis.com/tensorflow_docs/docs-l10n/site/ja/guide/tensor_slicing.ipynb\"><img src=\"https://www.tensorflow.org/images/download_logo_32px.png\">ノートブックをダウンロード</a>   </td>\n",
        "</table>"
      ]
    },
    {
      "cell_type": "markdown",
      "metadata": {
        "id": "AixIdVeRk3CO"
      },
      "source": [
        "オブジェクト検出や NLP などの機械学習アプリケーションでは、テンソルのサブセクション（スライス）を使用する必要がある場合があります。たとえば、モデルアーキテクチャにルーティングが含まれている場合、1 つのレイヤーが次のレイヤーにルーティングされるトレーニングサンプルを制御することがあります。この場合、テンソルスライス演算を使用して、テンソルを分割し、正しい順序に戻すことができます。\n",
        "\n",
        "NLP アプリケーションでは、トレーニング時にテンソルスライスを使用してワードマスキングを実行できます。たとえば、各文でマスクする単語インデックスを選択し、その単語をラベルとして取り出し、選択した単語をマスクトークンに置き換えることで、文のリストからトレーニングデータを生成できます。\n",
        "\n",
        "このガイドでは、TensorFlow API を使用して次を実行する方法を学習します。\n",
        "\n",
        "- テンソルからスライスを抽出する\n",
        "- テンソルの特定のインデックスにデータを挿入する\n",
        "\n",
        "このガイドは、テンソルのインデキシングに精通していることを前提としています。このガイドを開始する前に、[テンソル](https://www.tensorflow.org/guide/tensor#indexing)、および [TensorFlow NumPy](https://www.tensorflow.org/guide/tf_numpy#indexing) ガイドのインデキシングセクションをお読みください。"
      ]
    },
    {
      "cell_type": "markdown",
      "metadata": {
        "id": "FcWhWYn7eXkF"
      },
      "source": [
        "## セットアップ\n"
      ]
    },
    {
      "cell_type": "code",
      "execution_count": null,
      "metadata": {
        "id": "m6uvewqi0jso"
      },
      "outputs": [],
      "source": [
        "import tensorflow as tf\n",
        "import numpy as np"
      ]
    },
    {
      "cell_type": "markdown",
      "metadata": {
        "id": "K-muS4ej5zoN"
      },
      "source": [
        "## テンソルスライスを抽出する\n",
        "\n",
        "`tf.slice` を使用して、NumPy のようなテンソルスライスを実行します。\n"
      ]
    },
    {
      "cell_type": "code",
      "execution_count": null,
      "metadata": {
        "id": "wZep0cjs0Oai"
      },
      "outputs": [],
      "source": [
        "t1 = tf.constant([0, 1, 2, 3, 4, 5, 6, 7])\n",
        "\n",
        "print(tf.slice(t1,\n",
        "               begin=[1],\n",
        "               size=[3]))"
      ]
    },
    {
      "cell_type": "markdown",
      "metadata": {
        "id": "Vh3xI3j0DRJ2"
      },
      "source": [
        "または、Python 構文を使用することもできます。テンソルスライスは、開始から終了までの範囲で等間隔に配置されていることに注意してください。"
      ]
    },
    {
      "cell_type": "code",
      "execution_count": null,
      "metadata": {
        "id": "P1MtEyKuWuDD"
      },
      "outputs": [],
      "source": [
        "print(t1[1:4])"
      ]
    },
    {
      "cell_type": "markdown",
      "metadata": {
        "id": "cjq1o8D2wKKs"
      },
      "source": [
        "<img src=\"images/tf_slicing/slice_1d_1.png\">"
      ]
    },
    {
      "cell_type": "code",
      "execution_count": null,
      "metadata": {
        "id": "UunuLTIuwDA-"
      },
      "outputs": [],
      "source": [
        "print(t1[-3:])"
      ]
    },
    {
      "cell_type": "markdown",
      "metadata": {
        "id": "EHvRB-XTwRTd"
      },
      "source": [
        "<img src=\"images/tf_slicing/slice_1d_2.png\">"
      ]
    },
    {
      "cell_type": "markdown",
      "metadata": {
        "id": "SW1zFFTnUpCQ"
      },
      "source": [
        "2 次元テンソルの場合、次を使用できます。"
      ]
    },
    {
      "cell_type": "code",
      "execution_count": null,
      "metadata": {
        "id": "kThZhmpAVAQw"
      },
      "outputs": [],
      "source": [
        "t2 = tf.constant([[0, 1, 2, 3, 4],\n",
        "                  [5, 6, 7, 8, 9],\n",
        "                  [10, 11, 12, 13, 14],\n",
        "                  [15, 16, 17, 18, 19]])\n",
        "\n",
        "print(t2[:-1, 1:3])"
      ]
    },
    {
      "cell_type": "markdown",
      "metadata": {
        "id": "xA5Xt4OdVUui"
      },
      "source": [
        "<img src=\"images/tf_slicing/slice_2d_1.png\">"
      ]
    },
    {
      "cell_type": "markdown",
      "metadata": {
        "id": "iJPggqsH15fI"
      },
      "source": [
        "高次元テンソルでも `tf.slice` を使用できます。"
      ]
    },
    {
      "cell_type": "code",
      "execution_count": null,
      "metadata": {
        "id": "Re5eX1OXnKOZ"
      },
      "outputs": [],
      "source": [
        "t3 = tf.constant([[[1, 3, 5, 7],\n",
        "                   [9, 11, 13, 15]],\n",
        "                  [[17, 19, 21, 23],\n",
        "                   [25, 27, 29, 31]]\n",
        "                  ])\n",
        "\n",
        "print(tf.slice(t3,\n",
        "               begin=[1, 1, 0],\n",
        "               size=[1, 1, 2]))"
      ]
    },
    {
      "cell_type": "markdown",
      "metadata": {
        "id": "x-O5FNV9qOJK"
      },
      "source": [
        "また、`tf.strided_slice` を使用して、テンソルの次元をストライドすることでテンソルのスライスを抽出することもできます。"
      ]
    },
    {
      "cell_type": "markdown",
      "metadata": {
        "id": "b9FhvrOnJsJb"
      },
      "source": [
        "`tf.gather` を使用して、テンソルの 1 つの軸から特定のインデックスを抽出します。"
      ]
    },
    {
      "cell_type": "code",
      "execution_count": null,
      "metadata": {
        "id": "TwviZrrIj2h7"
      },
      "outputs": [],
      "source": [
        "print(tf.gather(t1,\n",
        "                indices=[0, 3, 6]))\n",
        "\n",
        "# This is similar to doing\n",
        "\n",
        "t1[::3]"
      ]
    },
    {
      "cell_type": "markdown",
      "metadata": {
        "id": "oKyjGi2zyzEC"
      },
      "source": [
        "<img src=\"images/tf_slicing/slice_1d_3.png\">"
      ]
    },
    {
      "cell_type": "markdown",
      "metadata": {
        "id": "obrjeKy1WfTN"
      },
      "source": [
        "`tf.gather` では、インデックスが等間隔である必要はありません。"
      ]
    },
    {
      "cell_type": "code",
      "execution_count": null,
      "metadata": {
        "id": "LjJcwcZ0druw"
      },
      "outputs": [],
      "source": [
        "alphabet = tf.constant(list('abcdefghijklmnopqrstuvwxyz'))\n",
        "\n",
        "print(tf.gather(alphabet,\n",
        "                indices=[2, 0, 19, 18]))"
      ]
    },
    {
      "cell_type": "markdown",
      "metadata": {
        "id": "mSHmUXIyeaJG"
      },
      "source": [
        "<img src=\"images/tf_slicing/gather_1.png\">"
      ]
    },
    {
      "cell_type": "markdown",
      "metadata": {
        "id": "XsxMx49SOaVu"
      },
      "source": [
        "テンソルの複数の軸からスライスを抽出するには、`tf.gather_nd` を使用します。これは、行または列だけではなく、行列の要素を収集する場合に役立ちます。"
      ]
    },
    {
      "cell_type": "code",
      "execution_count": null,
      "metadata": {
        "id": "mT52NFWVdiTe"
      },
      "outputs": [],
      "source": [
        "t4 = tf.constant([[0, 5],\n",
        "                  [1, 6],\n",
        "                  [2, 7],\n",
        "                  [3, 8],\n",
        "                  [4, 9]])\n",
        "\n",
        "print(tf.gather_nd(t4,\n",
        "                   indices=[[2], [3], [0]]))"
      ]
    },
    {
      "cell_type": "markdown",
      "metadata": {
        "id": "87NN7YQhh2-a"
      },
      "source": [
        "<img src=\"images/tf_slicing/gather_2.png\">"
      ]
    },
    {
      "cell_type": "code",
      "execution_count": null,
      "metadata": {
        "id": "_z6F2WcPJ9Rh"
      },
      "outputs": [],
      "source": [
        "t5 = np.reshape(np.arange(18), [2, 3, 3])\n",
        "\n",
        "print(tf.gather_nd(t5,\n",
        "                   indices=[[0, 0, 0], [1, 2, 1]]))"
      ]
    },
    {
      "cell_type": "code",
      "execution_count": null,
      "metadata": {
        "id": "gyIjhm7cV2N0"
      },
      "outputs": [],
      "source": [
        "# Return a list of two matrices\n",
        "\n",
        "print(tf.gather_nd(t5,\n",
        "                   indices=[[[0, 0], [0, 2]], [[1, 0], [1, 2]]]))"
      ]
    },
    {
      "cell_type": "code",
      "execution_count": null,
      "metadata": {
        "id": "368D4ciDWB3r"
      },
      "outputs": [],
      "source": [
        "# Return one matrix\n",
        "\n",
        "print(tf.gather_nd(t5,\n",
        "                   indices=[[0, 0], [0, 2], [1, 0], [1, 2]]))"
      ]
    },
    {
      "cell_type": "markdown",
      "metadata": {
        "id": "od51VzS2SSPS"
      },
      "source": [
        "## データをテンソルに挿入する\n",
        "\n",
        "`tf.scatter_nd` を使用して、テンソルの特定のスライス/インデックスにデータを挿入します。値を挿入するテンソルはゼロで初期化されることに注意してください。"
      ]
    },
    {
      "cell_type": "code",
      "execution_count": null,
      "metadata": {
        "id": "jlALYLWm1KhN"
      },
      "outputs": [],
      "source": [
        "t6 = tf.constant([10])\n",
        "indices = tf.constant([[1], [3], [5], [7], [9]])\n",
        "data = tf.constant([2, 4, 6, 8, 10])\n",
        "\n",
        "print(tf.scatter_nd(indices=indices,\n",
        "                    updates=data,\n",
        "                    shape=t6))"
      ]
    },
    {
      "cell_type": "markdown",
      "metadata": {
        "id": "CD5vd-kxksW7"
      },
      "source": [
        "ゼロで初期化されたテンソルを必要とする `tf.scatter_nd` のようなメソッドは、スパーステンソルのイニシャライザに似ています。`tf.gather_nd` と `tf.scatter_nd` を使用して、スパーステンソル演算の動作を模倣できます。\n",
        "\n",
        "これら 2 つのメソッドを組み合わせて使用してスパーステンソルを構築する例を考えてみましょう。"
      ]
    },
    {
      "cell_type": "code",
      "execution_count": null,
      "metadata": {
        "id": "xyK69QgRmrlW"
      },
      "outputs": [],
      "source": [
        "# Gather values from one tensor by specifying indices\n",
        "\n",
        "new_indices = tf.constant([[0, 2], [2, 1], [3, 3]])\n",
        "t7 = tf.gather_nd(t2, indices=new_indices)"
      ]
    },
    {
      "cell_type": "markdown",
      "metadata": {
        "id": "_7V_Qfa4qkdn"
      },
      "source": [
        "<img src=\"images/tf_slicing/gather_nd_sparse.png\">"
      ]
    },
    {
      "cell_type": "code",
      "execution_count": null,
      "metadata": {
        "id": "QWT1E1Weqjx2"
      },
      "outputs": [],
      "source": [
        "# Add these values into a new tensor\n",
        "\n",
        "t8 = tf.scatter_nd(indices=new_indices, updates=t7, shape=tf.constant([4, 5]))\n",
        "\n",
        "print(t8)"
      ]
    },
    {
      "cell_type": "markdown",
      "metadata": {
        "id": "NUyYjnvCn_vu"
      },
      "source": [
        "これは次と同様です。"
      ]
    },
    {
      "cell_type": "code",
      "execution_count": null,
      "metadata": {
        "id": "LeqFwUgroE4j"
      },
      "outputs": [],
      "source": [
        "t9 = tf.SparseTensor(indices=[[0, 2], [2, 1], [3, 3]],\n",
        "                     values=[2, 11, 18],\n",
        "                     dense_shape=[4, 5])\n",
        "\n",
        "print(t9)"
      ]
    },
    {
      "cell_type": "code",
      "execution_count": null,
      "metadata": {
        "id": "5MaF6RlJot33"
      },
      "outputs": [],
      "source": [
        "# Convert the sparse tensor into a dense tensor\n",
        "\n",
        "t10 = tf.sparse.to_dense(t9)\n",
        "\n",
        "print(t10)"
      ]
    },
    {
      "cell_type": "markdown",
      "metadata": {
        "id": "4sf3F3Xk56Bt"
      },
      "source": [
        "既存の値を持つテンソルにデータを挿入するには、`tf.tensor_scatter_nd_add` を使用します。"
      ]
    },
    {
      "cell_type": "code",
      "execution_count": null,
      "metadata": {
        "id": "mte2ifOb6sQO"
      },
      "outputs": [],
      "source": [
        "t11 = tf.constant([[2, 7, 0],\n",
        "                   [9, 0, 1],\n",
        "                   [0, 3, 8]])\n",
        "\n",
        "# Convert the tensor into a magic square by inserting numbers at appropriate indices\n",
        "\n",
        "t12 = tf.tensor_scatter_nd_add(t11,\n",
        "                               indices=[[0, 2], [1, 1], [2, 0]],\n",
        "                               updates=[6, 5, 4])\n",
        "\n",
        "print(t12)"
      ]
    },
    {
      "cell_type": "markdown",
      "metadata": {
        "id": "2dQYyROU09G6"
      },
      "source": [
        "同様に、`tf.tensor_scatter_nd_sub` を使用して、既存の値を持つテンソルから値を減算します。"
      ]
    },
    {
      "cell_type": "code",
      "execution_count": null,
      "metadata": {
        "id": "ac6_i6uK1EI6"
      },
      "outputs": [],
      "source": [
        "# Convert the tensor into an identity matrix\n",
        "\n",
        "t13 = tf.tensor_scatter_nd_sub(t11,\n",
        "                               indices=[[0, 0], [0, 1], [1, 0], [1, 1], [1, 2], [2, 1], [2, 2]],\n",
        "                               updates=[1, 7, 9, -1, 1, 3, 7])\n",
        "\n",
        "print(t13)"
      ]
    },
    {
      "cell_type": "markdown",
      "metadata": {
        "id": "B_2DuzRRwVc8"
      },
      "source": [
        "`tf.tensor_scatter_nd_min` を使用して、要素ごとの最小値をあるテンソルから別のテンソルにコピーします。"
      ]
    },
    {
      "cell_type": "code",
      "execution_count": null,
      "metadata": {
        "id": "T_4FrHrHlkHK"
      },
      "outputs": [],
      "source": [
        "t14 = tf.constant([[-2, -7, 0],\n",
        "                   [-9, 0, 1],\n",
        "                   [0, -3, -8]])\n",
        "\n",
        "t15 = tf.tensor_scatter_nd_min(t14,\n",
        "                               indices=[[0, 2], [1, 1], [2, 0]],\n",
        "                               updates=[-6, -5, -4])\n",
        "\n",
        "print(t15)"
      ]
    },
    {
      "cell_type": "markdown",
      "metadata": {
        "id": "PkaiKyrF0WtX"
      },
      "source": [
        "同様に、`tf.tensor_scatter_nd_max` を使用して、要素ごとの最大値をあるテンソルから別のテンソルにコピーします。"
      ]
    },
    {
      "cell_type": "code",
      "execution_count": null,
      "metadata": {
        "id": "izJu0nXi0GDq"
      },
      "outputs": [],
      "source": [
        "t16 = tf.tensor_scatter_nd_max(t14,\n",
        "                               indices=[[0, 2], [1, 1], [2, 0]],\n",
        "                               updates=[6, 5, 4])\n",
        "\n",
        "print(t16)"
      ]
    },
    {
      "cell_type": "markdown",
      "metadata": {
        "id": "QAffUOa-85lF"
      },
      "source": [
        "## その他の資料とリソース\n",
        "\n",
        "このガイドでは、TensorFlow で利用可能なテンソルスライス演算を使用して、テンソル内の要素をより詳細に制御する方法を学びました。\n",
        "\n",
        "- `tf.experimental.numpy.take_along_axis` や `tf.experimental.numpy.take` など、TensorFlow NumPy で利用可能なスライス演算を確認してください。\n",
        "\n",
        "- また、[テンソルガイド](https://www.tensorflow.org/guide/tensor)と[変数ガイド](https://www.tensorflow.org/guide/variable)も参照してください。"
      ]
    }
  ],
  "metadata": {
    "colab": {
      "collapsed_sections": [],
      "name": "tensor_slicing.ipynb",
      "toc_visible": true
    },
    "kernelspec": {
      "display_name": "Python 3",
      "name": "python3"
    }
  },
  "nbformat": 4,
  "nbformat_minor": 0
}
