{
  "cells": [
    {
      "cell_type": "markdown",
      "metadata": {
        "id": "FhGuhbZ6M5tl"
      },
      "source": [
        "##### Copyright 2022 The TensorFlow Authors."
      ]
    },
    {
      "cell_type": "code",
      "execution_count": null,
      "metadata": {
        "cellView": "form",
        "id": "AwOEIRJC6Une"
      },
      "outputs": [],
      "source": [
        "#@title Licensed under the Apache License, Version 2.0 (the \"License\");\n",
        "# you may not use this file except in compliance with the License.\n",
        "# You may obtain a copy of the License at\n",
        "#\n",
        "# https://www.apache.org/licenses/LICENSE-2.0\n",
        "#\n",
        "# Unless required by applicable law or agreed to in writing, software\n",
        "# distributed under the License is distributed on an \"AS IS\" BASIS,\n",
        "# WITHOUT WARRANTIES OR CONDITIONS OF ANY KIND, either express or implied.\n",
        "# See the License for the specific language governing permissions and\n",
        "# limitations under the License."
      ]
    },
    {
      "cell_type": "markdown",
      "metadata": {
        "id": "EIdT9iu_Z4Rb"
      },
      "source": [
        "# Core API を使用したオプティマイザ"
      ]
    },
    {
      "cell_type": "markdown",
      "metadata": {
        "id": "bBIlTPscrIT9"
      },
      "source": [
        "<table class=\"tfo-notebook-buttons\" align=\"left\">\n",
        "  <td>     <a target=\"_blank\" href=\"https://www.tensorflow.org/guide/core/optimizers_core\">     <img src=\"https://www.tensorflow.org/images/tf_logo_32px.png\">     TensorFlow.org で表示</a>\n",
        "</td>\n",
        "  <td>     <a target=\"_blank\" href=\"https://colab.research.google.com/github/tensorflow/docs-l10n/blob/master/site/ja/guide/core/optimizers_core.ipynb\">     <img src=\"https://www.tensorflow.org/images/colab_logo_32px.png\">     Google Colab で実行</a>\n",
        "</td>\n",
        "  <td><a target=\"_blank\" href=\"https://github.com/tensorflow/docs-l10n/blob/master/site/ja/guide/core/optimizers_core.ipynb\">     <img src=\"https://www.tensorflow.org/images/GitHub-Mark-32px.png\">     GitHubでソースを表示</a></td>\n",
        "  <td><a href=\"https://storage.googleapis.com/tensorflow_docs/docs-l10n/site/ja/guide/core/optimizers_core.ipynb\"><img src=\"https://www.tensorflow.org/images/download_logo_32px.png\">ノートブックをダウンロード</a></td>\n",
        "</table>"
      ]
    },
    {
      "cell_type": "markdown",
      "metadata": {
        "id": "SjAxxRpBzVYg"
      },
      "source": [
        "## はじめに\n",
        "\n",
        "このノートブックでは、[TensorFlow Core 低レベル API](https://www.tensorflow.org/guide/core) を使用してカスタムオプティマイザを作成する手順を紹介します。TensorFlow Core と意図するユースケースの詳細については、[Core API の概要](https://www.tensorflow.org/guide/core)を参照してください。\n",
        "\n",
        "[Keras オプティマイザ](https://www.tensorflow.org/api_docs/python/tf/keras/optimizers)モジュールは、多くの一般的なトレーニングに推奨される最適化ツールキットです。これには、さまざまな事前構築済みオプティマイザと、カスタマイズ用のサブクラス化機能が含まれています。Keras オプティマイザは、Core API で構築されたカスタムレイヤー、モデル、およびトレーニングループとも互換性があります。これらの事前構築済みのカスタマイズ可能なオプティマイザは、ほとんどの場合に適していますが、Core API を使用すると、最適化プロセスを完全に制御できます。たとえば、Sharpness-Aware Minimization（SAM）などの手法では、モデルとオプティマイザを結合する必要があり、従来の機械学習オプティマイザの定義には適合しません。このガイドでは、Core API を使用してゼロからカスタムオプティマイザを構築するプロセスについて説明し、オプティマイザの構造、実装、および動作を完全に制御できるようにします。"
      ]
    },
    {
      "cell_type": "markdown",
      "metadata": {
        "id": "nBmqYyodNRd_"
      },
      "source": [
        "## オプティマイザの概要\n",
        "\n",
        "オプティマイザは、モデルのトレーニング可能なパラメータに関する損失関数を最小化するためのアルゴリズムです。最も簡単な最適化手法は勾配降下法です。これは、損失関数の最も降下する方向に進むことで、モデルのパラメータを繰り返し更新します。そのステップサイズは勾配のサイズに正比例するため、勾配が大きすぎたり小さすぎたりすると問題になる可能性があります。Adam、Adagrad、RMSprop など、メモリ効率と収束のスピードアップのために勾配のさまざまな数学的特性を活用する勾配ベースのオプティマイザは他にも多数あります。"
      ]
    },
    {
      "cell_type": "markdown",
      "metadata": {
        "id": "nchsZfwEVtVs"
      },
      "source": [
        "## セットアップ"
      ]
    },
    {
      "cell_type": "code",
      "execution_count": null,
      "metadata": {
        "id": "d9idwpXCltUl"
      },
      "outputs": [],
      "source": [
        "import matplotlib\n",
        "from matplotlib import pyplot as plt\n",
        "# Preset Matplotlib figure sizes.\n",
        "matplotlib.rcParams['figure.figsize'] = [9, 6]"
      ]
    },
    {
      "cell_type": "code",
      "execution_count": null,
      "metadata": {
        "id": "9xQKvCJ85kCQ"
      },
      "outputs": [],
      "source": [
        "import tensorflow as tf\n",
        "print(tf.__version__)\n",
        "# set random seed for reproducible results \n",
        "tf.random.set_seed(22)"
      ]
    },
    {
      "cell_type": "markdown",
      "metadata": {
        "id": "0UmF5aU3MnwX"
      },
      "source": [
        "## 勾配下降法\n",
        "\n",
        "基本的なオプティマイザ クラスには、初期化メソッドと、勾配のリストが与えられた変数のリストを更新する関数が必要です。まず、学習率でスケーリングされた勾配を減算して各変数を更新する基本的な勾配降下オプティマイザを実装します。"
      ]
    },
    {
      "cell_type": "code",
      "execution_count": null,
      "metadata": {
        "id": "MWjmUmeOQFFN"
      },
      "outputs": [],
      "source": [
        "class GradientDescent(tf.Module):\n",
        "\n",
        "  def __init__(self, learning_rate=1e-3):\n",
        "    # Initialize parameters\n",
        "    self.learning_rate = learning_rate\n",
        "    self.title = f\"Gradient descent optimizer: learning rate={self.learning_rate}\"\n",
        "\n",
        "  def apply_gradients(self, grads, vars):\n",
        "    # Update variables\n",
        "    for grad, var in zip(grads, vars):\n",
        "      var.assign_sub(self.learning_rate*grad)"
      ]
    },
    {
      "cell_type": "markdown",
      "metadata": {
        "id": "ZSekgBHDRzmp"
      },
      "source": [
        "このオプティマイザをテストするには、サンプル損失関数を作成して、単一の変数 $x$ に関して最小化します。その勾配関数を計算し、最小化パラメータ値を解きます。\n",
        "\n",
        "$$L = 2x^4 + 3x^3 + 2$$\n",
        "\n",
        "$$\\frac{dL}{dx} = 8x^3 + 9x^2$$\n",
        "\n",
        "$\\frac{dL}{dx}$ は、鞍点である $x = 0$ で 0 です。$x = - \\frac{9}{8}$ は大域的最小値です。したがって、損失関数は $x^\\star = - \\frac{9}{8}$ で最適化されます。"
      ]
    },
    {
      "cell_type": "code",
      "execution_count": null,
      "metadata": {
        "id": "VCtJaUo6Ry8V"
      },
      "outputs": [],
      "source": [
        "x_vals = tf.linspace(-2, 2, 201)\n",
        "x_vals = tf.cast(x_vals, tf.float32)\n",
        "\n",
        "def loss(x):\n",
        "  return 2*(x**4) + 3*(x**3) + 2\n",
        "\n",
        "def grad(f, x):\n",
        "  with tf.GradientTape() as tape:\n",
        "    tape.watch(x)\n",
        "    result = f(x)\n",
        "  return tape.gradient(result, x)\n",
        "\n",
        "plt.plot(x_vals, loss(x_vals), c='k', label = \"Loss function\")\n",
        "plt.plot(x_vals, grad(loss, x_vals), c='tab:blue', label = \"Gradient function\")\n",
        "plt.plot(0, loss(0),  marker=\"o\", c='g', label = \"Inflection point\")\n",
        "plt.plot(-9/8, loss(-9/8),  marker=\"o\", c='r', label = \"Global minimum\")\n",
        "plt.legend()\n",
        "plt.ylim(0,5)\n",
        "plt.xlabel(\"x\")\n",
        "plt.ylabel(\"loss\")\n",
        "plt.title(\"Sample loss function and gradient\");"
      ]
    },
    {
      "cell_type": "markdown",
      "metadata": {
        "id": "fLlIBJ9yuwhE"
      },
      "source": [
        "単一の可変損失関数を使用してオプティマイザの収束をテストする関数を作成します。タイムステップ $t$ での更新されたパラメータの値が、タイムステップ $t-1$ で保持されている値と同じである場合、収束が達成されたと仮定します。設定された回数の反復後にテストを終了し、プロセス中に大きくなりすぎる勾配を追跡します。最適化アルゴリズムに本当に挑戦するには、パラメータの初期化を不十分にします。上記の例では、$x = 2$ が適切な選択です。勾配が急であり、変曲点にもつながるためです。"
      ]
    },
    {
      "cell_type": "code",
      "execution_count": null,
      "metadata": {
        "id": "SLQTc41ouv0F"
      },
      "outputs": [],
      "source": [
        "def convergence_test(optimizer, loss_fn, grad_fn=grad, init_val=2., max_iters=2000):\n",
        "  # Function for optimizer convergence test\n",
        "  print(optimizer.title)\n",
        "  print(\"-------------------------------\")\n",
        "  # Initializing variables and structures\n",
        "  x_star = tf.Variable(init_val)\n",
        "  param_path = []\n",
        "  converged = False\n",
        "\n",
        "  for iter in range(1, max_iters + 1):\n",
        "    x_grad = grad_fn(loss_fn, x_star)\n",
        "\n",
        "    # Case for exploding gradient\n",
        "    if tf.math.is_nan(x_grad):\n",
        "      print(f\"Gradient exploded at iteration {iter}\\n\")\n",
        "      return []\n",
        "\n",
        "    # Updating the variable and storing its old-version\n",
        "    x_old = x_star.numpy()\n",
        "    optimizer.apply_gradients([x_grad], [x_star])\n",
        "    param_path.append(x_star.numpy())\n",
        "\n",
        "    # Checking for convergence\n",
        "    if x_star == x_old:\n",
        "      print(f\"Converged in {iter} iterations\\n\")\n",
        "      converged = True\n",
        "      break\n",
        "      \n",
        "  # Print early termination message\n",
        "  if not converged:\n",
        "    print(f\"Exceeded maximum of {max_iters} iterations. Test terminated.\\n\")\n",
        "  return param_path"
      ]
    },
    {
      "cell_type": "markdown",
      "metadata": {
        "id": "vK-7_TsmyAgI"
      },
      "source": [
        "次の学習率（1e-3、1e-2、1e-1）の勾配降下オプティマイザの収束をテストします。"
      ]
    },
    {
      "cell_type": "code",
      "execution_count": null,
      "metadata": {
        "id": "lWRn8c91mqB0"
      },
      "outputs": [],
      "source": [
        "param_map_gd = {}\n",
        "learning_rates = [1e-3, 1e-2, 1e-1]\n",
        "for learning_rate in learning_rates:\n",
        "  param_map_gd[learning_rate] = (convergence_test(\n",
        "      GradientDescent(learning_rate=learning_rate), loss_fn=loss))"
      ]
    },
    {
      "cell_type": "markdown",
      "metadata": {
        "id": "TydrGHF5y6iI"
      },
      "source": [
        "損失関数の等高線図でパラメータのパスを可視化します。"
      ]
    },
    {
      "cell_type": "code",
      "execution_count": null,
      "metadata": {
        "id": "piffzGHI_u5G"
      },
      "outputs": [],
      "source": [
        "def viz_paths(param_map, x_vals, loss_fn, title, max_iters=2000):\n",
        "  # Creating a controur plot of the loss function\n",
        "  t_vals = tf.range(1., max_iters + 100.)\n",
        "  t_grid, x_grid = tf.meshgrid(t_vals, x_vals)\n",
        "  loss_grid = tf.math.log(loss_fn(x_grid))\n",
        "  plt.pcolormesh(t_vals, x_vals, loss_grid, vmin=0, shading='nearest')\n",
        "  colors = ['r', 'w', 'c']\n",
        "  # Plotting the parameter paths over the contour plot\n",
        "  for i, learning_rate in enumerate(param_map):\n",
        "    param_path = param_map[learning_rate]\n",
        "    if len(param_path) > 0:\n",
        "      x_star = param_path[-1]\n",
        "      plt.plot(t_vals[:len(param_path)], param_path, c=colors[i])\n",
        "      plt.plot(len(param_path), x_star, marker='o', c=colors[i], \n",
        "              label = f\"x*: learning rate={learning_rate}\")\n",
        "  plt.xlabel(\"Iterations\")\n",
        "  plt.ylabel(\"Parameter value\")\n",
        "  plt.legend()\n",
        "  plt.title(f\"{title} parameter paths\")"
      ]
    },
    {
      "cell_type": "code",
      "execution_count": null,
      "metadata": {
        "id": "Ssyj2sO4BcNY"
      },
      "outputs": [],
      "source": [
        "viz_paths(param_map_gd, x_vals, loss, \"Gradient descent\")"
      ]
    },
    {
      "cell_type": "markdown",
      "metadata": {
        "id": "MmM-5eDLFnmC"
      },
      "source": [
        "小さい学習率を使用すると勾配降下は変曲点で動けなくなるようです。学習率を上げると、ステップサイズが大きくなるため、プラトー領域での動きが速くなります。ただし、これには、損失関数が非常に急勾配である場合、初期の反復で大きすぎる勾配が発生するリスクがあります。"
      ]
    },
    {
      "cell_type": "markdown",
      "metadata": {
        "id": "m5CDeXN8S1SF"
      },
      "source": [
        "## モメンタムパラメータ付き勾配降下法\n",
        "\n",
        "モメンタムパラメータ付き勾配降下法では、勾配を使用して変数を更新するだけでなく、前回の更新に基づいて変数の位置を変更します。 モメンタムは、タイムステップ $t-1$ での更新がタイムステップ $t$ での更新に与える影響のレベルを決定します。モメンタムを増やすと、基本的な勾配降下法よりも速くプラトー領域を越えて変数を移動できます。モメンタムパラメータの更新ルールは次のとおりです。\n",
        "\n",
        "$$\\Delta_x^{[t]} = lr \\cdot L^\\prime(x^{[t]}) + p \\cdot \\Delta_x^{[t-1]}$$\n",
        "\n",
        "$$x^{[t]} = x^{[t-1]} - \\Delta_x^{[t]}$$\n",
        "\n",
        "ここでは、\n",
        "\n",
        "- $x$: 最適化される変数\n",
        "- $\\Delta_x$: $x$ の変更\n",
        "- $lr$: 学習率\n",
        "- $L^\\prime(x)$: x に関する損失関数の勾配\n",
        "- $p$: モメンタムパラメータ"
      ]
    },
    {
      "cell_type": "code",
      "execution_count": null,
      "metadata": {
        "id": "rOBY8Tz4S0dX"
      },
      "outputs": [],
      "source": [
        "class Momentum(tf.Module):\n",
        "\n",
        "  def __init__(self, learning_rate=1e-3, momentum=0.7):\n",
        "    # Initialize parameters\n",
        "    self.learning_rate = learning_rate\n",
        "    self.momentum = momentum\n",
        "    self.change = 0.\n",
        "    self.title = f\"Gradient descent optimizer: learning rate={self.learning_rate}\"\n",
        "\n",
        "  def apply_gradients(self, grads, vars):\n",
        "    # Update variables \n",
        "    for grad, var in zip(grads, vars):\n",
        "      curr_change = self.learning_rate*grad + self.momentum*self.change\n",
        "      var.assign_sub(curr_change)\n",
        "      self.change = curr_change"
      ]
    },
    {
      "cell_type": "markdown",
      "metadata": {
        "id": "t_nDu38gW6Fu"
      },
      "source": [
        "次の学習率（1e-3、1e-2、1e-1）のモメンタムオプティマイザの収束をテストします。"
      ]
    },
    {
      "cell_type": "code",
      "execution_count": null,
      "metadata": {
        "id": "tA6oQL-sW2xg"
      },
      "outputs": [],
      "source": [
        "param_map_mtm = {}\n",
        "learning_rates = [1e-3, 1e-2, 1e-1]\n",
        "for learning_rate in learning_rates:\n",
        "  param_map_mtm[learning_rate] = (convergence_test(\n",
        "      Momentum(learning_rate=learning_rate),\n",
        "      loss_fn=loss, grad_fn=grad))"
      ]
    },
    {
      "cell_type": "markdown",
      "metadata": {
        "id": "wz_LV0EPYE6k"
      },
      "source": [
        "損失関数の等高線図でパラメータのパスを可視化します。"
      ]
    },
    {
      "cell_type": "code",
      "execution_count": null,
      "metadata": {
        "id": "qbW1eEKaX3T9"
      },
      "outputs": [],
      "source": [
        "viz_paths(param_map_mtm, x_vals, loss, \"Momentum\")"
      ]
    },
    {
      "cell_type": "markdown",
      "metadata": {
        "id": "4bEFnhPRTBXh"
      },
      "source": [
        "## 適応モーメント推定 (Adam)\n",
        "\n",
        "適応モーメント推定（Adam）アルゴリズムは、効率的で高度に一般化可能な最適化手法であり、2 つの重要な勾配降下法（モメンタムと二乗平均平方根（RMSP））を活用します。モメンタムは、減衰パラメータと共に最初のモーメント（勾配の合計）を使用することにより、勾配降下を加速するのに役立ちます。RMSP も同様ですが、二次モーメント（勾配の 2 乗の合計）を利用します。\n",
        "\n",
        "Adam アルゴリズムは、一次モーメントと二次モーメントの両方を組み合わせて、より一般化可能な更新規則を提供します。変数 $x$ の符号は、$\\frac{x}{\\sqrt{x^2}}$ を計算することによって決定できます。Adam オプティマイザは、この事実を使用して、効果的に平滑化された符号である更新ステップを計算します。 $\\frac{x}{\\sqrt{x^2}}$ を計算する代わりに、オプティマイザは変数の更新ごとに $x$ （一次モーメント）と $x^2$ （二次モーメント）の平滑化バージョンを計算します。\n"
      ]
    },
    {
      "cell_type": "markdown",
      "metadata": {
        "id": "WjgyqRiZ7XhA"
      },
      "source": [
        "**Adam アルゴリズム**\n",
        "\n",
        "$\\beta_1 \\gets 0.9 ; \\triangleright \\text{literature value}$\n",
        "\n",
        "$\\beta_2 \\gets 0.999 ; \\triangleright \\text{literature value}$\n",
        "\n",
        "$lr \\gets \\text{1e-3} ; \\triangleright \\text{configurable learning rate}$\n",
        "\n",
        "$\\epsilon \\gets \\text{1e-7} ; \\triangleright \\text{prevents divide by 0 error}$\n",
        "\n",
        "$V_{dv} \\gets \\vec {\\underset{n\\times1}{0}} ;\\triangleright \\text{stores momentum updates for each variable}$\n",
        "\n",
        "$S_{dv} \\gets \\vec {\\underset{n\\times1}{0}} ; \\triangleright \\text{stores RMSP updates for each variable}$\n",
        "\n",
        "$t \\gets 1$\n",
        "\n",
        "$\\text{On iteration } t:$\n",
        "\n",
        "$;;;; \\text{For} (\\frac{dL}{dv}, v) \\text{ in gradient variable pairs}:$\n",
        "\n",
        "$;;;;;;;; V_{dv_i} = \\beta_1V_{dv_i} + (1 - \\beta_1)\\frac{dL}{dv} ; \\triangleright \\text{momentum update}$\n",
        "\n",
        "$;;;;;;;; S_{dv_i} = \\beta_2V_{dv_i} + (1 - \\beta_2)(\\frac{dL}{dv})^2 ; \\triangleright \\text{RMSP update}$\n",
        "\n",
        "$;;;;;;;; v_{dv}^{bc} = \\frac{V_{dv_i}}{(1-\\beta_1)^t} ; \\triangleright \\text{momentum bias correction}$\n",
        "\n",
        "$;;;;;;;; s_{dv}^{bc} = \\frac{S_{dv_i}}{(1-\\beta_2)^t} ; \\triangleright \\text{RMSP bias correction}$\n",
        "\n",
        "$;;;;;;;; v = v - lr\\frac{v_{dv}^{bc}}{\\sqrt{s_{dv}^{bc}} + \\epsilon} ; \\triangleright \\text{parameter update}$\n",
        "\n",
        "$;;;;;;;; t = t + 1$\n",
        "\n",
        "**アルゴリズム終了**\n",
        "\n",
        "$V_{dv}$ と $S_{dv}$ が 0 に初期化され、$\\beta_1$ と $\\beta_2$ が 1 に近い場合、モメンタムと RMSP の更新は自然に 0 に偏ります。したがって、変数にはバイアス補正が役立ちます。バイアス補正は、重みが大域的最小値に近づくにつれて、重みの振動を制御するのにも役立ちます。"
      ]
    },
    {
      "cell_type": "code",
      "execution_count": null,
      "metadata": {
        "id": "hm5vffRJRsEc"
      },
      "outputs": [],
      "source": [
        "class Adam(tf.Module):\n",
        "  \n",
        "    def __init__(self, learning_rate=1e-3, beta_1=0.9, beta_2=0.999, ep=1e-7):\n",
        "      # Initialize the Adam parameters\n",
        "      self.beta_1 = beta_1\n",
        "      self.beta_2 = beta_2\n",
        "      self.learning_rate = learning_rate\n",
        "      self.ep = ep\n",
        "      self.t = 1.\n",
        "      self.v_dvar, self.s_dvar = [], []\n",
        "      self.title = f\"Adam: learning rate={self.learning_rate}\"\n",
        "      self.built = False\n",
        "\n",
        "    def apply_gradients(self, grads, vars):\n",
        "      # Set up moment and RMSprop slots for each variable on the first call\n",
        "      if not self.built:\n",
        "        for var in vars:\n",
        "          v = tf.Variable(tf.zeros(shape=var.shape))\n",
        "          s = tf.Variable(tf.zeros(shape=var.shape))\n",
        "          self.v_dvar.append(v)\n",
        "          self.s_dvar.append(s)\n",
        "        self.built = True\n",
        "      # Perform Adam updates\n",
        "      for i, (d_var, var) in enumerate(zip(grads, vars)):\n",
        "        # Moment calculation\n",
        "        self.v_dvar[i] = self.beta_1*self.v_dvar[i] + (1-self.beta_1)*d_var\n",
        "        # RMSprop calculation\n",
        "        self.s_dvar[i] = self.beta_2*self.s_dvar[i] + (1-self.beta_2)*tf.square(d_var)\n",
        "        # Bias correction\n",
        "        v_dvar_bc = self.v_dvar[i]/(1-(self.beta_1**self.t))\n",
        "        s_dvar_bc = self.s_dvar[i]/(1-(self.beta_2**self.t))\n",
        "        # Update model variables\n",
        "        var.assign_sub(self.learning_rate*(v_dvar_bc/(tf.sqrt(s_dvar_bc) + self.ep)))\n",
        "      # Increment the iteration counter\n",
        "      self.t += 1."
      ]
    },
    {
      "cell_type": "markdown",
      "metadata": {
        "id": "UWN4Qus7flUO"
      },
      "source": [
        "勾配降下の例と同じ学習率で Adam オプティマイザのパフォーマンスをテストします。 "
      ]
    },
    {
      "cell_type": "code",
      "execution_count": null,
      "metadata": {
        "id": "GXHCxtemFBpR"
      },
      "outputs": [],
      "source": [
        "param_map_adam = {}\n",
        "learning_rates = [1e-3, 1e-2, 1e-1]\n",
        "for learning_rate in learning_rates:\n",
        "  param_map_adam[learning_rate] = (convergence_test(\n",
        "      Adam(learning_rate=learning_rate), loss_fn=loss))"
      ]
    },
    {
      "cell_type": "markdown",
      "metadata": {
        "id": "jgpUcs_xXEjX"
      },
      "source": [
        "損失関数の等高線図でパラメータのパスを可視化します。"
      ]
    },
    {
      "cell_type": "code",
      "execution_count": null,
      "metadata": {
        "id": "ctvOUmlzFK8s"
      },
      "outputs": [],
      "source": [
        "viz_paths(param_map_adam, x_vals, loss, \"Adam\")"
      ]
    },
    {
      "cell_type": "markdown",
      "metadata": {
        "id": "_oGScF8zJcY4"
      },
      "source": [
        "この特定の例では、小さい学習率を使用すると、Adam オプティマイザは従来の勾配降下法と比較して収束が遅くなります。ただし、学習率が大きくなるとアルゴリズムは正常にプラトー領域を通過し、大域的最小値に収束します。大きな勾配に遭遇した場合は、学習率の動的スケーリングにより、勾配が大きくなりすぎることはありません。"
      ]
    },
    {
      "cell_type": "markdown",
      "metadata": {
        "id": "VFLfEH4ManbW"
      },
      "source": [
        "## 結論\n",
        "\n",
        "このノートブックでは、オプティマイザの記述の基本と [TensorFlow Core API](https://www.tensorflow.org/guide/core) との比較を紹介しました。Adam のような事前構築されたオプティマイザは一般化可能ですが、すべてのモデルまたはデータセットに対して常に最適な選択であるとは限りません。最適化プロセスをきめ細かく制御することで、ML トレーニングワークフローを合理化し、全体的なパフォーマンスを向上させることができます。カスタムオプティマイザのその他の例については、次のドキュメントを参照してください。\n",
        "\n",
        "- この Adam オプティマイザは、[多層パーセプトロン](https://www.tensorflow.org/guide/core/mlp_core)のチュートリアルと[分散トレーニング]()で使用されています。\n",
        "- [Model Garden](https://blog.tensorflow.org/2020/03/introducing-model-garden-for-tensorflow-2.html) には、Core API で記述されたさまざまな[カスタムオプティマイザ](https://github.com/tensorflow/models/tree/master/official/modeling/optimization)があります。\n"
      ]
    }
  ],
  "metadata": {
    "colab": {
      "collapsed_sections": [],
      "name": "optimizers_core.ipynb",
      "toc_visible": true
    },
    "kernelspec": {
      "display_name": "Python 3",
      "name": "python3"
    }
  },
  "nbformat": 4,
  "nbformat_minor": 0
}
