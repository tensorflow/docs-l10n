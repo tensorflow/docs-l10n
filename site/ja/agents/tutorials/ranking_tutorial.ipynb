{
  "cells": [
    {
      "cell_type": "markdown",
      "metadata": {
        "id": "6tzp2bPEiK_S"
      },
      "source": [
        "##### Copyright 2022 The TF-Agents Authors."
      ]
    },
    {
      "cell_type": "code",
      "execution_count": null,
      "metadata": {
        "cellView": "form",
        "id": "E2347LPWgmcO"
      },
      "outputs": [],
      "source": [
        "#@title Licensed under the Apache License, Version 2.0 (the \"License\");\n",
        "# you may not use this file except in compliance with the License.\n",
        "# You may obtain a copy of the License at\n",
        "#\n",
        "# https://www.apache.org/licenses/LICENSE-2.0\n",
        "#\n",
        "# Unless required by applicable law or agreed to in writing, software\n",
        "# distributed under the License is distributed on an \"AS IS\" BASIS,\n",
        "# WITHOUT WARRANTIES OR CONDITIONS OF ANY KIND, either express or implied.\n",
        "# See the License for the specific language governing permissions and\n",
        "# limitations under the License."
      ]
    },
    {
      "cell_type": "markdown",
      "metadata": {
        "id": "0lfjAG3IiHSU"
      },
      "source": [
        "# TF-Agents でのランキングに関するチュートリアル"
      ]
    },
    {
      "cell_type": "markdown",
      "metadata": {
        "id": "OQJdLZ636rDN"
      },
      "source": [
        "### はじめに\n",
        "\n",
        "<table class=\"tfo-notebook-buttons\" align=\"left\">\n",
        "  <td><a target=\"_blank\" href=\"https://www.tensorflow.org/agents/tutorials/ranking_tutorial\"><img src=\"https://www.tensorflow.org/images/tf_logo_32px.png\">TensorFlow.org で表示</a></td>\n",
        "  <td><a target=\"_blank\" href=\"https://colab.research.google.com/github/tensorflow/docs-l10n/blob/master/site/ja/agents/tutorials/ranking_tutorial.ipynb\"><img src=\"https://www.tensorflow.org/images/colab_logo_32px.png\">Google Colab で実行</a></td>\n",
        "  <td><a target=\"_blank\" href=\"https://github.com/tensorflow/docs-l10n/blob/master/site/ja/agents/tutorials/ranking_tutorial.ipynb\"><img src=\"https://www.tensorflow.org/images/GitHub-Mark-32px.png\">Google Colab で実行</a></td>\n",
        "  <td><a href=\"https://storage.googleapis.com/tensorflow_docs/docs-l10n/site/ja/agents/tutorials/ranking_tutorial.ipynb\"><img src=\"https://www.tensorflow.org/images/download_logo_32px.png\">ノートブックをダウンロード</a></td>\n",
        "</table>\n"
      ]
    },
    {
      "cell_type": "markdown",
      "metadata": {
        "id": "ql6S68mZ6hMG"
      },
      "source": [
        "### セットアップ"
      ]
    },
    {
      "cell_type": "code",
      "execution_count": null,
      "metadata": {
        "id": "tFs2W62pqUxk"
      },
      "outputs": [],
      "source": [
        "!pip install tf-agents[reverb]"
      ]
    },
    {
      "cell_type": "code",
      "execution_count": null,
      "metadata": {
        "id": "1dbfZarwmB96"
      },
      "outputs": [],
      "source": [
        "#@title Imports\n",
        "import matplotlib.pyplot as plt\n",
        "import numpy as np\n",
        "import tensorflow as tf\n",
        "\n",
        "from tf_agents.bandits.agents import ranking_agent\n",
        "from tf_agents.bandits.agents.examples.v2 import trainer\n",
        "from tf_agents.bandits.environments import ranking_environment\n",
        "from tf_agents.bandits.networks import global_and_arm_feature_network\n",
        "from tf_agents.environments import tf_py_environment\n",
        "from tf_agents.bandits.policies import ranking_policy\n",
        "from tf_agents.bandits.replay_buffers import bandit_replay_buffer\n",
        "from tf_agents.drivers import dynamic_step_driver\n",
        "from tf_agents.metrics import tf_metrics\n",
        "from tf_agents.specs import bandit_spec_utils\n",
        "from tf_agents.specs import tensor_spec\n",
        "from tf_agents.trajectories import trajectory"
      ]
    },
    {
      "cell_type": "markdown",
      "metadata": {
        "id": "l-KqVvl_g9El"
      },
      "source": [
        "# はじめに"
      ]
    },
    {
      "cell_type": "markdown",
      "metadata": {
        "id": "OoHE8C13g2O1"
      },
      "source": [
        "このチュートリアルでは、TF-Agents Bandits ライブラリの一部として実装されているランキングアルゴリズムについて説明します。ランキング問題では、イテレーションごとにエージェントにアイテムのセットが提示され、それらの一部またはすべてをリストに階数付けするタスクが課されます。このランキングの決定は、何らかの形式のフィードバックを受け取ります（例えば、ユーザーが選択した項目の 1 つまたは複数をクリックするかしないかなど）。エージェントの目標は、時間の経過とともにより良い意思決定を行うことを目標に、いくつかの指標/報酬を最適化することです。"
      ]
    },
    {
      "cell_type": "markdown",
      "metadata": {
        "id": "-chVGcJVll1G"
      },
      "source": [
        "# 前提条件"
      ]
    },
    {
      "cell_type": "markdown",
      "metadata": {
        "id": "M92k7X27lqOM"
      },
      "source": [
        "TF-Agents のランキングアルゴリズムは、「アームごと」のバンディット問題で動作する特殊なタイプのバンディットエージェントに属しています。したがって、このチュートリアルを最大限に活用するには、読者は[バンディット](https://github.com/tensorflow/agents/tree/master/docs/tutorials/bandits_tutorial.ipynb)と[アームごとのバンディット](https://github.com/tensorflow/agents/tree/master/docs/tutorials/per_arm_bandits_tutorial.ipynb)のチュートリアルをよく理解する必要があります。"
      ]
    },
    {
      "cell_type": "markdown",
      "metadata": {
        "id": "o3gxWMIGvhNX"
      },
      "source": [
        "# ランキング問題とそのバリアント"
      ]
    },
    {
      "cell_type": "markdown",
      "metadata": {
        "id": "ek9XbdjDvlFs"
      },
      "source": [
        "このチュートリアルでは、ユーザーに商品を販売する例を使用します。すべてのイテレーションで、アイテムのセットと、場合によっては表示する必要があるアイテムの数を示す数値を受け取ります。手元にあるアイテムの数は、常にそれらを配置するスロットの数以上であると想定しています。ユーザーが表示されたアイテムの 1 つ以上と対話する確率を最大化するには、ディスプレイのスロットを埋める必要があります。 .ユーザーとアイテムは*特徴量*によって記述されます。\n",
        "\n",
        "ユーザーが気に入ったアイテムをディスプレイに表示できれば、ユーザーとアイテムの相互作用の可能性が高まります。したがって、ユーザーとアイテムのペアがどのように一致するかを学習することをお勧めします。しかし、ユーザーがアイテムを気に入っているかはどうかどうすればわかるのでしょうか？この目的のために、*フィードバックタイプ*を導入します。"
      ]
    },
    {
      "cell_type": "markdown",
      "metadata": {
        "id": "cTZ9RvYrDM2u"
      },
      "source": [
        "#フィードバックタイプ"
      ]
    },
    {
      "cell_type": "markdown",
      "metadata": {
        "id": "QNWZmMRoDPRX"
      },
      "source": [
        "フィードバック信号（報酬）が選択された 1 つのアイテムに直接関連付けられるバンディットの問題とは対照的に、ランキングではフィードバックが表示されたアイテムの「良さ」にどのように変換されるかを考慮する必要があります。つまり、表示されたアイテムのすべてまたは一部にスコアを割り当てる必要があります。私たちのライブラリでは、*ベクトルフィードバック*と*カスケードフィードバック*の 2つの異なるタイプのフィードバックを提供しています。"
      ]
    },
    {
      "cell_type": "markdown",
      "metadata": {
        "id": "x5c71Vyrul4z"
      },
      "source": [
        "## ベクトルフィードバック"
      ]
    },
    {
      "cell_type": "markdown",
      "metadata": {
        "id": "ekcxCX-Ru8I1"
      },
      "source": [
        "ベクトルフィードバックのタイプでは、エージェントが出力ランキングのすべてのアイテムに対してスカラースコアを受け取ると仮定します。これらのスカラーは、出力ランキングと同じ順序でベクトルにまとめられます。したがって、フィードバックはランキングの要素数と同じサイズのベクトルです。\n",
        "\n",
        "このフィードバックのタイプは、フィードバックシグナルをスコアに変換することについて心配する必要がないという意味で、非常に単純です。一方、アイテムの採点の責任は設計者（つまり、あなた）にあります。アイテムとその位置、およびユーザーが操作したかどうかに基づいて、どのようなスコアを与えるかを決定するのはシステム設計者です。"
      ]
    },
    {
      "cell_type": "markdown",
      "metadata": {
        "id": "p9mnWzWbu3II"
      },
      "source": [
        "##カスケードフィードバック"
      ]
    },
    {
      "cell_type": "markdown",
      "metadata": {
        "id": "zUk2__0CvsLz"
      },
      "source": [
        "カスケードフィードバックのタイプ（[Craswell et al., 2008](https://dl.acm.org/doi/abs/10.1145/1341531.1341545) によって造られた用語）では、ユーザーが表示されたアイテムを一番上のスロットから順番に見ると仮定します。ユーザーはクリックするに値するアイテムを見つけるとすぐにクリックし、現在の階数付けされたリストに戻ることはありません。クリックされたアイテムの下のアイテムも見ません。どのアイテムもクリックしない可能性もあります。これは、表示されているアイテムのどれもクリックする価値がない場合に発生します。この場合、ユーザーはすべてのアイテムを確認します。\n",
        "\n",
        "フィードバック信号は、選択した要素のインデックスとクリックの値の 2 つの要素で構成されます。次に、この情報をスコアに変換するのがエージェントのタスクです。バンディットライブラリの実装では、表示されたがクリックされていないアイテムには低いスコア（通常は 0 または -1）が与えられ、クリックされたアイテムにはクリック値が与えられ、クリックされたアイテム以外のアイテムはエージェントによって無視されるという規則が実装されました。"
      ]
    },
    {
      "cell_type": "markdown",
      "metadata": {
        "id": "Ey94cmzkDUP7"
      },
      "source": [
        "# 多様性と探求"
      ]
    },
    {
      "cell_type": "markdown",
      "metadata": {
        "id": "7JcMNvBDDX_b"
      },
      "source": [
        "ユーザーがアイテムをクリックする可能性を最大化するには、最もスコアの高いアイテムを選択してランキングの上位に入れるだけでは十分ではありません。さまざまな興味を持つユーザーの場合、彼らはスポーツに最も興味があるかもしれませんが、芸術や旅行も好きです。すべてのスポーツアイテムに最高の推定スコアを与え、最高のスロットにすべてのスポーツアイテムを表示することは、最適ではない場合があります。ユーザーは芸術や旅行の気分になっている可能性があります。したがって、高得点の興味の対象を組み合わせて表示することをお勧めします。表示されるアイテムのスコアを最大化するだけでなく、それらが多様なセットを形成していることを確認することが重要です。\n",
        "\n",
        "他の限定情報学習問題（バンディットなど）と同様に、私たちの決定は即時の報酬だけでなく、トレーニングデータと将来の報酬にも影響することを覚えておくことも重要です。常に現在の推定スコアに基づいてアイテムのみを表示すると、まだ十分に調査していない高スコアのアイテムを見逃す可能性があり、そのため、それらがどれほど優れているかを認識できません。つまり、意思決定プロセスに探索を組み込む必要があります。\n",
        "\n",
        "上記の概念と考慮事項はすべて、私たちのライブラリで対応しています。このチュートリアルでは、詳細について説明します。"
      ]
    },
    {
      "cell_type": "markdown",
      "metadata": {
        "id": "jwWucISQQSGt"
      },
      "source": [
        "# ユーザーのシミュレーション: テスト環境"
      ]
    },
    {
      "cell_type": "markdown",
      "metadata": {
        "id": "lxLWjKe1Q2Xz"
      },
      "source": [
        "コードベースを詳しく見ていきましょう！\n",
        "\n",
        "まず、ユーザーとアイテムの特徴量をランダムに生成するクラスである環境を定義し、決定後にフィードバックを提供します。"
      ]
    },
    {
      "cell_type": "code",
      "execution_count": null,
      "metadata": {
        "id": "sR8Id9Y7mhBK"
      },
      "outputs": [],
      "source": [
        "feedback_model = ranking_environment.FeedbackModel.CASCADING #@param[\"ranking_environment.FeedbackModel.SCORE_VECTOR\", \"ranking_environment.FeedbackModel.CASCADING\"] {type:\"raw\"}\n"
      ]
    },
    {
      "cell_type": "markdown",
      "metadata": {
        "id": "M38wgZHqcI-M"
      },
      "source": [
        "いつ*クリックしない*かを決定する環境のモデルも必要です。ライブラリには、*距離ベース*と*ゴーストアクション*の 2 つの方法があります。\n",
        "\n",
        "- 距離ベースでは、ユーザー特徴量がどのアイテム特徴量にも十分に近くない場合、ユーザーはクリックしません。\n",
        "- ゴーストアクションモデルでは、追加の虚数アクションを単位ベクトルアイテム特徴量の形で設定します。ユーザーがゴーストアクションのいずれかを選択すると、ノークリックになります。\n"
      ]
    },
    {
      "cell_type": "code",
      "execution_count": null,
      "metadata": {
        "cellView": "form",
        "id": "3b1hYbTxi6Kg"
      },
      "outputs": [],
      "source": [
        "click_type = \"ghost_actions\"  #@param[\"distance_based\", \"ghost_actions\"]\n",
        "click_model = (ranking_environment.ClickModel.DISTANCE_BASED\n",
        "               if click_type == \"distance_based\" else\n",
        "               ranking_environment.ClickModel.GHOST_ACTIONS)"
      ]
    },
    {
      "cell_type": "markdown",
      "metadata": {
        "id": "1Ut1nnmB6_9T"
      },
      "source": [
        "ランキング環境を定義する準備がほぼ整いました。あともう少しで完了です。グローバル（ユーザー）とアイテム特徴量のサンプリング関数を定義します。これらの特徴量は、ユーザーの行動をシミュレートするために環境によって使用されます。グローバルおよびアイテム特徴量の加重内積が計算され、ユーザーがクリックする確率は内積値に比例します。内積の重み付けは、以下の `scores_weight_matrix` によって定義されます。"
      ]
    },
    {
      "cell_type": "code",
      "execution_count": null,
      "metadata": {
        "id": "ueVe8Gf77Lad"
      },
      "outputs": [],
      "source": [
        "global_dim = 9  #@param{ type: \"integer\"}\n",
        "item_dim   = 11  #@param{ type: \"integer\"}\n",
        "num_items  = 50 #@param{ type: \"integer\"}\n",
        "num_slots  = 3  #@param{ type: \"integer\"}\n",
        "distance_threshold = 5.0  #@param{ type: \"number\" }\n",
        "batch_size = 128   #@param{ type: \"integer\"}\n",
        "\n",
        "def global_sampling_fn():\n",
        "  return np.random.randint(-1, 1, [global_dim]).astype(np.float32)\n",
        "\n",
        "def item_sampling_fn():\n",
        "  return np.random.randint(-2, 3, [item_dim]).astype(np.float32)\n",
        "\n",
        "# Inner product with excess dimensions ignored.\n",
        "scores_weight_matrix = np.eye(11, 9, dtype=np.float32)\n",
        "\n",
        "env = ranking_environment.RankingPyEnvironment(\n",
        "    global_sampling_fn,\n",
        "    item_sampling_fn,\n",
        "    num_items=num_items,\n",
        "    num_slots=num_slots,\n",
        "    scores_weight_matrix=scores_weight_matrix,\n",
        "    feedback_model=feedback_model,\n",
        "    click_model=click_model,\n",
        "    distance_threshold=distance_threshold,\n",
        "    batch_size=batch_size)\n",
        "\n",
        "# Convert the python environment to tf environment.\n",
        "environment = tf_py_environment.TFPyEnvironment(env)"
      ]
    },
    {
      "cell_type": "markdown",
      "metadata": {
        "id": "wN2aFkL_qHJe"
      },
      "source": [
        "それでは、上記の環境に取り組むいくつかの異なるエージェントを定義しましょう！すべてのエージェントは、アイテムとユーザーのペアのスコアを推定するネットワークをトレーニングします。違いはポリシー、つまり、トレーニングされたネットワークを使用してランキングを決定する方法にあります。実装されたポリシーは、スコアに基づく単なるスタックランキングから、多様性と探索を考慮して、これらの側面の混合を調整する機能にまで及びます。"
      ]
    },
    {
      "cell_type": "code",
      "execution_count": null,
      "metadata": {
        "id": "MBJgkyFC64rR"
      },
      "outputs": [],
      "source": [
        "#@title Defining the Network and Training Params\n",
        "scoring_network = (\n",
        "      global_and_arm_feature_network.create_feed_forward_common_tower_network(\n",
        "          environment.observation_spec(), (20, 10), (20, 10), (20, 10)))\n",
        "learning_rate = 0.005  #@param{ type: \"number\"}\n",
        "\n",
        "feedback_dict = {ranking_environment.FeedbackModel.CASCADING: ranking_agent.FeedbackModel.CASCADING,\n",
        "                 ranking_environment.FeedbackModel.SCORE_VECTOR: ranking_agent.FeedbackModel.SCORE_VECTOR}\n",
        "agent_feedback_model = feedback_dict[feedback_model]"
      ]
    },
    {
      "cell_type": "code",
      "execution_count": null,
      "metadata": {
        "id": "ufuiBZsg5YrR"
      },
      "outputs": [],
      "source": [
        "#@title Stack Ranking Deterministically by Scores\n",
        "\n",
        "policy_type = ranking_agent.RankingPolicyType.DESCENDING_SCORES\n",
        "descending_scores_agent = ranking_agent.RankingAgent(\n",
        "    time_step_spec=environment.time_step_spec(),\n",
        "    action_spec=environment.action_spec(),\n",
        "    scoring_network=scoring_network,\n",
        "    optimizer=tf.compat.v1.train.AdamOptimizer(learning_rate=learning_rate),\n",
        "    feedback_model=agent_feedback_model,\n",
        "    policy_type=policy_type,\n",
        "    summarize_grads_and_vars=True)"
      ]
    },
    {
      "cell_type": "code",
      "execution_count": null,
      "metadata": {
        "id": "8ko9D3qO7gUs"
      },
      "outputs": [],
      "source": [
        "#@title Sampling Sequentially Based on Scores\n",
        "\n",
        "policy_type = ranking_agent.RankingPolicyType.NO_PENALTY\n",
        "logits_temperature = 1.0  #@param{ type: \"number\" }\n",
        "\n",
        "no_penalty_agent = ranking_agent.RankingAgent(\n",
        "    time_step_spec=environment.time_step_spec(),\n",
        "    action_spec=environment.action_spec(),\n",
        "    scoring_network=scoring_network,\n",
        "    optimizer=tf.compat.v1.train.AdamOptimizer(learning_rate=learning_rate),\n",
        "    feedback_model=agent_feedback_model,\n",
        "    policy_type=policy_type,\n",
        "    logits_temperature=logits_temperature,\n",
        "    summarize_grads_and_vars=True)"
      ]
    },
    {
      "cell_type": "code",
      "execution_count": null,
      "metadata": {
        "cellView": "form",
        "id": "Gnv5c4w094A4"
      },
      "outputs": [],
      "source": [
        "#@title Sampling Sequentally and Taking Diversity into Account\n",
        "#@markdown The balance between ranking based on scores and taking diversity into account is governed by the following \"penalty mixture\" parameter. A low positive value results in rankings that hardly mix in diversity, a higher value will enforce more diversity.\n",
        "\n",
        "policy_type = ranking_agent.RankingPolicyType.COSINE_DISTANCE\n",
        "penalty_mixture = 1.0 #@param{ type: \"number\"}\n",
        "\n",
        "cosine_distance_agent = ranking_agent.RankingAgent(\n",
        "    time_step_spec=environment.time_step_spec(),\n",
        "    action_spec=environment.action_spec(),\n",
        "    scoring_network=scoring_network,\n",
        "    optimizer=tf.compat.v1.train.AdamOptimizer(learning_rate=learning_rate),\n",
        "    feedback_model=agent_feedback_model,\n",
        "    policy_type=policy_type,\n",
        "    logits_temperature=logits_temperature,\n",
        "    penalty_mixture_coefficient=penalty_mixture,\n",
        "    summarize_grads_and_vars=True)\n"
      ]
    },
    {
      "cell_type": "code",
      "execution_count": null,
      "metadata": {
        "id": "ZMImW7rrWn5w"
      },
      "outputs": [],
      "source": [
        "#@title Choosing the desired agent.\n",
        "agent_type = \"cosine_distance_agent\" #@param[\"cosine_distance_agent\", \"no_penalty_agent\", \"descending_scores_agent\"]\n",
        "if agent_type == \"descending_scores_agent\":\n",
        "  agent = descending_scores_agent\n",
        "elif agent_type == \"no_penalty_agent\":\n",
        "  agent = no_penalty_agent\n",
        "else:\n",
        "  agent = cosine_distance_agent"
      ]
    },
    {
      "cell_type": "markdown",
      "metadata": {
        "id": "SYQ2sCaz6tTX"
      },
      "source": [
        "トレーニングループを開始する前に、トレーニングデータに関してもう 1 つ注意しなければならないことがあります。\n",
        "\n",
        "決定時にポリシーに提示されるアーム特徴量には、ポリシーが選択できるすべてのアイテムが含まれます。ただし、トレーニングでは、便宜上、決定出力の順序で選択されたアイテムの特徴量が必要です。この目的のために、次の関数が使用されます（わかりやすくするために[ここ](https://github.com/tensorflow/agents/tree/master/tf_agents/bandits/agents/examples/v2/train_eval_ranking.py)にコピーされています）。"
      ]
    },
    {
      "cell_type": "code",
      "execution_count": null,
      "metadata": {
        "id": "vpUfQXgD7y0t"
      },
      "outputs": [],
      "source": [
        "def order_items_from_action_fn(orig_trajectory):\n",
        "  \"\"\"Puts the features of the selected items in the recommendation order.\n",
        "\n",
        "  This function is used to make sure that at training the item observation is\n",
        "  filled with features of items selected by the policy, in the order of the\n",
        "  selection. Features of unselected items are discarded.\n",
        "\n",
        "  Args:\n",
        "    orig_trajectory: The trajectory as output by the policy\n",
        "\n",
        "  Returns:\n",
        "    The modified trajectory that contains slotted item features.\n",
        "  \"\"\"\n",
        "  item_obs = orig_trajectory.observation[\n",
        "      bandit_spec_utils.PER_ARM_FEATURE_KEY]\n",
        "  action = orig_trajectory.action\n",
        "  if isinstance(\n",
        "      orig_trajectory.observation[bandit_spec_utils.PER_ARM_FEATURE_KEY],\n",
        "      tensor_spec.TensorSpec):\n",
        "    dtype = orig_trajectory.observation[\n",
        "        bandit_spec_utils.PER_ARM_FEATURE_KEY].dtype\n",
        "    shape = [\n",
        "        num_slots, orig_trajectory.observation[\n",
        "            bandit_spec_utils.PER_ARM_FEATURE_KEY].shape[-1]\n",
        "    ]\n",
        "    new_observation = {\n",
        "        bandit_spec_utils.GLOBAL_FEATURE_KEY:\n",
        "            orig_trajectory.observation[bandit_spec_utils.GLOBAL_FEATURE_KEY],\n",
        "        bandit_spec_utils.PER_ARM_FEATURE_KEY:\n",
        "            tensor_spec.TensorSpec(dtype=dtype, shape=shape)\n",
        "    }\n",
        "  else:\n",
        "    slotted_items = tf.gather(item_obs, action, batch_dims=1)\n",
        "    new_observation = {\n",
        "        bandit_spec_utils.GLOBAL_FEATURE_KEY:\n",
        "            orig_trajectory.observation[bandit_spec_utils.GLOBAL_FEATURE_KEY],\n",
        "        bandit_spec_utils.PER_ARM_FEATURE_KEY:\n",
        "            slotted_items\n",
        "    }\n",
        "  return trajectory.Trajectory(\n",
        "      step_type=orig_trajectory.step_type,\n",
        "      observation=new_observation,\n",
        "      action=(),\n",
        "      policy_info=(),\n",
        "      next_step_type=orig_trajectory.next_step_type,\n",
        "      reward=orig_trajectory.reward,\n",
        "      discount=orig_trajectory.discount)"
      ]
    },
    {
      "cell_type": "code",
      "execution_count": null,
      "metadata": {
        "id": "VQDWXgDUsCZ1"
      },
      "outputs": [],
      "source": [
        "#@title Defininfing Parameters to Run the Agent on the Defined Environment\n",
        "num_iterations = 400 #@param{ type: \"number\" }\n",
        "steps_per_loop = 2   #@param{ type: \"integer\" }"
      ]
    },
    {
      "cell_type": "markdown",
      "metadata": {
        "id": "Na2ZHarNVS0-"
      },
      "source": [
        "バンディットのチュートリアルと同様に、トレーニングするサンプルをエージェントに供給するリプレイバッファを定義します。次に、ドライバーを使用してすべてをまとめます。環境が特徴量を提供し、ポリシーがランキングを選択し、サンプルが収集されてトレーニングされます。"
      ]
    },
    {
      "cell_type": "code",
      "execution_count": null,
      "metadata": {
        "id": "qt6ifI5AYWfu"
      },
      "outputs": [],
      "source": [
        "replay_buffer = bandit_replay_buffer.BanditReplayBuffer(\n",
        "      data_spec=order_items_from_action_fn(agent.policy.trajectory_spec),\n",
        "      batch_size=batch_size,\n",
        "      max_length=steps_per_loop)\n",
        "\n",
        "if feedback_model == ranking_environment.FeedbackModel.SCORE_VECTOR:\n",
        "  reward_metric = tf_metrics.AverageReturnMetric(\n",
        "      batch_size=environment.batch_size,\n",
        "      buffer_size=200)\n",
        "else:\n",
        "  reward_metric = tf_metrics.AverageReturnMultiMetric(\n",
        "        reward_spec=environment.reward_spec(),\n",
        "        batch_size=environment.batch_size,\n",
        "        buffer_size=200)\n",
        "\n",
        "add_batch_fn = lambda data: replay_buffer.add_batch(\n",
        "        order_items_from_action_fn(data))\n",
        "\n",
        "observers = [add_batch_fn, reward_metric]\n",
        "\n",
        "driver = dynamic_step_driver.DynamicStepDriver(\n",
        "    env=environment,\n",
        "    policy=agent.collect_policy,\n",
        "    num_steps=steps_per_loop * batch_size,\n",
        "    observers=observers)\n",
        "\n",
        "reward_values = []\n",
        "\n",
        "for _ in range(num_iterations):\n",
        "  driver.run()\n",
        "  loss_info = agent.train(replay_buffer.gather_all())\n",
        "  replay_buffer.clear()\n",
        "  if feedback_model == ranking_environment.FeedbackModel.SCORE_VECTOR:\n",
        "    reward_values.append(reward_metric.result())\n",
        "  else:\n",
        "    reward_values.append(reward_metric.result())\n"
      ]
    },
    {
      "cell_type": "markdown",
      "metadata": {
        "id": "Gwy7cQP3JrU0"
      },
      "source": [
        "報酬をプロットしましょう！"
      ]
    },
    {
      "cell_type": "code",
      "execution_count": null,
      "metadata": {
        "id": "eZPOXzfyy5Sh"
      },
      "outputs": [],
      "source": [
        "if feedback_model == ranking_environment.FeedbackModel.SCORE_VECTOR:\n",
        "  reward = reward_values\n",
        "else:\n",
        "  reward = [r[\"chosen_value\"] for r in reward_values]\n",
        "plt.plot(reward)\n",
        "plt.ylabel('Average Return')\n",
        "plt.xlabel('Number of Iterations')"
      ]
    },
    {
      "cell_type": "markdown",
      "metadata": {
        "id": "gvbm_qCGJy0D"
      },
      "source": [
        "# 次のステップ\n",
        "\n",
        "このチュートリアルには、使用するポリシー/エージェント、環境のいくつかのプロパティ、さらにはフィードバックモデルなど、調整可能なパラメータが多数含まれています。これらのパラメータを自由に試してみてください。\n",
        "\n",
        "`tf_agents/bandits/agents/examples/v2/train_eval_ranking.py` には、すぐに実行できるランキングの例もあります。"
      ]
    }
  ],
  "metadata": {
    "colab": {
      "collapsed_sections": [],
      "name": "ranking_tutorial.ipynb",
      "toc_visible": true
    },
    "kernelspec": {
      "display_name": "Python 3",
      "name": "python3"
    }
  },
  "nbformat": 4,
  "nbformat_minor": 0
}
