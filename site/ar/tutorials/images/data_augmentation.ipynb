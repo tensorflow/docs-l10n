{
  "cells": [
    {
      "cell_type": "markdown",
      "metadata": {
        "colab_type": "text",
        "id": "llx_cGpoAyAq"
      },
      "source": [
        "##### Copyright 2020 The TensorFlow Authors."
      ]
    },
    {
      "cell_type": "code",
      "execution_count": 0,
      "metadata": {
        "cellView": "form",
        "colab": {},
        "colab_type": "code",
        "id": "5MAYU_6KA0Kt"
      },
      "outputs": [],
      "source": [
        "#@title Licensed under the Apache License, Version 2.0 (the \"License\");\n",
        "# you may not use this file except in compliance with the License.\n",
        "# You may obtain a copy of the License at\n",
        "#\n",
        "# https://www.apache.org/licenses/LICENSE-2.0\n",
        "#\n",
        "# Unless required by applicable law or agreed to in writing, software\n",
        "# distributed under the License is distributed on an \"AS IS\" BASIS,\n",
        "# WITHOUT WARRANTIES OR CONDITIONS OF ANY KIND, either express or implied.\n",
        "# See the License for the specific language governing permissions and\n",
        "# limitations under the License."
      ]
    },
    {
      "cell_type": "markdown",
      "metadata": {
        "colab_type": "text",
        "id": "35lZ8kr3UcsB"
      },
      "source": [
        "# <div dir=\"rtl\">تكثير البيانات (data augmentation)</div>"
      ]
    },
    {
      "cell_type": "markdown",
      "metadata": {
        "colab_type": "text",
        "id": "MfBg1C5NB3X0"
      },
      "source": [
        "<table class=\"tfo-notebook-buttons\" align=\"right\" dir=\"rtl\">\n",
        "  <td>\n",
        "    <a target=\"_blank\" href=\"https://www.tensorflow.org/tutorials/images/data_augmentation?hl=ar\"><img src=\"https://www.tensorflow.org/images/tf_logo_32px.png\" />إفتح المحتوى على موقع TensorFlow.org</a>\n",
        "  </td>\n",
        "  <td>\n",
        "    <a target=\"_blank\" href=\"https://colab.research.google.com/github/tensorflow/docs-l10n/blob/master/site/ar/tutorials/images/data_augmentation.ipynb\"><img src=\"https://www.tensorflow.org/images/colab_logo_32px.png\" />تفاعل مع المحتوى على Google Colab</a>\n",
        "  </td>\n",
        "  <td>\n",
        "    <a target=\"_blank\" href=\"https://github.com/tensorflow/docs-l10n/blob/master/site/ar/tutorials/images/data_augmentation.ipynb\"><img src=\"https://www.tensorflow.org/images/GitHub-Mark-32px.png\" />إطّلع على المصدر في Github</a>\n",
        "  </td>\n",
        "  <td>\n",
        "    <a href=\"https://storage.googleapis.com/tensorflow_docs/docs-l10n/site/ar/tutorials/images/data_augmentation.ipynb\"><img src=\"https://www.tensorflow.org/images/download_logo_32px.png\" />تنزيل الدّفتر</a>\n",
        "  </td>\n",
        "</table>"
      ]
    },
    {
      "cell_type": "markdown",
      "metadata": {
        "colab_type": "text",
        "id": "34dgCtXGKbgq"
      },
      "source": [
        "<div dir=\"rtl\">\n",
        "\n",
        "Note: قامت مجموعة المتطوعين في مشروع Tensorflow بترجمة هذا المحتوى. نظرًا لأن هذه الترجمات تعتمد على قاعدة أقصى الجهد (best-effort) ، فلا نضمن أنها انعكاس دقيق وحديث [للمحتوى الرسمي باللغة الإنجليزية](https://www.tensorflow.org/?hl=en). إذا كانت لديك اقتراحات لتحسين هذه الترجمة ، يرجى إرسال \"Pull request\" إلى مشروع [tensorflow/docs-l10n](https://github.com/tensorflow/docs-l10n). للتطوع أو مراجعة ترجمات المجموعة يرجى ارسال ايميل إلى docs@tensorflow.org.\n",
        "\n",
        "</div>"
      ]
    },
    {
      "cell_type": "markdown",
      "metadata": {
        "colab_type": "text",
        "id": "BZP72A6eFw74"
      },
      "source": [
        "## <div dir=\"rtl\">لمحة</div>\n",
        "\n",
        "<div dir=\"rtl\">\n",
        "\n",
        "يبيّن هذا الدفتر التعليمي الطرق المستخدمة في معالجة البيانات و تكثيرها باستعمال \n",
        "`tf.image`.\n",
        "\n",
        "تعتبر طريقة تكثير البيانات واحدة من الطّرق الشائعة لتحسين نتائج النماذج و تجنّب الوقوع في مشكلة الإفراط في التّعلم \n",
        "(overfitting)، \n",
        "أنظر في محتوى الدورة التعليمية حول\n",
        "مشكلتَي \n",
        "[الإفراط و التفريط في التعلّم](https://www.tensorflow.org/tutorials/keras/overfit_and_underfit?hl=ar)\n",
        "و كيفية معالجتهما. \n",
        "\n",
        "</div>"
      ]
    },
    {
      "cell_type": "markdown",
      "metadata": {
        "colab_type": "text",
        "id": "8sZIVqk7HvnC"
      },
      "source": [
        "## <div dir=\"rtl\">إعداد بيئة العمل</div>"
      ]
    },
    {
      "cell_type": "code",
      "execution_count": 0,
      "metadata": {
        "colab": {},
        "colab_type": "code",
        "id": "3TS4vBJBd8jY"
      },
      "outputs": [],
      "source": [
        "!pip install git+https://github.com/tensorflow/docs"
      ]
    },
    {
      "cell_type": "code",
      "execution_count": 0,
      "metadata": {
        "colab": {},
        "colab_type": "code",
        "id": "rdP8EQbPsyRA"
      },
      "outputs": [],
      "source": [
        "try:\n",
        "  %tensorflow_version 2.x\n",
        "except:\n",
        "  pass\n",
        "\n",
        "import urllib\n",
        "\n",
        "import tensorflow as tf\n",
        "from tensorflow.keras.datasets import mnist\n",
        "from tensorflow.keras import layers\n",
        "AUTOTUNE = tf.data.experimental.AUTOTUNE\n",
        "\n",
        "import tensorflow_docs as tfdocs\n",
        "import tensorflow_docs.plots\n",
        "\n",
        "import tensorflow_datasets as tfds\n",
        "\n",
        "import PIL.Image\n",
        "\n",
        "import matplotlib.pyplot as plt\n",
        "import matplotlib as mpl\n",
        "mpl.rcParams['figure.figsize'] = (12, 5)\n",
        "\n",
        "import numpy as np"
      ]
    },
    {
      "cell_type": "markdown",
      "metadata": {
        "colab_type": "text",
        "id": "__EuXwM-8uth"
      },
      "source": [
        "<div dir=\"rtl\">\n",
        "\n",
        "لنستكشف و نختبر طرق تكثير البيانات على صورة واحدة ثمّ سنقوم بعد ذلك بتكثير مجموعة بيانات كاملة. \n",
        "\n",
        "</div>"
      ]
    },
    {
      "cell_type": "markdown",
      "metadata": {
        "colab_type": "text",
        "id": "frBSdODBLOOI"
      },
      "source": [
        "<div dir=\"rtl\">\n",
        "\n",
        "ابدأ بتنزيل \n",
        "[هذه الصورة](https://commons.wikimedia.org/wiki/File:Felis_catus-cat_on_snow.jpg)،\n",
        "الملتقطة من قبل المصوّر\n",
        "Von.grzanka،\n",
        "لنستعملها في تجربة طرق تكثير البيانات.\n",
        "\n",
        "</div>"
      ]
    },
    {
      "cell_type": "code",
      "execution_count": 0,
      "metadata": {
        "colab": {},
        "colab_type": "code",
        "id": "s5ThIwG8KqzI"
      },
      "outputs": [],
      "source": [
        "image_path = tf.keras.utils.get_file(\"cat.jpg\", \"https://storage.googleapis.com/download.tensorflow.org/example_images/320px-Felis_catus-cat_on_snow.jpg\")\n",
        "PIL.Image.open(image_path)"
      ]
    },
    {
      "cell_type": "markdown",
      "metadata": {
        "colab_type": "text",
        "id": "-Ec3bGonGDCF"
      },
      "source": [
        "<div dir=\"rtl\">\n",
        "\n",
        "تحميل الصورة و تحويلها إلى Tensor.\n",
        "\n",
        "</div>"
      ]
    },
    {
      "cell_type": "code",
      "execution_count": 0,
      "metadata": {
        "colab": {},
        "colab_type": "code",
        "id": "cdCoB8b-uZjf"
      },
      "outputs": [],
      "source": [
        "image_string=tf.io.read_file(image_path)\n",
        "image=tf.image.decode_jpeg(image_string,channels=3)"
      ]
    },
    {
      "cell_type": "markdown",
      "metadata": {
        "colab_type": "text",
        "id": "isGwyT0386yi"
      },
      "source": [
        "<div dir=\"rtl\">\n",
        "\n",
        "سنستخدم الوظيفة التّالية لرسم و مقارنة الصورة الأصلية مع الصورة الناتجة عن عمليّة التكثير جنبا إلى جنب. \n",
        "\n",
        "</div>"
      ]
    },
    {
      "cell_type": "code",
      "execution_count": 0,
      "metadata": {
        "colab": {},
        "colab_type": "code",
        "id": "FKnRfw2dvyql"
      },
      "outputs": [],
      "source": [
        "def visualize(original, augmented):\n",
        "  fig = plt.figure()\n",
        "  plt.subplot(1,2,1)\n",
        "  plt.title('Original image')\n",
        "  plt.imshow(original)\n",
        "\n",
        "  plt.subplot(1,2,2)\n",
        "  plt.title('Augmented image')\n",
        "  plt.imshow(augmented)"
      ]
    },
    {
      "cell_type": "markdown",
      "metadata": {
        "colab_type": "text",
        "id": "jYLzpEOhGqWY"
      },
      "source": [
        "## <div dir=\"rtl\">كثِّر صورة واحدة</div>\n",
        "\n",
        "<div dir=\"rtl\">\n",
        "\n",
        "نعرض في الأقسام التّالية عدّة طرق لتكثير الصورة.\n",
        "\n",
        "</div>"
      ]
    },
    {
      "cell_type": "markdown",
      "metadata": {
        "colab_type": "text",
        "id": "8IiXghY99Bo6"
      },
      "source": [
        "### <div dir=\"rtl\">قلب الصورة</div>\n",
        "\n",
        "<div dir=\"rtl\">\n",
        "قم بقلب الصورة عموديّا أو أفقيّا. \n",
        "</div>"
      ]
    },
    {
      "cell_type": "code",
      "execution_count": 0,
      "metadata": {
        "colab": {},
        "colab_type": "code",
        "id": "X14VjLlFxnvZ"
      },
      "outputs": [],
      "source": [
        "flipped = tf.image.flip_left_right(image)\n",
        "visualize(image, flipped)"
      ]
    },
    {
      "cell_type": "markdown",
      "metadata": {
        "colab_type": "text",
        "id": "ObsvSmu99MfC"
      },
      "source": [
        "### <div dir=\"rtl\"> حوّل الصورة إلى التدرّج الرمادي </div>\n",
        "\n",
        "<div dir=\"rtl\">\n",
        "\n",
        "قم بتحويل الصورة إلى التدرّج الرمادي هكذا: \n",
        "\n",
        "</div>"
      ]
    },
    {
      "cell_type": "code",
      "execution_count": 0,
      "metadata": {
        "colab": {},
        "colab_type": "code",
        "id": "mnqQA2ubyo6O"
      },
      "outputs": [],
      "source": [
        "grayscaled = tf.image.rgb_to_grayscale(image)\n",
        "visualize(image, tf.squeeze(grayscaled))\n",
        "plt.colorbar()"
      ]
    },
    {
      "cell_type": "markdown",
      "metadata": {
        "colab_type": "text",
        "id": "juI4A4HF9gYc"
      },
      "source": [
        "### <div dir=\"rtl\">إشباع الصورة</div>\n",
        "\n",
        "<div dir=\"rtl\">\n",
        "\n",
        "قم بإشباع الصورة من خلال توفير عامل إشباع بالطريقة التّالية:\n",
        "\n",
        "</div>"
      ]
    },
    {
      "cell_type": "code",
      "execution_count": 0,
      "metadata": {
        "colab": {},
        "colab_type": "code",
        "id": "tiTUhw-gzCJW"
      },
      "outputs": [],
      "source": [
        "saturated = tf.image.adjust_saturation(image, 3)\n",
        "visualize(image, saturated)"
      ]
    },
    {
      "cell_type": "markdown",
      "metadata": {
        "colab_type": "text",
        "id": "E82CqomP9qcR"
      },
      "source": [
        "### <div dir=\"rtl\">تغيير درجة سطوع الصورة</div>\n",
        "\n",
        "<div dir=\"rtl\">\n",
        "\n",
        "قم بتغيير درجة سطوع الصورة عن طريق توفير عامل سطوع بالطريقة التّالية:\n",
        "\n",
        "</div>"
      ]
    },
    {
      "cell_type": "code",
      "execution_count": 0,
      "metadata": {
        "colab": {},
        "colab_type": "code",
        "id": "05dA6uEtzfyd"
      },
      "outputs": [],
      "source": [
        "bright = tf.image.adjust_brightness(image, 0.4)\n",
        "visualize(image, bright)"
      ]
    },
    {
      "cell_type": "markdown",
      "metadata": {
        "colab_type": "text",
        "id": "5_0kMbmS91x6"
      },
      "source": [
        "### <div dir=\"rtl\">تدوير الصورة</div>\n",
        "\n",
        "<div dir=\"rtl\">\n",
        "\n",
        "قم بتدوير الصورة 90 درجة للحصول على صورة أخرى بالطريقة التّالية:\n",
        "\n",
        "</div>"
      ]
    },
    {
      "cell_type": "code",
      "execution_count": 0,
      "metadata": {
        "colab": {},
        "colab_type": "code",
        "id": "edNoQzhszxo8"
      },
      "outputs": [],
      "source": [
        "rotated = tf.image.rot90(image)\n",
        "visualize(image, rotated)"
      ]
    },
    {
      "cell_type": "markdown",
      "metadata": {
        "colab_type": "text",
        "id": "bomBnFWp9895"
      },
      "source": [
        "### <div dir=\"rtl\">اقتصاص الصورة في المنتصف</div>\n",
        "\n",
        "<div dir=\"rtl\">\n",
        "\n",
        "قم باقتصاص الصورة في المنتصف إلى الحدّ الذّي تريده بالطريقة التّالية:\n",
        "\n",
        "</div>"
      ]
    },
    {
      "cell_type": "code",
      "execution_count": 0,
      "metadata": {
        "colab": {},
        "colab_type": "code",
        "id": "fvgz_6t21dq2"
      },
      "outputs": [],
      "source": [
        "cropped = tf.image.central_crop(image, central_fraction=0.5)\n",
        "visualize(image,cropped)"
      ]
    },
    {
      "cell_type": "markdown",
      "metadata": {
        "colab_type": "text",
        "id": "8W5E_c7o-H96"
      },
      "source": [
        "<div dir=\"rtl\">\n",
        "\n",
        "أنظر في تفاصيل دليل حزمة الوظائف \n",
        "`tf.image`\n",
        "للتعرّف على المزيد من تقنيات\n",
        "تكثير البيانات.\n",
        "\n",
        "</div>"
      ]
    },
    {
      "cell_type": "markdown",
      "metadata": {
        "colab_type": "text",
        "id": "92lBGZSQ-1Tx"
      },
      "source": [
        "## <div dir=\"rtl\">قم بتكثير مجموعة بيانات ثمّ درّب نموذجًا عليها</div>"
      ]
    },
    {
      "cell_type": "markdown",
      "metadata": {
        "colab_type": "text",
        "id": "lrDez4xIX9Ss"
      },
      "source": [
        "<div dir=\"rtl\">\n",
        "\n",
        "نعرض في التّالي كيفية تدريب نموذج على مجموعة بيانات مكثّرة.\n",
        "\n",
        "Note:\n",
        "المشكل الذيّ سنقوم بحلّه هنا هو مُصطنع نوعا ما. \n",
        "فنحن ندرّب نموذج شبكة عصبية ، ذي طبقات متّصلة بالكامل \n",
        "، ليكون\n",
        "أداءه جيّدا و ثابتا أمام التغييرات التي قد تطرئ على صورة ما\n",
        "(shift invariant).\n",
        "بالنسبة للنماذج التي تتعلّم من الصّور، من الأفضل \n",
        "  استخدام الطبقات التلافيفية \n",
        "  (convolution layers)\n",
        "  بدلاً من الطبقات المتّصلة بالكامل.\n",
        "</div>"
      ]
    },
    {
      "cell_type": "code",
      "execution_count": 0,
      "metadata": {
        "colab": {},
        "colab_type": "code",
        "id": "mazlEonS_gTR"
      },
      "outputs": [],
      "source": [
        "dataset, info =  tfds.load('mnist', as_supervised=True, with_info=True)\n",
        "train_dataset, test_dataset = dataset['train'], dataset['test']\n",
        "\n",
        "num_train_examples= info.splits['train'].num_examples"
      ]
    },
    {
      "cell_type": "markdown",
      "metadata": {
        "colab_type": "text",
        "id": "011caOa0YCz5"
      },
      "source": [
        "<div dir=\"rtl\">\n",
        "\n",
        "اكتب الوظيفة التّالية ، \n",
        "`augment` ،\n",
        "لتكثير الصّور. \n",
        "ثم قم باستعمالها على مجموعة البيانات.\n",
        "بهذه الطريقة يمكننا تكثير البيانات \n",
        "على الطاير.\n",
        "\n",
        "</div>"
      ]
    },
    {
      "cell_type": "code",
      "execution_count": 0,
      "metadata": {
        "colab": {},
        "colab_type": "code",
        "id": "3oaSV5QcDS8p"
      },
      "outputs": [],
      "source": [
        "def convert(image, label):\n",
        "  image = tf.image.convert_image_dtype(image, tf.float32) # Cast and normalize the image to [0,1]\n",
        "  return image, label\n",
        "\n",
        "def augment(image,label):\n",
        "  image,label = convert(image, label)\n",
        "  image = tf.image.convert_image_dtype(image, tf.float32) # Cast and normalize the image to [0,1]\n",
        "  image = tf.image.resize_with_crop_or_pad(image, 34, 34) # Add 6 pixels of padding\n",
        "  image = tf.image.random_crop(image, size=[28, 28, 1]) # Random crop back to 28x28\n",
        "  image = tf.image.random_brightness(image, max_delta=0.5) # Random brightness\n",
        "\n",
        "  return image,label"
      ]
    },
    {
      "cell_type": "code",
      "execution_count": 0,
      "metadata": {
        "colab": {},
        "colab_type": "code",
        "id": "xNROtM5uqSjg"
      },
      "outputs": [],
      "source": [
        "BATCH_SIZE = 64\n",
        "# Only use a subset of the data so it's easier to overfit, for this tutorial\n",
        "NUM_EXAMPLES = 2048"
      ]
    },
    {
      "cell_type": "markdown",
      "metadata": {
        "colab_type": "text",
        "id": "dEq0VnUIy-8l"
      },
      "source": [
        "<div dir=\"rtl\">\n",
        "\n",
        "أنشئ مجموعة البيانات المكثّرة\n",
        "\n",
        "</div>"
      ]
    },
    {
      "cell_type": "code",
      "execution_count": 0,
      "metadata": {
        "colab": {},
        "colab_type": "code",
        "id": "jWJpV6JOqN_7"
      },
      "outputs": [],
      "source": [
        "augmented_train_batches = (\n",
        "    train_dataset\n",
        "    # Only train on a subset, so you can quickly see the effect.\n",
        "    .take(NUM_EXAMPLES)\n",
        "    .cache()\n",
        "    .shuffle(num_train_examples//4)\n",
        "    # The augmentation is added here.\n",
        "    .map(augment, num_parallel_calls=AUTOTUNE)\n",
        "    .batch(BATCH_SIZE)\n",
        "    .prefetch(AUTOTUNE)\n",
        ") "
      ]
    },
    {
      "cell_type": "markdown",
      "metadata": {
        "colab_type": "text",
        "id": "PGm5X_77zE3q"
      },
      "source": [
        "<div dir=\"rtl\">\n",
        "\n",
        "و أنشئ مجموعة بيانات غير مُكثّرة للمقارنة.\n",
        "\n",
        "</div>"
      ]
    },
    {
      "cell_type": "code",
      "execution_count": 0,
      "metadata": {
        "colab": {},
        "colab_type": "code",
        "id": "td4yU920qOgU"
      },
      "outputs": [],
      "source": [
        "non_augmented_train_batches = (\n",
        "    train_dataset\n",
        "    # Only train on a subset, so you can quickly see the effect.\n",
        "    .take(NUM_EXAMPLES)\n",
        "    .cache()\n",
        "    .shuffle(num_train_examples//4)\n",
        "    # No augmentation.\n",
        "    .map(convert, num_parallel_calls=AUTOTUNE)\n",
        "    .batch(BATCH_SIZE)\n",
        "    .prefetch(AUTOTUNE)\n",
        ") "
      ]
    },
    {
      "cell_type": "markdown",
      "metadata": {
        "colab_type": "text",
        "id": "zkLkgEudzKfc"
      },
      "source": [
        "<div dir=\"rtl\">\n",
        "\n",
        "جهّز مجموعة\n",
        "**بيانات التحقُّق**\n",
        "(validation set).\n",
        "هذه الخطوة لا تتغير إن استخدمت عمليّة تكثير البيانات أم لا. \n",
        "\n",
        "</div>"
      ]
    },
    {
      "cell_type": "code",
      "execution_count": 0,
      "metadata": {
        "colab": {},
        "colab_type": "code",
        "id": "6eqKD4zOqpvE"
      },
      "outputs": [],
      "source": [
        "validation_batches = (\n",
        "    test_dataset\n",
        "    .map(convert, num_parallel_calls=AUTOTUNE)\n",
        "    .batch(2*BATCH_SIZE)\n",
        ")"
      ]
    },
    {
      "cell_type": "markdown",
      "metadata": {
        "colab_type": "text",
        "id": "Yi9TIwR-ZIOi"
      },
      "source": [
        "<div dir=\"rtl\">\n",
        "\n",
        "أنشئ و جمّع\n",
        "(compile)\n",
        "النموذج.\n",
        "يتكوّن نموذج الشبكة العصبيّة من طبقتين متّصلتين بالكامل.\n",
        "للتبسيط ، لا نستعمل في هذا النموذج طبقة تلافيفية\n",
        "(convolution layer). \n",
        "\n",
        "</div>\n"
      ]
    },
    {
      "cell_type": "code",
      "execution_count": 0,
      "metadata": {
        "colab": {},
        "colab_type": "code",
        "id": "hHhkA4Q0CsHx"
      },
      "outputs": [],
      "source": [
        "def make_model():\n",
        "  model = tf.keras.Sequential([\n",
        "      layers.Flatten(input_shape=(28, 28, 1)),\n",
        "      layers.Dense(4096, activation='relu'),\n",
        "      layers.Dense(4096, activation='relu'),\n",
        "      layers.Dense(10)\n",
        "  ])\n",
        "  model.compile(optimizer = 'adam',\n",
        "                loss=tf.losses.SparseCategoricalCrossentropy(from_logits=True),\n",
        "                metrics=['accuracy'])\n",
        "  return model"
      ]
    },
    {
      "cell_type": "markdown",
      "metadata": {
        "colab_type": "text",
        "id": "P0rciou3ZWwy"
      },
      "source": [
        "<div dir=\"rtl\">\n",
        "\n",
        "درّب النموذج \n",
        "**من دون**\n",
        "تكثير:\n",
        "\n",
        "</div>"
      ]
    },
    {
      "cell_type": "code",
      "execution_count": 0,
      "metadata": {
        "colab": {},
        "colab_type": "code",
        "id": "z8X8CpqvNhG9"
      },
      "outputs": [],
      "source": [
        "model_without_aug = make_model()\n",
        "\n",
        "no_aug_history = model_without_aug.fit(non_augmented_train_batches, epochs=50, validation_data=validation_batches)"
      ]
    },
    {
      "cell_type": "markdown",
      "metadata": {
        "colab_type": "text",
        "id": "yH3LUd1prFWe"
      },
      "source": [
        "<div dir=\"rtl\">\n",
        "\n",
        "درّب النموذج باستعمال تكثير البيانات:\n",
        "\n",
        "</div>"
      ]
    },
    {
      "cell_type": "code",
      "execution_count": 0,
      "metadata": {
        "colab": {},
        "colab_type": "code",
        "id": "z4RqS9FWrEiS"
      },
      "outputs": [],
      "source": [
        "model_with_aug = make_model()\n",
        "\n",
        "aug_history = model_with_aug.fit(augmented_train_batches, epochs=50, validation_data=validation_batches)"
      ]
    },
    {
      "cell_type": "markdown",
      "metadata": {
        "colab_type": "text",
        "id": "UEqeeNsHZaC5"
      },
      "source": [
        "## <div dir=\"rtl\">الإستنتاج :</div>\n",
        "\n",
        "<div dir=\"rtl\">\n",
        "\n",
        "  في هذا المثال، يبلغ النموذج المدربّ باستعمال البيانات المكثّرة\n",
        "(augmented data)\n",
        " درجة دقّة تقارب \n",
        "95%\n",
        "على بيانات التحقّق. \n",
        "هذا أعلى بقليل \n",
        "(+1%)\n",
        "من دقّة النموذج المدرّب من دون إستعمال تقنية تكثير \n",
        "البيانات\n",
        "(non-augmented data).\n",
        "\n",
        "</div>"
      ]
    },
    {
      "cell_type": "code",
      "execution_count": 0,
      "metadata": {
        "colab": {},
        "colab_type": "code",
        "id": "ZnkliKKm0VVw"
      },
      "outputs": [],
      "source": [
        "plotter = tfdocs.plots.HistoryPlotter()\n",
        "plotter.plot({\"Augmented\": aug_history, \"Non-Augmented\": no_aug_history}, metric = \"accuracy\")\n",
        "plt.title(\"Accuracy\")\n",
        "plt.ylim([0.75,1])"
      ]
    },
    {
      "cell_type": "markdown",
      "metadata": {
        "colab_type": "text",
        "id": "cAaUjNhI3j7k"
      },
      "source": [
        "<div dir=\"rtl\">\n",
        "\n",
        "أمّا بالنسبة لقيمة الخسارة، \n",
        "فمن الواضح أنّ النموذج المدرّب بدون تكثير\n",
        "يعاني من مشكلة الإفراط في التعلّم \n",
        "(overfitting). \n",
        "في المقابل ، النموذج المدربّ بالبيانات المكثّرة ، رغم أنّه أبطأ بعض الشئ ، \n",
        "إلاّ أنّه يُتِمُّ عمليّة التدريب بشكل صحيح\n",
        "و لا يعاني من مشكلة الإفراط في التعلّم. \n",
        "\n",
        "</div>\n"
      ]
    },
    {
      "cell_type": "code",
      "execution_count": 0,
      "metadata": {
        "colab": {},
        "colab_type": "code",
        "id": "1-dTZpc4zq0-"
      },
      "outputs": [],
      "source": [
        "plotter = tfdocs.plots.HistoryPlotter()\n",
        "plotter.plot({\"Augmented\": aug_history, \"Non-Augmented\": no_aug_history}, metric = \"loss\")\n",
        "plt.title(\"Loss\")\n",
        "plt.ylim([0,1])"
      ]
    }
  ],
  "metadata": {
    "accelerator": "GPU",
    "colab": {
      "collapsed_sections": [],
      "name": "data_augmentation.ipynb",
      "private_outputs": true,
      "provenance": [],
      "toc_visible": true
    },
    "kernelspec": {
      "display_name": "Python 3",
      "name": "python3"
    }
  },
  "nbformat": 4,
  "nbformat_minor": 0
}
