{
  "nbformat": 4,
  "nbformat_minor": 0,
  "metadata": {
    "accelerator": "GPU",
    "colab": {
      "name": "save_and_load.ipynb",
      "provenance": [],
      "private_outputs": true,
      "collapsed_sections": [],
      "toc_visible": true
    },
    "kernelspec": {
      "display_name": "Python 3",
      "name": "python3"
    }
  },
  "cells": [
    {
      "cell_type": "markdown",
      "metadata": {
        "colab_type": "text",
        "id": "g_nWetWWd_ns"
      },
      "source": [
        "##### Copyright 2019 The TensorFlow Authors."
      ]
    },
    {
      "cell_type": "code",
      "execution_count": 0,
      "metadata": {
        "cellView": "form",
        "colab": {},
        "colab_type": "code",
        "id": "2pHVBk_seED1"
      },
      "outputs": [],
      "source": [
        "#@title Licensed under the Apache License, Version 2.0 (the \"License\");\n",
        "# you may not use this file except in compliance with the License.\n",
        "# You may obtain a copy of the License at\n",
        "#\n",
        "# https://www.apache.org/licenses/LICENSE-2.0\n",
        "#\n",
        "# Unless required by applicable law or agreed to in writing, software\n",
        "# distributed under the License is distributed on an \"AS IS\" BASIS,\n",
        "# WITHOUT WARRANTIES OR CONDITIONS OF ANY KIND, either express or implied.\n",
        "# See the License for the specific language governing permissions and\n",
        "# limitations under the License."
      ]
    },
    {
      "cell_type": "code",
      "execution_count": 0,
      "metadata": {
        "cellView": "form",
        "colab": {},
        "colab_type": "code",
        "id": "N_fMsQ-N8I7j"
      },
      "outputs": [],
      "source": [
        "#@title MIT License\n",
        "#\n",
        "# Copyright (c) 2017 François Chollet\n",
        "#\n",
        "# Permission is hereby granted, free of charge, to any person obtaining a\n",
        "# copy of this software and associated documentation files (the \"Software\"),\n",
        "# to deal in the Software without restriction, including without limitation\n",
        "# the rights to use, copy, modify, merge, publish, distribute, sublicense,\n",
        "# and/or sell copies of the Software, and to permit persons to whom the\n",
        "# Software is furnished to do so, subject to the following conditions:\n",
        "#\n",
        "# The above copyright notice and this permission notice shall be included in\n",
        "# all copies or substantial portions of the Software.\n",
        "#\n",
        "# THE SOFTWARE IS PROVIDED \"AS IS\", WITHOUT WARRANTY OF ANY KIND, EXPRESS OR\n",
        "# IMPLIED, INCLUDING BUT NOT LIMITED TO THE WARRANTIES OF MERCHANTABILITY,\n",
        "# FITNESS FOR A PARTICULAR PURPOSE AND NONINFRINGEMENT. IN NO EVENT SHALL\n",
        "# THE AUTHORS OR COPYRIGHT HOLDERS BE LIABLE FOR ANY CLAIM, DAMAGES OR OTHER\n",
        "# LIABILITY, WHETHER IN AN ACTION OF CONTRACT, TORT OR OTHERWISE, ARISING\n",
        "# FROM, OUT OF OR IN CONNECTION WITH THE SOFTWARE OR THE USE OR OTHER\n",
        "# DEALINGS IN THE SOFTWARE."
      ]
    },
    {
      "cell_type": "markdown",
      "metadata": {
        "colab_type": "text",
        "id": "pZJ3uY9O17VN"
      },
      "source": [
        "# Salvar e Carregar Modelos"
      ]
    },
    {
      "cell_type": "markdown",
      "metadata": {
        "colab_type": "text",
        "id": "M4Ata7_wMul1"
      },
      "source": [
        "<table class=\"tfo-notebook-buttons\" align=\"left\">\n",
        "  <td>\n",
        "    <a target=\"_blank\" href=\"https://www.tensorflow.org/tutorials/keras/save_and_load\"><img src=\"https://www.tensorflow.org/images/tf_logo_32px.png\" />Ver em TensorFlow.org</a>\n",
        "  </td>\n",
        "  <td>\n",
        "    <a target=\"_blank\" href=\"https://colab.research.google.com/github/tensorflow/docs/blob/master/site/en/tutorials/keras/save_and_load.ipynb\"><img src=\"https://www.tensorflow.org/images/colab_logo_32px.png\" />Executar no Google Colab</a>\n",
        "  </td>\n",
        "  <td>\n",
        "    <a target=\"_blank\" href=\"https://github.com/tensorflow/docs/blob/master/site/en/tutorials/keras/save_and_load.ipynb\"><img src=\"https://www.tensorflow.org/images/GitHub-Mark-32px.png\" />Ver código fonte no GitHub</a>\n",
        "  </td>\n",
        "  <td>\n",
        "    <a href=\"https://storage.googleapis.com/tensorflow_docs/docs/site/en/tutorials/keras/save_and_load.ipynb\"><img src=\"https://www.tensorflow.org/images/download_logo_32px.png\" />Baixar notebook</a>\n",
        "  </td>\n",
        "</table>"
      ]
    },
    {
      "cell_type": "markdown",
      "metadata": {
        "colab_type": "text",
        "id": "mBdde4YJeJKF"
      },
      "source": [
        "Para recapitular: aqui estão as maneiras mais comuns de evitar o ajuste excessivo nas redes neurais:\n",
        "\n",
        "* Obtenha mais dados de treinamento.\n",
        "* Reduza a capacidade da rede.\n",
        "* Adicione regularização de peso.\n",
        "* Adicione desistência.\n",
        "\n",
        "O progresso do modelo pode ser salvo durante e após o treinamento. Isso significa que um modelo pode retomar de onde parou e evitar longos períodos de treinamento. Salvar também significa que você pode compartilhar seu modelo e outras pessoas podem recriar seu trabalho. Ao publicar modelos e técnicas de pesquisa, a maioria dos profissionais de aprendizado de máquina compartilha:\n",
        "\n",
        "* código para criar o modelo e\n",
        "* os pesos ou parâmetros treinados para o modelo\n",
        "\n",
        "O compartilhamento desses dados ajuda outras pessoas a entender como o modelo funciona e a experimentar com novos dados.\n",
        "\n",
        "Cuidado: Tenha cuidado com o código não confiável - os modelos TensorFlow são código. Consulte [Usando o TensorFlow com segurança] (https://github.com/tensorflow/tensorflow/blob/master/SECURITY.md) para obter detalhes.\n",
        "\n",
        "### Opções\n",
        "\n",
        "Existem diferentes maneiras de salvar os modelos do TensorFlow, dependendo da API que você está usando. Este guia usa [tf.keras] (https://www.tensorflow.org/guide/keras), uma API de alto nível para criar e treinar modelos no TensorFlow. Para outras abordagens, consulte o guia TensorFlow [Save and Restore] (https://www.tensorflow.org/guide/saved_model) ou [Saving in eager](https://www.tensorflow.org/guide/eager#object-based_saving)."
      ]
    },
    {
      "cell_type": "markdown",
      "metadata": {
        "colab_type": "text",
        "id": "xCUREq7WXgvg"
      },
      "source": [
        "## Configuração\n",
        "\n",
        "### Instalações e importações"
      ]
    },
    {
      "cell_type": "markdown",
      "metadata": {
        "colab_type": "text",
        "id": "7l0MiTOrXtNv"
      },
      "source": [
        "Instale e importe o TensorFlow e as dependências:"
      ]
    },
    {
      "cell_type": "code",
      "execution_count": 0,
      "metadata": {
        "colab": {},
        "colab_type": "code",
        "id": "RzIOVSdnMYyO"
      },
      "outputs": [],
      "source": [
        "try:\n",
        "  # %tensorflow_version only exists in Colab.\n",
        "  %tensorflow_version 2.x\n",
        "except Exception:\n",
        "  pass\n",
        "\n",
        "!pip install pyyaml h5py  # Necessário para salvar modelos em formato HDF5"
      ]
    },
    {
      "cell_type": "code",
      "execution_count": 0,
      "metadata": {
        "colab": {},
        "colab_type": "code",
        "id": "7Nm7Tyb-gRt-"
      },
      "outputs": [],
      "source": [
        "from __future__ import absolute_import, division, print_function, unicode_literals\n",
        "\n",
        "import os\n",
        "\n",
        "import tensorflow as tf\n",
        "from tensorflow import keras\n",
        "\n",
        "print(tf.version.VERSION)"
      ]
    },
    {
      "cell_type": "markdown",
      "metadata": {
        "colab_type": "text",
        "id": "SbGsznErXWt6"
      },
      "source": [
        "### Obtenha um exemplo de conjunto de dados\n",
        "\n",
        "Para demonstrar como salvar e carregar pesos, você usará o [MNIST dataset] (http://yann.lecun.com/exdb/mnist/). Para acelerar essas execuções, use os primeiros 1000 exemplos:"
      ]
    },
    {
      "cell_type": "code",
      "execution_count": 0,
      "metadata": {
        "colab": {},
        "colab_type": "code",
        "id": "9rGfFwE9XVwz"
      },
      "outputs": [],
      "source": [
        "(train_images, train_labels), (test_images, test_labels) = tf.keras.datasets.mnist.load_data()\n",
        "\n",
        "train_labels = train_labels[:1000]\n",
        "test_labels = test_labels[:1000]\n",
        "\n",
        "train_images = train_images[:1000].reshape(-1, 28 * 28) / 255.0\n",
        "test_images = test_images[:1000].reshape(-1, 28 * 28) / 255.0"
      ]
    },
    {
      "cell_type": "markdown",
      "metadata": {
        "colab_type": "text",
        "id": "anG3iVoXyZGI"
      },
      "source": [
        "### Definir um modelo"
      ]
    },
    {
      "cell_type": "markdown",
      "metadata": {
        "colab_type": "text",
        "id": "wynsOBfby0Pa"
      },
      "source": [
        "Comece criando um modelo seqüencial simples:"
      ]
    },
    {
      "cell_type": "code",
      "execution_count": 0,
      "metadata": {
        "colab": {},
        "colab_type": "code",
        "id": "0HZbJIjxyX1S"
      },
      "outputs": [],
      "source": [
        "# Definindo um modelo sequencial simples\n",
        "def create_model():\n",
        "  model = tf.keras.models.Sequential([\n",
        "    keras.layers.Dense(512, activation='relu', input_shape=(784,)),\n",
        "    keras.layers.Dropout(0.2),\n",
        "    keras.layers.Dense(10, activation='softmax')\n",
        "  ])\n",
        "\n",
        "  model.compile(optimizer='adam',\n",
        "                loss='sparse_categorical_crossentropy',\n",
        "                metrics=['accuracy'])\n",
        "\n",
        "  return model\n",
        "\n",
        "# Crie uma instância básica do modelo\n",
        "model = create_model()\n",
        "\n",
        "# Exibir a arquitetura do modelo\n",
        "model.summary()"
      ]
    },
    {
      "cell_type": "markdown",
      "metadata": {
        "colab_type": "text",
        "id": "soDE0W_KH8rG"
      },
      "source": [
        "## Salvar checkpoints durante o treinamento"
      ]
    },
    {
      "cell_type": "markdown",
      "metadata": {
        "colab_type": "text",
        "id": "mRyd5qQQIXZm"
      },
      "source": [
        "Você pode usar um modelo treinado sem precisar treiná-lo novamente ou pegar o treinamento de onde parou - caso o processo de treinamento tenha sido interrompido. O retorno de chamada `tf.keras.callbacks.ModelCheckpoint` permite salvar continuamente o modelo *durante* e *no final* do treinamento.\n",
        "\n",
        "### Uso de retorno de chamada no ponto de verificação\n",
        "\n",
        "Crie um retorno de chamada `tf.keras.callbacks.ModelCheckpoint` que economize pesos apenas durante o treinamento:"
      ]
    },
    {
      "cell_type": "code",
      "execution_count": 0,
      "metadata": {
        "colab": {},
        "colab_type": "code",
        "id": "IFPuhwntH8VH"
      },
      "outputs": [],
      "source": [
        "checkpoint_path = \"training_1/cp.ckpt\"\n",
        "checkpoint_dir = os.path.dirname(checkpoint_path)\n",
        "\n",
        "# Crie um retorno de chamada que salve os pesos do modelo\n",
        "cp_callback = tf.keras.callbacks.ModelCheckpoint(filepath=checkpoint_path,\n",
        "                                                 save_weights_only=True,\n",
        "                                                 verbose=1)\n",
        "\n",
        "# Treine o modelo com o novo retorno de chamada\n",
        "model.fit(train_images, \n",
        "          train_labels,  \n",
        "          epochs=10,\n",
        "          validation_data=(test_images,test_labels),\n",
        "          callbacks=[cp_callback])  # Pass callback to training\n",
        "\n",
        "# Isso pode gerar avisos relacionados ao salvamento do estado do otimizador.\n",
        "# Esses avisos (e avisos semelhantes em todo este notebook)\n",
        "# existem para desencorajar o uso desatualizado e podem ser ignorados."
      ]
    },
    {
      "cell_type": "markdown",
      "metadata": {
        "colab_type": "text",
        "id": "rlM-sgyJO084"
      },
      "source": [
        "Isso cria uma única coleção de arquivos de checkpoints do TensorFlow que são atualizados no final de cada época:"
      ]
    },
    {
      "cell_type": "code",
      "execution_count": 0,
      "metadata": {
        "colab": {},
        "colab_type": "code",
        "id": "gXG5FVKFOVQ3"
      },
      "outputs": [],
      "source": [
        "!ls {checkpoint_dir}"
      ]
    },
    {
      "cell_type": "markdown",
      "metadata": {
        "colab_type": "text",
        "id": "wlRN_f56Pqa9"
      },
      "source": [
        "Crie um novo modelo não treinado. Ao restaurar um modelo somente com pesos, você deve ter um modelo com a mesma arquitetura que o modelo original. Como é a mesma arquitetura de modelo, você pode compartilhar pesos, apesar de ser uma *instância* diferente do modelo.\n",
        "\n",
        "Agora reconstrua um modelo novo e não treinado e avalie-o no conjunto de testes. Um modelo não treinado terá desempenho em níveis de chance (~ 10% de precisão):"
      ]
    },
    {
      "cell_type": "code",
      "execution_count": 0,
      "metadata": {
        "colab": {},
        "colab_type": "code",
        "id": "Fp5gbuiaPqCT"
      },
      "outputs": [],
      "source": [
        "# Create a basic model instance\n",
        "model = create_model()\n",
        "\n",
        "# Evaluate the model\n",
        "loss, acc = model.evaluate(test_images,  test_labels, verbose=2)\n",
        "print(\"Untrained model, accuracy: {:5.2f}%\".format(100*acc))"
      ]
    },
    {
      "cell_type": "markdown",
      "metadata": {
        "colab_type": "text",
        "id": "1DTKpZssRSo3"
      },
      "source": [
        "Em seguida, carregue os pesos no ponto de verificação e reavalie:"
      ]
    },
    {
      "cell_type": "code",
      "execution_count": 0,
      "metadata": {
        "colab": {},
        "colab_type": "code",
        "id": "2IZxbwiRRSD2"
      },
      "outputs": [],
      "source": [
        "# Loads the weights\n",
        "model.load_weights(checkpoint_path)\n",
        "\n",
        "# Re-evaluate the model\n",
        "loss,acc = model.evaluate(test_images,  test_labels, verbose=2)\n",
        "print(\"Restored model, accuracy: {:5.2f}%\".format(100*acc))"
      ]
    },
    {
      "cell_type": "markdown",
      "metadata": {
        "colab_type": "text",
        "id": "bpAbKkAyVPV8"
      },
      "source": [
        "### Opções de retorno de chamada de checkpoints\n",
        "\n",
        "O retorno de chamada fornece várias opções para fornecer nomes exclusivos para checkpoints e ajustar a frequência do checkpoint.\n",
        "\n",
        "Treine um novo modelo e salve checkpoints com nomes exclusivos uma vez a cada cinco épocas:"
      ]
    },
    {
      "cell_type": "code",
      "execution_count": 0,
      "metadata": {
        "colab": {},
        "colab_type": "code",
        "id": "mQF_dlgIVOvq"
      },
      "outputs": [],
      "source": [
        "# Inclua a época no nome do arquivo (usa `str.format`)\n",
        "checkpoint_path = \"training_2/cp-{epoch:04d}.ckpt\"\n",
        "checkpoint_dir = os.path.dirname(checkpoint_path)\n",
        "\n",
        "# Crie um retorno de chamada que salve os pesos do modelo a cada 5 épocas\n",
        "cp_callback = tf.keras.callbacks.ModelCheckpoint(\n",
        "    filepath=checkpoint_path, \n",
        "    verbose=1, \n",
        "    save_weights_only=True,\n",
        "    period=5)\n",
        "\n",
        "# Crie uma nova instância de modelo\n",
        "model = create_model()\n",
        "\n",
        "# Salve os pesos usando o formato `checkpoint_path`\n",
        "model.save_weights(checkpoint_path.format(epoch=0))\n",
        "\n",
        "# Treine o modelo com o novo retorno de chamada\n",
        "model.fit(train_images, \n",
        "              train_labels,\n",
        "              epochs=50, \n",
        "              callbacks=[cp_callback],\n",
        "              validation_data=(test_images,test_labels),\n",
        "              verbose=0)"
      ]
    },
    {
      "cell_type": "markdown",
      "metadata": {
        "colab_type": "text",
        "id": "1zFrKTjjavWI"
      },
      "source": [
        "Agora, observe os pontos de verificação resultantes e escolha o mais recente:"
      ]
    },
    {
      "cell_type": "code",
      "execution_count": 0,
      "metadata": {
        "colab": {},
        "colab_type": "code",
        "id": "p64q3-V4sXt0"
      },
      "outputs": [],
      "source": [
        "!ls {checkpoint_dir}"
      ]
    },
    {
      "cell_type": "code",
      "execution_count": 0,
      "metadata": {
        "colab": {},
        "colab_type": "code",
        "id": "1AN_fnuyR41H"
      },
      "outputs": [],
      "source": [
        "latest = tf.train.latest_checkpoint(checkpoint_dir)\n",
        "latest"
      ]
    },
    {
      "cell_type": "markdown",
      "metadata": {
        "colab_type": "text",
        "id": "Zk2ciGbKg561"
      },
      "source": [
        "Nota: o formato padrão do tensorflow salva apenas os 5 checkpoints mais recentes.\n",
        "\n",
        "Para testar, redefina o modelo e carregue o checkpoint mais recente:"
      ]
    },
    {
      "cell_type": "code",
      "execution_count": 0,
      "metadata": {
        "colab": {},
        "colab_type": "code",
        "id": "3M04jyK-H3QK"
      },
      "outputs": [],
      "source": [
        "# Create a new model instance\n",
        "model = create_model()\n",
        "\n",
        "# Load the previously saved weights\n",
        "model.load_weights(latest)\n",
        "\n",
        "# Re-evaluate the model\n",
        "loss, acc = model.evaluate(test_images,  test_labels, verbose=2)\n",
        "print(\"Restored model, accuracy: {:5.2f}%\".format(100*acc))"
      ]
    },
    {
      "cell_type": "markdown",
      "metadata": {
        "colab_type": "text",
        "id": "c2OxsJOTHxia"
      },
      "source": [
        "## Quais são esses arquivos?"
      ]
    },
    {
      "cell_type": "markdown",
      "metadata": {
        "colab_type": "text",
        "id": "JtdYhvWnH2ib"
      },
      "source": [
        "O código acima armazena os pesos em uma coleção de arquivos formatados [https://www.tensorflow.org/guide/saved_model#save_and_restore_variables) que contêm apenas os pesos treinados em um formato binário. Os pontos de verificação contêm:\n",
        "* Um ou mais fragmentos que contêm os pesos do seu modelo.\n",
        "* Um arquivo de índice que indica quais pesos estão armazenados em um shard.\n",
        "\n",
        "Se você estiver treinando apenas um modelo em uma única máquina, terá um fragmento com o sufixo: `.data-00000-of-00001`"
      ]
    },
    {
      "cell_type": "markdown",
      "metadata": {
        "colab_type": "text",
        "id": "S_FA-ZvxuXQV"
      },
      "source": [
        "## Salvar manualmente pesos\n",
        "\n",
        "Você viu como carregar os pesos em um modelo. Salvar manualmente é tão simples quanto o método `Model.save_weights`. Por padrão, `tf.keras` - e `save_weights` em particular - usa o formato TensorFlow [Checkpoint] (../../guide/checkpoint.ipynb) com uma extensão `.ckpt` (salvando em [HDF5]) (https://js.tensorflow.org/tutorials/import-keras.html) com uma extensão `.h5` é abordada em [Salvar e serializar modelos] (../../guide/keras/save_and_serialize#weights-only_saving_in_savedmodel_format):"
      ]
    },
    {
      "cell_type": "code",
      "execution_count": 0,
      "metadata": {
        "colab": {},
        "colab_type": "code",
        "id": "R7W5plyZ-u9X"
      },
      "outputs": [],
      "source": [
        "# Salvar pesos\n",
        "model.save_weights('./checkpoints/my_checkpoint')\n",
        "\n",
        "# Criar nova instancia do modelo\n",
        "model = create_model()\n",
        "\n",
        "# Restaurar os pesos\n",
        "model.load_weights('./checkpoints/my_checkpoint')\n",
        "\n",
        "# Avaliar o modelo\n",
        "loss,acc = model.evaluate(test_images,  test_labels, verbose=2)\n",
        "print(\"Restored model, accuracy: {:5.2f}%\".format(100*acc))"
      ]
    },
    {
      "cell_type": "markdown",
      "metadata": {
        "colab_type": "text",
        "id": "kOGlxPRBEvV1"
      },
      "source": [
        "## Salve o modelo inteiro\n",
        "\n",
        "Ligue para [`model.save`] (https://www.tensorflow.org/api_docs/python/tf/keras/Model#save) para salvar a arquitetura, pesos e configuração de treinamento de um modelo em um único arquivo/pasta. Isso permite exportar um modelo para que ele possa ser usado sem acesso ao código* Python original. Como o estado do otimizador é recuperado, você pode retomar o treinamento exatamente de onde parou.\n",
        "\n",
        "Salvar um modelo totalmente funcional é muito útil - você pode carregá-lo no TensorFlow.js ([HDF5] (https://js.tensorflow.org/tutorials/import-keras.html), [Modelo salvo] (https: / /js.tensorflow.org/tutorials/import-saved-model.html)) e depois treiná-los e executá-los em navegadores da Web ou convertê-los para rodar em dispositivos móveis usando o TensorFlow Lite ([HDF5] (https: // www. tensorflow.org/lite/convert/python_api#exporting_a_tfkeras_file_), [Modelo salvo] (https://www.tensorflow.org/lite/convert/python_api#exporting_a_savedmodel_))\n",
        "\n",
        "*Objetos personalizados (por exemplo, modelos ou camadas subclasses) requerem atenção especial ao salvar e carregar. Consulte a seção **Salvando objetos personalizados** abaixo"
      ]
    },
    {
      "cell_type": "markdown",
      "metadata": {
        "colab_type": "text",
        "id": "SkGwf-50zLNn"
      },
      "source": [
        "### Formato HDF5\n",
        "\n",
        "O Keras fornece um formato básico de salvamento usando o padrão [HDF5] (https://en.wikipedia.org/wiki/Hierarchical_Data_Format)."
      ]
    },
    {
      "cell_type": "code",
      "execution_count": 0,
      "metadata": {
        "colab": {},
        "colab_type": "code",
        "id": "m2dkmJVCGUia"
      },
      "outputs": [],
      "source": [
        "# Criar e treinar uma nova instancia de modelo\n",
        "model = create_model()\n",
        "model.fit(train_images, train_labels, epochs=5)\n",
        "\n",
        "# Salvar o modelo inteiro.\n",
        "# A extensão '.h5' indica que o modelo será salvo em HDF5.\n",
        "model.save('my_model.h5') "
      ]
    },
    {
      "cell_type": "markdown",
      "metadata": {
        "colab_type": "text",
        "id": "GWmttMOqS68S"
      },
      "source": [
        "Agora, recrie o modelo a partir do arquivo:"
      ]
    },
    {
      "cell_type": "code",
      "execution_count": 0,
      "metadata": {
        "colab": {},
        "colab_type": "code",
        "id": "5NDMO_7kS6Do"
      },
      "outputs": [],
      "source": [
        "# Recriar o modelo incluindo seus pesos e otimizador\n",
        "new_model = tf.keras.models.load_model('my_model.h5')\n",
        "\n",
        "# Mostrar a arquitetura do modelo\n",
        "new_model.summary()"
      ]
    },
    {
      "cell_type": "markdown",
      "metadata": {
        "colab_type": "text",
        "id": "JXQpbTicTBwt"
      },
      "source": [
        "Verificar a acurácia:"
      ]
    },
    {
      "cell_type": "code",
      "execution_count": 0,
      "metadata": {
        "colab": {},
        "colab_type": "code",
        "id": "jwEaj9DnTCVA"
      },
      "outputs": [],
      "source": [
        "loss, acc = new_model.evaluate(test_images,  test_labels, verbose=2)\n",
        "print('Restored model, accuracy: {:5.2f}%'.format(100*acc))"
      ]
    },
    {
      "cell_type": "markdown",
      "metadata": {
        "colab_type": "text",
        "id": "dGXqd4wWJl8O"
      },
      "source": [
        "Essa técnica salva tudo:\n",
        "\n",
        "* Os valores de peso\n",
        "* A configuração do modelo (arquitetura)\n",
        "* A configuração do otimizador\n",
        "\n",
        "Keras salva modelos inspecionando a arquitetura. Atualmente, não é possível salvar os otimizadores do TensorFlow (do `tf.train`). Ao usá-los, você precisará recompilar o modelo após o carregamento e perderá o estado do otimizador.\n"
      ]
    },
    {
      "cell_type": "markdown",
      "metadata": {
        "colab_type": "text",
        "id": "kPyhgcoVzqUB"
      },
      "source": [
        "### Formato SavedModel"
      ]
    },
    {
      "cell_type": "markdown",
      "metadata": {
        "colab_type": "text",
        "id": "LtcN4VIb7JkK"
      },
      "source": [
        "O formato SavedModel é outra maneira de serializar modelos. Os modelos salvos neste formato podem ser restaurados usando o `tf.keras.models.load_model` e são compatíveis com o TensorFlow Serving. O [guia SavedModel] (https://www.tensorflow.org/guide/saved_model) detalha como servir/inspecionar o SavedModel. A seção abaixo ilustra as etapas para salvar e restaurar o modelo."
      ]
    },
    {
      "cell_type": "code",
      "execution_count": 0,
      "metadata": {
        "colab": {},
        "colab_type": "code",
        "id": "sI1YvCDFzpl3"
      },
      "outputs": [],
      "source": [
        "# Criar e treinar uma nova instância do modelo.\n",
        "model = create_model()\n",
        "model.fit(train_images, train_labels, epochs=5)\n",
        "\n",
        "# Salvar o modelo inteiro com SavedModel.\n",
        "!mkdir -p saved_model\n",
        "model.save('saved_model/my_model') "
      ]
    },
    {
      "cell_type": "markdown",
      "metadata": {
        "colab_type": "text",
        "id": "iUvT_3qE8hV5"
      },
      "source": [
        "O formato SavedModel é um diretório que contém um binário protobuf e um checkpoint Tensorflow. Inspecione o diretório do modelo salvo:"
      ]
    },
    {
      "cell_type": "code",
      "execution_count": 0,
      "metadata": {
        "colab": {},
        "colab_type": "code",
        "id": "sq8fPglI1RWA"
      },
      "outputs": [],
      "source": [
        "# diretório my_model\n",
        "!ls saved_model\n",
        "\n",
        "# Contém uma pasta de ativos, saved_model.pb e pasta de variáveis.\n",
        "!ls saved_model/my_model"
      ]
    },
    {
      "cell_type": "markdown",
      "metadata": {
        "colab_type": "text",
        "id": "B7qfpvpY9HCe"
      },
      "source": [
        "Recarregue um novo modelo Keras a partir do modelo salvo:"
      ]
    },
    {
      "cell_type": "code",
      "execution_count": 0,
      "metadata": {
        "colab": {},
        "colab_type": "code",
        "id": "0YofwHdN0pxa"
      },
      "outputs": [],
      "source": [
        "new_model = tf.keras.models.load_model('saved_model/my_model')\n",
        "\n",
        "# Verifique a arquitetura\n",
        "new_model.summary()"
      ]
    },
    {
      "cell_type": "markdown",
      "metadata": {
        "colab_type": "text",
        "id": "uWwgNaz19TH2"
      },
      "source": [
        "O modelo restaurado é compilado com os mesmos argumentos que o modelo original. Tente executar avaliar e prever com o modelo carregado:"
      ]
    },
    {
      "cell_type": "code",
      "execution_count": 0,
      "metadata": {
        "colab": {},
        "colab_type": "code",
        "id": "Yh5Mu0yOgE5J"
      },
      "outputs": [],
      "source": [
        "# Avaliando o modelo restaurado\n",
        "loss, acc = new_model.evaluate(test_images,  test_labels, verbose=2)\n",
        "print('Restored model, accuracy: {:5.2f}%'.format(100*acc))\n",
        "\n",
        "print(new_model.predict(test_images).shape)"
      ]
    },
    {
      "cell_type": "markdown",
      "metadata": {
        "colab_type": "text",
        "id": "kAUKJQyGqTNH"
      },
      "source": [
        "### Salvando objetos personalizados\n",
        "\n",
        "Se você estiver usando o formato SavedModel, poderá pular esta seção. A principal diferença entre HDF5 e SavedModel é que o HDF5 usa configurações de objetos para salvar a arquitetura do modelo, enquanto SavedModel salva o grafo de execução. Assim, SavedModels podem salvar objetos personalizados, como modelos subclassificados e camadas personalizadas, sem exigir o código original.\n",
        "\n",
        "Para salvar objetos personalizados no HDF5, faça o seguinte:\n",
        "\n",
        "1. Defina um método `get_config` no seu objeto e, opcionalmente, um método de classe `from_config`.\n",
        "  * `get_config (self)` retorna um dicionário serializável em JSON de parâmetros necessários para recriar o objeto.\n",
        "  * `from_config (cls, config)` usa a configuração retornada de `get_config` para criar um novo objeto. Por padrão, esta função usará a configuração como kwargs de inicialização (`return cls (** config)`).\n",
        "2. Passe o objeto para o argumento `custom_objects` ao carregar o modelo. O argumento deve ser um dicionário que mapeie o nome da classe de string para a classe Python. Por exemplo. `tf.keras.models.load_model (caminho, custom_objects = {'CustomLayer': CustomLayer})`\n",
        "\n",
        "Veja o tutorial [Escrevendo camadas e modelos do zero] (https://www.tensorflow.org/guide/keras/custom_layers_and_models) para obter exemplos de objetos personalizados e `get_config`.\n"
      ]
    }
  ]
}