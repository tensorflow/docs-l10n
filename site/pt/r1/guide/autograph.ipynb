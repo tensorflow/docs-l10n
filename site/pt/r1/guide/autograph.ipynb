{
  "cells": [
    {
      "cell_type": "markdown",
      "metadata": {
        "colab_type": "text",
        "id": "Jxv6goXm7oGF"
      },
      "source": [
        "##### Copyright 2018 The TensorFlow Authors.\n",
        "\n",
        "Licensed under the Apache License, Version 2.0 (the \"License\");"
      ]
    },
    {
      "cell_type": "code",
      "execution_count": 0,
      "metadata": {
        "colab": {},
        "colab_type": "code",
        "id": "llMNufAK7nfK"
      },
      "outputs": [],
      "source": [
        "#@title Licensed under the Apache License, Version 2.0 (the \"License\"); { display-mode: \"form\" }\n",
        "# you may not use this file except in compliance with the License.\n",
        "# You may obtain a copy of the License at\n",
        "#\n",
        "# https://www.apache.org/licenses/LICENSE-2.0\n",
        "#\n",
        "# Unless required by applicable law or agreed to in writing, software\n",
        "# distributed under the License is distributed on an \"AS IS\" BASIS,\n",
        "# WITHOUT WARRANTIES OR CONDITIONS OF ANY KIND, either express or implied.\n",
        "# See the License for the specific language governing permissions and\n",
        "# limitations under the License."
      ]
    },
    {
      "cell_type": "markdown",
      "metadata": {
        "colab_type": "text",
        "id": "8Byow2J6LaPl"
      },
      "source": [
        "# AutoGraph: Fácil Controle para Fluxos de Grafos"
      ]
    },
    {
      "cell_type": "markdown",
      "metadata": {
        "colab_type": "text",
        "id": "kGXS3UWBBNoc"
      },
      "source": [
        "<table class=\"tfo-notebook-buttons\" align=\"left\">\n",
        "  <td>\n",
        "    <a target=\"_blank\" href=\"https://colab.research.google.com/github/tensorflow/docs/blob/master/site/en/r1/guide/autograph.ipynb\"><img src=\"https://www.tensorflow.org/images/colab_logo_32px.png\" />Executar em Google Colab</a>\n",
        "  </td>\n",
        "  <td>\n",
        "    <a target=\"_blank\" href=\"https://github.com/tensorflow/docs/blob/master/site/en/r1/guide/autograph.ipynb\"><img src=\"https://www.tensorflow.org/images/GitHub-Mark-32px.png\" />Visualizar no GitHub</a>\n",
        "  </td>\n",
        "</table>"
      ]
    },
    {
      "cell_type": "markdown",
      "metadata": {
        "colab_type": "text",
        "id": "CydFK2CL7ZHA"
      },
      "source": [
        "[AutoGraph](https://github.com/tensorflow/tensorflow/blob/master/tensorflow/python/autograph/) helps you write complicated graph code using normal Python. Behind the scenes, AutoGraph automatically transforms your code into the equivalent [TensorFlow graph code](https://www.tensorflow.org/r1/guide/graphs). AutoGraph already supports much of the Python language, and that coverage continues to grow. For a list of supported Python language features, see the [Autograph capabilities and limitations](https://github.com/tensorflow/tensorflow/blob/master/tensorflow/python/autograph/g3doc/reference/limitations.md)."
      ]
    },
    {
      "cell_type": "markdown",
      "metadata": {
        "colab_type": "text",
        "id": "n4EKOpw9mObL"
      },
      "source": [
        "## Configuração\n",
        "\n",
        "Importar TensorFlow, AutoGraph, e alguns módulos de suporte:"
      ]
    },
    {
      "cell_type": "code",
      "execution_count": 0,
      "metadata": {
        "colab": {},
        "colab_type": "code",
        "id": "794l9aK_BjFq"
      },
      "outputs": [],
      "source": [
        "from __future__ import absolute_import, division, print_function, unicode_literals\n",
        "\n",
        "try:\n",
        "  # %tensorflow_version only exists in Colab.\n",
        "  %tensorflow_version 2.x\n",
        "except Exception:\n",
        "  pass\n",
        "import tensorflow.compat.v1 as tf"
      ]
    },
    {
      "cell_type": "code",
      "execution_count": 0,
      "metadata": {
        "colab": {},
        "colab_type": "code",
        "id": "mT7meGqrZTz9"
      },
      "outputs": [],
      "source": [
        "layers = tf.keras.layers\n",
        "\n",
        "import numpy as np\n",
        "import matplotlib.pyplot as plt"
      ]
    },
    {
      "cell_type": "markdown",
      "metadata": {
        "colab_type": "text",
        "id": "Hh1PajmUJMNp"
      },
      "source": [
        "Vamos habilitar a  [execução ansiosa](https://www.tensorflow.org/r1/guide/eager) para demonstração de propósitos, mas o AutoGraph trabalha em ambos, [execução de grafo](https://www.tensorflow.org/r1/guide/graphs) ambientes:"
      ]
    },
    {
      "cell_type": "markdown",
      "metadata": {
        "colab_type": "text",
        "id": "WR4lG3hsuWQT"
      },
      "source": [
        "Nota: O código convertido do AutoGraph foi projetado para ser executado durante a execução do grafo. Quando a execução ansiosa estiver ativada, use grafos explícitos (como mostra este exemplo) ou `tf.contrib.eager.defun`."
      ]
    },
    {
      "cell_type": "markdown",
      "metadata": {
        "colab_type": "text",
        "id": "ohbSnA79mcJV"
      },
      "source": [
        "## Converter automaticamente o fluxo de controle Python\n",
        "\n",
        "O AutoGraph converterá grande parte da linguagem Python no código de construção de grafo TensorFlow equivalente.\n",
        "\n",
        "Nota: Em aplicativos reais, o lote é essencial para o desempenho. O melhor código para converter em AutoGraph é o código em que o fluxo de controle é decidido no nível _batch_. Ao tomar decisões no nível _exemplo_ individual, você deve indexar e agrupar os exemplos para manter o desempenho enquanto aplica a lógica do fluxo de controle.\n",
        "\n",
        "O AutoGraph converte uma função como:"
      ]
    },
    {
      "cell_type": "code",
      "execution_count": 0,
      "metadata": {
        "colab": {},
        "colab_type": "code",
        "id": "aA3gOodCBkOw"
      },
      "outputs": [],
      "source": [
        "def square_if_positive(x):\n",
        "  if x > 0:\n",
        "    x = x * x\n",
        "  else:\n",
        "    x = 0.0\n",
        "  return x"
      ]
    },
    {
      "cell_type": "markdown",
      "metadata": {
        "colab_type": "text",
        "id": "LICw4XQFZrhH"
      },
      "source": [
        "Para uma função que usa construção de grafo:"
      ]
    },
    {
      "cell_type": "code",
      "execution_count": 0,
      "metadata": {
        "colab": {},
        "colab_type": "code",
        "id": "_EMhGUjRZoKQ"
      },
      "outputs": [],
      "source": [
        "print(tf.autograph.to_code(square_if_positive))"
      ]
    },
    {
      "cell_type": "markdown",
      "metadata": {
        "colab_type": "text",
        "id": "xpK0m4TCvkJq"
      },
      "source": [
        "O código escrito para execução rápida pode ser executado em um `tf.Graph` com os mesmos resultados, mas com os benefícios da execução do grafo:"
      ]
    },
    {
      "cell_type": "code",
      "execution_count": 0,
      "metadata": {
        "colab": {},
        "colab_type": "code",
        "id": "I1RtBvoKBxq5"
      },
      "outputs": [],
      "source": [
        "print('Eager results: %2.2f, %2.2f' % (square_if_positive(tf.constant(9.0)),\n",
        "                                       square_if_positive(tf.constant(-9.0))))"
      ]
    },
    {
      "cell_type": "markdown",
      "metadata": {
        "colab_type": "text",
        "id": "Fpk3MxVVv5gn"
      },
      "source": [
        "Gere uma versão gráfica e chame-a:"
      ]
    },
    {
      "cell_type": "code",
      "execution_count": 0,
      "metadata": {
        "colab": {},
        "colab_type": "code",
        "id": "SGjSq0WQvwGs"
      },
      "outputs": [],
      "source": [
        "tf_square_if_positive = tf.autograph.to_graph(square_if_positive)\n",
        "\n",
        "with tf.Graph().as_default():\n",
        "  # The result works like a regular op: takes tensors in, returns tensors.\n",
        "  # You can inspect the graph using tf.get_default_graph().as_graph_def()\n",
        "  g_out1 = tf_square_if_positive(tf.constant( 9.0))\n",
        "  g_out2 = tf_square_if_positive(tf.constant(-9.0))\n",
        "  with tf.Session() as sess:\n",
        "    print('Graph results: %2.2f, %2.2f\\n' % (sess.run(g_out1), sess.run(g_out2)))"
      ]
    },
    {
      "cell_type": "markdown",
      "metadata": {
        "colab_type": "text",
        "id": "m-jWmsCmByyw"
      },
      "source": [
        "O AutoGraph suporta instruções Python comuns como `while`,` for`, `if`,` break` e `return`, com suporte para aninhamento. Compare esta função com a versão gráfica complicada exibida nos seguintes blocos de código:"
      ]
    },
    {
      "cell_type": "code",
      "execution_count": 0,
      "metadata": {
        "colab": {},
        "colab_type": "code",
        "id": "toxKBOXbB1ro"
      },
      "outputs": [],
      "source": [
        "# Continue in a loop\n",
        "def sum_even(items):\n",
        "  s = 0\n",
        "  for c in items:\n",
        "    if c % 2 > 0:\n",
        "      continue\n",
        "    s += c\n",
        "  return s\n",
        "\n",
        "print('Eager result: %d' % sum_even(tf.constant([10,12,15,20])))\n",
        "\n",
        "tf_sum_even = tf.autograph.to_graph(sum_even)\n",
        "\n",
        "with tf.Graph().as_default(), tf.Session() as sess:\n",
        "    print('Graph result: %d\\n\\n' % sess.run(tf_sum_even(tf.constant([10,12,15,20]))))"
      ]
    },
    {
      "cell_type": "code",
      "execution_count": 0,
      "metadata": {
        "colab": {},
        "colab_type": "code",
        "id": "jlyQgxYsYSXr"
      },
      "outputs": [],
      "source": [
        "print(tf.autograph.to_code(sum_even))"
      ]
    },
    {
      "cell_type": "markdown",
      "metadata": {
        "colab_type": "text",
        "id": "FUJJ-WTdCGeq"
      },
      "source": [
        "## tf.function\n",
        "\n",
        "Use o decorador `tf.function`:"
      ]
    },
    {
      "cell_type": "code",
      "execution_count": 0,
      "metadata": {
        "colab": {},
        "colab_type": "code",
        "id": "BKhFNXDic4Mw"
      },
      "outputs": [],
      "source": [
        "@tf.function(\n",
        "    experimental_autograph_options=tf.autograph.experimental.Feature.EQUALITY_OPERATORS)\n",
        "def fizzbuzz(i, n):\n",
        "  while i < n:\n",
        "    msg = ''\n",
        "    if i % 3 == 0:\n",
        "      msg += 'Fizz'\n",
        "    if i % 5 == 0:\n",
        "      msg += 'Buzz'\n",
        "    if msg == '':\n",
        "      msg = tf.as_string(i)\n",
        "    tf.print(msg)\n",
        "    i += 1\n",
        "  return i\n",
        "\n",
        "with tf.Graph().as_default():\n",
        "  final_i = fizzbuzz(tf.constant(10), tf.constant(16))\n",
        "  # The result works like a regular op: takes tensors in, returns tensors.\n",
        "  # You can inspect the graph using tf.get_default_graph().as_graph_def()\n",
        "  with tf.Session() as sess:\n",
        "    sess.run(final_i)\n",
        "\n"
      ]
    },
    {
      "cell_type": "markdown",
      "metadata": {
        "colab_type": "text",
        "id": "-pkEH6OecW7h"
      },
      "source": [
        "## Examplos\n",
        "\n",
        "Vamos demonstrar alguns recursos úteis da linguagem Python.\n"
      ]
    },
    {
      "cell_type": "markdown",
      "metadata": {
        "colab_type": "text",
        "id": "axoRAkWi0CQG"
      },
      "source": [
        "### Assert\n",
        "\n",
        "O AutoGraph pode converter automaticamente a instrução `assert` do Python para o código `tf.Assert` equivalente:"
      ]
    },
    {
      "cell_type": "code",
      "execution_count": 0,
      "metadata": {
        "colab": {},
        "colab_type": "code",
        "id": "IAOgh62zCPZ4"
      },
      "outputs": [],
      "source": [
        "@tf.function(\n",
        "    experimental_autograph_options=(\n",
        "        tf.autograph.experimental.Feature.ASSERT_STATEMENTS,\n",
        "        tf.autograph.experimental.Feature.EQUALITY_OPERATORS))\n",
        "def inverse(x):\n",
        "  assert x != 0.0, 'Do not pass zero!'\n",
        "  return 1.0 / x\n",
        "\n",
        "with tf.Graph().as_default(), tf.Session() as sess:\n",
        "  try:\n",
        "    print(sess.run(inverse(tf.constant(0.0))))\n",
        "  except tf.errors.InvalidArgumentError as e:\n",
        "    print('Got error message:\\n    %s' % e.message)"
      ]
    },
    {
      "cell_type": "markdown",
      "metadata": {
        "colab_type": "text",
        "id": "1UYgrNtCV9p7"
      },
      "source": [
        "### Print\n",
        "\n",
        "Opcionalmente, você pode usar a função `print` do Python no grafo, quando combinada com o gerenciamento automático de dependências de controle do` tf.function`:"
      ]
    },
    {
      "cell_type": "code",
      "execution_count": 0,
      "metadata": {
        "colab": {},
        "colab_type": "code",
        "id": "ehBac9rUR6nh"
      },
      "outputs": [],
      "source": [
        "@tf.function(\n",
        "    experimental_autograph_options=tf.autograph.experimental.Feature.BUILTIN_FUNCTIONS)\n",
        "def count(n):\n",
        "  i = 0\n",
        "  while i < n:\n",
        "    print(i)\n",
        "    i += 1\n",
        "  return n\n",
        "\n",
        "with tf.Graph().as_default(), tf.Session() as sess:\n",
        "    sess.run(count(tf.constant(5)))"
      ]
    },
    {
      "cell_type": "markdown",
      "metadata": {
        "colab_type": "text",
        "id": "mtpegD_YR6HK"
      },
      "source": [
        "### Listas\n",
        "\n",
        "Anexar às listas em loops (as operações da lista de tensores são criadas automaticamente):"
      ]
    },
    {
      "cell_type": "code",
      "execution_count": 0,
      "metadata": {
        "colab": {},
        "colab_type": "code",
        "id": "ABX070KwCczR"
      },
      "outputs": [],
      "source": [
        "@tf.function(\n",
        "    experimental_autograph_options=tf.autograph.experimental.Feature.LISTS)\n",
        "def arange(n):\n",
        "  z = tf.TensorArray(tf.int32, size=0, dynamic_size=True)\n",
        "\n",
        "  for i in tf.range(n):\n",
        "    z.append(i)\n",
        "\n",
        "  return z.stack()\n",
        "\n",
        "\n",
        "with tf.Graph().as_default(), tf.Session() as sess:\n",
        "    print(sess.run(arange(tf.constant(10))))"
      ]
    },
    {
      "cell_type": "markdown",
      "metadata": {
        "colab_type": "text",
        "id": "qj7am2I_xvTJ"
      },
      "source": [
        "### Fluxo de controle aninhado"
      ]
    },
    {
      "cell_type": "code",
      "execution_count": 0,
      "metadata": {
        "colab": {},
        "colab_type": "code",
        "id": "4yyNOf-Twr6s"
      },
      "outputs": [],
      "source": [
        "@tf.function(\n",
        "    experimental_autograph_options=tf.autograph.experimental.Feature.EQUALITY_OPERATORS)\n",
        "def nearest_odd_square(x):\n",
        "  if x > 0:\n",
        "    x = x * x\n",
        "    if x % 2 == 0:\n",
        "      x = x + 1\n",
        "  return x\n",
        "\n",
        "with tf.Graph().as_default():\n",
        "  with tf.Session() as sess:\n",
        "    print(sess.run(nearest_odd_square(tf.constant(4))))\n",
        "    print(sess.run(nearest_odd_square(tf.constant(5))))\n",
        "    print(sess.run(nearest_odd_square(tf.constant(6))))"
      ]
    },
    {
      "cell_type": "markdown",
      "metadata": {
        "colab_type": "text",
        "id": "jXAxjeBr1qWK"
      },
      "source": [
        "### Laço While"
      ]
    },
    {
      "cell_type": "code",
      "execution_count": 0,
      "metadata": {
        "colab": {},
        "colab_type": "code",
        "id": "ucmZyQVL03bF"
      },
      "outputs": [],
      "source": [
        "@tf.function\n",
        "def square_until_stop(x, y):\n",
        "  while x < y:\n",
        "    x = x * x\n",
        "  return x\n",
        "\n",
        "with tf.Graph().as_default():\n",
        "  with tf.Session() as sess:\n",
        "    print(sess.run(square_until_stop(tf.constant(4), tf.constant(100))))"
      ]
    },
    {
      "cell_type": "markdown",
      "metadata": {
        "colab_type": "text",
        "id": "3N1mz7sNY87N"
      },
      "source": [
        "### Laço For"
      ]
    },
    {
      "cell_type": "code",
      "execution_count": 0,
      "metadata": {
        "colab": {},
        "colab_type": "code",
        "id": "CFk2fszrY8af"
      },
      "outputs": [],
      "source": [
        "@tf.function(\n",
        "    experimental_autograph_options=tf.autograph.experimental.Feature.LISTS)\n",
        "def squares(nums):\n",
        "\n",
        "  result = tf.TensorArray(tf.int64, size=0, dynamic_size=True)\n",
        "  \n",
        "  for num in nums:\n",
        "    result.append(num * num)\n",
        "\n",
        "  return result.stack()\n",
        "\n",
        "with tf.Graph().as_default():\n",
        "  with tf.Session() as sess:\n",
        "    print(sess.run(squares(tf.constant(np.arange(10)))))"
      ]
    },
    {
      "cell_type": "markdown",
      "metadata": {
        "colab_type": "text",
        "id": "FXB0Zbwl13PY"
      },
      "source": [
        "### Break"
      ]
    },
    {
      "cell_type": "code",
      "execution_count": 0,
      "metadata": {
        "colab": {},
        "colab_type": "code",
        "id": "1sjaFcL717Ig"
      },
      "outputs": [],
      "source": [
        "@tf.function\n",
        "def argwhere_cumsum(x, threshold):\n",
        "  current_sum = 0.0\n",
        "  idx = 0\n",
        "  for i in tf.range(len(x)):\n",
        "    idx = i\n",
        "    if current_sum >= threshold:\n",
        "      break\n",
        "    current_sum += x[i]\n",
        "  return idx\n",
        "\n",
        "N = 10\n",
        "with tf.Graph().as_default():\n",
        "  with tf.Session() as sess:\n",
        "    idx = argwhere_cumsum(tf.ones(N), tf.constant(float(N/2)))\n",
        "    print(sess.run(idx))"
      ]
    },
    {
      "cell_type": "markdown",
      "metadata": {
        "colab_type": "text",
        "id": "LW3nMVABOGaN"
      },
      "source": [
        "## Interoperação com `tf.Keras`\n",
        "\n",
        "É fácil integrar `tf.autograph` com `tf.keras`."
      ]
    },
    {
      "cell_type": "markdown",
      "metadata": {
        "colab_type": "text",
        "id": "LHpr4VlWPEiS"
      },
      "source": [
        "### Funções sem estado\n",
        "\n",
        "Para funções sem estado, como `collatz` mostrado abaixo, a maneira mais fácil de incluí-los em um modelo keras é envolvê-los como uma camada usando `tf.keras.layers.Lambda`."
      ]
    },
    {
      "cell_type": "code",
      "execution_count": 0,
      "metadata": {
        "colab": {},
        "colab_type": "code",
        "id": "c1O12C8FOE5U"
      },
      "outputs": [],
      "source": [
        "import numpy as np\n",
        "\n",
        "@tf.function(\n",
        "    experimental_autograph_options=(\n",
        "        tf.autograph.experimental.Feature.ASSERT_STATEMENTS,\n",
        "        tf.autograph.experimental.Feature.EQUALITY_OPERATORS,\n",
        "        ))\n",
        "def collatz(x):\n",
        "  x = tf.reshape(x,())\n",
        "  assert x > 0\n",
        "  n = tf.convert_to_tensor((0,))\n",
        "  while x != 1:\n",
        "    n += 1\n",
        "    if x % 2 == 0:\n",
        "      x = x // 2\n",
        "    else:\n",
        "      x = 3 * x + 1\n",
        "\n",
        "  return n\n",
        "\n",
        "with tf.Graph().as_default():\n",
        "  model = tf.keras.Sequential([\n",
        "    tf.keras.layers.Lambda(collatz, input_shape=(1,), output_shape=())\n",
        "  ])\n",
        "\n",
        "  result = model.predict(np.array([6171]))\n",
        "  print(result)"
      ]
    },
    {
      "cell_type": "markdown",
      "metadata": {
        "colab_type": "text",
        "id": "neKBM7AfOEv8"
      },
      "source": [
        "### Customização Avançada de Modelos\n",
        "\n",
        "<!--TODO(markdaoust) link to full examples  or these referenced models.-->\n",
        "\n",
        "Para subclasses de modelos Keras, a maneira mais fácil é converter o método `call '. Consulte o [Guia TensorFlow Keras] (https://tensorflow.org/r1/guide/keras#build_advanced_models) para obter detalhes sobre como desenvolver essas classes.\n",
        "\n",
        "Aqui está um exemplo simples da técnica [profundidade da rede estocástica] (https://arxiv.org/abs/1603.09382):"
      ]
    },
    {
      "cell_type": "code",
      "execution_count": 0,
      "metadata": {
        "colab": {},
        "colab_type": "code",
        "id": "E2_tocmEOEWF"
      },
      "outputs": [],
      "source": [
        "# `K` is used to check if we're in train or test mode.\n",
        "K = tf.keras.backend\n",
        "\n",
        "class StochasticNetworkDepth(tf.keras.Sequential):\n",
        "  def __init__(self, layers, pfirst=1.0, plast=0.5,**kwargs):\n",
        "    self.pfirst = pfirst\n",
        "    self.plast = plast\n",
        "    super(StochasticNetworkDepth, self).__init__(layers,**kwargs)\n",
        "\n",
        "  def build(self, input_shape):\n",
        "    self.depth = len(self.layers)\n",
        "    self.plims = np.linspace(self.pfirst, self.plast, self.depth + 1)[:-1]\n",
        "    super(StochasticNetworkDepth, self).build(input_shape.as_list())\n",
        "\n",
        "  def call(self, inputs):\n",
        "    training = tf.cast(K.learning_phase(), dtype=bool)\n",
        "    if not training:\n",
        "      count = self.depth\n",
        "      return super(StochasticNetworkDepth, self).call(inputs), count\n",
        "\n",
        "    p = tf.random_uniform((self.depth,))\n",
        "\n",
        "    keeps = (p <= self.plims)\n",
        "    x = inputs\n",
        "\n",
        "    count = tf.reduce_sum(tf.cast(keeps, tf.int32))\n",
        "    for i in range(self.depth):\n",
        "      if keeps[i]:\n",
        "        x = self.layers[i](x)\n",
        "\n",
        "    # return both the final-layer output and the number of layers executed.\n",
        "    return x, count\n",
        "\n",
        "StochasticNetworkDepth.call = tf.autograph.to_graph(StochasticNetworkDepth.call)"
      ]
    },
    {
      "cell_type": "markdown",
      "metadata": {
        "colab_type": "text",
        "id": "ZbCzHrKlOEOR"
      },
      "source": [
        "Vamos tentar com dados em forma de mnist:"
      ]
    },
    {
      "cell_type": "code",
      "execution_count": 0,
      "metadata": {
        "colab": {},
        "colab_type": "code",
        "id": "rxahwlVfOELA"
      },
      "outputs": [],
      "source": [
        "train_batch = np.random.randn(64, 28, 28, 1).astype(np.float32)"
      ]
    },
    {
      "cell_type": "markdown",
      "metadata": {
        "colab_type": "text",
        "id": "y3_hw-qPOEH9"
      },
      "source": [
        "Crie uma pilha simples de camadas `conv`, no modelo de profundidade estocástica:"
      ]
    },
    {
      "cell_type": "code",
      "execution_count": 0,
      "metadata": {
        "colab": {},
        "colab_type": "code",
        "id": "2NiXFOO6OEE1"
      },
      "outputs": [],
      "source": [
        "with tf.Graph().as_default() as g:\n",
        "  model = StochasticNetworkDepth(\n",
        "      [\n",
        "        layers.Conv2D(filters=16, activation=tf.nn.relu,\n",
        "                  kernel_size=(3, 3), padding='same')\n",
        "        for n in range(20)\n",
        "      ],\n",
        "      pfirst=1.0, plast=0.5\n",
        "  )\n",
        "\n",
        "  model.build(tf.TensorShape((None, None, None, 1)))\n",
        "\n",
        "  init = tf.global_variables_initializer()"
      ]
    },
    {
      "cell_type": "markdown",
      "metadata": {
        "colab_type": "text",
        "id": "uM3g_v7mvrkg"
      },
      "source": [
        "Agora teste-o para garantir que ele se comporte conforme o esperado nos modos de trem e teste:"
      ]
    },
    {
      "cell_type": "code",
      "execution_count": 0,
      "metadata": {
        "colab": {},
        "colab_type": "code",
        "id": "7tdmuh5Zvm3D"
      },
      "outputs": [],
      "source": [
        "# Use an explicit session here so we can set the train/test switch, and\n",
        "# inspect the layer count returned by `call`\n",
        "with tf.Session(graph=g) as sess:\n",
        "  init.run()\n",
        "\n",
        "  for phase, name in enumerate(['test','train']):\n",
        "    K.set_learning_phase(phase)\n",
        "    result, count = model(tf.convert_to_tensor(train_batch, dtype=tf.float32))\n",
        "\n",
        "    result1, count1 = sess.run((result, count))\n",
        "    result2, count2 = sess.run((result, count))\n",
        "\n",
        "    delta = (result1 - result2)\n",
        "    print(name, \"sum abs delta: \", abs(delta).mean())\n",
        "    print(\"    layers 1st call: \", count1)\n",
        "    print(\"    layers 2nd call: \", count2)\n",
        "    print()"
      ]
    },
    {
      "cell_type": "markdown",
      "metadata": {
        "colab_type": "text",
        "id": "4LfnJjm0Bm0B"
      },
      "source": [
        "## Exemplo avançado: um loop de treinamento no grafo\n",
        "\n",
        "A seção anterior mostrou que o AutoGraph pode ser usado dentro de camadas e modelos de Keras. Os modelos Keras também podem ser usados no código de AutoGraph.\n",
        "\n",
        "Como o fluxo de controle de gravação no AutoGraph é fácil, a execução de um ciclo de treinamento em um grafo TensorFlow também deve ser fácil.\n",
        "\n",
        "Este exemplo mostra como treinar um modelo Keras simples no MNIST com todo o processo de treinamento - carregamento de lotes, cálculo de gradientes, atualização de parâmetros, cálculo da precisão da validação e repetição até a convergência - é realizado no grafo."
      ]
    },
    {
      "cell_type": "markdown",
      "metadata": {
        "colab_type": "text",
        "id": "Em5dzSUOtLRP"
      },
      "source": [
        "### Download dos dados"
      ]
    },
    {
      "cell_type": "code",
      "execution_count": 0,
      "metadata": {
        "colab": {},
        "colab_type": "code",
        "id": "xqoxumv0ssQW"
      },
      "outputs": [],
      "source": [
        "(train_images, train_labels), (test_images, test_labels) = tf.keras.datasets.mnist.load_data()"
      ]
    },
    {
      "cell_type": "markdown",
      "metadata": {
        "colab_type": "text",
        "id": "znmy4l8ntMvW"
      },
      "source": [
        "### Definição do Modelo"
      ]
    },
    {
      "cell_type": "code",
      "execution_count": 0,
      "metadata": {
        "colab": {},
        "colab_type": "code",
        "id": "Pe-erWQdBoC5"
      },
      "outputs": [],
      "source": [
        "def mlp_model(input_shape):\n",
        "  model = tf.keras.Sequential((\n",
        "      tf.keras.layers.Dense(100, activation='relu', input_shape=input_shape),\n",
        "      tf.keras.layers.Dense(100, activation='relu'),\n",
        "      tf.keras.layers.Dense(10, activation='softmax')))\n",
        "  model.build()\n",
        "  return model\n",
        "\n",
        "\n",
        "def predict(m, x, y):\n",
        "  x = tf.to_float(x) / 255.0\n",
        "  y = tf.one_hot(tf.squeeze(y), 10)\n",
        "  y_p = m(tf.reshape(x, (-1, 28 * 28)))\n",
        "  losses = tf.keras.losses.categorical_crossentropy(y, y_p)\n",
        "  l = tf.reduce_mean(losses)\n",
        "  accuracies = tf.keras.metrics.categorical_accuracy(y, y_p)\n",
        "  accuracy = tf.reduce_mean(accuracies)\n",
        "  return l, accuracy\n",
        "\n",
        "\n",
        "def fit(m, x, y, opt):\n",
        "  l, accuracy = predict(m, x, y)\n",
        "  # Autograph automatically adds the necessary `tf.control_dependencies` here.\n",
        "  # (Without them nothing depends on `opt.minimize`, so it doesn't run.)\n",
        "  # This makes it much more like eager-code.\n",
        "  opt.minimize(l)\n",
        "  return l, accuracy\n",
        "\n",
        "\n",
        "def setup_mnist_data(is_training, batch_size):\n",
        "  if is_training:\n",
        "    ds = tf.data.Dataset.from_tensor_slices((train_images, train_labels))\n",
        "    ds = ds.shuffle(batch_size * 10)\n",
        "  else:\n",
        "    ds = tf.data.Dataset.from_tensor_slices((test_images, test_labels))\n",
        "\n",
        "  ds = ds.repeat()\n",
        "  ds = ds.batch(batch_size)\n",
        "  return ds\n"
      ]
    },
    {
      "cell_type": "markdown",
      "metadata": {
        "colab_type": "text",
        "id": "oeYV6mKnJGMr"
      },
      "source": [
        "### Definição do laço de treinamento"
      ]
    },
    {
      "cell_type": "code",
      "execution_count": 0,
      "metadata": {
        "colab": {},
        "colab_type": "code",
        "id": "3xtg_MMhJETd"
      },
      "outputs": [],
      "source": [
        "def train(train_ds, test_ds, learning_rate, max_steps):\n",
        "  m = mlp_model((28 * 28,))\n",
        "  opt = tf.train.AdamOptimizer(learning_rate)\n",
        "\n",
        "  train_losses = tf.TensorArray(tf.float32, size=0, dynamic_size=True, element_shape=())\n",
        "  test_losses = tf.TensorArray(tf.float32, size=0, dynamic_size=True, element_shape=())\n",
        "  train_accuracies = tf.TensorArray(tf.float32, size=0, dynamic_size=True, element_shape=())\n",
        "  test_accuracies = tf.TensorArray(tf.float32, size=0, dynamic_size=True, element_shape=())\n",
        "\n",
        "  # This entire training loop will be run in-graph.\n",
        "  i = tf.constant(0)\n",
        "  for (train_x, train_y), (test_x, test_y) in tf.data.Dataset.zip((train_ds, test_ds)):\n",
        "    step_train_loss, step_train_accuracy = fit(m, train_x, train_y, opt)\n",
        "    step_test_loss, step_test_accuracy = predict(m, test_x, test_y)\n",
        "    if i % 50 == 0:\n",
        "      print('Step', i, 'train loss:', step_train_loss, 'test loss:',\n",
        "            step_test_loss, 'train accuracy:', step_train_accuracy,\n",
        "            'test accuracy:', step_test_accuracy)\n",
        "    train_losses.append(step_train_loss)\n",
        "    test_losses.append(step_test_loss)\n",
        "    train_accuracies.append(step_train_accuracy)\n",
        "    test_accuracies.append(step_test_accuracy)\n",
        "\n",
        "    i += 1\n",
        "    if i >= max_steps:\n",
        "      break\n",
        "\n",
        "  # We've recorded our loss values and accuracies\n",
        "  # to a list in a graph with AutoGraph's help.\n",
        "  # In order to return the values as a Tensor,\n",
        "  # we need to stack them before returning them.\n",
        "  return (train_losses.stack(), test_losses.stack(),\n",
        "          train_accuracies.stack(), test_accuracies.stack())\n",
        "  \n",
        "train = tf.autograph.to_graph(\n",
        "    train,\n",
        "    experimental_optional_features=(\n",
        "        tf.autograph.experimental.Feature.LISTS,\n",
        "        tf.autograph.experimental.Feature.BUILTIN_FUNCTIONS,\n",
        "        tf.autograph.experimental.Feature.EQUALITY_OPERATORS,\n",
        "        tf.autograph.experimental.Feature.AUTO_CONTROL_DEPS))\n"
      ]
    },
    {
      "cell_type": "markdown",
      "metadata": {
        "colab_type": "text",
        "id": "IsHLDZniauLV"
      },
      "source": [
        "Agora construa o grafo e execute o ciclo de treinamento:"
      ]
    },
    {
      "cell_type": "code",
      "execution_count": 0,
      "metadata": {
        "colab": {},
        "colab_type": "code",
        "id": "HYh6MSZyJOag"
      },
      "outputs": [],
      "source": [
        "with tf.Graph().as_default() as g:\n",
        "  learning_rate = 0.005\n",
        "  max_steps=500\n",
        "\n",
        "  train_ds = setup_mnist_data(True, 50)\n",
        "  test_ds = setup_mnist_data(False, 1000)\n",
        "  (train_losses, test_losses, train_accuracies,\n",
        "   test_accuracies) = train(train_ds, test_ds, learning_rate, max_steps)\n",
        "\n",
        "  init = tf.global_variables_initializer()\n",
        "\n",
        "with tf.Session(graph=g) as sess:\n",
        "  sess.run(init)\n",
        "  (train_losses, test_losses, train_accuracies,\n",
        "   test_accuracies) = sess.run([train_losses, test_losses, train_accuracies,\n",
        "                                test_accuracies])\n"
      ]
    },
    {
      "cell_type": "code",
      "execution_count": 0,
      "metadata": {
        "colab": {},
        "colab_type": "code",
        "id": "JzifaV9PGnH6"
      },
      "outputs": [],
      "source": [
        "plt.title('MNIST train/test losses')\n",
        "plt.plot(train_losses, label='train loss')\n",
        "plt.plot(test_losses, label='test loss')\n",
        "plt.legend()\n",
        "plt.xlabel('Training step')\n",
        "plt.ylabel('Loss')\n",
        "plt.show()\n",
        "plt.title('MNIST train/test accuracies')\n",
        "plt.plot(train_accuracies, label='train accuracy')\n",
        "plt.plot(test_accuracies, label='test accuracy')\n",
        "plt.legend(loc='lower right')\n",
        "plt.xlabel('Training step')\n",
        "plt.ylabel('Accuracy')\n",
        "plt.show()"
      ]
    }
  ],
  "metadata": {
    "colab": {
      "collapsed_sections": [],
      "name": "autograph.ipynb",
      "private_outputs": true,
      "provenance": [],
      "toc_visible": true,
      "version": "0.3.2"
    },
    "kernelspec": {
      "display_name": "Python 3",
      "name": "python3"
    }
  },
  "nbformat": 4,
  "nbformat_minor": 0
}