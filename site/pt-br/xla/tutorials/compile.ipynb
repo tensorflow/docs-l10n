{
  "cells": [
    {
      "cell_type": "markdown",
      "metadata": {
        "id": "f4TSNCvpENrW"
      },
      "source": [
        "##### Copyright 2019 The TensorFlow Authors."
      ]
    },
    {
      "cell_type": "code",
      "execution_count": null,
      "metadata": {
        "cellView": "form",
        "id": "vamNSA0vEP-m"
      },
      "outputs": [],
      "source": [
        "#@title Licensed under the Apache License, Version 2.0 (the \"License\");\n",
        "# you may not use this file except in compliance with the License.\n",
        "# You may obtain a copy of the License at\n",
        "#\n",
        "# https://www.apache.org/licenses/LICENSE-2.0\n",
        "#\n",
        "# Unless required by applicable law or agreed to in writing, software\n",
        "# distributed under the License is distributed on an \"AS IS\" BASIS,\n",
        "# WITHOUT WARRANTIES OR CONDITIONS OF ANY KIND, either express or implied.\n",
        "# See the License for the specific language governing permissions and\n",
        "# limitations under the License."
      ]
    },
    {
      "cell_type": "markdown",
      "metadata": {
        "id": "e1oSi4lHFt3z"
      },
      "source": [
        "# Usando XLA com tf.function"
      ]
    },
    {
      "cell_type": "markdown",
      "metadata": {
        "id": "b7noD9NjFRL-"
      },
      "source": [
        "<table class=\"tfo-notebook-buttons\" align=\"left\">\n",
        "  <td>     <a target=\"_blank\" href=\"https://www.tensorflow.org/xla/tutorials/compile\"><img src=\"https://www.tensorflow.org/images/tf_logo_32px.png\">Ver em TensorFlow.org</a>\n",
        "</td>\n",
        "  <td>     <a target=\"_blank\" href=\"https://colab.research.google.com/github/tensorflow/docs-l10n/blob/master/site/pt-br/xla/tutorials/compile.ipynb\"><img src=\"https://www.tensorflow.org/images/colab_logo_32px.png\">Executar no Google Colab</a>\n",
        "</td>\n",
        "  <td>     <a href=\"https://storage.googleapis.com/tensorflow_docs/docs-l10n/site/pt-br/xla/tutorials/compile.ipynb\"><img src=\"https://www.tensorflow.org/images/download_logo_32px.png\">Baixar notebook</a>\n",
        "</td>\n",
        "  <td>     <a target=\"_blank\" href=\"https://github.com/tensorflow/docs-l10n/blob/master/site/pt-br/xla/tutorials/compile.ipynb\"><img src=\"https://www.tensorflow.org/images/GitHub-Mark-32px.png\">Ver fonte no GitHub</a>\n",
        "</td>\n",
        "</table>"
      ]
    },
    {
      "cell_type": "markdown",
      "metadata": {
        "id": "sDy5lSBd4BDE"
      },
      "source": [
        "Este tutorial treina um modelo TensorFlow para classificar o dataset MNIST, onde a função de treinamento é compilada usando XLA.\n",
        "\n",
        "Primeiro, carregue o TensorFlow e habilite a execução eager."
      ]
    },
    {
      "cell_type": "code",
      "execution_count": null,
      "metadata": {
        "id": "45kUPj5ZFrRa"
      },
      "outputs": [],
      "source": [
        "import tensorflow as tf\n"
      ]
    },
    {
      "cell_type": "markdown",
      "metadata": {
        "id": "GZVNiRmTDV-5"
      },
      "source": [
        "Em seguida, defina algumas constantes necessárias e prepare o dataset MNIST."
      ]
    },
    {
      "cell_type": "code",
      "execution_count": null,
      "metadata": {
        "id": "f37TSEGvGX4_"
      },
      "outputs": [],
      "source": [
        "# Size of each input image, 28 x 28 pixels\n",
        "IMAGE_SIZE = 28 * 28\n",
        "# Number of distinct number labels, [0..9]\n",
        "NUM_CLASSES = 10\n",
        "# Number of examples in each training batch (step)\n",
        "TRAIN_BATCH_SIZE = 100\n",
        "# Number of training steps to run\n",
        "TRAIN_STEPS = 1000\n",
        "\n",
        "# Loads MNIST dataset.\n",
        "train, test = tf.keras.datasets.mnist.load_data()\n",
        "train_ds = tf.data.Dataset.from_tensor_slices(train).batch(TRAIN_BATCH_SIZE).repeat()\n",
        "\n",
        "# Casting from raw data to the required datatypes.\n",
        "def cast(images, labels):\n",
        "  images = tf.cast(\n",
        "      tf.reshape(images, [-1, IMAGE_SIZE]), tf.float32)\n",
        "  labels = tf.cast(labels, tf.int64)\n",
        "  return (images, labels)"
      ]
    },
    {
      "cell_type": "markdown",
      "metadata": {
        "id": "lv7I-u_82v1S"
      },
      "source": [
        "Por fim, defina o modelo e o otimizador. O modelo usa uma única camada densa."
      ]
    },
    {
      "cell_type": "code",
      "execution_count": null,
      "metadata": {
        "id": "7O2NcEfG206Q"
      },
      "outputs": [],
      "source": [
        "layer = tf.keras.layers.Dense(NUM_CLASSES)\n",
        "optimizer = tf.keras.optimizers.Adam()"
      ]
    },
    {
      "cell_type": "markdown",
      "metadata": {
        "id": "x_ZehpZP-SfS"
      },
      "source": [
        "# Defina a função de treinamento\n",
        "\n",
        "Na função de treinamento, você obtém os rótulos previstos usando a camada definida acima e, em seguida, minimiza o gradiente de perda usando o otimizador. Para compilar a computação usando XLA, coloque-a dentro de `tf.function` com `jit_compile=True`."
      ]
    },
    {
      "cell_type": "code",
      "execution_count": null,
      "metadata": {
        "id": "ZbhJl_WvGa3g"
      },
      "outputs": [],
      "source": [
        "@tf.function(experimental_compile=True)\n",
        "def train_mnist(images, labels):\n",
        "    images, labels = cast(images, labels)\n",
        "\n",
        "    with tf.GradientTape() as tape:\n",
        "      predicted_labels = layer(images)\n",
        "      loss = tf.reduce_mean(tf.nn.sparse_softmax_cross_entropy_with_logits(\n",
        "          logits=predicted_labels, labels=labels\n",
        "      ))\n",
        "    layer_variables = layer.trainable_variables\n",
        "    grads = tape.gradient(loss, layer_variables)\n",
        "    optimizer.apply_gradients(zip(grads, layer_variables))"
      ]
    },
    {
      "cell_type": "markdown",
      "metadata": {
        "id": "EZD1m_n1DxAF"
      },
      "source": [
        "# Treine e teste o modelo"
      ]
    },
    {
      "cell_type": "markdown",
      "metadata": {
        "id": "gukC2Hol3sFZ"
      },
      "source": [
        "Depois de definir a função de treinamento, defina o modelo."
      ]
    },
    {
      "cell_type": "code",
      "execution_count": null,
      "metadata": {
        "id": "qe28bAHNHUG2"
      },
      "outputs": [],
      "source": [
        "for images, labels in train_ds:\n",
        "  if optimizer.iterations > TRAIN_STEPS:\n",
        "    break\n",
        "  train_mnist(images, labels)"
      ]
    },
    {
      "cell_type": "markdown",
      "metadata": {
        "id": "qgsKmz3n2UiW"
      },
      "source": [
        "E, finalmente, verifique a exatidão:"
      ]
    },
    {
      "cell_type": "code",
      "execution_count": null,
      "metadata": {
        "id": "_GxF6jTRHVuA"
      },
      "outputs": [],
      "source": [
        "images, labels = cast(test[0], test[1])\n",
        "predicted_labels = layer(images)\n",
        "correct_prediction = tf.equal(tf.argmax(predicted_labels, 1), labels)\n",
        "accuracy = tf.reduce_mean(tf.cast(correct_prediction, tf.float32))\n",
        "print(\"Prediction accuracy after training: %s\" % accuracy)"
      ]
    },
    {
      "cell_type": "markdown",
      "metadata": {
        "id": "PXoOjJnuZRaV"
      },
      "source": [
        "Nos bastidores, o compilador XLA compilou toda a função TF para HLO, o que permitiu otimizações de fusão. Usando os recursos de introspecção, podemos ver o código HLO (outros valores possíveis interessantes para \"stage\" são `optimized_hlo` para HLO após otimizações e `optimized_hlo_dot` para um grafo Graphviz):"
      ]
    },
    {
      "cell_type": "code",
      "execution_count": null,
      "metadata": {
        "id": "_a8GsNLVaLSQ"
      },
      "outputs": [],
      "source": [
        "print(train_mnist.experimental_get_compiler_ir(images, labels)(stage='hlo'))"
      ]
    }
  ],
  "metadata": {
    "colab": {
      "collapsed_sections": [],
      "name": "compile.ipynb",
      "toc_visible": true
    },
    "kernelspec": {
      "display_name": "Python 3",
      "name": "python3"
    }
  },
  "nbformat": 4,
  "nbformat_minor": 0
}
