{
  "cells": [
    {
      "cell_type": "markdown",
      "metadata": {
        "id": "xLOXFOT5Q40E"
      },
      "source": [
        "##### Copyright 2020 The TensorFlow Authors."
      ]
    },
    {
      "cell_type": "code",
      "execution_count": null,
      "metadata": {
        "cellView": "form",
        "id": "iiQkM5ZgQ8r2"
      },
      "outputs": [],
      "source": [
        "#@title Licensed under the Apache License, Version 2.0 (the \"License\");\n",
        "# you may not use this file except in compliance with the License.\n",
        "# You may obtain a copy of the License at\n",
        "#\n",
        "# https://www.apache.org/licenses/LICENSE-2.0\n",
        "#\n",
        "# Unless required by applicable law or agreed to in writing, software\n",
        "# distributed under the License is distributed on an \"AS IS\" BASIS,\n",
        "# WITHOUT WARRANTIES OR CONDITIONS OF ANY KIND, either express or implied.\n",
        "# See the License for the specific language governing permissions and\n",
        "# limitations under the License."
      ]
    },
    {
      "cell_type": "markdown",
      "metadata": {
        "id": "j6331ZSsQGY3"
      },
      "source": [
        "# Calcule gradientes"
      ]
    },
    {
      "cell_type": "markdown",
      "metadata": {
        "id": "i9Jcnb8bQQyd"
      },
      "source": [
        "<table class=\"tfo-notebook-buttons\" align=\"left\">\n",
        "  <td>     <a target=\"_blank\" href=\"https://www.tensorflow.org/quantum/tutorials/gradients\"><img src=\"https://www.tensorflow.org/images/tf_logo_32px.png\">Ver em TensorFlow.org</a>\n",
        "</td>\n",
        "  <td>     <a target=\"_blank\" href=\"https://colab.research.google.com/github/tensorflow/docs-l10n/blob/master/site/pt-br/quantum/tutorials/gradients.ipynb\"><img src=\"https://www.tensorflow.org/images/colab_logo_32px.png\">Executar no Google Colab</a>\n",
        "</td>\n",
        "  <td>     <a target=\"_blank\" href=\"https://github.com/tensorflow/docs-l10n/blob/master/site/pt-br/quantum/tutorials/gradients.ipynb\"><img src=\"https://www.tensorflow.org/images/GitHub-Mark-32px.png\">Ver fonte no GitHub</a>\n",
        "</td>\n",
        "  <td>     <a href=\"https://storage.googleapis.com/tensorflow_docs/docs-l10n/site/pt-br/quantum/tutorials/gradients.ipynb\"><img src=\"https://www.tensorflow.org/images/download_logo_32px.png\">Baixar notebook</a>\n",
        "</td>\n",
        "</table>"
      ]
    },
    {
      "cell_type": "markdown",
      "metadata": {
        "id": "FxkQA6oblNqI"
      },
      "source": [
        "Este tutorial explora algoritmos de cálculo de gradiente para os valores esperados de circuitos quânticos.\n",
        "\n",
        "Calcular o gradiente do valor esperado de determinado observável em um circuito quântico é um processo complexo. Os valores esperados dos observáveis não possuem o luxo de ter fórmulas de gradiente analíticas que são sempre fáceis de escrever — ao contrário das transformações de aprendizado de máquina tradicionais, como a multiplicação de matriz ou a adição de vetores, que possuem fórmulas de gradiente analíticas que são fáceis de escrever. Como resultado, há diferentes métodos para o cálculo de gradientes quânticos que podem ser úteis para diferentes cenários. Este tutorial compara e contrasta dos esquemas de diferenciação diferentes."
      ]
    },
    {
      "cell_type": "markdown",
      "metadata": {
        "id": "pvG0gAJqGYJo"
      },
      "source": [
        "## Configuração"
      ]
    },
    {
      "cell_type": "code",
      "execution_count": null,
      "metadata": {
        "id": "TorxE5tnkvb2"
      },
      "outputs": [],
      "source": [
        "!pip install tensorflow==2.7.0"
      ]
    },
    {
      "cell_type": "markdown",
      "metadata": {
        "id": "OIbP5hklC338"
      },
      "source": [
        "Instale o TensorFlow Quantum:"
      ]
    },
    {
      "cell_type": "code",
      "execution_count": null,
      "metadata": {
        "id": "saFHsRDpkvkH"
      },
      "outputs": [],
      "source": [
        "!pip install tensorflow-quantum==0.7.2"
      ]
    },
    {
      "cell_type": "code",
      "execution_count": null,
      "metadata": {
        "id": "4Ql5PW-ACO0J"
      },
      "outputs": [],
      "source": [
        "# Update package resources to account for version changes.\n",
        "import importlib, pkg_resources\n",
        "importlib.reload(pkg_resources)"
      ]
    },
    {
      "cell_type": "markdown",
      "metadata": {
        "id": "MkTqyoSxGUfB"
      },
      "source": [
        "Agora importe o TensorFlow e as dependências de módulo:"
      ]
    },
    {
      "cell_type": "code",
      "execution_count": null,
      "metadata": {
        "id": "enZ300Bflq80"
      },
      "outputs": [],
      "source": [
        "import tensorflow as tf\n",
        "import tensorflow_quantum as tfq\n",
        "\n",
        "import cirq\n",
        "import sympy\n",
        "import numpy as np\n",
        "\n",
        "# visualization tools\n",
        "%matplotlib inline\n",
        "import matplotlib.pyplot as plt\n",
        "from cirq.contrib.svg import SVGCircuit"
      ]
    },
    {
      "cell_type": "markdown",
      "metadata": {
        "id": "b08Mmbs8lr81"
      },
      "source": [
        "## 1. Preliminar\n",
        "\n",
        "Vamos tornar a noção de cálculo de gradientes para circuitos quânticos um pouco mais concreta. Suponha que você tem um circuito parametrizado como este:"
      ]
    },
    {
      "cell_type": "code",
      "execution_count": null,
      "metadata": {
        "id": "YkPYJ_Ak-GKu"
      },
      "outputs": [],
      "source": [
        "qubit = cirq.GridQubit(0, 0)\n",
        "my_circuit = cirq.Circuit(cirq.Y(qubit)**sympy.Symbol('alpha'))\n",
        "SVGCircuit(my_circuit)"
      ]
    },
    {
      "cell_type": "markdown",
      "metadata": {
        "id": "wgQIlCWy-MVr"
      },
      "source": [
        "Junto com um observável:"
      ]
    },
    {
      "cell_type": "code",
      "execution_count": null,
      "metadata": {
        "id": "xurmJdFy-Jae"
      },
      "outputs": [],
      "source": [
        "pauli_x = cirq.X(qubit)\n",
        "pauli_x"
      ]
    },
    {
      "cell_type": "markdown",
      "metadata": {
        "id": "j3OzKYe5NT_W"
      },
      "source": [
        "Olhando esse operador, você sabe que $⟨Y(\\alpha)| X | Y(\\alpha)⟩ = \\sin(\\pi \\alpha)$"
      ]
    },
    {
      "cell_type": "code",
      "execution_count": null,
      "metadata": {
        "id": "Ps-pd2mndXs7"
      },
      "outputs": [],
      "source": [
        "def my_expectation(op, alpha):\n",
        "    \"\"\"Compute ⟨Y(alpha)| `op` | Y(alpha)⟩\"\"\"\n",
        "    params = {'alpha': alpha}\n",
        "    sim = cirq.Simulator()\n",
        "    final_state_vector = sim.simulate(my_circuit, params).final_state_vector\n",
        "    return op.expectation_from_state_vector(final_state_vector, {qubit: 0}).real\n",
        "\n",
        "\n",
        "my_alpha = 0.3\n",
        "print(\"Expectation=\", my_expectation(pauli_x, my_alpha))\n",
        "print(\"Sin Formula=\", np.sin(np.pi * my_alpha))"
      ]
    },
    {
      "cell_type": "markdown",
      "metadata": {
        "id": "zcCX109cJUaz"
      },
      "source": [
        "e, se você definir $f_{1}(\\alpha) = ⟨Y(\\alpha)| X | Y(\\alpha)⟩$, então $f_{1}^{'}(\\alpha) = \\pi \\cos(\\pi \\alpha)$. Vamos verificar isso:"
      ]
    },
    {
      "cell_type": "code",
      "execution_count": null,
      "metadata": {
        "id": "VMq7EayNRyQb"
      },
      "outputs": [],
      "source": [
        "def my_grad(obs, alpha, eps=0.01):\n",
        "    grad = 0\n",
        "    f_x = my_expectation(obs, alpha)\n",
        "    f_x_prime = my_expectation(obs, alpha + eps)\n",
        "    return ((f_x_prime - f_x) / eps).real\n",
        "\n",
        "\n",
        "print('Finite difference:', my_grad(pauli_x, my_alpha))\n",
        "print('Cosine formula:   ', np.pi * np.cos(np.pi * my_alpha))"
      ]
    },
    {
      "cell_type": "markdown",
      "metadata": {
        "id": "-SUlLpXBeicF"
      },
      "source": [
        "## 2. Necessidade de um diferenciador\n",
        "\n",
        "Com circuitos maiores, você nem sempre terá a sorte de ter uma fórmula que calcula precisamente os gradientes de um determinado circuito quântico. Caso uma fórmula simples não seja suficiente para calcular o gradiente, a classe `tfq.differentiators.Differentiator` permite que você defina algoritmos para computar os gradientes dos seus circuitos. Por exemplo, você pode recriar o exemplo acima no TensorFlow Quantum (TFQ) com:"
      ]
    },
    {
      "cell_type": "code",
      "execution_count": null,
      "metadata": {
        "id": "Om76ZLu8NT_i"
      },
      "outputs": [],
      "source": [
        "expectation_calculation = tfq.layers.Expectation(\n",
        "    differentiator=tfq.differentiators.ForwardDifference(grid_spacing=0.01))\n",
        "\n",
        "expectation_calculation(my_circuit,\n",
        "                        operators=pauli_x,\n",
        "                        symbol_names=['alpha'],\n",
        "                        symbol_values=[[my_alpha]])"
      ]
    },
    {
      "cell_type": "markdown",
      "metadata": {
        "id": "lx3y2DX9NT_k"
      },
      "source": [
        "No entanto, se você quiser estimar a expectativa com base na amostragem (o que aconteceria em um dispositivo real), os valores podem mudar um pouco. Isso significa que agora você tem uma estimativa imperfeita:"
      ]
    },
    {
      "cell_type": "code",
      "execution_count": null,
      "metadata": {
        "id": "v27rRyAHNT_l"
      },
      "outputs": [],
      "source": [
        "sampled_expectation_calculation = tfq.layers.SampledExpectation(\n",
        "    differentiator=tfq.differentiators.ForwardDifference(grid_spacing=0.01))\n",
        "\n",
        "sampled_expectation_calculation(my_circuit,\n",
        "                                operators=pauli_x,\n",
        "                                repetitions=500,\n",
        "                                symbol_names=['alpha'],\n",
        "                                symbol_values=[[my_alpha]])"
      ]
    },
    {
      "cell_type": "markdown",
      "metadata": {
        "id": "Igwa3EnzNT_p"
      },
      "source": [
        "Isso pode rapidamente se tornar um problema de exatidão mais sério quando se trata de gradientes:"
      ]
    },
    {
      "cell_type": "code",
      "execution_count": null,
      "metadata": {
        "id": "StljXH38NT_q"
      },
      "outputs": [],
      "source": [
        "# Make input_points = [batch_size, 1] array.\n",
        "input_points = np.linspace(0, 5, 200)[:, np.newaxis].astype(np.float32)\n",
        "exact_outputs = expectation_calculation(my_circuit,\n",
        "                                        operators=pauli_x,\n",
        "                                        symbol_names=['alpha'],\n",
        "                                        symbol_values=input_points)\n",
        "imperfect_outputs = sampled_expectation_calculation(my_circuit,\n",
        "                                                    operators=pauli_x,\n",
        "                                                    repetitions=500,\n",
        "                                                    symbol_names=['alpha'],\n",
        "                                                    symbol_values=input_points)\n",
        "plt.title('Forward Pass Values')\n",
        "plt.xlabel('$x$')\n",
        "plt.ylabel('$f(x)$')\n",
        "plt.plot(input_points, exact_outputs, label='Analytic')\n",
        "plt.plot(input_points, imperfect_outputs, label='Sampled')\n",
        "plt.legend()"
      ]
    },
    {
      "cell_type": "code",
      "execution_count": null,
      "metadata": {
        "id": "dfXObk7KNT_t"
      },
      "outputs": [],
      "source": [
        "# Gradients are a much different story.\n",
        "values_tensor = tf.convert_to_tensor(input_points)\n",
        "\n",
        "with tf.GradientTape() as g:\n",
        "    g.watch(values_tensor)\n",
        "    exact_outputs = expectation_calculation(my_circuit,\n",
        "                                            operators=pauli_x,\n",
        "                                            symbol_names=['alpha'],\n",
        "                                            symbol_values=values_tensor)\n",
        "analytic_finite_diff_gradients = g.gradient(exact_outputs, values_tensor)\n",
        "\n",
        "with tf.GradientTape() as g:\n",
        "    g.watch(values_tensor)\n",
        "    imperfect_outputs = sampled_expectation_calculation(\n",
        "        my_circuit,\n",
        "        operators=pauli_x,\n",
        "        repetitions=500,\n",
        "        symbol_names=['alpha'],\n",
        "        symbol_values=values_tensor)\n",
        "sampled_finite_diff_gradients = g.gradient(imperfect_outputs, values_tensor)\n",
        "\n",
        "plt.title('Gradient Values')\n",
        "plt.xlabel('$x$')\n",
        "plt.ylabel('$f^{\\'}(x)$')\n",
        "plt.plot(input_points, analytic_finite_diff_gradients, label='Analytic')\n",
        "plt.plot(input_points, sampled_finite_diff_gradients, label='Sampled')\n",
        "plt.legend()"
      ]
    },
    {
      "cell_type": "markdown",
      "metadata": {
        "id": "Ld34TJvTNT_w"
      },
      "source": [
        "Aqui você pode ver que, embora a fórmula de diferença finita seja rápida em computar os gradientes no caso analítico, quando se trata de métodos baseados em amostragem, há muito ruído. É preciso usar técnicas mais cuidadosas para garantir que um bom gradiente possa ser calculado. Em seguida, você analisará uma técnica muito mais lenta que não seria tão adequada para cálculos de gradiente esperado analíticos, mas tem um desempenho muito melhor no caso real baseado em amostra."
      ]
    },
    {
      "cell_type": "code",
      "execution_count": null,
      "metadata": {
        "id": "JsBxH_RaNT_x"
      },
      "outputs": [],
      "source": [
        "# A smarter differentiation scheme.\n",
        "gradient_safe_sampled_expectation = tfq.layers.SampledExpectation(\n",
        "    differentiator=tfq.differentiators.ParameterShift())\n",
        "\n",
        "with tf.GradientTape() as g:\n",
        "    g.watch(values_tensor)\n",
        "    imperfect_outputs = gradient_safe_sampled_expectation(\n",
        "        my_circuit,\n",
        "        operators=pauli_x,\n",
        "        repetitions=500,\n",
        "        symbol_names=['alpha'],\n",
        "        symbol_values=values_tensor)\n",
        "\n",
        "sampled_param_shift_gradients = g.gradient(imperfect_outputs, values_tensor)\n",
        "\n",
        "plt.title('Gradient Values')\n",
        "plt.xlabel('$x$')\n",
        "plt.ylabel('$f^{\\'}(x)$')\n",
        "plt.plot(input_points, analytic_finite_diff_gradients, label='Analytic')\n",
        "plt.plot(input_points, sampled_param_shift_gradients, label='Sampled')\n",
        "plt.legend()"
      ]
    },
    {
      "cell_type": "markdown",
      "metadata": {
        "id": "0xlUlh8wNT_z"
      },
      "source": [
        "Acima, você pode ver que determinados diferenciadores são mais adequados para cenários de pesquisa específicos. Em geral, os métodos mais lentos baseados em amostragem que são robustos ao ruído dos dispositivos etc. são ótimos diferenciadores ao testar ou implementar algoritmos em um cenário mais \"mundo real\". Métodos mais rápidos, como a diferença finita, são ótimos para cálculos analíticos e para quando você quer maior produtividade, mas não está preocupado com a viabilidade de dispositivos do seu algoritmo."
      ]
    },
    {
      "cell_type": "markdown",
      "metadata": {
        "id": "FaijzZ4MNT_0"
      },
      "source": [
        "## 3. Vários observáveis\n",
        "\n",
        "Vamos apresentar um segundo observável e ver como o TensorFlow Quantum é compatível com vários observáveis em um único circuito."
      ]
    },
    {
      "cell_type": "code",
      "execution_count": null,
      "metadata": {
        "id": "ytgB_DqDNT_3"
      },
      "outputs": [],
      "source": [
        "pauli_z = cirq.Z(qubit)\n",
        "pauli_z"
      ]
    },
    {
      "cell_type": "markdown",
      "metadata": {
        "id": "r51TZls4NT_6"
      },
      "source": [
        "Se esse observável for usado com o mesmo circuito que antes, você terá $f_{2}(\\alpha) = ⟨Y(\\alpha)| Z | Y(\\alpha)⟩ = \\cos(\\pi \\alpha)$ e $f_{2}^{'}(\\alpha) = -\\pi \\sin(\\pi \\alpha)$. Faça uma rápida verificação:"
      ]
    },
    {
      "cell_type": "code",
      "execution_count": null,
      "metadata": {
        "id": "19FKgu0ANT_7"
      },
      "outputs": [],
      "source": [
        "test_value = 0.\n",
        "\n",
        "print('Finite difference:', my_grad(pauli_z, test_value))\n",
        "print('Sin formula:      ', -np.pi * np.sin(np.pi * test_value))"
      ]
    },
    {
      "cell_type": "markdown",
      "metadata": {
        "id": "_33Y5mL0NT_-"
      },
      "source": [
        "Temos uma correspondência (próxima o suficiente).\n",
        "\n",
        "Agora, se você definir $g(\\alpha) = f_{1}(\\alpha) + f_{2}(\\alpha)$, então $g'(\\alpha) = f_{1}^{'}(\\alpha) + f^{'}_{2}(\\alpha)$. A definição de mais de um observável no TensorFlow Quantum para ser usado com um circuito é equivalente a adicionar mais termos a $g$.\n",
        "\n",
        "Isso significa que o gradiente de um símbolo específico em um circuito é igual à soma dos gradientes em relação a cada observável para esse símbolo aplicado ao circuito. Isso é compatível com a obtenção de gradiente e a retropropagação do TensorFlow (onde você dá a soma dos gradientes de todos os observáveis como o gradiente de um determinado símbolo)."
      ]
    },
    {
      "cell_type": "code",
      "execution_count": null,
      "metadata": {
        "id": "3WFJfFEbNT_-"
      },
      "outputs": [],
      "source": [
        "sum_of_outputs = tfq.layers.Expectation(\n",
        "    differentiator=tfq.differentiators.ForwardDifference(grid_spacing=0.01))\n",
        "\n",
        "sum_of_outputs(my_circuit,\n",
        "               operators=[pauli_x, pauli_z],\n",
        "               symbol_names=['alpha'],\n",
        "               symbol_values=[[test_value]])"
      ]
    },
    {
      "cell_type": "markdown",
      "metadata": {
        "id": "-ujQUu3WNUAB"
      },
      "source": [
        "Aqui, você vê que a primeira entrada é o X de Pauli esperado do w.r.t, e a segunda é o Z de Pauli esperado do w.r.t. Agora, você obtém o gradiente:"
      ]
    },
    {
      "cell_type": "code",
      "execution_count": null,
      "metadata": {
        "id": "jcAQa9l0NUAB"
      },
      "outputs": [],
      "source": [
        "test_value_tensor = tf.convert_to_tensor([[test_value]])\n",
        "\n",
        "with tf.GradientTape() as g:\n",
        "    g.watch(test_value_tensor)\n",
        "    outputs = sum_of_outputs(my_circuit,\n",
        "                             operators=[pauli_x, pauli_z],\n",
        "                             symbol_names=['alpha'],\n",
        "                             symbol_values=test_value_tensor)\n",
        "\n",
        "sum_of_gradients = g.gradient(outputs, test_value_tensor)\n",
        "\n",
        "print(my_grad(pauli_x, test_value) + my_grad(pauli_z, test_value))\n",
        "print(sum_of_gradients.numpy())"
      ]
    },
    {
      "cell_type": "markdown",
      "metadata": {
        "id": "-fZmbYGANUAE"
      },
      "source": [
        "Aqui, você verificou que a soma dos gradientes para cada observável é realmente o gradiente de $\\alpha$. Esse comportamento é compatível com todos os diferenciadores do TensorFlow Quantum e desempenha um papel crucial na compatibilidade com o resto do TensorFlow."
      ]
    },
    {
      "cell_type": "markdown",
      "metadata": {
        "id": "lZsGG7lWNUAF"
      },
      "source": [
        "## 4. Uso avançado\n",
        "\n",
        "Todos os diferenciadores que existem dentro da subclasse `tfq.differentiators.Differentiator` do TensorFlow. Para implementar um diferenciador, um usuário precisa implementar uma das duas interfaces. O padrão é implementar `get_gradient_circuits`, que diz à classe de base quais circuitos medir para obter uma estimativa do gradiente. Como alternativa, você pode sobrecarregar `differentiate_analytic` e `differentiate_sampled`. A classe `tfq.differentiators.Adjoint` segue esse caminho.\n",
        "\n",
        "O código a seguir usa o TensorFlow Quantum para implementar o gradiente de um circuito. Você usará um pequeno exemplo da mudança de parâmetros."
      ]
    },
    {
      "cell_type": "markdown",
      "metadata": {
        "id": "J1xN6Ln5mB9N"
      },
      "source": [
        "Chame novamente o circuito que você definiu acima, $|\\alpha⟩ = Y^{\\alpha}|0⟩$. Como antes, você pode definir uma função como o valor esperado desse circuito para o observável $X$, $f(\\alpha) = ⟨\\alpha|X|\\alpha⟩$. Usando as [regras de mudança de parâmetro](https://pennylane.ai/qml/glossary/parameter_shift.html), para esse circuito, você pode encontrar que a derivada é $$\\frac{\\partial}{\\partial \\alpha} f(\\alpha) = \\frac{\\pi}{2} f\\left(\\alpha + \\frac{1}{2}\\right) -  \\frac{ \\pi}{2} f\\left(\\alpha - \\frac{1}{2}\\right)$$. A função `get_gradient_circuits` retorna os componentes dessa derivada."
      ]
    },
    {
      "cell_type": "code",
      "execution_count": null,
      "metadata": {
        "id": "5iY4q6FKNUAG"
      },
      "outputs": [],
      "source": [
        "class MyDifferentiator(tfq.differentiators.Differentiator):\n",
        "    \"\"\"A Toy differentiator for <Y^alpha | X |Y^alpha>.\"\"\"\n",
        "\n",
        "    def __init__(self):\n",
        "        pass\n",
        "\n",
        "    def get_gradient_circuits(self, programs, symbol_names, symbol_values):\n",
        "        \"\"\"Return circuits to compute gradients for given forward pass circuits.\n",
        "        \n",
        "        Every gradient on a quantum computer can be computed via measurements\n",
        "        of transformed quantum circuits.  Here, you implement a custom gradient\n",
        "        for a specific circuit.  For a real differentiator, you will need to\n",
        "        implement this function in a more general way.  See the differentiator\n",
        "        implementations in the TFQ library for examples.\n",
        "        \"\"\"\n",
        "\n",
        "        # The two terms in the derivative are the same circuit...\n",
        "        batch_programs = tf.stack([programs, programs], axis=1)\n",
        "\n",
        "        # ... with shifted parameter values.\n",
        "        shift = tf.constant(1/2)\n",
        "        forward = symbol_values + shift\n",
        "        backward = symbol_values - shift\n",
        "        batch_symbol_values = tf.stack([forward, backward], axis=1)\n",
        "  \n",
        "        # Weights are the coefficients of the terms in the derivative.\n",
        "        num_program_copies = tf.shape(batch_programs)[0]\n",
        "        batch_weights = tf.tile(tf.constant([[[np.pi/2, -np.pi/2]]]),\n",
        "                                [num_program_copies, 1, 1])\n",
        "\n",
        "        # The index map simply says which weights go with which circuits.\n",
        "        batch_mapper = tf.tile(\n",
        "            tf.constant([[[0, 1]]]), [num_program_copies, 1, 1])\n",
        "\n",
        "        return (batch_programs, symbol_names, batch_symbol_values,\n",
        "                batch_weights, batch_mapper)"
      ]
    },
    {
      "cell_type": "markdown",
      "metadata": {
        "id": "bvEgw2m6NUAI"
      },
      "source": [
        "A classe de base `Differentiator` usa os componentes retornados de `get_gradient_circuits` para calcular a derivada, como na fórmula de mudança de parâmetro que você viu acima. Esse novo diferenciador agora pode ser usado com objetos `tfq.layer` existentes:"
      ]
    },
    {
      "cell_type": "code",
      "execution_count": null,
      "metadata": {
        "id": "QrKnkWswNUAJ"
      },
      "outputs": [],
      "source": [
        "custom_dif = MyDifferentiator()\n",
        "custom_grad_expectation = tfq.layers.Expectation(differentiator=custom_dif)\n",
        "\n",
        "# Now let's get the gradients with finite diff.\n",
        "with tf.GradientTape() as g:\n",
        "    g.watch(values_tensor)\n",
        "    exact_outputs = expectation_calculation(my_circuit,\n",
        "                                            operators=[pauli_x],\n",
        "                                            symbol_names=['alpha'],\n",
        "                                            symbol_values=values_tensor)\n",
        "\n",
        "analytic_finite_diff_gradients = g.gradient(exact_outputs, values_tensor)\n",
        "\n",
        "# Now let's get the gradients with custom diff.\n",
        "with tf.GradientTape() as g:\n",
        "    g.watch(values_tensor)\n",
        "    my_outputs = custom_grad_expectation(my_circuit,\n",
        "                                         operators=[pauli_x],\n",
        "                                         symbol_names=['alpha'],\n",
        "                                         symbol_values=values_tensor)\n",
        "\n",
        "my_gradients = g.gradient(my_outputs, values_tensor)\n",
        "\n",
        "plt.subplot(1, 2, 1)\n",
        "plt.title('Exact Gradient')\n",
        "plt.plot(input_points, analytic_finite_diff_gradients.numpy())\n",
        "plt.xlabel('x')\n",
        "plt.ylabel('f(x)')\n",
        "plt.subplot(1, 2, 2)\n",
        "plt.title('My Gradient')\n",
        "plt.plot(input_points, my_gradients.numpy())\n",
        "plt.xlabel('x')"
      ]
    },
    {
      "cell_type": "markdown",
      "metadata": {
        "id": "oXqcJWigNUAL"
      },
      "source": [
        "Esse novo diferenciador agora pode ser usado para gerar ops diferenciáveis.\n",
        "\n",
        "Ponto importante: um diferenciador que foi ligado anteriormente a uma op precisa ser atualizado antes de ser ligado a uma nova op, porque ele só pode ser ligado a uma de cada vez."
      ]
    },
    {
      "cell_type": "code",
      "execution_count": null,
      "metadata": {
        "id": "F_WHcj3bNUAM"
      },
      "outputs": [],
      "source": [
        "# Create a noisy sample based expectation op.\n",
        "expectation_sampled = tfq.get_sampled_expectation_op(\n",
        "    cirq.DensityMatrixSimulator(noise=cirq.depolarize(0.01)))\n",
        "\n",
        "# Make it differentiable with your differentiator:\n",
        "# Remember to refresh the differentiator before attaching the new op\n",
        "custom_dif.refresh()\n",
        "differentiable_op = custom_dif.generate_differentiable_op(\n",
        "    sampled_op=expectation_sampled)\n",
        "\n",
        "# Prep op inputs.\n",
        "circuit_tensor = tfq.convert_to_tensor([my_circuit])\n",
        "op_tensor = tfq.convert_to_tensor([[pauli_x]])\n",
        "single_value = tf.convert_to_tensor([[my_alpha]])\n",
        "num_samples_tensor = tf.convert_to_tensor([[5000]])\n",
        "\n",
        "with tf.GradientTape() as g:\n",
        "    g.watch(single_value)\n",
        "    forward_output = differentiable_op(circuit_tensor, ['alpha'], single_value,\n",
        "                                       op_tensor, num_samples_tensor)\n",
        "\n",
        "my_gradients = g.gradient(forward_output, single_value)\n",
        "\n",
        "print('---TFQ---')\n",
        "print('Foward:  ', forward_output.numpy())\n",
        "print('Gradient:', my_gradients.numpy())\n",
        "print('---Original---')\n",
        "print('Forward: ', my_expectation(pauli_x, my_alpha))\n",
        "print('Gradient:', my_grad(pauli_x, my_alpha))"
      ]
    },
    {
      "cell_type": "markdown",
      "metadata": {
        "id": "OGWcpqzDNUAP"
      },
      "source": [
        "Sucesso: agora você pode usar todos os diferenciadores que o TensorFlow Quantum tem a oferecer — e definir os seus."
      ]
    }
  ],
  "metadata": {
    "colab": {
      "collapsed_sections": [],
      "name": "gradients.ipynb",
      "toc_visible": true
    },
    "kernelspec": {
      "display_name": "Python 3",
      "name": "python3"
    }
  },
  "nbformat": 4,
  "nbformat_minor": 0
}
