{
  "cells": [
    {
      "cell_type": "markdown",
      "metadata": {
        "id": "xLOXFOT5Q40E"
      },
      "source": [
        "##### Copyright 2020 The TensorFlow Authors."
      ]
    },
    {
      "cell_type": "code",
      "execution_count": null,
      "metadata": {
        "cellView": "form",
        "id": "iiQkM5ZgQ8r2"
      },
      "outputs": [],
      "source": [
        "#@title Licensed under the Apache License, Version 2.0 (the \"License\");\n",
        "# you may not use this file except in compliance with the License.\n",
        "# You may obtain a copy of the License at\n",
        "#\n",
        "# https://www.apache.org/licenses/LICENSE-2.0\n",
        "#\n",
        "# Unless required by applicable law or agreed to in writing, software\n",
        "# distributed under the License is distributed on an \"AS IS\" BASIS,\n",
        "# WITHOUT WARRANTIES OR CONDITIONS OF ANY KIND, either express or implied.\n",
        "# See the License for the specific language governing permissions and\n",
        "# limitations under the License."
      ]
    },
    {
      "cell_type": "markdown",
      "metadata": {
        "id": "UndbWF_UpN-X"
      },
      "source": [
        "# Ruído"
      ]
    },
    {
      "cell_type": "markdown",
      "metadata": {
        "id": "i9Jcnb8bQQyd"
      },
      "source": [
        "<table class=\"tfo-notebook-buttons\" align=\"left\">\n",
        "  <td>     <a target=\"_blank\" href=\"https://www.tensorflow.org/quantum/tutorials/noise\"><img src=\"https://www.tensorflow.org/images/tf_logo_32px.png\">Ver em TensorFlow.org</a>\n",
        "</td>\n",
        "  <td>     <a target=\"_blank\" href=\"https://colab.research.google.com/github/tensorflow/docs-l10n/blob/master/site/pt-br/quantum/tutorials/noise.ipynb\"><img src=\"https://www.tensorflow.org/images/colab_logo_32px.png\">Executar no Google Colab</a>\n",
        "</td>\n",
        "  <td>     <a target=\"_blank\" href=\"https://github.com/tensorflow/docs-l10n/blob/master/site/pt-br/quantum/tutorials/noise.ipynb\"><img src=\"https://www.tensorflow.org/images/GitHub-Mark-32px.png\">Ver fonte no GitHub</a>\n",
        "</td>\n",
        "  <td>     <a href=\"https://storage.googleapis.com/tensorflow_docs/docs-l10n/site/pt-br/quantum/tutorials/noise.ipynb\"><img src=\"https://www.tensorflow.org/images/download_logo_32px.png\">Baixar notebook</a>\n",
        "</td>\n",
        "</table>"
      ]
    },
    {
      "cell_type": "markdown",
      "metadata": {
        "id": "fHHaKIG06Iv_"
      },
      "source": [
        "O ruído está presente em computadores quânticos modernos. Qubits são suscetíveis à interferência do ambiente ao redor, fabricação imperfeita, TLS e, às vezes, até [raios gama](https://arxiv.org/abs/2104.05219). Para obter a correção de erros em grande escala, os algoritmos atuais precisam manter a funcionalidade na presença de ruído. Por isso, testar algoritmos com ruído é um passo importante para validar o funcionamento de algoritmos / modelos quânticos nos computadores quânticos da atualidade.\n",
        "\n",
        "Neste tutorial, você explorará as noções básicas da simulação de circuito ruidoso no TFQ pela API `tfq.layers` de alto nível.\n",
        "\n",
        "## Configuração"
      ]
    },
    {
      "cell_type": "code",
      "execution_count": null,
      "metadata": {
        "id": "J2CRbYRqrLdt"
      },
      "outputs": [],
      "source": [
        "!pip install tensorflow==2.7.0 tensorflow-quantum==0.7.2"
      ]
    },
    {
      "cell_type": "code",
      "execution_count": null,
      "metadata": {
        "id": "QStNslxBwgte"
      },
      "outputs": [],
      "source": [
        "!pip install -q git+https://github.com/tensorflow/docs"
      ]
    },
    {
      "cell_type": "code",
      "execution_count": null,
      "metadata": {
        "id": "4Ql5PW-ACO0J"
      },
      "outputs": [],
      "source": [
        "# Update package resources to account for version changes.\n",
        "import importlib, pkg_resources\n",
        "importlib.reload(pkg_resources)"
      ]
    },
    {
      "cell_type": "code",
      "execution_count": null,
      "metadata": {
        "id": "iRU07S4o8B52"
      },
      "outputs": [],
      "source": [
        "import random\n",
        "import cirq\n",
        "import sympy\n",
        "import tensorflow_quantum as tfq\n",
        "import tensorflow as tf\n",
        "import numpy as np\n",
        "# Plotting\n",
        "import matplotlib.pyplot as plt\n",
        "import tensorflow_docs as tfdocs\n",
        "import tensorflow_docs.plots"
      ]
    },
    {
      "cell_type": "markdown",
      "metadata": {
        "id": "CVnAGxZyruv8"
      },
      "source": [
        "## 1. Sobre o ruído quântico\n",
        "\n",
        "### 1.1 Ruído de circuito básico\n",
        "\n",
        "O ruído em um computador quântico afeta as amostras de bitstring que você consegue medir nele. De maneira intuitiva, você pode considerar que um computador quântico ruidoso \"insere\", \"exclui\" ou \"substitui\" portas em locais aleatórios, como o diagrama abaixo:\n",
        "\n",
        "<img src=\"./images/noise_1.png\" width=\"700\">\n",
        "\n",
        "Com base nessa intuição, ao lidar com ruído, você não está mais usando um $|\\psi \\rangle$ de estado puro único, e sim um *conjunto* de todas as realizações ruidosas possíveis do seu circuito desejado: $\\rho = \\sum_j p_j |\\psi_j \\rangle \\langle \\psi_j |$, em que $p_j$ fornece a probabilidade de o sistema estar em $|\\psi_j \\rangle$ .\n",
        "\n",
        "Revendo a foto acima, se soubéssemos antes que a execução do sistema era perfeita em 90% do tempo ou apresentava erros em 10% do tempo com apenas esse modo de falha, nosso conjunto seria:\n",
        "\n",
        "```\n",
        "$\\rho = 0.9 |\\psi_\\text{desired} \\rangle \\langle \\psi_\\text{desired}| + 0.1 |\\psi_\\text{noisy} \\rangle \\langle \\psi_\\text{noisy}| $\n",
        "```\n",
        "\n",
        "Se houvesse mais de uma forma para o circuito falhar, então o conjunto $\\rho$ conteria mais do que apenas dois termos (um para cada nova realização ruidosa que poderia ocorrer). $\\rho$ é chamado de [matriz densidade](https://en.wikipedia.org/wiki/Density_matrix), que descreve seu sistema ruidoso.\n",
        "\n",
        "### 1.2 Uso de canais para modelar o ruído do circuito\n",
        "\n",
        "Infelizmente, na prática, é praticamente impossível saber todas as maneiras que o circuito pode falhar e suas probabilidades exatas. Para simplificar, você pode supor que, após cada operação no circuito, há algum tipo de [canal](https://quantumai.google/cirq/noise) que captura mais ou menos como essa operação pode falhar. Você pode criar rapidamente um circuito com um pouco de ruído:"
      ]
    },
    {
      "cell_type": "code",
      "execution_count": null,
      "metadata": {
        "id": "Eu_vpHbfrQKQ"
      },
      "outputs": [],
      "source": [
        "def x_circuit(qubits):\n",
        "  \"\"\"Produces an X wall circuit on `qubits`.\"\"\"\n",
        "  return cirq.Circuit(cirq.X.on_each(*qubits))\n",
        "\n",
        "def make_noisy(circuit, p):\n",
        "  \"\"\"Add a depolarization channel to all qubits in `circuit` before measurement.\"\"\"\n",
        "  return circuit + cirq.Circuit(cirq.depolarize(p).on_each(*circuit.all_qubits()))\n",
        "\n",
        "my_qubits = cirq.GridQubit.rect(1, 2)\n",
        "my_circuit = x_circuit(my_qubits)\n",
        "my_noisy_circuit = make_noisy(my_circuit, 0.5)\n",
        "my_circuit"
      ]
    },
    {
      "cell_type": "code",
      "execution_count": null,
      "metadata": {
        "id": "1B7vmyPm_TQ7"
      },
      "outputs": [],
      "source": [
        "my_noisy_circuit"
      ]
    },
    {
      "cell_type": "markdown",
      "metadata": {
        "id": "EejhXc2e9Cl8"
      },
      "source": [
        "Você pode examinar a matriz densidade sem ruído $\\rho$ com:"
      ]
    },
    {
      "cell_type": "code",
      "execution_count": null,
      "metadata": {
        "id": "0QN9W69U8v_V"
      },
      "outputs": [],
      "source": [
        "rho = cirq.final_density_matrix(my_circuit)\n",
        "np.round(rho, 3)"
      ]
    },
    {
      "cell_type": "markdown",
      "metadata": {
        "id": "RHHBeizr-DEo"
      },
      "source": [
        "E a matriz densidade ruidosa $\\rho$ com:\n"
      ]
    },
    {
      "cell_type": "code",
      "execution_count": null,
      "metadata": {
        "id": "zSD9H8SC9IJ1"
      },
      "outputs": [],
      "source": [
        "rho = cirq.final_density_matrix(my_noisy_circuit)\n",
        "np.round(rho, 3)"
      ]
    },
    {
      "cell_type": "markdown",
      "metadata": {
        "id": "2YWiejLl-a0Z"
      },
      "source": [
        "Ao comparar os dois $ \\rho $s diferentes, você pode ver que o ruído afetou as amplitudes do estado (e, consequentemente, as probabilidades da amostragem). No caso sem ruído, é sempre esperada a amostragem do estado $ |11\\rangle $. No entanto, no estado ruidoso, há agora uma probabilidade diferente de zero para a amostragem de $ |00\\rangle $ ou $ |01\\rangle $ ou $ |10\\rangle $ também:"
      ]
    },
    {
      "cell_type": "code",
      "execution_count": null,
      "metadata": {
        "id": "Z4uj-Zs0AE3n"
      },
      "outputs": [],
      "source": [
        "\"\"\"Sample from my_noisy_circuit.\"\"\"\n",
        "def plot_samples(circuit):\n",
        "  samples = cirq.sample(circuit + cirq.measure(*circuit.all_qubits(), key='bits'), repetitions=1000)\n",
        "  freqs, _ = np.histogram(samples.data['bits'], bins=[i+0.01 for i in range(-1,2** len(my_qubits))])\n",
        "  plt.figure(figsize=(10,5))\n",
        "  plt.title('Noisy Circuit Sampling')\n",
        "  plt.xlabel('Bitstring')\n",
        "  plt.ylabel('Frequency')\n",
        "  plt.bar([i for i in range(2** len(my_qubits))], freqs, tick_label=['00','01','10','11'])\n",
        "\n",
        "plot_samples(my_noisy_circuit)"
      ]
    },
    {
      "cell_type": "markdown",
      "metadata": {
        "id": "IpPh1Y0HEOWs"
      },
      "source": [
        "Sem nenhum ruído, você sempre obterá $|11\\rangle$:"
      ]
    },
    {
      "cell_type": "code",
      "execution_count": null,
      "metadata": {
        "id": "NRCOhTVpEJzz"
      },
      "outputs": [],
      "source": [
        "\"\"\"Sample from my_circuit.\"\"\"\n",
        "plot_samples(my_circuit)"
      ]
    },
    {
      "cell_type": "markdown",
      "metadata": {
        "id": "EMbJBXAiT9GH"
      },
      "source": [
        "Ao aumentar o ruído um pouco mais, ficará cada vez mais difícil distinguir o comportamento desejado (fazendo a amostragem de $|11\\rangle$) e o ruído:"
      ]
    },
    {
      "cell_type": "code",
      "execution_count": null,
      "metadata": {
        "id": "D2Fg-FUdUJQx"
      },
      "outputs": [],
      "source": [
        "my_really_noisy_circuit = make_noisy(my_circuit, 0.75)\n",
        "plot_samples(my_really_noisy_circuit)"
      ]
    },
    {
      "cell_type": "markdown",
      "metadata": {
        "id": "oV-0WV5Z7FQ8"
      },
      "source": [
        "Observação: teste canais diferentes no circuito para gerar ruído. Encontre canais comuns compatíveis com ambos o Cirq e o TFQ [aqui](https://github.com/quantumlib/Cirq/blob/master/cirq-core/cirq/ops/common_channels.py)."
      ]
    },
    {
      "cell_type": "markdown",
      "metadata": {
        "id": "atzsYj5qScn0"
      },
      "source": [
        "## 2. Ruído básico no TFQ\n",
        "\n",
        "Com essa compreensão de como o ruído pode afetar a execução do circuito, você pode explorar como o ruído funciona no TFQ. O TensorFlow Quantum usa a simulação baseada em monte-carlo / trajetória como alternativa à simulação de matriz densidade. Isso ocorre porque a complexidade de memória da simulação de matriz densidade limita grandes simulações a &lt;= 20 qubits com métodos tradicionais de simulação de matriz densidade total. O monte-carlo / trajetória troca esse custo da memória pelo custo adicional de tempo. A opção `backend='noisy'` está disponível para todas as `tfq.layers.Sample`, `tfq.layers.SampledExpectation` e `tfq.layers.Expectation` (no caso de `Expectation`, é necessário um parâmetro `repetitions`).\n",
        "\n",
        "### 2.1 Amostragem de ruído no TFQ\n",
        "\n",
        "Para recriar as plotagens acima usando o TFQ e a simulação de trajetória, é possível usar `tfq.layers.Sample`"
      ]
    },
    {
      "cell_type": "code",
      "execution_count": null,
      "metadata": {
        "id": "byVI5nbNQ4_b"
      },
      "outputs": [],
      "source": [
        "\"\"\"Draw bitstring samples from `my_noisy_circuit`\"\"\"\n",
        "bitstrings = tfq.layers.Sample(backend='noisy')(my_noisy_circuit, repetitions=1000)"
      ]
    },
    {
      "cell_type": "code",
      "execution_count": null,
      "metadata": {
        "id": "ncl0ruCZrd2s"
      },
      "outputs": [],
      "source": [
        "numeric_values = np.einsum('ijk,k->ij', bitstrings.to_tensor().numpy(), [1, 2])[0]\n",
        "freqs, _ = np.histogram(numeric_values, bins=[i+0.01 for i in range(-1,2** len(my_qubits))])\n",
        "plt.figure(figsize=(10,5))\n",
        "plt.title('Noisy Circuit Sampling')\n",
        "plt.xlabel('Bitstring')\n",
        "plt.ylabel('Frequency')\n",
        "plt.bar([i for i in range(2** len(my_qubits))], freqs, tick_label=['00','01','10','11'])"
      ]
    },
    {
      "cell_type": "markdown",
      "metadata": {
        "id": "QfHq13RwuLlF"
      },
      "source": [
        "### 2.2 Expectativa baseada em amostra de ruído\n",
        "\n",
        "Para calcular a expectativa baseada em amostra de ruído, é possível usar `tfq.layers.SampleExpectation`:\n"
      ]
    },
    {
      "cell_type": "code",
      "execution_count": null,
      "metadata": {
        "id": "ep45G-09rfrA"
      },
      "outputs": [],
      "source": [
        "some_observables = [cirq.X(my_qubits[0]), cirq.Z(my_qubits[0]), 3.0 * cirq.Y(my_qubits[1]) + 1]\n",
        "some_observables"
      ]
    },
    {
      "cell_type": "markdown",
      "metadata": {
        "id": "ur4iF_PGv0Xf"
      },
      "source": [
        "Compute as estimativas da expectativa sem ruído com a amostragem do circuito:"
      ]
    },
    {
      "cell_type": "code",
      "execution_count": null,
      "metadata": {
        "id": "jL6wJ3LCvNcn"
      },
      "outputs": [],
      "source": [
        "noiseless_sampled_expectation = tfq.layers.SampledExpectation(backend='noiseless')(\n",
        "    my_circuit, operators=some_observables, repetitions=10000\n",
        ")\n",
        "noiseless_sampled_expectation.numpy()"
      ]
    },
    {
      "cell_type": "markdown",
      "metadata": {
        "id": "c6hHgNtEv40i"
      },
      "source": [
        "Compare isso às versões ruidosas:"
      ]
    },
    {
      "cell_type": "code",
      "execution_count": null,
      "metadata": {
        "id": "8U4Gm-LGvYqa"
      },
      "outputs": [],
      "source": [
        "noisy_sampled_expectation = tfq.layers.SampledExpectation(backend='noisy')(\n",
        "    [my_noisy_circuit, my_really_noisy_circuit], operators=some_observables, repetitions=10000\n",
        ")\n",
        "noisy_sampled_expectation.numpy()"
      ]
    },
    {
      "cell_type": "markdown",
      "metadata": {
        "id": "CqQ_2c7XwMku"
      },
      "source": [
        "É possível ver que o ruído afetou especialmente a exatidão de $\\langle \\psi | Z | \\psi \\rangle$, com a concentração rápida de `my_really_noisy_circuit` em direção a 0.\n",
        "\n",
        "### 2.3 Cálculo da expectativa analítica ruidosa\n",
        "\n",
        "Os cálculos da expectativa analítica ruidosa são praticamente idênticos ao acima:\n"
      ]
    },
    {
      "cell_type": "code",
      "execution_count": null,
      "metadata": {
        "id": "pGXKlyCywAfj"
      },
      "outputs": [],
      "source": [
        "noiseless_analytic_expectation = tfq.layers.Expectation(backend='noiseless')(\n",
        "    my_circuit, operators=some_observables\n",
        ")\n",
        "noiseless_analytic_expectation.numpy()"
      ]
    },
    {
      "cell_type": "code",
      "execution_count": null,
      "metadata": {
        "id": "6FUkJ7aOyTlI"
      },
      "outputs": [],
      "source": [
        "noisy_analytic_expectation = tfq.layers.Expectation(backend='noisy')(\n",
        "    [my_noisy_circuit, my_really_noisy_circuit], operators=some_observables, repetitions=10000\n",
        ")\n",
        "noisy_analytic_expectation.numpy()"
      ]
    },
    {
      "cell_type": "markdown",
      "metadata": {
        "id": "5KHvORT42XFV"
      },
      "source": [
        "## 3. Ruído de dados quânticos e modelos híbridos\n",
        "\n",
        "Agora que você implementou algumas simulações de circuitos ruidosos no TFQ, pode testar como os modelos clássicos-quânticos híbridos e quânticos são afetados pelo ruído, comparando e contrastando o desempenho com e sem ruído. Uma verificação inicial para ver se um modelo ou algoritmo é robusto ao ruído é testar com um modelo despolarizador em todo o circuito, que é algo assim:\n",
        "\n",
        "<img src=\"./images/noise_2.png\" width=\"500\">\n",
        "\n",
        "Em que cada fatia de tempo do circuito (às vezes chamada de \"momento\") tem um canal despolarizador anexado após cada operação de porta dela. O canal despolarizador aplicará um dos $\\{X, Y, Z \\}$ com a probabilidade $p$ ou não aplicará nada (manterá a operação original) com a probabilidade $1-p$.\n",
        "\n",
        "### 3.1 Dados\n",
        "\n",
        "Para este exemplo, você pode usar alguns circuitos preparados no módulo `tfq.datasets` como dados de treinamento:"
      ]
    },
    {
      "cell_type": "code",
      "execution_count": null,
      "metadata": {
        "id": "_ZqVLEji2WUx"
      },
      "outputs": [],
      "source": [
        "qubits = cirq.GridQubit.rect(1, 8)\n",
        "circuits, labels, pauli_sums, _ = tfq.datasets.xxz_chain(qubits, 'closed')\n",
        "circuits[0]"
      ]
    },
    {
      "cell_type": "markdown",
      "metadata": {
        "id": "MFgNU_nBGeTm"
      },
      "source": [
        "Escrever uma pequena função helper ajudará a gerar os dados para o caso ruidoso x sem ruído:"
      ]
    },
    {
      "cell_type": "code",
      "execution_count": null,
      "metadata": {
        "id": "zkQofAqqGibQ"
      },
      "outputs": [],
      "source": [
        "def get_data(qubits, depolarize_p=0.):\n",
        "  \"\"\"Return quantum data circuits and labels in `tf.Tensor` form.\"\"\"\n",
        "  circuits, labels, pauli_sums, _ = tfq.datasets.xxz_chain(qubits, 'closed')\n",
        "  if depolarize_p >= 1e-5:\n",
        "    circuits = [circuit.with_noise(cirq.depolarize(depolarize_p)) for circuit in circuits]\n",
        "  tmp = list(zip(circuits, labels))\n",
        "  random.shuffle(tmp)\n",
        "  circuits_tensor = tfq.convert_to_tensor([x[0] for x in tmp])\n",
        "  labels_tensor = tf.convert_to_tensor([x[1] for x in tmp])\n",
        "\n",
        "  return circuits_tensor, labels_tensor"
      ]
    },
    {
      "cell_type": "markdown",
      "metadata": {
        "id": "FtJrfsLCF9Z3"
      },
      "source": [
        "### 3.2 Defina um circuito do modelo\n",
        "\n",
        "Agora que você tem os dados quânticos em formato de circuitos, precisará de um circuito para modelar esses dados, assim como é possível escrever uma função helper com os dados para gerar esse circuito opcionalmente com ruído:"
      ]
    },
    {
      "cell_type": "code",
      "execution_count": null,
      "metadata": {
        "id": "TwryFaFIG2Ya"
      },
      "outputs": [],
      "source": [
        "def modelling_circuit(qubits, depth, depolarize_p=0.):\n",
        "  \"\"\"A simple classifier circuit.\"\"\"\n",
        "  dim = len(qubits)\n",
        "  ret = cirq.Circuit(cirq.H.on_each(*qubits))\n",
        "\n",
        "  for i in range(depth):\n",
        "    # Entangle layer.\n",
        "    ret += cirq.Circuit(cirq.CX(q1, q2) for (q1, q2) in zip(qubits[::2], qubits[1::2]))\n",
        "    ret += cirq.Circuit(cirq.CX(q1, q2) for (q1, q2) in zip(qubits[1::2], qubits[2::2]))\n",
        "    # Learnable rotation layer.\n",
        "    # i_params = sympy.symbols(f'layer-{i}-0:{dim}')\n",
        "    param = sympy.Symbol(f'layer-{i}')\n",
        "    single_qb = cirq.X\n",
        "    if i % 2 == 1:\n",
        "      single_qb = cirq.Y\n",
        "    ret += cirq.Circuit(single_qb(q) ** param for q in qubits)\n",
        "  \n",
        "  if depolarize_p >= 1e-5:\n",
        "    ret = ret.with_noise(cirq.depolarize(depolarize_p))\n",
        "\n",
        "  return ret, [op(q) for q in qubits for op in [cirq.X, cirq.Y, cirq.Z]]\n",
        "\n",
        "modelling_circuit(qubits, 3)[0]"
      ]
    },
    {
      "cell_type": "markdown",
      "metadata": {
        "id": "U-ZMaCpJI9TH"
      },
      "source": [
        "### 3.3 Criação e treinamento do modelo\n",
        "\n",
        "Depois de criar os dados e o circuito do modelo, a função helper final necessária é uma que formará um `tf.keras.Model` quântico híbrido com e sem ruído:"
      ]
    },
    {
      "cell_type": "code",
      "execution_count": null,
      "metadata": {
        "id": "r09CT5N9DWa_"
      },
      "outputs": [],
      "source": [
        "def build_keras_model(qubits, depolarize_p=0.):\n",
        "  \"\"\"Prepare a noisy hybrid quantum classical Keras model.\"\"\"\n",
        "  spin_input = tf.keras.Input(shape=(), dtype=tf.dtypes.string)\n",
        "\n",
        "  circuit_and_readout = modelling_circuit(qubits, 4, depolarize_p)\n",
        "  if depolarize_p >= 1e-5:\n",
        "    quantum_model = tfq.layers.NoisyPQC(*circuit_and_readout, sample_based=False, repetitions=10)(spin_input)\n",
        "  else:\n",
        "    quantum_model = tfq.layers.PQC(*circuit_and_readout)(spin_input)\n",
        "\n",
        "  intermediate = tf.keras.layers.Dense(4, activation='sigmoid')(quantum_model)\n",
        "  post_process = tf.keras.layers.Dense(1)(intermediate)\n",
        "\n",
        "  return tf.keras.Model(inputs=[spin_input], outputs=[post_process])"
      ]
    },
    {
      "cell_type": "markdown",
      "metadata": {
        "id": "QbMtT7BZmhfm"
      },
      "source": [
        "## 4. Compare o desempenho\n",
        "\n",
        "### 4.1 Referência sem ruído\n",
        "\n",
        "Com o código de criação do modelo e geração de dados, você agora pode comparar e contrastar o desempenho do modelo nos cenários com e sem ruído. Primeiro, é possível realizar um treinamento sem ruído de referência:"
      ]
    },
    {
      "cell_type": "code",
      "execution_count": null,
      "metadata": {
        "id": "QAgpq9c-EakW"
      },
      "outputs": [],
      "source": [
        "training_histories = dict()\n",
        "depolarize_p = 0.\n",
        "n_epochs = 50\n",
        "phase_classifier = build_keras_model(qubits, depolarize_p)\n",
        "\n",
        "phase_classifier.compile(optimizer=tf.keras.optimizers.Adam(learning_rate=0.02),\n",
        "                   loss=tf.keras.losses.BinaryCrossentropy(from_logits=True),\n",
        "                   metrics=['accuracy'])\n",
        "\n",
        "\n",
        "# Show the keras plot of the model\n",
        "tf.keras.utils.plot_model(phase_classifier, show_shapes=True, dpi=70)"
      ]
    },
    {
      "cell_type": "code",
      "execution_count": null,
      "metadata": {
        "id": "9tKimWRMlVfL"
      },
      "outputs": [],
      "source": [
        "noiseless_data, noiseless_labels = get_data(qubits, depolarize_p)\n",
        "training_histories['noiseless'] = phase_classifier.fit(x=noiseless_data,\n",
        "                         y=noiseless_labels,\n",
        "                         batch_size=16,\n",
        "                         epochs=n_epochs,\n",
        "                         validation_split=0.15,\n",
        "                         verbose=1)"
      ]
    },
    {
      "cell_type": "markdown",
      "metadata": {
        "id": "A9oql6Synv3f"
      },
      "source": [
        "Explore os resultados e a exatidão:"
      ]
    },
    {
      "cell_type": "code",
      "execution_count": null,
      "metadata": {
        "id": "TG87YNUWKKLY"
      },
      "outputs": [],
      "source": [
        "loss_plotter = tfdocs.plots.HistoryPlotter(metric = 'loss', smoothing_std=10)\n",
        "loss_plotter.plot(training_histories)"
      ]
    },
    {
      "cell_type": "code",
      "execution_count": null,
      "metadata": {
        "id": "O2ZwM18YUxxm"
      },
      "outputs": [],
      "source": [
        "acc_plotter = tfdocs.plots.HistoryPlotter(metric = 'accuracy', smoothing_std=10)\n",
        "acc_plotter.plot(training_histories)"
      ]
    },
    {
      "cell_type": "markdown",
      "metadata": {
        "id": "JlOwBxvSnzid"
      },
      "source": [
        "### 4.2 Comparação ruidosa\n",
        "\n",
        "Agora, você pode criar um novo modelo com a estrutura ruidosa e compará-lo ao acima. O código é praticamente igual:"
      ]
    },
    {
      "cell_type": "code",
      "execution_count": null,
      "metadata": {
        "id": "0jy54uWpgwhi"
      },
      "outputs": [],
      "source": [
        "depolarize_p = 0.001\n",
        "n_epochs = 50\n",
        "noisy_phase_classifier = build_keras_model(qubits, depolarize_p)\n",
        "\n",
        "noisy_phase_classifier.compile(optimizer=tf.keras.optimizers.Adam(learning_rate=0.02),\n",
        "                   loss=tf.keras.losses.BinaryCrossentropy(from_logits=True),\n",
        "                   metrics=['accuracy'])\n",
        "\n",
        "\n",
        "# Show the keras plot of the model\n",
        "tf.keras.utils.plot_model(noisy_phase_classifier, show_shapes=True, dpi=70)"
      ]
    },
    {
      "cell_type": "markdown",
      "metadata": {
        "id": "r-vYU6S3oN-J"
      },
      "source": [
        "Observação: no diagrama do modelo, agora há uma `tfq.layers.NoisyPQC` em vez de `tfq.layers.PQC`, porque a probabilidade de despolarização não é mais zero. O treinamento levará muito mais tempo, já que a simulação ruidosa é muito mais cara do que a sem ruído."
      ]
    },
    {
      "cell_type": "code",
      "execution_count": null,
      "metadata": {
        "id": "210cLP5AoClJ"
      },
      "outputs": [],
      "source": [
        "noisy_data, noisy_labels = get_data(qubits, depolarize_p)\n",
        "training_histories['noisy'] = noisy_phase_classifier.fit(x=noisy_data,\n",
        "                         y=noisy_labels,\n",
        "                         batch_size=16,\n",
        "                         epochs=n_epochs,\n",
        "                         validation_split=0.15,\n",
        "                         verbose=1)"
      ]
    },
    {
      "cell_type": "code",
      "execution_count": null,
      "metadata": {
        "id": "eQ8pknNdohzy"
      },
      "outputs": [],
      "source": [
        "loss_plotter.plot(training_histories)"
      ]
    },
    {
      "cell_type": "code",
      "execution_count": null,
      "metadata": {
        "id": "nBtgnKWtuWRR"
      },
      "outputs": [],
      "source": [
        "acc_plotter.plot(training_histories)"
      ]
    },
    {
      "cell_type": "markdown",
      "metadata": {
        "id": "r86TeFxlubls"
      },
      "source": [
        "Sucesso: ainda foi possível treinar o modelo ruidoso com um leve ruído de despolarização. Experimente diferentes modelos de ruído para ver como e quando o treinamento falhará. Também fique atento à funcionalidade ruidosa em `tfq.layers` e `tfq.noise`."
      ]
    }
  ],
  "metadata": {
    "colab": {
      "name": "noise.ipynb",
      "toc_visible": true
    },
    "kernelspec": {
      "display_name": "Python 3",
      "name": "python3"
    }
  },
  "nbformat": 4,
  "nbformat_minor": 0
}
