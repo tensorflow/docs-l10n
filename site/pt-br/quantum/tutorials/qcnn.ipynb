{
  "cells": [
    {
      "cell_type": "markdown",
      "metadata": {
        "id": "xLOXFOT5Q40E"
      },
      "source": [
        "##### Copyright 2020 The TensorFlow Authors."
      ]
    },
    {
      "cell_type": "code",
      "execution_count": null,
      "metadata": {
        "cellView": "form",
        "id": "iiQkM5ZgQ8r2"
      },
      "outputs": [],
      "source": [
        "#@title Licensed under the Apache License, Version 2.0 (the \"License\");\n",
        "# you may not use this file except in compliance with the License.\n",
        "# You may obtain a copy of the License at\n",
        "#\n",
        "# https://www.apache.org/licenses/LICENSE-2.0\n",
        "#\n",
        "# Unless required by applicable law or agreed to in writing, software\n",
        "# distributed under the License is distributed on an \"AS IS\" BASIS,\n",
        "# WITHOUT WARRANTIES OR CONDITIONS OF ANY KIND, either express or implied.\n",
        "# See the License for the specific language governing permissions and\n",
        "# limitations under the License."
      ]
    },
    {
      "cell_type": "markdown",
      "metadata": {
        "id": "uLeF5Nmdef0V"
      },
      "source": [
        "# Rede Neural Convolucional Quântica"
      ]
    },
    {
      "cell_type": "markdown",
      "metadata": {
        "id": "i9Jcnb8bQQyd"
      },
      "source": [
        "<table class=\"tfo-notebook-buttons\" align=\"left\">\n",
        "  <td>     <a target=\"_blank\" href=\"https://www.tensorflow.org/quantum/tutorials/qcnn\"><img src=\"https://www.tensorflow.org/images/tf_logo_32px.png\">Ver em TensorFlow.org</a>\n",
        "</td>\n",
        "  <td>     <a target=\"_blank\" href=\"https://colab.research.google.com/github/tensorflow/docs-l10n/blob/master/site/pt-br/quantum/tutorials/qcnn.ipynb\"><img src=\"https://www.tensorflow.org/images/colab_logo_32px.png\">Executar no Google Colab</a>\n",
        "</td>\n",
        "  <td>     <a target=\"_blank\" href=\"https://github.com/tensorflow/docs-l10n/blob/master/site/pt-br/quantum/tutorials/qcnn.ipynb\"><img src=\"https://www.tensorflow.org/images/GitHub-Mark-32px.png\">Ver fonte no GitHub</a>\n",
        "</td>\n",
        "  <td>     <a href=\"https://storage.googleapis.com/tensorflow_docs/docs-l10n/site/pt-br/quantum/tutorials/qcnn.ipynb\"><img src=\"https://www.tensorflow.org/images/download_logo_32px.png\">Baixar notebook</a>\n",
        "</td>\n",
        "</table>"
      ]
    },
    {
      "cell_type": "markdown",
      "metadata": {
        "id": "4D3xaWBHOIVg"
      },
      "source": [
        "Este tutorial implementa uma <a href=\"https://www.nature.com/articles/s41567-019-0648-8\" class=\"external\">Rede Neural Convolucional Quântica</a> (QCNN), um análogo quântico proposto para uma rede neural convolucional clássica que também é *translacionalmente invariante*.\n",
        "\n",
        "Este exemplo demonstra como detectar determinadas propriedades de uma fonte de dados quântica, como um sensor quântico ou uma simulação complexa de um dispositivo. A fonte de dados quântica é um <a href=\"https://arxiv.org/pdf/quant-ph/0504097.pdf\" class=\"external\">estado de cluster</a> que pode ou não ter excitação — o que a QCNN aprenderá a detectar (o dataset usado nesse artigo foi a classificação de fases SPT)."
      ]
    },
    {
      "cell_type": "markdown",
      "metadata": {
        "id": "FnjolLuz8o5C"
      },
      "source": [
        "## Configuração"
      ]
    },
    {
      "cell_type": "code",
      "execution_count": null,
      "metadata": {
        "id": "Aquwcz-0aHqz"
      },
      "outputs": [],
      "source": [
        "!pip install tensorflow==2.7.0"
      ]
    },
    {
      "cell_type": "markdown",
      "metadata": {
        "id": "e_ZuLN_N8yhT"
      },
      "source": [
        "Instale o TensorFlow Quantum:"
      ]
    },
    {
      "cell_type": "code",
      "execution_count": null,
      "metadata": {
        "id": "3Pl5PW-ACO9J"
      },
      "outputs": [],
      "source": [
        "!pip install tensorflow-quantum==0.7.2"
      ]
    },
    {
      "cell_type": "code",
      "execution_count": null,
      "metadata": {
        "id": "4Ql5PW-ACO0J"
      },
      "outputs": [],
      "source": [
        "# Update package resources to account for version changes.\n",
        "import importlib, pkg_resources\n",
        "importlib.reload(pkg_resources)"
      ]
    },
    {
      "cell_type": "markdown",
      "metadata": {
        "id": "TL_LvHXzPNjW"
      },
      "source": [
        "Agora importe o TensorFlow e as dependências de módulo:"
      ]
    },
    {
      "cell_type": "code",
      "execution_count": null,
      "metadata": {
        "id": "QytLEAtoejW5"
      },
      "outputs": [],
      "source": [
        "import tensorflow as tf\n",
        "import tensorflow_quantum as tfq\n",
        "\n",
        "import cirq\n",
        "import sympy\n",
        "import numpy as np\n",
        "\n",
        "# visualization tools\n",
        "%matplotlib inline\n",
        "import matplotlib.pyplot as plt\n",
        "from cirq.contrib.svg import SVGCircuit"
      ]
    },
    {
      "cell_type": "markdown",
      "metadata": {
        "id": "j6331ZSsQGY3"
      },
      "source": [
        "## 1. Crie uma QCNN"
      ]
    },
    {
      "cell_type": "markdown",
      "metadata": {
        "id": "Qg85u3G--CGq"
      },
      "source": [
        "### 1.1 Reúna os circuitos em um grafo do TensorFlow\n",
        "\n",
        "O TensorFlow Quantum (TFQ) fornece classes de camadas criadas para a construção de circuitos no grafo. Um exemplo é a camada `tfq.layers.AddCircuit` que herda de `tf.keras.Layer`. Essa camada pode preceder ou ser anexada ao lote de entrada de circuitos, conforme mostrado na figura abaixo.\n",
        "\n",
        "<img src=\"./images/qcnn_1.png\" width=\"700\">\n",
        "\n",
        "O fragmento a seguir usa essa camada:"
      ]
    },
    {
      "cell_type": "code",
      "execution_count": null,
      "metadata": {
        "id": "FhNf0G_OPLqZ"
      },
      "outputs": [],
      "source": [
        "qubit = cirq.GridQubit(0, 0)\n",
        "\n",
        "# Define some circuits.\n",
        "circuit1 = cirq.Circuit(cirq.X(qubit))\n",
        "circuit2 = cirq.Circuit(cirq.H(qubit))\n",
        "\n",
        "# Convert to a tensor.\n",
        "input_circuit_tensor = tfq.convert_to_tensor([circuit1, circuit2])\n",
        "\n",
        "# Define a circuit that we want to append\n",
        "y_circuit = cirq.Circuit(cirq.Y(qubit))\n",
        "\n",
        "# Instantiate our layer\n",
        "y_appender = tfq.layers.AddCircuit()\n",
        "\n",
        "# Run our circuit tensor through the layer and save the output.\n",
        "output_circuit_tensor = y_appender(input_circuit_tensor, append=y_circuit)"
      ]
    },
    {
      "cell_type": "markdown",
      "metadata": {
        "id": "ShZbRZCXkvk5"
      },
      "source": [
        "Examine o tensor de entrada:"
      ]
    },
    {
      "cell_type": "code",
      "execution_count": null,
      "metadata": {
        "id": "ImRynsUN4BSG"
      },
      "outputs": [],
      "source": [
        "print(tfq.from_tensor(input_circuit_tensor))"
      ]
    },
    {
      "cell_type": "markdown",
      "metadata": {
        "id": "xkGU4ZTUk4gf"
      },
      "source": [
        "E examine o tensor de saída:"
      ]
    },
    {
      "cell_type": "code",
      "execution_count": null,
      "metadata": {
        "id": "tfff6dJp39Fg"
      },
      "outputs": [],
      "source": [
        "print(tfq.from_tensor(output_circuit_tensor))"
      ]
    },
    {
      "cell_type": "markdown",
      "metadata": {
        "id": "23JeZ7Ns5qy5"
      },
      "source": [
        "Embora seja possível executar os exemplos abaixo sem usar `tfq.layers.AddCircuit`, é recomendável entender como a funcionalidade complexa pode ser incorporada nos grafos computacionais do TensorFlow."
      ]
    },
    {
      "cell_type": "markdown",
      "metadata": {
        "id": "GcVplt9455Hi"
      },
      "source": [
        "### 1.2 Visão geral do problema\n",
        "\n",
        "Você preparará um *estado de cluster* e treinará um classificador quântico para detectar se está \"excitado\" ou não. O estado de cluster é altamente emaranhado, mas não necessariamente difícil para um computador clássico. Para maior clareza, esse é um dataset mais simples do que o usado no artigo.\n",
        "\n",
        "Para essa tarefa de classificação, você implementará uma arquitetura de QCNN semelhante à <a href=\"https://arxiv.org/pdf/quant-ph/0610099.pdf\" class=\"external\">MERA</a>, porque:\n",
        "\n",
        "1. Como a QCNN, o estado de cluster em um anel é translacionalmente invariante.\n",
        "2. O estado de cluster é altamente emaranhado.\n",
        "\n",
        "Essa arquitetura deve ser eficaz em reduzir o emaranhamento, obtendo a classificação ao ler um único qubit.\n",
        "\n",
        "<img src=\"./images/qcnn_2.png\" width=\"1000\">\n",
        "\n",
        "Um estado de cluster \"excitado\" é definido como um estado de cluster com uma porta `cirq.rx` aplicada a qualquer um dos qubits. Qconv e QPool são discutidos mais tarde neste tutorial."
      ]
    },
    {
      "cell_type": "markdown",
      "metadata": {
        "id": "jpqtsGJH_I1d"
      },
      "source": [
        "### 1.3 Componentes básicos para o TensorFlow\n",
        "\n",
        "<img src=\"./images/qcnn_3.png\" width=\"1000\">\n",
        "\n",
        "Uma maneira de resolver esse problema com o TensorFlow Quantum é implementar o seguinte:\n",
        "\n",
        "1. A entrada do modelo é um tensor de circuito, seja um circuito vazio ou uma porta X em um qubit específico indicando uma excitação.\n",
        "2. O resto dos componentes quânticos do modelo são construídos com camadas `tfq.layers.AddCircuit`.\n",
        "3. Para inferência, é usada uma camada `tfq.layers.PQC`. Ela lê $\\langle \\hat{Z} \\rangle$ e compara com um rótulo de 1 para um estado excitado ou -1 para um estado não excitado."
      ]
    },
    {
      "cell_type": "markdown",
      "metadata": {
        "id": "oa7Q3m_ThDgO"
      },
      "source": [
        "### 1.4 Dados\n",
        "\n",
        "Antes de criar o modelo, você pode gerar seus dados. Nesse caso, será excitações no estado de cluster (o artigo original usa um dataset mais complicado). As excitações são representadas por portas `cirq.rx`. Uma rotação grande o suficiente é considerada uma excitação e rotulada como `1`, enquanto uma rotação que não é grande o suficiente é rotulada como `-1` e não é considerada uma excitação."
      ]
    },
    {
      "cell_type": "code",
      "execution_count": null,
      "metadata": {
        "id": "iUrvTCU1hDgP"
      },
      "outputs": [],
      "source": [
        "def generate_data(qubits):\n",
        "    \"\"\"Generate training and testing data.\"\"\"\n",
        "    n_rounds = 20  # Produces n_rounds * n_qubits datapoints.\n",
        "    excitations = []\n",
        "    labels = []\n",
        "    for n in range(n_rounds):\n",
        "        for bit in qubits:\n",
        "            rng = np.random.uniform(-np.pi, np.pi)\n",
        "            excitations.append(cirq.Circuit(cirq.rx(rng)(bit)))\n",
        "            labels.append(1 if (-np.pi / 2) <= rng <= (np.pi / 2) else -1)\n",
        "\n",
        "    split_ind = int(len(excitations) * 0.7)\n",
        "    train_excitations = excitations[:split_ind]\n",
        "    test_excitations = excitations[split_ind:]\n",
        "\n",
        "    train_labels = labels[:split_ind]\n",
        "    test_labels = labels[split_ind:]\n",
        "\n",
        "    return tfq.convert_to_tensor(train_excitations), np.array(train_labels), \\\n",
        "        tfq.convert_to_tensor(test_excitations), np.array(test_labels)"
      ]
    },
    {
      "cell_type": "markdown",
      "metadata": {
        "id": "wGsDkZnrhDgS"
      },
      "source": [
        "Você pode ver que, assim como no aprendizado de máquina comum, é possível criar um dataset de treinamento e de teste para fazer o benchmarking do modelo. É possível analisar rapidamente alguns pontos de dados com:"
      ]
    },
    {
      "cell_type": "code",
      "execution_count": null,
      "metadata": {
        "id": "eLJ-JHOihDgT"
      },
      "outputs": [],
      "source": [
        "sample_points, sample_labels, _, __ = generate_data(cirq.GridQubit.rect(1, 4))\n",
        "print('Input:', tfq.from_tensor(sample_points)[0], 'Output:', sample_labels[0])\n",
        "print('Input:', tfq.from_tensor(sample_points)[1], 'Output:', sample_labels[1])"
      ]
    },
    {
      "cell_type": "markdown",
      "metadata": {
        "id": "sFiRlDt_0-DL"
      },
      "source": [
        "### 1.5 Defina camadas\n",
        "\n",
        "Agora defina as camadas mostradas na figura acima no TensorFlow."
      ]
    },
    {
      "cell_type": "markdown",
      "metadata": {
        "id": "s2B9geIqLWHK"
      },
      "source": [
        "#### 1.5.1 Estado de cluster\n",
        "\n",
        "O primeiro passo é definir o <a href=\"https://arxiv.org/pdf/quant-ph/0504097.pdf\" class=\"external\">estado de cluster</a> usando <a href=\"https://github.com/quantumlib/Cirq\" class=\"external\">Cirq</a>, um framework fornecido pelo Google para programar circuitos quânticos. Como essa é a parte estática do modelo, incorpore-a usando a funcionalidade `tfq.layers.AddCircuit`."
      ]
    },
    {
      "cell_type": "code",
      "execution_count": null,
      "metadata": {
        "id": "qpQwVWKazU8g"
      },
      "outputs": [],
      "source": [
        "def cluster_state_circuit(bits):\n",
        "    \"\"\"Return a cluster state on the qubits in `bits`.\"\"\"\n",
        "    circuit = cirq.Circuit()\n",
        "    circuit.append(cirq.H.on_each(bits))\n",
        "    for this_bit, next_bit in zip(bits, bits[1:] + [bits[0]]):\n",
        "        circuit.append(cirq.CZ(this_bit, next_bit))\n",
        "    return circuit"
      ]
    },
    {
      "cell_type": "markdown",
      "metadata": {
        "id": "e9qX1uN740vJ"
      },
      "source": [
        "Exiba um circuito de estado de cluster para um retângulo de <a href=\"https://cirq.readthedocs.io/en/stable/generated/cirq.GridQubit.html\" class=\"external\"><code>cirq.GridQubit</code></a>s:"
      ]
    },
    {
      "cell_type": "code",
      "execution_count": null,
      "metadata": {
        "id": "9tZt0aAO4r4F"
      },
      "outputs": [],
      "source": [
        "SVGCircuit(cluster_state_circuit(cirq.GridQubit.rect(1, 4)))"
      ]
    },
    {
      "cell_type": "markdown",
      "metadata": {
        "id": "4xElWnRf1ZC7"
      },
      "source": [
        "#### 1.5.2 Camadas de QCNN\n",
        "\n",
        "Defina as camadas que compõem o modelo usando o <a href=\"https://arxiv.org/abs/1810.03787\" class=\"external\">artigo de Cong e Lukin sobre QCNN</a>. Há alguns pré-requisitos:\n",
        "\n",
        "- As matrizes unitárias parametrizadas de um e dois qubits do <a href=\"https://arxiv.org/abs/quant-ph/0507171\" class=\"external\">artigo de Tucci</a>.\n",
        "- Uma operação de pooling de dois qubits parametrizada geral."
      ]
    },
    {
      "cell_type": "code",
      "execution_count": null,
      "metadata": {
        "id": "oNRGOqky2exY"
      },
      "outputs": [],
      "source": [
        "def one_qubit_unitary(bit, symbols):\n",
        "    \"\"\"Make a Cirq circuit enacting a rotation of the bloch sphere about the X,\n",
        "    Y and Z axis, that depends on the values in `symbols`.\n",
        "    \"\"\"\n",
        "    return cirq.Circuit(\n",
        "        cirq.X(bit)**symbols[0],\n",
        "        cirq.Y(bit)**symbols[1],\n",
        "        cirq.Z(bit)**symbols[2])\n",
        "\n",
        "\n",
        "def two_qubit_unitary(bits, symbols):\n",
        "    \"\"\"Make a Cirq circuit that creates an arbitrary two qubit unitary.\"\"\"\n",
        "    circuit = cirq.Circuit()\n",
        "    circuit += one_qubit_unitary(bits[0], symbols[0:3])\n",
        "    circuit += one_qubit_unitary(bits[1], symbols[3:6])\n",
        "    circuit += [cirq.ZZ(*bits)**symbols[6]]\n",
        "    circuit += [cirq.YY(*bits)**symbols[7]]\n",
        "    circuit += [cirq.XX(*bits)**symbols[8]]\n",
        "    circuit += one_qubit_unitary(bits[0], symbols[9:12])\n",
        "    circuit += one_qubit_unitary(bits[1], symbols[12:])\n",
        "    return circuit\n",
        "\n",
        "\n",
        "def two_qubit_pool(source_qubit, sink_qubit, symbols):\n",
        "    \"\"\"Make a Cirq circuit to do a parameterized 'pooling' operation, which\n",
        "    attempts to reduce entanglement down from two qubits to just one.\"\"\"\n",
        "    pool_circuit = cirq.Circuit()\n",
        "    sink_basis_selector = one_qubit_unitary(sink_qubit, symbols[0:3])\n",
        "    source_basis_selector = one_qubit_unitary(source_qubit, symbols[3:6])\n",
        "    pool_circuit.append(sink_basis_selector)\n",
        "    pool_circuit.append(source_basis_selector)\n",
        "    pool_circuit.append(cirq.CNOT(control=source_qubit, target=sink_qubit))\n",
        "    pool_circuit.append(sink_basis_selector**-1)\n",
        "    return pool_circuit"
      ]
    },
    {
      "cell_type": "markdown",
      "metadata": {
        "id": "LoG0a3U_2qGA"
      },
      "source": [
        "Para ver o que você criou, imprima o circuito unitário de um qubit:"
      ]
    },
    {
      "cell_type": "code",
      "execution_count": null,
      "metadata": {
        "id": "T5uhvF-g2rpZ"
      },
      "outputs": [],
      "source": [
        "SVGCircuit(one_qubit_unitary(cirq.GridQubit(0, 0), sympy.symbols('x0:3')))"
      ]
    },
    {
      "cell_type": "markdown",
      "metadata": {
        "id": "NWuMb_Us8ar2"
      },
      "source": [
        "E o circuito unitário de dois qubits:"
      ]
    },
    {
      "cell_type": "code",
      "execution_count": null,
      "metadata": {
        "id": "aJTdRrfS2uIo"
      },
      "outputs": [],
      "source": [
        "SVGCircuit(two_qubit_unitary(cirq.GridQubit.rect(1, 2), sympy.symbols('x0:15')))"
      ]
    },
    {
      "cell_type": "markdown",
      "metadata": {
        "id": "EXQD1R_V8jyk"
      },
      "source": [
        "E o circuito de pooling de dois qubits:"
      ]
    },
    {
      "cell_type": "code",
      "execution_count": null,
      "metadata": {
        "id": "DOHRbkvH2xGK"
      },
      "outputs": [],
      "source": [
        "SVGCircuit(two_qubit_pool(*cirq.GridQubit.rect(1, 2), sympy.symbols('x0:6')))"
      ]
    },
    {
      "cell_type": "markdown",
      "metadata": {
        "id": "AzVauXWD3v8C"
      },
      "source": [
        "##### 1.5.2.1 Convolução quântica\n",
        "\n",
        "Assim como no artigo de <a href=\"https://arxiv.org/abs/1810.03787\" class=\"external\">Cong e Lukin</a>, defina a convolução quântica 1D como a aplicação de um unitário parametrizado de dois qubits a cada par de qubits adjacente com um stride de um."
      ]
    },
    {
      "cell_type": "code",
      "execution_count": null,
      "metadata": {
        "id": "1Fa19Lzb3wnR"
      },
      "outputs": [],
      "source": [
        "def quantum_conv_circuit(bits, symbols):\n",
        "    \"\"\"Quantum Convolution Layer following the above diagram.\n",
        "    Return a Cirq circuit with the cascade of `two_qubit_unitary` applied\n",
        "    to all pairs of qubits in `bits` as in the diagram above.\n",
        "    \"\"\"\n",
        "    circuit = cirq.Circuit()\n",
        "    for first, second in zip(bits[0::2], bits[1::2]):\n",
        "        circuit += two_qubit_unitary([first, second], symbols)\n",
        "    for first, second in zip(bits[1::2], bits[2::2] + [bits[0]]):\n",
        "        circuit += two_qubit_unitary([first, second], symbols)\n",
        "    return circuit"
      ]
    },
    {
      "cell_type": "markdown",
      "metadata": {
        "id": "fTzOm_t394Gj"
      },
      "source": [
        "Exiba o circuito (bastante horizontal):"
      ]
    },
    {
      "cell_type": "code",
      "execution_count": null,
      "metadata": {
        "id": "Bi6q2nmY3z_U"
      },
      "outputs": [],
      "source": [
        "SVGCircuit(\n",
        "    quantum_conv_circuit(cirq.GridQubit.rect(1, 8), sympy.symbols('x0:15')))"
      ]
    },
    {
      "cell_type": "markdown",
      "metadata": {
        "id": "3svBAfap4xhP"
      },
      "source": [
        "##### 1.5.2.2 Pooling quântico\n",
        "\n",
        "Uma camada de pooling quântico agrega os qubits $N$ para os qubits $\\frac{N}{2}$ usando o pool de dois qubits definido acima."
      ]
    },
    {
      "cell_type": "code",
      "execution_count": null,
      "metadata": {
        "id": "jD3fgcWO4yEU"
      },
      "outputs": [],
      "source": [
        "def quantum_pool_circuit(source_bits, sink_bits, symbols):\n",
        "    \"\"\"A layer that specifies a quantum pooling operation.\n",
        "    A Quantum pool tries to learn to pool the relevant information from two\n",
        "    qubits onto 1.\n",
        "    \"\"\"\n",
        "    circuit = cirq.Circuit()\n",
        "    for source, sink in zip(source_bits, sink_bits):\n",
        "        circuit += two_qubit_pool(source, sink, symbols)\n",
        "    return circuit"
      ]
    },
    {
      "cell_type": "markdown",
      "metadata": {
        "id": "NX83NHDP_Q_Z"
      },
      "source": [
        "Examine um circuito de componentes de pooling:"
      ]
    },
    {
      "cell_type": "code",
      "execution_count": null,
      "metadata": {
        "id": "pFXow2OX47O5"
      },
      "outputs": [],
      "source": [
        "test_bits = cirq.GridQubit.rect(1, 8)\n",
        "\n",
        "SVGCircuit(\n",
        "    quantum_pool_circuit(test_bits[:4], test_bits[4:], sympy.symbols('x0:6')))"
      ]
    },
    {
      "cell_type": "markdown",
      "metadata": {
        "id": "23VcPLT45Lg7"
      },
      "source": [
        "### 1.6 Definição do modelo\n",
        "\n",
        "Agora, use as camadas definidas para construir uma CNN estritamente quântica. Comece com oito qubits, reduza para um e meça $\\langle \\hat{Z} \\rangle$."
      ]
    },
    {
      "cell_type": "code",
      "execution_count": null,
      "metadata": {
        "id": "vzEsY6-n5NR0"
      },
      "outputs": [],
      "source": [
        "def create_model_circuit(qubits):\n",
        "    \"\"\"Create sequence of alternating convolution and pooling operators \n",
        "    which gradually shrink over time.\"\"\"\n",
        "    model_circuit = cirq.Circuit()\n",
        "    symbols = sympy.symbols('qconv0:63')\n",
        "    # Cirq uses sympy.Symbols to map learnable variables. TensorFlow Quantum\n",
        "    # scans incoming circuits and replaces these with TensorFlow variables.\n",
        "    model_circuit += quantum_conv_circuit(qubits, symbols[0:15])\n",
        "    model_circuit += quantum_pool_circuit(qubits[:4], qubits[4:],\n",
        "                                          symbols[15:21])\n",
        "    model_circuit += quantum_conv_circuit(qubits[4:], symbols[21:36])\n",
        "    model_circuit += quantum_pool_circuit(qubits[4:6], qubits[6:],\n",
        "                                          symbols[36:42])\n",
        "    model_circuit += quantum_conv_circuit(qubits[6:], symbols[42:57])\n",
        "    model_circuit += quantum_pool_circuit([qubits[6]], [qubits[7]],\n",
        "                                          symbols[57:63])\n",
        "    return model_circuit\n",
        "\n",
        "\n",
        "# Create our qubits and readout operators in Cirq.\n",
        "cluster_state_bits = cirq.GridQubit.rect(1, 8)\n",
        "readout_operators = cirq.Z(cluster_state_bits[-1])\n",
        "\n",
        "# Build a sequential model enacting the logic in 1.3 of this notebook.\n",
        "# Here you are making the static cluster state prep as a part of the AddCircuit and the\n",
        "# \"quantum datapoints\" are coming in the form of excitation\n",
        "excitation_input = tf.keras.Input(shape=(), dtype=tf.dtypes.string)\n",
        "cluster_state = tfq.layers.AddCircuit()(\n",
        "    excitation_input, prepend=cluster_state_circuit(cluster_state_bits))\n",
        "\n",
        "quantum_model = tfq.layers.PQC(create_model_circuit(cluster_state_bits),\n",
        "                               readout_operators)(cluster_state)\n",
        "\n",
        "qcnn_model = tf.keras.Model(inputs=[excitation_input], outputs=[quantum_model])\n",
        "\n",
        "# Show the keras plot of the model\n",
        "tf.keras.utils.plot_model(qcnn_model,\n",
        "                          show_shapes=True,\n",
        "                          show_layer_names=False,\n",
        "                          dpi=70)"
      ]
    },
    {
      "cell_type": "markdown",
      "metadata": {
        "id": "9jqTEe5VSbug"
      },
      "source": [
        "### 1.7 Treine o modelo\n",
        "\n",
        "Treine o modelo com o lote completo para simplificar esse exemplo."
      ]
    },
    {
      "cell_type": "code",
      "execution_count": null,
      "metadata": {
        "id": "_TFkAm1sQZEN"
      },
      "outputs": [],
      "source": [
        "# Generate some training data.\n",
        "train_excitations, train_labels, test_excitations, test_labels = generate_data(\n",
        "    cluster_state_bits)\n",
        "\n",
        "\n",
        "# Custom accuracy metric.\n",
        "@tf.function\n",
        "def custom_accuracy(y_true, y_pred):\n",
        "    y_true = tf.squeeze(y_true)\n",
        "    y_pred = tf.map_fn(lambda x: 1.0 if x >= 0 else -1.0, y_pred)\n",
        "    return tf.keras.backend.mean(tf.keras.backend.equal(y_true, y_pred))\n",
        "\n",
        "\n",
        "qcnn_model.compile(optimizer=tf.keras.optimizers.Adam(learning_rate=0.02),\n",
        "                   loss=tf.losses.mse,\n",
        "                   metrics=[custom_accuracy])\n",
        "\n",
        "history = qcnn_model.fit(x=train_excitations,\n",
        "                         y=train_labels,\n",
        "                         batch_size=16,\n",
        "                         epochs=25,\n",
        "                         verbose=1,\n",
        "                         validation_data=(test_excitations, test_labels))"
      ]
    },
    {
      "cell_type": "code",
      "execution_count": null,
      "metadata": {
        "id": "2tiCJOb5Qzcr"
      },
      "outputs": [],
      "source": [
        "plt.plot(history.history['loss'][1:], label='Training')\n",
        "plt.plot(history.history['val_loss'][1:], label='Validation')\n",
        "plt.title('Training a Quantum CNN to Detect Excited Cluster States')\n",
        "plt.xlabel('Epochs')\n",
        "plt.ylabel('Loss')\n",
        "plt.legend()\n",
        "plt.show()"
      ]
    },
    {
      "cell_type": "markdown",
      "metadata": {
        "id": "GyrkcEReQ5Bc"
      },
      "source": [
        "## 2. Modelos híbridos\n",
        "\n",
        "Você não precisa reduzir oito qubits a um usando a convolução quântica — é possível fazer umas ou duas rodadas de convolução quântica e alimentar os resultados a uma rede neural clássica. Essa seção explora modelos quântico-clássico híbridos."
      ]
    },
    {
      "cell_type": "markdown",
      "metadata": {
        "id": "A2tOK22t7Kjm"
      },
      "source": [
        "### 2.1 Modelo híbrido com um único filtro quântico\n",
        "\n",
        "Aplique uma camada de convolução quântica, lendo $\\langle \\hat{Z}_n \\rangle$ em todos os bits, seguida por uma rede neural densamente conectada.\n",
        "\n",
        "<img src=\"./images/qcnn_5.png\" width=\"1000\">"
      ]
    },
    {
      "cell_type": "markdown",
      "metadata": {
        "id": "lKXuOApgWYFa"
      },
      "source": [
        "#### 2.1.1 Definição do modelo"
      ]
    },
    {
      "cell_type": "code",
      "execution_count": null,
      "metadata": {
        "id": "Ut-U1hBkQ8Fs"
      },
      "outputs": [],
      "source": [
        "# 1-local operators to read out\n",
        "readouts = [cirq.Z(bit) for bit in cluster_state_bits[4:]]\n",
        "\n",
        "\n",
        "def multi_readout_model_circuit(qubits):\n",
        "    \"\"\"Make a model circuit with less quantum pool and conv operations.\"\"\"\n",
        "    model_circuit = cirq.Circuit()\n",
        "    symbols = sympy.symbols('qconv0:21')\n",
        "    model_circuit += quantum_conv_circuit(qubits, symbols[0:15])\n",
        "    model_circuit += quantum_pool_circuit(qubits[:4], qubits[4:],\n",
        "                                          symbols[15:21])\n",
        "    return model_circuit\n",
        "\n",
        "\n",
        "# Build a model enacting the logic in 2.1 of this notebook.\n",
        "excitation_input_dual = tf.keras.Input(shape=(), dtype=tf.dtypes.string)\n",
        "\n",
        "cluster_state_dual = tfq.layers.AddCircuit()(\n",
        "    excitation_input_dual, prepend=cluster_state_circuit(cluster_state_bits))\n",
        "\n",
        "quantum_model_dual = tfq.layers.PQC(\n",
        "    multi_readout_model_circuit(cluster_state_bits),\n",
        "    readouts)(cluster_state_dual)\n",
        "\n",
        "d1_dual = tf.keras.layers.Dense(8)(quantum_model_dual)\n",
        "\n",
        "d2_dual = tf.keras.layers.Dense(1)(d1_dual)\n",
        "\n",
        "hybrid_model = tf.keras.Model(inputs=[excitation_input_dual], outputs=[d2_dual])\n",
        "\n",
        "# Display the model architecture\n",
        "tf.keras.utils.plot_model(hybrid_model,\n",
        "                          show_shapes=True,\n",
        "                          show_layer_names=False,\n",
        "                          dpi=70)"
      ]
    },
    {
      "cell_type": "markdown",
      "metadata": {
        "id": "qDqoLZJuWcgH"
      },
      "source": [
        "#### 2.1.2 Treine o modelo"
      ]
    },
    {
      "cell_type": "code",
      "execution_count": null,
      "metadata": {
        "id": "EyYw9kYIRCE7"
      },
      "outputs": [],
      "source": [
        "hybrid_model.compile(optimizer=tf.keras.optimizers.Adam(learning_rate=0.02),\n",
        "                     loss=tf.losses.mse,\n",
        "                     metrics=[custom_accuracy])\n",
        "\n",
        "hybrid_history = hybrid_model.fit(x=train_excitations,\n",
        "                                  y=train_labels,\n",
        "                                  batch_size=16,\n",
        "                                  epochs=25,\n",
        "                                  verbose=1,\n",
        "                                  validation_data=(test_excitations,\n",
        "                                                   test_labels))"
      ]
    },
    {
      "cell_type": "code",
      "execution_count": null,
      "metadata": {
        "id": "yL3jhGiBRJHt"
      },
      "outputs": [],
      "source": [
        "plt.plot(history.history['val_custom_accuracy'], label='QCNN')\n",
        "plt.plot(hybrid_history.history['val_custom_accuracy'], label='Hybrid CNN')\n",
        "plt.title('Quantum vs Hybrid CNN performance')\n",
        "plt.xlabel('Epochs')\n",
        "plt.legend()\n",
        "plt.ylabel('Validation Accuracy')\n",
        "plt.show()"
      ]
    },
    {
      "cell_type": "markdown",
      "metadata": {
        "id": "NCNiNvheRNzq"
      },
      "source": [
        "Como você pode ver, com uma assistência clássica bastante modesta, o modelo híbrido geralmente converge com mais rapidez do que a versão puramente quântica."
      ]
    },
    {
      "cell_type": "markdown",
      "metadata": {
        "id": "nVUtWLZnRRDE"
      },
      "source": [
        "### 2.2 Convolução híbrida com vários filtros quânticos\n",
        "\n",
        "Agora vamos testar uma arquitetura que usa várias convoluções quânticas e uma rede neural clássica para combiná-las.\n",
        "\n",
        "<img src=\"./images/qcnn_6.png\" width=\"1000\">"
      ]
    },
    {
      "cell_type": "markdown",
      "metadata": {
        "id": "Ldo_m5P3YBV7"
      },
      "source": [
        "#### 2.2.1 Definição do modelo"
      ]
    },
    {
      "cell_type": "code",
      "execution_count": null,
      "metadata": {
        "id": "W3TkNVm9RTBj"
      },
      "outputs": [],
      "source": [
        "excitation_input_multi = tf.keras.Input(shape=(), dtype=tf.dtypes.string)\n",
        "\n",
        "cluster_state_multi = tfq.layers.AddCircuit()(\n",
        "    excitation_input_multi, prepend=cluster_state_circuit(cluster_state_bits))\n",
        "\n",
        "# apply 3 different filters and measure expectation values\n",
        "\n",
        "quantum_model_multi1 = tfq.layers.PQC(\n",
        "    multi_readout_model_circuit(cluster_state_bits),\n",
        "    readouts)(cluster_state_multi)\n",
        "\n",
        "quantum_model_multi2 = tfq.layers.PQC(\n",
        "    multi_readout_model_circuit(cluster_state_bits),\n",
        "    readouts)(cluster_state_multi)\n",
        "\n",
        "quantum_model_multi3 = tfq.layers.PQC(\n",
        "    multi_readout_model_circuit(cluster_state_bits),\n",
        "    readouts)(cluster_state_multi)\n",
        "\n",
        "# concatenate outputs and feed into a small classical NN\n",
        "concat_out = tf.keras.layers.concatenate(\n",
        "    [quantum_model_multi1, quantum_model_multi2, quantum_model_multi3])\n",
        "\n",
        "dense_1 = tf.keras.layers.Dense(8)(concat_out)\n",
        "\n",
        "dense_2 = tf.keras.layers.Dense(1)(dense_1)\n",
        "\n",
        "multi_qconv_model = tf.keras.Model(inputs=[excitation_input_multi],\n",
        "                                   outputs=[dense_2])\n",
        "\n",
        "# Display the model architecture\n",
        "tf.keras.utils.plot_model(multi_qconv_model,\n",
        "                          show_shapes=True,\n",
        "                          show_layer_names=True,\n",
        "                          dpi=70)"
      ]
    },
    {
      "cell_type": "markdown",
      "metadata": {
        "id": "2eNhDWwKY9N4"
      },
      "source": [
        "#### 2.2.2 Treine o modelo"
      ]
    },
    {
      "cell_type": "code",
      "execution_count": null,
      "metadata": {
        "id": "suRvxcAKRZK6"
      },
      "outputs": [],
      "source": [
        "multi_qconv_model.compile(\n",
        "    optimizer=tf.keras.optimizers.Adam(learning_rate=0.02),\n",
        "    loss=tf.losses.mse,\n",
        "    metrics=[custom_accuracy])\n",
        "\n",
        "multi_qconv_history = multi_qconv_model.fit(x=train_excitations,\n",
        "                                            y=train_labels,\n",
        "                                            batch_size=16,\n",
        "                                            epochs=25,\n",
        "                                            verbose=1,\n",
        "                                            validation_data=(test_excitations,\n",
        "                                                             test_labels))"
      ]
    },
    {
      "cell_type": "code",
      "execution_count": null,
      "metadata": {
        "id": "-6NR7yAQRmOU"
      },
      "outputs": [],
      "source": [
        "plt.plot(history.history['val_custom_accuracy'][:25], label='QCNN')\n",
        "plt.plot(hybrid_history.history['val_custom_accuracy'][:25], label='Hybrid CNN')\n",
        "plt.plot(multi_qconv_history.history['val_custom_accuracy'][:25],\n",
        "         label='Hybrid CNN \\n Multiple Quantum Filters')\n",
        "plt.title('Quantum vs Hybrid CNN performance')\n",
        "plt.xlabel('Epochs')\n",
        "plt.legend()\n",
        "plt.ylabel('Validation Accuracy')\n",
        "plt.show()"
      ]
    }
  ],
  "metadata": {
    "colab": {
      "collapsed_sections": [],
      "name": "qcnn.ipynb",
      "toc_visible": true
    },
    "kernelspec": {
      "display_name": "Python 3",
      "name": "python3"
    }
  },
  "nbformat": 4,
  "nbformat_minor": 0
}
