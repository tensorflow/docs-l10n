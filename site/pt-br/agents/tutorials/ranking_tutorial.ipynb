{
  "cells": [
    {
      "cell_type": "markdown",
      "metadata": {
        "id": "6tzp2bPEiK_S"
      },
      "source": [
        "##### Copyright 2023 The TF-Agents Authors."
      ]
    },
    {
      "cell_type": "code",
      "execution_count": null,
      "metadata": {
        "cellView": "form",
        "id": "E2347LPWgmcO"
      },
      "outputs": [],
      "source": [
        "#@title Licensed under the Apache License, Version 2.0 (the \"License\");\n",
        "# you may not use this file except in compliance with the License.\n",
        "# You may obtain a copy of the License at\n",
        "#\n",
        "# https://www.apache.org/licenses/LICENSE-2.0\n",
        "#\n",
        "# Unless required by applicable law or agreed to in writing, software\n",
        "# distributed under the License is distributed on an \"AS IS\" BASIS,\n",
        "# WITHOUT WARRANTIES OR CONDITIONS OF ANY KIND, either express or implied.\n",
        "# See the License for the specific language governing permissions and\n",
        "# limitations under the License."
      ]
    },
    {
      "cell_type": "markdown",
      "metadata": {
        "id": "0lfjAG3IiHSU"
      },
      "source": [
        "# Tutorial de ranking no TF-Agents"
      ]
    },
    {
      "cell_type": "markdown",
      "metadata": {
        "id": "OQJdLZ636rDN"
      },
      "source": [
        "### Como começar\n",
        "\n",
        "<table class=\"tfo-notebook-buttons\" align=\"left\">\n",
        "  <td>     <a target=\"_blank\" href=\"https://www.tensorflow.org/agents/tutorials/ranking_tutorial\">     <img src=\"https://www.tensorflow.org/images/tf_logo_32px.png\">     Ver em TensorFlow.org</a>\n",
        "</td>\n",
        "  <td>     <a target=\"_blank\" href=\"https://colab.research.google.com/github/tensorflow/docs-l10n/blob/master/site/pt-br/agents/tutorials/ranking_tutorial.ipynb\">     <img src=\"https://www.tensorflow.org/images/colab_logo_32px.png\">     Executar no Google Colab</a>\n",
        "</td>\n",
        "  <td>     <a target=\"_blank\" href=\"https://github.com/tensorflow/docs-l10n/blob/master/site/pt-br/agents/tutorials/ranking_tutorial.ipynb\">     <img src=\"https://www.tensorflow.org/images/GitHub-Mark-32px.png\">     Ver fonte no GitHub</a>\n",
        "</td>\n",
        "  <td>     <a href=\"https://storage.googleapis.com/tensorflow_docs/docs-l10n/site/pt-br/agents/tutorials/ranking_tutorial.ipynb\"><img src=\"https://www.tensorflow.org/images/download_logo_32px.png\">Baixar notebook</a>\n",
        "</td>\n",
        "</table>\n"
      ]
    },
    {
      "cell_type": "markdown",
      "metadata": {
        "id": "ql6S68mZ6hMG"
      },
      "source": [
        "### Configuração"
      ]
    },
    {
      "cell_type": "code",
      "execution_count": null,
      "metadata": {
        "id": "tFs2W62pqUxk"
      },
      "outputs": [],
      "source": [
        "!pip install tf-agents[reverb]"
      ]
    },
    {
      "cell_type": "code",
      "execution_count": null,
      "metadata": {
        "id": "1dbfZarwmB96"
      },
      "outputs": [],
      "source": [
        "#@title Imports\n",
        "import matplotlib.pyplot as plt\n",
        "import numpy as np\n",
        "import tensorflow as tf\n",
        "\n",
        "from tf_agents.bandits.agents import ranking_agent\n",
        "from tf_agents.bandits.agents.examples.v2 import trainer\n",
        "from tf_agents.bandits.environments import ranking_environment\n",
        "from tf_agents.bandits.networks import global_and_arm_feature_network\n",
        "from tf_agents.environments import tf_py_environment\n",
        "from tf_agents.bandits.policies import ranking_policy\n",
        "from tf_agents.bandits.replay_buffers import bandit_replay_buffer\n",
        "from tf_agents.drivers import dynamic_step_driver\n",
        "from tf_agents.metrics import tf_metrics\n",
        "from tf_agents.specs import bandit_spec_utils\n",
        "from tf_agents.specs import tensor_spec\n",
        "from tf_agents.trajectories import trajectory"
      ]
    },
    {
      "cell_type": "markdown",
      "metadata": {
        "id": "l-KqVvl_g9El"
      },
      "source": [
        "# Introdução"
      ]
    },
    {
      "cell_type": "markdown",
      "metadata": {
        "id": "OoHE8C13g2O1"
      },
      "source": [
        "Neste tutorial, vamos guiar você pelos algoritmos de ranking implementados como parte da biblioteca Bandits do TF-Agents. Em um problema de ranking, em cada iteração, um agente é apresentado com um conjunto de itens e recebe a tarefa de classificar todos ou alguns deles em uma lista. Essa decisão de ranking recebe alguma forma de feedback (talvez um usuário clique ou não em um ou mais itens selecionados, por exemplo). A meta do agente é otimizar alguma métrica/recompensa com o objetivo de tomar decisões melhores ao longo do tempo."
      ]
    },
    {
      "cell_type": "markdown",
      "metadata": {
        "id": "-chVGcJVll1G"
      },
      "source": [
        "# Pré-requisitos"
      ]
    },
    {
      "cell_type": "markdown",
      "metadata": {
        "id": "M92k7X27lqOM"
      },
      "source": [
        "Os algoritmos de ranking no TF-Agents pertencem a um tipo especial de agentes bandit que operam em problemas de bandit \"por braço\". Portanto, para aproveitar este tutorial ao máximo, o leitor deve se familiarizar com os tutoriais de [bandit](https://github.com/tensorflow/agents/tree/master/docs/tutorials/bandits_tutorial.ipynb) e [bandit por braço](https://github.com/tensorflow/agents/tree/master/docs/tutorials/per_arm_bandits_tutorial.ipynb)."
      ]
    },
    {
      "cell_type": "markdown",
      "metadata": {
        "id": "o3gxWMIGvhNX"
      },
      "source": [
        "# O problema do ranking e as variantes"
      ]
    },
    {
      "cell_type": "markdown",
      "metadata": {
        "id": "ek9XbdjDvlFs"
      },
      "source": [
        "Para este tutorial, vamos usar o exemplo de apresentar itens para venda a usuários. Em cada iteração, recebemos um conjunto de itens e, possivelmente, um número descrevendo quantos devem ser exibidos. Presumimos que o número de itens disponíveis seja sempre maior ou igual ao número de slots em que eles são colocados. Precisamos preencher os slots na vitrine para maximizar a probabilidade de interação dos usuários com um ou mais dos itens exibidos. O usuário, assim como os itens, são descritos por *características*.\n",
        "\n",
        "Se conseguirmos exibir itens de que o usuário gosta, a probabilidade das interações entre o usuário e o item aumenta. Então, é uma boa ideia aprender a correspondência de pares usuário-item. Mas como saber se o usuário gosta de um item? Para isso, apresentamos os *Tipos de feedback*."
      ]
    },
    {
      "cell_type": "markdown",
      "metadata": {
        "id": "cTZ9RvYrDM2u"
      },
      "source": [
        "#Tipos de feedback"
      ]
    },
    {
      "cell_type": "markdown",
      "metadata": {
        "id": "QNWZmMRoDPRX"
      },
      "source": [
        "Ao contrário dos problemas de bandit em que o sinal de feedback (a recompensa) é associada diretamente a um único item escolhido, no ranking, precisamos considerar como o feedback se traduz na \"qualidade\" dos itens exibidos. Em outras palavras, precisamos atribuir pontuações a todos ou alguns dos itens exibidos. Na nossa biblioteca, oferecemos dois tipos de feedback diferentes: *feedback de vetor* e *feedback em cascata*."
      ]
    },
    {
      "cell_type": "markdown",
      "metadata": {
        "id": "x5c71Vyrul4z"
      },
      "source": [
        "## Feedback de vetor"
      ]
    },
    {
      "cell_type": "markdown",
      "metadata": {
        "id": "ekcxCX-Ru8I1"
      },
      "source": [
        "No tipo de feedback de vetor, presumimos que o agente recebe uma pontuação escalar para todos os itens no ranking de saída. Esses escalares são reunidos em um vetor na mesma ordem que o ranking de saída. Portanto, o feedback é um vetor do mesmo tamanho que o número de elementos no ranking.\n",
        "\n",
        "Esse tipo de feedback é bastante direto, no sentido de que não precisamos nos preocupar em converter os sinais de feedback em pontuações. Por outro lado, a responsabilidade de pontuar itens cai sobre o designer (ou seja, você): cabe ao designer do sistema decidir quais pontuações dar com base no item, na posição dele e se ele teve interação do usuário."
      ]
    },
    {
      "cell_type": "markdown",
      "metadata": {
        "id": "p9mnWzWbu3II"
      },
      "source": [
        "##Feedback em cascata"
      ]
    },
    {
      "cell_type": "markdown",
      "metadata": {
        "id": "zUk2__0CvsLz"
      },
      "source": [
        "No tipo de feedback em cascata (termo cunhado por [Craswell et al., 2008](https://dl.acm.org/doi/abs/10.1145/1341531.1341545)), presumimos que o usuário olha para os itens exibidos de maneira sequencial, começando pelo slot superior. Assim que o usuário encontra um item digno de clique, ele clica e não retorna mais para a lista de ranking atual. Ele nem mesmo olha para os itens abaixo do clicado. Não clicar em nenhum item também é uma possibilidade. Isso acontece quando nenhum dos itens exibidos são dignos de clique. Nesse caso, o usuário olha todos os itens.\n",
        "\n",
        "O sinal de feedback é composto por dois elementos: o índice do elemento escolhido e o valor do clique. Em seguida, é a tarefa do agente traduzir essas informações em pontuações. Em nossa implementação na biblioteca de bandit, implementamos a convenção de que os itens vistos mas não clicados recebem uma pontuação baixa (geralmente 0 ou -1), os itens clicados recebem o valor de clique e os itens abaixo do clicado são ignorados pelo agente."
      ]
    },
    {
      "cell_type": "markdown",
      "metadata": {
        "id": "Ey94cmzkDUP7"
      },
      "source": [
        "# Diversidade e exploração"
      ]
    },
    {
      "cell_type": "markdown",
      "metadata": {
        "id": "7JcMNvBDDX_b"
      },
      "source": [
        "Para maximizar as chances de um usuário clicar em um item, não basta só escolher os itens de pontuação mais alta e colocá-los no topo do ranking. Para um usuário com vários interesses diferentes, ele pode se interessar mais por esportes, mas também gostar de artes e viagens. Dar as maiores pontuações estimadas a todos os itens esportivos e mostrar todos esses itens nos slots mais altos pode não ser ideal. O usuário pode estar no clima de artes ou viagens. Por isso, é uma boa ideia exibir uma combinação de interesses com pontuações altas. É importante maximizar a pontuação dos itens mostrados e também garantir que eles formem um conjunto diversificado.\n",
        "\n",
        "Como outros problemas de aprendizado com informações limitadas (como bandits), também é importante considerar que nossas decisões não só afetam a recompensa imediata, como também os dados de treinamento e a recompensa futura. Se só mostrarmos itens com base na pontuação estimada atual, podemos perder itens com pontuações altas que ainda não foram muito explorados e, assim, não saber como eles são bons. Ou seja, precisamos incorporar a exploração ao nosso processo de tomada de decisões.\n",
        "\n",
        "Todos os conceitos e considerações acima são abordados na nossa biblioteca. Neste tutorial, vamos explicar os detalhes."
      ]
    },
    {
      "cell_type": "markdown",
      "metadata": {
        "id": "jwWucISQQSGt"
      },
      "source": [
        "# Simulação de usuários: nosso ambiente de teste"
      ]
    },
    {
      "cell_type": "markdown",
      "metadata": {
        "id": "lxLWjKe1Q2Xz"
      },
      "source": [
        "Vamos nos aprofundar em nossa base de código!\n",
        "\n",
        "Primeiro, definimos o ambiente, a classe responsável pela geração aleatória de características de usuários e itens, e damos feedback após as decisões."
      ]
    },
    {
      "cell_type": "code",
      "execution_count": null,
      "metadata": {
        "id": "sR8Id9Y7mhBK"
      },
      "outputs": [],
      "source": [
        "feedback_model = ranking_environment.FeedbackModel.CASCADING #@param[\"ranking_environment.FeedbackModel.SCORE_VECTOR\", \"ranking_environment.FeedbackModel.CASCADING\"] {type:\"raw\"}\n"
      ]
    },
    {
      "cell_type": "markdown",
      "metadata": {
        "id": "M38wgZHqcI-M"
      },
      "source": [
        "Também precisamos de um modelo para o ambiente decidir quando *não clicar*. Temos duas maneiras na nossa biblioteca: *baseada na distância* e *ações fantasmas*.\n",
        "\n",
        "- Para a baseada na distância, se as características do usuário não forem próximas o suficiente de quaisquer características dos itens, o usuário não clica.\n",
        "- No modelo de ações fantasmas, configuramos ações imaginárias adicionais na forma de características de itens de vetores unitários. Se o usuário escolher uma das ações fantasmas, não resulta em um clique.\n"
      ]
    },
    {
      "cell_type": "code",
      "execution_count": null,
      "metadata": {
        "cellView": "form",
        "id": "3b1hYbTxi6Kg"
      },
      "outputs": [],
      "source": [
        "click_type = \"ghost_actions\"  #@param[\"distance_based\", \"ghost_actions\"]\n",
        "click_model = (ranking_environment.ClickModel.DISTANCE_BASED\n",
        "               if click_type == \"distance_based\" else\n",
        "               ranking_environment.ClickModel.GHOST_ACTIONS)"
      ]
    },
    {
      "cell_type": "markdown",
      "metadata": {
        "id": "1Ut1nnmB6_9T"
      },
      "source": [
        "Já está quase tudo pronto para definir o ambiente de ranking, faltam só alguns preparativos: definir as funções de amostragem para as características do item e do global (usuário). Essas características serão usadas pelo ambiente para simular um comportamento de usuário: um produto interno ponderado das características do global e do item é calculado, e a probabilidade de o usuário clicar é proporcional aos valores do produto interno. A ponderação do produto interno é definida pela `scores_weight_matrix` abaixo."
      ]
    },
    {
      "cell_type": "code",
      "execution_count": null,
      "metadata": {
        "id": "ueVe8Gf77Lad"
      },
      "outputs": [],
      "source": [
        "global_dim = 9  #@param{ type: \"integer\"}\n",
        "item_dim   = 11  #@param{ type: \"integer\"}\n",
        "num_items  = 50 #@param{ type: \"integer\"}\n",
        "num_slots  = 3  #@param{ type: \"integer\"}\n",
        "distance_threshold = 5.0  #@param{ type: \"number\" }\n",
        "batch_size = 128   #@param{ type: \"integer\"}\n",
        "\n",
        "def global_sampling_fn():\n",
        "  return np.random.randint(-1, 1, [global_dim]).astype(np.float32)\n",
        "\n",
        "def item_sampling_fn():\n",
        "  return np.random.randint(-2, 3, [item_dim]).astype(np.float32)\n",
        "\n",
        "# Inner product with excess dimensions ignored.\n",
        "scores_weight_matrix = np.eye(11, 9, dtype=np.float32)\n",
        "\n",
        "env = ranking_environment.RankingPyEnvironment(\n",
        "    global_sampling_fn,\n",
        "    item_sampling_fn,\n",
        "    num_items=num_items,\n",
        "    num_slots=num_slots,\n",
        "    scores_weight_matrix=scores_weight_matrix,\n",
        "    feedback_model=feedback_model,\n",
        "    click_model=click_model,\n",
        "    distance_threshold=distance_threshold,\n",
        "    batch_size=batch_size)\n",
        "\n",
        "# Convert the python environment to tf environment.\n",
        "environment = tf_py_environment.TFPyEnvironment(env)"
      ]
    },
    {
      "cell_type": "markdown",
      "metadata": {
        "id": "wN2aFkL_qHJe"
      },
      "source": [
        "Agora, vamos definir alguns agentes diferentes que vão lidar com o ambiente acima! Todos os agentes treinam uma rede que estima pontuações de pares item/usuário. A diferença está na política, ou seja, a maneira como a rede treinada é usada para tomar uma decisão de ranking. As políticas implementadas variam de apenas classificar o ranking com base nas pontuações até considerar a diversidade e exploração com a capacidade de ajustar a combinação desses aspectos."
      ]
    },
    {
      "cell_type": "code",
      "execution_count": null,
      "metadata": {
        "id": "MBJgkyFC64rR"
      },
      "outputs": [],
      "source": [
        "#@title Defining the Network and Training Params\n",
        "scoring_network = (\n",
        "      global_and_arm_feature_network.create_feed_forward_common_tower_network(\n",
        "          environment.observation_spec(), (20, 10), (20, 10), (20, 10)))\n",
        "learning_rate = 0.005  #@param{ type: \"number\"}\n",
        "\n",
        "feedback_dict = {ranking_environment.FeedbackModel.CASCADING: ranking_agent.FeedbackModel.CASCADING,\n",
        "                 ranking_environment.FeedbackModel.SCORE_VECTOR: ranking_agent.FeedbackModel.SCORE_VECTOR}\n",
        "agent_feedback_model = feedback_dict[feedback_model]"
      ]
    },
    {
      "cell_type": "code",
      "execution_count": null,
      "metadata": {
        "id": "ufuiBZsg5YrR"
      },
      "outputs": [],
      "source": [
        "#@title Stack Ranking Deterministically by Scores\n",
        "\n",
        "policy_type = ranking_agent.RankingPolicyType.DESCENDING_SCORES\n",
        "descending_scores_agent = ranking_agent.RankingAgent(\n",
        "    time_step_spec=environment.time_step_spec(),\n",
        "    action_spec=environment.action_spec(),\n",
        "    scoring_network=scoring_network,\n",
        "    optimizer=tf.compat.v1.train.AdamOptimizer(learning_rate=learning_rate),\n",
        "    feedback_model=agent_feedback_model,\n",
        "    policy_type=policy_type,\n",
        "    summarize_grads_and_vars=True)"
      ]
    },
    {
      "cell_type": "code",
      "execution_count": null,
      "metadata": {
        "id": "8ko9D3qO7gUs"
      },
      "outputs": [],
      "source": [
        "#@title Sampling Sequentially Based on Scores\n",
        "\n",
        "policy_type = ranking_agent.RankingPolicyType.NO_PENALTY\n",
        "logits_temperature = 1.0  #@param{ type: \"number\" }\n",
        "\n",
        "no_penalty_agent = ranking_agent.RankingAgent(\n",
        "    time_step_spec=environment.time_step_spec(),\n",
        "    action_spec=environment.action_spec(),\n",
        "    scoring_network=scoring_network,\n",
        "    optimizer=tf.compat.v1.train.AdamOptimizer(learning_rate=learning_rate),\n",
        "    feedback_model=agent_feedback_model,\n",
        "    policy_type=policy_type,\n",
        "    logits_temperature=logits_temperature,\n",
        "    summarize_grads_and_vars=True)"
      ]
    },
    {
      "cell_type": "code",
      "execution_count": null,
      "metadata": {
        "cellView": "form",
        "id": "Gnv5c4w094A4"
      },
      "outputs": [],
      "source": [
        "#@title Sampling Sequentally and Taking Diversity into Account\n",
        "#@markdown The balance between ranking based on scores and taking diversity into account is governed by the following \"penalty mixture\" parameter. A low positive value results in rankings that hardly mix in diversity, a higher value will enforce more diversity.\n",
        "\n",
        "policy_type = ranking_agent.RankingPolicyType.COSINE_DISTANCE\n",
        "penalty_mixture = 1.0 #@param{ type: \"number\"}\n",
        "\n",
        "cosine_distance_agent = ranking_agent.RankingAgent(\n",
        "    time_step_spec=environment.time_step_spec(),\n",
        "    action_spec=environment.action_spec(),\n",
        "    scoring_network=scoring_network,\n",
        "    optimizer=tf.compat.v1.train.AdamOptimizer(learning_rate=learning_rate),\n",
        "    feedback_model=agent_feedback_model,\n",
        "    policy_type=policy_type,\n",
        "    logits_temperature=logits_temperature,\n",
        "    penalty_mixture_coefficient=penalty_mixture,\n",
        "    summarize_grads_and_vars=True)\n"
      ]
    },
    {
      "cell_type": "code",
      "execution_count": null,
      "metadata": {
        "id": "ZMImW7rrWn5w"
      },
      "outputs": [],
      "source": [
        "#@title Choosing the desired agent.\n",
        "agent_type = \"cosine_distance_agent\" #@param[\"cosine_distance_agent\", \"no_penalty_agent\", \"descending_scores_agent\"]\n",
        "if agent_type == \"descending_scores_agent\":\n",
        "  agent = descending_scores_agent\n",
        "elif agent_type == \"no_penalty_agent\":\n",
        "  agent = no_penalty_agent\n",
        "else:\n",
        "  agent = cosine_distance_agent"
      ]
    },
    {
      "cell_type": "markdown",
      "metadata": {
        "id": "SYQ2sCaz6tTX"
      },
      "source": [
        "Antes de começar nosso loop de treinamento, precisamos tratar de mais uma coisa em relação aos dados de treinamento.\n",
        "\n",
        "As características do braço apresentadas a essa política no momento de decisão contêm todos os itens que a política pode escolher. No entanto, no treinamento, precisamos das características dos itens que foram selecionados e, para conveniência, na ordem da saída de decisão. Para isso, a seguinte função é usada (copiada [daqui](https://github.com/tensorflow/agents/tree/master/tf_agents/bandits/agents/examples/v2/train_eval_ranking.py) para maior clareza)."
      ]
    },
    {
      "cell_type": "code",
      "execution_count": null,
      "metadata": {
        "id": "vpUfQXgD7y0t"
      },
      "outputs": [],
      "source": [
        "def order_items_from_action_fn(orig_trajectory):\n",
        "  \"\"\"Puts the features of the selected items in the recommendation order.\n",
        "\n",
        "  This function is used to make sure that at training the item observation is\n",
        "  filled with features of items selected by the policy, in the order of the\n",
        "  selection. Features of unselected items are discarded.\n",
        "\n",
        "  Args:\n",
        "    orig_trajectory: The trajectory as output by the policy\n",
        "\n",
        "  Returns:\n",
        "    The modified trajectory that contains slotted item features.\n",
        "  \"\"\"\n",
        "  item_obs = orig_trajectory.observation[\n",
        "      bandit_spec_utils.PER_ARM_FEATURE_KEY]\n",
        "  action = orig_trajectory.action\n",
        "  if isinstance(\n",
        "      orig_trajectory.observation[bandit_spec_utils.PER_ARM_FEATURE_KEY],\n",
        "      tensor_spec.TensorSpec):\n",
        "    dtype = orig_trajectory.observation[\n",
        "        bandit_spec_utils.PER_ARM_FEATURE_KEY].dtype\n",
        "    shape = [\n",
        "        num_slots, orig_trajectory.observation[\n",
        "            bandit_spec_utils.PER_ARM_FEATURE_KEY].shape[-1]\n",
        "    ]\n",
        "    new_observation = {\n",
        "        bandit_spec_utils.GLOBAL_FEATURE_KEY:\n",
        "            orig_trajectory.observation[bandit_spec_utils.GLOBAL_FEATURE_KEY],\n",
        "        bandit_spec_utils.PER_ARM_FEATURE_KEY:\n",
        "            tensor_spec.TensorSpec(dtype=dtype, shape=shape)\n",
        "    }\n",
        "  else:\n",
        "    slotted_items = tf.gather(item_obs, action, batch_dims=1)\n",
        "    new_observation = {\n",
        "        bandit_spec_utils.GLOBAL_FEATURE_KEY:\n",
        "            orig_trajectory.observation[bandit_spec_utils.GLOBAL_FEATURE_KEY],\n",
        "        bandit_spec_utils.PER_ARM_FEATURE_KEY:\n",
        "            slotted_items\n",
        "    }\n",
        "  return trajectory.Trajectory(\n",
        "      step_type=orig_trajectory.step_type,\n",
        "      observation=new_observation,\n",
        "      action=(),\n",
        "      policy_info=(),\n",
        "      next_step_type=orig_trajectory.next_step_type,\n",
        "      reward=orig_trajectory.reward,\n",
        "      discount=orig_trajectory.discount)"
      ]
    },
    {
      "cell_type": "code",
      "execution_count": null,
      "metadata": {
        "id": "VQDWXgDUsCZ1"
      },
      "outputs": [],
      "source": [
        "#@title Defininfing Parameters to Run the Agent on the Defined Environment\n",
        "num_iterations = 400 #@param{ type: \"number\" }\n",
        "steps_per_loop = 2   #@param{ type: \"integer\" }"
      ]
    },
    {
      "cell_type": "markdown",
      "metadata": {
        "id": "Na2ZHarNVS0-"
      },
      "source": [
        "Assim como nos tutoriais de bandits, definimos o buffer de replay que alimentará o agente em que as amostras são treinadas. Em seguida, usamos o driver para reunir tudo: o ambiente fornece características, a política escolhe os rankings, e as amostras são coletadas para o treinamento."
      ]
    },
    {
      "cell_type": "code",
      "execution_count": null,
      "metadata": {
        "id": "qt6ifI5AYWfu"
      },
      "outputs": [],
      "source": [
        "replay_buffer = bandit_replay_buffer.BanditReplayBuffer(\n",
        "      data_spec=order_items_from_action_fn(agent.policy.trajectory_spec),\n",
        "      batch_size=batch_size,\n",
        "      max_length=steps_per_loop)\n",
        "\n",
        "if feedback_model == ranking_environment.FeedbackModel.SCORE_VECTOR:\n",
        "  reward_metric = tf_metrics.AverageReturnMetric(\n",
        "      batch_size=environment.batch_size,\n",
        "      buffer_size=200)\n",
        "else:\n",
        "  reward_metric = tf_metrics.AverageReturnMultiMetric(\n",
        "        reward_spec=environment.reward_spec(),\n",
        "        batch_size=environment.batch_size,\n",
        "        buffer_size=200)\n",
        "\n",
        "add_batch_fn = lambda data: replay_buffer.add_batch(\n",
        "        order_items_from_action_fn(data))\n",
        "\n",
        "observers = [add_batch_fn, reward_metric]\n",
        "\n",
        "driver = dynamic_step_driver.DynamicStepDriver(\n",
        "    env=environment,\n",
        "    policy=agent.collect_policy,\n",
        "    num_steps=steps_per_loop * batch_size,\n",
        "    observers=observers)\n",
        "\n",
        "reward_values = []\n",
        "\n",
        "for _ in range(num_iterations):\n",
        "  driver.run()\n",
        "  loss_info = agent.train(replay_buffer.gather_all())\n",
        "  replay_buffer.clear()\n",
        "  if feedback_model == ranking_environment.FeedbackModel.SCORE_VECTOR:\n",
        "    reward_values.append(reward_metric.result())\n",
        "  else:\n",
        "    reward_values.append(reward_metric.result())\n"
      ]
    },
    {
      "cell_type": "markdown",
      "metadata": {
        "id": "Gwy7cQP3JrU0"
      },
      "source": [
        "Vamos plotar a recompensa!"
      ]
    },
    {
      "cell_type": "code",
      "execution_count": null,
      "metadata": {
        "id": "eZPOXzfyy5Sh"
      },
      "outputs": [],
      "source": [
        "if feedback_model == ranking_environment.FeedbackModel.SCORE_VECTOR:\n",
        "  reward = reward_values\n",
        "else:\n",
        "  reward = [r[\"chosen_value\"] for r in reward_values]\n",
        "plt.plot(reward)\n",
        "plt.ylabel('Average Return')\n",
        "plt.xlabel('Number of Iterations')"
      ]
    },
    {
      "cell_type": "markdown",
      "metadata": {
        "id": "gvbm_qCGJy0D"
      },
      "source": [
        "# Próximos passos\n",
        "\n",
        "Este tutorial tem vários parâmetros ajustáveis, incluindo política/agente usado, algumas propriedades do ambiente e até mesmo o modelo de feedback. Fique à vontade para experimentar com esses parâmetros!\n",
        "\n",
        "Também há um exemplo pronto para ranking em `tf_agents/bandits/agents/examples/v2/train_eval_ranking.py`"
      ]
    }
  ],
  "metadata": {
    "colab": {
      "collapsed_sections": [],
      "name": "ranking_tutorial.ipynb",
      "toc_visible": true
    },
    "kernelspec": {
      "display_name": "Python 3",
      "name": "python3"
    }
  },
  "nbformat": 4,
  "nbformat_minor": 0
}
