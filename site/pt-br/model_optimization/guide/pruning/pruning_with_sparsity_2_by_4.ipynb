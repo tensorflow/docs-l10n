{
  "cells": [
    {
      "cell_type": "markdown",
      "metadata": {
        "id": "Tce3stUlHN0L"
      },
      "source": [
        "##### Copyright 2021 The TensorFlow Authors."
      ]
    },
    {
      "cell_type": "code",
      "execution_count": null,
      "metadata": {
        "cellView": "form",
        "id": "IcfrhafzkZbH"
      },
      "outputs": [],
      "source": [
        "#@title Licensed under the Apache License, Version 2.0 (the \"License\");\n",
        "# you may not use this file except in compliance with the License.\n",
        "# You may obtain a copy of the License at\n",
        "#\n",
        "# https://www.apache.org/licenses/LICENSE-2.0\n",
        "#\n",
        "# Unless required by applicable law or agreed to in writing, software\n",
        "# distributed under the License is distributed on an \"AS IS\" BASIS,\n",
        "# WITHOUT WARRANTIES OR CONDITIONS OF ANY KIND, either express or implied.\n",
        "# See the License for the specific language governing permissions and\n",
        "# limitations under the License."
      ]
    },
    {
      "cell_type": "markdown",
      "metadata": {
        "id": "qFdPvlXBOdUN"
      },
      "source": [
        "# Pesos esparsos usando pruning estrutural"
      ]
    },
    {
      "cell_type": "markdown",
      "metadata": {
        "id": "MfBg1C5NB3X0"
      },
      "source": [
        "<table class=\"tfo-notebook-buttons\" align=\"left\">\n",
        "  <td>     <a target=\"_blank\" href=\"https://www.tensorflow.org/model_optimization/guide/pruning/pruning_with_sparsity_2_by_4\"><img src=\"https://www.tensorflow.org/images/tf_logo_32px.png\">Ver em TensorFlow.org</a>\n",
        "</td>\n",
        "  <td>     <a target=\"_blank\" href=\"https://colab.research.google.com/github/tensorflow/docs-l10n/blob/master/site/pt-br/model_optimization/guide/pruning/pruning_with_sparsity_2_by_4.ipynb\"><img src=\"https://www.tensorflow.org/images/colab_logo_32px.png\">Executar no Google Colab</a>\n",
        "</td>\n",
        "  <td>     <a target=\"_blank\" href=\"https://github.com/tensorflow/docs-l10n/blob/master/site/pt-br/model_optimization/guide/pruning/pruning_with_sparsity_2_by_4.ipynb\"><img src=\"https://www.tensorflow.org/images/GitHub-Mark-32px.png\">Ver fonte no GitHub</a>\n",
        "</td>\n",
        "  <td>     <a href=\"https://storage.googleapis.com/tensorflow_docs/docs-l10n/site/pt-br/model_optimization/guide/pruning/pruning_with_sparsity_2_by_4.ipynb\"><img src=\"https://www.tensorflow.org/images/download_logo_32px.png\">Baixar notebook</a>\n",
        "</td>\n",
        "</table>"
      ]
    },
    {
      "cell_type": "markdown",
      "metadata": {
        "id": "FbORZA_bQx1G"
      },
      "source": [
        "O pruning estrutural dos pesos do seu modelo para deixá-los esparsos em um padrão específico pode acelerar o tempo de inferência do modelo com suportes de HW apropriados.\n",
        "\n",
        "Este tutorial mostra a você como:\n",
        "\n",
        "- Definir e treinar um modelo com o dataset MNIST usando uma esparsidade estrutural específica\n",
        "- Converter o modelo após o pruning ao formato tflite\n",
        "- Visualizar a estrutura dos pesos após o pruning\n",
        "\n",
        "Para uma visão geral da técnica de pruning para a otimização de modelos, veja a [visão geral do pruning](https://www.tensorflow.org/model_optimization/guide/pruning). Para um tutorial sobre o pruning de pesos em geral, confira [Pruning no Keras](https://www.tensorflow.org/model_optimization/guide/pruning/pruning_with_keras)."
      ]
    },
    {
      "cell_type": "markdown",
      "metadata": {
        "id": "0f4SoBcoXNcb"
      },
      "source": [
        "## Pruning estrutural de pesos"
      ]
    },
    {
      "cell_type": "markdown",
      "metadata": {
        "id": "rn_a9362Wr_B"
      },
      "source": [
        "O pruning estrutural zera sistematicamente os pesos do modelo no início do processo de treinamento. Você aplica essas técnicas de pruning a blocos regulares de pesos para acelerar a inferência nos HWs compatíveis, por exemplo: agrupa os pesos no modelo em blocos de quatro e zera dois desses pesos em cada bloco, o que é conhecido como redução *2 por 4*. Essa técnica só se aplica à última dimensão do tensor do peso para o modelo que é convertido pelo TensorFlow Lite. Por exemplo, os pesos da camada `Conv2D` no TensorFlow Lite têm a estrutura `[channel_out, height, width, channel_in]`, e os pesos da camada `Dense` têm a estrutura `[channel_out, channel_in]`. O padrão de esparsidade é aplicado aos pesos na última dimensão: `channel_in`.\n",
        "\n",
        "Comparada à esparsidade aleatória, a esparsidade estruturada geralmente tem menor exatidão devido à estrutura restritiva. No entanto, ela pode reduzir o tempo de inferência significativamente no hardware compatível.\n",
        "\n",
        "O pruning pode ser aplicado a um modelo junto com outras técnicas de compressão do modelo para uma melhor taxa de compressão. Veja exemplos de quantização e clustering em [técnicas de otimização colaborativa](https://blog.tensorflow.org/2021/10/Collaborative-Optimizations.html) para mais detalhes."
      ]
    },
    {
      "cell_type": "markdown",
      "metadata": {
        "id": "nuABqZnXVDvO"
      },
      "source": [
        "## Configuração"
      ]
    },
    {
      "cell_type": "markdown",
      "metadata": {
        "id": "u9mRDekZEfnR"
      },
      "source": [
        "Prepare o ambiente e os dados de desenvolvimento."
      ]
    },
    {
      "cell_type": "code",
      "execution_count": null,
      "metadata": {
        "cellView": "both",
        "id": "lvpH1Hg7ULFz"
      },
      "outputs": [],
      "source": [
        "! pip install -q tensorflow\n",
        "! pip install -q tensorflow-model-optimization\n",
        "! pip install -q matplotlib"
      ]
    },
    {
      "cell_type": "code",
      "execution_count": null,
      "metadata": {
        "id": "_hn5e5_gWr_E"
      },
      "outputs": [],
      "source": [
        "import tensorflow as tf\n",
        "from tensorflow import keras\n",
        "\n",
        "import tensorflow_model_optimization as tfmot\n",
        "prune_low_magnitude = tfmot.sparsity.keras.prune_low_magnitude"
      ]
    },
    {
      "cell_type": "markdown",
      "metadata": {
        "id": "TZyLYFTER4aP"
      },
      "source": [
        "## Baixe e normalize os dados de imagem do dataset [MNIST](https://www.tensorflow.org/datasets/catalog/mnist)"
      ]
    },
    {
      "cell_type": "code",
      "execution_count": null,
      "metadata": {
        "id": "hSf4jYKGWr_E"
      },
      "outputs": [],
      "source": [
        "# Load MNIST dataset.\n",
        "mnist = keras.datasets.mnist\n",
        "(train_images, train_labels), (test_images, test_labels) = mnist.load_data()\n",
        "\n",
        "# Normalize the input image so that each pixel value is between 0 and 1.\n",
        "train_images = train_images / 255.0\n",
        "test_images = test_images / 255.0"
      ]
    },
    {
      "cell_type": "markdown",
      "metadata": {
        "id": "LKaL3XH1XO0Q"
      },
      "source": [
        "## Defina os parâmetros de pruning estrutural"
      ]
    },
    {
      "cell_type": "markdown",
      "metadata": {
        "id": "s9_33ta-Wr_E"
      },
      "source": [
        "Determine parâmetros para o pruning e especifique o tipo de pruning estrutural. Defina os parâmetros para pruning como `(2, 4)`. Essas configurações significam que, em um bloco de quatro elementos, pelo menos os dois com a menor magnitude são definidos como zero.\n",
        "\n",
        "Você não precisa configurar o parâmetro `pruning_schedule`. Por padrão, a máscara de pruning é definida como o primeiro passo e não é atualizada durante o treinamento."
      ]
    },
    {
      "cell_type": "code",
      "execution_count": null,
      "metadata": {
        "id": "1EXNYAPJWr_F"
      },
      "outputs": [],
      "source": [
        "pruning_params_2_by_4 = {\n",
        "    'sparsity_m_by_n': (2, 4),\n",
        "}"
      ]
    },
    {
      "cell_type": "markdown",
      "metadata": {
        "id": "mMKdsdAUWr_F"
      },
      "source": [
        "Defina os parâmetros para o pruning aleatório com a esparsidade alvo de 50%."
      ]
    },
    {
      "cell_type": "code",
      "execution_count": null,
      "metadata": {
        "id": "un24AZUOWr_F"
      },
      "outputs": [],
      "source": [
        "pruning_params_sparsity_0_5 = {\n",
        "    'pruning_schedule': tfmot.sparsity.keras.ConstantSparsity(target_sparsity=0.5,\n",
        "                                                              begin_step=0,\n",
        "                                                              frequency=100)\n",
        "}"
      ]
    },
    {
      "cell_type": "markdown",
      "metadata": {
        "id": "jV4Yt0v5Wr_G"
      },
      "source": [
        "Estabeleça a arquitetura do modelo e especifique quais camadas passarão pelo pruning. O pruning estrutural é aplicado com base nas camadas do modelo que você selecionar.\n",
        "\n",
        "No exemplo abaixo, só fazemos o pruning de algumas camadas, a segunda `Conv2D` e a primeira `Dense`.\n",
        "\n",
        "Observe que a primeira camada `Conv2D` não pode passar pelo pruning estrutural. Para isso, ela precisa ter mais de um canal de entrada. Em vez disso, fazemos o pruning aleatório da primeira camada `Conv2D`."
      ]
    },
    {
      "cell_type": "code",
      "execution_count": null,
      "metadata": {
        "id": "BDGzC6YlWr_G"
      },
      "outputs": [],
      "source": [
        "model = keras.Sequential([\n",
        "    prune_low_magnitude(\n",
        "        keras.layers.Conv2D(\n",
        "            32, 5, padding='same', activation='relu',\n",
        "            input_shape=(28, 28, 1),\n",
        "            name=\"pruning_sparsity_0_5\"),\n",
        "        **pruning_params_sparsity_0_5),\n",
        "    keras.layers.MaxPooling2D((2, 2), (2, 2), padding='same'),\n",
        "    prune_low_magnitude(\n",
        "        keras.layers.Conv2D(\n",
        "            64, 5, padding='same',\n",
        "            name=\"structural_pruning\"),\n",
        "        **pruning_params_2_by_4),\n",
        "    keras.layers.BatchNormalization(),\n",
        "    keras.layers.ReLU(),\n",
        "    keras.layers.MaxPooling2D((2, 2), (2, 2), padding='same'),\n",
        "    keras.layers.Flatten(),\n",
        "    prune_low_magnitude(\n",
        "        keras.layers.Dense(\n",
        "            1024, activation='relu',\n",
        "            name=\"structural_pruning_dense\"),\n",
        "        **pruning_params_2_by_4),\n",
        "    keras.layers.Dropout(0.4),\n",
        "    keras.layers.Dense(10)\n",
        "])\n",
        "\n",
        "model.compile(optimizer='adam',\n",
        "              loss=keras.losses.SparseCategoricalCrossentropy(from_logits=True),\n",
        "              metrics=['accuracy'])\n",
        "\n",
        "model.summary()"
      ]
    },
    {
      "cell_type": "markdown",
      "metadata": {
        "id": "U_ddzMppWr_G"
      },
      "source": [
        "Treine e avalie o modelo."
      ]
    },
    {
      "cell_type": "code",
      "execution_count": null,
      "metadata": {
        "id": "F4CnppA1Wr_H"
      },
      "outputs": [],
      "source": [
        "batch_size = 128\n",
        "epochs = 2\n",
        "\n",
        "model.fit(\n",
        "    train_images,\n",
        "    train_labels,\n",
        "    batch_size=batch_size,\n",
        "    epochs=epochs,\n",
        "    verbose=0,\n",
        "    callbacks=tfmot.sparsity.keras.UpdatePruningStep(),\n",
        "    validation_split=0.1)\n",
        "\n",
        "_, pruned_model_accuracy = model.evaluate(test_images, test_labels, verbose=0)\n",
        "print('Pruned test accuracy:', pruned_model_accuracy)"
      ]
    },
    {
      "cell_type": "markdown",
      "metadata": {
        "id": "bA8EDPHMWr_H"
      },
      "source": [
        "Remova o wrapper de pruning para que não seja incluído no modelo durante a conversão para o formato do TensorFlow Lite."
      ]
    },
    {
      "cell_type": "code",
      "execution_count": null,
      "metadata": {
        "id": "3wn-OQ_gWr_H"
      },
      "outputs": [],
      "source": [
        "model = tfmot.sparsity.keras.strip_pruning(model)"
      ]
    },
    {
      "cell_type": "markdown",
      "metadata": {
        "id": "eM28m66YWr_H"
      },
      "source": [
        "## Converta o modelo para o formato tflite"
      ]
    },
    {
      "cell_type": "code",
      "execution_count": null,
      "metadata": {
        "id": "EJ7DsA6-Wr_I"
      },
      "outputs": [],
      "source": [
        "import tempfile\n",
        "\n",
        "converter = tf.lite.TFLiteConverter.from_keras_model(model)\n",
        "tflite_model = converter.convert()\n",
        "\n",
        "_, tflite_file = tempfile.mkstemp('.tflite')\n",
        "print('Saved converted pruned model to:', tflite_file)\n",
        "with open(tflite_file, 'wb') as f:\n",
        "  f.write(tflite_model)"
      ]
    },
    {
      "cell_type": "markdown",
      "metadata": {
        "id": "S44x9Rz3Wr_I"
      },
      "source": [
        "## Visualize e verifique os pesos"
      ]
    },
    {
      "cell_type": "markdown",
      "metadata": {
        "id": "_CTu0wxFWr_J"
      },
      "source": [
        "Agora visualize a estrutura dos pesos na camada `Dense` após o pruning com a esparsidade 2 por 4. Extraia os pesos do arquivo tflite."
      ]
    },
    {
      "cell_type": "code",
      "execution_count": null,
      "metadata": {
        "id": "fOIp6QB5Wr_J"
      },
      "outputs": [],
      "source": [
        "# Load tflite file with the created pruned model\n",
        "interpreter = tf.lite.Interpreter(model_path=tflite_file)\n",
        "interpreter.allocate_tensors()\n",
        "\n",
        "details = interpreter.get_tensor_details()\n",
        "\n",
        "# Weights of the dense layer that has been pruned.\n",
        "tensor_name = 'structural_pruning_dense/MatMul'\n",
        "detail = [x for x in details if tensor_name in x[\"name\"]]\n",
        "\n",
        "# We need the first layer.\n",
        "tensor_data = interpreter.tensor(detail[0][\"index\"])()"
      ]
    },
    {
      "cell_type": "markdown",
      "metadata": {
        "id": "yy0jTs_QWr_K"
      },
      "source": [
        "Para verificar se selecionamos a camada correta com o pruning, imprima o formato do tensor de peso."
      ]
    },
    {
      "cell_type": "code",
      "execution_count": null,
      "metadata": {
        "id": "mCDkwMUPWr_K"
      },
      "outputs": [],
      "source": [
        "print(f\"Shape of Dense layer is {tensor_data.shape}\")"
      ]
    },
    {
      "cell_type": "markdown",
      "metadata": {
        "id": "mvYTILeUWr_K"
      },
      "source": [
        "Agora visualizamos a estrutura para um pequeno subconjunto do tensor de peso. A estrutura do tensor de peso é esparsa na última dimensão, usando o padrão `(2,4)`: dois dos quatro elementos são zeros. Para deixar a visualização mais clara, substituímos todos os valores diferentes de zero por 1."
      ]
    },
    {
      "cell_type": "code",
      "execution_count": null,
      "metadata": {
        "id": "WZfn34bRWr_K"
      },
      "outputs": [],
      "source": [
        "import matplotlib.pyplot as plt\n",
        "import numpy as np\n",
        "\n",
        "# The value 24 is chosen for convenience.\n",
        "width = height = 24\n",
        "\n",
        "subset_values_to_display = tensor_data[0:height, 0:width]\n",
        "\n",
        "val_ones = np.ones([height, width])\n",
        "val_zeros = np.zeros([height, width])\n",
        "subset_values_to_display = np.where(abs(subset_values_to_display) > 0, val_ones, val_zeros)"
      ]
    },
    {
      "cell_type": "markdown",
      "metadata": {
        "id": "fOfWvKwKWr_L"
      },
      "source": [
        "Defina a função auxiliar para desenhar linhas de separação e ver a estrutura claramente."
      ]
    },
    {
      "cell_type": "code",
      "execution_count": null,
      "metadata": {
        "id": "LUplruw9Wr_L"
      },
      "outputs": [],
      "source": [
        "def plot_separation_lines(height, width):\n",
        "\n",
        "    block_size = [1, 4]\n",
        "\n",
        "    # Add separation lines to the figure.\n",
        "    num_hlines = int((height - 1) / block_size[0])\n",
        "    num_vlines = int((width - 1) / block_size[1])\n",
        "    line_y_pos = [y * block_size[0] for y in range(1, num_hlines + 1)]\n",
        "    line_x_pos = [x * block_size[1] for x in range(1, num_vlines + 1)]\n",
        "\n",
        "    for y_pos in line_y_pos:\n",
        "        plt.plot([-0.5, width], [y_pos - 0.5 , y_pos - 0.5], color='w')\n",
        "\n",
        "    for x_pos in line_x_pos:\n",
        "        plt.plot([x_pos - 0.5, x_pos - 0.5], [-0.5, height], color='w')"
      ]
    },
    {
      "cell_type": "markdown",
      "metadata": {
        "id": "sbyjrRgLWr_L"
      },
      "source": [
        "Agora visualize o subconjunto do tensor de peso."
      ]
    },
    {
      "cell_type": "code",
      "execution_count": null,
      "metadata": {
        "id": "ATeyf5vCWr_L"
      },
      "outputs": [],
      "source": [
        "plot_separation_lines(height, width)\n",
        "\n",
        "plt.axis('off')\n",
        "plt.imshow(subset_values_to_display)\n",
        "plt.colorbar()\n",
        "plt.title(\"Structural pruning for Dense layer\")\n",
        "plt.show()"
      ]
    },
    {
      "cell_type": "markdown",
      "metadata": {
        "id": "72f7VlOLWr_M"
      },
      "source": [
        "Visualize os pesos da camada `Conv2D`. A esparsidade estrutural é aplicada no último canal, semelhante à camada `Dense`. Apenas a segunda camada `Conv2D` passa pelo pruning estrutural, conforme indicado acima."
      ]
    },
    {
      "cell_type": "code",
      "execution_count": null,
      "metadata": {
        "id": "_Dkbt7eRWr_M"
      },
      "outputs": [],
      "source": [
        "# Get weights of the convolutional layer that has been pruned with 2 by 4 sparsity.\n",
        "tensor_name = 'structural_pruning/Conv2D'\n",
        "detail = [x for x in details if tensor_name in x[\"name\"]]\n",
        "tensor_data = interpreter.tensor(detail[1][\"index\"])()\n",
        "print(f\"Shape of the weight tensor is {tensor_data.shape}\")"
      ]
    },
    {
      "cell_type": "markdown",
      "metadata": {
        "id": "m7a6uTdLWr_M"
      },
      "source": [
        "Semelhante aos pesos da camada `Dense`, a última dimensão do kernel tem uma estrutura (2, 4)."
      ]
    },
    {
      "cell_type": "code",
      "execution_count": null,
      "metadata": {
        "id": "wyvLpfa6Wr_M"
      },
      "outputs": [],
      "source": [
        "weights_to_display = tf.reshape(tensor_data, [tf.reduce_prod(tensor_data.shape[:-1]), -1])\n",
        "weights_to_display = weights_to_display[0:width, 0:height]\n",
        "\n",
        "val_ones = np.ones([height, width])\n",
        "val_zeros = np.zeros([height, width])\n",
        "subset_values_to_display = np.where(abs(weights_to_display) > 1e-9, val_ones, val_zeros)\n",
        "\n",
        "plot_separation_lines(height, width)\n",
        "\n",
        "plt.axis('off')\n",
        "plt.imshow(subset_values_to_display)\n",
        "plt.colorbar()\n",
        "plt.title(\"Structurally pruned weights for Conv2D layer\")\n",
        "plt.show()"
      ]
    },
    {
      "cell_type": "markdown",
      "metadata": {
        "id": "1aX2O8w0Wr_M"
      },
      "source": [
        "Vamos ver como esses pesos ficam após o pruning aleatório. Depois de extrai-los, exibimos um subconjunto do tensor de peso."
      ]
    },
    {
      "cell_type": "code",
      "execution_count": null,
      "metadata": {
        "id": "eEHu5nizWr_M"
      },
      "outputs": [],
      "source": [
        "# Get weights of the convolutional layer that has been pruned with random pruning.\n",
        "tensor_name = 'pruning_sparsity_0_5/Conv2D'\n",
        "detail = [x for x in details if tensor_name in x[\"name\"]]\n",
        "tensor_data = interpreter.tensor(detail[0][\"index\"])()\n",
        "print(f\"Shape of the weight tensor is {tensor_data.shape}\")"
      ]
    },
    {
      "cell_type": "code",
      "execution_count": null,
      "metadata": {
        "id": "Cimzp3kVWr_M"
      },
      "outputs": [],
      "source": [
        "weights_to_display = tf.reshape(tensor_data, [tensor_data.shape[0],tf.reduce_prod(tensor_data.shape[1:])])\n",
        "weights_to_display = weights_to_display[0:width, 0:height]\n",
        "\n",
        "val_ones = np.ones([height, width])\n",
        "val_zeros = np.zeros([height, width])\n",
        "subset_values_to_display = np.where(abs(weights_to_display) > 0, val_ones, val_zeros)\n",
        "\n",
        "plot_separation_lines(height, width)\n",
        "\n",
        "plt.axis('off')\n",
        "plt.imshow(subset_values_to_display)\n",
        "plt.colorbar()\n",
        "plt.title(\"Unstructed pruned weights for Conv2D layer\")\n",
        "plt.show()"
      ]
    },
    {
      "cell_type": "markdown",
      "metadata": {
        "id": "vqsfZdMpWr_N"
      },
      "source": [
        "O Kit de ferramentas para otimização de modelos do TensorFlow inclui um script Python que pode ser usado para verificar quais camadas no modelo do arquivo tflite específico têm os pesos com o pruning estrutural: [`check_sparsity_m_by_n.py`](https://github.com/tensorflow/model-optimization/blob/master/tensorflow_model_optimization/python/core/sparsity/keras/tools/check_sparsity_m_by_n.py). O comando a seguir demonstra como usar essa ferramenta para verificar a esparsidade 2 por 4 em um determinado modelo."
      ]
    },
    {
      "cell_type": "code",
      "execution_count": null,
      "metadata": {
        "id": "7HDYffebWr_N"
      },
      "outputs": [],
      "source": [
        "! python3 ./tensorflow_model_optimization/python/core/sparsity/keras/tools/check_sparsity_m_by_n.py --model_tflite=pruned_model.tflite --m_by_n=2,4\n"
      ]
    }
  ],
  "metadata": {
    "colab": {
      "collapsed_sections": [
        "Tce3stUlHN0L"
      ],
      "name": "pruning_with_sparsity_2_by_4.ipynb",
      "toc_visible": true
    },
    "kernelspec": {
      "display_name": "Python 3",
      "name": "python3"
    }
  },
  "nbformat": 4,
  "nbformat_minor": 0
}
