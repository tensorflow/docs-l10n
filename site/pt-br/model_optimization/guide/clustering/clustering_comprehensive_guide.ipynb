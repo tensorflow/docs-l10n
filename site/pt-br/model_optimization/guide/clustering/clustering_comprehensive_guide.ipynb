{
  "cells": [
    {
      "cell_type": "markdown",
      "metadata": {
        "id": "826IBSWMN4rr"
      },
      "source": [
        "##### Copyright 2020 The TensorFlow Authors."
      ]
    },
    {
      "cell_type": "code",
      "execution_count": null,
      "metadata": {
        "cellView": "form",
        "id": "ITj3u97-tNR7"
      },
      "outputs": [],
      "source": [
        "#@title Licensed under the Apache License, Version 2.0 (the \"License\");\n",
        "# you may not use this file except in compliance with the License.\n",
        "# You may obtain a copy of the License at\n",
        "#\n",
        "# https://www.apache.org/licenses/LICENSE-2.0\n",
        "#\n",
        "# Unless required by applicable law or agreed to in writing, software\n",
        "# distributed under the License is distributed on an \"AS IS\" BASIS,\n",
        "# WITHOUT WARRANTIES OR CONDITIONS OF ANY KIND, either express or implied.\n",
        "# See the License for the specific language governing permissions and\n",
        "# limitations under the License."
      ]
    },
    {
      "cell_type": "markdown",
      "metadata": {
        "id": "BYwfpc4wN4rt"
      },
      "source": [
        "# Guia completo sobre clustering de peso"
      ]
    },
    {
      "cell_type": "markdown",
      "metadata": {
        "id": "IFva_Ed5N4ru"
      },
      "source": [
        "<table class=\"tfo-notebook-buttons\" align=\"left\">\n",
        "  <td>     <a target=\"_blank\" href=\"https://www.tensorflow.org/model_optimization/guide/clustering/clustering_comprehensive_guide\"><img src=\"https://www.tensorflow.org/images/tf_logo_32px.png\">Ver em TensorFlow.org</a>\n",
        "</td>\n",
        "  <td>     <a target=\"_blank\" href=\"https://colab.research.google.com/github/tensorflow/docs-l10n/blob/master/site/pt-br/model_optimization/guide/clustering/clustering_comprehensive_guide.ipynb\"><img src=\"https://www.tensorflow.org/images/colab_logo_32px.png\">Executar no Google Colab</a>\n",
        "</td>\n",
        "  <td>     <a target=\"_blank\" href=\"https://github.com/tensorflow/docs-l10n/blob/master/site/pt-br/model_optimization/guide/clustering/clustering_comprehensive_guide.ipynb\"><img src=\"https://www.tensorflow.org/images/GitHub-Mark-32px.png\">Ver fonte no GitHub</a>\n",
        "</td>\n",
        "  <td>     <a href=\"https://storage.googleapis.com/tensorflow_docs/docs-l10n/site/pt-br/model_optimization/guide/clustering/clustering_comprehensive_guide.ipynb\"><img src=\"https://www.tensorflow.org/images/download_logo_32px.png\">Baixar notebook</a>\n",
        "</td>\n",
        "</table>"
      ]
    },
    {
      "cell_type": "markdown",
      "metadata": {
        "id": "tidmcl3sN4rv"
      },
      "source": [
        "Bem-vindo ao guia completo sobre *clustering de peso*, parte do Kit de ferramentas para otimização de modelos do TensorFlow.\n",
        "\n",
        "Esta página documenta vários casos de uso e mostra como usar a API para cada um. Depois de saber quais APIs são necessárias, encontre os parâmetros e os detalhes de nível inferior na [documentação da API](https://www.tensorflow.org/model_optimization/api_docs/python/tfmot/clustering):\n",
        "\n",
        "- Se quiser ver os benefícios do clustering de peso e saber o que é compatível, confira a [visão geral](https://www.tensorflow.org/model_optimization/guide/clustering).\n",
        "- Para um único exemplo completo, veja o [exemplo de clustering de peso](https://www.tensorflow.org/model_optimization/guide/clustering/clustering_example).\n",
        "\n",
        "Neste guia, são abordados os seguintes casos de uso:\n",
        "\n",
        "- Defina um modelo agrupado.\n",
        "- Faça o checkpoint e desserialize um modelo agrupado.\n",
        "- Melhore a exatidão do modelo agrupado.\n",
        "- Somente para implantação, você precisa seguir as etapas para ver os benefícios da compressão.\n"
      ]
    },
    {
      "cell_type": "markdown",
      "metadata": {
        "id": "RRtKxbo8N4rv"
      },
      "source": [
        "## Configuração\n"
      ]
    },
    {
      "cell_type": "code",
      "execution_count": null,
      "metadata": {
        "id": "08dJRvOqN4rw"
      },
      "outputs": [],
      "source": [
        "! pip install -q tensorflow-model-optimization\n",
        "\n",
        "import tensorflow as tf\n",
        "import numpy as np\n",
        "import tempfile\n",
        "import os\n",
        "import tensorflow_model_optimization as tfmot\n",
        "\n",
        "input_dim = 20\n",
        "output_dim = 20\n",
        "x_train = np.random.randn(1, input_dim).astype(np.float32)\n",
        "y_train = tf.keras.utils.to_categorical(np.random.randn(1), num_classes=output_dim)\n",
        "\n",
        "def setup_model():\n",
        "  model = tf.keras.Sequential([\n",
        "      tf.keras.layers.Dense(input_dim, input_shape=[input_dim]),\n",
        "      tf.keras.layers.Flatten()\n",
        "  ])\n",
        "  return model\n",
        "\n",
        "def train_model(model):\n",
        "  model.compile(\n",
        "      loss=tf.keras.losses.categorical_crossentropy,\n",
        "      optimizer='adam',\n",
        "      metrics=['accuracy']\n",
        "  )\n",
        "  model.summary()\n",
        "  model.fit(x_train, y_train)\n",
        "  return model\n",
        "\n",
        "def save_model_weights(model):\n",
        "  _, pretrained_weights = tempfile.mkstemp('.h5')\n",
        "  model.save_weights(pretrained_weights)\n",
        "  return pretrained_weights\n",
        "\n",
        "def setup_pretrained_weights():\n",
        "  model= setup_model()\n",
        "  model = train_model(model)\n",
        "  pretrained_weights = save_model_weights(model)\n",
        "  return pretrained_weights\n",
        "\n",
        "def setup_pretrained_model():\n",
        "  model = setup_model()\n",
        "  pretrained_weights = setup_pretrained_weights()\n",
        "  model.load_weights(pretrained_weights)\n",
        "  return model\n",
        "\n",
        "def save_model_file(model):\n",
        "  _, keras_file = tempfile.mkstemp('.h5') \n",
        "  model.save(keras_file, include_optimizer=False)\n",
        "  return keras_file\n",
        "\n",
        "def get_gzipped_model_size(model):\n",
        "  # It returns the size of the gzipped model in bytes.\n",
        "  import os\n",
        "  import zipfile\n",
        "\n",
        "  keras_file = save_model_file(model)\n",
        "\n",
        "  _, zipped_file = tempfile.mkstemp('.zip')\n",
        "  with zipfile.ZipFile(zipped_file, 'w', compression=zipfile.ZIP_DEFLATED) as f:\n",
        "    f.write(keras_file)\n",
        "  return os.path.getsize(zipped_file)\n",
        "\n",
        "setup_model()\n",
        "pretrained_weights = setup_pretrained_weights()"
      ]
    },
    {
      "cell_type": "markdown",
      "metadata": {
        "id": "ARd37qONN4rz"
      },
      "source": [
        "## Defina um modelo agrupado\n"
      ]
    },
    {
      "cell_type": "markdown",
      "metadata": {
        "id": "zHB3pkU3N4r0"
      },
      "source": [
        "### Agrupe um modelo inteiro (sequencial e funcional)"
      ]
    },
    {
      "cell_type": "markdown",
      "metadata": {
        "id": "ig-il1lmN4r1"
      },
      "source": [
        "**Dicas** para melhor exatidão do modelo:\n",
        "\n",
        "- Você precisa passar um modelo pré-treinado com exatidão aceitável para essa API. Treinar modelos do zero com clustering resulta em exatidão inferior.\n",
        "- Em alguns casos, o clustering de algumas camadas tem um efeito prejudicial na exatidão do modelo. Confira \"Agrupe algumas camadas\" para ver como pular o clustering das camadas que afetam mais a exatidão.\n",
        "\n",
        "Para agrupar todas as camadas, aplique `tfmot.clustering.keras.cluster_weights` ao modelo.\n"
      ]
    },
    {
      "cell_type": "code",
      "execution_count": null,
      "metadata": {
        "id": "29g7OADjN4r1"
      },
      "outputs": [],
      "source": [
        "import tensorflow_model_optimization as tfmot\n",
        "\n",
        "cluster_weights = tfmot.clustering.keras.cluster_weights\n",
        "CentroidInitialization = tfmot.clustering.keras.CentroidInitialization\n",
        "\n",
        "clustering_params = {\n",
        "  'number_of_clusters': 3,\n",
        "  'cluster_centroids_init': CentroidInitialization.KMEANS_PLUS_PLUS\n",
        "}\n",
        "\n",
        "model = setup_model()\n",
        "model.load_weights(pretrained_weights)\n",
        "\n",
        "clustered_model = cluster_weights(model, **clustering_params)\n",
        "\n",
        "clustered_model.summary()"
      ]
    },
    {
      "cell_type": "markdown",
      "metadata": {
        "id": "zEOHK4OON4r7"
      },
      "source": [
        "### Agrupe algumas camadas (modelos sequenciais e funcionais)\n"
      ]
    },
    {
      "cell_type": "markdown",
      "metadata": {
        "id": "ENscQ7ZWN4r8"
      },
      "source": [
        "**Dicas** para melhor exatidão do modelo:\n",
        "\n",
        "- Você precisa passar um modelo pré-treinado com exatidão aceitável para essa API. Treinar modelos do zero com clustering resulta em exatidão inferior.\n",
        "- Agrupe camadas finais com parâmetros mais redundantes (por exemplo, `tf.keras.layers.Dense`, `tf.keras.layers.Conv2D`), em vez das camadas iniciais.\n",
        "- Congele camadas iniciais antes das camadas agrupadas durante o ajuste fino. Trate os números das camadas congeladas como um hiperparâmetro. Empiricamente, o congelamento das camadas mais iniciais é ideal para a API de clustering atual.\n",
        "- Evite o clustering de camadas críticas (por exemplo, mecanismo de atenção).\n",
        "\n",
        "**Mais**: a documentação da API `tfmot.clustering.keras.cluster_weights` fornece detalhes sobre como variar a configuração do clustering por camada."
      ]
    },
    {
      "cell_type": "code",
      "execution_count": null,
      "metadata": {
        "id": "IqBdl3uJN4r_"
      },
      "outputs": [],
      "source": [
        "# Create a base model\n",
        "base_model = setup_model()\n",
        "base_model.load_weights(pretrained_weights)\n",
        "\n",
        "# Helper function uses `cluster_weights` to make only \n",
        "# the Dense layers train with clustering\n",
        "def apply_clustering_to_dense(layer):\n",
        "  if isinstance(layer, tf.keras.layers.Dense):\n",
        "    return cluster_weights(layer, **clustering_params)\n",
        "  return layer\n",
        "\n",
        "# Use `tf.keras.models.clone_model` to apply `apply_clustering_to_dense` \n",
        "# to the layers of the model.\n",
        "clustered_model = tf.keras.models.clone_model(\n",
        "    base_model,\n",
        "    clone_function=apply_clustering_to_dense,\n",
        ")\n",
        "\n",
        "clustered_model.summary()"
      ]
    },
    {
      "cell_type": "markdown",
      "metadata": {
        "id": "bU0SIhY2Q63C"
      },
      "source": [
        "### Agrupe camadas convolucionais por canal\n",
        "\n",
        "O modelo agrupado pode ser passado para mais otimizações, como a [quantização pós-treinamento](https://www.tensorflow.org/lite/performance/post_training_quantization). Se a quantização for feita por canal, o modelo também deverá ser agrupado por canal. Isso aumenta a exatidão do modelo agrupado e quantizado.\n",
        "\n",
        "**Observação:** somente camadas Conv2D são agrupadas por canal\n",
        "\n",
        "Para agrupar por canal, o parâmetro `cluster_per_channel` deve ser definido como `True`. Ele pode ser definido para algumas camadas ou para todo o modelo.\n",
        "\n",
        "**Dicas:**\n",
        "\n",
        "- Se um modelo terá quantização adicional, você pode considerar usar a [técnica de treinamento consciente de quantização (QAT) que preserva os clusters](https://www.tensorflow.org/model_optimization/guide/combine/collaborative_optimization).\n",
        "\n",
        "- Pode ser realizado o pruning do modelo antes de aplicar o clustering por canal. Com o parâmetro `preserve_sparsity` definido como `True`, a esparsidade é preservada durante o clustering por canal. Observe que a [técnica de QAT que preserva os clusters e a esparsidade](https://www.tensorflow.org/model_optimization/guide/combine/collaborative_optimization) deve ser usada nesse caso."
      ]
    },
    {
      "cell_type": "markdown",
      "metadata": {
        "id": "WcFrw1dHmxTr"
      },
      "source": [
        "### Agrupe a camada do Keras personalizada ou especifique os pesos da camada que serão agrupados\n",
        "\n",
        "`tfmot.clustering.keras.ClusterableLayer` atende dois casos de uso:\n",
        "\n",
        "1. Agrupe qualquer camada sem suporte nativo, incluindo uma camada do Keras personalizada.\n",
        "2. Especifique os pesos de uma camada compatível que serão agrupados.\n",
        "\n",
        "Por exemplo, o padrão da API é apenas agrupar o kernel da camada `Dense`. O exemplo abaixo mostra como modificá-la para também agrupar o bias. Observe que, ao derivar da camada do Keras, você precisa sobrepor a função `get_clusterable_weights`, onde especifica o nome da variável treinável que será agrupada e a própria variável treinável. Por exemplo, se você retornar uma lista vazia [], então nenhum peso poderá ser agrupado.\n",
        "\n",
        "**Erro comum:** o clustering do bias geralmente prejudica muito a exatidão do modelo."
      ]
    },
    {
      "cell_type": "code",
      "execution_count": null,
      "metadata": {
        "id": "73iboQ7MmxTs"
      },
      "outputs": [],
      "source": [
        "class MyDenseLayer(tf.keras.layers.Dense, tfmot.clustering.keras.ClusterableLayer):\n",
        "\n",
        "  def get_clusterable_weights(self):\n",
        "   # Cluster kernel and bias. This is just an example, clustering\n",
        "   # bias usually hurts model accuracy.\n",
        "   return [('kernel', self.kernel), ('bias', self.bias)]\n",
        "\n",
        "# Use `cluster_weights` to make the `MyDenseLayer` layer train with clustering as usual.\n",
        "model_for_clustering = tf.keras.Sequential([\n",
        "  tfmot.clustering.keras.cluster_weights(MyDenseLayer(20, input_shape=[input_dim]), **clustering_params),\n",
        "  tf.keras.layers.Flatten()\n",
        "])\n",
        "\n",
        "model_for_clustering.summary()"
      ]
    },
    {
      "cell_type": "markdown",
      "metadata": {
        "id": "SYlWPXEWmxTs"
      },
      "source": [
        "Você também pode usar `tfmot.clustering.keras.ClusterableLayer` para o clustering de uma camada personalizada do Keras. Para isso, estenda a `tf.keras.Layer` normalmente e implemente as funções `__init__`, `call` e `build`, mas você também precisa estender a classe `clusterable_layer.ClusterableLayer` e implementar:\n",
        "\n",
        "1. `get_clusterable_weights`, onde você especifica o kernel dos pesos que serão agrupados, como mostrado acima.\n",
        "2. `get_clusterable_algorithm`, onde você especifica o algoritmo de clustering para o tensor dos pesos. Isso se deve à necessidade de especificar o formato dos pesos da camada personalizada para o clustering. A classe do algoritmo de clustering retornada deve ser derivada da classe `clustering_algorithm.ClusteringAlgorithm`, e a função `get_pulling_indices` deve ser sobreposta. Um exemplo dessa função, que aceita pesos de postos 1D, 2D e 3D, pode ser encontrado [aqui](https://github.com/tensorflow/model-optimization/blob/18e87d262e536c9a742aef700880e71b47a7f768/tensorflow_model_optimization/python/core/clustering/keras/clustering_algorithm.py#L62).\n",
        "\n",
        "Um exemplo desse caso de uso pode ser encontrado [aqui](https://github.com/tensorflow/model-optimization/blob/master/tensorflow_model_optimization/python/core/clustering/keras/mnist_clusterable_layer_test.py)."
      ]
    },
    {
      "cell_type": "markdown",
      "metadata": {
        "id": "hN0DgpvD5Add"
      },
      "source": [
        "## Faça o checkpoint e desserialize um modelo agrupado"
      ]
    },
    {
      "cell_type": "markdown",
      "metadata": {
        "id": "hfji5KWN6XCF"
      },
      "source": [
        "**Seu caso de uso:** este código só é necessário para o formato de modelo HDF5 (e não pesos HDF5 ou outros formatos)."
      ]
    },
    {
      "cell_type": "code",
      "execution_count": null,
      "metadata": {
        "id": "w7P67mPk6RkQ"
      },
      "outputs": [],
      "source": [
        "# Define the model.\n",
        "base_model = setup_model()\n",
        "base_model.load_weights(pretrained_weights)\n",
        "clustered_model = cluster_weights(base_model, **clustering_params)\n",
        "\n",
        "# Save or checkpoint the model.\n",
        "_, keras_model_file = tempfile.mkstemp('.h5')\n",
        "clustered_model.save(keras_model_file, include_optimizer=True)\n",
        "\n",
        "# `cluster_scope` is needed for deserializing HDF5 models.\n",
        "with tfmot.clustering.keras.cluster_scope():\n",
        "  loaded_model = tf.keras.models.load_model(keras_model_file)\n",
        "\n",
        "loaded_model.summary()"
      ]
    },
    {
      "cell_type": "markdown",
      "metadata": {
        "id": "cUv-scK-N4sN"
      },
      "source": [
        "## Melhore a exatidão do modelo agrupado"
      ]
    },
    {
      "cell_type": "markdown",
      "metadata": {
        "id": "-fZZopDBN4sO"
      },
      "source": [
        "Para seu caso de uso específico, considere estas dicas:\n",
        "\n",
        "- A inicialização centroide tem um papel fundamental na exatidão final do modelo otimizado. Em geral, a inicialização kmeans++ supera a inicialização aleatória, de densidade e linear. Quando kmeans++ não está em uso, a inicialização linear tende a superar a inicialização aleatória e de densidade, já que não costuma perder pesos grandes. No entanto, observou-se que a inicialização de densidade proporciona melhor exatidão para o caso de usar alguns clusters em pesos com distribuições bimodais.\n",
        "\n",
        "- Defina uma taxa de aprendizado mais baixa do que a usada no treinamento ao ajustar o modelo agrupado.\n",
        "\n",
        "- Para ideias gerais sobre como melhorar a exatidão do modelo, procure dicas para seu caso de uso em \"Defina um modelo agrupado\"."
      ]
    },
    {
      "cell_type": "markdown",
      "metadata": {
        "id": "4DXw7YbyN4sP"
      },
      "source": [
        "## Implantação"
      ]
    },
    {
      "cell_type": "markdown",
      "metadata": {
        "id": "5Y5zLfPzN4sQ"
      },
      "source": [
        "### Exporte o modelo com a compressão do tamanho"
      ]
    },
    {
      "cell_type": "markdown",
      "metadata": {
        "id": "wX4OrHD9N4sQ"
      },
      "source": [
        "**Erro comum**: o `strip_clustering` e a aplicação de um algoritmo de compressão padrão (por exemplo, por gzip) são necessários para ver os benefícios de compressão do clustering."
      ]
    },
    {
      "cell_type": "code",
      "execution_count": null,
      "metadata": {
        "id": "ZvuiCBsVN4sR"
      },
      "outputs": [],
      "source": [
        "model = setup_model()\n",
        "clustered_model = cluster_weights(model, **clustering_params)\n",
        "\n",
        "clustered_model.compile(\n",
        "    loss=tf.keras.losses.categorical_crossentropy,\n",
        "    optimizer='adam',\n",
        "    metrics=['accuracy']\n",
        ")\n",
        "\n",
        "clustered_model.fit(\n",
        "    x_train,\n",
        "    y_train\n",
        ")\n",
        "\n",
        "final_model = tfmot.clustering.keras.strip_clustering(clustered_model)\n",
        "\n",
        "print(\"final model\")\n",
        "final_model.summary()\n",
        "\n",
        "print(\"\\n\")\n",
        "print(\"Size of gzipped clustered model without stripping: %.2f bytes\" \n",
        "      % (get_gzipped_model_size(clustered_model)))\n",
        "print(\"Size of gzipped clustered model with stripping: %.2f bytes\" \n",
        "      % (get_gzipped_model_size(final_model)))"
      ]
    }
  ],
  "metadata": {
    "colab": {
      "collapsed_sections": [],
      "name": "clustering_comprehensive_guide.ipynb",
      "toc_visible": true
    },
    "kernelspec": {
      "display_name": "Python 3",
      "name": "python3"
    }
  },
  "nbformat": 4,
  "nbformat_minor": 0
}
