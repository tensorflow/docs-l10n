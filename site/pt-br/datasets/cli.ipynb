{
  "cells": [
    {
      "cell_type": "markdown",
      "metadata": {
        "id": "2WGeukhYh9fd"
      },
      "source": [
        "# TFDS CLI\n",
        "\n",
        "O TFDS CLI é uma ferramenta de linha de comando que fornece vários comandos para trabalhar facilmente com datasets do TensorFlow."
      ]
    },
    {
      "cell_type": "markdown",
      "metadata": {
        "id": "r-42ZFIIrgbF"
      },
      "source": [
        "Copyright 2020 The TensorFlow Datasets Authors, Licensed under the Apache License, Version 2.0"
      ]
    },
    {
      "cell_type": "markdown",
      "metadata": {
        "id": "grQeV-PZroqn"
      },
      "source": [
        "<table class=\"tfo-notebook-buttons\" align=\"left\">\n",
        "  <td>     <a target=\"_blank\" href=\"https://www.tensorflow.org/datasets/cli\"><img src=\"https://www.tensorflow.org/images/tf_logo_32px.png\">Ver em TensorFlow.org</a>\n",
        "</td>\n",
        "  <td>     <a target=\"_blank\" href=\"https://colab.research.google.com/github/tensorflow/docs-l10n/blob/master/site/pt-br/datasets/cli.ipynb\"><img src=\"https://www.tensorflow.org/images/colab_logo_32px.png\">Executar no Google Colab</a>\n",
        "</td>\n",
        "  <td>     <a target=\"_blank\" href=\"https://github.com/tensorflow/docs-l10n/blob/master/site/pt-br/datasets/cli.ipynb\"><img src=\"https://www.tensorflow.org/images/GitHub-Mark-32px.png\">Ver fonte no GitHub</a>\n",
        "</td>\n",
        "  <td>     <a href=\"https://storage.googleapis.com/tensorflow_docs/docs-l10n/site/pt-br/datasets/cli.ipynb\"><img src=\"https://www.tensorflow.org/images/download_logo_32px.png\">Baixar notebook</a>\n",
        "</td>\n",
        "</table>"
      ]
    },
    {
      "cell_type": "markdown",
      "metadata": {
        "id": "kGrmMPUhXfUs"
      },
      "source": [
        "##### Desative os logs do TF ao importar\n"
      ]
    },
    {
      "cell_type": "code",
      "execution_count": null,
      "metadata": {
        "id": "vJLAsn1c0Hxu"
      },
      "outputs": [],
      "source": [
        "%%capture\n",
        "%env TF_CPP_MIN_LOG_LEVEL=1  # Disable logs on TF import"
      ]
    },
    {
      "cell_type": "markdown",
      "metadata": {
        "id": "uo-yMd3Zrm_K"
      },
      "source": [
        "## Instalação\n",
        "\n",
        "A ferramenta CLI é instalada junto com `tensorflow-datasets` (ou `tfds-nightly`)."
      ]
    },
    {
      "cell_type": "code",
      "execution_count": null,
      "metadata": {
        "id": "jeV8_FpsiDwH"
      },
      "outputs": [],
      "source": [
        "!pip install -q tfds-nightly\n",
        "!tfds --version"
      ]
    },
    {
      "cell_type": "markdown",
      "metadata": {
        "id": "hdZiDNR1ijRH"
      },
      "source": [
        "Para conhecer a lista de todos os comandos CLI, faça:"
      ]
    },
    {
      "cell_type": "code",
      "execution_count": null,
      "metadata": {
        "id": "CCJPO_Akij0U"
      },
      "outputs": [],
      "source": [
        "!tfds --help"
      ]
    },
    {
      "cell_type": "markdown",
      "metadata": {
        "id": "fJrFRBDKj0sO"
      },
      "source": [
        "## `tfds new` : Implementando um novo dataset\n",
        "\n",
        "Este comando vai ajudar você a começar a escrever seu novo dataset Python criando um diretório `<nome_do_dataset>/` contendo arquivos de implementação padrão.\n",
        "\n",
        "Uso:"
      ]
    },
    {
      "cell_type": "code",
      "execution_count": null,
      "metadata": {
        "id": "c0Bm7yFCk91Q"
      },
      "outputs": [],
      "source": [
        "!tfds new my_dataset"
      ]
    },
    {
      "cell_type": "markdown",
      "metadata": {
        "id": "OZaDtK0elimF"
      },
      "source": [
        "`tfds new my_dataset` vai criar:"
      ]
    },
    {
      "cell_type": "code",
      "execution_count": null,
      "metadata": {
        "id": "CwSPLFRfli8I"
      },
      "outputs": [],
      "source": [
        "ls -1 my_dataset/"
      ]
    },
    {
      "cell_type": "markdown",
      "metadata": {
        "id": "rUsoDbi0moyK"
      },
      "source": [
        "Um sinalizador opcional `--data_format` pode ser usado para gerar construtores de datasets de formato específico (por exemplo, `conll`). Se nenhum formato de dados for fornecido, ele vai gerar um template para um `tfds.core.GeneratorBasedBuilder` padrão. Consulte a [documentação](https://www.tensorflow.org/datasets/format_specific_dataset_builders) para mais detalhes sobre os construtores de datasets de formato específico disponíveis.\n",
        "\n",
        "Consulte nosso guia de [como escrever datasets](https://www.tensorflow.org/datasets/add_dataset) para mais informações.\n",
        "\n",
        "Opções disponíveis:"
      ]
    },
    {
      "cell_type": "code",
      "execution_count": null,
      "metadata": {
        "id": "pAWCw-fDkwky"
      },
      "outputs": [],
      "source": [
        "!tfds new --help"
      ]
    },
    {
      "cell_type": "markdown",
      "metadata": {
        "id": "x7996uhD1-GP"
      },
      "source": [
        "## `tfds build`: baixe e prepare um dataset\n",
        "\n",
        "Use `tfds build <my_dataset>` para gerar um novo dataset, onde `<my_dataset>` pode ser:\n",
        "\n",
        "- Um caminho para a pasta `dataset/` ou arquivo `dataset.py` (vazio para o diretório atual):\n",
        "\n",
        "    - `tfds build datasets/my_dataset/`\n",
        "    - `cd datasets/my_dataset/ &amp;&amp; tfds build`\n",
        "    - `cd datasets/my_dataset/ &amp;&amp; tfds build my_dataset`\n",
        "    - `cd datasets/my_dataset/ &amp;&amp; tfds build my_dataset.py`\n",
        "\n",
        "- Um dataset registrado:\n",
        "\n",
        "    - `tfds build mnist`\n",
        "    - `tfds build my_dataset --imports my_project.datasets`\n",
        "\n",
        "Observação: `tfds build` possui sinalizadores úteis para ajudar na prototipagem e depuração. Consulte a seção `Debug e testes:` abaixo.\n",
        "\n",
        "Opções disponíveis:"
      ]
    },
    {
      "cell_type": "code",
      "execution_count": null,
      "metadata": {
        "id": "IGAl6dw62KNO"
      },
      "outputs": [],
      "source": [
        "!tfds build --help"
      ]
    }
  ],
  "metadata": {
    "colab": {
      "collapsed_sections": [
        "kGrmMPUhXfUs"
      ],
      "name": "cli.ipynb",
      "toc_visible": true
    },
    "kernelspec": {
      "display_name": "Python 3",
      "name": "python3"
    }
  },
  "nbformat": 4,
  "nbformat_minor": 0
}
