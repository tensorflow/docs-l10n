{
  "cells": [
    {
      "cell_type": "markdown",
      "metadata": {
        "id": "6XvCUmCEd4Dm"
      },
      "source": [
        "# TensorFlow Datasets\n",
        "\n",
        "A biblioteca TensorFlow Datasets (TFDS) fornece uma coleção de datasets prontos que podem ser usados com TensorFlow, Jax e outros frameworks de aprendizado de máquina.\n",
        "\n",
        "Ela cuida do download e da preparação dos dados de forma determinística e da construção de um `tf.data.Dataset` (ou `np.array`).\n",
        "\n",
        "Observação: Não confunda [TFDS](https://www.tensorflow.org/datasets) (esta biblioteca) com `tf.data` (API TensorFlow para construir pipelines de dados eficientes). TFDS é um wrapper de alto nível em torno de `tf.data`. Se você não estiver familiarizado com esta API, recomendamos que você leia primeiro o [guia oficial do tf.data](https://www.tensorflow.org/guide/data).\n"
      ]
    },
    {
      "cell_type": "markdown",
      "metadata": {
        "id": "J8y9ZkLXmAZc"
      },
      "source": [
        "Copyright 2020 The TensorFlow Datasets Authors, Licensed under the Apache License, Version 2.0"
      ]
    },
    {
      "cell_type": "markdown",
      "metadata": {
        "id": "OGw9EgE0tC0C"
      },
      "source": [
        "<table class=\"tfo-notebook-buttons\" align=\"left\">\n",
        "  <td>     <a target=\"_blank\" href=\"https://www.tensorflow.org/datasets/overview\"><img src=\"https://www.tensorflow.org/images/tf_logo_32px.png\">Ver em TensorFlow.org</a>\n",
        "</td>\n",
        "  <td>     <a target=\"_blank\" href=\"https://colab.research.google.com/github/tensorflow/docs-l10n/blob/master/site/pt-br/datasets/overview.ipynb\"><img src=\"https://www.tensorflow.org/images/colab_logo_32px.png\">Executar no Google Colab</a>\n",
        "</td>\n",
        "  <td>     <a target=\"_blank\" href=\"https://github.com/tensorflow/docs-l10n/blob/master/site/pt-br/datasets/overview.ipynb\"><img src=\"https://www.tensorflow.org/images/GitHub-Mark-32px.png\">Ver fonte no GitHub</a>\n",
        "</td>\n",
        "  <td>     <a href=\"https://storage.googleapis.com/tensorflow_docs/docs-l10n/site/pt-br/datasets/overview.ipynb\"><img src=\"https://www.tensorflow.org/images/download_logo_32px.png\">Baixar notebook</a>\n",
        "</td>\n",
        "</table>"
      ]
    },
    {
      "cell_type": "markdown",
      "metadata": {
        "id": "_7hshda5eaGL"
      },
      "source": [
        "## Instalação\n",
        "\n",
        "A biblioteca TFDS existe em dois pacotes:\n",
        "\n",
        "- `pip install tensorflow-datasets`: a versão estável, lançada a cada poucos meses.\n",
        "- `pip install tfds-nightly`: lançada todos os dias, contém as últimas versões dos datasets.\n",
        "\n",
        "Este colab usa `tfds-nightly`:\n"
      ]
    },
    {
      "cell_type": "code",
      "execution_count": null,
      "metadata": {
        "cellView": "both",
        "id": "boeZp0sYbO41"
      },
      "outputs": [],
      "source": [
        "!pip install -q tfds-nightly tensorflow matplotlib"
      ]
    },
    {
      "cell_type": "code",
      "execution_count": null,
      "metadata": {
        "id": "TTBSvHcSLBzc"
      },
      "outputs": [],
      "source": [
        "import matplotlib.pyplot as plt\n",
        "import numpy as np\n",
        "import tensorflow as tf\n",
        "\n",
        "import tensorflow_datasets as tfds"
      ]
    },
    {
      "cell_type": "markdown",
      "metadata": {
        "id": "VZZyuO13fPvk"
      },
      "source": [
        "## Encontre datasets disponíveis\n",
        "\n",
        "Todos os construtores de datasets são subclasses de `tfds.core.DatasetBuilder`. Para obter a lista de construtores disponíveis, use `tfds.list_builders()` ou consulte nosso [catálogo](https://www.tensorflow.org/datasets/catalog/overview)."
      ]
    },
    {
      "cell_type": "code",
      "execution_count": null,
      "metadata": {
        "id": "FAvbSVzjLCIb"
      },
      "outputs": [],
      "source": [
        "tfds.list_builders()"
      ]
    },
    {
      "cell_type": "markdown",
      "metadata": {
        "id": "VjI6VgOBf0v0"
      },
      "source": [
        "## Carregue um dataset\n",
        "\n",
        "### tfds.load\n",
        "\n",
        "A maneira mais fácil de carregar um datasets é usando `tfds.load`. Ele vai:\n",
        "\n",
        "1. Baixar os dados e salvá-os como arquivos [`tfrecord`](https://www.tensorflow.org/tutorials/load_data/tfrecord).\n",
        "2. Carregar o `tfrecord` e criar o `tf.data.Dataset`.\n"
      ]
    },
    {
      "cell_type": "code",
      "execution_count": null,
      "metadata": {
        "id": "dCou80mnLLPV"
      },
      "outputs": [],
      "source": [
        "ds = tfds.load('mnist', split='train', shuffle_files=True)\n",
        "assert isinstance(ds, tf.data.Dataset)\n",
        "print(ds)"
      ]
    },
    {
      "cell_type": "markdown",
      "metadata": {
        "id": "byOXYCEJS7S6"
      },
      "source": [
        "Alguns argumentos comuns:\n",
        "\n",
        "- `split=`: qual divisão ler (por exemplo, `'train'`, `['train', 'test']`, `'train[80%:]'`,...). Consulte o [guia da API split](https://www.tensorflow.org/datasets/splits).\n",
        "- `shuffle_files=`: controla se os arquivos devem ser embaralhados entre cada época (o TFDS armazena grandes datasets em múltiplos arquivos menores).\n",
        "- `data_dir=`: local onde o dataset é salvo (o padrão é `~/tensorflow_datasets/`)\n",
        "- `with_info=True`: retorna `tfds.core.DatasetInfo` contendo metadados do dataset\n",
        "- `download=False`: desativa o download\n"
      ]
    },
    {
      "cell_type": "markdown",
      "metadata": {
        "id": "qeNmFx_1RXCb"
      },
      "source": [
        "### tfds.builder\n",
        "\n",
        "`tfds.load` é um wrapper estreito em torno de `tfds.core.DatasetBuilder`. Você pode obter a mesma saída usando a API `tfds.core.DatasetBuilder`:"
      ]
    },
    {
      "cell_type": "code",
      "execution_count": null,
      "metadata": {
        "id": "2zN_jQ2ER40W"
      },
      "outputs": [],
      "source": [
        "builder = tfds.builder('mnist')\n",
        "# 1. Create the tfrecord files (no-op if already exists)\n",
        "builder.download_and_prepare()\n",
        "# 2. Load the `tf.data.Dataset`\n",
        "ds = builder.as_dataset(split='train', shuffle_files=True)\n",
        "print(ds)"
      ]
    },
    {
      "cell_type": "markdown",
      "metadata": {
        "id": "IwrjccfjoQCD"
      },
      "source": [
        "### `tfds build` CLI\n",
        "\n",
        "Se quiser gerar um dataset específico, você pode usar a [linha de comando `tfds`](https://www.tensorflow.org/datasets/cli). Por exemplo:\n",
        "\n",
        "```sh\n",
        "tfds build mnist\n",
        "```\n",
        "\n",
        "Consulte [a documentação](https://www.tensorflow.org/datasets/cli) para conhecer os sinalizadores disponíveis."
      ]
    },
    {
      "cell_type": "markdown",
      "metadata": {
        "id": "aW132I-rbJXE"
      },
      "source": [
        "## Itere sobre um dataset\n",
        "\n",
        "### Como um dict\n",
        "\n",
        "Por padrão, o objeto `tf.data.Dataset` contém um `dict` de objetos `tf.Tensor`:"
      ]
    },
    {
      "cell_type": "code",
      "execution_count": null,
      "metadata": {
        "id": "JAGjXdk_bIYQ"
      },
      "outputs": [],
      "source": [
        "ds = tfds.load('mnist', split='train')\n",
        "ds = ds.take(1)  # Only take a single example\n",
        "\n",
        "for example in ds:  # example is `{'image': tf.Tensor, 'label': tf.Tensor}`\n",
        "  print(list(example.keys()))\n",
        "  image = example[\"image\"]\n",
        "  label = example[\"label\"]\n",
        "  print(image.shape, label)"
      ]
    },
    {
      "cell_type": "markdown",
      "metadata": {
        "id": "sIqX2bmhu-8d"
      },
      "source": [
        "Para descobrir os nomes das chaves de um `dict` e sua estrutura, consulte a documentação do dataset no [nosso catálogo](https://www.tensorflow.org/datasets/catalog/overview#all_datasets). Por exemplo: a [documentação do mnist](https://www.tensorflow.org/datasets/catalog/mnist)."
      ]
    },
    {
      "cell_type": "markdown",
      "metadata": {
        "id": "umAtqBBqdkDG"
      },
      "source": [
        "### Como tupla (`as_supervised=True`)\n",
        "\n",
        "Ao usar `as_supervised=True`, você pode obter uma tupla `(features, label)` para datasets supervisionados."
      ]
    },
    {
      "cell_type": "code",
      "execution_count": null,
      "metadata": {
        "id": "nJ4O0xy3djfV"
      },
      "outputs": [],
      "source": [
        "ds = tfds.load('mnist', split='train', as_supervised=True)\n",
        "ds = ds.take(1)\n",
        "\n",
        "for image, label in ds:  # example is (image, label)\n",
        "  print(image.shape, label)"
      ]
    },
    {
      "cell_type": "markdown",
      "metadata": {
        "id": "u9palgyHfEwQ"
      },
      "source": [
        "### Como numpy (`tfds.as_numpy`)\n",
        "\n",
        "Usa `tfds.as_numpy` para converter:\n",
        "\n",
        "- `tf.Tensor` -&gt; `np.array`\n",
        "- `tf.data.Dataset` -&gt; `Iterator[Tree[np.array]]` (`Tree` pode ser `Dict` aninhada arbitrariamente, `Tuple`)\n"
      ]
    },
    {
      "cell_type": "code",
      "execution_count": null,
      "metadata": {
        "id": "tzQTCUkAfe9R"
      },
      "outputs": [],
      "source": [
        "ds = tfds.load('mnist', split='train', as_supervised=True)\n",
        "ds = ds.take(1)\n",
        "\n",
        "for image, label in tfds.as_numpy(ds):\n",
        "  print(type(image), type(label), label)"
      ]
    },
    {
      "cell_type": "markdown",
      "metadata": {
        "id": "XaRN-LdXUkl_"
      },
      "source": [
        "### Como tf.Tensor em lote (`batch_size=-1`)\n",
        "\n",
        "Usando `batch_size=-1`, você pode carregar o dataset completo num único lote.\n",
        "\n",
        "Isto pode ser combinado com `as_supervised=True` e `tfds.as_numpy` para obter os dados como `(np.array, np.array)`:\n"
      ]
    },
    {
      "cell_type": "code",
      "execution_count": null,
      "metadata": {
        "id": "Gg8BNsv-UzFl"
      },
      "outputs": [],
      "source": [
        "image, label = tfds.as_numpy(tfds.load(\n",
        "    'mnist',\n",
        "    split='test',\n",
        "    batch_size=-1,\n",
        "    as_supervised=True,\n",
        "))\n",
        "\n",
        "print(type(image), image.shape)"
      ]
    },
    {
      "cell_type": "markdown",
      "metadata": {
        "id": "kRJrB3L6wgKI"
      },
      "source": [
        "Tenha cuidado para que seu dataset caiba na memória e para que todos os exemplos tenham o mesmo formato."
      ]
    },
    {
      "cell_type": "markdown",
      "metadata": {
        "id": "heaKNg7-X4jN"
      },
      "source": [
        "## Faça benchmark dos seus datasets\n",
        "\n",
        "O benchmarking de um dataset é uma chamada simples `tfds.benchmark` em qualquer iterável (por exemplo, `tf.data.Dataset`, `tfds.as_numpy`,...).\n"
      ]
    },
    {
      "cell_type": "code",
      "execution_count": null,
      "metadata": {
        "id": "ZyQzZ98bX3dM"
      },
      "outputs": [],
      "source": [
        "ds = tfds.load('mnist', split='train')\n",
        "ds = ds.batch(32).prefetch(1)\n",
        "\n",
        "tfds.benchmark(ds, batch_size=32)\n",
        "tfds.benchmark(ds, batch_size=32)  # Second epoch much faster due to auto-caching"
      ]
    },
    {
      "cell_type": "markdown",
      "metadata": {
        "id": "MT0yEX_4kYnV"
      },
      "source": [
        "- Não esqueça de normalizar os resultados por tamanho de lote com o kwarg `batch_size=`.\n",
        "- No resumo, o primeiro lote de aquecimento é separado dos demais para capturar o tempo extra de configuração `tf.data.Dataset` (por exemplo, inicialização de buffers,...).\n",
        "- Observe como a segunda iteração é muito mais rápida devido ao [cache automático do TFDS](https://www.tensorflow.org/datasets/performances#auto-caching).\n",
        "- O `tfds.benchmark` retorna um `tfds.core.BenchmarkResult` que pode ser inspecionado para análise posterior."
      ]
    },
    {
      "cell_type": "markdown",
      "metadata": {
        "id": "o-cuwvVbeb43"
      },
      "source": [
        "### Crie um pipeline de ponta a ponta\n",
        "\n",
        "Para ir mais longe, você pode explorar:\n",
        "\n",
        "- Nosso [exemplo Keras ponta a ponta](https://www.tensorflow.org/datasets/keras_example) para ver um pipeline de treinamento completo (com lote, embaralhamento,...).\n",
        "- Nosso [guia de desempenho](https://www.tensorflow.org/datasets/performances) para melhorar a velocidade de seus pipelines (dica: use `tfds.benchmark(ds)` para fazer benchmark dos seus datasets).\n"
      ]
    },
    {
      "cell_type": "markdown",
      "metadata": {
        "id": "gTRTEQqscxAE"
      },
      "source": [
        "## Visualização\n",
        "\n",
        "### tfds.as_dataframe\n",
        "\n",
        "Os objetos `tf.data.Dataset` podem ser convertidos em [`pandas.DataFrame`](https://pandas.pydata.org/pandas-docs/stable/reference/api/pandas.DataFrame.html) com `tfds.as_dataframe` para serem visualizados no [Colab](https://colab.research.google.com).\n",
        "\n",
        "- Adicione o `tfds.core.DatasetInfo` como segundo argumento de `tfds.as_dataframe` para visualizar imagens, áudio, textos, vídeos,...\n",
        "- Use `ds.take(x)` para exibir apenas os primeiros `x` exemplos. `pandas.DataFrame` carregará o dataset completo na memória o que pode exigir muitos recursos para exibir."
      ]
    },
    {
      "cell_type": "code",
      "execution_count": null,
      "metadata": {
        "id": "FKouwN_yVSGQ"
      },
      "outputs": [],
      "source": [
        "ds, info = tfds.load('mnist', split='train', with_info=True)\n",
        "\n",
        "tfds.as_dataframe(ds.take(4), info)"
      ]
    },
    {
      "cell_type": "markdown",
      "metadata": {
        "id": "b-eDO_EXVGWC"
      },
      "source": [
        "### tfds.show_examples\n",
        "\n",
        "`tfds.show_examples` retorna um `matplotlib.figure.Figure` (no momento, somente datasets de imagem são suportados):"
      ]
    },
    {
      "cell_type": "code",
      "execution_count": null,
      "metadata": {
        "id": "DpE2FD56cSQR"
      },
      "outputs": [],
      "source": [
        "ds, info = tfds.load('mnist', split='train', with_info=True)\n",
        "\n",
        "fig = tfds.show_examples(ds, info)"
      ]
    },
    {
      "cell_type": "markdown",
      "metadata": {
        "id": "Y0iVVStvk0oI"
      },
      "source": [
        "## Acesse os metadados do dataset\n",
        "\n",
        "Todos os construtores incluem um objeto `tfds.core.DatasetInfo` contendo os metadados do dataset.\n",
        "\n",
        "Ele pode ser acessado através das seguintes APIs:\n",
        "\n",
        "- `tfds.load`:\n"
      ]
    },
    {
      "cell_type": "code",
      "execution_count": null,
      "metadata": {
        "id": "UgLgtcd1ljzt"
      },
      "outputs": [],
      "source": [
        "ds, info = tfds.load('mnist', with_info=True)"
      ]
    },
    {
      "cell_type": "markdown",
      "metadata": {
        "id": "XodyqNXrlxTM"
      },
      "source": [
        "- `tfds.core.DatasetBuilder`:"
      ]
    },
    {
      "cell_type": "code",
      "execution_count": null,
      "metadata": {
        "id": "nmq97QkilxeL"
      },
      "outputs": [],
      "source": [
        "builder = tfds.builder('mnist')\n",
        "info = builder.info"
      ]
    },
    {
      "cell_type": "markdown",
      "metadata": {
        "id": "zMGOk_ZsmPeu"
      },
      "source": [
        "O dataset info contêm informações adicionais sobre o dataset (versão, citação, página inicial, descrição,...)."
      ]
    },
    {
      "cell_type": "code",
      "execution_count": null,
      "metadata": {
        "id": "O-wLIKD-mZQT"
      },
      "outputs": [],
      "source": [
        "print(info)"
      ]
    },
    {
      "cell_type": "markdown",
      "metadata": {
        "id": "1zvAfRtwnAFk"
      },
      "source": [
        "### Metadados de características (nomes de rótulos, formato de imagem,...)\n",
        "\n",
        "Acesse `tfds.features.FeatureDict`:"
      ]
    },
    {
      "cell_type": "code",
      "execution_count": null,
      "metadata": {
        "id": "RcyZXncqoFab"
      },
      "outputs": [],
      "source": [
        "info.features"
      ]
    },
    {
      "cell_type": "markdown",
      "metadata": {
        "id": "KAm9AV7loyw5"
      },
      "source": [
        "Número de classes, nomes de rótulos:"
      ]
    },
    {
      "cell_type": "code",
      "execution_count": null,
      "metadata": {
        "id": "HhfzBH6qowpz"
      },
      "outputs": [],
      "source": [
        "print(info.features[\"label\"].num_classes)\n",
        "print(info.features[\"label\"].names)\n",
        "print(info.features[\"label\"].int2str(7))  # Human readable version (8 -> 'cat')\n",
        "print(info.features[\"label\"].str2int('7'))"
      ]
    },
    {
      "cell_type": "markdown",
      "metadata": {
        "id": "g5eWtk9ro_AK"
      },
      "source": [
        "Formatos, dtypes:"
      ]
    },
    {
      "cell_type": "code",
      "execution_count": null,
      "metadata": {
        "id": "SergV_wQowLY"
      },
      "outputs": [],
      "source": [
        "print(info.features.shape)\n",
        "print(info.features.dtype)\n",
        "print(info.features['image'].shape)\n",
        "print(info.features['image'].dtype)"
      ]
    },
    {
      "cell_type": "markdown",
      "metadata": {
        "id": "thMOZ4IKm55N"
      },
      "source": [
        "### Metadados de divisão (por exemplo, nomes de splits, número de exemplos,...)\n",
        "\n",
        "Acesse `tfds.core.SplitDict`:"
      ]
    },
    {
      "cell_type": "code",
      "execution_count": null,
      "metadata": {
        "id": "FBbfwA8Sp4ax"
      },
      "outputs": [],
      "source": [
        "print(info.splits)"
      ]
    },
    {
      "cell_type": "markdown",
      "metadata": {
        "id": "EVw1UVYa2HgN"
      },
      "source": [
        "Divisões (splits) disponíveis:"
      ]
    },
    {
      "cell_type": "code",
      "execution_count": null,
      "metadata": {
        "id": "fRBieOOquDzX"
      },
      "outputs": [],
      "source": [
        "print(list(info.splits.keys()))"
      ]
    },
    {
      "cell_type": "markdown",
      "metadata": {
        "id": "iHW0VfA0t3dO"
      },
      "source": [
        "Obtenha informações sobre a divisão individual:"
      ]
    },
    {
      "cell_type": "code",
      "execution_count": null,
      "metadata": {
        "id": "-h_OSpRsqKpP"
      },
      "outputs": [],
      "source": [
        "print(info.splits['train'].num_examples)\n",
        "print(info.splits['train'].filenames)\n",
        "print(info.splits['train'].num_shards)"
      ]
    },
    {
      "cell_type": "markdown",
      "metadata": {
        "id": "fWhSkHFNuLwW"
      },
      "source": [
        "Também funciona com a API subsplit:"
      ]
    },
    {
      "cell_type": "code",
      "execution_count": null,
      "metadata": {
        "id": "HO5irBZ3uIzQ"
      },
      "outputs": [],
      "source": [
        "print(info.splits['train[15%:75%]'].num_examples)\n",
        "print(info.splits['train[15%:75%]'].file_instructions)"
      ]
    },
    {
      "cell_type": "markdown",
      "metadata": {
        "id": "YZp2XJwQQrI0"
      },
      "source": [
        "## Solução de problemas\n",
        "\n",
        "### Download manual (se o download falhar)\n",
        "\n",
        "Se o download falhar por algum motivo (por exemplo, offline,...). Você sempre pode baixar manualmente os dados e colocá-los no `manual_dir` (o padrão é `~/tensorflow_datasets/downloads/manual/`.\n",
        "\n",
        "Para descobrir quais URLs baixar, procure:\n",
        "\n",
        "- Para novos datasets (implementados como um diretório): [`tensorflow_datasets/`](https://github.com/tensorflow/datasets/tree/master/tensorflow_datasets/) `<type>/<dataset_name>/checksums.tsv`. Por exemplo: [`tensorflow_datasets/datasets/bool_q/checksums.tsv`](https://github.com/tensorflow/datasets/blob/master/tensorflow_datasets/datasets/bool_q/checksums.tsv).\n",
        "\n",
        "    Você pode encontrar o local da fonte do dataset no [nosso catálogo](https://www.tensorflow.org/datasets/catalog/overview).\n",
        "\n",
        "- Para datasets antigos: [`tensorflow_datasets/url_checksums/<dataset_name>.txt`](https://github.com/tensorflow/datasets/tree/master/tensorflow_datasets/url_checksums)\n",
        "\n",
        "### Corrigindo o `NonMatchingChecksumError`\n",
        "\n",
        "A biblioteca TFDS garante o determinismo validandoos checksums das URLs baixadas. Se um `NonMatchingChecksumError` for lançado, isto pode indicar que:\n",
        "\n",
        "- O site pode estar fora do ar (por exemplo, `503 status code`). Por favor, verifique a URL.\n",
        "- Para URLs do Google Drive, tente novamente mais tarde, pois o Drive às vezes rejeita downloads quando muitas pessoas acessam a mesmo URL. Veja [bug](https://github.com/tensorflow/datasets/issues/1482)\n",
        "- Os arquivos dos datasets originais podem ter sido alterados. Neste caso, o construtor do conjunto de dados TFDS deve ser atualizado. Abra um novo issue no GitHub ou envie um pull request:\n",
        "    - Registre os novos checksums com `tfds build --register_checksums`\n",
        "    - Em algum momento, atualize o código de geração do dataset.\n",
        "    - Atualize a `VERSION` do dataset\n",
        "    - Atualize as `RELEASE_NOTES` do dataset: o que causou a alteração dos checksums? Alguns exemplos mudaram?\n",
        "    - Garanta que o dataset ainda possa ser compilado.\n",
        "    - Envie-nos um pull request\n",
        "\n",
        "Observação: você também pode inspecionar o arquivo baixado em `~/tensorflow_datasets/download/`.\n"
      ]
    },
    {
      "cell_type": "markdown",
      "metadata": {
        "id": "GmeeOokMODg2"
      },
      "source": [
        "## Citação\n",
        "\n",
        "Se você estiver usando o `tensorflow-datasets` num artigo, inclua a citação a seguir, além de qualquer citação específica dos datasets usados ​​(que pode ser encontrada no [catálogo de datasets](https://www.tensorflow.org/datasets/catalog/overview)).\n",
        "\n",
        "```\n",
        "@misc{TFDS,\n",
        "  title = { {TensorFlow Datasets}, A collection of ready-to-use datasets},\n",
        "  howpublished = {\\url{https://www.tensorflow.org/datasets}},\n",
        "}\n",
        "```"
      ]
    }
  ],
  "metadata": {
    "colab": {
      "collapsed_sections": [],
      "name": "overview.ipynb",
      "toc_visible": true
    },
    "kernelspec": {
      "display_name": "Python 3",
      "name": "python3"
    }
  },
  "nbformat": 4,
  "nbformat_minor": 0
}
