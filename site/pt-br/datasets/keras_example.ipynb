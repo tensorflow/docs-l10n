{
  "cells": [
    {
      "cell_type": "markdown",
      "metadata": {
        "id": "USSV_OlCFKOD"
      },
      "source": [
        "# Treinando uma rede neural no MNIST com Keras\n",
        "\n",
        "Este exemplo simples demonstra como conectar datasets do TensorFlow (TFDS) a um modelo Keras.\n"
      ]
    },
    {
      "cell_type": "markdown",
      "metadata": {
        "id": "J8y9ZkLXmAZc"
      },
      "source": [
        "Copyright 2020 Autores do TensorFlow Datasets, licenciado sob Apache License, versão 2.0"
      ]
    },
    {
      "cell_type": "markdown",
      "metadata": {
        "id": "OGw9EgE0tC0C"
      },
      "source": [
        "<table class=\"tfo-notebook-buttons\" align=\"left\">\n",
        "  <td>     <a target=\"_blank\" href=\"https://www.tensorflow.org/datasets/keras_example\"><img src=\"https://www.tensorflow.org/images/tf_logo_32px.png\">Ver em TensorFlow.org</a>\n",
        "</td>\n",
        "  <td>     <a target=\"_blank\" href=\"https://colab.research.google.com/github/tensorflow/docs-l10n/blob/master/site/pt-br/datasets/keras_example.ipynb\"><img src=\"https://www.tensorflow.org/images/colab_logo_32px.png\">Executar no Google Colab</a>\n",
        "</td>\n",
        "  <td>     <a target=\"_blank\" href=\"https://github.com/tensorflow/docs-l10n/blob/master/site/pt-br/datasets/keras_example.ipynb\"> <img src=\"https://www.tensorflow.org/images/GitHub-Mark-32px.png\"> Ver fonte no GitHub</a>\n",
        "</td>\n",
        "  <td>     <a href=\"https://storage.googleapis.com/tensorflow_docs/docs-l10n/site/pt-br/datasets/keras_example.ipynb\"><img src=\"https://www.tensorflow.org/images/download_logo_32px.png\">Baixar notebook</a>\n",
        "</td>\n",
        "</table>"
      ]
    },
    {
      "cell_type": "code",
      "execution_count": null,
      "metadata": {
        "id": "TTBSvHcSLBzc"
      },
      "outputs": [],
      "source": [
        "import tensorflow as tf\n",
        "import tensorflow_datasets as tfds"
      ]
    },
    {
      "cell_type": "markdown",
      "metadata": {
        "id": "VjI6VgOBf0v0"
      },
      "source": [
        "## Passo 1: crie seu pipeline de entrada\n",
        "\n",
        "Comece construindo um pipeline de entrada eficiente usando recomendações dos documentos a seguir:\n",
        "\n",
        "- Guia de [Dicas de desempenho](https://www.tensorflow.org/datasets/performances)\n",
        "- O guia [Desempenho melhor com a API `tf.data`](https://www.tensorflow.org/guide/data_performance#optimize_performance)\n"
      ]
    },
    {
      "cell_type": "markdown",
      "metadata": {
        "id": "c3aH3vP_XLI8"
      },
      "source": [
        "### Carregue um dataset\n",
        "\n",
        "Carregue o dataset MNIST com os seguintes argumentos:\n",
        "\n",
        "- `shuffle_files=True`: os dados MNIST são apenas armazenados num único arquivo, mas para datasets maiores com vários arquivos no disco, é uma boa prática embaralhá-los durante o treinamento.\n",
        "- `as_supervised=True`: Retorna uma tupla `(img, label)` em vez de um dicionário `{'image': img, 'label': label}`."
      ]
    },
    {
      "cell_type": "code",
      "execution_count": null,
      "metadata": {
        "id": "ZUMhCXhFXdHQ"
      },
      "outputs": [],
      "source": [
        "(ds_train, ds_test), ds_info = tfds.load(\n",
        "    'mnist',\n",
        "    split=['train', 'test'],\n",
        "    shuffle_files=True,\n",
        "    as_supervised=True,\n",
        "    with_info=True,\n",
        ")"
      ]
    },
    {
      "cell_type": "markdown",
      "metadata": {
        "id": "rgwCFAcWXQTx"
      },
      "source": [
        "### Construa um pipeline de treinamento\n",
        "\n",
        "Aplique as seguintes transformações:\n",
        "\n",
        "- `tf.data.Dataset.map`: o TFDS fornece imagens do tipo `tf.uint8`, enquanto o modelo espera `tf.float32`. Portanto, você precisa normalizar as imagens.\n",
        "- `tf.data.Dataset.cache` à medida que você ajusta o dataset na memória, armazene-o em cache antes de embaralhá-lo para obter um melhor desempenho.<br> **Observação:** transformações aleatórias devem ser aplicadas após o armazenamento em cache.\n",
        "- `tf.data.Dataset.shuffle`: para obter aleatoriedade verdadeira, defina o buffer de embaralhamento para que tenha o tamanho total do dataset.<br>**Observação:** para datasets grandes que não cabem na memória, use `buffer_size=1000` se o seu sistema permitir.\n",
        "- `tf.data.Dataset.batch` : organize os elementos do dataset em lote depois de embaralhar para obter lotes exclusivos para cada época.\n",
        "- `tf.data.Dataset.prefetch`: é uma boa prática finalizar o pipeline fazendo uma pré-busca [por questões de desempenho](https://www.tensorflow.org/guide/data_performance#prefetching)."
      ]
    },
    {
      "cell_type": "code",
      "execution_count": null,
      "metadata": {
        "id": "haykx2K9XgiI"
      },
      "outputs": [],
      "source": [
        "def normalize_img(image, label):\n",
        "  \"\"\"Normalizes images: `uint8` -> `float32`.\"\"\"\n",
        "  return tf.cast(image, tf.float32) / 255., label\n",
        "\n",
        "ds_train = ds_train.map(\n",
        "    normalize_img, num_parallel_calls=tf.data.AUTOTUNE)\n",
        "ds_train = ds_train.cache()\n",
        "ds_train = ds_train.shuffle(ds_info.splits['train'].num_examples)\n",
        "ds_train = ds_train.batch(128)\n",
        "ds_train = ds_train.prefetch(tf.data.AUTOTUNE)"
      ]
    },
    {
      "cell_type": "markdown",
      "metadata": {
        "id": "RbsMy4X1XVFv"
      },
      "source": [
        "### Construa um pipeline de avaliação\n",
        "\n",
        "Seu pipeline de teste é semelhante ao pipeline de treinamento, com pequenas diferenças:\n",
        "\n",
        "- Você não precisa chamar `tf.data.Dataset.shuffle`.\n",
        "- O cache é feito depois da criação do lote porque os lotes podem ser iguais entre épocas."
      ]
    },
    {
      "cell_type": "code",
      "execution_count": null,
      "metadata": {
        "id": "A0KjuDf7XiqY"
      },
      "outputs": [],
      "source": [
        "ds_test = ds_test.map(\n",
        "    normalize_img, num_parallel_calls=tf.data.AUTOTUNE)\n",
        "ds_test = ds_test.batch(128)\n",
        "ds_test = ds_test.cache()\n",
        "ds_test = ds_test.prefetch(tf.data.AUTOTUNE)"
      ]
    },
    {
      "cell_type": "markdown",
      "metadata": {
        "id": "nTFoji3INMEM"
      },
      "source": [
        "## Passo 2: crie e treine o modelo\n",
        "\n",
        "Conecte o pipeline de entrada do TFDS a um modelo Keras simples, compile o modelo e treine-o."
      ]
    },
    {
      "cell_type": "code",
      "execution_count": null,
      "metadata": {
        "id": "XWqxdmS1NLKA"
      },
      "outputs": [],
      "source": [
        "model = tf.keras.models.Sequential([\n",
        "  tf.keras.layers.Flatten(input_shape=(28, 28)),\n",
        "  tf.keras.layers.Dense(128, activation='relu'),\n",
        "  tf.keras.layers.Dense(10)\n",
        "])\n",
        "model.compile(\n",
        "    optimizer=tf.keras.optimizers.Adam(0.001),\n",
        "    loss=tf.keras.losses.SparseCategoricalCrossentropy(from_logits=True),\n",
        "    metrics=[tf.keras.metrics.SparseCategoricalAccuracy()],\n",
        ")\n",
        "\n",
        "model.fit(\n",
        "    ds_train,\n",
        "    epochs=6,\n",
        "    validation_data=ds_test,\n",
        ")"
      ]
    }
  ],
  "metadata": {
    "colab": {
      "collapsed_sections": [],
      "name": "keras_example.ipynb",
      "toc_visible": true
    },
    "kernelspec": {
      "display_name": "Python 3",
      "name": "python3"
    }
  },
  "nbformat": 4,
  "nbformat_minor": 0
}
