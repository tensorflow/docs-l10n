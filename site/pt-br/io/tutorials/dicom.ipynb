{
  "cells": [
    {
      "cell_type": "markdown",
      "metadata": {
        "id": "Tce3stUlHN0L"
      },
      "source": [
        "##### Copyright 2019 The TensorFlow IO Authors."
      ]
    },
    {
      "cell_type": "code",
      "execution_count": null,
      "metadata": {
        "cellView": "form",
        "id": "tuOe1ymfHZPu"
      },
      "outputs": [],
      "source": [
        "#@title Licensed under the Apache License, Version 2.0 (the \"License\");\n",
        "# you may not use this file except in compliance with the License.\n",
        "# You may obtain a copy of the License at\n",
        "#\n",
        "# https://www.apache.org/licenses/LICENSE-2.0\n",
        "#\n",
        "# Unless required by applicable law or agreed to in writing, software\n",
        "# distributed under the License is distributed on an \"AS IS\" BASIS,\n",
        "# WITHOUT WARRANTIES OR CONDITIONS OF ANY KIND, either express or implied.\n",
        "# See the License for the specific language governing permissions and\n",
        "# limitations under the License."
      ]
    },
    {
      "cell_type": "markdown",
      "metadata": {
        "id": "qFdPvlXBOdUN"
      },
      "source": [
        "# Decodifique arquivos DICOM de exames de imagem"
      ]
    },
    {
      "cell_type": "markdown",
      "metadata": {
        "id": "MfBg1C5NB3X0"
      },
      "source": [
        "<table class=\"tfo-notebook-buttons\" align=\"left\">\n",
        "  <td>     <a target=\"_blank\" href=\"https://www.tensorflow.org/io/tutorials/dicom\"><img src=\"https://www.tensorflow.org/images/tf_logo_32px.png\">Ver em TensorFlow.org</a>\n",
        "</td>\n",
        "  <td>     <a target=\"_blank\" href=\"https://colab.research.google.com/github/tensorflow/docs-l10n/blob/master/site/pt-br/io/tutorials/dicom.ipynb\"><img src=\"https://www.tensorflow.org/images/colab_logo_32px.png\">Executar no Google Colab</a>\n",
        "</td>\n",
        "  <td>     <a target=\"_blank\" href=\"https://github.com/tensorflow/docs-l10n/blob/master/site/pt-br/io/tutorials/dicom.ipynb\"><img src=\"https://www.tensorflow.org/images/GitHub-Mark-32px.png\">Ver fonte no GitHub</a>\n",
        "</td>\n",
        "      <td>     <a href=\"https://storage.googleapis.com/tensorflow_docs/docs-l10n/site/pt-br/io/tutorials/dicom.ipynb\"><img src=\"https://www.tensorflow.org/images/download_logo_32px.png\">Baixar notebook</a>\n",
        "</td>\n",
        "</table>"
      ]
    },
    {
      "cell_type": "markdown",
      "metadata": {
        "id": "xHxb-dlhMIzW"
      },
      "source": [
        "## Visão geral\n",
        "\n",
        "Este tutorial mostra como usar `tfio.image.decode_dicom_image` no TensorFlow IO para decodificar arquivos DICOM usando o TensorFlow."
      ]
    },
    {
      "cell_type": "markdown",
      "metadata": {
        "id": "MUXex9ctTuDB"
      },
      "source": [
        "## Configuração e uso"
      ]
    },
    {
      "cell_type": "markdown",
      "metadata": {
        "id": "4YsfgDMZW5g6"
      },
      "source": [
        "#### Baixe a imagem DICOM\n",
        "\n",
        "A imagem DICOM usada neste tutorial vem do [dataset NIH Chest X-ray](https://cloud.google.com/healthcare/docs/resources/public-datasets/nih-chest) (raios-X de tórax da NIH).\n",
        "\n",
        "Esse dataset contém 100.000 imagens anonimizadas de raios-X do tórax no formato PNG, fornecido pelo Centro Clínico NIH e que pode ser baixado [neste link](https://nihcc.app.box.com/v/ChestXray-NIHCC).\n",
        "\n",
        "O Google Cloud também fornece uma versão DICOM das imagens, disponível no [Cloud Storage](https://cloud.google.com/healthcare/docs/resources/public-datasets/nih-chest).\n",
        "\n",
        "Neste tutorial, você vai baixar um arquivo de amostra do dataset no [repositório do GitHub](https://github.com/tensorflow/io/raw/master/docs/tutorials/dicom/dicom_00000001_000.dcm).\n",
        "\n",
        "Observação: para ver mais informações sobre o dataset, confira a seguinte referência:\n",
        "\n",
        "- Xiaosong Wang, Yifan Peng, Le Lu, Zhiyong Lu, Mohammadhadi Bagheri, Ronald Summers, ChestX-ray8: Hospital-scale Chest X-ray Database and Benchmarks on Weakly-Supervised Classification and Localization of Common Thorax Diseases, IEEE CVPR, páginas 3.462-3.471, 2017\n"
      ]
    },
    {
      "cell_type": "code",
      "execution_count": null,
      "metadata": {
        "id": "Tu01THzWcE-J"
      },
      "outputs": [],
      "source": [
        "!curl -OL https://github.com/tensorflow/io/raw/master/docs/tutorials/dicom/dicom_00000001_000.dcm\n",
        "!ls -l dicom_00000001_000.dcm"
      ]
    },
    {
      "cell_type": "markdown",
      "metadata": {
        "id": "upgCc3gXybsA"
      },
      "source": [
        "### Instale os pacotes necessários e reinicie o runtime"
      ]
    },
    {
      "cell_type": "code",
      "execution_count": null,
      "metadata": {
        "id": "NwL3fEMQuZrk"
      },
      "outputs": [],
      "source": [
        "try:\n",
        "  # Use the Colab's preinstalled TensorFlow 2.x\n",
        "  %tensorflow_version 2.x \n",
        "except:\n",
        "  pass"
      ]
    },
    {
      "cell_type": "code",
      "execution_count": null,
      "metadata": {
        "id": "uUDYyMZRfkX4"
      },
      "outputs": [],
      "source": [
        "!pip install tensorflow-io"
      ]
    },
    {
      "cell_type": "markdown",
      "metadata": {
        "id": "yZmI7l_GykcW"
      },
      "source": [
        "### Decodifique a imagem DICOM"
      ]
    },
    {
      "cell_type": "code",
      "execution_count": null,
      "metadata": {
        "id": "YUj0878jPyz7"
      },
      "outputs": [],
      "source": [
        "import matplotlib.pyplot as plt\n",
        "import numpy as np\n",
        "\n",
        "import tensorflow as tf"
      ]
    },
    {
      "cell_type": "code",
      "execution_count": null,
      "metadata": {
        "id": "zK7IEukfuUuF"
      },
      "outputs": [],
      "source": [
        "import tensorflow_io as tfio\n",
        "\n",
        "image_bytes = tf.io.read_file('dicom_00000001_000.dcm')\n",
        "\n",
        "image = tfio.image.decode_dicom_image(image_bytes, dtype=tf.uint16)\n",
        "\n",
        "skipped = tfio.image.decode_dicom_image(image_bytes, on_error='skip', dtype=tf.uint8)\n",
        "\n",
        "lossy_image = tfio.image.decode_dicom_image(image_bytes, scale='auto', on_error='lossy', dtype=tf.uint8)\n",
        "\n",
        "\n",
        "fig, axes = plt.subplots(1,2, figsize=(10,10))\n",
        "axes[0].imshow(np.squeeze(image.numpy()), cmap='gray')\n",
        "axes[0].set_title('image')\n",
        "axes[1].imshow(np.squeeze(lossy_image.numpy()), cmap='gray')\n",
        "axes[1].set_title('lossy image');"
      ]
    },
    {
      "cell_type": "markdown",
      "metadata": {
        "id": "VbkKcNZunw3N"
      },
      "source": [
        "### Decodifique os metadados DICOM e trabalhe com tags"
      ]
    },
    {
      "cell_type": "markdown",
      "metadata": {
        "id": "D7tuwYksn8e7"
      },
      "source": [
        "`decode_dicom_data` decodifica as informações de tags. `dicom_tags` contém informações úteis, como a idade e o sexo do paciente. Portanto, você pode usar tags DICOM como `dicom_tags.PatientsAge` e `dicom_tags.PatientsSex`. O tensorflow_io usa a mesma notação de tags do pacote DICOM pydicom."
      ]
    },
    {
      "cell_type": "code",
      "execution_count": null,
      "metadata": {
        "id": "OqHkXwF0oI3L"
      },
      "outputs": [],
      "source": [
        "tag_id = tfio.image.dicom_tags.PatientsAge\n",
        "tag_value = tfio.image.decode_dicom_data(image_bytes,tag_id)\n",
        "print(tag_value)"
      ]
    },
    {
      "cell_type": "code",
      "execution_count": null,
      "metadata": {
        "id": "J2wZ-7OcoPPs"
      },
      "outputs": [],
      "source": [
        "print(f\"PatientsAge : {tag_value.numpy().decode('UTF-8')}\")"
      ]
    },
    {
      "cell_type": "code",
      "execution_count": null,
      "metadata": {
        "id": "Ce6ymbskoTOe"
      },
      "outputs": [],
      "source": [
        "tag_id = tfio.image.dicom_tags.PatientsSex\n",
        "tag_value = tfio.image.decode_dicom_data(image_bytes,tag_id)\n",
        "print(f\"PatientsSex : {tag_value.numpy().decode('UTF-8')}\")"
      ]
    },
    {
      "cell_type": "markdown",
      "metadata": {
        "id": "WodUv8O1VKmr"
      },
      "source": [
        "## Documentação\n",
        "\n",
        "Esse pacote tem duas operações que encapsulam funções `DCMTK`. `decode_dicom_image` decodifica os dados de pixel dos arquivos DICOM, e `decode_dicom_data` decodifica as informações de tags. `tags` contém tags DICOM úteis, como `tags.PatientsName`. A notação de tags é a mesma do pacote DICOM [`pydicom`](https://pydicom.github.io/).\n",
        "\n",
        "### Obtendo dados da imagem DICOM\n",
        "\n",
        "```python\n",
        "io.dicom.decode_dicom_image(\n",
        "    contents,\n",
        "    color_dim=False,\n",
        "    on_error='skip',\n",
        "    scale='preserve',\n",
        "    dtype=tf.uint16,\n",
        "    name=None\n",
        ")\n",
        "```\n",
        "\n",
        "- **`contents`**: Tensor do tipo string. 0-D. Arquivo DICOM codificado com byte string\n",
        "- **`color_dim`**: `bool` opcional. O padrão é `False`. Se `True`, um terceiro canal é anexado a todas as imagens, formando um tensor tridimensional. Uma imagem 1024x1024 em escala de cinza será 1024x1024x1\n",
        "- **`on_error`**: o padrão é `skip` (ignorar). Esse atributo define o comportamento caso ocorra um erro ao abrir a imagem ou se o tipo de saída não conseguir acomodar todos os possíveis valores de entrada. Por exemplo, se o usuário definir o dtype de saída como `tf.uint8`, mas uma imagem DICOM armazenar um tipo `tf.uint16`, `strict` vai gerar um erro. `skip` retorna um tensor unidimensional vazio. `lossy` continua a operação, dimensionando o valor por meio do atributo `scale`.\n",
        "- **`scale`**: o padrão é `preserve` (preservar). Esse atributo define o que fazer com a escala dos valores de entrada. `auto` fará o dimensionamento automático dos valores de entrada. Se o tipo de saída for inteiro, `auto` usará a escala de saída máxima, por exemplo, `uint8`, que armazena valores de [0, 255], para alargar linearmente para preencher um `uint16`, com valores [0,65535]. Se a saída for float, `auto` vai dimensionar no intervalo [0,1]. `preserve` mantém os valores como eles são. Um valor de entrada maior do que a saída máxima possível será recortado.\n",
        "- **`dtype`**: um `tf.DType` opcional dentre: `tf.uint8, tf.uint16, tf.uint32, tf.uint64, tf.float16, tf.float32, tf.float64`. O padrão é `tf.uint16`.\n",
        "- **`name`**: nome da operação (opcional).\n",
        "\n",
        "**Retorna** um `Tensor` do tipo `dtype`, e o formato é determinado pelo arquivo DICOM.\n",
        "\n",
        "### Obtendo os dados de tags DICOM\n",
        "\n",
        "```python\n",
        "io.dicom.decode_dicom_data(\n",
        "    contents,\n",
        "    tags=None,\n",
        "    name=None\n",
        ")\n",
        "```\n",
        "\n",
        "- **`contents`**: Tensor do tipo string. 0-D. Arquivo DICOM codificado com byte string\n",
        "- **`tags`**: Tensor do tipo `tf.uint32` de qualquer dimensão. Esses números `uint32` mapeiam diretamente para tags DICOM\n",
        "- **`name`**: nome da operação (opcional).\n",
        "\n",
        "**Retorna** um `Tensor` do tipo `tf.string` e mesmo formato que `tags`. Se uma tag DICOM for uma lista de strings, elas são combinadas em uma string e separadas por uma barra invertida dupla `\\`. Existe um bug em  [DCMTK](https://support.dcmtk.org/docs/): se a tag for uma lista de números, somente o elemento com índice 0 será retornado como uma string.\n",
        "\n",
        "### Bibtex\n",
        "\n",
        "Se esse pacote tiver ajudado, por favor, cite o seguinte:\n",
        "\n",
        "```\n",
        "@misc{marcelo_lerendegui_2019_3337331,\n",
        "  author       = {Marcelo Lerendegui and\n",
        "                  Ouwen Huang},\n",
        "  title        = {Tensorflow Dicom Decoder},\n",
        "  month        = jul,\n",
        "  year         = 2019,\n",
        "  doi          = {10.5281/zenodo.3337331},\n",
        "  url          = {https://doi.org/10.5281/zenodo.3337331}\n",
        "}\n",
        "```\n",
        "\n",
        "### Licença\n",
        "\n",
        "Copyright 2019 Marcelo Lerendegui, Ouwen Huang, Gradient Health Inc.\n",
        "\n",
        "Licenciado com Licença Apache, Versão 2.0 (\"Licença\"); você não pode usar este arquivo, exceto conforme disposto pela Licença. Você pode obter uma cópia da Licença em:\n",
        "\n",
        "http://www.apache.org/licenses/LICENSE-2.0\n",
        "\n",
        "A menos que exigido pelas leis aplicáveis ou acordado por escrito, o software distribuído com a Licença é distribuído \"DA FORMA EM QUE SE ENCONTRA\", SEM GARANTIAS OU CONDIÇÕES DE QUALQUER TIPO, explícitas ou implícitas. Confira a Licença para ver as informações específicas sobre permissões e limitações da Licença."
      ]
    }
  ],
  "metadata": {
    "colab": {
      "collapsed_sections": [
        "Tce3stUlHN0L"
      ],
      "name": "dicom.ipynb",
      "toc_visible": true
    },
    "kernelspec": {
      "display_name": "Python 3",
      "name": "python3"
    }
  },
  "nbformat": 4,
  "nbformat_minor": 0
}
