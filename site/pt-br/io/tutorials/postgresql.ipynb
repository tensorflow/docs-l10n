{
  "cells": [
    {
      "cell_type": "markdown",
      "metadata": {
        "id": "Tce3stUlHN0L"
      },
      "source": [
        "##### Copyright 2020 The TensorFlow IO Authors."
      ]
    },
    {
      "cell_type": "code",
      "execution_count": null,
      "metadata": {
        "cellView": "form",
        "id": "tuOe1ymfHZPu"
      },
      "outputs": [],
      "source": [
        "#@title Licensed under the Apache License, Version 2.0 (the \"License\");\n",
        "# you may not use this file except in compliance with the License.\n",
        "# You may obtain a copy of the License at\n",
        "#\n",
        "# https://www.apache.org/licenses/LICENSE-2.0\n",
        "#\n",
        "# Unless required by applicable law or agreed to in writing, software\n",
        "# distributed under the License is distributed on an \"AS IS\" BASIS,\n",
        "# WITHOUT WARRANTIES OR CONDITIONS OF ANY KIND, either express or implied.\n",
        "# See the License for the specific language governing permissions and\n",
        "# limitations under the License."
      ]
    },
    {
      "cell_type": "markdown",
      "metadata": {
        "id": "qFdPvlXBOdUN"
      },
      "source": [
        "# Leitura de banco de dados PostgreSQL pelo TensorFlow IO"
      ]
    },
    {
      "cell_type": "markdown",
      "metadata": {
        "id": "MfBg1C5NB3X0"
      },
      "source": [
        "<table class=\"tfo-notebook-buttons\" align=\"left\">\n",
        "  <td>     <a target=\"_blank\" href=\"https://www.tensorflow.org/io/tutorials/postgresql\"><img src=\"https://www.tensorflow.org/images/tf_logo_32px.png\">Ver em TensorFlow.org</a>\n",
        "</td>\n",
        "  <td>     <a target=\"_blank\" href=\"https://colab.research.google.com/github/tensorflow/docs-l10n/blob/master/site/pt-br/io/tutorials/postgresql.ipynb\"><img src=\"https://www.tensorflow.org/images/colab_logo_32px.png\">Executar no Google Colab</a>\n",
        "</td>\n",
        "  <td>     <a target=\"_blank\" href=\"https://github.com/tensorflow/docs-l10n/blob/master/site/pt-br/io/tutorials/postgresql.ipynb\"><img src=\"https://www.tensorflow.org/images/GitHub-Mark-32px.png\">Ver fonte no GitHub</a>\n",
        "</td>\n",
        "      <td>     <a href=\"https://storage.googleapis.com/tensorflow_docs/docs-l10n/site/pt-br/io/tutorials/postgresql.ipynb\"><img src=\"https://www.tensorflow.org/images/download_logo_32px.png\">Baixar notebook</a>\n",
        "</td>\n",
        "</table>"
      ]
    },
    {
      "cell_type": "markdown",
      "metadata": {
        "id": "xHxb-dlhMIzW"
      },
      "source": [
        "## Visão geral\n",
        "\n",
        "Este tutorial mostra como criar um `tf.data.Dataset` a partir de um servidor de banco de dados PostgreSQL de forma que o `Dataset` criado possa ser passado ao `tf.keras` para treinamento e inferência.\n",
        "\n",
        "Bancos de dado SQL são uma fonte de dados importante para cientistas de dados. Por ser um dos bancos de dados SQL de código aberto mais populares, o [PostgreSQL](https://www.postgresql.org) é amplamente usado em empresas para armazenar dados críticos e transacionais. Criar um `Dataset` a partir de um servidor de banco de dados PostgreSQL diretamente e passar o `Dataset` ao `tf.keras` para treinamento e inferência pode simplificar bastante o pipeline da dados e ajudar os cientistas de dados a se concentrarem em criar modelos de aprendizado de máquina."
      ]
    },
    {
      "cell_type": "markdown",
      "metadata": {
        "id": "MUXex9ctTuDB"
      },
      "source": [
        "## Configuração e uso"
      ]
    },
    {
      "cell_type": "markdown",
      "metadata": {
        "id": "upgCc3gXybsA"
      },
      "source": [
        "### Instale os pacotes tensorflow-io necessários e reinicie o runtime"
      ]
    },
    {
      "cell_type": "code",
      "execution_count": null,
      "metadata": {
        "id": "uUDYyMZRfkX4"
      },
      "outputs": [],
      "source": [
        "try:\n",
        "  %tensorflow_version 2.x\n",
        "except Exception:\n",
        "  pass\n",
        "\n",
        "!pip install tensorflow-io"
      ]
    },
    {
      "cell_type": "markdown",
      "metadata": {
        "id": "yZmI7l_GykcW"
      },
      "source": [
        "### Instale e configure o PostgreSQL (opcional)\n",
        "\n",
        "**Atenção: este notebook foi criado para execução somente no Google Colab**. *Ele instala pacotes no sistema e requer acesso sudo. Se você quiser executar em um notebook Jupyter local, prossiga com cautela.*\n",
        "\n",
        "Para demonstrar o uso no Google Colab, você instalará o servidor PostgreSQL. Também serão necessários a senha e um banco de dados vazio.\n",
        "\n",
        "Se você não estiver executando este notebook no Google Colab ou se preferir usar um banco de dados existente, pule a configuração abaixo e avance para a próxima seção."
      ]
    },
    {
      "cell_type": "code",
      "execution_count": null,
      "metadata": {
        "id": "YUj0878jPyz7"
      },
      "outputs": [],
      "source": [
        "# Install postgresql server\n",
        "!sudo apt-get -y -qq update\n",
        "!sudo apt-get -y -qq install postgresql\n",
        "!sudo service postgresql start\n",
        "\n",
        "# Setup a password `postgres` for username `postgres`\n",
        "!sudo -u postgres psql -U postgres -c \"ALTER USER postgres PASSWORD 'postgres';\"\n",
        "\n",
        "# Setup a database with name `tfio_demo` to be used\n",
        "!sudo -u postgres psql -U postgres -c 'DROP DATABASE IF EXISTS tfio_demo;'\n",
        "!sudo -u postgres psql -U postgres -c 'CREATE DATABASE tfio_demo;'"
      ]
    },
    {
      "cell_type": "markdown",
      "metadata": {
        "id": "e4_59-RLMRgT"
      },
      "source": [
        "### Configure as variáveis de ambiente necessárias\n",
        "\n",
        "As variáveis de ambiente abaixo são baseadas na configuração do PostgreSQL da última seção. Se você tiver uma configuração diferente ou se estiver utilizando um banco de dados existente, altere as variáveis conforme necessário:\n"
      ]
    },
    {
      "cell_type": "code",
      "execution_count": null,
      "metadata": {
        "id": "0dRotqDMswcK"
      },
      "outputs": [],
      "source": [
        "%env TFIO_DEMO_DATABASE_NAME=tfio_demo\n",
        "%env TFIO_DEMO_DATABASE_HOST=localhost\n",
        "%env TFIO_DEMO_DATABASE_PORT=5432\n",
        "%env TFIO_DEMO_DATABASE_USER=postgres\n",
        "%env TFIO_DEMO_DATABASE_PASS=postgres"
      ]
    },
    {
      "cell_type": "markdown",
      "metadata": {
        "id": "9reCVv0mE_9O"
      },
      "source": [
        "### Prepare os dados no servidor PostgreSQL\n",
        "\n",
        "Para fins de demonstração deste tutorial, você vai criar um banco de dados e preenchê-lo com alguns dados. Os dados usados no tutorial são do [dataset Air Quality](https://archive.ics.uci.edu/ml/datasets/Air+Quality) (qualidade do ar), disponível no [Repositório de aprendizado de máquina da UCI](http://archive.ics.uci.edu/ml).\n",
        "\n",
        "Veja abaixo uma prévia de um subconjunto do dataset Air Quality:\n",
        "\n",
        "Data | Horário | CO(GT) | PT08.S1(CO) | NMHC(GT) | C6H6(GT) | PT08.S2(NMHC) | NOx(GT) | PT08.S3(NOx) | NO2(GT) | PT08.S4(NO2) | PT08.S5(O3) | T | UR | UA\n",
        "--- | --- | --- | --- | --- | --- | --- | --- | --- | --- | --- | --- | --- | --- | ---\n",
        "10/03/2004 | 18.00.00 | 2,6 | 1360 | 150 | 11,9 | 1046 | 166 | 1056 | 113 | 1692 | 1268 | 13,6 | 48,9 | 0,7578\n",
        "10/03/2004 | 19.00.00 | 2 | 1292 | 112 | 9,4 | 955 | 103 | 1174 | 92 | 1559 | 972 | 13,3 | 47,7 | 0,7255\n",
        "10/03/2004 | 20.00.00 | 2,2 | 1402 | 88 | 9,0 | 939 | 131 | 1140 | 114 | 1555 | 1074 | 11,9 | 54,0 | 0,7502\n",
        "10/03/2004 | 21.00.00 | 2,2 | 1376 | 80 | 9,2 | 948 | 172 | 1092 | 122 | 1584 | 1203 | 11,0 | 60,0 | 0,7867\n",
        "10/03/2004 | 22.00.00 | 1,6 | 1272 | 51 | 6,5 | 836 | 131 | 1205 | 116 | 1490 | 1110 | 11,2 | 59,6 | 0,7888\n",
        "\n",
        "Confira mais informações sobre o dataset Air Quality e o Repositório de aprendizado de máquina da UCI na seção [Referências](#references).\n",
        "\n",
        "Para ajudar a simplificar a preparação dos dados, preparamos uma versão em SQL do dataset Air Quality, disponível como [AirQualityUCI.sql](https://github.com/tensorflow/docs-l10n/blob/master/site/pt-br/io/tutorials/postgresql/AirQualityUCI.sql).\n",
        "\n",
        "A declaração para criar a tabela é:\n",
        "\n",
        "```\n",
        "CREATE TABLE AirQualityUCI (\n",
        "  Date DATE,\n",
        "  Time TIME,\n",
        "  CO REAL,\n",
        "  PT08S1 INT,\n",
        "  NMHC REAL,\n",
        "  C6H6 REAL,\n",
        "  PT08S2 INT,\n",
        "  NOx REAL,\n",
        "  PT08S3 INT,\n",
        "  NO2 REAL,\n",
        "  PT08S4 INT,\n",
        "  PT08S5 INT,\n",
        "  T REAL,\n",
        "  RH REAL,\n",
        "  AH REAL\n",
        ");\n",
        "```\n",
        "\n",
        "Veja os comandos completos para criar a tabela no banco de dados e preencher com os dados:"
      ]
    },
    {
      "cell_type": "code",
      "execution_count": null,
      "metadata": {
        "id": "W1eVidg3JrPV"
      },
      "outputs": [],
      "source": [
        "!curl -s -OL https://github.com/tensorflow/io/raw/master/docs/tutorials/postgresql/AirQualityUCI.sql\n",
        "\n",
        "!PGPASSWORD=$TFIO_DEMO_DATABASE_PASS psql -q -h $TFIO_DEMO_DATABASE_HOST -p $TFIO_DEMO_DATABASE_PORT -U $TFIO_DEMO_DATABASE_USER -d $TFIO_DEMO_DATABASE_NAME -f AirQualityUCI.sql"
      ]
    },
    {
      "cell_type": "markdown",
      "metadata": {
        "id": "acEST3amdyDI"
      },
      "source": [
        "### Crie um dataset a partir do servidor PostgreSQL e utilize-o no TensorFlow\n",
        "\n",
        "Criar um dataset a partir do servidor PostgreSQL é fácil, basta chamar `tfio.experimental.IODataset.from_sql` com os argumentos `query` (consulta) e `endpoint`. `query` é a consulta SQL para selecionar colunas nas tabelas, e `endpoint` é o endereço e nome do banco de dados:"
      ]
    },
    {
      "cell_type": "code",
      "execution_count": null,
      "metadata": {
        "id": "h21RdP7meGzP"
      },
      "outputs": [],
      "source": [
        "import os\n",
        "import tensorflow_io as tfio\n",
        "\n",
        "endpoint=\"postgresql://{}:{}@{}?port={}&dbname={}\".format(\n",
        "    os.environ['TFIO_DEMO_DATABASE_USER'],\n",
        "    os.environ['TFIO_DEMO_DATABASE_PASS'],\n",
        "    os.environ['TFIO_DEMO_DATABASE_HOST'],\n",
        "    os.environ['TFIO_DEMO_DATABASE_PORT'],\n",
        "    os.environ['TFIO_DEMO_DATABASE_NAME'],\n",
        ")\n",
        "\n",
        "dataset = tfio.experimental.IODataset.from_sql(\n",
        "    query=\"SELECT co, pt08s1 FROM AirQualityUCI;\",\n",
        "    endpoint=endpoint)\n",
        "\n",
        "print(dataset.element_spec)"
      ]
    },
    {
      "cell_type": "markdown",
      "metadata": {
        "id": "8y-VpwcWNYTF"
      },
      "source": [
        "Como podemos ver na saída de `dataset.element_spec` acima, o elemento do `Dataset` criado é um objeto dict (dicionário) do Python, com nomes de colunas da tabela do banco de dados usadas como chaves. É muito simples aplicar outras operações. Por exemplo, você pode selecionar tanto o campo `nox` quanto o campo `no2` do `Dataset` e calcular a diferença:"
      ]
    },
    {
      "cell_type": "code",
      "execution_count": null,
      "metadata": {
        "id": "qCoueXYZOvqZ"
      },
      "outputs": [],
      "source": [
        "dataset = tfio.experimental.IODataset.from_sql(\n",
        "    query=\"SELECT nox, no2 FROM AirQualityUCI;\",\n",
        "    endpoint=endpoint)\n",
        "\n",
        "dataset = dataset.map(lambda e: (e['nox'] - e['no2']))\n",
        "\n",
        "# check only the first 20 record\n",
        "dataset = dataset.take(20)\n",
        "\n",
        "print(\"NOx - NO2:\")\n",
        "for difference in dataset:\n",
        "  print(difference.numpy())"
      ]
    },
    {
      "cell_type": "markdown",
      "metadata": {
        "id": "xO2pheWEPQSU"
      },
      "source": [
        "Agora, o `Dataset` criado está pronto para ser passado ao `tf.keras` diretamente para treinamento ou inferência."
      ]
    },
    {
      "cell_type": "markdown",
      "metadata": {
        "id": "AzQoxSlHVv1k"
      },
      "source": [
        "## Referências\n",
        "\n",
        "- Dua, D. e Graff, C. (2019). Repositório de aprendizado de máquina da UCI [http://archive.ics.uci.edu/ml]. Irvine, CA: University of California, School of Information and Computer Science.\n",
        "- S. De Vito, E. Massera, M. Piga, L. Martinotto, G. Di Francia, On field calibration of an electronic nose for benzene estimation in an urban pollution monitoring scenario, Sensors and Actuators B: Chemical, volume 129, edição 2, 22 de fevereiro de 2008, páginas 750-757, ISSN 0925-4005 (Calibração em campo de um nariz eletrônico para estimativa de benzeno em um cenário de monitoramento de poluição urbana)"
      ]
    }
  ],
  "metadata": {
    "colab": {
      "collapsed_sections": [
        "Tce3stUlHN0L"
      ],
      "name": "postgresql.ipynb",
      "toc_visible": true
    },
    "kernelspec": {
      "display_name": "Python 3",
      "name": "python3"
    }
  },
  "nbformat": 4,
  "nbformat_minor": 0
}
