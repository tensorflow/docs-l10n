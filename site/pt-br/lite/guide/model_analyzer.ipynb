{
  "cells": [
    {
      "cell_type": "markdown",
      "metadata": {
        "id": "g_nWetWWd_ns"
      },
      "source": [
        "##### Copyright 2021 The TensorFlow Authors."
      ]
    },
    {
      "cell_type": "code",
      "execution_count": null,
      "metadata": {
        "cellView": "form",
        "id": "2pHVBk_seED1"
      },
      "outputs": [],
      "source": [
        "#@title Licensed under the Apache License, Version 2.0 (the \"License\");\n",
        "# you may not use this file except in compliance with the License.\n",
        "# You may obtain a copy of the License at\n",
        "#\n",
        "# https://www.apache.org/licenses/LICENSE-2.0\n",
        "#\n",
        "# Unless required by applicable law or agreed to in writing, software\n",
        "# distributed under the License is distributed on an \"AS IS\" BASIS,\n",
        "# WITHOUT WARRANTIES OR CONDITIONS OF ANY KIND, either express or implied.\n",
        "# See the License for the specific language governing permissions and\n",
        "# limitations under the License."
      ]
    },
    {
      "cell_type": "markdown",
      "metadata": {
        "id": "M7vSdG6sAIQn"
      },
      "source": [
        "# Analisador de modelos do TensorFlow Lite"
      ]
    },
    {
      "cell_type": "markdown",
      "metadata": {
        "id": "fwc5GKHBASdc"
      },
      "source": [
        "<table class=\"tfo-notebook-buttons\" align=\"left\">\n",
        "  <td>     <a target=\"_blank\" href=\"https://www.tensorflow.org/lite/guide/model_analyzer\"><img src=\"https://www.tensorflow.org/images/tf_logo_32px.png\">Ver em TensorFlow.org</a>\n",
        "</td>\n",
        "  <td>     <a target=\"_blank\" href=\"https://colab.research.google.com/github/tensorflow/docs-l10n/blob/master/site/pt-br/lite/guide/model_analyzer.ipynb\"><img src=\"https://www.tensorflow.org/images/colab_logo_32px.png\">Executar no Google Colab</a>\n",
        "</td>\n",
        "  <td>     <a target=\"_blank\" href=\"https://github.com/tensorflow/docs-l10n/blob/master/site/pt-br/lite/guide/model_analyzer.ipynb\"><img src=\"https://www.tensorflow.org/images/GitHub-Mark-32px.png\">Ver fonte no GitHub</a>\n",
        "</td>\n",
        "  <td>     <a href=\"https://storage.googleapis.com/tensorflow_docs/docs-l10n/site/pt-br/lite/guide/model_analyzer.ipynb\"><img src=\"https://www.tensorflow.org/images/download_logo_32px.png\">Baixar notebook</a>\n",
        "</td>\n",
        "</table>"
      ]
    },
    {
      "cell_type": "markdown",
      "metadata": {
        "id": "9ee074e4"
      },
      "source": [
        "A API TensorFlow Lite Model Analyzer (analisador de modelos do TF Lite) ajuda a analisar modelos no formato do TensorFlow Lite por meio da listagem da estrutura do modelo.\n"
      ]
    },
    {
      "cell_type": "markdown",
      "metadata": {
        "id": "JKwW0VfDKMWS"
      },
      "source": [
        "## API Model Analyzer\n",
        "\n",
        "A seguinte API está disponível para o TensorFlow Lite Model Analyzer.\n",
        "\n",
        "```\n",
        "tf.lite.experimental.Analyzer.analyze(model_path=None,\n",
        "                                      model_content=None,\n",
        "                                      gpu_compatibility=False)\n",
        "```\n",
        "\n",
        "Confira os detalhes da API em https://www.tensorflow.org/api_docs/python/tf/lite/experimental/Analyzer ou executando `help(tf.lite.experimental.Analyzer.analyze)` em um terminal Python.\n"
      ]
    },
    {
      "cell_type": "markdown",
      "metadata": {
        "id": "qi8Vk4_065jN"
      },
      "source": [
        "## Uso básico com um modelo simples do Keras\n",
        "\n",
        "O código abaixo mostra o uso básico do Model Analyzer, indicando o conteúdo do modelo do Keras convertido para o conteúdo de modelo do TF Lite, formatado como um objeto flatbuffer."
      ]
    },
    {
      "cell_type": "code",
      "execution_count": null,
      "metadata": {
        "id": "_jkg6UNtdz8c"
      },
      "outputs": [],
      "source": [
        "import tensorflow as tf\n",
        "\n",
        "model = tf.keras.models.Sequential([\n",
        "  tf.keras.layers.Flatten(input_shape=(128, 128)),\n",
        "  tf.keras.layers.Dense(256, activation='relu'),\n",
        "  tf.keras.layers.Dropout(0.2),\n",
        "  tf.keras.layers.Dense(10)\n",
        "])\n",
        "\n",
        "fb_model = tf.lite.TFLiteConverter.from_keras_model(model).convert()\n",
        "\n",
        "tf.lite.experimental.Analyzer.analyze(model_content=fb_model)\n"
      ]
    },
    {
      "cell_type": "markdown",
      "metadata": {
        "id": "pe_ZU5Zy7PeH"
      },
      "source": [
        "## Uso básico com o modelo MobileNetV3Large do Keras\n",
        "\n",
        "Essa API funciona com modelos grandes, como o MobileNetV3Large. Como a saída é grande, talvez seja melhor explorá-la com seu editor de texto favorito."
      ]
    },
    {
      "cell_type": "code",
      "execution_count": null,
      "metadata": {
        "id": "QFywJ_g56VW5"
      },
      "outputs": [],
      "source": [
        "model = tf.keras.applications.MobileNetV3Large()\n",
        "fb_model = tf.lite.TFLiteConverter.from_keras_model(model).convert()\n",
        "\n",
        "tf.lite.experimental.Analyzer.analyze(model_content=fb_model)"
      ]
    },
    {
      "cell_type": "markdown",
      "metadata": {
        "id": "4BGqG2j9yqRf"
      },
      "source": [
        "## Verifique a compatibilidade com delegado de GPU\n",
        "\n",
        "A API ModelAnalyzer conta com uma maneira de verificar a compatibilidade com [delegado de GPU](https://www.tensorflow.org/lite/performance/gpu) do modelo fornecido por meio da opção `gpu_compatibility=True`.\n"
      ]
    },
    {
      "cell_type": "markdown",
      "metadata": {
        "id": "sVGC1oX33RkV"
      },
      "source": [
        "### Caso 1 – Quando o modelo é incompatível\n",
        "\n",
        "O código abaixo mostra uma maneira de usar a opção `gpu_compatibility=True` para uma tf.function simples que usa `tf.slice` com um tensor bidimensional e `tf.cosh`, que não são compatíveis com delegado de GPU.\n",
        "\n",
        "Será exibido o aviso `GPU COMPATIBILITY WARNING` para cada nó com problemas de compatibilidade."
      ]
    },
    {
      "cell_type": "code",
      "execution_count": null,
      "metadata": {
        "id": "9GEg5plIzD-3"
      },
      "outputs": [],
      "source": [
        "import tensorflow as tf\n",
        "\n",
        "@tf.function(input_signature=[\n",
        "    tf.TensorSpec(shape=[4, 4], dtype=tf.float32)\n",
        "])\n",
        "def func(x):\n",
        "  return tf.cosh(x) + tf.slice(x, [1, 1], [1, 1])\n",
        "\n",
        "converter = tf.lite.TFLiteConverter.from_concrete_functions(\n",
        "    [func.get_concrete_function()], func)\n",
        "converter.target_spec.supported_ops = [\n",
        "    tf.lite.OpsSet.TFLITE_BUILTINS,\n",
        "    tf.lite.OpsSet.SELECT_TF_OPS,\n",
        "]\n",
        "fb_model = converter.convert()\n",
        "\n",
        "tf.lite.experimental.Analyzer.analyze(model_content=fb_model, gpu_compatibility=True)"
      ]
    },
    {
      "cell_type": "markdown",
      "metadata": {
        "id": "BFU7HYb_2a8M"
      },
      "source": [
        "### Caso 2 – Quando o modelo é compatível\n",
        "\n",
        "Neste exemplo, o model fornecido é compatível com delegado de GPU.\n",
        "\n",
        "**Observação:** embora a ferramenta não encontre nenhum problema de compatibilidade, ela não garante que seu modelo funcione bem com delegado de GPU em todos os dispositivos. Pode haver incompatibilidade em tempo de execução, como ausência do recurso `CL_DEVICE_IMAGE_SUPPORT` no back-end OpenGL alvo.\n"
      ]
    },
    {
      "cell_type": "code",
      "execution_count": null,
      "metadata": {
        "id": "85RgG6tQ3ABT"
      },
      "outputs": [],
      "source": [
        "model = tf.keras.models.Sequential([\n",
        "  tf.keras.layers.Flatten(input_shape=(128, 128)),\n",
        "  tf.keras.layers.Dense(256, activation='relu'),\n",
        "  tf.keras.layers.Dropout(0.2),\n",
        "  tf.keras.layers.Dense(10)\n",
        "])\n",
        "\n",
        "fb_model = tf.lite.TFLiteConverter.from_keras_model(model).convert()\n",
        "\n",
        "tf.lite.experimental.Analyzer.analyze(model_content=fb_model, gpu_compatibility=True)"
      ]
    }
  ],
  "metadata": {
    "colab": {
      "collapsed_sections": [],
      "name": "model_analyzer.ipynb",
      "toc_visible": true
    },
    "kernelspec": {
      "display_name": "Python 3",
      "name": "python3"
    }
  },
  "nbformat": 4,
  "nbformat_minor": 0
}
