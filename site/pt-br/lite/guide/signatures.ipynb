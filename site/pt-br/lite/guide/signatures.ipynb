{
  "cells": [
    {
      "cell_type": "markdown",
      "id": "g_nWetWWd_ns",
      "metadata": {
        "id": "g_nWetWWd_ns"
      },
      "source": [
        "##### Copyright 2021 The TensorFlow Authors."
      ]
    },
    {
      "cell_type": "code",
      "execution_count": null,
      "id": "2pHVBk_seED1",
      "metadata": {
        "cellView": "form",
        "id": "2pHVBk_seED1"
      },
      "outputs": [],
      "source": [
        "#@title Licensed under the Apache License, Version 2.0 (the \"License\");\n",
        "# you may not use this file except in compliance with the License.\n",
        "# You may obtain a copy of the License at\n",
        "#\n",
        "# https://www.apache.org/licenses/LICENSE-2.0\n",
        "#\n",
        "# Unless required by applicable law or agreed to in writing, software\n",
        "# distributed under the License is distributed on an \"AS IS\" BASIS,\n",
        "# WITHOUT WARRANTIES OR CONDITIONS OF ANY KIND, either express or implied.\n",
        "# See the License for the specific language governing permissions and\n",
        "# limitations under the License."
      ]
    },
    {
      "cell_type": "markdown",
      "id": "M7vSdG6sAIQn",
      "metadata": {
        "id": "M7vSdG6sAIQn"
      },
      "source": [
        "# Assinaturas no TensorFlow Lite"
      ]
    },
    {
      "cell_type": "markdown",
      "id": "fwc5GKHBASdc",
      "metadata": {
        "id": "fwc5GKHBASdc"
      },
      "source": [
        "<table class=\"tfo-notebook-buttons\" align=\"left\">\n",
        "  <td>     <a target=\"_blank\" href=\"https://www.tensorflow.org/lite/guide/signatures\"><img src=\"https://www.tensorflow.org/images/tf_logo_32px.png\">Ver em TensorFlow.org</a> </td>\n",
        "  <td>     <a target=\"_blank\" href=\"https://colab.research.google.com/github/tensorflow/docs-l10n/blob/master/site/pt-br/lite/guide/signatures.ipynb\"><img src=\"https://www.tensorflow.org/images/colab_logo_32px.png\">Executar no Google Colab</a> </td>\n",
        "  <td>     <a target=\"_blank\" href=\"https://github.com/tensorflow/docs-l10n/blob/master/site/pt-br/lite/guide/signatures.ipynb\"><img src=\"https://www.tensorflow.org/images/GitHub-Mark-32px.png\">Ver fonte no GitHub</a> </td>\n",
        "  <td>     <a href=\"https://storage.googleapis.com/tensorflow_docs/docs-l10n/site/pt-br/lite/guide/signatures.ipynb\"><img src=\"https://www.tensorflow.org/images/download_logo_32px.png\">Baixar notebook</a> </td>\n",
        "</table>"
      ]
    },
    {
      "cell_type": "markdown",
      "id": "9ee074e4",
      "metadata": {
        "id": "9ee074e4"
      },
      "source": [
        "O TensorFlow Lite tem suporte à conversão das especificações de entrada/saída de modelos do TensorFlow para o TensorFlow Lite. As especificações de entrada/saída são chamadas de \"assinaturas\", que podem ser especificadas ao compilar um SavedModel ou ao criar funções concretas.\n",
        "\n",
        "As assinaturas no TensorFlow Lite contam com os seguintes recursos:\n",
        "\n",
        "- Especificam entradas e saídas do modelo convertido para TensorFlow Lite, respeitando as assinaturas do modelo do TensorFlow.\n",
        "- Permitem que um único modelo do TensorFlow Lite tenha suporte a diversos pontos de entrada.\n",
        "\n",
        "A assinatura é composta por três componentes:\n",
        "\n",
        "- Inputs (entradas): faz o mapeamento de entradas do nome de entradas na assinatura para um tensor de entrada.\n",
        "- Outputs (saídas): faz o mapeamento de saídas do nome de saída na assinatura para um tensor de saída.\n",
        "- Signature Key (chave de assinatura): nome que identifica um ponto de entrada do grafo.\n"
      ]
    },
    {
      "cell_type": "markdown",
      "id": "UaWdLA3fQDK2",
      "metadata": {
        "id": "UaWdLA3fQDK2"
      },
      "source": [
        "## Configuração"
      ]
    },
    {
      "cell_type": "code",
      "execution_count": null,
      "id": "9j4MGqyKQEo4",
      "metadata": {
        "id": "9j4MGqyKQEo4"
      },
      "outputs": [],
      "source": [
        "import tensorflow as tf"
      ]
    },
    {
      "cell_type": "markdown",
      "id": "FN2N6hPEP-Ay",
      "metadata": {
        "id": "FN2N6hPEP-Ay"
      },
      "source": [
        "## Modelo de exemplo\n",
        "\n",
        "Vamos supor que tenhamos duas tarefas, como codificação e decodificação, em um modelo do TensorFlow:"
      ]
    },
    {
      "cell_type": "code",
      "execution_count": null,
      "id": "d8577c80",
      "metadata": {
        "id": "d8577c80"
      },
      "outputs": [],
      "source": [
        "class Model(tf.Module):\n",
        "\n",
        "  @tf.function(input_signature=[tf.TensorSpec(shape=[None], dtype=tf.float32)])\n",
        "  def encode(self, x):\n",
        "    result = tf.strings.as_string(x)\n",
        "    return {\n",
        "         \"encoded_result\": result\n",
        "    }\n",
        "\n",
        "  @tf.function(input_signature=[tf.TensorSpec(shape=[None], dtype=tf.string)])\n",
        "  def decode(self, x):\n",
        "    result = tf.strings.to_number(x)\n",
        "    return {\n",
        "         \"decoded_result\": result\n",
        "    }"
      ]
    },
    {
      "cell_type": "markdown",
      "id": "9c814c6e",
      "metadata": {
        "id": "9c814c6e"
      },
      "source": [
        "Pela perspectiva de assinatura, o modelo do TensorFlow acima pode ser resumido da seguinte forma:\n",
        "\n",
        "- Assinatura\n",
        "\n",
        "    - Chave: encode\n",
        "    - Entradas: {\"x\"}\n",
        "    - Saída: {\"encoded_result\"}\n",
        "\n",
        "- Assinatura\n",
        "\n",
        "    - Chave: decode\n",
        "    - Entradas: {\"x\"}\n",
        "    - Saída: {\"decoded_result\"}"
      ]
    },
    {
      "cell_type": "markdown",
      "id": "c4099f20",
      "metadata": {
        "id": "c4099f20"
      },
      "source": [
        "## Conversão de modelos com assinaturas\n",
        "\n",
        "As APIs de conversão do TensorFlow Lite levam as informações de assinatura acima ao modelo convertido para TensorFlow Lite.\n",
        "\n",
        "Essa funcionalidade de conversão está disponível em todas as APIs de conversão a partir do TensorFlow versão 2.7.0. Confira os exemplos de uso abaixo.\n"
      ]
    },
    {
      "cell_type": "markdown",
      "id": "Qv0WwFQkQgnO",
      "metadata": {
        "id": "Qv0WwFQkQgnO"
      },
      "source": [
        "### Usando um SavedModel"
      ]
    },
    {
      "cell_type": "code",
      "execution_count": null,
      "id": "96c8fc79",
      "metadata": {
        "id": "96c8fc79"
      },
      "outputs": [],
      "source": [
        "model = Model()\n",
        "\n",
        "# Save the model\n",
        "SAVED_MODEL_PATH = 'content/saved_models/coding'\n",
        "\n",
        "tf.saved_model.save(\n",
        "    model, SAVED_MODEL_PATH,\n",
        "    signatures={\n",
        "      'encode': model.encode.get_concrete_function(),\n",
        "      'decode': model.decode.get_concrete_function()\n",
        "    })\n",
        "\n",
        "# Convert the saved model using TFLiteConverter\n",
        "converter = tf.lite.TFLiteConverter.from_saved_model(SAVED_MODEL_PATH)\n",
        "converter.target_spec.supported_ops = [\n",
        "    tf.lite.OpsSet.TFLITE_BUILTINS,  # enable TensorFlow Lite ops.\n",
        "    tf.lite.OpsSet.SELECT_TF_OPS  # enable TensorFlow ops.\n",
        "]\n",
        "tflite_model = converter.convert()\n",
        "\n",
        "# Print the signatures from the converted model\n",
        "interpreter = tf.lite.Interpreter(model_content=tflite_model)\n",
        "signatures = interpreter.get_signature_list()\n",
        "print(signatures)"
      ]
    },
    {
      "cell_type": "markdown",
      "id": "5baa9f17",
      "metadata": {
        "id": "5baa9f17"
      },
      "source": [
        "### Usando um modelo do Keras"
      ]
    },
    {
      "cell_type": "code",
      "execution_count": null,
      "id": "71f29229",
      "metadata": {
        "id": "71f29229"
      },
      "outputs": [],
      "source": [
        "# Generate a Keras model.\n",
        "keras_model = tf.keras.Sequential(\n",
        "    [\n",
        "        tf.keras.layers.Dense(2, input_dim=4, activation='relu', name='x'),\n",
        "        tf.keras.layers.Dense(1, activation='relu', name='output'),\n",
        "    ]\n",
        ")\n",
        "\n",
        "# Convert the keras model using TFLiteConverter.\n",
        "# Keras model converter API uses the default signature automatically.\n",
        "converter = tf.lite.TFLiteConverter.from_keras_model(keras_model)\n",
        "tflite_model = converter.convert()\n",
        "\n",
        "# Print the signatures from the converted model\n",
        "interpreter = tf.lite.Interpreter(model_content=tflite_model)\n",
        "\n",
        "signatures = interpreter.get_signature_list()\n",
        "print(signatures)"
      ]
    },
    {
      "cell_type": "markdown",
      "id": "e4d30f85",
      "metadata": {
        "id": "e4d30f85"
      },
      "source": [
        "### De funções concretas"
      ]
    },
    {
      "cell_type": "code",
      "execution_count": null,
      "id": "c9e8a742",
      "metadata": {
        "id": "c9e8a742"
      },
      "outputs": [],
      "source": [
        "model = Model()\n",
        "\n",
        "# Convert the concrete functions using TFLiteConverter\n",
        "converter = tf.lite.TFLiteConverter.from_concrete_functions(\n",
        "    [model.encode.get_concrete_function(),\n",
        "     model.decode.get_concrete_function()], model)\n",
        "converter.target_spec.supported_ops = [\n",
        "    tf.lite.OpsSet.TFLITE_BUILTINS,  # enable TensorFlow Lite ops.\n",
        "    tf.lite.OpsSet.SELECT_TF_OPS  # enable TensorFlow ops.\n",
        "]\n",
        "tflite_model = converter.convert()\n",
        "\n",
        "# Print the signatures from the converted model\n",
        "interpreter = tf.lite.Interpreter(model_content=tflite_model)\n",
        "signatures = interpreter.get_signature_list()\n",
        "print(signatures)"
      ]
    },
    {
      "cell_type": "markdown",
      "id": "b5e85934",
      "metadata": {
        "id": "b5e85934"
      },
      "source": [
        "## Execução de assinaturas\n",
        "\n",
        "As APIs de inferência do TensorFlow têm suporte a execuções baseadas em assinatura:\n",
        "\n",
        "- Acesso aos tensores de entrada/saída por meio dos nomes das entradas e saídas, especificadas pela assinatura.\n",
        "- Execução de cada ponto de entrada do grafo separadamente, identificado pela chave de assinatura.\n",
        "- Suporte ao procedimento de inicialização do SavedModel.\n",
        "\n",
        "As vinculações das linguagens Java, C++ e Python já estão disponíveis. Confira os exemplos nas seções abaixo.\n"
      ]
    },
    {
      "cell_type": "markdown",
      "id": "ZRBMFciMQmiB",
      "metadata": {
        "id": "ZRBMFciMQmiB"
      },
      "source": [
        "### Java"
      ]
    },
    {
      "cell_type": "markdown",
      "id": "04c5a4fc",
      "metadata": {
        "id": "04c5a4fc"
      },
      "source": [
        "```\n",
        "try (Interpreter interpreter = new Interpreter(file_of_tensorflowlite_model)) {\n",
        "  // Run encoding signature.\n",
        "  Map&lt;String, Object&gt; inputs = new HashMap&lt;&gt;();\n",
        "  inputs.put(\"x\", input);\n",
        "  Map&lt;String, Object&gt; outputs = new HashMap&lt;&gt;();\n",
        "  outputs.put(\"encoded_result\", encoded_result);\n",
        "  interpreter.runSignature(inputs, outputs, \"encode\");\n",
        "\n",
        "  // Run decoding signature.\n",
        "  Map&lt;String, Object&gt; inputs = new HashMap&lt;&gt;();\n",
        "  inputs.put(\"x\", encoded_result);\n",
        "  Map&lt;String, Object&gt; outputs = new HashMap&lt;&gt;();\n",
        "  outputs.put(\"decoded_result\", decoded_result);\n",
        "  interpreter.runSignature(inputs, outputs, \"decode\");\n",
        "}\n",
        "```"
      ]
    },
    {
      "cell_type": "markdown",
      "id": "5ba86c64",
      "metadata": {
        "id": "5ba86c64"
      },
      "source": [
        "### C++"
      ]
    },
    {
      "cell_type": "markdown",
      "id": "397ad6fd",
      "metadata": {
        "id": "397ad6fd"
      },
      "source": [
        "```\n",
        "SignatureRunner* encode_runner =\n",
        "    interpreter->GetSignatureRunner(\"encode\");\n",
        "encode_runner->ResizeInputTensor(\"x\", {100});\n",
        "encode_runner->AllocateTensors();\n",
        "\n",
        "TfLiteTensor* input_tensor = encode_runner->input_tensor(\"x\");\n",
        "float* input = GetTensorData<float>(input_tensor);\n",
        "// Fill `input`.\n",
        "\n",
        "encode_runner->Invoke();\n",
        "\n",
        "const TfLiteTensor* output_tensor = encode_runner->output_tensor(\n",
        "    \"encoded_result\");\n",
        "float* output = GetTensorData<float>(output_tensor);\n",
        "// Access `output`.\n",
        "```"
      ]
    },
    {
      "cell_type": "markdown",
      "id": "0f4c6ad4",
      "metadata": {
        "id": "0f4c6ad4"
      },
      "source": [
        "### Python"
      ]
    },
    {
      "cell_type": "code",
      "execution_count": null,
      "id": "ab7b1963",
      "metadata": {
        "id": "ab7b1963"
      },
      "outputs": [],
      "source": [
        "# Load the TFLite model in TFLite Interpreter\n",
        "interpreter = tf.lite.Interpreter(model_content=tflite_model)\n",
        "\n",
        "# Print the signatures from the converted model\n",
        "signatures = interpreter.get_signature_list()\n",
        "print('Signature:', signatures)\n",
        "\n",
        "# encode and decode are callable with input as arguments.\n",
        "encode = interpreter.get_signature_runner('encode')\n",
        "decode = interpreter.get_signature_runner('decode')\n",
        "\n",
        "# 'encoded' and 'decoded' are dictionaries with all outputs from the inference.\n",
        "input = tf.constant([1, 2, 3], dtype=tf.float32)\n",
        "print('Input:', input)\n",
        "encoded = encode(x=input)\n",
        "print('Encoded result:', encoded)\n",
        "decoded = decode(x=encoded['encoded_result'])\n",
        "print('Decoded result:', decoded)"
      ]
    },
    {
      "cell_type": "markdown",
      "id": "81b42e5b",
      "metadata": {
        "id": "81b42e5b"
      },
      "source": [
        "## Limitações conhecidas\n",
        "\n",
        "- Como o interpretador do TF Lite não garante a segurança de threads, os executadores de assinaturas do mesmo interpretador não serão executados simultaneamente.\n",
        "- Ainda não há suporte ao C/iOS/Swift.\n"
      ]
    },
    {
      "cell_type": "markdown",
      "id": "3032Iof6QqmJ",
      "metadata": {
        "id": "3032Iof6QqmJ"
      },
      "source": [
        "## Atualizações\n",
        "\n",
        "- Versão 2.7\n",
        "    - Recurso de múltiplas assinaturas implementado.\n",
        "    - Todas as APIs de conversão a partir da versão 2 geram modelos do TensorFlow Lite com assinaturas.\n",
        "- Versão 2.5\n",
        "    - O recurso de assinaturas está disponível por meio da API de conversão `from_saved_model`."
      ]
    }
  ],
  "metadata": {
    "colab": {
      "collapsed_sections": [],
      "name": "signatures.ipynb",
      "toc_visible": true
    },
    "kernelspec": {
      "display_name": "Python 3",
      "name": "python3"
    }
  },
  "nbformat": 4,
  "nbformat_minor": 0
}
