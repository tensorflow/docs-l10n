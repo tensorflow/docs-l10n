{
  "cells": [
    {
      "cell_type": "markdown",
      "metadata": {
        "id": "L30JbHSkiVZx"
      },
      "source": [
        "##### Copyright 2021 The TensorFlow Authors."
      ]
    },
    {
      "cell_type": "code",
      "execution_count": null,
      "metadata": {
        "cellView": "form",
        "id": "ZtimvKLdili0"
      },
      "outputs": [],
      "source": [
        "#@title Licensed under the Apache License, Version 2.0 (the \"License\");\n",
        "# you may not use this file except in compliance with the License.\n",
        "# You may obtain a copy of the License at\n",
        "#\n",
        "# https://www.apache.org/licenses/LICENSE-2.0\n",
        "#\n",
        "# Unless required by applicable law or agreed to in writing, software\n",
        "# distributed under the License is distributed on an \"AS IS\" BASIS,\n",
        "# WITHOUT WARRANTIES OR CONDITIONS OF ANY KIND, either express or implied.\n",
        "# See the License for the specific language governing permissions and\n",
        "# limitations under the License."
      ]
    },
    {
      "cell_type": "markdown",
      "metadata": {
        "id": "QXdiroR-Ue-Z"
      },
      "source": [
        "# Classificação de poses humanas com o MoveNet e o TensorFlow Lite\n",
        "\n",
        "Este notebook ensina a você como treinar um modelo de classificação de poses usando o MoveNet e o TensorFlow Lite. O resultado é um novo modelo do TensorFlow Lite que aceita a saída do modelo MoveNet como sua entrada e gera uma classificação da pose, como o nome de uma pose de yoga.\n",
        "\n",
        "O procedimento neste notebook consiste em 3 partes:\n",
        "\n",
        "- Parte 1: pré-processe os dados de treinamento da classificação de poses em um arquivo CSV que especifica os landmarks (pontos-chave corporais) detectados pelo modelo MoveNet, além dos rótulos de pose de verdade absoluta.\n",
        "- Parte 2: crie e treine um modelo de classificação de poses que aceita coordenadas de landmarks do arquivo CSV como entrada e gera os rótulos previstos.\n",
        "- Parte 3: converta o modelo de classificação de poses para o TFLite.\n",
        "\n",
        "Por padrão, este notebook usa um dataset de imagens com poses de yoga rotuladas, mas também incluímos uma seção na Parte 1 onde você pode fazer upload do seu próprio dataset de imagens de poses.\n",
        "\n",
        "<table class=\"tfo-notebook-buttons\" align=\"left\">\n",
        "  <td>     <a target=\"_blank\" href=\"https://www.tensorflow.org/lite/tutorials/pose_classification\"><img src=\"https://www.tensorflow.org/images/tf_logo_32px.png\">Ver em TensorFlow.org</a>\n",
        "</td>\n",
        "  <td>     <a target=\"_blank\" href=\"https://colab.research.google.com/github/tensorflow/docs-l10n/blob/master/site/pt-br/lite/tutorials/pose_classification.ipynb\"><img src=\"https://www.tensorflow.org/images/colab_logo_32px.png\">Executar no Google Colab</a>\n",
        "</td>\n",
        "  <td>     <a target=\"_blank\" href=\"https://github.com/tensorflow/docs-l10n/blob/master/site/pt-br/lite/tutorials/pose_classification.ipynb\"><img src=\"https://www.tensorflow.org/images/GitHub-Mark-32px.png\">Ver fonte no GitHub</a>\n",
        "</td>\n",
        "  <td>     <a href=\"https://storage.googleapis.com/tensorflow_docs/docs-l10n/site/pt-br/lite/tutorials/pose_classification.ipynb\"><img src=\"https://www.tensorflow.org/images/download_logo_32px.png\">Baixar notebook</a>\n",
        "</td>\n",
        "  <td>     <a href=\"https://tfhub.dev/s?q=movenet\"><img src=\"https://www.tensorflow.org/images/hub_logo_32px.png\">Ver modelo do TF Hub</a>\n",
        "</td>\n",
        "</table>"
      ]
    },
    {
      "cell_type": "markdown",
      "metadata": {
        "id": "IfQ3xP6-EY5r"
      },
      "source": [
        "## Preparação"
      ]
    },
    {
      "cell_type": "markdown",
      "metadata": {
        "id": "Jpy4A1Vpi9jH"
      },
      "source": [
        "Nesta seção, você importará as bibliotecas necessárias e definirá várias funções para pré-processar as imagens de treinamento em um arquivo CSV com as coordenadas dos landmarks e os rótulos de verdade absoluta.\n",
        "\n",
        "Não acontece nada observável aqui, mas você pode expandir as células de código ocultas para ver a implementação de algumas funções que serão chamadas depois.\n",
        "\n",
        "**Se você só quiser criar o arquivo CSV sem saber todos os detalhes, basta executar esta seção e seguir para a Parte 1.**"
      ]
    },
    {
      "cell_type": "code",
      "execution_count": null,
      "metadata": {
        "id": "PWlbrkMCx-W-"
      },
      "outputs": [],
      "source": [
        "!pip install -q opencv-python"
      ]
    },
    {
      "cell_type": "code",
      "execution_count": null,
      "metadata": {
        "id": "KTkttSWnUi1Q"
      },
      "outputs": [],
      "source": [
        "import csv\n",
        "import cv2\n",
        "import itertools\n",
        "import numpy as np\n",
        "import pandas as pd\n",
        "import os\n",
        "import sys\n",
        "import tempfile\n",
        "import tqdm\n",
        "\n",
        "from matplotlib import pyplot as plt\n",
        "from matplotlib.collections import LineCollection\n",
        "\n",
        "import tensorflow as tf\n",
        "import tensorflow_hub as hub\n",
        "from tensorflow import keras\n",
        "\n",
        "from sklearn.model_selection import train_test_split\n",
        "from sklearn.metrics import accuracy_score, classification_report, confusion_matrix"
      ]
    },
    {
      "cell_type": "markdown",
      "metadata": {
        "id": "KwRwEssyTciI"
      },
      "source": [
        "### Código para executar a estimativa de pose usando o MoveNet"
      ]
    },
    {
      "cell_type": "code",
      "execution_count": null,
      "metadata": {
        "cellView": "form",
        "id": "48kW1c2F5l1R"
      },
      "outputs": [],
      "source": [
        "#@title Functions to run pose estimation with MoveNet\n",
        "\n",
        "#@markdown You'll download the MoveNet Thunder model from [TensorFlow Hub](https://www.google.com/url?sa=D&q=https%3A%2F%2Ftfhub.dev%2Fs%3Fq%3Dmovenet), and reuse some inference and visualization logic from the [MoveNet Raspberry Pi (Python)](https://github.com/tensorflow/examples/tree/master/lite/examples/pose_estimation/raspberry_pi) sample app to detect landmarks (ear, nose, wrist etc.) from the input images.\n",
        "\n",
        "#@markdown *Note: You should use the most accurate pose estimation model (i.e. MoveNet Thunder) to detect the keypoints and use them to train the pose classification model to achieve the best accuracy. When running inference, you can use a pose estimation model of your choice (e.g. either MoveNet Lightning or Thunder).*\n",
        "\n",
        "# Download model from TF Hub and check out inference code from GitHub\n",
        "!wget -q -O movenet_thunder.tflite https://tfhub.dev/google/lite-model/movenet/singlepose/thunder/tflite/float16/4?lite-format=tflite\n",
        "!git clone https://github.com/tensorflow/examples.git\n",
        "pose_sample_rpi_path = os.path.join(os.getcwd(), 'examples/lite/examples/pose_estimation/raspberry_pi')\n",
        "sys.path.append(pose_sample_rpi_path)\n",
        "\n",
        "# Load MoveNet Thunder model\n",
        "import utils\n",
        "from data import BodyPart\n",
        "from ml import Movenet\n",
        "movenet = Movenet('movenet_thunder')\n",
        "\n",
        "# Define function to run pose estimation using MoveNet Thunder.\n",
        "# You'll apply MoveNet's cropping algorithm and run inference multiple times on\n",
        "# the input image to improve pose estimation accuracy.\n",
        "def detect(input_tensor, inference_count=3):\n",
        "  \"\"\"Runs detection on an input image.\n",
        " \n",
        "  Args:\n",
        "    input_tensor: A [height, width, 3] Tensor of type tf.float32.\n",
        "      Note that height and width can be anything since the image will be\n",
        "      immediately resized according to the needs of the model within this\n",
        "      function.\n",
        "    inference_count: Number of times the model should run repeatly on the\n",
        "      same input image to improve detection accuracy.\n",
        " \n",
        "  Returns:\n",
        "    A Person entity detected by the MoveNet.SinglePose.\n",
        "  \"\"\"\n",
        "  image_height, image_width, channel = input_tensor.shape\n",
        " \n",
        "  # Detect pose using the full input image\n",
        "  movenet.detect(input_tensor.numpy(), reset_crop_region=True)\n",
        " \n",
        "  # Repeatedly using previous detection result to identify the region of\n",
        "  # interest and only croping that region to improve detection accuracy\n",
        "  for _ in range(inference_count - 1):\n",
        "    person = movenet.detect(input_tensor.numpy(), \n",
        "                            reset_crop_region=False)\n",
        "\n",
        "  return person"
      ]
    },
    {
      "cell_type": "code",
      "execution_count": null,
      "metadata": {
        "cellView": "form",
        "id": "fKo0NzwQJ5Rm"
      },
      "outputs": [],
      "source": [
        "#@title Functions to visualize the pose estimation results.\n",
        "\n",
        "def draw_prediction_on_image(\n",
        "    image, person, crop_region=None, close_figure=True,\n",
        "    keep_input_size=False):\n",
        "  \"\"\"Draws the keypoint predictions on image.\n",
        " \n",
        "  Args:\n",
        "    image: An numpy array with shape [height, width, channel] representing the\n",
        "      pixel values of the input image.\n",
        "    person: A person entity returned from the MoveNet.SinglePose model.\n",
        "    close_figure: Whether to close the plt figure after the function returns.\n",
        "    keep_input_size: Whether to keep the size of the input image.\n",
        " \n",
        "  Returns:\n",
        "    An numpy array with shape [out_height, out_width, channel] representing the\n",
        "    image overlaid with keypoint predictions.\n",
        "  \"\"\"\n",
        "  # Draw the detection result on top of the image.\n",
        "  image_np = utils.visualize(image, [person])\n",
        "  \n",
        "  # Plot the image with detection results.\n",
        "  height, width, channel = image.shape\n",
        "  aspect_ratio = float(width) / height\n",
        "  fig, ax = plt.subplots(figsize=(12 * aspect_ratio, 12))\n",
        "  im = ax.imshow(image_np)\n",
        " \n",
        "  if close_figure:\n",
        "    plt.close(fig)\n",
        " \n",
        "  if not keep_input_size:\n",
        "    image_np = utils.keep_aspect_ratio_resizer(image_np, (512, 512))\n",
        "\n",
        "  return image_np"
      ]
    },
    {
      "cell_type": "code",
      "execution_count": null,
      "metadata": {
        "cellView": "form",
        "id": "QUkOW_26S6K-"
      },
      "outputs": [],
      "source": [
        "#@title Code to load the images, detect pose landmarks and save them into a CSV file\n",
        "\n",
        "class MoveNetPreprocessor(object):\n",
        "  \"\"\"Helper class to preprocess pose sample images for classification.\"\"\"\n",
        " \n",
        "  def __init__(self,\n",
        "               images_in_folder,\n",
        "               images_out_folder,\n",
        "               csvs_out_path):\n",
        "    \"\"\"Creates a preprocessor to detection pose from images and save as CSV.\n",
        "\n",
        "    Args:\n",
        "      images_in_folder: Path to the folder with the input images. It should\n",
        "        follow this structure:\n",
        "        yoga_poses\n",
        "        |__ downdog\n",
        "            |______ 00000128.jpg\n",
        "            |______ 00000181.bmp\n",
        "            |______ ...\n",
        "        |__ goddess\n",
        "            |______ 00000243.jpg\n",
        "            |______ 00000306.jpg\n",
        "            |______ ...\n",
        "        ...\n",
        "      images_out_folder: Path to write the images overlay with detected\n",
        "        landmarks. These images are useful when you need to debug accuracy\n",
        "        issues.\n",
        "      csvs_out_path: Path to write the CSV containing the detected landmark\n",
        "        coordinates and label of each image that can be used to train a pose\n",
        "        classification model.\n",
        "    \"\"\"\n",
        "    self._images_in_folder = images_in_folder\n",
        "    self._images_out_folder = images_out_folder\n",
        "    self._csvs_out_path = csvs_out_path\n",
        "    self._messages = []\n",
        "\n",
        "    # Create a temp dir to store the pose CSVs per class\n",
        "    self._csvs_out_folder_per_class = tempfile.mkdtemp()\n",
        " \n",
        "    # Get list of pose classes and print image statistics\n",
        "    self._pose_class_names = sorted(\n",
        "        [n for n in os.listdir(self._images_in_folder) if not n.startswith('.')]\n",
        "        )\n",
        "    \n",
        "  def process(self, per_pose_class_limit=None, detection_threshold=0.1):\n",
        "    \"\"\"Preprocesses images in the given folder.\n",
        "    Args:\n",
        "      per_pose_class_limit: Number of images to load. As preprocessing usually\n",
        "        takes time, this parameter can be specified to make the reduce of the\n",
        "        dataset for testing.\n",
        "      detection_threshold: Only keep images with all landmark confidence score\n",
        "        above this threshold.\n",
        "    \"\"\"\n",
        "    # Loop through the classes and preprocess its images\n",
        "    for pose_class_name in self._pose_class_names:\n",
        "      print('Preprocessing', pose_class_name, file=sys.stderr)\n",
        "\n",
        "      # Paths for the pose class.\n",
        "      images_in_folder = os.path.join(self._images_in_folder, pose_class_name)\n",
        "      images_out_folder = os.path.join(self._images_out_folder, pose_class_name)\n",
        "      csv_out_path = os.path.join(self._csvs_out_folder_per_class,\n",
        "                                  pose_class_name + '.csv')\n",
        "      if not os.path.exists(images_out_folder):\n",
        "        os.makedirs(images_out_folder)\n",
        " \n",
        "      # Detect landmarks in each image and write it to a CSV file\n",
        "      with open(csv_out_path, 'w') as csv_out_file:\n",
        "        csv_out_writer = csv.writer(csv_out_file, \n",
        "                                    delimiter=',', \n",
        "                                    quoting=csv.QUOTE_MINIMAL)\n",
        "        # Get list of images\n",
        "        image_names = sorted(\n",
        "            [n for n in os.listdir(images_in_folder) if not n.startswith('.')])\n",
        "        if per_pose_class_limit is not None:\n",
        "          image_names = image_names[:per_pose_class_limit]\n",
        "\n",
        "        valid_image_count = 0\n",
        " \n",
        "        # Detect pose landmarks from each image\n",
        "        for image_name in tqdm.tqdm(image_names):\n",
        "          image_path = os.path.join(images_in_folder, image_name)\n",
        "\n",
        "          try:\n",
        "            image = tf.io.read_file(image_path)\n",
        "            image = tf.io.decode_jpeg(image)\n",
        "          except:\n",
        "            self._messages.append('Skipped ' + image_path + '. Invalid image.')\n",
        "            continue\n",
        "          else:\n",
        "            image = tf.io.read_file(image_path)\n",
        "            image = tf.io.decode_jpeg(image)\n",
        "            image_height, image_width, channel = image.shape\n",
        "          \n",
        "          # Skip images that isn't RGB because Movenet requires RGB images\n",
        "          if channel != 3:\n",
        "            self._messages.append('Skipped ' + image_path +\n",
        "                                  '. Image isn\\'t in RGB format.')\n",
        "            continue\n",
        "          person = detect(image)\n",
        "          \n",
        "          # Save landmarks if all landmarks were detected\n",
        "          min_landmark_score = min(\n",
        "              [keypoint.score for keypoint in person.keypoints])\n",
        "          should_keep_image = min_landmark_score >= detection_threshold\n",
        "          if not should_keep_image:\n",
        "            self._messages.append('Skipped ' + image_path +\n",
        "                                  '. No pose was confidentlly detected.')\n",
        "            continue\n",
        "\n",
        "          valid_image_count += 1\n",
        "\n",
        "          # Draw the prediction result on top of the image for debugging later\n",
        "          output_overlay = draw_prediction_on_image(\n",
        "              image.numpy().astype(np.uint8), person, \n",
        "              close_figure=True, keep_input_size=True)\n",
        "        \n",
        "          # Write detection result into an image file\n",
        "          output_frame = cv2.cvtColor(output_overlay, cv2.COLOR_RGB2BGR)\n",
        "          cv2.imwrite(os.path.join(images_out_folder, image_name), output_frame)\n",
        "        \n",
        "          # Get landmarks and scale it to the same size as the input image\n",
        "          pose_landmarks = np.array(\n",
        "              [[keypoint.coordinate.x, keypoint.coordinate.y, keypoint.score]\n",
        "                for keypoint in person.keypoints],\n",
        "              dtype=np.float32)\n",
        "\n",
        "          # Write the landmark coordinates to its per-class CSV file\n",
        "          coordinates = pose_landmarks.flatten().astype(np.str).tolist()\n",
        "          csv_out_writer.writerow([image_name] + coordinates)\n",
        "\n",
        "        if not valid_image_count:\n",
        "          raise RuntimeError(\n",
        "              'No valid images found for the \"{}\" class.'\n",
        "              .format(pose_class_name))\n",
        "      \n",
        "    # Print the error message collected during preprocessing.\n",
        "    print('\\n'.join(self._messages))\n",
        "\n",
        "    # Combine all per-class CSVs into a single output file\n",
        "    all_landmarks_df = self._all_landmarks_as_dataframe()\n",
        "    all_landmarks_df.to_csv(self._csvs_out_path, index=False)\n",
        "\n",
        "  def class_names(self):\n",
        "    \"\"\"List of classes found in the training dataset.\"\"\"\n",
        "    return self._pose_class_names\n",
        "  \n",
        "  def _all_landmarks_as_dataframe(self):\n",
        "    \"\"\"Merge all per-class CSVs into a single dataframe.\"\"\"\n",
        "    total_df = None\n",
        "    for class_index, class_name in enumerate(self._pose_class_names):\n",
        "      csv_out_path = os.path.join(self._csvs_out_folder_per_class,\n",
        "                                  class_name + '.csv')\n",
        "      per_class_df = pd.read_csv(csv_out_path, header=None)\n",
        "      \n",
        "      # Add the labels\n",
        "      per_class_df['class_no'] = [class_index]*len(per_class_df)\n",
        "      per_class_df['class_name'] = [class_name]*len(per_class_df)\n",
        "\n",
        "      # Append the folder name to the filename column (first column)\n",
        "      per_class_df[per_class_df.columns[0]] = (os.path.join(class_name, '') \n",
        "        + per_class_df[per_class_df.columns[0]].astype(str))\n",
        "\n",
        "      if total_df is None:\n",
        "        # For the first class, assign its data to the total dataframe\n",
        "        total_df = per_class_df\n",
        "      else:\n",
        "        # Concatenate each class's data into the total dataframe\n",
        "        total_df = pd.concat([total_df, per_class_df], axis=0)\n",
        " \n",
        "    list_name = [[bodypart.name + '_x', bodypart.name + '_y', \n",
        "                  bodypart.name + '_score'] for bodypart in BodyPart] \n",
        "    header_name = []\n",
        "    for columns_name in list_name:\n",
        "      header_name += columns_name\n",
        "    header_name = ['file_name'] + header_name\n",
        "    header_map = {total_df.columns[i]: header_name[i] \n",
        "                  for i in range(len(header_name))}\n",
        " \n",
        "    total_df.rename(header_map, axis=1, inplace=True)\n",
        "\n",
        "    return total_df"
      ]
    },
    {
      "cell_type": "code",
      "execution_count": null,
      "metadata": {
        "cellView": "form",
        "id": "LB3QIVrdU108"
      },
      "outputs": [],
      "source": [
        "#@title (Optional) Code snippet to try out the Movenet pose estimation logic\n",
        "\n",
        "#@markdown You can download an image from the internet, run the pose estimation logic on it and plot the detected landmarks on top of the input image. \n",
        "\n",
        "#@markdown *Note: This code snippet is also useful for debugging when you encounter an image with bad pose classification accuracy. You can run pose estimation on the image and see if the detected landmarks look correct or not before investigating the pose classification logic.*\n",
        "\n",
        "test_image_url = \"https://cdn.pixabay.com/photo/2017/03/03/17/30/yoga-2114512_960_720.jpg\" #@param {type:\"string\"}\n",
        "!wget -O /tmp/image.jpeg {test_image_url}\n",
        "\n",
        "if len(test_image_url):\n",
        "  image = tf.io.read_file('/tmp/image.jpeg')\n",
        "  image = tf.io.decode_jpeg(image)\n",
        "  person = detect(image)\n",
        "  _ = draw_prediction_on_image(image.numpy(), person, crop_region=None, \n",
        "                               close_figure=False, keep_input_size=True)"
      ]
    },
    {
      "cell_type": "markdown",
      "metadata": {
        "id": "L24GWhgo4WAl"
      },
      "source": [
        "## Parte 1: pré-processe as imagens de entrada\n",
        "\n",
        "Como a entrada do nosso classificador de poses são os landmarks de *saída* do modelo MoveNet, precisamos gerar o dataset de treinamento ao executar imagens rotuladas através do MoveNet e depois capturar todos os dados de landmarks e rótulos de verdade absoluta em um arquivo CSV.\n",
        "\n",
        "O dataset que fornecemos para este tutorial é um dataset de poses de yoga gerado por CG. Ele contém imagens de vários modelos gerados por CG fazendo 5 poses de yoga diferentes. O diretório já está dividido em datasets `train` e `test`.\n",
        "\n",
        "Portanto, nesta seção, vamos baixar o dataset de yoga e executá-lo pelo MoveNet para que possamos capturar todos os landmarks em um arquivo CSV... **No entanto, leva cerca de 15 minutos para alimentar nosso dataset de yoga ao MoveNet e gerar esse arquivo CSV**. Então, como alternativa, você pode baixar um arquivo CSV pré-existente para o dataset de yoga ao definir o parâmetro `is_skip_step_1` abaixo como **True**. Assim, você pulará este passo e baixará o mesmo arquivo CSV criado nesta etapa de pré-processamento.\n",
        "\n",
        "Por outro lado, se você quiser treinar o classificador de poses com seu próprio dataset de imagens, precisará fazer upload das imagens e realizar este passo de pré-processamento (deixe `is_skip_step_1` como **False**): siga as instruções abaixo para carregar seu próprio dataset de poses."
      ]
    },
    {
      "cell_type": "code",
      "execution_count": null,
      "metadata": {
        "cellView": "form",
        "id": "Kw6jwOFD40Fr"
      },
      "outputs": [],
      "source": [
        "is_skip_step_1 = False #@param [\"False\", \"True\"] {type:\"raw\"}"
      ]
    },
    {
      "cell_type": "markdown",
      "metadata": {
        "id": "TJXSR2CQhm-z"
      },
      "source": [
        "### (Opcional) Faça upload do seu próprio dataset de poses"
      ]
    },
    {
      "cell_type": "code",
      "execution_count": null,
      "metadata": {
        "cellView": "form",
        "id": "iEnjgeKeS_VP"
      },
      "outputs": [],
      "source": [
        "use_custom_dataset = False #@param [\"False\", \"True\"] {type:\"raw\"}\n",
        "\n",
        "dataset_is_split = False #@param [\"False\", \"True\"] {type:\"raw\"}"
      ]
    },
    {
      "cell_type": "markdown",
      "metadata": {
        "id": "YiqF3sRf3LLC"
      },
      "source": [
        "Se você quiser treinar o classificador de poses com suas próprias poses rotuladas (pode ser de qualquer tipo, e não só poses de yoga), siga estas etapas:\n",
        "\n",
        "1. Defina a opção `use_custom_dataset` acima como **True**.\n",
        "\n",
        "2. Prepare um arquivo (ZIP, TAR etc.) que inclua uma pasta com seu dataset de imagens. Essa pasta precisa ter imagens classificadas das suas poses da maneira a seguir.\n",
        "\n",
        "Se você já dividiu seu dataset em conjuntos de treinamento e teste, defina `dataset_is_split` como **True**. Isto é, sua pasta de imagens precisa incluir os diretórios \"train\" e \"teste\" assim:\n",
        "\n",
        "```\n",
        "```\n",
        "yoga_poses/\n",
        "|__ train/\n",
        "    |__ downdog/\n",
        "        |______ 00000128.jpg\n",
        "        |______ ...\n",
        "|__ test/\n",
        "    |__ downdog/\n",
        "        |______ 00000181.jpg\n",
        "        |______ ...\n",
        "```\n",
        "\n",
        "Or, if your dataset is NOT split yet, then set\n",
        "`dataset_is_split` to **False** and we'll split it up based\n",
        "on a specified split fraction. That is, your uploaded images\n",
        "folder should look like this:\n",
        "\n",
        "```\n",
        "yoga_poses/\n",
        "|__ downdog/\n",
        "    |______ 00000128.jpg\n",
        "    |______ 00000181.jpg\n",
        "    |______ ...\n",
        "|__ goddess/\n",
        "    |______ 00000243.jpg\n",
        "    |______ 00000306.jpg\n",
        "    |______ ...\n",
        "```\n",
        "```\n",
        "\n",
        "1. Clique na guia **Files**, \"Arquivos\", à esquerda (ícone de pasta) e depois em **Upload to session storage**, \"Fazer upload no armazenamento da sessão\", (ícone de arquivo).\n",
        "2. Selecione seu arquivo e espere até que o upload seja concluído antes de continuar.\n",
        "3. Edite o bloco de código a seguir para especificar o nome do arquivo e do diretório de imagens. (Por padrão, esperamos um arquivo ZIP, então você também precisará modificar essa parte se o seu arquivo estiver em outro formato.)\n",
        "4. Agora, execute o resto do notebook."
      ]
    },
    {
      "cell_type": "code",
      "execution_count": null,
      "metadata": {
        "cellView": "form",
        "id": "joAHy_r62dsI"
      },
      "outputs": [],
      "source": [
        "#@markdown Be sure you run this cell. It's hiding the `split_into_train_test()` function that's called in the next code block.\n",
        "\n",
        "import os\n",
        "import random\n",
        "import shutil\n",
        "\n",
        "def split_into_train_test(images_origin, images_dest, test_split):\n",
        "  \"\"\"Splits a directory of sorted images into training and test sets.\n",
        "\n",
        "  Args:\n",
        "    images_origin: Path to the directory with your images. This directory\n",
        "      must include subdirectories for each of your labeled classes. For example:\n",
        "      yoga_poses/\n",
        "      |__ downdog/\n",
        "          |______ 00000128.jpg\n",
        "          |______ 00000181.jpg\n",
        "          |______ ...\n",
        "      |__ goddess/\n",
        "          |______ 00000243.jpg\n",
        "          |______ 00000306.jpg\n",
        "          |______ ...\n",
        "      ...\n",
        "    images_dest: Path to a directory where you want the split dataset to be\n",
        "      saved. The results looks like this:\n",
        "      split_yoga_poses/\n",
        "      |__ train/\n",
        "          |__ downdog/\n",
        "              |______ 00000128.jpg\n",
        "              |______ ...\n",
        "      |__ test/\n",
        "          |__ downdog/\n",
        "              |______ 00000181.jpg\n",
        "              |______ ...\n",
        "    test_split: Fraction of data to reserve for test (float between 0 and 1).\n",
        "  \"\"\"\n",
        "  _, dirs, _ = next(os.walk(images_origin))\n",
        "\n",
        "  TRAIN_DIR = os.path.join(images_dest, 'train')\n",
        "  TEST_DIR = os.path.join(images_dest, 'test')\n",
        "  os.makedirs(TRAIN_DIR, exist_ok=True)\n",
        "  os.makedirs(TEST_DIR, exist_ok=True)\n",
        "\n",
        "  for dir in dirs:\n",
        "    # Get all filenames for this dir, filtered by filetype\n",
        "    filenames = os.listdir(os.path.join(images_origin, dir))\n",
        "    filenames = [os.path.join(images_origin, dir, f) for f in filenames if (\n",
        "        f.endswith('.png') or f.endswith('.jpg') or f.endswith('.jpeg') or f.endswith('.bmp'))]\n",
        "    # Shuffle the files, deterministically\n",
        "    filenames.sort()\n",
        "    random.seed(42)\n",
        "    random.shuffle(filenames)\n",
        "    # Divide them into train/test dirs\n",
        "    os.makedirs(os.path.join(TEST_DIR, dir), exist_ok=True)\n",
        "    os.makedirs(os.path.join(TRAIN_DIR, dir), exist_ok=True)\n",
        "    test_count = int(len(filenames) * test_split)\n",
        "    for i, file in enumerate(filenames):\n",
        "      if i < test_count:\n",
        "        destination = os.path.join(TEST_DIR, dir, os.path.split(file)[1])\n",
        "      else:\n",
        "        destination = os.path.join(TRAIN_DIR, dir, os.path.split(file)[1])\n",
        "      shutil.copyfile(file, destination)\n",
        "    print(f'Moved {test_count} of {len(filenames)} from class \"{dir}\" into test.')\n",
        "  print(f'Your split dataset is in \"{images_dest}\"')"
      ]
    },
    {
      "cell_type": "code",
      "execution_count": null,
      "metadata": {
        "id": "IfpNIjAmR0lp"
      },
      "outputs": [],
      "source": [
        "if use_custom_dataset:\n",
        "  # ATTENTION:\n",
        "  # You must edit these two lines to match your archive and images folder name:\n",
        "  # !tar -xf YOUR_DATASET_ARCHIVE_NAME.tar\n",
        "  !unzip -q YOUR_DATASET_ARCHIVE_NAME.zip\n",
        "  dataset_in = 'YOUR_DATASET_DIR_NAME'\n",
        "\n",
        "  # You can leave the rest alone:\n",
        "  if not os.path.isdir(dataset_in):\n",
        "    raise Exception(\"dataset_in is not a valid directory\")\n",
        "  if dataset_is_split:\n",
        "    IMAGES_ROOT = dataset_in\n",
        "  else:\n",
        "    dataset_out = 'split_' + dataset_in\n",
        "    split_into_train_test(dataset_in, dataset_out, test_split=0.2)\n",
        "    IMAGES_ROOT = dataset_out"
      ]
    },
    {
      "cell_type": "markdown",
      "metadata": {
        "id": "IPkTA5-sNF7W"
      },
      "source": [
        "**Observação:** se você estiver usando o `split_into_train_test()` para dividir o dataset, ele espera que todas as imagens sejam PNG, JPEG ou BMP e ignora os outros tipos de arquivo."
      ]
    },
    {
      "cell_type": "markdown",
      "metadata": {
        "id": "dcoak0QHW5d1"
      },
      "source": [
        "### Baixe o dataset de yoga"
      ]
    },
    {
      "cell_type": "code",
      "execution_count": null,
      "metadata": {
        "id": "GVpOi5Hr4Xxt"
      },
      "outputs": [],
      "source": [
        "if not is_skip_step_1 and not use_custom_dataset:\n",
        "  !wget -O yoga_poses.zip http://download.tensorflow.org/data/pose_classification/yoga_poses.zip\n",
        "  !unzip -q yoga_poses.zip -d yoga_cg\n",
        "  IMAGES_ROOT = \"yoga_cg\""
      ]
    },
    {
      "cell_type": "markdown",
      "metadata": {
        "id": "vxOkXvm-TvOZ"
      },
      "source": [
        "### Faça o pré-processamento do dataset `TRAIN`"
      ]
    },
    {
      "cell_type": "code",
      "execution_count": null,
      "metadata": {
        "id": "OsdqxGfxTE2H"
      },
      "outputs": [],
      "source": [
        "if not is_skip_step_1:\n",
        "  images_in_train_folder = os.path.join(IMAGES_ROOT, 'train')\n",
        "  images_out_train_folder = 'poses_images_out_train'\n",
        "  csvs_out_train_path = 'train_data.csv'\n",
        "\n",
        "  preprocessor = MoveNetPreprocessor(\n",
        "      images_in_folder=images_in_train_folder,\n",
        "      images_out_folder=images_out_train_folder,\n",
        "      csvs_out_path=csvs_out_train_path,\n",
        "  )\n",
        "\n",
        "  preprocessor.process(per_pose_class_limit=None)"
      ]
    },
    {
      "cell_type": "markdown",
      "metadata": {
        "id": "cQtgAeHVT0UE"
      },
      "source": [
        "### Faça o pré-processamento do dataset `TEST`"
      ]
    },
    {
      "cell_type": "code",
      "execution_count": null,
      "metadata": {
        "id": "hddKVPjrTNbt"
      },
      "outputs": [],
      "source": [
        "if not is_skip_step_1:\n",
        "  images_in_test_folder = os.path.join(IMAGES_ROOT, 'test')\n",
        "  images_out_test_folder = 'poses_images_out_test'\n",
        "  csvs_out_test_path = 'test_data.csv'\n",
        "\n",
        "  preprocessor = MoveNetPreprocessor(\n",
        "      images_in_folder=images_in_test_folder,\n",
        "      images_out_folder=images_out_test_folder,\n",
        "      csvs_out_path=csvs_out_test_path,\n",
        "  )\n",
        "\n",
        "  preprocessor.process(per_pose_class_limit=None)"
      ]
    },
    {
      "cell_type": "markdown",
      "metadata": {
        "id": "UevEKViRT_6J"
      },
      "source": [
        "## Parte 2: treine um modelo de classificação de poses que aceita coordenadas de landmarks como entrada e gera rótulos previstos\n",
        "\n",
        "Você criará um modelo do TensorFlow que aceita coordenadas de landmark e prevê a classe da pose em que está a pessoa na imagem de entrada. O modelo consiste em dois submodelos:\n",
        "\n",
        "- O submodelo 1 calcula um embedding da pose (ou seja, um vetor de características) a partir das coordenadas de landmark detectadas.\n",
        "- O submodelo 2 alimenta o embedding da pose por várias camadas `Dense` para prever a classe dela.\n",
        "\n",
        "Depois, você treinará o modelo com base no dataset pré-processado na parte 1."
      ]
    },
    {
      "cell_type": "markdown",
      "metadata": {
        "id": "E2D1czPJazvb"
      },
      "source": [
        "### (Opcional) Baixe o dataset pré-processado se você não executou a parte 1"
      ]
    },
    {
      "cell_type": "code",
      "execution_count": null,
      "metadata": {
        "id": "ShpOD7yb4MRp"
      },
      "outputs": [],
      "source": [
        "# Download the preprocessed CSV files which are the same as the output of step 1\n",
        "if is_skip_step_1:\n",
        "  !wget -O train_data.csv http://download.tensorflow.org/data/pose_classification/yoga_train_data.csv\n",
        "  !wget -O test_data.csv http://download.tensorflow.org/data/pose_classification/yoga_test_data.csv\n",
        "\n",
        "  csvs_out_train_path = 'train_data.csv'\n",
        "  csvs_out_test_path = 'test_data.csv'\n",
        "  is_skipped_step_1 = True"
      ]
    },
    {
      "cell_type": "markdown",
      "metadata": {
        "id": "iGMcoSwLwRSD"
      },
      "source": [
        "### Carregue os CSVs pré-processados nos datasets `TRAIN` e `TEST`"
      ]
    },
    {
      "cell_type": "code",
      "execution_count": null,
      "metadata": {
        "id": "pOUcc8EL5rrj"
      },
      "outputs": [],
      "source": [
        "def load_pose_landmarks(csv_path):\n",
        "  \"\"\"Loads a CSV created by MoveNetPreprocessor.\n",
        "  \n",
        "  Returns:\n",
        "    X: Detected landmark coordinates and scores of shape (N, 17 * 3)\n",
        "    y: Ground truth labels of shape (N, label_count)\n",
        "    classes: The list of all class names found in the dataset\n",
        "    dataframe: The CSV loaded as a Pandas dataframe features (X) and ground\n",
        "      truth labels (y) to use later to train a pose classification model.\n",
        "  \"\"\"\n",
        "\n",
        "  # Load the CSV file\n",
        "  dataframe = pd.read_csv(csv_path)\n",
        "  df_to_process = dataframe.copy()\n",
        "\n",
        "  # Drop the file_name columns as you don't need it during training.\n",
        "  df_to_process.drop(columns=['file_name'], inplace=True)\n",
        "\n",
        "  # Extract the list of class names\n",
        "  classes = df_to_process.pop('class_name').unique()\n",
        "\n",
        "  # Extract the labels\n",
        "  y = df_to_process.pop('class_no')\n",
        "\n",
        "  # Convert the input features and labels into the correct format for training.\n",
        "  X = df_to_process.astype('float64')\n",
        "  y = keras.utils.to_categorical(y)\n",
        "\n",
        "  return X, y, classes, dataframe"
      ]
    },
    {
      "cell_type": "markdown",
      "metadata": {
        "id": "UMrLzfPz7E1U"
      },
      "source": [
        "Carregue e divida o dataset `TRAIN` original em `TRAIN` (85% dos dados) e `VALIDATE` (os 15% restantes)."
      ]
    },
    {
      "cell_type": "code",
      "execution_count": null,
      "metadata": {
        "id": "xawmSDGXUUzW"
      },
      "outputs": [],
      "source": [
        "# Load the train data\n",
        "X, y, class_names, _ = load_pose_landmarks(csvs_out_train_path)\n",
        "\n",
        "# Split training data (X, y) into (X_train, y_train) and (X_val, y_val)\n",
        "X_train, X_val, y_train, y_val = train_test_split(X, y,\n",
        "                                                  test_size=0.15)"
      ]
    },
    {
      "cell_type": "code",
      "execution_count": null,
      "metadata": {
        "id": "R42kicUMaTX0"
      },
      "outputs": [],
      "source": [
        "# Load the test data\n",
        "X_test, y_test, _, df_test = load_pose_landmarks(csvs_out_test_path)"
      ]
    },
    {
      "cell_type": "markdown",
      "metadata": {
        "id": "ydb-bd_UWXMq"
      },
      "source": [
        "### Defina funções para converter os landmarks das poses em um embedding (ou seja, um vetor de características) para a classificação\n",
        "\n",
        "Em seguida, converta as coordenadas de landmark em um vetor de características ao:\n",
        "\n",
        "1. Mover o centro da pose para a origem.\n",
        "2. Dimensionar a pose para que o tamanho dela seja 1.\n",
        "3. Achatar essas coordenadas em um vetor de características.\n",
        "\n",
        "Em seguida, use esse vetor de características para treinar um classificador de poses baseado em rede neural."
      ]
    },
    {
      "cell_type": "code",
      "execution_count": null,
      "metadata": {
        "id": "HgQMdfeT65Z5"
      },
      "outputs": [],
      "source": [
        "def get_center_point(landmarks, left_bodypart, right_bodypart):\n",
        "  \"\"\"Calculates the center point of the two given landmarks.\"\"\"\n",
        "\n",
        "  left = tf.gather(landmarks, left_bodypart.value, axis=1)\n",
        "  right = tf.gather(landmarks, right_bodypart.value, axis=1)\n",
        "  center = left * 0.5 + right * 0.5\n",
        "  return center\n",
        "\n",
        "\n",
        "def get_pose_size(landmarks, torso_size_multiplier=2.5):\n",
        "  \"\"\"Calculates pose size.\n",
        "\n",
        "  It is the maximum of two values:\n",
        "    * Torso size multiplied by `torso_size_multiplier`\n",
        "    * Maximum distance from pose center to any pose landmark\n",
        "  \"\"\"\n",
        "  # Hips center\n",
        "  hips_center = get_center_point(landmarks, BodyPart.LEFT_HIP, \n",
        "                                 BodyPart.RIGHT_HIP)\n",
        "\n",
        "  # Shoulders center\n",
        "  shoulders_center = get_center_point(landmarks, BodyPart.LEFT_SHOULDER,\n",
        "                                      BodyPart.RIGHT_SHOULDER)\n",
        "\n",
        "  # Torso size as the minimum body size\n",
        "  torso_size = tf.linalg.norm(shoulders_center - hips_center)\n",
        "\n",
        "  # Pose center\n",
        "  pose_center_new = get_center_point(landmarks, BodyPart.LEFT_HIP, \n",
        "                                     BodyPart.RIGHT_HIP)\n",
        "  pose_center_new = tf.expand_dims(pose_center_new, axis=1)\n",
        "  # Broadcast the pose center to the same size as the landmark vector to\n",
        "  # perform substraction\n",
        "  pose_center_new = tf.broadcast_to(pose_center_new,\n",
        "                                    [tf.size(landmarks) // (17*2), 17, 2])\n",
        "\n",
        "  # Dist to pose center\n",
        "  d = tf.gather(landmarks - pose_center_new, 0, axis=0,\n",
        "                name=\"dist_to_pose_center\")\n",
        "  # Max dist to pose center\n",
        "  max_dist = tf.reduce_max(tf.linalg.norm(d, axis=0))\n",
        "\n",
        "  # Normalize scale\n",
        "  pose_size = tf.maximum(torso_size * torso_size_multiplier, max_dist)\n",
        "\n",
        "  return pose_size\n",
        "\n",
        "\n",
        "def normalize_pose_landmarks(landmarks):\n",
        "  \"\"\"Normalizes the landmarks translation by moving the pose center to (0,0) and\n",
        "  scaling it to a constant pose size.\n",
        "  \"\"\"\n",
        "  # Move landmarks so that the pose center becomes (0,0)\n",
        "  pose_center = get_center_point(landmarks, BodyPart.LEFT_HIP, \n",
        "                                 BodyPart.RIGHT_HIP)\n",
        "  pose_center = tf.expand_dims(pose_center, axis=1)\n",
        "  # Broadcast the pose center to the same size as the landmark vector to perform\n",
        "  # substraction\n",
        "  pose_center = tf.broadcast_to(pose_center, \n",
        "                                [tf.size(landmarks) // (17*2), 17, 2])\n",
        "  landmarks = landmarks - pose_center\n",
        "\n",
        "  # Scale the landmarks to a constant pose size\n",
        "  pose_size = get_pose_size(landmarks)\n",
        "  landmarks /= pose_size\n",
        "\n",
        "  return landmarks\n",
        "\n",
        "\n",
        "def landmarks_to_embedding(landmarks_and_scores):\n",
        "  \"\"\"Converts the input landmarks into a pose embedding.\"\"\"\n",
        "  # Reshape the flat input into a matrix with shape=(17, 3)\n",
        "  reshaped_inputs = keras.layers.Reshape((17, 3))(landmarks_and_scores)\n",
        "\n",
        "  # Normalize landmarks 2D\n",
        "  landmarks = normalize_pose_landmarks(reshaped_inputs[:, :, :2])\n",
        "\n",
        "  # Flatten the normalized landmark coordinates into a vector\n",
        "  embedding = keras.layers.Flatten()(landmarks)\n",
        "\n",
        "  return embedding"
      ]
    },
    {
      "cell_type": "markdown",
      "metadata": {
        "id": "PI7Wb3Bagau3"
      },
      "source": [
        "### Defina um modelo do Keras para a classificação de poses\n",
        "\n",
        "Nosso modelo do Keras recebe os landmarks detectados da pose, calcula o embedding e prevê a classe dela."
      ]
    },
    {
      "cell_type": "code",
      "execution_count": null,
      "metadata": {
        "id": "1Pte6b1bgWKv"
      },
      "outputs": [],
      "source": [
        "# Define the model\n",
        "inputs = tf.keras.Input(shape=(51))\n",
        "embedding = landmarks_to_embedding(inputs)\n",
        "\n",
        "layer = keras.layers.Dense(128, activation=tf.nn.relu6)(embedding)\n",
        "layer = keras.layers.Dropout(0.5)(layer)\n",
        "layer = keras.layers.Dense(64, activation=tf.nn.relu6)(layer)\n",
        "layer = keras.layers.Dropout(0.5)(layer)\n",
        "outputs = keras.layers.Dense(len(class_names), activation=\"softmax\")(layer)\n",
        "\n",
        "model = keras.Model(inputs, outputs)\n",
        "model.summary()"
      ]
    },
    {
      "cell_type": "code",
      "execution_count": null,
      "metadata": {
        "id": "5ZuMwd7Ugtsa"
      },
      "outputs": [],
      "source": [
        "model.compile(\n",
        "    optimizer='adam',\n",
        "    loss='categorical_crossentropy',\n",
        "    metrics=['accuracy']\n",
        ")\n",
        "\n",
        "# Add a checkpoint callback to store the checkpoint that has the highest\n",
        "# validation accuracy.\n",
        "checkpoint_path = \"weights.best.hdf5\"\n",
        "checkpoint = keras.callbacks.ModelCheckpoint(checkpoint_path,\n",
        "                             monitor='val_accuracy',\n",
        "                             verbose=1,\n",
        "                             save_best_only=True,\n",
        "                             mode='max')\n",
        "earlystopping = keras.callbacks.EarlyStopping(monitor='val_accuracy', \n",
        "                                              patience=20)\n",
        "\n",
        "# Start training\n",
        "history = model.fit(X_train, y_train,\n",
        "                    epochs=200,\n",
        "                    batch_size=16,\n",
        "                    validation_data=(X_val, y_val),\n",
        "                    callbacks=[checkpoint, earlystopping])"
      ]
    },
    {
      "cell_type": "code",
      "execution_count": null,
      "metadata": {
        "id": "pNVqmd2JO6Rp"
      },
      "outputs": [],
      "source": [
        "# Visualize the training history to see whether you're overfitting.\n",
        "plt.plot(history.history['accuracy'])\n",
        "plt.plot(history.history['val_accuracy'])\n",
        "plt.title('Model accuracy')\n",
        "plt.ylabel('accuracy')\n",
        "plt.xlabel('epoch')\n",
        "plt.legend(['TRAIN', 'VAL'], loc='lower right')\n",
        "plt.show()"
      ]
    },
    {
      "cell_type": "code",
      "execution_count": null,
      "metadata": {
        "id": "m_byMBVQgyQm"
      },
      "outputs": [],
      "source": [
        "# Evaluate the model using the TEST dataset\n",
        "loss, accuracy = model.evaluate(X_test, y_test)"
      ]
    },
    {
      "cell_type": "markdown",
      "metadata": {
        "id": "JPnPmwjn9452"
      },
      "source": [
        "### Desenhe a matriz de confusão para entender melhor o desempenho do modelo"
      ]
    },
    {
      "cell_type": "code",
      "execution_count": null,
      "metadata": {
        "id": "CJuVw7gygyyd"
      },
      "outputs": [],
      "source": [
        "def plot_confusion_matrix(cm, classes,\n",
        "                          normalize=False,\n",
        "                          title='Confusion matrix',\n",
        "                          cmap=plt.cm.Blues):\n",
        "  \"\"\"Plots the confusion matrix.\"\"\"\n",
        "  if normalize:\n",
        "    cm = cm.astype('float') / cm.sum(axis=1)[:, np.newaxis]\n",
        "    print(\"Normalized confusion matrix\")\n",
        "  else:\n",
        "    print('Confusion matrix, without normalization')\n",
        "\n",
        "  plt.imshow(cm, interpolation='nearest', cmap=cmap)\n",
        "  plt.title(title)\n",
        "  plt.colorbar()\n",
        "  tick_marks = np.arange(len(classes))\n",
        "  plt.xticks(tick_marks, classes, rotation=55)\n",
        "  plt.yticks(tick_marks, classes)\n",
        "  fmt = '.2f' if normalize else 'd'\n",
        "  thresh = cm.max() / 2.\n",
        "  for i, j in itertools.product(range(cm.shape[0]), range(cm.shape[1])):\n",
        "    plt.text(j, i, format(cm[i, j], fmt),\n",
        "              horizontalalignment=\"center\",\n",
        "              color=\"white\" if cm[i, j] > thresh else \"black\")\n",
        "\n",
        "  plt.ylabel('True label')\n",
        "  plt.xlabel('Predicted label')\n",
        "  plt.tight_layout()\n",
        "\n",
        "# Classify pose in the TEST dataset using the trained model\n",
        "y_pred = model.predict(X_test)\n",
        "\n",
        "# Convert the prediction result to class name\n",
        "y_pred_label = [class_names[i] for i in np.argmax(y_pred, axis=1)]\n",
        "y_true_label = [class_names[i] for i in np.argmax(y_test, axis=1)]\n",
        "\n",
        "# Plot the confusion matrix\n",
        "cm = confusion_matrix(np.argmax(y_test, axis=1), np.argmax(y_pred, axis=1))\n",
        "plot_confusion_matrix(cm,\n",
        "                      class_names,\n",
        "                      title ='Confusion Matrix of Pose Classification Model')\n",
        "\n",
        "# Print the classification report\n",
        "print('\\nClassification Report:\\n', classification_report(y_true_label,\n",
        "                                                          y_pred_label))"
      ]
    },
    {
      "cell_type": "markdown",
      "metadata": {
        "id": "YPmtRf79GkCa"
      },
      "source": [
        "### (Opcional) Investigue previsões incorretas\n",
        "\n",
        "Você pode analisar as poses do dataset `TEST` que foram previstas incorretamente para ver se a exatidão do modelo pode ser melhorada.\n",
        "\n",
        "Observação: isso só funciona se você executou a etapa 1, porque precisa dos arquivos de imagem das poses na sua máquina local para exibi-los."
      ]
    },
    {
      "cell_type": "code",
      "execution_count": null,
      "metadata": {
        "id": "bdJdwOkFGonK"
      },
      "outputs": [],
      "source": [
        "if is_skip_step_1:\n",
        "  raise RuntimeError('You must have run step 1 to run this cell.')\n",
        "\n",
        "# If step 1 was skipped, skip this step.\n",
        "IMAGE_PER_ROW = 3\n",
        "MAX_NO_OF_IMAGE_TO_PLOT = 30\n",
        "\n",
        "# Extract the list of incorrectly predicted poses\n",
        "false_predict = [id_in_df for id_in_df in range(len(y_test)) \\\n",
        "                if y_pred_label[id_in_df] != y_true_label[id_in_df]]\n",
        "if len(false_predict) > MAX_NO_OF_IMAGE_TO_PLOT:\n",
        "  false_predict = false_predict[:MAX_NO_OF_IMAGE_TO_PLOT]\n",
        "\n",
        "# Plot the incorrectly predicted images\n",
        "row_count = len(false_predict) // IMAGE_PER_ROW + 1\n",
        "fig = plt.figure(figsize=(10 * IMAGE_PER_ROW, 10 * row_count))\n",
        "for i, id_in_df in enumerate(false_predict):\n",
        "  ax = fig.add_subplot(row_count, IMAGE_PER_ROW, i + 1)\n",
        "  image_path = os.path.join(images_out_test_folder,\n",
        "                            df_test.iloc[id_in_df]['file_name'])\n",
        "\n",
        "  image = cv2.imread(image_path)\n",
        "  plt.title(\"Predict: %s; Actual: %s\"\n",
        "            % (y_pred_label[id_in_df], y_true_label[id_in_df]))\n",
        "  plt.imshow(cv2.cvtColor(image, cv2.COLOR_BGR2RGB))\n",
        "plt.show()"
      ]
    },
    {
      "cell_type": "markdown",
      "metadata": {
        "id": "uhY0VeDkFK7W"
      },
      "source": [
        "## Parte 3: converta o modelo de classificação de poses para o TensorFlow Lite\n",
        "\n",
        "Você converterá o modelo de classificação de poses do Keras para o formato do TensorFlow Lite para implantá-lo em aplicativos móveis, navegadores da Web e dispositivos de borda. Ao converter o modelo, você aplicará a [quantização de intervalo dinâmico](https://www.tensorflow.org/lite/performance/post_training_quant) para reduzir o tamanho do modelo do TensorFlow Lite para classificação de poses em 4 vezes com uma perda de exatidão insignificante.\n",
        "\n",
        "Observação: o TensorFlow Lite é compatível com vários esquemas de quantização. Veja a [documentação](https://www.tensorflow.org/lite/performance/model_optimization) se você tiver interesse em saber mais."
      ]
    },
    {
      "cell_type": "code",
      "execution_count": null,
      "metadata": {
        "id": "FmwEAgi2Flb3"
      },
      "outputs": [],
      "source": [
        "converter = tf.lite.TFLiteConverter.from_keras_model(model)\n",
        "converter.optimizations = [tf.lite.Optimize.DEFAULT]\n",
        "tflite_model = converter.convert()\n",
        "\n",
        "print('Model size: %dKB' % (len(tflite_model) / 1024))\n",
        "\n",
        "with open('pose_classifier.tflite', 'wb') as f:\n",
        "  f.write(tflite_model)"
      ]
    },
    {
      "cell_type": "markdown",
      "metadata": {
        "id": "XUOQwuBP6jMH"
      },
      "source": [
        "Em seguida, você escreverá o arquivo de rótulos com o mapeamento de índices de classes para nomes de classes legíveis por humanos."
      ]
    },
    {
      "cell_type": "code",
      "execution_count": null,
      "metadata": {
        "id": "ZVW9j5vF6hBM"
      },
      "outputs": [],
      "source": [
        "with open('pose_labels.txt', 'w') as f:\n",
        "  f.write('\\n'.join(class_names))"
      ]
    },
    {
      "cell_type": "markdown",
      "metadata": {
        "id": "H4T0HFGCve-Y"
      },
      "source": [
        "Como você aplicou a quantização para reduzir o tamanho do modelo, vamos avaliar o modelo do TFLite quantizado para verificar se a queda na exatidão é aceitável."
      ]
    },
    {
      "cell_type": "code",
      "execution_count": null,
      "metadata": {
        "id": "rv4fZFNcsN-1"
      },
      "outputs": [],
      "source": [
        "def evaluate_model(interpreter, X, y_true):\n",
        "  \"\"\"Evaluates the given TFLite model and return its accuracy.\"\"\"\n",
        "  input_index = interpreter.get_input_details()[0][\"index\"]\n",
        "  output_index = interpreter.get_output_details()[0][\"index\"]\n",
        "\n",
        "  # Run predictions on all given poses.\n",
        "  y_pred = []\n",
        "  for i in range(len(y_true)):\n",
        "    # Pre-processing: add batch dimension and convert to float32 to match with\n",
        "    # the model's input data format.\n",
        "    test_image = X[i: i + 1].astype('float32')\n",
        "    interpreter.set_tensor(input_index, test_image)\n",
        "\n",
        "    # Run inference.\n",
        "    interpreter.invoke()\n",
        "\n",
        "    # Post-processing: remove batch dimension and find the class with highest\n",
        "    # probability.\n",
        "    output = interpreter.tensor(output_index)\n",
        "    predicted_label = np.argmax(output()[0])\n",
        "    y_pred.append(predicted_label)\n",
        "\n",
        "  # Compare prediction results with ground truth labels to calculate accuracy.\n",
        "  y_pred = keras.utils.to_categorical(y_pred)\n",
        "  return accuracy_score(y_true, y_pred)\n",
        "\n",
        "# Evaluate the accuracy of the converted TFLite model\n",
        "classifier_interpreter = tf.lite.Interpreter(model_content=tflite_model)\n",
        "classifier_interpreter.allocate_tensors()\n",
        "print('Accuracy of TFLite model: %s' %\n",
        "      evaluate_model(classifier_interpreter, X_test, y_test))"
      ]
    },
    {
      "cell_type": "markdown",
      "metadata": {
        "id": "-HWqcersePiY"
      },
      "source": [
        "Agora, você pode baixar o modelo do TFLite (`pose_classifier.tflite`) e o arquivo de rótulos (`pose_labels.txt`) para classificar as poses personalizadas. Veja o aplicativo de amostra [Android](https://github.com/tensorflow/examples/tree/master/lite/examples/pose_estimation/android) e [Python/Raspberry Pi](https://github.com/tensorflow/examples/tree/master/lite/examples/pose_estimation/raspberry_pi) para um exemplo completo de como usar o modelo de classificação de poses do TFLite."
      ]
    },
    {
      "cell_type": "code",
      "execution_count": null,
      "metadata": {
        "id": "KvcM_LkApOT3"
      },
      "outputs": [],
      "source": [
        "!zip pose_classifier.zip pose_labels.txt pose_classifier.tflite"
      ]
    },
    {
      "cell_type": "code",
      "execution_count": null,
      "metadata": {
        "id": "VQ-i27VypI1u"
      },
      "outputs": [],
      "source": [
        "# Download the zip archive if running on Colab.\n",
        "try:\n",
        "  from google.colab import files\n",
        "  files.download('pose_classifier.zip')\n",
        "except:\n",
        "  pass"
      ]
    }
  ],
  "metadata": {
    "colab": {
      "collapsed_sections": [],
      "name": "pose_classification.ipynb",
      "toc_visible": true
    },
    "kernelspec": {
      "display_name": "Python 3",
      "name": "python3"
    }
  },
  "nbformat": 4,
  "nbformat_minor": 0
}
