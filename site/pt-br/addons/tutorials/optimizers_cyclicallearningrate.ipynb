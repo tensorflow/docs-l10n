{
  "cells": [
    {
      "cell_type": "markdown",
      "metadata": {
        "id": "Tce3stUlHN0L"
      },
      "source": [
        "##### Copyright 2021 The TensorFlow Authors."
      ]
    },
    {
      "cell_type": "code",
      "execution_count": null,
      "metadata": {
        "cellView": "form",
        "id": "tuOe1ymfHZPu"
      },
      "outputs": [],
      "source": [
        "#@title Licensed under the Apache License, Version 2.0 (the \"License\");\n",
        "# you may not use this file except in compliance with the License.\n",
        "# You may obtain a copy of the License at\n",
        "#\n",
        "# https://www.apache.org/licenses/LICENSE-2.0\n",
        "#\n",
        "# Unless required by applicable law or agreed to in writing, software\n",
        "# distributed under the License is distributed on an \"AS IS\" BASIS,\n",
        "# WITHOUT WARRANTIES OR CONDITIONS OF ANY KIND, either express or implied.\n",
        "# See the License for the specific language governing permissions and\n",
        "# limitations under the License."
      ]
    },
    {
      "cell_type": "markdown",
      "metadata": {
        "id": "qFdPvlXBOdUN"
      },
      "source": [
        "# Otimizadores do TensorFlow Addons: CyclicalLearningRate"
      ]
    },
    {
      "cell_type": "markdown",
      "metadata": {
        "id": "MfBg1C5NB3X0"
      },
      "source": [
        "<table class=\"tfo-notebook-buttons\" align=\"left\">\n",
        "  <td>     <a target=\"_blank\" href=\"https://www.tensorflow.org/addons/tutorials/optimizers_cyclicallearningrate\"><img src=\"https://www.tensorflow.org/images/tf_logo_32px.png\">Ver em TensorFlow.org</a>\n",
        "</td>\n",
        "  <td>     <a target=\"_blank\" href=\"https://colab.research.google.com/github/tensorflow/docs-l10n/blob/master/site/pt-br/addons/tutorials/optimizers_cyclicallearningrate.ipynb\"><img src=\"https://www.tensorflow.org/images/colab_logo_32px.png\">Executar no Google Colab</a>\n",
        "</td>\n",
        "  <td>     <a target=\"_blank\" href=\"https://github.com/tensorflow/docs-l10n/blob/master/site/pt-br/addons/tutorials/optimizers_cyclicallearningrate.ipynb\"><img src=\"https://www.tensorflow.org/images/GitHub-Mark-32px.png\">Ver fonte no GitHub</a>\n",
        "</td>\n",
        "      <td>     <a href=\"https://storage.googleapis.com/tensorflow_docs/docs-l10n/site/pt-br/addons/tutorials/optimizers_cyclicallearningrate.ipynb\"><img src=\"https://www.tensorflow.org/images/download_logo_32px.png\">Baixar notebook</a>\n",
        "</td>\n",
        "</table>"
      ]
    },
    {
      "cell_type": "markdown",
      "metadata": {
        "id": "xHxb-dlhMIzW"
      },
      "source": [
        "## Visão geral\n",
        "\n",
        "Este tutorial demonstra o uso do Cyclical Learning Rate do pacote do Addons."
      ]
    },
    {
      "cell_type": "markdown",
      "metadata": {
        "id": "IqEImEhBJWFv"
      },
      "source": [
        "## Cyclical Learning Rates\n",
        "\n",
        "Mostrou-se vantajoso ajustar a taxa de aprendizado conforme o treinamento avança para uma rede neural. Isso tem inúmeros benefícios, desde a recuperação de ponto de sela até a prevenção de instabilidades numéricas que podem surgir durante a retropropagação. Mas como alguém sabe quanto ajustar em relação a um timestamp de treinamento específico? Em 2015, Leslie Smith percebeu que você deve aumentar a taxa de aprendizado para atravessar mais rápido o cenário de perda, mas também reduzir a taxa de aprendizado ao se aproximar da convergência. Para concretizar essa ideia, ele propôs as [Cyclical Learning Rates](https://arxiv.org/abs/1506.01186) (CLR), em que você ajusta a taxa de aprendizado em relação aos ciclos de uma função. Para uma demonstração visual, confira [este blog](https://www.jeremyjordan.me/nn-learning-rate/). A CLR está agora disponível como uma API do TensorFlow. Para mais detalhes, confira o artigo original [aqui](https://arxiv.org/abs/1506.01186). "
      ]
    },
    {
      "cell_type": "markdown",
      "metadata": {
        "id": "MUXex9ctTuDB"
      },
      "source": [
        "## Configuração"
      ]
    },
    {
      "cell_type": "code",
      "execution_count": null,
      "metadata": {
        "id": "t-p545dluzjI"
      },
      "outputs": [],
      "source": [
        "!pip install -q -U tensorflow_addons"
      ]
    },
    {
      "cell_type": "code",
      "execution_count": null,
      "metadata": {
        "id": "RPF3aDZZu8le"
      },
      "outputs": [],
      "source": [
        "from tensorflow.keras import layers\n",
        "import tensorflow_addons as tfa\n",
        "import tensorflow as tf\n",
        "\n",
        "import numpy as np\n",
        "import matplotlib.pyplot as plt\n",
        "\n",
        "tf.random.set_seed(42)\n",
        "np.random.seed(42)"
      ]
    },
    {
      "cell_type": "markdown",
      "metadata": {
        "id": "XLOnLLrlR-ti"
      },
      "source": [
        "## Carregue e prepare o dataset"
      ]
    },
    {
      "cell_type": "code",
      "execution_count": null,
      "metadata": {
        "id": "uAHLo_Ffvie3"
      },
      "outputs": [],
      "source": [
        "(x_train, y_train), (x_test, y_test) = tf.keras.datasets.fashion_mnist.load_data()\n",
        "\n",
        "x_train = np.expand_dims(x_train, -1)\n",
        "x_test = np.expand_dims(x_test, -1)"
      ]
    },
    {
      "cell_type": "markdown",
      "metadata": {
        "id": "AfUS_s-uSBvx"
      },
      "source": [
        "## Defina hiperparâmetros"
      ]
    },
    {
      "cell_type": "code",
      "execution_count": null,
      "metadata": {
        "id": "qumJ7KpwvvwE"
      },
      "outputs": [],
      "source": [
        "BATCH_SIZE = 64\n",
        "EPOCHS = 10\n",
        "INIT_LR = 1e-4\n",
        "MAX_LR = 1e-2"
      ]
    },
    {
      "cell_type": "markdown",
      "metadata": {
        "id": "G-x3E7RWSXWc"
      },
      "source": [
        "## Defina os utilitários de criação e treinamento do modelo"
      ]
    },
    {
      "cell_type": "code",
      "execution_count": null,
      "metadata": {
        "id": "vni6Gz3Dv9Db"
      },
      "outputs": [],
      "source": [
        "def get_training_model():\n",
        "    model = tf.keras.Sequential(\n",
        "        [\n",
        "            layers.InputLayer((28, 28, 1)),\n",
        "            layers.experimental.preprocessing.Rescaling(scale=1./255),\n",
        "            layers.Conv2D(16, (5, 5), activation=\"relu\"),\n",
        "            layers.MaxPooling2D(pool_size=(2, 2)),\n",
        "            layers.Conv2D(32, (5, 5), activation=\"relu\"),\n",
        "            layers.MaxPooling2D(pool_size=(2, 2)),\n",
        "            layers.SpatialDropout2D(0.2),\n",
        "            layers.GlobalAvgPool2D(),\n",
        "            layers.Dense(128, activation=\"relu\"),\n",
        "            layers.Dense(10, activation=\"softmax\"),\n",
        "        ]\n",
        "    )\n",
        "    return model\n",
        "\n",
        "def train_model(model, optimizer):\n",
        "    model.compile(loss=\"sparse_categorical_crossentropy\", optimizer=optimizer,\n",
        "                       metrics=[\"accuracy\"])\n",
        "    history = model.fit(x_train,\n",
        "        y_train,\n",
        "        batch_size=BATCH_SIZE,\n",
        "        validation_data=(x_test, y_test),\n",
        "        epochs=EPOCHS)\n",
        "    return history"
      ]
    },
    {
      "cell_type": "markdown",
      "metadata": {
        "id": "RlRKWRWrSk_t"
      },
      "source": [
        "Considerando a reprodutibilidade, os pesos iniciais do modelo são serializados e serão usados para conduzir nossos experimentos. "
      ]
    },
    {
      "cell_type": "code",
      "execution_count": null,
      "metadata": {
        "id": "-JxnpsIzwCgj"
      },
      "outputs": [],
      "source": [
        "initial_model = get_training_model()\n",
        "initial_model.save(\"initial_model\")"
      ]
    },
    {
      "cell_type": "markdown",
      "metadata": {
        "id": "oNF33-tBSuFG"
      },
      "source": [
        "## Treine um modelo sem CLR"
      ]
    },
    {
      "cell_type": "code",
      "execution_count": null,
      "metadata": {
        "id": "Q4dEJtQzwjei"
      },
      "outputs": [],
      "source": [
        "standard_model = tf.keras.models.load_model(\"initial_model\")\n",
        "no_clr_history = train_model(standard_model, optimizer=\"sgd\")"
      ]
    },
    {
      "cell_type": "markdown",
      "metadata": {
        "id": "eaK0PAN-Sy6l"
      },
      "source": [
        "## Defina a programação da CLR\n",
        "\n",
        "O módulo `tfa.optimizers.CyclicalLearningRate` retorna uma programação direta que pode ser passada para um otimizador. A programação aceita um passo como entrada e gera um valor calculado usando a fórmula CLR conforme descrita no artigo. "
      ]
    },
    {
      "cell_type": "code",
      "execution_count": null,
      "metadata": {
        "id": "ne0b8aGNyc3v"
      },
      "outputs": [],
      "source": [
        "steps_per_epoch = len(x_train) // BATCH_SIZE\n",
        "clr = tfa.optimizers.CyclicalLearningRate(initial_learning_rate=INIT_LR,\n",
        "    maximal_learning_rate=MAX_LR,\n",
        "    scale_fn=lambda x: 1/(2.**(x-1)),\n",
        "    step_size=2 * steps_per_epoch\n",
        ")\n",
        "optimizer = tf.keras.optimizers.SGD(clr)"
      ]
    },
    {
      "cell_type": "markdown",
      "metadata": {
        "id": "icVL3hsUTwXV"
      },
      "source": [
        "Aqui, você especifica os limites inferior e superior da taxa de aprendizado, e a programação *oscilará* entre esse intervalo ([1e-4, 1e-2] nesse caso). `scale_fn` é usado para definir a função que ampliaria e reduziria a taxa de aprendizado em um determinado ciclo. `step_size` define a duração de um único ciclo. Um `step_size` de 2 significa que você precisa de um total de 4 iterações para concluir um ciclo. O valor recomendado para `step_size` é o seguinte:\n",
        "\n",
        "`factor * steps_per_epoch`, em que o fator está dentro do intervalo [2, 8]. "
      ]
    },
    {
      "cell_type": "markdown",
      "metadata": {
        "id": "5JV_ESYqUb4d"
      },
      "source": [
        "No mesmo [artigo da CLR](https://arxiv.org/abs/1506.01186), Leslie também apresentou um método simples e elegante para escolher os limites da taxa de aprendizado. Recomendamos que você o confira também. [Esta postagem de blog](https://www.pyimagesearch.com/2019/08/05/keras-learning-rate-finder/) fornece uma ótima introdução ao método.\n",
        "\n",
        "Abaixo, visualize a programação `clr`. "
      ]
    },
    {
      "cell_type": "code",
      "execution_count": null,
      "metadata": {
        "id": "b_WRGfDx4Wwc"
      },
      "outputs": [],
      "source": [
        "step = np.arange(0, EPOCHS * steps_per_epoch)\n",
        "lr = clr(step)\n",
        "plt.plot(step, lr)\n",
        "plt.xlabel(\"Steps\")\n",
        "plt.ylabel(\"Learning Rate\")\n",
        "plt.show()"
      ]
    },
    {
      "cell_type": "markdown",
      "metadata": {
        "id": "bBlKaAqNjHP1"
      },
      "source": [
        "Para visualizar melhor o efeito da CLR, você pode plotar a programação com um número maior de passos. "
      ]
    },
    {
      "cell_type": "code",
      "execution_count": null,
      "metadata": {
        "id": "Gjhoyk-Li368"
      },
      "outputs": [],
      "source": [
        "step = np.arange(0, 100 * steps_per_epoch)\n",
        "lr = clr(step)\n",
        "plt.plot(step, lr)\n",
        "plt.xlabel(\"Steps\")\n",
        "plt.ylabel(\"Learning Rate\")\n",
        "plt.show()"
      ]
    },
    {
      "cell_type": "markdown",
      "metadata": {
        "id": "ObYcy5NRkF4V"
      },
      "source": [
        "A função que você está usando neste tutorial se refere ao método `triangular2` no artigo CLR. Há outras duas funções que foram exploradas, especificamente `triangular` e `exp` (abreviação de exponencial). "
      ]
    },
    {
      "cell_type": "markdown",
      "metadata": {
        "id": "-OV_8QVIe5m_"
      },
      "source": [
        "## Treine um modelo com CLR"
      ]
    },
    {
      "cell_type": "code",
      "execution_count": null,
      "metadata": {
        "id": "zRSglElvy_fF"
      },
      "outputs": [],
      "source": [
        "clr_model = tf.keras.models.load_model(\"initial_model\")\n",
        "clr_history = train_model(clr_model, optimizer=optimizer)"
      ]
    },
    {
      "cell_type": "markdown",
      "metadata": {
        "id": "8rhTLQJdnGfP"
      },
      "source": [
        "Conforme esperado, a perda começa mais alta do que o normal e depois estabiliza com o avanço dos ciclos. Você pode confirmar isso visualmente com os plots abaixo. "
      ]
    },
    {
      "cell_type": "markdown",
      "metadata": {
        "id": "LyHEgnv6e8lX"
      },
      "source": [
        "## Visualize as perdas"
      ]
    },
    {
      "cell_type": "code",
      "execution_count": null,
      "metadata": {
        "id": "wg0JjLwH2RTl"
      },
      "outputs": [],
      "source": [
        "(fig, ax) = plt.subplots(2, 1, figsize=(10, 8))\n",
        "\n",
        "ax[0].plot(no_clr_history.history[\"loss\"], label=\"train_loss\")\n",
        "ax[0].plot(no_clr_history.history[\"val_loss\"], label=\"val_loss\")\n",
        "ax[0].set_title(\"No CLR\")\n",
        "ax[0].set_xlabel(\"Epochs\")\n",
        "ax[0].set_ylabel(\"Loss\")\n",
        "ax[0].set_ylim([0, 2.5])\n",
        "ax[0].legend()\n",
        "\n",
        "ax[1].plot(clr_history.history[\"loss\"], label=\"train_loss\")\n",
        "ax[1].plot(clr_history.history[\"val_loss\"], label=\"val_loss\")\n",
        "ax[1].set_title(\"CLR\")\n",
        "ax[1].set_xlabel(\"Epochs\")\n",
        "ax[1].set_ylabel(\"Loss\")\n",
        "ax[1].set_ylim([0, 2.5])\n",
        "ax[1].legend()\n",
        "\n",
        "fig.tight_layout(pad=3.0)\n",
        "fig.show()"
      ]
    },
    {
      "cell_type": "markdown",
      "metadata": {
        "id": "2EwZuz_pkqLM"
      },
      "source": [
        "Embora você não tenha visto muito os efeitos da CLR neste exemplo de brinquedo, é um dos principais ingredientes por trás da [Superconvergência](https://arxiv.org/abs/1708.07120) e pode ter um [impacto excelente](https://www.fast.ai/2018/08/10/fastai-diu-imagenet/) ao treinar em cenários de grande escala. "
      ]
    }
  ],
  "metadata": {
    "accelerator": "GPU",
    "colab": {
      "collapsed_sections": [],
      "name": "optimizers_cyclicallearningrate.ipynb",
      "toc_visible": true
    },
    "kernelspec": {
      "display_name": "Python 3",
      "name": "python3"
    }
  },
  "nbformat": 4,
  "nbformat_minor": 0
}
