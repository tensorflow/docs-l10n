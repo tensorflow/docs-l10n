{
  "cells": [
    {
      "cell_type": "markdown",
      "metadata": {
        "id": "TsHV-7cpVkyK"
      },
      "source": [
        "##### Copyright 2019 The TensorFlow Authors."
      ]
    },
    {
      "cell_type": "code",
      "execution_count": null,
      "metadata": {
        "cellView": "form",
        "id": "atWM-s8yVnfX"
      },
      "outputs": [],
      "source": [
        "#@title Licensed under the Apache License, Version 2.0 (the \"License\");\n",
        "# you may not use this file except in compliance with the License.\n",
        "# You may obtain a copy of the License at\n",
        "#\n",
        "# https://www.apache.org/licenses/LICENSE-2.0\n",
        "#\n",
        "# Unless required by applicable law or agreed to in writing, software\n",
        "# distributed under the License is distributed on an \"AS IS\" BASIS,\n",
        "# WITHOUT WARRANTIES OR CONDITIONS OF ANY KIND, either express or implied.\n",
        "# See the License for the specific language governing permissions and\n",
        "# limitations under the License."
      ]
    },
    {
      "cell_type": "markdown",
      "metadata": {
        "id": "TB0wBWfcVqHz"
      },
      "source": [
        "# Tunagem de hiperparâmetros com o painel de controle HParams\n",
        "\n",
        "<table class=\"tfo-notebook-buttons\" align=\"left\">\n",
        "  <td>     <a target=\"_blank\" href=\"https://www.tensorflow.org/tensorboard/hyperparameter_tuning_with_hparams\"><img src=\"https://www.tensorflow.org/images/tf_logo_32px.png\">Ver em TensorFlow.org</a>\n",
        "</td>\n",
        "  <td>     <a target=\"_blank\" href=\"https://colab.research.google.com/github/tensorflow/docs-l10n/blob/master/site/pt-br/tensorboard/hyperparameter_tuning_with_hparams.ipynb\"><img src=\"https://www.tensorflow.org/images/colab_logo_32px.png\">Executar no Google Colab</a>\n",
        "</td>\n",
        "  <td>     <a target=\"_blank\" href=\"https://github.com/tensorflow/docs-l10n/blob/master/site/pt-br/tensorboard/hyperparameter_tuning_with_hparams.ipynb\"><img src=\"https://www.tensorflow.org/images/GitHub-Mark-32px.png\">Ver fonte no GitHub</a>\n",
        "</td>\n",
        "  <td>     <a href=\"https://storage.googleapis.com/tensorflow_docs/docs-l10n/site/pt-br/tensorboard/hyperparameter_tuning_with_hparams.ipynb\"><img src=\"https://www.tensorflow.org/images/download_logo_32px.png\">Baixar notebook</a>\n",
        "</td>\n",
        "</table>"
      ]
    },
    {
      "cell_type": "markdown",
      "metadata": {
        "id": "elH58gbhWAmn"
      },
      "source": [
        "Ao criar modelos de aprendizado de máquina, você precisa escolher vários [hiperparâmetros](https://en.wikipedia.org/wiki/Hyperparameter_(machine_learning)), como a taxa de dropout em uma camada ou a taxa de aprendizado. Essas decisões afetam as métricas dos modelos, como exatidão. Portanto, um passo importante no fluxo de trabalho do aprendizado de máquina é identificar os melhores hiperparâmetros para seu problema, o que geralmente envolve experimentação. Esse processo é conhecido como \"otimização de hiperparâmetros\" ou \"tunagem de hiperparâmetros\".\n",
        "\n",
        "O painel de controle HParams no TensorBoard oferece várias ferramentas para ajudar com esse processo de identificar o melhor experimento ou os conjuntos mais promissores de hiperparâmetros.\n",
        "\n",
        "Este tutorial focará nas seguintes etapas:\n",
        "\n",
        "1. Testar a configuração e o resumo do HParams\n",
        "2. Adaptar as execuções do TensorFlow para registrar hiperparâmetros e métricas\n",
        "3. Iniciar as execuções e registrar todas elas em um diretório pai\n",
        "4. Visualizar os resultados no painel de controle HParams do TensorBoard\n",
        "\n",
        "Observação: as APIs de resumo do HParams e a interface de usuário do painel de controle estão em fase de prévia e mudarão ao longo do tempo.\n",
        "\n",
        "Comece instalando o TF 2.0 e carregando a extensão de notebook do TensorBoard:"
      ]
    },
    {
      "cell_type": "code",
      "execution_count": 1,
      "metadata": {
        "id": "8p3Tbx8cWEFA"
      },
      "outputs": [],
      "source": [
        "# Load the TensorBoard notebook extension\n",
        "%load_ext tensorboard"
      ]
    },
    {
      "cell_type": "code",
      "execution_count": null,
      "metadata": {
        "id": "lEWCCQYkWIdA"
      },
      "outputs": [],
      "source": [
        "# Clear any logs from previous runs\n",
        "!rm -rf ./logs/ "
      ]
    },
    {
      "cell_type": "markdown",
      "metadata": {
        "id": "9GtR_cTTkf9G"
      },
      "source": [
        "Importe o TensorFlow e o plugin HParams do TensorBoard:"
      ]
    },
    {
      "cell_type": "code",
      "execution_count": null,
      "metadata": {
        "id": "mVtYvbbIWRkV"
      },
      "outputs": [],
      "source": [
        "import tensorflow as tf\n",
        "from tensorboard.plugins.hparams import api as hp"
      ]
    },
    {
      "cell_type": "markdown",
      "metadata": {
        "id": "XfCa27_8kov6"
      },
      "source": [
        "Baixe e dimensione o dataset [FashionMNIST](https://github.com/zalandoresearch/fashion-mnist):"
      ]
    },
    {
      "cell_type": "code",
      "execution_count": null,
      "metadata": {
        "id": "z8b82G7YksOS"
      },
      "outputs": [
        {
          "name": "stdout",
          "output_type": "stream",
          "text": [
            "Downloading data from https://storage.googleapis.com/tensorflow/tf-keras-datasets/train-labels-idx1-ubyte.gz\n",
            "32768/29515 [=================================] - 0s 0us/step\n",
            "Downloading data from https://storage.googleapis.com/tensorflow/tf-keras-datasets/train-images-idx3-ubyte.gz\n",
            "26427392/26421880 [==============================] - 0s 0us/step\n",
            "Downloading data from https://storage.googleapis.com/tensorflow/tf-keras-datasets/t10k-labels-idx1-ubyte.gz\n",
            "8192/5148 [===============================================] - 0s 0us/step\n",
            "Downloading data from https://storage.googleapis.com/tensorflow/tf-keras-datasets/t10k-images-idx3-ubyte.gz\n",
            "4423680/4422102 [==============================] - 0s 0us/step\n"
          ]
        }
      ],
      "source": [
        "fashion_mnist = tf.keras.datasets.fashion_mnist\n",
        "\n",
        "(x_train, y_train),(x_test, y_test) = fashion_mnist.load_data()\n",
        "x_train, x_test = x_train / 255.0, x_test / 255.0"
      ]
    },
    {
      "cell_type": "markdown",
      "metadata": {
        "id": "0tsTxO85WaYq"
      },
      "source": [
        "## 1. Teste a configuração e o resumo do experimento HParams\n",
        "\n",
        "Teste três hiperparâmetros no modelo:\n",
        "\n",
        "1. Número de unidades na primeira camada densa\n",
        "2. Taxa de dropout na camada de dropout\n",
        "3. Otimizador\n",
        "\n",
        "Liste os valores que serão testados e registre uma configuração de experimento para o TensorBoard. Esse passo é opcional: você pode oferecer informações de domínio para permitir uma filtragem mais precisa de hiperparâmetros na interface do usuário e também é possível especificar quais métricas devem ser exibidas."
      ]
    },
    {
      "cell_type": "code",
      "execution_count": null,
      "metadata": {
        "id": "5Euw0agpWb4V"
      },
      "outputs": [],
      "source": [
        "HP_NUM_UNITS = hp.HParam('num_units', hp.Discrete([16, 32]))\n",
        "HP_DROPOUT = hp.HParam('dropout', hp.RealInterval(0.1, 0.2))\n",
        "HP_OPTIMIZER = hp.HParam('optimizer', hp.Discrete(['adam', 'sgd']))\n",
        "\n",
        "METRIC_ACCURACY = 'accuracy'\n",
        "\n",
        "with tf.summary.create_file_writer('logs/hparam_tuning').as_default():\n",
        "  hp.hparams_config(\n",
        "    hparams=[HP_NUM_UNITS, HP_DROPOUT, HP_OPTIMIZER],\n",
        "    metrics=[hp.Metric(METRIC_ACCURACY, display_name='Accuracy')],\n",
        "  )"
      ]
    },
    {
      "cell_type": "markdown",
      "metadata": {
        "id": "T_T95RrSIVO6"
      },
      "source": [
        "Se você decidir pular essa etapa, poderá utilizar um literal de string onde usaria um valor `HParam`: por exemplo, `hparams['dropout']` em vez de `hparams[HP_DROPOUT]`."
      ]
    },
    {
      "cell_type": "markdown",
      "metadata": {
        "id": "va9XMh-dW4_f"
      },
      "source": [
        "## 2. Adapte as execuções do TensorFlow para registrar hiperparâmetros e métricas\n",
        "\n",
        "O modelo será bastante simples: duas camadas densas com uma camada de dropout entre elas. O código de treinamento parecerá familiar, embora os hiperparâmetros não sejam mais embutidos no código. Em vez disso, os hiperparâmetros são fornecidos em um dicionário `hparams` e usados durante a função de treinamento:"
      ]
    },
    {
      "cell_type": "code",
      "execution_count": null,
      "metadata": {
        "id": "hG-zalNfW5Zl"
      },
      "outputs": [],
      "source": [
        "def train_test_model(hparams):\n",
        "  model = tf.keras.models.Sequential([\n",
        "    tf.keras.layers.Flatten(),\n",
        "    tf.keras.layers.Dense(hparams[HP_NUM_UNITS], activation=tf.nn.relu),\n",
        "    tf.keras.layers.Dropout(hparams[HP_DROPOUT]),\n",
        "    tf.keras.layers.Dense(10, activation=tf.nn.softmax),\n",
        "  ])\n",
        "  model.compile(\n",
        "      optimizer=hparams[HP_OPTIMIZER],\n",
        "      loss='sparse_categorical_crossentropy',\n",
        "      metrics=['accuracy'],\n",
        "  )\n",
        "\n",
        "  model.fit(x_train, y_train, epochs=1) # Run with 1 epoch to speed things up for demo purposes\n",
        "  _, accuracy = model.evaluate(x_test, y_test)\n",
        "  return accuracy"
      ]
    },
    {
      "cell_type": "markdown",
      "metadata": {
        "id": "46oJF8seXM7v"
      },
      "source": [
        "Para cada execução, registre um resumo de hparams com os hiperparâmetros e a exatidão final:"
      ]
    },
    {
      "cell_type": "code",
      "execution_count": null,
      "metadata": {
        "id": "8j-fO6nEXRfW"
      },
      "outputs": [],
      "source": [
        "def run(run_dir, hparams):\n",
        "  with tf.summary.create_file_writer(run_dir).as_default():\n",
        "    hp.hparams(hparams)  # record the values used in this trial\n",
        "    accuracy = train_test_model(hparams)\n",
        "    tf.summary.scalar(METRIC_ACCURACY, accuracy, step=1)"
      ]
    },
    {
      "cell_type": "markdown",
      "metadata": {
        "id": "2mYdW0VKLbFE"
      },
      "source": [
        "Ao treinar modelos Keras, você pode usar callbacks em vez de escrever isto diretamente:\n",
        "\n",
        "```python\n",
        "model.fit(\n",
        "    ...,\n",
        "    callbacks=[\n",
        "        tf.keras.callbacks.TensorBoard(logdir),  # log metrics\n",
        "        hp.KerasCallback(logdir, hparams),  # log hparams\n",
        "    ],\n",
        ")\n",
        "```"
      ]
    },
    {
      "cell_type": "markdown",
      "metadata": {
        "id": "u2nOgIKAXdcb"
      },
      "source": [
        "## 3. Inicie as execuções e registre todas elas em um diretório pai\n",
        "\n",
        "Agora você pode fazer vários experimentos, treinando cada um com um conjunto diferente de hiperparâmetros.\n",
        "\n",
        "Para simplificar, use uma busca em grade: teste todas as combinações de parâmetros discretos e só os limites inferiores e superiores do parâmetro real. Para cenários mais complexos, pode ser mais eficaz escolher cada valor de hiperparâmetro aleatoriamente (isso é chamado de busca aleatória). Há métodos mais avançados que podem ser usados.\n",
        "\n",
        "Execute alguns experimentos, o que levará alguns minutos:"
      ]
    },
    {
      "cell_type": "code",
      "execution_count": null,
      "metadata": {
        "id": "KbqT5n-AXd0h"
      },
      "outputs": [
        {
          "name": "stdout",
          "output_type": "stream",
          "text": [
            "--- Starting trial: run-0\n",
            "{'num_units': 16, 'dropout': 0.1, 'optimizer': 'adam'}\n",
            "60000/60000 [==============================] - 4s 62us/sample - loss: 0.6872 - accuracy: 0.7564\n",
            "10000/10000 [==============================] - 0s 35us/sample - loss: 0.4806 - accuracy: 0.8321\n",
            "--- Starting trial: run-1\n",
            "{'num_units': 16, 'dropout': 0.1, 'optimizer': 'sgd'}\n",
            "60000/60000 [==============================] - 3s 54us/sample - loss: 0.9428 - accuracy: 0.6769\n",
            "10000/10000 [==============================] - 0s 36us/sample - loss: 0.6519 - accuracy: 0.7770\n",
            "--- Starting trial: run-2\n",
            "{'num_units': 16, 'dropout': 0.2, 'optimizer': 'adam'}\n",
            "60000/60000 [==============================] - 4s 60us/sample - loss: 0.8158 - accuracy: 0.7078\n",
            "10000/10000 [==============================] - 0s 36us/sample - loss: 0.5309 - accuracy: 0.8154\n",
            "--- Starting trial: run-3\n",
            "{'num_units': 16, 'dropout': 0.2, 'optimizer': 'sgd'}\n",
            "60000/60000 [==============================] - 3s 50us/sample - loss: 1.1465 - accuracy: 0.6019\n",
            "10000/10000 [==============================] - 0s 36us/sample - loss: 0.7007 - accuracy: 0.7683\n",
            "--- Starting trial: run-4\n",
            "{'num_units': 32, 'dropout': 0.1, 'optimizer': 'adam'}\n",
            "60000/60000 [==============================] - 4s 65us/sample - loss: 0.6178 - accuracy: 0.7849\n",
            "10000/10000 [==============================] - 0s 38us/sample - loss: 0.4645 - accuracy: 0.8395\n",
            "--- Starting trial: run-5\n",
            "{'num_units': 32, 'dropout': 0.1, 'optimizer': 'sgd'}\n",
            "60000/60000 [==============================] - 3s 55us/sample - loss: 0.8989 - accuracy: 0.6896\n",
            "10000/10000 [==============================] - 0s 37us/sample - loss: 0.6335 - accuracy: 0.7853\n",
            "--- Starting trial: run-6\n",
            "{'num_units': 32, 'dropout': 0.2, 'optimizer': 'adam'}\n",
            "60000/60000 [==============================] - 4s 64us/sample - loss: 0.6404 - accuracy: 0.7782\n",
            "10000/10000 [==============================] - 0s 37us/sample - loss: 0.4802 - accuracy: 0.8265\n",
            "--- Starting trial: run-7\n",
            "{'num_units': 32, 'dropout': 0.2, 'optimizer': 'sgd'}\n",
            "60000/60000 [==============================] - 3s 54us/sample - loss: 0.9633 - accuracy: 0.6703\n",
            "10000/10000 [==============================] - 0s 36us/sample - loss: 0.6516 - accuracy: 0.7755\n"
          ]
        }
      ],
      "source": [
        "session_num = 0\n",
        "\n",
        "for num_units in HP_NUM_UNITS.domain.values:\n",
        "  for dropout_rate in (HP_DROPOUT.domain.min_value, HP_DROPOUT.domain.max_value):\n",
        "    for optimizer in HP_OPTIMIZER.domain.values:\n",
        "      hparams = {\n",
        "          HP_NUM_UNITS: num_units,\n",
        "          HP_DROPOUT: dropout_rate,\n",
        "          HP_OPTIMIZER: optimizer,\n",
        "      }\n",
        "      run_name = \"run-%d\" % session_num\n",
        "      print('--- Starting trial: %s' % run_name)\n",
        "      print({h.name: hparams[h] for h in hparams})\n",
        "      run('logs/hparam_tuning/' + run_name, hparams)\n",
        "      session_num += 1\n"
      ]
    },
    {
      "cell_type": "markdown",
      "metadata": {
        "id": "qSyjWQ3mPKT9"
      },
      "source": [
        "## 4. Visualize os resultados no plugin HParams do TensorBoard"
      ]
    },
    {
      "cell_type": "markdown",
      "metadata": {
        "id": "5VBvplwyP8Vy"
      },
      "source": [
        "O painel de controle HParams já pode ser aberto. Inicie o TensorBoard e clique em \"HParams\" na parte superior."
      ]
    },
    {
      "cell_type": "code",
      "execution_count": null,
      "metadata": {
        "id": "Xf4KM-U2bbP_"
      },
      "outputs": [],
      "source": [
        "%tensorboard --logdir logs/hparam_tuning"
      ]
    },
    {
      "cell_type": "markdown",
      "metadata": {
        "id": "UTWg9nXnxWWI"
      },
      "source": [
        "<!-- <img class=\"tfo-display-only-on-site\" src=\"images/hparams_table.png?raw=1\"/> -->"
      ]
    },
    {
      "cell_type": "markdown",
      "metadata": {
        "id": "4RPGbR9EWd4o"
      },
      "source": [
        "A janela à esquerda do painel de controle fornece capacidades de filtragem que ficam ativas em todas as visualizações no painel de controle HParams:\n",
        "\n",
        "- Filtre quais hiperparâmetros/métricas são exibidos no painel de controle\n",
        "- Filtre quais valores de hiperparâmetros/métricas são exibidos no painel de controle\n",
        "- Filtre pelo status da execução (em andamento, sucesso...)\n",
        "- Classifique por hiperparâmetro/métrica na visualização de tabela\n",
        "- Número de grupos de sessão exibidos (útil para o desempenho quando há vários experimentos)\n"
      ]
    },
    {
      "cell_type": "markdown",
      "metadata": {
        "id": "Z3Q5v28XaCt8"
      },
      "source": [
        "O painel de controle HParams tem três visualizações diferentes, com várias informações úteis:\n",
        "\n",
        "- A **Table View** (Visualização de tabela) lista as execuções, os hiperparâmetros e as métricas.\n",
        "- A **Parallel Coordinates View** (Visualização de coordenadas paralelas) mostra cada execução como uma linha que percorre um eixo para cada hiperparâmetro e métrica. Clique e arraste o mouse em qualquer eixo para marcar uma região, destacando somente as execuções que passarem por ela. Isso pode ser útil para identificar quais grupos de hiperparâmetros são mais importantes. Os próprios eixos podem ser reordenados ao soltá-los.\n",
        "- A **Scatter Plot View** (Visualização de plotagem de dispersão) mostra plotagens que comparam cada hiperparâmetro/métrica a cada métrica. Isso pode ajudar a identificar correlações. Clique e arraste para selecionar uma região em uma plotagem específica e destacar essas sessões em todas as outras plotagens.\n",
        "\n",
        "É possível clicar em uma linha da tabela, uma linha das coordenadas paralelas e um mercado da plotagem de dispersão para ver uma plotagem das métricas como uma função dos passos de treinamento para essa sessão (embora neste tutorial somente um passo seja usado para cada execução)."
      ]
    },
    {
      "cell_type": "markdown",
      "metadata": {
        "id": "fh3p0DtcdOK1"
      },
      "source": [
        "Para explorar ainda mais as capacidades do painel de controle HParams, baixe um conjunto de logs pré-gerados com mais experimentos:"
      ]
    },
    {
      "cell_type": "code",
      "execution_count": null,
      "metadata": {
        "id": "oxrSUAnCeFmQ"
      },
      "outputs": [],
      "source": [
        "%%bash\n",
        "wget -q 'https://storage.googleapis.com/download.tensorflow.org/tensorboard/hparams_demo_logs.zip'\n",
        "unzip -q hparams_demo_logs.zip -d logs/hparam_demo"
      ]
    },
    {
      "cell_type": "markdown",
      "metadata": {
        "id": "__8xQhjqgr3D"
      },
      "source": [
        "Veja esses logs no TensorBoard:"
      ]
    },
    {
      "cell_type": "code",
      "execution_count": null,
      "metadata": {
        "id": "KBHp6M_zgjp4"
      },
      "outputs": [],
      "source": [
        "%tensorboard --logdir logs/hparam_demo"
      ]
    },
    {
      "cell_type": "markdown",
      "metadata": {
        "id": "Po7rTfQswAMT"
      },
      "source": [
        "<!-- <img class=\"tfo-display-only-on-site\" src=\"images/hparams_parallel_coordinates.png?raw=1\"/> -->"
      ]
    },
    {
      "cell_type": "markdown",
      "metadata": {
        "id": "IlDz2oXBgnZ9"
      },
      "source": [
        "Você pode testar as diferentes visualizações no painel de controle HParams.\n",
        "\n",
        "Por exemplo, ao acessar a visualização de coordenadas paralelas e clicar e arrastar o eixo de exatidão, você pode selecionar as execuções com maior exatidão. Conforme essas execuções passarem por \"adam\" no eixo de otimizador, você pode concluir que o \"adam\" teve um melhor desempenho do que \"sgd\" nesses experimentos."
      ]
    }
  ],
  "metadata": {
    "colab": {
      "collapsed_sections": [],
      "name": "hyperparameter_tuning_with_hparams.ipynb",
      "toc_visible": true
    },
    "kernelspec": {
      "display_name": "Python 3",
      "name": "python3"
    }
  },
  "nbformat": 4,
  "nbformat_minor": 0
}
