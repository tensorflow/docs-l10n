{
  "cells": [
    {
      "cell_type": "markdown",
      "metadata": {
        "id": "wdeKOEkv1Fe8"
      },
      "source": [
        "##### Copyright 2021 The TensorFlow Authors."
      ]
    },
    {
      "cell_type": "code",
      "execution_count": null,
      "metadata": {
        "cellView": "form",
        "id": "SpNWyqewk8fE"
      },
      "outputs": [],
      "source": [
        "#@title Licensed under the Apache License, Version 2.0 (the \"License\");\n",
        "# you may not use this file except in compliance with the License.\n",
        "# You may obtain a copy of the License at\n",
        "#\n",
        "# https://www.apache.org/licenses/LICENSE-2.0\n",
        "#\n",
        "# Unless required by applicable law or agreed to in writing, software\n",
        "# distributed under the License is distributed on an \"AS IS\" BASIS,\n",
        "# WITHOUT WARRANTIES OR CONDITIONS OF ANY KIND, either express or implied.\n",
        "# See the License for the specific language governing permissions and\n",
        "# limitations under the License."
      ]
    },
    {
      "cell_type": "markdown",
      "metadata": {
        "id": "hPxSVqcvqPHO"
      },
      "source": [
        "# Tutorial de componentes de função Python do TFX\n"
      ]
    },
    {
      "cell_type": "markdown",
      "metadata": {
        "id": "WdRDkO2wQHUw"
      },
      "source": [
        "Observação: recomendamos executar este tutorial em um notebook Colab, sem necessidade de configuração! Basta clicar em “Executar no Google Colab”.\n",
        "\n",
        "<div class=\"devsite-table-wrapper\"><table class=\"tfo-notebook-buttons\" align=\"left\">\n",
        "<td>     <a target=\"_blank\" href=\"https://www.tensorflow.org/tfx/tutorials/tfx/python_function_component\"><img src=\"https://www.tensorflow.org/images/tf_logo_32px.png\">Ver em TensorFlow.org</a>\n",
        "</td>\n",
        "<td>     <a target=\"_blank\" href=\"https://colab.research.google.com/github/tensorflow/docs-l10n/blob/master/site/pt-br/tfx/tutorials/tfx/python_function_component.ipynb\"><img src=\"https://www.tensorflow.org/images/colab_logo_32px.png\">Executar no Google Colab</a>\n",
        "</td>\n",
        "<td>     <a target=\"_blank\" href=\"https://github.com/tensorflow/docs-l10n/blob/master/site/pt-br/tfx/tutorials/tfx/python_function_component.ipynb\"><img width=\"32px\" src=\"https://www.tensorflow.org/images/GitHub-Mark-32px.png\">Ver fonte no GitHub</a>\n",
        "</td>\n",
        "<td>     <a target=\"_blank\" href=\"https://storage.googleapis.com/tensorflow_docs/docs-l10n/site/pt-br/tfx/tutorials/tfx/python_function_component.ipynb\"><img width=\"32px\" src=\"https://www.tensorflow.org/images/download_logo_32px.png\">Baixar notebook</a>\n",
        "</td>\n",
        "</table></div>"
      ]
    },
    {
      "cell_type": "markdown",
      "metadata": {
        "id": "GkwEwr0FQKJW"
      },
      "source": [
        "Este notebook contém exemplos sobre como criar e executar componentes de função Python dentro do TFX InteractiveContext e num pipeline TFX orquestrado localmente.\n",
        "\n",
        "Para obter mais contexto e informações, consulte a página [Componentes de função Python personalizados](https://www.tensorflow.org/tfx/guide/custom_function_component) no site de documentação do TFX."
      ]
    },
    {
      "cell_type": "markdown",
      "metadata": {
        "id": "d-Av6cm0oBFV"
      },
      "source": [
        "## Configuração\n",
        "\n",
        "Primeiro instalaremos o TFX e importaremos os módulos necessários. TFX requer Python 3."
      ]
    },
    {
      "cell_type": "markdown",
      "metadata": {
        "id": "fwZ0aXisoBFW"
      },
      "source": [
        "### Verifique a versão do sistema Python\n"
      ]
    },
    {
      "cell_type": "code",
      "execution_count": null,
      "metadata": {
        "id": "PQ-QwavmqPHP"
      },
      "outputs": [],
      "source": [
        "import sys\n",
        "sys.version"
      ]
    },
    {
      "cell_type": "markdown",
      "metadata": {
        "id": "88XXV3_DQ_Nx"
      },
      "source": [
        "### Atualize o Pip\n",
        "\n",
        "Para evitar a atualização do Pip num sistema ao executar localmente, garanta que estamos executando no Colab. Os sistemas locais podem, claro, ser atualizados separadamente."
      ]
    },
    {
      "cell_type": "code",
      "execution_count": null,
      "metadata": {
        "id": "UHvIH-wORCuV"
      },
      "outputs": [],
      "source": [
        "try:\n",
        "  import colab\n",
        "  !pip install --upgrade pip\n",
        "except:\n",
        "  pass"
      ]
    },
    {
      "cell_type": "markdown",
      "metadata": {
        "id": "FDFSXMLLRGJC"
      },
      "source": [
        "### Instale o TFX\n",
        "\n",
        "**Observação: no Google Colab, devido a atualizações de pacotes, na primeira vez que você executar esta célula você deverá reiniciar o runtime (Runtime &gt; Restart runtime...).**"
      ]
    },
    {
      "cell_type": "code",
      "execution_count": null,
      "metadata": {
        "id": "wGpQOmYIVlSV"
      },
      "outputs": [],
      "source": [
        "!pip install tfx"
      ]
    },
    {
      "cell_type": "markdown",
      "metadata": {
        "id": "RxQ89gnRijuc"
      },
      "source": [
        "### Desinstale o shapely\n",
        "\n",
        "TODO(b/263441833) Esta é uma solução temporária para evitar um ImportError. Em última análise, isto deverá ser resolvido com suporte a uma versão mais recente do Bigquery, em vez de desinstalar outras dependências extras."
      ]
    },
    {
      "cell_type": "code",
      "execution_count": null,
      "metadata": {
        "id": "akSWlt-Bij9w"
      },
      "outputs": [],
      "source": [
        "!pip uninstall shapely -y"
      ]
    },
    {
      "cell_type": "markdown",
      "metadata": {
        "id": "hvXNj9a4VlSV"
      },
      "source": [
        "## Você reiniciou o runtime?\n",
        "\n",
        "Se você estiver usando o Google Colab, na primeira vez que executar a célula acima, você deve reiniciar o runtime (\"Runtime &gt; Restart runtime ...\"). Isso é necessário devido à maneira como o Colab carrega os pacotes."
      ]
    },
    {
      "cell_type": "markdown",
      "metadata": {
        "id": "0v45llP5ReKx"
      },
      "source": [
        "### Importe os pacotes\n",
        "\n",
        "Importamos o TFX e verificamos sua versão."
      ]
    },
    {
      "cell_type": "code",
      "execution_count": null,
      "metadata": {
        "id": "bRY0RFJ0VlSV"
      },
      "outputs": [],
      "source": [
        "# Check version\n",
        "from tfx import v1 as tfx\n",
        "tfx.__version__"
      ]
    },
    {
      "cell_type": "markdown",
      "metadata": {
        "id": "hvb0SspyqPH4"
      },
      "source": [
        "## Componentes de função Python personalizados\n",
        "\n",
        "Nesta seção, criaremos componentes a partir de funções Python. Não resolveremos nenhum problema real de ML - essas funções simples são usadas apenas para ilustrar o processo de desenvolvimento do componente de função Python.\n",
        "\n",
        "Consulte o [Guia de componentes baseados em funções Python](https://www.tensorflow.org/tfx/guide/custom_function_component) para mais informações."
      ]
    },
    {
      "cell_type": "markdown",
      "metadata": {
        "id": "mhYjn9Fj6mdo"
      },
      "source": [
        "### Crie componentes em Python personalizados\n",
        "\n",
        "Começamos escrevendo uma função que gera alguns dados fictícios. Isso é gravado em seu próprio arquivo de módulo Python."
      ]
    },
    {
      "cell_type": "code",
      "execution_count": null,
      "metadata": {
        "id": "cHNtKTuiqPH4"
      },
      "outputs": [],
      "source": [
        "%%writefile my_generator.py\n",
        "\n",
        "import os\n",
        "import tensorflow as tf  # Used for writing files.\n",
        "\n",
        "from tfx import v1 as tfx\n",
        "\n",
        "# Non-public APIs, just for showcase.\n",
        "from tfx.types.experimental.simple_artifacts import Dataset\n",
        "\n",
        "@tfx.dsl.components.component\n",
        "def MyGenerator(data: tfx.dsl.components.OutputArtifact[Dataset]):\n",
        "  \"\"\"Create a file with dummy data in the output artifact.\"\"\"\n",
        "  with tf.io.gfile.GFile(os.path.join(data.uri, 'data_file.txt'), 'w') as f:\n",
        "    f.write('Dummy data')\n",
        "\n",
        "  # Set metadata and ensure that it gets passed to downstream components.\n",
        "  data.set_string_custom_property('my_custom_field', 'my_custom_value')"
      ]
    },
    {
      "cell_type": "markdown",
      "metadata": {
        "id": "MtapXcbSqPH6"
      },
      "source": [
        "Em seguida, escrevemos um segundo componente que usa os dados fictícios produzidos. Iremos apenas calcular o hash dos dados e devolvê-los."
      ]
    },
    {
      "cell_type": "code",
      "execution_count": null,
      "metadata": {
        "id": "27ZEf2xQqPH7"
      },
      "outputs": [],
      "source": [
        "%%writefile my_consumer.py\n",
        "\n",
        "import hashlib\n",
        "import os\n",
        "import tensorflow as tf\n",
        "\n",
        "from tfx import v1 as tfx\n",
        "\n",
        "# Non-public APIs, just for showcase.\n",
        "from tfx.types.experimental.simple_artifacts import Dataset\n",
        "from tfx.types.standard_artifacts import String\n",
        "\n",
        "@tfx.dsl.components.component\n",
        "def MyConsumer(data: tfx.dsl.components.InputArtifact[Dataset],\n",
        "               hash: tfx.dsl.components.OutputArtifact[String],\n",
        "               algorithm: tfx.dsl.components.Parameter[str] = 'sha256'):\n",
        "  \"\"\"Reads the contents of data and calculate.\"\"\"\n",
        "  with tf.io.gfile.GFile(\n",
        "      os.path.join(data.uri, 'data_file.txt'), 'r') as f:\n",
        "    contents = f.read()\n",
        "  h = hashlib.new(algorithm)\n",
        "  h.update(tf.compat.as_bytes(contents))\n",
        "  hash.value = h.hexdigest()\n",
        "\n",
        "  # Read a custom property from the input artifact and set to the output.\n",
        "  custom_value = data.get_string_custom_property('my_custom_field')\n",
        "  hash.set_string_custom_property('input_custom_field', custom_value)"
      ]
    },
    {
      "cell_type": "markdown",
      "metadata": {
        "id": "lIrGHQzFqPII"
      },
      "source": [
        "### Execute no notebook com o InteractiveContext\n",
        "\n",
        "Agora, demonstraremos o uso de nossos novos componentes no TFX InteractiveContext.\n",
        "\n",
        "Para obter mais informações sobre o que você pode fazer com o notebook TFX InteractiveContext, veja o [Tutorial do componente TFX Keras](https://www.tensorflow.org/tfx/tutorials/tfx/components_keras) no notebook."
      ]
    },
    {
      "cell_type": "code",
      "execution_count": null,
      "metadata": {
        "id": "j43snQpRqPII"
      },
      "outputs": [],
      "source": [
        "from my_generator import MyGenerator\n",
        "from my_consumer import MyConsumer"
      ]
    },
    {
      "cell_type": "markdown",
      "metadata": {
        "id": "_1Rf6FCMSnbM"
      },
      "source": [
        "#### Construa o InteractiveContext"
      ]
    },
    {
      "cell_type": "code",
      "execution_count": null,
      "metadata": {
        "id": "dEXGvLLmKviI"
      },
      "outputs": [],
      "source": [
        "# Here, we create an InteractiveContext using default parameters. This will\n",
        "# use a temporary directory with an ephemeral ML Metadata database instance.\n",
        "# To use your own pipeline root or database, the optional properties\n",
        "# `pipeline_root` and `metadata_connection_config` may be passed to\n",
        "# InteractiveContext. Calls to InteractiveContext are no-ops outside of the\n",
        "# notebook.\n",
        "from tfx.orchestration.experimental.interactive.interactive_context import InteractiveContext\n",
        "context = InteractiveContext()"
      ]
    },
    {
      "cell_type": "markdown",
      "metadata": {
        "id": "XxXVtZzdTWg_"
      },
      "source": [
        "#### Execute seu componente interativamente com `context.run()`\n",
        "\n",
        "Em seguida, executamos nossos componentes interativamente no notebook com `context.run()`. Nosso componente consumidor utiliza as saídas do componente gerador."
      ]
    },
    {
      "cell_type": "code",
      "execution_count": null,
      "metadata": {
        "id": "kfNmI5qULlSA"
      },
      "outputs": [],
      "source": [
        "generator = MyGenerator()\n",
        "context.run(generator)"
      ]
    },
    {
      "cell_type": "code",
      "execution_count": null,
      "metadata": {
        "id": "cRxVZIfFLsL4"
      },
      "outputs": [],
      "source": [
        "consumer = MyConsumer(\n",
        "    data=generator.outputs['data'],\n",
        "    algorithm='md5')\n",
        "context.run(consumer)"
      ]
    },
    {
      "cell_type": "markdown",
      "metadata": {
        "id": "pO_Ggc4QTo0B"
      },
      "source": [
        "Após a execução, podemos inspecionar o conteúdo \"hash\" do artefato de saída do componente consumidor no disco."
      ]
    },
    {
      "cell_type": "code",
      "execution_count": null,
      "metadata": {
        "id": "h4P3Mx_CT0mP"
      },
      "outputs": [],
      "source": [
        "!tail -v {consumer.outputs['hash'].get()[0].uri}"
      ]
    },
    {
      "cell_type": "markdown",
      "metadata": {
        "id": "RRosvALKSWe0"
      },
      "source": [
        "É isso, e agora você escreveu e executou seus próprios componentes personalizados!"
      ]
    },
    {
      "cell_type": "markdown",
      "metadata": {
        "id": "uvXKtg17O6mF"
      },
      "source": [
        "### Escreva uma definição de pipeline\n",
        "\n",
        "A seguir, criaremos um pipeline usando esses mesmos componentes. Embora o uso do `InteractiveContext` em um notebook funcione bem para experimentação, a definição de um pipeline permite implantar seu pipeline em executores locais ou remotos para uso em produção.\n",
        "\n",
        "Aqui, demonstraremos o uso do LocalDagRunner rodando localmente em sua máquina. Para execução em produção, os executores Airflow ou Kubeflow podem ser mais adequados."
      ]
    },
    {
      "cell_type": "markdown",
      "metadata": {
        "id": "ft9fbSpnU7C6"
      },
      "source": [
        "#### Construa um pipeline"
      ]
    },
    {
      "cell_type": "code",
      "execution_count": null,
      "metadata": {
        "id": "NpkQ805-LyJu"
      },
      "outputs": [],
      "source": [
        "import os\n",
        "import tempfile\n",
        "from tfx import v1 as tfx\n",
        "\n",
        "# Select a persistent TFX root directory to store your output artifacts.\n",
        "# For demonstration purposes only, we use a temporary directory.\n",
        "PIPELINE_ROOT = tempfile.mkdtemp()\n",
        "# Select a pipeline name so that multiple runs of the same logical pipeline\n",
        "# can be grouped.\n",
        "PIPELINE_NAME = \"function-based-pipeline\"\n",
        "# We use a ML Metadata configuration that uses a local SQLite database in\n",
        "# the pipeline root directory. Other backends for ML Metadata are available\n",
        "# for production usage.\n",
        "METADATA_CONNECTION_CONFIG = tfx.orchestration.metadata.sqlite_metadata_connection_config(\n",
        "    os.path.join(PIPELINE_ROOT, 'metadata.sqlite'))\n",
        "\n",
        "def function_based_pipeline():\n",
        "  # Here, we construct our generator and consumer components in the same way.\n",
        "  generator = MyGenerator()\n",
        "  consumer = MyConsumer(\n",
        "      data=generator.outputs['data'],\n",
        "      algorithm='md5')\n",
        "\n",
        "  return tfx.dsl.Pipeline(\n",
        "      pipeline_name=PIPELINE_NAME,\n",
        "      pipeline_root=PIPELINE_ROOT,\n",
        "      components=[generator, consumer],\n",
        "      metadata_connection_config=METADATA_CONNECTION_CONFIG)\n",
        "\n",
        "my_pipeline = function_based_pipeline()"
      ]
    },
    {
      "cell_type": "markdown",
      "metadata": {
        "id": "Mj-Z3cbFWPbK"
      },
      "source": [
        "#### Execute seu pipeline com o `LocalDagRunner`"
      ]
    },
    {
      "cell_type": "code",
      "execution_count": null,
      "metadata": {
        "id": "PLtGO2PkMQbO"
      },
      "outputs": [],
      "source": [
        "tfx.orchestration.LocalDagRunner().run(my_pipeline)"
      ]
    },
    {
      "cell_type": "markdown",
      "metadata": {
        "id": "Ry4vU3mOWeN1"
      },
      "source": [
        "Podemos inspecionar os artefatos de saída gerados pela execução deste pipeline."
      ]
    },
    {
      "cell_type": "code",
      "execution_count": null,
      "metadata": {
        "id": "fyvYTsx8Mp1N"
      },
      "outputs": [],
      "source": [
        "!find {PIPELINE_ROOT}"
      ]
    },
    {
      "cell_type": "markdown",
      "metadata": {
        "id": "M4CsceadWqHp"
      },
      "source": [
        "Agora você escreveu seus próprios componentes personalizados e orquestrou sua execução no LocalDagRunner! Para os próximos passos, confira os tutoriais e guias adicionais no [site do TFX](https://www.tensorflow.org/tfx)."
      ]
    }
  ],
  "metadata": {
    "colab": {
      "collapsed_sections": [
        "wdeKOEkv1Fe8"
      ],
      "name": "python_function_component.ipynb",
      "toc_visible": true
    },
    "kernelspec": {
      "display_name": "Python 3",
      "name": "python3"
    }
  },
  "nbformat": 4,
  "nbformat_minor": 0
}
