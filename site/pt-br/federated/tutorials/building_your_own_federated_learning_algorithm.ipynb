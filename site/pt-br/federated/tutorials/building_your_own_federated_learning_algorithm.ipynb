{
  "cells": [
    {
      "cell_type": "markdown",
      "metadata": {
        "id": "vkdnLiKk71g-"
      },
      "source": [
        "##### Copyright 2020 The TensorFlow Authors."
      ]
    },
    {
      "cell_type": "code",
      "execution_count": null,
      "metadata": {
        "cellView": "form",
        "id": "0asMuNro71hA"
      },
      "outputs": [],
      "source": [
        "#@title Licensed under the Apache License, Version 2.0 (the \"License\");\n",
        "# you may not use this file except in compliance with the License.\n",
        "# You may obtain a copy of the License at\n",
        "#\n",
        "# https://www.apache.org/licenses/LICENSE-2.0\n",
        "#\n",
        "# Unless required by applicable law or agreed to in writing, software\n",
        "# distributed under the License is distributed on an \"AS IS\" BASIS,\n",
        "# WITHOUT WARRANTIES OR CONDITIONS OF ANY KIND, either express or implied.\n",
        "# See the License for the specific language governing permissions and\n",
        "# limitations under the License."
      ]
    },
    {
      "cell_type": "markdown",
      "metadata": {
        "id": "iPFgLeZIsZ3Q"
      },
      "source": [
        "<table class=\"tfo-notebook-buttons\" align=\"left\">\n",
        "  <td>     <a target=\"_blank\" href=\"https://www.tensorflow.org/federated/tutorials/building_your_own_federated_learning_algorithm\"><img src=\"https://www.tensorflow.org/images/tf_logo_32px.png\">Ver em TensorFlow.org</a>\n",
        "</td>\n",
        "  <td>     <a target=\"_blank\" href=\"https://colab.research.google.com/github/tensorflow/docs-l10n/blob/master/site/pt-br/federated/tutorials/building_your_own_federated_learning_algorithm.ipynb\"><img src=\"https://www.tensorflow.org/images/colab_logo_32px.png\">Executar no Google Colab</a>\n",
        "</td>\n",
        "  <td>     <a target=\"_blank\" href=\"https://github.com/tensorflow/docs-l10n/blob/master/site/pt-br/federated/tutorials/building_your_own_federated_learning_algorithm.ipynb\"><img src=\"https://www.tensorflow.org/images/GitHub-Mark-32px.png\">Ver fonte no GitHub</a>\n",
        "</td>\n",
        "  <td>     <a href=\"https://storage.googleapis.com/tensorflow_docs/docs-l10n/site/pt-br/federated/tutorials/building_your_own_federated_learning_algorithm.ipynb\"><img src=\"https://www.tensorflow.org/images/download_logo_32px.png\">Baixar notebook</a>\n",
        "</td>\n",
        "</table>"
      ]
    },
    {
      "cell_type": "markdown",
      "metadata": {
        "id": "MnUwFbCAKB2r"
      },
      "source": [
        "## Antes de começar\n",
        "\n",
        "Antes de começar, execute o código abaixo para que o ambiente seja configurado corretamente. Se não for exibida uma saudação, consulte as instruções de [instalação](../install.md). "
      ]
    },
    {
      "cell_type": "code",
      "execution_count": null,
      "metadata": {
        "id": "ZrGitA_KnRO0"
      },
      "outputs": [],
      "source": [
        "#@test {\"skip\": true}\n",
        "!pip install --quiet --upgrade tensorflow-federated"
      ]
    },
    {
      "cell_type": "code",
      "execution_count": null,
      "metadata": {
        "id": "HGTM6tWOLo8M"
      },
      "outputs": [],
      "source": [
        "import tensorflow as tf\n",
        "import tensorflow_federated as tff"
      ]
    },
    {
      "cell_type": "markdown",
      "metadata": {
        "id": "yr3ztf28fa1F"
      },
      "source": [
        "**OBSERVAÇÃO**: foi verificado que este Colab funciona com a [versão mais recente lançada](https://github.com/tensorflow/federated#compatibility) do pacote pip `tensorflow_federated`, mas o projeto Tensorflow Federated ainda está em desenvolvimento pré-lançamento e pode não funcionar no `main`."
      ]
    },
    {
      "cell_type": "markdown",
      "metadata": {
        "id": "4Zv28F7QLo8O"
      },
      "source": [
        "# Crie seu próprio algoritmo de aprendizado federado\n",
        "\n",
        "Nos tutoriais de [classificação de imagens](federated_learning_for_image_classification.ipynb) e [geração de texto](federated_learning_for_text_generation.ipynb), você aprendeu a configurar os pipelines de modelos e dados para o Aprendizado Federado (FL) e realizou o treinamento federado pela camada de API `tff.learning` do TFF.\n",
        "\n",
        "Na pesquisa de FL, essa é só a ponta do iceberg. Este tutorial discute como implementar algoritmos de aprendizado federado *sem* usar a API `tff.learning`. Neste tutorial, você fará o seguinte:\n",
        "\n",
        "**Objetivos:**\n",
        "\n",
        "- Entender a estrutura geral dos algoritmos de aprendizado federado.\n",
        "- Explorar o *Federated Core* do TFF.\n",
        "- Usar o Federated Core para implementar diretamente o cálculo federado de médias.\n",
        "\n",
        "Apesar deste tutorial ser completo, talvez seja útil conferir primeiro os tutoriais de [classificação de imagens](federated_learning_for_image_classification.ipynb) e [geração de texto](federated_learning_for_text_generation.ipynb).\n"
      ]
    },
    {
      "cell_type": "markdown",
      "metadata": {
        "id": "hQ_N9XbULo8P"
      },
      "source": [
        "## Prepare os dados de entrada\n",
        "\n",
        "Primeiro, carregue e pré-processe o dataset EMNIST incluído no TFF. Para mais detalhes, veja o tutorial de [classificação de imagens](federated_learning_for_image_classification.ipynb)."
      ]
    },
    {
      "cell_type": "code",
      "execution_count": null,
      "metadata": {
        "id": "-WdnFluLLo8P"
      },
      "outputs": [],
      "source": [
        "emnist_train, emnist_test = tff.simulation.datasets.emnist.load_data()"
      ]
    },
    {
      "cell_type": "markdown",
      "metadata": {
        "id": "kq8893GogB8E"
      },
      "source": [
        "Para alimentar o dataset no modelo, os dados são achatados e cada exemplo é convertido em uma tupla de formato `(flattened_image_vector, label)`."
      ]
    },
    {
      "cell_type": "code",
      "execution_count": null,
      "metadata": {
        "id": "Blrh8zJgLo8R"
      },
      "outputs": [],
      "source": [
        "NUM_CLIENTS = 10\n",
        "BATCH_SIZE = 20\n",
        "\n",
        "def preprocess(dataset):\n",
        "\n",
        "  def batch_format_fn(element):\n",
        "    \"\"\"Flatten a batch of EMNIST data and return a (features, label) tuple.\"\"\"\n",
        "    return (tf.reshape(element['pixels'], [-1, 784]), \n",
        "            tf.reshape(element['label'], [-1, 1]))\n",
        "\n",
        "  return dataset.batch(BATCH_SIZE).map(batch_format_fn)"
      ]
    },
    {
      "cell_type": "markdown",
      "metadata": {
        "id": "Piy8EzqmgNqV"
      },
      "source": [
        "Agora, selecione um número pequeno de clientes e aplique o pré-processamento acima aos datasets deles."
      ]
    },
    {
      "cell_type": "code",
      "execution_count": null,
      "metadata": {
        "id": "-vYM_IT7Lo8W"
      },
      "outputs": [],
      "source": [
        "client_ids = sorted(emnist_train.client_ids)[:NUM_CLIENTS]\n",
        "federated_train_data = [preprocess(emnist_train.create_tf_dataset_for_client(x))\n",
        "  for x in client_ids\n",
        "]"
      ]
    },
    {
      "cell_type": "markdown",
      "metadata": {
        "id": "gNO_Y9j_Lo8X"
      },
      "source": [
        "## Prepare o modelo"
      ]
    },
    {
      "cell_type": "markdown",
      "metadata": {
        "id": "LJ0I89ixz8yV"
      },
      "source": [
        "É usado o mesmo modelo do tutorial de [classificação de imagens](federated_learning_for_image_classification.ipynb). Esse modelo (implementado por `tf.keras`) tem uma única camada oculta, seguida por uma camada softmax."
      ]
    },
    {
      "cell_type": "code",
      "execution_count": null,
      "metadata": {
        "id": "Yfld4oFNLo8Y"
      },
      "outputs": [],
      "source": [
        "def create_keras_model():\n",
        "  initializer = tf.keras.initializers.GlorotNormal(seed=0)\n",
        "  return tf.keras.models.Sequential([\n",
        "      tf.keras.layers.Input(shape=(784,)),\n",
        "      tf.keras.layers.Dense(10, kernel_initializer=initializer),\n",
        "      tf.keras.layers.Softmax(),\n",
        "  ])"
      ]
    },
    {
      "cell_type": "markdown",
      "metadata": {
        "id": "vLln0Q8G0Bky"
      },
      "source": [
        "Para usar esse modelo no TFF, envolva o modelo do Keras como um [`tff.learning.models.VariableModel`](https://www.tensorflow.org/federated/api_docs/python/tff/learning/Model). Isso permite realizar o [passo para frente](https://www.tensorflow.org/federated/api_docs/python/tff/learning/Model#forward_pass) do modelo no TFF e [extrair saídas do modelo](https://www.tensorflow.org/federated/api_docs/python/tff/learning/Model#report_local_unfinalized_metrics). Para mais detalhes, veja também o tutorial de [classificação de imagens](federated_learning_for_image_classification.ipynb)."
      ]
    },
    {
      "cell_type": "code",
      "execution_count": null,
      "metadata": {
        "id": "SPwbipTNLo8a"
      },
      "outputs": [],
      "source": [
        "def model_fn():\n",
        "  keras_model = create_keras_model()\n",
        "  return tff.learning.models.from_keras_model(\n",
        "      keras_model,\n",
        "      input_spec=federated_train_data[0].element_spec,\n",
        "      loss=tf.keras.losses.SparseCategoricalCrossentropy(),\n",
        "      metrics=[tf.keras.metrics.SparseCategoricalAccuracy()])"
      ]
    },
    {
      "cell_type": "markdown",
      "metadata": {
        "id": "pCxa44rFiere"
      },
      "source": [
        "Enquanto o `tf.keras` é usado acima para criar um `tff.learning.models.VariableModel`, o TFF oferece suporte a modelos mais gerais. Esses modelos têm os seguintes atributos relevantes que capturam os pesos dos modelos:\n",
        "\n",
        "- `trainable_variables`: um iterável de tensores que correspondem a camadas treináveis.\n",
        "- `non_trainable_variables`: um iterável dos tensores que correspondem a camadas não treináveis.\n",
        "\n",
        "Neste tutorial, somente `trainable_variables` será usado (já que o modelo só tem esse)."
      ]
    },
    {
      "cell_type": "markdown",
      "metadata": {
        "id": "fPOWP2JjsfTk"
      },
      "source": [
        "# Crie seu próprio algoritmo de aprendizado federado\n",
        "\n",
        "Embora a API `tff.learning` permita criar diversas variantes do cálculo federado de médias, há outros algoritmos federados que não se encaixam perfeitamente nesse framework. Por exemplo, talvez você queira acrescentar regularização, recorte ou algoritmos mais complicados como [treinamento federado de GAN](https://github.com/tensorflow/federated/tree/main/tensorflow_federated/python/research/gans). Talvez você também tenha interesse em [análise federada](https://ai.googleblog.com/2020/05/federated-analytics-collaborative-data.html)."
      ]
    },
    {
      "cell_type": "markdown",
      "metadata": {
        "id": "50N36Zz8qyY-"
      },
      "source": [
        "Para esses algoritmos mais avançados, você terá que escrever seu próprio algoritmo personalizando usando o TFF. Em vários casos, os algoritmos federados têm 4 componentes principais:\n",
        "\n",
        "1. Um passo de transmissão do servidor para o cliente.\n",
        "2. Um passo de atualização do cliente local.\n",
        "3. Um passo de upload do cliente para o servidor.\n",
        "4. Um passo de atualização do servidor."
      ]
    },
    {
      "cell_type": "markdown",
      "metadata": {
        "id": "jH8s0GRdQt3b"
      },
      "source": [
        "No TFF, um algoritmo federado é geralmente representado como um [`tff.templates.IterativeProcess`](https://www.tensorflow.org/federated/api_docs/python/tff/templates/IterativeProcess) (que será chamado apenas de `IterativeProcess`). Essa é uma classe que contém funções `initialize` e `next`. Aqui, `initialize` é usada para inicializar o servidor, e `next` faz uma rodada de comunicação do algoritmo federado. Vamos escrever um esqueleto do nosso processo iterativo para o cálculo federado de médias.\n",
        "\n",
        "Primeiro, há uma função de inicialização que simplesmente cria um `tff.learning.models.VariableModel` e retorna seus pesos treináveis."
      ]
    },
    {
      "cell_type": "code",
      "execution_count": null,
      "metadata": {
        "id": "ylLpRa7T5DDh"
      },
      "outputs": [],
      "source": [
        "def initialize_fn():\n",
        "  model = model_fn()\n",
        "  return model.trainable_variables"
      ]
    },
    {
      "cell_type": "markdown",
      "metadata": {
        "id": "nb1-XAK8fB2A"
      },
      "source": [
        "Essa função parece boa, mas, como você verá depois, é necessário fazer uma pequena modificação para transformá-la em uma \"computação do TFF\".\n",
        "\n",
        "Em seguida, vamos escrever um esboço da `next_fn`."
      ]
    },
    {
      "cell_type": "code",
      "execution_count": null,
      "metadata": {
        "id": "IeHN-XLZfMso"
      },
      "outputs": [],
      "source": [
        "def next_fn(server_weights, federated_dataset):\n",
        "  # Broadcast the server weights to the clients.\n",
        "  server_weights_at_client = broadcast(server_weights)\n",
        "\n",
        "  # Each client computes their updated weights.\n",
        "  client_weights = client_update(federated_dataset, server_weights_at_client)\n",
        "\n",
        "  # The server averages these updates.\n",
        "  mean_client_weights = mean(client_weights)\n",
        "\n",
        "  # The server updates its model.\n",
        "  server_weights = server_update(mean_client_weights)\n",
        "\n",
        "  return server_weights"
      ]
    },
    {
      "cell_type": "markdown",
      "metadata": {
        "id": "uWXvjXPWeujU"
      },
      "source": [
        "Vamos focar na implementação desses quatro componentes separadamente. Primeiro, vamos nos concentrar nas partes que podem ser implementadas totalmente no TensorFlow, ou seja, os passos de atualização do cliente e do servidor.\n"
      ]
    },
    {
      "cell_type": "markdown",
      "metadata": {
        "id": "3yKS4VkALo8g"
      },
      "source": [
        "## Blocos do TensorFlow "
      ]
    },
    {
      "cell_type": "markdown",
      "metadata": {
        "id": "bxpNYucgLo8g"
      },
      "source": [
        "### Atualização do cliente\n",
        "\n",
        "O `tff.learning.models.VariableModel` pode ser usado para fazer o treinamento do cliente basicamente da mesma forma que o treinamento de um modelo do TensorFlow. Especificamente, é possível usar uma `tf.GradientTape` para computar o gradiente em lotes de dados e aplicar esse gradiente usando um `client_optimizer`. Isso só envolve os pesos treináveis.\n"
      ]
    },
    {
      "cell_type": "code",
      "execution_count": null,
      "metadata": {
        "id": "c5rHPKreLo8g"
      },
      "outputs": [],
      "source": [
        "@tf.function\n",
        "def client_update(model, dataset, server_weights, client_optimizer):\n",
        "  \"\"\"Performs training (using the server model weights) on the client's dataset.\"\"\"\n",
        "  # Initialize the client model with the current server weights.\n",
        "  client_weights = model.trainable_variables\n",
        "  # Assign the server weights to the client model.\n",
        "  tf.nest.map_structure(lambda x, y: x.assign(y),\n",
        "                        client_weights, server_weights)\n",
        "\n",
        "  # Use the client_optimizer to update the local model.\n",
        "  for batch in dataset:\n",
        "    with tf.GradientTape() as tape:\n",
        "      # Compute a forward pass on the batch of data\n",
        "      outputs = model.forward_pass(batch)\n",
        "\n",
        "    # Compute the corresponding gradient\n",
        "    grads = tape.gradient(outputs.loss, client_weights)\n",
        "    grads_and_vars = zip(grads, client_weights)\n",
        "\n",
        "    # Apply the gradient using a client optimizer.\n",
        "    client_optimizer.apply_gradients(grads_and_vars)\n",
        "\n",
        "  return client_weights"
      ]
    },
    {
      "cell_type": "markdown",
      "metadata": {
        "id": "pP0D9XtoLo8i"
      },
      "source": [
        "### Atualização do servidor\n",
        "\n",
        "A atualização do servidor para o cálculo federado de médias é mais simples do que a atualização do cliente. Este tutorial implementa o cálculo federado de médias comum, em que os pesos do modelo do servidor são substituídos pela média dos pesos do modelo do cliente. Novamente, só são usados os pesos treináveis."
      ]
    },
    {
      "cell_type": "code",
      "execution_count": null,
      "metadata": {
        "id": "rYxErLvHLo8i"
      },
      "outputs": [],
      "source": [
        "@tf.function\n",
        "def server_update(model, mean_client_weights):\n",
        "  \"\"\"Updates the server model weights as the average of the client model weights.\"\"\"\n",
        "  model_weights = model.trainable_variables\n",
        "  # Assign the mean client weights to the server model.\n",
        "  tf.nest.map_structure(lambda x, y: x.assign(y),\n",
        "                        model_weights, mean_client_weights)\n",
        "  return model_weights"
      ]
    },
    {
      "cell_type": "markdown",
      "metadata": {
        "id": "ddCklfWlVr1U"
      },
      "source": [
        "O fragmento pode ser simplificado ao apenas retornar `mean_client_weights`. No entanto, implementações mais avançadas do cálculo federado de médias usam `mean_client_weights` com técnicas mais sofisticadas, como momento ou adaptabilidade.\n",
        "\n",
        "**Desafio**: implementar uma versão de `server_update` que atualiza os pesos do servidor para o ponto médio de model_weights e mean_client_weights. (Observação: essa abordagem de \"ponto médio\" é análoga ao trabalho recente sobre o [otimizador Lookahead](https://arxiv.org/abs/1907.08610)!)."
      ]
    },
    {
      "cell_type": "markdown",
      "metadata": {
        "id": "KuP9g6RFLo8k"
      },
      "source": [
        "Até agora, só foi utilizado código TensorFlow. Isso é intencional, já que o TTF permite usar grande parte do código TensorFlow com que você já está familiarizado. Em seguida, é preciso especificar a **lógica de orquestração**, ou seja, a lógica que dita o que o servidor transmite ao cliente e o que o cliente carrega no servidor.\n",
        "\n",
        "Isso requer o *Federated Core* do TFF."
      ]
    },
    {
      "cell_type": "markdown",
      "metadata": {
        "id": "0CgFLVPgLo8l"
      },
      "source": [
        "# Introdução ao Federated Core\n",
        "\n",
        "O Federated Core (FC) é um conjunto de interfaces de nível inferior que serve como a base da API `tff.learning`. Porém, essas interfaces não estão limitadas ao aprendizado. De fato, podem ser usadas para análises e muitas outras computações de dados distribuídos.\n",
        "\n",
        "Em um alto nível, o federated core é um ambiente de desenvolvimento que permite uma lógica de programa expressa de maneira compacta para combinar o código TensorFlow com operadores de comunicação distribuída (como somas e transmissões distribuídas). O objetivo é fornecer aos pesquisadores e usuários controle explícito da comunicação distribuída em seus sistemas, sem exigir detalhes da implementação do sistema (como especificar trocas de mensagens da rede ponto a ponto).\n",
        "\n",
        "Um ponto fundamental é que o TFF foi criado para preservar a privacidade. Portanto, ele permite o controle explícito de onde os dados ficam, para evitar o acúmulo indesejado de dados no servidor centralizado."
      ]
    },
    {
      "cell_type": "markdown",
      "metadata": {
        "id": "EYinjNqZLo8l"
      },
      "source": [
        "## Dados federados\n",
        "\n",
        "Um conceito importante no TFF são os \"dados federados\", que são uma coleção de itens de dados hospedados em grupo de dispositivos de um sistema distribuído (por exemplo, datasets do cliente ou pesos do modelo do servidor). A coleção inteira de valores em todos os dispositivos é representada como um único *valor federado*.\n",
        "\n",
        "Por exemplo, suponha que cada dispositivo do cliente tenha um float representando a temperatura de um sensor. Esses floats podem ser representados como um *float federado* assim:"
      ]
    },
    {
      "cell_type": "code",
      "execution_count": null,
      "metadata": {
        "id": "7EJY0MHpLo8l"
      },
      "outputs": [],
      "source": [
        "federated_float_on_clients = tff.FederatedType(tf.float32, tff.CLIENTS)"
      ]
    },
    {
      "cell_type": "markdown",
      "metadata": {
        "id": "JSQAXD0FLo8n"
      },
      "source": [
        "Os tipos federados são especificados por um tipo `T` dos seus membros constituintes (por exemplo, `tf.float32`) e um grupo `G` de dispositivos. Geralmente, `G` é `tff.CLIENTS` ou `tff.SERVER`. Um tipo federado assim é representado como `{T}@G`, conforme exibido abaixo."
      ]
    },
    {
      "cell_type": "code",
      "execution_count": null,
      "metadata": {
        "id": "6mlPgubJLo8n"
      },
      "outputs": [
        {
          "data": {
            "application/vnd.google.colaboratory.intrinsic+json": {
              "type": "string"
            },
            "text/plain": [
              "'{float32}@CLIENTS'"
            ]
          },
          "execution_count": 12,
          "metadata": {
            "tags": []
          },
          "output_type": "execute_result"
        }
      ],
      "source": [
        "str(federated_float_on_clients)"
      ]
    },
    {
      "cell_type": "markdown",
      "metadata": {
        "id": "pjAQytkeLo8o"
      },
      "source": [
        "Por que as colocações são tão importantes para o TFF? Um objetivo principal do TFF é permitir a escrita de código que possa ser implementado em um sistema distribuído real. Por isso, é essencial pensar sobre quais subconjuntos de dispositivos executam qual código e onde os diferentes conjuntos de dados ficam.\n",
        "\n",
        "O TFF foca em três aspectos: *dados*, onde os dados são *colocados* e como os dados são *transformados*. Os dois primeiros são encapsulados em tipos federados, enquanto o último é encapsulado em *computações federadas*."
      ]
    },
    {
      "cell_type": "markdown",
      "metadata": {
        "id": "ZLT2FmVMLo8p"
      },
      "source": [
        "## Computações federadas"
      ]
    },
    {
      "cell_type": "markdown",
      "metadata": {
        "id": "-XwDC1vTLo8p"
      },
      "source": [
        "O TFF é um ambiente de programação funcional fortemente tipado, cujas unidades básicas são *computações federadas*. Elas são partes de lógica que recebem valores federados como entrada e retornam valores federados como saída.\n",
        "\n",
        "Por exemplo, suponha que você queira fazer a média das temperaturas dos sensores do cliente. Você pode definir o seguinte (usando nosso float federado):"
      ]
    },
    {
      "cell_type": "code",
      "execution_count": null,
      "metadata": {
        "id": "IfwXDNR1Lo8p"
      },
      "outputs": [],
      "source": [
        "@tff.federated_computation(tff.FederatedType(tf.float32, tff.CLIENTS))\n",
        "def get_average_temperature(client_temperatures):\n",
        "  return tff.federated_mean(client_temperatures)"
      ]
    },
    {
      "cell_type": "markdown",
      "metadata": {
        "id": "iSgs6Te5Lo8r"
      },
      "source": [
        "Talvez você pergunte: como isso é diferente do decorador `tf.function` no TensorFlow? A resposta fundamental é que o código gerado por `tff.federated_computation` não é código TensorFlow nem Python, é uma especificação de um sistema distribuído em uma *linguagem glue* interna independente de plataforma.\n",
        "\n",
        "Embora isso possa parecer complicado, pense nas computações do TFF como funções com assinaturas de tipo bem definidas. Essas assinaturas de tipo podem ser consultadas diretamente."
      ]
    },
    {
      "cell_type": "code",
      "execution_count": null,
      "metadata": {
        "id": "mVq500KzG2mB"
      },
      "outputs": [
        {
          "data": {
            "application/vnd.google.colaboratory.intrinsic+json": {
              "type": "string"
            },
            "text/plain": [
              "'({float32}@CLIENTS -> float32@SERVER)'"
            ]
          },
          "execution_count": 14,
          "metadata": {
            "tags": []
          },
          "output_type": "execute_result"
        }
      ],
      "source": [
        "str(get_average_temperature.type_signature)"
      ]
    },
    {
      "cell_type": "markdown",
      "metadata": {
        "id": "TveOYFfuLo8s"
      },
      "source": [
        "`tff.federated_computation` recebe argumentos do tipo federado `<float>@CLIENTS` e retorna valores do tipo federado `<float>@SERVER`. As computações federadas também podem ir de servidor a cliente, de cliente a cliente e de servidor a servidor. As computações federadas também podem ser compostas como funções normais, desde que as assinaturas de tipo coincidam.\n",
        "\n",
        "Para dar suporte ao desenvolvimento, o TFF permite invocar uma `tff.federated_computation` como uma função Python. Por exemplo, você pode chamar:"
      ]
    },
    {
      "cell_type": "code",
      "execution_count": null,
      "metadata": {
        "id": "PTowUHohG2mB"
      },
      "outputs": [
        {
          "data": {
            "text/plain": [
              "69.53334"
            ]
          },
          "execution_count": 15,
          "metadata": {
            "tags": []
          },
          "output_type": "execute_result"
        }
      ],
      "source": [
        "get_average_temperature([68.5, 70.3, 69.8])"
      ]
    },
    {
      "cell_type": "markdown",
      "metadata": {
        "id": "ZXn-yje9RJ6H"
      },
      "source": [
        "## Computações não eager e o TensorFlow"
      ]
    },
    {
      "cell_type": "markdown",
      "metadata": {
        "id": "nwyj8f3HLo8w"
      },
      "source": [
        "É preciso ter em mente duas restrições importantes. Primeiro, quando o interpretador Python encontra um decorador `tff.federated_computation`, é feito um único tracing da função e a serialização dela para uso futuro. Devido à natureza descentralizada do aprendizado federado, esse uso futuro pode ocorrer em outro lugar, como um ambiente de execução remota. Portanto, as computações do TFF são fundamentalmente *não eager*. Esse comportamento é de certa forma análogo ao do decorador [`tf.function`](https://www.tensorflow.org/api_docs/python/tf/function) no TensorFlow.\n",
        "\n",
        "Segundo, uma computação federada pode consistir somente de operadores federados (como `tff.federated_mean`), que não podem conter operações do TensorFlow. O código TensorFlow precisa estar confinado aos blocos decorados com `tff.tf_computation`. A maior parte do código comum do TensorFlow pode ser decorado diretamente, como a seguinte função que recebe um número e adiciona `0.5` a ele."
      ]
    },
    {
      "cell_type": "code",
      "execution_count": null,
      "metadata": {
        "id": "huz3mNmMLo8w"
      },
      "outputs": [],
      "source": [
        "@tff.tf_computation(tf.float32)\n",
        "def add_half(x):\n",
        "  return tf.add(x, 0.5)"
      ]
    },
    {
      "cell_type": "markdown",
      "metadata": {
        "id": "5ptjWALDLo8y"
      },
      "source": [
        "Também há assinaturas de tipo, mas *sem colocações*. Por exemplo, você pode chamar:"
      ]
    },
    {
      "cell_type": "code",
      "execution_count": null,
      "metadata": {
        "id": "34x5H2hzG2mC"
      },
      "outputs": [
        {
          "data": {
            "application/vnd.google.colaboratory.intrinsic+json": {
              "type": "string"
            },
            "text/plain": [
              "'(float32 -> float32)'"
            ]
          },
          "execution_count": 17,
          "metadata": {
            "tags": []
          },
          "output_type": "execute_result"
        }
      ],
      "source": [
        "str(add_half.type_signature)"
      ]
    },
    {
      "cell_type": "markdown",
      "metadata": {
        "id": "WNjwrNMjLo8z"
      },
      "source": [
        "Isso mostra uma diferença importante entre `tff.federated_computation` e `tff.tf_computation`. O primeiro tem colocações explícitas, enquanto o segundo, não.\n",
        "\n",
        "Você pode usar blocos de `tff.tf_computation` nas computações federadas com a especificação de colocações. Vamos criar uma função que adicione a metade, mas somente a floats federados nos clientes. Você pode fazer isso usando `tff.federated_map`, que aplica uma determinada `tff.tf_computation`, preservando a colocação."
      ]
    },
    {
      "cell_type": "code",
      "execution_count": null,
      "metadata": {
        "id": "pG6nw3wiLo80"
      },
      "outputs": [],
      "source": [
        "@tff.federated_computation(tff.FederatedType(tf.float32, tff.CLIENTS))\n",
        "def add_half_on_clients(x):\n",
        "  return tff.federated_map(add_half, x)"
      ]
    },
    {
      "cell_type": "markdown",
      "metadata": {
        "id": "h4msKRKJLo81"
      },
      "source": [
        "Essa função é quase idêntica a `add_half`, exceto que recebe somente valores com colocação em `tff.CLIENTS` e retorna valores com a mesma colocação. É possível ver isso em sua assinatura de tipo:"
      ]
    },
    {
      "cell_type": "code",
      "execution_count": null,
      "metadata": {
        "id": "x3H-oeWIG2mC"
      },
      "outputs": [
        {
          "data": {
            "application/vnd.google.colaboratory.intrinsic+json": {
              "type": "string"
            },
            "text/plain": [
              "'({float32}@CLIENTS -> {float32}@CLIENTS)'"
            ]
          },
          "execution_count": 19,
          "metadata": {
            "tags": []
          },
          "output_type": "execute_result"
        }
      ],
      "source": [
        "str(add_half_on_clients.type_signature)"
      ]
    },
    {
      "cell_type": "markdown",
      "metadata": {
        "id": "3JxQ0DeiLo83"
      },
      "source": [
        "Resumindo:\n",
        "\n",
        "- O TFF faz operações em valores federados.\n",
        "- Cada valor federado tem um *tipo federado*, com um *tipo* (por exemplo, `tf.float32`) e uma *colocação* (por exemplo, `tff.CLIENTS`).\n",
        "- Os valores federados podem ser transformados usando-se *computações federadas*, que devem ser decoradas com `tff.federated_computation`, e uma assinatura de tipo federado.\n",
        "- O código TensorFlow deve ficar contido em blocos com decoradores `tff.tf_computation`.\n",
        "- Esses blocos podem ser incorporados às computações federadas.\n"
      ]
    },
    {
      "cell_type": "markdown",
      "metadata": {
        "id": "PvyFWox3Lo83"
      },
      "source": [
        "# Crie seu próprio algoritmo de aprendizado federado: revisitado\n",
        "\n",
        "Agora que você teve uma breve visão do Federated Core, pode criar seu próprio algoritmo de aprendizado federado. Lembre-se de que definimos acima funções `initialize_fn` e `next_fn` para o algoritmo. A `next_fn` utiliza `client_update` e `server_update` que definimos usando código puro do TensorFlow.\n",
        "\n",
        "Porém, para fazer do algoritmo uma computação federada, ambas as funções `next_fn` e `initialize_fn` precisam ser uma `tff.federated_computation`."
      ]
    },
    {
      "cell_type": "markdown",
      "metadata": {
        "id": "CvY8fh1cLo84"
      },
      "source": [
        "## Blocos do TensorFlow Federated "
      ]
    },
    {
      "cell_type": "markdown",
      "metadata": {
        "id": "g0zNTO7LLo84"
      },
      "source": [
        "### Crie a computação de inicialização\n",
        "\n",
        "A função de inicialização será bem simples: você criará um modelo usando `model_fn`. Porém, lembre-se de que é preciso separar o código TensorFlow usando `tff.tf_computation`."
      ]
    },
    {
      "cell_type": "code",
      "execution_count": null,
      "metadata": {
        "id": "jJY9xUBZLo84"
      },
      "outputs": [],
      "source": [
        "@tff.tf_computation\n",
        "def server_init():\n",
        "  model = model_fn()\n",
        "  return model.trainable_variables"
      ]
    },
    {
      "cell_type": "markdown",
      "metadata": {
        "id": "SGlv8LLgLo85"
      },
      "source": [
        "Em seguida, você pode passá-la diretamente para uma computação federada usando `tff.federated_value`."
      ]
    },
    {
      "cell_type": "code",
      "execution_count": null,
      "metadata": {
        "id": "m2hinzuRLo86"
      },
      "outputs": [],
      "source": [
        "@tff.federated_computation\n",
        "def initialize_fn():\n",
        "  return tff.federated_value(server_init(), tff.SERVER)"
      ]
    },
    {
      "cell_type": "markdown",
      "metadata": {
        "id": "NFBghOgxLo88"
      },
      "source": [
        "### Crie a `next_fn`\n",
        "\n",
        "Agora é possível usar o código de atualização do cliente e do servidor para escrever o algoritmo em si. Primeiro, transforme `client_update` em uma `tff.tf_computation` que receba datasets do cliente e pesos do servidor e gere como saída um tensor de pesos do cliente atualizados.\n",
        "\n",
        "Você precisará dos tipos correspondentes para decorar corretamente a função. Felizmente, o tipo dos pesos do servidor pode ser extraído diretamente do modelo."
      ]
    },
    {
      "cell_type": "code",
      "execution_count": null,
      "metadata": {
        "id": "ph_noHN2Lo88"
      },
      "outputs": [],
      "source": [
        "whimsy_model = model_fn()\n",
        "tf_dataset_type = tff.SequenceType(whimsy_model.input_spec)"
      ]
    },
    {
      "cell_type": "markdown",
      "metadata": {
        "id": "WMPgpTaW66qx"
      },
      "source": [
        "Vamos conferir a assinatura de tipo do dataset. Lembre-se de que você pegou imagens 28 x 28 (com rótulos inteiros) e as achatou."
      ]
    },
    {
      "cell_type": "code",
      "execution_count": null,
      "metadata": {
        "id": "GE2sYVA9G2mE"
      },
      "outputs": [
        {
          "data": {
            "application/vnd.google.colaboratory.intrinsic+json": {
              "type": "string"
            },
            "text/plain": [
              "'<float32[?,784],int32[?,1]>*'"
            ]
          },
          "execution_count": 23,
          "metadata": {
            "tags": []
          },
          "output_type": "execute_result"
        }
      ],
      "source": [
        "str(tf_dataset_type)"
      ]
    },
    {
      "cell_type": "markdown",
      "metadata": {
        "id": "kuS8d0BHLo8-"
      },
      "source": [
        "Também é possível extrair o tipo de pesos do modelo usando a função `server_init` acima."
      ]
    },
    {
      "cell_type": "code",
      "execution_count": null,
      "metadata": {
        "id": "4yx6CExMLo8-"
      },
      "outputs": [],
      "source": [
        "model_weights_type = server_init.type_signature.result"
      ]
    },
    {
      "cell_type": "markdown",
      "metadata": {
        "id": "mS-Eh6Xj7J15"
      },
      "source": [
        "Ao avaliar a assinatura de tipos, você poderá ver a arquitetura do modelo."
      ]
    },
    {
      "cell_type": "code",
      "execution_count": null,
      "metadata": {
        "id": "_s8eFsyvG2mE"
      },
      "outputs": [
        {
          "data": {
            "application/vnd.google.colaboratory.intrinsic+json": {
              "type": "string"
            },
            "text/plain": [
              "'<float32[784,10],float32[10]>'"
            ]
          },
          "execution_count": 25,
          "metadata": {
            "tags": []
          },
          "output_type": "execute_result"
        }
      ],
      "source": [
        "str(model_weights_type)"
      ]
    },
    {
      "cell_type": "markdown",
      "metadata": {
        "id": "g1U1wTGRLo8_"
      },
      "source": [
        "Agora, crie a `tff.tf_computation` para a atualização do cliente."
      ]
    },
    {
      "cell_type": "code",
      "execution_count": null,
      "metadata": {
        "id": "Q0W05pMWLo9A"
      },
      "outputs": [],
      "source": [
        "@tff.tf_computation(tf_dataset_type, model_weights_type)\n",
        "def client_update_fn(tf_dataset, server_weights):\n",
        "  model = model_fn()\n",
        "  client_optimizer = tf.keras.optimizers.SGD(learning_rate=0.01)\n",
        "  return client_update(model, tf_dataset, server_weights, client_optimizer)"
      ]
    },
    {
      "cell_type": "markdown",
      "metadata": {
        "id": "uP5quaAuLo9B"
      },
      "source": [
        "A versão de `tff.tf_computation` da atualização do servidor pode ser definida de forma similar, usando os tipos que você já extraiu."
      ]
    },
    {
      "cell_type": "code",
      "execution_count": null,
      "metadata": {
        "id": "F4WvQtVzLo9B"
      },
      "outputs": [],
      "source": [
        "@tff.tf_computation(model_weights_type)\n",
        "def server_update_fn(mean_client_weights):\n",
        "  model = model_fn()\n",
        "  return server_update(model, mean_client_weights)"
      ]
    },
    {
      "cell_type": "markdown",
      "metadata": {
        "id": "SImhLbu4Lo9D"
      },
      "source": [
        "Por último, mas não menos importante, você precisa criar a `tff.federated_computation` que junta tudo isso. Essa função receberá dois *valores federados*, um correspondente aos pesos do servidor (com a colocação `tff.SERVER`) e outro correspondente aos datasets do cliente (com a colocação `tff.CLIENTS`).\n",
        "\n",
        "Esses dois tipos foram definidos acima. Você só precisa definir a colocação correta para eles usando `tff.FederatedType`."
      ]
    },
    {
      "cell_type": "code",
      "execution_count": null,
      "metadata": {
        "id": "ekPsA8AsLo9D"
      },
      "outputs": [],
      "source": [
        "federated_server_type = tff.FederatedType(model_weights_type, tff.SERVER)\n",
        "federated_dataset_type = tff.FederatedType(tf_dataset_type, tff.CLIENTS)"
      ]
    },
    {
      "cell_type": "markdown",
      "metadata": {
        "id": "7FXAX7vGLo9G"
      },
      "source": [
        "Lembra-se dos quatro elementos de um algoritmo de aprendizado federado?\n",
        "\n",
        "1. Um passo de transmissão do servidor para o cliente.\n",
        "2. Um passo de atualização do cliente local.\n",
        "3. Um passo de upload do cliente para o servidor.\n",
        "4. Um passo de atualização do servidor.\n",
        "\n",
        "Agora que você construiu tudo isso, cada parte pode ser representada compactamente como uma única linha de código do TFF. É por essa simplicidade que você tomou cuidado redobrado ao especificar os tipos federados."
      ]
    },
    {
      "cell_type": "code",
      "execution_count": null,
      "metadata": {
        "id": "Epc7MwfELo9G"
      },
      "outputs": [],
      "source": [
        "@tff.federated_computation(federated_server_type, federated_dataset_type)\n",
        "def next_fn(server_weights, federated_dataset):\n",
        "  # Broadcast the server weights to the clients.\n",
        "  server_weights_at_client = tff.federated_broadcast(server_weights)\n",
        "\n",
        "  # Each client computes their updated weights.\n",
        "  client_weights = tff.federated_map(\n",
        "      client_update_fn, (federated_dataset, server_weights_at_client))\n",
        "  \n",
        "  # The server averages these updates.\n",
        "  mean_client_weights = tff.federated_mean(client_weights)\n",
        "\n",
        "  # The server updates its model.\n",
        "  server_weights = tff.federated_map(server_update_fn, mean_client_weights)\n",
        "\n",
        "  return server_weights"
      ]
    },
    {
      "cell_type": "markdown",
      "metadata": {
        "id": "kWomG3TtLo9I"
      },
      "source": [
        "Agora você tem uma `tff.federated_computation` para o algoritmo de inicialização e para a execução de um passo do algoritmo. Para finalizar o algoritmo, passe-as para `tff.templates.IterativeProcess`."
      ]
    },
    {
      "cell_type": "code",
      "execution_count": null,
      "metadata": {
        "id": "GxdWgEddLo9I"
      },
      "outputs": [],
      "source": [
        "federated_algorithm = tff.templates.IterativeProcess(\n",
        "    initialize_fn=initialize_fn,\n",
        "    next_fn=next_fn\n",
        ")"
      ]
    },
    {
      "cell_type": "markdown",
      "metadata": {
        "id": "7Z__9k-Dc1I3"
      },
      "source": [
        "Vamos conferir a *assinatura de tipo* das funções `initialize` e `next` do processo iterativo."
      ]
    },
    {
      "cell_type": "code",
      "execution_count": null,
      "metadata": {
        "id": "EmyYgDNdG2mF"
      },
      "outputs": [
        {
          "data": {
            "application/vnd.google.colaboratory.intrinsic+json": {
              "type": "string"
            },
            "text/plain": [
              "'( -> <float32[784,10],float32[10]>@SERVER)'"
            ]
          },
          "execution_count": 31,
          "metadata": {
            "tags": []
          },
          "output_type": "execute_result"
        }
      ],
      "source": [
        "str(federated_algorithm.initialize.type_signature)"
      ]
    },
    {
      "cell_type": "markdown",
      "metadata": {
        "id": "UyyEi5Kec90_"
      },
      "source": [
        "Isso reflete o fato de `federated_algorithm.initialize` ser uma função sem argumentos que retorna um modelo de uma única camada (com uma matriz de pesos 784 por 10 e 10 unidades de bias)."
      ]
    },
    {
      "cell_type": "code",
      "execution_count": null,
      "metadata": {
        "id": "ZRwHwQsCG2mG"
      },
      "outputs": [
        {
          "data": {
            "application/vnd.google.colaboratory.intrinsic+json": {
              "type": "string"
            },
            "text/plain": [
              "'(<server_weights=<float32[784,10],float32[10]>@SERVER,federated_dataset={<float32[?,784],int32[?,1]>*}@CLIENTS> -> <float32[784,10],float32[10]>@SERVER)'"
            ]
          },
          "execution_count": 32,
          "metadata": {
            "tags": []
          },
          "output_type": "execute_result"
        }
      ],
      "source": [
        "str(federated_algorithm.next.type_signature)"
      ]
    },
    {
      "cell_type": "markdown",
      "metadata": {
        "id": "efpdHodmdU_6"
      },
      "source": [
        "Aqui, é possível ver que `federated_algorithm.next` recebe um modelo do servidor e dados do cliente e retorna um modelo do servidor atualizado."
      ]
    },
    {
      "cell_type": "markdown",
      "metadata": {
        "id": "4UYZ3qeMLo9N"
      },
      "source": [
        "## Avalie o algoritmo"
      ]
    },
    {
      "cell_type": "markdown",
      "metadata": {
        "id": "jwd9Gs0ULo9O"
      },
      "source": [
        "Vamos executar algumas rodadas e ver como a perda muda. Primeiro, defina uma função de avaliação usando a estratégia *centralizada* discutida no segundo tutorial.\n",
        "\n",
        "Primeiro, crie um dataset de avaliação centralizado e depois aplique o mesmo pré-processamento usado para os dados de treinamento."
      ]
    },
    {
      "cell_type": "code",
      "execution_count": null,
      "metadata": {
        "id": "EdNgYoIwLo9P"
      },
      "outputs": [],
      "source": [
        "central_emnist_test = emnist_test.create_tf_dataset_from_all_clients()\n",
        "central_emnist_test = preprocess(central_emnist_test)"
      ]
    },
    {
      "cell_type": "markdown",
      "metadata": {
        "id": "7R50NZ35dphE"
      },
      "source": [
        "Em seguida, escreva uma função que receba um estado do servidor e use o Keras para avaliar com o dataset de teste. Se você já conhece o `tf.Keras`, reconhecerá este código, exceto pelo uso de `set_weights`."
      ]
    },
    {
      "cell_type": "code",
      "execution_count": null,
      "metadata": {
        "id": "I5UEX4EWLo9Q"
      },
      "outputs": [],
      "source": [
        "def evaluate(server_state):\n",
        "  keras_model = create_keras_model()\n",
        "  keras_model.compile(\n",
        "      loss=tf.keras.losses.SparseCategoricalCrossentropy(),\n",
        "      metrics=[tf.keras.metrics.SparseCategoricalAccuracy()]  \n",
        "  )\n",
        "  keras_model.set_weights(server_state)\n",
        "  keras_model.evaluate(central_emnist_test)"
      ]
    },
    {
      "cell_type": "markdown",
      "metadata": {
        "id": "hygoBACkLo9S"
      },
      "source": [
        "Agora, vamos inicializar o algoritmo e avaliar com o dataset de teste."
      ]
    },
    {
      "cell_type": "code",
      "execution_count": null,
      "metadata": {
        "id": "CDarZn71G2mH"
      },
      "outputs": [
        {
          "name": "stdout",
          "output_type": "stream",
          "text": [
            "2042/2042 [==============================] - 2s 767us/step - loss: 2.8479 - sparse_categorical_accuracy: 0.1027\n"
          ]
        }
      ],
      "source": [
        "server_state = federated_algorithm.initialize()\n",
        "evaluate(server_state)"
      ]
    },
    {
      "cell_type": "markdown",
      "metadata": {
        "id": "2knqix2cLo9U"
      },
      "source": [
        "Vamos treinar por algumas rodadas e ver se algo muda."
      ]
    },
    {
      "cell_type": "code",
      "execution_count": null,
      "metadata": {
        "id": "v1zBlzFILo9U"
      },
      "outputs": [],
      "source": [
        "for round in range(15):\n",
        "  server_state = federated_algorithm.next(server_state, federated_train_data)"
      ]
    },
    {
      "cell_type": "code",
      "execution_count": null,
      "metadata": {
        "id": "2QDhaI_DG2mH"
      },
      "outputs": [
        {
          "name": "stdout",
          "output_type": "stream",
          "text": [
            "2042/2042 [==============================] - 2s 738us/step - loss: 2.5867 - sparse_categorical_accuracy: 0.0980\n"
          ]
        }
      ],
      "source": [
        "evaluate(server_state)"
      ]
    },
    {
      "cell_type": "markdown",
      "metadata": {
        "id": "XM34ammUW-T3"
      },
      "source": [
        "Há uma pequena diminuição na função de perda. Embora a mudança seja pequena, você só realizou 15 rodadas de treinamento com um subconjunto de clientes pequeno. Para obter resultados melhores, talvez seja necessário fazer centenas ou milhares de rodadas."
      ]
    },
    {
      "cell_type": "markdown",
      "metadata": {
        "id": "o13H5dDFXRFn"
      },
      "source": [
        "## Modifique o algoritmo"
      ]
    },
    {
      "cell_type": "markdown",
      "metadata": {
        "id": "Qt4jVD21XTL-"
      },
      "source": [
        "Agora, vamos parar e pensar no que foi feito. Você implementou o cálculo federado de médias diretamente pela combinação de código puro TensorFlow (para as atualizações do servidor e do cliente) com computações federadas usando o Federated Core do TFF.\n",
        "\n",
        "Para fazer um aprendizado mais sofisticado, basta alterar o que está acima. Especificamente, ao editar o código puro TF acima, é possível mudar como o cliente faz o treinamento ou como o servidor atualiza seu modelo.\n",
        "\n",
        "**Desafio:** acrescente o [recorte de gradiente](https://towardsdatascience.com/what-is-gradient-clipping-b8e815cdfb48) à função `client_update`.\n"
      ]
    },
    {
      "cell_type": "markdown",
      "metadata": {
        "id": "p7wvwgS7bCTy"
      },
      "source": [
        "Para alterações maiores, é possível fazer com que o servidor armazene e transmita mais dados. Por exemplo, o servidor pode armazenar a taxa de aprendizado do cliente e fazer com que ela decaia com o passar do tempo. No entanto, isso exige mudanças nas assinaturas de tipo usadas nas chamadas de `tff.tf_computation` acima.\n",
        "\n",
        "**Desafio mais difícil:** implemente o cálculo federado de médias com o decaimento da taxa de aprendizado nos clientes.\n",
        "\n",
        "Aqui, talvez você comece a perceber a flexibilidade em relação ao que é possível implementar nesse framework. Para ideias (incluindo a resposta do desafio mais difícil acima), veja o código-fonte de [`tff.learning.algorithms.build_weighted_fed_avg`](https://www.tensorflow.org/federated/api_docs/python/tff/learning/algorithms/build_weighted_fed_avg) ou confira os diversos [projetos de pesquisa](https://github.com/google-research/federated) que usam o TFF."
      ]
    }
  ],
  "metadata": {
    "colab": {
      "collapsed_sections": [],
      "name": "building_your_own_federated_learning_algorithm.ipynb",
      "toc_visible": true
    },
    "kernelspec": {
      "display_name": "Python 3",
      "name": "python3"
    }
  },
  "nbformat": 4,
  "nbformat_minor": 0
}
