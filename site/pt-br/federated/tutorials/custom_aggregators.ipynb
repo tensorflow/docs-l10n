{
  "cells": [
    {
      "cell_type": "markdown",
      "metadata": {
        "id": "a930wM_fqUNH"
      },
      "source": [
        "##### Copyright 2021 The TensorFlow Federated Authors."
      ]
    },
    {
      "cell_type": "code",
      "execution_count": null,
      "metadata": {
        "cellView": "form",
        "id": "VxVUPYkahDa6"
      },
      "outputs": [],
      "source": [
        "#@title Licensed under the Apache License, Version 2.0 (the \"License\");\n",
        "# you may not use this file except in compliance with the License.\n",
        "# You may obtain a copy of the License at\n",
        "#\n",
        "# https://www.apache.org/licenses/LICENSE-2.0\n",
        "#\n",
        "# Unless required by applicable law or agreed to in writing, software\n",
        "# distributed under the License is distributed on an \"AS IS\" BASIS,\n",
        "# WITHOUT WARRANTIES OR CONDITIONS OF ANY KIND, either express or implied.\n",
        "# See the License for the specific language governing permissions and\n",
        "# limitations under the License."
      ]
    },
    {
      "cell_type": "markdown",
      "metadata": {
        "id": "j-y8GPCrZ--r"
      },
      "source": [
        "# Implementando agregações personalizadas"
      ]
    },
    {
      "cell_type": "markdown",
      "metadata": {
        "id": "4jM4S9YFXamd"
      },
      "source": [
        "<table class=\"tfo-notebook-buttons\" align=\"left\">\n",
        "  <td>     <a target=\"_blank\" href=\"https://www.tensorflow.org/federated/tutorials/custom_aggregators\"><img src=\"https://www.tensorflow.org/images/tf_logo_32px.png\">Ver em TensorFlow.org</a>\n",
        "</td>\n",
        "  <td>     <a target=\"_blank\" href=\"https://colab.research.google.com/github/tensorflow/docs-l10n/blob/master/site/pt-br/federated/tutorials/custom_aggregators.ipynb\"><img src=\"https://www.tensorflow.org/images/colab_logo_32px.png\">Executar no Google Colab</a>\n",
        "</td>\n",
        "  <td>     <a target=\"_blank\" href=\"https://github.com/tensorflow/docs-l10n/blob/master/site/pt-br/federated/tutorials/custom_aggregators.ipynb\"><img src=\"https://www.tensorflow.org/images/GitHub-Mark-32px.png\">Ver fonte no GitHub</a>\n",
        "</td>\n",
        "  <td>     <a href=\"https://storage.googleapis.com/tensorflow_docs/docs-l10n/site/pt-br/federated/tutorials/custom_aggregators.ipynb\"><img src=\"https://www.tensorflow.org/images/download_logo_32px.png\">Baixar notebook</a>\n",
        "</td>\n",
        "</table>"
      ]
    },
    {
      "cell_type": "markdown",
      "metadata": {
        "id": "xcrxeoeXaWJC"
      },
      "source": [
        "Neste tutorial, explicamos os princípios de design por trás do módulo `tff.aggregators` e práticas recomendadas para implementar a agregação personalizada de valores dos clientes para o servidor.\n",
        "\n",
        "**Pré-requisitos.** Este tutorial presume que você já está familiarizado com os conceitos básicos do [Federated Core](https://www.tensorflow.org/federated/federated_core), como colocações (`tff.SERVER`, `tff.CLIENTS`), a maneira como o TFF representa computações (`tff.tf_computation`, `tff.federated_computation`) e as assinaturas de tipo."
      ]
    },
    {
      "cell_type": "code",
      "execution_count": null,
      "metadata": {
        "id": "MJqkeeDphf38"
      },
      "outputs": [],
      "source": [
        "#@test {\"skip\": true}\n",
        "!pip install --quiet --upgrade tensorflow-federated"
      ]
    },
    {
      "cell_type": "markdown",
      "metadata": {
        "id": "_WbNgHj7aRzm"
      },
      "source": [
        "## Resumo do design"
      ]
    },
    {
      "cell_type": "markdown",
      "metadata": {
        "id": "essB1Vu0aXp1"
      },
      "source": [
        "No TFF, \"agregação\" se refere ao movimento de um conjunto de valores em `tff.CLIENTS` para produzir um valor agregado do mesmo tipo em `tff.SERVER`. Ou seja, cada valor de cliente individual não precisa estar disponível. Por exemplo, no aprendizado federado, é calculada a média das atualizações do modelo do cliente para obter uma atualização agregada e aplicar ao modelo global no servidor.\n",
        "\n",
        "Além de operadores que atingem esse objetivo, como `tff.federated_sum`, o TFF oferece o `tff.templates.AggregationProcess` (um [processo stateful](https://www.tensorflow.org/federated/federated_learning#modeling_state)) que formaliza a assinatura de tipo para a computação da agregação, de modo que possa generalizar para formas mais complexas do que uma simples soma.\n",
        "\n",
        "Os principais componentes do módulo `tff.aggregators` são *fábricas* para a criação do `AggregationProcess`, que são projetados para serem blocos básicos de utilidade geral substituíveis do TFF em dois aspectos:"
      ]
    },
    {
      "cell_type": "markdown",
      "metadata": {
        "id": "XmoO7KLSEAI3"
      },
      "source": [
        "1. *Computações parametrizadas.* A agregação é um bloco básico independente que pode ser ligado a outros módulos do TFF criados para funcionar com `tff.aggregators` para parametrizar a agregação necessária.\n",
        "\n",
        "Exemplo:\n"
      ]
    },
    {
      "cell_type": "markdown",
      "metadata": {
        "id": "SNs6eeLOEIS_"
      },
      "source": [
        "```\n",
        "learning_process = tff.learning.algorithms.build_weighted_fed_avg(\n",
        "    ...,\n",
        "    model_aggregator=tff.aggregators.MeanFactory())\n",
        "```"
      ]
    },
    {
      "cell_type": "markdown",
      "metadata": {
        "id": "nIXwjousD9XE"
      },
      "source": [
        "1. *Composição da agregação.* Um bloco básico de agregação pode ser composto com outros blocos básicos de agregação para criar agregações compostas mais complexas.\n",
        "\n",
        "Exemplo:"
      ]
    },
    {
      "cell_type": "markdown",
      "metadata": {
        "id": "h94jEnY1bmhZ"
      },
      "source": [
        "```\n",
        "secure_mean = tff.aggregators.MeanFactory(\n",
        "    value_sum_factory=tff.aggregators.SecureSumFactory(...))\n",
        "```"
      ]
    },
    {
      "cell_type": "markdown",
      "metadata": {
        "id": "hH87D2OJEaAA"
      },
      "source": [
        "O resto deste tutorial explica como esses dois objetivos são atingidos."
      ]
    },
    {
      "cell_type": "markdown",
      "metadata": {
        "id": "zUu7slQMfUX1"
      },
      "source": [
        "### Processo de agregação"
      ]
    },
    {
      "cell_type": "markdown",
      "metadata": {
        "id": "wLn76zvHaYUh"
      },
      "source": [
        "Primeira, resumimos o `tff.templates.AggregationProcess` e seguimos com o padrão de fábrica para a criação.\n",
        "\n",
        "O `tff.templates.AggregationProcess` é um `tff.templates.MeasuredProcess` com assinaturas de tipo especificadas para a agregação. Em especial, as funções `initialize` e `next` têm as seguintes assinaturas de tipo:\n",
        "\n",
        "- `( -&gt; state_type@SERVER)`\n",
        "- `(&lt;state_type@SERVER, {value_type}@CLIENTS, *&gt; -&gt; &lt;state_type@SERVER, value_type@SERVER, measurements_type@SERVER&gt;)`\n",
        "\n",
        "O estado (do tipo `state_type`) precisa ser colocado no servidor. A função `next` recebe como argumento de entrada o estado e um valor a ser agregado (do tipo `value_type`) colocado no cliente. O `*` significa outros argumentos de entrada opcionais, por exemplo, pesos em uma média ponderada. Ela retorna um objeto de estado atualizado, o valor agregado do mesmo tipo colocado no servidor e algumas medidas.\n",
        "\n",
        "Observe que ambos o estado que será passado entre as execuções da função `next` e as medidas relatadas, que devem relatar qualquer informação dependendo de uma execução específica da função `next`, podem estar vazios. Ainda assim, eles precisam ser especificados explicitamente para outras partes do TFF terem um contrato claro a seguir.\n",
        "\n",
        "Outros módulos do TFF, por exemplo, as atualizações do modelo em `tff.learning`, devem usar o `tff.templates.AggregationProcess` para parametrizar a forma como os valores são agregados. No entanto, os valores agregados exatos e as assinaturas de tipo deles dependem do treinamento de outros detalhes do modelo e do algoritmo de aprendizado usado para isso.\n",
        "\n",
        "Para tornar a agregação independente de outros aspectos computacionais, usamos  o padrão de fábrica — criamos o `tff.templates.AggregationProcess` apropriado depois que ficarem disponíveis as assinaturas de tipo relevantes dos objetos que serão agregados, invocando o método `create` de fábrica. Por isso, a manipulação direta do processo de agregação só é necessária para autores de biblioteca, que são responsáveis por essa criação."
      ]
    },
    {
      "cell_type": "markdown",
      "metadata": {
        "id": "dWoZQqpOgTv4"
      },
      "source": [
        "#### Fábricas de processos de agregação"
      ]
    },
    {
      "cell_type": "markdown",
      "metadata": {
        "id": "x6fh5D7jgXuX"
      },
      "source": [
        "Há duas classes de fábrica base abstratas para a agregação não ponderada e ponderada. O método `create` recebe as assinaturas de tipo do valor que será agregado e retorna um `tff.templates.AggregationProcess` para a agregação desses valores.\n",
        "\n",
        "O processo criado por `tff.aggregators.UnweightedAggregationFactory` aceita dois argumentos de entrada: (1) estado do servidor e (2) valor do tipo especificado `value_type`.\n",
        "\n",
        "Um exemplo de implementação é `tff.aggregators.SumFactory`.\n",
        "\n",
        "O processo criado por `tff.aggregators.WeightedAggregationFactory` aceita três argumentos de entrada: (1) estado do servidor, (2) valor do tipo especificado `value_type` e (3) peso do tipo `weight_type`, conforme especificado pelo usuário da fábrica ao invocar o método `create`.\n",
        "\n",
        "Um exemplo de implementação é `tff.aggregators.MeanFactory`, que calcula uma média ponderada.\n",
        "\n",
        "O padrão de fábrica é como alcançamos o primeiro objetivo declarado acima. Essa agregação é um bloco básico independente. Por exemplo, ao mudar as variáveis do modelo que são treináveis, uma agregação complexa não precisa mudar necessariamente. A fábrica que a representa será invocada com uma assinatura de tipo diferente quando usada por um método como `tff.learning.algorithms.build_weighted_fed_avg`."
      ]
    },
    {
      "cell_type": "markdown",
      "metadata": {
        "id": "I8k46_iLgfSu"
      },
      "source": [
        "### Composições\n"
      ]
    },
    {
      "cell_type": "markdown",
      "metadata": {
        "id": "ZZPXuhSkgonh"
      },
      "source": [
        "Lembre-se de que um processo de agregação geral pode encapsular (a) parte do pré-processamento dos valores nos clientes, (b) movimento dos valores do cliente para o servidor e (c) parte do pós-processamento do valor agregado no servidor. O segundo objetivo declarado acima, composição da agregação, é realizado dentro do módulo `tff.aggregators` ao estruturar a implementação das fábricas de agregação de modo que a parte (b) possa ser delegada para outra fábrica de agregação.\n",
        "\n",
        "Em vez de implementar toda a lógica necessária em uma única classe de fábrica, as implementações são, por padrão, focadas em um único aspecto relevante para agregação. Quando necessário, esse padrão permite a substituição de um bloco básico de cada vez.\n",
        "\n",
        "Um exemplo é a `tff.aggregators.MeanFactory` ponderada. Sua implementação multiplica os valores e pesos fornecidos nos clientes, soma ambos os valores ponderados e pesos independentemente e divide a soma dos valores ponderados pela soma dos pesos no servidor. Em vez de implementar as somatórias usando o operador `tff.federated_sum` diretamente, a somatória é delegada a duas instâncias de `tff.aggregators.SumFactory`.\n",
        "\n",
        "Essa estrutura possibilita a substituição de duas somatórias por fábricas diferentes, que realizam a soma de outra maneira. Por exemplo, uma `tff.aggregators.SecureSumFactory` ou uma implementação personalizada da `tff.aggregators.UnweightedAggregationFactory`. Por outro lado, `tff.aggregators.MeanFactory` pode ser uma agregação interna de outra fábrica, como `tff.aggregators.clipping_factory`, se os valores forem recortados antes de obter a média.\n",
        "\n",
        "Veja o tutorial [Tunagem de agregações recomendadas para aprendizado](tuning_recommended_aggregators.ipynb) anterior para conferir usos recomendados do mecanismo de composição com as fábricas existentes no módulo `tff.aggregators`."
      ]
    },
    {
      "cell_type": "markdown",
      "metadata": {
        "id": "jPk4ZRQuiq0W"
      },
      "source": [
        "## Práticas recomendadas por exemplo\n"
      ]
    },
    {
      "cell_type": "markdown",
      "metadata": {
        "id": "1G8Q-SLXQKIv"
      },
      "source": [
        "Vamos ilustrar os conceitos de `tff.aggregators` em detalhes ao implementar uma única tarefa simples de exemplo e torná-la cada vez mais geral. Outra maneira de aprender é analisar a implementação de fábricas existentes."
      ]
    },
    {
      "cell_type": "code",
      "execution_count": null,
      "metadata": {
        "id": "sJukNEVporAx"
      },
      "outputs": [],
      "source": [
        "import collections\n",
        "import tensorflow as tf\n",
        "import tensorflow_federated as tff"
      ]
    },
    {
      "cell_type": "markdown",
      "metadata": {
        "id": "kuWnjpo9k_yG"
      },
      "source": [
        "Em vez de somar `value`, a tarefa de exemplo é somar `value * 2.0` e dividir a soma por `2.0`. O resultado da agregação equivale matematicamente à somatória direta de `value`, e é possível pensar que consiste em três partes: (1) escalonamento nos clientes (2) somatório nos clientes (3) remoção do escalonamento no servidor."
      ]
    },
    {
      "cell_type": "markdown",
      "metadata": {
        "id": "qpDHHDYMlC1D"
      },
      "source": [
        "OBSERVAÇÃO: essa tarefa não é necessariamente útil na prática. Ainda assim, é útil ao explicar os conceitos subjacentes."
      ]
    },
    {
      "cell_type": "markdown",
      "metadata": {
        "id": "CJnGAYmVlE-I"
      },
      "source": [
        "Seguindo o design explicado acima, a lógica será implementada como uma subclasse de `tff.aggregators.UnweightedAggregationFactory`, que cria o `tff.templates.AggregationProcess` apropriado quando recebe um `value_type` para agregar:"
      ]
    },
    {
      "cell_type": "markdown",
      "metadata": {
        "id": "N-3YKg8klWP0"
      },
      "source": [
        "### Implementação mínima"
      ]
    },
    {
      "cell_type": "markdown",
      "metadata": {
        "id": "kIDclJTBlYDM"
      },
      "source": [
        "Para a tarefa de exemplo, as computações necessárias são sempre as mesmas, então não é necessário usar o estado. Por isso, ele está vazio e é representado como `tff.federated_value((), tff.SERVER)`. O mesmo se aplica às medidas, por enquanto.\n",
        "\n",
        "A implementação mínima da tarefa é a seguinte:\n"
      ]
    },
    {
      "cell_type": "code",
      "execution_count": null,
      "metadata": {
        "id": "ShzVITY4Bv8X"
      },
      "outputs": [],
      "source": [
        "class ExampleTaskFactory(tff.aggregators.UnweightedAggregationFactory):\n",
        "\n",
        "  def create(self, value_type):\n",
        "    @tff.federated_computation()\n",
        "    def initialize_fn():\n",
        "      return tff.federated_value((), tff.SERVER)\n",
        "\n",
        "    @tff.federated_computation(initialize_fn.type_signature.result,\n",
        "                               tff.type_at_clients(value_type))\n",
        "    def next_fn(state, value):\n",
        "      scaled_value = tff.federated_map(\n",
        "          tff.tf_computation(lambda x: x * 2.0), value)\n",
        "      summed_value = tff.federated_sum(scaled_value)\n",
        "      unscaled_value = tff.federated_map(\n",
        "          tff.tf_computation(lambda x: x / 2.0), summed_value)\n",
        "      measurements = tff.federated_value((), tff.SERVER)\n",
        "      return tff.templates.MeasuredProcessOutput(\n",
        "          state=state, result=unscaled_value, measurements=measurements)\n",
        "\n",
        "    return tff.templates.AggregationProcess(initialize_fn, next_fn)"
      ]
    },
    {
      "cell_type": "markdown",
      "metadata": {
        "id": "XivHiQ38Y2Ph"
      },
      "source": [
        "É possível verificar se tudo funciona como esperado com este código:"
      ]
    },
    {
      "cell_type": "code",
      "execution_count": null,
      "metadata": {
        "id": "Nd6qJL15oz1W"
      },
      "outputs": [
        {
          "name": "stdout",
          "output_type": "stream",
          "text": [
            "Type signatures of the created aggregation process:\n",
            "  - initialize: ( -> <>@SERVER)\n",
            "  - next: (<state=<>@SERVER,value={float32}@CLIENTS> -> <state=<>@SERVER,result=float32@SERVER,measurements=<>@SERVER>)\n",
            "\n",
            "Aggregation result: 8.0  (expected 8.0)\n"
          ]
        }
      ],
      "source": [
        "client_data = [1.0, 2.0, 5.0]\n",
        "factory = ExampleTaskFactory()\n",
        "aggregation_process = factory.create(tff.TensorType(tf.float32))\n",
        "print(f'Type signatures of the created aggregation process:\\n'\n",
        "      f'  - initialize: {aggregation_process.initialize.type_signature}\\n'\n",
        "      f'  - next: {aggregation_process.next.type_signature}\\n')\n",
        "\n",
        "state = aggregation_process.initialize()\n",
        "output = aggregation_process.next(state, client_data)\n",
        "print(f'Aggregation result: {output.result}  (expected 8.0)')"
      ]
    },
    {
      "cell_type": "markdown",
      "metadata": {
        "id": "WAdrM-JEpZjE"
      },
      "source": [
        "### Statefulness e medidas"
      ]
    },
    {
      "cell_type": "markdown",
      "metadata": {
        "id": "DLIu-aRQpo3k"
      },
      "source": [
        "O statefulness é amplamente usado no TFF para representar computações que devem ser executadas iterativamente e mudar a cada iteração. Por exemplo, o estado de uma computação de aprendizado contém os pesos do modelo que está sendo treinado.\n",
        "\n",
        "Para ilustrar como usar o estado na computação da agregação, modificamos a tarefa de exemplo. Em vez de multiplicar `value` por `2.0`, vamos multiplicá-lo pelo índice de iteração — o número de vezes que a agregação foi executada.\n",
        "\n",
        "Para fazer isso, precisamos de uma maneira de rastrear o índice de iteração, o que é obtido através do conceito de estado. Na `initialize_fn`, em vez de criar um estado vazio, inicializamos o estado para que seja um escalar zero. Em seguida, o estado pode ser usado na `next_fn` em três etapas: (1) incrementar em `1.0`, (2) usar para multiplicar `value` e (3) retornar como o novo estado atualizado."
      ]
    },
    {
      "cell_type": "markdown",
      "metadata": {
        "id": "efVS0FhEqELN"
      },
      "source": [
        "Depois disso, talvez você observe: *Mas exatamente o mesmo código acima pode ser usado para verificar se tudo funciona como esperado. Como sei se algo realmente mudou?*\n",
        "\n",
        "Boa pergunta! É aqui que o conceito de medidas se torna útil. Em geral, as medidas podem relatar qualquer valor relevante em uma única execução da função `next`, que pode ser usada para monitoramento. Nesse caso, pode ser o `summed_value` do exemplo anterior, ou seja, o valor antes da etapa de \"remoção de escalonamento\", que deve depender do índice de iteração. *Novamente, isso não é necessariamente útil na prática, mas ilustra o mecanismo relevante.*\n",
        "\n",
        "A resposta stateful da tarefa deve ficar assim:"
      ]
    },
    {
      "cell_type": "code",
      "execution_count": null,
      "metadata": {
        "id": "rADHGC0gqZhs"
      },
      "outputs": [],
      "source": [
        "class ExampleTaskFactory(tff.aggregators.UnweightedAggregationFactory):\n",
        "\n",
        "  def create(self, value_type):\n",
        "    @tff.federated_computation()\n",
        "    def initialize_fn():\n",
        "      return tff.federated_value(0.0, tff.SERVER)\n",
        "\n",
        "    @tff.federated_computation(initialize_fn.type_signature.result,\n",
        "                               tff.type_at_clients(value_type))\n",
        "    def next_fn(state, value):\n",
        "      new_state = tff.federated_map(\n",
        "          tff.tf_computation(lambda x: x + 1.0), state)\n",
        "      state_at_clients = tff.federated_broadcast(new_state)\n",
        "      scaled_value = tff.federated_map(\n",
        "          tff.tf_computation(lambda x, y: x * y), (value, state_at_clients))\n",
        "      summed_value = tff.federated_sum(scaled_value)\n",
        "      unscaled_value = tff.federated_map(\n",
        "          tff.tf_computation(lambda x, y: x / y), (summed_value, new_state))\n",
        "      return tff.templates.MeasuredProcessOutput(\n",
        "          state=new_state, result=unscaled_value, measurements=summed_value)\n",
        "\n",
        "    return tff.templates.AggregationProcess(initialize_fn, next_fn)"
      ]
    },
    {
      "cell_type": "markdown",
      "metadata": {
        "id": "SIdlsupeqyTu"
      },
      "source": [
        "Observe que o `state` de entrada da `next_fn` é colocado no servidor. Para usá-lo nos clientes, ele primeiro precisa ser comunicado, o que é possível usando o operador `tff.federated_broadcast`.\n",
        "\n",
        "Para verificar se tudo funciona como esperado, agora podemos observar as `measurements` relatadas, que devem ser diferentes a cada rodada de execução, mesmo se executadas com os mesmos `client_data`."
      ]
    },
    {
      "cell_type": "code",
      "execution_count": null,
      "metadata": {
        "id": "W0E2jwodrO4R"
      },
      "outputs": [
        {
          "name": "stdout",
          "output_type": "stream",
          "text": [
            "Type signatures of the created aggregation process:\n",
            "  - initialize: ( -> float32@SERVER)\n",
            "  - next: (<state=float32@SERVER,value={float32}@CLIENTS> -> <state=float32@SERVER,result=float32@SERVER,measurements=float32@SERVER>)\n",
            "\n",
            "| Round #1\n",
            "|       Aggregation result: 8.0   (expected 8.0)\n",
            "| Aggregation measurements: 8.0   (expected 8.0 * 1)\n",
            "\n",
            "| Round #2\n",
            "|       Aggregation result: 8.0   (expected 8.0)\n",
            "| Aggregation measurements: 16.0  (expected 8.0 * 2)\n",
            "\n",
            "| Round #3\n",
            "|       Aggregation result: 8.0   (expected 8.0)\n",
            "| Aggregation measurements: 24.0  (expected 8.0 * 3)\n"
          ]
        }
      ],
      "source": [
        "client_data = [1.0, 2.0, 5.0]\n",
        "factory = ExampleTaskFactory()\n",
        "aggregation_process = factory.create(tff.TensorType(tf.float32))\n",
        "print(f'Type signatures of the created aggregation process:\\n'\n",
        "      f'  - initialize: {aggregation_process.initialize.type_signature}\\n'\n",
        "      f'  - next: {aggregation_process.next.type_signature}\\n')\n",
        "\n",
        "state = aggregation_process.initialize()\n",
        "\n",
        "output = aggregation_process.next(state, client_data)\n",
        "print('| Round #1')\n",
        "print(f'|       Aggregation result: {output.result}   (expected 8.0)')\n",
        "print(f'| Aggregation measurements: {output.measurements}   (expected 8.0 * 1)')\n",
        "\n",
        "output = aggregation_process.next(output.state, client_data)\n",
        "print('\\n| Round #2')\n",
        "print(f'|       Aggregation result: {output.result}   (expected 8.0)')\n",
        "print(f'| Aggregation measurements: {output.measurements}  (expected 8.0 * 2)')\n",
        "\n",
        "output = aggregation_process.next(output.state, client_data)\n",
        "print('\\n| Round #3')\n",
        "print(f'|       Aggregation result: {output.result}   (expected 8.0)')\n",
        "print(f'| Aggregation measurements: {output.measurements}  (expected 8.0 * 3)')"
      ]
    },
    {
      "cell_type": "markdown",
      "metadata": {
        "id": "wSruC1V9rxma"
      },
      "source": [
        "### Tipos estruturados"
      ]
    },
    {
      "cell_type": "markdown",
      "metadata": {
        "id": "Yjoqb6Q_tcgl"
      },
      "source": [
        "Os pesos de um modelo treinado no aprendizado federado são geralmente representados como uma coleção de tensores, em vez de um único tensor. No TFF, isso é representado como `tff.StructType` e, geralmente, fábricas de agregação úteis precisam aceitar tipos estruturados.\n",
        "\n",
        "No entanto, nos exemplos acima, só trabalhamos com um objeto `tff.TensorType`. Ao usar a fábrica anterior para criar o processo de agregação com um `tff.StructType([(tf.float32, (2,)), (tf.float32, (3,))])`, obtemos um erro estranho, porque o TensorFlow tenta multiplicar um `tf.Tensor` e uma `list`.\n",
        "\n",
        "O problema é que, em vez de multiplicar a estrutura dos tensores por uma constante, precisamos multiplicar *cada tensor na estrutura* por uma constante. A solução usual para esse problema é usar o módulo `tf.nest` dentro das `tff.tf_computation`s criadas.\n",
        "\n",
        "A versão da `ExampleTaskFactory` anterior compatível com os tipos estruturados deve ficar assim:"
      ]
    },
    {
      "cell_type": "code",
      "execution_count": null,
      "metadata": {
        "id": "Hb4Wi-yUtgSs"
      },
      "outputs": [],
      "source": [
        "@tff.tf_computation()\n",
        "def scale(value, factor):\n",
        "  return tf.nest.map_structure(lambda x: x * factor, value)\n",
        "\n",
        "@tff.tf_computation()\n",
        "def unscale(value, factor):\n",
        "  return tf.nest.map_structure(lambda x: x / factor, value)\n",
        "\n",
        "@tff.tf_computation()\n",
        "def add_one(value):\n",
        "  return value + 1.0\n",
        "\n",
        "class ExampleTaskFactory(tff.aggregators.UnweightedAggregationFactory):\n",
        "\n",
        "  def create(self, value_type):\n",
        "    @tff.federated_computation()\n",
        "    def initialize_fn():\n",
        "      return tff.federated_value(0.0, tff.SERVER)\n",
        "\n",
        "    @tff.federated_computation(initialize_fn.type_signature.result,\n",
        "                               tff.type_at_clients(value_type))\n",
        "    def next_fn(state, value):\n",
        "      new_state = tff.federated_map(add_one, state)\n",
        "      state_at_clients = tff.federated_broadcast(new_state)\n",
        "      scaled_value = tff.federated_map(scale, (value, state_at_clients))\n",
        "      summed_value = tff.federated_sum(scaled_value)\n",
        "      unscaled_value = tff.federated_map(unscale, (summed_value, new_state))\n",
        "      return tff.templates.MeasuredProcessOutput(\n",
        "          state=new_state, result=unscaled_value, measurements=summed_value)\n",
        "\n",
        "    return tff.templates.AggregationProcess(initialize_fn, next_fn)"
      ]
    },
    {
      "cell_type": "markdown",
      "metadata": {
        "id": "x5-1gxv1uebz"
      },
      "source": [
        "Esse exemplo destaca um padrão que pode ser útil seguir ao estruturar o código do TFF. Quando não está lidando com operações muito simples, o código fica mais legível se as `tff.tf_computation`s que serão usadas como blocos básicos dentro de uma `tff.federated_computation` forem criadas em um local separado. Dentro das `tff.federated_computation`, esses blocos só são conectados usando operadores intrínsecos."
      ]
    },
    {
      "cell_type": "markdown",
      "metadata": {
        "id": "Uj9I-qKvu0_0"
      },
      "source": [
        "Para verificar se funciona como esperado:"
      ]
    },
    {
      "cell_type": "code",
      "execution_count": null,
      "metadata": {
        "id": "GLRZd0TFvAUR"
      },
      "outputs": [
        {
          "name": "stdout",
          "output_type": "stream",
          "text": [
            "Type signatures of the created aggregation process:\n",
            "  - initialize: ( -> float32@SERVER)\n",
            "  - next: (<state=float32@SERVER,value={<float32[2],float32[3]>}@CLIENTS> -> <state=float32@SERVER,result=<float32[2],float32[3]>@SERVER,measurements=<float32[2],float32[3]>@SERVER>)\n",
            "\n",
            "Aggregation result: [[2. 3.], [6. 4. 0.]]\n",
            "          Expected: [[2. 3.], [6. 4. 0.]]\n"
          ]
        }
      ],
      "source": [
        "client_data = [[[1.0, 2.0], [3.0, 4.0, 5.0]],\n",
        "               [[1.0, 1.0], [3.0, 0.0, -5.0]]]\n",
        "factory = ExampleTaskFactory()\n",
        "aggregation_process = factory.create(\n",
        "    tff.to_type([(tf.float32, (2,)), (tf.float32, (3,))]))\n",
        "print(f'Type signatures of the created aggregation process:\\n'\n",
        "      f'  - initialize: {aggregation_process.initialize.type_signature}\\n'\n",
        "      f'  - next: {aggregation_process.next.type_signature}\\n')\n",
        "\n",
        "state = aggregation_process.initialize()\n",
        "output = aggregation_process.next(state, client_data)\n",
        "print(f'Aggregation result: [{output.result[0]}, {output.result[1]}]\\n'\n",
        "      f'          Expected: [[2. 3.], [6. 4. 0.]]')"
      ]
    },
    {
      "cell_type": "markdown",
      "metadata": {
        "id": "BO8f11fgvl_4"
      },
      "source": [
        "### Agregações internas"
      ]
    },
    {
      "cell_type": "markdown",
      "metadata": {
        "id": "YQWF8GWnx2U_"
      },
      "source": [
        "A etapa final é ativar opcionalmente a delegação da agregação real para outras fábricas, permitindo a fácil composição de diferentes técnicas de agregação.\n",
        "\n",
        "Isso é realizado ao criar um argumento `inner_factory` opcional no construtor da nossa `ExampleTaskFactory`. Caso não esteja especificada, é usada a `tff.aggregators.SumFactory`, que aplica o operador `tff.federated_sum` usado diretamente na seção anterior.\n",
        "\n",
        "Quando `create` é chamado, podemos primeiro chamar `create` da `inner_factory` para criar o processo de agregação interna com o mesmo `value_type`.\n",
        "\n",
        "O estado do nosso processo retornado por `initialize_fn` é uma composição de duas partes: o estado criado por \"esse\" processo e o estado do processo interno recém-criado.\n",
        "\n",
        "A implementação da `next_fn` é diferente, porque a agregação é delegada à função `next` do processo interno e há diferença na composição da saída final. O estado é composto novamente pelo \"interno\" e \"esse\", e as medidas são compostas de maneira semelhante a um `OrderedDict`.\n",
        "\n",
        "Veja a seguir uma implantação desse padrão."
      ]
    },
    {
      "cell_type": "code",
      "execution_count": null,
      "metadata": {
        "id": "P0LxeArJx4xK"
      },
      "outputs": [],
      "source": [
        "@tff.tf_computation()\n",
        "def scale(value, factor):\n",
        "  return tf.nest.map_structure(lambda x: x * factor, value)\n",
        "\n",
        "@tff.tf_computation()\n",
        "def unscale(value, factor):\n",
        "  return tf.nest.map_structure(lambda x: x / factor, value)\n",
        "\n",
        "@tff.tf_computation()\n",
        "def add_one(value):\n",
        "  return value + 1.0\n",
        "\n",
        "class ExampleTaskFactory(tff.aggregators.UnweightedAggregationFactory):\n",
        "\n",
        "  def __init__(self, inner_factory=None):\n",
        "    if inner_factory is None:\n",
        "      inner_factory = tff.aggregators.SumFactory()\n",
        "    self._inner_factory = inner_factory\n",
        "\n",
        "  def create(self, value_type):\n",
        "    inner_process = self._inner_factory.create(value_type)\n",
        "\n",
        "    @tff.federated_computation()\n",
        "    def initialize_fn():\n",
        "      my_state = tff.federated_value(0.0, tff.SERVER)\n",
        "      inner_state = inner_process.initialize()\n",
        "      return tff.federated_zip((my_state, inner_state))\n",
        "\n",
        "    @tff.federated_computation(initialize_fn.type_signature.result,\n",
        "                               tff.type_at_clients(value_type))\n",
        "    def next_fn(state, value):\n",
        "      my_state, inner_state = state\n",
        "      my_new_state = tff.federated_map(add_one, my_state)\n",
        "      my_state_at_clients = tff.federated_broadcast(my_new_state)\n",
        "      scaled_value = tff.federated_map(scale, (value, my_state_at_clients))\n",
        "\n",
        "      # Delegation to an inner factory, returning values placed at SERVER.\n",
        "      inner_output = inner_process.next(inner_state, scaled_value)\n",
        "\n",
        "      unscaled_value = tff.federated_map(unscale, (inner_output.result, my_new_state))\n",
        "\n",
        "      new_state = tff.federated_zip((my_new_state, inner_output.state))\n",
        "      measurements = tff.federated_zip(\n",
        "          collections.OrderedDict(\n",
        "              scaled_value=inner_output.result,\n",
        "              example_task=inner_output.measurements))\n",
        "\n",
        "      return tff.templates.MeasuredProcessOutput(\n",
        "          state=new_state, result=unscaled_value, measurements=measurements)\n",
        "\n",
        "    return tff.templates.AggregationProcess(initialize_fn, next_fn)"
      ]
    },
    {
      "cell_type": "markdown",
      "metadata": {
        "id": "36IkS3npyzrh"
      },
      "source": [
        "Ao delegar para a função `inner_process.next`, a estrutura de retorno que obtemos é uma `tff.templates.MeasuredProcessOutput`, com os mesmos três campos — `state`, `result` e `measurements`. Ao criar a estrutura de retorno geral do processo de agregação composto, os campos `state` e `measurements` devem ser geralmente compostos e retornados juntos. Em contraste, o campo `result` corresponde ao valor que está sendo agregado e, em vez disso, \"flui\" pela agregação composta.\n",
        "\n",
        "O objeto `state` deve ser visto como um detalhe de implementação da fábrica e, por isso, a composição pode ter qualquer estrutura. No entanto, `measurements` corresponde aos valores que serão relatados ao usuário em algum momento. Portanto, recomendamos usar `OrderedDict`, com nomenclatura composta, para que fique claro a origem da métrica relatada na composição.\n",
        "\n",
        "Observe também o uso do operador `tff.federated_zip`. O objeto `state` controlado pelo processo criado deve ser um `tff.FederatedType`. Se, em vez disso, tivéssemos retornado `(this_state, inner_state)` na `initialize_fn`, a assinatura de tipo do retorno seria um `tff.StructType` com duas tuplas de `tff.FederatedType`s. O uso de `tff.federated_zip` \"eleva\" `tff.FederatedType` ao nível superior. Isso é usado de maneira semelhante na `next_fn` ao preparar o estado e as medidas que serão retornados."
      ]
    },
    {
      "cell_type": "markdown",
      "metadata": {
        "id": "usIIplMl02zd"
      },
      "source": [
        "Por fim, podemos ver como isso pode ser usado com a agregação interna padrão:"
      ]
    },
    {
      "cell_type": "code",
      "execution_count": null,
      "metadata": {
        "id": "NKCrTiVo1ACJ"
      },
      "outputs": [
        {
          "name": "stdout",
          "output_type": "stream",
          "text": [
            "| Round #1\n",
            "|           Aggregation result: 8.0   (expected 8.0)\n",
            "| measurements['scaled_value']: 8.0\n",
            "| measurements['example_task']: ()\n",
            "\n",
            "| Round #2\n",
            "|           Aggregation result: 8.0   (expected 8.0)\n",
            "| measurements['scaled_value']: 16.0\n",
            "| measurements['example_task']: ()\n"
          ]
        }
      ],
      "source": [
        "client_data = [1.0, 2.0, 5.0]\n",
        "factory = ExampleTaskFactory()\n",
        "aggregation_process = factory.create(tff.TensorType(tf.float32))\n",
        "state = aggregation_process.initialize()\n",
        "\n",
        "output = aggregation_process.next(state, client_data)\n",
        "print('| Round #1')\n",
        "print(f'|           Aggregation result: {output.result}   (expected 8.0)')\n",
        "print(f'| measurements[\\'scaled_value\\']: {output.measurements[\"scaled_value\"]}')\n",
        "print(f'| measurements[\\'example_task\\']: {output.measurements[\"example_task\"]}')\n",
        "\n",
        "output = aggregation_process.next(output.state, client_data)\n",
        "print('\\n| Round #2')\n",
        "print(f'|           Aggregation result: {output.result}   (expected 8.0)')\n",
        "print(f'| measurements[\\'scaled_value\\']: {output.measurements[\"scaled_value\"]}')\n",
        "print(f'| measurements[\\'example_task\\']: {output.measurements[\"example_task\"]}')"
      ]
    },
    {
      "cell_type": "markdown",
      "metadata": {
        "id": "B0cotpsl1n3c"
      },
      "source": [
        "... e com uma agregação interna diferente. Por exemplo, uma `ExampleTaskFactory`:"
      ]
    },
    {
      "cell_type": "code",
      "execution_count": null,
      "metadata": {
        "id": "lhrsdsTH1ulS"
      },
      "outputs": [
        {
          "name": "stdout",
          "output_type": "stream",
          "text": [
            "| Round #1\n",
            "|           Aggregation result: 8.0   (expected 8.0)\n",
            "| measurements['scaled_value']: 8.0\n",
            "| measurements['example_task']: OrderedDict([('scaled_value', 8.0), ('example_task', ())])\n",
            "\n",
            "| Round #2\n",
            "|           Aggregation result: 8.0   (expected 8.0)\n",
            "| measurements['scaled_value']: 16.0\n",
            "| measurements['example_task']: OrderedDict([('scaled_value', 32.0), ('example_task', ())])\n"
          ]
        }
      ],
      "source": [
        "client_data = [1.0, 2.0, 5.0]\n",
        "# Note the inner delegation can be to any UnweightedAggregaionFactory.\n",
        "# In this case, each factory creates process that multiplies by the iteration\n",
        "# index (1, 2, 3, ...), thus their combination multiplies by (1, 4, 9, ...).\n",
        "factory = ExampleTaskFactory(ExampleTaskFactory())\n",
        "aggregation_process = factory.create(tff.TensorType(tf.float32))\n",
        "state = aggregation_process.initialize()\n",
        "\n",
        "output = aggregation_process.next(state, client_data)\n",
        "print('| Round #1')\n",
        "print(f'|           Aggregation result: {output.result}   (expected 8.0)')\n",
        "print(f'| measurements[\\'scaled_value\\']: {output.measurements[\"scaled_value\"]}')\n",
        "print(f'| measurements[\\'example_task\\']: {output.measurements[\"example_task\"]}')\n",
        "\n",
        "output = aggregation_process.next(output.state, client_data)\n",
        "print('\\n| Round #2')\n",
        "print(f'|           Aggregation result: {output.result}   (expected 8.0)')\n",
        "print(f'| measurements[\\'scaled_value\\']: {output.measurements[\"scaled_value\"]}')\n",
        "print(f'| measurements[\\'example_task\\']: {output.measurements[\"example_task\"]}')"
      ]
    },
    {
      "cell_type": "markdown",
      "metadata": {
        "id": "Br9GTYu40GKY"
      },
      "source": [
        "## Resumo\n"
      ]
    },
    {
      "cell_type": "markdown",
      "metadata": {
        "id": "O-Wpu5hG0Jdl"
      },
      "source": [
        "Neste tutorial, explicamos as práticas recomendadas que devem ser seguidas para criar um bloco básico de agregação de uso geral, representado como uma fábrica de agregação. A generalidade transparece na intenção do design de duas maneiras:\n",
        "\n",
        "1. *Computações parametrizadas.* A agregação é um bloco básico independente que pode ser ligado a outros módulos do TFF criados para funcionar com `tff.aggregators` para parametrizar a agregação necessária, como `tff.learning.algorithms.build_weighted_fed_avg`.\n",
        "2. *Composição da agregação.* Um bloco básico de agregação pode ser composto com outros blocos básicos de agregação para criar agregações compostas mais complexas."
      ]
    }
  ],
  "metadata": {
    "colab": {
      "collapsed_sections": [
        "a930wM_fqUNH"
      ],
      "name": "custom_aggregators.ipynb",
      "toc_visible": true
    },
    "kernelspec": {
      "display_name": "Python 3",
      "name": "python3"
    }
  },
  "nbformat": 4,
  "nbformat_minor": 0
}
