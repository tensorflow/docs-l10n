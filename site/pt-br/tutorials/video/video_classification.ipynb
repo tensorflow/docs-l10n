{
  "cells": [
    {
      "cell_type": "markdown",
      "metadata": {
        "id": "TBFXQGKYUc4X"
      },
      "source": [
        "##### Copyright 2022 The TensorFlow Authors."
      ]
    },
    {
      "cell_type": "code",
      "execution_count": null,
      "metadata": {
        "cellView": "form",
        "id": "1z4xy2gTUc4a"
      },
      "outputs": [],
      "source": [
        "#@title Licensed under the Apache License, Version 2.0 (the \"License\");\n",
        "# you may not use this file except in compliance with the License.\n",
        "# You may obtain a copy of the License at\n",
        "#\n",
        "# https://www.apache.org/licenses/LICENSE-2.0\n",
        "#\n",
        "# Unless required by applicable law or agreed to in writing, software\n",
        "# distributed under the License is distributed on an \"AS IS\" BASIS,\n",
        "# WITHOUT WARRANTIES OR CONDITIONS OF ANY KIND, either express or implied.\n",
        "# See the License for the specific language governing permissions and\n",
        "# limitations under the License."
      ]
    },
    {
      "cell_type": "markdown",
      "metadata": {
        "id": "KwQtSOz0VrVX"
      },
      "source": [
        "<table class=\"tfo-notebook-buttons\" align=\"left\">\n",
        "  <td>     <a target=\"_blank\" href=\"https://www.tensorflow.org/tutorials/video/video_classification\"><img src=\"https://www.tensorflow.org/images/tf_logo_32px.png\">Ver em TensorFlow.org</a>\n",
        "</td>\n",
        "  <td>     <a target=\"_blank\" href=\"https://colab.research.google.com/github/tensorflow/docs-l10n/blob/master/site/pt-br/tutorials/video/video_classification.ipynb\"><img src=\"https://www.tensorflow.org/images/colab_logo_32px.png\">Executar no Google Colab</a>\n",
        "</td>\n",
        "  <td>     <a target=\"_blank\" href=\"https://github.com/tensorflow/docs-l10n/blob/master/site/pt-br/tutorials/video/video_classification.ipynb\"><img src=\"https://www.tensorflow.org/images/GitHub-Mark-32px.png\">Ver fonte no GitHub</a>\n",
        "</td>\n",
        "  <td>     <a href=\"https://storage.googleapis.com/tensorflow_docs/docs-l10n/site/pt-br/tutorials/video/video_classification.ipynb\"><img src=\"https://www.tensorflow.org/images/download_logo_32px.png\">Baixar notebook</a>\n",
        "</td>\n",
        "</table>"
      ]
    },
    {
      "cell_type": "markdown",
      "metadata": {
        "id": "L2MHy42s5wl6"
      },
      "source": [
        "# Classificação de vídeos com uma rede neural convolucional 3D\n",
        "\n",
        "Este tutorial demonstra o treinamento de uma rede neural convolucional (CNN) 3D para classificação de vídeo usando o dataset de reconhecimento de ações [UCF101](https://www.crcv.ucf.edu/data/UCF101.php). Uma CNN 3D usa um filtro tridimensional para realizar convoluções. O kernel é capaz de deslizar em três direções, enquanto que numa CNN 2D ele pode deslizar em duas dimensões. O modelo é baseado no trabalho publicado em [A Closer Look at Spatiotemporal Convolutions for Action Recognition](https://arxiv.org/abs/1711.11248v3) por D. Tran et al. (2017). Neste tutorial, você irá:\n",
        "\n",
        "- Construir um pipeline de entrada\n",
        "- Construir um modelo de rede neural convolucional 3D com conexões residuais usando a API funcional Keras\n",
        "- Treinar o modelo\n",
        "- Avaliar e testar o modelo\n",
        "\n",
        "Este tutorial de classificação de vídeo é a segunda parte de uma série de tutoriais em vídeo do TensorFlow. Aqui estão os outros três tutoriais:\n",
        "\n",
        "- [Carregando dados de vídeo](https://www.tensorflow.org/tutorials/load_data/video): Este tutorial explica grande parte do código usado neste documento.\n",
        "- [MoViNet para o reconhecimento de ações de streaming](https://www.tensorflow.org/hub/tutorials/movinet): conheça os modelos MoViNet disponíveis no TF Hub.\n",
        "- [Aprendizado por transferência para a classificação de vídeos com MoViNet](https://www.tensorflow.org/tutorials/video/transfer_learning_with_movinet): este tutorial explica como usar um modelo de classificação de vídeos pré-treinado em um dataset diferente com o dataset UCF-101."
      ]
    },
    {
      "cell_type": "markdown",
      "metadata": {
        "id": "_Ih_df2q0kw4"
      },
      "source": [
        "## Configuração\n",
        "\n",
        "Comece instalando e importando algumas bibliotecas necessárias, incluindo: [remotezip](https://github.com/gtsystem/python-remotezip) para inspecionar o conteúdo de um arquivo ZIP, [tqdm](https://github.com/tqdm/tqdm) para usar uma barra de progresso, [OpenCV](https://opencv.org/) para processar arquivos de vídeo, [einops](https://github.com/arogozhnikov/einops/tree/master/docs) para realizar operações de tensor mais complexas e [`tensorflow_docs`](https://github.com/tensorflow/docs/tree/master/tools/tensorflow_docs) para incorporar dados em um notebook Jupyter.\n",
        "\n",
        "**Observação**: use o TensorFlow 2.10 para executar este tutorial. Versões acima do TensorFlow 2.10 podem não ser executadas com sucesso."
      ]
    },
    {
      "cell_type": "code",
      "execution_count": null,
      "metadata": {
        "id": "KEbL4Mwi01PV"
      },
      "outputs": [],
      "source": [
        "!pip install remotezip tqdm opencv-python einops \n",
        "# Install TensorFlow 2.10\n",
        "!pip install tensorflow==2.10.0"
      ]
    },
    {
      "cell_type": "code",
      "execution_count": null,
      "metadata": {
        "id": "gg0otuqb0hIf"
      },
      "outputs": [],
      "source": [
        "import tqdm\n",
        "import random\n",
        "import pathlib\n",
        "import itertools\n",
        "import collections\n",
        "\n",
        "import cv2\n",
        "import einops\n",
        "import numpy as np\n",
        "import remotezip as rz\n",
        "import seaborn as sns\n",
        "import matplotlib.pyplot as plt\n",
        "\n",
        "import tensorflow as tf\n",
        "import keras\n",
        "from keras import layers"
      ]
    },
    {
      "cell_type": "markdown",
      "metadata": {
        "id": "Ctk9A57-6ABq"
      },
      "source": [
        "## Carregamento e pré-processamento dos dados de vídeo\n",
        "\n",
        "A célula oculta abaixo define funções auxiliares para baixar uma fatia de dados do dataset UCF-101 e carregá-los num `tf.data.Dataset`. Você pode aprender mais sobre os passos específicos de pré-processamento no [tutorial Carregando dados de vídeo](../load_data/video.ipynb), que apresenta instruções detalhadas sobre esse código.\n",
        "\n",
        "A classe `FrameGenerator` no final do bloco oculto é o utilitário mais importante que temos aqui, pois cria um objeto iterável que pode alimentar dados no pipeline de dados do TensorFlow. Especificamente, essa classe contém um gerador Python que carrega os quadros do vídeo juntamente com seu rótulo codificado. A função geradora (`__call__`) gera a array de quadros produzida por `frames_from_video_file` e um vetor com codificação one-hot do rótulo associado ao conjunto de quadros."
      ]
    },
    {
      "cell_type": "code",
      "execution_count": null,
      "metadata": {
        "id": "nB2aOTU35r9_"
      },
      "outputs": [],
      "source": [
        "#@title\n",
        "\n",
        "def list_files_per_class(zip_url):\n",
        "  \"\"\"\n",
        "    List the files in each class of the dataset given the zip URL.\n",
        "\n",
        "    Args:\n",
        "      zip_url: URL from which the files can be unzipped. \n",
        "\n",
        "    Return:\n",
        "      files: List of files in each of the classes.\n",
        "  \"\"\"\n",
        "  files = []\n",
        "  with rz.RemoteZip(URL) as zip:\n",
        "    for zip_info in zip.infolist():\n",
        "      files.append(zip_info.filename)\n",
        "  return files\n",
        "\n",
        "def get_class(fname):\n",
        "  \"\"\"\n",
        "    Retrieve the name of the class given a filename.\n",
        "\n",
        "    Args:\n",
        "      fname: Name of the file in the UCF101 dataset.\n",
        "\n",
        "    Return:\n",
        "      Class that the file belongs to.\n",
        "  \"\"\"\n",
        "  return fname.split('_')[-3]\n",
        "\n",
        "def get_files_per_class(files):\n",
        "  \"\"\"\n",
        "    Retrieve the files that belong to each class. \n",
        "\n",
        "    Args:\n",
        "      files: List of files in the dataset.\n",
        "\n",
        "    Return:\n",
        "      Dictionary of class names (key) and files (values).\n",
        "  \"\"\"\n",
        "  files_for_class = collections.defaultdict(list)\n",
        "  for fname in files:\n",
        "    class_name = get_class(fname)\n",
        "    files_for_class[class_name].append(fname)\n",
        "  return files_for_class\n",
        "\n",
        "def download_from_zip(zip_url, to_dir, file_names):\n",
        "  \"\"\"\n",
        "    Download the contents of the zip file from the zip URL.\n",
        "\n",
        "    Args:\n",
        "      zip_url: Zip URL containing data.\n",
        "      to_dir: Directory to download data to.\n",
        "      file_names: Names of files to download.\n",
        "  \"\"\"\n",
        "  with rz.RemoteZip(zip_url) as zip:\n",
        "    for fn in tqdm.tqdm(file_names):\n",
        "      class_name = get_class(fn)\n",
        "      zip.extract(fn, str(to_dir / class_name))\n",
        "      unzipped_file = to_dir / class_name / fn\n",
        "\n",
        "      fn = pathlib.Path(fn).parts[-1]\n",
        "      output_file = to_dir / class_name / fn\n",
        "      unzipped_file.rename(output_file,)\n",
        "\n",
        "def split_class_lists(files_for_class, count):\n",
        "  \"\"\"\n",
        "    Returns the list of files belonging to a subset of data as well as the remainder of\n",
        "    files that need to be downloaded.\n",
        "    \n",
        "    Args:\n",
        "      files_for_class: Files belonging to a particular class of data.\n",
        "      count: Number of files to download.\n",
        "\n",
        "    Return:\n",
        "      split_files: Files belonging to the subset of data.\n",
        "      remainder: Dictionary of the remainder of files that need to be downloaded.\n",
        "  \"\"\"\n",
        "  split_files = []\n",
        "  remainder = {}\n",
        "  for cls in files_for_class:\n",
        "    split_files.extend(files_for_class[cls][:count])\n",
        "    remainder[cls] = files_for_class[cls][count:]\n",
        "  return split_files, remainder\n",
        "\n",
        "def download_ufc_101_subset(zip_url, num_classes, splits, download_dir):\n",
        "  \"\"\"\n",
        "    Download a subset of the UFC101 dataset and split them into various parts, such as\n",
        "    training, validation, and test. \n",
        "\n",
        "    Args:\n",
        "      zip_url: Zip URL containing data.\n",
        "      num_classes: Number of labels.\n",
        "      splits: Dictionary specifying the training, validation, test, etc. (key) division of data \n",
        "              (value is number of files per split).\n",
        "      download_dir: Directory to download data to.\n",
        "\n",
        "    Return:\n",
        "      dir: Posix path of the resulting directories containing the splits of data.\n",
        "  \"\"\"\n",
        "  files = list_files_per_class(zip_url)\n",
        "  for f in files:\n",
        "    tokens = f.split('/')\n",
        "    if len(tokens) <= 2:\n",
        "      files.remove(f) # Remove that item from the list if it does not have a filename\n",
        "  \n",
        "  files_for_class = get_files_per_class(files)\n",
        "\n",
        "  classes = list(files_for_class.keys())[:num_classes]\n",
        "\n",
        "  for cls in classes:\n",
        "    new_files_for_class = files_for_class[cls]\n",
        "    random.shuffle(new_files_for_class)\n",
        "    files_for_class[cls] = new_files_for_class\n",
        "    \n",
        "  # Only use the number of classes you want in the dictionary\n",
        "  files_for_class = {x: files_for_class[x] for x in list(files_for_class)[:num_classes]}\n",
        "\n",
        "  dirs = {}\n",
        "  for split_name, split_count in splits.items():\n",
        "    print(split_name, \":\")\n",
        "    split_dir = download_dir / split_name\n",
        "    split_files, files_for_class = split_class_lists(files_for_class, split_count)\n",
        "    download_from_zip(zip_url, split_dir, split_files)\n",
        "    dirs[split_name] = split_dir\n",
        "\n",
        "  return dirs\n",
        "\n",
        "def format_frames(frame, output_size):\n",
        "  \"\"\"\n",
        "    Pad and resize an image from a video.\n",
        "    \n",
        "    Args:\n",
        "      frame: Image that needs to resized and padded. \n",
        "      output_size: Pixel size of the output frame image.\n",
        "\n",
        "    Return:\n",
        "      Formatted frame with padding of specified output size.\n",
        "  \"\"\"\n",
        "  frame = tf.image.convert_image_dtype(frame, tf.float32)\n",
        "  frame = tf.image.resize_with_pad(frame, *output_size)\n",
        "  return frame\n",
        "\n",
        "def frames_from_video_file(video_path, n_frames, output_size = (224,224), frame_step = 15):\n",
        "  \"\"\"\n",
        "    Creates frames from each video file present for each category.\n",
        "\n",
        "    Args:\n",
        "      video_path: File path to the video.\n",
        "      n_frames: Number of frames to be created per video file.\n",
        "      output_size: Pixel size of the output frame image.\n",
        "\n",
        "    Return:\n",
        "      An NumPy array of frames in the shape of (n_frames, height, width, channels).\n",
        "  \"\"\"\n",
        "  # Read each video frame by frame\n",
        "  result = []\n",
        "  src = cv2.VideoCapture(str(video_path))  \n",
        "\n",
        "  video_length = src.get(cv2.CAP_PROP_FRAME_COUNT)\n",
        "\n",
        "  need_length = 1 + (n_frames - 1) * frame_step\n",
        "\n",
        "  if need_length > video_length:\n",
        "    start = 0\n",
        "  else:\n",
        "    max_start = video_length - need_length\n",
        "    start = random.randint(0, max_start + 1)\n",
        "\n",
        "  src.set(cv2.CAP_PROP_POS_FRAMES, start)\n",
        "  # ret is a boolean indicating whether read was successful, frame is the image itself\n",
        "  ret, frame = src.read()\n",
        "  result.append(format_frames(frame, output_size))\n",
        "\n",
        "  for _ in range(n_frames - 1):\n",
        "    for _ in range(frame_step):\n",
        "      ret, frame = src.read()\n",
        "    if ret:\n",
        "      frame = format_frames(frame, output_size)\n",
        "      result.append(frame)\n",
        "    else:\n",
        "      result.append(np.zeros_like(result[0]))\n",
        "  src.release()\n",
        "  result = np.array(result)[..., [2, 1, 0]]\n",
        "\n",
        "  return result\n",
        "\n",
        "class FrameGenerator:\n",
        "  def __init__(self, path, n_frames, training = False):\n",
        "    \"\"\" Returns a set of frames with their associated label. \n",
        "\n",
        "      Args:\n",
        "        path: Video file paths.\n",
        "        n_frames: Number of frames. \n",
        "        training: Boolean to determine if training dataset is being created.\n",
        "    \"\"\"\n",
        "    self.path = path\n",
        "    self.n_frames = n_frames\n",
        "    self.training = training\n",
        "    self.class_names = sorted(set(p.name for p in self.path.iterdir() if p.is_dir()))\n",
        "    self.class_ids_for_name = dict((name, idx) for idx, name in enumerate(self.class_names))\n",
        "\n",
        "  def get_files_and_class_names(self):\n",
        "    video_paths = list(self.path.glob('*/*.avi'))\n",
        "    classes = [p.parent.name for p in video_paths] \n",
        "    return video_paths, classes\n",
        "\n",
        "  def __call__(self):\n",
        "    video_paths, classes = self.get_files_and_class_names()\n",
        "\n",
        "    pairs = list(zip(video_paths, classes))\n",
        "\n",
        "    if self.training:\n",
        "      random.shuffle(pairs)\n",
        "\n",
        "    for path, name in pairs:\n",
        "      video_frames = frames_from_video_file(path, self.n_frames) \n",
        "      label = self.class_ids_for_name[name] # Encode labels\n",
        "      yield video_frames, label"
      ]
    },
    {
      "cell_type": "code",
      "execution_count": null,
      "metadata": {
        "id": "OYY7PkdJFM4Z"
      },
      "outputs": [],
      "source": [
        "URL = 'https://storage.googleapis.com/thumos14_files/UCF101_videos.zip'\n",
        "download_dir = pathlib.Path('./UCF101_subset/')\n",
        "subset_paths = download_ufc_101_subset(URL, \n",
        "                        num_classes = 10, \n",
        "                        splits = {\"train\": 30, \"val\": 10, \"test\": 10},\n",
        "                        download_dir = download_dir)"
      ]
    },
    {
      "cell_type": "markdown",
      "metadata": {
        "id": "C0O3ttIzpFZJ"
      },
      "source": [
        "Crie os datasets de treinamento, validação e teste (`train_ds` , `val_ds` e `test_ds`)."
      ]
    },
    {
      "cell_type": "code",
      "execution_count": null,
      "metadata": {
        "cellView": "form",
        "id": "lq86IyGDJjTX"
      },
      "outputs": [],
      "source": [
        "n_frames = 10\n",
        "batch_size = 8\n",
        "\n",
        "output_signature = (tf.TensorSpec(shape = (None, None, None, 3), dtype = tf.float32),\n",
        "                    tf.TensorSpec(shape = (), dtype = tf.int16))\n",
        "\n",
        "train_ds = tf.data.Dataset.from_generator(FrameGenerator(subset_paths['train'], n_frames, training=True),\n",
        "                                          output_signature = output_signature)\n",
        "\n",
        "\n",
        "# Batch the data\n",
        "train_ds = train_ds.batch(batch_size)\n",
        "\n",
        "val_ds = tf.data.Dataset.from_generator(FrameGenerator(subset_paths['val'], n_frames),\n",
        "                                        output_signature = output_signature)\n",
        "val_ds = val_ds.batch(batch_size)\n",
        "\n",
        "test_ds = tf.data.Dataset.from_generator(FrameGenerator(subset_paths['test'], n_frames),\n",
        "                                         output_signature = output_signature)\n",
        "\n",
        "test_ds = test_ds.batch(batch_size)"
      ]
    },
    {
      "cell_type": "markdown",
      "metadata": {
        "id": "nzogoGA4pQW0"
      },
      "source": [
        "## Criação do modelo\n",
        "\n",
        "O seguinte modelo de rede neural convolucional 3D é baseado no artigo [A Closer Look at Spatiotemporal Convolutions for Action Recognition](https://arxiv.org/abs/1711.11248v3) de D. Tran et al. (2017). O artigo compara várias versões de ResNets 3D. Em vez de operar em uma única imagem com dimensões `(height, width)`, como os ResNets padrão, estes operam no volume do vídeo `(time, height, width)`. A abordagem mais óbvia para este problema seria substituir cada convolução 2D (`layers.Conv2D`) por uma convolução 3D (`layers.Conv3D`).\n",
        "\n",
        "Este tutorial usa uma convolução (2 + 1)D com [conexões residuais](https://arxiv.org/abs/1512.03385). A convolução (2 + 1)D permite a decomposição das dimensões espacial e temporal, criando assim dois passos distintos. Uma vantagem desta abordagem é que a fatoração das convoluções em dimensões espaciais e temporais economiza parâmetros.\n",
        "\n",
        "Para cada local de saída, uma convolução 3D combina todos os vetores de um patch 3D do volume para criar um vetor no volume de saída.\n",
        "\n",
        "![3D convolutions](https://www.tensorflow.org/images/tutorials/video/3DCNN.png)\n",
        "\n",
        "Esta operação leva `time * height * width * channels` e produz saídas `channels` (assumindo que o número de canais de entrada e saída são iguais. Portanto, uma camada de convolução 3D com um tamanho de kernel de `(3 x 3 x 3)` precisaria de uma matriz de pesos com `27 * channels ** 2` entradas. O artigo de referência descobriu que uma abordagem mais eficaz e eficiente era fatorar a convolução. Em vez de uma única convolução 3D para processar as dimensões de tempo e espaço, eles propuseram uma convolução \"(2+1 )D\" que processa as dimensões de espaço e tempo separadamente. A figura abaixo mostra as convoluções espaciais e temporais fatoradas de uma convolução (2 + 1)D.\n",
        "\n",
        "![(2+1)D convolutions](https://www.tensorflow.org/images/tutorials/video/2plus1CNN.png)\n",
        "\n",
        "A principal vantagem desta abordagem é que ela reduz o número de parâmetros. Na convolução (2 + 1)D, a convolução espacial recebe dados no formato `(1, width, height)`, enquanto a convolução temporal recebe dados no formato `(time, 1, 1)`. Por exemplo, uma convolução (2 + 1)D com tamanho de kernel `(3 x 3 x 3)` precisaria de matrizes de peso de tamanho `(9 * channels**2) + (3 * channels**2)`, menos da metade da convolução 3D completa. Este tutorial implementa (2 + 1)D ResNet18, onde cada convolução na resnet é substituída por uma convolução (2+1)D."
      ]
    },
    {
      "cell_type": "code",
      "execution_count": null,
      "metadata": {
        "id": "GZcB_7dg-EZJ"
      },
      "outputs": [],
      "source": [
        "# Define the dimensions of one frame in the set of frames created\n",
        "HEIGHT = 224\n",
        "WIDTH = 224"
      ]
    },
    {
      "cell_type": "code",
      "execution_count": null,
      "metadata": {
        "id": "yD_sDIBlNu7K"
      },
      "outputs": [],
      "source": [
        "class Conv2Plus1D(keras.layers.Layer):\n",
        "  def __init__(self, filters, kernel_size, padding):\n",
        "    \"\"\"\n",
        "      A sequence of convolutional layers that first apply the convolution operation over the\n",
        "      spatial dimensions, and then the temporal dimension. \n",
        "    \"\"\"\n",
        "    super().__init__()\n",
        "    self.seq = keras.Sequential([  \n",
        "        # Spatial decomposition\n",
        "        layers.Conv3D(filters=filters,\n",
        "                      kernel_size=(1, kernel_size[1], kernel_size[2]),\n",
        "                      padding=padding),\n",
        "        # Temporal decomposition\n",
        "        layers.Conv3D(filters=filters, \n",
        "                      kernel_size=(kernel_size[0], 1, 1),\n",
        "                      padding=padding)\n",
        "        ])\n",
        "  \n",
        "  def call(self, x):\n",
        "    return self.seq(x)"
      ]
    },
    {
      "cell_type": "markdown",
      "metadata": {
        "id": "I-fCAddqEORZ"
      },
      "source": [
        "Um modelo ResNet é feito a partir de uma sequência de blocos residuais. Um bloco residual possui duas ramificações. O ramo principal realiza o cálculo, mas dificulta o fluxo dos gradientes. A ramificação residual ignora o cálculo principal e geralmente apenas adiciona a entrada à saída da ramificação principal. Os gradientes fluem facilmente através deste ramo. Portanto, um caminho fácil da função de perda para qualquer ramo principal do bloco residual estará presente. Isto evita o problema do sumiço do gradiente.\n",
        "\n",
        "Crie a ramificação principal do bloco residual com a seguinte classe. Em contraste com a estrutura ResNet padrão, esta usa a camada `Conv2Plus1D` personalizada em vez de `layers.Conv2D`."
      ]
    },
    {
      "cell_type": "code",
      "execution_count": null,
      "metadata": {
        "id": "tjxAKHwn6mTJ"
      },
      "outputs": [],
      "source": [
        "class ResidualMain(keras.layers.Layer):\n",
        "  \"\"\"\n",
        "    Residual block of the model with convolution, layer normalization, and the\n",
        "    activation function, ReLU.\n",
        "  \"\"\"\n",
        "  def __init__(self, filters, kernel_size):\n",
        "    super().__init__()\n",
        "    self.seq = keras.Sequential([\n",
        "        Conv2Plus1D(filters=filters,\n",
        "                    kernel_size=kernel_size,\n",
        "                    padding='same'),\n",
        "        layers.LayerNormalization(),\n",
        "        layers.ReLU(),\n",
        "        Conv2Plus1D(filters=filters, \n",
        "                    kernel_size=kernel_size,\n",
        "                    padding='same'),\n",
        "        layers.LayerNormalization()\n",
        "    ])\n",
        "    \n",
        "  def call(self, x):\n",
        "    return self.seq(x)"
      ]
    },
    {
      "cell_type": "markdown",
      "metadata": {
        "id": "CevmZ9qsdpWC"
      },
      "source": [
        "Para adicionar o ramo residual ao ramo principal ele precisa ter o mesmo tamanho. A camada `Project` abaixo trata dos casos em que o número de canais é alterado na ramificação. No caso em particular, é adicionada uma sequência de camadas densamente conectadas seguida de normalização. "
      ]
    },
    {
      "cell_type": "code",
      "execution_count": null,
      "metadata": {
        "id": "znrk5BrL6kuq"
      },
      "outputs": [],
      "source": [
        "class Project(keras.layers.Layer):\n",
        "  \"\"\"\n",
        "    Project certain dimensions of the tensor as the data is passed through different \n",
        "    sized filters and downsampled. \n",
        "  \"\"\"\n",
        "  def __init__(self, units):\n",
        "    super().__init__()\n",
        "    self.seq = keras.Sequential([\n",
        "        layers.Dense(units),\n",
        "        layers.LayerNormalization()\n",
        "    ])\n",
        "\n",
        "  def call(self, x):\n",
        "    return self.seq(x)"
      ]
    },
    {
      "cell_type": "markdown",
      "metadata": {
        "id": "S8zycXGvfnak"
      },
      "source": [
        "Use `add_residual_block` para introduzir uma conexão de salto entre as camadas do modelo."
      ]
    },
    {
      "cell_type": "code",
      "execution_count": null,
      "metadata": {
        "id": "urjVgqvw-TlB"
      },
      "outputs": [],
      "source": [
        "def add_residual_block(input, filters, kernel_size):\n",
        "  \"\"\"\n",
        "    Add residual blocks to the model. If the last dimensions of the input data\n",
        "    and filter size does not match, project it such that last dimension matches.\n",
        "  \"\"\"\n",
        "  out = ResidualMain(filters, \n",
        "                     kernel_size)(input)\n",
        "  \n",
        "  res = input\n",
        "  # Using the Keras functional APIs, project the last dimension of the tensor to\n",
        "  # match the new filter size\n",
        "  if out.shape[-1] != input.shape[-1]:\n",
        "    res = Project(out.shape[-1])(res)\n",
        "\n",
        "  return layers.add([res, out])"
      ]
    },
    {
      "cell_type": "markdown",
      "metadata": {
        "id": "bozog_0hFKrD"
      },
      "source": [
        "O redimensionamento do vídeo é necessário para realizar a redução da resolução dos dados. Em particular, a redução da resolução dos quadros de vídeo permite que o modelo examine partes específicas dos quadros para detectar padrões que podem ser específicos de uma determinada ação. Através da redução da resolução, informações não essenciais podem ser descartadas. Além disso, o redimensionamento do vídeo permitirá a redução da dimensionalidade e garantirá, portanto, um processamento mais rápido através do modelo."
      ]
    },
    {
      "cell_type": "code",
      "execution_count": null,
      "metadata": {
        "id": "lQOWuc2I-QqK"
      },
      "outputs": [],
      "source": [
        "class ResizeVideo(keras.layers.Layer):\n",
        "  def __init__(self, height, width):\n",
        "    super().__init__()\n",
        "    self.height = height\n",
        "    self.width = width\n",
        "    self.resizing_layer = layers.Resizing(self.height, self.width)\n",
        "\n",
        "  def call(self, video):\n",
        "    \"\"\"\n",
        "      Use the einops library to resize the tensor.  \n",
        "      \n",
        "      Args:\n",
        "        video: Tensor representation of the video, in the form of a set of frames.\n",
        "      \n",
        "      Return:\n",
        "        A downsampled size of the video according to the new height and width it should be resized to.\n",
        "    \"\"\"\n",
        "    # b stands for batch size, t stands for time, h stands for height, \n",
        "    # w stands for width, and c stands for the number of channels.\n",
        "    old_shape = einops.parse_shape(video, 'b t h w c')\n",
        "    images = einops.rearrange(video, 'b t h w c -> (b t) h w c')\n",
        "    images = self.resizing_layer(images)\n",
        "    videos = einops.rearrange(\n",
        "        images, '(b t) h w c -> b t h w c',\n",
        "        t = old_shape['t'])\n",
        "    return videos"
      ]
    },
    {
      "cell_type": "markdown",
      "metadata": {
        "id": "Z9IqzCq--Uu9"
      },
      "source": [
        "Use a [API funcional Keras](https://www.tensorflow.org/guide/keras/functional) para construir a rede residual."
      ]
    },
    {
      "cell_type": "code",
      "execution_count": null,
      "metadata": {
        "id": "_bROfh_K-Wxs"
      },
      "outputs": [],
      "source": [
        "input_shape = (None, 10, HEIGHT, WIDTH, 3)\n",
        "input = layers.Input(shape=(input_shape[1:]))\n",
        "x = input\n",
        "\n",
        "x = Conv2Plus1D(filters=16, kernel_size=(3, 7, 7), padding='same')(x)\n",
        "x = layers.BatchNormalization()(x)\n",
        "x = layers.ReLU()(x)\n",
        "x = ResizeVideo(HEIGHT // 2, WIDTH // 2)(x)\n",
        "\n",
        "# Block 1\n",
        "x = add_residual_block(x, 16, (3, 3, 3))\n",
        "x = ResizeVideo(HEIGHT // 4, WIDTH // 4)(x)\n",
        "\n",
        "# Block 2\n",
        "x = add_residual_block(x, 32, (3, 3, 3))\n",
        "x = ResizeVideo(HEIGHT // 8, WIDTH // 8)(x)\n",
        "\n",
        "# Block 3\n",
        "x = add_residual_block(x, 64, (3, 3, 3))\n",
        "x = ResizeVideo(HEIGHT // 16, WIDTH // 16)(x)\n",
        "\n",
        "# Block 4\n",
        "x = add_residual_block(x, 128, (3, 3, 3))\n",
        "\n",
        "x = layers.GlobalAveragePooling3D()(x)\n",
        "x = layers.Flatten()(x)\n",
        "x = layers.Dense(10)(x)\n",
        "\n",
        "model = keras.Model(input, x)"
      ]
    },
    {
      "cell_type": "code",
      "execution_count": null,
      "metadata": {
        "id": "TiO0WylG-ZHM"
      },
      "outputs": [],
      "source": [
        "frames, label = next(iter(train_ds))\n",
        "model.build(frames)"
      ]
    },
    {
      "cell_type": "code",
      "execution_count": null,
      "metadata": {
        "id": "GAsKrM8r-bKM"
      },
      "outputs": [],
      "source": [
        "# Visualize the model\n",
        "keras.utils.plot_model(model, expand_nested=True, dpi=60, show_shapes=True)"
      ]
    },
    {
      "cell_type": "markdown",
      "metadata": {
        "id": "1yvJJPnY-dMP"
      },
      "source": [
        "## Treinamento do modelo\n",
        "\n",
        "Neste tutorial, escolha o otimizador `tf.keras.optimizers.Adam` e a função de perda `tf.keras.losses.SparseCategoricalCrossentropy`. Use o argumento metrics para ver a exatidão do desempenho do modelo a cada passo."
      ]
    },
    {
      "cell_type": "code",
      "execution_count": null,
      "metadata": {
        "id": "ejrbyebDp2tA"
      },
      "outputs": [],
      "source": [
        "model.compile(loss = keras.losses.SparseCategoricalCrossentropy(from_logits=True), \n",
        "              optimizer = keras.optimizers.Adam(learning_rate = 0.0001), \n",
        "              metrics = ['accuracy'])"
      ]
    },
    {
      "cell_type": "markdown",
      "metadata": {
        "id": "nZT1Xlx9stP2"
      },
      "source": [
        "Treine o modelo com 50 épocas usando o método `Model.fit` do Keras:\n",
        "\n",
        "Observação: Este modelo de exemplo é treinado em menos pontos de dados (300 exemplos de treinamento e 100 exemplos de validação) para manter o tempo de treinamento razoável para este tutorial. Além disso, este modelo de exemplo pode levar mais de uma hora para ser treinado."
      ]
    },
    {
      "cell_type": "code",
      "execution_count": null,
      "metadata": {
        "id": "VMrMUl2hOqMs"
      },
      "outputs": [],
      "source": [
        "history = model.fit(x = train_ds,\n",
        "                    epochs = 50, \n",
        "                    validation_data = val_ds)"
      ]
    },
    {
      "cell_type": "markdown",
      "metadata": {
        "id": "KKUfMNVns2hu"
      },
      "source": [
        "### Visualize os resultados\n",
        "\n",
        "Crie gráficos da perda e da exatidão para os conjuntos de treinamento e avaliação:"
      ]
    },
    {
      "cell_type": "code",
      "execution_count": null,
      "metadata": {
        "id": "Cd5tpNrtOrs7"
      },
      "outputs": [],
      "source": [
        "def plot_history(history):\n",
        "  \"\"\"\n",
        "    Plotting training and validation learning curves.\n",
        "\n",
        "    Args:\n",
        "      history: model history with all the metric measures\n",
        "  \"\"\"\n",
        "  fig, (ax1, ax2) = plt.subplots(2)\n",
        "\n",
        "  fig.set_size_inches(18.5, 10.5)\n",
        "\n",
        "  # Plot loss\n",
        "  ax1.set_title('Loss')\n",
        "  ax1.plot(history.history['loss'], label = 'train')\n",
        "  ax1.plot(history.history['val_loss'], label = 'test')\n",
        "  ax1.set_ylabel('Loss')\n",
        "  \n",
        "  # Determine upper bound of y-axis\n",
        "  max_loss = max(history.history['loss'] + history.history['val_loss'])\n",
        "\n",
        "  ax1.set_ylim([0, np.ceil(max_loss)])\n",
        "  ax1.set_xlabel('Epoch')\n",
        "  ax1.legend(['Train', 'Validation']) \n",
        "\n",
        "  # Plot accuracy\n",
        "  ax2.set_title('Accuracy')\n",
        "  ax2.plot(history.history['accuracy'],  label = 'train')\n",
        "  ax2.plot(history.history['val_accuracy'], label = 'test')\n",
        "  ax2.set_ylabel('Accuracy')\n",
        "  ax2.set_ylim([0, 1])\n",
        "  ax2.set_xlabel('Epoch')\n",
        "  ax2.legend(['Train', 'Validation'])\n",
        "\n",
        "  plt.show()\n",
        "\n",
        "plot_history(history)"
      ]
    },
    {
      "cell_type": "markdown",
      "metadata": {
        "id": "EJrGF0Sss8E0"
      },
      "source": [
        "## Avaliação do modelo\n",
        "\n",
        "Use `Model.evaluate` do Keras para obter a perda e a precisão do dataset de dados de teste.\n",
        "\n",
        "Observação: o modelo de exemplo neste tutorial usa um subconjunto do dataset UCF101 para manter o tempo de treinamento razoável. A precisão e a perda podem ser melhoradas com mais ajustes de hiperparâmetros ou mais dados de treinamento. "
      ]
    },
    {
      "cell_type": "code",
      "execution_count": null,
      "metadata": {
        "id": "Hev0hMCxOtfy"
      },
      "outputs": [],
      "source": [
        "model.evaluate(test_ds, return_dict=True)"
      ]
    },
    {
      "cell_type": "markdown",
      "metadata": {
        "id": "-F73GxD1-yc8"
      },
      "source": [
        "Para avaliar o desempenho do modelo com mais detalhes, use uma [matriz de confusão](https://www.tensorflow.org/api_docs/python/tf/math/confusion_matrix), que permite avaliar o desempenho do modelo de classificação além da exatidão. Para criar a matriz de confusão para este problema de classificação multiclasse, obtenha os valores reais do dataset de teste e os valores previstos. "
      ]
    },
    {
      "cell_type": "code",
      "execution_count": null,
      "metadata": {
        "id": "Yw-6rG5V-0L-"
      },
      "outputs": [],
      "source": [
        "def get_actual_predicted_labels(dataset): \n",
        "  \"\"\"\n",
        "    Create a list of actual ground truth values and the predictions from the model.\n",
        "\n",
        "    Args:\n",
        "      dataset: An iterable data structure, such as a TensorFlow Dataset, with features and labels.\n",
        "\n",
        "    Return:\n",
        "      Ground truth and predicted values for a particular dataset.\n",
        "  \"\"\"\n",
        "  actual = [labels for _, labels in dataset.unbatch()]\n",
        "  predicted = model.predict(dataset)\n",
        "\n",
        "  actual = tf.stack(actual, axis=0)\n",
        "  predicted = tf.concat(predicted, axis=0)\n",
        "  predicted = tf.argmax(predicted, axis=1)\n",
        "\n",
        "  return actual, predicted"
      ]
    },
    {
      "cell_type": "code",
      "execution_count": null,
      "metadata": {
        "id": "aln6qWW_-2dk"
      },
      "outputs": [],
      "source": [
        "def plot_confusion_matrix(actual, predicted, labels, ds_type):\n",
        "  cm = tf.math.confusion_matrix(actual, predicted)\n",
        "  ax = sns.heatmap(cm, annot=True, fmt='g')\n",
        "  sns.set(rc={'figure.figsize':(12, 12)})\n",
        "  sns.set(font_scale=1.4)\n",
        "  ax.set_title('Confusion matrix of action recognition for ' + ds_type)\n",
        "  ax.set_xlabel('Predicted Action')\n",
        "  ax.set_ylabel('Actual Action')\n",
        "  plt.xticks(rotation=90)\n",
        "  plt.yticks(rotation=0)\n",
        "  ax.xaxis.set_ticklabels(labels)\n",
        "  ax.yaxis.set_ticklabels(labels)"
      ]
    },
    {
      "cell_type": "code",
      "execution_count": null,
      "metadata": {
        "id": "tfQ3VAGd-4Az"
      },
      "outputs": [],
      "source": [
        "fg = FrameGenerator(subset_paths['train'], n_frames, training=True)\n",
        "labels = list(fg.class_ids_for_name.keys())"
      ]
    },
    {
      "cell_type": "code",
      "execution_count": null,
      "metadata": {
        "id": "1ucGpbiA-5qi"
      },
      "outputs": [],
      "source": [
        "actual, predicted = get_actual_predicted_labels(train_ds)\n",
        "plot_confusion_matrix(actual, predicted, labels, 'training')"
      ]
    },
    {
      "cell_type": "code",
      "execution_count": null,
      "metadata": {
        "id": "Mfr7AT5T-7ZD"
      },
      "outputs": [],
      "source": [
        "actual, predicted = get_actual_predicted_labels(test_ds)\n",
        "plot_confusion_matrix(actual, predicted, labels, 'test')"
      ]
    },
    {
      "cell_type": "markdown",
      "metadata": {
        "id": "FefzeIZz-9aI"
      },
      "source": [
        "Os valores de precisão e recuperação para cada classe também podem ser calculados usando uma matriz de confusão."
      ]
    },
    {
      "cell_type": "code",
      "execution_count": null,
      "metadata": {
        "id": "dq95-56Z-_E2"
      },
      "outputs": [],
      "source": [
        "def calculate_classification_metrics(y_actual, y_pred, labels):\n",
        "  \"\"\"\n",
        "    Calculate the precision and recall of a classification model using the ground truth and\n",
        "    predicted values. \n",
        "\n",
        "    Args:\n",
        "      y_actual: Ground truth labels.\n",
        "      y_pred: Predicted labels.\n",
        "      labels: List of classification labels.\n",
        "\n",
        "    Return:\n",
        "      Precision and recall measures.\n",
        "  \"\"\"\n",
        "  cm = tf.math.confusion_matrix(y_actual, y_pred)\n",
        "  tp = np.diag(cm) # Diagonal represents true positives\n",
        "  precision = dict()\n",
        "  recall = dict()\n",
        "  for i in range(len(labels)):\n",
        "    col = cm[:, i]\n",
        "    fp = np.sum(col) - tp[i] # Sum of column minus true positive is false negative\n",
        "    \n",
        "    row = cm[i, :]\n",
        "    fn = np.sum(row) - tp[i] # Sum of row minus true positive, is false negative\n",
        "    \n",
        "    precision[labels[i]] = tp[i] / (tp[i] + fp) # Precision \n",
        "    \n",
        "    recall[labels[i]] = tp[i] / (tp[i] + fn) # Recall\n",
        "  \n",
        "  return precision, recall"
      ]
    },
    {
      "cell_type": "code",
      "execution_count": null,
      "metadata": {
        "id": "4jSEonYQ_BZt"
      },
      "outputs": [],
      "source": [
        "precision, recall = calculate_classification_metrics(actual, predicted, labels) # Test dataset"
      ]
    },
    {
      "cell_type": "code",
      "execution_count": null,
      "metadata": {
        "id": "hXvTW1Df_DV8"
      },
      "outputs": [],
      "source": [
        "precision"
      ]
    },
    {
      "cell_type": "code",
      "execution_count": null,
      "metadata": {
        "id": "be1yrQl5_EYF"
      },
      "outputs": [],
      "source": [
        "recall"
      ]
    },
    {
      "cell_type": "markdown",
      "metadata": {
        "id": "d4WsP4Z2HZ6L"
      },
      "source": [
        "## Próximos passos\n",
        "\n",
        "Para saber mais sobre como trabalhar com dados de vídeo no TensorFlow, confira os seguintes tutoriais:\n",
        "\n",
        "- [Carregamento de dados de vídeo](https://www.tensorflow.org/tutorials/load_data/video)\n",
        "- [MoViNet para o reconhecimento de ações de streaming](https://www.tensorflow.org/hub/tutorials/movinet)\n",
        "- [Aprendizado por transferência para a classificação de vídeos com MoViNet](https://www.tensorflow.org/tutorials/video/transfer_learning_with_movinet)"
      ]
    }
  ],
  "metadata": {
    "accelerator": "GPU",
    "colab": {
      "name": "video_classification.ipynb",
      "toc_visible": true
    },
    "kernelspec": {
      "display_name": "Python 3",
      "name": "python3"
    }
  },
  "nbformat": 4,
  "nbformat_minor": 0
}
