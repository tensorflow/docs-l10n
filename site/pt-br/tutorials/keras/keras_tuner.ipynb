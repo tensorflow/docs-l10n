{
  "cells": [
    {
      "cell_type": "markdown",
      "metadata": {
        "id": "Tce3stUlHN0L"
      },
      "source": [
        "##### Copyright 2020 The TensorFlow Authors."
      ]
    },
    {
      "cell_type": "code",
      "execution_count": null,
      "metadata": {
        "cellView": "form",
        "id": "tuOe1ymfHZPu"
      },
      "outputs": [],
      "source": [
        "#@title Licensed under the Apache License, Version 2.0 (the \"License\");\n",
        "# you may not use this file except in compliance with the License.\n",
        "# You may obtain a copy of the License at\n",
        "#\n",
        "# https://www.apache.org/licenses/LICENSE-2.0\n",
        "#\n",
        "# Unless required by applicable law or agreed to in writing, software\n",
        "# distributed under the License is distributed on an \"AS IS\" BASIS,\n",
        "# WITHOUT WARRANTIES OR CONDITIONS OF ANY KIND, either express or implied.\n",
        "# See the License for the specific language governing permissions and\n",
        "# limitations under the License."
      ]
    },
    {
      "cell_type": "markdown",
      "metadata": {
        "id": "qFdPvlXBOdUN"
      },
      "source": [
        "# Introdução ao Keras Tuner"
      ]
    },
    {
      "cell_type": "markdown",
      "metadata": {
        "id": "MfBg1C5NB3X0"
      },
      "source": [
        "<table class=\"tfo-notebook-buttons\" align=\"left\">\n",
        "  <td>     <a target=\"_blank\" href=\"https://www.tensorflow.org/tutorials/keras/keras_tuner\"><img src=\"https://www.tensorflow.org/images/tf_logo_32px.png\">Ver em TensorFlow.org</a>\n",
        "</td>\n",
        "  <td>     <a target=\"_blank\" href=\"https://colab.research.google.com/github/tensorflow/docs-l10n/blob/master/site/pt-br/tutorials/keras/keras_tuner.ipynb\"><img src=\"https://www.tensorflow.org/images/colab_logo_32px.png\">Executar no Google Colab</a>\n",
        "</td>\n",
        "  <td>     <a target=\"_blank\" href=\"https://github.com/tensorflow/docs-l10n/blob/master/site/pt-br/tutorials/keras/keras_tuner.ipynb\"><img src=\"https://www.tensorflow.org/images/GitHub-Mark-32px.png\">Ver fonte no GitHub</a>\n",
        "</td>\n",
        "  <td>     <a href=\"https://storage.googleapis.com/tensorflow_docs/docs-l10n/site/pt-br/tutorials/keras/keras_tuner.ipynb\"><img src=\"https://www.tensorflow.org/images/download_logo_32px.png\">Baixar notebook</a>\n",
        "</td>\n",
        "</table>"
      ]
    },
    {
      "cell_type": "markdown",
      "metadata": {
        "id": "xHxb-dlhMIzW"
      },
      "source": [
        "## Visão geral\n",
        "\n",
        "O Keras Tuner é uma biblioteca que ajuda a escolher o conjunto ideal de hiperparâmetros do seu programa TensorFlow. O processo de seleção do conjunto certo de hiperparâmetros para sua aplicação de aprendizado de máquina é chamado de *tunagem de hiperparâmetros* ou *hipertunagem*.\n",
        "\n",
        "Os hiperparâmetros são as variáveis que governam o processo de treinamento e a topologia de modelos de aprendizado de máquina. Essas variáveis permanecem constantes durante o processo de treinamento e impactam diretamente o programa de aprendizado de máquina. Há dois tipos de hiperparâmetros:\n",
        "\n",
        "1. **Hiperparâmetros do modelo**, que influenciam a seleção do modelo, como o número e a largura das camadas ocultas.\n",
        "2. **Hiperparâmetros do algoritmo**, que influenciam a velocidade e qualidade do algoritmo de aprendizado, como a taxa de aprendizado para o Método do Gradiente Descendente Estocástico (SGD, na sigla em inglês) e o número de vizinhos mais próximos para um classificador K Vizinhos Mais Próximos (KNN, na sigla em inglês).\n",
        "\n",
        "Neste tutorial, você usará o Keras Tuner para hipertunar uma aplicação de classificação de imagens."
      ]
    },
    {
      "cell_type": "markdown",
      "metadata": {
        "id": "MUXex9ctTuDB"
      },
      "source": [
        "## Configuração"
      ]
    },
    {
      "cell_type": "code",
      "execution_count": null,
      "metadata": {
        "id": "IqR2PQG4ZaZ0"
      },
      "outputs": [],
      "source": [
        "import tensorflow as tf\n",
        "from tensorflow import keras"
      ]
    },
    {
      "cell_type": "markdown",
      "metadata": {
        "id": "g83Lwsy-Aq2_"
      },
      "source": [
        "Instale e importe o Keras Tuner."
      ]
    },
    {
      "cell_type": "code",
      "execution_count": null,
      "metadata": {
        "id": "hpMLpbt9jcO6"
      },
      "outputs": [],
      "source": [
        "!pip install -q -U keras-tuner"
      ]
    },
    {
      "cell_type": "code",
      "execution_count": null,
      "metadata": {
        "id": "_leAIdFKAxAD"
      },
      "outputs": [],
      "source": [
        "import keras_tuner as kt"
      ]
    },
    {
      "cell_type": "markdown",
      "metadata": {
        "id": "ReV_UXOgCZvx"
      },
      "source": [
        "## Baixar e preparar o dataset\n",
        "\n",
        "Neste tutorial, você usará o Keras Tuner para descobrir os melhores hiperparâmetros para um modelo de aprendizado de máquina que classifica imagens de roupas do [dataset Fashion MNIST](https://github.com/zalandoresearch/fashion-mnist)."
      ]
    },
    {
      "cell_type": "markdown",
      "metadata": {
        "id": "HljH_ENLEdHa"
      },
      "source": [
        "Carregue os dados."
      ]
    },
    {
      "cell_type": "code",
      "execution_count": null,
      "metadata": {
        "id": "OHlHs9Wj_PUM"
      },
      "outputs": [],
      "source": [
        "(img_train, label_train), (img_test, label_test) = keras.datasets.fashion_mnist.load_data()"
      ]
    },
    {
      "cell_type": "code",
      "execution_count": null,
      "metadata": {
        "id": "bLVhXs3xrUD0"
      },
      "outputs": [],
      "source": [
        "# Normalize pixel values between 0 and 1\n",
        "img_train = img_train.astype('float32') / 255.0\n",
        "img_test = img_test.astype('float32') / 255.0"
      ]
    },
    {
      "cell_type": "markdown",
      "metadata": {
        "id": "K5YEL2H2Ax3e"
      },
      "source": [
        "## Definir o modelo\n",
        "\n",
        "Quando você cria um modelo para fazer hipertunagem, também define o espaço de busca de hiperparâmetros, além da arquitetura do modelo. O modelo configurado para fazer hipertunagem é chamado de *hipermodelo*.\n",
        "\n",
        "Há duas estratégias para definir um hipermodelo:\n",
        "\n",
        "- Usando uma função de construção de modelos.\n",
        "- Fazendo uma subclasse da classe `HyperModel` da API do Keras Tuner.\n",
        "\n",
        "Além disso, você pude usar duas classes [HyperModel](https://keras.io/api/keras_tuner/hypermodels/) pré-definidas: [HyperXception](https://keras.io/api/keras_tuner/hypermodels/hyper_xception/) e [HyperResNet](https://keras.io/api/keras_tuner/hypermodels/hyper_resnet/) para aplicações de visão computacional.\n",
        "\n",
        "Neste tutorial, você usará uma função de construção de modelos para definir o modelo de classificação de imagens. Essa função retorna um modelo compilado e usa os hiperparâmetros que você define internamente para hipertunar do modelo."
      ]
    },
    {
      "cell_type": "code",
      "execution_count": null,
      "metadata": {
        "id": "ZQKodC-jtsva"
      },
      "outputs": [],
      "source": [
        "def model_builder(hp):\n",
        "  model = keras.Sequential()\n",
        "  model.add(keras.layers.Flatten(input_shape=(28, 28)))\n",
        "\n",
        "  # Tune the number of units in the first Dense layer\n",
        "  # Choose an optimal value between 32-512\n",
        "  hp_units = hp.Int('units', min_value=32, max_value=512, step=32)\n",
        "  model.add(keras.layers.Dense(units=hp_units, activation='relu'))\n",
        "  model.add(keras.layers.Dense(10))\n",
        "\n",
        "  # Tune the learning rate for the optimizer\n",
        "  # Choose an optimal value from 0.01, 0.001, or 0.0001\n",
        "  hp_learning_rate = hp.Choice('learning_rate', values=[1e-2, 1e-3, 1e-4])\n",
        "\n",
        "  model.compile(optimizer=keras.optimizers.Adam(learning_rate=hp_learning_rate),\n",
        "                loss=keras.losses.SparseCategoricalCrossentropy(from_logits=True),\n",
        "                metrics=['accuracy'])\n",
        "\n",
        "  return model"
      ]
    },
    {
      "cell_type": "markdown",
      "metadata": {
        "id": "0J1VYw4q3x0b"
      },
      "source": [
        "## Instanciar o tuner e fazer a hipertunagem\n",
        "\n",
        "Instancie o tuner para fazer a hipertunagem. O Keras Tuner disponibiliza quatro tuners: `RandomSearch`, `Hyperband`, `BayesianOptimization` e `Sklearn`. Neste tutorial, você usará o tuner [Hyperband](https://arxiv.org/pdf/1603.06560.pdf).\n",
        "\n",
        "Para instanciar o tuner Hyperband, você precisa especificar o hupermodelo, o `objective` (objetivo) de otimização e o número máximo de épocas para o treinamento (`max_epochs`)."
      ]
    },
    {
      "cell_type": "code",
      "execution_count": null,
      "metadata": {
        "id": "oichQFly6Y46"
      },
      "outputs": [],
      "source": [
        "tuner = kt.Hyperband(model_builder,\n",
        "                     objective='val_accuracy',\n",
        "                     max_epochs=10,\n",
        "                     factor=3,\n",
        "                     directory='my_dir',\n",
        "                     project_name='intro_to_kt')"
      ]
    },
    {
      "cell_type": "markdown",
      "metadata": {
        "id": "VaIhhdKf9VtI"
      },
      "source": [
        "O algoritmo de tunagem Hyperband usa alocação adaptativa de recursos e parada antecipada para convergir rapidamente para um modelo de alto desempenho. Isso é feito usando-se chaveamento similar ao de campeonatos esportivos. O algoritmo treina uma grande quantidade de modelos com algumas épocas e prossegue somente com os 50% modelos com melhor desempenho na próxima rodada. O Hyperband determina o número de modelos a serem treinados em uma chave computando 1 + log<sub><code>factor</code></sub>(`max_epochs`) e arredondando para o número inteiro mais próximo."
      ]
    },
    {
      "cell_type": "markdown",
      "metadata": {
        "id": "cwhBdXx0Ekj8"
      },
      "source": [
        "Crie um callback para interromper o treinamento antecipadamente após a perda de validação atingir um determinado valor."
      ]
    },
    {
      "cell_type": "code",
      "execution_count": null,
      "metadata": {
        "id": "WT9IkS9NEjLc"
      },
      "outputs": [],
      "source": [
        "stop_early = tf.keras.callbacks.EarlyStopping(monitor='val_loss', patience=5)"
      ]
    },
    {
      "cell_type": "markdown",
      "metadata": {
        "id": "UKghEo15Tduy"
      },
      "source": [
        "Execute a busca de hiperparâmetros. Os argumentos do método de busca são os mesmos usados para `tf.keras.model.fit`, além do callback acima."
      ]
    },
    {
      "cell_type": "code",
      "execution_count": null,
      "metadata": {
        "id": "dSBQcTHF9cKt"
      },
      "outputs": [],
      "source": [
        "tuner.search(img_train, label_train, epochs=50, validation_split=0.2, callbacks=[stop_early])\n",
        "\n",
        "# Get the optimal hyperparameters\n",
        "best_hps=tuner.get_best_hyperparameters(num_trials=1)[0]\n",
        "\n",
        "print(f\"\"\"\n",
        "The hyperparameter search is complete. The optimal number of units in the first densely-connected\n",
        "layer is {best_hps.get('units')} and the optimal learning rate for the optimizer\n",
        "is {best_hps.get('learning_rate')}.\n",
        "\"\"\")"
      ]
    },
    {
      "cell_type": "markdown",
      "metadata": {
        "id": "Lak_ylf88xBv"
      },
      "source": [
        "## Treinar o modelo\n",
        "\n",
        "Encontre o número ideal de épocas para treinar o modelo com os hiperparâmetros obtidos pela busca."
      ]
    },
    {
      "cell_type": "code",
      "execution_count": null,
      "metadata": {
        "id": "McO82AXOuxXh"
      },
      "outputs": [],
      "source": [
        "# Build the model with the optimal hyperparameters and train it on the data for 50 epochs\n",
        "model = tuner.hypermodel.build(best_hps)\n",
        "history = model.fit(img_train, label_train, epochs=50, validation_split=0.2)\n",
        "\n",
        "val_acc_per_epoch = history.history['val_accuracy']\n",
        "best_epoch = val_acc_per_epoch.index(max(val_acc_per_epoch)) + 1\n",
        "print('Best epoch: %d' % (best_epoch,))"
      ]
    },
    {
      "cell_type": "markdown",
      "metadata": {
        "id": "uOTSirSTI3Gp"
      },
      "source": [
        "Instancie o hipermodelo novamente e treine-o usando o número ideal de épocas acima."
      ]
    },
    {
      "cell_type": "code",
      "execution_count": null,
      "metadata": {
        "id": "NoiPUEHmMhCe"
      },
      "outputs": [],
      "source": [
        "hypermodel = tuner.hypermodel.build(best_hps)\n",
        "\n",
        "# Retrain the model\n",
        "hypermodel.fit(img_train, label_train, epochs=best_epoch, validation_split=0.2)"
      ]
    },
    {
      "cell_type": "markdown",
      "metadata": {
        "id": "MqU5ZVAaag2v"
      },
      "source": [
        "Para concluir este tutorial, avalie o hipermodelo com os dados de teste."
      ]
    },
    {
      "cell_type": "code",
      "execution_count": null,
      "metadata": {
        "id": "9E0BTp9Ealjb"
      },
      "outputs": [],
      "source": [
        "eval_result = hypermodel.evaluate(img_test, label_test)\n",
        "print(\"[test loss, test accuracy]:\", eval_result)"
      ]
    },
    {
      "cell_type": "markdown",
      "metadata": {
        "id": "EQRpPHZsz-eC"
      },
      "source": [
        "O diretório `my_dir/intro_to_kt` contém checkpoints e logs detalhados para cada tentativa (configuração do modelo) executada durante a busca de hiperparâmetros. Se você executar novamente a busca de hiperparâmetros, o Keras Tuner utilizará o estado atual usando esses logs para retomar a busca. Para desativar esse comportamento, passe o argumento adicional `overwrite=True` ao instanciar o tuner."
      ]
    },
    {
      "cell_type": "markdown",
      "metadata": {
        "id": "sKwLOzKpFGAj"
      },
      "source": [
        "## Resumo\n",
        "\n",
        "Neste tutorial, você aprendeu a usar o Keras Tuner para tunar os hiperparâmetros de um modelo. Para saber mais sobre o Keras Tuner, confira os seguintes recursos:\n",
        "\n",
        "- [Keras Tuner no blog do TensorFlow](https://blog.tensorflow.org/2020/01/hyperparameter-tuning-with-keras-tuner.html)\n",
        "- [Site do Keras Tuner](https://keras-team.github.io/keras-tuner/)\n",
        "\n",
        "Verifique também o [HParams Dashboard](https://www.tensorflow.org/tensorboard/hyperparameter_tuning_with_hparams) (Painel HParams) no TensorBoard para tunar interativamente os hiperparâmetros do seu modelo."
      ]
    }
  ],
  "metadata": {
    "accelerator": "GPU",
    "colab": {
      "collapsed_sections": [
        "Tce3stUlHN0L"
      ],
      "name": "keras_tuner.ipynb",
      "toc_visible": true
    },
    "kernelspec": {
      "display_name": "Python 3",
      "name": "python3"
    }
  },
  "nbformat": 4,
  "nbformat_minor": 0
}
