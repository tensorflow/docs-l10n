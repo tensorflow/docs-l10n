{
  "cells": [
    {
      "cell_type": "markdown",
      "metadata": {
        "id": "fTFj8ft5dlbS"
      },
      "source": [
        "##### Copyright 2018 The TensorFlow Authors."
      ]
    },
    {
      "cell_type": "code",
      "execution_count": null,
      "metadata": {
        "cellView": "form",
        "id": "lzyBOpYMdp3F"
      },
      "outputs": [],
      "source": [
        "#@title Licensed under the Apache License, Version 2.0 (the \"License\");\n",
        "# you may not use this file except in compliance with the License.\n",
        "# You may obtain a copy of the License at\n",
        "#\n",
        "# https://www.apache.org/licenses/LICENSE-2.0\n",
        "#\n",
        "# Unless required by applicable law or agreed to in writing, software\n",
        "# distributed under the License is distributed on an \"AS IS\" BASIS,\n",
        "# WITHOUT WARRANTIES OR CONDITIONS OF ANY KIND, either express or implied.\n",
        "# See the License for the specific language governing permissions and\n",
        "# limitations under the License."
      ]
    },
    {
      "cell_type": "code",
      "execution_count": null,
      "metadata": {
        "cellView": "form",
        "id": "m_x4KfSJ7Vt7"
      },
      "outputs": [],
      "source": [
        "#@title MIT License\n",
        "#\n",
        "# Copyright (c) 2017 François Chollet\n",
        "#\n",
        "# Permission is hereby granted, free of charge, to any person obtaining a\n",
        "# copy of this software and associated documentation files (the \"Software\"),\n",
        "# to deal in the Software without restriction, including without limitation\n",
        "# the rights to use, copy, modify, merge, publish, distribute, sublicense,\n",
        "# and/or sell copies of the Software, and to permit persons to whom the\n",
        "# Software is furnished to do so, subject to the following conditions:\n",
        "#\n",
        "# The above copyright notice and this permission notice shall be included in\n",
        "# all copies or substantial portions of the Software.\n",
        "#\n",
        "# THE SOFTWARE IS PROVIDED \"AS IS\", WITHOUT WARRANTY OF ANY KIND, EXPRESS OR\n",
        "# IMPLIED, INCLUDING BUT NOT LIMITED TO THE WARRANTIES OF MERCHANTABILITY,\n",
        "# FITNESS FOR A PARTICULAR PURPOSE AND NONINFRINGEMENT. IN NO EVENT SHALL\n",
        "# THE AUTHORS OR COPYRIGHT HOLDERS BE LIABLE FOR ANY CLAIM, DAMAGES OR OTHER\n",
        "# LIABILITY, WHETHER IN AN ACTION OF CONTRACT, TORT OR OTHERWISE, ARISING\n",
        "# FROM, OUT OF OR IN CONNECTION WITH THE SOFTWARE OR THE USE OR OTHER\n",
        "# DEALINGS IN THE SOFTWARE."
      ]
    },
    {
      "cell_type": "markdown",
      "metadata": {
        "id": "C9HmC2T4ld5B"
      },
      "source": [
        "# Overfitting e underfitting"
      ]
    },
    {
      "cell_type": "markdown",
      "metadata": {
        "id": "kRTxFhXAlnl1"
      },
      "source": [
        "<table class=\"tfo-notebook-buttons\" align=\"left\">\n",
        "  <td>     <a target=\"_blank\" href=\"https://www.tensorflow.org/tutorials/keras/overfit_and_underfit\"><img src=\"https://www.tensorflow.org/images/tf_logo_32px.png\">Ver em TensorFlow.org</a>\n",
        "</td>\n",
        "  <td>     <a target=\"_blank\" href=\"https://colab.research.google.com/github/tensorflow/docs-l10n/blob/master/site/pt-br/tutorials/keras/overfit_and_underfit.ipynb\"><img src=\"https://www.tensorflow.org/images/colab_logo_32px.png\">Executar no Google Colab</a>\n",
        "</td>\n",
        "  <td>     <a target=\"_blank\" href=\"https://github.com/tensorflow/docs-l10n/blob/master/site/pt-br/tutorials/keras/overfit_and_underfit.ipynb\"><img src=\"https://www.tensorflow.org/images/GitHub-Mark-32px.png\">Ver fonte no GitHub</a>\n",
        "</td>\n",
        "  <td>     <a href=\"https://storage.googleapis.com/tensorflow_docs/docs-l10n/site/pt-br/tutorials/keras/overfit_and_underfit.ipynb\"><img src=\"https://www.tensorflow.org/images/download_logo_32px.png\">Baixar notebook</a>\n",
        "</td>\n",
        "</table>"
      ]
    },
    {
      "cell_type": "markdown",
      "metadata": {
        "id": "19rPukKZsPG6"
      },
      "source": [
        "Como sempre, o código deste exemplo usará a API `tf.keras`. Se quiser saber mais sobre ela, confira o [guia do Keras](https://www.tensorflow.org/guide/keras) do TensorFlow.\n",
        "\n",
        "Nos dois exemplos anteriores, [classificação de textos](text_classification_with_hub.ipynb) e [previsão de eficiência de combustível](regression.ipynb), a exatidão dos modelos para os dados de validação atinge o pico após fazer o treinamento com um determinado número de épocas. Depois, ela fica estagnada ou começa a cair.\n",
        "\n",
        "Em outras palavras, ocorre um *overfitting* do modelo para os dados de treinamento. Aprender a lidar com o overfitting é importante. Embora geralmente seja possível atingir uma alta exatidão para o *conjunto de treinamento*, o que você realmente vai querer é desenvolver modelos que fazem boas generalizações para um *conjunto de teste* (ou dados nunca vistos).\n",
        "\n",
        "O oposto de overfitting é *underfitting*, que ocorre quando ainda há espaço para melhorias com os dados de treinamento. Há vários motivos para isso correr: se o modelo não for poderoso o bastante, se estiver regularizado demais ou se simplesmente não tiver sido treinado o bastante. Isso significa que a rede não aprendeu padrões relevantes para os dados de treinamento.\n",
        "\n",
        "Porém, se você treinar demais, o modelo começará a fazer overfitting e aprender padrões dos dados de treinamento que não fazem generalizações para os dados de teste. É preciso atingir um ponto de equilíbrio. Entender como escolher o número de épocas adequado para o treinamento (mostrado abaixo) é uma habilidade muito útil.\n",
        "\n",
        "Para evitar o overfitting, a melhor solução é utilizar dados de treinamento mais completos. O dataset deve abranger o intervalo completo de entradas que o modelo deverá tratar. Dados adicionais serão úteis somente se contiverem casos novos e interessantes.\n",
        "\n",
        "Um modelo treinado com dados mais completos vai fazer generalizações naturalmente melhores. Quando isso não é mais possível, a melhor solução é usar outras técnicas, como regularização, que colocam restrições na quantidade e no tipo de informações que o modelo pode armazenar. Se uma rede puder memorizar somente uma pequena quantidade de padrões, o processo de otimização forçará que ela se concentre nos padrões mais presentes, o que dará uma maior chance de fazer generalizações melhores.\n",
        "\n",
        "Neste notebook, você verá diversas técnicas comuns de regularização e as utilizará para melhorar um modelo de classificação."
      ]
    },
    {
      "cell_type": "markdown",
      "metadata": {
        "id": "WL8UoOTmGGsL"
      },
      "source": [
        "## Configuração"
      ]
    },
    {
      "cell_type": "markdown",
      "metadata": {
        "id": "9FklhSI0Gg9R"
      },
      "source": [
        "Antes de começar, importe os pacotes necessários:"
      ]
    },
    {
      "cell_type": "code",
      "execution_count": null,
      "metadata": {
        "id": "5pZ8A2liqvgk"
      },
      "outputs": [],
      "source": [
        "import tensorflow as tf\n",
        "\n",
        "from tensorflow.keras import layers\n",
        "from tensorflow.keras import regularizers\n",
        "\n",
        "print(tf.__version__)"
      ]
    },
    {
      "cell_type": "code",
      "execution_count": null,
      "metadata": {
        "id": "QnAtAjqRYVXe"
      },
      "outputs": [],
      "source": [
        "!pip install git+https://github.com/tensorflow/docs\n",
        "\n",
        "import tensorflow_docs as tfdocs\n",
        "import tensorflow_docs.modeling\n",
        "import tensorflow_docs.plots"
      ]
    },
    {
      "cell_type": "code",
      "execution_count": null,
      "metadata": {
        "id": "-pnOU-ctX27Q"
      },
      "outputs": [],
      "source": [
        "from  IPython import display\n",
        "from matplotlib import pyplot as plt\n",
        "\n",
        "import numpy as np\n",
        "\n",
        "import pathlib\n",
        "import shutil\n",
        "import tempfile\n"
      ]
    },
    {
      "cell_type": "code",
      "execution_count": null,
      "metadata": {
        "id": "jj6I4dvTtbUe"
      },
      "outputs": [],
      "source": [
        "logdir = pathlib.Path(tempfile.mkdtemp())/\"tensorboard_logs\"\n",
        "shutil.rmtree(logdir, ignore_errors=True)"
      ]
    },
    {
      "cell_type": "markdown",
      "metadata": {
        "id": "1cweoTiruj8O"
      },
      "source": [
        "## Dataset Higgs\n",
        "\n",
        "O objetivo deste tutorial não é falar sobre física de partículas, então não se preocupe com os detalhes do dataset, que contém 11 milhões de exemplos, cada um com 28 características, além de um rótulo de classe binária."
      ]
    },
    {
      "cell_type": "code",
      "execution_count": null,
      "metadata": {
        "id": "YPjAvwb-6dFd"
      },
      "outputs": [],
      "source": [
        "gz = tf.keras.utils.get_file('HIGGS.csv.gz', 'http://mlphysics.ics.uci.edu/data/higgs/HIGGS.csv.gz')"
      ]
    },
    {
      "cell_type": "code",
      "execution_count": null,
      "metadata": {
        "id": "AkiyUdaWIrww"
      },
      "outputs": [],
      "source": [
        "FEATURES = 28"
      ]
    },
    {
      "cell_type": "markdown",
      "metadata": {
        "id": "SFggl9gYKKRJ"
      },
      "source": [
        "A classe `tf.data.experimental.CsvDataset` pode ser usada para ler registros CSV diretamente de um arquivo gzip, sem nenhum passo intermediário de descompactação."
      ]
    },
    {
      "cell_type": "code",
      "execution_count": null,
      "metadata": {
        "id": "QHz4sLVQEVIU"
      },
      "outputs": [],
      "source": [
        "ds = tf.data.experimental.CsvDataset(gz,[float(),]*(FEATURES+1), compression_type=\"GZIP\")"
      ]
    },
    {
      "cell_type": "markdown",
      "metadata": {
        "id": "HzahEELTKlSV"
      },
      "source": [
        "A classe que lê o CSV retorna uma lista de escalares para cada registro. A seguinte função reencapsula essa lista de escalares em um par (feature_vector, label)."
      ]
    },
    {
      "cell_type": "code",
      "execution_count": null,
      "metadata": {
        "id": "zPD6ICDlF6Wf"
      },
      "outputs": [],
      "source": [
        "def pack_row(*row):\n",
        "  label = row[0]\n",
        "  features = tf.stack(row[1:],1)\n",
        "  return features, label"
      ]
    },
    {
      "cell_type": "markdown",
      "metadata": {
        "id": "4oa8tLuwLsbO"
      },
      "source": [
        "O TensorFlow é mais eficiente ao operar grandes lotes de dados.\n",
        "\n",
        "Portanto, em vez de reencapsular cada linha individualmente, crie um novo `tf.data.Dataset` que receba lotes de 10 mil exemplos, aplique a função `pack_row` a cada lote e depois divida os lotes em registros individuais:"
      ]
    },
    {
      "cell_type": "code",
      "execution_count": null,
      "metadata": {
        "id": "-w-VHTwwGVoZ"
      },
      "outputs": [],
      "source": [
        "packed_ds = ds.batch(10000).map(pack_row).unbatch()"
      ]
    },
    {
      "cell_type": "markdown",
      "metadata": {
        "id": "lUbxc5bxNSXV"
      },
      "source": [
        "Avalie alguns registros desse novo `packed_ds`.\n",
        "\n",
        "As características não estão perfeitamente normalizadas, mas isso será suficiente para este tutorial."
      ]
    },
    {
      "cell_type": "code",
      "execution_count": null,
      "metadata": {
        "id": "TfcXuv33Fvka"
      },
      "outputs": [],
      "source": [
        "for features,label in packed_ds.batch(1000).take(1):\n",
        "  print(features[0])\n",
        "  plt.hist(features.numpy().flatten(), bins = 101)"
      ]
    },
    {
      "cell_type": "markdown",
      "metadata": {
        "id": "ICKZRY7gN-QM"
      },
      "source": [
        "Para manter este tutorial relativamente curto, use somente os primeiros mil exemplos para validação e os 10 mil seguintes para treinamento:"
      ]
    },
    {
      "cell_type": "code",
      "execution_count": null,
      "metadata": {
        "id": "hmk49OqZIFZP"
      },
      "outputs": [],
      "source": [
        "N_VALIDATION = int(1e3)\n",
        "N_TRAIN = int(1e4)\n",
        "BUFFER_SIZE = int(1e4)\n",
        "BATCH_SIZE = 500\n",
        "STEPS_PER_EPOCH = N_TRAIN//BATCH_SIZE"
      ]
    },
    {
      "cell_type": "markdown",
      "metadata": {
        "id": "FP3M9DmvON32"
      },
      "source": [
        "Os métodos `Dataset.skip` e `Dataset.take` facilitam esse processo.\n",
        "\n",
        "Além disso, use o método `Dataset.cache` para garantir que o loader não precise ler novamente os dados do arquivo em cada época:"
      ]
    },
    {
      "cell_type": "code",
      "execution_count": null,
      "metadata": {
        "id": "H8H_ZzpBOOk-"
      },
      "outputs": [],
      "source": [
        "validate_ds = packed_ds.take(N_VALIDATION).cache()\n",
        "train_ds = packed_ds.skip(N_VALIDATION).take(N_TRAIN).cache()"
      ]
    },
    {
      "cell_type": "code",
      "execution_count": null,
      "metadata": {
        "id": "9zAOqk2_Px7K"
      },
      "outputs": [],
      "source": [
        "train_ds"
      ]
    },
    {
      "cell_type": "markdown",
      "metadata": {
        "id": "6PMliHoVO3OL"
      },
      "source": [
        "Esses datasets retornam exemplos individuais. Use o método `Dataset.batch` para criar lotes de tamanho adequado para o treinamento. Antes de fazer a divisão em lotes, lembre-se de usar `Dataset.shuffle` e `Dataset.repeat` no conjunto de treinamento."
      ]
    },
    {
      "cell_type": "code",
      "execution_count": null,
      "metadata": {
        "id": "Y7I4J355O223"
      },
      "outputs": [],
      "source": [
        "validate_ds = validate_ds.batch(BATCH_SIZE)\n",
        "train_ds = train_ds.shuffle(BUFFER_SIZE).repeat().batch(BATCH_SIZE)"
      ]
    },
    {
      "cell_type": "markdown",
      "metadata": {
        "id": "lglk41MwvU5o"
      },
      "source": [
        "## Demonstração do overfitting\n",
        "\n",
        "A forma mais simples de evitar o overfitting é começar com um modelo pequeno: um modelo com uma pequena quantidade de parâmetros que podem ser aprendidos (determinada pelo número de camadas e pelo número de unidades por camada). No aprendizado profundo, a quantidade de parâmetros que podem ser aprendidos em um modelo costuma ser chamada de \"capacidade\" do modelo.\n",
        "\n",
        "Intuitivamente, um modelo com mais parâmetros terá mais \"capacidade de memorização\" e, portanto, conseguirá aprender mais facilmente um mapeamento perfeito tipo dicionário entre as amostras de treinamento e seus alvos, um mapeamento sem qualquer poder de generalização, mas isso seria inútil ao fazer previsões para dados nunca vistos.\n",
        "\n",
        "Nunca se esqueça de que os modelos de aprendizado profundo costumam ser bons em se adequarem aos dados de treinamento, mas o verdadeiro desafio é a generalização, não a adequação.\n",
        "\n",
        "Por outro lado, se a rede tiver recursos de memorização limitados, não conseguirá aprender o mapeamento tão facilmente. Para minimizar a perda, ela terá que aprender as representações compactadas, que têm maior poder de previsão. Ao mesmo tempo, se o seu modelo for pequeno demais, terá dificuldades de se adequar aos dados de treinamento. Há um equilíbrio entre \"capacidade demais\" e \"capacidade insuficiente\".\n",
        "\n",
        "Infelizmente, não existe uma fórmula mágica para determinar a arquitetura ou tamanho certo do modelo (quanto ao número de camadas ou ao tamanho certo de cada camada). Você precisará fazer testes, usando uma série de diferentes arquiteturas.\n",
        "\n",
        "Para encontrar o tamanho adequado para o modelo, é melhor começar com poucas camadas e parâmetros, depois aumentar o tamanho das camadas ou adicionar novas camadas até observar ganhos decrescentes quanto à perda de validação.\n",
        "\n",
        "Comece com um modelo simples, usando somente camadas densamente conectadas (`tf.keras.layers.Dense`) como linha de base, depois crie modelos maiores e compare-os."
      ]
    },
    {
      "cell_type": "markdown",
      "metadata": {
        "id": "_ReKHdC2EgVu"
      },
      "source": [
        "### Procedimento de treinamento"
      ]
    },
    {
      "cell_type": "markdown",
      "metadata": {
        "id": "pNzkSkkXSP5l"
      },
      "source": [
        "Diversos modelos são treinados de forma melhor se você reduzir gradualmente a taxa de aprendizado durante o treinamento. Use `tf.keras.optimizers.schedules` para reduzir a taxa de aprendizado ao longo do tempo:"
      ]
    },
    {
      "cell_type": "code",
      "execution_count": null,
      "metadata": {
        "id": "LwQp-ERhAD6F"
      },
      "outputs": [],
      "source": [
        "lr_schedule = tf.keras.optimizers.schedules.InverseTimeDecay(\n",
        "  0.001,\n",
        "  decay_steps=STEPS_PER_EPOCH*1000,\n",
        "  decay_rate=1,\n",
        "  staircase=False)\n",
        "\n",
        "def get_optimizer():\n",
        "  return tf.keras.optimizers.Adam(lr_schedule)"
      ]
    },
    {
      "cell_type": "markdown",
      "metadata": {
        "id": "kANLx6OYTQ8B"
      },
      "source": [
        "O código acima define um `tf.keras.optimizers.schedules.InverseTimeDecay` para diminuir a taxa de aprendizado hiperbolicamente para metade da taxa base ao chegar a 1.000 épocas, um terço ao chegar a 2.000 épocas e assim por diante."
      ]
    },
    {
      "cell_type": "code",
      "execution_count": null,
      "metadata": {
        "id": "HIo_yPjEAFgn"
      },
      "outputs": [],
      "source": [
        "step = np.linspace(0,100000)\n",
        "lr = lr_schedule(step)\n",
        "plt.figure(figsize = (8,6))\n",
        "plt.plot(step/STEPS_PER_EPOCH, lr)\n",
        "plt.ylim([0,max(plt.ylim())])\n",
        "plt.xlabel('Epoch')\n",
        "_ = plt.ylabel('Learning Rate')\n"
      ]
    },
    {
      "cell_type": "markdown",
      "metadata": {
        "id": "ya7x7gr9UjU0"
      },
      "source": [
        "Cada modelo neste tutorial usará a mesma configuração de treinamento. Portanto, configure tudo de uma maneira reutilizável, começando pela lista de callbacks.\n",
        "\n",
        "Neste tutorial, o treinamento é feito com várias épocas curtas. Para reduzir o ruído de criação de logs, use `tfdocs.EpochDots`, que simplesmente registra um `.` para cada época e um conjunto completo de métricas a cada 100 épocas.\n",
        "\n",
        "Em seguida, inclua `tf.keras.callbacks.EarlyStopping` para evitar tempos de treinamento longos e desnecessários. É importante notar que esse callback monitora `val_binary_crossentropy`, não `val_loss`. Essa diferença será importante mais adiante.\n",
        "\n",
        "Use `callbacks.TensorBoard` para gerar logs do TensorBoard referentes ao treinamento.\n"
      ]
    },
    {
      "cell_type": "code",
      "execution_count": null,
      "metadata": {
        "id": "vSv8rfw_T85n"
      },
      "outputs": [],
      "source": [
        "def get_callbacks(name):\n",
        "  return [\n",
        "    tfdocs.modeling.EpochDots(),\n",
        "    tf.keras.callbacks.EarlyStopping(monitor='val_binary_crossentropy', patience=200),\n",
        "    tf.keras.callbacks.TensorBoard(logdir/name),\n",
        "  ]"
      ]
    },
    {
      "cell_type": "markdown",
      "metadata": {
        "id": "VhctzKhBWVDD"
      },
      "source": [
        "De maneira similar, cada modelo usará as mesmas configurações de `Model.compile` de `Model.fit`:"
      ]
    },
    {
      "cell_type": "code",
      "execution_count": null,
      "metadata": {
        "id": "xRCGwU3YH5sT"
      },
      "outputs": [],
      "source": [
        "def compile_and_fit(model, name, optimizer=None, max_epochs=10000):\n",
        "  if optimizer is None:\n",
        "    optimizer = get_optimizer()\n",
        "  model.compile(optimizer=optimizer,\n",
        "                loss=tf.keras.losses.BinaryCrossentropy(from_logits=True),\n",
        "                metrics=[\n",
        "                  tf.keras.metrics.BinaryCrossentropy(\n",
        "                      from_logits=True, name='binary_crossentropy'),\n",
        "                  'accuracy'])\n",
        "\n",
        "  model.summary()\n",
        "\n",
        "  history = model.fit(\n",
        "    train_ds,\n",
        "    steps_per_epoch = STEPS_PER_EPOCH,\n",
        "    epochs=max_epochs,\n",
        "    validation_data=validate_ds,\n",
        "    callbacks=get_callbacks(name),\n",
        "    verbose=0)\n",
        "  return history"
      ]
    },
    {
      "cell_type": "markdown",
      "metadata": {
        "id": "mxBeiLUiWHJV"
      },
      "source": [
        "### Modelo minúsculo"
      ]
    },
    {
      "cell_type": "markdown",
      "metadata": {
        "id": "a6JDv12scLTI"
      },
      "source": [
        "Comece treinando um modelo:"
      ]
    },
    {
      "cell_type": "code",
      "execution_count": null,
      "metadata": {
        "id": "EZh-QFjKHb70"
      },
      "outputs": [],
      "source": [
        "tiny_model = tf.keras.Sequential([\n",
        "    layers.Dense(16, activation='elu', input_shape=(FEATURES,)),\n",
        "    layers.Dense(1)\n",
        "])"
      ]
    },
    {
      "cell_type": "code",
      "execution_count": null,
      "metadata": {
        "id": "X72IUdWYipIS"
      },
      "outputs": [],
      "source": [
        "size_histories = {}"
      ]
    },
    {
      "cell_type": "code",
      "execution_count": null,
      "metadata": {
        "id": "bdOcJtPGHhJ5"
      },
      "outputs": [],
      "source": [
        "size_histories['Tiny'] = compile_and_fit(tiny_model, 'sizes/Tiny')"
      ]
    },
    {
      "cell_type": "markdown",
      "metadata": {
        "id": "rS_QGT6icwdI"
      },
      "source": [
        "Agora, verifique como o modelo se saiu:"
      ]
    },
    {
      "cell_type": "code",
      "execution_count": null,
      "metadata": {
        "id": "dkEvb2x5XsjE"
      },
      "outputs": [],
      "source": [
        "plotter = tfdocs.plots.HistoryPlotter(metric = 'binary_crossentropy', smoothing_std=10)\n",
        "plotter.plot(size_histories)\n",
        "plt.ylim([0.5, 0.7])"
      ]
    },
    {
      "cell_type": "markdown",
      "metadata": {
        "id": "LGxGzh_FWOJ8"
      },
      "source": [
        "### Modelo pequeno"
      ]
    },
    {
      "cell_type": "markdown",
      "metadata": {
        "id": "YjMb6E72f2pN"
      },
      "source": [
        "Para verificar se você consegue superar o desempenho do modelo pequeno, treine modelos maiores progressivamente.\n",
        "\n",
        "Experimente usar duas camadas ocultas, com 16 unidades cada:"
      ]
    },
    {
      "cell_type": "code",
      "execution_count": null,
      "metadata": {
        "id": "QKgdXPx9usBa"
      },
      "outputs": [],
      "source": [
        "small_model = tf.keras.Sequential([\n",
        "    # `input_shape` is only required here so that `.summary` works.\n",
        "    layers.Dense(16, activation='elu', input_shape=(FEATURES,)),\n",
        "    layers.Dense(16, activation='elu'),\n",
        "    layers.Dense(1)\n",
        "])"
      ]
    },
    {
      "cell_type": "code",
      "execution_count": null,
      "metadata": {
        "id": "LqG3MXF5xSjR"
      },
      "outputs": [],
      "source": [
        "size_histories['Small'] = compile_and_fit(small_model, 'sizes/Small')"
      ]
    },
    {
      "cell_type": "markdown",
      "metadata": {
        "id": "L-DGRBbGxI6G"
      },
      "source": [
        "### Modelo médio"
      ]
    },
    {
      "cell_type": "markdown",
      "metadata": {
        "id": "SrfoVQheYSO5"
      },
      "source": [
        "Agora, experimente usar três camadas ocultas, com 64 unidades cada:"
      ]
    },
    {
      "cell_type": "code",
      "execution_count": null,
      "metadata": {
        "id": "jksi-XtaxDAh"
      },
      "outputs": [],
      "source": [
        "medium_model = tf.keras.Sequential([\n",
        "    layers.Dense(64, activation='elu', input_shape=(FEATURES,)),\n",
        "    layers.Dense(64, activation='elu'),\n",
        "    layers.Dense(64, activation='elu'),\n",
        "    layers.Dense(1)\n",
        "])"
      ]
    },
    {
      "cell_type": "markdown",
      "metadata": {
        "id": "jbngCZliYdma"
      },
      "source": [
        "E treine o modelo usando os mesmos dados:"
      ]
    },
    {
      "cell_type": "code",
      "execution_count": null,
      "metadata": {
        "id": "Ofn1AwDhx-Fe"
      },
      "outputs": [],
      "source": [
        "size_histories['Medium']  = compile_and_fit(medium_model, \"sizes/Medium\")"
      ]
    },
    {
      "cell_type": "markdown",
      "metadata": {
        "id": "vIPuf23FFaVn"
      },
      "source": [
        "### Modelo grande\n",
        "\n",
        "Para fins demonstrativos, você pode criar um modelo maior ainda e verificar com que velocidade ele sofre overfitting. Em seguida, adicione a esse comparativo uma rede que tenha muito mais capacidade, bem maior do que seria necessário para o problema em questão:"
      ]
    },
    {
      "cell_type": "code",
      "execution_count": null,
      "metadata": {
        "id": "ghQwwqwqvQM9"
      },
      "outputs": [],
      "source": [
        "large_model = tf.keras.Sequential([\n",
        "    layers.Dense(512, activation='elu', input_shape=(FEATURES,)),\n",
        "    layers.Dense(512, activation='elu'),\n",
        "    layers.Dense(512, activation='elu'),\n",
        "    layers.Dense(512, activation='elu'),\n",
        "    layers.Dense(1)\n",
        "])"
      ]
    },
    {
      "cell_type": "markdown",
      "metadata": {
        "id": "D-d-i5DaYmr7"
      },
      "source": [
        "Novamente, treine o modelo usando os mesmos dados:"
      ]
    },
    {
      "cell_type": "code",
      "execution_count": null,
      "metadata": {
        "id": "U1A99dhqvepf"
      },
      "outputs": [],
      "source": [
        "size_histories['large'] = compile_and_fit(large_model, \"sizes/large\")"
      ]
    },
    {
      "cell_type": "markdown",
      "metadata": {
        "id": "Fy3CMUZpzH3d"
      },
      "source": [
        "### Plotar as perdas de treinamento e validação"
      ]
    },
    {
      "cell_type": "markdown",
      "metadata": {
        "id": "HSlo1F4xHuuM"
      },
      "source": [
        "As linhas sólidas mostram a perda de treinamento, enquanto as linhas tracejadas mostram a perda de validação (lembre-se de que uma perda de validação menor indica um modelo melhor)."
      ]
    },
    {
      "cell_type": "markdown",
      "metadata": {
        "id": "OLhL1AszdLfM"
      },
      "source": [
        "Embora criar um modelo maior ofereça uma potência maior, se essa potência não for restringida de alguma forma, é fácil ocorrer overfitting para o conjunto de treinamento.\n",
        "\n",
        "Tipicamente, neste exemplo, somente o modelo `\"Tiny\"` (minúsculo) consegue evitar totalmente o overfitting, e cada modelo maior sofre overfitting mais rapidamente. Isso fica tão grave para o modelo `\"large\"` (grande) que você precisa mudar o gráfico para uma escala logarítmica para entender o que está acontecendo.\n",
        "\n",
        "Isso fica aparente ao plotar e comparar as métricas de validação com as métricas de treinamento.\n",
        "\n",
        "- É normal que haja uma pequena diferença.\n",
        "- Se as duas métricas estiverem caminhando na mesma direção, está tudo certo.\n",
        "- Se a métrica de validação começar a ficar estagnada enquanto a de treinamento continuar melhorando, provavelmente o overfitting está perto de ocorrer.\n",
        "- Se a métrica de validação estiver caminhando na direção errada, o modelo está claramente sofrendo overfitting."
      ]
    },
    {
      "cell_type": "code",
      "execution_count": null,
      "metadata": {
        "id": "0XmKDtOWzOpk"
      },
      "outputs": [],
      "source": [
        "plotter.plot(size_histories)\n",
        "a = plt.xscale('log')\n",
        "plt.xlim([5, max(plt.xlim())])\n",
        "plt.ylim([0.5, 0.7])\n",
        "plt.xlabel(\"Epochs [Log Scale]\")"
      ]
    },
    {
      "cell_type": "markdown",
      "metadata": {
        "id": "UekcaQdmZxnW"
      },
      "source": [
        "Observação: todas as execuções de treinamento acima usaram `callbacks.EarlyStopping` para encerrar o treinamento quando estava claro que o modelo não estava progredindo."
      ]
    },
    {
      "cell_type": "markdown",
      "metadata": {
        "id": "DEQNKadHA0M3"
      },
      "source": [
        "### Ver no TensorBoard\n",
        "\n",
        "Todos esses modelos criaram logs do TensorBoard durante o treinamento.\n",
        "\n",
        "Abra um visualizador integrado do TensorBoard dentro de um notebook (lamentamos, mas não é possível exibir em tensorflow.org):"
      ]
    },
    {
      "cell_type": "code",
      "execution_count": null,
      "metadata": {
        "id": "6oa1lkJddZ-m"
      },
      "outputs": [],
      "source": [
        "# Load the TensorBoard notebook extension\n",
        "%load_ext tensorboard\n",
        "\n",
        "# Open an embedded TensorBoard viewer\n",
        "%tensorboard --logdir {logdir}/sizes"
      ]
    },
    {
      "cell_type": "markdown",
      "metadata": {
        "id": "HkIIzE5rBBY_"
      },
      "source": [
        "Você pode ver os [resultados de uma execução anterior](https://tensorboard.dev/experiment/vW7jmmF9TmKmy3rbheMQpw/#scalars&_smoothingWeight=0.97) deste notebook em [TensorBoard.dev](https://tensorboard.dev/)."
      ]
    },
    {
      "cell_type": "markdown",
      "metadata": {
        "id": "ASdv7nsgEFhx"
      },
      "source": [
        "## Estratégias para evitar o overfitting"
      ]
    },
    {
      "cell_type": "markdown",
      "metadata": {
        "id": "YN512ksslaxJ"
      },
      "source": [
        "Antes de ler o conteúdo desta seção, copie os logs de treinamento do modelo `\"Tiny\"` (minúsculo) acima para usá-lo como linha de base de comparação."
      ]
    },
    {
      "cell_type": "code",
      "execution_count": null,
      "metadata": {
        "id": "40k1eBtnQzNo"
      },
      "outputs": [],
      "source": [
        "shutil.rmtree(logdir/'regularizers/Tiny', ignore_errors=True)\n",
        "shutil.copytree(logdir/'sizes/Tiny', logdir/'regularizers/Tiny')"
      ]
    },
    {
      "cell_type": "code",
      "execution_count": null,
      "metadata": {
        "id": "vFWMeFo7jLpN"
      },
      "outputs": [],
      "source": [
        "regularizer_histories = {}\n",
        "regularizer_histories['Tiny'] = size_histories['Tiny']"
      ]
    },
    {
      "cell_type": "markdown",
      "metadata": {
        "id": "4rHoVWcswFLa"
      },
      "source": [
        "### Acrescentar regularização de pesos\n"
      ]
    },
    {
      "cell_type": "markdown",
      "metadata": {
        "id": "kRxWepNawbBK"
      },
      "source": [
        "Talvez você já conheça o princípio da Navalha de Occam: dadas duas explicações para alguma coisa, a explicação com maior probabilidade de ser a correta é a \"mais simples\", aquela que faz o menor número de suposições. Isso também se aplica aos modelos aprendidos por redes neurais: para determinados dados de treinamento e uma arquitetura de rede, há diversos conjuntos de valores de peso (diversos modelos) que podem explicar os dados, e os modelos mais simples têm menor probabilidade de sofrerem overfitting do que os mais complexos.\n",
        "\n",
        "Um \"modelo simples\" neste contexto é um modelo em que a distribuição de valores de parâmetros tem menos entropia (ou um modelo com menos parâmetros, conforme demonstrado na seção acima). Portanto, uma forma comum de mitigar o overfitting é colocar restrições na complexidade de uma rede, forçando que seus pesos tenham somente valores pequenos, o que deixa a distribuição dos valores de pesos mais \"regular\". Isso é chamado de \"regularização de pesos\" e é feito acrescentando-se um custo associado a ter pesos maiores à função de perda da rede. Há dois tipos de custo:\n",
        "\n",
        "- [Regularização L1](https://developers.google.com/machine-learning/glossary/#L1_regularization), em que o custo acrescentado é proporcional ao valor absoluto dos coeficientes de pesos (ou seja, o que é chamado de \"norma L1\" dos pesos).\n",
        "\n",
        "- [Regularização L2](https://developers.google.com/machine-learning/glossary/#L2_regularization), em que o custo acrescentado é proporcional ao quadrado do valor dos coeficientes de pesos (ou seja, o que é chamado de \"norma L2\" quadrada dos pesos). A regularização L2 também é chamada de decaimento de pesos no contexto de redes neurais. Não se confunda com os diferentes nomes: o decaimento de pesos é matematicamente o mesmo que a regularização L2.\n",
        "\n",
        "A regularização L1 tende os pesos a exatamente zero, o que incentiva um modelo esparso. A regularização L2 penaliza os parâmetros de pesos sem torná-los esparsos, já que a penalidade vai a zero para pesos pequenos, um motivo pelo qual a regularização L2 é mais comum.\n",
        "\n",
        "Em `tf.keras`, a regularização de pesos é acrescentada passando-se instâncias do regularizador de pesos às camadas como argumentos de palavras-chave. Acrescente a regularização de pesos L2:"
      ]
    },
    {
      "cell_type": "code",
      "execution_count": null,
      "metadata": {
        "id": "HFGmcwduwVyQ"
      },
      "outputs": [],
      "source": [
        "l2_model = tf.keras.Sequential([\n",
        "    layers.Dense(512, activation='elu',\n",
        "                 kernel_regularizer=regularizers.l2(0.001),\n",
        "                 input_shape=(FEATURES,)),\n",
        "    layers.Dense(512, activation='elu',\n",
        "                 kernel_regularizer=regularizers.l2(0.001)),\n",
        "    layers.Dense(512, activation='elu',\n",
        "                 kernel_regularizer=regularizers.l2(0.001)),\n",
        "    layers.Dense(512, activation='elu',\n",
        "                 kernel_regularizer=regularizers.l2(0.001)),\n",
        "    layers.Dense(1)\n",
        "])\n",
        "\n",
        "regularizer_histories['l2'] = compile_and_fit(l2_model, \"regularizers/l2\")"
      ]
    },
    {
      "cell_type": "markdown",
      "metadata": {
        "id": "bUUHoXb7w-_C"
      },
      "source": [
        "`l2(0.001)` significa que cada coeficiente na matriz de pesos da camada acrescentará `0.001 * weight_coefficient_value**2` à **perda** total da rede.\n",
        "\n",
        "É por isso que estamos monitorando `binary_crossentropy` diretamente, pois esse componente de regularização não está presente.\n",
        "\n",
        "Portanto, aquele mesmo modelo `\"Large\"` (grande) com penalidade de regularização `L2` tem desempenho muito melhor:\n"
      ]
    },
    {
      "cell_type": "code",
      "execution_count": null,
      "metadata": {
        "id": "7wkfLyxBZdh_"
      },
      "outputs": [],
      "source": [
        "plotter.plot(regularizer_histories)\n",
        "plt.ylim([0.5, 0.7])"
      ]
    },
    {
      "cell_type": "markdown",
      "metadata": {
        "id": "Kx1YHMsVxWjP"
      },
      "source": [
        "Conforme demonstrado no diagrama acima, agora o modelo com regularização `\"L2\"` é muito mais competitivo em relação ao modelo `\"Tiny\"` (minúsculo). Esse modelo `\"L2\"` também é muito mais resistente ao overfitting do que o modelo `\"Large\"` (grande) no qual foi baseado, apesar de ter a mesma quantidade de parâmetros."
      ]
    },
    {
      "cell_type": "markdown",
      "metadata": {
        "id": "JheBk6f8jMQ7"
      },
      "source": [
        "#### Mais informações\n",
        "\n",
        "É preciso notar dois aspectos importantes sobre esse tipo de regularização:\n",
        "\n",
        "1. Se você estiver escrevendo seu próprio loop de treinamento, precisa perguntar ao modelo suas perdas de regularização."
      ]
    },
    {
      "cell_type": "code",
      "execution_count": null,
      "metadata": {
        "id": "apDHQNybjaML"
      },
      "outputs": [],
      "source": [
        "result = l2_model(features)\n",
        "regularization_loss=tf.add_n(l2_model.losses)"
      ]
    },
    {
      "cell_type": "markdown",
      "metadata": {
        "id": "MLhG6fMSjE-J"
      },
      "source": [
        "1. Essa implementação funciona adicionando-se as penalidades de pesos à perda do modelo e depois aplicando-se um procedimento de otimização padrão em seguida.\n",
        "\n",
        "Existe uma segunda estratégia, que executa o otimizador somente na perda bruta e então, ao aplicar o passo calculado, o otimizador também aplica um decaimento de pesos. Esse \"decaimento de pesos desacoplado\" é usado em otimizadores como `tf.keras.optimizers.Ftrl` e `tfa.optimizers.AdamW`."
      ]
    },
    {
      "cell_type": "markdown",
      "metadata": {
        "id": "HmnBNOOVxiG8"
      },
      "source": [
        "### Acrecentar dropout\n",
        "\n",
        "O dropout é uma das técnicas de regularização mais eficazes e mais usadas para redes neurais, desenvolvida por Hinton e seus estudantes da Universidade de Toronto.\n",
        "\n",
        "Veja uma explicação intuitiva para o dropout: como nós individuais da rede não podem depender da saída de outros, cada nós precisa gerar características que sejam úteis por  si só.\n",
        "\n",
        "O dropout, quando aplicado a uma camada, consiste da \"eliminação\" (ou seja, definição como zero) aleatória de uma quantidade de características de saída da camada durante o treinamento. Por exemplo, normalmente uma camada retornaria um vetor `[0.2, 0.5, 1.3, 0.8, 1.1]` para uma determinada amostra de entrada durante o treinamento. Após a aplicação do dropout, esse mesmo vetor terá algumas entradas iguais a zero distribuídas aleatoriamente (por exemplo, `[0, 0.5, 1.3, 0, 1.1]`).\n",
        "\n",
        "A \"taxa de dropout\" é a fração das características que estão sendo definidas como zero. Geralmente, fica entre 0,2 e 0,5. No momento do teste, nenhuma unidade sofre dropout e, em vez disso, os valores de saída da camada são reduzidos por um fator igual à taxa de dropout para balancear o fato de que mais unidades estão ativas do que no momento de treinamento.\n",
        "\n",
        "No Keras, você pode acrescentar dropout a uma rede pela camada `tf.keras.layers.Dropout`, que é aplicada à saída da camada logo antes dela.\n",
        "\n",
        "Acrescente duas camadas de dropout à sua rede para verificar o desempenho delas em reduzir o overfitting:"
      ]
    },
    {
      "cell_type": "code",
      "execution_count": null,
      "metadata": {
        "id": "OFEYvtrHxSWS"
      },
      "outputs": [],
      "source": [
        "dropout_model = tf.keras.Sequential([\n",
        "    layers.Dense(512, activation='elu', input_shape=(FEATURES,)),\n",
        "    layers.Dropout(0.5),\n",
        "    layers.Dense(512, activation='elu'),\n",
        "    layers.Dropout(0.5),\n",
        "    layers.Dense(512, activation='elu'),\n",
        "    layers.Dropout(0.5),\n",
        "    layers.Dense(512, activation='elu'),\n",
        "    layers.Dropout(0.5),\n",
        "    layers.Dense(1)\n",
        "])\n",
        "\n",
        "regularizer_histories['dropout'] = compile_and_fit(dropout_model, \"regularizers/dropout\")"
      ]
    },
    {
      "cell_type": "code",
      "execution_count": null,
      "metadata": {
        "id": "SPZqwVchx5xp"
      },
      "outputs": [],
      "source": [
        "plotter.plot(regularizer_histories)\n",
        "plt.ylim([0.5, 0.7])"
      ]
    },
    {
      "cell_type": "markdown",
      "metadata": {
        "id": "4zlHr4iaI1U6"
      },
      "source": [
        "Com esse gráfico, fica claro que essas duas estratégias de regularização melhoram o comportamento do modelo `\"Large\"` (grande), mas ele ainda não supera a linha de base `\"Tiny\"` (minúsculo).\n",
        "\n",
        "Agora experimente os dois juntos e veja se fica melhor."
      ]
    },
    {
      "cell_type": "markdown",
      "metadata": {
        "id": "u7qMg_7Nwy5t"
      },
      "source": [
        "### Combinar L2 + dropout"
      ]
    },
    {
      "cell_type": "code",
      "execution_count": null,
      "metadata": {
        "id": "7zfs_qQIw1cz"
      },
      "outputs": [],
      "source": [
        "combined_model = tf.keras.Sequential([\n",
        "    layers.Dense(512, kernel_regularizer=regularizers.l2(0.0001),\n",
        "                 activation='elu', input_shape=(FEATURES,)),\n",
        "    layers.Dropout(0.5),\n",
        "    layers.Dense(512, kernel_regularizer=regularizers.l2(0.0001),\n",
        "                 activation='elu'),\n",
        "    layers.Dropout(0.5),\n",
        "    layers.Dense(512, kernel_regularizer=regularizers.l2(0.0001),\n",
        "                 activation='elu'),\n",
        "    layers.Dropout(0.5),\n",
        "    layers.Dense(512, kernel_regularizer=regularizers.l2(0.0001),\n",
        "                 activation='elu'),\n",
        "    layers.Dropout(0.5),\n",
        "    layers.Dense(1)\n",
        "])\n",
        "\n",
        "regularizer_histories['combined'] = compile_and_fit(combined_model, \"regularizers/combined\")"
      ]
    },
    {
      "cell_type": "code",
      "execution_count": null,
      "metadata": {
        "id": "qDqBBxfI0Yd8"
      },
      "outputs": [],
      "source": [
        "plotter.plot(regularizer_histories)\n",
        "plt.ylim([0.5, 0.7])"
      ]
    },
    {
      "cell_type": "markdown",
      "metadata": {
        "id": "tE0OoNCQNTJv"
      },
      "source": [
        "Este modelo com a regularização `\"Combined\"` (combinada) é nitidamente o melhor até agora."
      ]
    },
    {
      "cell_type": "markdown",
      "metadata": {
        "id": "-dw23T03FEO1"
      },
      "source": [
        "### Ver no TensorBoard\n",
        "\n",
        "Esses modelos também são registrados nos logs do TensorBoard.\n",
        "\n",
        "Para abrir uma visualização integrada, execute o seguinte em uma célula de código (lamentamos, mas não é possível exibir em tensorflow.org):"
      ]
    },
    {
      "cell_type": "code",
      "execution_count": null,
      "metadata": {
        "id": "Op4vLqVWBK_y"
      },
      "outputs": [],
      "source": [
        "%tensorboard --logdir {logdir}/regularizers"
      ]
    },
    {
      "cell_type": "markdown",
      "metadata": {
        "id": "_rx5b294BXBd"
      },
      "source": [
        "Você pode ver os [resultados de uma execução anterior](https://tensorboard.dev/experiment/vW7jmmF9TmKmy3rbheMQpw/#scalars&_smoothingWeight=0.97) deste notebook em [TensorBoard.dev](https://tensorboard.dev/)."
      ]
    },
    {
      "cell_type": "markdown",
      "metadata": {
        "id": "uXJxtwBWIhjG"
      },
      "source": [
        "## Conclusões"
      ]
    },
    {
      "cell_type": "markdown",
      "metadata": {
        "id": "gjfnkEeQyAFG"
      },
      "source": [
        "Recapitulando, veja abaixo as formas mais comuns de evitar o overfitting em redes neurais:\n",
        "\n",
        "- Obter mais dados de treinamento.\n",
        "- Reduzir a capacidade da rede.\n",
        "- Acrescentar regularização de pesos.\n",
        "- Acrecentar dropout.\n",
        "\n",
        "Confira duas estratégias importantes não discutidas neste guia:\n",
        "\n",
        "- [Ampliação de dados](../images/data_augmentation.ipynb)\n",
        "- Normalização de lotes (`tf.keras.layers.BatchNormalization`)\n",
        "\n",
        "Lembre-se de que cada método pode ajudar individualmente, mas combiná-los pode ser ainda mais eficaz."
      ]
    }
  ],
  "metadata": {
    "accelerator": "GPU",
    "colab": {
      "name": "overfit_and_underfit.ipynb",
      "toc_visible": true
    },
    "kernelspec": {
      "display_name": "Python 3",
      "name": "python3"
    }
  },
  "nbformat": 4,
  "nbformat_minor": 0
}
