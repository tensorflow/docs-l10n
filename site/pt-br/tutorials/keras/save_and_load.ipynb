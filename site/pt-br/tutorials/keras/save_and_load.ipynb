{
  "cells": [
    {
      "cell_type": "markdown",
      "metadata": {
        "id": "g_nWetWWd_ns"
      },
      "source": [
        "##### Copyright 2019 The TensorFlow Authors."
      ]
    },
    {
      "cell_type": "code",
      "execution_count": null,
      "metadata": {
        "cellView": "form",
        "id": "2pHVBk_seED1"
      },
      "outputs": [],
      "source": [
        "#@title Licensed under the Apache License, Version 2.0 (the \"License\");\n",
        "# you may not use this file except in compliance with the License.\n",
        "# You may obtain a copy of the License at\n",
        "#\n",
        "# https://www.apache.org/licenses/LICENSE-2.0\n",
        "#\n",
        "# Unless required by applicable law or agreed to in writing, software\n",
        "# distributed under the License is distributed on an \"AS IS\" BASIS,\n",
        "# WITHOUT WARRANTIES OR CONDITIONS OF ANY KIND, either express or implied.\n",
        "# See the License for the specific language governing permissions and\n",
        "# limitations under the License."
      ]
    },
    {
      "cell_type": "code",
      "execution_count": null,
      "metadata": {
        "cellView": "form",
        "id": "N_fMsQ-N8I7j"
      },
      "outputs": [],
      "source": [
        "#@title MIT License\n",
        "#\n",
        "# Copyright (c) 2017 François Chollet\n",
        "#\n",
        "# Permission is hereby granted, free of charge, to any person obtaining a\n",
        "# copy of this software and associated documentation files (the \"Software\"),\n",
        "# to deal in the Software without restriction, including without limitation\n",
        "# the rights to use, copy, modify, merge, publish, distribute, sublicense,\n",
        "# and/or sell copies of the Software, and to permit persons to whom the\n",
        "# Software is furnished to do so, subject to the following conditions:\n",
        "#\n",
        "# The above copyright notice and this permission notice shall be included in\n",
        "# all copies or substantial portions of the Software.\n",
        "#\n",
        "# THE SOFTWARE IS PROVIDED \"AS IS\", WITHOUT WARRANTY OF ANY KIND, EXPRESS OR\n",
        "# IMPLIED, INCLUDING BUT NOT LIMITED TO THE WARRANTIES OF MERCHANTABILITY,\n",
        "# FITNESS FOR A PARTICULAR PURPOSE AND NONINFRINGEMENT. IN NO EVENT SHALL\n",
        "# THE AUTHORS OR COPYRIGHT HOLDERS BE LIABLE FOR ANY CLAIM, DAMAGES OR OTHER\n",
        "# LIABILITY, WHETHER IN AN ACTION OF CONTRACT, TORT OR OTHERWISE, ARISING\n",
        "# FROM, OUT OF OR IN CONNECTION WITH THE SOFTWARE OR THE USE OR OTHER\n",
        "# DEALINGS IN THE SOFTWARE."
      ]
    },
    {
      "cell_type": "markdown",
      "metadata": {
        "id": "pZJ3uY9O17VN"
      },
      "source": [
        "# Salvar e carregar modelos"
      ]
    },
    {
      "cell_type": "markdown",
      "metadata": {
        "id": "M4Ata7_wMul1"
      },
      "source": [
        "<table class=\"tfo-notebook-buttons\" align=\"left\">\n",
        "  <td>     <a target=\"_blank\" href=\"https://www.tensorflow.org/tutorials/keras/save_and_load\"><img src=\"https://www.tensorflow.org/images/tf_logo_32px.png\">Ver em TensorFlow.org</a>\n",
        "</td>\n",
        "  <td>     <a target=\"_blank\" href=\"https://colab.research.google.com/github/tensorflow/docs-l10n/blob/master/site/pt-br/tutorials/keras/save_and_load.ipynb\"><img src=\"https://www.tensorflow.org/images/colab_logo_32px.png\">Executar no Google Colab</a>\n",
        "</td>\n",
        "  <td>     <a target=\"_blank\" href=\"https://github.com/tensorflow/docs-l10n/blob/master/site/pt-br/tutorials/keras/save_and_load.ipynb\"><img src=\"https://www.tensorflow.org/images/GitHub-Mark-32px.png\">Ver fonte no GitHub</a>\n",
        "</td>\n",
        "  <td>     <a href=\"https://storage.googleapis.com/tensorflow_docs/docs-l10n/site/pt-br/tutorials/keras/save_and_load.ipynb\"><img src=\"https://www.tensorflow.org/images/download_logo_32px.png\">Baixar notebook</a>\n",
        "</td>\n",
        "</table>"
      ]
    },
    {
      "cell_type": "markdown",
      "metadata": {
        "id": "mBdde4YJeJKF"
      },
      "source": [
        "O progresso dos modelos pode ser salvo durante e após o treinamento. Portanto, um modelo pode ser retomado de onde parou e evitar tempos de treinamento longos. Ao salvar, você também pode compartilhar o modelo, e outras pessoas podem recriar o seu trabalho. Ao publicar modelos e técnicas e pesquisa, a maioria dos pesquisadores de aprendizado de máquina compartilham:\n",
        "\n",
        "- O código para criar o modelo.\n",
        "- Os pesos treinados, ou parâmetros, do modelo.\n",
        "\n",
        "Compartilhar esses dados ajuda outras pessoas a entenderem como o modelo funciona e testá-lo com novos dados.\n",
        "\n",
        "Atenção: os modelos do TensorFlow são códigos, e é importante ter cuidado com código não confiável. Confira mais detalhes em [Como usar o TensorFlow com segurança](https://github.com/tensorflow/tensorflow/blob/master/SECURITY.md).\n",
        "\n",
        "### Opções\n",
        "\n",
        "Existem diferentes maneiras de salvar modelos do TensorFlow, dependendo da API usada. Este guia usa [tf.keras](https://www.tensorflow.org/guide/keras), uma API de alto nível para criar e treinar modelos no TensorFlow. O novo formato de alto nível `.keras` usado neste tutorial é recomendado para salvar objetos do Keras, pois oferece um salvamento robusto e eficiente baseado em nomes, que geralmente é mais fácil de depurar do que formatos legados ou de baixo nível. Para workflows de salvamento e serialização mais avançados, especialmente quando envolverem objetos personalizados, confira o [guia Salvar e carregar modelos do Keras](https://www.tensorflow.org/guide/keras/save_and_serialize). Para outras estratégias, confira o [guia Como usar o formato SavedModel](../../guide/saved_model.ipynb)."
      ]
    },
    {
      "cell_type": "markdown",
      "metadata": {
        "id": "xCUREq7WXgvg"
      },
      "source": [
        "## Configuração\n",
        "\n",
        "### Instalações e importações"
      ]
    },
    {
      "cell_type": "markdown",
      "metadata": {
        "id": "7l0MiTOrXtNv"
      },
      "source": [
        "Instale e importe o TensorFlow, além das dependências:"
      ]
    },
    {
      "cell_type": "code",
      "execution_count": null,
      "metadata": {
        "id": "RzIOVSdnMYyO"
      },
      "outputs": [],
      "source": [
        "!pip install pyyaml h5py  # Required to save models in HDF5 format"
      ]
    },
    {
      "cell_type": "code",
      "execution_count": null,
      "metadata": {
        "id": "7Nm7Tyb-gRt-"
      },
      "outputs": [],
      "source": [
        "import os\n",
        "\n",
        "import tensorflow as tf\n",
        "from tensorflow import keras\n",
        "\n",
        "print(tf.version.VERSION)"
      ]
    },
    {
      "cell_type": "markdown",
      "metadata": {
        "id": "SbGsznErXWt6"
      },
      "source": [
        "### Obter um dataset de exemplo\n",
        "\n",
        "Para demonstrar como salvar e carregar pesos, você usará o [dataset MNIST](http://yann.lecun.com/exdb/mnist/). Para acelerar as execuções, use os primeiros mil exemplos:"
      ]
    },
    {
      "cell_type": "code",
      "execution_count": null,
      "metadata": {
        "id": "9rGfFwE9XVwz"
      },
      "outputs": [],
      "source": [
        "(train_images, train_labels), (test_images, test_labels) = tf.keras.datasets.mnist.load_data()\n",
        "\n",
        "train_labels = train_labels[:1000]\n",
        "test_labels = test_labels[:1000]\n",
        "\n",
        "train_images = train_images[:1000].reshape(-1, 28 * 28) / 255.0\n",
        "test_images = test_images[:1000].reshape(-1, 28 * 28) / 255.0"
      ]
    },
    {
      "cell_type": "markdown",
      "metadata": {
        "id": "anG3iVoXyZGI"
      },
      "source": [
        "### Definir um modelo"
      ]
    },
    {
      "cell_type": "markdown",
      "metadata": {
        "id": "wynsOBfby0Pa"
      },
      "source": [
        "Comece criando um modelo sequencial simples:"
      ]
    },
    {
      "cell_type": "code",
      "execution_count": null,
      "metadata": {
        "id": "0HZbJIjxyX1S"
      },
      "outputs": [],
      "source": [
        "# Define a simple sequential model\n",
        "def create_model():\n",
        "  model = tf.keras.Sequential([\n",
        "    keras.layers.Dense(512, activation='relu', input_shape=(784,)),\n",
        "    keras.layers.Dropout(0.2),\n",
        "    keras.layers.Dense(10)\n",
        "  ])\n",
        "\n",
        "  model.compile(optimizer='adam',\n",
        "                loss=tf.keras.losses.SparseCategoricalCrossentropy(from_logits=True),\n",
        "                metrics=[tf.keras.metrics.SparseCategoricalAccuracy()])\n",
        "\n",
        "  return model\n",
        "\n",
        "# Create a basic model instance\n",
        "model = create_model()\n",
        "\n",
        "# Display the model's architecture\n",
        "model.summary()"
      ]
    },
    {
      "cell_type": "markdown",
      "metadata": {
        "id": "soDE0W_KH8rG"
      },
      "source": [
        "## Salvar checkpoints durante o treinamento"
      ]
    },
    {
      "cell_type": "markdown",
      "metadata": {
        "id": "mRyd5qQQIXZm"
      },
      "source": [
        "Você pode usar um modelo treinado sem precisar treiná-lo novamente ou pode retomar o treinamento de onde parou caso o processo de treinamento tenha sido interrompido. O callback `tf.keras.callbacks.ModelCheckpoint` permite salvar continuamente o modelo tanto *durante* quanto *no término* do treinamento.\n",
        "\n",
        "### Uso do callback de checkpoint\n",
        "\n",
        "Crie um callback `tf.keras.callbacks.ModelCheckpoint` que salve os pesos somente durante o treinamento:"
      ]
    },
    {
      "cell_type": "code",
      "execution_count": null,
      "metadata": {
        "id": "IFPuhwntH8VH"
      },
      "outputs": [],
      "source": [
        "checkpoint_path = \"training_1/cp.ckpt\"\n",
        "checkpoint_dir = os.path.dirname(checkpoint_path)\n",
        "\n",
        "# Create a callback that saves the model's weights\n",
        "cp_callback = tf.keras.callbacks.ModelCheckpoint(filepath=checkpoint_path,\n",
        "                                                 save_weights_only=True,\n",
        "                                                 verbose=1)\n",
        "\n",
        "# Train the model with the new callback\n",
        "model.fit(train_images, \n",
        "          train_labels,  \n",
        "          epochs=10,\n",
        "          validation_data=(test_images, test_labels),\n",
        "          callbacks=[cp_callback])  # Pass callback to training\n",
        "\n",
        "# This may generate warnings related to saving the state of the optimizer.\n",
        "# These warnings (and similar warnings throughout this notebook)\n",
        "# are in place to discourage outdated usage, and can be ignored."
      ]
    },
    {
      "cell_type": "markdown",
      "metadata": {
        "id": "rlM-sgyJO084"
      },
      "source": [
        "É criada uma coleção única de arquivos de checkpoint do TensorFlow, atualizados no final de cada época:"
      ]
    },
    {
      "cell_type": "code",
      "execution_count": null,
      "metadata": {
        "id": "gXG5FVKFOVQ3"
      },
      "outputs": [],
      "source": [
        "os.listdir(checkpoint_dir)"
      ]
    },
    {
      "cell_type": "markdown",
      "metadata": {
        "id": "wlRN_f56Pqa9"
      },
      "source": [
        "Desde que os dois modelos tenham a mesma arquitetura, você pode compartilhar pesos entre eles. Portanto, ao restaurar um modelo somente a partir dos pesos, crie um modelo com a mesma arquitetura do modelo original e depois defina os pesos.\n",
        "\n",
        "Agora, crie novamente um modelo novo, não treinado, e faça a avaliação com o conjunto de teste. Um modelo não treinado será treinado ao acaso (exatidão de cerca de 10%):"
      ]
    },
    {
      "cell_type": "code",
      "execution_count": null,
      "metadata": {
        "id": "Fp5gbuiaPqCT"
      },
      "outputs": [],
      "source": [
        "# Create a basic model instance\n",
        "model = create_model()\n",
        "\n",
        "# Evaluate the model\n",
        "loss, acc = model.evaluate(test_images, test_labels, verbose=2)\n",
        "print(\"Untrained model, accuracy: {:5.2f}%\".format(100 * acc))"
      ]
    },
    {
      "cell_type": "markdown",
      "metadata": {
        "id": "1DTKpZssRSo3"
      },
      "source": [
        "Em seguida, carregue os pesos do checkpoint e refaça a avaliação:"
      ]
    },
    {
      "cell_type": "code",
      "execution_count": null,
      "metadata": {
        "id": "2IZxbwiRRSD2"
      },
      "outputs": [],
      "source": [
        "# Loads the weights\n",
        "model.load_weights(checkpoint_path)\n",
        "\n",
        "# Re-evaluate the model\n",
        "loss, acc = model.evaluate(test_images, test_labels, verbose=2)\n",
        "print(\"Restored model, accuracy: {:5.2f}%\".format(100 * acc))"
      ]
    },
    {
      "cell_type": "markdown",
      "metadata": {
        "id": "bpAbKkAyVPV8"
      },
      "source": [
        "### Opções do callback de checkpoint\n",
        "\n",
        "O callback oferece várias opções para fornecer nomes exclusivos para os checkpoints e ajustar a frequência de criação de checkpoints.\n",
        "\n",
        "Treine um novo modelo e depois salve checkpoints com nomes exclusivos após cada cinco épocas:"
      ]
    },
    {
      "cell_type": "code",
      "execution_count": null,
      "metadata": {
        "id": "mQF_dlgIVOvq"
      },
      "outputs": [],
      "source": [
        "# Include the epoch in the file name (uses `str.format`)\n",
        "checkpoint_path = \"training_2/cp-{epoch:04d}.ckpt\"\n",
        "checkpoint_dir = os.path.dirname(checkpoint_path)\n",
        "\n",
        "batch_size = 32\n",
        "\n",
        "# Calculate the number of batches per epoch\n",
        "import math\n",
        "n_batches = len(train_images) / batch_size\n",
        "n_batches = math.ceil(n_batches)    # round up the number of batches to the nearest whole integer\n",
        "\n",
        "# Create a callback that saves the model's weights every 5 epochs\n",
        "cp_callback = tf.keras.callbacks.ModelCheckpoint(\n",
        "    filepath=checkpoint_path, \n",
        "    verbose=1, \n",
        "    save_weights_only=True,\n",
        "    save_freq=5*n_batches)\n",
        "\n",
        "# Create a new model instance\n",
        "model = create_model()\n",
        "\n",
        "# Save the weights using the `checkpoint_path` format\n",
        "model.save_weights(checkpoint_path.format(epoch=0))\n",
        "\n",
        "# Train the model with the new callback\n",
        "model.fit(train_images, \n",
        "          train_labels,\n",
        "          epochs=50, \n",
        "          batch_size=batch_size, \n",
        "          callbacks=[cp_callback],\n",
        "          validation_data=(test_images, test_labels),\n",
        "          verbose=0)"
      ]
    },
    {
      "cell_type": "markdown",
      "metadata": {
        "id": "1zFrKTjjavWI"
      },
      "source": [
        "Agora, confira os checkpoints resultantes e escolha o último:"
      ]
    },
    {
      "cell_type": "code",
      "execution_count": null,
      "metadata": {
        "id": "p64q3-V4sXt0"
      },
      "outputs": [],
      "source": [
        "os.listdir(checkpoint_dir)"
      ]
    },
    {
      "cell_type": "code",
      "execution_count": null,
      "metadata": {
        "id": "1AN_fnuyR41H"
      },
      "outputs": [],
      "source": [
        "latest = tf.train.latest_checkpoint(checkpoint_dir)\n",
        "latest"
      ]
    },
    {
      "cell_type": "markdown",
      "metadata": {
        "id": "Zk2ciGbKg561"
      },
      "source": [
        "Observação: o formato padrão do TensorFlow salva somente os cinco checkpoints mais recentes.\n",
        "\n",
        "Para testar, redefina o modelo e carregue o último checkpoint:"
      ]
    },
    {
      "cell_type": "code",
      "execution_count": null,
      "metadata": {
        "id": "3M04jyK-H3QK"
      },
      "outputs": [],
      "source": [
        "# Create a new model instance\n",
        "model = create_model()\n",
        "\n",
        "# Load the previously saved weights\n",
        "model.load_weights(latest)\n",
        "\n",
        "# Re-evaluate the model\n",
        "loss, acc = model.evaluate(test_images, test_labels, verbose=2)\n",
        "print(\"Restored model, accuracy: {:5.2f}%\".format(100 * acc))"
      ]
    },
    {
      "cell_type": "markdown",
      "metadata": {
        "id": "c2OxsJOTHxia"
      },
      "source": [
        "## O que são esses arquivos?"
      ]
    },
    {
      "cell_type": "markdown",
      "metadata": {
        "id": "JtdYhvWnH2ib"
      },
      "source": [
        "O código acima armazena os pesos em uma coleção de arquivos com formato de [checkpoint](../../guide/checkpoint.ipynb) que contêm somente os pesos treinados em um formato binário. Os checkpoints contêm:\n",
        "\n",
        "- Um ou mais fragmentos que contêm os pesos do seu modelo.\n",
        "- Um arquivo de índice que indica quais pesos são armazenados em qual fragmento.\n",
        "\n",
        "Se você estiver treinando um modelo em uma única máquina, terá um fragmento com o sufixo: `.data-00000-of-00001`"
      ]
    },
    {
      "cell_type": "markdown",
      "metadata": {
        "id": "S_FA-ZvxuXQV"
      },
      "source": [
        "## Salvar os pesos manualmente\n",
        "\n",
        "Para salvar os pesos manualmente, use `tf.keras.Model.save_weights`. Por padrão, `tf.keras` — e especificamente o método `Model.save_weights` — usa o formato de [Checkpoint](../../guide/checkpoint.ipynb) do TensorFlow com extensão `.ckpt`. Para salvar no formato HDF5 com extensão `.h5`, confira o guia [Salvar e carregar modelos](https://www.tensorflow.org/guide/keras/save_and_serialize)."
      ]
    },
    {
      "cell_type": "code",
      "execution_count": null,
      "metadata": {
        "id": "R7W5plyZ-u9X"
      },
      "outputs": [],
      "source": [
        "# Save the weights\n",
        "model.save_weights('./checkpoints/my_checkpoint')\n",
        "\n",
        "# Create a new model instance\n",
        "model = create_model()\n",
        "\n",
        "# Restore the weights\n",
        "model.load_weights('./checkpoints/my_checkpoint')\n",
        "\n",
        "# Evaluate the model\n",
        "loss, acc = model.evaluate(test_images, test_labels, verbose=2)\n",
        "print(\"Restored model, accuracy: {:5.2f}%\".format(100 * acc))"
      ]
    },
    {
      "cell_type": "markdown",
      "metadata": {
        "id": "kOGlxPRBEvV1"
      },
      "source": [
        "## Salvar o modelo inteiro\n",
        "\n",
        "Faça uma chamada a `tf.keras.Model.save` para salvar a arquitetura, os pesos e a configuração de treinamento de um modelo em um único arquivo zip `model.keras`.\n",
        "\n",
        "Um modelo inteiro pode ser salvo em três formatos de arquivo diferentes (o novo formato `.keras` e dois formatos legados: `SavedModel` e `HDF5`). Ao salvar um modelo como `path/to/model.keras`, ele é salvo no formato mais recente automaticamente.\n",
        "\n",
        "**Observação:** para objetos do Keras, recomenda-se usar o novo formato de alto nível `.keras`, pois ele oferece tarefas de salvar e carregar com base em nomes com mais recursos, além de ser mais fácil de depurar. O formato de baixo nível SavedModel e o formato legado H5 continuam com suporte para códigos existentes.\n",
        "\n",
        "Para mudar para o formato SavedModel, você pode:\n",
        "\n",
        "- Passar `save_format='tf'` para `save()`.\n",
        "- Passar um nome de arquivo sem extensão.\n",
        "\n",
        "Para mudar para o formato H5, você pode:\n",
        "\n",
        "- Passar `save_format='h5'` para `save()`.\n",
        "- Passar um nome de arquivo que termine em `.h5`.\n",
        "\n",
        "É muito útil salvar um modelo totalmente funcional: você pode carregá-lo no TensorFlow.js ([Saved Model](https://www.tensorflow.org/js/tutorials/conversion/import_saved_model), [HDF5](https://www.tensorflow.org/js/tutorials/conversion/import_keras)), depois treiná-lo e executá-lo em navegadores web, ou convertê-lo para ser executado em dispositivos móveis usando o TensorFlow Lite ([Saved Model](https://www.tensorflow.org/lite/models/convert/#convert_a_savedmodel_recommended_), [HDF5](https://www.tensorflow.org/lite/models/convert/#convert_a_keras_model_)).\n",
        "\n",
        "*Objetos personalizados (por exemplo, modelos ou camadas que sejam uma subclasse) exigem atenção especial ao salvar e carregar. Confira a seção **Como salvar objetos personalizados** abaixo."
      ]
    },
    {
      "cell_type": "markdown",
      "metadata": {
        "id": "0fRGnlHMrkI7"
      },
      "source": [
        "### O novo formato de alto nível `.keras`"
      ]
    },
    {
      "cell_type": "markdown",
      "metadata": {
        "id": "eqO8jj7GsCDn"
      },
      "source": [
        "O novo formato de salvamento do Keras v3, indicado pela extensão `.keras`, é um formato mais simples e eficiente que implementa salvamento baseado em nomes, garantindo que aquilo que você carregue seja exatamente o que foi salvo pela perspectiva do Python. Dessa forma, a depuração fica muito mais fácil, e ele é o formato recomendado para o Keras.\n",
        "\n",
        "A seção abaixo ilustra como salvar e restaurar o modelo no formato `.keras`."
      ]
    },
    {
      "cell_type": "code",
      "execution_count": null,
      "metadata": {
        "id": "3f55mAXwukUX"
      },
      "outputs": [],
      "source": [
        "# Create and train a new model instance.\n",
        "model = create_model()\n",
        "model.fit(train_images, train_labels, epochs=5)\n",
        "\n",
        "# Save the entire model as a `.keras` zip archive.\n",
        "model.save('my_model.keras')"
      ]
    },
    {
      "cell_type": "markdown",
      "metadata": {
        "id": "iHqwaun5g8lD"
      },
      "source": [
        "Recarregue um novo modelo do Keras pelo arquivo zip `.keras`:"
      ]
    },
    {
      "cell_type": "code",
      "execution_count": null,
      "metadata": {
        "id": "HyfUMOZwux_-"
      },
      "outputs": [],
      "source": [
        "new_model = tf.keras.models.load_model('my_model.keras')\n",
        "\n",
        "# Show the model architecture\n",
        "new_model.summary()"
      ]
    },
    {
      "cell_type": "markdown",
      "metadata": {
        "id": "9Cn3pSBqvJ5f"
      },
      "source": [
        "Tente executar a avaliação e a previsão com o modelo carregado:"
      ]
    },
    {
      "cell_type": "code",
      "execution_count": null,
      "metadata": {
        "id": "8BT4mHNIvMdW"
      },
      "outputs": [],
      "source": [
        "# Evaluate the restored model\n",
        "loss, acc = new_model.evaluate(test_images, test_labels, verbose=2)\n",
        "print('Restored model, accuracy: {:5.2f}%'.format(100 * acc))\n",
        "\n",
        "print(new_model.predict(test_images).shape)"
      ]
    },
    {
      "cell_type": "markdown",
      "metadata": {
        "id": "kPyhgcoVzqUB"
      },
      "source": [
        "### Formato SavedModel"
      ]
    },
    {
      "cell_type": "markdown",
      "metadata": {
        "id": "LtcN4VIb7JkK"
      },
      "source": [
        "O formato SavedModel é outra forma de serializar modelos. Os modelos salvos nesse formato podem ser restaurados usando `tf.keras.models.load_model` e são compatíveis com o TensorFlow Serving. O [Guia do SavedModel](../../guide/saved_model.ipynb) detalha como `serve/inspect` (servir/inspecionar) o SavedModel. A seção abaixo ilustra as etapas para salvar e restaurar o modelo."
      ]
    },
    {
      "cell_type": "code",
      "execution_count": null,
      "metadata": {
        "id": "sI1YvCDFzpl3"
      },
      "outputs": [],
      "source": [
        "# Create and train a new model instance.\n",
        "model = create_model()\n",
        "model.fit(train_images, train_labels, epochs=5)\n",
        "\n",
        "# Save the entire model as a SavedModel.\n",
        "!mkdir -p saved_model\n",
        "model.save('saved_model/my_model') "
      ]
    },
    {
      "cell_type": "markdown",
      "metadata": {
        "id": "iUvT_3qE8hV5"
      },
      "source": [
        "O formato SavedModel é um diretório que contém um binário protobuf e um checkpoint do TensorFlow. Avalie o diretório do modelo salvo:"
      ]
    },
    {
      "cell_type": "code",
      "execution_count": null,
      "metadata": {
        "id": "sq8fPglI1RWA"
      },
      "outputs": [],
      "source": [
        "# my_model directory\n",
        "!ls saved_model\n",
        "\n",
        "# Contains an assets folder, saved_model.pb, and variables folder.\n",
        "!ls saved_model/my_model"
      ]
    },
    {
      "cell_type": "markdown",
      "metadata": {
        "id": "B7qfpvpY9HCe"
      },
      "source": [
        "Recarregue um novo modelo do Keras a partir do modelo salvo:"
      ]
    },
    {
      "cell_type": "code",
      "execution_count": null,
      "metadata": {
        "id": "0YofwHdN0pxa"
      },
      "outputs": [],
      "source": [
        "new_model = tf.keras.models.load_model('saved_model/my_model')\n",
        "\n",
        "# Check its architecture\n",
        "new_model.summary()"
      ]
    },
    {
      "cell_type": "markdown",
      "metadata": {
        "id": "uWwgNaz19TH2"
      },
      "source": [
        "O modelo restaurado é compilado com os mesmos argumentos do original. Tente executar a avaliação e previsão com o modelo carregado:"
      ]
    },
    {
      "cell_type": "code",
      "execution_count": null,
      "metadata": {
        "id": "Yh5Mu0yOgE5J"
      },
      "outputs": [],
      "source": [
        "# Evaluate the restored model\n",
        "loss, acc = new_model.evaluate(test_images, test_labels, verbose=2)\n",
        "print('Restored model, accuracy: {:5.2f}%'.format(100 * acc))\n",
        "\n",
        "print(new_model.predict(test_images).shape)"
      ]
    },
    {
      "cell_type": "markdown",
      "metadata": {
        "id": "SkGwf-50zLNn"
      },
      "source": [
        "### Formato HDF5\n",
        "\n",
        "O Keras oferece um formato de salvamento de alto nível básico e legado usando o padrão [HDF5](https://en.wikipedia.org/wiki/Hierarchical_Data_Format). "
      ]
    },
    {
      "cell_type": "code",
      "execution_count": null,
      "metadata": {
        "id": "m2dkmJVCGUia"
      },
      "outputs": [],
      "source": [
        "# Create and train a new model instance.\n",
        "model = create_model()\n",
        "model.fit(train_images, train_labels, epochs=5)\n",
        "\n",
        "# Save the entire model to a HDF5 file.\n",
        "# The '.h5' extension indicates that the model should be saved to HDF5.\n",
        "model.save('my_model.h5') "
      ]
    },
    {
      "cell_type": "markdown",
      "metadata": {
        "id": "GWmttMOqS68S"
      },
      "source": [
        "Agora, recrie o modelo a partir desse arquivo:"
      ]
    },
    {
      "cell_type": "code",
      "execution_count": null,
      "metadata": {
        "id": "5NDMO_7kS6Do"
      },
      "outputs": [],
      "source": [
        "# Recreate the exact same model, including its weights and the optimizer\n",
        "new_model = tf.keras.models.load_model('my_model.h5')\n",
        "\n",
        "# Show the model architecture\n",
        "new_model.summary()"
      ]
    },
    {
      "cell_type": "markdown",
      "metadata": {
        "id": "JXQpbTicTBwt"
      },
      "source": [
        "Confira a exatidão:"
      ]
    },
    {
      "cell_type": "code",
      "execution_count": null,
      "metadata": {
        "id": "jwEaj9DnTCVA"
      },
      "outputs": [],
      "source": [
        "loss, acc = new_model.evaluate(test_images, test_labels, verbose=2)\n",
        "print('Restored model, accuracy: {:5.2f}%'.format(100 * acc))"
      ]
    },
    {
      "cell_type": "markdown",
      "metadata": {
        "id": "dGXqd4wWJl8O"
      },
      "source": [
        "O Keras salva modelos avaliando suas arquiteturas. Essa técnica salva tudo:\n",
        "\n",
        "- Os valores de pesos.\n",
        "- A arquitetura do modelo.\n",
        "- A configuração de treinamento do modelo (o que você passa para o método `.compile()`).\n",
        "- O otimizador e seu estado, se houver (isso permite que você reinicie o treinamento de onde parou).\n",
        "\n",
        "O Keras não consegue salvar os otimizadores `v1.x` (de `tf.compat.v1.train`), pois eles não são compatíveis com checkpoints. Para otimizadores v1.x, você precisa recompilar o modelo após carregá-lo, perdendo o estado do otimizador.\n"
      ]
    },
    {
      "cell_type": "markdown",
      "metadata": {
        "id": "kAUKJQyGqTNH"
      },
      "source": [
        "### Como salvar objetos personalizados\n",
        "\n",
        "Se você estiver usando o formato SavedModel, pode ignorar esta seção. A diferença principal entre os formatos de alto nível `.keras`/HDF5 e o formato de baixo nível SavedModel é que os formatos `.keras`/HDF5 usam configurações de objetos para salvar a arquitetura do modelo, enquanto o formato SavedModel salva o grafo da execução. Portanto, os SavedModels conseguem salvar objetos personalizados, como modelos e camadas personalizadas que são uma subclasse, sem exigir o código original. Porém, uma consequência é que a depuração de SavedModels de baixo nível pode ser mais difícil, e recomendamos usar o formato de alto nível `.keras` por ser nativo do Keras e baseado em nomes.\n",
        "\n",
        "Para salvar objetos personalizados como `.keras` e HDF5, você precisa:\n",
        "\n",
        "1. Definir um método `get_config` no seu objeto e, opcionalmente, um método de classe `from_config`.\n",
        "    - `get_config(self)` retorna um dicionário de parâmetros serializável em JSON, necessário para recriar o objeto.\n",
        "    - `from_config(cls, config)` usa a configuração retornada por `get_config` para criar um novo objeto. Por padrão, essa função usará a configuração como kwargs de inicialização (`return cls(**config)`).\n",
        "2. Passar os objetos personalizados para o modelo de uma dentre três formas:\n",
        "    - Registrar o objeto personalizado com o decorador `@tf.keras.utils.register_keras_serializable` **(recomendado)**.\n",
        "    - Passar o objeto diretamente para o argumento `custom_objects` ao carregar o modelo. O argumento precisa ser um dicionário que mapeie o nome da classe de string para a classe Python. Por exemplo: `tf.keras.models.load_model(path, custom_objects={'CustomLayer': CustomLayer})`.\n",
        "    - Usar um `tf.keras.utils.custom_object_scope` com o objeto incluído no argumento de dicionário `custom_objects` e colocar uma chamada a `tf.keras.models.load_model(path)` dentro do escopo.\n",
        "\n",
        "Confira o tutorial [Como escrever camadas e modelos do zero](https://www.tensorflow.org/guide/keras/custom_layers_and_models) para ver exemplos de objetos personalizados e `get_config`.\n"
      ]
    }
  ],
  "metadata": {
    "accelerator": "GPU",
    "colab": {
      "collapsed_sections": [],
      "name": "save_and_load.ipynb",
      "toc_visible": true
    },
    "kernelspec": {
      "display_name": "Python 3",
      "name": "python3"
    }
  },
  "nbformat": 4,
  "nbformat_minor": 0
}
