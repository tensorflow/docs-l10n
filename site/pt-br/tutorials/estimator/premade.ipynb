{
  "cells": [
    {
      "cell_type": "markdown",
      "metadata": {
        "id": "1Z6Wtb_jisbA"
      },
      "source": [
        "##### Copyright 2019 The TensorFlow Authors."
      ]
    },
    {
      "cell_type": "code",
      "execution_count": null,
      "metadata": {
        "cellView": "form",
        "id": "QUyRGn9riopB"
      },
      "outputs": [],
      "source": [
        "#@title Licensed under the Apache License, Version 2.0 (the \"License\");\n",
        "# you may not use this file except in compliance with the License.\n",
        "# You may obtain a copy of the License at\n",
        "#\n",
        "# https://www.apache.org/licenses/LICENSE-2.0\n",
        "#\n",
        "# Unless required by applicable law or agreed to in writing, software\n",
        "# distributed under the License is distributed on an \"AS IS\" BASIS,\n",
        "# WITHOUT WARRANTIES OR CONDITIONS OF ANY KIND, either express or implied.\n",
        "# See the License for the specific language governing permissions and\n",
        "# limitations under the License."
      ]
    },
    {
      "cell_type": "markdown",
      "metadata": {
        "id": "H1yCdGFW4j_F"
      },
      "source": [
        "# Estimadores pré-criados"
      ]
    },
    {
      "cell_type": "markdown",
      "metadata": {
        "id": "PS6_yKSoyLAl"
      },
      "source": [
        "<table class=\"tfo-notebook-buttons\" align=\"left\">\n",
        "  <td>     <a target=\"_blank\" href=\"https://www.tensorflow.org/tutorials/estimator/premade\"><img src=\"https://www.tensorflow.org/images/tf_logo_32px.png\">Ver em TensorFlow.org</a>\n",
        "</td>\n",
        "  <td>     <a target=\"_blank\" href=\"https://colab.research.google.com/github/tensorflow/docs/blob/master/site/en/tutorials/estimator/premade.ipynb\"><img src=\"https://www.tensorflow.org/images/colab_logo_32px.png\">Executar no Google Colab</a>\n",
        "</td>\n",
        "  <td>     <a target=\"_blank\" href=\"https://github.com/tensorflow/docs/blob/master/site/en/tutorials/estimator/premade.ipynb\"><img src=\"https://www.tensorflow.org/images/GitHub-Mark-32px.png\">Ver fonte no GitHub</a>\n",
        "</td>\n",
        "  <td>     <a href=\"https://storage.googleapis.com/tensorflow_docs/docs/site/en/tutorials/estimator/premade.ipynb\"><img src=\"https://www.tensorflow.org/images/download_logo_32px.png\">Baixar notebook</a>\n",
        "</td>\n",
        "</table>"
      ]
    },
    {
      "cell_type": "markdown",
      "metadata": {
        "id": "stQiPWL6ni6_"
      },
      "source": [
        "> Aviso: os Estimadores não são recomendados para novos códigos.  Os Estimadores executam código `v1.Session`, que é mais difícil de escrever corretamente e pode se comportar de forma inesperada, ainda mais quando usado em conjunto com código do TF 2. Os Estimadores são abarcados pelas [garantias de compatibilidade](https://tensorflow.org/guide/versions), mas não recebem mais correções, exceto para vulnerabilidades de segurança. Confira mais detalhes no [guia de migração](https://tensorflow.org/guide/migrate)."
      ]
    },
    {
      "cell_type": "markdown",
      "metadata": {
        "id": "R4YZ_ievcY7p"
      },
      "source": [
        "Este tutorial mostra como resolver o problema de classificação da íris no TensorFlow usando Estimadores. Um Estimador é uma representação de alto nível de um modelo completo legada do TensorFlow. Confira mais detalhes em [Estimadores](https://www.tensorflow.org/guide/estimator).\n",
        "\n",
        "Observação: no TensorFlow 2.0, a [API Keras](https://www.tensorflow.org/guide/keras) pode realizar essas mesmas tarefas e é considerada uma API mais fácil de aprender. Se você estiver começando do zero, é recomendável usar o Keras.\n"
      ]
    },
    {
      "cell_type": "markdown",
      "metadata": {
        "id": "8IFct0yedsTy"
      },
      "source": [
        "## Em primeiro lugar\n",
        "\n",
        "Para começar, você importará o TensorFlow e diversas bibliotecas necessárias."
      ]
    },
    {
      "cell_type": "code",
      "execution_count": null,
      "metadata": {
        "id": "jPo5bQwndr9P"
      },
      "outputs": [],
      "source": [
        "import tensorflow as tf\n",
        "\n",
        "import pandas as pd"
      ]
    },
    {
      "cell_type": "markdown",
      "metadata": {
        "id": "c5w4m5gncnGh"
      },
      "source": [
        "## O dataset\n",
        "\n",
        "O programa de amostra neste documento cria e testa um modelo que classifica flores de íris em três espécies diferentes com base no tamanho das [sépalas](https://en.wikipedia.org/wiki/Sepal) e [pétalas](https://en.wikipedia.org/wiki/Petal).\n",
        "\n",
        "Você treinará um modelo usando o dataset de íris. O dataset contém quatro características e um [rótulo](https://developers.google.com/machine-learning/glossary/#label). As quatro características identificam os seguintes aspectos botânicos das flores de íris individuais:\n",
        "\n",
        "- comprimento da sépala\n",
        "- largura da sépala\n",
        "- comprimento da pétala\n",
        "- largura da pétala\n",
        "\n",
        "Com base nessas informações, você pode definir algumas constantes úteis para processar os dados:\n"
      ]
    },
    {
      "cell_type": "code",
      "execution_count": null,
      "metadata": {
        "id": "lSyrXp_He_UE"
      },
      "outputs": [],
      "source": [
        "CSV_COLUMN_NAMES = ['SepalLength', 'SepalWidth', 'PetalLength', 'PetalWidth', 'Species']\n",
        "SPECIES = ['Setosa', 'Versicolor', 'Virginica']"
      ]
    },
    {
      "cell_type": "markdown",
      "metadata": {
        "id": "j6mTfIQzfC9w"
      },
      "source": [
        "Em seguida, baixe e processe o dataset de íris usando o Keras e o Pandas. Mantenha datasets diferentes para treinamento e teste."
      ]
    },
    {
      "cell_type": "code",
      "execution_count": null,
      "metadata": {
        "id": "PumyCN8VdGGc"
      },
      "outputs": [],
      "source": [
        "train_path = tf.keras.utils.get_file(\n",
        "    \"iris_training.csv\", \"https://storage.googleapis.com/download.tensorflow.org/data/iris_training.csv\")\n",
        "test_path = tf.keras.utils.get_file(\n",
        "    \"iris_test.csv\", \"https://storage.googleapis.com/download.tensorflow.org/data/iris_test.csv\")\n",
        "\n",
        "train = pd.read_csv(train_path, names=CSV_COLUMN_NAMES, header=0)\n",
        "test = pd.read_csv(test_path, names=CSV_COLUMN_NAMES, header=0)"
      ]
    },
    {
      "cell_type": "markdown",
      "metadata": {
        "id": "wHFxNLszhQjz"
      },
      "source": [
        "Você pode inspecionar seus dados para ver se tem quatro colunas de características float e um rótulo int32."
      ]
    },
    {
      "cell_type": "code",
      "execution_count": null,
      "metadata": {
        "id": "WOJt-ML4hAwI"
      },
      "outputs": [],
      "source": [
        "train.head()"
      ]
    },
    {
      "cell_type": "markdown",
      "metadata": {
        "id": "jQJEYfVvfznP"
      },
      "source": [
        "Para cada um dos datasets, divida os rótulos, que o modelo será treinado para prever."
      ]
    },
    {
      "cell_type": "code",
      "execution_count": null,
      "metadata": {
        "id": "zM0wz2TueuA6"
      },
      "outputs": [],
      "source": [
        "train_y = train.pop('Species')\n",
        "test_y = test.pop('Species')\n",
        "\n",
        "# The label column has now been removed from the features.\n",
        "train.head()"
      ]
    },
    {
      "cell_type": "markdown",
      "metadata": {
        "id": "jZx1L_1Vcmxv"
      },
      "source": [
        "## Visão geral da programação com Estimadores\n",
        "\n",
        "Agora que você configurou os dados, pode definir um modelo usando um Estimador do TensorFlow. Um Estimador é qualquer classe derivada do `tf.estimator.Estimator`. O TensorFlow oferece uma coleção de `tf.estimator` (por exemplo, `LinearRegressor`) para implementar algoritmos de ML comuns. Além disso, você pode escrever seus próprios [Estimadores personalizados](https://www.tensorflow.org/guide/estimator#custom_estimators). É recomendável usar Estimadores pré-criados quando estiver começando.\n",
        "\n",
        "Para escrever um programa do TensorFlow baseado em Estimadores pré-criados, você precisa realizar as seguintes tarefas:\n",
        "\n",
        "- Crie uma ou mais funções de entrada.\n",
        "- Defina as colunas de características do modelo.\n",
        "- Instancie um Estimador, especificando as colunas de características e vários hiperparâmetros.\n",
        "- Chame um ou mais métodos no objeto Estimador, passando a função de entrada apropriada como a origem dos dados.\n",
        "\n",
        "Vamos ver como essas tarefas são implementadas para a classificação de íris."
      ]
    },
    {
      "cell_type": "markdown",
      "metadata": {
        "id": "2OcguDfBcmmg"
      },
      "source": [
        "## Crie funções de entrada\n",
        "\n",
        "Você precisa criar funções de entrada para fornecer dados para treinamento, avaliação e previsão.\n",
        "\n",
        "Uma **função de entrada** retorna um objeto `tf.data.Dataset` que gera a seguinte tupla de dois elementos:\n",
        "\n",
        "- [`features`](https://developers.google.com/machine-learning/glossary/#feature) — um dicionário no Python em que:\n",
        "    - Cada chave é o nome de uma característica.\n",
        "    - Cada valor é um array com todos os valores dessa característica.\n",
        "- `label` — um array com os valores do [rótulo](https://developers.google.com/machine-learning/glossary/#label) para cada exemplo.\n",
        "\n",
        "Só para demonstrar o formato da função de entrada, aqui está uma implementação simples:"
      ]
    },
    {
      "cell_type": "code",
      "execution_count": null,
      "metadata": {
        "id": "nzr5vRr5caGF"
      },
      "outputs": [],
      "source": [
        "def input_evaluation_set():\n",
        "    features = {'SepalLength': np.array([6.4, 5.0]),\n",
        "                'SepalWidth':  np.array([2.8, 2.3]),\n",
        "                'PetalLength': np.array([5.6, 3.3]),\n",
        "                'PetalWidth':  np.array([2.2, 1.0])}\n",
        "    labels = np.array([2, 1])\n",
        "    return features, labels"
      ]
    },
    {
      "cell_type": "markdown",
      "metadata": {
        "id": "NpXvGjfnjHgY"
      },
      "source": [
        "Sua função de entrada pode gerar o dicionário `features` e a lista `label` da maneira que você quiser. No entanto, é recomendável usar a [API Dataset](https://www.tensorflow.org/guide/datasets) do TensorFlow, que pode processar todos os tipos de dados.\n",
        "\n",
        "A API Dataset consegue lidar com vários casos comuns para você. Por exemplo, usando a API Dataset, você pode ler facilmente os registros de uma grande coleção de arquivos em paralelo e combiná-los em um único fluxo.\n",
        "\n",
        "Para simplificar as coisas, neste exemplo, você carregará os dados com o [pandas](https://pandas.pydata.org/) e criará um pipeline de entrada a partir destes dados na memória:\n"
      ]
    },
    {
      "cell_type": "code",
      "execution_count": null,
      "metadata": {
        "id": "T20u1anCi8NP"
      },
      "outputs": [],
      "source": [
        "def input_fn(features, labels, training=True, batch_size=256):\n",
        "    \"\"\"An input function for training or evaluating\"\"\"\n",
        "    # Convert the inputs to a Dataset.\n",
        "    dataset = tf.data.Dataset.from_tensor_slices((dict(features), labels))\n",
        "\n",
        "    # Shuffle and repeat if you are in training mode.\n",
        "    if training:\n",
        "        dataset = dataset.shuffle(1000).repeat()\n",
        "    \n",
        "    return dataset.batch(batch_size)\n"
      ]
    },
    {
      "cell_type": "markdown",
      "metadata": {
        "id": "xIwcFT4MlZEi"
      },
      "source": [
        "## Defina as colunas de características\n",
        "\n",
        "Uma [**coluna de características**](https://developers.google.com/machine-learning/glossary/#feature_columns) é um objeto que descreve como o modelo deve usar os dados brutos de entrada do dicionário \"features\". Ao criar um modelo de Estimador, você passa uma lista de colunas de características que descreve cada uma das características que você quer que o modelo use. O módulo `tf.feature_column` oferece várias opções de representação de dados para o modelo.\n",
        "\n",
        "Para a íris, as 4 características brutas são valores numéricos, então você criará uma lista de colunas de características para dizer ao modelo do Estimador representar cada uma das quatro características como valores de pontos flutuantes de 32 bits. Portanto, o código para criar a coluna é o seguinte:"
      ]
    },
    {
      "cell_type": "code",
      "execution_count": null,
      "metadata": {
        "id": "ZTTriO8FlSML"
      },
      "outputs": [],
      "source": [
        "# Feature columns describe how to use the input.\n",
        "my_feature_columns = []\n",
        "for key in train.keys():\n",
        "    my_feature_columns.append(tf.feature_column.numeric_column(key=key))"
      ]
    },
    {
      "cell_type": "markdown",
      "metadata": {
        "id": "jpKkhMoZljco"
      },
      "source": [
        "As colunas de características podem ser muito mais sofisticadas do que as mostradas aqui. Você pode ler mais sobre essas colunas [neste guia](https://www.tensorflow.org/guide/feature_columns).\n",
        "\n",
        "Agora que você tem a descrição de como quer que o modelo represente as características brutas, pode criar o estimador."
      ]
    },
    {
      "cell_type": "markdown",
      "metadata": {
        "id": "kuE59XHEl22K"
      },
      "source": [
        "## Instancie um estimador\n",
        "\n",
        "A íris é um problema clássico de classificação. Felizmente, o TensorFlow oferece vários Estimadores classificadores pré-criados, incluindo:\n",
        "\n",
        "- `tf.estimator.DNNClassifier` para modelos profundos que realizam a classificação de várias classes.\n",
        "- `tf.estimator.DNNLinearCombinedClassifier` para modelos profundos e abrangentes.\n",
        "- `tf.estimator.LinearClassifier` para classificadores com base em modelos lineares.\n",
        "\n",
        "Para o problema da íris, `tf.estimator.DNNClassifier` parece ser a melhor opção. Veja como instanciar esse Estimador:"
      ]
    },
    {
      "cell_type": "code",
      "execution_count": null,
      "metadata": {
        "id": "qnf4o2V5lcPn"
      },
      "outputs": [],
      "source": [
        "# Build a DNN with 2 hidden layers with 30 and 10 hidden nodes each.\n",
        "classifier = tf.estimator.DNNClassifier(\n",
        "    feature_columns=my_feature_columns,\n",
        "    # Two hidden layers of 30 and 10 nodes respectively.\n",
        "    hidden_units=[30, 10],\n",
        "    # The model must choose between 3 classes.\n",
        "    n_classes=3)"
      ]
    },
    {
      "cell_type": "markdown",
      "metadata": {
        "id": "tzzt5nUpmEe3"
      },
      "source": [
        "## Treine, avalie e faça previsões\n",
        "\n",
        "Agora que você tem um objeto Estimador, é possível chamar os métodos para fazer o seguinte:\n",
        "\n",
        "- Treinar o modelo.\n",
        "- Avaliar o modelo treinado.\n",
        "- Usar o modelo treinado para fazer previsões."
      ]
    },
    {
      "cell_type": "markdown",
      "metadata": {
        "id": "rnihuLdWmE75"
      },
      "source": [
        "### Treine o modelo\n",
        "\n",
        "Treine o modelo ao chamar o método `train` do Estimador da seguinte maneira:"
      ]
    },
    {
      "cell_type": "code",
      "execution_count": null,
      "metadata": {
        "id": "4jW08YtPl1iS"
      },
      "outputs": [],
      "source": [
        "# Train the Model.\n",
        "classifier.train(\n",
        "    input_fn=lambda: input_fn(train, train_y, training=True),\n",
        "    steps=5000)"
      ]
    },
    {
      "cell_type": "markdown",
      "metadata": {
        "id": "ybiTFDmlmes8"
      },
      "source": [
        "Observe que a chamada de `input_fn` é empacotada em um [`lambda`](https://docs.python.org/3/tutorial/controlflow.html) para capturar os argumentos ao fornecer uma função de entrada que não aceita argumentos, conforme esperado pelo Estimador. O argumento `steps` diz ao método para interromper o treinamento após um determinado número de passos.\n"
      ]
    },
    {
      "cell_type": "markdown",
      "metadata": {
        "id": "HNvJLH8hmsdf"
      },
      "source": [
        "### Avalie o modelo treinado\n",
        "\n",
        "Agora que o modelo foi treinado, você pode obter algumas estatísticas sobre o desempenho dele. O bloco de código a seguir avalia a exatidão do modelo treinado com os dados de teste:\n"
      ]
    },
    {
      "cell_type": "code",
      "execution_count": null,
      "metadata": {
        "id": "A169XuO4mKxF"
      },
      "outputs": [],
      "source": [
        "eval_result = classifier.evaluate(\n",
        "    input_fn=lambda: input_fn(test, test_y, training=False))\n",
        "\n",
        "print('\\nTest set accuracy: {accuracy:0.3f}\\n'.format(**eval_result))"
      ]
    },
    {
      "cell_type": "markdown",
      "metadata": {
        "id": "VnPMP5EHph17"
      },
      "source": [
        "Ao contrário da chamada do método `train`, você não passou o argumento `steps` para avaliação. O `input_fn` para avaliação só gera uma única [época](https://developers.google.com/machine-learning/glossary/#epoch) de dados.\n",
        "\n",
        "O dicionário `eval_result` também contém a `average_loss` (perda média por amostra), a `loss` (perda média por minilote) e o valor do `global_step` do Estimador (o número de iterações de treinamento realizadas).\n"
      ]
    },
    {
      "cell_type": "markdown",
      "metadata": {
        "id": "ur624ibpp52X"
      },
      "source": [
        "### Fazer previsões (inferir) com o modelo treinado\n",
        "\n",
        "Agora, você tem um modelo treinado que produz bons resultados de avaliação. É possível usar o modelo treinado para prever as espécies de uma flor de íris com base em algumas medidas não rotuladas. Assim como no treinamento e na avaliação, você faz previsões usando uma única chamada de função:"
      ]
    },
    {
      "cell_type": "code",
      "execution_count": null,
      "metadata": {
        "id": "wltc0jpgng38"
      },
      "outputs": [],
      "source": [
        "# Generate predictions from the model\n",
        "expected = ['Setosa', 'Versicolor', 'Virginica']\n",
        "predict_x = {\n",
        "    'SepalLength': [5.1, 5.9, 6.9],\n",
        "    'SepalWidth': [3.3, 3.0, 3.1],\n",
        "    'PetalLength': [1.7, 4.2, 5.4],\n",
        "    'PetalWidth': [0.5, 1.5, 2.1],\n",
        "}\n",
        "\n",
        "def input_fn(features, batch_size=256):\n",
        "    \"\"\"An input function for prediction.\"\"\"\n",
        "    # Convert the inputs to a Dataset without labels.\n",
        "    return tf.data.Dataset.from_tensor_slices(dict(features)).batch(batch_size)\n",
        "\n",
        "predictions = classifier.predict(\n",
        "    input_fn=lambda: input_fn(predict_x))"
      ]
    },
    {
      "cell_type": "markdown",
      "metadata": {
        "id": "JsETKQo0rHvi"
      },
      "source": [
        "O método `predict` retorna uma iterável em Python, gerando um dicionário de resultados previstos para cada exemplo. O código a seguir imprime algumas previsões e suas probabilidades."
      ]
    },
    {
      "cell_type": "code",
      "execution_count": null,
      "metadata": {
        "id": "Efm4mLzkrCxp"
      },
      "outputs": [],
      "source": [
        "for pred_dict, expec in zip(predictions, expected):\n",
        "    class_id = pred_dict['class_ids'][0]\n",
        "    probability = pred_dict['probabilities'][class_id]\n",
        "\n",
        "    print('Prediction is \"{}\" ({:.1f}%), expected \"{}\"'.format(\n",
        "        SPECIES[class_id], 100 * probability, expec))"
      ]
    }
  ],
  "metadata": {
    "colab": {
      "collapsed_sections": [],
      "name": "premade.ipynb",
      "toc_visible": true
    },
    "kernelspec": {
      "display_name": "Python 3",
      "name": "python3"
    }
  },
  "nbformat": 4,
  "nbformat_minor": 0
}
