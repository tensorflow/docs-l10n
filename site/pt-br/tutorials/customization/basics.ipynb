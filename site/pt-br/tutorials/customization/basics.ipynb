{
  "cells": [
    {
      "cell_type": "markdown",
      "metadata": {
        "id": "iPpI7RaYoZuE"
      },
      "source": [
        "##### Copyright 2018 The TensorFlow Authors."
      ]
    },
    {
      "cell_type": "code",
      "execution_count": null,
      "metadata": {
        "cellView": "form",
        "id": "hro2InpHobKk"
      },
      "outputs": [],
      "source": [
        "#@title Licensed under the Apache License, Version 2.0 (the \"License\");\n",
        "# you may not use this file except in compliance with the License.\n",
        "# You may obtain a copy of the License at\n",
        "#\n",
        "# https://www.apache.org/licenses/LICENSE-2.0\n",
        "#\n",
        "# Unless required by applicable law or agreed to in writing, software\n",
        "# distributed under the License is distributed on an \"AS IS\" BASIS,\n",
        "# WITHOUT WARRANTIES OR CONDITIONS OF ANY KIND, either express or implied.\n",
        "# See the License for the specific language governing permissions and\n",
        "# limitations under the License."
      ]
    },
    {
      "cell_type": "markdown",
      "metadata": {
        "id": "U9i2Dsh-ziXr"
      },
      "source": [
        "# Fundamentos de personalização: tensores e operações"
      ]
    },
    {
      "cell_type": "markdown",
      "metadata": {
        "id": "Hndw-YcxoOJK"
      },
      "source": [
        "<table class=\"tfo-notebook-buttons\" align=\"left\">\n",
        "  <td>     <a target=\"_blank\" href=\"https://www.tensorflow.org/tutorials/customization/basics\"><img src=\"https://www.tensorflow.org/images/tf_logo_32px.png\">Ver em TensorFlow.org</a>\n",
        "</td>\n",
        "  <td>     <a target=\"_blank\" href=\"https://colab.research.google.com/github/tensorflow/docs/blob/master/site/en/tutorials/customization/basics.ipynb\"><img src=\"https://www.tensorflow.org/images/colab_logo_32px.png\">Executar no Google Colab</a>\n",
        "</td>\n",
        "  <td>     <a target=\"_blank\" href=\"https://github.com/tensorflow/docs/blob/master/site/en/tutorials/customization/basics.ipynb\"><img src=\"https://www.tensorflow.org/images/GitHub-Mark-32px.png\">Ver fonte no GitHub</a>\n",
        "</td>\n",
        "  <td>     <a href=\"https://storage.googleapis.com/tensorflow_docs/docs/site/en/tutorials/customization/basics.ipynb\"><img src=\"https://www.tensorflow.org/images/download_logo_32px.png\">Baixar notebook</a>\n",
        "</td>\n",
        "</table>"
      ]
    },
    {
      "cell_type": "markdown",
      "metadata": {
        "id": "6sILUVbHoSgH"
      },
      "source": [
        "Este é um tutorial introdutório do TensorFlow que mostra como:\n",
        "\n",
        "- Importar o pacote necessário.\n",
        "- Criar e usar tensores.\n",
        "- Usar a aceleração de GPU.\n",
        "- Criar um pipeline de dados com `tf.data.Dataset`."
      ]
    },
    {
      "cell_type": "markdown",
      "metadata": {
        "id": "z1JcS5iBXMRO"
      },
      "source": [
        "## Importe o TensorFlow\n",
        "\n",
        "Para começar, importe o módulo `tensorflow`. A partir do TensorFlow 2, a eager execution é ativada por padrão. A eager execution permite um front-end mais interativo para o TensorFlow, que você conhecerá depois em mais detalhes."
      ]
    },
    {
      "cell_type": "code",
      "execution_count": null,
      "metadata": {
        "id": "vjBPmYjLdFmk"
      },
      "outputs": [],
      "source": [
        "import tensorflow as tf"
      ]
    },
    {
      "cell_type": "markdown",
      "metadata": {
        "id": "H9UySOPLXdaw"
      },
      "source": [
        "## Tensores\n",
        "\n",
        "Um Tensor é um array multidimensional. Semelhante aos objetos `ndarray` do NumPy, os objetos `tf.Tensor` têm um tipo de dados e um formato. Além disso, os `tf.Tensor`s podem residir na memória de um acelerador (como uma GPU). O TensorFlow oferece uma vasta biblioteca de operações (por exemplo, `tf.math.add`, `tf.linalg.matmul` e `tf.linalg.inv`), que consomem e produzem `tf.Tensor`s. Essas operações convertem automaticamente os tipos built-in do Python. Por exemplo:\n"
      ]
    },
    {
      "cell_type": "code",
      "execution_count": null,
      "metadata": {
        "cellView": "code",
        "id": "ngUe237Wt48W"
      },
      "outputs": [],
      "source": [
        "print(tf.math.add(1, 2))\n",
        "print(tf.math.add([1, 2], [3, 4]))\n",
        "print(tf.math.square(5))\n",
        "print(tf.math.reduce_sum([1, 2, 3]))\n",
        "\n",
        "# Operator overloading is also supported\n",
        "print(tf.math.square(2) + tf.math.square(3))"
      ]
    },
    {
      "cell_type": "markdown",
      "metadata": {
        "id": "IDY4WsYRhP81"
      },
      "source": [
        "Cada `tf.Tensor` tem um formato e um tipo de dados:"
      ]
    },
    {
      "cell_type": "code",
      "execution_count": null,
      "metadata": {
        "id": "srYWH1MdJNG7"
      },
      "outputs": [],
      "source": [
        "x = tf.linalg.matmul([[1]], [[2, 3]])\n",
        "print(x)\n",
        "print(x.shape)\n",
        "print(x.dtype)"
      ]
    },
    {
      "cell_type": "markdown",
      "metadata": {
        "id": "eBPw8e8vrsom"
      },
      "source": [
        "As diferenças mais óbvias entre arrays do NumPy e `tf.Tensor`s são as seguintes:\n",
        "\n",
        "1. Os Tensores podem ser armazenados na memória de aceleradores (como GPU e TPU).\n",
        "2. Os Tensores são imutáveis."
      ]
    },
    {
      "cell_type": "markdown",
      "metadata": {
        "id": "Dwi1tdW3JBw6"
      },
      "source": [
        "### Compatibilidade com o NumPy\n",
        "\n",
        "A conversão entre um `tf.Tensor` do TensorFlow e um `ndarray` do NumPy é fácil:\n",
        "\n",
        "- As operações do TensorFlow convertem automaticamente os ndarrays do NumPy para Tensores.\n",
        "- As operações do NumPy convertem automaticamente os Tensores para ndarrays do NumPy.\n",
        "\n",
        "Os Tensores são convertidos explicitamente para ndarrays do NumPy usando o método `.numpy()`. Essas conversões são geralmente baratas, já que o array e o `tf.Tensor` compartilham a representação de memória subjacente, se possível. No entanto, compartilhar a representação subjacente nem sempre é possível, já que o `tf.Tensor` pode ser hospedado na memória da GPU, enquanto os arrays do NumPy são sempre armazenados na memória do host, e a conversão envolve uma cópia da memória da GPU para a do host."
      ]
    },
    {
      "cell_type": "code",
      "execution_count": null,
      "metadata": {
        "id": "lCUWzso6mbqR"
      },
      "outputs": [],
      "source": [
        "import numpy as np\n",
        "\n",
        "ndarray = np.ones([3, 3])\n",
        "\n",
        "print(\"TensorFlow operations convert numpy arrays to Tensors automatically\")\n",
        "tensor = tf.math.multiply(ndarray, 42)\n",
        "print(tensor)\n",
        "\n",
        "\n",
        "print(\"And NumPy operations convert Tensors to NumPy arrays automatically\")\n",
        "print(np.add(tensor, 1))\n",
        "\n",
        "print(\"The .numpy() method explicitly converts a Tensor to a numpy array\")\n",
        "print(tensor.numpy())"
      ]
    },
    {
      "cell_type": "markdown",
      "metadata": {
        "id": "PBNP8yTRfu_X"
      },
      "source": [
        "## Aceleração de GPU\n",
        "\n",
        "Várias operações do TensorFlow são aceleradas usando a GPU para computação. Sem qualquer anotação, o TensorFlow decide automaticamente usar a GPU ou CPU para uma operação — copiando o tensor entre a memória da CPU e da GPU, se necessário. Os Tensores produzidos por uma operação são geralmente armazenados na memória do dispositivo em que a operação está sendo executada. Por exemplo:"
      ]
    },
    {
      "cell_type": "code",
      "execution_count": null,
      "metadata": {
        "cellView": "code",
        "id": "3Twf_Rw-gQFM"
      },
      "outputs": [],
      "source": [
        "x = tf.random.uniform([3, 3])\n",
        "\n",
        "print(\"Is there a GPU available: \"),\n",
        "print(tf.config.list_physical_devices(\"GPU\"))\n",
        "\n",
        "print(\"Is the Tensor on GPU #0:  \"),\n",
        "print(x.device.endswith('GPU:0'))"
      ]
    },
    {
      "cell_type": "markdown",
      "metadata": {
        "id": "vpgYzgVXW2Ud"
      },
      "source": [
        "### Nomes do dispositivo\n",
        "\n",
        "A propriedade `Tensor.device` fornece um nome de string totalmente qualificado do dispositivo que está hospedando o conteúdo do tensor. Esse nome codifica vários detalhes, como um identificador do endereço da rede do host em que esse programa está sendo executado e o dispositivo nesse host. Isso é necessário para a execução distribuída de um programa do TensorFlow. A string termina com `GPU:<N>` se o tensor estiver na GPU `N` do host."
      ]
    },
    {
      "cell_type": "markdown",
      "metadata": {
        "id": "ZWZQCimzuqyP"
      },
      "source": [
        "### Posicionamento explícito do dispositivo\n",
        "\n",
        "No TensorFlow, o *posicionamento* se refere à maneira como as operações individuais são atribuídas a (colocadas em) um dispositivo para execução. Conforme mencionado, quando nenhuma orientação explícita é fornecida, o TensorFlow decide automaticamente em que dispositivo executar uma operação e copia os tensores para esse dispositivo, se necessário.\n",
        "\n",
        "No entanto, as operações do TensorFlow podem ser colocadas explicitamente em dispositivos específicos usando o gerenciador de contexto `tf.device`. Por exemplo:"
      ]
    },
    {
      "cell_type": "code",
      "execution_count": null,
      "metadata": {
        "id": "RjkNZTuauy-Q"
      },
      "outputs": [],
      "source": [
        "import time\n",
        "\n",
        "def time_matmul(x):\n",
        "  start = time.time()\n",
        "  for loop in range(10):\n",
        "    tf.linalg.matmul(x, x)\n",
        "\n",
        "  result = time.time()-start\n",
        "\n",
        "  print(\"10 loops: {:0.2f}ms\".format(1000*result))\n",
        "\n",
        "# Force execution on CPU\n",
        "print(\"On CPU:\")\n",
        "with tf.device(\"CPU:0\"):\n",
        "  x = tf.random.uniform([1000, 1000])\n",
        "  assert x.device.endswith(\"CPU:0\")\n",
        "  time_matmul(x)\n",
        "\n",
        "# Force execution on GPU #0 if available\n",
        "if tf.config.list_physical_devices(\"GPU\"):\n",
        "  print(\"On GPU:\")\n",
        "  with tf.device(\"GPU:0\"): # Or GPU:1 for the 2nd GPU, GPU:2 for the 3rd etc.\n",
        "    x = tf.random.uniform([1000, 1000])\n",
        "    assert x.device.endswith(\"GPU:0\")\n",
        "    time_matmul(x)"
      ]
    },
    {
      "cell_type": "markdown",
      "metadata": {
        "id": "o1K4dlhhHtQj"
      },
      "source": [
        "## Datasets\n",
        "\n",
        "Esta seção usa a API `tf.data.Dataset` na criação de um pipeline para alimentar seu modelo com dados. `tf.data.Dataset` é usado para criar pipelines de entrada complexos e eficientes a partir de partes simples e reutilizáveis que alimentarão os loops de treinamento ou avaliação do seu modelo. (Consulte o guia [tf.data: crie pipelines de entrada do TensorFlow](../../guide/data.ipynb) para saber mais.)"
      ]
    },
    {
      "cell_type": "markdown",
      "metadata": {
        "id": "zI0fmOynH-Ne"
      },
      "source": [
        "### Crie um `Dataset` de origem\n",
        "\n",
        "Crie um dataset de *origem* usando uma das funções de fábrica, como `tf.data.Dataset.from_tensors` e `tf.data.Dataset.from_tensor_slices`, ou usando objetos que leem arquivos, como `tf.data.TextLineDataset` ou `tf.data.TFRecordDataset`. Consulte a seção *Lendo dados de entrada* do guia [tf.data: crie pipelines de entrada do TensorFlow](../../guide/data.ipynb) para mais informações."
      ]
    },
    {
      "cell_type": "code",
      "execution_count": null,
      "metadata": {
        "id": "F04fVOHQIBiG"
      },
      "outputs": [],
      "source": [
        "ds_tensors = tf.data.Dataset.from_tensor_slices([1, 2, 3, 4, 5, 6])\n",
        "\n",
        "# Create a CSV file\n",
        "import tempfile\n",
        "_, filename = tempfile.mkstemp()\n",
        "\n",
        "with open(filename, 'w') as f:\n",
        "  f.write(\"\"\"Line 1\n",
        "Line 2\n",
        "Line 3\n",
        "  \"\"\")\n",
        "\n",
        "ds_file = tf.data.TextLineDataset(filename)"
      ]
    },
    {
      "cell_type": "markdown",
      "metadata": {
        "id": "vbxIhC-5IPdf"
      },
      "source": [
        "### Aplique transformações\n",
        "\n",
        "Use as funções de transformação, como `tf.data.Dataset.map`, `tf.data.Dataset.batch` e `tf.data.Dataset.shuffle`, para aplicar transformações a registros de datasets."
      ]
    },
    {
      "cell_type": "code",
      "execution_count": null,
      "metadata": {
        "id": "uXSDZWE-ISsd"
      },
      "outputs": [],
      "source": [
        "ds_tensors = ds_tensors.map(tf.math.square).shuffle(2).batch(2)\n",
        "\n",
        "ds_file = ds_file.batch(2)"
      ]
    },
    {
      "cell_type": "markdown",
      "metadata": {
        "id": "A8X1GNfoIZKJ"
      },
      "source": [
        "### Faça a iteração\n",
        "\n",
        "Os objetos `tf.data.Dataset` são compatíveis com a iteração para fazer loops nos registros:"
      ]
    },
    {
      "cell_type": "code",
      "execution_count": null,
      "metadata": {
        "id": "ws-WKRk5Ic6-"
      },
      "outputs": [],
      "source": [
        "print('Elements of ds_tensors:')\n",
        "for x in ds_tensors:\n",
        "  print(x)\n",
        "\n",
        "print('\\nElements in ds_file:')\n",
        "for x in ds_file:\n",
        "  print(x)"
      ]
    }
  ],
  "metadata": {
    "accelerator": "GPU",
    "colab": {
      "collapsed_sections": [],
      "name": "basics.ipynb",
      "toc_visible": true
    },
    "kernelspec": {
      "display_name": "Python 3",
      "name": "python3"
    }
  },
  "nbformat": 4,
  "nbformat_minor": 0
}
