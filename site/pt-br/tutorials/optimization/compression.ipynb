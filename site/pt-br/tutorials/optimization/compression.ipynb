{
  "cells": [
    {
      "cell_type": "markdown",
      "metadata": {
        "id": "Tce3stUlHN0L"
      },
      "source": [
        "##### Copyright 2022 The TensorFlow Compression Authors."
      ]
    },
    {
      "cell_type": "code",
      "execution_count": null,
      "metadata": {
        "cellView": "form",
        "id": "tuOe1ymfHZPu"
      },
      "outputs": [],
      "source": [
        "#@title Licensed under the Apache License, Version 2.0 (the \"License\");\n",
        "# you may not use this file except in compliance with the License.\n",
        "# You may obtain a copy of the License at\n",
        "#\n",
        "# https://www.apache.org/licenses/LICENSE-2.0\n",
        "#\n",
        "# Unless required by applicable law or agreed to in writing, software\n",
        "# distributed under the License is distributed on an \"AS IS\" BASIS,\n",
        "# WITHOUT WARRANTIES OR CONDITIONS OF ANY KIND, either express or implied.\n",
        "# See the License for the specific language governing permissions and\n",
        "# limitations under the License."
      ]
    },
    {
      "cell_type": "markdown",
      "metadata": {
        "id": "qFdPvlXBOdUN"
      },
      "source": [
        "# Compressão de modelo escalável"
      ]
    },
    {
      "cell_type": "markdown",
      "metadata": {
        "id": "MfBg1C5NB3X0"
      },
      "source": [
        "<table class=\"tfo-notebook-buttons\" align=\"left\">\n",
        "  <td>     <a target=\"_blank\" href=\"https://www.tensorflow.org/tutorials/optimization/compression\">     <img src=\"https://www.tensorflow.org/images/tf_logo_32px.png\">     Ver em TensorFlow.org</a>\n",
        "</td>\n",
        "  <td>     <a target=\"_blank\" href=\"https://colab.research.google.com/github/tensorflow/docs-l10n/blob/master/site/pt-br/tutorials/optimization/compression.ipynb\">     <img src=\"https://www.tensorflow.org/images/colab_logo_32px.png\">     Executar no Google Colab</a>\n",
        "</td>\n",
        "  <td>     <a target=\"_blank\" href=\"https://github.com/tensorflow/docs-l10n/blob/master/site/pt-br/tutorials/optimization/compression.ipynb\">     <img src=\"https://www.tensorflow.org/images/GitHub-Mark-32px.png\">     Ver fonte no GitHub</a>\n",
        "</td>\n",
        "  <td>     <a href=\"https://storage.googleapis.com/tensorflow_docs/docs-l10n/site/pt-br/tutorials/optimization/compression.ipynb\"><img src=\"https://www.tensorflow.org/images/download_logo_32px.png\">Baixar notebook</a>\n",
        "</td>\n",
        "</table>"
      ]
    },
    {
      "cell_type": "markdown",
      "metadata": {
        "id": "xHxb-dlhMIzW"
      },
      "source": [
        "## Visão geral\n",
        "\n",
        "Este notebook mostra como fazer a compressão de um modelo usando o [TensorFlow Compression](https://github.com/tensorflow/compression).\n",
        "\n",
        "No exemplo abaixo, comprimimos os pesos de um classificador MNIST para um tamanho muito menor do que a representação de ponto flutuante dele, ainda retendo a exatidão da classificação. Isso é feito em um processo de duas etapas, baseado no artigo [Scalable Model Compression by Entropy Penalized Reparameterization](https://arxiv.org/abs/1906.06624) (Compressão de modelo escalável pela reparametrização de entropia penalizada):\n",
        "\n",
        "- Treinando um modelo \"compressível\" com uma **penalidade entrópica** explícita durante o treinamento, o que incentiva a compressibilidade dos parâmetros do modelo. O peso dessa penalidade, $\\lambda$, permite o controle contínuo do trade-off entre o tamanho do modelo comprimido e a exatidão dele.\n",
        "\n",
        "- Codificando o modelo compressível em um modelo comprimido usando um esquema de codificação compatível com a penalidade, o que significa que a penalidade é um bom indicador do tamanho do modelo. Isso garante que o método não exija várias iterações de treinamento, compressão e retreinamento do modelo para ajuste.\n",
        "\n",
        "Esse método é estritamente relacionado ao tamanho do modelo comprimido, e não à complexidade computacional. Ele pode ser combinado com uma técnica como o pruning de modelos para reduzir o tamanho e a complexibilidade.\n",
        "\n",
        "Exemplo de resultados da compressão em vários modelos:\n",
        "\n",
        "Modelo (dataset) | Tamanho do modelo | Razão de comp. | Erro top-1 de comp. (não comp.)\n",
        "--- | --- | --- | ---\n",
        "LeNet300-100 (MNIST) | 8,56 KB | 124x | 1,9%  (1,6%)\n",
        "LeNet5-Caffe (MNIST) | 2,84 KB | 606x | 1,0%  (0,7%)\n",
        "VGG-16 (CIFAR-10) | 101 KB | 590x | 10,0%  (6,6%)\n",
        "ResNet-20-4 (CIFAR-10) | 128 KB | 134x | 8,8%  (5,0%)\n",
        "ResNet-18 (ImageNet) | 1,97 MB | 24x | 30,0% (30,0%)\n",
        "ResNet-50 (ImageNet) | 5,49 MB | 19x | 26,0% (25,0%)\n",
        "\n",
        "As aplicações incluem:\n",
        "\n",
        "- Implantar/transmitir modelos para dispositivos de borda em grande escala, economizando largura de banda no trânsito.\n",
        "- Comunicar o estado de modelo global aos clientes no aprendizado federado. A arquitetura do modelo (número de unidades ocultas etc.) não muda em relação ao modelo inicial, e os clientes podem continuar aprendendo com o modelo descomprimido.\n",
        "- Realizar a inferência em clientes de memória extremamente limitada. Durante a inferência, os pesos de cada camada podem ser descomprimidos em sequência e descartados logo após as ativações serem computadas."
      ]
    },
    {
      "cell_type": "markdown",
      "metadata": {
        "id": "MUXex9ctTuDB"
      },
      "source": [
        "## Configuração\n",
        "\n",
        "Instale o Tensorflow Compression pelo `pip`."
      ]
    },
    {
      "cell_type": "code",
      "execution_count": null,
      "metadata": {
        "id": "K489KsEgxuLI"
      },
      "outputs": [],
      "source": [
        "%%bash\n",
        "# Installs the latest version of TFC compatible with the installed TF version.\n",
        "\n",
        "read MAJOR MINOR <<< \"$(pip show tensorflow | perl -p -0777 -e 's/.*Version: (\\d+)\\.(\\d+).*/\\1 \\2/sg')\"\n",
        "pip install \"tensorflow-compression<$MAJOR.$(($MINOR+1))\"\n"
      ]
    },
    {
      "cell_type": "markdown",
      "metadata": {
        "id": "WfVAmHCVxpTS"
      },
      "source": [
        "Importe as dependências de biblioteca."
      ]
    },
    {
      "cell_type": "code",
      "execution_count": null,
      "metadata": {
        "id": "IqR2PQG4ZaZ0"
      },
      "outputs": [],
      "source": [
        "import matplotlib.pyplot as plt\n",
        "import tensorflow as tf\n",
        "import tensorflow_compression as tfc\n",
        "import tensorflow_datasets as tfds\n"
      ]
    },
    {
      "cell_type": "markdown",
      "metadata": {
        "id": "wsncKT2iymgQ"
      },
      "source": [
        "## Defina e treine um classificador MNIST básico\n",
        "\n",
        "Para comprimir camadas convolucionais e densas de maneira eficaz, precisamos definir classes de camadas personalizadas. Elas são análogas às camadas em `tf.keras.layers`, mas vamos dividi-las depois em subclasses para implementar com eficácia a Reparametrização de Entropia Penalizada (EPR). Para esse fim, também adicionamos um construtor de cópia.\n",
        "\n",
        "Primeiro, definimos uma camada densa padrão:"
      ]
    },
    {
      "cell_type": "code",
      "execution_count": null,
      "metadata": {
        "id": "n_7ZRqiaO1WQ"
      },
      "outputs": [],
      "source": [
        "class CustomDense(tf.keras.layers.Layer):\n",
        "\n",
        "  def __init__(self, filters, name=\"dense\"):\n",
        "    super().__init__(name=name)\n",
        "    self.filters = filters\n",
        "\n",
        "  @classmethod\n",
        "  def copy(cls, other, **kwargs):\n",
        "    \"\"\"Returns an instantiated and built layer, initialized from `other`.\"\"\"\n",
        "    self = cls(filters=other.filters, name=other.name, **kwargs)\n",
        "    self.build(None, other=other)\n",
        "    return self\n",
        "\n",
        "  def build(self, input_shape, other=None):\n",
        "    \"\"\"Instantiates weights, optionally initializing them from `other`.\"\"\"\n",
        "    if other is None:\n",
        "      kernel_shape = (input_shape[-1], self.filters)\n",
        "      kernel = tf.keras.initializers.GlorotUniform()(shape=kernel_shape)\n",
        "      bias = tf.keras.initializers.Zeros()(shape=(self.filters,))\n",
        "    else:\n",
        "      kernel, bias = other.kernel, other.bias\n",
        "    self.kernel = tf.Variable(\n",
        "        tf.cast(kernel, self.variable_dtype), name=\"kernel\")\n",
        "    self.bias = tf.Variable(\n",
        "        tf.cast(bias, self.variable_dtype), name=\"bias\")\n",
        "    self.built = True\n",
        "\n",
        "  def call(self, inputs):\n",
        "    outputs = tf.linalg.matvec(self.kernel, inputs, transpose_a=True)\n",
        "    outputs = tf.nn.bias_add(outputs, self.bias)\n",
        "    return tf.nn.leaky_relu(outputs)\n"
      ]
    },
    {
      "cell_type": "markdown",
      "metadata": {
        "id": "RUZkcXegc0yR"
      },
      "source": [
        "E, de maneira similar, uma camada convolucional 2D:"
      ]
    },
    {
      "cell_type": "code",
      "execution_count": null,
      "metadata": {
        "id": "RDibtb8EWCSj"
      },
      "outputs": [],
      "source": [
        "class CustomConv2D(tf.keras.layers.Layer):\n",
        "\n",
        "  def __init__(self, filters, kernel_size,\n",
        "               strides=1, padding=\"SAME\", name=\"conv2d\"):\n",
        "    super().__init__(name=name)\n",
        "    self.filters = filters\n",
        "    self.kernel_size = kernel_size\n",
        "    self.strides = strides\n",
        "    self.padding = padding\n",
        "\n",
        "  @classmethod\n",
        "  def copy(cls, other, **kwargs):\n",
        "    \"\"\"Returns an instantiated and built layer, initialized from `other`.\"\"\"\n",
        "    self = cls(filters=other.filters, kernel_size=other.kernel_size,\n",
        "               strides=other.strides, padding=other.padding, name=other.name,\n",
        "               **kwargs)\n",
        "    self.build(None, other=other)\n",
        "    return self\n",
        "\n",
        "  def build(self, input_shape, other=None):\n",
        "    \"\"\"Instantiates weights, optionally initializing them from `other`.\"\"\"\n",
        "    if other is None:\n",
        "      kernel_shape = 2 * (self.kernel_size,) + (input_shape[-1], self.filters)\n",
        "      kernel = tf.keras.initializers.GlorotUniform()(shape=kernel_shape)\n",
        "      bias = tf.keras.initializers.Zeros()(shape=(self.filters,))\n",
        "    else:\n",
        "      kernel, bias = other.kernel, other.bias\n",
        "    self.kernel = tf.Variable(\n",
        "        tf.cast(kernel, self.variable_dtype), name=\"kernel\")\n",
        "    self.bias = tf.Variable(\n",
        "        tf.cast(bias, self.variable_dtype), name=\"bias\")\n",
        "    self.built = True\n",
        "\n",
        "  def call(self, inputs):\n",
        "    outputs = tf.nn.convolution(\n",
        "        inputs, self.kernel, strides=self.strides, padding=self.padding)\n",
        "    outputs = tf.nn.bias_add(outputs, self.bias)\n",
        "    return tf.nn.leaky_relu(outputs)\n"
      ]
    },
    {
      "cell_type": "markdown",
      "metadata": {
        "id": "6xWa1hHMdCpG"
      },
      "source": [
        "Antes de continuar com a compressão do modelo, vamos conferir se podemos treinar um classificador regular.\n",
        "\n",
        "Defina a arquitetura do modelo:"
      ]
    },
    {
      "cell_type": "code",
      "execution_count": null,
      "metadata": {
        "id": "8yZESLgW-vp1"
      },
      "outputs": [],
      "source": [
        "classifier = tf.keras.Sequential([\n",
        "    CustomConv2D(20, 5, strides=2, name=\"conv_1\"),\n",
        "    CustomConv2D(50, 5, strides=2, name=\"conv_2\"),\n",
        "    tf.keras.layers.Flatten(),\n",
        "    CustomDense(500, name=\"fc_1\"),\n",
        "    CustomDense(10, name=\"fc_2\"),\n",
        "], name=\"classifier\")\n"
      ]
    },
    {
      "cell_type": "markdown",
      "metadata": {
        "id": "9iRSvt_CdUuY"
      },
      "source": [
        "Carregue os dados de treinamento:"
      ]
    },
    {
      "cell_type": "code",
      "execution_count": null,
      "metadata": {
        "id": "L4bsA3HFF2k0"
      },
      "outputs": [],
      "source": [
        "def normalize_img(image, label):\n",
        "  \"\"\"Normalizes images: `uint8` -> `float32`.\"\"\"\n",
        "  return tf.cast(image, tf.float32) / 255., label\n",
        "\n",
        "training_dataset, validation_dataset = tfds.load(\n",
        "    \"mnist\",\n",
        "    split=[\"train\", \"test\"],\n",
        "    shuffle_files=True,\n",
        "    as_supervised=True,\n",
        "    with_info=False,\n",
        ")\n",
        "training_dataset = training_dataset.map(normalize_img)\n",
        "validation_dataset = validation_dataset.map(normalize_img)\n"
      ]
    },
    {
      "cell_type": "markdown",
      "metadata": {
        "id": "rR9WYjt_daRG"
      },
      "source": [
        "Por fim, treine o modelo:"
      ]
    },
    {
      "cell_type": "code",
      "execution_count": null,
      "metadata": {
        "id": "ROn2DbzsBirI"
      },
      "outputs": [],
      "source": [
        "def train_model(model, training_data, validation_data, **kwargs):\n",
        "  model.compile(\n",
        "      optimizer=tf.keras.optimizers.Adam(learning_rate=1e-3),\n",
        "      loss=tf.keras.losses.SparseCategoricalCrossentropy(from_logits=True),\n",
        "      metrics=[tf.keras.metrics.SparseCategoricalAccuracy()],\n",
        "      # Uncomment this to ease debugging:\n",
        "      # run_eagerly=True,\n",
        "  )\n",
        "  kwargs.setdefault(\"epochs\", 5)\n",
        "  kwargs.setdefault(\"verbose\", 1)\n",
        "  log = model.fit(\n",
        "      training_data.batch(128).prefetch(8),\n",
        "      validation_data=validation_data.batch(128).cache(),\n",
        "      validation_freq=1,\n",
        "      **kwargs,\n",
        "  )\n",
        "  return log.history[\"val_sparse_categorical_accuracy\"][-1]\n",
        "\n",
        "classifier_accuracy = train_model(\n",
        "    classifier, training_dataset, validation_dataset)\n",
        "\n",
        "print(f\"Accuracy: {classifier_accuracy:0.4f}\")\n"
      ]
    },
    {
      "cell_type": "markdown",
      "metadata": {
        "id": "QupWKZ91di-y"
      },
      "source": [
        "Sucesso! O modelo foi treinado e alcançou uma exatidão de mais de 98% no dataset de validação em 5 épocas."
      ]
    },
    {
      "cell_type": "markdown",
      "metadata": {
        "id": "yRqZFwb5dqQm"
      },
      "source": [
        "## Treine um classificador compressível\n",
        "\n",
        "A Reparametrização de Entropia Penalizada (EPR) tem dois ingredientes principais:\n",
        "\n",
        "- Aplicar uma **penalidade** aos pesos do modelo durante o treinamento que corresponde à entropia deles em um modelo probabilístico, que é compatível com o esquema de codificação dos pesos. Abaixo, definimos um `Regularizer` do Keras que implementa essa penalidade.\n",
        "\n",
        "- **Reparametrizar** os pesos, ou seja, trazê-los para uma representação latente mais compressível (gera um melhor trade-off entre a compressibilidade e o desempenho do modelo). Para kernels convolucionais, [mostrou-se](https://arxiv.org/abs/1906.06624) que o domínio Fourier é uma boa representação. Para outros parâmetros, o exemplo abaixo simplesmente usa a quantização escalar (arredondamento) com um tamanho de passo de quantização variável."
      ]
    },
    {
      "cell_type": "markdown",
      "metadata": {
        "id": "e4jmnqEmO6eB"
      },
      "source": [
        "Primeiro, defina a penalidade.\n",
        "\n",
        "O exemplo abaixo usa um modelo probabilístico/código implementado na classe `tfc.PowerLawEntropyModel`, inspirado no artigo [Optimizing the Communication-Accuracy Trade-off in Federated Learning with Rate-Distortion Theory](https://arxiv.org/abs/2201.02664) (Otimizando o trade-off entre comunicação e exatidão no aprendizado federado com a teoria taxa-distorção). A penalidade é definida como: $$ \\log \\Bigl(\\frac {|x| + \\alpha} \\alpha\\Bigr), $$ em que $x$ é um elemento do parâmetro do modelo ou a representação latente dele, e $\\alpha$ é uma pequena constante para a estabilidade numérica em torno de valores 0."
      ]
    },
    {
      "cell_type": "code",
      "execution_count": null,
      "metadata": {
        "id": "hh57nxjuwocc"
      },
      "outputs": [],
      "source": [
        "_ = tf.linspace(-5., 5., 501)\n",
        "plt.plot(_, tfc.PowerLawEntropyModel(0).penalty(_));\n"
      ]
    },
    {
      "cell_type": "markdown",
      "metadata": {
        "id": "Gr3-6vLrwo-H"
      },
      "source": [
        "A penalidade é efetivamente uma perda de regularização (às vezes chamada de \"perda de peso\"). O fato de ser côncava com uma cúspide no zero incentiva a dispersão de peso. O esquema de codificação aplicado para a compressão dos pesos, um [código Elias gamma](https://en.wikipedia.org/wiki/Elias_gamma_coding), produz códigos de comprimento de $ 1 + \\lfloor \\log_2 |x| \\rfloor $ bits para a magnitude do elemento. Ou seja, é compatível com a penalidade, e a aplicação da penalidade minimiza o comprimento de código esperado."
      ]
    },
    {
      "cell_type": "code",
      "execution_count": null,
      "metadata": {
        "id": "H1Yt6e1ub6pU"
      },
      "outputs": [],
      "source": [
        "class PowerLawRegularizer(tf.keras.regularizers.Regularizer):\n",
        "\n",
        "  def __init__(self, lmbda):\n",
        "    super().__init__()\n",
        "    self.lmbda = lmbda\n",
        "\n",
        "  def __call__(self, variable):\n",
        "    em = tfc.PowerLawEntropyModel(coding_rank=variable.shape.rank)\n",
        "    return self.lmbda * em.penalty(variable)\n",
        "\n",
        "# Normalizing the weight of the penalty by the number of model parameters is a\n",
        "# good rule of thumb to produce comparable results across models.\n",
        "regularizer = PowerLawRegularizer(lmbda=2./classifier.count_params())\n"
      ]
    },
    {
      "cell_type": "markdown",
      "metadata": {
        "id": "kyQc35QTf8Aq"
      },
      "source": [
        "Segundo, defina subclasses de `CustomDense` e `CustomConv2D`, que têm a seguinte funcionalidade adicional:\n",
        "\n",
        "- Elas pegam uma instância do regularizer acima e a aplicam aos kernels e biases durante o treinamento.\n",
        "- Elas definem o kernel e bias como uma `@property`, que realiza a quantização com gradientes diretos quando as variáveis são acessadas. Isso reflete exatamente a computação realizada mais tarde no modelo comprimido.\n",
        "- Elas definem variáveis `log_step` adicionais, que representam o logaritmo do tamanho do passo de quantização. Quanto mais espessa a quantização, menor será o tamanho do modelo e também a exatidão. Os tamanhos do passo de quantização são treináveis para cada parâmetro do modelo, então a otimização na função de perda penalizada determinará o melhor tamanho.\n",
        "\n",
        "O passo de quantização é definido da seguinte maneira:"
      ]
    },
    {
      "cell_type": "code",
      "execution_count": null,
      "metadata": {
        "id": "60fMt3avgSFw"
      },
      "outputs": [],
      "source": [
        "def quantize(latent, log_step):\n",
        "  step = tf.exp(log_step)\n",
        "  return tfc.round_st(latent / step) * step\n"
      ]
    },
    {
      "cell_type": "markdown",
      "metadata": {
        "id": "stKrchp7mB0b"
      },
      "source": [
        "Com isso, podemos definir a camada densa:"
      ]
    },
    {
      "cell_type": "code",
      "execution_count": null,
      "metadata": {
        "id": "Ciz1F1WsXre_"
      },
      "outputs": [],
      "source": [
        "class CompressibleDense(CustomDense):\n",
        "\n",
        "  def __init__(self, regularizer, *args, **kwargs):\n",
        "    super().__init__(*args, **kwargs)\n",
        "    self.regularizer = regularizer\n",
        "\n",
        "  def build(self, input_shape, other=None):\n",
        "    \"\"\"Instantiates weights, optionally initializing them from `other`.\"\"\"\n",
        "    super().build(input_shape, other=other)\n",
        "    if other is not None and hasattr(other, \"kernel_log_step\"):\n",
        "      kernel_log_step = other.kernel_log_step\n",
        "      bias_log_step = other.bias_log_step\n",
        "    else:\n",
        "      kernel_log_step = bias_log_step = -4.\n",
        "    self.kernel_log_step = tf.Variable(\n",
        "        tf.cast(kernel_log_step, self.variable_dtype), name=\"kernel_log_step\")\n",
        "    self.bias_log_step = tf.Variable(\n",
        "        tf.cast(bias_log_step, self.variable_dtype), name=\"bias_log_step\")\n",
        "    self.add_loss(lambda: self.regularizer(\n",
        "        self.kernel_latent / tf.exp(self.kernel_log_step)))\n",
        "    self.add_loss(lambda: self.regularizer(\n",
        "        self.bias_latent / tf.exp(self.bias_log_step)))\n",
        "\n",
        "  @property\n",
        "  def kernel(self):\n",
        "    return quantize(self.kernel_latent, self.kernel_log_step)\n",
        "\n",
        "  @kernel.setter\n",
        "  def kernel(self, kernel):\n",
        "    self.kernel_latent = tf.Variable(kernel, name=\"kernel_latent\")\n",
        "\n",
        "  @property\n",
        "  def bias(self):\n",
        "    return quantize(self.bias_latent, self.bias_log_step)\n",
        "\n",
        "  @bias.setter\n",
        "  def bias(self, bias):\n",
        "    self.bias_latent = tf.Variable(bias, name=\"bias_latent\")\n"
      ]
    },
    {
      "cell_type": "markdown",
      "metadata": {
        "id": "CsykbQO0hxzW"
      },
      "source": [
        "A camada convolucional é análoga. Além disso, o kernel de convolução é armazenado como a transformada discreta de Fourier de valor real (RDFT) quando o kernel é definido, e a transformada é invertida sempre que o kernel é usado. Como os componentes de frequência diferente do kernel tendem a ser mais ou menos compressíveis, cada um recebe seu próprio tamanho de passo de quantização.\n",
        "\n",
        "Defina a transformada de Fourier e o inverso dela da seguinte maneira:"
      ]
    },
    {
      "cell_type": "code",
      "execution_count": null,
      "metadata": {
        "id": "rUFMKGHDguJS"
      },
      "outputs": [],
      "source": [
        "def to_rdft(kernel, kernel_size):\n",
        "  # The kernel has shape (H, W, I, O) -> transpose to take DFT over last two\n",
        "  # dimensions.\n",
        "  kernel = tf.transpose(kernel, (2, 3, 0, 1))\n",
        "  # The RDFT has type complex64 and shape (I, O, FH, FW).\n",
        "  kernel_rdft = tf.signal.rfft2d(kernel)\n",
        "  # Map real and imaginary parts into regular floats. The result is float32\n",
        "  # and has shape (I, O, FH, FW, 2).\n",
        "  kernel_rdft = tf.stack(\n",
        "      [tf.math.real(kernel_rdft), tf.math.imag(kernel_rdft)], axis=-1)\n",
        "  # Divide by kernel size to make the DFT orthonormal (length-preserving).\n",
        "  return kernel_rdft / kernel_size\n",
        "\n",
        "def from_rdft(kernel_rdft, kernel_size):\n",
        "  # Undoes the transformations in to_rdft.\n",
        "  kernel_rdft *= kernel_size\n",
        "  kernel_rdft = tf.dtypes.complex(*tf.unstack(kernel_rdft, axis=-1))\n",
        "  kernel = tf.signal.irfft2d(kernel_rdft, fft_length=2 * (kernel_size,))\n",
        "  return tf.transpose(kernel, (2, 3, 0, 1))\n"
      ]
    },
    {
      "cell_type": "markdown",
      "metadata": {
        "id": "esZZrJ5ImVDY"
      },
      "source": [
        "Com isso, defina a camada convolucional como:"
      ]
    },
    {
      "cell_type": "code",
      "execution_count": null,
      "metadata": {
        "id": "YKzXBNCO7bjB"
      },
      "outputs": [],
      "source": [
        "class CompressibleConv2D(CustomConv2D):\n",
        "\n",
        "  def __init__(self, regularizer, *args, **kwargs):\n",
        "    super().__init__(*args, **kwargs)\n",
        "    self.regularizer = regularizer\n",
        "\n",
        "  def build(self, input_shape, other=None):\n",
        "    \"\"\"Instantiates weights, optionally initializing them from `other`.\"\"\"\n",
        "    super().build(input_shape, other=other)\n",
        "    if other is not None and hasattr(other, \"kernel_log_step\"):\n",
        "      kernel_log_step = other.kernel_log_step\n",
        "      bias_log_step = other.bias_log_step\n",
        "    else:\n",
        "      kernel_log_step = tf.fill(self.kernel_latent.shape[2:], -4.)\n",
        "      bias_log_step = -4.\n",
        "    self.kernel_log_step = tf.Variable(\n",
        "        tf.cast(kernel_log_step, self.variable_dtype), name=\"kernel_log_step\")\n",
        "    self.bias_log_step = tf.Variable(\n",
        "        tf.cast(bias_log_step, self.variable_dtype), name=\"bias_log_step\")\n",
        "    self.add_loss(lambda: self.regularizer(\n",
        "        self.kernel_latent / tf.exp(self.kernel_log_step)))\n",
        "    self.add_loss(lambda: self.regularizer(\n",
        "        self.bias_latent / tf.exp(self.bias_log_step)))\n",
        "\n",
        "  @property\n",
        "  def kernel(self):\n",
        "    kernel_rdft = quantize(self.kernel_latent, self.kernel_log_step)\n",
        "    return from_rdft(kernel_rdft, self.kernel_size)\n",
        "\n",
        "  @kernel.setter\n",
        "  def kernel(self, kernel):\n",
        "    kernel_rdft = to_rdft(kernel, self.kernel_size)\n",
        "    self.kernel_latent = tf.Variable(kernel_rdft, name=\"kernel_latent\")\n",
        "\n",
        "  @property\n",
        "  def bias(self):\n",
        "    return quantize(self.bias_latent, self.bias_log_step)\n",
        "\n",
        "  @bias.setter\n",
        "  def bias(self, bias):\n",
        "    self.bias_latent = tf.Variable(bias, name=\"bias_latent\")\n"
      ]
    },
    {
      "cell_type": "markdown",
      "metadata": {
        "id": "1-ekDDQ9jidI"
      },
      "source": [
        "Defina um modelo classificador com a mesma arquitetura que acima, mas usando estas camadas modificadas:"
      ]
    },
    {
      "cell_type": "code",
      "execution_count": null,
      "metadata": {
        "id": "TQgp84L7qalw"
      },
      "outputs": [],
      "source": [
        "def make_mnist_classifier(regularizer):\n",
        "  return tf.keras.Sequential([\n",
        "      CompressibleConv2D(regularizer, 20, 5, strides=2, name=\"conv_1\"),\n",
        "      CompressibleConv2D(regularizer, 50, 5, strides=2, name=\"conv_2\"),\n",
        "      tf.keras.layers.Flatten(),\n",
        "      CompressibleDense(regularizer, 500, name=\"fc_1\"),\n",
        "      CompressibleDense(regularizer, 10, name=\"fc_2\"),\n",
        "  ], name=\"classifier\")\n",
        "\n",
        "compressible_classifier = make_mnist_classifier(regularizer)\n"
      ]
    },
    {
      "cell_type": "markdown",
      "metadata": {
        "id": "hJ-TMHE1kNFc"
      },
      "source": [
        "E treine o modelo:"
      ]
    },
    {
      "cell_type": "code",
      "execution_count": null,
      "metadata": {
        "id": "6L5ZJAX4EiXW"
      },
      "outputs": [],
      "source": [
        "penalized_accuracy = train_model(\n",
        "    compressible_classifier, training_dataset, validation_dataset)\n",
        "\n",
        "print(f\"Accuracy: {penalized_accuracy:0.4f}\")\n"
      ]
    },
    {
      "cell_type": "markdown",
      "metadata": {
        "id": "ZuE4NeY_kTDz"
      },
      "source": [
        "O modelo compressível alcançou uma exatidão semelhante ao classificador básico.\n",
        "\n",
        "No entanto, o modelo ainda não foi comprimido. Para fazer isso, precisamos definir outro conjunto de subclasses que armazenam os kernels e biases na forma comprimida — como uma sequência de bits."
      ]
    },
    {
      "cell_type": "markdown",
      "metadata": {
        "id": "AZhj8A2gnBkD"
      },
      "source": [
        "## Comprima o classificador\n",
        "\n",
        "As subclasses de `CustomDense` e `CustomConv2D` definidas abaixo convertem os pesos de uma camada densa compressível em strings binárias. Além disso, elas armazenam o logaritmo do tamanho de passo da quantização com metade da exatidão para poupar espaço. Quando o kernel ou bias é acessado pela `@property`, eles são descomprimidos da representação da string e desquantizados.\n",
        "\n",
        "Primeiro, defina as funções para comprimir e descomprimir um parâmetro de modelo:"
      ]
    },
    {
      "cell_type": "code",
      "execution_count": null,
      "metadata": {
        "id": "xS19FhDajeto"
      },
      "outputs": [],
      "source": [
        "def compress_latent(latent, log_step, name):\n",
        "  em = tfc.PowerLawEntropyModel(latent.shape.rank)\n",
        "  compressed = em.compress(latent / tf.exp(log_step))\n",
        "  compressed = tf.Variable(compressed, name=f\"{name}_compressed\")\n",
        "  log_step = tf.cast(log_step, tf.float16)\n",
        "  log_step = tf.Variable(log_step, name=f\"{name}_log_step\")\n",
        "  return compressed, log_step\n",
        "\n",
        "def decompress_latent(compressed, shape, log_step):\n",
        "  latent = tfc.PowerLawEntropyModel(len(shape)).decompress(compressed, shape)\n",
        "  step = tf.exp(tf.cast(log_step, latent.dtype))\n",
        "  return latent * step\n"
      ]
    },
    {
      "cell_type": "markdown",
      "metadata": {
        "id": "bPPABE9fjqHJ"
      },
      "source": [
        "Com elas, podemos definir `CompressedDense`:"
      ]
    },
    {
      "cell_type": "code",
      "execution_count": null,
      "metadata": {
        "id": "CnaiNzhgaZ7s"
      },
      "outputs": [],
      "source": [
        "class CompressedDense(CustomDense):\n",
        "\n",
        "  def build(self, input_shape, other=None):\n",
        "    assert isinstance(other, CompressibleDense)\n",
        "    self.input_channels = other.kernel.shape[0]\n",
        "    self.kernel_compressed, self.kernel_log_step = compress_latent(\n",
        "        other.kernel_latent, other.kernel_log_step, \"kernel\")\n",
        "    self.bias_compressed, self.bias_log_step = compress_latent(\n",
        "        other.bias_latent, other.bias_log_step, \"bias\")\n",
        "    self.built = True\n",
        "\n",
        "  @property\n",
        "  def kernel(self):\n",
        "    kernel_shape = (self.input_channels, self.filters)\n",
        "    return decompress_latent(\n",
        "        self.kernel_compressed, kernel_shape, self.kernel_log_step)\n",
        "\n",
        "  @property\n",
        "  def bias(self):\n",
        "    bias_shape = (self.filters,)\n",
        "    return decompress_latent(\n",
        "        self.bias_compressed, bias_shape, self.bias_log_step)\n"
      ]
    },
    {
      "cell_type": "markdown",
      "metadata": {
        "id": "tzvMCM0El2iW"
      },
      "source": [
        "A classe de camada convolucional é análoga à acima."
      ]
    },
    {
      "cell_type": "code",
      "execution_count": null,
      "metadata": {
        "id": "hS-2ADA6iWeQ"
      },
      "outputs": [],
      "source": [
        "class CompressedConv2D(CustomConv2D):\n",
        "\n",
        "  def build(self, input_shape, other=None):\n",
        "    assert isinstance(other, CompressibleConv2D)\n",
        "    self.input_channels = other.kernel.shape[2]\n",
        "    self.kernel_compressed, self.kernel_log_step = compress_latent(\n",
        "        other.kernel_latent, other.kernel_log_step, \"kernel\")\n",
        "    self.bias_compressed, self.bias_log_step = compress_latent(\n",
        "        other.bias_latent, other.bias_log_step, \"bias\")\n",
        "    self.built = True\n",
        "\n",
        "  @property\n",
        "  def kernel(self):\n",
        "    rdft_shape = (self.input_channels, self.filters,\n",
        "                  self.kernel_size, self.kernel_size // 2 + 1, 2)\n",
        "    kernel_rdft = decompress_latent(\n",
        "        self.kernel_compressed, rdft_shape, self.kernel_log_step)\n",
        "    return from_rdft(kernel_rdft, self.kernel_size)\n",
        "\n",
        "  @property\n",
        "  def bias(self):\n",
        "    bias_shape = (self.filters,)\n",
        "    return decompress_latent(\n",
        "        self.bias_compressed, bias_shape, self.bias_log_step)\n"
      ]
    },
    {
      "cell_type": "markdown",
      "metadata": {
        "id": "cJLCPoe3l8jG"
      },
      "source": [
        "Para transformar o modelo compressível em comprimido, podemos usar de maneira conveniente a função `clone_model`. `compress_layer` converte qualquer camada compressível em uma comprimida e simplesmente passa por qualquer outro tipo de camada (como `Flatten`, etc.).\n"
      ]
    },
    {
      "cell_type": "code",
      "execution_count": null,
      "metadata": {
        "id": "WEHroUyhG56m"
      },
      "outputs": [],
      "source": [
        "def compress_layer(layer):\n",
        "  if isinstance(layer, CompressibleDense):\n",
        "    return CompressedDense.copy(layer)\n",
        "  if isinstance(layer, CompressibleConv2D):\n",
        "    return CompressedConv2D.copy(layer)\n",
        "  return type(layer).from_config(layer.get_config())\n",
        "\n",
        "compressed_classifier = tf.keras.models.clone_model(\n",
        "    compressible_classifier, clone_function=compress_layer)\n"
      ]
    },
    {
      "cell_type": "markdown",
      "metadata": {
        "id": "b3wbN1XQmkDg"
      },
      "source": [
        "Agora, vamos validar se o modelo comprimido ainda tem o desempenho esperado:"
      ]
    },
    {
      "cell_type": "code",
      "execution_count": null,
      "metadata": {
        "id": "R95kuURITpa9"
      },
      "outputs": [],
      "source": [
        "compressed_classifier.compile(metrics=[tf.keras.metrics.SparseCategoricalAccuracy()])\n",
        "_, compressed_accuracy = compressed_classifier.evaluate(validation_dataset.batch(128))\n",
        "\n",
        "print(f\"Accuracy of the compressible classifier: {penalized_accuracy:0.4f}\")\n",
        "print(f\"Accuracy of the compressed classifier: {compressed_accuracy:0.4f}\")\n"
      ]
    },
    {
      "cell_type": "markdown",
      "metadata": {
        "id": "KtFhpXh6uaIY"
      },
      "source": [
        "A exatidão da classificação do modelo comprimido é idêntica à alcançada durante o treinamento!\n",
        "\n",
        "Além disso, o tamanho dos pesos do modelo comprimido é bem menor do que o tamanho do modelo original:"
      ]
    },
    {
      "cell_type": "code",
      "execution_count": null,
      "metadata": {
        "id": "Qp-ecfuYufbs"
      },
      "outputs": [],
      "source": [
        "def get_weight_size_in_bytes(weight):\n",
        "  if weight.dtype == tf.string:\n",
        "    return tf.reduce_sum(tf.strings.length(weight, unit=\"BYTE\"))\n",
        "  else:\n",
        "    return tf.size(weight) * weight.dtype.size\n",
        "\n",
        "original_size = sum(map(get_weight_size_in_bytes, classifier.weights))\n",
        "compressed_size = sum(map(get_weight_size_in_bytes, compressed_classifier.weights))\n",
        "\n",
        "print(f\"Size of original model weights: {original_size} bytes\")\n",
        "print(f\"Size of compressed model weights: {compressed_size} bytes\")\n",
        "print(f\"Compression ratio: {(original_size/compressed_size):0.0f}x\")\n"
      ]
    },
    {
      "cell_type": "markdown",
      "metadata": {
        "id": "K8A8v0df6TR2"
      },
      "source": [
        "O armazenamento de modelos no disco exige um pouco de sobrecarga para armazenar a arquitetura do modelo, os grafos de função, etc.\n",
        "\n",
        "Métodos de compressão sem perda como o ZIP são bons para comprimir esse tipo de dados, mas não os próprios pesos. Por isso, a EPR ainda tem um benefício significativo ao contar o tamanho do modelo incluindo essa sobrecarga, após aplicar a compressão de ZIP:"
      ]
    },
    {
      "cell_type": "code",
      "execution_count": null,
      "metadata": {
        "id": "4hunDYxH1zqb"
      },
      "outputs": [],
      "source": [
        "import os\n",
        "import shutil\n",
        "\n",
        "def get_disk_size(model, path):\n",
        "  model.save(path)\n",
        "  zip_path = shutil.make_archive(path, \"zip\", path)\n",
        "  return os.path.getsize(zip_path)\n",
        "\n",
        "original_zip_size = get_disk_size(classifier, \"/tmp/classifier\")\n",
        "compressed_zip_size = get_disk_size(\n",
        "    compressed_classifier, \"/tmp/compressed_classifier\")\n",
        "\n",
        "print(f\"Original on-disk size (ZIP compressed): {original_zip_size} bytes\")\n",
        "print(f\"Compressed on-disk size (ZIP compressed): {compressed_zip_size} bytes\")\n",
        "print(f\"Compression ratio: {(original_zip_size/compressed_zip_size):0.0f}x\")\n"
      ]
    },
    {
      "cell_type": "markdown",
      "metadata": {
        "id": "FSITvJrlAhZs"
      },
      "source": [
        "## Efeito de regularização e trade-off entre tamanho e exatidão\n",
        "\n",
        "Acima, o hiperparâmetro $\\lambda$ foi definido como 2 (normalizado pelo número de parâmetros no modelo). Conforme aumentamos o $\\lambda$, os pesos do modelo são penalizados cada vez mais pela compressibilidade.\n",
        "\n",
        "Para valores baixos, a penalidade pode agir como um regularizer de peso. Na verdade, ela tem um efeito benéfico no desempenho de generalização do classificador e pode levar a uma exatidão ligeiramente mais alta no dataset de validação:\n"
      ]
    },
    {
      "cell_type": "code",
      "execution_count": null,
      "metadata": {
        "cellView": "form",
        "id": "4rhmKu98FdPJ"
      },
      "outputs": [],
      "source": [
        "#@title\n",
        "\n",
        "print(f\"Accuracy of the vanilla classifier: {classifier_accuracy:0.4f}\")\n",
        "print(f\"Accuracy of the penalized classifier: {penalized_accuracy:0.4f}\")\n"
      ]
    },
    {
      "cell_type": "markdown",
      "metadata": {
        "id": "9UCfC4LQFdjL"
      },
      "source": [
        "Para valores mais altos, vemos um tamanho de modelo cada vez menor, mas também uma exatidão que diminui gradualmente. Para ver isso, vamos treinar alguns modelos e plotar o tamanho em comparação com a exatidão:\n"
      ]
    },
    {
      "cell_type": "code",
      "execution_count": null,
      "metadata": {
        "id": "diApPKHbAIqa"
      },
      "outputs": [],
      "source": [
        "def compress_and_evaluate_model(lmbda):\n",
        "  print(f\"lambda={lmbda:0.0f}: training...\", flush=True)\n",
        "  regularizer = PowerLawRegularizer(lmbda=lmbda/classifier.count_params())\n",
        "  compressible_classifier = make_mnist_classifier(regularizer)\n",
        "  train_model(\n",
        "      compressible_classifier, training_dataset, validation_dataset, verbose=0)\n",
        "  print(\"compressing...\", flush=True)\n",
        "  compressed_classifier = tf.keras.models.clone_model(\n",
        "      compressible_classifier, clone_function=compress_layer)\n",
        "  compressed_size = sum(map(\n",
        "      get_weight_size_in_bytes, compressed_classifier.weights))\n",
        "  compressed_zip_size = float(get_disk_size(\n",
        "      compressed_classifier, \"/tmp/compressed_classifier\"))\n",
        "  print(\"evaluating...\", flush=True)\n",
        "  compressed_classifier = tf.keras.models.load_model(\n",
        "      \"/tmp/compressed_classifier\")\n",
        "  compressed_classifier.compile(\n",
        "      metrics=[tf.keras.metrics.SparseCategoricalAccuracy()])\n",
        "  _, compressed_accuracy = compressed_classifier.evaluate(\n",
        "      validation_dataset.batch(128), verbose=0)\n",
        "  print()\n",
        "  return compressed_size, compressed_zip_size, compressed_accuracy\n",
        "\n",
        "lambdas = (2., 5., 10., 20., 50.)\n",
        "metrics = [compress_and_evaluate_model(l) for l in lambdas]\n",
        "metrics = tf.convert_to_tensor(metrics, tf.float32)\n"
      ]
    },
    {
      "cell_type": "code",
      "execution_count": null,
      "metadata": {
        "cellView": "form",
        "id": "bhAi85KzGqTz"
      },
      "outputs": [],
      "source": [
        "#@title\n",
        "\n",
        "def plot_broken_xaxis(ax, compressed_sizes, original_size, original_accuracy):\n",
        "  xticks = list(range(\n",
        "      int(tf.math.floor(min(compressed_sizes) / 5) * 5),\n",
        "      int(tf.math.ceil(max(compressed_sizes) / 5) * 5) + 1,\n",
        "      5))\n",
        "  xticks.append(xticks[-1] + 10)\n",
        "  ax.set_xlim(xticks[0], xticks[-1] + 2)\n",
        "  ax.set_xticks(xticks[1:])\n",
        "  ax.set_xticklabels(xticks[1:-1] + [f\"{original_size:0.2f}\"])\n",
        "  ax.plot(xticks[-1], original_accuracy, \"o\", label=\"float32\")\n",
        "\n",
        "sizes, zip_sizes, accuracies = tf.transpose(metrics)\n",
        "sizes /= 1024\n",
        "zip_sizes /= 1024\n",
        "\n",
        "fig, (axl, axr) = plt.subplots(1, 2, sharey=True, figsize=(10, 4))\n",
        "axl.plot(sizes, accuracies, \"o-\", label=\"EPR compressed\")\n",
        "axr.plot(zip_sizes, accuracies, \"o-\", label=\"EPR compressed\")\n",
        "plot_broken_xaxis(axl, sizes, original_size/1024, classifier_accuracy)\n",
        "plot_broken_xaxis(axr, zip_sizes, original_zip_size/1024, classifier_accuracy)\n",
        "\n",
        "axl.set_xlabel(\"size of model weights [kbytes]\")\n",
        "axr.set_xlabel(\"ZIP compressed on-disk model size [kbytes]\")\n",
        "axl.set_ylabel(\"accuracy\")\n",
        "axl.legend(loc=\"lower right\")\n",
        "axr.legend(loc=\"lower right\")\n",
        "axl.grid()\n",
        "axr.grid()\n",
        "for i in range(len(lambdas)):\n",
        "  axl.annotate(f\"$\\lambda = {lambdas[i]:0.0f}$\", (sizes[i], accuracies[i]),\n",
        "               xytext=(10, -5), xycoords=\"data\", textcoords=\"offset points\")\n",
        "  axr.annotate(f\"$\\lambda = {lambdas[i]:0.0f}$\", (zip_sizes[i], accuracies[i]),\n",
        "               xytext=(10, -5), xycoords=\"data\", textcoords=\"offset points\")\n",
        "plt.tight_layout()\n"
      ]
    },
    {
      "cell_type": "markdown",
      "metadata": {
        "id": "ajrHaFTAaLd2"
      },
      "source": [
        "O ideal é que o plot mostre um trade-off entre o tamanho e a exatidão em formato de cotovelo, mas é normal que as métricas de exatidão tenham algum ruído. Dependendo da inicialização, a curva pode exibir algumas falhas.\n",
        "\n",
        "Devido ao efeito de regularização, o modelo comprimido de EPR tem maior exatidão no dataset de teste que o modelo original para valores pequenos de $\\lambda$. O modelo comprimido de EPR também é diversas vezes menor, mesmo se compararmos os tamanhos após compressão de ZIP adicional."
      ]
    },
    {
      "cell_type": "markdown",
      "metadata": {
        "id": "-RBhdXZTzoWw"
      },
      "source": [
        "## Descomprima o classificador\n",
        "\n",
        "`CompressedDense` e `CompressedConv2D` descomprimem seus pesos a cada passo para frente. Isso faz com que sejam ideais para dispositivos com memória limitada, mas a descompressão pode ser computacionalmente cara, especialmente para tamanhos de lotes pequenos.\n",
        "\n",
        "Para descomprimir o modelo uma vez e usá-lo para treinamento ou inferência adicional, podemos convertê-lo de volta para um modelo usando camadas regulares ou compressíveis. Isso pode ser útil na implantação de modelos ou em casos de aprendizado federado.\n",
        "\n",
        "Primeiro, ao converter de volta para um modelo básico, podemos realizar a inferência e/ou continuar com o treinamento regular sem uma penalidade de compressão:"
      ]
    },
    {
      "cell_type": "code",
      "execution_count": null,
      "metadata": {
        "id": "QBB2-X5XzvwB"
      },
      "outputs": [],
      "source": [
        "def decompress_layer(layer):\n",
        "  if isinstance(layer, CompressedDense):\n",
        "    return CustomDense.copy(layer)\n",
        "  if isinstance(layer, CompressedConv2D):\n",
        "    return CustomConv2D.copy(layer)\n",
        "  return type(layer).from_config(layer.get_config())\n",
        "\n",
        "decompressed_classifier = tf.keras.models.clone_model(\n",
        "    compressed_classifier, clone_function=decompress_layer)\n"
      ]
    },
    {
      "cell_type": "code",
      "execution_count": null,
      "metadata": {
        "id": "ehE2ov8U0p0G"
      },
      "outputs": [],
      "source": [
        "decompressed_accuracy = train_model(\n",
        "    decompressed_classifier, training_dataset, validation_dataset, epochs=1)\n",
        "\n",
        "print(f\"Accuracy of the compressed classifier: {compressed_accuracy:0.4f}\")\n",
        "print(f\"Accuracy of the decompressed classifier after one more epoch of training: {decompressed_accuracy:0.4f}\")\n"
      ]
    },
    {
      "cell_type": "markdown",
      "metadata": {
        "id": "jiSCvemQ04o8"
      },
      "source": [
        "Observe que a exatidão da validação cai após o treinamento para uma época adicional, já que o treinamento é feito sem regularização.\n",
        "\n",
        "Como alternativa, podemos converter o modelo de volta para o \"compressível\", para inferência e/ou treinamento adicional com uma penalidade de compressão:"
      ]
    },
    {
      "cell_type": "code",
      "execution_count": null,
      "metadata": {
        "id": "JDppVUdx1BvY"
      },
      "outputs": [],
      "source": [
        "def decompress_layer_with_penalty(layer):\n",
        "  if isinstance(layer, CompressedDense):\n",
        "    return CompressibleDense.copy(layer, regularizer=regularizer)\n",
        "  if isinstance(layer, CompressedConv2D):\n",
        "    return CompressibleConv2D.copy(layer, regularizer=regularizer)\n",
        "  return type(layer).from_config(layer.get_config())\n",
        "\n",
        "decompressed_classifier = tf.keras.models.clone_model(\n",
        "    compressed_classifier, clone_function=decompress_layer_with_penalty)\n"
      ]
    },
    {
      "cell_type": "code",
      "execution_count": null,
      "metadata": {
        "id": "AJcnyOFW2IcK"
      },
      "outputs": [],
      "source": [
        "decompressed_accuracy = train_model(\n",
        "    decompressed_classifier, training_dataset, validation_dataset, epochs=1)\n",
        "\n",
        "print(f\"Accuracy of the compressed classifier: {compressed_accuracy:0.4f}\")\n",
        "print(f\"Accuracy of the decompressed classifier after one more epoch of training: {decompressed_accuracy:0.4f}\")\n"
      ]
    },
    {
      "cell_type": "markdown",
      "metadata": {
        "id": "Ciol315T_TwQ"
      },
      "source": [
        "Aqui, a exatidão melhora após o treinamento para uma época adicional."
      ]
    }
  ],
  "metadata": {
    "colab": {
      "collapsed_sections": [
        "Tce3stUlHN0L",
        "xHxb-dlhMIzW"
      ],
      "name": "compression.ipynb",
      "toc_visible": true
    },
    "kernelspec": {
      "display_name": "Python 3",
      "name": "python3"
    }
  },
  "nbformat": 4,
  "nbformat_minor": 0
}
