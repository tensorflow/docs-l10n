{
  "cells": [
    {
      "cell_type": "markdown",
      "metadata": {
        "id": "ISubpr_SSsiM"
      },
      "source": [
        "##### Copyright 2020 The TensorFlow Authors.\n"
      ]
    },
    {
      "cell_type": "code",
      "execution_count": null,
      "metadata": {
        "cellView": "form",
        "id": "3jTMb1dySr3V"
      },
      "outputs": [],
      "source": [
        "#@title Licensed under the Apache License, Version 2.0 (the \"License\");\n",
        "# you may not use this file except in compliance with the License.\n",
        "# You may obtain a copy of the License at\n",
        "#\n",
        "# https://www.apache.org/licenses/LICENSE-2.0\n",
        "#\n",
        "# Unless required by applicable law or agreed to in writing, software\n",
        "# distributed under the License is distributed on an \"AS IS\" BASIS,\n",
        "# WITHOUT WARRANTIES OR CONDITIONS OF ANY KIND, either express or implied.\n",
        "# See the License for the specific language governing permissions and\n",
        "# limitations under the License."
      ]
    },
    {
      "cell_type": "markdown",
      "metadata": {
        "id": "6DWfyNThSziV"
      },
      "source": [
        "# Introdução aos módulos, camadas e modelos\n",
        "\n",
        "<table class=\"tfo-notebook-buttons\" align=\"left\">\n",
        "  <td>     <a target=\"_blank\" href=\"https://www.tensorflow.org/guide/intro_to_modules\"><img src=\"https://www.tensorflow.org/images/tf_logo_32px.png\">Ver em TensorFlow.org</a>\n",
        "</td>\n",
        "  <td>     <a target=\"_blank\" href=\"https://colab.research.google.com/github/tensorflow/docs-l10n/blob/master/site/pt-br/guide/intro_to_modules.ipynb\"><img src=\"https://www.tensorflow.org/images/colab_logo_32px.png\">Executar no Google Colab</a>\n",
        "</td>\n",
        "  <td>     <a target=\"_blank\" href=\"https://github.com/tensorflow/docs-l10n/blob/master/site/pt-br/guide/intro_to_modules.ipynb\"><img src=\"https://www.tensorflow.org/images/GitHub-Mark-32px.png\">Ver fonte no GitHub</a>\n",
        "</td>\n",
        "  <td>     <a href=\"https://storage.googleapis.com/tensorflow_docs/docs-l10n/site/pt-br/guide/intro_to_modules.ipynb\"><img src=\"https://www.tensorflow.org/images/download_logo_32px.png\">Baixar notebook</a>\n",
        "</td>\n",
        "</table>"
      ]
    },
    {
      "cell_type": "markdown",
      "metadata": {
        "id": "v0DdlfacAdTZ"
      },
      "source": [
        "Para fazer aprendizado de máquina no TensorFlow, provavelmente você precisará definir, salvar e restaurar um modelo.\n",
        "\n",
        "De forma abstrata, um modelo é:\n",
        "\n",
        "- Uma função que faz determinadas computações com tensores (um **passo para frente**).\n",
        "- Algumas variáveis que podem ser atualizadas em resposta ao treinamento.\n",
        "\n",
        "Neste guia, veremos como os modelos do TensorFlow são definidos no Keras e como o TensorFlow coleta variáveis e modelos, além de como os modelos são salvos e restaurados.\n",
        "\n",
        "Observação: se você quiser começar a usar o Keras imediatamente, confira [a coleção de guias do Keras](./keras/).\n"
      ]
    },
    {
      "cell_type": "markdown",
      "metadata": {
        "id": "VSa6ayJmfZxZ"
      },
      "source": [
        "## Configuração"
      ]
    },
    {
      "cell_type": "code",
      "execution_count": null,
      "metadata": {
        "id": "goZwOXp_xyQj"
      },
      "outputs": [],
      "source": [
        "import tensorflow as tf\n",
        "from datetime import datetime\n",
        "\n",
        "%load_ext tensorboard"
      ]
    },
    {
      "cell_type": "markdown",
      "metadata": {
        "id": "yt5HEbsYAbw1"
      },
      "source": [
        "## Módulos do TensorFlow\n",
        "\n",
        "A maioria dos modelos é feita de camadas, que são funções com uma estrutura matemática conhecida que podem ser reusadas e têm variáveis treináveis. No TensorFlow, a maioria das implementações de alto nível de camadas e modelos, como o Keras ou o [Sonnet](https://github.com/deepmind/sonnet), são construídas usando-se a mesma classe fundamental: `tf.Module`.\n",
        "\n",
        "### Como construir módulos\n",
        "\n",
        "Veja um exemplo de um `tf.Module` bem simples que faz operações em um tensor escalar:\n"
      ]
    },
    {
      "cell_type": "code",
      "execution_count": null,
      "metadata": {
        "id": "alhYPVEtAiSy"
      },
      "outputs": [],
      "source": [
        "class SimpleModule(tf.Module):\n",
        "  def __init__(self, name=None):\n",
        "    super().__init__(name=name)\n",
        "    self.a_variable = tf.Variable(5.0, name=\"train_me\")\n",
        "    self.non_trainable_variable = tf.Variable(5.0, trainable=False, name=\"do_not_train_me\")\n",
        "  def __call__(self, x):\n",
        "    return self.a_variable * x + self.non_trainable_variable\n",
        "\n",
        "simple_module = SimpleModule(name=\"simple\")\n",
        "\n",
        "simple_module(tf.constant(5.0))"
      ]
    },
    {
      "cell_type": "markdown",
      "metadata": {
        "id": "JwMc_zu5Ant8"
      },
      "source": [
        "Os módulos e, por extensão, as camadas são terminologias do aprendizado profundo para \"objetos\": têm um estado interno e métodos para acessar esse estado.\n",
        "\n",
        "Não há nada de especial quanto a `__call__`, exceto pelo fato de funcionar como um [callable do Python](https://stackoverflow.com/questions/111234/what-is-a-callable) – você pode chamar seus modelos com qualquer função que desejar.\n",
        "\n",
        "Você pode ativar e desativar a capacidade de treinamento de variáveis por qualquer motivo, incluindo o congelamento de camadas e variáveis durante o ajuste fino.\n",
        "\n",
        "Observação: `tf.Module` é a classe básica tanto de `tf.keras.layers.Layer` quanto de `tf.keras.Model`, então tudo o que é abordado aqui aplica-se ao Keras. Por questões de compatibilidade histórica, as camadas do Keras não coletam variáveis dos modelos, então seus modelos devem usar apenas módulos ou apenas camadas do Keras. Entretanto, os métodos mostrados abaixo para inspecionar variáveis são os mesmos em ambos os casos.\n",
        "\n",
        "Ao criar uma subclasse de `tf.Module`, qualquer instância de `tf.Variable` ou `tf.Module` atribuída às propriedades desse objeto é coletada automaticamente, o que permite salvar e carregar variáveis, bem como criar coleções de `tf.Module`s."
      ]
    },
    {
      "cell_type": "code",
      "execution_count": null,
      "metadata": {
        "id": "CyzYy4A_CbVf"
      },
      "outputs": [],
      "source": [
        "# All trainable variables\n",
        "print(\"trainable variables:\", simple_module.trainable_variables)\n",
        "# Every variable\n",
        "print(\"all variables:\", simple_module.variables)"
      ]
    },
    {
      "cell_type": "markdown",
      "metadata": {
        "id": "nuSFrRUNCaaW"
      },
      "source": [
        "Este é um exemplo de um modelo linear de duas camadas feito com módulos.\n",
        "\n",
        "Primeiro, uma camada densa (linear):"
      ]
    },
    {
      "cell_type": "code",
      "execution_count": null,
      "metadata": {
        "id": "Efb2p2bzAn-V"
      },
      "outputs": [],
      "source": [
        "class Dense(tf.Module):\n",
        "  def __init__(self, in_features, out_features, name=None):\n",
        "    super().__init__(name=name)\n",
        "    self.w = tf.Variable(\n",
        "      tf.random.normal([in_features, out_features]), name='w')\n",
        "    self.b = tf.Variable(tf.zeros([out_features]), name='b')\n",
        "  def __call__(self, x):\n",
        "    y = tf.matmul(x, self.w) + self.b\n",
        "    return tf.nn.relu(y)"
      ]
    },
    {
      "cell_type": "markdown",
      "metadata": {
        "id": "bAhMuC-UpnhX"
      },
      "source": [
        "E depois o modelo completo, que cria instâncias de duas camadas e as aplica:"
      ]
    },
    {
      "cell_type": "code",
      "execution_count": null,
      "metadata": {
        "id": "QQ7qQf-DFw74"
      },
      "outputs": [],
      "source": [
        "class SequentialModule(tf.Module):\n",
        "  def __init__(self, name=None):\n",
        "    super().__init__(name=name)\n",
        "\n",
        "    self.dense_1 = Dense(in_features=3, out_features=3)\n",
        "    self.dense_2 = Dense(in_features=3, out_features=2)\n",
        "\n",
        "  def __call__(self, x):\n",
        "    x = self.dense_1(x)\n",
        "    return self.dense_2(x)\n",
        "\n",
        "# You have made a model!\n",
        "my_model = SequentialModule(name=\"the_model\")\n",
        "\n",
        "# Call it, with random results\n",
        "print(\"Model results:\", my_model(tf.constant([[2.0, 2.0, 2.0]])))"
      ]
    },
    {
      "cell_type": "markdown",
      "metadata": {
        "id": "d1oUzasJHHXf"
      },
      "source": [
        "As instâncias de `tf.Module` coletam de forma automática e recursiva qualquer instância de `tf.Variable` ou `tf.Module` atribuída a ele, o que permite gerenciar coleções de `tf.Module`s com uma única instância de modelo, além de salvar e carregar modelos inteiros."
      ]
    },
    {
      "cell_type": "code",
      "execution_count": null,
      "metadata": {
        "id": "JLFA5_PEGb6C"
      },
      "outputs": [],
      "source": [
        "print(\"Submodules:\", my_model.submodules)\n"
      ]
    },
    {
      "cell_type": "code",
      "execution_count": null,
      "metadata": {
        "id": "6lzoB8pcRN12"
      },
      "outputs": [],
      "source": [
        "for var in my_model.variables:\n",
        "  print(var, \"\\n\")"
      ]
    },
    {
      "cell_type": "markdown",
      "metadata": {
        "id": "hoaxL3zzm0vK"
      },
      "source": [
        "### Esperar para criar variáveis\n",
        "\n",
        "Talvez você tenha notado que precisa definir os tamanhos de entrada e saída da camada. Isso ocorre para que a variável `w` tenha um formato conhecido e possa ser alocada.\n",
        "\n",
        "Ao adiar a criação da variável para a primeira vez em que o módulo é chamado com um formato de entrada específico, você não precisa especificar o tamanho da entrada de antemão."
      ]
    },
    {
      "cell_type": "code",
      "execution_count": null,
      "metadata": {
        "id": "XsGCLFXlnPum"
      },
      "outputs": [],
      "source": [
        "class FlexibleDenseModule(tf.Module):\n",
        "  # Note: No need for `in_features`\n",
        "  def __init__(self, out_features, name=None):\n",
        "    super().__init__(name=name)\n",
        "    self.is_built = False\n",
        "    self.out_features = out_features\n",
        "\n",
        "  def __call__(self, x):\n",
        "    # Create variables on first call.\n",
        "    if not self.is_built:\n",
        "      self.w = tf.Variable(\n",
        "        tf.random.normal([x.shape[-1], self.out_features]), name='w')\n",
        "      self.b = tf.Variable(tf.zeros([self.out_features]), name='b')\n",
        "      self.is_built = True\n",
        "\n",
        "    y = tf.matmul(x, self.w) + self.b\n",
        "    return tf.nn.relu(y)"
      ]
    },
    {
      "cell_type": "code",
      "execution_count": null,
      "metadata": {
        "id": "8bjOWax9LOkP"
      },
      "outputs": [],
      "source": [
        "# Used in a module\n",
        "class MySequentialModule(tf.Module):\n",
        "  def __init__(self, name=None):\n",
        "    super().__init__(name=name)\n",
        "\n",
        "    self.dense_1 = FlexibleDenseModule(out_features=3)\n",
        "    self.dense_2 = FlexibleDenseModule(out_features=2)\n",
        "\n",
        "  def __call__(self, x):\n",
        "    x = self.dense_1(x)\n",
        "    return self.dense_2(x)\n",
        "\n",
        "my_model = MySequentialModule(name=\"the_model\")\n",
        "print(\"Model results:\", my_model(tf.constant([[2.0, 2.0, 2.0]])))"
      ]
    },
    {
      "cell_type": "markdown",
      "metadata": {
        "id": "49JfbhVrpOLH"
      },
      "source": [
        "É devido a essa flexibilidade que as camadas do TensorFlow geralmente só precisam especificar o formato das saídas, como em `tf.keras.layers.Dense`, em vez de especificar o tamanho tanto da entrada quanto da saída."
      ]
    },
    {
      "cell_type": "markdown",
      "metadata": {
        "id": "JOLVVBT8J_dl"
      },
      "source": [
        "### Como salvar pesos\n",
        "\n",
        "É possível salvar um `tf.Module` tanto como um [checkpoint](./checkpoint.ipynb) quanto como um [SavedModel](./saved_model.ipynb).\n",
        "\n",
        "Os checkpoints são apenas os pesos (ou seja, os valores do conjunto de variáveis dentro do módulo e de seus submódulos):"
      ]
    },
    {
      "cell_type": "code",
      "execution_count": null,
      "metadata": {
        "id": "pHXKRDk7OLHA"
      },
      "outputs": [],
      "source": [
        "chkp_path = \"my_checkpoint\"\n",
        "checkpoint = tf.train.Checkpoint(model=my_model)\n",
        "checkpoint.write(chkp_path)"
      ]
    },
    {
      "cell_type": "markdown",
      "metadata": {
        "id": "WXOPMBR4T4ZR"
      },
      "source": [
        "Os checkpoints são compostos por dois tipos de arquivo: os dados em si e um arquivo de índice para os metadados. O arquivo de índice mantém o controle do que é salvo e da numeração dos checkpoints, enquanto os dados do checkpoint contêm os valores das variáveis e seus caminhos de pesquisa de atributos."
      ]
    },
    {
      "cell_type": "code",
      "execution_count": null,
      "metadata": {
        "id": "jBV3fprlTWqJ"
      },
      "outputs": [],
      "source": [
        "!ls my_checkpoint*"
      ]
    },
    {
      "cell_type": "markdown",
      "metadata": {
        "id": "CowCuBTvXgUu"
      },
      "source": [
        "Você pode avaliar o checkpoint para ter certeza de que a coleção inteira de variáveis tenha sido salva, ordenadas pelo objeto do Python que as contém."
      ]
    },
    {
      "cell_type": "code",
      "execution_count": null,
      "metadata": {
        "id": "o2QAdfpvS8tB"
      },
      "outputs": [],
      "source": [
        "tf.train.list_variables(chkp_path)"
      ]
    },
    {
      "cell_type": "markdown",
      "metadata": {
        "id": "4eGaNiQWcK4j"
      },
      "source": [
        "Durante o treinamento distribuído (com várias máquinas), elas podem ser fragmentadas, e é por isso que não numeradas (por exemplo, '00000-of-00001'). Porém, neste caso, só há um fragmento.\n",
        "\n",
        "Quando você carrega os modelos de volta, sobrescreve os valores em seu objeto do Python."
      ]
    },
    {
      "cell_type": "code",
      "execution_count": null,
      "metadata": {
        "id": "UV8rdDzcwVVg"
      },
      "outputs": [],
      "source": [
        "new_model = MySequentialModule()\n",
        "new_checkpoint = tf.train.Checkpoint(model=new_model)\n",
        "new_checkpoint.restore(\"my_checkpoint\")\n",
        "\n",
        "# Should be the same result as above\n",
        "new_model(tf.constant([[2.0, 2.0, 2.0]]))"
      ]
    },
    {
      "cell_type": "markdown",
      "metadata": {
        "id": "BnPwDRwamdfq"
      },
      "source": [
        "Observação: os checkpoints estão no centro dos workflows de treinamento longos. `tf.checkpoint.CheckpointManager` é uma classe helper que facilita bastante o gerenciamento de criação de checkpoints. Confira mais informações no [guia Treinando checkpoints](./checkpoint.ipynb)."
      ]
    },
    {
      "cell_type": "markdown",
      "metadata": {
        "id": "pSZebVuWxDXu"
      },
      "source": [
        "### Como salvar funções\n",
        "\n",
        "O TensorFlow pode executar modelos sem os objetos originais do Python, conforme demonstrado pelo [TensorFlow Serving](https://tensorflow.org/tfx) e [TensorFlow Lite](https://tensorflow.org/lite), mesmo quando você baixa um modelo treinado no [TensorFlow Hub](https://tensorflow.org/hub).\n",
        "\n",
        "O TensorFlow precisa saber como realizar as computações descritas no Python, mas **sem o código original**. Para fazer isso, você pode criar um **grafo**, que é descrito no [guia Introdução aos grafos e funções](./intro_to_graphs.ipynb).\n",
        "\n",
        "Esse grafo contém operações, chamadas de *ops*, que implementam a função.\n",
        "\n",
        "Para definir um grafo no modelo acima, basta adicionar o decorador `@tf.function` para indicar que esse código deve ser executado como grafo."
      ]
    },
    {
      "cell_type": "code",
      "execution_count": null,
      "metadata": {
        "id": "WQTvkapUh7lk"
      },
      "outputs": [],
      "source": [
        "class MySequentialModule(tf.Module):\n",
        "  def __init__(self, name=None):\n",
        "    super().__init__(name=name)\n",
        "\n",
        "    self.dense_1 = Dense(in_features=3, out_features=3)\n",
        "    self.dense_2 = Dense(in_features=3, out_features=2)\n",
        "\n",
        "  @tf.function\n",
        "  def __call__(self, x):\n",
        "    x = self.dense_1(x)\n",
        "    return self.dense_2(x)\n",
        "\n",
        "# You have made a model with a graph!\n",
        "my_model = MySequentialModule(name=\"the_model\")"
      ]
    },
    {
      "cell_type": "markdown",
      "metadata": {
        "id": "hW66YXBziLo9"
      },
      "source": [
        "O módulo que você criou funciona exatamente da mesma forma que antes. Cada assinatura única passada para a função cria um grafo separado. Confira mais informações no [Introdução aos grafos e funções](./intro_to_graphs.ipynb) ."
      ]
    },
    {
      "cell_type": "code",
      "execution_count": null,
      "metadata": {
        "id": "H5zUfti3iR52"
      },
      "outputs": [],
      "source": [
        "print(my_model([[2.0, 2.0, 2.0]]))\n",
        "print(my_model([[[2.0, 2.0, 2.0], [2.0, 2.0, 2.0]]]))"
      ]
    },
    {
      "cell_type": "markdown",
      "metadata": {
        "id": "lbGlU1kgyDo7"
      },
      "source": [
        "Para ver o grafo, basta traçá-lo em um resumo do TensorBoard."
      ]
    },
    {
      "cell_type": "code",
      "execution_count": null,
      "metadata": {
        "id": "zmy-T67zhp-S"
      },
      "outputs": [],
      "source": [
        "# Set up logging.\n",
        "stamp = datetime.now().strftime(\"%Y%m%d-%H%M%S\")\n",
        "logdir = \"logs/func/%s\" % stamp\n",
        "writer = tf.summary.create_file_writer(logdir)\n",
        "\n",
        "# Create a new model to get a fresh trace\n",
        "# Otherwise the summary will not see the graph.\n",
        "new_model = MySequentialModule()\n",
        "\n",
        "# Bracket the function call with\n",
        "# tf.summary.trace_on() and tf.summary.trace_export().\n",
        "tf.summary.trace_on(graph=True)\n",
        "tf.profiler.experimental.start(logdir)\n",
        "# Call only one tf.function when tracing.\n",
        "z = print(new_model(tf.constant([[2.0, 2.0, 2.0]])))\n",
        "with writer.as_default():\n",
        "  tf.summary.trace_export(\n",
        "      name=\"my_func_trace\",\n",
        "      step=0,\n",
        "      profiler_outdir=logdir)"
      ]
    },
    {
      "cell_type": "markdown",
      "metadata": {
        "id": "gz4lwNZ9hR79"
      },
      "source": [
        "Abra o TensorBoard para ver o gráfico resultante:"
      ]
    },
    {
      "cell_type": "code",
      "execution_count": null,
      "metadata": {
        "id": "V4MXDbgBnkJu"
      },
      "outputs": [],
      "source": [
        "#docs_infra: no_execute\n",
        "%tensorboard --logdir logs/func"
      ]
    },
    {
      "cell_type": "markdown",
      "metadata": {
        "id": "Gjattu0AhYUl"
      },
      "source": [
        "![A screenshot of the graph in TensorBoard](https://github.com/tensorflow/docs-l10n/blob/master/site/pt-br/guide/images/tensorboard_graph.png?raw=true)"
      ]
    },
    {
      "cell_type": "markdown",
      "metadata": {
        "id": "SQu3TVZecmL7"
      },
      "source": [
        "### Como criar um `SavedModel`\n",
        "\n",
        "A maneira recomendada de compartilhar modelos totalmente treinados é usar `SavedModel`.  `SavedModel` contém uma coleção de funções e uma coleção de pesos.\n",
        "\n",
        "Você pode salvar o modelo que acabou de treinar da seguinte maneira:"
      ]
    },
    {
      "cell_type": "code",
      "execution_count": null,
      "metadata": {
        "id": "Awv_Tw__WK7a"
      },
      "outputs": [],
      "source": [
        "tf.saved_model.save(my_model, \"the_saved_model\")"
      ]
    },
    {
      "cell_type": "code",
      "execution_count": null,
      "metadata": {
        "id": "SXv3mEKsefGj"
      },
      "outputs": [],
      "source": [
        "# Inspect the SavedModel in the directory\n",
        "!ls -l the_saved_model"
      ]
    },
    {
      "cell_type": "code",
      "execution_count": null,
      "metadata": {
        "id": "vQQ3hEvHYdoR"
      },
      "outputs": [],
      "source": [
        "# The variables/ directory contains a checkpoint of the variables \n",
        "!ls -l the_saved_model/variables"
      ]
    },
    {
      "cell_type": "markdown",
      "metadata": {
        "id": "xBqPop7ZesBU"
      },
      "source": [
        "O arquivo `saved_model.pb` é um [buffer de protocolo](https://developers.google.com/protocol-buffers) que descreve o `tf.Graph` funcional.\n",
        "\n",
        "Os modelos e as camadas podem ser carregados a partir dessa representação sem criar uma instância da classe que a criou, o que é desejado em situações quando você não tem (ou não quer ter) um interpretador do Python, como ao oferecer serviços em larga escala ou em um dispositivo de borda, ou em situações em que o código Python original não está disponível ou não é prático de se usar.\n",
        "\n",
        "Você pode carregar o modelo como um novo objeto:"
      ]
    },
    {
      "cell_type": "code",
      "execution_count": null,
      "metadata": {
        "id": "zRFcA5wIefv4"
      },
      "outputs": [],
      "source": [
        "new_model = tf.saved_model.load(\"the_saved_model\")"
      ]
    },
    {
      "cell_type": "markdown",
      "metadata": {
        "id": "-9EF3mT7i3qN"
      },
      "source": [
        "`new_model`, criado ao carregar um modelo salvo, é um objeto de usuário interno do TensorFlow, sem qualquer conhecimento de classe. Ele não é do tipo `SequentialModule`."
      ]
    },
    {
      "cell_type": "code",
      "execution_count": null,
      "metadata": {
        "id": "EC_eQj7yi54G"
      },
      "outputs": [],
      "source": [
        "isinstance(new_model, SequentialModule)"
      ]
    },
    {
      "cell_type": "markdown",
      "metadata": {
        "id": "-OrOX1zxiyhR"
      },
      "source": [
        "Esse novo modelo funciona com as assinaturas de entrada já definidas. Não é possível adicionar mais assinaturas a um modelo restaurado dessa forma."
      ]
    },
    {
      "cell_type": "code",
      "execution_count": null,
      "metadata": {
        "id": "_23BYYBWfKnc"
      },
      "outputs": [],
      "source": [
        "print(my_model([[2.0, 2.0, 2.0]]))\n",
        "print(my_model([[[2.0, 2.0, 2.0], [2.0, 2.0, 2.0]]]))"
      ]
    },
    {
      "cell_type": "markdown",
      "metadata": {
        "id": "qSFhoMtTjSR6"
      },
      "source": [
        "Portanto, ao usar `SavedModel`, você consegue salvar os pesos e grafos do TensorFlow utilizando `tf.Module`, e depois pode carregá-los de volta."
      ]
    },
    {
      "cell_type": "markdown",
      "metadata": {
        "id": "Rb9IdN7hlUZK"
      },
      "source": [
        "## Modelos e camadas do Keras\n",
        "\n",
        "Observe que, até o momento, não houve menção ao Keras. É possível criar sua própria API de alto nível usando `tf.Module`, e isso já foi feito por outras pessoas.\n",
        "\n",
        "Nesta seção, você verá como o Keras usa `tf.Module`. Confira instruções completas sobre o modelo do Keras no [guia do Keras](https://www.tensorflow.org/guide/keras/sequential_model).\n"
      ]
    },
    {
      "cell_type": "markdown",
      "metadata": {
        "id": "ds08u3touwe4t"
      },
      "source": [
        "As camadas e modelos do Keras têm muitos outros recursos, como:\n",
        "\n",
        "- Perdas opcionais\n",
        "- Suporte a [métricas](https://keras.io/api/layers/base_layer/#add_metric-method)\n",
        "- Suporte integrado a um argumento de `training` (treinamento) opcional para diferenciar entre treinamento e inferência\n",
        "- Salvar e restaurar objetos do Python em vez de funções que são uma caixa preta\n",
        "- Métodos `get_config` e `from_config`, que permitem armazenar com precisão as configurações para permitir a clonagem de modelos no Python\n",
        "\n",
        "Com esses recursos, é possível criar modelos muito mais complexos por meio da criação de subclasses, como uma GAN personalizada ou um modelo de AutoEncoder Variacional (VAE, na sigla em inglês). Saiba mais no [guia completo](./keras/custom_layers_and_models.ipynb) sobre camadas e modelos personalizados.\n",
        "\n",
        "Os modelos do Keras também têm outras funcionalidades que tornam fácil treinar, avaliar, carregar, salvar e até mesmo treinar modelos em várias máquinas."
      ]
    },
    {
      "cell_type": "markdown",
      "metadata": {
        "id": "uigsVGPreE-D"
      },
      "source": [
        "### Camadas do Keras\n",
        "\n",
        "`tf.keras.layers.Layer` é a classe base de todas as camadas do Keras e herda de `tf.Module`.\n",
        "\n",
        "Para converter um módulo em uma camada do Keras, basta trocar o pai e alterar `__call__` para `call`:"
      ]
    },
    {
      "cell_type": "code",
      "execution_count": null,
      "metadata": {
        "id": "88YOGquhnQRd"
      },
      "outputs": [],
      "source": [
        "class MyDense(tf.keras.layers.Layer):\n",
        "  # Adding **kwargs to support base Keras layer arguments\n",
        "  def __init__(self, in_features, out_features, **kwargs):\n",
        "    super().__init__(**kwargs)\n",
        "\n",
        "    # This will soon move to the build step; see below\n",
        "    self.w = tf.Variable(\n",
        "      tf.random.normal([in_features, out_features]), name='w')\n",
        "    self.b = tf.Variable(tf.zeros([out_features]), name='b')\n",
        "  def call(self, x):\n",
        "    y = tf.matmul(x, self.w) + self.b\n",
        "    return tf.nn.relu(y)\n",
        "\n",
        "simple_layer = MyDense(name=\"simple\", in_features=3, out_features=3)"
      ]
    },
    {
      "cell_type": "markdown",
      "metadata": {
        "id": "nYGmAsPrws--"
      },
      "source": [
        "As camadas do Keras têm sua própria `__call__`, que faz alguns controles conforme descrito na próxima seção e depois chama `call()`. Você não deverá observar mudanças nessa funcionalidade."
      ]
    },
    {
      "cell_type": "code",
      "execution_count": null,
      "metadata": {
        "id": "nIqE8wOznYKG"
      },
      "outputs": [],
      "source": [
        "simple_layer([[2.0, 2.0, 2.0]])"
      ]
    },
    {
      "cell_type": "markdown",
      "metadata": {
        "id": "tmN5vb1K18U1"
      },
      "source": [
        "### Passo `build`\n",
        "\n",
        "Conforme vimos, em muitos casos, é conveniente esperar a criação de variáveis até saber com certeza o formato da entrada.\n",
        "\n",
        "As camadas do Keras vêm com um passo extra de ciclo de vida que permite mais flexibilidade na definição das camadas. Isso é definido na função `build`.\n",
        "\n",
        "A função `build` é chamada exatamente uma vez, e é chamada com o formato da entrada. Geralmente, é usada para criar variáveis (pesos).\n",
        "\n",
        "Você pode reescrever a camada `MyDense` acima para flexibilizar o tamanho das entradas:\n"
      ]
    },
    {
      "cell_type": "code",
      "execution_count": null,
      "metadata": {
        "id": "4YTfrlgdsURp"
      },
      "outputs": [],
      "source": [
        "class FlexibleDense(tf.keras.layers.Layer):\n",
        "  # Note the added `**kwargs`, as Keras supports many arguments\n",
        "  def __init__(self, out_features, **kwargs):\n",
        "    super().__init__(**kwargs)\n",
        "    self.out_features = out_features\n",
        "\n",
        "  def build(self, input_shape):  # Create the state of the layer (weights)\n",
        "    self.w = tf.Variable(\n",
        "      tf.random.normal([input_shape[-1], self.out_features]), name='w')\n",
        "    self.b = tf.Variable(tf.zeros([self.out_features]), name='b')\n",
        "\n",
        "  def call(self, inputs):  # Defines the computation from inputs to outputs\n",
        "    return tf.matmul(inputs, self.w) + self.b\n",
        "\n",
        "# Create the instance of the layer\n",
        "flexible_dense = FlexibleDense(out_features=3)"
      ]
    },
    {
      "cell_type": "markdown",
      "metadata": {
        "id": "Koc_uSqt2PRh"
      },
      "source": [
        "Neste momento, o modelo ainda não foi criado, então não há variáveis:"
      ]
    },
    {
      "cell_type": "code",
      "execution_count": null,
      "metadata": {
        "id": "DgyTyUD32Ln4"
      },
      "outputs": [],
      "source": [
        "flexible_dense.variables"
      ]
    },
    {
      "cell_type": "markdown",
      "metadata": {
        "id": "-KdamIVl2W8Y"
      },
      "source": [
        "Chamar a função aloca variáveis de tamanho apropriado."
      ]
    },
    {
      "cell_type": "code",
      "execution_count": null,
      "metadata": {
        "id": "IkLyEx7uAoTK"
      },
      "outputs": [],
      "source": [
        "# Call it, with predictably random results\n",
        "print(\"Model results:\", flexible_dense(tf.constant([[2.0, 2.0, 2.0], [3.0, 3.0, 3.0]])))"
      ]
    },
    {
      "cell_type": "code",
      "execution_count": null,
      "metadata": {
        "id": "Swofpkrd2YDd"
      },
      "outputs": [],
      "source": [
        "flexible_dense.variables"
      ]
    },
    {
      "cell_type": "markdown",
      "metadata": {
        "id": "7PuNUnf0OIpF"
      },
      "source": [
        "Como a função `build` é chamada apenas uma vez, as entradas serão rejeitadas se o formato delas não for compatível com as variáveis da camada:"
      ]
    },
    {
      "cell_type": "code",
      "execution_count": null,
      "metadata": {
        "id": "caYWDrHSAy_j"
      },
      "outputs": [],
      "source": [
        "try:\n",
        "  print(\"Model results:\", flexible_dense(tf.constant([[2.0, 2.0, 2.0, 2.0]])))\n",
        "except tf.errors.InvalidArgumentError as e:\n",
        "  print(\"Failed:\", e)"
      ]
    },
    {
      "cell_type": "markdown",
      "metadata": {
        "id": "L2kds2IHw2KD"
      },
      "source": [
        "### Modelos do Keras\n",
        "\n",
        "É possível definir seu modelo como camadas aninhadas do Keras.\n",
        "\n",
        "Porém, o Keras também conta com uma classe de modelo completa chamada `tf.keras.Model`, que herda de `tf.keras.layers.Layer`, então um modelo do Keras pode ser usado e aninhado da mesma forma que camadas do Keras. Os modelos do Keras contam com uma funcionalidade extra que tornam fácil treinar, avaliar, carregar, salvar e até mesmo treinar modelos em várias máquinas.\n",
        "\n",
        "Você pode definir o `SequentialModule` acima com praticamente o mesmo código, novamente convertendo `__call__` em `call()` e alterando o pai:"
      ]
    },
    {
      "cell_type": "code",
      "execution_count": null,
      "metadata": {
        "id": "Hqjo1DiyrHrn"
      },
      "outputs": [],
      "source": [
        "class MySequentialModel(tf.keras.Model):\n",
        "  def __init__(self, name=None, **kwargs):\n",
        "    super().__init__(**kwargs)\n",
        "\n",
        "    self.dense_1 = FlexibleDense(out_features=3)\n",
        "    self.dense_2 = FlexibleDense(out_features=2)\n",
        "  def call(self, x):\n",
        "    x = self.dense_1(x)\n",
        "    return self.dense_2(x)\n",
        "\n",
        "# You have made a Keras model!\n",
        "my_sequential_model = MySequentialModel(name=\"the_model\")\n",
        "\n",
        "# Call it on a tensor, with random results\n",
        "print(\"Model results:\", my_sequential_model(tf.constant([[2.0, 2.0, 2.0]])))\n"
      ]
    },
    {
      "cell_type": "markdown",
      "metadata": {
        "id": "8i-CR_h2xw3z"
      },
      "source": [
        "Todos os mesmos recursos estão disponíveis, incluindo o rastreamento de variáveis e submódulos.\n",
        "\n",
        "Observação: um `tf.Module` bruto aninhado dentro de uma camada ou modelo do Keras não tem suas variáveis coletadas para treinamento ou salvamento. Em vez disso, aninhe camadas do Keras dentro de camadas do Keras."
      ]
    },
    {
      "cell_type": "code",
      "execution_count": null,
      "metadata": {
        "id": "hdLQFNdMsOz1"
      },
      "outputs": [],
      "source": [
        "my_sequential_model.variables"
      ]
    },
    {
      "cell_type": "code",
      "execution_count": null,
      "metadata": {
        "id": "JjVAMrAJsQ7G"
      },
      "outputs": [],
      "source": [
        "my_sequential_model.submodules"
      ]
    },
    {
      "cell_type": "markdown",
      "metadata": {
        "id": "FhP8EItC4oac"
      },
      "source": [
        "Sobrescrever `tf.keras.Model` é uma estratégia típica do Python para criar modelos do TensorFlow. Se você estiver fazendo a migração de modelos de outros frameworks, isso poderá ser bem direto.\n",
        "\n",
        "Se você estiver construindo modelos que são uma montagem simples de camadas e entradas existentes, pode economizar tempo e espaço utilizando a [API funcional](./keras/functional.ipynb), que conta com recursos adicionais relacionados à arquitetura e à reconstrução do modelo.\n",
        "\n",
        "Veja o mesmo modelo com a API funcional:"
      ]
    },
    {
      "cell_type": "code",
      "execution_count": null,
      "metadata": {
        "id": "jJiZZiJ0fyqQ"
      },
      "outputs": [],
      "source": [
        "inputs = tf.keras.Input(shape=[3,])\n",
        "\n",
        "x = FlexibleDense(3)(inputs)\n",
        "x = FlexibleDense(2)(x)\n",
        "\n",
        "my_functional_model = tf.keras.Model(inputs=inputs, outputs=x)\n",
        "\n",
        "my_functional_model.summary()"
      ]
    },
    {
      "cell_type": "code",
      "execution_count": null,
      "metadata": {
        "id": "kg-xAZw5gaG6"
      },
      "outputs": [],
      "source": [
        "my_functional_model(tf.constant([[2.0, 2.0, 2.0]]))"
      ]
    },
    {
      "cell_type": "markdown",
      "metadata": {
        "id": "s_BK9XH5q9cq"
      },
      "source": [
        "A principal diferença é que o formato da entrada é especificado de antemão como parte do processo de construção funcional. Neste caso, o argumento `input_shape` não precisa ser totalmente especificado. Você pode deixar algumas dimensões como `None` (nenhuma).\n",
        "\n",
        "Observação: você não precisa especificar `input_shape` ou uma `InputLayer` em um modelo criado via subclasse. Esses argumentos e camadas serão ignorados."
      ]
    },
    {
      "cell_type": "markdown",
      "metadata": {
        "id": "qI9aXLnaHEFF"
      },
      "source": [
        "### Como salvar modelos do Keras\n",
        "\n",
        "Os modelos do Keras têm seu próprio formato especializado de salvamento de arquivo ZIP, com extensão `.keras`. Ao chamar `tf.keras.Model.save`, acrescente a extensão `.keras` ao nome do arquivo. Veja um exemplo:"
      ]
    },
    {
      "cell_type": "code",
      "execution_count": null,
      "metadata": {
        "id": "SAz-KVZlzAJu"
      },
      "outputs": [],
      "source": [
        "my_sequential_model.save(\"exname_of_file.keras\")"
      ]
    },
    {
      "cell_type": "markdown",
      "metadata": {
        "id": "C2urAeR-omns"
      },
      "source": [
        "Também é fácil carregar de volta:"
      ]
    },
    {
      "cell_type": "code",
      "execution_count": null,
      "metadata": {
        "id": "Wj5DW-LCopry"
      },
      "outputs": [],
      "source": [
        "reconstructed_model = tf.keras.models.load_model(\"exname_of_file.keras\")"
      ]
    },
    {
      "cell_type": "markdown",
      "metadata": {
        "id": "EA7P_MNvpviZ"
      },
      "source": [
        "Os arquivos ZIP do Keras, arquivos `.keras`, também salvam métricas, perdas e estados de otimizadores.\n",
        "\n",
        "Esse modelo reconstruído pode ser usado e gerará o mesmo resultado quando chamado com os mesmos dados:"
      ]
    },
    {
      "cell_type": "code",
      "execution_count": null,
      "metadata": {
        "id": "P_wGfQo5pe6T"
      },
      "outputs": [],
      "source": [
        "reconstructed_model(tf.constant([[2.0, 2.0, 2.0]]))"
      ]
    },
    {
      "cell_type": "markdown",
      "metadata": {
        "id": "seLIUG2354s"
      },
      "source": [
        "### Criação de checkpoints de modelos do Keras\n",
        "\n",
        "Também é possível criar checkpoints de modelos do Keras, e o resultado será o mesmo de `tf.Module`."
      ]
    },
    {
      "cell_type": "markdown",
      "metadata": {
        "id": "xKyjlkceqjwD"
      },
      "source": [
        "O salvamento e a serialização de modelos do Keras não param por aí, incluindo métodos de configuração para camadas personalizadas com suporte a características. Confira o [guia sobre salvamento e serialização](https://www.tensorflow.org/guide/keras/save_and_serialize)."
      ]
    },
    {
      "cell_type": "markdown",
      "metadata": {
        "id": "kcdMMPYv7Krz"
      },
      "source": [
        "# Próximos passos\n",
        "\n",
        "Se você quiser saber mais detalhes sobre o Keras, confira os guias existentes [aqui](./keras/).\n",
        "\n",
        "Outro exemplo de uma API de alto nível construída com `tf.module` é o Sonnet da DeepMind, abordado [neste site](https://github.com/deepmind/sonnet)."
      ]
    }
  ],
  "metadata": {
    "colab": {
      "collapsed_sections": [
        "ISubpr_SSsiM"
      ],
      "name": "intro_to_modules.ipynb",
      "toc_visible": true
    },
    "kernelspec": {
      "display_name": "Python 3",
      "name": "python3"
    }
  },
  "nbformat": 4,
  "nbformat_minor": 0
}
