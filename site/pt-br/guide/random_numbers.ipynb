{
  "cells": [
    {
      "cell_type": "markdown",
      "metadata": {
        "id": "Tce3stUlHN0L"
      },
      "source": [
        "##### Copyright 2019 The TensorFlow Authors."
      ]
    },
    {
      "cell_type": "code",
      "execution_count": null,
      "metadata": {
        "cellView": "form",
        "id": "tuOe1ymfHZPu"
      },
      "outputs": [],
      "source": [
        "#@title Licensed under the Apache License, Version 2.0 (the \"License\");\n",
        "# you may not use this file except in compliance with the License.\n",
        "# You may obtain a copy of the License at\n",
        "#\n",
        "# https://www.apache.org/licenses/LICENSE-2.0\n",
        "#\n",
        "# Unless required by applicable law or agreed to in writing, software\n",
        "# distributed under the License is distributed on an \"AS IS\" BASIS,\n",
        "# WITHOUT WARRANTIES OR CONDITIONS OF ANY KIND, either express or implied.\n",
        "# See the License for the specific language governing permissions and\n",
        "# limitations under the License."
      ]
    },
    {
      "cell_type": "markdown",
      "metadata": {
        "id": "qFdPvlXBOdUN"
      },
      "source": [
        "# Geração de números aleatórios"
      ]
    },
    {
      "cell_type": "markdown",
      "metadata": {
        "id": "MfBg1C5NB3X0"
      },
      "source": [
        "<table class=\"tfo-notebook-buttons\" align=\"left\">\n",
        "  <td>     <a target=\"_blank\" href=\"https://www.tensorflow.org/guide/random_numbers\"><img src=\"https://www.tensorflow.org/images/tf_logo_32px.png\">Ver em TensorFlow.org</a>\n",
        "</td>\n",
        "  <td>     <a target=\"_blank\" href=\"https://colab.research.google.com/github/tensorflow/docs-l10n/blob/master/site/pt-br/guide/random_numbers.ipynb\"><img src=\"https://www.tensorflow.org/images/colab_logo_32px.png\">Executar no Google Colab</a>\n",
        "</td>\n",
        "  <td>     <a target=\"_blank\" href=\"https://github.com/tensorflow/docs-l10n/blob/master/site/pt-br/guide/random_numbers.ipynb\"><img src=\"https://www.tensorflow.org/images/GitHub-Mark-32px.png\">Ver fonte no GitHub</a>\n",
        "</td>\n",
        "  <td>     <a href=\"https://storage.googleapis.com/tensorflow_docs/docs-l10n/site/pt-br/guide/random_numbers.ipynb\"><img src=\"https://www.tensorflow.org/images/download_logo_32px.png\">Baixar notebook</a>\n",
        "</td>\n",
        "</table>"
      ]
    },
    {
      "cell_type": "markdown",
      "metadata": {
        "id": "BlGY1iiph_C2"
      },
      "source": [
        "O TensorFlow oferece um conjunto de geradores de números pseudo-aleatórios (RNG), no módulo `tf.random`. Este documento descreve como você pode controlar os geradores de números aleatórios e como eles interagem com outros subsistemas do TensorFlow.\n",
        "\n",
        "Observação: a consistência dos números aleatórios nas versões do TensorFlow não é garantida: [Compatibilidade com a versão](https://www.tensorflow.org/guide/versions#what_is_not_covered)\n",
        "\n",
        "O TensorFlow oferece duas abordagens para controlar o processo de geração de números aleatórios:\n",
        "\n",
        "1. Pelo uso explícito de objetos `tf.random.Generator`. Cada objeto mantém um estado (em `tf.Variable`) que será alterado após cada geração de números.\n",
        "\n",
        "2. Através de funções aleatórias stateless que são puramente funcionais, como `tf.random.stateless_uniform`. Chamar essas funções com os mesmos argumentos (que incluem a semente) e no mesmo dispositivo sempre produzirá os mesmos resultados.\n",
        "\n",
        "Aviso: os RNGs antigos do TF 1.x, como `tf.random.uniform` e `tf.random.normal`, ainda não foram descontinuados mas são fortemente desaconselhados."
      ]
    },
    {
      "cell_type": "markdown",
      "metadata": {
        "id": "zIGh9faCOp6x"
      },
      "source": [
        "## Configuração"
      ]
    },
    {
      "cell_type": "code",
      "execution_count": null,
      "metadata": {
        "id": "ECDrttf0s8Nu"
      },
      "outputs": [],
      "source": [
        "import tensorflow as tf\n",
        "\n",
        "# Creates some virtual devices (cpu:0, cpu:1, etc.) for using distribution strategy\n",
        "physical_devices = tf.config.list_physical_devices(\"CPU\")\n",
        "tf.config.experimental.set_virtual_device_configuration(\n",
        "    physical_devices[0], [\n",
        "        tf.config.experimental.VirtualDeviceConfiguration(),\n",
        "        tf.config.experimental.VirtualDeviceConfiguration(),\n",
        "        tf.config.experimental.VirtualDeviceConfiguration()\n",
        "    ])"
      ]
    },
    {
      "cell_type": "markdown",
      "metadata": {
        "id": "eqMlrUsVu2Ai"
      },
      "source": [
        "## A classe `tf.random.Generator`\n",
        "\n",
        "A classe `tf.random.Generator` é usada nos casos em que você quer que cada chamada de RNG produza resultados diferentes. Ela mantém um estado interno (gerenciado por um objeto `tf.Variable`) que será atualizado sempre que os números aleatórios forem gerados. Como o estado é gerenciado por `tf.Variable`, ele aproveita todas as facilidades fornecidas por `tf.Variable`, como checkpoint fácil, dependência de controle automática e segurança de thread.\n",
        "\n",
        "Você pode obter um `tf.random.Generator` ao criar manualmente um objeto da classe ou chamar `tf.random.get_global_generator()` para obter o gerador global padrão:"
      ]
    },
    {
      "cell_type": "code",
      "execution_count": null,
      "metadata": {
        "id": "7yU1E3JvxOQD"
      },
      "outputs": [],
      "source": [
        "g1 = tf.random.Generator.from_seed(1)\n",
        "print(g1.normal(shape=[2, 3]))\n",
        "g2 = tf.random.get_global_generator()\n",
        "print(g2.normal(shape=[2, 3]))"
      ]
    },
    {
      "cell_type": "markdown",
      "metadata": {
        "id": "QmRCeAvTxulW"
      },
      "source": [
        "Há várias maneiras de criar um objeto gerador. A mais fácil é `Generator.from_seed`, conforme mostrado acima, que cria um gerador a partir de uma semente. Uma semente é qualquer número inteiro não negativo. `from_seed` também aceita um argumento opcional `alg`, que é o algoritmo de RNG que será usado por esse gerador:"
      ]
    },
    {
      "cell_type": "code",
      "execution_count": null,
      "metadata": {
        "id": "kISbOE4Xfjhv"
      },
      "outputs": [],
      "source": [
        "g1 = tf.random.Generator.from_seed(1, alg='philox')\n",
        "print(g1.normal(shape=[2, 3]))"
      ]
    },
    {
      "cell_type": "markdown",
      "metadata": {
        "id": "_mCRaN7dfd8j"
      },
      "source": [
        "Veja a seção *Algoritmos* abaixo para saber mais.\n",
        "\n",
        "Outra maneira de criar um gerador é com `Generator.from_non_deterministic_state`. Um gerador criado dessa forma começará em um estado não determinístico, dependendo do tempo e do SO, por exemplo."
      ]
    },
    {
      "cell_type": "code",
      "execution_count": null,
      "metadata": {
        "id": "gxPLCLsz00qY"
      },
      "outputs": [],
      "source": [
        "g = tf.random.Generator.from_non_deterministic_state()\n",
        "print(g.normal(shape=[2, 3]))"
      ]
    },
    {
      "cell_type": "markdown",
      "metadata": {
        "id": "zSAp2BMj1JZ6"
      },
      "source": [
        "Ainda há outras maneiras de criar geradores, como a partir de estados explícitos, que não serão abordadas neste guia.\n",
        "\n",
        "Ao usar `tf.random.get_global_generator` para obter o gerador global, você precisa ter cuidado com o posicionamento do dispositivo. O gerador global é criado (a partir de um estado não determinístico) na primeira vez que `tf.random.get_global_generator` é chamado, e colocado no dispositivo padrão dessa chamada. Então, por exemplo, se o primeiro local que você chamar `tf.random.get_global_generator` for em um escopo `tf.device(\"gpu\")`, o gerador global será colocado na GPU, e o uso do gerador global mais tarde na CPU resultará em uma cópia da GPU para a CPU.\n",
        "\n",
        "Também há uma função `tf.random.set_global_generator` para substituir o gerador global por outro objeto gerador. No entanto, essa função deve ser usada com cuidado, porque o gerador global antigo pode ter sido capturado por uma `tf.function` (como uma referência fraca), e a substituição fará com que seja coletado como lixo, corrompendo a `tf.function`. Uma maneira melhor de redefinir o gerador global é usar uma das funções \"reset\", como `Generator.reset_from_seed`, que não criam novos objetos geradores."
      ]
    },
    {
      "cell_type": "code",
      "execution_count": null,
      "metadata": {
        "id": "324S5bpd9HRg"
      },
      "outputs": [],
      "source": [
        "g = tf.random.Generator.from_seed(1)\n",
        "print(g.normal([]))\n",
        "print(g.normal([]))\n",
        "g.reset_from_seed(1)\n",
        "print(g.normal([]))"
      ]
    },
    {
      "cell_type": "markdown",
      "metadata": {
        "id": "z9H0wuvp9VwH"
      },
      "source": [
        "### Criando streams de números aleatórios independentes\n",
        "\n",
        "Em vários aplicativos, é preciso multiplicar streams de números aleatórios independentes (no sentido de que não vão se sobrepor nem ter qualquer correlação detectável estatisticamente). Isso é realizado ao usar `Generator.split` para criar vários geradores que têm a garantia de serem independentes uns dos outros (ou seja, gerando streams independentes)."
      ]
    },
    {
      "cell_type": "code",
      "execution_count": null,
      "metadata": {
        "id": "Vg5_KN18OZjo"
      },
      "outputs": [],
      "source": [
        "g = tf.random.Generator.from_seed(1)\n",
        "print(g.normal([]))\n",
        "new_gs = g.split(3)\n",
        "for new_g in new_gs:\n",
        "  print(new_g.normal([]))\n",
        "print(g.normal([]))"
      ]
    },
    {
      "cell_type": "markdown",
      "metadata": {
        "id": "dqOaGVzKOsRJ"
      },
      "source": [
        "`split` mudará o estado do gerador em que é chamado (`g` no exemplo acima), semelhante a um método de RNG como `normal`. Além de serem independentes, os novos geradores (`new_gs`) também são independentes do antigo (`g`).\n",
        "\n",
        "A criação de novos geradores também é útil quando você quer garantir que o gerador usado está no mesmo dispositivo que outras computações, para evitar a sobrecarga de cópia entre dispositivos. Por exemplo: "
      ]
    },
    {
      "cell_type": "code",
      "execution_count": null,
      "metadata": {
        "id": "5jSnJBlUQzF3"
      },
      "outputs": [],
      "source": [
        "with tf.device(\"cpu\"):  # change \"cpu\" to the device you want\n",
        "  g = tf.random.get_global_generator().split(1)[0]  \n",
        "  print(g.normal([]))  # use of g won't cause cross-device copy, unlike the global generator"
      ]
    },
    {
      "cell_type": "markdown",
      "metadata": {
        "id": "sCxbccYMRdd4"
      },
      "source": [
        "Observação: em teoria, você pode usar construtores como `from_seed` em vez de `split` para obter um novo gerador. Porém, com isso, você perde a garantia de que o novo gerador é independente do gerador global. Você também corre o risco de criar acidentalmente dois geradores com a mesma semente ou com sementes que levam à sobreposição de streams de números aleatórios.\n",
        "\n",
        "Você pode realizar a divisão recursivamente, chamando `split` em geradores split. Não há limites (barrando o overflow de números inteiros) de profundidade das recursões."
      ]
    },
    {
      "cell_type": "markdown",
      "metadata": {
        "id": "8JUgnQM_O0lg"
      },
      "source": [
        "### Interação com `tf.function`\n",
        "\n",
        "`tf.random.Generator` obedece às mesmas regras que `tf.Variable` quando usado com `tf.function`. Isso inclui três aspectos."
      ]
    },
    {
      "cell_type": "markdown",
      "metadata": {
        "id": "jnSjhY6WM-J8"
      },
      "source": [
        "#### Criando geradores fora de `tf.function`\n",
        "\n",
        "`tf.function` pode usar um gerador criado fora dela."
      ]
    },
    {
      "cell_type": "code",
      "execution_count": null,
      "metadata": {
        "id": "a5EEy0E2UHMw"
      },
      "outputs": [],
      "source": [
        "g = tf.random.Generator.from_seed(1)\n",
        "@tf.function\n",
        "def foo():\n",
        "  return g.normal([])\n",
        "print(foo())"
      ]
    },
    {
      "cell_type": "markdown",
      "metadata": {
        "id": "L_8kC7kbO5uu"
      },
      "source": [
        "O usuário precisa garantir que o objeto gerador ainda está vivo (e não coletado como lixo) quando a função é chamada."
      ]
    },
    {
      "cell_type": "markdown",
      "metadata": {
        "id": "PwIrBv_zUYwI"
      },
      "source": [
        "#### Criando geradores dentro de `tf.function`\n",
        "\n",
        "A criação dos geradores dentro de uma `tf.function` só pode ocorrer na primeira execução da função. "
      ]
    },
    {
      "cell_type": "code",
      "execution_count": null,
      "metadata": {
        "id": "3JzpUvqJU4MW"
      },
      "outputs": [],
      "source": [
        "g = None\n",
        "@tf.function\n",
        "def foo():\n",
        "  global g\n",
        "  if g is None:\n",
        "    g = tf.random.Generator.from_seed(1)\n",
        "  return g.normal([])\n",
        "print(foo())\n",
        "print(foo())"
      ]
    },
    {
      "cell_type": "markdown",
      "metadata": {
        "id": "UaTVnOhHVM9a"
      },
      "source": [
        "#### Passando geradores como argumentos para `tf.function`\n",
        "\n",
        "Quando usados como o argumento de uma `tf.function`, os objetos geradores diferentes causarão o retracing da `tf.function`."
      ]
    },
    {
      "cell_type": "code",
      "execution_count": null,
      "metadata": {
        "id": "DeR9kvt0V-ad"
      },
      "outputs": [],
      "source": [
        "num_traces = 0\n",
        "@tf.function\n",
        "def foo(g):\n",
        "  global num_traces\n",
        "  num_traces += 1\n",
        "  return g.normal([])\n",
        "foo(tf.random.Generator.from_seed(1))\n",
        "foo(tf.random.Generator.from_seed(2))\n",
        "print(num_traces)"
      ]
    },
    {
      "cell_type": "markdown",
      "metadata": {
        "id": "E0RxllJzkGfo"
      },
      "source": [
        "Esse comportamento de retracing é consistente com `tf.Variable`:"
      ]
    },
    {
      "cell_type": "code",
      "execution_count": null,
      "metadata": {
        "id": "oWD2f_qxkSe7"
      },
      "outputs": [],
      "source": [
        "num_traces = 0\n",
        "@tf.function\n",
        "def foo(v):\n",
        "  global num_traces\n",
        "  num_traces += 1\n",
        "  return v.read_value()\n",
        "foo(tf.Variable(1))\n",
        "foo(tf.Variable(2))\n",
        "print(num_traces)"
      ]
    },
    {
      "cell_type": "markdown",
      "metadata": {
        "id": "fxcS6IY8WZuh"
      },
      "source": [
        "### Interação com estratégias de distribuição\n",
        "\n",
        "Há duas maneiras que o `Generator` interage com as estratégias de distribuição."
      ]
    },
    {
      "cell_type": "markdown",
      "metadata": {
        "id": "GyZv9QJkZfkQ"
      },
      "source": [
        "#### Criando geradores fora das estratégias de distribuição\n",
        "\n",
        "Se um gerador é criado fora dos escopos das estratégias, o acesso de todas as réplicas ao gerador será serializado. Portanto, as réplicas receberão números aleatórios diferentes."
      ]
    },
    {
      "cell_type": "code",
      "execution_count": null,
      "metadata": {
        "id": "HX_beT9SZWMp"
      },
      "outputs": [],
      "source": [
        "g = tf.random.Generator.from_seed(1)\n",
        "strat = tf.distribute.MirroredStrategy(devices=[\"cpu:0\", \"cpu:1\"])\n",
        "with strat.scope():\n",
        "  def f():\n",
        "    print(g.normal([]))\n",
        "  results = strat.run(f)"
      ]
    },
    {
      "cell_type": "markdown",
      "metadata": {
        "id": "ydYQbUqLPAgH"
      },
      "source": [
        "Observe que esse uso pode apresentar problemas de desempenho, porque o dispositivo do gerador é diferente das réplicas."
      ]
    },
    {
      "cell_type": "markdown",
      "metadata": {
        "id": "Yal4LbBKbAeN"
      },
      "source": [
        "#### Criando geradores dentro das estratégias de distribuição\n",
        "\n",
        "Se um gerador é criado dentro de um escopo de estratégia, cada réplica receberá um stream diferente e independente de números aleatórios."
      ]
    },
    {
      "cell_type": "code",
      "execution_count": null,
      "metadata": {
        "id": "5SeUu7IFmTyQ"
      },
      "outputs": [],
      "source": [
        "strat = tf.distribute.MirroredStrategy(devices=[\"cpu:0\", \"cpu:1\"])\n",
        "with strat.scope():\n",
        "  g = tf.random.Generator.from_seed(1)\n",
        "  print(strat.run(lambda: g.normal([])))\n",
        "  print(strat.run(lambda: g.normal([])))"
      ]
    },
    {
      "cell_type": "markdown",
      "metadata": {
        "id": "PFBlrOudfu9u"
      },
      "source": [
        "Observação: no momento, `tf.random.Generator` não oferece a opção de deixar que diferentes réplicas recebam streams idênticos (em vez de diferentes), o que tecnicamente não é difícil. Se você tiver um caso de uso para esse recurso, avise aos desenvolvedores do TensorFlow.\n",
        "\n",
        "Se o gerador for baseado em sementes (por exemplo, criado por `Generator.from_seed`), os números aleatórios serão determinados pela semente, mesmo que réplicas diferentes obtenham números diferentes e não correlacionados. É possível pensar em um número aleatório gerado de uma réplica como um hash do ID da réplica e um número aleatório \"primário\" comum a todas as réplicas. Portanto, o sistema inteiro ainda é determinístico.\n",
        "\n",
        "`tf.random.Generator` também pode ser criado dentro de `Strategy.run`:"
      ]
    },
    {
      "cell_type": "code",
      "execution_count": null,
      "metadata": {
        "id": "nlQXi5Msb1Wu"
      },
      "outputs": [],
      "source": [
        "strat = tf.distribute.MirroredStrategy(devices=[\"cpu:0\", \"cpu:1\"])\n",
        "with strat.scope():\n",
        "  def f():\n",
        "    g = tf.random.Generator.from_seed(1)\n",
        "    a = g.normal([])\n",
        "    b = g.normal([])\n",
        "    return tf.stack([a, b])\n",
        "  print(strat.run(f))\n",
        "  print(strat.run(f))"
      ]
    },
    {
      "cell_type": "markdown",
      "metadata": {
        "id": "4Sv-aiaOmrOr"
      },
      "source": [
        "Não recomendamos mais passar `tf.random.Generator` como argumentos para `Strategy.run`, porque `Strategy.run` geralmente espera que os argumentos sejam tensores, e não geradores."
      ]
    },
    {
      "cell_type": "markdown",
      "metadata": {
        "id": "8RbM4vabtiWM"
      },
      "source": [
        "### Salvando geradores\n",
        "\n",
        "Geralmente, para salvar ou serializar, você pode tratar o `tf.random.Generator` da mesma maneira que um `tf.Variable` ou `tf.Module` (ou suas subclasses). No TF há dois mecanismos de serialização: [Checkpoint](https://www.tensorflow.org/guide/checkpoint) e [SavedModel](https://www.tensorflow.org/guide/saved_model)."
      ]
    },
    {
      "cell_type": "markdown",
      "metadata": {
        "id": "PDtySQDotWQc"
      },
      "source": [
        "#### Checkpoint\n",
        "\n",
        "Os geradores podem ser salvos e restaurados livremente usando `tf.train.Checkpoint`. O stream de números aleatórios do ponto de restauração será o mesmo que o do ponto de salvamento. "
      ]
    },
    {
      "cell_type": "code",
      "execution_count": null,
      "metadata": {
        "id": "uB_bDSbzpbne"
      },
      "outputs": [],
      "source": [
        "filename = \"./checkpoint\"\n",
        "g = tf.random.Generator.from_seed(1)\n",
        "cp = tf.train.Checkpoint(generator=g)\n",
        "print(g.normal([]))"
      ]
    },
    {
      "cell_type": "code",
      "execution_count": null,
      "metadata": {
        "id": "bKKtRWeIkIjX"
      },
      "outputs": [],
      "source": [
        "cp.write(filename)\n",
        "print(\"RNG stream from saving point:\")\n",
        "print(g.normal([]))\n",
        "print(g.normal([]))"
      ]
    },
    {
      "cell_type": "code",
      "execution_count": null,
      "metadata": {
        "id": "-cIHcHwRkQp3"
      },
      "outputs": [],
      "source": [
        "cp.restore(filename)\n",
        "print(\"RNG stream from restoring point:\")\n",
        "print(g.normal([]))\n",
        "print(g.normal([]))"
      ]
    },
    {
      "cell_type": "markdown",
      "metadata": {
        "id": "A-OeUUQEJ37X"
      },
      "source": [
        "Você também pode salvar e restaurar em uma estratégia de distribuição:"
      ]
    },
    {
      "cell_type": "code",
      "execution_count": null,
      "metadata": {
        "id": "3aI6TQ2lq28w"
      },
      "outputs": [],
      "source": [
        "filename = \"./checkpoint\"\n",
        "strat = tf.distribute.MirroredStrategy(devices=[\"cpu:0\", \"cpu:1\"])\n",
        "with strat.scope():\n",
        "  g = tf.random.Generator.from_seed(1)\n",
        "  cp = tf.train.Checkpoint(my_generator=g)\n",
        "  print(strat.run(lambda: g.normal([])))"
      ]
    },
    {
      "cell_type": "code",
      "execution_count": null,
      "metadata": {
        "id": "kTZcdaMwkvJI"
      },
      "outputs": [],
      "source": [
        "with strat.scope():\n",
        "  cp.write(filename)\n",
        "  print(\"RNG stream from saving point:\")\n",
        "  print(strat.run(lambda: g.normal([])))\n",
        "  print(strat.run(lambda: g.normal([])))"
      ]
    },
    {
      "cell_type": "code",
      "execution_count": null,
      "metadata": {
        "id": "nizFA5IrkzN1"
      },
      "outputs": [],
      "source": [
        "with strat.scope():\n",
        "  cp.restore(filename)\n",
        "  print(\"RNG stream from restoring point:\")\n",
        "  print(strat.run(lambda: g.normal([])))\n",
        "  print(strat.run(lambda: g.normal([])))"
      ]
    },
    {
      "cell_type": "markdown",
      "metadata": {
        "id": "Z2rsPfp9J6JA"
      },
      "source": [
        "Confira se as réplicas não divergem no histórico de chamadas do RNG (por exemplo, uma réplica faz uma chamada de RNG enquanto outra faz duas). Caso contrário, os estados de RNG internos vão divergir e `tf.train.Checkpoint` (que só salva o estado da primeira réplica) não restaurará corretamente todas as réplicas.\n",
        "\n",
        "Você também pode restaurar um checkpoint salvo para outra estratégia de distribuição com um número diferente de réplicas. Como um objeto `tf.random.Generator` criado em uma estratégia só pode ser usado nela mesmo, para restaurar para uma estratégia diferente, você precisa criar um novo `tf.random.Generator` na estratégia de destino e um novo `tf.train.Checkpoint` para ela, conforme mostrado neste exemplo:"
      ]
    },
    {
      "cell_type": "code",
      "execution_count": null,
      "metadata": {
        "id": "zgoFRf59-IvW"
      },
      "outputs": [],
      "source": [
        "filename = \"./checkpoint\"\n",
        "strat1 = tf.distribute.MirroredStrategy(devices=[\"cpu:0\", \"cpu:1\"])\n",
        "with strat1.scope():\n",
        "  g1 = tf.random.Generator.from_seed(1)\n",
        "  cp1 = tf.train.Checkpoint(my_generator=g1)\n",
        "  print(strat1.run(lambda: g1.normal([])))"
      ]
    },
    {
      "cell_type": "code",
      "execution_count": null,
      "metadata": {
        "id": "Lu79ETxMlDpO"
      },
      "outputs": [],
      "source": [
        "with strat1.scope():\n",
        "  cp1.write(filename)\n",
        "  print(\"RNG stream from saving point:\")\n",
        "  print(strat1.run(lambda: g1.normal([])))\n",
        "  print(strat1.run(lambda: g1.normal([])))"
      ]
    },
    {
      "cell_type": "code",
      "execution_count": null,
      "metadata": {
        "id": "VYoRFUjklKOk"
      },
      "outputs": [],
      "source": [
        "strat2 = tf.distribute.MirroredStrategy(devices=[\"cpu:0\", \"cpu:1\", \"cpu:2\"])\n",
        "with strat2.scope():\n",
        "  g2 = tf.random.Generator.from_seed(1)\n",
        "  cp2 = tf.train.Checkpoint(my_generator=g2)\n",
        "  cp2.restore(filename)\n",
        "  print(\"RNG stream from restoring point:\")\n",
        "  print(strat2.run(lambda: g2.normal([])))\n",
        "  print(strat2.run(lambda: g2.normal([])))"
      ]
    },
    {
      "cell_type": "markdown",
      "metadata": {
        "id": "kMltUKbANqgl"
      },
      "source": [
        "Embora `g1` e `cp1` sejam objetos diferentes de `g2` e `cp2`, eles são ligados pelo arquivo de checkpoint comum `filename` e pelo nome do objeto `my_generator`. A sobreposição de réplicas entre estratégias (por exemplo, `cpu:0` e `cpu:1` acima) fará com que os streams de RNG sejam restaurados da maneira adequada, conforme os exemplos anteriores. Essa garantia não cobre o caso em que um gerador é salvo no escopo de uma estratégia e restaurado fora de qualquer escopo de estratégia ou vice-versa, porque um dispositivo fora das estratégias é tratado como diferente de qualquer réplica em uma estratégia."
      ]
    },
    {
      "cell_type": "markdown",
      "metadata": {
        "id": "w9dqrp1LnTaJ"
      },
      "source": [
        "#### SavedModel\n",
        "\n",
        "`tf.random.Generator` pode ser salvo para um SavedModel. O gerador pode ser criado em um escopo de estratégia. O salvamento também pode ocorrer em um escopo de estratégia. "
      ]
    },
    {
      "cell_type": "code",
      "execution_count": null,
      "metadata": {
        "id": "0AKO5SnUtyqx"
      },
      "outputs": [],
      "source": [
        "filename = \"./saved_model\"\n",
        "\n",
        "class MyModule(tf.Module):\n",
        "\n",
        "  def __init__(self):\n",
        "    super(MyModule, self).__init__()\n",
        "    self.g = tf.random.Generator.from_seed(0)\n",
        "\n",
        "  @tf.function\n",
        "  def __call__(self):\n",
        "    return self.g.normal([])\n",
        "\n",
        "  @tf.function\n",
        "  def state(self):\n",
        "    return self.g.state\n",
        "\n",
        "strat = tf.distribute.MirroredStrategy(devices=[\"cpu:0\", \"cpu:1\"])\n",
        "with strat.scope():\n",
        "  m = MyModule()\n",
        "  print(strat.run(m))\n",
        "  print(\"state:\", m.state())"
      ]
    },
    {
      "cell_type": "code",
      "execution_count": null,
      "metadata": {
        "id": "jg2148hulfLB"
      },
      "outputs": [],
      "source": [
        "with strat.scope():\n",
        "  tf.saved_model.save(m, filename)\n",
        "  print(\"RNG stream from saving point:\")\n",
        "  print(strat.run(m))\n",
        "  print(\"state:\", m.state())\n",
        "  print(strat.run(m))\n",
        "  print(\"state:\", m.state())"
      ]
    },
    {
      "cell_type": "code",
      "execution_count": null,
      "metadata": {
        "id": "93AgVyzOllG7"
      },
      "outputs": [],
      "source": [
        "imported = tf.saved_model.load(filename)\n",
        "print(\"RNG stream from loading point:\")\n",
        "print(\"state:\", imported.state())\n",
        "print(imported())\n",
        "print(\"state:\", imported.state())\n",
        "print(imported())\n",
        "print(\"state:\", imported.state())"
      ]
    },
    {
      "cell_type": "markdown",
      "metadata": {
        "id": "sbb23j3pZNNq"
      },
      "source": [
        "Não é recomendável carregar um SavedModel com `tf.random.Generator` em uma estratégia de distribuição, porque as réplicas gerarão o mesmo stream de números aleatórios (porque o ID da réplica está congelado no grafo do SavedModel).\n",
        "\n",
        "O carregamento de um `tf.random.Generator` distribuído (um gerador criado em uma estratégia de distribuição) em um ambiente sem estratégia, como o exemplo acima, também tem uma ressalva. O estado do RNG será restaurado corretamente, mas os números aleatórios gerados serão diferentes do gerador original na sua estratégia (novamente, porque um dispositivo fora das estratégias é tratado como diferente de qualquer réplica em uma estratégia)."
      ]
    },
    {
      "cell_type": "markdown",
      "metadata": {
        "id": "73an1POpsi6V"
      },
      "source": [
        "## RNGs stateless\n",
        "\n",
        "O uso de RNGs stateless é simples. Como eles são funções puras, não há estado ou efeito colateral envolvido."
      ]
    },
    {
      "cell_type": "code",
      "execution_count": null,
      "metadata": {
        "id": "0-aOOA3gasn_"
      },
      "outputs": [],
      "source": [
        "print(tf.random.stateless_normal(shape=[2, 3], seed=[1, 2]))\n",
        "print(tf.random.stateless_normal(shape=[2, 3], seed=[1, 2]))"
      ]
    },
    {
      "cell_type": "markdown",
      "metadata": {
        "id": "2O_D-RAFNH2Q"
      },
      "source": [
        "Todo RNG stateless exige um argumento `seed`, que precisa ser um Tensor de número inteiro no formato `[2]`. Os resultados da op são totalmente determinados por essa semente.\n",
        "\n",
        "O algoritmo de RNG usado por RNGs stateless depende do dispositivo, ou seja, a mesma op executada em um dispositivo diferente pode produzir resultados diferentes."
      ]
    },
    {
      "cell_type": "markdown",
      "metadata": {
        "id": "4BvGkPnaOUPF"
      },
      "source": [
        "## Algoritmos"
      ]
    },
    {
      "cell_type": "markdown",
      "metadata": {
        "id": "58-8kvR4pRwO"
      },
      "source": [
        "### Geral\n",
        "\n",
        "Tanto a classe `tf.random.Generator` quanto as funções `stateless` são compatíveis com o algoritmo Philox (escrito como `\"philox\"` ou `tf.random.Algorithm.PHILOX`) em todos os dispositivos.\n",
        "\n",
        "Dispositivos diferentes gerarão os mesmos números inteiros se usarem o mesmo algoritmo e começarem no mesmo estado. Eles também gerarão \"quase os mesmos\" números em ponto flutuante, embora possa haver pequenas discrepâncias numéricas causadas pelas diferentes formas que os dispositivos realizam a computação de ponto flutuante (por exemplo, ordem de redução)."
      ]
    },
    {
      "cell_type": "markdown",
      "metadata": {
        "id": "WETA04F1OYPL"
      },
      "source": [
        "### Dispositivos XLA\n",
        "\n",
        "Em dispositivos baseados em XLA (como a TPU, e também a CPU/GPU quando o XLA está ativado), o algoritmo ThreeFry (escrito como `\"threefry\"` ou `tf.random.Algorithm.THREEFRY`) também é compatível. Esse algoritmo é rápido na TPU, mas lento na CPU/GPU quando comparado ao Philox. "
      ]
    },
    {
      "cell_type": "markdown",
      "metadata": {
        "id": "c04JkebCPTPu"
      },
      "source": [
        "Veja o artigo \"[Parallel Random Numbers: As Easy as 1, 2, 3](https://www.thesalmons.org/john/random123/papers/random123sc11.pdf)\" (Números aleatórios paralelos: fácil como 1, 2, 3) para mais detalhes sobre esses algoritmos."
      ]
    }
  ],
  "metadata": {
    "colab": {
      "collapsed_sections": [],
      "name": "random_numbers.ipynb",
      "toc_visible": true
    },
    "kernelspec": {
      "display_name": "Python 3",
      "name": "python3"
    }
  },
  "nbformat": 4,
  "nbformat_minor": 0
}
