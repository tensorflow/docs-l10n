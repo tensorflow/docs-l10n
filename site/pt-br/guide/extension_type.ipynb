{
  "cells": [
    {
      "cell_type": "markdown",
      "metadata": {
        "id": "WrcIOXsUQh8U"
      },
      "source": [
        "##### Copyright 2021 The TensorFlow Authors."
      ]
    },
    {
      "cell_type": "code",
      "execution_count": null,
      "metadata": {
        "cellView": "form",
        "id": "tXAbWHtqs1Y2"
      },
      "outputs": [],
      "source": [
        "#@title Licensed under the Apache License, Version 2.0 (the \"License\");\n",
        "# you may not use this file except in compliance with the License.\n",
        "# You may obtain a copy of the License at\n",
        "#\n",
        "# https://www.apache.org/licenses/LICENSE-2.0\n",
        "#\n",
        "# Unless required by applicable law or agreed to in writing, software\n",
        "# distributed under the License is distributed on an \"AS IS\" BASIS,\n",
        "# WITHOUT WARRANTIES OR CONDITIONS OF ANY KIND, either express or implied.\n",
        "# See the License for the specific language governing permissions and\n",
        "# limitations under the License."
      ]
    },
    {
      "cell_type": "markdown",
      "metadata": {
        "id": "HTgMAvQq-PU_"
      },
      "source": [
        "# Tipos de extensão\n",
        "\n",
        "<table class=\"tfo-notebook-buttons\" align=\"left\">\n",
        "  <td>     <a target=\"_blank\" href=\"https://www.tensorflow.org/guide/extension_type\"><img src=\"https://www.tensorflow.org/images/tf_logo_32px.png\">Ver em TensorFlow.org</a>\n",
        "</td>\n",
        "  <td>     <a target=\"_blank\" href=\"https://colab.research.google.com/github/tensorflow/docs-l10n/blob/master/site/pt-br/guide/extension_type.ipynb\"><img src=\"https://www.tensorflow.org/images/colab_logo_32px.png\">Executar no Google Colab</a>\n",
        "</td>\n",
        "  <td>     <a target=\"_blank\" href=\"https://github.com/tensorflow/docs-l10n/blob/master/site/pt-br/guide/extension_type.ipynb\"><img src=\"https://www.tensorflow.org/images/GitHub-Mark-32px.png\">Ver fonte no GitHub</a>\n",
        "</td>\n",
        "  <td>     <a href=\"https://storage.googleapis.com/tensorflow_docs/docs-l10n/site/pt-br/guide/extension_type.ipynb\"><img src=\"https://www.tensorflow.org/images/download_logo_32px.png\">Baixar notebook</a>\n",
        "</td>\n",
        "</table>"
      ]
    },
    {
      "cell_type": "markdown",
      "metadata": {
        "id": "jHcw9MtgBo7e"
      },
      "source": [
        "## Configuração"
      ]
    },
    {
      "cell_type": "code",
      "execution_count": null,
      "metadata": {
        "id": "0MsE_F0WBpmc"
      },
      "outputs": [],
      "source": [
        "!pip install -q tf_nightly\n",
        "import tensorflow as tf\n",
        "import numpy as np\n",
        "from typing import Tuple, List, Mapping, Union, Optional\n",
        "import tempfile"
      ]
    },
    {
      "cell_type": "markdown",
      "metadata": {
        "id": "1BAk3bji_0wl"
      },
      "source": [
        "## Tipos de extensão\n",
        "\n",
        "Os tipos definidos pelo usuário podem tornar os projetos mais legíveis, modulares e de fácil manutenção. No entanto, a maioria das APIs do TensorFlow tem suporte muito limitado aos tipos Python definidos pelo usuário. Isso inclui APIs de alto nível (como [Keras](https://www.tensorflow.org/guide/keras/overview), [tf.function](https://www.tensorflow.org/guide/function), [`tf.SavedModel`](https://www.tensorflow.org/guide/saved_model)) e APIs de baixo nível (como `tf.while_loop` e `tf.concat`). Os **tipos de extensão** do TensorFlow podem ser usados para criar tipos orientados a objetos definidos pelo usuário que funcionam perfeitamente com as APIs do TensorFlow. Para criar um tipo de extensão, basta definir uma classe Python com `tf.experimental.ExtensionType` como base e usar [anotações de tipo](https://www.python.org/dev/peps/pep-0484/) para especificar o tipo de cada campo."
      ]
    },
    {
      "cell_type": "code",
      "execution_count": null,
      "metadata": {
        "id": "7o5KY7L5_nxy"
      },
      "outputs": [],
      "source": [
        "class TensorGraph(tf.experimental.ExtensionType):\n",
        "  \"\"\"A collection of labeled nodes connected by weighted edges.\"\"\"\n",
        "  edge_weights: tf.Tensor               # shape=[num_nodes, num_nodes]\n",
        "  node_labels: Mapping[str, tf.Tensor]  # shape=[num_nodes]; dtype=any\n",
        "\n",
        "class MaskedTensor(tf.experimental.ExtensionType):\n",
        "  \"\"\"A tensor paired with a boolean mask, indicating which values are valid.\"\"\"\n",
        "  values: tf.Tensor\n",
        "  mask: tf.Tensor       # shape=values.shape; false for missing/invalid values.\n",
        "\n",
        "class CSRSparseMatrix(tf.experimental.ExtensionType):\n",
        "  \"\"\"Compressed sparse row matrix (https://en.wikipedia.org/wiki/Sparse_matrix).\"\"\"\n",
        "  values: tf.Tensor     # shape=[num_nonzero]; dtype=any\n",
        "  col_index: tf.Tensor  # shape=[num_nonzero]; dtype=int64\n",
        "  row_index: tf.Tensor  # shape=[num_rows+1]; dtype=int64"
      ]
    },
    {
      "cell_type": "markdown",
      "metadata": {
        "id": "FiaNXPa7pNK-"
      },
      "source": [
        "A classe base `tf.experimental.ExtensionType` funciona de maneira similar a [`typing.NamedTuple`](https://docs.python.org/3/library/typing.html#typing.NamedTuple) e [`@dataclasses.dataclass`](https://docs.python.org/3/library/dataclasses.html#dataclasses.dataclass) da biblioteca Python padrão. Além disso, ela adiciona automaticamente um construtor e métodos especiais (como `__repr__` e `__eq__`) com base nas anotações de tipo de campo."
      ]
    },
    {
      "cell_type": "markdown",
      "metadata": {
        "id": "JsE7X6_uMyLo"
      },
      "source": [
        "Tipicamente, os tipos de extensão pertencem a uma de duas categorias:\n",
        "\n",
        "- ***Estruturas de dados***, que agrupam uma coleção de valores relacionados e fornecem operações úteis com base nesses valores. As estruturas de dados podem ser bem gerais (como o exemplo `TensorGraph` acima) ou podem ser bastante personalizadas para um modelo específico.\n",
        "\n",
        "- ***Tipos \"tipo tensor'***, que especializam ou estendem o conceito do \"Tensor\". Os tipos desta categoria têm um `rank` (posto), um `shape` (format) e geralmente um `dtype` (tipo de dado), e faz sentido usá-los com as operações de Tensor (como `tf.stack`, `tf.add` ou `tf.matmul`). `MaskedTensor` e `CSRSparseMatrix` são exemplos de tipos \"tipo tensor\"."
      ]
    },
    {
      "cell_type": "markdown",
      "metadata": {
        "id": "uxngcajlMqIY"
      },
      "source": [
        "## APIs com suporte\n",
        "\n",
        "As seguintes APIs do TensorFlow têm suporte aos tipos de extensão:\n",
        "\n",
        "- **Keras**: os tipos de extensão podem ser usados como entradas e saídas para `Models` (modelos) e `Layers` (camadas) do Keras.\n",
        "- **`tf.data.Dataset`**: os tipos de extensão podem ser incluídos em `Datasets` e retornados pelo dataset como `Iterators` (iteradores).\n",
        "- **TensorFlow Hub**: os tipos de extensão podem ser usados como entradas e saídas de módulos do `tf.hub`.\n",
        "- **SavedModel**: os tipos de extensão podem ser usados como entradas e saídas de funções `SavedModel`.\n",
        "- **`tf.function`**: os tipos de extensão podem ser usados como argumentos e valores de retorno para funções encapsuladas com o decorador `@tf.function`.\n",
        "- **Loops while**: os tipos de extensão podem ser usados como variáveis de loops em `tf.while_loop` e podem ser usados como argumentos e valores de retorno no corpo do loop while.\n",
        "- **Condicionais**: os tipos de extensão podem ser selecionados condicionalmente ao usar `tf.cond` e `tf.case`.\n",
        "- **`tf.py_function`**: os tipos de extensão podem ser usados como argumentos e valores de retorno para o argumento `func` de `tf.py_function`.\n",
        "- **Operações de tensor**: os tipos de extensão podem ser usados para dar suporte à maioria das operações do TensorFlow que aceitam Tensores como entrada (como `tf.matmul`, `tf.gather` e `tf.reduce_sum`). Confira mais informações na seção \"*Dispatch*\" abaixo.\n",
        "- **Estratégia de distribuição**: os tipos de extensão podem ser usados como valores por réplica.\n",
        "\n",
        "Confira mais detalhes na seção \"APIs do TensorFlow com suporte aos ExtensionTypes\" abaixo.\n"
      ]
    },
    {
      "cell_type": "markdown",
      "metadata": {
        "id": "VIpZwuPVpwOX"
      },
      "source": [
        "## Requisitos\n"
      ]
    },
    {
      "cell_type": "markdown",
      "metadata": {
        "id": "nNk_TQeJGVwV"
      },
      "source": [
        "### Tipos de campo\n",
        "\n",
        "Todos os campos — variáveis de instância — precisam ser declarados, e uma anotação de tipo precisa ser fornecida para cada campo. Há suporte às seguintes anotações de tipo:\n",
        "\n",
        "Tipo | Exemplo\n",
        "--- | ---\n",
        "Inteiros Python | `i: int`\n",
        "Floats Python | `f: float`\n",
        "Strings Python | `s: str`\n",
        "Booleanos Python | `b: bool`\n",
        "`None` do Python | `n: None`\n",
        "[Formatos de tensor](https://www.tensorflow.org/api_docs/python/tf/TensorShape) | `shape: tf.TensorShape`\n",
        "[`dtype`s de tensor](https://www.tensorflow.org/api_docs/python/tf/dtypes/DType) | `dtype: tf.DType`\n",
        "[Tensores](https://www.tensorflow.org/api_docs/python/tf/Tensor) | `t: tf.Tensor`\n",
        "[Tipos de extensão](https://www.tensorflow.org/api_docs/python/tf/experimental/ExtensionType) | `mt: MyMaskedTensor`\n",
        "[Tensores irregulares](https://www.tensorflow.org/api_docs/python/tf/RaggedTensor) | `rt: tf.RaggedTensor`\n",
        "[Tensores esparsos](https://www.tensorflow.org/api_docs/python/tf/sparse/SparseTensor) | `st: tf.SparseTensor`\n",
        "[Fatias indexadas](https://www.tensorflow.org/api_docs/python/tf/IndexedSlices) | `s: tf.IndexedSlices`\n",
        "[Tensores opcionais](https://www.tensorflow.org/api_docs/python/tf/experimental/Optional) | `o: tf.experimental.Optional`\n",
        "[Uniões de tipos](https://docs.python.org/3/library/typing.html#typing.Union) | `int_or_float: typing.Union[int, float]`\n",
        "[Tuplas](https://docs.python.org/3/library/typing.html#typing.Tuple) | `params: typing.Tuple[int, float, tf.Tensor, int]`\n",
        "[Tuplas de tamanho variável](https://docs.python.org/3/library/typing.html#typing.Tuple) | `lengths: typing.Tuple[int, ...]`\n",
        "[Mapeamentos](https://docs.python.org/3/library/typing.html#typing.Mapping) | `tags: typing.Mapping[str, tf.Tensor]`\n",
        "[Valores opcionais](https://docs.python.org/3/library/typing.html#typing.Optional) | `weight: typing.Optional[tf.Tensor]`"
      ]
    },
    {
      "cell_type": "markdown",
      "metadata": {
        "id": "iFetYyZsIvf6"
      },
      "source": [
        "### Mutabilidade\n",
        "\n",
        "Os tipos de extensão precisam ser imutáveis, o que garante que possam ser monitorados corretamente pelos mecanismos de criação de grafo do TensorFlow. Se você quiser mudar o valor do tipo de extensão, é melhor definir métodos que transformem valores. Por exemplo, em vez de definir um método `set_mask` para mudar um `MaskedTensor`, você pode definir um método `replace_mask` que retorne um novo `MaskedTensor`:"
      ]
    },
    {
      "cell_type": "code",
      "execution_count": null,
      "metadata": {
        "id": "DThZLYH2IwFh"
      },
      "outputs": [],
      "source": [
        "class MaskedTensor(tf.experimental.ExtensionType):\n",
        "  values: tf.Tensor\n",
        "  mask: tf.Tensor\n",
        "\n",
        "  def replace_mask(self, new_mask):\n",
        "      self.values.shape.assert_is_compatible_with(new_mask.shape)\n",
        "      return MaskedTensor(self.values, new_mask)"
      ]
    },
    {
      "cell_type": "markdown",
      "metadata": {
        "id": "x3JyivI_qAtt"
      },
      "source": [
        "## Funcionalidades adicionadas por `ExtensionType`\n",
        "\n",
        "A classe base `ExtensionType` tem as seguintes funcionalidades:\n",
        "\n",
        "- Um construtor (`__init__`).\n",
        "- Um método de representação que pode ser exibido via print (`__repr__`).\n",
        "- Operadores de igualdade e desigualdade (`__eq__`).\n",
        "- Um método de validação (`__validate__`).\n",
        "- Imutabilidade imposta.\n",
        "- Um `TypeSpec` aninhado.\n",
        "- Suporte ao dispatch de API do tensor.\n",
        "\n",
        "Confira mais informações sobre como personalizar essas funcionalidades na seção \"Personalização de `ExtensionType`s\" abaixo."
      ]
    },
    {
      "cell_type": "markdown",
      "metadata": {
        "id": "pfSYs6P26gKq"
      },
      "source": [
        "### Construtor\n",
        "\n",
        "O construtor adicionado por `ExtensionType` recebe cada campo como um argumento com nome (na ordem indicada na definição da classe). Esse construtor verifica o tipo de todos os parâmetros e faz a conversão, quando necessário. Especificamente, os campos do `Tensor` são convertidos usando `tf.convert_to_tensor`; os campos de `Tuple` são convertidos em `tuple`s; e os campos de `Mapping` são convertidos em dicionários imutáveis."
      ]
    },
    {
      "cell_type": "code",
      "execution_count": null,
      "metadata": {
        "id": "DiXwyZ5M5KFW"
      },
      "outputs": [],
      "source": [
        "class MaskedTensor(tf.experimental.ExtensionType):\n",
        "  values: tf.Tensor\n",
        "  mask: tf.Tensor\n",
        "\n",
        "# Constructor takes one parameter for each field.\n",
        "mt = MaskedTensor(values=[[1, 2, 3], [4, 5, 6]],\n",
        "                  mask=[[True, True, False], [True, False, True]])\n",
        "\n",
        "# Fields are type-checked and converted to the declared types.\n",
        "# For example, `mt.values` is converted to a Tensor.\n",
        "print(mt.values)"
      ]
    },
    {
      "cell_type": "markdown",
      "metadata": {
        "id": "ezNDe1cYF0Qb"
      },
      "source": [
        "O construtor aciona um erro de tipo `TypeError` se o valor de um campo não puder ser convertido no tipo declarado:"
      ]
    },
    {
      "cell_type": "code",
      "execution_count": null,
      "metadata": {
        "id": "6HnrMaabF5VS"
      },
      "outputs": [],
      "source": [
        "try:\n",
        "  MaskedTensor([1, 2, 3], None)\n",
        "except TypeError as e:\n",
        "  print(f\"Got expected TypeError: {e}\")"
      ]
    },
    {
      "cell_type": "markdown",
      "metadata": {
        "id": "FwQUI3X02s20"
      },
      "source": [
        "O valor padrão de um campo pode ser especificado definindo seu valor na classe:"
      ]
    },
    {
      "cell_type": "code",
      "execution_count": null,
      "metadata": {
        "id": "GbzDT9fz20JA"
      },
      "outputs": [],
      "source": [
        "class Pencil(tf.experimental.ExtensionType):\n",
        "  color: str = \"black\"\n",
        "  has_erasor: bool = True\n",
        "  length: tf.Tensor = 1.0\n",
        "\n",
        "Pencil()"
      ]
    },
    {
      "cell_type": "code",
      "execution_count": null,
      "metadata": {
        "id": "nOW7lS9P4Foc"
      },
      "outputs": [],
      "source": [
        "Pencil(length=0.5, color=\"blue\")"
      ]
    },
    {
      "cell_type": "markdown",
      "metadata": {
        "id": "S5Eivtg07Aau"
      },
      "source": [
        "### Representação que pode ser exibida via print\n",
        "\n",
        "`ExtensionType` adiciona um método de representação padrão que pode ser exibida via print (`__repr__`) que inclui o nome da classe e o valor de cada campo:\n"
      ]
    },
    {
      "cell_type": "code",
      "execution_count": null,
      "metadata": {
        "id": "5SyiKTe55krG"
      },
      "outputs": [],
      "source": [
        "print(MaskedTensor(values=[1, 2, 3], mask=[True, True, False]))"
      ]
    },
    {
      "cell_type": "markdown",
      "metadata": {
        "id": "q4l_gnQh6nXR"
      },
      "source": [
        "### Operadores de igualdade\n",
        "\n",
        "`ExtensionType` adiciona os operadores de igualdade padrão (`__eq__` e `__ne__`), que consideram os dois valores iguais se eles tiverem o mesmo tipo e se todos os seus campos forem iguais. Os campos de tensor são considerados iguais se tiverem o mesmo formato e se todos os elementos forem iguais."
      ]
    },
    {
      "cell_type": "code",
      "execution_count": null,
      "metadata": {
        "id": "bHdLg13V52Xm"
      },
      "outputs": [],
      "source": [
        "a = MaskedTensor([1, 2], [True, False])\n",
        "b = MaskedTensor([[3, 4], [5, 6]], [[False, True], [True, True]])\n",
        "print(f\"a == a: {a==a}\")\n",
        "print(f\"a == b: {a==b}\")\n",
        "print(f\"a == a.values: {a==a.values}\")"
      ]
    },
    {
      "cell_type": "markdown",
      "metadata": {
        "id": "O3HqsO3jZlQq"
      },
      "source": [
        "**Observação:** se algum campo tiver um `Tensor`, então `__eq__` poderá retornar um `Tensor` booleano escalar (em vez de um valor booleano Python)."
      ]
    },
    {
      "cell_type": "markdown",
      "metadata": {
        "id": "hCpBfkKqCuip"
      },
      "source": [
        "### Método de validação\n",
        "\n",
        "`ExtensionType` adiciona um método `__validate__`, que pode ser sobrescrito para fazer verificações de validação dos campos. Ele é executado após a chamada ao construtor e depois que os campos tiverem o tipo verificado e tiverem sido convertidos nos tipos declarados para que possa pressupor que todos os campos estejam com os tipos declarados.\n",
        "\n",
        "O exemplo abaixo atualiza `MaskedTensor` de forma a validar os `shape`s (formatos) e `dtype`s (tipos de dados) de seus campos."
      ]
    },
    {
      "cell_type": "code",
      "execution_count": null,
      "metadata": {
        "id": "dgZOJRINDn00"
      },
      "outputs": [],
      "source": [
        "class MaskedTensor(tf.experimental.ExtensionType):\n",
        "  \"\"\"A tensor paired with a boolean mask, indicating which values are valid.\"\"\"\n",
        "  values: tf.Tensor\n",
        "  mask: tf.Tensor\n",
        "  def __validate__(self):\n",
        "    self.values.shape.assert_is_compatible_with(self.mask.shape)\n",
        "    assert self.mask.dtype.is_bool, 'mask.dtype must be bool'"
      ]
    },
    {
      "cell_type": "code",
      "execution_count": null,
      "metadata": {
        "id": "ajSgkGUUn9WL"
      },
      "outputs": [],
      "source": [
        "try:\n",
        "  MaskedTensor([1, 2, 3], [0, 1, 0])  # Wrong `dtype` for mask.\n",
        "except AssertionError as e:\n",
        "  print(f\"Got expected AssertionError: {e}\")"
      ]
    },
    {
      "cell_type": "code",
      "execution_count": null,
      "metadata": {
        "id": "Fhb96luJn9K7"
      },
      "outputs": [],
      "source": [
        "try:\n",
        "  MaskedTensor([1, 2, 3], [True, False])  # shapes don't match.\n",
        "except ValueError as e:\n",
        "  print(f\"Got expected ValueError: {e}\")"
      ]
    },
    {
      "cell_type": "markdown",
      "metadata": {
        "id": "pjIPAF1OCAdO"
      },
      "source": [
        "### Imutabilidade imposta\n",
        "\n",
        "`ExtensionType` sobrescreve os métodos `__setattr__` e `__delattr__` para evitar mudanças, garantido que os valores desse tipo de extensão sejam imutáveis."
      ]
    },
    {
      "cell_type": "code",
      "execution_count": null,
      "metadata": {
        "id": "NgmJ1C7ilN5C"
      },
      "outputs": [],
      "source": [
        "mt = MaskedTensor([1, 2, 3], [True, False, True])"
      ]
    },
    {
      "cell_type": "code",
      "execution_count": null,
      "metadata": {
        "id": "cMYmJr3RoFKp"
      },
      "outputs": [],
      "source": [
        "try:\n",
        "  mt.mask = [True, True, True]\n",
        "except AttributeError as e:\n",
        "  print(f\"Got expected AttributeError: {e}\")"
      ]
    },
    {
      "cell_type": "code",
      "execution_count": null,
      "metadata": {
        "id": "ZWwA-zWdzqlU"
      },
      "outputs": [],
      "source": [
        "try:\n",
        "  mt.mask[0] = False\n",
        "except TypeError as e:\n",
        "  print(f\"Got expected TypeError: {e}\")"
      ]
    },
    {
      "cell_type": "code",
      "execution_count": null,
      "metadata": {
        "id": "PN_txJVKoFoF"
      },
      "outputs": [],
      "source": [
        "try:\n",
        "  del mt.mask\n",
        "except AttributeError as e:\n",
        "  print(f\"Got expected AttributeError: {e}\")"
      ]
    },
    {
      "cell_type": "markdown",
      "metadata": {
        "id": "FBVFtCYn69Ou"
      },
      "source": [
        "### TypeSpec aninhado\n",
        "\n",
        "Cada classe `ExtensionType` tem uma classe `TypeSpec` correspondente, criada automaticamente e armazenada como `<extension_type_name>.Spec`.\n",
        "\n",
        "Essa classe captura todas as informações de um valor, *exceto* os valores de tensores aninhados. Especificamente, o `TypeSpec` de um valor é criado substituindo-se qualquer Tensor, ExtensionType ou CompositeTensor aninhado por seu `TypeSpec`.\n"
      ]
    },
    {
      "cell_type": "code",
      "execution_count": null,
      "metadata": {
        "id": "GRjANkGYKGnV"
      },
      "outputs": [],
      "source": [
        "class Player(tf.experimental.ExtensionType):\n",
        "  name: tf.Tensor\n",
        "  attributes: Mapping[str, tf.Tensor]\n",
        "\n",
        "anne = Player(\"Anne\", {\"height\": 8.3, \"speed\": 28.1})\n",
        "anne_spec = tf.type_spec_from_value(anne)\n",
        "print(anne_spec.name)  # Records `dtype` and `shape`, but not the string value.\n",
        "print(anne_spec.attributes)  # Records keys and TensorSpecs for values."
      ]
    },
    {
      "cell_type": "markdown",
      "metadata": {
        "id": "I2fkgckxO564"
      },
      "source": [
        "Os valores de `TypeSpec` podem ser construídos explicitamente ou podem ser construídos a partir de um valor `ExtensionType` usando-se `tf.type_spec_from_value`:"
      ]
    },
    {
      "cell_type": "code",
      "execution_count": null,
      "metadata": {
        "id": "1ehAa7d9OGai"
      },
      "outputs": [],
      "source": [
        "spec1 = Player.Spec(name=tf.TensorSpec([], tf.float32), attributes={})\n",
        "spec2 = tf.type_spec_from_value(anne)"
      ]
    },
    {
      "cell_type": "markdown",
      "metadata": {
        "id": "owcFG3cAMCwA"
      },
      "source": [
        "Os `TypeSpec`s são usados pelo TensorFlow para dividir valores em um **componente estático** e uma **componente dinâmico **:\n",
        "\n",
        "- O **componente estático ** (fixado no momento da criação do grafo) é codificado com um `tf.TypeSpec`.\n",
        "- O **componente dinâmico** (que pode variar a cada vez que o gráfico for criado) é codificado como uma lista de `tf.Tensor`s.\n",
        "\n",
        "Por exemplo, `tf.function` faz o retracing de sua função encapsulada sempre que um argumento tiver um `TypeSpec` não visto anteriormente:"
      ]
    },
    {
      "cell_type": "code",
      "execution_count": null,
      "metadata": {
        "id": "pg-m5YLRM1Nd"
      },
      "outputs": [],
      "source": [
        "@tf.function\n",
        "def anonymize_player(player):\n",
        "  print(\"<<TRACING>>\")\n",
        "  return Player(\"<anonymous>\", player.attributes)"
      ]
    },
    {
      "cell_type": "code",
      "execution_count": null,
      "metadata": {
        "id": "0CCGm7cpeIq-"
      },
      "outputs": [],
      "source": [
        "# Function gets traced (first time the function has been called):\n",
        "anonymize_player(Player(\"Anne\", {\"height\": 8.3, \"speed\": 28.1}))"
      ]
    },
    {
      "cell_type": "code",
      "execution_count": null,
      "metadata": {
        "id": "WB7bt7s83mFE"
      },
      "outputs": [],
      "source": [
        "# Function does NOT get traced (same TypeSpec: just tensor values changed)\n",
        "anonymize_player(Player(\"Bart\", {\"height\": 8.1, \"speed\": 25.3}))"
      ]
    },
    {
      "cell_type": "code",
      "execution_count": null,
      "metadata": {
        "id": "dNm7vLpR3nMH"
      },
      "outputs": [],
      "source": [
        "# Function gets traced (new TypeSpec: keys for attributes changed):\n",
        "anonymize_player(Player(\"Chuck\", {\"height\": 11.0, \"jump\": 5.3}))"
      ]
    },
    {
      "cell_type": "markdown",
      "metadata": {
        "id": "U5rN1HPq25xC"
      },
      "source": [
        "Confira mais informações no [guia de tf.function](https://www.tensorflow.org/guide/function#rules_of_tracing)."
      ]
    },
    {
      "cell_type": "markdown",
      "metadata": {
        "id": "gX613uRk0qLz"
      },
      "source": [
        "## Personalização de `ExtensionType`s\n",
        "\n",
        "Além de simplesmente declarar campos e seus tipos, os tipos de extensão podem:\n",
        "\n",
        "- Sobrescrever a representação padrão que pode ser exibida via print (`__repr__`).\n",
        "- Definir métodos.\n",
        "- Definir `classmethod`s e `staticmethod`s.\n",
        "- Definir propriedades.\n",
        "- Sobrescrever o construtor padrão (`__init__`).\n",
        "- Sobrescrever o operador de igualdade padrão (`__eq__`).\n",
        "- Definir operadores (como `__add__` e `__lt__`).\n",
        "- Declarar valores padrão para os campos.\n",
        "- Definir subclasses.\n"
      ]
    },
    {
      "cell_type": "markdown",
      "metadata": {
        "id": "MK-ePVDj-ROE"
      },
      "source": [
        "### Como sobrescrever a representação padrão que pode ser exibida via print\n",
        "\n",
        "É possível sobrescrever esse operador padrão de conversão de strings para os tipos de extensão. O exemplo abaixo atualiza a classe `MaskedTensor` de forma que ela gere uma representação de string mais fácil de ler quando os valores forem exibidos via print no modo adiantado (eager)."
      ]
    },
    {
      "cell_type": "code",
      "execution_count": null,
      "metadata": {
        "id": "gdPhjYEr8IGO"
      },
      "outputs": [],
      "source": [
        "class MaskedTensor(tf.experimental.ExtensionType):\n",
        "  \"\"\"A tensor paired with a boolean mask, indicating which values are valid.\"\"\"\n",
        "  values: tf.Tensor\n",
        "  mask: tf.Tensor       # shape=values.shape; false for invalid values.\n",
        "\n",
        "  def __repr__(self):\n",
        "    return masked_tensor_str(self.values, self.mask)\n",
        "\n",
        "def masked_tensor_str(values, mask):\n",
        "  if isinstance(values, tf.Tensor):\n",
        "    if hasattr(values, 'numpy') and hasattr(mask, 'numpy'):\n",
        "      return f'<MaskedTensor {masked_tensor_str(values.numpy(), mask.numpy())}>'\n",
        "    else:\n",
        "      return f'MaskedTensor(values={values}, mask={mask})'\n",
        "  if len(values.shape) == 1:\n",
        "    items = [repr(v) if m else '_' for (v, m) in zip(values, mask)]\n",
        "  else:\n",
        "    items = [masked_tensor_str(v, m) for (v, m) in zip(values, mask)]\n",
        "  return '[%s]' % ', '.join(items)\n",
        "\n",
        "mt = MaskedTensor(values=[[1, 2, 3], [4, 5, 6]],\n",
        "                  mask=[[True, True, False], [True, False, True]])\n",
        "print(mt)"
      ]
    },
    {
      "cell_type": "markdown",
      "metadata": {
        "id": "_MLQU2_v8VjG"
      },
      "source": [
        "### Como definir métodos\n",
        "\n",
        "Os tipos de extensão podem definir métodos como qualquer classe comum do Python. Por exemplo, o tipo `MaskedTensor` poderia definir um método `with_default` que retorne uma cópia de `self` com valores mascarados substituídos por um determinado valor `default`. Opcionalmente, é possível fazer uma anotação nos métodos com o decorador `@tf.function`."
      ]
    },
    {
      "cell_type": "code",
      "execution_count": null,
      "metadata": {
        "id": "7RR-tqee8ZdP"
      },
      "outputs": [],
      "source": [
        "class MaskedTensor(tf.experimental.ExtensionType):\n",
        "  values: tf.Tensor\n",
        "  mask: tf.Tensor\n",
        "\n",
        "  def with_default(self, default):\n",
        "    return tf.where(self.mask, self.values, default)\n",
        "\n",
        "MaskedTensor([1, 2, 3], [True, False, True]).with_default(0)"
      ]
    },
    {
      "cell_type": "markdown",
      "metadata": {
        "id": "Qwd_gGKp9RP0"
      },
      "source": [
        "### Como definir `classmethod`s e `staticmethod`s\n",
        "\n",
        "Os tipos de extensão podem definir métodos usando os decoradores `@classmethod` e `@staticmethod`. Por exemplo, o tipo `MaskedTensor` poderia definir um método de fábrica que mascare qualquer elemento com um determinado valor:"
      ]
    },
    {
      "cell_type": "code",
      "execution_count": null,
      "metadata": {
        "id": "BacCEJYU9sBR"
      },
      "outputs": [],
      "source": [
        "class MaskedTensor(tf.experimental.ExtensionType):\n",
        "  values: tf.Tensor\n",
        "  mask: tf.Tensor\n",
        "\n",
        "  def __repr__(self):\n",
        "    return masked_tensor_str(self.values, self.mask)\n",
        "\n",
        "  @staticmethod\n",
        "  def from_tensor_and_value_to_mask(values, value_to_mask):\n",
        "    return MaskedTensor(values, values != value_to_mask)\n",
        "\n",
        "x = tf.constant([[1, 0, 2], [3, 0, 0]])\n",
        "MaskedTensor.from_tensor_and_value_to_mask(x, 0)"
      ]
    },
    {
      "cell_type": "markdown",
      "metadata": {
        "id": "xIPf9PZX9AwL"
      },
      "source": [
        "### Como definir propriedades\n",
        "\n",
        "Os tipos de extensão podem definir propriedades usando o decorador `@property` como qualquer classe comum do Python. Por exemplo, o tipo `MaskedTensor` poderia definir uma propriedade `dtype` que seja uma propriedade abreviada para o  `dtype` dos valores:"
      ]
    },
    {
      "cell_type": "code",
      "execution_count": null,
      "metadata": {
        "id": "16E68wZ-9KXp"
      },
      "outputs": [],
      "source": [
        "class MaskedTensor(tf.experimental.ExtensionType):\n",
        "  values: tf.Tensor\n",
        "  mask: tf.Tensor\n",
        "\n",
        "  @property\n",
        "  def dtype(self):\n",
        "    return self.values.dtype\n",
        "\n",
        "MaskedTensor([1, 2, 3], [True, False, True]).dtype"
      ]
    },
    {
      "cell_type": "markdown",
      "metadata": {
        "id": "Mm5gxoG57nf3"
      },
      "source": [
        "### Como sobrescrever o construtor padrão\n",
        "\n",
        "É possível sobrescrever o construtor padrão dos tipos de extensão. Os construtores personalizados precisam definir um valor para cada campo declarado e, após o construtor personalizado retornar, todos os campos terão seu tipo verificado, e os valores serão convertidos conforme descrito acima."
      ]
    },
    {
      "cell_type": "code",
      "execution_count": null,
      "metadata": {
        "id": "-8K3KeB08G1S"
      },
      "outputs": [],
      "source": [
        "class Toy(tf.experimental.ExtensionType):\n",
        "  name: str\n",
        "  price: tf.Tensor\n",
        "  def __init__(self, name, price, discount=0):\n",
        "    self.name = name\n",
        "    self.price = price * (1 - discount)\n",
        "\n",
        "print(Toy(\"ball\", 5.0, discount=0.2))  # On sale -- 20% off!"
      ]
    },
    {
      "cell_type": "markdown",
      "metadata": {
        "id": "qyQxMlwLFQt7"
      },
      "source": [
        "Outra opção que você pode considerar é deixar o construtor padrão inalterado, mas adicionar um ou mais métodos de fábrica. Por exemplo:"
      ]
    },
    {
      "cell_type": "code",
      "execution_count": null,
      "metadata": {
        "id": "jiApK4hzFY89"
      },
      "outputs": [],
      "source": [
        "class Toy(tf.experimental.ExtensionType):\n",
        "  name: str\n",
        "  price: tf.Tensor\n",
        "\n",
        "  @staticmethod\n",
        "  def new_toy_with_discount(name, price, discount):\n",
        "    return Toy(name, price * (1 - discount))\n",
        "\n",
        "print(Toy.new_toy_with_discount(\"ball\", 5.0, discount=0.2))"
      ]
    },
    {
      "cell_type": "markdown",
      "metadata": {
        "id": "pdVcRBhG-Uee"
      },
      "source": [
        "### Como sobrescrever o operador de igualdade padrão (`__eq__`)\n",
        "\n",
        "É possível sobrescrever o operador padrão `__eq__` dos tipos de extensão. O exemplo abaixo atualiza `MaskedTensor` de modo a ignorar os elementos mascarados ao fazer a comparação de igualdade."
      ]
    },
    {
      "cell_type": "code",
      "execution_count": null,
      "metadata": {
        "id": "dA7DyjfB-Yz0"
      },
      "outputs": [],
      "source": [
        "class MaskedTensor(tf.experimental.ExtensionType):\n",
        "  values: tf.Tensor\n",
        "  mask: tf.Tensor\n",
        "\n",
        "  def __repr__(self):\n",
        "    return masked_tensor_str(self.values, self.mask)\n",
        "\n",
        "  def __eq__(self, other):\n",
        "    result = tf.math.equal(self.values, other.values)\n",
        "    result = result | ~(self.mask & other.mask)\n",
        "    return tf.reduce_all(result)\n",
        "\n",
        "x = MaskedTensor([1, 2, 3, 4], [True, True, False, True])\n",
        "y = MaskedTensor([5, 2, 0, 4], [False, True, False, True])\n",
        "print(x == y)"
      ]
    },
    {
      "cell_type": "markdown",
      "metadata": {
        "id": "n1mZ1Lkyi14B"
      },
      "source": [
        "**Observação:** geralmente, não é preciso sobrescrever `__ne__`, já que sua implementação padrão simplesmente chama `__eq__` e inverte o resultado."
      ]
    },
    {
      "cell_type": "markdown",
      "metadata": {
        "id": "A_Jib1SQD1-z"
      },
      "source": [
        "### Como usar referências posteriores\n",
        "\n",
        "Se o tipo de um campo ainda não tiver sido definido, você pode usar uma string contendo o nome do tipo. No exemplo abaixo, a string `\"Node\"` (nó) é usada para fazer uma anotação no campo `children` (filhos), pois o tipo  `Node` ainda não foi totalmente definido.\n"
      ]
    },
    {
      "cell_type": "code",
      "execution_count": null,
      "metadata": {
        "id": "_Z029QKED0Ao"
      },
      "outputs": [],
      "source": [
        "class Node(tf.experimental.ExtensionType):\n",
        "  value: tf.Tensor\n",
        "  children: Tuple[\"Node\", ...] = ()\n",
        "\n",
        "Node(3, [Node(5), Node(2)])"
      ]
    },
    {
      "cell_type": "markdown",
      "metadata": {
        "id": "boaNg1zHgoVn"
      },
      "source": [
        "### Como definir subclasses\n",
        "\n",
        "É possível criar subclasses dos tipos de extensão usando a sintaxe padrão do Python. As subclasses de tipos de extensão podem adicionar novos campos, métodos e propriedades; podem também sobrescrever o construtor, a representação que pode ser exibida via print e o operador de qualidade. O exemplo abaixo define uma classe `TensorGraph` básica que usa três campos `Tensor` para codificar um conjunto de bordas entre nós. Em seguida, define uma subclasse que adiciona um campo `Tensor` para registrar um \"valor de característica\" para cada nó. A subclasse também define um método para propagar os valores de características para as bordas."
      ]
    },
    {
      "cell_type": "code",
      "execution_count": null,
      "metadata": {
        "id": "58r6qRiK-uZh"
      },
      "outputs": [],
      "source": [
        "class TensorGraph(tf.experimental.ExtensionType):\n",
        "  num_nodes: tf.Tensor\n",
        "  edge_src: tf.Tensor   # edge_src[e] = index of src node for edge e.\n",
        "  edge_dst: tf.Tensor   # edge_dst[e] = index of dst node for edge e.\n",
        "\n",
        "class TensorGraphWithNodeFeature(TensorGraph):\n",
        "  node_features: tf.Tensor  # node_features[n] = feature value for node n.\n",
        "\n",
        "  def propagate_features(self, weight=1.0) -> 'TensorGraphWithNodeFeature':\n",
        "    updates = tf.gather(self.node_features, self.edge_src) * weight\n",
        "    new_node_features = tf.tensor_scatter_nd_add(\n",
        "        self.node_features, tf.expand_dims(self.edge_dst, 1), updates)\n",
        "    return TensorGraphWithNodeFeature(\n",
        "        self.num_nodes, self.edge_src, self.edge_dst, new_node_features)\n",
        "\n",
        "g = TensorGraphWithNodeFeature(  # Edges: 0->1, 4->3, 2->2, 2->1\n",
        "    num_nodes=5, edge_src=[0, 4, 2, 2], edge_dst=[1, 3, 2, 1],\n",
        "    node_features=[10.0, 0.0, 2.0, 5.0, -1.0, 0.0])\n",
        "\n",
        "print(\"Original features:\", g.node_features)\n",
        "print(\"After propagating:\", g.propagate_features().node_features)"
      ]
    },
    {
      "cell_type": "markdown",
      "metadata": {
        "id": "U_oElT5HzqSG"
      },
      "source": [
        "### Como definir campos privados\n",
        "\n",
        "Os campos de um tipo de extensão podem ser marcados como privados adicionando um sublinhado como prefixo (seguindo as convenções padrão do Python). Isso não impacta a forma como o TensorFlow trata os campos, apenas serve como um sinal para qualquer usuário do tipo da extensão de que esses campos são privados.\n"
      ]
    },
    {
      "cell_type": "markdown",
      "metadata": {
        "id": "oMdH7ORqh8Pl"
      },
      "source": [
        "### Personalização do `TypeSpec` de `ExtensionType`\n",
        "\n",
        "Cada classe `ExtensionType` tem uma classe `TypeSpec` correspondente, criada automaticamente e armazenada como `<extension_type_name>.Spec`. Confira mais informações na seção \"TypeSpec aninhado\" acima.\n",
        "\n",
        "Para personalizar o `TypeSpec`, basta definir sua própria classe aninhada chamada `Spec`, e `ExtensionType` vai usá-la como base para o `TypeSpec` construído automaticamente. Você pode personalizar a classe `Spec` ao:\n",
        "\n",
        "- Sobrescrever a representação padrão que pode ser exibida via print.\n",
        "- Sobrescrever o construtor padrão.\n",
        "- Definir métodos, `classmethod`s, `staticmethod`s e propriedades.\n",
        "\n",
        "O exemplo abaixo personaliza a classe `MaskedTensor.Spec` para facilitar o uso:"
      ]
    },
    {
      "cell_type": "code",
      "execution_count": null,
      "metadata": {
        "id": "Gm4RaqbkLlNG"
      },
      "outputs": [],
      "source": [
        "class MaskedTensor(tf.experimental.ExtensionType):\n",
        "  values: tf.Tensor\n",
        "  mask: tf.Tensor\n",
        "\n",
        "  shape = property(lambda self: self.values.shape)\n",
        "  dtype = property(lambda self: self.values.dtype)\n",
        "\n",
        "  def __repr__(self):\n",
        "    return masked_tensor_str(self.values, self.mask)\n",
        "\n",
        "  def with_values(self, new_values):\n",
        "    return MaskedTensor(new_values, self.mask)\n",
        "\n",
        "  class Spec:\n",
        "    def __init__(self, shape, dtype=tf.float32):\n",
        "      self.values = tf.TensorSpec(shape, dtype)\n",
        "      self.mask = tf.TensorSpec(shape, tf.bool)\n",
        "\n",
        "    def __repr__(self):\n",
        "      return f\"MaskedTensor.Spec(shape={self.shape}, dtype={self.dtype})\"\n",
        "\n",
        "    shape = property(lambda self: self.values.shape)\n",
        "    dtype = property(lambda self: self.values.dtype)"
      ]
    },
    {
      "cell_type": "markdown",
      "metadata": {
        "id": "s3zzUXPSNF72"
      },
      "source": [
        "**Observação**: a classe `Spec` personalizada não pode usar variáveis de instância que não tenham sido declaradas no `ExtensionType` original."
      ]
    },
    {
      "cell_type": "markdown",
      "metadata": {
        "id": "rip4GCuYPL7o"
      },
      "source": [
        "## Dispatch de API de tensor\n",
        "\n",
        "Os tipos de extensão podem ser do \"tipo tensor\", o que significa que podem especializar ou estender a interface definida pelo tipo `tf.Tensor`. Entre os exemplos desses tipos de extensão \"tipo tensor\" estão `RaggedTensor`, `SparseTensor` e `MaskedTensor`. ***Decoradores de dispatch*** podem ser usados para sobrescrever o comportamento padrão das operações do TensorFlow quando aplicados aos tipos de extensão \"tipo tensor\". Atualmente, o TensorFlow define três decoradores de dispatch:\n",
        "\n",
        "- `@tf.experimental.dispatch_for_api(tf_api)`\n",
        "- `@tf.experimental.dispatch_for_unary_elementwise_apis(x_type)`\n",
        "- `@tf.experimental.dispatch_for_binary_elementwise_apis(x_type, y_type)`"
      ]
    },
    {
      "cell_type": "markdown",
      "metadata": {
        "id": "5BTQHcY4gHwZ"
      },
      "source": [
        "### Dispatch para uma única API\n",
        "\n",
        "O decorador `tf.experimental.dispatch_for_api` sobrescreve o comportamento padrão de uma operação do TensorFlow especificada quando é chamado com a assinatura especificada. Por exemplo, é possível usar esse decorador para especificar como `tf.stack` deve processar os valores de `MaskedTensor`:"
      ]
    },
    {
      "cell_type": "code",
      "execution_count": null,
      "metadata": {
        "id": "B4QgO_fUW2o2"
      },
      "outputs": [],
      "source": [
        "@tf.experimental.dispatch_for_api(tf.stack)\n",
        "def masked_stack(values: List[MaskedTensor], axis = 0):\n",
        "  return MaskedTensor(tf.stack([v.values for v in values], axis),\n",
        "                      tf.stack([v.mask for v in values], axis))"
      ]
    },
    {
      "cell_type": "markdown",
      "metadata": {
        "id": "FxKcKWNUaLvm"
      },
      "source": [
        "Isso sobrescreve a implementação padrão de `tf.stack` sempre que é chamado com uma lista de valores de `MaskedTensor` (já que o argumento `values` tem a anotação `typing.List[MaskedTensor]`):"
      ]
    },
    {
      "cell_type": "code",
      "execution_count": null,
      "metadata": {
        "id": "RqpFjaAvaA19"
      },
      "outputs": [],
      "source": [
        "x = MaskedTensor([1, 2, 3], [True, True, False])\n",
        "y = MaskedTensor([4, 5, 6], [False, True, True])\n",
        "tf.stack([x, y])"
      ]
    },
    {
      "cell_type": "markdown",
      "metadata": {
        "id": "loGi8taCa265"
      },
      "source": [
        "Para permitir que `tf.stack` lide com listas de valores misturados de `MaskedTensor` e `Tensor`, você pode refinar a anotação de tipo do parâmetro `values` e atualizar o corpo da função:"
      ]
    },
    {
      "cell_type": "code",
      "execution_count": null,
      "metadata": {
        "id": "_xySkm0ganAI"
      },
      "outputs": [],
      "source": [
        "tf.experimental.unregister_dispatch_for(masked_stack)\n",
        "\n",
        "def convert_to_masked_tensor(x):\n",
        "  if isinstance(x, MaskedTensor):\n",
        "    return x\n",
        "  else:\n",
        "    return MaskedTensor(x, tf.ones_like(x, tf.bool))\n",
        "\n",
        "@tf.experimental.dispatch_for_api(tf.stack)\n",
        "def masked_stack_v2(values: List[Union[MaskedTensor, tf.Tensor]], axis = 0):\n",
        "  values = [convert_to_masked_tensor(v) for v in values]\n",
        "  return MaskedTensor(tf.stack([v.values for v in values], axis),\n",
        "                      tf.stack([v.mask for v in values], axis))\n",
        "x = MaskedTensor([1, 2, 3], [True, True, False])\n",
        "y = tf.constant([4, 5, 6])\n",
        "tf.stack([x, y, x])"
      ]
    },
    {
      "cell_type": "markdown",
      "metadata": {
        "id": "ITioFCyjQm8V"
      },
      "source": [
        "Confira uma lista de APIs que podem ser sobrescritas na documentação da API de `tf.experimental.dispatch_for_api`."
      ]
    },
    {
      "cell_type": "markdown",
      "metadata": {
        "id": "f91SaHSqc-jO"
      },
      "source": [
        "### Dispatch para todas as APIs elemento a elemento unárias\n",
        "\n",
        "O decorador `tf.experimental.dispatch_for_unary_elementwise_apis` sobrescreve o comportamento padrão de ***todas*** as operações elemento a elemento unárias (como `tf.math.cos`) sempre que o valor do primeiro argumento (geralmente chamado de `x`) corresponde à anotação de tipo `x_type`. A função decorada deve receber dois argumentos:\n",
        "\n",
        "- `api_func`: função que recebe um único parâmetro e faz a operação elemento a elemento (por exemplo, `tf.abs`).\n",
        "- `x`: primeiro argumento da operação elemento a elemento.\n",
        "\n",
        "O exemplo abaixo atualiza todas as operações elemento a elemento unárias de modo a lidarem com o tipo `MaskedTensor`:"
      ]
    },
    {
      "cell_type": "code",
      "execution_count": null,
      "metadata": {
        "id": "cv5fV4xxZI9q"
      },
      "outputs": [],
      "source": [
        " @tf.experimental.dispatch_for_unary_elementwise_apis(MaskedTensor)\n",
        " def masked_tensor_unary_elementwise_api_handler(api_func, x):\n",
        "   return MaskedTensor(api_func(x.values), x.mask)"
      ]
    },
    {
      "cell_type": "markdown",
      "metadata": {
        "id": "qiK4n6vaeFwo"
      },
      "source": [
        "Agora, essa função será usada sempre que uma operação elemento a elemento unária seja chamada em um `MaskedTensor`."
      ]
    },
    {
      "cell_type": "code",
      "execution_count": null,
      "metadata": {
        "id": "SkH0xi5gd_41"
      },
      "outputs": [],
      "source": [
        " x = MaskedTensor([1, -2, -3], [True, False, True])\n",
        " print(tf.abs(x))"
      ]
    },
    {
      "cell_type": "code",
      "execution_count": null,
      "metadata": {
        "id": "2Ej5fxLBfaXW"
      },
      "outputs": [],
      "source": [
        "print(tf.ones_like(x, dtype=tf.float32))"
      ]
    },
    {
      "cell_type": "markdown",
      "metadata": {
        "id": "Z9OgLyfEejqc"
      },
      "source": [
        "### Dispatch para todas as APIs elemento a elemento binárias\n",
        "\n",
        "De maneira similar, `tf.experimental.dispatch_for_binary_elementwise_apis` pode ser usado para atualizar todas as operações elemento a elemento binárias de modo a lidarem com o tipo `MaskedTensor`:\n"
      ]
    },
    {
      "cell_type": "code",
      "execution_count": null,
      "metadata": {
        "id": "Z8Du-GPofpCW"
      },
      "outputs": [],
      "source": [
        "@tf.experimental.dispatch_for_binary_elementwise_apis(MaskedTensor, MaskedTensor)\n",
        "def masked_tensor_binary_elementwise_api_handler(api_func, x, y):\n",
        "  return MaskedTensor(api_func(x.values, y.values), x.mask & y.mask)"
      ]
    },
    {
      "cell_type": "code",
      "execution_count": null,
      "metadata": {
        "id": "gghVHDfSfyi2"
      },
      "outputs": [],
      "source": [
        "x = MaskedTensor([1, -2, -3], [True, False, True])\n",
        "y = MaskedTensor([[4], [5]], [[True], [False]])\n",
        "tf.math.add(x, y)"
      ]
    },
    {
      "cell_type": "markdown",
      "metadata": {
        "id": "txTGg9pzG0Ux"
      },
      "source": [
        "Confira uma lista das APIs elemento a elemento que podem ser sobrescritas na documentação da API de `tf.experimental.dispatch_for_unary_elementwise_apis` e de `tf.experimental.dispatch_for_binary_elementwise_apis`."
      ]
    },
    {
      "cell_type": "markdown",
      "metadata": {
        "id": "UseRtohYKiE5"
      },
      "source": [
        "## `ExtensionType`s que podem ser divididos em lotes\n",
        "\n",
        "Um `ExtensionType` *pode ser dividido em lotes* se uma única instância puder ser usada para representar um lote de valores. Geralmente, é possível fazer isso adicionando dimensões de lote a todos os `Tensor`s aninhados. As APIs do TensorFlow abaixo exigem que qualquer entrada de tipo de extensão possa ser dividida em lotes:\n",
        "\n",
        "- `tf.data.Dataset` (`batch`, `unbatch`, `from_tensor_slices`)\n",
        "- `tf.keras` (`fit`, `evaluate`, `predict`)\n",
        "- `tf.map_fn`"
      ]
    },
    {
      "cell_type": "markdown",
      "metadata": {
        "id": "hWPauKGj_yRz"
      },
      "source": [
        "Por padrão, `BatchableExtensionType` cria valores em lotes fazendo a divisão em lotes de qualquer `Tensor`, `CompositeTensor` e `ExtensionType` aninhado. Se isso não for adequado para sua classe, você precisará usar `tf.experimental.ExtensionTypeBatchEncoder` para sobrescrever esse comportamento padrão. Por exemplo, não seria apropriado criar um lote de valores de `tf.SparseTensor` simplesmente empilhando os campos `values`, `indices` e `dense_shape` de tensores esparsos individuais. Na maioria dos casos, você não pode empilhar esses tensores, pois eles têm formatos incompatíveis e, mesmo se você pudesse, o resultado não seria um `SparseTensor` válido.\n",
        "\n",
        "**Observação**: os `BatchableExtensionType`s *não* definem automaticamente dispatchers para `tf.stack`, `tf.concat`, `tf.slice`, etc. Se a sua classe precisar ter suporte a essas APIs, use os decoradores de dispatch descritos acima."
      ]
    },
    {
      "cell_type": "markdown",
      "metadata": {
        "id": "xkOJ8ke8GH7s"
      },
      "source": [
        "### Exemplo de `BatchableExtensionType`: `Network`\n",
        "\n",
        "Como exemplo, considere uma classe `Network` usada para balanceamento de carga que monitore quanto trabalho falta fazer em cada nó e quanta largura de banda está disponível para movimentar entre os nós:"
      ]
    },
    {
      "cell_type": "code",
      "execution_count": null,
      "metadata": {
        "id": "tOeEXwCcfrPd"
      },
      "outputs": [],
      "source": [
        "class Network(tf.experimental.ExtensionType):  # This version is not batchable.\n",
        "  work: tf.Tensor       # work[n] = work left to do at node n\n",
        "  bandwidth: tf.Tensor  # bandwidth[n1, n2] = bandwidth from n1->n2\n",
        "\n",
        "net1 = Network([5., 3, 8], [[0., 2, 0], [2, 0, 3], [0, 3, 0]])\n",
        "net2 = Network([3., 4, 2], [[0., 2, 2], [2, 0, 2], [2, 2, 0]])"
      ]
    },
    {
      "cell_type": "markdown",
      "metadata": {
        "id": "PaOzUev6g3wT"
      },
      "source": [
        "Para que esse tipo possa ser dividido em lotes, altere o tipo base para `BatchableExtensionType` e ajuste o formato de cada campo de forma a incluir dimensões de lote opcionais. O exemplo abaixo também adiciona um campo `shape` para controlar o formato do lote. Esse campo `shape` não é exigido por `tf.data.Dataset` ou por `tf.map_fn`, mas *é* exigido por `tf.keras`."
      ]
    },
    {
      "cell_type": "code",
      "execution_count": null,
      "metadata": {
        "id": "T03WWBSMg2XC"
      },
      "outputs": [],
      "source": [
        "class Network(tf.experimental.BatchableExtensionType):\n",
        "  shape: tf.TensorShape  # batch shape. A single network has shape=[].\n",
        "  work: tf.Tensor        # work[*shape, n] = work left to do at node n\n",
        "  bandwidth: tf.Tensor   # bandwidth[*shape, n1, n2] = bandwidth from n1->n2\n",
        "\n",
        "  def __init__(self, work, bandwidth):\n",
        "    self.work = tf.convert_to_tensor(work)\n",
        "    self.bandwidth = tf.convert_to_tensor(bandwidth)\n",
        "    work_batch_shape = self.work.shape[:-1]\n",
        "    bandwidth_batch_shape = self.bandwidth.shape[:-2]\n",
        "    self.shape = work_batch_shape.merge_with(bandwidth_batch_shape)\n",
        "\n",
        "  def __repr__(self):\n",
        "    return network_repr(self)\n",
        "\n",
        "def network_repr(network):\n",
        "  work = network.work\n",
        "  bandwidth = network.bandwidth\n",
        "  if hasattr(work, 'numpy'):\n",
        "    work = ' '.join(str(work.numpy()).split())\n",
        "  if hasattr(bandwidth, 'numpy'):\n",
        "    bandwidth = ' '.join(str(bandwidth.numpy()).split())\n",
        "  return (f\"<Network shape={network.shape} work={work} bandwidth={bandwidth}>\")"
      ]
    },
    {
      "cell_type": "code",
      "execution_count": null,
      "metadata": {
        "id": "NUUJe9HuIPel"
      },
      "outputs": [],
      "source": [
        "net1 = Network([5., 3, 8], [[0., 2, 0], [2, 0, 3], [0, 3, 0]])\n",
        "net2 = Network([3., 4, 2], [[0., 2, 2], [2, 0, 2], [2, 2, 0]])\n",
        "batch_of_networks = Network(\n",
        "    work=tf.stack([net1.work, net2.work]),\n",
        "    bandwidth=tf.stack([net1.bandwidth, net2.bandwidth]))\n",
        "print(f\"net1={net1}\")\n",
        "print(f\"net2={net2}\")\n",
        "print(f\"batch={batch_of_networks}\")"
      ]
    },
    {
      "cell_type": "markdown",
      "metadata": {
        "id": "r0qWur5JGc3d"
      },
      "source": [
        "Em seguida, você pode usar `tf.data.Dataset` para fazer a iteração de um lote de redes:"
      ]
    },
    {
      "cell_type": "code",
      "execution_count": null,
      "metadata": {
        "id": "BN_kixAUFZtv"
      },
      "outputs": [],
      "source": [
        "dataset = tf.data.Dataset.from_tensor_slices(batch_of_networks)\n",
        "for i, network in enumerate(dataset):\n",
        "  print(f\"Batch element {i}: {network}\")"
      ]
    },
    {
      "cell_type": "markdown",
      "metadata": {
        "id": "aXENhTzIIjbM"
      },
      "source": [
        "E também pode usar `map_fn` para aplicar uma função a cada elemento dos lotes:"
      ]
    },
    {
      "cell_type": "code",
      "execution_count": null,
      "metadata": {
        "id": "j1XEsSWj9a3D"
      },
      "outputs": [],
      "source": [
        "def balance_work_greedy(network):\n",
        "  delta = (tf.expand_dims(network.work, -1) - tf.expand_dims(network.work, -2))\n",
        "  delta /= 4\n",
        "  delta = tf.maximum(tf.minimum(delta, network.bandwidth), -network.bandwidth)\n",
        "  new_work = network.work + tf.reduce_sum(delta, -1)\n",
        "  return Network(new_work, network.bandwidth)\n",
        "\n",
        "tf.map_fn(balance_work_greedy, batch_of_networks)"
      ]
    },
    {
      "cell_type": "markdown",
      "metadata": {
        "id": "f_HLsTT02Xul"
      },
      "source": [
        "## APIs do TensorFlow com suporte aos `ExtensionType`s"
      ]
    },
    {
      "cell_type": "markdown",
      "metadata": {
        "id": "NNiQad2U2alT"
      },
      "source": [
        "### @tf.function\n",
        "\n",
        "[`tf.function`](https://www.tensorflow.org/guide/function) é um decorador que pré-computa os grafos do TensorFlow para as funções em Python, o que pode melhorar significativamente o desempenho do seu código do TensorFlow. Os valores de tipo de extensão podem ser usados de maneira transparente com funções `@tf.function` decoradas."
      ]
    },
    {
      "cell_type": "code",
      "execution_count": null,
      "metadata": {
        "id": "jQ_rAvrA6qEb"
      },
      "outputs": [],
      "source": [
        "class Pastry(tf.experimental.ExtensionType):\n",
        "  sweetness: tf.Tensor  # 2d embedding that encodes sweetness\n",
        "  chewiness: tf.Tensor  # 2d embedding that encodes chewiness\n",
        "\n",
        "@tf.function\n",
        "def combine_pastry_features(x: Pastry):\n",
        "  return (x.sweetness + x.chewiness) / 2\n",
        "\n",
        "cookie = Pastry(sweetness=[1.2, 0.4], chewiness=[0.8, 0.2])\n",
        "combine_pastry_features(cookie)"
      ]
    },
    {
      "cell_type": "markdown",
      "metadata": {
        "id": "u1P-0Udg71Vx"
      },
      "source": [
        "Se você quiser especificar `input_signature` explicitamente para `tf.function`, pode fazer isso usando o `TypeSpec` do tipo de extensão."
      ]
    },
    {
      "cell_type": "code",
      "execution_count": null,
      "metadata": {
        "id": "0df90E4x78d7"
      },
      "outputs": [],
      "source": [
        "pastry_spec = Pastry.Spec(tf.TensorSpec([2]), tf.TensorSpec(2))\n",
        "\n",
        "@tf.function(input_signature=[pastry_spec])\n",
        "def increase_sweetness(x: Pastry, delta=1.0):\n",
        "  return Pastry(x.sweetness + delta, x.chewiness)\n",
        "\n",
        "increase_sweetness(cookie)"
      ]
    },
    {
      "cell_type": "markdown",
      "metadata": {
        "id": "CdTfc5nD9JpD"
      },
      "source": [
        "#### Funções concretas\n",
        "\n",
        "As funções concretas encapsulam os grafos traçados individuais que são criados por `tf.function`. Os tipos de extensão podem ser usados de maneira transparente com funções concretas.\n"
      ]
    },
    {
      "cell_type": "code",
      "execution_count": null,
      "metadata": {
        "id": "FyHBBQWk9xz2"
      },
      "outputs": [],
      "source": [
        "cf = combine_pastry_features.get_concrete_function(pastry_spec)\n",
        "cf(cookie)"
      ]
    },
    {
      "cell_type": "markdown",
      "metadata": {
        "id": "LYas8gtG5IMA"
      },
      "source": [
        "### Operações de fluxo de controle\n",
        "\n",
        "As operações de fluxo de controle do TensorFlow têm suporte aos tipos de extensão:\n",
        "\n",
        "- `tf.cond`\n",
        "- `tf.case`\n",
        "- `tf.while_loop`\n",
        "- `tf.identity`\n"
      ]
    },
    {
      "cell_type": "code",
      "execution_count": null,
      "metadata": {
        "id": "6G2XE9ZtJu8z"
      },
      "outputs": [],
      "source": [
        "# Example: using tf.cond to select between two MaskedTensors. Note that the\n",
        "# two MaskedTensors don't need to have the same shape.\n",
        "a = MaskedTensor([1., 2, 3], [True, False, True])\n",
        "b = MaskedTensor([22., 33, 108, 55], [True, True, True, False])\n",
        "condition = tf.constant(True)\n",
        "print(tf.cond(condition, lambda: a, lambda: b))"
      ]
    },
    {
      "cell_type": "code",
      "execution_count": null,
      "metadata": {
        "id": "2NwLOw1kKSek"
      },
      "outputs": [],
      "source": [
        "# Example: using tf.while_loop with MaskedTensor.\n",
        "cond = lambda i, _: i < 10\n",
        "def body(i, mt):\n",
        "  return i + 1, mt.with_values(mt.values + 3 / 7)\n",
        "print(tf.while_loop(cond, body, [0, b])[1])"
      ]
    },
    {
      "cell_type": "markdown",
      "metadata": {
        "id": "zkN7IuWVMRzn"
      },
      "source": [
        "### Fluxo de controle do Autograph\n",
        "\n",
        "As declarações de fluxo de controle em `tf.function` também têm suporte aos tipos de extensão (usando o Autograph). No exemplo abaixo, a declaração `if` e as declarações `for` são convertidas automaticamente em operações `tf.cond` e `tf.while_loop`, que têm suporte aos tipos de extensão."
      ]
    },
    {
      "cell_type": "code",
      "execution_count": null,
      "metadata": {
        "id": "4RFySEl8gZ8w"
      },
      "outputs": [],
      "source": [
        "@tf.function\n",
        "def fn(x, b):\n",
        "  if b:\n",
        "    x = MaskedTensor(x, tf.less(x, 0))\n",
        "  else:\n",
        "    x = MaskedTensor(x, tf.greater(x, 0))\n",
        "  for i in tf.range(5 if b else 7):\n",
        "    x = x.with_values(x.values + 1 / 2)\n",
        "  return x\n",
        "\n",
        "print(fn(tf.constant([1., -2, 3]), tf.constant(True)))\n",
        "print(fn(tf.constant([1., -2, 3]), tf.constant(False)))"
      ]
    },
    {
      "cell_type": "markdown",
      "metadata": {
        "id": "-FjZt2ohfja4"
      },
      "source": [
        "### Keras\n",
        "\n",
        "[tf.keras](https://www.tensorflow.org/guide/keras) é a API de alto nível do TensorFlow para criar e treinar modelos de aprendizado profundo. Os tipos de extensão podem ser passados como entradas para um modelo do Keras, passados entre camadas do Keras e retornados por modelos do Keras. Atualmente, o Keras tem dois requisitos para os tipos de extensão:\n",
        "\n",
        "- Eles precisam poder ser transformados em lotes (confira a seção \"`ExtensionType`s que podem ser divididos em lote\" acima).\n",
        "- Eles precisam ter um campo ou propriedade chamado `shape`. Pressupõe-se que `shape[0]` seja a dimensão de lote.\n",
        "\n",
        "As duas subseções abaixo fornecem exemplos que mostram como os tipos de extensão podem ser usados com o Keras.\n"
      ]
    },
    {
      "cell_type": "markdown",
      "metadata": {
        "id": "QH1TXQYiGv8u"
      },
      "source": [
        "#### Exemplo do Keras: `Network`\n",
        "\n",
        "No primeiro exemplo, considere a classe `Network` (Rede) definida na seção \"`ExtensionType`s que podem ser divididos em lotes\" acima, que pode ser usada para balanceamento de carga de trabalho entre nós. Repetimos a definição da classe aqui:"
      ]
    },
    {
      "cell_type": "code",
      "execution_count": null,
      "metadata": {
        "id": "zHj1RIS2PK50"
      },
      "outputs": [],
      "source": [
        "class Network(tf.experimental.BatchableExtensionType):\n",
        "  shape: tf.TensorShape  # batch shape. A single network has shape=[].\n",
        "  work: tf.Tensor        # work[*shape, n] = work left to do at node n\n",
        "  bandwidth: tf.Tensor   # bandwidth[*shape, n1, n2] = bandwidth from n1->n2\n",
        "\n",
        "  def __init__(self, work, bandwidth):\n",
        "    self.work = tf.convert_to_tensor(work)\n",
        "    self.bandwidth = tf.convert_to_tensor(bandwidth)\n",
        "    work_batch_shape = self.work.shape[:-1]\n",
        "    bandwidth_batch_shape = self.bandwidth.shape[:-2]\n",
        "    self.shape = work_batch_shape.merge_with(bandwidth_batch_shape)\n",
        "\n",
        "  def __repr__(self):\n",
        "    return network_repr(self)"
      ]
    },
    {
      "cell_type": "code",
      "execution_count": null,
      "metadata": {
        "id": "w9LPTEVJD0FD"
      },
      "outputs": [],
      "source": [
        "single_network = Network(  # A single network with 4 nodes.\n",
        "    work=[8.0, 5, 12, 2],\n",
        "    bandwidth=[[0.0, 1, 2, 2], [1, 0, 0, 2], [2, 0, 0, 1], [2, 2, 1, 0]])\n",
        "\n",
        "batch_of_networks = Network(  # Batch of 2 networks, each w/ 2 nodes.\n",
        "    work=[[8.0, 5], [3, 2]],\n",
        "    bandwidth=[[[0.0, 1], [1, 0]], [[0, 2], [2, 0]]])"
      ]
    },
    {
      "cell_type": "markdown",
      "metadata": {
        "id": "IUfWi3SDD0dj"
      },
      "source": [
        "Você pode definir uma nova camada do Keras que processe `Network`s."
      ]
    },
    {
      "cell_type": "code",
      "execution_count": null,
      "metadata": {
        "id": "2WSYt58r4SF1"
      },
      "outputs": [],
      "source": [
        "class BalanceNetworkLayer(tf.keras.layers.Layer):\n",
        "  \"\"\"Layer that balances work between nodes in a network.\n",
        "\n",
        "  Shifts work from more busy nodes to less busy nodes, constrained by bandwidth.\n",
        "  \"\"\"\n",
        "  def call(self, inputs):\n",
        "    # This function is defined above in the \"Batchable `ExtensionType`s\" section.\n",
        "    return balance_work_greedy(inputs)"
      ]
    },
    {
      "cell_type": "markdown",
      "metadata": {
        "id": "VWwFJNb1E03q"
      },
      "source": [
        "Em seguida, você pode usar essas camadas para criar um modelo simples. Para alimentar um `ExtensionType` em um modelo, você pode usar uma camada `tf.keras.layer.Input` com `type_spec` definido como o `TypeSpec` do tipo de extensão. Se o modelo do Keras for usado para processar lotes, então `type_spec` precisa incluir a dimensão de lote."
      ]
    },
    {
      "cell_type": "code",
      "execution_count": null,
      "metadata": {
        "id": "plTyqISRExA4"
      },
      "outputs": [],
      "source": [
        "input_spec = Network.Spec(shape=None,\n",
        "                          work=tf.TensorSpec(None, tf.float32),\n",
        "                          bandwidth=tf.TensorSpec(None, tf.float32))\n",
        "model = tf.keras.Sequential([\n",
        "    tf.keras.layers.Input(type_spec=input_spec),\n",
        "    BalanceNetworkLayer(),\n",
        "    ])"
      ]
    },
    {
      "cell_type": "markdown",
      "metadata": {
        "id": "hyeAbt1WFIiO"
      },
      "source": [
        "Por fim, você pode aplicar o modelo a uma única rede e a um lote de redes."
      ]
    },
    {
      "cell_type": "code",
      "execution_count": null,
      "metadata": {
        "id": "hH1EtA5lFHdN"
      },
      "outputs": [],
      "source": [
        "model(single_network)"
      ]
    },
    {
      "cell_type": "code",
      "execution_count": null,
      "metadata": {
        "id": "V7eM67M7FYYM"
      },
      "outputs": [],
      "source": [
        "model(batch_of_networks)"
      ]
    },
    {
      "cell_type": "markdown",
      "metadata": {
        "id": "tOxtt9Z1HDCv"
      },
      "source": [
        "#### Exemplo do Keras: MaskedTensor\n",
        "\n",
        "Neste exemplo, `MaskedTensor` é estendido para ter suporte ao `Keras`. `shape` é definido como uma propriedade calculada a partir do campo `values`. O Keras exige que você adicione essa propriedade tanto ao tipo de extensão quanto ao seu `TypeSpec`. `MaskedTensor` também define uma variável `__name__`, que será exigida para a serialização do `SavedModel` (abaixo)."
      ]
    },
    {
      "cell_type": "code",
      "execution_count": null,
      "metadata": {
        "id": "1JBZ_t48Ht7e"
      },
      "outputs": [],
      "source": [
        "class MaskedTensor(tf.experimental.BatchableExtensionType):\n",
        "  # __name__ is required for serialization in SavedModel; see below for details.\n",
        "  __name__ = 'extension_type_colab.MaskedTensor'\n",
        "\n",
        "  values: tf.Tensor\n",
        "  mask: tf.Tensor\n",
        "\n",
        "  shape = property(lambda self: self.values.shape)\n",
        "  dtype = property(lambda self: self.values.dtype)\n",
        "\n",
        "  def with_default(self, default):\n",
        "    return tf.where(self.mask, self.values, default)\n",
        "\n",
        "  def __repr__(self):\n",
        "    return masked_tensor_str(self.values, self.mask)\n",
        "\n",
        "  class Spec:\n",
        "    def __init__(self, shape, dtype=tf.float32):\n",
        "      self.values = tf.TensorSpec(shape, dtype)\n",
        "      self.mask = tf.TensorSpec(shape, tf.bool)\n",
        "\n",
        "    shape = property(lambda self: self.values.shape)\n",
        "    dtype = property(lambda self: self.values.dtype)\n",
        "\n",
        "    def with_shape(self):\n",
        "      return MaskedTensor.Spec(tf.TensorSpec(shape, self.values.dtype),\n",
        "                               tf.TensorSpec(shape, self.mask.dtype))"
      ]
    },
    {
      "cell_type": "markdown",
      "metadata": {
        "id": "oer8BVc8H7_V"
      },
      "source": [
        "Em seguida, os decoradores de dispatch são usados para sobrescrever o comportamento padrão de diversas APIs do TensorFlow. Como essas APIs são usadas por camadas padrão do Keras (como a camada `Dense`), sobrescrevê-la permitirá que usemos essas camadas com `MaskedTensor`. Para a finalidade deste exemplo, o `matmul` para os tensores mascarados é definido de forma a tratar os valores mascarados como zero (isto é, eles não são incluídos no produto)."
      ]
    },
    {
      "cell_type": "code",
      "execution_count": null,
      "metadata": {
        "id": "xy0dhQ_b-ca_"
      },
      "outputs": [],
      "source": [
        "@tf.experimental.dispatch_for_unary_elementwise_apis(MaskedTensor)\n",
        "def unary_elementwise_op_handler(op, x):\n",
        " return MaskedTensor(op(x.values), x.mask)\n",
        "\n",
        "@tf.experimental.dispatch_for_binary_elementwise_apis(\n",
        "    Union[MaskedTensor, tf.Tensor],\n",
        "    Union[MaskedTensor, tf.Tensor])\n",
        "def binary_elementwise_op_handler(op, x, y):\n",
        "  x = convert_to_masked_tensor(x)\n",
        "  y = convert_to_masked_tensor(y)\n",
        "  return MaskedTensor(op(x.values, y.values), x.mask & y.mask)\n",
        "\n",
        "@tf.experimental.dispatch_for_api(tf.matmul)\n",
        "def masked_matmul(a: MaskedTensor, b,\n",
        "                  transpose_a=False, transpose_b=False,\n",
        "                  adjoint_a=False, adjoint_b=False,\n",
        "                  a_is_sparse=False, b_is_sparse=False,\n",
        "                  output_type=None):\n",
        "  if isinstance(a, MaskedTensor):\n",
        "    a = a.with_default(0)\n",
        "  if isinstance(b, MaskedTensor):\n",
        "    b = b.with_default(0)\n",
        "  return tf.matmul(a, b, transpose_a, transpose_b, adjoint_a,\n",
        "                   adjoint_b, a_is_sparse, b_is_sparse, output_type)"
      ]
    },
    {
      "cell_type": "markdown",
      "metadata": {
        "id": "osJ_L-fKJusI"
      },
      "source": [
        "Em seguida, você pode criar um modelo do Keras que aceite `MaskedTensor` como entrada usando as camadas padrão do Keras:"
      ]
    },
    {
      "cell_type": "code",
      "execution_count": null,
      "metadata": {
        "id": "IS6JCVbk1rd0"
      },
      "outputs": [],
      "source": [
        "input_spec = MaskedTensor.Spec([None, 2], tf.float32)\n",
        "\n",
        "masked_tensor_model = tf.keras.Sequential([\n",
        "    tf.keras.layers.Input(type_spec=input_spec),\n",
        "    tf.keras.layers.Dense(16, activation=\"relu\"),\n",
        "    tf.keras.layers.Dense(1)])\n",
        "masked_tensor_model.compile(loss='binary_crossentropy', optimizer='rmsprop')"
      ]
    },
    {
      "cell_type": "code",
      "execution_count": null,
      "metadata": {
        "id": "SB1WUSzn1RPj"
      },
      "outputs": [],
      "source": [
        "a = MaskedTensor([[1., 2], [3, 4], [5, 6]],\n",
        "                  [[True, False], [False, True], [True, True]])\n",
        "masked_tensor_model.fit(a, tf.constant([[1], [0], [1]]), epochs=3)\n",
        "print(masked_tensor_model(a))"
      ]
    },
    {
      "cell_type": "markdown",
      "metadata": {
        "id": "msmd9XcL2bqb"
      },
      "source": [
        "### SavedModel\n",
        "\n",
        "Um [SavedModel](https://www.tensorflow.org/guide/saved_model) é um programa do TensorFlow serializado, incluindo tanto os pesos quanto a computação. Ele pode ser criado a partir de um modelo do Keras ou de um modelo personalizado. Nos dois casos, os tipos de extensão podem ser usados de maneira transparente com as funções e os métodos definidos por um SavedModel.\n",
        "\n",
        "O SavedModel pode salvar modelos, camadas e funções que processem tipos de extensão, desde que os tipos de extensão tenham um `__name__`. Esse nome é usado para registrar o tipo de extensão para que ele possa ser localizado quando o modelo for carregado."
      ]
    },
    {
      "cell_type": "markdown",
      "metadata": {
        "id": "PEtbFrz6-Vku"
      },
      "source": [
        "#### Exemplo: salvando um modelo do Keras\n",
        "\n",
        "Os modelos do Keras que usam tipos de extensão podem ser salvos utilizando-se `SavedModel`."
      ]
    },
    {
      "cell_type": "code",
      "execution_count": null,
      "metadata": {
        "id": "ecxQMnybSzV6"
      },
      "outputs": [],
      "source": [
        "masked_tensor_model_path = tempfile.mkdtemp()\n",
        "tf.saved_model.save(masked_tensor_model, masked_tensor_model_path)\n",
        "imported_model = tf.saved_model.load(masked_tensor_model_path)\n",
        "imported_model(a)"
      ]
    },
    {
      "cell_type": "markdown",
      "metadata": {
        "id": "Ne2nu3r6-XMr"
      },
      "source": [
        "#### Exemplo: salvando um modelo personalizado\n",
        "\n",
        "O SavedModel também pode ser usado para salvar subclasses `tf.Module` personalizadas com funções que processem tipos de extensão."
      ]
    },
    {
      "cell_type": "code",
      "execution_count": null,
      "metadata": {
        "id": "2V6hV3yOT2vz"
      },
      "outputs": [],
      "source": [
        "class CustomModule(tf.Module):\n",
        "  def __init__(self, variable_value):\n",
        "    super().__init__()\n",
        "    self.v = tf.Variable(variable_value)\n",
        "\n",
        "  @tf.function\n",
        "  def grow(self, x: MaskedTensor):\n",
        "    \"\"\"Increase values in `x` by multiplying them by `self.v`.\"\"\"\n",
        "    return MaskedTensor(x.values * self.v, x.mask)\n",
        "\n",
        "module = CustomModule(100.0)\n",
        "\n",
        "module.grow.get_concrete_function(MaskedTensor.Spec(shape=None,\n",
        "                                                    dtype=tf.float32))\n",
        "custom_module_path = tempfile.mkdtemp()\n",
        "tf.saved_model.save(module, custom_module_path)\n",
        "imported_model = tf.saved_model.load(custom_module_path)\n",
        "imported_model.grow(MaskedTensor([1., 2, 3], [False, True, False]))"
      ]
    },
    {
      "cell_type": "markdown",
      "metadata": {
        "id": "o6beljh576ee"
      },
      "source": [
        "#### Como carregar um SavedModel quando o `ExtensionType` estiver indisponível\n",
        "\n",
        "Se você carregar um `SavedModel` que use um `ExtensionType`, mas esse `ExtensionType` não estiver disponível (ou seja, não foi importado), será exibido um aviso, e o TensorFlow usará um objeto de \"tipo de extensão anônimo\". Esse objeto terá os mesmos campos que o tipo original, mas não terá qualquer outra personalização que você tenha adicionado ao tipo, como métodos ou propriedades personalizados."
      ]
    },
    {
      "cell_type": "markdown",
      "metadata": {
        "id": "ec9PcUkJ9bFK"
      },
      "source": [
        "#### Como usar `ExtensionType`s com o TensorFlow Serving\n",
        "\n",
        "No momento, o [TensorFlow Serving](https://www.tensorflow.org/tfx/guide/serving) (e todos os outros consumidores do dicionário de \"assinaturas\" do SavedModel) exigem que todas as entradas e saídas sejam tensores brutos. Se você quiser usar o TensorFlow Serving com um modelo que tenha tipos de extensão, pode adicionar métodos encapsuladores que façam a composição ou decomposição dos valores de tipo de extensão dos tensores. Por exemplo:"
      ]
    },
    {
      "cell_type": "code",
      "execution_count": null,
      "metadata": {
        "id": "4VnzAwVo9tTc"
      },
      "outputs": [],
      "source": [
        "class CustomModuleWrapper(tf.Module):\n",
        "  def __init__(self, variable_value):\n",
        "    super().__init__()\n",
        "    self.v = tf.Variable(variable_value)\n",
        "\n",
        "  @tf.function\n",
        "  def var_weighted_mean(self, x: MaskedTensor):\n",
        "    \"\"\"Mean value of unmasked values in x, weighted by self.v.\"\"\"\n",
        "    x = MaskedTensor(x.values * self.v, x.mask)\n",
        "    return (tf.reduce_sum(x.with_default(0)) /\n",
        "            tf.reduce_sum(tf.cast(x.mask, x.dtype)))\n",
        "\n",
        "  @tf.function()\n",
        "  def var_weighted_mean_wrapper(self, x_values, x_mask):\n",
        "    \"\"\"Raw tensor wrapper for var_weighted_mean.\"\"\"\n",
        "    return self.var_weighted_mean(MaskedTensor(x_values, x_mask))\n",
        "\n",
        "module = CustomModuleWrapper([3., 2., 8., 5.])\n",
        "\n",
        "module.var_weighted_mean_wrapper.get_concrete_function(\n",
        "    tf.TensorSpec(None, tf.float32), tf.TensorSpec(None, tf.bool))\n",
        "custom_module_path = tempfile.mkdtemp()\n",
        "tf.saved_model.save(module, custom_module_path)\n",
        "imported_model = tf.saved_model.load(custom_module_path)\n",
        "x = MaskedTensor([1., 2., 3., 4.], [False, True, False, True])\n",
        "imported_model.var_weighted_mean_wrapper(x.values, x.mask)"
      ]
    },
    {
      "cell_type": "markdown",
      "metadata": {
        "id": "4dwBadWQ5G9_"
      },
      "source": [
        "### `Dataset`s\n",
        "\n",
        "[`tf.data`](https://www.tensorflow.org/guide/data) é uma API que permite criar pipelines de entrada complexos a partir de partes simples e reutilizáveis. A estrutura de dados principal é `tf.data.Dataset`, que representa uma sequência de elementos, onde cada um consiste em um ou mais componentes."
      ]
    },
    {
      "cell_type": "markdown",
      "metadata": {
        "id": "GcIR19FuwRJV"
      },
      "source": [
        "#### Como criar `Dataset`s com tipos de extensão\n",
        "\n",
        "É possível criar datasets usando valores de tipo de extensão usando `Dataset.from_tensors`, `Dataset.from_tensor_slices` ou `Dataset.from_generator`:"
      ]
    },
    {
      "cell_type": "code",
      "execution_count": null,
      "metadata": {
        "id": "Oe7fRCkzwdub"
      },
      "outputs": [],
      "source": [
        "ds = tf.data.Dataset.from_tensors(Pastry(5, 5))\n",
        "iter(ds).next()"
      ]
    },
    {
      "cell_type": "code",
      "execution_count": null,
      "metadata": {
        "id": "fk9CD2fZx6yT"
      },
      "outputs": [],
      "source": [
        "mt = MaskedTensor(tf.reshape(range(20), [5, 4]), tf.ones([5, 4]))\n",
        "ds = tf.data.Dataset.from_tensor_slices(mt)\n",
        "for value in ds:\n",
        "  print(value)"
      ]
    },
    {
      "cell_type": "code",
      "execution_count": null,
      "metadata": {
        "id": "DGw8y87awsOJ"
      },
      "outputs": [],
      "source": [
        "def value_gen():\n",
        "  for i in range(2, 7):\n",
        "    yield MaskedTensor(range(10), [j%i != 0 for j in range(10)])\n",
        "\n",
        "ds = tf.data.Dataset.from_generator(\n",
        "    value_gen, output_signature=MaskedTensor.Spec(shape=[10], dtype=tf.int32))\n",
        "for value in ds:\n",
        "  print(value)"
      ]
    },
    {
      "cell_type": "markdown",
      "metadata": {
        "id": "wfEm4NInyqtj"
      },
      "source": [
        "#### Como criar e separar lotes de `Dataset`s com tipos de extensão\n",
        "\n",
        "É possível criar e separar lotes de datasets com tipos de extensão usando `Dataset.batch` e `Dataset.unbatch`."
      ]
    },
    {
      "cell_type": "code",
      "execution_count": null,
      "metadata": {
        "id": "snoOUE1ay1rO"
      },
      "outputs": [],
      "source": [
        "batched_ds = ds.batch(2)\n",
        "for value in batched_ds:\n",
        "  print(value)"
      ]
    },
    {
      "cell_type": "code",
      "execution_count": null,
      "metadata": {
        "id": "f8PTky6EzBVY"
      },
      "outputs": [],
      "source": [
        "unbatched_ds = batched_ds.unbatch()\n",
        "for value in unbatched_ds:\n",
        "  print(value)"
      ]
    }
  ],
  "metadata": {
    "colab": {
      "collapsed_sections": [],
      "name": "extension_type.ipynb",
      "toc_visible": true
    },
    "kernelspec": {
      "display_name": "Python 3",
      "name": "python3"
    }
  },
  "nbformat": 4,
  "nbformat_minor": 0
}
