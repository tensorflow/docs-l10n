{
  "cells": [
    {
      "cell_type": "markdown",
      "metadata": {
        "id": "Tce3stUlHN0L"
      },
      "source": [
        "##### Copyright 2019 The TensorFlow Authors."
      ]
    },
    {
      "cell_type": "code",
      "execution_count": null,
      "metadata": {
        "cellView": "form",
        "id": "tuOe1ymfHZPu"
      },
      "outputs": [],
      "source": [
        "#@title Licensed under the Apache License, Version 2.0 (the \"License\");\n",
        "# you may not use this file except in compliance with the License.\n",
        "# You may obtain a copy of the License at\n",
        "#\n",
        "# https://www.apache.org/licenses/LICENSE-2.0\n",
        "#\n",
        "# Unless required by applicable law or agreed to in writing, software\n",
        "# distributed under the License is distributed on an \"AS IS\" BASIS,\n",
        "# WITHOUT WARRANTIES OR CONDITIONS OF ANY KIND, either express or implied.\n",
        "# See the License for the specific language governing permissions and\n",
        "# limitations under the License."
      ]
    },
    {
      "cell_type": "markdown",
      "metadata": {
        "id": "qFdPvlXBOdUN"
      },
      "source": [
        "# Estimadores"
      ]
    },
    {
      "cell_type": "markdown",
      "metadata": {
        "id": "MfBg1C5NB3X0"
      },
      "source": [
        "<table class=\"tfo-notebook-buttons\" align=\"left\">\n",
        "  <td>     <a target=\"_blank\" href=\"https://www.tensorflow.org/guide/estimator\"><img src=\"https://www.tensorflow.org/images/tf_logo_32px.png\">Ver em TensorFlow.org</a>\n",
        "</td>\n",
        "  <td>     <a target=\"_blank\" href=\"https://colab.research.google.com/github/tensorflow/docs-l10n/blob/master/site/pt-br/guide/estimator.ipynb\"><img src=\"https://www.tensorflow.org/images/colab_logo_32px.png\">Executar no Google Colab</a>\n",
        "</td>\n",
        "  <td>     <a target=\"_blank\" href=\"https://github.com/tensorflow/docs-l10n/blob/master/site/pt-br/guide/estimator.ipynb\"><img src=\"https://www.tensorflow.org/images/GitHub-Mark-32px.png\">Ver fonte no GitHub</a>\n",
        "</td>\n",
        "  <td>     <a href=\"https://storage.googleapis.com/tensorflow_docs/docs-l10n/site/pt-br/guide/estimator.ipynb\"><img src=\"https://www.tensorflow.org/images/download_logo_32px.png\">Baixar notebook</a>\n",
        "</td>\n",
        "</table>"
      ]
    },
    {
      "cell_type": "markdown",
      "metadata": {
        "id": "rILQuAiiRlI7"
      },
      "source": [
        "> Aviso: os Estimadores são recomendados para novos códigos. Os Estimadores executam código `v1.Session`, que é mais difícil de escrever corretamente e pode se comportar se forma inesperada, ainda mais quando usado em conjunto com código do TF 2. Os Estimators são abarcados pelas [garantias de compatibilidade](https://tensorflow.org/guide/versions), mas não recebem mais correções, exceto para vulnerabilidades de segurança. Confira mais detalhes no [guia de migração](https://tensorflow.org/guide/migrate)."
      ]
    },
    {
      "cell_type": "markdown",
      "metadata": {
        "id": "oEinLJt2Uowq"
      },
      "source": [
        "Este documento apresenta o `tf.estimator`, uma API de alto nível do TensorFlow. Os Estimadores encapsulam as seguintes ações:\n",
        "\n",
        "- Treinamento\n",
        "- Avaliação\n",
        "- Previsão\n",
        "- Exportação para serviço\n",
        "\n",
        "O TensorFlow implementa diversos Estimadores pré-criados. Ainda há suporte a Estimators personalizados, mas principalmente por questões de compatibilidade legada. **Os Estimadores personalizados não devem ser usados para novos códigos**. Todos os Estimadores, sejam pré-criados ou personalizados, são classes baseadas na classe `tf.estimator.Estimator`.\n",
        "\n",
        "Veja um exemplo rápido nos [tutoriais sobre Estimadores](../tutorials/estimator/linear.ipynb). Confira uma visão geral do design da API neste [artigo técnico](https://arxiv.org/abs/1708.02637)."
      ]
    },
    {
      "cell_type": "markdown",
      "metadata": {
        "id": "KLdnqg4G2bmz"
      },
      "source": [
        "## Configuração"
      ]
    },
    {
      "cell_type": "code",
      "execution_count": null,
      "metadata": {
        "id": "cXRQ6mRM5gk0"
      },
      "outputs": [],
      "source": [
        "!pip install -U tensorflow_datasets"
      ]
    },
    {
      "cell_type": "code",
      "execution_count": null,
      "metadata": {
        "id": "J_-C9ty22dkD"
      },
      "outputs": [],
      "source": [
        "import tempfile\n",
        "import os\n",
        "\n",
        "import tensorflow as tf\n",
        "import tensorflow_datasets as tfds"
      ]
    },
    {
      "cell_type": "markdown",
      "metadata": {
        "id": "Wg5zbBliQvNL"
      },
      "source": [
        "## Vantagens\n",
        "\n",
        "Similar a `tf.keras.Model`, um `estimator` é uma abstração de modelo. `tf.estimator` conta com recursos ainda em desenvolvimento para `tf.keras`, que são:\n",
        "\n",
        "- Treinamento baseado em servidor de parâmetros\n",
        "- Integração total com o [TFX](http://tensorflow.org/tfx)"
      ]
    },
    {
      "cell_type": "markdown",
      "metadata": {
        "id": "yQ8fQYt_VD5E"
      },
      "source": [
        "## Funcionalidades dos Estimadores\n",
        "\n",
        "Os Estimadores proporcionam os seguintes benefícios:\n",
        "\n",
        "- É possível executar modelos baseados em Estimadores em um host local ou em um ambiente distribuído com vários servidores sem alterar seu modelo. Além disso, é possível executar modelos baseados em Estimadores em CPUs, GPUs ou TPUs sem alterar o código do seu modelo.\n",
        "- Os Estimadores oferecem um loop de treinamento distribuído seguro que controla como e quando:\n",
        "    - Carregar dados\n",
        "    - Tratar exceções\n",
        "    - Criar arquivos de checkpoint e recuperar-se de falhas\n",
        "    - Salvar resumos para o TensorBoard\n",
        "\n",
        "Ao escrever uma aplicação com Estimadores, você precisa separar o pipeline de entrada de dados e o modelo. Essa separação simplifica os experimentos com datasets diferentes."
      ]
    },
    {
      "cell_type": "markdown",
      "metadata": {
        "id": "jQ2PsufpgIpM"
      },
      "source": [
        "## Uso de Estimadores pré-criados\n",
        "\n",
        "Com os Estimadores pré-criados, você pode trabalhar em um nível conceitual muito maior do que ao trabalhar com as APIs base do TensorFlow. Você não precisa mais se preocupar com a criação do grafo computacional ou de sessões, pois os Estimadores tratam esses detalhes internos para você. Além disso, com os Estimadores pré-criados, você pode usar diferentes arquiteturas de modelo fazendo apenas mudanças mínimas no código. Por exemplo, `tf.estimator.DNNClassifier` é uma classe de Estimador pré-criada que treina modelos de classificação baseados em redes neurais densas com alimentação para frente.\n",
        "\n",
        "Tipicamente, um programa do TensorFlow que use um Estimador pré-criado consiste das quatro etapas abaixo:"
      ]
    },
    {
      "cell_type": "markdown",
      "metadata": {
        "id": "mIJPPe26gQpF"
      },
      "source": [
        "### 1. Escreva funções de entrada\n",
        "\n",
        "Por exemplo, você poderia criar uma função para importar o conjunto de treinamento e outra para importar o conjunto de teste. Os Estimadores esperam que suas entradas sejam formatadas como um par de objetos:\n",
        "\n",
        "- Um dicionário, em que as chaves são os nomes das características, e os valores são os tensores (SparseTensors) que contêm os dados de características correspondentes\n",
        "- Um Tensor contendo um ou mais rótulos\n",
        "\n",
        "`input_fn` deve retornar um `tf.data.Dataset` que gere pares nesse formato.\n",
        "\n",
        "Por exemplo, o código abaixo cria um `tf.data.Dataset` a partir do arquivo `train.csv` do dataset Titanic:"
      ]
    },
    {
      "cell_type": "code",
      "execution_count": null,
      "metadata": {
        "id": "7fl_C5d6hEl3"
      },
      "outputs": [],
      "source": [
        "def train_input_fn():\n",
        "  titanic_file = tf.keras.utils.get_file(\"train.csv\", \"https://storage.googleapis.com/tf-datasets/titanic/train.csv\")\n",
        "  titanic = tf.data.experimental.make_csv_dataset(\n",
        "      titanic_file, batch_size=32,\n",
        "      label_name=\"survived\")\n",
        "  titanic_batches = (\n",
        "      titanic.cache().repeat().shuffle(500)\n",
        "      .prefetch(tf.data.AUTOTUNE))\n",
        "  return titanic_batches"
      ]
    },
    {
      "cell_type": "markdown",
      "metadata": {
        "id": "CjyrQGb3mCcp"
      },
      "source": [
        "`input_fn` é executado em um `tf.Graph` e também pode retornar tiretamente um par `(features_dics, labels)` contendo tensores do grafo, mas isso está propenso a erros, exceto em casos simples, como retornar constantes."
      ]
    },
    {
      "cell_type": "markdown",
      "metadata": {
        "id": "yJYjWUMxgTnq"
      },
      "source": [
        "### 2. Defina as colunas de características\n",
        "\n",
        "Cada `tf.feature_column` identifica um nome de característica, seu tipo e qualquer pré-processamento da entrada.\n",
        "\n",
        "Por exemplo, o trecho de código abaixo cria três colunas de características:\n",
        "\n",
        "- A primeira usa a característica `age` (idade) diretamente como uma entrada de ponto flutuante.\n",
        "- A segunda usa a característica `class` (classe) como uma entrada de categoria.\n",
        "- A terceira usa a característica `embark_town` (cidade de embarque) como uma entrada de categoria, mas utiliza `hashing trick` para evitar a necessidade de enumerar as opções e para definir o número de opções.\n",
        "\n",
        "Confira mais informações no [tutorial sobre colunas de características](https://www.tensorflow.org/tutorials/keras/feature_columns)."
      ]
    },
    {
      "cell_type": "code",
      "execution_count": null,
      "metadata": {
        "id": "lFd8Dnrmhjhr"
      },
      "outputs": [],
      "source": [
        "age = tf.feature_column.numeric_column('age')\n",
        "cls = tf.feature_column.categorical_column_with_vocabulary_list('class', ['First', 'Second', 'Third']) \n",
        "embark = tf.feature_column.categorical_column_with_hash_bucket('embark_town', 32)"
      ]
    },
    {
      "cell_type": "markdown",
      "metadata": {
        "id": "UIjqAozjgXdr"
      },
      "source": [
        "### 3. Instancie o Estimador pré-criado relevante\n",
        "\n",
        "Por exemplo, veja a instanciação de uma amostra de um Estimador pré-criado chamado `LinearClassifier`:"
      ]
    },
    {
      "cell_type": "code",
      "execution_count": null,
      "metadata": {
        "id": "CDOx6lZVoVB8"
      },
      "outputs": [],
      "source": [
        "model_dir = tempfile.mkdtemp()\n",
        "model = tf.estimator.LinearClassifier(\n",
        "    model_dir=model_dir,\n",
        "    feature_columns=[embark, cls, age],\n",
        "    n_classes=2\n",
        ")"
      ]
    },
    {
      "cell_type": "markdown",
      "metadata": {
        "id": "QGl9oYuFoYj6"
      },
      "source": [
        "Confira mais informações no [tutorial sobre classificadores lineares](https://www.tensorflow.org/tutorials/estimator/linear)."
      ]
    },
    {
      "cell_type": "markdown",
      "metadata": {
        "id": "sXNBeY-oVxGQ"
      },
      "source": [
        "### 4. Chame um método de treinamento, avaliação ou inferência\n",
        "\n",
        "Todos os Estimadores contam com os métodos `train`, `evaluate` e `predict`.\n"
      ]
    },
    {
      "cell_type": "code",
      "execution_count": null,
      "metadata": {
        "id": "iGaJKkmVBgo2"
      },
      "outputs": [],
      "source": [
        "model = model.train(input_fn=train_input_fn, steps=100)"
      ]
    },
    {
      "cell_type": "code",
      "execution_count": null,
      "metadata": {
        "id": "CXkivCNq0vfH"
      },
      "outputs": [],
      "source": [
        "result = model.evaluate(train_input_fn, steps=10)\n",
        "\n",
        "for key, value in result.items():\n",
        "  print(key, \":\", value)"
      ]
    },
    {
      "cell_type": "code",
      "execution_count": null,
      "metadata": {
        "id": "CPLD8n4CLVi_"
      },
      "outputs": [],
      "source": [
        "for pred in model.predict(train_input_fn):\n",
        "  for key, value in pred.items():\n",
        "    print(key, \":\", value)\n",
        "  break"
      ]
    },
    {
      "cell_type": "markdown",
      "metadata": {
        "id": "cbmrm9pFg5vo"
      },
      "source": [
        "### Benefícios dos Estimadores pré-criados\n",
        "\n",
        "Os Estimadores pré-criados seguem as práticas recomendadas, proporcionando os seguintes benefícios:\n",
        "\n",
        "- Práticas recomendadas para determinar onde as diferentes partes do grafo computacional devem ser executadas, implementando estratégias em uma única máquina ou em um cluster.\n",
        "- Práticas recomendadas para gravação de eventos (resumos) e resumos úteis universalmente.\n",
        "\n",
        "Se você não utilizar Estimadores pré-criados, precisa implementar os recursos acima por conta própria."
      ]
    },
    {
      "cell_type": "markdown",
      "metadata": {
        "id": "oIaPjYgnZdn6"
      },
      "source": [
        "## Estimadores personalizados\n",
        "\n",
        "O núcleo de todo Estimador, seja pré-criado ou personalizado, é sua *função do modelo*, `model_fn`, um método que cria grafos para treinamento, avaliação e previsão. Quando você utiliza um Estimador pré-criado, outra pessoa já implementou a função do modelo. Ao usar um Estimador personalizado, você precisa escrever a função do modelo por conta própria.\n",
        "\n",
        "> Observação: uma `model_fn` personalizada ainda será executada no modo grafo do 1.x. Portanto, não há execução adiantada (eager) e dependências de controle automático. Você deve planejar a migração do `tf.estimator` com `model_fn` personalizada. As APIs alternativas são `tf.keras` e `tf.distribute`. Se você ainda precisar de um `Estimator` para alguma parte do treinamento, pode usar o conversor `tf.keras.estimator.model_to_estimator` para criar um `Estimator` usando um `keras.Model`."
      ]
    },
    {
      "cell_type": "markdown",
      "metadata": {
        "id": "P7aPNnXUbN4j"
      },
      "source": [
        "## Crie um Estimador usando um modelo do Keras\n",
        "\n",
        "É possível converter modelos existentes do Keras para Estimadores usando `tf.keras.estimator.model_to_estimator`, o que é útil se você quiser modernizar o código do seu modelo, mas o seu pipeline de treinamento ainda precisar de Estimadores.\n",
        "\n",
        "Instancie um modelo do Keras MobileNet V2 e compile-o com o otimizador, a perda e as métricas para o treinamento:"
      ]
    },
    {
      "cell_type": "code",
      "execution_count": null,
      "metadata": {
        "id": "XE6NMcuGeDOP"
      },
      "outputs": [],
      "source": [
        "keras_mobilenet_v2 = tf.keras.applications.MobileNetV2(\n",
        "    input_shape=(160, 160, 3), include_top=False)\n",
        "keras_mobilenet_v2.trainable = False\n",
        "\n",
        "estimator_model = tf.keras.Sequential([\n",
        "    keras_mobilenet_v2,\n",
        "    tf.keras.layers.GlobalAveragePooling2D(),\n",
        "    tf.keras.layers.Dense(1)\n",
        "])\n",
        "\n",
        "# Compile the model\n",
        "estimator_model.compile(\n",
        "    optimizer='adam',\n",
        "    loss=tf.keras.losses.BinaryCrossentropy(from_logits=True),\n",
        "    metrics=['accuracy'])"
      ]
    },
    {
      "cell_type": "markdown",
      "metadata": {
        "id": "A3hcxzcEfYfX"
      },
      "source": [
        "Crie um `Estimator` usando o modelo do Keras compilado. O estado inicial do modelo do Keras é preservado no `Estimator` criado:"
      ]
    },
    {
      "cell_type": "code",
      "execution_count": null,
      "metadata": {
        "id": "UCSSifirfyHk"
      },
      "outputs": [],
      "source": [
        "est_mobilenet_v2 = tf.keras.estimator.model_to_estimator(keras_model=estimator_model)"
      ]
    },
    {
      "cell_type": "markdown",
      "metadata": {
        "id": "8jRNRVb_fzGT"
      },
      "source": [
        "Use o `Estimator` derivado da mesma forma que usaria qualquer outro `Estimator`."
      ]
    },
    {
      "cell_type": "code",
      "execution_count": null,
      "metadata": {
        "id": "Rv9xJk51e1fB"
      },
      "outputs": [],
      "source": [
        "IMG_SIZE = 160  # All images will be resized to 160x160\n",
        "\n",
        "def preprocess(image, label):\n",
        "  image = tf.cast(image, tf.float32)\n",
        "  image = (image/127.5) - 1\n",
        "  image = tf.image.resize(image, (IMG_SIZE, IMG_SIZE))\n",
        "  return image, label"
      ]
    },
    {
      "cell_type": "code",
      "execution_count": null,
      "metadata": {
        "id": "Fw8OjwujVBkc"
      },
      "outputs": [],
      "source": [
        "def train_input_fn(batch_size):\n",
        "  data = tfds.load('cats_vs_dogs', as_supervised=True)\n",
        "  train_data = data['train']\n",
        "  train_data = train_data.map(preprocess).shuffle(500).batch(batch_size)\n",
        "  return train_data"
      ]
    },
    {
      "cell_type": "markdown",
      "metadata": {
        "id": "JMb0cuy0gbTi"
      },
      "source": [
        "Para treinar, chame a função train do Estimador:"
      ]
    },
    {
      "cell_type": "code",
      "execution_count": null,
      "metadata": {
        "id": "4JsvMp8Jge80"
      },
      "outputs": [],
      "source": [
        "est_mobilenet_v2.train(input_fn=lambda: train_input_fn(32), steps=50)"
      ]
    },
    {
      "cell_type": "markdown",
      "metadata": {
        "id": "jvr_rAzngY9v"
      },
      "source": [
        "De maneira similar, para avaliar, chame a função evaluate do Estimador:"
      ]
    },
    {
      "cell_type": "code",
      "execution_count": null,
      "metadata": {
        "id": "kVNPqysQgYR2"
      },
      "outputs": [],
      "source": [
        "est_mobilenet_v2.evaluate(input_fn=lambda: train_input_fn(32), steps=10)"
      ]
    },
    {
      "cell_type": "markdown",
      "metadata": {
        "id": "5HeTOvCYbjZb"
      },
      "source": [
        "Confira mais detalhes na documentação de `tf.keras.estimator.model_to_estimator`."
      ]
    },
    {
      "cell_type": "markdown",
      "metadata": {
        "id": "zGG1tOM0L6iM"
      },
      "source": [
        "## Como salvar checkpoints baseados em objetos com o Estimador\n",
        "\n",
        "Por padrão, os Estimadores salvam checkpoints com nomes de variáveis em vez do grafo de objetos descrito no [guia de checkpoints](checkpoint.ipynb). `tf.train.Checkpoint` lê checkpoints baseados em nomes, mas os nomes das variáveis podem mudar quando partes de um modelo são levados para fora da `model_fn` do Estimador. Por questões de compatibilidade futura, salvar checkpoints baseados em objetos facilita o treinamento de um modelo dentro de um Estimador e seu uso fora do Estimador."
      ]
    },
    {
      "cell_type": "code",
      "execution_count": null,
      "metadata": {
        "id": "-8AMJeueNyoM"
      },
      "outputs": [],
      "source": [
        "import tensorflow.compat.v1 as tf_compat"
      ]
    },
    {
      "cell_type": "code",
      "execution_count": null,
      "metadata": {
        "id": "W5JbCEUGY-Xo"
      },
      "outputs": [],
      "source": [
        "def toy_dataset():\n",
        "  inputs = tf.range(10.)[:, None]\n",
        "  labels = inputs * 5. + tf.range(5.)[None, :]\n",
        "  return tf.data.Dataset.from_tensor_slices(\n",
        "    dict(x=inputs, y=labels)).repeat().batch(2)"
      ]
    },
    {
      "cell_type": "code",
      "execution_count": null,
      "metadata": {
        "id": "gTZbsIRCZnCU"
      },
      "outputs": [],
      "source": [
        "class Net(tf.keras.Model):\n",
        "  \"\"\"A simple linear model.\"\"\"\n",
        "\n",
        "  def __init__(self):\n",
        "    super(Net, self).__init__()\n",
        "    self.l1 = tf.keras.layers.Dense(5)\n",
        "\n",
        "  def call(self, x):\n",
        "    return self.l1(x)"
      ]
    },
    {
      "cell_type": "code",
      "execution_count": null,
      "metadata": {
        "id": "T6fQsBzJQN2y"
      },
      "outputs": [],
      "source": [
        "def model_fn(features, labels, mode):\n",
        "  net = Net()\n",
        "  opt = tf.keras.optimizers.Adam(0.1)\n",
        "  ckpt = tf.train.Checkpoint(step=tf_compat.train.get_global_step(),\n",
        "                             optimizer=opt, net=net)\n",
        "  with tf.GradientTape() as tape:\n",
        "    output = net(features['x'])\n",
        "    loss = tf.reduce_mean(tf.abs(output - features['y']))\n",
        "  variables = net.trainable_variables\n",
        "  gradients = tape.gradient(loss, variables)\n",
        "  return tf.estimator.EstimatorSpec(\n",
        "    mode,\n",
        "    loss=loss,\n",
        "    train_op=tf.group(opt.apply_gradients(zip(gradients, variables)),\n",
        "                      ckpt.step.assign_add(1)),\n",
        "    # Tell the Estimator to save \"ckpt\" in an object-based format.\n",
        "    scaffold=tf_compat.train.Scaffold(saver=ckpt))\n",
        "\n",
        "tf.keras.backend.clear_session()\n",
        "est = tf.estimator.Estimator(model_fn, './tf_estimator_example/')\n",
        "est.train(toy_dataset, steps=10)"
      ]
    },
    {
      "cell_type": "markdown",
      "metadata": {
        "id": "tObYHnrrb_mL"
      },
      "source": [
        "Depois, `tf.train.Checkpoint` pode carregar os checkpoints a partir de seu diretório `model_dir`."
      ]
    },
    {
      "cell_type": "code",
      "execution_count": null,
      "metadata": {
        "id": "Q6IP3Y_wb-fs"
      },
      "outputs": [],
      "source": [
        "opt = tf.keras.optimizers.Adam(0.1)\n",
        "net = Net()\n",
        "ckpt = tf.train.Checkpoint(\n",
        "  step=tf.Variable(1, dtype=tf.int64), optimizer=opt, net=net)\n",
        "ckpt.restore(tf.train.latest_checkpoint('./tf_estimator_example/'))\n",
        "ckpt.step.numpy()  # From est.train(..., steps=10)"
      ]
    },
    {
      "cell_type": "markdown",
      "metadata": {
        "id": "Dk5wWyuMpuHx"
      },
      "source": [
        "## SavedModels de Estimadores\n",
        "\n",
        "Os Estimadores exportam SavedModels por meio de `tf.Estimator.export_saved_model`."
      ]
    },
    {
      "cell_type": "code",
      "execution_count": null,
      "metadata": {
        "id": "B9KQq5qzpzbK"
      },
      "outputs": [],
      "source": [
        "input_column = tf.feature_column.numeric_column(\"x\")\n",
        "\n",
        "estimator = tf.estimator.LinearClassifier(feature_columns=[input_column])\n",
        "\n",
        "def input_fn():\n",
        "  return tf.data.Dataset.from_tensor_slices(\n",
        "    ({\"x\": [1., 2., 3., 4.]}, [1, 1, 0, 0])).repeat(200).shuffle(64).batch(16)\n",
        "estimator.train(input_fn)"
      ]
    },
    {
      "cell_type": "markdown",
      "metadata": {
        "id": "y9qCa6J6FVS5"
      },
      "source": [
        "Para salvar um `Estimator`, você precisa criar um `serving_input_receiver`. Essa função cria uma parte de um `tf.Graph` que processa os dados brutos recebidos pelo SavedModel.\n",
        "\n",
        "O módulo `tf.estimator.export` contém funções para ajudar a criar esses `receivers` (receptores).\n"
      ]
    },
    {
      "cell_type": "markdown",
      "metadata": {
        "id": "XJ4PJ-Cl4060"
      },
      "source": [
        "O código abaixo cria um receptor baseado nas `feature_columns` (colunas de características) que aceita buffers de protocolo `tf.Example` serializados, que costumam ser usados com [tf-serving](https://tensorflow.org/serving)."
      ]
    },
    {
      "cell_type": "code",
      "execution_count": null,
      "metadata": {
        "id": "lnmsmGOQFPED"
      },
      "outputs": [],
      "source": [
        "tmpdir = tempfile.mkdtemp()\n",
        "\n",
        "serving_input_fn = tf.estimator.export.build_parsing_serving_input_receiver_fn(\n",
        "  tf.feature_column.make_parse_example_spec([input_column]))\n",
        "\n",
        "estimator_base_path = os.path.join(tmpdir, 'from_estimator')\n",
        "estimator_path = estimator.export_saved_model(estimator_base_path, serving_input_fn)"
      ]
    },
    {
      "cell_type": "markdown",
      "metadata": {
        "id": "Q7XtbLMDaie2"
      },
      "source": [
        "Também é possível carregar e executar esse modelo pelo Python:"
      ]
    },
    {
      "cell_type": "code",
      "execution_count": null,
      "metadata": {
        "id": "c_BUBBNB1UH9"
      },
      "outputs": [],
      "source": [
        "imported = tf.saved_model.load(estimator_path)\n",
        "\n",
        "def predict(x):\n",
        "  example = tf.train.Example()\n",
        "  example.features.feature[\"x\"].float_list.value.extend([x])\n",
        "  return imported.signatures[\"predict\"](\n",
        "    examples=tf.constant([example.SerializeToString()]))"
      ]
    },
    {
      "cell_type": "code",
      "execution_count": null,
      "metadata": {
        "id": "C1ylWZCQ1ahG"
      },
      "outputs": [],
      "source": [
        "print(predict(1.5))\n",
        "print(predict(3.5))"
      ]
    },
    {
      "cell_type": "markdown",
      "metadata": {
        "id": "_IrCCm0-isqA"
      },
      "source": [
        "`tf.estimator.export.build_raw_serving_input_receiver_fn` permite criar funções de entrada que recebam tensores brutos em vez de `tf.train.Example`s."
      ]
    },
    {
      "cell_type": "markdown",
      "metadata": {
        "id": "nO0hmFCRoIll"
      },
      "source": [
        "## Uso de `tf.distribute.Strategy` com o Estimador (suporte limitado)\n",
        "\n",
        "`tf.estimator` é uma API do TensorFlow para treinamento distribuído que, originalmente, tinha suporte à estratégia de servidor de parâmetros assíncrono. Agora, `tf.estimator` tem suporte a `tf.distribute.Strategy`. Se você estiver usando `tf.estimator`, pode alterar para treinamento distribuído com pouquíssimas alterações do código. Dessa forma, agora os usuários do Estimador podem fazer treinamento distribuído síncrono em diversas GPUs e diversos workers, além de usar TPUs. Entretanto, esse suporte no Estimador é limitado. Confira mais informações na seção [O que tem suporte atualmente](#estimator_support) abaixo.\n",
        "\n",
        "Usar `tf.distribute.Strategy` com o Estimador é um pouco diferente no caso do Keras. Em vez de usar `strategy.scope`, agora você passa o objeto de estratégia para o `RunConfig` referente ao Estimador.\n",
        "\n",
        "Confira mais informações no [guia sobre treinamento distribuído](distributed_training.ipynb).\n",
        "\n",
        "Veja abaixo um trecho de código que mostra esse caso com um Estimador pré-criado `LinearRegressor` e a estratégia `MirroredStrategy`:\n"
      ]
    },
    {
      "cell_type": "code",
      "execution_count": null,
      "metadata": {
        "id": "oGFY5nW_B3YU"
      },
      "outputs": [],
      "source": [
        "mirrored_strategy = tf.distribute.MirroredStrategy()\n",
        "config = tf.estimator.RunConfig(\n",
        "    train_distribute=mirrored_strategy, eval_distribute=mirrored_strategy)\n",
        "regressor = tf.estimator.LinearRegressor(\n",
        "    feature_columns=[tf.feature_column.numeric_column('feats')],\n",
        "    optimizer='SGD',\n",
        "    config=config)"
      ]
    },
    {
      "cell_type": "markdown",
      "metadata": {
        "id": "n6eSfLN5RGY8"
      },
      "source": [
        "Aqui, utilizamos um Estimador pré-criado, mas o mesmo código também funciona com um Estimador personalizado. `train_distribute` determina como o treinamento será distribuído, e `eval_distribute` determina como a avaliação será distribuída. Essa é outra diferença do Keras ao usar a mesma estratégia para treinamento e avaliação.\n",
        "\n",
        "Agora, você pode treinar e avaliar esse Estimador com uma função de entrada:\n"
      ]
    },
    {
      "cell_type": "code",
      "execution_count": null,
      "metadata": {
        "id": "2ky2ve2PB3YP"
      },
      "outputs": [],
      "source": [
        "def input_fn():\n",
        "  dataset = tf.data.Dataset.from_tensors(({\"feats\":[1.]}, [1.]))\n",
        "  return dataset.repeat(1000).batch(10)\n",
        "regressor.train(input_fn=input_fn, steps=10)\n",
        "regressor.evaluate(input_fn=input_fn, steps=10)"
      ]
    },
    {
      "cell_type": "markdown",
      "metadata": {
        "id": "hgaU9xQSSk2x"
      },
      "source": [
        "Outra diferença que devemos destacar entre o Estimador e o Keras é o tratamento da entrada. No Keras, cada lote do dataset é dividido automaticamente nas diversas réplicas. Entretanto, no Estimador, você não faz a divisão automática em lotes nem fragmenta automaticamente os dados em diferentes workers. Você tem controle total de como deseja que os dados sejam distribuídos nos workers e dispositivos e precisa fornecer uma `input_fn` para especificar como os dados devem ser distribuídos.\n",
        "\n",
        "A `input_fn` é chamada uma vez por worker e, portanto, envia um dataset para cada worker. Então, um lote desse dataset é alimentado em uma réplica nesse worker, consumindo N lotes para N réplicas nesse único worker. Em outras palavras, o dataset retornado por `input_fn` deve fornecer lotes de tamanho `PER_REPLICA_BATCH_SIZE`, e o tamanho global de lote para um passo pode ser obtido por `PER_REPLICA_BATCH_SIZE * strategy.num_replicas_in_sync`.\n",
        "\n",
        "Ao fazer um treinamento multiworker, você precisa dividir os dados entre os workers ou misturar com uma semente aleatória em cada um deles. Confira um exemplo de como fazer isso no tutorial [Treinamento multiworker com Estimador](../tutorials/distribute/multi_worker_with_estimator.ipynb)."
      ]
    },
    {
      "cell_type": "markdown",
      "metadata": {
        "id": "G3ieQKfWZhhL"
      },
      "source": [
        "De maneira similar, você também pode usar as estratégias de multiworker e de servidor de parâmetros. O código permanece o mesmo, mas você precisa usar `tf.estimator.train_and_evaluate` e definir as variáveis de ambiente `TF_CONFIG` para cada binário sendo executado no seu cluster."
      ]
    },
    {
      "cell_type": "markdown",
      "metadata": {
        "id": "A_lvUsSLZzVg"
      },
      "source": [
        "<a name=\"estimator_support\"></a>\n",
        "\n",
        "### O que tem suporte atualmente?\n",
        "\n",
        "Há suporte limitado para treinamento com Estimador usando todas as estratégias, exceto `TPUStrategy`. Treinamentos e avaliações básicos deverão funcionar, mas diversos recursos avançados, como `v1.train.Scaffold`, não deverão funcionar. Também pode haver diversos bugs nessa integração, e não há planos para melhorar o suporte (o foco está no suporte ao Keras e ao loop de treinamento personalizado). Se possível, prefira usar `tf.distribute` com essas APIs.\n",
        "\n",
        "API de treinamento | MirroredStrategy | TPUStrategy | MultiWorkerMirroredStrategy | CentralStorageStrategy | ParameterServerStrategy\n",
        ":-- | :-- | :-- | :-- | :-- | :--\n",
        "API do Estimador | Suporte limitado | Sem suporte | Suporte limitado | Suporte limitado | Suporte limitado\n",
        "\n",
        "### Exemplos e tutoriais\n",
        "\n",
        "Veja alguns exemplos do começo ao fim que mostram como usar as diversas estratégias com o Estimador:\n",
        "\n",
        "1. O [tutorial Treinamento multiworker com Estimador](../tutorials/distribute/multi_worker_with_estimator.ipynb) mostra como treinar com vários workers usando `MultiWorkerMirroredStrategy` no dataset MNIST.\n",
        "2. Um exemplo completo de [treinamento multiworker com estratégias distribuídas](https://github.com/tensorflow/ecosystem/tree/master/distribution_strategy) em `tensorflow/ecosystem` usando modelos de Kubernetes. O exemplo começa com um modelo do Keras, que é convertido em um Estimador usando a API `tf.keras.estimator.model_to_estimator`\n",
        "3. O modelo oficial [ResNet50](https://github.com/tensorflow/models/blob/master/official/vision/image_classification/resnet_imagenet_main.py), que pode ser treinado usando `MirroredStrategy` ou `MultiWorkerMirroredStrategy`."
      ]
    }
  ],
  "metadata": {
    "accelerator": "GPU",
    "colab": {
      "collapsed_sections": [
        "Tce3stUlHN0L",
        "KLdnqg4G2bmz",
        "Wg5zbBliQvNL",
        "yQ8fQYt_VD5E",
        "jQ2PsufpgIpM",
        "mIJPPe26gQpF",
        "yJYjWUMxgTnq",
        "UIjqAozjgXdr",
        "sXNBeY-oVxGQ",
        "cbmrm9pFg5vo",
        "oIaPjYgnZdn6",
        "P7aPNnXUbN4j",
        "zGG1tOM0L6iM",
        "Dk5wWyuMpuHx",
        "nO0hmFCRoIll",
        "A_lvUsSLZzVg"
      ],
      "name": "estimator.ipynb",
      "toc_visible": true
    },
    "kernelspec": {
      "display_name": "Python 3",
      "name": "python3"
    }
  },
  "nbformat": 4,
  "nbformat_minor": 0
}
