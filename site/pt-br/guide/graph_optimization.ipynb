{
  "cells": [
    {
      "cell_type": "markdown",
      "metadata": {
        "id": "FYLyuStTYesc"
      },
      "source": [
        "##### Copyright 2020 The TensorFlow Authors."
      ]
    },
    {
      "cell_type": "code",
      "execution_count": null,
      "metadata": {
        "cellView": "form",
        "id": "PVm-iEoxYesf"
      },
      "outputs": [],
      "source": [
        "#@title Licensed under the Apache License, Version 2.0 (the \"License\");\n",
        "# you may not use this file except in compliance with the License.\n",
        "# You may obtain a copy of the License at\n",
        "#\n",
        "# https://www.apache.org/licenses/LICENSE-2.0\n",
        "#\n",
        "# Unless required by applicable law or agreed to in writing, software\n",
        "# distributed under the License is distributed on an \"AS IS\" BASIS,\n",
        "# WITHOUT WARRANTIES OR CONDITIONS OF ANY KIND, either express or implied.\n",
        "# See the License for the specific language governing permissions and\n",
        "# limitations under the License."
      ]
    },
    {
      "cell_type": "markdown",
      "metadata": {
        "id": "3MPf91rVYesq"
      },
      "source": [
        "# Otimização de grafo do TensorFlow com o Grappler"
      ]
    },
    {
      "cell_type": "markdown",
      "metadata": {
        "id": "zmNCsZlgYesr"
      },
      "source": [
        "<table class=\"tfo-notebook-buttons\" align=\"left\">\n",
        "  <td>     <a target=\"_blank\" href=\"https://www.tensorflow.org/guide/graph_optimization\"><img src=\"https://www.tensorflow.org/images/tf_logo_32px.png\">Ver em TensorFlow.org</a>\n",
        "</td>\n",
        "  <td>     <a target=\"_blank\" href=\"https://colab.research.google.com/github/tensorflow/docs-l10n/blob/master/site/pt-br/guide/graph_optimization.ipynb\"><img src=\"https://www.tensorflow.org/images/colab_logo_32px.png\">Executar no Google Colab</a>\n",
        "</td>\n",
        "  <td>     <a target=\"_blank\" href=\"https://github.com/tensorflow/docs-l10n/blob/master/site/pt-br/guide/graph_optimization.ipynb\"><img src=\"https://www.tensorflow.org/images/GitHub-Mark-32px.png\">Ver fonte no GitHub</a>\n",
        "</td>\n",
        "  <td>     <a href=\"https://storage.googleapis.com/tensorflow_docs/docs-l10n/site/pt-br/guide/graph_optimization.ipynb\"><img src=\"https://www.tensorflow.org/images/download_logo_32px.png\">Baixar notebook</a>\n",
        "</td>\n",
        "</table>"
      ]
    },
    {
      "cell_type": "markdown",
      "metadata": {
        "id": "l0qacLgyYess"
      },
      "source": [
        "## Visão geral\n",
        "\n",
        "O TensorFlow usa execuções no modo grafo e adiantado (eager) para fazer as computações. Um `tf.Graph` contém um conjunto de objetos `tf.Operation` (operações), que representam unidades de computação, e objetos `tf.Tensor`, que representam as unidades de dados que fluem entre as operações.\n",
        "\n",
        "O Grappler é o sistema padrão de otimização de grafo do runtime do TensorFlow e aplica otimizações no modo grafo (dentro de `tf.function`) para aumentar o desempenho das computações do TensorFlow por meio de simplificações do grafo e outras otimizações de alto nível, como embutir o corpo de funções para ativar otimizações interprocedurais. Otimizar o `tf.Graph` também reduz o pico de uso de memória e melhora a utilização do hardware ao otimizar o mapeamento dos nós do grafo para os recursos computacionais.\n",
        "\n",
        "Use `tf.config.optimizer.set_experimental_options()` para ter um controle mais granular das otimizações do `tf.Graph`.\n"
      ]
    },
    {
      "cell_type": "markdown",
      "metadata": {
        "id": "A-zkJgR5Yesw"
      },
      "source": [
        "## Otimizadores de grafo disponíveis\n",
        "\n",
        "O Grappler faz as otimizações de grafo por meio de um driver chamado `MetaOptimizer`. Os otimizadores de grafo abaixo estão disponíveis no TensorFlow:\n",
        "\n",
        "- *Otimizador com constant folding –* infere estatisticamente o valor dos tensores quando possível fazendo o folding de nós constantes no grafo e materializa o resultado usando constantes.\n",
        "- *Otimizador aritmético –* simplifica as operações aritméticas eliminando subexpressões comuns e simplificando declarações aritméticas.\n",
        "- *Otimizador de layout –* otimiza layouts de tensores para executar operações que dependem do formato dos dados, como convoluções, de maneira mais eficaz.\n",
        "- *Otimizador de remapeamento –* remapeia subgrafos para implementações mais eficientes por meio da substituição de subgrafos com ocorrência comum por kernels monolíticos combinados e otimizados.\n",
        "- *Otimizador de memória –* analisa o grafo para avaliar o pico de uso de memória de cada operação e insere as operações de cópia de memória CPU-GPU para trocar memória de GPU por CPU a fim de reduzir o pico de uso de memória.\n",
        "- *Otimizador de dependência –* remove ou reorganiza as dependências de controle para encurtar o caminho crítico de um passo do modelo ou permitir outras otimizações. Além disso, remove nós que não são realmente operações, como Identity.\n",
        "- *Otimizador de pruning –* remove do grafo nós que não têm efeito na saída. Geralmente, é executado primeiro para reduzir o tamanho do grafo e acelerar o processamento de outros passos do Grappler.\n",
        "- *Otimizador de função –* otimiza a biblioteca de funções de um programa do TensorFlow e o embute corpo de funções para ativar outras otimizações interprocedurais.\n",
        "- *Otimizador de formato –* otimiza subgrafos que operam o formato e informações relacionadas ao formato.\n",
        "- *Otimizador de autoparalelização –* paraleliza automaticamente os grafos por meio da divisão na dimensão de lote. Esse otimizador é desativado por padrão.\n",
        "- *Otimizador de loop –* otimiza o fluxo de controle do grafo retirando dos loops os subgrafos que não variam nos loops e removendo operações de pilhas redundantes. Além disso, otimiza loops com contagens de execução conhecidas estatisticamente e remove ramificações mortas conhecidas estatisticamente em condicionais.\n",
        "- *Otimizador de alocador com escopo –* introduz alocadores com escopo para reduzir o movimento de dados e consolidar algumas operações.\n",
        "- *Otimizador pin to host –* troca pequenas operações para a CPU. Esse otimizador é desativado por padrão.\n",
        "- *Otimizador de precisão mista automático –* converte tipos de dados em float16 quando aplicável para melhorar o desempenho. Atualmente, aplica-se somente a GPUs.\n",
        "- *Eliminador de depuração –* elimina do grafo nós relacionados a operações de depuração, como `tf.debugging.Assert`, `tf.debugging.check_numerics` e `tf.print`. Esse otimizador é desativado por padrão."
      ]
    },
    {
      "cell_type": "markdown",
      "metadata": {
        "id": "WZAUsxyWYess"
      },
      "source": [
        "## Configuração\n"
      ]
    },
    {
      "cell_type": "code",
      "execution_count": null,
      "metadata": {
        "id": "6BRIDzO6ypoY"
      },
      "outputs": [],
      "source": [
        "import numpy as np\n",
        "import timeit\n",
        "import traceback\n",
        "import contextlib\n",
        "\n",
        "\n",
        "import tensorflow as tf"
      ]
    },
    {
      "cell_type": "markdown",
      "metadata": {
        "id": "1O-XL1nxJX0X"
      },
      "source": [
        "Crie um gerenciador de contexto para ativar e desativar estados de otimizadores com facilidade."
      ]
    },
    {
      "cell_type": "code",
      "execution_count": null,
      "metadata": {
        "id": "uRuhVoAlYesz"
      },
      "outputs": [],
      "source": [
        "@contextlib.contextmanager\n",
        "def options(options):\n",
        "  old_opts = tf.config.optimizer.get_experimental_options()\n",
        "  tf.config.optimizer.set_experimental_options(options)\n",
        "  try:\n",
        "    yield\n",
        "  finally:\n",
        "    tf.config.optimizer.set_experimental_options(old_opts)"
      ]
    },
    {
      "cell_type": "markdown",
      "metadata": {
        "id": "E2o4kZtK0DoA"
      },
      "source": [
        "## Compare o desempenho da execução com e sem o Grappler\n",
        "\n",
        "O TensorFlow 2 e posteriores fazer execução adiantada (eager) por padrão. Use `tf.function` para mudar a execução padrão para o modo grafo. O Grappler executa automaticamente em segundo plano para aplicar as otimizações de grafo acima e melhorar o desempenho da execução.\n"
      ]
    },
    {
      "cell_type": "markdown",
      "metadata": {
        "id": "3sh8RoLJ96IT"
      },
      "source": [
        "### Otimizador com constant folding\n",
        "\n",
        "Vejamos um exemplo preliminar. Considere uma função que realize operações em constantes e retorne uma saída."
      ]
    },
    {
      "cell_type": "code",
      "execution_count": null,
      "metadata": {
        "id": "jOW_OSzMJEvN"
      },
      "outputs": [],
      "source": [
        "def test_function_1():\n",
        "  @tf.function\n",
        "  def simple_function(input_arg):\n",
        "    print('Tracing!')\n",
        "    a = tf.constant(np.random.randn(2000,2000), dtype = tf.float32)\n",
        "    c = a\n",
        "    for n in range(50):\n",
        "      c = c@a\n",
        "    return tf.reduce_mean(c+input_arg)\n",
        "\n",
        "  return simple_function"
      ]
    },
    {
      "cell_type": "markdown",
      "metadata": {
        "id": "tFVgUhhzLKIo"
      },
      "source": [
        "Desative o otimizador com constant folding e execute a função:"
      ]
    },
    {
      "cell_type": "code",
      "execution_count": null,
      "metadata": {
        "id": "KDMGsOHrJqKD"
      },
      "outputs": [],
      "source": [
        "with options({'constant_folding': False}):\n",
        "  print(tf.config.optimizer.get_experimental_options())\n",
        "  simple_function = test_function_1()\n",
        "  # Trace once\n",
        "  x = tf.constant(2.2)\n",
        "  simple_function(x)\n",
        "  print(\"Vanilla execution:\", timeit.timeit(lambda: simple_function(x), number = 1), \"s\")"
      ]
    },
    {
      "cell_type": "markdown",
      "metadata": {
        "id": "ykMXfo8qO41z"
      },
      "source": [
        "Ative o otimizador com constant folding e execute a função novamente. Observe a aceleração ao executar a função."
      ]
    },
    {
      "cell_type": "code",
      "execution_count": null,
      "metadata": {
        "id": "73pc0gfFKY8l"
      },
      "outputs": [],
      "source": [
        "with options({'constant_folding': True}):\n",
        "  print(tf.config.optimizer.get_experimental_options())\n",
        "  simple_function = test_function_1()\n",
        "  # Trace once\n",
        "  x = tf.constant(2.2)\n",
        "  simple_function(x)\n",
        "  print(\"Constant folded execution:\", timeit.timeit(lambda: simple_function(x), number = 1), \"s\")"
      ]
    },
    {
      "cell_type": "markdown",
      "metadata": {
        "id": "83w8rfcRVhWb"
      },
      "source": [
        "### Otimizador de eliminação de depuração\n",
        "\n",
        "Considere uma função simples que verifique o valor numérico de seu argumento de entrada e o retorne. "
      ]
    },
    {
      "cell_type": "code",
      "execution_count": null,
      "metadata": {
        "id": "j2DvqEr8haut"
      },
      "outputs": [],
      "source": [
        "def test_function_2():\n",
        "  @tf.function\n",
        "  def simple_func(input_arg):\n",
        "    output = input_arg\n",
        "    tf.debugging.check_numerics(output, \"Bad!\")\n",
        "    return output\n",
        "  return simple_func"
      ]
    },
    {
      "cell_type": "markdown",
      "metadata": {
        "id": "ywKG3WRbpYB8"
      },
      "source": [
        "Primeiro, execute a função com o otimizador de eliminação de depuração desativado. "
      ]
    },
    {
      "cell_type": "code",
      "execution_count": null,
      "metadata": {
        "id": "LsE-y6iQWSwH"
      },
      "outputs": [],
      "source": [
        "test_func = test_function_2()\n",
        "p1 = tf.constant(float('inf'))\n",
        "try:\n",
        "  test_func(p1)\n",
        "except tf.errors.InvalidArgumentError as e:\n",
        "  traceback.print_exc(limit=2)"
      ]
    },
    {
      "cell_type": "markdown",
      "metadata": {
        "id": "URHpboM8xLN6"
      },
      "source": [
        "`tf.debugging.check_numerics` gera um erro de argumento inválido por causa do argumento `Inf` em `test_func`."
      ]
    },
    {
      "cell_type": "markdown",
      "metadata": {
        "id": "CuPSha9YmJRo"
      },
      "source": [
        "Ative o otimizador de eliminação de depuração e execute a função novamente. "
      ]
    },
    {
      "cell_type": "code",
      "execution_count": null,
      "metadata": {
        "id": "UPJ7ygHnWP6B"
      },
      "outputs": [],
      "source": [
        "with options({'debug_stripper': True}):\n",
        "  test_func2 = test_function_2()\n",
        "  p1 = tf.constant(float('inf'))\n",
        "  try:\n",
        "    test_func2(p1)\n",
        "  except tf.errors.InvalidArgumentError as e:\n",
        "    traceback.print_exc(limit=2)"
      ]
    },
    {
      "cell_type": "markdown",
      "metadata": {
        "id": "nAsESNUB1QpI"
      },
      "source": [
        "O otimizador de eliminação de depuração elimina o nó `tf.debug.check_numerics` do grafo e executa a função sem gerar nenhum erro. "
      ]
    },
    {
      "cell_type": "markdown",
      "metadata": {
        "id": "wHC6tR9GvFgW"
      },
      "source": [
        "## Resumo\n",
        "\n",
        "O runtime do TensorFlow usa o Grappler para otimizar os grafos automaticamente antes da execução. Use `tf.config.optimizer.set_experimental_options` para ativar ou desativar os diversos otimizadores de grafo.\n",
        "\n",
        "Confira mais informações sobre o Grappler em <a href=\"http://web.stanford.edu/class/cs245/slides/TFGraphOptimizationsStanford.pdf\" class=\"external\">Otimizações de grafo do TensorFlow</a>."
      ]
    }
  ],
  "metadata": {
    "colab": {
      "collapsed_sections": [],
      "name": "graph_optimization.ipynb",
      "toc_visible": true
    },
    "kernelspec": {
      "display_name": "Python 3",
      "name": "python3"
    }
  },
  "nbformat": 4,
  "nbformat_minor": 0
}
