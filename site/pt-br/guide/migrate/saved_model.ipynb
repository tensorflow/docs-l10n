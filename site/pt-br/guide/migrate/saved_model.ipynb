{
  "cells": [
    {
      "cell_type": "markdown",
      "metadata": {
        "id": "q9KfUf1BI6Kl"
      },
      "source": [
        "##### Copyright 2021 The TensorFlow Authors."
      ]
    },
    {
      "cell_type": "code",
      "execution_count": null,
      "metadata": {
        "cellView": "form",
        "id": "WvqLCVQ6I58i"
      },
      "outputs": [],
      "source": [
        "#@title Licensed under the Apache License, Version 2.0 (the \"License\");\n",
        "# you may not use this file except in compliance with the License.\n",
        "# You may obtain a copy of the License at\n",
        "#\n",
        "# https://www.apache.org/licenses/LICENSE-2.0\n",
        "#\n",
        "# Unless required by applicable law or agreed to in writing, software\n",
        "# distributed under the License is distributed on an \"AS IS\" BASIS,\n",
        "# WITHOUT WARRANTIES OR CONDITIONS OF ANY KIND, either express or implied.\n",
        "# See the License for the specific language governing permissions and\n",
        "# limitations under the License."
      ]
    },
    {
      "cell_type": "markdown",
      "metadata": {
        "id": "ZoFRICPTNUca"
      },
      "source": [
        "# Migração do fluxo de trabalho SavedModel\n",
        "\n",
        "<table class=\"tfo-notebook-buttons\" align=\"left\">\n",
        "  <td>     <a target=\"_blank\" href=\"https://www.tensorflow.org/guide/migrate/saved_model\"><img src=\"https://www.tensorflow.org/images/tf_logo_32px.png\">Ver em TensorFlow.org</a>\n",
        "</td>\n",
        "  <td>     <a target=\"_blank\" href=\"https://colab.research.google.com/github/tensorflow/docs-l10n/blob/master/site/pt-br/guide/migrate/saved_model.ipynb\"><img src=\"https://www.tensorflow.org/images/colab_logo_32px.png\">Executar no Google Colab</a>\n",
        "</td>\n",
        "  <td>     <a target=\"_blank\" href=\"https://github.com/tensorflow/docs-l10n/blob/master/site/pt-br/guide/migrate/saved_model.ipynb\"> <img src=\"https://www.tensorflow.org/images/GitHub-Mark-32px.png\"> Ver fonte no GitHub</a>\n",
        "</td>\n",
        "  <td>     <a href=\"https://storage.googleapis.com/tensorflow_docs/docs-l10n/site/pt-br/guide/migrate/saved_model.ipynb\"><img src=\"https://www.tensorflow.org/images/download_logo_32px.png\">Baixar notebook</a>\n",
        "</td>\n",
        "</table>"
      ]
    },
    {
      "cell_type": "markdown",
      "metadata": {
        "id": "nGyIb7MYJfaM"
      },
      "source": [
        "Depois de migrar seu modelo dos grafos e sessões do TensorFlow 1 para APIs do TensorFlow 2, como `tf.function`, `tf.Module` e `tf.keras.Model`, você poderá migrar o código de salvamento e carregamento do modelo. Este notebook fornece exemplos de como você pode salvar e carregar o formato SavedModel no TensorFlow 1 e TensorFlow 2. Aqui está uma rápida visão geral das alterações de API relacionadas para migração do TensorFlow 1 para o TensorFlow 2:\n",
        "\n",
        " | TensorFlow 1 | Migração para o TensorFlow 2\n",
        "--- | --- | ---\n",
        "**Salvando** | `tf.compat.v1.saved_model.Builder`<br>`tf.compat.v1.saved_model.simple_save` | `tf.saved_model.save`<br>Keras: `tf.keras.models.save_model`\n",
        "**Carregando** | `tf.compat.v1.saved_model.load` | `tf.saved_model.load`<br>Keras: `tf.keras.models.load_model`\n",
        "**Assinaturas**: um conjunto de entradas<br> e tensores de saída que<br> podem ser usados para executar o<br> | Gerado usando os utilitários `*.signature_def`<br> (por exemplo, `tf.compat.v1.saved_model.predict_signature_def`) | Escreva uma `tf.function` e exporte-a usando o argumento `signatures`<br> em `tf.saved_model.save`.\n",
        "**Classificação<br> e regressão**:<br> tipos especiais de assinaturas | Gerado com<br> `tf.compat.v1.saved_model.classification_signature_def`,<br> `tf.compat.v1.saved_model.regression_signature_def`,<br> e determinadas exportações do Estimator. | Esses dois tipos de assinatura foram removidos do TensorFlow 2.<br> Se a biblioteca de serviço exigir esses nomes de métodos,<br> `tf.compat.v1.saved_model.signature_def_utils.MethodNameUpdater`.\n",
        "\n",
        "Para uma explicação mais detalhada do mapeamento, consulte a seção [Mudanças do TensorFlow 1 para o TensorFlow 2](#changes_from_tf1_to_tf2) abaixo."
      ]
    },
    {
      "cell_type": "markdown",
      "metadata": {
        "id": "r5mR2xsNAGsB"
      },
      "source": [
        "## Configuração\n",
        "\n",
        "Os exemplos abaixo mostram como exportar e carregar o mesmo modelo fictício do TensorFlow (definido como `add_two` abaixo) para um formato SavedModel usando as APIs TensorFlow 1 e TensorFlow 2. Comece configurando as importações e funções utilitárias:"
      ]
    },
    {
      "cell_type": "code",
      "execution_count": null,
      "metadata": {
        "id": "B94QZyy-kOGQ"
      },
      "outputs": [],
      "source": [
        "import tensorflow as tf\n",
        "import tensorflow.compat.v1 as tf1\n",
        "import shutil\n",
        "\n",
        "def remove_dir(path):\n",
        "  try:\n",
        "    shutil.rmtree(path)\n",
        "  except:\n",
        "    pass\n",
        "\n",
        "def add_two(input):\n",
        "  return input + 2"
      ]
    },
    {
      "cell_type": "markdown",
      "metadata": {
        "id": "ZNVpH5tOCgd9"
      },
      "source": [
        "## TensorFlow 1: salve e exporte um SavedModel\n",
        "\n",
        "No TensorFlow 1, você usa as APIs `tf.compat.v1.saved_model.Builder` , `tf.compat.v1.saved_model.simple_save` e `tf.estimator.Estimator.export_saved_model` para criar, salvar e exportar o grafo e a sessão do TensorFlow:"
      ]
    },
    {
      "cell_type": "markdown",
      "metadata": {
        "id": "THRLul5ijmTE"
      },
      "source": [
        "### 1. Salve o gráfico como SavedModel com SavedModelBuilder"
      ]
    },
    {
      "cell_type": "code",
      "execution_count": null,
      "metadata": {
        "id": "dcZDQaI8jl3h"
      },
      "outputs": [],
      "source": [
        "remove_dir(\"saved-model-builder\")\n",
        "\n",
        "with tf.Graph().as_default() as g:\n",
        "  with tf1.Session() as sess:\n",
        "    input = tf1.placeholder(tf.float32, shape=[])\n",
        "    output = add_two(input)\n",
        "    print(\"add two output: \", sess.run(output, {input: 3.}))\n",
        "\n",
        "    # Save with SavedModelBuilder\n",
        "    builder = tf1.saved_model.Builder('saved-model-builder')\n",
        "    sig_def = tf1.saved_model.predict_signature_def(\n",
        "        inputs={'input': input},\n",
        "        outputs={'output': output})\n",
        "    builder.add_meta_graph_and_variables(\n",
        "        sess, tags=[\"serve\"], signature_def_map={\n",
        "            tf.saved_model.DEFAULT_SERVING_SIGNATURE_DEF_KEY: sig_def\n",
        "    })\n",
        "    builder.save()"
      ]
    },
    {
      "cell_type": "code",
      "execution_count": null,
      "metadata": {
        "id": "PwtC27VFlwCa"
      },
      "outputs": [],
      "source": [
        "!saved_model_cli run --dir saved-model-builder --tag_set serve \\\n",
        " --signature_def serving_default --input_exprs input=10"
      ]
    },
    {
      "cell_type": "markdown",
      "metadata": {
        "id": "gnBDNTxKG_vR"
      },
      "source": [
        "### 2. Crie um SavedModel para servir"
      ]
    },
    {
      "cell_type": "code",
      "execution_count": null,
      "metadata": {
        "id": "jtMxe2rjHSq9"
      },
      "outputs": [],
      "source": [
        "remove_dir(\"simple-save\")\n",
        "\n",
        "with tf.Graph().as_default() as g:\n",
        "  with tf1.Session() as sess:\n",
        "    input = tf1.placeholder(tf.float32, shape=[])\n",
        "    output = add_two(input)\n",
        "    print(\"add_two output: \", sess.run(output, {input: 3.}))\n",
        "\n",
        "    tf1.saved_model.simple_save(\n",
        "        sess, 'simple-save',\n",
        "        inputs={'input': input},\n",
        "        outputs={'output': output})"
      ]
    },
    {
      "cell_type": "code",
      "execution_count": null,
      "metadata": {
        "id": "AdnqemvIHb2P"
      },
      "outputs": [],
      "source": [
        "!saved_model_cli run --dir simple-save --tag_set serve \\\n",
        " --signature_def serving_default --input_exprs input=10"
      ]
    },
    {
      "cell_type": "markdown",
      "metadata": {
        "id": "r0BNzzAHjnkp"
      },
      "source": [
        "### 3. Exporte o grafo de inferência do Estimador como um SavedModel\n",
        "\n",
        "Na definição do Estimador `model_fn` (definido abaixo), você pode definir assinaturas em seu modelo retornando `export_outputs` em `tf.estimator.EstimatorSpec`. Existem diferentes tipos de saídas:\n",
        "\n",
        "- `tf.estimator.export.ClassificationOutput`\n",
        "- `tf.estimator.export.RegressionOutput`\n",
        "- `tf.estimator.export.PredictOutput`\n",
        "\n",
        "Eles produzirão tipos de assinatura para classificação, regressão e previsão, respectivamente.\n",
        "\n",
        "Quando o estimador for exportado com `tf.estimator.Estimator.export_saved_model`, essas assinaturas serão salvas com o modelo."
      ]
    },
    {
      "cell_type": "code",
      "execution_count": null,
      "metadata": {
        "id": "3nQ5Stnxjhfs"
      },
      "outputs": [],
      "source": [
        "def model_fn(features, labels, mode):\n",
        "  output = add_two(features['input'])\n",
        "  step = tf1.train.get_global_step()\n",
        "  return tf.estimator.EstimatorSpec(\n",
        "      mode,\n",
        "      predictions=output,\n",
        "      train_op=step.assign_add(1),\n",
        "      loss=tf.constant(0.),\n",
        "      export_outputs={\n",
        "          tf.saved_model.DEFAULT_SERVING_SIGNATURE_DEF_KEY: \\\n",
        "          tf.estimator.export.PredictOutput({'output': output})})\n",
        "est = tf.estimator.Estimator(model_fn, 'estimator-checkpoints')\n",
        "\n",
        "# Train for one step to create a checkpoint.\n",
        "def train_fn():\n",
        "  return tf.data.Dataset.from_tensors({'input': 3.})\n",
        "est.train(train_fn, steps=1)\n",
        "\n",
        "# This utility function `build_raw_serving_input_receiver_fn` takes in raw\n",
        "# tensor features and builds an \"input serving receiver function\", which\n",
        "# creates placeholder inputs to the model.\n",
        "serving_input_fn = tf.estimator.export.build_raw_serving_input_receiver_fn(\n",
        "    {'input': tf.constant(3.)})  # Pass in a dummy input batch.\n",
        "estimator_path = est.export_saved_model('exported-estimator', serving_input_fn)\n",
        "\n",
        "# Estimator's export_saved_model creates a time stamped directory. Move this\n",
        "# to a set path so it can be inspected with `saved_model_cli` in the cell below.\n",
        "!rm -rf estimator-model\n",
        "import shutil\n",
        "shutil.move(estimator_path, 'estimator-model')"
      ]
    },
    {
      "cell_type": "code",
      "execution_count": null,
      "metadata": {
        "id": "8_gD2gkE7CMu"
      },
      "outputs": [],
      "source": [
        "!saved_model_cli run --dir estimator-model --tag_set serve \\\n",
        " --signature_def serving_default --input_exprs input=[10]"
      ]
    },
    {
      "cell_type": "markdown",
      "metadata": {
        "id": "DyBvrNQgIhIo"
      },
      "source": [
        "## TensorFlow 2: salve e exporte um SavedModel"
      ]
    },
    {
      "cell_type": "markdown",
      "metadata": {
        "id": "BZmFH-eIjqjB"
      },
      "source": [
        "### Salve e exporte um SavedModel definido com tf.Module\n",
        "\n",
        "Para exportar seu modelo no TensorFlow 2, você deve definir um `tf.Module` ou um `tf.keras.Model` para armazenar todas as variáveis ​​e funções do seu modelo. Então, você pode chamar `tf.saved_model.save` para criar um SavedModel. Consulte a seção *Salvando um modelo personalizado* no guia [Usando o formato SavedModel](../saved_model.ipynb) para saber mais."
      ]
    },
    {
      "cell_type": "code",
      "execution_count": null,
      "metadata": {
        "id": "_j-PwgP_jrgw"
      },
      "outputs": [],
      "source": [
        "class MyModel(tf.Module):\n",
        "  @tf.function\n",
        "  def __call__(self, input):\n",
        "    return add_two(input)\n",
        "\n",
        "model = MyModel()\n",
        "\n",
        "@tf.function\n",
        "def serving_default(input):\n",
        "  return {'output': model(input)}\n",
        "\n",
        "signature_function = serving_default.get_concrete_function(\n",
        "    tf.TensorSpec(shape=[], dtype=tf.float32))\n",
        "tf.saved_model.save(\n",
        "    model, 'tf2-save', signatures={\n",
        "        tf.saved_model.DEFAULT_SERVING_SIGNATURE_DEF_KEY: signature_function})"
      ]
    },
    {
      "cell_type": "code",
      "execution_count": null,
      "metadata": {
        "id": "slvU4vZN756F"
      },
      "outputs": [],
      "source": [
        "!saved_model_cli run --dir tf2-save --tag_set serve \\\n",
        " --signature_def serving_default --input_exprs input=10"
      ]
    },
    {
      "cell_type": "markdown",
      "metadata": {
        "id": "UYpSfbBJjr33"
      },
      "source": [
        "### Salve e exporte um SavedModel definido com Keras\n",
        "\n",
        "Obsoleto: para objetos do Keras, recomenda-se usar o novo formato de alto nível `.keras` e `tf.keras.Model.export`, conforme demonstrado [neste guia](https://www.tensorflow.org/guide/keras/save_and_serialize). O formato de baixo nível SavedModel continua com suporte para códigos existentes.\n",
        "\n",
        "As APIs Keras para salvar e exportar — `Model.save` ou `tf.keras.models.save_model` — podem exportar um SavedModel de um `tf.keras.Model`. Confira [Salvando e carregando modelos Keras](../..guide/keras/save_and_serialize) para obter mais detalhes."
      ]
    },
    {
      "cell_type": "code",
      "execution_count": null,
      "metadata": {
        "id": "mMcjhzyRjvp6"
      },
      "outputs": [],
      "source": [
        "inp = tf.keras.Input(3)\n",
        "out = add_two(inp)\n",
        "model = tf.keras.Model(inputs=inp, outputs=out)\n",
        "\n",
        "@tf.function(input_signature=[tf.TensorSpec(shape=[], dtype=tf.float32)])\n",
        "def serving_default(input):\n",
        "  return {'output': model(input)}\n",
        "\n",
        "model.save('keras-model', save_format='tf', signatures={\n",
        "        tf.saved_model.DEFAULT_SERVING_SIGNATURE_DEF_KEY: serving_default})"
      ]
    },
    {
      "cell_type": "code",
      "execution_count": null,
      "metadata": {
        "id": "4P93WP5R7-VT"
      },
      "outputs": [],
      "source": [
        "!saved_model_cli run --dir keras-model --tag_set serve \\\n",
        " --signature_def serving_default --input_exprs input=10"
      ]
    },
    {
      "cell_type": "markdown",
      "metadata": {
        "id": "SEKe9rGgoGCw"
      },
      "source": [
        "## Carregando um SavedModel\n",
        "\n",
        "Um SavedModel salvo com qualquer uma das APIs acima pode ser carregado usando as APIs TensorFlow 1 ou TensorFlow 2.\n",
        "\n",
        "Um SavedModel do TensorFlow 1 geralmente pode ser usado para inferência quando carregado no TensorFlow 2, mas o treinamento (geração de gradientes) só é possível se o SavedModel contiver *variáveis ​​de características*. Você pode verificar o dtype das variáveis ​​- se a variável dtype contiver \"_ref\", então é uma variável de referência.\n",
        "\n",
        "Um SavedModel do TensorFlow 2 pode ser carregado e executado a partir do TensorFlow 1, desde que o SavedModel seja salvo com assinaturas.\n",
        "\n",
        "As seções abaixo contêm exemplos de código que mostram como carregar os SavedModels salvos nas seções anteriores e chamar a assinatura exportada."
      ]
    },
    {
      "cell_type": "markdown",
      "metadata": {
        "id": "hLztK_0YoTEP"
      },
      "source": [
        "### TensorFlow 1: Carregando um SavedModel com tf.saved_model.load\n",
        "\n",
        "No TensorFlow 1, você pode importar um SavedModel diretamente para o grafo e sessão atuais usando `tf.saved_model.load`. Você pode chamar `Session.run` nos nomes de entrada e saída do tensor:"
      ]
    },
    {
      "cell_type": "code",
      "execution_count": null,
      "metadata": {
        "id": "IMO0laj-m0p9"
      },
      "outputs": [],
      "source": [
        "def load_tf1(path, input):\n",
        "  print('Loading from', path)\n",
        "  with tf.Graph().as_default() as g:\n",
        "    with tf1.Session() as sess:\n",
        "      meta_graph = tf1.saved_model.load(sess, [\"serve\"], path)\n",
        "      sig_def = meta_graph.signature_def[tf.saved_model.DEFAULT_SERVING_SIGNATURE_DEF_KEY]\n",
        "      input_name = sig_def.inputs['input'].name\n",
        "      output_name = sig_def.outputs['output'].name\n",
        "      print('  Output with input', input, ': ', \n",
        "            sess.run(output_name, feed_dict={input_name: input}))\n",
        "\n",
        "load_tf1('saved-model-builder', 5.)\n",
        "load_tf1('simple-save', 5.)\n",
        "load_tf1('estimator-model', [5.])  # Estimator's input must be batched.\n",
        "load_tf1('tf2-save', 5.)\n",
        "load_tf1('keras-model', 5.)"
      ]
    },
    {
      "cell_type": "markdown",
      "metadata": {
        "id": "FbR3sfvooVBN"
      },
      "source": [
        "### TensorFlow 2: Carregando um modelo salvo com tf.saved_model\n",
        "\n",
        "No TensorFlow 2, os objetos são carregados em um objeto Python que armazena as variáveis ​​e funções. Isso é compatível com modelos salvos no TensorFlow 1.\n",
        "\n",
        "Confira os documentos da API `tf.saved_model.load` e a seção [Carregando e usando um modelo personalizado](../../guide/saved_model#loading_and_using_a_custom_model) no guia [Usando o formato SavedModel](../..guide/saved_model) para mais detalhes."
      ]
    },
    {
      "cell_type": "code",
      "execution_count": null,
      "metadata": {
        "id": "OA52ezWV_KgL"
      },
      "outputs": [],
      "source": [
        "def load_tf2(path, input):\n",
        "  print('Loading from', path)\n",
        "  loaded = tf.saved_model.load(path)\n",
        "  out = loaded.signatures[tf.saved_model.DEFAULT_SERVING_SIGNATURE_DEF_KEY](\n",
        "      tf.constant(input))['output']\n",
        "  print('  Output with input', input, ': ', out)\n",
        "\n",
        "load_tf2('saved-model-builder', 5.)\n",
        "load_tf2('simple-save', 5.)\n",
        "load_tf2('estimator-model', [5.])  # Estimator's input must be batched.\n",
        "load_tf2('tf2-save', 5.)\n",
        "load_tf2('keras-model', 5.)"
      ]
    },
    {
      "cell_type": "markdown",
      "metadata": {
        "id": "Gz3VFn5aAfmK"
      },
      "source": [
        "Os modelos salvos com a API do TensorFlow 2 também podem acessar objetos `tf.function` e variáveis ​​anexadas ao modelo (em vez daquelas exportadas como assinaturas). Por exemplo:"
      ]
    },
    {
      "cell_type": "code",
      "execution_count": null,
      "metadata": {
        "id": "IfMTp-TGAfOs"
      },
      "outputs": [],
      "source": [
        "loaded = tf.saved_model.load('tf2-save')\n",
        "print('restored __call__:', loaded.__call__)\n",
        "print('output with input 5.', loaded(5))"
      ]
    },
    {
      "cell_type": "markdown",
      "metadata": {
        "id": "VMoErNKHoXEg"
      },
      "source": [
        "### TensorFlow 2: Carregando um modelo salvo com Keras\n",
        "\n",
        "Obsoleto: para objetos do Keras, recomenda-se usar o novo formato de alto nível `.keras` e `tf.keras.Model.export`, conforme demonstrado [neste guia](https://www.tensorflow.org/guide/keras/save_and_serialize). O formato de baixo nível SavedModel continua com suporte para códigos existentes.\n",
        "\n",
        "A API de carregamento do Keras `tf.keras.models.load_model` - permite recarregar um modelo salvo de volta num objeto Keras Model. Observe que isto só permite carregar SavedModels salvos com Keras (`Model.save` ou `tf.keras.models.save_model`).\n",
        "\n",
        "Os modelos salvos com `tf.saved_model.save` devem ser carregados com `tf.saved_model.load`. Você pode carregar um modelo Keras salvo com `Model.save` usando `tf.saved_model.load`, mas obterá apenas o grafo do TensorFlow. Consulte a documentação da API `tf.keras.models.load_model` e o guia [Salvando e carregando modelos Keras](https://www.tensorflow.org/guide/keras/save_and_serialize#savedmodel_format) para mais detalhes."
      ]
    },
    {
      "cell_type": "code",
      "execution_count": null,
      "metadata": {
        "id": "ZFUAxK0YeIAe"
      },
      "outputs": [],
      "source": [
        "loaded_model = tf.keras.models.load_model('keras-model')\n",
        "loaded_model.predict_on_batch(tf.constant([1, 3, 4]))"
      ]
    },
    {
      "cell_type": "markdown",
      "metadata": {
        "id": "Tz4eAAGY19MM"
      },
      "source": [
        "## GraphDef e MetaGraphDef\n",
        "\n",
        "&lt;a name=\"graphdef_and_metagraphdef\"&gt;\n",
        "\n",
        "Não existe uma maneira simples de carregar um `GraphDef` ou `MetaGraphDef` bruto no TF2. No entanto, você pode converter o código TF1 que importa o grafo numa [`concrete_function`](https://tensorflow.org/guide/concrete_function) do TF2 usando[`v1.wrap_function`](https://www.tensorflow.org/api_docs/python/tf/compat/v1/wrap_function).\n",
        "\n",
        "Primeiro, salve um MetaGraphDef:"
      ]
    },
    {
      "cell_type": "code",
      "execution_count": null,
      "metadata": {
        "id": "grKam9zGnNRZ"
      },
      "outputs": [],
      "source": [
        "# Save a simple multiplication computation:\n",
        "with tf.Graph().as_default() as g:\n",
        "  x = tf1.placeholder(tf.float32, shape=[], name='x')\n",
        "  v = tf.Variable(3.0, name='v')\n",
        "  y = tf.multiply(x, v, name='y')\n",
        "  with tf1.Session() as sess:\n",
        "    sess.run(v.initializer)\n",
        "    print(sess.run(y, feed_dict={x: 5}))\n",
        "    s = tf1.train.Saver()\n",
        "    s.export_meta_graph('multiply.pb', as_text=True)\n",
        "    s.save(sess, 'multiply_values.ckpt')"
      ]
    },
    {
      "cell_type": "markdown",
      "metadata": {
        "id": "bJnCe7eYrXev"
      },
      "source": [
        "Usando APIs do TF1, você pode usar `tf1.train.import_meta_graph` para importar o grafo e restaurar os valores:"
      ]
    },
    {
      "cell_type": "code",
      "execution_count": null,
      "metadata": {
        "id": "3bbcGZ4CoVDL"
      },
      "outputs": [],
      "source": [
        "with tf.Graph().as_default() as g:\n",
        "  meta = tf1.train.import_meta_graph('multiply.pb')\n",
        "  x = g.get_tensor_by_name('x:0')\n",
        "  y = g.get_tensor_by_name('y:0')\n",
        "  with tf1.Session() as sess:\n",
        "    meta.restore(sess, 'multiply_values.ckpt')\n",
        "    print(sess.run(y, feed_dict={x: 5}))"
      ]
    },
    {
      "cell_type": "markdown",
      "metadata": {
        "id": "s9OnHOLDrnco"
      },
      "source": [
        "Não há APIs do TF2 para carregar o grafo, mas você ainda pode importá-lo para uma função concreta que pode ser executada no modo eager:"
      ]
    },
    {
      "cell_type": "code",
      "execution_count": null,
      "metadata": {
        "id": "yAyGmDLlpVBX"
      },
      "outputs": [],
      "source": [
        "def import_multiply():\n",
        "  # Any graph-building code is allowed here.\n",
        "  tf1.train.import_meta_graph('multiply.pb')\n",
        "\n",
        "# Creates a tf.function with all the imported elements in the function graph.\n",
        "wrapped_import = tf1.wrap_function(import_multiply, [])\n",
        "import_graph = wrapped_import.graph\n",
        "x = import_graph.get_tensor_by_name('x:0')\n",
        "y = import_graph.get_tensor_by_name('y:0')\n",
        "\n",
        "# Restore the variable values.\n",
        "tf1.train.Saver(wrapped_import.variables).restore(\n",
        "    sess=None, save_path='multiply_values.ckpt')\n",
        "\n",
        "# Create a concrete function by pruning the wrap_function (similar to sess.run).\n",
        "multiply_fn = wrapped_import.prune(feeds=x, fetches=y)\n",
        "\n",
        "# Run this function\n",
        "multiply_fn(tf.constant(5.))  # inputs to concrete functions must be Tensors."
      ]
    },
    {
      "cell_type": "markdown",
      "metadata": {
        "id": "GZ5vGJ0IDorc"
      },
      "source": [
        "## Mudanças do TensorFlow 1 para o TensorFlow 2\n",
        "\n",
        "&lt;a id=\"changes_from_tf1_to_tf2\"&gt;\n",
        "\n",
        "Esta seção lista os principais termos de salvamento e carregamento do TensorFlow 1, seus equivalentes do TensorFlow 2 e o que mudou.\n",
        "\n",
        "### SavedModel\n",
        "\n",
        "[SavedModel](../../guide/saved_model.ipynb) é um formato que armazena um programa TensorFlow completo com seus parâmetros e computação. Ele contém assinaturas usadas pelas plataformas de serviço para executar o modelo.\n",
        "\n",
        "O formato do arquivo em si não mudou significativamente, portanto, SavedModels podem ser carregados e servidos usando APIs TensorFlow 1 ou TensorFlow 2.\n",
        "\n",
        "**Diferenças entre TensorFlow 1 e TensorFlow 2**\n",
        "\n",
        "Os casos de uso *serviço* (serving) e *inferência* (inference) não foram atualizados no TensorFlow 2, além das alterações na API – a melhoria foi introduzida na capacidade de *reutilizar* e *compor modelos* carregados de SavedModel.\n",
        "\n",
        "No TensorFlow 2, o programa é representado por objetos como `tf.Variable`, `tf.Module` ou modelos Keras de nível superior (`tf.keras.Model`) e camadas (`tf.keras.layers`). Não há mais variáveis ​​globais que tenham valores armazenados numa sessão, e o grafo agora existe em diferentes objetos `tf.function`. Conseqüentemente, durante uma exportação de modelo, SavedModel salva cada componente e grafo de função separadamente.\n",
        "\n",
        "Ao escrever um programa do TensorFlow com as APIs Python do TensorFlow, você deve criar um objeto para gerenciar as variáveis, funções e outros recursos. Geralmente, isso é feito usando as APIs Keras, mas você também pode construir o objeto criando um `tf.Module` ou uma subclasse dele.\n",
        "\n",
        "Os modelos Keras (`tf.keras.Model`) e `tf.Module` rastreiam automaticamente variáveis ​​e funções anexadas a eles. SavedModel salva essas conexões entre módulos, variáveis ​​e funções, para que possam ser restauradas durante o carregamento.\n",
        "\n",
        "### Assinaturas\n",
        "\n",
        "As assinaturas são os endpoints de um SavedModel – elas informam ao usuário como executar o modelo e quais entradas são necessárias.\n",
        "\n",
        "No TensorFlow 1, as assinaturas são criadas listando os tensores de entrada e saída. No TensorFlow 2, as assinaturas são geradas pela passagem de *funções concretas*. (Leia mais sobre as funções do TensorFlow no guia [Introdução a grafos e tf.function](../intro_to_graphs.ipynb), particularmente na seção *Polimorfismo: uma função, muitos grafos*.) Resumindo, uma função concreta é gerada a partir de um `tf.function`:\n",
        "\n",
        "```python\n",
        "# Option 1: Specify an input signature.\n",
        "@tf.function(input_signature=[...])\n",
        "def fn(...):\n",
        "  ...\n",
        "  return outputs\n",
        "\n",
        "tf.saved_model.save(model, path, signatures={\n",
        "    'name': fn\n",
        "})\n",
        "```\n",
        "\n",
        "```python\n",
        "# Option 2: Call `get_concrete_function`\n",
        "@tf.function\n",
        "def fn(...):\n",
        "  ...\n",
        "  return outputs\n",
        "\n",
        "tf.saved_model.save(model, path, signatures={\n",
        "    'name': fn.get_concrete_function(...)\n",
        "})\n",
        "```\n",
        "\n",
        "### `Session.run`\n",
        "\n",
        "No TensorFlow 1, você poderia chamar `Session.run` com o grafo importado, desde que já conhecesse os nomes dos tensores. Isto permite recuperar os valores de variáveis ​​restaurados ou executar partes do modelo que não foram exportadas nas assinaturas.\n",
        "\n",
        "No TensorFlow 2, você pode acessar uma variável diretamente, como uma matriz de pesos (`kernel`):\n",
        "\n",
        "```python\n",
        "model = tf.Module()\n",
        "model.dense_layer = tf.keras.layers.Dense(...)\n",
        "tf.saved_model.save('my_saved_model')\n",
        "loaded = tf.saved_model.load('my_saved_model')\n",
        "loaded.dense_layer.kernel\n",
        "```\n",
        "\n",
        "ou chamar `tf.functions` anexadas ao objeto de modelo: por exemplo, `loaded.__call__`.\n",
        "\n",
        "Diferentemente do TF1, não há como extrair partes de uma função e acessar valores intermediários. Você *precisa* exportar todas as funcionalidades necessárias no objeto salvo.\n"
      ]
    },
    {
      "cell_type": "markdown",
      "metadata": {
        "id": "b6NG9JvUwJxn"
      },
      "source": [
        "## Notas de migração do TensorFlow Serving\n",
        "\n",
        "O SavedModel foi originalmente criado para funcionar com o [TensorFlow Serving](https://www.tensorflow.org/tfx/guide/serving). Esta plataforma oferece diferentes tipos de solicitações de previsão: classificar (classify), regredir (regress) e prever (predict).\n",
        "\n",
        "A API **TensorFlow 1** permite criar estes tipos de assinaturas com os utilitários a seguir:\n",
        "\n",
        "- `tf.compat.v1.saved_model.classification_signature_def`\n",
        "- `tf.compat.v1.saved_model.regression_signature_def`\n",
        "- `tf.compat.v1.saved_model.predict_signature_def`\n",
        "\n",
        "[A classificação](https://www.tensorflow.org/tfx/serving/signature_defs#classification_signaturedef) (`classification_signature_def`) e [a regressão](https://www.tensorflow.org/tfx/serving/signature_defs#regression_signaturedef) (`regression_signature_def`) restringem as entradas e saídas, portanto as entradas devem ser `tf.Example` e as saídas devem ser `classes`, `scores` ou `prediction`. Enquanto isso, [a assinatura de previsão](https://www.tensorflow.org/tfx/serving/signature_defs#predict_signaturedef) (`predict_signature_def`) não tem restrições.\n",
        "\n",
        "SavedModels exportados com a API **TensorFlow 2** são compatíveis com TensorFlow Serving, mas conterão apenas assinaturas de previsão. As assinaturas de classificação e regressão foram removidas.\n",
        "\n",
        "Se precisar do uso das assinaturas de classificação e regressão, você poderá modificar o SavedModel exportado usando `tf.compat.v1.saved_model.signature_def_utils.MethodNameUpdater`."
      ]
    },
    {
      "cell_type": "markdown",
      "metadata": {
        "id": "a3acd3b86215"
      },
      "source": [
        "## Próximos passos\n",
        "\n",
        "Para saber mais sobre SavedModels no TensorFlow 2, confira os seguintes guias:\n",
        "\n",
        "- [Usando o formato SavedModel](https://www.tensorflow.org/guide/saved_model)\n",
        "- Salvamento e carga de modelos Keras\n",
        "\n",
        "Se você estiver usando o TensorFlow Hub, estes guias poderão ser úteis:\n",
        "\n",
        "- [TensorFlow Hub: compatibilidade de modelos para TensorFlow 1/TensorFlow 2](https://www.tensorflow.org/hub/model_compatibility)\n",
        "- [Migrando do TensorFlow 1 para o TensorFlow 2 com TensorFlow Hub](https://www.tensorflow.org/hub/migration_tf2)"
      ]
    }
  ],
  "metadata": {
    "colab": {
      "collapsed_sections": [],
      "name": "saved_model.ipynb",
      "toc_visible": true
    },
    "kernelspec": {
      "display_name": "Python 3",
      "name": "python3"
    }
  },
  "nbformat": 4,
  "nbformat_minor": 0
}
