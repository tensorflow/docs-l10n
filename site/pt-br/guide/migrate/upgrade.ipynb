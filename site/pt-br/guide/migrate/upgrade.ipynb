{
  "cells": [
    {
      "cell_type": "markdown",
      "metadata": {
        "id": "6bYaCABobL5q"
      },
      "source": [
        "##### Copyright 2018 The TensorFlow Authors."
      ]
    },
    {
      "cell_type": "code",
      "execution_count": null,
      "metadata": {
        "cellView": "form",
        "id": "FlUw7tSKbtg4"
      },
      "outputs": [],
      "source": [
        "#@title Licensed under the Apache License, Version 2.0 (the \"License\");\n",
        "# you may not use this file except in compliance with the License.\n",
        "# You may obtain a copy of the License at\n",
        "#\n",
        "# https://www.apache.org/licenses/LICENSE-2.0\n",
        "#\n",
        "# Unless required by applicable law or agreed to in writing, software\n",
        "# distributed under the License is distributed on an \"AS IS\" BASIS,\n",
        "# WITHOUT WARRANTIES OR CONDITIONS OF ANY KIND, either express or implied.\n",
        "# See the License for the specific language governing permissions and\n",
        "# limitations under the License."
      ]
    },
    {
      "cell_type": "markdown",
      "metadata": {
        "id": "08OTcmxgqkc2"
      },
      "source": [
        "# Reescrevendo automaticamente os símbolos das APIs TF 1.x e compat.v1\n",
        "\n",
        "<table class=\"tfo-notebook-buttons\" align=\"left\">\n",
        "  <td>     <a target=\"_blank\" href=\"https://www.tensorflow.org/guide/migrate/upgrade\"><img src=\"https://www.tensorflow.org/images/tf_logo_32px.png\">Ver em TensorFlow.org</a>\n",
        "</td>\n",
        "  <td>     <a target=\"_blank\" href=\"https://colab.research.google.com/github/tensorflow/docs-l10n/blob/master/site/pt-br/guide/migrate/upgrade.ipynb\"><img src=\"https://www.tensorflow.org/images/colab_logo_32px.png\">Executar no Google Colab</a>\n",
        "</td>\n",
        "  <td>     <a target=\"_blank\" href=\"https://github.com/tensorflow/docs-l10n/blob/master/site/pt-br/guide/migrate/upgrade.ipynb\"> <img src=\"https://www.tensorflow.org/images/GitHub-Mark-32px.png\"> Ver fonte no GitHub</a>\n",
        "</td>\n",
        "  <td>     <a target=\"_blank\" href=\"https://storage.googleapis.com/tensorflow_docs/docs-l10n/site/pt-br/guide/migrate/upgrade.ipynb\"><img src=\"https://www.tensorflow.org/images/download_logo_32px.png\">Baixar notebook</a>\n",
        "</td>\n",
        "</table>\n"
      ]
    },
    {
      "cell_type": "markdown",
      "metadata": {
        "id": "hZSaRPoybOp5"
      },
      "source": [
        "Migrar para a API do TensorFlow 2.x das APIs do TF 1.x e `tf.compat.v1` envolve realizar várias alterações como reordenar argumentos, renomear símbolos e mudar os valores padrão para parâmetros. Realizar todas essas modificações manualmente não apenas é chato, como também é sujeito a erros. Para simplificar as alterações e deixar sua transição para o TF 2.x a mais perfeita possível, a equipe do TensorFlow criou o utilitário `tf_upgrade_v2` para ajudar na transição do código legado para a nova API.\n",
        "\n",
        "Observação: `tf_upgrade_v2` é instalado automaticamente para o TensorFlow 1.13 e posterior (incluindo todos os builds do TF 2.x).\n",
        "\n",
        "O uso típico está mostrado a seguir:\n",
        "\n",
        "<pre class=\"devsite-terminal devsite-click-to-copy prettyprint lang-bsh\">\n",
        "tf_upgrade_v2 \\\n",
        "  --intree my_project/ \\\n",
        "  --outtree my_project_v2/ \\\n",
        "  --reportfile report.txt\n",
        "</pre>\n",
        "\n",
        "Isto vai acelerar seu processo de upgrade convertendo os scripts Python existentes do TensorFlow 1.x para o TensorFlow 2.x.\n",
        "\n",
        "O script de conversão automatiza diversas transformações mecânicas da API, embora muitas APIs não possam ser migradas automaticamente. Ele também não é capaz de deixar seu código totalmente compatível com os comportamentos e APIs do TF2. Portanto, é apenas uma parte de sua jornada de migração."
      ]
    },
    {
      "cell_type": "markdown",
      "metadata": {
        "id": "gP9v2vgptdfi"
      },
      "source": [
        "## Módulos de compatibilidade\n",
        "\n",
        "Determinados símbolos da API não podem ser atualizados simplesmente com uma substituição do string. Aqueles que não podem ser atualizados automaticamente serão mapeados para seus locais no módulo `compat.v1`. Este módulo substitui símbolos TF 1.x como `tf.foo` pela referência `tf.compat.v1.foo` equivalente. Se você já estiver usando APIs `compat.v1` através da importação do TF via `import tensorflow.compat.v1 as tf`, o script `tf_upgrade_v2` tentará converter esses usos para as APIs não compatíveis sempre que possível. Observe que, embora algumas APIs `compat.v1` sejam compatíveis com os comportamentos do TF2.x, muitas outras não são. Portanto, é recomendável revisar manualmente as substituições e migrá-las para novas APIs no namespace `tf.*` em vez do namespace `tf.compat.v1` o mais rápido possível.\n",
        "\n",
        "Devido às descontinuações (deprecations) do módulo TensorFlow 2.x (por exemplo, `tf.flags` e `tf.contrib`), algumas alterações não podem ser contornadas mudando para `compat.v1`. A atualização desse código pode exigir o uso de uma biblioteca adicional (por exemplo, [`absl.flags`](https://github.com/abseil/abseil-py)) ou a mudança para um pacote em [tensorflow/addons](http://www.github.com/tensorflow/addons).\n"
      ]
    },
    {
      "cell_type": "markdown",
      "metadata": {
        "id": "s78bbfjkXYb7"
      },
      "source": [
        "## Processo de atualização recomendado\n",
        "\n",
        "O restante deste guia demonstra como usar o script de reescrita de símbolos. Embora o script seja fácil de usar, é altamente recomendável usá-lo como parte do seguinte processo:\n",
        "\n",
        "1. **Teste de unidade**: certifique-se de que o código que você está atualizando tenha um conjunto de testes de unidade com cobertura razoável. Como trata-se de código Python, a linguagem não vai oferecer proteção contra diversas classes de erros. Certifique-se também de que qualquer dependência já tenha sido atualizada para ser compatível com o TensorFlow 2.x.\n",
        "\n",
        "2. **Instale o TensorFlow 1.15**: faça o upgrade do seu TensorFlow para a versão mais recente do TensorFlow 1.x, pelo menos a versão 1.15. Isto inclui a API final do TensorFlow 2.0 em `tf.compat.v2`.\n",
        "\n",
        "3. **Faça testes com a versão 1.15**: Certifique-se de que seus testes de unidade passem nesta etapa. Você vai executá-los repetidamente durante o upgrade, portanto, começar com os testes rodando no verde é importante.\n",
        "\n",
        "4. **Execute o script de atualização**: execute `tf_upgrade_v2` em toda a sua árvore de código-fonte, inclusive testes. Isto vai atualizar seu código para um formato em que ele usará apenas os símbolos disponíveis no TensorFlow 2.0. Os símbolos descontinuados serão acessados ​​com `tf.compat.v1`. Eventualmente, eles exigirão atenção manual, mas não imediatamente.\n",
        "\n",
        "5. **Execute os testes convertidos com o TensorFlow 1.15**: seu código ainda deve funcionar bem no TensorFlow 1.15. Execute seus testes de unidade novamente. Qualquer erro em seus testes nesta etapa significa que há um bug no script de upgrade. [Por favor, conte para a gente](https://github.com/tensorflow/tensorflow/issues) .\n",
        "\n",
        "6. **Verifique se há avisos e erros no relatório de upgrade**: o script grava um arquivo de relatório que explica todas as conversões que você deve verificar novamente ou qualquer ação manual que precise ser executada. Por exemplo: Quaisquer instâncias restantes de contrib exigirão ação manual para serem removidas. Consulte [o RFC para obter mais instruções](https://github.com/tensorflow/community/blob/master/rfcs/20180907-contrib-sunset.md).\n",
        "\n",
        "7. **Instale o TensorFlow 2.x**: neste ponto, já deve ser seguro mudar para os binários do TensorFlow 2.x, mesmo que você esteja executando com comportamentos legados\n",
        "\n",
        "8. **Teste com `v1.disable_v2_behavior`**: Executar novamente seus testes com `v1.disable_v2_behavior()` na função principal dos testes deve fornecer os mesmos resultados da execução na versão 1.15.\n",
        "\n",
        "9. **Ative o comportamento V2**: agora que seus testes funcionam usando os binários do TF2, você pode começar a migrar seu código para evitar objetos `tf.estimator` e usar apenas os comportamentos TF2 suportados (sem desativar o comportamento TF2). Consulte os [Guias de migração](https://tensorflow.org/guide/migrate) para mais detalhes."
      ]
    },
    {
      "cell_type": "markdown",
      "metadata": {
        "id": "6pwSAQEwvscP"
      },
      "source": [
        "## Usando o script de reescrita de símbolos `tf_upgrade_v2`\n"
      ]
    },
    {
      "cell_type": "markdown",
      "metadata": {
        "id": "I9NCvDt5GwX4"
      },
      "source": [
        "### Configuração\n",
        "\n",
        "Antes de começar, verifique se o TensorFlow 2.x está instalado."
      ]
    },
    {
      "cell_type": "code",
      "execution_count": null,
      "metadata": {
        "id": "DWVYbvi1WCeY"
      },
      "outputs": [],
      "source": [
        "import tensorflow as tf\n",
        "\n",
        "print(tf.__version__)"
      ]
    },
    {
      "cell_type": "markdown",
      "metadata": {
        "id": "Ycy3B5PNGutU"
      },
      "source": [
        "Clone o repositório git [tensorflow/models](https://github.com/tensorflow/models) para que você tenha código para testar:"
      ]
    },
    {
      "cell_type": "code",
      "execution_count": null,
      "metadata": {
        "id": "jyckoWyAZEhZ"
      },
      "outputs": [],
      "source": [
        "!git clone --branch r1.13.0 --depth 1 https://github.com/tensorflow/models"
      ]
    },
    {
      "cell_type": "markdown",
      "metadata": {
        "id": "wfHOhbkgvrKr"
      },
      "source": [
        "### Leia a ajuda\n",
        "\n",
        "O script deve ser instalado com o TensorFlow. Aqui está a ajuda integrada:"
      ]
    },
    {
      "cell_type": "code",
      "execution_count": null,
      "metadata": {
        "id": "m2GF-tlntqTQ"
      },
      "outputs": [],
      "source": [
        "!tf_upgrade_v2 -h"
      ]
    },
    {
      "cell_type": "markdown",
      "metadata": {
        "id": "se9Leqjm1CZR"
      },
      "source": [
        "### Exemplo de código TF1"
      ]
    },
    {
      "cell_type": "markdown",
      "metadata": {
        "id": "whD5i36s1SuM"
      },
      "source": [
        "Eis aqui um script simples em TensorFlow 1.0:"
      ]
    },
    {
      "cell_type": "code",
      "execution_count": null,
      "metadata": {
        "id": "mhGbYQ9HwbeU"
      },
      "outputs": [],
      "source": [
        "!head -n 65 models/samples/cookbook/regression/custom_regression.py | tail -n 10"
      ]
    },
    {
      "cell_type": "markdown",
      "metadata": {
        "id": "UGO7xSyL89wX"
      },
      "source": [
        "Com o TensorFlow 2.x instalado ele não roda:"
      ]
    },
    {
      "cell_type": "code",
      "execution_count": null,
      "metadata": {
        "id": "TD7fFphX8_qE"
      },
      "outputs": [],
      "source": [
        "!(cd models/samples/cookbook/regression && python custom_regression.py)"
      ]
    },
    {
      "cell_type": "markdown",
      "metadata": {
        "id": "iZZHu0H0wLRJ"
      },
      "source": [
        "### Único arquivo\n",
        "\n",
        "O script pode ser executado em um único arquivo Python:"
      ]
    },
    {
      "cell_type": "code",
      "execution_count": null,
      "metadata": {
        "id": "xIBZVEjkqkc5"
      },
      "outputs": [],
      "source": [
        "!tf_upgrade_v2 \\\n",
        "  --infile models/samples/cookbook/regression/custom_regression.py \\\n",
        "  --outfile /tmp/custom_regression_v2.py"
      ]
    },
    {
      "cell_type": "markdown",
      "metadata": {
        "id": "L9X2lxzqqkc9"
      },
      "source": [
        "O script imprimirá erros se não conseguir encontrar uma correção para o código. "
      ]
    },
    {
      "cell_type": "markdown",
      "metadata": {
        "id": "r7zpuE1vWSlL"
      },
      "source": [
        "### Árvore de diretórios"
      ]
    },
    {
      "cell_type": "markdown",
      "metadata": {
        "id": "2q7Gtuu8SdIC"
      },
      "source": [
        "Projetos típicos, incluindo este exemplo simples, irão conter muito mais de um único arquivo. Normalmente você vai querer fazer upgrade de um pacote inteiro, portanto, o script também pode ser executado numa árvore de diretórios:"
      ]
    },
    {
      "cell_type": "code",
      "execution_count": null,
      "metadata": {
        "id": "XGqcdkAPqkc-"
      },
      "outputs": [],
      "source": [
        "# update the .py files and copy all the other files to the outtree\n",
        "!tf_upgrade_v2 \\\n",
        "    --intree models/samples/cookbook/regression/ \\\n",
        "    --outtree regression_v2/ \\\n",
        "    --reportfile tree_report.txt"
      ]
    },
    {
      "cell_type": "markdown",
      "metadata": {
        "id": "2S4j7sqbSowC"
      },
      "source": [
        "Observe o aviso sobre a função `dataset.make_one_shot_iterator`.\n",
        "\n",
        "Agora o script funciona com o TensorFlow 2.x:\n",
        "\n",
        "Observe que, como o módulo `tf.compat.v1` está incluído no TF 1.15, o script convertido também roda no TensorFlow 1.15."
      ]
    },
    {
      "cell_type": "code",
      "execution_count": null,
      "metadata": {
        "id": "vh0cmW3y1tX9"
      },
      "outputs": [],
      "source": [
        "!(cd regression_v2 && python custom_regression.py 2>&1) | tail"
      ]
    },
    {
      "cell_type": "markdown",
      "metadata": {
        "id": "4EgZGGkdqkdC"
      },
      "source": [
        "## Relatório detalhado\n",
        "\n",
        "O script também relata uma lista de alterações em detalhes. Neste exemplo, ele encontrou uma transformação possivelmente insegura e incluiu um aviso na parte superior do arquivo: "
      ]
    },
    {
      "cell_type": "code",
      "execution_count": null,
      "metadata": {
        "id": "CtHaZbVaNMGV"
      },
      "outputs": [],
      "source": [
        "!head -n 20 tree_report.txt"
      ]
    },
    {
      "cell_type": "markdown",
      "metadata": {
        "id": "1-UIFXP3cFSa"
      },
      "source": [
        "Observe novamente o aviso sobre a `Dataset.make_one_shot_iterator function`."
      ]
    },
    {
      "cell_type": "markdown",
      "metadata": {
        "id": "oxQeYS1TN-jv"
      },
      "source": [
        "Em outros casos, a saída explicará o raciocínio para alterações não triviais:"
      ]
    },
    {
      "cell_type": "code",
      "execution_count": null,
      "metadata": {
        "id": "WQs9kEvVN9th"
      },
      "outputs": [],
      "source": [
        "%%writefile dropout.py\n",
        "import tensorflow as tf\n",
        "\n",
        "d = tf.nn.dropout(tf.range(10), 0.2)\n",
        "z = tf.zeros_like(d, optimize=False)"
      ]
    },
    {
      "cell_type": "code",
      "execution_count": null,
      "metadata": {
        "id": "7uOkacZsO3XX"
      },
      "outputs": [],
      "source": [
        "!tf_upgrade_v2 \\\n",
        "  --infile dropout.py \\\n",
        "  --outfile dropout_v2.py \\\n",
        "  --reportfile dropout_report.txt > /dev/null"
      ]
    },
    {
      "cell_type": "code",
      "execution_count": null,
      "metadata": {
        "id": "m-J82-scPMGl"
      },
      "outputs": [],
      "source": [
        "!cat dropout_report.txt"
      ]
    },
    {
      "cell_type": "markdown",
      "metadata": {
        "id": "DOOLN21nTGSS"
      },
      "source": [
        "Aqui está o conteúdo do arquivo modificado, observe como o script adiciona nomes de argumento para lidar com argumentos movidos e renomeados:"
      ]
    },
    {
      "cell_type": "code",
      "execution_count": null,
      "metadata": {
        "id": "SrYcJk9-TFlU"
      },
      "outputs": [],
      "source": [
        "!cat dropout_v2.py"
      ]
    },
    {
      "cell_type": "markdown",
      "metadata": {
        "id": "wI_sVNp_b4C4"
      },
      "source": [
        "Um projeto maior poderá conter alguns erros. Por exemplo, converta o modelo deeplab:"
      ]
    },
    {
      "cell_type": "code",
      "execution_count": null,
      "metadata": {
        "id": "uzuY-bOvYBS7"
      },
      "outputs": [],
      "source": [
        "!tf_upgrade_v2 \\\n",
        "    --intree models/research/deeplab \\\n",
        "    --outtree deeplab_v2 \\\n",
        "    --reportfile deeplab_report.txt > /dev/null"
      ]
    },
    {
      "cell_type": "markdown",
      "metadata": {
        "id": "FLhw3fm8drae"
      },
      "source": [
        "Produziu os arquivos de saída a seguir:"
      ]
    },
    {
      "cell_type": "code",
      "execution_count": null,
      "metadata": {
        "id": "4YYLRxWJdSvQ"
      },
      "outputs": [],
      "source": [
        "!ls deeplab_v2"
      ]
    },
    {
      "cell_type": "markdown",
      "metadata": {
        "id": "qtTC-cAZdEBy"
      },
      "source": [
        "Mas houve erros. O relatório ajudará você a identificar o que precisa corrigir antes que isso seja executado. Aqui estão os três primeiros erros:"
      ]
    },
    {
      "cell_type": "code",
      "execution_count": null,
      "metadata": {
        "id": "UVTNOohlcyVZ"
      },
      "outputs": [],
      "source": [
        "!cat deeplab_report.txt | grep -i models/research/deeplab | grep -i error | head -n 3"
      ]
    },
    {
      "cell_type": "markdown",
      "metadata": {
        "id": "gGBeDaFVRJ5l"
      },
      "source": [
        "## Modo \"Safety\" (segurança)"
      ]
    },
    {
      "cell_type": "markdown",
      "metadata": {
        "id": "BnfCxB7SVtTO"
      },
      "source": [
        "O script de conversão também possui um modo `SAFETY` menos invasivo que simplesmente altera as importações para usar o módulo `tensorflow.compat.v1`:"
      ]
    },
    {
      "cell_type": "code",
      "execution_count": null,
      "metadata": {
        "id": "XdaVXCPWQCC5"
      },
      "outputs": [],
      "source": [
        "!cat dropout.py"
      ]
    },
    {
      "cell_type": "code",
      "execution_count": null,
      "metadata": {
        "id": "c0tvRJLGRYEb"
      },
      "outputs": [],
      "source": [
        "!tf_upgrade_v2 --mode SAFETY --infile dropout.py --outfile dropout_v2_safe.py > /dev/null"
      ]
    },
    {
      "cell_type": "code",
      "execution_count": null,
      "metadata": {
        "id": "91suN2RaRfIV"
      },
      "outputs": [],
      "source": [
        "!cat dropout_v2_safe.py"
      ]
    },
    {
      "cell_type": "markdown",
      "metadata": {
        "id": "EOzTF7xbZqqW"
      },
      "source": [
        "Como você pode ver, ele não atualiza seu código, mas permite que o código do TensorFlow 1 seja executado em binários do TensorFlow 2. Veja que isto não significa que seu código está executando comportamentos TF 2.x suportados!"
      ]
    },
    {
      "cell_type": "markdown",
      "metadata": {
        "id": "jGfXVApkqkdG"
      },
      "source": [
        "## Ressalvas\n",
        "\n",
        "- Não atualize partes de seu código manualmente antes de executar este script. Em particular, funções que tiveram argumentos reordenados como `tf.math.argmax` ou `tf.batch_to_space` fazem com que o script adicione incorretamente argumentos de palavras-chave que mapeiam incorretamente seu código existente.\n",
        "\n",
        "- O script assume que `tensorflow` é importado usando `import tensorflow as tf` ou `import tensorflow.compat.v1 as tf`.\n",
        "\n",
        "- Este script não reordena os argumentos. Em vez disso, o script adiciona argumentos de palavra-chave a funções que têm seus argumentos reordenados.\n",
        "\n",
        "- Dê uma olhada em [tf2up.ml](https://github.com/lc0/tf2up) para obter uma ferramenta conveniente para atualizar notebooks Jupyter e arquivos Python em um repositório GitHub.\n",
        "\n",
        "Para relatar bugs de script de atualização ou fazer solicitações de recursos, registre um issue no [GitHub](https://github.com/tensorflow/tensorflow/issues)."
      ]
    }
  ],
  "metadata": {
    "colab": {
      "collapsed_sections": [],
      "name": "upgrade.ipynb",
      "toc_visible": true
    },
    "kernelspec": {
      "display_name": "Python 3",
      "name": "python3"
    }
  },
  "nbformat": 4,
  "nbformat_minor": 0
}
