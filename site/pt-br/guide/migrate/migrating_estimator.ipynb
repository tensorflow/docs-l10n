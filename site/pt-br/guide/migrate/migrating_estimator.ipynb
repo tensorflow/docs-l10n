{
  "cells": [
    {
      "cell_type": "markdown",
      "metadata": {
        "id": "wJcYs_ERTnnI"
      },
      "source": [
        "##### Copyright 2021 The TensorFlow Authors."
      ]
    },
    {
      "cell_type": "code",
      "execution_count": null,
      "metadata": {
        "cellView": "form",
        "id": "HMUDt0CiUJk9"
      },
      "outputs": [],
      "source": [
        "#@title Licensed under the Apache License, Version 2.0 (the \"License\");\n",
        "# you may not use this file except in compliance with the License.\n",
        "# You may obtain a copy of the License at\n",
        "#\n",
        "# https://www.apache.org/licenses/LICENSE-2.0\n",
        "#\n",
        "# Unless required by applicable law or agreed to in writing, software\n",
        "# distributed under the License is distributed on an \"AS IS\" BASIS,\n",
        "# WITHOUT WARRANTIES OR CONDITIONS OF ANY KIND, either express or implied.\n",
        "# See the License for the specific language governing permissions and\n",
        "# limitations under the License."
      ]
    },
    {
      "cell_type": "markdown",
      "metadata": {
        "id": "77z2OchJTk0l"
      },
      "source": [
        "# Como migrar das APIs Estimator para Keras\n",
        "\n",
        "<table class=\"tfo-notebook-buttons\" align=\"left\">\n",
        "  <td>     <a target=\"_blank\" href=\"https://www.tensorflow.org/guide/migrate/migrating_estimator\"><img src=\"https://www.tensorflow.org/images/tf_logo_32px.png\">Ver em TensorFlow.org</a> </td>\n",
        "  <td>     <a target=\"_blank\" href=\"https://colab.research.google.com/github/tensorflow/docs-l10n/blob/master/site/pt-br/guide/migrate/migrating_estimator.ipynb\"><img src=\"https://www.tensorflow.org/images/colab_logo_32px.png\">Executar no Google Colab</a> </td>\n",
        "  <td>     <a target=\"_blank\" href=\"https://github.com/tensorflow/docs-l10n/blob/master/site/pt-br/guide/migrate/migrating_estimator.ipynb\"><img src=\"https://www.tensorflow.org/images/GitHub-Mark-32px.png\">Ver fonte no GitHub</a> </td>\n",
        "  <td>     <a href=\"https://storage.googleapis.com/tensorflow_docs/docs-l10n/site/pt-br/guide/migrate/migrating_estimator.ipynb\"><img src=\"https://www.tensorflow.org/images/download_logo_32px.png\">Baixar notebook</a> </td>\n",
        "</table>"
      ]
    },
    {
      "cell_type": "markdown",
      "metadata": {
        "id": "meUTrR4I6m1C"
      },
      "source": [
        "Este guia demonstra como migrar das APIs `tf.estimator.Estimator` do TensorFlow 1 para as APIs `tf.keras` do TensorFlow 2. Primeiro, você configurará e executará um modelo básico para treinamento e avaliação com `tf.estimator.Estimator`. Em seguida, você executará as etapas equivalentes no TensorFlow 2 com as APIs `tf.keras`. Você também aprenderá como personalizar a etapa de treinamento criando uma subclasse de `tf.keras.Model` e usando `tf.GradientTape`.\n",
        "\n",
        "- No TensorFlow 1, as APIs `tf.estimator.Estimator` de alto nível permitem que você treine e avalie um modelo, além de realizar inferências e salvar seu modelo (para servir).\n",
        "- No TensorFlow 2, use as APIs Keras para executar as tarefas mencionadas acima, como [construção de modelo](https://www.tensorflow.org/guide/keras/custom_layers_and_models), aplicação de gradiente, [treinamento](https://www.tensorflow.org/guide/keras/customizing_what_happens_in_fit), avaliação e previsão.\n",
        "\n",
        "(Para migrar workflows de salvamento de modelo/checkpoint para o TensorFlow 2, confira os guias de migração [SavedModel](saved_model.ipynb) e [Checkpoint](checkpoint_saved.ipynb).)"
      ]
    },
    {
      "cell_type": "markdown",
      "metadata": {
        "id": "YdZSoIXEbhg-"
      },
      "source": [
        "## Configuração\n",
        "\n",
        "Comece com imports e um dataset simples:"
      ]
    },
    {
      "cell_type": "code",
      "execution_count": null,
      "metadata": {
        "id": "iE0vSfMXumKI"
      },
      "outputs": [],
      "source": [
        "import tensorflow as tf\n",
        "import tensorflow.compat.v1 as tf1"
      ]
    },
    {
      "cell_type": "code",
      "execution_count": null,
      "metadata": {
        "id": "m7rnGxsXtDkV"
      },
      "outputs": [],
      "source": [
        "features = [[1., 1.5], [2., 2.5], [3., 3.5]]\n",
        "labels = [[0.3], [0.5], [0.7]]\n",
        "eval_features = [[4., 4.5], [5., 5.5], [6., 6.5]]\n",
        "eval_labels = [[0.8], [0.9], [1.]]"
      ]
    },
    {
      "cell_type": "markdown",
      "metadata": {
        "id": "4uXff1BEssdE"
      },
      "source": [
        "## TensorFlow 1: treine e avalie com tf.estimator.Estimator\n",
        "\n",
        "Este exemplo mostra como realizar treinamento e avaliação com `tf.estimator.Estimator` no TensorFlow 1.\n",
        "\n",
        "Comece definindo algumas funções: uma função de entrada para os dados de treinamento, uma função de entrada de avaliação para os dados de avaliação e uma função de modelo que informa ao `Estimator` como a operação de treinamento é definida com as características e rótulos:"
      ]
    },
    {
      "cell_type": "code",
      "execution_count": null,
      "metadata": {
        "id": "lqe9obf7suIj"
      },
      "outputs": [],
      "source": [
        "def _input_fn():\n",
        "  return tf1.data.Dataset.from_tensor_slices((features, labels)).batch(1)\n",
        "\n",
        "def _eval_input_fn():\n",
        "  return tf1.data.Dataset.from_tensor_slices(\n",
        "      (eval_features, eval_labels)).batch(1)\n",
        "\n",
        "def _model_fn(features, labels, mode):\n",
        "  logits = tf1.layers.Dense(1)(features)\n",
        "  loss = tf1.losses.mean_squared_error(labels=labels, predictions=logits)\n",
        "  optimizer = tf1.train.AdagradOptimizer(0.05)\n",
        "  train_op = optimizer.minimize(loss, global_step=tf1.train.get_global_step())\n",
        "  return tf1.estimator.EstimatorSpec(mode, loss=loss, train_op=train_op)"
      ]
    },
    {
      "cell_type": "markdown",
      "metadata": {
        "id": "44bf417bf9c0"
      },
      "source": [
        "Instancie seu `Estimator` e treine o modelo:"
      ]
    },
    {
      "cell_type": "code",
      "execution_count": null,
      "metadata": {
        "id": "922720812527"
      },
      "outputs": [],
      "source": [
        "estimator = tf1.estimator.Estimator(model_fn=_model_fn)\n",
        "estimator.train(_input_fn)"
      ]
    },
    {
      "cell_type": "markdown",
      "metadata": {
        "id": "17c9933c2d89"
      },
      "source": [
        "Avalie o programa com o dataset de avaliação:"
      ]
    },
    {
      "cell_type": "code",
      "execution_count": null,
      "metadata": {
        "id": "HsOpjW5plH9Q"
      },
      "outputs": [],
      "source": [
        "estimator.evaluate(_eval_input_fn)"
      ]
    },
    {
      "cell_type": "markdown",
      "metadata": {
        "id": "KEmzBjfnsxwT"
      },
      "source": [
        "## TensorFlow 2: treine e avalie com os métodos Keras integrados\n",
        "\n",
        "Este exemplo demonstra como realizar treinamento e avaliação com Keras `Model.fit` e `Model.evaluate` no TensorFlow 2. (Saiba mais no guia [Treinamento e avaliação com métodos integrados](https://www.tensorflow.org/guide/keras/train_and_evaluate)).\n",
        "\n",
        "- Comece preparando o pipeline do dataset com as APIs `tf.data.Dataset`.\n",
        "- Defina um modelo Keras [Sequential](https://www.tensorflow.org/guide/keras/sequential_model) simples com uma camada linear (`tf.keras.layers.Dense`).\n",
        "- Crie uma instância de um otimizador Adagrad (`tf.keras.optimizers.Adagrad`).\n",
        "- Configure o modelo para treinamento passando a variável `optimizer` e a perda do erro quadrático médio (`\"mse\"`) para `Model.compile`."
      ]
    },
    {
      "cell_type": "code",
      "execution_count": null,
      "metadata": {
        "id": "atVciNgPs0fw"
      },
      "outputs": [],
      "source": [
        "dataset = tf.data.Dataset.from_tensor_slices((features, labels)).batch(1)\n",
        "eval_dataset = tf.data.Dataset.from_tensor_slices(\n",
        "      (eval_features, eval_labels)).batch(1)\n",
        "\n",
        "model = tf.keras.models.Sequential([tf.keras.layers.Dense(1)])\n",
        "optimizer = tf.keras.optimizers.Adagrad(learning_rate=0.05)\n",
        "\n",
        "model.compile(optimizer=optimizer, loss=\"mse\")"
      ]
    },
    {
      "cell_type": "markdown",
      "metadata": {
        "id": "ed17a6291959"
      },
      "source": [
        "Com isto, você está pronto para treinar o modelo chamando `Model.fit`:"
      ]
    },
    {
      "cell_type": "code",
      "execution_count": null,
      "metadata": {
        "id": "a0b732534501"
      },
      "outputs": [],
      "source": [
        "model.fit(dataset)"
      ]
    },
    {
      "cell_type": "markdown",
      "metadata": {
        "id": "74767288a2ea"
      },
      "source": [
        "Finalmente, avalie o modelo com `Model.evaluate`:"
      ]
    },
    {
      "cell_type": "code",
      "execution_count": null,
      "metadata": {
        "id": "Kip65sYBlKiu"
      },
      "outputs": [],
      "source": [
        "model.evaluate(eval_dataset, return_dict=True)"
      ]
    },
    {
      "cell_type": "markdown",
      "metadata": {
        "id": "BuVYN0CHs5sD"
      },
      "source": [
        "## TensorFlow 2: treine e avalie com uma etapa de treinamento personalizada e métodos Keras integrados"
      ]
    },
    {
      "cell_type": "markdown",
      "metadata": {
        "id": "gHx_RUL8xcJ3"
      },
      "source": [
        "No TensorFlow 2, você também pode escrever sua própria função de passo de treinamento personalizada com `tf.GradientTape` para executar passos para frente e para trás, enquanto aproveita o suporte de treinamento integrado, como `tf.keras.callbacks.Callback` e `tf.distribute.Strategy`. (Saiba mais em [Personalizando o que acontece no Model.fit](https://www.tensorflow.org/guide/keras/customizing_what_happens_in_fit) e [Escrevendo loops de treinamento personalizados do zero](https://www.tensorflow.org/guide/keras/writing_a_training_loop_from_scratch).)\n",
        "\n",
        "Neste exemplo, comece criando um `tf.keras.Model` personalizado criando uma subclasse de `tf.keras.Sequential` que substitui `Model.train_step`. (Saiba mais sobre [subclasses tf.keras.Model](https://www.tensorflow.org/guide/keras/custom_layers_and_models)). Dentro dessa classe, defina uma função `train_step` personalizada que, para cada lote de dados, execute um passo para frente e um passo para trás durante uma etapa de treinamento.\n"
      ]
    },
    {
      "cell_type": "code",
      "execution_count": null,
      "metadata": {
        "id": "rSz_y0zOs8h2"
      },
      "outputs": [],
      "source": [
        "class CustomModel(tf.keras.Sequential):\n",
        "  \"\"\"A custom sequential model that overrides `Model.train_step`.\"\"\"\n",
        "\n",
        "  def train_step(self, data):\n",
        "    batch_data, labels = data\n",
        "\n",
        "    with tf.GradientTape() as tape:\n",
        "      predictions = self(batch_data, training=True)\n",
        "      # Compute the loss value (the loss function is configured\n",
        "      # in `Model.compile`).\n",
        "      loss = self.compiled_loss(labels, predictions)\n",
        "\n",
        "    # Compute the gradients of the parameters with respect to the loss.\n",
        "    gradients = tape.gradient(loss, self.trainable_variables)\n",
        "    # Perform gradient descent by updating the weights/parameters.\n",
        "    self.optimizer.apply_gradients(zip(gradients, self.trainable_variables))\n",
        "    # Update the metrics (includes the metric that tracks the loss).\n",
        "    self.compiled_metrics.update_state(labels, predictions)\n",
        "    # Return a dict mapping metric names to the current values.\n",
        "    return {m.name: m.result() for m in self.metrics}"
      ]
    },
    {
      "cell_type": "markdown",
      "metadata": {
        "id": "ee7c4f94d69b"
      },
      "source": [
        "Em seguida, como antes:\n",
        "\n",
        "- Prepare o pipeline do dataset com `tf.data.Dataset`.\n",
        "- Defina um modelo simples com uma camada `tf.keras.layers.Dense`.\n",
        "- Instancie o Adagrad (`tf.keras.optimizers.Adagrad`)\n",
        "- Configure o modelo para treinamento com `Model.compile`, enquanto usa o erro quadrático médio (`\"mse\"`) como função de perda."
      ]
    },
    {
      "cell_type": "code",
      "execution_count": null,
      "metadata": {
        "id": "01fcc2b1292c"
      },
      "outputs": [],
      "source": [
        "dataset = tf.data.Dataset.from_tensor_slices((features, labels)).batch(1)\n",
        "eval_dataset = tf.data.Dataset.from_tensor_slices(\n",
        "      (eval_features, eval_labels)).batch(1)\n",
        "\n",
        "model = CustomModel([tf.keras.layers.Dense(1)])\n",
        "optimizer = tf.keras.optimizers.Adagrad(learning_rate=0.05)\n",
        "\n",
        "model.compile(optimizer=optimizer, loss=\"mse\")"
      ]
    },
    {
      "cell_type": "markdown",
      "metadata": {
        "id": "844543802ff5"
      },
      "source": [
        "Chame `Model.fit` para treinar o modelo:"
      ]
    },
    {
      "cell_type": "code",
      "execution_count": null,
      "metadata": {
        "id": "211be3620765"
      },
      "outputs": [],
      "source": [
        "model.fit(dataset)"
      ]
    },
    {
      "cell_type": "markdown",
      "metadata": {
        "id": "c93b9d6fc9d7"
      },
      "source": [
        "E, finalmente, avalie o programa com `Model.evaluate`:"
      ]
    },
    {
      "cell_type": "code",
      "execution_count": null,
      "metadata": {
        "id": "nYO2wI1SlNCG"
      },
      "outputs": [],
      "source": [
        "model.evaluate(eval_dataset, return_dict=True)"
      ]
    },
    {
      "cell_type": "markdown",
      "metadata": {
        "id": "e9b5c9a4747b"
      },
      "source": [
        "## Próximos passos\n",
        "\n",
        "Recursos adicionais do Keras que você pode achar úteis:\n",
        "\n",
        "- Guia: [Treinamento e avaliação com os métodos integrados](https://www.tensorflow.org/guide/keras/train_and_evaluate)\n",
        "- Guia: [Personalize o que acontece em Model.fit](https://www.tensorflow.org/guide/keras/customizing_what_happens_in_fit)\n",
        "- Guia: [Escrevendo um loop de treinamento do zero](https://www.tensorflow.org/guide/keras/writing_a_training_loop_from_scratch)\n",
        "- Guia: [Criando novas camadas e modelos de Keras por meio de subclasses](https://www.tensorflow.org/guide/keras/custom_layers_and_models)\n",
        "\n",
        "Os guias abaixo podem ajudar na migração de workflows de estratégias de distribuição de APIs `tf.estimator`:\n",
        "\n",
        "- [Como migrar de TPUEstimator para TPUStrategy](tpu_estimator.ipynb)\n",
        "- [Como migrar o treinamento de um worker com multiplas GPUs](mirrored_strategy.ipynb)\n",
        "- [Como migrar o treinamento de múltiplos workers com CPUs/GPUs](multi_worker_cpu_gpu_training.ipynb)"
      ]
    }
  ],
  "metadata": {
    "colab": {
      "collapsed_sections": [],
      "name": "migrating_estimator.ipynb",
      "toc_visible": true
    },
    "kernelspec": {
      "display_name": "Python 3",
      "name": "python3"
    }
  },
  "nbformat": 4,
  "nbformat_minor": 0
}
