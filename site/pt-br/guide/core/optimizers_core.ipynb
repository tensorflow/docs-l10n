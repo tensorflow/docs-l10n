{
  "cells": [
    {
      "cell_type": "markdown",
      "metadata": {
        "id": "FhGuhbZ6M5tl"
      },
      "source": [
        "##### Copyright 2022 The TensorFlow Authors."
      ]
    },
    {
      "cell_type": "code",
      "execution_count": null,
      "metadata": {
        "cellView": "form",
        "id": "AwOEIRJC6Une"
      },
      "outputs": [],
      "source": [
        "#@title Licensed under the Apache License, Version 2.0 (the \"License\");\n",
        "# you may not use this file except in compliance with the License.\n",
        "# You may obtain a copy of the License at\n",
        "#\n",
        "# https://www.apache.org/licenses/LICENSE-2.0\n",
        "#\n",
        "# Unless required by applicable law or agreed to in writing, software\n",
        "# distributed under the License is distributed on an \"AS IS\" BASIS,\n",
        "# WITHOUT WARRANTIES OR CONDITIONS OF ANY KIND, either express or implied.\n",
        "# See the License for the specific language governing permissions and\n",
        "# limitations under the License."
      ]
    },
    {
      "cell_type": "markdown",
      "metadata": {
        "id": "EIdT9iu_Z4Rb"
      },
      "source": [
        "# Otimizadores com APIs Core"
      ]
    },
    {
      "cell_type": "markdown",
      "metadata": {
        "id": "bBIlTPscrIT9"
      },
      "source": [
        "<table class=\"tfo-notebook-buttons\" align=\"left\">\n",
        "  <td>     <a target=\"_blank\" href=\"https://www.tensorflow.org/guide/core/optimizers_core\"><img src=\"https://www.tensorflow.org/images/tf_logo_32px.png\">Ver em TensorFlow.org</a>\n",
        "</td>\n",
        "  <td>     <a target=\"_blank\" href=\"https://colab.research.google.com/github/tensorflow/docs-l10n/blob/master/site/pt-br/guide/core/optimizers_core.ipynb\"><img src=\"https://www.tensorflow.org/images/colab_logo_32px.png\">Executar no Google Colab</a> </td>\n",
        "  <td>     <a target=\"_blank\" href=\"https://github.com/tensorflow/docs-l10n/blob/master/site/pt-br/guide/core/optimizers_core.ipynb\"><img src=\"https://www.tensorflow.org/images/GitHub-Mark-32px.png\">Ver fonte no GitHub</a>\n",
        "</td>\n",
        "  <td>     <a href=\"https://storage.googleapis.com/tensorflow_docs/docs-l10n/site/pt-br/guide/core/optimizers_core.ipynb\"><img src=\"https://www.tensorflow.org/images/download_logo_32px.png\">Baixar notebook</a> </td>\n",
        "</table>"
      ]
    },
    {
      "cell_type": "markdown",
      "metadata": {
        "id": "SjAxxRpBzVYg"
      },
      "source": [
        "## Introdução\n",
        "\n",
        "Este notebook apresenta o processo de criação de otimizadores personalizados com as [APIs de baixo nível do TensorFlow Core](https://www.tensorflow.org/guide/core). Veja a [Visão geral das APIs Core](https://www.tensorflow.org/guide/core) para saber mais sobre o TensorFlow Core e seus casos de uso pretendidos.\n",
        "\n",
        "O módulo de [otimizadores Keras](https://www.tensorflow.org/api_docs/python/tf/keras/optimizers) é o kit de ferramentas de otimização recomendado para muitos propósitos de treinamento geral. Ele inclui uma variedade de otimizadores pré-construídos, bem como uma funcionalidade de subclassificação que pode ser personalizada. Os otimizadores Keras também são compatíveis com camadas, modelos e loops de treinamento personalizados criados com as APIs Core. Esses otimizadores pré-construídos e personalizáveis ​​são adequados para a maioria dos casos, mas as APIs Core permitem controle total sobre o processo de otimização. Por exemplo, técnicas como Sharpness-Aware Minimization (SAM) exigem que o modelo e o otimizador sejam acoplados, o que não se encaixa na definição tradicional de otimizadores de ML. Este guia percorre o processo de criação de otimizadores personalizados do zero usando as APIs Core, dando a você o poder de controle total sobre a estrutura, a implementação e o comportamento de seus otimizadores."
      ]
    },
    {
      "cell_type": "markdown",
      "metadata": {
        "id": "nBmqYyodNRd_"
      },
      "source": [
        "## Visão geral dos otimizadores\n",
        "\n",
        "Um otimizador é um algoritmo usado para minimizar uma função de perda em relação aos parâmetros treináveis ​​de um modelo. A técnica de otimização mais direta é o método do gradiente descendente, que atualiza os parâmetros de um modelo de forma iterativa, dando um passo na direção do maior declive de sua função de perda. O tamanho do passo é diretamente proporcional ao tamanho do gradiente, o que pode ser problemático quando o gradiente é muito grande ou muito pequeno. Existem muitos outros otimizadores baseados em gradiente, como Adam, Adagrad e RMSprop, que aproveitam várias propriedades matemáticas de gradientes para eficiência de memória e convergência rápida."
      ]
    },
    {
      "cell_type": "markdown",
      "metadata": {
        "id": "nchsZfwEVtVs"
      },
      "source": [
        "## Configuração"
      ]
    },
    {
      "cell_type": "code",
      "execution_count": null,
      "metadata": {
        "id": "d9idwpXCltUl"
      },
      "outputs": [],
      "source": [
        "import matplotlib\n",
        "from matplotlib import pyplot as plt\n",
        "# Preset Matplotlib figure sizes.\n",
        "matplotlib.rcParams['figure.figsize'] = [9, 6]"
      ]
    },
    {
      "cell_type": "code",
      "execution_count": null,
      "metadata": {
        "id": "9xQKvCJ85kCQ"
      },
      "outputs": [],
      "source": [
        "import tensorflow as tf\n",
        "print(tf.__version__)\n",
        "# set random seed for reproducible results \n",
        "tf.random.set_seed(22)"
      ]
    },
    {
      "cell_type": "markdown",
      "metadata": {
        "id": "0UmF5aU3MnwX"
      },
      "source": [
        "## Método do gradiente descendente\n",
        "\n",
        "A classe básica do otimizador deve ter um método de inicialização e uma função para atualizar uma lista de variáveis ​​dada uma lista de gradientes. Comece implementando o otimizador básico do método do gradiente descendente que atualiza cada variável subtraindo seu gradiente escalado por uma taxa de aprendizado."
      ]
    },
    {
      "cell_type": "code",
      "execution_count": null,
      "metadata": {
        "id": "MWjmUmeOQFFN"
      },
      "outputs": [],
      "source": [
        "class GradientDescent(tf.Module):\n",
        "\n",
        "  def __init__(self, learning_rate=1e-3):\n",
        "    # Initialize parameters\n",
        "    self.learning_rate = learning_rate\n",
        "    self.title = f\"Gradient descent optimizer: learning rate={self.learning_rate}\"\n",
        "\n",
        "  def apply_gradients(self, grads, vars):\n",
        "    # Update variables\n",
        "    for grad, var in zip(grads, vars):\n",
        "      var.assign_sub(self.learning_rate*grad)"
      ]
    },
    {
      "cell_type": "markdown",
      "metadata": {
        "id": "ZSekgBHDRzmp"
      },
      "source": [
        "Para testar esse otimizador, crie uma função de perda de exemplo para minimizar em relação a uma única variável, $x$. Calcule sua função de gradiente e solucione para obter seu valor de parâmetro de minimização:\n",
        "\n",
        "$$L = 2x^4 + 3x^3 + 2$$\n",
        "\n",
        "$$\\frac{dL}{dx} = 8x^3 + 9x^2$$\n",
        "\n",
        "$\\frac{dL}{dx}$ é 0 em $x = 0$, que é um ponto de sela e em $x = - \\frac{9}{8}$, que é o mínimo global. Portanto, a função de perda é otimizada em $x^\\star = - \\frac{9}{8}$."
      ]
    },
    {
      "cell_type": "code",
      "execution_count": null,
      "metadata": {
        "id": "VCtJaUo6Ry8V"
      },
      "outputs": [],
      "source": [
        "x_vals = tf.linspace(-2, 2, 201)\n",
        "x_vals = tf.cast(x_vals, tf.float32)\n",
        "\n",
        "def loss(x):\n",
        "  return 2*(x**4) + 3*(x**3) + 2\n",
        "\n",
        "def grad(f, x):\n",
        "  with tf.GradientTape() as tape:\n",
        "    tape.watch(x)\n",
        "    result = f(x)\n",
        "  return tape.gradient(result, x)\n",
        "\n",
        "plt.plot(x_vals, loss(x_vals), c='k', label = \"Loss function\")\n",
        "plt.plot(x_vals, grad(loss, x_vals), c='tab:blue', label = \"Gradient function\")\n",
        "plt.plot(0, loss(0),  marker=\"o\", c='g', label = \"Inflection point\")\n",
        "plt.plot(-9/8, loss(-9/8),  marker=\"o\", c='r', label = \"Global minimum\")\n",
        "plt.legend()\n",
        "plt.ylim(0,5)\n",
        "plt.xlabel(\"x\")\n",
        "plt.ylabel(\"loss\")\n",
        "plt.title(\"Sample loss function and gradient\");"
      ]
    },
    {
      "cell_type": "markdown",
      "metadata": {
        "id": "fLlIBJ9yuwhE"
      },
      "source": [
        "Escreva uma função para testar a convergência de um otimizador com uma única função de perda variável. Assuma que a convergência foi alcançada quando o valor do parâmetro atualizado no timestep $t$ for o mesmo que seu valor no timestep $t-1$. Encerre o teste após um determinado número de iterações e também acompanhe qualquer explosão de gradientes durante o processo. Para realmente desafiar o algoritmo de otimização, inicialize mal o parâmetro. No exemplo acima, $x = 2$ é uma boa escolha, pois envolve um gradiente acentuado que também leva a um ponto de inflexão."
      ]
    },
    {
      "cell_type": "code",
      "execution_count": null,
      "metadata": {
        "id": "SLQTc41ouv0F"
      },
      "outputs": [],
      "source": [
        "def convergence_test(optimizer, loss_fn, grad_fn=grad, init_val=2., max_iters=2000):\n",
        "  # Function for optimizer convergence test\n",
        "  print(optimizer.title)\n",
        "  print(\"-------------------------------\")\n",
        "  # Initializing variables and structures\n",
        "  x_star = tf.Variable(init_val)\n",
        "  param_path = []\n",
        "  converged = False\n",
        "\n",
        "  for iter in range(1, max_iters + 1):\n",
        "    x_grad = grad_fn(loss_fn, x_star)\n",
        "\n",
        "    # Case for exploding gradient\n",
        "    if tf.math.is_nan(x_grad):\n",
        "      print(f\"Gradient exploded at iteration {iter}\\n\")\n",
        "      return []\n",
        "\n",
        "    # Updating the variable and storing its old-version\n",
        "    x_old = x_star.numpy()\n",
        "    optimizer.apply_gradients([x_grad], [x_star])\n",
        "    param_path.append(x_star.numpy())\n",
        "\n",
        "    # Checking for convergence\n",
        "    if x_star == x_old:\n",
        "      print(f\"Converged in {iter} iterations\\n\")\n",
        "      converged = True\n",
        "      break\n",
        "      \n",
        "  # Print early termination message\n",
        "  if not converged:\n",
        "    print(f\"Exceeded maximum of {max_iters} iterations. Test terminated.\\n\")\n",
        "  return param_path"
      ]
    },
    {
      "cell_type": "markdown",
      "metadata": {
        "id": "vK-7_TsmyAgI"
      },
      "source": [
        "Teste a convergência do otimizador de método do gradiente descendente para as seguintes taxas de aprendizado: 1e-3, 1e-2, 1e-1"
      ]
    },
    {
      "cell_type": "code",
      "execution_count": null,
      "metadata": {
        "id": "lWRn8c91mqB0"
      },
      "outputs": [],
      "source": [
        "param_map_gd = {}\n",
        "learning_rates = [1e-3, 1e-2, 1e-1]\n",
        "for learning_rate in learning_rates:\n",
        "  param_map_gd[learning_rate] = (convergence_test(\n",
        "      GradientDescent(learning_rate=learning_rate), loss_fn=loss))"
      ]
    },
    {
      "cell_type": "markdown",
      "metadata": {
        "id": "TydrGHF5y6iI"
      },
      "source": [
        "Visualize o caminho dos parâmetros sobre um gráfico de contorno da função de perda."
      ]
    },
    {
      "cell_type": "code",
      "execution_count": null,
      "metadata": {
        "id": "piffzGHI_u5G"
      },
      "outputs": [],
      "source": [
        "def viz_paths(param_map, x_vals, loss_fn, title, max_iters=2000):\n",
        "  # Creating a controur plot of the loss function\n",
        "  t_vals = tf.range(1., max_iters + 100.)\n",
        "  t_grid, x_grid = tf.meshgrid(t_vals, x_vals)\n",
        "  loss_grid = tf.math.log(loss_fn(x_grid))\n",
        "  plt.pcolormesh(t_vals, x_vals, loss_grid, vmin=0, shading='nearest')\n",
        "  colors = ['r', 'w', 'c']\n",
        "  # Plotting the parameter paths over the contour plot\n",
        "  for i, learning_rate in enumerate(param_map):\n",
        "    param_path = param_map[learning_rate]\n",
        "    if len(param_path) > 0:\n",
        "      x_star = param_path[-1]\n",
        "      plt.plot(t_vals[:len(param_path)], param_path, c=colors[i])\n",
        "      plt.plot(len(param_path), x_star, marker='o', c=colors[i], \n",
        "              label = f\"x*: learning rate={learning_rate}\")\n",
        "  plt.xlabel(\"Iterations\")\n",
        "  plt.ylabel(\"Parameter value\")\n",
        "  plt.legend()\n",
        "  plt.title(f\"{title} parameter paths\")"
      ]
    },
    {
      "cell_type": "code",
      "execution_count": null,
      "metadata": {
        "id": "Ssyj2sO4BcNY"
      },
      "outputs": [],
      "source": [
        "viz_paths(param_map_gd, x_vals, loss, \"Gradient descent\")"
      ]
    },
    {
      "cell_type": "markdown",
      "metadata": {
        "id": "MmM-5eDLFnmC"
      },
      "source": [
        "O método do gradiente descendente parece ficar preso no ponto de inflexão ao usar taxas de aprendizado menores. Aumentar a taxa de aprendizado pode encorajar um movimento mais rápido em torno da região do platô devido a um tamanho de passo maior; no entanto, isso implica no risco de se ter gradientes explosivos nas primeiras iterações, quando a função de perda é extremamente íngreme."
      ]
    },
    {
      "cell_type": "markdown",
      "metadata": {
        "id": "m5CDeXN8S1SF"
      },
      "source": [
        "## Método do gradiente descendente com momento\n",
        "\n",
        "O método do gradiente descendente com momento não apenas usa o gradiente para atualizar uma variável, mas também envolve a mudança na posição de uma variável com base em sua atualização anterior. O parâmetro de momento determina o nível de influência que a atualização no instante $t-1$ tem sobre a atualização no instante $t$. Acumular o momento ajuda a mover as variáveis para ​​além das regiões de platô mais rapidamente do que ocorre com o método do gradiente descendente básico. A regra de atualização do momento é a seguinte:\n",
        "\n",
        "$$\\Delta_x^{[t]} = lr \\cdot L^\\prime(x^{[t-1]}) + p \\cdot \\Delta_x^{[t-1]}$$\n",
        "\n",
        "$$x^{[t]} = x^{[t-1]} - \\Delta_x^{[t]}$$\n",
        "\n",
        "onde\n",
        "\n",
        "- $x$: a variável que está sendo otimizada\n",
        "- $\\Delta_x$: mudança em $x$\n",
        "- $lr$: taxa de aprendizagem\n",
        "- $L^\\prime(x)$: gradiente da função de perda em relação a x\n",
        "- $p$: parâmetro de momento"
      ]
    },
    {
      "cell_type": "code",
      "execution_count": null,
      "metadata": {
        "id": "rOBY8Tz4S0dX"
      },
      "outputs": [],
      "source": [
        "class Momentum(tf.Module):\n",
        "\n",
        "  def __init__(self, learning_rate=1e-3, momentum=0.7):\n",
        "    # Initialize parameters\n",
        "    self.learning_rate = learning_rate\n",
        "    self.momentum = momentum\n",
        "    self.change = 0.\n",
        "    self.title = f\"Gradient descent optimizer: learning rate={self.learning_rate}\"\n",
        "\n",
        "  def apply_gradients(self, grads, vars):\n",
        "    # Update variables \n",
        "    for grad, var in zip(grads, vars):\n",
        "      curr_change = self.learning_rate*grad + self.momentum*self.change\n",
        "      var.assign_sub(curr_change)\n",
        "      self.change = curr_change"
      ]
    },
    {
      "cell_type": "markdown",
      "metadata": {
        "id": "t_nDu38gW6Fu"
      },
      "source": [
        "Teste a convergência do otimizador de momento para as seguintes taxas de aprendizado: 1e-3, 1e-2, 1e-1"
      ]
    },
    {
      "cell_type": "code",
      "execution_count": null,
      "metadata": {
        "id": "tA6oQL-sW2xg"
      },
      "outputs": [],
      "source": [
        "param_map_mtm = {}\n",
        "learning_rates = [1e-3, 1e-2, 1e-1]\n",
        "for learning_rate in learning_rates:\n",
        "  param_map_mtm[learning_rate] = (convergence_test(\n",
        "      Momentum(learning_rate=learning_rate),\n",
        "      loss_fn=loss, grad_fn=grad))"
      ]
    },
    {
      "cell_type": "markdown",
      "metadata": {
        "id": "wz_LV0EPYE6k"
      },
      "source": [
        "Visualize o caminho dos parâmetros sobre um gráfico de contorno da função de perda."
      ]
    },
    {
      "cell_type": "code",
      "execution_count": null,
      "metadata": {
        "id": "qbW1eEKaX3T9"
      },
      "outputs": [],
      "source": [
        "viz_paths(param_map_mtm, x_vals, loss, \"Momentum\")"
      ]
    },
    {
      "cell_type": "markdown",
      "metadata": {
        "id": "4bEFnhPRTBXh"
      },
      "source": [
        "## Estimativa do momento adaptativo (Adam)\n",
        "\n",
        "O algoritmo Estimativa do Momento Adaptativo (Adaptive Moment Estimation - Adam) é uma técnica de otimização eficiente e altamente generalizável que utiliza duas metodologias principais método do gradiente descendente: momento e propagação do quadrado médio da raiz (Root Mean Square Propagation - RMSP). O momento ajuda a acelerar a descida do gradiente usando o primeiro momento (soma dos gradientes) juntamente com um parâmetro de decaimento. O RMSP é semelhante; no entanto, ele aproveita o segundo momento (soma dos gradientes ao quadrado).\n",
        "\n",
        "O algoritmo Adam combina o primeiro e o segundo momento para fornecer uma regra de atualização mais generalizável. O sinal de uma variável, $x$, pode ser determinado calculando $\\frac{x}{\\sqrt{x^2}}$. O otimizador Adam usa esse resultado para calcular uma etapa de atualização que é efetivamente um sinal suavizado. Em vez de calcular $\\frac{x}{\\sqrt{x^2}}$, o otimizador calcula uma versão suavizada de $x$ (primeiro momento) e $x^2$ (segundo momento) para cada atualização de variável.\n"
      ]
    },
    {
      "cell_type": "markdown",
      "metadata": {
        "id": "WjgyqRiZ7XhA"
      },
      "source": [
        "**Algoritmo Adam**\n",
        "\n",
        "$\\beta_1 \\gets 0.9 ; \\triangleright \\text{literature value}$\n",
        "\n",
        "$\\beta_2 \\gets 0.999 ; \\triangleright \\text{literature value}$\n",
        "\n",
        "$lr \\gets \\text{1e-3} ; \\triangleright \\text{configurable learning rate}$\n",
        "\n",
        "$\\epsilon \\gets \\text{1e-7} ; \\triangleright \\text{prevents divide by 0 error}$\n",
        "\n",
        "$V_{dv} \\gets \\vec {\\underset{n\\times1}{0}} ;\\triangleright \\text{stores momentum updates for each variable}$\n",
        "\n",
        "$S_{dv} \\gets \\vec {\\underset{n\\times1}{0}} ; \\triangleright \\text{stores RMSP updates for each variable}$\n",
        "\n",
        "$t \\gets 1$\n",
        "\n",
        "$\\text{On iteration } t:$\n",
        "\n",
        "$;;;; \\text{For} (\\frac{dL}{dv}, v) \\text{ in gradient variable pairs}:$\n",
        "\n",
        "$;;;;;;;; V_{dv_i} = \\beta_1V_{dv_i} + (1 - \\beta_1)\\frac{dL}{dv} ; \\triangleright \\text{momentum update}$\n",
        "\n",
        "$;;;;;;;; S_{dv_i} = \\beta_2V_{dv_i} + (1 - \\beta_2)(\\frac{dL}{dv})^2 ; \\triangleright \\text{RMSP update}$\n",
        "\n",
        "$;;;;;;;; v_{dv}^{bc} = \\frac{V_{dv_i}}{(1-\\beta_1)^t} ; \\triangleright \\text{momentum bias correction}$\n",
        "\n",
        "$;;;;;;;; s_{dv}^{bc} = \\frac{S_{dv_i}}{(1-\\beta_2)^t} ; \\triangleright \\text{RMSP bias correction}$\n",
        "\n",
        "$;;;;;;;; v = v - lr\\frac{v_{dv}^{bc}}{\\sqrt{s_{dv}^{bc}} + \\epsilon} ; \\triangleright \\text{parameter update}$\n",
        "\n",
        "$;;;;;;;; t = t + 1$\n",
        "\n",
        "**Fim do algoritmo**\n",
        "\n",
        "Dado que $V_{dv}$ e $S_{dv}$ são inicializados com 0 e que $\\beta_1$ e $\\beta_2$ são próximos de 1, as atualizações de momento e RMSP tentem naturalmente a 0; portanto, as variáveis ​​podem se beneficiar da correção de bias. A correção de bias também ajuda a controlar a oscilação dos pesos conforme eles se aproximam do mínimo global."
      ]
    },
    {
      "cell_type": "code",
      "execution_count": null,
      "metadata": {
        "id": "hm5vffRJRsEc"
      },
      "outputs": [],
      "source": [
        "class Adam(tf.Module):\n",
        "  \n",
        "    def __init__(self, learning_rate=1e-3, beta_1=0.9, beta_2=0.999, ep=1e-7):\n",
        "      # Initialize the Adam parameters\n",
        "      self.beta_1 = beta_1\n",
        "      self.beta_2 = beta_2\n",
        "      self.learning_rate = learning_rate\n",
        "      self.ep = ep\n",
        "      self.t = 1.\n",
        "      self.v_dvar, self.s_dvar = [], []\n",
        "      self.title = f\"Adam: learning rate={self.learning_rate}\"\n",
        "      self.built = False\n",
        "\n",
        "    def apply_gradients(self, grads, vars):\n",
        "      # Set up moment and RMSprop slots for each variable on the first call\n",
        "      if not self.built:\n",
        "        for var in vars:\n",
        "          v = tf.Variable(tf.zeros(shape=var.shape))\n",
        "          s = tf.Variable(tf.zeros(shape=var.shape))\n",
        "          self.v_dvar.append(v)\n",
        "          self.s_dvar.append(s)\n",
        "        self.built = True\n",
        "      # Perform Adam updates\n",
        "      for i, (d_var, var) in enumerate(zip(grads, vars)):\n",
        "        # Moment calculation\n",
        "        self.v_dvar[i] = self.beta_1*self.v_dvar[i] + (1-self.beta_1)*d_var\n",
        "        # RMSprop calculation\n",
        "        self.s_dvar[i] = self.beta_2*self.s_dvar[i] + (1-self.beta_2)*tf.square(d_var)\n",
        "        # Bias correction\n",
        "        v_dvar_bc = self.v_dvar[i]/(1-(self.beta_1**self.t))\n",
        "        s_dvar_bc = self.s_dvar[i]/(1-(self.beta_2**self.t))\n",
        "        # Update model variables\n",
        "        var.assign_sub(self.learning_rate*(v_dvar_bc/(tf.sqrt(s_dvar_bc) + self.ep)))\n",
        "      # Increment the iteration counter\n",
        "      self.t += 1."
      ]
    },
    {
      "cell_type": "markdown",
      "metadata": {
        "id": "UWN4Qus7flUO"
      },
      "source": [
        "Teste o desempenho do otimizador Adam com as mesmas taxas de aprendizado usadas com os exemplos de método do gradiente descendente. "
      ]
    },
    {
      "cell_type": "code",
      "execution_count": null,
      "metadata": {
        "id": "GXHCxtemFBpR"
      },
      "outputs": [],
      "source": [
        "param_map_adam = {}\n",
        "learning_rates = [1e-3, 1e-2, 1e-1]\n",
        "for learning_rate in learning_rates:\n",
        "  param_map_adam[learning_rate] = (convergence_test(\n",
        "      Adam(learning_rate=learning_rate), loss_fn=loss))"
      ]
    },
    {
      "cell_type": "markdown",
      "metadata": {
        "id": "jgpUcs_xXEjX"
      },
      "source": [
        "Visualize o caminho dos parâmetros sobre um gráfico de contorno da função de perda."
      ]
    },
    {
      "cell_type": "code",
      "execution_count": null,
      "metadata": {
        "id": "ctvOUmlzFK8s"
      },
      "outputs": [],
      "source": [
        "viz_paths(param_map_adam, x_vals, loss, \"Adam\")"
      ]
    },
    {
      "cell_type": "markdown",
      "metadata": {
        "id": "_oGScF8zJcY4"
      },
      "source": [
        "Neste exemplo específico, o otimizador Adam tem convergência mais lenta em comparação com o método do gradiente descendente tradicional ao usar taxas de aprendizado pequenas. No entanto, o algoritmo move-se com sucesso além da região do platô e converge para o mínimo global quando uma taxa de aprendizado maior. Gradientes explosivos não são mais um problema devido ao redimensionamento dinâmico das taxas de aprendizado de Adam ao encontrar grandes gradientes."
      ]
    },
    {
      "cell_type": "markdown",
      "metadata": {
        "id": "VFLfEH4ManbW"
      },
      "source": [
        "## Conclusão\n",
        "\n",
        "Este notebook apresentou os fundamentos da criação e comparação de otimizadores com as [APIs Core do TensorFlow](https://www.tensorflow.org/guide/core). Embora otimizadores pré-construídos como Adam sejam generalizáveis, eles nem sempre são a melhor alternativa para todo modelo ou dataset. Ter um controle refinado sobre o processo de otimização pode ajudar a simplificar os workflows de treinamento em ML e melhorar o desempenho geral. Consulte a documentação a seguir para mais exemplos de otimizadores personalizados:\n",
        "\n",
        "- Este otimizador Adam é usado no tutorial [Perceptrons multicamada](https://www.tensorflow.org/guide/core/mlp_core) e no [Treinamento distribuído]()\n",
        "- O [Model Garden](https://blog.tensorflow.org/2020/03/introducing-model-garden-for-tensorflow-2.html) tem uma variedade de [otimizadores personalizados](https://github.com/tensorflow/models/tree/master/official/modeling/optimization) escritos com as APIs Core.\n"
      ]
    }
  ],
  "metadata": {
    "colab": {
      "collapsed_sections": [],
      "name": "optimizers_core.ipynb",
      "toc_visible": true
    },
    "kernelspec": {
      "display_name": "Python 3",
      "name": "python3"
    }
  },
  "nbformat": 4,
  "nbformat_minor": 0
}
