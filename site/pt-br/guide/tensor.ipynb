{
  "cells": [
    {
      "cell_type": "markdown",
      "metadata": {
        "id": "Tce3stUlHN0L"
      },
      "source": [
        "##### Copyright 2020 The TensorFlow Authors."
      ]
    },
    {
      "cell_type": "code",
      "execution_count": null,
      "metadata": {
        "cellView": "form",
        "id": "tuOe1ymfHZPu"
      },
      "outputs": [],
      "source": [
        "#@title Licensed under the Apache License, Version 2.0 (the \"License\");\n",
        "# you may not use this file except in compliance with the License.\n",
        "# You may obtain a copy of the License at\n",
        "#\n",
        "# https://www.apache.org/licenses/LICENSE-2.0\n",
        "#\n",
        "# Unless required by applicable law or agreed to in writing, software\n",
        "# distributed under the License is distributed on an \"AS IS\" BASIS,\n",
        "# WITHOUT WARRANTIES OR CONDITIONS OF ANY KIND, either express or implied.\n",
        "# See the License for the specific language governing permissions and\n",
        "# limitations under the License."
      ]
    },
    {
      "cell_type": "markdown",
      "metadata": {
        "id": "qFdPvlXBOdUN"
      },
      "source": [
        "# Introdução aos tensores"
      ]
    },
    {
      "cell_type": "markdown",
      "metadata": {
        "id": "MfBg1C5NB3X0"
      },
      "source": [
        "<table class=\"tfo-notebook-buttons\" align=\"left\">\n",
        "  <td>     <a target=\"_blank\" href=\"https://www.tensorflow.org/guide/tensor\"><img src=\"https://www.tensorflow.org/images/tf_logo_32px.png\">Ver em TensorFlow.org</a>\n",
        "</td>\n",
        "  <td>     <a target=\"_blank\" href=\"https://colab.research.google.com/github/tensorflow/docs-l10n/blob/master/site/pt-br/guide/tensor.ipynb\"><img src=\"https://www.tensorflow.org/images/colab_logo_32px.png\">Executar no Google Colab</a>\n",
        "</td>\n",
        "  <td>     <a target=\"_blank\" href=\"https://github.com/tensorflow/docs-l10n/blob/master/site/pt-br/guide/tensor.ipynb\"><img src=\"https://www.tensorflow.org/images/GitHub-Mark-32px.png\">Ver fonte no GitHub</a>\n",
        "</td>\n",
        "  <td>     <a href=\"https://storage.googleapis.com/tensorflow_docs/docs-l10n/site/pt-br/guide/tensor.ipynb\"><img src=\"https://www.tensorflow.org/images/download_logo_32px.png\">Baixar notebook</a>\n",
        "</td>\n",
        "</table>"
      ]
    },
    {
      "cell_type": "code",
      "execution_count": null,
      "metadata": {
        "id": "AL2hzxorJiWy"
      },
      "outputs": [],
      "source": [
        "import tensorflow as tf\n",
        "import numpy as np"
      ]
    },
    {
      "cell_type": "markdown",
      "metadata": {
        "id": "VQ3s2J8Vgowq"
      },
      "source": [
        "Tensores são vetores multidimensionais com um tipo uniforme (chamado `dtype`). Você pode ver todos os `dtypes` suportados em `tf.dtypes.DType`.\n",
        "\n",
        "Se você estiver familiarizado com [NumPy](https://numpy.org/devdocs/user/quickstart.html){:.external}, os tensores são (mais ou menos) como os `np.arrays`.\n",
        "\n",
        "Todos os tensores são imutáveis ​​como números e strings do Python: você nunca pode atualizar o conteúdo de um tensor, apenas criar um novo.\n"
      ]
    },
    {
      "cell_type": "markdown",
      "metadata": {
        "id": "DRK5-9EpYbzG"
      },
      "source": [
        "## Fundamentos\n",
        "\n",
        "Primeiro, crie alguns tensores básicos."
      ]
    },
    {
      "cell_type": "markdown",
      "metadata": {
        "id": "uSHRFT6LJbxq"
      },
      "source": [
        "Eis um \"escalar\", ou tensor de \"posto 0\". Um escalar contém um único valor e nenhum \"eixo\" (axis)."
      ]
    },
    {
      "cell_type": "code",
      "execution_count": null,
      "metadata": {
        "id": "d5JcgLFR6gHv"
      },
      "outputs": [],
      "source": [
        "# This will be an int32 tensor by default; see \"dtypes\" below.\n",
        "rank_0_tensor = tf.constant(4)\n",
        "print(rank_0_tensor)"
      ]
    },
    {
      "cell_type": "markdown",
      "metadata": {
        "id": "tdmPAn9fWYs5"
      },
      "source": [
        "Um \"vetor\", ou tensor de \"posto 1\", é como uma lista de valores. Um vetor tem um eixo:"
      ]
    },
    {
      "cell_type": "code",
      "execution_count": null,
      "metadata": {
        "id": "oZos8o_R6oE7"
      },
      "outputs": [],
      "source": [
        "# Let's make this a float tensor.\n",
        "rank_1_tensor = tf.constant([2.0, 3.0, 4.0])\n",
        "print(rank_1_tensor)"
      ]
    },
    {
      "cell_type": "markdown",
      "metadata": {
        "id": "G3IJG-ug_H4u"
      },
      "source": [
        "Uma \"matriz\", ou tensor de \"posto 2\" tem dois eixos:"
      ]
    },
    {
      "cell_type": "code",
      "execution_count": null,
      "metadata": {
        "id": "cnOIA_xb6u0M"
      },
      "outputs": [],
      "source": [
        "# If you want to be specific, you can set the dtype (see below) at creation time\n",
        "rank_2_tensor = tf.constant([[1, 2],\n",
        "                             [3, 4],\n",
        "                             [5, 6]], dtype=tf.float16)\n",
        "print(rank_2_tensor)"
      ]
    },
    {
      "cell_type": "markdown",
      "metadata": {
        "id": "19m72qEPkfxi"
      },
      "source": [
        "<table>\n",
        "<tr>\n",
        "  <th>Um escalar: formato: <code>[]</code>\n",
        "</th>\n",
        "  <th>Um vetor, formato: <code>[3]</code>\n",
        "</th>\n",
        "  <th>Uma matriz, formato: <code>[3, 2]</code>\n",
        "</th>\n",
        "</tr>\n",
        "<tr>\n",
        "  <td>    <img src=\"images/tensor/scalar.png\" alt=\"Um escalar - o número 4\">\n",
        "</td>\n",
        "\n",
        "  <td>    <img src=\"images/tensor/vector.png\" alt=\"A linha com 3 seções 3, cada qual contendo um número.\">\n",
        "</td>\n",
        "  <td>    <img src=\"images/tensor/matrix.png\" alt=\"Uma grade 3x2, com cada célula contendo um número.\">\n",
        "</td>\n",
        "</tr>\n",
        "</table>\n"
      ]
    },
    {
      "cell_type": "markdown",
      "metadata": {
        "id": "fjFvzcn4_ehD"
      },
      "source": [
        "Tensores podem ter mais eixos (também chamados de dimensões). Eis aqui um tensor com três eixos:"
      ]
    },
    {
      "cell_type": "code",
      "execution_count": null,
      "metadata": {
        "id": "sesW7gw6JkXy"
      },
      "outputs": [],
      "source": [
        "# There can be an arbitrary number of\n",
        "# axes (sometimes called \"dimensions\")\n",
        "rank_3_tensor = tf.constant([\n",
        "  [[0, 1, 2, 3, 4],\n",
        "   [5, 6, 7, 8, 9]],\n",
        "  [[10, 11, 12, 13, 14],\n",
        "   [15, 16, 17, 18, 19]],\n",
        "  [[20, 21, 22, 23, 24],\n",
        "   [25, 26, 27, 28, 29]],])\n",
        "\n",
        "print(rank_3_tensor)"
      ]
    },
    {
      "cell_type": "markdown",
      "metadata": {
        "id": "rM2sTGIkoE3S"
      },
      "source": [
        "Há diversas maneiras de visualizar um tensor com mais de dois eixos."
      ]
    },
    {
      "cell_type": "markdown",
      "metadata": {
        "id": "NFiYfNMMhDgL"
      },
      "source": [
        "<table>\n",
        "<tr>\n",
        "  <th colspan=\"3\">Um tensor de 3 eixos, formato: <code>[3, 2, 5]</code>\n",
        "</th>\n",
        "</tr>\n",
        "<tr>\n",
        "</tr>\n",
        "<tr>\n",
        "  <td>    <img src=\"images/tensor/3-axis_numpy.png\">\n",
        "</td>\n",
        "  <td>    <img src=\"images/tensor/3-axis_front.png\">\n",
        "</td>\n",
        "\n",
        "  <td>    <img src=\"images/tensor/3-axis_block.png\">\n",
        "</td>\n",
        "</tr>\n",
        "\n",
        "</table>"
      ]
    },
    {
      "cell_type": "markdown",
      "metadata": {
        "id": "oWAc0U8OZwNb"
      },
      "source": [
        "Você pode converter um tensor para um array NumPy usando `np.array` ou o método `tensor.numpy`:"
      ]
    },
    {
      "cell_type": "code",
      "execution_count": null,
      "metadata": {
        "id": "J5u6_6ZYaS7B"
      },
      "outputs": [],
      "source": [
        "np.array(rank_2_tensor)"
      ]
    },
    {
      "cell_type": "code",
      "execution_count": null,
      "metadata": {
        "id": "c6Taz2gIaZeo"
      },
      "outputs": [],
      "source": [
        "rank_2_tensor.numpy()"
      ]
    },
    {
      "cell_type": "markdown",
      "metadata": {
        "id": "hnz19F0ocEKD"
      },
      "source": [
        "Os tensores geralmente contêm floats e ints, mas podem também conter muitos outros tipos, incluindo:\n",
        "\n",
        "- números complexos\n",
        "- strings\n",
        "\n",
        "A classe base `tf.Tensor` requer que os tensores sejam \"retangulares\", ou seja, que ao longo de cada eixo, cada elemento tenha o mesmo tamanho. No entanto, existem tipos especializados de tensores que podem lidar com diferentes formatos:\n",
        "\n",
        "- Tensores irregulares (veja [RaggedTensor](#ragged_tensors) abaixo)\n",
        "- Tensores esparsos (veja [SparseTensor](#sparse_tensors) abaixo)"
      ]
    },
    {
      "cell_type": "markdown",
      "metadata": {
        "id": "SDC7OGeAIJr8"
      },
      "source": [
        "Você pode realizar matemática básica com tensores, inclusive adição, multiplicação elemento a elemento e multiplicação matricial."
      ]
    },
    {
      "cell_type": "code",
      "execution_count": null,
      "metadata": {
        "id": "-DTkjwDOIIDa"
      },
      "outputs": [],
      "source": [
        "a = tf.constant([[1, 2],\n",
        "                 [3, 4]])\n",
        "b = tf.constant([[1, 1],\n",
        "                 [1, 1]]) # Could have also said `tf.ones([2,2], dtype=tf.int32)`\n",
        "\n",
        "print(tf.add(a, b), \"\\n\")\n",
        "print(tf.multiply(a, b), \"\\n\")\n",
        "print(tf.matmul(a, b), \"\\n\")"
      ]
    },
    {
      "cell_type": "code",
      "execution_count": null,
      "metadata": {
        "id": "2smoWeUz-N2q"
      },
      "outputs": [],
      "source": [
        "print(a + b, \"\\n\") # element-wise addition\n",
        "print(a * b, \"\\n\") # element-wise multiplication\n",
        "print(a @ b, \"\\n\") # matrix multiplication"
      ]
    },
    {
      "cell_type": "markdown",
      "metadata": {
        "id": "S3_vIAl2JPVc"
      },
      "source": [
        "Tensores são usados ​​em todos os tipos de operações (ou \"ops\")."
      ]
    },
    {
      "cell_type": "code",
      "execution_count": null,
      "metadata": {
        "id": "Gp4WUYzGIbnv"
      },
      "outputs": [],
      "source": [
        "c = tf.constant([[4.0, 5.0], [10.0, 1.0]])\n",
        "\n",
        "# Find the largest value\n",
        "print(tf.reduce_max(c))\n",
        "# Find the index of the largest value\n",
        "print(tf.math.argmax(c))\n",
        "# Compute the softmax\n",
        "print(tf.nn.softmax(c))"
      ]
    },
    {
      "cell_type": "markdown",
      "metadata": {
        "id": "0MNM-q7-MZLz"
      },
      "source": [
        "Observação: normalmente, em qualquer lugar onde uma função do TensorFlow aceite um `Tensor` como entrada, essa função também aceitará qualquer coisa que possa ser convertida num `Tensor` usando `tf.convert_to_tensor`. Veja abaixo um exemplo."
      ]
    },
    {
      "cell_type": "code",
      "execution_count": null,
      "metadata": {
        "id": "_wch0N8xNEt-"
      },
      "outputs": [],
      "source": [
        "tf.convert_to_tensor([1,2,3])"
      ]
    },
    {
      "cell_type": "code",
      "execution_count": null,
      "metadata": {
        "id": "ngqIeWYeNJVI"
      },
      "outputs": [],
      "source": [
        "tf.reduce_max([1,2,3])"
      ]
    },
    {
      "cell_type": "code",
      "execution_count": null,
      "metadata": {
        "id": "ThVMxqbVNOq3"
      },
      "outputs": [],
      "source": [
        "tf.reduce_max(np.array([1,2,3]))"
      ]
    },
    {
      "cell_type": "markdown",
      "metadata": {
        "id": "NvSAbowVVuRr"
      },
      "source": [
        "## Sobre formatos"
      ]
    },
    {
      "cell_type": "markdown",
      "metadata": {
        "id": "hkaBIqkTCcGY"
      },
      "source": [
        "Os tensores têm formatos. Eis um breve glossário:\n",
        "\n",
        "- **Formato**: O comprimento (número de elementos) de cada um dos eixos de um tensor.\n",
        "- **Posto**: Número de eixos tensores. Um escalar tem posto 0, um vetor tem posto 1, uma matriz tem posto 2.\n",
        "- **Eixo** ou **Dimensão**: Uma dimensão específica de um tensor.\n",
        "- **Tamanho**: O número total de itens no tensor, o produto dos elementos do vetor de formato.\n"
      ]
    },
    {
      "cell_type": "markdown",
      "metadata": {
        "id": "E9L3-kCQq2f6"
      },
      "source": [
        "Observação: Embora você possa ver alguém se referir a um \"tensor de duas dimensões\", um tensor de posto 2 geralmente não descreve um espaço 2D."
      ]
    },
    {
      "cell_type": "markdown",
      "metadata": {
        "id": "VFOyG2tn8LhW"
      },
      "source": [
        "Os objetos tensores e `tf.TensorShape` têm propriedades convenientes para acessá-los:"
      ]
    },
    {
      "cell_type": "code",
      "execution_count": null,
      "metadata": {
        "id": "RyD3yewUKdnK"
      },
      "outputs": [],
      "source": [
        "rank_4_tensor = tf.zeros([3, 2, 4, 5])"
      ]
    },
    {
      "cell_type": "markdown",
      "metadata": {
        "id": "oTZZW9ziq4og"
      },
      "source": [
        "<table>\n",
        "<tr>\n",
        "  <th colspan=\"2\">Um tensor de posto 4, formato: <code>[3, 2, 4, 5]</code>\n",
        "</th>\n",
        "</tr>\n",
        "<tr>\n",
        "  <td> <img src=\"images/tensor/shape.png\" alt=\"O formato de um tensor é como um vetor.\">\n",
        "</td>\n",
        "<td> <img src=\"images/tensor/4-axis_block.png\" alt=\"Um tensor de 4 eixos\">\n",
        "</td>\n",
        "  </tr>\n",
        "</table>\n"
      ]
    },
    {
      "cell_type": "code",
      "execution_count": null,
      "metadata": {
        "id": "MHm9vSqogsBk"
      },
      "outputs": [],
      "source": [
        "print(\"Type of every element:\", rank_4_tensor.dtype)\n",
        "print(\"Number of axes:\", rank_4_tensor.ndim)\n",
        "print(\"Shape of tensor:\", rank_4_tensor.shape)\n",
        "print(\"Elements along axis 0 of tensor:\", rank_4_tensor.shape[0])\n",
        "print(\"Elements along the last axis of tensor:\", rank_4_tensor.shape[-1])\n",
        "print(\"Total number of elements (3*2*4*5): \", tf.size(rank_4_tensor).numpy())"
      ]
    },
    {
      "cell_type": "markdown",
      "metadata": {
        "id": "2ZGZp_JOOPOv"
      },
      "source": [
        "Mas observe que os atributos `Tensor.ndim` e `Tensor.shape` não retornam objetos `Tensor`. Se você precisar de um `Tensor` use a função `tf.rank` ou `tf.shape`. Essa diferença é sutil, mas pode ser importante ao construir grafos (posteriormente)."
      ]
    },
    {
      "cell_type": "code",
      "execution_count": null,
      "metadata": {
        "id": "Ptq0-y6APCpD"
      },
      "outputs": [],
      "source": [
        "tf.rank(rank_4_tensor)"
      ]
    },
    {
      "cell_type": "code",
      "execution_count": null,
      "metadata": {
        "id": "HslrDOEBPICN"
      },
      "outputs": [],
      "source": [
        "tf.shape(rank_4_tensor)"
      ]
    },
    {
      "cell_type": "markdown",
      "metadata": {
        "id": "bQmE_Vx5JilS"
      },
      "source": [
        "Embora frequentemente nos referimos ao eixos pelos seus índices, você deve sempre acompanhar o significado de cada um. Freqüentemente, os eixos são ordenados de global para local: primeiro o eixo do lote, seguido pelas dimensões espaciais e por último as características de cada local. Dessa forma, os vetores de características serão regiões contíguas da memória.\n",
        "\n",
        "<table>\n",
        "<tr>\n",
        "<th>Ordem típica dos eixos</th>\n",
        "</tr>\n",
        "<tr>\n",
        "    <td> <img src=\"images/tensor/shape2.png\" alt=\"Acompanhe o que é cada eixo. Um tensor de 4 eixos talvez seja: Lote, Largura, Altura, Características\">\n",
        "</td>\n",
        "</tr>\n",
        "</table>"
      ]
    },
    {
      "cell_type": "markdown",
      "metadata": {
        "id": "FlPoVvJS75Bb"
      },
      "source": [
        "## Indexação"
      ]
    },
    {
      "cell_type": "markdown",
      "metadata": {
        "id": "apOkCKqCZIZu"
      },
      "source": [
        "### Indexação de eixo único\n",
        "\n",
        "O TensorFlow segue as regras de indexação padrão do Python, que são semelhantes à [indexação de uma lista ou string em Python](https://docs.python.org/3/tutorial/introduction.html#strings){:.external}, e as regras básicas para indexação do NumPy.\n",
        "\n",
        "- índices começam em `0`\n",
        "- índices negativos contam de trás para frente a partir do final\n",
        "- dois pontos (`:`) são usados ​​para separar fatias: `start:stop:step`\n"
      ]
    },
    {
      "cell_type": "code",
      "execution_count": null,
      "metadata": {
        "id": "SQ-CrJxLXTIM"
      },
      "outputs": [],
      "source": [
        "rank_1_tensor = tf.constant([0, 1, 1, 2, 3, 5, 8, 13, 21, 34])\n",
        "print(rank_1_tensor.numpy())"
      ]
    },
    {
      "cell_type": "markdown",
      "metadata": {
        "id": "mQYYL56PXSak"
      },
      "source": [
        "A indexação com um escalar remove o eixo:"
      ]
    },
    {
      "cell_type": "code",
      "execution_count": null,
      "metadata": {
        "id": "n6tqHciOWMt5"
      },
      "outputs": [],
      "source": [
        "print(\"First:\", rank_1_tensor[0].numpy())\n",
        "print(\"Second:\", rank_1_tensor[1].numpy())\n",
        "print(\"Last:\", rank_1_tensor[-1].numpy())"
      ]
    },
    {
      "cell_type": "markdown",
      "metadata": {
        "id": "qJLHU_a2XwpG"
      },
      "source": [
        "A indexação com uma fatia `:` mantém o eixo:"
      ]
    },
    {
      "cell_type": "code",
      "execution_count": null,
      "metadata": {
        "id": "giVPPcfQX-cu"
      },
      "outputs": [],
      "source": [
        "print(\"Everything:\", rank_1_tensor[:].numpy())\n",
        "print(\"Before 4:\", rank_1_tensor[:4].numpy())\n",
        "print(\"From 4 to the end:\", rank_1_tensor[4:].numpy())\n",
        "print(\"From 2, before 7:\", rank_1_tensor[2:7].numpy())\n",
        "print(\"Every other item:\", rank_1_tensor[::2].numpy())\n",
        "print(\"Reversed:\", rank_1_tensor[::-1].numpy())"
      ]
    },
    {
      "cell_type": "markdown",
      "metadata": {
        "id": "elDSxXi7X-Bh"
      },
      "source": [
        "### Indexação multieixo"
      ]
    },
    {
      "cell_type": "markdown",
      "metadata": {
        "id": "Cgk0uRUYZiai"
      },
      "source": [
        "Tensores de posto mais alto são indexados passando múltiplos índices.\n",
        "\n",
        "As mesmas regras do caso de eixo único aplicam-se a cada eixo independentemente."
      ]
    },
    {
      "cell_type": "code",
      "execution_count": null,
      "metadata": {
        "id": "Tc5X_WlsZXmd"
      },
      "outputs": [],
      "source": [
        "print(rank_2_tensor.numpy())"
      ]
    },
    {
      "cell_type": "markdown",
      "metadata": {
        "id": "w07U9vq5ipQk"
      },
      "source": [
        "Passando um número inteiro para cada índice, o resultado será um escalar."
      ]
    },
    {
      "cell_type": "code",
      "execution_count": null,
      "metadata": {
        "id": "PvILXc1PjqTM"
      },
      "outputs": [],
      "source": [
        "# Pull out a single value from a 2-rank tensor\n",
        "print(rank_2_tensor[1, 1].numpy())"
      ]
    },
    {
      "cell_type": "markdown",
      "metadata": {
        "id": "3RLCzAOHjfEH"
      },
      "source": [
        "Você pode indexar usando qualquer combinação de números inteiros e fatias:"
      ]
    },
    {
      "cell_type": "code",
      "execution_count": null,
      "metadata": {
        "id": "YTqNqsfJkJP_"
      },
      "outputs": [],
      "source": [
        "# Get row and column tensors\n",
        "print(\"Second row:\", rank_2_tensor[1, :].numpy())\n",
        "print(\"Second column:\", rank_2_tensor[:, 1].numpy())\n",
        "print(\"Last row:\", rank_2_tensor[-1, :].numpy())\n",
        "print(\"First item in last column:\", rank_2_tensor[0, -1].numpy())\n",
        "print(\"Skip the first row:\")\n",
        "print(rank_2_tensor[1:, :].numpy(), \"\\n\")"
      ]
    },
    {
      "cell_type": "markdown",
      "metadata": {
        "id": "P45TwSUVSK6G"
      },
      "source": [
        "Eis um exemplo com um tensor de 3 eixos:"
      ]
    },
    {
      "cell_type": "code",
      "execution_count": null,
      "metadata": {
        "id": "GuLoMoCVSLxK"
      },
      "outputs": [],
      "source": [
        "print(rank_3_tensor[:, :, 4])"
      ]
    },
    {
      "cell_type": "markdown",
      "metadata": {
        "id": "9NgmHq27TJOE"
      },
      "source": [
        "<table>\n",
        "<tr>\n",
        "<th colspan=\"2\">Selecionando a última característica em todos os locais em cada exemplo do lote</th>\n",
        "</tr>\n",
        "<tr>\n",
        "    <td> <img src=\"images/tensor/index1.png\" alt=\"Um tensor 3x2x5 com todos os valores no índice 4 do último eixo selecionado.\">\n",
        "</td>\n",
        "      <td> <img src=\"images/tensor/index2.png\" alt=\"Os valores selecionados empacotados num tensor de 2 eixos.\">\n",
        "</td>\n",
        "</tr>\n",
        "</table>"
      ]
    },
    {
      "cell_type": "markdown",
      "metadata": {
        "id": "t9V83-thHn89"
      },
      "source": [
        "Leia o [guia de divisão de tensores](https://tensorflow.org/guide/tensor_slicing) para saber como aplicar a indexação para manipular elementos individuais em seus tensores."
      ]
    },
    {
      "cell_type": "markdown",
      "metadata": {
        "id": "fpr7R0t4SVb0"
      },
      "source": [
        "## Manipulação de formatos\n",
        "\n",
        "A alteração do formato de um tensor é de grande utilidade.\n"
      ]
    },
    {
      "cell_type": "code",
      "execution_count": null,
      "metadata": {
        "id": "EMeTtga5Wq8j"
      },
      "outputs": [],
      "source": [
        "# Shape returns a `TensorShape` object that shows the size along each axis\n",
        "x = tf.constant([[1], [2], [3]])\n",
        "print(x.shape)"
      ]
    },
    {
      "cell_type": "code",
      "execution_count": null,
      "metadata": {
        "id": "38jc2RXziT3W"
      },
      "outputs": [],
      "source": [
        "# You can convert this object into a Python list, too\n",
        "print(x.shape.as_list())"
      ]
    },
    {
      "cell_type": "markdown",
      "metadata": {
        "id": "J_xRlHZMKYnF"
      },
      "source": [
        "Você pode mudar o formato de um tensor para que ele tenha um novo formato. A operação `tf.reshape` faz isso de forma rápida e barata porque os dados subjacentes não precisam ser duplicados."
      ]
    },
    {
      "cell_type": "code",
      "execution_count": null,
      "metadata": {
        "id": "pa9JCgMLWy87"
      },
      "outputs": [],
      "source": [
        "# You can reshape a tensor to a new shape.\n",
        "# Note that you're passing in a list\n",
        "reshaped = tf.reshape(x, [1, 3])"
      ]
    },
    {
      "cell_type": "code",
      "execution_count": null,
      "metadata": {
        "id": "Mcq7iXOkW3LK"
      },
      "outputs": [],
      "source": [
        "print(x.shape)\n",
        "print(reshaped.shape)"
      ]
    },
    {
      "cell_type": "markdown",
      "metadata": {
        "id": "gIB2tOkoVr6E"
      },
      "source": [
        "Os dados mantêm seu layout na memória e um novo tensor é criado, com o formato solicitado, apontando para os mesmos dados. O TensorFlow usa ordenação de memória \"linha principal\" (row-major) no estilo C, onde o incremento do índice mais à direita corresponde a uma única etapa na memória."
      ]
    },
    {
      "cell_type": "code",
      "execution_count": null,
      "metadata": {
        "id": "7kMfM0RpUgI8"
      },
      "outputs": [],
      "source": [
        "print(rank_3_tensor)"
      ]
    },
    {
      "cell_type": "markdown",
      "metadata": {
        "id": "TcDtfQkJWzIx"
      },
      "source": [
        "Se você achatar um tensor, poderá ver em que ordem ele está disposto na memória."
      ]
    },
    {
      "cell_type": "code",
      "execution_count": null,
      "metadata": {
        "id": "COnHEPuaWDQp"
      },
      "outputs": [],
      "source": [
        "# A `-1` passed in the `shape` argument says \"Whatever fits\".\n",
        "print(tf.reshape(rank_3_tensor, [-1]))"
      ]
    },
    {
      "cell_type": "markdown",
      "metadata": {
        "id": "jJZRira2W--c"
      },
      "source": [
        "Normalmente, o único uso razoável de `tf.reshape` é combinar ou dividir eixos adjacentes (ou adicionar/remover valores `1`).\n",
        "\n",
        "Para este tensor 3x2x5, alterar o formato para (3x2)x5 ou 3x(2x5) são coisas razoáveis ​​a serem feitas, já que as fatias não se misturam:"
      ]
    },
    {
      "cell_type": "code",
      "execution_count": null,
      "metadata": {
        "id": "zP2Iqc7zWu_J"
      },
      "outputs": [],
      "source": [
        "print(tf.reshape(rank_3_tensor, [3*2, 5]), \"\\n\")\n",
        "print(tf.reshape(rank_3_tensor, [3, -1]))"
      ]
    },
    {
      "cell_type": "markdown",
      "metadata": {
        "id": "6ZsZRUhihlDB"
      },
      "source": [
        "<table>\n",
        "<th colspan=\"3\"> Algumas boas alterações de formato.</th>\n",
        "<tr>\n",
        "  <td> <img src=\"images/tensor/reshape-before.png\" alt=\"Um tensor 3x2x5\">\n",
        "</td>\n",
        "  <td>   <img src=\"images/tensor/reshape-good1.png\" alt=\"Os mesmos dados com formato alterado para (3x2)x5\">\n",
        "</td>\n",
        "  <td> <img src=\"images/tensor/reshape-good2.png\" alt=\"Os mesmos dados com formato alterado para 3x(2x5)\">\n",
        "</td>\n",
        "</tr>\n",
        "</table>\n"
      ]
    },
    {
      "cell_type": "markdown",
      "metadata": {
        "id": "nOcRxDC3jNIU"
      },
      "source": [
        "A alteração de formato \"funcionará\" para qualquer novo formato com o mesmo número total de elementos, mas não fará nada de útil se você não respeitar a ordem dos eixos.\n",
        "\n",
        "Trocar eixos em `tf.reshape` não funciona; você precisa de `tf.transpose` para isso.\n"
      ]
    },
    {
      "cell_type": "code",
      "execution_count": null,
      "metadata": {
        "id": "I9qDL_8u7cBH"
      },
      "outputs": [],
      "source": [
        "# Bad examples: don't do this\n",
        "\n",
        "# You can't reorder axes with reshape.\n",
        "print(tf.reshape(rank_3_tensor, [2, 3, 5]), \"\\n\") \n",
        "\n",
        "# This is a mess\n",
        "print(tf.reshape(rank_3_tensor, [5, 6]), \"\\n\")\n",
        "\n",
        "# This doesn't work at all\n",
        "try:\n",
        "  tf.reshape(rank_3_tensor, [7, -1])\n",
        "except Exception as e:\n",
        "  print(f\"{type(e).__name__}: {e}\")"
      ]
    },
    {
      "cell_type": "markdown",
      "metadata": {
        "id": "qTM9-5eh68oo"
      },
      "source": [
        "<table>\n",
        "<th colspan=\"3\"> Algumas alterações de formato ruins.</th>\n",
        "<tr>\n",
        "  <td> <img src=\"images/tensor/reshape-bad.png\" alt=\"Você não pode reordenar eixos, use tf.transpose para isso\">\n",
        "</td>\n",
        "  <td> <img src=\"images/tensor/reshape-bad4.png\" alt=\"Qualquer coisa que misture as fatias de dados provavelmente está errada.\">\n",
        "</td>\n",
        "  <td> <img src=\"images/tensor/reshape-bad2.png\" alt=\"O novo formato deve caber de forma exata.\">\n",
        "</td>\n",
        "</tr>\n",
        "</table>"
      ]
    },
    {
      "cell_type": "markdown",
      "metadata": {
        "id": "N9r90BvHCbTt"
      },
      "source": [
        "Você poderá se deparar com formatos não totalmente especificados. Ou o formato contém um `None` (o comprimento do eixo é desconhecido) ou todo o formato é `None` (o posto do tensor é desconhecido).\n",
        "\n",
        "Com exceção de [tf.RaggedTensor](#ragged_tensors), esses formatos ocorrerão apenas no contexto das APIs simbólicas de construção de grafos do TensorFlow:\n",
        "\n",
        "- [tf.function](function.ipynb)\n",
        "- A [API funcional Keras](https://www.tensorflow.org/guide/keras/functional).\n"
      ]
    },
    {
      "cell_type": "markdown",
      "metadata": {
        "id": "fDmFtFM7k0R2"
      },
      "source": [
        "## Mais sobre `DTypes`\n",
        "\n",
        "Para inspecionar o tipo de dados de um `tf.Tensor` use a propriedade `Tensor.dtype`.\n",
        "\n",
        "Ao criar um `tf.Tensor` a partir de um objeto Python, você pode opcionalmente especificar o tipo de dados.\n",
        "\n",
        "Se você não fizer isso, o TensorFlow escolherá um tipo de dados que possa representar seus dados. O TensorFlow converte números inteiros do Python em `tf.int32` e números de ponto flutuante do Python em `tf.float32`. Caso contrário, o TensorFlow usará as mesmas regras que o NumPy usa ao converter em arrays.\n",
        "\n",
        "Você pode fazer um cast de um tipo para outro."
      ]
    },
    {
      "cell_type": "code",
      "execution_count": null,
      "metadata": {
        "id": "5mSTDWbelUvu"
      },
      "outputs": [],
      "source": [
        "the_f64_tensor = tf.constant([2.2, 3.3, 4.4], dtype=tf.float64)\n",
        "the_f16_tensor = tf.cast(the_f64_tensor, dtype=tf.float16)\n",
        "# Now, cast to an uint8 and lose the decimal precision\n",
        "the_u8_tensor = tf.cast(the_f16_tensor, dtype=tf.uint8)\n",
        "print(the_u8_tensor)"
      ]
    },
    {
      "cell_type": "markdown",
      "metadata": {
        "id": "s1yBlJsVlFSu"
      },
      "source": [
        "## Broadcasting\n",
        "\n",
        "Broadcasting é um conceito emprestado do [recurso equivalente em NumPy](https://numpy.org/doc/stable/user/basics.broadcasting.html){:.external}. Em suma, sob certas condições, tensores menores são \"esticados\" automaticamente para caber em tensores maiores ao executar operações combinadas neles.\n",
        "\n",
        "O caso mais simples e comum é quando você tenta multiplicar ou adicionar um tensor a um escalar. Nesse caso, é feito o broadcast do escalar para que ele tenha o mesmo formato do outro argumento. "
      ]
    },
    {
      "cell_type": "code",
      "execution_count": null,
      "metadata": {
        "id": "P8sypqmagHQN"
      },
      "outputs": [],
      "source": [
        "x = tf.constant([1, 2, 3])\n",
        "\n",
        "y = tf.constant(2)\n",
        "z = tf.constant([2, 2, 2])\n",
        "# All of these are the same computation\n",
        "print(tf.multiply(x, 2))\n",
        "print(x * y)\n",
        "print(x * z)"
      ]
    },
    {
      "cell_type": "markdown",
      "metadata": {
        "id": "o0SBoR6voWcb"
      },
      "source": [
        "Da mesma forma, eixos com comprimento 1 podem ser esticados para corresponder aos outros argumentos. Ambos os argumentos podem ser esticados na mesma computação.\n",
        "\n",
        "Neste caso, uma matriz 3x1 é multiplicada elemento a elemento por uma matriz 1x4 para produzir uma matriz 3x4. Observe como o 1 inicial é opcional: O formato de y é `[4]`."
      ]
    },
    {
      "cell_type": "code",
      "execution_count": null,
      "metadata": {
        "id": "6sGmkPg3XANr"
      },
      "outputs": [],
      "source": [
        "# These are the same computations\n",
        "x = tf.reshape(x,[3,1])\n",
        "y = tf.range(1, 5)\n",
        "print(x, \"\\n\")\n",
        "print(y, \"\\n\")\n",
        "print(tf.multiply(x, y))"
      ]
    },
    {
      "cell_type": "markdown",
      "metadata": {
        "id": "t_7sh-EUYLrE"
      },
      "source": [
        "<table>\n",
        "<tr>\n",
        "  <th>Broadcast de uma adição: a <code>[3, 1]</code> vezes a <code>[1, 4]</code> produz <code>[3,4]</code>\n",
        "</th>\n",
        "</tr>\n",
        "<tr>\n",
        "  <td> <img src=\"images/tensor/broadcasting.png\" alt=\"Somar uma matriz 3x1 a uma matriz 4x1 resulta em uma matriz 3x4\">\n",
        "</td>\n",
        "</tr>\n",
        "</table>\n"
      ]
    },
    {
      "cell_type": "markdown",
      "metadata": {
        "id": "9V3KgSJcKDRz"
      },
      "source": [
        "Aqui está a mesma operação sem broadcasting:"
      ]
    },
    {
      "cell_type": "code",
      "execution_count": null,
      "metadata": {
        "id": "elrF6v63igY8"
      },
      "outputs": [],
      "source": [
        "x_stretch = tf.constant([[1, 1, 1, 1],\n",
        "                         [2, 2, 2, 2],\n",
        "                         [3, 3, 3, 3]])\n",
        "\n",
        "y_stretch = tf.constant([[1, 2, 3, 4],\n",
        "                         [1, 2, 3, 4],\n",
        "                         [1, 2, 3, 4]])\n",
        "\n",
        "print(x_stretch * y_stretch)  # Again, operator overloading"
      ]
    },
    {
      "cell_type": "markdown",
      "metadata": {
        "id": "14KobqYu85gi"
      },
      "source": [
        "Na maioria das vezes, o broadcasting é eficiente em termos de tempo e espaço, pois a operação de broadcasting nunca materializa os tensores expandidos na memória.\n",
        "\n",
        "Você pode ver como vai ficar o broadcast usando `tf.broadcast_to`."
      ]
    },
    {
      "cell_type": "code",
      "execution_count": null,
      "metadata": {
        "id": "GW2Q59_r8hZ6"
      },
      "outputs": [],
      "source": [
        "print(tf.broadcast_to(tf.constant([1, 2, 3]), [3, 3]))"
      ]
    },
    {
      "cell_type": "markdown",
      "metadata": {
        "id": "Z2bAMMQY-jpP"
      },
      "source": [
        "Ao contrário de uma operação matemática, por exemplo, `broadcast_to` não faz nada de especial para economizar memória. Aqui, você está materializando o tensor.\n",
        "\n",
        "Pode ficar ainda mais complicado. [Esta seção](https://jakevdp.github.io/PythonDataScienceHandbook/02.05-computation-on-arrays-broadcasting.html){:.external} do livro *Python Data Science Handbook* de Jake VanderPlas mostra mais truques de broadcasting (novamente usando NumPy)."
      ]
    },
    {
      "cell_type": "markdown",
      "metadata": {
        "id": "o4Rpz0xAsKSI"
      },
      "source": [
        "## tf.convert_to_tensor\n",
        "\n",
        "A maioria das ops, como `tf.matmul` e `tf.reshape` aceitam argumentos da classe `tf.Tensor`. No entanto, você notará que no caso acima, objetos Python em forma de tensores são aceitos.\n",
        "\n",
        "A maioria, mas não todas as operações chamam `convert_to_tensor` em argumentos não tensores. Há um registro de conversões, e a maioria das classes de objetos, como `ndarray`, `TensorShape`, listas Python e `tf.Variable` do NumPy, serão convertidas automaticamente.\n",
        "\n",
        "Veja `tf.register_tensor_conversion_function` para mais detalhes e, se você tiver seu próprio tipo que gostaria de converter automaticamente em um tensor."
      ]
    },
    {
      "cell_type": "markdown",
      "metadata": {
        "id": "05bBVBVYV0y6"
      },
      "source": [
        "## Tensores irregulares\n",
        "\n",
        "Um tensor com número variável de elementos ao longo de algum eixo é chamado de \"irregular\". Use `tf.ragged.RaggedTensor` para dados irregulares.\n",
        "\n",
        "Por exemplo, isto não pode ser representado como um tensor regular:"
      ]
    },
    {
      "cell_type": "markdown",
      "metadata": {
        "id": "VPc3jGoeJqB7"
      },
      "source": [
        "<table>\n",
        "<tr>\n",
        "  <th>Um `tf.RaggedTensor`, formato: <code>[4, None]</code>\n",
        "</th>\n",
        "</tr>\n",
        "<tr>\n",
        "  <td> <img src=\"images/tensor/ragged.png\" alt=\"Um tensor irregular de 2 eixos, cada linha pode ter um comprimento diferente.\">\n",
        "</td>\n",
        "</tr>\n",
        "</table>"
      ]
    },
    {
      "cell_type": "code",
      "execution_count": null,
      "metadata": {
        "id": "VsbTjoFfNVBF"
      },
      "outputs": [],
      "source": [
        "ragged_list = [\n",
        "    [0, 1, 2, 3],\n",
        "    [4, 5],\n",
        "    [6, 7, 8],\n",
        "    [9]]"
      ]
    },
    {
      "cell_type": "code",
      "execution_count": null,
      "metadata": {
        "id": "p4xKTo57tutG"
      },
      "outputs": [],
      "source": [
        "try:\n",
        "  tensor = tf.constant(ragged_list)\n",
        "except Exception as e:\n",
        "  print(f\"{type(e).__name__}: {e}\")"
      ]
    },
    {
      "cell_type": "markdown",
      "metadata": {
        "id": "0cm9KuEeMLGI"
      },
      "source": [
        "Em vez disso, crie um `tf.RaggedTensor` usando `tf.ragged.constant`:"
      ]
    },
    {
      "cell_type": "code",
      "execution_count": null,
      "metadata": {
        "id": "XhF3QV3jiqTj"
      },
      "outputs": [],
      "source": [
        "ragged_tensor = tf.ragged.constant(ragged_list)\n",
        "print(ragged_tensor)"
      ]
    },
    {
      "cell_type": "markdown",
      "metadata": {
        "id": "sFgHduHVNoIE"
      },
      "source": [
        "O formato de um `tf.RaggedTensor` conterá alguns eixos com comprimentos desconhecidos:"
      ]
    },
    {
      "cell_type": "code",
      "execution_count": null,
      "metadata": {
        "id": "Eo_3wJUWNgqB"
      },
      "outputs": [],
      "source": [
        "print(ragged_tensor.shape)"
      ]
    },
    {
      "cell_type": "markdown",
      "metadata": {
        "id": "V9njclVkkN7G"
      },
      "source": [
        "## Tensores de string\n",
        "\n",
        "`tf.string` é um `dtype`, o que significa que você pode representar dados como strings (arrays de bytes de comprimento variável) em tensores.\n",
        "\n",
        "Strings são atômicas e não podem ser indexadas da mesma forma que as strings do Python. O comprimento da string não é um dos eixos do tensor. Veja `tf.strings` para conhecer funções para manipulá-las."
      ]
    },
    {
      "cell_type": "markdown",
      "metadata": {
        "id": "5P_8spEGQ0wp"
      },
      "source": [
        "Aqui está um tensor de strings escalar:"
      ]
    },
    {
      "cell_type": "code",
      "execution_count": null,
      "metadata": {
        "id": "sBosmM8MkIh4"
      },
      "outputs": [],
      "source": [
        "# Tensors can be strings, too here is a scalar string.\n",
        "scalar_string_tensor = tf.constant(\"Gray wolf\")\n",
        "print(scalar_string_tensor)"
      ]
    },
    {
      "cell_type": "markdown",
      "metadata": {
        "id": "CMFBSl1FQ3vE"
      },
      "source": [
        "E um vetor de strings:"
      ]
    },
    {
      "cell_type": "markdown",
      "metadata": {
        "id": "IO-c3Tq3RC1L"
      },
      "source": [
        "<table>\n",
        "<tr>\n",
        "  <th>Um vetor de strings, formato: <code>[3,]</code>\n",
        "</th>\n",
        "</tr>\n",
        "<tr>\n",
        "  <td> <img src=\"images/tensor/strings.png\" alt=\"O comprimento da string não é um dos eixos do tensor.\">\n",
        "</td>\n",
        "</tr>\n",
        "</table>"
      ]
    },
    {
      "cell_type": "code",
      "execution_count": null,
      "metadata": {
        "id": "41Dv2kL9QrtO"
      },
      "outputs": [],
      "source": [
        "# If you have three string tensors of different lengths, this is OK.\n",
        "tensor_of_strings = tf.constant([\"Gray wolf\",\n",
        "                                 \"Quick brown fox\",\n",
        "                                 \"Lazy dog\"])\n",
        "# Note that the shape is (3,). The string length is not included.\n",
        "print(tensor_of_strings)"
      ]
    },
    {
      "cell_type": "markdown",
      "metadata": {
        "id": "76gQ9qrgSMzS"
      },
      "source": [
        "Na listagem acima, o prefixo `b` indica que o dtype `tf.string` não é uma string unicode, mas uma string de bytes. Consulte o [Tutorial Unicode](https://www.tensorflow.org/tutorials/load_data/unicode) para saber mais sobre como trabalhar com texto Unicode no TensorFlow."
      ]
    },
    {
      "cell_type": "markdown",
      "metadata": {
        "id": "ClSBPK-lZBQp"
      },
      "source": [
        "Se você passar caracteres Unicode, eles serão codificados em utf-8."
      ]
    },
    {
      "cell_type": "code",
      "execution_count": null,
      "metadata": {
        "id": "GTgL53jxSMd9"
      },
      "outputs": [],
      "source": [
        "tf.constant(\"🥳👍\")"
      ]
    },
    {
      "cell_type": "markdown",
      "metadata": {
        "id": "Ir9cY42MMAei"
      },
      "source": [
        "Algumas funções básicas com strings podem ser encontradas em `tf.strings`, incluindo `tf.strings.split`."
      ]
    },
    {
      "cell_type": "code",
      "execution_count": null,
      "metadata": {
        "id": "8k2K0VTFyj8e"
      },
      "outputs": [],
      "source": [
        "# You can use split to split a string into a set of tensors\n",
        "print(tf.strings.split(scalar_string_tensor, sep=\" \"))"
      ]
    },
    {
      "cell_type": "code",
      "execution_count": null,
      "metadata": {
        "id": "zgGAn1dfR-04"
      },
      "outputs": [],
      "source": [
        "# ...but it turns into a `RaggedTensor` if you split up a tensor of strings,\n",
        "# as each string might be split into a different number of parts.\n",
        "print(tf.strings.split(tensor_of_strings))"
      ]
    },
    {
      "cell_type": "markdown",
      "metadata": {
        "id": "HsAn1kPeO84m"
      },
      "source": [
        "<table>\n",
        "<tr>\n",
        "  <th>Split de três strings, formato: <code>[3, None]</code>\n",
        "</th>\n",
        "</tr>\n",
        "<tr>\n",
        "  <td> <img src=\"images/tensor/string-split.png\" alt=\"A divisão de várias strings retorna um tf.RaggedTensor\">\n",
        "</td>\n",
        "</tr>\n",
        "</table>"
      ]
    },
    {
      "cell_type": "markdown",
      "metadata": {
        "id": "st9OxrUxWSKY"
      },
      "source": [
        "E `tf.strings.to_number`:"
      ]
    },
    {
      "cell_type": "code",
      "execution_count": null,
      "metadata": {
        "id": "3nRtx3X9WRfN"
      },
      "outputs": [],
      "source": [
        "text = tf.constant(\"1 10 100\")\n",
        "print(tf.strings.to_number(tf.strings.split(text, \" \")))"
      ]
    },
    {
      "cell_type": "markdown",
      "metadata": {
        "id": "r2EZtBbJBns4"
      },
      "source": [
        "Embora você não possa usar `tf.cast` para transformar um tensor de string em números, você pode convertê-lo em bytes e depois em números."
      ]
    },
    {
      "cell_type": "code",
      "execution_count": null,
      "metadata": {
        "id": "fo8BjmH7gyTj"
      },
      "outputs": [],
      "source": [
        "byte_strings = tf.strings.bytes_split(tf.constant(\"Duck\"))\n",
        "byte_ints = tf.io.decode_raw(tf.constant(\"Duck\"), tf.uint8)\n",
        "print(\"Byte strings:\", byte_strings)\n",
        "print(\"Bytes:\", byte_ints)"
      ]
    },
    {
      "cell_type": "code",
      "execution_count": null,
      "metadata": {
        "id": "uSQnZ7d1jCSQ"
      },
      "outputs": [],
      "source": [
        "# Or split it up as unicode and then decode it\n",
        "unicode_bytes = tf.constant(\"アヒル 🦆\")\n",
        "unicode_char_bytes = tf.strings.unicode_split(unicode_bytes, \"UTF-8\")\n",
        "unicode_values = tf.strings.unicode_decode(unicode_bytes, \"UTF-8\")\n",
        "\n",
        "print(\"\\nUnicode bytes:\", unicode_bytes)\n",
        "print(\"\\nUnicode chars:\", unicode_char_bytes)\n",
        "print(\"\\nUnicode values:\", unicode_values)"
      ]
    },
    {
      "cell_type": "markdown",
      "metadata": {
        "id": "fE7nKJ2YW3aY"
      },
      "source": [
        "O dtype `tf.string` é usado para todos os dados de bytes brutos no TensorFlow. O módulo `tf.io` contém funções para converter dados de e para bytes, inclusive decodificação de imagens e processamento de CSV."
      ]
    },
    {
      "cell_type": "markdown",
      "metadata": {
        "id": "ua8BnAzxkRKV"
      },
      "source": [
        "## Tensores esparsos\n",
        "\n",
        "Às vezes, seus dados são esparsos, como um espaço de embedding muito largo. O TensorFlow oferece suporte a `tf.sparse.SparseTensor` e operações relacionadas para armazenar dados esparsos com eficiência."
      ]
    },
    {
      "cell_type": "markdown",
      "metadata": {
        "id": "mS5zgqgUTPRb"
      },
      "source": [
        "<table>\n",
        "<tr>\n",
        "  <th>Um `tf.SparseTensor`, formato: <code>[3, 4]</code>\n",
        "</th>\n",
        "</tr>\n",
        "<tr>\n",
        "  <td> <img src=\"images/tensor/sparse.png\" alt=\"Uma grade 3x4, com valores em apenas duas das células.\">\n",
        "</td>\n",
        "</tr>\n",
        "</table>"
      ]
    },
    {
      "cell_type": "code",
      "execution_count": null,
      "metadata": {
        "id": "B9nbO1E2kSUN"
      },
      "outputs": [],
      "source": [
        "# Sparse tensors store values by index in a memory-efficient manner\n",
        "sparse_tensor = tf.sparse.SparseTensor(indices=[[0, 0], [1, 2]],\n",
        "                                       values=[1, 2],\n",
        "                                       dense_shape=[3, 4])\n",
        "print(sparse_tensor, \"\\n\")\n",
        "\n",
        "# You can convert sparse tensors to dense\n",
        "print(tf.sparse.to_dense(sparse_tensor))"
      ]
    }
  ],
  "metadata": {
    "colab": {
      "collapsed_sections": [
        "Tce3stUlHN0L"
      ],
      "name": "tensor.ipynb",
      "toc_visible": true
    },
    "kernelspec": {
      "display_name": "Python 3",
      "name": "python3"
    }
  },
  "nbformat": 4,
  "nbformat_minor": 0
}
