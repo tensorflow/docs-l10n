{
  "cells": [
    {
      "cell_type": "markdown",
      "metadata": {
        "id": "ScitaPqhKtuW"
      },
      "source": [
        "##### Copyright 2018 The TensorFlow Hub Authors.\n",
        "\n",
        "Licensed under the Apache License, Version 2.0 (the \"License\");"
      ]
    },
    {
      "cell_type": "code",
      "execution_count": null,
      "metadata": {
        "id": "bNnChGfZK2_w"
      },
      "outputs": [],
      "source": [
        "# Copyright 2018 The TensorFlow Hub Authors. All Rights Reserved.\n",
        "#\n",
        "# Licensed under the Apache License, Version 2.0 (the \"License\");\n",
        "# you may not use this file except in compliance with the License.\n",
        "# You may obtain a copy of the License at\n",
        "#\n",
        "#     http://www.apache.org/licenses/LICENSE-2.0\n",
        "#\n",
        "# Unless required by applicable law or agreed to in writing, software\n",
        "# distributed under the License is distributed on an \"AS IS\" BASIS,\n",
        "# WITHOUT WARRANTIES OR CONDITIONS OF ANY KIND, either express or implied.\n",
        "# See the License for the specific language governing permissions and\n",
        "# limitations under the License.\n",
        "# =============================================================================="
      ]
    },
    {
      "cell_type": "markdown",
      "metadata": {
        "id": "9Z_ZvMk5JPFV"
      },
      "source": [
        "# Classificação de flores com aprendizado por transferência\n"
      ]
    },
    {
      "cell_type": "markdown",
      "metadata": {
        "id": "MfBg1C5NB3X0"
      },
      "source": [
        "<table class=\"tfo-notebook-buttons\" align=\"left\">\n",
        "  <td>     <a target=\"_blank\" href=\"https://www.tensorflow.org/hub/tutorials/image_feature_vector\"><img src=\"https://www.tensorflow.org/images/tf_logo_32px.png\">Ver em TensorFlow.org</a>\n",
        "</td>\n",
        "  <td>     <a target=\"_blank\" href=\"https://colab.research.google.com/github/tensorflow/docs-l10n/blob/master/site/pt-br/hub/tutorials/image_feature_vector.ipynb\"><img src=\"https://www.tensorflow.org/images/colab_logo_32px.png\">Executar no Google Colab</a>\n",
        "</td>\n",
        "  <td>     <a target=\"_blank\" href=\"https://github.com/tensorflow/docs-l10n/blob/master/site/pt-br/hub/tutorials/image_feature_vector.ipynb\"><img src=\"https://www.tensorflow.org/images/GitHub-Mark-32px.png\">Ver no GitHub</a>\n",
        "</td>\n",
        "  <td>     <a href=\"https://storage.googleapis.com/tensorflow_docs/docs-l10n/site/pt-br/hub/tutorials/image_feature_vector.ipynb\"><img src=\"https://www.tensorflow.org/images/download_logo_32px.png\">Baixar notebook</a>\n",
        "</td>\n",
        "  <td>     <a href=\"https://tfhub.dev/google/imagenet/mobilenet_v2_035_128/feature_vector/2\"><img src=\"https://www.tensorflow.org/images/hub_logo_32px.png\">Ver modelo do TF Hub</a>\n",
        "</td>\n",
        "</table>"
      ]
    },
    {
      "cell_type": "markdown",
      "metadata": {
        "id": "gh-LWtlqLtgH"
      },
      "source": [
        "Alguma vez você já viu uma linda flor e quis saber que tipo era? Bem, você não é a primeira pessoa a indagar, então criamos uma forma de identificar o tipo de flor a partir de uma foto!\n",
        "\n",
        "Para classificação de imagens, um tipo específico de *rede neural profunda*, chamado de *rede neural convolucional*, provou ser especialmente poderoso. Entretanto, as redes neurais convolucionais modernas têm milhões de parâmetros. Treiná-las do zero requer muitos dados de treinamento rotulados e muito poder computacional (centenas de horas de GPU ou mais). Temos somente cerca de 3 mil fotos rotuladas e queremos gastar muito menos tempo, então precisamos ser mais inteligentes.\n",
        "\n",
        "Usaremos uma técnica chamada *aprendizado por transferência*, em que pegamos uma rede pré-treinada (usando cerca de um milhão de imagens gerais), a usamos para extrair características e treinamos uma nova camada para nossa própria tarefa de classificação de imagens de flores.\n"
      ]
    },
    {
      "cell_type": "markdown",
      "metadata": {
        "id": "ORy-KvWXGXBo"
      },
      "source": [
        "## Configuração\n"
      ]
    },
    {
      "cell_type": "code",
      "execution_count": null,
      "metadata": {
        "id": "NTrs9zBKJK1c"
      },
      "outputs": [],
      "source": [
        "import collections\n",
        "import io\n",
        "import math\n",
        "import os\n",
        "import random\n",
        "from six.moves import urllib\n",
        "\n",
        "from IPython.display import clear_output, Image, display, HTML\n",
        "\n",
        "import tensorflow.compat.v1 as tf\n",
        "tf.disable_v2_behavior()\n",
        "\n",
        "import tensorflow_hub as hub\n",
        "\n",
        "import numpy as np\n",
        "import matplotlib.pyplot as plt\n",
        "import seaborn as sns\n",
        "import sklearn.metrics as sk_metrics\n",
        "import time"
      ]
    },
    {
      "cell_type": "markdown",
      "metadata": {
        "id": "Do-T63G7NCSB"
      },
      "source": [
        "## Dataset Flowers\n",
        "\n",
        "O dataset Flowers consiste de imagens de flores com 5 rótulos de classes possíveis.\n",
        "\n",
        "Ao treinar um modelo de aprendizado de máquina, dividimos os dados em datasets de treinamento e teste. Vamos treinar o modelo com nossos dados de treinamento e depois avaliar o desempenho do modelo com dados jamais observados – o conjunto de teste.\n",
        "\n",
        "Vamos baixar os exemplos de treinamento e teste (pode demorar um pouco) e dividi-los em datasets de treinamento e teste.\n",
        "\n",
        "Execute as duas células abaixo:"
      ]
    },
    {
      "cell_type": "code",
      "execution_count": null,
      "metadata": {
        "cellView": "both",
        "id": "HYQr1SILIxSK"
      },
      "outputs": [],
      "source": [
        "FLOWERS_DIR = './flower_photos'\n",
        "TRAIN_FRACTION = 0.8\n",
        "RANDOM_SEED = 2018\n",
        "\n",
        "\n",
        "def download_images():\n",
        "  \"\"\"If the images aren't already downloaded, save them to FLOWERS_DIR.\"\"\"\n",
        "  if not os.path.exists(FLOWERS_DIR):\n",
        "    DOWNLOAD_URL = 'http://download.tensorflow.org/example_images/flower_photos.tgz'\n",
        "    print('Downloading flower images from %s...' % DOWNLOAD_URL)\n",
        "    urllib.request.urlretrieve(DOWNLOAD_URL, 'flower_photos.tgz')\n",
        "    !tar xfz flower_photos.tgz\n",
        "  print('Flower photos are located in %s' % FLOWERS_DIR)\n",
        "\n",
        "\n",
        "def make_train_and_test_sets():\n",
        "  \"\"\"Split the data into train and test sets and get the label classes.\"\"\"\n",
        "  train_examples, test_examples = [], []\n",
        "  shuffler = random.Random(RANDOM_SEED)\n",
        "  is_root = True\n",
        "  for (dirname, subdirs, filenames) in tf.gfile.Walk(FLOWERS_DIR):\n",
        "    # The root directory gives us the classes\n",
        "    if is_root:\n",
        "      subdirs = sorted(subdirs)\n",
        "      classes = collections.OrderedDict(enumerate(subdirs))\n",
        "      label_to_class = dict([(x, i) for i, x in enumerate(subdirs)])\n",
        "      is_root = False\n",
        "    # The sub directories give us the image files for training.\n",
        "    else:\n",
        "      filenames.sort()\n",
        "      shuffler.shuffle(filenames)\n",
        "      full_filenames = [os.path.join(dirname, f) for f in filenames]\n",
        "      label = dirname.split('/')[-1]\n",
        "      label_class = label_to_class[label]\n",
        "      # An example is the image file and it's label class.\n",
        "      examples = list(zip(full_filenames, [label_class] * len(filenames)))\n",
        "      num_train = int(len(filenames) * TRAIN_FRACTION)\n",
        "      train_examples.extend(examples[:num_train])\n",
        "      test_examples.extend(examples[num_train:])\n",
        "\n",
        "  shuffler.shuffle(train_examples)\n",
        "  shuffler.shuffle(test_examples)\n",
        "  return train_examples, test_examples, classes\n"
      ]
    },
    {
      "cell_type": "code",
      "execution_count": null,
      "metadata": {
        "id": "_9NklpcANhtB"
      },
      "outputs": [],
      "source": [
        "# Download the images and split the images into train and test sets.\n",
        "download_images()\n",
        "TRAIN_EXAMPLES, TEST_EXAMPLES, CLASSES = make_train_and_test_sets()\n",
        "NUM_CLASSES = len(CLASSES)\n",
        "\n",
        "print('\\nThe dataset has %d label classes: %s' % (NUM_CLASSES, CLASSES.values()))\n",
        "print('There are %d training images' % len(TRAIN_EXAMPLES))\n",
        "print('there are %d test images' % len(TEST_EXAMPLES))"
      ]
    },
    {
      "cell_type": "markdown",
      "metadata": {
        "id": "tHF7bHTfnD6S"
      },
      "source": [
        "## Explore os dados\n",
        "\n",
        "O dataset Flowers consiste de exemplos que são imagens de flores rotuladas. Cada exemplo contém uma imagem de flor em JPEG e o rótulo de classe: o tipo de flor. Vamos exibir algumas imagens juntamente com os respectivos rótulos."
      ]
    },
    {
      "cell_type": "code",
      "execution_count": null,
      "metadata": {
        "cellView": "both",
        "id": "1friUvN6kPYM"
      },
      "outputs": [],
      "source": [
        "#@title Show some labeled images\n",
        "def get_label(example):\n",
        "  \"\"\"Get the label (number) for given example.\"\"\"\n",
        "  return example[1]\n",
        "\n",
        "def get_class(example):\n",
        "  \"\"\"Get the class (string) of given example.\"\"\"\n",
        "  return CLASSES[get_label(example)]\n",
        "\n",
        "def get_encoded_image(example):\n",
        "  \"\"\"Get the image data (encoded jpg) of given example.\"\"\"\n",
        "  image_path = example[0]\n",
        "  return tf.gfile.GFile(image_path, 'rb').read()\n",
        "\n",
        "def get_image(example):\n",
        "  \"\"\"Get image as np.array of pixels for given example.\"\"\"\n",
        "  return plt.imread(io.BytesIO(get_encoded_image(example)), format='jpg')\n",
        "\n",
        "def display_images(images_and_classes, cols=5):\n",
        "  \"\"\"Display given images and their labels in a grid.\"\"\"\n",
        "  rows = int(math.ceil(len(images_and_classes) / cols))\n",
        "  fig = plt.figure()\n",
        "  fig.set_size_inches(cols * 3, rows * 3)\n",
        "  for i, (image, flower_class) in enumerate(images_and_classes):\n",
        "    plt.subplot(rows, cols, i + 1)\n",
        "    plt.axis('off')\n",
        "    plt.imshow(image)\n",
        "    plt.title(flower_class)\n",
        "\n",
        "NUM_IMAGES = 15 #@param {type: 'integer'}\n",
        "display_images([(get_image(example), get_class(example))\n",
        "               for example in TRAIN_EXAMPLES[:NUM_IMAGES]])"
      ]
    },
    {
      "cell_type": "markdown",
      "metadata": {
        "id": "Hyjr6PuboTAg"
      },
      "source": [
        "## Crie o modelo\n",
        "\n",
        "Vamos carregar um módulo de vetor de características de imagens do [TF Hub](https://tensorflow.org/hub), empilhar um classificador linear nele e adicionar operações de treinamento e avaliação. A célula abaixo constrói um grafo do TF descrevendo o modelo e seu treinamento, mas não executa o treinamento (isso será feito na próxima etapa)."
      ]
    },
    {
      "cell_type": "code",
      "execution_count": null,
      "metadata": {
        "id": "LbkSRaK_oW5Y"
      },
      "outputs": [],
      "source": [
        "LEARNING_RATE = 0.01\n",
        "\n",
        "tf.reset_default_graph()\n",
        "\n",
        "# Load a pre-trained TF-Hub module for extracting features from images. We've\n",
        "# chosen this particular module for speed, but many other choices are available.\n",
        "image_module = hub.Module('https://tfhub.dev/google/imagenet/mobilenet_v2_035_128/feature_vector/2')\n",
        "\n",
        "# Preprocessing images into tensors with size expected by the image module.\n",
        "encoded_images = tf.placeholder(tf.string, shape=[None])\n",
        "image_size = hub.get_expected_image_size(image_module)\n",
        "\n",
        "\n",
        "def decode_and_resize_image(encoded):\n",
        "  decoded = tf.image.decode_jpeg(encoded, channels=3)\n",
        "  decoded = tf.image.convert_image_dtype(decoded, tf.float32)\n",
        "  return tf.image.resize_images(decoded, image_size)\n",
        "\n",
        "\n",
        "batch_images = tf.map_fn(decode_and_resize_image, encoded_images, dtype=tf.float32)\n",
        "\n",
        "# The image module can be applied as a function to extract feature vectors for a\n",
        "# batch of images.\n",
        "features = image_module(batch_images)\n",
        "\n",
        "\n",
        "def create_model(features):\n",
        "  \"\"\"Build a model for classification from extracted features.\"\"\"\n",
        "  # Currently, the model is just a single linear layer. You can try to add\n",
        "  # another layer, but be careful... two linear layers (when activation=None)\n",
        "  # are equivalent to a single linear layer. You can create a nonlinear layer\n",
        "  # like this:\n",
        "  # layer = tf.layers.dense(inputs=..., units=..., activation=tf.nn.relu)\n",
        "  layer = tf.layers.dense(inputs=features, units=NUM_CLASSES, activation=None)\n",
        "  return layer\n",
        "\n",
        "\n",
        "# For each class (kind of flower), the model outputs some real number as a score\n",
        "# how much the input resembles this class. This vector of numbers is often\n",
        "# called the \"logits\".\n",
        "logits = create_model(features)\n",
        "labels = tf.placeholder(tf.float32, [None, NUM_CLASSES])\n",
        "\n",
        "# Mathematically, a good way to measure how much the predicted probabilities\n",
        "# diverge from the truth is the \"cross-entropy\" between the two probability\n",
        "# distributions. For numerical stability, this is best done directly from the\n",
        "# logits, not the probabilities extracted from them.\n",
        "cross_entropy = tf.nn.softmax_cross_entropy_with_logits_v2(logits=logits, labels=labels)\n",
        "cross_entropy_mean = tf.reduce_mean(cross_entropy)\n",
        "\n",
        "# Let's add an optimizer so we can train the network.\n",
        "optimizer = tf.train.GradientDescentOptimizer(learning_rate=LEARNING_RATE)\n",
        "train_op = optimizer.minimize(loss=cross_entropy_mean)\n",
        "\n",
        "# The \"softmax\" function transforms the logits vector into a vector of\n",
        "# probabilities: non-negative numbers that sum up to one, and the i-th number\n",
        "# says how likely the input comes from class i.\n",
        "probabilities = tf.nn.softmax(logits)\n",
        "\n",
        "# We choose the highest one as the predicted class.\n",
        "prediction = tf.argmax(probabilities, 1)\n",
        "correct_prediction = tf.equal(prediction, tf.argmax(labels, 1))\n",
        "\n",
        "# The accuracy will allow us to eval on our test set. \n",
        "accuracy = tf.reduce_mean(tf.cast(correct_prediction, tf.float32))"
      ]
    },
    {
      "cell_type": "markdown",
      "metadata": {
        "id": "0vvhYQ7-3AG_"
      },
      "source": [
        "## Treine a rede\n",
        "\n",
        "Agora que o modelo foi criado, vamos treiná-lo e ver o desempenho para o conjunto de teste."
      ]
    },
    {
      "cell_type": "code",
      "execution_count": null,
      "metadata": {
        "id": "1YnBg7-OS3Dz"
      },
      "outputs": [],
      "source": [
        "# How long will we train the network (number of batches).\n",
        "NUM_TRAIN_STEPS = 100 #@param {type: 'integer'}\n",
        "# How many training examples we use in each step.\n",
        "TRAIN_BATCH_SIZE = 10 #@param {type: 'integer'}\n",
        "# How often to evaluate the model performance.\n",
        "EVAL_EVERY = 10 #@param {type: 'integer'}\n",
        "\n",
        "def get_batch(batch_size=None, test=False):\n",
        "  \"\"\"Get a random batch of examples.\"\"\"\n",
        "  examples = TEST_EXAMPLES if test else TRAIN_EXAMPLES\n",
        "  batch_examples = random.sample(examples, batch_size) if batch_size else examples\n",
        "  return batch_examples\n",
        "\n",
        "def get_images_and_labels(batch_examples):\n",
        "  images = [get_encoded_image(e) for e in batch_examples]\n",
        "  one_hot_labels = [get_label_one_hot(e) for e in batch_examples]\n",
        "  return images, one_hot_labels\n",
        "\n",
        "def get_label_one_hot(example):\n",
        "  \"\"\"Get the one hot encoding vector for the example.\"\"\"\n",
        "  one_hot_vector = np.zeros(NUM_CLASSES)\n",
        "  np.put(one_hot_vector, get_label(example), 1)\n",
        "  return one_hot_vector\n",
        "\n",
        "with tf.Session() as sess:\n",
        "  sess.run(tf.global_variables_initializer())\n",
        "  for i in range(NUM_TRAIN_STEPS):\n",
        "    # Get a random batch of training examples.\n",
        "    train_batch = get_batch(batch_size=TRAIN_BATCH_SIZE)\n",
        "    batch_images, batch_labels = get_images_and_labels(train_batch)\n",
        "    # Run the train_op to train the model.\n",
        "    train_loss, _, train_accuracy = sess.run(\n",
        "        [cross_entropy_mean, train_op, accuracy],\n",
        "        feed_dict={encoded_images: batch_images, labels: batch_labels})\n",
        "    is_final_step = (i == (NUM_TRAIN_STEPS - 1))\n",
        "    if i % EVAL_EVERY == 0 or is_final_step:\n",
        "      # Get a batch of test examples.\n",
        "      test_batch = get_batch(batch_size=None, test=True)\n",
        "      batch_images, batch_labels = get_images_and_labels(test_batch)\n",
        "      # Evaluate how well our model performs on the test set.\n",
        "      test_loss, test_accuracy, test_prediction, correct_predicate = sess.run(\n",
        "        [cross_entropy_mean, accuracy, prediction, correct_prediction],\n",
        "        feed_dict={encoded_images: batch_images, labels: batch_labels})\n",
        "      print('Test accuracy at step %s: %.2f%%' % (i, (test_accuracy * 100)))"
      ]
    },
    {
      "cell_type": "code",
      "execution_count": null,
      "metadata": {
        "id": "ZFUNJxuH2t0V"
      },
      "outputs": [],
      "source": [
        "def show_confusion_matrix(test_labels, predictions):\n",
        "  \"\"\"Compute confusion matrix and normalize.\"\"\"\n",
        "  confusion = sk_metrics.confusion_matrix(\n",
        "    np.argmax(test_labels, axis=1), predictions)\n",
        "  confusion_normalized = confusion.astype(\"float\") / confusion.sum(axis=1)\n",
        "  axis_labels = list(CLASSES.values())\n",
        "  ax = sns.heatmap(\n",
        "      confusion_normalized, xticklabels=axis_labels, yticklabels=axis_labels,\n",
        "      cmap='Blues', annot=True, fmt='.2f', square=True)\n",
        "  plt.title(\"Confusion matrix\")\n",
        "  plt.ylabel(\"True label\")\n",
        "  plt.xlabel(\"Predicted label\")\n",
        "\n",
        "show_confusion_matrix(batch_labels, test_prediction)"
      ]
    },
    {
      "cell_type": "markdown",
      "metadata": {
        "id": "Uu3vo8DK8BdL"
      },
      "source": [
        "## Previsões incorretas\n",
        "\n",
        "Vamos ver melhor os exemplos de teste que o modelo errou.\n",
        "\n",
        "- Há algum exemplo rotulado incorretamente no conjunto de teste?\n",
        "- Há algum dado incorreto no conjunto de teste – imagens que não são realmente de flores?\n",
        "- Há imagens em que você consegue entender por que o modelo cometeu um erro?"
      ]
    },
    {
      "cell_type": "code",
      "execution_count": null,
      "metadata": {
        "id": "hqa0V3WN8C9M"
      },
      "outputs": [],
      "source": [
        "incorrect = [\n",
        "    (example, CLASSES[prediction])\n",
        "    for example, prediction, is_correct in zip(test_batch, test_prediction, correct_predicate)\n",
        "    if not is_correct\n",
        "]\n",
        "display_images(\n",
        "  [(get_image(example), \"prediction: {0}\\nlabel:{1}\".format(incorrect_prediction, get_class(example)))\n",
        "   for (example, incorrect_prediction) in incorrect[:20]])"
      ]
    },
    {
      "cell_type": "markdown",
      "metadata": {
        "id": "YN_s04Il8TvK"
      },
      "source": [
        "## Exercícios – Aprimore o modelo\n",
        "\n",
        "Treinamos um modelo de referência. Agora, vamos tentar aprimorá-lo para alcançar uma exatidão melhor (lembre-se de que você precisará executar as células novamente quando fizer uma alteração).\n",
        "\n",
        "### Exercício 1 – Tente usar um modelo de imagens diferente.\n",
        "\n",
        "Com o TF Hub, é simples testar alguns modelos de imagens diferentes. Basta substituir o identificador `\"https://tfhub.dev/google/imagenet/mobilenet_v2_050_128/feature_vector/2\"` na chamada a  `hub.Module()` pelo identificador de um módulo diferente e executar novamente todo o código. Confira todos os módulos de imagens disponíveis em [tfhub.dev](https://tfhub.dev/s?module-type=image-feature-vector).\n",
        "\n",
        "Uma boa opção pode ser um dos outros [módulos MobileNet V2](https://tfhub.dev/s?module-type=image-feature-vector&network-architecture=mobilenet-v2). Diversos módulos, incluindo os módulos MobileNet, foram treinados com o [dataset ImageNet](https://www.tensorflow.org/datasets/catalog/imagenet2012), que contém mais de 1 milhão de imagens e mil classes. Ao escolher uma arquitetura de rede, há uma contrapartida entre velocidade e exatidão da classificação: modelos como MobileNet ou NASNet Mobile são pequenos e rápidos, enquanto arquiteturas mais tradicionais, como Inception e ResNet, foram criadas para proporcionar uma alta exatidão.\n",
        "\n",
        "Para a arquitetura maior Inception V3, você também pode explorar as vantagens de pré-treinar com um domínio mais próximo da sua própria tarefa – e ela também está disponível como um [módulo treinado com o dataset iNaturalist](https://tfhub.dev/google/inaturalist/inception_v3/feature_vector/1) de plantas e animais.\n",
        "\n",
        "### Exercício 2 – Acrescente uma camada oculta.\n",
        "\n",
        "Empilhe uma camada oculta entre as características de imagem extraídas e o classificador linear (na função `create_model()` acima). Para criar uma camada oculta não linear com, por exemplo, 100 nós, use [tf.layers.dense](https://www.tensorflow.org/api_docs/python/tf/compat/v1/layers/dense), com units definido como 100 e activation definido como `tf.nn.relu`. Alterar o tamanho da camada oculta afeta a exatidão do teste? Adicionar uma segunda camada oculta aumenta a exatidão?\n",
        "\n",
        "### Exercício 3 – Altere os hiperparâmetros.\n",
        "\n",
        "Aumentar *o número de passos de treinamento*  aumenta a exatidão final? Você pode *alterar a taxa de aprendizado* para fazer seu modelo convergir mais rapidamente? O *tamanho do lote* do treinamento afeta o desempenho do modelo?\n",
        "\n",
        "### Exercício 4 – Tente usar um otimizador diferente.\n",
        "\n",
        "Substitua o GradientDescentOptimizer básico por um otimizador mais sofisticado, como [AdagradOptimizer](https://www.tensorflow.org/api_docs/python/tf/compat/v1/train/AdagradOptimizer). Isso faz alguma diferença no treinamento do modelo? Se você quiser saber mais sobre as vantagens de diferentes algoritmos de otimização, confira [esta postagem](http://ruder.io/optimizing-gradient-descent/)."
      ]
    },
    {
      "cell_type": "markdown",
      "metadata": {
        "id": "kdwVXO1eJS5-"
      },
      "source": [
        "## Quer aprender mais?\n",
        "\n",
        "Se você tiver interesse em uma versão mais avançada deste tutorial, confira o [tutorial de retreinamento de imagens do TensorFlow](https://www.tensorflow.org/hub/tutorials/image_retraining), que ensina como visualizar o treinamento usando o TensorBoard, técnicas avançadas, como ampliação do dataset por meio da distorção de imagens, e substituição do dataset Flowers para um classificador de imagens aprender com seu próprio dataset.\n",
        "\n",
        "Saiba mais sobre o TensorFlow em [tensorflow.org](http://tensorflow.org) e confira a documentação da API do TF Hub, disponível em [tensorflow.org/hub](https://www.tensorflow.org/hub/). Veja os módulos do TensorFlow Hub disponíveis em [tfhub.dev](http://tfhub.dev), incluindo outros módulos de vetor de características de imagens e módulos de embeddings de texto.\n",
        "\n",
        "Confira também o curso [Machine Learning Crash Course](https://developers.google.com/machine-learning/crash-course/), que é uma introdução prática e acelerada ao aprendizado de máquina do Google."
      ]
    }
  ],
  "metadata": {
    "colab": {
      "collapsed_sections": [
        "ScitaPqhKtuW"
      ],
      "name": "image_feature_vector.ipynb",
      "toc_visible": true
    },
    "kernelspec": {
      "display_name": "Python 3",
      "name": "python3"
    }
  },
  "nbformat": 4,
  "nbformat_minor": 0
}
